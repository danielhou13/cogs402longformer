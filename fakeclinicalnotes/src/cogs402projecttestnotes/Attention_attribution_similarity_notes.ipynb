{
  "cells": [
    {
      "cell_type": "markdown",
      "source": [
        "This notebook explores the relation between the model's attributions and attentions for a given example. Historically, we found that attentions are not a feasible method of explanation whereas attributions are, but attributions are also not part of a model's traditional outputs. Therefore it may be interesting to see if we can find anything with attentions by comparing them to a feasible and plausible method of explanation, attributions. Furthermore, we apply masking to various scenarios to examine the affects on the similarities between attribution and attention. \n",
        "\n",
        "This notebook creates and exports a few dictionaries and dataframes. Namely, the dictionary produced is the attributions so we do not have to recompute the attributions, as that takes a while. The Dataframes exported is a summary of results for every example that has been explored so far."
      ],
      "metadata": {
        "id": "mlqrlFd9SzDV"
      }
    },
    {
      "cell_type": "code",
      "source": [
        "from google.colab import drive\n",
        "drive.mount('/content/drive')"
      ],
      "metadata": {
        "colab": {
          "base_uri": "https://localhost:8080/"
        },
        "id": "4G07aiA37RC9",
        "outputId": "d90fa28a-8295-4e1b-da2c-c311a9d6182a"
      },
      "execution_count": null,
      "outputs": [
        {
          "output_type": "stream",
          "name": "stdout",
          "text": [
            "Mounted at /content/drive\n"
          ]
        }
      ]
    },
    {
      "cell_type": "markdown",
      "source": [
        "## Import dependencies"
      ],
      "metadata": {
        "id": "HkZ5bD2_z-0C"
      }
    },
    {
      "cell_type": "code",
      "source": [
        "pip install transformers --quiet"
      ],
      "metadata": {
        "id": "zMjzQIFJ2P_T",
        "colab": {
          "base_uri": "https://localhost:8080/"
        },
        "outputId": "6b17991c-dcb1-4bd9-adfa-239f3477d53c"
      },
      "execution_count": null,
      "outputs": [
        {
          "output_type": "stream",
          "name": "stdout",
          "text": [
            "\u001b[K     |████████████████████████████████| 4.4 MB 8.0 MB/s \n",
            "\u001b[K     |████████████████████████████████| 101 kB 13.1 MB/s \n",
            "\u001b[K     |████████████████████████████████| 596 kB 80.0 MB/s \n",
            "\u001b[K     |████████████████████████████████| 6.6 MB 54.2 MB/s \n",
            "\u001b[?25h"
          ]
        }
      ]
    },
    {
      "cell_type": "code",
      "source": [
        "pip install captum --quiet"
      ],
      "metadata": {
        "id": "Uno0qwr12UTd",
        "colab": {
          "base_uri": "https://localhost:8080/"
        },
        "outputId": "d0bf66ca-77fd-4843-8740-526b290fdfc0"
      },
      "execution_count": null,
      "outputs": [
        {
          "output_type": "stream",
          "name": "stdout",
          "text": [
            "\u001b[?25l\r\u001b[K     |▎                               | 10 kB 35.9 MB/s eta 0:00:01\r\u001b[K     |▌                               | 20 kB 21.1 MB/s eta 0:00:01\r\u001b[K     |▊                               | 30 kB 16.8 MB/s eta 0:00:01\r\u001b[K     |█                               | 40 kB 14.8 MB/s eta 0:00:01\r\u001b[K     |█▏                              | 51 kB 6.8 MB/s eta 0:00:01\r\u001b[K     |█▍                              | 61 kB 8.1 MB/s eta 0:00:01\r\u001b[K     |█▋                              | 71 kB 7.3 MB/s eta 0:00:01\r\u001b[K     |█▉                              | 81 kB 8.2 MB/s eta 0:00:01\r\u001b[K     |██                              | 92 kB 9.1 MB/s eta 0:00:01\r\u001b[K     |██▎                             | 102 kB 7.5 MB/s eta 0:00:01\r\u001b[K     |██▌                             | 112 kB 7.5 MB/s eta 0:00:01\r\u001b[K     |██▊                             | 122 kB 7.5 MB/s eta 0:00:01\r\u001b[K     |███                             | 133 kB 7.5 MB/s eta 0:00:01\r\u001b[K     |███▏                            | 143 kB 7.5 MB/s eta 0:00:01\r\u001b[K     |███▌                            | 153 kB 7.5 MB/s eta 0:00:01\r\u001b[K     |███▊                            | 163 kB 7.5 MB/s eta 0:00:01\r\u001b[K     |████                            | 174 kB 7.5 MB/s eta 0:00:01\r\u001b[K     |████▏                           | 184 kB 7.5 MB/s eta 0:00:01\r\u001b[K     |████▍                           | 194 kB 7.5 MB/s eta 0:00:01\r\u001b[K     |████▋                           | 204 kB 7.5 MB/s eta 0:00:01\r\u001b[K     |████▉                           | 215 kB 7.5 MB/s eta 0:00:01\r\u001b[K     |█████                           | 225 kB 7.5 MB/s eta 0:00:01\r\u001b[K     |█████▎                          | 235 kB 7.5 MB/s eta 0:00:01\r\u001b[K     |█████▌                          | 245 kB 7.5 MB/s eta 0:00:01\r\u001b[K     |█████▊                          | 256 kB 7.5 MB/s eta 0:00:01\r\u001b[K     |██████                          | 266 kB 7.5 MB/s eta 0:00:01\r\u001b[K     |██████▏                         | 276 kB 7.5 MB/s eta 0:00:01\r\u001b[K     |██████▍                         | 286 kB 7.5 MB/s eta 0:00:01\r\u001b[K     |██████▋                         | 296 kB 7.5 MB/s eta 0:00:01\r\u001b[K     |███████                         | 307 kB 7.5 MB/s eta 0:00:01\r\u001b[K     |███████▏                        | 317 kB 7.5 MB/s eta 0:00:01\r\u001b[K     |███████▍                        | 327 kB 7.5 MB/s eta 0:00:01\r\u001b[K     |███████▋                        | 337 kB 7.5 MB/s eta 0:00:01\r\u001b[K     |███████▉                        | 348 kB 7.5 MB/s eta 0:00:01\r\u001b[K     |████████                        | 358 kB 7.5 MB/s eta 0:00:01\r\u001b[K     |████████▎                       | 368 kB 7.5 MB/s eta 0:00:01\r\u001b[K     |████████▌                       | 378 kB 7.5 MB/s eta 0:00:01\r\u001b[K     |████████▊                       | 389 kB 7.5 MB/s eta 0:00:01\r\u001b[K     |█████████                       | 399 kB 7.5 MB/s eta 0:00:01\r\u001b[K     |█████████▏                      | 409 kB 7.5 MB/s eta 0:00:01\r\u001b[K     |█████████▍                      | 419 kB 7.5 MB/s eta 0:00:01\r\u001b[K     |█████████▋                      | 430 kB 7.5 MB/s eta 0:00:01\r\u001b[K     |█████████▉                      | 440 kB 7.5 MB/s eta 0:00:01\r\u001b[K     |██████████▏                     | 450 kB 7.5 MB/s eta 0:00:01\r\u001b[K     |██████████▍                     | 460 kB 7.5 MB/s eta 0:00:01\r\u001b[K     |██████████▋                     | 471 kB 7.5 MB/s eta 0:00:01\r\u001b[K     |██████████▉                     | 481 kB 7.5 MB/s eta 0:00:01\r\u001b[K     |███████████                     | 491 kB 7.5 MB/s eta 0:00:01\r\u001b[K     |███████████▎                    | 501 kB 7.5 MB/s eta 0:00:01\r\u001b[K     |███████████▌                    | 512 kB 7.5 MB/s eta 0:00:01\r\u001b[K     |███████████▊                    | 522 kB 7.5 MB/s eta 0:00:01\r\u001b[K     |████████████                    | 532 kB 7.5 MB/s eta 0:00:01\r\u001b[K     |████████████▏                   | 542 kB 7.5 MB/s eta 0:00:01\r\u001b[K     |████████████▍                   | 552 kB 7.5 MB/s eta 0:00:01\r\u001b[K     |████████████▋                   | 563 kB 7.5 MB/s eta 0:00:01\r\u001b[K     |████████████▉                   | 573 kB 7.5 MB/s eta 0:00:01\r\u001b[K     |█████████████                   | 583 kB 7.5 MB/s eta 0:00:01\r\u001b[K     |█████████████▎                  | 593 kB 7.5 MB/s eta 0:00:01\r\u001b[K     |█████████████▋                  | 604 kB 7.5 MB/s eta 0:00:01\r\u001b[K     |█████████████▉                  | 614 kB 7.5 MB/s eta 0:00:01\r\u001b[K     |██████████████                  | 624 kB 7.5 MB/s eta 0:00:01\r\u001b[K     |██████████████▎                 | 634 kB 7.5 MB/s eta 0:00:01\r\u001b[K     |██████████████▌                 | 645 kB 7.5 MB/s eta 0:00:01\r\u001b[K     |██████████████▊                 | 655 kB 7.5 MB/s eta 0:00:01\r\u001b[K     |███████████████                 | 665 kB 7.5 MB/s eta 0:00:01\r\u001b[K     |███████████████▏                | 675 kB 7.5 MB/s eta 0:00:01\r\u001b[K     |███████████████▍                | 686 kB 7.5 MB/s eta 0:00:01\r\u001b[K     |███████████████▋                | 696 kB 7.5 MB/s eta 0:00:01\r\u001b[K     |███████████████▉                | 706 kB 7.5 MB/s eta 0:00:01\r\u001b[K     |████████████████                | 716 kB 7.5 MB/s eta 0:00:01\r\u001b[K     |████████████████▎               | 727 kB 7.5 MB/s eta 0:00:01\r\u001b[K     |████████████████▌               | 737 kB 7.5 MB/s eta 0:00:01\r\u001b[K     |████████████████▊               | 747 kB 7.5 MB/s eta 0:00:01\r\u001b[K     |█████████████████               | 757 kB 7.5 MB/s eta 0:00:01\r\u001b[K     |█████████████████▎              | 768 kB 7.5 MB/s eta 0:00:01\r\u001b[K     |█████████████████▌              | 778 kB 7.5 MB/s eta 0:00:01\r\u001b[K     |█████████████████▊              | 788 kB 7.5 MB/s eta 0:00:01\r\u001b[K     |██████████████████              | 798 kB 7.5 MB/s eta 0:00:01\r\u001b[K     |██████████████████▏             | 808 kB 7.5 MB/s eta 0:00:01\r\u001b[K     |██████████████████▍             | 819 kB 7.5 MB/s eta 0:00:01\r\u001b[K     |██████████████████▋             | 829 kB 7.5 MB/s eta 0:00:01\r\u001b[K     |██████████████████▉             | 839 kB 7.5 MB/s eta 0:00:01\r\u001b[K     |███████████████████             | 849 kB 7.5 MB/s eta 0:00:01\r\u001b[K     |███████████████████▎            | 860 kB 7.5 MB/s eta 0:00:01\r\u001b[K     |███████████████████▌            | 870 kB 7.5 MB/s eta 0:00:01\r\u001b[K     |███████████████████▊            | 880 kB 7.5 MB/s eta 0:00:01\r\u001b[K     |████████████████████            | 890 kB 7.5 MB/s eta 0:00:01\r\u001b[K     |████████████████████▎           | 901 kB 7.5 MB/s eta 0:00:01\r\u001b[K     |████████████████████▌           | 911 kB 7.5 MB/s eta 0:00:01\r\u001b[K     |████████████████████▊           | 921 kB 7.5 MB/s eta 0:00:01\r\u001b[K     |█████████████████████           | 931 kB 7.5 MB/s eta 0:00:01\r\u001b[K     |█████████████████████▏          | 942 kB 7.5 MB/s eta 0:00:01\r\u001b[K     |█████████████████████▍          | 952 kB 7.5 MB/s eta 0:00:01\r\u001b[K     |█████████████████████▋          | 962 kB 7.5 MB/s eta 0:00:01\r\u001b[K     |█████████████████████▉          | 972 kB 7.5 MB/s eta 0:00:01\r\u001b[K     |██████████████████████          | 983 kB 7.5 MB/s eta 0:00:01\r\u001b[K     |██████████████████████▎         | 993 kB 7.5 MB/s eta 0:00:01\r\u001b[K     |██████████████████████▌         | 1.0 MB 7.5 MB/s eta 0:00:01\r\u001b[K     |██████████████████████▊         | 1.0 MB 7.5 MB/s eta 0:00:01\r\u001b[K     |███████████████████████         | 1.0 MB 7.5 MB/s eta 0:00:01\r\u001b[K     |███████████████████████▏        | 1.0 MB 7.5 MB/s eta 0:00:01\r\u001b[K     |███████████████████████▍        | 1.0 MB 7.5 MB/s eta 0:00:01\r\u001b[K     |███████████████████████▊        | 1.1 MB 7.5 MB/s eta 0:00:01\r\u001b[K     |████████████████████████        | 1.1 MB 7.5 MB/s eta 0:00:01\r\u001b[K     |████████████████████████▏       | 1.1 MB 7.5 MB/s eta 0:00:01\r\u001b[K     |████████████████████████▍       | 1.1 MB 7.5 MB/s eta 0:00:01\r\u001b[K     |████████████████████████▋       | 1.1 MB 7.5 MB/s eta 0:00:01\r\u001b[K     |████████████████████████▉       | 1.1 MB 7.5 MB/s eta 0:00:01\r\u001b[K     |█████████████████████████       | 1.1 MB 7.5 MB/s eta 0:00:01\r\u001b[K     |█████████████████████████▎      | 1.1 MB 7.5 MB/s eta 0:00:01\r\u001b[K     |█████████████████████████▌      | 1.1 MB 7.5 MB/s eta 0:00:01\r\u001b[K     |█████████████████████████▊      | 1.1 MB 7.5 MB/s eta 0:00:01\r\u001b[K     |██████████████████████████      | 1.2 MB 7.5 MB/s eta 0:00:01\r\u001b[K     |██████████████████████████▏     | 1.2 MB 7.5 MB/s eta 0:00:01\r\u001b[K     |██████████████████████████▍     | 1.2 MB 7.5 MB/s eta 0:00:01\r\u001b[K     |██████████████████████████▋     | 1.2 MB 7.5 MB/s eta 0:00:01\r\u001b[K     |███████████████████████████     | 1.2 MB 7.5 MB/s eta 0:00:01\r\u001b[K     |███████████████████████████▏    | 1.2 MB 7.5 MB/s eta 0:00:01\r\u001b[K     |███████████████████████████▍    | 1.2 MB 7.5 MB/s eta 0:00:01\r\u001b[K     |███████████████████████████▋    | 1.2 MB 7.5 MB/s eta 0:00:01\r\u001b[K     |███████████████████████████▉    | 1.2 MB 7.5 MB/s eta 0:00:01\r\u001b[K     |████████████████████████████    | 1.2 MB 7.5 MB/s eta 0:00:01\r\u001b[K     |████████████████████████████▎   | 1.3 MB 7.5 MB/s eta 0:00:01\r\u001b[K     |████████████████████████████▌   | 1.3 MB 7.5 MB/s eta 0:00:01\r\u001b[K     |████████████████████████████▊   | 1.3 MB 7.5 MB/s eta 0:00:01\r\u001b[K     |█████████████████████████████   | 1.3 MB 7.5 MB/s eta 0:00:01\r\u001b[K     |█████████████████████████████▏  | 1.3 MB 7.5 MB/s eta 0:00:01\r\u001b[K     |█████████████████████████████▍  | 1.3 MB 7.5 MB/s eta 0:00:01\r\u001b[K     |█████████████████████████████▋  | 1.3 MB 7.5 MB/s eta 0:00:01\r\u001b[K     |█████████████████████████████▉  | 1.3 MB 7.5 MB/s eta 0:00:01\r\u001b[K     |██████████████████████████████  | 1.3 MB 7.5 MB/s eta 0:00:01\r\u001b[K     |██████████████████████████████▍ | 1.4 MB 7.5 MB/s eta 0:00:01\r\u001b[K     |██████████████████████████████▋ | 1.4 MB 7.5 MB/s eta 0:00:01\r\u001b[K     |██████████████████████████████▉ | 1.4 MB 7.5 MB/s eta 0:00:01\r\u001b[K     |███████████████████████████████ | 1.4 MB 7.5 MB/s eta 0:00:01\r\u001b[K     |███████████████████████████████▎| 1.4 MB 7.5 MB/s eta 0:00:01\r\u001b[K     |███████████████████████████████▌| 1.4 MB 7.5 MB/s eta 0:00:01\r\u001b[K     |███████████████████████████████▊| 1.4 MB 7.5 MB/s eta 0:00:01\r\u001b[K     |████████████████████████████████| 1.4 MB 7.5 MB/s eta 0:00:01\r\u001b[K     |████████████████████████████████| 1.4 MB 7.5 MB/s \n",
            "\u001b[?25h"
          ]
        }
      ]
    },
    {
      "cell_type": "code",
      "source": [
        "pip install datasets --quiet"
      ],
      "metadata": {
        "id": "OaOSPMJE3ONc",
        "colab": {
          "base_uri": "https://localhost:8080/"
        },
        "outputId": "915452a7-7159-45ab-921c-23bc29f70086"
      },
      "execution_count": null,
      "outputs": [
        {
          "output_type": "stream",
          "name": "stdout",
          "text": [
            "\u001b[K     |████████████████████████████████| 365 kB 8.1 MB/s \n",
            "\u001b[K     |████████████████████████████████| 212 kB 86.0 MB/s \n",
            "\u001b[K     |████████████████████████████████| 140 kB 80.9 MB/s \n",
            "\u001b[K     |████████████████████████████████| 1.1 MB 68.8 MB/s \n",
            "\u001b[K     |████████████████████████████████| 127 kB 57.1 MB/s \n",
            "\u001b[K     |████████████████████████████████| 144 kB 57.9 MB/s \n",
            "\u001b[K     |████████████████████████████████| 271 kB 66.8 MB/s \n",
            "\u001b[K     |████████████████████████████████| 94 kB 4.3 MB/s \n",
            "\u001b[31mERROR: pip's dependency resolver does not currently take into account all the packages that are installed. This behaviour is the source of the following dependency conflicts.\n",
            "datascience 0.10.6 requires folium==0.2.1, but you have folium 0.8.3 which is incompatible.\u001b[0m\n",
            "\u001b[?25h"
          ]
        }
      ]
    },
    {
      "cell_type": "code",
      "source": [
        "pip install rbo --quiet"
      ],
      "metadata": {
        "id": "3JSZGAnsEjYU"
      },
      "execution_count": null,
      "outputs": []
    },
    {
      "cell_type": "code",
      "source": [
        "import os\n",
        "os.environ['CUDA_LAUNCH_BLOCKING'] = \"1\""
      ],
      "metadata": {
        "id": "hRSNYTrRIPkr"
      },
      "execution_count": null,
      "outputs": []
    },
    {
      "cell_type": "code",
      "execution_count": null,
      "metadata": {
        "id": "wrRRZJ6-0_Il"
      },
      "outputs": [],
      "source": [
        "from captum.attr import visualization as viz\n",
        "from captum.attr import IntegratedGradients, LayerConductance, LayerIntegratedGradients\n",
        "from captum.attr import configure_interpretable_embedding_layer, remove_interpretable_embedding_layer\n",
        "\n",
        "import torch\n",
        "import pandas as pd"
      ]
    },
    {
      "cell_type": "code",
      "execution_count": null,
      "metadata": {
        "id": "b5V31lsc0_Il"
      },
      "outputs": [],
      "source": [
        "device = torch.device(\"cuda:0\" if torch.cuda.is_available() else \"cpu\")"
      ]
    },
    {
      "cell_type": "markdown",
      "source": [
        "## Import model"
      ],
      "metadata": {
        "id": "USHRv2j70Fb4"
      }
    },
    {
      "cell_type": "markdown",
      "source": [
        "Replace model_path and tokenizer with the one for your own project"
      ],
      "metadata": {
        "id": "m8cSeJ2LiYVO"
      }
    },
    {
      "cell_type": "code",
      "execution_count": null,
      "metadata": {
        "id": "9nzBfB-v0_Im",
        "colab": {
          "base_uri": "https://localhost:8080/",
          "height": 252,
          "referenced_widgets": [
            "311086a5eec84f5c9a1af492f3d8835c",
            "c4b1145962b3480aad398d14562c177f",
            "9cff3eb12a354c8cb0cda1d100ca5247",
            "2c39e993ac994a8bad8c942a0e8ee4cd",
            "0ecd46b072bd450790cc0ebab9463d09",
            "0936fa6ed7cb4d6492077846c6bbad6a",
            "6f2d979ce48b48f791d0a434e232e8a8",
            "1d2a0599f3c544f784d9a32a68e35f14",
            "54ef30be260c47b0908b6ffd81b7c363",
            "9acb45d9d5d0499aab45bb368baaa01b",
            "3641848da8d54491949159d4b30dce62",
            "131ba96d76864a17845d6ae6f946bc88",
            "5e6cef21b24b499cb65324e7558e2b8c",
            "08b72be2ce80446ebf1a2cdf4e9f2a38",
            "07dfc0dbc176467fa39e136b8e482ded",
            "36dd5680f8b84f14b5032bac72148f71",
            "e18f798219834afb8f2b2c0d3dd2f3fc",
            "b083ee8e5ad448dda8d8ad584a684385",
            "9f88d7da7f904d8d80c1ac8904c9d3c9",
            "0f3da3faaa284952b7c246839609575d",
            "a3008f6f74bb47aebcd1ff7f79a5fd37",
            "11760ee203b84edba3cd3f7930a52ea5",
            "8f33de9ece0a440ea50e6a83c35641d5",
            "d4836dc026014ec3b8cbf42eb91ab7fd",
            "290093ab0345453a84beb4fbee115754",
            "d42e53cc21be472ea8a5fa65906b4220",
            "784fea1aec8c4aecb15dfd3ce4d7ed57",
            "918c58bf539f4fb285c237f2494a53c8",
            "19dc10dd42824547a9d54e6307382372",
            "0d51efc15b8e4e658b2c4cd700af02cf",
            "3a921751113d4279aa7e6ff66bcd9b38",
            "e02c33ade5c0471b9079017875a20c3b",
            "c24cda430d904b80bc7286725a938712",
            "f08e5c112d5b4453bf4e5e20dd02bf78",
            "4e374473cba04c39aaad9b252f076b97",
            "c274254ef60f402db169b80e9471bfd7",
            "3d92bafae5884e1bb54ac41166252468",
            "76d71809a22f4736a64fefa77e437bbc",
            "886dc2b695e140aab72008a9bb22502f",
            "79442c373bbc466a90777539485df9ca",
            "4d34beb29fed422e9e328efab2b4535c",
            "61ee77e4f1704e0585e4087ffa221fda",
            "b3299381d06b4542bbb8bb2b35bd6502",
            "21bee756b013431c9d7252fceecda0ec"
          ]
        },
        "outputId": "4df05deb-9266-467a-9b80-9abbb08b929f"
      },
      "outputs": [
        {
          "output_type": "display_data",
          "data": {
            "text/plain": [
              "Downloading:   0%|          | 0.00/694 [00:00<?, ?B/s]"
            ],
            "application/vnd.jupyter.widget-view+json": {
              "version_major": 2,
              "version_minor": 0,
              "model_id": "311086a5eec84f5c9a1af492f3d8835c"
            }
          },
          "metadata": {}
        },
        {
          "output_type": "display_data",
          "data": {
            "text/plain": [
              "Downloading:   0%|          | 0.00/570M [00:00<?, ?B/s]"
            ],
            "application/vnd.jupyter.widget-view+json": {
              "version_major": 2,
              "version_minor": 0,
              "model_id": "131ba96d76864a17845d6ae6f946bc88"
            }
          },
          "metadata": {}
        },
        {
          "output_type": "stream",
          "name": "stderr",
          "text": [
            "Some weights of the model checkpoint at allenai/longformer-base-4096 were not used when initializing LongformerForSequenceClassification: ['longformer_model.encoder.layer.1.attention.self.value_global.weight', 'longformer_model.encoder.layer.1.output.LayerNorm.bias', 'longformer_model.encoder.layer.0.attention.self.key_global.weight', 'longformer_model.encoder.layer.7.attention.self.key.weight', 'longformer_model.embeddings.position_ids', 'longformer_model.encoder.layer.4.attention.self.key.bias', 'longformer_model.encoder.layer.8.output.dense.weight', 'longformer_model.encoder.layer.9.attention.self.query.weight', 'longformer_model.encoder.layer.3.attention.self.value_global.weight', 'longformer_model.encoder.layer.1.attention.output.LayerNorm.bias', 'longformer_model.encoder.layer.0.output.dense.weight', 'longformer_model.encoder.layer.11.attention.self.query.bias', 'longformer_model.encoder.layer.1.attention.self.query_global.weight', 'longformer_model.encoder.layer.2.output.LayerNorm.weight', 'longformer_model.encoder.layer.1.output.LayerNorm.weight', 'longformer_model.encoder.layer.11.output.LayerNorm.bias', 'longformer_model.encoder.layer.4.attention.output.LayerNorm.weight', 'longformer_model.encoder.layer.4.intermediate.dense.bias', 'longformer_model.encoder.layer.0.output.LayerNorm.weight', 'longformer_model.encoder.layer.0.attention.self.query_global.weight', 'longformer_model.encoder.layer.1.attention.self.key.bias', 'longformer_model.encoder.layer.9.attention.self.value_global.bias', 'longformer_model.encoder.layer.7.output.LayerNorm.weight', 'longformer_model.encoder.layer.6.output.LayerNorm.weight', 'longformer_model.encoder.layer.8.attention.self.query_global.bias', 'longformer_model.encoder.layer.4.attention.self.value_global.bias', 'longformer_model.encoder.layer.9.attention.output.LayerNorm.weight', 'longformer_model.encoder.layer.4.output.LayerNorm.weight', 'longformer_model.encoder.layer.0.attention.output.dense.bias', 'longformer_model.encoder.layer.7.attention.output.LayerNorm.bias', 'longformer_model.encoder.layer.10.attention.output.dense.weight', 'longformer_model.encoder.layer.8.attention.output.dense.weight', 'longformer_model.encoder.layer.0.output.dense.bias', 'longformer_model.encoder.layer.4.attention.self.query_global.weight', 'longformer_model.encoder.layer.5.attention.self.key_global.bias', 'longformer_model.encoder.layer.3.attention.self.key_global.weight', 'longformer_model.encoder.layer.10.output.dense.weight', 'longformer_model.encoder.layer.7.attention.self.query_global.bias', 'longformer_model.encoder.layer.4.attention.self.query.weight', 'longformer_model.encoder.layer.0.attention.output.LayerNorm.weight', 'longformer_model.encoder.layer.6.attention.self.value_global.weight', 'longformer_model.encoder.layer.5.attention.self.query_global.bias', 'longformer_model.encoder.layer.1.output.dense.bias', 'longformer_model.encoder.layer.7.attention.self.value_global.bias', 'longformer_model.encoder.layer.3.attention.self.query_global.weight', 'longformer_model.encoder.layer.3.attention.self.key.weight', 'longformer_model.encoder.layer.10.attention.self.value_global.bias', 'longformer_model.encoder.layer.11.attention.self.query.weight', 'longformer_model.encoder.layer.7.output.LayerNorm.bias', 'longformer_model.encoder.layer.4.attention.output.LayerNorm.bias', 'longformer_model.encoder.layer.2.attention.output.dense.weight', 'longformer_model.encoder.layer.6.attention.self.key_global.weight', 'longformer_model.encoder.layer.3.attention.self.query.weight', 'longformer_model.encoder.layer.6.attention.self.key.weight', 'longformer_model.encoder.layer.8.attention.output.LayerNorm.weight', 'longformer_model.encoder.layer.8.attention.self.value.weight', 'longformer_model.encoder.layer.3.attention.self.value.weight', 'longformer_model.encoder.layer.6.attention.self.value.weight', 'longformer_model.encoder.layer.4.attention.output.dense.bias', 'longformer_model.encoder.layer.11.output.dense.bias', 'longformer_model.encoder.layer.0.intermediate.dense.bias', 'longformer_model.encoder.layer.9.attention.self.key_global.bias', 'longformer_model.encoder.layer.8.attention.self.query.bias', 'longformer_model.encoder.layer.9.attention.output.dense.bias', 'longformer_model.encoder.layer.7.intermediate.dense.weight', 'longformer_model.encoder.layer.9.attention.self.value.weight', 'longformer_model.embeddings.position_embeddings.weight', 'longformer_model.encoder.layer.3.attention.output.dense.bias', 'longformer_model.encoder.layer.4.attention.self.query.bias', 'longformer_model.encoder.layer.4.attention.self.query_global.bias', 'longformer_model.encoder.layer.5.attention.self.query.weight', 'longformer_model.encoder.layer.5.attention.output.dense.bias', 'longformer_model.encoder.layer.6.output.dense.weight', 'longformer_model.encoder.layer.10.intermediate.dense.weight', 'longformer_model.encoder.layer.8.attention.self.value.bias', 'longformer_model.encoder.layer.7.attention.output.dense.bias', 'longformer_model.encoder.layer.3.attention.output.dense.weight', 'longformer_model.encoder.layer.9.output.LayerNorm.bias', 'longformer_model.encoder.layer.9.intermediate.dense.bias', 'longformer_model.encoder.layer.9.attention.self.query.bias', 'longformer_model.encoder.layer.2.attention.self.query.weight', 'longformer_model.encoder.layer.2.attention.self.query_global.bias', 'longformer_model.encoder.layer.9.attention.self.value.bias', 'longformer_model.encoder.layer.11.attention.self.value.weight', 'longformer_model.encoder.layer.1.attention.self.query.bias', 'longformer_model.encoder.layer.5.attention.self.value.weight', 'longformer_model.encoder.layer.2.attention.output.dense.bias', 'longformer_model.encoder.layer.5.intermediate.dense.weight', 'longformer_model.encoder.layer.11.attention.output.LayerNorm.bias', 'longformer_model.encoder.layer.2.attention.self.key_global.weight', 'longformer_model.encoder.layer.5.attention.output.LayerNorm.weight', 'longformer_model.embeddings.token_type_embeddings.weight', 'longformer_model.encoder.layer.2.attention.self.query_global.weight', 'longformer_model.encoder.layer.2.attention.output.LayerNorm.bias', 'longformer_model.encoder.layer.8.attention.self.value_global.weight', 'longformer_model.encoder.layer.11.attention.self.key_global.bias', 'longformer_model.encoder.layer.1.attention.self.key_global.weight', 'longformer_model.encoder.layer.1.attention.self.query_global.bias', 'longformer_model.encoder.layer.4.attention.self.value.bias', 'longformer_model.encoder.layer.5.output.LayerNorm.bias', 'longformer_model.encoder.layer.3.attention.self.query_global.bias', 'longformer_model.encoder.layer.6.attention.self.key.bias', 'longformer_model.encoder.layer.9.attention.output.dense.weight', 'longformer_model.encoder.layer.11.intermediate.dense.weight', 'longformer_model.encoder.layer.7.attention.output.LayerNorm.weight', 'longformer_model.encoder.layer.0.output.LayerNorm.bias', 'longformer_model.encoder.layer.7.intermediate.dense.bias', 'longformer_model.encoder.layer.2.attention.self.query.bias', 'longformer_model.encoder.layer.1.attention.self.key.weight', 'longformer_model.encoder.layer.2.attention.self.value_global.weight', 'longformer_model.encoder.layer.5.attention.self.key.bias', 'longformer_model.encoder.layer.11.attention.self.query_global.bias', 'longformer_model.encoder.layer.2.attention.self.key_global.bias', 'longformer_model.encoder.layer.2.intermediate.dense.weight', 'longformer_model.encoder.layer.8.attention.self.query.weight', 'longformer_model.encoder.layer.7.attention.self.query.weight', 'longformer_model.encoder.layer.0.intermediate.dense.weight', 'longformer_model.encoder.layer.10.attention.self.key.bias', 'longformer_model.encoder.layer.7.attention.self.value_global.weight', 'longformer_model.encoder.layer.7.attention.self.key_global.bias', 'longformer_model.encoder.layer.1.attention.output.LayerNorm.weight', 'longformer_model.encoder.layer.1.attention.self.key_global.bias', 'longformer_model.encoder.layer.4.intermediate.dense.weight', 'longformer_model.encoder.layer.4.output.dense.bias', 'longformer_model.encoder.layer.5.attention.output.LayerNorm.bias', 'longformer_model.encoder.layer.5.attention.self.key_global.weight', 'longformer_model.encoder.layer.4.output.LayerNorm.bias', 'longformer_model.encoder.layer.1.attention.output.dense.bias', 'longformer_model.encoder.layer.0.attention.output.dense.weight', 'longformer_model.encoder.layer.11.output.dense.weight', 'dense.weight', 'longformer_model.encoder.layer.0.attention.self.query.weight', 'longformer_model.encoder.layer.1.attention.self.value_global.bias', 'longformer_model.encoder.layer.1.attention.self.value.weight', 'longformer_model.encoder.layer.5.attention.self.value_global.bias', 'longformer_model.embeddings.word_embeddings.weight', 'longformer_model.encoder.layer.2.output.dense.weight', 'longformer_model.encoder.layer.0.attention.self.query.bias', 'longformer_model.encoder.layer.5.attention.output.dense.weight', 'longformer_model.encoder.layer.1.attention.self.value.bias', 'longformer_model.encoder.layer.2.attention.self.key.bias', 'longformer_model.encoder.layer.9.attention.self.value_global.weight', 'longformer_model.encoder.layer.3.intermediate.dense.bias', 'longformer_model.encoder.layer.5.attention.self.key.weight', 'longformer_model.encoder.layer.7.attention.self.query.bias', 'longformer_model.encoder.layer.7.attention.self.key.bias', 'longformer_model.encoder.layer.4.attention.self.key_global.weight', 'longformer_model.encoder.layer.7.output.dense.weight', 'longformer_model.encoder.layer.1.intermediate.dense.weight', 'longformer_model.encoder.layer.8.attention.self.value_global.bias', 'longformer_model.encoder.layer.10.attention.output.LayerNorm.bias', 'longformer_model.encoder.layer.11.attention.output.dense.weight', 'longformer_model.encoder.layer.10.attention.self.value.bias', 'longformer_model.encoder.layer.2.attention.self.value.bias', 'longformer_model.encoder.layer.6.attention.output.dense.bias', 'longformer_model.encoder.layer.3.output.LayerNorm.bias', 'longformer_model.encoder.layer.4.attention.output.dense.weight', 'longformer_model.encoder.layer.3.attention.self.value_global.bias', 'longformer_model.encoder.layer.3.output.LayerNorm.weight', 'longformer_model.encoder.layer.0.attention.self.value.weight', 'longformer_model.encoder.layer.6.attention.output.LayerNorm.bias', 'longformer_model.encoder.layer.4.attention.self.key_global.bias', 'longformer_model.encoder.layer.1.intermediate.dense.bias', 'longformer_model.encoder.layer.9.attention.self.key.weight', 'longformer_model.encoder.layer.10.attention.self.key.weight', 'longformer_model.encoder.layer.7.output.dense.bias', 'longformer_model.encoder.layer.10.attention.output.dense.bias', 'longformer_model.encoder.layer.10.attention.self.value_global.weight', 'longformer_model.encoder.layer.10.attention.self.query_global.bias', 'longformer_model.encoder.layer.10.output.dense.bias', 'longformer_model.encoder.layer.0.attention.self.key.weight', 'longformer_model.encoder.layer.3.output.dense.weight', 'longformer_model.encoder.layer.6.intermediate.dense.bias', 'longformer_model.encoder.layer.8.attention.self.key_global.bias', 'longformer_model.encoder.layer.5.attention.self.query.bias', 'longformer_model.encoder.layer.5.intermediate.dense.bias', 'longformer_model.encoder.layer.3.attention.output.LayerNorm.weight', 'longformer_model.encoder.layer.11.attention.self.key.bias', 'longformer_model.encoder.layer.8.intermediate.dense.weight', 'longformer_model.encoder.layer.6.attention.output.dense.weight', 'longformer_model.encoder.layer.6.attention.self.key_global.bias', 'longformer_model.encoder.layer.6.intermediate.dense.weight', 'longformer_model.encoder.layer.7.attention.output.dense.weight', 'longformer_model.encoder.layer.6.attention.self.value_global.bias', 'longformer_model.encoder.layer.6.attention.output.LayerNorm.weight', 'longformer_model.encoder.layer.0.attention.self.value_global.bias', 'longformer_model.embeddings.LayerNorm.weight', 'longformer_model.encoder.layer.9.attention.self.query_global.weight', 'longformer_model.encoder.layer.7.attention.self.value.bias', 'longformer_model.encoder.layer.8.attention.self.key_global.weight', 'longformer_model.encoder.layer.8.attention.output.LayerNorm.bias', 'longformer_model.encoder.layer.9.attention.self.key_global.weight', 'longformer_model.encoder.layer.2.attention.output.LayerNorm.weight', 'longformer_model.encoder.layer.0.attention.self.key_global.bias', 'longformer_model.encoder.layer.2.attention.self.key.weight', 'longformer_model.encoder.layer.8.attention.self.key.bias', 'longformer_model.encoder.layer.10.intermediate.dense.bias', 'longformer_model.encoder.layer.11.intermediate.dense.bias', 'dense.bias', 'longformer_model.encoder.layer.3.attention.output.LayerNorm.bias', 'longformer_model.encoder.layer.8.output.LayerNorm.bias', 'longformer_model.encoder.layer.3.attention.self.key_global.bias', 'longformer_model.encoder.layer.6.attention.self.query.bias', 'longformer_model.encoder.layer.10.attention.self.key_global.bias', 'longformer_model.encoder.layer.7.attention.self.key_global.weight', 'longformer_model.encoder.layer.2.output.LayerNorm.bias', 'longformer_model.encoder.layer.1.attention.self.query.weight', 'longformer_model.encoder.layer.11.attention.self.query_global.weight', 'longformer_model.encoder.layer.5.attention.self.value_global.weight', 'longformer_model.encoder.layer.6.attention.self.query_global.weight', 'longformer_model.encoder.layer.2.intermediate.dense.bias', 'longformer_model.encoder.layer.6.attention.self.query_global.bias', 'longformer_model.encoder.layer.9.attention.output.LayerNorm.bias', 'longformer_model.encoder.layer.9.output.dense.weight', 'longformer_model.encoder.layer.10.output.LayerNorm.weight', 'longformer_model.encoder.layer.10.attention.self.value.weight', 'longformer_model.encoder.layer.8.output.dense.bias', 'longformer_model.encoder.layer.9.attention.self.query_global.bias', 'longformer_model.encoder.layer.3.attention.self.key.bias', 'longformer_model.encoder.layer.10.output.LayerNorm.bias', 'longformer_model.encoder.layer.11.attention.output.LayerNorm.weight', 'longformer_model.encoder.layer.3.attention.self.query.bias', 'longformer_model.encoder.layer.0.attention.self.key.bias', 'longformer_model.encoder.layer.3.attention.self.value.bias', 'longformer_model.encoder.layer.8.attention.self.query_global.weight', 'longformer_model.encoder.layer.5.attention.self.query_global.weight', 'longformer_model.encoder.layer.11.attention.output.dense.bias', 'longformer_model.encoder.layer.9.output.LayerNorm.weight', 'longformer_model.encoder.layer.1.attention.output.dense.weight', 'longformer_model.encoder.layer.2.attention.self.value_global.bias', 'longformer_model.encoder.layer.7.attention.self.value.weight', 'longformer_model.encoder.layer.10.attention.output.LayerNorm.weight', 'longformer_model.encoder.layer.11.attention.self.key_global.weight', 'fc.bias', 'longformer_model.encoder.layer.0.attention.output.LayerNorm.bias', 'longformer_model.encoder.layer.4.attention.self.key.weight', 'longformer_model.encoder.layer.11.attention.self.key.weight', 'longformer_model.encoder.layer.3.output.dense.bias', 'longformer_model.encoder.layer.0.attention.self.query_global.bias', 'longformer_model.encoder.layer.6.output.dense.bias', 'longformer_model.encoder.layer.11.attention.self.value_global.bias', 'longformer_model.encoder.layer.9.output.dense.bias', 'longformer_model.encoder.layer.11.attention.self.value_global.weight', 'longformer_model.encoder.layer.2.output.dense.bias', 'longformer_model.encoder.layer.5.output.dense.weight', 'longformer_model.encoder.layer.5.attention.self.value.bias', 'longformer_model.encoder.layer.4.attention.self.value_global.weight', 'longformer_model.encoder.layer.4.attention.self.value.weight', 'longformer_model.encoder.layer.8.attention.self.key.weight', 'longformer_model.encoder.layer.8.attention.output.dense.bias', 'fc.weight', 'longformer_model.encoder.layer.1.output.dense.weight', 'longformer_model.encoder.layer.6.output.LayerNorm.bias', 'longformer_model.encoder.layer.8.intermediate.dense.bias', 'longformer_model.encoder.layer.11.attention.self.value.bias', 'longformer_model.encoder.layer.4.output.dense.weight', 'longformer_model.encoder.layer.2.attention.self.value.weight', 'longformer_model.encoder.layer.10.attention.self.key_global.weight', 'longformer_model.encoder.layer.10.attention.self.query.bias', 'longformer_model.encoder.layer.6.attention.self.value.bias', 'longformer_model.encoder.layer.5.output.LayerNorm.weight', 'longformer_model.encoder.layer.11.output.LayerNorm.weight', 'longformer_model.embeddings.LayerNorm.bias', 'longformer_model.encoder.layer.0.attention.self.value.bias', 'longformer_model.encoder.layer.7.attention.self.query_global.weight', 'longformer_model.encoder.layer.5.output.dense.bias', 'longformer_model.encoder.layer.10.attention.self.query_global.weight', 'longformer_model.encoder.layer.3.intermediate.dense.weight', 'longformer_model.encoder.layer.6.attention.self.query.weight', 'longformer_model.encoder.layer.9.attention.self.key.bias', 'longformer_model.encoder.layer.9.intermediate.dense.weight', 'longformer_model.encoder.layer.8.output.LayerNorm.weight', 'longformer_model.encoder.layer.0.attention.self.value_global.weight', 'longformer_model.encoder.layer.10.attention.self.query.weight']\n",
            "- This IS expected if you are initializing LongformerForSequenceClassification from the checkpoint of a model trained on another task or with another architecture (e.g. initializing a BertForSequenceClassification model from a BertForPreTraining model).\n",
            "- This IS NOT expected if you are initializing LongformerForSequenceClassification from the checkpoint of a model that you expect to be exactly identical (initializing a BertForSequenceClassification model from a BertForSequenceClassification model).\n",
            "Some weights of LongformerForSequenceClassification were not initialized from the model checkpoint at allenai/longformer-base-4096 and are newly initialized: ['longformer.encoder.layer.3.attention.output.LayerNorm.weight', 'longformer.encoder.layer.3.output.dense.bias', 'longformer.encoder.layer.11.attention.self.query.weight', 'longformer.encoder.layer.4.output.dense.weight', 'longformer.encoder.layer.9.output.LayerNorm.weight', 'longformer.encoder.layer.4.attention.self.query_global.weight', 'longformer.encoder.layer.2.output.LayerNorm.weight', 'longformer.encoder.layer.10.attention.output.dense.bias', 'longformer.encoder.layer.7.intermediate.dense.weight', 'longformer.encoder.layer.5.output.LayerNorm.bias', 'longformer.encoder.layer.5.attention.self.query_global.bias', 'longformer.encoder.layer.1.attention.self.key_global.bias', 'longformer.encoder.layer.5.attention.self.query.bias', 'longformer.encoder.layer.8.attention.self.key.weight', 'longformer.encoder.layer.10.attention.self.query_global.weight', 'longformer.encoder.layer.11.attention.self.query_global.weight', 'longformer.embeddings.position_embeddings.weight', 'longformer.encoder.layer.0.attention.output.LayerNorm.weight', 'longformer.encoder.layer.9.attention.output.dense.weight', 'longformer.encoder.layer.9.output.dense.weight', 'longformer.encoder.layer.5.attention.self.key.weight', 'longformer.encoder.layer.8.attention.output.LayerNorm.bias', 'longformer.encoder.layer.7.attention.self.query.bias', 'longformer.encoder.layer.8.attention.self.query.bias', 'longformer.encoder.layer.2.attention.self.value_global.weight', 'longformer.encoder.layer.6.output.LayerNorm.weight', 'longformer.encoder.layer.8.attention.self.key_global.weight', 'longformer.encoder.layer.4.output.dense.bias', 'longformer.encoder.layer.6.attention.output.LayerNorm.weight', 'classifier.dense.weight', 'longformer.encoder.layer.1.intermediate.dense.bias', 'longformer.encoder.layer.2.output.LayerNorm.bias', 'longformer.encoder.layer.11.attention.output.dense.weight', 'longformer.encoder.layer.10.attention.output.LayerNorm.weight', 'longformer.encoder.layer.10.attention.self.value_global.weight', 'longformer.encoder.layer.0.attention.self.key.bias', 'longformer.encoder.layer.3.attention.self.key_global.bias', 'longformer.encoder.layer.7.attention.output.dense.weight', 'longformer.encoder.layer.6.output.dense.weight', 'longformer.encoder.layer.11.intermediate.dense.bias', 'longformer.encoder.layer.6.attention.self.value.bias', 'longformer.encoder.layer.0.attention.self.query.weight', 'longformer.encoder.layer.0.attention.output.dense.bias', 'longformer.encoder.layer.0.attention.self.query_global.weight', 'longformer.encoder.layer.0.attention.self.value.bias', 'longformer.embeddings.LayerNorm.bias', 'longformer.encoder.layer.2.attention.output.dense.bias', 'longformer.encoder.layer.3.attention.output.dense.bias', 'longformer.encoder.layer.5.attention.self.value_global.weight', 'longformer.encoder.layer.5.attention.output.dense.weight', 'longformer.encoder.layer.5.intermediate.dense.bias', 'longformer.encoder.layer.6.attention.self.query.bias', 'longformer.encoder.layer.3.attention.self.query_global.bias', 'longformer.encoder.layer.5.attention.output.LayerNorm.weight', 'longformer.encoder.layer.7.attention.self.value.weight', 'longformer.encoder.layer.11.attention.output.dense.bias', 'longformer.encoder.layer.2.attention.self.value.bias', 'longformer.encoder.layer.11.output.LayerNorm.weight', 'longformer.encoder.layer.10.attention.self.query.weight', 'longformer.encoder.layer.1.attention.self.value_global.weight', 'longformer.encoder.layer.2.attention.output.dense.weight', 'longformer.encoder.layer.9.attention.self.value_global.weight', 'longformer.encoder.layer.5.attention.self.key_global.weight', 'longformer.encoder.layer.0.attention.output.dense.weight', 'longformer.encoder.layer.2.output.dense.bias', 'longformer.encoder.layer.6.output.LayerNorm.bias', 'longformer.encoder.layer.8.attention.self.value.bias', 'longformer.encoder.layer.9.attention.output.dense.bias', 'longformer.encoder.layer.4.attention.self.query.weight', 'longformer.encoder.layer.11.output.LayerNorm.bias', 'longformer.encoder.layer.4.attention.self.key.weight', 'longformer.embeddings.word_embeddings.weight', 'longformer.encoder.layer.1.output.LayerNorm.weight', 'longformer.encoder.layer.8.attention.output.LayerNorm.weight', 'longformer.encoder.layer.4.attention.self.value.bias', 'longformer.encoder.layer.10.attention.self.key_global.weight', 'longformer.encoder.layer.8.intermediate.dense.bias', 'longformer.encoder.layer.1.attention.self.value.weight', 'longformer.encoder.layer.1.intermediate.dense.weight', 'longformer.encoder.layer.3.attention.self.query_global.weight', 'longformer.encoder.layer.7.output.dense.bias', 'longformer.encoder.layer.9.attention.self.value.weight', 'longformer.encoder.layer.4.attention.self.value.weight', 'longformer.encoder.layer.7.attention.self.query_global.weight', 'longformer.encoder.layer.4.output.LayerNorm.bias', 'classifier.out_proj.bias', 'longformer.encoder.layer.6.attention.self.value.weight', 'longformer.encoder.layer.7.output.dense.weight', 'longformer.encoder.layer.9.attention.self.value_global.bias', 'longformer.encoder.layer.7.attention.self.key_global.weight', 'longformer.encoder.layer.4.intermediate.dense.bias', 'longformer.encoder.layer.1.attention.self.query.bias', 'longformer.encoder.layer.8.output.LayerNorm.bias', 'longformer.encoder.layer.2.attention.self.query_global.weight', 'longformer.encoder.layer.9.output.dense.bias', 'longformer.encoder.layer.2.intermediate.dense.bias', 'longformer.encoder.layer.3.attention.output.dense.weight', 'longformer.encoder.layer.3.attention.self.query.weight', 'longformer.encoder.layer.6.attention.self.query_global.bias', 'longformer.encoder.layer.9.attention.self.value.bias', 'longformer.encoder.layer.8.attention.output.dense.weight', 'longformer.encoder.layer.11.attention.self.value.bias', 'longformer.encoder.layer.1.attention.self.query_global.bias', 'longformer.encoder.layer.1.attention.self.key_global.weight', 'longformer.encoder.layer.4.attention.self.key_global.bias', 'longformer.encoder.layer.2.attention.output.LayerNorm.bias', 'longformer.encoder.layer.8.intermediate.dense.weight', 'longformer.encoder.layer.3.intermediate.dense.weight', 'longformer.encoder.layer.3.output.LayerNorm.bias', 'longformer.encoder.layer.1.attention.self.query.weight', 'longformer.encoder.layer.9.attention.self.key_global.weight', 'longformer.encoder.layer.0.attention.output.LayerNorm.bias', 'longformer.encoder.layer.10.output.LayerNorm.bias', 'longformer.encoder.layer.5.output.LayerNorm.weight', 'longformer.encoder.layer.5.attention.output.LayerNorm.bias', 'longformer.encoder.layer.7.attention.self.value_global.weight', 'longformer.encoder.layer.8.output.dense.weight', 'longformer.encoder.layer.0.attention.self.value.weight', 'longformer.encoder.layer.7.attention.self.query_global.bias', 'longformer.encoder.layer.7.output.LayerNorm.bias', 'classifier.out_proj.weight', 'longformer.encoder.layer.6.attention.self.query_global.weight', 'longformer.encoder.layer.7.attention.self.query.weight', 'longformer.encoder.layer.0.output.LayerNorm.bias', 'longformer.encoder.layer.7.attention.output.LayerNorm.weight', 'longformer.encoder.layer.3.attention.self.key.bias', 'longformer.encoder.layer.11.intermediate.dense.weight', 'longformer.encoder.layer.6.intermediate.dense.weight', 'longformer.encoder.layer.0.intermediate.dense.weight', 'longformer.encoder.layer.5.attention.self.value_global.bias', 'longformer.encoder.layer.11.attention.output.LayerNorm.weight', 'longformer.encoder.layer.0.attention.self.key.weight', 'longformer.encoder.layer.2.attention.output.LayerNorm.weight', 'longformer.encoder.layer.10.attention.self.value.bias', 'longformer.encoder.layer.2.attention.self.value_global.bias', 'longformer.encoder.layer.10.output.dense.bias', 'longformer.encoder.layer.0.attention.self.key_global.bias', 'longformer.encoder.layer.4.attention.self.value_global.weight', 'longformer.encoder.layer.10.attention.self.value_global.bias', 'longformer.encoder.layer.4.attention.self.key_global.weight', 'longformer.encoder.layer.5.attention.self.key.bias', 'longformer.encoder.layer.6.attention.output.LayerNorm.bias', 'longformer.encoder.layer.3.attention.self.value_global.bias', 'longformer.encoder.layer.10.attention.output.dense.weight', 'longformer.encoder.layer.8.attention.self.value.weight', 'longformer.encoder.layer.11.attention.self.key_global.bias', 'longformer.encoder.layer.1.attention.self.value_global.bias', 'longformer.encoder.layer.1.attention.self.query_global.weight', 'longformer.encoder.layer.7.attention.output.LayerNorm.bias', 'longformer.encoder.layer.8.attention.self.key.bias', 'longformer.encoder.layer.11.attention.self.key.weight', 'longformer.encoder.layer.8.attention.self.query.weight', 'longformer.encoder.layer.1.attention.self.key.bias', 'longformer.encoder.layer.4.attention.output.LayerNorm.weight', 'longformer.encoder.layer.3.attention.self.value_global.weight', 'longformer.encoder.layer.11.attention.self.key_global.weight', 'longformer.encoder.layer.0.attention.self.query_global.bias', 'longformer.encoder.layer.1.attention.self.value.bias', 'longformer.encoder.layer.9.attention.self.query_global.bias', 'longformer.encoder.layer.10.attention.self.query.bias', 'longformer.encoder.layer.11.attention.self.query_global.bias', 'longformer.encoder.layer.2.attention.self.query_global.bias', 'longformer.encoder.layer.0.attention.self.value_global.weight', 'longformer.encoder.layer.8.output.dense.bias', 'longformer.encoder.layer.9.attention.output.LayerNorm.bias', 'longformer.encoder.layer.10.output.LayerNorm.weight', 'longformer.embeddings.token_type_embeddings.weight', 'longformer.encoder.layer.1.output.LayerNorm.bias', 'longformer.encoder.layer.10.attention.self.key.weight', 'longformer.encoder.layer.10.intermediate.dense.weight', 'classifier.dense.bias', 'longformer.encoder.layer.7.attention.self.key_global.bias', 'longformer.encoder.layer.10.attention.self.value.weight', 'longformer.encoder.layer.5.output.dense.bias', 'longformer.encoder.layer.1.attention.output.dense.weight', 'longformer.encoder.layer.8.attention.output.dense.bias', 'longformer.encoder.layer.8.attention.self.value_global.bias', 'longformer.encoder.layer.2.intermediate.dense.weight', 'longformer.encoder.layer.11.attention.self.value_global.weight', 'longformer.encoder.layer.3.attention.self.query.bias', 'longformer.encoder.layer.5.attention.self.key_global.bias', 'longformer.encoder.layer.3.attention.output.LayerNorm.bias', 'longformer.encoder.layer.6.attention.self.query.weight', 'longformer.encoder.layer.6.output.dense.bias', 'longformer.encoder.layer.7.attention.self.value_global.bias', 'longformer.encoder.layer.2.attention.self.key_global.bias', 'longformer.encoder.layer.6.attention.output.dense.weight', 'longformer.encoder.layer.9.attention.self.key.weight', 'longformer.encoder.layer.9.intermediate.dense.weight', 'longformer.encoder.layer.6.attention.self.key_global.bias', 'longformer.encoder.layer.0.output.dense.bias', 'longformer.encoder.layer.10.attention.output.LayerNorm.bias', 'longformer.encoder.layer.9.output.LayerNorm.bias', 'longformer.encoder.layer.2.attention.self.key.bias', 'longformer.encoder.layer.8.output.LayerNorm.weight', 'longformer.encoder.layer.11.attention.self.value_global.bias', 'longformer.encoder.layer.1.attention.output.LayerNorm.bias', 'longformer.encoder.layer.9.attention.self.query.bias', 'longformer.encoder.layer.5.attention.self.value.weight', 'longformer.encoder.layer.9.attention.output.LayerNorm.weight', 'longformer.encoder.layer.9.attention.self.key.bias', 'longformer.encoder.layer.9.attention.self.query.weight', 'longformer.encoder.layer.3.attention.self.value.weight', 'longformer.encoder.layer.4.attention.output.dense.weight', 'longformer.encoder.layer.0.output.dense.weight', 'longformer.encoder.layer.11.output.dense.bias', 'longformer.encoder.layer.10.attention.self.query_global.bias', 'longformer.encoder.layer.3.attention.self.value.bias', 'longformer.encoder.layer.3.output.LayerNorm.weight', 'longformer.encoder.layer.7.intermediate.dense.bias', 'longformer.encoder.layer.2.attention.self.query.weight', 'longformer.encoder.layer.3.intermediate.dense.bias', 'longformer.encoder.layer.9.attention.self.key_global.bias', 'longformer.encoder.layer.7.output.LayerNorm.weight', 'longformer.encoder.layer.0.attention.self.key_global.weight', 'longformer.encoder.layer.0.output.LayerNorm.weight', 'longformer.encoder.layer.5.attention.self.query.weight', 'longformer.encoder.layer.6.intermediate.dense.bias', 'longformer.encoder.layer.10.attention.self.key.bias', 'longformer.encoder.layer.0.attention.self.query.bias', 'longformer.encoder.layer.4.attention.self.query.bias', 'longformer.encoder.layer.6.attention.self.key.bias', 'longformer.encoder.layer.8.attention.self.query_global.weight', 'longformer.encoder.layer.4.attention.self.key.bias', 'longformer.encoder.layer.10.attention.self.key_global.bias', 'longformer.encoder.layer.0.attention.self.value_global.bias', 'longformer.encoder.layer.11.attention.self.key.bias', 'longformer.encoder.layer.8.attention.self.query_global.bias', 'longformer.encoder.layer.1.output.dense.bias', 'longformer.encoder.layer.7.attention.self.value.bias', 'longformer.encoder.layer.4.output.LayerNorm.weight', 'longformer.encoder.layer.6.attention.self.value_global.weight', 'longformer.encoder.layer.9.intermediate.dense.bias', 'longformer.embeddings.LayerNorm.weight', 'longformer.encoder.layer.4.attention.output.LayerNorm.bias', 'longformer.encoder.layer.2.attention.self.key_global.weight', 'longformer.encoder.layer.5.attention.output.dense.bias', 'longformer.encoder.layer.4.attention.output.dense.bias', 'longformer.encoder.layer.11.attention.self.value.weight', 'longformer.encoder.layer.7.attention.self.key.bias', 'longformer.encoder.layer.3.output.dense.weight', 'longformer.encoder.layer.0.intermediate.dense.bias', 'longformer.encoder.layer.4.intermediate.dense.weight', 'longformer.encoder.layer.11.attention.self.query.bias', 'longformer.encoder.layer.5.attention.self.query_global.weight', 'longformer.encoder.layer.11.output.dense.weight', 'longformer.encoder.layer.2.attention.self.value.weight', 'longformer.encoder.layer.5.output.dense.weight', 'longformer.encoder.layer.6.attention.self.key_global.weight', 'longformer.encoder.layer.6.attention.self.value_global.bias', 'longformer.encoder.layer.7.attention.output.dense.bias', 'longformer.encoder.layer.7.attention.self.key.weight', 'longformer.encoder.layer.5.intermediate.dense.weight', 'longformer.encoder.layer.1.attention.output.dense.bias', 'longformer.encoder.layer.9.attention.self.query_global.weight', 'longformer.encoder.layer.1.attention.self.key.weight', 'longformer.encoder.layer.2.output.dense.weight', 'longformer.encoder.layer.1.attention.output.LayerNorm.weight', 'longformer.encoder.layer.3.attention.self.key_global.weight', 'longformer.encoder.layer.10.output.dense.weight', 'longformer.encoder.layer.10.intermediate.dense.bias', 'longformer.encoder.layer.4.attention.self.query_global.bias', 'longformer.encoder.layer.4.attention.self.value_global.bias', 'longformer.encoder.layer.1.output.dense.weight', 'longformer.encoder.layer.5.attention.self.value.bias', 'longformer.encoder.layer.6.attention.output.dense.bias', 'longformer.encoder.layer.2.attention.self.query.bias', 'longformer.encoder.layer.8.attention.self.value_global.weight', 'longformer.encoder.layer.6.attention.self.key.weight', 'longformer.encoder.layer.2.attention.self.key.weight', 'longformer.encoder.layer.3.attention.self.key.weight', 'longformer.encoder.layer.11.attention.output.LayerNorm.bias', 'longformer.encoder.layer.8.attention.self.key_global.bias']\n",
            "You should probably TRAIN this model on a down-stream task to be able to use it for predictions and inference.\n"
          ]
        },
        {
          "output_type": "display_data",
          "data": {
            "text/plain": [
              "Downloading:   0%|          | 0.00/878k [00:00<?, ?B/s]"
            ],
            "application/vnd.jupyter.widget-view+json": {
              "version_major": 2,
              "version_minor": 0,
              "model_id": "8f33de9ece0a440ea50e6a83c35641d5"
            }
          },
          "metadata": {}
        },
        {
          "output_type": "display_data",
          "data": {
            "text/plain": [
              "Downloading:   0%|          | 0.00/446k [00:00<?, ?B/s]"
            ],
            "application/vnd.jupyter.widget-view+json": {
              "version_major": 2,
              "version_minor": 0,
              "model_id": "f08e5c112d5b4453bf4e5e20dd02bf78"
            }
          },
          "metadata": {}
        }
      ],
      "source": [
        "from transformers import LongformerForSequenceClassification, LongformerTokenizer, LongformerConfig\n",
        "\n",
        "model_path = 'danielhou13/longformer-finetuned_papers_v2'\n",
        "#model_path = 'danielhou13/longformer-finetuned-new-cogs402'\n",
        "\n",
        "# load model\n",
        "test = torch.load(\"/content/drive/MyDrive/cogs402longformer/fakeclinicalnotes/models/full_augmented_lr2e-5_dropout3_10_trained_threshold.pt\")\n",
        "model = LongformerForSequenceClassification.from_pretrained('allenai/longformer-base-4096', state_dict=test['state_dict'], num_labels = 2)\n",
        "model.to(device)\n",
        "model.eval()\n",
        "model.zero_grad()\n",
        "\n",
        "# load tokenizer\n",
        "tokenizer = LongformerTokenizer.from_pretrained(\"allenai/longformer-base-4096\")"
      ]
    },
    {
      "cell_type": "code",
      "execution_count": null,
      "metadata": {
        "id": "vAAjmDRl0_In"
      },
      "outputs": [],
      "source": [
        "ref_token_id = tokenizer.pad_token_id # A token used for generating token reference\n",
        "sep_token_id = tokenizer.sep_token_id # A token used as a separator between question and text and it is also added to the end of the text.\n",
        "cls_token_id = tokenizer.cls_token_id # A token used for prepending to the concatenated question-text word sequence"
      ]
    },
    {
      "cell_type": "markdown",
      "source": [
        "##Import Dataset"
      ],
      "metadata": {
        "id": "BdY6GsO00RG_"
      }
    },
    {
      "cell_type": "markdown",
      "source": [
        "Here we import the papers dataset"
      ],
      "metadata": {
        "id": "e_gGIPpwkmbH"
      }
    },
    {
      "cell_type": "code",
      "execution_count": null,
      "metadata": {
        "id": "w6aQM9nM0_Ip",
        "colab": {
          "base_uri": "https://localhost:8080/",
          "height": 261,
          "referenced_widgets": [
            "379a9688f7784bd1b8d212aa2b903598",
            "f68931be2ee54e3bb62871424f6e13c0",
            "1837ee5ed4504e5d8014cf77eeea36cc",
            "a91f47d80c19415ab4a184448ef852d0",
            "8a9f847b71714ef39008d8f0a78c4a26",
            "6d2cc49a4a09423abb96c2caa2266989",
            "6134e033d00745b7972bdf1ba22839ec",
            "d69d0c0525274f38acf9590d364e139b",
            "d9ef333b595d4adda373b77bcfc767c3",
            "369893d794b045f0922d3b5e8634656b",
            "b898f83f8db140f0944c2a70df5edf3c",
            "966104eef655412fb871728761bf36b5",
            "c88f5811baac4716831e54a92b5580a0",
            "a54c2b5017f34759a4eedf97c5b6f9b9",
            "0049af3dcf7b482f8fac8a8b8af2d217",
            "bc57af67a2994998b95c6615ecdf87de",
            "e66b950dd8e246fb83abb22bedbe749d",
            "0eebeeac4b414d45bed53b6556152235",
            "b5615da6766c4148b1732e5e16487e63",
            "176c1097356a40c09cbf8232966d71bc",
            "6c08d07dc85f46149aa27ac923eb4397",
            "6004d9baa028416e81522f24d62f4311",
            "e69e704959744eb4bcbd31041f5e9206",
            "454e9649beed438ea74a8833302b8eca",
            "3502b388a9b24c7eaf7129852fc0a25a",
            "9514ea0701f745538dd51a17df51a3b7",
            "5cd3f012797c477eaf1fa806e52402f2",
            "0cdda3cd77af40a8a2d824e3eac5846a",
            "a1e55df945ce45e5805a5f35ac4e6581",
            "bb5c9c32d32545ed828ef138ccd4868d",
            "a4ec1f0263774b809546dcd015b8511c",
            "af47c0641775425ba7a7c83e71b4d8eb",
            "93398bf37b9345c7b21c642363105520",
            "b1245c7eb2b84623b163b80149cef02c",
            "f54c565bffcf4857bba01963ee9504a8",
            "63ec03c0b7ff451b8fac89d1633ed45b",
            "e5e58ed61b494e789f657cec4a844504",
            "b69f319bb80244dcaa6e52ce284a247b",
            "cb84269f27284a2ca1cdae02db521671",
            "fddb8f532955459a85aa338f4893fb9f",
            "cee30347c86c4be8b9ec994e858b9731",
            "294e05395d5b432086cdd4d99c0e4c9b",
            "80c070c25edf48cfa05baf6554b43c65",
            "ad8023e5c6ae48db82dd71d1c284ee39",
            "54ce059945034595b7d2f457b79008ec",
            "e988eca41361463d901b061fd66934db",
            "37fc16795c8e424f890edd8ec114b35e",
            "2993ae1761264cb7b4a0067335a48c7a",
            "b8cb0144e9b54cb5ba29c53c41104877",
            "224ad6c61b034ffe83a80eb3f229b529",
            "370df82a8e834431911395a086d15d90",
            "4604b26588934810a0844d6f45f84358",
            "655eaeaafa2a4df88a901c8d912d5086",
            "68d3d04902ac4426ba55c0b95c943391",
            "8a91e2eb1a6f450d81eee3394c6f39e3",
            "aa8b7412d0c94b21bbbfae6a82d86097",
            "53e815a7e05e420daa60d9cc05509e1e",
            "22e42b762fb34a12a0ea314b22b6464d",
            "31990a468461462a96bb88678c056bf0",
            "e4992d6d0c2a459bae5f86c3de9af481",
            "9d5759a099b145829722467360e29504",
            "a49b3a5c74384c2a8c021626856b0fc3",
            "45d6574559064f99a1e211c8f9d89c70",
            "68c83139161d4953a6ecdfdf7ef84315",
            "178c0f8b805b46249ecf6108751436b4",
            "26f00a7a34dd44ac99aa523a31cf86fe",
            "96c57ac0b4444e9d82935cf35bd1d8d1",
            "0165042e14474f60b42acb6ba8a5780f",
            "60f43b423a1844c5988cb7a57385cbda",
            "a1e28f785dcd4466a9cdccf92ee20763",
            "31aaab3d43b146d39c427b66dc59a846",
            "50364b851dd348098d8230704a623a06",
            "bf643bbaec164610a0051e75cd577667",
            "4fab34c12c554367a524c27901c06ae4",
            "947a926c6d464620974a9eb15ec6425d",
            "774f02d03dea4611b16a634100603cd3",
            "891304875d66455db484f2054abaabc4",
            "fa22551302fe4194a204b9fded8288fc",
            "748f4df3d8144b32a16a01673b3bf188",
            "955ed55fa37448a08f78445f862a6272",
            "fb8ec3c0f4c24da9a7f3608a29ba9b07",
            "0dd6aecf182e435bb1085c45701c75f2",
            "47b6a5afdda94cf39786143df4acd016",
            "db1af292726e4352b1d395a0e1e448c5",
            "792e006063bb4a2b8160a7ae49eadcab",
            "a910a369ec4149a8ad52ef3d9a1c296c",
            "6eff16ab72db4443802fa5e8f2cb67a7",
            "a688888087a74610a7536b791453ad74"
          ]
        },
        "outputId": "27309ea7-ae86-4162-922d-c336da110103"
      },
      "outputs": [
        {
          "output_type": "display_data",
          "data": {
            "text/plain": [
              "Downloading:   0%|          | 0.00/739 [00:00<?, ?B/s]"
            ],
            "application/vnd.jupyter.widget-view+json": {
              "version_major": 2,
              "version_minor": 0,
              "model_id": "379a9688f7784bd1b8d212aa2b903598"
            }
          },
          "metadata": {}
        },
        {
          "output_type": "stream",
          "name": "stderr",
          "text": [
            "Using custom data configuration danielhou13--cogs402dataset-144b958ac1a53abb\n"
          ]
        },
        {
          "output_type": "stream",
          "name": "stdout",
          "text": [
            "Downloading and preparing dataset None/None (download: 157.87 MiB, generated: 311.56 MiB, post-processed: Unknown size, total: 469.43 MiB) to /root/.cache/huggingface/datasets/danielhou13___parquet/danielhou13--cogs402dataset-144b958ac1a53abb/0.0.0/2a3b91fbd88a2c90d1dbbb32b460cf621d31bd5b05b934492fdef7d8d6f236ec...\n"
          ]
        },
        {
          "output_type": "display_data",
          "data": {
            "text/plain": [
              "Downloading data files:   0%|          | 0/2 [00:00<?, ?it/s]"
            ],
            "application/vnd.jupyter.widget-view+json": {
              "version_major": 2,
              "version_minor": 0,
              "model_id": "966104eef655412fb871728761bf36b5"
            }
          },
          "metadata": {}
        },
        {
          "output_type": "display_data",
          "data": {
            "text/plain": [
              "Downloading data:   0%|          | 0.00/33.6M [00:00<?, ?B/s]"
            ],
            "application/vnd.jupyter.widget-view+json": {
              "version_major": 2,
              "version_minor": 0,
              "model_id": "e69e704959744eb4bcbd31041f5e9206"
            }
          },
          "metadata": {}
        },
        {
          "output_type": "display_data",
          "data": {
            "text/plain": [
              "Downloading data:   0%|          | 0.00/132M [00:00<?, ?B/s]"
            ],
            "application/vnd.jupyter.widget-view+json": {
              "version_major": 2,
              "version_minor": 0,
              "model_id": "b1245c7eb2b84623b163b80149cef02c"
            }
          },
          "metadata": {}
        },
        {
          "output_type": "display_data",
          "data": {
            "text/plain": [
              "Extracting data files:   0%|          | 0/2 [00:00<?, ?it/s]"
            ],
            "application/vnd.jupyter.widget-view+json": {
              "version_major": 2,
              "version_minor": 0,
              "model_id": "54ce059945034595b7d2f457b79008ec"
            }
          },
          "metadata": {}
        },
        {
          "output_type": "display_data",
          "data": {
            "text/plain": [
              "0 tables [00:00, ? tables/s]"
            ],
            "application/vnd.jupyter.widget-view+json": {
              "version_major": 2,
              "version_minor": 0,
              "model_id": "aa8b7412d0c94b21bbbfae6a82d86097"
            }
          },
          "metadata": {}
        },
        {
          "output_type": "display_data",
          "data": {
            "text/plain": [
              "0 tables [00:00, ? tables/s]"
            ],
            "application/vnd.jupyter.widget-view+json": {
              "version_major": 2,
              "version_minor": 0,
              "model_id": "96c57ac0b4444e9d82935cf35bd1d8d1"
            }
          },
          "metadata": {}
        },
        {
          "output_type": "stream",
          "name": "stdout",
          "text": [
            "Dataset parquet downloaded and prepared to /root/.cache/huggingface/datasets/danielhou13___parquet/danielhou13--cogs402dataset-144b958ac1a53abb/0.0.0/2a3b91fbd88a2c90d1dbbb32b460cf621d31bd5b05b934492fdef7d8d6f236ec. Subsequent calls will reuse this data.\n"
          ]
        },
        {
          "output_type": "display_data",
          "data": {
            "text/plain": [
              "  0%|          | 0/2 [00:00<?, ?it/s]"
            ],
            "application/vnd.jupyter.widget-view+json": {
              "version_major": 2,
              "version_minor": 0,
              "model_id": "fa22551302fe4194a204b9fded8288fc"
            }
          },
          "metadata": {}
        }
      ],
      "source": [
        "from datasets import load_dataset\n",
        "import numpy as np\n",
        "# cogs402_ds = load_dataset(\"danielhou13/cogs402datafake\")[\"train\"]\n",
        "\n",
        "ds = pd.read_csv(\"/content/drive/MyDrive/cogs402longformer/fakeclinicalnotes/data/fake_notes.csv\")\n",
        "dataset = datasets.Dataset.from_pandas(ds)\n",
        "cogs402_ds = dataset"
      ]
    },
    {
      "cell_type": "markdown",
      "source": [
        "Here we import the news dataset"
      ],
      "metadata": {
        "id": "bHUUw096r-EL"
      }
    },
    {
      "cell_type": "code",
      "source": [
        "# cogs402_ds2 = load_dataset('hyperpartisan_news_detection', 'bypublisher')['validation']\n",
        "# val_size = 5000\n",
        "# val_indices = np.random.randint(0, len(cogs402_ds2), val_size)\n",
        "# val_ds = cogs402_ds2.select(val_indices)\n",
        "# labels2 = map(int, val_ds['hyperpartisan'])\n",
        "# labels2 = list(labels2)\n",
        "# val_ds = val_ds.add_column(\"labels\", labels2)"
      ],
      "metadata": {
        "id": "58zzpZYRWRDj"
      },
      "execution_count": null,
      "outputs": []
    },
    {
      "cell_type": "markdown",
      "source": [
        "## Get Attributions"
      ],
      "metadata": {
        "id": "E6JZ8NnpkWaW"
      }
    },
    {
      "cell_type": "markdown",
      "source": [
        "We need to create a custom forward function for use in our [Integrated Gradients](https://arxiv.org/abs/1703.01365) functions. Specifially the output we want from the forward pass of the model is the softmaxed logits, which indicate the probabilities of predicting each class for the given example."
      ],
      "metadata": {
        "id": "lbDkqLtxkqm7"
      }
    },
    {
      "cell_type": "code",
      "execution_count": null,
      "metadata": {
        "id": "y5-heo2y0_Im"
      },
      "outputs": [],
      "source": [
        "def predict(inputs, position_ids=None, attention_mask=None):\n",
        "    output = model(inputs,\n",
        "                   position_ids=position_ids,\n",
        "                   attention_mask=attention_mask)\n",
        "    return output.logits"
      ]
    },
    {
      "cell_type": "code",
      "execution_count": null,
      "metadata": {
        "id": "axwpHq-y0_Io"
      },
      "outputs": [],
      "source": [
        "#set 1 if we are dealing with a positive class, and 0 if dealing with negative class\n",
        "def custom_forward(inputs, position_ids=None, attention_mask=None):\n",
        "    preds = predict(inputs,\n",
        "                   position_ids=position_ids,\n",
        "                   attention_mask=attention_mask\n",
        "                   )\n",
        "    return torch.softmax(preds, dim = 1)"
      ]
    },
    {
      "cell_type": "markdown",
      "source": [
        "To get the attributions, we perform Integrated Gradients using the model's embeddings and pass in our custom forward function."
      ],
      "metadata": {
        "id": "bQaYaSDf0buh"
      }
    },
    {
      "cell_type": "code",
      "execution_count": null,
      "metadata": {
        "id": "4uDuDrip0_Ip"
      },
      "outputs": [],
      "source": [
        "lig = LayerIntegratedGradients(custom_forward, model.longformer.embeddings)"
      ]
    },
    {
      "cell_type": "markdown",
      "source": [
        "Here we pick out the example we want to compare the attributions and the attentions for. You should either pick this example at random, or if another part of your project has given some interesting results, you can use that example."
      ],
      "metadata": {
        "id": "FDsOdYGhlzOk"
      }
    },
    {
      "cell_type": "code",
      "source": [
        "example = 7\n",
        "text = cogs402_ds['text'][example]\n",
        "label = cogs402_ds['labels'][example]"
      ],
      "metadata": {
        "id": "Cjdh0g6UedZo"
      },
      "execution_count": null,
      "outputs": []
    },
    {
      "cell_type": "markdown",
      "source": [
        "Create functions that give us the input ids and the position ids for the text we want to examine. Furthermore, it also returns the baselines we want for integrated gradients. In this case, every token in our baseline, is a padding token."
      ],
      "metadata": {
        "id": "bqbvfvXv0VTp"
      }
    },
    {
      "cell_type": "code",
      "execution_count": null,
      "metadata": {
        "id": "UgBSBpz-0_In"
      },
      "outputs": [],
      "source": [
        "max_length = 2046\n",
        "def construct_input_ref_pair(text, ref_token_id, sep_token_id, cls_token_id):\n",
        "\n",
        "    text_ids = tokenizer.encode(text, truncation = True, add_special_tokens=False, max_length = max_length)\n",
        "    # construct input token ids\n",
        "    input_ids = [cls_token_id] + text_ids + [sep_token_id]\n",
        "    # construct reference token ids \n",
        "\n",
        "    ref_input_ids = [cls_token_id] + [ref_token_id] * len(text_ids) + [sep_token_id]\n",
        "\n",
        "    return torch.tensor([input_ids], device=device), torch.tensor([ref_input_ids], device=device), len(text_ids)\n",
        "\n",
        "def construct_input_ref_pos_id_pair(input_ids):\n",
        "    seq_length = input_ids.size(1)\n",
        "\n",
        "    #taken from the longformer implementation\n",
        "    mask = input_ids.ne(ref_token_id).int()\n",
        "    incremental_indices = torch.cumsum(mask, dim=1).type_as(mask) * mask\n",
        "    position_ids = incremental_indices.long().squeeze() + ref_token_id\n",
        "\n",
        "    # we could potentially also use random permutation with `torch.randperm(seq_length, device=device)`\n",
        "    ref_position_ids = torch.zeros(seq_length, dtype=torch.long, device=device)\n",
        "\n",
        "    position_ids = position_ids.unsqueeze(0).expand_as(input_ids)\n",
        "    ref_position_ids = ref_position_ids.unsqueeze(0).expand_as(input_ids)\n",
        "    return position_ids, ref_position_ids\n",
        "    \n",
        "def construct_attention_mask(input_ids):\n",
        "    return torch.ones_like(input_ids)"
      ]
    },
    {
      "cell_type": "code",
      "source": [
        "all_tokens = {}"
      ],
      "metadata": {
        "id": "Sjtwg1l3tPN6"
      },
      "execution_count": null,
      "outputs": []
    },
    {
      "cell_type": "markdown",
      "source": [
        "We get the inputs, position_ids and the mask along with the baselines. We store the tokens in the dictionary created above for access in future functions."
      ],
      "metadata": {
        "id": "WfvfULmul-94"
      }
    },
    {
      "cell_type": "code",
      "source": [
        "input_ids, ref_input_ids, sep_id = construct_input_ref_pair(text, ref_token_id, sep_token_id, cls_token_id)\n",
        "position_ids, ref_position_ids = construct_input_ref_pos_id_pair(input_ids)\n",
        "attention_mask = construct_attention_mask(input_ids)\n",
        "\n",
        "indices = input_ids[0].detach().tolist()\n",
        "all_tokens_curr = tokenizer.convert_ids_to_tokens(indices)\n",
        "\n",
        "all_tokens[str(example)] = all_tokens_curr"
      ],
      "metadata": {
        "id": "YAYkF91sY6hm"
      },
      "execution_count": null,
      "outputs": []
    },
    {
      "cell_type": "markdown",
      "source": [
        "The attributions returned has very high dimensionality and we just want a single number for every token in our example, so we sum over the last dimension and squeeze the result to get an array of shape (seq_len). You may notice that we are not normalizing the attributions here. It's okay because we will normalize it later."
      ],
      "metadata": {
        "id": "PUgPFxRGmIS2"
      }
    },
    {
      "cell_type": "code",
      "execution_count": null,
      "metadata": {
        "id": "lIeE9P7b0_Ir"
      },
      "outputs": [],
      "source": [
        "def summarize_attributions(attributions):\n",
        "    attributions = attributions.sum(dim=-1).squeeze(0)\n",
        "    return attributions"
      ]
    },
    {
      "cell_type": "code",
      "source": [
        "print(attention_mask.shape)"
      ],
      "metadata": {
        "colab": {
          "base_uri": "https://localhost:8080/"
        },
        "id": "_kReZlLzXw7E",
        "outputId": "ae3893b1-2c39-42c0-aab3-c533d84340ca"
      },
      "execution_count": null,
      "outputs": [
        {
          "output_type": "stream",
          "name": "stdout",
          "text": [
            "torch.Size([1, 2048])\n"
          ]
        }
      ]
    },
    {
      "cell_type": "markdown",
      "source": [
        "For use in later functions, we want to store the attributions we find along with their respective tokens."
      ],
      "metadata": {
        "id": "Le5eAm_clalX"
      }
    },
    {
      "cell_type": "code",
      "source": [
        "all_attributions = {}"
      ],
      "metadata": {
        "id": "wf1SNgF73l1K"
      },
      "execution_count": null,
      "outputs": []
    },
    {
      "cell_type": "markdown",
      "source": [
        "On the other hand, if you have a dictionary of attributions already saved, you can import it as follows. Replace the path with a path to your own dictionary."
      ],
      "metadata": {
        "id": "t5vrw1yFlrT1"
      }
    },
    {
      "cell_type": "code",
      "source": [
        "# all_attributions = torch.load('/content/drive/MyDrive/cogs402longformer/results/papers/papers_attributions/example_attrib_dict.pt')"
      ],
      "metadata": {
        "id": "g4nc7qSvUedJ"
      },
      "execution_count": null,
      "outputs": []
    },
    {
      "cell_type": "markdown",
      "source": [
        "This function is where we perform Integrated Gradients, sum the attributions and store the result in the dictionary. We can also save the dictionary if we require. If you have already loaded your attributions, you can skip this step.\n",
        "\n",
        "Note: the attributions will be with respect to the positive class, meaning positive attributions have more influence in the model predicting positive and negative attributions will be more influential in predicting negative."
      ],
      "metadata": {
        "id": "n2Xp75N0rtqa"
      }
    },
    {
      "cell_type": "code",
      "source": [
        "attributions, delta = lig.attribute(inputs=input_ids,\n",
        "                                  baselines=ref_input_ids,\n",
        "                                  return_convergence_delta=True,\n",
        "                                  additional_forward_args=(position_ids, attention_mask),\n",
        "                                  target=1,\n",
        "                                  n_steps=1500,\n",
        "                                  internal_batch_size = 2)\n",
        "\n",
        "attributions_sum = summarize_attributions(attributions)\n",
        "\n",
        "all_attributions[str(example)] = attributions_sum.detach().cpu().numpy()"
      ],
      "metadata": {
        "id": "BSI1Azc2SxvL"
      },
      "execution_count": null,
      "outputs": []
    },
    {
      "cell_type": "code",
      "source": [
        "# torch.save(all_attributions, '/content/drive/MyDrive/cogs402longformer/results/papers/papers_attributions/example_attrib_dict.pt')"
      ],
      "metadata": {
        "id": "Dvsiq5chRqca"
      },
      "execution_count": null,
      "outputs": []
    },
    {
      "cell_type": "markdown",
      "source": [
        "## Grabbing the attentions"
      ],
      "metadata": {
        "id": "BeV2LdWOnMnj"
      }
    },
    {
      "cell_type": "markdown",
      "source": [
        "We then get the attentions and global attentions so we can compare with the attributions. We stack the attention to get a tensor of shape: (layer, batch, head, seq_len, x + attention_window + 1) and a tensor of shape (layer, batch, head, seq_len, x) where x is the number of global attention tokens."
      ],
      "metadata": {
        "id": "BGDWlUa3GvNS"
      }
    },
    {
      "cell_type": "code",
      "source": [
        "output = model(input_ids.cuda(), attention_mask=attention_mask.cuda(), labels=torch.tensor(label).cuda(), output_attentions = True)\n",
        "batch_attn = output[-2]\n",
        "output_attentions = torch.stack(batch_attn).cpu()\n",
        "global_attention = output[-1]\n",
        "output_global_attentions = torch.stack(global_attention).cpu()\n",
        "print(\"output_attention.shape\", output_attentions.shape)\n",
        "print(\"gl_output_attention.shape\", output_global_attentions.shape)"
      ],
      "metadata": {
        "colab": {
          "base_uri": "https://localhost:8080/"
        },
        "id": "mx69KUz20KmC",
        "outputId": "4411b98f-49ef-43ff-f1f8-bc814e8a6f19"
      },
      "execution_count": null,
      "outputs": [
        {
          "output_type": "stream",
          "name": "stdout",
          "text": [
            "output_attention.shape torch.Size([12, 1, 12, 2048, 514])\n",
            "gl_output_attention.shape torch.Size([12, 1, 12, 2048, 1])\n"
          ]
        }
      ]
    },
    {
      "cell_type": "markdown",
      "source": [
        "A unique property of the longformer model is that the matrix output for the attention is not a seq_len x seq_len output. Each token can only attend to the preceeding w/2 tokens and the succeeding w/2 tokens, dictated by whatever you choose the model's attention window w to be. Another name for this is called the sliding window attention. Therefore, we need to convert sliding attention matrix to correct seq_len x seq_len matrix to remain consistent with other types of Transformer Neural Networks.\n",
        "\n",
        "To do so, we run the following 4 functions. Our attentions will change from an output attention tensor of shape (layer, batch, head, seq_len, x + attention_window + 1) and a global attention tensor of shape (layer, batch, head, seq_len, x) to a single tensor of shape (layer, batch, head, seq_len, seq_len). More information about the functions can be found [here](https://colab.research.google.com/drive/1Kxx26NtIlUzioRCHpsR8IbSz_DpRFxEZ#scrollTo=t_XCoyTsQKAU)."
      ],
      "metadata": {
        "id": "dISC7-FaG2Lh"
      }
    },
    {
      "cell_type": "code",
      "source": [
        "def create_head_matrix(output_attentions, global_attentions):\n",
        "    new_attention_matrix = torch.zeros((output_attentions.shape[0], \n",
        "                                      output_attentions.shape[0]))\n",
        "    for i in range(output_attentions.shape[0]):\n",
        "        test_non_zeroes = torch.nonzero(output_attentions[i]).squeeze()\n",
        "        test2 = output_attentions[i][test_non_zeroes[1:]]\n",
        "        new_attention_matrix_indices = test_non_zeroes[1:]-257 + i\n",
        "        new_attention_matrix[i][new_attention_matrix_indices] = test2\n",
        "        new_attention_matrix[i][0] = output_attentions[i][0]\n",
        "        new_attention_matrix[0] = global_attentions.squeeze()[:output_attentions.shape[0]]\n",
        "    return new_attention_matrix.detach().cpu().numpy()\n",
        "\n",
        "\n",
        "def attentions_all_heads(output_attentions, global_attentions):\n",
        "    new_matrix = []\n",
        "    for i in range(output_attentions.shape[0]):\n",
        "        matrix = create_head_matrix(output_attentions[i], global_attentions[i])\n",
        "        new_matrix.append(matrix)\n",
        "    return np.stack(new_matrix)\n",
        "\n",
        "\n",
        "def all_batches(output_attentions, global_attentions):\n",
        "    new_matrix = []\n",
        "    for i in range(output_attentions.shape[0]):\n",
        "        matrix = attentions_all_heads(output_attentions[i], global_attentions[i])\n",
        "        new_matrix.append(matrix)\n",
        "    return np.stack(new_matrix)\n",
        "\n",
        "def all_layers(output_attentions, global_attentions):\n",
        "    new_matrix = []\n",
        "    for i in range(output_attentions.shape[0]):\n",
        "        matrix = all_batches(output_attentions[i], global_attentions[i])\n",
        "        new_matrix.append(matrix)\n",
        "    return np.stack(new_matrix)"
      ],
      "metadata": {
        "id": "AFyZpNST1JRr"
      },
      "execution_count": null,
      "outputs": []
    },
    {
      "cell_type": "markdown",
      "source": [
        "We should only run one example at a time, so we will squeeze the result of applying the above 4 functions to get a tensor of shape (layer, batch, head, seq_len, seq_len)."
      ],
      "metadata": {
        "id": "gvx4m7eVod21"
      }
    },
    {
      "cell_type": "code",
      "source": [
        "converted_mat = all_layers(output_attentions, output_global_attentions)\n",
        "print(converted_mat.shape)"
      ],
      "metadata": {
        "colab": {
          "base_uri": "https://localhost:8080/"
        },
        "id": "q48gadDy1Kgi",
        "outputId": "21719a8d-739a-4bda-bf04-dcc40ee0616b"
      },
      "execution_count": null,
      "outputs": [
        {
          "output_type": "stream",
          "name": "stdout",
          "text": [
            "(12, 1, 12, 2048, 2048)\n"
          ]
        }
      ]
    },
    {
      "cell_type": "markdown",
      "source": [
        "We get the attentions for each token by summing the converted attention matrix over the first seq_len axis. As such the resulting matrix is of shape (layer, batch, head, seq_len)."
      ],
      "metadata": {
        "id": "XywJLFZ6HBWO"
      }
    },
    {
      "cell_type": "code",
      "source": [
        "attention_matrix_summed = converted_mat.sum(axis=3)"
      ],
      "metadata": {
        "id": "Gu9biMOM1UWC"
      },
      "execution_count": null,
      "outputs": []
    },
    {
      "cell_type": "markdown",
      "source": [
        "Some heads may be more important than others so we scale each attention matrix by their respective head and layer. The notebook used to get head importance is [here](https://colab.research.google.com/drive/1sIEvUvCofF0puv0mRZUio3JEF0y1Ce3g?usp=sharing). However, its possible that you might not want to scale the attentions, in which case you can ignore this section."
      ],
      "metadata": {
        "id": "WJynBkquG9cv"
      }
    },
    {
      "cell_type": "code",
      "source": [
        "head_importance = torch.load(\"/content/drive/MyDrive/cogs402longformer/fakeclinicalnotes/t3-visapplication/notes/head_importance.pt\")\n",
        "# head_importance = torch.load(\"/content/drive/MyDrive/cogs402longformer/t3-visapplication/resources/news/head_importance.pt\")"
      ],
      "metadata": {
        "id": "Bt_2TsKb1ML5"
      },
      "execution_count": null,
      "outputs": []
    },
    {
      "cell_type": "code",
      "source": [
        "def scale_by_importance(attention_matrix, head_importance):\n",
        "  new_matrix = np.zeros_like(attention_matrix)\n",
        "  for i in range(attention_matrix.shape[0]):\n",
        "    head_importance_layer = head_importance[i]\n",
        "    for j in range(attention_matrix.shape[1]):\n",
        "      new_matrix[i,j] = attention_matrix[i,j] * np.expand_dims(head_importance_layer, axis=(1))\n",
        "  return new_matrix"
      ],
      "metadata": {
        "id": "nDuqZlIZ1NSr"
      },
      "execution_count": null,
      "outputs": []
    },
    {
      "cell_type": "code",
      "source": [
        "attention_matrix_summed = scale_by_importance(attention_matrix_summed, head_importance)"
      ],
      "metadata": {
        "id": "u5-YW1SN1OYP"
      },
      "execution_count": null,
      "outputs": []
    },
    {
      "cell_type": "markdown",
      "source": [
        "Here we are using the squeeze function to remove the batch axis, as we are likely only working with one example at a time. After that, we can either select a specific layer we want, or a range of layers we wish to compare. \n",
        "\n",
        "In this case, when taking a specific layer, you pick the layer you want (replace 11 with whatever layer you wish) and then we sum over all of the heads.\n",
        "\n",
        "When taking a range of layers, you either want to specify a range (e.g. attention_matrix_summed[0:6]) or leave as it is to sum over all layers. Then we sum up the layers and the heads.\n",
        "\n",
        "The result of both versions will be an array of shape (seq_len), the same as our attributions as desired."
      ],
      "metadata": {
        "id": "gB7w8fsMHFT2"
      }
    },
    {
      "cell_type": "code",
      "source": [
        "attention_final_layer = attention_matrix_summed[11].squeeze().sum(axis=0)\n",
        "attention_all_layer = attention_matrix_summed.squeeze().sum(axis=1)\n",
        "attention_all_layer = attention_all_layer.sum(axis=0)\n",
        "print(attention_all_layer.shape)"
      ],
      "metadata": {
        "id": "kvEhE5HP1XUQ",
        "colab": {
          "base_uri": "https://localhost:8080/"
        },
        "outputId": "6c4569d7-90f0-4275-de8e-38887a8855bd"
      },
      "execution_count": null,
      "outputs": [
        {
          "output_type": "stream",
          "name": "stdout",
          "text": [
            "(2048,)\n"
          ]
        }
      ]
    },
    {
      "cell_type": "markdown",
      "source": [
        "## Starting the Comparison"
      ],
      "metadata": {
        "id": "8MUFy1D5ostS"
      }
    },
    {
      "cell_type": "markdown",
      "source": [
        "Grab the attributions we stored earlier. Just as an insurance, make sure that the attributions aren't for some reason longer than the attentions\n",
        "\n"
      ],
      "metadata": {
        "id": "GoxYNBsHHLdc"
      }
    },
    {
      "cell_type": "code",
      "source": [
        "exam_attrib = all_attributions[str(example)]\n",
        "exam_attrib = exam_attrib[:len(attention_final_layer)]"
      ],
      "metadata": {
        "id": "na6SKwOp_htK"
      },
      "execution_count": null,
      "outputs": []
    },
    {
      "cell_type": "markdown",
      "source": [
        "Since we have the attributions and the attentions, we want to see how the attributions (in terms of magnitude) compares to the attentions."
      ],
      "metadata": {
        "id": "jp40sVMVBDYt"
      }
    },
    {
      "cell_type": "markdown",
      "source": [
        "However, it's probably a good idea to check how the Cosine similarities are when we don't do anything processing by using the raw attributions and attentions"
      ],
      "metadata": {
        "id": "05cKorNqG-2T"
      }
    },
    {
      "cell_type": "code",
      "source": [
        "from numpy.linalg import norm\n",
        "cosine_raw = np.dot(exam_attrib, attention_final_layer) / (norm(exam_attrib)*norm(attention_final_layer))\n",
        "print(\"Layer 12 Cosine Similarity raw attrib:\\n\", cosine_raw)\n",
        "cosine_all_raw = np.dot(exam_attrib, attention_all_layer) / (norm(exam_attrib)*norm(attention_all_layer))\n",
        "print(\"Layer 12 Cosine Similarity raw attrib:\\n\", cosine_all_raw)"
      ],
      "metadata": {
        "colab": {
          "base_uri": "https://localhost:8080/"
        },
        "id": "_kWnacBd9qk5",
        "outputId": "6e8a67ad-566e-47a0-ff31-3ff8827d7cd1"
      },
      "execution_count": null,
      "outputs": [
        {
          "output_type": "stream",
          "name": "stdout",
          "text": [
            "Layer 12 Cosine Similarity raw attrib:\n",
            " -0.06023476253384612\n",
            "Layer 12 Cosine Similarity raw attrib:\n",
            " -0.058512041780778415\n"
          ]
        }
      ]
    },
    {
      "cell_type": "markdown",
      "source": [
        "The attributions and the attentions have different ranges. The attributions could range from -1 to 1 whereas the attentions range from 0 to 1. However, negative attributions would not necessarily mean that they have the lowest attention, rather they might have really high attention as they are more likely to help the model predict the negative class, and might be something the attentions picked up by the model. Therefore, we want to absolute value the attributions and then normalize the attentions and the attributions so they have the range of 0 to 1."
      ],
      "metadata": {
        "id": "6cwcV4jXNWe-"
      }
    },
    {
      "cell_type": "code",
      "source": [
        "def normalize(data):\n",
        "    return (data - np.min(data)) / (np.max(data) - np.min(data))"
      ],
      "metadata": {
        "id": "ukncMseTj1-K"
      },
      "execution_count": null,
      "outputs": []
    },
    {
      "cell_type": "code",
      "source": [
        "attention_final_layer2 = normalize(attention_final_layer)\n",
        "attention_all_layer2 = normalize(attention_all_layer)"
      ],
      "metadata": {
        "id": "b0fjYbf5k5qv"
      },
      "execution_count": null,
      "outputs": []
    },
    {
      "cell_type": "code",
      "source": [
        "exam_attrib2 = np.abs(exam_attrib)\n",
        "exam_attrib2 = normalize(exam_attrib2)"
      ],
      "metadata": {
        "id": "gQIFZTQzlAEI"
      },
      "execution_count": null,
      "outputs": []
    },
    {
      "cell_type": "code",
      "source": [
        "print(exam_attrib2)"
      ],
      "metadata": {
        "colab": {
          "base_uri": "https://localhost:8080/"
        },
        "id": "gtCEZaQFOgwh",
        "outputId": "79493930-228c-43e1-950b-f118719b7a4b"
      },
      "execution_count": null,
      "outputs": [
        {
          "output_type": "stream",
          "name": "stdout",
          "text": [
            "[0.         0.3947175  0.17893116 ... 0.20388472 0.03394853 0.        ]\n"
          ]
        }
      ]
    },
    {
      "cell_type": "markdown",
      "source": [
        "Now we calculate cosine simularity using normalized attentions and attributions"
      ],
      "metadata": {
        "id": "wuflawaXGUAK"
      }
    },
    {
      "cell_type": "code",
      "source": [
        "cosine = np.dot(exam_attrib2, attention_final_layer2) / (norm(exam_attrib2)*norm(attention_final_layer2))\n",
        "print(\"Layer 12 Cosine Similarity:\\n\", cosine)\n",
        "cosine2 = np.dot(exam_attrib2, attention_all_layer2) / (norm(exam_attrib2)*norm(attention_all_layer2))\n",
        "print(\"All layer Cosine Similarity:\\n\", cosine2)"
      ],
      "metadata": {
        "colab": {
          "base_uri": "https://localhost:8080/"
        },
        "id": "oV1y_ZDk_gFu",
        "outputId": "c6190007-99f2-4bdb-c019-be5a8b9b0080"
      },
      "execution_count": null,
      "outputs": [
        {
          "output_type": "stream",
          "name": "stdout",
          "text": [
            "Layer 12 Cosine Similarity:\n",
            " 0.7481737914400142\n",
            "All layer Cosine Similarity:\n",
            " 0.7403405674229725\n"
          ]
        }
      ]
    },
    {
      "cell_type": "markdown",
      "source": [
        "It might be interesting to know if only the top 50% of tokens share similar attentions and attributions, so after we absolute value and normalize the attentions and attributions, we apply a mask to set the values to 0 if they are not above the median attention or attribution respectively."
      ],
      "metadata": {
        "id": "0ivl51-oHFPu"
      }
    },
    {
      "cell_type": "code",
      "source": [
        "exam_attrib3 = np.abs(exam_attrib)\n",
        "exam_attrib3 = normalize(exam_attrib3)\n",
        "median_exam = np.percentile(exam_attrib3, 50)\n",
        "exam_attrib3[exam_attrib3 < median_exam] = 0"
      ],
      "metadata": {
        "id": "X5q_9i4iOoFs"
      },
      "execution_count": null,
      "outputs": []
    },
    {
      "cell_type": "code",
      "source": [
        "attention_final_layer3 = np.copy(attention_final_layer)\n",
        "attention_final_layer3 = normalize(attention_final_layer3)\n",
        "median_12 = np.percentile(attention_final_layer3, 50)\n",
        "attention_final_layer3[attention_final_layer3 < median_12] = 0\n",
        "\n",
        "attention_all_layer3 = np.copy(attention_all_layer) \n",
        "attention_all_layer3 = normalize(attention_all_layer3)\n",
        "median_all = np.percentile(attention_all_layer3, 50)\n",
        "attention_all_layer3[attention_all_layer3 < median_all] = 0"
      ],
      "metadata": {
        "id": "9zTGe6IEGeFv"
      },
      "execution_count": null,
      "outputs": []
    },
    {
      "cell_type": "markdown",
      "source": [
        "Now we calculate cosine similarity for the median masked attributions and attentions."
      ],
      "metadata": {
        "id": "XxM6eq9kw1V2"
      }
    },
    {
      "cell_type": "code",
      "source": [
        "cosine_med = np.dot(exam_attrib3, attention_final_layer3) / (norm(exam_attrib3)*norm(attention_final_layer3))\n",
        "print(\"Layer 12 Cosine Similarity med:\\n\", cosine_med)\n",
        "cosine_med2 = np.dot(exam_attrib3, attention_all_layer3) / (norm(exam_attrib3)*norm(attention_all_layer3))\n",
        "print(\"All layer Cosine Similarity med:\\n\", cosine_med2)"
      ],
      "metadata": {
        "colab": {
          "base_uri": "https://localhost:8080/"
        },
        "id": "i8cKjhfAHrWi",
        "outputId": "b0fa1cec-207e-4854-9158-cb455c5b8fa9"
      },
      "execution_count": null,
      "outputs": [
        {
          "output_type": "stream",
          "name": "stdout",
          "text": [
            "Layer 12 Cosine Similarity med:\n",
            " 0.44271328850650005\n",
            "All layer Cosine Similarity med:\n",
            " 0.4379153570579718\n"
          ]
        }
      ]
    },
    {
      "cell_type": "markdown",
      "source": [
        "Now we do the same as above, but this time we mask all the values that are lower than the mean."
      ],
      "metadata": {
        "id": "7srdG4VeT4wt"
      }
    },
    {
      "cell_type": "code",
      "source": [
        "exam_attrib4 = np.abs(exam_attrib)\n",
        "exam_attrib4 = normalize(exam_attrib4)\n",
        "mean_exam = np.mean(exam_attrib4)\n",
        "exam_attrib4[exam_attrib4 < mean_exam] = 0"
      ],
      "metadata": {
        "id": "NHw9NX_cWwTT"
      },
      "execution_count": null,
      "outputs": []
    },
    {
      "cell_type": "code",
      "source": [
        "attention_final_layer4 = np.copy(attention_final_layer)\n",
        "attention_final_layer4 = normalize(attention_final_layer4)\n",
        "mean_12 = np.mean(attention_final_layer4)\n",
        "attention_final_layer4[attention_final_layer4 < mean_12] = 0\n",
        "\n",
        "attention_all_layer4 = np.copy(attention_all_layer) \n",
        "attention_all_layer4 = normalize(attention_all_layer4)\n",
        "mean_all = np.mean(attention_all_layer4)\n",
        "attention_all_layer4[attention_all_layer4 < mean_all] = 0"
      ],
      "metadata": {
        "id": "EHj9zUwrUee-"
      },
      "execution_count": null,
      "outputs": []
    },
    {
      "cell_type": "markdown",
      "source": [
        "Calculate cosine similarity for our mean-masked attentions and attributions."
      ],
      "metadata": {
        "id": "pdgFQwoAxI2w"
      }
    },
    {
      "cell_type": "code",
      "source": [
        "cosine_mean = np.dot(exam_attrib4, attention_final_layer4) / (norm(exam_attrib4)*norm(attention_final_layer4))\n",
        "print(\"Layer 12 Cosine Similarity mean:\\n\", cosine_mean)\n",
        "cosine_mean2 = np.dot(exam_attrib4, attention_all_layer4) / (norm(exam_attrib4)*norm(attention_all_layer4))\n",
        "print(\"All layer Cosine Similarity mean:\\n\", cosine_mean2)"
      ],
      "metadata": {
        "colab": {
          "base_uri": "https://localhost:8080/"
        },
        "id": "NWlVxlzHUlAj",
        "outputId": "4c4f24dc-2af5-4ca0-d9f6-4ea777cbdf86"
      },
      "execution_count": null,
      "outputs": [
        {
          "output_type": "stream",
          "name": "stdout",
          "text": [
            "Layer 12 Cosine Similarity mean:\n",
            " 0.4160853945983448\n",
            "All layer Cosine Similarity mean:\n",
            " 0.4129308653709167\n"
          ]
        }
      ]
    },
    {
      "cell_type": "markdown",
      "source": [
        "With our normalized attributions and attentions, tokens with the same rank in both the attention and attributions arrays can have drastically different values for both. Therefore, even if you have two arrays, when ranked, that have the same ordering, it may return a similarity that is low.\n",
        "\n",
        "If we convert each value of the both arrays into their ranks w.r.t. their own array, it alleviates this problem as not only do both arrays have the same range, they also all have the exact same set of values (1-2048 or however many your max amount of tokens are). With an exact same set of values, we can make sure that if two tokens are the same rank in both arrays (indiciating that the attentions and the attributions have some degree of similarity), our cosine similarity picks up on that.\n",
        "\n",
        "Note, the order of the ranks is from highest to lowest so a high value in the ranks array suggests a low value."
      ],
      "metadata": {
        "id": "NHUIfDlnjlFU"
      }
    },
    {
      "cell_type": "code",
      "source": [
        "exam_attrib_rank = np.abs(exam_attrib)\n",
        "order_attrib = exam_attrib_rank.argsort()[::-1]\n",
        "print(order_attrib)\n",
        "ranks_attrib = order_attrib.argsort()\n",
        "print(ranks_attrib)"
      ],
      "metadata": {
        "colab": {
          "base_uri": "https://localhost:8080/"
        },
        "id": "F8t6CWK6jkG8",
        "outputId": "aaab8ae4-80b7-40cb-a108-6b6110945dfa"
      },
      "execution_count": null,
      "outputs": [
        {
          "output_type": "stream",
          "name": "stdout",
          "text": [
            "[   0 2047  408 ... 1678 1843 1998]\n",
            "[   0 1839 1123 ... 1247  229    1]\n"
          ]
        }
      ]
    },
    {
      "cell_type": "code",
      "source": [
        "attention_final_layer_rank = np.copy(attention_final_layer)\n",
        "order = attention_final_layer_rank.argsort()[::-1]\n",
        "ranks = order.argsort()\n",
        "\n",
        "attention_all_layer_rank = np.copy(attention_all_layer)\n",
        "order2 = attention_all_layer_rank.argsort()[::-1]\n",
        "ranks2 = order2.argsort()"
      ],
      "metadata": {
        "id": "Abb5yDNljwdI"
      },
      "execution_count": null,
      "outputs": []
    },
    {
      "cell_type": "code",
      "source": [
        "cosine_rank = np.dot(ranks_attrib, ranks) / (norm(ranks_attrib)*norm(ranks))\n",
        "print(\"Layer 12 Cosine Similarity rank:\\n\", cosine_rank)\n",
        "cosine_rank2 = np.dot(ranks_attrib, ranks2) / (norm(ranks_attrib)*norm(ranks2))\n",
        "print(\"All layer Cosine Similarity rank:\\n\", cosine_rank2)"
      ],
      "metadata": {
        "colab": {
          "base_uri": "https://localhost:8080/"
        },
        "id": "H7Ucz3QdtBxN",
        "outputId": "eeef377a-0ad4-4522-90fd-acfd34a8c7ab"
      },
      "execution_count": null,
      "outputs": [
        {
          "output_type": "stream",
          "name": "stdout",
          "text": [
            "Layer 12 Cosine Similarity rank:\n",
            " 0.7491951488352472\n",
            "All layer Cosine Similarity rank:\n",
            " 0.751903946936216\n"
          ]
        }
      ]
    },
    {
      "cell_type": "markdown",
      "source": [
        "Cosine similarities are not the only similarity metric we can use. Lets evaluate similarity on our example with two other metrics: [Kendalltau](https://www.jstor.org/stable/2332226), and [Rank-biased Overlap (RBO)](https://dl.acm.org/doi/10.1145/1852102.1852106)."
      ],
      "metadata": {
        "id": "KINI1ho0jDSf"
      }
    },
    {
      "cell_type": "markdown",
      "source": [
        "With Kendalltau, you compare the similarities by passing in two arrays of rankings, meaning every item in your array is the rank of the item from 1-max_len."
      ],
      "metadata": {
        "id": "vpJXcI7U2q-Z"
      }
    },
    {
      "cell_type": "code",
      "source": [
        "import scipy.stats as stats\n",
        "tau, p_value = stats.kendalltau(ranks_attrib, ranks)\n",
        "print(\"Tau statistic layer 12:\", tau, \"p value\", p_value)\n",
        "tau2, p_value = stats.kendalltau(ranks_attrib, ranks2)\n",
        "print(\"Tau statistic: all layers\", tau, \"p value\", p_value)"
      ],
      "metadata": {
        "colab": {
          "base_uri": "https://localhost:8080/"
        },
        "id": "LXUp80lhjDcn",
        "outputId": "482dc310-4777-4df4-c464-0b1c45bdff5d"
      },
      "execution_count": null,
      "outputs": [
        {
          "output_type": "stream",
          "name": "stdout",
          "text": [
            "Tau statistic layer 12: -0.001660203957010259 p value 0.9103459739732513\n",
            "Tau statistic: all layers -0.001660203957010259 p value 0.7136246600448692\n"
          ]
        }
      ]
    },
    {
      "cell_type": "markdown",
      "source": [
        "With RBO, instead of passing in an array of rankings, you rank each item in the array such that the item at array index 0 is the highest rank item, the item at array index 1 is the second highest, and the one at array index max_len -1 is the lowest. "
      ],
      "metadata": {
        "id": "En-9c9Q926OM"
      }
    },
    {
      "cell_type": "code",
      "source": [
        "import rbo\n",
        "rbo_1 = rbo.RankingSimilarity(order_attrib, order).rbo()\n",
        "rbo_2 = rbo.RankingSimilarity(order_attrib, order2).rbo()\n",
        "print(\"rbo layer 12\", rbo_1)\n",
        "print(\"rbo all\", rbo_2)"
      ],
      "metadata": {
        "colab": {
          "base_uri": "https://localhost:8080/"
        },
        "id": "B1gC1cVvjFib",
        "outputId": "6ebff9f5-2658-4784-8d94-523502262727"
      },
      "execution_count": null,
      "outputs": [
        {
          "output_type": "stream",
          "name": "stdout",
          "text": [
            "rbo layer 12 0.5004955440189166\n",
            "rbo all 0.5031104425220926\n"
          ]
        }
      ]
    },
    {
      "cell_type": "markdown",
      "source": [
        "Here we compile all of the similarities we calculated into one dataframe for easier viewing."
      ],
      "metadata": {
        "id": "PGIoaQ3QOaOf"
      }
    },
    {
      "cell_type": "code",
      "source": [
        "d = {'example': [example], 'similarity normalized': [cosine], 'similarity raw': [cosine_raw], 'sim_norm w/ median threshold': [cosine_med], 'sim_norm w/ mean threshold': [cosine_mean], \"sim w/ ranks\":[cosine_rank], \"kendall_tau\":[tau], \"RBO\":[rbo_1]}\n",
        "df = pd.DataFrame(data=d)\n",
        "df"
      ],
      "metadata": {
        "colab": {
          "base_uri": "https://localhost:8080/",
          "height": 81
        },
        "id": "-da4EW2rBkIX",
        "outputId": "c2297ec0-731e-4efa-e5d7-0f142b4f288c"
      },
      "execution_count": null,
      "outputs": [
        {
          "output_type": "execute_result",
          "data": {
            "text/plain": [
              "   example  similarity normalized  similarity raw  \\\n",
              "0        7               0.748174       -0.060235   \n",
              "\n",
              "   sim_norm w/ median threshold  sim_norm w/ mean threshold  sim w/ ranks  \\\n",
              "0                      0.442713                    0.416085      0.749195   \n",
              "\n",
              "   kendall_tau       RBO  \n",
              "0     -0.00166  0.500496  "
            ],
            "text/html": [
              "\n",
              "  <div id=\"df-28c741c3-6f01-4cab-a27c-a1a74cbe60eb\">\n",
              "    <div class=\"colab-df-container\">\n",
              "      <div>\n",
              "<style scoped>\n",
              "    .dataframe tbody tr th:only-of-type {\n",
              "        vertical-align: middle;\n",
              "    }\n",
              "\n",
              "    .dataframe tbody tr th {\n",
              "        vertical-align: top;\n",
              "    }\n",
              "\n",
              "    .dataframe thead th {\n",
              "        text-align: right;\n",
              "    }\n",
              "</style>\n",
              "<table border=\"1\" class=\"dataframe\">\n",
              "  <thead>\n",
              "    <tr style=\"text-align: right;\">\n",
              "      <th></th>\n",
              "      <th>example</th>\n",
              "      <th>similarity normalized</th>\n",
              "      <th>similarity raw</th>\n",
              "      <th>sim_norm w/ median threshold</th>\n",
              "      <th>sim_norm w/ mean threshold</th>\n",
              "      <th>sim w/ ranks</th>\n",
              "      <th>kendall_tau</th>\n",
              "      <th>RBO</th>\n",
              "    </tr>\n",
              "  </thead>\n",
              "  <tbody>\n",
              "    <tr>\n",
              "      <th>0</th>\n",
              "      <td>7</td>\n",
              "      <td>0.748174</td>\n",
              "      <td>-0.060235</td>\n",
              "      <td>0.442713</td>\n",
              "      <td>0.416085</td>\n",
              "      <td>0.749195</td>\n",
              "      <td>-0.00166</td>\n",
              "      <td>0.500496</td>\n",
              "    </tr>\n",
              "  </tbody>\n",
              "</table>\n",
              "</div>\n",
              "      <button class=\"colab-df-convert\" onclick=\"convertToInteractive('df-28c741c3-6f01-4cab-a27c-a1a74cbe60eb')\"\n",
              "              title=\"Convert this dataframe to an interactive table.\"\n",
              "              style=\"display:none;\">\n",
              "        \n",
              "  <svg xmlns=\"http://www.w3.org/2000/svg\" height=\"24px\"viewBox=\"0 0 24 24\"\n",
              "       width=\"24px\">\n",
              "    <path d=\"M0 0h24v24H0V0z\" fill=\"none\"/>\n",
              "    <path d=\"M18.56 5.44l.94 2.06.94-2.06 2.06-.94-2.06-.94-.94-2.06-.94 2.06-2.06.94zm-11 1L8.5 8.5l.94-2.06 2.06-.94-2.06-.94L8.5 2.5l-.94 2.06-2.06.94zm10 10l.94 2.06.94-2.06 2.06-.94-2.06-.94-.94-2.06-.94 2.06-2.06.94z\"/><path d=\"M17.41 7.96l-1.37-1.37c-.4-.4-.92-.59-1.43-.59-.52 0-1.04.2-1.43.59L10.3 9.45l-7.72 7.72c-.78.78-.78 2.05 0 2.83L4 21.41c.39.39.9.59 1.41.59.51 0 1.02-.2 1.41-.59l7.78-7.78 2.81-2.81c.8-.78.8-2.07 0-2.86zM5.41 20L4 18.59l7.72-7.72 1.47 1.35L5.41 20z\"/>\n",
              "  </svg>\n",
              "      </button>\n",
              "      \n",
              "  <style>\n",
              "    .colab-df-container {\n",
              "      display:flex;\n",
              "      flex-wrap:wrap;\n",
              "      gap: 12px;\n",
              "    }\n",
              "\n",
              "    .colab-df-convert {\n",
              "      background-color: #E8F0FE;\n",
              "      border: none;\n",
              "      border-radius: 50%;\n",
              "      cursor: pointer;\n",
              "      display: none;\n",
              "      fill: #1967D2;\n",
              "      height: 32px;\n",
              "      padding: 0 0 0 0;\n",
              "      width: 32px;\n",
              "    }\n",
              "\n",
              "    .colab-df-convert:hover {\n",
              "      background-color: #E2EBFA;\n",
              "      box-shadow: 0px 1px 2px rgba(60, 64, 67, 0.3), 0px 1px 3px 1px rgba(60, 64, 67, 0.15);\n",
              "      fill: #174EA6;\n",
              "    }\n",
              "\n",
              "    [theme=dark] .colab-df-convert {\n",
              "      background-color: #3B4455;\n",
              "      fill: #D2E3FC;\n",
              "    }\n",
              "\n",
              "    [theme=dark] .colab-df-convert:hover {\n",
              "      background-color: #434B5C;\n",
              "      box-shadow: 0px 1px 3px 1px rgba(0, 0, 0, 0.15);\n",
              "      filter: drop-shadow(0px 1px 2px rgba(0, 0, 0, 0.3));\n",
              "      fill: #FFFFFF;\n",
              "    }\n",
              "  </style>\n",
              "\n",
              "      <script>\n",
              "        const buttonEl =\n",
              "          document.querySelector('#df-28c741c3-6f01-4cab-a27c-a1a74cbe60eb button.colab-df-convert');\n",
              "        buttonEl.style.display =\n",
              "          google.colab.kernel.accessAllowed ? 'block' : 'none';\n",
              "\n",
              "        async function convertToInteractive(key) {\n",
              "          const element = document.querySelector('#df-28c741c3-6f01-4cab-a27c-a1a74cbe60eb');\n",
              "          const dataTable =\n",
              "            await google.colab.kernel.invokeFunction('convertToInteractive',\n",
              "                                                     [key], {});\n",
              "          if (!dataTable) return;\n",
              "\n",
              "          const docLinkHtml = 'Like what you see? Visit the ' +\n",
              "            '<a target=\"_blank\" href=https://colab.research.google.com/notebooks/data_table.ipynb>data table notebook</a>'\n",
              "            + ' to learn more about interactive tables.';\n",
              "          element.innerHTML = '';\n",
              "          dataTable['output_type'] = 'display_data';\n",
              "          await google.colab.output.renderOutput(dataTable, element);\n",
              "          const docLink = document.createElement('div');\n",
              "          docLink.innerHTML = docLinkHtml;\n",
              "          element.appendChild(docLink);\n",
              "        }\n",
              "      </script>\n",
              "    </div>\n",
              "  </div>\n",
              "  "
            ]
          },
          "metadata": {},
          "execution_count": 53
        }
      ]
    },
    {
      "cell_type": "markdown",
      "source": [
        "We do the same here as we have another set of similarities we want to examine."
      ],
      "metadata": {
        "id": "7w4ofGq2OfLC"
      }
    },
    {
      "cell_type": "code",
      "source": [
        "d2 = {'example': [example], 'similarity normalized': [cosine2], 'similarity raw': [cosine_all_raw], 'sim_norm w/ median threshold':[cosine_med2], 'sim_norm w/ mean threshold':[cosine_mean2], \"sim w/ ranks\":[cosine_rank2], \"kendall_tau\":[tau2], \"RBO\":[rbo_2]}\n",
        "df2 = pd.DataFrame(data=d2)\n",
        "df2"
      ],
      "metadata": {
        "colab": {
          "base_uri": "https://localhost:8080/",
          "height": 81
        },
        "id": "ep6wbADaFgME",
        "outputId": "0a10a910-e458-4895-db1f-366affc519c2"
      },
      "execution_count": null,
      "outputs": [
        {
          "output_type": "execute_result",
          "data": {
            "text/plain": [
              "   example  similarity normalized  similarity raw  \\\n",
              "0        7               0.740341       -0.058512   \n",
              "\n",
              "   sim_norm w/ median threshold  sim_norm w/ mean threshold  sim w/ ranks  \\\n",
              "0                      0.437915                    0.412931      0.751904   \n",
              "\n",
              "   kendall_tau      RBO  \n",
              "0     0.005411  0.50311  "
            ],
            "text/html": [
              "\n",
              "  <div id=\"df-10c54153-1716-483f-ab00-39cc42ae34c4\">\n",
              "    <div class=\"colab-df-container\">\n",
              "      <div>\n",
              "<style scoped>\n",
              "    .dataframe tbody tr th:only-of-type {\n",
              "        vertical-align: middle;\n",
              "    }\n",
              "\n",
              "    .dataframe tbody tr th {\n",
              "        vertical-align: top;\n",
              "    }\n",
              "\n",
              "    .dataframe thead th {\n",
              "        text-align: right;\n",
              "    }\n",
              "</style>\n",
              "<table border=\"1\" class=\"dataframe\">\n",
              "  <thead>\n",
              "    <tr style=\"text-align: right;\">\n",
              "      <th></th>\n",
              "      <th>example</th>\n",
              "      <th>similarity normalized</th>\n",
              "      <th>similarity raw</th>\n",
              "      <th>sim_norm w/ median threshold</th>\n",
              "      <th>sim_norm w/ mean threshold</th>\n",
              "      <th>sim w/ ranks</th>\n",
              "      <th>kendall_tau</th>\n",
              "      <th>RBO</th>\n",
              "    </tr>\n",
              "  </thead>\n",
              "  <tbody>\n",
              "    <tr>\n",
              "      <th>0</th>\n",
              "      <td>7</td>\n",
              "      <td>0.740341</td>\n",
              "      <td>-0.058512</td>\n",
              "      <td>0.437915</td>\n",
              "      <td>0.412931</td>\n",
              "      <td>0.751904</td>\n",
              "      <td>0.005411</td>\n",
              "      <td>0.50311</td>\n",
              "    </tr>\n",
              "  </tbody>\n",
              "</table>\n",
              "</div>\n",
              "      <button class=\"colab-df-convert\" onclick=\"convertToInteractive('df-10c54153-1716-483f-ab00-39cc42ae34c4')\"\n",
              "              title=\"Convert this dataframe to an interactive table.\"\n",
              "              style=\"display:none;\">\n",
              "        \n",
              "  <svg xmlns=\"http://www.w3.org/2000/svg\" height=\"24px\"viewBox=\"0 0 24 24\"\n",
              "       width=\"24px\">\n",
              "    <path d=\"M0 0h24v24H0V0z\" fill=\"none\"/>\n",
              "    <path d=\"M18.56 5.44l.94 2.06.94-2.06 2.06-.94-2.06-.94-.94-2.06-.94 2.06-2.06.94zm-11 1L8.5 8.5l.94-2.06 2.06-.94-2.06-.94L8.5 2.5l-.94 2.06-2.06.94zm10 10l.94 2.06.94-2.06 2.06-.94-2.06-.94-.94-2.06-.94 2.06-2.06.94z\"/><path d=\"M17.41 7.96l-1.37-1.37c-.4-.4-.92-.59-1.43-.59-.52 0-1.04.2-1.43.59L10.3 9.45l-7.72 7.72c-.78.78-.78 2.05 0 2.83L4 21.41c.39.39.9.59 1.41.59.51 0 1.02-.2 1.41-.59l7.78-7.78 2.81-2.81c.8-.78.8-2.07 0-2.86zM5.41 20L4 18.59l7.72-7.72 1.47 1.35L5.41 20z\"/>\n",
              "  </svg>\n",
              "      </button>\n",
              "      \n",
              "  <style>\n",
              "    .colab-df-container {\n",
              "      display:flex;\n",
              "      flex-wrap:wrap;\n",
              "      gap: 12px;\n",
              "    }\n",
              "\n",
              "    .colab-df-convert {\n",
              "      background-color: #E8F0FE;\n",
              "      border: none;\n",
              "      border-radius: 50%;\n",
              "      cursor: pointer;\n",
              "      display: none;\n",
              "      fill: #1967D2;\n",
              "      height: 32px;\n",
              "      padding: 0 0 0 0;\n",
              "      width: 32px;\n",
              "    }\n",
              "\n",
              "    .colab-df-convert:hover {\n",
              "      background-color: #E2EBFA;\n",
              "      box-shadow: 0px 1px 2px rgba(60, 64, 67, 0.3), 0px 1px 3px 1px rgba(60, 64, 67, 0.15);\n",
              "      fill: #174EA6;\n",
              "    }\n",
              "\n",
              "    [theme=dark] .colab-df-convert {\n",
              "      background-color: #3B4455;\n",
              "      fill: #D2E3FC;\n",
              "    }\n",
              "\n",
              "    [theme=dark] .colab-df-convert:hover {\n",
              "      background-color: #434B5C;\n",
              "      box-shadow: 0px 1px 3px 1px rgba(0, 0, 0, 0.15);\n",
              "      filter: drop-shadow(0px 1px 2px rgba(0, 0, 0, 0.3));\n",
              "      fill: #FFFFFF;\n",
              "    }\n",
              "  </style>\n",
              "\n",
              "      <script>\n",
              "        const buttonEl =\n",
              "          document.querySelector('#df-10c54153-1716-483f-ab00-39cc42ae34c4 button.colab-df-convert');\n",
              "        buttonEl.style.display =\n",
              "          google.colab.kernel.accessAllowed ? 'block' : 'none';\n",
              "\n",
              "        async function convertToInteractive(key) {\n",
              "          const element = document.querySelector('#df-10c54153-1716-483f-ab00-39cc42ae34c4');\n",
              "          const dataTable =\n",
              "            await google.colab.kernel.invokeFunction('convertToInteractive',\n",
              "                                                     [key], {});\n",
              "          if (!dataTable) return;\n",
              "\n",
              "          const docLinkHtml = 'Like what you see? Visit the ' +\n",
              "            '<a target=\"_blank\" href=https://colab.research.google.com/notebooks/data_table.ipynb>data table notebook</a>'\n",
              "            + ' to learn more about interactive tables.';\n",
              "          element.innerHTML = '';\n",
              "          dataTable['output_type'] = 'display_data';\n",
              "          await google.colab.output.renderOutput(dataTable, element);\n",
              "          const docLink = document.createElement('div');\n",
              "          docLink.innerHTML = docLinkHtml;\n",
              "          element.appendChild(docLink);\n",
              "        }\n",
              "      </script>\n",
              "    </div>\n",
              "  </div>\n",
              "  "
            ]
          },
          "metadata": {},
          "execution_count": 54
        }
      ]
    },
    {
      "cell_type": "markdown",
      "source": [
        "While not completely necessary, you can save these dataframes into a csv and add onto it every time you look at a new example."
      ],
      "metadata": {
        "id": "W30iB0ud4Lqj"
      }
    },
    {
      "cell_type": "code",
      "source": [
        "# df_layer12 = pd.read_csv(\"/content/drive/MyDrive/cogs402longformer/results/papers/papers_attributions/cos_sim_layer12.csv\")\n",
        "# df_all = pd.read_csv(\"/content/drive/MyDrive/cogs402longformer/results/papers/papers_attributions/cos_sim_all.csv\")"
      ],
      "metadata": {
        "id": "0wdSRDsTCN-J"
      },
      "execution_count": null,
      "outputs": []
    },
    {
      "cell_type": "code",
      "source": [
        "# df_layer12"
      ],
      "metadata": {
        "id": "UlT8_ax5CwQT"
      },
      "execution_count": null,
      "outputs": []
    },
    {
      "cell_type": "code",
      "source": [
        "# df_all"
      ],
      "metadata": {
        "id": "o0P3tm47FP2N"
      },
      "execution_count": null,
      "outputs": []
    },
    {
      "cell_type": "markdown",
      "source": [
        "Append the new row into the dataframe."
      ],
      "metadata": {
        "id": "RSbHulrIOjG7"
      }
    },
    {
      "cell_type": "code",
      "source": [
        "# df_layer12 = pd.concat([df_layer12, df], axis=0)\n",
        "# df_all = pd.concat([df_all, df2], axis=0)"
      ],
      "metadata": {
        "id": "-xxzlJwpCeX0"
      },
      "execution_count": null,
      "outputs": []
    },
    {
      "cell_type": "code",
      "source": [
        "# df_layer12"
      ],
      "metadata": {
        "id": "pW8I8FIXJWrN"
      },
      "execution_count": null,
      "outputs": []
    },
    {
      "cell_type": "code",
      "source": [
        "# df_all"
      ],
      "metadata": {
        "id": "GGbVSSH4JUUG"
      },
      "execution_count": null,
      "outputs": []
    },
    {
      "cell_type": "markdown",
      "source": [
        "When we concatenate our two dataframes, we want to make sure we don't have any duplicate rows. We consider it a duplicate if two rows have the same example number. If we find a do find duplicate rows based on the above condition, the last occuring instance of the row, which is the instance that was obtained earlier in the notebook (and not the instance that was read from file), is kept in the dataframe."
      ],
      "metadata": {
        "id": "iOdeD4RaNacC"
      }
    },
    {
      "cell_type": "code",
      "source": [
        "# df_layer12 = df_layer12.drop_duplicates(['example'], keep='last')\n",
        "# df_all = df_all.drop_duplicates(['example'], keep='last')"
      ],
      "metadata": {
        "id": "LqWi3gJQNUvj"
      },
      "execution_count": null,
      "outputs": []
    },
    {
      "cell_type": "markdown",
      "source": [
        "Sort the rows by example number."
      ],
      "metadata": {
        "id": "ca-5lHk34Vnw"
      }
    },
    {
      "cell_type": "code",
      "source": [
        "# df_layer12 = df_layer12.sort_values(by=['example'])\n",
        "# df_all = df_all.sort_values(by=['example'])"
      ],
      "metadata": {
        "id": "aFUDQ5Q8ojhx"
      },
      "execution_count": null,
      "outputs": []
    },
    {
      "cell_type": "markdown",
      "source": [
        "Save the dataframe"
      ],
      "metadata": {
        "id": "crIEOZx6OnpZ"
      }
    },
    {
      "cell_type": "code",
      "source": [
        "# df_layer12.to_csv(\"/content/drive/MyDrive/cogs402longformer/results/papers/papers_attributions/cos_sim_layer12.csv\", index=False)\n",
        "# df_all.to_csv(\"/content/drive/MyDrive/cogs402longformer/results/papers/papers_attributions/cos_sim_all.csv\", index=False)"
      ],
      "metadata": {
        "id": "qlQRunAqC3fa"
      },
      "execution_count": null,
      "outputs": []
    },
    {
      "cell_type": "markdown",
      "source": [
        "## Comparing Only the Highest Attentions and Attributions"
      ],
      "metadata": {
        "id": "k6P3uR324z0v"
      }
    },
    {
      "cell_type": "markdown",
      "source": [
        "With long pieces of text, it is generally unlikely that two tokens will have the same rankings. However, the intuition is that if the tokens have really high attributions, then it might have really high attentions as that might be what the model focused on when doing the predictions. As such, "
      ],
      "metadata": {
        "id": "r7kNTsdDTtHO"
      }
    },
    {
      "cell_type": "markdown",
      "source": [
        "As such, we apply the same series of functions as we did for masking all the values below the median, but this time we mask all the values below the 95th percentile. "
      ],
      "metadata": {
        "id": "6AcENwK85Gdh"
      }
    },
    {
      "cell_type": "code",
      "source": [
        "attention_final_layer5 = np.copy(attention_final_layer)\n",
        "attention_final_layer5 = normalize(attention_final_layer5)\n",
        "\n",
        "attention_all_layer5 = np.copy(attention_all_layer) \n",
        "attention_all_layer5 = normalize(attention_all_layer5)\n",
        "\n",
        "exam_attrib5 = np.abs(exam_attrib)\n",
        "exam_attrib5 = normalize(exam_attrib5)\n",
        "print(exam_attrib5)"
      ],
      "metadata": {
        "id": "R3ftA3vQBCu5",
        "colab": {
          "base_uri": "https://localhost:8080/"
        },
        "outputId": "8c2147ae-1a63-4478-8a03-a391ca54342a"
      },
      "execution_count": null,
      "outputs": [
        {
          "output_type": "stream",
          "name": "stdout",
          "text": [
            "[0.         0.3947175  0.17893116 ... 0.20388472 0.03394853 0.        ]\n"
          ]
        }
      ]
    },
    {
      "cell_type": "code",
      "source": [
        "top_final = np.percentile(attention_final_layer5, 95)\n",
        "top_all = np.percentile(attention_all_layer5, 95)\n",
        "top_attrib = np.percentile(exam_attrib5, 95)\n",
        "print(top_attrib)"
      ],
      "metadata": {
        "id": "hJAxo97YOCey",
        "colab": {
          "base_uri": "https://localhost:8080/"
        },
        "outputId": "6479e0c1-4b42-4363-d955-b8864e4d39ac"
      },
      "execution_count": null,
      "outputs": [
        {
          "output_type": "stream",
          "name": "stdout",
          "text": [
            "0.5117164376263138\n"
          ]
        }
      ]
    },
    {
      "cell_type": "code",
      "source": [
        "attention_final_layer5[attention_final_layer5<top_final] = 0\n",
        "attention_all_layer5[attention_all_layer5<top_all] = 0\n",
        "exam_attrib5[exam_attrib5<top_attrib] = 0"
      ],
      "metadata": {
        "id": "Cejei_JPPQRq"
      },
      "execution_count": null,
      "outputs": []
    },
    {
      "cell_type": "code",
      "source": [
        "print(exam_attrib5)"
      ],
      "metadata": {
        "colab": {
          "base_uri": "https://localhost:8080/"
        },
        "id": "CLwaUUcUruOl",
        "outputId": "451418d9-94d1-4033-e689-656574c4857e"
      },
      "execution_count": null,
      "outputs": [
        {
          "output_type": "stream",
          "name": "stdout",
          "text": [
            "[0. 0. 0. ... 0. 0. 0.]\n"
          ]
        }
      ]
    },
    {
      "cell_type": "markdown",
      "source": [
        "Calculating cosine similarities again with our new array."
      ],
      "metadata": {
        "id": "Lufvg5W95Pmq"
      }
    },
    {
      "cell_type": "code",
      "source": [
        "cosine_thresh = np.dot(exam_attrib5, attention_final_layer5) / (norm(exam_attrib5)*norm(attention_final_layer5))\n",
        "print(\"Layer 12 Cosine Similarity 95th:\\n\", cosine_thresh)\n",
        "cosine_thresh2 = np.dot(exam_attrib5, attention_all_layer5) / (norm(exam_attrib5)*norm(attention_all_layer5))\n",
        "print(\"All layer Cosine Similarity 95th:\\n\", cosine_thresh2)"
      ],
      "metadata": {
        "colab": {
          "base_uri": "https://localhost:8080/"
        },
        "id": "avMBmrohlBV1",
        "outputId": "4d268763-58a9-45eb-b77a-a54cc92ec171"
      },
      "execution_count": null,
      "outputs": [
        {
          "output_type": "stream",
          "name": "stdout",
          "text": [
            "Layer 12 Cosine Similarity 95th:\n",
            " 0.06879101353384702\n",
            "All layer Cosine Similarity 95th:\n",
            " 0.056949122857615594\n"
          ]
        }
      ]
    },
    {
      "cell_type": "markdown",
      "source": [
        "We do the same for our rankings, but we now set all the ranks below our 95th percentile to 0. Then, we calculate cosine similarities."
      ],
      "metadata": {
        "id": "8C2AiPtW5U-Y"
      }
    },
    {
      "cell_type": "code",
      "source": [
        "num = np.ceil(2048 * 0.95)\n",
        "exam_attrib_rank2 = np.copy(ranks_attrib)\n",
        "exam_attrib_rank2[exam_attrib_rank2 < num] = 0\n",
        "\n",
        "attention_final_layer_rank2 = np.copy(ranks)\n",
        "attention_final_layer_rank2[attention_final_layer_rank2 < num] = 0\n",
        "\n",
        "attention_all_layer_rank2 = np.copy(ranks2)\n",
        "attention_all_layer_rank2[attention_all_layer_rank2 < num] = 0"
      ],
      "metadata": {
        "id": "uaECjgO-vG0O"
      },
      "execution_count": null,
      "outputs": []
    },
    {
      "cell_type": "code",
      "source": [
        "print(num)"
      ],
      "metadata": {
        "colab": {
          "base_uri": "https://localhost:8080/"
        },
        "id": "raO8N-ro3RtN",
        "outputId": "5a9b8614-b630-4a90-cdc4-8291e92f1952"
      },
      "execution_count": null,
      "outputs": [
        {
          "output_type": "stream",
          "name": "stdout",
          "text": [
            "1946.0\n"
          ]
        }
      ]
    },
    {
      "cell_type": "code",
      "source": [
        "cosine_rank_top = np.dot(exam_attrib_rank2, attention_final_layer_rank2) / (norm(exam_attrib_rank2)*norm(attention_final_layer_rank2))\n",
        "print(\"Layer 12 Cosine Similarity 95th ranks:\\n\", cosine_rank_top)\n",
        "cosine_rank_top2 = np.dot(exam_attrib_rank2, attention_all_layer_rank2) / (norm(exam_attrib_rank2)*norm(attention_all_layer_rank2))\n",
        "print(\"All layer Cosine Similarity 95th ranks:\\n\", cosine_rank_top2)"
      ],
      "metadata": {
        "colab": {
          "base_uri": "https://localhost:8080/"
        },
        "id": "axsWfzNSxSc-",
        "outputId": "c10b3d11-7490-4806-dd72-b18fcff053bc"
      },
      "execution_count": null,
      "outputs": [
        {
          "output_type": "stream",
          "name": "stdout",
          "text": [
            "Layer 12 Cosine Similarity 95th ranks:\n",
            " 0.0790698730093019\n",
            "All layer Cosine Similarity 95th ranks:\n",
            " 0.06867245604100757\n"
          ]
        }
      ]
    },
    {
      "cell_type": "markdown",
      "source": [
        "Of course, cosine similarity isn't the only metric that exists for similarities, so we try RBO again on our new arrays of ranks."
      ],
      "metadata": {
        "id": "aTnmOqa0jfGh"
      }
    },
    {
      "cell_type": "code",
      "source": [
        "exam_attrib_order2 = np.copy(order_attrib)\n",
        "\n",
        "attention_final_layer_order2 = np.copy(order)\n",
        "\n",
        "attention_all_layer_order2 = np.copy(order2)"
      ],
      "metadata": {
        "id": "spIj-Y2xjcOI"
      },
      "execution_count": null,
      "outputs": []
    },
    {
      "cell_type": "code",
      "source": [
        "print(\"rbo layer 12 95th\", rbo.RankingSimilarity(exam_attrib_order2[:int(num)], attention_final_layer_order2[:int(num)]).rbo())\n",
        "print(\"rbo all 95th\", rbo.RankingSimilarity(exam_attrib_order2[:int(num)], attention_all_layer_order2[:int(num)]).rbo())"
      ],
      "metadata": {
        "colab": {
          "base_uri": "https://localhost:8080/"
        },
        "id": "qrKuyQGtjepn",
        "outputId": "f44359fa-d4e5-45aa-db46-b495930364e9"
      },
      "execution_count": null,
      "outputs": [
        {
          "output_type": "stream",
          "name": "stdout",
          "text": [
            "rbo layer 12 95th 0.4755699774701047\n",
            "rbo all 95th 0.47834500264273444\n"
          ]
        }
      ]
    },
    {
      "cell_type": "markdown",
      "source": [
        "### Examining the Specifics"
      ],
      "metadata": {
        "id": "SZUpoVhc5qkY"
      }
    },
    {
      "cell_type": "markdown",
      "source": [
        "While seeing if the model's attributions and attentions are exactly the same is one way of comparing the two arrays, another method of determining whether or not the model puts the most focus onto the same group of tokens."
      ],
      "metadata": {
        "id": "Ab6qfLle_tZc"
      }
    },
    {
      "cell_type": "markdown",
      "source": [
        "Here we are taking the set of position ids that make up the top 5 percent of tokens in both the attention and the attribution array. By doing so, we can find out which tokens both arrays have in common, and the tokens that are unique to both arrays. We will be able to identify which tokens are buzzwords in both the attention and the attributions, as well as doing one last similarity metric to check how agreeable the attention and the attributions are."
      ],
      "metadata": {
        "id": "cZFXW0zV5vx4"
      }
    },
    {
      "cell_type": "code",
      "source": [
        "attention_final_layer_top = np.flatnonzero(attention_final_layer5)\n",
        "attention_final_layer_top = set(attention_final_layer_top)\n",
        "\n",
        "attention_all_layer_top = np.flatnonzero(attention_all_layer5)\n",
        "attention_all_layer_top = set(attention_all_layer_top)\n",
        "\n",
        "exam_attrib_top = np.flatnonzero(exam_attrib5)\n",
        "exam_attrib_top = set(exam_attrib_top)\n",
        "print(exam_attrib_top)"
      ],
      "metadata": {
        "id": "mV9EKBe8QIdA",
        "colab": {
          "base_uri": "https://localhost:8080/"
        },
        "outputId": "3c15612f-3c18-446f-9198-3c980501e218"
      },
      "execution_count": null,
      "outputs": [
        {
          "output_type": "stream",
          "name": "stdout",
          "text": [
            "{1537, 514, 519, 1545, 1034, 524, 544, 34, 1585, 574, 1600, 1623, 1625, 1630, 622, 118, 1153, 132, 1159, 1165, 1678, 1167, 1694, 1698, 165, 1195, 1204, 700, 199, 201, 1762, 743, 1767, 240, 752, 753, 243, 246, 763, 1278, 259, 260, 1798, 267, 1291, 1294, 1295, 1304, 794, 1819, 1308, 799, 289, 809, 300, 302, 816, 1842, 1843, 309, 823, 1848, 1857, 1858, 1349, 1862, 1353, 845, 335, 1359, 1871, 341, 853, 1365, 1877, 1881, 353, 869, 359, 875, 877, 376, 383, 385, 1426, 1428, 405, 1944, 923, 442, 1997, 1998, 2002, 982, 987, 480, 994, 485, 1512, 2028, 498, 1522, 1523}\n"
          ]
        }
      ]
    },
    {
      "cell_type": "code",
      "source": [
        "print(ranks)\n",
        "print(attention_final_layer_rank)"
      ],
      "metadata": {
        "colab": {
          "base_uri": "https://localhost:8080/"
        },
        "id": "A_f8PWfT2dbB",
        "outputId": "bed0e418-4af9-47cd-94d1-727363d5926c"
      },
      "execution_count": null,
      "outputs": [
        {
          "output_type": "stream",
          "name": "stdout",
          "text": [
            "[2047    0    3 ...    1   31   76]\n",
            "[8.345974  1.2188263 1.2822603 ... 1.2687193 1.4237021 1.5241399]\n"
          ]
        }
      ]
    },
    {
      "cell_type": "markdown",
      "source": [
        "Grab the tokens stored in the all tokens dictionary so we can know which tokens we are working with as we currently only have the indices."
      ],
      "metadata": {
        "id": "oM-P3g6fSzsN"
      }
    },
    {
      "cell_type": "code",
      "source": [
        "exam_tokens = all_tokens[str(example)]"
      ],
      "metadata": {
        "id": "hm3JJFcWQfWj"
      },
      "execution_count": null,
      "outputs": []
    },
    {
      "cell_type": "markdown",
      "source": [
        "Find out which tokens have the highest attentions but not the highest attributions, and display it in a dataframe with the unmasked attentions and the attributions."
      ],
      "metadata": {
        "id": "XJPiXABt6klk"
      }
    },
    {
      "cell_type": "code",
      "source": [
        "diff = sorted(list(attention_final_layer_top - exam_attrib_top))\n",
        "print(len(diff))\n",
        "diff_tokens = [exam_tokens[idx] for idx in diff]\n",
        "d_diff = {\"token\": diff_tokens, \"position\":diff, \"attention_norm\":attention_final_layer2[diff], \"attention_rank\": ranks[diff], \"attribution_norm\":exam_attrib2[diff], \"attribution_rank\":ranks_attrib[diff]}\n",
        "df_diff = pd.DataFrame(d_diff)\n",
        "df_diff"
      ],
      "metadata": {
        "colab": {
          "base_uri": "https://localhost:8080/",
          "height": 441
        },
        "id": "02gaQP2cUfZv",
        "outputId": "fbf3defa-3a59-42b4-adcd-924f1315e244"
      },
      "execution_count": null,
      "outputs": [
        {
          "output_type": "stream",
          "name": "stdout",
          "text": [
            "95\n"
          ]
        },
        {
          "output_type": "execute_result",
          "data": {
            "text/plain": [
              "        token  position  attention_norm  attention_rank  attribution_norm  \\\n",
              "0         <s>         0        1.000000            2047          0.000000   \n",
              "1          Ġa       206        0.152016            1958          0.142334   \n",
              "2      Ġbased       224        0.176038            2041          0.297475   \n",
              "3   Ġdialogue       225        0.157150            1993          0.118423   \n",
              "4    Ġmanager       226        0.158432            2000          0.290743   \n",
              "..        ...       ...             ...             ...               ...   \n",
              "90          -      1820        0.153382            1965          0.246859   \n",
              "91       Ġthe      1828        0.154999            1976          0.105035   \n",
              "92      Ġslot      1829        0.156081            1984          0.195746   \n",
              "93      Ġtags      1830        0.166686            2027          0.180731   \n",
              "94         Ġ~      1838        0.158142            1997          0.042873   \n",
              "\n",
              "    attribution_rank  \n",
              "0                  0  \n",
              "1                899  \n",
              "2               1632  \n",
              "3                757  \n",
              "4               1608  \n",
              "..               ...  \n",
              "90              1441  \n",
              "91               663  \n",
              "92              1211  \n",
              "93              1134  \n",
              "94               288  \n",
              "\n",
              "[95 rows x 6 columns]"
            ],
            "text/html": [
              "\n",
              "  <div id=\"df-d5dd30ef-1fbc-4896-aa01-0bc01406a0c4\">\n",
              "    <div class=\"colab-df-container\">\n",
              "      <div>\n",
              "<style scoped>\n",
              "    .dataframe tbody tr th:only-of-type {\n",
              "        vertical-align: middle;\n",
              "    }\n",
              "\n",
              "    .dataframe tbody tr th {\n",
              "        vertical-align: top;\n",
              "    }\n",
              "\n",
              "    .dataframe thead th {\n",
              "        text-align: right;\n",
              "    }\n",
              "</style>\n",
              "<table border=\"1\" class=\"dataframe\">\n",
              "  <thead>\n",
              "    <tr style=\"text-align: right;\">\n",
              "      <th></th>\n",
              "      <th>token</th>\n",
              "      <th>position</th>\n",
              "      <th>attention_norm</th>\n",
              "      <th>attention_rank</th>\n",
              "      <th>attribution_norm</th>\n",
              "      <th>attribution_rank</th>\n",
              "    </tr>\n",
              "  </thead>\n",
              "  <tbody>\n",
              "    <tr>\n",
              "      <th>0</th>\n",
              "      <td>&lt;s&gt;</td>\n",
              "      <td>0</td>\n",
              "      <td>1.000000</td>\n",
              "      <td>2047</td>\n",
              "      <td>0.000000</td>\n",
              "      <td>0</td>\n",
              "    </tr>\n",
              "    <tr>\n",
              "      <th>1</th>\n",
              "      <td>Ġa</td>\n",
              "      <td>206</td>\n",
              "      <td>0.152016</td>\n",
              "      <td>1958</td>\n",
              "      <td>0.142334</td>\n",
              "      <td>899</td>\n",
              "    </tr>\n",
              "    <tr>\n",
              "      <th>2</th>\n",
              "      <td>Ġbased</td>\n",
              "      <td>224</td>\n",
              "      <td>0.176038</td>\n",
              "      <td>2041</td>\n",
              "      <td>0.297475</td>\n",
              "      <td>1632</td>\n",
              "    </tr>\n",
              "    <tr>\n",
              "      <th>3</th>\n",
              "      <td>Ġdialogue</td>\n",
              "      <td>225</td>\n",
              "      <td>0.157150</td>\n",
              "      <td>1993</td>\n",
              "      <td>0.118423</td>\n",
              "      <td>757</td>\n",
              "    </tr>\n",
              "    <tr>\n",
              "      <th>4</th>\n",
              "      <td>Ġmanager</td>\n",
              "      <td>226</td>\n",
              "      <td>0.158432</td>\n",
              "      <td>2000</td>\n",
              "      <td>0.290743</td>\n",
              "      <td>1608</td>\n",
              "    </tr>\n",
              "    <tr>\n",
              "      <th>...</th>\n",
              "      <td>...</td>\n",
              "      <td>...</td>\n",
              "      <td>...</td>\n",
              "      <td>...</td>\n",
              "      <td>...</td>\n",
              "      <td>...</td>\n",
              "    </tr>\n",
              "    <tr>\n",
              "      <th>90</th>\n",
              "      <td>-</td>\n",
              "      <td>1820</td>\n",
              "      <td>0.153382</td>\n",
              "      <td>1965</td>\n",
              "      <td>0.246859</td>\n",
              "      <td>1441</td>\n",
              "    </tr>\n",
              "    <tr>\n",
              "      <th>91</th>\n",
              "      <td>Ġthe</td>\n",
              "      <td>1828</td>\n",
              "      <td>0.154999</td>\n",
              "      <td>1976</td>\n",
              "      <td>0.105035</td>\n",
              "      <td>663</td>\n",
              "    </tr>\n",
              "    <tr>\n",
              "      <th>92</th>\n",
              "      <td>Ġslot</td>\n",
              "      <td>1829</td>\n",
              "      <td>0.156081</td>\n",
              "      <td>1984</td>\n",
              "      <td>0.195746</td>\n",
              "      <td>1211</td>\n",
              "    </tr>\n",
              "    <tr>\n",
              "      <th>93</th>\n",
              "      <td>Ġtags</td>\n",
              "      <td>1830</td>\n",
              "      <td>0.166686</td>\n",
              "      <td>2027</td>\n",
              "      <td>0.180731</td>\n",
              "      <td>1134</td>\n",
              "    </tr>\n",
              "    <tr>\n",
              "      <th>94</th>\n",
              "      <td>Ġ~</td>\n",
              "      <td>1838</td>\n",
              "      <td>0.158142</td>\n",
              "      <td>1997</td>\n",
              "      <td>0.042873</td>\n",
              "      <td>288</td>\n",
              "    </tr>\n",
              "  </tbody>\n",
              "</table>\n",
              "<p>95 rows × 6 columns</p>\n",
              "</div>\n",
              "      <button class=\"colab-df-convert\" onclick=\"convertToInteractive('df-d5dd30ef-1fbc-4896-aa01-0bc01406a0c4')\"\n",
              "              title=\"Convert this dataframe to an interactive table.\"\n",
              "              style=\"display:none;\">\n",
              "        \n",
              "  <svg xmlns=\"http://www.w3.org/2000/svg\" height=\"24px\"viewBox=\"0 0 24 24\"\n",
              "       width=\"24px\">\n",
              "    <path d=\"M0 0h24v24H0V0z\" fill=\"none\"/>\n",
              "    <path d=\"M18.56 5.44l.94 2.06.94-2.06 2.06-.94-2.06-.94-.94-2.06-.94 2.06-2.06.94zm-11 1L8.5 8.5l.94-2.06 2.06-.94-2.06-.94L8.5 2.5l-.94 2.06-2.06.94zm10 10l.94 2.06.94-2.06 2.06-.94-2.06-.94-.94-2.06-.94 2.06-2.06.94z\"/><path d=\"M17.41 7.96l-1.37-1.37c-.4-.4-.92-.59-1.43-.59-.52 0-1.04.2-1.43.59L10.3 9.45l-7.72 7.72c-.78.78-.78 2.05 0 2.83L4 21.41c.39.39.9.59 1.41.59.51 0 1.02-.2 1.41-.59l7.78-7.78 2.81-2.81c.8-.78.8-2.07 0-2.86zM5.41 20L4 18.59l7.72-7.72 1.47 1.35L5.41 20z\"/>\n",
              "  </svg>\n",
              "      </button>\n",
              "      \n",
              "  <style>\n",
              "    .colab-df-container {\n",
              "      display:flex;\n",
              "      flex-wrap:wrap;\n",
              "      gap: 12px;\n",
              "    }\n",
              "\n",
              "    .colab-df-convert {\n",
              "      background-color: #E8F0FE;\n",
              "      border: none;\n",
              "      border-radius: 50%;\n",
              "      cursor: pointer;\n",
              "      display: none;\n",
              "      fill: #1967D2;\n",
              "      height: 32px;\n",
              "      padding: 0 0 0 0;\n",
              "      width: 32px;\n",
              "    }\n",
              "\n",
              "    .colab-df-convert:hover {\n",
              "      background-color: #E2EBFA;\n",
              "      box-shadow: 0px 1px 2px rgba(60, 64, 67, 0.3), 0px 1px 3px 1px rgba(60, 64, 67, 0.15);\n",
              "      fill: #174EA6;\n",
              "    }\n",
              "\n",
              "    [theme=dark] .colab-df-convert {\n",
              "      background-color: #3B4455;\n",
              "      fill: #D2E3FC;\n",
              "    }\n",
              "\n",
              "    [theme=dark] .colab-df-convert:hover {\n",
              "      background-color: #434B5C;\n",
              "      box-shadow: 0px 1px 3px 1px rgba(0, 0, 0, 0.15);\n",
              "      filter: drop-shadow(0px 1px 2px rgba(0, 0, 0, 0.3));\n",
              "      fill: #FFFFFF;\n",
              "    }\n",
              "  </style>\n",
              "\n",
              "      <script>\n",
              "        const buttonEl =\n",
              "          document.querySelector('#df-d5dd30ef-1fbc-4896-aa01-0bc01406a0c4 button.colab-df-convert');\n",
              "        buttonEl.style.display =\n",
              "          google.colab.kernel.accessAllowed ? 'block' : 'none';\n",
              "\n",
              "        async function convertToInteractive(key) {\n",
              "          const element = document.querySelector('#df-d5dd30ef-1fbc-4896-aa01-0bc01406a0c4');\n",
              "          const dataTable =\n",
              "            await google.colab.kernel.invokeFunction('convertToInteractive',\n",
              "                                                     [key], {});\n",
              "          if (!dataTable) return;\n",
              "\n",
              "          const docLinkHtml = 'Like what you see? Visit the ' +\n",
              "            '<a target=\"_blank\" href=https://colab.research.google.com/notebooks/data_table.ipynb>data table notebook</a>'\n",
              "            + ' to learn more about interactive tables.';\n",
              "          element.innerHTML = '';\n",
              "          dataTable['output_type'] = 'display_data';\n",
              "          await google.colab.output.renderOutput(dataTable, element);\n",
              "          const docLink = document.createElement('div');\n",
              "          docLink.innerHTML = docLinkHtml;\n",
              "          element.appendChild(docLink);\n",
              "        }\n",
              "      </script>\n",
              "    </div>\n",
              "  </div>\n",
              "  "
            ]
          },
          "metadata": {},
          "execution_count": 106
        }
      ]
    },
    {
      "cell_type": "markdown",
      "source": [
        "Let's check what tokens are different and how many times they appear."
      ],
      "metadata": {
        "id": "_9qGI3ae7x0g"
      }
    },
    {
      "cell_type": "code",
      "source": [
        "print(df_diff['token'].value_counts())"
      ],
      "metadata": {
        "colab": {
          "base_uri": "https://localhost:8080/"
        },
        "id": "xtN0uGi7LlTT",
        "outputId": "5c52fd3d-6e60-4957-d3dc-722fd276b3f5"
      },
      "execution_count": null,
      "outputs": [
        {
          "output_type": "stream",
          "name": "stdout",
          "text": [
            "Ġand             6\n",
            "Ġa               6\n",
            "-                5\n",
            "Ġof              4\n",
            "Ġdialogue        4\n",
            "                ..\n",
            "Ġis              1\n",
            "Ġdemonstrated    1\n",
            "Ġseveral         1\n",
            "Ġdifferent       1\n",
            "Ġ~               1\n",
            "Name: token, Length: 67, dtype: int64\n"
          ]
        }
      ]
    },
    {
      "cell_type": "markdown",
      "source": [
        "Find out which tokens have the highest attributions but not the highest attentions."
      ],
      "metadata": {
        "id": "s1Mw4yzv62iA"
      }
    },
    {
      "cell_type": "code",
      "source": [
        "diff2 = sorted(list(exam_attrib_top - attention_final_layer_top))\n",
        "print(len(diff))\n",
        "diff_tokens2 = [exam_tokens[idx] for idx in diff2]\n",
        "d_diff2 = {\"token\": diff_tokens2, \"position\":diff2, \"attention_norm\": attention_final_layer2[diff2], \"attention_rank\": ranks[diff2], \"attribution_norm\":exam_attrib2[diff2], \"attribution_rank\":ranks_attrib[diff2]}\n",
        "df_diff2 = pd.DataFrame(d_diff2)\n",
        "df_diff2"
      ],
      "metadata": {
        "colab": {
          "base_uri": "https://localhost:8080/",
          "height": 441
        },
        "id": "SUJBtsFvoITx",
        "outputId": "6d05e915-744d-49f6-a9cc-e9d67a462f94"
      },
      "execution_count": null,
      "outputs": [
        {
          "output_type": "stream",
          "name": "stdout",
          "text": [
            "95\n"
          ]
        },
        {
          "output_type": "execute_result",
          "data": {
            "text/plain": [
              "      token  position  attention_norm  attention_rank  attribution_norm  \\\n",
              "0        ao        34        0.028510              29          0.757903   \n",
              "1      ĠFeb       118        0.092118             390          0.541050   \n",
              "2   pletion       132        0.098642             604          0.516848   \n",
              "3   Ġsystem       165        0.114003            1259          0.530169   \n",
              "4   Ġneural       199        0.133504            1772          0.634609   \n",
              "..      ...       ...             ...             ...               ...   \n",
              "90        1      1944        0.099056             626          0.555691   \n",
              "91        1      1997        0.055756             129          0.612820   \n",
              "92       Ġ,      1998        0.042450              75          1.000000   \n",
              "93       Ġ,      2002        0.042083              72          0.868935   \n",
              "94       ag      2028        0.033268              49          0.611825   \n",
              "\n",
              "    attribution_rank  \n",
              "0               2035  \n",
              "1               1971  \n",
              "2               1954  \n",
              "3               1965  \n",
              "4               2012  \n",
              "..               ...  \n",
              "90              1983  \n",
              "91              2008  \n",
              "92              2047  \n",
              "93              2044  \n",
              "94              2007  \n",
              "\n",
              "[95 rows x 6 columns]"
            ],
            "text/html": [
              "\n",
              "  <div id=\"df-69f42232-d468-4c04-9e45-f12068886156\">\n",
              "    <div class=\"colab-df-container\">\n",
              "      <div>\n",
              "<style scoped>\n",
              "    .dataframe tbody tr th:only-of-type {\n",
              "        vertical-align: middle;\n",
              "    }\n",
              "\n",
              "    .dataframe tbody tr th {\n",
              "        vertical-align: top;\n",
              "    }\n",
              "\n",
              "    .dataframe thead th {\n",
              "        text-align: right;\n",
              "    }\n",
              "</style>\n",
              "<table border=\"1\" class=\"dataframe\">\n",
              "  <thead>\n",
              "    <tr style=\"text-align: right;\">\n",
              "      <th></th>\n",
              "      <th>token</th>\n",
              "      <th>position</th>\n",
              "      <th>attention_norm</th>\n",
              "      <th>attention_rank</th>\n",
              "      <th>attribution_norm</th>\n",
              "      <th>attribution_rank</th>\n",
              "    </tr>\n",
              "  </thead>\n",
              "  <tbody>\n",
              "    <tr>\n",
              "      <th>0</th>\n",
              "      <td>ao</td>\n",
              "      <td>34</td>\n",
              "      <td>0.028510</td>\n",
              "      <td>29</td>\n",
              "      <td>0.757903</td>\n",
              "      <td>2035</td>\n",
              "    </tr>\n",
              "    <tr>\n",
              "      <th>1</th>\n",
              "      <td>ĠFeb</td>\n",
              "      <td>118</td>\n",
              "      <td>0.092118</td>\n",
              "      <td>390</td>\n",
              "      <td>0.541050</td>\n",
              "      <td>1971</td>\n",
              "    </tr>\n",
              "    <tr>\n",
              "      <th>2</th>\n",
              "      <td>pletion</td>\n",
              "      <td>132</td>\n",
              "      <td>0.098642</td>\n",
              "      <td>604</td>\n",
              "      <td>0.516848</td>\n",
              "      <td>1954</td>\n",
              "    </tr>\n",
              "    <tr>\n",
              "      <th>3</th>\n",
              "      <td>Ġsystem</td>\n",
              "      <td>165</td>\n",
              "      <td>0.114003</td>\n",
              "      <td>1259</td>\n",
              "      <td>0.530169</td>\n",
              "      <td>1965</td>\n",
              "    </tr>\n",
              "    <tr>\n",
              "      <th>4</th>\n",
              "      <td>Ġneural</td>\n",
              "      <td>199</td>\n",
              "      <td>0.133504</td>\n",
              "      <td>1772</td>\n",
              "      <td>0.634609</td>\n",
              "      <td>2012</td>\n",
              "    </tr>\n",
              "    <tr>\n",
              "      <th>...</th>\n",
              "      <td>...</td>\n",
              "      <td>...</td>\n",
              "      <td>...</td>\n",
              "      <td>...</td>\n",
              "      <td>...</td>\n",
              "      <td>...</td>\n",
              "    </tr>\n",
              "    <tr>\n",
              "      <th>90</th>\n",
              "      <td>1</td>\n",
              "      <td>1944</td>\n",
              "      <td>0.099056</td>\n",
              "      <td>626</td>\n",
              "      <td>0.555691</td>\n",
              "      <td>1983</td>\n",
              "    </tr>\n",
              "    <tr>\n",
              "      <th>91</th>\n",
              "      <td>1</td>\n",
              "      <td>1997</td>\n",
              "      <td>0.055756</td>\n",
              "      <td>129</td>\n",
              "      <td>0.612820</td>\n",
              "      <td>2008</td>\n",
              "    </tr>\n",
              "    <tr>\n",
              "      <th>92</th>\n",
              "      <td>Ġ,</td>\n",
              "      <td>1998</td>\n",
              "      <td>0.042450</td>\n",
              "      <td>75</td>\n",
              "      <td>1.000000</td>\n",
              "      <td>2047</td>\n",
              "    </tr>\n",
              "    <tr>\n",
              "      <th>93</th>\n",
              "      <td>Ġ,</td>\n",
              "      <td>2002</td>\n",
              "      <td>0.042083</td>\n",
              "      <td>72</td>\n",
              "      <td>0.868935</td>\n",
              "      <td>2044</td>\n",
              "    </tr>\n",
              "    <tr>\n",
              "      <th>94</th>\n",
              "      <td>ag</td>\n",
              "      <td>2028</td>\n",
              "      <td>0.033268</td>\n",
              "      <td>49</td>\n",
              "      <td>0.611825</td>\n",
              "      <td>2007</td>\n",
              "    </tr>\n",
              "  </tbody>\n",
              "</table>\n",
              "<p>95 rows × 6 columns</p>\n",
              "</div>\n",
              "      <button class=\"colab-df-convert\" onclick=\"convertToInteractive('df-69f42232-d468-4c04-9e45-f12068886156')\"\n",
              "              title=\"Convert this dataframe to an interactive table.\"\n",
              "              style=\"display:none;\">\n",
              "        \n",
              "  <svg xmlns=\"http://www.w3.org/2000/svg\" height=\"24px\"viewBox=\"0 0 24 24\"\n",
              "       width=\"24px\">\n",
              "    <path d=\"M0 0h24v24H0V0z\" fill=\"none\"/>\n",
              "    <path d=\"M18.56 5.44l.94 2.06.94-2.06 2.06-.94-2.06-.94-.94-2.06-.94 2.06-2.06.94zm-11 1L8.5 8.5l.94-2.06 2.06-.94-2.06-.94L8.5 2.5l-.94 2.06-2.06.94zm10 10l.94 2.06.94-2.06 2.06-.94-2.06-.94-.94-2.06-.94 2.06-2.06.94z\"/><path d=\"M17.41 7.96l-1.37-1.37c-.4-.4-.92-.59-1.43-.59-.52 0-1.04.2-1.43.59L10.3 9.45l-7.72 7.72c-.78.78-.78 2.05 0 2.83L4 21.41c.39.39.9.59 1.41.59.51 0 1.02-.2 1.41-.59l7.78-7.78 2.81-2.81c.8-.78.8-2.07 0-2.86zM5.41 20L4 18.59l7.72-7.72 1.47 1.35L5.41 20z\"/>\n",
              "  </svg>\n",
              "      </button>\n",
              "      \n",
              "  <style>\n",
              "    .colab-df-container {\n",
              "      display:flex;\n",
              "      flex-wrap:wrap;\n",
              "      gap: 12px;\n",
              "    }\n",
              "\n",
              "    .colab-df-convert {\n",
              "      background-color: #E8F0FE;\n",
              "      border: none;\n",
              "      border-radius: 50%;\n",
              "      cursor: pointer;\n",
              "      display: none;\n",
              "      fill: #1967D2;\n",
              "      height: 32px;\n",
              "      padding: 0 0 0 0;\n",
              "      width: 32px;\n",
              "    }\n",
              "\n",
              "    .colab-df-convert:hover {\n",
              "      background-color: #E2EBFA;\n",
              "      box-shadow: 0px 1px 2px rgba(60, 64, 67, 0.3), 0px 1px 3px 1px rgba(60, 64, 67, 0.15);\n",
              "      fill: #174EA6;\n",
              "    }\n",
              "\n",
              "    [theme=dark] .colab-df-convert {\n",
              "      background-color: #3B4455;\n",
              "      fill: #D2E3FC;\n",
              "    }\n",
              "\n",
              "    [theme=dark] .colab-df-convert:hover {\n",
              "      background-color: #434B5C;\n",
              "      box-shadow: 0px 1px 3px 1px rgba(0, 0, 0, 0.15);\n",
              "      filter: drop-shadow(0px 1px 2px rgba(0, 0, 0, 0.3));\n",
              "      fill: #FFFFFF;\n",
              "    }\n",
              "  </style>\n",
              "\n",
              "      <script>\n",
              "        const buttonEl =\n",
              "          document.querySelector('#df-69f42232-d468-4c04-9e45-f12068886156 button.colab-df-convert');\n",
              "        buttonEl.style.display =\n",
              "          google.colab.kernel.accessAllowed ? 'block' : 'none';\n",
              "\n",
              "        async function convertToInteractive(key) {\n",
              "          const element = document.querySelector('#df-69f42232-d468-4c04-9e45-f12068886156');\n",
              "          const dataTable =\n",
              "            await google.colab.kernel.invokeFunction('convertToInteractive',\n",
              "                                                     [key], {});\n",
              "          if (!dataTable) return;\n",
              "\n",
              "          const docLinkHtml = 'Like what you see? Visit the ' +\n",
              "            '<a target=\"_blank\" href=https://colab.research.google.com/notebooks/data_table.ipynb>data table notebook</a>'\n",
              "            + ' to learn more about interactive tables.';\n",
              "          element.innerHTML = '';\n",
              "          dataTable['output_type'] = 'display_data';\n",
              "          await google.colab.output.renderOutput(dataTable, element);\n",
              "          const docLink = document.createElement('div');\n",
              "          docLink.innerHTML = docLinkHtml;\n",
              "          element.appendChild(docLink);\n",
              "        }\n",
              "      </script>\n",
              "    </div>\n",
              "  </div>\n",
              "  "
            ]
          },
          "metadata": {},
          "execution_count": 77
        }
      ]
    },
    {
      "cell_type": "markdown",
      "source": [
        "Let's check what tokens are different and how many times they appear."
      ],
      "metadata": {
        "id": "hUOiSgcg736p"
      }
    },
    {
      "cell_type": "code",
      "source": [
        "print(df_diff2['token'].value_counts())"
      ],
      "metadata": {
        "colab": {
          "base_uri": "https://localhost:8080/"
        },
        "id": "q9EQU04lMKxc",
        "outputId": "c7eb7fc0-5568-4393-e8c1-8e19b1f42b92"
      },
      "execution_count": null,
      "outputs": [
        {
          "output_type": "stream",
          "name": "stdout",
          "text": [
            "Ġsystem           20\n",
            "1                  9\n",
            "Ġneural            7\n",
            "Ġ,                 7\n",
            "ĠIn                4\n",
            "Ġare               3\n",
            "Ġweekend           3\n",
            "Ġfind              3\n",
            "G                  3\n",
            "Ġwi                3\n",
            "Ġsequence          2\n",
            "Ġend               2\n",
            "Ġmovie             2\n",
            "ances              2\n",
            "Ġavailable         2\n",
            "Ġhave              1\n",
            "Ġshow              1\n",
            "ĠâĢĶ               1\n",
            "Ġcontributions     1\n",
            "date               1\n",
            "Ġhow               1\n",
            "ĠFramework         1\n",
            "Ġabove             1\n",
            "Ġassociated        1\n",
            "ao                 1\n",
            "Ġlacks             1\n",
            "ĠFeb               1\n",
            "Ġsupervised        1\n",
            "M                  1\n",
            "Ġcom               1\n",
            "Ġconsisting        1\n",
            "Ġcomplex           1\n",
            "Ġorder             1\n",
            "Ġallow             1\n",
            "Ġunderstanding     1\n",
            "Ġwith              1\n",
            "pletion            1\n",
            "ag                 1\n",
            "Name: token, dtype: int64\n"
          ]
        }
      ]
    },
    {
      "cell_type": "markdown",
      "source": [
        "Find out which tokens are part of the highest attentions and highest attributions."
      ],
      "metadata": {
        "id": "i7KUR67I68i9"
      }
    },
    {
      "cell_type": "code",
      "source": [
        "same = sorted(list(attention_final_layer_top & exam_attrib_top))\n",
        "print(len(same))\n",
        "same_tokens = [exam_tokens[idx] for idx in same]\n",
        "d_same = {\"token\": same_tokens, \"position\":same, \"attention_norm\": attention_final_layer2[same], \"attention_rank\": ranks[same], \"attribution_norm\":exam_attrib2[same], \"attribution_rank\":ranks_attrib[same]}\n",
        "df_same = pd.DataFrame(d_same)\n",
        "df_same"
      ],
      "metadata": {
        "colab": {
          "base_uri": "https://localhost:8080/",
          "height": 318
        },
        "id": "k4VAamjiUvr0",
        "outputId": "03106d7c-603a-4884-cf2b-75dd10232edf"
      },
      "execution_count": null,
      "outputs": [
        {
          "output_type": "stream",
          "name": "stdout",
          "text": [
            "8\n"
          ]
        },
        {
          "output_type": "execute_result",
          "data": {
            "text/plain": [
              "          token  position  attention_norm  attention_rank  attribution_norm  \\\n",
              "0  Ġexperiments       243        0.164711            2022          0.651922   \n",
              "1        Ġmovie       246        0.157143            1992          0.769662   \n",
              "2          Ġnot       260        0.170399            2036          0.513761   \n",
              "3       Ġsystem       267        0.162266            2017          0.722033   \n",
              "4             1       302        0.153822            1968          0.650406   \n",
              "5             1      1767        0.156727            1988          0.818578   \n",
              "6          ents      1798        0.168598            2033          0.524858   \n",
              "7           out      1819        0.156512            1987          0.556536   \n",
              "\n",
              "   attribution_rank  \n",
              "0              2018  \n",
              "1              2037  \n",
              "2              1949  \n",
              "3              2029  \n",
              "4              2017  \n",
              "5              2040  \n",
              "6              1962  \n",
              "7              1984  "
            ],
            "text/html": [
              "\n",
              "  <div id=\"df-fd5960a0-facc-47e4-8189-ca2d1d7ef718\">\n",
              "    <div class=\"colab-df-container\">\n",
              "      <div>\n",
              "<style scoped>\n",
              "    .dataframe tbody tr th:only-of-type {\n",
              "        vertical-align: middle;\n",
              "    }\n",
              "\n",
              "    .dataframe tbody tr th {\n",
              "        vertical-align: top;\n",
              "    }\n",
              "\n",
              "    .dataframe thead th {\n",
              "        text-align: right;\n",
              "    }\n",
              "</style>\n",
              "<table border=\"1\" class=\"dataframe\">\n",
              "  <thead>\n",
              "    <tr style=\"text-align: right;\">\n",
              "      <th></th>\n",
              "      <th>token</th>\n",
              "      <th>position</th>\n",
              "      <th>attention_norm</th>\n",
              "      <th>attention_rank</th>\n",
              "      <th>attribution_norm</th>\n",
              "      <th>attribution_rank</th>\n",
              "    </tr>\n",
              "  </thead>\n",
              "  <tbody>\n",
              "    <tr>\n",
              "      <th>0</th>\n",
              "      <td>Ġexperiments</td>\n",
              "      <td>243</td>\n",
              "      <td>0.164711</td>\n",
              "      <td>2022</td>\n",
              "      <td>0.651922</td>\n",
              "      <td>2018</td>\n",
              "    </tr>\n",
              "    <tr>\n",
              "      <th>1</th>\n",
              "      <td>Ġmovie</td>\n",
              "      <td>246</td>\n",
              "      <td>0.157143</td>\n",
              "      <td>1992</td>\n",
              "      <td>0.769662</td>\n",
              "      <td>2037</td>\n",
              "    </tr>\n",
              "    <tr>\n",
              "      <th>2</th>\n",
              "      <td>Ġnot</td>\n",
              "      <td>260</td>\n",
              "      <td>0.170399</td>\n",
              "      <td>2036</td>\n",
              "      <td>0.513761</td>\n",
              "      <td>1949</td>\n",
              "    </tr>\n",
              "    <tr>\n",
              "      <th>3</th>\n",
              "      <td>Ġsystem</td>\n",
              "      <td>267</td>\n",
              "      <td>0.162266</td>\n",
              "      <td>2017</td>\n",
              "      <td>0.722033</td>\n",
              "      <td>2029</td>\n",
              "    </tr>\n",
              "    <tr>\n",
              "      <th>4</th>\n",
              "      <td>1</td>\n",
              "      <td>302</td>\n",
              "      <td>0.153822</td>\n",
              "      <td>1968</td>\n",
              "      <td>0.650406</td>\n",
              "      <td>2017</td>\n",
              "    </tr>\n",
              "    <tr>\n",
              "      <th>5</th>\n",
              "      <td>1</td>\n",
              "      <td>1767</td>\n",
              "      <td>0.156727</td>\n",
              "      <td>1988</td>\n",
              "      <td>0.818578</td>\n",
              "      <td>2040</td>\n",
              "    </tr>\n",
              "    <tr>\n",
              "      <th>6</th>\n",
              "      <td>ents</td>\n",
              "      <td>1798</td>\n",
              "      <td>0.168598</td>\n",
              "      <td>2033</td>\n",
              "      <td>0.524858</td>\n",
              "      <td>1962</td>\n",
              "    </tr>\n",
              "    <tr>\n",
              "      <th>7</th>\n",
              "      <td>out</td>\n",
              "      <td>1819</td>\n",
              "      <td>0.156512</td>\n",
              "      <td>1987</td>\n",
              "      <td>0.556536</td>\n",
              "      <td>1984</td>\n",
              "    </tr>\n",
              "  </tbody>\n",
              "</table>\n",
              "</div>\n",
              "      <button class=\"colab-df-convert\" onclick=\"convertToInteractive('df-fd5960a0-facc-47e4-8189-ca2d1d7ef718')\"\n",
              "              title=\"Convert this dataframe to an interactive table.\"\n",
              "              style=\"display:none;\">\n",
              "        \n",
              "  <svg xmlns=\"http://www.w3.org/2000/svg\" height=\"24px\"viewBox=\"0 0 24 24\"\n",
              "       width=\"24px\">\n",
              "    <path d=\"M0 0h24v24H0V0z\" fill=\"none\"/>\n",
              "    <path d=\"M18.56 5.44l.94 2.06.94-2.06 2.06-.94-2.06-.94-.94-2.06-.94 2.06-2.06.94zm-11 1L8.5 8.5l.94-2.06 2.06-.94-2.06-.94L8.5 2.5l-.94 2.06-2.06.94zm10 10l.94 2.06.94-2.06 2.06-.94-2.06-.94-.94-2.06-.94 2.06-2.06.94z\"/><path d=\"M17.41 7.96l-1.37-1.37c-.4-.4-.92-.59-1.43-.59-.52 0-1.04.2-1.43.59L10.3 9.45l-7.72 7.72c-.78.78-.78 2.05 0 2.83L4 21.41c.39.39.9.59 1.41.59.51 0 1.02-.2 1.41-.59l7.78-7.78 2.81-2.81c.8-.78.8-2.07 0-2.86zM5.41 20L4 18.59l7.72-7.72 1.47 1.35L5.41 20z\"/>\n",
              "  </svg>\n",
              "      </button>\n",
              "      \n",
              "  <style>\n",
              "    .colab-df-container {\n",
              "      display:flex;\n",
              "      flex-wrap:wrap;\n",
              "      gap: 12px;\n",
              "    }\n",
              "\n",
              "    .colab-df-convert {\n",
              "      background-color: #E8F0FE;\n",
              "      border: none;\n",
              "      border-radius: 50%;\n",
              "      cursor: pointer;\n",
              "      display: none;\n",
              "      fill: #1967D2;\n",
              "      height: 32px;\n",
              "      padding: 0 0 0 0;\n",
              "      width: 32px;\n",
              "    }\n",
              "\n",
              "    .colab-df-convert:hover {\n",
              "      background-color: #E2EBFA;\n",
              "      box-shadow: 0px 1px 2px rgba(60, 64, 67, 0.3), 0px 1px 3px 1px rgba(60, 64, 67, 0.15);\n",
              "      fill: #174EA6;\n",
              "    }\n",
              "\n",
              "    [theme=dark] .colab-df-convert {\n",
              "      background-color: #3B4455;\n",
              "      fill: #D2E3FC;\n",
              "    }\n",
              "\n",
              "    [theme=dark] .colab-df-convert:hover {\n",
              "      background-color: #434B5C;\n",
              "      box-shadow: 0px 1px 3px 1px rgba(0, 0, 0, 0.15);\n",
              "      filter: drop-shadow(0px 1px 2px rgba(0, 0, 0, 0.3));\n",
              "      fill: #FFFFFF;\n",
              "    }\n",
              "  </style>\n",
              "\n",
              "      <script>\n",
              "        const buttonEl =\n",
              "          document.querySelector('#df-fd5960a0-facc-47e4-8189-ca2d1d7ef718 button.colab-df-convert');\n",
              "        buttonEl.style.display =\n",
              "          google.colab.kernel.accessAllowed ? 'block' : 'none';\n",
              "\n",
              "        async function convertToInteractive(key) {\n",
              "          const element = document.querySelector('#df-fd5960a0-facc-47e4-8189-ca2d1d7ef718');\n",
              "          const dataTable =\n",
              "            await google.colab.kernel.invokeFunction('convertToInteractive',\n",
              "                                                     [key], {});\n",
              "          if (!dataTable) return;\n",
              "\n",
              "          const docLinkHtml = 'Like what you see? Visit the ' +\n",
              "            '<a target=\"_blank\" href=https://colab.research.google.com/notebooks/data_table.ipynb>data table notebook</a>'\n",
              "            + ' to learn more about interactive tables.';\n",
              "          element.innerHTML = '';\n",
              "          dataTable['output_type'] = 'display_data';\n",
              "          await google.colab.output.renderOutput(dataTable, element);\n",
              "          const docLink = document.createElement('div');\n",
              "          docLink.innerHTML = docLinkHtml;\n",
              "          element.appendChild(docLink);\n",
              "        }\n",
              "      </script>\n",
              "    </div>\n",
              "  </div>\n",
              "  "
            ]
          },
          "metadata": {},
          "execution_count": 79
        }
      ]
    },
    {
      "cell_type": "markdown",
      "source": [
        "Let's check what tokens are the same and how many times they appear."
      ],
      "metadata": {
        "id": "3nlmtEr074xj"
      }
    },
    {
      "cell_type": "code",
      "source": [
        "print(df_same['token'].value_counts())"
      ],
      "metadata": {
        "colab": {
          "base_uri": "https://localhost:8080/"
        },
        "id": "VXCHsbU-MWlO",
        "outputId": "c3789060-c107-4e00-bbf7-6d0842577f88"
      },
      "execution_count": null,
      "outputs": [
        {
          "output_type": "stream",
          "name": "stdout",
          "text": [
            "1               2\n",
            "Ġexperiments    1\n",
            "Ġmovie          1\n",
            "Ġnot            1\n",
            "Ġsystem         1\n",
            "ents            1\n",
            "out             1\n",
            "Name: token, dtype: int64\n"
          ]
        }
      ]
    },
    {
      "cell_type": "markdown",
      "source": [
        "Our final measure of similarity between the attention and the attributions uses Jaccard Index, which is the intersection of two sets divided by the union. This gives us an idea of how many tokens in our top 5% are the same and now many are different. "
      ],
      "metadata": {
        "id": "2axM5uSM773X"
      }
    },
    {
      "cell_type": "code",
      "source": [
        "def jaccard_similarity(set1, set2):\n",
        "    intersection = len(list(set1.intersection(set2)))\n",
        "    print(intersection)\n",
        "    union = (len(set1) + len(set2)) - intersection\n",
        "    print(union)\n",
        "    return float(intersection) / union"
      ],
      "metadata": {
        "id": "JT1F0CMNR5_T"
      },
      "execution_count": null,
      "outputs": []
    },
    {
      "cell_type": "code",
      "source": [
        "jaccard_similarity(attention_final_layer_top, exam_attrib_top)"
      ],
      "metadata": {
        "id": "MlxxoI6PR_iE",
        "colab": {
          "base_uri": "https://localhost:8080/"
        },
        "outputId": "a1337d07-83e8-42ce-82d2-9266fa31548d"
      },
      "execution_count": null,
      "outputs": [
        {
          "output_type": "stream",
          "name": "stdout",
          "text": [
            "8\n",
            "198\n"
          ]
        },
        {
          "output_type": "execute_result",
          "data": {
            "text/plain": [
              "0.04040404040404041"
            ]
          },
          "metadata": {},
          "execution_count": 82
        }
      ]
    },
    {
      "cell_type": "markdown",
      "source": [
        "### Removing Non-Alphanumeric Tokens"
      ],
      "metadata": {
        "id": "Jexr3FgA7-8r"
      }
    },
    {
      "cell_type": "markdown",
      "source": [
        "Here we run through the 95th percentile again, but we first mask all the non-alphanumeric tokens before we obtain our top 103 (top 5%) tokens."
      ],
      "metadata": {
        "id": "JmtwaMFm-OsA"
      }
    },
    {
      "cell_type": "code",
      "source": [
        "import nltk\n",
        "from transformers import AutoTokenizer\n",
        "nltk.download('stopwords')\n",
        "tokenizer2 = AutoTokenizer.from_pretrained('allenai/longformer-base-4096', add_prefix_space=True)"
      ],
      "metadata": {
        "id": "SoudPRwHldKZ"
      },
      "execution_count": null,
      "outputs": []
    },
    {
      "cell_type": "code",
      "source": [
        "from nltk.corpus import stopwords\n",
        "all_stopwords = stopwords.words('english')\n",
        "all_stopwords.append(\" \")\n",
        "stopwords = set(tokenizer2.tokenize(all_stopwords, is_split_into_words =True))\n",
        "stopwords.update(all_stopwords)\n",
        "print(stopwords)"
      ],
      "metadata": {
        "id": "r0ahJeMAleBg"
      },
      "execution_count": null,
      "outputs": []
    },
    {
      "cell_type": "code",
      "source": [
        "attention_final_layer6 = np.copy(attention_final_layer)\n",
        "attention_final_layer6 = normalize(attention_final_layer6)\n",
        "\n",
        "attention_all_layer6 = np.copy(attention_all_layer) \n",
        "attention_all_layer6 = normalize(attention_all_layer6)\n",
        "\n",
        "exam_attrib6 = np.abs(exam_attrib)\n",
        "exam_attrib6 = normalize(exam_attrib6)\n",
        "print(exam_attrib6)\n",
        "\n",
        "exam_tokens = all_tokens[str(example)]\n",
        "alpha_neumeric_nums = [idx for idx, element in enumerate(exam_tokens) if element.isalpha() if element not in stopwords]"
      ],
      "metadata": {
        "colab": {
          "base_uri": "https://localhost:8080/"
        },
        "id": "5zRfXrer-OKu",
        "outputId": "e7986c01-5f53-470b-ac26-ec9ef94060fa"
      },
      "execution_count": null,
      "outputs": [
        {
          "output_type": "stream",
          "name": "stdout",
          "text": [
            "[0.         0.3947175  0.17893116 ... 0.20388472 0.03394853 0.        ]\n"
          ]
        }
      ]
    },
    {
      "cell_type": "markdown",
      "source": [
        "If the token is not alphanumeric, the mask designates it as \"true\", so the value will be set to 0."
      ],
      "metadata": {
        "id": "WpUCmcymsEy7"
      }
    },
    {
      "cell_type": "code",
      "source": [
        "mask = np.ones(attention_final_layer6.shape,dtype=bool) \n",
        "mask[alpha_neumeric_nums] = False\n",
        "\n",
        "attention_final_layer6[mask] = 0\n",
        "attention_all_layer6[mask] = 0\n",
        "exam_attrib6[mask] = 0"
      ],
      "metadata": {
        "id": "GGzk7BU-_pcV"
      },
      "execution_count": null,
      "outputs": []
    },
    {
      "cell_type": "markdown",
      "source": [
        "Once we have masked all the non-alphanumeric tokens, we do the same masking as previous to obtain our top 5% of tokens."
      ],
      "metadata": {
        "id": "Bl7_GZ5c9jeW"
      }
    },
    {
      "cell_type": "code",
      "source": [
        "top_final2 = np.percentile(attention_final_layer6, 95)\n",
        "top_all2 = np.percentile(attention_all_layer6, 95)\n",
        "top_attrib2 = np.percentile(exam_attrib6, 95)\n",
        "print(top_attrib2)"
      ],
      "metadata": {
        "colab": {
          "base_uri": "https://localhost:8080/"
        },
        "id": "JS6H3mHwA37b",
        "outputId": "beb14cb5-0878-4d9d-8d9f-cf260e2c6bf7"
      },
      "execution_count": null,
      "outputs": [
        {
          "output_type": "stream",
          "name": "stdout",
          "text": [
            "0.5016993530498294\n"
          ]
        }
      ]
    },
    {
      "cell_type": "markdown",
      "source": [
        "Like previously, we convert each array into a set."
      ],
      "metadata": {
        "id": "45Z2hfie9rfR"
      }
    },
    {
      "cell_type": "code",
      "source": [
        "attention_final_layer6[attention_final_layer6<top_final2] = 0\n",
        "attention_all_layer6[attention_all_layer6<top_all2] = 0\n",
        "exam_attrib6[exam_attrib6<top_attrib2] = 0\n",
        "\n",
        "attention_final_layer_top2 = np.flatnonzero(attention_final_layer6)\n",
        "attention_final_layer_top2 = set(attention_final_layer_top2)\n",
        "print(len(attention_final_layer_top2))\n",
        "\n",
        "attention_all_layer_top2 = np.flatnonzero(attention_all_layer6)\n",
        "attention_all_layer_top2 = set(attention_all_layer_top2)\n",
        "print(len(attention_all_layer_top2))\n",
        "\n",
        "exam_attrib_top2 = np.flatnonzero(exam_attrib6)\n",
        "exam_attrib_top2 = set(exam_attrib_top2)\n",
        "print(len(exam_attrib_top2))"
      ],
      "metadata": {
        "colab": {
          "base_uri": "https://localhost:8080/"
        },
        "id": "xYwPm6FJBIU3",
        "outputId": "6ad20478-dad2-484f-bce4-d4891510f3e5"
      },
      "execution_count": null,
      "outputs": [
        {
          "output_type": "stream",
          "name": "stdout",
          "text": [
            "103\n",
            "103\n",
            "103\n"
          ]
        }
      ]
    },
    {
      "cell_type": "markdown",
      "source": [
        "We once again find out which tokens have the highest attentions but not the highest attributions, and display it in a dataframe with the unmasked attentions and the attributions."
      ],
      "metadata": {
        "id": "g93bkx-097O3"
      }
    },
    {
      "cell_type": "code",
      "source": [
        "diff_alpha = sorted(list(attention_final_layer_top2 - exam_attrib_top2))\n",
        "print(len(diff_alpha))\n",
        "diff_alpha_tokens = [exam_tokens[idx] for idx in diff_alpha]\n",
        "d_diff_alpha = {\"token\": diff_alpha_tokens, \"position\":diff_alpha, \"attention_norm\":attention_final_layer2[diff_alpha], \"attribution_norm\":exam_attrib2[diff_alpha]}\n",
        "df_diff_alpha = pd.DataFrame(d_diff_alpha)\n",
        "df_diff_alpha"
      ],
      "metadata": {
        "colab": {
          "base_uri": "https://localhost:8080/",
          "height": 441
        },
        "id": "k6p8GE8FCQPS",
        "outputId": "86be3c0d-fdda-4991-8c51-9b477e8f40c7"
      },
      "execution_count": null,
      "outputs": [
        {
          "output_type": "stream",
          "name": "stdout",
          "text": [
            "95\n"
          ]
        },
        {
          "output_type": "execute_result",
          "data": {
            "text/plain": [
              "        token  position  attention_norm  attribution_norm\n",
              "0   Ġinteract       204        0.149415          0.063223\n",
              "1          Ġa       206        0.152016          0.142334\n",
              "2      Ġbased       224        0.176038          0.297475\n",
              "3   Ġdialogue       225        0.157150          0.118423\n",
              "4    Ġmanager       226        0.158432          0.290743\n",
              "..        ...       ...             ...               ...\n",
              "90         ĠI      1814        0.149192          0.244435\n",
              "91       Ġthe      1828        0.154999          0.105035\n",
              "92      Ġslot      1829        0.156081          0.195746\n",
              "93      Ġtags      1830        0.166686          0.180731\n",
              "94          x      1839        0.149948          0.221321\n",
              "\n",
              "[95 rows x 4 columns]"
            ],
            "text/html": [
              "\n",
              "  <div id=\"df-b10d96e8-ec61-432e-b591-b1895cf1c86b\">\n",
              "    <div class=\"colab-df-container\">\n",
              "      <div>\n",
              "<style scoped>\n",
              "    .dataframe tbody tr th:only-of-type {\n",
              "        vertical-align: middle;\n",
              "    }\n",
              "\n",
              "    .dataframe tbody tr th {\n",
              "        vertical-align: top;\n",
              "    }\n",
              "\n",
              "    .dataframe thead th {\n",
              "        text-align: right;\n",
              "    }\n",
              "</style>\n",
              "<table border=\"1\" class=\"dataframe\">\n",
              "  <thead>\n",
              "    <tr style=\"text-align: right;\">\n",
              "      <th></th>\n",
              "      <th>token</th>\n",
              "      <th>position</th>\n",
              "      <th>attention_norm</th>\n",
              "      <th>attribution_norm</th>\n",
              "    </tr>\n",
              "  </thead>\n",
              "  <tbody>\n",
              "    <tr>\n",
              "      <th>0</th>\n",
              "      <td>Ġinteract</td>\n",
              "      <td>204</td>\n",
              "      <td>0.149415</td>\n",
              "      <td>0.063223</td>\n",
              "    </tr>\n",
              "    <tr>\n",
              "      <th>1</th>\n",
              "      <td>Ġa</td>\n",
              "      <td>206</td>\n",
              "      <td>0.152016</td>\n",
              "      <td>0.142334</td>\n",
              "    </tr>\n",
              "    <tr>\n",
              "      <th>2</th>\n",
              "      <td>Ġbased</td>\n",
              "      <td>224</td>\n",
              "      <td>0.176038</td>\n",
              "      <td>0.297475</td>\n",
              "    </tr>\n",
              "    <tr>\n",
              "      <th>3</th>\n",
              "      <td>Ġdialogue</td>\n",
              "      <td>225</td>\n",
              "      <td>0.157150</td>\n",
              "      <td>0.118423</td>\n",
              "    </tr>\n",
              "    <tr>\n",
              "      <th>4</th>\n",
              "      <td>Ġmanager</td>\n",
              "      <td>226</td>\n",
              "      <td>0.158432</td>\n",
              "      <td>0.290743</td>\n",
              "    </tr>\n",
              "    <tr>\n",
              "      <th>...</th>\n",
              "      <td>...</td>\n",
              "      <td>...</td>\n",
              "      <td>...</td>\n",
              "      <td>...</td>\n",
              "    </tr>\n",
              "    <tr>\n",
              "      <th>90</th>\n",
              "      <td>ĠI</td>\n",
              "      <td>1814</td>\n",
              "      <td>0.149192</td>\n",
              "      <td>0.244435</td>\n",
              "    </tr>\n",
              "    <tr>\n",
              "      <th>91</th>\n",
              "      <td>Ġthe</td>\n",
              "      <td>1828</td>\n",
              "      <td>0.154999</td>\n",
              "      <td>0.105035</td>\n",
              "    </tr>\n",
              "    <tr>\n",
              "      <th>92</th>\n",
              "      <td>Ġslot</td>\n",
              "      <td>1829</td>\n",
              "      <td>0.156081</td>\n",
              "      <td>0.195746</td>\n",
              "    </tr>\n",
              "    <tr>\n",
              "      <th>93</th>\n",
              "      <td>Ġtags</td>\n",
              "      <td>1830</td>\n",
              "      <td>0.166686</td>\n",
              "      <td>0.180731</td>\n",
              "    </tr>\n",
              "    <tr>\n",
              "      <th>94</th>\n",
              "      <td>x</td>\n",
              "      <td>1839</td>\n",
              "      <td>0.149948</td>\n",
              "      <td>0.221321</td>\n",
              "    </tr>\n",
              "  </tbody>\n",
              "</table>\n",
              "<p>95 rows × 4 columns</p>\n",
              "</div>\n",
              "      <button class=\"colab-df-convert\" onclick=\"convertToInteractive('df-b10d96e8-ec61-432e-b591-b1895cf1c86b')\"\n",
              "              title=\"Convert this dataframe to an interactive table.\"\n",
              "              style=\"display:none;\">\n",
              "        \n",
              "  <svg xmlns=\"http://www.w3.org/2000/svg\" height=\"24px\"viewBox=\"0 0 24 24\"\n",
              "       width=\"24px\">\n",
              "    <path d=\"M0 0h24v24H0V0z\" fill=\"none\"/>\n",
              "    <path d=\"M18.56 5.44l.94 2.06.94-2.06 2.06-.94-2.06-.94-.94-2.06-.94 2.06-2.06.94zm-11 1L8.5 8.5l.94-2.06 2.06-.94-2.06-.94L8.5 2.5l-.94 2.06-2.06.94zm10 10l.94 2.06.94-2.06 2.06-.94-2.06-.94-.94-2.06-.94 2.06-2.06.94z\"/><path d=\"M17.41 7.96l-1.37-1.37c-.4-.4-.92-.59-1.43-.59-.52 0-1.04.2-1.43.59L10.3 9.45l-7.72 7.72c-.78.78-.78 2.05 0 2.83L4 21.41c.39.39.9.59 1.41.59.51 0 1.02-.2 1.41-.59l7.78-7.78 2.81-2.81c.8-.78.8-2.07 0-2.86zM5.41 20L4 18.59l7.72-7.72 1.47 1.35L5.41 20z\"/>\n",
              "  </svg>\n",
              "      </button>\n",
              "      \n",
              "  <style>\n",
              "    .colab-df-container {\n",
              "      display:flex;\n",
              "      flex-wrap:wrap;\n",
              "      gap: 12px;\n",
              "    }\n",
              "\n",
              "    .colab-df-convert {\n",
              "      background-color: #E8F0FE;\n",
              "      border: none;\n",
              "      border-radius: 50%;\n",
              "      cursor: pointer;\n",
              "      display: none;\n",
              "      fill: #1967D2;\n",
              "      height: 32px;\n",
              "      padding: 0 0 0 0;\n",
              "      width: 32px;\n",
              "    }\n",
              "\n",
              "    .colab-df-convert:hover {\n",
              "      background-color: #E2EBFA;\n",
              "      box-shadow: 0px 1px 2px rgba(60, 64, 67, 0.3), 0px 1px 3px 1px rgba(60, 64, 67, 0.15);\n",
              "      fill: #174EA6;\n",
              "    }\n",
              "\n",
              "    [theme=dark] .colab-df-convert {\n",
              "      background-color: #3B4455;\n",
              "      fill: #D2E3FC;\n",
              "    }\n",
              "\n",
              "    [theme=dark] .colab-df-convert:hover {\n",
              "      background-color: #434B5C;\n",
              "      box-shadow: 0px 1px 3px 1px rgba(0, 0, 0, 0.15);\n",
              "      filter: drop-shadow(0px 1px 2px rgba(0, 0, 0, 0.3));\n",
              "      fill: #FFFFFF;\n",
              "    }\n",
              "  </style>\n",
              "\n",
              "      <script>\n",
              "        const buttonEl =\n",
              "          document.querySelector('#df-b10d96e8-ec61-432e-b591-b1895cf1c86b button.colab-df-convert');\n",
              "        buttonEl.style.display =\n",
              "          google.colab.kernel.accessAllowed ? 'block' : 'none';\n",
              "\n",
              "        async function convertToInteractive(key) {\n",
              "          const element = document.querySelector('#df-b10d96e8-ec61-432e-b591-b1895cf1c86b');\n",
              "          const dataTable =\n",
              "            await google.colab.kernel.invokeFunction('convertToInteractive',\n",
              "                                                     [key], {});\n",
              "          if (!dataTable) return;\n",
              "\n",
              "          const docLinkHtml = 'Like what you see? Visit the ' +\n",
              "            '<a target=\"_blank\" href=https://colab.research.google.com/notebooks/data_table.ipynb>data table notebook</a>'\n",
              "            + ' to learn more about interactive tables.';\n",
              "          element.innerHTML = '';\n",
              "          dataTable['output_type'] = 'display_data';\n",
              "          await google.colab.output.renderOutput(dataTable, element);\n",
              "          const docLink = document.createElement('div');\n",
              "          docLink.innerHTML = docLinkHtml;\n",
              "          element.appendChild(docLink);\n",
              "        }\n",
              "      </script>\n",
              "    </div>\n",
              "  </div>\n",
              "  "
            ]
          },
          "metadata": {},
          "execution_count": 111
        }
      ]
    },
    {
      "cell_type": "markdown",
      "source": [
        "Let's check what tokens are different and how many times they appear."
      ],
      "metadata": {
        "id": "ytYv1FTQ-R6_"
      }
    },
    {
      "cell_type": "code",
      "source": [
        "print(df_diff_alpha['token'].value_counts())"
      ],
      "metadata": {
        "colab": {
          "base_uri": "https://localhost:8080/"
        },
        "id": "rFqkoCD1GSTH",
        "outputId": "768099ad-3cd7-4cc0-af70-a19c4f5b227b"
      },
      "execution_count": null,
      "outputs": [
        {
          "output_type": "stream",
          "name": "stdout",
          "text": [
            "Ġa              7\n",
            "Ġand            6\n",
            "Ġdialogue       4\n",
            "Ġof             4\n",
            "Ġto             3\n",
            "               ..\n",
            "Ġseveral        1\n",
            "Ġexperiments    1\n",
            "Ġdifferent      1\n",
            "Ġgran           1\n",
            "x               1\n",
            "Name: token, Length: 69, dtype: int64\n"
          ]
        }
      ]
    },
    {
      "cell_type": "markdown",
      "source": [
        "We once again find out which tokens have the highest attributions but not the highest attentions, and display it in a dataframe with the unmasked attentions and the attributions."
      ],
      "metadata": {
        "id": "vnkJ-j9Y-bFx"
      }
    },
    {
      "cell_type": "code",
      "source": [
        "diff_alpha2 = sorted(list(exam_attrib_top2- attention_final_layer_top2))\n",
        "print(len(diff_alpha2))\n",
        "diff_alpha_tokens2 = [exam_tokens[idx] for idx in diff_alpha2]\n",
        "d_diff_alpha2 = {\"token\": diff_alpha_tokens2, \"position\":diff_alpha2, \"attention_norm\":attention_final_layer2[diff_alpha2], \"attribution_norm\":exam_attrib2[diff_alpha2]}\n",
        "df_diff_alpha2 = pd.DataFrame(d_diff_alpha2)\n",
        "df_diff_alpha2"
      ],
      "metadata": {
        "colab": {
          "base_uri": "https://localhost:8080/",
          "height": 441
        },
        "id": "TiL98TrBC24P",
        "outputId": "8b4c3e30-d05a-45b4-fbda-ff8d18f4ee81"
      },
      "execution_count": null,
      "outputs": [
        {
          "output_type": "stream",
          "name": "stdout",
          "text": [
            "95\n"
          ]
        },
        {
          "output_type": "execute_result",
          "data": {
            "text/plain": [
              "          token  position  attention_norm  attribution_norm\n",
              "0           End         5        0.008427          0.503378\n",
              "1            ao        34        0.028510          0.757903\n",
              "2            iv       103        0.065753          0.504767\n",
              "3          ĠFeb       118        0.092118          0.541050\n",
              "4       pletion       132        0.098642          0.516848\n",
              "..          ...       ...             ...               ...\n",
              "90    Ġsequence      1871        0.118334          0.738424\n",
              "91  Ġassociated      1877        0.135052          0.556761\n",
              "92            1      1944        0.099056          0.555691\n",
              "93            1      1997        0.055756          0.612820\n",
              "94           ag      2028        0.033268          0.611825\n",
              "\n",
              "[95 rows x 4 columns]"
            ],
            "text/html": [
              "\n",
              "  <div id=\"df-a8e83335-3223-4ae2-bc24-93a364cc853e\">\n",
              "    <div class=\"colab-df-container\">\n",
              "      <div>\n",
              "<style scoped>\n",
              "    .dataframe tbody tr th:only-of-type {\n",
              "        vertical-align: middle;\n",
              "    }\n",
              "\n",
              "    .dataframe tbody tr th {\n",
              "        vertical-align: top;\n",
              "    }\n",
              "\n",
              "    .dataframe thead th {\n",
              "        text-align: right;\n",
              "    }\n",
              "</style>\n",
              "<table border=\"1\" class=\"dataframe\">\n",
              "  <thead>\n",
              "    <tr style=\"text-align: right;\">\n",
              "      <th></th>\n",
              "      <th>token</th>\n",
              "      <th>position</th>\n",
              "      <th>attention_norm</th>\n",
              "      <th>attribution_norm</th>\n",
              "    </tr>\n",
              "  </thead>\n",
              "  <tbody>\n",
              "    <tr>\n",
              "      <th>0</th>\n",
              "      <td>End</td>\n",
              "      <td>5</td>\n",
              "      <td>0.008427</td>\n",
              "      <td>0.503378</td>\n",
              "    </tr>\n",
              "    <tr>\n",
              "      <th>1</th>\n",
              "      <td>ao</td>\n",
              "      <td>34</td>\n",
              "      <td>0.028510</td>\n",
              "      <td>0.757903</td>\n",
              "    </tr>\n",
              "    <tr>\n",
              "      <th>2</th>\n",
              "      <td>iv</td>\n",
              "      <td>103</td>\n",
              "      <td>0.065753</td>\n",
              "      <td>0.504767</td>\n",
              "    </tr>\n",
              "    <tr>\n",
              "      <th>3</th>\n",
              "      <td>ĠFeb</td>\n",
              "      <td>118</td>\n",
              "      <td>0.092118</td>\n",
              "      <td>0.541050</td>\n",
              "    </tr>\n",
              "    <tr>\n",
              "      <th>4</th>\n",
              "      <td>pletion</td>\n",
              "      <td>132</td>\n",
              "      <td>0.098642</td>\n",
              "      <td>0.516848</td>\n",
              "    </tr>\n",
              "    <tr>\n",
              "      <th>...</th>\n",
              "      <td>...</td>\n",
              "      <td>...</td>\n",
              "      <td>...</td>\n",
              "      <td>...</td>\n",
              "    </tr>\n",
              "    <tr>\n",
              "      <th>90</th>\n",
              "      <td>Ġsequence</td>\n",
              "      <td>1871</td>\n",
              "      <td>0.118334</td>\n",
              "      <td>0.738424</td>\n",
              "    </tr>\n",
              "    <tr>\n",
              "      <th>91</th>\n",
              "      <td>Ġassociated</td>\n",
              "      <td>1877</td>\n",
              "      <td>0.135052</td>\n",
              "      <td>0.556761</td>\n",
              "    </tr>\n",
              "    <tr>\n",
              "      <th>92</th>\n",
              "      <td>1</td>\n",
              "      <td>1944</td>\n",
              "      <td>0.099056</td>\n",
              "      <td>0.555691</td>\n",
              "    </tr>\n",
              "    <tr>\n",
              "      <th>93</th>\n",
              "      <td>1</td>\n",
              "      <td>1997</td>\n",
              "      <td>0.055756</td>\n",
              "      <td>0.612820</td>\n",
              "    </tr>\n",
              "    <tr>\n",
              "      <th>94</th>\n",
              "      <td>ag</td>\n",
              "      <td>2028</td>\n",
              "      <td>0.033268</td>\n",
              "      <td>0.611825</td>\n",
              "    </tr>\n",
              "  </tbody>\n",
              "</table>\n",
              "<p>95 rows × 4 columns</p>\n",
              "</div>\n",
              "      <button class=\"colab-df-convert\" onclick=\"convertToInteractive('df-a8e83335-3223-4ae2-bc24-93a364cc853e')\"\n",
              "              title=\"Convert this dataframe to an interactive table.\"\n",
              "              style=\"display:none;\">\n",
              "        \n",
              "  <svg xmlns=\"http://www.w3.org/2000/svg\" height=\"24px\"viewBox=\"0 0 24 24\"\n",
              "       width=\"24px\">\n",
              "    <path d=\"M0 0h24v24H0V0z\" fill=\"none\"/>\n",
              "    <path d=\"M18.56 5.44l.94 2.06.94-2.06 2.06-.94-2.06-.94-.94-2.06-.94 2.06-2.06.94zm-11 1L8.5 8.5l.94-2.06 2.06-.94-2.06-.94L8.5 2.5l-.94 2.06-2.06.94zm10 10l.94 2.06.94-2.06 2.06-.94-2.06-.94-.94-2.06-.94 2.06-2.06.94z\"/><path d=\"M17.41 7.96l-1.37-1.37c-.4-.4-.92-.59-1.43-.59-.52 0-1.04.2-1.43.59L10.3 9.45l-7.72 7.72c-.78.78-.78 2.05 0 2.83L4 21.41c.39.39.9.59 1.41.59.51 0 1.02-.2 1.41-.59l7.78-7.78 2.81-2.81c.8-.78.8-2.07 0-2.86zM5.41 20L4 18.59l7.72-7.72 1.47 1.35L5.41 20z\"/>\n",
              "  </svg>\n",
              "      </button>\n",
              "      \n",
              "  <style>\n",
              "    .colab-df-container {\n",
              "      display:flex;\n",
              "      flex-wrap:wrap;\n",
              "      gap: 12px;\n",
              "    }\n",
              "\n",
              "    .colab-df-convert {\n",
              "      background-color: #E8F0FE;\n",
              "      border: none;\n",
              "      border-radius: 50%;\n",
              "      cursor: pointer;\n",
              "      display: none;\n",
              "      fill: #1967D2;\n",
              "      height: 32px;\n",
              "      padding: 0 0 0 0;\n",
              "      width: 32px;\n",
              "    }\n",
              "\n",
              "    .colab-df-convert:hover {\n",
              "      background-color: #E2EBFA;\n",
              "      box-shadow: 0px 1px 2px rgba(60, 64, 67, 0.3), 0px 1px 3px 1px rgba(60, 64, 67, 0.15);\n",
              "      fill: #174EA6;\n",
              "    }\n",
              "\n",
              "    [theme=dark] .colab-df-convert {\n",
              "      background-color: #3B4455;\n",
              "      fill: #D2E3FC;\n",
              "    }\n",
              "\n",
              "    [theme=dark] .colab-df-convert:hover {\n",
              "      background-color: #434B5C;\n",
              "      box-shadow: 0px 1px 3px 1px rgba(0, 0, 0, 0.15);\n",
              "      filter: drop-shadow(0px 1px 2px rgba(0, 0, 0, 0.3));\n",
              "      fill: #FFFFFF;\n",
              "    }\n",
              "  </style>\n",
              "\n",
              "      <script>\n",
              "        const buttonEl =\n",
              "          document.querySelector('#df-a8e83335-3223-4ae2-bc24-93a364cc853e button.colab-df-convert');\n",
              "        buttonEl.style.display =\n",
              "          google.colab.kernel.accessAllowed ? 'block' : 'none';\n",
              "\n",
              "        async function convertToInteractive(key) {\n",
              "          const element = document.querySelector('#df-a8e83335-3223-4ae2-bc24-93a364cc853e');\n",
              "          const dataTable =\n",
              "            await google.colab.kernel.invokeFunction('convertToInteractive',\n",
              "                                                     [key], {});\n",
              "          if (!dataTable) return;\n",
              "\n",
              "          const docLinkHtml = 'Like what you see? Visit the ' +\n",
              "            '<a target=\"_blank\" href=https://colab.research.google.com/notebooks/data_table.ipynb>data table notebook</a>'\n",
              "            + ' to learn more about interactive tables.';\n",
              "          element.innerHTML = '';\n",
              "          dataTable['output_type'] = 'display_data';\n",
              "          await google.colab.output.renderOutput(dataTable, element);\n",
              "          const docLink = document.createElement('div');\n",
              "          docLink.innerHTML = docLinkHtml;\n",
              "          element.appendChild(docLink);\n",
              "        }\n",
              "      </script>\n",
              "    </div>\n",
              "  </div>\n",
              "  "
            ]
          },
          "metadata": {},
          "execution_count": 113
        }
      ]
    },
    {
      "cell_type": "markdown",
      "source": [
        "Let's check what tokens are different and how many times they appear."
      ],
      "metadata": {
        "id": "RWrXMIKq-Vsa"
      }
    },
    {
      "cell_type": "code",
      "source": [
        "print(df_diff_alpha2['token'].value_counts())"
      ],
      "metadata": {
        "colab": {
          "base_uri": "https://localhost:8080/"
        },
        "id": "SuRLXVY_GRyu",
        "outputId": "685e40a0-079a-4bb9-aae4-cdf38eb40b70"
      },
      "execution_count": null,
      "outputs": [
        {
          "output_type": "stream",
          "name": "stdout",
          "text": [
            "Ġsystem           21\n",
            "1                  9\n",
            "Ġneural            7\n",
            "ĠIn                4\n",
            "Ġwi                3\n",
            "Ġare               3\n",
            "ĠâĢĶ               3\n",
            "Ġweekend           3\n",
            "Ġfind              3\n",
            "G                  3\n",
            "Ġend               2\n",
            "Ġavailable         2\n",
            "Ġmovie             2\n",
            "ances              2\n",
            "Ġunderstanding     2\n",
            "Ġsequence          2\n",
            "Ġhow               1\n",
            "Ġfirst             1\n",
            "Ġshow              1\n",
            "Ġhave              1\n",
            "Ġabove             1\n",
            "date               1\n",
            "ĠFramework         1\n",
            "Ġassociated        1\n",
            "Ġcontributions     1\n",
            "End                1\n",
            "Ġlacks             1\n",
            "ao                 1\n",
            "Ġsupervised        1\n",
            "M                  1\n",
            "Ġcom               1\n",
            "Ġconsisting        1\n",
            "Ġcomplex           1\n",
            "Ġorder             1\n",
            "Ġallow             1\n",
            "Ġwith              1\n",
            "pletion            1\n",
            "ĠFeb               1\n",
            "iv                 1\n",
            "ag                 1\n",
            "Name: token, dtype: int64\n"
          ]
        }
      ]
    },
    {
      "cell_type": "markdown",
      "source": [
        "Lastly, we find out which tokens are part of the highest attentions and highest attributions."
      ],
      "metadata": {
        "id": "kkMMmkLm-Yoo"
      }
    },
    {
      "cell_type": "code",
      "source": [
        "same_alpha = sorted(list(exam_attrib_top2 & attention_final_layer_top2))\n",
        "print(len(same_alpha))\n",
        "same_alpha_tokens = [exam_tokens[idx] for idx in same_alpha]\n",
        "d_same_alpha = {\"token\": same_alpha_tokens, \"position\":same_alpha, \"attention_norm\":attention_final_layer2[same_alpha], \"attribution_norm\":exam_attrib2[same_alpha]}\n",
        "df_same_alpha = pd.DataFrame(d_same_alpha)\n",
        "df_same_alpha"
      ],
      "metadata": {
        "colab": {
          "base_uri": "https://localhost:8080/",
          "height": 318
        },
        "id": "DGg8RaOVDGqK",
        "outputId": "68425528-f52d-46e8-a301-0cc73454a2e4"
      },
      "execution_count": null,
      "outputs": [
        {
          "output_type": "stream",
          "name": "stdout",
          "text": [
            "8\n"
          ]
        },
        {
          "output_type": "execute_result",
          "data": {
            "text/plain": [
              "          token  position  attention_norm  attribution_norm\n",
              "0  Ġexperiments       243        0.164711          0.651922\n",
              "1        Ġmovie       246        0.157143          0.769662\n",
              "2          Ġnot       260        0.170399          0.513761\n",
              "3       Ġsystem       267        0.162266          0.722033\n",
              "4             1       302        0.153822          0.650406\n",
              "5             1      1767        0.156727          0.818578\n",
              "6          ents      1798        0.168598          0.524858\n",
              "7           out      1819        0.156512          0.556536"
            ],
            "text/html": [
              "\n",
              "  <div id=\"df-2d8e3ace-1839-4d0c-b847-289ee0275fd4\">\n",
              "    <div class=\"colab-df-container\">\n",
              "      <div>\n",
              "<style scoped>\n",
              "    .dataframe tbody tr th:only-of-type {\n",
              "        vertical-align: middle;\n",
              "    }\n",
              "\n",
              "    .dataframe tbody tr th {\n",
              "        vertical-align: top;\n",
              "    }\n",
              "\n",
              "    .dataframe thead th {\n",
              "        text-align: right;\n",
              "    }\n",
              "</style>\n",
              "<table border=\"1\" class=\"dataframe\">\n",
              "  <thead>\n",
              "    <tr style=\"text-align: right;\">\n",
              "      <th></th>\n",
              "      <th>token</th>\n",
              "      <th>position</th>\n",
              "      <th>attention_norm</th>\n",
              "      <th>attribution_norm</th>\n",
              "    </tr>\n",
              "  </thead>\n",
              "  <tbody>\n",
              "    <tr>\n",
              "      <th>0</th>\n",
              "      <td>Ġexperiments</td>\n",
              "      <td>243</td>\n",
              "      <td>0.164711</td>\n",
              "      <td>0.651922</td>\n",
              "    </tr>\n",
              "    <tr>\n",
              "      <th>1</th>\n",
              "      <td>Ġmovie</td>\n",
              "      <td>246</td>\n",
              "      <td>0.157143</td>\n",
              "      <td>0.769662</td>\n",
              "    </tr>\n",
              "    <tr>\n",
              "      <th>2</th>\n",
              "      <td>Ġnot</td>\n",
              "      <td>260</td>\n",
              "      <td>0.170399</td>\n",
              "      <td>0.513761</td>\n",
              "    </tr>\n",
              "    <tr>\n",
              "      <th>3</th>\n",
              "      <td>Ġsystem</td>\n",
              "      <td>267</td>\n",
              "      <td>0.162266</td>\n",
              "      <td>0.722033</td>\n",
              "    </tr>\n",
              "    <tr>\n",
              "      <th>4</th>\n",
              "      <td>1</td>\n",
              "      <td>302</td>\n",
              "      <td>0.153822</td>\n",
              "      <td>0.650406</td>\n",
              "    </tr>\n",
              "    <tr>\n",
              "      <th>5</th>\n",
              "      <td>1</td>\n",
              "      <td>1767</td>\n",
              "      <td>0.156727</td>\n",
              "      <td>0.818578</td>\n",
              "    </tr>\n",
              "    <tr>\n",
              "      <th>6</th>\n",
              "      <td>ents</td>\n",
              "      <td>1798</td>\n",
              "      <td>0.168598</td>\n",
              "      <td>0.524858</td>\n",
              "    </tr>\n",
              "    <tr>\n",
              "      <th>7</th>\n",
              "      <td>out</td>\n",
              "      <td>1819</td>\n",
              "      <td>0.156512</td>\n",
              "      <td>0.556536</td>\n",
              "    </tr>\n",
              "  </tbody>\n",
              "</table>\n",
              "</div>\n",
              "      <button class=\"colab-df-convert\" onclick=\"convertToInteractive('df-2d8e3ace-1839-4d0c-b847-289ee0275fd4')\"\n",
              "              title=\"Convert this dataframe to an interactive table.\"\n",
              "              style=\"display:none;\">\n",
              "        \n",
              "  <svg xmlns=\"http://www.w3.org/2000/svg\" height=\"24px\"viewBox=\"0 0 24 24\"\n",
              "       width=\"24px\">\n",
              "    <path d=\"M0 0h24v24H0V0z\" fill=\"none\"/>\n",
              "    <path d=\"M18.56 5.44l.94 2.06.94-2.06 2.06-.94-2.06-.94-.94-2.06-.94 2.06-2.06.94zm-11 1L8.5 8.5l.94-2.06 2.06-.94-2.06-.94L8.5 2.5l-.94 2.06-2.06.94zm10 10l.94 2.06.94-2.06 2.06-.94-2.06-.94-.94-2.06-.94 2.06-2.06.94z\"/><path d=\"M17.41 7.96l-1.37-1.37c-.4-.4-.92-.59-1.43-.59-.52 0-1.04.2-1.43.59L10.3 9.45l-7.72 7.72c-.78.78-.78 2.05 0 2.83L4 21.41c.39.39.9.59 1.41.59.51 0 1.02-.2 1.41-.59l7.78-7.78 2.81-2.81c.8-.78.8-2.07 0-2.86zM5.41 20L4 18.59l7.72-7.72 1.47 1.35L5.41 20z\"/>\n",
              "  </svg>\n",
              "      </button>\n",
              "      \n",
              "  <style>\n",
              "    .colab-df-container {\n",
              "      display:flex;\n",
              "      flex-wrap:wrap;\n",
              "      gap: 12px;\n",
              "    }\n",
              "\n",
              "    .colab-df-convert {\n",
              "      background-color: #E8F0FE;\n",
              "      border: none;\n",
              "      border-radius: 50%;\n",
              "      cursor: pointer;\n",
              "      display: none;\n",
              "      fill: #1967D2;\n",
              "      height: 32px;\n",
              "      padding: 0 0 0 0;\n",
              "      width: 32px;\n",
              "    }\n",
              "\n",
              "    .colab-df-convert:hover {\n",
              "      background-color: #E2EBFA;\n",
              "      box-shadow: 0px 1px 2px rgba(60, 64, 67, 0.3), 0px 1px 3px 1px rgba(60, 64, 67, 0.15);\n",
              "      fill: #174EA6;\n",
              "    }\n",
              "\n",
              "    [theme=dark] .colab-df-convert {\n",
              "      background-color: #3B4455;\n",
              "      fill: #D2E3FC;\n",
              "    }\n",
              "\n",
              "    [theme=dark] .colab-df-convert:hover {\n",
              "      background-color: #434B5C;\n",
              "      box-shadow: 0px 1px 3px 1px rgba(0, 0, 0, 0.15);\n",
              "      filter: drop-shadow(0px 1px 2px rgba(0, 0, 0, 0.3));\n",
              "      fill: #FFFFFF;\n",
              "    }\n",
              "  </style>\n",
              "\n",
              "      <script>\n",
              "        const buttonEl =\n",
              "          document.querySelector('#df-2d8e3ace-1839-4d0c-b847-289ee0275fd4 button.colab-df-convert');\n",
              "        buttonEl.style.display =\n",
              "          google.colab.kernel.accessAllowed ? 'block' : 'none';\n",
              "\n",
              "        async function convertToInteractive(key) {\n",
              "          const element = document.querySelector('#df-2d8e3ace-1839-4d0c-b847-289ee0275fd4');\n",
              "          const dataTable =\n",
              "            await google.colab.kernel.invokeFunction('convertToInteractive',\n",
              "                                                     [key], {});\n",
              "          if (!dataTable) return;\n",
              "\n",
              "          const docLinkHtml = 'Like what you see? Visit the ' +\n",
              "            '<a target=\"_blank\" href=https://colab.research.google.com/notebooks/data_table.ipynb>data table notebook</a>'\n",
              "            + ' to learn more about interactive tables.';\n",
              "          element.innerHTML = '';\n",
              "          dataTable['output_type'] = 'display_data';\n",
              "          await google.colab.output.renderOutput(dataTable, element);\n",
              "          const docLink = document.createElement('div');\n",
              "          docLink.innerHTML = docLinkHtml;\n",
              "          element.appendChild(docLink);\n",
              "        }\n",
              "      </script>\n",
              "    </div>\n",
              "  </div>\n",
              "  "
            ]
          },
          "metadata": {},
          "execution_count": 115
        }
      ]
    },
    {
      "cell_type": "markdown",
      "source": [
        "Check what tokens are the same and how many times they appear."
      ],
      "metadata": {
        "id": "BI_W_-ln-oGK"
      }
    },
    {
      "cell_type": "code",
      "source": [
        "print(df_same_alpha['token'].value_counts())"
      ],
      "metadata": {
        "colab": {
          "base_uri": "https://localhost:8080/"
        },
        "id": "WOxfDe1qGJ2J",
        "outputId": "f8da6443-85cf-4221-c006-88793143a4f0"
      },
      "execution_count": null,
      "outputs": [
        {
          "output_type": "stream",
          "name": "stdout",
          "text": [
            "1               2\n",
            "Ġexperiments    1\n",
            "Ġmovie          1\n",
            "Ġnot            1\n",
            "Ġsystem         1\n",
            "ents            1\n",
            "out             1\n",
            "Name: token, dtype: int64\n"
          ]
        }
      ]
    },
    {
      "cell_type": "markdown",
      "source": [
        "Finally, we get the Jaccard Index to indentify how similar our group of top attribtuions and attentions are."
      ],
      "metadata": {
        "id": "viraBd5i-suA"
      }
    },
    {
      "cell_type": "code",
      "source": [
        "jaccard_similarity(attention_final_layer_top2, exam_attrib_top2)"
      ],
      "metadata": {
        "colab": {
          "base_uri": "https://localhost:8080/"
        },
        "id": "eL4TVY9hGsQx",
        "outputId": "df6c8e68-4848-4675-c704-2cde3993aa80"
      },
      "execution_count": null,
      "outputs": [
        {
          "output_type": "stream",
          "name": "stdout",
          "text": [
            "8\n",
            "198\n"
          ]
        },
        {
          "output_type": "execute_result",
          "data": {
            "text/plain": [
              "0.04040404040404041"
            ]
          },
          "metadata": {},
          "execution_count": 117
        }
      ]
    }
  ],
  "metadata": {
    "file_extension": ".py",
    "kernelspec": {
      "display_name": "Python 3",
      "name": "python3"
    },
    "language_info": {
      "name": "python"
    },
    "mimetype": "text/x-python",
    "name": "python",
    "npconvert_exporter": "python",
    "pygments_lexer": "ipython3",
    "version": 3,
    "colab": {
      "provenance": [],
      "collapsed_sections": [],
      "machine_shape": "hm"
    },
    "accelerator": "GPU",
    "widgets": {
      "application/vnd.jupyter.widget-state+json": {
        "311086a5eec84f5c9a1af492f3d8835c": {
          "model_module": "@jupyter-widgets/controls",
          "model_name": "HBoxModel",
          "model_module_version": "1.5.0",
          "state": {
            "_dom_classes": [],
            "_model_module": "@jupyter-widgets/controls",
            "_model_module_version": "1.5.0",
            "_model_name": "HBoxModel",
            "_view_count": null,
            "_view_module": "@jupyter-widgets/controls",
            "_view_module_version": "1.5.0",
            "_view_name": "HBoxView",
            "box_style": "",
            "children": [
              "IPY_MODEL_c4b1145962b3480aad398d14562c177f",
              "IPY_MODEL_9cff3eb12a354c8cb0cda1d100ca5247",
              "IPY_MODEL_2c39e993ac994a8bad8c942a0e8ee4cd"
            ],
            "layout": "IPY_MODEL_0ecd46b072bd450790cc0ebab9463d09"
          }
        },
        "c4b1145962b3480aad398d14562c177f": {
          "model_module": "@jupyter-widgets/controls",
          "model_name": "HTMLModel",
          "model_module_version": "1.5.0",
          "state": {
            "_dom_classes": [],
            "_model_module": "@jupyter-widgets/controls",
            "_model_module_version": "1.5.0",
            "_model_name": "HTMLModel",
            "_view_count": null,
            "_view_module": "@jupyter-widgets/controls",
            "_view_module_version": "1.5.0",
            "_view_name": "HTMLView",
            "description": "",
            "description_tooltip": null,
            "layout": "IPY_MODEL_0936fa6ed7cb4d6492077846c6bbad6a",
            "placeholder": "​",
            "style": "IPY_MODEL_6f2d979ce48b48f791d0a434e232e8a8",
            "value": "Downloading: 100%"
          }
        },
        "9cff3eb12a354c8cb0cda1d100ca5247": {
          "model_module": "@jupyter-widgets/controls",
          "model_name": "FloatProgressModel",
          "model_module_version": "1.5.0",
          "state": {
            "_dom_classes": [],
            "_model_module": "@jupyter-widgets/controls",
            "_model_module_version": "1.5.0",
            "_model_name": "FloatProgressModel",
            "_view_count": null,
            "_view_module": "@jupyter-widgets/controls",
            "_view_module_version": "1.5.0",
            "_view_name": "ProgressView",
            "bar_style": "success",
            "description": "",
            "description_tooltip": null,
            "layout": "IPY_MODEL_1d2a0599f3c544f784d9a32a68e35f14",
            "max": 694,
            "min": 0,
            "orientation": "horizontal",
            "style": "IPY_MODEL_54ef30be260c47b0908b6ffd81b7c363",
            "value": 694
          }
        },
        "2c39e993ac994a8bad8c942a0e8ee4cd": {
          "model_module": "@jupyter-widgets/controls",
          "model_name": "HTMLModel",
          "model_module_version": "1.5.0",
          "state": {
            "_dom_classes": [],
            "_model_module": "@jupyter-widgets/controls",
            "_model_module_version": "1.5.0",
            "_model_name": "HTMLModel",
            "_view_count": null,
            "_view_module": "@jupyter-widgets/controls",
            "_view_module_version": "1.5.0",
            "_view_name": "HTMLView",
            "description": "",
            "description_tooltip": null,
            "layout": "IPY_MODEL_9acb45d9d5d0499aab45bb368baaa01b",
            "placeholder": "​",
            "style": "IPY_MODEL_3641848da8d54491949159d4b30dce62",
            "value": " 694/694 [00:00&lt;00:00, 25.4kB/s]"
          }
        },
        "0ecd46b072bd450790cc0ebab9463d09": {
          "model_module": "@jupyter-widgets/base",
          "model_name": "LayoutModel",
          "model_module_version": "1.2.0",
          "state": {
            "_model_module": "@jupyter-widgets/base",
            "_model_module_version": "1.2.0",
            "_model_name": "LayoutModel",
            "_view_count": null,
            "_view_module": "@jupyter-widgets/base",
            "_view_module_version": "1.2.0",
            "_view_name": "LayoutView",
            "align_content": null,
            "align_items": null,
            "align_self": null,
            "border": null,
            "bottom": null,
            "display": null,
            "flex": null,
            "flex_flow": null,
            "grid_area": null,
            "grid_auto_columns": null,
            "grid_auto_flow": null,
            "grid_auto_rows": null,
            "grid_column": null,
            "grid_gap": null,
            "grid_row": null,
            "grid_template_areas": null,
            "grid_template_columns": null,
            "grid_template_rows": null,
            "height": null,
            "justify_content": null,
            "justify_items": null,
            "left": null,
            "margin": null,
            "max_height": null,
            "max_width": null,
            "min_height": null,
            "min_width": null,
            "object_fit": null,
            "object_position": null,
            "order": null,
            "overflow": null,
            "overflow_x": null,
            "overflow_y": null,
            "padding": null,
            "right": null,
            "top": null,
            "visibility": null,
            "width": null
          }
        },
        "0936fa6ed7cb4d6492077846c6bbad6a": {
          "model_module": "@jupyter-widgets/base",
          "model_name": "LayoutModel",
          "model_module_version": "1.2.0",
          "state": {
            "_model_module": "@jupyter-widgets/base",
            "_model_module_version": "1.2.0",
            "_model_name": "LayoutModel",
            "_view_count": null,
            "_view_module": "@jupyter-widgets/base",
            "_view_module_version": "1.2.0",
            "_view_name": "LayoutView",
            "align_content": null,
            "align_items": null,
            "align_self": null,
            "border": null,
            "bottom": null,
            "display": null,
            "flex": null,
            "flex_flow": null,
            "grid_area": null,
            "grid_auto_columns": null,
            "grid_auto_flow": null,
            "grid_auto_rows": null,
            "grid_column": null,
            "grid_gap": null,
            "grid_row": null,
            "grid_template_areas": null,
            "grid_template_columns": null,
            "grid_template_rows": null,
            "height": null,
            "justify_content": null,
            "justify_items": null,
            "left": null,
            "margin": null,
            "max_height": null,
            "max_width": null,
            "min_height": null,
            "min_width": null,
            "object_fit": null,
            "object_position": null,
            "order": null,
            "overflow": null,
            "overflow_x": null,
            "overflow_y": null,
            "padding": null,
            "right": null,
            "top": null,
            "visibility": null,
            "width": null
          }
        },
        "6f2d979ce48b48f791d0a434e232e8a8": {
          "model_module": "@jupyter-widgets/controls",
          "model_name": "DescriptionStyleModel",
          "model_module_version": "1.5.0",
          "state": {
            "_model_module": "@jupyter-widgets/controls",
            "_model_module_version": "1.5.0",
            "_model_name": "DescriptionStyleModel",
            "_view_count": null,
            "_view_module": "@jupyter-widgets/base",
            "_view_module_version": "1.2.0",
            "_view_name": "StyleView",
            "description_width": ""
          }
        },
        "1d2a0599f3c544f784d9a32a68e35f14": {
          "model_module": "@jupyter-widgets/base",
          "model_name": "LayoutModel",
          "model_module_version": "1.2.0",
          "state": {
            "_model_module": "@jupyter-widgets/base",
            "_model_module_version": "1.2.0",
            "_model_name": "LayoutModel",
            "_view_count": null,
            "_view_module": "@jupyter-widgets/base",
            "_view_module_version": "1.2.0",
            "_view_name": "LayoutView",
            "align_content": null,
            "align_items": null,
            "align_self": null,
            "border": null,
            "bottom": null,
            "display": null,
            "flex": null,
            "flex_flow": null,
            "grid_area": null,
            "grid_auto_columns": null,
            "grid_auto_flow": null,
            "grid_auto_rows": null,
            "grid_column": null,
            "grid_gap": null,
            "grid_row": null,
            "grid_template_areas": null,
            "grid_template_columns": null,
            "grid_template_rows": null,
            "height": null,
            "justify_content": null,
            "justify_items": null,
            "left": null,
            "margin": null,
            "max_height": null,
            "max_width": null,
            "min_height": null,
            "min_width": null,
            "object_fit": null,
            "object_position": null,
            "order": null,
            "overflow": null,
            "overflow_x": null,
            "overflow_y": null,
            "padding": null,
            "right": null,
            "top": null,
            "visibility": null,
            "width": null
          }
        },
        "54ef30be260c47b0908b6ffd81b7c363": {
          "model_module": "@jupyter-widgets/controls",
          "model_name": "ProgressStyleModel",
          "model_module_version": "1.5.0",
          "state": {
            "_model_module": "@jupyter-widgets/controls",
            "_model_module_version": "1.5.0",
            "_model_name": "ProgressStyleModel",
            "_view_count": null,
            "_view_module": "@jupyter-widgets/base",
            "_view_module_version": "1.2.0",
            "_view_name": "StyleView",
            "bar_color": null,
            "description_width": ""
          }
        },
        "9acb45d9d5d0499aab45bb368baaa01b": {
          "model_module": "@jupyter-widgets/base",
          "model_name": "LayoutModel",
          "model_module_version": "1.2.0",
          "state": {
            "_model_module": "@jupyter-widgets/base",
            "_model_module_version": "1.2.0",
            "_model_name": "LayoutModel",
            "_view_count": null,
            "_view_module": "@jupyter-widgets/base",
            "_view_module_version": "1.2.0",
            "_view_name": "LayoutView",
            "align_content": null,
            "align_items": null,
            "align_self": null,
            "border": null,
            "bottom": null,
            "display": null,
            "flex": null,
            "flex_flow": null,
            "grid_area": null,
            "grid_auto_columns": null,
            "grid_auto_flow": null,
            "grid_auto_rows": null,
            "grid_column": null,
            "grid_gap": null,
            "grid_row": null,
            "grid_template_areas": null,
            "grid_template_columns": null,
            "grid_template_rows": null,
            "height": null,
            "justify_content": null,
            "justify_items": null,
            "left": null,
            "margin": null,
            "max_height": null,
            "max_width": null,
            "min_height": null,
            "min_width": null,
            "object_fit": null,
            "object_position": null,
            "order": null,
            "overflow": null,
            "overflow_x": null,
            "overflow_y": null,
            "padding": null,
            "right": null,
            "top": null,
            "visibility": null,
            "width": null
          }
        },
        "3641848da8d54491949159d4b30dce62": {
          "model_module": "@jupyter-widgets/controls",
          "model_name": "DescriptionStyleModel",
          "model_module_version": "1.5.0",
          "state": {
            "_model_module": "@jupyter-widgets/controls",
            "_model_module_version": "1.5.0",
            "_model_name": "DescriptionStyleModel",
            "_view_count": null,
            "_view_module": "@jupyter-widgets/base",
            "_view_module_version": "1.2.0",
            "_view_name": "StyleView",
            "description_width": ""
          }
        },
        "131ba96d76864a17845d6ae6f946bc88": {
          "model_module": "@jupyter-widgets/controls",
          "model_name": "HBoxModel",
          "model_module_version": "1.5.0",
          "state": {
            "_dom_classes": [],
            "_model_module": "@jupyter-widgets/controls",
            "_model_module_version": "1.5.0",
            "_model_name": "HBoxModel",
            "_view_count": null,
            "_view_module": "@jupyter-widgets/controls",
            "_view_module_version": "1.5.0",
            "_view_name": "HBoxView",
            "box_style": "",
            "children": [
              "IPY_MODEL_5e6cef21b24b499cb65324e7558e2b8c",
              "IPY_MODEL_08b72be2ce80446ebf1a2cdf4e9f2a38",
              "IPY_MODEL_07dfc0dbc176467fa39e136b8e482ded"
            ],
            "layout": "IPY_MODEL_36dd5680f8b84f14b5032bac72148f71"
          }
        },
        "5e6cef21b24b499cb65324e7558e2b8c": {
          "model_module": "@jupyter-widgets/controls",
          "model_name": "HTMLModel",
          "model_module_version": "1.5.0",
          "state": {
            "_dom_classes": [],
            "_model_module": "@jupyter-widgets/controls",
            "_model_module_version": "1.5.0",
            "_model_name": "HTMLModel",
            "_view_count": null,
            "_view_module": "@jupyter-widgets/controls",
            "_view_module_version": "1.5.0",
            "_view_name": "HTMLView",
            "description": "",
            "description_tooltip": null,
            "layout": "IPY_MODEL_e18f798219834afb8f2b2c0d3dd2f3fc",
            "placeholder": "​",
            "style": "IPY_MODEL_b083ee8e5ad448dda8d8ad584a684385",
            "value": "Downloading: 100%"
          }
        },
        "08b72be2ce80446ebf1a2cdf4e9f2a38": {
          "model_module": "@jupyter-widgets/controls",
          "model_name": "FloatProgressModel",
          "model_module_version": "1.5.0",
          "state": {
            "_dom_classes": [],
            "_model_module": "@jupyter-widgets/controls",
            "_model_module_version": "1.5.0",
            "_model_name": "FloatProgressModel",
            "_view_count": null,
            "_view_module": "@jupyter-widgets/controls",
            "_view_module_version": "1.5.0",
            "_view_name": "ProgressView",
            "bar_style": "success",
            "description": "",
            "description_tooltip": null,
            "layout": "IPY_MODEL_9f88d7da7f904d8d80c1ac8904c9d3c9",
            "max": 597257159,
            "min": 0,
            "orientation": "horizontal",
            "style": "IPY_MODEL_0f3da3faaa284952b7c246839609575d",
            "value": 597257159
          }
        },
        "07dfc0dbc176467fa39e136b8e482ded": {
          "model_module": "@jupyter-widgets/controls",
          "model_name": "HTMLModel",
          "model_module_version": "1.5.0",
          "state": {
            "_dom_classes": [],
            "_model_module": "@jupyter-widgets/controls",
            "_model_module_version": "1.5.0",
            "_model_name": "HTMLModel",
            "_view_count": null,
            "_view_module": "@jupyter-widgets/controls",
            "_view_module_version": "1.5.0",
            "_view_name": "HTMLView",
            "description": "",
            "description_tooltip": null,
            "layout": "IPY_MODEL_a3008f6f74bb47aebcd1ff7f79a5fd37",
            "placeholder": "​",
            "style": "IPY_MODEL_11760ee203b84edba3cd3f7930a52ea5",
            "value": " 570M/570M [00:09&lt;00:00, 64.6MB/s]"
          }
        },
        "36dd5680f8b84f14b5032bac72148f71": {
          "model_module": "@jupyter-widgets/base",
          "model_name": "LayoutModel",
          "model_module_version": "1.2.0",
          "state": {
            "_model_module": "@jupyter-widgets/base",
            "_model_module_version": "1.2.0",
            "_model_name": "LayoutModel",
            "_view_count": null,
            "_view_module": "@jupyter-widgets/base",
            "_view_module_version": "1.2.0",
            "_view_name": "LayoutView",
            "align_content": null,
            "align_items": null,
            "align_self": null,
            "border": null,
            "bottom": null,
            "display": null,
            "flex": null,
            "flex_flow": null,
            "grid_area": null,
            "grid_auto_columns": null,
            "grid_auto_flow": null,
            "grid_auto_rows": null,
            "grid_column": null,
            "grid_gap": null,
            "grid_row": null,
            "grid_template_areas": null,
            "grid_template_columns": null,
            "grid_template_rows": null,
            "height": null,
            "justify_content": null,
            "justify_items": null,
            "left": null,
            "margin": null,
            "max_height": null,
            "max_width": null,
            "min_height": null,
            "min_width": null,
            "object_fit": null,
            "object_position": null,
            "order": null,
            "overflow": null,
            "overflow_x": null,
            "overflow_y": null,
            "padding": null,
            "right": null,
            "top": null,
            "visibility": null,
            "width": null
          }
        },
        "e18f798219834afb8f2b2c0d3dd2f3fc": {
          "model_module": "@jupyter-widgets/base",
          "model_name": "LayoutModel",
          "model_module_version": "1.2.0",
          "state": {
            "_model_module": "@jupyter-widgets/base",
            "_model_module_version": "1.2.0",
            "_model_name": "LayoutModel",
            "_view_count": null,
            "_view_module": "@jupyter-widgets/base",
            "_view_module_version": "1.2.0",
            "_view_name": "LayoutView",
            "align_content": null,
            "align_items": null,
            "align_self": null,
            "border": null,
            "bottom": null,
            "display": null,
            "flex": null,
            "flex_flow": null,
            "grid_area": null,
            "grid_auto_columns": null,
            "grid_auto_flow": null,
            "grid_auto_rows": null,
            "grid_column": null,
            "grid_gap": null,
            "grid_row": null,
            "grid_template_areas": null,
            "grid_template_columns": null,
            "grid_template_rows": null,
            "height": null,
            "justify_content": null,
            "justify_items": null,
            "left": null,
            "margin": null,
            "max_height": null,
            "max_width": null,
            "min_height": null,
            "min_width": null,
            "object_fit": null,
            "object_position": null,
            "order": null,
            "overflow": null,
            "overflow_x": null,
            "overflow_y": null,
            "padding": null,
            "right": null,
            "top": null,
            "visibility": null,
            "width": null
          }
        },
        "b083ee8e5ad448dda8d8ad584a684385": {
          "model_module": "@jupyter-widgets/controls",
          "model_name": "DescriptionStyleModel",
          "model_module_version": "1.5.0",
          "state": {
            "_model_module": "@jupyter-widgets/controls",
            "_model_module_version": "1.5.0",
            "_model_name": "DescriptionStyleModel",
            "_view_count": null,
            "_view_module": "@jupyter-widgets/base",
            "_view_module_version": "1.2.0",
            "_view_name": "StyleView",
            "description_width": ""
          }
        },
        "9f88d7da7f904d8d80c1ac8904c9d3c9": {
          "model_module": "@jupyter-widgets/base",
          "model_name": "LayoutModel",
          "model_module_version": "1.2.0",
          "state": {
            "_model_module": "@jupyter-widgets/base",
            "_model_module_version": "1.2.0",
            "_model_name": "LayoutModel",
            "_view_count": null,
            "_view_module": "@jupyter-widgets/base",
            "_view_module_version": "1.2.0",
            "_view_name": "LayoutView",
            "align_content": null,
            "align_items": null,
            "align_self": null,
            "border": null,
            "bottom": null,
            "display": null,
            "flex": null,
            "flex_flow": null,
            "grid_area": null,
            "grid_auto_columns": null,
            "grid_auto_flow": null,
            "grid_auto_rows": null,
            "grid_column": null,
            "grid_gap": null,
            "grid_row": null,
            "grid_template_areas": null,
            "grid_template_columns": null,
            "grid_template_rows": null,
            "height": null,
            "justify_content": null,
            "justify_items": null,
            "left": null,
            "margin": null,
            "max_height": null,
            "max_width": null,
            "min_height": null,
            "min_width": null,
            "object_fit": null,
            "object_position": null,
            "order": null,
            "overflow": null,
            "overflow_x": null,
            "overflow_y": null,
            "padding": null,
            "right": null,
            "top": null,
            "visibility": null,
            "width": null
          }
        },
        "0f3da3faaa284952b7c246839609575d": {
          "model_module": "@jupyter-widgets/controls",
          "model_name": "ProgressStyleModel",
          "model_module_version": "1.5.0",
          "state": {
            "_model_module": "@jupyter-widgets/controls",
            "_model_module_version": "1.5.0",
            "_model_name": "ProgressStyleModel",
            "_view_count": null,
            "_view_module": "@jupyter-widgets/base",
            "_view_module_version": "1.2.0",
            "_view_name": "StyleView",
            "bar_color": null,
            "description_width": ""
          }
        },
        "a3008f6f74bb47aebcd1ff7f79a5fd37": {
          "model_module": "@jupyter-widgets/base",
          "model_name": "LayoutModel",
          "model_module_version": "1.2.0",
          "state": {
            "_model_module": "@jupyter-widgets/base",
            "_model_module_version": "1.2.0",
            "_model_name": "LayoutModel",
            "_view_count": null,
            "_view_module": "@jupyter-widgets/base",
            "_view_module_version": "1.2.0",
            "_view_name": "LayoutView",
            "align_content": null,
            "align_items": null,
            "align_self": null,
            "border": null,
            "bottom": null,
            "display": null,
            "flex": null,
            "flex_flow": null,
            "grid_area": null,
            "grid_auto_columns": null,
            "grid_auto_flow": null,
            "grid_auto_rows": null,
            "grid_column": null,
            "grid_gap": null,
            "grid_row": null,
            "grid_template_areas": null,
            "grid_template_columns": null,
            "grid_template_rows": null,
            "height": null,
            "justify_content": null,
            "justify_items": null,
            "left": null,
            "margin": null,
            "max_height": null,
            "max_width": null,
            "min_height": null,
            "min_width": null,
            "object_fit": null,
            "object_position": null,
            "order": null,
            "overflow": null,
            "overflow_x": null,
            "overflow_y": null,
            "padding": null,
            "right": null,
            "top": null,
            "visibility": null,
            "width": null
          }
        },
        "11760ee203b84edba3cd3f7930a52ea5": {
          "model_module": "@jupyter-widgets/controls",
          "model_name": "DescriptionStyleModel",
          "model_module_version": "1.5.0",
          "state": {
            "_model_module": "@jupyter-widgets/controls",
            "_model_module_version": "1.5.0",
            "_model_name": "DescriptionStyleModel",
            "_view_count": null,
            "_view_module": "@jupyter-widgets/base",
            "_view_module_version": "1.2.0",
            "_view_name": "StyleView",
            "description_width": ""
          }
        },
        "8f33de9ece0a440ea50e6a83c35641d5": {
          "model_module": "@jupyter-widgets/controls",
          "model_name": "HBoxModel",
          "model_module_version": "1.5.0",
          "state": {
            "_dom_classes": [],
            "_model_module": "@jupyter-widgets/controls",
            "_model_module_version": "1.5.0",
            "_model_name": "HBoxModel",
            "_view_count": null,
            "_view_module": "@jupyter-widgets/controls",
            "_view_module_version": "1.5.0",
            "_view_name": "HBoxView",
            "box_style": "",
            "children": [
              "IPY_MODEL_d4836dc026014ec3b8cbf42eb91ab7fd",
              "IPY_MODEL_290093ab0345453a84beb4fbee115754",
              "IPY_MODEL_d42e53cc21be472ea8a5fa65906b4220"
            ],
            "layout": "IPY_MODEL_784fea1aec8c4aecb15dfd3ce4d7ed57"
          }
        },
        "d4836dc026014ec3b8cbf42eb91ab7fd": {
          "model_module": "@jupyter-widgets/controls",
          "model_name": "HTMLModel",
          "model_module_version": "1.5.0",
          "state": {
            "_dom_classes": [],
            "_model_module": "@jupyter-widgets/controls",
            "_model_module_version": "1.5.0",
            "_model_name": "HTMLModel",
            "_view_count": null,
            "_view_module": "@jupyter-widgets/controls",
            "_view_module_version": "1.5.0",
            "_view_name": "HTMLView",
            "description": "",
            "description_tooltip": null,
            "layout": "IPY_MODEL_918c58bf539f4fb285c237f2494a53c8",
            "placeholder": "​",
            "style": "IPY_MODEL_19dc10dd42824547a9d54e6307382372",
            "value": "Downloading: 100%"
          }
        },
        "290093ab0345453a84beb4fbee115754": {
          "model_module": "@jupyter-widgets/controls",
          "model_name": "FloatProgressModel",
          "model_module_version": "1.5.0",
          "state": {
            "_dom_classes": [],
            "_model_module": "@jupyter-widgets/controls",
            "_model_module_version": "1.5.0",
            "_model_name": "FloatProgressModel",
            "_view_count": null,
            "_view_module": "@jupyter-widgets/controls",
            "_view_module_version": "1.5.0",
            "_view_name": "ProgressView",
            "bar_style": "success",
            "description": "",
            "description_tooltip": null,
            "layout": "IPY_MODEL_0d51efc15b8e4e658b2c4cd700af02cf",
            "max": 898823,
            "min": 0,
            "orientation": "horizontal",
            "style": "IPY_MODEL_3a921751113d4279aa7e6ff66bcd9b38",
            "value": 898823
          }
        },
        "d42e53cc21be472ea8a5fa65906b4220": {
          "model_module": "@jupyter-widgets/controls",
          "model_name": "HTMLModel",
          "model_module_version": "1.5.0",
          "state": {
            "_dom_classes": [],
            "_model_module": "@jupyter-widgets/controls",
            "_model_module_version": "1.5.0",
            "_model_name": "HTMLModel",
            "_view_count": null,
            "_view_module": "@jupyter-widgets/controls",
            "_view_module_version": "1.5.0",
            "_view_name": "HTMLView",
            "description": "",
            "description_tooltip": null,
            "layout": "IPY_MODEL_e02c33ade5c0471b9079017875a20c3b",
            "placeholder": "​",
            "style": "IPY_MODEL_c24cda430d904b80bc7286725a938712",
            "value": " 878k/878k [00:00&lt;00:00, 2.59MB/s]"
          }
        },
        "784fea1aec8c4aecb15dfd3ce4d7ed57": {
          "model_module": "@jupyter-widgets/base",
          "model_name": "LayoutModel",
          "model_module_version": "1.2.0",
          "state": {
            "_model_module": "@jupyter-widgets/base",
            "_model_module_version": "1.2.0",
            "_model_name": "LayoutModel",
            "_view_count": null,
            "_view_module": "@jupyter-widgets/base",
            "_view_module_version": "1.2.0",
            "_view_name": "LayoutView",
            "align_content": null,
            "align_items": null,
            "align_self": null,
            "border": null,
            "bottom": null,
            "display": null,
            "flex": null,
            "flex_flow": null,
            "grid_area": null,
            "grid_auto_columns": null,
            "grid_auto_flow": null,
            "grid_auto_rows": null,
            "grid_column": null,
            "grid_gap": null,
            "grid_row": null,
            "grid_template_areas": null,
            "grid_template_columns": null,
            "grid_template_rows": null,
            "height": null,
            "justify_content": null,
            "justify_items": null,
            "left": null,
            "margin": null,
            "max_height": null,
            "max_width": null,
            "min_height": null,
            "min_width": null,
            "object_fit": null,
            "object_position": null,
            "order": null,
            "overflow": null,
            "overflow_x": null,
            "overflow_y": null,
            "padding": null,
            "right": null,
            "top": null,
            "visibility": null,
            "width": null
          }
        },
        "918c58bf539f4fb285c237f2494a53c8": {
          "model_module": "@jupyter-widgets/base",
          "model_name": "LayoutModel",
          "model_module_version": "1.2.0",
          "state": {
            "_model_module": "@jupyter-widgets/base",
            "_model_module_version": "1.2.0",
            "_model_name": "LayoutModel",
            "_view_count": null,
            "_view_module": "@jupyter-widgets/base",
            "_view_module_version": "1.2.0",
            "_view_name": "LayoutView",
            "align_content": null,
            "align_items": null,
            "align_self": null,
            "border": null,
            "bottom": null,
            "display": null,
            "flex": null,
            "flex_flow": null,
            "grid_area": null,
            "grid_auto_columns": null,
            "grid_auto_flow": null,
            "grid_auto_rows": null,
            "grid_column": null,
            "grid_gap": null,
            "grid_row": null,
            "grid_template_areas": null,
            "grid_template_columns": null,
            "grid_template_rows": null,
            "height": null,
            "justify_content": null,
            "justify_items": null,
            "left": null,
            "margin": null,
            "max_height": null,
            "max_width": null,
            "min_height": null,
            "min_width": null,
            "object_fit": null,
            "object_position": null,
            "order": null,
            "overflow": null,
            "overflow_x": null,
            "overflow_y": null,
            "padding": null,
            "right": null,
            "top": null,
            "visibility": null,
            "width": null
          }
        },
        "19dc10dd42824547a9d54e6307382372": {
          "model_module": "@jupyter-widgets/controls",
          "model_name": "DescriptionStyleModel",
          "model_module_version": "1.5.0",
          "state": {
            "_model_module": "@jupyter-widgets/controls",
            "_model_module_version": "1.5.0",
            "_model_name": "DescriptionStyleModel",
            "_view_count": null,
            "_view_module": "@jupyter-widgets/base",
            "_view_module_version": "1.2.0",
            "_view_name": "StyleView",
            "description_width": ""
          }
        },
        "0d51efc15b8e4e658b2c4cd700af02cf": {
          "model_module": "@jupyter-widgets/base",
          "model_name": "LayoutModel",
          "model_module_version": "1.2.0",
          "state": {
            "_model_module": "@jupyter-widgets/base",
            "_model_module_version": "1.2.0",
            "_model_name": "LayoutModel",
            "_view_count": null,
            "_view_module": "@jupyter-widgets/base",
            "_view_module_version": "1.2.0",
            "_view_name": "LayoutView",
            "align_content": null,
            "align_items": null,
            "align_self": null,
            "border": null,
            "bottom": null,
            "display": null,
            "flex": null,
            "flex_flow": null,
            "grid_area": null,
            "grid_auto_columns": null,
            "grid_auto_flow": null,
            "grid_auto_rows": null,
            "grid_column": null,
            "grid_gap": null,
            "grid_row": null,
            "grid_template_areas": null,
            "grid_template_columns": null,
            "grid_template_rows": null,
            "height": null,
            "justify_content": null,
            "justify_items": null,
            "left": null,
            "margin": null,
            "max_height": null,
            "max_width": null,
            "min_height": null,
            "min_width": null,
            "object_fit": null,
            "object_position": null,
            "order": null,
            "overflow": null,
            "overflow_x": null,
            "overflow_y": null,
            "padding": null,
            "right": null,
            "top": null,
            "visibility": null,
            "width": null
          }
        },
        "3a921751113d4279aa7e6ff66bcd9b38": {
          "model_module": "@jupyter-widgets/controls",
          "model_name": "ProgressStyleModel",
          "model_module_version": "1.5.0",
          "state": {
            "_model_module": "@jupyter-widgets/controls",
            "_model_module_version": "1.5.0",
            "_model_name": "ProgressStyleModel",
            "_view_count": null,
            "_view_module": "@jupyter-widgets/base",
            "_view_module_version": "1.2.0",
            "_view_name": "StyleView",
            "bar_color": null,
            "description_width": ""
          }
        },
        "e02c33ade5c0471b9079017875a20c3b": {
          "model_module": "@jupyter-widgets/base",
          "model_name": "LayoutModel",
          "model_module_version": "1.2.0",
          "state": {
            "_model_module": "@jupyter-widgets/base",
            "_model_module_version": "1.2.0",
            "_model_name": "LayoutModel",
            "_view_count": null,
            "_view_module": "@jupyter-widgets/base",
            "_view_module_version": "1.2.0",
            "_view_name": "LayoutView",
            "align_content": null,
            "align_items": null,
            "align_self": null,
            "border": null,
            "bottom": null,
            "display": null,
            "flex": null,
            "flex_flow": null,
            "grid_area": null,
            "grid_auto_columns": null,
            "grid_auto_flow": null,
            "grid_auto_rows": null,
            "grid_column": null,
            "grid_gap": null,
            "grid_row": null,
            "grid_template_areas": null,
            "grid_template_columns": null,
            "grid_template_rows": null,
            "height": null,
            "justify_content": null,
            "justify_items": null,
            "left": null,
            "margin": null,
            "max_height": null,
            "max_width": null,
            "min_height": null,
            "min_width": null,
            "object_fit": null,
            "object_position": null,
            "order": null,
            "overflow": null,
            "overflow_x": null,
            "overflow_y": null,
            "padding": null,
            "right": null,
            "top": null,
            "visibility": null,
            "width": null
          }
        },
        "c24cda430d904b80bc7286725a938712": {
          "model_module": "@jupyter-widgets/controls",
          "model_name": "DescriptionStyleModel",
          "model_module_version": "1.5.0",
          "state": {
            "_model_module": "@jupyter-widgets/controls",
            "_model_module_version": "1.5.0",
            "_model_name": "DescriptionStyleModel",
            "_view_count": null,
            "_view_module": "@jupyter-widgets/base",
            "_view_module_version": "1.2.0",
            "_view_name": "StyleView",
            "description_width": ""
          }
        },
        "f08e5c112d5b4453bf4e5e20dd02bf78": {
          "model_module": "@jupyter-widgets/controls",
          "model_name": "HBoxModel",
          "model_module_version": "1.5.0",
          "state": {
            "_dom_classes": [],
            "_model_module": "@jupyter-widgets/controls",
            "_model_module_version": "1.5.0",
            "_model_name": "HBoxModel",
            "_view_count": null,
            "_view_module": "@jupyter-widgets/controls",
            "_view_module_version": "1.5.0",
            "_view_name": "HBoxView",
            "box_style": "",
            "children": [
              "IPY_MODEL_4e374473cba04c39aaad9b252f076b97",
              "IPY_MODEL_c274254ef60f402db169b80e9471bfd7",
              "IPY_MODEL_3d92bafae5884e1bb54ac41166252468"
            ],
            "layout": "IPY_MODEL_76d71809a22f4736a64fefa77e437bbc"
          }
        },
        "4e374473cba04c39aaad9b252f076b97": {
          "model_module": "@jupyter-widgets/controls",
          "model_name": "HTMLModel",
          "model_module_version": "1.5.0",
          "state": {
            "_dom_classes": [],
            "_model_module": "@jupyter-widgets/controls",
            "_model_module_version": "1.5.0",
            "_model_name": "HTMLModel",
            "_view_count": null,
            "_view_module": "@jupyter-widgets/controls",
            "_view_module_version": "1.5.0",
            "_view_name": "HTMLView",
            "description": "",
            "description_tooltip": null,
            "layout": "IPY_MODEL_886dc2b695e140aab72008a9bb22502f",
            "placeholder": "​",
            "style": "IPY_MODEL_79442c373bbc466a90777539485df9ca",
            "value": "Downloading: 100%"
          }
        },
        "c274254ef60f402db169b80e9471bfd7": {
          "model_module": "@jupyter-widgets/controls",
          "model_name": "FloatProgressModel",
          "model_module_version": "1.5.0",
          "state": {
            "_dom_classes": [],
            "_model_module": "@jupyter-widgets/controls",
            "_model_module_version": "1.5.0",
            "_model_name": "FloatProgressModel",
            "_view_count": null,
            "_view_module": "@jupyter-widgets/controls",
            "_view_module_version": "1.5.0",
            "_view_name": "ProgressView",
            "bar_style": "success",
            "description": "",
            "description_tooltip": null,
            "layout": "IPY_MODEL_4d34beb29fed422e9e328efab2b4535c",
            "max": 456318,
            "min": 0,
            "orientation": "horizontal",
            "style": "IPY_MODEL_61ee77e4f1704e0585e4087ffa221fda",
            "value": 456318
          }
        },
        "3d92bafae5884e1bb54ac41166252468": {
          "model_module": "@jupyter-widgets/controls",
          "model_name": "HTMLModel",
          "model_module_version": "1.5.0",
          "state": {
            "_dom_classes": [],
            "_model_module": "@jupyter-widgets/controls",
            "_model_module_version": "1.5.0",
            "_model_name": "HTMLModel",
            "_view_count": null,
            "_view_module": "@jupyter-widgets/controls",
            "_view_module_version": "1.5.0",
            "_view_name": "HTMLView",
            "description": "",
            "description_tooltip": null,
            "layout": "IPY_MODEL_b3299381d06b4542bbb8bb2b35bd6502",
            "placeholder": "​",
            "style": "IPY_MODEL_21bee756b013431c9d7252fceecda0ec",
            "value": " 446k/446k [00:00&lt;00:00, 854kB/s]"
          }
        },
        "76d71809a22f4736a64fefa77e437bbc": {
          "model_module": "@jupyter-widgets/base",
          "model_name": "LayoutModel",
          "model_module_version": "1.2.0",
          "state": {
            "_model_module": "@jupyter-widgets/base",
            "_model_module_version": "1.2.0",
            "_model_name": "LayoutModel",
            "_view_count": null,
            "_view_module": "@jupyter-widgets/base",
            "_view_module_version": "1.2.0",
            "_view_name": "LayoutView",
            "align_content": null,
            "align_items": null,
            "align_self": null,
            "border": null,
            "bottom": null,
            "display": null,
            "flex": null,
            "flex_flow": null,
            "grid_area": null,
            "grid_auto_columns": null,
            "grid_auto_flow": null,
            "grid_auto_rows": null,
            "grid_column": null,
            "grid_gap": null,
            "grid_row": null,
            "grid_template_areas": null,
            "grid_template_columns": null,
            "grid_template_rows": null,
            "height": null,
            "justify_content": null,
            "justify_items": null,
            "left": null,
            "margin": null,
            "max_height": null,
            "max_width": null,
            "min_height": null,
            "min_width": null,
            "object_fit": null,
            "object_position": null,
            "order": null,
            "overflow": null,
            "overflow_x": null,
            "overflow_y": null,
            "padding": null,
            "right": null,
            "top": null,
            "visibility": null,
            "width": null
          }
        },
        "886dc2b695e140aab72008a9bb22502f": {
          "model_module": "@jupyter-widgets/base",
          "model_name": "LayoutModel",
          "model_module_version": "1.2.0",
          "state": {
            "_model_module": "@jupyter-widgets/base",
            "_model_module_version": "1.2.0",
            "_model_name": "LayoutModel",
            "_view_count": null,
            "_view_module": "@jupyter-widgets/base",
            "_view_module_version": "1.2.0",
            "_view_name": "LayoutView",
            "align_content": null,
            "align_items": null,
            "align_self": null,
            "border": null,
            "bottom": null,
            "display": null,
            "flex": null,
            "flex_flow": null,
            "grid_area": null,
            "grid_auto_columns": null,
            "grid_auto_flow": null,
            "grid_auto_rows": null,
            "grid_column": null,
            "grid_gap": null,
            "grid_row": null,
            "grid_template_areas": null,
            "grid_template_columns": null,
            "grid_template_rows": null,
            "height": null,
            "justify_content": null,
            "justify_items": null,
            "left": null,
            "margin": null,
            "max_height": null,
            "max_width": null,
            "min_height": null,
            "min_width": null,
            "object_fit": null,
            "object_position": null,
            "order": null,
            "overflow": null,
            "overflow_x": null,
            "overflow_y": null,
            "padding": null,
            "right": null,
            "top": null,
            "visibility": null,
            "width": null
          }
        },
        "79442c373bbc466a90777539485df9ca": {
          "model_module": "@jupyter-widgets/controls",
          "model_name": "DescriptionStyleModel",
          "model_module_version": "1.5.0",
          "state": {
            "_model_module": "@jupyter-widgets/controls",
            "_model_module_version": "1.5.0",
            "_model_name": "DescriptionStyleModel",
            "_view_count": null,
            "_view_module": "@jupyter-widgets/base",
            "_view_module_version": "1.2.0",
            "_view_name": "StyleView",
            "description_width": ""
          }
        },
        "4d34beb29fed422e9e328efab2b4535c": {
          "model_module": "@jupyter-widgets/base",
          "model_name": "LayoutModel",
          "model_module_version": "1.2.0",
          "state": {
            "_model_module": "@jupyter-widgets/base",
            "_model_module_version": "1.2.0",
            "_model_name": "LayoutModel",
            "_view_count": null,
            "_view_module": "@jupyter-widgets/base",
            "_view_module_version": "1.2.0",
            "_view_name": "LayoutView",
            "align_content": null,
            "align_items": null,
            "align_self": null,
            "border": null,
            "bottom": null,
            "display": null,
            "flex": null,
            "flex_flow": null,
            "grid_area": null,
            "grid_auto_columns": null,
            "grid_auto_flow": null,
            "grid_auto_rows": null,
            "grid_column": null,
            "grid_gap": null,
            "grid_row": null,
            "grid_template_areas": null,
            "grid_template_columns": null,
            "grid_template_rows": null,
            "height": null,
            "justify_content": null,
            "justify_items": null,
            "left": null,
            "margin": null,
            "max_height": null,
            "max_width": null,
            "min_height": null,
            "min_width": null,
            "object_fit": null,
            "object_position": null,
            "order": null,
            "overflow": null,
            "overflow_x": null,
            "overflow_y": null,
            "padding": null,
            "right": null,
            "top": null,
            "visibility": null,
            "width": null
          }
        },
        "61ee77e4f1704e0585e4087ffa221fda": {
          "model_module": "@jupyter-widgets/controls",
          "model_name": "ProgressStyleModel",
          "model_module_version": "1.5.0",
          "state": {
            "_model_module": "@jupyter-widgets/controls",
            "_model_module_version": "1.5.0",
            "_model_name": "ProgressStyleModel",
            "_view_count": null,
            "_view_module": "@jupyter-widgets/base",
            "_view_module_version": "1.2.0",
            "_view_name": "StyleView",
            "bar_color": null,
            "description_width": ""
          }
        },
        "b3299381d06b4542bbb8bb2b35bd6502": {
          "model_module": "@jupyter-widgets/base",
          "model_name": "LayoutModel",
          "model_module_version": "1.2.0",
          "state": {
            "_model_module": "@jupyter-widgets/base",
            "_model_module_version": "1.2.0",
            "_model_name": "LayoutModel",
            "_view_count": null,
            "_view_module": "@jupyter-widgets/base",
            "_view_module_version": "1.2.0",
            "_view_name": "LayoutView",
            "align_content": null,
            "align_items": null,
            "align_self": null,
            "border": null,
            "bottom": null,
            "display": null,
            "flex": null,
            "flex_flow": null,
            "grid_area": null,
            "grid_auto_columns": null,
            "grid_auto_flow": null,
            "grid_auto_rows": null,
            "grid_column": null,
            "grid_gap": null,
            "grid_row": null,
            "grid_template_areas": null,
            "grid_template_columns": null,
            "grid_template_rows": null,
            "height": null,
            "justify_content": null,
            "justify_items": null,
            "left": null,
            "margin": null,
            "max_height": null,
            "max_width": null,
            "min_height": null,
            "min_width": null,
            "object_fit": null,
            "object_position": null,
            "order": null,
            "overflow": null,
            "overflow_x": null,
            "overflow_y": null,
            "padding": null,
            "right": null,
            "top": null,
            "visibility": null,
            "width": null
          }
        },
        "21bee756b013431c9d7252fceecda0ec": {
          "model_module": "@jupyter-widgets/controls",
          "model_name": "DescriptionStyleModel",
          "model_module_version": "1.5.0",
          "state": {
            "_model_module": "@jupyter-widgets/controls",
            "_model_module_version": "1.5.0",
            "_model_name": "DescriptionStyleModel",
            "_view_count": null,
            "_view_module": "@jupyter-widgets/base",
            "_view_module_version": "1.2.0",
            "_view_name": "StyleView",
            "description_width": ""
          }
        },
        "379a9688f7784bd1b8d212aa2b903598": {
          "model_module": "@jupyter-widgets/controls",
          "model_name": "HBoxModel",
          "model_module_version": "1.5.0",
          "state": {
            "_dom_classes": [],
            "_model_module": "@jupyter-widgets/controls",
            "_model_module_version": "1.5.0",
            "_model_name": "HBoxModel",
            "_view_count": null,
            "_view_module": "@jupyter-widgets/controls",
            "_view_module_version": "1.5.0",
            "_view_name": "HBoxView",
            "box_style": "",
            "children": [
              "IPY_MODEL_f68931be2ee54e3bb62871424f6e13c0",
              "IPY_MODEL_1837ee5ed4504e5d8014cf77eeea36cc",
              "IPY_MODEL_a91f47d80c19415ab4a184448ef852d0"
            ],
            "layout": "IPY_MODEL_8a9f847b71714ef39008d8f0a78c4a26"
          }
        },
        "f68931be2ee54e3bb62871424f6e13c0": {
          "model_module": "@jupyter-widgets/controls",
          "model_name": "HTMLModel",
          "model_module_version": "1.5.0",
          "state": {
            "_dom_classes": [],
            "_model_module": "@jupyter-widgets/controls",
            "_model_module_version": "1.5.0",
            "_model_name": "HTMLModel",
            "_view_count": null,
            "_view_module": "@jupyter-widgets/controls",
            "_view_module_version": "1.5.0",
            "_view_name": "HTMLView",
            "description": "",
            "description_tooltip": null,
            "layout": "IPY_MODEL_6d2cc49a4a09423abb96c2caa2266989",
            "placeholder": "​",
            "style": "IPY_MODEL_6134e033d00745b7972bdf1ba22839ec",
            "value": "Downloading: 100%"
          }
        },
        "1837ee5ed4504e5d8014cf77eeea36cc": {
          "model_module": "@jupyter-widgets/controls",
          "model_name": "FloatProgressModel",
          "model_module_version": "1.5.0",
          "state": {
            "_dom_classes": [],
            "_model_module": "@jupyter-widgets/controls",
            "_model_module_version": "1.5.0",
            "_model_name": "FloatProgressModel",
            "_view_count": null,
            "_view_module": "@jupyter-widgets/controls",
            "_view_module_version": "1.5.0",
            "_view_name": "ProgressView",
            "bar_style": "success",
            "description": "",
            "description_tooltip": null,
            "layout": "IPY_MODEL_d69d0c0525274f38acf9590d364e139b",
            "max": 739,
            "min": 0,
            "orientation": "horizontal",
            "style": "IPY_MODEL_d9ef333b595d4adda373b77bcfc767c3",
            "value": 739
          }
        },
        "a91f47d80c19415ab4a184448ef852d0": {
          "model_module": "@jupyter-widgets/controls",
          "model_name": "HTMLModel",
          "model_module_version": "1.5.0",
          "state": {
            "_dom_classes": [],
            "_model_module": "@jupyter-widgets/controls",
            "_model_module_version": "1.5.0",
            "_model_name": "HTMLModel",
            "_view_count": null,
            "_view_module": "@jupyter-widgets/controls",
            "_view_module_version": "1.5.0",
            "_view_name": "HTMLView",
            "description": "",
            "description_tooltip": null,
            "layout": "IPY_MODEL_369893d794b045f0922d3b5e8634656b",
            "placeholder": "​",
            "style": "IPY_MODEL_b898f83f8db140f0944c2a70df5edf3c",
            "value": " 739/739 [00:00&lt;00:00, 27.3kB/s]"
          }
        },
        "8a9f847b71714ef39008d8f0a78c4a26": {
          "model_module": "@jupyter-widgets/base",
          "model_name": "LayoutModel",
          "model_module_version": "1.2.0",
          "state": {
            "_model_module": "@jupyter-widgets/base",
            "_model_module_version": "1.2.0",
            "_model_name": "LayoutModel",
            "_view_count": null,
            "_view_module": "@jupyter-widgets/base",
            "_view_module_version": "1.2.0",
            "_view_name": "LayoutView",
            "align_content": null,
            "align_items": null,
            "align_self": null,
            "border": null,
            "bottom": null,
            "display": null,
            "flex": null,
            "flex_flow": null,
            "grid_area": null,
            "grid_auto_columns": null,
            "grid_auto_flow": null,
            "grid_auto_rows": null,
            "grid_column": null,
            "grid_gap": null,
            "grid_row": null,
            "grid_template_areas": null,
            "grid_template_columns": null,
            "grid_template_rows": null,
            "height": null,
            "justify_content": null,
            "justify_items": null,
            "left": null,
            "margin": null,
            "max_height": null,
            "max_width": null,
            "min_height": null,
            "min_width": null,
            "object_fit": null,
            "object_position": null,
            "order": null,
            "overflow": null,
            "overflow_x": null,
            "overflow_y": null,
            "padding": null,
            "right": null,
            "top": null,
            "visibility": null,
            "width": null
          }
        },
        "6d2cc49a4a09423abb96c2caa2266989": {
          "model_module": "@jupyter-widgets/base",
          "model_name": "LayoutModel",
          "model_module_version": "1.2.0",
          "state": {
            "_model_module": "@jupyter-widgets/base",
            "_model_module_version": "1.2.0",
            "_model_name": "LayoutModel",
            "_view_count": null,
            "_view_module": "@jupyter-widgets/base",
            "_view_module_version": "1.2.0",
            "_view_name": "LayoutView",
            "align_content": null,
            "align_items": null,
            "align_self": null,
            "border": null,
            "bottom": null,
            "display": null,
            "flex": null,
            "flex_flow": null,
            "grid_area": null,
            "grid_auto_columns": null,
            "grid_auto_flow": null,
            "grid_auto_rows": null,
            "grid_column": null,
            "grid_gap": null,
            "grid_row": null,
            "grid_template_areas": null,
            "grid_template_columns": null,
            "grid_template_rows": null,
            "height": null,
            "justify_content": null,
            "justify_items": null,
            "left": null,
            "margin": null,
            "max_height": null,
            "max_width": null,
            "min_height": null,
            "min_width": null,
            "object_fit": null,
            "object_position": null,
            "order": null,
            "overflow": null,
            "overflow_x": null,
            "overflow_y": null,
            "padding": null,
            "right": null,
            "top": null,
            "visibility": null,
            "width": null
          }
        },
        "6134e033d00745b7972bdf1ba22839ec": {
          "model_module": "@jupyter-widgets/controls",
          "model_name": "DescriptionStyleModel",
          "model_module_version": "1.5.0",
          "state": {
            "_model_module": "@jupyter-widgets/controls",
            "_model_module_version": "1.5.0",
            "_model_name": "DescriptionStyleModel",
            "_view_count": null,
            "_view_module": "@jupyter-widgets/base",
            "_view_module_version": "1.2.0",
            "_view_name": "StyleView",
            "description_width": ""
          }
        },
        "d69d0c0525274f38acf9590d364e139b": {
          "model_module": "@jupyter-widgets/base",
          "model_name": "LayoutModel",
          "model_module_version": "1.2.0",
          "state": {
            "_model_module": "@jupyter-widgets/base",
            "_model_module_version": "1.2.0",
            "_model_name": "LayoutModel",
            "_view_count": null,
            "_view_module": "@jupyter-widgets/base",
            "_view_module_version": "1.2.0",
            "_view_name": "LayoutView",
            "align_content": null,
            "align_items": null,
            "align_self": null,
            "border": null,
            "bottom": null,
            "display": null,
            "flex": null,
            "flex_flow": null,
            "grid_area": null,
            "grid_auto_columns": null,
            "grid_auto_flow": null,
            "grid_auto_rows": null,
            "grid_column": null,
            "grid_gap": null,
            "grid_row": null,
            "grid_template_areas": null,
            "grid_template_columns": null,
            "grid_template_rows": null,
            "height": null,
            "justify_content": null,
            "justify_items": null,
            "left": null,
            "margin": null,
            "max_height": null,
            "max_width": null,
            "min_height": null,
            "min_width": null,
            "object_fit": null,
            "object_position": null,
            "order": null,
            "overflow": null,
            "overflow_x": null,
            "overflow_y": null,
            "padding": null,
            "right": null,
            "top": null,
            "visibility": null,
            "width": null
          }
        },
        "d9ef333b595d4adda373b77bcfc767c3": {
          "model_module": "@jupyter-widgets/controls",
          "model_name": "ProgressStyleModel",
          "model_module_version": "1.5.0",
          "state": {
            "_model_module": "@jupyter-widgets/controls",
            "_model_module_version": "1.5.0",
            "_model_name": "ProgressStyleModel",
            "_view_count": null,
            "_view_module": "@jupyter-widgets/base",
            "_view_module_version": "1.2.0",
            "_view_name": "StyleView",
            "bar_color": null,
            "description_width": ""
          }
        },
        "369893d794b045f0922d3b5e8634656b": {
          "model_module": "@jupyter-widgets/base",
          "model_name": "LayoutModel",
          "model_module_version": "1.2.0",
          "state": {
            "_model_module": "@jupyter-widgets/base",
            "_model_module_version": "1.2.0",
            "_model_name": "LayoutModel",
            "_view_count": null,
            "_view_module": "@jupyter-widgets/base",
            "_view_module_version": "1.2.0",
            "_view_name": "LayoutView",
            "align_content": null,
            "align_items": null,
            "align_self": null,
            "border": null,
            "bottom": null,
            "display": null,
            "flex": null,
            "flex_flow": null,
            "grid_area": null,
            "grid_auto_columns": null,
            "grid_auto_flow": null,
            "grid_auto_rows": null,
            "grid_column": null,
            "grid_gap": null,
            "grid_row": null,
            "grid_template_areas": null,
            "grid_template_columns": null,
            "grid_template_rows": null,
            "height": null,
            "justify_content": null,
            "justify_items": null,
            "left": null,
            "margin": null,
            "max_height": null,
            "max_width": null,
            "min_height": null,
            "min_width": null,
            "object_fit": null,
            "object_position": null,
            "order": null,
            "overflow": null,
            "overflow_x": null,
            "overflow_y": null,
            "padding": null,
            "right": null,
            "top": null,
            "visibility": null,
            "width": null
          }
        },
        "b898f83f8db140f0944c2a70df5edf3c": {
          "model_module": "@jupyter-widgets/controls",
          "model_name": "DescriptionStyleModel",
          "model_module_version": "1.5.0",
          "state": {
            "_model_module": "@jupyter-widgets/controls",
            "_model_module_version": "1.5.0",
            "_model_name": "DescriptionStyleModel",
            "_view_count": null,
            "_view_module": "@jupyter-widgets/base",
            "_view_module_version": "1.2.0",
            "_view_name": "StyleView",
            "description_width": ""
          }
        },
        "966104eef655412fb871728761bf36b5": {
          "model_module": "@jupyter-widgets/controls",
          "model_name": "HBoxModel",
          "model_module_version": "1.5.0",
          "state": {
            "_dom_classes": [],
            "_model_module": "@jupyter-widgets/controls",
            "_model_module_version": "1.5.0",
            "_model_name": "HBoxModel",
            "_view_count": null,
            "_view_module": "@jupyter-widgets/controls",
            "_view_module_version": "1.5.0",
            "_view_name": "HBoxView",
            "box_style": "",
            "children": [
              "IPY_MODEL_c88f5811baac4716831e54a92b5580a0",
              "IPY_MODEL_a54c2b5017f34759a4eedf97c5b6f9b9",
              "IPY_MODEL_0049af3dcf7b482f8fac8a8b8af2d217"
            ],
            "layout": "IPY_MODEL_bc57af67a2994998b95c6615ecdf87de"
          }
        },
        "c88f5811baac4716831e54a92b5580a0": {
          "model_module": "@jupyter-widgets/controls",
          "model_name": "HTMLModel",
          "model_module_version": "1.5.0",
          "state": {
            "_dom_classes": [],
            "_model_module": "@jupyter-widgets/controls",
            "_model_module_version": "1.5.0",
            "_model_name": "HTMLModel",
            "_view_count": null,
            "_view_module": "@jupyter-widgets/controls",
            "_view_module_version": "1.5.0",
            "_view_name": "HTMLView",
            "description": "",
            "description_tooltip": null,
            "layout": "IPY_MODEL_e66b950dd8e246fb83abb22bedbe749d",
            "placeholder": "​",
            "style": "IPY_MODEL_0eebeeac4b414d45bed53b6556152235",
            "value": "Downloading data files: 100%"
          }
        },
        "a54c2b5017f34759a4eedf97c5b6f9b9": {
          "model_module": "@jupyter-widgets/controls",
          "model_name": "FloatProgressModel",
          "model_module_version": "1.5.0",
          "state": {
            "_dom_classes": [],
            "_model_module": "@jupyter-widgets/controls",
            "_model_module_version": "1.5.0",
            "_model_name": "FloatProgressModel",
            "_view_count": null,
            "_view_module": "@jupyter-widgets/controls",
            "_view_module_version": "1.5.0",
            "_view_name": "ProgressView",
            "bar_style": "success",
            "description": "",
            "description_tooltip": null,
            "layout": "IPY_MODEL_b5615da6766c4148b1732e5e16487e63",
            "max": 2,
            "min": 0,
            "orientation": "horizontal",
            "style": "IPY_MODEL_176c1097356a40c09cbf8232966d71bc",
            "value": 2
          }
        },
        "0049af3dcf7b482f8fac8a8b8af2d217": {
          "model_module": "@jupyter-widgets/controls",
          "model_name": "HTMLModel",
          "model_module_version": "1.5.0",
          "state": {
            "_dom_classes": [],
            "_model_module": "@jupyter-widgets/controls",
            "_model_module_version": "1.5.0",
            "_model_name": "HTMLModel",
            "_view_count": null,
            "_view_module": "@jupyter-widgets/controls",
            "_view_module_version": "1.5.0",
            "_view_name": "HTMLView",
            "description": "",
            "description_tooltip": null,
            "layout": "IPY_MODEL_6c08d07dc85f46149aa27ac923eb4397",
            "placeholder": "​",
            "style": "IPY_MODEL_6004d9baa028416e81522f24d62f4311",
            "value": " 2/2 [00:04&lt;00:00,  2.56s/it]"
          }
        },
        "bc57af67a2994998b95c6615ecdf87de": {
          "model_module": "@jupyter-widgets/base",
          "model_name": "LayoutModel",
          "model_module_version": "1.2.0",
          "state": {
            "_model_module": "@jupyter-widgets/base",
            "_model_module_version": "1.2.0",
            "_model_name": "LayoutModel",
            "_view_count": null,
            "_view_module": "@jupyter-widgets/base",
            "_view_module_version": "1.2.0",
            "_view_name": "LayoutView",
            "align_content": null,
            "align_items": null,
            "align_self": null,
            "border": null,
            "bottom": null,
            "display": null,
            "flex": null,
            "flex_flow": null,
            "grid_area": null,
            "grid_auto_columns": null,
            "grid_auto_flow": null,
            "grid_auto_rows": null,
            "grid_column": null,
            "grid_gap": null,
            "grid_row": null,
            "grid_template_areas": null,
            "grid_template_columns": null,
            "grid_template_rows": null,
            "height": null,
            "justify_content": null,
            "justify_items": null,
            "left": null,
            "margin": null,
            "max_height": null,
            "max_width": null,
            "min_height": null,
            "min_width": null,
            "object_fit": null,
            "object_position": null,
            "order": null,
            "overflow": null,
            "overflow_x": null,
            "overflow_y": null,
            "padding": null,
            "right": null,
            "top": null,
            "visibility": null,
            "width": null
          }
        },
        "e66b950dd8e246fb83abb22bedbe749d": {
          "model_module": "@jupyter-widgets/base",
          "model_name": "LayoutModel",
          "model_module_version": "1.2.0",
          "state": {
            "_model_module": "@jupyter-widgets/base",
            "_model_module_version": "1.2.0",
            "_model_name": "LayoutModel",
            "_view_count": null,
            "_view_module": "@jupyter-widgets/base",
            "_view_module_version": "1.2.0",
            "_view_name": "LayoutView",
            "align_content": null,
            "align_items": null,
            "align_self": null,
            "border": null,
            "bottom": null,
            "display": null,
            "flex": null,
            "flex_flow": null,
            "grid_area": null,
            "grid_auto_columns": null,
            "grid_auto_flow": null,
            "grid_auto_rows": null,
            "grid_column": null,
            "grid_gap": null,
            "grid_row": null,
            "grid_template_areas": null,
            "grid_template_columns": null,
            "grid_template_rows": null,
            "height": null,
            "justify_content": null,
            "justify_items": null,
            "left": null,
            "margin": null,
            "max_height": null,
            "max_width": null,
            "min_height": null,
            "min_width": null,
            "object_fit": null,
            "object_position": null,
            "order": null,
            "overflow": null,
            "overflow_x": null,
            "overflow_y": null,
            "padding": null,
            "right": null,
            "top": null,
            "visibility": null,
            "width": null
          }
        },
        "0eebeeac4b414d45bed53b6556152235": {
          "model_module": "@jupyter-widgets/controls",
          "model_name": "DescriptionStyleModel",
          "model_module_version": "1.5.0",
          "state": {
            "_model_module": "@jupyter-widgets/controls",
            "_model_module_version": "1.5.0",
            "_model_name": "DescriptionStyleModel",
            "_view_count": null,
            "_view_module": "@jupyter-widgets/base",
            "_view_module_version": "1.2.0",
            "_view_name": "StyleView",
            "description_width": ""
          }
        },
        "b5615da6766c4148b1732e5e16487e63": {
          "model_module": "@jupyter-widgets/base",
          "model_name": "LayoutModel",
          "model_module_version": "1.2.0",
          "state": {
            "_model_module": "@jupyter-widgets/base",
            "_model_module_version": "1.2.0",
            "_model_name": "LayoutModel",
            "_view_count": null,
            "_view_module": "@jupyter-widgets/base",
            "_view_module_version": "1.2.0",
            "_view_name": "LayoutView",
            "align_content": null,
            "align_items": null,
            "align_self": null,
            "border": null,
            "bottom": null,
            "display": null,
            "flex": null,
            "flex_flow": null,
            "grid_area": null,
            "grid_auto_columns": null,
            "grid_auto_flow": null,
            "grid_auto_rows": null,
            "grid_column": null,
            "grid_gap": null,
            "grid_row": null,
            "grid_template_areas": null,
            "grid_template_columns": null,
            "grid_template_rows": null,
            "height": null,
            "justify_content": null,
            "justify_items": null,
            "left": null,
            "margin": null,
            "max_height": null,
            "max_width": null,
            "min_height": null,
            "min_width": null,
            "object_fit": null,
            "object_position": null,
            "order": null,
            "overflow": null,
            "overflow_x": null,
            "overflow_y": null,
            "padding": null,
            "right": null,
            "top": null,
            "visibility": null,
            "width": null
          }
        },
        "176c1097356a40c09cbf8232966d71bc": {
          "model_module": "@jupyter-widgets/controls",
          "model_name": "ProgressStyleModel",
          "model_module_version": "1.5.0",
          "state": {
            "_model_module": "@jupyter-widgets/controls",
            "_model_module_version": "1.5.0",
            "_model_name": "ProgressStyleModel",
            "_view_count": null,
            "_view_module": "@jupyter-widgets/base",
            "_view_module_version": "1.2.0",
            "_view_name": "StyleView",
            "bar_color": null,
            "description_width": ""
          }
        },
        "6c08d07dc85f46149aa27ac923eb4397": {
          "model_module": "@jupyter-widgets/base",
          "model_name": "LayoutModel",
          "model_module_version": "1.2.0",
          "state": {
            "_model_module": "@jupyter-widgets/base",
            "_model_module_version": "1.2.0",
            "_model_name": "LayoutModel",
            "_view_count": null,
            "_view_module": "@jupyter-widgets/base",
            "_view_module_version": "1.2.0",
            "_view_name": "LayoutView",
            "align_content": null,
            "align_items": null,
            "align_self": null,
            "border": null,
            "bottom": null,
            "display": null,
            "flex": null,
            "flex_flow": null,
            "grid_area": null,
            "grid_auto_columns": null,
            "grid_auto_flow": null,
            "grid_auto_rows": null,
            "grid_column": null,
            "grid_gap": null,
            "grid_row": null,
            "grid_template_areas": null,
            "grid_template_columns": null,
            "grid_template_rows": null,
            "height": null,
            "justify_content": null,
            "justify_items": null,
            "left": null,
            "margin": null,
            "max_height": null,
            "max_width": null,
            "min_height": null,
            "min_width": null,
            "object_fit": null,
            "object_position": null,
            "order": null,
            "overflow": null,
            "overflow_x": null,
            "overflow_y": null,
            "padding": null,
            "right": null,
            "top": null,
            "visibility": null,
            "width": null
          }
        },
        "6004d9baa028416e81522f24d62f4311": {
          "model_module": "@jupyter-widgets/controls",
          "model_name": "DescriptionStyleModel",
          "model_module_version": "1.5.0",
          "state": {
            "_model_module": "@jupyter-widgets/controls",
            "_model_module_version": "1.5.0",
            "_model_name": "DescriptionStyleModel",
            "_view_count": null,
            "_view_module": "@jupyter-widgets/base",
            "_view_module_version": "1.2.0",
            "_view_name": "StyleView",
            "description_width": ""
          }
        },
        "e69e704959744eb4bcbd31041f5e9206": {
          "model_module": "@jupyter-widgets/controls",
          "model_name": "HBoxModel",
          "model_module_version": "1.5.0",
          "state": {
            "_dom_classes": [],
            "_model_module": "@jupyter-widgets/controls",
            "_model_module_version": "1.5.0",
            "_model_name": "HBoxModel",
            "_view_count": null,
            "_view_module": "@jupyter-widgets/controls",
            "_view_module_version": "1.5.0",
            "_view_name": "HBoxView",
            "box_style": "",
            "children": [
              "IPY_MODEL_454e9649beed438ea74a8833302b8eca",
              "IPY_MODEL_3502b388a9b24c7eaf7129852fc0a25a",
              "IPY_MODEL_9514ea0701f745538dd51a17df51a3b7"
            ],
            "layout": "IPY_MODEL_5cd3f012797c477eaf1fa806e52402f2"
          }
        },
        "454e9649beed438ea74a8833302b8eca": {
          "model_module": "@jupyter-widgets/controls",
          "model_name": "HTMLModel",
          "model_module_version": "1.5.0",
          "state": {
            "_dom_classes": [],
            "_model_module": "@jupyter-widgets/controls",
            "_model_module_version": "1.5.0",
            "_model_name": "HTMLModel",
            "_view_count": null,
            "_view_module": "@jupyter-widgets/controls",
            "_view_module_version": "1.5.0",
            "_view_name": "HTMLView",
            "description": "",
            "description_tooltip": null,
            "layout": "IPY_MODEL_0cdda3cd77af40a8a2d824e3eac5846a",
            "placeholder": "​",
            "style": "IPY_MODEL_a1e55df945ce45e5805a5f35ac4e6581",
            "value": "Downloading data: 100%"
          }
        },
        "3502b388a9b24c7eaf7129852fc0a25a": {
          "model_module": "@jupyter-widgets/controls",
          "model_name": "FloatProgressModel",
          "model_module_version": "1.5.0",
          "state": {
            "_dom_classes": [],
            "_model_module": "@jupyter-widgets/controls",
            "_model_module_version": "1.5.0",
            "_model_name": "FloatProgressModel",
            "_view_count": null,
            "_view_module": "@jupyter-widgets/controls",
            "_view_module_version": "1.5.0",
            "_view_name": "ProgressView",
            "bar_style": "success",
            "description": "",
            "description_tooltip": null,
            "layout": "IPY_MODEL_bb5c9c32d32545ed828ef138ccd4868d",
            "max": 33611302,
            "min": 0,
            "orientation": "horizontal",
            "style": "IPY_MODEL_a4ec1f0263774b809546dcd015b8511c",
            "value": 33611302
          }
        },
        "9514ea0701f745538dd51a17df51a3b7": {
          "model_module": "@jupyter-widgets/controls",
          "model_name": "HTMLModel",
          "model_module_version": "1.5.0",
          "state": {
            "_dom_classes": [],
            "_model_module": "@jupyter-widgets/controls",
            "_model_module_version": "1.5.0",
            "_model_name": "HTMLModel",
            "_view_count": null,
            "_view_module": "@jupyter-widgets/controls",
            "_view_module_version": "1.5.0",
            "_view_name": "HTMLView",
            "description": "",
            "description_tooltip": null,
            "layout": "IPY_MODEL_af47c0641775425ba7a7c83e71b4d8eb",
            "placeholder": "​",
            "style": "IPY_MODEL_93398bf37b9345c7b21c642363105520",
            "value": " 33.6M/33.6M [00:00&lt;00:00, 58.4MB/s]"
          }
        },
        "5cd3f012797c477eaf1fa806e52402f2": {
          "model_module": "@jupyter-widgets/base",
          "model_name": "LayoutModel",
          "model_module_version": "1.2.0",
          "state": {
            "_model_module": "@jupyter-widgets/base",
            "_model_module_version": "1.2.0",
            "_model_name": "LayoutModel",
            "_view_count": null,
            "_view_module": "@jupyter-widgets/base",
            "_view_module_version": "1.2.0",
            "_view_name": "LayoutView",
            "align_content": null,
            "align_items": null,
            "align_self": null,
            "border": null,
            "bottom": null,
            "display": null,
            "flex": null,
            "flex_flow": null,
            "grid_area": null,
            "grid_auto_columns": null,
            "grid_auto_flow": null,
            "grid_auto_rows": null,
            "grid_column": null,
            "grid_gap": null,
            "grid_row": null,
            "grid_template_areas": null,
            "grid_template_columns": null,
            "grid_template_rows": null,
            "height": null,
            "justify_content": null,
            "justify_items": null,
            "left": null,
            "margin": null,
            "max_height": null,
            "max_width": null,
            "min_height": null,
            "min_width": null,
            "object_fit": null,
            "object_position": null,
            "order": null,
            "overflow": null,
            "overflow_x": null,
            "overflow_y": null,
            "padding": null,
            "right": null,
            "top": null,
            "visibility": null,
            "width": null
          }
        },
        "0cdda3cd77af40a8a2d824e3eac5846a": {
          "model_module": "@jupyter-widgets/base",
          "model_name": "LayoutModel",
          "model_module_version": "1.2.0",
          "state": {
            "_model_module": "@jupyter-widgets/base",
            "_model_module_version": "1.2.0",
            "_model_name": "LayoutModel",
            "_view_count": null,
            "_view_module": "@jupyter-widgets/base",
            "_view_module_version": "1.2.0",
            "_view_name": "LayoutView",
            "align_content": null,
            "align_items": null,
            "align_self": null,
            "border": null,
            "bottom": null,
            "display": null,
            "flex": null,
            "flex_flow": null,
            "grid_area": null,
            "grid_auto_columns": null,
            "grid_auto_flow": null,
            "grid_auto_rows": null,
            "grid_column": null,
            "grid_gap": null,
            "grid_row": null,
            "grid_template_areas": null,
            "grid_template_columns": null,
            "grid_template_rows": null,
            "height": null,
            "justify_content": null,
            "justify_items": null,
            "left": null,
            "margin": null,
            "max_height": null,
            "max_width": null,
            "min_height": null,
            "min_width": null,
            "object_fit": null,
            "object_position": null,
            "order": null,
            "overflow": null,
            "overflow_x": null,
            "overflow_y": null,
            "padding": null,
            "right": null,
            "top": null,
            "visibility": null,
            "width": null
          }
        },
        "a1e55df945ce45e5805a5f35ac4e6581": {
          "model_module": "@jupyter-widgets/controls",
          "model_name": "DescriptionStyleModel",
          "model_module_version": "1.5.0",
          "state": {
            "_model_module": "@jupyter-widgets/controls",
            "_model_module_version": "1.5.0",
            "_model_name": "DescriptionStyleModel",
            "_view_count": null,
            "_view_module": "@jupyter-widgets/base",
            "_view_module_version": "1.2.0",
            "_view_name": "StyleView",
            "description_width": ""
          }
        },
        "bb5c9c32d32545ed828ef138ccd4868d": {
          "model_module": "@jupyter-widgets/base",
          "model_name": "LayoutModel",
          "model_module_version": "1.2.0",
          "state": {
            "_model_module": "@jupyter-widgets/base",
            "_model_module_version": "1.2.0",
            "_model_name": "LayoutModel",
            "_view_count": null,
            "_view_module": "@jupyter-widgets/base",
            "_view_module_version": "1.2.0",
            "_view_name": "LayoutView",
            "align_content": null,
            "align_items": null,
            "align_self": null,
            "border": null,
            "bottom": null,
            "display": null,
            "flex": null,
            "flex_flow": null,
            "grid_area": null,
            "grid_auto_columns": null,
            "grid_auto_flow": null,
            "grid_auto_rows": null,
            "grid_column": null,
            "grid_gap": null,
            "grid_row": null,
            "grid_template_areas": null,
            "grid_template_columns": null,
            "grid_template_rows": null,
            "height": null,
            "justify_content": null,
            "justify_items": null,
            "left": null,
            "margin": null,
            "max_height": null,
            "max_width": null,
            "min_height": null,
            "min_width": null,
            "object_fit": null,
            "object_position": null,
            "order": null,
            "overflow": null,
            "overflow_x": null,
            "overflow_y": null,
            "padding": null,
            "right": null,
            "top": null,
            "visibility": null,
            "width": null
          }
        },
        "a4ec1f0263774b809546dcd015b8511c": {
          "model_module": "@jupyter-widgets/controls",
          "model_name": "ProgressStyleModel",
          "model_module_version": "1.5.0",
          "state": {
            "_model_module": "@jupyter-widgets/controls",
            "_model_module_version": "1.5.0",
            "_model_name": "ProgressStyleModel",
            "_view_count": null,
            "_view_module": "@jupyter-widgets/base",
            "_view_module_version": "1.2.0",
            "_view_name": "StyleView",
            "bar_color": null,
            "description_width": ""
          }
        },
        "af47c0641775425ba7a7c83e71b4d8eb": {
          "model_module": "@jupyter-widgets/base",
          "model_name": "LayoutModel",
          "model_module_version": "1.2.0",
          "state": {
            "_model_module": "@jupyter-widgets/base",
            "_model_module_version": "1.2.0",
            "_model_name": "LayoutModel",
            "_view_count": null,
            "_view_module": "@jupyter-widgets/base",
            "_view_module_version": "1.2.0",
            "_view_name": "LayoutView",
            "align_content": null,
            "align_items": null,
            "align_self": null,
            "border": null,
            "bottom": null,
            "display": null,
            "flex": null,
            "flex_flow": null,
            "grid_area": null,
            "grid_auto_columns": null,
            "grid_auto_flow": null,
            "grid_auto_rows": null,
            "grid_column": null,
            "grid_gap": null,
            "grid_row": null,
            "grid_template_areas": null,
            "grid_template_columns": null,
            "grid_template_rows": null,
            "height": null,
            "justify_content": null,
            "justify_items": null,
            "left": null,
            "margin": null,
            "max_height": null,
            "max_width": null,
            "min_height": null,
            "min_width": null,
            "object_fit": null,
            "object_position": null,
            "order": null,
            "overflow": null,
            "overflow_x": null,
            "overflow_y": null,
            "padding": null,
            "right": null,
            "top": null,
            "visibility": null,
            "width": null
          }
        },
        "93398bf37b9345c7b21c642363105520": {
          "model_module": "@jupyter-widgets/controls",
          "model_name": "DescriptionStyleModel",
          "model_module_version": "1.5.0",
          "state": {
            "_model_module": "@jupyter-widgets/controls",
            "_model_module_version": "1.5.0",
            "_model_name": "DescriptionStyleModel",
            "_view_count": null,
            "_view_module": "@jupyter-widgets/base",
            "_view_module_version": "1.2.0",
            "_view_name": "StyleView",
            "description_width": ""
          }
        },
        "b1245c7eb2b84623b163b80149cef02c": {
          "model_module": "@jupyter-widgets/controls",
          "model_name": "HBoxModel",
          "model_module_version": "1.5.0",
          "state": {
            "_dom_classes": [],
            "_model_module": "@jupyter-widgets/controls",
            "_model_module_version": "1.5.0",
            "_model_name": "HBoxModel",
            "_view_count": null,
            "_view_module": "@jupyter-widgets/controls",
            "_view_module_version": "1.5.0",
            "_view_name": "HBoxView",
            "box_style": "",
            "children": [
              "IPY_MODEL_f54c565bffcf4857bba01963ee9504a8",
              "IPY_MODEL_63ec03c0b7ff451b8fac89d1633ed45b",
              "IPY_MODEL_e5e58ed61b494e789f657cec4a844504"
            ],
            "layout": "IPY_MODEL_b69f319bb80244dcaa6e52ce284a247b"
          }
        },
        "f54c565bffcf4857bba01963ee9504a8": {
          "model_module": "@jupyter-widgets/controls",
          "model_name": "HTMLModel",
          "model_module_version": "1.5.0",
          "state": {
            "_dom_classes": [],
            "_model_module": "@jupyter-widgets/controls",
            "_model_module_version": "1.5.0",
            "_model_name": "HTMLModel",
            "_view_count": null,
            "_view_module": "@jupyter-widgets/controls",
            "_view_module_version": "1.5.0",
            "_view_name": "HTMLView",
            "description": "",
            "description_tooltip": null,
            "layout": "IPY_MODEL_cb84269f27284a2ca1cdae02db521671",
            "placeholder": "​",
            "style": "IPY_MODEL_fddb8f532955459a85aa338f4893fb9f",
            "value": "Downloading data: 100%"
          }
        },
        "63ec03c0b7ff451b8fac89d1633ed45b": {
          "model_module": "@jupyter-widgets/controls",
          "model_name": "FloatProgressModel",
          "model_module_version": "1.5.0",
          "state": {
            "_dom_classes": [],
            "_model_module": "@jupyter-widgets/controls",
            "_model_module_version": "1.5.0",
            "_model_name": "FloatProgressModel",
            "_view_count": null,
            "_view_module": "@jupyter-widgets/controls",
            "_view_module_version": "1.5.0",
            "_view_name": "ProgressView",
            "bar_style": "success",
            "description": "",
            "description_tooltip": null,
            "layout": "IPY_MODEL_cee30347c86c4be8b9ec994e858b9731",
            "max": 131932617,
            "min": 0,
            "orientation": "horizontal",
            "style": "IPY_MODEL_294e05395d5b432086cdd4d99c0e4c9b",
            "value": 131932617
          }
        },
        "e5e58ed61b494e789f657cec4a844504": {
          "model_module": "@jupyter-widgets/controls",
          "model_name": "HTMLModel",
          "model_module_version": "1.5.0",
          "state": {
            "_dom_classes": [],
            "_model_module": "@jupyter-widgets/controls",
            "_model_module_version": "1.5.0",
            "_model_name": "HTMLModel",
            "_view_count": null,
            "_view_module": "@jupyter-widgets/controls",
            "_view_module_version": "1.5.0",
            "_view_name": "HTMLView",
            "description": "",
            "description_tooltip": null,
            "layout": "IPY_MODEL_80c070c25edf48cfa05baf6554b43c65",
            "placeholder": "​",
            "style": "IPY_MODEL_ad8023e5c6ae48db82dd71d1c284ee39",
            "value": " 132M/132M [00:02&lt;00:00, 64.9MB/s]"
          }
        },
        "b69f319bb80244dcaa6e52ce284a247b": {
          "model_module": "@jupyter-widgets/base",
          "model_name": "LayoutModel",
          "model_module_version": "1.2.0",
          "state": {
            "_model_module": "@jupyter-widgets/base",
            "_model_module_version": "1.2.0",
            "_model_name": "LayoutModel",
            "_view_count": null,
            "_view_module": "@jupyter-widgets/base",
            "_view_module_version": "1.2.0",
            "_view_name": "LayoutView",
            "align_content": null,
            "align_items": null,
            "align_self": null,
            "border": null,
            "bottom": null,
            "display": null,
            "flex": null,
            "flex_flow": null,
            "grid_area": null,
            "grid_auto_columns": null,
            "grid_auto_flow": null,
            "grid_auto_rows": null,
            "grid_column": null,
            "grid_gap": null,
            "grid_row": null,
            "grid_template_areas": null,
            "grid_template_columns": null,
            "grid_template_rows": null,
            "height": null,
            "justify_content": null,
            "justify_items": null,
            "left": null,
            "margin": null,
            "max_height": null,
            "max_width": null,
            "min_height": null,
            "min_width": null,
            "object_fit": null,
            "object_position": null,
            "order": null,
            "overflow": null,
            "overflow_x": null,
            "overflow_y": null,
            "padding": null,
            "right": null,
            "top": null,
            "visibility": null,
            "width": null
          }
        },
        "cb84269f27284a2ca1cdae02db521671": {
          "model_module": "@jupyter-widgets/base",
          "model_name": "LayoutModel",
          "model_module_version": "1.2.0",
          "state": {
            "_model_module": "@jupyter-widgets/base",
            "_model_module_version": "1.2.0",
            "_model_name": "LayoutModel",
            "_view_count": null,
            "_view_module": "@jupyter-widgets/base",
            "_view_module_version": "1.2.0",
            "_view_name": "LayoutView",
            "align_content": null,
            "align_items": null,
            "align_self": null,
            "border": null,
            "bottom": null,
            "display": null,
            "flex": null,
            "flex_flow": null,
            "grid_area": null,
            "grid_auto_columns": null,
            "grid_auto_flow": null,
            "grid_auto_rows": null,
            "grid_column": null,
            "grid_gap": null,
            "grid_row": null,
            "grid_template_areas": null,
            "grid_template_columns": null,
            "grid_template_rows": null,
            "height": null,
            "justify_content": null,
            "justify_items": null,
            "left": null,
            "margin": null,
            "max_height": null,
            "max_width": null,
            "min_height": null,
            "min_width": null,
            "object_fit": null,
            "object_position": null,
            "order": null,
            "overflow": null,
            "overflow_x": null,
            "overflow_y": null,
            "padding": null,
            "right": null,
            "top": null,
            "visibility": null,
            "width": null
          }
        },
        "fddb8f532955459a85aa338f4893fb9f": {
          "model_module": "@jupyter-widgets/controls",
          "model_name": "DescriptionStyleModel",
          "model_module_version": "1.5.0",
          "state": {
            "_model_module": "@jupyter-widgets/controls",
            "_model_module_version": "1.5.0",
            "_model_name": "DescriptionStyleModel",
            "_view_count": null,
            "_view_module": "@jupyter-widgets/base",
            "_view_module_version": "1.2.0",
            "_view_name": "StyleView",
            "description_width": ""
          }
        },
        "cee30347c86c4be8b9ec994e858b9731": {
          "model_module": "@jupyter-widgets/base",
          "model_name": "LayoutModel",
          "model_module_version": "1.2.0",
          "state": {
            "_model_module": "@jupyter-widgets/base",
            "_model_module_version": "1.2.0",
            "_model_name": "LayoutModel",
            "_view_count": null,
            "_view_module": "@jupyter-widgets/base",
            "_view_module_version": "1.2.0",
            "_view_name": "LayoutView",
            "align_content": null,
            "align_items": null,
            "align_self": null,
            "border": null,
            "bottom": null,
            "display": null,
            "flex": null,
            "flex_flow": null,
            "grid_area": null,
            "grid_auto_columns": null,
            "grid_auto_flow": null,
            "grid_auto_rows": null,
            "grid_column": null,
            "grid_gap": null,
            "grid_row": null,
            "grid_template_areas": null,
            "grid_template_columns": null,
            "grid_template_rows": null,
            "height": null,
            "justify_content": null,
            "justify_items": null,
            "left": null,
            "margin": null,
            "max_height": null,
            "max_width": null,
            "min_height": null,
            "min_width": null,
            "object_fit": null,
            "object_position": null,
            "order": null,
            "overflow": null,
            "overflow_x": null,
            "overflow_y": null,
            "padding": null,
            "right": null,
            "top": null,
            "visibility": null,
            "width": null
          }
        },
        "294e05395d5b432086cdd4d99c0e4c9b": {
          "model_module": "@jupyter-widgets/controls",
          "model_name": "ProgressStyleModel",
          "model_module_version": "1.5.0",
          "state": {
            "_model_module": "@jupyter-widgets/controls",
            "_model_module_version": "1.5.0",
            "_model_name": "ProgressStyleModel",
            "_view_count": null,
            "_view_module": "@jupyter-widgets/base",
            "_view_module_version": "1.2.0",
            "_view_name": "StyleView",
            "bar_color": null,
            "description_width": ""
          }
        },
        "80c070c25edf48cfa05baf6554b43c65": {
          "model_module": "@jupyter-widgets/base",
          "model_name": "LayoutModel",
          "model_module_version": "1.2.0",
          "state": {
            "_model_module": "@jupyter-widgets/base",
            "_model_module_version": "1.2.0",
            "_model_name": "LayoutModel",
            "_view_count": null,
            "_view_module": "@jupyter-widgets/base",
            "_view_module_version": "1.2.0",
            "_view_name": "LayoutView",
            "align_content": null,
            "align_items": null,
            "align_self": null,
            "border": null,
            "bottom": null,
            "display": null,
            "flex": null,
            "flex_flow": null,
            "grid_area": null,
            "grid_auto_columns": null,
            "grid_auto_flow": null,
            "grid_auto_rows": null,
            "grid_column": null,
            "grid_gap": null,
            "grid_row": null,
            "grid_template_areas": null,
            "grid_template_columns": null,
            "grid_template_rows": null,
            "height": null,
            "justify_content": null,
            "justify_items": null,
            "left": null,
            "margin": null,
            "max_height": null,
            "max_width": null,
            "min_height": null,
            "min_width": null,
            "object_fit": null,
            "object_position": null,
            "order": null,
            "overflow": null,
            "overflow_x": null,
            "overflow_y": null,
            "padding": null,
            "right": null,
            "top": null,
            "visibility": null,
            "width": null
          }
        },
        "ad8023e5c6ae48db82dd71d1c284ee39": {
          "model_module": "@jupyter-widgets/controls",
          "model_name": "DescriptionStyleModel",
          "model_module_version": "1.5.0",
          "state": {
            "_model_module": "@jupyter-widgets/controls",
            "_model_module_version": "1.5.0",
            "_model_name": "DescriptionStyleModel",
            "_view_count": null,
            "_view_module": "@jupyter-widgets/base",
            "_view_module_version": "1.2.0",
            "_view_name": "StyleView",
            "description_width": ""
          }
        },
        "54ce059945034595b7d2f457b79008ec": {
          "model_module": "@jupyter-widgets/controls",
          "model_name": "HBoxModel",
          "model_module_version": "1.5.0",
          "state": {
            "_dom_classes": [],
            "_model_module": "@jupyter-widgets/controls",
            "_model_module_version": "1.5.0",
            "_model_name": "HBoxModel",
            "_view_count": null,
            "_view_module": "@jupyter-widgets/controls",
            "_view_module_version": "1.5.0",
            "_view_name": "HBoxView",
            "box_style": "",
            "children": [
              "IPY_MODEL_e988eca41361463d901b061fd66934db",
              "IPY_MODEL_37fc16795c8e424f890edd8ec114b35e",
              "IPY_MODEL_2993ae1761264cb7b4a0067335a48c7a"
            ],
            "layout": "IPY_MODEL_b8cb0144e9b54cb5ba29c53c41104877"
          }
        },
        "e988eca41361463d901b061fd66934db": {
          "model_module": "@jupyter-widgets/controls",
          "model_name": "HTMLModel",
          "model_module_version": "1.5.0",
          "state": {
            "_dom_classes": [],
            "_model_module": "@jupyter-widgets/controls",
            "_model_module_version": "1.5.0",
            "_model_name": "HTMLModel",
            "_view_count": null,
            "_view_module": "@jupyter-widgets/controls",
            "_view_module_version": "1.5.0",
            "_view_name": "HTMLView",
            "description": "",
            "description_tooltip": null,
            "layout": "IPY_MODEL_224ad6c61b034ffe83a80eb3f229b529",
            "placeholder": "​",
            "style": "IPY_MODEL_370df82a8e834431911395a086d15d90",
            "value": "Extracting data files: 100%"
          }
        },
        "37fc16795c8e424f890edd8ec114b35e": {
          "model_module": "@jupyter-widgets/controls",
          "model_name": "FloatProgressModel",
          "model_module_version": "1.5.0",
          "state": {
            "_dom_classes": [],
            "_model_module": "@jupyter-widgets/controls",
            "_model_module_version": "1.5.0",
            "_model_name": "FloatProgressModel",
            "_view_count": null,
            "_view_module": "@jupyter-widgets/controls",
            "_view_module_version": "1.5.0",
            "_view_name": "ProgressView",
            "bar_style": "success",
            "description": "",
            "description_tooltip": null,
            "layout": "IPY_MODEL_4604b26588934810a0844d6f45f84358",
            "max": 2,
            "min": 0,
            "orientation": "horizontal",
            "style": "IPY_MODEL_655eaeaafa2a4df88a901c8d912d5086",
            "value": 2
          }
        },
        "2993ae1761264cb7b4a0067335a48c7a": {
          "model_module": "@jupyter-widgets/controls",
          "model_name": "HTMLModel",
          "model_module_version": "1.5.0",
          "state": {
            "_dom_classes": [],
            "_model_module": "@jupyter-widgets/controls",
            "_model_module_version": "1.5.0",
            "_model_name": "HTMLModel",
            "_view_count": null,
            "_view_module": "@jupyter-widgets/controls",
            "_view_module_version": "1.5.0",
            "_view_name": "HTMLView",
            "description": "",
            "description_tooltip": null,
            "layout": "IPY_MODEL_68d3d04902ac4426ba55c0b95c943391",
            "placeholder": "​",
            "style": "IPY_MODEL_8a91e2eb1a6f450d81eee3394c6f39e3",
            "value": " 2/2 [00:00&lt;00:00, 56.96it/s]"
          }
        },
        "b8cb0144e9b54cb5ba29c53c41104877": {
          "model_module": "@jupyter-widgets/base",
          "model_name": "LayoutModel",
          "model_module_version": "1.2.0",
          "state": {
            "_model_module": "@jupyter-widgets/base",
            "_model_module_version": "1.2.0",
            "_model_name": "LayoutModel",
            "_view_count": null,
            "_view_module": "@jupyter-widgets/base",
            "_view_module_version": "1.2.0",
            "_view_name": "LayoutView",
            "align_content": null,
            "align_items": null,
            "align_self": null,
            "border": null,
            "bottom": null,
            "display": null,
            "flex": null,
            "flex_flow": null,
            "grid_area": null,
            "grid_auto_columns": null,
            "grid_auto_flow": null,
            "grid_auto_rows": null,
            "grid_column": null,
            "grid_gap": null,
            "grid_row": null,
            "grid_template_areas": null,
            "grid_template_columns": null,
            "grid_template_rows": null,
            "height": null,
            "justify_content": null,
            "justify_items": null,
            "left": null,
            "margin": null,
            "max_height": null,
            "max_width": null,
            "min_height": null,
            "min_width": null,
            "object_fit": null,
            "object_position": null,
            "order": null,
            "overflow": null,
            "overflow_x": null,
            "overflow_y": null,
            "padding": null,
            "right": null,
            "top": null,
            "visibility": null,
            "width": null
          }
        },
        "224ad6c61b034ffe83a80eb3f229b529": {
          "model_module": "@jupyter-widgets/base",
          "model_name": "LayoutModel",
          "model_module_version": "1.2.0",
          "state": {
            "_model_module": "@jupyter-widgets/base",
            "_model_module_version": "1.2.0",
            "_model_name": "LayoutModel",
            "_view_count": null,
            "_view_module": "@jupyter-widgets/base",
            "_view_module_version": "1.2.0",
            "_view_name": "LayoutView",
            "align_content": null,
            "align_items": null,
            "align_self": null,
            "border": null,
            "bottom": null,
            "display": null,
            "flex": null,
            "flex_flow": null,
            "grid_area": null,
            "grid_auto_columns": null,
            "grid_auto_flow": null,
            "grid_auto_rows": null,
            "grid_column": null,
            "grid_gap": null,
            "grid_row": null,
            "grid_template_areas": null,
            "grid_template_columns": null,
            "grid_template_rows": null,
            "height": null,
            "justify_content": null,
            "justify_items": null,
            "left": null,
            "margin": null,
            "max_height": null,
            "max_width": null,
            "min_height": null,
            "min_width": null,
            "object_fit": null,
            "object_position": null,
            "order": null,
            "overflow": null,
            "overflow_x": null,
            "overflow_y": null,
            "padding": null,
            "right": null,
            "top": null,
            "visibility": null,
            "width": null
          }
        },
        "370df82a8e834431911395a086d15d90": {
          "model_module": "@jupyter-widgets/controls",
          "model_name": "DescriptionStyleModel",
          "model_module_version": "1.5.0",
          "state": {
            "_model_module": "@jupyter-widgets/controls",
            "_model_module_version": "1.5.0",
            "_model_name": "DescriptionStyleModel",
            "_view_count": null,
            "_view_module": "@jupyter-widgets/base",
            "_view_module_version": "1.2.0",
            "_view_name": "StyleView",
            "description_width": ""
          }
        },
        "4604b26588934810a0844d6f45f84358": {
          "model_module": "@jupyter-widgets/base",
          "model_name": "LayoutModel",
          "model_module_version": "1.2.0",
          "state": {
            "_model_module": "@jupyter-widgets/base",
            "_model_module_version": "1.2.0",
            "_model_name": "LayoutModel",
            "_view_count": null,
            "_view_module": "@jupyter-widgets/base",
            "_view_module_version": "1.2.0",
            "_view_name": "LayoutView",
            "align_content": null,
            "align_items": null,
            "align_self": null,
            "border": null,
            "bottom": null,
            "display": null,
            "flex": null,
            "flex_flow": null,
            "grid_area": null,
            "grid_auto_columns": null,
            "grid_auto_flow": null,
            "grid_auto_rows": null,
            "grid_column": null,
            "grid_gap": null,
            "grid_row": null,
            "grid_template_areas": null,
            "grid_template_columns": null,
            "grid_template_rows": null,
            "height": null,
            "justify_content": null,
            "justify_items": null,
            "left": null,
            "margin": null,
            "max_height": null,
            "max_width": null,
            "min_height": null,
            "min_width": null,
            "object_fit": null,
            "object_position": null,
            "order": null,
            "overflow": null,
            "overflow_x": null,
            "overflow_y": null,
            "padding": null,
            "right": null,
            "top": null,
            "visibility": null,
            "width": null
          }
        },
        "655eaeaafa2a4df88a901c8d912d5086": {
          "model_module": "@jupyter-widgets/controls",
          "model_name": "ProgressStyleModel",
          "model_module_version": "1.5.0",
          "state": {
            "_model_module": "@jupyter-widgets/controls",
            "_model_module_version": "1.5.0",
            "_model_name": "ProgressStyleModel",
            "_view_count": null,
            "_view_module": "@jupyter-widgets/base",
            "_view_module_version": "1.2.0",
            "_view_name": "StyleView",
            "bar_color": null,
            "description_width": ""
          }
        },
        "68d3d04902ac4426ba55c0b95c943391": {
          "model_module": "@jupyter-widgets/base",
          "model_name": "LayoutModel",
          "model_module_version": "1.2.0",
          "state": {
            "_model_module": "@jupyter-widgets/base",
            "_model_module_version": "1.2.0",
            "_model_name": "LayoutModel",
            "_view_count": null,
            "_view_module": "@jupyter-widgets/base",
            "_view_module_version": "1.2.0",
            "_view_name": "LayoutView",
            "align_content": null,
            "align_items": null,
            "align_self": null,
            "border": null,
            "bottom": null,
            "display": null,
            "flex": null,
            "flex_flow": null,
            "grid_area": null,
            "grid_auto_columns": null,
            "grid_auto_flow": null,
            "grid_auto_rows": null,
            "grid_column": null,
            "grid_gap": null,
            "grid_row": null,
            "grid_template_areas": null,
            "grid_template_columns": null,
            "grid_template_rows": null,
            "height": null,
            "justify_content": null,
            "justify_items": null,
            "left": null,
            "margin": null,
            "max_height": null,
            "max_width": null,
            "min_height": null,
            "min_width": null,
            "object_fit": null,
            "object_position": null,
            "order": null,
            "overflow": null,
            "overflow_x": null,
            "overflow_y": null,
            "padding": null,
            "right": null,
            "top": null,
            "visibility": null,
            "width": null
          }
        },
        "8a91e2eb1a6f450d81eee3394c6f39e3": {
          "model_module": "@jupyter-widgets/controls",
          "model_name": "DescriptionStyleModel",
          "model_module_version": "1.5.0",
          "state": {
            "_model_module": "@jupyter-widgets/controls",
            "_model_module_version": "1.5.0",
            "_model_name": "DescriptionStyleModel",
            "_view_count": null,
            "_view_module": "@jupyter-widgets/base",
            "_view_module_version": "1.2.0",
            "_view_name": "StyleView",
            "description_width": ""
          }
        },
        "aa8b7412d0c94b21bbbfae6a82d86097": {
          "model_module": "@jupyter-widgets/controls",
          "model_name": "HBoxModel",
          "model_module_version": "1.5.0",
          "state": {
            "_dom_classes": [],
            "_model_module": "@jupyter-widgets/controls",
            "_model_module_version": "1.5.0",
            "_model_name": "HBoxModel",
            "_view_count": null,
            "_view_module": "@jupyter-widgets/controls",
            "_view_module_version": "1.5.0",
            "_view_name": "HBoxView",
            "box_style": "",
            "children": [
              "IPY_MODEL_53e815a7e05e420daa60d9cc05509e1e",
              "IPY_MODEL_22e42b762fb34a12a0ea314b22b6464d",
              "IPY_MODEL_31990a468461462a96bb88678c056bf0"
            ],
            "layout": "IPY_MODEL_e4992d6d0c2a459bae5f86c3de9af481"
          }
        },
        "53e815a7e05e420daa60d9cc05509e1e": {
          "model_module": "@jupyter-widgets/controls",
          "model_name": "HTMLModel",
          "model_module_version": "1.5.0",
          "state": {
            "_dom_classes": [],
            "_model_module": "@jupyter-widgets/controls",
            "_model_module_version": "1.5.0",
            "_model_name": "HTMLModel",
            "_view_count": null,
            "_view_module": "@jupyter-widgets/controls",
            "_view_module_version": "1.5.0",
            "_view_name": "HTMLView",
            "description": "",
            "description_tooltip": null,
            "layout": "IPY_MODEL_9d5759a099b145829722467360e29504",
            "placeholder": "​",
            "style": "IPY_MODEL_a49b3a5c74384c2a8c021626856b0fc3",
            "value": ""
          }
        },
        "22e42b762fb34a12a0ea314b22b6464d": {
          "model_module": "@jupyter-widgets/controls",
          "model_name": "FloatProgressModel",
          "model_module_version": "1.5.0",
          "state": {
            "_dom_classes": [],
            "_model_module": "@jupyter-widgets/controls",
            "_model_module_version": "1.5.0",
            "_model_name": "FloatProgressModel",
            "_view_count": null,
            "_view_module": "@jupyter-widgets/controls",
            "_view_module_version": "1.5.0",
            "_view_name": "ProgressView",
            "bar_style": "info",
            "description": "",
            "description_tooltip": null,
            "layout": "IPY_MODEL_45d6574559064f99a1e211c8f9d89c70",
            "max": 1,
            "min": 0,
            "orientation": "horizontal",
            "style": "IPY_MODEL_68c83139161d4953a6ecdfdf7ef84315",
            "value": 1
          }
        },
        "31990a468461462a96bb88678c056bf0": {
          "model_module": "@jupyter-widgets/controls",
          "model_name": "HTMLModel",
          "model_module_version": "1.5.0",
          "state": {
            "_dom_classes": [],
            "_model_module": "@jupyter-widgets/controls",
            "_model_module_version": "1.5.0",
            "_model_name": "HTMLModel",
            "_view_count": null,
            "_view_module": "@jupyter-widgets/controls",
            "_view_module_version": "1.5.0",
            "_view_name": "HTMLView",
            "description": "",
            "description_tooltip": null,
            "layout": "IPY_MODEL_178c0f8b805b46249ecf6108751436b4",
            "placeholder": "​",
            "style": "IPY_MODEL_26f00a7a34dd44ac99aa523a31cf86fe",
            "value": " 1/? [00:00&lt;00:00,  3.57 tables/s]"
          }
        },
        "e4992d6d0c2a459bae5f86c3de9af481": {
          "model_module": "@jupyter-widgets/base",
          "model_name": "LayoutModel",
          "model_module_version": "1.2.0",
          "state": {
            "_model_module": "@jupyter-widgets/base",
            "_model_module_version": "1.2.0",
            "_model_name": "LayoutModel",
            "_view_count": null,
            "_view_module": "@jupyter-widgets/base",
            "_view_module_version": "1.2.0",
            "_view_name": "LayoutView",
            "align_content": null,
            "align_items": null,
            "align_self": null,
            "border": null,
            "bottom": null,
            "display": null,
            "flex": null,
            "flex_flow": null,
            "grid_area": null,
            "grid_auto_columns": null,
            "grid_auto_flow": null,
            "grid_auto_rows": null,
            "grid_column": null,
            "grid_gap": null,
            "grid_row": null,
            "grid_template_areas": null,
            "grid_template_columns": null,
            "grid_template_rows": null,
            "height": null,
            "justify_content": null,
            "justify_items": null,
            "left": null,
            "margin": null,
            "max_height": null,
            "max_width": null,
            "min_height": null,
            "min_width": null,
            "object_fit": null,
            "object_position": null,
            "order": null,
            "overflow": null,
            "overflow_x": null,
            "overflow_y": null,
            "padding": null,
            "right": null,
            "top": null,
            "visibility": null,
            "width": null
          }
        },
        "9d5759a099b145829722467360e29504": {
          "model_module": "@jupyter-widgets/base",
          "model_name": "LayoutModel",
          "model_module_version": "1.2.0",
          "state": {
            "_model_module": "@jupyter-widgets/base",
            "_model_module_version": "1.2.0",
            "_model_name": "LayoutModel",
            "_view_count": null,
            "_view_module": "@jupyter-widgets/base",
            "_view_module_version": "1.2.0",
            "_view_name": "LayoutView",
            "align_content": null,
            "align_items": null,
            "align_self": null,
            "border": null,
            "bottom": null,
            "display": null,
            "flex": null,
            "flex_flow": null,
            "grid_area": null,
            "grid_auto_columns": null,
            "grid_auto_flow": null,
            "grid_auto_rows": null,
            "grid_column": null,
            "grid_gap": null,
            "grid_row": null,
            "grid_template_areas": null,
            "grid_template_columns": null,
            "grid_template_rows": null,
            "height": null,
            "justify_content": null,
            "justify_items": null,
            "left": null,
            "margin": null,
            "max_height": null,
            "max_width": null,
            "min_height": null,
            "min_width": null,
            "object_fit": null,
            "object_position": null,
            "order": null,
            "overflow": null,
            "overflow_x": null,
            "overflow_y": null,
            "padding": null,
            "right": null,
            "top": null,
            "visibility": null,
            "width": null
          }
        },
        "a49b3a5c74384c2a8c021626856b0fc3": {
          "model_module": "@jupyter-widgets/controls",
          "model_name": "DescriptionStyleModel",
          "model_module_version": "1.5.0",
          "state": {
            "_model_module": "@jupyter-widgets/controls",
            "_model_module_version": "1.5.0",
            "_model_name": "DescriptionStyleModel",
            "_view_count": null,
            "_view_module": "@jupyter-widgets/base",
            "_view_module_version": "1.2.0",
            "_view_name": "StyleView",
            "description_width": ""
          }
        },
        "45d6574559064f99a1e211c8f9d89c70": {
          "model_module": "@jupyter-widgets/base",
          "model_name": "LayoutModel",
          "model_module_version": "1.2.0",
          "state": {
            "_model_module": "@jupyter-widgets/base",
            "_model_module_version": "1.2.0",
            "_model_name": "LayoutModel",
            "_view_count": null,
            "_view_module": "@jupyter-widgets/base",
            "_view_module_version": "1.2.0",
            "_view_name": "LayoutView",
            "align_content": null,
            "align_items": null,
            "align_self": null,
            "border": null,
            "bottom": null,
            "display": null,
            "flex": null,
            "flex_flow": null,
            "grid_area": null,
            "grid_auto_columns": null,
            "grid_auto_flow": null,
            "grid_auto_rows": null,
            "grid_column": null,
            "grid_gap": null,
            "grid_row": null,
            "grid_template_areas": null,
            "grid_template_columns": null,
            "grid_template_rows": null,
            "height": null,
            "justify_content": null,
            "justify_items": null,
            "left": null,
            "margin": null,
            "max_height": null,
            "max_width": null,
            "min_height": null,
            "min_width": null,
            "object_fit": null,
            "object_position": null,
            "order": null,
            "overflow": null,
            "overflow_x": null,
            "overflow_y": null,
            "padding": null,
            "right": null,
            "top": null,
            "visibility": null,
            "width": "20px"
          }
        },
        "68c83139161d4953a6ecdfdf7ef84315": {
          "model_module": "@jupyter-widgets/controls",
          "model_name": "ProgressStyleModel",
          "model_module_version": "1.5.0",
          "state": {
            "_model_module": "@jupyter-widgets/controls",
            "_model_module_version": "1.5.0",
            "_model_name": "ProgressStyleModel",
            "_view_count": null,
            "_view_module": "@jupyter-widgets/base",
            "_view_module_version": "1.2.0",
            "_view_name": "StyleView",
            "bar_color": null,
            "description_width": ""
          }
        },
        "178c0f8b805b46249ecf6108751436b4": {
          "model_module": "@jupyter-widgets/base",
          "model_name": "LayoutModel",
          "model_module_version": "1.2.0",
          "state": {
            "_model_module": "@jupyter-widgets/base",
            "_model_module_version": "1.2.0",
            "_model_name": "LayoutModel",
            "_view_count": null,
            "_view_module": "@jupyter-widgets/base",
            "_view_module_version": "1.2.0",
            "_view_name": "LayoutView",
            "align_content": null,
            "align_items": null,
            "align_self": null,
            "border": null,
            "bottom": null,
            "display": null,
            "flex": null,
            "flex_flow": null,
            "grid_area": null,
            "grid_auto_columns": null,
            "grid_auto_flow": null,
            "grid_auto_rows": null,
            "grid_column": null,
            "grid_gap": null,
            "grid_row": null,
            "grid_template_areas": null,
            "grid_template_columns": null,
            "grid_template_rows": null,
            "height": null,
            "justify_content": null,
            "justify_items": null,
            "left": null,
            "margin": null,
            "max_height": null,
            "max_width": null,
            "min_height": null,
            "min_width": null,
            "object_fit": null,
            "object_position": null,
            "order": null,
            "overflow": null,
            "overflow_x": null,
            "overflow_y": null,
            "padding": null,
            "right": null,
            "top": null,
            "visibility": null,
            "width": null
          }
        },
        "26f00a7a34dd44ac99aa523a31cf86fe": {
          "model_module": "@jupyter-widgets/controls",
          "model_name": "DescriptionStyleModel",
          "model_module_version": "1.5.0",
          "state": {
            "_model_module": "@jupyter-widgets/controls",
            "_model_module_version": "1.5.0",
            "_model_name": "DescriptionStyleModel",
            "_view_count": null,
            "_view_module": "@jupyter-widgets/base",
            "_view_module_version": "1.2.0",
            "_view_name": "StyleView",
            "description_width": ""
          }
        },
        "96c57ac0b4444e9d82935cf35bd1d8d1": {
          "model_module": "@jupyter-widgets/controls",
          "model_name": "HBoxModel",
          "model_module_version": "1.5.0",
          "state": {
            "_dom_classes": [],
            "_model_module": "@jupyter-widgets/controls",
            "_model_module_version": "1.5.0",
            "_model_name": "HBoxModel",
            "_view_count": null,
            "_view_module": "@jupyter-widgets/controls",
            "_view_module_version": "1.5.0",
            "_view_name": "HBoxView",
            "box_style": "",
            "children": [
              "IPY_MODEL_0165042e14474f60b42acb6ba8a5780f",
              "IPY_MODEL_60f43b423a1844c5988cb7a57385cbda",
              "IPY_MODEL_a1e28f785dcd4466a9cdccf92ee20763"
            ],
            "layout": "IPY_MODEL_31aaab3d43b146d39c427b66dc59a846"
          }
        },
        "0165042e14474f60b42acb6ba8a5780f": {
          "model_module": "@jupyter-widgets/controls",
          "model_name": "HTMLModel",
          "model_module_version": "1.5.0",
          "state": {
            "_dom_classes": [],
            "_model_module": "@jupyter-widgets/controls",
            "_model_module_version": "1.5.0",
            "_model_name": "HTMLModel",
            "_view_count": null,
            "_view_module": "@jupyter-widgets/controls",
            "_view_module_version": "1.5.0",
            "_view_name": "HTMLView",
            "description": "",
            "description_tooltip": null,
            "layout": "IPY_MODEL_50364b851dd348098d8230704a623a06",
            "placeholder": "​",
            "style": "IPY_MODEL_bf643bbaec164610a0051e75cd577667",
            "value": ""
          }
        },
        "60f43b423a1844c5988cb7a57385cbda": {
          "model_module": "@jupyter-widgets/controls",
          "model_name": "FloatProgressModel",
          "model_module_version": "1.5.0",
          "state": {
            "_dom_classes": [],
            "_model_module": "@jupyter-widgets/controls",
            "_model_module_version": "1.5.0",
            "_model_name": "FloatProgressModel",
            "_view_count": null,
            "_view_module": "@jupyter-widgets/controls",
            "_view_module_version": "1.5.0",
            "_view_name": "ProgressView",
            "bar_style": "info",
            "description": "",
            "description_tooltip": null,
            "layout": "IPY_MODEL_4fab34c12c554367a524c27901c06ae4",
            "max": 1,
            "min": 0,
            "orientation": "horizontal",
            "style": "IPY_MODEL_947a926c6d464620974a9eb15ec6425d",
            "value": 1
          }
        },
        "a1e28f785dcd4466a9cdccf92ee20763": {
          "model_module": "@jupyter-widgets/controls",
          "model_name": "HTMLModel",
          "model_module_version": "1.5.0",
          "state": {
            "_dom_classes": [],
            "_model_module": "@jupyter-widgets/controls",
            "_model_module_version": "1.5.0",
            "_model_name": "HTMLModel",
            "_view_count": null,
            "_view_module": "@jupyter-widgets/controls",
            "_view_module_version": "1.5.0",
            "_view_name": "HTMLView",
            "description": "",
            "description_tooltip": null,
            "layout": "IPY_MODEL_774f02d03dea4611b16a634100603cd3",
            "placeholder": "​",
            "style": "IPY_MODEL_891304875d66455db484f2054abaabc4",
            "value": " 1/? [00:01&lt;00:00,  1.08s/ tables]"
          }
        },
        "31aaab3d43b146d39c427b66dc59a846": {
          "model_module": "@jupyter-widgets/base",
          "model_name": "LayoutModel",
          "model_module_version": "1.2.0",
          "state": {
            "_model_module": "@jupyter-widgets/base",
            "_model_module_version": "1.2.0",
            "_model_name": "LayoutModel",
            "_view_count": null,
            "_view_module": "@jupyter-widgets/base",
            "_view_module_version": "1.2.0",
            "_view_name": "LayoutView",
            "align_content": null,
            "align_items": null,
            "align_self": null,
            "border": null,
            "bottom": null,
            "display": null,
            "flex": null,
            "flex_flow": null,
            "grid_area": null,
            "grid_auto_columns": null,
            "grid_auto_flow": null,
            "grid_auto_rows": null,
            "grid_column": null,
            "grid_gap": null,
            "grid_row": null,
            "grid_template_areas": null,
            "grid_template_columns": null,
            "grid_template_rows": null,
            "height": null,
            "justify_content": null,
            "justify_items": null,
            "left": null,
            "margin": null,
            "max_height": null,
            "max_width": null,
            "min_height": null,
            "min_width": null,
            "object_fit": null,
            "object_position": null,
            "order": null,
            "overflow": null,
            "overflow_x": null,
            "overflow_y": null,
            "padding": null,
            "right": null,
            "top": null,
            "visibility": null,
            "width": null
          }
        },
        "50364b851dd348098d8230704a623a06": {
          "model_module": "@jupyter-widgets/base",
          "model_name": "LayoutModel",
          "model_module_version": "1.2.0",
          "state": {
            "_model_module": "@jupyter-widgets/base",
            "_model_module_version": "1.2.0",
            "_model_name": "LayoutModel",
            "_view_count": null,
            "_view_module": "@jupyter-widgets/base",
            "_view_module_version": "1.2.0",
            "_view_name": "LayoutView",
            "align_content": null,
            "align_items": null,
            "align_self": null,
            "border": null,
            "bottom": null,
            "display": null,
            "flex": null,
            "flex_flow": null,
            "grid_area": null,
            "grid_auto_columns": null,
            "grid_auto_flow": null,
            "grid_auto_rows": null,
            "grid_column": null,
            "grid_gap": null,
            "grid_row": null,
            "grid_template_areas": null,
            "grid_template_columns": null,
            "grid_template_rows": null,
            "height": null,
            "justify_content": null,
            "justify_items": null,
            "left": null,
            "margin": null,
            "max_height": null,
            "max_width": null,
            "min_height": null,
            "min_width": null,
            "object_fit": null,
            "object_position": null,
            "order": null,
            "overflow": null,
            "overflow_x": null,
            "overflow_y": null,
            "padding": null,
            "right": null,
            "top": null,
            "visibility": null,
            "width": null
          }
        },
        "bf643bbaec164610a0051e75cd577667": {
          "model_module": "@jupyter-widgets/controls",
          "model_name": "DescriptionStyleModel",
          "model_module_version": "1.5.0",
          "state": {
            "_model_module": "@jupyter-widgets/controls",
            "_model_module_version": "1.5.0",
            "_model_name": "DescriptionStyleModel",
            "_view_count": null,
            "_view_module": "@jupyter-widgets/base",
            "_view_module_version": "1.2.0",
            "_view_name": "StyleView",
            "description_width": ""
          }
        },
        "4fab34c12c554367a524c27901c06ae4": {
          "model_module": "@jupyter-widgets/base",
          "model_name": "LayoutModel",
          "model_module_version": "1.2.0",
          "state": {
            "_model_module": "@jupyter-widgets/base",
            "_model_module_version": "1.2.0",
            "_model_name": "LayoutModel",
            "_view_count": null,
            "_view_module": "@jupyter-widgets/base",
            "_view_module_version": "1.2.0",
            "_view_name": "LayoutView",
            "align_content": null,
            "align_items": null,
            "align_self": null,
            "border": null,
            "bottom": null,
            "display": null,
            "flex": null,
            "flex_flow": null,
            "grid_area": null,
            "grid_auto_columns": null,
            "grid_auto_flow": null,
            "grid_auto_rows": null,
            "grid_column": null,
            "grid_gap": null,
            "grid_row": null,
            "grid_template_areas": null,
            "grid_template_columns": null,
            "grid_template_rows": null,
            "height": null,
            "justify_content": null,
            "justify_items": null,
            "left": null,
            "margin": null,
            "max_height": null,
            "max_width": null,
            "min_height": null,
            "min_width": null,
            "object_fit": null,
            "object_position": null,
            "order": null,
            "overflow": null,
            "overflow_x": null,
            "overflow_y": null,
            "padding": null,
            "right": null,
            "top": null,
            "visibility": null,
            "width": "20px"
          }
        },
        "947a926c6d464620974a9eb15ec6425d": {
          "model_module": "@jupyter-widgets/controls",
          "model_name": "ProgressStyleModel",
          "model_module_version": "1.5.0",
          "state": {
            "_model_module": "@jupyter-widgets/controls",
            "_model_module_version": "1.5.0",
            "_model_name": "ProgressStyleModel",
            "_view_count": null,
            "_view_module": "@jupyter-widgets/base",
            "_view_module_version": "1.2.0",
            "_view_name": "StyleView",
            "bar_color": null,
            "description_width": ""
          }
        },
        "774f02d03dea4611b16a634100603cd3": {
          "model_module": "@jupyter-widgets/base",
          "model_name": "LayoutModel",
          "model_module_version": "1.2.0",
          "state": {
            "_model_module": "@jupyter-widgets/base",
            "_model_module_version": "1.2.0",
            "_model_name": "LayoutModel",
            "_view_count": null,
            "_view_module": "@jupyter-widgets/base",
            "_view_module_version": "1.2.0",
            "_view_name": "LayoutView",
            "align_content": null,
            "align_items": null,
            "align_self": null,
            "border": null,
            "bottom": null,
            "display": null,
            "flex": null,
            "flex_flow": null,
            "grid_area": null,
            "grid_auto_columns": null,
            "grid_auto_flow": null,
            "grid_auto_rows": null,
            "grid_column": null,
            "grid_gap": null,
            "grid_row": null,
            "grid_template_areas": null,
            "grid_template_columns": null,
            "grid_template_rows": null,
            "height": null,
            "justify_content": null,
            "justify_items": null,
            "left": null,
            "margin": null,
            "max_height": null,
            "max_width": null,
            "min_height": null,
            "min_width": null,
            "object_fit": null,
            "object_position": null,
            "order": null,
            "overflow": null,
            "overflow_x": null,
            "overflow_y": null,
            "padding": null,
            "right": null,
            "top": null,
            "visibility": null,
            "width": null
          }
        },
        "891304875d66455db484f2054abaabc4": {
          "model_module": "@jupyter-widgets/controls",
          "model_name": "DescriptionStyleModel",
          "model_module_version": "1.5.0",
          "state": {
            "_model_module": "@jupyter-widgets/controls",
            "_model_module_version": "1.5.0",
            "_model_name": "DescriptionStyleModel",
            "_view_count": null,
            "_view_module": "@jupyter-widgets/base",
            "_view_module_version": "1.2.0",
            "_view_name": "StyleView",
            "description_width": ""
          }
        },
        "fa22551302fe4194a204b9fded8288fc": {
          "model_module": "@jupyter-widgets/controls",
          "model_name": "HBoxModel",
          "model_module_version": "1.5.0",
          "state": {
            "_dom_classes": [],
            "_model_module": "@jupyter-widgets/controls",
            "_model_module_version": "1.5.0",
            "_model_name": "HBoxModel",
            "_view_count": null,
            "_view_module": "@jupyter-widgets/controls",
            "_view_module_version": "1.5.0",
            "_view_name": "HBoxView",
            "box_style": "",
            "children": [
              "IPY_MODEL_748f4df3d8144b32a16a01673b3bf188",
              "IPY_MODEL_955ed55fa37448a08f78445f862a6272",
              "IPY_MODEL_fb8ec3c0f4c24da9a7f3608a29ba9b07"
            ],
            "layout": "IPY_MODEL_0dd6aecf182e435bb1085c45701c75f2"
          }
        },
        "748f4df3d8144b32a16a01673b3bf188": {
          "model_module": "@jupyter-widgets/controls",
          "model_name": "HTMLModel",
          "model_module_version": "1.5.0",
          "state": {
            "_dom_classes": [],
            "_model_module": "@jupyter-widgets/controls",
            "_model_module_version": "1.5.0",
            "_model_name": "HTMLModel",
            "_view_count": null,
            "_view_module": "@jupyter-widgets/controls",
            "_view_module_version": "1.5.0",
            "_view_name": "HTMLView",
            "description": "",
            "description_tooltip": null,
            "layout": "IPY_MODEL_47b6a5afdda94cf39786143df4acd016",
            "placeholder": "​",
            "style": "IPY_MODEL_db1af292726e4352b1d395a0e1e448c5",
            "value": "100%"
          }
        },
        "955ed55fa37448a08f78445f862a6272": {
          "model_module": "@jupyter-widgets/controls",
          "model_name": "FloatProgressModel",
          "model_module_version": "1.5.0",
          "state": {
            "_dom_classes": [],
            "_model_module": "@jupyter-widgets/controls",
            "_model_module_version": "1.5.0",
            "_model_name": "FloatProgressModel",
            "_view_count": null,
            "_view_module": "@jupyter-widgets/controls",
            "_view_module_version": "1.5.0",
            "_view_name": "ProgressView",
            "bar_style": "success",
            "description": "",
            "description_tooltip": null,
            "layout": "IPY_MODEL_792e006063bb4a2b8160a7ae49eadcab",
            "max": 2,
            "min": 0,
            "orientation": "horizontal",
            "style": "IPY_MODEL_a910a369ec4149a8ad52ef3d9a1c296c",
            "value": 2
          }
        },
        "fb8ec3c0f4c24da9a7f3608a29ba9b07": {
          "model_module": "@jupyter-widgets/controls",
          "model_name": "HTMLModel",
          "model_module_version": "1.5.0",
          "state": {
            "_dom_classes": [],
            "_model_module": "@jupyter-widgets/controls",
            "_model_module_version": "1.5.0",
            "_model_name": "HTMLModel",
            "_view_count": null,
            "_view_module": "@jupyter-widgets/controls",
            "_view_module_version": "1.5.0",
            "_view_name": "HTMLView",
            "description": "",
            "description_tooltip": null,
            "layout": "IPY_MODEL_6eff16ab72db4443802fa5e8f2cb67a7",
            "placeholder": "​",
            "style": "IPY_MODEL_a688888087a74610a7536b791453ad74",
            "value": " 2/2 [00:00&lt;00:00, 50.18it/s]"
          }
        },
        "0dd6aecf182e435bb1085c45701c75f2": {
          "model_module": "@jupyter-widgets/base",
          "model_name": "LayoutModel",
          "model_module_version": "1.2.0",
          "state": {
            "_model_module": "@jupyter-widgets/base",
            "_model_module_version": "1.2.0",
            "_model_name": "LayoutModel",
            "_view_count": null,
            "_view_module": "@jupyter-widgets/base",
            "_view_module_version": "1.2.0",
            "_view_name": "LayoutView",
            "align_content": null,
            "align_items": null,
            "align_self": null,
            "border": null,
            "bottom": null,
            "display": null,
            "flex": null,
            "flex_flow": null,
            "grid_area": null,
            "grid_auto_columns": null,
            "grid_auto_flow": null,
            "grid_auto_rows": null,
            "grid_column": null,
            "grid_gap": null,
            "grid_row": null,
            "grid_template_areas": null,
            "grid_template_columns": null,
            "grid_template_rows": null,
            "height": null,
            "justify_content": null,
            "justify_items": null,
            "left": null,
            "margin": null,
            "max_height": null,
            "max_width": null,
            "min_height": null,
            "min_width": null,
            "object_fit": null,
            "object_position": null,
            "order": null,
            "overflow": null,
            "overflow_x": null,
            "overflow_y": null,
            "padding": null,
            "right": null,
            "top": null,
            "visibility": null,
            "width": null
          }
        },
        "47b6a5afdda94cf39786143df4acd016": {
          "model_module": "@jupyter-widgets/base",
          "model_name": "LayoutModel",
          "model_module_version": "1.2.0",
          "state": {
            "_model_module": "@jupyter-widgets/base",
            "_model_module_version": "1.2.0",
            "_model_name": "LayoutModel",
            "_view_count": null,
            "_view_module": "@jupyter-widgets/base",
            "_view_module_version": "1.2.0",
            "_view_name": "LayoutView",
            "align_content": null,
            "align_items": null,
            "align_self": null,
            "border": null,
            "bottom": null,
            "display": null,
            "flex": null,
            "flex_flow": null,
            "grid_area": null,
            "grid_auto_columns": null,
            "grid_auto_flow": null,
            "grid_auto_rows": null,
            "grid_column": null,
            "grid_gap": null,
            "grid_row": null,
            "grid_template_areas": null,
            "grid_template_columns": null,
            "grid_template_rows": null,
            "height": null,
            "justify_content": null,
            "justify_items": null,
            "left": null,
            "margin": null,
            "max_height": null,
            "max_width": null,
            "min_height": null,
            "min_width": null,
            "object_fit": null,
            "object_position": null,
            "order": null,
            "overflow": null,
            "overflow_x": null,
            "overflow_y": null,
            "padding": null,
            "right": null,
            "top": null,
            "visibility": null,
            "width": null
          }
        },
        "db1af292726e4352b1d395a0e1e448c5": {
          "model_module": "@jupyter-widgets/controls",
          "model_name": "DescriptionStyleModel",
          "model_module_version": "1.5.0",
          "state": {
            "_model_module": "@jupyter-widgets/controls",
            "_model_module_version": "1.5.0",
            "_model_name": "DescriptionStyleModel",
            "_view_count": null,
            "_view_module": "@jupyter-widgets/base",
            "_view_module_version": "1.2.0",
            "_view_name": "StyleView",
            "description_width": ""
          }
        },
        "792e006063bb4a2b8160a7ae49eadcab": {
          "model_module": "@jupyter-widgets/base",
          "model_name": "LayoutModel",
          "model_module_version": "1.2.0",
          "state": {
            "_model_module": "@jupyter-widgets/base",
            "_model_module_version": "1.2.0",
            "_model_name": "LayoutModel",
            "_view_count": null,
            "_view_module": "@jupyter-widgets/base",
            "_view_module_version": "1.2.0",
            "_view_name": "LayoutView",
            "align_content": null,
            "align_items": null,
            "align_self": null,
            "border": null,
            "bottom": null,
            "display": null,
            "flex": null,
            "flex_flow": null,
            "grid_area": null,
            "grid_auto_columns": null,
            "grid_auto_flow": null,
            "grid_auto_rows": null,
            "grid_column": null,
            "grid_gap": null,
            "grid_row": null,
            "grid_template_areas": null,
            "grid_template_columns": null,
            "grid_template_rows": null,
            "height": null,
            "justify_content": null,
            "justify_items": null,
            "left": null,
            "margin": null,
            "max_height": null,
            "max_width": null,
            "min_height": null,
            "min_width": null,
            "object_fit": null,
            "object_position": null,
            "order": null,
            "overflow": null,
            "overflow_x": null,
            "overflow_y": null,
            "padding": null,
            "right": null,
            "top": null,
            "visibility": null,
            "width": null
          }
        },
        "a910a369ec4149a8ad52ef3d9a1c296c": {
          "model_module": "@jupyter-widgets/controls",
          "model_name": "ProgressStyleModel",
          "model_module_version": "1.5.0",
          "state": {
            "_model_module": "@jupyter-widgets/controls",
            "_model_module_version": "1.5.0",
            "_model_name": "ProgressStyleModel",
            "_view_count": null,
            "_view_module": "@jupyter-widgets/base",
            "_view_module_version": "1.2.0",
            "_view_name": "StyleView",
            "bar_color": null,
            "description_width": ""
          }
        },
        "6eff16ab72db4443802fa5e8f2cb67a7": {
          "model_module": "@jupyter-widgets/base",
          "model_name": "LayoutModel",
          "model_module_version": "1.2.0",
          "state": {
            "_model_module": "@jupyter-widgets/base",
            "_model_module_version": "1.2.0",
            "_model_name": "LayoutModel",
            "_view_count": null,
            "_view_module": "@jupyter-widgets/base",
            "_view_module_version": "1.2.0",
            "_view_name": "LayoutView",
            "align_content": null,
            "align_items": null,
            "align_self": null,
            "border": null,
            "bottom": null,
            "display": null,
            "flex": null,
            "flex_flow": null,
            "grid_area": null,
            "grid_auto_columns": null,
            "grid_auto_flow": null,
            "grid_auto_rows": null,
            "grid_column": null,
            "grid_gap": null,
            "grid_row": null,
            "grid_template_areas": null,
            "grid_template_columns": null,
            "grid_template_rows": null,
            "height": null,
            "justify_content": null,
            "justify_items": null,
            "left": null,
            "margin": null,
            "max_height": null,
            "max_width": null,
            "min_height": null,
            "min_width": null,
            "object_fit": null,
            "object_position": null,
            "order": null,
            "overflow": null,
            "overflow_x": null,
            "overflow_y": null,
            "padding": null,
            "right": null,
            "top": null,
            "visibility": null,
            "width": null
          }
        },
        "a688888087a74610a7536b791453ad74": {
          "model_module": "@jupyter-widgets/controls",
          "model_name": "DescriptionStyleModel",
          "model_module_version": "1.5.0",
          "state": {
            "_model_module": "@jupyter-widgets/controls",
            "_model_module_version": "1.5.0",
            "_model_name": "DescriptionStyleModel",
            "_view_count": null,
            "_view_module": "@jupyter-widgets/base",
            "_view_module_version": "1.2.0",
            "_view_name": "StyleView",
            "description_width": ""
          }
        }
      }
    }
  },
  "nbformat": 4,
  "nbformat_minor": 0
}