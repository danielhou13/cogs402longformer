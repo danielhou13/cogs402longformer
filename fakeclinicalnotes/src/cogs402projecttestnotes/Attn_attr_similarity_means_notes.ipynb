{
  "cells": [
    {
      "cell_type": "markdown",
      "source": [
        "This notebook explores the relation between the model's attributions and attentions for a given example. Historically, we found that attentions are not a feasible method of explanation whereas attributions are, but attributions are also not part of a model's traditional outputs. Therefore it may be interesting to see if we can find anything with attentions by comparing them to a feasible and plausible method of explanation. We also apply masking to various scenarios to examine their effects on similarity. \n",
        "\n",
        "This notebook is very similar to this [notebook](https://colab.research.google.com/drive/1QHFPkvpt05VBBAac7CqZV3QpE9bU7QGe?usp=sharing) and serves to present a priminary findings of what examples are interesting by iterating through the entire dataset using much few steps when computing [Integrated Gradients](https://arxiv.org/abs/1703.01365). The output of this notebook is a .csv file containing the similarities of different attention layers."
      ],
      "metadata": {
        "id": "mlqrlFd9SzDV"
      }
    },
    {
      "cell_type": "code",
      "source": [
        "from google.colab import drive\n",
        "drive.mount('/content/drive')"
      ],
      "metadata": {
        "id": "4G07aiA37RC9",
        "colab": {
          "base_uri": "https://localhost:8080/"
        },
        "outputId": "a8e24440-795f-407b-c5e6-cba7bfd44970"
      },
      "execution_count": null,
      "outputs": [
        {
          "output_type": "stream",
          "name": "stdout",
          "text": [
            "Mounted at /content/drive\n"
          ]
        }
      ]
    },
    {
      "cell_type": "markdown",
      "source": [
        "## Import dependencies"
      ],
      "metadata": {
        "id": "HkZ5bD2_z-0C"
      }
    },
    {
      "cell_type": "code",
      "source": [
        "pip install transformers --quiet"
      ],
      "metadata": {
        "id": "zMjzQIFJ2P_T",
        "colab": {
          "base_uri": "https://localhost:8080/"
        },
        "outputId": "1a7295c5-c055-4fcc-9e3c-647a0d40cc35"
      },
      "execution_count": null,
      "outputs": [
        {
          "output_type": "stream",
          "name": "stdout",
          "text": [
            "\u001b[K     |████████████████████████████████| 4.7 MB 4.2 MB/s \n",
            "\u001b[K     |████████████████████████████████| 101 kB 11.9 MB/s \n",
            "\u001b[K     |████████████████████████████████| 6.6 MB 83.4 MB/s \n",
            "\u001b[K     |████████████████████████████████| 596 kB 44.1 MB/s \n",
            "\u001b[?25h"
          ]
        }
      ]
    },
    {
      "cell_type": "code",
      "source": [
        "pip install captum --quiet"
      ],
      "metadata": {
        "id": "Uno0qwr12UTd",
        "colab": {
          "base_uri": "https://localhost:8080/"
        },
        "outputId": "7d89daf1-28d0-4f59-823d-4e33241f46fa"
      },
      "execution_count": null,
      "outputs": [
        {
          "output_type": "stream",
          "name": "stdout",
          "text": [
            "\u001b[?25l\r\u001b[K     |▎                               | 10 kB 32.2 MB/s eta 0:00:01\r\u001b[K     |▌                               | 20 kB 5.3 MB/s eta 0:00:01\r\u001b[K     |▊                               | 30 kB 7.7 MB/s eta 0:00:01\r\u001b[K     |█                               | 40 kB 3.5 MB/s eta 0:00:01\r\u001b[K     |█▏                              | 51 kB 3.7 MB/s eta 0:00:01\r\u001b[K     |█▍                              | 61 kB 4.3 MB/s eta 0:00:01\r\u001b[K     |█▋                              | 71 kB 4.6 MB/s eta 0:00:01\r\u001b[K     |█▉                              | 81 kB 4.8 MB/s eta 0:00:01\r\u001b[K     |██                              | 92 kB 5.3 MB/s eta 0:00:01\r\u001b[K     |██▎                             | 102 kB 4.3 MB/s eta 0:00:01\r\u001b[K     |██▌                             | 112 kB 4.3 MB/s eta 0:00:01\r\u001b[K     |██▊                             | 122 kB 4.3 MB/s eta 0:00:01\r\u001b[K     |███                             | 133 kB 4.3 MB/s eta 0:00:01\r\u001b[K     |███▏                            | 143 kB 4.3 MB/s eta 0:00:01\r\u001b[K     |███▌                            | 153 kB 4.3 MB/s eta 0:00:01\r\u001b[K     |███▊                            | 163 kB 4.3 MB/s eta 0:00:01\r\u001b[K     |████                            | 174 kB 4.3 MB/s eta 0:00:01\r\u001b[K     |████▏                           | 184 kB 4.3 MB/s eta 0:00:01\r\u001b[K     |████▍                           | 194 kB 4.3 MB/s eta 0:00:01\r\u001b[K     |████▋                           | 204 kB 4.3 MB/s eta 0:00:01\r\u001b[K     |████▉                           | 215 kB 4.3 MB/s eta 0:00:01\r\u001b[K     |█████                           | 225 kB 4.3 MB/s eta 0:00:01\r\u001b[K     |█████▎                          | 235 kB 4.3 MB/s eta 0:00:01\r\u001b[K     |█████▌                          | 245 kB 4.3 MB/s eta 0:00:01\r\u001b[K     |█████▊                          | 256 kB 4.3 MB/s eta 0:00:01\r\u001b[K     |██████                          | 266 kB 4.3 MB/s eta 0:00:01\r\u001b[K     |██████▏                         | 276 kB 4.3 MB/s eta 0:00:01\r\u001b[K     |██████▍                         | 286 kB 4.3 MB/s eta 0:00:01\r\u001b[K     |██████▋                         | 296 kB 4.3 MB/s eta 0:00:01\r\u001b[K     |███████                         | 307 kB 4.3 MB/s eta 0:00:01\r\u001b[K     |███████▏                        | 317 kB 4.3 MB/s eta 0:00:01\r\u001b[K     |███████▍                        | 327 kB 4.3 MB/s eta 0:00:01\r\u001b[K     |███████▋                        | 337 kB 4.3 MB/s eta 0:00:01\r\u001b[K     |███████▉                        | 348 kB 4.3 MB/s eta 0:00:01\r\u001b[K     |████████                        | 358 kB 4.3 MB/s eta 0:00:01\r\u001b[K     |████████▎                       | 368 kB 4.3 MB/s eta 0:00:01\r\u001b[K     |████████▌                       | 378 kB 4.3 MB/s eta 0:00:01\r\u001b[K     |████████▊                       | 389 kB 4.3 MB/s eta 0:00:01\r\u001b[K     |█████████                       | 399 kB 4.3 MB/s eta 0:00:01\r\u001b[K     |█████████▏                      | 409 kB 4.3 MB/s eta 0:00:01\r\u001b[K     |█████████▍                      | 419 kB 4.3 MB/s eta 0:00:01\r\u001b[K     |█████████▋                      | 430 kB 4.3 MB/s eta 0:00:01\r\u001b[K     |█████████▉                      | 440 kB 4.3 MB/s eta 0:00:01\r\u001b[K     |██████████▏                     | 450 kB 4.3 MB/s eta 0:00:01\r\u001b[K     |██████████▍                     | 460 kB 4.3 MB/s eta 0:00:01\r\u001b[K     |██████████▋                     | 471 kB 4.3 MB/s eta 0:00:01\r\u001b[K     |██████████▉                     | 481 kB 4.3 MB/s eta 0:00:01\r\u001b[K     |███████████                     | 491 kB 4.3 MB/s eta 0:00:01\r\u001b[K     |███████████▎                    | 501 kB 4.3 MB/s eta 0:00:01\r\u001b[K     |███████████▌                    | 512 kB 4.3 MB/s eta 0:00:01\r\u001b[K     |███████████▊                    | 522 kB 4.3 MB/s eta 0:00:01\r\u001b[K     |████████████                    | 532 kB 4.3 MB/s eta 0:00:01\r\u001b[K     |████████████▏                   | 542 kB 4.3 MB/s eta 0:00:01\r\u001b[K     |████████████▍                   | 552 kB 4.3 MB/s eta 0:00:01\r\u001b[K     |████████████▋                   | 563 kB 4.3 MB/s eta 0:00:01\r\u001b[K     |████████████▉                   | 573 kB 4.3 MB/s eta 0:00:01\r\u001b[K     |█████████████                   | 583 kB 4.3 MB/s eta 0:00:01\r\u001b[K     |█████████████▎                  | 593 kB 4.3 MB/s eta 0:00:01\r\u001b[K     |█████████████▋                  | 604 kB 4.3 MB/s eta 0:00:01\r\u001b[K     |█████████████▉                  | 614 kB 4.3 MB/s eta 0:00:01\r\u001b[K     |██████████████                  | 624 kB 4.3 MB/s eta 0:00:01\r\u001b[K     |██████████████▎                 | 634 kB 4.3 MB/s eta 0:00:01\r\u001b[K     |██████████████▌                 | 645 kB 4.3 MB/s eta 0:00:01\r\u001b[K     |██████████████▊                 | 655 kB 4.3 MB/s eta 0:00:01\r\u001b[K     |███████████████                 | 665 kB 4.3 MB/s eta 0:00:01\r\u001b[K     |███████████████▏                | 675 kB 4.3 MB/s eta 0:00:01\r\u001b[K     |███████████████▍                | 686 kB 4.3 MB/s eta 0:00:01\r\u001b[K     |███████████████▋                | 696 kB 4.3 MB/s eta 0:00:01\r\u001b[K     |███████████████▉                | 706 kB 4.3 MB/s eta 0:00:01\r\u001b[K     |████████████████                | 716 kB 4.3 MB/s eta 0:00:01\r\u001b[K     |████████████████▎               | 727 kB 4.3 MB/s eta 0:00:01\r\u001b[K     |████████████████▌               | 737 kB 4.3 MB/s eta 0:00:01\r\u001b[K     |████████████████▊               | 747 kB 4.3 MB/s eta 0:00:01\r\u001b[K     |█████████████████               | 757 kB 4.3 MB/s eta 0:00:01\r\u001b[K     |█████████████████▎              | 768 kB 4.3 MB/s eta 0:00:01\r\u001b[K     |█████████████████▌              | 778 kB 4.3 MB/s eta 0:00:01\r\u001b[K     |█████████████████▊              | 788 kB 4.3 MB/s eta 0:00:01\r\u001b[K     |██████████████████              | 798 kB 4.3 MB/s eta 0:00:01\r\u001b[K     |██████████████████▏             | 808 kB 4.3 MB/s eta 0:00:01\r\u001b[K     |██████████████████▍             | 819 kB 4.3 MB/s eta 0:00:01\r\u001b[K     |██████████████████▋             | 829 kB 4.3 MB/s eta 0:00:01\r\u001b[K     |██████████████████▉             | 839 kB 4.3 MB/s eta 0:00:01\r\u001b[K     |███████████████████             | 849 kB 4.3 MB/s eta 0:00:01\r\u001b[K     |███████████████████▎            | 860 kB 4.3 MB/s eta 0:00:01\r\u001b[K     |███████████████████▌            | 870 kB 4.3 MB/s eta 0:00:01\r\u001b[K     |███████████████████▊            | 880 kB 4.3 MB/s eta 0:00:01\r\u001b[K     |████████████████████            | 890 kB 4.3 MB/s eta 0:00:01\r\u001b[K     |████████████████████▎           | 901 kB 4.3 MB/s eta 0:00:01\r\u001b[K     |████████████████████▌           | 911 kB 4.3 MB/s eta 0:00:01\r\u001b[K     |████████████████████▊           | 921 kB 4.3 MB/s eta 0:00:01\r\u001b[K     |█████████████████████           | 931 kB 4.3 MB/s eta 0:00:01\r\u001b[K     |█████████████████████▏          | 942 kB 4.3 MB/s eta 0:00:01\r\u001b[K     |█████████████████████▍          | 952 kB 4.3 MB/s eta 0:00:01\r\u001b[K     |█████████████████████▋          | 962 kB 4.3 MB/s eta 0:00:01\r\u001b[K     |█████████████████████▉          | 972 kB 4.3 MB/s eta 0:00:01\r\u001b[K     |██████████████████████          | 983 kB 4.3 MB/s eta 0:00:01\r\u001b[K     |██████████████████████▎         | 993 kB 4.3 MB/s eta 0:00:01\r\u001b[K     |██████████████████████▌         | 1.0 MB 4.3 MB/s eta 0:00:01\r\u001b[K     |██████████████████████▊         | 1.0 MB 4.3 MB/s eta 0:00:01\r\u001b[K     |███████████████████████         | 1.0 MB 4.3 MB/s eta 0:00:01\r\u001b[K     |███████████████████████▏        | 1.0 MB 4.3 MB/s eta 0:00:01\r\u001b[K     |███████████████████████▍        | 1.0 MB 4.3 MB/s eta 0:00:01\r\u001b[K     |███████████████████████▊        | 1.1 MB 4.3 MB/s eta 0:00:01\r\u001b[K     |████████████████████████        | 1.1 MB 4.3 MB/s eta 0:00:01\r\u001b[K     |████████████████████████▏       | 1.1 MB 4.3 MB/s eta 0:00:01\r\u001b[K     |████████████████████████▍       | 1.1 MB 4.3 MB/s eta 0:00:01\r\u001b[K     |████████████████████████▋       | 1.1 MB 4.3 MB/s eta 0:00:01\r\u001b[K     |████████████████████████▉       | 1.1 MB 4.3 MB/s eta 0:00:01\r\u001b[K     |█████████████████████████       | 1.1 MB 4.3 MB/s eta 0:00:01\r\u001b[K     |█████████████████████████▎      | 1.1 MB 4.3 MB/s eta 0:00:01\r\u001b[K     |█████████████████████████▌      | 1.1 MB 4.3 MB/s eta 0:00:01\r\u001b[K     |█████████████████████████▊      | 1.1 MB 4.3 MB/s eta 0:00:01\r\u001b[K     |██████████████████████████      | 1.2 MB 4.3 MB/s eta 0:00:01\r\u001b[K     |██████████████████████████▏     | 1.2 MB 4.3 MB/s eta 0:00:01\r\u001b[K     |██████████████████████████▍     | 1.2 MB 4.3 MB/s eta 0:00:01\r\u001b[K     |██████████████████████████▋     | 1.2 MB 4.3 MB/s eta 0:00:01\r\u001b[K     |███████████████████████████     | 1.2 MB 4.3 MB/s eta 0:00:01\r\u001b[K     |███████████████████████████▏    | 1.2 MB 4.3 MB/s eta 0:00:01\r\u001b[K     |███████████████████████████▍    | 1.2 MB 4.3 MB/s eta 0:00:01\r\u001b[K     |███████████████████████████▋    | 1.2 MB 4.3 MB/s eta 0:00:01\r\u001b[K     |███████████████████████████▉    | 1.2 MB 4.3 MB/s eta 0:00:01\r\u001b[K     |████████████████████████████    | 1.2 MB 4.3 MB/s eta 0:00:01\r\u001b[K     |████████████████████████████▎   | 1.3 MB 4.3 MB/s eta 0:00:01\r\u001b[K     |████████████████████████████▌   | 1.3 MB 4.3 MB/s eta 0:00:01\r\u001b[K     |████████████████████████████▊   | 1.3 MB 4.3 MB/s eta 0:00:01\r\u001b[K     |█████████████████████████████   | 1.3 MB 4.3 MB/s eta 0:00:01\r\u001b[K     |█████████████████████████████▏  | 1.3 MB 4.3 MB/s eta 0:00:01\r\u001b[K     |█████████████████████████████▍  | 1.3 MB 4.3 MB/s eta 0:00:01\r\u001b[K     |█████████████████████████████▋  | 1.3 MB 4.3 MB/s eta 0:00:01\r\u001b[K     |█████████████████████████████▉  | 1.3 MB 4.3 MB/s eta 0:00:01\r\u001b[K     |██████████████████████████████  | 1.3 MB 4.3 MB/s eta 0:00:01\r\u001b[K     |██████████████████████████████▍ | 1.4 MB 4.3 MB/s eta 0:00:01\r\u001b[K     |██████████████████████████████▋ | 1.4 MB 4.3 MB/s eta 0:00:01\r\u001b[K     |██████████████████████████████▉ | 1.4 MB 4.3 MB/s eta 0:00:01\r\u001b[K     |███████████████████████████████ | 1.4 MB 4.3 MB/s eta 0:00:01\r\u001b[K     |███████████████████████████████▎| 1.4 MB 4.3 MB/s eta 0:00:01\r\u001b[K     |███████████████████████████████▌| 1.4 MB 4.3 MB/s eta 0:00:01\r\u001b[K     |███████████████████████████████▊| 1.4 MB 4.3 MB/s eta 0:00:01\r\u001b[K     |████████████████████████████████| 1.4 MB 4.3 MB/s eta 0:00:01\r\u001b[K     |████████████████████████████████| 1.4 MB 4.3 MB/s \n",
            "\u001b[?25h"
          ]
        }
      ]
    },
    {
      "cell_type": "code",
      "source": [
        "pip install datasets --quiet"
      ],
      "metadata": {
        "id": "OaOSPMJE3ONc",
        "colab": {
          "base_uri": "https://localhost:8080/"
        },
        "outputId": "b59d6f8c-6a00-47c9-c887-72d1c7d24634"
      },
      "execution_count": null,
      "outputs": [
        {
          "output_type": "stream",
          "name": "stdout",
          "text": [
            "\u001b[K     |████████████████████████████████| 365 kB 4.0 MB/s \n",
            "\u001b[K     |████████████████████████████████| 212 kB 77.7 MB/s \n",
            "\u001b[K     |████████████████████████████████| 141 kB 78.0 MB/s \n",
            "\u001b[K     |████████████████████████████████| 115 kB 69.1 MB/s \n",
            "\u001b[K     |████████████████████████████████| 127 kB 79.8 MB/s \n",
            "\u001b[?25h"
          ]
        }
      ]
    },
    {
      "cell_type": "code",
      "source": [
        "pip install rbo"
      ],
      "metadata": {
        "colab": {
          "base_uri": "https://localhost:8080/"
        },
        "id": "yTTL5d_d9KDH",
        "outputId": "24fbcad0-78c8-4169-9383-3f22a6dd7082"
      },
      "execution_count": null,
      "outputs": [
        {
          "output_type": "stream",
          "name": "stdout",
          "text": [
            "Looking in indexes: https://pypi.org/simple, https://us-python.pkg.dev/colab-wheels/public/simple/\n",
            "Collecting rbo\n",
            "  Downloading rbo-0.1.2-py3-none-any.whl (7.5 kB)\n",
            "Requirement already satisfied: numpy<2.0,>=1.18 in /usr/local/lib/python3.7/dist-packages (from rbo) (1.21.6)\n",
            "Installing collected packages: rbo\n",
            "Successfully installed rbo-0.1.2\n"
          ]
        }
      ]
    },
    {
      "cell_type": "code",
      "source": [
        "import os\n",
        "os.environ['CUDA_LAUNCH_BLOCKING'] = \"1\""
      ],
      "metadata": {
        "id": "hRSNYTrRIPkr"
      },
      "execution_count": null,
      "outputs": []
    },
    {
      "cell_type": "code",
      "execution_count": null,
      "metadata": {
        "id": "wrRRZJ6-0_Il"
      },
      "outputs": [],
      "source": [
        "from captum.attr import visualization as viz\n",
        "from captum.attr import IntegratedGradients, LayerConductance, LayerIntegratedGradients\n",
        "from captum.attr import configure_interpretable_embedding_layer, remove_interpretable_embedding_layer\n",
        "\n",
        "import torch\n",
        "import pandas as pd"
      ]
    },
    {
      "cell_type": "code",
      "execution_count": null,
      "metadata": {
        "id": "b5V31lsc0_Il"
      },
      "outputs": [],
      "source": [
        "device = torch.device(\"cuda:0\" if torch.cuda.is_available() else \"cpu\")"
      ]
    },
    {
      "cell_type": "markdown",
      "source": [
        "## Import model"
      ],
      "metadata": {
        "id": "USHRv2j70Fb4"
      }
    },
    {
      "cell_type": "code",
      "execution_count": null,
      "metadata": {
        "id": "9nzBfB-v0_Im",
        "colab": {
          "base_uri": "https://localhost:8080/",
          "height": 252,
          "referenced_widgets": [
            "a4ca5acc9a504289a57d1801ab6ee6ab",
            "f9f690d41e1d4983b11428634068d944",
            "0ce12ba6279e49bc99b08f8652038878",
            "c1029b1c7cda4100a34e0c9a504c9f96",
            "2c96242098004947ae9b7d76dd0810ea",
            "1fbc9235e52c477d8f632ddd2a4d0c0e",
            "6174882bfbfb46c98a8b9b9341b9e156",
            "fe4fc29eb6ab4f699999013a6cecde95",
            "12cd22ab3fa645258df3cc994173bc7b",
            "0b87183e49c94ec0bdd352d1fca2b3a8",
            "a3e7b2f5873740078f15c107b0a7dce1",
            "a2bc434ab4f74eb284a00c6d5d824ac2",
            "00e8f026d05349eb97d4550a92d1dc21",
            "3b207420fa6b475f9e37510865fcd6f6",
            "9be801bf09664c198b6ceef025717d2b",
            "ec6c4bf50ebc4abda9bd62c720dafdd7",
            "3b9bfa55f8fe48c2b97f5b443a22fac1",
            "1098333214ce4244b4d5a8eaa426cfa3",
            "dd9b38904b4647faa760062ff21fcb88",
            "3abb769086cb4387ae79192f3d6a3c0c",
            "2dfb547faac841129de51d202da48a5a",
            "589cf4b586324e54a7590b7f530f1df5",
            "6b692e06eb9c4e5e903754f472df8a4b",
            "81f9f4f7f23347d2b2659126bf7749e2",
            "9fd3092433a7410a9745aa803472b766",
            "58a08ada5fb84607974fa3c7494de377",
            "0b9a262c885040d680ac3233b5963d9b",
            "965c56376d6a4f89aa7f766daed1ef20",
            "a240d3a6ae2942f6935677ebe8bee739",
            "7a03482eefcc42358a10fbad62382222",
            "3b41a6ee64bd4be3b4380953eb14d23a",
            "85f0d8bf654643ca811962ec1a90240c",
            "72ccfbb03cef4aa799fc01dc737da5cb",
            "3758bca7dd98425cb7639b229f646ef8",
            "8b45b2ec35f5445e8a18275b79a088ec",
            "4b2cb83ed9ff4d3e926363a212b992a4",
            "a6cb931064db4028bd4814cc124f1987",
            "3260dbdffa2948038e4a17aff2afc5e2",
            "04d4164640c4473abf4fa096a2315a7d",
            "e93b37e6e349432fa45185b7bd0f4b86",
            "e2fb496fe6f94899875bf555bb1c31ca",
            "376b696fab144de5b7dc73e3b5a2bdc7",
            "75a0e979c2324b0d994e04f76328cc7e",
            "20f3f1c1d921470d87a0333ac68efa57"
          ]
        },
        "outputId": "f7444a07-c0d8-4b14-8f25-88470c96b820"
      },
      "outputs": [
        {
          "output_type": "display_data",
          "data": {
            "text/plain": [
              "Downloading config.json:   0%|          | 0.00/694 [00:00<?, ?B/s]"
            ],
            "application/vnd.jupyter.widget-view+json": {
              "version_major": 2,
              "version_minor": 0,
              "model_id": "a4ca5acc9a504289a57d1801ab6ee6ab"
            }
          },
          "metadata": {}
        },
        {
          "output_type": "display_data",
          "data": {
            "text/plain": [
              "Downloading pytorch_model.bin:   0%|          | 0.00/570M [00:00<?, ?B/s]"
            ],
            "application/vnd.jupyter.widget-view+json": {
              "version_major": 2,
              "version_minor": 0,
              "model_id": "a2bc434ab4f74eb284a00c6d5d824ac2"
            }
          },
          "metadata": {}
        },
        {
          "output_type": "stream",
          "name": "stderr",
          "text": [
            "Some weights of the model checkpoint at allenai/longformer-base-4096 were not used when initializing LongformerForSequenceClassification: ['longformer_model.encoder.layer.1.intermediate.dense.weight', 'longformer_model.encoder.layer.10.attention.output.dense.weight', 'longformer_model.encoder.layer.6.attention.self.query_global.weight', 'longformer_model.encoder.layer.3.output.dense.weight', 'longformer_model.encoder.layer.1.intermediate.dense.bias', 'longformer_model.encoder.layer.5.output.LayerNorm.weight', 'longformer_model.encoder.layer.2.attention.output.LayerNorm.weight', 'longformer_model.encoder.layer.8.attention.output.dense.weight', 'longformer_model.encoder.layer.9.attention.self.query.weight', 'longformer_model.encoder.layer.0.attention.self.query.bias', 'longformer_model.encoder.layer.5.output.dense.bias', 'longformer_model.encoder.layer.6.attention.output.dense.weight', 'longformer_model.encoder.layer.3.attention.self.query.weight', 'longformer_model.encoder.layer.8.output.LayerNorm.weight', 'longformer_model.encoder.layer.3.attention.output.dense.weight', 'longformer_model.encoder.layer.4.output.dense.bias', 'longformer_model.encoder.layer.10.output.LayerNorm.bias', 'longformer_model.encoder.layer.5.attention.self.value.bias', 'longformer_model.encoder.layer.0.output.dense.bias', 'longformer_model.encoder.layer.2.attention.self.value_global.weight', 'longformer_model.encoder.layer.3.output.LayerNorm.weight', 'longformer_model.encoder.layer.4.attention.self.query.bias', 'longformer_model.encoder.layer.7.attention.self.value_global.bias', 'longformer_model.encoder.layer.5.attention.self.key.bias', 'longformer_model.encoder.layer.5.attention.output.LayerNorm.weight', 'longformer_model.encoder.layer.3.attention.output.LayerNorm.weight', 'longformer_model.encoder.layer.4.output.LayerNorm.bias', 'longformer_model.encoder.layer.3.output.dense.bias', 'longformer_model.encoder.layer.10.attention.self.query.bias', 'longformer_model.encoder.layer.1.attention.self.value_global.weight', 'longformer_model.encoder.layer.3.attention.self.query_global.bias', 'longformer_model.encoder.layer.4.attention.output.LayerNorm.bias', 'longformer_model.encoder.layer.8.attention.output.LayerNorm.bias', 'fc.weight', 'longformer_model.encoder.layer.3.attention.output.dense.bias', 'longformer_model.encoder.layer.9.output.dense.bias', 'longformer_model.encoder.layer.1.attention.output.dense.weight', 'longformer_model.encoder.layer.10.attention.output.LayerNorm.weight', 'longformer_model.encoder.layer.2.attention.self.query.bias', 'longformer_model.encoder.layer.9.attention.self.key_global.bias', 'longformer_model.encoder.layer.2.intermediate.dense.bias', 'longformer_model.encoder.layer.3.attention.self.key_global.weight', 'longformer_model.encoder.layer.8.output.dense.bias', 'longformer_model.encoder.layer.2.attention.self.query.weight', 'longformer_model.encoder.layer.0.attention.output.LayerNorm.bias', 'longformer_model.encoder.layer.4.attention.output.dense.weight', 'longformer_model.encoder.layer.0.attention.self.value_global.bias', 'longformer_model.encoder.layer.0.attention.self.query.weight', 'longformer_model.encoder.layer.1.attention.self.query_global.weight', 'longformer_model.encoder.layer.0.intermediate.dense.weight', 'longformer_model.encoder.layer.7.attention.self.key.bias', 'longformer_model.encoder.layer.11.attention.self.key_global.bias', 'longformer_model.encoder.layer.2.output.dense.weight', 'longformer_model.encoder.layer.6.attention.self.query_global.bias', 'longformer_model.encoder.layer.5.attention.output.LayerNorm.bias', 'longformer_model.encoder.layer.8.output.dense.weight', 'longformer_model.encoder.layer.1.attention.self.query.bias', 'longformer_model.encoder.layer.10.attention.self.value.weight', 'longformer_model.encoder.layer.4.attention.output.dense.bias', 'longformer_model.encoder.layer.10.attention.output.LayerNorm.bias', 'longformer_model.encoder.layer.4.attention.self.key_global.weight', 'longformer_model.encoder.layer.6.intermediate.dense.bias', 'longformer_model.encoder.layer.11.attention.self.value_global.weight', 'longformer_model.encoder.layer.4.attention.self.value_global.weight', 'longformer_model.encoder.layer.2.intermediate.dense.weight', 'longformer_model.encoder.layer.1.attention.output.dense.bias', 'longformer_model.encoder.layer.3.output.LayerNorm.bias', 'longformer_model.encoder.layer.8.attention.self.value_global.bias', 'longformer_model.encoder.layer.5.attention.self.value_global.weight', 'longformer_model.encoder.layer.11.attention.output.dense.bias', 'longformer_model.encoder.layer.6.attention.self.query.weight', 'longformer_model.encoder.layer.11.attention.self.query_global.bias', 'longformer_model.encoder.layer.9.attention.self.query.bias', 'longformer_model.encoder.layer.3.attention.self.value.weight', 'longformer_model.encoder.layer.5.attention.self.value.weight', 'longformer_model.encoder.layer.0.attention.self.key_global.weight', 'longformer_model.encoder.layer.11.output.LayerNorm.weight', 'dense.weight', 'longformer_model.encoder.layer.10.attention.self.value_global.weight', 'longformer_model.encoder.layer.9.output.dense.weight', 'longformer_model.encoder.layer.0.attention.self.key_global.bias', 'longformer_model.encoder.layer.1.attention.self.value.bias', 'longformer_model.encoder.layer.5.attention.output.dense.bias', 'longformer_model.encoder.layer.4.attention.self.value_global.bias', 'longformer_model.encoder.layer.7.intermediate.dense.weight', 'longformer_model.encoder.layer.1.attention.self.key.bias', 'longformer_model.encoder.layer.6.attention.self.key_global.bias', 'longformer_model.encoder.layer.10.attention.self.key.bias', 'longformer_model.encoder.layer.9.attention.self.value.weight', 'longformer_model.encoder.layer.8.attention.self.query_global.weight', 'longformer_model.encoder.layer.0.attention.output.LayerNorm.weight', 'longformer_model.encoder.layer.10.attention.output.dense.bias', 'longformer_model.encoder.layer.1.output.dense.bias', 'longformer_model.encoder.layer.5.output.dense.weight', 'longformer_model.encoder.layer.10.output.dense.bias', 'longformer_model.encoder.layer.10.attention.self.query_global.bias', 'longformer_model.encoder.layer.11.attention.self.key.bias', 'longformer_model.encoder.layer.11.attention.output.LayerNorm.weight', 'longformer_model.encoder.layer.4.attention.self.value.bias', 'longformer_model.encoder.layer.7.attention.self.key.weight', 'longformer_model.encoder.layer.6.attention.output.dense.bias', 'longformer_model.encoder.layer.2.attention.self.key_global.weight', 'longformer_model.encoder.layer.6.attention.self.key_global.weight', 'longformer_model.encoder.layer.2.attention.self.query_global.bias', 'longformer_model.encoder.layer.4.attention.self.key.weight', 'longformer_model.encoder.layer.7.output.LayerNorm.bias', 'longformer_model.encoder.layer.11.attention.self.key_global.weight', 'longformer_model.encoder.layer.1.output.LayerNorm.weight', 'longformer_model.encoder.layer.3.intermediate.dense.weight', 'longformer_model.encoder.layer.11.intermediate.dense.bias', 'longformer_model.encoder.layer.3.attention.self.query_global.weight', 'longformer_model.encoder.layer.7.attention.output.dense.bias', 'longformer_model.encoder.layer.8.attention.self.key_global.bias', 'longformer_model.encoder.layer.6.output.LayerNorm.weight', 'dense.bias', 'longformer_model.encoder.layer.0.attention.self.value_global.weight', 'longformer_model.encoder.layer.7.attention.output.LayerNorm.bias', 'longformer_model.encoder.layer.6.attention.output.LayerNorm.weight', 'longformer_model.encoder.layer.9.attention.self.value_global.bias', 'longformer_model.encoder.layer.7.output.LayerNorm.weight', 'longformer_model.encoder.layer.9.attention.output.dense.weight', 'longformer_model.encoder.layer.3.attention.self.value_global.weight', 'longformer_model.encoder.layer.4.intermediate.dense.bias', 'longformer_model.encoder.layer.7.attention.self.query_global.weight', 'longformer_model.encoder.layer.0.attention.self.key.weight', 'longformer_model.encoder.layer.10.attention.self.value_global.bias', 'longformer_model.encoder.layer.0.attention.self.value.bias', 'longformer_model.encoder.layer.6.attention.self.query.bias', 'longformer_model.encoder.layer.5.attention.self.query_global.weight', 'longformer_model.encoder.layer.4.output.LayerNorm.weight', 'longformer_model.encoder.layer.3.attention.self.query.bias', 'longformer_model.encoder.layer.8.attention.self.value.bias', 'longformer_model.encoder.layer.6.attention.self.key.weight', 'longformer_model.encoder.layer.9.attention.output.dense.bias', 'longformer_model.encoder.layer.10.intermediate.dense.weight', 'longformer_model.encoder.layer.9.intermediate.dense.weight', 'longformer_model.encoder.layer.5.attention.self.value_global.bias', 'longformer_model.encoder.layer.8.output.LayerNorm.bias', 'longformer_model.encoder.layer.2.output.LayerNorm.weight', 'longformer_model.encoder.layer.5.attention.output.dense.weight', 'longformer_model.encoder.layer.11.attention.self.value_global.bias', 'longformer_model.encoder.layer.10.output.LayerNorm.weight', 'longformer_model.embeddings.position_ids', 'longformer_model.encoder.layer.9.intermediate.dense.bias', 'longformer_model.encoder.layer.1.output.LayerNorm.bias', 'longformer_model.encoder.layer.1.attention.self.value.weight', 'longformer_model.encoder.layer.1.attention.self.key_global.weight', 'longformer_model.encoder.layer.10.attention.self.query.weight', 'longformer_model.encoder.layer.3.attention.self.key.bias', 'longformer_model.encoder.layer.9.attention.self.value_global.weight', 'longformer_model.encoder.layer.8.attention.output.LayerNorm.weight', 'longformer_model.encoder.layer.4.attention.self.query.weight', 'longformer_model.encoder.layer.4.attention.self.query_global.weight', 'longformer_model.encoder.layer.10.attention.self.key_global.weight', 'longformer_model.embeddings.word_embeddings.weight', 'longformer_model.encoder.layer.3.attention.self.key.weight', 'longformer_model.encoder.layer.6.output.LayerNorm.bias', 'longformer_model.encoder.layer.10.output.dense.weight', 'longformer_model.encoder.layer.2.attention.output.dense.bias', 'longformer_model.encoder.layer.9.attention.self.key.bias', 'longformer_model.encoder.layer.2.attention.self.key.bias', 'longformer_model.encoder.layer.9.attention.self.key_global.weight', 'longformer_model.encoder.layer.4.attention.self.key_global.bias', 'longformer_model.encoder.layer.1.attention.self.key.weight', 'longformer_model.encoder.layer.6.attention.output.LayerNorm.bias', 'longformer_model.encoder.layer.7.attention.self.value_global.weight', 'longformer_model.encoder.layer.11.attention.self.key.weight', 'longformer_model.encoder.layer.1.attention.self.query.weight', 'longformer_model.encoder.layer.5.intermediate.dense.weight', 'longformer_model.encoder.layer.11.attention.output.LayerNorm.bias', 'longformer_model.encoder.layer.11.output.dense.bias', 'longformer_model.encoder.layer.8.attention.self.query.bias', 'longformer_model.encoder.layer.1.attention.output.LayerNorm.bias', 'longformer_model.encoder.layer.6.attention.self.key.bias', 'longformer_model.encoder.layer.7.attention.self.query_global.bias', 'longformer_model.encoder.layer.5.output.LayerNorm.bias', 'longformer_model.encoder.layer.1.attention.self.key_global.bias', 'longformer_model.encoder.layer.6.intermediate.dense.weight', 'longformer_model.encoder.layer.7.attention.self.key_global.weight', 'longformer_model.encoder.layer.4.attention.self.value.weight', 'longformer_model.encoder.layer.11.attention.self.query_global.weight', 'longformer_model.encoder.layer.1.output.dense.weight', 'longformer_model.encoder.layer.0.attention.output.dense.weight', 'longformer_model.encoder.layer.8.intermediate.dense.weight', 'longformer_model.encoder.layer.8.attention.self.key_global.weight', 'longformer_model.encoder.layer.9.output.LayerNorm.weight', 'longformer_model.encoder.layer.2.attention.self.value.bias', 'longformer_model.encoder.layer.8.attention.self.query_global.bias', 'longformer_model.encoder.layer.7.intermediate.dense.bias', 'longformer_model.encoder.layer.6.attention.self.value_global.weight', 'longformer_model.encoder.layer.7.output.dense.weight', 'longformer_model.encoder.layer.11.attention.self.query.bias', 'longformer_model.encoder.layer.3.attention.output.LayerNorm.bias', 'longformer_model.encoder.layer.9.attention.output.LayerNorm.weight', 'longformer_model.encoder.layer.7.attention.self.value.bias', 'longformer_model.encoder.layer.0.attention.self.value.weight', 'longformer_model.encoder.layer.8.attention.self.key.bias', 'longformer_model.encoder.layer.2.attention.output.dense.weight', 'longformer_model.encoder.layer.10.attention.self.value.bias', 'longformer_model.encoder.layer.2.attention.self.query_global.weight', 'longformer_model.encoder.layer.2.attention.output.LayerNorm.bias', 'longformer_model.encoder.layer.8.attention.output.dense.bias', 'longformer_model.encoder.layer.7.attention.self.query.weight', 'longformer_model.encoder.layer.11.attention.self.value.weight', 'longformer_model.encoder.layer.4.attention.self.key.bias', 'longformer_model.encoder.layer.5.attention.self.key.weight', 'longformer_model.encoder.layer.7.attention.self.key_global.bias', 'longformer_model.encoder.layer.8.attention.self.key.weight', 'longformer_model.encoder.layer.3.attention.self.value.bias', 'longformer_model.encoder.layer.5.intermediate.dense.bias', 'longformer_model.encoder.layer.6.attention.self.value.bias', 'longformer_model.encoder.layer.2.output.dense.bias', 'longformer_model.encoder.layer.2.attention.self.key.weight', 'longformer_model.encoder.layer.10.attention.self.key.weight', 'longformer_model.encoder.layer.3.intermediate.dense.bias', 'longformer_model.encoder.layer.8.attention.self.value_global.weight', 'longformer_model.encoder.layer.5.attention.self.query.bias', 'longformer_model.encoder.layer.1.attention.output.LayerNorm.weight', 'longformer_model.encoder.layer.7.attention.self.value.weight', 'longformer_model.encoder.layer.10.intermediate.dense.bias', 'longformer_model.encoder.layer.4.output.dense.weight', 'longformer_model.encoder.layer.2.attention.self.value_global.bias', 'longformer_model.encoder.layer.10.attention.self.key_global.bias', 'fc.bias', 'longformer_model.encoder.layer.2.output.LayerNorm.bias', 'longformer_model.encoder.layer.7.attention.self.query.bias', 'longformer_model.encoder.layer.4.attention.output.LayerNorm.weight', 'longformer_model.encoder.layer.9.attention.self.query_global.weight', 'longformer_model.encoder.layer.0.output.LayerNorm.bias', 'longformer_model.encoder.layer.9.attention.output.LayerNorm.bias', 'longformer_model.encoder.layer.0.attention.self.query_global.weight', 'longformer_model.encoder.layer.4.intermediate.dense.weight', 'longformer_model.encoder.layer.8.intermediate.dense.bias', 'longformer_model.encoder.layer.2.attention.self.value.weight', 'longformer_model.embeddings.position_embeddings.weight', 'longformer_model.encoder.layer.0.output.dense.weight', 'longformer_model.encoder.layer.3.attention.self.key_global.bias', 'longformer_model.encoder.layer.3.attention.self.value_global.bias', 'longformer_model.encoder.layer.9.output.LayerNorm.bias', 'longformer_model.embeddings.token_type_embeddings.weight', 'longformer_model.encoder.layer.11.attention.self.query.weight', 'longformer_model.encoder.layer.11.attention.output.dense.weight', 'longformer_model.encoder.layer.11.intermediate.dense.weight', 'longformer_model.encoder.layer.1.attention.self.query_global.bias', 'longformer_model.encoder.layer.6.output.dense.weight', 'longformer_model.encoder.layer.10.attention.self.query_global.weight', 'longformer_model.embeddings.LayerNorm.bias', 'longformer_model.encoder.layer.0.attention.self.query_global.bias', 'longformer_model.encoder.layer.0.intermediate.dense.bias', 'longformer_model.encoder.layer.7.output.dense.bias', 'longformer_model.encoder.layer.8.attention.self.value.weight', 'longformer_model.encoder.layer.9.attention.self.query_global.bias', 'longformer_model.encoder.layer.6.attention.self.value.weight', 'longformer_model.encoder.layer.5.attention.self.query_global.bias', 'longformer_model.encoder.layer.7.attention.output.LayerNorm.weight', 'longformer_model.encoder.layer.5.attention.self.key_global.bias', 'longformer_model.encoder.layer.11.output.LayerNorm.bias', 'longformer_model.encoder.layer.5.attention.self.key_global.weight', 'longformer_model.embeddings.LayerNorm.weight', 'longformer_model.encoder.layer.6.attention.self.value_global.bias', 'longformer_model.encoder.layer.0.attention.output.dense.bias', 'longformer_model.encoder.layer.7.attention.output.dense.weight', 'longformer_model.encoder.layer.8.attention.self.query.weight', 'longformer_model.encoder.layer.11.output.dense.weight', 'longformer_model.encoder.layer.1.attention.self.value_global.bias', 'longformer_model.encoder.layer.2.attention.self.key_global.bias', 'longformer_model.encoder.layer.4.attention.self.query_global.bias', 'longformer_model.encoder.layer.5.attention.self.query.weight', 'longformer_model.encoder.layer.0.attention.self.key.bias', 'longformer_model.encoder.layer.9.attention.self.key.weight', 'longformer_model.encoder.layer.9.attention.self.value.bias', 'longformer_model.encoder.layer.0.output.LayerNorm.weight', 'longformer_model.encoder.layer.11.attention.self.value.bias', 'longformer_model.encoder.layer.6.output.dense.bias']\n",
            "- This IS expected if you are initializing LongformerForSequenceClassification from the checkpoint of a model trained on another task or with another architecture (e.g. initializing a BertForSequenceClassification model from a BertForPreTraining model).\n",
            "- This IS NOT expected if you are initializing LongformerForSequenceClassification from the checkpoint of a model that you expect to be exactly identical (initializing a BertForSequenceClassification model from a BertForSequenceClassification model).\n",
            "Some weights of LongformerForSequenceClassification were not initialized from the model checkpoint at allenai/longformer-base-4096 and are newly initialized: ['longformer.encoder.layer.1.attention.self.value.weight', 'longformer.encoder.layer.4.attention.output.LayerNorm.weight', 'longformer.encoder.layer.4.attention.self.query.bias', 'longformer.encoder.layer.11.intermediate.dense.weight', 'longformer.encoder.layer.4.output.LayerNorm.bias', 'longformer.encoder.layer.5.output.dense.weight', 'longformer.encoder.layer.7.attention.self.value.weight', 'longformer.encoder.layer.8.attention.output.LayerNorm.bias', 'longformer.encoder.layer.7.attention.self.key_global.weight', 'longformer.encoder.layer.5.output.LayerNorm.bias', 'longformer.encoder.layer.4.attention.self.value_global.weight', 'longformer.encoder.layer.9.attention.self.value.bias', 'longformer.encoder.layer.1.attention.output.dense.weight', 'longformer.encoder.layer.9.attention.output.LayerNorm.bias', 'longformer.encoder.layer.11.output.dense.bias', 'longformer.encoder.layer.1.output.LayerNorm.bias', 'longformer.encoder.layer.6.attention.self.value_global.bias', 'longformer.encoder.layer.8.attention.self.query.weight', 'longformer.encoder.layer.0.output.LayerNorm.bias', 'longformer.encoder.layer.3.attention.self.key.weight', 'longformer.encoder.layer.5.attention.output.dense.bias', 'longformer.encoder.layer.8.attention.self.key_global.bias', 'longformer.encoder.layer.0.intermediate.dense.bias', 'longformer.encoder.layer.0.output.dense.bias', 'longformer.encoder.layer.4.intermediate.dense.weight', 'longformer.encoder.layer.9.intermediate.dense.bias', 'longformer.encoder.layer.1.output.LayerNorm.weight', 'longformer.encoder.layer.10.intermediate.dense.weight', 'longformer.encoder.layer.11.attention.self.query_global.bias', 'longformer.encoder.layer.2.attention.self.value.bias', 'longformer.encoder.layer.4.output.LayerNorm.weight', 'longformer.encoder.layer.6.attention.self.value.weight', 'longformer.encoder.layer.5.intermediate.dense.weight', 'longformer.encoder.layer.11.attention.self.query.weight', 'longformer.encoder.layer.11.attention.self.value_global.weight', 'longformer.encoder.layer.11.output.dense.weight', 'longformer.encoder.layer.3.attention.self.query_global.bias', 'longformer.encoder.layer.1.attention.self.key.bias', 'longformer.encoder.layer.1.attention.self.value_global.bias', 'longformer.encoder.layer.7.attention.self.query.weight', 'longformer.encoder.layer.8.attention.self.key.weight', 'longformer.encoder.layer.0.attention.self.query_global.weight', 'longformer.encoder.layer.1.attention.output.dense.bias', 'longformer.encoder.layer.8.attention.output.dense.bias', 'longformer.encoder.layer.9.attention.self.query_global.bias', 'longformer.encoder.layer.11.attention.self.key_global.weight', 'longformer.encoder.layer.3.output.dense.bias', 'longformer.encoder.layer.11.attention.output.dense.weight', 'longformer.encoder.layer.7.intermediate.dense.weight', 'longformer.embeddings.LayerNorm.weight', 'longformer.encoder.layer.10.output.dense.weight', 'longformer.encoder.layer.0.attention.self.value_global.weight', 'longformer.encoder.layer.0.attention.self.value.bias', 'longformer.encoder.layer.8.attention.self.query.bias', 'longformer.encoder.layer.8.attention.self.value_global.weight', 'longformer.encoder.layer.3.attention.self.value.bias', 'longformer.encoder.layer.3.attention.self.key.bias', 'longformer.encoder.layer.6.attention.self.query.weight', 'longformer.encoder.layer.9.attention.self.key_global.bias', 'longformer.encoder.layer.1.attention.output.LayerNorm.weight', 'longformer.encoder.layer.5.attention.self.query.bias', 'longformer.encoder.layer.6.attention.output.LayerNorm.weight', 'longformer.encoder.layer.8.output.LayerNorm.weight', 'longformer.encoder.layer.6.attention.output.LayerNorm.bias', 'longformer.encoder.layer.6.attention.self.key.bias', 'longformer.encoder.layer.4.attention.self.query_global.weight', 'longformer.encoder.layer.5.attention.self.query_global.weight', 'longformer.encoder.layer.11.attention.self.value.weight', 'longformer.encoder.layer.9.attention.self.key_global.weight', 'longformer.encoder.layer.3.attention.self.query.bias', 'longformer.encoder.layer.9.attention.self.value_global.bias', 'longformer.encoder.layer.4.attention.self.query_global.bias', 'longformer.encoder.layer.11.intermediate.dense.bias', 'longformer.encoder.layer.2.attention.self.query_global.bias', 'longformer.encoder.layer.5.output.dense.bias', 'longformer.encoder.layer.8.intermediate.dense.bias', 'longformer.encoder.layer.0.attention.output.dense.weight', 'longformer.encoder.layer.1.output.dense.bias', 'longformer.encoder.layer.11.attention.self.key_global.bias', 'longformer.encoder.layer.5.intermediate.dense.bias', 'longformer.encoder.layer.2.output.dense.bias', 'longformer.encoder.layer.5.attention.self.key.bias', 'longformer.encoder.layer.0.intermediate.dense.weight', 'longformer.encoder.layer.2.output.dense.weight', 'longformer.encoder.layer.7.attention.self.value.bias', 'longformer.encoder.layer.5.attention.output.LayerNorm.weight', 'longformer.encoder.layer.7.attention.output.LayerNorm.bias', 'longformer.encoder.layer.1.attention.self.query_global.bias', 'longformer.encoder.layer.3.output.LayerNorm.weight', 'longformer.encoder.layer.8.attention.self.value_global.bias', 'longformer.encoder.layer.0.attention.self.value.weight', 'longformer.encoder.layer.8.output.dense.bias', 'longformer.encoder.layer.9.attention.output.LayerNorm.weight', 'longformer.encoder.layer.3.attention.self.key_global.weight', 'longformer.encoder.layer.11.attention.output.LayerNorm.weight', 'longformer.encoder.layer.9.attention.output.dense.bias', 'longformer.encoder.layer.9.attention.self.query_global.weight', 'longformer.encoder.layer.7.attention.output.LayerNorm.weight', 'longformer.encoder.layer.7.attention.self.value_global.weight', 'longformer.encoder.layer.7.attention.output.dense.bias', 'longformer.encoder.layer.11.output.LayerNorm.bias', 'longformer.encoder.layer.3.output.dense.weight', 'longformer.encoder.layer.8.attention.self.query_global.weight', 'longformer.encoder.layer.6.output.LayerNorm.bias', 'longformer.encoder.layer.8.attention.output.LayerNorm.weight', 'longformer.encoder.layer.5.attention.self.value.bias', 'longformer.encoder.layer.11.attention.self.value.bias', 'longformer.encoder.layer.2.attention.output.dense.weight', 'longformer.encoder.layer.5.attention.self.query.weight', 'longformer.encoder.layer.6.attention.self.value.bias', 'longformer.encoder.layer.0.attention.self.key_global.bias', 'longformer.encoder.layer.6.attention.self.query_global.bias', 'longformer.encoder.layer.7.output.dense.bias', 'longformer.encoder.layer.4.attention.self.key_global.weight', 'longformer.encoder.layer.5.attention.output.LayerNorm.bias', 'longformer.encoder.layer.6.output.dense.weight', 'longformer.encoder.layer.2.attention.self.value.weight', 'longformer.encoder.layer.2.attention.self.query_global.weight', 'longformer.encoder.layer.6.output.LayerNorm.weight', 'longformer.encoder.layer.10.attention.output.LayerNorm.bias', 'longformer.encoder.layer.9.attention.self.key.weight', 'longformer.encoder.layer.2.attention.self.key_global.weight', 'longformer.encoder.layer.6.intermediate.dense.bias', 'longformer.encoder.layer.10.output.LayerNorm.bias', 'longformer.encoder.layer.3.attention.self.value.weight', 'longformer.encoder.layer.8.attention.output.dense.weight', 'longformer.encoder.layer.10.attention.output.dense.bias', 'longformer.encoder.layer.9.attention.self.key.bias', 'longformer.encoder.layer.8.attention.self.key_global.weight', 'longformer.encoder.layer.2.attention.self.key.bias', 'longformer.encoder.layer.5.attention.output.dense.weight', 'classifier.dense.weight', 'longformer.encoder.layer.2.intermediate.dense.bias', 'longformer.encoder.layer.4.attention.self.query.weight', 'longformer.encoder.layer.1.output.dense.weight', 'longformer.encoder.layer.6.attention.self.query_global.weight', 'longformer.encoder.layer.2.attention.output.LayerNorm.weight', 'longformer.encoder.layer.6.attention.self.value_global.weight', 'longformer.encoder.layer.0.attention.output.LayerNorm.weight', 'longformer.encoder.layer.2.attention.self.key.weight', 'longformer.encoder.layer.7.attention.self.value_global.bias', 'longformer.encoder.layer.1.attention.self.value.bias', 'longformer.encoder.layer.1.attention.self.key_global.bias', 'longformer.encoder.layer.7.attention.self.key.bias', 'longformer.encoder.layer.0.attention.self.key.weight', 'longformer.encoder.layer.1.attention.self.query.bias', 'longformer.encoder.layer.5.attention.self.key_global.bias', 'longformer.encoder.layer.8.attention.self.value.weight', 'longformer.encoder.layer.9.output.dense.bias', 'longformer.encoder.layer.10.attention.self.query_global.weight', 'longformer.encoder.layer.10.output.dense.bias', 'longformer.encoder.layer.2.attention.output.LayerNorm.bias', 'longformer.encoder.layer.3.attention.self.value_global.weight', 'longformer.encoder.layer.5.attention.self.key.weight', 'longformer.encoder.layer.5.attention.self.query_global.bias', 'longformer.encoder.layer.8.intermediate.dense.weight', 'longformer.encoder.layer.0.output.LayerNorm.weight', 'longformer.encoder.layer.7.attention.self.key_global.bias', 'longformer.encoder.layer.4.attention.output.LayerNorm.bias', 'longformer.encoder.layer.6.output.dense.bias', 'longformer.encoder.layer.8.output.dense.weight', 'longformer.encoder.layer.4.attention.self.value_global.bias', 'longformer.encoder.layer.10.attention.self.value.bias', 'longformer.encoder.layer.11.output.LayerNorm.weight', 'longformer.encoder.layer.11.attention.self.query_global.weight', 'longformer.encoder.layer.6.attention.output.dense.weight', 'longformer.encoder.layer.1.attention.output.LayerNorm.bias', 'longformer.encoder.layer.5.attention.self.value_global.weight', 'longformer.encoder.layer.7.attention.self.query.bias', 'longformer.encoder.layer.10.attention.self.query.bias', 'longformer.encoder.layer.3.attention.self.query_global.weight', 'longformer.encoder.layer.5.attention.self.value.weight', 'longformer.encoder.layer.9.attention.self.value_global.weight', 'longformer.encoder.layer.10.attention.self.key.weight', 'longformer.encoder.layer.7.attention.self.query_global.bias', 'longformer.encoder.layer.4.attention.self.value.bias', 'longformer.encoder.layer.10.attention.self.value.weight', 'longformer.encoder.layer.10.attention.output.dense.weight', 'longformer.encoder.layer.0.attention.self.query.weight', 'longformer.encoder.layer.0.output.dense.weight', 'longformer.encoder.layer.2.output.LayerNorm.bias', 'longformer.encoder.layer.7.output.dense.weight', 'longformer.encoder.layer.4.attention.self.key.bias', 'longformer.encoder.layer.10.attention.self.value_global.weight', 'longformer.encoder.layer.0.attention.self.query.bias', 'longformer.encoder.layer.11.attention.self.key.weight', 'longformer.encoder.layer.5.attention.self.key_global.weight', 'longformer.encoder.layer.0.attention.self.value_global.bias', 'longformer.encoder.layer.6.attention.self.query.bias', 'longformer.encoder.layer.4.intermediate.dense.bias', 'longformer.encoder.layer.6.intermediate.dense.weight', 'longformer.encoder.layer.5.attention.self.value_global.bias', 'longformer.encoder.layer.4.output.dense.bias', 'longformer.encoder.layer.9.output.LayerNorm.bias', 'longformer.encoder.layer.10.attention.self.query.weight', 'longformer.encoder.layer.7.attention.self.query_global.weight', 'longformer.encoder.layer.10.attention.output.LayerNorm.weight', 'longformer.encoder.layer.2.attention.self.query.weight', 'longformer.encoder.layer.7.output.LayerNorm.weight', 'longformer.encoder.layer.10.attention.self.query_global.bias', 'longformer.encoder.layer.4.attention.self.value.weight', 'classifier.out_proj.weight', 'longformer.encoder.layer.3.intermediate.dense.bias', 'longformer.encoder.layer.2.attention.self.query.bias', 'longformer.encoder.layer.9.output.dense.weight', 'longformer.encoder.layer.0.attention.self.query_global.bias', 'longformer.encoder.layer.0.attention.output.LayerNorm.bias', 'longformer.encoder.layer.8.attention.self.query_global.bias', 'longformer.encoder.layer.3.attention.self.query.weight', 'longformer.encoder.layer.9.attention.self.value.weight', 'longformer.encoder.layer.6.attention.self.key_global.bias', 'longformer.encoder.layer.11.attention.output.LayerNorm.bias', 'longformer.encoder.layer.3.output.LayerNorm.bias', 'longformer.encoder.layer.2.attention.self.value_global.bias', 'longformer.encoder.layer.6.attention.self.key.weight', 'longformer.encoder.layer.9.attention.self.query.bias', 'longformer.encoder.layer.9.intermediate.dense.weight', 'longformer.encoder.layer.1.attention.self.key_global.weight', 'longformer.encoder.layer.0.attention.output.dense.bias', 'longformer.encoder.layer.10.attention.self.key.bias', 'longformer.encoder.layer.2.attention.output.dense.bias', 'longformer.encoder.layer.11.attention.self.key.bias', 'classifier.out_proj.bias', 'longformer.encoder.layer.2.intermediate.dense.weight', 'longformer.encoder.layer.11.attention.self.query.bias', 'longformer.encoder.layer.8.attention.self.key.bias', 'longformer.encoder.layer.1.attention.self.query_global.weight', 'longformer.encoder.layer.4.attention.self.key_global.bias', 'longformer.encoder.layer.0.attention.self.key_global.weight', 'longformer.encoder.layer.10.attention.self.key_global.weight', 'longformer.encoder.layer.1.intermediate.dense.bias', 'longformer.encoder.layer.6.attention.self.key_global.weight', 'longformer.encoder.layer.7.intermediate.dense.bias', 'longformer.encoder.layer.8.attention.self.value.bias', 'longformer.encoder.layer.7.attention.self.key.weight', 'longformer.encoder.layer.9.attention.self.query.weight', 'longformer.encoder.layer.2.attention.self.key_global.bias', 'longformer.encoder.layer.3.attention.output.dense.weight', 'longformer.encoder.layer.3.attention.output.LayerNorm.bias', 'longformer.encoder.layer.1.attention.self.key.weight', 'longformer.encoder.layer.7.attention.output.dense.weight', 'longformer.encoder.layer.1.intermediate.dense.weight', 'longformer.encoder.layer.4.output.dense.weight', 'longformer.encoder.layer.9.output.LayerNorm.weight', 'longformer.encoder.layer.3.attention.output.dense.bias', 'longformer.encoder.layer.2.output.LayerNorm.weight', 'longformer.encoder.layer.11.attention.self.value_global.bias', 'longformer.embeddings.LayerNorm.bias', 'longformer.encoder.layer.0.attention.self.key.bias', 'longformer.encoder.layer.10.intermediate.dense.bias', 'longformer.encoder.layer.10.output.LayerNorm.weight', 'longformer.encoder.layer.10.attention.self.key_global.bias', 'longformer.encoder.layer.4.attention.self.key.weight', 'longformer.encoder.layer.3.attention.self.key_global.bias', 'longformer.embeddings.token_type_embeddings.weight', 'longformer.encoder.layer.2.attention.self.value_global.weight', 'longformer.encoder.layer.3.attention.output.LayerNorm.weight', 'longformer.embeddings.word_embeddings.weight', 'longformer.embeddings.position_embeddings.weight', 'longformer.encoder.layer.3.intermediate.dense.weight', 'longformer.encoder.layer.1.attention.self.query.weight', 'longformer.encoder.layer.4.attention.output.dense.bias', 'longformer.encoder.layer.5.output.LayerNorm.weight', 'longformer.encoder.layer.1.attention.self.value_global.weight', 'longformer.encoder.layer.9.attention.output.dense.weight', 'longformer.encoder.layer.6.attention.output.dense.bias', 'longformer.encoder.layer.7.output.LayerNorm.bias', 'longformer.encoder.layer.8.output.LayerNorm.bias', 'longformer.encoder.layer.3.attention.self.value_global.bias', 'longformer.encoder.layer.4.attention.output.dense.weight', 'classifier.dense.bias', 'longformer.encoder.layer.11.attention.output.dense.bias', 'longformer.encoder.layer.10.attention.self.value_global.bias']\n",
            "You should probably TRAIN this model on a down-stream task to be able to use it for predictions and inference.\n"
          ]
        },
        {
          "output_type": "display_data",
          "data": {
            "text/plain": [
              "Downloading vocab.json:   0%|          | 0.00/878k [00:00<?, ?B/s]"
            ],
            "application/vnd.jupyter.widget-view+json": {
              "version_major": 2,
              "version_minor": 0,
              "model_id": "6b692e06eb9c4e5e903754f472df8a4b"
            }
          },
          "metadata": {}
        },
        {
          "output_type": "display_data",
          "data": {
            "text/plain": [
              "Downloading merges.txt:   0%|          | 0.00/446k [00:00<?, ?B/s]"
            ],
            "application/vnd.jupyter.widget-view+json": {
              "version_major": 2,
              "version_minor": 0,
              "model_id": "3758bca7dd98425cb7639b229f646ef8"
            }
          },
          "metadata": {}
        }
      ],
      "source": [
        "from transformers import LongformerForSequenceClassification, LongformerTokenizer, LongformerConfig\n",
        "# replace <PATH-TO-SAVED-MODEL> with the real path of the saved model\n",
        "model_path = 'danielhou13/longformer-finetuned_papers_v2'\n",
        "#model_path = 'danielhou13/longformer-finetuned-news-cogs402'\n",
        "\n",
        "# load model\n",
        "test = torch.load(\"/content/drive/MyDrive/cogs402longformer/fakeclinicalnotes/models/full_augmented_lr2e-5_dropout3_10_trained_threshold.pt\")\n",
        "model = LongformerForSequenceClassification.from_pretrained('allenai/longformer-base-4096', state_dict=test['state_dict'], num_labels = 2)\n",
        "model.to(device)\n",
        "model.eval()\n",
        "model.zero_grad()\n",
        "\n",
        "# load tokenizer\n",
        "tokenizer = LongformerTokenizer.from_pretrained(\"allenai/longformer-base-4096\")"
      ]
    },
    {
      "cell_type": "code",
      "execution_count": null,
      "metadata": {
        "id": "vAAjmDRl0_In"
      },
      "outputs": [],
      "source": [
        "ref_token_id = tokenizer.pad_token_id # A token used for generating token reference\n",
        "sep_token_id = tokenizer.sep_token_id # A token used as a separator between question and text and it is also added to the end of the text.\n",
        "cls_token_id = tokenizer.cls_token_id # A token used for prepending to the concatenated question-text word sequence"
      ]
    },
    {
      "cell_type": "markdown",
      "source": [
        "## Import dataset"
      ],
      "metadata": {
        "id": "BdY6GsO00RG_"
      }
    },
    {
      "cell_type": "markdown",
      "source": [
        "Here we import the papers dataset"
      ],
      "metadata": {
        "id": "e_gGIPpwkmbH"
      }
    },
    {
      "cell_type": "code",
      "execution_count": null,
      "metadata": {
        "id": "w6aQM9nM0_Ip",
        "colab": {
          "base_uri": "https://localhost:8080/",
          "height": 249,
          "referenced_widgets": [
            "e6d2b08c5eba410ebf9430c5a156a9a2",
            "8aca98be02ac47c2b8f37ca21a92a360",
            "f60383b5487242e3ac5758cc2120f292",
            "2830c88f760043348ff9ca445a80061c",
            "d591a03bce024c45ad88d0f6076eb79c",
            "84730e611dca432bb39062f804c6ee5a",
            "d8034a763d15476289dc0a22941b589f",
            "c2b2baa760d44b0e9cacbbcbb57ff4bb",
            "ab6e87bbeb384e0f883b0b223071bc0a",
            "dc84fc4cd89a45cc9507ef3c88ee55d5",
            "560f79fbaa8e49eba8b8ea98da180e0b",
            "06a256623d0448bda38d88bb3c6a6f04",
            "e2c69f95a1304764b7995294d204d1b1",
            "9e358bf4843e44ea86f80ecc68842f78",
            "e3ea75f1b6e5478b8d31096a3868388f",
            "faf664cc0105483996975038a00b2d61",
            "0a2c4a25fd444c189fa59f8046b4c22b",
            "5f004a7fc5464ad09485817e415e52f5",
            "46d4c5b17c954a1782ad43a68589af4b",
            "a22cfe07fd4e4b27866f3ec13b225877",
            "281fc7f660bb4c64a815859a5504b6fc",
            "8c2ed40a2f434c9fb2c51e8cf441f64a",
            "4804029069a44bc7b06bec232d995007",
            "6448bdaff6b04767a33c9f5615af2404",
            "084323fb94354dea8eced2e65fb34b24",
            "cbbddc7a142146408f0572f10e9ed861",
            "0728273b48044c0baa526ecac0737a5b",
            "df89d4f60ecc46aa9d593e5eca15d7f4",
            "0f1a52811fbb4cb4a484b7a8c92ca59d",
            "2e45fa21a94b4f6e8e44cb7409b1d8a6",
            "27223a27c61f499b957076b91819ea8e",
            "e0d821db87ff4bfdbf8bb8989f668c8f",
            "bce63f35d98f4ac2afc40e1f1dc5ef8a",
            "e9dc177dfd9740159665872b9cc5a9d2",
            "86a2d18c2dcc45f19a520f3457d3d6b9",
            "9a32d511abe3469f9df996527cc338f2",
            "59311e2339624a9b9c1353d4bd4d18ae",
            "d2808ab55c114e69a4872ab5839fb1fe",
            "0d562e8140d343b785b4c9f2b963b2b7",
            "03ae693948ee41d2865ba0a63caabfbc",
            "642c11662e2e40188011a915a7ac6743",
            "0706dc5c0f424c9aacb113b76bdc7e17",
            "eed947140fef451cb6f13a0ab2e20da0",
            "6ced79984e694874b0708edaa66647ba",
            "7fd4956dabe5421c82d1c8c459b09386",
            "6f5fe2e217f04ac08f56ff5dd69538f6",
            "26442d5d60f8481b9a883303f0ed4f68",
            "18dee55fa6de43b09e65559fb3c1cffd",
            "936d218b106e4c94b28ef2f7db2cac6a",
            "79e2e6e745a54af8b8b89493de36fa19",
            "6b02b2d76b794cce901d75429a942c6e",
            "2feaf995a4c4416780aadb3ec9adbef0",
            "c82449db4d834e568bde17fcbc24df11",
            "0de4d5a5a3144c94a99f4cd8c66d617b",
            "f90c5e9bfce141fc8f951b2da91239f7",
            "544e4b26ab7144c7bcf173dd693cb98c",
            "5c0aa34c08694a3d844f07a68dd04e0d",
            "5cd77272a70943ea8f74fc75ec6149ee",
            "edc7336d2e2749998f898c6a0bd85612",
            "fbf7092112d341fcbd910980d3f05728",
            "c1cd5f6c1ac848f9b61a0222d4116776",
            "8941af5fab4c45fbb1f8f532b12e7408",
            "beeacd66fcb64cbf85a2ec9e63db9d65",
            "ebe07e6545fb4f6d8abd2b5ea49d7283",
            "cf6f4b51a00449b1824f26ca8748697e",
            "74cada954ad844cfa0bdbcd5e40c2d6c"
          ]
        },
        "outputId": "034be595-ee43-4371-9ccb-bd351c88a543"
      },
      "outputs": [
        {
          "output_type": "display_data",
          "data": {
            "text/plain": [
              "Downloading:   0%|          | 0.00/613 [00:00<?, ?B/s]"
            ],
            "application/vnd.jupyter.widget-view+json": {
              "version_major": 2,
              "version_minor": 0,
              "model_id": "e6d2b08c5eba410ebf9430c5a156a9a2"
            }
          },
          "metadata": {}
        },
        {
          "output_type": "stream",
          "name": "stderr",
          "text": [
            "WARNING:datasets.builder:Using custom data configuration danielhou13--cogs402datafake-c20c2db2d92a66bc\n"
          ]
        },
        {
          "output_type": "stream",
          "name": "stdout",
          "text": [
            "Downloading and preparing dataset None/None (download: 59.71 KiB, generated: 113.90 KiB, post-processed: Unknown size, total: 173.61 KiB) to /root/.cache/huggingface/datasets/danielhou13___parquet/danielhou13--cogs402datafake-c20c2db2d92a66bc/0.0.0/2a3b91fbd88a2c90d1dbbb32b460cf621d31bd5b05b934492fdef7d8d6f236ec...\n"
          ]
        },
        {
          "output_type": "display_data",
          "data": {
            "text/plain": [
              "Downloading data files:   0%|          | 0/1 [00:00<?, ?it/s]"
            ],
            "application/vnd.jupyter.widget-view+json": {
              "version_major": 2,
              "version_minor": 0,
              "model_id": "06a256623d0448bda38d88bb3c6a6f04"
            }
          },
          "metadata": {}
        },
        {
          "output_type": "display_data",
          "data": {
            "text/plain": [
              "Downloading data:   0%|          | 0.00/61.1k [00:00<?, ?B/s]"
            ],
            "application/vnd.jupyter.widget-view+json": {
              "version_major": 2,
              "version_minor": 0,
              "model_id": "4804029069a44bc7b06bec232d995007"
            }
          },
          "metadata": {}
        },
        {
          "output_type": "display_data",
          "data": {
            "text/plain": [
              "Extracting data files:   0%|          | 0/1 [00:00<?, ?it/s]"
            ],
            "application/vnd.jupyter.widget-view+json": {
              "version_major": 2,
              "version_minor": 0,
              "model_id": "e9dc177dfd9740159665872b9cc5a9d2"
            }
          },
          "metadata": {}
        },
        {
          "output_type": "display_data",
          "data": {
            "text/plain": [
              "0 tables [00:00, ? tables/s]"
            ],
            "application/vnd.jupyter.widget-view+json": {
              "version_major": 2,
              "version_minor": 0,
              "model_id": "7fd4956dabe5421c82d1c8c459b09386"
            }
          },
          "metadata": {}
        },
        {
          "output_type": "stream",
          "name": "stdout",
          "text": [
            "Dataset parquet downloaded and prepared to /root/.cache/huggingface/datasets/danielhou13___parquet/danielhou13--cogs402datafake-c20c2db2d92a66bc/0.0.0/2a3b91fbd88a2c90d1dbbb32b460cf621d31bd5b05b934492fdef7d8d6f236ec. Subsequent calls will reuse this data.\n"
          ]
        },
        {
          "output_type": "display_data",
          "data": {
            "text/plain": [
              "  0%|          | 0/1 [00:00<?, ?it/s]"
            ],
            "application/vnd.jupyter.widget-view+json": {
              "version_major": 2,
              "version_minor": 0,
              "model_id": "544e4b26ab7144c7bcf173dd693cb98c"
            }
          },
          "metadata": {}
        }
      ],
      "source": [
        "from datasets import load_dataset\n",
        "import numpy as np\n",
        "# cogs402_ds = load_dataset(\"danielhou13/cogs402datafake\")[\"train\"]\n",
        "\n",
        "ds = pd.read_csv(\"/content/drive/MyDrive/cogs402longformer/fakeclinicalnotes/data/fake_notes.csv\")\n",
        "dataset = datasets.Dataset.from_pandas(ds)\n",
        "cogs402_ds = dataset"
      ]
    },
    {
      "cell_type": "markdown",
      "source": [
        "Here we import the news dataset"
      ],
      "metadata": {
        "id": "bHUUw096r-EL"
      }
    },
    {
      "cell_type": "code",
      "source": [
        "# cogs402_ds2 = load_dataset('hyperpartisan_news_detection', 'bypublisher')['validation']\n",
        "# val_size = 5000\n",
        "# val_indices = np.random.randint(0, len(cogs402_ds2), val_size)\n",
        "# val_ds = cogs402_ds2.select(val_indices)\n",
        "# labels2 = map(int, val_ds['hyperpartisan'])\n",
        "# labels2 = list(labels2)\n",
        "# val_ds = val_ds.add_column(\"labels\", labels2)"
      ],
      "metadata": {
        "id": "58zzpZYRWRDj"
      },
      "execution_count": null,
      "outputs": []
    },
    {
      "cell_type": "markdown",
      "source": [
        "## Get Attributions"
      ],
      "metadata": {
        "id": "sqGG8ke1Zd1N"
      }
    },
    {
      "cell_type": "markdown",
      "source": [
        "We need to create a custom forward function for use in our [Integrated Gradients](https://arxiv.org/abs/1703.01365) functions. Specifially the output we want from the forward pass of the model is the softmaxed logits, which indicate the probabilities of predicting each class for the given example."
      ],
      "metadata": {
        "id": "1QIudhnqA7pQ"
      }
    },
    {
      "cell_type": "code",
      "execution_count": null,
      "metadata": {
        "id": "y5-heo2y0_Im"
      },
      "outputs": [],
      "source": [
        "def predict(inputs, position_ids=None, attention_mask=None):\n",
        "    output = model(inputs,\n",
        "                   position_ids=position_ids,\n",
        "                   attention_mask=attention_mask)\n",
        "    return output.logits"
      ]
    },
    {
      "cell_type": "code",
      "execution_count": null,
      "metadata": {
        "id": "axwpHq-y0_Io"
      },
      "outputs": [],
      "source": [
        "#set 1 if we are dealing with a positive class, and 0 if dealing with negative class\n",
        "def custom_forward(inputs, position_ids=None, attention_mask=None):\n",
        "    preds = predict(inputs,\n",
        "                   position_ids=position_ids,\n",
        "                   attention_mask=attention_mask\n",
        "                   )\n",
        "    return torch.softmax(preds, dim = 1)"
      ]
    },
    {
      "cell_type": "markdown",
      "source": [
        "To get the attributions, we perform Integrated Gradients using the model's embeddings and pass in our custom forward function."
      ],
      "metadata": {
        "id": "bQaYaSDf0buh"
      }
    },
    {
      "cell_type": "code",
      "execution_count": null,
      "metadata": {
        "id": "4uDuDrip0_Ip"
      },
      "outputs": [],
      "source": [
        "lig = LayerIntegratedGradients(custom_forward, model.longformer.embeddings)"
      ]
    },
    {
      "cell_type": "markdown",
      "source": [
        "Create functions that give us the input ids and the position ids for the text we want to examine. Furthermore, it also returns the baselines we want for integrated gradients. In this case, every token in our baseline, is a padding token."
      ],
      "metadata": {
        "id": "bqbvfvXv0VTp"
      }
    },
    {
      "cell_type": "code",
      "execution_count": null,
      "metadata": {
        "id": "UgBSBpz-0_In"
      },
      "outputs": [],
      "source": [
        "max_length = 2046\n",
        "def construct_input_ref_pair(text, ref_token_id, sep_token_id, cls_token_id):\n",
        "    text = text.lower()\n",
        "    text_ids = tokenizer.encode(text, truncation = True, add_special_tokens=False, max_length = max_length)\n",
        "    # construct input token ids\n",
        "    input_ids = [cls_token_id] + text_ids + [sep_token_id]\n",
        "    # construct reference token ids \n",
        "    ref_input_ids = [cls_token_id] + [ref_token_id] * len(text_ids) + [sep_token_id]\n",
        "\n",
        "    return torch.tensor([input_ids], device=device), torch.tensor([ref_input_ids], device=device), len(text_ids)\n",
        "\n",
        "def construct_input_ref_pos_id_pair(input_ids):\n",
        "    seq_length = input_ids.size(1)\n",
        "\n",
        "    #taken from the longformer implementation\n",
        "    mask = input_ids.ne(ref_token_id).int()\n",
        "    incremental_indices = torch.cumsum(mask, dim=1).type_as(mask) * mask\n",
        "    position_ids = incremental_indices.long().squeeze() + ref_token_id\n",
        "\n",
        "    # we could potentially also use random permutation with `torch.randperm(seq_length, device=device)`\n",
        "    ref_position_ids = torch.zeros(seq_length, dtype=torch.long, device=device)\n",
        "\n",
        "    position_ids = position_ids.unsqueeze(0).expand_as(input_ids)\n",
        "    ref_position_ids = ref_position_ids.unsqueeze(0).expand_as(input_ids)\n",
        "    return position_ids, ref_position_ids\n",
        "    \n",
        "def construct_attention_mask(input_ids):\n",
        "    return torch.ones_like(input_ids)"
      ]
    },
    {
      "cell_type": "markdown",
      "source": [
        "The attributions returned has very high dimensionality and we just want a single number for every token in our example, so we sum over the last dimension and squeeze the result to get an array of shape (seq_len). You may notice that we are not normalizing the attributions here. It's okay because we will normalize it later."
      ],
      "metadata": {
        "id": "PRXe-mIcBGFo"
      }
    },
    {
      "cell_type": "code",
      "execution_count": null,
      "metadata": {
        "id": "lIeE9P7b0_Ir"
      },
      "outputs": [],
      "source": [
        "def summarize_attributions(attributions):\n",
        "    attributions = attributions.sum(dim=-1).squeeze(0)\n",
        "    return attributions"
      ]
    },
    {
      "cell_type": "markdown",
      "source": [
        "For use in later functions, we want to store the attributions we find in a dictionary where the key is the example number."
      ],
      "metadata": {
        "id": "8-wA6Nd4BIeb"
      }
    },
    {
      "cell_type": "code",
      "source": [
        "all_attributions = {}"
      ],
      "metadata": {
        "id": "wf1SNgF73l1K"
      },
      "execution_count": null,
      "outputs": []
    },
    {
      "cell_type": "markdown",
      "source": [
        "On the other hand, if you have a dictionary of attributions already saved, you can import it as follows. Replace the path with a path to your own dictionary."
      ],
      "metadata": {
        "id": "aall1F3lCpaf"
      }
    },
    {
      "cell_type": "code",
      "source": [
        "# all_attributions = torch.load('/content/drive/MyDrive/cogs402longformer/results/papers/papers_attributions/example_attrib_dict_all.pt')"
      ],
      "metadata": {
        "id": "g4nc7qSvUedJ"
      },
      "execution_count": null,
      "outputs": []
    },
    {
      "cell_type": "markdown",
      "source": [
        "In this block of code, we iterate over the entire dataset, obtain the input_ids, position_ids, attention_mask and the baseline for integrated gradients, perform integrated gradients, and store the result in the dictionary. If you have already loaded your attributions, you can skip this step. Increase the number of steps if you desire, but it may take a very long time to run. At the end of an iteration, we also save the dictionary.\n",
        "\n",
        "Note: the attributions will be with respect to the positive class, meaning positive attributions have more influence in the model predicting positive and negative attributions will be more influential in predicting negative."
      ],
      "metadata": {
        "id": "Ap4wQhI7CqJ2"
      }
    },
    {
      "cell_type": "code",
      "source": [
        "from tqdm import tqdm\n",
        "\n",
        "for i in tqdm(range(len(cogs402_ds))):\n",
        "  if str(i) not in all_attributions:\n",
        "    #get input ids, position ids and attention mask for integrated gradients\n",
        "    text = cogs402_ds['text'][i]\n",
        "    label = cogs402_ds['labels'][i]\n",
        "\n",
        "    input_ids, ref_input_ids, sep_id = construct_input_ref_pair(text, ref_token_id, sep_token_id, cls_token_id)\n",
        "    position_ids, ref_position_ids = construct_input_ref_pos_id_pair(input_ids)\n",
        "    attention_mask = construct_attention_mask(input_ids)\n",
        "\n",
        "    attributions = lig.attribute(inputs=input_ids,\n",
        "                                      baselines=ref_input_ids,\n",
        "                                      additional_forward_args=(position_ids, attention_mask),\n",
        "                                      target=1,\n",
        "                                      n_steps=50,\n",
        "                                      internal_batch_size = 2)\n",
        "\n",
        "    attributions_sum = summarize_attributions(attributions)\n",
        "\n",
        "    all_attributions[str(i)] = attributions_sum.detach().cpu().numpy()\n",
        "\n",
        "    # torch.save(all_attributions, '/content/drive/MyDrive/cogs402longformer/results/papers/papers_attributions/example_attrib_dict_all.pt')"
      ],
      "metadata": {
        "id": "ItEOhzhNTdxF",
        "colab": {
          "base_uri": "https://localhost:8080/"
        },
        "outputId": "36766157-edc7-4862-bc57-920a9be34d34"
      },
      "execution_count": null,
      "outputs": [
        {
          "output_type": "stream",
          "name": "stderr",
          "text": [
            "100%|██████████| 12/12 [08:39<00:00, 43.29s/it]\n"
          ]
        }
      ]
    },
    {
      "cell_type": "markdown",
      "source": [
        "## Get Attentions"
      ],
      "metadata": {
        "id": "fxugVBIAZksG"
      }
    },
    {
      "cell_type": "markdown",
      "source": [
        "We then get the attentions and global attentions so we can compare with the attributions."
      ],
      "metadata": {
        "id": "BGDWlUa3GvNS"
      }
    },
    {
      "cell_type": "markdown",
      "source": [
        "A unique property of the longformer model is that the matrix output for the attention is not a seq_len x seq_len output. Each token can only attend to the preceeding w/2 tokens and the succeeding w/2 tokens, dictated by whatever you choose the model's attention window w to be. Another name for this is called the sliding window attention. Therefore, we need to convert sliding attention matrix to correct seq_len x seq_len matrix to remain consistent with other types of Transformer Neural Networks.\n",
        "\n",
        "To do so, we run the following 3 functions. Our attentions will change from a output attention tensor of shape (layer, head, seq_len, x + attention_window + 1) and a global attention tensor of shape (layer, head, seq_len, x) to a single tensor of shape (layer, batch, head, seq_len, seq_len). More information about the functions can be found [here](https://colab.research.google.com/drive/1Kxx26NtIlUzioRCHpsR8IbSz_DpRFxEZ#scrollTo=t_XCoyTsQKAU)."
      ],
      "metadata": {
        "id": "dISC7-FaG2Lh"
      }
    },
    {
      "cell_type": "code",
      "source": [
        "def create_head_matrix(output_attentions, global_attentions):\n",
        "    new_attention_matrix = torch.zeros((output_attentions.shape[0], \n",
        "                                      output_attentions.shape[0]))\n",
        "    for i in range(output_attentions.shape[0]):\n",
        "        test_non_zeroes = torch.nonzero(output_attentions[i]).squeeze()\n",
        "        test2 = output_attentions[i][test_non_zeroes[1:]]\n",
        "        new_attention_matrix_indices = test_non_zeroes[1:]-257 + i\n",
        "        new_attention_matrix[i][new_attention_matrix_indices] = test2\n",
        "        new_attention_matrix[i][0] = output_attentions[i][0]\n",
        "        new_attention_matrix[0] = global_attentions.squeeze()[:output_attentions.shape[0]]\n",
        "    return new_attention_matrix\n",
        "\n",
        "\n",
        "def attentions_all_heads(output_attentions, global_attentions):\n",
        "    new_matrix = []\n",
        "    for i in range(output_attentions.shape[0]):\n",
        "        matrix = create_head_matrix(output_attentions[i], global_attentions[i])\n",
        "        new_matrix.append(matrix)\n",
        "    return torch.stack(new_matrix)\n",
        "\n",
        "def all_layers(output_attentions, global_attentions):\n",
        "    new_matrix = []\n",
        "    for i in range(output_attentions.shape[0]):\n",
        "        matrix = attentions_all_heads(output_attentions[i], global_attentions[i])\n",
        "        new_matrix.append(matrix)\n",
        "    return torch.stack(new_matrix)"
      ],
      "metadata": {
        "id": "AFyZpNST1JRr"
      },
      "execution_count": null,
      "outputs": []
    },
    {
      "cell_type": "markdown",
      "source": [
        "Some heads may be more important than others so we scale each attention matrix by their respective head and layer. The notebook used to get head importance is [here](https://colab.research.google.com/drive/1sIEvUvCofF0puv0mRZUio3JEF0y1Ce3g?usp=sharing). However, its possible that you might not want to scale the attentions, in which case you can ignore this section."
      ],
      "metadata": {
        "id": "WJynBkquG9cv"
      }
    },
    {
      "cell_type": "code",
      "source": [
        "def scale_by_importance(attention_matrix, head_importance):\n",
        "  new_matrix = np.zeros_like(attention_matrix)\n",
        "  for i in range(attention_matrix.shape[0]):\n",
        "    head_importance_layer = head_importance[i]\n",
        "    new_matrix[i] = attention_matrix[i] * np.expand_dims(head_importance_layer, axis=(1))\n",
        "  return new_matrix"
      ],
      "metadata": {
        "id": "nDuqZlIZ1NSr"
      },
      "execution_count": null,
      "outputs": []
    },
    {
      "cell_type": "code",
      "source": [
        "head_importance = torch.load(\"/content/drive/MyDrive/cogs402longformer/fakeclinicalnotes/t3-visapplication/notes/head_importance.pt\")"
      ],
      "metadata": {
        "id": "Bt_2TsKb1ML5"
      },
      "execution_count": null,
      "outputs": []
    },
    {
      "cell_type": "markdown",
      "source": [
        "The following block of code creates a new dictionary of attention matrices. Each key corresponds to their respective example in the dataset (range 0 - dataset length) and stores a layer x head x seq_len matrix of attentions for each key"
      ],
      "metadata": {
        "id": "fCZJ4gIKO8ys"
      }
    },
    {
      "cell_type": "code",
      "source": [
        "all_attentions = {}"
      ],
      "metadata": {
        "id": "F8QC9aqjtiZ6"
      },
      "execution_count": null,
      "outputs": []
    },
    {
      "cell_type": "markdown",
      "source": [
        "On the other hand, if you have a dictionary of attentions already saved, you can import it as follows. Replace the path with a path to your own dictionary."
      ],
      "metadata": {
        "id": "m-20QqqlPNs2"
      }
    },
    {
      "cell_type": "code",
      "source": [
        "# all_attentions = torch.load('/content/drive/MyDrive/cogs402longformer/results/papers/full_attention_matrices/papers_atten_summed_dict.pt')"
      ],
      "metadata": {
        "id": "JeKFfGfueDPZ"
      },
      "execution_count": null,
      "outputs": []
    },
    {
      "cell_type": "markdown",
      "source": [
        "In this block of code, we iterate over the entire dataset, obtain the input_ids, position_ids, attention_mask, pass the inputs into the model, obtain the output, convert the attention matrix and store the result in the dictionary. If you have already loaded your attentions, you can skip this step. Increase the number of steps if you desire, but it may take a very long time to run. At the end of every 10 iterations, we also save the dictionary. We do every 10 as saving dictionaries of attentions takes a bit of time."
      ],
      "metadata": {
        "id": "F4_6027PElWG"
      }
    },
    {
      "cell_type": "code",
      "source": [
        "from tqdm import tqdm\n",
        "\n",
        "for i in tqdm(range(len(cogs402_ds))):\n",
        "  if str(i) not in all_attentions:\n",
        "    #get input ids, position ids and attention mask for integrated gradients\n",
        "    text = cogs402_ds['text'][i]\n",
        "    label = cogs402_ds['labels'][i]\n",
        "\n",
        "    input_ids, ref_input_ids, sep_id = construct_input_ref_pair(text, ref_token_id, sep_token_id, cls_token_id)\n",
        "    position_ids, ref_position_ids = construct_input_ref_pos_id_pair(input_ids)\n",
        "    attention_mask = construct_attention_mask(input_ids)\n",
        "\n",
        "    output = model(input_ids.cuda(), attention_mask=attention_mask.cuda(), labels=torch.tensor(label).cuda(), output_attentions = True)\n",
        "\n",
        "    batch_attn = output[-2]\n",
        "\n",
        "    # We are working with one item at a time, so we squeeze the tensor to remove the batch axis in both tensors\n",
        "    # shape: (layer, head, seq_len, x+attention_window+1)\n",
        "    output_attentions = torch.stack(batch_attn).cpu().squeeze()\n",
        "    global_attention = output[-1]\n",
        "\n",
        "    # shape: (layer, head, seq_len, x)\n",
        "    output_global_attentions = torch.stack(global_attention).cpu().squeeze()\n",
        "\n",
        "    converted_mat = all_layers(output_attentions, output_global_attentions).detach().cpu().numpy()\n",
        "    \n",
        "    attention_matrix_summed = converted_mat.sum(axis=2)\n",
        "    all_attentions[str(i)] = attention_matrix_summed\n",
        "\n",
        "#     if i%10 == 9:\n",
        "#       torch.save(all_attentions, '/content/drive/MyDrive/cogs402longformer/results/papers/full_attention_matrices/papers_atten_summed_dict.pt')"
      ],
      "metadata": {
        "id": "mx69KUz20KmC",
        "colab": {
          "base_uri": "https://localhost:8080/"
        },
        "outputId": "7b9f73d8-ba8e-491c-de77-28cd1baf878d"
      },
      "execution_count": null,
      "outputs": [
        {
          "output_type": "stream",
          "name": "stderr",
          "text": [
            "100%|██████████| 12/12 [05:17<00:00, 26.46s/it]\n"
          ]
        }
      ]
    },
    {
      "cell_type": "markdown",
      "source": [
        "### Scaling the Attention"
      ],
      "metadata": {
        "id": "7PEQxg77LLvw"
      }
    },
    {
      "cell_type": "markdown",
      "source": [
        "We will then scale the summed attention by head importance. If you do not wish to scale the attentions, there is a section later in the notebook that does not perform scaling. However, we will do so here."
      ],
      "metadata": {
        "id": "UZAi6NYZK-n0"
      }
    },
    {
      "cell_type": "markdown",
      "source": [
        "The following are two dictionaries of attention weights for each token (how much each token is attended to), weighted by head importance, for layer 12 and over all layers. The number of keys in the dictionary is 1070 (number of items in the validation set) and each key contains an array of shape (seq_len)."
      ],
      "metadata": {
        "id": "DyGjnOpaM8dZ"
      }
    },
    {
      "cell_type": "code",
      "source": [
        "# all_attentions_final = torch.load('/content/drive/MyDrive/cogs402longformer/results/papers/full_attention_matrices/example_atten_dict_12.pt')\n",
        "# all_attentions_all = torch.load('/content/drive/MyDrive/cogs402longformer/results/papers/full_attention_matrices/example_atten_dict_all.pt')"
      ],
      "metadata": {
        "id": "eJuGcLQpS-Ky"
      },
      "execution_count": null,
      "outputs": []
    },
    {
      "cell_type": "markdown",
      "source": [
        "Another example of importing dictionaries of attentions. These two dictionaries store the summed attentions for the layers 1-6 and 7-12 respectively. "
      ],
      "metadata": {
        "id": "TUGT5wEXrs4c"
      }
    },
    {
      "cell_type": "code",
      "source": [
        "# all_attentions_lower = torch.load('/content/drive/MyDrive/cogs402longformer/results/papers/full_attention_matrices/example_atten_dict_lower.pt')\n",
        "# all_attentions_upper = torch.load('/content/drive/MyDrive/cogs402longformer/results/papers/full_attention_matrices/example_atten_dict_upper.pt')"
      ],
      "metadata": {
        "id": "tckSMU4yqBhU"
      },
      "execution_count": null,
      "outputs": []
    },
    {
      "cell_type": "markdown",
      "source": [
        "This block of code iterates through the entire dataset, scales the attention matrix for each example by head importance (optional), and sums up the attention. For this notebook, we sum the attention over 6 layers and the last 6 layers separately.\n",
        "\n",
        "In this case, when taking a specific layer, you pick the layer you want (replace 11 with whatever layer you wish) and then we sum over all of the heads.\n",
        "\n",
        "When taking a range of layers, you either want to specify a range (e.g. attention_matrix_summed[0:6]) or leave as it is to sum over all layers. Then we sum up the layers and the heads.\n",
        "\n",
        "Lastly, we save the dictionary of summed attentions for easy access on repeat runs or other notebooks.\n",
        "\n",
        "The two dictionaries of attentions are currently labeled _lower and _upper for the use case, but should be changed to fit the task at hand."
      ],
      "metadata": {
        "id": "YDqk5Y1rr7eU"
      }
    },
    {
      "cell_type": "code",
      "source": [
        "all_attentions_one = {}\n",
        "all_attentions_two = {}\n",
        "for i in tqdm(range(len(cogs402_ds))):\n",
        "  if str(i) not in all_attentions_one and str(i) not in all_attentions_two:\n",
        "\n",
        "    att_mat = all_attentions[str(i)]\n",
        "\n",
        "    att_mat = scale_by_importance(att_mat, head_importance)\n",
        "\n",
        "    # how to pick a range of layers\n",
        "    att_mat_one = att_mat\n",
        "\n",
        "    # Sum the attentions for a group of layers\n",
        "    attention_one = att_mat_one.sum(axis=1)\n",
        "    attention_one = attention_one.sum(axis=0)\n",
        "    all_attentions_one[str(i)] = attention_one\n",
        "\n",
        "    # attention_two = att_mat_two.sum(axis=1)\n",
        "    # attention_two = attention_two.sum(axis=0)\n",
        "    # all_attentions_upper[str(i)] = attention_two\n",
        "\n",
        "    #template for single layer\n",
        "    attention_two = att_mat[11].sum(axis=0)\n",
        "    all_attentions_two[str(i)] = attention_two\n",
        "    \n",
        "#     torch.save(all_attentions_lower, '/content/drive/MyDrive/cogs402longformer/results/papers/full_attention_matrices/example_atten_dict_lower.pt')\n",
        "#     torch.save(all_attentions_upper, '/content/drive/MyDrive/cogs402longformer/results/papers/full_attention_matrices/example_atten_dict_upper.pt')"
      ],
      "metadata": {
        "id": "ZWeFQNW8MmJL",
        "colab": {
          "base_uri": "https://localhost:8080/"
        },
        "outputId": "6176dd6a-93cc-4745-9eef-dd26870733dc"
      },
      "execution_count": null,
      "outputs": [
        {
          "output_type": "stream",
          "name": "stderr",
          "text": [
            "100%|██████████| 12/12 [00:00<00:00, 246.45it/s]\n"
          ]
        }
      ]
    },
    {
      "cell_type": "markdown",
      "source": [
        "## Finding the Similarities "
      ],
      "metadata": {
        "id": "Vp9Vj8sqZoj3"
      }
    },
    {
      "cell_type": "markdown",
      "source": [
        "By using the attention and attribution dictionaries we created, we can now do a series of comparisons for each example in our dataset."
      ],
      "metadata": {
        "id": "P9NCgV58Fyy6"
      }
    },
    {
      "cell_type": "markdown",
      "source": [
        "Short helper function to normalize the attentions and attributions. "
      ],
      "metadata": {
        "id": "6cwcV4jXNWe-"
      }
    },
    {
      "cell_type": "code",
      "source": [
        "def normalize(data):\n",
        "    return (data - np.min(data)) / (np. max(data) - np.min(data))"
      ],
      "metadata": {
        "id": "ukncMseTj1-K"
      },
      "execution_count": null,
      "outputs": []
    },
    {
      "cell_type": "markdown",
      "source": [
        "The following block of code iterates through the entire dataset, grabs the appropriate attributions and attentions from their respective dictionaries, and computes the cosine similarities, [Kendalltau](https://www.jstor.org/stable/2332226), and [Rank-biased Overlap (RBO)](https://dl.acm.org/doi/10.1145/1852102.1852106). Note that the array of attributions will be absolute valued for all cases other than the raw similarities. We absolute value the attributions because negative attributions would not necessarily mean that they have the lowest attention, rather they might have really high attention as they are more likely to help the model predict the negative class, and might be something the attentions picked up by the model. The output is a dataframe containing the computed similarities.\n",
        "\n",
        "For the cosine similarites, we are comparing the raw un-normalized attributions and attentions, the normalized arrays, arrays with values below the median masked, arrays with values below the mean masked, and the ranks of the tokens\n",
        "\n",
        "More information about the similarities can be found [here](https://colab.research.google.com/drive/14a1tOimrRbLlXd0rbtY-UTcizR5GDd4F#scrollTo=gB7w8fsMHFT2)"
      ],
      "metadata": {
        "id": "bw08J8acuEY4"
      }
    },
    {
      "cell_type": "code",
      "source": [
        "from numpy.linalg import norm\n",
        "import scipy.stats as stats\n",
        "import rbo\n",
        "from tqdm import tqdm"
      ],
      "metadata": {
        "id": "t4ppKBXJC3AB"
      },
      "execution_count": null,
      "outputs": []
    },
    {
      "cell_type": "code",
      "source": [
        "def jaccard_similarity(set1, set2):\n",
        "    intersection = len(list(set1.intersection(set2)))\n",
        "    union = (len(set1) + len(set2)) - intersection\n",
        "    return float(intersection) / union"
      ],
      "metadata": {
        "id": "H6SJ3JwefFqM"
      },
      "execution_count": null,
      "outputs": []
    },
    {
      "cell_type": "code",
      "source": [
        "def get_sim_dataframe(cogs402_ds, all_attentions, all_attributions):\n",
        "\n",
        "  dataframe = []\n",
        "\n",
        "  for i in tqdm(range(len(cogs402_ds))):\n",
        "    #raw sims\n",
        "    exam_attrib = all_attributions[str(i)]\n",
        "    attention_final_layer = all_attentions[str(i)]\n",
        "    \n",
        "    exam_attrib = exam_attrib[:len(all_attentions[str(i)])]\n",
        "\n",
        "    \n",
        "    cosine_raw = np.dot(exam_attrib, attention_final_layer) / (norm(exam_attrib)*norm(attention_final_layer))\n",
        "\n",
        "    #normalized sims\n",
        "    attention_final_layer2 = normalize(attention_final_layer)\n",
        "\n",
        "    exam_attrib2 = np.abs(exam_attrib)\n",
        "    exam_attrib2 = normalize(exam_attrib2)\n",
        "  \n",
        "    cosine = np.dot(exam_attrib2, attention_final_layer2) / (norm(exam_attrib2)*norm(attention_final_layer2))\n",
        "\n",
        "    #Jaccard Sim for 95th percentile\n",
        "    exam_attrib3 = np.copy(exam_attrib2)\n",
        "    median_exam = np.percentile(exam_attrib3, 95)\n",
        "    exam_attrib3[exam_attrib3 < median_exam] = 0\n",
        "\n",
        "    exam_attrib_top = np.flatnonzero(exam_attrib3)\n",
        "    exam_attrib_top = set(exam_attrib_top)\n",
        "\n",
        "    attention_final_layer3 = np.copy(attention_final_layer2)\n",
        "    median_12 = np.percentile(attention_final_layer3, 95)\n",
        "    attention_final_layer3[attention_final_layer3 < median_12] = 0\n",
        "\n",
        "    attention_final_layer_top = np.flatnonzero(attention_final_layer3)\n",
        "    attention_final_layer_top = set(attention_final_layer_top)\n",
        "\n",
        "    jaccard_sim = jaccard_similarity(exam_attrib_top, attention_final_layer_top)\n",
        "    \n",
        "    cosine_med = np.dot(exam_attrib3, attention_final_layer3) / (norm(exam_attrib3)*norm(attention_final_layer3))\n",
        "\n",
        "    #sim using the ranks of the tokens\n",
        "    exam_attrib_rank = np.copy(exam_attrib2)\n",
        "    order_attrib = exam_attrib_rank.argsort()[::-1]\n",
        "    ranks_attrib = order_attrib.argsort()\n",
        "\n",
        "    attention_final_layer_rank = np.copy(attention_final_layer2)\n",
        "    order = attention_final_layer_rank.argsort()[::-1]\n",
        "    ranks = order.argsort()\n",
        "\n",
        "    cosine_rank = np.dot(ranks_attrib, ranks) / (norm(ranks_attrib)*norm(ranks))\n",
        "\n",
        "    # other similarity metrics like RBO and Kendalltau\n",
        "    tau, p_value = stats.kendalltau(ranks_attrib, ranks)\n",
        "\n",
        "    rbo_sim = rbo.RankingSimilarity(order_attrib, order).rbo()\n",
        "\n",
        "    d = {'example': i, 'similarity normalized': cosine, 'similarity raw': cosine_raw, \"sim w/ ranks\":cosine_rank, 'Jaccard_sim':cosine_med,\n",
        "        \"kendalltau\": tau, \"rbo\":rbo_sim, 'jaccard sim 95th': jaccard_sim}\n",
        "    dataframe.append(d)\n",
        "\n",
        "  return pd.DataFrame(dataframe)"
      ],
      "metadata": {
        "id": "dmKF8EBP2Nqz"
      },
      "execution_count": null,
      "outputs": []
    },
    {
      "cell_type": "markdown",
      "source": [
        "Apply the above function for our two cases, upper layers, and lower layers."
      ],
      "metadata": {
        "id": "Kpy-tAPEHfiQ"
      }
    },
    {
      "cell_type": "code",
      "source": [
        "df = get_sim_dataframe(cogs402_ds, all_attentions_two, all_attributions)"
      ],
      "metadata": {
        "id": "gQIFZTQzlAEI",
        "colab": {
          "base_uri": "https://localhost:8080/"
        },
        "outputId": "f10adf12-1e82-4adc-8df8-dc191e9d80b4"
      },
      "execution_count": null,
      "outputs": [
        {
          "output_type": "stream",
          "name": "stderr",
          "text": [
            "100%|██████████| 12/12 [00:00<00:00, 153.72it/s]\n"
          ]
        }
      ]
    },
    {
      "cell_type": "code",
      "source": [
        "df2 = get_sim_dataframe(cogs402_ds, all_attentions_one, all_attributions)"
      ],
      "metadata": {
        "id": "gtCEZaQFOgwh",
        "colab": {
          "base_uri": "https://localhost:8080/"
        },
        "outputId": "0e009e87-a526-4722-ab87-67b7d2ca0ceb"
      },
      "execution_count": null,
      "outputs": [
        {
          "output_type": "stream",
          "name": "stderr",
          "text": [
            "100%|██████████| 12/12 [00:00<00:00, 182.57it/s]\n"
          ]
        }
      ]
    },
    {
      "cell_type": "code",
      "source": [
        "df"
      ],
      "metadata": {
        "id": "Yn97-oeTC_qt",
        "colab": {
          "base_uri": "https://localhost:8080/",
          "height": 426
        },
        "outputId": "31636a53-0307-4254-b2dd-932d0a97f4e6"
      },
      "execution_count": null,
      "outputs": [
        {
          "output_type": "execute_result",
          "data": {
            "text/plain": [
              "    example  similarity normalized  similarity raw  sim w/ ranks  Jaccard_sim  \\\n",
              "0         0               0.741534        0.004948      0.765903     0.027765   \n",
              "1         1               0.732416        0.067002      0.759806     0.031861   \n",
              "2         2               0.750755        0.116108      0.760740     0.057531   \n",
              "3         3               0.743804        0.046652      0.755866     0.044541   \n",
              "4         4               0.752169        0.026802      0.772755     0.046239   \n",
              "5         5               0.733255        0.076586      0.754568     0.053542   \n",
              "6         6               0.738756        0.002772      0.760778     0.040832   \n",
              "7         7               0.738189        0.034566      0.758098     0.022802   \n",
              "8         8               0.744910        0.008235      0.757366     0.067837   \n",
              "9         9               0.743130        0.078687      0.759228     0.027565   \n",
              "10       10               0.738062        0.071397      0.756250     0.036011   \n",
              "11       11               0.739780        0.078491      0.756479     0.033062   \n",
              "\n",
              "    kendalltau       rbo  jaccard sim 95th  \n",
              "0     0.043155  0.516021          0.019802  \n",
              "1     0.026363  0.512021          0.019802  \n",
              "2     0.029044  0.511251          0.040404  \n",
              "3     0.015894  0.503623          0.030000  \n",
              "4     0.061378  0.515927          0.028037  \n",
              "5     0.012516  0.506194          0.035176  \n",
              "6     0.029149  0.511356          0.026667  \n",
              "7     0.022090  0.501405          0.014778  \n",
              "8     0.020375  0.509902          0.051020  \n",
              "9     0.025210  0.512508          0.017964  \n",
              "10    0.017438  0.510725          0.024876  \n",
              "11    0.017437  0.503583          0.024876  "
            ],
            "text/html": [
              "\n",
              "  <div id=\"df-a19c2040-74ce-4f00-91cb-816e53c4af16\">\n",
              "    <div class=\"colab-df-container\">\n",
              "      <div>\n",
              "<style scoped>\n",
              "    .dataframe tbody tr th:only-of-type {\n",
              "        vertical-align: middle;\n",
              "    }\n",
              "\n",
              "    .dataframe tbody tr th {\n",
              "        vertical-align: top;\n",
              "    }\n",
              "\n",
              "    .dataframe thead th {\n",
              "        text-align: right;\n",
              "    }\n",
              "</style>\n",
              "<table border=\"1\" class=\"dataframe\">\n",
              "  <thead>\n",
              "    <tr style=\"text-align: right;\">\n",
              "      <th></th>\n",
              "      <th>example</th>\n",
              "      <th>similarity normalized</th>\n",
              "      <th>similarity raw</th>\n",
              "      <th>sim w/ ranks</th>\n",
              "      <th>Jaccard_sim</th>\n",
              "      <th>kendalltau</th>\n",
              "      <th>rbo</th>\n",
              "      <th>jaccard sim 95th</th>\n",
              "    </tr>\n",
              "  </thead>\n",
              "  <tbody>\n",
              "    <tr>\n",
              "      <th>0</th>\n",
              "      <td>0</td>\n",
              "      <td>0.741534</td>\n",
              "      <td>0.004948</td>\n",
              "      <td>0.765903</td>\n",
              "      <td>0.027765</td>\n",
              "      <td>0.043155</td>\n",
              "      <td>0.516021</td>\n",
              "      <td>0.019802</td>\n",
              "    </tr>\n",
              "    <tr>\n",
              "      <th>1</th>\n",
              "      <td>1</td>\n",
              "      <td>0.732416</td>\n",
              "      <td>0.067002</td>\n",
              "      <td>0.759806</td>\n",
              "      <td>0.031861</td>\n",
              "      <td>0.026363</td>\n",
              "      <td>0.512021</td>\n",
              "      <td>0.019802</td>\n",
              "    </tr>\n",
              "    <tr>\n",
              "      <th>2</th>\n",
              "      <td>2</td>\n",
              "      <td>0.750755</td>\n",
              "      <td>0.116108</td>\n",
              "      <td>0.760740</td>\n",
              "      <td>0.057531</td>\n",
              "      <td>0.029044</td>\n",
              "      <td>0.511251</td>\n",
              "      <td>0.040404</td>\n",
              "    </tr>\n",
              "    <tr>\n",
              "      <th>3</th>\n",
              "      <td>3</td>\n",
              "      <td>0.743804</td>\n",
              "      <td>0.046652</td>\n",
              "      <td>0.755866</td>\n",
              "      <td>0.044541</td>\n",
              "      <td>0.015894</td>\n",
              "      <td>0.503623</td>\n",
              "      <td>0.030000</td>\n",
              "    </tr>\n",
              "    <tr>\n",
              "      <th>4</th>\n",
              "      <td>4</td>\n",
              "      <td>0.752169</td>\n",
              "      <td>0.026802</td>\n",
              "      <td>0.772755</td>\n",
              "      <td>0.046239</td>\n",
              "      <td>0.061378</td>\n",
              "      <td>0.515927</td>\n",
              "      <td>0.028037</td>\n",
              "    </tr>\n",
              "    <tr>\n",
              "      <th>5</th>\n",
              "      <td>5</td>\n",
              "      <td>0.733255</td>\n",
              "      <td>0.076586</td>\n",
              "      <td>0.754568</td>\n",
              "      <td>0.053542</td>\n",
              "      <td>0.012516</td>\n",
              "      <td>0.506194</td>\n",
              "      <td>0.035176</td>\n",
              "    </tr>\n",
              "    <tr>\n",
              "      <th>6</th>\n",
              "      <td>6</td>\n",
              "      <td>0.738756</td>\n",
              "      <td>0.002772</td>\n",
              "      <td>0.760778</td>\n",
              "      <td>0.040832</td>\n",
              "      <td>0.029149</td>\n",
              "      <td>0.511356</td>\n",
              "      <td>0.026667</td>\n",
              "    </tr>\n",
              "    <tr>\n",
              "      <th>7</th>\n",
              "      <td>7</td>\n",
              "      <td>0.738189</td>\n",
              "      <td>0.034566</td>\n",
              "      <td>0.758098</td>\n",
              "      <td>0.022802</td>\n",
              "      <td>0.022090</td>\n",
              "      <td>0.501405</td>\n",
              "      <td>0.014778</td>\n",
              "    </tr>\n",
              "    <tr>\n",
              "      <th>8</th>\n",
              "      <td>8</td>\n",
              "      <td>0.744910</td>\n",
              "      <td>0.008235</td>\n",
              "      <td>0.757366</td>\n",
              "      <td>0.067837</td>\n",
              "      <td>0.020375</td>\n",
              "      <td>0.509902</td>\n",
              "      <td>0.051020</td>\n",
              "    </tr>\n",
              "    <tr>\n",
              "      <th>9</th>\n",
              "      <td>9</td>\n",
              "      <td>0.743130</td>\n",
              "      <td>0.078687</td>\n",
              "      <td>0.759228</td>\n",
              "      <td>0.027565</td>\n",
              "      <td>0.025210</td>\n",
              "      <td>0.512508</td>\n",
              "      <td>0.017964</td>\n",
              "    </tr>\n",
              "    <tr>\n",
              "      <th>10</th>\n",
              "      <td>10</td>\n",
              "      <td>0.738062</td>\n",
              "      <td>0.071397</td>\n",
              "      <td>0.756250</td>\n",
              "      <td>0.036011</td>\n",
              "      <td>0.017438</td>\n",
              "      <td>0.510725</td>\n",
              "      <td>0.024876</td>\n",
              "    </tr>\n",
              "    <tr>\n",
              "      <th>11</th>\n",
              "      <td>11</td>\n",
              "      <td>0.739780</td>\n",
              "      <td>0.078491</td>\n",
              "      <td>0.756479</td>\n",
              "      <td>0.033062</td>\n",
              "      <td>0.017437</td>\n",
              "      <td>0.503583</td>\n",
              "      <td>0.024876</td>\n",
              "    </tr>\n",
              "  </tbody>\n",
              "</table>\n",
              "</div>\n",
              "      <button class=\"colab-df-convert\" onclick=\"convertToInteractive('df-a19c2040-74ce-4f00-91cb-816e53c4af16')\"\n",
              "              title=\"Convert this dataframe to an interactive table.\"\n",
              "              style=\"display:none;\">\n",
              "        \n",
              "  <svg xmlns=\"http://www.w3.org/2000/svg\" height=\"24px\"viewBox=\"0 0 24 24\"\n",
              "       width=\"24px\">\n",
              "    <path d=\"M0 0h24v24H0V0z\" fill=\"none\"/>\n",
              "    <path d=\"M18.56 5.44l.94 2.06.94-2.06 2.06-.94-2.06-.94-.94-2.06-.94 2.06-2.06.94zm-11 1L8.5 8.5l.94-2.06 2.06-.94-2.06-.94L8.5 2.5l-.94 2.06-2.06.94zm10 10l.94 2.06.94-2.06 2.06-.94-2.06-.94-.94-2.06-.94 2.06-2.06.94z\"/><path d=\"M17.41 7.96l-1.37-1.37c-.4-.4-.92-.59-1.43-.59-.52 0-1.04.2-1.43.59L10.3 9.45l-7.72 7.72c-.78.78-.78 2.05 0 2.83L4 21.41c.39.39.9.59 1.41.59.51 0 1.02-.2 1.41-.59l7.78-7.78 2.81-2.81c.8-.78.8-2.07 0-2.86zM5.41 20L4 18.59l7.72-7.72 1.47 1.35L5.41 20z\"/>\n",
              "  </svg>\n",
              "      </button>\n",
              "      \n",
              "  <style>\n",
              "    .colab-df-container {\n",
              "      display:flex;\n",
              "      flex-wrap:wrap;\n",
              "      gap: 12px;\n",
              "    }\n",
              "\n",
              "    .colab-df-convert {\n",
              "      background-color: #E8F0FE;\n",
              "      border: none;\n",
              "      border-radius: 50%;\n",
              "      cursor: pointer;\n",
              "      display: none;\n",
              "      fill: #1967D2;\n",
              "      height: 32px;\n",
              "      padding: 0 0 0 0;\n",
              "      width: 32px;\n",
              "    }\n",
              "\n",
              "    .colab-df-convert:hover {\n",
              "      background-color: #E2EBFA;\n",
              "      box-shadow: 0px 1px 2px rgba(60, 64, 67, 0.3), 0px 1px 3px 1px rgba(60, 64, 67, 0.15);\n",
              "      fill: #174EA6;\n",
              "    }\n",
              "\n",
              "    [theme=dark] .colab-df-convert {\n",
              "      background-color: #3B4455;\n",
              "      fill: #D2E3FC;\n",
              "    }\n",
              "\n",
              "    [theme=dark] .colab-df-convert:hover {\n",
              "      background-color: #434B5C;\n",
              "      box-shadow: 0px 1px 3px 1px rgba(0, 0, 0, 0.15);\n",
              "      filter: drop-shadow(0px 1px 2px rgba(0, 0, 0, 0.3));\n",
              "      fill: #FFFFFF;\n",
              "    }\n",
              "  </style>\n",
              "\n",
              "      <script>\n",
              "        const buttonEl =\n",
              "          document.querySelector('#df-a19c2040-74ce-4f00-91cb-816e53c4af16 button.colab-df-convert');\n",
              "        buttonEl.style.display =\n",
              "          google.colab.kernel.accessAllowed ? 'block' : 'none';\n",
              "\n",
              "        async function convertToInteractive(key) {\n",
              "          const element = document.querySelector('#df-a19c2040-74ce-4f00-91cb-816e53c4af16');\n",
              "          const dataTable =\n",
              "            await google.colab.kernel.invokeFunction('convertToInteractive',\n",
              "                                                     [key], {});\n",
              "          if (!dataTable) return;\n",
              "\n",
              "          const docLinkHtml = 'Like what you see? Visit the ' +\n",
              "            '<a target=\"_blank\" href=https://colab.research.google.com/notebooks/data_table.ipynb>data table notebook</a>'\n",
              "            + ' to learn more about interactive tables.';\n",
              "          element.innerHTML = '';\n",
              "          dataTable['output_type'] = 'display_data';\n",
              "          await google.colab.output.renderOutput(dataTable, element);\n",
              "          const docLink = document.createElement('div');\n",
              "          docLink.innerHTML = docLinkHtml;\n",
              "          element.appendChild(docLink);\n",
              "        }\n",
              "      </script>\n",
              "    </div>\n",
              "  </div>\n",
              "  "
            ]
          },
          "metadata": {},
          "execution_count": 37
        }
      ]
    },
    {
      "cell_type": "markdown",
      "source": [
        "Since we have converted our similarities into a dataframe, we can easily find things like the mean and the max of the similarities, which we can use to pick out an example if needed."
      ],
      "metadata": {
        "id": "rBcXyOuGHlJN"
      }
    },
    {
      "cell_type": "code",
      "source": [
        "df.max()"
      ],
      "metadata": {
        "id": "SY9blyjLDeUt",
        "colab": {
          "base_uri": "https://localhost:8080/"
        },
        "outputId": "99f5276f-03fd-4945-f320-f302af08fe6d"
      },
      "execution_count": null,
      "outputs": [
        {
          "output_type": "execute_result",
          "data": {
            "text/plain": [
              "example                  11.000000\n",
              "similarity normalized     0.752169\n",
              "similarity raw            0.116108\n",
              "sim w/ ranks              0.772755\n",
              "Jaccard_sim               0.067837\n",
              "kendalltau                0.061378\n",
              "rbo                       0.516021\n",
              "jaccard sim 95th          0.051020\n",
              "dtype: float64"
            ]
          },
          "metadata": {},
          "execution_count": 38
        }
      ]
    },
    {
      "cell_type": "code",
      "source": [
        "df.min()"
      ],
      "metadata": {
        "id": "U8Egh8vVEL3w",
        "colab": {
          "base_uri": "https://localhost:8080/"
        },
        "outputId": "901c5382-9768-46c4-aebf-a9a01ab2c5ae"
      },
      "execution_count": null,
      "outputs": [
        {
          "output_type": "execute_result",
          "data": {
            "text/plain": [
              "example                  0.000000\n",
              "similarity normalized    0.732416\n",
              "similarity raw           0.002772\n",
              "sim w/ ranks             0.754568\n",
              "Jaccard_sim              0.022802\n",
              "kendalltau               0.012516\n",
              "rbo                      0.501405\n",
              "jaccard sim 95th         0.014778\n",
              "dtype: float64"
            ]
          },
          "metadata": {},
          "execution_count": 39
        }
      ]
    },
    {
      "cell_type": "code",
      "source": [
        "df2.max()"
      ],
      "metadata": {
        "id": "VIDkyg0RDqTZ",
        "colab": {
          "base_uri": "https://localhost:8080/"
        },
        "outputId": "0ba28a8e-6f3e-4c01-c99f-a8a9fa71883e"
      },
      "execution_count": null,
      "outputs": [
        {
          "output_type": "execute_result",
          "data": {
            "text/plain": [
              "example                  11.000000\n",
              "similarity normalized     0.763177\n",
              "similarity raw            0.114794\n",
              "sim w/ ranks              0.783448\n",
              "Jaccard_sim               0.117237\n",
              "kendalltau                0.090064\n",
              "rbo                       0.535575\n",
              "jaccard sim 95th          0.067961\n",
              "dtype: float64"
            ]
          },
          "metadata": {},
          "execution_count": 40
        }
      ]
    },
    {
      "cell_type": "code",
      "source": [
        "df.mean()"
      ],
      "metadata": {
        "id": "2HPzjI4i4Oz0",
        "colab": {
          "base_uri": "https://localhost:8080/"
        },
        "outputId": "84a16f8a-ec32-418e-99cc-524aedf69ee1"
      },
      "execution_count": null,
      "outputs": [
        {
          "output_type": "execute_result",
          "data": {
            "text/plain": [
              "example                  5.500000\n",
              "similarity normalized    0.741397\n",
              "similarity raw           0.051020\n",
              "sim w/ ranks             0.759820\n",
              "Jaccard_sim              0.040799\n",
              "kendalltau               0.026671\n",
              "rbo                      0.509543\n",
              "jaccard sim 95th         0.027783\n",
              "dtype: float64"
            ]
          },
          "metadata": {},
          "execution_count": 41
        }
      ]
    },
    {
      "cell_type": "markdown",
      "source": [
        "### Storing our Results"
      ],
      "metadata": {
        "id": "LduQ8w_yIaW5"
      }
    },
    {
      "cell_type": "markdown",
      "source": [
        "Given that this is meant to be preliminary findings about the comparison of attributions and attentions, you likely want to run through this multiple times with multiple configurations to see which configuration gives the most interesting results. As such, we want to store the results found above in a manner that we can easily access but also easy to view. Below we demonstrate how we stored the results of the means in a .csv file that we export."
      ],
      "metadata": {
        "id": "XQrU4q-SI-Q-"
      }
    },
    {
      "cell_type": "markdown",
      "source": [
        "We convert our results into a dictionary so we can later create a dataframe and store this information. Notably, we want the attention this example operates on in the form of text (e.g. attrib_vs_layer_12), which means **you will have to change the text depending on your context**, the mean cosine similarities, the mean cosine similarities for the ranks, the kendall tau coefficient, the RBO, as well as whether they are scaled, and/or alphanumeric tokens only."
      ],
      "metadata": {
        "id": "ZKZKg9mcY6XV"
      }
    },
    {
      "cell_type": "code",
      "source": [
        "result_dataframe = []\n",
        "d = {'example': \"attrib_vs_layer12_attn\", 'mean_cosine_sim': df.mean()[\"similarity normalized\"].round(6), \"mean_cosine_sim_ranks\":df.mean()[\"sim w/ ranks\"].round(6),\n",
        "        \"mean_kendall_tau\": df.mean()[\"kendalltau\"].round(6), \"mean_RBO\":df.mean()[\"rbo\"].round(6), 'mean_Jaccard_95th':df.mean()['jaccard sim 95th'].round(6), \"scaled\":True, \"alpha_only\":False}\n",
        "result_dataframe.append(d)"
      ],
      "metadata": {
        "id": "8I3H3SR2Nj5w"
      },
      "execution_count": null,
      "outputs": []
    },
    {
      "cell_type": "code",
      "source": [
        "df2.mean()"
      ],
      "metadata": {
        "colab": {
          "base_uri": "https://localhost:8080/"
        },
        "id": "kdhfJcyEYxpZ",
        "outputId": "23951c22-8e4d-4def-f98b-385b6d95357e"
      },
      "execution_count": null,
      "outputs": [
        {
          "output_type": "execute_result",
          "data": {
            "text/plain": [
              "example                  5.500000\n",
              "similarity normalized    0.753831\n",
              "similarity raw           0.050220\n",
              "sim w/ ranks             0.766420\n",
              "Jaccard_sim              0.053536\n",
              "kendalltau               0.044457\n",
              "rbo                      0.516442\n",
              "jaccard sim 95th         0.033743\n",
              "dtype: float64"
            ]
          },
          "metadata": {},
          "execution_count": 43
        }
      ]
    },
    {
      "cell_type": "markdown",
      "source": [
        "We do the same, changing the example text to ...upper_attn rather than lower attention because df2 stores the values comparing attribution against upper attention layers."
      ],
      "metadata": {
        "id": "WSMXkDj2ZyV5"
      }
    },
    {
      "cell_type": "code",
      "source": [
        "d2 = {'example': \"attrib_vs_all_layer_attn\", 'mean_cosine_sim': df2.mean()[\"similarity normalized\"].round(6), \"mean_cosine_sim_ranks\":df2.mean()[\"sim w/ ranks\"].round(6),\n",
        "        \"mean_kendall_tau\": df2.mean()[\"kendalltau\"].round(6), \"mean_RBO\":df2.mean()[\"rbo\"].round(6), 'mean_Jaccard_95th':df2.mean()['jaccard sim 95th'].round(6), \"scaled\":True, \"alpha_only\":False}\n",
        "result_dataframe.append(d2)"
      ],
      "metadata": {
        "id": "OVHDWIwgO9Se"
      },
      "execution_count": null,
      "outputs": []
    },
    {
      "cell_type": "markdown",
      "source": [
        "### Alphanumeric Tokens only"
      ],
      "metadata": {
        "id": "o0z0xod8JnLi"
      }
    },
    {
      "cell_type": "markdown",
      "source": [
        "The following block of code iterates through the entire dataset in the same manner as the above version, grabs the appropriate attributions and attentions from their respective dictionaries, and computes the cosine similarities, kendall tau coefficients, and the RBO. The output is a dataframe containing the computed similarities. The difference is that this block of code masks the values of tokens that are non-alphanumeric (e.g. \".,][?\") before calculating similarities.\n",
        "\n",
        "More information about the similarities can be found [here](https://colab.research.google.com/drive/14a1tOimrRbLlXd0rbtY-UTcizR5GDd4F#scrollTo=gB7w8fsMHFT2)"
      ],
      "metadata": {
        "id": "HYT4iQynt6-m"
      }
    },
    {
      "cell_type": "code",
      "source": [
        "import nltk\n",
        "from transformers import AutoTokenizer\n",
        "nltk.download('stopwords')\n",
        "tokenizer2 = AutoTokenizer.from_pretrained('allenai/longformer-base-4096', add_prefix_space=True)"
      ],
      "metadata": {
        "id": "SoudPRwHldKZ",
        "colab": {
          "base_uri": "https://localhost:8080/",
          "height": 84,
          "referenced_widgets": [
            "4d4241bf73f4484a9c71d23688324b89",
            "145a8f32e79e4266b7caeef61fcafc23",
            "8bc3568e118f420da1f013a9b89ebfe5",
            "2356c1ba1a9d4945a35c0fd800845cdb",
            "5a2392f146a34b31bfc99b07d6ebf3a4",
            "05fe9c5c8dcd4383ab7b8ca77c03996b",
            "6642309ad51b46eea8a58860e3723962",
            "287346f1bf904239ae804d735bf1648b",
            "922411fd073448f08f8b38ca1bc17661",
            "005fe38415a94e7dbd25a224a3a66eac",
            "01fe1e68c02541a3bba9c357857b1c60"
          ]
        },
        "outputId": "1ec1fb30-ae42-438c-ccee-67148b792d06"
      },
      "execution_count": null,
      "outputs": [
        {
          "output_type": "stream",
          "name": "stderr",
          "text": [
            "[nltk_data] Downloading package stopwords to /root/nltk_data...\n",
            "[nltk_data]   Unzipping corpora/stopwords.zip.\n"
          ]
        },
        {
          "output_type": "display_data",
          "data": {
            "text/plain": [
              "Downloading tokenizer.json:   0%|          | 0.00/1.29M [00:00<?, ?B/s]"
            ],
            "application/vnd.jupyter.widget-view+json": {
              "version_major": 2,
              "version_minor": 0,
              "model_id": "4d4241bf73f4484a9c71d23688324b89"
            }
          },
          "metadata": {}
        }
      ]
    },
    {
      "cell_type": "code",
      "source": [
        "from nltk.corpus import stopwords\n",
        "all_stopwords = stopwords.words('english')\n",
        "all_stopwords.append(\" \")\n",
        "stopwords = set(tokenizer2.tokenize(all_stopwords, is_split_into_words =True))\n",
        "stopwords.update(all_stopwords)\n",
        "print(stopwords)"
      ],
      "metadata": {
        "id": "r0ahJeMAleBg",
        "colab": {
          "base_uri": "https://localhost:8080/"
        },
        "outputId": "3f5daab1-fcac-4415-ce89-c590fb96ae32"
      },
      "execution_count": null,
      "outputs": [
        {
          "output_type": "stream",
          "name": "stdout",
          "text": [
            "{'Ġve', 'Ġbeen', 'wasn', 'itself', 'such', 'Ġover', 'Ġso', \"couldn't\", 'through', 'when', 'ours', 'mightn', 'from', 'am', 'Ġduring', 'Ġyour', \"she's\", 'Ġsh', 'Ġis', 'about', 'Ġother', 'Ġuntil', \"wasn't\", 'Ġagain', 'again', \"mustn't\", 'theirs', 'Ġwhat', 'of', 'Ġhave', 'Ġour', 'Ġourselves', 'Ġneed', 'Ġhers', 'his', 'does', \"hadn't\", 'Ġher', 'their', 'Ġbecause', 'Ġabout', 'so', 'for', 'didn', 'my', 'because', 'Ġwere', \"hasn't\", 'Ġor', 'Ġunder', 'Ġthe', 'can', 'under', 'Ġmyself', 'Ġt', 'do', 'an', 'myself', 'Ġan', 'Ġfurther', 'not', 'to', 'where', 'Ġnor', \"won't\", 'haven', 'Ġma', 'shan', 'are', 'why', 'isn', 'but', 'no', \"'s\", 'Ġwouldn', 'n', 't', 'Ġhadn', 'Ġto', 'y', 'i', 'Ġhim', 'Ġthemselves', 'Ġboth', 'off', 'yourself', 'Ġaren', 'Ġit', 'aren', 'Ġthese', 'Ġthrough', 'Ġsome', 'him', 'Ġfew', 'Ġtheirs', 'Ġno', 'if', 'Ġours', 'at', 'mustn', 'Ġinto', 'here', 'own', 'doesn', 'who', 'should', 'wouldn', 'Ġnot', 'himself', 'after', 'having', 'Ġshould', 'Ġll', 'Ġwhen', 'while', 'Ġfor', 'themselves', 'Ġbut', 'Ġmost', 've', 'ma', 'Ġtheir', 'Ġwhy', \"shouldn't\", 'too', 'more', 'only', 'Ġout', 'Ġif', 'with', 'Ġhas', 'Ġhasn', 'or', 'Ġjust', 'hasn', 'he', 'Ġy', 'most', 'Ġoff', 'hadn', 'those', 'Ġain', 'it', 'than', 'Ġwe', \"wouldn't\", 'will', 'during', 'Ġand', 'all', 'shouldn', 'Ġtoo', 'won', 's', 'Ġwhich', 'Ġwasn', 'Ġthose', 'did', 'just', 'yourselves', 'now', 'Ġa', 'Ġfrom', 'each', 'any', \"'re\", 'Ġwon', 'has', 'Ġshe', 'Ġdon', 'Ġdoesn', 'Ġmight', 'Ġmust', 'were', 'Ġcan', 'couldn', 'Ġhad', 'them', 'Ġyou', 'Ġm', 'Ġyourselves', 'whom', 'Ġvery', 'our', 'its', 'Ġdidn', 'Ġyourself', 'me', 'Ġitself', 'same', 'Ġwhom', 'below', 'Ġnow', 'what', 'Ġs', 'Ġyours', 'which', 'very', 'a', 'Ġhe', 'Ġthis', 'Ġhimself', 'Ġbeing', 'Ġbelow', 'before', 'once', 'into', 'Ġwho', 'being', 'in', 'had', 'Ġthey', \"you're\", 'Ġas', 'these', 'Ġabove', 'some', 'few', 'Ġwith', 'Ġown', 'Ġup', 'Ġherself', 'Ġam', 'Ġd', 'have', 'Ġat', 'Ġthen', 'Ġall', 'Ġdown', \"doesn't\", 'by', 'Ġwhere', 'weren', 'Ġdid', \"that'll\", 'Ġre', \"you'll\", 'Ġany', \"'ll\", 'Ġhaving', 'Ġcouldn', 'this', 'Ġme', 'Ġthat', 'Ġweren', 'and', 'Ġdo', 'out', 'been', 'against', 'Ġof', 'Ġhow', \"don't\", 'then', ' ', 'nor', 'Ġshouldn', 'Ġmore', 'Ġeach', 'don', 'Ġ', 'Ġmy', 'other', 'Ġin', 'we', 'be', 'Ġdoes', 'on', \"weren't\", 'Ġthan', \"isn't\", \"mightn't\", 'further', 'your', \"'ve\", \"shan't\", 'down', 'her', 'Ġare', \"'t\", 'herself', 'they', \"you'd\", 'how', 'that', 'yours', 'o', 'Ġbefore', 'Ġthere', 'Ġhis', 'Ġon', \"you've\", \"should've\", 'd', 'doing', \"'d\", \"haven't\", 'Ġdoing', 'there', 'Ġwill', 'Ġits', 'Ġbetween', \"it's\", 'was', 'Ġthem', 'she', 'Ġonce', 'between', 'hers', 'Ġwas', 'm', 'until', 'up', 'll', 're', 'Ġafter', 'Ġhere', 'Ġby', \"didn't\", 'Ġisn', 'ain', 'Ġsuch', 'ourselves', 'Ġbe', 'Ġagainst', \"aren't\", 'Ġo', 'Ġonly', 'Ġsame', 'as', 'you', 'over', 'Ġwhile', 'is', 'the', \"needn't\", 'needn', 'Ġi', 'both', 'above', 'Ġhaven'}\n"
          ]
        }
      ]
    },
    {
      "cell_type": "code",
      "source": [
        "def get_sim_dataframe_alpha(cogs402_ds, all_attentions, all_attributions):\n",
        "\n",
        "  dataframe = []\n",
        "\n",
        "  for i in tqdm(range(len(cogs402_ds))):\n",
        "    exam_attrib = all_attributions[str(i)]\n",
        "    attention_final_layer = all_attentions[str(i)]\n",
        "    \n",
        "    exam_attrib = exam_attrib[:len(all_attentions[str(i)])]\n",
        "\n",
        "    #input_ids\n",
        "    text = cogs402_ds['text'][i]\n",
        "    input_ids, _, sep_id = construct_input_ref_pair(text, ref_token_id, sep_token_id, cls_token_id)\n",
        "    indices = input_ids[0].detach().tolist()\n",
        "    all_tokens_curr = tokenizer.convert_ids_to_tokens(indices)\n",
        "\n",
        "    exam_tokens = all_tokens_curr\n",
        "    alpha_numeric_nums = [idx for idx, element in enumerate(exam_tokens) if element.isalpha() if element not in stopwords]\n",
        "    mask = np.ones(attention_final_layer.shape,dtype=bool) \n",
        "    mask[alpha_numeric_nums] = False\n",
        "\n",
        "    #raw attributions\n",
        "    cosine_raw = np.dot(exam_attrib, attention_final_layer) / (norm(exam_attrib)*norm(attention_final_layer))\n",
        "\n",
        "    #normalized attributions\n",
        "    attention_final_layer2 = normalize(attention_final_layer)\n",
        "\n",
        "    exam_attrib2 = np.abs(exam_attrib)\n",
        "    exam_attrib2 = normalize(exam_attrib2)\n",
        "    \n",
        "    attention_final_layer2[mask] = 0\n",
        "    exam_attrib2[mask] = 0\n",
        "\n",
        "    cosine = np.dot(exam_attrib2, attention_final_layer2) / (norm(exam_attrib2)*norm(attention_final_layer2))\n",
        "\n",
        "    #Jaccard Sim for 95th percentile\n",
        "    exam_attrib3 = np.copy(exam_attrib2)\n",
        "    median_exam = np.percentile(exam_attrib3, 95)\n",
        "    exam_attrib3[exam_attrib3 < median_exam] = 0\n",
        "\n",
        "    exam_attrib_top = np.flatnonzero(exam_attrib3)\n",
        "    exam_attrib_top = set(exam_attrib_top)\n",
        "\n",
        "    attention_final_layer3 = np.copy(attention_final_layer2)\n",
        "    median_12 = np.percentile(attention_final_layer3, 95)\n",
        "    attention_final_layer3[attention_final_layer3 < median_12] = 0\n",
        "\n",
        "    attention_final_layer_top = np.flatnonzero(attention_final_layer3)\n",
        "    attention_final_layer_top = set(attention_final_layer_top)\n",
        "    \n",
        "    jaccard_sim = jaccard_similarity(exam_attrib_top, attention_final_layer_top)\n",
        "\n",
        "    #sim using the ranks of the tokens\n",
        "    exam_attrib_rank = np.copy(exam_attrib2)\n",
        "    order_attrib = exam_attrib_rank.argsort()[::-1]\n",
        "    ranks_attrib = order_attrib.argsort()\n",
        "\n",
        "    attention_final_layer_rank = np.copy(attention_final_layer2)\n",
        "    order = attention_final_layer_rank.argsort()[::-1]\n",
        "    ranks = order.argsort()\n",
        "    \n",
        "    cosine_rank = np.dot(ranks_attrib, ranks) / (norm(ranks_attrib)*norm(ranks))\n",
        "\n",
        "    tau, p_value = stats.kendalltau(ranks_attrib, ranks)\n",
        "\n",
        "    rbo_sim = rbo.RankingSimilarity(order_attrib, order).rbo()\n",
        "\n",
        "    d = {'example': i, 'similarity normalized': cosine, 'similarity raw': cosine_raw, \"sim w/ ranks\":cosine_rank,\n",
        "        \"kendalltau\": tau, \"rbo\":rbo_sim, 'Jaccard_sim_95th':jaccard_sim}\n",
        "    dataframe.append(d)\n",
        "\n",
        "  return pd.DataFrame(dataframe)"
      ],
      "metadata": {
        "id": "sXoj61dc6sQ0"
      },
      "execution_count": null,
      "outputs": []
    },
    {
      "cell_type": "markdown",
      "source": [
        "Apply the above function for our two cases, upper layers, and lower layers."
      ],
      "metadata": {
        "id": "52VIfl7DJuMi"
      }
    },
    {
      "cell_type": "code",
      "source": [
        "df_alpha = get_sim_dataframe_alpha(cogs402_ds, all_attentions_two, all_attributions)"
      ],
      "metadata": {
        "id": "AC49DcgfH-6L",
        "colab": {
          "base_uri": "https://localhost:8080/"
        },
        "outputId": "1120a63e-e5d3-44f8-9231-f956f7b93b91"
      },
      "execution_count": null,
      "outputs": [
        {
          "output_type": "stream",
          "name": "stderr",
          "text": [
            "100%|██████████| 12/12 [00:00<00:00, 47.76it/s]\n"
          ]
        }
      ]
    },
    {
      "cell_type": "code",
      "source": [
        "df_alpha2 = get_sim_dataframe_alpha(cogs402_ds, all_attentions_one, all_attributions)"
      ],
      "metadata": {
        "colab": {
          "base_uri": "https://localhost:8080/"
        },
        "id": "Q0WW-X0dofyb",
        "outputId": "b5953a1b-2610-42a4-d7fe-5fa854750aeb"
      },
      "execution_count": null,
      "outputs": [
        {
          "output_type": "stream",
          "name": "stderr",
          "text": [
            "100%|██████████| 12/12 [00:00<00:00, 47.88it/s]\n"
          ]
        }
      ]
    },
    {
      "cell_type": "code",
      "source": [
        "df_alpha.mean()"
      ],
      "metadata": {
        "id": "2lNm1B5FJIbn",
        "colab": {
          "base_uri": "https://localhost:8080/"
        },
        "outputId": "d000f783-5a0f-42e1-d645-b26023628867"
      },
      "execution_count": null,
      "outputs": [
        {
          "output_type": "execute_result",
          "data": {
            "text/plain": [
              "example                  5.500000\n",
              "similarity normalized    0.786079\n",
              "similarity raw           0.051020\n",
              "sim w/ ranks             0.980007\n",
              "kendalltau               0.795501\n",
              "rbo                      0.782117\n",
              "Jaccard_sim_95th         0.079579\n",
              "dtype: float64"
            ]
          },
          "metadata": {},
          "execution_count": 50
        }
      ]
    },
    {
      "cell_type": "markdown",
      "source": [
        "Similar to the previous time we saved our results to a dictionary, but this time we change alnum_only to True because df_alpha masks all the non-alphanumeric tokens."
      ],
      "metadata": {
        "id": "QG_6e4jUaZqI"
      }
    },
    {
      "cell_type": "code",
      "source": [
        "d_alpha = {'example': \"attrib_vs_layer12_attn\", 'mean_cosine_sim': df_alpha.mean()[\"similarity normalized\"].round(6), \"mean_cosine_sim_ranks\":df_alpha.mean()[\"sim w/ ranks\"].round(6),\n",
        "        \"mean_kendall_tau\": df_alpha.mean()[\"kendalltau\"].round(6), \"mean_RBO\":df_alpha.mean()[\"rbo\"].round(6), 'mean_Jaccard_95th':df_alpha.mean()['Jaccard_sim_95th'].round(6), \"scaled\":True, \"alpha_only\":True}\n",
        "result_dataframe.append(d_alpha)"
      ],
      "metadata": {
        "id": "DYVy_3HlPTek"
      },
      "execution_count": null,
      "outputs": []
    },
    {
      "cell_type": "code",
      "source": [
        "df_alpha2.mean()"
      ],
      "metadata": {
        "colab": {
          "base_uri": "https://localhost:8080/"
        },
        "id": "u4akOqvPZdoa",
        "outputId": "118277ea-f8b6-4a9d-edb3-541871c39a66"
      },
      "execution_count": null,
      "outputs": [
        {
          "output_type": "execute_result",
          "data": {
            "text/plain": [
              "example                  5.500000\n",
              "similarity normalized    0.788616\n",
              "similarity raw           0.050220\n",
              "sim w/ ranks             0.980326\n",
              "kendalltau               0.800012\n",
              "rbo                      0.784876\n",
              "Jaccard_sim_95th         0.077165\n",
              "dtype: float64"
            ]
          },
          "metadata": {},
          "execution_count": 52
        }
      ]
    },
    {
      "cell_type": "markdown",
      "source": [
        "The same principle for d_alpha is applied here for the upper layers."
      ],
      "metadata": {
        "id": "RjUz53bqajFb"
      }
    },
    {
      "cell_type": "code",
      "source": [
        "d_alpha2 = {'example': \"attrib_vs_all_layer_attn\", 'mean_cosine_sim': df_alpha2.mean()[\"similarity normalized\"].round(6), \"mean_cosine_sim_ranks\":df_alpha2.mean()[\"sim w/ ranks\"].round(6),\n",
        "        \"mean_kendall_tau\": df_alpha2.mean()[\"kendalltau\"].round(6), \"mean_RBO\":df_alpha2.mean()[\"rbo\"].round(6), 'mean_Jaccard_95th':df_alpha2.mean()['Jaccard_sim_95th'].round(6), \"scaled\":True, \"alpha_only\":True}\n",
        "result_dataframe.append(d_alpha2)"
      ],
      "metadata": {
        "id": "XBikudz4Pd3o"
      },
      "execution_count": null,
      "outputs": []
    },
    {
      "cell_type": "markdown",
      "source": [
        "## Unscaled Versions"
      ],
      "metadata": {
        "id": "in_N4CznKzZF"
      }
    },
    {
      "cell_type": "markdown",
      "source": [
        "These two dictionaries store the unscaled summed attentions for layer 12 and all layers respectively. You can change the name and the path to suit your project."
      ],
      "metadata": {
        "id": "fMrIo9ophBUt"
      }
    },
    {
      "cell_type": "code",
      "source": [
        "# all_attentions_unscale_12 = torch.load('/content/drive/MyDrive/cogs402longformer/results/papers/full_attention_matrices/example_atten_dict_12_unscale.pt')\n",
        "# all_attentions_unscale_all = torch.load('/content/drive/MyDrive/cogs402longformer/results/papers/full_attention_matrices/example_atten_dict_all_unscale.pt')"
      ],
      "metadata": {
        "id": "uruAVE0XhNOk"
      },
      "execution_count": null,
      "outputs": []
    },
    {
      "cell_type": "markdown",
      "source": [
        "These two dictionaries store the unscaled summed attentions for the layers 1-6 and 7-12 respectively. You can change the name and the path to suit your project"
      ],
      "metadata": {
        "id": "Wrri3dZoajIh"
      }
    },
    {
      "cell_type": "code",
      "source": [
        "# all_attentions_unscale_lower = torch.load('/content/drive/MyDrive/cogs402longformer/results/papers/full_attention_matrices/example_atten_dict_lower_unscale.pt')\n",
        "# all_attentions_unscale_upper = torch.load('/content/drive/MyDrive/cogs402longformer/results/papers/full_attention_matrices/example_atten_dict_upper_unscale.pt')"
      ],
      "metadata": {
        "id": "4lAQkA7wk27O"
      },
      "execution_count": null,
      "outputs": []
    },
    {
      "cell_type": "markdown",
      "source": [
        "The following block of code sums the attention in the same manner as the above [version](https://colab.research.google.com/drive/1-FZYN7yBm2jVsZds8Q4lydasdxJRe9zk#scrollTo=ZWeFQNW8MmJL&line=1&uniqifier=1), producing arrays of attention with shape (seq_len) and storing it in a dictionary.\n",
        "\n",
        "Feel free to skip this block of code if you have already imported your attentions."
      ],
      "metadata": {
        "id": "HO3nWkS1u71q"
      }
    },
    {
      "cell_type": "code",
      "source": [
        "all_attentions_unscale_one = {}\n",
        "all_attentions_unscale_two = {}\n",
        "for i in tqdm(range(len(cogs402_ds))):\n",
        "  if str(i) not in all_attentions_unscale_one and str(i) not in all_attentions_unscale_two:\n",
        "\n",
        "    att_mat = all_attentions[str(i)]\n",
        "\n",
        "    # Sum the attentions for the last layer and over all layers\n",
        "    att_mat_one = att_mat.sum(axis=1)\n",
        "    att_mat_one = att_mat_one.sum(axis=0)\n",
        "    all_attentions_unscale_one[str(i)] = att_mat_one\n",
        "\n",
        "    #template for single layer\n",
        "    attention_single_layer = att_mat[11].sum(axis=0)\n",
        "    all_attentions_unscale_two[str(i)] = attention_single_layer\n",
        "    \n",
        "#     torch.save(all_attentions_unscale_lower, '/content/drive/MyDrive/cogs402longformer/results/papers/papers_attributions/full_attention_matrices/example_atten_dict_lower_unscale.pt')\n",
        "#     torch.save(all_attentions_unscale_upper, '/content/drive/MyDrive/cogs402longformer/results/papers/papers_attributions/full_attention_matrices/example_atten_dict_upper_unscale.pt')"
      ],
      "metadata": {
        "colab": {
          "base_uri": "https://localhost:8080/"
        },
        "id": "nMpNSHvMZpy0",
        "outputId": "e6b0ef6f-b08b-4686-8fc0-2c0296fb0a0e"
      },
      "execution_count": null,
      "outputs": [
        {
          "output_type": "stream",
          "name": "stderr",
          "text": [
            "100%|██████████| 12/12 [00:00<00:00, 2881.53it/s]\n"
          ]
        }
      ]
    },
    {
      "cell_type": "markdown",
      "source": [
        "We use the same functions we create previously [above](https://colab.research.google.com/drive/1-FZYN7yBm2jVsZds8Q4lydasdxJRe9zk#scrollTo=dmKF8EBP2Nqz&line=11&uniqifier=1) to get dataframes which we can use to get the mean or the max."
      ],
      "metadata": {
        "id": "Ntic7Vv4MTHY"
      }
    },
    {
      "cell_type": "code",
      "source": [
        "df_unscale = get_sim_dataframe(cogs402_ds, all_attentions_unscale_two, all_attributions)\n",
        "df_unscale2 = get_sim_dataframe(cogs402_ds, all_attentions_unscale_one, all_attributions)"
      ],
      "metadata": {
        "colab": {
          "base_uri": "https://localhost:8080/"
        },
        "id": "Zzxb8qDXkt-S",
        "outputId": "f92ea6d6-26d3-4897-92ae-f1c61bfabcb3"
      },
      "execution_count": null,
      "outputs": [
        {
          "output_type": "stream",
          "name": "stderr",
          "text": [
            "100%|██████████| 12/12 [00:00<00:00, 180.52it/s]\n",
            "100%|██████████| 12/12 [00:00<00:00, 169.87it/s]\n"
          ]
        }
      ]
    },
    {
      "cell_type": "code",
      "source": [
        "df_unscale.mean()"
      ],
      "metadata": {
        "colab": {
          "base_uri": "https://localhost:8080/"
        },
        "id": "5R6CNQz5npSQ",
        "outputId": "75b32f15-b091-4c9e-c66b-818be343310b"
      },
      "execution_count": null,
      "outputs": [
        {
          "output_type": "execute_result",
          "data": {
            "text/plain": [
              "example                  5.500000\n",
              "similarity normalized    0.747970\n",
              "similarity raw           0.049806\n",
              "sim w/ ranks             0.760713\n",
              "Jaccard_sim              0.045799\n",
              "kendalltau               0.029055\n",
              "rbo                      0.510244\n",
              "jaccard sim 95th         0.029960\n",
              "dtype: float64"
            ]
          },
          "metadata": {},
          "execution_count": 58
        }
      ]
    },
    {
      "cell_type": "markdown",
      "source": [
        "We set the value of scaled to False and alnum to False given that we did not scale the attentions when getting the similarities in df_unscale nor did we mask the non-alphanumeric tokens."
      ],
      "metadata": {
        "id": "64cIeyEzapTs"
      }
    },
    {
      "cell_type": "code",
      "source": [
        "d_unscale = {'example': \"attrib_vs_layer12_attn\", 'mean_cosine_sim': df_unscale.mean()[\"similarity normalized\"].round(6), \"mean_cosine_sim_ranks\":df_unscale.mean()[\"sim w/ ranks\"].round(6),\n",
        "        \"mean_kendall_tau\": df_unscale.mean()[\"kendalltau\"].round(6), \"mean_RBO\":df_unscale.mean()[\"rbo\"].round(6), 'mean_Jaccard_95th':df_unscale.mean()['jaccard sim 95th'].round(6), \"scaled\":False, \"alpha_only\":False}\n",
        "result_dataframe.append(d_unscale)"
      ],
      "metadata": {
        "id": "SeiwUePGPjnL"
      },
      "execution_count": null,
      "outputs": []
    },
    {
      "cell_type": "markdown",
      "source": [
        "The same principle for d_unscale is applied here, but for the other example (in our case the upper layers)."
      ],
      "metadata": {
        "id": "KM9CvxinbLXU"
      }
    },
    {
      "cell_type": "code",
      "source": [
        "df_unscale2.mean()"
      ],
      "metadata": {
        "colab": {
          "base_uri": "https://localhost:8080/"
        },
        "id": "yJKEhyEonuNI",
        "outputId": "2ce9152d-535e-47bb-b7a3-ac7d46e0bec7"
      },
      "execution_count": null,
      "outputs": [
        {
          "output_type": "execute_result",
          "data": {
            "text/plain": [
              "example                  5.500000\n",
              "similarity normalized    0.753127\n",
              "similarity raw           0.049948\n",
              "sim w/ ranks             0.765988\n",
              "Jaccard_sim              0.052316\n",
              "kendalltau               0.043242\n",
              "rbo                      0.516092\n",
              "jaccard sim 95th         0.033171\n",
              "dtype: float64"
            ]
          },
          "metadata": {},
          "execution_count": 60
        }
      ]
    },
    {
      "cell_type": "code",
      "source": [
        "d_unscale2 = {'example': \"attrib_vs_all_layer_attn\", 'mean_cosine_sim': df_unscale2.mean()[\"similarity normalized\"].round(6), \"mean_cosine_sim_ranks\":df_unscale2.mean()[\"sim w/ ranks\"].round(6),\n",
        "        \"mean_kendall_tau\": df_unscale2.mean()[\"kendalltau\"].round(6), \"mean_RBO\":df_unscale2.mean()[\"rbo\"].round(6), 'mean_Jaccard_95th':df_unscale2.mean()['jaccard sim 95th'].round(6), \"scaled\":False, \"alpha_only\":False}\n",
        "result_dataframe.append(d_unscale2)"
      ],
      "metadata": {
        "id": "GeHomiB0PrFd"
      },
      "execution_count": null,
      "outputs": []
    },
    {
      "cell_type": "markdown",
      "source": [
        "### Alphanumeric Tokens only"
      ],
      "metadata": {
        "id": "o67UKUOvMrxs"
      }
    },
    {
      "cell_type": "markdown",
      "source": [
        "We use the function we created earlier [above] in order to get the dataframe with our similarities using alphanumeric inputs only."
      ],
      "metadata": {
        "id": "zL8GKBCEMxU9"
      }
    },
    {
      "cell_type": "code",
      "source": [
        "df_unscale_alpha = get_sim_dataframe_alpha(cogs402_ds, all_attentions_unscale_two, all_attributions)"
      ],
      "metadata": {
        "colab": {
          "base_uri": "https://localhost:8080/"
        },
        "id": "9kTlwzd1sve4",
        "outputId": "3cc3596b-62e2-40a0-b4bb-c9e97cdf49ac"
      },
      "execution_count": null,
      "outputs": [
        {
          "output_type": "stream",
          "name": "stderr",
          "text": [
            "100%|██████████| 12/12 [00:00<00:00, 47.25it/s]\n"
          ]
        }
      ]
    },
    {
      "cell_type": "code",
      "source": [
        "df_unscale_alpha2 = get_sim_dataframe_alpha(cogs402_ds, all_attentions_unscale_one, all_attributions)"
      ],
      "metadata": {
        "colab": {
          "base_uri": "https://localhost:8080/"
        },
        "id": "VCqPMGqgs4Cg",
        "outputId": "3124c7c9-e374-4cbe-b0af-ee9b4e6aefac"
      },
      "execution_count": null,
      "outputs": [
        {
          "output_type": "stream",
          "name": "stderr",
          "text": [
            "100%|██████████| 12/12 [00:00<00:00, 48.12it/s]\n"
          ]
        }
      ]
    },
    {
      "cell_type": "code",
      "source": [
        "df_unscale_alpha.mean()"
      ],
      "metadata": {
        "colab": {
          "base_uri": "https://localhost:8080/"
        },
        "id": "aAXTz9nkt0xu",
        "outputId": "a0a9094e-f0f8-4095-a52d-76f8b69944e6"
      },
      "execution_count": null,
      "outputs": [
        {
          "output_type": "execute_result",
          "data": {
            "text/plain": [
              "example                  5.500000\n",
              "similarity normalized    0.788411\n",
              "similarity raw           0.049806\n",
              "sim w/ ranks             0.980266\n",
              "kendalltau               0.798285\n",
              "rbo                      0.783792\n",
              "Jaccard_sim_95th         0.077503\n",
              "dtype: float64"
            ]
          },
          "metadata": {},
          "execution_count": 64
        }
      ]
    },
    {
      "cell_type": "markdown",
      "source": [
        "Here we are both leaving the attentions unscaled and masking all the non_alphanumeric tokens, so we appropriately set scaled to False and \"alnum_only\" to True."
      ],
      "metadata": {
        "id": "2ge0lExJbQag"
      }
    },
    {
      "cell_type": "code",
      "source": [
        "d_unscale_alpha = {'example': \"attrib_vs_layer12_attn\", 'mean_cosine_sim': df_unscale_alpha.mean()[\"similarity normalized\"].round(6), \"mean_cosine_sim_ranks\":df_unscale_alpha.mean()[\"sim w/ ranks\"].round(6),\n",
        "        \"mean_kendall_tau\": df_unscale_alpha.mean()[\"kendalltau\"].round(6), \"mean_RBO\":df_unscale_alpha.mean()[\"rbo\"].round(6), 'mean_Jaccard_95th':df_unscale_alpha.mean()['Jaccard_sim_95th'].round(6), \"scaled\":False, \"alpha_only\":True}\n",
        "result_dataframe.append(d_unscale_alpha)"
      ],
      "metadata": {
        "id": "rJwffxvuQKtc"
      },
      "execution_count": null,
      "outputs": []
    },
    {
      "cell_type": "markdown",
      "source": [
        "The same principle for d_unscale is applied here, but for the other example (in our case the upper layers)."
      ],
      "metadata": {
        "id": "dhTLMBuNM-uz"
      }
    },
    {
      "cell_type": "code",
      "source": [
        "df_unscale_alpha2.mean()"
      ],
      "metadata": {
        "colab": {
          "base_uri": "https://localhost:8080/"
        },
        "id": "KYP_JvItt3eL",
        "outputId": "0c7854d9-e3c7-41a1-f062-a07134e8ad4a"
      },
      "execution_count": null,
      "outputs": [
        {
          "output_type": "execute_result",
          "data": {
            "text/plain": [
              "example                  5.500000\n",
              "similarity normalized    0.788817\n",
              "similarity raw           0.049948\n",
              "sim w/ ranks             0.980448\n",
              "kendalltau               0.800760\n",
              "rbo                      0.785255\n",
              "Jaccard_sim_95th         0.077799\n",
              "dtype: float64"
            ]
          },
          "metadata": {},
          "execution_count": 66
        }
      ]
    },
    {
      "cell_type": "code",
      "source": [
        "d_unscale_alpha2 = {'example': \"attrib_vs_all_layer_attn\", 'mean_cosine_sim': df_unscale_alpha2.mean()[\"similarity normalized\"].round(6), \n",
        "                    \"mean_cosine_sim_ranks\":df_unscale_alpha2.mean()[\"sim w/ ranks\"].round(6),\n",
        "                    \"mean_kendall_tau\": df_unscale_alpha2.mean()[\"kendalltau\"].round(6), \n",
        "                    \"mean_RBO\":df_unscale_alpha2.mean()[\"rbo\"].round(6), \n",
        "                    'mean_Jaccard_95th':df_unscale_alpha2.mean()['Jaccard_sim_95th'].round(6),\n",
        "                    \"scaled\":False, \"alpha_only\":True}\n",
        "result_dataframe.append(d_unscale_alpha2)"
      ],
      "metadata": {
        "id": "2hN3281WPyO8"
      },
      "execution_count": null,
      "outputs": []
    },
    {
      "cell_type": "markdown",
      "source": [
        "## Saving the End Results"
      ],
      "metadata": {
        "id": "SMvfB3aRZtl_"
      }
    },
    {
      "cell_type": "markdown",
      "source": [
        "Finally, we can combine our results into a single dataframe to store our data and be able to easily access our results. We sort our examples by name and whether or not they are scaled to keep it as organized as possible."
      ],
      "metadata": {
        "id": "QPQE-Sf4Qu2C"
      }
    },
    {
      "cell_type": "code",
      "source": [
        "df_new = pd.DataFrame(result_dataframe)\n",
        "df_new = df_new.sort_values(['example', 'scaled'],\n",
        "              ascending = [True, True])\n",
        "df_new"
      ],
      "metadata": {
        "colab": {
          "base_uri": "https://localhost:8080/",
          "height": 300
        },
        "id": "1WCxYo_uJ94H",
        "outputId": "94a11c44-797f-43e5-dbdf-134a909413a1"
      },
      "execution_count": null,
      "outputs": [
        {
          "output_type": "execute_result",
          "data": {
            "text/plain": [
              "                    example  mean_cosine_sim  mean_cosine_sim_ranks  \\\n",
              "5  attrib_vs_all_layer_attn         0.753127               0.765988   \n",
              "7  attrib_vs_all_layer_attn         0.788817               0.980448   \n",
              "1  attrib_vs_all_layer_attn         0.753831               0.766420   \n",
              "3  attrib_vs_all_layer_attn         0.788616               0.980326   \n",
              "4    attrib_vs_layer12_attn         0.747970               0.760713   \n",
              "6    attrib_vs_layer12_attn         0.788411               0.980266   \n",
              "0    attrib_vs_layer12_attn         0.741397               0.759820   \n",
              "2    attrib_vs_layer12_attn         0.786079               0.980007   \n",
              "\n",
              "   mean_kendall_tau  mean_RBO  mean_Jaccard_95th  scaled  alpha_only  \n",
              "5          0.043242  0.516092           0.033171   False       False  \n",
              "7          0.800760  0.785255           0.077799   False        True  \n",
              "1          0.044457  0.516442           0.033743    True       False  \n",
              "3          0.800012  0.784876           0.077165    True        True  \n",
              "4          0.029055  0.510244           0.029960   False       False  \n",
              "6          0.798285  0.783792           0.077503   False        True  \n",
              "0          0.026671  0.509543           0.027783    True       False  \n",
              "2          0.795501  0.782117           0.079579    True        True  "
            ],
            "text/html": [
              "\n",
              "  <div id=\"df-eb0d003f-dcfc-47a1-a233-95c44b321e4b\">\n",
              "    <div class=\"colab-df-container\">\n",
              "      <div>\n",
              "<style scoped>\n",
              "    .dataframe tbody tr th:only-of-type {\n",
              "        vertical-align: middle;\n",
              "    }\n",
              "\n",
              "    .dataframe tbody tr th {\n",
              "        vertical-align: top;\n",
              "    }\n",
              "\n",
              "    .dataframe thead th {\n",
              "        text-align: right;\n",
              "    }\n",
              "</style>\n",
              "<table border=\"1\" class=\"dataframe\">\n",
              "  <thead>\n",
              "    <tr style=\"text-align: right;\">\n",
              "      <th></th>\n",
              "      <th>example</th>\n",
              "      <th>mean_cosine_sim</th>\n",
              "      <th>mean_cosine_sim_ranks</th>\n",
              "      <th>mean_kendall_tau</th>\n",
              "      <th>mean_RBO</th>\n",
              "      <th>mean_Jaccard_95th</th>\n",
              "      <th>scaled</th>\n",
              "      <th>alpha_only</th>\n",
              "    </tr>\n",
              "  </thead>\n",
              "  <tbody>\n",
              "    <tr>\n",
              "      <th>5</th>\n",
              "      <td>attrib_vs_all_layer_attn</td>\n",
              "      <td>0.753127</td>\n",
              "      <td>0.765988</td>\n",
              "      <td>0.043242</td>\n",
              "      <td>0.516092</td>\n",
              "      <td>0.033171</td>\n",
              "      <td>False</td>\n",
              "      <td>False</td>\n",
              "    </tr>\n",
              "    <tr>\n",
              "      <th>7</th>\n",
              "      <td>attrib_vs_all_layer_attn</td>\n",
              "      <td>0.788817</td>\n",
              "      <td>0.980448</td>\n",
              "      <td>0.800760</td>\n",
              "      <td>0.785255</td>\n",
              "      <td>0.077799</td>\n",
              "      <td>False</td>\n",
              "      <td>True</td>\n",
              "    </tr>\n",
              "    <tr>\n",
              "      <th>1</th>\n",
              "      <td>attrib_vs_all_layer_attn</td>\n",
              "      <td>0.753831</td>\n",
              "      <td>0.766420</td>\n",
              "      <td>0.044457</td>\n",
              "      <td>0.516442</td>\n",
              "      <td>0.033743</td>\n",
              "      <td>True</td>\n",
              "      <td>False</td>\n",
              "    </tr>\n",
              "    <tr>\n",
              "      <th>3</th>\n",
              "      <td>attrib_vs_all_layer_attn</td>\n",
              "      <td>0.788616</td>\n",
              "      <td>0.980326</td>\n",
              "      <td>0.800012</td>\n",
              "      <td>0.784876</td>\n",
              "      <td>0.077165</td>\n",
              "      <td>True</td>\n",
              "      <td>True</td>\n",
              "    </tr>\n",
              "    <tr>\n",
              "      <th>4</th>\n",
              "      <td>attrib_vs_layer12_attn</td>\n",
              "      <td>0.747970</td>\n",
              "      <td>0.760713</td>\n",
              "      <td>0.029055</td>\n",
              "      <td>0.510244</td>\n",
              "      <td>0.029960</td>\n",
              "      <td>False</td>\n",
              "      <td>False</td>\n",
              "    </tr>\n",
              "    <tr>\n",
              "      <th>6</th>\n",
              "      <td>attrib_vs_layer12_attn</td>\n",
              "      <td>0.788411</td>\n",
              "      <td>0.980266</td>\n",
              "      <td>0.798285</td>\n",
              "      <td>0.783792</td>\n",
              "      <td>0.077503</td>\n",
              "      <td>False</td>\n",
              "      <td>True</td>\n",
              "    </tr>\n",
              "    <tr>\n",
              "      <th>0</th>\n",
              "      <td>attrib_vs_layer12_attn</td>\n",
              "      <td>0.741397</td>\n",
              "      <td>0.759820</td>\n",
              "      <td>0.026671</td>\n",
              "      <td>0.509543</td>\n",
              "      <td>0.027783</td>\n",
              "      <td>True</td>\n",
              "      <td>False</td>\n",
              "    </tr>\n",
              "    <tr>\n",
              "      <th>2</th>\n",
              "      <td>attrib_vs_layer12_attn</td>\n",
              "      <td>0.786079</td>\n",
              "      <td>0.980007</td>\n",
              "      <td>0.795501</td>\n",
              "      <td>0.782117</td>\n",
              "      <td>0.079579</td>\n",
              "      <td>True</td>\n",
              "      <td>True</td>\n",
              "    </tr>\n",
              "  </tbody>\n",
              "</table>\n",
              "</div>\n",
              "      <button class=\"colab-df-convert\" onclick=\"convertToInteractive('df-eb0d003f-dcfc-47a1-a233-95c44b321e4b')\"\n",
              "              title=\"Convert this dataframe to an interactive table.\"\n",
              "              style=\"display:none;\">\n",
              "        \n",
              "  <svg xmlns=\"http://www.w3.org/2000/svg\" height=\"24px\"viewBox=\"0 0 24 24\"\n",
              "       width=\"24px\">\n",
              "    <path d=\"M0 0h24v24H0V0z\" fill=\"none\"/>\n",
              "    <path d=\"M18.56 5.44l.94 2.06.94-2.06 2.06-.94-2.06-.94-.94-2.06-.94 2.06-2.06.94zm-11 1L8.5 8.5l.94-2.06 2.06-.94-2.06-.94L8.5 2.5l-.94 2.06-2.06.94zm10 10l.94 2.06.94-2.06 2.06-.94-2.06-.94-.94-2.06-.94 2.06-2.06.94z\"/><path d=\"M17.41 7.96l-1.37-1.37c-.4-.4-.92-.59-1.43-.59-.52 0-1.04.2-1.43.59L10.3 9.45l-7.72 7.72c-.78.78-.78 2.05 0 2.83L4 21.41c.39.39.9.59 1.41.59.51 0 1.02-.2 1.41-.59l7.78-7.78 2.81-2.81c.8-.78.8-2.07 0-2.86zM5.41 20L4 18.59l7.72-7.72 1.47 1.35L5.41 20z\"/>\n",
              "  </svg>\n",
              "      </button>\n",
              "      \n",
              "  <style>\n",
              "    .colab-df-container {\n",
              "      display:flex;\n",
              "      flex-wrap:wrap;\n",
              "      gap: 12px;\n",
              "    }\n",
              "\n",
              "    .colab-df-convert {\n",
              "      background-color: #E8F0FE;\n",
              "      border: none;\n",
              "      border-radius: 50%;\n",
              "      cursor: pointer;\n",
              "      display: none;\n",
              "      fill: #1967D2;\n",
              "      height: 32px;\n",
              "      padding: 0 0 0 0;\n",
              "      width: 32px;\n",
              "    }\n",
              "\n",
              "    .colab-df-convert:hover {\n",
              "      background-color: #E2EBFA;\n",
              "      box-shadow: 0px 1px 2px rgba(60, 64, 67, 0.3), 0px 1px 3px 1px rgba(60, 64, 67, 0.15);\n",
              "      fill: #174EA6;\n",
              "    }\n",
              "\n",
              "    [theme=dark] .colab-df-convert {\n",
              "      background-color: #3B4455;\n",
              "      fill: #D2E3FC;\n",
              "    }\n",
              "\n",
              "    [theme=dark] .colab-df-convert:hover {\n",
              "      background-color: #434B5C;\n",
              "      box-shadow: 0px 1px 3px 1px rgba(0, 0, 0, 0.15);\n",
              "      filter: drop-shadow(0px 1px 2px rgba(0, 0, 0, 0.3));\n",
              "      fill: #FFFFFF;\n",
              "    }\n",
              "  </style>\n",
              "\n",
              "      <script>\n",
              "        const buttonEl =\n",
              "          document.querySelector('#df-eb0d003f-dcfc-47a1-a233-95c44b321e4b button.colab-df-convert');\n",
              "        buttonEl.style.display =\n",
              "          google.colab.kernel.accessAllowed ? 'block' : 'none';\n",
              "\n",
              "        async function convertToInteractive(key) {\n",
              "          const element = document.querySelector('#df-eb0d003f-dcfc-47a1-a233-95c44b321e4b');\n",
              "          const dataTable =\n",
              "            await google.colab.kernel.invokeFunction('convertToInteractive',\n",
              "                                                     [key], {});\n",
              "          if (!dataTable) return;\n",
              "\n",
              "          const docLinkHtml = 'Like what you see? Visit the ' +\n",
              "            '<a target=\"_blank\" href=https://colab.research.google.com/notebooks/data_table.ipynb>data table notebook</a>'\n",
              "            + ' to learn more about interactive tables.';\n",
              "          element.innerHTML = '';\n",
              "          dataTable['output_type'] = 'display_data';\n",
              "          await google.colab.output.renderOutput(dataTable, element);\n",
              "          const docLink = document.createElement('div');\n",
              "          docLink.innerHTML = docLinkHtml;\n",
              "          element.appendChild(docLink);\n",
              "        }\n",
              "      </script>\n",
              "    </div>\n",
              "  </div>\n",
              "  "
            ]
          },
          "metadata": {},
          "execution_count": 68
        }
      ]
    },
    {
      "cell_type": "markdown",
      "source": [
        "If you have a previous version of this dataframe, we can load the csv using pandas and add our new results onto the dataframe by using panda's concatenate function."
      ],
      "metadata": {
        "id": "-EU7Lo80SCNh"
      }
    },
    {
      "cell_type": "code",
      "source": [
        "# df_previous = pd.read_csv(\"/content/drive/MyDrive/cogs402longformer/results/papers/attrib_attn_sim/attrib_attn_sim_means.csv\")"
      ],
      "metadata": {
        "id": "DbVFk3Z4Q41Z"
      },
      "execution_count": null,
      "outputs": []
    },
    {
      "cell_type": "code",
      "source": [
        "# df_previous"
      ],
      "metadata": {
        "id": "z9Tpp6Evcdwy"
      },
      "execution_count": null,
      "outputs": []
    },
    {
      "cell_type": "code",
      "source": [
        "# df_previous.loc[(df_previous[\"alnum_only\"] == True)]"
      ],
      "metadata": {
        "id": "-eVM1aZoFLYI"
      },
      "execution_count": null,
      "outputs": []
    },
    {
      "cell_type": "code",
      "source": [
        "# df_previous.loc[(df_previous[\"alnum_only\"] == False)]"
      ],
      "metadata": {
        "id": "zI1A0DQLH7e1"
      },
      "execution_count": null,
      "outputs": []
    },
    {
      "cell_type": "markdown",
      "source": [
        "When we concatenate our two dataframes, we want to make sure we don't have any duplicate rows. We consider it a duplicate if two rows have the same example, have the same value for scaled, and the same value for alnum_only. If we find a do find duplicate rows based on the above conditions, the last occuring instance of the row, which is the instance that was obtained earlier in the notebook (and not the instance that was read from file), is kept in the dataframe."
      ],
      "metadata": {
        "id": "vvy8NkJYVeta"
      }
    },
    {
      "cell_type": "code",
      "source": [
        "# df_final = pd.concat([df_previous, df_new], ignore_index=True)"
      ],
      "metadata": {
        "id": "tFTC8GOsSdOj"
      },
      "execution_count": null,
      "outputs": []
    },
    {
      "cell_type": "code",
      "source": [
        "# df_final = df_final.drop_duplicates(['example', 'scaled', 'alnum_only'], keep='last').sort_values(['example', 'scaled'],\n",
        "#               ascending = [True, True])"
      ],
      "metadata": {
        "id": "GXKKUdO3WID4"
      },
      "execution_count": null,
      "outputs": []
    },
    {
      "cell_type": "code",
      "source": [
        "# df_final"
      ],
      "metadata": {
        "id": "LKt9BbUsUD-g"
      },
      "execution_count": null,
      "outputs": []
    },
    {
      "cell_type": "markdown",
      "source": [
        "Finally, we save this dataframe we made so we can either add on to this dataframe in future explorations, or take these results for other uses."
      ],
      "metadata": {
        "id": "QVtUSf1QSMwh"
      }
    },
    {
      "cell_type": "code",
      "source": [
        "# df_final.to_csv(\"/content/drive/MyDrive/cogs402longformer/results/papers/attrib_attn_sim/attrib_attn_sim_means.csv\", index=False)"
      ],
      "metadata": {
        "id": "AeDbwwDMRAnS"
      },
      "execution_count": null,
      "outputs": []
    }
  ],
  "metadata": {
    "file_extension": ".py",
    "kernelspec": {
      "display_name": "Python 3",
      "name": "python3"
    },
    "language_info": {
      "name": "python"
    },
    "mimetype": "text/x-python",
    "name": "python",
    "npconvert_exporter": "python",
    "pygments_lexer": "ipython3",
    "version": 3,
    "colab": {
      "provenance": [],
      "collapsed_sections": [],
      "machine_shape": "hm"
    },
    "accelerator": "GPU",
    "widgets": {
      "application/vnd.jupyter.widget-state+json": {
        "a4ca5acc9a504289a57d1801ab6ee6ab": {
          "model_module": "@jupyter-widgets/controls",
          "model_name": "HBoxModel",
          "model_module_version": "1.5.0",
          "state": {
            "_dom_classes": [],
            "_model_module": "@jupyter-widgets/controls",
            "_model_module_version": "1.5.0",
            "_model_name": "HBoxModel",
            "_view_count": null,
            "_view_module": "@jupyter-widgets/controls",
            "_view_module_version": "1.5.0",
            "_view_name": "HBoxView",
            "box_style": "",
            "children": [
              "IPY_MODEL_f9f690d41e1d4983b11428634068d944",
              "IPY_MODEL_0ce12ba6279e49bc99b08f8652038878",
              "IPY_MODEL_c1029b1c7cda4100a34e0c9a504c9f96"
            ],
            "layout": "IPY_MODEL_2c96242098004947ae9b7d76dd0810ea"
          }
        },
        "f9f690d41e1d4983b11428634068d944": {
          "model_module": "@jupyter-widgets/controls",
          "model_name": "HTMLModel",
          "model_module_version": "1.5.0",
          "state": {
            "_dom_classes": [],
            "_model_module": "@jupyter-widgets/controls",
            "_model_module_version": "1.5.0",
            "_model_name": "HTMLModel",
            "_view_count": null,
            "_view_module": "@jupyter-widgets/controls",
            "_view_module_version": "1.5.0",
            "_view_name": "HTMLView",
            "description": "",
            "description_tooltip": null,
            "layout": "IPY_MODEL_1fbc9235e52c477d8f632ddd2a4d0c0e",
            "placeholder": "​",
            "style": "IPY_MODEL_6174882bfbfb46c98a8b9b9341b9e156",
            "value": "Downloading config.json: 100%"
          }
        },
        "0ce12ba6279e49bc99b08f8652038878": {
          "model_module": "@jupyter-widgets/controls",
          "model_name": "FloatProgressModel",
          "model_module_version": "1.5.0",
          "state": {
            "_dom_classes": [],
            "_model_module": "@jupyter-widgets/controls",
            "_model_module_version": "1.5.0",
            "_model_name": "FloatProgressModel",
            "_view_count": null,
            "_view_module": "@jupyter-widgets/controls",
            "_view_module_version": "1.5.0",
            "_view_name": "ProgressView",
            "bar_style": "success",
            "description": "",
            "description_tooltip": null,
            "layout": "IPY_MODEL_fe4fc29eb6ab4f699999013a6cecde95",
            "max": 694,
            "min": 0,
            "orientation": "horizontal",
            "style": "IPY_MODEL_12cd22ab3fa645258df3cc994173bc7b",
            "value": 694
          }
        },
        "c1029b1c7cda4100a34e0c9a504c9f96": {
          "model_module": "@jupyter-widgets/controls",
          "model_name": "HTMLModel",
          "model_module_version": "1.5.0",
          "state": {
            "_dom_classes": [],
            "_model_module": "@jupyter-widgets/controls",
            "_model_module_version": "1.5.0",
            "_model_name": "HTMLModel",
            "_view_count": null,
            "_view_module": "@jupyter-widgets/controls",
            "_view_module_version": "1.5.0",
            "_view_name": "HTMLView",
            "description": "",
            "description_tooltip": null,
            "layout": "IPY_MODEL_0b87183e49c94ec0bdd352d1fca2b3a8",
            "placeholder": "​",
            "style": "IPY_MODEL_a3e7b2f5873740078f15c107b0a7dce1",
            "value": " 694/694 [00:00&lt;00:00, 24.4kB/s]"
          }
        },
        "2c96242098004947ae9b7d76dd0810ea": {
          "model_module": "@jupyter-widgets/base",
          "model_name": "LayoutModel",
          "model_module_version": "1.2.0",
          "state": {
            "_model_module": "@jupyter-widgets/base",
            "_model_module_version": "1.2.0",
            "_model_name": "LayoutModel",
            "_view_count": null,
            "_view_module": "@jupyter-widgets/base",
            "_view_module_version": "1.2.0",
            "_view_name": "LayoutView",
            "align_content": null,
            "align_items": null,
            "align_self": null,
            "border": null,
            "bottom": null,
            "display": null,
            "flex": null,
            "flex_flow": null,
            "grid_area": null,
            "grid_auto_columns": null,
            "grid_auto_flow": null,
            "grid_auto_rows": null,
            "grid_column": null,
            "grid_gap": null,
            "grid_row": null,
            "grid_template_areas": null,
            "grid_template_columns": null,
            "grid_template_rows": null,
            "height": null,
            "justify_content": null,
            "justify_items": null,
            "left": null,
            "margin": null,
            "max_height": null,
            "max_width": null,
            "min_height": null,
            "min_width": null,
            "object_fit": null,
            "object_position": null,
            "order": null,
            "overflow": null,
            "overflow_x": null,
            "overflow_y": null,
            "padding": null,
            "right": null,
            "top": null,
            "visibility": null,
            "width": null
          }
        },
        "1fbc9235e52c477d8f632ddd2a4d0c0e": {
          "model_module": "@jupyter-widgets/base",
          "model_name": "LayoutModel",
          "model_module_version": "1.2.0",
          "state": {
            "_model_module": "@jupyter-widgets/base",
            "_model_module_version": "1.2.0",
            "_model_name": "LayoutModel",
            "_view_count": null,
            "_view_module": "@jupyter-widgets/base",
            "_view_module_version": "1.2.0",
            "_view_name": "LayoutView",
            "align_content": null,
            "align_items": null,
            "align_self": null,
            "border": null,
            "bottom": null,
            "display": null,
            "flex": null,
            "flex_flow": null,
            "grid_area": null,
            "grid_auto_columns": null,
            "grid_auto_flow": null,
            "grid_auto_rows": null,
            "grid_column": null,
            "grid_gap": null,
            "grid_row": null,
            "grid_template_areas": null,
            "grid_template_columns": null,
            "grid_template_rows": null,
            "height": null,
            "justify_content": null,
            "justify_items": null,
            "left": null,
            "margin": null,
            "max_height": null,
            "max_width": null,
            "min_height": null,
            "min_width": null,
            "object_fit": null,
            "object_position": null,
            "order": null,
            "overflow": null,
            "overflow_x": null,
            "overflow_y": null,
            "padding": null,
            "right": null,
            "top": null,
            "visibility": null,
            "width": null
          }
        },
        "6174882bfbfb46c98a8b9b9341b9e156": {
          "model_module": "@jupyter-widgets/controls",
          "model_name": "DescriptionStyleModel",
          "model_module_version": "1.5.0",
          "state": {
            "_model_module": "@jupyter-widgets/controls",
            "_model_module_version": "1.5.0",
            "_model_name": "DescriptionStyleModel",
            "_view_count": null,
            "_view_module": "@jupyter-widgets/base",
            "_view_module_version": "1.2.0",
            "_view_name": "StyleView",
            "description_width": ""
          }
        },
        "fe4fc29eb6ab4f699999013a6cecde95": {
          "model_module": "@jupyter-widgets/base",
          "model_name": "LayoutModel",
          "model_module_version": "1.2.0",
          "state": {
            "_model_module": "@jupyter-widgets/base",
            "_model_module_version": "1.2.0",
            "_model_name": "LayoutModel",
            "_view_count": null,
            "_view_module": "@jupyter-widgets/base",
            "_view_module_version": "1.2.0",
            "_view_name": "LayoutView",
            "align_content": null,
            "align_items": null,
            "align_self": null,
            "border": null,
            "bottom": null,
            "display": null,
            "flex": null,
            "flex_flow": null,
            "grid_area": null,
            "grid_auto_columns": null,
            "grid_auto_flow": null,
            "grid_auto_rows": null,
            "grid_column": null,
            "grid_gap": null,
            "grid_row": null,
            "grid_template_areas": null,
            "grid_template_columns": null,
            "grid_template_rows": null,
            "height": null,
            "justify_content": null,
            "justify_items": null,
            "left": null,
            "margin": null,
            "max_height": null,
            "max_width": null,
            "min_height": null,
            "min_width": null,
            "object_fit": null,
            "object_position": null,
            "order": null,
            "overflow": null,
            "overflow_x": null,
            "overflow_y": null,
            "padding": null,
            "right": null,
            "top": null,
            "visibility": null,
            "width": null
          }
        },
        "12cd22ab3fa645258df3cc994173bc7b": {
          "model_module": "@jupyter-widgets/controls",
          "model_name": "ProgressStyleModel",
          "model_module_version": "1.5.0",
          "state": {
            "_model_module": "@jupyter-widgets/controls",
            "_model_module_version": "1.5.0",
            "_model_name": "ProgressStyleModel",
            "_view_count": null,
            "_view_module": "@jupyter-widgets/base",
            "_view_module_version": "1.2.0",
            "_view_name": "StyleView",
            "bar_color": null,
            "description_width": ""
          }
        },
        "0b87183e49c94ec0bdd352d1fca2b3a8": {
          "model_module": "@jupyter-widgets/base",
          "model_name": "LayoutModel",
          "model_module_version": "1.2.0",
          "state": {
            "_model_module": "@jupyter-widgets/base",
            "_model_module_version": "1.2.0",
            "_model_name": "LayoutModel",
            "_view_count": null,
            "_view_module": "@jupyter-widgets/base",
            "_view_module_version": "1.2.0",
            "_view_name": "LayoutView",
            "align_content": null,
            "align_items": null,
            "align_self": null,
            "border": null,
            "bottom": null,
            "display": null,
            "flex": null,
            "flex_flow": null,
            "grid_area": null,
            "grid_auto_columns": null,
            "grid_auto_flow": null,
            "grid_auto_rows": null,
            "grid_column": null,
            "grid_gap": null,
            "grid_row": null,
            "grid_template_areas": null,
            "grid_template_columns": null,
            "grid_template_rows": null,
            "height": null,
            "justify_content": null,
            "justify_items": null,
            "left": null,
            "margin": null,
            "max_height": null,
            "max_width": null,
            "min_height": null,
            "min_width": null,
            "object_fit": null,
            "object_position": null,
            "order": null,
            "overflow": null,
            "overflow_x": null,
            "overflow_y": null,
            "padding": null,
            "right": null,
            "top": null,
            "visibility": null,
            "width": null
          }
        },
        "a3e7b2f5873740078f15c107b0a7dce1": {
          "model_module": "@jupyter-widgets/controls",
          "model_name": "DescriptionStyleModel",
          "model_module_version": "1.5.0",
          "state": {
            "_model_module": "@jupyter-widgets/controls",
            "_model_module_version": "1.5.0",
            "_model_name": "DescriptionStyleModel",
            "_view_count": null,
            "_view_module": "@jupyter-widgets/base",
            "_view_module_version": "1.2.0",
            "_view_name": "StyleView",
            "description_width": ""
          }
        },
        "a2bc434ab4f74eb284a00c6d5d824ac2": {
          "model_module": "@jupyter-widgets/controls",
          "model_name": "HBoxModel",
          "model_module_version": "1.5.0",
          "state": {
            "_dom_classes": [],
            "_model_module": "@jupyter-widgets/controls",
            "_model_module_version": "1.5.0",
            "_model_name": "HBoxModel",
            "_view_count": null,
            "_view_module": "@jupyter-widgets/controls",
            "_view_module_version": "1.5.0",
            "_view_name": "HBoxView",
            "box_style": "",
            "children": [
              "IPY_MODEL_00e8f026d05349eb97d4550a92d1dc21",
              "IPY_MODEL_3b207420fa6b475f9e37510865fcd6f6",
              "IPY_MODEL_9be801bf09664c198b6ceef025717d2b"
            ],
            "layout": "IPY_MODEL_ec6c4bf50ebc4abda9bd62c720dafdd7"
          }
        },
        "00e8f026d05349eb97d4550a92d1dc21": {
          "model_module": "@jupyter-widgets/controls",
          "model_name": "HTMLModel",
          "model_module_version": "1.5.0",
          "state": {
            "_dom_classes": [],
            "_model_module": "@jupyter-widgets/controls",
            "_model_module_version": "1.5.0",
            "_model_name": "HTMLModel",
            "_view_count": null,
            "_view_module": "@jupyter-widgets/controls",
            "_view_module_version": "1.5.0",
            "_view_name": "HTMLView",
            "description": "",
            "description_tooltip": null,
            "layout": "IPY_MODEL_3b9bfa55f8fe48c2b97f5b443a22fac1",
            "placeholder": "​",
            "style": "IPY_MODEL_1098333214ce4244b4d5a8eaa426cfa3",
            "value": "Downloading pytorch_model.bin: 100%"
          }
        },
        "3b207420fa6b475f9e37510865fcd6f6": {
          "model_module": "@jupyter-widgets/controls",
          "model_name": "FloatProgressModel",
          "model_module_version": "1.5.0",
          "state": {
            "_dom_classes": [],
            "_model_module": "@jupyter-widgets/controls",
            "_model_module_version": "1.5.0",
            "_model_name": "FloatProgressModel",
            "_view_count": null,
            "_view_module": "@jupyter-widgets/controls",
            "_view_module_version": "1.5.0",
            "_view_name": "ProgressView",
            "bar_style": "success",
            "description": "",
            "description_tooltip": null,
            "layout": "IPY_MODEL_dd9b38904b4647faa760062ff21fcb88",
            "max": 597257159,
            "min": 0,
            "orientation": "horizontal",
            "style": "IPY_MODEL_3abb769086cb4387ae79192f3d6a3c0c",
            "value": 597257159
          }
        },
        "9be801bf09664c198b6ceef025717d2b": {
          "model_module": "@jupyter-widgets/controls",
          "model_name": "HTMLModel",
          "model_module_version": "1.5.0",
          "state": {
            "_dom_classes": [],
            "_model_module": "@jupyter-widgets/controls",
            "_model_module_version": "1.5.0",
            "_model_name": "HTMLModel",
            "_view_count": null,
            "_view_module": "@jupyter-widgets/controls",
            "_view_module_version": "1.5.0",
            "_view_name": "HTMLView",
            "description": "",
            "description_tooltip": null,
            "layout": "IPY_MODEL_2dfb547faac841129de51d202da48a5a",
            "placeholder": "​",
            "style": "IPY_MODEL_589cf4b586324e54a7590b7f530f1df5",
            "value": " 570M/570M [00:32&lt;00:00, 19.8MB/s]"
          }
        },
        "ec6c4bf50ebc4abda9bd62c720dafdd7": {
          "model_module": "@jupyter-widgets/base",
          "model_name": "LayoutModel",
          "model_module_version": "1.2.0",
          "state": {
            "_model_module": "@jupyter-widgets/base",
            "_model_module_version": "1.2.0",
            "_model_name": "LayoutModel",
            "_view_count": null,
            "_view_module": "@jupyter-widgets/base",
            "_view_module_version": "1.2.0",
            "_view_name": "LayoutView",
            "align_content": null,
            "align_items": null,
            "align_self": null,
            "border": null,
            "bottom": null,
            "display": null,
            "flex": null,
            "flex_flow": null,
            "grid_area": null,
            "grid_auto_columns": null,
            "grid_auto_flow": null,
            "grid_auto_rows": null,
            "grid_column": null,
            "grid_gap": null,
            "grid_row": null,
            "grid_template_areas": null,
            "grid_template_columns": null,
            "grid_template_rows": null,
            "height": null,
            "justify_content": null,
            "justify_items": null,
            "left": null,
            "margin": null,
            "max_height": null,
            "max_width": null,
            "min_height": null,
            "min_width": null,
            "object_fit": null,
            "object_position": null,
            "order": null,
            "overflow": null,
            "overflow_x": null,
            "overflow_y": null,
            "padding": null,
            "right": null,
            "top": null,
            "visibility": null,
            "width": null
          }
        },
        "3b9bfa55f8fe48c2b97f5b443a22fac1": {
          "model_module": "@jupyter-widgets/base",
          "model_name": "LayoutModel",
          "model_module_version": "1.2.0",
          "state": {
            "_model_module": "@jupyter-widgets/base",
            "_model_module_version": "1.2.0",
            "_model_name": "LayoutModel",
            "_view_count": null,
            "_view_module": "@jupyter-widgets/base",
            "_view_module_version": "1.2.0",
            "_view_name": "LayoutView",
            "align_content": null,
            "align_items": null,
            "align_self": null,
            "border": null,
            "bottom": null,
            "display": null,
            "flex": null,
            "flex_flow": null,
            "grid_area": null,
            "grid_auto_columns": null,
            "grid_auto_flow": null,
            "grid_auto_rows": null,
            "grid_column": null,
            "grid_gap": null,
            "grid_row": null,
            "grid_template_areas": null,
            "grid_template_columns": null,
            "grid_template_rows": null,
            "height": null,
            "justify_content": null,
            "justify_items": null,
            "left": null,
            "margin": null,
            "max_height": null,
            "max_width": null,
            "min_height": null,
            "min_width": null,
            "object_fit": null,
            "object_position": null,
            "order": null,
            "overflow": null,
            "overflow_x": null,
            "overflow_y": null,
            "padding": null,
            "right": null,
            "top": null,
            "visibility": null,
            "width": null
          }
        },
        "1098333214ce4244b4d5a8eaa426cfa3": {
          "model_module": "@jupyter-widgets/controls",
          "model_name": "DescriptionStyleModel",
          "model_module_version": "1.5.0",
          "state": {
            "_model_module": "@jupyter-widgets/controls",
            "_model_module_version": "1.5.0",
            "_model_name": "DescriptionStyleModel",
            "_view_count": null,
            "_view_module": "@jupyter-widgets/base",
            "_view_module_version": "1.2.0",
            "_view_name": "StyleView",
            "description_width": ""
          }
        },
        "dd9b38904b4647faa760062ff21fcb88": {
          "model_module": "@jupyter-widgets/base",
          "model_name": "LayoutModel",
          "model_module_version": "1.2.0",
          "state": {
            "_model_module": "@jupyter-widgets/base",
            "_model_module_version": "1.2.0",
            "_model_name": "LayoutModel",
            "_view_count": null,
            "_view_module": "@jupyter-widgets/base",
            "_view_module_version": "1.2.0",
            "_view_name": "LayoutView",
            "align_content": null,
            "align_items": null,
            "align_self": null,
            "border": null,
            "bottom": null,
            "display": null,
            "flex": null,
            "flex_flow": null,
            "grid_area": null,
            "grid_auto_columns": null,
            "grid_auto_flow": null,
            "grid_auto_rows": null,
            "grid_column": null,
            "grid_gap": null,
            "grid_row": null,
            "grid_template_areas": null,
            "grid_template_columns": null,
            "grid_template_rows": null,
            "height": null,
            "justify_content": null,
            "justify_items": null,
            "left": null,
            "margin": null,
            "max_height": null,
            "max_width": null,
            "min_height": null,
            "min_width": null,
            "object_fit": null,
            "object_position": null,
            "order": null,
            "overflow": null,
            "overflow_x": null,
            "overflow_y": null,
            "padding": null,
            "right": null,
            "top": null,
            "visibility": null,
            "width": null
          }
        },
        "3abb769086cb4387ae79192f3d6a3c0c": {
          "model_module": "@jupyter-widgets/controls",
          "model_name": "ProgressStyleModel",
          "model_module_version": "1.5.0",
          "state": {
            "_model_module": "@jupyter-widgets/controls",
            "_model_module_version": "1.5.0",
            "_model_name": "ProgressStyleModel",
            "_view_count": null,
            "_view_module": "@jupyter-widgets/base",
            "_view_module_version": "1.2.0",
            "_view_name": "StyleView",
            "bar_color": null,
            "description_width": ""
          }
        },
        "2dfb547faac841129de51d202da48a5a": {
          "model_module": "@jupyter-widgets/base",
          "model_name": "LayoutModel",
          "model_module_version": "1.2.0",
          "state": {
            "_model_module": "@jupyter-widgets/base",
            "_model_module_version": "1.2.0",
            "_model_name": "LayoutModel",
            "_view_count": null,
            "_view_module": "@jupyter-widgets/base",
            "_view_module_version": "1.2.0",
            "_view_name": "LayoutView",
            "align_content": null,
            "align_items": null,
            "align_self": null,
            "border": null,
            "bottom": null,
            "display": null,
            "flex": null,
            "flex_flow": null,
            "grid_area": null,
            "grid_auto_columns": null,
            "grid_auto_flow": null,
            "grid_auto_rows": null,
            "grid_column": null,
            "grid_gap": null,
            "grid_row": null,
            "grid_template_areas": null,
            "grid_template_columns": null,
            "grid_template_rows": null,
            "height": null,
            "justify_content": null,
            "justify_items": null,
            "left": null,
            "margin": null,
            "max_height": null,
            "max_width": null,
            "min_height": null,
            "min_width": null,
            "object_fit": null,
            "object_position": null,
            "order": null,
            "overflow": null,
            "overflow_x": null,
            "overflow_y": null,
            "padding": null,
            "right": null,
            "top": null,
            "visibility": null,
            "width": null
          }
        },
        "589cf4b586324e54a7590b7f530f1df5": {
          "model_module": "@jupyter-widgets/controls",
          "model_name": "DescriptionStyleModel",
          "model_module_version": "1.5.0",
          "state": {
            "_model_module": "@jupyter-widgets/controls",
            "_model_module_version": "1.5.0",
            "_model_name": "DescriptionStyleModel",
            "_view_count": null,
            "_view_module": "@jupyter-widgets/base",
            "_view_module_version": "1.2.0",
            "_view_name": "StyleView",
            "description_width": ""
          }
        },
        "6b692e06eb9c4e5e903754f472df8a4b": {
          "model_module": "@jupyter-widgets/controls",
          "model_name": "HBoxModel",
          "model_module_version": "1.5.0",
          "state": {
            "_dom_classes": [],
            "_model_module": "@jupyter-widgets/controls",
            "_model_module_version": "1.5.0",
            "_model_name": "HBoxModel",
            "_view_count": null,
            "_view_module": "@jupyter-widgets/controls",
            "_view_module_version": "1.5.0",
            "_view_name": "HBoxView",
            "box_style": "",
            "children": [
              "IPY_MODEL_81f9f4f7f23347d2b2659126bf7749e2",
              "IPY_MODEL_9fd3092433a7410a9745aa803472b766",
              "IPY_MODEL_58a08ada5fb84607974fa3c7494de377"
            ],
            "layout": "IPY_MODEL_0b9a262c885040d680ac3233b5963d9b"
          }
        },
        "81f9f4f7f23347d2b2659126bf7749e2": {
          "model_module": "@jupyter-widgets/controls",
          "model_name": "HTMLModel",
          "model_module_version": "1.5.0",
          "state": {
            "_dom_classes": [],
            "_model_module": "@jupyter-widgets/controls",
            "_model_module_version": "1.5.0",
            "_model_name": "HTMLModel",
            "_view_count": null,
            "_view_module": "@jupyter-widgets/controls",
            "_view_module_version": "1.5.0",
            "_view_name": "HTMLView",
            "description": "",
            "description_tooltip": null,
            "layout": "IPY_MODEL_965c56376d6a4f89aa7f766daed1ef20",
            "placeholder": "​",
            "style": "IPY_MODEL_a240d3a6ae2942f6935677ebe8bee739",
            "value": "Downloading vocab.json: 100%"
          }
        },
        "9fd3092433a7410a9745aa803472b766": {
          "model_module": "@jupyter-widgets/controls",
          "model_name": "FloatProgressModel",
          "model_module_version": "1.5.0",
          "state": {
            "_dom_classes": [],
            "_model_module": "@jupyter-widgets/controls",
            "_model_module_version": "1.5.0",
            "_model_name": "FloatProgressModel",
            "_view_count": null,
            "_view_module": "@jupyter-widgets/controls",
            "_view_module_version": "1.5.0",
            "_view_name": "ProgressView",
            "bar_style": "success",
            "description": "",
            "description_tooltip": null,
            "layout": "IPY_MODEL_7a03482eefcc42358a10fbad62382222",
            "max": 898823,
            "min": 0,
            "orientation": "horizontal",
            "style": "IPY_MODEL_3b41a6ee64bd4be3b4380953eb14d23a",
            "value": 898823
          }
        },
        "58a08ada5fb84607974fa3c7494de377": {
          "model_module": "@jupyter-widgets/controls",
          "model_name": "HTMLModel",
          "model_module_version": "1.5.0",
          "state": {
            "_dom_classes": [],
            "_model_module": "@jupyter-widgets/controls",
            "_model_module_version": "1.5.0",
            "_model_name": "HTMLModel",
            "_view_count": null,
            "_view_module": "@jupyter-widgets/controls",
            "_view_module_version": "1.5.0",
            "_view_name": "HTMLView",
            "description": "",
            "description_tooltip": null,
            "layout": "IPY_MODEL_85f0d8bf654643ca811962ec1a90240c",
            "placeholder": "​",
            "style": "IPY_MODEL_72ccfbb03cef4aa799fc01dc737da5cb",
            "value": " 878k/878k [00:01&lt;00:00, 1.22MB/s]"
          }
        },
        "0b9a262c885040d680ac3233b5963d9b": {
          "model_module": "@jupyter-widgets/base",
          "model_name": "LayoutModel",
          "model_module_version": "1.2.0",
          "state": {
            "_model_module": "@jupyter-widgets/base",
            "_model_module_version": "1.2.0",
            "_model_name": "LayoutModel",
            "_view_count": null,
            "_view_module": "@jupyter-widgets/base",
            "_view_module_version": "1.2.0",
            "_view_name": "LayoutView",
            "align_content": null,
            "align_items": null,
            "align_self": null,
            "border": null,
            "bottom": null,
            "display": null,
            "flex": null,
            "flex_flow": null,
            "grid_area": null,
            "grid_auto_columns": null,
            "grid_auto_flow": null,
            "grid_auto_rows": null,
            "grid_column": null,
            "grid_gap": null,
            "grid_row": null,
            "grid_template_areas": null,
            "grid_template_columns": null,
            "grid_template_rows": null,
            "height": null,
            "justify_content": null,
            "justify_items": null,
            "left": null,
            "margin": null,
            "max_height": null,
            "max_width": null,
            "min_height": null,
            "min_width": null,
            "object_fit": null,
            "object_position": null,
            "order": null,
            "overflow": null,
            "overflow_x": null,
            "overflow_y": null,
            "padding": null,
            "right": null,
            "top": null,
            "visibility": null,
            "width": null
          }
        },
        "965c56376d6a4f89aa7f766daed1ef20": {
          "model_module": "@jupyter-widgets/base",
          "model_name": "LayoutModel",
          "model_module_version": "1.2.0",
          "state": {
            "_model_module": "@jupyter-widgets/base",
            "_model_module_version": "1.2.0",
            "_model_name": "LayoutModel",
            "_view_count": null,
            "_view_module": "@jupyter-widgets/base",
            "_view_module_version": "1.2.0",
            "_view_name": "LayoutView",
            "align_content": null,
            "align_items": null,
            "align_self": null,
            "border": null,
            "bottom": null,
            "display": null,
            "flex": null,
            "flex_flow": null,
            "grid_area": null,
            "grid_auto_columns": null,
            "grid_auto_flow": null,
            "grid_auto_rows": null,
            "grid_column": null,
            "grid_gap": null,
            "grid_row": null,
            "grid_template_areas": null,
            "grid_template_columns": null,
            "grid_template_rows": null,
            "height": null,
            "justify_content": null,
            "justify_items": null,
            "left": null,
            "margin": null,
            "max_height": null,
            "max_width": null,
            "min_height": null,
            "min_width": null,
            "object_fit": null,
            "object_position": null,
            "order": null,
            "overflow": null,
            "overflow_x": null,
            "overflow_y": null,
            "padding": null,
            "right": null,
            "top": null,
            "visibility": null,
            "width": null
          }
        },
        "a240d3a6ae2942f6935677ebe8bee739": {
          "model_module": "@jupyter-widgets/controls",
          "model_name": "DescriptionStyleModel",
          "model_module_version": "1.5.0",
          "state": {
            "_model_module": "@jupyter-widgets/controls",
            "_model_module_version": "1.5.0",
            "_model_name": "DescriptionStyleModel",
            "_view_count": null,
            "_view_module": "@jupyter-widgets/base",
            "_view_module_version": "1.2.0",
            "_view_name": "StyleView",
            "description_width": ""
          }
        },
        "7a03482eefcc42358a10fbad62382222": {
          "model_module": "@jupyter-widgets/base",
          "model_name": "LayoutModel",
          "model_module_version": "1.2.0",
          "state": {
            "_model_module": "@jupyter-widgets/base",
            "_model_module_version": "1.2.0",
            "_model_name": "LayoutModel",
            "_view_count": null,
            "_view_module": "@jupyter-widgets/base",
            "_view_module_version": "1.2.0",
            "_view_name": "LayoutView",
            "align_content": null,
            "align_items": null,
            "align_self": null,
            "border": null,
            "bottom": null,
            "display": null,
            "flex": null,
            "flex_flow": null,
            "grid_area": null,
            "grid_auto_columns": null,
            "grid_auto_flow": null,
            "grid_auto_rows": null,
            "grid_column": null,
            "grid_gap": null,
            "grid_row": null,
            "grid_template_areas": null,
            "grid_template_columns": null,
            "grid_template_rows": null,
            "height": null,
            "justify_content": null,
            "justify_items": null,
            "left": null,
            "margin": null,
            "max_height": null,
            "max_width": null,
            "min_height": null,
            "min_width": null,
            "object_fit": null,
            "object_position": null,
            "order": null,
            "overflow": null,
            "overflow_x": null,
            "overflow_y": null,
            "padding": null,
            "right": null,
            "top": null,
            "visibility": null,
            "width": null
          }
        },
        "3b41a6ee64bd4be3b4380953eb14d23a": {
          "model_module": "@jupyter-widgets/controls",
          "model_name": "ProgressStyleModel",
          "model_module_version": "1.5.0",
          "state": {
            "_model_module": "@jupyter-widgets/controls",
            "_model_module_version": "1.5.0",
            "_model_name": "ProgressStyleModel",
            "_view_count": null,
            "_view_module": "@jupyter-widgets/base",
            "_view_module_version": "1.2.0",
            "_view_name": "StyleView",
            "bar_color": null,
            "description_width": ""
          }
        },
        "85f0d8bf654643ca811962ec1a90240c": {
          "model_module": "@jupyter-widgets/base",
          "model_name": "LayoutModel",
          "model_module_version": "1.2.0",
          "state": {
            "_model_module": "@jupyter-widgets/base",
            "_model_module_version": "1.2.0",
            "_model_name": "LayoutModel",
            "_view_count": null,
            "_view_module": "@jupyter-widgets/base",
            "_view_module_version": "1.2.0",
            "_view_name": "LayoutView",
            "align_content": null,
            "align_items": null,
            "align_self": null,
            "border": null,
            "bottom": null,
            "display": null,
            "flex": null,
            "flex_flow": null,
            "grid_area": null,
            "grid_auto_columns": null,
            "grid_auto_flow": null,
            "grid_auto_rows": null,
            "grid_column": null,
            "grid_gap": null,
            "grid_row": null,
            "grid_template_areas": null,
            "grid_template_columns": null,
            "grid_template_rows": null,
            "height": null,
            "justify_content": null,
            "justify_items": null,
            "left": null,
            "margin": null,
            "max_height": null,
            "max_width": null,
            "min_height": null,
            "min_width": null,
            "object_fit": null,
            "object_position": null,
            "order": null,
            "overflow": null,
            "overflow_x": null,
            "overflow_y": null,
            "padding": null,
            "right": null,
            "top": null,
            "visibility": null,
            "width": null
          }
        },
        "72ccfbb03cef4aa799fc01dc737da5cb": {
          "model_module": "@jupyter-widgets/controls",
          "model_name": "DescriptionStyleModel",
          "model_module_version": "1.5.0",
          "state": {
            "_model_module": "@jupyter-widgets/controls",
            "_model_module_version": "1.5.0",
            "_model_name": "DescriptionStyleModel",
            "_view_count": null,
            "_view_module": "@jupyter-widgets/base",
            "_view_module_version": "1.2.0",
            "_view_name": "StyleView",
            "description_width": ""
          }
        },
        "3758bca7dd98425cb7639b229f646ef8": {
          "model_module": "@jupyter-widgets/controls",
          "model_name": "HBoxModel",
          "model_module_version": "1.5.0",
          "state": {
            "_dom_classes": [],
            "_model_module": "@jupyter-widgets/controls",
            "_model_module_version": "1.5.0",
            "_model_name": "HBoxModel",
            "_view_count": null,
            "_view_module": "@jupyter-widgets/controls",
            "_view_module_version": "1.5.0",
            "_view_name": "HBoxView",
            "box_style": "",
            "children": [
              "IPY_MODEL_8b45b2ec35f5445e8a18275b79a088ec",
              "IPY_MODEL_4b2cb83ed9ff4d3e926363a212b992a4",
              "IPY_MODEL_a6cb931064db4028bd4814cc124f1987"
            ],
            "layout": "IPY_MODEL_3260dbdffa2948038e4a17aff2afc5e2"
          }
        },
        "8b45b2ec35f5445e8a18275b79a088ec": {
          "model_module": "@jupyter-widgets/controls",
          "model_name": "HTMLModel",
          "model_module_version": "1.5.0",
          "state": {
            "_dom_classes": [],
            "_model_module": "@jupyter-widgets/controls",
            "_model_module_version": "1.5.0",
            "_model_name": "HTMLModel",
            "_view_count": null,
            "_view_module": "@jupyter-widgets/controls",
            "_view_module_version": "1.5.0",
            "_view_name": "HTMLView",
            "description": "",
            "description_tooltip": null,
            "layout": "IPY_MODEL_04d4164640c4473abf4fa096a2315a7d",
            "placeholder": "​",
            "style": "IPY_MODEL_e93b37e6e349432fa45185b7bd0f4b86",
            "value": "Downloading merges.txt: 100%"
          }
        },
        "4b2cb83ed9ff4d3e926363a212b992a4": {
          "model_module": "@jupyter-widgets/controls",
          "model_name": "FloatProgressModel",
          "model_module_version": "1.5.0",
          "state": {
            "_dom_classes": [],
            "_model_module": "@jupyter-widgets/controls",
            "_model_module_version": "1.5.0",
            "_model_name": "FloatProgressModel",
            "_view_count": null,
            "_view_module": "@jupyter-widgets/controls",
            "_view_module_version": "1.5.0",
            "_view_name": "ProgressView",
            "bar_style": "success",
            "description": "",
            "description_tooltip": null,
            "layout": "IPY_MODEL_e2fb496fe6f94899875bf555bb1c31ca",
            "max": 456318,
            "min": 0,
            "orientation": "horizontal",
            "style": "IPY_MODEL_376b696fab144de5b7dc73e3b5a2bdc7",
            "value": 456318
          }
        },
        "a6cb931064db4028bd4814cc124f1987": {
          "model_module": "@jupyter-widgets/controls",
          "model_name": "HTMLModel",
          "model_module_version": "1.5.0",
          "state": {
            "_dom_classes": [],
            "_model_module": "@jupyter-widgets/controls",
            "_model_module_version": "1.5.0",
            "_model_name": "HTMLModel",
            "_view_count": null,
            "_view_module": "@jupyter-widgets/controls",
            "_view_module_version": "1.5.0",
            "_view_name": "HTMLView",
            "description": "",
            "description_tooltip": null,
            "layout": "IPY_MODEL_75a0e979c2324b0d994e04f76328cc7e",
            "placeholder": "​",
            "style": "IPY_MODEL_20f3f1c1d921470d87a0333ac68efa57",
            "value": " 446k/446k [00:00&lt;00:00, 616kB/s]"
          }
        },
        "3260dbdffa2948038e4a17aff2afc5e2": {
          "model_module": "@jupyter-widgets/base",
          "model_name": "LayoutModel",
          "model_module_version": "1.2.0",
          "state": {
            "_model_module": "@jupyter-widgets/base",
            "_model_module_version": "1.2.0",
            "_model_name": "LayoutModel",
            "_view_count": null,
            "_view_module": "@jupyter-widgets/base",
            "_view_module_version": "1.2.0",
            "_view_name": "LayoutView",
            "align_content": null,
            "align_items": null,
            "align_self": null,
            "border": null,
            "bottom": null,
            "display": null,
            "flex": null,
            "flex_flow": null,
            "grid_area": null,
            "grid_auto_columns": null,
            "grid_auto_flow": null,
            "grid_auto_rows": null,
            "grid_column": null,
            "grid_gap": null,
            "grid_row": null,
            "grid_template_areas": null,
            "grid_template_columns": null,
            "grid_template_rows": null,
            "height": null,
            "justify_content": null,
            "justify_items": null,
            "left": null,
            "margin": null,
            "max_height": null,
            "max_width": null,
            "min_height": null,
            "min_width": null,
            "object_fit": null,
            "object_position": null,
            "order": null,
            "overflow": null,
            "overflow_x": null,
            "overflow_y": null,
            "padding": null,
            "right": null,
            "top": null,
            "visibility": null,
            "width": null
          }
        },
        "04d4164640c4473abf4fa096a2315a7d": {
          "model_module": "@jupyter-widgets/base",
          "model_name": "LayoutModel",
          "model_module_version": "1.2.0",
          "state": {
            "_model_module": "@jupyter-widgets/base",
            "_model_module_version": "1.2.0",
            "_model_name": "LayoutModel",
            "_view_count": null,
            "_view_module": "@jupyter-widgets/base",
            "_view_module_version": "1.2.0",
            "_view_name": "LayoutView",
            "align_content": null,
            "align_items": null,
            "align_self": null,
            "border": null,
            "bottom": null,
            "display": null,
            "flex": null,
            "flex_flow": null,
            "grid_area": null,
            "grid_auto_columns": null,
            "grid_auto_flow": null,
            "grid_auto_rows": null,
            "grid_column": null,
            "grid_gap": null,
            "grid_row": null,
            "grid_template_areas": null,
            "grid_template_columns": null,
            "grid_template_rows": null,
            "height": null,
            "justify_content": null,
            "justify_items": null,
            "left": null,
            "margin": null,
            "max_height": null,
            "max_width": null,
            "min_height": null,
            "min_width": null,
            "object_fit": null,
            "object_position": null,
            "order": null,
            "overflow": null,
            "overflow_x": null,
            "overflow_y": null,
            "padding": null,
            "right": null,
            "top": null,
            "visibility": null,
            "width": null
          }
        },
        "e93b37e6e349432fa45185b7bd0f4b86": {
          "model_module": "@jupyter-widgets/controls",
          "model_name": "DescriptionStyleModel",
          "model_module_version": "1.5.0",
          "state": {
            "_model_module": "@jupyter-widgets/controls",
            "_model_module_version": "1.5.0",
            "_model_name": "DescriptionStyleModel",
            "_view_count": null,
            "_view_module": "@jupyter-widgets/base",
            "_view_module_version": "1.2.0",
            "_view_name": "StyleView",
            "description_width": ""
          }
        },
        "e2fb496fe6f94899875bf555bb1c31ca": {
          "model_module": "@jupyter-widgets/base",
          "model_name": "LayoutModel",
          "model_module_version": "1.2.0",
          "state": {
            "_model_module": "@jupyter-widgets/base",
            "_model_module_version": "1.2.0",
            "_model_name": "LayoutModel",
            "_view_count": null,
            "_view_module": "@jupyter-widgets/base",
            "_view_module_version": "1.2.0",
            "_view_name": "LayoutView",
            "align_content": null,
            "align_items": null,
            "align_self": null,
            "border": null,
            "bottom": null,
            "display": null,
            "flex": null,
            "flex_flow": null,
            "grid_area": null,
            "grid_auto_columns": null,
            "grid_auto_flow": null,
            "grid_auto_rows": null,
            "grid_column": null,
            "grid_gap": null,
            "grid_row": null,
            "grid_template_areas": null,
            "grid_template_columns": null,
            "grid_template_rows": null,
            "height": null,
            "justify_content": null,
            "justify_items": null,
            "left": null,
            "margin": null,
            "max_height": null,
            "max_width": null,
            "min_height": null,
            "min_width": null,
            "object_fit": null,
            "object_position": null,
            "order": null,
            "overflow": null,
            "overflow_x": null,
            "overflow_y": null,
            "padding": null,
            "right": null,
            "top": null,
            "visibility": null,
            "width": null
          }
        },
        "376b696fab144de5b7dc73e3b5a2bdc7": {
          "model_module": "@jupyter-widgets/controls",
          "model_name": "ProgressStyleModel",
          "model_module_version": "1.5.0",
          "state": {
            "_model_module": "@jupyter-widgets/controls",
            "_model_module_version": "1.5.0",
            "_model_name": "ProgressStyleModel",
            "_view_count": null,
            "_view_module": "@jupyter-widgets/base",
            "_view_module_version": "1.2.0",
            "_view_name": "StyleView",
            "bar_color": null,
            "description_width": ""
          }
        },
        "75a0e979c2324b0d994e04f76328cc7e": {
          "model_module": "@jupyter-widgets/base",
          "model_name": "LayoutModel",
          "model_module_version": "1.2.0",
          "state": {
            "_model_module": "@jupyter-widgets/base",
            "_model_module_version": "1.2.0",
            "_model_name": "LayoutModel",
            "_view_count": null,
            "_view_module": "@jupyter-widgets/base",
            "_view_module_version": "1.2.0",
            "_view_name": "LayoutView",
            "align_content": null,
            "align_items": null,
            "align_self": null,
            "border": null,
            "bottom": null,
            "display": null,
            "flex": null,
            "flex_flow": null,
            "grid_area": null,
            "grid_auto_columns": null,
            "grid_auto_flow": null,
            "grid_auto_rows": null,
            "grid_column": null,
            "grid_gap": null,
            "grid_row": null,
            "grid_template_areas": null,
            "grid_template_columns": null,
            "grid_template_rows": null,
            "height": null,
            "justify_content": null,
            "justify_items": null,
            "left": null,
            "margin": null,
            "max_height": null,
            "max_width": null,
            "min_height": null,
            "min_width": null,
            "object_fit": null,
            "object_position": null,
            "order": null,
            "overflow": null,
            "overflow_x": null,
            "overflow_y": null,
            "padding": null,
            "right": null,
            "top": null,
            "visibility": null,
            "width": null
          }
        },
        "20f3f1c1d921470d87a0333ac68efa57": {
          "model_module": "@jupyter-widgets/controls",
          "model_name": "DescriptionStyleModel",
          "model_module_version": "1.5.0",
          "state": {
            "_model_module": "@jupyter-widgets/controls",
            "_model_module_version": "1.5.0",
            "_model_name": "DescriptionStyleModel",
            "_view_count": null,
            "_view_module": "@jupyter-widgets/base",
            "_view_module_version": "1.2.0",
            "_view_name": "StyleView",
            "description_width": ""
          }
        },
        "e6d2b08c5eba410ebf9430c5a156a9a2": {
          "model_module": "@jupyter-widgets/controls",
          "model_name": "HBoxModel",
          "model_module_version": "1.5.0",
          "state": {
            "_dom_classes": [],
            "_model_module": "@jupyter-widgets/controls",
            "_model_module_version": "1.5.0",
            "_model_name": "HBoxModel",
            "_view_count": null,
            "_view_module": "@jupyter-widgets/controls",
            "_view_module_version": "1.5.0",
            "_view_name": "HBoxView",
            "box_style": "",
            "children": [
              "IPY_MODEL_8aca98be02ac47c2b8f37ca21a92a360",
              "IPY_MODEL_f60383b5487242e3ac5758cc2120f292",
              "IPY_MODEL_2830c88f760043348ff9ca445a80061c"
            ],
            "layout": "IPY_MODEL_d591a03bce024c45ad88d0f6076eb79c"
          }
        },
        "8aca98be02ac47c2b8f37ca21a92a360": {
          "model_module": "@jupyter-widgets/controls",
          "model_name": "HTMLModel",
          "model_module_version": "1.5.0",
          "state": {
            "_dom_classes": [],
            "_model_module": "@jupyter-widgets/controls",
            "_model_module_version": "1.5.0",
            "_model_name": "HTMLModel",
            "_view_count": null,
            "_view_module": "@jupyter-widgets/controls",
            "_view_module_version": "1.5.0",
            "_view_name": "HTMLView",
            "description": "",
            "description_tooltip": null,
            "layout": "IPY_MODEL_84730e611dca432bb39062f804c6ee5a",
            "placeholder": "​",
            "style": "IPY_MODEL_d8034a763d15476289dc0a22941b589f",
            "value": "Downloading: 100%"
          }
        },
        "f60383b5487242e3ac5758cc2120f292": {
          "model_module": "@jupyter-widgets/controls",
          "model_name": "FloatProgressModel",
          "model_module_version": "1.5.0",
          "state": {
            "_dom_classes": [],
            "_model_module": "@jupyter-widgets/controls",
            "_model_module_version": "1.5.0",
            "_model_name": "FloatProgressModel",
            "_view_count": null,
            "_view_module": "@jupyter-widgets/controls",
            "_view_module_version": "1.5.0",
            "_view_name": "ProgressView",
            "bar_style": "success",
            "description": "",
            "description_tooltip": null,
            "layout": "IPY_MODEL_c2b2baa760d44b0e9cacbbcbb57ff4bb",
            "max": 613,
            "min": 0,
            "orientation": "horizontal",
            "style": "IPY_MODEL_ab6e87bbeb384e0f883b0b223071bc0a",
            "value": 613
          }
        },
        "2830c88f760043348ff9ca445a80061c": {
          "model_module": "@jupyter-widgets/controls",
          "model_name": "HTMLModel",
          "model_module_version": "1.5.0",
          "state": {
            "_dom_classes": [],
            "_model_module": "@jupyter-widgets/controls",
            "_model_module_version": "1.5.0",
            "_model_name": "HTMLModel",
            "_view_count": null,
            "_view_module": "@jupyter-widgets/controls",
            "_view_module_version": "1.5.0",
            "_view_name": "HTMLView",
            "description": "",
            "description_tooltip": null,
            "layout": "IPY_MODEL_dc84fc4cd89a45cc9507ef3c88ee55d5",
            "placeholder": "​",
            "style": "IPY_MODEL_560f79fbaa8e49eba8b8ea98da180e0b",
            "value": " 613/613 [00:00&lt;00:00, 19.1kB/s]"
          }
        },
        "d591a03bce024c45ad88d0f6076eb79c": {
          "model_module": "@jupyter-widgets/base",
          "model_name": "LayoutModel",
          "model_module_version": "1.2.0",
          "state": {
            "_model_module": "@jupyter-widgets/base",
            "_model_module_version": "1.2.0",
            "_model_name": "LayoutModel",
            "_view_count": null,
            "_view_module": "@jupyter-widgets/base",
            "_view_module_version": "1.2.0",
            "_view_name": "LayoutView",
            "align_content": null,
            "align_items": null,
            "align_self": null,
            "border": null,
            "bottom": null,
            "display": null,
            "flex": null,
            "flex_flow": null,
            "grid_area": null,
            "grid_auto_columns": null,
            "grid_auto_flow": null,
            "grid_auto_rows": null,
            "grid_column": null,
            "grid_gap": null,
            "grid_row": null,
            "grid_template_areas": null,
            "grid_template_columns": null,
            "grid_template_rows": null,
            "height": null,
            "justify_content": null,
            "justify_items": null,
            "left": null,
            "margin": null,
            "max_height": null,
            "max_width": null,
            "min_height": null,
            "min_width": null,
            "object_fit": null,
            "object_position": null,
            "order": null,
            "overflow": null,
            "overflow_x": null,
            "overflow_y": null,
            "padding": null,
            "right": null,
            "top": null,
            "visibility": null,
            "width": null
          }
        },
        "84730e611dca432bb39062f804c6ee5a": {
          "model_module": "@jupyter-widgets/base",
          "model_name": "LayoutModel",
          "model_module_version": "1.2.0",
          "state": {
            "_model_module": "@jupyter-widgets/base",
            "_model_module_version": "1.2.0",
            "_model_name": "LayoutModel",
            "_view_count": null,
            "_view_module": "@jupyter-widgets/base",
            "_view_module_version": "1.2.0",
            "_view_name": "LayoutView",
            "align_content": null,
            "align_items": null,
            "align_self": null,
            "border": null,
            "bottom": null,
            "display": null,
            "flex": null,
            "flex_flow": null,
            "grid_area": null,
            "grid_auto_columns": null,
            "grid_auto_flow": null,
            "grid_auto_rows": null,
            "grid_column": null,
            "grid_gap": null,
            "grid_row": null,
            "grid_template_areas": null,
            "grid_template_columns": null,
            "grid_template_rows": null,
            "height": null,
            "justify_content": null,
            "justify_items": null,
            "left": null,
            "margin": null,
            "max_height": null,
            "max_width": null,
            "min_height": null,
            "min_width": null,
            "object_fit": null,
            "object_position": null,
            "order": null,
            "overflow": null,
            "overflow_x": null,
            "overflow_y": null,
            "padding": null,
            "right": null,
            "top": null,
            "visibility": null,
            "width": null
          }
        },
        "d8034a763d15476289dc0a22941b589f": {
          "model_module": "@jupyter-widgets/controls",
          "model_name": "DescriptionStyleModel",
          "model_module_version": "1.5.0",
          "state": {
            "_model_module": "@jupyter-widgets/controls",
            "_model_module_version": "1.5.0",
            "_model_name": "DescriptionStyleModel",
            "_view_count": null,
            "_view_module": "@jupyter-widgets/base",
            "_view_module_version": "1.2.0",
            "_view_name": "StyleView",
            "description_width": ""
          }
        },
        "c2b2baa760d44b0e9cacbbcbb57ff4bb": {
          "model_module": "@jupyter-widgets/base",
          "model_name": "LayoutModel",
          "model_module_version": "1.2.0",
          "state": {
            "_model_module": "@jupyter-widgets/base",
            "_model_module_version": "1.2.0",
            "_model_name": "LayoutModel",
            "_view_count": null,
            "_view_module": "@jupyter-widgets/base",
            "_view_module_version": "1.2.0",
            "_view_name": "LayoutView",
            "align_content": null,
            "align_items": null,
            "align_self": null,
            "border": null,
            "bottom": null,
            "display": null,
            "flex": null,
            "flex_flow": null,
            "grid_area": null,
            "grid_auto_columns": null,
            "grid_auto_flow": null,
            "grid_auto_rows": null,
            "grid_column": null,
            "grid_gap": null,
            "grid_row": null,
            "grid_template_areas": null,
            "grid_template_columns": null,
            "grid_template_rows": null,
            "height": null,
            "justify_content": null,
            "justify_items": null,
            "left": null,
            "margin": null,
            "max_height": null,
            "max_width": null,
            "min_height": null,
            "min_width": null,
            "object_fit": null,
            "object_position": null,
            "order": null,
            "overflow": null,
            "overflow_x": null,
            "overflow_y": null,
            "padding": null,
            "right": null,
            "top": null,
            "visibility": null,
            "width": null
          }
        },
        "ab6e87bbeb384e0f883b0b223071bc0a": {
          "model_module": "@jupyter-widgets/controls",
          "model_name": "ProgressStyleModel",
          "model_module_version": "1.5.0",
          "state": {
            "_model_module": "@jupyter-widgets/controls",
            "_model_module_version": "1.5.0",
            "_model_name": "ProgressStyleModel",
            "_view_count": null,
            "_view_module": "@jupyter-widgets/base",
            "_view_module_version": "1.2.0",
            "_view_name": "StyleView",
            "bar_color": null,
            "description_width": ""
          }
        },
        "dc84fc4cd89a45cc9507ef3c88ee55d5": {
          "model_module": "@jupyter-widgets/base",
          "model_name": "LayoutModel",
          "model_module_version": "1.2.0",
          "state": {
            "_model_module": "@jupyter-widgets/base",
            "_model_module_version": "1.2.0",
            "_model_name": "LayoutModel",
            "_view_count": null,
            "_view_module": "@jupyter-widgets/base",
            "_view_module_version": "1.2.0",
            "_view_name": "LayoutView",
            "align_content": null,
            "align_items": null,
            "align_self": null,
            "border": null,
            "bottom": null,
            "display": null,
            "flex": null,
            "flex_flow": null,
            "grid_area": null,
            "grid_auto_columns": null,
            "grid_auto_flow": null,
            "grid_auto_rows": null,
            "grid_column": null,
            "grid_gap": null,
            "grid_row": null,
            "grid_template_areas": null,
            "grid_template_columns": null,
            "grid_template_rows": null,
            "height": null,
            "justify_content": null,
            "justify_items": null,
            "left": null,
            "margin": null,
            "max_height": null,
            "max_width": null,
            "min_height": null,
            "min_width": null,
            "object_fit": null,
            "object_position": null,
            "order": null,
            "overflow": null,
            "overflow_x": null,
            "overflow_y": null,
            "padding": null,
            "right": null,
            "top": null,
            "visibility": null,
            "width": null
          }
        },
        "560f79fbaa8e49eba8b8ea98da180e0b": {
          "model_module": "@jupyter-widgets/controls",
          "model_name": "DescriptionStyleModel",
          "model_module_version": "1.5.0",
          "state": {
            "_model_module": "@jupyter-widgets/controls",
            "_model_module_version": "1.5.0",
            "_model_name": "DescriptionStyleModel",
            "_view_count": null,
            "_view_module": "@jupyter-widgets/base",
            "_view_module_version": "1.2.0",
            "_view_name": "StyleView",
            "description_width": ""
          }
        },
        "06a256623d0448bda38d88bb3c6a6f04": {
          "model_module": "@jupyter-widgets/controls",
          "model_name": "HBoxModel",
          "model_module_version": "1.5.0",
          "state": {
            "_dom_classes": [],
            "_model_module": "@jupyter-widgets/controls",
            "_model_module_version": "1.5.0",
            "_model_name": "HBoxModel",
            "_view_count": null,
            "_view_module": "@jupyter-widgets/controls",
            "_view_module_version": "1.5.0",
            "_view_name": "HBoxView",
            "box_style": "",
            "children": [
              "IPY_MODEL_e2c69f95a1304764b7995294d204d1b1",
              "IPY_MODEL_9e358bf4843e44ea86f80ecc68842f78",
              "IPY_MODEL_e3ea75f1b6e5478b8d31096a3868388f"
            ],
            "layout": "IPY_MODEL_faf664cc0105483996975038a00b2d61"
          }
        },
        "e2c69f95a1304764b7995294d204d1b1": {
          "model_module": "@jupyter-widgets/controls",
          "model_name": "HTMLModel",
          "model_module_version": "1.5.0",
          "state": {
            "_dom_classes": [],
            "_model_module": "@jupyter-widgets/controls",
            "_model_module_version": "1.5.0",
            "_model_name": "HTMLModel",
            "_view_count": null,
            "_view_module": "@jupyter-widgets/controls",
            "_view_module_version": "1.5.0",
            "_view_name": "HTMLView",
            "description": "",
            "description_tooltip": null,
            "layout": "IPY_MODEL_0a2c4a25fd444c189fa59f8046b4c22b",
            "placeholder": "​",
            "style": "IPY_MODEL_5f004a7fc5464ad09485817e415e52f5",
            "value": "Downloading data files: 100%"
          }
        },
        "9e358bf4843e44ea86f80ecc68842f78": {
          "model_module": "@jupyter-widgets/controls",
          "model_name": "FloatProgressModel",
          "model_module_version": "1.5.0",
          "state": {
            "_dom_classes": [],
            "_model_module": "@jupyter-widgets/controls",
            "_model_module_version": "1.5.0",
            "_model_name": "FloatProgressModel",
            "_view_count": null,
            "_view_module": "@jupyter-widgets/controls",
            "_view_module_version": "1.5.0",
            "_view_name": "ProgressView",
            "bar_style": "success",
            "description": "",
            "description_tooltip": null,
            "layout": "IPY_MODEL_46d4c5b17c954a1782ad43a68589af4b",
            "max": 1,
            "min": 0,
            "orientation": "horizontal",
            "style": "IPY_MODEL_a22cfe07fd4e4b27866f3ec13b225877",
            "value": 1
          }
        },
        "e3ea75f1b6e5478b8d31096a3868388f": {
          "model_module": "@jupyter-widgets/controls",
          "model_name": "HTMLModel",
          "model_module_version": "1.5.0",
          "state": {
            "_dom_classes": [],
            "_model_module": "@jupyter-widgets/controls",
            "_model_module_version": "1.5.0",
            "_model_name": "HTMLModel",
            "_view_count": null,
            "_view_module": "@jupyter-widgets/controls",
            "_view_module_version": "1.5.0",
            "_view_name": "HTMLView",
            "description": "",
            "description_tooltip": null,
            "layout": "IPY_MODEL_281fc7f660bb4c64a815859a5504b6fc",
            "placeholder": "​",
            "style": "IPY_MODEL_8c2ed40a2f434c9fb2c51e8cf441f64a",
            "value": " 1/1 [00:01&lt;00:00,  1.77s/it]"
          }
        },
        "faf664cc0105483996975038a00b2d61": {
          "model_module": "@jupyter-widgets/base",
          "model_name": "LayoutModel",
          "model_module_version": "1.2.0",
          "state": {
            "_model_module": "@jupyter-widgets/base",
            "_model_module_version": "1.2.0",
            "_model_name": "LayoutModel",
            "_view_count": null,
            "_view_module": "@jupyter-widgets/base",
            "_view_module_version": "1.2.0",
            "_view_name": "LayoutView",
            "align_content": null,
            "align_items": null,
            "align_self": null,
            "border": null,
            "bottom": null,
            "display": null,
            "flex": null,
            "flex_flow": null,
            "grid_area": null,
            "grid_auto_columns": null,
            "grid_auto_flow": null,
            "grid_auto_rows": null,
            "grid_column": null,
            "grid_gap": null,
            "grid_row": null,
            "grid_template_areas": null,
            "grid_template_columns": null,
            "grid_template_rows": null,
            "height": null,
            "justify_content": null,
            "justify_items": null,
            "left": null,
            "margin": null,
            "max_height": null,
            "max_width": null,
            "min_height": null,
            "min_width": null,
            "object_fit": null,
            "object_position": null,
            "order": null,
            "overflow": null,
            "overflow_x": null,
            "overflow_y": null,
            "padding": null,
            "right": null,
            "top": null,
            "visibility": null,
            "width": null
          }
        },
        "0a2c4a25fd444c189fa59f8046b4c22b": {
          "model_module": "@jupyter-widgets/base",
          "model_name": "LayoutModel",
          "model_module_version": "1.2.0",
          "state": {
            "_model_module": "@jupyter-widgets/base",
            "_model_module_version": "1.2.0",
            "_model_name": "LayoutModel",
            "_view_count": null,
            "_view_module": "@jupyter-widgets/base",
            "_view_module_version": "1.2.0",
            "_view_name": "LayoutView",
            "align_content": null,
            "align_items": null,
            "align_self": null,
            "border": null,
            "bottom": null,
            "display": null,
            "flex": null,
            "flex_flow": null,
            "grid_area": null,
            "grid_auto_columns": null,
            "grid_auto_flow": null,
            "grid_auto_rows": null,
            "grid_column": null,
            "grid_gap": null,
            "grid_row": null,
            "grid_template_areas": null,
            "grid_template_columns": null,
            "grid_template_rows": null,
            "height": null,
            "justify_content": null,
            "justify_items": null,
            "left": null,
            "margin": null,
            "max_height": null,
            "max_width": null,
            "min_height": null,
            "min_width": null,
            "object_fit": null,
            "object_position": null,
            "order": null,
            "overflow": null,
            "overflow_x": null,
            "overflow_y": null,
            "padding": null,
            "right": null,
            "top": null,
            "visibility": null,
            "width": null
          }
        },
        "5f004a7fc5464ad09485817e415e52f5": {
          "model_module": "@jupyter-widgets/controls",
          "model_name": "DescriptionStyleModel",
          "model_module_version": "1.5.0",
          "state": {
            "_model_module": "@jupyter-widgets/controls",
            "_model_module_version": "1.5.0",
            "_model_name": "DescriptionStyleModel",
            "_view_count": null,
            "_view_module": "@jupyter-widgets/base",
            "_view_module_version": "1.2.0",
            "_view_name": "StyleView",
            "description_width": ""
          }
        },
        "46d4c5b17c954a1782ad43a68589af4b": {
          "model_module": "@jupyter-widgets/base",
          "model_name": "LayoutModel",
          "model_module_version": "1.2.0",
          "state": {
            "_model_module": "@jupyter-widgets/base",
            "_model_module_version": "1.2.0",
            "_model_name": "LayoutModel",
            "_view_count": null,
            "_view_module": "@jupyter-widgets/base",
            "_view_module_version": "1.2.0",
            "_view_name": "LayoutView",
            "align_content": null,
            "align_items": null,
            "align_self": null,
            "border": null,
            "bottom": null,
            "display": null,
            "flex": null,
            "flex_flow": null,
            "grid_area": null,
            "grid_auto_columns": null,
            "grid_auto_flow": null,
            "grid_auto_rows": null,
            "grid_column": null,
            "grid_gap": null,
            "grid_row": null,
            "grid_template_areas": null,
            "grid_template_columns": null,
            "grid_template_rows": null,
            "height": null,
            "justify_content": null,
            "justify_items": null,
            "left": null,
            "margin": null,
            "max_height": null,
            "max_width": null,
            "min_height": null,
            "min_width": null,
            "object_fit": null,
            "object_position": null,
            "order": null,
            "overflow": null,
            "overflow_x": null,
            "overflow_y": null,
            "padding": null,
            "right": null,
            "top": null,
            "visibility": null,
            "width": null
          }
        },
        "a22cfe07fd4e4b27866f3ec13b225877": {
          "model_module": "@jupyter-widgets/controls",
          "model_name": "ProgressStyleModel",
          "model_module_version": "1.5.0",
          "state": {
            "_model_module": "@jupyter-widgets/controls",
            "_model_module_version": "1.5.0",
            "_model_name": "ProgressStyleModel",
            "_view_count": null,
            "_view_module": "@jupyter-widgets/base",
            "_view_module_version": "1.2.0",
            "_view_name": "StyleView",
            "bar_color": null,
            "description_width": ""
          }
        },
        "281fc7f660bb4c64a815859a5504b6fc": {
          "model_module": "@jupyter-widgets/base",
          "model_name": "LayoutModel",
          "model_module_version": "1.2.0",
          "state": {
            "_model_module": "@jupyter-widgets/base",
            "_model_module_version": "1.2.0",
            "_model_name": "LayoutModel",
            "_view_count": null,
            "_view_module": "@jupyter-widgets/base",
            "_view_module_version": "1.2.0",
            "_view_name": "LayoutView",
            "align_content": null,
            "align_items": null,
            "align_self": null,
            "border": null,
            "bottom": null,
            "display": null,
            "flex": null,
            "flex_flow": null,
            "grid_area": null,
            "grid_auto_columns": null,
            "grid_auto_flow": null,
            "grid_auto_rows": null,
            "grid_column": null,
            "grid_gap": null,
            "grid_row": null,
            "grid_template_areas": null,
            "grid_template_columns": null,
            "grid_template_rows": null,
            "height": null,
            "justify_content": null,
            "justify_items": null,
            "left": null,
            "margin": null,
            "max_height": null,
            "max_width": null,
            "min_height": null,
            "min_width": null,
            "object_fit": null,
            "object_position": null,
            "order": null,
            "overflow": null,
            "overflow_x": null,
            "overflow_y": null,
            "padding": null,
            "right": null,
            "top": null,
            "visibility": null,
            "width": null
          }
        },
        "8c2ed40a2f434c9fb2c51e8cf441f64a": {
          "model_module": "@jupyter-widgets/controls",
          "model_name": "DescriptionStyleModel",
          "model_module_version": "1.5.0",
          "state": {
            "_model_module": "@jupyter-widgets/controls",
            "_model_module_version": "1.5.0",
            "_model_name": "DescriptionStyleModel",
            "_view_count": null,
            "_view_module": "@jupyter-widgets/base",
            "_view_module_version": "1.2.0",
            "_view_name": "StyleView",
            "description_width": ""
          }
        },
        "4804029069a44bc7b06bec232d995007": {
          "model_module": "@jupyter-widgets/controls",
          "model_name": "HBoxModel",
          "model_module_version": "1.5.0",
          "state": {
            "_dom_classes": [],
            "_model_module": "@jupyter-widgets/controls",
            "_model_module_version": "1.5.0",
            "_model_name": "HBoxModel",
            "_view_count": null,
            "_view_module": "@jupyter-widgets/controls",
            "_view_module_version": "1.5.0",
            "_view_name": "HBoxView",
            "box_style": "",
            "children": [
              "IPY_MODEL_6448bdaff6b04767a33c9f5615af2404",
              "IPY_MODEL_084323fb94354dea8eced2e65fb34b24",
              "IPY_MODEL_cbbddc7a142146408f0572f10e9ed861"
            ],
            "layout": "IPY_MODEL_0728273b48044c0baa526ecac0737a5b"
          }
        },
        "6448bdaff6b04767a33c9f5615af2404": {
          "model_module": "@jupyter-widgets/controls",
          "model_name": "HTMLModel",
          "model_module_version": "1.5.0",
          "state": {
            "_dom_classes": [],
            "_model_module": "@jupyter-widgets/controls",
            "_model_module_version": "1.5.0",
            "_model_name": "HTMLModel",
            "_view_count": null,
            "_view_module": "@jupyter-widgets/controls",
            "_view_module_version": "1.5.0",
            "_view_name": "HTMLView",
            "description": "",
            "description_tooltip": null,
            "layout": "IPY_MODEL_df89d4f60ecc46aa9d593e5eca15d7f4",
            "placeholder": "​",
            "style": "IPY_MODEL_0f1a52811fbb4cb4a484b7a8c92ca59d",
            "value": "Downloading data: 100%"
          }
        },
        "084323fb94354dea8eced2e65fb34b24": {
          "model_module": "@jupyter-widgets/controls",
          "model_name": "FloatProgressModel",
          "model_module_version": "1.5.0",
          "state": {
            "_dom_classes": [],
            "_model_module": "@jupyter-widgets/controls",
            "_model_module_version": "1.5.0",
            "_model_name": "FloatProgressModel",
            "_view_count": null,
            "_view_module": "@jupyter-widgets/controls",
            "_view_module_version": "1.5.0",
            "_view_name": "ProgressView",
            "bar_style": "success",
            "description": "",
            "description_tooltip": null,
            "layout": "IPY_MODEL_2e45fa21a94b4f6e8e44cb7409b1d8a6",
            "max": 61146,
            "min": 0,
            "orientation": "horizontal",
            "style": "IPY_MODEL_27223a27c61f499b957076b91819ea8e",
            "value": 61146
          }
        },
        "cbbddc7a142146408f0572f10e9ed861": {
          "model_module": "@jupyter-widgets/controls",
          "model_name": "HTMLModel",
          "model_module_version": "1.5.0",
          "state": {
            "_dom_classes": [],
            "_model_module": "@jupyter-widgets/controls",
            "_model_module_version": "1.5.0",
            "_model_name": "HTMLModel",
            "_view_count": null,
            "_view_module": "@jupyter-widgets/controls",
            "_view_module_version": "1.5.0",
            "_view_name": "HTMLView",
            "description": "",
            "description_tooltip": null,
            "layout": "IPY_MODEL_e0d821db87ff4bfdbf8bb8989f668c8f",
            "placeholder": "​",
            "style": "IPY_MODEL_bce63f35d98f4ac2afc40e1f1dc5ef8a",
            "value": " 61.1k/61.1k [00:00&lt;00:00, 1.74MB/s]"
          }
        },
        "0728273b48044c0baa526ecac0737a5b": {
          "model_module": "@jupyter-widgets/base",
          "model_name": "LayoutModel",
          "model_module_version": "1.2.0",
          "state": {
            "_model_module": "@jupyter-widgets/base",
            "_model_module_version": "1.2.0",
            "_model_name": "LayoutModel",
            "_view_count": null,
            "_view_module": "@jupyter-widgets/base",
            "_view_module_version": "1.2.0",
            "_view_name": "LayoutView",
            "align_content": null,
            "align_items": null,
            "align_self": null,
            "border": null,
            "bottom": null,
            "display": null,
            "flex": null,
            "flex_flow": null,
            "grid_area": null,
            "grid_auto_columns": null,
            "grid_auto_flow": null,
            "grid_auto_rows": null,
            "grid_column": null,
            "grid_gap": null,
            "grid_row": null,
            "grid_template_areas": null,
            "grid_template_columns": null,
            "grid_template_rows": null,
            "height": null,
            "justify_content": null,
            "justify_items": null,
            "left": null,
            "margin": null,
            "max_height": null,
            "max_width": null,
            "min_height": null,
            "min_width": null,
            "object_fit": null,
            "object_position": null,
            "order": null,
            "overflow": null,
            "overflow_x": null,
            "overflow_y": null,
            "padding": null,
            "right": null,
            "top": null,
            "visibility": null,
            "width": null
          }
        },
        "df89d4f60ecc46aa9d593e5eca15d7f4": {
          "model_module": "@jupyter-widgets/base",
          "model_name": "LayoutModel",
          "model_module_version": "1.2.0",
          "state": {
            "_model_module": "@jupyter-widgets/base",
            "_model_module_version": "1.2.0",
            "_model_name": "LayoutModel",
            "_view_count": null,
            "_view_module": "@jupyter-widgets/base",
            "_view_module_version": "1.2.0",
            "_view_name": "LayoutView",
            "align_content": null,
            "align_items": null,
            "align_self": null,
            "border": null,
            "bottom": null,
            "display": null,
            "flex": null,
            "flex_flow": null,
            "grid_area": null,
            "grid_auto_columns": null,
            "grid_auto_flow": null,
            "grid_auto_rows": null,
            "grid_column": null,
            "grid_gap": null,
            "grid_row": null,
            "grid_template_areas": null,
            "grid_template_columns": null,
            "grid_template_rows": null,
            "height": null,
            "justify_content": null,
            "justify_items": null,
            "left": null,
            "margin": null,
            "max_height": null,
            "max_width": null,
            "min_height": null,
            "min_width": null,
            "object_fit": null,
            "object_position": null,
            "order": null,
            "overflow": null,
            "overflow_x": null,
            "overflow_y": null,
            "padding": null,
            "right": null,
            "top": null,
            "visibility": null,
            "width": null
          }
        },
        "0f1a52811fbb4cb4a484b7a8c92ca59d": {
          "model_module": "@jupyter-widgets/controls",
          "model_name": "DescriptionStyleModel",
          "model_module_version": "1.5.0",
          "state": {
            "_model_module": "@jupyter-widgets/controls",
            "_model_module_version": "1.5.0",
            "_model_name": "DescriptionStyleModel",
            "_view_count": null,
            "_view_module": "@jupyter-widgets/base",
            "_view_module_version": "1.2.0",
            "_view_name": "StyleView",
            "description_width": ""
          }
        },
        "2e45fa21a94b4f6e8e44cb7409b1d8a6": {
          "model_module": "@jupyter-widgets/base",
          "model_name": "LayoutModel",
          "model_module_version": "1.2.0",
          "state": {
            "_model_module": "@jupyter-widgets/base",
            "_model_module_version": "1.2.0",
            "_model_name": "LayoutModel",
            "_view_count": null,
            "_view_module": "@jupyter-widgets/base",
            "_view_module_version": "1.2.0",
            "_view_name": "LayoutView",
            "align_content": null,
            "align_items": null,
            "align_self": null,
            "border": null,
            "bottom": null,
            "display": null,
            "flex": null,
            "flex_flow": null,
            "grid_area": null,
            "grid_auto_columns": null,
            "grid_auto_flow": null,
            "grid_auto_rows": null,
            "grid_column": null,
            "grid_gap": null,
            "grid_row": null,
            "grid_template_areas": null,
            "grid_template_columns": null,
            "grid_template_rows": null,
            "height": null,
            "justify_content": null,
            "justify_items": null,
            "left": null,
            "margin": null,
            "max_height": null,
            "max_width": null,
            "min_height": null,
            "min_width": null,
            "object_fit": null,
            "object_position": null,
            "order": null,
            "overflow": null,
            "overflow_x": null,
            "overflow_y": null,
            "padding": null,
            "right": null,
            "top": null,
            "visibility": null,
            "width": null
          }
        },
        "27223a27c61f499b957076b91819ea8e": {
          "model_module": "@jupyter-widgets/controls",
          "model_name": "ProgressStyleModel",
          "model_module_version": "1.5.0",
          "state": {
            "_model_module": "@jupyter-widgets/controls",
            "_model_module_version": "1.5.0",
            "_model_name": "ProgressStyleModel",
            "_view_count": null,
            "_view_module": "@jupyter-widgets/base",
            "_view_module_version": "1.2.0",
            "_view_name": "StyleView",
            "bar_color": null,
            "description_width": ""
          }
        },
        "e0d821db87ff4bfdbf8bb8989f668c8f": {
          "model_module": "@jupyter-widgets/base",
          "model_name": "LayoutModel",
          "model_module_version": "1.2.0",
          "state": {
            "_model_module": "@jupyter-widgets/base",
            "_model_module_version": "1.2.0",
            "_model_name": "LayoutModel",
            "_view_count": null,
            "_view_module": "@jupyter-widgets/base",
            "_view_module_version": "1.2.0",
            "_view_name": "LayoutView",
            "align_content": null,
            "align_items": null,
            "align_self": null,
            "border": null,
            "bottom": null,
            "display": null,
            "flex": null,
            "flex_flow": null,
            "grid_area": null,
            "grid_auto_columns": null,
            "grid_auto_flow": null,
            "grid_auto_rows": null,
            "grid_column": null,
            "grid_gap": null,
            "grid_row": null,
            "grid_template_areas": null,
            "grid_template_columns": null,
            "grid_template_rows": null,
            "height": null,
            "justify_content": null,
            "justify_items": null,
            "left": null,
            "margin": null,
            "max_height": null,
            "max_width": null,
            "min_height": null,
            "min_width": null,
            "object_fit": null,
            "object_position": null,
            "order": null,
            "overflow": null,
            "overflow_x": null,
            "overflow_y": null,
            "padding": null,
            "right": null,
            "top": null,
            "visibility": null,
            "width": null
          }
        },
        "bce63f35d98f4ac2afc40e1f1dc5ef8a": {
          "model_module": "@jupyter-widgets/controls",
          "model_name": "DescriptionStyleModel",
          "model_module_version": "1.5.0",
          "state": {
            "_model_module": "@jupyter-widgets/controls",
            "_model_module_version": "1.5.0",
            "_model_name": "DescriptionStyleModel",
            "_view_count": null,
            "_view_module": "@jupyter-widgets/base",
            "_view_module_version": "1.2.0",
            "_view_name": "StyleView",
            "description_width": ""
          }
        },
        "e9dc177dfd9740159665872b9cc5a9d2": {
          "model_module": "@jupyter-widgets/controls",
          "model_name": "HBoxModel",
          "model_module_version": "1.5.0",
          "state": {
            "_dom_classes": [],
            "_model_module": "@jupyter-widgets/controls",
            "_model_module_version": "1.5.0",
            "_model_name": "HBoxModel",
            "_view_count": null,
            "_view_module": "@jupyter-widgets/controls",
            "_view_module_version": "1.5.0",
            "_view_name": "HBoxView",
            "box_style": "",
            "children": [
              "IPY_MODEL_86a2d18c2dcc45f19a520f3457d3d6b9",
              "IPY_MODEL_9a32d511abe3469f9df996527cc338f2",
              "IPY_MODEL_59311e2339624a9b9c1353d4bd4d18ae"
            ],
            "layout": "IPY_MODEL_d2808ab55c114e69a4872ab5839fb1fe"
          }
        },
        "86a2d18c2dcc45f19a520f3457d3d6b9": {
          "model_module": "@jupyter-widgets/controls",
          "model_name": "HTMLModel",
          "model_module_version": "1.5.0",
          "state": {
            "_dom_classes": [],
            "_model_module": "@jupyter-widgets/controls",
            "_model_module_version": "1.5.0",
            "_model_name": "HTMLModel",
            "_view_count": null,
            "_view_module": "@jupyter-widgets/controls",
            "_view_module_version": "1.5.0",
            "_view_name": "HTMLView",
            "description": "",
            "description_tooltip": null,
            "layout": "IPY_MODEL_0d562e8140d343b785b4c9f2b963b2b7",
            "placeholder": "​",
            "style": "IPY_MODEL_03ae693948ee41d2865ba0a63caabfbc",
            "value": "Extracting data files: 100%"
          }
        },
        "9a32d511abe3469f9df996527cc338f2": {
          "model_module": "@jupyter-widgets/controls",
          "model_name": "FloatProgressModel",
          "model_module_version": "1.5.0",
          "state": {
            "_dom_classes": [],
            "_model_module": "@jupyter-widgets/controls",
            "_model_module_version": "1.5.0",
            "_model_name": "FloatProgressModel",
            "_view_count": null,
            "_view_module": "@jupyter-widgets/controls",
            "_view_module_version": "1.5.0",
            "_view_name": "ProgressView",
            "bar_style": "success",
            "description": "",
            "description_tooltip": null,
            "layout": "IPY_MODEL_642c11662e2e40188011a915a7ac6743",
            "max": 1,
            "min": 0,
            "orientation": "horizontal",
            "style": "IPY_MODEL_0706dc5c0f424c9aacb113b76bdc7e17",
            "value": 1
          }
        },
        "59311e2339624a9b9c1353d4bd4d18ae": {
          "model_module": "@jupyter-widgets/controls",
          "model_name": "HTMLModel",
          "model_module_version": "1.5.0",
          "state": {
            "_dom_classes": [],
            "_model_module": "@jupyter-widgets/controls",
            "_model_module_version": "1.5.0",
            "_model_name": "HTMLModel",
            "_view_count": null,
            "_view_module": "@jupyter-widgets/controls",
            "_view_module_version": "1.5.0",
            "_view_name": "HTMLView",
            "description": "",
            "description_tooltip": null,
            "layout": "IPY_MODEL_eed947140fef451cb6f13a0ab2e20da0",
            "placeholder": "​",
            "style": "IPY_MODEL_6ced79984e694874b0708edaa66647ba",
            "value": " 1/1 [00:00&lt;00:00, 29.77it/s]"
          }
        },
        "d2808ab55c114e69a4872ab5839fb1fe": {
          "model_module": "@jupyter-widgets/base",
          "model_name": "LayoutModel",
          "model_module_version": "1.2.0",
          "state": {
            "_model_module": "@jupyter-widgets/base",
            "_model_module_version": "1.2.0",
            "_model_name": "LayoutModel",
            "_view_count": null,
            "_view_module": "@jupyter-widgets/base",
            "_view_module_version": "1.2.0",
            "_view_name": "LayoutView",
            "align_content": null,
            "align_items": null,
            "align_self": null,
            "border": null,
            "bottom": null,
            "display": null,
            "flex": null,
            "flex_flow": null,
            "grid_area": null,
            "grid_auto_columns": null,
            "grid_auto_flow": null,
            "grid_auto_rows": null,
            "grid_column": null,
            "grid_gap": null,
            "grid_row": null,
            "grid_template_areas": null,
            "grid_template_columns": null,
            "grid_template_rows": null,
            "height": null,
            "justify_content": null,
            "justify_items": null,
            "left": null,
            "margin": null,
            "max_height": null,
            "max_width": null,
            "min_height": null,
            "min_width": null,
            "object_fit": null,
            "object_position": null,
            "order": null,
            "overflow": null,
            "overflow_x": null,
            "overflow_y": null,
            "padding": null,
            "right": null,
            "top": null,
            "visibility": null,
            "width": null
          }
        },
        "0d562e8140d343b785b4c9f2b963b2b7": {
          "model_module": "@jupyter-widgets/base",
          "model_name": "LayoutModel",
          "model_module_version": "1.2.0",
          "state": {
            "_model_module": "@jupyter-widgets/base",
            "_model_module_version": "1.2.0",
            "_model_name": "LayoutModel",
            "_view_count": null,
            "_view_module": "@jupyter-widgets/base",
            "_view_module_version": "1.2.0",
            "_view_name": "LayoutView",
            "align_content": null,
            "align_items": null,
            "align_self": null,
            "border": null,
            "bottom": null,
            "display": null,
            "flex": null,
            "flex_flow": null,
            "grid_area": null,
            "grid_auto_columns": null,
            "grid_auto_flow": null,
            "grid_auto_rows": null,
            "grid_column": null,
            "grid_gap": null,
            "grid_row": null,
            "grid_template_areas": null,
            "grid_template_columns": null,
            "grid_template_rows": null,
            "height": null,
            "justify_content": null,
            "justify_items": null,
            "left": null,
            "margin": null,
            "max_height": null,
            "max_width": null,
            "min_height": null,
            "min_width": null,
            "object_fit": null,
            "object_position": null,
            "order": null,
            "overflow": null,
            "overflow_x": null,
            "overflow_y": null,
            "padding": null,
            "right": null,
            "top": null,
            "visibility": null,
            "width": null
          }
        },
        "03ae693948ee41d2865ba0a63caabfbc": {
          "model_module": "@jupyter-widgets/controls",
          "model_name": "DescriptionStyleModel",
          "model_module_version": "1.5.0",
          "state": {
            "_model_module": "@jupyter-widgets/controls",
            "_model_module_version": "1.5.0",
            "_model_name": "DescriptionStyleModel",
            "_view_count": null,
            "_view_module": "@jupyter-widgets/base",
            "_view_module_version": "1.2.0",
            "_view_name": "StyleView",
            "description_width": ""
          }
        },
        "642c11662e2e40188011a915a7ac6743": {
          "model_module": "@jupyter-widgets/base",
          "model_name": "LayoutModel",
          "model_module_version": "1.2.0",
          "state": {
            "_model_module": "@jupyter-widgets/base",
            "_model_module_version": "1.2.0",
            "_model_name": "LayoutModel",
            "_view_count": null,
            "_view_module": "@jupyter-widgets/base",
            "_view_module_version": "1.2.0",
            "_view_name": "LayoutView",
            "align_content": null,
            "align_items": null,
            "align_self": null,
            "border": null,
            "bottom": null,
            "display": null,
            "flex": null,
            "flex_flow": null,
            "grid_area": null,
            "grid_auto_columns": null,
            "grid_auto_flow": null,
            "grid_auto_rows": null,
            "grid_column": null,
            "grid_gap": null,
            "grid_row": null,
            "grid_template_areas": null,
            "grid_template_columns": null,
            "grid_template_rows": null,
            "height": null,
            "justify_content": null,
            "justify_items": null,
            "left": null,
            "margin": null,
            "max_height": null,
            "max_width": null,
            "min_height": null,
            "min_width": null,
            "object_fit": null,
            "object_position": null,
            "order": null,
            "overflow": null,
            "overflow_x": null,
            "overflow_y": null,
            "padding": null,
            "right": null,
            "top": null,
            "visibility": null,
            "width": null
          }
        },
        "0706dc5c0f424c9aacb113b76bdc7e17": {
          "model_module": "@jupyter-widgets/controls",
          "model_name": "ProgressStyleModel",
          "model_module_version": "1.5.0",
          "state": {
            "_model_module": "@jupyter-widgets/controls",
            "_model_module_version": "1.5.0",
            "_model_name": "ProgressStyleModel",
            "_view_count": null,
            "_view_module": "@jupyter-widgets/base",
            "_view_module_version": "1.2.0",
            "_view_name": "StyleView",
            "bar_color": null,
            "description_width": ""
          }
        },
        "eed947140fef451cb6f13a0ab2e20da0": {
          "model_module": "@jupyter-widgets/base",
          "model_name": "LayoutModel",
          "model_module_version": "1.2.0",
          "state": {
            "_model_module": "@jupyter-widgets/base",
            "_model_module_version": "1.2.0",
            "_model_name": "LayoutModel",
            "_view_count": null,
            "_view_module": "@jupyter-widgets/base",
            "_view_module_version": "1.2.0",
            "_view_name": "LayoutView",
            "align_content": null,
            "align_items": null,
            "align_self": null,
            "border": null,
            "bottom": null,
            "display": null,
            "flex": null,
            "flex_flow": null,
            "grid_area": null,
            "grid_auto_columns": null,
            "grid_auto_flow": null,
            "grid_auto_rows": null,
            "grid_column": null,
            "grid_gap": null,
            "grid_row": null,
            "grid_template_areas": null,
            "grid_template_columns": null,
            "grid_template_rows": null,
            "height": null,
            "justify_content": null,
            "justify_items": null,
            "left": null,
            "margin": null,
            "max_height": null,
            "max_width": null,
            "min_height": null,
            "min_width": null,
            "object_fit": null,
            "object_position": null,
            "order": null,
            "overflow": null,
            "overflow_x": null,
            "overflow_y": null,
            "padding": null,
            "right": null,
            "top": null,
            "visibility": null,
            "width": null
          }
        },
        "6ced79984e694874b0708edaa66647ba": {
          "model_module": "@jupyter-widgets/controls",
          "model_name": "DescriptionStyleModel",
          "model_module_version": "1.5.0",
          "state": {
            "_model_module": "@jupyter-widgets/controls",
            "_model_module_version": "1.5.0",
            "_model_name": "DescriptionStyleModel",
            "_view_count": null,
            "_view_module": "@jupyter-widgets/base",
            "_view_module_version": "1.2.0",
            "_view_name": "StyleView",
            "description_width": ""
          }
        },
        "7fd4956dabe5421c82d1c8c459b09386": {
          "model_module": "@jupyter-widgets/controls",
          "model_name": "HBoxModel",
          "model_module_version": "1.5.0",
          "state": {
            "_dom_classes": [],
            "_model_module": "@jupyter-widgets/controls",
            "_model_module_version": "1.5.0",
            "_model_name": "HBoxModel",
            "_view_count": null,
            "_view_module": "@jupyter-widgets/controls",
            "_view_module_version": "1.5.0",
            "_view_name": "HBoxView",
            "box_style": "",
            "children": [
              "IPY_MODEL_6f5fe2e217f04ac08f56ff5dd69538f6",
              "IPY_MODEL_26442d5d60f8481b9a883303f0ed4f68",
              "IPY_MODEL_18dee55fa6de43b09e65559fb3c1cffd"
            ],
            "layout": "IPY_MODEL_936d218b106e4c94b28ef2f7db2cac6a"
          }
        },
        "6f5fe2e217f04ac08f56ff5dd69538f6": {
          "model_module": "@jupyter-widgets/controls",
          "model_name": "HTMLModel",
          "model_module_version": "1.5.0",
          "state": {
            "_dom_classes": [],
            "_model_module": "@jupyter-widgets/controls",
            "_model_module_version": "1.5.0",
            "_model_name": "HTMLModel",
            "_view_count": null,
            "_view_module": "@jupyter-widgets/controls",
            "_view_module_version": "1.5.0",
            "_view_name": "HTMLView",
            "description": "",
            "description_tooltip": null,
            "layout": "IPY_MODEL_79e2e6e745a54af8b8b89493de36fa19",
            "placeholder": "​",
            "style": "IPY_MODEL_6b02b2d76b794cce901d75429a942c6e",
            "value": ""
          }
        },
        "26442d5d60f8481b9a883303f0ed4f68": {
          "model_module": "@jupyter-widgets/controls",
          "model_name": "FloatProgressModel",
          "model_module_version": "1.5.0",
          "state": {
            "_dom_classes": [],
            "_model_module": "@jupyter-widgets/controls",
            "_model_module_version": "1.5.0",
            "_model_name": "FloatProgressModel",
            "_view_count": null,
            "_view_module": "@jupyter-widgets/controls",
            "_view_module_version": "1.5.0",
            "_view_name": "ProgressView",
            "bar_style": "info",
            "description": "",
            "description_tooltip": null,
            "layout": "IPY_MODEL_2feaf995a4c4416780aadb3ec9adbef0",
            "max": 1,
            "min": 0,
            "orientation": "horizontal",
            "style": "IPY_MODEL_c82449db4d834e568bde17fcbc24df11",
            "value": 1
          }
        },
        "18dee55fa6de43b09e65559fb3c1cffd": {
          "model_module": "@jupyter-widgets/controls",
          "model_name": "HTMLModel",
          "model_module_version": "1.5.0",
          "state": {
            "_dom_classes": [],
            "_model_module": "@jupyter-widgets/controls",
            "_model_module_version": "1.5.0",
            "_model_name": "HTMLModel",
            "_view_count": null,
            "_view_module": "@jupyter-widgets/controls",
            "_view_module_version": "1.5.0",
            "_view_name": "HTMLView",
            "description": "",
            "description_tooltip": null,
            "layout": "IPY_MODEL_0de4d5a5a3144c94a99f4cd8c66d617b",
            "placeholder": "​",
            "style": "IPY_MODEL_f90c5e9bfce141fc8f951b2da91239f7",
            "value": " 0/? [00:00&lt;?, ? tables/s]"
          }
        },
        "936d218b106e4c94b28ef2f7db2cac6a": {
          "model_module": "@jupyter-widgets/base",
          "model_name": "LayoutModel",
          "model_module_version": "1.2.0",
          "state": {
            "_model_module": "@jupyter-widgets/base",
            "_model_module_version": "1.2.0",
            "_model_name": "LayoutModel",
            "_view_count": null,
            "_view_module": "@jupyter-widgets/base",
            "_view_module_version": "1.2.0",
            "_view_name": "LayoutView",
            "align_content": null,
            "align_items": null,
            "align_self": null,
            "border": null,
            "bottom": null,
            "display": null,
            "flex": null,
            "flex_flow": null,
            "grid_area": null,
            "grid_auto_columns": null,
            "grid_auto_flow": null,
            "grid_auto_rows": null,
            "grid_column": null,
            "grid_gap": null,
            "grid_row": null,
            "grid_template_areas": null,
            "grid_template_columns": null,
            "grid_template_rows": null,
            "height": null,
            "justify_content": null,
            "justify_items": null,
            "left": null,
            "margin": null,
            "max_height": null,
            "max_width": null,
            "min_height": null,
            "min_width": null,
            "object_fit": null,
            "object_position": null,
            "order": null,
            "overflow": null,
            "overflow_x": null,
            "overflow_y": null,
            "padding": null,
            "right": null,
            "top": null,
            "visibility": null,
            "width": null
          }
        },
        "79e2e6e745a54af8b8b89493de36fa19": {
          "model_module": "@jupyter-widgets/base",
          "model_name": "LayoutModel",
          "model_module_version": "1.2.0",
          "state": {
            "_model_module": "@jupyter-widgets/base",
            "_model_module_version": "1.2.0",
            "_model_name": "LayoutModel",
            "_view_count": null,
            "_view_module": "@jupyter-widgets/base",
            "_view_module_version": "1.2.0",
            "_view_name": "LayoutView",
            "align_content": null,
            "align_items": null,
            "align_self": null,
            "border": null,
            "bottom": null,
            "display": null,
            "flex": null,
            "flex_flow": null,
            "grid_area": null,
            "grid_auto_columns": null,
            "grid_auto_flow": null,
            "grid_auto_rows": null,
            "grid_column": null,
            "grid_gap": null,
            "grid_row": null,
            "grid_template_areas": null,
            "grid_template_columns": null,
            "grid_template_rows": null,
            "height": null,
            "justify_content": null,
            "justify_items": null,
            "left": null,
            "margin": null,
            "max_height": null,
            "max_width": null,
            "min_height": null,
            "min_width": null,
            "object_fit": null,
            "object_position": null,
            "order": null,
            "overflow": null,
            "overflow_x": null,
            "overflow_y": null,
            "padding": null,
            "right": null,
            "top": null,
            "visibility": null,
            "width": null
          }
        },
        "6b02b2d76b794cce901d75429a942c6e": {
          "model_module": "@jupyter-widgets/controls",
          "model_name": "DescriptionStyleModel",
          "model_module_version": "1.5.0",
          "state": {
            "_model_module": "@jupyter-widgets/controls",
            "_model_module_version": "1.5.0",
            "_model_name": "DescriptionStyleModel",
            "_view_count": null,
            "_view_module": "@jupyter-widgets/base",
            "_view_module_version": "1.2.0",
            "_view_name": "StyleView",
            "description_width": ""
          }
        },
        "2feaf995a4c4416780aadb3ec9adbef0": {
          "model_module": "@jupyter-widgets/base",
          "model_name": "LayoutModel",
          "model_module_version": "1.2.0",
          "state": {
            "_model_module": "@jupyter-widgets/base",
            "_model_module_version": "1.2.0",
            "_model_name": "LayoutModel",
            "_view_count": null,
            "_view_module": "@jupyter-widgets/base",
            "_view_module_version": "1.2.0",
            "_view_name": "LayoutView",
            "align_content": null,
            "align_items": null,
            "align_self": null,
            "border": null,
            "bottom": null,
            "display": null,
            "flex": null,
            "flex_flow": null,
            "grid_area": null,
            "grid_auto_columns": null,
            "grid_auto_flow": null,
            "grid_auto_rows": null,
            "grid_column": null,
            "grid_gap": null,
            "grid_row": null,
            "grid_template_areas": null,
            "grid_template_columns": null,
            "grid_template_rows": null,
            "height": null,
            "justify_content": null,
            "justify_items": null,
            "left": null,
            "margin": null,
            "max_height": null,
            "max_width": null,
            "min_height": null,
            "min_width": null,
            "object_fit": null,
            "object_position": null,
            "order": null,
            "overflow": null,
            "overflow_x": null,
            "overflow_y": null,
            "padding": null,
            "right": null,
            "top": null,
            "visibility": null,
            "width": "20px"
          }
        },
        "c82449db4d834e568bde17fcbc24df11": {
          "model_module": "@jupyter-widgets/controls",
          "model_name": "ProgressStyleModel",
          "model_module_version": "1.5.0",
          "state": {
            "_model_module": "@jupyter-widgets/controls",
            "_model_module_version": "1.5.0",
            "_model_name": "ProgressStyleModel",
            "_view_count": null,
            "_view_module": "@jupyter-widgets/base",
            "_view_module_version": "1.2.0",
            "_view_name": "StyleView",
            "bar_color": null,
            "description_width": ""
          }
        },
        "0de4d5a5a3144c94a99f4cd8c66d617b": {
          "model_module": "@jupyter-widgets/base",
          "model_name": "LayoutModel",
          "model_module_version": "1.2.0",
          "state": {
            "_model_module": "@jupyter-widgets/base",
            "_model_module_version": "1.2.0",
            "_model_name": "LayoutModel",
            "_view_count": null,
            "_view_module": "@jupyter-widgets/base",
            "_view_module_version": "1.2.0",
            "_view_name": "LayoutView",
            "align_content": null,
            "align_items": null,
            "align_self": null,
            "border": null,
            "bottom": null,
            "display": null,
            "flex": null,
            "flex_flow": null,
            "grid_area": null,
            "grid_auto_columns": null,
            "grid_auto_flow": null,
            "grid_auto_rows": null,
            "grid_column": null,
            "grid_gap": null,
            "grid_row": null,
            "grid_template_areas": null,
            "grid_template_columns": null,
            "grid_template_rows": null,
            "height": null,
            "justify_content": null,
            "justify_items": null,
            "left": null,
            "margin": null,
            "max_height": null,
            "max_width": null,
            "min_height": null,
            "min_width": null,
            "object_fit": null,
            "object_position": null,
            "order": null,
            "overflow": null,
            "overflow_x": null,
            "overflow_y": null,
            "padding": null,
            "right": null,
            "top": null,
            "visibility": null,
            "width": null
          }
        },
        "f90c5e9bfce141fc8f951b2da91239f7": {
          "model_module": "@jupyter-widgets/controls",
          "model_name": "DescriptionStyleModel",
          "model_module_version": "1.5.0",
          "state": {
            "_model_module": "@jupyter-widgets/controls",
            "_model_module_version": "1.5.0",
            "_model_name": "DescriptionStyleModel",
            "_view_count": null,
            "_view_module": "@jupyter-widgets/base",
            "_view_module_version": "1.2.0",
            "_view_name": "StyleView",
            "description_width": ""
          }
        },
        "544e4b26ab7144c7bcf173dd693cb98c": {
          "model_module": "@jupyter-widgets/controls",
          "model_name": "HBoxModel",
          "model_module_version": "1.5.0",
          "state": {
            "_dom_classes": [],
            "_model_module": "@jupyter-widgets/controls",
            "_model_module_version": "1.5.0",
            "_model_name": "HBoxModel",
            "_view_count": null,
            "_view_module": "@jupyter-widgets/controls",
            "_view_module_version": "1.5.0",
            "_view_name": "HBoxView",
            "box_style": "",
            "children": [
              "IPY_MODEL_5c0aa34c08694a3d844f07a68dd04e0d",
              "IPY_MODEL_5cd77272a70943ea8f74fc75ec6149ee",
              "IPY_MODEL_edc7336d2e2749998f898c6a0bd85612"
            ],
            "layout": "IPY_MODEL_fbf7092112d341fcbd910980d3f05728"
          }
        },
        "5c0aa34c08694a3d844f07a68dd04e0d": {
          "model_module": "@jupyter-widgets/controls",
          "model_name": "HTMLModel",
          "model_module_version": "1.5.0",
          "state": {
            "_dom_classes": [],
            "_model_module": "@jupyter-widgets/controls",
            "_model_module_version": "1.5.0",
            "_model_name": "HTMLModel",
            "_view_count": null,
            "_view_module": "@jupyter-widgets/controls",
            "_view_module_version": "1.5.0",
            "_view_name": "HTMLView",
            "description": "",
            "description_tooltip": null,
            "layout": "IPY_MODEL_c1cd5f6c1ac848f9b61a0222d4116776",
            "placeholder": "​",
            "style": "IPY_MODEL_8941af5fab4c45fbb1f8f532b12e7408",
            "value": "100%"
          }
        },
        "5cd77272a70943ea8f74fc75ec6149ee": {
          "model_module": "@jupyter-widgets/controls",
          "model_name": "FloatProgressModel",
          "model_module_version": "1.5.0",
          "state": {
            "_dom_classes": [],
            "_model_module": "@jupyter-widgets/controls",
            "_model_module_version": "1.5.0",
            "_model_name": "FloatProgressModel",
            "_view_count": null,
            "_view_module": "@jupyter-widgets/controls",
            "_view_module_version": "1.5.0",
            "_view_name": "ProgressView",
            "bar_style": "success",
            "description": "",
            "description_tooltip": null,
            "layout": "IPY_MODEL_beeacd66fcb64cbf85a2ec9e63db9d65",
            "max": 1,
            "min": 0,
            "orientation": "horizontal",
            "style": "IPY_MODEL_ebe07e6545fb4f6d8abd2b5ea49d7283",
            "value": 1
          }
        },
        "edc7336d2e2749998f898c6a0bd85612": {
          "model_module": "@jupyter-widgets/controls",
          "model_name": "HTMLModel",
          "model_module_version": "1.5.0",
          "state": {
            "_dom_classes": [],
            "_model_module": "@jupyter-widgets/controls",
            "_model_module_version": "1.5.0",
            "_model_name": "HTMLModel",
            "_view_count": null,
            "_view_module": "@jupyter-widgets/controls",
            "_view_module_version": "1.5.0",
            "_view_name": "HTMLView",
            "description": "",
            "description_tooltip": null,
            "layout": "IPY_MODEL_cf6f4b51a00449b1824f26ca8748697e",
            "placeholder": "​",
            "style": "IPY_MODEL_74cada954ad844cfa0bdbcd5e40c2d6c",
            "value": " 1/1 [00:00&lt;00:00, 27.20it/s]"
          }
        },
        "fbf7092112d341fcbd910980d3f05728": {
          "model_module": "@jupyter-widgets/base",
          "model_name": "LayoutModel",
          "model_module_version": "1.2.0",
          "state": {
            "_model_module": "@jupyter-widgets/base",
            "_model_module_version": "1.2.0",
            "_model_name": "LayoutModel",
            "_view_count": null,
            "_view_module": "@jupyter-widgets/base",
            "_view_module_version": "1.2.0",
            "_view_name": "LayoutView",
            "align_content": null,
            "align_items": null,
            "align_self": null,
            "border": null,
            "bottom": null,
            "display": null,
            "flex": null,
            "flex_flow": null,
            "grid_area": null,
            "grid_auto_columns": null,
            "grid_auto_flow": null,
            "grid_auto_rows": null,
            "grid_column": null,
            "grid_gap": null,
            "grid_row": null,
            "grid_template_areas": null,
            "grid_template_columns": null,
            "grid_template_rows": null,
            "height": null,
            "justify_content": null,
            "justify_items": null,
            "left": null,
            "margin": null,
            "max_height": null,
            "max_width": null,
            "min_height": null,
            "min_width": null,
            "object_fit": null,
            "object_position": null,
            "order": null,
            "overflow": null,
            "overflow_x": null,
            "overflow_y": null,
            "padding": null,
            "right": null,
            "top": null,
            "visibility": null,
            "width": null
          }
        },
        "c1cd5f6c1ac848f9b61a0222d4116776": {
          "model_module": "@jupyter-widgets/base",
          "model_name": "LayoutModel",
          "model_module_version": "1.2.0",
          "state": {
            "_model_module": "@jupyter-widgets/base",
            "_model_module_version": "1.2.0",
            "_model_name": "LayoutModel",
            "_view_count": null,
            "_view_module": "@jupyter-widgets/base",
            "_view_module_version": "1.2.0",
            "_view_name": "LayoutView",
            "align_content": null,
            "align_items": null,
            "align_self": null,
            "border": null,
            "bottom": null,
            "display": null,
            "flex": null,
            "flex_flow": null,
            "grid_area": null,
            "grid_auto_columns": null,
            "grid_auto_flow": null,
            "grid_auto_rows": null,
            "grid_column": null,
            "grid_gap": null,
            "grid_row": null,
            "grid_template_areas": null,
            "grid_template_columns": null,
            "grid_template_rows": null,
            "height": null,
            "justify_content": null,
            "justify_items": null,
            "left": null,
            "margin": null,
            "max_height": null,
            "max_width": null,
            "min_height": null,
            "min_width": null,
            "object_fit": null,
            "object_position": null,
            "order": null,
            "overflow": null,
            "overflow_x": null,
            "overflow_y": null,
            "padding": null,
            "right": null,
            "top": null,
            "visibility": null,
            "width": null
          }
        },
        "8941af5fab4c45fbb1f8f532b12e7408": {
          "model_module": "@jupyter-widgets/controls",
          "model_name": "DescriptionStyleModel",
          "model_module_version": "1.5.0",
          "state": {
            "_model_module": "@jupyter-widgets/controls",
            "_model_module_version": "1.5.0",
            "_model_name": "DescriptionStyleModel",
            "_view_count": null,
            "_view_module": "@jupyter-widgets/base",
            "_view_module_version": "1.2.0",
            "_view_name": "StyleView",
            "description_width": ""
          }
        },
        "beeacd66fcb64cbf85a2ec9e63db9d65": {
          "model_module": "@jupyter-widgets/base",
          "model_name": "LayoutModel",
          "model_module_version": "1.2.0",
          "state": {
            "_model_module": "@jupyter-widgets/base",
            "_model_module_version": "1.2.0",
            "_model_name": "LayoutModel",
            "_view_count": null,
            "_view_module": "@jupyter-widgets/base",
            "_view_module_version": "1.2.0",
            "_view_name": "LayoutView",
            "align_content": null,
            "align_items": null,
            "align_self": null,
            "border": null,
            "bottom": null,
            "display": null,
            "flex": null,
            "flex_flow": null,
            "grid_area": null,
            "grid_auto_columns": null,
            "grid_auto_flow": null,
            "grid_auto_rows": null,
            "grid_column": null,
            "grid_gap": null,
            "grid_row": null,
            "grid_template_areas": null,
            "grid_template_columns": null,
            "grid_template_rows": null,
            "height": null,
            "justify_content": null,
            "justify_items": null,
            "left": null,
            "margin": null,
            "max_height": null,
            "max_width": null,
            "min_height": null,
            "min_width": null,
            "object_fit": null,
            "object_position": null,
            "order": null,
            "overflow": null,
            "overflow_x": null,
            "overflow_y": null,
            "padding": null,
            "right": null,
            "top": null,
            "visibility": null,
            "width": null
          }
        },
        "ebe07e6545fb4f6d8abd2b5ea49d7283": {
          "model_module": "@jupyter-widgets/controls",
          "model_name": "ProgressStyleModel",
          "model_module_version": "1.5.0",
          "state": {
            "_model_module": "@jupyter-widgets/controls",
            "_model_module_version": "1.5.0",
            "_model_name": "ProgressStyleModel",
            "_view_count": null,
            "_view_module": "@jupyter-widgets/base",
            "_view_module_version": "1.2.0",
            "_view_name": "StyleView",
            "bar_color": null,
            "description_width": ""
          }
        },
        "cf6f4b51a00449b1824f26ca8748697e": {
          "model_module": "@jupyter-widgets/base",
          "model_name": "LayoutModel",
          "model_module_version": "1.2.0",
          "state": {
            "_model_module": "@jupyter-widgets/base",
            "_model_module_version": "1.2.0",
            "_model_name": "LayoutModel",
            "_view_count": null,
            "_view_module": "@jupyter-widgets/base",
            "_view_module_version": "1.2.0",
            "_view_name": "LayoutView",
            "align_content": null,
            "align_items": null,
            "align_self": null,
            "border": null,
            "bottom": null,
            "display": null,
            "flex": null,
            "flex_flow": null,
            "grid_area": null,
            "grid_auto_columns": null,
            "grid_auto_flow": null,
            "grid_auto_rows": null,
            "grid_column": null,
            "grid_gap": null,
            "grid_row": null,
            "grid_template_areas": null,
            "grid_template_columns": null,
            "grid_template_rows": null,
            "height": null,
            "justify_content": null,
            "justify_items": null,
            "left": null,
            "margin": null,
            "max_height": null,
            "max_width": null,
            "min_height": null,
            "min_width": null,
            "object_fit": null,
            "object_position": null,
            "order": null,
            "overflow": null,
            "overflow_x": null,
            "overflow_y": null,
            "padding": null,
            "right": null,
            "top": null,
            "visibility": null,
            "width": null
          }
        },
        "74cada954ad844cfa0bdbcd5e40c2d6c": {
          "model_module": "@jupyter-widgets/controls",
          "model_name": "DescriptionStyleModel",
          "model_module_version": "1.5.0",
          "state": {
            "_model_module": "@jupyter-widgets/controls",
            "_model_module_version": "1.5.0",
            "_model_name": "DescriptionStyleModel",
            "_view_count": null,
            "_view_module": "@jupyter-widgets/base",
            "_view_module_version": "1.2.0",
            "_view_name": "StyleView",
            "description_width": ""
          }
        },
        "4d4241bf73f4484a9c71d23688324b89": {
          "model_module": "@jupyter-widgets/controls",
          "model_name": "HBoxModel",
          "model_module_version": "1.5.0",
          "state": {
            "_dom_classes": [],
            "_model_module": "@jupyter-widgets/controls",
            "_model_module_version": "1.5.0",
            "_model_name": "HBoxModel",
            "_view_count": null,
            "_view_module": "@jupyter-widgets/controls",
            "_view_module_version": "1.5.0",
            "_view_name": "HBoxView",
            "box_style": "",
            "children": [
              "IPY_MODEL_145a8f32e79e4266b7caeef61fcafc23",
              "IPY_MODEL_8bc3568e118f420da1f013a9b89ebfe5",
              "IPY_MODEL_2356c1ba1a9d4945a35c0fd800845cdb"
            ],
            "layout": "IPY_MODEL_5a2392f146a34b31bfc99b07d6ebf3a4"
          }
        },
        "145a8f32e79e4266b7caeef61fcafc23": {
          "model_module": "@jupyter-widgets/controls",
          "model_name": "HTMLModel",
          "model_module_version": "1.5.0",
          "state": {
            "_dom_classes": [],
            "_model_module": "@jupyter-widgets/controls",
            "_model_module_version": "1.5.0",
            "_model_name": "HTMLModel",
            "_view_count": null,
            "_view_module": "@jupyter-widgets/controls",
            "_view_module_version": "1.5.0",
            "_view_name": "HTMLView",
            "description": "",
            "description_tooltip": null,
            "layout": "IPY_MODEL_05fe9c5c8dcd4383ab7b8ca77c03996b",
            "placeholder": "​",
            "style": "IPY_MODEL_6642309ad51b46eea8a58860e3723962",
            "value": "Downloading tokenizer.json: 100%"
          }
        },
        "8bc3568e118f420da1f013a9b89ebfe5": {
          "model_module": "@jupyter-widgets/controls",
          "model_name": "FloatProgressModel",
          "model_module_version": "1.5.0",
          "state": {
            "_dom_classes": [],
            "_model_module": "@jupyter-widgets/controls",
            "_model_module_version": "1.5.0",
            "_model_name": "FloatProgressModel",
            "_view_count": null,
            "_view_module": "@jupyter-widgets/controls",
            "_view_module_version": "1.5.0",
            "_view_name": "ProgressView",
            "bar_style": "success",
            "description": "",
            "description_tooltip": null,
            "layout": "IPY_MODEL_287346f1bf904239ae804d735bf1648b",
            "max": 1355863,
            "min": 0,
            "orientation": "horizontal",
            "style": "IPY_MODEL_922411fd073448f08f8b38ca1bc17661",
            "value": 1355863
          }
        },
        "2356c1ba1a9d4945a35c0fd800845cdb": {
          "model_module": "@jupyter-widgets/controls",
          "model_name": "HTMLModel",
          "model_module_version": "1.5.0",
          "state": {
            "_dom_classes": [],
            "_model_module": "@jupyter-widgets/controls",
            "_model_module_version": "1.5.0",
            "_model_name": "HTMLModel",
            "_view_count": null,
            "_view_module": "@jupyter-widgets/controls",
            "_view_module_version": "1.5.0",
            "_view_name": "HTMLView",
            "description": "",
            "description_tooltip": null,
            "layout": "IPY_MODEL_005fe38415a94e7dbd25a224a3a66eac",
            "placeholder": "​",
            "style": "IPY_MODEL_01fe1e68c02541a3bba9c357857b1c60",
            "value": " 1.29M/1.29M [00:01&lt;00:00, 1.15MB/s]"
          }
        },
        "5a2392f146a34b31bfc99b07d6ebf3a4": {
          "model_module": "@jupyter-widgets/base",
          "model_name": "LayoutModel",
          "model_module_version": "1.2.0",
          "state": {
            "_model_module": "@jupyter-widgets/base",
            "_model_module_version": "1.2.0",
            "_model_name": "LayoutModel",
            "_view_count": null,
            "_view_module": "@jupyter-widgets/base",
            "_view_module_version": "1.2.0",
            "_view_name": "LayoutView",
            "align_content": null,
            "align_items": null,
            "align_self": null,
            "border": null,
            "bottom": null,
            "display": null,
            "flex": null,
            "flex_flow": null,
            "grid_area": null,
            "grid_auto_columns": null,
            "grid_auto_flow": null,
            "grid_auto_rows": null,
            "grid_column": null,
            "grid_gap": null,
            "grid_row": null,
            "grid_template_areas": null,
            "grid_template_columns": null,
            "grid_template_rows": null,
            "height": null,
            "justify_content": null,
            "justify_items": null,
            "left": null,
            "margin": null,
            "max_height": null,
            "max_width": null,
            "min_height": null,
            "min_width": null,
            "object_fit": null,
            "object_position": null,
            "order": null,
            "overflow": null,
            "overflow_x": null,
            "overflow_y": null,
            "padding": null,
            "right": null,
            "top": null,
            "visibility": null,
            "width": null
          }
        },
        "05fe9c5c8dcd4383ab7b8ca77c03996b": {
          "model_module": "@jupyter-widgets/base",
          "model_name": "LayoutModel",
          "model_module_version": "1.2.0",
          "state": {
            "_model_module": "@jupyter-widgets/base",
            "_model_module_version": "1.2.0",
            "_model_name": "LayoutModel",
            "_view_count": null,
            "_view_module": "@jupyter-widgets/base",
            "_view_module_version": "1.2.0",
            "_view_name": "LayoutView",
            "align_content": null,
            "align_items": null,
            "align_self": null,
            "border": null,
            "bottom": null,
            "display": null,
            "flex": null,
            "flex_flow": null,
            "grid_area": null,
            "grid_auto_columns": null,
            "grid_auto_flow": null,
            "grid_auto_rows": null,
            "grid_column": null,
            "grid_gap": null,
            "grid_row": null,
            "grid_template_areas": null,
            "grid_template_columns": null,
            "grid_template_rows": null,
            "height": null,
            "justify_content": null,
            "justify_items": null,
            "left": null,
            "margin": null,
            "max_height": null,
            "max_width": null,
            "min_height": null,
            "min_width": null,
            "object_fit": null,
            "object_position": null,
            "order": null,
            "overflow": null,
            "overflow_x": null,
            "overflow_y": null,
            "padding": null,
            "right": null,
            "top": null,
            "visibility": null,
            "width": null
          }
        },
        "6642309ad51b46eea8a58860e3723962": {
          "model_module": "@jupyter-widgets/controls",
          "model_name": "DescriptionStyleModel",
          "model_module_version": "1.5.0",
          "state": {
            "_model_module": "@jupyter-widgets/controls",
            "_model_module_version": "1.5.0",
            "_model_name": "DescriptionStyleModel",
            "_view_count": null,
            "_view_module": "@jupyter-widgets/base",
            "_view_module_version": "1.2.0",
            "_view_name": "StyleView",
            "description_width": ""
          }
        },
        "287346f1bf904239ae804d735bf1648b": {
          "model_module": "@jupyter-widgets/base",
          "model_name": "LayoutModel",
          "model_module_version": "1.2.0",
          "state": {
            "_model_module": "@jupyter-widgets/base",
            "_model_module_version": "1.2.0",
            "_model_name": "LayoutModel",
            "_view_count": null,
            "_view_module": "@jupyter-widgets/base",
            "_view_module_version": "1.2.0",
            "_view_name": "LayoutView",
            "align_content": null,
            "align_items": null,
            "align_self": null,
            "border": null,
            "bottom": null,
            "display": null,
            "flex": null,
            "flex_flow": null,
            "grid_area": null,
            "grid_auto_columns": null,
            "grid_auto_flow": null,
            "grid_auto_rows": null,
            "grid_column": null,
            "grid_gap": null,
            "grid_row": null,
            "grid_template_areas": null,
            "grid_template_columns": null,
            "grid_template_rows": null,
            "height": null,
            "justify_content": null,
            "justify_items": null,
            "left": null,
            "margin": null,
            "max_height": null,
            "max_width": null,
            "min_height": null,
            "min_width": null,
            "object_fit": null,
            "object_position": null,
            "order": null,
            "overflow": null,
            "overflow_x": null,
            "overflow_y": null,
            "padding": null,
            "right": null,
            "top": null,
            "visibility": null,
            "width": null
          }
        },
        "922411fd073448f08f8b38ca1bc17661": {
          "model_module": "@jupyter-widgets/controls",
          "model_name": "ProgressStyleModel",
          "model_module_version": "1.5.0",
          "state": {
            "_model_module": "@jupyter-widgets/controls",
            "_model_module_version": "1.5.0",
            "_model_name": "ProgressStyleModel",
            "_view_count": null,
            "_view_module": "@jupyter-widgets/base",
            "_view_module_version": "1.2.0",
            "_view_name": "StyleView",
            "bar_color": null,
            "description_width": ""
          }
        },
        "005fe38415a94e7dbd25a224a3a66eac": {
          "model_module": "@jupyter-widgets/base",
          "model_name": "LayoutModel",
          "model_module_version": "1.2.0",
          "state": {
            "_model_module": "@jupyter-widgets/base",
            "_model_module_version": "1.2.0",
            "_model_name": "LayoutModel",
            "_view_count": null,
            "_view_module": "@jupyter-widgets/base",
            "_view_module_version": "1.2.0",
            "_view_name": "LayoutView",
            "align_content": null,
            "align_items": null,
            "align_self": null,
            "border": null,
            "bottom": null,
            "display": null,
            "flex": null,
            "flex_flow": null,
            "grid_area": null,
            "grid_auto_columns": null,
            "grid_auto_flow": null,
            "grid_auto_rows": null,
            "grid_column": null,
            "grid_gap": null,
            "grid_row": null,
            "grid_template_areas": null,
            "grid_template_columns": null,
            "grid_template_rows": null,
            "height": null,
            "justify_content": null,
            "justify_items": null,
            "left": null,
            "margin": null,
            "max_height": null,
            "max_width": null,
            "min_height": null,
            "min_width": null,
            "object_fit": null,
            "object_position": null,
            "order": null,
            "overflow": null,
            "overflow_x": null,
            "overflow_y": null,
            "padding": null,
            "right": null,
            "top": null,
            "visibility": null,
            "width": null
          }
        },
        "01fe1e68c02541a3bba9c357857b1c60": {
          "model_module": "@jupyter-widgets/controls",
          "model_name": "DescriptionStyleModel",
          "model_module_version": "1.5.0",
          "state": {
            "_model_module": "@jupyter-widgets/controls",
            "_model_module_version": "1.5.0",
            "_model_name": "DescriptionStyleModel",
            "_view_count": null,
            "_view_module": "@jupyter-widgets/base",
            "_view_module_version": "1.2.0",
            "_view_name": "StyleView",
            "description_width": ""
          }
        }
      }
    }
  },
  "nbformat": 4,
  "nbformat_minor": 0
}