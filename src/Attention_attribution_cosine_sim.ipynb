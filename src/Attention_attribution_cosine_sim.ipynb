{
  "cells": [
    {
      "cell_type": "markdown",
      "metadata": {
        "id": "view-in-github",
        "colab_type": "text"
      },
      "source": [
        "<a href=\"https://colab.research.google.com/github/danielhou13/cogs402longformer/blob/main/src/Attention_attribution_cosine_sim.ipynb\" target=\"_parent\"><img src=\"https://colab.research.google.com/assets/colab-badge.svg\" alt=\"Open In Colab\"/></a>"
      ]
    },
    {
      "cell_type": "markdown",
      "source": [
        "This notebook explores the relation between the model's attributions and attentions for a given example. Historically, we found that attentions are not a feasible method of explanation whereas attributions are, but attributions are also not part of a model's traditional outputs. Therefore it may be interesting to see if we can find anything with attentions by comparing them to a feasible and plausible method of explanation."
      ],
      "metadata": {
        "id": "mlqrlFd9SzDV"
      }
    },
    {
      "cell_type": "code",
      "source": [
        "from google.colab import drive\n",
        "drive.mount('/content/drive')"
      ],
      "metadata": {
        "colab": {
          "base_uri": "https://localhost:8080/"
        },
        "id": "4G07aiA37RC9",
        "outputId": "11e24362-97b2-4ad7-f0c2-b12bd625184b"
      },
      "execution_count": 332,
      "outputs": [
        {
          "output_type": "stream",
          "name": "stdout",
          "text": [
            "Drive already mounted at /content/drive; to attempt to forcibly remount, call drive.mount(\"/content/drive\", force_remount=True).\n"
          ]
        }
      ]
    },
    {
      "cell_type": "markdown",
      "source": [
        "## Import dependencies"
      ],
      "metadata": {
        "id": "HkZ5bD2_z-0C"
      }
    },
    {
      "cell_type": "code",
      "source": [
        "pip install transformers --quiet"
      ],
      "metadata": {
        "id": "zMjzQIFJ2P_T"
      },
      "execution_count": 333,
      "outputs": []
    },
    {
      "cell_type": "code",
      "source": [
        "pip install captum --quiet"
      ],
      "metadata": {
        "id": "Uno0qwr12UTd"
      },
      "execution_count": 334,
      "outputs": []
    },
    {
      "cell_type": "code",
      "source": [
        "pip install datasets --quiet"
      ],
      "metadata": {
        "id": "OaOSPMJE3ONc"
      },
      "execution_count": 335,
      "outputs": []
    },
    {
      "cell_type": "code",
      "source": [
        "import os\n",
        "os.environ['CUDA_LAUNCH_BLOCKING'] = \"1\""
      ],
      "metadata": {
        "id": "hRSNYTrRIPkr"
      },
      "execution_count": 336,
      "outputs": []
    },
    {
      "cell_type": "code",
      "execution_count": 337,
      "metadata": {
        "id": "wrRRZJ6-0_Il"
      },
      "outputs": [],
      "source": [
        "from captum.attr import visualization as viz\n",
        "from captum.attr import IntegratedGradients, LayerConductance, LayerIntegratedGradients\n",
        "from captum.attr import configure_interpretable_embedding_layer, remove_interpretable_embedding_layer\n",
        "\n",
        "import torch\n",
        "import pandas as pd"
      ]
    },
    {
      "cell_type": "code",
      "execution_count": 338,
      "metadata": {
        "id": "b5V31lsc0_Il"
      },
      "outputs": [],
      "source": [
        "device = torch.device(\"cuda:0\" if torch.cuda.is_available() else \"cpu\")"
      ]
    },
    {
      "cell_type": "markdown",
      "source": [
        "## Import model"
      ],
      "metadata": {
        "id": "USHRv2j70Fb4"
      }
    },
    {
      "cell_type": "code",
      "execution_count": 339,
      "metadata": {
        "id": "9nzBfB-v0_Im"
      },
      "outputs": [],
      "source": [
        "from transformers import LongformerForSequenceClassification, LongformerTokenizer, LongformerConfig\n",
        "# replace <PATH-TO-SAVED-MODEL> with the real path of the saved model\n",
        "model_path = 'danielhou13/longformer-finetuned_papers_v2'\n",
        "#model_path = 'danielhou13/longformer-finetuned-new-cogs402'\n",
        "\n",
        "# load model\n",
        "model = LongformerForSequenceClassification.from_pretrained(model_path, num_labels = 2)\n",
        "model.to(device)\n",
        "model.eval()\n",
        "model.zero_grad()\n",
        "\n",
        "# load tokenizer\n",
        "tokenizer = LongformerTokenizer.from_pretrained(\"allenai/longformer-base-4096\")"
      ]
    },
    {
      "cell_type": "markdown",
      "source": [
        "Create functions that give us the input ids and the position ids for the text we want to examine"
      ],
      "metadata": {
        "id": "bqbvfvXv0VTp"
      }
    },
    {
      "cell_type": "code",
      "execution_count": 340,
      "metadata": {
        "id": "y5-heo2y0_Im"
      },
      "outputs": [],
      "source": [
        "def predict(inputs, position_ids=None, attention_mask=None):\n",
        "    output = model(inputs,\n",
        "                   position_ids=position_ids,\n",
        "                   attention_mask=attention_mask)\n",
        "    return output.logits"
      ]
    },
    {
      "cell_type": "code",
      "execution_count": 341,
      "metadata": {
        "id": "vAAjmDRl0_In"
      },
      "outputs": [],
      "source": [
        "ref_token_id = tokenizer.pad_token_id # A token used for generating token reference\n",
        "sep_token_id = tokenizer.sep_token_id # A token used as a separator between question and text and it is also added to the end of the text.\n",
        "cls_token_id = tokenizer.cls_token_id # A token used for prepending to the concatenated question-text word sequence"
      ]
    },
    {
      "cell_type": "code",
      "execution_count": 342,
      "metadata": {
        "id": "UgBSBpz-0_In"
      },
      "outputs": [],
      "source": [
        "max_length = 2046\n",
        "def construct_input_ref_pair(text, ref_token_id, sep_token_id, cls_token_id):\n",
        "\n",
        "    text_ids = tokenizer.encode(text, truncation = True, add_special_tokens=False, max_length = max_length)\n",
        "    # construct input token ids\n",
        "    input_ids = [cls_token_id] + text_ids + [sep_token_id]\n",
        "    # construct reference token ids \n",
        "    ref_input_ids = [cls_token_id] + [ref_token_id] * len(text_ids) + [sep_token_id]\n",
        "\n",
        "    return torch.tensor([input_ids], device=device), torch.tensor([ref_input_ids], device=device), len(text_ids)\n",
        "\n",
        "def construct_input_ref_pos_id_pair(input_ids):\n",
        "    seq_length = input_ids.size(1)\n",
        "\n",
        "    #taken from the longformer implementation\n",
        "    mask = input_ids.ne(ref_token_id).int()\n",
        "    incremental_indices = torch.cumsum(mask, dim=1).type_as(mask) * mask\n",
        "    position_ids = incremental_indices.long().squeeze() + ref_token_id\n",
        "\n",
        "    # we could potentially also use random permutation with `torch.randperm(seq_length, device=device)`\n",
        "    ref_position_ids = torch.zeros(seq_length, dtype=torch.long, device=device)\n",
        "\n",
        "    position_ids = position_ids.unsqueeze(0).expand_as(input_ids)\n",
        "    ref_position_ids = ref_position_ids.unsqueeze(0).expand_as(input_ids)\n",
        "    return position_ids, ref_position_ids\n",
        "    \n",
        "def construct_attention_mask(input_ids):\n",
        "    return torch.ones_like(input_ids)"
      ]
    },
    {
      "cell_type": "markdown",
      "source": [
        "Import dataset and take a few examples from it for testing purposes"
      ],
      "metadata": {
        "id": "BdY6GsO00RG_"
      }
    },
    {
      "cell_type": "markdown",
      "source": [
        "Here we import the papers dataset"
      ],
      "metadata": {
        "id": "e_gGIPpwkmbH"
      }
    },
    {
      "cell_type": "code",
      "execution_count": 343,
      "metadata": {
        "id": "w6aQM9nM0_Ip",
        "colab": {
          "base_uri": "https://localhost:8080/",
          "height": 84,
          "referenced_widgets": [
            "0966e7f95cb34762b3ac81e97389b784",
            "de5cbef4d77a435781567241fb0c4e38",
            "e9b750ae6a7f4e1b86c324eb973d0dc7",
            "f817de62cd434a98a25fe83c15b209c8",
            "ab3f6334df3f4e89b7e6e479cd3323ee",
            "9207ad0cc09541bf8e9e5f867e61dfd5",
            "7a7ed35e872043e390c9caa0e85faf2c",
            "8dbbf4b9b7c84b8eb84311c25588cdb6",
            "a27affa8c60e476f97c869a4e88fb687",
            "de96b22b81ff4725b21fff44c6aeebbd",
            "5f77e03e8c38476cb61ccc61969475d2"
          ]
        },
        "outputId": "346d6dab-126f-4f70-8f96-d6ecc3fcaefa"
      },
      "outputs": [
        {
          "output_type": "stream",
          "name": "stderr",
          "text": [
            "Using custom data configuration danielhou13--cogs402dataset-144b958ac1a53abb\n",
            "Reusing dataset parquet (/root/.cache/huggingface/datasets/danielhou13___parquet/danielhou13--cogs402dataset-144b958ac1a53abb/0.0.0/7328ef7ee03eaf3f86ae40594d46a1cec86161704e02dd19f232d81eee72ade8)\n"
          ]
        },
        {
          "output_type": "display_data",
          "data": {
            "text/plain": [
              "  0%|          | 0/2 [00:00<?, ?it/s]"
            ],
            "application/vnd.jupyter.widget-view+json": {
              "version_major": 2,
              "version_minor": 0,
              "model_id": "0966e7f95cb34762b3ac81e97389b784"
            }
          },
          "metadata": {}
        }
      ],
      "source": [
        "from datasets import load_dataset\n",
        "import numpy as np\n",
        "cogs402_ds = load_dataset(\"danielhou13/cogs402dataset\")[\"test\"]"
      ]
    },
    {
      "cell_type": "markdown",
      "source": [
        "Here we import the news dataset"
      ],
      "metadata": {
        "id": "bHUUw096r-EL"
      }
    },
    {
      "cell_type": "code",
      "source": [
        "# cogs402_ds2 = load_dataset('hyperpartisan_news_detection', 'bypublisher')['validation']\n",
        "# val_size = 5000\n",
        "# val_indices = np.random.randint(0, len(cogs402_ds2), val_size)\n",
        "# val_ds = cogs402_ds2.select(val_indices)\n",
        "# labels2 = map(int, val_ds['hyperpartisan'])\n",
        "# labels2 = list(labels2)\n",
        "# val_ds = val_ds.add_column(\"labels\", labels2)"
      ],
      "metadata": {
        "id": "58zzpZYRWRDj"
      },
      "execution_count": 344,
      "outputs": []
    },
    {
      "cell_type": "code",
      "execution_count": 345,
      "metadata": {
        "id": "axwpHq-y0_Io"
      },
      "outputs": [],
      "source": [
        "#set 1 if we are dealing with a positive class, and 0 if dealing with negative class\n",
        "def custom_forward(inputs, position_ids=None, attention_mask=None):\n",
        "    preds = predict(inputs,\n",
        "                   position_ids=position_ids,\n",
        "                   attention_mask=attention_mask\n",
        "                   )\n",
        "    return torch.softmax(preds, dim = 1)"
      ]
    },
    {
      "cell_type": "markdown",
      "source": [
        "Perform Layer Integrated Gradients using the longformer's embeddings"
      ],
      "metadata": {
        "id": "bQaYaSDf0buh"
      }
    },
    {
      "cell_type": "code",
      "execution_count": 346,
      "metadata": {
        "id": "lIeE9P7b0_Ir"
      },
      "outputs": [],
      "source": [
        "def summarize_attributions(attributions):\n",
        "    attributions = attributions.sum(dim=-1).squeeze(0)\n",
        "    return attributions"
      ]
    },
    {
      "cell_type": "code",
      "execution_count": 347,
      "metadata": {
        "id": "4uDuDrip0_Ip"
      },
      "outputs": [],
      "source": [
        "lig = LayerIntegratedGradients(custom_forward, model.longformer.embeddings)"
      ]
    },
    {
      "cell_type": "markdown",
      "source": [
        "This function will let us get the example and the baseline inputs in order to perform integrated gradients, and add the attributions to our visualization tool. Additionally, we will add the attributions and tokens for each example into an array so we can use them when we want to further example the attributions scores for each example"
      ],
      "metadata": {
        "id": "n2Xp75N0rtqa"
      }
    },
    {
      "cell_type": "code",
      "source": [
        "all_attributions = {}\n",
        "all_tokens = {}"
      ],
      "metadata": {
        "id": "wf1SNgF73l1K"
      },
      "execution_count": 348,
      "outputs": []
    },
    {
      "cell_type": "code",
      "source": [
        "all_attributions = torch.load('/content/drive/MyDrive/cogs402longformer/results/papers/papers_attributions/example_attrib_dict.pt')"
      ],
      "metadata": {
        "id": "g4nc7qSvUedJ"
      },
      "execution_count": 487,
      "outputs": []
    },
    {
      "cell_type": "code",
      "source": [
        "example = 605\n",
        "text = cogs402_ds['text'][example]\n",
        "label = cogs402_ds['labels'][example]\n",
        "\n",
        "input_ids, ref_input_ids, sep_id = construct_input_ref_pair(text, ref_token_id, sep_token_id, cls_token_id)\n",
        "position_ids, ref_position_ids = construct_input_ref_pos_id_pair(input_ids)\n",
        "attention_mask = construct_attention_mask(input_ids)\n",
        "\n",
        "indices = input_ids[0].detach().tolist()\n",
        "all_tokens_curr = tokenizer.convert_ids_to_tokens(indices)\n",
        "\n",
        "all_tokens[str(example)] = all_tokens_curr"
      ],
      "metadata": {
        "id": "Cjdh0g6UedZo"
      },
      "execution_count": 776,
      "outputs": []
    },
    {
      "cell_type": "code",
      "source": [
        "# attributions, delta = lig.attribute(inputs=input_ids,\n",
        "#                                   baselines=ref_input_ids,\n",
        "#                                   return_convergence_delta=True,\n",
        "#                                   additional_forward_args=(position_ids, attention_mask),\n",
        "#                                   target=1,\n",
        "#                                   n_steps=1500,\n",
        "#                                   internal_batch_size = 2)\n",
        "\n",
        "# attributions_sum = summarize_attributions(attributions)\n",
        "\n",
        "# all_attributions[str(example)] = attributions_sum.detach().cpu().numpy()"
      ],
      "metadata": {
        "id": "BSI1Azc2SxvL"
      },
      "execution_count": 777,
      "outputs": []
    },
    {
      "cell_type": "code",
      "source": [
        "# torch.save(all_attributions, '/content/drive/MyDrive/cogs402longformer/results/papers/papers_attributions/example_attrib_dict.pt')"
      ],
      "metadata": {
        "id": "Dvsiq5chRqca"
      },
      "execution_count": 778,
      "outputs": []
    },
    {
      "cell_type": "code",
      "source": [
        "# all_attributions = torch.load('/content/drive/MyDrive/cogs402longformer/results/papers/papers_attributions/example_attrib_dict.pt')"
      ],
      "metadata": {
        "id": "eJuGcLQpS-Ky"
      },
      "execution_count": 779,
      "outputs": []
    },
    {
      "cell_type": "code",
      "source": [
        "print(all_attributions)"
      ],
      "metadata": {
        "colab": {
          "base_uri": "https://localhost:8080/"
        },
        "id": "aA--ygMwhjNm",
        "outputId": "c61075fb-7aff-4011-9d85-b2bb30499eea"
      },
      "execution_count": 780,
      "outputs": [
        {
          "output_type": "stream",
          "name": "stdout",
          "text": [
            "{'605': array([ 0.00000000e+00, -3.40173878e-06, -1.12807776e-06, ...,\n",
            "        4.23677990e-06,  7.29073352e-06,  0.00000000e+00]), '976': array([ 0.00000000e+00, -1.84040401e-04,  1.46363292e-05, ...,\n",
            "       -2.48273481e-06,  1.11380563e-04,  0.00000000e+00]), '148': array([ 0.        ,  0.00225466,  0.00335924, ...,  0.00014387,\n",
            "       -0.000275  ,  0.        ]), '891': array([ 0.00000000e+00, -1.05098504e-03, -2.83239306e-03, ...,\n",
            "        1.52405500e-06,  9.14739375e-05,  0.00000000e+00])}\n"
          ]
        }
      ]
    },
    {
      "cell_type": "markdown",
      "source": [
        "We then get the attentions and global attentions so we can compare with the attributions"
      ],
      "metadata": {
        "id": "BGDWlUa3GvNS"
      }
    },
    {
      "cell_type": "code",
      "source": [
        "output = model(input_ids.cuda(), attention_mask=attention_mask.cuda(), labels=torch.tensor(label).cuda(), output_attentions = True)\n",
        "batch_attn = output[-2]\n",
        "output_attentions = torch.stack(batch_attn).cpu()\n",
        "global_attention = output[-1]\n",
        "output_global_attentions = torch.stack(global_attention).cpu()\n",
        "print(\"output_attention.shape\", output_attentions.shape)\n",
        "print(\"gl_output_attention.shape\", output_global_attentions.shape)"
      ],
      "metadata": {
        "colab": {
          "base_uri": "https://localhost:8080/"
        },
        "id": "mx69KUz20KmC",
        "outputId": "3871dc93-5e59-4a8c-a339-59f5cbe159b4"
      },
      "execution_count": 781,
      "outputs": [
        {
          "output_type": "stream",
          "name": "stdout",
          "text": [
            "output_attention.shape torch.Size([12, 1, 12, 2048, 514])\n",
            "gl_output_attention.shape torch.Size([12, 1, 12, 2048, 1])\n"
          ]
        }
      ]
    },
    {
      "cell_type": "markdown",
      "source": [
        "Since the longformer has a unique attention matrix shape, we convert it into the required sequence length x sequence length matrix"
      ],
      "metadata": {
        "id": "dISC7-FaG2Lh"
      }
    },
    {
      "cell_type": "code",
      "source": [
        "def create_head_matrix(output_attentions, global_attentions):\n",
        "    new_attention_matrix = torch.zeros((output_attentions.shape[0], \n",
        "                                      output_attentions.shape[0]))\n",
        "    for i in range(output_attentions.shape[0]):\n",
        "        test_non_zeroes = torch.nonzero(output_attentions[i]).squeeze()\n",
        "        test2 = output_attentions[i][test_non_zeroes[1:]]\n",
        "        new_attention_matrix_indices = test_non_zeroes[1:]-257 + i\n",
        "        new_attention_matrix[i][new_attention_matrix_indices] = test2\n",
        "        new_attention_matrix[i][0] = output_attentions[i][0]\n",
        "        new_attention_matrix[0] = global_attentions.squeeze()[:output_attentions.shape[0]]\n",
        "    return new_attention_matrix\n",
        "\n",
        "\n",
        "def attentions_all_heads(output_attentions, global_attentions):\n",
        "    new_matrix = []\n",
        "    for i in range(output_attentions.shape[0]):\n",
        "        matrix = create_head_matrix(output_attentions[i], global_attentions[i])\n",
        "        new_matrix.append(matrix)\n",
        "    return torch.stack(new_matrix)\n",
        "\n",
        "def all_batches(output_attentions, global_attentions):\n",
        "    new_matrix = []\n",
        "    for i in range(output_attentions.shape[0]):\n",
        "        matrix = attentions_all_heads(output_attentions[i], global_attentions[i])\n",
        "        new_matrix.append(matrix)\n",
        "    return torch.stack(new_matrix)\n",
        "\n",
        "def all_layers(output_attentions, global_attentions):\n",
        "    new_matrix = []\n",
        "    for i in range(output_attentions.shape[0]):\n",
        "        matrix = all_batches(output_attentions[i], global_attentions[i])\n",
        "        new_matrix.append(matrix)\n",
        "    return torch.stack(new_matrix)"
      ],
      "metadata": {
        "id": "AFyZpNST1JRr"
      },
      "execution_count": 782,
      "outputs": []
    },
    {
      "cell_type": "code",
      "source": [
        "converted_mat = all_layers(output_attentions, output_global_attentions).detach().cpu().numpy()\n",
        "print(converted_mat.shape)"
      ],
      "metadata": {
        "colab": {
          "base_uri": "https://localhost:8080/"
        },
        "id": "q48gadDy1Kgi",
        "outputId": "f5619662-fdce-495e-be3d-116cb33ea448"
      },
      "execution_count": 783,
      "outputs": [
        {
          "output_type": "stream",
          "name": "stdout",
          "text": [
            "(12, 1, 12, 2048, 2048)\n"
          ]
        }
      ]
    },
    {
      "cell_type": "markdown",
      "source": [
        "We scale the attention matrix by head importance"
      ],
      "metadata": {
        "id": "WJynBkquG9cv"
      }
    },
    {
      "cell_type": "code",
      "source": [
        "head_importance = torch.load(\"/content/drive/MyDrive/cogs402longformer/t3-visapplication/resources/papers/pretrained/head_importance.pt\")\n",
        "# head_importance = torch.load(\"/content/drive/MyDrive/cogs402longformer/t3-visapplication/resources/news/head_importance.pt\")"
      ],
      "metadata": {
        "id": "Bt_2TsKb1ML5"
      },
      "execution_count": 784,
      "outputs": []
    },
    {
      "cell_type": "code",
      "source": [
        "def scale_by_importance(attention_matrix, head_importance):\n",
        "  new_matrix = np.zeros_like(attention_matrix)\n",
        "  for i in range(attention_matrix.shape[0]):\n",
        "    head_importance_layer = head_importance[i]\n",
        "    for j in range(attention_matrix.shape[1]):\n",
        "      new_matrix[i,j] = attention_matrix[i,j] * np.expand_dims(head_importance_layer, axis=(1,2))\n",
        "  return new_matrix"
      ],
      "metadata": {
        "id": "nDuqZlIZ1NSr"
      },
      "execution_count": 785,
      "outputs": []
    },
    {
      "cell_type": "code",
      "source": [
        "converted_mat_importance = scale_by_importance(converted_mat, head_importance)"
      ],
      "metadata": {
        "id": "u5-YW1SN1OYP"
      },
      "execution_count": 786,
      "outputs": []
    },
    {
      "cell_type": "markdown",
      "source": [
        "We get the attentions for each token. The shape of the attention matrix is layer x batch x head x seq_len x seq_len."
      ],
      "metadata": {
        "id": "XywJLFZ6HBWO"
      }
    },
    {
      "cell_type": "code",
      "source": [
        "attention_matrix_importance = converted_mat_importance.sum(axis=3)\n",
        "print(attention_matrix_importance.shape)"
      ],
      "metadata": {
        "colab": {
          "base_uri": "https://localhost:8080/"
        },
        "id": "Gu9biMOM1UWC",
        "outputId": "36a25ee9-9563-48f8-eeb1-60497dd276b2"
      },
      "execution_count": 787,
      "outputs": [
        {
          "output_type": "stream",
          "name": "stdout",
          "text": [
            "(12, 1, 12, 2048)\n"
          ]
        }
      ]
    },
    {
      "cell_type": "markdown",
      "source": [
        "Sum the attentions for the last layer and over all layers"
      ],
      "metadata": {
        "id": "gB7w8fsMHFT2"
      }
    },
    {
      "cell_type": "code",
      "source": [
        "attention_final_layer = attention_matrix_importance[11].squeeze().sum(axis=0)\n",
        "attention_all_layer = attention_matrix_importance.squeeze().sum(axis=1)\n",
        "attention_all_layer = attention_all_layer.sum(axis=0)\n",
        "print(attention_all_layer.shape)"
      ],
      "metadata": {
        "id": "kvEhE5HP1XUQ",
        "colab": {
          "base_uri": "https://localhost:8080/"
        },
        "outputId": "292649b7-e8a2-497d-dc47-65ddca5e50ac"
      },
      "execution_count": 788,
      "outputs": [
        {
          "output_type": "stream",
          "name": "stdout",
          "text": [
            "(2048,)\n"
          ]
        }
      ]
    },
    {
      "cell_type": "markdown",
      "source": [
        "Grab the attributions we stored"
      ],
      "metadata": {
        "id": "GoxYNBsHHLdc"
      }
    },
    {
      "cell_type": "code",
      "source": [
        "exam_attrib = all_attributions[str(example)]"
      ],
      "metadata": {
        "id": "na6SKwOp_htK"
      },
      "execution_count": 789,
      "outputs": []
    },
    {
      "cell_type": "markdown",
      "source": [
        "Since we have the attributions and the attentions, we want to see how the largest attributions (in terms of magnitude) compares to the highest attentions."
      ],
      "metadata": {
        "id": "jp40sVMVBDYt"
      }
    },
    {
      "cell_type": "markdown",
      "source": [
        "Cosine similarity using the raw attributions and attentions"
      ],
      "metadata": {
        "id": "05cKorNqG-2T"
      }
    },
    {
      "cell_type": "code",
      "source": [
        "from numpy.linalg import norm\n",
        "cosine_raw = np.dot(exam_attrib, attention_final_layer) / (norm(exam_attrib)*norm(attention_final_layer))\n",
        "print(\"Layer 12 Cosine Similarity raw attrib:\\n\", cosine_raw)\n",
        "cosine_all_raw = np.dot(exam_attrib, attention_all_layer) / (norm(exam_attrib)*norm(attention_all_layer))\n",
        "print(\"Layer 12 Cosine Similarity raw attrib:\\n\", cosine_all_raw)"
      ],
      "metadata": {
        "colab": {
          "base_uri": "https://localhost:8080/"
        },
        "id": "_kWnacBd9qk5",
        "outputId": "34135aa0-47dd-4bab-b342-8aece2e07d91"
      },
      "execution_count": 790,
      "outputs": [
        {
          "output_type": "stream",
          "name": "stdout",
          "text": [
            "Layer 12 Cosine Similarity raw attrib:\n",
            " -0.16550712124895883\n",
            "Layer 12 Cosine Similarity raw attrib:\n",
            " -0.21994437908930428\n"
          ]
        }
      ]
    },
    {
      "cell_type": "markdown",
      "source": [
        "The attributions and the attentions have different ranges. The attributions could range from -1 to 1 whereas the attentions range from 0 to 1. However, negative attributions would not necessarily mean that they have the lowest attention, rather they might have really high attention as they are more likely to help the model predict the negative class, and might be something the attentions picked up as a feature."
      ],
      "metadata": {
        "id": "6cwcV4jXNWe-"
      }
    },
    {
      "cell_type": "code",
      "source": [
        "def normalize(data):\n",
        "    return (data - np.min(data)) / (np.max(data) - np.min(data))"
      ],
      "metadata": {
        "id": "ukncMseTj1-K"
      },
      "execution_count": 791,
      "outputs": []
    },
    {
      "cell_type": "code",
      "source": [
        "attention_final_layer2 = normalize(attention_final_layer)\n",
        "attention_all_layer2 = normalize(attention_all_layer)"
      ],
      "metadata": {
        "id": "b0fjYbf5k5qv"
      },
      "execution_count": 792,
      "outputs": []
    },
    {
      "cell_type": "code",
      "source": [
        "exam_attrib2 = np.abs(exam_attrib)\n",
        "exam_attrib2 = normalize(exam_attrib2)"
      ],
      "metadata": {
        "id": "gQIFZTQzlAEI"
      },
      "execution_count": 793,
      "outputs": []
    },
    {
      "cell_type": "code",
      "source": [
        "print(exam_attrib2)"
      ],
      "metadata": {
        "colab": {
          "base_uri": "https://localhost:8080/"
        },
        "id": "gtCEZaQFOgwh",
        "outputId": "78681fe0-8d58-467a-a1d2-265e9186bc07"
      },
      "execution_count": 794,
      "outputs": [
        {
          "output_type": "stream",
          "name": "stdout",
          "text": [
            "[0.         0.0561608  0.01862393 ... 0.06994687 0.12036593 0.        ]\n"
          ]
        }
      ]
    },
    {
      "cell_type": "markdown",
      "source": [
        "Calculate cosine simularity using normalized attentions and attributions"
      ],
      "metadata": {
        "id": "wuflawaXGUAK"
      }
    },
    {
      "cell_type": "code",
      "source": [
        "cosine = np.dot(exam_attrib2, attention_final_layer2) / (norm(exam_attrib2)*norm(attention_final_layer2))\n",
        "print(\"Layer 12 Cosine Similarity:\\n\", cosine)\n",
        "cosine2 = np.dot(exam_attrib2, attention_all_layer2) / (norm(exam_attrib2)*norm(attention_all_layer2))\n",
        "print(\"All layer Cosine Similarity:\\n\", cosine2)"
      ],
      "metadata": {
        "colab": {
          "base_uri": "https://localhost:8080/"
        },
        "id": "oV1y_ZDk_gFu",
        "outputId": "8b8b27bc-1ede-4cfa-b73e-64893bd65874"
      },
      "execution_count": 795,
      "outputs": [
        {
          "output_type": "stream",
          "name": "stdout",
          "text": [
            "Layer 12 Cosine Similarity:\n",
            " 0.2993751970093294\n",
            "All layer Cosine Similarity:\n",
            " 0.24973547539622828\n"
          ]
        }
      ]
    },
    {
      "cell_type": "markdown",
      "source": [
        "Cosine similarity while setting all the attention and attribution values below the median to 0"
      ],
      "metadata": {
        "id": "0ivl51-oHFPu"
      }
    },
    {
      "cell_type": "code",
      "source": [
        "exam_attrib3 = np.abs(exam_attrib)\n",
        "exam_attrib3 = normalize(exam_attrib3)\n",
        "median_exam = np.percentile(exam_attrib3, 50)\n",
        "exam_attrib3[exam_attrib3 < median_exam] = 0"
      ],
      "metadata": {
        "id": "X5q_9i4iOoFs"
      },
      "execution_count": 796,
      "outputs": []
    },
    {
      "cell_type": "code",
      "source": [
        "attention_final_layer3 = np.copy(attention_final_layer)\n",
        "attention_final_layer3 = normalize(attention_final_layer3)\n",
        "median_12 = np.percentile(attention_final_layer3, 50)\n",
        "attention_final_layer3[attention_final_layer3 < median_12] = 0\n",
        "\n",
        "attention_all_layer3 = np.copy(attention_all_layer) \n",
        "attention_all_layer3 = normalize(attention_all_layer3)\n",
        "median_all = np.percentile(attention_all_layer3, 50)\n",
        "attention_all_layer3[attention_all_layer3 < median_all] = 0"
      ],
      "metadata": {
        "id": "9zTGe6IEGeFv"
      },
      "execution_count": 797,
      "outputs": []
    },
    {
      "cell_type": "code",
      "source": [
        "cosine_med = np.dot(exam_attrib3, attention_final_layer3) / (norm(exam_attrib3)*norm(attention_final_layer3))\n",
        "print(\"Layer 12 Cosine Similarity med:\\n\", cosine_med)\n",
        "cosine_med2 = np.dot(exam_attrib3, attention_all_layer3) / (norm(exam_attrib3)*norm(attention_all_layer3))\n",
        "print(\"All layer Cosine Similarity med:\\n\", cosine_med2)"
      ],
      "metadata": {
        "colab": {
          "base_uri": "https://localhost:8080/"
        },
        "id": "i8cKjhfAHrWi",
        "outputId": "c1aee7c2-1fc6-4885-c4ec-93d78e93d0e8"
      },
      "execution_count": 798,
      "outputs": [
        {
          "output_type": "stream",
          "name": "stdout",
          "text": [
            "Layer 12 Cosine Similarity med:\n",
            " 0.28822077989088346\n",
            "All layer Cosine Similarity med:\n",
            " 0.2331588710720503\n"
          ]
        }
      ]
    },
    {
      "cell_type": "markdown",
      "source": [
        "Cosine similarity while setting all the attention and attribution values below the mean to 0"
      ],
      "metadata": {
        "id": "7srdG4VeT4wt"
      }
    },
    {
      "cell_type": "code",
      "source": [
        "exam_attrib4 = np.abs(exam_attrib)\n",
        "exam_attrib4 = normalize(exam_attrib4)\n",
        "mean_exam = np.mean(exam_attrib4)\n",
        "exam_attrib4[exam_attrib4 < mean_exam] = 0"
      ],
      "metadata": {
        "id": "NHw9NX_cWwTT"
      },
      "execution_count": 799,
      "outputs": []
    },
    {
      "cell_type": "code",
      "source": [
        "attention_final_layer4 = np.copy(attention_final_layer)\n",
        "attention_final_layer4 = normalize(attention_final_layer4)\n",
        "mean_12 = np.mean(attention_final_layer4)\n",
        "attention_final_layer4[attention_final_layer4 < mean_12] = 0\n",
        "\n",
        "attention_all_layer4 = np.copy(attention_all_layer) \n",
        "attention_all_layer4 = normalize(attention_all_layer4)\n",
        "mean_all = np.mean(attention_all_layer4)\n",
        "attention_all_layer4[attention_all_layer4 < mean_all] = 0"
      ],
      "metadata": {
        "id": "EHj9zUwrUee-"
      },
      "execution_count": 800,
      "outputs": []
    },
    {
      "cell_type": "code",
      "source": [
        "cosine_mean = np.dot(exam_attrib4, attention_final_layer4) / (norm(exam_attrib4)*norm(attention_final_layer4))\n",
        "print(\"Layer 12 Cosine Similarity mean:\\n\", cosine_mean)\n",
        "cosine_mean2 = np.dot(exam_attrib4, attention_all_layer4) / (norm(exam_attrib4)*norm(attention_all_layer4))\n",
        "print(\"All layer Cosine Similarity mean:\\n\", cosine_mean2)"
      ],
      "metadata": {
        "colab": {
          "base_uri": "https://localhost:8080/"
        },
        "id": "NWlVxlzHUlAj",
        "outputId": "035b82c3-2f69-41a1-b0cf-55c815feabdf"
      },
      "execution_count": 801,
      "outputs": [
        {
          "output_type": "stream",
          "name": "stdout",
          "text": [
            "Layer 12 Cosine Similarity mean:\n",
            " 0.27112812192382313\n",
            "All layer Cosine Similarity mean:\n",
            " 0.21981108786328662\n"
          ]
        }
      ]
    },
    {
      "cell_type": "markdown",
      "source": [
        "Cosine Similarity using the ranks of each token"
      ],
      "metadata": {
        "id": "NHUIfDlnjlFU"
      }
    },
    {
      "cell_type": "code",
      "source": [
        "exam_attrib_rank = np.abs(exam_attrib)\n",
        "order_attrib = exam_attrib_rank.argsort()\n",
        "print(order_attrib)\n",
        "ranks_attrib = order_attrib.argsort()\n",
        "print(ranks_attrib)"
      ],
      "metadata": {
        "colab": {
          "base_uri": "https://localhost:8080/"
        },
        "id": "F8t6CWK6jkG8",
        "outputId": "9d8490ed-4e06-414f-98e0-f72f11649fa7"
      },
      "execution_count": 802,
      "outputs": [
        {
          "output_type": "stream",
          "name": "stdout",
          "text": [
            "[   0 2047  263 ... 1024  102  989]\n",
            "[   0 1899 1247 ... 1941 2002    1]\n"
          ]
        }
      ]
    },
    {
      "cell_type": "code",
      "source": [
        "attention_final_layer_rank = np.copy(attention_final_layer)\n",
        "order = attention_final_layer_rank.argsort()\n",
        "ranks = order.argsort()\n",
        "\n",
        "attention_all_layer_rank = np.copy(attention_all_layer)\n",
        "order2 = attention_all_layer_rank.argsort()\n",
        "ranks2 = order2.argsort()"
      ],
      "metadata": {
        "id": "Abb5yDNljwdI"
      },
      "execution_count": 803,
      "outputs": []
    },
    {
      "cell_type": "code",
      "source": [
        "cosine_rank = np.dot(ranks_attrib, ranks) / (norm(ranks_attrib)*norm(ranks))\n",
        "print(\"Layer 12 Cosine Similarity rank:\\n\", cosine_rank)\n",
        "cosine_rank2 = np.dot(ranks_attrib, ranks2) / (norm(ranks_attrib)*norm(ranks2))\n",
        "print(\"All layer Cosine Similarity rank:\\n\", cosine_rank2)"
      ],
      "metadata": {
        "colab": {
          "base_uri": "https://localhost:8080/"
        },
        "id": "H7Ucz3QdtBxN",
        "outputId": "126dddf6-2567-4108-cd73-e3a31f33ccc5"
      },
      "execution_count": 804,
      "outputs": [
        {
          "output_type": "stream",
          "name": "stdout",
          "text": [
            "Layer 12 Cosine Similarity rank:\n",
            " 0.8020630713097967\n",
            "All layer Cosine Similarity rank:\n",
            " 0.7845054106949373\n"
          ]
        }
      ]
    },
    {
      "cell_type": "markdown",
      "source": [
        "The cosine similarity using only the last layer of attentions"
      ],
      "metadata": {
        "id": "PGIoaQ3QOaOf"
      }
    },
    {
      "cell_type": "code",
      "source": [
        "d = {'example': [example], 'similarity normalized': [cosine], 'similarity raw': [cosine_raw], 'sim_norm w/ median threshold':[cosine_med], 'sim_norm w/ mean threshold':[cosine_mean], \"sim w/ ranks\":cosine_rank}\n",
        "df = pd.DataFrame(data=d)\n",
        "df"
      ],
      "metadata": {
        "colab": {
          "base_uri": "https://localhost:8080/",
          "height": 81
        },
        "id": "-da4EW2rBkIX",
        "outputId": "6d4da7be-23d6-4c21-e85a-ea0c47106bb0"
      },
      "execution_count": 805,
      "outputs": [
        {
          "output_type": "execute_result",
          "data": {
            "text/plain": [
              "   example  similarity normalized  similarity raw  \\\n",
              "0      605               0.299375       -0.165507   \n",
              "\n",
              "   sim_norm w/ median threshold  sim_norm w/ mean threshold  sim w/ ranks  \n",
              "0                      0.288221                    0.271128      0.802063  "
            ],
            "text/html": [
              "\n",
              "  <div id=\"df-2bb9544b-00a6-4424-b7e3-7c12ca6a301f\">\n",
              "    <div class=\"colab-df-container\">\n",
              "      <div>\n",
              "<style scoped>\n",
              "    .dataframe tbody tr th:only-of-type {\n",
              "        vertical-align: middle;\n",
              "    }\n",
              "\n",
              "    .dataframe tbody tr th {\n",
              "        vertical-align: top;\n",
              "    }\n",
              "\n",
              "    .dataframe thead th {\n",
              "        text-align: right;\n",
              "    }\n",
              "</style>\n",
              "<table border=\"1\" class=\"dataframe\">\n",
              "  <thead>\n",
              "    <tr style=\"text-align: right;\">\n",
              "      <th></th>\n",
              "      <th>example</th>\n",
              "      <th>similarity normalized</th>\n",
              "      <th>similarity raw</th>\n",
              "      <th>sim_norm w/ median threshold</th>\n",
              "      <th>sim_norm w/ mean threshold</th>\n",
              "      <th>sim w/ ranks</th>\n",
              "    </tr>\n",
              "  </thead>\n",
              "  <tbody>\n",
              "    <tr>\n",
              "      <th>0</th>\n",
              "      <td>605</td>\n",
              "      <td>0.299375</td>\n",
              "      <td>-0.165507</td>\n",
              "      <td>0.288221</td>\n",
              "      <td>0.271128</td>\n",
              "      <td>0.802063</td>\n",
              "    </tr>\n",
              "  </tbody>\n",
              "</table>\n",
              "</div>\n",
              "      <button class=\"colab-df-convert\" onclick=\"convertToInteractive('df-2bb9544b-00a6-4424-b7e3-7c12ca6a301f')\"\n",
              "              title=\"Convert this dataframe to an interactive table.\"\n",
              "              style=\"display:none;\">\n",
              "        \n",
              "  <svg xmlns=\"http://www.w3.org/2000/svg\" height=\"24px\"viewBox=\"0 0 24 24\"\n",
              "       width=\"24px\">\n",
              "    <path d=\"M0 0h24v24H0V0z\" fill=\"none\"/>\n",
              "    <path d=\"M18.56 5.44l.94 2.06.94-2.06 2.06-.94-2.06-.94-.94-2.06-.94 2.06-2.06.94zm-11 1L8.5 8.5l.94-2.06 2.06-.94-2.06-.94L8.5 2.5l-.94 2.06-2.06.94zm10 10l.94 2.06.94-2.06 2.06-.94-2.06-.94-.94-2.06-.94 2.06-2.06.94z\"/><path d=\"M17.41 7.96l-1.37-1.37c-.4-.4-.92-.59-1.43-.59-.52 0-1.04.2-1.43.59L10.3 9.45l-7.72 7.72c-.78.78-.78 2.05 0 2.83L4 21.41c.39.39.9.59 1.41.59.51 0 1.02-.2 1.41-.59l7.78-7.78 2.81-2.81c.8-.78.8-2.07 0-2.86zM5.41 20L4 18.59l7.72-7.72 1.47 1.35L5.41 20z\"/>\n",
              "  </svg>\n",
              "      </button>\n",
              "      \n",
              "  <style>\n",
              "    .colab-df-container {\n",
              "      display:flex;\n",
              "      flex-wrap:wrap;\n",
              "      gap: 12px;\n",
              "    }\n",
              "\n",
              "    .colab-df-convert {\n",
              "      background-color: #E8F0FE;\n",
              "      border: none;\n",
              "      border-radius: 50%;\n",
              "      cursor: pointer;\n",
              "      display: none;\n",
              "      fill: #1967D2;\n",
              "      height: 32px;\n",
              "      padding: 0 0 0 0;\n",
              "      width: 32px;\n",
              "    }\n",
              "\n",
              "    .colab-df-convert:hover {\n",
              "      background-color: #E2EBFA;\n",
              "      box-shadow: 0px 1px 2px rgba(60, 64, 67, 0.3), 0px 1px 3px 1px rgba(60, 64, 67, 0.15);\n",
              "      fill: #174EA6;\n",
              "    }\n",
              "\n",
              "    [theme=dark] .colab-df-convert {\n",
              "      background-color: #3B4455;\n",
              "      fill: #D2E3FC;\n",
              "    }\n",
              "\n",
              "    [theme=dark] .colab-df-convert:hover {\n",
              "      background-color: #434B5C;\n",
              "      box-shadow: 0px 1px 3px 1px rgba(0, 0, 0, 0.15);\n",
              "      filter: drop-shadow(0px 1px 2px rgba(0, 0, 0, 0.3));\n",
              "      fill: #FFFFFF;\n",
              "    }\n",
              "  </style>\n",
              "\n",
              "      <script>\n",
              "        const buttonEl =\n",
              "          document.querySelector('#df-2bb9544b-00a6-4424-b7e3-7c12ca6a301f button.colab-df-convert');\n",
              "        buttonEl.style.display =\n",
              "          google.colab.kernel.accessAllowed ? 'block' : 'none';\n",
              "\n",
              "        async function convertToInteractive(key) {\n",
              "          const element = document.querySelector('#df-2bb9544b-00a6-4424-b7e3-7c12ca6a301f');\n",
              "          const dataTable =\n",
              "            await google.colab.kernel.invokeFunction('convertToInteractive',\n",
              "                                                     [key], {});\n",
              "          if (!dataTable) return;\n",
              "\n",
              "          const docLinkHtml = 'Like what you see? Visit the ' +\n",
              "            '<a target=\"_blank\" href=https://colab.research.google.com/notebooks/data_table.ipynb>data table notebook</a>'\n",
              "            + ' to learn more about interactive tables.';\n",
              "          element.innerHTML = '';\n",
              "          dataTable['output_type'] = 'display_data';\n",
              "          await google.colab.output.renderOutput(dataTable, element);\n",
              "          const docLink = document.createElement('div');\n",
              "          docLink.innerHTML = docLinkHtml;\n",
              "          element.appendChild(docLink);\n",
              "        }\n",
              "      </script>\n",
              "    </div>\n",
              "  </div>\n",
              "  "
            ]
          },
          "metadata": {},
          "execution_count": 805
        }
      ]
    },
    {
      "cell_type": "markdown",
      "source": [
        "The cosine similarity using all layers"
      ],
      "metadata": {
        "id": "7w4ofGq2OfLC"
      }
    },
    {
      "cell_type": "code",
      "source": [
        "d2 = {'example': [example], 'similarity normalized': [cosine2], 'similarity raw': [cosine_all_raw], 'sim_norm w/ median threshold':[cosine_med2], 'sim_norm w/ mean threshold':[cosine_mean2], \"sim w/ ranks\":cosine_rank2}\n",
        "df2 = pd.DataFrame(data=d2)\n",
        "df2"
      ],
      "metadata": {
        "colab": {
          "base_uri": "https://localhost:8080/",
          "height": 81
        },
        "id": "ep6wbADaFgME",
        "outputId": "7c6f66b8-17b5-4275-d535-d7f85e3fd95c"
      },
      "execution_count": 806,
      "outputs": [
        {
          "output_type": "execute_result",
          "data": {
            "text/plain": [
              "   example  similarity normalized  similarity raw  \\\n",
              "0      605               0.249735       -0.219944   \n",
              "\n",
              "   sim_norm w/ median threshold  sim_norm w/ mean threshold  sim w/ ranks  \n",
              "0                      0.233159                    0.219811      0.784505  "
            ],
            "text/html": [
              "\n",
              "  <div id=\"df-b7420569-9c52-4b23-b6f3-a7e95b86fe9a\">\n",
              "    <div class=\"colab-df-container\">\n",
              "      <div>\n",
              "<style scoped>\n",
              "    .dataframe tbody tr th:only-of-type {\n",
              "        vertical-align: middle;\n",
              "    }\n",
              "\n",
              "    .dataframe tbody tr th {\n",
              "        vertical-align: top;\n",
              "    }\n",
              "\n",
              "    .dataframe thead th {\n",
              "        text-align: right;\n",
              "    }\n",
              "</style>\n",
              "<table border=\"1\" class=\"dataframe\">\n",
              "  <thead>\n",
              "    <tr style=\"text-align: right;\">\n",
              "      <th></th>\n",
              "      <th>example</th>\n",
              "      <th>similarity normalized</th>\n",
              "      <th>similarity raw</th>\n",
              "      <th>sim_norm w/ median threshold</th>\n",
              "      <th>sim_norm w/ mean threshold</th>\n",
              "      <th>sim w/ ranks</th>\n",
              "    </tr>\n",
              "  </thead>\n",
              "  <tbody>\n",
              "    <tr>\n",
              "      <th>0</th>\n",
              "      <td>605</td>\n",
              "      <td>0.249735</td>\n",
              "      <td>-0.219944</td>\n",
              "      <td>0.233159</td>\n",
              "      <td>0.219811</td>\n",
              "      <td>0.784505</td>\n",
              "    </tr>\n",
              "  </tbody>\n",
              "</table>\n",
              "</div>\n",
              "      <button class=\"colab-df-convert\" onclick=\"convertToInteractive('df-b7420569-9c52-4b23-b6f3-a7e95b86fe9a')\"\n",
              "              title=\"Convert this dataframe to an interactive table.\"\n",
              "              style=\"display:none;\">\n",
              "        \n",
              "  <svg xmlns=\"http://www.w3.org/2000/svg\" height=\"24px\"viewBox=\"0 0 24 24\"\n",
              "       width=\"24px\">\n",
              "    <path d=\"M0 0h24v24H0V0z\" fill=\"none\"/>\n",
              "    <path d=\"M18.56 5.44l.94 2.06.94-2.06 2.06-.94-2.06-.94-.94-2.06-.94 2.06-2.06.94zm-11 1L8.5 8.5l.94-2.06 2.06-.94-2.06-.94L8.5 2.5l-.94 2.06-2.06.94zm10 10l.94 2.06.94-2.06 2.06-.94-2.06-.94-.94-2.06-.94 2.06-2.06.94z\"/><path d=\"M17.41 7.96l-1.37-1.37c-.4-.4-.92-.59-1.43-.59-.52 0-1.04.2-1.43.59L10.3 9.45l-7.72 7.72c-.78.78-.78 2.05 0 2.83L4 21.41c.39.39.9.59 1.41.59.51 0 1.02-.2 1.41-.59l7.78-7.78 2.81-2.81c.8-.78.8-2.07 0-2.86zM5.41 20L4 18.59l7.72-7.72 1.47 1.35L5.41 20z\"/>\n",
              "  </svg>\n",
              "      </button>\n",
              "      \n",
              "  <style>\n",
              "    .colab-df-container {\n",
              "      display:flex;\n",
              "      flex-wrap:wrap;\n",
              "      gap: 12px;\n",
              "    }\n",
              "\n",
              "    .colab-df-convert {\n",
              "      background-color: #E8F0FE;\n",
              "      border: none;\n",
              "      border-radius: 50%;\n",
              "      cursor: pointer;\n",
              "      display: none;\n",
              "      fill: #1967D2;\n",
              "      height: 32px;\n",
              "      padding: 0 0 0 0;\n",
              "      width: 32px;\n",
              "    }\n",
              "\n",
              "    .colab-df-convert:hover {\n",
              "      background-color: #E2EBFA;\n",
              "      box-shadow: 0px 1px 2px rgba(60, 64, 67, 0.3), 0px 1px 3px 1px rgba(60, 64, 67, 0.15);\n",
              "      fill: #174EA6;\n",
              "    }\n",
              "\n",
              "    [theme=dark] .colab-df-convert {\n",
              "      background-color: #3B4455;\n",
              "      fill: #D2E3FC;\n",
              "    }\n",
              "\n",
              "    [theme=dark] .colab-df-convert:hover {\n",
              "      background-color: #434B5C;\n",
              "      box-shadow: 0px 1px 3px 1px rgba(0, 0, 0, 0.15);\n",
              "      filter: drop-shadow(0px 1px 2px rgba(0, 0, 0, 0.3));\n",
              "      fill: #FFFFFF;\n",
              "    }\n",
              "  </style>\n",
              "\n",
              "      <script>\n",
              "        const buttonEl =\n",
              "          document.querySelector('#df-b7420569-9c52-4b23-b6f3-a7e95b86fe9a button.colab-df-convert');\n",
              "        buttonEl.style.display =\n",
              "          google.colab.kernel.accessAllowed ? 'block' : 'none';\n",
              "\n",
              "        async function convertToInteractive(key) {\n",
              "          const element = document.querySelector('#df-b7420569-9c52-4b23-b6f3-a7e95b86fe9a');\n",
              "          const dataTable =\n",
              "            await google.colab.kernel.invokeFunction('convertToInteractive',\n",
              "                                                     [key], {});\n",
              "          if (!dataTable) return;\n",
              "\n",
              "          const docLinkHtml = 'Like what you see? Visit the ' +\n",
              "            '<a target=\"_blank\" href=https://colab.research.google.com/notebooks/data_table.ipynb>data table notebook</a>'\n",
              "            + ' to learn more about interactive tables.';\n",
              "          element.innerHTML = '';\n",
              "          dataTable['output_type'] = 'display_data';\n",
              "          await google.colab.output.renderOutput(dataTable, element);\n",
              "          const docLink = document.createElement('div');\n",
              "          docLink.innerHTML = docLinkHtml;\n",
              "          element.appendChild(docLink);\n",
              "        }\n",
              "      </script>\n",
              "    </div>\n",
              "  </div>\n",
              "  "
            ]
          },
          "metadata": {},
          "execution_count": 806
        }
      ]
    },
    {
      "cell_type": "code",
      "source": [
        "df_layer12 = pd.read_csv(\"/content/drive/MyDrive/cogs402longformer/results/papers/papers_attributions/cos_sim_layer12.csv\")\n",
        "df_all = pd.read_csv(\"/content/drive/MyDrive/cogs402longformer/results/papers/papers_attributions/cos_sim_all.csv\")"
      ],
      "metadata": {
        "id": "0wdSRDsTCN-J"
      },
      "execution_count": 807,
      "outputs": []
    },
    {
      "cell_type": "code",
      "source": [
        "df_layer12"
      ],
      "metadata": {
        "colab": {
          "base_uri": "https://localhost:8080/",
          "height": 175
        },
        "id": "UlT8_ax5CwQT",
        "outputId": "3cea2e31-c32b-4962-b576-9189ad35772c"
      },
      "execution_count": 808,
      "outputs": [
        {
          "output_type": "execute_result",
          "data": {
            "text/plain": [
              "   example  similarity normalized  similarity raw  \\\n",
              "0      148               0.147101       -0.020260   \n",
              "1      605               0.299375       -0.165507   \n",
              "2      891               0.175846        0.022566   \n",
              "3      976               0.141923        0.082403   \n",
              "\n",
              "   sim_norm w/ median threshold  sim_norm w/ mean threshold  sim w/ ranks  \n",
              "0                      0.142670                    0.123295      0.826202  \n",
              "1                      0.288221                    0.271128      0.802063  \n",
              "2                      0.173801                    0.157258      0.842796  \n",
              "3                      0.137433                    0.119868      0.823112  "
            ],
            "text/html": [
              "\n",
              "  <div id=\"df-64fc8c96-334a-41fd-a2b6-5d198822e461\">\n",
              "    <div class=\"colab-df-container\">\n",
              "      <div>\n",
              "<style scoped>\n",
              "    .dataframe tbody tr th:only-of-type {\n",
              "        vertical-align: middle;\n",
              "    }\n",
              "\n",
              "    .dataframe tbody tr th {\n",
              "        vertical-align: top;\n",
              "    }\n",
              "\n",
              "    .dataframe thead th {\n",
              "        text-align: right;\n",
              "    }\n",
              "</style>\n",
              "<table border=\"1\" class=\"dataframe\">\n",
              "  <thead>\n",
              "    <tr style=\"text-align: right;\">\n",
              "      <th></th>\n",
              "      <th>example</th>\n",
              "      <th>similarity normalized</th>\n",
              "      <th>similarity raw</th>\n",
              "      <th>sim_norm w/ median threshold</th>\n",
              "      <th>sim_norm w/ mean threshold</th>\n",
              "      <th>sim w/ ranks</th>\n",
              "    </tr>\n",
              "  </thead>\n",
              "  <tbody>\n",
              "    <tr>\n",
              "      <th>0</th>\n",
              "      <td>148</td>\n",
              "      <td>0.147101</td>\n",
              "      <td>-0.020260</td>\n",
              "      <td>0.142670</td>\n",
              "      <td>0.123295</td>\n",
              "      <td>0.826202</td>\n",
              "    </tr>\n",
              "    <tr>\n",
              "      <th>1</th>\n",
              "      <td>605</td>\n",
              "      <td>0.299375</td>\n",
              "      <td>-0.165507</td>\n",
              "      <td>0.288221</td>\n",
              "      <td>0.271128</td>\n",
              "      <td>0.802063</td>\n",
              "    </tr>\n",
              "    <tr>\n",
              "      <th>2</th>\n",
              "      <td>891</td>\n",
              "      <td>0.175846</td>\n",
              "      <td>0.022566</td>\n",
              "      <td>0.173801</td>\n",
              "      <td>0.157258</td>\n",
              "      <td>0.842796</td>\n",
              "    </tr>\n",
              "    <tr>\n",
              "      <th>3</th>\n",
              "      <td>976</td>\n",
              "      <td>0.141923</td>\n",
              "      <td>0.082403</td>\n",
              "      <td>0.137433</td>\n",
              "      <td>0.119868</td>\n",
              "      <td>0.823112</td>\n",
              "    </tr>\n",
              "  </tbody>\n",
              "</table>\n",
              "</div>\n",
              "      <button class=\"colab-df-convert\" onclick=\"convertToInteractive('df-64fc8c96-334a-41fd-a2b6-5d198822e461')\"\n",
              "              title=\"Convert this dataframe to an interactive table.\"\n",
              "              style=\"display:none;\">\n",
              "        \n",
              "  <svg xmlns=\"http://www.w3.org/2000/svg\" height=\"24px\"viewBox=\"0 0 24 24\"\n",
              "       width=\"24px\">\n",
              "    <path d=\"M0 0h24v24H0V0z\" fill=\"none\"/>\n",
              "    <path d=\"M18.56 5.44l.94 2.06.94-2.06 2.06-.94-2.06-.94-.94-2.06-.94 2.06-2.06.94zm-11 1L8.5 8.5l.94-2.06 2.06-.94-2.06-.94L8.5 2.5l-.94 2.06-2.06.94zm10 10l.94 2.06.94-2.06 2.06-.94-2.06-.94-.94-2.06-.94 2.06-2.06.94z\"/><path d=\"M17.41 7.96l-1.37-1.37c-.4-.4-.92-.59-1.43-.59-.52 0-1.04.2-1.43.59L10.3 9.45l-7.72 7.72c-.78.78-.78 2.05 0 2.83L4 21.41c.39.39.9.59 1.41.59.51 0 1.02-.2 1.41-.59l7.78-7.78 2.81-2.81c.8-.78.8-2.07 0-2.86zM5.41 20L4 18.59l7.72-7.72 1.47 1.35L5.41 20z\"/>\n",
              "  </svg>\n",
              "      </button>\n",
              "      \n",
              "  <style>\n",
              "    .colab-df-container {\n",
              "      display:flex;\n",
              "      flex-wrap:wrap;\n",
              "      gap: 12px;\n",
              "    }\n",
              "\n",
              "    .colab-df-convert {\n",
              "      background-color: #E8F0FE;\n",
              "      border: none;\n",
              "      border-radius: 50%;\n",
              "      cursor: pointer;\n",
              "      display: none;\n",
              "      fill: #1967D2;\n",
              "      height: 32px;\n",
              "      padding: 0 0 0 0;\n",
              "      width: 32px;\n",
              "    }\n",
              "\n",
              "    .colab-df-convert:hover {\n",
              "      background-color: #E2EBFA;\n",
              "      box-shadow: 0px 1px 2px rgba(60, 64, 67, 0.3), 0px 1px 3px 1px rgba(60, 64, 67, 0.15);\n",
              "      fill: #174EA6;\n",
              "    }\n",
              "\n",
              "    [theme=dark] .colab-df-convert {\n",
              "      background-color: #3B4455;\n",
              "      fill: #D2E3FC;\n",
              "    }\n",
              "\n",
              "    [theme=dark] .colab-df-convert:hover {\n",
              "      background-color: #434B5C;\n",
              "      box-shadow: 0px 1px 3px 1px rgba(0, 0, 0, 0.15);\n",
              "      filter: drop-shadow(0px 1px 2px rgba(0, 0, 0, 0.3));\n",
              "      fill: #FFFFFF;\n",
              "    }\n",
              "  </style>\n",
              "\n",
              "      <script>\n",
              "        const buttonEl =\n",
              "          document.querySelector('#df-64fc8c96-334a-41fd-a2b6-5d198822e461 button.colab-df-convert');\n",
              "        buttonEl.style.display =\n",
              "          google.colab.kernel.accessAllowed ? 'block' : 'none';\n",
              "\n",
              "        async function convertToInteractive(key) {\n",
              "          const element = document.querySelector('#df-64fc8c96-334a-41fd-a2b6-5d198822e461');\n",
              "          const dataTable =\n",
              "            await google.colab.kernel.invokeFunction('convertToInteractive',\n",
              "                                                     [key], {});\n",
              "          if (!dataTable) return;\n",
              "\n",
              "          const docLinkHtml = 'Like what you see? Visit the ' +\n",
              "            '<a target=\"_blank\" href=https://colab.research.google.com/notebooks/data_table.ipynb>data table notebook</a>'\n",
              "            + ' to learn more about interactive tables.';\n",
              "          element.innerHTML = '';\n",
              "          dataTable['output_type'] = 'display_data';\n",
              "          await google.colab.output.renderOutput(dataTable, element);\n",
              "          const docLink = document.createElement('div');\n",
              "          docLink.innerHTML = docLinkHtml;\n",
              "          element.appendChild(docLink);\n",
              "        }\n",
              "      </script>\n",
              "    </div>\n",
              "  </div>\n",
              "  "
            ]
          },
          "metadata": {},
          "execution_count": 808
        }
      ]
    },
    {
      "cell_type": "code",
      "source": [
        "df_all"
      ],
      "metadata": {
        "colab": {
          "base_uri": "https://localhost:8080/",
          "height": 175
        },
        "id": "o0P3tm47FP2N",
        "outputId": "91beae48-6473-4278-ee58-191005a21b48"
      },
      "execution_count": 809,
      "outputs": [
        {
          "output_type": "execute_result",
          "data": {
            "text/plain": [
              "   example  similarity normalized  similarity raw  \\\n",
              "0      148               0.140745        0.016048   \n",
              "1      605               0.249735       -0.219944   \n",
              "2      891               0.104379       -0.012725   \n",
              "3      976               0.115270        0.096755   \n",
              "\n",
              "   sim_norm w/ median threshold  sim_norm w/ mean threshold  sim w/ ranks  \n",
              "0                      0.134218                    0.123968      0.805108  \n",
              "1                      0.233159                    0.219811      0.784505  \n",
              "2                      0.100741                    0.089762      0.799092  \n",
              "3                      0.109309                    0.097665      0.819613  "
            ],
            "text/html": [
              "\n",
              "  <div id=\"df-4ff8d693-86d6-4985-a9db-37b308819802\">\n",
              "    <div class=\"colab-df-container\">\n",
              "      <div>\n",
              "<style scoped>\n",
              "    .dataframe tbody tr th:only-of-type {\n",
              "        vertical-align: middle;\n",
              "    }\n",
              "\n",
              "    .dataframe tbody tr th {\n",
              "        vertical-align: top;\n",
              "    }\n",
              "\n",
              "    .dataframe thead th {\n",
              "        text-align: right;\n",
              "    }\n",
              "</style>\n",
              "<table border=\"1\" class=\"dataframe\">\n",
              "  <thead>\n",
              "    <tr style=\"text-align: right;\">\n",
              "      <th></th>\n",
              "      <th>example</th>\n",
              "      <th>similarity normalized</th>\n",
              "      <th>similarity raw</th>\n",
              "      <th>sim_norm w/ median threshold</th>\n",
              "      <th>sim_norm w/ mean threshold</th>\n",
              "      <th>sim w/ ranks</th>\n",
              "    </tr>\n",
              "  </thead>\n",
              "  <tbody>\n",
              "    <tr>\n",
              "      <th>0</th>\n",
              "      <td>148</td>\n",
              "      <td>0.140745</td>\n",
              "      <td>0.016048</td>\n",
              "      <td>0.134218</td>\n",
              "      <td>0.123968</td>\n",
              "      <td>0.805108</td>\n",
              "    </tr>\n",
              "    <tr>\n",
              "      <th>1</th>\n",
              "      <td>605</td>\n",
              "      <td>0.249735</td>\n",
              "      <td>-0.219944</td>\n",
              "      <td>0.233159</td>\n",
              "      <td>0.219811</td>\n",
              "      <td>0.784505</td>\n",
              "    </tr>\n",
              "    <tr>\n",
              "      <th>2</th>\n",
              "      <td>891</td>\n",
              "      <td>0.104379</td>\n",
              "      <td>-0.012725</td>\n",
              "      <td>0.100741</td>\n",
              "      <td>0.089762</td>\n",
              "      <td>0.799092</td>\n",
              "    </tr>\n",
              "    <tr>\n",
              "      <th>3</th>\n",
              "      <td>976</td>\n",
              "      <td>0.115270</td>\n",
              "      <td>0.096755</td>\n",
              "      <td>0.109309</td>\n",
              "      <td>0.097665</td>\n",
              "      <td>0.819613</td>\n",
              "    </tr>\n",
              "  </tbody>\n",
              "</table>\n",
              "</div>\n",
              "      <button class=\"colab-df-convert\" onclick=\"convertToInteractive('df-4ff8d693-86d6-4985-a9db-37b308819802')\"\n",
              "              title=\"Convert this dataframe to an interactive table.\"\n",
              "              style=\"display:none;\">\n",
              "        \n",
              "  <svg xmlns=\"http://www.w3.org/2000/svg\" height=\"24px\"viewBox=\"0 0 24 24\"\n",
              "       width=\"24px\">\n",
              "    <path d=\"M0 0h24v24H0V0z\" fill=\"none\"/>\n",
              "    <path d=\"M18.56 5.44l.94 2.06.94-2.06 2.06-.94-2.06-.94-.94-2.06-.94 2.06-2.06.94zm-11 1L8.5 8.5l.94-2.06 2.06-.94-2.06-.94L8.5 2.5l-.94 2.06-2.06.94zm10 10l.94 2.06.94-2.06 2.06-.94-2.06-.94-.94-2.06-.94 2.06-2.06.94z\"/><path d=\"M17.41 7.96l-1.37-1.37c-.4-.4-.92-.59-1.43-.59-.52 0-1.04.2-1.43.59L10.3 9.45l-7.72 7.72c-.78.78-.78 2.05 0 2.83L4 21.41c.39.39.9.59 1.41.59.51 0 1.02-.2 1.41-.59l7.78-7.78 2.81-2.81c.8-.78.8-2.07 0-2.86zM5.41 20L4 18.59l7.72-7.72 1.47 1.35L5.41 20z\"/>\n",
              "  </svg>\n",
              "      </button>\n",
              "      \n",
              "  <style>\n",
              "    .colab-df-container {\n",
              "      display:flex;\n",
              "      flex-wrap:wrap;\n",
              "      gap: 12px;\n",
              "    }\n",
              "\n",
              "    .colab-df-convert {\n",
              "      background-color: #E8F0FE;\n",
              "      border: none;\n",
              "      border-radius: 50%;\n",
              "      cursor: pointer;\n",
              "      display: none;\n",
              "      fill: #1967D2;\n",
              "      height: 32px;\n",
              "      padding: 0 0 0 0;\n",
              "      width: 32px;\n",
              "    }\n",
              "\n",
              "    .colab-df-convert:hover {\n",
              "      background-color: #E2EBFA;\n",
              "      box-shadow: 0px 1px 2px rgba(60, 64, 67, 0.3), 0px 1px 3px 1px rgba(60, 64, 67, 0.15);\n",
              "      fill: #174EA6;\n",
              "    }\n",
              "\n",
              "    [theme=dark] .colab-df-convert {\n",
              "      background-color: #3B4455;\n",
              "      fill: #D2E3FC;\n",
              "    }\n",
              "\n",
              "    [theme=dark] .colab-df-convert:hover {\n",
              "      background-color: #434B5C;\n",
              "      box-shadow: 0px 1px 3px 1px rgba(0, 0, 0, 0.15);\n",
              "      filter: drop-shadow(0px 1px 2px rgba(0, 0, 0, 0.3));\n",
              "      fill: #FFFFFF;\n",
              "    }\n",
              "  </style>\n",
              "\n",
              "      <script>\n",
              "        const buttonEl =\n",
              "          document.querySelector('#df-4ff8d693-86d6-4985-a9db-37b308819802 button.colab-df-convert');\n",
              "        buttonEl.style.display =\n",
              "          google.colab.kernel.accessAllowed ? 'block' : 'none';\n",
              "\n",
              "        async function convertToInteractive(key) {\n",
              "          const element = document.querySelector('#df-4ff8d693-86d6-4985-a9db-37b308819802');\n",
              "          const dataTable =\n",
              "            await google.colab.kernel.invokeFunction('convertToInteractive',\n",
              "                                                     [key], {});\n",
              "          if (!dataTable) return;\n",
              "\n",
              "          const docLinkHtml = 'Like what you see? Visit the ' +\n",
              "            '<a target=\"_blank\" href=https://colab.research.google.com/notebooks/data_table.ipynb>data table notebook</a>'\n",
              "            + ' to learn more about interactive tables.';\n",
              "          element.innerHTML = '';\n",
              "          dataTable['output_type'] = 'display_data';\n",
              "          await google.colab.output.renderOutput(dataTable, element);\n",
              "          const docLink = document.createElement('div');\n",
              "          docLink.innerHTML = docLinkHtml;\n",
              "          element.appendChild(docLink);\n",
              "        }\n",
              "      </script>\n",
              "    </div>\n",
              "  </div>\n",
              "  "
            ]
          },
          "metadata": {},
          "execution_count": 809
        }
      ]
    },
    {
      "cell_type": "markdown",
      "source": [
        "Append the new row into the dataframe.\n",
        "\n",
        "Comment out if revisiting a dataframe."
      ],
      "metadata": {
        "id": "RSbHulrIOjG7"
      }
    },
    {
      "cell_type": "code",
      "source": [
        "# df_layer12 = pd.concat([df, df_layer12], axis=0)\n",
        "# df_all = pd.concat([df2, df_all], axis=0)"
      ],
      "metadata": {
        "id": "-xxzlJwpCeX0"
      },
      "execution_count": 810,
      "outputs": []
    },
    {
      "cell_type": "code",
      "source": [
        "df_layer12"
      ],
      "metadata": {
        "colab": {
          "base_uri": "https://localhost:8080/",
          "height": 175
        },
        "id": "pW8I8FIXJWrN",
        "outputId": "bab08b44-999b-404d-fd32-e5f31c381f28"
      },
      "execution_count": 811,
      "outputs": [
        {
          "output_type": "execute_result",
          "data": {
            "text/plain": [
              "   example  similarity normalized  similarity raw  \\\n",
              "0      148               0.147101       -0.020260   \n",
              "1      605               0.299375       -0.165507   \n",
              "2      891               0.175846        0.022566   \n",
              "3      976               0.141923        0.082403   \n",
              "\n",
              "   sim_norm w/ median threshold  sim_norm w/ mean threshold  sim w/ ranks  \n",
              "0                      0.142670                    0.123295      0.826202  \n",
              "1                      0.288221                    0.271128      0.802063  \n",
              "2                      0.173801                    0.157258      0.842796  \n",
              "3                      0.137433                    0.119868      0.823112  "
            ],
            "text/html": [
              "\n",
              "  <div id=\"df-cd8c321e-480d-4426-ba9e-51dc5ac78266\">\n",
              "    <div class=\"colab-df-container\">\n",
              "      <div>\n",
              "<style scoped>\n",
              "    .dataframe tbody tr th:only-of-type {\n",
              "        vertical-align: middle;\n",
              "    }\n",
              "\n",
              "    .dataframe tbody tr th {\n",
              "        vertical-align: top;\n",
              "    }\n",
              "\n",
              "    .dataframe thead th {\n",
              "        text-align: right;\n",
              "    }\n",
              "</style>\n",
              "<table border=\"1\" class=\"dataframe\">\n",
              "  <thead>\n",
              "    <tr style=\"text-align: right;\">\n",
              "      <th></th>\n",
              "      <th>example</th>\n",
              "      <th>similarity normalized</th>\n",
              "      <th>similarity raw</th>\n",
              "      <th>sim_norm w/ median threshold</th>\n",
              "      <th>sim_norm w/ mean threshold</th>\n",
              "      <th>sim w/ ranks</th>\n",
              "    </tr>\n",
              "  </thead>\n",
              "  <tbody>\n",
              "    <tr>\n",
              "      <th>0</th>\n",
              "      <td>148</td>\n",
              "      <td>0.147101</td>\n",
              "      <td>-0.020260</td>\n",
              "      <td>0.142670</td>\n",
              "      <td>0.123295</td>\n",
              "      <td>0.826202</td>\n",
              "    </tr>\n",
              "    <tr>\n",
              "      <th>1</th>\n",
              "      <td>605</td>\n",
              "      <td>0.299375</td>\n",
              "      <td>-0.165507</td>\n",
              "      <td>0.288221</td>\n",
              "      <td>0.271128</td>\n",
              "      <td>0.802063</td>\n",
              "    </tr>\n",
              "    <tr>\n",
              "      <th>2</th>\n",
              "      <td>891</td>\n",
              "      <td>0.175846</td>\n",
              "      <td>0.022566</td>\n",
              "      <td>0.173801</td>\n",
              "      <td>0.157258</td>\n",
              "      <td>0.842796</td>\n",
              "    </tr>\n",
              "    <tr>\n",
              "      <th>3</th>\n",
              "      <td>976</td>\n",
              "      <td>0.141923</td>\n",
              "      <td>0.082403</td>\n",
              "      <td>0.137433</td>\n",
              "      <td>0.119868</td>\n",
              "      <td>0.823112</td>\n",
              "    </tr>\n",
              "  </tbody>\n",
              "</table>\n",
              "</div>\n",
              "      <button class=\"colab-df-convert\" onclick=\"convertToInteractive('df-cd8c321e-480d-4426-ba9e-51dc5ac78266')\"\n",
              "              title=\"Convert this dataframe to an interactive table.\"\n",
              "              style=\"display:none;\">\n",
              "        \n",
              "  <svg xmlns=\"http://www.w3.org/2000/svg\" height=\"24px\"viewBox=\"0 0 24 24\"\n",
              "       width=\"24px\">\n",
              "    <path d=\"M0 0h24v24H0V0z\" fill=\"none\"/>\n",
              "    <path d=\"M18.56 5.44l.94 2.06.94-2.06 2.06-.94-2.06-.94-.94-2.06-.94 2.06-2.06.94zm-11 1L8.5 8.5l.94-2.06 2.06-.94-2.06-.94L8.5 2.5l-.94 2.06-2.06.94zm10 10l.94 2.06.94-2.06 2.06-.94-2.06-.94-.94-2.06-.94 2.06-2.06.94z\"/><path d=\"M17.41 7.96l-1.37-1.37c-.4-.4-.92-.59-1.43-.59-.52 0-1.04.2-1.43.59L10.3 9.45l-7.72 7.72c-.78.78-.78 2.05 0 2.83L4 21.41c.39.39.9.59 1.41.59.51 0 1.02-.2 1.41-.59l7.78-7.78 2.81-2.81c.8-.78.8-2.07 0-2.86zM5.41 20L4 18.59l7.72-7.72 1.47 1.35L5.41 20z\"/>\n",
              "  </svg>\n",
              "      </button>\n",
              "      \n",
              "  <style>\n",
              "    .colab-df-container {\n",
              "      display:flex;\n",
              "      flex-wrap:wrap;\n",
              "      gap: 12px;\n",
              "    }\n",
              "\n",
              "    .colab-df-convert {\n",
              "      background-color: #E8F0FE;\n",
              "      border: none;\n",
              "      border-radius: 50%;\n",
              "      cursor: pointer;\n",
              "      display: none;\n",
              "      fill: #1967D2;\n",
              "      height: 32px;\n",
              "      padding: 0 0 0 0;\n",
              "      width: 32px;\n",
              "    }\n",
              "\n",
              "    .colab-df-convert:hover {\n",
              "      background-color: #E2EBFA;\n",
              "      box-shadow: 0px 1px 2px rgba(60, 64, 67, 0.3), 0px 1px 3px 1px rgba(60, 64, 67, 0.15);\n",
              "      fill: #174EA6;\n",
              "    }\n",
              "\n",
              "    [theme=dark] .colab-df-convert {\n",
              "      background-color: #3B4455;\n",
              "      fill: #D2E3FC;\n",
              "    }\n",
              "\n",
              "    [theme=dark] .colab-df-convert:hover {\n",
              "      background-color: #434B5C;\n",
              "      box-shadow: 0px 1px 3px 1px rgba(0, 0, 0, 0.15);\n",
              "      filter: drop-shadow(0px 1px 2px rgba(0, 0, 0, 0.3));\n",
              "      fill: #FFFFFF;\n",
              "    }\n",
              "  </style>\n",
              "\n",
              "      <script>\n",
              "        const buttonEl =\n",
              "          document.querySelector('#df-cd8c321e-480d-4426-ba9e-51dc5ac78266 button.colab-df-convert');\n",
              "        buttonEl.style.display =\n",
              "          google.colab.kernel.accessAllowed ? 'block' : 'none';\n",
              "\n",
              "        async function convertToInteractive(key) {\n",
              "          const element = document.querySelector('#df-cd8c321e-480d-4426-ba9e-51dc5ac78266');\n",
              "          const dataTable =\n",
              "            await google.colab.kernel.invokeFunction('convertToInteractive',\n",
              "                                                     [key], {});\n",
              "          if (!dataTable) return;\n",
              "\n",
              "          const docLinkHtml = 'Like what you see? Visit the ' +\n",
              "            '<a target=\"_blank\" href=https://colab.research.google.com/notebooks/data_table.ipynb>data table notebook</a>'\n",
              "            + ' to learn more about interactive tables.';\n",
              "          element.innerHTML = '';\n",
              "          dataTable['output_type'] = 'display_data';\n",
              "          await google.colab.output.renderOutput(dataTable, element);\n",
              "          const docLink = document.createElement('div');\n",
              "          docLink.innerHTML = docLinkHtml;\n",
              "          element.appendChild(docLink);\n",
              "        }\n",
              "      </script>\n",
              "    </div>\n",
              "  </div>\n",
              "  "
            ]
          },
          "metadata": {},
          "execution_count": 811
        }
      ]
    },
    {
      "cell_type": "code",
      "source": [
        "df_all"
      ],
      "metadata": {
        "colab": {
          "base_uri": "https://localhost:8080/",
          "height": 175
        },
        "id": "GGbVSSH4JUUG",
        "outputId": "ea223bda-3faf-42de-fcb6-1ff6683ff994"
      },
      "execution_count": 812,
      "outputs": [
        {
          "output_type": "execute_result",
          "data": {
            "text/plain": [
              "   example  similarity normalized  similarity raw  \\\n",
              "0      148               0.140745        0.016048   \n",
              "1      605               0.249735       -0.219944   \n",
              "2      891               0.104379       -0.012725   \n",
              "3      976               0.115270        0.096755   \n",
              "\n",
              "   sim_norm w/ median threshold  sim_norm w/ mean threshold  sim w/ ranks  \n",
              "0                      0.134218                    0.123968      0.805108  \n",
              "1                      0.233159                    0.219811      0.784505  \n",
              "2                      0.100741                    0.089762      0.799092  \n",
              "3                      0.109309                    0.097665      0.819613  "
            ],
            "text/html": [
              "\n",
              "  <div id=\"df-25f6e0eb-20aa-46ac-b988-2f6eee07bf38\">\n",
              "    <div class=\"colab-df-container\">\n",
              "      <div>\n",
              "<style scoped>\n",
              "    .dataframe tbody tr th:only-of-type {\n",
              "        vertical-align: middle;\n",
              "    }\n",
              "\n",
              "    .dataframe tbody tr th {\n",
              "        vertical-align: top;\n",
              "    }\n",
              "\n",
              "    .dataframe thead th {\n",
              "        text-align: right;\n",
              "    }\n",
              "</style>\n",
              "<table border=\"1\" class=\"dataframe\">\n",
              "  <thead>\n",
              "    <tr style=\"text-align: right;\">\n",
              "      <th></th>\n",
              "      <th>example</th>\n",
              "      <th>similarity normalized</th>\n",
              "      <th>similarity raw</th>\n",
              "      <th>sim_norm w/ median threshold</th>\n",
              "      <th>sim_norm w/ mean threshold</th>\n",
              "      <th>sim w/ ranks</th>\n",
              "    </tr>\n",
              "  </thead>\n",
              "  <tbody>\n",
              "    <tr>\n",
              "      <th>0</th>\n",
              "      <td>148</td>\n",
              "      <td>0.140745</td>\n",
              "      <td>0.016048</td>\n",
              "      <td>0.134218</td>\n",
              "      <td>0.123968</td>\n",
              "      <td>0.805108</td>\n",
              "    </tr>\n",
              "    <tr>\n",
              "      <th>1</th>\n",
              "      <td>605</td>\n",
              "      <td>0.249735</td>\n",
              "      <td>-0.219944</td>\n",
              "      <td>0.233159</td>\n",
              "      <td>0.219811</td>\n",
              "      <td>0.784505</td>\n",
              "    </tr>\n",
              "    <tr>\n",
              "      <th>2</th>\n",
              "      <td>891</td>\n",
              "      <td>0.104379</td>\n",
              "      <td>-0.012725</td>\n",
              "      <td>0.100741</td>\n",
              "      <td>0.089762</td>\n",
              "      <td>0.799092</td>\n",
              "    </tr>\n",
              "    <tr>\n",
              "      <th>3</th>\n",
              "      <td>976</td>\n",
              "      <td>0.115270</td>\n",
              "      <td>0.096755</td>\n",
              "      <td>0.109309</td>\n",
              "      <td>0.097665</td>\n",
              "      <td>0.819613</td>\n",
              "    </tr>\n",
              "  </tbody>\n",
              "</table>\n",
              "</div>\n",
              "      <button class=\"colab-df-convert\" onclick=\"convertToInteractive('df-25f6e0eb-20aa-46ac-b988-2f6eee07bf38')\"\n",
              "              title=\"Convert this dataframe to an interactive table.\"\n",
              "              style=\"display:none;\">\n",
              "        \n",
              "  <svg xmlns=\"http://www.w3.org/2000/svg\" height=\"24px\"viewBox=\"0 0 24 24\"\n",
              "       width=\"24px\">\n",
              "    <path d=\"M0 0h24v24H0V0z\" fill=\"none\"/>\n",
              "    <path d=\"M18.56 5.44l.94 2.06.94-2.06 2.06-.94-2.06-.94-.94-2.06-.94 2.06-2.06.94zm-11 1L8.5 8.5l.94-2.06 2.06-.94-2.06-.94L8.5 2.5l-.94 2.06-2.06.94zm10 10l.94 2.06.94-2.06 2.06-.94-2.06-.94-.94-2.06-.94 2.06-2.06.94z\"/><path d=\"M17.41 7.96l-1.37-1.37c-.4-.4-.92-.59-1.43-.59-.52 0-1.04.2-1.43.59L10.3 9.45l-7.72 7.72c-.78.78-.78 2.05 0 2.83L4 21.41c.39.39.9.59 1.41.59.51 0 1.02-.2 1.41-.59l7.78-7.78 2.81-2.81c.8-.78.8-2.07 0-2.86zM5.41 20L4 18.59l7.72-7.72 1.47 1.35L5.41 20z\"/>\n",
              "  </svg>\n",
              "      </button>\n",
              "      \n",
              "  <style>\n",
              "    .colab-df-container {\n",
              "      display:flex;\n",
              "      flex-wrap:wrap;\n",
              "      gap: 12px;\n",
              "    }\n",
              "\n",
              "    .colab-df-convert {\n",
              "      background-color: #E8F0FE;\n",
              "      border: none;\n",
              "      border-radius: 50%;\n",
              "      cursor: pointer;\n",
              "      display: none;\n",
              "      fill: #1967D2;\n",
              "      height: 32px;\n",
              "      padding: 0 0 0 0;\n",
              "      width: 32px;\n",
              "    }\n",
              "\n",
              "    .colab-df-convert:hover {\n",
              "      background-color: #E2EBFA;\n",
              "      box-shadow: 0px 1px 2px rgba(60, 64, 67, 0.3), 0px 1px 3px 1px rgba(60, 64, 67, 0.15);\n",
              "      fill: #174EA6;\n",
              "    }\n",
              "\n",
              "    [theme=dark] .colab-df-convert {\n",
              "      background-color: #3B4455;\n",
              "      fill: #D2E3FC;\n",
              "    }\n",
              "\n",
              "    [theme=dark] .colab-df-convert:hover {\n",
              "      background-color: #434B5C;\n",
              "      box-shadow: 0px 1px 3px 1px rgba(0, 0, 0, 0.15);\n",
              "      filter: drop-shadow(0px 1px 2px rgba(0, 0, 0, 0.3));\n",
              "      fill: #FFFFFF;\n",
              "    }\n",
              "  </style>\n",
              "\n",
              "      <script>\n",
              "        const buttonEl =\n",
              "          document.querySelector('#df-25f6e0eb-20aa-46ac-b988-2f6eee07bf38 button.colab-df-convert');\n",
              "        buttonEl.style.display =\n",
              "          google.colab.kernel.accessAllowed ? 'block' : 'none';\n",
              "\n",
              "        async function convertToInteractive(key) {\n",
              "          const element = document.querySelector('#df-25f6e0eb-20aa-46ac-b988-2f6eee07bf38');\n",
              "          const dataTable =\n",
              "            await google.colab.kernel.invokeFunction('convertToInteractive',\n",
              "                                                     [key], {});\n",
              "          if (!dataTable) return;\n",
              "\n",
              "          const docLinkHtml = 'Like what you see? Visit the ' +\n",
              "            '<a target=\"_blank\" href=https://colab.research.google.com/notebooks/data_table.ipynb>data table notebook</a>'\n",
              "            + ' to learn more about interactive tables.';\n",
              "          element.innerHTML = '';\n",
              "          dataTable['output_type'] = 'display_data';\n",
              "          await google.colab.output.renderOutput(dataTable, element);\n",
              "          const docLink = document.createElement('div');\n",
              "          docLink.innerHTML = docLinkHtml;\n",
              "          element.appendChild(docLink);\n",
              "        }\n",
              "      </script>\n",
              "    </div>\n",
              "  </div>\n",
              "  "
            ]
          },
          "metadata": {},
          "execution_count": 812
        }
      ]
    },
    {
      "cell_type": "code",
      "source": [
        "df_layer12 = df_layer12.sort_values(by=['example'])\n",
        "df_all = df_all.sort_values(by=['example'])"
      ],
      "metadata": {
        "id": "aFUDQ5Q8ojhx"
      },
      "execution_count": 813,
      "outputs": []
    },
    {
      "cell_type": "markdown",
      "source": [
        "Save the dataframe"
      ],
      "metadata": {
        "id": "crIEOZx6OnpZ"
      }
    },
    {
      "cell_type": "code",
      "source": [
        "# df_layer12.to_csv(\"/content/drive/MyDrive/cogs402longformer/results/papers/papers_attributions/cos_sim_layer12.csv\", index=False)\n",
        "# df_all.to_csv(\"/content/drive/MyDrive/cogs402longformer/results/papers/papers_attributions/cos_sim_all.csv\", index=False)"
      ],
      "metadata": {
        "id": "qlQRunAqC3fa"
      },
      "execution_count": 814,
      "outputs": []
    },
    {
      "cell_type": "markdown",
      "source": [
        "We know from the cosine similarities that it does not seem like the attribtions and the attentions are very similar; however, we can find out if there are similarities in the tokens in the highest percentiles.\n"
      ],
      "metadata": {
        "id": "r7kNTsdDTtHO"
      }
    },
    {
      "cell_type": "code",
      "source": [
        "attention_final_layer5 = np.copy(attention_final_layer)\n",
        "attention_final_layer5 = normalize(attention_final_layer5)\n",
        "\n",
        "attention_all_layer5 = np.copy(attention_all_layer) \n",
        "attention_all_layer5 = normalize(attention_all_layer5)\n",
        "\n",
        "exam_attrib5 = np.abs(exam_attrib)\n",
        "exam_attrib5 = normalize(exam_attrib5)\n",
        "print(exam_attrib5)"
      ],
      "metadata": {
        "id": "R3ftA3vQBCu5",
        "colab": {
          "base_uri": "https://localhost:8080/"
        },
        "outputId": "1a535589-abc7-430b-a211-a9d4e0519546"
      },
      "execution_count": 815,
      "outputs": [
        {
          "output_type": "stream",
          "name": "stdout",
          "text": [
            "[0.         0.0561608  0.01862393 ... 0.06994687 0.12036593 0.        ]\n"
          ]
        }
      ]
    },
    {
      "cell_type": "code",
      "source": [
        "top_final = np.percentile(attention_final_layer5, 95)\n",
        "top_all = np.percentile(attention_final_layer5, 95)\n",
        "top_attrib = np.percentile(exam_attrib5, 95)\n",
        "print(top_attrib)"
      ],
      "metadata": {
        "id": "hJAxo97YOCey",
        "colab": {
          "base_uri": "https://localhost:8080/"
        },
        "outputId": "33748380-fa16-422b-bc51-74e15f414a0d"
      },
      "execution_count": 816,
      "outputs": [
        {
          "output_type": "stream",
          "name": "stdout",
          "text": [
            "0.07131846942409473\n"
          ]
        }
      ]
    },
    {
      "cell_type": "code",
      "source": [
        "attention_final_layer5[attention_final_layer5<top_final] = 0\n",
        "attention_all_layer5[attention_all_layer5<top_all] = 0\n",
        "exam_attrib5[exam_attrib5<top_attrib] = 0"
      ],
      "metadata": {
        "id": "Cejei_JPPQRq"
      },
      "execution_count": 817,
      "outputs": []
    },
    {
      "cell_type": "code",
      "source": [
        "print(exam_attrib5)"
      ],
      "metadata": {
        "colab": {
          "base_uri": "https://localhost:8080/"
        },
        "id": "CLwaUUcUruOl",
        "outputId": "7eba2c24-b3cf-495e-869b-697b5030f7d6"
      },
      "execution_count": 818,
      "outputs": [
        {
          "output_type": "stream",
          "name": "stdout",
          "text": [
            "[0.         0.         0.         ... 0.         0.12036593 0.        ]\n"
          ]
        }
      ]
    },
    {
      "cell_type": "code",
      "source": [
        "cosine_thresh = np.dot(exam_attrib5, attention_final_layer5) / (norm(exam_attrib5)*norm(attention_final_layer5))\n",
        "print(\"Layer 12 Cosine Similarity 95th:\\n\", cosine_thresh)\n",
        "cosine_thresh2 = np.dot(exam_attrib5, attention_all_layer5) / (norm(exam_attrib5)*norm(attention_all_layer5))\n",
        "print(\"All layer Cosine Similarity 95th:\\n\", cosine_thresh2)"
      ],
      "metadata": {
        "colab": {
          "base_uri": "https://localhost:8080/"
        },
        "id": "avMBmrohlBV1",
        "outputId": "07e56d86-f1d2-4762-e880-7178611d183e"
      },
      "execution_count": 819,
      "outputs": [
        {
          "output_type": "stream",
          "name": "stdout",
          "text": [
            "Layer 12 Cosine Similarity 95th:\n",
            " 0.2442624462262068\n",
            "All layer Cosine Similarity 95th:\n",
            " 0.13478446227238386\n"
          ]
        }
      ]
    },
    {
      "cell_type": "code",
      "source": [
        "num = np.ceil(2048 * 0.95)\n",
        "print(2048 - num)\n",
        "exam_attrib_rank2 = np.copy(ranks_attrib)\n",
        "exam_attrib_rank2[exam_attrib_rank2 > num] = 0\n",
        "\n",
        "attention_final_layer_rank2 = np.copy(ranks)\n",
        "attention_final_layer_rank2[attention_final_layer_rank2 > num] = 0\n",
        "\n",
        "attention_all_layer_rank2 = np.copy(ranks2)\n",
        "attention_all_layer_rank2[attention_all_layer_rank2 > num] = 0"
      ],
      "metadata": {
        "colab": {
          "base_uri": "https://localhost:8080/"
        },
        "id": "uaECjgO-vG0O",
        "outputId": "de672e56-a134-4165-857e-a4ac46ecb17a"
      },
      "execution_count": 820,
      "outputs": [
        {
          "output_type": "stream",
          "name": "stdout",
          "text": [
            "102.0\n"
          ]
        }
      ]
    },
    {
      "cell_type": "code",
      "source": [
        "cosine_rank_top = np.dot(exam_attrib_rank2, attention_final_layer_rank2) / (norm(exam_attrib_rank2)*norm(attention_final_layer_rank2))\n",
        "print(\"Layer 12 Cosine Similarity 95th ranks:\\n\", cosine_rank_top)\n",
        "cosine_rank_top2 = np.dot(exam_attrib_rank2, attention_all_layer_rank2) / (norm(exam_attrib_rank2)*norm(attention_all_layer_rank2))\n",
        "print(\"All layer Cosine Similarity 95th ranks:\\n\", cosine_rank_top2)"
      ],
      "metadata": {
        "colab": {
          "base_uri": "https://localhost:8080/"
        },
        "id": "axsWfzNSxSc-",
        "outputId": "4d09168b-2cd3-4780-996f-5f8c3a6b45da"
      },
      "execution_count": 821,
      "outputs": [
        {
          "output_type": "stream",
          "name": "stdout",
          "text": [
            "Layer 12 Cosine Similarity 95th ranks:\n",
            " 0.7311890513583853\n",
            "All layer Cosine Similarity 95th ranks:\n",
            " 0.7120464365261969\n"
          ]
        }
      ]
    },
    {
      "cell_type": "code",
      "source": [
        "attention_final_layer_top = np.flatnonzero(attention_final_layer5)\n",
        "attention_final_layer_top = set(attention_final_layer_top)\n",
        "\n",
        "attention_all_layer_top = np.flatnonzero(attention_all_layer5)\n",
        "attention_all_layer_top = set(attention_all_layer_top)\n",
        "\n",
        "exam_attrib_top = np.flatnonzero(exam_attrib5)\n",
        "exam_attrib_top = set(exam_attrib_top)\n",
        "print(exam_attrib_top)"
      ],
      "metadata": {
        "id": "mV9EKBe8QIdA",
        "colab": {
          "base_uri": "https://localhost:8080/"
        },
        "outputId": "6623cea1-49b4-4b8a-d589-a5299b2d9b7f"
      },
      "execution_count": 822,
      "outputs": [
        {
          "output_type": "stream",
          "name": "stdout",
          "text": [
            "{1024, 1025, 514, 1026, 516, 1027, 518, 1536, 1538, 522, 16, 1040, 18, 531, 1552, 2039, 534, 535, 536, 26, 27, 1052, 542, 543, 1060, 551, 555, 565, 569, 583, 1617, 1622, 90, 1628, 612, 613, 102, 103, 104, 1637, 1649, 628, 632, 633, 1157, 1158, 647, 137, 138, 1737, 202, 1738, 1248, 230, 1256, 749, 750, 755, 756, 1793, 261, 266, 267, 781, 276, 279, 816, 820, 825, 834, 862, 863, 1888, 360, 877, 878, 368, 387, 402, 1940, 419, 949, 445, 446, 459, 464, 468, 986, 988, 989, 480, 488, 489, 493, 494, 495, 498, 501, 502, 503, 2040, 1019, 2046}\n"
          ]
        }
      ]
    },
    {
      "cell_type": "markdown",
      "source": [
        "Grab the tokens stored in the all tokens dictionary so we can know which tokens we are working with as we currently only have the indices."
      ],
      "metadata": {
        "id": "oM-P3g6fSzsN"
      }
    },
    {
      "cell_type": "code",
      "source": [
        "exam_tokens = all_tokens[str(example)]"
      ],
      "metadata": {
        "id": "hm3JJFcWQfWj"
      },
      "execution_count": 823,
      "outputs": []
    },
    {
      "cell_type": "markdown",
      "source": [
        "Find out which tokens have the highest attentions but not the highest attributions"
      ],
      "metadata": {
        "id": "XJPiXABt6klk"
      }
    },
    {
      "cell_type": "code",
      "source": [
        "diff = sorted(list(attention_final_layer_top - exam_attrib_top))\n",
        "print(len(diff))\n",
        "diff_tokens = [exam_tokens[idx] for idx in diff]\n",
        "d_diff = {\"token\": diff_tokens, \"position\":diff, \"attention_norm\":attention_final_layer5[diff], \"attribution_norm\":exam_attrib5[diff]}\n",
        "df_diff = pd.DataFrame(d_diff)\n",
        "df_diff"
      ],
      "metadata": {
        "colab": {
          "base_uri": "https://localhost:8080/",
          "height": 441
        },
        "id": "02gaQP2cUfZv",
        "outputId": "e815b12b-4dd6-445e-9e49-1018ce39f2b9"
      },
      "execution_count": 824,
      "outputs": [
        {
          "output_type": "stream",
          "name": "stdout",
          "text": [
            "74\n"
          ]
        },
        {
          "output_type": "execute_result",
          "data": {
            "text/plain": [
              "         token  position  attention_norm  attribution_norm\n",
              "0            .       139        0.798495               0.0\n",
              "1         talk       171        0.092173               0.0\n",
              "2     Ġdynamic       189        0.069863               0.0\n",
              "3   Ġlanguages       190        0.083314               0.0\n",
              "4      Ġstatic       193        0.057866               0.0\n",
              "..         ...       ...             ...               ...\n",
              "69           .      1758        0.987677               0.0\n",
              "70  ĠEvolution      1764        0.071890               0.0\n",
              "71           .      1869        0.922332               0.0\n",
              "72           .      1916        0.846734               0.0\n",
              "73           .      1958        0.789688               0.0\n",
              "\n",
              "[74 rows x 4 columns]"
            ],
            "text/html": [
              "\n",
              "  <div id=\"df-f9a94773-4439-491d-bc5f-3dd93c69e54f\">\n",
              "    <div class=\"colab-df-container\">\n",
              "      <div>\n",
              "<style scoped>\n",
              "    .dataframe tbody tr th:only-of-type {\n",
              "        vertical-align: middle;\n",
              "    }\n",
              "\n",
              "    .dataframe tbody tr th {\n",
              "        vertical-align: top;\n",
              "    }\n",
              "\n",
              "    .dataframe thead th {\n",
              "        text-align: right;\n",
              "    }\n",
              "</style>\n",
              "<table border=\"1\" class=\"dataframe\">\n",
              "  <thead>\n",
              "    <tr style=\"text-align: right;\">\n",
              "      <th></th>\n",
              "      <th>token</th>\n",
              "      <th>position</th>\n",
              "      <th>attention_norm</th>\n",
              "      <th>attribution_norm</th>\n",
              "    </tr>\n",
              "  </thead>\n",
              "  <tbody>\n",
              "    <tr>\n",
              "      <th>0</th>\n",
              "      <td>.</td>\n",
              "      <td>139</td>\n",
              "      <td>0.798495</td>\n",
              "      <td>0.0</td>\n",
              "    </tr>\n",
              "    <tr>\n",
              "      <th>1</th>\n",
              "      <td>talk</td>\n",
              "      <td>171</td>\n",
              "      <td>0.092173</td>\n",
              "      <td>0.0</td>\n",
              "    </tr>\n",
              "    <tr>\n",
              "      <th>2</th>\n",
              "      <td>Ġdynamic</td>\n",
              "      <td>189</td>\n",
              "      <td>0.069863</td>\n",
              "      <td>0.0</td>\n",
              "    </tr>\n",
              "    <tr>\n",
              "      <th>3</th>\n",
              "      <td>Ġlanguages</td>\n",
              "      <td>190</td>\n",
              "      <td>0.083314</td>\n",
              "      <td>0.0</td>\n",
              "    </tr>\n",
              "    <tr>\n",
              "      <th>4</th>\n",
              "      <td>Ġstatic</td>\n",
              "      <td>193</td>\n",
              "      <td>0.057866</td>\n",
              "      <td>0.0</td>\n",
              "    </tr>\n",
              "    <tr>\n",
              "      <th>...</th>\n",
              "      <td>...</td>\n",
              "      <td>...</td>\n",
              "      <td>...</td>\n",
              "      <td>...</td>\n",
              "    </tr>\n",
              "    <tr>\n",
              "      <th>69</th>\n",
              "      <td>.</td>\n",
              "      <td>1758</td>\n",
              "      <td>0.987677</td>\n",
              "      <td>0.0</td>\n",
              "    </tr>\n",
              "    <tr>\n",
              "      <th>70</th>\n",
              "      <td>ĠEvolution</td>\n",
              "      <td>1764</td>\n",
              "      <td>0.071890</td>\n",
              "      <td>0.0</td>\n",
              "    </tr>\n",
              "    <tr>\n",
              "      <th>71</th>\n",
              "      <td>.</td>\n",
              "      <td>1869</td>\n",
              "      <td>0.922332</td>\n",
              "      <td>0.0</td>\n",
              "    </tr>\n",
              "    <tr>\n",
              "      <th>72</th>\n",
              "      <td>.</td>\n",
              "      <td>1916</td>\n",
              "      <td>0.846734</td>\n",
              "      <td>0.0</td>\n",
              "    </tr>\n",
              "    <tr>\n",
              "      <th>73</th>\n",
              "      <td>.</td>\n",
              "      <td>1958</td>\n",
              "      <td>0.789688</td>\n",
              "      <td>0.0</td>\n",
              "    </tr>\n",
              "  </tbody>\n",
              "</table>\n",
              "<p>74 rows × 4 columns</p>\n",
              "</div>\n",
              "      <button class=\"colab-df-convert\" onclick=\"convertToInteractive('df-f9a94773-4439-491d-bc5f-3dd93c69e54f')\"\n",
              "              title=\"Convert this dataframe to an interactive table.\"\n",
              "              style=\"display:none;\">\n",
              "        \n",
              "  <svg xmlns=\"http://www.w3.org/2000/svg\" height=\"24px\"viewBox=\"0 0 24 24\"\n",
              "       width=\"24px\">\n",
              "    <path d=\"M0 0h24v24H0V0z\" fill=\"none\"/>\n",
              "    <path d=\"M18.56 5.44l.94 2.06.94-2.06 2.06-.94-2.06-.94-.94-2.06-.94 2.06-2.06.94zm-11 1L8.5 8.5l.94-2.06 2.06-.94-2.06-.94L8.5 2.5l-.94 2.06-2.06.94zm10 10l.94 2.06.94-2.06 2.06-.94-2.06-.94-.94-2.06-.94 2.06-2.06.94z\"/><path d=\"M17.41 7.96l-1.37-1.37c-.4-.4-.92-.59-1.43-.59-.52 0-1.04.2-1.43.59L10.3 9.45l-7.72 7.72c-.78.78-.78 2.05 0 2.83L4 21.41c.39.39.9.59 1.41.59.51 0 1.02-.2 1.41-.59l7.78-7.78 2.81-2.81c.8-.78.8-2.07 0-2.86zM5.41 20L4 18.59l7.72-7.72 1.47 1.35L5.41 20z\"/>\n",
              "  </svg>\n",
              "      </button>\n",
              "      \n",
              "  <style>\n",
              "    .colab-df-container {\n",
              "      display:flex;\n",
              "      flex-wrap:wrap;\n",
              "      gap: 12px;\n",
              "    }\n",
              "\n",
              "    .colab-df-convert {\n",
              "      background-color: #E8F0FE;\n",
              "      border: none;\n",
              "      border-radius: 50%;\n",
              "      cursor: pointer;\n",
              "      display: none;\n",
              "      fill: #1967D2;\n",
              "      height: 32px;\n",
              "      padding: 0 0 0 0;\n",
              "      width: 32px;\n",
              "    }\n",
              "\n",
              "    .colab-df-convert:hover {\n",
              "      background-color: #E2EBFA;\n",
              "      box-shadow: 0px 1px 2px rgba(60, 64, 67, 0.3), 0px 1px 3px 1px rgba(60, 64, 67, 0.15);\n",
              "      fill: #174EA6;\n",
              "    }\n",
              "\n",
              "    [theme=dark] .colab-df-convert {\n",
              "      background-color: #3B4455;\n",
              "      fill: #D2E3FC;\n",
              "    }\n",
              "\n",
              "    [theme=dark] .colab-df-convert:hover {\n",
              "      background-color: #434B5C;\n",
              "      box-shadow: 0px 1px 3px 1px rgba(0, 0, 0, 0.15);\n",
              "      filter: drop-shadow(0px 1px 2px rgba(0, 0, 0, 0.3));\n",
              "      fill: #FFFFFF;\n",
              "    }\n",
              "  </style>\n",
              "\n",
              "      <script>\n",
              "        const buttonEl =\n",
              "          document.querySelector('#df-f9a94773-4439-491d-bc5f-3dd93c69e54f button.colab-df-convert');\n",
              "        buttonEl.style.display =\n",
              "          google.colab.kernel.accessAllowed ? 'block' : 'none';\n",
              "\n",
              "        async function convertToInteractive(key) {\n",
              "          const element = document.querySelector('#df-f9a94773-4439-491d-bc5f-3dd93c69e54f');\n",
              "          const dataTable =\n",
              "            await google.colab.kernel.invokeFunction('convertToInteractive',\n",
              "                                                     [key], {});\n",
              "          if (!dataTable) return;\n",
              "\n",
              "          const docLinkHtml = 'Like what you see? Visit the ' +\n",
              "            '<a target=\"_blank\" href=https://colab.research.google.com/notebooks/data_table.ipynb>data table notebook</a>'\n",
              "            + ' to learn more about interactive tables.';\n",
              "          element.innerHTML = '';\n",
              "          dataTable['output_type'] = 'display_data';\n",
              "          await google.colab.output.renderOutput(dataTable, element);\n",
              "          const docLink = document.createElement('div');\n",
              "          docLink.innerHTML = docLinkHtml;\n",
              "          element.appendChild(docLink);\n",
              "        }\n",
              "      </script>\n",
              "    </div>\n",
              "  </div>\n",
              "  "
            ]
          },
          "metadata": {},
          "execution_count": 824
        }
      ]
    },
    {
      "cell_type": "code",
      "source": [
        "print(df_diff['token'].value_counts())"
      ],
      "metadata": {
        "colab": {
          "base_uri": "https://localhost:8080/"
        },
        "id": "xtN0uGi7LlTT",
        "outputId": "daed3918-c09e-41d4-89bf-fbf279638c6c"
      },
      "execution_count": 825,
      "outputs": [
        {
          "output_type": "stream",
          "name": "stdout",
          "text": [
            ".                  28\n",
            "Ġlanguages          4\n",
            "Ġlanguage           3\n",
            "Ġdynamic            2\n",
            "Ġassembly           2\n",
            "Ġoperational        1\n",
            "Ġcompile            1\n",
            "ya                  1\n",
            "ae                  1\n",
            "een                 1\n",
            "all                 1\n",
            "class               1\n",
            "Ġmigration          1\n",
            "language            1\n",
            "Ġprogram            1\n",
            "Ġx                  1\n",
            "86                  1\n",
            "Ġcompilation        1\n",
            "Ġspecialization     1\n",
            "Ġcode               1\n",
            "ilers               1\n",
            "Ġprox               1\n",
            "time                1\n",
            "talk                1\n",
            "Ġstatic             1\n",
            "Ġtyped              1\n",
            "Ġcommitted          1\n",
            "Ġinteroper          1\n",
            "Ġtracing            1\n",
            "IT                  1\n",
            "iggs                1\n",
            "Ġvirtual            1\n",
            "VM                  1\n",
            "ĠJavaScript         1\n",
            "Ġnom                1\n",
            "Ġobject             1\n",
            "oriented            1\n",
            "Ġunexpl             1\n",
            "Ġbenchmarks         1\n",
            "ĠEvolution          1\n",
            "Name: token, dtype: int64\n"
          ]
        }
      ]
    },
    {
      "cell_type": "markdown",
      "source": [
        "Find out which tokens have the highest attributions but not the highest attentions"
      ],
      "metadata": {
        "id": "s1Mw4yzv62iA"
      }
    },
    {
      "cell_type": "code",
      "source": [
        "diff2 = sorted(list(exam_attrib_top - attention_final_layer_top))\n",
        "print(len(diff))\n",
        "diff_tokens2 = [exam_tokens[idx] for idx in diff2]\n",
        "d_diff2 = {\"token\": diff_tokens2, \"position\":diff2, \"attention_norm\": attention_final_layer5[diff2], \"attribution_norm\":exam_attrib5[diff2]}\n",
        "df_diff2 = pd.DataFrame(d_diff2)\n",
        "df_diff2"
      ],
      "metadata": {
        "colab": {
          "base_uri": "https://localhost:8080/",
          "height": 441
        },
        "id": "SUJBtsFvoITx",
        "outputId": "24a832d3-7772-416d-d4cb-ca799d003871"
      },
      "execution_count": 826,
      "outputs": [
        {
          "output_type": "stream",
          "name": "stdout",
          "text": [
            "74\n"
          ]
        },
        {
          "output_type": "execute_result",
          "data": {
            "text/plain": [
              "               token  position  attention_norm  attribution_norm\n",
              "0                 ae        16             0.0          0.080537\n",
              "1                een        18             0.0          0.078617\n",
              "2                  .        26             0.0          0.820988\n",
              "3               ĠSie        27             0.0          0.081687\n",
              "4   Ġimplementations        90             0.0          0.089657\n",
              "..               ...       ...             ...               ...\n",
              "69          ĠHowever      1738             0.0          0.075582\n",
              "70           Ġtyping      1793             0.0          0.083661\n",
              "71                 ,      2039             0.0          0.119385\n",
              "72               Ġis      2040             0.0          0.135040\n",
              "73               Ġan      2046             0.0          0.120366\n",
              "\n",
              "[74 rows x 4 columns]"
            ],
            "text/html": [
              "\n",
              "  <div id=\"df-3b09107c-a9bc-4285-8dc4-491667a0abce\">\n",
              "    <div class=\"colab-df-container\">\n",
              "      <div>\n",
              "<style scoped>\n",
              "    .dataframe tbody tr th:only-of-type {\n",
              "        vertical-align: middle;\n",
              "    }\n",
              "\n",
              "    .dataframe tbody tr th {\n",
              "        vertical-align: top;\n",
              "    }\n",
              "\n",
              "    .dataframe thead th {\n",
              "        text-align: right;\n",
              "    }\n",
              "</style>\n",
              "<table border=\"1\" class=\"dataframe\">\n",
              "  <thead>\n",
              "    <tr style=\"text-align: right;\">\n",
              "      <th></th>\n",
              "      <th>token</th>\n",
              "      <th>position</th>\n",
              "      <th>attention_norm</th>\n",
              "      <th>attribution_norm</th>\n",
              "    </tr>\n",
              "  </thead>\n",
              "  <tbody>\n",
              "    <tr>\n",
              "      <th>0</th>\n",
              "      <td>ae</td>\n",
              "      <td>16</td>\n",
              "      <td>0.0</td>\n",
              "      <td>0.080537</td>\n",
              "    </tr>\n",
              "    <tr>\n",
              "      <th>1</th>\n",
              "      <td>een</td>\n",
              "      <td>18</td>\n",
              "      <td>0.0</td>\n",
              "      <td>0.078617</td>\n",
              "    </tr>\n",
              "    <tr>\n",
              "      <th>2</th>\n",
              "      <td>.</td>\n",
              "      <td>26</td>\n",
              "      <td>0.0</td>\n",
              "      <td>0.820988</td>\n",
              "    </tr>\n",
              "    <tr>\n",
              "      <th>3</th>\n",
              "      <td>ĠSie</td>\n",
              "      <td>27</td>\n",
              "      <td>0.0</td>\n",
              "      <td>0.081687</td>\n",
              "    </tr>\n",
              "    <tr>\n",
              "      <th>4</th>\n",
              "      <td>Ġimplementations</td>\n",
              "      <td>90</td>\n",
              "      <td>0.0</td>\n",
              "      <td>0.089657</td>\n",
              "    </tr>\n",
              "    <tr>\n",
              "      <th>...</th>\n",
              "      <td>...</td>\n",
              "      <td>...</td>\n",
              "      <td>...</td>\n",
              "      <td>...</td>\n",
              "    </tr>\n",
              "    <tr>\n",
              "      <th>69</th>\n",
              "      <td>ĠHowever</td>\n",
              "      <td>1738</td>\n",
              "      <td>0.0</td>\n",
              "      <td>0.075582</td>\n",
              "    </tr>\n",
              "    <tr>\n",
              "      <th>70</th>\n",
              "      <td>Ġtyping</td>\n",
              "      <td>1793</td>\n",
              "      <td>0.0</td>\n",
              "      <td>0.083661</td>\n",
              "    </tr>\n",
              "    <tr>\n",
              "      <th>71</th>\n",
              "      <td>,</td>\n",
              "      <td>2039</td>\n",
              "      <td>0.0</td>\n",
              "      <td>0.119385</td>\n",
              "    </tr>\n",
              "    <tr>\n",
              "      <th>72</th>\n",
              "      <td>Ġis</td>\n",
              "      <td>2040</td>\n",
              "      <td>0.0</td>\n",
              "      <td>0.135040</td>\n",
              "    </tr>\n",
              "    <tr>\n",
              "      <th>73</th>\n",
              "      <td>Ġan</td>\n",
              "      <td>2046</td>\n",
              "      <td>0.0</td>\n",
              "      <td>0.120366</td>\n",
              "    </tr>\n",
              "  </tbody>\n",
              "</table>\n",
              "<p>74 rows × 4 columns</p>\n",
              "</div>\n",
              "      <button class=\"colab-df-convert\" onclick=\"convertToInteractive('df-3b09107c-a9bc-4285-8dc4-491667a0abce')\"\n",
              "              title=\"Convert this dataframe to an interactive table.\"\n",
              "              style=\"display:none;\">\n",
              "        \n",
              "  <svg xmlns=\"http://www.w3.org/2000/svg\" height=\"24px\"viewBox=\"0 0 24 24\"\n",
              "       width=\"24px\">\n",
              "    <path d=\"M0 0h24v24H0V0z\" fill=\"none\"/>\n",
              "    <path d=\"M18.56 5.44l.94 2.06.94-2.06 2.06-.94-2.06-.94-.94-2.06-.94 2.06-2.06.94zm-11 1L8.5 8.5l.94-2.06 2.06-.94-2.06-.94L8.5 2.5l-.94 2.06-2.06.94zm10 10l.94 2.06.94-2.06 2.06-.94-2.06-.94-.94-2.06-.94 2.06-2.06.94z\"/><path d=\"M17.41 7.96l-1.37-1.37c-.4-.4-.92-.59-1.43-.59-.52 0-1.04.2-1.43.59L10.3 9.45l-7.72 7.72c-.78.78-.78 2.05 0 2.83L4 21.41c.39.39.9.59 1.41.59.51 0 1.02-.2 1.41-.59l7.78-7.78 2.81-2.81c.8-.78.8-2.07 0-2.86zM5.41 20L4 18.59l7.72-7.72 1.47 1.35L5.41 20z\"/>\n",
              "  </svg>\n",
              "      </button>\n",
              "      \n",
              "  <style>\n",
              "    .colab-df-container {\n",
              "      display:flex;\n",
              "      flex-wrap:wrap;\n",
              "      gap: 12px;\n",
              "    }\n",
              "\n",
              "    .colab-df-convert {\n",
              "      background-color: #E8F0FE;\n",
              "      border: none;\n",
              "      border-radius: 50%;\n",
              "      cursor: pointer;\n",
              "      display: none;\n",
              "      fill: #1967D2;\n",
              "      height: 32px;\n",
              "      padding: 0 0 0 0;\n",
              "      width: 32px;\n",
              "    }\n",
              "\n",
              "    .colab-df-convert:hover {\n",
              "      background-color: #E2EBFA;\n",
              "      box-shadow: 0px 1px 2px rgba(60, 64, 67, 0.3), 0px 1px 3px 1px rgba(60, 64, 67, 0.15);\n",
              "      fill: #174EA6;\n",
              "    }\n",
              "\n",
              "    [theme=dark] .colab-df-convert {\n",
              "      background-color: #3B4455;\n",
              "      fill: #D2E3FC;\n",
              "    }\n",
              "\n",
              "    [theme=dark] .colab-df-convert:hover {\n",
              "      background-color: #434B5C;\n",
              "      box-shadow: 0px 1px 3px 1px rgba(0, 0, 0, 0.15);\n",
              "      filter: drop-shadow(0px 1px 2px rgba(0, 0, 0, 0.3));\n",
              "      fill: #FFFFFF;\n",
              "    }\n",
              "  </style>\n",
              "\n",
              "      <script>\n",
              "        const buttonEl =\n",
              "          document.querySelector('#df-3b09107c-a9bc-4285-8dc4-491667a0abce button.colab-df-convert');\n",
              "        buttonEl.style.display =\n",
              "          google.colab.kernel.accessAllowed ? 'block' : 'none';\n",
              "\n",
              "        async function convertToInteractive(key) {\n",
              "          const element = document.querySelector('#df-3b09107c-a9bc-4285-8dc4-491667a0abce');\n",
              "          const dataTable =\n",
              "            await google.colab.kernel.invokeFunction('convertToInteractive',\n",
              "                                                     [key], {});\n",
              "          if (!dataTable) return;\n",
              "\n",
              "          const docLinkHtml = 'Like what you see? Visit the ' +\n",
              "            '<a target=\"_blank\" href=https://colab.research.google.com/notebooks/data_table.ipynb>data table notebook</a>'\n",
              "            + ' to learn more about interactive tables.';\n",
              "          element.innerHTML = '';\n",
              "          dataTable['output_type'] = 'display_data';\n",
              "          await google.colab.output.renderOutput(dataTable, element);\n",
              "          const docLink = document.createElement('div');\n",
              "          docLink.innerHTML = docLinkHtml;\n",
              "          element.appendChild(docLink);\n",
              "        }\n",
              "      </script>\n",
              "    </div>\n",
              "  </div>\n",
              "  "
            ]
          },
          "metadata": {},
          "execution_count": 826
        }
      ]
    },
    {
      "cell_type": "code",
      "source": [
        "print(df_diff2['token'].value_counts())"
      ],
      "metadata": {
        "colab": {
          "base_uri": "https://localhost:8080/"
        },
        "id": "q9EQU04lMKxc",
        "outputId": "e86e4c40-1dd2-405d-d1c6-ba59c535ac9d"
      },
      "execution_count": 827,
      "outputs": [
        {
          "output_type": "stream",
          "name": "stdout",
          "text": [
            "Ġtyped              17\n",
            "Ġcode                8\n",
            "Ġtyping              7\n",
            ".                    4\n",
            "Ġlanguage            3\n",
            "Ġruntime             2\n",
            "Ġimplementations     2\n",
            "Ġimplementation      2\n",
            ",                    2\n",
            "Ġ(                   2\n",
            "ability              1\n",
            "Ġprogrammers         1\n",
            "and                  1\n",
            "ae                   1\n",
            "Ġinteroper           1\n",
            "Ġwith                1\n",
            "Ġprogrammer          1\n",
            "Ġother               1\n",
            "Ġthe                 1\n",
            "ĠHowever             1\n",
            "Ġis                  1\n",
            "Ġprovide             1\n",
            "downs                1\n",
            "ift                  1\n",
            "36                   1\n",
            "Ġa                   1\n",
            "een                  1\n",
            "ikawa                1\n",
            "Ġhave                1\n",
            "Ġlanguages           1\n",
            "Ġ[                   1\n",
            "Ġexample             1\n",
            "ĠFor                 1\n",
            "ĠSie                 1\n",
            "Ġan                  1\n",
            "Name: token, dtype: int64\n"
          ]
        }
      ]
    },
    {
      "cell_type": "markdown",
      "source": [
        "Find out which tokens are part of the highest attentions and highest attributions."
      ],
      "metadata": {
        "id": "i7KUR67I68i9"
      }
    },
    {
      "cell_type": "code",
      "source": [
        "same = sorted(list(attention_final_layer_top & exam_attrib_top))\n",
        "print(len(same))\n",
        "same_tokens = [exam_tokens[idx] for idx in same]\n",
        "d_same = {\"token\": same_tokens, \"position\":same, \"attention_norm\": attention_final_layer5[same], \"attribution_norm\":exam_attrib5[same]}\n",
        "df_same = pd.DataFrame(d_same)\n",
        "df_same"
      ],
      "metadata": {
        "colab": {
          "base_uri": "https://localhost:8080/",
          "height": 976
        },
        "id": "k4VAamjiUvr0",
        "outputId": "6cdf7940-5b0d-4a7a-c271-a4107e4e462c"
      },
      "execution_count": 828,
      "outputs": [
        {
          "output_type": "stream",
          "name": "stdout",
          "text": [
            "29\n"
          ]
        },
        {
          "output_type": "execute_result",
          "data": {
            "text/plain": [
              "         token  position  attention_norm  attribution_norm\n",
              "0            .       102        0.741577          0.982889\n",
              "1     Ġprogram       138        0.054548          0.093605\n",
              "2            .       202        0.892415          0.233809\n",
              "3            .       230        0.933252          0.203095\n",
              "4    Ġcompiler       276        0.080562          0.232910\n",
              "5     Ġmachine       279        0.059030          0.111264\n",
              "6   Ġlanguages       360        0.076261          0.122105\n",
              "7            .       368        0.681094          0.093813\n",
              "8   Ġlanguages       387        0.068842          0.132378\n",
              "9    Ġcompiler       402        0.054535          0.191650\n",
              "10    Ġprogram       468        0.052641          0.123653\n",
              "11   Ġlanguage       480        0.048077          0.083214\n",
              "12           .       495        0.642877          0.087041\n",
              "13   Ġprograms       535        0.053213          0.152429\n",
              "14           .       536        0.659053          0.181313\n",
              "15   Ġcompiler       543        0.054286          0.377089\n",
              "16   Ġprograms       613        0.068928          0.234129\n",
              "17   Ġprograms       628        0.080112          0.195923\n",
              "18       Ġcode       750        0.051961          0.091027\n",
              "19       Ġcode       756        0.050677          0.072322\n",
              "20   Ġcompiler       816        0.078451          0.179442\n",
              "21   Ġcompiler       834        0.074277          0.226003\n",
              "22           .       989        0.974894          1.000000\n",
              "23           .      1248        0.959836          0.156660\n",
              "24   Ġsoftware      1256        0.070633          0.088683\n",
              "25           .      1628        0.859937          0.072442\n",
              "26           .      1737        0.949594          0.306326\n",
              "27           .      1888        0.892519          0.133603\n",
              "28           .      1940        0.807182          0.076308"
            ],
            "text/html": [
              "\n",
              "  <div id=\"df-d7521e5a-78a0-4421-b15a-0aca4c5e7dae\">\n",
              "    <div class=\"colab-df-container\">\n",
              "      <div>\n",
              "<style scoped>\n",
              "    .dataframe tbody tr th:only-of-type {\n",
              "        vertical-align: middle;\n",
              "    }\n",
              "\n",
              "    .dataframe tbody tr th {\n",
              "        vertical-align: top;\n",
              "    }\n",
              "\n",
              "    .dataframe thead th {\n",
              "        text-align: right;\n",
              "    }\n",
              "</style>\n",
              "<table border=\"1\" class=\"dataframe\">\n",
              "  <thead>\n",
              "    <tr style=\"text-align: right;\">\n",
              "      <th></th>\n",
              "      <th>token</th>\n",
              "      <th>position</th>\n",
              "      <th>attention_norm</th>\n",
              "      <th>attribution_norm</th>\n",
              "    </tr>\n",
              "  </thead>\n",
              "  <tbody>\n",
              "    <tr>\n",
              "      <th>0</th>\n",
              "      <td>.</td>\n",
              "      <td>102</td>\n",
              "      <td>0.741577</td>\n",
              "      <td>0.982889</td>\n",
              "    </tr>\n",
              "    <tr>\n",
              "      <th>1</th>\n",
              "      <td>Ġprogram</td>\n",
              "      <td>138</td>\n",
              "      <td>0.054548</td>\n",
              "      <td>0.093605</td>\n",
              "    </tr>\n",
              "    <tr>\n",
              "      <th>2</th>\n",
              "      <td>.</td>\n",
              "      <td>202</td>\n",
              "      <td>0.892415</td>\n",
              "      <td>0.233809</td>\n",
              "    </tr>\n",
              "    <tr>\n",
              "      <th>3</th>\n",
              "      <td>.</td>\n",
              "      <td>230</td>\n",
              "      <td>0.933252</td>\n",
              "      <td>0.203095</td>\n",
              "    </tr>\n",
              "    <tr>\n",
              "      <th>4</th>\n",
              "      <td>Ġcompiler</td>\n",
              "      <td>276</td>\n",
              "      <td>0.080562</td>\n",
              "      <td>0.232910</td>\n",
              "    </tr>\n",
              "    <tr>\n",
              "      <th>5</th>\n",
              "      <td>Ġmachine</td>\n",
              "      <td>279</td>\n",
              "      <td>0.059030</td>\n",
              "      <td>0.111264</td>\n",
              "    </tr>\n",
              "    <tr>\n",
              "      <th>6</th>\n",
              "      <td>Ġlanguages</td>\n",
              "      <td>360</td>\n",
              "      <td>0.076261</td>\n",
              "      <td>0.122105</td>\n",
              "    </tr>\n",
              "    <tr>\n",
              "      <th>7</th>\n",
              "      <td>.</td>\n",
              "      <td>368</td>\n",
              "      <td>0.681094</td>\n",
              "      <td>0.093813</td>\n",
              "    </tr>\n",
              "    <tr>\n",
              "      <th>8</th>\n",
              "      <td>Ġlanguages</td>\n",
              "      <td>387</td>\n",
              "      <td>0.068842</td>\n",
              "      <td>0.132378</td>\n",
              "    </tr>\n",
              "    <tr>\n",
              "      <th>9</th>\n",
              "      <td>Ġcompiler</td>\n",
              "      <td>402</td>\n",
              "      <td>0.054535</td>\n",
              "      <td>0.191650</td>\n",
              "    </tr>\n",
              "    <tr>\n",
              "      <th>10</th>\n",
              "      <td>Ġprogram</td>\n",
              "      <td>468</td>\n",
              "      <td>0.052641</td>\n",
              "      <td>0.123653</td>\n",
              "    </tr>\n",
              "    <tr>\n",
              "      <th>11</th>\n",
              "      <td>Ġlanguage</td>\n",
              "      <td>480</td>\n",
              "      <td>0.048077</td>\n",
              "      <td>0.083214</td>\n",
              "    </tr>\n",
              "    <tr>\n",
              "      <th>12</th>\n",
              "      <td>.</td>\n",
              "      <td>495</td>\n",
              "      <td>0.642877</td>\n",
              "      <td>0.087041</td>\n",
              "    </tr>\n",
              "    <tr>\n",
              "      <th>13</th>\n",
              "      <td>Ġprograms</td>\n",
              "      <td>535</td>\n",
              "      <td>0.053213</td>\n",
              "      <td>0.152429</td>\n",
              "    </tr>\n",
              "    <tr>\n",
              "      <th>14</th>\n",
              "      <td>.</td>\n",
              "      <td>536</td>\n",
              "      <td>0.659053</td>\n",
              "      <td>0.181313</td>\n",
              "    </tr>\n",
              "    <tr>\n",
              "      <th>15</th>\n",
              "      <td>Ġcompiler</td>\n",
              "      <td>543</td>\n",
              "      <td>0.054286</td>\n",
              "      <td>0.377089</td>\n",
              "    </tr>\n",
              "    <tr>\n",
              "      <th>16</th>\n",
              "      <td>Ġprograms</td>\n",
              "      <td>613</td>\n",
              "      <td>0.068928</td>\n",
              "      <td>0.234129</td>\n",
              "    </tr>\n",
              "    <tr>\n",
              "      <th>17</th>\n",
              "      <td>Ġprograms</td>\n",
              "      <td>628</td>\n",
              "      <td>0.080112</td>\n",
              "      <td>0.195923</td>\n",
              "    </tr>\n",
              "    <tr>\n",
              "      <th>18</th>\n",
              "      <td>Ġcode</td>\n",
              "      <td>750</td>\n",
              "      <td>0.051961</td>\n",
              "      <td>0.091027</td>\n",
              "    </tr>\n",
              "    <tr>\n",
              "      <th>19</th>\n",
              "      <td>Ġcode</td>\n",
              "      <td>756</td>\n",
              "      <td>0.050677</td>\n",
              "      <td>0.072322</td>\n",
              "    </tr>\n",
              "    <tr>\n",
              "      <th>20</th>\n",
              "      <td>Ġcompiler</td>\n",
              "      <td>816</td>\n",
              "      <td>0.078451</td>\n",
              "      <td>0.179442</td>\n",
              "    </tr>\n",
              "    <tr>\n",
              "      <th>21</th>\n",
              "      <td>Ġcompiler</td>\n",
              "      <td>834</td>\n",
              "      <td>0.074277</td>\n",
              "      <td>0.226003</td>\n",
              "    </tr>\n",
              "    <tr>\n",
              "      <th>22</th>\n",
              "      <td>.</td>\n",
              "      <td>989</td>\n",
              "      <td>0.974894</td>\n",
              "      <td>1.000000</td>\n",
              "    </tr>\n",
              "    <tr>\n",
              "      <th>23</th>\n",
              "      <td>.</td>\n",
              "      <td>1248</td>\n",
              "      <td>0.959836</td>\n",
              "      <td>0.156660</td>\n",
              "    </tr>\n",
              "    <tr>\n",
              "      <th>24</th>\n",
              "      <td>Ġsoftware</td>\n",
              "      <td>1256</td>\n",
              "      <td>0.070633</td>\n",
              "      <td>0.088683</td>\n",
              "    </tr>\n",
              "    <tr>\n",
              "      <th>25</th>\n",
              "      <td>.</td>\n",
              "      <td>1628</td>\n",
              "      <td>0.859937</td>\n",
              "      <td>0.072442</td>\n",
              "    </tr>\n",
              "    <tr>\n",
              "      <th>26</th>\n",
              "      <td>.</td>\n",
              "      <td>1737</td>\n",
              "      <td>0.949594</td>\n",
              "      <td>0.306326</td>\n",
              "    </tr>\n",
              "    <tr>\n",
              "      <th>27</th>\n",
              "      <td>.</td>\n",
              "      <td>1888</td>\n",
              "      <td>0.892519</td>\n",
              "      <td>0.133603</td>\n",
              "    </tr>\n",
              "    <tr>\n",
              "      <th>28</th>\n",
              "      <td>.</td>\n",
              "      <td>1940</td>\n",
              "      <td>0.807182</td>\n",
              "      <td>0.076308</td>\n",
              "    </tr>\n",
              "  </tbody>\n",
              "</table>\n",
              "</div>\n",
              "      <button class=\"colab-df-convert\" onclick=\"convertToInteractive('df-d7521e5a-78a0-4421-b15a-0aca4c5e7dae')\"\n",
              "              title=\"Convert this dataframe to an interactive table.\"\n",
              "              style=\"display:none;\">\n",
              "        \n",
              "  <svg xmlns=\"http://www.w3.org/2000/svg\" height=\"24px\"viewBox=\"0 0 24 24\"\n",
              "       width=\"24px\">\n",
              "    <path d=\"M0 0h24v24H0V0z\" fill=\"none\"/>\n",
              "    <path d=\"M18.56 5.44l.94 2.06.94-2.06 2.06-.94-2.06-.94-.94-2.06-.94 2.06-2.06.94zm-11 1L8.5 8.5l.94-2.06 2.06-.94-2.06-.94L8.5 2.5l-.94 2.06-2.06.94zm10 10l.94 2.06.94-2.06 2.06-.94-2.06-.94-.94-2.06-.94 2.06-2.06.94z\"/><path d=\"M17.41 7.96l-1.37-1.37c-.4-.4-.92-.59-1.43-.59-.52 0-1.04.2-1.43.59L10.3 9.45l-7.72 7.72c-.78.78-.78 2.05 0 2.83L4 21.41c.39.39.9.59 1.41.59.51 0 1.02-.2 1.41-.59l7.78-7.78 2.81-2.81c.8-.78.8-2.07 0-2.86zM5.41 20L4 18.59l7.72-7.72 1.47 1.35L5.41 20z\"/>\n",
              "  </svg>\n",
              "      </button>\n",
              "      \n",
              "  <style>\n",
              "    .colab-df-container {\n",
              "      display:flex;\n",
              "      flex-wrap:wrap;\n",
              "      gap: 12px;\n",
              "    }\n",
              "\n",
              "    .colab-df-convert {\n",
              "      background-color: #E8F0FE;\n",
              "      border: none;\n",
              "      border-radius: 50%;\n",
              "      cursor: pointer;\n",
              "      display: none;\n",
              "      fill: #1967D2;\n",
              "      height: 32px;\n",
              "      padding: 0 0 0 0;\n",
              "      width: 32px;\n",
              "    }\n",
              "\n",
              "    .colab-df-convert:hover {\n",
              "      background-color: #E2EBFA;\n",
              "      box-shadow: 0px 1px 2px rgba(60, 64, 67, 0.3), 0px 1px 3px 1px rgba(60, 64, 67, 0.15);\n",
              "      fill: #174EA6;\n",
              "    }\n",
              "\n",
              "    [theme=dark] .colab-df-convert {\n",
              "      background-color: #3B4455;\n",
              "      fill: #D2E3FC;\n",
              "    }\n",
              "\n",
              "    [theme=dark] .colab-df-convert:hover {\n",
              "      background-color: #434B5C;\n",
              "      box-shadow: 0px 1px 3px 1px rgba(0, 0, 0, 0.15);\n",
              "      filter: drop-shadow(0px 1px 2px rgba(0, 0, 0, 0.3));\n",
              "      fill: #FFFFFF;\n",
              "    }\n",
              "  </style>\n",
              "\n",
              "      <script>\n",
              "        const buttonEl =\n",
              "          document.querySelector('#df-d7521e5a-78a0-4421-b15a-0aca4c5e7dae button.colab-df-convert');\n",
              "        buttonEl.style.display =\n",
              "          google.colab.kernel.accessAllowed ? 'block' : 'none';\n",
              "\n",
              "        async function convertToInteractive(key) {\n",
              "          const element = document.querySelector('#df-d7521e5a-78a0-4421-b15a-0aca4c5e7dae');\n",
              "          const dataTable =\n",
              "            await google.colab.kernel.invokeFunction('convertToInteractive',\n",
              "                                                     [key], {});\n",
              "          if (!dataTable) return;\n",
              "\n",
              "          const docLinkHtml = 'Like what you see? Visit the ' +\n",
              "            '<a target=\"_blank\" href=https://colab.research.google.com/notebooks/data_table.ipynb>data table notebook</a>'\n",
              "            + ' to learn more about interactive tables.';\n",
              "          element.innerHTML = '';\n",
              "          dataTable['output_type'] = 'display_data';\n",
              "          await google.colab.output.renderOutput(dataTable, element);\n",
              "          const docLink = document.createElement('div');\n",
              "          docLink.innerHTML = docLinkHtml;\n",
              "          element.appendChild(docLink);\n",
              "        }\n",
              "      </script>\n",
              "    </div>\n",
              "  </div>\n",
              "  "
            ]
          },
          "metadata": {},
          "execution_count": 828
        }
      ]
    },
    {
      "cell_type": "code",
      "source": [
        "print(df_same['token'].value_counts())"
      ],
      "metadata": {
        "colab": {
          "base_uri": "https://localhost:8080/"
        },
        "id": "VXCHsbU-MWlO",
        "outputId": "972609e7-209b-46b7-e090-1bfff436eecd"
      },
      "execution_count": 829,
      "outputs": [
        {
          "output_type": "stream",
          "name": "stdout",
          "text": [
            ".             12\n",
            "Ġcompiler      5\n",
            "Ġprograms      3\n",
            "Ġprogram       2\n",
            "Ġlanguages     2\n",
            "Ġcode          2\n",
            "Ġmachine       1\n",
            "Ġlanguage      1\n",
            "Ġsoftware      1\n",
            "Name: token, dtype: int64\n"
          ]
        }
      ]
    }
  ],
  "metadata": {
    "file_extension": ".py",
    "kernelspec": {
      "display_name": "Python 3",
      "name": "python3"
    },
    "language_info": {
      "name": "python"
    },
    "mimetype": "text/x-python",
    "name": "python",
    "npconvert_exporter": "python",
    "pygments_lexer": "ipython3",
    "version": 3,
    "colab": {
      "name": "Attention_attribution_cosine_sim.ipynb",
      "provenance": [],
      "collapsed_sections": [],
      "machine_shape": "hm",
      "include_colab_link": true
    },
    "accelerator": "GPU",
    "widgets": {
      "application/vnd.jupyter.widget-state+json": {
        "0966e7f95cb34762b3ac81e97389b784": {
          "model_module": "@jupyter-widgets/controls",
          "model_name": "HBoxModel",
          "model_module_version": "1.5.0",
          "state": {
            "_dom_classes": [],
            "_model_module": "@jupyter-widgets/controls",
            "_model_module_version": "1.5.0",
            "_model_name": "HBoxModel",
            "_view_count": null,
            "_view_module": "@jupyter-widgets/controls",
            "_view_module_version": "1.5.0",
            "_view_name": "HBoxView",
            "box_style": "",
            "children": [
              "IPY_MODEL_de5cbef4d77a435781567241fb0c4e38",
              "IPY_MODEL_e9b750ae6a7f4e1b86c324eb973d0dc7",
              "IPY_MODEL_f817de62cd434a98a25fe83c15b209c8"
            ],
            "layout": "IPY_MODEL_ab3f6334df3f4e89b7e6e479cd3323ee"
          }
        },
        "de5cbef4d77a435781567241fb0c4e38": {
          "model_module": "@jupyter-widgets/controls",
          "model_name": "HTMLModel",
          "model_module_version": "1.5.0",
          "state": {
            "_dom_classes": [],
            "_model_module": "@jupyter-widgets/controls",
            "_model_module_version": "1.5.0",
            "_model_name": "HTMLModel",
            "_view_count": null,
            "_view_module": "@jupyter-widgets/controls",
            "_view_module_version": "1.5.0",
            "_view_name": "HTMLView",
            "description": "",
            "description_tooltip": null,
            "layout": "IPY_MODEL_9207ad0cc09541bf8e9e5f867e61dfd5",
            "placeholder": "​",
            "style": "IPY_MODEL_7a7ed35e872043e390c9caa0e85faf2c",
            "value": "100%"
          }
        },
        "e9b750ae6a7f4e1b86c324eb973d0dc7": {
          "model_module": "@jupyter-widgets/controls",
          "model_name": "FloatProgressModel",
          "model_module_version": "1.5.0",
          "state": {
            "_dom_classes": [],
            "_model_module": "@jupyter-widgets/controls",
            "_model_module_version": "1.5.0",
            "_model_name": "FloatProgressModel",
            "_view_count": null,
            "_view_module": "@jupyter-widgets/controls",
            "_view_module_version": "1.5.0",
            "_view_name": "ProgressView",
            "bar_style": "success",
            "description": "",
            "description_tooltip": null,
            "layout": "IPY_MODEL_8dbbf4b9b7c84b8eb84311c25588cdb6",
            "max": 2,
            "min": 0,
            "orientation": "horizontal",
            "style": "IPY_MODEL_a27affa8c60e476f97c869a4e88fb687",
            "value": 2
          }
        },
        "f817de62cd434a98a25fe83c15b209c8": {
          "model_module": "@jupyter-widgets/controls",
          "model_name": "HTMLModel",
          "model_module_version": "1.5.0",
          "state": {
            "_dom_classes": [],
            "_model_module": "@jupyter-widgets/controls",
            "_model_module_version": "1.5.0",
            "_model_name": "HTMLModel",
            "_view_count": null,
            "_view_module": "@jupyter-widgets/controls",
            "_view_module_version": "1.5.0",
            "_view_name": "HTMLView",
            "description": "",
            "description_tooltip": null,
            "layout": "IPY_MODEL_de96b22b81ff4725b21fff44c6aeebbd",
            "placeholder": "​",
            "style": "IPY_MODEL_5f77e03e8c38476cb61ccc61969475d2",
            "value": " 2/2 [00:00&lt;00:00,  7.88it/s]"
          }
        },
        "ab3f6334df3f4e89b7e6e479cd3323ee": {
          "model_module": "@jupyter-widgets/base",
          "model_name": "LayoutModel",
          "model_module_version": "1.2.0",
          "state": {
            "_model_module": "@jupyter-widgets/base",
            "_model_module_version": "1.2.0",
            "_model_name": "LayoutModel",
            "_view_count": null,
            "_view_module": "@jupyter-widgets/base",
            "_view_module_version": "1.2.0",
            "_view_name": "LayoutView",
            "align_content": null,
            "align_items": null,
            "align_self": null,
            "border": null,
            "bottom": null,
            "display": null,
            "flex": null,
            "flex_flow": null,
            "grid_area": null,
            "grid_auto_columns": null,
            "grid_auto_flow": null,
            "grid_auto_rows": null,
            "grid_column": null,
            "grid_gap": null,
            "grid_row": null,
            "grid_template_areas": null,
            "grid_template_columns": null,
            "grid_template_rows": null,
            "height": null,
            "justify_content": null,
            "justify_items": null,
            "left": null,
            "margin": null,
            "max_height": null,
            "max_width": null,
            "min_height": null,
            "min_width": null,
            "object_fit": null,
            "object_position": null,
            "order": null,
            "overflow": null,
            "overflow_x": null,
            "overflow_y": null,
            "padding": null,
            "right": null,
            "top": null,
            "visibility": null,
            "width": null
          }
        },
        "9207ad0cc09541bf8e9e5f867e61dfd5": {
          "model_module": "@jupyter-widgets/base",
          "model_name": "LayoutModel",
          "model_module_version": "1.2.0",
          "state": {
            "_model_module": "@jupyter-widgets/base",
            "_model_module_version": "1.2.0",
            "_model_name": "LayoutModel",
            "_view_count": null,
            "_view_module": "@jupyter-widgets/base",
            "_view_module_version": "1.2.0",
            "_view_name": "LayoutView",
            "align_content": null,
            "align_items": null,
            "align_self": null,
            "border": null,
            "bottom": null,
            "display": null,
            "flex": null,
            "flex_flow": null,
            "grid_area": null,
            "grid_auto_columns": null,
            "grid_auto_flow": null,
            "grid_auto_rows": null,
            "grid_column": null,
            "grid_gap": null,
            "grid_row": null,
            "grid_template_areas": null,
            "grid_template_columns": null,
            "grid_template_rows": null,
            "height": null,
            "justify_content": null,
            "justify_items": null,
            "left": null,
            "margin": null,
            "max_height": null,
            "max_width": null,
            "min_height": null,
            "min_width": null,
            "object_fit": null,
            "object_position": null,
            "order": null,
            "overflow": null,
            "overflow_x": null,
            "overflow_y": null,
            "padding": null,
            "right": null,
            "top": null,
            "visibility": null,
            "width": null
          }
        },
        "7a7ed35e872043e390c9caa0e85faf2c": {
          "model_module": "@jupyter-widgets/controls",
          "model_name": "DescriptionStyleModel",
          "model_module_version": "1.5.0",
          "state": {
            "_model_module": "@jupyter-widgets/controls",
            "_model_module_version": "1.5.0",
            "_model_name": "DescriptionStyleModel",
            "_view_count": null,
            "_view_module": "@jupyter-widgets/base",
            "_view_module_version": "1.2.0",
            "_view_name": "StyleView",
            "description_width": ""
          }
        },
        "8dbbf4b9b7c84b8eb84311c25588cdb6": {
          "model_module": "@jupyter-widgets/base",
          "model_name": "LayoutModel",
          "model_module_version": "1.2.0",
          "state": {
            "_model_module": "@jupyter-widgets/base",
            "_model_module_version": "1.2.0",
            "_model_name": "LayoutModel",
            "_view_count": null,
            "_view_module": "@jupyter-widgets/base",
            "_view_module_version": "1.2.0",
            "_view_name": "LayoutView",
            "align_content": null,
            "align_items": null,
            "align_self": null,
            "border": null,
            "bottom": null,
            "display": null,
            "flex": null,
            "flex_flow": null,
            "grid_area": null,
            "grid_auto_columns": null,
            "grid_auto_flow": null,
            "grid_auto_rows": null,
            "grid_column": null,
            "grid_gap": null,
            "grid_row": null,
            "grid_template_areas": null,
            "grid_template_columns": null,
            "grid_template_rows": null,
            "height": null,
            "justify_content": null,
            "justify_items": null,
            "left": null,
            "margin": null,
            "max_height": null,
            "max_width": null,
            "min_height": null,
            "min_width": null,
            "object_fit": null,
            "object_position": null,
            "order": null,
            "overflow": null,
            "overflow_x": null,
            "overflow_y": null,
            "padding": null,
            "right": null,
            "top": null,
            "visibility": null,
            "width": null
          }
        },
        "a27affa8c60e476f97c869a4e88fb687": {
          "model_module": "@jupyter-widgets/controls",
          "model_name": "ProgressStyleModel",
          "model_module_version": "1.5.0",
          "state": {
            "_model_module": "@jupyter-widgets/controls",
            "_model_module_version": "1.5.0",
            "_model_name": "ProgressStyleModel",
            "_view_count": null,
            "_view_module": "@jupyter-widgets/base",
            "_view_module_version": "1.2.0",
            "_view_name": "StyleView",
            "bar_color": null,
            "description_width": ""
          }
        },
        "de96b22b81ff4725b21fff44c6aeebbd": {
          "model_module": "@jupyter-widgets/base",
          "model_name": "LayoutModel",
          "model_module_version": "1.2.0",
          "state": {
            "_model_module": "@jupyter-widgets/base",
            "_model_module_version": "1.2.0",
            "_model_name": "LayoutModel",
            "_view_count": null,
            "_view_module": "@jupyter-widgets/base",
            "_view_module_version": "1.2.0",
            "_view_name": "LayoutView",
            "align_content": null,
            "align_items": null,
            "align_self": null,
            "border": null,
            "bottom": null,
            "display": null,
            "flex": null,
            "flex_flow": null,
            "grid_area": null,
            "grid_auto_columns": null,
            "grid_auto_flow": null,
            "grid_auto_rows": null,
            "grid_column": null,
            "grid_gap": null,
            "grid_row": null,
            "grid_template_areas": null,
            "grid_template_columns": null,
            "grid_template_rows": null,
            "height": null,
            "justify_content": null,
            "justify_items": null,
            "left": null,
            "margin": null,
            "max_height": null,
            "max_width": null,
            "min_height": null,
            "min_width": null,
            "object_fit": null,
            "object_position": null,
            "order": null,
            "overflow": null,
            "overflow_x": null,
            "overflow_y": null,
            "padding": null,
            "right": null,
            "top": null,
            "visibility": null,
            "width": null
          }
        },
        "5f77e03e8c38476cb61ccc61969475d2": {
          "model_module": "@jupyter-widgets/controls",
          "model_name": "DescriptionStyleModel",
          "model_module_version": "1.5.0",
          "state": {
            "_model_module": "@jupyter-widgets/controls",
            "_model_module_version": "1.5.0",
            "_model_name": "DescriptionStyleModel",
            "_view_count": null,
            "_view_module": "@jupyter-widgets/base",
            "_view_module_version": "1.2.0",
            "_view_name": "StyleView",
            "description_width": ""
          }
        }
      }
    }
  },
  "nbformat": 4,
  "nbformat_minor": 0
}