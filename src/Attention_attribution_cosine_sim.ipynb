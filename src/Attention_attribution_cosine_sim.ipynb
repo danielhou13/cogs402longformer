{
  "cells": [
    {
      "cell_type": "markdown",
      "metadata": {
        "id": "view-in-github",
        "colab_type": "text"
      },
      "source": [
        "<a href=\"https://colab.research.google.com/github/danielhou13/cogs402longformer/blob/main/src/Attention_attribution_cosine_sim.ipynb\" target=\"_parent\"><img src=\"https://colab.research.google.com/assets/colab-badge.svg\" alt=\"Open In Colab\"/></a>"
      ]
    },
    {
      "cell_type": "markdown",
      "source": [
        "This notebook explores the relation between the model's attributions and attentions for a given example. Historically, we found that attentions are not a feasible method of explanation whereas attributions are, but attributions are also not part of a model's traditional outputs. Therefore it may be interesting to see if we can find anything with attentions by comparing them to a feasible and plausible method of explanation, attributions. Furthermore, we apply masking to various scenarios to examine the affects on the similarities between attribution and attention. \n",
        "\n",
        "This notebook creates and exports a few dictionaries and dataframes. Namely, the dictionary produced is the attributions so we do not have to recompute the attributions, as that takes a while. The Dataframes exported is a summary of results for every example that has been explored so far."
      ],
      "metadata": {
        "id": "mlqrlFd9SzDV"
      }
    },
    {
      "cell_type": "code",
      "source": [
        "from google.colab import drive\n",
        "drive.mount('/content/drive')"
      ],
      "metadata": {
        "colab": {
          "base_uri": "https://localhost:8080/"
        },
        "id": "4G07aiA37RC9",
        "outputId": "ffa8744f-72d9-4dec-c315-dcfb3a6ba814"
      },
      "execution_count": null,
      "outputs": [
        {
          "output_type": "stream",
          "name": "stdout",
          "text": [
            "Mounted at /content/drive\n"
          ]
        }
      ]
    },
    {
      "cell_type": "markdown",
      "source": [
        "## Import dependencies"
      ],
      "metadata": {
        "id": "HkZ5bD2_z-0C"
      }
    },
    {
      "cell_type": "code",
      "source": [
        "pip install transformers --quiet"
      ],
      "metadata": {
        "id": "zMjzQIFJ2P_T",
        "colab": {
          "base_uri": "https://localhost:8080/"
        },
        "outputId": "8864c055-aa98-429b-c937-8269c12ebade"
      },
      "execution_count": null,
      "outputs": [
        {
          "output_type": "stream",
          "name": "stdout",
          "text": [
            "\u001b[K     |████████████████████████████████| 4.7 MB 8.0 MB/s \n",
            "\u001b[K     |████████████████████████████████| 101 kB 12.7 MB/s \n",
            "\u001b[K     |████████████████████████████████| 596 kB 85.1 MB/s \n",
            "\u001b[K     |████████████████████████████████| 6.6 MB 65.7 MB/s \n",
            "\u001b[?25h"
          ]
        }
      ]
    },
    {
      "cell_type": "code",
      "source": [
        "pip install captum --quiet"
      ],
      "metadata": {
        "id": "Uno0qwr12UTd",
        "colab": {
          "base_uri": "https://localhost:8080/"
        },
        "outputId": "13b18f8f-34fa-401e-c10c-27e968d32fed"
      },
      "execution_count": null,
      "outputs": [
        {
          "output_type": "stream",
          "name": "stdout",
          "text": [
            "\u001b[?25l\r\u001b[K     |▎                               | 10 kB 29.9 MB/s eta 0:00:01\r\u001b[K     |▌                               | 20 kB 38.5 MB/s eta 0:00:01\r\u001b[K     |▊                               | 30 kB 22.2 MB/s eta 0:00:01\r\u001b[K     |█                               | 40 kB 9.3 MB/s eta 0:00:01\r\u001b[K     |█▏                              | 51 kB 8.9 MB/s eta 0:00:01\r\u001b[K     |█▍                              | 61 kB 10.4 MB/s eta 0:00:01\r\u001b[K     |█▋                              | 71 kB 10.7 MB/s eta 0:00:01\r\u001b[K     |█▉                              | 81 kB 10.7 MB/s eta 0:00:01\r\u001b[K     |██                              | 92 kB 11.9 MB/s eta 0:00:01\r\u001b[K     |██▎                             | 102 kB 9.9 MB/s eta 0:00:01\r\u001b[K     |██▌                             | 112 kB 9.9 MB/s eta 0:00:01\r\u001b[K     |██▊                             | 122 kB 9.9 MB/s eta 0:00:01\r\u001b[K     |███                             | 133 kB 9.9 MB/s eta 0:00:01\r\u001b[K     |███▏                            | 143 kB 9.9 MB/s eta 0:00:01\r\u001b[K     |███▌                            | 153 kB 9.9 MB/s eta 0:00:01\r\u001b[K     |███▊                            | 163 kB 9.9 MB/s eta 0:00:01\r\u001b[K     |████                            | 174 kB 9.9 MB/s eta 0:00:01\r\u001b[K     |████▏                           | 184 kB 9.9 MB/s eta 0:00:01\r\u001b[K     |████▍                           | 194 kB 9.9 MB/s eta 0:00:01\r\u001b[K     |████▋                           | 204 kB 9.9 MB/s eta 0:00:01\r\u001b[K     |████▉                           | 215 kB 9.9 MB/s eta 0:00:01\r\u001b[K     |█████                           | 225 kB 9.9 MB/s eta 0:00:01\r\u001b[K     |█████▎                          | 235 kB 9.9 MB/s eta 0:00:01\r\u001b[K     |█████▌                          | 245 kB 9.9 MB/s eta 0:00:01\r\u001b[K     |█████▊                          | 256 kB 9.9 MB/s eta 0:00:01\r\u001b[K     |██████                          | 266 kB 9.9 MB/s eta 0:00:01\r\u001b[K     |██████▏                         | 276 kB 9.9 MB/s eta 0:00:01\r\u001b[K     |██████▍                         | 286 kB 9.9 MB/s eta 0:00:01\r\u001b[K     |██████▋                         | 296 kB 9.9 MB/s eta 0:00:01\r\u001b[K     |███████                         | 307 kB 9.9 MB/s eta 0:00:01\r\u001b[K     |███████▏                        | 317 kB 9.9 MB/s eta 0:00:01\r\u001b[K     |███████▍                        | 327 kB 9.9 MB/s eta 0:00:01\r\u001b[K     |███████▋                        | 337 kB 9.9 MB/s eta 0:00:01\r\u001b[K     |███████▉                        | 348 kB 9.9 MB/s eta 0:00:01\r\u001b[K     |████████                        | 358 kB 9.9 MB/s eta 0:00:01\r\u001b[K     |████████▎                       | 368 kB 9.9 MB/s eta 0:00:01\r\u001b[K     |████████▌                       | 378 kB 9.9 MB/s eta 0:00:01\r\u001b[K     |████████▊                       | 389 kB 9.9 MB/s eta 0:00:01\r\u001b[K     |█████████                       | 399 kB 9.9 MB/s eta 0:00:01\r\u001b[K     |█████████▏                      | 409 kB 9.9 MB/s eta 0:00:01\r\u001b[K     |█████████▍                      | 419 kB 9.9 MB/s eta 0:00:01\r\u001b[K     |█████████▋                      | 430 kB 9.9 MB/s eta 0:00:01\r\u001b[K     |█████████▉                      | 440 kB 9.9 MB/s eta 0:00:01\r\u001b[K     |██████████▏                     | 450 kB 9.9 MB/s eta 0:00:01\r\u001b[K     |██████████▍                     | 460 kB 9.9 MB/s eta 0:00:01\r\u001b[K     |██████████▋                     | 471 kB 9.9 MB/s eta 0:00:01\r\u001b[K     |██████████▉                     | 481 kB 9.9 MB/s eta 0:00:01\r\u001b[K     |███████████                     | 491 kB 9.9 MB/s eta 0:00:01\r\u001b[K     |███████████▎                    | 501 kB 9.9 MB/s eta 0:00:01\r\u001b[K     |███████████▌                    | 512 kB 9.9 MB/s eta 0:00:01\r\u001b[K     |███████████▊                    | 522 kB 9.9 MB/s eta 0:00:01\r\u001b[K     |████████████                    | 532 kB 9.9 MB/s eta 0:00:01\r\u001b[K     |████████████▏                   | 542 kB 9.9 MB/s eta 0:00:01\r\u001b[K     |████████████▍                   | 552 kB 9.9 MB/s eta 0:00:01\r\u001b[K     |████████████▋                   | 563 kB 9.9 MB/s eta 0:00:01\r\u001b[K     |████████████▉                   | 573 kB 9.9 MB/s eta 0:00:01\r\u001b[K     |█████████████                   | 583 kB 9.9 MB/s eta 0:00:01\r\u001b[K     |█████████████▎                  | 593 kB 9.9 MB/s eta 0:00:01\r\u001b[K     |█████████████▋                  | 604 kB 9.9 MB/s eta 0:00:01\r\u001b[K     |█████████████▉                  | 614 kB 9.9 MB/s eta 0:00:01\r\u001b[K     |██████████████                  | 624 kB 9.9 MB/s eta 0:00:01\r\u001b[K     |██████████████▎                 | 634 kB 9.9 MB/s eta 0:00:01\r\u001b[K     |██████████████▌                 | 645 kB 9.9 MB/s eta 0:00:01\r\u001b[K     |██████████████▊                 | 655 kB 9.9 MB/s eta 0:00:01\r\u001b[K     |███████████████                 | 665 kB 9.9 MB/s eta 0:00:01\r\u001b[K     |███████████████▏                | 675 kB 9.9 MB/s eta 0:00:01\r\u001b[K     |███████████████▍                | 686 kB 9.9 MB/s eta 0:00:01\r\u001b[K     |███████████████▋                | 696 kB 9.9 MB/s eta 0:00:01\r\u001b[K     |███████████████▉                | 706 kB 9.9 MB/s eta 0:00:01\r\u001b[K     |████████████████                | 716 kB 9.9 MB/s eta 0:00:01\r\u001b[K     |████████████████▎               | 727 kB 9.9 MB/s eta 0:00:01\r\u001b[K     |████████████████▌               | 737 kB 9.9 MB/s eta 0:00:01\r\u001b[K     |████████████████▊               | 747 kB 9.9 MB/s eta 0:00:01\r\u001b[K     |█████████████████               | 757 kB 9.9 MB/s eta 0:00:01\r\u001b[K     |█████████████████▎              | 768 kB 9.9 MB/s eta 0:00:01\r\u001b[K     |█████████████████▌              | 778 kB 9.9 MB/s eta 0:00:01\r\u001b[K     |█████████████████▊              | 788 kB 9.9 MB/s eta 0:00:01\r\u001b[K     |██████████████████              | 798 kB 9.9 MB/s eta 0:00:01\r\u001b[K     |██████████████████▏             | 808 kB 9.9 MB/s eta 0:00:01\r\u001b[K     |██████████████████▍             | 819 kB 9.9 MB/s eta 0:00:01\r\u001b[K     |██████████████████▋             | 829 kB 9.9 MB/s eta 0:00:01\r\u001b[K     |██████████████████▉             | 839 kB 9.9 MB/s eta 0:00:01\r\u001b[K     |███████████████████             | 849 kB 9.9 MB/s eta 0:00:01\r\u001b[K     |███████████████████▎            | 860 kB 9.9 MB/s eta 0:00:01\r\u001b[K     |███████████████████▌            | 870 kB 9.9 MB/s eta 0:00:01\r\u001b[K     |███████████████████▊            | 880 kB 9.9 MB/s eta 0:00:01\r\u001b[K     |████████████████████            | 890 kB 9.9 MB/s eta 0:00:01\r\u001b[K     |████████████████████▎           | 901 kB 9.9 MB/s eta 0:00:01\r\u001b[K     |████████████████████▌           | 911 kB 9.9 MB/s eta 0:00:01\r\u001b[K     |████████████████████▊           | 921 kB 9.9 MB/s eta 0:00:01\r\u001b[K     |█████████████████████           | 931 kB 9.9 MB/s eta 0:00:01\r\u001b[K     |█████████████████████▏          | 942 kB 9.9 MB/s eta 0:00:01\r\u001b[K     |█████████████████████▍          | 952 kB 9.9 MB/s eta 0:00:01\r\u001b[K     |█████████████████████▋          | 962 kB 9.9 MB/s eta 0:00:01\r\u001b[K     |█████████████████████▉          | 972 kB 9.9 MB/s eta 0:00:01\r\u001b[K     |██████████████████████          | 983 kB 9.9 MB/s eta 0:00:01\r\u001b[K     |██████████████████████▎         | 993 kB 9.9 MB/s eta 0:00:01\r\u001b[K     |██████████████████████▌         | 1.0 MB 9.9 MB/s eta 0:00:01\r\u001b[K     |██████████████████████▊         | 1.0 MB 9.9 MB/s eta 0:00:01\r\u001b[K     |███████████████████████         | 1.0 MB 9.9 MB/s eta 0:00:01\r\u001b[K     |███████████████████████▏        | 1.0 MB 9.9 MB/s eta 0:00:01\r\u001b[K     |███████████████████████▍        | 1.0 MB 9.9 MB/s eta 0:00:01\r\u001b[K     |███████████████████████▊        | 1.1 MB 9.9 MB/s eta 0:00:01\r\u001b[K     |████████████████████████        | 1.1 MB 9.9 MB/s eta 0:00:01\r\u001b[K     |████████████████████████▏       | 1.1 MB 9.9 MB/s eta 0:00:01\r\u001b[K     |████████████████████████▍       | 1.1 MB 9.9 MB/s eta 0:00:01\r\u001b[K     |████████████████████████▋       | 1.1 MB 9.9 MB/s eta 0:00:01\r\u001b[K     |████████████████████████▉       | 1.1 MB 9.9 MB/s eta 0:00:01\r\u001b[K     |█████████████████████████       | 1.1 MB 9.9 MB/s eta 0:00:01\r\u001b[K     |█████████████████████████▎      | 1.1 MB 9.9 MB/s eta 0:00:01\r\u001b[K     |█████████████████████████▌      | 1.1 MB 9.9 MB/s eta 0:00:01\r\u001b[K     |█████████████████████████▊      | 1.1 MB 9.9 MB/s eta 0:00:01\r\u001b[K     |██████████████████████████      | 1.2 MB 9.9 MB/s eta 0:00:01\r\u001b[K     |██████████████████████████▏     | 1.2 MB 9.9 MB/s eta 0:00:01\r\u001b[K     |██████████████████████████▍     | 1.2 MB 9.9 MB/s eta 0:00:01\r\u001b[K     |██████████████████████████▋     | 1.2 MB 9.9 MB/s eta 0:00:01\r\u001b[K     |███████████████████████████     | 1.2 MB 9.9 MB/s eta 0:00:01\r\u001b[K     |███████████████████████████▏    | 1.2 MB 9.9 MB/s eta 0:00:01\r\u001b[K     |███████████████████████████▍    | 1.2 MB 9.9 MB/s eta 0:00:01\r\u001b[K     |███████████████████████████▋    | 1.2 MB 9.9 MB/s eta 0:00:01\r\u001b[K     |███████████████████████████▉    | 1.2 MB 9.9 MB/s eta 0:00:01\r\u001b[K     |████████████████████████████    | 1.2 MB 9.9 MB/s eta 0:00:01\r\u001b[K     |████████████████████████████▎   | 1.3 MB 9.9 MB/s eta 0:00:01\r\u001b[K     |████████████████████████████▌   | 1.3 MB 9.9 MB/s eta 0:00:01\r\u001b[K     |████████████████████████████▊   | 1.3 MB 9.9 MB/s eta 0:00:01\r\u001b[K     |█████████████████████████████   | 1.3 MB 9.9 MB/s eta 0:00:01\r\u001b[K     |█████████████████████████████▏  | 1.3 MB 9.9 MB/s eta 0:00:01\r\u001b[K     |█████████████████████████████▍  | 1.3 MB 9.9 MB/s eta 0:00:01\r\u001b[K     |█████████████████████████████▋  | 1.3 MB 9.9 MB/s eta 0:00:01\r\u001b[K     |█████████████████████████████▉  | 1.3 MB 9.9 MB/s eta 0:00:01\r\u001b[K     |██████████████████████████████  | 1.3 MB 9.9 MB/s eta 0:00:01\r\u001b[K     |██████████████████████████████▍ | 1.4 MB 9.9 MB/s eta 0:00:01\r\u001b[K     |██████████████████████████████▋ | 1.4 MB 9.9 MB/s eta 0:00:01\r\u001b[K     |██████████████████████████████▉ | 1.4 MB 9.9 MB/s eta 0:00:01\r\u001b[K     |███████████████████████████████ | 1.4 MB 9.9 MB/s eta 0:00:01\r\u001b[K     |███████████████████████████████▎| 1.4 MB 9.9 MB/s eta 0:00:01\r\u001b[K     |███████████████████████████████▌| 1.4 MB 9.9 MB/s eta 0:00:01\r\u001b[K     |███████████████████████████████▊| 1.4 MB 9.9 MB/s eta 0:00:01\r\u001b[K     |████████████████████████████████| 1.4 MB 9.9 MB/s eta 0:00:01\r\u001b[K     |████████████████████████████████| 1.4 MB 9.9 MB/s \n",
            "\u001b[?25h"
          ]
        }
      ]
    },
    {
      "cell_type": "code",
      "source": [
        "pip install datasets --quiet"
      ],
      "metadata": {
        "id": "OaOSPMJE3ONc",
        "colab": {
          "base_uri": "https://localhost:8080/"
        },
        "outputId": "3b764c17-cc9f-488a-dd50-da044fffb7f8"
      },
      "execution_count": null,
      "outputs": [
        {
          "output_type": "stream",
          "name": "stdout",
          "text": [
            "\u001b[K     |████████████████████████████████| 365 kB 9.9 MB/s \n",
            "\u001b[K     |████████████████████████████████| 115 kB 66.8 MB/s \n",
            "\u001b[K     |████████████████████████████████| 141 kB 78.5 MB/s \n",
            "\u001b[K     |████████████████████████████████| 212 kB 93.0 MB/s \n",
            "\u001b[K     |████████████████████████████████| 127 kB 86.9 MB/s \n",
            "\u001b[?25h"
          ]
        }
      ]
    },
    {
      "cell_type": "code",
      "source": [
        "pip install rbo --quiet"
      ],
      "metadata": {
        "id": "3JSZGAnsEjYU"
      },
      "execution_count": null,
      "outputs": []
    },
    {
      "cell_type": "code",
      "source": [
        "pip install nltk --quiet"
      ],
      "metadata": {
        "id": "ubuOL6pqaxcJ"
      },
      "execution_count": null,
      "outputs": []
    },
    {
      "cell_type": "code",
      "source": [
        "import os\n",
        "os.environ['CUDA_LAUNCH_BLOCKING'] = \"1\""
      ],
      "metadata": {
        "id": "hRSNYTrRIPkr"
      },
      "execution_count": null,
      "outputs": []
    },
    {
      "cell_type": "code",
      "execution_count": null,
      "metadata": {
        "id": "wrRRZJ6-0_Il"
      },
      "outputs": [],
      "source": [
        "from captum.attr import visualization as viz\n",
        "from captum.attr import IntegratedGradients, LayerConductance, LayerIntegratedGradients\n",
        "from captum.attr import configure_interpretable_embedding_layer, remove_interpretable_embedding_layer\n",
        "\n",
        "import torch\n",
        "import pandas as pd"
      ]
    },
    {
      "cell_type": "code",
      "execution_count": null,
      "metadata": {
        "id": "b5V31lsc0_Il"
      },
      "outputs": [],
      "source": [
        "device = torch.device(\"cuda:0\" if torch.cuda.is_available() else \"cpu\")"
      ]
    },
    {
      "cell_type": "markdown",
      "source": [
        "## Import model"
      ],
      "metadata": {
        "id": "USHRv2j70Fb4"
      }
    },
    {
      "cell_type": "markdown",
      "source": [
        "Replace model_path and tokenizer with the one for your own project"
      ],
      "metadata": {
        "id": "m8cSeJ2LiYVO"
      }
    },
    {
      "cell_type": "code",
      "execution_count": null,
      "metadata": {
        "id": "9nzBfB-v0_Im",
        "colab": {
          "base_uri": "https://localhost:8080/",
          "height": 229,
          "referenced_widgets": [
            "7fe165f75a08450baa49711efcd633a4",
            "661864d266754822b00c3129f05c97dd",
            "e8168ef9bad34c4780ad03004eefa951",
            "7c517bc996964746a40b3ce2d5091759",
            "bba188b7d6914cdea094c8c687576a1e",
            "2d2dd6e9b46f4bee897992ede785954c",
            "8e825b00f39b468bb11e11a94207c175",
            "8eb6c6932d9547e3abf013530f055cbd",
            "efcd93b51908464896573c33f6f0560c",
            "8aefe706e12b425fbebd5138953aadad",
            "5d388611dd8b46fcbc09c10b2b14a0fb",
            "fc3aa8d0839a4f0da48d4ae858edfc71",
            "63e21f970e624ad090a0eeb70d499400",
            "03be4a9c22cc4283ae18d2b39fdc0769",
            "51e3dd278868406ca707a8349735594c",
            "dbc75fa547b64a2cab5f03a214799e0c",
            "03ad9972f2654afab3fdf2fc4dae440d",
            "1f563a21069f4a31ab8988f7619fc7e0",
            "85ac49f43a1b4387ad942ae324456960",
            "0f0aa7bd4412460c9fa67bdd03b3dbfe",
            "d60049ddd7974af3b0f402052d79681d",
            "5f3b9fda3eff41e0ac541777ffa836ea",
            "77840dd6ad9d4a928b0b36fc526cccb2",
            "052ca842b8fe4624afd41ff8714f1df5",
            "55f79a3351ae446e9e9acdd121e4ee78",
            "dde885cc817c46f1b7388d3343ba4dde",
            "6e26485d056748f3b68b0a702743a5b8",
            "6a29ea1e43af4836ac007adef8e396a5",
            "4a9a3782dce64f5e9554eb111889c00e",
            "5dd7a1a50b894e239d1d7ec59262f4b6",
            "f242158345004f3980f6250b594637dd",
            "18d51cdb2834477f9d7e82bd4b12d219",
            "df60b3ff24f84db7b4385a40cfa44641",
            "99313c8cceaa49908d39223c964ce908",
            "ef79ade5b58141f3885caab1117256f3",
            "29c472d933994dfd81e79149a623eebe",
            "82e1cd7a885a4e609c2655e747fd8084",
            "cc887a41219b4fa28ac76625dee6bc2e",
            "c7d0458228264491a4abece42892b4fb",
            "191dd8c064b34be586bac9ba83ac1754",
            "7a9482713d5a44e680befc71e61b88c6",
            "0beb5457188e479ba3e656d9db38f99e",
            "188c294037f84f52a56ec077a8cd0f7c",
            "9f184ffa480e4a80bc3e6075bcc17ea2",
            "22c7157b6819462eb9d94430263fed8b",
            "3c92869c76404fc5b7fcf3b765e7b6c4",
            "a43457eedfd84a3585e7dc8a647d05f8",
            "8e7317a57a334cda843f95622db48856",
            "9872209f2fe44f6d8ab7e117567d9392",
            "f332a8e96913426c9e2881f0aea2b138",
            "78e0623e7b464e76aa1abaf5ddb8db71",
            "ecae210ab3d34453a3e781e113a4cb7a",
            "fad70f9a262a413b8cbe9405bfbed108",
            "75dba2e6252c4f098b224e535006c5a3",
            "e19ef0167942437f810f16a2886bf136"
          ]
        },
        "outputId": "6e53bd51-90a3-4971-c1d4-5aace3c93d61"
      },
      "outputs": [
        {
          "output_type": "display_data",
          "data": {
            "text/plain": [
              "Downloading config.json:   0%|          | 0.00/0.99k [00:00<?, ?B/s]"
            ],
            "application/vnd.jupyter.widget-view+json": {
              "version_major": 2,
              "version_minor": 0,
              "model_id": "7fe165f75a08450baa49711efcd633a4"
            }
          },
          "metadata": {}
        },
        {
          "output_type": "display_data",
          "data": {
            "text/plain": [
              "Downloading pytorch_model.bin:   0%|          | 0.00/567M [00:00<?, ?B/s]"
            ],
            "application/vnd.jupyter.widget-view+json": {
              "version_major": 2,
              "version_minor": 0,
              "model_id": "fc3aa8d0839a4f0da48d4ae858edfc71"
            }
          },
          "metadata": {}
        },
        {
          "output_type": "stream",
          "name": "stderr",
          "text": [
            "Some weights of the model checkpoint at danielhou13/longformer-finetuned_papers_v2 were not used when initializing LongformerForSequenceClassification: ['longformer.embeddings.position_ids']\n",
            "- This IS expected if you are initializing LongformerForSequenceClassification from the checkpoint of a model trained on another task or with another architecture (e.g. initializing a BertForSequenceClassification model from a BertForPreTraining model).\n",
            "- This IS NOT expected if you are initializing LongformerForSequenceClassification from the checkpoint of a model that you expect to be exactly identical (initializing a BertForSequenceClassification model from a BertForSequenceClassification model).\n"
          ]
        },
        {
          "output_type": "display_data",
          "data": {
            "text/plain": [
              "Downloading vocab.json:   0%|          | 0.00/878k [00:00<?, ?B/s]"
            ],
            "application/vnd.jupyter.widget-view+json": {
              "version_major": 2,
              "version_minor": 0,
              "model_id": "77840dd6ad9d4a928b0b36fc526cccb2"
            }
          },
          "metadata": {}
        },
        {
          "output_type": "display_data",
          "data": {
            "text/plain": [
              "Downloading merges.txt:   0%|          | 0.00/446k [00:00<?, ?B/s]"
            ],
            "application/vnd.jupyter.widget-view+json": {
              "version_major": 2,
              "version_minor": 0,
              "model_id": "99313c8cceaa49908d39223c964ce908"
            }
          },
          "metadata": {}
        },
        {
          "output_type": "display_data",
          "data": {
            "text/plain": [
              "Downloading config.json:   0%|          | 0.00/694 [00:00<?, ?B/s]"
            ],
            "application/vnd.jupyter.widget-view+json": {
              "version_major": 2,
              "version_minor": 0,
              "model_id": "22c7157b6819462eb9d94430263fed8b"
            }
          },
          "metadata": {}
        }
      ],
      "source": [
        "from transformers import LongformerForSequenceClassification, LongformerTokenizer, LongformerConfig\n",
        "\n",
        "model_path = 'danielhou13/longformer-finetuned_papers_v2'\n",
        "#model_path = 'danielhou13/longformer-finetuned-new-cogs402'\n",
        "\n",
        "# load model\n",
        "model = LongformerForSequenceClassification.from_pretrained(model_path, num_labels = 2)\n",
        "model.to(device)\n",
        "model.eval()\n",
        "model.zero_grad()\n",
        "\n",
        "# load tokenizer\n",
        "tokenizer = LongformerTokenizer.from_pretrained(\"allenai/longformer-base-4096\")"
      ]
    },
    {
      "cell_type": "code",
      "execution_count": null,
      "metadata": {
        "id": "vAAjmDRl0_In"
      },
      "outputs": [],
      "source": [
        "ref_token_id = tokenizer.pad_token_id # A token used for generating token reference\n",
        "sep_token_id = tokenizer.sep_token_id # A token used as a separator between question and text and it is also added to the end of the text.\n",
        "cls_token_id = tokenizer.cls_token_id # A token used for prepending to the concatenated question-text word sequence"
      ]
    },
    {
      "cell_type": "markdown",
      "source": [
        "##Import Dataset"
      ],
      "metadata": {
        "id": "BdY6GsO00RG_"
      }
    },
    {
      "cell_type": "markdown",
      "source": [
        "Here we import the papers dataset"
      ],
      "metadata": {
        "id": "e_gGIPpwkmbH"
      }
    },
    {
      "cell_type": "code",
      "execution_count": null,
      "metadata": {
        "id": "w6aQM9nM0_Ip",
        "colab": {
          "base_uri": "https://localhost:8080/",
          "height": 261,
          "referenced_widgets": [
            "630fc3be61284c3191740a1cc1f65175",
            "041d3baf7ec94a73ac4db225545af6ec",
            "26542112ce79404b94b9b844b59f2925",
            "2165e4c27793456c9320701460c7b8d3",
            "67b0deb2b24d4b9eb2957a859bfa1b85",
            "1ef78f7bbfc54f7ca87c27612389258b",
            "b6a4a635be8a4d43a36715f59649de70",
            "939414704842449ca695ff2ab78df167",
            "b151c7810c2e4001b5fd49895215a0f1",
            "b216774b362c4286a149f3783517fbd5",
            "cfb163948db6471f9df355d76940b502",
            "056eab4581bd4a08ae8068fa9cea98d4",
            "9b99cc143da745089ffd55ff4284dfe7",
            "a5758a0fd76d47e08f17cd64237ee4f3",
            "8debbd1b1b53404bae5ea2164628ffec",
            "76579e8203a54a11b6cecfe733519a21",
            "28456bea3aba4092929ea596a75dbadc",
            "d88bb3b5a69b4924aaf7f6355a5996e0",
            "9c47fbed18c74f85b512c398dc2e5238",
            "fde442bd75644356971d4930e7c0c852",
            "4f42008c64fc4da682f09081ffd5b4e1",
            "f16a186dfc634745a4bc735634b6bb34",
            "f08273470bc943919ef61c1857ee292b",
            "42d702b972154c888e44fd994f6e9fab",
            "8cf1dea4aa33466caf511d8e803dac08",
            "5e58e11a6dd54049b6f31aa9abe810e5",
            "674ca58b1b5e4e8197ba63b09d713bab",
            "3b454235ad28421e88611f638860075b",
            "6f3ed11ddba34734a6f8d53f92aa6787",
            "dfa9787354564764ad549af34adfc8bc",
            "2c67ad0eda294640894a0ee38d8f239e",
            "ec6c76650aaf4879a5dee84560c4dce9",
            "708d584420f946ffa5ce6f335fc2f542",
            "be7be3d7242546ec9bf1fb06a0d45a4c",
            "83920a594bf143239d027b07319ff91e",
            "2b22ba983bf14390b2e42fb117a1a9cc",
            "b91fe337d0db4ea98667648b6cbe42c0",
            "a48835330ab240a7a9f028cf0ba805ed",
            "37727097a5bd459788b768ff192d4356",
            "609391ff40024fa2b315725eaa1fce65",
            "f0ad5d21801441068ed2b4a028f81d80",
            "2e151dee67974d42b955a9205ebe4ffb",
            "eac702a75c05409f9ec8a2520ebe169c",
            "dcf1ef2238ec481dafdec95dc43835b2",
            "621640a88903401d892d20815ac2bab0",
            "c272ccde3b4e4b15a81e86d6dcf948f0",
            "3bb15d90559d41d19f7e30a608c1cf82",
            "44f38c74a478422fa4e8ce620543d195",
            "bcbc52f0999b414d95565fe5a147de13",
            "e49be02e03d64215a04ddf94efc157f3",
            "6ba0173aa84a4880a435f813667b52bb",
            "fbcaa33d2d7042a0862792ce72bb3323",
            "be9588311a4743d2987f04a9d947a4e7",
            "ea2649e7d6a94adebbc100d87b75b03d",
            "dddbe86d6c404ee498894e4a05c3a6b9",
            "3f098efaeb2b43ff9184346cf24cb52b",
            "3f607a42fc314220869f7cbe3694f992",
            "6f37b4b21fbb4ea6a5cafe0066e624da",
            "1ca3f6d689dd4bc4940611f637206feb",
            "c125d6b4e1284665bb902f98ee979981",
            "b0a29c22f87e4cb4ba1d9d070d91c6f7",
            "f9046deb46824288b7cd31f2a38397ff",
            "1b895d7788ce4446989ed5c37a3f48ff",
            "00c2a8fe86314c1e88d9d65e21d1abc8",
            "999e4741199449678911ae029a11b90b",
            "3a6d371078684111916643357e910c62",
            "516a9d8a7e024fdaa3b4256bb1566932",
            "54e6d805a0844e02ab211440c324aadc",
            "2fcd2494078e44f1870f5a8a708622ac",
            "8ff8c85fc3714c3f81f41a55160e9c7b",
            "3c8bde52fb69481caf8c6e0dfa9074fe",
            "0a069b24036144b8ace7715d3ebab9b9",
            "6d85201fbe154297a03b7519b027aa8b",
            "00993fef62be4bc38415563f0ab8d53d",
            "3e07064feefc4f8bb9ecb805f5fce123",
            "5366ccd88a5249ae903e44806f0c9234",
            "c91ae978e6334cc492cbfe0aea3cdf4c",
            "05c3d6bbf0604bd1858580af09462ed3",
            "48a81a210aa742f492181b9a45db5c36",
            "d0211cfec0ff4ca38a8d9d229f72e4f2",
            "3373038f6469402ba9ccf2f578ac6234",
            "c473a29a054f494296519a7761249836",
            "93848ab4cc464568b742cd1332066923",
            "58cbf24dbc3e4f27b3d7e34069d49e41",
            "e733e381bb12415381ba8ccc019d62cb",
            "c48fe5fc4b0c4f38a38d3297751d521f",
            "e1da47d762ea4892b0bc3c01e6581594",
            "83fe07e10db740fba43e26c773506e23"
          ]
        },
        "outputId": "7856e3ae-680f-4e9a-f798-9faad2f0dc10"
      },
      "outputs": [
        {
          "output_type": "display_data",
          "data": {
            "text/plain": [
              "Downloading:   0%|          | 0.00/739 [00:00<?, ?B/s]"
            ],
            "application/vnd.jupyter.widget-view+json": {
              "version_major": 2,
              "version_minor": 0,
              "model_id": "630fc3be61284c3191740a1cc1f65175"
            }
          },
          "metadata": {}
        },
        {
          "output_type": "stream",
          "name": "stderr",
          "text": [
            "Using custom data configuration danielhou13--cogs402dataset-144b958ac1a53abb\n"
          ]
        },
        {
          "output_type": "stream",
          "name": "stdout",
          "text": [
            "Downloading and preparing dataset None/None (download: 157.87 MiB, generated: 311.56 MiB, post-processed: Unknown size, total: 469.43 MiB) to /root/.cache/huggingface/datasets/danielhou13___parquet/danielhou13--cogs402dataset-144b958ac1a53abb/0.0.0/2a3b91fbd88a2c90d1dbbb32b460cf621d31bd5b05b934492fdef7d8d6f236ec...\n"
          ]
        },
        {
          "output_type": "display_data",
          "data": {
            "text/plain": [
              "Downloading data files:   0%|          | 0/2 [00:00<?, ?it/s]"
            ],
            "application/vnd.jupyter.widget-view+json": {
              "version_major": 2,
              "version_minor": 0,
              "model_id": "056eab4581bd4a08ae8068fa9cea98d4"
            }
          },
          "metadata": {}
        },
        {
          "output_type": "display_data",
          "data": {
            "text/plain": [
              "Downloading data:   0%|          | 0.00/33.6M [00:00<?, ?B/s]"
            ],
            "application/vnd.jupyter.widget-view+json": {
              "version_major": 2,
              "version_minor": 0,
              "model_id": "f08273470bc943919ef61c1857ee292b"
            }
          },
          "metadata": {}
        },
        {
          "output_type": "display_data",
          "data": {
            "text/plain": [
              "Downloading data:   0%|          | 0.00/132M [00:00<?, ?B/s]"
            ],
            "application/vnd.jupyter.widget-view+json": {
              "version_major": 2,
              "version_minor": 0,
              "model_id": "be7be3d7242546ec9bf1fb06a0d45a4c"
            }
          },
          "metadata": {}
        },
        {
          "output_type": "display_data",
          "data": {
            "text/plain": [
              "Extracting data files:   0%|          | 0/2 [00:00<?, ?it/s]"
            ],
            "application/vnd.jupyter.widget-view+json": {
              "version_major": 2,
              "version_minor": 0,
              "model_id": "621640a88903401d892d20815ac2bab0"
            }
          },
          "metadata": {}
        },
        {
          "output_type": "display_data",
          "data": {
            "text/plain": [
              "0 tables [00:00, ? tables/s]"
            ],
            "application/vnd.jupyter.widget-view+json": {
              "version_major": 2,
              "version_minor": 0,
              "model_id": "3f098efaeb2b43ff9184346cf24cb52b"
            }
          },
          "metadata": {}
        },
        {
          "output_type": "display_data",
          "data": {
            "text/plain": [
              "0 tables [00:00, ? tables/s]"
            ],
            "application/vnd.jupyter.widget-view+json": {
              "version_major": 2,
              "version_minor": 0,
              "model_id": "516a9d8a7e024fdaa3b4256bb1566932"
            }
          },
          "metadata": {}
        },
        {
          "output_type": "stream",
          "name": "stdout",
          "text": [
            "Dataset parquet downloaded and prepared to /root/.cache/huggingface/datasets/danielhou13___parquet/danielhou13--cogs402dataset-144b958ac1a53abb/0.0.0/2a3b91fbd88a2c90d1dbbb32b460cf621d31bd5b05b934492fdef7d8d6f236ec. Subsequent calls will reuse this data.\n"
          ]
        },
        {
          "output_type": "display_data",
          "data": {
            "text/plain": [
              "  0%|          | 0/2 [00:00<?, ?it/s]"
            ],
            "application/vnd.jupyter.widget-view+json": {
              "version_major": 2,
              "version_minor": 0,
              "model_id": "05c3d6bbf0604bd1858580af09462ed3"
            }
          },
          "metadata": {}
        }
      ],
      "source": [
        "from datasets import load_dataset\n",
        "import numpy as np\n",
        "cogs402_ds = load_dataset(\"danielhou13/cogs402dataset\")[\"test\"]"
      ]
    },
    {
      "cell_type": "markdown",
      "source": [
        "Here we import the news dataset"
      ],
      "metadata": {
        "id": "bHUUw096r-EL"
      }
    },
    {
      "cell_type": "code",
      "source": [
        "# cogs402_ds2 = load_dataset('hyperpartisan_news_detection', 'bypublisher')['validation']\n",
        "# val_size = 5000\n",
        "# val_indices = np.random.randint(0, len(cogs402_ds2), val_size)\n",
        "# val_ds = cogs402_ds2.select(val_indices)\n",
        "# labels2 = map(int, val_ds['hyperpartisan'])\n",
        "# labels2 = list(labels2)\n",
        "# val_ds = val_ds.add_column(\"labels\", labels2)"
      ],
      "metadata": {
        "id": "58zzpZYRWRDj"
      },
      "execution_count": null,
      "outputs": []
    },
    {
      "cell_type": "markdown",
      "source": [
        "## Get Attributions"
      ],
      "metadata": {
        "id": "E6JZ8NnpkWaW"
      }
    },
    {
      "cell_type": "markdown",
      "source": [
        "We need to create a custom forward function for use in our [Integrated Gradients](https://arxiv.org/abs/1703.01365) functions. Specifially the output we want from the forward pass of the model is the softmaxed logits, which indicate the probabilities of predicting each class for the given example."
      ],
      "metadata": {
        "id": "lbDkqLtxkqm7"
      }
    },
    {
      "cell_type": "code",
      "execution_count": null,
      "metadata": {
        "id": "y5-heo2y0_Im"
      },
      "outputs": [],
      "source": [
        "def predict(inputs, position_ids=None, attention_mask=None):\n",
        "    output = model(inputs,\n",
        "                   position_ids=position_ids,\n",
        "                   attention_mask=attention_mask)\n",
        "    return output.logits"
      ]
    },
    {
      "cell_type": "code",
      "execution_count": null,
      "metadata": {
        "id": "axwpHq-y0_Io"
      },
      "outputs": [],
      "source": [
        "#set 1 if we are dealing with a positive class, and 0 if dealing with negative class\n",
        "def custom_forward(inputs, position_ids=None, attention_mask=None):\n",
        "    preds = predict(inputs,\n",
        "                   position_ids=position_ids,\n",
        "                   attention_mask=attention_mask\n",
        "                   )\n",
        "    return torch.softmax(preds, dim = 1)"
      ]
    },
    {
      "cell_type": "markdown",
      "source": [
        "To get the attributions, we perform Integrated Gradients using the model's embeddings and pass in our custom forward function."
      ],
      "metadata": {
        "id": "bQaYaSDf0buh"
      }
    },
    {
      "cell_type": "code",
      "execution_count": null,
      "metadata": {
        "id": "4uDuDrip0_Ip"
      },
      "outputs": [],
      "source": [
        "lig = LayerIntegratedGradients(custom_forward, model.longformer.embeddings)"
      ]
    },
    {
      "cell_type": "markdown",
      "source": [
        "Here we pick out the example we want to compare the attributions and the attentions for. You should either pick this example at random, or if another part of your project has given some interesting results, you can use that example."
      ],
      "metadata": {
        "id": "FDsOdYGhlzOk"
      }
    },
    {
      "cell_type": "code",
      "source": [
        "example = 976\n",
        "text = cogs402_ds['text'][example]\n",
        "label = cogs402_ds['labels'][example]"
      ],
      "metadata": {
        "id": "Cjdh0g6UedZo"
      },
      "execution_count": null,
      "outputs": []
    },
    {
      "cell_type": "markdown",
      "source": [
        "Create functions that give us the input ids and the position ids for the text we want to examine. Furthermore, it also returns the baselines we want for integrated gradients. In this case, every token in our baseline, is a padding token."
      ],
      "metadata": {
        "id": "bqbvfvXv0VTp"
      }
    },
    {
      "cell_type": "code",
      "execution_count": null,
      "metadata": {
        "id": "UgBSBpz-0_In"
      },
      "outputs": [],
      "source": [
        "max_length = 2046\n",
        "def construct_input_ref_pair(text, ref_token_id, sep_token_id, cls_token_id):\n",
        "\n",
        "    text_ids = tokenizer.encode(text, truncation = True, add_special_tokens=False, max_length = max_length)\n",
        "    # construct input token ids\n",
        "    input_ids = [cls_token_id] + text_ids + [sep_token_id]\n",
        "    # construct reference token ids \n",
        "\n",
        "    ref_input_ids = [cls_token_id] + [ref_token_id] * len(text_ids) + [sep_token_id]\n",
        "\n",
        "    return torch.tensor([input_ids], device=device), torch.tensor([ref_input_ids], device=device), len(text_ids)\n",
        "\n",
        "def construct_input_ref_pos_id_pair(input_ids):\n",
        "    seq_length = input_ids.size(1)\n",
        "\n",
        "    #taken from the longformer implementation\n",
        "    mask = input_ids.ne(ref_token_id).int()\n",
        "    incremental_indices = torch.cumsum(mask, dim=1).type_as(mask) * mask\n",
        "    position_ids = incremental_indices.long().squeeze() + ref_token_id\n",
        "\n",
        "    # we could potentially also use random permutation with `torch.randperm(seq_length, device=device)`\n",
        "    ref_position_ids = torch.zeros(seq_length, dtype=torch.long, device=device)\n",
        "\n",
        "    position_ids = position_ids.unsqueeze(0).expand_as(input_ids)\n",
        "    ref_position_ids = ref_position_ids.unsqueeze(0).expand_as(input_ids)\n",
        "    return position_ids, ref_position_ids\n",
        "    \n",
        "def construct_attention_mask(input_ids):\n",
        "    return torch.ones_like(input_ids)"
      ]
    },
    {
      "cell_type": "code",
      "source": [
        "all_tokens = {}"
      ],
      "metadata": {
        "id": "Sjtwg1l3tPN6"
      },
      "execution_count": null,
      "outputs": []
    },
    {
      "cell_type": "markdown",
      "source": [
        "We get the inputs, position_ids and the mask along with the baselines. We store the tokens in the dictionary created above for access in future functions."
      ],
      "metadata": {
        "id": "WfvfULmul-94"
      }
    },
    {
      "cell_type": "code",
      "source": [
        "input_ids, ref_input_ids, sep_id = construct_input_ref_pair(text, ref_token_id, sep_token_id, cls_token_id)\n",
        "position_ids, ref_position_ids = construct_input_ref_pos_id_pair(input_ids)\n",
        "attention_mask = construct_attention_mask(input_ids)\n",
        "\n",
        "indices = input_ids[0].detach().tolist()\n",
        "all_tokens_curr = tokenizer.convert_ids_to_tokens(indices)\n",
        "\n",
        "all_tokens[str(example)] = all_tokens_curr"
      ],
      "metadata": {
        "id": "YAYkF91sY6hm"
      },
      "execution_count": null,
      "outputs": []
    },
    {
      "cell_type": "markdown",
      "source": [
        "The attributions returned has very high dimensionality and we just want a single number for every token in our example, so we sum over the last dimension and squeeze the result to get an array of shape (seq_len). You may notice that we are not normalizing the attributions here. It's okay because we will normalize it later."
      ],
      "metadata": {
        "id": "PUgPFxRGmIS2"
      }
    },
    {
      "cell_type": "code",
      "execution_count": null,
      "metadata": {
        "id": "lIeE9P7b0_Ir"
      },
      "outputs": [],
      "source": [
        "def summarize_attributions(attributions):\n",
        "    attributions = attributions.sum(dim=-1).squeeze(0)\n",
        "    return attributions"
      ]
    },
    {
      "cell_type": "code",
      "source": [
        "print(attention_mask.shape)"
      ],
      "metadata": {
        "colab": {
          "base_uri": "https://localhost:8080/"
        },
        "id": "_kReZlLzXw7E",
        "outputId": "d10a0d65-733c-4882-e986-cd0375032456"
      },
      "execution_count": null,
      "outputs": [
        {
          "output_type": "stream",
          "name": "stdout",
          "text": [
            "torch.Size([1, 2048])\n"
          ]
        }
      ]
    },
    {
      "cell_type": "markdown",
      "source": [
        "For use in later functions, we want to store the attributions we find along with their respective tokens."
      ],
      "metadata": {
        "id": "Le5eAm_clalX"
      }
    },
    {
      "cell_type": "code",
      "source": [
        "all_attributions = {}"
      ],
      "metadata": {
        "id": "wf1SNgF73l1K"
      },
      "execution_count": null,
      "outputs": []
    },
    {
      "cell_type": "markdown",
      "source": [
        "On the other hand, if you have a dictionary of attributions already saved, you can import it as follows. Replace the path with a path to your own dictionary."
      ],
      "metadata": {
        "id": "t5vrw1yFlrT1"
      }
    },
    {
      "cell_type": "code",
      "source": [
        "all_attributions = torch.load('/content/drive/MyDrive/cogs402longformer/results/papers/papers_attributions/example_attrib_dict.pt')"
      ],
      "metadata": {
        "id": "g4nc7qSvUedJ"
      },
      "execution_count": null,
      "outputs": []
    },
    {
      "cell_type": "markdown",
      "source": [
        "This function is where we perform Integrated Gradients, sum the attributions and store the result in the dictionary. We can also save the dictionary if we require. If you have already loaded your attributions, you can skip this step.\n",
        "\n",
        "Note: the attributions will be with respect to the positive class, meaning positive attributions have more influence in the model predicting positive and negative attributions will be more influential in predicting negative."
      ],
      "metadata": {
        "id": "n2Xp75N0rtqa"
      }
    },
    {
      "cell_type": "code",
      "source": [
        "# attributions, delta = lig.attribute(inputs=input_ids,\n",
        "#                                   baselines=ref_input_ids,\n",
        "#                                   return_convergence_delta=True,\n",
        "#                                   additional_forward_args=(position_ids, attention_mask),\n",
        "#                                   target=1,\n",
        "#                                   n_steps=1500,\n",
        "#                                   internal_batch_size = 2)\n",
        "\n",
        "# attributions_sum = summarize_attributions(attributions)\n",
        "\n",
        "# all_attributions[str(example)] = attributions_sum.detach().cpu().numpy()"
      ],
      "metadata": {
        "id": "BSI1Azc2SxvL"
      },
      "execution_count": null,
      "outputs": []
    },
    {
      "cell_type": "code",
      "source": [
        "# torch.save(all_attributions, '/content/drive/MyDrive/cogs402longformer/results/papers/papers_attributions/example_attrib_dict.pt')"
      ],
      "metadata": {
        "id": "Dvsiq5chRqca"
      },
      "execution_count": null,
      "outputs": []
    },
    {
      "cell_type": "markdown",
      "source": [
        "## Grabbing the attentions"
      ],
      "metadata": {
        "id": "BeV2LdWOnMnj"
      }
    },
    {
      "cell_type": "markdown",
      "source": [
        "We then get the attentions and global attentions so we can compare with the attributions. We stack the attention to get a tensor of shape: (layer, batch, head, seq_len, x + attention_window + 1) and a tensor of shape (layer, batch, head, seq_len, x) where x is the number of global attention tokens."
      ],
      "metadata": {
        "id": "BGDWlUa3GvNS"
      }
    },
    {
      "cell_type": "code",
      "source": [
        "output = model(input_ids.cuda(), attention_mask=attention_mask.cuda(), labels=torch.tensor(label).cuda(), output_attentions = True)\n",
        "batch_attn = output[-2]\n",
        "output_attentions = torch.stack(batch_attn).cpu()\n",
        "global_attention = output[-1]\n",
        "output_global_attentions = torch.stack(global_attention).cpu()\n",
        "print(\"output_attention.shape\", output_attentions.shape)\n",
        "print(\"gl_output_attention.shape\", output_global_attentions.shape)"
      ],
      "metadata": {
        "colab": {
          "base_uri": "https://localhost:8080/"
        },
        "id": "mx69KUz20KmC",
        "outputId": "fddf5d50-b549-4006-bd17-1b6dc9634143"
      },
      "execution_count": null,
      "outputs": [
        {
          "output_type": "stream",
          "name": "stdout",
          "text": [
            "output_attention.shape torch.Size([12, 1, 12, 2048, 514])\n",
            "gl_output_attention.shape torch.Size([12, 1, 12, 2048, 1])\n"
          ]
        }
      ]
    },
    {
      "cell_type": "markdown",
      "source": [
        "A unique property of the longformer model is that the matrix output for the attention is not a seq_len x seq_len output. Each token can only attend to the preceeding w/2 tokens and the succeeding w/2 tokens, dictated by whatever you choose the model's attention window w to be. Another name for this is called the sliding window attention. Therefore, we need to convert sliding attention matrix to correct seq_len x seq_len matrix to remain consistent with other types of Transformer Neural Networks.\n",
        "\n",
        "To do so, we run the following 4 functions. Our attentions will change from an output attention tensor of shape (layer, batch, head, seq_len, x + attention_window + 1) and a global attention tensor of shape (layer, batch, head, seq_len, x) to a single ndarray of shape (layer, batch, head, seq_len, seq_len). More information about the functions can be found [here](https://colab.research.google.com/drive/1Kxx26NtIlUzioRCHpsR8IbSz_DpRFxEZ#scrollTo=t_XCoyTsQKAU)."
      ],
      "metadata": {
        "id": "dISC7-FaG2Lh"
      }
    },
    {
      "cell_type": "code",
      "source": [
        "def create_head_matrix(output_attentions, global_attentions):\n",
        "    new_attention_matrix = torch.zeros((output_attentions.shape[0], \n",
        "                                      output_attentions.shape[0]))\n",
        "    for i in range(output_attentions.shape[0]):\n",
        "        test_non_zeroes = torch.nonzero(output_attentions[i]).squeeze()\n",
        "        test2 = output_attentions[i][test_non_zeroes[1:]]\n",
        "        new_attention_matrix_indices = test_non_zeroes[1:]-257 + i\n",
        "        new_attention_matrix[i][new_attention_matrix_indices] = test2\n",
        "        new_attention_matrix[i][0] = output_attentions[i][0]\n",
        "        new_attention_matrix[0] = global_attentions.squeeze()[:output_attentions.shape[0]]\n",
        "    return new_attention_matrix.detach().cpu().numpy()\n",
        "\n",
        "\n",
        "def attentions_all_heads(output_attentions, global_attentions):\n",
        "    new_matrix = []\n",
        "    for i in range(output_attentions.shape[0]):\n",
        "        matrix = create_head_matrix(output_attentions[i], global_attentions[i])\n",
        "        new_matrix.append(matrix)\n",
        "    return np.stack(new_matrix)\n",
        "\n",
        "\n",
        "def all_batches(output_attentions, global_attentions):\n",
        "    new_matrix = []\n",
        "    for i in range(output_attentions.shape[0]):\n",
        "        matrix = attentions_all_heads(output_attentions[i], global_attentions[i])\n",
        "        new_matrix.append(matrix)\n",
        "    return np.stack(new_matrix)\n",
        "\n",
        "def all_layers(output_attentions, global_attentions):\n",
        "    new_matrix = []\n",
        "    for i in range(output_attentions.shape[0]):\n",
        "        matrix = all_batches(output_attentions[i], global_attentions[i])\n",
        "        new_matrix.append(matrix)\n",
        "    return np.stack(new_matrix)"
      ],
      "metadata": {
        "id": "AFyZpNST1JRr"
      },
      "execution_count": null,
      "outputs": []
    },
    {
      "cell_type": "markdown",
      "source": [
        "We should only run one example at a time, so we will squeeze the result of applying the above 4 functions to get a tensor of shape (layer, batch, head, seq_len, seq_len)."
      ],
      "metadata": {
        "id": "gvx4m7eVod21"
      }
    },
    {
      "cell_type": "code",
      "source": [
        "converted_mat = all_layers(output_attentions, output_global_attentions)\n",
        "print(converted_mat.shape)"
      ],
      "metadata": {
        "colab": {
          "base_uri": "https://localhost:8080/"
        },
        "id": "q48gadDy1Kgi",
        "outputId": "8cdf2b6e-8841-4614-f578-bb38a5bb17e5"
      },
      "execution_count": null,
      "outputs": [
        {
          "output_type": "stream",
          "name": "stdout",
          "text": [
            "(12, 1, 12, 2048, 2048)\n"
          ]
        }
      ]
    },
    {
      "cell_type": "markdown",
      "source": [
        "We get the attentions for each token by summing the converted attention matrix over the first seq_len axis. As such the resulting matrix is of shape (layer, batch, head, seq_len)."
      ],
      "metadata": {
        "id": "XywJLFZ6HBWO"
      }
    },
    {
      "cell_type": "code",
      "source": [
        "attention_matrix_summed = converted_mat.sum(axis=3)"
      ],
      "metadata": {
        "id": "Gu9biMOM1UWC"
      },
      "execution_count": null,
      "outputs": []
    },
    {
      "cell_type": "markdown",
      "source": [
        "Some heads may be more important than others so we scale each attention matrix by their respective head and layer. The notebook used to get head importance is [here](https://colab.research.google.com/drive/1O4QCi8ewBp7asegKqySRflTQZ9HeH8mQ?usp=sharing). However, its possible that you might not want to scale the attentions, in which case you can ignore this section."
      ],
      "metadata": {
        "id": "WJynBkquG9cv"
      }
    },
    {
      "cell_type": "code",
      "source": [
        "head_importance = torch.load(\"/content/drive/MyDrive/cogs402longformer/t3-visapplication/resources/papers/pretrained/head_importance.pt\")\n",
        "# head_importance = torch.load(\"/content/drive/MyDrive/cogs402longformer/t3-visapplication/resources/news/head_importance.pt\")"
      ],
      "metadata": {
        "id": "Bt_2TsKb1ML5"
      },
      "execution_count": null,
      "outputs": []
    },
    {
      "cell_type": "code",
      "source": [
        "def scale_by_importance(attention_matrix, head_importance):\n",
        "  new_matrix = np.zeros_like(attention_matrix)\n",
        "  for i in range(attention_matrix.shape[0]):\n",
        "    head_importance_layer = head_importance[i]\n",
        "    for j in range(attention_matrix.shape[1]):\n",
        "      new_matrix[i,j] = attention_matrix[i,j] * np.expand_dims(head_importance_layer, axis=(1))\n",
        "  return new_matrix"
      ],
      "metadata": {
        "id": "nDuqZlIZ1NSr"
      },
      "execution_count": null,
      "outputs": []
    },
    {
      "cell_type": "code",
      "source": [
        "attention_matrix_summed = scale_by_importance(attention_matrix_summed, head_importance)"
      ],
      "metadata": {
        "id": "u5-YW1SN1OYP"
      },
      "execution_count": null,
      "outputs": []
    },
    {
      "cell_type": "markdown",
      "source": [
        "Here we are using the squeeze function to remove the batch axis, as we are likely only working with one example at a time. After that, we can either select a specific layer we want, or a range of layers we wish to compare. \n",
        "\n",
        "In this case, when taking a specific layer, you pick the layer you want (replace 11 with whatever layer you wish) and then we sum over all of the heads.\n",
        "\n",
        "When taking a range of layers, you either want to specify a range (e.g. attention_matrix_summed[0:6]) or leave as it is to sum over all layers. Then we sum up the layers and the heads.\n",
        "\n",
        "The result of both versions will be an array of shape (seq_len), the same as our attributions as desired."
      ],
      "metadata": {
        "id": "gB7w8fsMHFT2"
      }
    },
    {
      "cell_type": "code",
      "source": [
        "attention_final_layer = attention_matrix_summed[11].squeeze().sum(axis=0)\n",
        "attention_all_layer = attention_matrix_summed.squeeze().sum(axis=1)\n",
        "attention_all_layer = attention_all_layer.sum(axis=0)\n",
        "print(attention_all_layer.shape)"
      ],
      "metadata": {
        "id": "kvEhE5HP1XUQ",
        "colab": {
          "base_uri": "https://localhost:8080/"
        },
        "outputId": "0a703620-5961-4ba6-ce58-f7f6e1c26001"
      },
      "execution_count": null,
      "outputs": [
        {
          "output_type": "stream",
          "name": "stdout",
          "text": [
            "(2048,)\n"
          ]
        }
      ]
    },
    {
      "cell_type": "markdown",
      "source": [
        "## Starting the Comparison"
      ],
      "metadata": {
        "id": "8MUFy1D5ostS"
      }
    },
    {
      "cell_type": "markdown",
      "source": [
        "Grab the attributions we stored earlier. Just as an insurance, make sure that the attributions aren't for some reason longer than the attentions\n",
        "\n"
      ],
      "metadata": {
        "id": "GoxYNBsHHLdc"
      }
    },
    {
      "cell_type": "code",
      "source": [
        "exam_attrib = all_attributions[str(example)]\n",
        "exam_attrib = exam_attrib[:len(attention_final_layer)]"
      ],
      "metadata": {
        "id": "na6SKwOp_htK"
      },
      "execution_count": null,
      "outputs": []
    },
    {
      "cell_type": "markdown",
      "source": [
        "Since we have the attributions and the attentions, we want to see how the attributions (in terms of magnitude) compares to the attentions."
      ],
      "metadata": {
        "id": "jp40sVMVBDYt"
      }
    },
    {
      "cell_type": "markdown",
      "source": [
        "However, it's probably a good idea to check how the Cosine similarities are when we don't do anything processing by using the raw attributions and attentions"
      ],
      "metadata": {
        "id": "05cKorNqG-2T"
      }
    },
    {
      "cell_type": "code",
      "source": [
        "from numpy.linalg import norm\n",
        "cosine_raw = np.dot(exam_attrib, attention_final_layer) / (norm(exam_attrib)*norm(attention_final_layer))\n",
        "print(\"Layer 12 Cosine Similarity raw attrib:\\n\", cosine_raw)\n",
        "cosine_all_raw = np.dot(exam_attrib, attention_all_layer) / (norm(exam_attrib)*norm(attention_all_layer))\n",
        "print(\"Layer 12 Cosine Similarity raw attrib:\\n\", cosine_all_raw)"
      ],
      "metadata": {
        "colab": {
          "base_uri": "https://localhost:8080/"
        },
        "id": "_kWnacBd9qk5",
        "outputId": "8748f005-2ccd-494d-b6db-79d2b8534b7d"
      },
      "execution_count": null,
      "outputs": [
        {
          "output_type": "stream",
          "name": "stdout",
          "text": [
            "Layer 12 Cosine Similarity raw attrib:\n",
            " 0.08240283361215006\n",
            "Layer 12 Cosine Similarity raw attrib:\n",
            " 0.09675473154656886\n"
          ]
        }
      ]
    },
    {
      "cell_type": "markdown",
      "source": [
        "The attributions and the attentions have different ranges. The attributions could range from -1 to 1 whereas the attentions range from 0 to 1. However, negative attributions would not necessarily mean that they have the lowest attention, rather they might have really high attention as they are more likely to help the model predict the negative class, and might be something the attentions picked up by the model. Therefore, we want to absolute value the attributions and then normalize the attentions and the attributions so they have the range of 0 to 1."
      ],
      "metadata": {
        "id": "6cwcV4jXNWe-"
      }
    },
    {
      "cell_type": "code",
      "source": [
        "def normalize(data):\n",
        "    return (data - np.min(data)) / (np.max(data) - np.min(data))"
      ],
      "metadata": {
        "id": "ukncMseTj1-K"
      },
      "execution_count": null,
      "outputs": []
    },
    {
      "cell_type": "code",
      "source": [
        "attention_final_layer2 = normalize(attention_final_layer)\n",
        "attention_all_layer2 = normalize(attention_all_layer)"
      ],
      "metadata": {
        "id": "b0fjYbf5k5qv"
      },
      "execution_count": null,
      "outputs": []
    },
    {
      "cell_type": "code",
      "source": [
        "exam_attrib2 = np.abs(exam_attrib)\n",
        "exam_attrib2 = normalize(exam_attrib2)"
      ],
      "metadata": {
        "id": "gQIFZTQzlAEI"
      },
      "execution_count": null,
      "outputs": []
    },
    {
      "cell_type": "code",
      "source": [
        "print(exam_attrib2)"
      ],
      "metadata": {
        "colab": {
          "base_uri": "https://localhost:8080/"
        },
        "id": "gtCEZaQFOgwh",
        "outputId": "bcabb69c-99bd-4544-b0ce-d8d49753f1be"
      },
      "execution_count": null,
      "outputs": [
        {
          "output_type": "stream",
          "name": "stdout",
          "text": [
            "[0.00000000e+00 3.09815393e-03 2.46389383e-04 ... 4.17945981e-05\n",
            " 1.87499117e-03 0.00000000e+00]\n"
          ]
        }
      ]
    },
    {
      "cell_type": "markdown",
      "source": [
        "Now we calculate cosine simularity using normalized attentions and attributions"
      ],
      "metadata": {
        "id": "wuflawaXGUAK"
      }
    },
    {
      "cell_type": "code",
      "source": [
        "cosine = np.dot(exam_attrib2, attention_final_layer2) / (norm(exam_attrib2)*norm(attention_final_layer2))\n",
        "print(\"Layer 12 Cosine Similarity:\\n\", cosine)\n",
        "cosine2 = np.dot(exam_attrib2, attention_all_layer2) / (norm(exam_attrib2)*norm(attention_all_layer2))\n",
        "print(\"All layer Cosine Similarity:\\n\", cosine2)"
      ],
      "metadata": {
        "colab": {
          "base_uri": "https://localhost:8080/"
        },
        "id": "oV1y_ZDk_gFu",
        "outputId": "580e98a9-b473-48fd-f343-baae43cbcb0f"
      },
      "execution_count": null,
      "outputs": [
        {
          "output_type": "stream",
          "name": "stdout",
          "text": [
            "Layer 12 Cosine Similarity:\n",
            " 0.14192340536743783\n",
            "All layer Cosine Similarity:\n",
            " 0.11526972377376785\n"
          ]
        }
      ]
    },
    {
      "cell_type": "markdown",
      "source": [
        "It might be interesting to know if only the top 50% of tokens share similar attentions and attributions, so after we absolute value and normalize the attentions and attributions, we apply a mask to set the values to 0 if they are not above the median attention or attribution respectively."
      ],
      "metadata": {
        "id": "0ivl51-oHFPu"
      }
    },
    {
      "cell_type": "code",
      "source": [
        "exam_attrib3 = np.abs(exam_attrib)\n",
        "exam_attrib3 = normalize(exam_attrib3)\n",
        "median_exam = np.percentile(exam_attrib3, 50)\n",
        "exam_attrib3[exam_attrib3 < median_exam] = 0"
      ],
      "metadata": {
        "id": "X5q_9i4iOoFs"
      },
      "execution_count": null,
      "outputs": []
    },
    {
      "cell_type": "code",
      "source": [
        "attention_final_layer3 = np.copy(attention_final_layer)\n",
        "attention_final_layer3 = normalize(attention_final_layer3)\n",
        "median_12 = np.percentile(attention_final_layer3, 50)\n",
        "attention_final_layer3[attention_final_layer3 < median_12] = 0\n",
        "\n",
        "attention_all_layer3 = np.copy(attention_all_layer) \n",
        "attention_all_layer3 = normalize(attention_all_layer3)\n",
        "median_all = np.percentile(attention_all_layer3, 50)\n",
        "attention_all_layer3[attention_all_layer3 < median_all] = 0"
      ],
      "metadata": {
        "id": "9zTGe6IEGeFv"
      },
      "execution_count": null,
      "outputs": []
    },
    {
      "cell_type": "markdown",
      "source": [
        "Now we calculate cosine similarity for the median masked attributions and attentions."
      ],
      "metadata": {
        "id": "XxM6eq9kw1V2"
      }
    },
    {
      "cell_type": "code",
      "source": [
        "cosine_med = np.dot(exam_attrib3, attention_final_layer3) / (norm(exam_attrib3)*norm(attention_final_layer3))\n",
        "print(\"Layer 12 Cosine Similarity med:\\n\", cosine_med)\n",
        "cosine_med2 = np.dot(exam_attrib3, attention_all_layer3) / (norm(exam_attrib3)*norm(attention_all_layer3))\n",
        "print(\"All layer Cosine Similarity med:\\n\", cosine_med2)"
      ],
      "metadata": {
        "colab": {
          "base_uri": "https://localhost:8080/"
        },
        "id": "i8cKjhfAHrWi",
        "outputId": "163bfbb8-40e3-40d3-ae02-c8ce9b4e4bcc"
      },
      "execution_count": null,
      "outputs": [
        {
          "output_type": "stream",
          "name": "stdout",
          "text": [
            "Layer 12 Cosine Similarity med:\n",
            " 0.13743337836983313\n",
            "All layer Cosine Similarity med:\n",
            " 0.10930942909492472\n"
          ]
        }
      ]
    },
    {
      "cell_type": "markdown",
      "source": [
        "Now we do the same as above, but this time we mask all the values that are lower than the mean."
      ],
      "metadata": {
        "id": "7srdG4VeT4wt"
      }
    },
    {
      "cell_type": "code",
      "source": [
        "exam_attrib4 = np.abs(exam_attrib)\n",
        "exam_attrib4 = normalize(exam_attrib4)\n",
        "mean_exam = np.mean(exam_attrib4)\n",
        "exam_attrib4[exam_attrib4 < mean_exam] = 0"
      ],
      "metadata": {
        "id": "NHw9NX_cWwTT"
      },
      "execution_count": null,
      "outputs": []
    },
    {
      "cell_type": "code",
      "source": [
        "attention_final_layer4 = np.copy(attention_final_layer)\n",
        "attention_final_layer4 = normalize(attention_final_layer4)\n",
        "mean_12 = np.mean(attention_final_layer4)\n",
        "attention_final_layer4[attention_final_layer4 < mean_12] = 0\n",
        "\n",
        "attention_all_layer4 = np.copy(attention_all_layer) \n",
        "attention_all_layer4 = normalize(attention_all_layer4)\n",
        "mean_all = np.mean(attention_all_layer4)\n",
        "attention_all_layer4[attention_all_layer4 < mean_all] = 0"
      ],
      "metadata": {
        "id": "EHj9zUwrUee-"
      },
      "execution_count": null,
      "outputs": []
    },
    {
      "cell_type": "markdown",
      "source": [
        "Calculate cosine similarity for our mean-masked attentions and attributions."
      ],
      "metadata": {
        "id": "pdgFQwoAxI2w"
      }
    },
    {
      "cell_type": "code",
      "source": [
        "cosine_mean = np.dot(exam_attrib4, attention_final_layer4) / (norm(exam_attrib4)*norm(attention_final_layer4))\n",
        "print(\"Layer 12 Cosine Similarity mean:\\n\", cosine_mean)\n",
        "cosine_mean2 = np.dot(exam_attrib4, attention_all_layer4) / (norm(exam_attrib4)*norm(attention_all_layer4))\n",
        "print(\"All layer Cosine Similarity mean:\\n\", cosine_mean2)"
      ],
      "metadata": {
        "colab": {
          "base_uri": "https://localhost:8080/"
        },
        "id": "NWlVxlzHUlAj",
        "outputId": "e202ba00-768e-4dd7-e582-52601594c377"
      },
      "execution_count": null,
      "outputs": [
        {
          "output_type": "stream",
          "name": "stdout",
          "text": [
            "Layer 12 Cosine Similarity mean:\n",
            " 0.11986848601072966\n",
            "All layer Cosine Similarity mean:\n",
            " 0.09766478004167264\n"
          ]
        }
      ]
    },
    {
      "cell_type": "markdown",
      "source": [
        "With our normalized attributions and attentions, tokens with the same rank in both the attention and attributions arrays can have drastically different values for both. Therefore, even if you have two arrays, when ranked, that have the same ordering, it may return a similarity that is low.\n",
        "\n",
        "If we convert each value of the both arrays into their ranks w.r.t. their own array, it alleviates this problem as not only do both arrays have the same range, they also all have the exact same set of values (1-2048 or however many your max amount of tokens are). With an exact same set of values, we can make sure that if two tokens are the same rank in both arrays (indiciating that the attentions and the attributions have some degree of similarity), our cosine similarity picks up on that.\n",
        "\n",
        "Note, the order of the ranks is from highest to lowest so a high value in the ranks array suggests a low value."
      ],
      "metadata": {
        "id": "NHUIfDlnjlFU"
      }
    },
    {
      "cell_type": "code",
      "source": [
        "exam_attrib_rank = np.abs(exam_attrib)\n",
        "print(exam_attrib_rank)\n",
        "order_attrib = exam_attrib_rank.argsort()[::-1]\n",
        "print(order_attrib)\n",
        "ranks_attrib = order_attrib.argsort()\n",
        "print(ranks_attrib)"
      ],
      "metadata": {
        "colab": {
          "base_uri": "https://localhost:8080/"
        },
        "id": "F8t6CWK6jkG8",
        "outputId": "71d31558-74d1-4927-ec25-8eebbaced6f4"
      },
      "execution_count": null,
      "outputs": [
        {
          "output_type": "stream",
          "name": "stdout",
          "text": [
            "[0.00000000e+00 1.84040401e-04 1.46363292e-05 ... 2.48273481e-06\n",
            " 1.11380563e-04 0.00000000e+00]\n",
            "[1544 1593 1700 ... 2008 2047    0]\n",
            "[2047  992 1927 ... 2029 1278 2046]\n"
          ]
        }
      ]
    },
    {
      "cell_type": "code",
      "source": [
        "attention_final_layer_rank = np.copy(attention_final_layer)\n",
        "order = attention_final_layer_rank.argsort()[::-1]\n",
        "ranks = order.argsort()\n",
        "\n",
        "attention_all_layer_rank = np.copy(attention_all_layer)\n",
        "order2 = attention_all_layer_rank.argsort()[::-1]\n",
        "ranks2 = order2.argsort()"
      ],
      "metadata": {
        "id": "Abb5yDNljwdI"
      },
      "execution_count": null,
      "outputs": []
    },
    {
      "cell_type": "code",
      "source": [
        "cosine_rank = np.dot(ranks_attrib, ranks) / (norm(ranks_attrib)*norm(ranks))\n",
        "print(\"Layer 12 Cosine Similarity rank:\\n\", cosine_rank)\n",
        "cosine_rank2 = np.dot(ranks_attrib, ranks2) / (norm(ranks_attrib)*norm(ranks2))\n",
        "print(\"All layer Cosine Similarity rank:\\n\", cosine_rank2)"
      ],
      "metadata": {
        "colab": {
          "base_uri": "https://localhost:8080/"
        },
        "id": "H7Ucz3QdtBxN",
        "outputId": "140a3d0c-55e4-4780-e341-3964da6faf47"
      },
      "execution_count": null,
      "outputs": [
        {
          "output_type": "stream",
          "name": "stdout",
          "text": [
            "Layer 12 Cosine Similarity rank:\n",
            " 0.8231117432528797\n",
            "All layer Cosine Similarity rank:\n",
            " 0.8196131959645447\n"
          ]
        }
      ]
    },
    {
      "cell_type": "markdown",
      "source": [
        "Cosine similarities are not the only similarity metric we can use. Lets evaluate similarity on our example with two other metrics: [Kendalltau](https://www.jstor.org/stable/2332226), and [Rank-biased Overlap (RBO)](https://dl.acm.org/doi/10.1145/1852102.1852106)."
      ],
      "metadata": {
        "id": "KINI1ho0jDSf"
      }
    },
    {
      "cell_type": "markdown",
      "source": [
        "With Kendalltau, you compare the similarities by passing in two arrays of rankings, meaning every item in your array is the rank of the item from 1-max_len."
      ],
      "metadata": {
        "id": "vpJXcI7U2q-Z"
      }
    },
    {
      "cell_type": "code",
      "source": [
        "import scipy.stats as stats\n",
        "tau, p_value = stats.kendalltau(ranks_attrib, ranks)\n",
        "print(\"Tau statistic layer 12:\", tau, \"p value\", p_value)\n",
        "tau2, p_value = stats.kendalltau(ranks_attrib, ranks2)\n",
        "print(\"Tau statistic: all layers\", tau, \"p value\", p_value)"
      ],
      "metadata": {
        "colab": {
          "base_uri": "https://localhost:8080/"
        },
        "id": "LXUp80lhjDcn",
        "outputId": "95dccb1f-1408-419b-a504-a63aba3272c3"
      },
      "execution_count": null,
      "outputs": [
        {
          "output_type": "stream",
          "name": "stdout",
          "text": [
            "Tau statistic layer 12: 0.2001347245969712 p value 5.712101810122379e-42\n",
            "Tau statistic: all layers 0.2001347245969712 p value 1.787488784499021e-37\n"
          ]
        }
      ]
    },
    {
      "cell_type": "markdown",
      "source": [
        "With RBO, instead of passing in an array of rankings, you rank each item in the array such that the item at array index 0 is the highest rank item, the item at array index 1 is the second highest, and the one at array index max_len -1 is the lowest. "
      ],
      "metadata": {
        "id": "En-9c9Q926OM"
      }
    },
    {
      "cell_type": "code",
      "source": [
        "import rbo\n",
        "rbo_1 = rbo.RankingSimilarity(order_attrib, order).rbo()\n",
        "rbo_2 = rbo.RankingSimilarity(order_attrib, order2).rbo()\n",
        "print(\"rbo layer 12\", rbo_1)\n",
        "print(\"rbo all\", rbo_2)"
      ],
      "metadata": {
        "colab": {
          "base_uri": "https://localhost:8080/"
        },
        "id": "B1gC1cVvjFib",
        "outputId": "d866d632-e966-4f17-ac63-9f9a0017f001"
      },
      "execution_count": null,
      "outputs": [
        {
          "output_type": "stream",
          "name": "stdout",
          "text": [
            "rbo layer 12 0.5940089021629265\n",
            "rbo all 0.5956575399205587\n"
          ]
        }
      ]
    },
    {
      "cell_type": "markdown",
      "source": [
        "Here we compile all of the similarities we calculated into one dataframe for easier viewing."
      ],
      "metadata": {
        "id": "PGIoaQ3QOaOf"
      }
    },
    {
      "cell_type": "code",
      "source": [
        "d = {'example': [example], 'similarity normalized': [cosine], 'similarity raw': [cosine_raw], 'sim_norm w/ median threshold': [cosine_med], 'sim_norm w/ mean threshold': [cosine_mean], \"sim w/ ranks\":[cosine_rank], \"kendall_tau\":[tau], \"RBO\":[rbo_1]}\n",
        "df = pd.DataFrame(data=d)\n",
        "df"
      ],
      "metadata": {
        "colab": {
          "base_uri": "https://localhost:8080/",
          "height": 81
        },
        "id": "-da4EW2rBkIX",
        "outputId": "d81636f9-3511-4c40-aa15-bbe47931dc76"
      },
      "execution_count": null,
      "outputs": [
        {
          "output_type": "execute_result",
          "data": {
            "text/plain": [
              "   example  similarity normalized  similarity raw  \\\n",
              "0      976               0.141923        0.082403   \n",
              "\n",
              "   sim_norm w/ median threshold  sim_norm w/ mean threshold  sim w/ ranks  \\\n",
              "0                      0.137433                    0.119868      0.823112   \n",
              "\n",
              "   kendall_tau       RBO  \n",
              "0     0.200135  0.594009  "
            ],
            "text/html": [
              "\n",
              "  <div id=\"df-24dfd5a3-bdca-478e-b99c-83b694961eee\">\n",
              "    <div class=\"colab-df-container\">\n",
              "      <div>\n",
              "<style scoped>\n",
              "    .dataframe tbody tr th:only-of-type {\n",
              "        vertical-align: middle;\n",
              "    }\n",
              "\n",
              "    .dataframe tbody tr th {\n",
              "        vertical-align: top;\n",
              "    }\n",
              "\n",
              "    .dataframe thead th {\n",
              "        text-align: right;\n",
              "    }\n",
              "</style>\n",
              "<table border=\"1\" class=\"dataframe\">\n",
              "  <thead>\n",
              "    <tr style=\"text-align: right;\">\n",
              "      <th></th>\n",
              "      <th>example</th>\n",
              "      <th>similarity normalized</th>\n",
              "      <th>similarity raw</th>\n",
              "      <th>sim_norm w/ median threshold</th>\n",
              "      <th>sim_norm w/ mean threshold</th>\n",
              "      <th>sim w/ ranks</th>\n",
              "      <th>kendall_tau</th>\n",
              "      <th>RBO</th>\n",
              "    </tr>\n",
              "  </thead>\n",
              "  <tbody>\n",
              "    <tr>\n",
              "      <th>0</th>\n",
              "      <td>976</td>\n",
              "      <td>0.141923</td>\n",
              "      <td>0.082403</td>\n",
              "      <td>0.137433</td>\n",
              "      <td>0.119868</td>\n",
              "      <td>0.823112</td>\n",
              "      <td>0.200135</td>\n",
              "      <td>0.594009</td>\n",
              "    </tr>\n",
              "  </tbody>\n",
              "</table>\n",
              "</div>\n",
              "      <button class=\"colab-df-convert\" onclick=\"convertToInteractive('df-24dfd5a3-bdca-478e-b99c-83b694961eee')\"\n",
              "              title=\"Convert this dataframe to an interactive table.\"\n",
              "              style=\"display:none;\">\n",
              "        \n",
              "  <svg xmlns=\"http://www.w3.org/2000/svg\" height=\"24px\"viewBox=\"0 0 24 24\"\n",
              "       width=\"24px\">\n",
              "    <path d=\"M0 0h24v24H0V0z\" fill=\"none\"/>\n",
              "    <path d=\"M18.56 5.44l.94 2.06.94-2.06 2.06-.94-2.06-.94-.94-2.06-.94 2.06-2.06.94zm-11 1L8.5 8.5l.94-2.06 2.06-.94-2.06-.94L8.5 2.5l-.94 2.06-2.06.94zm10 10l.94 2.06.94-2.06 2.06-.94-2.06-.94-.94-2.06-.94 2.06-2.06.94z\"/><path d=\"M17.41 7.96l-1.37-1.37c-.4-.4-.92-.59-1.43-.59-.52 0-1.04.2-1.43.59L10.3 9.45l-7.72 7.72c-.78.78-.78 2.05 0 2.83L4 21.41c.39.39.9.59 1.41.59.51 0 1.02-.2 1.41-.59l7.78-7.78 2.81-2.81c.8-.78.8-2.07 0-2.86zM5.41 20L4 18.59l7.72-7.72 1.47 1.35L5.41 20z\"/>\n",
              "  </svg>\n",
              "      </button>\n",
              "      \n",
              "  <style>\n",
              "    .colab-df-container {\n",
              "      display:flex;\n",
              "      flex-wrap:wrap;\n",
              "      gap: 12px;\n",
              "    }\n",
              "\n",
              "    .colab-df-convert {\n",
              "      background-color: #E8F0FE;\n",
              "      border: none;\n",
              "      border-radius: 50%;\n",
              "      cursor: pointer;\n",
              "      display: none;\n",
              "      fill: #1967D2;\n",
              "      height: 32px;\n",
              "      padding: 0 0 0 0;\n",
              "      width: 32px;\n",
              "    }\n",
              "\n",
              "    .colab-df-convert:hover {\n",
              "      background-color: #E2EBFA;\n",
              "      box-shadow: 0px 1px 2px rgba(60, 64, 67, 0.3), 0px 1px 3px 1px rgba(60, 64, 67, 0.15);\n",
              "      fill: #174EA6;\n",
              "    }\n",
              "\n",
              "    [theme=dark] .colab-df-convert {\n",
              "      background-color: #3B4455;\n",
              "      fill: #D2E3FC;\n",
              "    }\n",
              "\n",
              "    [theme=dark] .colab-df-convert:hover {\n",
              "      background-color: #434B5C;\n",
              "      box-shadow: 0px 1px 3px 1px rgba(0, 0, 0, 0.15);\n",
              "      filter: drop-shadow(0px 1px 2px rgba(0, 0, 0, 0.3));\n",
              "      fill: #FFFFFF;\n",
              "    }\n",
              "  </style>\n",
              "\n",
              "      <script>\n",
              "        const buttonEl =\n",
              "          document.querySelector('#df-24dfd5a3-bdca-478e-b99c-83b694961eee button.colab-df-convert');\n",
              "        buttonEl.style.display =\n",
              "          google.colab.kernel.accessAllowed ? 'block' : 'none';\n",
              "\n",
              "        async function convertToInteractive(key) {\n",
              "          const element = document.querySelector('#df-24dfd5a3-bdca-478e-b99c-83b694961eee');\n",
              "          const dataTable =\n",
              "            await google.colab.kernel.invokeFunction('convertToInteractive',\n",
              "                                                     [key], {});\n",
              "          if (!dataTable) return;\n",
              "\n",
              "          const docLinkHtml = 'Like what you see? Visit the ' +\n",
              "            '<a target=\"_blank\" href=https://colab.research.google.com/notebooks/data_table.ipynb>data table notebook</a>'\n",
              "            + ' to learn more about interactive tables.';\n",
              "          element.innerHTML = '';\n",
              "          dataTable['output_type'] = 'display_data';\n",
              "          await google.colab.output.renderOutput(dataTable, element);\n",
              "          const docLink = document.createElement('div');\n",
              "          docLink.innerHTML = docLinkHtml;\n",
              "          element.appendChild(docLink);\n",
              "        }\n",
              "      </script>\n",
              "    </div>\n",
              "  </div>\n",
              "  "
            ]
          },
          "metadata": {},
          "execution_count": 53
        }
      ]
    },
    {
      "cell_type": "markdown",
      "source": [
        "We do the same here as we have another set of similarities we want to examine."
      ],
      "metadata": {
        "id": "7w4ofGq2OfLC"
      }
    },
    {
      "cell_type": "code",
      "source": [
        "d2 = {'example': [example], 'similarity normalized': [cosine2], 'similarity raw': [cosine_all_raw], 'sim_norm w/ median threshold':[cosine_med2], 'sim_norm w/ mean threshold':[cosine_mean2], \"sim w/ ranks\":[cosine_rank2], \"kendall_tau\":[tau2], \"RBO\":[rbo_2]}\n",
        "df2 = pd.DataFrame(data=d2)\n",
        "df2"
      ],
      "metadata": {
        "colab": {
          "base_uri": "https://localhost:8080/",
          "height": 81
        },
        "id": "ep6wbADaFgME",
        "outputId": "b5a04fe1-419d-4e24-bdfd-1a1ecd79cd84"
      },
      "execution_count": null,
      "outputs": [
        {
          "output_type": "execute_result",
          "data": {
            "text/plain": [
              "   example  similarity normalized  similarity raw  \\\n",
              "0      976                0.11527        0.096755   \n",
              "\n",
              "   sim_norm w/ median threshold  sim_norm w/ mean threshold  sim w/ ranks  \\\n",
              "0                      0.109309                    0.097665      0.819613   \n",
              "\n",
              "   kendall_tau       RBO  \n",
              "0     0.188624  0.595658  "
            ],
            "text/html": [
              "\n",
              "  <div id=\"df-1c92fd10-d4c1-418a-9f13-a62f02368eee\">\n",
              "    <div class=\"colab-df-container\">\n",
              "      <div>\n",
              "<style scoped>\n",
              "    .dataframe tbody tr th:only-of-type {\n",
              "        vertical-align: middle;\n",
              "    }\n",
              "\n",
              "    .dataframe tbody tr th {\n",
              "        vertical-align: top;\n",
              "    }\n",
              "\n",
              "    .dataframe thead th {\n",
              "        text-align: right;\n",
              "    }\n",
              "</style>\n",
              "<table border=\"1\" class=\"dataframe\">\n",
              "  <thead>\n",
              "    <tr style=\"text-align: right;\">\n",
              "      <th></th>\n",
              "      <th>example</th>\n",
              "      <th>similarity normalized</th>\n",
              "      <th>similarity raw</th>\n",
              "      <th>sim_norm w/ median threshold</th>\n",
              "      <th>sim_norm w/ mean threshold</th>\n",
              "      <th>sim w/ ranks</th>\n",
              "      <th>kendall_tau</th>\n",
              "      <th>RBO</th>\n",
              "    </tr>\n",
              "  </thead>\n",
              "  <tbody>\n",
              "    <tr>\n",
              "      <th>0</th>\n",
              "      <td>976</td>\n",
              "      <td>0.11527</td>\n",
              "      <td>0.096755</td>\n",
              "      <td>0.109309</td>\n",
              "      <td>0.097665</td>\n",
              "      <td>0.819613</td>\n",
              "      <td>0.188624</td>\n",
              "      <td>0.595658</td>\n",
              "    </tr>\n",
              "  </tbody>\n",
              "</table>\n",
              "</div>\n",
              "      <button class=\"colab-df-convert\" onclick=\"convertToInteractive('df-1c92fd10-d4c1-418a-9f13-a62f02368eee')\"\n",
              "              title=\"Convert this dataframe to an interactive table.\"\n",
              "              style=\"display:none;\">\n",
              "        \n",
              "  <svg xmlns=\"http://www.w3.org/2000/svg\" height=\"24px\"viewBox=\"0 0 24 24\"\n",
              "       width=\"24px\">\n",
              "    <path d=\"M0 0h24v24H0V0z\" fill=\"none\"/>\n",
              "    <path d=\"M18.56 5.44l.94 2.06.94-2.06 2.06-.94-2.06-.94-.94-2.06-.94 2.06-2.06.94zm-11 1L8.5 8.5l.94-2.06 2.06-.94-2.06-.94L8.5 2.5l-.94 2.06-2.06.94zm10 10l.94 2.06.94-2.06 2.06-.94-2.06-.94-.94-2.06-.94 2.06-2.06.94z\"/><path d=\"M17.41 7.96l-1.37-1.37c-.4-.4-.92-.59-1.43-.59-.52 0-1.04.2-1.43.59L10.3 9.45l-7.72 7.72c-.78.78-.78 2.05 0 2.83L4 21.41c.39.39.9.59 1.41.59.51 0 1.02-.2 1.41-.59l7.78-7.78 2.81-2.81c.8-.78.8-2.07 0-2.86zM5.41 20L4 18.59l7.72-7.72 1.47 1.35L5.41 20z\"/>\n",
              "  </svg>\n",
              "      </button>\n",
              "      \n",
              "  <style>\n",
              "    .colab-df-container {\n",
              "      display:flex;\n",
              "      flex-wrap:wrap;\n",
              "      gap: 12px;\n",
              "    }\n",
              "\n",
              "    .colab-df-convert {\n",
              "      background-color: #E8F0FE;\n",
              "      border: none;\n",
              "      border-radius: 50%;\n",
              "      cursor: pointer;\n",
              "      display: none;\n",
              "      fill: #1967D2;\n",
              "      height: 32px;\n",
              "      padding: 0 0 0 0;\n",
              "      width: 32px;\n",
              "    }\n",
              "\n",
              "    .colab-df-convert:hover {\n",
              "      background-color: #E2EBFA;\n",
              "      box-shadow: 0px 1px 2px rgba(60, 64, 67, 0.3), 0px 1px 3px 1px rgba(60, 64, 67, 0.15);\n",
              "      fill: #174EA6;\n",
              "    }\n",
              "\n",
              "    [theme=dark] .colab-df-convert {\n",
              "      background-color: #3B4455;\n",
              "      fill: #D2E3FC;\n",
              "    }\n",
              "\n",
              "    [theme=dark] .colab-df-convert:hover {\n",
              "      background-color: #434B5C;\n",
              "      box-shadow: 0px 1px 3px 1px rgba(0, 0, 0, 0.15);\n",
              "      filter: drop-shadow(0px 1px 2px rgba(0, 0, 0, 0.3));\n",
              "      fill: #FFFFFF;\n",
              "    }\n",
              "  </style>\n",
              "\n",
              "      <script>\n",
              "        const buttonEl =\n",
              "          document.querySelector('#df-1c92fd10-d4c1-418a-9f13-a62f02368eee button.colab-df-convert');\n",
              "        buttonEl.style.display =\n",
              "          google.colab.kernel.accessAllowed ? 'block' : 'none';\n",
              "\n",
              "        async function convertToInteractive(key) {\n",
              "          const element = document.querySelector('#df-1c92fd10-d4c1-418a-9f13-a62f02368eee');\n",
              "          const dataTable =\n",
              "            await google.colab.kernel.invokeFunction('convertToInteractive',\n",
              "                                                     [key], {});\n",
              "          if (!dataTable) return;\n",
              "\n",
              "          const docLinkHtml = 'Like what you see? Visit the ' +\n",
              "            '<a target=\"_blank\" href=https://colab.research.google.com/notebooks/data_table.ipynb>data table notebook</a>'\n",
              "            + ' to learn more about interactive tables.';\n",
              "          element.innerHTML = '';\n",
              "          dataTable['output_type'] = 'display_data';\n",
              "          await google.colab.output.renderOutput(dataTable, element);\n",
              "          const docLink = document.createElement('div');\n",
              "          docLink.innerHTML = docLinkHtml;\n",
              "          element.appendChild(docLink);\n",
              "        }\n",
              "      </script>\n",
              "    </div>\n",
              "  </div>\n",
              "  "
            ]
          },
          "metadata": {},
          "execution_count": 54
        }
      ]
    },
    {
      "cell_type": "markdown",
      "source": [
        "While not completely necessary, you can save these dataframes into a csv and add onto it every time you look at a new example."
      ],
      "metadata": {
        "id": "W30iB0ud4Lqj"
      }
    },
    {
      "cell_type": "code",
      "source": [
        "df_layer12 = pd.read_csv(\"/content/drive/MyDrive/cogs402longformer/results/papers/papers_attributions/cos_sim_layer12.csv\")\n",
        "df_all = pd.read_csv(\"/content/drive/MyDrive/cogs402longformer/results/papers/papers_attributions/cos_sim_all.csv\")"
      ],
      "metadata": {
        "id": "0wdSRDsTCN-J"
      },
      "execution_count": null,
      "outputs": []
    },
    {
      "cell_type": "code",
      "source": [
        "df_layer12"
      ],
      "metadata": {
        "colab": {
          "base_uri": "https://localhost:8080/",
          "height": 206
        },
        "id": "UlT8_ax5CwQT",
        "outputId": "5a1f78f0-117b-43d8-8419-3f182a7f0628"
      },
      "execution_count": null,
      "outputs": [
        {
          "output_type": "execute_result",
          "data": {
            "text/plain": [
              "   example  similarity normalized  similarity raw  \\\n",
              "0      148               0.147101       -0.020260   \n",
              "1      589               0.396823       -0.189594   \n",
              "2      605               0.299375       -0.165507   \n",
              "3      891               0.175846        0.022566   \n",
              "4      976               0.141923        0.082403   \n",
              "\n",
              "   sim_norm w/ median threshold  sim_norm w/ mean threshold  sim w/ ranks  \\\n",
              "0                      0.142670                    0.123295      0.826202   \n",
              "1                      0.392803                    0.383813      0.791068   \n",
              "2                      0.288221                    0.271128      0.802063   \n",
              "3                      0.173801                    0.157258      0.842796   \n",
              "4                      0.137433                    0.119868      0.823112   \n",
              "\n",
              "   kendall_tau       RBO  \n",
              "0          NaN       NaN  \n",
              "1          NaN       NaN  \n",
              "2          NaN       NaN  \n",
              "3          NaN       NaN  \n",
              "4     0.200135  0.594009  "
            ],
            "text/html": [
              "\n",
              "  <div id=\"df-9464862f-7905-4da4-97d0-daca238e395b\">\n",
              "    <div class=\"colab-df-container\">\n",
              "      <div>\n",
              "<style scoped>\n",
              "    .dataframe tbody tr th:only-of-type {\n",
              "        vertical-align: middle;\n",
              "    }\n",
              "\n",
              "    .dataframe tbody tr th {\n",
              "        vertical-align: top;\n",
              "    }\n",
              "\n",
              "    .dataframe thead th {\n",
              "        text-align: right;\n",
              "    }\n",
              "</style>\n",
              "<table border=\"1\" class=\"dataframe\">\n",
              "  <thead>\n",
              "    <tr style=\"text-align: right;\">\n",
              "      <th></th>\n",
              "      <th>example</th>\n",
              "      <th>similarity normalized</th>\n",
              "      <th>similarity raw</th>\n",
              "      <th>sim_norm w/ median threshold</th>\n",
              "      <th>sim_norm w/ mean threshold</th>\n",
              "      <th>sim w/ ranks</th>\n",
              "      <th>kendall_tau</th>\n",
              "      <th>RBO</th>\n",
              "    </tr>\n",
              "  </thead>\n",
              "  <tbody>\n",
              "    <tr>\n",
              "      <th>0</th>\n",
              "      <td>148</td>\n",
              "      <td>0.147101</td>\n",
              "      <td>-0.020260</td>\n",
              "      <td>0.142670</td>\n",
              "      <td>0.123295</td>\n",
              "      <td>0.826202</td>\n",
              "      <td>NaN</td>\n",
              "      <td>NaN</td>\n",
              "    </tr>\n",
              "    <tr>\n",
              "      <th>1</th>\n",
              "      <td>589</td>\n",
              "      <td>0.396823</td>\n",
              "      <td>-0.189594</td>\n",
              "      <td>0.392803</td>\n",
              "      <td>0.383813</td>\n",
              "      <td>0.791068</td>\n",
              "      <td>NaN</td>\n",
              "      <td>NaN</td>\n",
              "    </tr>\n",
              "    <tr>\n",
              "      <th>2</th>\n",
              "      <td>605</td>\n",
              "      <td>0.299375</td>\n",
              "      <td>-0.165507</td>\n",
              "      <td>0.288221</td>\n",
              "      <td>0.271128</td>\n",
              "      <td>0.802063</td>\n",
              "      <td>NaN</td>\n",
              "      <td>NaN</td>\n",
              "    </tr>\n",
              "    <tr>\n",
              "      <th>3</th>\n",
              "      <td>891</td>\n",
              "      <td>0.175846</td>\n",
              "      <td>0.022566</td>\n",
              "      <td>0.173801</td>\n",
              "      <td>0.157258</td>\n",
              "      <td>0.842796</td>\n",
              "      <td>NaN</td>\n",
              "      <td>NaN</td>\n",
              "    </tr>\n",
              "    <tr>\n",
              "      <th>4</th>\n",
              "      <td>976</td>\n",
              "      <td>0.141923</td>\n",
              "      <td>0.082403</td>\n",
              "      <td>0.137433</td>\n",
              "      <td>0.119868</td>\n",
              "      <td>0.823112</td>\n",
              "      <td>0.200135</td>\n",
              "      <td>0.594009</td>\n",
              "    </tr>\n",
              "  </tbody>\n",
              "</table>\n",
              "</div>\n",
              "      <button class=\"colab-df-convert\" onclick=\"convertToInteractive('df-9464862f-7905-4da4-97d0-daca238e395b')\"\n",
              "              title=\"Convert this dataframe to an interactive table.\"\n",
              "              style=\"display:none;\">\n",
              "        \n",
              "  <svg xmlns=\"http://www.w3.org/2000/svg\" height=\"24px\"viewBox=\"0 0 24 24\"\n",
              "       width=\"24px\">\n",
              "    <path d=\"M0 0h24v24H0V0z\" fill=\"none\"/>\n",
              "    <path d=\"M18.56 5.44l.94 2.06.94-2.06 2.06-.94-2.06-.94-.94-2.06-.94 2.06-2.06.94zm-11 1L8.5 8.5l.94-2.06 2.06-.94-2.06-.94L8.5 2.5l-.94 2.06-2.06.94zm10 10l.94 2.06.94-2.06 2.06-.94-2.06-.94-.94-2.06-.94 2.06-2.06.94z\"/><path d=\"M17.41 7.96l-1.37-1.37c-.4-.4-.92-.59-1.43-.59-.52 0-1.04.2-1.43.59L10.3 9.45l-7.72 7.72c-.78.78-.78 2.05 0 2.83L4 21.41c.39.39.9.59 1.41.59.51 0 1.02-.2 1.41-.59l7.78-7.78 2.81-2.81c.8-.78.8-2.07 0-2.86zM5.41 20L4 18.59l7.72-7.72 1.47 1.35L5.41 20z\"/>\n",
              "  </svg>\n",
              "      </button>\n",
              "      \n",
              "  <style>\n",
              "    .colab-df-container {\n",
              "      display:flex;\n",
              "      flex-wrap:wrap;\n",
              "      gap: 12px;\n",
              "    }\n",
              "\n",
              "    .colab-df-convert {\n",
              "      background-color: #E8F0FE;\n",
              "      border: none;\n",
              "      border-radius: 50%;\n",
              "      cursor: pointer;\n",
              "      display: none;\n",
              "      fill: #1967D2;\n",
              "      height: 32px;\n",
              "      padding: 0 0 0 0;\n",
              "      width: 32px;\n",
              "    }\n",
              "\n",
              "    .colab-df-convert:hover {\n",
              "      background-color: #E2EBFA;\n",
              "      box-shadow: 0px 1px 2px rgba(60, 64, 67, 0.3), 0px 1px 3px 1px rgba(60, 64, 67, 0.15);\n",
              "      fill: #174EA6;\n",
              "    }\n",
              "\n",
              "    [theme=dark] .colab-df-convert {\n",
              "      background-color: #3B4455;\n",
              "      fill: #D2E3FC;\n",
              "    }\n",
              "\n",
              "    [theme=dark] .colab-df-convert:hover {\n",
              "      background-color: #434B5C;\n",
              "      box-shadow: 0px 1px 3px 1px rgba(0, 0, 0, 0.15);\n",
              "      filter: drop-shadow(0px 1px 2px rgba(0, 0, 0, 0.3));\n",
              "      fill: #FFFFFF;\n",
              "    }\n",
              "  </style>\n",
              "\n",
              "      <script>\n",
              "        const buttonEl =\n",
              "          document.querySelector('#df-9464862f-7905-4da4-97d0-daca238e395b button.colab-df-convert');\n",
              "        buttonEl.style.display =\n",
              "          google.colab.kernel.accessAllowed ? 'block' : 'none';\n",
              "\n",
              "        async function convertToInteractive(key) {\n",
              "          const element = document.querySelector('#df-9464862f-7905-4da4-97d0-daca238e395b');\n",
              "          const dataTable =\n",
              "            await google.colab.kernel.invokeFunction('convertToInteractive',\n",
              "                                                     [key], {});\n",
              "          if (!dataTable) return;\n",
              "\n",
              "          const docLinkHtml = 'Like what you see? Visit the ' +\n",
              "            '<a target=\"_blank\" href=https://colab.research.google.com/notebooks/data_table.ipynb>data table notebook</a>'\n",
              "            + ' to learn more about interactive tables.';\n",
              "          element.innerHTML = '';\n",
              "          dataTable['output_type'] = 'display_data';\n",
              "          await google.colab.output.renderOutput(dataTable, element);\n",
              "          const docLink = document.createElement('div');\n",
              "          docLink.innerHTML = docLinkHtml;\n",
              "          element.appendChild(docLink);\n",
              "        }\n",
              "      </script>\n",
              "    </div>\n",
              "  </div>\n",
              "  "
            ]
          },
          "metadata": {},
          "execution_count": 56
        }
      ]
    },
    {
      "cell_type": "code",
      "source": [
        "df_all"
      ],
      "metadata": {
        "colab": {
          "base_uri": "https://localhost:8080/",
          "height": 206
        },
        "id": "o0P3tm47FP2N",
        "outputId": "86ef5e65-e838-42f1-8a92-fb34552c7c07"
      },
      "execution_count": null,
      "outputs": [
        {
          "output_type": "execute_result",
          "data": {
            "text/plain": [
              "   example  similarity normalized  similarity raw  \\\n",
              "0      148               0.140745        0.016048   \n",
              "1      589               0.180767       -0.119204   \n",
              "2      605               0.249735       -0.219944   \n",
              "3      891               0.104379       -0.012725   \n",
              "4      976               0.115270        0.096755   \n",
              "\n",
              "   sim_norm w/ median threshold  sim_norm w/ mean threshold  sim w/ ranks  \\\n",
              "0                      0.134218                    0.123968      0.805108   \n",
              "1                      0.170673                    0.159155      0.807287   \n",
              "2                      0.233159                    0.219811      0.784505   \n",
              "3                      0.100741                    0.089762      0.799092   \n",
              "4                      0.109309                    0.097665      0.819613   \n",
              "\n",
              "   kendall_tau       RBO  \n",
              "0          NaN       NaN  \n",
              "1          NaN       NaN  \n",
              "2          NaN       NaN  \n",
              "3          NaN       NaN  \n",
              "4     0.188624  0.595658  "
            ],
            "text/html": [
              "\n",
              "  <div id=\"df-08d5f76e-e678-4705-ba0c-967d42f00a95\">\n",
              "    <div class=\"colab-df-container\">\n",
              "      <div>\n",
              "<style scoped>\n",
              "    .dataframe tbody tr th:only-of-type {\n",
              "        vertical-align: middle;\n",
              "    }\n",
              "\n",
              "    .dataframe tbody tr th {\n",
              "        vertical-align: top;\n",
              "    }\n",
              "\n",
              "    .dataframe thead th {\n",
              "        text-align: right;\n",
              "    }\n",
              "</style>\n",
              "<table border=\"1\" class=\"dataframe\">\n",
              "  <thead>\n",
              "    <tr style=\"text-align: right;\">\n",
              "      <th></th>\n",
              "      <th>example</th>\n",
              "      <th>similarity normalized</th>\n",
              "      <th>similarity raw</th>\n",
              "      <th>sim_norm w/ median threshold</th>\n",
              "      <th>sim_norm w/ mean threshold</th>\n",
              "      <th>sim w/ ranks</th>\n",
              "      <th>kendall_tau</th>\n",
              "      <th>RBO</th>\n",
              "    </tr>\n",
              "  </thead>\n",
              "  <tbody>\n",
              "    <tr>\n",
              "      <th>0</th>\n",
              "      <td>148</td>\n",
              "      <td>0.140745</td>\n",
              "      <td>0.016048</td>\n",
              "      <td>0.134218</td>\n",
              "      <td>0.123968</td>\n",
              "      <td>0.805108</td>\n",
              "      <td>NaN</td>\n",
              "      <td>NaN</td>\n",
              "    </tr>\n",
              "    <tr>\n",
              "      <th>1</th>\n",
              "      <td>589</td>\n",
              "      <td>0.180767</td>\n",
              "      <td>-0.119204</td>\n",
              "      <td>0.170673</td>\n",
              "      <td>0.159155</td>\n",
              "      <td>0.807287</td>\n",
              "      <td>NaN</td>\n",
              "      <td>NaN</td>\n",
              "    </tr>\n",
              "    <tr>\n",
              "      <th>2</th>\n",
              "      <td>605</td>\n",
              "      <td>0.249735</td>\n",
              "      <td>-0.219944</td>\n",
              "      <td>0.233159</td>\n",
              "      <td>0.219811</td>\n",
              "      <td>0.784505</td>\n",
              "      <td>NaN</td>\n",
              "      <td>NaN</td>\n",
              "    </tr>\n",
              "    <tr>\n",
              "      <th>3</th>\n",
              "      <td>891</td>\n",
              "      <td>0.104379</td>\n",
              "      <td>-0.012725</td>\n",
              "      <td>0.100741</td>\n",
              "      <td>0.089762</td>\n",
              "      <td>0.799092</td>\n",
              "      <td>NaN</td>\n",
              "      <td>NaN</td>\n",
              "    </tr>\n",
              "    <tr>\n",
              "      <th>4</th>\n",
              "      <td>976</td>\n",
              "      <td>0.115270</td>\n",
              "      <td>0.096755</td>\n",
              "      <td>0.109309</td>\n",
              "      <td>0.097665</td>\n",
              "      <td>0.819613</td>\n",
              "      <td>0.188624</td>\n",
              "      <td>0.595658</td>\n",
              "    </tr>\n",
              "  </tbody>\n",
              "</table>\n",
              "</div>\n",
              "      <button class=\"colab-df-convert\" onclick=\"convertToInteractive('df-08d5f76e-e678-4705-ba0c-967d42f00a95')\"\n",
              "              title=\"Convert this dataframe to an interactive table.\"\n",
              "              style=\"display:none;\">\n",
              "        \n",
              "  <svg xmlns=\"http://www.w3.org/2000/svg\" height=\"24px\"viewBox=\"0 0 24 24\"\n",
              "       width=\"24px\">\n",
              "    <path d=\"M0 0h24v24H0V0z\" fill=\"none\"/>\n",
              "    <path d=\"M18.56 5.44l.94 2.06.94-2.06 2.06-.94-2.06-.94-.94-2.06-.94 2.06-2.06.94zm-11 1L8.5 8.5l.94-2.06 2.06-.94-2.06-.94L8.5 2.5l-.94 2.06-2.06.94zm10 10l.94 2.06.94-2.06 2.06-.94-2.06-.94-.94-2.06-.94 2.06-2.06.94z\"/><path d=\"M17.41 7.96l-1.37-1.37c-.4-.4-.92-.59-1.43-.59-.52 0-1.04.2-1.43.59L10.3 9.45l-7.72 7.72c-.78.78-.78 2.05 0 2.83L4 21.41c.39.39.9.59 1.41.59.51 0 1.02-.2 1.41-.59l7.78-7.78 2.81-2.81c.8-.78.8-2.07 0-2.86zM5.41 20L4 18.59l7.72-7.72 1.47 1.35L5.41 20z\"/>\n",
              "  </svg>\n",
              "      </button>\n",
              "      \n",
              "  <style>\n",
              "    .colab-df-container {\n",
              "      display:flex;\n",
              "      flex-wrap:wrap;\n",
              "      gap: 12px;\n",
              "    }\n",
              "\n",
              "    .colab-df-convert {\n",
              "      background-color: #E8F0FE;\n",
              "      border: none;\n",
              "      border-radius: 50%;\n",
              "      cursor: pointer;\n",
              "      display: none;\n",
              "      fill: #1967D2;\n",
              "      height: 32px;\n",
              "      padding: 0 0 0 0;\n",
              "      width: 32px;\n",
              "    }\n",
              "\n",
              "    .colab-df-convert:hover {\n",
              "      background-color: #E2EBFA;\n",
              "      box-shadow: 0px 1px 2px rgba(60, 64, 67, 0.3), 0px 1px 3px 1px rgba(60, 64, 67, 0.15);\n",
              "      fill: #174EA6;\n",
              "    }\n",
              "\n",
              "    [theme=dark] .colab-df-convert {\n",
              "      background-color: #3B4455;\n",
              "      fill: #D2E3FC;\n",
              "    }\n",
              "\n",
              "    [theme=dark] .colab-df-convert:hover {\n",
              "      background-color: #434B5C;\n",
              "      box-shadow: 0px 1px 3px 1px rgba(0, 0, 0, 0.15);\n",
              "      filter: drop-shadow(0px 1px 2px rgba(0, 0, 0, 0.3));\n",
              "      fill: #FFFFFF;\n",
              "    }\n",
              "  </style>\n",
              "\n",
              "      <script>\n",
              "        const buttonEl =\n",
              "          document.querySelector('#df-08d5f76e-e678-4705-ba0c-967d42f00a95 button.colab-df-convert');\n",
              "        buttonEl.style.display =\n",
              "          google.colab.kernel.accessAllowed ? 'block' : 'none';\n",
              "\n",
              "        async function convertToInteractive(key) {\n",
              "          const element = document.querySelector('#df-08d5f76e-e678-4705-ba0c-967d42f00a95');\n",
              "          const dataTable =\n",
              "            await google.colab.kernel.invokeFunction('convertToInteractive',\n",
              "                                                     [key], {});\n",
              "          if (!dataTable) return;\n",
              "\n",
              "          const docLinkHtml = 'Like what you see? Visit the ' +\n",
              "            '<a target=\"_blank\" href=https://colab.research.google.com/notebooks/data_table.ipynb>data table notebook</a>'\n",
              "            + ' to learn more about interactive tables.';\n",
              "          element.innerHTML = '';\n",
              "          dataTable['output_type'] = 'display_data';\n",
              "          await google.colab.output.renderOutput(dataTable, element);\n",
              "          const docLink = document.createElement('div');\n",
              "          docLink.innerHTML = docLinkHtml;\n",
              "          element.appendChild(docLink);\n",
              "        }\n",
              "      </script>\n",
              "    </div>\n",
              "  </div>\n",
              "  "
            ]
          },
          "metadata": {},
          "execution_count": 57
        }
      ]
    },
    {
      "cell_type": "markdown",
      "source": [
        "Append the new row into the dataframe."
      ],
      "metadata": {
        "id": "RSbHulrIOjG7"
      }
    },
    {
      "cell_type": "code",
      "source": [
        "df_layer12 = pd.concat([df_layer12, df], axis=0)\n",
        "df_all = pd.concat([df_all, df2], axis=0)"
      ],
      "metadata": {
        "id": "-xxzlJwpCeX0"
      },
      "execution_count": null,
      "outputs": []
    },
    {
      "cell_type": "code",
      "source": [
        "df_layer12"
      ],
      "metadata": {
        "colab": {
          "base_uri": "https://localhost:8080/",
          "height": 238
        },
        "id": "pW8I8FIXJWrN",
        "outputId": "6d3300f2-49b8-4b2f-8aa9-5254dcac92f3"
      },
      "execution_count": null,
      "outputs": [
        {
          "output_type": "execute_result",
          "data": {
            "text/plain": [
              "   example  similarity normalized  similarity raw  \\\n",
              "0      148               0.147101       -0.020260   \n",
              "1      589               0.396823       -0.189594   \n",
              "2      605               0.299375       -0.165507   \n",
              "3      891               0.175846        0.022566   \n",
              "4      976               0.141923        0.082403   \n",
              "0      976               0.141923        0.082403   \n",
              "\n",
              "   sim_norm w/ median threshold  sim_norm w/ mean threshold  sim w/ ranks  \\\n",
              "0                      0.142670                    0.123295      0.826202   \n",
              "1                      0.392803                    0.383813      0.791068   \n",
              "2                      0.288221                    0.271128      0.802063   \n",
              "3                      0.173801                    0.157258      0.842796   \n",
              "4                      0.137433                    0.119868      0.823112   \n",
              "0                      0.137433                    0.119868      0.823112   \n",
              "\n",
              "   kendall_tau       RBO  \n",
              "0          NaN       NaN  \n",
              "1          NaN       NaN  \n",
              "2          NaN       NaN  \n",
              "3          NaN       NaN  \n",
              "4     0.200135  0.594009  \n",
              "0     0.200135  0.594009  "
            ],
            "text/html": [
              "\n",
              "  <div id=\"df-8b625a13-4a04-42d9-8cbe-72c5ae132f24\">\n",
              "    <div class=\"colab-df-container\">\n",
              "      <div>\n",
              "<style scoped>\n",
              "    .dataframe tbody tr th:only-of-type {\n",
              "        vertical-align: middle;\n",
              "    }\n",
              "\n",
              "    .dataframe tbody tr th {\n",
              "        vertical-align: top;\n",
              "    }\n",
              "\n",
              "    .dataframe thead th {\n",
              "        text-align: right;\n",
              "    }\n",
              "</style>\n",
              "<table border=\"1\" class=\"dataframe\">\n",
              "  <thead>\n",
              "    <tr style=\"text-align: right;\">\n",
              "      <th></th>\n",
              "      <th>example</th>\n",
              "      <th>similarity normalized</th>\n",
              "      <th>similarity raw</th>\n",
              "      <th>sim_norm w/ median threshold</th>\n",
              "      <th>sim_norm w/ mean threshold</th>\n",
              "      <th>sim w/ ranks</th>\n",
              "      <th>kendall_tau</th>\n",
              "      <th>RBO</th>\n",
              "    </tr>\n",
              "  </thead>\n",
              "  <tbody>\n",
              "    <tr>\n",
              "      <th>0</th>\n",
              "      <td>148</td>\n",
              "      <td>0.147101</td>\n",
              "      <td>-0.020260</td>\n",
              "      <td>0.142670</td>\n",
              "      <td>0.123295</td>\n",
              "      <td>0.826202</td>\n",
              "      <td>NaN</td>\n",
              "      <td>NaN</td>\n",
              "    </tr>\n",
              "    <tr>\n",
              "      <th>1</th>\n",
              "      <td>589</td>\n",
              "      <td>0.396823</td>\n",
              "      <td>-0.189594</td>\n",
              "      <td>0.392803</td>\n",
              "      <td>0.383813</td>\n",
              "      <td>0.791068</td>\n",
              "      <td>NaN</td>\n",
              "      <td>NaN</td>\n",
              "    </tr>\n",
              "    <tr>\n",
              "      <th>2</th>\n",
              "      <td>605</td>\n",
              "      <td>0.299375</td>\n",
              "      <td>-0.165507</td>\n",
              "      <td>0.288221</td>\n",
              "      <td>0.271128</td>\n",
              "      <td>0.802063</td>\n",
              "      <td>NaN</td>\n",
              "      <td>NaN</td>\n",
              "    </tr>\n",
              "    <tr>\n",
              "      <th>3</th>\n",
              "      <td>891</td>\n",
              "      <td>0.175846</td>\n",
              "      <td>0.022566</td>\n",
              "      <td>0.173801</td>\n",
              "      <td>0.157258</td>\n",
              "      <td>0.842796</td>\n",
              "      <td>NaN</td>\n",
              "      <td>NaN</td>\n",
              "    </tr>\n",
              "    <tr>\n",
              "      <th>4</th>\n",
              "      <td>976</td>\n",
              "      <td>0.141923</td>\n",
              "      <td>0.082403</td>\n",
              "      <td>0.137433</td>\n",
              "      <td>0.119868</td>\n",
              "      <td>0.823112</td>\n",
              "      <td>0.200135</td>\n",
              "      <td>0.594009</td>\n",
              "    </tr>\n",
              "    <tr>\n",
              "      <th>0</th>\n",
              "      <td>976</td>\n",
              "      <td>0.141923</td>\n",
              "      <td>0.082403</td>\n",
              "      <td>0.137433</td>\n",
              "      <td>0.119868</td>\n",
              "      <td>0.823112</td>\n",
              "      <td>0.200135</td>\n",
              "      <td>0.594009</td>\n",
              "    </tr>\n",
              "  </tbody>\n",
              "</table>\n",
              "</div>\n",
              "      <button class=\"colab-df-convert\" onclick=\"convertToInteractive('df-8b625a13-4a04-42d9-8cbe-72c5ae132f24')\"\n",
              "              title=\"Convert this dataframe to an interactive table.\"\n",
              "              style=\"display:none;\">\n",
              "        \n",
              "  <svg xmlns=\"http://www.w3.org/2000/svg\" height=\"24px\"viewBox=\"0 0 24 24\"\n",
              "       width=\"24px\">\n",
              "    <path d=\"M0 0h24v24H0V0z\" fill=\"none\"/>\n",
              "    <path d=\"M18.56 5.44l.94 2.06.94-2.06 2.06-.94-2.06-.94-.94-2.06-.94 2.06-2.06.94zm-11 1L8.5 8.5l.94-2.06 2.06-.94-2.06-.94L8.5 2.5l-.94 2.06-2.06.94zm10 10l.94 2.06.94-2.06 2.06-.94-2.06-.94-.94-2.06-.94 2.06-2.06.94z\"/><path d=\"M17.41 7.96l-1.37-1.37c-.4-.4-.92-.59-1.43-.59-.52 0-1.04.2-1.43.59L10.3 9.45l-7.72 7.72c-.78.78-.78 2.05 0 2.83L4 21.41c.39.39.9.59 1.41.59.51 0 1.02-.2 1.41-.59l7.78-7.78 2.81-2.81c.8-.78.8-2.07 0-2.86zM5.41 20L4 18.59l7.72-7.72 1.47 1.35L5.41 20z\"/>\n",
              "  </svg>\n",
              "      </button>\n",
              "      \n",
              "  <style>\n",
              "    .colab-df-container {\n",
              "      display:flex;\n",
              "      flex-wrap:wrap;\n",
              "      gap: 12px;\n",
              "    }\n",
              "\n",
              "    .colab-df-convert {\n",
              "      background-color: #E8F0FE;\n",
              "      border: none;\n",
              "      border-radius: 50%;\n",
              "      cursor: pointer;\n",
              "      display: none;\n",
              "      fill: #1967D2;\n",
              "      height: 32px;\n",
              "      padding: 0 0 0 0;\n",
              "      width: 32px;\n",
              "    }\n",
              "\n",
              "    .colab-df-convert:hover {\n",
              "      background-color: #E2EBFA;\n",
              "      box-shadow: 0px 1px 2px rgba(60, 64, 67, 0.3), 0px 1px 3px 1px rgba(60, 64, 67, 0.15);\n",
              "      fill: #174EA6;\n",
              "    }\n",
              "\n",
              "    [theme=dark] .colab-df-convert {\n",
              "      background-color: #3B4455;\n",
              "      fill: #D2E3FC;\n",
              "    }\n",
              "\n",
              "    [theme=dark] .colab-df-convert:hover {\n",
              "      background-color: #434B5C;\n",
              "      box-shadow: 0px 1px 3px 1px rgba(0, 0, 0, 0.15);\n",
              "      filter: drop-shadow(0px 1px 2px rgba(0, 0, 0, 0.3));\n",
              "      fill: #FFFFFF;\n",
              "    }\n",
              "  </style>\n",
              "\n",
              "      <script>\n",
              "        const buttonEl =\n",
              "          document.querySelector('#df-8b625a13-4a04-42d9-8cbe-72c5ae132f24 button.colab-df-convert');\n",
              "        buttonEl.style.display =\n",
              "          google.colab.kernel.accessAllowed ? 'block' : 'none';\n",
              "\n",
              "        async function convertToInteractive(key) {\n",
              "          const element = document.querySelector('#df-8b625a13-4a04-42d9-8cbe-72c5ae132f24');\n",
              "          const dataTable =\n",
              "            await google.colab.kernel.invokeFunction('convertToInteractive',\n",
              "                                                     [key], {});\n",
              "          if (!dataTable) return;\n",
              "\n",
              "          const docLinkHtml = 'Like what you see? Visit the ' +\n",
              "            '<a target=\"_blank\" href=https://colab.research.google.com/notebooks/data_table.ipynb>data table notebook</a>'\n",
              "            + ' to learn more about interactive tables.';\n",
              "          element.innerHTML = '';\n",
              "          dataTable['output_type'] = 'display_data';\n",
              "          await google.colab.output.renderOutput(dataTable, element);\n",
              "          const docLink = document.createElement('div');\n",
              "          docLink.innerHTML = docLinkHtml;\n",
              "          element.appendChild(docLink);\n",
              "        }\n",
              "      </script>\n",
              "    </div>\n",
              "  </div>\n",
              "  "
            ]
          },
          "metadata": {},
          "execution_count": 59
        }
      ]
    },
    {
      "cell_type": "code",
      "source": [
        "df_all"
      ],
      "metadata": {
        "colab": {
          "base_uri": "https://localhost:8080/",
          "height": 238
        },
        "id": "GGbVSSH4JUUG",
        "outputId": "91ff1774-b83b-40f6-f36d-3cdcc2909b94"
      },
      "execution_count": null,
      "outputs": [
        {
          "output_type": "execute_result",
          "data": {
            "text/plain": [
              "   example  similarity normalized  similarity raw  \\\n",
              "0      148               0.140745        0.016048   \n",
              "1      589               0.180767       -0.119204   \n",
              "2      605               0.249735       -0.219944   \n",
              "3      891               0.104379       -0.012725   \n",
              "4      976               0.115270        0.096755   \n",
              "0      976               0.115270        0.096755   \n",
              "\n",
              "   sim_norm w/ median threshold  sim_norm w/ mean threshold  sim w/ ranks  \\\n",
              "0                      0.134218                    0.123968      0.805108   \n",
              "1                      0.170673                    0.159155      0.807287   \n",
              "2                      0.233159                    0.219811      0.784505   \n",
              "3                      0.100741                    0.089762      0.799092   \n",
              "4                      0.109309                    0.097665      0.819613   \n",
              "0                      0.109309                    0.097665      0.819613   \n",
              "\n",
              "   kendall_tau       RBO  \n",
              "0          NaN       NaN  \n",
              "1          NaN       NaN  \n",
              "2          NaN       NaN  \n",
              "3          NaN       NaN  \n",
              "4     0.188624  0.595658  \n",
              "0     0.188624  0.595658  "
            ],
            "text/html": [
              "\n",
              "  <div id=\"df-c2c49519-a657-4dab-acbc-37f976f53da3\">\n",
              "    <div class=\"colab-df-container\">\n",
              "      <div>\n",
              "<style scoped>\n",
              "    .dataframe tbody tr th:only-of-type {\n",
              "        vertical-align: middle;\n",
              "    }\n",
              "\n",
              "    .dataframe tbody tr th {\n",
              "        vertical-align: top;\n",
              "    }\n",
              "\n",
              "    .dataframe thead th {\n",
              "        text-align: right;\n",
              "    }\n",
              "</style>\n",
              "<table border=\"1\" class=\"dataframe\">\n",
              "  <thead>\n",
              "    <tr style=\"text-align: right;\">\n",
              "      <th></th>\n",
              "      <th>example</th>\n",
              "      <th>similarity normalized</th>\n",
              "      <th>similarity raw</th>\n",
              "      <th>sim_norm w/ median threshold</th>\n",
              "      <th>sim_norm w/ mean threshold</th>\n",
              "      <th>sim w/ ranks</th>\n",
              "      <th>kendall_tau</th>\n",
              "      <th>RBO</th>\n",
              "    </tr>\n",
              "  </thead>\n",
              "  <tbody>\n",
              "    <tr>\n",
              "      <th>0</th>\n",
              "      <td>148</td>\n",
              "      <td>0.140745</td>\n",
              "      <td>0.016048</td>\n",
              "      <td>0.134218</td>\n",
              "      <td>0.123968</td>\n",
              "      <td>0.805108</td>\n",
              "      <td>NaN</td>\n",
              "      <td>NaN</td>\n",
              "    </tr>\n",
              "    <tr>\n",
              "      <th>1</th>\n",
              "      <td>589</td>\n",
              "      <td>0.180767</td>\n",
              "      <td>-0.119204</td>\n",
              "      <td>0.170673</td>\n",
              "      <td>0.159155</td>\n",
              "      <td>0.807287</td>\n",
              "      <td>NaN</td>\n",
              "      <td>NaN</td>\n",
              "    </tr>\n",
              "    <tr>\n",
              "      <th>2</th>\n",
              "      <td>605</td>\n",
              "      <td>0.249735</td>\n",
              "      <td>-0.219944</td>\n",
              "      <td>0.233159</td>\n",
              "      <td>0.219811</td>\n",
              "      <td>0.784505</td>\n",
              "      <td>NaN</td>\n",
              "      <td>NaN</td>\n",
              "    </tr>\n",
              "    <tr>\n",
              "      <th>3</th>\n",
              "      <td>891</td>\n",
              "      <td>0.104379</td>\n",
              "      <td>-0.012725</td>\n",
              "      <td>0.100741</td>\n",
              "      <td>0.089762</td>\n",
              "      <td>0.799092</td>\n",
              "      <td>NaN</td>\n",
              "      <td>NaN</td>\n",
              "    </tr>\n",
              "    <tr>\n",
              "      <th>4</th>\n",
              "      <td>976</td>\n",
              "      <td>0.115270</td>\n",
              "      <td>0.096755</td>\n",
              "      <td>0.109309</td>\n",
              "      <td>0.097665</td>\n",
              "      <td>0.819613</td>\n",
              "      <td>0.188624</td>\n",
              "      <td>0.595658</td>\n",
              "    </tr>\n",
              "    <tr>\n",
              "      <th>0</th>\n",
              "      <td>976</td>\n",
              "      <td>0.115270</td>\n",
              "      <td>0.096755</td>\n",
              "      <td>0.109309</td>\n",
              "      <td>0.097665</td>\n",
              "      <td>0.819613</td>\n",
              "      <td>0.188624</td>\n",
              "      <td>0.595658</td>\n",
              "    </tr>\n",
              "  </tbody>\n",
              "</table>\n",
              "</div>\n",
              "      <button class=\"colab-df-convert\" onclick=\"convertToInteractive('df-c2c49519-a657-4dab-acbc-37f976f53da3')\"\n",
              "              title=\"Convert this dataframe to an interactive table.\"\n",
              "              style=\"display:none;\">\n",
              "        \n",
              "  <svg xmlns=\"http://www.w3.org/2000/svg\" height=\"24px\"viewBox=\"0 0 24 24\"\n",
              "       width=\"24px\">\n",
              "    <path d=\"M0 0h24v24H0V0z\" fill=\"none\"/>\n",
              "    <path d=\"M18.56 5.44l.94 2.06.94-2.06 2.06-.94-2.06-.94-.94-2.06-.94 2.06-2.06.94zm-11 1L8.5 8.5l.94-2.06 2.06-.94-2.06-.94L8.5 2.5l-.94 2.06-2.06.94zm10 10l.94 2.06.94-2.06 2.06-.94-2.06-.94-.94-2.06-.94 2.06-2.06.94z\"/><path d=\"M17.41 7.96l-1.37-1.37c-.4-.4-.92-.59-1.43-.59-.52 0-1.04.2-1.43.59L10.3 9.45l-7.72 7.72c-.78.78-.78 2.05 0 2.83L4 21.41c.39.39.9.59 1.41.59.51 0 1.02-.2 1.41-.59l7.78-7.78 2.81-2.81c.8-.78.8-2.07 0-2.86zM5.41 20L4 18.59l7.72-7.72 1.47 1.35L5.41 20z\"/>\n",
              "  </svg>\n",
              "      </button>\n",
              "      \n",
              "  <style>\n",
              "    .colab-df-container {\n",
              "      display:flex;\n",
              "      flex-wrap:wrap;\n",
              "      gap: 12px;\n",
              "    }\n",
              "\n",
              "    .colab-df-convert {\n",
              "      background-color: #E8F0FE;\n",
              "      border: none;\n",
              "      border-radius: 50%;\n",
              "      cursor: pointer;\n",
              "      display: none;\n",
              "      fill: #1967D2;\n",
              "      height: 32px;\n",
              "      padding: 0 0 0 0;\n",
              "      width: 32px;\n",
              "    }\n",
              "\n",
              "    .colab-df-convert:hover {\n",
              "      background-color: #E2EBFA;\n",
              "      box-shadow: 0px 1px 2px rgba(60, 64, 67, 0.3), 0px 1px 3px 1px rgba(60, 64, 67, 0.15);\n",
              "      fill: #174EA6;\n",
              "    }\n",
              "\n",
              "    [theme=dark] .colab-df-convert {\n",
              "      background-color: #3B4455;\n",
              "      fill: #D2E3FC;\n",
              "    }\n",
              "\n",
              "    [theme=dark] .colab-df-convert:hover {\n",
              "      background-color: #434B5C;\n",
              "      box-shadow: 0px 1px 3px 1px rgba(0, 0, 0, 0.15);\n",
              "      filter: drop-shadow(0px 1px 2px rgba(0, 0, 0, 0.3));\n",
              "      fill: #FFFFFF;\n",
              "    }\n",
              "  </style>\n",
              "\n",
              "      <script>\n",
              "        const buttonEl =\n",
              "          document.querySelector('#df-c2c49519-a657-4dab-acbc-37f976f53da3 button.colab-df-convert');\n",
              "        buttonEl.style.display =\n",
              "          google.colab.kernel.accessAllowed ? 'block' : 'none';\n",
              "\n",
              "        async function convertToInteractive(key) {\n",
              "          const element = document.querySelector('#df-c2c49519-a657-4dab-acbc-37f976f53da3');\n",
              "          const dataTable =\n",
              "            await google.colab.kernel.invokeFunction('convertToInteractive',\n",
              "                                                     [key], {});\n",
              "          if (!dataTable) return;\n",
              "\n",
              "          const docLinkHtml = 'Like what you see? Visit the ' +\n",
              "            '<a target=\"_blank\" href=https://colab.research.google.com/notebooks/data_table.ipynb>data table notebook</a>'\n",
              "            + ' to learn more about interactive tables.';\n",
              "          element.innerHTML = '';\n",
              "          dataTable['output_type'] = 'display_data';\n",
              "          await google.colab.output.renderOutput(dataTable, element);\n",
              "          const docLink = document.createElement('div');\n",
              "          docLink.innerHTML = docLinkHtml;\n",
              "          element.appendChild(docLink);\n",
              "        }\n",
              "      </script>\n",
              "    </div>\n",
              "  </div>\n",
              "  "
            ]
          },
          "metadata": {},
          "execution_count": 60
        }
      ]
    },
    {
      "cell_type": "markdown",
      "source": [
        "When we concatenate our two dataframes, we want to make sure we don't have any duplicate rows. We consider it a duplicate if two rows have the same example number. If we find a do find duplicate rows based on the above condition, the last occuring instance of the row, which is the instance that was obtained earlier in the notebook (and not the instance that was read from file), is kept in the dataframe."
      ],
      "metadata": {
        "id": "iOdeD4RaNacC"
      }
    },
    {
      "cell_type": "code",
      "source": [
        "df_layer12 = df_layer12.drop_duplicates(['example'], keep='last')\n",
        "df_all = df_all.drop_duplicates(['example'], keep='last')"
      ],
      "metadata": {
        "id": "LqWi3gJQNUvj"
      },
      "execution_count": null,
      "outputs": []
    },
    {
      "cell_type": "markdown",
      "source": [
        "Sort the rows by example number."
      ],
      "metadata": {
        "id": "ca-5lHk34Vnw"
      }
    },
    {
      "cell_type": "code",
      "source": [
        "df_layer12 = df_layer12.sort_values(by=['example'])\n",
        "df_all = df_all.sort_values(by=['example'])"
      ],
      "metadata": {
        "id": "aFUDQ5Q8ojhx"
      },
      "execution_count": null,
      "outputs": []
    },
    {
      "cell_type": "markdown",
      "source": [
        "Save the dataframe"
      ],
      "metadata": {
        "id": "crIEOZx6OnpZ"
      }
    },
    {
      "cell_type": "code",
      "source": [
        "# df_layer12.to_csv(\"/content/drive/MyDrive/cogs402longformer/results/papers/papers_attributions/cos_sim_layer12.csv\", index=False)\n",
        "# df_all.to_csv(\"/content/drive/MyDrive/cogs402longformer/results/papers/papers_attributions/cos_sim_all.csv\", index=False)"
      ],
      "metadata": {
        "id": "qlQRunAqC3fa"
      },
      "execution_count": null,
      "outputs": []
    },
    {
      "cell_type": "markdown",
      "source": [
        "## Comparing Only the Highest Attentions and Attributions"
      ],
      "metadata": {
        "id": "k6P3uR324z0v"
      }
    },
    {
      "cell_type": "markdown",
      "source": [
        "With long pieces of text, it is generally unlikely that two tokens will have the same rankings. However, the intuition is that if the tokens have really high attributions, then it might have really high attentions as that might be what the model focused on when doing the predictions. As such, "
      ],
      "metadata": {
        "id": "r7kNTsdDTtHO"
      }
    },
    {
      "cell_type": "markdown",
      "source": [
        "As such, we apply the same series of functions as we did for masking all the values below the median, but this time we mask all the values below the 95th percentile. "
      ],
      "metadata": {
        "id": "6AcENwK85Gdh"
      }
    },
    {
      "cell_type": "code",
      "source": [
        "attention_final_layer5 = np.copy(attention_final_layer)\n",
        "attention_final_layer5 = normalize(attention_final_layer5)\n",
        "\n",
        "attention_all_layer5 = np.copy(attention_all_layer) \n",
        "attention_all_layer5 = normalize(attention_all_layer5)\n",
        "\n",
        "exam_attrib5 = np.abs(exam_attrib)\n",
        "exam_attrib5 = normalize(exam_attrib5)\n",
        "print(exam_attrib5)"
      ],
      "metadata": {
        "id": "R3ftA3vQBCu5",
        "colab": {
          "base_uri": "https://localhost:8080/"
        },
        "outputId": "fb8c4d43-0d8e-4bc5-8411-83e88e3c3fc2"
      },
      "execution_count": null,
      "outputs": [
        {
          "output_type": "stream",
          "name": "stdout",
          "text": [
            "[0.00000000e+00 3.09815393e-03 2.46389383e-04 ... 4.17945981e-05\n",
            " 1.87499117e-03 0.00000000e+00]\n"
          ]
        }
      ]
    },
    {
      "cell_type": "code",
      "source": [
        "top_final = np.percentile(attention_final_layer5, 95)\n",
        "top_all = np.percentile(attention_all_layer5, 95)\n",
        "top_attrib = np.percentile(exam_attrib5, 95)\n",
        "print(top_attrib)"
      ],
      "metadata": {
        "id": "hJAxo97YOCey",
        "colab": {
          "base_uri": "https://localhost:8080/"
        },
        "outputId": "63ef67b7-bbda-45d5-a03c-a6e03b6beeac"
      },
      "execution_count": null,
      "outputs": [
        {
          "output_type": "stream",
          "name": "stdout",
          "text": [
            "0.0348539137587435\n"
          ]
        }
      ]
    },
    {
      "cell_type": "code",
      "source": [
        "attention_final_layer5[attention_final_layer5<top_final] = 0\n",
        "attention_all_layer5[attention_all_layer5<top_all] = 0\n",
        "exam_attrib5[exam_attrib5<top_attrib] = 0"
      ],
      "metadata": {
        "id": "Cejei_JPPQRq"
      },
      "execution_count": null,
      "outputs": []
    },
    {
      "cell_type": "code",
      "source": [
        "print(exam_attrib5)"
      ],
      "metadata": {
        "colab": {
          "base_uri": "https://localhost:8080/"
        },
        "id": "CLwaUUcUruOl",
        "outputId": "ad5d1683-6407-48be-f831-9988c8910c97"
      },
      "execution_count": null,
      "outputs": [
        {
          "output_type": "stream",
          "name": "stdout",
          "text": [
            "[0. 0. 0. ... 0. 0. 0.]\n"
          ]
        }
      ]
    },
    {
      "cell_type": "markdown",
      "source": [
        "Calculating cosine similarities again with our new array."
      ],
      "metadata": {
        "id": "Lufvg5W95Pmq"
      }
    },
    {
      "cell_type": "code",
      "source": [
        "cosine_thresh = np.dot(exam_attrib5, attention_final_layer5) / (norm(exam_attrib5)*norm(attention_final_layer5))\n",
        "print(\"Layer 12 Cosine Similarity 95th:\\n\", cosine_thresh)\n",
        "cosine_thresh2 = np.dot(exam_attrib5, attention_all_layer5) / (norm(exam_attrib5)*norm(attention_all_layer5))\n",
        "print(\"All layer Cosine Similarity 95th:\\n\", cosine_thresh2)"
      ],
      "metadata": {
        "colab": {
          "base_uri": "https://localhost:8080/"
        },
        "id": "avMBmrohlBV1",
        "outputId": "9b641684-8c6c-4aab-e6bc-b8084f5aacc5"
      },
      "execution_count": null,
      "outputs": [
        {
          "output_type": "stream",
          "name": "stdout",
          "text": [
            "Layer 12 Cosine Similarity 95th:\n",
            " 0.07730619076478776\n",
            "All layer Cosine Similarity 95th:\n",
            " 0.06834395908949982\n"
          ]
        }
      ]
    },
    {
      "cell_type": "markdown",
      "source": [
        "We do the same for our rankings, but we now set all the ranks below our 95th percentile to 0. Then, we calculate cosine similarities."
      ],
      "metadata": {
        "id": "8C2AiPtW5U-Y"
      }
    },
    {
      "cell_type": "code",
      "source": [
        "num = 2048 - np.ceil(2048 * 0.95)\n",
        "exam_attrib_rank2 = np.copy(ranks_attrib)\n",
        "exam_attrib_rank2[exam_attrib_rank2 > num] = 0\n",
        "\n",
        "attention_final_layer_rank2 = np.copy(ranks)\n",
        "attention_final_layer_rank2[attention_final_layer_rank2 > num] = 0\n",
        "\n",
        "attention_all_layer_rank2 = np.copy(ranks2)\n",
        "attention_all_layer_rank2[attention_all_layer_rank2 > num] = 0"
      ],
      "metadata": {
        "id": "uaECjgO-vG0O"
      },
      "execution_count": null,
      "outputs": []
    },
    {
      "cell_type": "code",
      "source": [
        "cosine_rank_top = np.dot(exam_attrib_rank2, attention_final_layer_rank2) / (norm(exam_attrib_rank2)*norm(attention_final_layer_rank2))\n",
        "print(\"Layer 12 Cosine Similarity 95th ranks:\\n\", cosine_rank_top)\n",
        "cosine_rank_top2 = np.dot(exam_attrib_rank2, attention_all_layer_rank2) / (norm(exam_attrib_rank2)*norm(attention_all_layer_rank2))\n",
        "print(\"All layer Cosine Similarity 95th ranks:\\n\", cosine_rank_top2)"
      ],
      "metadata": {
        "colab": {
          "base_uri": "https://localhost:8080/"
        },
        "id": "axsWfzNSxSc-",
        "outputId": "04f426b9-c62a-4907-9919-42c9d95a94a4"
      },
      "execution_count": null,
      "outputs": [
        {
          "output_type": "stream",
          "name": "stdout",
          "text": [
            "Layer 12 Cosine Similarity 95th ranks:\n",
            " 0.1340335139502166\n",
            "All layer Cosine Similarity 95th ranks:\n",
            " 0.14216823835856862\n"
          ]
        }
      ]
    },
    {
      "cell_type": "markdown",
      "source": [
        "Of course, cosine similarity isn't the only metric that exists for similarities, so we try RBO again on our new arrays of ranks."
      ],
      "metadata": {
        "id": "aTnmOqa0jfGh"
      }
    },
    {
      "cell_type": "code",
      "source": [
        "exam_attrib_order2 = np.copy(order_attrib)\n",
        "\n",
        "attention_final_layer_order2 = np.copy(order)\n",
        "\n",
        "attention_all_layer_order2 = np.copy(order2)"
      ],
      "metadata": {
        "id": "spIj-Y2xjcOI"
      },
      "execution_count": null,
      "outputs": []
    },
    {
      "cell_type": "code",
      "source": [
        "print(exam_attrib_order2)"
      ],
      "metadata": {
        "colab": {
          "base_uri": "https://localhost:8080/"
        },
        "id": "uRyBQu5UjrYk",
        "outputId": "c68f9f2a-7493-4b0f-c256-766d48ba10a7"
      },
      "execution_count": null,
      "outputs": [
        {
          "output_type": "stream",
          "name": "stdout",
          "text": [
            "[1544 1593 1700 ... 2008 2047    0]\n"
          ]
        }
      ]
    },
    {
      "cell_type": "code",
      "source": [
        "print(\"rbo layer 12 95th\", rbo.RankingSimilarity(exam_attrib_order2[:int(num)], attention_final_layer_order2[:int(num)]).rbo())\n",
        "print(\"rbo all 95th\", rbo.RankingSimilarity(exam_attrib_order2[:int(num)], attention_all_layer_order2[:int(num)]).rbo())"
      ],
      "metadata": {
        "colab": {
          "base_uri": "https://localhost:8080/"
        },
        "id": "qrKuyQGtjepn",
        "outputId": "d44e558f-a2f5-47a8-ac60-e91f701cbfbb"
      },
      "execution_count": null,
      "outputs": [
        {
          "output_type": "stream",
          "name": "stdout",
          "text": [
            "rbo layer 12 95th 0.13146096143627967\n",
            "rbo all 95th 0.16526613544618116\n"
          ]
        }
      ]
    },
    {
      "cell_type": "markdown",
      "source": [
        "### Examining the Specifics"
      ],
      "metadata": {
        "id": "SZUpoVhc5qkY"
      }
    },
    {
      "cell_type": "markdown",
      "source": [
        "While seeing if the model's attributions and attentions are exactly the same is one way of comparing the two arrays, another method of determining whether or not the model puts the most focus onto the same group of tokens."
      ],
      "metadata": {
        "id": "Ab6qfLle_tZc"
      }
    },
    {
      "cell_type": "markdown",
      "source": [
        "Here we are taking the set of position ids that make up the top 5 percent of tokens in both the attention and the attribution array. By doing so, we can find out which tokens both arrays have in common, and the tokens that are unique to both arrays. We will be able to identify which tokens are buzzwords in both the attention and the attributions, as well as doing one last similarity metric to check how agreeable the attention and the attributions are."
      ],
      "metadata": {
        "id": "cZFXW0zV5vx4"
      }
    },
    {
      "cell_type": "code",
      "source": [
        "attention_final_layer_top = np.flatnonzero(attention_final_layer5)\n",
        "attention_final_layer_top = set(attention_final_layer_top)\n",
        "\n",
        "attention_all_layer_top = np.flatnonzero(attention_all_layer5)\n",
        "attention_all_layer_top = set(attention_all_layer_top)\n",
        "\n",
        "exam_attrib_top = np.flatnonzero(exam_attrib5)\n",
        "exam_attrib_top = set(exam_attrib_top)\n",
        "print(exam_attrib_top)"
      ],
      "metadata": {
        "id": "mV9EKBe8QIdA",
        "colab": {
          "base_uri": "https://localhost:8080/"
        },
        "outputId": "dec62d2a-ffc1-499e-ad7a-3332696d97a3"
      },
      "execution_count": null,
      "outputs": [
        {
          "output_type": "stream",
          "name": "stdout",
          "text": [
            "{1536, 1537, 1538, 1539, 1540, 1543, 1544, 1545, 1553, 27, 1571, 1572, 1576, 1579, 1072, 1591, 1593, 1595, 1601, 1606, 594, 1140, 1655, 1656, 1658, 1659, 634, 1666, 1670, 1677, 144, 1168, 1686, 1687, 1697, 1699, 1700, 1701, 1702, 1703, 1705, 181, 1723, 1734, 1735, 1740, 214, 1751, 1752, 1753, 1763, 1252, 1766, 1767, 749, 750, 751, 752, 1778, 757, 247, 1788, 1789, 1791, 1792, 1793, 1794, 1796, 1797, 1798, 266, 1802, 1803, 1804, 1805, 1806, 1808, 1811, 285, 1311, 1833, 1334, 1335, 1352, 1354, 1362, 343, 1944, 1440, 1459, 1460, 1469, 1480, 1484, 1488, 1493, 1505, 1506, 1508, 1527, 1531, 1534, 1023}\n"
          ]
        }
      ]
    },
    {
      "cell_type": "markdown",
      "source": [
        "Grab the tokens stored in the all tokens dictionary so we can know which tokens we are working with as we currently only have the indices."
      ],
      "metadata": {
        "id": "oM-P3g6fSzsN"
      }
    },
    {
      "cell_type": "code",
      "source": [
        "exam_tokens = all_tokens[str(example)]"
      ],
      "metadata": {
        "id": "hm3JJFcWQfWj"
      },
      "execution_count": null,
      "outputs": []
    },
    {
      "cell_type": "markdown",
      "source": [
        "Find out which tokens have the highest attentions but not the highest attributions, and display it in a dataframe with the unmasked attentions and the attributions."
      ],
      "metadata": {
        "id": "XJPiXABt6klk"
      }
    },
    {
      "cell_type": "code",
      "source": [
        "diff = sorted(list(attention_all_layer_top - exam_attrib_top))\n",
        "print(len(diff))\n",
        "diff_tokens = [exam_tokens[idx] for idx in diff]\n",
        "d_diff = {\"token\": diff_tokens, \"position\":diff, \"attention_norm\":attention_all_layer2[diff], \"attention_rank\": ranks[diff], \"attribution_norm\":exam_attrib2[diff], \"attribution_rank\":ranks_attrib[diff]}\n",
        "df_diff = pd.DataFrame(d_diff)\n",
        "df_diff"
      ],
      "metadata": {
        "colab": {
          "base_uri": "https://localhost:8080/",
          "height": 441
        },
        "id": "02gaQP2cUfZv",
        "outputId": "362d83c8-69c1-4893-8574-fa6271198250"
      },
      "execution_count": null,
      "outputs": [
        {
          "output_type": "stream",
          "name": "stdout",
          "text": [
            "74\n"
          ]
        },
        {
          "output_type": "execute_result",
          "data": {
            "text/plain": [
              "        token  position  attention_norm  attention_rank  attribution_norm  \\\n",
              "0         <s>         0        1.000000              42          0.000000   \n",
              "1   ĠTraining        34        0.015649             121          0.003152   \n",
              "2          CV        64        0.016594             163          0.002481   \n",
              "3         ĠAI       126        0.079333              38          0.034024   \n",
              "4   ĠAbstract       129        0.016258            1399          0.000983   \n",
              "..        ...       ...             ...             ...               ...   \n",
              "69     Ġworks      1795        0.016055             421          0.012106   \n",
              "70          .      1892        0.024871              22          0.025349   \n",
              "71          .      1909        0.028775              25          0.026341   \n",
              "72    Ġlearns      1993        0.017046              74          0.007427   \n",
              "73          .      2006        0.027077              36          0.006189   \n",
              "\n",
              "    attribution_rank  \n",
              "0               2047  \n",
              "1                978  \n",
              "2               1123  \n",
              "3                107  \n",
              "4               1591  \n",
              "..               ...  \n",
              "69               333  \n",
              "70               156  \n",
              "71               143  \n",
              "72               519  \n",
              "73               584  \n",
              "\n",
              "[74 rows x 6 columns]"
            ],
            "text/html": [
              "\n",
              "  <div id=\"df-e2445ae4-3027-42f5-a6a8-616edec14d1c\">\n",
              "    <div class=\"colab-df-container\">\n",
              "      <div>\n",
              "<style scoped>\n",
              "    .dataframe tbody tr th:only-of-type {\n",
              "        vertical-align: middle;\n",
              "    }\n",
              "\n",
              "    .dataframe tbody tr th {\n",
              "        vertical-align: top;\n",
              "    }\n",
              "\n",
              "    .dataframe thead th {\n",
              "        text-align: right;\n",
              "    }\n",
              "</style>\n",
              "<table border=\"1\" class=\"dataframe\">\n",
              "  <thead>\n",
              "    <tr style=\"text-align: right;\">\n",
              "      <th></th>\n",
              "      <th>token</th>\n",
              "      <th>position</th>\n",
              "      <th>attention_norm</th>\n",
              "      <th>attention_rank</th>\n",
              "      <th>attribution_norm</th>\n",
              "      <th>attribution_rank</th>\n",
              "    </tr>\n",
              "  </thead>\n",
              "  <tbody>\n",
              "    <tr>\n",
              "      <th>0</th>\n",
              "      <td>&lt;s&gt;</td>\n",
              "      <td>0</td>\n",
              "      <td>1.000000</td>\n",
              "      <td>42</td>\n",
              "      <td>0.000000</td>\n",
              "      <td>2047</td>\n",
              "    </tr>\n",
              "    <tr>\n",
              "      <th>1</th>\n",
              "      <td>ĠTraining</td>\n",
              "      <td>34</td>\n",
              "      <td>0.015649</td>\n",
              "      <td>121</td>\n",
              "      <td>0.003152</td>\n",
              "      <td>978</td>\n",
              "    </tr>\n",
              "    <tr>\n",
              "      <th>2</th>\n",
              "      <td>CV</td>\n",
              "      <td>64</td>\n",
              "      <td>0.016594</td>\n",
              "      <td>163</td>\n",
              "      <td>0.002481</td>\n",
              "      <td>1123</td>\n",
              "    </tr>\n",
              "    <tr>\n",
              "      <th>3</th>\n",
              "      <td>ĠAI</td>\n",
              "      <td>126</td>\n",
              "      <td>0.079333</td>\n",
              "      <td>38</td>\n",
              "      <td>0.034024</td>\n",
              "      <td>107</td>\n",
              "    </tr>\n",
              "    <tr>\n",
              "      <th>4</th>\n",
              "      <td>ĠAbstract</td>\n",
              "      <td>129</td>\n",
              "      <td>0.016258</td>\n",
              "      <td>1399</td>\n",
              "      <td>0.000983</td>\n",
              "      <td>1591</td>\n",
              "    </tr>\n",
              "    <tr>\n",
              "      <th>...</th>\n",
              "      <td>...</td>\n",
              "      <td>...</td>\n",
              "      <td>...</td>\n",
              "      <td>...</td>\n",
              "      <td>...</td>\n",
              "      <td>...</td>\n",
              "    </tr>\n",
              "    <tr>\n",
              "      <th>69</th>\n",
              "      <td>Ġworks</td>\n",
              "      <td>1795</td>\n",
              "      <td>0.016055</td>\n",
              "      <td>421</td>\n",
              "      <td>0.012106</td>\n",
              "      <td>333</td>\n",
              "    </tr>\n",
              "    <tr>\n",
              "      <th>70</th>\n",
              "      <td>.</td>\n",
              "      <td>1892</td>\n",
              "      <td>0.024871</td>\n",
              "      <td>22</td>\n",
              "      <td>0.025349</td>\n",
              "      <td>156</td>\n",
              "    </tr>\n",
              "    <tr>\n",
              "      <th>71</th>\n",
              "      <td>.</td>\n",
              "      <td>1909</td>\n",
              "      <td>0.028775</td>\n",
              "      <td>25</td>\n",
              "      <td>0.026341</td>\n",
              "      <td>143</td>\n",
              "    </tr>\n",
              "    <tr>\n",
              "      <th>72</th>\n",
              "      <td>Ġlearns</td>\n",
              "      <td>1993</td>\n",
              "      <td>0.017046</td>\n",
              "      <td>74</td>\n",
              "      <td>0.007427</td>\n",
              "      <td>519</td>\n",
              "    </tr>\n",
              "    <tr>\n",
              "      <th>73</th>\n",
              "      <td>.</td>\n",
              "      <td>2006</td>\n",
              "      <td>0.027077</td>\n",
              "      <td>36</td>\n",
              "      <td>0.006189</td>\n",
              "      <td>584</td>\n",
              "    </tr>\n",
              "  </tbody>\n",
              "</table>\n",
              "<p>74 rows × 6 columns</p>\n",
              "</div>\n",
              "      <button class=\"colab-df-convert\" onclick=\"convertToInteractive('df-e2445ae4-3027-42f5-a6a8-616edec14d1c')\"\n",
              "              title=\"Convert this dataframe to an interactive table.\"\n",
              "              style=\"display:none;\">\n",
              "        \n",
              "  <svg xmlns=\"http://www.w3.org/2000/svg\" height=\"24px\"viewBox=\"0 0 24 24\"\n",
              "       width=\"24px\">\n",
              "    <path d=\"M0 0h24v24H0V0z\" fill=\"none\"/>\n",
              "    <path d=\"M18.56 5.44l.94 2.06.94-2.06 2.06-.94-2.06-.94-.94-2.06-.94 2.06-2.06.94zm-11 1L8.5 8.5l.94-2.06 2.06-.94-2.06-.94L8.5 2.5l-.94 2.06-2.06.94zm10 10l.94 2.06.94-2.06 2.06-.94-2.06-.94-.94-2.06-.94 2.06-2.06.94z\"/><path d=\"M17.41 7.96l-1.37-1.37c-.4-.4-.92-.59-1.43-.59-.52 0-1.04.2-1.43.59L10.3 9.45l-7.72 7.72c-.78.78-.78 2.05 0 2.83L4 21.41c.39.39.9.59 1.41.59.51 0 1.02-.2 1.41-.59l7.78-7.78 2.81-2.81c.8-.78.8-2.07 0-2.86zM5.41 20L4 18.59l7.72-7.72 1.47 1.35L5.41 20z\"/>\n",
              "  </svg>\n",
              "      </button>\n",
              "      \n",
              "  <style>\n",
              "    .colab-df-container {\n",
              "      display:flex;\n",
              "      flex-wrap:wrap;\n",
              "      gap: 12px;\n",
              "    }\n",
              "\n",
              "    .colab-df-convert {\n",
              "      background-color: #E8F0FE;\n",
              "      border: none;\n",
              "      border-radius: 50%;\n",
              "      cursor: pointer;\n",
              "      display: none;\n",
              "      fill: #1967D2;\n",
              "      height: 32px;\n",
              "      padding: 0 0 0 0;\n",
              "      width: 32px;\n",
              "    }\n",
              "\n",
              "    .colab-df-convert:hover {\n",
              "      background-color: #E2EBFA;\n",
              "      box-shadow: 0px 1px 2px rgba(60, 64, 67, 0.3), 0px 1px 3px 1px rgba(60, 64, 67, 0.15);\n",
              "      fill: #174EA6;\n",
              "    }\n",
              "\n",
              "    [theme=dark] .colab-df-convert {\n",
              "      background-color: #3B4455;\n",
              "      fill: #D2E3FC;\n",
              "    }\n",
              "\n",
              "    [theme=dark] .colab-df-convert:hover {\n",
              "      background-color: #434B5C;\n",
              "      box-shadow: 0px 1px 3px 1px rgba(0, 0, 0, 0.15);\n",
              "      filter: drop-shadow(0px 1px 2px rgba(0, 0, 0, 0.3));\n",
              "      fill: #FFFFFF;\n",
              "    }\n",
              "  </style>\n",
              "\n",
              "      <script>\n",
              "        const buttonEl =\n",
              "          document.querySelector('#df-e2445ae4-3027-42f5-a6a8-616edec14d1c button.colab-df-convert');\n",
              "        buttonEl.style.display =\n",
              "          google.colab.kernel.accessAllowed ? 'block' : 'none';\n",
              "\n",
              "        async function convertToInteractive(key) {\n",
              "          const element = document.querySelector('#df-e2445ae4-3027-42f5-a6a8-616edec14d1c');\n",
              "          const dataTable =\n",
              "            await google.colab.kernel.invokeFunction('convertToInteractive',\n",
              "                                                     [key], {});\n",
              "          if (!dataTable) return;\n",
              "\n",
              "          const docLinkHtml = 'Like what you see? Visit the ' +\n",
              "            '<a target=\"_blank\" href=https://colab.research.google.com/notebooks/data_table.ipynb>data table notebook</a>'\n",
              "            + ' to learn more about interactive tables.';\n",
              "          element.innerHTML = '';\n",
              "          dataTable['output_type'] = 'display_data';\n",
              "          await google.colab.output.renderOutput(dataTable, element);\n",
              "          const docLink = document.createElement('div');\n",
              "          docLink.innerHTML = docLinkHtml;\n",
              "          element.appendChild(docLink);\n",
              "        }\n",
              "      </script>\n",
              "    </div>\n",
              "  </div>\n",
              "  "
            ]
          },
          "metadata": {},
          "execution_count": 76
        }
      ]
    },
    {
      "cell_type": "markdown",
      "source": [
        "Let's check what tokens are different and how many times they appear."
      ],
      "metadata": {
        "id": "_9qGI3ae7x0g"
      }
    },
    {
      "cell_type": "code",
      "source": [
        "print(df_diff['token'].value_counts())"
      ],
      "metadata": {
        "colab": {
          "base_uri": "https://localhost:8080/"
        },
        "id": "xtN0uGi7LlTT",
        "outputId": "55c0fb4d-25cf-4490-f2b0-f1d0e3f07dac"
      },
      "execution_count": null,
      "outputs": [
        {
          "output_type": "stream",
          "name": "stdout",
          "text": [
            ".                 26\n",
            "Ġtraining          6\n",
            "Ġadvers            5\n",
            "Ġvocabulary        2\n",
            "Ġbiased            2\n",
            "Figure             1\n",
            "Ġpredicting        1\n",
            "Ġimage             1\n",
            "Ġtrained           1\n",
            "ĠNetworks          1\n",
            "Ġmetrics           1\n",
            "Ġhuman             1\n",
            "<s>                1\n",
            "Ġsampling          1\n",
            "Ġtask              1\n",
            "goo                1\n",
            "Ġdeep              1\n",
            "uristic            1\n",
            "Ġlikelihood        1\n",
            "Ġworks             1\n",
            "Ġinvestigation     1\n",
            "ĠFigure            1\n",
            "ĠTest              1\n",
            "Ġbaseline          1\n",
            "ĠTraining          1\n",
            "Ġevaluation        1\n",
            "Ġlanguage          1\n",
            "ĠTuring            1\n",
            "Ġevaluated         1\n",
            "-                  1\n",
            "Ġsamples           1\n",
            "Ġartifacts         1\n",
            "Ġlearning          1\n",
            "Ġcaption           1\n",
            "ĠAbstract          1\n",
            "ĠAI                1\n",
            "CV                 1\n",
            "Ġlearns            1\n",
            "Name: token, dtype: int64\n"
          ]
        }
      ]
    },
    {
      "cell_type": "markdown",
      "source": [
        "Find out which tokens have the highest attributions but not the highest attentions."
      ],
      "metadata": {
        "id": "s1Mw4yzv62iA"
      }
    },
    {
      "cell_type": "code",
      "source": [
        "diff2 = sorted(list(exam_attrib_top - attention_all_layer_top))\n",
        "print(len(diff))\n",
        "diff_tokens2 = [exam_tokens[idx] for idx in diff2]\n",
        "d_diff2 = {\"token\": diff_tokens2, \"position\":diff2, \"attention_norm\": attention_all_layer2[diff2], \"attention_rank\": ranks[diff2], \"attribution_norm\":exam_attrib2[diff2], \"attribution_rank\":ranks_attrib[diff2]}\n",
        "df_diff2 = pd.DataFrame(d_diff2)\n",
        "df_diff2"
      ],
      "metadata": {
        "colab": {
          "base_uri": "https://localhost:8080/",
          "height": 441
        },
        "id": "SUJBtsFvoITx",
        "outputId": "f5ae3bcd-641d-40f8-ebf7-1dc691e27588"
      },
      "execution_count": null,
      "outputs": [
        {
          "output_type": "stream",
          "name": "stdout",
          "text": [
            "74\n"
          ]
        },
        {
          "output_type": "execute_result",
          "data": {
            "text/plain": [
              "          token  position  attention_norm  attention_rank  attribution_norm  \\\n",
              "0        ĠHuman        27        0.008940             142          0.039440   \n",
              "1        Ġhuman       144        0.008696             118          0.099735   \n",
              "2        Ġhuman       247        0.008363             232          0.042492   \n",
              "3        Ġhuman       285        0.010766             175          0.037411   \n",
              "4        Ġhuman       343        0.009153             117          0.125968   \n",
              "..          ...       ...             ...             ...               ...   \n",
              "69  Ġapproaches      1805        0.008188             541          0.083835   \n",
              "70          Ġto      1806        0.002389             608          0.040588   \n",
              "71    Ġoptimize      1808        0.011426             493          0.048320   \n",
              "72     Ġmetrics      1811        0.008892             925          0.070791   \n",
              "73     Ġmetrics      1833        0.005061            1552          0.052813   \n",
              "\n",
              "    attribution_rank  \n",
              "0                 84  \n",
              "1                 22  \n",
              "2                 74  \n",
              "3                 92  \n",
              "4                 19  \n",
              "..               ...  \n",
              "69                29  \n",
              "70                83  \n",
              "71                62  \n",
              "72                41  \n",
              "73                55  \n",
              "\n",
              "[74 rows x 6 columns]"
            ],
            "text/html": [
              "\n",
              "  <div id=\"df-06e44b61-00ad-4e8f-b1e5-8c18b8efba13\">\n",
              "    <div class=\"colab-df-container\">\n",
              "      <div>\n",
              "<style scoped>\n",
              "    .dataframe tbody tr th:only-of-type {\n",
              "        vertical-align: middle;\n",
              "    }\n",
              "\n",
              "    .dataframe tbody tr th {\n",
              "        vertical-align: top;\n",
              "    }\n",
              "\n",
              "    .dataframe thead th {\n",
              "        text-align: right;\n",
              "    }\n",
              "</style>\n",
              "<table border=\"1\" class=\"dataframe\">\n",
              "  <thead>\n",
              "    <tr style=\"text-align: right;\">\n",
              "      <th></th>\n",
              "      <th>token</th>\n",
              "      <th>position</th>\n",
              "      <th>attention_norm</th>\n",
              "      <th>attention_rank</th>\n",
              "      <th>attribution_norm</th>\n",
              "      <th>attribution_rank</th>\n",
              "    </tr>\n",
              "  </thead>\n",
              "  <tbody>\n",
              "    <tr>\n",
              "      <th>0</th>\n",
              "      <td>ĠHuman</td>\n",
              "      <td>27</td>\n",
              "      <td>0.008940</td>\n",
              "      <td>142</td>\n",
              "      <td>0.039440</td>\n",
              "      <td>84</td>\n",
              "    </tr>\n",
              "    <tr>\n",
              "      <th>1</th>\n",
              "      <td>Ġhuman</td>\n",
              "      <td>144</td>\n",
              "      <td>0.008696</td>\n",
              "      <td>118</td>\n",
              "      <td>0.099735</td>\n",
              "      <td>22</td>\n",
              "    </tr>\n",
              "    <tr>\n",
              "      <th>2</th>\n",
              "      <td>Ġhuman</td>\n",
              "      <td>247</td>\n",
              "      <td>0.008363</td>\n",
              "      <td>232</td>\n",
              "      <td>0.042492</td>\n",
              "      <td>74</td>\n",
              "    </tr>\n",
              "    <tr>\n",
              "      <th>3</th>\n",
              "      <td>Ġhuman</td>\n",
              "      <td>285</td>\n",
              "      <td>0.010766</td>\n",
              "      <td>175</td>\n",
              "      <td>0.037411</td>\n",
              "      <td>92</td>\n",
              "    </tr>\n",
              "    <tr>\n",
              "      <th>4</th>\n",
              "      <td>Ġhuman</td>\n",
              "      <td>343</td>\n",
              "      <td>0.009153</td>\n",
              "      <td>117</td>\n",
              "      <td>0.125968</td>\n",
              "      <td>19</td>\n",
              "    </tr>\n",
              "    <tr>\n",
              "      <th>...</th>\n",
              "      <td>...</td>\n",
              "      <td>...</td>\n",
              "      <td>...</td>\n",
              "      <td>...</td>\n",
              "      <td>...</td>\n",
              "      <td>...</td>\n",
              "    </tr>\n",
              "    <tr>\n",
              "      <th>69</th>\n",
              "      <td>Ġapproaches</td>\n",
              "      <td>1805</td>\n",
              "      <td>0.008188</td>\n",
              "      <td>541</td>\n",
              "      <td>0.083835</td>\n",
              "      <td>29</td>\n",
              "    </tr>\n",
              "    <tr>\n",
              "      <th>70</th>\n",
              "      <td>Ġto</td>\n",
              "      <td>1806</td>\n",
              "      <td>0.002389</td>\n",
              "      <td>608</td>\n",
              "      <td>0.040588</td>\n",
              "      <td>83</td>\n",
              "    </tr>\n",
              "    <tr>\n",
              "      <th>71</th>\n",
              "      <td>Ġoptimize</td>\n",
              "      <td>1808</td>\n",
              "      <td>0.011426</td>\n",
              "      <td>493</td>\n",
              "      <td>0.048320</td>\n",
              "      <td>62</td>\n",
              "    </tr>\n",
              "    <tr>\n",
              "      <th>72</th>\n",
              "      <td>Ġmetrics</td>\n",
              "      <td>1811</td>\n",
              "      <td>0.008892</td>\n",
              "      <td>925</td>\n",
              "      <td>0.070791</td>\n",
              "      <td>41</td>\n",
              "    </tr>\n",
              "    <tr>\n",
              "      <th>73</th>\n",
              "      <td>Ġmetrics</td>\n",
              "      <td>1833</td>\n",
              "      <td>0.005061</td>\n",
              "      <td>1552</td>\n",
              "      <td>0.052813</td>\n",
              "      <td>55</td>\n",
              "    </tr>\n",
              "  </tbody>\n",
              "</table>\n",
              "<p>74 rows × 6 columns</p>\n",
              "</div>\n",
              "      <button class=\"colab-df-convert\" onclick=\"convertToInteractive('df-06e44b61-00ad-4e8f-b1e5-8c18b8efba13')\"\n",
              "              title=\"Convert this dataframe to an interactive table.\"\n",
              "              style=\"display:none;\">\n",
              "        \n",
              "  <svg xmlns=\"http://www.w3.org/2000/svg\" height=\"24px\"viewBox=\"0 0 24 24\"\n",
              "       width=\"24px\">\n",
              "    <path d=\"M0 0h24v24H0V0z\" fill=\"none\"/>\n",
              "    <path d=\"M18.56 5.44l.94 2.06.94-2.06 2.06-.94-2.06-.94-.94-2.06-.94 2.06-2.06.94zm-11 1L8.5 8.5l.94-2.06 2.06-.94-2.06-.94L8.5 2.5l-.94 2.06-2.06.94zm10 10l.94 2.06.94-2.06 2.06-.94-2.06-.94-.94-2.06-.94 2.06-2.06.94z\"/><path d=\"M17.41 7.96l-1.37-1.37c-.4-.4-.92-.59-1.43-.59-.52 0-1.04.2-1.43.59L10.3 9.45l-7.72 7.72c-.78.78-.78 2.05 0 2.83L4 21.41c.39.39.9.59 1.41.59.51 0 1.02-.2 1.41-.59l7.78-7.78 2.81-2.81c.8-.78.8-2.07 0-2.86zM5.41 20L4 18.59l7.72-7.72 1.47 1.35L5.41 20z\"/>\n",
              "  </svg>\n",
              "      </button>\n",
              "      \n",
              "  <style>\n",
              "    .colab-df-container {\n",
              "      display:flex;\n",
              "      flex-wrap:wrap;\n",
              "      gap: 12px;\n",
              "    }\n",
              "\n",
              "    .colab-df-convert {\n",
              "      background-color: #E8F0FE;\n",
              "      border: none;\n",
              "      border-radius: 50%;\n",
              "      cursor: pointer;\n",
              "      display: none;\n",
              "      fill: #1967D2;\n",
              "      height: 32px;\n",
              "      padding: 0 0 0 0;\n",
              "      width: 32px;\n",
              "    }\n",
              "\n",
              "    .colab-df-convert:hover {\n",
              "      background-color: #E2EBFA;\n",
              "      box-shadow: 0px 1px 2px rgba(60, 64, 67, 0.3), 0px 1px 3px 1px rgba(60, 64, 67, 0.15);\n",
              "      fill: #174EA6;\n",
              "    }\n",
              "\n",
              "    [theme=dark] .colab-df-convert {\n",
              "      background-color: #3B4455;\n",
              "      fill: #D2E3FC;\n",
              "    }\n",
              "\n",
              "    [theme=dark] .colab-df-convert:hover {\n",
              "      background-color: #434B5C;\n",
              "      box-shadow: 0px 1px 3px 1px rgba(0, 0, 0, 0.15);\n",
              "      filter: drop-shadow(0px 1px 2px rgba(0, 0, 0, 0.3));\n",
              "      fill: #FFFFFF;\n",
              "    }\n",
              "  </style>\n",
              "\n",
              "      <script>\n",
              "        const buttonEl =\n",
              "          document.querySelector('#df-06e44b61-00ad-4e8f-b1e5-8c18b8efba13 button.colab-df-convert');\n",
              "        buttonEl.style.display =\n",
              "          google.colab.kernel.accessAllowed ? 'block' : 'none';\n",
              "\n",
              "        async function convertToInteractive(key) {\n",
              "          const element = document.querySelector('#df-06e44b61-00ad-4e8f-b1e5-8c18b8efba13');\n",
              "          const dataTable =\n",
              "            await google.colab.kernel.invokeFunction('convertToInteractive',\n",
              "                                                     [key], {});\n",
              "          if (!dataTable) return;\n",
              "\n",
              "          const docLinkHtml = 'Like what you see? Visit the ' +\n",
              "            '<a target=\"_blank\" href=https://colab.research.google.com/notebooks/data_table.ipynb>data table notebook</a>'\n",
              "            + ' to learn more about interactive tables.';\n",
              "          element.innerHTML = '';\n",
              "          dataTable['output_type'] = 'display_data';\n",
              "          await google.colab.output.renderOutput(dataTable, element);\n",
              "          const docLink = document.createElement('div');\n",
              "          docLink.innerHTML = docLinkHtml;\n",
              "          element.appendChild(docLink);\n",
              "        }\n",
              "      </script>\n",
              "    </div>\n",
              "  </div>\n",
              "  "
            ]
          },
          "metadata": {},
          "execution_count": 78
        }
      ]
    },
    {
      "cell_type": "markdown",
      "source": [
        "Let's check what tokens are different and how many times they appear."
      ],
      "metadata": {
        "id": "hUOiSgcg736p"
      }
    },
    {
      "cell_type": "code",
      "source": [
        "print(df_diff2['token'].value_counts())"
      ],
      "metadata": {
        "colab": {
          "base_uri": "https://localhost:8080/"
        },
        "id": "q9EQU04lMKxc",
        "outputId": "bda47603-1b90-4499-c23d-14c7aa29833d"
      },
      "execution_count": null,
      "outputs": [
        {
          "output_type": "stream",
          "name": "stdout",
          "text": [
            "Ġhuman           7\n",
            "Ġmodel           4\n",
            "Ġto              4\n",
            "Ġtraining        3\n",
            "Ġlanguage        2\n",
            "Ġmethod          2\n",
            "Ġdiversity       2\n",
            "Ġmetrics         2\n",
            "Ġmodels          2\n",
            "Ġwhich           1\n",
            "Ġscore           1\n",
            "Ġalgorithm       1\n",
            "Ġoptimal         1\n",
            "Ġdata            1\n",
            "Ġscheme          1\n",
            "Ġdistribution    1\n",
            "Ġa               1\n",
            "Ġexposure        1\n",
            "Ġbegins          1\n",
            "Ġmaximum         1\n",
            "Ġstandard        1\n",
            "Ġlearn           1\n",
            "ĠSeveral         1\n",
            "Ġother           1\n",
            "Ġhave            1\n",
            "Ġfollowed        1\n",
            "Ġthis            1\n",
            "Ġbased           1\n",
            "Ġapproaches      1\n",
            "Ġoptimize        1\n",
            "Ġduring          1\n",
            "ĠHuman           1\n",
            "Ġbias            1\n",
            "Ġlearning        1\n",
            "Ġeasy            1\n",
            "Ġfor             1\n",
            "Ġstatistics      1\n",
            "Ġstatistical     1\n",
            "Ġtranslation     1\n",
            ".                1\n",
            "Ġ[               1\n",
            "Ġattempts        1\n",
            "Ġthe             1\n",
            "Ġdifferent       1\n",
            "Ġonly            1\n",
            "Ġloss            1\n",
            "Ġas              1\n",
            "Ġafter           1\n",
            "Ġhas             1\n",
            "Ġsentences       1\n",
            "-                1\n",
            "Ġstudied         1\n",
            "Ġdescription     1\n",
            "Ġword            1\n",
            "].               1\n",
            "Name: token, dtype: int64\n"
          ]
        }
      ]
    },
    {
      "cell_type": "markdown",
      "source": [
        "Find out which tokens are part of the highest attentions and highest attributions."
      ],
      "metadata": {
        "id": "i7KUR67I68i9"
      }
    },
    {
      "cell_type": "code",
      "source": [
        "same = sorted(list(attention_all_layer_top & exam_attrib_top))\n",
        "print(len(same))\n",
        "same_tokens = [exam_tokens[idx] for idx in same]\n",
        "d_same = {\"token\": same_tokens, \"position\":same, \"attention_norm\": attention_all_layer2[same], \"attention_rank\": ranks[same], \"attribution_norm\":exam_attrib2[same], \"attribution_rank\":ranks_attrib[same]}\n",
        "df_same = pd.DataFrame(d_same)\n",
        "df_same"
      ],
      "metadata": {
        "colab": {
          "base_uri": "https://localhost:8080/",
          "height": 976
        },
        "id": "k4VAamjiUvr0",
        "outputId": "7a58269b-c7fc-4e0b-9c65-901e2bcc3f07"
      },
      "execution_count": null,
      "outputs": [
        {
          "output_type": "stream",
          "name": "stdout",
          "text": [
            "29\n"
          ]
        },
        {
          "output_type": "execute_result",
          "data": {
            "text/plain": [
              "             token  position  attention_norm  attention_rank  \\\n",
              "0          Ġhumans       181        0.015066              89   \n",
              "1                .       214        0.045623               2   \n",
              "2        Ġtraining       266        0.041594              45   \n",
              "3          Ġhumans       751        0.020302              82   \n",
              "4                .      1072        0.037531              10   \n",
              "5                .      1140        0.035760              17   \n",
              "6                .      1168        0.036198              19   \n",
              "7        Ġlearning      1362        0.069271              41   \n",
              "8                .      1440        0.028830              31   \n",
              "9                .      1480        0.025086              35   \n",
              "10       Ġtraining      1506        0.014682             147   \n",
              "11               .      1508        0.030617              33   \n",
              "12              Ġa      1536        0.241995            1386   \n",
              "13     Ġlinguistic      1579        0.020428              50   \n",
              "14       Ġtraining      1593        0.021814             119   \n",
              "15               .      1656        0.021193              27   \n",
              "16       Ġtraining      1659        0.017181             156   \n",
              "17       Ġtraining      1687        0.018117             133   \n",
              "18       Ġsampling      1699        0.018518             193   \n",
              "19       Ġtraining      1700        0.023144              79   \n",
              "20       Ġtraining      1705        0.018725             143   \n",
              "21       Ġsampling      1734        0.020450             469   \n",
              "22               .      1753        0.019664              18   \n",
              "23           Ġbias      1767        0.021194             158   \n",
              "24       Ġtraining      1791        0.037431              96   \n",
              "25               .      1792        0.025774              16   \n",
              "26  Ġreinforcement      1802        0.107999              66   \n",
              "27       Ġlearning      1803        0.045205              52   \n",
              "28               .      1944        0.028207              28   \n",
              "\n",
              "    attribution_norm  attribution_rank  \n",
              "0           0.035158                98  \n",
              "1           0.049528                58  \n",
              "2           0.063398                44  \n",
              "3           0.158666                17  \n",
              "4           0.035006               100  \n",
              "5           0.036191                95  \n",
              "6           0.044381                70  \n",
              "7           0.077581                32  \n",
              "8           0.071849                38  \n",
              "9           0.034875               102  \n",
              "10          0.352119                 7  \n",
              "11          0.121578                20  \n",
              "12          0.057724                48  \n",
              "13          0.141394                18  \n",
              "14          0.793757                 1  \n",
              "15          0.041544                78  \n",
              "16          0.407973                 6  \n",
              "17          0.663055                 3  \n",
              "18          0.044647                69  \n",
              "19          0.742092                 2  \n",
              "20          0.260165                11  \n",
              "21          0.041103                80  \n",
              "22          0.043495                71  \n",
              "23          0.163948                16  \n",
              "24          0.578020                 4  \n",
              "25          0.278625                 9  \n",
              "26          0.076461                33  \n",
              "27          0.183247                13  \n",
              "28          0.073402                35  "
            ],
            "text/html": [
              "\n",
              "  <div id=\"df-c685e703-5ade-4bf7-8111-5039151d8cda\">\n",
              "    <div class=\"colab-df-container\">\n",
              "      <div>\n",
              "<style scoped>\n",
              "    .dataframe tbody tr th:only-of-type {\n",
              "        vertical-align: middle;\n",
              "    }\n",
              "\n",
              "    .dataframe tbody tr th {\n",
              "        vertical-align: top;\n",
              "    }\n",
              "\n",
              "    .dataframe thead th {\n",
              "        text-align: right;\n",
              "    }\n",
              "</style>\n",
              "<table border=\"1\" class=\"dataframe\">\n",
              "  <thead>\n",
              "    <tr style=\"text-align: right;\">\n",
              "      <th></th>\n",
              "      <th>token</th>\n",
              "      <th>position</th>\n",
              "      <th>attention_norm</th>\n",
              "      <th>attention_rank</th>\n",
              "      <th>attribution_norm</th>\n",
              "      <th>attribution_rank</th>\n",
              "    </tr>\n",
              "  </thead>\n",
              "  <tbody>\n",
              "    <tr>\n",
              "      <th>0</th>\n",
              "      <td>Ġhumans</td>\n",
              "      <td>181</td>\n",
              "      <td>0.015066</td>\n",
              "      <td>89</td>\n",
              "      <td>0.035158</td>\n",
              "      <td>98</td>\n",
              "    </tr>\n",
              "    <tr>\n",
              "      <th>1</th>\n",
              "      <td>.</td>\n",
              "      <td>214</td>\n",
              "      <td>0.045623</td>\n",
              "      <td>2</td>\n",
              "      <td>0.049528</td>\n",
              "      <td>58</td>\n",
              "    </tr>\n",
              "    <tr>\n",
              "      <th>2</th>\n",
              "      <td>Ġtraining</td>\n",
              "      <td>266</td>\n",
              "      <td>0.041594</td>\n",
              "      <td>45</td>\n",
              "      <td>0.063398</td>\n",
              "      <td>44</td>\n",
              "    </tr>\n",
              "    <tr>\n",
              "      <th>3</th>\n",
              "      <td>Ġhumans</td>\n",
              "      <td>751</td>\n",
              "      <td>0.020302</td>\n",
              "      <td>82</td>\n",
              "      <td>0.158666</td>\n",
              "      <td>17</td>\n",
              "    </tr>\n",
              "    <tr>\n",
              "      <th>4</th>\n",
              "      <td>.</td>\n",
              "      <td>1072</td>\n",
              "      <td>0.037531</td>\n",
              "      <td>10</td>\n",
              "      <td>0.035006</td>\n",
              "      <td>100</td>\n",
              "    </tr>\n",
              "    <tr>\n",
              "      <th>5</th>\n",
              "      <td>.</td>\n",
              "      <td>1140</td>\n",
              "      <td>0.035760</td>\n",
              "      <td>17</td>\n",
              "      <td>0.036191</td>\n",
              "      <td>95</td>\n",
              "    </tr>\n",
              "    <tr>\n",
              "      <th>6</th>\n",
              "      <td>.</td>\n",
              "      <td>1168</td>\n",
              "      <td>0.036198</td>\n",
              "      <td>19</td>\n",
              "      <td>0.044381</td>\n",
              "      <td>70</td>\n",
              "    </tr>\n",
              "    <tr>\n",
              "      <th>7</th>\n",
              "      <td>Ġlearning</td>\n",
              "      <td>1362</td>\n",
              "      <td>0.069271</td>\n",
              "      <td>41</td>\n",
              "      <td>0.077581</td>\n",
              "      <td>32</td>\n",
              "    </tr>\n",
              "    <tr>\n",
              "      <th>8</th>\n",
              "      <td>.</td>\n",
              "      <td>1440</td>\n",
              "      <td>0.028830</td>\n",
              "      <td>31</td>\n",
              "      <td>0.071849</td>\n",
              "      <td>38</td>\n",
              "    </tr>\n",
              "    <tr>\n",
              "      <th>9</th>\n",
              "      <td>.</td>\n",
              "      <td>1480</td>\n",
              "      <td>0.025086</td>\n",
              "      <td>35</td>\n",
              "      <td>0.034875</td>\n",
              "      <td>102</td>\n",
              "    </tr>\n",
              "    <tr>\n",
              "      <th>10</th>\n",
              "      <td>Ġtraining</td>\n",
              "      <td>1506</td>\n",
              "      <td>0.014682</td>\n",
              "      <td>147</td>\n",
              "      <td>0.352119</td>\n",
              "      <td>7</td>\n",
              "    </tr>\n",
              "    <tr>\n",
              "      <th>11</th>\n",
              "      <td>.</td>\n",
              "      <td>1508</td>\n",
              "      <td>0.030617</td>\n",
              "      <td>33</td>\n",
              "      <td>0.121578</td>\n",
              "      <td>20</td>\n",
              "    </tr>\n",
              "    <tr>\n",
              "      <th>12</th>\n",
              "      <td>Ġa</td>\n",
              "      <td>1536</td>\n",
              "      <td>0.241995</td>\n",
              "      <td>1386</td>\n",
              "      <td>0.057724</td>\n",
              "      <td>48</td>\n",
              "    </tr>\n",
              "    <tr>\n",
              "      <th>13</th>\n",
              "      <td>Ġlinguistic</td>\n",
              "      <td>1579</td>\n",
              "      <td>0.020428</td>\n",
              "      <td>50</td>\n",
              "      <td>0.141394</td>\n",
              "      <td>18</td>\n",
              "    </tr>\n",
              "    <tr>\n",
              "      <th>14</th>\n",
              "      <td>Ġtraining</td>\n",
              "      <td>1593</td>\n",
              "      <td>0.021814</td>\n",
              "      <td>119</td>\n",
              "      <td>0.793757</td>\n",
              "      <td>1</td>\n",
              "    </tr>\n",
              "    <tr>\n",
              "      <th>15</th>\n",
              "      <td>.</td>\n",
              "      <td>1656</td>\n",
              "      <td>0.021193</td>\n",
              "      <td>27</td>\n",
              "      <td>0.041544</td>\n",
              "      <td>78</td>\n",
              "    </tr>\n",
              "    <tr>\n",
              "      <th>16</th>\n",
              "      <td>Ġtraining</td>\n",
              "      <td>1659</td>\n",
              "      <td>0.017181</td>\n",
              "      <td>156</td>\n",
              "      <td>0.407973</td>\n",
              "      <td>6</td>\n",
              "    </tr>\n",
              "    <tr>\n",
              "      <th>17</th>\n",
              "      <td>Ġtraining</td>\n",
              "      <td>1687</td>\n",
              "      <td>0.018117</td>\n",
              "      <td>133</td>\n",
              "      <td>0.663055</td>\n",
              "      <td>3</td>\n",
              "    </tr>\n",
              "    <tr>\n",
              "      <th>18</th>\n",
              "      <td>Ġsampling</td>\n",
              "      <td>1699</td>\n",
              "      <td>0.018518</td>\n",
              "      <td>193</td>\n",
              "      <td>0.044647</td>\n",
              "      <td>69</td>\n",
              "    </tr>\n",
              "    <tr>\n",
              "      <th>19</th>\n",
              "      <td>Ġtraining</td>\n",
              "      <td>1700</td>\n",
              "      <td>0.023144</td>\n",
              "      <td>79</td>\n",
              "      <td>0.742092</td>\n",
              "      <td>2</td>\n",
              "    </tr>\n",
              "    <tr>\n",
              "      <th>20</th>\n",
              "      <td>Ġtraining</td>\n",
              "      <td>1705</td>\n",
              "      <td>0.018725</td>\n",
              "      <td>143</td>\n",
              "      <td>0.260165</td>\n",
              "      <td>11</td>\n",
              "    </tr>\n",
              "    <tr>\n",
              "      <th>21</th>\n",
              "      <td>Ġsampling</td>\n",
              "      <td>1734</td>\n",
              "      <td>0.020450</td>\n",
              "      <td>469</td>\n",
              "      <td>0.041103</td>\n",
              "      <td>80</td>\n",
              "    </tr>\n",
              "    <tr>\n",
              "      <th>22</th>\n",
              "      <td>.</td>\n",
              "      <td>1753</td>\n",
              "      <td>0.019664</td>\n",
              "      <td>18</td>\n",
              "      <td>0.043495</td>\n",
              "      <td>71</td>\n",
              "    </tr>\n",
              "    <tr>\n",
              "      <th>23</th>\n",
              "      <td>Ġbias</td>\n",
              "      <td>1767</td>\n",
              "      <td>0.021194</td>\n",
              "      <td>158</td>\n",
              "      <td>0.163948</td>\n",
              "      <td>16</td>\n",
              "    </tr>\n",
              "    <tr>\n",
              "      <th>24</th>\n",
              "      <td>Ġtraining</td>\n",
              "      <td>1791</td>\n",
              "      <td>0.037431</td>\n",
              "      <td>96</td>\n",
              "      <td>0.578020</td>\n",
              "      <td>4</td>\n",
              "    </tr>\n",
              "    <tr>\n",
              "      <th>25</th>\n",
              "      <td>.</td>\n",
              "      <td>1792</td>\n",
              "      <td>0.025774</td>\n",
              "      <td>16</td>\n",
              "      <td>0.278625</td>\n",
              "      <td>9</td>\n",
              "    </tr>\n",
              "    <tr>\n",
              "      <th>26</th>\n",
              "      <td>Ġreinforcement</td>\n",
              "      <td>1802</td>\n",
              "      <td>0.107999</td>\n",
              "      <td>66</td>\n",
              "      <td>0.076461</td>\n",
              "      <td>33</td>\n",
              "    </tr>\n",
              "    <tr>\n",
              "      <th>27</th>\n",
              "      <td>Ġlearning</td>\n",
              "      <td>1803</td>\n",
              "      <td>0.045205</td>\n",
              "      <td>52</td>\n",
              "      <td>0.183247</td>\n",
              "      <td>13</td>\n",
              "    </tr>\n",
              "    <tr>\n",
              "      <th>28</th>\n",
              "      <td>.</td>\n",
              "      <td>1944</td>\n",
              "      <td>0.028207</td>\n",
              "      <td>28</td>\n",
              "      <td>0.073402</td>\n",
              "      <td>35</td>\n",
              "    </tr>\n",
              "  </tbody>\n",
              "</table>\n",
              "</div>\n",
              "      <button class=\"colab-df-convert\" onclick=\"convertToInteractive('df-c685e703-5ade-4bf7-8111-5039151d8cda')\"\n",
              "              title=\"Convert this dataframe to an interactive table.\"\n",
              "              style=\"display:none;\">\n",
              "        \n",
              "  <svg xmlns=\"http://www.w3.org/2000/svg\" height=\"24px\"viewBox=\"0 0 24 24\"\n",
              "       width=\"24px\">\n",
              "    <path d=\"M0 0h24v24H0V0z\" fill=\"none\"/>\n",
              "    <path d=\"M18.56 5.44l.94 2.06.94-2.06 2.06-.94-2.06-.94-.94-2.06-.94 2.06-2.06.94zm-11 1L8.5 8.5l.94-2.06 2.06-.94-2.06-.94L8.5 2.5l-.94 2.06-2.06.94zm10 10l.94 2.06.94-2.06 2.06-.94-2.06-.94-.94-2.06-.94 2.06-2.06.94z\"/><path d=\"M17.41 7.96l-1.37-1.37c-.4-.4-.92-.59-1.43-.59-.52 0-1.04.2-1.43.59L10.3 9.45l-7.72 7.72c-.78.78-.78 2.05 0 2.83L4 21.41c.39.39.9.59 1.41.59.51 0 1.02-.2 1.41-.59l7.78-7.78 2.81-2.81c.8-.78.8-2.07 0-2.86zM5.41 20L4 18.59l7.72-7.72 1.47 1.35L5.41 20z\"/>\n",
              "  </svg>\n",
              "      </button>\n",
              "      \n",
              "  <style>\n",
              "    .colab-df-container {\n",
              "      display:flex;\n",
              "      flex-wrap:wrap;\n",
              "      gap: 12px;\n",
              "    }\n",
              "\n",
              "    .colab-df-convert {\n",
              "      background-color: #E8F0FE;\n",
              "      border: none;\n",
              "      border-radius: 50%;\n",
              "      cursor: pointer;\n",
              "      display: none;\n",
              "      fill: #1967D2;\n",
              "      height: 32px;\n",
              "      padding: 0 0 0 0;\n",
              "      width: 32px;\n",
              "    }\n",
              "\n",
              "    .colab-df-convert:hover {\n",
              "      background-color: #E2EBFA;\n",
              "      box-shadow: 0px 1px 2px rgba(60, 64, 67, 0.3), 0px 1px 3px 1px rgba(60, 64, 67, 0.15);\n",
              "      fill: #174EA6;\n",
              "    }\n",
              "\n",
              "    [theme=dark] .colab-df-convert {\n",
              "      background-color: #3B4455;\n",
              "      fill: #D2E3FC;\n",
              "    }\n",
              "\n",
              "    [theme=dark] .colab-df-convert:hover {\n",
              "      background-color: #434B5C;\n",
              "      box-shadow: 0px 1px 3px 1px rgba(0, 0, 0, 0.15);\n",
              "      filter: drop-shadow(0px 1px 2px rgba(0, 0, 0, 0.3));\n",
              "      fill: #FFFFFF;\n",
              "    }\n",
              "  </style>\n",
              "\n",
              "      <script>\n",
              "        const buttonEl =\n",
              "          document.querySelector('#df-c685e703-5ade-4bf7-8111-5039151d8cda button.colab-df-convert');\n",
              "        buttonEl.style.display =\n",
              "          google.colab.kernel.accessAllowed ? 'block' : 'none';\n",
              "\n",
              "        async function convertToInteractive(key) {\n",
              "          const element = document.querySelector('#df-c685e703-5ade-4bf7-8111-5039151d8cda');\n",
              "          const dataTable =\n",
              "            await google.colab.kernel.invokeFunction('convertToInteractive',\n",
              "                                                     [key], {});\n",
              "          if (!dataTable) return;\n",
              "\n",
              "          const docLinkHtml = 'Like what you see? Visit the ' +\n",
              "            '<a target=\"_blank\" href=https://colab.research.google.com/notebooks/data_table.ipynb>data table notebook</a>'\n",
              "            + ' to learn more about interactive tables.';\n",
              "          element.innerHTML = '';\n",
              "          dataTable['output_type'] = 'display_data';\n",
              "          await google.colab.output.renderOutput(dataTable, element);\n",
              "          const docLink = document.createElement('div');\n",
              "          docLink.innerHTML = docLinkHtml;\n",
              "          element.appendChild(docLink);\n",
              "        }\n",
              "      </script>\n",
              "    </div>\n",
              "  </div>\n",
              "  "
            ]
          },
          "metadata": {},
          "execution_count": 80
        }
      ]
    },
    {
      "cell_type": "markdown",
      "source": [
        "Let's check what tokens are the same and how many times they appear."
      ],
      "metadata": {
        "id": "3nlmtEr074xj"
      }
    },
    {
      "cell_type": "code",
      "source": [
        "print(df_same['token'].value_counts())"
      ],
      "metadata": {
        "colab": {
          "base_uri": "https://localhost:8080/"
        },
        "id": "VXCHsbU-MWlO",
        "outputId": "dd2cb92b-dfc2-423e-d866-1fbaaa7f3429"
      },
      "execution_count": null,
      "outputs": [
        {
          "output_type": "stream",
          "name": "stdout",
          "text": [
            ".                 11\n",
            "Ġtraining          8\n",
            "Ġhumans            2\n",
            "Ġlearning          2\n",
            "Ġsampling          2\n",
            "Ġa                 1\n",
            "Ġlinguistic        1\n",
            "Ġbias              1\n",
            "Ġreinforcement     1\n",
            "Name: token, dtype: int64\n"
          ]
        }
      ]
    },
    {
      "cell_type": "markdown",
      "source": [
        "Our final measure of similarity between the attention and the attributions uses Jaccard Index, which is the intersection of two sets divided by the union. This gives us an idea of how many tokens in our top 5% are the same and now many are different. "
      ],
      "metadata": {
        "id": "2axM5uSM773X"
      }
    },
    {
      "cell_type": "code",
      "source": [
        "def jaccard_similarity(set1, set2):\n",
        "    intersection = len(list(set1.intersection(set2)))\n",
        "    print(intersection)\n",
        "    union = (len(set1) + len(set2)) - intersection\n",
        "    print(union)\n",
        "    return float(intersection) / union"
      ],
      "metadata": {
        "id": "JT1F0CMNR5_T"
      },
      "execution_count": null,
      "outputs": []
    },
    {
      "cell_type": "code",
      "source": [
        "jaccard_similarity(attention_all_layer_top, exam_attrib_top)"
      ],
      "metadata": {
        "id": "MlxxoI6PR_iE",
        "colab": {
          "base_uri": "https://localhost:8080/"
        },
        "outputId": "96821126-33f3-4092-fcd0-c9d66bab27e9"
      },
      "execution_count": null,
      "outputs": [
        {
          "output_type": "stream",
          "name": "stdout",
          "text": [
            "29\n",
            "177\n"
          ]
        },
        {
          "output_type": "execute_result",
          "data": {
            "text/plain": [
              "0.1638418079096045"
            ]
          },
          "metadata": {},
          "execution_count": 83
        }
      ]
    },
    {
      "cell_type": "markdown",
      "source": [
        "### Removing Non-Alpha Tokens and Stopwords"
      ],
      "metadata": {
        "id": "Jexr3FgA7-8r"
      }
    },
    {
      "cell_type": "markdown",
      "source": [
        "We import a list of stopwords from nltk, tokenize them, and add them into the lsit of stopwords. "
      ],
      "metadata": {
        "id": "je_QR_RpBHvs"
      }
    },
    {
      "cell_type": "code",
      "source": [
        "import nltk\n",
        "from transformers import AutoTokenizer\n",
        "nltk.download('stopwords')\n",
        "tokenizer2 = AutoTokenizer.from_pretrained('allenai/longformer-base-4096', add_prefix_space=True)"
      ],
      "metadata": {
        "colab": {
          "base_uri": "https://localhost:8080/",
          "height": 84,
          "referenced_widgets": [
            "849b3bd053a641fba40b8a5e0d43186f",
            "b5d95457ed2e406097acf1cb046f3928",
            "5c1ac11148ea43d3b4188acbf9e7bf49",
            "83ccf5094bd3443593b69e221cccec3d",
            "d8bde63918044efcadc34cc62090c04c",
            "148fac5653d14dfc813487a504a5e7ed",
            "2408f94ac9f24bc8a70248d0f702068e",
            "94859fca9e124359add843fffcc06c47",
            "82b7535bc88d4beeb2bbf78fb8244ac8",
            "94afc4b039d44a39849a95a99c1b5cfa",
            "ef330f278d9f4898bad1c2b556da34b1"
          ]
        },
        "id": "HIyCJtJ9asFu",
        "outputId": "1efe79b3-002e-48ea-9aa1-41b06b3fc621"
      },
      "execution_count": null,
      "outputs": [
        {
          "output_type": "stream",
          "name": "stderr",
          "text": [
            "[nltk_data] Downloading package stopwords to /root/nltk_data...\n",
            "[nltk_data]   Unzipping corpora/stopwords.zip.\n"
          ]
        },
        {
          "output_type": "display_data",
          "data": {
            "text/plain": [
              "Downloading tokenizer.json:   0%|          | 0.00/1.29M [00:00<?, ?B/s]"
            ],
            "application/vnd.jupyter.widget-view+json": {
              "version_major": 2,
              "version_minor": 0,
              "model_id": "849b3bd053a641fba40b8a5e0d43186f"
            }
          },
          "metadata": {}
        }
      ]
    },
    {
      "cell_type": "code",
      "source": [
        "from nltk.corpus import stopwords\n",
        "all_stopwords = stopwords.words('english')\n",
        "all_stopwords.append(\" \")\n",
        "stopwords = set(tokenizer2.tokenize(all_stopwords, is_split_into_words =True))\n",
        "stopwords.update(all_stopwords)\n",
        "print(stopwords)"
      ],
      "metadata": {
        "colab": {
          "base_uri": "https://localhost:8080/"
        },
        "id": "3hypMXilatxP",
        "outputId": "e1f36062-d0fa-40e0-dcd8-edfe2da39438"
      },
      "execution_count": null,
      "outputs": [
        {
          "output_type": "stream",
          "name": "stdout",
          "text": [
            "{'Ġitself', 'Ġsome', 'Ġwere', 'Ġas', 'was', 'Ġdoesn', \"couldn't\", 'how', 'Ġhis', 'Ġhere', 'Ġonce', 'Ġthan', 'Ġno', 'further', \"'d\", 'yourselves', 'am', 'Ġon', 'their', 'Ġby', \"hadn't\", 'Ġare', 'Ġhow', 'during', 'should', 'that', \"you're\", 'myself', \"'ve\", 'Ġdidn', 'Ġwhere', \"weren't\", 'Ġain', ' ', 'more', 'Ġbeen', 'Ġt', 'herself', 've', 'Ġif', 'Ġhadn', 'Ġagain', 'Ġeach', 'Ġyourselves', 'above', 'between', 'Ġthemselves', 'Ġsuch', 'Ġwon', 'what', 'Ġduring', 'weren', 'Ġthis', 'wouldn', 'Ġwhom', 'now', 'out', 'Ġnor', 'Ġbeing', 'Ġdid', 'Ġis', 'can', 'no', 'Ġyours', 'in', 'where', 'ain', 'a', 'Ġat', 'theirs', 'Ġthen', 'his', 'mightn', 'Ġour', 'Ġo', 'Ġthrough', 'whom', 'didn', 'when', 'its', 'himself', 'each', \"mightn't\", 'of', 'Ġfor', 'Ġnow', 'below', 'Ġthese', 'Ġwe', 'hadn', 'Ġto', \"isn't\", 'into', 'there', 'Ġwhich', 'Ġve', 'Ġthere', 'i', 'Ġwhile', 'at', 'under', 'wasn', 'Ġherself', 'me', \"'s\", 'won', 'itself', 'own', 'does', 'Ġwho', 'as', 'he', \"you'd\", 'Ġwhen', 'who', \"you'll\", 'about', 'Ġany', 'Ġma', 'Ġthey', 'Ġup', 'ma', 'Ġother', 'Ġdown', 'doesn', 'here', 'Ġhad', 'Ġhimself', 'her', 'hasn', 'is', 'Ġsh', 'Ġshe', 'because', 'Ġnot', 'Ġdoing', 'Ġyou', \"needn't\", \"aren't\", 'while', 'and', \"shan't\", 'ourselves', 'has', 'Ġhers', 'Ġwasn', 'Ġweren', 'not', \"it's\", 'Ġaren', 'why', 'be', 'to', \"didn't\", 'she', 'Ġit', 'until', 'Ġtheirs', 'Ġoff', 'Ġan', 'will', 'few', 'Ġneed', 'Ġll', 'Ġvery', 'Ġwill', 'other', 'this', 'Ġbe', 'Ġhaving', 'been', 'which', 'up', 'll', 'Ġours', 'Ġin', 'only', 'Ġbut', 'Ġwith', 'Ġbefore', 'than', 'my', \"shouldn't\", 'nor', 'Ġof', \"haven't\", 'Ġover', 'Ġfew', 'Ġwhat', 'from', 'Ġjust', 'or', 'for', 'Ġcan', 'through', 'themselves', 'before', 'same', \"hasn't\", 'Ġthat', 'don', 'Ġall', 'Ġtoo', 'you', 'Ġits', 'we', 'Ġbelow', 'Ġy', 'Ġuntil', 'Ġs', 'have', 'Ġm', 'by', 'they', 'him', 'against', 'an', 'Ġ', 'very', 't', 'Ġmost', \"won't\", 'Ġand', 'Ġshouldn', 'over', 'Ġafter', 'Ġmyself', \"'re\", 'all', 'so', 'Ġfurther', 'Ġdo', 'Ġabout', 'did', 'Ġhasn', 'then', 'having', \"mustn't\", 'couldn', 'aren', 'Ġwas', 'Ġabove', 'Ġthe', 'on', 'after', 'Ġown', 'Ġdon', 'Ġam', 'most', 'if', 're', \"doesn't\", 'Ġyour', 'any', 'Ġboth', 'm', 'Ġsame', 'being', 'them', 'Ġcouldn', 'Ġtheir', 'yourself', 'Ġisn', 'Ġso', 'Ġunder', 'needn', 'our', \"'t\", 'Ġout', 'again', 'down', 'doing', 'Ġmore', \"she's\", 'Ġi', 'Ġhaven', 'Ġor', 'shan', 'but', 'n', 'Ġthose', 'Ġthem', 'Ġher', 'Ġinto', 'Ġd', 'd', 'Ġhave', 'with', 'hers', 's', 'too', 'isn', 'are', \"wasn't\", 'these', 'those', 'Ġhim', 'Ġwouldn', 'Ġshould', 'both', 'do', 'Ġre', 'once', 'Ġonly', 'were', 'some', 'just', 'Ġhas', 'shouldn', 'Ġmight', 'o', 'haven', \"you've\", 'Ġyourself', 'off', \"don't\", 'it', \"'ll\", 'Ġfrom', 'Ġhe', 'Ġmust', \"wouldn't\", 'your', 'mustn', \"should've\", 'Ġmy', 'Ġme', 'Ġbecause', \"that'll\", 'had', 'the', 'Ġwhy', 'Ġagainst', 'ours', 'Ġbetween', 'Ġdoes', 'such', 'Ġourselves', 'Ġa', 'yours', 'y'}\n"
          ]
        }
      ]
    },
    {
      "cell_type": "markdown",
      "source": [
        "Here we run through the 95th percentile again, but we first mask all the non-alpha tokens before we obtain our top 103 (top 5%) tokens."
      ],
      "metadata": {
        "id": "JmtwaMFm-OsA"
      }
    },
    {
      "cell_type": "code",
      "source": [
        "attention_final_layer6 = np.copy(attention_final_layer)\n",
        "attention_final_layer6 = normalize(attention_final_layer6)\n",
        "\n",
        "attention_all_layer6 = np.copy(attention_all_layer) \n",
        "attention_all_layer6 = normalize(attention_all_layer6)\n",
        "\n",
        "exam_attrib6 = np.abs(exam_attrib)\n",
        "exam_attrib6 = normalize(exam_attrib6)\n",
        "print(exam_attrib6)\n",
        "\n",
        "exam_tokens = all_tokens[str(example)]\n",
        "alpha_neumeric_nums = [idx for idx, element in enumerate(exam_tokens) if element.isalpha() if element not in stopwords]"
      ],
      "metadata": {
        "colab": {
          "base_uri": "https://localhost:8080/"
        },
        "id": "5zRfXrer-OKu",
        "outputId": "b07a5704-7350-494c-871b-4e9340f64ace"
      },
      "execution_count": null,
      "outputs": [
        {
          "output_type": "stream",
          "name": "stdout",
          "text": [
            "[0.00000000e+00 3.09815393e-03 2.46389383e-04 ... 4.17945981e-05\n",
            " 1.87499117e-03 0.00000000e+00]\n"
          ]
        }
      ]
    },
    {
      "cell_type": "markdown",
      "source": [
        "If the token is not alphanumeric, the mask designates it as \"true\", so the value will be set to 0."
      ],
      "metadata": {
        "id": "WpUCmcymsEy7"
      }
    },
    {
      "cell_type": "code",
      "source": [
        "mask = np.ones(attention_final_layer6.shape,dtype=bool) \n",
        "mask[alpha_neumeric_nums] = False\n",
        "\n",
        "attention_final_layer6[mask] = 0\n",
        "attention_all_layer6[mask] = 0\n",
        "exam_attrib6[mask] = 0"
      ],
      "metadata": {
        "id": "GGzk7BU-_pcV"
      },
      "execution_count": null,
      "outputs": []
    },
    {
      "cell_type": "markdown",
      "source": [
        "Once we have masked all the non-alphanumeric tokens, we do the same masking as previous to obtain our top 5% of tokens."
      ],
      "metadata": {
        "id": "Bl7_GZ5c9jeW"
      }
    },
    {
      "cell_type": "code",
      "source": [
        "top_final2 = np.percentile(attention_final_layer6, 95)\n",
        "top_all2 = np.percentile(attention_all_layer6, 95)\n",
        "top_attrib2 = np.percentile(exam_attrib6, 95)\n",
        "print(top_attrib2)"
      ],
      "metadata": {
        "colab": {
          "base_uri": "https://localhost:8080/"
        },
        "id": "JS6H3mHwA37b",
        "outputId": "fa56f972-e874-49f5-ce10-6e9105ad58ad"
      },
      "execution_count": null,
      "outputs": [
        {
          "output_type": "stream",
          "name": "stdout",
          "text": [
            "0.025996566118871633\n"
          ]
        }
      ]
    },
    {
      "cell_type": "markdown",
      "source": [
        "Like previously, we convert each array into a set."
      ],
      "metadata": {
        "id": "45Z2hfie9rfR"
      }
    },
    {
      "cell_type": "code",
      "source": [
        "attention_final_layer6[attention_final_layer6<top_final2] = 0\n",
        "attention_all_layer6[attention_all_layer6<top_all2] = 0\n",
        "exam_attrib6[exam_attrib6<top_attrib2] = 0\n",
        "\n",
        "attention_final_layer_top2 = np.flatnonzero(attention_final_layer6)\n",
        "attention_final_layer_top2 = set(attention_final_layer_top2)\n",
        "print(len(attention_final_layer_top2))\n",
        "\n",
        "attention_all_layer_top2 = np.flatnonzero(attention_all_layer6)\n",
        "attention_all_layer_top2 = set(attention_all_layer_top2)\n",
        "print(len(attention_all_layer_top2))\n",
        "\n",
        "exam_attrib_top2 = np.flatnonzero(exam_attrib6)\n",
        "exam_attrib_top2 = set(exam_attrib_top2)\n",
        "print(len(exam_attrib_top2))"
      ],
      "metadata": {
        "colab": {
          "base_uri": "https://localhost:8080/"
        },
        "id": "xYwPm6FJBIU3",
        "outputId": "26201bb1-704e-4ac4-c4f1-9357f29491d0"
      },
      "execution_count": null,
      "outputs": [
        {
          "output_type": "stream",
          "name": "stdout",
          "text": [
            "103\n",
            "103\n",
            "103\n"
          ]
        }
      ]
    },
    {
      "cell_type": "markdown",
      "source": [
        "We once again find out which tokens have the highest attentions but not the highest attributions, and display it in a dataframe with the unmasked attentions and the attributions."
      ],
      "metadata": {
        "id": "g93bkx-097O3"
      }
    },
    {
      "cell_type": "code",
      "source": [
        "diff_alpha = sorted(list(attention_all_layer_top2 - exam_attrib_top2))\n",
        "print(len(diff_alpha))\n",
        "diff_alpha_tokens = [exam_tokens[idx] for idx in diff_alpha]\n",
        "d_diff_alpha = {\"token\": diff_alpha_tokens, \"position\":diff_alpha, \"attention_norm\":attention_all_layer2[diff_alpha], \"attribution_norm\":exam_attrib2[diff_alpha]}\n",
        "df_diff_alpha = pd.DataFrame(d_diff_alpha)\n",
        "df_diff_alpha"
      ],
      "metadata": {
        "colab": {
          "base_uri": "https://localhost:8080/",
          "height": 441
        },
        "id": "k6p8GE8FCQPS",
        "outputId": "65e43e87-aa82-4c2e-bd86-31d71e68ace3"
      },
      "execution_count": null,
      "outputs": [
        {
          "output_type": "stream",
          "name": "stdout",
          "text": [
            "70\n"
          ]
        },
        {
          "output_type": "execute_result",
          "data": {
            "text/plain": [
              "          token  position  attention_norm  attribution_norm\n",
              "0     ĠTraining        34        0.015649          0.003152\n",
              "1            CV        64        0.016594          0.002481\n",
              "2        format        93        0.011944          0.004075\n",
              "3       ĠCampus       102        0.013634          0.001304\n",
              "4     ĠAbstract       129        0.016258          0.000983\n",
              "..          ...       ...             ...               ...\n",
              "65  Ġlikelihood      1790        0.019138          0.006202\n",
              "66       Ġworks      1795        0.016055          0.012106\n",
              "67      Ġlearns      1993        0.017046          0.007427\n",
              "68       Ġlearn      2012        0.011279          0.001798\n",
              "69    Ġtraining      2041        0.012387          0.021330\n",
              "\n",
              "[70 rows x 4 columns]"
            ],
            "text/html": [
              "\n",
              "  <div id=\"df-4256abbb-70ec-4e8e-b47e-513aafb2b9e8\">\n",
              "    <div class=\"colab-df-container\">\n",
              "      <div>\n",
              "<style scoped>\n",
              "    .dataframe tbody tr th:only-of-type {\n",
              "        vertical-align: middle;\n",
              "    }\n",
              "\n",
              "    .dataframe tbody tr th {\n",
              "        vertical-align: top;\n",
              "    }\n",
              "\n",
              "    .dataframe thead th {\n",
              "        text-align: right;\n",
              "    }\n",
              "</style>\n",
              "<table border=\"1\" class=\"dataframe\">\n",
              "  <thead>\n",
              "    <tr style=\"text-align: right;\">\n",
              "      <th></th>\n",
              "      <th>token</th>\n",
              "      <th>position</th>\n",
              "      <th>attention_norm</th>\n",
              "      <th>attribution_norm</th>\n",
              "    </tr>\n",
              "  </thead>\n",
              "  <tbody>\n",
              "    <tr>\n",
              "      <th>0</th>\n",
              "      <td>ĠTraining</td>\n",
              "      <td>34</td>\n",
              "      <td>0.015649</td>\n",
              "      <td>0.003152</td>\n",
              "    </tr>\n",
              "    <tr>\n",
              "      <th>1</th>\n",
              "      <td>CV</td>\n",
              "      <td>64</td>\n",
              "      <td>0.016594</td>\n",
              "      <td>0.002481</td>\n",
              "    </tr>\n",
              "    <tr>\n",
              "      <th>2</th>\n",
              "      <td>format</td>\n",
              "      <td>93</td>\n",
              "      <td>0.011944</td>\n",
              "      <td>0.004075</td>\n",
              "    </tr>\n",
              "    <tr>\n",
              "      <th>3</th>\n",
              "      <td>ĠCampus</td>\n",
              "      <td>102</td>\n",
              "      <td>0.013634</td>\n",
              "      <td>0.001304</td>\n",
              "    </tr>\n",
              "    <tr>\n",
              "      <th>4</th>\n",
              "      <td>ĠAbstract</td>\n",
              "      <td>129</td>\n",
              "      <td>0.016258</td>\n",
              "      <td>0.000983</td>\n",
              "    </tr>\n",
              "    <tr>\n",
              "      <th>...</th>\n",
              "      <td>...</td>\n",
              "      <td>...</td>\n",
              "      <td>...</td>\n",
              "      <td>...</td>\n",
              "    </tr>\n",
              "    <tr>\n",
              "      <th>65</th>\n",
              "      <td>Ġlikelihood</td>\n",
              "      <td>1790</td>\n",
              "      <td>0.019138</td>\n",
              "      <td>0.006202</td>\n",
              "    </tr>\n",
              "    <tr>\n",
              "      <th>66</th>\n",
              "      <td>Ġworks</td>\n",
              "      <td>1795</td>\n",
              "      <td>0.016055</td>\n",
              "      <td>0.012106</td>\n",
              "    </tr>\n",
              "    <tr>\n",
              "      <th>67</th>\n",
              "      <td>Ġlearns</td>\n",
              "      <td>1993</td>\n",
              "      <td>0.017046</td>\n",
              "      <td>0.007427</td>\n",
              "    </tr>\n",
              "    <tr>\n",
              "      <th>68</th>\n",
              "      <td>Ġlearn</td>\n",
              "      <td>2012</td>\n",
              "      <td>0.011279</td>\n",
              "      <td>0.001798</td>\n",
              "    </tr>\n",
              "    <tr>\n",
              "      <th>69</th>\n",
              "      <td>Ġtraining</td>\n",
              "      <td>2041</td>\n",
              "      <td>0.012387</td>\n",
              "      <td>0.021330</td>\n",
              "    </tr>\n",
              "  </tbody>\n",
              "</table>\n",
              "<p>70 rows × 4 columns</p>\n",
              "</div>\n",
              "      <button class=\"colab-df-convert\" onclick=\"convertToInteractive('df-4256abbb-70ec-4e8e-b47e-513aafb2b9e8')\"\n",
              "              title=\"Convert this dataframe to an interactive table.\"\n",
              "              style=\"display:none;\">\n",
              "        \n",
              "  <svg xmlns=\"http://www.w3.org/2000/svg\" height=\"24px\"viewBox=\"0 0 24 24\"\n",
              "       width=\"24px\">\n",
              "    <path d=\"M0 0h24v24H0V0z\" fill=\"none\"/>\n",
              "    <path d=\"M18.56 5.44l.94 2.06.94-2.06 2.06-.94-2.06-.94-.94-2.06-.94 2.06-2.06.94zm-11 1L8.5 8.5l.94-2.06 2.06-.94-2.06-.94L8.5 2.5l-.94 2.06-2.06.94zm10 10l.94 2.06.94-2.06 2.06-.94-2.06-.94-.94-2.06-.94 2.06-2.06.94z\"/><path d=\"M17.41 7.96l-1.37-1.37c-.4-.4-.92-.59-1.43-.59-.52 0-1.04.2-1.43.59L10.3 9.45l-7.72 7.72c-.78.78-.78 2.05 0 2.83L4 21.41c.39.39.9.59 1.41.59.51 0 1.02-.2 1.41-.59l7.78-7.78 2.81-2.81c.8-.78.8-2.07 0-2.86zM5.41 20L4 18.59l7.72-7.72 1.47 1.35L5.41 20z\"/>\n",
              "  </svg>\n",
              "      </button>\n",
              "      \n",
              "  <style>\n",
              "    .colab-df-container {\n",
              "      display:flex;\n",
              "      flex-wrap:wrap;\n",
              "      gap: 12px;\n",
              "    }\n",
              "\n",
              "    .colab-df-convert {\n",
              "      background-color: #E8F0FE;\n",
              "      border: none;\n",
              "      border-radius: 50%;\n",
              "      cursor: pointer;\n",
              "      display: none;\n",
              "      fill: #1967D2;\n",
              "      height: 32px;\n",
              "      padding: 0 0 0 0;\n",
              "      width: 32px;\n",
              "    }\n",
              "\n",
              "    .colab-df-convert:hover {\n",
              "      background-color: #E2EBFA;\n",
              "      box-shadow: 0px 1px 2px rgba(60, 64, 67, 0.3), 0px 1px 3px 1px rgba(60, 64, 67, 0.15);\n",
              "      fill: #174EA6;\n",
              "    }\n",
              "\n",
              "    [theme=dark] .colab-df-convert {\n",
              "      background-color: #3B4455;\n",
              "      fill: #D2E3FC;\n",
              "    }\n",
              "\n",
              "    [theme=dark] .colab-df-convert:hover {\n",
              "      background-color: #434B5C;\n",
              "      box-shadow: 0px 1px 3px 1px rgba(0, 0, 0, 0.15);\n",
              "      filter: drop-shadow(0px 1px 2px rgba(0, 0, 0, 0.3));\n",
              "      fill: #FFFFFF;\n",
              "    }\n",
              "  </style>\n",
              "\n",
              "      <script>\n",
              "        const buttonEl =\n",
              "          document.querySelector('#df-4256abbb-70ec-4e8e-b47e-513aafb2b9e8 button.colab-df-convert');\n",
              "        buttonEl.style.display =\n",
              "          google.colab.kernel.accessAllowed ? 'block' : 'none';\n",
              "\n",
              "        async function convertToInteractive(key) {\n",
              "          const element = document.querySelector('#df-4256abbb-70ec-4e8e-b47e-513aafb2b9e8');\n",
              "          const dataTable =\n",
              "            await google.colab.kernel.invokeFunction('convertToInteractive',\n",
              "                                                     [key], {});\n",
              "          if (!dataTable) return;\n",
              "\n",
              "          const docLinkHtml = 'Like what you see? Visit the ' +\n",
              "            '<a target=\"_blank\" href=https://colab.research.google.com/notebooks/data_table.ipynb>data table notebook</a>'\n",
              "            + ' to learn more about interactive tables.';\n",
              "          element.innerHTML = '';\n",
              "          dataTable['output_type'] = 'display_data';\n",
              "          await google.colab.output.renderOutput(dataTable, element);\n",
              "          const docLink = document.createElement('div');\n",
              "          docLink.innerHTML = docLinkHtml;\n",
              "          element.appendChild(docLink);\n",
              "        }\n",
              "      </script>\n",
              "    </div>\n",
              "  </div>\n",
              "  "
            ]
          },
          "metadata": {},
          "execution_count": 90
        }
      ]
    },
    {
      "cell_type": "markdown",
      "source": [
        "Let's check what tokens are different and how many times they appear."
      ],
      "metadata": {
        "id": "ytYv1FTQ-R6_"
      }
    },
    {
      "cell_type": "code",
      "source": [
        "print(df_diff_alpha['token'].value_counts())"
      ],
      "metadata": {
        "colab": {
          "base_uri": "https://localhost:8080/"
        },
        "id": "rFqkoCD1GSTH",
        "outputId": "2a499f65-d2a2-4361-cdeb-60b1497b41d6"
      },
      "execution_count": null,
      "outputs": [
        {
          "output_type": "stream",
          "name": "stdout",
          "text": [
            "Ġtraining         6\n",
            "Ġadvers           5\n",
            "truth             3\n",
            "Ġevaluation       2\n",
            "Ġcaption          2\n",
            "Ġbiased           2\n",
            "Ġrecurrent        2\n",
            "Ġtask             2\n",
            "Ġvocabulary       2\n",
            "Ġmetrics          2\n",
            "Ġinvestigation    1\n",
            "Ġambiguity        1\n",
            "Ġpredicting       1\n",
            "Ġimage            1\n",
            "Ġtrained          1\n",
            "ĠTest             1\n",
            "ĠNetworks         1\n",
            "Ġsupplementary    1\n",
            "Ġhuman            1\n",
            "Ġsampling         1\n",
            "ĠFigure           1\n",
            "goo               1\n",
            "Ġdeep             1\n",
            "uristic           1\n",
            "Ġconverge         1\n",
            "Ġproposes         1\n",
            "Ġlikelihood       1\n",
            "Ġworks            1\n",
            "Ġlearns           1\n",
            "Ġbaseline         1\n",
            "ĠTraining         1\n",
            "ĠWork             1\n",
            "Ġartifacts        1\n",
            "format            1\n",
            "ĠCampus           1\n",
            "ĠAbstract         1\n",
            "Ġbias             1\n",
            "Ġlearning         1\n",
            "Ġmethod           1\n",
            "Ġcorrectness      1\n",
            "Ġpaper            1\n",
            "Ġsamples          1\n",
            "Ġadvances         1\n",
            "Ġscrutiny         1\n",
            "Ġevaluated        1\n",
            "Ġdiversity        1\n",
            "ĠTuring           1\n",
            "Ġtagging          1\n",
            "Ġlanguage         1\n",
            "CV                1\n",
            "Ġchallenge        1\n",
            "Ġlearn            1\n",
            "Name: token, dtype: int64\n"
          ]
        }
      ]
    },
    {
      "cell_type": "markdown",
      "source": [
        "We once again find out which tokens have the highest attributions but not the highest attentions, and display it in a dataframe with the unmasked attentions and the attributions."
      ],
      "metadata": {
        "id": "vnkJ-j9Y-bFx"
      }
    },
    {
      "cell_type": "code",
      "source": [
        "diff_alpha2 = sorted(list(exam_attrib_top2- attention_all_layer_top2))\n",
        "print(len(diff_alpha2))\n",
        "diff_alpha_tokens2 = [exam_tokens[idx] for idx in diff_alpha2]\n",
        "d_diff_alpha2 = {\"token\": diff_alpha_tokens2, \"position\":diff_alpha2, \"attention_norm\":attention_all_layer2[diff_alpha2], \"attribution_norm\":exam_attrib2[diff_alpha2]}\n",
        "df_diff_alpha2 = pd.DataFrame(d_diff_alpha2)\n",
        "df_diff_alpha2"
      ],
      "metadata": {
        "colab": {
          "base_uri": "https://localhost:8080/",
          "height": 441
        },
        "id": "TiL98TrBC24P",
        "outputId": "0efa52f3-d202-4de7-f100-6e7cb7c6eda5"
      },
      "execution_count": null,
      "outputs": [
        {
          "output_type": "stream",
          "name": "stdout",
          "text": [
            "70\n"
          ]
        },
        {
          "output_type": "execute_result",
          "data": {
            "text/plain": [
              "          token  position  attention_norm  attribution_norm\n",
              "0        ĠHuman        27        0.008940          0.039440\n",
              "1        Ġhuman       144        0.008696          0.099735\n",
              "2         ĠThis       152        0.003915          0.026506\n",
              "3        Ġhuman       247        0.008363          0.042492\n",
              "4        Ġhuman       285        0.010766          0.037411\n",
              "..          ...       ...             ...               ...\n",
              "65       Ġbased      1804        0.002818          0.044758\n",
              "66  Ġapproaches      1805        0.008188          0.083835\n",
              "67     Ġmetrics      1811        0.008892          0.070791\n",
              "68     Ġmetrics      1833        0.005061          0.052813\n",
              "69       Ġhuman      1927        0.006931          0.027641\n",
              "\n",
              "[70 rows x 4 columns]"
            ],
            "text/html": [
              "\n",
              "  <div id=\"df-15ffabc2-ae7c-4efa-8fca-1a1e1275f0a2\">\n",
              "    <div class=\"colab-df-container\">\n",
              "      <div>\n",
              "<style scoped>\n",
              "    .dataframe tbody tr th:only-of-type {\n",
              "        vertical-align: middle;\n",
              "    }\n",
              "\n",
              "    .dataframe tbody tr th {\n",
              "        vertical-align: top;\n",
              "    }\n",
              "\n",
              "    .dataframe thead th {\n",
              "        text-align: right;\n",
              "    }\n",
              "</style>\n",
              "<table border=\"1\" class=\"dataframe\">\n",
              "  <thead>\n",
              "    <tr style=\"text-align: right;\">\n",
              "      <th></th>\n",
              "      <th>token</th>\n",
              "      <th>position</th>\n",
              "      <th>attention_norm</th>\n",
              "      <th>attribution_norm</th>\n",
              "    </tr>\n",
              "  </thead>\n",
              "  <tbody>\n",
              "    <tr>\n",
              "      <th>0</th>\n",
              "      <td>ĠHuman</td>\n",
              "      <td>27</td>\n",
              "      <td>0.008940</td>\n",
              "      <td>0.039440</td>\n",
              "    </tr>\n",
              "    <tr>\n",
              "      <th>1</th>\n",
              "      <td>Ġhuman</td>\n",
              "      <td>144</td>\n",
              "      <td>0.008696</td>\n",
              "      <td>0.099735</td>\n",
              "    </tr>\n",
              "    <tr>\n",
              "      <th>2</th>\n",
              "      <td>ĠThis</td>\n",
              "      <td>152</td>\n",
              "      <td>0.003915</td>\n",
              "      <td>0.026506</td>\n",
              "    </tr>\n",
              "    <tr>\n",
              "      <th>3</th>\n",
              "      <td>Ġhuman</td>\n",
              "      <td>247</td>\n",
              "      <td>0.008363</td>\n",
              "      <td>0.042492</td>\n",
              "    </tr>\n",
              "    <tr>\n",
              "      <th>4</th>\n",
              "      <td>Ġhuman</td>\n",
              "      <td>285</td>\n",
              "      <td>0.010766</td>\n",
              "      <td>0.037411</td>\n",
              "    </tr>\n",
              "    <tr>\n",
              "      <th>...</th>\n",
              "      <td>...</td>\n",
              "      <td>...</td>\n",
              "      <td>...</td>\n",
              "      <td>...</td>\n",
              "    </tr>\n",
              "    <tr>\n",
              "      <th>65</th>\n",
              "      <td>Ġbased</td>\n",
              "      <td>1804</td>\n",
              "      <td>0.002818</td>\n",
              "      <td>0.044758</td>\n",
              "    </tr>\n",
              "    <tr>\n",
              "      <th>66</th>\n",
              "      <td>Ġapproaches</td>\n",
              "      <td>1805</td>\n",
              "      <td>0.008188</td>\n",
              "      <td>0.083835</td>\n",
              "    </tr>\n",
              "    <tr>\n",
              "      <th>67</th>\n",
              "      <td>Ġmetrics</td>\n",
              "      <td>1811</td>\n",
              "      <td>0.008892</td>\n",
              "      <td>0.070791</td>\n",
              "    </tr>\n",
              "    <tr>\n",
              "      <th>68</th>\n",
              "      <td>Ġmetrics</td>\n",
              "      <td>1833</td>\n",
              "      <td>0.005061</td>\n",
              "      <td>0.052813</td>\n",
              "    </tr>\n",
              "    <tr>\n",
              "      <th>69</th>\n",
              "      <td>Ġhuman</td>\n",
              "      <td>1927</td>\n",
              "      <td>0.006931</td>\n",
              "      <td>0.027641</td>\n",
              "    </tr>\n",
              "  </tbody>\n",
              "</table>\n",
              "<p>70 rows × 4 columns</p>\n",
              "</div>\n",
              "      <button class=\"colab-df-convert\" onclick=\"convertToInteractive('df-15ffabc2-ae7c-4efa-8fca-1a1e1275f0a2')\"\n",
              "              title=\"Convert this dataframe to an interactive table.\"\n",
              "              style=\"display:none;\">\n",
              "        \n",
              "  <svg xmlns=\"http://www.w3.org/2000/svg\" height=\"24px\"viewBox=\"0 0 24 24\"\n",
              "       width=\"24px\">\n",
              "    <path d=\"M0 0h24v24H0V0z\" fill=\"none\"/>\n",
              "    <path d=\"M18.56 5.44l.94 2.06.94-2.06 2.06-.94-2.06-.94-.94-2.06-.94 2.06-2.06.94zm-11 1L8.5 8.5l.94-2.06 2.06-.94-2.06-.94L8.5 2.5l-.94 2.06-2.06.94zm10 10l.94 2.06.94-2.06 2.06-.94-2.06-.94-.94-2.06-.94 2.06-2.06.94z\"/><path d=\"M17.41 7.96l-1.37-1.37c-.4-.4-.92-.59-1.43-.59-.52 0-1.04.2-1.43.59L10.3 9.45l-7.72 7.72c-.78.78-.78 2.05 0 2.83L4 21.41c.39.39.9.59 1.41.59.51 0 1.02-.2 1.41-.59l7.78-7.78 2.81-2.81c.8-.78.8-2.07 0-2.86zM5.41 20L4 18.59l7.72-7.72 1.47 1.35L5.41 20z\"/>\n",
              "  </svg>\n",
              "      </button>\n",
              "      \n",
              "  <style>\n",
              "    .colab-df-container {\n",
              "      display:flex;\n",
              "      flex-wrap:wrap;\n",
              "      gap: 12px;\n",
              "    }\n",
              "\n",
              "    .colab-df-convert {\n",
              "      background-color: #E8F0FE;\n",
              "      border: none;\n",
              "      border-radius: 50%;\n",
              "      cursor: pointer;\n",
              "      display: none;\n",
              "      fill: #1967D2;\n",
              "      height: 32px;\n",
              "      padding: 0 0 0 0;\n",
              "      width: 32px;\n",
              "    }\n",
              "\n",
              "    .colab-df-convert:hover {\n",
              "      background-color: #E2EBFA;\n",
              "      box-shadow: 0px 1px 2px rgba(60, 64, 67, 0.3), 0px 1px 3px 1px rgba(60, 64, 67, 0.15);\n",
              "      fill: #174EA6;\n",
              "    }\n",
              "\n",
              "    [theme=dark] .colab-df-convert {\n",
              "      background-color: #3B4455;\n",
              "      fill: #D2E3FC;\n",
              "    }\n",
              "\n",
              "    [theme=dark] .colab-df-convert:hover {\n",
              "      background-color: #434B5C;\n",
              "      box-shadow: 0px 1px 3px 1px rgba(0, 0, 0, 0.15);\n",
              "      filter: drop-shadow(0px 1px 2px rgba(0, 0, 0, 0.3));\n",
              "      fill: #FFFFFF;\n",
              "    }\n",
              "  </style>\n",
              "\n",
              "      <script>\n",
              "        const buttonEl =\n",
              "          document.querySelector('#df-15ffabc2-ae7c-4efa-8fca-1a1e1275f0a2 button.colab-df-convert');\n",
              "        buttonEl.style.display =\n",
              "          google.colab.kernel.accessAllowed ? 'block' : 'none';\n",
              "\n",
              "        async function convertToInteractive(key) {\n",
              "          const element = document.querySelector('#df-15ffabc2-ae7c-4efa-8fca-1a1e1275f0a2');\n",
              "          const dataTable =\n",
              "            await google.colab.kernel.invokeFunction('convertToInteractive',\n",
              "                                                     [key], {});\n",
              "          if (!dataTable) return;\n",
              "\n",
              "          const docLinkHtml = 'Like what you see? Visit the ' +\n",
              "            '<a target=\"_blank\" href=https://colab.research.google.com/notebooks/data_table.ipynb>data table notebook</a>'\n",
              "            + ' to learn more about interactive tables.';\n",
              "          element.innerHTML = '';\n",
              "          dataTable['output_type'] = 'display_data';\n",
              "          await google.colab.output.renderOutput(dataTable, element);\n",
              "          const docLink = document.createElement('div');\n",
              "          docLink.innerHTML = docLinkHtml;\n",
              "          element.appendChild(docLink);\n",
              "        }\n",
              "      </script>\n",
              "    </div>\n",
              "  </div>\n",
              "  "
            ]
          },
          "metadata": {},
          "execution_count": 92
        }
      ]
    },
    {
      "cell_type": "markdown",
      "source": [
        "Let's check what tokens are different and how many times they appear."
      ],
      "metadata": {
        "id": "RWrXMIKq-Vsa"
      }
    },
    {
      "cell_type": "code",
      "source": [
        "print(df_diff_alpha2['token'].value_counts())"
      ],
      "metadata": {
        "colab": {
          "base_uri": "https://localhost:8080/"
        },
        "id": "SuRLXVY_GRyu",
        "outputId": "bf47b7c2-ebba-49f0-8c23-31f6e7c662bb"
      },
      "execution_count": null,
      "outputs": [
        {
          "output_type": "stream",
          "name": "stdout",
          "text": [
            "Ġhuman           8\n",
            "Ġmodel           5\n",
            "Ġdiversity       4\n",
            "Ġmodels          3\n",
            "Ġlanguage        2\n",
            "Ġtest            2\n",
            "Ġword            2\n",
            "Ġmethod          2\n",
            "Ġsentences       2\n",
            "Ġnetworks        2\n",
            "Ġmetrics         2\n",
            "Ġpredicted       2\n",
            "Ġapproaches      2\n",
            "Ġobjective       1\n",
            "Ġbased           1\n",
            "Ġfollowed        1\n",
            "Ġproposes        1\n",
            "Ġscheme          1\n",
            "ĠSeveral         1\n",
            "Ġbegins          1\n",
            "Ġgradually       1\n",
            "Ġscore           1\n",
            "Ġdata            1\n",
            "Ġmaximum         1\n",
            "Ġdistribution    1\n",
            "Ġpredicts        1\n",
            "Ġstandard        1\n",
            "Ġtrue            1\n",
            "ĠHuman           1\n",
            "Ġground          1\n",
            "Ġpredict         1\n",
            "Ġdescription     1\n",
            "Ġchallenge       1\n",
            "Ġloss            1\n",
            "Ġdifferent       1\n",
            "Ġusing           1\n",
            "Ġattempts        1\n",
            "Ġtranslation     1\n",
            "Ġstatistics      1\n",
            "ing              1\n",
            "Ġeasy            1\n",
            "âĢ               1\n",
            "art              1\n",
            "ĠThis            1\n",
            "Ġdialogue        1\n",
            "Name: token, dtype: int64\n"
          ]
        }
      ]
    },
    {
      "cell_type": "markdown",
      "source": [
        "Lastly, we find out which tokens are part of the highest attentions and highest attributions."
      ],
      "metadata": {
        "id": "kkMMmkLm-Yoo"
      }
    },
    {
      "cell_type": "code",
      "source": [
        "same_alpha = sorted(list(exam_attrib_top2 & attention_all_layer_top2))\n",
        "print(len(same_alpha))\n",
        "same_alpha_tokens = [exam_tokens[idx] for idx in same_alpha]\n",
        "d_same_alpha = {\"token\": same_alpha_tokens, \"position\":same_alpha, \"attention_norm\":attention_all_layer2[same_alpha], \"attribution_norm\":exam_attrib2[same_alpha]}\n",
        "df_same_alpha = pd.DataFrame(d_same_alpha)\n",
        "df_same_alpha"
      ],
      "metadata": {
        "colab": {
          "base_uri": "https://localhost:8080/",
          "height": 1000
        },
        "id": "DGg8RaOVDGqK",
        "outputId": "d76063cc-ecae-438f-c048-283f51a5dfc1"
      },
      "execution_count": null,
      "outputs": [
        {
          "output_type": "stream",
          "name": "stdout",
          "text": [
            "33\n"
          ]
        },
        {
          "output_type": "execute_result",
          "data": {
            "text/plain": [
              "             token  position  attention_norm  attribution_norm\n",
              "0              ĠAI       126        0.079333          0.034024\n",
              "1          Ġhumans       181        0.015066          0.035158\n",
              "2        Ġtraining       223        0.049920          0.033059\n",
              "3        Ġtraining       266        0.041594          0.063398\n",
              "4          Ġhumans       751        0.020302          0.158666\n",
              "5           Figure      1273        0.016220          0.028446\n",
              "6     Ġstatistical      1352        0.012004          0.076133\n",
              "7        Ġlearning      1362        0.069271          0.077581\n",
              "8          Ġsearch      1479        0.012234          0.027260\n",
              "9        Ġtraining      1493        0.011673          0.177406\n",
              "10       Ġtraining      1506        0.014682          0.352119\n",
              "11       Ġlearning      1531        0.014073          0.063845\n",
              "12       Ġtraining      1538        0.014267          0.423744\n",
              "13       Ġtraining      1544        0.012210          1.000000\n",
              "14        Ġstudied      1576        0.011810          0.037387\n",
              "15     Ġlinguistic      1579        0.020428          0.141394\n",
              "16       Ġtraining      1593        0.021814          0.793757\n",
              "17       Ġtraining      1659        0.017181          0.407973\n",
              "18           Ġbias      1670        0.011333          0.086934\n",
              "19          Ġlearn      1677        0.013235          0.044794\n",
              "20       Ġtraining      1687        0.018117          0.663055\n",
              "21       Ġsampling      1699        0.018518          0.044647\n",
              "22       Ġtraining      1700        0.023144          0.742092\n",
              "23       Ġtraining      1705        0.018725          0.260165\n",
              "24       Ġsampling      1734        0.020450          0.041103\n",
              "25      Ġalgorithm      1735        0.014053          0.085137\n",
              "26        Ġoptimal      1740        0.012448          0.060187\n",
              "27       Ġexposure      1766        0.011958          0.053000\n",
              "28           Ġbias      1767        0.021194          0.163948\n",
              "29       Ġtraining      1791        0.037431          0.578020\n",
              "30  Ġreinforcement      1802        0.107999          0.076461\n",
              "31       Ġlearning      1803        0.045205          0.183247\n",
              "32       Ġoptimize      1808        0.011426          0.048320"
            ],
            "text/html": [
              "\n",
              "  <div id=\"df-252a53fd-3f83-4dc4-8ab2-879a673ef209\">\n",
              "    <div class=\"colab-df-container\">\n",
              "      <div>\n",
              "<style scoped>\n",
              "    .dataframe tbody tr th:only-of-type {\n",
              "        vertical-align: middle;\n",
              "    }\n",
              "\n",
              "    .dataframe tbody tr th {\n",
              "        vertical-align: top;\n",
              "    }\n",
              "\n",
              "    .dataframe thead th {\n",
              "        text-align: right;\n",
              "    }\n",
              "</style>\n",
              "<table border=\"1\" class=\"dataframe\">\n",
              "  <thead>\n",
              "    <tr style=\"text-align: right;\">\n",
              "      <th></th>\n",
              "      <th>token</th>\n",
              "      <th>position</th>\n",
              "      <th>attention_norm</th>\n",
              "      <th>attribution_norm</th>\n",
              "    </tr>\n",
              "  </thead>\n",
              "  <tbody>\n",
              "    <tr>\n",
              "      <th>0</th>\n",
              "      <td>ĠAI</td>\n",
              "      <td>126</td>\n",
              "      <td>0.079333</td>\n",
              "      <td>0.034024</td>\n",
              "    </tr>\n",
              "    <tr>\n",
              "      <th>1</th>\n",
              "      <td>Ġhumans</td>\n",
              "      <td>181</td>\n",
              "      <td>0.015066</td>\n",
              "      <td>0.035158</td>\n",
              "    </tr>\n",
              "    <tr>\n",
              "      <th>2</th>\n",
              "      <td>Ġtraining</td>\n",
              "      <td>223</td>\n",
              "      <td>0.049920</td>\n",
              "      <td>0.033059</td>\n",
              "    </tr>\n",
              "    <tr>\n",
              "      <th>3</th>\n",
              "      <td>Ġtraining</td>\n",
              "      <td>266</td>\n",
              "      <td>0.041594</td>\n",
              "      <td>0.063398</td>\n",
              "    </tr>\n",
              "    <tr>\n",
              "      <th>4</th>\n",
              "      <td>Ġhumans</td>\n",
              "      <td>751</td>\n",
              "      <td>0.020302</td>\n",
              "      <td>0.158666</td>\n",
              "    </tr>\n",
              "    <tr>\n",
              "      <th>5</th>\n",
              "      <td>Figure</td>\n",
              "      <td>1273</td>\n",
              "      <td>0.016220</td>\n",
              "      <td>0.028446</td>\n",
              "    </tr>\n",
              "    <tr>\n",
              "      <th>6</th>\n",
              "      <td>Ġstatistical</td>\n",
              "      <td>1352</td>\n",
              "      <td>0.012004</td>\n",
              "      <td>0.076133</td>\n",
              "    </tr>\n",
              "    <tr>\n",
              "      <th>7</th>\n",
              "      <td>Ġlearning</td>\n",
              "      <td>1362</td>\n",
              "      <td>0.069271</td>\n",
              "      <td>0.077581</td>\n",
              "    </tr>\n",
              "    <tr>\n",
              "      <th>8</th>\n",
              "      <td>Ġsearch</td>\n",
              "      <td>1479</td>\n",
              "      <td>0.012234</td>\n",
              "      <td>0.027260</td>\n",
              "    </tr>\n",
              "    <tr>\n",
              "      <th>9</th>\n",
              "      <td>Ġtraining</td>\n",
              "      <td>1493</td>\n",
              "      <td>0.011673</td>\n",
              "      <td>0.177406</td>\n",
              "    </tr>\n",
              "    <tr>\n",
              "      <th>10</th>\n",
              "      <td>Ġtraining</td>\n",
              "      <td>1506</td>\n",
              "      <td>0.014682</td>\n",
              "      <td>0.352119</td>\n",
              "    </tr>\n",
              "    <tr>\n",
              "      <th>11</th>\n",
              "      <td>Ġlearning</td>\n",
              "      <td>1531</td>\n",
              "      <td>0.014073</td>\n",
              "      <td>0.063845</td>\n",
              "    </tr>\n",
              "    <tr>\n",
              "      <th>12</th>\n",
              "      <td>Ġtraining</td>\n",
              "      <td>1538</td>\n",
              "      <td>0.014267</td>\n",
              "      <td>0.423744</td>\n",
              "    </tr>\n",
              "    <tr>\n",
              "      <th>13</th>\n",
              "      <td>Ġtraining</td>\n",
              "      <td>1544</td>\n",
              "      <td>0.012210</td>\n",
              "      <td>1.000000</td>\n",
              "    </tr>\n",
              "    <tr>\n",
              "      <th>14</th>\n",
              "      <td>Ġstudied</td>\n",
              "      <td>1576</td>\n",
              "      <td>0.011810</td>\n",
              "      <td>0.037387</td>\n",
              "    </tr>\n",
              "    <tr>\n",
              "      <th>15</th>\n",
              "      <td>Ġlinguistic</td>\n",
              "      <td>1579</td>\n",
              "      <td>0.020428</td>\n",
              "      <td>0.141394</td>\n",
              "    </tr>\n",
              "    <tr>\n",
              "      <th>16</th>\n",
              "      <td>Ġtraining</td>\n",
              "      <td>1593</td>\n",
              "      <td>0.021814</td>\n",
              "      <td>0.793757</td>\n",
              "    </tr>\n",
              "    <tr>\n",
              "      <th>17</th>\n",
              "      <td>Ġtraining</td>\n",
              "      <td>1659</td>\n",
              "      <td>0.017181</td>\n",
              "      <td>0.407973</td>\n",
              "    </tr>\n",
              "    <tr>\n",
              "      <th>18</th>\n",
              "      <td>Ġbias</td>\n",
              "      <td>1670</td>\n",
              "      <td>0.011333</td>\n",
              "      <td>0.086934</td>\n",
              "    </tr>\n",
              "    <tr>\n",
              "      <th>19</th>\n",
              "      <td>Ġlearn</td>\n",
              "      <td>1677</td>\n",
              "      <td>0.013235</td>\n",
              "      <td>0.044794</td>\n",
              "    </tr>\n",
              "    <tr>\n",
              "      <th>20</th>\n",
              "      <td>Ġtraining</td>\n",
              "      <td>1687</td>\n",
              "      <td>0.018117</td>\n",
              "      <td>0.663055</td>\n",
              "    </tr>\n",
              "    <tr>\n",
              "      <th>21</th>\n",
              "      <td>Ġsampling</td>\n",
              "      <td>1699</td>\n",
              "      <td>0.018518</td>\n",
              "      <td>0.044647</td>\n",
              "    </tr>\n",
              "    <tr>\n",
              "      <th>22</th>\n",
              "      <td>Ġtraining</td>\n",
              "      <td>1700</td>\n",
              "      <td>0.023144</td>\n",
              "      <td>0.742092</td>\n",
              "    </tr>\n",
              "    <tr>\n",
              "      <th>23</th>\n",
              "      <td>Ġtraining</td>\n",
              "      <td>1705</td>\n",
              "      <td>0.018725</td>\n",
              "      <td>0.260165</td>\n",
              "    </tr>\n",
              "    <tr>\n",
              "      <th>24</th>\n",
              "      <td>Ġsampling</td>\n",
              "      <td>1734</td>\n",
              "      <td>0.020450</td>\n",
              "      <td>0.041103</td>\n",
              "    </tr>\n",
              "    <tr>\n",
              "      <th>25</th>\n",
              "      <td>Ġalgorithm</td>\n",
              "      <td>1735</td>\n",
              "      <td>0.014053</td>\n",
              "      <td>0.085137</td>\n",
              "    </tr>\n",
              "    <tr>\n",
              "      <th>26</th>\n",
              "      <td>Ġoptimal</td>\n",
              "      <td>1740</td>\n",
              "      <td>0.012448</td>\n",
              "      <td>0.060187</td>\n",
              "    </tr>\n",
              "    <tr>\n",
              "      <th>27</th>\n",
              "      <td>Ġexposure</td>\n",
              "      <td>1766</td>\n",
              "      <td>0.011958</td>\n",
              "      <td>0.053000</td>\n",
              "    </tr>\n",
              "    <tr>\n",
              "      <th>28</th>\n",
              "      <td>Ġbias</td>\n",
              "      <td>1767</td>\n",
              "      <td>0.021194</td>\n",
              "      <td>0.163948</td>\n",
              "    </tr>\n",
              "    <tr>\n",
              "      <th>29</th>\n",
              "      <td>Ġtraining</td>\n",
              "      <td>1791</td>\n",
              "      <td>0.037431</td>\n",
              "      <td>0.578020</td>\n",
              "    </tr>\n",
              "    <tr>\n",
              "      <th>30</th>\n",
              "      <td>Ġreinforcement</td>\n",
              "      <td>1802</td>\n",
              "      <td>0.107999</td>\n",
              "      <td>0.076461</td>\n",
              "    </tr>\n",
              "    <tr>\n",
              "      <th>31</th>\n",
              "      <td>Ġlearning</td>\n",
              "      <td>1803</td>\n",
              "      <td>0.045205</td>\n",
              "      <td>0.183247</td>\n",
              "    </tr>\n",
              "    <tr>\n",
              "      <th>32</th>\n",
              "      <td>Ġoptimize</td>\n",
              "      <td>1808</td>\n",
              "      <td>0.011426</td>\n",
              "      <td>0.048320</td>\n",
              "    </tr>\n",
              "  </tbody>\n",
              "</table>\n",
              "</div>\n",
              "      <button class=\"colab-df-convert\" onclick=\"convertToInteractive('df-252a53fd-3f83-4dc4-8ab2-879a673ef209')\"\n",
              "              title=\"Convert this dataframe to an interactive table.\"\n",
              "              style=\"display:none;\">\n",
              "        \n",
              "  <svg xmlns=\"http://www.w3.org/2000/svg\" height=\"24px\"viewBox=\"0 0 24 24\"\n",
              "       width=\"24px\">\n",
              "    <path d=\"M0 0h24v24H0V0z\" fill=\"none\"/>\n",
              "    <path d=\"M18.56 5.44l.94 2.06.94-2.06 2.06-.94-2.06-.94-.94-2.06-.94 2.06-2.06.94zm-11 1L8.5 8.5l.94-2.06 2.06-.94-2.06-.94L8.5 2.5l-.94 2.06-2.06.94zm10 10l.94 2.06.94-2.06 2.06-.94-2.06-.94-.94-2.06-.94 2.06-2.06.94z\"/><path d=\"M17.41 7.96l-1.37-1.37c-.4-.4-.92-.59-1.43-.59-.52 0-1.04.2-1.43.59L10.3 9.45l-7.72 7.72c-.78.78-.78 2.05 0 2.83L4 21.41c.39.39.9.59 1.41.59.51 0 1.02-.2 1.41-.59l7.78-7.78 2.81-2.81c.8-.78.8-2.07 0-2.86zM5.41 20L4 18.59l7.72-7.72 1.47 1.35L5.41 20z\"/>\n",
              "  </svg>\n",
              "      </button>\n",
              "      \n",
              "  <style>\n",
              "    .colab-df-container {\n",
              "      display:flex;\n",
              "      flex-wrap:wrap;\n",
              "      gap: 12px;\n",
              "    }\n",
              "\n",
              "    .colab-df-convert {\n",
              "      background-color: #E8F0FE;\n",
              "      border: none;\n",
              "      border-radius: 50%;\n",
              "      cursor: pointer;\n",
              "      display: none;\n",
              "      fill: #1967D2;\n",
              "      height: 32px;\n",
              "      padding: 0 0 0 0;\n",
              "      width: 32px;\n",
              "    }\n",
              "\n",
              "    .colab-df-convert:hover {\n",
              "      background-color: #E2EBFA;\n",
              "      box-shadow: 0px 1px 2px rgba(60, 64, 67, 0.3), 0px 1px 3px 1px rgba(60, 64, 67, 0.15);\n",
              "      fill: #174EA6;\n",
              "    }\n",
              "\n",
              "    [theme=dark] .colab-df-convert {\n",
              "      background-color: #3B4455;\n",
              "      fill: #D2E3FC;\n",
              "    }\n",
              "\n",
              "    [theme=dark] .colab-df-convert:hover {\n",
              "      background-color: #434B5C;\n",
              "      box-shadow: 0px 1px 3px 1px rgba(0, 0, 0, 0.15);\n",
              "      filter: drop-shadow(0px 1px 2px rgba(0, 0, 0, 0.3));\n",
              "      fill: #FFFFFF;\n",
              "    }\n",
              "  </style>\n",
              "\n",
              "      <script>\n",
              "        const buttonEl =\n",
              "          document.querySelector('#df-252a53fd-3f83-4dc4-8ab2-879a673ef209 button.colab-df-convert');\n",
              "        buttonEl.style.display =\n",
              "          google.colab.kernel.accessAllowed ? 'block' : 'none';\n",
              "\n",
              "        async function convertToInteractive(key) {\n",
              "          const element = document.querySelector('#df-252a53fd-3f83-4dc4-8ab2-879a673ef209');\n",
              "          const dataTable =\n",
              "            await google.colab.kernel.invokeFunction('convertToInteractive',\n",
              "                                                     [key], {});\n",
              "          if (!dataTable) return;\n",
              "\n",
              "          const docLinkHtml = 'Like what you see? Visit the ' +\n",
              "            '<a target=\"_blank\" href=https://colab.research.google.com/notebooks/data_table.ipynb>data table notebook</a>'\n",
              "            + ' to learn more about interactive tables.';\n",
              "          element.innerHTML = '';\n",
              "          dataTable['output_type'] = 'display_data';\n",
              "          await google.colab.output.renderOutput(dataTable, element);\n",
              "          const docLink = document.createElement('div');\n",
              "          docLink.innerHTML = docLinkHtml;\n",
              "          element.appendChild(docLink);\n",
              "        }\n",
              "      </script>\n",
              "    </div>\n",
              "  </div>\n",
              "  "
            ]
          },
          "metadata": {},
          "execution_count": 94
        }
      ]
    },
    {
      "cell_type": "markdown",
      "source": [
        "Check what tokens are the same and how many times they appear."
      ],
      "metadata": {
        "id": "BI_W_-ln-oGK"
      }
    },
    {
      "cell_type": "code",
      "source": [
        "print(df_same_alpha['token'].value_counts())"
      ],
      "metadata": {
        "colab": {
          "base_uri": "https://localhost:8080/"
        },
        "id": "WOxfDe1qGJ2J",
        "outputId": "21a3cb2e-2e35-481f-cf07-96c2b775741e"
      },
      "execution_count": null,
      "outputs": [
        {
          "output_type": "stream",
          "name": "stdout",
          "text": [
            "Ġtraining         12\n",
            "Ġlearning          3\n",
            "Ġsampling          2\n",
            "Ġhumans            2\n",
            "Ġbias              2\n",
            "ĠAI                1\n",
            "Ġreinforcement     1\n",
            "Ġexposure          1\n",
            "Ġoptimal           1\n",
            "Ġalgorithm         1\n",
            "Ġlinguistic        1\n",
            "Ġlearn             1\n",
            "Ġstudied           1\n",
            "Ġsearch            1\n",
            "Ġstatistical       1\n",
            "Figure             1\n",
            "Ġoptimize          1\n",
            "Name: token, dtype: int64\n"
          ]
        }
      ]
    },
    {
      "cell_type": "markdown",
      "source": [
        "Finally, we get the Jaccard Index to indentify how similar our group of top attribtuions and attentions are."
      ],
      "metadata": {
        "id": "viraBd5i-suA"
      }
    },
    {
      "cell_type": "code",
      "source": [
        "jaccard_similarity(attention_all_layer_top2, exam_attrib_top2)"
      ],
      "metadata": {
        "colab": {
          "base_uri": "https://localhost:8080/"
        },
        "id": "eL4TVY9hGsQx",
        "outputId": "1879c748-2181-456c-d62e-03b98ebb586a"
      },
      "execution_count": null,
      "outputs": [
        {
          "output_type": "stream",
          "name": "stdout",
          "text": [
            "33\n",
            "173\n"
          ]
        },
        {
          "output_type": "execute_result",
          "data": {
            "text/plain": [
              "0.1907514450867052"
            ]
          },
          "metadata": {},
          "execution_count": 96
        }
      ]
    }
  ],
  "metadata": {
    "file_extension": ".py",
    "kernelspec": {
      "display_name": "Python 3",
      "name": "python3"
    },
    "language_info": {
      "name": "python"
    },
    "mimetype": "text/x-python",
    "name": "python",
    "npconvert_exporter": "python",
    "pygments_lexer": "ipython3",
    "version": 3,
    "colab": {
      "name": "Attention_attribution_cosine_sim.ipynb",
      "provenance": [],
      "collapsed_sections": [],
      "machine_shape": "hm",
      "include_colab_link": true
    },
    "accelerator": "GPU",
    "widgets": {
      "application/vnd.jupyter.widget-state+json": {
        "7fe165f75a08450baa49711efcd633a4": {
          "model_module": "@jupyter-widgets/controls",
          "model_name": "HBoxModel",
          "model_module_version": "1.5.0",
          "state": {
            "_dom_classes": [],
            "_model_module": "@jupyter-widgets/controls",
            "_model_module_version": "1.5.0",
            "_model_name": "HBoxModel",
            "_view_count": null,
            "_view_module": "@jupyter-widgets/controls",
            "_view_module_version": "1.5.0",
            "_view_name": "HBoxView",
            "box_style": "",
            "children": [
              "IPY_MODEL_661864d266754822b00c3129f05c97dd",
              "IPY_MODEL_e8168ef9bad34c4780ad03004eefa951",
              "IPY_MODEL_7c517bc996964746a40b3ce2d5091759"
            ],
            "layout": "IPY_MODEL_bba188b7d6914cdea094c8c687576a1e"
          }
        },
        "661864d266754822b00c3129f05c97dd": {
          "model_module": "@jupyter-widgets/controls",
          "model_name": "HTMLModel",
          "model_module_version": "1.5.0",
          "state": {
            "_dom_classes": [],
            "_model_module": "@jupyter-widgets/controls",
            "_model_module_version": "1.5.0",
            "_model_name": "HTMLModel",
            "_view_count": null,
            "_view_module": "@jupyter-widgets/controls",
            "_view_module_version": "1.5.0",
            "_view_name": "HTMLView",
            "description": "",
            "description_tooltip": null,
            "layout": "IPY_MODEL_2d2dd6e9b46f4bee897992ede785954c",
            "placeholder": "​",
            "style": "IPY_MODEL_8e825b00f39b468bb11e11a94207c175",
            "value": "Downloading config.json: 100%"
          }
        },
        "e8168ef9bad34c4780ad03004eefa951": {
          "model_module": "@jupyter-widgets/controls",
          "model_name": "FloatProgressModel",
          "model_module_version": "1.5.0",
          "state": {
            "_dom_classes": [],
            "_model_module": "@jupyter-widgets/controls",
            "_model_module_version": "1.5.0",
            "_model_name": "FloatProgressModel",
            "_view_count": null,
            "_view_module": "@jupyter-widgets/controls",
            "_view_module_version": "1.5.0",
            "_view_name": "ProgressView",
            "bar_style": "success",
            "description": "",
            "description_tooltip": null,
            "layout": "IPY_MODEL_8eb6c6932d9547e3abf013530f055cbd",
            "max": 1018,
            "min": 0,
            "orientation": "horizontal",
            "style": "IPY_MODEL_efcd93b51908464896573c33f6f0560c",
            "value": 1018
          }
        },
        "7c517bc996964746a40b3ce2d5091759": {
          "model_module": "@jupyter-widgets/controls",
          "model_name": "HTMLModel",
          "model_module_version": "1.5.0",
          "state": {
            "_dom_classes": [],
            "_model_module": "@jupyter-widgets/controls",
            "_model_module_version": "1.5.0",
            "_model_name": "HTMLModel",
            "_view_count": null,
            "_view_module": "@jupyter-widgets/controls",
            "_view_module_version": "1.5.0",
            "_view_name": "HTMLView",
            "description": "",
            "description_tooltip": null,
            "layout": "IPY_MODEL_8aefe706e12b425fbebd5138953aadad",
            "placeholder": "​",
            "style": "IPY_MODEL_5d388611dd8b46fcbc09c10b2b14a0fb",
            "value": " 0.99k/0.99k [00:00&lt;00:00, 33.8kB/s]"
          }
        },
        "bba188b7d6914cdea094c8c687576a1e": {
          "model_module": "@jupyter-widgets/base",
          "model_name": "LayoutModel",
          "model_module_version": "1.2.0",
          "state": {
            "_model_module": "@jupyter-widgets/base",
            "_model_module_version": "1.2.0",
            "_model_name": "LayoutModel",
            "_view_count": null,
            "_view_module": "@jupyter-widgets/base",
            "_view_module_version": "1.2.0",
            "_view_name": "LayoutView",
            "align_content": null,
            "align_items": null,
            "align_self": null,
            "border": null,
            "bottom": null,
            "display": null,
            "flex": null,
            "flex_flow": null,
            "grid_area": null,
            "grid_auto_columns": null,
            "grid_auto_flow": null,
            "grid_auto_rows": null,
            "grid_column": null,
            "grid_gap": null,
            "grid_row": null,
            "grid_template_areas": null,
            "grid_template_columns": null,
            "grid_template_rows": null,
            "height": null,
            "justify_content": null,
            "justify_items": null,
            "left": null,
            "margin": null,
            "max_height": null,
            "max_width": null,
            "min_height": null,
            "min_width": null,
            "object_fit": null,
            "object_position": null,
            "order": null,
            "overflow": null,
            "overflow_x": null,
            "overflow_y": null,
            "padding": null,
            "right": null,
            "top": null,
            "visibility": null,
            "width": null
          }
        },
        "2d2dd6e9b46f4bee897992ede785954c": {
          "model_module": "@jupyter-widgets/base",
          "model_name": "LayoutModel",
          "model_module_version": "1.2.0",
          "state": {
            "_model_module": "@jupyter-widgets/base",
            "_model_module_version": "1.2.0",
            "_model_name": "LayoutModel",
            "_view_count": null,
            "_view_module": "@jupyter-widgets/base",
            "_view_module_version": "1.2.0",
            "_view_name": "LayoutView",
            "align_content": null,
            "align_items": null,
            "align_self": null,
            "border": null,
            "bottom": null,
            "display": null,
            "flex": null,
            "flex_flow": null,
            "grid_area": null,
            "grid_auto_columns": null,
            "grid_auto_flow": null,
            "grid_auto_rows": null,
            "grid_column": null,
            "grid_gap": null,
            "grid_row": null,
            "grid_template_areas": null,
            "grid_template_columns": null,
            "grid_template_rows": null,
            "height": null,
            "justify_content": null,
            "justify_items": null,
            "left": null,
            "margin": null,
            "max_height": null,
            "max_width": null,
            "min_height": null,
            "min_width": null,
            "object_fit": null,
            "object_position": null,
            "order": null,
            "overflow": null,
            "overflow_x": null,
            "overflow_y": null,
            "padding": null,
            "right": null,
            "top": null,
            "visibility": null,
            "width": null
          }
        },
        "8e825b00f39b468bb11e11a94207c175": {
          "model_module": "@jupyter-widgets/controls",
          "model_name": "DescriptionStyleModel",
          "model_module_version": "1.5.0",
          "state": {
            "_model_module": "@jupyter-widgets/controls",
            "_model_module_version": "1.5.0",
            "_model_name": "DescriptionStyleModel",
            "_view_count": null,
            "_view_module": "@jupyter-widgets/base",
            "_view_module_version": "1.2.0",
            "_view_name": "StyleView",
            "description_width": ""
          }
        },
        "8eb6c6932d9547e3abf013530f055cbd": {
          "model_module": "@jupyter-widgets/base",
          "model_name": "LayoutModel",
          "model_module_version": "1.2.0",
          "state": {
            "_model_module": "@jupyter-widgets/base",
            "_model_module_version": "1.2.0",
            "_model_name": "LayoutModel",
            "_view_count": null,
            "_view_module": "@jupyter-widgets/base",
            "_view_module_version": "1.2.0",
            "_view_name": "LayoutView",
            "align_content": null,
            "align_items": null,
            "align_self": null,
            "border": null,
            "bottom": null,
            "display": null,
            "flex": null,
            "flex_flow": null,
            "grid_area": null,
            "grid_auto_columns": null,
            "grid_auto_flow": null,
            "grid_auto_rows": null,
            "grid_column": null,
            "grid_gap": null,
            "grid_row": null,
            "grid_template_areas": null,
            "grid_template_columns": null,
            "grid_template_rows": null,
            "height": null,
            "justify_content": null,
            "justify_items": null,
            "left": null,
            "margin": null,
            "max_height": null,
            "max_width": null,
            "min_height": null,
            "min_width": null,
            "object_fit": null,
            "object_position": null,
            "order": null,
            "overflow": null,
            "overflow_x": null,
            "overflow_y": null,
            "padding": null,
            "right": null,
            "top": null,
            "visibility": null,
            "width": null
          }
        },
        "efcd93b51908464896573c33f6f0560c": {
          "model_module": "@jupyter-widgets/controls",
          "model_name": "ProgressStyleModel",
          "model_module_version": "1.5.0",
          "state": {
            "_model_module": "@jupyter-widgets/controls",
            "_model_module_version": "1.5.0",
            "_model_name": "ProgressStyleModel",
            "_view_count": null,
            "_view_module": "@jupyter-widgets/base",
            "_view_module_version": "1.2.0",
            "_view_name": "StyleView",
            "bar_color": null,
            "description_width": ""
          }
        },
        "8aefe706e12b425fbebd5138953aadad": {
          "model_module": "@jupyter-widgets/base",
          "model_name": "LayoutModel",
          "model_module_version": "1.2.0",
          "state": {
            "_model_module": "@jupyter-widgets/base",
            "_model_module_version": "1.2.0",
            "_model_name": "LayoutModel",
            "_view_count": null,
            "_view_module": "@jupyter-widgets/base",
            "_view_module_version": "1.2.0",
            "_view_name": "LayoutView",
            "align_content": null,
            "align_items": null,
            "align_self": null,
            "border": null,
            "bottom": null,
            "display": null,
            "flex": null,
            "flex_flow": null,
            "grid_area": null,
            "grid_auto_columns": null,
            "grid_auto_flow": null,
            "grid_auto_rows": null,
            "grid_column": null,
            "grid_gap": null,
            "grid_row": null,
            "grid_template_areas": null,
            "grid_template_columns": null,
            "grid_template_rows": null,
            "height": null,
            "justify_content": null,
            "justify_items": null,
            "left": null,
            "margin": null,
            "max_height": null,
            "max_width": null,
            "min_height": null,
            "min_width": null,
            "object_fit": null,
            "object_position": null,
            "order": null,
            "overflow": null,
            "overflow_x": null,
            "overflow_y": null,
            "padding": null,
            "right": null,
            "top": null,
            "visibility": null,
            "width": null
          }
        },
        "5d388611dd8b46fcbc09c10b2b14a0fb": {
          "model_module": "@jupyter-widgets/controls",
          "model_name": "DescriptionStyleModel",
          "model_module_version": "1.5.0",
          "state": {
            "_model_module": "@jupyter-widgets/controls",
            "_model_module_version": "1.5.0",
            "_model_name": "DescriptionStyleModel",
            "_view_count": null,
            "_view_module": "@jupyter-widgets/base",
            "_view_module_version": "1.2.0",
            "_view_name": "StyleView",
            "description_width": ""
          }
        },
        "fc3aa8d0839a4f0da48d4ae858edfc71": {
          "model_module": "@jupyter-widgets/controls",
          "model_name": "HBoxModel",
          "model_module_version": "1.5.0",
          "state": {
            "_dom_classes": [],
            "_model_module": "@jupyter-widgets/controls",
            "_model_module_version": "1.5.0",
            "_model_name": "HBoxModel",
            "_view_count": null,
            "_view_module": "@jupyter-widgets/controls",
            "_view_module_version": "1.5.0",
            "_view_name": "HBoxView",
            "box_style": "",
            "children": [
              "IPY_MODEL_63e21f970e624ad090a0eeb70d499400",
              "IPY_MODEL_03be4a9c22cc4283ae18d2b39fdc0769",
              "IPY_MODEL_51e3dd278868406ca707a8349735594c"
            ],
            "layout": "IPY_MODEL_dbc75fa547b64a2cab5f03a214799e0c"
          }
        },
        "63e21f970e624ad090a0eeb70d499400": {
          "model_module": "@jupyter-widgets/controls",
          "model_name": "HTMLModel",
          "model_module_version": "1.5.0",
          "state": {
            "_dom_classes": [],
            "_model_module": "@jupyter-widgets/controls",
            "_model_module_version": "1.5.0",
            "_model_name": "HTMLModel",
            "_view_count": null,
            "_view_module": "@jupyter-widgets/controls",
            "_view_module_version": "1.5.0",
            "_view_name": "HTMLView",
            "description": "",
            "description_tooltip": null,
            "layout": "IPY_MODEL_03ad9972f2654afab3fdf2fc4dae440d",
            "placeholder": "​",
            "style": "IPY_MODEL_1f563a21069f4a31ab8988f7619fc7e0",
            "value": "Downloading pytorch_model.bin: 100%"
          }
        },
        "03be4a9c22cc4283ae18d2b39fdc0769": {
          "model_module": "@jupyter-widgets/controls",
          "model_name": "FloatProgressModel",
          "model_module_version": "1.5.0",
          "state": {
            "_dom_classes": [],
            "_model_module": "@jupyter-widgets/controls",
            "_model_module_version": "1.5.0",
            "_model_name": "FloatProgressModel",
            "_view_count": null,
            "_view_module": "@jupyter-widgets/controls",
            "_view_module_version": "1.5.0",
            "_view_name": "ProgressView",
            "bar_style": "success",
            "description": "",
            "description_tooltip": null,
            "layout": "IPY_MODEL_85ac49f43a1b4387ad942ae324456960",
            "max": 594786525,
            "min": 0,
            "orientation": "horizontal",
            "style": "IPY_MODEL_0f0aa7bd4412460c9fa67bdd03b3dbfe",
            "value": 594786525
          }
        },
        "51e3dd278868406ca707a8349735594c": {
          "model_module": "@jupyter-widgets/controls",
          "model_name": "HTMLModel",
          "model_module_version": "1.5.0",
          "state": {
            "_dom_classes": [],
            "_model_module": "@jupyter-widgets/controls",
            "_model_module_version": "1.5.0",
            "_model_name": "HTMLModel",
            "_view_count": null,
            "_view_module": "@jupyter-widgets/controls",
            "_view_module_version": "1.5.0",
            "_view_name": "HTMLView",
            "description": "",
            "description_tooltip": null,
            "layout": "IPY_MODEL_d60049ddd7974af3b0f402052d79681d",
            "placeholder": "​",
            "style": "IPY_MODEL_5f3b9fda3eff41e0ac541777ffa836ea",
            "value": " 567M/567M [00:12&lt;00:00, 48.2MB/s]"
          }
        },
        "dbc75fa547b64a2cab5f03a214799e0c": {
          "model_module": "@jupyter-widgets/base",
          "model_name": "LayoutModel",
          "model_module_version": "1.2.0",
          "state": {
            "_model_module": "@jupyter-widgets/base",
            "_model_module_version": "1.2.0",
            "_model_name": "LayoutModel",
            "_view_count": null,
            "_view_module": "@jupyter-widgets/base",
            "_view_module_version": "1.2.0",
            "_view_name": "LayoutView",
            "align_content": null,
            "align_items": null,
            "align_self": null,
            "border": null,
            "bottom": null,
            "display": null,
            "flex": null,
            "flex_flow": null,
            "grid_area": null,
            "grid_auto_columns": null,
            "grid_auto_flow": null,
            "grid_auto_rows": null,
            "grid_column": null,
            "grid_gap": null,
            "grid_row": null,
            "grid_template_areas": null,
            "grid_template_columns": null,
            "grid_template_rows": null,
            "height": null,
            "justify_content": null,
            "justify_items": null,
            "left": null,
            "margin": null,
            "max_height": null,
            "max_width": null,
            "min_height": null,
            "min_width": null,
            "object_fit": null,
            "object_position": null,
            "order": null,
            "overflow": null,
            "overflow_x": null,
            "overflow_y": null,
            "padding": null,
            "right": null,
            "top": null,
            "visibility": null,
            "width": null
          }
        },
        "03ad9972f2654afab3fdf2fc4dae440d": {
          "model_module": "@jupyter-widgets/base",
          "model_name": "LayoutModel",
          "model_module_version": "1.2.0",
          "state": {
            "_model_module": "@jupyter-widgets/base",
            "_model_module_version": "1.2.0",
            "_model_name": "LayoutModel",
            "_view_count": null,
            "_view_module": "@jupyter-widgets/base",
            "_view_module_version": "1.2.0",
            "_view_name": "LayoutView",
            "align_content": null,
            "align_items": null,
            "align_self": null,
            "border": null,
            "bottom": null,
            "display": null,
            "flex": null,
            "flex_flow": null,
            "grid_area": null,
            "grid_auto_columns": null,
            "grid_auto_flow": null,
            "grid_auto_rows": null,
            "grid_column": null,
            "grid_gap": null,
            "grid_row": null,
            "grid_template_areas": null,
            "grid_template_columns": null,
            "grid_template_rows": null,
            "height": null,
            "justify_content": null,
            "justify_items": null,
            "left": null,
            "margin": null,
            "max_height": null,
            "max_width": null,
            "min_height": null,
            "min_width": null,
            "object_fit": null,
            "object_position": null,
            "order": null,
            "overflow": null,
            "overflow_x": null,
            "overflow_y": null,
            "padding": null,
            "right": null,
            "top": null,
            "visibility": null,
            "width": null
          }
        },
        "1f563a21069f4a31ab8988f7619fc7e0": {
          "model_module": "@jupyter-widgets/controls",
          "model_name": "DescriptionStyleModel",
          "model_module_version": "1.5.0",
          "state": {
            "_model_module": "@jupyter-widgets/controls",
            "_model_module_version": "1.5.0",
            "_model_name": "DescriptionStyleModel",
            "_view_count": null,
            "_view_module": "@jupyter-widgets/base",
            "_view_module_version": "1.2.0",
            "_view_name": "StyleView",
            "description_width": ""
          }
        },
        "85ac49f43a1b4387ad942ae324456960": {
          "model_module": "@jupyter-widgets/base",
          "model_name": "LayoutModel",
          "model_module_version": "1.2.0",
          "state": {
            "_model_module": "@jupyter-widgets/base",
            "_model_module_version": "1.2.0",
            "_model_name": "LayoutModel",
            "_view_count": null,
            "_view_module": "@jupyter-widgets/base",
            "_view_module_version": "1.2.0",
            "_view_name": "LayoutView",
            "align_content": null,
            "align_items": null,
            "align_self": null,
            "border": null,
            "bottom": null,
            "display": null,
            "flex": null,
            "flex_flow": null,
            "grid_area": null,
            "grid_auto_columns": null,
            "grid_auto_flow": null,
            "grid_auto_rows": null,
            "grid_column": null,
            "grid_gap": null,
            "grid_row": null,
            "grid_template_areas": null,
            "grid_template_columns": null,
            "grid_template_rows": null,
            "height": null,
            "justify_content": null,
            "justify_items": null,
            "left": null,
            "margin": null,
            "max_height": null,
            "max_width": null,
            "min_height": null,
            "min_width": null,
            "object_fit": null,
            "object_position": null,
            "order": null,
            "overflow": null,
            "overflow_x": null,
            "overflow_y": null,
            "padding": null,
            "right": null,
            "top": null,
            "visibility": null,
            "width": null
          }
        },
        "0f0aa7bd4412460c9fa67bdd03b3dbfe": {
          "model_module": "@jupyter-widgets/controls",
          "model_name": "ProgressStyleModel",
          "model_module_version": "1.5.0",
          "state": {
            "_model_module": "@jupyter-widgets/controls",
            "_model_module_version": "1.5.0",
            "_model_name": "ProgressStyleModel",
            "_view_count": null,
            "_view_module": "@jupyter-widgets/base",
            "_view_module_version": "1.2.0",
            "_view_name": "StyleView",
            "bar_color": null,
            "description_width": ""
          }
        },
        "d60049ddd7974af3b0f402052d79681d": {
          "model_module": "@jupyter-widgets/base",
          "model_name": "LayoutModel",
          "model_module_version": "1.2.0",
          "state": {
            "_model_module": "@jupyter-widgets/base",
            "_model_module_version": "1.2.0",
            "_model_name": "LayoutModel",
            "_view_count": null,
            "_view_module": "@jupyter-widgets/base",
            "_view_module_version": "1.2.0",
            "_view_name": "LayoutView",
            "align_content": null,
            "align_items": null,
            "align_self": null,
            "border": null,
            "bottom": null,
            "display": null,
            "flex": null,
            "flex_flow": null,
            "grid_area": null,
            "grid_auto_columns": null,
            "grid_auto_flow": null,
            "grid_auto_rows": null,
            "grid_column": null,
            "grid_gap": null,
            "grid_row": null,
            "grid_template_areas": null,
            "grid_template_columns": null,
            "grid_template_rows": null,
            "height": null,
            "justify_content": null,
            "justify_items": null,
            "left": null,
            "margin": null,
            "max_height": null,
            "max_width": null,
            "min_height": null,
            "min_width": null,
            "object_fit": null,
            "object_position": null,
            "order": null,
            "overflow": null,
            "overflow_x": null,
            "overflow_y": null,
            "padding": null,
            "right": null,
            "top": null,
            "visibility": null,
            "width": null
          }
        },
        "5f3b9fda3eff41e0ac541777ffa836ea": {
          "model_module": "@jupyter-widgets/controls",
          "model_name": "DescriptionStyleModel",
          "model_module_version": "1.5.0",
          "state": {
            "_model_module": "@jupyter-widgets/controls",
            "_model_module_version": "1.5.0",
            "_model_name": "DescriptionStyleModel",
            "_view_count": null,
            "_view_module": "@jupyter-widgets/base",
            "_view_module_version": "1.2.0",
            "_view_name": "StyleView",
            "description_width": ""
          }
        },
        "77840dd6ad9d4a928b0b36fc526cccb2": {
          "model_module": "@jupyter-widgets/controls",
          "model_name": "HBoxModel",
          "model_module_version": "1.5.0",
          "state": {
            "_dom_classes": [],
            "_model_module": "@jupyter-widgets/controls",
            "_model_module_version": "1.5.0",
            "_model_name": "HBoxModel",
            "_view_count": null,
            "_view_module": "@jupyter-widgets/controls",
            "_view_module_version": "1.5.0",
            "_view_name": "HBoxView",
            "box_style": "",
            "children": [
              "IPY_MODEL_052ca842b8fe4624afd41ff8714f1df5",
              "IPY_MODEL_55f79a3351ae446e9e9acdd121e4ee78",
              "IPY_MODEL_dde885cc817c46f1b7388d3343ba4dde"
            ],
            "layout": "IPY_MODEL_6e26485d056748f3b68b0a702743a5b8"
          }
        },
        "052ca842b8fe4624afd41ff8714f1df5": {
          "model_module": "@jupyter-widgets/controls",
          "model_name": "HTMLModel",
          "model_module_version": "1.5.0",
          "state": {
            "_dom_classes": [],
            "_model_module": "@jupyter-widgets/controls",
            "_model_module_version": "1.5.0",
            "_model_name": "HTMLModel",
            "_view_count": null,
            "_view_module": "@jupyter-widgets/controls",
            "_view_module_version": "1.5.0",
            "_view_name": "HTMLView",
            "description": "",
            "description_tooltip": null,
            "layout": "IPY_MODEL_6a29ea1e43af4836ac007adef8e396a5",
            "placeholder": "​",
            "style": "IPY_MODEL_4a9a3782dce64f5e9554eb111889c00e",
            "value": "Downloading vocab.json: 100%"
          }
        },
        "55f79a3351ae446e9e9acdd121e4ee78": {
          "model_module": "@jupyter-widgets/controls",
          "model_name": "FloatProgressModel",
          "model_module_version": "1.5.0",
          "state": {
            "_dom_classes": [],
            "_model_module": "@jupyter-widgets/controls",
            "_model_module_version": "1.5.0",
            "_model_name": "FloatProgressModel",
            "_view_count": null,
            "_view_module": "@jupyter-widgets/controls",
            "_view_module_version": "1.5.0",
            "_view_name": "ProgressView",
            "bar_style": "success",
            "description": "",
            "description_tooltip": null,
            "layout": "IPY_MODEL_5dd7a1a50b894e239d1d7ec59262f4b6",
            "max": 898823,
            "min": 0,
            "orientation": "horizontal",
            "style": "IPY_MODEL_f242158345004f3980f6250b594637dd",
            "value": 898823
          }
        },
        "dde885cc817c46f1b7388d3343ba4dde": {
          "model_module": "@jupyter-widgets/controls",
          "model_name": "HTMLModel",
          "model_module_version": "1.5.0",
          "state": {
            "_dom_classes": [],
            "_model_module": "@jupyter-widgets/controls",
            "_model_module_version": "1.5.0",
            "_model_name": "HTMLModel",
            "_view_count": null,
            "_view_module": "@jupyter-widgets/controls",
            "_view_module_version": "1.5.0",
            "_view_name": "HTMLView",
            "description": "",
            "description_tooltip": null,
            "layout": "IPY_MODEL_18d51cdb2834477f9d7e82bd4b12d219",
            "placeholder": "​",
            "style": "IPY_MODEL_df60b3ff24f84db7b4385a40cfa44641",
            "value": " 878k/878k [00:00&lt;00:00, 2.49MB/s]"
          }
        },
        "6e26485d056748f3b68b0a702743a5b8": {
          "model_module": "@jupyter-widgets/base",
          "model_name": "LayoutModel",
          "model_module_version": "1.2.0",
          "state": {
            "_model_module": "@jupyter-widgets/base",
            "_model_module_version": "1.2.0",
            "_model_name": "LayoutModel",
            "_view_count": null,
            "_view_module": "@jupyter-widgets/base",
            "_view_module_version": "1.2.0",
            "_view_name": "LayoutView",
            "align_content": null,
            "align_items": null,
            "align_self": null,
            "border": null,
            "bottom": null,
            "display": null,
            "flex": null,
            "flex_flow": null,
            "grid_area": null,
            "grid_auto_columns": null,
            "grid_auto_flow": null,
            "grid_auto_rows": null,
            "grid_column": null,
            "grid_gap": null,
            "grid_row": null,
            "grid_template_areas": null,
            "grid_template_columns": null,
            "grid_template_rows": null,
            "height": null,
            "justify_content": null,
            "justify_items": null,
            "left": null,
            "margin": null,
            "max_height": null,
            "max_width": null,
            "min_height": null,
            "min_width": null,
            "object_fit": null,
            "object_position": null,
            "order": null,
            "overflow": null,
            "overflow_x": null,
            "overflow_y": null,
            "padding": null,
            "right": null,
            "top": null,
            "visibility": null,
            "width": null
          }
        },
        "6a29ea1e43af4836ac007adef8e396a5": {
          "model_module": "@jupyter-widgets/base",
          "model_name": "LayoutModel",
          "model_module_version": "1.2.0",
          "state": {
            "_model_module": "@jupyter-widgets/base",
            "_model_module_version": "1.2.0",
            "_model_name": "LayoutModel",
            "_view_count": null,
            "_view_module": "@jupyter-widgets/base",
            "_view_module_version": "1.2.0",
            "_view_name": "LayoutView",
            "align_content": null,
            "align_items": null,
            "align_self": null,
            "border": null,
            "bottom": null,
            "display": null,
            "flex": null,
            "flex_flow": null,
            "grid_area": null,
            "grid_auto_columns": null,
            "grid_auto_flow": null,
            "grid_auto_rows": null,
            "grid_column": null,
            "grid_gap": null,
            "grid_row": null,
            "grid_template_areas": null,
            "grid_template_columns": null,
            "grid_template_rows": null,
            "height": null,
            "justify_content": null,
            "justify_items": null,
            "left": null,
            "margin": null,
            "max_height": null,
            "max_width": null,
            "min_height": null,
            "min_width": null,
            "object_fit": null,
            "object_position": null,
            "order": null,
            "overflow": null,
            "overflow_x": null,
            "overflow_y": null,
            "padding": null,
            "right": null,
            "top": null,
            "visibility": null,
            "width": null
          }
        },
        "4a9a3782dce64f5e9554eb111889c00e": {
          "model_module": "@jupyter-widgets/controls",
          "model_name": "DescriptionStyleModel",
          "model_module_version": "1.5.0",
          "state": {
            "_model_module": "@jupyter-widgets/controls",
            "_model_module_version": "1.5.0",
            "_model_name": "DescriptionStyleModel",
            "_view_count": null,
            "_view_module": "@jupyter-widgets/base",
            "_view_module_version": "1.2.0",
            "_view_name": "StyleView",
            "description_width": ""
          }
        },
        "5dd7a1a50b894e239d1d7ec59262f4b6": {
          "model_module": "@jupyter-widgets/base",
          "model_name": "LayoutModel",
          "model_module_version": "1.2.0",
          "state": {
            "_model_module": "@jupyter-widgets/base",
            "_model_module_version": "1.2.0",
            "_model_name": "LayoutModel",
            "_view_count": null,
            "_view_module": "@jupyter-widgets/base",
            "_view_module_version": "1.2.0",
            "_view_name": "LayoutView",
            "align_content": null,
            "align_items": null,
            "align_self": null,
            "border": null,
            "bottom": null,
            "display": null,
            "flex": null,
            "flex_flow": null,
            "grid_area": null,
            "grid_auto_columns": null,
            "grid_auto_flow": null,
            "grid_auto_rows": null,
            "grid_column": null,
            "grid_gap": null,
            "grid_row": null,
            "grid_template_areas": null,
            "grid_template_columns": null,
            "grid_template_rows": null,
            "height": null,
            "justify_content": null,
            "justify_items": null,
            "left": null,
            "margin": null,
            "max_height": null,
            "max_width": null,
            "min_height": null,
            "min_width": null,
            "object_fit": null,
            "object_position": null,
            "order": null,
            "overflow": null,
            "overflow_x": null,
            "overflow_y": null,
            "padding": null,
            "right": null,
            "top": null,
            "visibility": null,
            "width": null
          }
        },
        "f242158345004f3980f6250b594637dd": {
          "model_module": "@jupyter-widgets/controls",
          "model_name": "ProgressStyleModel",
          "model_module_version": "1.5.0",
          "state": {
            "_model_module": "@jupyter-widgets/controls",
            "_model_module_version": "1.5.0",
            "_model_name": "ProgressStyleModel",
            "_view_count": null,
            "_view_module": "@jupyter-widgets/base",
            "_view_module_version": "1.2.0",
            "_view_name": "StyleView",
            "bar_color": null,
            "description_width": ""
          }
        },
        "18d51cdb2834477f9d7e82bd4b12d219": {
          "model_module": "@jupyter-widgets/base",
          "model_name": "LayoutModel",
          "model_module_version": "1.2.0",
          "state": {
            "_model_module": "@jupyter-widgets/base",
            "_model_module_version": "1.2.0",
            "_model_name": "LayoutModel",
            "_view_count": null,
            "_view_module": "@jupyter-widgets/base",
            "_view_module_version": "1.2.0",
            "_view_name": "LayoutView",
            "align_content": null,
            "align_items": null,
            "align_self": null,
            "border": null,
            "bottom": null,
            "display": null,
            "flex": null,
            "flex_flow": null,
            "grid_area": null,
            "grid_auto_columns": null,
            "grid_auto_flow": null,
            "grid_auto_rows": null,
            "grid_column": null,
            "grid_gap": null,
            "grid_row": null,
            "grid_template_areas": null,
            "grid_template_columns": null,
            "grid_template_rows": null,
            "height": null,
            "justify_content": null,
            "justify_items": null,
            "left": null,
            "margin": null,
            "max_height": null,
            "max_width": null,
            "min_height": null,
            "min_width": null,
            "object_fit": null,
            "object_position": null,
            "order": null,
            "overflow": null,
            "overflow_x": null,
            "overflow_y": null,
            "padding": null,
            "right": null,
            "top": null,
            "visibility": null,
            "width": null
          }
        },
        "df60b3ff24f84db7b4385a40cfa44641": {
          "model_module": "@jupyter-widgets/controls",
          "model_name": "DescriptionStyleModel",
          "model_module_version": "1.5.0",
          "state": {
            "_model_module": "@jupyter-widgets/controls",
            "_model_module_version": "1.5.0",
            "_model_name": "DescriptionStyleModel",
            "_view_count": null,
            "_view_module": "@jupyter-widgets/base",
            "_view_module_version": "1.2.0",
            "_view_name": "StyleView",
            "description_width": ""
          }
        },
        "99313c8cceaa49908d39223c964ce908": {
          "model_module": "@jupyter-widgets/controls",
          "model_name": "HBoxModel",
          "model_module_version": "1.5.0",
          "state": {
            "_dom_classes": [],
            "_model_module": "@jupyter-widgets/controls",
            "_model_module_version": "1.5.0",
            "_model_name": "HBoxModel",
            "_view_count": null,
            "_view_module": "@jupyter-widgets/controls",
            "_view_module_version": "1.5.0",
            "_view_name": "HBoxView",
            "box_style": "",
            "children": [
              "IPY_MODEL_ef79ade5b58141f3885caab1117256f3",
              "IPY_MODEL_29c472d933994dfd81e79149a623eebe",
              "IPY_MODEL_82e1cd7a885a4e609c2655e747fd8084"
            ],
            "layout": "IPY_MODEL_cc887a41219b4fa28ac76625dee6bc2e"
          }
        },
        "ef79ade5b58141f3885caab1117256f3": {
          "model_module": "@jupyter-widgets/controls",
          "model_name": "HTMLModel",
          "model_module_version": "1.5.0",
          "state": {
            "_dom_classes": [],
            "_model_module": "@jupyter-widgets/controls",
            "_model_module_version": "1.5.0",
            "_model_name": "HTMLModel",
            "_view_count": null,
            "_view_module": "@jupyter-widgets/controls",
            "_view_module_version": "1.5.0",
            "_view_name": "HTMLView",
            "description": "",
            "description_tooltip": null,
            "layout": "IPY_MODEL_c7d0458228264491a4abece42892b4fb",
            "placeholder": "​",
            "style": "IPY_MODEL_191dd8c064b34be586bac9ba83ac1754",
            "value": "Downloading merges.txt: 100%"
          }
        },
        "29c472d933994dfd81e79149a623eebe": {
          "model_module": "@jupyter-widgets/controls",
          "model_name": "FloatProgressModel",
          "model_module_version": "1.5.0",
          "state": {
            "_dom_classes": [],
            "_model_module": "@jupyter-widgets/controls",
            "_model_module_version": "1.5.0",
            "_model_name": "FloatProgressModel",
            "_view_count": null,
            "_view_module": "@jupyter-widgets/controls",
            "_view_module_version": "1.5.0",
            "_view_name": "ProgressView",
            "bar_style": "success",
            "description": "",
            "description_tooltip": null,
            "layout": "IPY_MODEL_7a9482713d5a44e680befc71e61b88c6",
            "max": 456318,
            "min": 0,
            "orientation": "horizontal",
            "style": "IPY_MODEL_0beb5457188e479ba3e656d9db38f99e",
            "value": 456318
          }
        },
        "82e1cd7a885a4e609c2655e747fd8084": {
          "model_module": "@jupyter-widgets/controls",
          "model_name": "HTMLModel",
          "model_module_version": "1.5.0",
          "state": {
            "_dom_classes": [],
            "_model_module": "@jupyter-widgets/controls",
            "_model_module_version": "1.5.0",
            "_model_name": "HTMLModel",
            "_view_count": null,
            "_view_module": "@jupyter-widgets/controls",
            "_view_module_version": "1.5.0",
            "_view_name": "HTMLView",
            "description": "",
            "description_tooltip": null,
            "layout": "IPY_MODEL_188c294037f84f52a56ec077a8cd0f7c",
            "placeholder": "​",
            "style": "IPY_MODEL_9f184ffa480e4a80bc3e6075bcc17ea2",
            "value": " 446k/446k [00:00&lt;00:00, 727kB/s]"
          }
        },
        "cc887a41219b4fa28ac76625dee6bc2e": {
          "model_module": "@jupyter-widgets/base",
          "model_name": "LayoutModel",
          "model_module_version": "1.2.0",
          "state": {
            "_model_module": "@jupyter-widgets/base",
            "_model_module_version": "1.2.0",
            "_model_name": "LayoutModel",
            "_view_count": null,
            "_view_module": "@jupyter-widgets/base",
            "_view_module_version": "1.2.0",
            "_view_name": "LayoutView",
            "align_content": null,
            "align_items": null,
            "align_self": null,
            "border": null,
            "bottom": null,
            "display": null,
            "flex": null,
            "flex_flow": null,
            "grid_area": null,
            "grid_auto_columns": null,
            "grid_auto_flow": null,
            "grid_auto_rows": null,
            "grid_column": null,
            "grid_gap": null,
            "grid_row": null,
            "grid_template_areas": null,
            "grid_template_columns": null,
            "grid_template_rows": null,
            "height": null,
            "justify_content": null,
            "justify_items": null,
            "left": null,
            "margin": null,
            "max_height": null,
            "max_width": null,
            "min_height": null,
            "min_width": null,
            "object_fit": null,
            "object_position": null,
            "order": null,
            "overflow": null,
            "overflow_x": null,
            "overflow_y": null,
            "padding": null,
            "right": null,
            "top": null,
            "visibility": null,
            "width": null
          }
        },
        "c7d0458228264491a4abece42892b4fb": {
          "model_module": "@jupyter-widgets/base",
          "model_name": "LayoutModel",
          "model_module_version": "1.2.0",
          "state": {
            "_model_module": "@jupyter-widgets/base",
            "_model_module_version": "1.2.0",
            "_model_name": "LayoutModel",
            "_view_count": null,
            "_view_module": "@jupyter-widgets/base",
            "_view_module_version": "1.2.0",
            "_view_name": "LayoutView",
            "align_content": null,
            "align_items": null,
            "align_self": null,
            "border": null,
            "bottom": null,
            "display": null,
            "flex": null,
            "flex_flow": null,
            "grid_area": null,
            "grid_auto_columns": null,
            "grid_auto_flow": null,
            "grid_auto_rows": null,
            "grid_column": null,
            "grid_gap": null,
            "grid_row": null,
            "grid_template_areas": null,
            "grid_template_columns": null,
            "grid_template_rows": null,
            "height": null,
            "justify_content": null,
            "justify_items": null,
            "left": null,
            "margin": null,
            "max_height": null,
            "max_width": null,
            "min_height": null,
            "min_width": null,
            "object_fit": null,
            "object_position": null,
            "order": null,
            "overflow": null,
            "overflow_x": null,
            "overflow_y": null,
            "padding": null,
            "right": null,
            "top": null,
            "visibility": null,
            "width": null
          }
        },
        "191dd8c064b34be586bac9ba83ac1754": {
          "model_module": "@jupyter-widgets/controls",
          "model_name": "DescriptionStyleModel",
          "model_module_version": "1.5.0",
          "state": {
            "_model_module": "@jupyter-widgets/controls",
            "_model_module_version": "1.5.0",
            "_model_name": "DescriptionStyleModel",
            "_view_count": null,
            "_view_module": "@jupyter-widgets/base",
            "_view_module_version": "1.2.0",
            "_view_name": "StyleView",
            "description_width": ""
          }
        },
        "7a9482713d5a44e680befc71e61b88c6": {
          "model_module": "@jupyter-widgets/base",
          "model_name": "LayoutModel",
          "model_module_version": "1.2.0",
          "state": {
            "_model_module": "@jupyter-widgets/base",
            "_model_module_version": "1.2.0",
            "_model_name": "LayoutModel",
            "_view_count": null,
            "_view_module": "@jupyter-widgets/base",
            "_view_module_version": "1.2.0",
            "_view_name": "LayoutView",
            "align_content": null,
            "align_items": null,
            "align_self": null,
            "border": null,
            "bottom": null,
            "display": null,
            "flex": null,
            "flex_flow": null,
            "grid_area": null,
            "grid_auto_columns": null,
            "grid_auto_flow": null,
            "grid_auto_rows": null,
            "grid_column": null,
            "grid_gap": null,
            "grid_row": null,
            "grid_template_areas": null,
            "grid_template_columns": null,
            "grid_template_rows": null,
            "height": null,
            "justify_content": null,
            "justify_items": null,
            "left": null,
            "margin": null,
            "max_height": null,
            "max_width": null,
            "min_height": null,
            "min_width": null,
            "object_fit": null,
            "object_position": null,
            "order": null,
            "overflow": null,
            "overflow_x": null,
            "overflow_y": null,
            "padding": null,
            "right": null,
            "top": null,
            "visibility": null,
            "width": null
          }
        },
        "0beb5457188e479ba3e656d9db38f99e": {
          "model_module": "@jupyter-widgets/controls",
          "model_name": "ProgressStyleModel",
          "model_module_version": "1.5.0",
          "state": {
            "_model_module": "@jupyter-widgets/controls",
            "_model_module_version": "1.5.0",
            "_model_name": "ProgressStyleModel",
            "_view_count": null,
            "_view_module": "@jupyter-widgets/base",
            "_view_module_version": "1.2.0",
            "_view_name": "StyleView",
            "bar_color": null,
            "description_width": ""
          }
        },
        "188c294037f84f52a56ec077a8cd0f7c": {
          "model_module": "@jupyter-widgets/base",
          "model_name": "LayoutModel",
          "model_module_version": "1.2.0",
          "state": {
            "_model_module": "@jupyter-widgets/base",
            "_model_module_version": "1.2.0",
            "_model_name": "LayoutModel",
            "_view_count": null,
            "_view_module": "@jupyter-widgets/base",
            "_view_module_version": "1.2.0",
            "_view_name": "LayoutView",
            "align_content": null,
            "align_items": null,
            "align_self": null,
            "border": null,
            "bottom": null,
            "display": null,
            "flex": null,
            "flex_flow": null,
            "grid_area": null,
            "grid_auto_columns": null,
            "grid_auto_flow": null,
            "grid_auto_rows": null,
            "grid_column": null,
            "grid_gap": null,
            "grid_row": null,
            "grid_template_areas": null,
            "grid_template_columns": null,
            "grid_template_rows": null,
            "height": null,
            "justify_content": null,
            "justify_items": null,
            "left": null,
            "margin": null,
            "max_height": null,
            "max_width": null,
            "min_height": null,
            "min_width": null,
            "object_fit": null,
            "object_position": null,
            "order": null,
            "overflow": null,
            "overflow_x": null,
            "overflow_y": null,
            "padding": null,
            "right": null,
            "top": null,
            "visibility": null,
            "width": null
          }
        },
        "9f184ffa480e4a80bc3e6075bcc17ea2": {
          "model_module": "@jupyter-widgets/controls",
          "model_name": "DescriptionStyleModel",
          "model_module_version": "1.5.0",
          "state": {
            "_model_module": "@jupyter-widgets/controls",
            "_model_module_version": "1.5.0",
            "_model_name": "DescriptionStyleModel",
            "_view_count": null,
            "_view_module": "@jupyter-widgets/base",
            "_view_module_version": "1.2.0",
            "_view_name": "StyleView",
            "description_width": ""
          }
        },
        "22c7157b6819462eb9d94430263fed8b": {
          "model_module": "@jupyter-widgets/controls",
          "model_name": "HBoxModel",
          "model_module_version": "1.5.0",
          "state": {
            "_dom_classes": [],
            "_model_module": "@jupyter-widgets/controls",
            "_model_module_version": "1.5.0",
            "_model_name": "HBoxModel",
            "_view_count": null,
            "_view_module": "@jupyter-widgets/controls",
            "_view_module_version": "1.5.0",
            "_view_name": "HBoxView",
            "box_style": "",
            "children": [
              "IPY_MODEL_3c92869c76404fc5b7fcf3b765e7b6c4",
              "IPY_MODEL_a43457eedfd84a3585e7dc8a647d05f8",
              "IPY_MODEL_8e7317a57a334cda843f95622db48856"
            ],
            "layout": "IPY_MODEL_9872209f2fe44f6d8ab7e117567d9392"
          }
        },
        "3c92869c76404fc5b7fcf3b765e7b6c4": {
          "model_module": "@jupyter-widgets/controls",
          "model_name": "HTMLModel",
          "model_module_version": "1.5.0",
          "state": {
            "_dom_classes": [],
            "_model_module": "@jupyter-widgets/controls",
            "_model_module_version": "1.5.0",
            "_model_name": "HTMLModel",
            "_view_count": null,
            "_view_module": "@jupyter-widgets/controls",
            "_view_module_version": "1.5.0",
            "_view_name": "HTMLView",
            "description": "",
            "description_tooltip": null,
            "layout": "IPY_MODEL_f332a8e96913426c9e2881f0aea2b138",
            "placeholder": "​",
            "style": "IPY_MODEL_78e0623e7b464e76aa1abaf5ddb8db71",
            "value": "Downloading config.json: 100%"
          }
        },
        "a43457eedfd84a3585e7dc8a647d05f8": {
          "model_module": "@jupyter-widgets/controls",
          "model_name": "FloatProgressModel",
          "model_module_version": "1.5.0",
          "state": {
            "_dom_classes": [],
            "_model_module": "@jupyter-widgets/controls",
            "_model_module_version": "1.5.0",
            "_model_name": "FloatProgressModel",
            "_view_count": null,
            "_view_module": "@jupyter-widgets/controls",
            "_view_module_version": "1.5.0",
            "_view_name": "ProgressView",
            "bar_style": "success",
            "description": "",
            "description_tooltip": null,
            "layout": "IPY_MODEL_ecae210ab3d34453a3e781e113a4cb7a",
            "max": 694,
            "min": 0,
            "orientation": "horizontal",
            "style": "IPY_MODEL_fad70f9a262a413b8cbe9405bfbed108",
            "value": 694
          }
        },
        "8e7317a57a334cda843f95622db48856": {
          "model_module": "@jupyter-widgets/controls",
          "model_name": "HTMLModel",
          "model_module_version": "1.5.0",
          "state": {
            "_dom_classes": [],
            "_model_module": "@jupyter-widgets/controls",
            "_model_module_version": "1.5.0",
            "_model_name": "HTMLModel",
            "_view_count": null,
            "_view_module": "@jupyter-widgets/controls",
            "_view_module_version": "1.5.0",
            "_view_name": "HTMLView",
            "description": "",
            "description_tooltip": null,
            "layout": "IPY_MODEL_75dba2e6252c4f098b224e535006c5a3",
            "placeholder": "​",
            "style": "IPY_MODEL_e19ef0167942437f810f16a2886bf136",
            "value": " 694/694 [00:00&lt;00:00, 17.9kB/s]"
          }
        },
        "9872209f2fe44f6d8ab7e117567d9392": {
          "model_module": "@jupyter-widgets/base",
          "model_name": "LayoutModel",
          "model_module_version": "1.2.0",
          "state": {
            "_model_module": "@jupyter-widgets/base",
            "_model_module_version": "1.2.0",
            "_model_name": "LayoutModel",
            "_view_count": null,
            "_view_module": "@jupyter-widgets/base",
            "_view_module_version": "1.2.0",
            "_view_name": "LayoutView",
            "align_content": null,
            "align_items": null,
            "align_self": null,
            "border": null,
            "bottom": null,
            "display": null,
            "flex": null,
            "flex_flow": null,
            "grid_area": null,
            "grid_auto_columns": null,
            "grid_auto_flow": null,
            "grid_auto_rows": null,
            "grid_column": null,
            "grid_gap": null,
            "grid_row": null,
            "grid_template_areas": null,
            "grid_template_columns": null,
            "grid_template_rows": null,
            "height": null,
            "justify_content": null,
            "justify_items": null,
            "left": null,
            "margin": null,
            "max_height": null,
            "max_width": null,
            "min_height": null,
            "min_width": null,
            "object_fit": null,
            "object_position": null,
            "order": null,
            "overflow": null,
            "overflow_x": null,
            "overflow_y": null,
            "padding": null,
            "right": null,
            "top": null,
            "visibility": null,
            "width": null
          }
        },
        "f332a8e96913426c9e2881f0aea2b138": {
          "model_module": "@jupyter-widgets/base",
          "model_name": "LayoutModel",
          "model_module_version": "1.2.0",
          "state": {
            "_model_module": "@jupyter-widgets/base",
            "_model_module_version": "1.2.0",
            "_model_name": "LayoutModel",
            "_view_count": null,
            "_view_module": "@jupyter-widgets/base",
            "_view_module_version": "1.2.0",
            "_view_name": "LayoutView",
            "align_content": null,
            "align_items": null,
            "align_self": null,
            "border": null,
            "bottom": null,
            "display": null,
            "flex": null,
            "flex_flow": null,
            "grid_area": null,
            "grid_auto_columns": null,
            "grid_auto_flow": null,
            "grid_auto_rows": null,
            "grid_column": null,
            "grid_gap": null,
            "grid_row": null,
            "grid_template_areas": null,
            "grid_template_columns": null,
            "grid_template_rows": null,
            "height": null,
            "justify_content": null,
            "justify_items": null,
            "left": null,
            "margin": null,
            "max_height": null,
            "max_width": null,
            "min_height": null,
            "min_width": null,
            "object_fit": null,
            "object_position": null,
            "order": null,
            "overflow": null,
            "overflow_x": null,
            "overflow_y": null,
            "padding": null,
            "right": null,
            "top": null,
            "visibility": null,
            "width": null
          }
        },
        "78e0623e7b464e76aa1abaf5ddb8db71": {
          "model_module": "@jupyter-widgets/controls",
          "model_name": "DescriptionStyleModel",
          "model_module_version": "1.5.0",
          "state": {
            "_model_module": "@jupyter-widgets/controls",
            "_model_module_version": "1.5.0",
            "_model_name": "DescriptionStyleModel",
            "_view_count": null,
            "_view_module": "@jupyter-widgets/base",
            "_view_module_version": "1.2.0",
            "_view_name": "StyleView",
            "description_width": ""
          }
        },
        "ecae210ab3d34453a3e781e113a4cb7a": {
          "model_module": "@jupyter-widgets/base",
          "model_name": "LayoutModel",
          "model_module_version": "1.2.0",
          "state": {
            "_model_module": "@jupyter-widgets/base",
            "_model_module_version": "1.2.0",
            "_model_name": "LayoutModel",
            "_view_count": null,
            "_view_module": "@jupyter-widgets/base",
            "_view_module_version": "1.2.0",
            "_view_name": "LayoutView",
            "align_content": null,
            "align_items": null,
            "align_self": null,
            "border": null,
            "bottom": null,
            "display": null,
            "flex": null,
            "flex_flow": null,
            "grid_area": null,
            "grid_auto_columns": null,
            "grid_auto_flow": null,
            "grid_auto_rows": null,
            "grid_column": null,
            "grid_gap": null,
            "grid_row": null,
            "grid_template_areas": null,
            "grid_template_columns": null,
            "grid_template_rows": null,
            "height": null,
            "justify_content": null,
            "justify_items": null,
            "left": null,
            "margin": null,
            "max_height": null,
            "max_width": null,
            "min_height": null,
            "min_width": null,
            "object_fit": null,
            "object_position": null,
            "order": null,
            "overflow": null,
            "overflow_x": null,
            "overflow_y": null,
            "padding": null,
            "right": null,
            "top": null,
            "visibility": null,
            "width": null
          }
        },
        "fad70f9a262a413b8cbe9405bfbed108": {
          "model_module": "@jupyter-widgets/controls",
          "model_name": "ProgressStyleModel",
          "model_module_version": "1.5.0",
          "state": {
            "_model_module": "@jupyter-widgets/controls",
            "_model_module_version": "1.5.0",
            "_model_name": "ProgressStyleModel",
            "_view_count": null,
            "_view_module": "@jupyter-widgets/base",
            "_view_module_version": "1.2.0",
            "_view_name": "StyleView",
            "bar_color": null,
            "description_width": ""
          }
        },
        "75dba2e6252c4f098b224e535006c5a3": {
          "model_module": "@jupyter-widgets/base",
          "model_name": "LayoutModel",
          "model_module_version": "1.2.0",
          "state": {
            "_model_module": "@jupyter-widgets/base",
            "_model_module_version": "1.2.0",
            "_model_name": "LayoutModel",
            "_view_count": null,
            "_view_module": "@jupyter-widgets/base",
            "_view_module_version": "1.2.0",
            "_view_name": "LayoutView",
            "align_content": null,
            "align_items": null,
            "align_self": null,
            "border": null,
            "bottom": null,
            "display": null,
            "flex": null,
            "flex_flow": null,
            "grid_area": null,
            "grid_auto_columns": null,
            "grid_auto_flow": null,
            "grid_auto_rows": null,
            "grid_column": null,
            "grid_gap": null,
            "grid_row": null,
            "grid_template_areas": null,
            "grid_template_columns": null,
            "grid_template_rows": null,
            "height": null,
            "justify_content": null,
            "justify_items": null,
            "left": null,
            "margin": null,
            "max_height": null,
            "max_width": null,
            "min_height": null,
            "min_width": null,
            "object_fit": null,
            "object_position": null,
            "order": null,
            "overflow": null,
            "overflow_x": null,
            "overflow_y": null,
            "padding": null,
            "right": null,
            "top": null,
            "visibility": null,
            "width": null
          }
        },
        "e19ef0167942437f810f16a2886bf136": {
          "model_module": "@jupyter-widgets/controls",
          "model_name": "DescriptionStyleModel",
          "model_module_version": "1.5.0",
          "state": {
            "_model_module": "@jupyter-widgets/controls",
            "_model_module_version": "1.5.0",
            "_model_name": "DescriptionStyleModel",
            "_view_count": null,
            "_view_module": "@jupyter-widgets/base",
            "_view_module_version": "1.2.0",
            "_view_name": "StyleView",
            "description_width": ""
          }
        },
        "630fc3be61284c3191740a1cc1f65175": {
          "model_module": "@jupyter-widgets/controls",
          "model_name": "HBoxModel",
          "model_module_version": "1.5.0",
          "state": {
            "_dom_classes": [],
            "_model_module": "@jupyter-widgets/controls",
            "_model_module_version": "1.5.0",
            "_model_name": "HBoxModel",
            "_view_count": null,
            "_view_module": "@jupyter-widgets/controls",
            "_view_module_version": "1.5.0",
            "_view_name": "HBoxView",
            "box_style": "",
            "children": [
              "IPY_MODEL_041d3baf7ec94a73ac4db225545af6ec",
              "IPY_MODEL_26542112ce79404b94b9b844b59f2925",
              "IPY_MODEL_2165e4c27793456c9320701460c7b8d3"
            ],
            "layout": "IPY_MODEL_67b0deb2b24d4b9eb2957a859bfa1b85"
          }
        },
        "041d3baf7ec94a73ac4db225545af6ec": {
          "model_module": "@jupyter-widgets/controls",
          "model_name": "HTMLModel",
          "model_module_version": "1.5.0",
          "state": {
            "_dom_classes": [],
            "_model_module": "@jupyter-widgets/controls",
            "_model_module_version": "1.5.0",
            "_model_name": "HTMLModel",
            "_view_count": null,
            "_view_module": "@jupyter-widgets/controls",
            "_view_module_version": "1.5.0",
            "_view_name": "HTMLView",
            "description": "",
            "description_tooltip": null,
            "layout": "IPY_MODEL_1ef78f7bbfc54f7ca87c27612389258b",
            "placeholder": "​",
            "style": "IPY_MODEL_b6a4a635be8a4d43a36715f59649de70",
            "value": "Downloading: 100%"
          }
        },
        "26542112ce79404b94b9b844b59f2925": {
          "model_module": "@jupyter-widgets/controls",
          "model_name": "FloatProgressModel",
          "model_module_version": "1.5.0",
          "state": {
            "_dom_classes": [],
            "_model_module": "@jupyter-widgets/controls",
            "_model_module_version": "1.5.0",
            "_model_name": "FloatProgressModel",
            "_view_count": null,
            "_view_module": "@jupyter-widgets/controls",
            "_view_module_version": "1.5.0",
            "_view_name": "ProgressView",
            "bar_style": "success",
            "description": "",
            "description_tooltip": null,
            "layout": "IPY_MODEL_939414704842449ca695ff2ab78df167",
            "max": 739,
            "min": 0,
            "orientation": "horizontal",
            "style": "IPY_MODEL_b151c7810c2e4001b5fd49895215a0f1",
            "value": 739
          }
        },
        "2165e4c27793456c9320701460c7b8d3": {
          "model_module": "@jupyter-widgets/controls",
          "model_name": "HTMLModel",
          "model_module_version": "1.5.0",
          "state": {
            "_dom_classes": [],
            "_model_module": "@jupyter-widgets/controls",
            "_model_module_version": "1.5.0",
            "_model_name": "HTMLModel",
            "_view_count": null,
            "_view_module": "@jupyter-widgets/controls",
            "_view_module_version": "1.5.0",
            "_view_name": "HTMLView",
            "description": "",
            "description_tooltip": null,
            "layout": "IPY_MODEL_b216774b362c4286a149f3783517fbd5",
            "placeholder": "​",
            "style": "IPY_MODEL_cfb163948db6471f9df355d76940b502",
            "value": " 739/739 [00:00&lt;00:00, 25.1kB/s]"
          }
        },
        "67b0deb2b24d4b9eb2957a859bfa1b85": {
          "model_module": "@jupyter-widgets/base",
          "model_name": "LayoutModel",
          "model_module_version": "1.2.0",
          "state": {
            "_model_module": "@jupyter-widgets/base",
            "_model_module_version": "1.2.0",
            "_model_name": "LayoutModel",
            "_view_count": null,
            "_view_module": "@jupyter-widgets/base",
            "_view_module_version": "1.2.0",
            "_view_name": "LayoutView",
            "align_content": null,
            "align_items": null,
            "align_self": null,
            "border": null,
            "bottom": null,
            "display": null,
            "flex": null,
            "flex_flow": null,
            "grid_area": null,
            "grid_auto_columns": null,
            "grid_auto_flow": null,
            "grid_auto_rows": null,
            "grid_column": null,
            "grid_gap": null,
            "grid_row": null,
            "grid_template_areas": null,
            "grid_template_columns": null,
            "grid_template_rows": null,
            "height": null,
            "justify_content": null,
            "justify_items": null,
            "left": null,
            "margin": null,
            "max_height": null,
            "max_width": null,
            "min_height": null,
            "min_width": null,
            "object_fit": null,
            "object_position": null,
            "order": null,
            "overflow": null,
            "overflow_x": null,
            "overflow_y": null,
            "padding": null,
            "right": null,
            "top": null,
            "visibility": null,
            "width": null
          }
        },
        "1ef78f7bbfc54f7ca87c27612389258b": {
          "model_module": "@jupyter-widgets/base",
          "model_name": "LayoutModel",
          "model_module_version": "1.2.0",
          "state": {
            "_model_module": "@jupyter-widgets/base",
            "_model_module_version": "1.2.0",
            "_model_name": "LayoutModel",
            "_view_count": null,
            "_view_module": "@jupyter-widgets/base",
            "_view_module_version": "1.2.0",
            "_view_name": "LayoutView",
            "align_content": null,
            "align_items": null,
            "align_self": null,
            "border": null,
            "bottom": null,
            "display": null,
            "flex": null,
            "flex_flow": null,
            "grid_area": null,
            "grid_auto_columns": null,
            "grid_auto_flow": null,
            "grid_auto_rows": null,
            "grid_column": null,
            "grid_gap": null,
            "grid_row": null,
            "grid_template_areas": null,
            "grid_template_columns": null,
            "grid_template_rows": null,
            "height": null,
            "justify_content": null,
            "justify_items": null,
            "left": null,
            "margin": null,
            "max_height": null,
            "max_width": null,
            "min_height": null,
            "min_width": null,
            "object_fit": null,
            "object_position": null,
            "order": null,
            "overflow": null,
            "overflow_x": null,
            "overflow_y": null,
            "padding": null,
            "right": null,
            "top": null,
            "visibility": null,
            "width": null
          }
        },
        "b6a4a635be8a4d43a36715f59649de70": {
          "model_module": "@jupyter-widgets/controls",
          "model_name": "DescriptionStyleModel",
          "model_module_version": "1.5.0",
          "state": {
            "_model_module": "@jupyter-widgets/controls",
            "_model_module_version": "1.5.0",
            "_model_name": "DescriptionStyleModel",
            "_view_count": null,
            "_view_module": "@jupyter-widgets/base",
            "_view_module_version": "1.2.0",
            "_view_name": "StyleView",
            "description_width": ""
          }
        },
        "939414704842449ca695ff2ab78df167": {
          "model_module": "@jupyter-widgets/base",
          "model_name": "LayoutModel",
          "model_module_version": "1.2.0",
          "state": {
            "_model_module": "@jupyter-widgets/base",
            "_model_module_version": "1.2.0",
            "_model_name": "LayoutModel",
            "_view_count": null,
            "_view_module": "@jupyter-widgets/base",
            "_view_module_version": "1.2.0",
            "_view_name": "LayoutView",
            "align_content": null,
            "align_items": null,
            "align_self": null,
            "border": null,
            "bottom": null,
            "display": null,
            "flex": null,
            "flex_flow": null,
            "grid_area": null,
            "grid_auto_columns": null,
            "grid_auto_flow": null,
            "grid_auto_rows": null,
            "grid_column": null,
            "grid_gap": null,
            "grid_row": null,
            "grid_template_areas": null,
            "grid_template_columns": null,
            "grid_template_rows": null,
            "height": null,
            "justify_content": null,
            "justify_items": null,
            "left": null,
            "margin": null,
            "max_height": null,
            "max_width": null,
            "min_height": null,
            "min_width": null,
            "object_fit": null,
            "object_position": null,
            "order": null,
            "overflow": null,
            "overflow_x": null,
            "overflow_y": null,
            "padding": null,
            "right": null,
            "top": null,
            "visibility": null,
            "width": null
          }
        },
        "b151c7810c2e4001b5fd49895215a0f1": {
          "model_module": "@jupyter-widgets/controls",
          "model_name": "ProgressStyleModel",
          "model_module_version": "1.5.0",
          "state": {
            "_model_module": "@jupyter-widgets/controls",
            "_model_module_version": "1.5.0",
            "_model_name": "ProgressStyleModel",
            "_view_count": null,
            "_view_module": "@jupyter-widgets/base",
            "_view_module_version": "1.2.0",
            "_view_name": "StyleView",
            "bar_color": null,
            "description_width": ""
          }
        },
        "b216774b362c4286a149f3783517fbd5": {
          "model_module": "@jupyter-widgets/base",
          "model_name": "LayoutModel",
          "model_module_version": "1.2.0",
          "state": {
            "_model_module": "@jupyter-widgets/base",
            "_model_module_version": "1.2.0",
            "_model_name": "LayoutModel",
            "_view_count": null,
            "_view_module": "@jupyter-widgets/base",
            "_view_module_version": "1.2.0",
            "_view_name": "LayoutView",
            "align_content": null,
            "align_items": null,
            "align_self": null,
            "border": null,
            "bottom": null,
            "display": null,
            "flex": null,
            "flex_flow": null,
            "grid_area": null,
            "grid_auto_columns": null,
            "grid_auto_flow": null,
            "grid_auto_rows": null,
            "grid_column": null,
            "grid_gap": null,
            "grid_row": null,
            "grid_template_areas": null,
            "grid_template_columns": null,
            "grid_template_rows": null,
            "height": null,
            "justify_content": null,
            "justify_items": null,
            "left": null,
            "margin": null,
            "max_height": null,
            "max_width": null,
            "min_height": null,
            "min_width": null,
            "object_fit": null,
            "object_position": null,
            "order": null,
            "overflow": null,
            "overflow_x": null,
            "overflow_y": null,
            "padding": null,
            "right": null,
            "top": null,
            "visibility": null,
            "width": null
          }
        },
        "cfb163948db6471f9df355d76940b502": {
          "model_module": "@jupyter-widgets/controls",
          "model_name": "DescriptionStyleModel",
          "model_module_version": "1.5.0",
          "state": {
            "_model_module": "@jupyter-widgets/controls",
            "_model_module_version": "1.5.0",
            "_model_name": "DescriptionStyleModel",
            "_view_count": null,
            "_view_module": "@jupyter-widgets/base",
            "_view_module_version": "1.2.0",
            "_view_name": "StyleView",
            "description_width": ""
          }
        },
        "056eab4581bd4a08ae8068fa9cea98d4": {
          "model_module": "@jupyter-widgets/controls",
          "model_name": "HBoxModel",
          "model_module_version": "1.5.0",
          "state": {
            "_dom_classes": [],
            "_model_module": "@jupyter-widgets/controls",
            "_model_module_version": "1.5.0",
            "_model_name": "HBoxModel",
            "_view_count": null,
            "_view_module": "@jupyter-widgets/controls",
            "_view_module_version": "1.5.0",
            "_view_name": "HBoxView",
            "box_style": "",
            "children": [
              "IPY_MODEL_9b99cc143da745089ffd55ff4284dfe7",
              "IPY_MODEL_a5758a0fd76d47e08f17cd64237ee4f3",
              "IPY_MODEL_8debbd1b1b53404bae5ea2164628ffec"
            ],
            "layout": "IPY_MODEL_76579e8203a54a11b6cecfe733519a21"
          }
        },
        "9b99cc143da745089ffd55ff4284dfe7": {
          "model_module": "@jupyter-widgets/controls",
          "model_name": "HTMLModel",
          "model_module_version": "1.5.0",
          "state": {
            "_dom_classes": [],
            "_model_module": "@jupyter-widgets/controls",
            "_model_module_version": "1.5.0",
            "_model_name": "HTMLModel",
            "_view_count": null,
            "_view_module": "@jupyter-widgets/controls",
            "_view_module_version": "1.5.0",
            "_view_name": "HTMLView",
            "description": "",
            "description_tooltip": null,
            "layout": "IPY_MODEL_28456bea3aba4092929ea596a75dbadc",
            "placeholder": "​",
            "style": "IPY_MODEL_d88bb3b5a69b4924aaf7f6355a5996e0",
            "value": "Downloading data files: 100%"
          }
        },
        "a5758a0fd76d47e08f17cd64237ee4f3": {
          "model_module": "@jupyter-widgets/controls",
          "model_name": "FloatProgressModel",
          "model_module_version": "1.5.0",
          "state": {
            "_dom_classes": [],
            "_model_module": "@jupyter-widgets/controls",
            "_model_module_version": "1.5.0",
            "_model_name": "FloatProgressModel",
            "_view_count": null,
            "_view_module": "@jupyter-widgets/controls",
            "_view_module_version": "1.5.0",
            "_view_name": "ProgressView",
            "bar_style": "success",
            "description": "",
            "description_tooltip": null,
            "layout": "IPY_MODEL_9c47fbed18c74f85b512c398dc2e5238",
            "max": 2,
            "min": 0,
            "orientation": "horizontal",
            "style": "IPY_MODEL_fde442bd75644356971d4930e7c0c852",
            "value": 2
          }
        },
        "8debbd1b1b53404bae5ea2164628ffec": {
          "model_module": "@jupyter-widgets/controls",
          "model_name": "HTMLModel",
          "model_module_version": "1.5.0",
          "state": {
            "_dom_classes": [],
            "_model_module": "@jupyter-widgets/controls",
            "_model_module_version": "1.5.0",
            "_model_name": "HTMLModel",
            "_view_count": null,
            "_view_module": "@jupyter-widgets/controls",
            "_view_module_version": "1.5.0",
            "_view_name": "HTMLView",
            "description": "",
            "description_tooltip": null,
            "layout": "IPY_MODEL_4f42008c64fc4da682f09081ffd5b4e1",
            "placeholder": "​",
            "style": "IPY_MODEL_f16a186dfc634745a4bc735634b6bb34",
            "value": " 2/2 [00:04&lt;00:00,  2.27s/it]"
          }
        },
        "76579e8203a54a11b6cecfe733519a21": {
          "model_module": "@jupyter-widgets/base",
          "model_name": "LayoutModel",
          "model_module_version": "1.2.0",
          "state": {
            "_model_module": "@jupyter-widgets/base",
            "_model_module_version": "1.2.0",
            "_model_name": "LayoutModel",
            "_view_count": null,
            "_view_module": "@jupyter-widgets/base",
            "_view_module_version": "1.2.0",
            "_view_name": "LayoutView",
            "align_content": null,
            "align_items": null,
            "align_self": null,
            "border": null,
            "bottom": null,
            "display": null,
            "flex": null,
            "flex_flow": null,
            "grid_area": null,
            "grid_auto_columns": null,
            "grid_auto_flow": null,
            "grid_auto_rows": null,
            "grid_column": null,
            "grid_gap": null,
            "grid_row": null,
            "grid_template_areas": null,
            "grid_template_columns": null,
            "grid_template_rows": null,
            "height": null,
            "justify_content": null,
            "justify_items": null,
            "left": null,
            "margin": null,
            "max_height": null,
            "max_width": null,
            "min_height": null,
            "min_width": null,
            "object_fit": null,
            "object_position": null,
            "order": null,
            "overflow": null,
            "overflow_x": null,
            "overflow_y": null,
            "padding": null,
            "right": null,
            "top": null,
            "visibility": null,
            "width": null
          }
        },
        "28456bea3aba4092929ea596a75dbadc": {
          "model_module": "@jupyter-widgets/base",
          "model_name": "LayoutModel",
          "model_module_version": "1.2.0",
          "state": {
            "_model_module": "@jupyter-widgets/base",
            "_model_module_version": "1.2.0",
            "_model_name": "LayoutModel",
            "_view_count": null,
            "_view_module": "@jupyter-widgets/base",
            "_view_module_version": "1.2.0",
            "_view_name": "LayoutView",
            "align_content": null,
            "align_items": null,
            "align_self": null,
            "border": null,
            "bottom": null,
            "display": null,
            "flex": null,
            "flex_flow": null,
            "grid_area": null,
            "grid_auto_columns": null,
            "grid_auto_flow": null,
            "grid_auto_rows": null,
            "grid_column": null,
            "grid_gap": null,
            "grid_row": null,
            "grid_template_areas": null,
            "grid_template_columns": null,
            "grid_template_rows": null,
            "height": null,
            "justify_content": null,
            "justify_items": null,
            "left": null,
            "margin": null,
            "max_height": null,
            "max_width": null,
            "min_height": null,
            "min_width": null,
            "object_fit": null,
            "object_position": null,
            "order": null,
            "overflow": null,
            "overflow_x": null,
            "overflow_y": null,
            "padding": null,
            "right": null,
            "top": null,
            "visibility": null,
            "width": null
          }
        },
        "d88bb3b5a69b4924aaf7f6355a5996e0": {
          "model_module": "@jupyter-widgets/controls",
          "model_name": "DescriptionStyleModel",
          "model_module_version": "1.5.0",
          "state": {
            "_model_module": "@jupyter-widgets/controls",
            "_model_module_version": "1.5.0",
            "_model_name": "DescriptionStyleModel",
            "_view_count": null,
            "_view_module": "@jupyter-widgets/base",
            "_view_module_version": "1.2.0",
            "_view_name": "StyleView",
            "description_width": ""
          }
        },
        "9c47fbed18c74f85b512c398dc2e5238": {
          "model_module": "@jupyter-widgets/base",
          "model_name": "LayoutModel",
          "model_module_version": "1.2.0",
          "state": {
            "_model_module": "@jupyter-widgets/base",
            "_model_module_version": "1.2.0",
            "_model_name": "LayoutModel",
            "_view_count": null,
            "_view_module": "@jupyter-widgets/base",
            "_view_module_version": "1.2.0",
            "_view_name": "LayoutView",
            "align_content": null,
            "align_items": null,
            "align_self": null,
            "border": null,
            "bottom": null,
            "display": null,
            "flex": null,
            "flex_flow": null,
            "grid_area": null,
            "grid_auto_columns": null,
            "grid_auto_flow": null,
            "grid_auto_rows": null,
            "grid_column": null,
            "grid_gap": null,
            "grid_row": null,
            "grid_template_areas": null,
            "grid_template_columns": null,
            "grid_template_rows": null,
            "height": null,
            "justify_content": null,
            "justify_items": null,
            "left": null,
            "margin": null,
            "max_height": null,
            "max_width": null,
            "min_height": null,
            "min_width": null,
            "object_fit": null,
            "object_position": null,
            "order": null,
            "overflow": null,
            "overflow_x": null,
            "overflow_y": null,
            "padding": null,
            "right": null,
            "top": null,
            "visibility": null,
            "width": null
          }
        },
        "fde442bd75644356971d4930e7c0c852": {
          "model_module": "@jupyter-widgets/controls",
          "model_name": "ProgressStyleModel",
          "model_module_version": "1.5.0",
          "state": {
            "_model_module": "@jupyter-widgets/controls",
            "_model_module_version": "1.5.0",
            "_model_name": "ProgressStyleModel",
            "_view_count": null,
            "_view_module": "@jupyter-widgets/base",
            "_view_module_version": "1.2.0",
            "_view_name": "StyleView",
            "bar_color": null,
            "description_width": ""
          }
        },
        "4f42008c64fc4da682f09081ffd5b4e1": {
          "model_module": "@jupyter-widgets/base",
          "model_name": "LayoutModel",
          "model_module_version": "1.2.0",
          "state": {
            "_model_module": "@jupyter-widgets/base",
            "_model_module_version": "1.2.0",
            "_model_name": "LayoutModel",
            "_view_count": null,
            "_view_module": "@jupyter-widgets/base",
            "_view_module_version": "1.2.0",
            "_view_name": "LayoutView",
            "align_content": null,
            "align_items": null,
            "align_self": null,
            "border": null,
            "bottom": null,
            "display": null,
            "flex": null,
            "flex_flow": null,
            "grid_area": null,
            "grid_auto_columns": null,
            "grid_auto_flow": null,
            "grid_auto_rows": null,
            "grid_column": null,
            "grid_gap": null,
            "grid_row": null,
            "grid_template_areas": null,
            "grid_template_columns": null,
            "grid_template_rows": null,
            "height": null,
            "justify_content": null,
            "justify_items": null,
            "left": null,
            "margin": null,
            "max_height": null,
            "max_width": null,
            "min_height": null,
            "min_width": null,
            "object_fit": null,
            "object_position": null,
            "order": null,
            "overflow": null,
            "overflow_x": null,
            "overflow_y": null,
            "padding": null,
            "right": null,
            "top": null,
            "visibility": null,
            "width": null
          }
        },
        "f16a186dfc634745a4bc735634b6bb34": {
          "model_module": "@jupyter-widgets/controls",
          "model_name": "DescriptionStyleModel",
          "model_module_version": "1.5.0",
          "state": {
            "_model_module": "@jupyter-widgets/controls",
            "_model_module_version": "1.5.0",
            "_model_name": "DescriptionStyleModel",
            "_view_count": null,
            "_view_module": "@jupyter-widgets/base",
            "_view_module_version": "1.2.0",
            "_view_name": "StyleView",
            "description_width": ""
          }
        },
        "f08273470bc943919ef61c1857ee292b": {
          "model_module": "@jupyter-widgets/controls",
          "model_name": "HBoxModel",
          "model_module_version": "1.5.0",
          "state": {
            "_dom_classes": [],
            "_model_module": "@jupyter-widgets/controls",
            "_model_module_version": "1.5.0",
            "_model_name": "HBoxModel",
            "_view_count": null,
            "_view_module": "@jupyter-widgets/controls",
            "_view_module_version": "1.5.0",
            "_view_name": "HBoxView",
            "box_style": "",
            "children": [
              "IPY_MODEL_42d702b972154c888e44fd994f6e9fab",
              "IPY_MODEL_8cf1dea4aa33466caf511d8e803dac08",
              "IPY_MODEL_5e58e11a6dd54049b6f31aa9abe810e5"
            ],
            "layout": "IPY_MODEL_674ca58b1b5e4e8197ba63b09d713bab"
          }
        },
        "42d702b972154c888e44fd994f6e9fab": {
          "model_module": "@jupyter-widgets/controls",
          "model_name": "HTMLModel",
          "model_module_version": "1.5.0",
          "state": {
            "_dom_classes": [],
            "_model_module": "@jupyter-widgets/controls",
            "_model_module_version": "1.5.0",
            "_model_name": "HTMLModel",
            "_view_count": null,
            "_view_module": "@jupyter-widgets/controls",
            "_view_module_version": "1.5.0",
            "_view_name": "HTMLView",
            "description": "",
            "description_tooltip": null,
            "layout": "IPY_MODEL_3b454235ad28421e88611f638860075b",
            "placeholder": "​",
            "style": "IPY_MODEL_6f3ed11ddba34734a6f8d53f92aa6787",
            "value": "Downloading data: 100%"
          }
        },
        "8cf1dea4aa33466caf511d8e803dac08": {
          "model_module": "@jupyter-widgets/controls",
          "model_name": "FloatProgressModel",
          "model_module_version": "1.5.0",
          "state": {
            "_dom_classes": [],
            "_model_module": "@jupyter-widgets/controls",
            "_model_module_version": "1.5.0",
            "_model_name": "FloatProgressModel",
            "_view_count": null,
            "_view_module": "@jupyter-widgets/controls",
            "_view_module_version": "1.5.0",
            "_view_name": "ProgressView",
            "bar_style": "success",
            "description": "",
            "description_tooltip": null,
            "layout": "IPY_MODEL_dfa9787354564764ad549af34adfc8bc",
            "max": 33611302,
            "min": 0,
            "orientation": "horizontal",
            "style": "IPY_MODEL_2c67ad0eda294640894a0ee38d8f239e",
            "value": 33611302
          }
        },
        "5e58e11a6dd54049b6f31aa9abe810e5": {
          "model_module": "@jupyter-widgets/controls",
          "model_name": "HTMLModel",
          "model_module_version": "1.5.0",
          "state": {
            "_dom_classes": [],
            "_model_module": "@jupyter-widgets/controls",
            "_model_module_version": "1.5.0",
            "_model_name": "HTMLModel",
            "_view_count": null,
            "_view_module": "@jupyter-widgets/controls",
            "_view_module_version": "1.5.0",
            "_view_name": "HTMLView",
            "description": "",
            "description_tooltip": null,
            "layout": "IPY_MODEL_ec6c76650aaf4879a5dee84560c4dce9",
            "placeholder": "​",
            "style": "IPY_MODEL_708d584420f946ffa5ce6f335fc2f542",
            "value": " 33.6M/33.6M [00:00&lt;00:00, 63.6MB/s]"
          }
        },
        "674ca58b1b5e4e8197ba63b09d713bab": {
          "model_module": "@jupyter-widgets/base",
          "model_name": "LayoutModel",
          "model_module_version": "1.2.0",
          "state": {
            "_model_module": "@jupyter-widgets/base",
            "_model_module_version": "1.2.0",
            "_model_name": "LayoutModel",
            "_view_count": null,
            "_view_module": "@jupyter-widgets/base",
            "_view_module_version": "1.2.0",
            "_view_name": "LayoutView",
            "align_content": null,
            "align_items": null,
            "align_self": null,
            "border": null,
            "bottom": null,
            "display": null,
            "flex": null,
            "flex_flow": null,
            "grid_area": null,
            "grid_auto_columns": null,
            "grid_auto_flow": null,
            "grid_auto_rows": null,
            "grid_column": null,
            "grid_gap": null,
            "grid_row": null,
            "grid_template_areas": null,
            "grid_template_columns": null,
            "grid_template_rows": null,
            "height": null,
            "justify_content": null,
            "justify_items": null,
            "left": null,
            "margin": null,
            "max_height": null,
            "max_width": null,
            "min_height": null,
            "min_width": null,
            "object_fit": null,
            "object_position": null,
            "order": null,
            "overflow": null,
            "overflow_x": null,
            "overflow_y": null,
            "padding": null,
            "right": null,
            "top": null,
            "visibility": null,
            "width": null
          }
        },
        "3b454235ad28421e88611f638860075b": {
          "model_module": "@jupyter-widgets/base",
          "model_name": "LayoutModel",
          "model_module_version": "1.2.0",
          "state": {
            "_model_module": "@jupyter-widgets/base",
            "_model_module_version": "1.2.0",
            "_model_name": "LayoutModel",
            "_view_count": null,
            "_view_module": "@jupyter-widgets/base",
            "_view_module_version": "1.2.0",
            "_view_name": "LayoutView",
            "align_content": null,
            "align_items": null,
            "align_self": null,
            "border": null,
            "bottom": null,
            "display": null,
            "flex": null,
            "flex_flow": null,
            "grid_area": null,
            "grid_auto_columns": null,
            "grid_auto_flow": null,
            "grid_auto_rows": null,
            "grid_column": null,
            "grid_gap": null,
            "grid_row": null,
            "grid_template_areas": null,
            "grid_template_columns": null,
            "grid_template_rows": null,
            "height": null,
            "justify_content": null,
            "justify_items": null,
            "left": null,
            "margin": null,
            "max_height": null,
            "max_width": null,
            "min_height": null,
            "min_width": null,
            "object_fit": null,
            "object_position": null,
            "order": null,
            "overflow": null,
            "overflow_x": null,
            "overflow_y": null,
            "padding": null,
            "right": null,
            "top": null,
            "visibility": null,
            "width": null
          }
        },
        "6f3ed11ddba34734a6f8d53f92aa6787": {
          "model_module": "@jupyter-widgets/controls",
          "model_name": "DescriptionStyleModel",
          "model_module_version": "1.5.0",
          "state": {
            "_model_module": "@jupyter-widgets/controls",
            "_model_module_version": "1.5.0",
            "_model_name": "DescriptionStyleModel",
            "_view_count": null,
            "_view_module": "@jupyter-widgets/base",
            "_view_module_version": "1.2.0",
            "_view_name": "StyleView",
            "description_width": ""
          }
        },
        "dfa9787354564764ad549af34adfc8bc": {
          "model_module": "@jupyter-widgets/base",
          "model_name": "LayoutModel",
          "model_module_version": "1.2.0",
          "state": {
            "_model_module": "@jupyter-widgets/base",
            "_model_module_version": "1.2.0",
            "_model_name": "LayoutModel",
            "_view_count": null,
            "_view_module": "@jupyter-widgets/base",
            "_view_module_version": "1.2.0",
            "_view_name": "LayoutView",
            "align_content": null,
            "align_items": null,
            "align_self": null,
            "border": null,
            "bottom": null,
            "display": null,
            "flex": null,
            "flex_flow": null,
            "grid_area": null,
            "grid_auto_columns": null,
            "grid_auto_flow": null,
            "grid_auto_rows": null,
            "grid_column": null,
            "grid_gap": null,
            "grid_row": null,
            "grid_template_areas": null,
            "grid_template_columns": null,
            "grid_template_rows": null,
            "height": null,
            "justify_content": null,
            "justify_items": null,
            "left": null,
            "margin": null,
            "max_height": null,
            "max_width": null,
            "min_height": null,
            "min_width": null,
            "object_fit": null,
            "object_position": null,
            "order": null,
            "overflow": null,
            "overflow_x": null,
            "overflow_y": null,
            "padding": null,
            "right": null,
            "top": null,
            "visibility": null,
            "width": null
          }
        },
        "2c67ad0eda294640894a0ee38d8f239e": {
          "model_module": "@jupyter-widgets/controls",
          "model_name": "ProgressStyleModel",
          "model_module_version": "1.5.0",
          "state": {
            "_model_module": "@jupyter-widgets/controls",
            "_model_module_version": "1.5.0",
            "_model_name": "ProgressStyleModel",
            "_view_count": null,
            "_view_module": "@jupyter-widgets/base",
            "_view_module_version": "1.2.0",
            "_view_name": "StyleView",
            "bar_color": null,
            "description_width": ""
          }
        },
        "ec6c76650aaf4879a5dee84560c4dce9": {
          "model_module": "@jupyter-widgets/base",
          "model_name": "LayoutModel",
          "model_module_version": "1.2.0",
          "state": {
            "_model_module": "@jupyter-widgets/base",
            "_model_module_version": "1.2.0",
            "_model_name": "LayoutModel",
            "_view_count": null,
            "_view_module": "@jupyter-widgets/base",
            "_view_module_version": "1.2.0",
            "_view_name": "LayoutView",
            "align_content": null,
            "align_items": null,
            "align_self": null,
            "border": null,
            "bottom": null,
            "display": null,
            "flex": null,
            "flex_flow": null,
            "grid_area": null,
            "grid_auto_columns": null,
            "grid_auto_flow": null,
            "grid_auto_rows": null,
            "grid_column": null,
            "grid_gap": null,
            "grid_row": null,
            "grid_template_areas": null,
            "grid_template_columns": null,
            "grid_template_rows": null,
            "height": null,
            "justify_content": null,
            "justify_items": null,
            "left": null,
            "margin": null,
            "max_height": null,
            "max_width": null,
            "min_height": null,
            "min_width": null,
            "object_fit": null,
            "object_position": null,
            "order": null,
            "overflow": null,
            "overflow_x": null,
            "overflow_y": null,
            "padding": null,
            "right": null,
            "top": null,
            "visibility": null,
            "width": null
          }
        },
        "708d584420f946ffa5ce6f335fc2f542": {
          "model_module": "@jupyter-widgets/controls",
          "model_name": "DescriptionStyleModel",
          "model_module_version": "1.5.0",
          "state": {
            "_model_module": "@jupyter-widgets/controls",
            "_model_module_version": "1.5.0",
            "_model_name": "DescriptionStyleModel",
            "_view_count": null,
            "_view_module": "@jupyter-widgets/base",
            "_view_module_version": "1.2.0",
            "_view_name": "StyleView",
            "description_width": ""
          }
        },
        "be7be3d7242546ec9bf1fb06a0d45a4c": {
          "model_module": "@jupyter-widgets/controls",
          "model_name": "HBoxModel",
          "model_module_version": "1.5.0",
          "state": {
            "_dom_classes": [],
            "_model_module": "@jupyter-widgets/controls",
            "_model_module_version": "1.5.0",
            "_model_name": "HBoxModel",
            "_view_count": null,
            "_view_module": "@jupyter-widgets/controls",
            "_view_module_version": "1.5.0",
            "_view_name": "HBoxView",
            "box_style": "",
            "children": [
              "IPY_MODEL_83920a594bf143239d027b07319ff91e",
              "IPY_MODEL_2b22ba983bf14390b2e42fb117a1a9cc",
              "IPY_MODEL_b91fe337d0db4ea98667648b6cbe42c0"
            ],
            "layout": "IPY_MODEL_a48835330ab240a7a9f028cf0ba805ed"
          }
        },
        "83920a594bf143239d027b07319ff91e": {
          "model_module": "@jupyter-widgets/controls",
          "model_name": "HTMLModel",
          "model_module_version": "1.5.0",
          "state": {
            "_dom_classes": [],
            "_model_module": "@jupyter-widgets/controls",
            "_model_module_version": "1.5.0",
            "_model_name": "HTMLModel",
            "_view_count": null,
            "_view_module": "@jupyter-widgets/controls",
            "_view_module_version": "1.5.0",
            "_view_name": "HTMLView",
            "description": "",
            "description_tooltip": null,
            "layout": "IPY_MODEL_37727097a5bd459788b768ff192d4356",
            "placeholder": "​",
            "style": "IPY_MODEL_609391ff40024fa2b315725eaa1fce65",
            "value": "Downloading data: 100%"
          }
        },
        "2b22ba983bf14390b2e42fb117a1a9cc": {
          "model_module": "@jupyter-widgets/controls",
          "model_name": "FloatProgressModel",
          "model_module_version": "1.5.0",
          "state": {
            "_dom_classes": [],
            "_model_module": "@jupyter-widgets/controls",
            "_model_module_version": "1.5.0",
            "_model_name": "FloatProgressModel",
            "_view_count": null,
            "_view_module": "@jupyter-widgets/controls",
            "_view_module_version": "1.5.0",
            "_view_name": "ProgressView",
            "bar_style": "success",
            "description": "",
            "description_tooltip": null,
            "layout": "IPY_MODEL_f0ad5d21801441068ed2b4a028f81d80",
            "max": 131932617,
            "min": 0,
            "orientation": "horizontal",
            "style": "IPY_MODEL_2e151dee67974d42b955a9205ebe4ffb",
            "value": 131932617
          }
        },
        "b91fe337d0db4ea98667648b6cbe42c0": {
          "model_module": "@jupyter-widgets/controls",
          "model_name": "HTMLModel",
          "model_module_version": "1.5.0",
          "state": {
            "_dom_classes": [],
            "_model_module": "@jupyter-widgets/controls",
            "_model_module_version": "1.5.0",
            "_model_name": "HTMLModel",
            "_view_count": null,
            "_view_module": "@jupyter-widgets/controls",
            "_view_module_version": "1.5.0",
            "_view_name": "HTMLView",
            "description": "",
            "description_tooltip": null,
            "layout": "IPY_MODEL_eac702a75c05409f9ec8a2520ebe169c",
            "placeholder": "​",
            "style": "IPY_MODEL_dcf1ef2238ec481dafdec95dc43835b2",
            "value": " 132M/132M [00:02&lt;00:00, 67.0MB/s]"
          }
        },
        "a48835330ab240a7a9f028cf0ba805ed": {
          "model_module": "@jupyter-widgets/base",
          "model_name": "LayoutModel",
          "model_module_version": "1.2.0",
          "state": {
            "_model_module": "@jupyter-widgets/base",
            "_model_module_version": "1.2.0",
            "_model_name": "LayoutModel",
            "_view_count": null,
            "_view_module": "@jupyter-widgets/base",
            "_view_module_version": "1.2.0",
            "_view_name": "LayoutView",
            "align_content": null,
            "align_items": null,
            "align_self": null,
            "border": null,
            "bottom": null,
            "display": null,
            "flex": null,
            "flex_flow": null,
            "grid_area": null,
            "grid_auto_columns": null,
            "grid_auto_flow": null,
            "grid_auto_rows": null,
            "grid_column": null,
            "grid_gap": null,
            "grid_row": null,
            "grid_template_areas": null,
            "grid_template_columns": null,
            "grid_template_rows": null,
            "height": null,
            "justify_content": null,
            "justify_items": null,
            "left": null,
            "margin": null,
            "max_height": null,
            "max_width": null,
            "min_height": null,
            "min_width": null,
            "object_fit": null,
            "object_position": null,
            "order": null,
            "overflow": null,
            "overflow_x": null,
            "overflow_y": null,
            "padding": null,
            "right": null,
            "top": null,
            "visibility": null,
            "width": null
          }
        },
        "37727097a5bd459788b768ff192d4356": {
          "model_module": "@jupyter-widgets/base",
          "model_name": "LayoutModel",
          "model_module_version": "1.2.0",
          "state": {
            "_model_module": "@jupyter-widgets/base",
            "_model_module_version": "1.2.0",
            "_model_name": "LayoutModel",
            "_view_count": null,
            "_view_module": "@jupyter-widgets/base",
            "_view_module_version": "1.2.0",
            "_view_name": "LayoutView",
            "align_content": null,
            "align_items": null,
            "align_self": null,
            "border": null,
            "bottom": null,
            "display": null,
            "flex": null,
            "flex_flow": null,
            "grid_area": null,
            "grid_auto_columns": null,
            "grid_auto_flow": null,
            "grid_auto_rows": null,
            "grid_column": null,
            "grid_gap": null,
            "grid_row": null,
            "grid_template_areas": null,
            "grid_template_columns": null,
            "grid_template_rows": null,
            "height": null,
            "justify_content": null,
            "justify_items": null,
            "left": null,
            "margin": null,
            "max_height": null,
            "max_width": null,
            "min_height": null,
            "min_width": null,
            "object_fit": null,
            "object_position": null,
            "order": null,
            "overflow": null,
            "overflow_x": null,
            "overflow_y": null,
            "padding": null,
            "right": null,
            "top": null,
            "visibility": null,
            "width": null
          }
        },
        "609391ff40024fa2b315725eaa1fce65": {
          "model_module": "@jupyter-widgets/controls",
          "model_name": "DescriptionStyleModel",
          "model_module_version": "1.5.0",
          "state": {
            "_model_module": "@jupyter-widgets/controls",
            "_model_module_version": "1.5.0",
            "_model_name": "DescriptionStyleModel",
            "_view_count": null,
            "_view_module": "@jupyter-widgets/base",
            "_view_module_version": "1.2.0",
            "_view_name": "StyleView",
            "description_width": ""
          }
        },
        "f0ad5d21801441068ed2b4a028f81d80": {
          "model_module": "@jupyter-widgets/base",
          "model_name": "LayoutModel",
          "model_module_version": "1.2.0",
          "state": {
            "_model_module": "@jupyter-widgets/base",
            "_model_module_version": "1.2.0",
            "_model_name": "LayoutModel",
            "_view_count": null,
            "_view_module": "@jupyter-widgets/base",
            "_view_module_version": "1.2.0",
            "_view_name": "LayoutView",
            "align_content": null,
            "align_items": null,
            "align_self": null,
            "border": null,
            "bottom": null,
            "display": null,
            "flex": null,
            "flex_flow": null,
            "grid_area": null,
            "grid_auto_columns": null,
            "grid_auto_flow": null,
            "grid_auto_rows": null,
            "grid_column": null,
            "grid_gap": null,
            "grid_row": null,
            "grid_template_areas": null,
            "grid_template_columns": null,
            "grid_template_rows": null,
            "height": null,
            "justify_content": null,
            "justify_items": null,
            "left": null,
            "margin": null,
            "max_height": null,
            "max_width": null,
            "min_height": null,
            "min_width": null,
            "object_fit": null,
            "object_position": null,
            "order": null,
            "overflow": null,
            "overflow_x": null,
            "overflow_y": null,
            "padding": null,
            "right": null,
            "top": null,
            "visibility": null,
            "width": null
          }
        },
        "2e151dee67974d42b955a9205ebe4ffb": {
          "model_module": "@jupyter-widgets/controls",
          "model_name": "ProgressStyleModel",
          "model_module_version": "1.5.0",
          "state": {
            "_model_module": "@jupyter-widgets/controls",
            "_model_module_version": "1.5.0",
            "_model_name": "ProgressStyleModel",
            "_view_count": null,
            "_view_module": "@jupyter-widgets/base",
            "_view_module_version": "1.2.0",
            "_view_name": "StyleView",
            "bar_color": null,
            "description_width": ""
          }
        },
        "eac702a75c05409f9ec8a2520ebe169c": {
          "model_module": "@jupyter-widgets/base",
          "model_name": "LayoutModel",
          "model_module_version": "1.2.0",
          "state": {
            "_model_module": "@jupyter-widgets/base",
            "_model_module_version": "1.2.0",
            "_model_name": "LayoutModel",
            "_view_count": null,
            "_view_module": "@jupyter-widgets/base",
            "_view_module_version": "1.2.0",
            "_view_name": "LayoutView",
            "align_content": null,
            "align_items": null,
            "align_self": null,
            "border": null,
            "bottom": null,
            "display": null,
            "flex": null,
            "flex_flow": null,
            "grid_area": null,
            "grid_auto_columns": null,
            "grid_auto_flow": null,
            "grid_auto_rows": null,
            "grid_column": null,
            "grid_gap": null,
            "grid_row": null,
            "grid_template_areas": null,
            "grid_template_columns": null,
            "grid_template_rows": null,
            "height": null,
            "justify_content": null,
            "justify_items": null,
            "left": null,
            "margin": null,
            "max_height": null,
            "max_width": null,
            "min_height": null,
            "min_width": null,
            "object_fit": null,
            "object_position": null,
            "order": null,
            "overflow": null,
            "overflow_x": null,
            "overflow_y": null,
            "padding": null,
            "right": null,
            "top": null,
            "visibility": null,
            "width": null
          }
        },
        "dcf1ef2238ec481dafdec95dc43835b2": {
          "model_module": "@jupyter-widgets/controls",
          "model_name": "DescriptionStyleModel",
          "model_module_version": "1.5.0",
          "state": {
            "_model_module": "@jupyter-widgets/controls",
            "_model_module_version": "1.5.0",
            "_model_name": "DescriptionStyleModel",
            "_view_count": null,
            "_view_module": "@jupyter-widgets/base",
            "_view_module_version": "1.2.0",
            "_view_name": "StyleView",
            "description_width": ""
          }
        },
        "621640a88903401d892d20815ac2bab0": {
          "model_module": "@jupyter-widgets/controls",
          "model_name": "HBoxModel",
          "model_module_version": "1.5.0",
          "state": {
            "_dom_classes": [],
            "_model_module": "@jupyter-widgets/controls",
            "_model_module_version": "1.5.0",
            "_model_name": "HBoxModel",
            "_view_count": null,
            "_view_module": "@jupyter-widgets/controls",
            "_view_module_version": "1.5.0",
            "_view_name": "HBoxView",
            "box_style": "",
            "children": [
              "IPY_MODEL_c272ccde3b4e4b15a81e86d6dcf948f0",
              "IPY_MODEL_3bb15d90559d41d19f7e30a608c1cf82",
              "IPY_MODEL_44f38c74a478422fa4e8ce620543d195"
            ],
            "layout": "IPY_MODEL_bcbc52f0999b414d95565fe5a147de13"
          }
        },
        "c272ccde3b4e4b15a81e86d6dcf948f0": {
          "model_module": "@jupyter-widgets/controls",
          "model_name": "HTMLModel",
          "model_module_version": "1.5.0",
          "state": {
            "_dom_classes": [],
            "_model_module": "@jupyter-widgets/controls",
            "_model_module_version": "1.5.0",
            "_model_name": "HTMLModel",
            "_view_count": null,
            "_view_module": "@jupyter-widgets/controls",
            "_view_module_version": "1.5.0",
            "_view_name": "HTMLView",
            "description": "",
            "description_tooltip": null,
            "layout": "IPY_MODEL_e49be02e03d64215a04ddf94efc157f3",
            "placeholder": "​",
            "style": "IPY_MODEL_6ba0173aa84a4880a435f813667b52bb",
            "value": "Extracting data files: 100%"
          }
        },
        "3bb15d90559d41d19f7e30a608c1cf82": {
          "model_module": "@jupyter-widgets/controls",
          "model_name": "FloatProgressModel",
          "model_module_version": "1.5.0",
          "state": {
            "_dom_classes": [],
            "_model_module": "@jupyter-widgets/controls",
            "_model_module_version": "1.5.0",
            "_model_name": "FloatProgressModel",
            "_view_count": null,
            "_view_module": "@jupyter-widgets/controls",
            "_view_module_version": "1.5.0",
            "_view_name": "ProgressView",
            "bar_style": "success",
            "description": "",
            "description_tooltip": null,
            "layout": "IPY_MODEL_fbcaa33d2d7042a0862792ce72bb3323",
            "max": 2,
            "min": 0,
            "orientation": "horizontal",
            "style": "IPY_MODEL_be9588311a4743d2987f04a9d947a4e7",
            "value": 2
          }
        },
        "44f38c74a478422fa4e8ce620543d195": {
          "model_module": "@jupyter-widgets/controls",
          "model_name": "HTMLModel",
          "model_module_version": "1.5.0",
          "state": {
            "_dom_classes": [],
            "_model_module": "@jupyter-widgets/controls",
            "_model_module_version": "1.5.0",
            "_model_name": "HTMLModel",
            "_view_count": null,
            "_view_module": "@jupyter-widgets/controls",
            "_view_module_version": "1.5.0",
            "_view_name": "HTMLView",
            "description": "",
            "description_tooltip": null,
            "layout": "IPY_MODEL_ea2649e7d6a94adebbc100d87b75b03d",
            "placeholder": "​",
            "style": "IPY_MODEL_dddbe86d6c404ee498894e4a05c3a6b9",
            "value": " 2/2 [00:00&lt;00:00, 55.00it/s]"
          }
        },
        "bcbc52f0999b414d95565fe5a147de13": {
          "model_module": "@jupyter-widgets/base",
          "model_name": "LayoutModel",
          "model_module_version": "1.2.0",
          "state": {
            "_model_module": "@jupyter-widgets/base",
            "_model_module_version": "1.2.0",
            "_model_name": "LayoutModel",
            "_view_count": null,
            "_view_module": "@jupyter-widgets/base",
            "_view_module_version": "1.2.0",
            "_view_name": "LayoutView",
            "align_content": null,
            "align_items": null,
            "align_self": null,
            "border": null,
            "bottom": null,
            "display": null,
            "flex": null,
            "flex_flow": null,
            "grid_area": null,
            "grid_auto_columns": null,
            "grid_auto_flow": null,
            "grid_auto_rows": null,
            "grid_column": null,
            "grid_gap": null,
            "grid_row": null,
            "grid_template_areas": null,
            "grid_template_columns": null,
            "grid_template_rows": null,
            "height": null,
            "justify_content": null,
            "justify_items": null,
            "left": null,
            "margin": null,
            "max_height": null,
            "max_width": null,
            "min_height": null,
            "min_width": null,
            "object_fit": null,
            "object_position": null,
            "order": null,
            "overflow": null,
            "overflow_x": null,
            "overflow_y": null,
            "padding": null,
            "right": null,
            "top": null,
            "visibility": null,
            "width": null
          }
        },
        "e49be02e03d64215a04ddf94efc157f3": {
          "model_module": "@jupyter-widgets/base",
          "model_name": "LayoutModel",
          "model_module_version": "1.2.0",
          "state": {
            "_model_module": "@jupyter-widgets/base",
            "_model_module_version": "1.2.0",
            "_model_name": "LayoutModel",
            "_view_count": null,
            "_view_module": "@jupyter-widgets/base",
            "_view_module_version": "1.2.0",
            "_view_name": "LayoutView",
            "align_content": null,
            "align_items": null,
            "align_self": null,
            "border": null,
            "bottom": null,
            "display": null,
            "flex": null,
            "flex_flow": null,
            "grid_area": null,
            "grid_auto_columns": null,
            "grid_auto_flow": null,
            "grid_auto_rows": null,
            "grid_column": null,
            "grid_gap": null,
            "grid_row": null,
            "grid_template_areas": null,
            "grid_template_columns": null,
            "grid_template_rows": null,
            "height": null,
            "justify_content": null,
            "justify_items": null,
            "left": null,
            "margin": null,
            "max_height": null,
            "max_width": null,
            "min_height": null,
            "min_width": null,
            "object_fit": null,
            "object_position": null,
            "order": null,
            "overflow": null,
            "overflow_x": null,
            "overflow_y": null,
            "padding": null,
            "right": null,
            "top": null,
            "visibility": null,
            "width": null
          }
        },
        "6ba0173aa84a4880a435f813667b52bb": {
          "model_module": "@jupyter-widgets/controls",
          "model_name": "DescriptionStyleModel",
          "model_module_version": "1.5.0",
          "state": {
            "_model_module": "@jupyter-widgets/controls",
            "_model_module_version": "1.5.0",
            "_model_name": "DescriptionStyleModel",
            "_view_count": null,
            "_view_module": "@jupyter-widgets/base",
            "_view_module_version": "1.2.0",
            "_view_name": "StyleView",
            "description_width": ""
          }
        },
        "fbcaa33d2d7042a0862792ce72bb3323": {
          "model_module": "@jupyter-widgets/base",
          "model_name": "LayoutModel",
          "model_module_version": "1.2.0",
          "state": {
            "_model_module": "@jupyter-widgets/base",
            "_model_module_version": "1.2.0",
            "_model_name": "LayoutModel",
            "_view_count": null,
            "_view_module": "@jupyter-widgets/base",
            "_view_module_version": "1.2.0",
            "_view_name": "LayoutView",
            "align_content": null,
            "align_items": null,
            "align_self": null,
            "border": null,
            "bottom": null,
            "display": null,
            "flex": null,
            "flex_flow": null,
            "grid_area": null,
            "grid_auto_columns": null,
            "grid_auto_flow": null,
            "grid_auto_rows": null,
            "grid_column": null,
            "grid_gap": null,
            "grid_row": null,
            "grid_template_areas": null,
            "grid_template_columns": null,
            "grid_template_rows": null,
            "height": null,
            "justify_content": null,
            "justify_items": null,
            "left": null,
            "margin": null,
            "max_height": null,
            "max_width": null,
            "min_height": null,
            "min_width": null,
            "object_fit": null,
            "object_position": null,
            "order": null,
            "overflow": null,
            "overflow_x": null,
            "overflow_y": null,
            "padding": null,
            "right": null,
            "top": null,
            "visibility": null,
            "width": null
          }
        },
        "be9588311a4743d2987f04a9d947a4e7": {
          "model_module": "@jupyter-widgets/controls",
          "model_name": "ProgressStyleModel",
          "model_module_version": "1.5.0",
          "state": {
            "_model_module": "@jupyter-widgets/controls",
            "_model_module_version": "1.5.0",
            "_model_name": "ProgressStyleModel",
            "_view_count": null,
            "_view_module": "@jupyter-widgets/base",
            "_view_module_version": "1.2.0",
            "_view_name": "StyleView",
            "bar_color": null,
            "description_width": ""
          }
        },
        "ea2649e7d6a94adebbc100d87b75b03d": {
          "model_module": "@jupyter-widgets/base",
          "model_name": "LayoutModel",
          "model_module_version": "1.2.0",
          "state": {
            "_model_module": "@jupyter-widgets/base",
            "_model_module_version": "1.2.0",
            "_model_name": "LayoutModel",
            "_view_count": null,
            "_view_module": "@jupyter-widgets/base",
            "_view_module_version": "1.2.0",
            "_view_name": "LayoutView",
            "align_content": null,
            "align_items": null,
            "align_self": null,
            "border": null,
            "bottom": null,
            "display": null,
            "flex": null,
            "flex_flow": null,
            "grid_area": null,
            "grid_auto_columns": null,
            "grid_auto_flow": null,
            "grid_auto_rows": null,
            "grid_column": null,
            "grid_gap": null,
            "grid_row": null,
            "grid_template_areas": null,
            "grid_template_columns": null,
            "grid_template_rows": null,
            "height": null,
            "justify_content": null,
            "justify_items": null,
            "left": null,
            "margin": null,
            "max_height": null,
            "max_width": null,
            "min_height": null,
            "min_width": null,
            "object_fit": null,
            "object_position": null,
            "order": null,
            "overflow": null,
            "overflow_x": null,
            "overflow_y": null,
            "padding": null,
            "right": null,
            "top": null,
            "visibility": null,
            "width": null
          }
        },
        "dddbe86d6c404ee498894e4a05c3a6b9": {
          "model_module": "@jupyter-widgets/controls",
          "model_name": "DescriptionStyleModel",
          "model_module_version": "1.5.0",
          "state": {
            "_model_module": "@jupyter-widgets/controls",
            "_model_module_version": "1.5.0",
            "_model_name": "DescriptionStyleModel",
            "_view_count": null,
            "_view_module": "@jupyter-widgets/base",
            "_view_module_version": "1.2.0",
            "_view_name": "StyleView",
            "description_width": ""
          }
        },
        "3f098efaeb2b43ff9184346cf24cb52b": {
          "model_module": "@jupyter-widgets/controls",
          "model_name": "HBoxModel",
          "model_module_version": "1.5.0",
          "state": {
            "_dom_classes": [],
            "_model_module": "@jupyter-widgets/controls",
            "_model_module_version": "1.5.0",
            "_model_name": "HBoxModel",
            "_view_count": null,
            "_view_module": "@jupyter-widgets/controls",
            "_view_module_version": "1.5.0",
            "_view_name": "HBoxView",
            "box_style": "",
            "children": [
              "IPY_MODEL_3f607a42fc314220869f7cbe3694f992",
              "IPY_MODEL_6f37b4b21fbb4ea6a5cafe0066e624da",
              "IPY_MODEL_1ca3f6d689dd4bc4940611f637206feb"
            ],
            "layout": "IPY_MODEL_c125d6b4e1284665bb902f98ee979981"
          }
        },
        "3f607a42fc314220869f7cbe3694f992": {
          "model_module": "@jupyter-widgets/controls",
          "model_name": "HTMLModel",
          "model_module_version": "1.5.0",
          "state": {
            "_dom_classes": [],
            "_model_module": "@jupyter-widgets/controls",
            "_model_module_version": "1.5.0",
            "_model_name": "HTMLModel",
            "_view_count": null,
            "_view_module": "@jupyter-widgets/controls",
            "_view_module_version": "1.5.0",
            "_view_name": "HTMLView",
            "description": "",
            "description_tooltip": null,
            "layout": "IPY_MODEL_b0a29c22f87e4cb4ba1d9d070d91c6f7",
            "placeholder": "​",
            "style": "IPY_MODEL_f9046deb46824288b7cd31f2a38397ff",
            "value": ""
          }
        },
        "6f37b4b21fbb4ea6a5cafe0066e624da": {
          "model_module": "@jupyter-widgets/controls",
          "model_name": "FloatProgressModel",
          "model_module_version": "1.5.0",
          "state": {
            "_dom_classes": [],
            "_model_module": "@jupyter-widgets/controls",
            "_model_module_version": "1.5.0",
            "_model_name": "FloatProgressModel",
            "_view_count": null,
            "_view_module": "@jupyter-widgets/controls",
            "_view_module_version": "1.5.0",
            "_view_name": "ProgressView",
            "bar_style": "info",
            "description": "",
            "description_tooltip": null,
            "layout": "IPY_MODEL_1b895d7788ce4446989ed5c37a3f48ff",
            "max": 1,
            "min": 0,
            "orientation": "horizontal",
            "style": "IPY_MODEL_00c2a8fe86314c1e88d9d65e21d1abc8",
            "value": 1
          }
        },
        "1ca3f6d689dd4bc4940611f637206feb": {
          "model_module": "@jupyter-widgets/controls",
          "model_name": "HTMLModel",
          "model_module_version": "1.5.0",
          "state": {
            "_dom_classes": [],
            "_model_module": "@jupyter-widgets/controls",
            "_model_module_version": "1.5.0",
            "_model_name": "HTMLModel",
            "_view_count": null,
            "_view_module": "@jupyter-widgets/controls",
            "_view_module_version": "1.5.0",
            "_view_name": "HTMLView",
            "description": "",
            "description_tooltip": null,
            "layout": "IPY_MODEL_999e4741199449678911ae029a11b90b",
            "placeholder": "​",
            "style": "IPY_MODEL_3a6d371078684111916643357e910c62",
            "value": " 1/? [00:00&lt;00:00,  3.53 tables/s]"
          }
        },
        "c125d6b4e1284665bb902f98ee979981": {
          "model_module": "@jupyter-widgets/base",
          "model_name": "LayoutModel",
          "model_module_version": "1.2.0",
          "state": {
            "_model_module": "@jupyter-widgets/base",
            "_model_module_version": "1.2.0",
            "_model_name": "LayoutModel",
            "_view_count": null,
            "_view_module": "@jupyter-widgets/base",
            "_view_module_version": "1.2.0",
            "_view_name": "LayoutView",
            "align_content": null,
            "align_items": null,
            "align_self": null,
            "border": null,
            "bottom": null,
            "display": null,
            "flex": null,
            "flex_flow": null,
            "grid_area": null,
            "grid_auto_columns": null,
            "grid_auto_flow": null,
            "grid_auto_rows": null,
            "grid_column": null,
            "grid_gap": null,
            "grid_row": null,
            "grid_template_areas": null,
            "grid_template_columns": null,
            "grid_template_rows": null,
            "height": null,
            "justify_content": null,
            "justify_items": null,
            "left": null,
            "margin": null,
            "max_height": null,
            "max_width": null,
            "min_height": null,
            "min_width": null,
            "object_fit": null,
            "object_position": null,
            "order": null,
            "overflow": null,
            "overflow_x": null,
            "overflow_y": null,
            "padding": null,
            "right": null,
            "top": null,
            "visibility": null,
            "width": null
          }
        },
        "b0a29c22f87e4cb4ba1d9d070d91c6f7": {
          "model_module": "@jupyter-widgets/base",
          "model_name": "LayoutModel",
          "model_module_version": "1.2.0",
          "state": {
            "_model_module": "@jupyter-widgets/base",
            "_model_module_version": "1.2.0",
            "_model_name": "LayoutModel",
            "_view_count": null,
            "_view_module": "@jupyter-widgets/base",
            "_view_module_version": "1.2.0",
            "_view_name": "LayoutView",
            "align_content": null,
            "align_items": null,
            "align_self": null,
            "border": null,
            "bottom": null,
            "display": null,
            "flex": null,
            "flex_flow": null,
            "grid_area": null,
            "grid_auto_columns": null,
            "grid_auto_flow": null,
            "grid_auto_rows": null,
            "grid_column": null,
            "grid_gap": null,
            "grid_row": null,
            "grid_template_areas": null,
            "grid_template_columns": null,
            "grid_template_rows": null,
            "height": null,
            "justify_content": null,
            "justify_items": null,
            "left": null,
            "margin": null,
            "max_height": null,
            "max_width": null,
            "min_height": null,
            "min_width": null,
            "object_fit": null,
            "object_position": null,
            "order": null,
            "overflow": null,
            "overflow_x": null,
            "overflow_y": null,
            "padding": null,
            "right": null,
            "top": null,
            "visibility": null,
            "width": null
          }
        },
        "f9046deb46824288b7cd31f2a38397ff": {
          "model_module": "@jupyter-widgets/controls",
          "model_name": "DescriptionStyleModel",
          "model_module_version": "1.5.0",
          "state": {
            "_model_module": "@jupyter-widgets/controls",
            "_model_module_version": "1.5.0",
            "_model_name": "DescriptionStyleModel",
            "_view_count": null,
            "_view_module": "@jupyter-widgets/base",
            "_view_module_version": "1.2.0",
            "_view_name": "StyleView",
            "description_width": ""
          }
        },
        "1b895d7788ce4446989ed5c37a3f48ff": {
          "model_module": "@jupyter-widgets/base",
          "model_name": "LayoutModel",
          "model_module_version": "1.2.0",
          "state": {
            "_model_module": "@jupyter-widgets/base",
            "_model_module_version": "1.2.0",
            "_model_name": "LayoutModel",
            "_view_count": null,
            "_view_module": "@jupyter-widgets/base",
            "_view_module_version": "1.2.0",
            "_view_name": "LayoutView",
            "align_content": null,
            "align_items": null,
            "align_self": null,
            "border": null,
            "bottom": null,
            "display": null,
            "flex": null,
            "flex_flow": null,
            "grid_area": null,
            "grid_auto_columns": null,
            "grid_auto_flow": null,
            "grid_auto_rows": null,
            "grid_column": null,
            "grid_gap": null,
            "grid_row": null,
            "grid_template_areas": null,
            "grid_template_columns": null,
            "grid_template_rows": null,
            "height": null,
            "justify_content": null,
            "justify_items": null,
            "left": null,
            "margin": null,
            "max_height": null,
            "max_width": null,
            "min_height": null,
            "min_width": null,
            "object_fit": null,
            "object_position": null,
            "order": null,
            "overflow": null,
            "overflow_x": null,
            "overflow_y": null,
            "padding": null,
            "right": null,
            "top": null,
            "visibility": null,
            "width": "20px"
          }
        },
        "00c2a8fe86314c1e88d9d65e21d1abc8": {
          "model_module": "@jupyter-widgets/controls",
          "model_name": "ProgressStyleModel",
          "model_module_version": "1.5.0",
          "state": {
            "_model_module": "@jupyter-widgets/controls",
            "_model_module_version": "1.5.0",
            "_model_name": "ProgressStyleModel",
            "_view_count": null,
            "_view_module": "@jupyter-widgets/base",
            "_view_module_version": "1.2.0",
            "_view_name": "StyleView",
            "bar_color": null,
            "description_width": ""
          }
        },
        "999e4741199449678911ae029a11b90b": {
          "model_module": "@jupyter-widgets/base",
          "model_name": "LayoutModel",
          "model_module_version": "1.2.0",
          "state": {
            "_model_module": "@jupyter-widgets/base",
            "_model_module_version": "1.2.0",
            "_model_name": "LayoutModel",
            "_view_count": null,
            "_view_module": "@jupyter-widgets/base",
            "_view_module_version": "1.2.0",
            "_view_name": "LayoutView",
            "align_content": null,
            "align_items": null,
            "align_self": null,
            "border": null,
            "bottom": null,
            "display": null,
            "flex": null,
            "flex_flow": null,
            "grid_area": null,
            "grid_auto_columns": null,
            "grid_auto_flow": null,
            "grid_auto_rows": null,
            "grid_column": null,
            "grid_gap": null,
            "grid_row": null,
            "grid_template_areas": null,
            "grid_template_columns": null,
            "grid_template_rows": null,
            "height": null,
            "justify_content": null,
            "justify_items": null,
            "left": null,
            "margin": null,
            "max_height": null,
            "max_width": null,
            "min_height": null,
            "min_width": null,
            "object_fit": null,
            "object_position": null,
            "order": null,
            "overflow": null,
            "overflow_x": null,
            "overflow_y": null,
            "padding": null,
            "right": null,
            "top": null,
            "visibility": null,
            "width": null
          }
        },
        "3a6d371078684111916643357e910c62": {
          "model_module": "@jupyter-widgets/controls",
          "model_name": "DescriptionStyleModel",
          "model_module_version": "1.5.0",
          "state": {
            "_model_module": "@jupyter-widgets/controls",
            "_model_module_version": "1.5.0",
            "_model_name": "DescriptionStyleModel",
            "_view_count": null,
            "_view_module": "@jupyter-widgets/base",
            "_view_module_version": "1.2.0",
            "_view_name": "StyleView",
            "description_width": ""
          }
        },
        "516a9d8a7e024fdaa3b4256bb1566932": {
          "model_module": "@jupyter-widgets/controls",
          "model_name": "HBoxModel",
          "model_module_version": "1.5.0",
          "state": {
            "_dom_classes": [],
            "_model_module": "@jupyter-widgets/controls",
            "_model_module_version": "1.5.0",
            "_model_name": "HBoxModel",
            "_view_count": null,
            "_view_module": "@jupyter-widgets/controls",
            "_view_module_version": "1.5.0",
            "_view_name": "HBoxView",
            "box_style": "",
            "children": [
              "IPY_MODEL_54e6d805a0844e02ab211440c324aadc",
              "IPY_MODEL_2fcd2494078e44f1870f5a8a708622ac",
              "IPY_MODEL_8ff8c85fc3714c3f81f41a55160e9c7b"
            ],
            "layout": "IPY_MODEL_3c8bde52fb69481caf8c6e0dfa9074fe"
          }
        },
        "54e6d805a0844e02ab211440c324aadc": {
          "model_module": "@jupyter-widgets/controls",
          "model_name": "HTMLModel",
          "model_module_version": "1.5.0",
          "state": {
            "_dom_classes": [],
            "_model_module": "@jupyter-widgets/controls",
            "_model_module_version": "1.5.0",
            "_model_name": "HTMLModel",
            "_view_count": null,
            "_view_module": "@jupyter-widgets/controls",
            "_view_module_version": "1.5.0",
            "_view_name": "HTMLView",
            "description": "",
            "description_tooltip": null,
            "layout": "IPY_MODEL_0a069b24036144b8ace7715d3ebab9b9",
            "placeholder": "​",
            "style": "IPY_MODEL_6d85201fbe154297a03b7519b027aa8b",
            "value": ""
          }
        },
        "2fcd2494078e44f1870f5a8a708622ac": {
          "model_module": "@jupyter-widgets/controls",
          "model_name": "FloatProgressModel",
          "model_module_version": "1.5.0",
          "state": {
            "_dom_classes": [],
            "_model_module": "@jupyter-widgets/controls",
            "_model_module_version": "1.5.0",
            "_model_name": "FloatProgressModel",
            "_view_count": null,
            "_view_module": "@jupyter-widgets/controls",
            "_view_module_version": "1.5.0",
            "_view_name": "ProgressView",
            "bar_style": "info",
            "description": "",
            "description_tooltip": null,
            "layout": "IPY_MODEL_00993fef62be4bc38415563f0ab8d53d",
            "max": 1,
            "min": 0,
            "orientation": "horizontal",
            "style": "IPY_MODEL_3e07064feefc4f8bb9ecb805f5fce123",
            "value": 1
          }
        },
        "8ff8c85fc3714c3f81f41a55160e9c7b": {
          "model_module": "@jupyter-widgets/controls",
          "model_name": "HTMLModel",
          "model_module_version": "1.5.0",
          "state": {
            "_dom_classes": [],
            "_model_module": "@jupyter-widgets/controls",
            "_model_module_version": "1.5.0",
            "_model_name": "HTMLModel",
            "_view_count": null,
            "_view_module": "@jupyter-widgets/controls",
            "_view_module_version": "1.5.0",
            "_view_name": "HTMLView",
            "description": "",
            "description_tooltip": null,
            "layout": "IPY_MODEL_5366ccd88a5249ae903e44806f0c9234",
            "placeholder": "​",
            "style": "IPY_MODEL_c91ae978e6334cc492cbfe0aea3cdf4c",
            "value": " 1/? [00:01&lt;00:00,  1.13s/ tables]"
          }
        },
        "3c8bde52fb69481caf8c6e0dfa9074fe": {
          "model_module": "@jupyter-widgets/base",
          "model_name": "LayoutModel",
          "model_module_version": "1.2.0",
          "state": {
            "_model_module": "@jupyter-widgets/base",
            "_model_module_version": "1.2.0",
            "_model_name": "LayoutModel",
            "_view_count": null,
            "_view_module": "@jupyter-widgets/base",
            "_view_module_version": "1.2.0",
            "_view_name": "LayoutView",
            "align_content": null,
            "align_items": null,
            "align_self": null,
            "border": null,
            "bottom": null,
            "display": null,
            "flex": null,
            "flex_flow": null,
            "grid_area": null,
            "grid_auto_columns": null,
            "grid_auto_flow": null,
            "grid_auto_rows": null,
            "grid_column": null,
            "grid_gap": null,
            "grid_row": null,
            "grid_template_areas": null,
            "grid_template_columns": null,
            "grid_template_rows": null,
            "height": null,
            "justify_content": null,
            "justify_items": null,
            "left": null,
            "margin": null,
            "max_height": null,
            "max_width": null,
            "min_height": null,
            "min_width": null,
            "object_fit": null,
            "object_position": null,
            "order": null,
            "overflow": null,
            "overflow_x": null,
            "overflow_y": null,
            "padding": null,
            "right": null,
            "top": null,
            "visibility": null,
            "width": null
          }
        },
        "0a069b24036144b8ace7715d3ebab9b9": {
          "model_module": "@jupyter-widgets/base",
          "model_name": "LayoutModel",
          "model_module_version": "1.2.0",
          "state": {
            "_model_module": "@jupyter-widgets/base",
            "_model_module_version": "1.2.0",
            "_model_name": "LayoutModel",
            "_view_count": null,
            "_view_module": "@jupyter-widgets/base",
            "_view_module_version": "1.2.0",
            "_view_name": "LayoutView",
            "align_content": null,
            "align_items": null,
            "align_self": null,
            "border": null,
            "bottom": null,
            "display": null,
            "flex": null,
            "flex_flow": null,
            "grid_area": null,
            "grid_auto_columns": null,
            "grid_auto_flow": null,
            "grid_auto_rows": null,
            "grid_column": null,
            "grid_gap": null,
            "grid_row": null,
            "grid_template_areas": null,
            "grid_template_columns": null,
            "grid_template_rows": null,
            "height": null,
            "justify_content": null,
            "justify_items": null,
            "left": null,
            "margin": null,
            "max_height": null,
            "max_width": null,
            "min_height": null,
            "min_width": null,
            "object_fit": null,
            "object_position": null,
            "order": null,
            "overflow": null,
            "overflow_x": null,
            "overflow_y": null,
            "padding": null,
            "right": null,
            "top": null,
            "visibility": null,
            "width": null
          }
        },
        "6d85201fbe154297a03b7519b027aa8b": {
          "model_module": "@jupyter-widgets/controls",
          "model_name": "DescriptionStyleModel",
          "model_module_version": "1.5.0",
          "state": {
            "_model_module": "@jupyter-widgets/controls",
            "_model_module_version": "1.5.0",
            "_model_name": "DescriptionStyleModel",
            "_view_count": null,
            "_view_module": "@jupyter-widgets/base",
            "_view_module_version": "1.2.0",
            "_view_name": "StyleView",
            "description_width": ""
          }
        },
        "00993fef62be4bc38415563f0ab8d53d": {
          "model_module": "@jupyter-widgets/base",
          "model_name": "LayoutModel",
          "model_module_version": "1.2.0",
          "state": {
            "_model_module": "@jupyter-widgets/base",
            "_model_module_version": "1.2.0",
            "_model_name": "LayoutModel",
            "_view_count": null,
            "_view_module": "@jupyter-widgets/base",
            "_view_module_version": "1.2.0",
            "_view_name": "LayoutView",
            "align_content": null,
            "align_items": null,
            "align_self": null,
            "border": null,
            "bottom": null,
            "display": null,
            "flex": null,
            "flex_flow": null,
            "grid_area": null,
            "grid_auto_columns": null,
            "grid_auto_flow": null,
            "grid_auto_rows": null,
            "grid_column": null,
            "grid_gap": null,
            "grid_row": null,
            "grid_template_areas": null,
            "grid_template_columns": null,
            "grid_template_rows": null,
            "height": null,
            "justify_content": null,
            "justify_items": null,
            "left": null,
            "margin": null,
            "max_height": null,
            "max_width": null,
            "min_height": null,
            "min_width": null,
            "object_fit": null,
            "object_position": null,
            "order": null,
            "overflow": null,
            "overflow_x": null,
            "overflow_y": null,
            "padding": null,
            "right": null,
            "top": null,
            "visibility": null,
            "width": "20px"
          }
        },
        "3e07064feefc4f8bb9ecb805f5fce123": {
          "model_module": "@jupyter-widgets/controls",
          "model_name": "ProgressStyleModel",
          "model_module_version": "1.5.0",
          "state": {
            "_model_module": "@jupyter-widgets/controls",
            "_model_module_version": "1.5.0",
            "_model_name": "ProgressStyleModel",
            "_view_count": null,
            "_view_module": "@jupyter-widgets/base",
            "_view_module_version": "1.2.0",
            "_view_name": "StyleView",
            "bar_color": null,
            "description_width": ""
          }
        },
        "5366ccd88a5249ae903e44806f0c9234": {
          "model_module": "@jupyter-widgets/base",
          "model_name": "LayoutModel",
          "model_module_version": "1.2.0",
          "state": {
            "_model_module": "@jupyter-widgets/base",
            "_model_module_version": "1.2.0",
            "_model_name": "LayoutModel",
            "_view_count": null,
            "_view_module": "@jupyter-widgets/base",
            "_view_module_version": "1.2.0",
            "_view_name": "LayoutView",
            "align_content": null,
            "align_items": null,
            "align_self": null,
            "border": null,
            "bottom": null,
            "display": null,
            "flex": null,
            "flex_flow": null,
            "grid_area": null,
            "grid_auto_columns": null,
            "grid_auto_flow": null,
            "grid_auto_rows": null,
            "grid_column": null,
            "grid_gap": null,
            "grid_row": null,
            "grid_template_areas": null,
            "grid_template_columns": null,
            "grid_template_rows": null,
            "height": null,
            "justify_content": null,
            "justify_items": null,
            "left": null,
            "margin": null,
            "max_height": null,
            "max_width": null,
            "min_height": null,
            "min_width": null,
            "object_fit": null,
            "object_position": null,
            "order": null,
            "overflow": null,
            "overflow_x": null,
            "overflow_y": null,
            "padding": null,
            "right": null,
            "top": null,
            "visibility": null,
            "width": null
          }
        },
        "c91ae978e6334cc492cbfe0aea3cdf4c": {
          "model_module": "@jupyter-widgets/controls",
          "model_name": "DescriptionStyleModel",
          "model_module_version": "1.5.0",
          "state": {
            "_model_module": "@jupyter-widgets/controls",
            "_model_module_version": "1.5.0",
            "_model_name": "DescriptionStyleModel",
            "_view_count": null,
            "_view_module": "@jupyter-widgets/base",
            "_view_module_version": "1.2.0",
            "_view_name": "StyleView",
            "description_width": ""
          }
        },
        "05c3d6bbf0604bd1858580af09462ed3": {
          "model_module": "@jupyter-widgets/controls",
          "model_name": "HBoxModel",
          "model_module_version": "1.5.0",
          "state": {
            "_dom_classes": [],
            "_model_module": "@jupyter-widgets/controls",
            "_model_module_version": "1.5.0",
            "_model_name": "HBoxModel",
            "_view_count": null,
            "_view_module": "@jupyter-widgets/controls",
            "_view_module_version": "1.5.0",
            "_view_name": "HBoxView",
            "box_style": "",
            "children": [
              "IPY_MODEL_48a81a210aa742f492181b9a45db5c36",
              "IPY_MODEL_d0211cfec0ff4ca38a8d9d229f72e4f2",
              "IPY_MODEL_3373038f6469402ba9ccf2f578ac6234"
            ],
            "layout": "IPY_MODEL_c473a29a054f494296519a7761249836"
          }
        },
        "48a81a210aa742f492181b9a45db5c36": {
          "model_module": "@jupyter-widgets/controls",
          "model_name": "HTMLModel",
          "model_module_version": "1.5.0",
          "state": {
            "_dom_classes": [],
            "_model_module": "@jupyter-widgets/controls",
            "_model_module_version": "1.5.0",
            "_model_name": "HTMLModel",
            "_view_count": null,
            "_view_module": "@jupyter-widgets/controls",
            "_view_module_version": "1.5.0",
            "_view_name": "HTMLView",
            "description": "",
            "description_tooltip": null,
            "layout": "IPY_MODEL_93848ab4cc464568b742cd1332066923",
            "placeholder": "​",
            "style": "IPY_MODEL_58cbf24dbc3e4f27b3d7e34069d49e41",
            "value": "100%"
          }
        },
        "d0211cfec0ff4ca38a8d9d229f72e4f2": {
          "model_module": "@jupyter-widgets/controls",
          "model_name": "FloatProgressModel",
          "model_module_version": "1.5.0",
          "state": {
            "_dom_classes": [],
            "_model_module": "@jupyter-widgets/controls",
            "_model_module_version": "1.5.0",
            "_model_name": "FloatProgressModel",
            "_view_count": null,
            "_view_module": "@jupyter-widgets/controls",
            "_view_module_version": "1.5.0",
            "_view_name": "ProgressView",
            "bar_style": "success",
            "description": "",
            "description_tooltip": null,
            "layout": "IPY_MODEL_e733e381bb12415381ba8ccc019d62cb",
            "max": 2,
            "min": 0,
            "orientation": "horizontal",
            "style": "IPY_MODEL_c48fe5fc4b0c4f38a38d3297751d521f",
            "value": 2
          }
        },
        "3373038f6469402ba9ccf2f578ac6234": {
          "model_module": "@jupyter-widgets/controls",
          "model_name": "HTMLModel",
          "model_module_version": "1.5.0",
          "state": {
            "_dom_classes": [],
            "_model_module": "@jupyter-widgets/controls",
            "_model_module_version": "1.5.0",
            "_model_name": "HTMLModel",
            "_view_count": null,
            "_view_module": "@jupyter-widgets/controls",
            "_view_module_version": "1.5.0",
            "_view_name": "HTMLView",
            "description": "",
            "description_tooltip": null,
            "layout": "IPY_MODEL_e1da47d762ea4892b0bc3c01e6581594",
            "placeholder": "​",
            "style": "IPY_MODEL_83fe07e10db740fba43e26c773506e23",
            "value": " 2/2 [00:00&lt;00:00, 44.52it/s]"
          }
        },
        "c473a29a054f494296519a7761249836": {
          "model_module": "@jupyter-widgets/base",
          "model_name": "LayoutModel",
          "model_module_version": "1.2.0",
          "state": {
            "_model_module": "@jupyter-widgets/base",
            "_model_module_version": "1.2.0",
            "_model_name": "LayoutModel",
            "_view_count": null,
            "_view_module": "@jupyter-widgets/base",
            "_view_module_version": "1.2.0",
            "_view_name": "LayoutView",
            "align_content": null,
            "align_items": null,
            "align_self": null,
            "border": null,
            "bottom": null,
            "display": null,
            "flex": null,
            "flex_flow": null,
            "grid_area": null,
            "grid_auto_columns": null,
            "grid_auto_flow": null,
            "grid_auto_rows": null,
            "grid_column": null,
            "grid_gap": null,
            "grid_row": null,
            "grid_template_areas": null,
            "grid_template_columns": null,
            "grid_template_rows": null,
            "height": null,
            "justify_content": null,
            "justify_items": null,
            "left": null,
            "margin": null,
            "max_height": null,
            "max_width": null,
            "min_height": null,
            "min_width": null,
            "object_fit": null,
            "object_position": null,
            "order": null,
            "overflow": null,
            "overflow_x": null,
            "overflow_y": null,
            "padding": null,
            "right": null,
            "top": null,
            "visibility": null,
            "width": null
          }
        },
        "93848ab4cc464568b742cd1332066923": {
          "model_module": "@jupyter-widgets/base",
          "model_name": "LayoutModel",
          "model_module_version": "1.2.0",
          "state": {
            "_model_module": "@jupyter-widgets/base",
            "_model_module_version": "1.2.0",
            "_model_name": "LayoutModel",
            "_view_count": null,
            "_view_module": "@jupyter-widgets/base",
            "_view_module_version": "1.2.0",
            "_view_name": "LayoutView",
            "align_content": null,
            "align_items": null,
            "align_self": null,
            "border": null,
            "bottom": null,
            "display": null,
            "flex": null,
            "flex_flow": null,
            "grid_area": null,
            "grid_auto_columns": null,
            "grid_auto_flow": null,
            "grid_auto_rows": null,
            "grid_column": null,
            "grid_gap": null,
            "grid_row": null,
            "grid_template_areas": null,
            "grid_template_columns": null,
            "grid_template_rows": null,
            "height": null,
            "justify_content": null,
            "justify_items": null,
            "left": null,
            "margin": null,
            "max_height": null,
            "max_width": null,
            "min_height": null,
            "min_width": null,
            "object_fit": null,
            "object_position": null,
            "order": null,
            "overflow": null,
            "overflow_x": null,
            "overflow_y": null,
            "padding": null,
            "right": null,
            "top": null,
            "visibility": null,
            "width": null
          }
        },
        "58cbf24dbc3e4f27b3d7e34069d49e41": {
          "model_module": "@jupyter-widgets/controls",
          "model_name": "DescriptionStyleModel",
          "model_module_version": "1.5.0",
          "state": {
            "_model_module": "@jupyter-widgets/controls",
            "_model_module_version": "1.5.0",
            "_model_name": "DescriptionStyleModel",
            "_view_count": null,
            "_view_module": "@jupyter-widgets/base",
            "_view_module_version": "1.2.0",
            "_view_name": "StyleView",
            "description_width": ""
          }
        },
        "e733e381bb12415381ba8ccc019d62cb": {
          "model_module": "@jupyter-widgets/base",
          "model_name": "LayoutModel",
          "model_module_version": "1.2.0",
          "state": {
            "_model_module": "@jupyter-widgets/base",
            "_model_module_version": "1.2.0",
            "_model_name": "LayoutModel",
            "_view_count": null,
            "_view_module": "@jupyter-widgets/base",
            "_view_module_version": "1.2.0",
            "_view_name": "LayoutView",
            "align_content": null,
            "align_items": null,
            "align_self": null,
            "border": null,
            "bottom": null,
            "display": null,
            "flex": null,
            "flex_flow": null,
            "grid_area": null,
            "grid_auto_columns": null,
            "grid_auto_flow": null,
            "grid_auto_rows": null,
            "grid_column": null,
            "grid_gap": null,
            "grid_row": null,
            "grid_template_areas": null,
            "grid_template_columns": null,
            "grid_template_rows": null,
            "height": null,
            "justify_content": null,
            "justify_items": null,
            "left": null,
            "margin": null,
            "max_height": null,
            "max_width": null,
            "min_height": null,
            "min_width": null,
            "object_fit": null,
            "object_position": null,
            "order": null,
            "overflow": null,
            "overflow_x": null,
            "overflow_y": null,
            "padding": null,
            "right": null,
            "top": null,
            "visibility": null,
            "width": null
          }
        },
        "c48fe5fc4b0c4f38a38d3297751d521f": {
          "model_module": "@jupyter-widgets/controls",
          "model_name": "ProgressStyleModel",
          "model_module_version": "1.5.0",
          "state": {
            "_model_module": "@jupyter-widgets/controls",
            "_model_module_version": "1.5.0",
            "_model_name": "ProgressStyleModel",
            "_view_count": null,
            "_view_module": "@jupyter-widgets/base",
            "_view_module_version": "1.2.0",
            "_view_name": "StyleView",
            "bar_color": null,
            "description_width": ""
          }
        },
        "e1da47d762ea4892b0bc3c01e6581594": {
          "model_module": "@jupyter-widgets/base",
          "model_name": "LayoutModel",
          "model_module_version": "1.2.0",
          "state": {
            "_model_module": "@jupyter-widgets/base",
            "_model_module_version": "1.2.0",
            "_model_name": "LayoutModel",
            "_view_count": null,
            "_view_module": "@jupyter-widgets/base",
            "_view_module_version": "1.2.0",
            "_view_name": "LayoutView",
            "align_content": null,
            "align_items": null,
            "align_self": null,
            "border": null,
            "bottom": null,
            "display": null,
            "flex": null,
            "flex_flow": null,
            "grid_area": null,
            "grid_auto_columns": null,
            "grid_auto_flow": null,
            "grid_auto_rows": null,
            "grid_column": null,
            "grid_gap": null,
            "grid_row": null,
            "grid_template_areas": null,
            "grid_template_columns": null,
            "grid_template_rows": null,
            "height": null,
            "justify_content": null,
            "justify_items": null,
            "left": null,
            "margin": null,
            "max_height": null,
            "max_width": null,
            "min_height": null,
            "min_width": null,
            "object_fit": null,
            "object_position": null,
            "order": null,
            "overflow": null,
            "overflow_x": null,
            "overflow_y": null,
            "padding": null,
            "right": null,
            "top": null,
            "visibility": null,
            "width": null
          }
        },
        "83fe07e10db740fba43e26c773506e23": {
          "model_module": "@jupyter-widgets/controls",
          "model_name": "DescriptionStyleModel",
          "model_module_version": "1.5.0",
          "state": {
            "_model_module": "@jupyter-widgets/controls",
            "_model_module_version": "1.5.0",
            "_model_name": "DescriptionStyleModel",
            "_view_count": null,
            "_view_module": "@jupyter-widgets/base",
            "_view_module_version": "1.2.0",
            "_view_name": "StyleView",
            "description_width": ""
          }
        },
        "849b3bd053a641fba40b8a5e0d43186f": {
          "model_module": "@jupyter-widgets/controls",
          "model_name": "HBoxModel",
          "model_module_version": "1.5.0",
          "state": {
            "_dom_classes": [],
            "_model_module": "@jupyter-widgets/controls",
            "_model_module_version": "1.5.0",
            "_model_name": "HBoxModel",
            "_view_count": null,
            "_view_module": "@jupyter-widgets/controls",
            "_view_module_version": "1.5.0",
            "_view_name": "HBoxView",
            "box_style": "",
            "children": [
              "IPY_MODEL_b5d95457ed2e406097acf1cb046f3928",
              "IPY_MODEL_5c1ac11148ea43d3b4188acbf9e7bf49",
              "IPY_MODEL_83ccf5094bd3443593b69e221cccec3d"
            ],
            "layout": "IPY_MODEL_d8bde63918044efcadc34cc62090c04c"
          }
        },
        "b5d95457ed2e406097acf1cb046f3928": {
          "model_module": "@jupyter-widgets/controls",
          "model_name": "HTMLModel",
          "model_module_version": "1.5.0",
          "state": {
            "_dom_classes": [],
            "_model_module": "@jupyter-widgets/controls",
            "_model_module_version": "1.5.0",
            "_model_name": "HTMLModel",
            "_view_count": null,
            "_view_module": "@jupyter-widgets/controls",
            "_view_module_version": "1.5.0",
            "_view_name": "HTMLView",
            "description": "",
            "description_tooltip": null,
            "layout": "IPY_MODEL_148fac5653d14dfc813487a504a5e7ed",
            "placeholder": "​",
            "style": "IPY_MODEL_2408f94ac9f24bc8a70248d0f702068e",
            "value": "Downloading tokenizer.json: 100%"
          }
        },
        "5c1ac11148ea43d3b4188acbf9e7bf49": {
          "model_module": "@jupyter-widgets/controls",
          "model_name": "FloatProgressModel",
          "model_module_version": "1.5.0",
          "state": {
            "_dom_classes": [],
            "_model_module": "@jupyter-widgets/controls",
            "_model_module_version": "1.5.0",
            "_model_name": "FloatProgressModel",
            "_view_count": null,
            "_view_module": "@jupyter-widgets/controls",
            "_view_module_version": "1.5.0",
            "_view_name": "ProgressView",
            "bar_style": "success",
            "description": "",
            "description_tooltip": null,
            "layout": "IPY_MODEL_94859fca9e124359add843fffcc06c47",
            "max": 1355863,
            "min": 0,
            "orientation": "horizontal",
            "style": "IPY_MODEL_82b7535bc88d4beeb2bbf78fb8244ac8",
            "value": 1355863
          }
        },
        "83ccf5094bd3443593b69e221cccec3d": {
          "model_module": "@jupyter-widgets/controls",
          "model_name": "HTMLModel",
          "model_module_version": "1.5.0",
          "state": {
            "_dom_classes": [],
            "_model_module": "@jupyter-widgets/controls",
            "_model_module_version": "1.5.0",
            "_model_name": "HTMLModel",
            "_view_count": null,
            "_view_module": "@jupyter-widgets/controls",
            "_view_module_version": "1.5.0",
            "_view_name": "HTMLView",
            "description": "",
            "description_tooltip": null,
            "layout": "IPY_MODEL_94afc4b039d44a39849a95a99c1b5cfa",
            "placeholder": "​",
            "style": "IPY_MODEL_ef330f278d9f4898bad1c2b556da34b1",
            "value": " 1.29M/1.29M [00:00&lt;00:00, 1.93MB/s]"
          }
        },
        "d8bde63918044efcadc34cc62090c04c": {
          "model_module": "@jupyter-widgets/base",
          "model_name": "LayoutModel",
          "model_module_version": "1.2.0",
          "state": {
            "_model_module": "@jupyter-widgets/base",
            "_model_module_version": "1.2.0",
            "_model_name": "LayoutModel",
            "_view_count": null,
            "_view_module": "@jupyter-widgets/base",
            "_view_module_version": "1.2.0",
            "_view_name": "LayoutView",
            "align_content": null,
            "align_items": null,
            "align_self": null,
            "border": null,
            "bottom": null,
            "display": null,
            "flex": null,
            "flex_flow": null,
            "grid_area": null,
            "grid_auto_columns": null,
            "grid_auto_flow": null,
            "grid_auto_rows": null,
            "grid_column": null,
            "grid_gap": null,
            "grid_row": null,
            "grid_template_areas": null,
            "grid_template_columns": null,
            "grid_template_rows": null,
            "height": null,
            "justify_content": null,
            "justify_items": null,
            "left": null,
            "margin": null,
            "max_height": null,
            "max_width": null,
            "min_height": null,
            "min_width": null,
            "object_fit": null,
            "object_position": null,
            "order": null,
            "overflow": null,
            "overflow_x": null,
            "overflow_y": null,
            "padding": null,
            "right": null,
            "top": null,
            "visibility": null,
            "width": null
          }
        },
        "148fac5653d14dfc813487a504a5e7ed": {
          "model_module": "@jupyter-widgets/base",
          "model_name": "LayoutModel",
          "model_module_version": "1.2.0",
          "state": {
            "_model_module": "@jupyter-widgets/base",
            "_model_module_version": "1.2.0",
            "_model_name": "LayoutModel",
            "_view_count": null,
            "_view_module": "@jupyter-widgets/base",
            "_view_module_version": "1.2.0",
            "_view_name": "LayoutView",
            "align_content": null,
            "align_items": null,
            "align_self": null,
            "border": null,
            "bottom": null,
            "display": null,
            "flex": null,
            "flex_flow": null,
            "grid_area": null,
            "grid_auto_columns": null,
            "grid_auto_flow": null,
            "grid_auto_rows": null,
            "grid_column": null,
            "grid_gap": null,
            "grid_row": null,
            "grid_template_areas": null,
            "grid_template_columns": null,
            "grid_template_rows": null,
            "height": null,
            "justify_content": null,
            "justify_items": null,
            "left": null,
            "margin": null,
            "max_height": null,
            "max_width": null,
            "min_height": null,
            "min_width": null,
            "object_fit": null,
            "object_position": null,
            "order": null,
            "overflow": null,
            "overflow_x": null,
            "overflow_y": null,
            "padding": null,
            "right": null,
            "top": null,
            "visibility": null,
            "width": null
          }
        },
        "2408f94ac9f24bc8a70248d0f702068e": {
          "model_module": "@jupyter-widgets/controls",
          "model_name": "DescriptionStyleModel",
          "model_module_version": "1.5.0",
          "state": {
            "_model_module": "@jupyter-widgets/controls",
            "_model_module_version": "1.5.0",
            "_model_name": "DescriptionStyleModel",
            "_view_count": null,
            "_view_module": "@jupyter-widgets/base",
            "_view_module_version": "1.2.0",
            "_view_name": "StyleView",
            "description_width": ""
          }
        },
        "94859fca9e124359add843fffcc06c47": {
          "model_module": "@jupyter-widgets/base",
          "model_name": "LayoutModel",
          "model_module_version": "1.2.0",
          "state": {
            "_model_module": "@jupyter-widgets/base",
            "_model_module_version": "1.2.0",
            "_model_name": "LayoutModel",
            "_view_count": null,
            "_view_module": "@jupyter-widgets/base",
            "_view_module_version": "1.2.0",
            "_view_name": "LayoutView",
            "align_content": null,
            "align_items": null,
            "align_self": null,
            "border": null,
            "bottom": null,
            "display": null,
            "flex": null,
            "flex_flow": null,
            "grid_area": null,
            "grid_auto_columns": null,
            "grid_auto_flow": null,
            "grid_auto_rows": null,
            "grid_column": null,
            "grid_gap": null,
            "grid_row": null,
            "grid_template_areas": null,
            "grid_template_columns": null,
            "grid_template_rows": null,
            "height": null,
            "justify_content": null,
            "justify_items": null,
            "left": null,
            "margin": null,
            "max_height": null,
            "max_width": null,
            "min_height": null,
            "min_width": null,
            "object_fit": null,
            "object_position": null,
            "order": null,
            "overflow": null,
            "overflow_x": null,
            "overflow_y": null,
            "padding": null,
            "right": null,
            "top": null,
            "visibility": null,
            "width": null
          }
        },
        "82b7535bc88d4beeb2bbf78fb8244ac8": {
          "model_module": "@jupyter-widgets/controls",
          "model_name": "ProgressStyleModel",
          "model_module_version": "1.5.0",
          "state": {
            "_model_module": "@jupyter-widgets/controls",
            "_model_module_version": "1.5.0",
            "_model_name": "ProgressStyleModel",
            "_view_count": null,
            "_view_module": "@jupyter-widgets/base",
            "_view_module_version": "1.2.0",
            "_view_name": "StyleView",
            "bar_color": null,
            "description_width": ""
          }
        },
        "94afc4b039d44a39849a95a99c1b5cfa": {
          "model_module": "@jupyter-widgets/base",
          "model_name": "LayoutModel",
          "model_module_version": "1.2.0",
          "state": {
            "_model_module": "@jupyter-widgets/base",
            "_model_module_version": "1.2.0",
            "_model_name": "LayoutModel",
            "_view_count": null,
            "_view_module": "@jupyter-widgets/base",
            "_view_module_version": "1.2.0",
            "_view_name": "LayoutView",
            "align_content": null,
            "align_items": null,
            "align_self": null,
            "border": null,
            "bottom": null,
            "display": null,
            "flex": null,
            "flex_flow": null,
            "grid_area": null,
            "grid_auto_columns": null,
            "grid_auto_flow": null,
            "grid_auto_rows": null,
            "grid_column": null,
            "grid_gap": null,
            "grid_row": null,
            "grid_template_areas": null,
            "grid_template_columns": null,
            "grid_template_rows": null,
            "height": null,
            "justify_content": null,
            "justify_items": null,
            "left": null,
            "margin": null,
            "max_height": null,
            "max_width": null,
            "min_height": null,
            "min_width": null,
            "object_fit": null,
            "object_position": null,
            "order": null,
            "overflow": null,
            "overflow_x": null,
            "overflow_y": null,
            "padding": null,
            "right": null,
            "top": null,
            "visibility": null,
            "width": null
          }
        },
        "ef330f278d9f4898bad1c2b556da34b1": {
          "model_module": "@jupyter-widgets/controls",
          "model_name": "DescriptionStyleModel",
          "model_module_version": "1.5.0",
          "state": {
            "_model_module": "@jupyter-widgets/controls",
            "_model_module_version": "1.5.0",
            "_model_name": "DescriptionStyleModel",
            "_view_count": null,
            "_view_module": "@jupyter-widgets/base",
            "_view_module_version": "1.2.0",
            "_view_name": "StyleView",
            "description_width": ""
          }
        }
      }
    }
  },
  "nbformat": 4,
  "nbformat_minor": 0
}