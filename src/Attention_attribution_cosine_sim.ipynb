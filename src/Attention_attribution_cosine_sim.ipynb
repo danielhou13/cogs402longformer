{
  "cells": [
    {
      "cell_type": "markdown",
      "metadata": {
        "id": "view-in-github",
        "colab_type": "text"
      },
      "source": [
        "<a href=\"https://colab.research.google.com/github/danielhou13/cogs402longformer/blob/main/src/Attention_attribution_cosine_sim.ipynb\" target=\"_parent\"><img src=\"https://colab.research.google.com/assets/colab-badge.svg\" alt=\"Open In Colab\"/></a>"
      ]
    },
    {
      "cell_type": "markdown",
      "source": [
        "This notebook explores the relation between the model's attributions and attentions for a given example. Historically, we found that attentions are not a feasible method of explanation whereas attributions are, but attributions are also not part of a model's traditional outputs. Therefore it may be interesting to see if we can find anything with attentions by comparing them to a feasible and plausible method of explanation."
      ],
      "metadata": {
        "id": "mlqrlFd9SzDV"
      }
    },
    {
      "cell_type": "code",
      "source": [
        "from google.colab import drive\n",
        "drive.mount('/content/drive')"
      ],
      "metadata": {
        "colab": {
          "base_uri": "https://localhost:8080/"
        },
        "id": "4G07aiA37RC9",
        "outputId": "e9b51c8e-48e7-4735-d51c-3c9eff5ac70e"
      },
      "execution_count": 1,
      "outputs": [
        {
          "output_type": "stream",
          "name": "stdout",
          "text": [
            "Drive already mounted at /content/drive; to attempt to forcibly remount, call drive.mount(\"/content/drive\", force_remount=True).\n"
          ]
        }
      ]
    },
    {
      "cell_type": "markdown",
      "source": [
        "## Import dependencies"
      ],
      "metadata": {
        "id": "HkZ5bD2_z-0C"
      }
    },
    {
      "cell_type": "code",
      "source": [
        "pip install transformers --quiet"
      ],
      "metadata": {
        "id": "zMjzQIFJ2P_T"
      },
      "execution_count": 2,
      "outputs": []
    },
    {
      "cell_type": "code",
      "source": [
        "pip install captum --quiet"
      ],
      "metadata": {
        "id": "Uno0qwr12UTd"
      },
      "execution_count": 3,
      "outputs": []
    },
    {
      "cell_type": "code",
      "source": [
        "pip install datasets --quiet"
      ],
      "metadata": {
        "id": "OaOSPMJE3ONc"
      },
      "execution_count": 4,
      "outputs": []
    },
    {
      "cell_type": "code",
      "source": [
        "pip install rbo --quiet"
      ],
      "metadata": {
        "id": "3JSZGAnsEjYU"
      },
      "execution_count": 5,
      "outputs": []
    },
    {
      "cell_type": "code",
      "source": [
        "import os\n",
        "os.environ['CUDA_LAUNCH_BLOCKING'] = \"1\""
      ],
      "metadata": {
        "id": "hRSNYTrRIPkr"
      },
      "execution_count": 6,
      "outputs": []
    },
    {
      "cell_type": "code",
      "execution_count": 7,
      "metadata": {
        "id": "wrRRZJ6-0_Il"
      },
      "outputs": [],
      "source": [
        "from captum.attr import visualization as viz\n",
        "from captum.attr import IntegratedGradients, LayerConductance, LayerIntegratedGradients\n",
        "from captum.attr import configure_interpretable_embedding_layer, remove_interpretable_embedding_layer\n",
        "\n",
        "import torch\n",
        "import pandas as pd"
      ]
    },
    {
      "cell_type": "code",
      "execution_count": 8,
      "metadata": {
        "id": "b5V31lsc0_Il"
      },
      "outputs": [],
      "source": [
        "device = torch.device(\"cuda:0\" if torch.cuda.is_available() else \"cpu\")"
      ]
    },
    {
      "cell_type": "markdown",
      "source": [
        "## Import model"
      ],
      "metadata": {
        "id": "USHRv2j70Fb4"
      }
    },
    {
      "cell_type": "code",
      "execution_count": 9,
      "metadata": {
        "id": "9nzBfB-v0_Im"
      },
      "outputs": [],
      "source": [
        "from transformers import LongformerForSequenceClassification, LongformerTokenizer, LongformerConfig\n",
        "# replace <PATH-TO-SAVED-MODEL> with the real path of the saved model\n",
        "model_path = 'danielhou13/longformer-finetuned_papers_v2'\n",
        "#model_path = 'danielhou13/longformer-finetuned-new-cogs402'\n",
        "\n",
        "# load model\n",
        "model = LongformerForSequenceClassification.from_pretrained(model_path, num_labels = 2)\n",
        "model.to(device)\n",
        "model.eval()\n",
        "model.zero_grad()\n",
        "\n",
        "# load tokenizer\n",
        "tokenizer = LongformerTokenizer.from_pretrained(\"allenai/longformer-base-4096\")"
      ]
    },
    {
      "cell_type": "markdown",
      "source": [
        "Create functions that give us the input ids and the position ids for the text we want to examine"
      ],
      "metadata": {
        "id": "bqbvfvXv0VTp"
      }
    },
    {
      "cell_type": "code",
      "execution_count": 10,
      "metadata": {
        "id": "y5-heo2y0_Im"
      },
      "outputs": [],
      "source": [
        "def predict(inputs, position_ids=None, attention_mask=None):\n",
        "    output = model(inputs,\n",
        "                   position_ids=position_ids,\n",
        "                   attention_mask=attention_mask)\n",
        "    return output.logits"
      ]
    },
    {
      "cell_type": "code",
      "execution_count": 11,
      "metadata": {
        "id": "vAAjmDRl0_In"
      },
      "outputs": [],
      "source": [
        "ref_token_id = tokenizer.pad_token_id # A token used for generating token reference\n",
        "sep_token_id = tokenizer.sep_token_id # A token used as a separator between question and text and it is also added to the end of the text.\n",
        "cls_token_id = tokenizer.cls_token_id # A token used for prepending to the concatenated question-text word sequence"
      ]
    },
    {
      "cell_type": "code",
      "execution_count": 12,
      "metadata": {
        "id": "UgBSBpz-0_In"
      },
      "outputs": [],
      "source": [
        "max_length = 2046\n",
        "def construct_input_ref_pair(text, ref_token_id, sep_token_id, cls_token_id):\n",
        "\n",
        "    text_ids = tokenizer.encode(text, truncation = True, add_special_tokens=False, max_length = max_length)\n",
        "    # construct input token ids\n",
        "    input_ids = [cls_token_id] + text_ids + [sep_token_id]\n",
        "    # construct reference token ids \n",
        "\n",
        "    ref_input_ids = [cls_token_id] + [ref_token_id] * len(text_ids) + [sep_token_id]\n",
        "\n",
        "    return torch.tensor([input_ids], device=device), torch.tensor([ref_input_ids], device=device), len(text_ids)\n",
        "\n",
        "def construct_input_ref_pos_id_pair(input_ids):\n",
        "    seq_length = input_ids.size(1)\n",
        "\n",
        "    #taken from the longformer implementation\n",
        "    mask = input_ids.ne(ref_token_id).int()\n",
        "    incremental_indices = torch.cumsum(mask, dim=1).type_as(mask) * mask\n",
        "    position_ids = incremental_indices.long().squeeze() + ref_token_id\n",
        "\n",
        "    # we could potentially also use random permutation with `torch.randperm(seq_length, device=device)`\n",
        "    ref_position_ids = torch.zeros(seq_length, dtype=torch.long, device=device)\n",
        "\n",
        "    position_ids = position_ids.unsqueeze(0).expand_as(input_ids)\n",
        "    ref_position_ids = ref_position_ids.unsqueeze(0).expand_as(input_ids)\n",
        "    return position_ids, ref_position_ids\n",
        "    \n",
        "def construct_attention_mask(input_ids):\n",
        "    return torch.ones_like(input_ids)"
      ]
    },
    {
      "cell_type": "markdown",
      "source": [
        "Import dataset and take a few examples from it for testing purposes"
      ],
      "metadata": {
        "id": "BdY6GsO00RG_"
      }
    },
    {
      "cell_type": "markdown",
      "source": [
        "Here we import the papers dataset"
      ],
      "metadata": {
        "id": "e_gGIPpwkmbH"
      }
    },
    {
      "cell_type": "code",
      "execution_count": 13,
      "metadata": {
        "id": "w6aQM9nM0_Ip",
        "colab": {
          "base_uri": "https://localhost:8080/",
          "height": 84,
          "referenced_widgets": [
            "0fb85bcd16664532a559b338cc8e8a90",
            "3e7138e8f18143459f4916274c5b9c2e",
            "b31c2e0859eb4157a2878730fa5a1d5c",
            "e0a0bc85a2e04f809c0d58222c743f79",
            "32446adc37c1435eabbe00a485256021",
            "712de09d643643d68011f2c6785b2304",
            "a0bf898f52524dbbbd282871eacf1584",
            "06a0c38394a640ae80be71fe056dd358",
            "365e4491dd4143358ddcc52a08f507c4",
            "1cfb9525150645b89fc1eaa526f13009",
            "32a67ddca8654670aca707311c2112f0"
          ]
        },
        "outputId": "b62cd91d-be54-43fb-d374-d63265c202b1"
      },
      "outputs": [
        {
          "output_type": "stream",
          "name": "stderr",
          "text": [
            "Using custom data configuration danielhou13--cogs402dataset-144b958ac1a53abb\n",
            "Reusing dataset parquet (/root/.cache/huggingface/datasets/danielhou13___parquet/danielhou13--cogs402dataset-144b958ac1a53abb/0.0.0/7328ef7ee03eaf3f86ae40594d46a1cec86161704e02dd19f232d81eee72ade8)\n"
          ]
        },
        {
          "output_type": "display_data",
          "data": {
            "text/plain": [
              "  0%|          | 0/2 [00:00<?, ?it/s]"
            ],
            "application/vnd.jupyter.widget-view+json": {
              "version_major": 2,
              "version_minor": 0,
              "model_id": "0fb85bcd16664532a559b338cc8e8a90"
            }
          },
          "metadata": {}
        }
      ],
      "source": [
        "from datasets import load_dataset\n",
        "import numpy as np\n",
        "cogs402_ds = load_dataset(\"danielhou13/cogs402dataset\")[\"test\"]"
      ]
    },
    {
      "cell_type": "markdown",
      "source": [
        "Here we import the news dataset"
      ],
      "metadata": {
        "id": "bHUUw096r-EL"
      }
    },
    {
      "cell_type": "code",
      "source": [
        "# cogs402_ds2 = load_dataset('hyperpartisan_news_detection', 'bypublisher')['validation']\n",
        "# val_size = 5000\n",
        "# val_indices = np.random.randint(0, len(cogs402_ds2), val_size)\n",
        "# val_ds = cogs402_ds2.select(val_indices)\n",
        "# labels2 = map(int, val_ds['hyperpartisan'])\n",
        "# labels2 = list(labels2)\n",
        "# val_ds = val_ds.add_column(\"labels\", labels2)"
      ],
      "metadata": {
        "id": "58zzpZYRWRDj"
      },
      "execution_count": 14,
      "outputs": []
    },
    {
      "cell_type": "code",
      "execution_count": 15,
      "metadata": {
        "id": "axwpHq-y0_Io"
      },
      "outputs": [],
      "source": [
        "#set 1 if we are dealing with a positive class, and 0 if dealing with negative class\n",
        "def custom_forward(inputs, position_ids=None, attention_mask=None):\n",
        "    preds = predict(inputs,\n",
        "                   position_ids=position_ids,\n",
        "                   attention_mask=attention_mask\n",
        "                   )\n",
        "    return torch.softmax(preds, dim = 1)"
      ]
    },
    {
      "cell_type": "markdown",
      "source": [
        "Perform Layer Integrated Gradients using the longformer's embeddings"
      ],
      "metadata": {
        "id": "bQaYaSDf0buh"
      }
    },
    {
      "cell_type": "code",
      "execution_count": 16,
      "metadata": {
        "id": "lIeE9P7b0_Ir"
      },
      "outputs": [],
      "source": [
        "def summarize_attributions(attributions):\n",
        "    attributions = attributions.sum(dim=-1).squeeze(0)\n",
        "    return attributions"
      ]
    },
    {
      "cell_type": "code",
      "execution_count": 17,
      "metadata": {
        "id": "4uDuDrip0_Ip"
      },
      "outputs": [],
      "source": [
        "lig = LayerIntegratedGradients(custom_forward, model.longformer.embeddings)"
      ]
    },
    {
      "cell_type": "markdown",
      "source": [
        "This function will let us get the example and the baseline inputs in order to perform integrated gradients, and add the attributions to our visualization tool. Additionally, we will add the attributions and tokens for each example into an array so we can use them when we want to further example the attributions scores for each example"
      ],
      "metadata": {
        "id": "n2Xp75N0rtqa"
      }
    },
    {
      "cell_type": "code",
      "source": [
        "all_attributions = {}\n",
        "all_tokens = {}"
      ],
      "metadata": {
        "id": "wf1SNgF73l1K"
      },
      "execution_count": 18,
      "outputs": []
    },
    {
      "cell_type": "code",
      "source": [
        "all_attributions = torch.load('/content/drive/MyDrive/cogs402longformer/results/papers/papers_attributions/example_attrib_dict.pt')"
      ],
      "metadata": {
        "id": "g4nc7qSvUedJ"
      },
      "execution_count": 19,
      "outputs": []
    },
    {
      "cell_type": "code",
      "source": [
        "example = 976\n",
        "text = cogs402_ds['text'][example]\n",
        "label = cogs402_ds['labels'][example]"
      ],
      "metadata": {
        "id": "Cjdh0g6UedZo"
      },
      "execution_count": 20,
      "outputs": []
    },
    {
      "cell_type": "code",
      "source": [
        "input_ids, ref_input_ids, sep_id = construct_input_ref_pair(text, ref_token_id, sep_token_id, cls_token_id)\n",
        "position_ids, ref_position_ids = construct_input_ref_pos_id_pair(input_ids)\n",
        "attention_mask = construct_attention_mask(input_ids)\n",
        "\n",
        "indices = input_ids[0].detach().tolist()\n",
        "all_tokens_curr = tokenizer.convert_ids_to_tokens(indices)\n",
        "\n",
        "all_tokens[str(example)] = all_tokens_curr"
      ],
      "metadata": {
        "id": "YAYkF91sY6hm"
      },
      "execution_count": 21,
      "outputs": []
    },
    {
      "cell_type": "code",
      "source": [
        "print(attention_mask.shape)"
      ],
      "metadata": {
        "colab": {
          "base_uri": "https://localhost:8080/"
        },
        "id": "_kReZlLzXw7E",
        "outputId": "555b8306-1fbd-409a-d5a9-af520b90a0d5"
      },
      "execution_count": 22,
      "outputs": [
        {
          "output_type": "stream",
          "name": "stdout",
          "text": [
            "torch.Size([1, 2048])\n"
          ]
        }
      ]
    },
    {
      "cell_type": "code",
      "source": [
        "# attributions, delta = lig.attribute(inputs=input_ids,\n",
        "#                                   baselines=ref_input_ids,\n",
        "#                                   return_convergence_delta=True,\n",
        "#                                   additional_forward_args=(position_ids, attention_mask),\n",
        "#                                   target=1,\n",
        "#                                   n_steps=1500,\n",
        "#                                   internal_batch_size = 2)\n",
        "\n",
        "# attributions_sum = summarize_attributions(attributions)\n",
        "\n",
        "# all_attributions[str(example)] = attributions_sum.detach().cpu().numpy()"
      ],
      "metadata": {
        "id": "BSI1Azc2SxvL"
      },
      "execution_count": 23,
      "outputs": []
    },
    {
      "cell_type": "code",
      "source": [
        "# torch.save(all_attributions, '/content/drive/MyDrive/cogs402longformer/results/papers/papers_attributions/example_attrib_dict.pt')"
      ],
      "metadata": {
        "id": "Dvsiq5chRqca"
      },
      "execution_count": 24,
      "outputs": []
    },
    {
      "cell_type": "code",
      "source": [
        "# all_attributions = torch.load('/content/drive/MyDrive/cogs402longformer/results/papers/papers_attributions/example_attrib_dict.pt')"
      ],
      "metadata": {
        "id": "eJuGcLQpS-Ky"
      },
      "execution_count": 25,
      "outputs": []
    },
    {
      "cell_type": "code",
      "source": [
        "print(all_attributions)"
      ],
      "metadata": {
        "colab": {
          "base_uri": "https://localhost:8080/"
        },
        "id": "aA--ygMwhjNm",
        "outputId": "c8c99a43-5fbb-4746-c63f-51ebe1e23c4e"
      },
      "execution_count": 26,
      "outputs": [
        {
          "output_type": "stream",
          "name": "stdout",
          "text": [
            "{'605': array([ 0.00000000e+00, -3.40173878e-06, -1.12807776e-06, ...,\n",
            "        4.23677990e-06,  7.29073352e-06,  0.00000000e+00]), '976': array([ 0.00000000e+00, -1.84040401e-04,  1.46363292e-05, ...,\n",
            "       -2.48273481e-06,  1.11380563e-04,  0.00000000e+00]), '148': array([ 0.        ,  0.00225466,  0.00335924, ...,  0.00014387,\n",
            "       -0.000275  ,  0.        ]), '891': array([ 0.00000000e+00, -1.05098504e-03, -2.83239306e-03, ...,\n",
            "        1.52405500e-06,  9.14739375e-05,  0.00000000e+00]), '589': array([ 0.00000000e+00, -4.46043067e-07, -7.54823196e-07, ...,\n",
            "        5.76093299e-07,  1.27659739e-05,  0.00000000e+00])}\n"
          ]
        }
      ]
    },
    {
      "cell_type": "markdown",
      "source": [
        "We then get the attentions and global attentions so we can compare with the attributions"
      ],
      "metadata": {
        "id": "BGDWlUa3GvNS"
      }
    },
    {
      "cell_type": "code",
      "source": [
        "output = model(input_ids.cuda(), attention_mask=attention_mask.cuda(), labels=torch.tensor(label).cuda(), output_attentions = True)\n",
        "batch_attn = output[-2]\n",
        "output_attentions = torch.stack(batch_attn).cpu()\n",
        "global_attention = output[-1]\n",
        "output_global_attentions = torch.stack(global_attention).cpu()\n",
        "print(\"output_attention.shape\", output_attentions.shape)\n",
        "print(\"gl_output_attention.shape\", output_global_attentions.shape)"
      ],
      "metadata": {
        "colab": {
          "base_uri": "https://localhost:8080/"
        },
        "id": "mx69KUz20KmC",
        "outputId": "acf86c75-e06f-4fb3-a348-5dfedb71f7bb"
      },
      "execution_count": 27,
      "outputs": [
        {
          "output_type": "stream",
          "name": "stdout",
          "text": [
            "output_attention.shape torch.Size([12, 1, 12, 2048, 514])\n",
            "gl_output_attention.shape torch.Size([12, 1, 12, 2048, 1])\n"
          ]
        }
      ]
    },
    {
      "cell_type": "markdown",
      "source": [
        "Since the longformer has a unique attention matrix shape, we convert it into the required sequence length x sequence length matrix"
      ],
      "metadata": {
        "id": "dISC7-FaG2Lh"
      }
    },
    {
      "cell_type": "code",
      "source": [
        "def create_head_matrix(output_attentions, global_attentions):\n",
        "    new_attention_matrix = torch.zeros((output_attentions.shape[0], \n",
        "                                      output_attentions.shape[0]))\n",
        "    for i in range(output_attentions.shape[0]):\n",
        "        test_non_zeroes = torch.nonzero(output_attentions[i]).squeeze()\n",
        "        test2 = output_attentions[i][test_non_zeroes[1:]]\n",
        "        new_attention_matrix_indices = test_non_zeroes[1:]-257 + i\n",
        "        new_attention_matrix[i][new_attention_matrix_indices] = test2\n",
        "        new_attention_matrix[i][0] = output_attentions[i][0]\n",
        "        new_attention_matrix[0] = global_attentions.squeeze()[:output_attentions.shape[0]]\n",
        "    return new_attention_matrix\n",
        "\n",
        "\n",
        "def attentions_all_heads(output_attentions, global_attentions):\n",
        "    new_matrix = []\n",
        "    for i in range(output_attentions.shape[0]):\n",
        "        matrix = create_head_matrix(output_attentions[i], global_attentions[i])\n",
        "        new_matrix.append(matrix)\n",
        "    return torch.stack(new_matrix)\n",
        "\n",
        "def all_batches(output_attentions, global_attentions):\n",
        "    new_matrix = []\n",
        "    for i in range(output_attentions.shape[0]):\n",
        "        matrix = attentions_all_heads(output_attentions[i], global_attentions[i])\n",
        "        new_matrix.append(matrix)\n",
        "    return torch.stack(new_matrix)\n",
        "\n",
        "def all_layers(output_attentions, global_attentions):\n",
        "    new_matrix = []\n",
        "    for i in range(output_attentions.shape[0]):\n",
        "        matrix = all_batches(output_attentions[i], global_attentions[i])\n",
        "        new_matrix.append(matrix)\n",
        "    return torch.stack(new_matrix)"
      ],
      "metadata": {
        "id": "AFyZpNST1JRr"
      },
      "execution_count": 28,
      "outputs": []
    },
    {
      "cell_type": "code",
      "source": [
        "converted_mat = all_layers(output_attentions, output_global_attentions).detach().cpu().numpy()\n",
        "print(converted_mat.shape)"
      ],
      "metadata": {
        "colab": {
          "base_uri": "https://localhost:8080/"
        },
        "id": "q48gadDy1Kgi",
        "outputId": "d81b5b2b-374f-4320-9cb5-bcebd5db78ad"
      },
      "execution_count": 29,
      "outputs": [
        {
          "output_type": "stream",
          "name": "stdout",
          "text": [
            "(12, 1, 12, 2048, 2048)\n"
          ]
        }
      ]
    },
    {
      "cell_type": "markdown",
      "source": [
        "We scale the attention matrix by head importance."
      ],
      "metadata": {
        "id": "WJynBkquG9cv"
      }
    },
    {
      "cell_type": "code",
      "source": [
        "head_importance = torch.load(\"/content/drive/MyDrive/cogs402longformer/t3-visapplication/resources/papers/pretrained/head_importance.pt\")\n",
        "# head_importance = torch.load(\"/content/drive/MyDrive/cogs402longformer/t3-visapplication/resources/news/head_importance.pt\")"
      ],
      "metadata": {
        "id": "Bt_2TsKb1ML5"
      },
      "execution_count": 30,
      "outputs": []
    },
    {
      "cell_type": "code",
      "source": [
        "def scale_by_importance(attention_matrix, head_importance):\n",
        "  new_matrix = np.zeros_like(attention_matrix)\n",
        "  for i in range(attention_matrix.shape[0]):\n",
        "    head_importance_layer = head_importance[i]\n",
        "    for j in range(attention_matrix.shape[1]):\n",
        "      new_matrix[i,j] = attention_matrix[i,j] * np.expand_dims(head_importance_layer, axis=(1,2))\n",
        "  return new_matrix"
      ],
      "metadata": {
        "id": "nDuqZlIZ1NSr"
      },
      "execution_count": 31,
      "outputs": []
    },
    {
      "cell_type": "code",
      "source": [
        "converted_mat_importance = scale_by_importance(converted_mat, head_importance)"
      ],
      "metadata": {
        "id": "u5-YW1SN1OYP"
      },
      "execution_count": 32,
      "outputs": []
    },
    {
      "cell_type": "markdown",
      "source": [
        "We get the attentions for each token. The shape of the attention matrix is layer x batch x head x seq_len x seq_len."
      ],
      "metadata": {
        "id": "XywJLFZ6HBWO"
      }
    },
    {
      "cell_type": "code",
      "source": [
        "attention_matrix_importance = converted_mat_importance.sum(axis=3)\n",
        "print(attention_matrix_importance.shape)"
      ],
      "metadata": {
        "colab": {
          "base_uri": "https://localhost:8080/"
        },
        "id": "Gu9biMOM1UWC",
        "outputId": "2d621ac2-7a78-4262-ab59-96e7e865b137"
      },
      "execution_count": 33,
      "outputs": [
        {
          "output_type": "stream",
          "name": "stdout",
          "text": [
            "(12, 1, 12, 2048)\n"
          ]
        }
      ]
    },
    {
      "cell_type": "markdown",
      "source": [
        "Sum the attentions for the last layer and over all layers"
      ],
      "metadata": {
        "id": "gB7w8fsMHFT2"
      }
    },
    {
      "cell_type": "code",
      "source": [
        "attention_final_layer = attention_matrix_importance[11].squeeze().sum(axis=0)\n",
        "attention_all_layer = attention_matrix_importance.squeeze().sum(axis=1)\n",
        "attention_all_layer = attention_all_layer.sum(axis=0)\n",
        "print(attention_all_layer.shape)"
      ],
      "metadata": {
        "id": "kvEhE5HP1XUQ",
        "colab": {
          "base_uri": "https://localhost:8080/"
        },
        "outputId": "0f070079-93f1-4af4-f674-6e88d1497dd5"
      },
      "execution_count": 34,
      "outputs": [
        {
          "output_type": "stream",
          "name": "stdout",
          "text": [
            "(2048,)\n"
          ]
        }
      ]
    },
    {
      "cell_type": "markdown",
      "source": [
        "Grab the attributions we stored"
      ],
      "metadata": {
        "id": "GoxYNBsHHLdc"
      }
    },
    {
      "cell_type": "code",
      "source": [
        "exam_attrib = all_attributions[str(example)]\n",
        "exam_attrib = exam_attrib[:len(attention_final_layer)]"
      ],
      "metadata": {
        "id": "na6SKwOp_htK"
      },
      "execution_count": 35,
      "outputs": []
    },
    {
      "cell_type": "code",
      "source": [
        "len(exam_attrib)"
      ],
      "metadata": {
        "colab": {
          "base_uri": "https://localhost:8080/"
        },
        "id": "qWNavbDei4rj",
        "outputId": "c9920123-a5ef-42bf-f762-aad05b6ad279"
      },
      "execution_count": 36,
      "outputs": [
        {
          "output_type": "execute_result",
          "data": {
            "text/plain": [
              "2048"
            ]
          },
          "metadata": {},
          "execution_count": 36
        }
      ]
    },
    {
      "cell_type": "markdown",
      "source": [
        "Since we have the attributions and the attentions, we want to see how the largest attributions (in terms of magnitude) compares to the highest attentions."
      ],
      "metadata": {
        "id": "jp40sVMVBDYt"
      }
    },
    {
      "cell_type": "markdown",
      "source": [
        "Cosine similarity using the raw attributions and attentions"
      ],
      "metadata": {
        "id": "05cKorNqG-2T"
      }
    },
    {
      "cell_type": "code",
      "source": [
        "from numpy.linalg import norm\n",
        "cosine_raw = np.dot(exam_attrib, attention_final_layer) / (norm(exam_attrib)*norm(attention_final_layer))\n",
        "print(\"Layer 12 Cosine Similarity raw attrib:\\n\", cosine_raw)\n",
        "cosine_all_raw = np.dot(exam_attrib, attention_all_layer) / (norm(exam_attrib)*norm(attention_all_layer))\n",
        "print(\"Layer 12 Cosine Similarity raw attrib:\\n\", cosine_all_raw)"
      ],
      "metadata": {
        "colab": {
          "base_uri": "https://localhost:8080/"
        },
        "id": "_kWnacBd9qk5",
        "outputId": "d7068e0f-adf0-4483-b987-8e79540eef75"
      },
      "execution_count": 37,
      "outputs": [
        {
          "output_type": "stream",
          "name": "stdout",
          "text": [
            "Layer 12 Cosine Similarity raw attrib:\n",
            " 0.08240282540266103\n",
            "Layer 12 Cosine Similarity raw attrib:\n",
            " 0.0967547108684436\n"
          ]
        }
      ]
    },
    {
      "cell_type": "markdown",
      "source": [
        "The attributions and the attentions have different ranges. The attributions could range from -1 to 1 whereas the attentions range from 0 to 1. However, negative attributions would not necessarily mean that they have the lowest attention, rather they might have really high attention as they are more likely to help the model predict the negative class, and might be something the attentions picked up as a feature."
      ],
      "metadata": {
        "id": "6cwcV4jXNWe-"
      }
    },
    {
      "cell_type": "code",
      "source": [
        "def normalize(data):\n",
        "    return (data - np.min(data)) / (np.max(data) - np.min(data))"
      ],
      "metadata": {
        "id": "ukncMseTj1-K"
      },
      "execution_count": 38,
      "outputs": []
    },
    {
      "cell_type": "code",
      "source": [
        "attention_final_layer2 = normalize(attention_final_layer)\n",
        "attention_all_layer2 = normalize(attention_all_layer)"
      ],
      "metadata": {
        "id": "b0fjYbf5k5qv"
      },
      "execution_count": 39,
      "outputs": []
    },
    {
      "cell_type": "code",
      "source": [
        "exam_attrib2 = np.abs(exam_attrib)\n",
        "exam_attrib2 = normalize(exam_attrib2)"
      ],
      "metadata": {
        "id": "gQIFZTQzlAEI"
      },
      "execution_count": 40,
      "outputs": []
    },
    {
      "cell_type": "code",
      "source": [
        "print(exam_attrib2)"
      ],
      "metadata": {
        "colab": {
          "base_uri": "https://localhost:8080/"
        },
        "id": "gtCEZaQFOgwh",
        "outputId": "222b7824-71d8-43fd-c5fc-c1e734629098"
      },
      "execution_count": 41,
      "outputs": [
        {
          "output_type": "stream",
          "name": "stdout",
          "text": [
            "[0.00000000e+00 3.09815393e-03 2.46389383e-04 ... 4.17945981e-05\n",
            " 1.87499117e-03 0.00000000e+00]\n"
          ]
        }
      ]
    },
    {
      "cell_type": "markdown",
      "source": [
        "Calculate cosine simularity using normalized attentions and attributions"
      ],
      "metadata": {
        "id": "wuflawaXGUAK"
      }
    },
    {
      "cell_type": "code",
      "source": [
        "cosine = np.dot(exam_attrib2, attention_final_layer2) / (norm(exam_attrib2)*norm(attention_final_layer2))\n",
        "print(\"Layer 12 Cosine Similarity:\\n\", cosine)\n",
        "cosine2 = np.dot(exam_attrib2, attention_all_layer2) / (norm(exam_attrib2)*norm(attention_all_layer2))\n",
        "print(\"All layer Cosine Similarity:\\n\", cosine2)"
      ],
      "metadata": {
        "colab": {
          "base_uri": "https://localhost:8080/"
        },
        "id": "oV1y_ZDk_gFu",
        "outputId": "5b297dd8-70e7-46c6-ac31-dfabeaf0faa5"
      },
      "execution_count": 42,
      "outputs": [
        {
          "output_type": "stream",
          "name": "stdout",
          "text": [
            "Layer 12 Cosine Similarity:\n",
            " 0.14192338496973678\n",
            "All layer Cosine Similarity:\n",
            " 0.11526970783935846\n"
          ]
        }
      ]
    },
    {
      "cell_type": "markdown",
      "source": [
        "Cosine similarity while setting all the attention and attribution values below the median to 0"
      ],
      "metadata": {
        "id": "0ivl51-oHFPu"
      }
    },
    {
      "cell_type": "code",
      "source": [
        "exam_attrib3 = np.abs(exam_attrib)\n",
        "exam_attrib3 = normalize(exam_attrib3)\n",
        "median_exam = np.percentile(exam_attrib3, 50)\n",
        "exam_attrib3[exam_attrib3 < median_exam] = 0"
      ],
      "metadata": {
        "id": "X5q_9i4iOoFs"
      },
      "execution_count": 43,
      "outputs": []
    },
    {
      "cell_type": "code",
      "source": [
        "attention_final_layer3 = np.copy(attention_final_layer)\n",
        "attention_final_layer3 = normalize(attention_final_layer3)\n",
        "median_12 = np.percentile(attention_final_layer3, 50)\n",
        "attention_final_layer3[attention_final_layer3 < median_12] = 0\n",
        "\n",
        "attention_all_layer3 = np.copy(attention_all_layer) \n",
        "attention_all_layer3 = normalize(attention_all_layer3)\n",
        "median_all = np.percentile(attention_all_layer3, 50)\n",
        "attention_all_layer3[attention_all_layer3 < median_all] = 0"
      ],
      "metadata": {
        "id": "9zTGe6IEGeFv"
      },
      "execution_count": 44,
      "outputs": []
    },
    {
      "cell_type": "code",
      "source": [
        "cosine_med = np.dot(exam_attrib3, attention_final_layer3) / (norm(exam_attrib3)*norm(attention_final_layer3))\n",
        "print(\"Layer 12 Cosine Similarity med:\\n\", cosine_med)\n",
        "cosine_med2 = np.dot(exam_attrib3, attention_all_layer3) / (norm(exam_attrib3)*norm(attention_all_layer3))\n",
        "print(\"All layer Cosine Similarity med:\\n\", cosine_med2)"
      ],
      "metadata": {
        "colab": {
          "base_uri": "https://localhost:8080/"
        },
        "id": "i8cKjhfAHrWi",
        "outputId": "14c90d3a-0912-4f39-fc00-bf3fd3aa394c"
      },
      "execution_count": 45,
      "outputs": [
        {
          "output_type": "stream",
          "name": "stdout",
          "text": [
            "Layer 12 Cosine Similarity med:\n",
            " 0.13743335870599985\n",
            "All layer Cosine Similarity med:\n",
            " 0.10930940264629081\n"
          ]
        }
      ]
    },
    {
      "cell_type": "markdown",
      "source": [
        "Cosine similarity while setting all the attention and attribution values below the mean to 0"
      ],
      "metadata": {
        "id": "7srdG4VeT4wt"
      }
    },
    {
      "cell_type": "code",
      "source": [
        "exam_attrib4 = np.abs(exam_attrib)\n",
        "exam_attrib4 = normalize(exam_attrib4)\n",
        "mean_exam = np.mean(exam_attrib4)\n",
        "exam_attrib4[exam_attrib4 < mean_exam] = 0"
      ],
      "metadata": {
        "id": "NHw9NX_cWwTT"
      },
      "execution_count": 46,
      "outputs": []
    },
    {
      "cell_type": "code",
      "source": [
        "attention_final_layer4 = np.copy(attention_final_layer)\n",
        "attention_final_layer4 = normalize(attention_final_layer4)\n",
        "mean_12 = np.mean(attention_final_layer4)\n",
        "attention_final_layer4[attention_final_layer4 < mean_12] = 0\n",
        "\n",
        "attention_all_layer4 = np.copy(attention_all_layer) \n",
        "attention_all_layer4 = normalize(attention_all_layer4)\n",
        "mean_all = np.mean(attention_all_layer4)\n",
        "attention_all_layer4[attention_all_layer4 < mean_all] = 0"
      ],
      "metadata": {
        "id": "EHj9zUwrUee-"
      },
      "execution_count": 47,
      "outputs": []
    },
    {
      "cell_type": "code",
      "source": [
        "cosine_mean = np.dot(exam_attrib4, attention_final_layer4) / (norm(exam_attrib4)*norm(attention_final_layer4))\n",
        "print(\"Layer 12 Cosine Similarity mean:\\n\", cosine_mean)\n",
        "cosine_mean2 = np.dot(exam_attrib4, attention_all_layer4) / (norm(exam_attrib4)*norm(attention_all_layer4))\n",
        "print(\"All layer Cosine Similarity mean:\\n\", cosine_mean2)"
      ],
      "metadata": {
        "colab": {
          "base_uri": "https://localhost:8080/"
        },
        "id": "NWlVxlzHUlAj",
        "outputId": "eb3e410d-1a94-40aa-b474-a2d6b5c38832"
      },
      "execution_count": 48,
      "outputs": [
        {
          "output_type": "stream",
          "name": "stdout",
          "text": [
            "Layer 12 Cosine Similarity mean:\n",
            " 0.11986848068103072\n",
            "All layer Cosine Similarity mean:\n",
            " 0.09766475625066964\n"
          ]
        }
      ]
    },
    {
      "cell_type": "markdown",
      "source": [
        "Cosine Similarity using the ranks of each token"
      ],
      "metadata": {
        "id": "NHUIfDlnjlFU"
      }
    },
    {
      "cell_type": "code",
      "source": [
        "exam_attrib_rank = np.abs(exam_attrib)\n",
        "order_attrib = exam_attrib_rank.argsort()\n",
        "print(order_attrib)\n",
        "ranks_attrib = order_attrib.argsort()\n",
        "print(ranks_attrib)"
      ],
      "metadata": {
        "colab": {
          "base_uri": "https://localhost:8080/"
        },
        "id": "F8t6CWK6jkG8",
        "outputId": "95309b42-64eb-45a4-c54c-e9223ff465ba"
      },
      "execution_count": 49,
      "outputs": [
        {
          "output_type": "stream",
          "name": "stdout",
          "text": [
            "[   0 2047 2008 ... 1700 1593 1544]\n",
            "[   0 1055  120 ...   18  769    1]\n"
          ]
        }
      ]
    },
    {
      "cell_type": "code",
      "source": [
        "attention_final_layer_rank = np.copy(attention_final_layer)\n",
        "order = attention_final_layer_rank.argsort()\n",
        "ranks = order.argsort()\n",
        "\n",
        "attention_all_layer_rank = np.copy(attention_all_layer)\n",
        "order2 = attention_all_layer_rank.argsort()\n",
        "ranks2 = order2.argsort()"
      ],
      "metadata": {
        "id": "Abb5yDNljwdI"
      },
      "execution_count": 50,
      "outputs": []
    },
    {
      "cell_type": "code",
      "source": [
        "cosine_rank = np.dot(ranks_attrib, ranks) / (norm(ranks_attrib)*norm(ranks))\n",
        "print(\"Layer 12 Cosine Similarity rank:\\n\", cosine_rank)\n",
        "cosine_rank2 = np.dot(ranks_attrib, ranks2) / (norm(ranks_attrib)*norm(ranks2))\n",
        "print(\"All layer Cosine Similarity rank:\\n\", cosine_rank2)"
      ],
      "metadata": {
        "colab": {
          "base_uri": "https://localhost:8080/"
        },
        "id": "H7Ucz3QdtBxN",
        "outputId": "c317667f-e644-4f74-dade-bdd31bdd3a90"
      },
      "execution_count": 51,
      "outputs": [
        {
          "output_type": "stream",
          "name": "stdout",
          "text": [
            "Layer 12 Cosine Similarity rank:\n",
            " 0.8231117432528797\n",
            "All layer Cosine Similarity rank:\n",
            " 0.8196131959645447\n"
          ]
        }
      ]
    },
    {
      "cell_type": "markdown",
      "source": [
        "Try the kenall tau metric and the RBO metric"
      ],
      "metadata": {
        "id": "KINI1ho0jDSf"
      }
    },
    {
      "cell_type": "code",
      "source": [
        "import scipy.stats as stats\n",
        "tau, p_value = stats.kendalltau(ranks_attrib, ranks)\n",
        "print(\"Tau statistic layer 12:\", tau, \"p value\", p_value)\n",
        "tau, p_value = stats.kendalltau(ranks_attrib, ranks2)\n",
        "print(\"Tau statistic: all layers\", tau, \"p value\", p_value)"
      ],
      "metadata": {
        "colab": {
          "base_uri": "https://localhost:8080/"
        },
        "id": "LXUp80lhjDcn",
        "outputId": "3f4255b9-44d5-421b-967f-25bdc63d8207"
      },
      "execution_count": 52,
      "outputs": [
        {
          "output_type": "stream",
          "name": "stdout",
          "text": [
            "Tau statistic layer 12: 0.2001347245969712 p value 5.712101810122379e-42\n",
            "Tau statistic: all layers 0.18862397716170007 p value 1.787488784499021e-37\n"
          ]
        }
      ]
    },
    {
      "cell_type": "code",
      "source": [
        "import rbo\n",
        "print(\"rbo layer 12\", rbo.RankingSimilarity(order_attrib, order).rbo())\n",
        "print(\"rbo all\", rbo.RankingSimilarity(order_attrib, order2).rbo())"
      ],
      "metadata": {
        "colab": {
          "base_uri": "https://localhost:8080/"
        },
        "id": "B1gC1cVvjFib",
        "outputId": "ed2787ce-e925-4644-9e9b-ff44e8dc6fcb"
      },
      "execution_count": 53,
      "outputs": [
        {
          "output_type": "stream",
          "name": "stdout",
          "text": [
            "rbo layer 12 0.5839508564662282\n",
            "rbo all 0.5605875968068141\n"
          ]
        }
      ]
    },
    {
      "cell_type": "markdown",
      "source": [
        "The cosine similarity using only the last layer of attentions"
      ],
      "metadata": {
        "id": "PGIoaQ3QOaOf"
      }
    },
    {
      "cell_type": "code",
      "source": [
        "d = {'example': [example], 'similarity normalized': [cosine], 'similarity raw': [cosine_raw], 'sim_norm w/ median threshold': [cosine_med], 'sim_norm w/ mean threshold': [cosine_mean], \"sim w/ ranks\":[cosine_rank]}\n",
        "df = pd.DataFrame(data=d)\n",
        "df"
      ],
      "metadata": {
        "colab": {
          "base_uri": "https://localhost:8080/",
          "height": 81
        },
        "id": "-da4EW2rBkIX",
        "outputId": "d5af7377-ca54-4b57-cf87-d97cc7b5372e"
      },
      "execution_count": 54,
      "outputs": [
        {
          "output_type": "execute_result",
          "data": {
            "text/plain": [
              "   example  similarity normalized  similarity raw  \\\n",
              "0      976               0.141923        0.082403   \n",
              "\n",
              "   sim_norm w/ median threshold  sim_norm w/ mean threshold  sim w/ ranks  \n",
              "0                      0.137433                    0.119868      0.823112  "
            ],
            "text/html": [
              "\n",
              "  <div id=\"df-adbf4f7a-b605-4e3a-84d2-c143e49c660d\">\n",
              "    <div class=\"colab-df-container\">\n",
              "      <div>\n",
              "<style scoped>\n",
              "    .dataframe tbody tr th:only-of-type {\n",
              "        vertical-align: middle;\n",
              "    }\n",
              "\n",
              "    .dataframe tbody tr th {\n",
              "        vertical-align: top;\n",
              "    }\n",
              "\n",
              "    .dataframe thead th {\n",
              "        text-align: right;\n",
              "    }\n",
              "</style>\n",
              "<table border=\"1\" class=\"dataframe\">\n",
              "  <thead>\n",
              "    <tr style=\"text-align: right;\">\n",
              "      <th></th>\n",
              "      <th>example</th>\n",
              "      <th>similarity normalized</th>\n",
              "      <th>similarity raw</th>\n",
              "      <th>sim_norm w/ median threshold</th>\n",
              "      <th>sim_norm w/ mean threshold</th>\n",
              "      <th>sim w/ ranks</th>\n",
              "    </tr>\n",
              "  </thead>\n",
              "  <tbody>\n",
              "    <tr>\n",
              "      <th>0</th>\n",
              "      <td>976</td>\n",
              "      <td>0.141923</td>\n",
              "      <td>0.082403</td>\n",
              "      <td>0.137433</td>\n",
              "      <td>0.119868</td>\n",
              "      <td>0.823112</td>\n",
              "    </tr>\n",
              "  </tbody>\n",
              "</table>\n",
              "</div>\n",
              "      <button class=\"colab-df-convert\" onclick=\"convertToInteractive('df-adbf4f7a-b605-4e3a-84d2-c143e49c660d')\"\n",
              "              title=\"Convert this dataframe to an interactive table.\"\n",
              "              style=\"display:none;\">\n",
              "        \n",
              "  <svg xmlns=\"http://www.w3.org/2000/svg\" height=\"24px\"viewBox=\"0 0 24 24\"\n",
              "       width=\"24px\">\n",
              "    <path d=\"M0 0h24v24H0V0z\" fill=\"none\"/>\n",
              "    <path d=\"M18.56 5.44l.94 2.06.94-2.06 2.06-.94-2.06-.94-.94-2.06-.94 2.06-2.06.94zm-11 1L8.5 8.5l.94-2.06 2.06-.94-2.06-.94L8.5 2.5l-.94 2.06-2.06.94zm10 10l.94 2.06.94-2.06 2.06-.94-2.06-.94-.94-2.06-.94 2.06-2.06.94z\"/><path d=\"M17.41 7.96l-1.37-1.37c-.4-.4-.92-.59-1.43-.59-.52 0-1.04.2-1.43.59L10.3 9.45l-7.72 7.72c-.78.78-.78 2.05 0 2.83L4 21.41c.39.39.9.59 1.41.59.51 0 1.02-.2 1.41-.59l7.78-7.78 2.81-2.81c.8-.78.8-2.07 0-2.86zM5.41 20L4 18.59l7.72-7.72 1.47 1.35L5.41 20z\"/>\n",
              "  </svg>\n",
              "      </button>\n",
              "      \n",
              "  <style>\n",
              "    .colab-df-container {\n",
              "      display:flex;\n",
              "      flex-wrap:wrap;\n",
              "      gap: 12px;\n",
              "    }\n",
              "\n",
              "    .colab-df-convert {\n",
              "      background-color: #E8F0FE;\n",
              "      border: none;\n",
              "      border-radius: 50%;\n",
              "      cursor: pointer;\n",
              "      display: none;\n",
              "      fill: #1967D2;\n",
              "      height: 32px;\n",
              "      padding: 0 0 0 0;\n",
              "      width: 32px;\n",
              "    }\n",
              "\n",
              "    .colab-df-convert:hover {\n",
              "      background-color: #E2EBFA;\n",
              "      box-shadow: 0px 1px 2px rgba(60, 64, 67, 0.3), 0px 1px 3px 1px rgba(60, 64, 67, 0.15);\n",
              "      fill: #174EA6;\n",
              "    }\n",
              "\n",
              "    [theme=dark] .colab-df-convert {\n",
              "      background-color: #3B4455;\n",
              "      fill: #D2E3FC;\n",
              "    }\n",
              "\n",
              "    [theme=dark] .colab-df-convert:hover {\n",
              "      background-color: #434B5C;\n",
              "      box-shadow: 0px 1px 3px 1px rgba(0, 0, 0, 0.15);\n",
              "      filter: drop-shadow(0px 1px 2px rgba(0, 0, 0, 0.3));\n",
              "      fill: #FFFFFF;\n",
              "    }\n",
              "  </style>\n",
              "\n",
              "      <script>\n",
              "        const buttonEl =\n",
              "          document.querySelector('#df-adbf4f7a-b605-4e3a-84d2-c143e49c660d button.colab-df-convert');\n",
              "        buttonEl.style.display =\n",
              "          google.colab.kernel.accessAllowed ? 'block' : 'none';\n",
              "\n",
              "        async function convertToInteractive(key) {\n",
              "          const element = document.querySelector('#df-adbf4f7a-b605-4e3a-84d2-c143e49c660d');\n",
              "          const dataTable =\n",
              "            await google.colab.kernel.invokeFunction('convertToInteractive',\n",
              "                                                     [key], {});\n",
              "          if (!dataTable) return;\n",
              "\n",
              "          const docLinkHtml = 'Like what you see? Visit the ' +\n",
              "            '<a target=\"_blank\" href=https://colab.research.google.com/notebooks/data_table.ipynb>data table notebook</a>'\n",
              "            + ' to learn more about interactive tables.';\n",
              "          element.innerHTML = '';\n",
              "          dataTable['output_type'] = 'display_data';\n",
              "          await google.colab.output.renderOutput(dataTable, element);\n",
              "          const docLink = document.createElement('div');\n",
              "          docLink.innerHTML = docLinkHtml;\n",
              "          element.appendChild(docLink);\n",
              "        }\n",
              "      </script>\n",
              "    </div>\n",
              "  </div>\n",
              "  "
            ]
          },
          "metadata": {},
          "execution_count": 54
        }
      ]
    },
    {
      "cell_type": "markdown",
      "source": [
        "The cosine similarity using all layers"
      ],
      "metadata": {
        "id": "7w4ofGq2OfLC"
      }
    },
    {
      "cell_type": "code",
      "source": [
        "d2 = {'example': [example], 'similarity normalized': [cosine2], 'similarity raw': [cosine_all_raw], 'sim_norm w/ median threshold':[cosine_med2], 'sim_norm w/ mean threshold':[cosine_mean2], \"sim w/ ranks\":[cosine_rank2]}\n",
        "df2 = pd.DataFrame(data=d2)\n",
        "df2"
      ],
      "metadata": {
        "colab": {
          "base_uri": "https://localhost:8080/",
          "height": 81
        },
        "id": "ep6wbADaFgME",
        "outputId": "232890c3-f9e8-4e2c-ea2f-0427d401f42a"
      },
      "execution_count": 55,
      "outputs": [
        {
          "output_type": "execute_result",
          "data": {
            "text/plain": [
              "   example  similarity normalized  similarity raw  \\\n",
              "0      976                0.11527        0.096755   \n",
              "\n",
              "   sim_norm w/ median threshold  sim_norm w/ mean threshold  sim w/ ranks  \n",
              "0                      0.109309                    0.097665      0.819613  "
            ],
            "text/html": [
              "\n",
              "  <div id=\"df-4e7c7f27-0394-478a-ba7e-610d1450f6ec\">\n",
              "    <div class=\"colab-df-container\">\n",
              "      <div>\n",
              "<style scoped>\n",
              "    .dataframe tbody tr th:only-of-type {\n",
              "        vertical-align: middle;\n",
              "    }\n",
              "\n",
              "    .dataframe tbody tr th {\n",
              "        vertical-align: top;\n",
              "    }\n",
              "\n",
              "    .dataframe thead th {\n",
              "        text-align: right;\n",
              "    }\n",
              "</style>\n",
              "<table border=\"1\" class=\"dataframe\">\n",
              "  <thead>\n",
              "    <tr style=\"text-align: right;\">\n",
              "      <th></th>\n",
              "      <th>example</th>\n",
              "      <th>similarity normalized</th>\n",
              "      <th>similarity raw</th>\n",
              "      <th>sim_norm w/ median threshold</th>\n",
              "      <th>sim_norm w/ mean threshold</th>\n",
              "      <th>sim w/ ranks</th>\n",
              "    </tr>\n",
              "  </thead>\n",
              "  <tbody>\n",
              "    <tr>\n",
              "      <th>0</th>\n",
              "      <td>976</td>\n",
              "      <td>0.11527</td>\n",
              "      <td>0.096755</td>\n",
              "      <td>0.109309</td>\n",
              "      <td>0.097665</td>\n",
              "      <td>0.819613</td>\n",
              "    </tr>\n",
              "  </tbody>\n",
              "</table>\n",
              "</div>\n",
              "      <button class=\"colab-df-convert\" onclick=\"convertToInteractive('df-4e7c7f27-0394-478a-ba7e-610d1450f6ec')\"\n",
              "              title=\"Convert this dataframe to an interactive table.\"\n",
              "              style=\"display:none;\">\n",
              "        \n",
              "  <svg xmlns=\"http://www.w3.org/2000/svg\" height=\"24px\"viewBox=\"0 0 24 24\"\n",
              "       width=\"24px\">\n",
              "    <path d=\"M0 0h24v24H0V0z\" fill=\"none\"/>\n",
              "    <path d=\"M18.56 5.44l.94 2.06.94-2.06 2.06-.94-2.06-.94-.94-2.06-.94 2.06-2.06.94zm-11 1L8.5 8.5l.94-2.06 2.06-.94-2.06-.94L8.5 2.5l-.94 2.06-2.06.94zm10 10l.94 2.06.94-2.06 2.06-.94-2.06-.94-.94-2.06-.94 2.06-2.06.94z\"/><path d=\"M17.41 7.96l-1.37-1.37c-.4-.4-.92-.59-1.43-.59-.52 0-1.04.2-1.43.59L10.3 9.45l-7.72 7.72c-.78.78-.78 2.05 0 2.83L4 21.41c.39.39.9.59 1.41.59.51 0 1.02-.2 1.41-.59l7.78-7.78 2.81-2.81c.8-.78.8-2.07 0-2.86zM5.41 20L4 18.59l7.72-7.72 1.47 1.35L5.41 20z\"/>\n",
              "  </svg>\n",
              "      </button>\n",
              "      \n",
              "  <style>\n",
              "    .colab-df-container {\n",
              "      display:flex;\n",
              "      flex-wrap:wrap;\n",
              "      gap: 12px;\n",
              "    }\n",
              "\n",
              "    .colab-df-convert {\n",
              "      background-color: #E8F0FE;\n",
              "      border: none;\n",
              "      border-radius: 50%;\n",
              "      cursor: pointer;\n",
              "      display: none;\n",
              "      fill: #1967D2;\n",
              "      height: 32px;\n",
              "      padding: 0 0 0 0;\n",
              "      width: 32px;\n",
              "    }\n",
              "\n",
              "    .colab-df-convert:hover {\n",
              "      background-color: #E2EBFA;\n",
              "      box-shadow: 0px 1px 2px rgba(60, 64, 67, 0.3), 0px 1px 3px 1px rgba(60, 64, 67, 0.15);\n",
              "      fill: #174EA6;\n",
              "    }\n",
              "\n",
              "    [theme=dark] .colab-df-convert {\n",
              "      background-color: #3B4455;\n",
              "      fill: #D2E3FC;\n",
              "    }\n",
              "\n",
              "    [theme=dark] .colab-df-convert:hover {\n",
              "      background-color: #434B5C;\n",
              "      box-shadow: 0px 1px 3px 1px rgba(0, 0, 0, 0.15);\n",
              "      filter: drop-shadow(0px 1px 2px rgba(0, 0, 0, 0.3));\n",
              "      fill: #FFFFFF;\n",
              "    }\n",
              "  </style>\n",
              "\n",
              "      <script>\n",
              "        const buttonEl =\n",
              "          document.querySelector('#df-4e7c7f27-0394-478a-ba7e-610d1450f6ec button.colab-df-convert');\n",
              "        buttonEl.style.display =\n",
              "          google.colab.kernel.accessAllowed ? 'block' : 'none';\n",
              "\n",
              "        async function convertToInteractive(key) {\n",
              "          const element = document.querySelector('#df-4e7c7f27-0394-478a-ba7e-610d1450f6ec');\n",
              "          const dataTable =\n",
              "            await google.colab.kernel.invokeFunction('convertToInteractive',\n",
              "                                                     [key], {});\n",
              "          if (!dataTable) return;\n",
              "\n",
              "          const docLinkHtml = 'Like what you see? Visit the ' +\n",
              "            '<a target=\"_blank\" href=https://colab.research.google.com/notebooks/data_table.ipynb>data table notebook</a>'\n",
              "            + ' to learn more about interactive tables.';\n",
              "          element.innerHTML = '';\n",
              "          dataTable['output_type'] = 'display_data';\n",
              "          await google.colab.output.renderOutput(dataTable, element);\n",
              "          const docLink = document.createElement('div');\n",
              "          docLink.innerHTML = docLinkHtml;\n",
              "          element.appendChild(docLink);\n",
              "        }\n",
              "      </script>\n",
              "    </div>\n",
              "  </div>\n",
              "  "
            ]
          },
          "metadata": {},
          "execution_count": 55
        }
      ]
    },
    {
      "cell_type": "code",
      "source": [
        "df_layer12 = pd.read_csv(\"/content/drive/MyDrive/cogs402longformer/results/papers/papers_attributions/cos_sim_layer12.csv\")\n",
        "df_all = pd.read_csv(\"/content/drive/MyDrive/cogs402longformer/results/papers/papers_attributions/cos_sim_all.csv\")"
      ],
      "metadata": {
        "id": "0wdSRDsTCN-J"
      },
      "execution_count": 56,
      "outputs": []
    },
    {
      "cell_type": "code",
      "source": [
        "df_layer12"
      ],
      "metadata": {
        "colab": {
          "base_uri": "https://localhost:8080/",
          "height": 206
        },
        "id": "UlT8_ax5CwQT",
        "outputId": "9c2a7f4d-aea1-40d4-c82d-b29408849ec5"
      },
      "execution_count": 57,
      "outputs": [
        {
          "output_type": "execute_result",
          "data": {
            "text/plain": [
              "   example  similarity normalized  similarity raw  \\\n",
              "0      148               0.147101       -0.020260   \n",
              "1      589               0.396823       -0.189594   \n",
              "2      605               0.299375       -0.165507   \n",
              "3      891               0.175846        0.022566   \n",
              "4      976               0.141923        0.082403   \n",
              "\n",
              "   sim_norm w/ median threshold  sim_norm w/ mean threshold  sim w/ ranks  \n",
              "0                      0.142670                    0.123295      0.826202  \n",
              "1                      0.392803                    0.383813      0.791068  \n",
              "2                      0.288221                    0.271128      0.802063  \n",
              "3                      0.173801                    0.157258      0.842796  \n",
              "4                      0.137433                    0.119868      0.823112  "
            ],
            "text/html": [
              "\n",
              "  <div id=\"df-e4d7eaa7-37ac-4c9e-ab8d-5e63abe409ba\">\n",
              "    <div class=\"colab-df-container\">\n",
              "      <div>\n",
              "<style scoped>\n",
              "    .dataframe tbody tr th:only-of-type {\n",
              "        vertical-align: middle;\n",
              "    }\n",
              "\n",
              "    .dataframe tbody tr th {\n",
              "        vertical-align: top;\n",
              "    }\n",
              "\n",
              "    .dataframe thead th {\n",
              "        text-align: right;\n",
              "    }\n",
              "</style>\n",
              "<table border=\"1\" class=\"dataframe\">\n",
              "  <thead>\n",
              "    <tr style=\"text-align: right;\">\n",
              "      <th></th>\n",
              "      <th>example</th>\n",
              "      <th>similarity normalized</th>\n",
              "      <th>similarity raw</th>\n",
              "      <th>sim_norm w/ median threshold</th>\n",
              "      <th>sim_norm w/ mean threshold</th>\n",
              "      <th>sim w/ ranks</th>\n",
              "    </tr>\n",
              "  </thead>\n",
              "  <tbody>\n",
              "    <tr>\n",
              "      <th>0</th>\n",
              "      <td>148</td>\n",
              "      <td>0.147101</td>\n",
              "      <td>-0.020260</td>\n",
              "      <td>0.142670</td>\n",
              "      <td>0.123295</td>\n",
              "      <td>0.826202</td>\n",
              "    </tr>\n",
              "    <tr>\n",
              "      <th>1</th>\n",
              "      <td>589</td>\n",
              "      <td>0.396823</td>\n",
              "      <td>-0.189594</td>\n",
              "      <td>0.392803</td>\n",
              "      <td>0.383813</td>\n",
              "      <td>0.791068</td>\n",
              "    </tr>\n",
              "    <tr>\n",
              "      <th>2</th>\n",
              "      <td>605</td>\n",
              "      <td>0.299375</td>\n",
              "      <td>-0.165507</td>\n",
              "      <td>0.288221</td>\n",
              "      <td>0.271128</td>\n",
              "      <td>0.802063</td>\n",
              "    </tr>\n",
              "    <tr>\n",
              "      <th>3</th>\n",
              "      <td>891</td>\n",
              "      <td>0.175846</td>\n",
              "      <td>0.022566</td>\n",
              "      <td>0.173801</td>\n",
              "      <td>0.157258</td>\n",
              "      <td>0.842796</td>\n",
              "    </tr>\n",
              "    <tr>\n",
              "      <th>4</th>\n",
              "      <td>976</td>\n",
              "      <td>0.141923</td>\n",
              "      <td>0.082403</td>\n",
              "      <td>0.137433</td>\n",
              "      <td>0.119868</td>\n",
              "      <td>0.823112</td>\n",
              "    </tr>\n",
              "  </tbody>\n",
              "</table>\n",
              "</div>\n",
              "      <button class=\"colab-df-convert\" onclick=\"convertToInteractive('df-e4d7eaa7-37ac-4c9e-ab8d-5e63abe409ba')\"\n",
              "              title=\"Convert this dataframe to an interactive table.\"\n",
              "              style=\"display:none;\">\n",
              "        \n",
              "  <svg xmlns=\"http://www.w3.org/2000/svg\" height=\"24px\"viewBox=\"0 0 24 24\"\n",
              "       width=\"24px\">\n",
              "    <path d=\"M0 0h24v24H0V0z\" fill=\"none\"/>\n",
              "    <path d=\"M18.56 5.44l.94 2.06.94-2.06 2.06-.94-2.06-.94-.94-2.06-.94 2.06-2.06.94zm-11 1L8.5 8.5l.94-2.06 2.06-.94-2.06-.94L8.5 2.5l-.94 2.06-2.06.94zm10 10l.94 2.06.94-2.06 2.06-.94-2.06-.94-.94-2.06-.94 2.06-2.06.94z\"/><path d=\"M17.41 7.96l-1.37-1.37c-.4-.4-.92-.59-1.43-.59-.52 0-1.04.2-1.43.59L10.3 9.45l-7.72 7.72c-.78.78-.78 2.05 0 2.83L4 21.41c.39.39.9.59 1.41.59.51 0 1.02-.2 1.41-.59l7.78-7.78 2.81-2.81c.8-.78.8-2.07 0-2.86zM5.41 20L4 18.59l7.72-7.72 1.47 1.35L5.41 20z\"/>\n",
              "  </svg>\n",
              "      </button>\n",
              "      \n",
              "  <style>\n",
              "    .colab-df-container {\n",
              "      display:flex;\n",
              "      flex-wrap:wrap;\n",
              "      gap: 12px;\n",
              "    }\n",
              "\n",
              "    .colab-df-convert {\n",
              "      background-color: #E8F0FE;\n",
              "      border: none;\n",
              "      border-radius: 50%;\n",
              "      cursor: pointer;\n",
              "      display: none;\n",
              "      fill: #1967D2;\n",
              "      height: 32px;\n",
              "      padding: 0 0 0 0;\n",
              "      width: 32px;\n",
              "    }\n",
              "\n",
              "    .colab-df-convert:hover {\n",
              "      background-color: #E2EBFA;\n",
              "      box-shadow: 0px 1px 2px rgba(60, 64, 67, 0.3), 0px 1px 3px 1px rgba(60, 64, 67, 0.15);\n",
              "      fill: #174EA6;\n",
              "    }\n",
              "\n",
              "    [theme=dark] .colab-df-convert {\n",
              "      background-color: #3B4455;\n",
              "      fill: #D2E3FC;\n",
              "    }\n",
              "\n",
              "    [theme=dark] .colab-df-convert:hover {\n",
              "      background-color: #434B5C;\n",
              "      box-shadow: 0px 1px 3px 1px rgba(0, 0, 0, 0.15);\n",
              "      filter: drop-shadow(0px 1px 2px rgba(0, 0, 0, 0.3));\n",
              "      fill: #FFFFFF;\n",
              "    }\n",
              "  </style>\n",
              "\n",
              "      <script>\n",
              "        const buttonEl =\n",
              "          document.querySelector('#df-e4d7eaa7-37ac-4c9e-ab8d-5e63abe409ba button.colab-df-convert');\n",
              "        buttonEl.style.display =\n",
              "          google.colab.kernel.accessAllowed ? 'block' : 'none';\n",
              "\n",
              "        async function convertToInteractive(key) {\n",
              "          const element = document.querySelector('#df-e4d7eaa7-37ac-4c9e-ab8d-5e63abe409ba');\n",
              "          const dataTable =\n",
              "            await google.colab.kernel.invokeFunction('convertToInteractive',\n",
              "                                                     [key], {});\n",
              "          if (!dataTable) return;\n",
              "\n",
              "          const docLinkHtml = 'Like what you see? Visit the ' +\n",
              "            '<a target=\"_blank\" href=https://colab.research.google.com/notebooks/data_table.ipynb>data table notebook</a>'\n",
              "            + ' to learn more about interactive tables.';\n",
              "          element.innerHTML = '';\n",
              "          dataTable['output_type'] = 'display_data';\n",
              "          await google.colab.output.renderOutput(dataTable, element);\n",
              "          const docLink = document.createElement('div');\n",
              "          docLink.innerHTML = docLinkHtml;\n",
              "          element.appendChild(docLink);\n",
              "        }\n",
              "      </script>\n",
              "    </div>\n",
              "  </div>\n",
              "  "
            ]
          },
          "metadata": {},
          "execution_count": 57
        }
      ]
    },
    {
      "cell_type": "code",
      "source": [
        "df_all"
      ],
      "metadata": {
        "colab": {
          "base_uri": "https://localhost:8080/",
          "height": 206
        },
        "id": "o0P3tm47FP2N",
        "outputId": "f7bec689-846f-46fc-d5ee-7a5cfcf401ec"
      },
      "execution_count": 58,
      "outputs": [
        {
          "output_type": "execute_result",
          "data": {
            "text/plain": [
              "   example  similarity normalized  similarity raw  \\\n",
              "0      148               0.140745        0.016048   \n",
              "1      589               0.180767       -0.119204   \n",
              "2      605               0.249735       -0.219944   \n",
              "3      891               0.104379       -0.012725   \n",
              "4      976               0.115270        0.096755   \n",
              "\n",
              "   sim_norm w/ median threshold  sim_norm w/ mean threshold  sim w/ ranks  \n",
              "0                      0.134218                    0.123968      0.805108  \n",
              "1                      0.170673                    0.159155      0.807287  \n",
              "2                      0.233159                    0.219811      0.784505  \n",
              "3                      0.100741                    0.089762      0.799092  \n",
              "4                      0.109309                    0.097665      0.819613  "
            ],
            "text/html": [
              "\n",
              "  <div id=\"df-48b51b20-f502-44ad-bba4-2290923f26c5\">\n",
              "    <div class=\"colab-df-container\">\n",
              "      <div>\n",
              "<style scoped>\n",
              "    .dataframe tbody tr th:only-of-type {\n",
              "        vertical-align: middle;\n",
              "    }\n",
              "\n",
              "    .dataframe tbody tr th {\n",
              "        vertical-align: top;\n",
              "    }\n",
              "\n",
              "    .dataframe thead th {\n",
              "        text-align: right;\n",
              "    }\n",
              "</style>\n",
              "<table border=\"1\" class=\"dataframe\">\n",
              "  <thead>\n",
              "    <tr style=\"text-align: right;\">\n",
              "      <th></th>\n",
              "      <th>example</th>\n",
              "      <th>similarity normalized</th>\n",
              "      <th>similarity raw</th>\n",
              "      <th>sim_norm w/ median threshold</th>\n",
              "      <th>sim_norm w/ mean threshold</th>\n",
              "      <th>sim w/ ranks</th>\n",
              "    </tr>\n",
              "  </thead>\n",
              "  <tbody>\n",
              "    <tr>\n",
              "      <th>0</th>\n",
              "      <td>148</td>\n",
              "      <td>0.140745</td>\n",
              "      <td>0.016048</td>\n",
              "      <td>0.134218</td>\n",
              "      <td>0.123968</td>\n",
              "      <td>0.805108</td>\n",
              "    </tr>\n",
              "    <tr>\n",
              "      <th>1</th>\n",
              "      <td>589</td>\n",
              "      <td>0.180767</td>\n",
              "      <td>-0.119204</td>\n",
              "      <td>0.170673</td>\n",
              "      <td>0.159155</td>\n",
              "      <td>0.807287</td>\n",
              "    </tr>\n",
              "    <tr>\n",
              "      <th>2</th>\n",
              "      <td>605</td>\n",
              "      <td>0.249735</td>\n",
              "      <td>-0.219944</td>\n",
              "      <td>0.233159</td>\n",
              "      <td>0.219811</td>\n",
              "      <td>0.784505</td>\n",
              "    </tr>\n",
              "    <tr>\n",
              "      <th>3</th>\n",
              "      <td>891</td>\n",
              "      <td>0.104379</td>\n",
              "      <td>-0.012725</td>\n",
              "      <td>0.100741</td>\n",
              "      <td>0.089762</td>\n",
              "      <td>0.799092</td>\n",
              "    </tr>\n",
              "    <tr>\n",
              "      <th>4</th>\n",
              "      <td>976</td>\n",
              "      <td>0.115270</td>\n",
              "      <td>0.096755</td>\n",
              "      <td>0.109309</td>\n",
              "      <td>0.097665</td>\n",
              "      <td>0.819613</td>\n",
              "    </tr>\n",
              "  </tbody>\n",
              "</table>\n",
              "</div>\n",
              "      <button class=\"colab-df-convert\" onclick=\"convertToInteractive('df-48b51b20-f502-44ad-bba4-2290923f26c5')\"\n",
              "              title=\"Convert this dataframe to an interactive table.\"\n",
              "              style=\"display:none;\">\n",
              "        \n",
              "  <svg xmlns=\"http://www.w3.org/2000/svg\" height=\"24px\"viewBox=\"0 0 24 24\"\n",
              "       width=\"24px\">\n",
              "    <path d=\"M0 0h24v24H0V0z\" fill=\"none\"/>\n",
              "    <path d=\"M18.56 5.44l.94 2.06.94-2.06 2.06-.94-2.06-.94-.94-2.06-.94 2.06-2.06.94zm-11 1L8.5 8.5l.94-2.06 2.06-.94-2.06-.94L8.5 2.5l-.94 2.06-2.06.94zm10 10l.94 2.06.94-2.06 2.06-.94-2.06-.94-.94-2.06-.94 2.06-2.06.94z\"/><path d=\"M17.41 7.96l-1.37-1.37c-.4-.4-.92-.59-1.43-.59-.52 0-1.04.2-1.43.59L10.3 9.45l-7.72 7.72c-.78.78-.78 2.05 0 2.83L4 21.41c.39.39.9.59 1.41.59.51 0 1.02-.2 1.41-.59l7.78-7.78 2.81-2.81c.8-.78.8-2.07 0-2.86zM5.41 20L4 18.59l7.72-7.72 1.47 1.35L5.41 20z\"/>\n",
              "  </svg>\n",
              "      </button>\n",
              "      \n",
              "  <style>\n",
              "    .colab-df-container {\n",
              "      display:flex;\n",
              "      flex-wrap:wrap;\n",
              "      gap: 12px;\n",
              "    }\n",
              "\n",
              "    .colab-df-convert {\n",
              "      background-color: #E8F0FE;\n",
              "      border: none;\n",
              "      border-radius: 50%;\n",
              "      cursor: pointer;\n",
              "      display: none;\n",
              "      fill: #1967D2;\n",
              "      height: 32px;\n",
              "      padding: 0 0 0 0;\n",
              "      width: 32px;\n",
              "    }\n",
              "\n",
              "    .colab-df-convert:hover {\n",
              "      background-color: #E2EBFA;\n",
              "      box-shadow: 0px 1px 2px rgba(60, 64, 67, 0.3), 0px 1px 3px 1px rgba(60, 64, 67, 0.15);\n",
              "      fill: #174EA6;\n",
              "    }\n",
              "\n",
              "    [theme=dark] .colab-df-convert {\n",
              "      background-color: #3B4455;\n",
              "      fill: #D2E3FC;\n",
              "    }\n",
              "\n",
              "    [theme=dark] .colab-df-convert:hover {\n",
              "      background-color: #434B5C;\n",
              "      box-shadow: 0px 1px 3px 1px rgba(0, 0, 0, 0.15);\n",
              "      filter: drop-shadow(0px 1px 2px rgba(0, 0, 0, 0.3));\n",
              "      fill: #FFFFFF;\n",
              "    }\n",
              "  </style>\n",
              "\n",
              "      <script>\n",
              "        const buttonEl =\n",
              "          document.querySelector('#df-48b51b20-f502-44ad-bba4-2290923f26c5 button.colab-df-convert');\n",
              "        buttonEl.style.display =\n",
              "          google.colab.kernel.accessAllowed ? 'block' : 'none';\n",
              "\n",
              "        async function convertToInteractive(key) {\n",
              "          const element = document.querySelector('#df-48b51b20-f502-44ad-bba4-2290923f26c5');\n",
              "          const dataTable =\n",
              "            await google.colab.kernel.invokeFunction('convertToInteractive',\n",
              "                                                     [key], {});\n",
              "          if (!dataTable) return;\n",
              "\n",
              "          const docLinkHtml = 'Like what you see? Visit the ' +\n",
              "            '<a target=\"_blank\" href=https://colab.research.google.com/notebooks/data_table.ipynb>data table notebook</a>'\n",
              "            + ' to learn more about interactive tables.';\n",
              "          element.innerHTML = '';\n",
              "          dataTable['output_type'] = 'display_data';\n",
              "          await google.colab.output.renderOutput(dataTable, element);\n",
              "          const docLink = document.createElement('div');\n",
              "          docLink.innerHTML = docLinkHtml;\n",
              "          element.appendChild(docLink);\n",
              "        }\n",
              "      </script>\n",
              "    </div>\n",
              "  </div>\n",
              "  "
            ]
          },
          "metadata": {},
          "execution_count": 58
        }
      ]
    },
    {
      "cell_type": "markdown",
      "source": [
        "Append the new row into the dataframe.\n",
        "\n",
        "Comment out if revisiting a dataframe."
      ],
      "metadata": {
        "id": "RSbHulrIOjG7"
      }
    },
    {
      "cell_type": "code",
      "source": [
        "df_layer12 = pd.concat([df, df_layer12], axis=0)\n",
        "df_all = pd.concat([df2, df_all], axis=0)"
      ],
      "metadata": {
        "id": "-xxzlJwpCeX0"
      },
      "execution_count": 59,
      "outputs": []
    },
    {
      "cell_type": "code",
      "source": [
        "df_layer12"
      ],
      "metadata": {
        "colab": {
          "base_uri": "https://localhost:8080/",
          "height": 238
        },
        "id": "pW8I8FIXJWrN",
        "outputId": "b8c2b4c5-f79d-4d07-bf54-2895dc1cefed"
      },
      "execution_count": 60,
      "outputs": [
        {
          "output_type": "execute_result",
          "data": {
            "text/plain": [
              "   example  similarity normalized  similarity raw  \\\n",
              "0      976               0.141923        0.082403   \n",
              "0      148               0.147101       -0.020260   \n",
              "1      589               0.396823       -0.189594   \n",
              "2      605               0.299375       -0.165507   \n",
              "3      891               0.175846        0.022566   \n",
              "4      976               0.141923        0.082403   \n",
              "\n",
              "   sim_norm w/ median threshold  sim_norm w/ mean threshold  sim w/ ranks  \n",
              "0                      0.137433                    0.119868      0.823112  \n",
              "0                      0.142670                    0.123295      0.826202  \n",
              "1                      0.392803                    0.383813      0.791068  \n",
              "2                      0.288221                    0.271128      0.802063  \n",
              "3                      0.173801                    0.157258      0.842796  \n",
              "4                      0.137433                    0.119868      0.823112  "
            ],
            "text/html": [
              "\n",
              "  <div id=\"df-08480cfe-b5dc-4e66-b8ae-fa450ea302b7\">\n",
              "    <div class=\"colab-df-container\">\n",
              "      <div>\n",
              "<style scoped>\n",
              "    .dataframe tbody tr th:only-of-type {\n",
              "        vertical-align: middle;\n",
              "    }\n",
              "\n",
              "    .dataframe tbody tr th {\n",
              "        vertical-align: top;\n",
              "    }\n",
              "\n",
              "    .dataframe thead th {\n",
              "        text-align: right;\n",
              "    }\n",
              "</style>\n",
              "<table border=\"1\" class=\"dataframe\">\n",
              "  <thead>\n",
              "    <tr style=\"text-align: right;\">\n",
              "      <th></th>\n",
              "      <th>example</th>\n",
              "      <th>similarity normalized</th>\n",
              "      <th>similarity raw</th>\n",
              "      <th>sim_norm w/ median threshold</th>\n",
              "      <th>sim_norm w/ mean threshold</th>\n",
              "      <th>sim w/ ranks</th>\n",
              "    </tr>\n",
              "  </thead>\n",
              "  <tbody>\n",
              "    <tr>\n",
              "      <th>0</th>\n",
              "      <td>976</td>\n",
              "      <td>0.141923</td>\n",
              "      <td>0.082403</td>\n",
              "      <td>0.137433</td>\n",
              "      <td>0.119868</td>\n",
              "      <td>0.823112</td>\n",
              "    </tr>\n",
              "    <tr>\n",
              "      <th>0</th>\n",
              "      <td>148</td>\n",
              "      <td>0.147101</td>\n",
              "      <td>-0.020260</td>\n",
              "      <td>0.142670</td>\n",
              "      <td>0.123295</td>\n",
              "      <td>0.826202</td>\n",
              "    </tr>\n",
              "    <tr>\n",
              "      <th>1</th>\n",
              "      <td>589</td>\n",
              "      <td>0.396823</td>\n",
              "      <td>-0.189594</td>\n",
              "      <td>0.392803</td>\n",
              "      <td>0.383813</td>\n",
              "      <td>0.791068</td>\n",
              "    </tr>\n",
              "    <tr>\n",
              "      <th>2</th>\n",
              "      <td>605</td>\n",
              "      <td>0.299375</td>\n",
              "      <td>-0.165507</td>\n",
              "      <td>0.288221</td>\n",
              "      <td>0.271128</td>\n",
              "      <td>0.802063</td>\n",
              "    </tr>\n",
              "    <tr>\n",
              "      <th>3</th>\n",
              "      <td>891</td>\n",
              "      <td>0.175846</td>\n",
              "      <td>0.022566</td>\n",
              "      <td>0.173801</td>\n",
              "      <td>0.157258</td>\n",
              "      <td>0.842796</td>\n",
              "    </tr>\n",
              "    <tr>\n",
              "      <th>4</th>\n",
              "      <td>976</td>\n",
              "      <td>0.141923</td>\n",
              "      <td>0.082403</td>\n",
              "      <td>0.137433</td>\n",
              "      <td>0.119868</td>\n",
              "      <td>0.823112</td>\n",
              "    </tr>\n",
              "  </tbody>\n",
              "</table>\n",
              "</div>\n",
              "      <button class=\"colab-df-convert\" onclick=\"convertToInteractive('df-08480cfe-b5dc-4e66-b8ae-fa450ea302b7')\"\n",
              "              title=\"Convert this dataframe to an interactive table.\"\n",
              "              style=\"display:none;\">\n",
              "        \n",
              "  <svg xmlns=\"http://www.w3.org/2000/svg\" height=\"24px\"viewBox=\"0 0 24 24\"\n",
              "       width=\"24px\">\n",
              "    <path d=\"M0 0h24v24H0V0z\" fill=\"none\"/>\n",
              "    <path d=\"M18.56 5.44l.94 2.06.94-2.06 2.06-.94-2.06-.94-.94-2.06-.94 2.06-2.06.94zm-11 1L8.5 8.5l.94-2.06 2.06-.94-2.06-.94L8.5 2.5l-.94 2.06-2.06.94zm10 10l.94 2.06.94-2.06 2.06-.94-2.06-.94-.94-2.06-.94 2.06-2.06.94z\"/><path d=\"M17.41 7.96l-1.37-1.37c-.4-.4-.92-.59-1.43-.59-.52 0-1.04.2-1.43.59L10.3 9.45l-7.72 7.72c-.78.78-.78 2.05 0 2.83L4 21.41c.39.39.9.59 1.41.59.51 0 1.02-.2 1.41-.59l7.78-7.78 2.81-2.81c.8-.78.8-2.07 0-2.86zM5.41 20L4 18.59l7.72-7.72 1.47 1.35L5.41 20z\"/>\n",
              "  </svg>\n",
              "      </button>\n",
              "      \n",
              "  <style>\n",
              "    .colab-df-container {\n",
              "      display:flex;\n",
              "      flex-wrap:wrap;\n",
              "      gap: 12px;\n",
              "    }\n",
              "\n",
              "    .colab-df-convert {\n",
              "      background-color: #E8F0FE;\n",
              "      border: none;\n",
              "      border-radius: 50%;\n",
              "      cursor: pointer;\n",
              "      display: none;\n",
              "      fill: #1967D2;\n",
              "      height: 32px;\n",
              "      padding: 0 0 0 0;\n",
              "      width: 32px;\n",
              "    }\n",
              "\n",
              "    .colab-df-convert:hover {\n",
              "      background-color: #E2EBFA;\n",
              "      box-shadow: 0px 1px 2px rgba(60, 64, 67, 0.3), 0px 1px 3px 1px rgba(60, 64, 67, 0.15);\n",
              "      fill: #174EA6;\n",
              "    }\n",
              "\n",
              "    [theme=dark] .colab-df-convert {\n",
              "      background-color: #3B4455;\n",
              "      fill: #D2E3FC;\n",
              "    }\n",
              "\n",
              "    [theme=dark] .colab-df-convert:hover {\n",
              "      background-color: #434B5C;\n",
              "      box-shadow: 0px 1px 3px 1px rgba(0, 0, 0, 0.15);\n",
              "      filter: drop-shadow(0px 1px 2px rgba(0, 0, 0, 0.3));\n",
              "      fill: #FFFFFF;\n",
              "    }\n",
              "  </style>\n",
              "\n",
              "      <script>\n",
              "        const buttonEl =\n",
              "          document.querySelector('#df-08480cfe-b5dc-4e66-b8ae-fa450ea302b7 button.colab-df-convert');\n",
              "        buttonEl.style.display =\n",
              "          google.colab.kernel.accessAllowed ? 'block' : 'none';\n",
              "\n",
              "        async function convertToInteractive(key) {\n",
              "          const element = document.querySelector('#df-08480cfe-b5dc-4e66-b8ae-fa450ea302b7');\n",
              "          const dataTable =\n",
              "            await google.colab.kernel.invokeFunction('convertToInteractive',\n",
              "                                                     [key], {});\n",
              "          if (!dataTable) return;\n",
              "\n",
              "          const docLinkHtml = 'Like what you see? Visit the ' +\n",
              "            '<a target=\"_blank\" href=https://colab.research.google.com/notebooks/data_table.ipynb>data table notebook</a>'\n",
              "            + ' to learn more about interactive tables.';\n",
              "          element.innerHTML = '';\n",
              "          dataTable['output_type'] = 'display_data';\n",
              "          await google.colab.output.renderOutput(dataTable, element);\n",
              "          const docLink = document.createElement('div');\n",
              "          docLink.innerHTML = docLinkHtml;\n",
              "          element.appendChild(docLink);\n",
              "        }\n",
              "      </script>\n",
              "    </div>\n",
              "  </div>\n",
              "  "
            ]
          },
          "metadata": {},
          "execution_count": 60
        }
      ]
    },
    {
      "cell_type": "code",
      "source": [
        "df_all"
      ],
      "metadata": {
        "colab": {
          "base_uri": "https://localhost:8080/",
          "height": 238
        },
        "id": "GGbVSSH4JUUG",
        "outputId": "5eb954d3-6621-432e-b18a-34f05faa60e9"
      },
      "execution_count": 61,
      "outputs": [
        {
          "output_type": "execute_result",
          "data": {
            "text/plain": [
              "   example  similarity normalized  similarity raw  \\\n",
              "0      976               0.115270        0.096755   \n",
              "0      148               0.140745        0.016048   \n",
              "1      589               0.180767       -0.119204   \n",
              "2      605               0.249735       -0.219944   \n",
              "3      891               0.104379       -0.012725   \n",
              "4      976               0.115270        0.096755   \n",
              "\n",
              "   sim_norm w/ median threshold  sim_norm w/ mean threshold  sim w/ ranks  \n",
              "0                      0.109309                    0.097665      0.819613  \n",
              "0                      0.134218                    0.123968      0.805108  \n",
              "1                      0.170673                    0.159155      0.807287  \n",
              "2                      0.233159                    0.219811      0.784505  \n",
              "3                      0.100741                    0.089762      0.799092  \n",
              "4                      0.109309                    0.097665      0.819613  "
            ],
            "text/html": [
              "\n",
              "  <div id=\"df-15098151-7100-46f8-97d1-fb84df29b7b2\">\n",
              "    <div class=\"colab-df-container\">\n",
              "      <div>\n",
              "<style scoped>\n",
              "    .dataframe tbody tr th:only-of-type {\n",
              "        vertical-align: middle;\n",
              "    }\n",
              "\n",
              "    .dataframe tbody tr th {\n",
              "        vertical-align: top;\n",
              "    }\n",
              "\n",
              "    .dataframe thead th {\n",
              "        text-align: right;\n",
              "    }\n",
              "</style>\n",
              "<table border=\"1\" class=\"dataframe\">\n",
              "  <thead>\n",
              "    <tr style=\"text-align: right;\">\n",
              "      <th></th>\n",
              "      <th>example</th>\n",
              "      <th>similarity normalized</th>\n",
              "      <th>similarity raw</th>\n",
              "      <th>sim_norm w/ median threshold</th>\n",
              "      <th>sim_norm w/ mean threshold</th>\n",
              "      <th>sim w/ ranks</th>\n",
              "    </tr>\n",
              "  </thead>\n",
              "  <tbody>\n",
              "    <tr>\n",
              "      <th>0</th>\n",
              "      <td>976</td>\n",
              "      <td>0.115270</td>\n",
              "      <td>0.096755</td>\n",
              "      <td>0.109309</td>\n",
              "      <td>0.097665</td>\n",
              "      <td>0.819613</td>\n",
              "    </tr>\n",
              "    <tr>\n",
              "      <th>0</th>\n",
              "      <td>148</td>\n",
              "      <td>0.140745</td>\n",
              "      <td>0.016048</td>\n",
              "      <td>0.134218</td>\n",
              "      <td>0.123968</td>\n",
              "      <td>0.805108</td>\n",
              "    </tr>\n",
              "    <tr>\n",
              "      <th>1</th>\n",
              "      <td>589</td>\n",
              "      <td>0.180767</td>\n",
              "      <td>-0.119204</td>\n",
              "      <td>0.170673</td>\n",
              "      <td>0.159155</td>\n",
              "      <td>0.807287</td>\n",
              "    </tr>\n",
              "    <tr>\n",
              "      <th>2</th>\n",
              "      <td>605</td>\n",
              "      <td>0.249735</td>\n",
              "      <td>-0.219944</td>\n",
              "      <td>0.233159</td>\n",
              "      <td>0.219811</td>\n",
              "      <td>0.784505</td>\n",
              "    </tr>\n",
              "    <tr>\n",
              "      <th>3</th>\n",
              "      <td>891</td>\n",
              "      <td>0.104379</td>\n",
              "      <td>-0.012725</td>\n",
              "      <td>0.100741</td>\n",
              "      <td>0.089762</td>\n",
              "      <td>0.799092</td>\n",
              "    </tr>\n",
              "    <tr>\n",
              "      <th>4</th>\n",
              "      <td>976</td>\n",
              "      <td>0.115270</td>\n",
              "      <td>0.096755</td>\n",
              "      <td>0.109309</td>\n",
              "      <td>0.097665</td>\n",
              "      <td>0.819613</td>\n",
              "    </tr>\n",
              "  </tbody>\n",
              "</table>\n",
              "</div>\n",
              "      <button class=\"colab-df-convert\" onclick=\"convertToInteractive('df-15098151-7100-46f8-97d1-fb84df29b7b2')\"\n",
              "              title=\"Convert this dataframe to an interactive table.\"\n",
              "              style=\"display:none;\">\n",
              "        \n",
              "  <svg xmlns=\"http://www.w3.org/2000/svg\" height=\"24px\"viewBox=\"0 0 24 24\"\n",
              "       width=\"24px\">\n",
              "    <path d=\"M0 0h24v24H0V0z\" fill=\"none\"/>\n",
              "    <path d=\"M18.56 5.44l.94 2.06.94-2.06 2.06-.94-2.06-.94-.94-2.06-.94 2.06-2.06.94zm-11 1L8.5 8.5l.94-2.06 2.06-.94-2.06-.94L8.5 2.5l-.94 2.06-2.06.94zm10 10l.94 2.06.94-2.06 2.06-.94-2.06-.94-.94-2.06-.94 2.06-2.06.94z\"/><path d=\"M17.41 7.96l-1.37-1.37c-.4-.4-.92-.59-1.43-.59-.52 0-1.04.2-1.43.59L10.3 9.45l-7.72 7.72c-.78.78-.78 2.05 0 2.83L4 21.41c.39.39.9.59 1.41.59.51 0 1.02-.2 1.41-.59l7.78-7.78 2.81-2.81c.8-.78.8-2.07 0-2.86zM5.41 20L4 18.59l7.72-7.72 1.47 1.35L5.41 20z\"/>\n",
              "  </svg>\n",
              "      </button>\n",
              "      \n",
              "  <style>\n",
              "    .colab-df-container {\n",
              "      display:flex;\n",
              "      flex-wrap:wrap;\n",
              "      gap: 12px;\n",
              "    }\n",
              "\n",
              "    .colab-df-convert {\n",
              "      background-color: #E8F0FE;\n",
              "      border: none;\n",
              "      border-radius: 50%;\n",
              "      cursor: pointer;\n",
              "      display: none;\n",
              "      fill: #1967D2;\n",
              "      height: 32px;\n",
              "      padding: 0 0 0 0;\n",
              "      width: 32px;\n",
              "    }\n",
              "\n",
              "    .colab-df-convert:hover {\n",
              "      background-color: #E2EBFA;\n",
              "      box-shadow: 0px 1px 2px rgba(60, 64, 67, 0.3), 0px 1px 3px 1px rgba(60, 64, 67, 0.15);\n",
              "      fill: #174EA6;\n",
              "    }\n",
              "\n",
              "    [theme=dark] .colab-df-convert {\n",
              "      background-color: #3B4455;\n",
              "      fill: #D2E3FC;\n",
              "    }\n",
              "\n",
              "    [theme=dark] .colab-df-convert:hover {\n",
              "      background-color: #434B5C;\n",
              "      box-shadow: 0px 1px 3px 1px rgba(0, 0, 0, 0.15);\n",
              "      filter: drop-shadow(0px 1px 2px rgba(0, 0, 0, 0.3));\n",
              "      fill: #FFFFFF;\n",
              "    }\n",
              "  </style>\n",
              "\n",
              "      <script>\n",
              "        const buttonEl =\n",
              "          document.querySelector('#df-15098151-7100-46f8-97d1-fb84df29b7b2 button.colab-df-convert');\n",
              "        buttonEl.style.display =\n",
              "          google.colab.kernel.accessAllowed ? 'block' : 'none';\n",
              "\n",
              "        async function convertToInteractive(key) {\n",
              "          const element = document.querySelector('#df-15098151-7100-46f8-97d1-fb84df29b7b2');\n",
              "          const dataTable =\n",
              "            await google.colab.kernel.invokeFunction('convertToInteractive',\n",
              "                                                     [key], {});\n",
              "          if (!dataTable) return;\n",
              "\n",
              "          const docLinkHtml = 'Like what you see? Visit the ' +\n",
              "            '<a target=\"_blank\" href=https://colab.research.google.com/notebooks/data_table.ipynb>data table notebook</a>'\n",
              "            + ' to learn more about interactive tables.';\n",
              "          element.innerHTML = '';\n",
              "          dataTable['output_type'] = 'display_data';\n",
              "          await google.colab.output.renderOutput(dataTable, element);\n",
              "          const docLink = document.createElement('div');\n",
              "          docLink.innerHTML = docLinkHtml;\n",
              "          element.appendChild(docLink);\n",
              "        }\n",
              "      </script>\n",
              "    </div>\n",
              "  </div>\n",
              "  "
            ]
          },
          "metadata": {},
          "execution_count": 61
        }
      ]
    },
    {
      "cell_type": "code",
      "source": [
        "df_layer12 = df_layer12.sort_values(by=['example'])\n",
        "df_all = df_all.sort_values(by=['example'])"
      ],
      "metadata": {
        "id": "aFUDQ5Q8ojhx"
      },
      "execution_count": 62,
      "outputs": []
    },
    {
      "cell_type": "markdown",
      "source": [
        "Save the dataframe"
      ],
      "metadata": {
        "id": "crIEOZx6OnpZ"
      }
    },
    {
      "cell_type": "code",
      "source": [
        "# df_layer12.to_csv(\"/content/drive/MyDrive/cogs402longformer/results/papers/papers_attributions/cos_sim_layer12.csv\", index=False)\n",
        "# df_all.to_csv(\"/content/drive/MyDrive/cogs402longformer/results/papers/papers_attributions/cos_sim_all.csv\", index=False)"
      ],
      "metadata": {
        "id": "qlQRunAqC3fa"
      },
      "execution_count": 63,
      "outputs": []
    },
    {
      "cell_type": "markdown",
      "source": [
        "We know from the cosine similarities that it does not seem like the attribtions and the attentions are very similar; however, we can find out if there are similarities in the tokens in the highest percentiles.\n"
      ],
      "metadata": {
        "id": "r7kNTsdDTtHO"
      }
    },
    {
      "cell_type": "code",
      "source": [
        "attention_final_layer5 = np.copy(attention_final_layer)\n",
        "attention_final_layer5 = normalize(attention_final_layer5)\n",
        "\n",
        "attention_all_layer5 = np.copy(attention_all_layer) \n",
        "attention_all_layer5 = normalize(attention_all_layer5)\n",
        "\n",
        "exam_attrib5 = np.abs(exam_attrib)\n",
        "exam_attrib5 = normalize(exam_attrib5)\n",
        "print(exam_attrib5)"
      ],
      "metadata": {
        "id": "R3ftA3vQBCu5",
        "colab": {
          "base_uri": "https://localhost:8080/"
        },
        "outputId": "251e3b0e-96c6-4478-92e7-8ef6ee9676c4"
      },
      "execution_count": 64,
      "outputs": [
        {
          "output_type": "stream",
          "name": "stdout",
          "text": [
            "[0.00000000e+00 3.09815393e-03 2.46389383e-04 ... 4.17945981e-05\n",
            " 1.87499117e-03 0.00000000e+00]\n"
          ]
        }
      ]
    },
    {
      "cell_type": "code",
      "source": [
        "top_final = np.percentile(attention_final_layer5, 95)\n",
        "top_all = np.percentile(attention_all_layer5, 95)\n",
        "top_attrib = np.percentile(exam_attrib5, 95)\n",
        "print(top_attrib)"
      ],
      "metadata": {
        "id": "hJAxo97YOCey",
        "colab": {
          "base_uri": "https://localhost:8080/"
        },
        "outputId": "097f2864-bab7-419f-d840-d49409bf2fcd"
      },
      "execution_count": 65,
      "outputs": [
        {
          "output_type": "stream",
          "name": "stdout",
          "text": [
            "0.0348539137587435\n"
          ]
        }
      ]
    },
    {
      "cell_type": "code",
      "source": [
        "attention_final_layer5[attention_final_layer5<top_final] = 0\n",
        "attention_all_layer5[attention_all_layer5<top_all] = 0\n",
        "exam_attrib5[exam_attrib5<top_attrib] = 0"
      ],
      "metadata": {
        "id": "Cejei_JPPQRq"
      },
      "execution_count": 66,
      "outputs": []
    },
    {
      "cell_type": "code",
      "source": [
        "print(exam_attrib5)"
      ],
      "metadata": {
        "colab": {
          "base_uri": "https://localhost:8080/"
        },
        "id": "CLwaUUcUruOl",
        "outputId": "9f0dc494-6f18-4a2b-c620-54165c5f3efc"
      },
      "execution_count": 67,
      "outputs": [
        {
          "output_type": "stream",
          "name": "stdout",
          "text": [
            "[0. 0. 0. ... 0. 0. 0.]\n"
          ]
        }
      ]
    },
    {
      "cell_type": "code",
      "source": [
        "cosine_thresh = np.dot(exam_attrib5, attention_final_layer5) / (norm(exam_attrib5)*norm(attention_final_layer5))\n",
        "print(\"Layer 12 Cosine Similarity 95th:\\n\", cosine_thresh)\n",
        "cosine_thresh2 = np.dot(exam_attrib5, attention_all_layer5) / (norm(exam_attrib5)*norm(attention_all_layer5))\n",
        "print(\"All layer Cosine Similarity 95th:\\n\", cosine_thresh2)"
      ],
      "metadata": {
        "colab": {
          "base_uri": "https://localhost:8080/"
        },
        "id": "avMBmrohlBV1",
        "outputId": "967510a4-e8ba-4fbe-cac1-539e804e6330"
      },
      "execution_count": 68,
      "outputs": [
        {
          "output_type": "stream",
          "name": "stdout",
          "text": [
            "Layer 12 Cosine Similarity 95th:\n",
            " 0.07730618397762203\n",
            "All layer Cosine Similarity 95th:\n",
            " 0.06834394255989426\n"
          ]
        }
      ]
    },
    {
      "cell_type": "code",
      "source": [
        "num = 2048 -np.ceil(2048 * 0.95)\n",
        "exam_attrib_rank2 = np.copy(ranks_attrib)\n",
        "exam_attrib_rank2[exam_attrib_rank2 > num] = 0\n",
        "\n",
        "attention_final_layer_rank2 = np.copy(ranks)\n",
        "attention_final_layer_rank2[attention_final_layer_rank2 > num] = 0\n",
        "\n",
        "attention_all_layer_rank2 = np.copy(ranks2)\n",
        "attention_all_layer_rank2[attention_all_layer_rank2 > num] = 0"
      ],
      "metadata": {
        "id": "uaECjgO-vG0O"
      },
      "execution_count": 69,
      "outputs": []
    },
    {
      "cell_type": "code",
      "source": [
        "cosine_rank_top = np.dot(exam_attrib_rank2, attention_final_layer_rank2) / (norm(exam_attrib_rank2)*norm(attention_final_layer_rank2))\n",
        "print(\"Layer 12 Cosine Similarity 95th ranks:\\n\", cosine_rank_top)\n",
        "cosine_rank_top2 = np.dot(exam_attrib_rank2, attention_all_layer_rank2) / (norm(exam_attrib_rank2)*norm(attention_all_layer_rank2))\n",
        "print(\"All layer Cosine Similarity 95th ranks:\\n\", cosine_rank_top2)"
      ],
      "metadata": {
        "colab": {
          "base_uri": "https://localhost:8080/"
        },
        "id": "axsWfzNSxSc-",
        "outputId": "dc410ae5-982e-44b1-f722-903a5556311c"
      },
      "execution_count": 70,
      "outputs": [
        {
          "output_type": "stream",
          "name": "stdout",
          "text": [
            "Layer 12 Cosine Similarity 95th ranks:\n",
            " 0.09870039419983007\n",
            "All layer Cosine Similarity 95th ranks:\n",
            " 0.05474780961401847\n"
          ]
        }
      ]
    },
    {
      "cell_type": "markdown",
      "source": [
        "Try RBO on the 95th percentile"
      ],
      "metadata": {
        "id": "aTnmOqa0jfGh"
      }
    },
    {
      "cell_type": "code",
      "source": [
        "exam_attrib_order2 = np.copy(order_attrib)\n",
        "\n",
        "attention_final_layer_order2 = np.copy(order)\n",
        "\n",
        "attention_all_layer_order2 = np.copy(order2)"
      ],
      "metadata": {
        "id": "spIj-Y2xjcOI"
      },
      "execution_count": 71,
      "outputs": []
    },
    {
      "cell_type": "code",
      "source": [
        "print(\"rbo layer 12 95th\", rbo.RankingSimilarity(exam_attrib_order2[:int(num)], attention_final_layer_order2[:int(num)]).rbo())\n",
        "print(\"rbo all 95th\", rbo.RankingSimilarity(exam_attrib_order2[:int(num)], attention_all_layer_order2[:int(num)]).rbo())"
      ],
      "metadata": {
        "colab": {
          "base_uri": "https://localhost:8080/"
        },
        "id": "qrKuyQGtjepn",
        "outputId": "a45a4ec0-5960-4172-f4b2-7f4acae4f1dc"
      },
      "execution_count": 72,
      "outputs": [
        {
          "output_type": "stream",
          "name": "stdout",
          "text": [
            "rbo layer 12 95th 0.07311574269242707\n",
            "rbo all 95th 0.04461643100927445\n"
          ]
        }
      ]
    },
    {
      "cell_type": "code",
      "source": [
        "attention_final_layer_top = np.flatnonzero(attention_final_layer5)\n",
        "attention_final_layer_top = set(attention_final_layer_top)\n",
        "\n",
        "attention_all_layer_top = np.flatnonzero(attention_all_layer5)\n",
        "attention_all_layer_top = set(attention_all_layer_top)\n",
        "\n",
        "exam_attrib_top = np.flatnonzero(exam_attrib5)\n",
        "exam_attrib_top = set(exam_attrib_top)\n",
        "print(exam_attrib_top)"
      ],
      "metadata": {
        "id": "mV9EKBe8QIdA",
        "colab": {
          "base_uri": "https://localhost:8080/"
        },
        "outputId": "66609504-b244-4008-ca2b-087464e05ca4"
      },
      "execution_count": 73,
      "outputs": [
        {
          "output_type": "stream",
          "name": "stdout",
          "text": [
            "{1536, 1537, 1538, 1539, 1540, 1543, 1544, 1545, 1553, 27, 1571, 1572, 1576, 1579, 1072, 1591, 1593, 1595, 1601, 1606, 594, 1140, 1655, 1656, 1658, 1659, 634, 1666, 1670, 1677, 144, 1168, 1686, 1687, 1697, 1699, 1700, 1701, 1702, 1703, 1705, 181, 1723, 1734, 1735, 1740, 214, 1751, 1752, 1753, 1763, 1252, 1766, 1767, 749, 750, 751, 752, 1778, 757, 247, 1788, 1789, 1791, 1792, 1793, 1794, 1796, 1797, 1798, 266, 1802, 1803, 1804, 1805, 1806, 1808, 1811, 285, 1311, 1833, 1334, 1335, 1352, 1354, 1362, 343, 1944, 1440, 1459, 1460, 1469, 1480, 1484, 1488, 1493, 1505, 1506, 1508, 1527, 1531, 1534, 1023}\n"
          ]
        }
      ]
    },
    {
      "cell_type": "markdown",
      "source": [
        "Grab the tokens stored in the all tokens dictionary so we can know which tokens we are working with as we currently only have the indices."
      ],
      "metadata": {
        "id": "oM-P3g6fSzsN"
      }
    },
    {
      "cell_type": "code",
      "source": [
        "exam_tokens = all_tokens[str(example)]"
      ],
      "metadata": {
        "id": "hm3JJFcWQfWj"
      },
      "execution_count": 74,
      "outputs": []
    },
    {
      "cell_type": "markdown",
      "source": [
        "Find out which tokens have the highest attentions but not the highest attributions"
      ],
      "metadata": {
        "id": "XJPiXABt6klk"
      }
    },
    {
      "cell_type": "code",
      "source": [
        "diff = sorted(list(attention_final_layer_top - exam_attrib_top))\n",
        "print(len(diff))\n",
        "diff_tokens = [exam_tokens[idx] for idx in diff]\n",
        "d_diff = {\"token\": diff_tokens, \"position\":diff, \"attention_norm\":attention_final_layer2[diff], \"attribution_norm\":exam_attrib2[diff]}\n",
        "df_diff = pd.DataFrame(d_diff)\n",
        "df_diff"
      ],
      "metadata": {
        "colab": {
          "base_uri": "https://localhost:8080/",
          "height": 441
        },
        "id": "02gaQP2cUfZv",
        "outputId": "0fffb5ce-cb11-4217-e366-5370d080fbc8"
      },
      "execution_count": 75,
      "outputs": [
        {
          "output_type": "stream",
          "name": "stdout",
          "text": [
            "78\n"
          ]
        },
        {
          "output_type": "execute_result",
          "data": {
            "text/plain": [
              "        token  position  attention_norm  attribution_norm\n",
              "0         <s>         0        0.079779          0.000000\n",
              "1   ĠLanguage        21        0.048963          0.002372\n",
              "2         ĠAI       126        0.097651          0.034024\n",
              "3      Ġimage       137        0.059384          0.012456\n",
              "4    Ġcaption       138        0.053254          0.001756\n",
              "..        ...       ...             ...               ...\n",
              "73          .      1724        0.662315          0.014613\n",
              "74          .      1892        0.637964          0.025349\n",
              "75          .      1909        0.612990          0.026341\n",
              "76    Ġlearns      1993        0.058394          0.007427\n",
              "77          .      2006        0.519041          0.006189\n",
              "\n",
              "[78 rows x 4 columns]"
            ],
            "text/html": [
              "\n",
              "  <div id=\"df-85ac60f7-db54-4238-a03b-daf285d8848c\">\n",
              "    <div class=\"colab-df-container\">\n",
              "      <div>\n",
              "<style scoped>\n",
              "    .dataframe tbody tr th:only-of-type {\n",
              "        vertical-align: middle;\n",
              "    }\n",
              "\n",
              "    .dataframe tbody tr th {\n",
              "        vertical-align: top;\n",
              "    }\n",
              "\n",
              "    .dataframe thead th {\n",
              "        text-align: right;\n",
              "    }\n",
              "</style>\n",
              "<table border=\"1\" class=\"dataframe\">\n",
              "  <thead>\n",
              "    <tr style=\"text-align: right;\">\n",
              "      <th></th>\n",
              "      <th>token</th>\n",
              "      <th>position</th>\n",
              "      <th>attention_norm</th>\n",
              "      <th>attribution_norm</th>\n",
              "    </tr>\n",
              "  </thead>\n",
              "  <tbody>\n",
              "    <tr>\n",
              "      <th>0</th>\n",
              "      <td>&lt;s&gt;</td>\n",
              "      <td>0</td>\n",
              "      <td>0.079779</td>\n",
              "      <td>0.000000</td>\n",
              "    </tr>\n",
              "    <tr>\n",
              "      <th>1</th>\n",
              "      <td>ĠLanguage</td>\n",
              "      <td>21</td>\n",
              "      <td>0.048963</td>\n",
              "      <td>0.002372</td>\n",
              "    </tr>\n",
              "    <tr>\n",
              "      <th>2</th>\n",
              "      <td>ĠAI</td>\n",
              "      <td>126</td>\n",
              "      <td>0.097651</td>\n",
              "      <td>0.034024</td>\n",
              "    </tr>\n",
              "    <tr>\n",
              "      <th>3</th>\n",
              "      <td>Ġimage</td>\n",
              "      <td>137</td>\n",
              "      <td>0.059384</td>\n",
              "      <td>0.012456</td>\n",
              "    </tr>\n",
              "    <tr>\n",
              "      <th>4</th>\n",
              "      <td>Ġcaption</td>\n",
              "      <td>138</td>\n",
              "      <td>0.053254</td>\n",
              "      <td>0.001756</td>\n",
              "    </tr>\n",
              "    <tr>\n",
              "      <th>...</th>\n",
              "      <td>...</td>\n",
              "      <td>...</td>\n",
              "      <td>...</td>\n",
              "      <td>...</td>\n",
              "    </tr>\n",
              "    <tr>\n",
              "      <th>73</th>\n",
              "      <td>.</td>\n",
              "      <td>1724</td>\n",
              "      <td>0.662315</td>\n",
              "      <td>0.014613</td>\n",
              "    </tr>\n",
              "    <tr>\n",
              "      <th>74</th>\n",
              "      <td>.</td>\n",
              "      <td>1892</td>\n",
              "      <td>0.637964</td>\n",
              "      <td>0.025349</td>\n",
              "    </tr>\n",
              "    <tr>\n",
              "      <th>75</th>\n",
              "      <td>.</td>\n",
              "      <td>1909</td>\n",
              "      <td>0.612990</td>\n",
              "      <td>0.026341</td>\n",
              "    </tr>\n",
              "    <tr>\n",
              "      <th>76</th>\n",
              "      <td>Ġlearns</td>\n",
              "      <td>1993</td>\n",
              "      <td>0.058394</td>\n",
              "      <td>0.007427</td>\n",
              "    </tr>\n",
              "    <tr>\n",
              "      <th>77</th>\n",
              "      <td>.</td>\n",
              "      <td>2006</td>\n",
              "      <td>0.519041</td>\n",
              "      <td>0.006189</td>\n",
              "    </tr>\n",
              "  </tbody>\n",
              "</table>\n",
              "<p>78 rows × 4 columns</p>\n",
              "</div>\n",
              "      <button class=\"colab-df-convert\" onclick=\"convertToInteractive('df-85ac60f7-db54-4238-a03b-daf285d8848c')\"\n",
              "              title=\"Convert this dataframe to an interactive table.\"\n",
              "              style=\"display:none;\">\n",
              "        \n",
              "  <svg xmlns=\"http://www.w3.org/2000/svg\" height=\"24px\"viewBox=\"0 0 24 24\"\n",
              "       width=\"24px\">\n",
              "    <path d=\"M0 0h24v24H0V0z\" fill=\"none\"/>\n",
              "    <path d=\"M18.56 5.44l.94 2.06.94-2.06 2.06-.94-2.06-.94-.94-2.06-.94 2.06-2.06.94zm-11 1L8.5 8.5l.94-2.06 2.06-.94-2.06-.94L8.5 2.5l-.94 2.06-2.06.94zm10 10l.94 2.06.94-2.06 2.06-.94-2.06-.94-.94-2.06-.94 2.06-2.06.94z\"/><path d=\"M17.41 7.96l-1.37-1.37c-.4-.4-.92-.59-1.43-.59-.52 0-1.04.2-1.43.59L10.3 9.45l-7.72 7.72c-.78.78-.78 2.05 0 2.83L4 21.41c.39.39.9.59 1.41.59.51 0 1.02-.2 1.41-.59l7.78-7.78 2.81-2.81c.8-.78.8-2.07 0-2.86zM5.41 20L4 18.59l7.72-7.72 1.47 1.35L5.41 20z\"/>\n",
              "  </svg>\n",
              "      </button>\n",
              "      \n",
              "  <style>\n",
              "    .colab-df-container {\n",
              "      display:flex;\n",
              "      flex-wrap:wrap;\n",
              "      gap: 12px;\n",
              "    }\n",
              "\n",
              "    .colab-df-convert {\n",
              "      background-color: #E8F0FE;\n",
              "      border: none;\n",
              "      border-radius: 50%;\n",
              "      cursor: pointer;\n",
              "      display: none;\n",
              "      fill: #1967D2;\n",
              "      height: 32px;\n",
              "      padding: 0 0 0 0;\n",
              "      width: 32px;\n",
              "    }\n",
              "\n",
              "    .colab-df-convert:hover {\n",
              "      background-color: #E2EBFA;\n",
              "      box-shadow: 0px 1px 2px rgba(60, 64, 67, 0.3), 0px 1px 3px 1px rgba(60, 64, 67, 0.15);\n",
              "      fill: #174EA6;\n",
              "    }\n",
              "\n",
              "    [theme=dark] .colab-df-convert {\n",
              "      background-color: #3B4455;\n",
              "      fill: #D2E3FC;\n",
              "    }\n",
              "\n",
              "    [theme=dark] .colab-df-convert:hover {\n",
              "      background-color: #434B5C;\n",
              "      box-shadow: 0px 1px 3px 1px rgba(0, 0, 0, 0.15);\n",
              "      filter: drop-shadow(0px 1px 2px rgba(0, 0, 0, 0.3));\n",
              "      fill: #FFFFFF;\n",
              "    }\n",
              "  </style>\n",
              "\n",
              "      <script>\n",
              "        const buttonEl =\n",
              "          document.querySelector('#df-85ac60f7-db54-4238-a03b-daf285d8848c button.colab-df-convert');\n",
              "        buttonEl.style.display =\n",
              "          google.colab.kernel.accessAllowed ? 'block' : 'none';\n",
              "\n",
              "        async function convertToInteractive(key) {\n",
              "          const element = document.querySelector('#df-85ac60f7-db54-4238-a03b-daf285d8848c');\n",
              "          const dataTable =\n",
              "            await google.colab.kernel.invokeFunction('convertToInteractive',\n",
              "                                                     [key], {});\n",
              "          if (!dataTable) return;\n",
              "\n",
              "          const docLinkHtml = 'Like what you see? Visit the ' +\n",
              "            '<a target=\"_blank\" href=https://colab.research.google.com/notebooks/data_table.ipynb>data table notebook</a>'\n",
              "            + ' to learn more about interactive tables.';\n",
              "          element.innerHTML = '';\n",
              "          dataTable['output_type'] = 'display_data';\n",
              "          await google.colab.output.renderOutput(dataTable, element);\n",
              "          const docLink = document.createElement('div');\n",
              "          docLink.innerHTML = docLinkHtml;\n",
              "          element.appendChild(docLink);\n",
              "        }\n",
              "      </script>\n",
              "    </div>\n",
              "  </div>\n",
              "  "
            ]
          },
          "metadata": {},
          "execution_count": 75
        }
      ]
    },
    {
      "cell_type": "code",
      "source": [
        "print(df_diff['token'].value_counts())"
      ],
      "metadata": {
        "colab": {
          "base_uri": "https://localhost:8080/"
        },
        "id": "xtN0uGi7LlTT",
        "outputId": "6efc8a57-691a-455e-8401-09497ab22d84"
      },
      "execution_count": 76,
      "outputs": [
        {
          "output_type": "stream",
          "name": "stdout",
          "text": [
            ".               26\n",
            "Ġcaption         9\n",
            "Ġtraining        4\n",
            "Ġadvers          3\n",
            "ing              3\n",
            "arial            3\n",
            "Ġgeneration      2\n",
            "Ġimage           2\n",
            "Ġgenerated       2\n",
            "Ġword            2\n",
            "Ġthe             2\n",
            "Ġhuman           1\n",
            "ĠCaption         1\n",
            "Ġchallenge       1\n",
            "Ġdeep            1\n",
            "truth            1\n",
            "Ġrecognizing     1\n",
            "Ġperformance     1\n",
            "Ġvisual          1\n",
            "Ġon              1\n",
            "<s>              1\n",
            "Ġlanguage        1\n",
            "Ġmedia           1\n",
            "Ġskiing          1\n",
            "ĠLanguage        1\n",
            "Ġlearning        1\n",
            "Ġwritten         1\n",
            "Ġtask            1\n",
            "Ġvocabulary      1\n",
            "ĠAI              1\n",
            "Ġlearns          1\n",
            "Name: token, dtype: int64\n"
          ]
        }
      ]
    },
    {
      "cell_type": "markdown",
      "source": [
        "Find out which tokens have the highest attributions but not the highest attentions"
      ],
      "metadata": {
        "id": "s1Mw4yzv62iA"
      }
    },
    {
      "cell_type": "code",
      "source": [
        "diff2 = sorted(list(exam_attrib_top - attention_final_layer_top))\n",
        "print(len(diff))\n",
        "diff_tokens2 = [exam_tokens[idx] for idx in diff2]\n",
        "d_diff2 = {\"token\": diff_tokens2, \"position\":diff2, \"attention_norm\": attention_final_layer2[diff2], \"attribution_norm\":exam_attrib2[diff2]}\n",
        "df_diff2 = pd.DataFrame(d_diff2)\n",
        "df_diff2"
      ],
      "metadata": {
        "colab": {
          "base_uri": "https://localhost:8080/",
          "height": 441
        },
        "id": "SUJBtsFvoITx",
        "outputId": "e3c5dc86-8d14-41fb-9f40-475a36db77da"
      },
      "execution_count": 77,
      "outputs": [
        {
          "output_type": "stream",
          "name": "stdout",
          "text": [
            "78\n"
          ]
        },
        {
          "output_type": "execute_result",
          "data": {
            "text/plain": [
              "          token  position  attention_norm  attribution_norm\n",
              "0        ĠHuman        27        0.037913          0.039440\n",
              "1        Ġhuman       144        0.042408          0.099735\n",
              "2        Ġhuman       247        0.027774          0.042492\n",
              "3        Ġhuman       285        0.033306          0.037411\n",
              "4        Ġhuman       343        0.042498          0.125968\n",
              "..          ...       ...             ...               ...\n",
              "73  Ġapproaches      1805        0.016504          0.083835\n",
              "74          Ġto      1806        0.015066          0.040588\n",
              "75    Ġoptimize      1808        0.017454          0.048320\n",
              "76     Ġmetrics      1811        0.010456          0.070791\n",
              "77     Ġmetrics      1833        0.004517          0.052813\n",
              "\n",
              "[78 rows x 4 columns]"
            ],
            "text/html": [
              "\n",
              "  <div id=\"df-eaba7b1b-5efd-46f7-812c-55d911d87abe\">\n",
              "    <div class=\"colab-df-container\">\n",
              "      <div>\n",
              "<style scoped>\n",
              "    .dataframe tbody tr th:only-of-type {\n",
              "        vertical-align: middle;\n",
              "    }\n",
              "\n",
              "    .dataframe tbody tr th {\n",
              "        vertical-align: top;\n",
              "    }\n",
              "\n",
              "    .dataframe thead th {\n",
              "        text-align: right;\n",
              "    }\n",
              "</style>\n",
              "<table border=\"1\" class=\"dataframe\">\n",
              "  <thead>\n",
              "    <tr style=\"text-align: right;\">\n",
              "      <th></th>\n",
              "      <th>token</th>\n",
              "      <th>position</th>\n",
              "      <th>attention_norm</th>\n",
              "      <th>attribution_norm</th>\n",
              "    </tr>\n",
              "  </thead>\n",
              "  <tbody>\n",
              "    <tr>\n",
              "      <th>0</th>\n",
              "      <td>ĠHuman</td>\n",
              "      <td>27</td>\n",
              "      <td>0.037913</td>\n",
              "      <td>0.039440</td>\n",
              "    </tr>\n",
              "    <tr>\n",
              "      <th>1</th>\n",
              "      <td>Ġhuman</td>\n",
              "      <td>144</td>\n",
              "      <td>0.042408</td>\n",
              "      <td>0.099735</td>\n",
              "    </tr>\n",
              "    <tr>\n",
              "      <th>2</th>\n",
              "      <td>Ġhuman</td>\n",
              "      <td>247</td>\n",
              "      <td>0.027774</td>\n",
              "      <td>0.042492</td>\n",
              "    </tr>\n",
              "    <tr>\n",
              "      <th>3</th>\n",
              "      <td>Ġhuman</td>\n",
              "      <td>285</td>\n",
              "      <td>0.033306</td>\n",
              "      <td>0.037411</td>\n",
              "    </tr>\n",
              "    <tr>\n",
              "      <th>4</th>\n",
              "      <td>Ġhuman</td>\n",
              "      <td>343</td>\n",
              "      <td>0.042498</td>\n",
              "      <td>0.125968</td>\n",
              "    </tr>\n",
              "    <tr>\n",
              "      <th>...</th>\n",
              "      <td>...</td>\n",
              "      <td>...</td>\n",
              "      <td>...</td>\n",
              "      <td>...</td>\n",
              "    </tr>\n",
              "    <tr>\n",
              "      <th>73</th>\n",
              "      <td>Ġapproaches</td>\n",
              "      <td>1805</td>\n",
              "      <td>0.016504</td>\n",
              "      <td>0.083835</td>\n",
              "    </tr>\n",
              "    <tr>\n",
              "      <th>74</th>\n",
              "      <td>Ġto</td>\n",
              "      <td>1806</td>\n",
              "      <td>0.015066</td>\n",
              "      <td>0.040588</td>\n",
              "    </tr>\n",
              "    <tr>\n",
              "      <th>75</th>\n",
              "      <td>Ġoptimize</td>\n",
              "      <td>1808</td>\n",
              "      <td>0.017454</td>\n",
              "      <td>0.048320</td>\n",
              "    </tr>\n",
              "    <tr>\n",
              "      <th>76</th>\n",
              "      <td>Ġmetrics</td>\n",
              "      <td>1811</td>\n",
              "      <td>0.010456</td>\n",
              "      <td>0.070791</td>\n",
              "    </tr>\n",
              "    <tr>\n",
              "      <th>77</th>\n",
              "      <td>Ġmetrics</td>\n",
              "      <td>1833</td>\n",
              "      <td>0.004517</td>\n",
              "      <td>0.052813</td>\n",
              "    </tr>\n",
              "  </tbody>\n",
              "</table>\n",
              "<p>78 rows × 4 columns</p>\n",
              "</div>\n",
              "      <button class=\"colab-df-convert\" onclick=\"convertToInteractive('df-eaba7b1b-5efd-46f7-812c-55d911d87abe')\"\n",
              "              title=\"Convert this dataframe to an interactive table.\"\n",
              "              style=\"display:none;\">\n",
              "        \n",
              "  <svg xmlns=\"http://www.w3.org/2000/svg\" height=\"24px\"viewBox=\"0 0 24 24\"\n",
              "       width=\"24px\">\n",
              "    <path d=\"M0 0h24v24H0V0z\" fill=\"none\"/>\n",
              "    <path d=\"M18.56 5.44l.94 2.06.94-2.06 2.06-.94-2.06-.94-.94-2.06-.94 2.06-2.06.94zm-11 1L8.5 8.5l.94-2.06 2.06-.94-2.06-.94L8.5 2.5l-.94 2.06-2.06.94zm10 10l.94 2.06.94-2.06 2.06-.94-2.06-.94-.94-2.06-.94 2.06-2.06.94z\"/><path d=\"M17.41 7.96l-1.37-1.37c-.4-.4-.92-.59-1.43-.59-.52 0-1.04.2-1.43.59L10.3 9.45l-7.72 7.72c-.78.78-.78 2.05 0 2.83L4 21.41c.39.39.9.59 1.41.59.51 0 1.02-.2 1.41-.59l7.78-7.78 2.81-2.81c.8-.78.8-2.07 0-2.86zM5.41 20L4 18.59l7.72-7.72 1.47 1.35L5.41 20z\"/>\n",
              "  </svg>\n",
              "      </button>\n",
              "      \n",
              "  <style>\n",
              "    .colab-df-container {\n",
              "      display:flex;\n",
              "      flex-wrap:wrap;\n",
              "      gap: 12px;\n",
              "    }\n",
              "\n",
              "    .colab-df-convert {\n",
              "      background-color: #E8F0FE;\n",
              "      border: none;\n",
              "      border-radius: 50%;\n",
              "      cursor: pointer;\n",
              "      display: none;\n",
              "      fill: #1967D2;\n",
              "      height: 32px;\n",
              "      padding: 0 0 0 0;\n",
              "      width: 32px;\n",
              "    }\n",
              "\n",
              "    .colab-df-convert:hover {\n",
              "      background-color: #E2EBFA;\n",
              "      box-shadow: 0px 1px 2px rgba(60, 64, 67, 0.3), 0px 1px 3px 1px rgba(60, 64, 67, 0.15);\n",
              "      fill: #174EA6;\n",
              "    }\n",
              "\n",
              "    [theme=dark] .colab-df-convert {\n",
              "      background-color: #3B4455;\n",
              "      fill: #D2E3FC;\n",
              "    }\n",
              "\n",
              "    [theme=dark] .colab-df-convert:hover {\n",
              "      background-color: #434B5C;\n",
              "      box-shadow: 0px 1px 3px 1px rgba(0, 0, 0, 0.15);\n",
              "      filter: drop-shadow(0px 1px 2px rgba(0, 0, 0, 0.3));\n",
              "      fill: #FFFFFF;\n",
              "    }\n",
              "  </style>\n",
              "\n",
              "      <script>\n",
              "        const buttonEl =\n",
              "          document.querySelector('#df-eaba7b1b-5efd-46f7-812c-55d911d87abe button.colab-df-convert');\n",
              "        buttonEl.style.display =\n",
              "          google.colab.kernel.accessAllowed ? 'block' : 'none';\n",
              "\n",
              "        async function convertToInteractive(key) {\n",
              "          const element = document.querySelector('#df-eaba7b1b-5efd-46f7-812c-55d911d87abe');\n",
              "          const dataTable =\n",
              "            await google.colab.kernel.invokeFunction('convertToInteractive',\n",
              "                                                     [key], {});\n",
              "          if (!dataTable) return;\n",
              "\n",
              "          const docLinkHtml = 'Like what you see? Visit the ' +\n",
              "            '<a target=\"_blank\" href=https://colab.research.google.com/notebooks/data_table.ipynb>data table notebook</a>'\n",
              "            + ' to learn more about interactive tables.';\n",
              "          element.innerHTML = '';\n",
              "          dataTable['output_type'] = 'display_data';\n",
              "          await google.colab.output.renderOutput(dataTable, element);\n",
              "          const docLink = document.createElement('div');\n",
              "          docLink.innerHTML = docLinkHtml;\n",
              "          element.appendChild(docLink);\n",
              "        }\n",
              "      </script>\n",
              "    </div>\n",
              "  </div>\n",
              "  "
            ]
          },
          "metadata": {},
          "execution_count": 77
        }
      ]
    },
    {
      "cell_type": "code",
      "source": [
        "print(df_diff2['token'].value_counts())"
      ],
      "metadata": {
        "colab": {
          "base_uri": "https://localhost:8080/"
        },
        "id": "q9EQU04lMKxc",
        "outputId": "7ea8f8f7-d5e3-4174-97c8-909a6a1253be"
      },
      "execution_count": 78,
      "outputs": [
        {
          "output_type": "stream",
          "name": "stdout",
          "text": [
            "Ġtraining        8\n",
            "Ġhuman           7\n",
            "Ġmodel           4\n",
            "Ġto              4\n",
            "Ġdiversity       2\n",
            "Ġa               2\n",
            "Ġsampling        2\n",
            "Ġmethod          2\n",
            "Ġmetrics         2\n",
            "Ġbias            2\n",
            "Ġmodels          2\n",
            "Ġexposure        1\n",
            "Ġscheme          1\n",
            "Ġwhich           1\n",
            "Ġoptimize        1\n",
            "Ġbegins          1\n",
            "Ġalgorithm       1\n",
            "Ġoptimal         1\n",
            "Ġdata            1\n",
            "Ġdistribution    1\n",
            "Ġhave            1\n",
            "Ġfollowed        1\n",
            "Ġstandard        1\n",
            "Ġmaximum         1\n",
            "Ġapproaches      1\n",
            "Ġbased           1\n",
            "ĠSeveral         1\n",
            "Ġthis            1\n",
            "Ġother           1\n",
            "Ġscore           1\n",
            "ĠHuman           1\n",
            "Ġduring          1\n",
            "Ġdifferent       1\n",
            "Ġeasy            1\n",
            "Ġfor             1\n",
            "Ġstatistics      1\n",
            "Ġstatistical     1\n",
            ".                1\n",
            "Ġ[               1\n",
            "Ġattempts        1\n",
            "Ġthe             1\n",
            "Ġloss            1\n",
            "Ġonly            1\n",
            "Ġas              1\n",
            "Ġafter           1\n",
            "Ġhas             1\n",
            "Ġsentences       1\n",
            "-                1\n",
            "Ġstudied         1\n",
            "].               1\n",
            "Ġword            1\n",
            "Ġdescription     1\n",
            "Name: token, dtype: int64\n"
          ]
        }
      ]
    },
    {
      "cell_type": "markdown",
      "source": [
        "Find out which tokens are part of the highest attentions and highest attributions."
      ],
      "metadata": {
        "id": "i7KUR67I68i9"
      }
    },
    {
      "cell_type": "code",
      "source": [
        "same = sorted(list(attention_final_layer_top & exam_attrib_top))\n",
        "print(len(same))\n",
        "same_tokens = [exam_tokens[idx] for idx in same]\n",
        "d_same = {\"token\": same_tokens, \"position\":same, \"attention_norm\": attention_final_layer2[same], \"attribution_norm\":exam_attrib2[same]}\n",
        "df_same = pd.DataFrame(d_same)\n",
        "df_same"
      ],
      "metadata": {
        "colab": {
          "base_uri": "https://localhost:8080/",
          "height": 851
        },
        "id": "k4VAamjiUvr0",
        "outputId": "36684135-88b7-479d-b960-0b70148f038a"
      },
      "execution_count": 79,
      "outputs": [
        {
          "output_type": "stream",
          "name": "stdout",
          "text": [
            "25\n"
          ]
        },
        {
          "output_type": "execute_result",
          "data": {
            "text/plain": [
              "             token  position  attention_norm  attribution_norm\n",
              "0          Ġhumans       181        0.050926          0.035158\n",
              "1                .       214        0.989555          0.049528\n",
              "2        Ġtraining       266        0.077135          0.063398\n",
              "3          Ġhumans       751        0.053678          0.158666\n",
              "4                .      1072        0.858290          0.035006\n",
              "5                .      1140        0.720484          0.036191\n",
              "6                .      1168        0.667895          0.044381\n",
              "7        Ġlanguage      1334        0.076873          0.306745\n",
              "8     Ġtranslation      1354        0.045904          0.038866\n",
              "9        Ġlearning      1362        0.085313          0.077581\n",
              "10               .      1440        0.557209          0.071849\n",
              "11               .      1480        0.537277          0.034875\n",
              "12               .      1508        0.548842          0.121578\n",
              "13       Ġlearning      1531        0.071748          0.063845\n",
              "14       Ġlanguage      1571        0.077070          0.188859\n",
              "15     Ġlinguistic      1579        0.073736          0.141394\n",
              "16               .      1656        0.585431          0.041544\n",
              "17          Ġlearn      1677        0.060387          0.044794\n",
              "18       Ġtraining      1700        0.056196          0.742092\n",
              "19               .      1753        0.696098          0.043495\n",
              "20       Ġtraining      1791        0.047817          0.578020\n",
              "21               .      1792        0.752264          0.278625\n",
              "22  Ġreinforcement      1802        0.060408          0.076461\n",
              "23       Ġlearning      1803        0.070812          0.183247\n",
              "24               .      1944        0.575170          0.073402"
            ],
            "text/html": [
              "\n",
              "  <div id=\"df-03948def-0b33-465e-ae6a-5adaf90122b9\">\n",
              "    <div class=\"colab-df-container\">\n",
              "      <div>\n",
              "<style scoped>\n",
              "    .dataframe tbody tr th:only-of-type {\n",
              "        vertical-align: middle;\n",
              "    }\n",
              "\n",
              "    .dataframe tbody tr th {\n",
              "        vertical-align: top;\n",
              "    }\n",
              "\n",
              "    .dataframe thead th {\n",
              "        text-align: right;\n",
              "    }\n",
              "</style>\n",
              "<table border=\"1\" class=\"dataframe\">\n",
              "  <thead>\n",
              "    <tr style=\"text-align: right;\">\n",
              "      <th></th>\n",
              "      <th>token</th>\n",
              "      <th>position</th>\n",
              "      <th>attention_norm</th>\n",
              "      <th>attribution_norm</th>\n",
              "    </tr>\n",
              "  </thead>\n",
              "  <tbody>\n",
              "    <tr>\n",
              "      <th>0</th>\n",
              "      <td>Ġhumans</td>\n",
              "      <td>181</td>\n",
              "      <td>0.050926</td>\n",
              "      <td>0.035158</td>\n",
              "    </tr>\n",
              "    <tr>\n",
              "      <th>1</th>\n",
              "      <td>.</td>\n",
              "      <td>214</td>\n",
              "      <td>0.989555</td>\n",
              "      <td>0.049528</td>\n",
              "    </tr>\n",
              "    <tr>\n",
              "      <th>2</th>\n",
              "      <td>Ġtraining</td>\n",
              "      <td>266</td>\n",
              "      <td>0.077135</td>\n",
              "      <td>0.063398</td>\n",
              "    </tr>\n",
              "    <tr>\n",
              "      <th>3</th>\n",
              "      <td>Ġhumans</td>\n",
              "      <td>751</td>\n",
              "      <td>0.053678</td>\n",
              "      <td>0.158666</td>\n",
              "    </tr>\n",
              "    <tr>\n",
              "      <th>4</th>\n",
              "      <td>.</td>\n",
              "      <td>1072</td>\n",
              "      <td>0.858290</td>\n",
              "      <td>0.035006</td>\n",
              "    </tr>\n",
              "    <tr>\n",
              "      <th>5</th>\n",
              "      <td>.</td>\n",
              "      <td>1140</td>\n",
              "      <td>0.720484</td>\n",
              "      <td>0.036191</td>\n",
              "    </tr>\n",
              "    <tr>\n",
              "      <th>6</th>\n",
              "      <td>.</td>\n",
              "      <td>1168</td>\n",
              "      <td>0.667895</td>\n",
              "      <td>0.044381</td>\n",
              "    </tr>\n",
              "    <tr>\n",
              "      <th>7</th>\n",
              "      <td>Ġlanguage</td>\n",
              "      <td>1334</td>\n",
              "      <td>0.076873</td>\n",
              "      <td>0.306745</td>\n",
              "    </tr>\n",
              "    <tr>\n",
              "      <th>8</th>\n",
              "      <td>Ġtranslation</td>\n",
              "      <td>1354</td>\n",
              "      <td>0.045904</td>\n",
              "      <td>0.038866</td>\n",
              "    </tr>\n",
              "    <tr>\n",
              "      <th>9</th>\n",
              "      <td>Ġlearning</td>\n",
              "      <td>1362</td>\n",
              "      <td>0.085313</td>\n",
              "      <td>0.077581</td>\n",
              "    </tr>\n",
              "    <tr>\n",
              "      <th>10</th>\n",
              "      <td>.</td>\n",
              "      <td>1440</td>\n",
              "      <td>0.557209</td>\n",
              "      <td>0.071849</td>\n",
              "    </tr>\n",
              "    <tr>\n",
              "      <th>11</th>\n",
              "      <td>.</td>\n",
              "      <td>1480</td>\n",
              "      <td>0.537277</td>\n",
              "      <td>0.034875</td>\n",
              "    </tr>\n",
              "    <tr>\n",
              "      <th>12</th>\n",
              "      <td>.</td>\n",
              "      <td>1508</td>\n",
              "      <td>0.548842</td>\n",
              "      <td>0.121578</td>\n",
              "    </tr>\n",
              "    <tr>\n",
              "      <th>13</th>\n",
              "      <td>Ġlearning</td>\n",
              "      <td>1531</td>\n",
              "      <td>0.071748</td>\n",
              "      <td>0.063845</td>\n",
              "    </tr>\n",
              "    <tr>\n",
              "      <th>14</th>\n",
              "      <td>Ġlanguage</td>\n",
              "      <td>1571</td>\n",
              "      <td>0.077070</td>\n",
              "      <td>0.188859</td>\n",
              "    </tr>\n",
              "    <tr>\n",
              "      <th>15</th>\n",
              "      <td>Ġlinguistic</td>\n",
              "      <td>1579</td>\n",
              "      <td>0.073736</td>\n",
              "      <td>0.141394</td>\n",
              "    </tr>\n",
              "    <tr>\n",
              "      <th>16</th>\n",
              "      <td>.</td>\n",
              "      <td>1656</td>\n",
              "      <td>0.585431</td>\n",
              "      <td>0.041544</td>\n",
              "    </tr>\n",
              "    <tr>\n",
              "      <th>17</th>\n",
              "      <td>Ġlearn</td>\n",
              "      <td>1677</td>\n",
              "      <td>0.060387</td>\n",
              "      <td>0.044794</td>\n",
              "    </tr>\n",
              "    <tr>\n",
              "      <th>18</th>\n",
              "      <td>Ġtraining</td>\n",
              "      <td>1700</td>\n",
              "      <td>0.056196</td>\n",
              "      <td>0.742092</td>\n",
              "    </tr>\n",
              "    <tr>\n",
              "      <th>19</th>\n",
              "      <td>.</td>\n",
              "      <td>1753</td>\n",
              "      <td>0.696098</td>\n",
              "      <td>0.043495</td>\n",
              "    </tr>\n",
              "    <tr>\n",
              "      <th>20</th>\n",
              "      <td>Ġtraining</td>\n",
              "      <td>1791</td>\n",
              "      <td>0.047817</td>\n",
              "      <td>0.578020</td>\n",
              "    </tr>\n",
              "    <tr>\n",
              "      <th>21</th>\n",
              "      <td>.</td>\n",
              "      <td>1792</td>\n",
              "      <td>0.752264</td>\n",
              "      <td>0.278625</td>\n",
              "    </tr>\n",
              "    <tr>\n",
              "      <th>22</th>\n",
              "      <td>Ġreinforcement</td>\n",
              "      <td>1802</td>\n",
              "      <td>0.060408</td>\n",
              "      <td>0.076461</td>\n",
              "    </tr>\n",
              "    <tr>\n",
              "      <th>23</th>\n",
              "      <td>Ġlearning</td>\n",
              "      <td>1803</td>\n",
              "      <td>0.070812</td>\n",
              "      <td>0.183247</td>\n",
              "    </tr>\n",
              "    <tr>\n",
              "      <th>24</th>\n",
              "      <td>.</td>\n",
              "      <td>1944</td>\n",
              "      <td>0.575170</td>\n",
              "      <td>0.073402</td>\n",
              "    </tr>\n",
              "  </tbody>\n",
              "</table>\n",
              "</div>\n",
              "      <button class=\"colab-df-convert\" onclick=\"convertToInteractive('df-03948def-0b33-465e-ae6a-5adaf90122b9')\"\n",
              "              title=\"Convert this dataframe to an interactive table.\"\n",
              "              style=\"display:none;\">\n",
              "        \n",
              "  <svg xmlns=\"http://www.w3.org/2000/svg\" height=\"24px\"viewBox=\"0 0 24 24\"\n",
              "       width=\"24px\">\n",
              "    <path d=\"M0 0h24v24H0V0z\" fill=\"none\"/>\n",
              "    <path d=\"M18.56 5.44l.94 2.06.94-2.06 2.06-.94-2.06-.94-.94-2.06-.94 2.06-2.06.94zm-11 1L8.5 8.5l.94-2.06 2.06-.94-2.06-.94L8.5 2.5l-.94 2.06-2.06.94zm10 10l.94 2.06.94-2.06 2.06-.94-2.06-.94-.94-2.06-.94 2.06-2.06.94z\"/><path d=\"M17.41 7.96l-1.37-1.37c-.4-.4-.92-.59-1.43-.59-.52 0-1.04.2-1.43.59L10.3 9.45l-7.72 7.72c-.78.78-.78 2.05 0 2.83L4 21.41c.39.39.9.59 1.41.59.51 0 1.02-.2 1.41-.59l7.78-7.78 2.81-2.81c.8-.78.8-2.07 0-2.86zM5.41 20L4 18.59l7.72-7.72 1.47 1.35L5.41 20z\"/>\n",
              "  </svg>\n",
              "      </button>\n",
              "      \n",
              "  <style>\n",
              "    .colab-df-container {\n",
              "      display:flex;\n",
              "      flex-wrap:wrap;\n",
              "      gap: 12px;\n",
              "    }\n",
              "\n",
              "    .colab-df-convert {\n",
              "      background-color: #E8F0FE;\n",
              "      border: none;\n",
              "      border-radius: 50%;\n",
              "      cursor: pointer;\n",
              "      display: none;\n",
              "      fill: #1967D2;\n",
              "      height: 32px;\n",
              "      padding: 0 0 0 0;\n",
              "      width: 32px;\n",
              "    }\n",
              "\n",
              "    .colab-df-convert:hover {\n",
              "      background-color: #E2EBFA;\n",
              "      box-shadow: 0px 1px 2px rgba(60, 64, 67, 0.3), 0px 1px 3px 1px rgba(60, 64, 67, 0.15);\n",
              "      fill: #174EA6;\n",
              "    }\n",
              "\n",
              "    [theme=dark] .colab-df-convert {\n",
              "      background-color: #3B4455;\n",
              "      fill: #D2E3FC;\n",
              "    }\n",
              "\n",
              "    [theme=dark] .colab-df-convert:hover {\n",
              "      background-color: #434B5C;\n",
              "      box-shadow: 0px 1px 3px 1px rgba(0, 0, 0, 0.15);\n",
              "      filter: drop-shadow(0px 1px 2px rgba(0, 0, 0, 0.3));\n",
              "      fill: #FFFFFF;\n",
              "    }\n",
              "  </style>\n",
              "\n",
              "      <script>\n",
              "        const buttonEl =\n",
              "          document.querySelector('#df-03948def-0b33-465e-ae6a-5adaf90122b9 button.colab-df-convert');\n",
              "        buttonEl.style.display =\n",
              "          google.colab.kernel.accessAllowed ? 'block' : 'none';\n",
              "\n",
              "        async function convertToInteractive(key) {\n",
              "          const element = document.querySelector('#df-03948def-0b33-465e-ae6a-5adaf90122b9');\n",
              "          const dataTable =\n",
              "            await google.colab.kernel.invokeFunction('convertToInteractive',\n",
              "                                                     [key], {});\n",
              "          if (!dataTable) return;\n",
              "\n",
              "          const docLinkHtml = 'Like what you see? Visit the ' +\n",
              "            '<a target=\"_blank\" href=https://colab.research.google.com/notebooks/data_table.ipynb>data table notebook</a>'\n",
              "            + ' to learn more about interactive tables.';\n",
              "          element.innerHTML = '';\n",
              "          dataTable['output_type'] = 'display_data';\n",
              "          await google.colab.output.renderOutput(dataTable, element);\n",
              "          const docLink = document.createElement('div');\n",
              "          docLink.innerHTML = docLinkHtml;\n",
              "          element.appendChild(docLink);\n",
              "        }\n",
              "      </script>\n",
              "    </div>\n",
              "  </div>\n",
              "  "
            ]
          },
          "metadata": {},
          "execution_count": 79
        }
      ]
    },
    {
      "cell_type": "code",
      "source": [
        "print(df_same['token'].value_counts())"
      ],
      "metadata": {
        "colab": {
          "base_uri": "https://localhost:8080/"
        },
        "id": "VXCHsbU-MWlO",
        "outputId": "f47d969c-9475-4b92-f7ca-4ba01d0ce379"
      },
      "execution_count": 80,
      "outputs": [
        {
          "output_type": "stream",
          "name": "stdout",
          "text": [
            ".                 11\n",
            "Ġtraining          3\n",
            "Ġlearning          3\n",
            "Ġhumans            2\n",
            "Ġlanguage          2\n",
            "Ġtranslation       1\n",
            "Ġlinguistic        1\n",
            "Ġlearn             1\n",
            "Ġreinforcement     1\n",
            "Name: token, dtype: int64\n"
          ]
        }
      ]
    },
    {
      "cell_type": "code",
      "source": [
        "def jaccard_similarity(set1, set2):\n",
        "    intersection = len(list(set1.intersection(set2)))\n",
        "    print(intersection)\n",
        "    union = (len(set1) + len(set2)) - intersection\n",
        "    print(union)\n",
        "    return float(intersection) / union"
      ],
      "metadata": {
        "id": "JT1F0CMNR5_T"
      },
      "execution_count": 81,
      "outputs": []
    },
    {
      "cell_type": "code",
      "source": [
        "jaccard_similarity(attention_final_layer_top, exam_attrib_top)"
      ],
      "metadata": {
        "id": "MlxxoI6PR_iE",
        "colab": {
          "base_uri": "https://localhost:8080/"
        },
        "outputId": "b66861f2-a659-4f7e-bec6-148bb0bd38d3"
      },
      "execution_count": 82,
      "outputs": [
        {
          "output_type": "stream",
          "name": "stdout",
          "text": [
            "25\n",
            "181\n"
          ]
        },
        {
          "output_type": "execute_result",
          "data": {
            "text/plain": [
              "0.13812154696132597"
            ]
          },
          "metadata": {},
          "execution_count": 82
        }
      ]
    },
    {
      "cell_type": "markdown",
      "source": [
        "Here we run through the 95th percentile again, but we first mask all the non-alphanumeric tokens before we obtain our top 103 (top 5%) tokens. "
      ],
      "metadata": {
        "id": "JmtwaMFm-OsA"
      }
    },
    {
      "cell_type": "code",
      "source": [
        "attention_final_layer6 = np.copy(attention_final_layer)\n",
        "attention_final_layer6 = normalize(attention_final_layer6)\n",
        "\n",
        "attention_all_layer6 = np.copy(attention_all_layer) \n",
        "attention_all_layer6 = normalize(attention_all_layer6)\n",
        "\n",
        "exam_attrib6 = np.abs(exam_attrib)\n",
        "exam_attrib6 = normalize(exam_attrib6)\n",
        "print(exam_attrib6)\n",
        "\n",
        "exam_tokens = all_tokens[str(example)]\n",
        "alpha_neumeric_nums = [idx for idx, element in enumerate(exam_tokens) if element.isalnum()]"
      ],
      "metadata": {
        "colab": {
          "base_uri": "https://localhost:8080/"
        },
        "id": "5zRfXrer-OKu",
        "outputId": "d632d391-5b4d-4a89-80d9-ca7d4c9fdd73"
      },
      "execution_count": 83,
      "outputs": [
        {
          "output_type": "stream",
          "name": "stdout",
          "text": [
            "[0.00000000e+00 3.09815393e-03 2.46389383e-04 ... 4.17945981e-05\n",
            " 1.87499117e-03 0.00000000e+00]\n"
          ]
        }
      ]
    },
    {
      "cell_type": "code",
      "source": [
        "mask = np.ones(attention_final_layer6.shape,dtype=bool) \n",
        "mask[alpha_neumeric_nums] = False\n",
        "\n",
        "attention_final_layer6[mask] = 0\n",
        "attention_all_layer6[mask] = 0\n",
        "exam_attrib6[mask] = 0"
      ],
      "metadata": {
        "id": "GGzk7BU-_pcV"
      },
      "execution_count": 84,
      "outputs": []
    },
    {
      "cell_type": "code",
      "source": [
        "top_final2 = np.percentile(attention_final_layer6, 95)\n",
        "top_all2 = np.percentile(attention_all_layer6, 95)\n",
        "top_attrib2 = np.percentile(exam_attrib6, 95)\n",
        "print(top_attrib2)"
      ],
      "metadata": {
        "colab": {
          "base_uri": "https://localhost:8080/"
        },
        "id": "JS6H3mHwA37b",
        "outputId": "80ce699e-4e65-4f49-ad5f-d374a4717548"
      },
      "execution_count": 85,
      "outputs": [
        {
          "output_type": "stream",
          "name": "stdout",
          "text": [
            "0.030974660070814404\n"
          ]
        }
      ]
    },
    {
      "cell_type": "code",
      "source": [
        "attention_final_layer6[attention_final_layer6<top_final2] = 0\n",
        "attention_all_layer6[attention_all_layer6<top_all2] = 0\n",
        "exam_attrib6[exam_attrib6<top_attrib2] = 0\n",
        "\n",
        "attention_final_layer_top2 = np.flatnonzero(attention_final_layer6)\n",
        "attention_final_layer_top2 = set(attention_final_layer_top2)\n",
        "print(len(attention_final_layer_top2))\n",
        "\n",
        "attention_all_layer_top2 = np.flatnonzero(attention_all_layer6)\n",
        "attention_all_layer_top2 = set(attention_all_layer_top2)\n",
        "print(len(attention_all_layer_top2))\n",
        "\n",
        "exam_attrib_top2 = np.flatnonzero(exam_attrib6)\n",
        "exam_attrib_top2 = set(exam_attrib_top2)\n",
        "print(len(exam_attrib_top2))"
      ],
      "metadata": {
        "colab": {
          "base_uri": "https://localhost:8080/"
        },
        "id": "xYwPm6FJBIU3",
        "outputId": "1933b4d0-92b2-4ede-b676-6b61d9f001e8"
      },
      "execution_count": 86,
      "outputs": [
        {
          "output_type": "stream",
          "name": "stdout",
          "text": [
            "103\n",
            "103\n",
            "103\n"
          ]
        }
      ]
    },
    {
      "cell_type": "code",
      "source": [
        "diff_alpha = sorted(list(attention_final_layer_top2 - exam_attrib_top2))\n",
        "print(len(diff_alpha))\n",
        "diff_alpha_tokens = [exam_tokens[idx] for idx in diff_alpha]\n",
        "d_diff_alpha = {\"token\": diff_alpha_tokens, \"position\":diff_alpha, \"attention_norm\":attention_final_layer2[diff_alpha], \"attribution_norm\":exam_attrib2[diff_alpha]}\n",
        "df_diff_alpha = pd.DataFrame(d_diff_alpha)\n",
        "df_diff_alpha"
      ],
      "metadata": {
        "colab": {
          "base_uri": "https://localhost:8080/",
          "height": 441
        },
        "id": "k6p8GE8FCQPS",
        "outputId": "b411c545-9b41-485c-e6e5-08b3f47da23b"
      },
      "execution_count": 87,
      "outputs": [
        {
          "output_type": "stream",
          "name": "stdout",
          "text": [
            "81\n"
          ]
        },
        {
          "output_type": "execute_result",
          "data": {
            "text/plain": [
              "          token  position  attention_norm  attribution_norm\n",
              "0     ĠLanguage        21        0.048963          0.002372\n",
              "1         arial        33        0.044238          0.000375\n",
              "2     ĠTraining        34        0.042092          0.003152\n",
              "3        Ġimage       137        0.059384          0.012456\n",
              "4      Ġcaption       138        0.053254          0.001756\n",
              "..          ...       ...             ...               ...\n",
              "76  Ġgeneration      1561        0.052398          0.007117\n",
              "77  Ġgeneration      1575        0.048096          0.011838\n",
              "78    Ġexposure      1669        0.041588          0.025971\n",
              "79       Ġtruth      1708        0.038915          0.003930\n",
              "80      Ġlearns      1993        0.058394          0.007427\n",
              "\n",
              "[81 rows x 4 columns]"
            ],
            "text/html": [
              "\n",
              "  <div id=\"df-4cc796df-f021-4745-a14b-d1ccdf8ed44c\">\n",
              "    <div class=\"colab-df-container\">\n",
              "      <div>\n",
              "<style scoped>\n",
              "    .dataframe tbody tr th:only-of-type {\n",
              "        vertical-align: middle;\n",
              "    }\n",
              "\n",
              "    .dataframe tbody tr th {\n",
              "        vertical-align: top;\n",
              "    }\n",
              "\n",
              "    .dataframe thead th {\n",
              "        text-align: right;\n",
              "    }\n",
              "</style>\n",
              "<table border=\"1\" class=\"dataframe\">\n",
              "  <thead>\n",
              "    <tr style=\"text-align: right;\">\n",
              "      <th></th>\n",
              "      <th>token</th>\n",
              "      <th>position</th>\n",
              "      <th>attention_norm</th>\n",
              "      <th>attribution_norm</th>\n",
              "    </tr>\n",
              "  </thead>\n",
              "  <tbody>\n",
              "    <tr>\n",
              "      <th>0</th>\n",
              "      <td>ĠLanguage</td>\n",
              "      <td>21</td>\n",
              "      <td>0.048963</td>\n",
              "      <td>0.002372</td>\n",
              "    </tr>\n",
              "    <tr>\n",
              "      <th>1</th>\n",
              "      <td>arial</td>\n",
              "      <td>33</td>\n",
              "      <td>0.044238</td>\n",
              "      <td>0.000375</td>\n",
              "    </tr>\n",
              "    <tr>\n",
              "      <th>2</th>\n",
              "      <td>ĠTraining</td>\n",
              "      <td>34</td>\n",
              "      <td>0.042092</td>\n",
              "      <td>0.003152</td>\n",
              "    </tr>\n",
              "    <tr>\n",
              "      <th>3</th>\n",
              "      <td>Ġimage</td>\n",
              "      <td>137</td>\n",
              "      <td>0.059384</td>\n",
              "      <td>0.012456</td>\n",
              "    </tr>\n",
              "    <tr>\n",
              "      <th>4</th>\n",
              "      <td>Ġcaption</td>\n",
              "      <td>138</td>\n",
              "      <td>0.053254</td>\n",
              "      <td>0.001756</td>\n",
              "    </tr>\n",
              "    <tr>\n",
              "      <th>...</th>\n",
              "      <td>...</td>\n",
              "      <td>...</td>\n",
              "      <td>...</td>\n",
              "      <td>...</td>\n",
              "    </tr>\n",
              "    <tr>\n",
              "      <th>76</th>\n",
              "      <td>Ġgeneration</td>\n",
              "      <td>1561</td>\n",
              "      <td>0.052398</td>\n",
              "      <td>0.007117</td>\n",
              "    </tr>\n",
              "    <tr>\n",
              "      <th>77</th>\n",
              "      <td>Ġgeneration</td>\n",
              "      <td>1575</td>\n",
              "      <td>0.048096</td>\n",
              "      <td>0.011838</td>\n",
              "    </tr>\n",
              "    <tr>\n",
              "      <th>78</th>\n",
              "      <td>Ġexposure</td>\n",
              "      <td>1669</td>\n",
              "      <td>0.041588</td>\n",
              "      <td>0.025971</td>\n",
              "    </tr>\n",
              "    <tr>\n",
              "      <th>79</th>\n",
              "      <td>Ġtruth</td>\n",
              "      <td>1708</td>\n",
              "      <td>0.038915</td>\n",
              "      <td>0.003930</td>\n",
              "    </tr>\n",
              "    <tr>\n",
              "      <th>80</th>\n",
              "      <td>Ġlearns</td>\n",
              "      <td>1993</td>\n",
              "      <td>0.058394</td>\n",
              "      <td>0.007427</td>\n",
              "    </tr>\n",
              "  </tbody>\n",
              "</table>\n",
              "<p>81 rows × 4 columns</p>\n",
              "</div>\n",
              "      <button class=\"colab-df-convert\" onclick=\"convertToInteractive('df-4cc796df-f021-4745-a14b-d1ccdf8ed44c')\"\n",
              "              title=\"Convert this dataframe to an interactive table.\"\n",
              "              style=\"display:none;\">\n",
              "        \n",
              "  <svg xmlns=\"http://www.w3.org/2000/svg\" height=\"24px\"viewBox=\"0 0 24 24\"\n",
              "       width=\"24px\">\n",
              "    <path d=\"M0 0h24v24H0V0z\" fill=\"none\"/>\n",
              "    <path d=\"M18.56 5.44l.94 2.06.94-2.06 2.06-.94-2.06-.94-.94-2.06-.94 2.06-2.06.94zm-11 1L8.5 8.5l.94-2.06 2.06-.94-2.06-.94L8.5 2.5l-.94 2.06-2.06.94zm10 10l.94 2.06.94-2.06 2.06-.94-2.06-.94-.94-2.06-.94 2.06-2.06.94z\"/><path d=\"M17.41 7.96l-1.37-1.37c-.4-.4-.92-.59-1.43-.59-.52 0-1.04.2-1.43.59L10.3 9.45l-7.72 7.72c-.78.78-.78 2.05 0 2.83L4 21.41c.39.39.9.59 1.41.59.51 0 1.02-.2 1.41-.59l7.78-7.78 2.81-2.81c.8-.78.8-2.07 0-2.86zM5.41 20L4 18.59l7.72-7.72 1.47 1.35L5.41 20z\"/>\n",
              "  </svg>\n",
              "      </button>\n",
              "      \n",
              "  <style>\n",
              "    .colab-df-container {\n",
              "      display:flex;\n",
              "      flex-wrap:wrap;\n",
              "      gap: 12px;\n",
              "    }\n",
              "\n",
              "    .colab-df-convert {\n",
              "      background-color: #E8F0FE;\n",
              "      border: none;\n",
              "      border-radius: 50%;\n",
              "      cursor: pointer;\n",
              "      display: none;\n",
              "      fill: #1967D2;\n",
              "      height: 32px;\n",
              "      padding: 0 0 0 0;\n",
              "      width: 32px;\n",
              "    }\n",
              "\n",
              "    .colab-df-convert:hover {\n",
              "      background-color: #E2EBFA;\n",
              "      box-shadow: 0px 1px 2px rgba(60, 64, 67, 0.3), 0px 1px 3px 1px rgba(60, 64, 67, 0.15);\n",
              "      fill: #174EA6;\n",
              "    }\n",
              "\n",
              "    [theme=dark] .colab-df-convert {\n",
              "      background-color: #3B4455;\n",
              "      fill: #D2E3FC;\n",
              "    }\n",
              "\n",
              "    [theme=dark] .colab-df-convert:hover {\n",
              "      background-color: #434B5C;\n",
              "      box-shadow: 0px 1px 3px 1px rgba(0, 0, 0, 0.15);\n",
              "      filter: drop-shadow(0px 1px 2px rgba(0, 0, 0, 0.3));\n",
              "      fill: #FFFFFF;\n",
              "    }\n",
              "  </style>\n",
              "\n",
              "      <script>\n",
              "        const buttonEl =\n",
              "          document.querySelector('#df-4cc796df-f021-4745-a14b-d1ccdf8ed44c button.colab-df-convert');\n",
              "        buttonEl.style.display =\n",
              "          google.colab.kernel.accessAllowed ? 'block' : 'none';\n",
              "\n",
              "        async function convertToInteractive(key) {\n",
              "          const element = document.querySelector('#df-4cc796df-f021-4745-a14b-d1ccdf8ed44c');\n",
              "          const dataTable =\n",
              "            await google.colab.kernel.invokeFunction('convertToInteractive',\n",
              "                                                     [key], {});\n",
              "          if (!dataTable) return;\n",
              "\n",
              "          const docLinkHtml = 'Like what you see? Visit the ' +\n",
              "            '<a target=\"_blank\" href=https://colab.research.google.com/notebooks/data_table.ipynb>data table notebook</a>'\n",
              "            + ' to learn more about interactive tables.';\n",
              "          element.innerHTML = '';\n",
              "          dataTable['output_type'] = 'display_data';\n",
              "          await google.colab.output.renderOutput(dataTable, element);\n",
              "          const docLink = document.createElement('div');\n",
              "          docLink.innerHTML = docLinkHtml;\n",
              "          element.appendChild(docLink);\n",
              "        }\n",
              "      </script>\n",
              "    </div>\n",
              "  </div>\n",
              "  "
            ]
          },
          "metadata": {},
          "execution_count": 87
        }
      ]
    },
    {
      "cell_type": "code",
      "source": [
        "print(df_diff_alpha['token'].value_counts())"
      ],
      "metadata": {
        "colab": {
          "base_uri": "https://localhost:8080/"
        },
        "id": "rFqkoCD1GSTH",
        "outputId": "1d819e22-adc3-4e9e-cd98-4834ac7a97cf"
      },
      "execution_count": 88,
      "outputs": [
        {
          "output_type": "stream",
          "name": "stdout",
          "text": [
            "Ġcaption            11\n",
            "ing                  5\n",
            "arial                5\n",
            "Ġgeneration          5\n",
            "Ġtraining            4\n",
            "Ġadvers              4\n",
            "Ġimage               4\n",
            "Ġthe                 3\n",
            "Ġgenerated           3\n",
            "Ġvisual              3\n",
            "Ġtask                2\n",
            "Ġsearch              2\n",
            "truth                2\n",
            "Ġword                2\n",
            "ĠNetworks            1\n",
            "Ġtrained             1\n",
            "Ġhuman               1\n",
            "ĠLanguage            1\n",
            "Ġdeep                1\n",
            "ions                 1\n",
            "Ġrecognizing         1\n",
            "ĠCaption             1\n",
            "Ġexposure            1\n",
            "Ġtruth               1\n",
            "Ġchallenge           1\n",
            "Ġrepresentations     1\n",
            "Ġon                  1\n",
            "Ġperformance         1\n",
            "Ġlanguage            1\n",
            "Ġnetworks            1\n",
            "Ġmedia               1\n",
            "Ġsystems             1\n",
            "Ġskiing              1\n",
            "Ġlearning            1\n",
            "Ġwritten             1\n",
            "Ġgenerator           1\n",
            "Ļ                    1\n",
            "Ġvocabulary          1\n",
            "ĠTraining            1\n",
            "Ġlearns              1\n",
            "Name: token, dtype: int64\n"
          ]
        }
      ]
    },
    {
      "cell_type": "code",
      "source": [
        "diff_alpha2 = sorted(list(exam_attrib_top2- attention_final_layer_top2))\n",
        "print(len(diff_alpha2))\n",
        "diff_alpha_tokens2 = [exam_tokens[idx] for idx in diff_alpha2]\n",
        "d_diff_alpha2 = {\"token\": diff_alpha_tokens2, \"position\":diff_alpha2, \"attention_norm\":attention_final_layer2[diff_alpha2], \"attribution_norm\":exam_attrib2[diff_alpha2]}\n",
        "df_diff_alpha2 = pd.DataFrame(d_diff_alpha2)\n",
        "df_diff_alpha2"
      ],
      "metadata": {
        "colab": {
          "base_uri": "https://localhost:8080/",
          "height": 441
        },
        "id": "TiL98TrBC24P",
        "outputId": "5030e17d-3e8a-40cb-820e-faea54000200"
      },
      "execution_count": 89,
      "outputs": [
        {
          "output_type": "stream",
          "name": "stdout",
          "text": [
            "81\n"
          ]
        },
        {
          "output_type": "execute_result",
          "data": {
            "text/plain": [
              "          token  position  attention_norm  attribution_norm\n",
              "0        ĠHuman        27        0.037913          0.039440\n",
              "1        Ġhuman       247        0.027774          0.042492\n",
              "2        Ġhuman       285        0.033306          0.037411\n",
              "3            âĢ       521        0.020501          0.033046\n",
              "4        Ġhuman       594        0.037367          0.066732\n",
              "..          ...       ...             ...               ...\n",
              "76  Ġapproaches      1805        0.016504          0.083835\n",
              "77          Ġto      1806        0.015066          0.040588\n",
              "78    Ġoptimize      1808        0.017454          0.048320\n",
              "79     Ġmetrics      1811        0.010456          0.070791\n",
              "80     Ġmetrics      1833        0.004517          0.052813\n",
              "\n",
              "[81 rows x 4 columns]"
            ],
            "text/html": [
              "\n",
              "  <div id=\"df-a12fc823-cd35-4a62-a9e5-c354e454b46b\">\n",
              "    <div class=\"colab-df-container\">\n",
              "      <div>\n",
              "<style scoped>\n",
              "    .dataframe tbody tr th:only-of-type {\n",
              "        vertical-align: middle;\n",
              "    }\n",
              "\n",
              "    .dataframe tbody tr th {\n",
              "        vertical-align: top;\n",
              "    }\n",
              "\n",
              "    .dataframe thead th {\n",
              "        text-align: right;\n",
              "    }\n",
              "</style>\n",
              "<table border=\"1\" class=\"dataframe\">\n",
              "  <thead>\n",
              "    <tr style=\"text-align: right;\">\n",
              "      <th></th>\n",
              "      <th>token</th>\n",
              "      <th>position</th>\n",
              "      <th>attention_norm</th>\n",
              "      <th>attribution_norm</th>\n",
              "    </tr>\n",
              "  </thead>\n",
              "  <tbody>\n",
              "    <tr>\n",
              "      <th>0</th>\n",
              "      <td>ĠHuman</td>\n",
              "      <td>27</td>\n",
              "      <td>0.037913</td>\n",
              "      <td>0.039440</td>\n",
              "    </tr>\n",
              "    <tr>\n",
              "      <th>1</th>\n",
              "      <td>Ġhuman</td>\n",
              "      <td>247</td>\n",
              "      <td>0.027774</td>\n",
              "      <td>0.042492</td>\n",
              "    </tr>\n",
              "    <tr>\n",
              "      <th>2</th>\n",
              "      <td>Ġhuman</td>\n",
              "      <td>285</td>\n",
              "      <td>0.033306</td>\n",
              "      <td>0.037411</td>\n",
              "    </tr>\n",
              "    <tr>\n",
              "      <th>3</th>\n",
              "      <td>âĢ</td>\n",
              "      <td>521</td>\n",
              "      <td>0.020501</td>\n",
              "      <td>0.033046</td>\n",
              "    </tr>\n",
              "    <tr>\n",
              "      <th>4</th>\n",
              "      <td>Ġhuman</td>\n",
              "      <td>594</td>\n",
              "      <td>0.037367</td>\n",
              "      <td>0.066732</td>\n",
              "    </tr>\n",
              "    <tr>\n",
              "      <th>...</th>\n",
              "      <td>...</td>\n",
              "      <td>...</td>\n",
              "      <td>...</td>\n",
              "      <td>...</td>\n",
              "    </tr>\n",
              "    <tr>\n",
              "      <th>76</th>\n",
              "      <td>Ġapproaches</td>\n",
              "      <td>1805</td>\n",
              "      <td>0.016504</td>\n",
              "      <td>0.083835</td>\n",
              "    </tr>\n",
              "    <tr>\n",
              "      <th>77</th>\n",
              "      <td>Ġto</td>\n",
              "      <td>1806</td>\n",
              "      <td>0.015066</td>\n",
              "      <td>0.040588</td>\n",
              "    </tr>\n",
              "    <tr>\n",
              "      <th>78</th>\n",
              "      <td>Ġoptimize</td>\n",
              "      <td>1808</td>\n",
              "      <td>0.017454</td>\n",
              "      <td>0.048320</td>\n",
              "    </tr>\n",
              "    <tr>\n",
              "      <th>79</th>\n",
              "      <td>Ġmetrics</td>\n",
              "      <td>1811</td>\n",
              "      <td>0.010456</td>\n",
              "      <td>0.070791</td>\n",
              "    </tr>\n",
              "    <tr>\n",
              "      <th>80</th>\n",
              "      <td>Ġmetrics</td>\n",
              "      <td>1833</td>\n",
              "      <td>0.004517</td>\n",
              "      <td>0.052813</td>\n",
              "    </tr>\n",
              "  </tbody>\n",
              "</table>\n",
              "<p>81 rows × 4 columns</p>\n",
              "</div>\n",
              "      <button class=\"colab-df-convert\" onclick=\"convertToInteractive('df-a12fc823-cd35-4a62-a9e5-c354e454b46b')\"\n",
              "              title=\"Convert this dataframe to an interactive table.\"\n",
              "              style=\"display:none;\">\n",
              "        \n",
              "  <svg xmlns=\"http://www.w3.org/2000/svg\" height=\"24px\"viewBox=\"0 0 24 24\"\n",
              "       width=\"24px\">\n",
              "    <path d=\"M0 0h24v24H0V0z\" fill=\"none\"/>\n",
              "    <path d=\"M18.56 5.44l.94 2.06.94-2.06 2.06-.94-2.06-.94-.94-2.06-.94 2.06-2.06.94zm-11 1L8.5 8.5l.94-2.06 2.06-.94-2.06-.94L8.5 2.5l-.94 2.06-2.06.94zm10 10l.94 2.06.94-2.06 2.06-.94-2.06-.94-.94-2.06-.94 2.06-2.06.94z\"/><path d=\"M17.41 7.96l-1.37-1.37c-.4-.4-.92-.59-1.43-.59-.52 0-1.04.2-1.43.59L10.3 9.45l-7.72 7.72c-.78.78-.78 2.05 0 2.83L4 21.41c.39.39.9.59 1.41.59.51 0 1.02-.2 1.41-.59l7.78-7.78 2.81-2.81c.8-.78.8-2.07 0-2.86zM5.41 20L4 18.59l7.72-7.72 1.47 1.35L5.41 20z\"/>\n",
              "  </svg>\n",
              "      </button>\n",
              "      \n",
              "  <style>\n",
              "    .colab-df-container {\n",
              "      display:flex;\n",
              "      flex-wrap:wrap;\n",
              "      gap: 12px;\n",
              "    }\n",
              "\n",
              "    .colab-df-convert {\n",
              "      background-color: #E8F0FE;\n",
              "      border: none;\n",
              "      border-radius: 50%;\n",
              "      cursor: pointer;\n",
              "      display: none;\n",
              "      fill: #1967D2;\n",
              "      height: 32px;\n",
              "      padding: 0 0 0 0;\n",
              "      width: 32px;\n",
              "    }\n",
              "\n",
              "    .colab-df-convert:hover {\n",
              "      background-color: #E2EBFA;\n",
              "      box-shadow: 0px 1px 2px rgba(60, 64, 67, 0.3), 0px 1px 3px 1px rgba(60, 64, 67, 0.15);\n",
              "      fill: #174EA6;\n",
              "    }\n",
              "\n",
              "    [theme=dark] .colab-df-convert {\n",
              "      background-color: #3B4455;\n",
              "      fill: #D2E3FC;\n",
              "    }\n",
              "\n",
              "    [theme=dark] .colab-df-convert:hover {\n",
              "      background-color: #434B5C;\n",
              "      box-shadow: 0px 1px 3px 1px rgba(0, 0, 0, 0.15);\n",
              "      filter: drop-shadow(0px 1px 2px rgba(0, 0, 0, 0.3));\n",
              "      fill: #FFFFFF;\n",
              "    }\n",
              "  </style>\n",
              "\n",
              "      <script>\n",
              "        const buttonEl =\n",
              "          document.querySelector('#df-a12fc823-cd35-4a62-a9e5-c354e454b46b button.colab-df-convert');\n",
              "        buttonEl.style.display =\n",
              "          google.colab.kernel.accessAllowed ? 'block' : 'none';\n",
              "\n",
              "        async function convertToInteractive(key) {\n",
              "          const element = document.querySelector('#df-a12fc823-cd35-4a62-a9e5-c354e454b46b');\n",
              "          const dataTable =\n",
              "            await google.colab.kernel.invokeFunction('convertToInteractive',\n",
              "                                                     [key], {});\n",
              "          if (!dataTable) return;\n",
              "\n",
              "          const docLinkHtml = 'Like what you see? Visit the ' +\n",
              "            '<a target=\"_blank\" href=https://colab.research.google.com/notebooks/data_table.ipynb>data table notebook</a>'\n",
              "            + ' to learn more about interactive tables.';\n",
              "          element.innerHTML = '';\n",
              "          dataTable['output_type'] = 'display_data';\n",
              "          await google.colab.output.renderOutput(dataTable, element);\n",
              "          const docLink = document.createElement('div');\n",
              "          docLink.innerHTML = docLinkHtml;\n",
              "          element.appendChild(docLink);\n",
              "        }\n",
              "      </script>\n",
              "    </div>\n",
              "  </div>\n",
              "  "
            ]
          },
          "metadata": {},
          "execution_count": 89
        }
      ]
    },
    {
      "cell_type": "code",
      "source": [
        "print(df_diff_alpha2['token'].value_counts())"
      ],
      "metadata": {
        "colab": {
          "base_uri": "https://localhost:8080/"
        },
        "id": "SuRLXVY_GRyu",
        "outputId": "e7b4b63f-616e-45d0-9c6a-1c37bc0c7714"
      },
      "execution_count": 90,
      "outputs": [
        {
          "output_type": "stream",
          "name": "stdout",
          "text": [
            "Ġtraining        6\n",
            "Ġhuman           5\n",
            "Ġmodel           5\n",
            "Ġto              4\n",
            "Ġdiversity       3\n",
            "Ġmodels          3\n",
            "Ġmetrics         2\n",
            "Ġsampling        2\n",
            "Ġmethod          2\n",
            "Ġthe             2\n",
            "Ġa               2\n",
            "Ġbias            2\n",
            "Ġsentences       2\n",
            "Ġgradually       1\n",
            "Ġscheme          1\n",
            "Ġwhich           1\n",
            "Ġbegins          1\n",
            "Ġoptimize        1\n",
            "Ġalgorithm       1\n",
            "Ġoptimal         1\n",
            "Ġdata            1\n",
            "Ġdistribution    1\n",
            "Ġhave            1\n",
            "Ġstandard        1\n",
            "Ġmaximum         1\n",
            "ĠSeveral         1\n",
            "Ġother           1\n",
            "Ġapproaches      1\n",
            "Ġbased           1\n",
            "Ġthis            1\n",
            "Ġfollowed        1\n",
            "Ġscore           1\n",
            "ĠHuman           1\n",
            "Ġduring          1\n",
            "Ġas              1\n",
            "âĢ               1\n",
            "Ġeasy            1\n",
            "Ġfor             1\n",
            "Ġstatistics      1\n",
            "Ġstatistical     1\n",
            "Ġattempts        1\n",
            "Ġdifferent       1\n",
            "Ġloss            1\n",
            "Ġafter           1\n",
            "Ġonly            1\n",
            "Ġhas             1\n",
            "Ġchallenge       1\n",
            "Ġin              1\n",
            "Ġstudied         1\n",
            "Ġdescription     1\n",
            "Ġpredict         1\n",
            "Ġtest            1\n",
            "Ġpredicted       1\n",
            "Ġword            1\n",
            "Name: token, dtype: int64\n"
          ]
        }
      ]
    },
    {
      "cell_type": "code",
      "source": [
        "same_alpha = sorted(list(exam_attrib_top2 & attention_final_layer_top2))\n",
        "print(len(same_alpha))\n",
        "same_alpha_tokens = [exam_tokens[idx] for idx in same_alpha]\n",
        "d_same_alpha = {\"token\": same_alpha_tokens, \"position\":same_alpha, \"attention_norm\":attention_final_layer2[same_alpha], \"attribution_norm\":exam_attrib2[same_alpha]}\n",
        "df_same_alpha = pd.DataFrame(d_same_alpha)\n",
        "df_same_alpha"
      ],
      "metadata": {
        "colab": {
          "base_uri": "https://localhost:8080/",
          "height": 757
        },
        "id": "DGg8RaOVDGqK",
        "outputId": "759a6277-4085-44a9-d834-d30f35fe3b88"
      },
      "execution_count": 91,
      "outputs": [
        {
          "output_type": "stream",
          "name": "stdout",
          "text": [
            "22\n"
          ]
        },
        {
          "output_type": "execute_result",
          "data": {
            "text/plain": [
              "             token  position  attention_norm  attribution_norm\n",
              "0              ĠAI       126        0.097651          0.034024\n",
              "1           Ġhuman       144        0.042408          0.099735\n",
              "2          Ġhumans       181        0.050926          0.035158\n",
              "3        Ġtraining       223        0.068720          0.033059\n",
              "4        Ġtraining       266        0.077135          0.063398\n",
              "5           Ġhuman       343        0.042498          0.125968\n",
              "6          Ġhumans       751        0.053678          0.158666\n",
              "7        Ġlanguage      1334        0.076873          0.306745\n",
              "8     Ġtranslation      1354        0.045904          0.038866\n",
              "9        Ġlearning      1362        0.085313          0.077581\n",
              "10       Ġlearning      1531        0.071748          0.063845\n",
              "11       Ġlanguage      1571        0.077070          0.188859\n",
              "12       Ġdialogue      1574        0.045457          0.031012\n",
              "13     Ġlinguistic      1579        0.073736          0.141394\n",
              "14       Ġtraining      1593        0.042321          0.793757\n",
              "15          Ġlearn      1677        0.060387          0.044794\n",
              "16       Ġtraining      1687        0.039111          0.663055\n",
              "17       Ġtraining      1700        0.056196          0.742092\n",
              "18       Ġexposure      1766        0.045153          0.053000\n",
              "19       Ġtraining      1791        0.047817          0.578020\n",
              "20  Ġreinforcement      1802        0.060408          0.076461\n",
              "21       Ġlearning      1803        0.070812          0.183247"
            ],
            "text/html": [
              "\n",
              "  <div id=\"df-07a7f23f-dd52-4db7-a32e-0a81c2958154\">\n",
              "    <div class=\"colab-df-container\">\n",
              "      <div>\n",
              "<style scoped>\n",
              "    .dataframe tbody tr th:only-of-type {\n",
              "        vertical-align: middle;\n",
              "    }\n",
              "\n",
              "    .dataframe tbody tr th {\n",
              "        vertical-align: top;\n",
              "    }\n",
              "\n",
              "    .dataframe thead th {\n",
              "        text-align: right;\n",
              "    }\n",
              "</style>\n",
              "<table border=\"1\" class=\"dataframe\">\n",
              "  <thead>\n",
              "    <tr style=\"text-align: right;\">\n",
              "      <th></th>\n",
              "      <th>token</th>\n",
              "      <th>position</th>\n",
              "      <th>attention_norm</th>\n",
              "      <th>attribution_norm</th>\n",
              "    </tr>\n",
              "  </thead>\n",
              "  <tbody>\n",
              "    <tr>\n",
              "      <th>0</th>\n",
              "      <td>ĠAI</td>\n",
              "      <td>126</td>\n",
              "      <td>0.097651</td>\n",
              "      <td>0.034024</td>\n",
              "    </tr>\n",
              "    <tr>\n",
              "      <th>1</th>\n",
              "      <td>Ġhuman</td>\n",
              "      <td>144</td>\n",
              "      <td>0.042408</td>\n",
              "      <td>0.099735</td>\n",
              "    </tr>\n",
              "    <tr>\n",
              "      <th>2</th>\n",
              "      <td>Ġhumans</td>\n",
              "      <td>181</td>\n",
              "      <td>0.050926</td>\n",
              "      <td>0.035158</td>\n",
              "    </tr>\n",
              "    <tr>\n",
              "      <th>3</th>\n",
              "      <td>Ġtraining</td>\n",
              "      <td>223</td>\n",
              "      <td>0.068720</td>\n",
              "      <td>0.033059</td>\n",
              "    </tr>\n",
              "    <tr>\n",
              "      <th>4</th>\n",
              "      <td>Ġtraining</td>\n",
              "      <td>266</td>\n",
              "      <td>0.077135</td>\n",
              "      <td>0.063398</td>\n",
              "    </tr>\n",
              "    <tr>\n",
              "      <th>5</th>\n",
              "      <td>Ġhuman</td>\n",
              "      <td>343</td>\n",
              "      <td>0.042498</td>\n",
              "      <td>0.125968</td>\n",
              "    </tr>\n",
              "    <tr>\n",
              "      <th>6</th>\n",
              "      <td>Ġhumans</td>\n",
              "      <td>751</td>\n",
              "      <td>0.053678</td>\n",
              "      <td>0.158666</td>\n",
              "    </tr>\n",
              "    <tr>\n",
              "      <th>7</th>\n",
              "      <td>Ġlanguage</td>\n",
              "      <td>1334</td>\n",
              "      <td>0.076873</td>\n",
              "      <td>0.306745</td>\n",
              "    </tr>\n",
              "    <tr>\n",
              "      <th>8</th>\n",
              "      <td>Ġtranslation</td>\n",
              "      <td>1354</td>\n",
              "      <td>0.045904</td>\n",
              "      <td>0.038866</td>\n",
              "    </tr>\n",
              "    <tr>\n",
              "      <th>9</th>\n",
              "      <td>Ġlearning</td>\n",
              "      <td>1362</td>\n",
              "      <td>0.085313</td>\n",
              "      <td>0.077581</td>\n",
              "    </tr>\n",
              "    <tr>\n",
              "      <th>10</th>\n",
              "      <td>Ġlearning</td>\n",
              "      <td>1531</td>\n",
              "      <td>0.071748</td>\n",
              "      <td>0.063845</td>\n",
              "    </tr>\n",
              "    <tr>\n",
              "      <th>11</th>\n",
              "      <td>Ġlanguage</td>\n",
              "      <td>1571</td>\n",
              "      <td>0.077070</td>\n",
              "      <td>0.188859</td>\n",
              "    </tr>\n",
              "    <tr>\n",
              "      <th>12</th>\n",
              "      <td>Ġdialogue</td>\n",
              "      <td>1574</td>\n",
              "      <td>0.045457</td>\n",
              "      <td>0.031012</td>\n",
              "    </tr>\n",
              "    <tr>\n",
              "      <th>13</th>\n",
              "      <td>Ġlinguistic</td>\n",
              "      <td>1579</td>\n",
              "      <td>0.073736</td>\n",
              "      <td>0.141394</td>\n",
              "    </tr>\n",
              "    <tr>\n",
              "      <th>14</th>\n",
              "      <td>Ġtraining</td>\n",
              "      <td>1593</td>\n",
              "      <td>0.042321</td>\n",
              "      <td>0.793757</td>\n",
              "    </tr>\n",
              "    <tr>\n",
              "      <th>15</th>\n",
              "      <td>Ġlearn</td>\n",
              "      <td>1677</td>\n",
              "      <td>0.060387</td>\n",
              "      <td>0.044794</td>\n",
              "    </tr>\n",
              "    <tr>\n",
              "      <th>16</th>\n",
              "      <td>Ġtraining</td>\n",
              "      <td>1687</td>\n",
              "      <td>0.039111</td>\n",
              "      <td>0.663055</td>\n",
              "    </tr>\n",
              "    <tr>\n",
              "      <th>17</th>\n",
              "      <td>Ġtraining</td>\n",
              "      <td>1700</td>\n",
              "      <td>0.056196</td>\n",
              "      <td>0.742092</td>\n",
              "    </tr>\n",
              "    <tr>\n",
              "      <th>18</th>\n",
              "      <td>Ġexposure</td>\n",
              "      <td>1766</td>\n",
              "      <td>0.045153</td>\n",
              "      <td>0.053000</td>\n",
              "    </tr>\n",
              "    <tr>\n",
              "      <th>19</th>\n",
              "      <td>Ġtraining</td>\n",
              "      <td>1791</td>\n",
              "      <td>0.047817</td>\n",
              "      <td>0.578020</td>\n",
              "    </tr>\n",
              "    <tr>\n",
              "      <th>20</th>\n",
              "      <td>Ġreinforcement</td>\n",
              "      <td>1802</td>\n",
              "      <td>0.060408</td>\n",
              "      <td>0.076461</td>\n",
              "    </tr>\n",
              "    <tr>\n",
              "      <th>21</th>\n",
              "      <td>Ġlearning</td>\n",
              "      <td>1803</td>\n",
              "      <td>0.070812</td>\n",
              "      <td>0.183247</td>\n",
              "    </tr>\n",
              "  </tbody>\n",
              "</table>\n",
              "</div>\n",
              "      <button class=\"colab-df-convert\" onclick=\"convertToInteractive('df-07a7f23f-dd52-4db7-a32e-0a81c2958154')\"\n",
              "              title=\"Convert this dataframe to an interactive table.\"\n",
              "              style=\"display:none;\">\n",
              "        \n",
              "  <svg xmlns=\"http://www.w3.org/2000/svg\" height=\"24px\"viewBox=\"0 0 24 24\"\n",
              "       width=\"24px\">\n",
              "    <path d=\"M0 0h24v24H0V0z\" fill=\"none\"/>\n",
              "    <path d=\"M18.56 5.44l.94 2.06.94-2.06 2.06-.94-2.06-.94-.94-2.06-.94 2.06-2.06.94zm-11 1L8.5 8.5l.94-2.06 2.06-.94-2.06-.94L8.5 2.5l-.94 2.06-2.06.94zm10 10l.94 2.06.94-2.06 2.06-.94-2.06-.94-.94-2.06-.94 2.06-2.06.94z\"/><path d=\"M17.41 7.96l-1.37-1.37c-.4-.4-.92-.59-1.43-.59-.52 0-1.04.2-1.43.59L10.3 9.45l-7.72 7.72c-.78.78-.78 2.05 0 2.83L4 21.41c.39.39.9.59 1.41.59.51 0 1.02-.2 1.41-.59l7.78-7.78 2.81-2.81c.8-.78.8-2.07 0-2.86zM5.41 20L4 18.59l7.72-7.72 1.47 1.35L5.41 20z\"/>\n",
              "  </svg>\n",
              "      </button>\n",
              "      \n",
              "  <style>\n",
              "    .colab-df-container {\n",
              "      display:flex;\n",
              "      flex-wrap:wrap;\n",
              "      gap: 12px;\n",
              "    }\n",
              "\n",
              "    .colab-df-convert {\n",
              "      background-color: #E8F0FE;\n",
              "      border: none;\n",
              "      border-radius: 50%;\n",
              "      cursor: pointer;\n",
              "      display: none;\n",
              "      fill: #1967D2;\n",
              "      height: 32px;\n",
              "      padding: 0 0 0 0;\n",
              "      width: 32px;\n",
              "    }\n",
              "\n",
              "    .colab-df-convert:hover {\n",
              "      background-color: #E2EBFA;\n",
              "      box-shadow: 0px 1px 2px rgba(60, 64, 67, 0.3), 0px 1px 3px 1px rgba(60, 64, 67, 0.15);\n",
              "      fill: #174EA6;\n",
              "    }\n",
              "\n",
              "    [theme=dark] .colab-df-convert {\n",
              "      background-color: #3B4455;\n",
              "      fill: #D2E3FC;\n",
              "    }\n",
              "\n",
              "    [theme=dark] .colab-df-convert:hover {\n",
              "      background-color: #434B5C;\n",
              "      box-shadow: 0px 1px 3px 1px rgba(0, 0, 0, 0.15);\n",
              "      filter: drop-shadow(0px 1px 2px rgba(0, 0, 0, 0.3));\n",
              "      fill: #FFFFFF;\n",
              "    }\n",
              "  </style>\n",
              "\n",
              "      <script>\n",
              "        const buttonEl =\n",
              "          document.querySelector('#df-07a7f23f-dd52-4db7-a32e-0a81c2958154 button.colab-df-convert');\n",
              "        buttonEl.style.display =\n",
              "          google.colab.kernel.accessAllowed ? 'block' : 'none';\n",
              "\n",
              "        async function convertToInteractive(key) {\n",
              "          const element = document.querySelector('#df-07a7f23f-dd52-4db7-a32e-0a81c2958154');\n",
              "          const dataTable =\n",
              "            await google.colab.kernel.invokeFunction('convertToInteractive',\n",
              "                                                     [key], {});\n",
              "          if (!dataTable) return;\n",
              "\n",
              "          const docLinkHtml = 'Like what you see? Visit the ' +\n",
              "            '<a target=\"_blank\" href=https://colab.research.google.com/notebooks/data_table.ipynb>data table notebook</a>'\n",
              "            + ' to learn more about interactive tables.';\n",
              "          element.innerHTML = '';\n",
              "          dataTable['output_type'] = 'display_data';\n",
              "          await google.colab.output.renderOutput(dataTable, element);\n",
              "          const docLink = document.createElement('div');\n",
              "          docLink.innerHTML = docLinkHtml;\n",
              "          element.appendChild(docLink);\n",
              "        }\n",
              "      </script>\n",
              "    </div>\n",
              "  </div>\n",
              "  "
            ]
          },
          "metadata": {},
          "execution_count": 91
        }
      ]
    },
    {
      "cell_type": "code",
      "source": [
        "print(df_same_alpha['token'].value_counts())"
      ],
      "metadata": {
        "colab": {
          "base_uri": "https://localhost:8080/"
        },
        "id": "WOxfDe1qGJ2J",
        "outputId": "32f7290c-177e-4df1-d9fc-972656d335d7"
      },
      "execution_count": 92,
      "outputs": [
        {
          "output_type": "stream",
          "name": "stdout",
          "text": [
            "Ġtraining         6\n",
            "Ġlearning         3\n",
            "Ġhuman            2\n",
            "Ġhumans           2\n",
            "Ġlanguage         2\n",
            "ĠAI               1\n",
            "Ġtranslation      1\n",
            "Ġdialogue         1\n",
            "Ġlinguistic       1\n",
            "Ġlearn            1\n",
            "Ġexposure         1\n",
            "Ġreinforcement    1\n",
            "Name: token, dtype: int64\n"
          ]
        }
      ]
    },
    {
      "cell_type": "code",
      "source": [
        "jaccard_similarity(attention_final_layer_top2, exam_attrib_top2)"
      ],
      "metadata": {
        "colab": {
          "base_uri": "https://localhost:8080/"
        },
        "id": "eL4TVY9hGsQx",
        "outputId": "c032233b-cefd-4c74-9f61-06a0621bfe7c"
      },
      "execution_count": 93,
      "outputs": [
        {
          "output_type": "stream",
          "name": "stdout",
          "text": [
            "22\n",
            "184\n"
          ]
        },
        {
          "output_type": "execute_result",
          "data": {
            "text/plain": [
              "0.11956521739130435"
            ]
          },
          "metadata": {},
          "execution_count": 93
        }
      ]
    }
  ],
  "metadata": {
    "file_extension": ".py",
    "kernelspec": {
      "display_name": "Python 3",
      "name": "python3"
    },
    "language_info": {
      "name": "python"
    },
    "mimetype": "text/x-python",
    "name": "python",
    "npconvert_exporter": "python",
    "pygments_lexer": "ipython3",
    "version": 3,
    "colab": {
      "name": "Attention_attribution_cosine_sim.ipynb",
      "provenance": [],
      "collapsed_sections": [],
      "machine_shape": "hm",
      "include_colab_link": true
    },
    "accelerator": "GPU",
    "widgets": {
      "application/vnd.jupyter.widget-state+json": {
        "0fb85bcd16664532a559b338cc8e8a90": {
          "model_module": "@jupyter-widgets/controls",
          "model_name": "HBoxModel",
          "model_module_version": "1.5.0",
          "state": {
            "_dom_classes": [],
            "_model_module": "@jupyter-widgets/controls",
            "_model_module_version": "1.5.0",
            "_model_name": "HBoxModel",
            "_view_count": null,
            "_view_module": "@jupyter-widgets/controls",
            "_view_module_version": "1.5.0",
            "_view_name": "HBoxView",
            "box_style": "",
            "children": [
              "IPY_MODEL_3e7138e8f18143459f4916274c5b9c2e",
              "IPY_MODEL_b31c2e0859eb4157a2878730fa5a1d5c",
              "IPY_MODEL_e0a0bc85a2e04f809c0d58222c743f79"
            ],
            "layout": "IPY_MODEL_32446adc37c1435eabbe00a485256021"
          }
        },
        "3e7138e8f18143459f4916274c5b9c2e": {
          "model_module": "@jupyter-widgets/controls",
          "model_name": "HTMLModel",
          "model_module_version": "1.5.0",
          "state": {
            "_dom_classes": [],
            "_model_module": "@jupyter-widgets/controls",
            "_model_module_version": "1.5.0",
            "_model_name": "HTMLModel",
            "_view_count": null,
            "_view_module": "@jupyter-widgets/controls",
            "_view_module_version": "1.5.0",
            "_view_name": "HTMLView",
            "description": "",
            "description_tooltip": null,
            "layout": "IPY_MODEL_712de09d643643d68011f2c6785b2304",
            "placeholder": "​",
            "style": "IPY_MODEL_a0bf898f52524dbbbd282871eacf1584",
            "value": "100%"
          }
        },
        "b31c2e0859eb4157a2878730fa5a1d5c": {
          "model_module": "@jupyter-widgets/controls",
          "model_name": "FloatProgressModel",
          "model_module_version": "1.5.0",
          "state": {
            "_dom_classes": [],
            "_model_module": "@jupyter-widgets/controls",
            "_model_module_version": "1.5.0",
            "_model_name": "FloatProgressModel",
            "_view_count": null,
            "_view_module": "@jupyter-widgets/controls",
            "_view_module_version": "1.5.0",
            "_view_name": "ProgressView",
            "bar_style": "success",
            "description": "",
            "description_tooltip": null,
            "layout": "IPY_MODEL_06a0c38394a640ae80be71fe056dd358",
            "max": 2,
            "min": 0,
            "orientation": "horizontal",
            "style": "IPY_MODEL_365e4491dd4143358ddcc52a08f507c4",
            "value": 2
          }
        },
        "e0a0bc85a2e04f809c0d58222c743f79": {
          "model_module": "@jupyter-widgets/controls",
          "model_name": "HTMLModel",
          "model_module_version": "1.5.0",
          "state": {
            "_dom_classes": [],
            "_model_module": "@jupyter-widgets/controls",
            "_model_module_version": "1.5.0",
            "_model_name": "HTMLModel",
            "_view_count": null,
            "_view_module": "@jupyter-widgets/controls",
            "_view_module_version": "1.5.0",
            "_view_name": "HTMLView",
            "description": "",
            "description_tooltip": null,
            "layout": "IPY_MODEL_1cfb9525150645b89fc1eaa526f13009",
            "placeholder": "​",
            "style": "IPY_MODEL_32a67ddca8654670aca707311c2112f0",
            "value": " 2/2 [00:00&lt;00:00, 40.56it/s]"
          }
        },
        "32446adc37c1435eabbe00a485256021": {
          "model_module": "@jupyter-widgets/base",
          "model_name": "LayoutModel",
          "model_module_version": "1.2.0",
          "state": {
            "_model_module": "@jupyter-widgets/base",
            "_model_module_version": "1.2.0",
            "_model_name": "LayoutModel",
            "_view_count": null,
            "_view_module": "@jupyter-widgets/base",
            "_view_module_version": "1.2.0",
            "_view_name": "LayoutView",
            "align_content": null,
            "align_items": null,
            "align_self": null,
            "border": null,
            "bottom": null,
            "display": null,
            "flex": null,
            "flex_flow": null,
            "grid_area": null,
            "grid_auto_columns": null,
            "grid_auto_flow": null,
            "grid_auto_rows": null,
            "grid_column": null,
            "grid_gap": null,
            "grid_row": null,
            "grid_template_areas": null,
            "grid_template_columns": null,
            "grid_template_rows": null,
            "height": null,
            "justify_content": null,
            "justify_items": null,
            "left": null,
            "margin": null,
            "max_height": null,
            "max_width": null,
            "min_height": null,
            "min_width": null,
            "object_fit": null,
            "object_position": null,
            "order": null,
            "overflow": null,
            "overflow_x": null,
            "overflow_y": null,
            "padding": null,
            "right": null,
            "top": null,
            "visibility": null,
            "width": null
          }
        },
        "712de09d643643d68011f2c6785b2304": {
          "model_module": "@jupyter-widgets/base",
          "model_name": "LayoutModel",
          "model_module_version": "1.2.0",
          "state": {
            "_model_module": "@jupyter-widgets/base",
            "_model_module_version": "1.2.0",
            "_model_name": "LayoutModel",
            "_view_count": null,
            "_view_module": "@jupyter-widgets/base",
            "_view_module_version": "1.2.0",
            "_view_name": "LayoutView",
            "align_content": null,
            "align_items": null,
            "align_self": null,
            "border": null,
            "bottom": null,
            "display": null,
            "flex": null,
            "flex_flow": null,
            "grid_area": null,
            "grid_auto_columns": null,
            "grid_auto_flow": null,
            "grid_auto_rows": null,
            "grid_column": null,
            "grid_gap": null,
            "grid_row": null,
            "grid_template_areas": null,
            "grid_template_columns": null,
            "grid_template_rows": null,
            "height": null,
            "justify_content": null,
            "justify_items": null,
            "left": null,
            "margin": null,
            "max_height": null,
            "max_width": null,
            "min_height": null,
            "min_width": null,
            "object_fit": null,
            "object_position": null,
            "order": null,
            "overflow": null,
            "overflow_x": null,
            "overflow_y": null,
            "padding": null,
            "right": null,
            "top": null,
            "visibility": null,
            "width": null
          }
        },
        "a0bf898f52524dbbbd282871eacf1584": {
          "model_module": "@jupyter-widgets/controls",
          "model_name": "DescriptionStyleModel",
          "model_module_version": "1.5.0",
          "state": {
            "_model_module": "@jupyter-widgets/controls",
            "_model_module_version": "1.5.0",
            "_model_name": "DescriptionStyleModel",
            "_view_count": null,
            "_view_module": "@jupyter-widgets/base",
            "_view_module_version": "1.2.0",
            "_view_name": "StyleView",
            "description_width": ""
          }
        },
        "06a0c38394a640ae80be71fe056dd358": {
          "model_module": "@jupyter-widgets/base",
          "model_name": "LayoutModel",
          "model_module_version": "1.2.0",
          "state": {
            "_model_module": "@jupyter-widgets/base",
            "_model_module_version": "1.2.0",
            "_model_name": "LayoutModel",
            "_view_count": null,
            "_view_module": "@jupyter-widgets/base",
            "_view_module_version": "1.2.0",
            "_view_name": "LayoutView",
            "align_content": null,
            "align_items": null,
            "align_self": null,
            "border": null,
            "bottom": null,
            "display": null,
            "flex": null,
            "flex_flow": null,
            "grid_area": null,
            "grid_auto_columns": null,
            "grid_auto_flow": null,
            "grid_auto_rows": null,
            "grid_column": null,
            "grid_gap": null,
            "grid_row": null,
            "grid_template_areas": null,
            "grid_template_columns": null,
            "grid_template_rows": null,
            "height": null,
            "justify_content": null,
            "justify_items": null,
            "left": null,
            "margin": null,
            "max_height": null,
            "max_width": null,
            "min_height": null,
            "min_width": null,
            "object_fit": null,
            "object_position": null,
            "order": null,
            "overflow": null,
            "overflow_x": null,
            "overflow_y": null,
            "padding": null,
            "right": null,
            "top": null,
            "visibility": null,
            "width": null
          }
        },
        "365e4491dd4143358ddcc52a08f507c4": {
          "model_module": "@jupyter-widgets/controls",
          "model_name": "ProgressStyleModel",
          "model_module_version": "1.5.0",
          "state": {
            "_model_module": "@jupyter-widgets/controls",
            "_model_module_version": "1.5.0",
            "_model_name": "ProgressStyleModel",
            "_view_count": null,
            "_view_module": "@jupyter-widgets/base",
            "_view_module_version": "1.2.0",
            "_view_name": "StyleView",
            "bar_color": null,
            "description_width": ""
          }
        },
        "1cfb9525150645b89fc1eaa526f13009": {
          "model_module": "@jupyter-widgets/base",
          "model_name": "LayoutModel",
          "model_module_version": "1.2.0",
          "state": {
            "_model_module": "@jupyter-widgets/base",
            "_model_module_version": "1.2.0",
            "_model_name": "LayoutModel",
            "_view_count": null,
            "_view_module": "@jupyter-widgets/base",
            "_view_module_version": "1.2.0",
            "_view_name": "LayoutView",
            "align_content": null,
            "align_items": null,
            "align_self": null,
            "border": null,
            "bottom": null,
            "display": null,
            "flex": null,
            "flex_flow": null,
            "grid_area": null,
            "grid_auto_columns": null,
            "grid_auto_flow": null,
            "grid_auto_rows": null,
            "grid_column": null,
            "grid_gap": null,
            "grid_row": null,
            "grid_template_areas": null,
            "grid_template_columns": null,
            "grid_template_rows": null,
            "height": null,
            "justify_content": null,
            "justify_items": null,
            "left": null,
            "margin": null,
            "max_height": null,
            "max_width": null,
            "min_height": null,
            "min_width": null,
            "object_fit": null,
            "object_position": null,
            "order": null,
            "overflow": null,
            "overflow_x": null,
            "overflow_y": null,
            "padding": null,
            "right": null,
            "top": null,
            "visibility": null,
            "width": null
          }
        },
        "32a67ddca8654670aca707311c2112f0": {
          "model_module": "@jupyter-widgets/controls",
          "model_name": "DescriptionStyleModel",
          "model_module_version": "1.5.0",
          "state": {
            "_model_module": "@jupyter-widgets/controls",
            "_model_module_version": "1.5.0",
            "_model_name": "DescriptionStyleModel",
            "_view_count": null,
            "_view_module": "@jupyter-widgets/base",
            "_view_module_version": "1.2.0",
            "_view_name": "StyleView",
            "description_width": ""
          }
        }
      }
    }
  },
  "nbformat": 4,
  "nbformat_minor": 0
}