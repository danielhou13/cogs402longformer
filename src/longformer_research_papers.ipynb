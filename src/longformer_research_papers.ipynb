{
 "cells": [
  {
   "cell_type": "code",
   "execution_count": 1,
   "id": "08bba816-6364-4b40-ba29-a22a8bb9e964",
   "metadata": {},
   "outputs": [
    {
     "name": "stdout",
     "output_type": "stream",
     "text": [
      "C:\\Users\\danie\\Documents\\COGS402\\cogs402longformer\\src\n",
      "C:\\Users\\danie\\Documents\\COGS402\\cogs402longformer\n"
     ]
    }
   ],
   "source": [
    "import os\n",
    "print(os.getcwd())\n",
    "path_parent = os.path.dirname(os.getcwd())\n",
    "os.chdir(path_parent)\n",
    "print(os.getcwd())"
   ]
  },
  {
   "cell_type": "markdown",
   "id": "9a4c14be-f567-49a0-94de-02fea10d568a",
   "metadata": {},
   "source": [
    "## Import model, tokenizer, and datasets"
   ]
  },
  {
   "cell_type": "code",
   "execution_count": 16,
   "id": "2d269558-f433-4c28-8ac2-6ede43cb338a",
   "metadata": {},
   "outputs": [
    {
     "name": "stderr",
     "output_type": "stream",
     "text": [
      "Some weights of the model checkpoint at allenai/longformer-base-4096 were not used when initializing LongformerForSequenceClassification: ['lm_head.dense.bias', 'lm_head.bias', 'lm_head.decoder.weight', 'lm_head.layer_norm.weight', 'lm_head.dense.weight', 'lm_head.layer_norm.bias']\n",
      "- This IS expected if you are initializing LongformerForSequenceClassification from the checkpoint of a model trained on another task or with another architecture (e.g. initializing a BertForSequenceClassification model from a BertForPreTraining model).\n",
      "- This IS NOT expected if you are initializing LongformerForSequenceClassification from the checkpoint of a model that you expect to be exactly identical (initializing a BertForSequenceClassification model from a BertForSequenceClassification model).\n",
      "Some weights of LongformerForSequenceClassification were not initialized from the model checkpoint at allenai/longformer-base-4096 and are newly initialized: ['classifier.out_proj.bias', 'classifier.dense.weight', 'classifier.out_proj.weight', 'classifier.dense.bias']\n",
      "You should probably TRAIN this model on a down-stream task to be able to use it for predictions and inference.\n"
     ]
    }
   ],
   "source": [
    "#import huggingface models\n",
    "from transformers import LongformerForSequenceClassification, LongformerTokenizer\n",
    "\n",
    "tokenizer = LongformerTokenizer.from_pretrained(\"allenai/longformer-base-4096\")\n",
    "\n",
    "#base model for training \n",
    "model = LongformerForSequenceClassification.from_pretrained(\"allenai/longformer-base-4096\",num_labels=2)\n",
    "\n",
    "# # #importing local checkpoin\n",
    "# model2 = LongformerForSequenceClassification.from_pretrained(\"models/longformer-finetuned_papers/checkpoint-2356\",num_labels=2)\n",
    "\n",
    "#import same version from hub\n",
    "model3 = LongformerForSequenceClassification.from_pretrained(\"danielhou13/longformer-finetuned_papers\",num_labels=2)"
   ]
  },
  {
   "cell_type": "code",
   "execution_count": 17,
   "id": "9ab1418b-1793-4244-af4c-1d847080d2ae",
   "metadata": {},
   "outputs": [
    {
     "name": "stderr",
     "output_type": "stream",
     "text": [
      "Using custom data configuration danielhou13--cogs402dataset-5c7aa10e6c95142f\n",
      "Reusing dataset parquet (C:\\Users\\danie\\.cache\\huggingface\\datasets\\parquet\\danielhou13--cogs402dataset-5c7aa10e6c95142f\\0.0.0\\0b6d5799bb726b24ad7fc7be720c170d8e497f575d02d47537de9a5bac074901)\n"
     ]
    },
    {
     "data": {
      "application/vnd.jupyter.widget-view+json": {
       "model_id": "ed8508075ce149a2a50a1efc582f7d81",
       "version_major": 2,
       "version_minor": 0
      },
      "text/plain": [
       "  0%|          | 0/2 [00:00<?, ?it/s]"
      ]
     },
     "metadata": {},
     "output_type": "display_data"
    },
    {
     "name": "stdout",
     "output_type": "stream",
     "text": [
      "DatasetDict({\n",
      "    train: Dataset({\n",
      "        features: ['text', 'labels'],\n",
      "        num_rows: 4715\n",
      "    })\n",
      "    test: Dataset({\n",
      "        features: ['text', 'labels'],\n",
      "        num_rows: 1179\n",
      "    })\n",
      "})\n"
     ]
    }
   ],
   "source": [
    "# ignore next 3 blocks if importing from hub\n",
    "from datasets import load_dataset\n",
    "cogs402_ds = load_dataset(\"danielhou13/cogs402dataset\")\n",
    "print(cogs402_ds)"
   ]
  },
  {
   "cell_type": "markdown",
   "id": "c374e282-651e-4547-8266-e3f206b554b6",
   "metadata": {},
   "source": [
    "You can use a csv file to convert into a huggingface dataset with the following three blocks of code. "
   ]
  },
  {
   "cell_type": "code",
   "execution_count": 18,
   "id": "9ce08ccf-9c30-4c5c-8f75-eac961a8d739",
   "metadata": {},
   "outputs": [],
   "source": [
    "# import pandas as pd\n",
    "# ds = pd.read_csv(\"data/longdoc.csv\")\n",
    "\n",
    "# #convert to huggingface dataset and split into validation\n",
    "# import datasets\n",
    "# dataset = datasets.Dataset.from_pandas(ds)\n",
    "# cogs402_ds = dataset.train_test_split(test_size=0.20)\n",
    "# print(cogs402_ds)"
   ]
  },
  {
   "cell_type": "code",
   "execution_count": 19,
   "id": "1172eee5-5449-4f78-a553-b114da37b459",
   "metadata": {},
   "outputs": [],
   "source": [
    "# # upload this dataset to huggingface\n",
    "# from huggingface_hub import notebook_login\n",
    "\n",
    "# notebook_login()"
   ]
  },
  {
   "cell_type": "code",
   "execution_count": 20,
   "id": "74b23c8d-9230-4ad2-9bbf-b4f434721752",
   "metadata": {},
   "outputs": [],
   "source": [
    "# cogs402_ds.push_to_hub(\"danielhou13/cogs402dataset\")"
   ]
  },
  {
   "cell_type": "code",
   "execution_count": 21,
   "id": "ae258077-e0df-4704-b3ca-89bac8f9280a",
   "metadata": {},
   "outputs": [
    {
     "name": "stdout",
     "output_type": "stream",
     "text": [
      "Dataset({\n",
      "    features: ['text', 'labels'],\n",
      "    num_rows: 1179\n",
      "})\n"
     ]
    }
   ],
   "source": [
    "#seperate the two datasets\n",
    "train_ds = cogs402_ds[\"train\"]\n",
    "eval_ds = cogs402_ds[\"test\"]\n",
    "print(eval_ds)"
   ]
  },
  {
   "cell_type": "markdown",
   "id": "5596f2d9-41f9-4e1a-baae-198c4e29cade",
   "metadata": {},
   "source": [
    "## Exploratory Data Analysis"
   ]
  },
  {
   "cell_type": "markdown",
   "id": "1a49a575-e947-455b-be60-04ce88ecc249",
   "metadata": {},
   "source": [
    "We want to make sure that the number of classes are roughly the same for the training set, otherwise we would have a class imbalance. We first want to convert the dataset into pandas, which will allow us to easily perform our exploratory data analysis."
   ]
  },
  {
   "cell_type": "code",
   "execution_count": 22,
   "id": "f2276e34-395e-496c-8cf8-5f3cc0147363",
   "metadata": {},
   "outputs": [],
   "source": [
    "import pandas as pd\n",
    "import matplotlib.pyplot as plt\n",
    "cogs402_ds.set_format(type=\"pandas\")\n",
    "df = cogs402_ds[\"train\"][:]\n",
    "df[\"Words Per Tweet\"] = df[\"text\"].str.split().apply(len)"
   ]
  },
  {
   "cell_type": "markdown",
   "id": "1c55b80c-ac50-498e-ba50-9984b52008af",
   "metadata": {},
   "source": [
    "We can see that the distribution of classes is not a perfect 50/50, as we see the positive class (AI papers) have slightly more examples than the negative (PL papers)"
   ]
  },
  {
   "cell_type": "code",
   "execution_count": 23,
   "id": "a376c790-66b4-4f9e-b9ba-0aa0ab04c1cb",
   "metadata": {},
   "outputs": [
    {
     "data": {
      "image/png": "[encoded data removed]",
      "text/plain": [
       "<Figure size 432x288 with 1 Axes>"
      ]
     },
     "metadata": {
      "needs_background": "light"
     },
     "output_type": "display_data"
    }
   ],
   "source": [
    "df[\"labels\"].value_counts(ascending=True).plot.barh()\n",
    "plt.title(\"Frequency of Classes\")\n",
    "plt.show()"
   ]
  },
  {
   "cell_type": "code",
   "execution_count": 24,
   "id": "17f9f148-b9cb-45a7-9f92-247d1ce7cbfb",
   "metadata": {},
   "outputs": [
    {
     "data": {
      "text/plain": [
       "0    2330\n",
       "1    2385\n",
       "Name: labels, dtype: int64"
      ]
     },
     "execution_count": 24,
     "metadata": {},
     "output_type": "execute_result"
    }
   ],
   "source": [
    "df[\"labels\"].value_counts(ascending=True)"
   ]
  },
  {
   "cell_type": "markdown",
   "id": "5e88ecb9-8218-4a04-abd4-98701ca77eee",
   "metadata": {},
   "source": [
    "We also see that the number of words per example in the dataset can be upwards of over 25,000. That is way too many words for the Longformer, therefore we know that absolutely have to truncate our dataset when training."
   ]
  },
  {
   "cell_type": "code",
   "execution_count": 25,
   "id": "bd818846-93c7-4dfe-9316-442d90fabac3",
   "metadata": {},
   "outputs": [
    {
     "data": {
      "image/png": "[encoded data removed]",
      "text/plain": [
       "<Figure size 432x288 with 1 Axes>"
      ]
     },
     "metadata": {
      "needs_background": "light"
     },
     "output_type": "display_data"
    }
   ],
   "source": [
    "df.boxplot(\"Words Per Tweet\", by=\"labels\", grid=False,\n",
    "          showfliers=False, color=\"black\")\n",
    "plt.suptitle(\"\")\n",
    "plt.xlabel(\"\")\n",
    "plt.show()"
   ]
  },
  {
   "cell_type": "code",
   "execution_count": 26,
   "id": "d0b96502-41cc-4f67-a4c3-d10ceec8758e",
   "metadata": {},
   "outputs": [],
   "source": [
    "cogs402_ds.reset_format()"
   ]
  },
  {
   "cell_type": "markdown",
   "id": "69d5ce22-50a4-494d-a5ab-a90de0402090",
   "metadata": {},
   "source": [
    "## Preprocessing"
   ]
  },
  {
   "cell_type": "markdown",
   "id": "a818aa8e-5332-44c2-be50-a8fc8e576486",
   "metadata": {},
   "source": [
    "Since the target column is already labeled \"labels\", we just have to tokenize the text in the dataset."
   ]
  },
  {
   "cell_type": "code",
   "execution_count": 27,
   "id": "2e0ba762-6c42-48de-bb43-fcbed56449a3",
   "metadata": {},
   "outputs": [],
   "source": [
    "#trainer API auto uses dynamic padding... supposedly\n",
    "def tokenize(examples):\n",
    "    return tokenizer(examples[\"text\"], truncation=True)"
   ]
  },
  {
   "cell_type": "code",
   "execution_count": 28,
   "id": "d9b78e6c-12f5-4c58-bfd6-94a820e6ce6b",
   "metadata": {},
   "outputs": [
    {
     "data": {
      "application/vnd.jupyter.widget-view+json": {
       "model_id": "ba526630c86445f1b4fef3b416165e97",
       "version_major": 2,
       "version_minor": 0
      },
      "text/plain": [
       "0ex [00:00, ?ex/s]"
      ]
     },
     "metadata": {},
     "output_type": "display_data"
    },
    {
     "data": {
      "application/vnd.jupyter.widget-view+json": {
       "model_id": "23b3e4001f87419fb83331f4deb86d6c",
       "version_major": 2,
       "version_minor": 0
      },
      "text/plain": [
       "0ex [00:00, ?ex/s]"
      ]
     },
     "metadata": {},
     "output_type": "display_data"
    }
   ],
   "source": [
    "#tokenize the data\n",
    "train_dataset = train_ds.map(tokenize, load_from_cache_file=False)\n",
    "val_dataset = eval_ds.map(tokenize, load_from_cache_file=False)"
   ]
  },
  {
   "cell_type": "markdown",
   "id": "44cac47e-d42d-4732-a5ff-c0e512c623b2",
   "metadata": {},
   "source": [
    "Finally we convert the columns into a pytorch compatible format and remove the text column since we have input_ids"
   ]
  },
  {
   "cell_type": "code",
   "execution_count": 29,
   "id": "96ede4fd-0500-455a-8a70-28500c80216d",
   "metadata": {},
   "outputs": [],
   "source": [
    "#convert required columns and remove unrequired ones\n",
    "train_dataset.set_format(\"torch\", columns=['input_ids', 'attention_mask', \"labels\"])\n",
    "val_dataset.set_format(\"torch\", columns=['input_ids', 'attention_mask', \"labels\"])\n",
    "\n",
    "train_dataset = train_dataset.remove_columns(['text'])\n",
    "val_dataset = val_dataset.remove_columns(['text'])"
   ]
  },
  {
   "cell_type": "code",
   "execution_count": 30,
   "id": "32c110ce-27fe-41aa-adad-78cb3dda5502",
   "metadata": {},
   "outputs": [
    {
     "name": "stdout",
     "output_type": "stream",
     "text": [
      "Dataset({\n",
      "    features: ['labels', 'input_ids', 'attention_mask'],\n",
      "    num_rows: 1179\n",
      "})\n"
     ]
    }
   ],
   "source": [
    "print(val_dataset)"
   ]
  },
  {
   "cell_type": "markdown",
   "id": "d7f7f555-032e-4d38-aa38-2af98701c4af",
   "metadata": {},
   "source": [
    "## Training"
   ]
  },
  {
   "cell_type": "markdown",
   "id": "806b4626-d47f-4664-9251-7ebfae9cab89",
   "metadata": {},
   "source": [
    "We train 2 epochs and use gradient accumulation, gradient checkpointing and mixed precision in order to lower the memory requirements of the training."
   ]
  },
  {
   "cell_type": "code",
   "execution_count": 31,
   "id": "5dc200b8-0157-4095-99ad-1d0b2298c478",
   "metadata": {},
   "outputs": [],
   "source": [
    "#create a local models folder for checkpoint storage\n",
    "if not os.path.exists(\"models\"):\n",
    "    os.mkdir(\"models\")"
   ]
  },
  {
   "cell_type": "code",
   "execution_count": 32,
   "id": "6a749d43-e2d1-4de8-bbc9-50a5a687c18f",
   "metadata": {},
   "outputs": [],
   "source": [
    "from transformers import Trainer, TrainingArguments\n",
    "\n",
    "batch_size = 1\n",
    "gradient_acc = 4\n",
    "logging_steps = (len(train_dataset) // batch_size) //gradient_acc\n",
    "model_name = f\"longformer-finetuned_papers\"\n",
    "training_args = TrainingArguments(output_dir=f\"models/{model_name}\",\n",
    "                                  num_train_epochs = 2,\n",
    "                                  learning_rate=2e-5,\n",
    "                                  per_device_train_batch_size=batch_size,\n",
    "                                  per_device_eval_batch_size=batch_size,\n",
    "                                  weight_decay=0.01,\n",
    "                                  evaluation_strategy=\"epoch\",\n",
    "                                  disable_tqdm=False,\n",
    "                                  push_to_hub=False,\n",
    "                                  logging_steps=logging_steps,\n",
    "                                  log_level=\"error\",\n",
    "                                  fp16=True,\n",
    "                                  gradient_accumulation_steps=gradient_acc,\n",
    "                                  gradient_checkpointing=True,\n",
    "                                  save_strategy = \"epoch\")"
   ]
  },
  {
   "cell_type": "code",
   "execution_count": 33,
   "id": "2f6544d7-bffa-4feb-9899-cbecc48f1a6b",
   "metadata": {},
   "outputs": [],
   "source": [
    "from transformers import DataCollatorWithPadding\n",
    "data_collator = DataCollatorWithPadding(tokenizer=tokenizer)"
   ]
  },
  {
   "cell_type": "code",
   "execution_count": 34,
   "id": "4594f511-2304-492c-ac9c-5b3845e2b6fd",
   "metadata": {},
   "outputs": [
    {
     "data": {
      "text/plain": [
       "device(type='cuda')"
      ]
     },
     "execution_count": 34,
     "metadata": {},
     "output_type": "execute_result"
    }
   ],
   "source": [
    "import torch\n",
    "\n",
    "device = torch.device(\"cuda\") if torch.cuda.is_available() else torch.device(\"cpu\")\n",
    "model3.to(device)\n",
    "device"
   ]
  },
  {
   "cell_type": "markdown",
   "id": "945bf95f-1043-4c2d-b187-80a93bcfdf84",
   "metadata": {},
   "source": [
    "We use f1-score and accuracy as fairly general metrics."
   ]
  },
  {
   "cell_type": "code",
   "execution_count": 35,
   "id": "fb9f6cb1-220b-407f-b9fa-43672b117209",
   "metadata": {},
   "outputs": [],
   "source": [
    "from sklearn.metrics import accuracy_score, f1_score\n",
    "\n",
    "def compute_metrics(pred):\n",
    "    labels = pred.label_ids\n",
    "    preds = pred.predictions.argmax(-1)\n",
    "    f1 = f1_score(labels, preds, average=\"weighted\")\n",
    "    acc = accuracy_score(labels, preds)\n",
    "    return {\"accuracy\": acc, \"f1\": f1}"
   ]
  },
  {
   "cell_type": "code",
   "execution_count": 36,
   "id": "154504ce-d89d-4c03-9978-403b3d7a8a72",
   "metadata": {},
   "outputs": [],
   "source": [
    "trainer = Trainer(\n",
    "    model=model3,\n",
    "    args=training_args,\n",
    "    train_dataset=train_dataset,\n",
    "    eval_dataset=val_dataset,\n",
    "    compute_metrics=compute_metrics,\n",
    "    tokenizer=tokenizer,\n",
    "    data_collator = data_collator\n",
    ")"
   ]
  },
  {
   "cell_type": "code",
   "execution_count": 18,
   "id": "ebed74ca-a33a-43f3-b429-764d17260c9c",
   "metadata": {},
   "outputs": [
    {
     "name": "stderr",
     "output_type": "stream",
     "text": [
      "C:\\Users\\danie\\miniconda3\\lib\\site-packages\\transformers\\optimization.py:306: FutureWarning: This implementation of AdamW is deprecated and will be removed in a future version. Use thePyTorch implementation torch.optim.AdamW instead, or set `no_deprecation_warning=True` to disable this warning\n",
      "  warnings.warn(\n"
     ]
    },
    {
     "data": {
      "text/html": [
       "\n",
       "    <div>\n",
       "      \n",
       "      <progress value='2356' max='2356' style='width:300px; height:20px; vertical-align: middle;'></progress>\n",
       "      [2356/2356 2:30:45, Epoch 1/2]\n",
       "    </div>\n",
       "    <table border=\"1\" class=\"dataframe\">\n",
       "  <thead>\n",
       " <tr style=\"text-align: left;\">\n",
       "      <th>Epoch</th>\n",
       "      <th>Training Loss</th>\n",
       "      <th>Validation Loss</th>\n",
       "      <th>Accuracy</th>\n",
       "      <th>F1</th>\n",
       "    </tr>\n",
       "  </thead>\n",
       "  <tbody>\n",
       "    <tr>\n",
       "      <td>0</td>\n",
       "      <td>0.347300</td>\n",
       "      <td>0.348356</td>\n",
       "      <td>0.910093</td>\n",
       "      <td>0.909685</td>\n",
       "    </tr>\n",
       "    <tr>\n",
       "      <td>1</td>\n",
       "      <td>0.260300</td>\n",
       "      <td>0.324245</td>\n",
       "      <td>0.921120</td>\n",
       "      <td>0.920982</td>\n",
       "    </tr>\n",
       "  </tbody>\n",
       "</table><p>"
      ],
      "text/plain": [
       "<IPython.core.display.HTML object>"
      ]
     },
     "metadata": {},
     "output_type": "display_data"
    },
    {
     "data": {
      "text/plain": [
       "TrainOutput(global_step=2356, training_loss=0.3037517916771673, metrics={'train_runtime': 9051.1955, 'train_samples_per_second': 1.042, 'train_steps_per_second': 0.26, 'total_flos': 2.4469369794570336e+16, 'train_loss': 0.3037517916771673, 'epoch': 2.0})"
      ]
     },
     "execution_count": 18,
     "metadata": {},
     "output_type": "execute_result"
    }
   ],
   "source": [
    "trainer.train()"
   ]
  },
  {
   "cell_type": "code",
   "execution_count": 37,
   "id": "57e2e2f2-646c-4166-ba49-5158a96811a4",
   "metadata": {},
   "outputs": [
    {
     "data": {
      "text/html": [
       "\n",
       "    <div>\n",
       "      \n",
       "      <progress value='1179' max='1179' style='width:300px; height:20px; vertical-align: middle;'></progress>\n",
       "      [1179/1179 03:52]\n",
       "    </div>\n",
       "    "
      ],
      "text/plain": [
       "<IPython.core.display.HTML object>"
      ]
     },
     "metadata": {},
     "output_type": "display_data"
    }
   ],
   "source": [
    "preds_output = trainer.predict(val_dataset)"
   ]
  },
  {
   "cell_type": "markdown",
   "id": "39fcce3d-2b32-4321-a3c3-290f41fa34e0",
   "metadata": {},
   "source": [
    "## Results"
   ]
  },
  {
   "cell_type": "code",
   "execution_count": 38,
   "id": "19b548e1-058b-47f9-ac6b-bbb0b39ce827",
   "metadata": {},
   "outputs": [
    {
     "data": {
      "text/plain": [
       "{'test_loss': 0.3242451250553131,\n",
       " 'test_accuracy': 0.9211195928753181,\n",
       " 'test_f1': 0.9209824920334204,\n",
       " 'test_runtime': 235.3432,\n",
       " 'test_samples_per_second': 5.01,\n",
       " 'test_steps_per_second': 5.01}"
      ]
     },
     "execution_count": 38,
     "metadata": {},
     "output_type": "execute_result"
    }
   ],
   "source": [
    "preds_output.metrics"
   ]
  },
  {
   "cell_type": "code",
   "execution_count": 39,
   "id": "4f6b0148-92e1-48ec-938d-26c269ee1301",
   "metadata": {},
   "outputs": [],
   "source": [
    "import numpy as np\n",
    "y_preds = np.argmax(preds_output.predictions, axis=1)\n",
    "y_true = np.array(val_dataset[\"labels\"])"
   ]
  },
  {
   "cell_type": "code",
   "execution_count": 40,
   "id": "33b770a6-2a13-4878-b3bf-33b4eaf71159",
   "metadata": {},
   "outputs": [
    {
     "name": "stdout",
     "output_type": "stream",
     "text": [
      "              precision    recall  f1-score   support\n",
      "\n",
      "          PL       0.87      0.98      0.92       571\n",
      "          AI       0.98      0.87      0.92       608\n",
      "\n",
      "    accuracy                           0.92      1179\n",
      "   macro avg       0.93      0.92      0.92      1179\n",
      "weighted avg       0.93      0.92      0.92      1179\n",
      "\n"
     ]
    }
   ],
   "source": [
    "from sklearn.metrics import classification_report\n",
    "print(\n",
    "    classification_report(\n",
    "        y_true, y_preds, target_names=[\"PL\", \"AI\"]\n",
    "    )\n",
    ")"
   ]
  },
  {
   "cell_type": "code",
   "execution_count": 41,
   "id": "9ceb13bd-a16c-4c95-a28a-c957b1129478",
   "metadata": {},
   "outputs": [
    {
     "data": {
      "image/png": "[encoded data removed]",
      "text/plain": [
       "<Figure size 432x432 with 1 Axes>"
      ]
     },
     "metadata": {
      "needs_background": "light"
     },
     "output_type": "display_data"
    },
    {
     "name": "stdout",
     "output_type": "stream",
     "text": [
      "(1179,)\n",
      "(1179,)\n"
     ]
    }
   ],
   "source": [
    "from sklearn.metrics import ConfusionMatrixDisplay, confusion_matrix\n",
    "import matplotlib.pyplot as plt\n",
    "\n",
    "def plot_confusion_matrix(y_preds, y_true, labels):\n",
    "    cm = confusion_matrix(y_true, y_preds)\n",
    "    fig, ax = plt.subplots(figsize=(6, 6))\n",
    "    disp = ConfusionMatrixDisplay(confusion_matrix=cm, display_labels=[\"PL\", \"AI\"])\n",
    "    disp.plot(cmap=\"Blues\", values_format=\".2f\", ax=ax, colorbar=False)\n",
    "    plt.title(\"Normalized confusion matrix\")\n",
    "    plt.show()\n",
    "\n",
    "plot_confusion_matrix(y_preds, y_true, labels=[0,1])\n",
    "print(y_true.shape)\n",
    "print(y_preds.shape)"
   ]
  },
  {
   "cell_type": "markdown",
   "id": "7e28f799-2376-4dd1-9a85-c5a0dcf82562",
   "metadata": {},
   "source": [
    "## Publish to Hub"
   ]
  },
  {
   "cell_type": "code",
   "execution_count": 24,
   "id": "0e428563-d097-4dab-aa4c-0a3f38d46e01",
   "metadata": {},
   "outputs": [],
   "source": [
    "# # upload model to huggingface for storage\n",
    "# # replace danielhou13 with personal user\n",
    "# from huggingface_hub import notebook_login\n",
    "# notebook_login()\n",
    "# model.push_to_hub(\"danielhou13/longformer-finetuned_papers\")"
   ]
  }
 ],
 "metadata": {
  "kernelspec": {
   "display_name": "cogs402",
   "language": "python",
   "name": "cogs402"
  },
  "language_info": {
   "codemirror_mode": {
    "name": "ipython",
    "version": 3
   },
   "file_extension": ".py",
   "mimetype": "text/x-python",
   "name": "python",
   "nbconvert_exporter": "python",
   "pygments_lexer": "ipython3",
   "version": "3.9.9"
  }
 },
 "nbformat": 4,
 "nbformat_minor": 5
}
