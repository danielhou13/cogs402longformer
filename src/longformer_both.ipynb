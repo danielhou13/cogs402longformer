{
 "cells": [
  {
   "cell_type": "code",
   "execution_count": 1,
   "id": "e4d9eff0-0af2-4cc8-8153-4140e3e5c1da",
   "metadata": {},
   "outputs": [
    {
     "name": "stdout",
     "output_type": "stream",
     "text": [
      "C:\\Users\\danie\\Documents\\COGS402\\cogs402longformer\\src\n",
      "C:\\Users\\danie\\Documents\\COGS402\\cogs402longformer\n"
     ]
    }
   ],
   "source": [
    "import os\n",
    "print(os.getcwd())\n",
    "path_parent = os.path.dirname(os.getcwd())\n",
    "os.chdir(path_parent)\n",
    "print(os.getcwd())"
   ]
  },
  {
   "cell_type": "code",
   "execution_count": 2,
   "id": "fd2ae9c1-e8d5-4eb3-80df-4ed45ea8c449",
   "metadata": {},
   "outputs": [
    {
     "name": "stderr",
     "output_type": "stream",
     "text": [
      "Reusing dataset hyperpartisan_news_detection (C:\\Users\\danie\\.cache\\huggingface\\datasets\\hyperpartisan_news_detection\\bypublisher\\1.0.0\\7f4215b0474950ddf516e806400ab81d098b3da3b3a919a13cd1a4cf2c677012)\n"
     ]
    },
    {
     "data": {
      "application/vnd.jupyter.widget-view+json": {
       "model_id": "3497c708a6424f8a9dec1f694da1c525",
       "version_major": 2,
       "version_minor": 0
      },
      "text/plain": [
       "  0%|          | 0/2 [00:00<?, ?it/s]"
      ]
     },
     "metadata": {},
     "output_type": "display_data"
    },
    {
     "name": "stderr",
     "output_type": "stream",
     "text": [
      "Using custom data configuration danielhou13--cogs402dataset-5c7aa10e6c95142f\n",
      "Reusing dataset parquet (C:\\Users\\danie\\.cache\\huggingface\\datasets\\parquet\\danielhou13--cogs402dataset-5c7aa10e6c95142f\\0.0.0\\0b6d5799bb726b24ad7fc7be720c170d8e497f575d02d47537de9a5bac074901)\n"
     ]
    },
    {
     "data": {
      "application/vnd.jupyter.widget-view+json": {
       "model_id": "6b0da752e11a4d6a9df67a89154cd94f",
       "version_major": 2,
       "version_minor": 0
      },
      "text/plain": [
       "  0%|          | 0/2 [00:00<?, ?it/s]"
      ]
     },
     "metadata": {},
     "output_type": "display_data"
    }
   ],
   "source": [
    "import datasets \n",
    "#load dataset\n",
    "dataset=datasets.load_dataset('hyperpartisan_news_detection', 'bypublisher')\n",
    "cogs402_ds = datasets.load_dataset(\"danielhou13/cogs402dataset\")"
   ]
  },
  {
   "cell_type": "code",
   "execution_count": 3,
   "id": "ec0c1162-22bd-4780-86e9-81bf5ab73cf2",
   "metadata": {},
   "outputs": [
    {
     "name": "stderr",
     "output_type": "stream",
     "text": [
      "Some weights of the model checkpoint at allenai/longformer-base-4096 were not used when initializing LongformerForSequenceClassification: ['lm_head.dense.bias', 'lm_head.bias', 'lm_head.dense.weight', 'lm_head.layer_norm.weight', 'lm_head.decoder.weight', 'lm_head.layer_norm.bias']\n",
      "- This IS expected if you are initializing LongformerForSequenceClassification from the checkpoint of a model trained on another task or with another architecture (e.g. initializing a BertForSequenceClassification model from a BertForPreTraining model).\n",
      "- This IS NOT expected if you are initializing LongformerForSequenceClassification from the checkpoint of a model that you expect to be exactly identical (initializing a BertForSequenceClassification model from a BertForSequenceClassification model).\n",
      "Some weights of LongformerForSequenceClassification were not initialized from the model checkpoint at allenai/longformer-base-4096 and are newly initialized: ['classifier.out_proj.weight', 'classifier.dense.weight', 'classifier.out_proj.bias', 'classifier.dense.bias']\n",
      "You should probably TRAIN this model on a down-stream task to be able to use it for predictions and inference.\n"
     ]
    }
   ],
   "source": [
    "#import huggingface models\n",
    "from transformers import LongformerForSequenceClassification, LongformerTokenizer\n",
    "\n",
    "tokenizer = LongformerTokenizer.from_pretrained(\"allenai/longformer-base-4096\")\n",
    "\n",
    "#base model for training \n",
    "model = LongformerForSequenceClassification.from_pretrained(\"allenai/longformer-base-4096\",num_labels=4)\n",
    "# model2 = LongformerForSequenceClassification.from_pretrained(\"models/longformer-finetuned_both/checkpoint-7356\",num_labels=4)\n",
    "\n",
    "#import same version from hub\n",
    "model3 = LongformerForSequenceClassification.from_pretrained(\"danielhou13/longformer-finetuned_v2_cogs402\",num_labels=2)"
   ]
  },
  {
   "cell_type": "code",
   "execution_count": 4,
   "id": "689d6eb3-559d-41bc-89c7-cd511fddd8e5",
   "metadata": {},
   "outputs": [
    {
     "name": "stdout",
     "output_type": "stream",
     "text": [
      "Dataset({\n",
      "    features: ['text', 'title', 'hyperpartisan', 'url', 'published_at', 'bias', 'labels'],\n",
      "    num_rows: 600000\n",
      "})\n"
     ]
    }
   ],
   "source": [
    "#seperate the two splits for both datasets\n",
    "train_ds = dataset[\"train\"]\n",
    "eval_ds = dataset[\"validation\"]\n",
    "\n",
    "train_ds2 = cogs402_ds[\"train\"]\n",
    "eval_ds2 = cogs402_ds[\"test\"]\n",
    "\n",
    "#convert hyperpartisan to correct format (from true/false to 1/0)\n",
    "labels = map(int, train_ds['hyperpartisan'])\n",
    "labels = list(labels)\n",
    "\n",
    "labels2 = map(int, eval_ds['hyperpartisan'])\n",
    "labels2 = list(labels2)\n",
    "\n",
    "#update labels on cogs402ds\n",
    "labels3 = map(lambda x: x+2, train_ds2['labels'])\n",
    "labels3 = list(labels3)\n",
    "\n",
    "labels4 = map(lambda x: x+2, eval_ds2['labels'])\n",
    "labels4 = list(labels4)\n",
    "\n",
    "#add the columns to the dataset\n",
    "train_ds = train_ds.add_column(\"labels\", labels)\n",
    "eval_ds = eval_ds.add_column(\"labels\", labels2)\n",
    "print(train_ds)"
   ]
  },
  {
   "cell_type": "code",
   "execution_count": 5,
   "id": "002f6891-31bd-453a-bb12-351c955cff0b",
   "metadata": {},
   "outputs": [],
   "source": [
    "#remove old labels column\n",
    "train_ds2 = train_ds2.remove_columns(['labels'])\n",
    "eval_ds2 = eval_ds2.remove_columns(['labels'])"
   ]
  },
  {
   "cell_type": "code",
   "execution_count": 6,
   "id": "8789c10d-09a3-473b-89c1-9c3efa5f6b6b",
   "metadata": {},
   "outputs": [
    {
     "name": "stdout",
     "output_type": "stream",
     "text": [
      "Dataset({\n",
      "    features: ['text', 'labels'],\n",
      "    num_rows: 4715\n",
      "})\n"
     ]
    }
   ],
   "source": [
    "#replace with new labels column\n",
    "train_ds2 = train_ds2.add_column(\"labels\", labels3)\n",
    "eval_ds2 = eval_ds2.add_column(\"labels\", labels4)\n",
    "print(train_ds2)"
   ]
  },
  {
   "cell_type": "code",
   "execution_count": 7,
   "id": "be9eb7c4-bc59-4f5a-b178-5b91b922b14c",
   "metadata": {},
   "outputs": [],
   "source": [
    "#trainer API auto uses dynamic padding... supposedly\n",
    "def tokenize(examples):\n",
    "    return tokenizer(examples[\"text\"], truncation=True)"
   ]
  },
  {
   "cell_type": "code",
   "execution_count": 8,
   "id": "1f1393a4-9191-4ac9-866e-acbc0953de29",
   "metadata": {},
   "outputs": [
    {
     "data": {
      "application/vnd.jupyter.widget-view+json": {
       "model_id": "706fe9b9460b41109c3ae6d983684f6a",
       "version_major": 2,
       "version_minor": 0
      },
      "text/plain": [
       "0ex [00:00, ?ex/s]"
      ]
     },
     "metadata": {},
     "output_type": "display_data"
    },
    {
     "data": {
      "application/vnd.jupyter.widget-view+json": {
       "model_id": "eb5284cd72c04293a81fdfc6859b48b0",
       "version_major": 2,
       "version_minor": 0
      },
      "text/plain": [
       "0ex [00:00, ?ex/s]"
      ]
     },
     "metadata": {},
     "output_type": "display_data"
    }
   ],
   "source": [
    "## Take subset of data from news\n",
    "train_size = 10000\n",
    "val_size = 2000\n",
    "import numpy as np\n",
    "\n",
    "train_indices = np.random.randint(0, len(train_ds), train_size)\n",
    "val_indices = np.random.randint(0, len(eval_ds), val_size)\n",
    "train_ds = train_ds.select(train_indices)\n",
    "val_ds = eval_ds.select(val_indices)\n",
    "\n",
    "#tokenize the data for papers\n",
    "train_dataset = train_ds.map(tokenize, load_from_cache_file=False)\n",
    "val_dataset = val_ds.map(tokenize, load_from_cache_file=False)"
   ]
  },
  {
   "cell_type": "code",
   "execution_count": 9,
   "id": "4e76dfc2-2986-4bef-9299-57c62330a102",
   "metadata": {},
   "outputs": [
    {
     "data": {
      "application/vnd.jupyter.widget-view+json": {
       "model_id": "51f95ae20bd04f4f9041ff339cedccd0",
       "version_major": 2,
       "version_minor": 0
      },
      "text/plain": [
       "0ex [00:00, ?ex/s]"
      ]
     },
     "metadata": {},
     "output_type": "display_data"
    },
    {
     "data": {
      "application/vnd.jupyter.widget-view+json": {
       "model_id": "120284c4a8164bc887f06b1a4836fd59",
       "version_major": 2,
       "version_minor": 0
      },
      "text/plain": [
       "0ex [00:00, ?ex/s]"
      ]
     },
     "metadata": {},
     "output_type": "display_data"
    }
   ],
   "source": [
    "#tokenize the data for papers\n",
    "train_dataset2 = train_ds2.map(tokenize, load_from_cache_file=False)\n",
    "val_dataset2 = eval_ds2.map(tokenize, load_from_cache_file=False)"
   ]
  },
  {
   "cell_type": "code",
   "execution_count": 10,
   "id": "9a0effff-13eb-4eef-abe3-0600f6e24fc0",
   "metadata": {},
   "outputs": [
    {
     "name": "stdout",
     "output_type": "stream",
     "text": [
      "Dataset({\n",
      "    features: ['labels', 'input_ids', 'attention_mask'],\n",
      "    num_rows: 10000\n",
      "})\n"
     ]
    }
   ],
   "source": [
    "#remove unnessesary columns and convert needed ones to torch format\n",
    "train_dataset.set_format(\"torch\", columns=['input_ids', 'attention_mask', \"labels\"])\n",
    "val_dataset.set_format(\"torch\", columns=['input_ids', 'attention_mask', \"labels\"])\n",
    "train_dataset2.set_format(\"torch\", columns=['input_ids', 'attention_mask', \"labels\"])\n",
    "val_dataset2.set_format(\"torch\", columns=['input_ids', 'attention_mask', \"labels\"])\n",
    "\n",
    "#remove extra columns from news\n",
    "train_dataset = train_dataset.remove_columns(['text', 'title', 'hyperpartisan', 'url', 'published_at', 'bias'])\n",
    "val_dataset = val_dataset.remove_columns(['text', 'title', 'hyperpartisan', 'url', 'published_at', 'bias'])\n",
    "print(train_dataset)"
   ]
  },
  {
   "cell_type": "code",
   "execution_count": 11,
   "id": "7eb4baa6-8fe6-4962-8b4f-e2cf99edc06c",
   "metadata": {},
   "outputs": [],
   "source": [
    "#remove extra column from papers\n",
    "train_dataset2 = train_dataset2.remove_columns(['text'])\n",
    "val_dataset2 = val_dataset2.remove_columns(['text'])"
   ]
  },
  {
   "cell_type": "code",
   "execution_count": 12,
   "id": "eb36e25f-79ef-4c13-952f-1625eab47f53",
   "metadata": {},
   "outputs": [
    {
     "name": "stdout",
     "output_type": "stream",
     "text": [
      "Dataset({\n",
      "    features: ['labels', 'input_ids', 'attention_mask'],\n",
      "    num_rows: 14715\n",
      "})\n",
      "tensor([0, 0, 0,  ..., 2, 3, 2])\n"
     ]
    }
   ],
   "source": [
    "#combine both datasets\n",
    "from datasets import concatenate_datasets\n",
    "\n",
    "train_data = concatenate_datasets([train_dataset, train_dataset2])\n",
    "val_data = concatenate_datasets([val_dataset, val_dataset2])\n",
    "print(train_data)\n",
    "print(train_data[\"labels\"])"
   ]
  },
  {
   "cell_type": "code",
   "execution_count": 13,
   "id": "0db533d5-3bf4-4780-91f2-0f680c38a1b8",
   "metadata": {},
   "outputs": [
    {
     "name": "stdout",
     "output_type": "stream",
     "text": [
      "Dataset({\n",
      "    features: ['labels', 'input_ids', 'attention_mask'],\n",
      "    num_rows: 3179\n",
      "})\n"
     ]
    }
   ],
   "source": [
    "print(val_data)"
   ]
  },
  {
   "cell_type": "code",
   "execution_count": 14,
   "id": "5ee2f2c8-dab3-432e-9dd9-232cb18d25cf",
   "metadata": {},
   "outputs": [],
   "source": [
    "from transformers import DataCollatorWithPadding\n",
    "data_collator = DataCollatorWithPadding(tokenizer=tokenizer)"
   ]
  },
  {
   "cell_type": "code",
   "execution_count": 15,
   "id": "83cb976f-d63f-4e26-8df7-3615336ddc09",
   "metadata": {},
   "outputs": [
    {
     "data": {
      "text/plain": [
       "device(type='cuda')"
      ]
     },
     "execution_count": 15,
     "metadata": {},
     "output_type": "execute_result"
    }
   ],
   "source": [
    "import torch\n",
    "\n",
    "device = torch.device(\"cuda\") if torch.cuda.is_available() else torch.device(\"cpu\")\n",
    "model2.to(device)\n",
    "device"
   ]
  },
  {
   "cell_type": "code",
   "execution_count": 16,
   "id": "bd73507a-e56a-45be-ada5-63e3b6908574",
   "metadata": {},
   "outputs": [],
   "source": [
    "#create checkpointing folder if doesn't exist\n",
    "if not os.path.exists(\"models\"):\n",
    "    os.mkdir(\"models\")"
   ]
  },
  {
   "cell_type": "code",
   "execution_count": 17,
   "id": "c8231441-d85a-4393-a1a8-378901289420",
   "metadata": {},
   "outputs": [
    {
     "name": "stdout",
     "output_type": "stream",
     "text": [
      "2500\n"
     ]
    }
   ],
   "source": [
    "from transformers import Trainer, TrainingArguments\n",
    "\n",
    "batch_size = 1\n",
    "gradient_acc = 4\n",
    "logging_steps = (len(train_dataset) // batch_size) //gradient_acc\n",
    "model_name = f\"longformer-finetuned_both\"\n",
    "training_args = TrainingArguments(output_dir=f\"models/{model_name}\",\n",
    "                                  num_train_epochs = 2,\n",
    "                                  learning_rate=2e-5,\n",
    "                                  per_device_train_batch_size=batch_size,\n",
    "                                  per_device_eval_batch_size=batch_size,\n",
    "                                  weight_decay=0.01,\n",
    "                                  evaluation_strategy=\"epoch\",\n",
    "                                  disable_tqdm=False,\n",
    "                                  push_to_hub=False,\n",
    "                                  logging_steps=logging_steps,\n",
    "                                  log_level=\"error\",\n",
    "                                  fp16=True,\n",
    "                                  gradient_accumulation_steps=gradient_acc,\n",
    "                                  gradient_checkpointing=True,\n",
    "                                  save_strategy = \"epoch\")\n",
    "print(logging_steps)"
   ]
  },
  {
   "cell_type": "code",
   "execution_count": 18,
   "id": "14869ddd-c8b2-49d1-a27f-0f146640988d",
   "metadata": {},
   "outputs": [],
   "source": [
    "#create the metrics we want to find out, can import othe things like precision, recall if needed\n",
    "from sklearn.metrics import accuracy_score, f1_score\n",
    "\n",
    "def compute_metrics(pred):\n",
    "    labels = pred.label_ids\n",
    "    preds = pred.predictions.argmax(-1)\n",
    "    f1 = f1_score(labels, preds, average=\"weighted\")\n",
    "    acc = accuracy_score(labels, preds)\n",
    "    return {\"accuracy\": acc, \"f1\": f1}"
   ]
  },
  {
   "cell_type": "code",
   "execution_count": 19,
   "id": "be0c27e5-efaa-4d23-aa8a-d138f781e29f",
   "metadata": {},
   "outputs": [],
   "source": [
    "trainer = Trainer(\n",
    "    model=model2,\n",
    "    args=training_args,\n",
    "    train_dataset=train_data,\n",
    "    eval_dataset=val_data,\n",
    "    compute_metrics=compute_metrics,\n",
    "    tokenizer=tokenizer,\n",
    "    data_collator = data_collator\n",
    ")\n"
   ]
  },
  {
   "cell_type": "code",
   "execution_count": 26,
   "id": "a2185926-11e6-4d1d-a498-bbc8dd414d75",
   "metadata": {},
   "outputs": [
    {
     "name": "stderr",
     "output_type": "stream",
     "text": [
      "C:\\Users\\danie\\miniconda3\\lib\\site-packages\\transformers\\optimization.py:306: FutureWarning: This implementation of AdamW is deprecated and will be removed in a future version. Use thePyTorch implementation torch.optim.AdamW instead, or set `no_deprecation_warning=True` to disable this warning\n",
      "  warnings.warn(\n"
     ]
    },
    {
     "data": {
      "text/html": [
       "\n",
       "    <div>\n",
       "      \n",
       "      <progress value='7356' max='7356' style='width:300px; height:20px; vertical-align: middle;'></progress>\n",
       "      [7356/7356 4:10:31, Epoch 1/2]\n",
       "    </div>\n",
       "    <table border=\"1\" class=\"dataframe\">\n",
       "  <thead>\n",
       " <tr style=\"text-align: left;\">\n",
       "      <th>Epoch</th>\n",
       "      <th>Training Loss</th>\n",
       "      <th>Validation Loss</th>\n",
       "      <th>Accuracy</th>\n",
       "      <th>F1</th>\n",
       "    </tr>\n",
       "  </thead>\n",
       "  <tbody>\n",
       "    <tr>\n",
       "      <td>0</td>\n",
       "      <td>0.395800</td>\n",
       "      <td>0.285353</td>\n",
       "      <td>0.929538</td>\n",
       "      <td>0.929448</td>\n",
       "    </tr>\n",
       "    <tr>\n",
       "      <td>1</td>\n",
       "      <td>0.251300</td>\n",
       "      <td>0.296606</td>\n",
       "      <td>0.941806</td>\n",
       "      <td>0.941753</td>\n",
       "    </tr>\n",
       "  </tbody>\n",
       "</table><p>"
      ],
      "text/plain": [
       "<IPython.core.display.HTML object>"
      ]
     },
     "metadata": {},
     "output_type": "display_data"
    },
    {
     "data": {
      "text/plain": [
       "TrainOutput(global_step=7356, training_loss=0.27903189978047255, metrics={'train_runtime': 15034.9086, 'train_samples_per_second': 1.957, 'train_steps_per_second': 0.489, 'total_flos': 3.886474087738968e+16, 'train_loss': 0.27903189978047255, 'epoch': 2.0})"
      ]
     },
     "execution_count": 26,
     "metadata": {},
     "output_type": "execute_result"
    }
   ],
   "source": [
    "trainer.train()"
   ]
  },
  {
   "cell_type": "code",
   "execution_count": 20,
   "id": "2abbbf04-a55a-4f6d-a842-26423fdfd03f",
   "metadata": {},
   "outputs": [
    {
     "data": {
      "text/html": [
       "\n",
       "    <div>\n",
       "      \n",
       "      <progress value='3179' max='3179' style='width:300px; height:20px; vertical-align: middle;'></progress>\n",
       "      [3179/3179 05:51]\n",
       "    </div>\n",
       "    "
      ],
      "text/plain": [
       "<IPython.core.display.HTML object>"
      ]
     },
     "metadata": {},
     "output_type": "display_data"
    }
   ],
   "source": [
    "preds_output = trainer.predict(val_data)"
   ]
  },
  {
   "cell_type": "code",
   "execution_count": 21,
   "id": "ab423514-9595-4c34-9050-993f9e0578de",
   "metadata": {},
   "outputs": [],
   "source": [
    "y_preds = np.argmax(preds_output.predictions, axis=1)\n",
    "y_true = np.array(val_data[\"labels\"])"
   ]
  },
  {
   "cell_type": "code",
   "execution_count": 22,
   "id": "20cb4ecc-f16c-45da-bd19-cd371bda742b",
   "metadata": {},
   "outputs": [
    {
     "name": "stdout",
     "output_type": "stream",
     "text": [
      "              precision    recall  f1-score   support\n",
      "\n",
      "       false       0.96      0.93      0.95       967\n",
      "        true       0.94      0.97      0.95      1033\n",
      "          PL       0.88      0.97      0.92       571\n",
      "          AI       0.97      0.88      0.92       608\n",
      "\n",
      "    accuracy                           0.94      3179\n",
      "   macro avg       0.94      0.94      0.94      3179\n",
      "weighted avg       0.94      0.94      0.94      3179\n",
      "\n"
     ]
    }
   ],
   "source": [
    "from sklearn.metrics import classification_report\n",
    "print(\n",
    "    classification_report(\n",
    "        y_true, y_preds, target_names=[\"false\", \"true\", \"PL\", \"AI\"]\n",
    "    )\n",
    ")"
   ]
  },
  {
   "cell_type": "code",
   "execution_count": 23,
   "id": "4912d652-66fa-4943-8477-f9f3b425f847",
   "metadata": {},
   "outputs": [
    {
     "data": {
      "image/png": "[encoded data removed]",
      "text/plain": [
       "<Figure size 432x432 with 1 Axes>"
      ]
     },
     "metadata": {
      "needs_background": "light"
     },
     "output_type": "display_data"
    },
    {
     "name": "stdout",
     "output_type": "stream",
     "text": [
      "(3179,)\n",
      "(3179,)\n"
     ]
    }
   ],
   "source": [
    "from sklearn.metrics import ConfusionMatrixDisplay, confusion_matrix\n",
    "import matplotlib.pyplot as plt\n",
    "\n",
    "def plot_confusion_matrix(y_preds, y_true, labels):\n",
    "    cm = confusion_matrix(y_true, y_preds)\n",
    "    fig, ax = plt.subplots(figsize=(6, 6))\n",
    "    disp = ConfusionMatrixDisplay(confusion_matrix=cm, display_labels=[\"false\", \"true\", \"PL\", \"AI\"])\n",
    "    disp.plot(cmap=\"Blues\", values_format=\".2f\", ax=ax, colorbar=False)\n",
    "    plt.title(\"Normalized confusion matrix\")\n",
    "    plt.show()\n",
    "\n",
    "plot_confusion_matrix(y_preds, y_true, labels=[0,1])\n",
    "print(y_true.shape)\n",
    "print(y_preds.shape)"
   ]
  },
  {
   "cell_type": "code",
   "execution_count": 24,
   "id": "0be62f4c-1cf6-4927-8d4f-d66a8148525a",
   "metadata": {},
   "outputs": [
    {
     "data": {
      "application/vnd.jupyter.widget-view+json": {
       "model_id": "0361fca6169b490a961f674dfab96c00",
       "version_major": 2,
       "version_minor": 0
      },
      "text/plain": [
       "VBox(children=(HTML(value='<center>\\n<img src=https://huggingface.co/front/assets/huggingface_logo-noborder.sv…"
      ]
     },
     "metadata": {},
     "output_type": "display_data"
    }
   ],
   "source": [
    "# # upload this dataset to huggingface\n",
    "# from huggingface_hub import notebook_login\n",
    "\n",
    "# notebook_login()"
   ]
  },
  {
   "cell_type": "code",
   "execution_count": 25,
   "id": "c864d27b-f0e7-4cae-a3f1-08c75256f9b0",
   "metadata": {},
   "outputs": [
    {
     "name": "stderr",
     "output_type": "stream",
     "text": [
      "C:\\Users\\danie\\miniconda3\\lib\\site-packages\\huggingface_hub\\hf_api.py:1001: FutureWarning: `create_repo` now takes `token` as an optional positional argument. Be sure to adapt your code!\n",
      "  warnings.warn(\n",
      "Cloning https://huggingface.co/danielhou13/longformer-finetuned_v2_cogs402 into local empty directory.\n"
     ]
    },
    {
     "data": {
      "application/vnd.jupyter.widget-view+json": {
       "model_id": "34cf9c91ffdc48448c8e9c8e3986a902",
       "version_major": 2,
       "version_minor": 0
      },
      "text/plain": [
       "Download file pytorch_model.bin:   0%|          | 17.6k/567M [00:00<?, ?B/s]"
      ]
     },
     "metadata": {},
     "output_type": "display_data"
    },
    {
     "data": {
      "application/vnd.jupyter.widget-view+json": {
       "model_id": "6c0ef1c8e7ba4ab89729144494a52c32",
       "version_major": 2,
       "version_minor": 0
      },
      "text/plain": [
       "Clean file pytorch_model.bin:   0%|          | 1.00k/567M [00:00<?, ?B/s]"
      ]
     },
     "metadata": {},
     "output_type": "display_data"
    },
    {
     "data": {
      "application/vnd.jupyter.widget-view+json": {
       "model_id": "e64ea9586fcd4b4ba71b99c4c3790bba",
       "version_major": 2,
       "version_minor": 0
      },
      "text/plain": [
       "Upload file pytorch_model.bin:   0%|          | 32.0k/567M [00:00<?, ?B/s]"
      ]
     },
     "metadata": {},
     "output_type": "display_data"
    },
    {
     "name": "stderr",
     "output_type": "stream",
     "text": [
      "remote: Enforcing permissions...        \n",
      "remote: Allowed refs: all        \n",
      "To https://huggingface.co/danielhou13/longformer-finetuned_v2_cogs402\n",
      "   3a43281..1356be7  main -> main\n",
      "\n"
     ]
    },
    {
     "data": {
      "text/plain": [
       "'https://huggingface.co/danielhou13/longformer-finetuned_v2_cogs402/commit/1356be7ad14f916d4cde36d8a60416ebe2864e05'"
      ]
     },
     "execution_count": 25,
     "metadata": {},
     "output_type": "execute_result"
    }
   ],
   "source": [
    "# # upload model to huggingface for storage\n",
    "# # replace danielhou13 with personal user\n",
    "# model.push_to_hub(\"danielhou13/longformer-finetuned_v2_cogs402\")"
   ]
  },
  {
   "cell_type": "code",
   "execution_count": null,
   "id": "24b519eb-259e-49a1-b73e-95bcc0c76968",
   "metadata": {},
   "outputs": [],
   "source": []
  }
 ],
 "metadata": {
  "kernelspec": {
   "display_name": "cogs402",
   "language": "python",
   "name": "cogs402"
  },
  "language_info": {
   "codemirror_mode": {
    "name": "ipython",
    "version": 3
   },
   "file_extension": ".py",
   "mimetype": "text/x-python",
   "name": "python",
   "nbconvert_exporter": "python",
   "pygments_lexer": "ipython3",
   "version": "3.9.9"
  }
 },
 "nbformat": 4,
 "nbformat_minor": 5
}
