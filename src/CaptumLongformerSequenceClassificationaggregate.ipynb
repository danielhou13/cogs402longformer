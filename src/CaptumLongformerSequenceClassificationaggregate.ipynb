{
  "cells": [
    {
      "cell_type": "markdown",
      "metadata": {
        "id": "view-in-github",
        "colab_type": "text"
      },
      "source": [
        "<a href=\"https://colab.research.google.com/github/danielhou13/cogs402longformer/blob/main/src/CaptumLongformerSequenceClassificationaggregate.ipynb\" target=\"_parent\"><img src=\"https://colab.research.google.com/assets/colab-badge.svg\" alt=\"Open In Colab\"/></a>"
      ]
    },
    {
      "cell_type": "markdown",
      "source": [
        "This notebook finds the aggregate attributions for both the postive and negative class over the entire dataset."
      ],
      "metadata": {
        "id": "kEJ0R0uy0l47"
      }
    },
    {
      "cell_type": "code",
      "source": [
        "from google.colab import drive\n",
        "drive.mount('/content/drive')"
      ],
      "metadata": {
        "id": "b_HI-3J_1Gfg",
        "colab": {
          "base_uri": "https://localhost:8080/"
        },
        "outputId": "4d905437-b2cd-4e4f-c1a7-0d8c5fe2c616"
      },
      "execution_count": 1,
      "outputs": [
        {
          "output_type": "stream",
          "name": "stdout",
          "text": [
            "Drive already mounted at /content/drive; to attempt to forcibly remount, call drive.mount(\"/content/drive\", force_remount=True).\n"
          ]
        }
      ]
    },
    {
      "cell_type": "markdown",
      "source": [
        "## Import dependencies"
      ],
      "metadata": {
        "id": "HkZ5bD2_z-0C"
      }
    },
    {
      "cell_type": "code",
      "source": [
        "import sys\n",
        "sys.path.append('/content/drive/My Drive/{}'.format(\"cogs402longformer/\"))"
      ],
      "metadata": {
        "id": "Jck92aCS1c3S"
      },
      "execution_count": 2,
      "outputs": []
    },
    {
      "cell_type": "code",
      "source": [
        "pip install transformers --quiet"
      ],
      "metadata": {
        "id": "zMjzQIFJ2P_T"
      },
      "execution_count": 3,
      "outputs": []
    },
    {
      "cell_type": "code",
      "source": [
        "pip install captum --quiet"
      ],
      "metadata": {
        "id": "Uno0qwr12UTd"
      },
      "execution_count": 4,
      "outputs": []
    },
    {
      "cell_type": "code",
      "source": [
        "pip install datasets --quiet"
      ],
      "metadata": {
        "id": "OaOSPMJE3ONc"
      },
      "execution_count": 5,
      "outputs": []
    },
    {
      "cell_type": "code",
      "source": [
        "import os\n",
        "os.environ['CUDA_LAUNCH_BLOCKING'] = \"1\""
      ],
      "metadata": {
        "id": "hRSNYTrRIPkr"
      },
      "execution_count": 6,
      "outputs": []
    },
    {
      "cell_type": "code",
      "execution_count": 7,
      "metadata": {
        "id": "wrRRZJ6-0_Il"
      },
      "outputs": [],
      "source": [
        "from captum.attr import visualization as viz\n",
        "from captum.attr import IntegratedGradients, LayerConductance, LayerIntegratedGradients\n",
        "from captum.attr import configure_interpretable_embedding_layer, remove_interpretable_embedding_layer\n",
        "\n",
        "import torch\n",
        "import pandas as pd"
      ]
    },
    {
      "cell_type": "code",
      "execution_count": 8,
      "metadata": {
        "id": "b5V31lsc0_Il"
      },
      "outputs": [],
      "source": [
        "device = torch.device(\"cuda:0\" if torch.cuda.is_available() else \"cpu\")"
      ]
    },
    {
      "cell_type": "markdown",
      "source": [
        "## Import model"
      ],
      "metadata": {
        "id": "USHRv2j70Fb4"
      }
    },
    {
      "cell_type": "code",
      "execution_count": 9,
      "metadata": {
        "id": "9nzBfB-v0_Im"
      },
      "outputs": [],
      "source": [
        "from transformers import LongformerForSequenceClassification, LongformerTokenizer, LongformerConfig\n",
        "# replace <PATH-TO-SAVED-MODEL> with the real path of the saved model\n",
        "model_path = 'danielhou13/longformer-finetuned_papers_v2'\n",
        "#model_path = 'danielhou13/longformer-finetuned-news-cogs402'\n",
        "\n",
        "# load model\n",
        "model = LongformerForSequenceClassification.from_pretrained(model_path, num_labels = 2)\n",
        "model.to(device)\n",
        "model.eval()\n",
        "model.zero_grad()\n",
        "\n",
        "# load tokenizer\n",
        "tokenizer = LongformerTokenizer.from_pretrained(\"allenai/longformer-base-4096\")"
      ]
    },
    {
      "cell_type": "markdown",
      "source": [
        "Create functions that give us the input ids and the position ids for the text we want to examine"
      ],
      "metadata": {
        "id": "bqbvfvXv0VTp"
      }
    },
    {
      "cell_type": "code",
      "execution_count": 10,
      "metadata": {
        "id": "y5-heo2y0_Im"
      },
      "outputs": [],
      "source": [
        "def predict(inputs, position_ids=None, attention_mask=None):\n",
        "    output = model(inputs,\n",
        "                   position_ids=position_ids,\n",
        "                   attention_mask=attention_mask)\n",
        "    return output.logits"
      ]
    },
    {
      "cell_type": "code",
      "execution_count": 11,
      "metadata": {
        "id": "vAAjmDRl0_In"
      },
      "outputs": [],
      "source": [
        "ref_token_id = tokenizer.pad_token_id # A token used for generating token reference\n",
        "sep_token_id = tokenizer.sep_token_id # A token used as a separator between question and text and it is also added to the end of the text.\n",
        "cls_token_id = tokenizer.cls_token_id # A token used for prepending to the concatenated question-text word sequence"
      ]
    },
    {
      "cell_type": "code",
      "execution_count": 12,
      "metadata": {
        "id": "UgBSBpz-0_In"
      },
      "outputs": [],
      "source": [
        "max_length = 2046\n",
        "def construct_input_ref_pair(text, ref_token_id, sep_token_id, cls_token_id):\n",
        "\n",
        "    text_ids = tokenizer.encode(text, truncation = True, add_special_tokens=False, max_length = max_length)\n",
        "    # construct input token ids\n",
        "    input_ids = [cls_token_id] + text_ids + [sep_token_id]\n",
        "    # construct reference token ids \n",
        "    ref_input_ids = [cls_token_id] + [ref_token_id] * len(text_ids) + [sep_token_id]\n",
        "\n",
        "    return torch.tensor([input_ids], device=device), torch.tensor([ref_input_ids], device=device), len(text_ids)\n",
        "\n",
        "def construct_input_ref_pos_id_pair(input_ids):\n",
        "    seq_length = input_ids.size(1)\n",
        "    position_ids = torch.arange(seq_length, dtype=torch.long, device=device)\n",
        "    # we could potentially also use random permutation with `torch.randperm(seq_length, device=device)`\n",
        "    ref_position_ids = torch.zeros(seq_length, dtype=torch.long, device=device)\n",
        "\n",
        "    position_ids = position_ids.unsqueeze(0).expand_as(input_ids)\n",
        "    ref_position_ids = ref_position_ids.unsqueeze(0).expand_as(input_ids)\n",
        "    return position_ids, ref_position_ids\n",
        "    \n",
        "def construct_attention_mask(input_ids):\n",
        "    return torch.ones_like(input_ids)"
      ]
    },
    {
      "cell_type": "markdown",
      "source": [
        "Import dataset and take one example from it for testing purposes"
      ],
      "metadata": {
        "id": "BdY6GsO00RG_"
      }
    },
    {
      "cell_type": "markdown",
      "source": [
        "Here we import the papers dataset"
      ],
      "metadata": {
        "id": "e_gGIPpwkmbH"
      }
    },
    {
      "cell_type": "code",
      "execution_count": 13,
      "metadata": {
        "id": "w6aQM9nM0_Ip",
        "colab": {
          "base_uri": "https://localhost:8080/",
          "height": 84,
          "referenced_widgets": [
            "88d52ab860cd416f94feedce4bb91fef",
            "f2ab5c1160154c19b00b31a28871fe65",
            "42382d6c82474abda905cf124410da3b",
            "c2480f86cb0a45f29d25c1d6d3a05fb0",
            "1922f2a214f243a0a4db31bd04ec6a1f",
            "1fd61aa6159b4403b65e779d3040a82b",
            "8e1f6f9a394f4ba5bd74b5c599b739f6",
            "b6204e6ef7ab493b943339e7d5dbc3de",
            "549d3315a691421c91335685a11dbaba",
            "d7cb2923267549f1aa728839037db3a4",
            "2db441be05ed4fba9c7f1036ae9bb2ae"
          ]
        },
        "outputId": "981723fa-4b60-47df-df56-e9ae566967c2"
      },
      "outputs": [
        {
          "output_type": "stream",
          "name": "stderr",
          "text": [
            "Using custom data configuration danielhou13--cogs402dataset-144b958ac1a53abb\n",
            "Reusing dataset parquet (/root/.cache/huggingface/datasets/danielhou13___parquet/danielhou13--cogs402dataset-144b958ac1a53abb/0.0.0/7328ef7ee03eaf3f86ae40594d46a1cec86161704e02dd19f232d81eee72ade8)\n"
          ]
        },
        {
          "output_type": "display_data",
          "data": {
            "text/plain": [
              "  0%|          | 0/2 [00:00<?, ?it/s]"
            ],
            "application/vnd.jupyter.widget-view+json": {
              "version_major": 2,
              "version_minor": 0,
              "model_id": "88d52ab860cd416f94feedce4bb91fef"
            }
          },
          "metadata": {}
        }
      ],
      "source": [
        "from datasets import load_dataset\n",
        "import numpy as np\n",
        "cogs402_ds = load_dataset(\"danielhou13/cogs402dataset\")[\"test\"]"
      ]
    },
    {
      "cell_type": "code",
      "source": [
        "# cogs402_ds2 = load_dataset('hyperpartisan_news_detection', 'bypublisher')['validation']\n",
        "# val_size = 5000\n",
        "# val_indices = np.random.randint(0, len(cogs402_ds2), val_size)\n",
        "# val_ds = cogs402_ds2.select(val_indices)\n",
        "# labels2 = map(int, val_ds['hyperpartisan'])\n",
        "# labels2 = list(labels2)\n",
        "# val_ds = val_ds.add_column(\"labels\", labels2)"
      ],
      "metadata": {
        "id": "58zzpZYRWRDj"
      },
      "execution_count": 14,
      "outputs": []
    },
    {
      "cell_type": "code",
      "execution_count": 15,
      "metadata": {
        "id": "axwpHq-y0_Io"
      },
      "outputs": [],
      "source": [
        "#set 1 if we are dealing with a positive class, and 0 if dealing with negative class\n",
        "def custom_forward(inputs, position_ids=None, attention_mask=None):\n",
        "    preds = predict(inputs,\n",
        "                   position_ids=position_ids,\n",
        "                   attention_mask=attention_mask\n",
        "                   )\n",
        "    return torch.softmax(preds, dim = 1)"
      ]
    },
    {
      "cell_type": "markdown",
      "source": [
        "Perform Layer Integrated Gradients using the longformer's embeddings. This can easily be adjusted to use longformer word embeddings and longformer position embeddings. Note that the longformer does not use token type embeddings."
      ],
      "metadata": {
        "id": "bQaYaSDf0buh"
      }
    },
    {
      "cell_type": "code",
      "execution_count": 45,
      "metadata": {
        "id": "4uDuDrip0_Ip",
        "colab": {
          "base_uri": "https://localhost:8080/"
        },
        "outputId": "ccd9f394-dce5-43c8-ca02-597d237e17d4"
      },
      "outputs": [
        {
          "output_type": "stream",
          "name": "stderr",
          "text": [
            "/usr/local/lib/python3.7/dist-packages/captum/attr/_core/layer/layer_integrated_gradients.py:103: UserWarning: Multiple layers provided. Please ensure that each layer is**not** solely solely dependent on the outputs ofanother layer. Please refer to the documentation for moredetail.\n",
            "  \"Multiple layers provided. Please ensure that each layer is\"\n"
          ]
        }
      ],
      "source": [
        "# lig = LayerIntegratedGradients(custom_forward, model.longformer.embeddings)\n",
        "lig2 = LayerIntegratedGradients(custom_forward, \\\n",
        "                                [model.longformer.embeddings.word_embeddings, \\\n",
        "                                 model.longformer.embeddings.position_embeddings])"
      ]
    },
    {
      "cell_type": "code",
      "execution_count": 17,
      "metadata": {
        "id": "lIeE9P7b0_Ir"
      },
      "outputs": [],
      "source": [
        "def summarize_attributions(attributions):\n",
        "    attributions = attributions.sum(dim=-1).squeeze(0)\n",
        "    attributions = attributions / torch.linalg.norm(attributions)\n",
        "    return attributions"
      ]
    },
    {
      "cell_type": "markdown",
      "source": [
        "We can find the aggregate total for each token over the entire dataset in order to find which words have the highest and lowest attributions."
      ],
      "metadata": {
        "id": "bqYiK1U9IOeP"
      }
    },
    {
      "cell_type": "code",
      "source": [
        "# from tqdm import tqdm\n",
        "# aggregate_attrib = []\n",
        "# aggregation_function = {'attribution': 'sum'}\n",
        "\n",
        "# for i in tqdm(range(len(cogs402_ds))):\n",
        "\n",
        "#   #get input ids, position ids and attention mask for integrated gradients\n",
        "#   text = cogs402_ds[i]['text']\n",
        "#   input_ids, ref_input_ids, sep_id = construct_input_ref_pair(text, ref_token_id, sep_token_id, cls_token_id)\n",
        "#   position_ids, ref_position_ids = construct_input_ref_pos_id_pair(input_ids)\n",
        "#   attention_mask = construct_attention_mask(input_ids)\n",
        "\n",
        "#   indices = input_ids[0].detach().tolist()\n",
        "#   all_tokens = tokenizer.convert_ids_to_tokens(indices)\n",
        "\n",
        "#   # perform integrated gradients\n",
        "#   attributions = lig.attribute(inputs=input_ids,\n",
        "#                                     baselines=ref_input_ids,\n",
        "#                                     additional_forward_args=(position_ids, attention_mask),\n",
        "#                                     target=1,\n",
        "#                                     n_steps=20,\n",
        "#                                     internal_batch_size = 2)\n",
        "  \n",
        "#   #get the attributions\n",
        "#   attributions_sum = summarize_attributions(attributions)\n",
        "  \n",
        "#   #convert into dataframe\n",
        "#   d = {\"tokens\":all_tokens, \"attribution\":attributions_sum[:len(all_tokens)].cpu()}  \n",
        "#   df_attrib = pd.DataFrame(d)\n",
        "\n",
        "#   #aggregate the duplicate tokens\n",
        "#   df_attrib = df_attrib.groupby(df_attrib['tokens']).aggregate(aggregation_function)\n",
        "\n",
        "#   #add to list of dataframes\n",
        "#   aggregate_attrib.append(df_attrib)"
      ],
      "metadata": {
        "id": "CjL5YobvYmNr",
        "colab": {
          "base_uri": "https://localhost:8080/"
        },
        "outputId": "3607a2b2-1dd5-432d-c609-2e4a307a6774"
      },
      "execution_count": 18,
      "outputs": [
        {
          "output_type": "stream",
          "name": "stderr",
          "text": [
            "100%|██████████| 1070/1070 [3:09:49<00:00, 10.64s/it]\n"
          ]
        }
      ]
    },
    {
      "cell_type": "markdown",
      "source": [
        "Here we have the implementation for the multi-embedding version"
      ],
      "metadata": {
        "id": "DDFBPe2C4Vtk"
      }
    },
    {
      "cell_type": "code",
      "source": [
        "from tqdm import tqdm\n",
        "aggregate_attrib = []\n",
        "aggregate_pos = []\n",
        "\n",
        "aggregation_function = {'attribution': 'sum'}\n",
        "\n",
        "for i in tqdm(range(len(cogs402_ds)), position = 0, leave = True):\n",
        "  \n",
        "  #get input_ids, position_ids, and the attention masks for the integrated gradients\n",
        "  text = cogs402_ds[i]['text']\n",
        "\n",
        "  input_ids, ref_input_ids, sep_id = construct_input_ref_pair(text, ref_token_id, sep_token_id, cls_token_id)\n",
        "  position_ids, ref_position_ids = construct_input_ref_pos_id_pair(input_ids)\n",
        "  attention_mask = construct_attention_mask(input_ids)\n",
        "\n",
        "  indices = input_ids[0].detach().tolist()\n",
        "  all_tokens = tokenizer.convert_ids_to_tokens(indices)\n",
        "\n",
        "  # compute integrated gradients\n",
        "  attributions2 = lig2.attribute(inputs=(input_ids, position_ids),\n",
        "                               baselines=(ref_input_ids, ref_position_ids),\n",
        "                               target=1,\n",
        "                               additional_forward_args=(attention_mask),\n",
        "                               n_steps=25,\n",
        "                               internal_batch_size = 2)\n",
        "  \n",
        "  # get the attributions for the words and position ids\n",
        "  attributions_word = summarize_attributions(attributions2[0])\n",
        "  attributions_position = summarize_attributions(attributions2[1])\n",
        "\n",
        "  # convert them both into dataframes \n",
        "  d = {\"tokens\":all_tokens, \"attribution\":attributions_word[:len(all_tokens)].cpu()}  \n",
        "  d2 = {\"tokens\":all_tokens, \"attribution\":attributions_position[:len(all_tokens)].cpu()}  \n",
        "  \n",
        "  df_attrib = pd.DataFrame(d)\n",
        "  df_attrib2 = pd.DataFrame(d2)\n",
        "\n",
        "  #aggregate the attributions for duplicate tokens\n",
        "  df_attrib = df_attrib.groupby(df_attrib['tokens']).aggregate(aggregation_function)\n",
        "  df_attrib2 = df_attrib2.groupby(df_attrib2['tokens']).aggregate(aggregation_function)\n",
        "\n",
        "  aggregate_attrib.append(df_attrib)\n",
        "  aggregate_pos.append(df_attrib2)"
      ],
      "metadata": {
        "colab": {
          "base_uri": "https://localhost:8080/"
        },
        "id": "EMuSIP5D4UIC",
        "outputId": "d37afe69-ccfd-4101-e8a6-b53cf8cf741d"
      },
      "execution_count": 46,
      "outputs": [
        {
          "output_type": "stream",
          "name": "stderr",
          "text": [
            "100%|██████████| 1070/1070 [3:57:06<00:00, 13.30s/it]\n"
          ]
        }
      ]
    },
    {
      "cell_type": "markdown",
      "source": [
        "To get the aggregate attributions for every token over the entire dataset, we have two groups of lists of dataframes, one of the positive labels, one for the negative labels. We sum up the attributions of duplicate tokens for all examples in both groups of lists and divide by the number of items in each list."
      ],
      "metadata": {
        "id": "_g6kqbTXCS-C"
      }
    },
    {
      "cell_type": "code",
      "source": [
        "def combinedataframe(listframes, aggregation_func):\n",
        "  df_attrib = pd.concat(listframes)\n",
        "  df_attrib = df_attrib.reset_index(level=0)\n",
        "  df_attrib = df_attrib.groupby(df_attrib['tokens']).aggregate(aggregation_func)\n",
        "  df_attrib['attribution'] = df_attrib['attribution'].div(len(listframes))\n",
        "  highest_attrib_tokens_all = df_attrib.sort_values(by=['attribution'], ascending=False)\n",
        "  return highest_attrib_tokens_all"
      ],
      "metadata": {
        "id": "JgulY85m4dOU"
      },
      "execution_count": 20,
      "outputs": []
    },
    {
      "cell_type": "code",
      "source": [
        "# #longformer embeddings/word embeddings if multi-embedding\n",
        "# df_attrib_zero = combinedataframe(aggregate_attrib_zero, aggregation_function)\n",
        "# df_attrib_ones = combinedataframe(aggregate_attrib_ones, aggregation_function)\n",
        "\n",
        "# # position embeddings for multi-embedding\n",
        "# df_pos_zero = combinedataframe(aggregate_pos_zero, aggregation_function)\n",
        "# df_pos_ones = combinedataframe(aggregate_pos_ones, aggregation_function)"
      ],
      "metadata": {
        "id": "ZKXA9HP-4yoZ"
      },
      "execution_count": 21,
      "outputs": []
    },
    {
      "cell_type": "code",
      "source": [
        "df_attrib = combinedataframe(aggregate_attrib, aggregation_function)\n",
        "df_attrib_pos = combinedataframe(aggregate_pos, aggregation_function)"
      ],
      "metadata": {
        "id": "AH_T49HMF6Cn"
      },
      "execution_count": 47,
      "outputs": []
    },
    {
      "cell_type": "markdown",
      "source": [
        "Here we get the attributions for the positive class. Here we are only showing the top 10 higest attributions, in other words, the tokens that have the most influence in the model predicting positive."
      ],
      "metadata": {
        "id": "kxj_mmUxlx0c"
      }
    },
    {
      "cell_type": "code",
      "source": [
        "df_attrib[:15]"
      ],
      "metadata": {
        "colab": {
          "base_uri": "https://localhost:8080/",
          "height": 551
        },
        "id": "1bXA7aeS5AWx",
        "outputId": "02a1b3b8-fc9f-41f4-b8a0-36ffe809a80e"
      },
      "execution_count": 28,
      "outputs": [
        {
          "output_type": "execute_result",
          "data": {
            "text/plain": [
              "               attribution\n",
              "tokens                    \n",
              ".                 0.286010\n",
              "Ġlearning         0.161365\n",
              "Ġneural           0.121170\n",
              "Ġthe              0.107979\n",
              ",                 0.107825\n",
              "Ġdata             0.087721\n",
              "Ġtraining         0.052719\n",
              "Ġto               0.051323\n",
              "ĠAI               0.048482\n",
              "Ġdataset          0.047799\n",
              "Ġalgorithms       0.044869\n",
              "Ġhuman            0.042752\n",
              "Ġintelligence     0.034645\n",
              "Ġof               0.030125\n",
              "Ġdatasets         0.028981"
            ],
            "text/html": [
              "\n",
              "  <div id=\"df-371f0bda-22b3-4fee-b1b4-da7dee125386\">\n",
              "    <div class=\"colab-df-container\">\n",
              "      <div>\n",
              "<style scoped>\n",
              "    .dataframe tbody tr th:only-of-type {\n",
              "        vertical-align: middle;\n",
              "    }\n",
              "\n",
              "    .dataframe tbody tr th {\n",
              "        vertical-align: top;\n",
              "    }\n",
              "\n",
              "    .dataframe thead th {\n",
              "        text-align: right;\n",
              "    }\n",
              "</style>\n",
              "<table border=\"1\" class=\"dataframe\">\n",
              "  <thead>\n",
              "    <tr style=\"text-align: right;\">\n",
              "      <th></th>\n",
              "      <th>attribution</th>\n",
              "    </tr>\n",
              "    <tr>\n",
              "      <th>tokens</th>\n",
              "      <th></th>\n",
              "    </tr>\n",
              "  </thead>\n",
              "  <tbody>\n",
              "    <tr>\n",
              "      <th>.</th>\n",
              "      <td>0.286010</td>\n",
              "    </tr>\n",
              "    <tr>\n",
              "      <th>Ġlearning</th>\n",
              "      <td>0.161365</td>\n",
              "    </tr>\n",
              "    <tr>\n",
              "      <th>Ġneural</th>\n",
              "      <td>0.121170</td>\n",
              "    </tr>\n",
              "    <tr>\n",
              "      <th>Ġthe</th>\n",
              "      <td>0.107979</td>\n",
              "    </tr>\n",
              "    <tr>\n",
              "      <th>,</th>\n",
              "      <td>0.107825</td>\n",
              "    </tr>\n",
              "    <tr>\n",
              "      <th>Ġdata</th>\n",
              "      <td>0.087721</td>\n",
              "    </tr>\n",
              "    <tr>\n",
              "      <th>Ġtraining</th>\n",
              "      <td>0.052719</td>\n",
              "    </tr>\n",
              "    <tr>\n",
              "      <th>Ġto</th>\n",
              "      <td>0.051323</td>\n",
              "    </tr>\n",
              "    <tr>\n",
              "      <th>ĠAI</th>\n",
              "      <td>0.048482</td>\n",
              "    </tr>\n",
              "    <tr>\n",
              "      <th>Ġdataset</th>\n",
              "      <td>0.047799</td>\n",
              "    </tr>\n",
              "    <tr>\n",
              "      <th>Ġalgorithms</th>\n",
              "      <td>0.044869</td>\n",
              "    </tr>\n",
              "    <tr>\n",
              "      <th>Ġhuman</th>\n",
              "      <td>0.042752</td>\n",
              "    </tr>\n",
              "    <tr>\n",
              "      <th>Ġintelligence</th>\n",
              "      <td>0.034645</td>\n",
              "    </tr>\n",
              "    <tr>\n",
              "      <th>Ġof</th>\n",
              "      <td>0.030125</td>\n",
              "    </tr>\n",
              "    <tr>\n",
              "      <th>Ġdatasets</th>\n",
              "      <td>0.028981</td>\n",
              "    </tr>\n",
              "  </tbody>\n",
              "</table>\n",
              "</div>\n",
              "      <button class=\"colab-df-convert\" onclick=\"convertToInteractive('df-371f0bda-22b3-4fee-b1b4-da7dee125386')\"\n",
              "              title=\"Convert this dataframe to an interactive table.\"\n",
              "              style=\"display:none;\">\n",
              "        \n",
              "  <svg xmlns=\"http://www.w3.org/2000/svg\" height=\"24px\"viewBox=\"0 0 24 24\"\n",
              "       width=\"24px\">\n",
              "    <path d=\"M0 0h24v24H0V0z\" fill=\"none\"/>\n",
              "    <path d=\"M18.56 5.44l.94 2.06.94-2.06 2.06-.94-2.06-.94-.94-2.06-.94 2.06-2.06.94zm-11 1L8.5 8.5l.94-2.06 2.06-.94-2.06-.94L8.5 2.5l-.94 2.06-2.06.94zm10 10l.94 2.06.94-2.06 2.06-.94-2.06-.94-.94-2.06-.94 2.06-2.06.94z\"/><path d=\"M17.41 7.96l-1.37-1.37c-.4-.4-.92-.59-1.43-.59-.52 0-1.04.2-1.43.59L10.3 9.45l-7.72 7.72c-.78.78-.78 2.05 0 2.83L4 21.41c.39.39.9.59 1.41.59.51 0 1.02-.2 1.41-.59l7.78-7.78 2.81-2.81c.8-.78.8-2.07 0-2.86zM5.41 20L4 18.59l7.72-7.72 1.47 1.35L5.41 20z\"/>\n",
              "  </svg>\n",
              "      </button>\n",
              "      \n",
              "  <style>\n",
              "    .colab-df-container {\n",
              "      display:flex;\n",
              "      flex-wrap:wrap;\n",
              "      gap: 12px;\n",
              "    }\n",
              "\n",
              "    .colab-df-convert {\n",
              "      background-color: #E8F0FE;\n",
              "      border: none;\n",
              "      border-radius: 50%;\n",
              "      cursor: pointer;\n",
              "      display: none;\n",
              "      fill: #1967D2;\n",
              "      height: 32px;\n",
              "      padding: 0 0 0 0;\n",
              "      width: 32px;\n",
              "    }\n",
              "\n",
              "    .colab-df-convert:hover {\n",
              "      background-color: #E2EBFA;\n",
              "      box-shadow: 0px 1px 2px rgba(60, 64, 67, 0.3), 0px 1px 3px 1px rgba(60, 64, 67, 0.15);\n",
              "      fill: #174EA6;\n",
              "    }\n",
              "\n",
              "    [theme=dark] .colab-df-convert {\n",
              "      background-color: #3B4455;\n",
              "      fill: #D2E3FC;\n",
              "    }\n",
              "\n",
              "    [theme=dark] .colab-df-convert:hover {\n",
              "      background-color: #434B5C;\n",
              "      box-shadow: 0px 1px 3px 1px rgba(0, 0, 0, 0.15);\n",
              "      filter: drop-shadow(0px 1px 2px rgba(0, 0, 0, 0.3));\n",
              "      fill: #FFFFFF;\n",
              "    }\n",
              "  </style>\n",
              "\n",
              "      <script>\n",
              "        const buttonEl =\n",
              "          document.querySelector('#df-371f0bda-22b3-4fee-b1b4-da7dee125386 button.colab-df-convert');\n",
              "        buttonEl.style.display =\n",
              "          google.colab.kernel.accessAllowed ? 'block' : 'none';\n",
              "\n",
              "        async function convertToInteractive(key) {\n",
              "          const element = document.querySelector('#df-371f0bda-22b3-4fee-b1b4-da7dee125386');\n",
              "          const dataTable =\n",
              "            await google.colab.kernel.invokeFunction('convertToInteractive',\n",
              "                                                     [key], {});\n",
              "          if (!dataTable) return;\n",
              "\n",
              "          const docLinkHtml = 'Like what you see? Visit the ' +\n",
              "            '<a target=\"_blank\" href=https://colab.research.google.com/notebooks/data_table.ipynb>data table notebook</a>'\n",
              "            + ' to learn more about interactive tables.';\n",
              "          element.innerHTML = '';\n",
              "          dataTable['output_type'] = 'display_data';\n",
              "          await google.colab.output.renderOutput(dataTable, element);\n",
              "          const docLink = document.createElement('div');\n",
              "          docLink.innerHTML = docLinkHtml;\n",
              "          element.appendChild(docLink);\n",
              "        }\n",
              "      </script>\n",
              "    </div>\n",
              "  </div>\n",
              "  "
            ]
          },
          "metadata": {},
          "execution_count": 28
        }
      ]
    },
    {
      "cell_type": "code",
      "source": [
        "df_attrib[:15]"
      ],
      "metadata": {
        "id": "iiuLyxN_b57G"
      },
      "execution_count": null,
      "outputs": []
    },
    {
      "cell_type": "code",
      "source": [
        "df_attrib_pos[:15]"
      ],
      "metadata": {
        "id": "UgvpXJBMb84H"
      },
      "execution_count": null,
      "outputs": []
    },
    {
      "cell_type": "markdown",
      "source": [
        "Here we get the attributions for the negative class. We are once again only showing the top 10 attributions, the tokens that have the most influence in the model predicting negative."
      ],
      "metadata": {
        "id": "94_GDXHsl0vs"
      }
    },
    {
      "cell_type": "code",
      "source": [
        "df_attrib[:-14:-1]"
      ],
      "metadata": {
        "id": "T7mHIG0NuG0X",
        "colab": {
          "base_uri": "https://localhost:8080/",
          "height": 488
        },
        "outputId": "54eb9386-8866-4213-ad60-9f5ca9ba7b49"
      },
      "execution_count": 43,
      "outputs": [
        {
          "output_type": "execute_result",
          "data": {
            "text/plain": [
              "              attribution\n",
              "tokens                   \n",
              "Ġprogramming    -0.115309\n",
              "Ġprogram        -0.073491\n",
              "Ġprograms       -0.069745\n",
              "Ġlanguages      -0.069667\n",
              "Ġlanguage       -0.052829\n",
              "Ġcode           -0.041096\n",
              "Ġsoftware       -0.035409\n",
              "Ġ.              -0.034809\n",
              "ĠProgramming    -0.029539\n",
              "Ġcompiler       -0.026975\n",
              "Ġsyntax         -0.024905\n",
              "Ġsemantics      -0.022803\n",
              "ĠComputer       -0.019699"
            ],
            "text/html": [
              "\n",
              "  <div id=\"df-1cc602d2-642f-459f-91d4-c94b027adbba\">\n",
              "    <div class=\"colab-df-container\">\n",
              "      <div>\n",
              "<style scoped>\n",
              "    .dataframe tbody tr th:only-of-type {\n",
              "        vertical-align: middle;\n",
              "    }\n",
              "\n",
              "    .dataframe tbody tr th {\n",
              "        vertical-align: top;\n",
              "    }\n",
              "\n",
              "    .dataframe thead th {\n",
              "        text-align: right;\n",
              "    }\n",
              "</style>\n",
              "<table border=\"1\" class=\"dataframe\">\n",
              "  <thead>\n",
              "    <tr style=\"text-align: right;\">\n",
              "      <th></th>\n",
              "      <th>attribution</th>\n",
              "    </tr>\n",
              "    <tr>\n",
              "      <th>tokens</th>\n",
              "      <th></th>\n",
              "    </tr>\n",
              "  </thead>\n",
              "  <tbody>\n",
              "    <tr>\n",
              "      <th>Ġprogramming</th>\n",
              "      <td>-0.115309</td>\n",
              "    </tr>\n",
              "    <tr>\n",
              "      <th>Ġprogram</th>\n",
              "      <td>-0.073491</td>\n",
              "    </tr>\n",
              "    <tr>\n",
              "      <th>Ġprograms</th>\n",
              "      <td>-0.069745</td>\n",
              "    </tr>\n",
              "    <tr>\n",
              "      <th>Ġlanguages</th>\n",
              "      <td>-0.069667</td>\n",
              "    </tr>\n",
              "    <tr>\n",
              "      <th>Ġlanguage</th>\n",
              "      <td>-0.052829</td>\n",
              "    </tr>\n",
              "    <tr>\n",
              "      <th>Ġcode</th>\n",
              "      <td>-0.041096</td>\n",
              "    </tr>\n",
              "    <tr>\n",
              "      <th>Ġsoftware</th>\n",
              "      <td>-0.035409</td>\n",
              "    </tr>\n",
              "    <tr>\n",
              "      <th>Ġ.</th>\n",
              "      <td>-0.034809</td>\n",
              "    </tr>\n",
              "    <tr>\n",
              "      <th>ĠProgramming</th>\n",
              "      <td>-0.029539</td>\n",
              "    </tr>\n",
              "    <tr>\n",
              "      <th>Ġcompiler</th>\n",
              "      <td>-0.026975</td>\n",
              "    </tr>\n",
              "    <tr>\n",
              "      <th>Ġsyntax</th>\n",
              "      <td>-0.024905</td>\n",
              "    </tr>\n",
              "    <tr>\n",
              "      <th>Ġsemantics</th>\n",
              "      <td>-0.022803</td>\n",
              "    </tr>\n",
              "    <tr>\n",
              "      <th>ĠComputer</th>\n",
              "      <td>-0.019699</td>\n",
              "    </tr>\n",
              "  </tbody>\n",
              "</table>\n",
              "</div>\n",
              "      <button class=\"colab-df-convert\" onclick=\"convertToInteractive('df-1cc602d2-642f-459f-91d4-c94b027adbba')\"\n",
              "              title=\"Convert this dataframe to an interactive table.\"\n",
              "              style=\"display:none;\">\n",
              "        \n",
              "  <svg xmlns=\"http://www.w3.org/2000/svg\" height=\"24px\"viewBox=\"0 0 24 24\"\n",
              "       width=\"24px\">\n",
              "    <path d=\"M0 0h24v24H0V0z\" fill=\"none\"/>\n",
              "    <path d=\"M18.56 5.44l.94 2.06.94-2.06 2.06-.94-2.06-.94-.94-2.06-.94 2.06-2.06.94zm-11 1L8.5 8.5l.94-2.06 2.06-.94-2.06-.94L8.5 2.5l-.94 2.06-2.06.94zm10 10l.94 2.06.94-2.06 2.06-.94-2.06-.94-.94-2.06-.94 2.06-2.06.94z\"/><path d=\"M17.41 7.96l-1.37-1.37c-.4-.4-.92-.59-1.43-.59-.52 0-1.04.2-1.43.59L10.3 9.45l-7.72 7.72c-.78.78-.78 2.05 0 2.83L4 21.41c.39.39.9.59 1.41.59.51 0 1.02-.2 1.41-.59l7.78-7.78 2.81-2.81c.8-.78.8-2.07 0-2.86zM5.41 20L4 18.59l7.72-7.72 1.47 1.35L5.41 20z\"/>\n",
              "  </svg>\n",
              "      </button>\n",
              "      \n",
              "  <style>\n",
              "    .colab-df-container {\n",
              "      display:flex;\n",
              "      flex-wrap:wrap;\n",
              "      gap: 12px;\n",
              "    }\n",
              "\n",
              "    .colab-df-convert {\n",
              "      background-color: #E8F0FE;\n",
              "      border: none;\n",
              "      border-radius: 50%;\n",
              "      cursor: pointer;\n",
              "      display: none;\n",
              "      fill: #1967D2;\n",
              "      height: 32px;\n",
              "      padding: 0 0 0 0;\n",
              "      width: 32px;\n",
              "    }\n",
              "\n",
              "    .colab-df-convert:hover {\n",
              "      background-color: #E2EBFA;\n",
              "      box-shadow: 0px 1px 2px rgba(60, 64, 67, 0.3), 0px 1px 3px 1px rgba(60, 64, 67, 0.15);\n",
              "      fill: #174EA6;\n",
              "    }\n",
              "\n",
              "    [theme=dark] .colab-df-convert {\n",
              "      background-color: #3B4455;\n",
              "      fill: #D2E3FC;\n",
              "    }\n",
              "\n",
              "    [theme=dark] .colab-df-convert:hover {\n",
              "      background-color: #434B5C;\n",
              "      box-shadow: 0px 1px 3px 1px rgba(0, 0, 0, 0.15);\n",
              "      filter: drop-shadow(0px 1px 2px rgba(0, 0, 0, 0.3));\n",
              "      fill: #FFFFFF;\n",
              "    }\n",
              "  </style>\n",
              "\n",
              "      <script>\n",
              "        const buttonEl =\n",
              "          document.querySelector('#df-1cc602d2-642f-459f-91d4-c94b027adbba button.colab-df-convert');\n",
              "        buttonEl.style.display =\n",
              "          google.colab.kernel.accessAllowed ? 'block' : 'none';\n",
              "\n",
              "        async function convertToInteractive(key) {\n",
              "          const element = document.querySelector('#df-1cc602d2-642f-459f-91d4-c94b027adbba');\n",
              "          const dataTable =\n",
              "            await google.colab.kernel.invokeFunction('convertToInteractive',\n",
              "                                                     [key], {});\n",
              "          if (!dataTable) return;\n",
              "\n",
              "          const docLinkHtml = 'Like what you see? Visit the ' +\n",
              "            '<a target=\"_blank\" href=https://colab.research.google.com/notebooks/data_table.ipynb>data table notebook</a>'\n",
              "            + ' to learn more about interactive tables.';\n",
              "          element.innerHTML = '';\n",
              "          dataTable['output_type'] = 'display_data';\n",
              "          await google.colab.output.renderOutput(dataTable, element);\n",
              "          const docLink = document.createElement('div');\n",
              "          docLink.innerHTML = docLinkHtml;\n",
              "          element.appendChild(docLink);\n",
              "        }\n",
              "      </script>\n",
              "    </div>\n",
              "  </div>\n",
              "  "
            ]
          },
          "metadata": {},
          "execution_count": 43
        }
      ]
    },
    {
      "cell_type": "code",
      "source": [
        "df_attrib[:-14:-1]"
      ],
      "metadata": {
        "id": "F-ybacnFb64P"
      },
      "execution_count": null,
      "outputs": []
    },
    {
      "cell_type": "code",
      "source": [
        "df_attrib_pos[:-14:-1]"
      ],
      "metadata": {
        "id": "bzhn7k4zcDHg"
      },
      "execution_count": null,
      "outputs": []
    },
    {
      "cell_type": "markdown",
      "source": [
        "Note: if you wish to find the aggregate attributions irrespective of the example's class, you can combine the dataframes and use the aggregation function."
      ],
      "metadata": {
        "id": "r6ZMChBR2DKO"
      }
    },
    {
      "cell_type": "markdown",
      "source": [
        "Save the pandas dataframe into a csv to access it in the future without having to run through the entire dataset. Change the file name from papers to the dataset used."
      ],
      "metadata": {
        "id": "RgPYHilmlsGh"
      }
    },
    {
      "cell_type": "code",
      "source": [
        "# df_attrib_zero.to_csv('/content/drive/MyDrive/cogs402longformer/results/longformer_emb_zero_papers.csv')  \n",
        "# df_attrib_ones.to_csv('/content/drive/MyDrive/cogs402longformer/results/longformer_emb_ones_papers.csv')  \n",
        "\n",
        "# # df_attrib_zero.to_csv('/content/drive/MyDrive/cogs402longformer/results/word_emb_attrib_zero_papers.csv')  \n",
        "# # df_attrib_ones.to_csv('/content/drive/MyDrive/cogs402longformer/results/word_emb_attrib_ones_papers.csv')  \n",
        "# # df_pos_zero.to_csv('/content/drive/MyDrive/cogs402longformer/results/pos_emb_attrib_zero_papers.csv')  \n",
        "# # df_pos_ones.to_csv('/content/drive/MyDrive/cogs402longformer/results/pos_emb_attrib_ones_papers.csv')  "
      ],
      "metadata": {
        "id": "yDI0RLysjpGc"
      },
      "execution_count": 25,
      "outputs": []
    },
    {
      "cell_type": "code",
      "source": [
        "# df_attrib.to_csv('/content/drive/MyDrive/cogs402longformer/results/papers/papers_attributions/longformer_emb_papers.csv')\n",
        "\n",
        "df_attrib.to_csv('/content/drive/MyDrive/cogs402longformer/results/papers/papers_attributions/word_emb_papers.csv')\n",
        "df_attrib_pos.to_csv('/content/drive/MyDrive/cogs402longformer/results/papers/papers_attributions/pos_emb_papers.csv')"
      ],
      "metadata": {
        "id": "6WTv-OJrGKvF"
      },
      "execution_count": 48,
      "outputs": []
    }
  ],
  "metadata": {
    "file_extension": ".py",
    "kernelspec": {
      "display_name": "Python 3",
      "name": "python3"
    },
    "language_info": {
      "name": "python"
    },
    "mimetype": "text/x-python",
    "name": "python",
    "npconvert_exporter": "python",
    "pygments_lexer": "ipython3",
    "version": 3,
    "colab": {
      "name": "CaptumLongformerSequenceClassificationaggregate.ipynb",
      "provenance": [],
      "collapsed_sections": [],
      "machine_shape": "hm",
      "include_colab_link": true
    },
    "accelerator": "GPU",
    "widgets": {
      "application/vnd.jupyter.widget-state+json": {
        "88d52ab860cd416f94feedce4bb91fef": {
          "model_module": "@jupyter-widgets/controls",
          "model_name": "HBoxModel",
          "model_module_version": "1.5.0",
          "state": {
            "_dom_classes": [],
            "_model_module": "@jupyter-widgets/controls",
            "_model_module_version": "1.5.0",
            "_model_name": "HBoxModel",
            "_view_count": null,
            "_view_module": "@jupyter-widgets/controls",
            "_view_module_version": "1.5.0",
            "_view_name": "HBoxView",
            "box_style": "",
            "children": [
              "IPY_MODEL_f2ab5c1160154c19b00b31a28871fe65",
              "IPY_MODEL_42382d6c82474abda905cf124410da3b",
              "IPY_MODEL_c2480f86cb0a45f29d25c1d6d3a05fb0"
            ],
            "layout": "IPY_MODEL_1922f2a214f243a0a4db31bd04ec6a1f"
          }
        },
        "f2ab5c1160154c19b00b31a28871fe65": {
          "model_module": "@jupyter-widgets/controls",
          "model_name": "HTMLModel",
          "model_module_version": "1.5.0",
          "state": {
            "_dom_classes": [],
            "_model_module": "@jupyter-widgets/controls",
            "_model_module_version": "1.5.0",
            "_model_name": "HTMLModel",
            "_view_count": null,
            "_view_module": "@jupyter-widgets/controls",
            "_view_module_version": "1.5.0",
            "_view_name": "HTMLView",
            "description": "",
            "description_tooltip": null,
            "layout": "IPY_MODEL_1fd61aa6159b4403b65e779d3040a82b",
            "placeholder": "​",
            "style": "IPY_MODEL_8e1f6f9a394f4ba5bd74b5c599b739f6",
            "value": "100%"
          }
        },
        "42382d6c82474abda905cf124410da3b": {
          "model_module": "@jupyter-widgets/controls",
          "model_name": "FloatProgressModel",
          "model_module_version": "1.5.0",
          "state": {
            "_dom_classes": [],
            "_model_module": "@jupyter-widgets/controls",
            "_model_module_version": "1.5.0",
            "_model_name": "FloatProgressModel",
            "_view_count": null,
            "_view_module": "@jupyter-widgets/controls",
            "_view_module_version": "1.5.0",
            "_view_name": "ProgressView",
            "bar_style": "success",
            "description": "",
            "description_tooltip": null,
            "layout": "IPY_MODEL_b6204e6ef7ab493b943339e7d5dbc3de",
            "max": 2,
            "min": 0,
            "orientation": "horizontal",
            "style": "IPY_MODEL_549d3315a691421c91335685a11dbaba",
            "value": 2
          }
        },
        "c2480f86cb0a45f29d25c1d6d3a05fb0": {
          "model_module": "@jupyter-widgets/controls",
          "model_name": "HTMLModel",
          "model_module_version": "1.5.0",
          "state": {
            "_dom_classes": [],
            "_model_module": "@jupyter-widgets/controls",
            "_model_module_version": "1.5.0",
            "_model_name": "HTMLModel",
            "_view_count": null,
            "_view_module": "@jupyter-widgets/controls",
            "_view_module_version": "1.5.0",
            "_view_name": "HTMLView",
            "description": "",
            "description_tooltip": null,
            "layout": "IPY_MODEL_d7cb2923267549f1aa728839037db3a4",
            "placeholder": "​",
            "style": "IPY_MODEL_2db441be05ed4fba9c7f1036ae9bb2ae",
            "value": " 2/2 [00:00&lt;00:00, 28.32it/s]"
          }
        },
        "1922f2a214f243a0a4db31bd04ec6a1f": {
          "model_module": "@jupyter-widgets/base",
          "model_name": "LayoutModel",
          "model_module_version": "1.2.0",
          "state": {
            "_model_module": "@jupyter-widgets/base",
            "_model_module_version": "1.2.0",
            "_model_name": "LayoutModel",
            "_view_count": null,
            "_view_module": "@jupyter-widgets/base",
            "_view_module_version": "1.2.0",
            "_view_name": "LayoutView",
            "align_content": null,
            "align_items": null,
            "align_self": null,
            "border": null,
            "bottom": null,
            "display": null,
            "flex": null,
            "flex_flow": null,
            "grid_area": null,
            "grid_auto_columns": null,
            "grid_auto_flow": null,
            "grid_auto_rows": null,
            "grid_column": null,
            "grid_gap": null,
            "grid_row": null,
            "grid_template_areas": null,
            "grid_template_columns": null,
            "grid_template_rows": null,
            "height": null,
            "justify_content": null,
            "justify_items": null,
            "left": null,
            "margin": null,
            "max_height": null,
            "max_width": null,
            "min_height": null,
            "min_width": null,
            "object_fit": null,
            "object_position": null,
            "order": null,
            "overflow": null,
            "overflow_x": null,
            "overflow_y": null,
            "padding": null,
            "right": null,
            "top": null,
            "visibility": null,
            "width": null
          }
        },
        "1fd61aa6159b4403b65e779d3040a82b": {
          "model_module": "@jupyter-widgets/base",
          "model_name": "LayoutModel",
          "model_module_version": "1.2.0",
          "state": {
            "_model_module": "@jupyter-widgets/base",
            "_model_module_version": "1.2.0",
            "_model_name": "LayoutModel",
            "_view_count": null,
            "_view_module": "@jupyter-widgets/base",
            "_view_module_version": "1.2.0",
            "_view_name": "LayoutView",
            "align_content": null,
            "align_items": null,
            "align_self": null,
            "border": null,
            "bottom": null,
            "display": null,
            "flex": null,
            "flex_flow": null,
            "grid_area": null,
            "grid_auto_columns": null,
            "grid_auto_flow": null,
            "grid_auto_rows": null,
            "grid_column": null,
            "grid_gap": null,
            "grid_row": null,
            "grid_template_areas": null,
            "grid_template_columns": null,
            "grid_template_rows": null,
            "height": null,
            "justify_content": null,
            "justify_items": null,
            "left": null,
            "margin": null,
            "max_height": null,
            "max_width": null,
            "min_height": null,
            "min_width": null,
            "object_fit": null,
            "object_position": null,
            "order": null,
            "overflow": null,
            "overflow_x": null,
            "overflow_y": null,
            "padding": null,
            "right": null,
            "top": null,
            "visibility": null,
            "width": null
          }
        },
        "8e1f6f9a394f4ba5bd74b5c599b739f6": {
          "model_module": "@jupyter-widgets/controls",
          "model_name": "DescriptionStyleModel",
          "model_module_version": "1.5.0",
          "state": {
            "_model_module": "@jupyter-widgets/controls",
            "_model_module_version": "1.5.0",
            "_model_name": "DescriptionStyleModel",
            "_view_count": null,
            "_view_module": "@jupyter-widgets/base",
            "_view_module_version": "1.2.0",
            "_view_name": "StyleView",
            "description_width": ""
          }
        },
        "b6204e6ef7ab493b943339e7d5dbc3de": {
          "model_module": "@jupyter-widgets/base",
          "model_name": "LayoutModel",
          "model_module_version": "1.2.0",
          "state": {
            "_model_module": "@jupyter-widgets/base",
            "_model_module_version": "1.2.0",
            "_model_name": "LayoutModel",
            "_view_count": null,
            "_view_module": "@jupyter-widgets/base",
            "_view_module_version": "1.2.0",
            "_view_name": "LayoutView",
            "align_content": null,
            "align_items": null,
            "align_self": null,
            "border": null,
            "bottom": null,
            "display": null,
            "flex": null,
            "flex_flow": null,
            "grid_area": null,
            "grid_auto_columns": null,
            "grid_auto_flow": null,
            "grid_auto_rows": null,
            "grid_column": null,
            "grid_gap": null,
            "grid_row": null,
            "grid_template_areas": null,
            "grid_template_columns": null,
            "grid_template_rows": null,
            "height": null,
            "justify_content": null,
            "justify_items": null,
            "left": null,
            "margin": null,
            "max_height": null,
            "max_width": null,
            "min_height": null,
            "min_width": null,
            "object_fit": null,
            "object_position": null,
            "order": null,
            "overflow": null,
            "overflow_x": null,
            "overflow_y": null,
            "padding": null,
            "right": null,
            "top": null,
            "visibility": null,
            "width": null
          }
        },
        "549d3315a691421c91335685a11dbaba": {
          "model_module": "@jupyter-widgets/controls",
          "model_name": "ProgressStyleModel",
          "model_module_version": "1.5.0",
          "state": {
            "_model_module": "@jupyter-widgets/controls",
            "_model_module_version": "1.5.0",
            "_model_name": "ProgressStyleModel",
            "_view_count": null,
            "_view_module": "@jupyter-widgets/base",
            "_view_module_version": "1.2.0",
            "_view_name": "StyleView",
            "bar_color": null,
            "description_width": ""
          }
        },
        "d7cb2923267549f1aa728839037db3a4": {
          "model_module": "@jupyter-widgets/base",
          "model_name": "LayoutModel",
          "model_module_version": "1.2.0",
          "state": {
            "_model_module": "@jupyter-widgets/base",
            "_model_module_version": "1.2.0",
            "_model_name": "LayoutModel",
            "_view_count": null,
            "_view_module": "@jupyter-widgets/base",
            "_view_module_version": "1.2.0",
            "_view_name": "LayoutView",
            "align_content": null,
            "align_items": null,
            "align_self": null,
            "border": null,
            "bottom": null,
            "display": null,
            "flex": null,
            "flex_flow": null,
            "grid_area": null,
            "grid_auto_columns": null,
            "grid_auto_flow": null,
            "grid_auto_rows": null,
            "grid_column": null,
            "grid_gap": null,
            "grid_row": null,
            "grid_template_areas": null,
            "grid_template_columns": null,
            "grid_template_rows": null,
            "height": null,
            "justify_content": null,
            "justify_items": null,
            "left": null,
            "margin": null,
            "max_height": null,
            "max_width": null,
            "min_height": null,
            "min_width": null,
            "object_fit": null,
            "object_position": null,
            "order": null,
            "overflow": null,
            "overflow_x": null,
            "overflow_y": null,
            "padding": null,
            "right": null,
            "top": null,
            "visibility": null,
            "width": null
          }
        },
        "2db441be05ed4fba9c7f1036ae9bb2ae": {
          "model_module": "@jupyter-widgets/controls",
          "model_name": "DescriptionStyleModel",
          "model_module_version": "1.5.0",
          "state": {
            "_model_module": "@jupyter-widgets/controls",
            "_model_module_version": "1.5.0",
            "_model_name": "DescriptionStyleModel",
            "_view_count": null,
            "_view_module": "@jupyter-widgets/base",
            "_view_module_version": "1.2.0",
            "_view_name": "StyleView",
            "description_width": ""
          }
        }
      }
    }
  },
  "nbformat": 4,
  "nbformat_minor": 0
}