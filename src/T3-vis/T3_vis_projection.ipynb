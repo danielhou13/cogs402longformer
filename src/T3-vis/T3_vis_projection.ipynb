{
  "cells": [
    {
      "cell_type": "markdown",
      "metadata": {
        "id": "view-in-github",
        "colab_type": "text"
      },
      "source": [
        "<a href=\"https://colab.research.google.com/github/danielhou13/cogs402longformer/blob/main/src/T3-vis/T3_vis_projection.ipynb\" target=\"_parent\"><img src=\"https://colab.research.google.com/assets/colab-badge.svg\" alt=\"Open In Colab\"/></a>"
      ]
    },
    {
      "cell_type": "markdown",
      "source": [
        "This notebook is a part of the [T3-vis](https://arxiv.org/abs/2108.13587) implmentation for visualizing Transformer Neural Networks. Here we get the projection data to be used for visualization using T3-vis. It operates on the training set and we export the results as a .pt file for use in T3-vis."
      ],
      "metadata": {
        "id": "6yJfxb4h_g4C"
      },
      "id": "6yJfxb4h_g4C"
    },
    {
      "cell_type": "markdown",
      "source": [
        "### Import Packages"
      ],
      "metadata": {
        "id": "mODWmj3P_m9t"
      },
      "id": "mODWmj3P_m9t"
    },
    {
      "cell_type": "code",
      "source": [
        "from google.colab import drive\n",
        "drive.mount('/content/drive')"
      ],
      "metadata": {
        "colab": {
          "base_uri": "https://localhost:8080/"
        },
        "id": "kZTPlUo8Wp1T",
        "outputId": "a43603ae-8f7e-4c83-b6f8-99b6426f0625"
      },
      "id": "kZTPlUo8Wp1T",
      "execution_count": null,
      "outputs": [
        {
          "output_type": "stream",
          "name": "stdout",
          "text": [
            "Drive already mounted at /content/drive; to attempt to forcibly remount, call drive.mount(\"/content/drive\", force_remount=True).\n"
          ]
        }
      ]
    },
    {
      "cell_type": "code",
      "source": [
        "pip install datasets --quiet"
      ],
      "metadata": {
        "id": "s_6vceLhTIBf"
      },
      "id": "s_6vceLhTIBf",
      "execution_count": null,
      "outputs": []
    },
    {
      "cell_type": "code",
      "source": [
        "pip install transformers"
      ],
      "metadata": {
        "colab": {
          "base_uri": "https://localhost:8080/"
        },
        "id": "M-qXH2JkTMdA",
        "outputId": "6c30d974-fbd8-48fa-e634-bbe7595f9513"
      },
      "id": "M-qXH2JkTMdA",
      "execution_count": null,
      "outputs": [
        {
          "output_type": "stream",
          "name": "stdout",
          "text": [
            "Looking in indexes: https://pypi.org/simple, https://us-python.pkg.dev/colab-wheels/public/simple/\n",
            "Requirement already satisfied: transformers in /usr/local/lib/python3.7/dist-packages (4.20.1)\n",
            "Requirement already satisfied: importlib-metadata in /usr/local/lib/python3.7/dist-packages (from transformers) (4.11.4)\n",
            "Requirement already satisfied: filelock in /usr/local/lib/python3.7/dist-packages (from transformers) (3.7.1)\n",
            "Requirement already satisfied: requests in /usr/local/lib/python3.7/dist-packages (from transformers) (2.23.0)\n",
            "Requirement already satisfied: huggingface-hub<1.0,>=0.1.0 in /usr/local/lib/python3.7/dist-packages (from transformers) (0.8.1)\n",
            "Requirement already satisfied: regex!=2019.12.17 in /usr/local/lib/python3.7/dist-packages (from transformers) (2022.6.2)\n",
            "Requirement already satisfied: numpy>=1.17 in /usr/local/lib/python3.7/dist-packages (from transformers) (1.21.6)\n",
            "Requirement already satisfied: pyyaml>=5.1 in /usr/local/lib/python3.7/dist-packages (from transformers) (6.0)\n",
            "Requirement already satisfied: tokenizers!=0.11.3,<0.13,>=0.11.1 in /usr/local/lib/python3.7/dist-packages (from transformers) (0.12.1)\n",
            "Requirement already satisfied: packaging>=20.0 in /usr/local/lib/python3.7/dist-packages (from transformers) (21.3)\n",
            "Requirement already satisfied: tqdm>=4.27 in /usr/local/lib/python3.7/dist-packages (from transformers) (4.64.0)\n",
            "Requirement already satisfied: typing-extensions>=3.7.4.3 in /usr/local/lib/python3.7/dist-packages (from huggingface-hub<1.0,>=0.1.0->transformers) (4.1.1)\n",
            "Requirement already satisfied: pyparsing!=3.0.5,>=2.0.2 in /usr/local/lib/python3.7/dist-packages (from packaging>=20.0->transformers) (3.0.9)\n",
            "Requirement already satisfied: zipp>=0.5 in /usr/local/lib/python3.7/dist-packages (from importlib-metadata->transformers) (3.8.0)\n",
            "Requirement already satisfied: urllib3!=1.25.0,!=1.25.1,<1.26,>=1.21.1 in /usr/local/lib/python3.7/dist-packages (from requests->transformers) (1.25.11)\n",
            "Requirement already satisfied: idna<3,>=2.5 in /usr/local/lib/python3.7/dist-packages (from requests->transformers) (2.10)\n",
            "Requirement already satisfied: certifi>=2017.4.17 in /usr/local/lib/python3.7/dist-packages (from requests->transformers) (2022.6.15)\n",
            "Requirement already satisfied: chardet<4,>=3.0.2 in /usr/local/lib/python3.7/dist-packages (from requests->transformers) (3.0.4)\n"
          ]
        }
      ]
    },
    {
      "cell_type": "code",
      "execution_count": null,
      "id": "9b774ad0-b725-4910-9050-423edf160ebd",
      "metadata": {
        "id": "9b774ad0-b725-4910-9050-423edf160ebd"
      },
      "outputs": [],
      "source": [
        "import os\n",
        "\n",
        "import numpy as np\n",
        "import pandas as pd\n",
        "\n",
        "import torch\n",
        "import torch.nn as nn"
      ]
    },
    {
      "cell_type": "markdown",
      "source": [
        "### Import Model and Dataset"
      ],
      "metadata": {
        "id": "k_fo7fQK_pfM"
      },
      "id": "k_fo7fQK_pfM"
    },
    {
      "cell_type": "code",
      "execution_count": null,
      "id": "66cc97f5-7e3a-476c-9858-5643eeaa6675",
      "metadata": {
        "id": "66cc97f5-7e3a-476c-9858-5643eeaa6675"
      },
      "outputs": [],
      "source": [
        "from datasets import load_dataset\n",
        "from transformers import AutoModelForSequenceClassification, AutoTokenizer\n",
        "\n",
        "def longformer_finetuned_papers():\n",
        "    model = AutoModelForSequenceClassification.from_pretrained('danielhou13/longformer-finetuned_papers_v2', num_labels = 2)\n",
        "    return model\n",
        "\n",
        "# def bert_test():\n",
        "#     model = AutoModelForSequenceClassification.from_pretrained('bert-base-uncased', num_labels = 2)\n",
        "#     setattr(model, 'num_hidden_layers', model.config.num_hidden_layers)\n",
        "#     setattr(model, 'num_attention_heads', model.config.num_attention_heads)\n",
        "#     setattr(model, 'hidden_size', model.config.hidden_size)\n",
        "#     return model\n",
        "\n",
        "def preprocess_function(tokenizer, example, max_length):\n",
        "    example.update(tokenizer(example['text'], padding='max_length', max_length=max_length, truncation=True))\n",
        "    return example\n",
        "\n",
        "def get_papers_dataset(dataset_type):\n",
        "    max_length = 2048\n",
        "    dataset = load_dataset(\"danielhou13/cogs402dataset\")[dataset_type]\n",
        "    new_col = list(np.arange(0, len(dataset)))\n",
        "    dataset = dataset.add_column(\"idx\", new_col)\n",
        "    visualize_columns = dataset.column_names\n",
        "    visualize_columns = ['idx', 'text', 'labels']\n",
        "\n",
        "    tokenizer = AutoTokenizer.from_pretrained('allenai/longformer-base-4096')\n",
        "    # tokenizer = AutoTokenizer.from_pretrained('bert-base-uncased')\n",
        "    dataset = dataset.map(lambda x: preprocess_function(tokenizer, x, max_length), batched=True)\n",
        "    setattr(dataset, 'visualize_columns', visualize_columns)\n",
        "    setattr(dataset, 'input_columns', ['input_ids', 'attention_mask'])\n",
        "    setattr(dataset, 'target_columns', ['labels'])\n",
        "    setattr(dataset, 'max_length', max_length)\n",
        "    setattr(dataset, 'tokenizer', tokenizer)\n",
        "    return dataset\n",
        "\n",
        "def papers_train_set():\n",
        "    return get_papers_dataset('train')\n",
        "\n",
        "def papers_test_set():\n",
        "    return get_papers_dataset('test')"
      ]
    },
    {
      "cell_type": "code",
      "source": [
        "# def longformer_finetuned_news():\n",
        "#     model = AutoModelForSequenceClassification.from_pretrained('danielhou13/longformer-finetuned-news-cogs402', num_labels = 2)\n",
        "#     setattr(model, 'num_hidden_layers', model.config.num_hidden_layers)\n",
        "#     setattr(model, 'num_attention_heads', model.config.num_attention_heads)\n",
        "#     setattr(model, 'hidden_size', model.config.hidden_size)\n",
        "#     return model\n",
        "\n",
        "# def preprocess_function(tokenizer, example, max_length):\n",
        "#     example.update(tokenizer(example['text'], padding='max_length', max_length=max_length, truncation=True))\n",
        "#     example['tokens'] = list(map(tokenizer.convert_ids_to_tokens, example['input_ids']))\n",
        "#     example['labels'] = list(map(int, example['hyperpartisan']))\n",
        "#     return example\n",
        "\n",
        "# def get_news_dataset(dataset_type):\n",
        "#     max_length = 2048\n",
        "#     dataset = load_dataset(\"danielhou13/cogs402dataset2\")[dataset_type]\n",
        "#     new_col = list(np.arange(0, len(dataset)))\n",
        "#     dataset = dataset.add_column(\"idx\", new_col)\n",
        "#     visualize_columns = dataset.column_names\n",
        "#     visualize_columns = ['idx', 'text', 'labels']\n",
        "\n",
        "#     tokenizer = AutoTokenizer.from_pretrained('allenai/longformer-base-4096')\n",
        "#     dataset = dataset.map(lambda x: preprocess_function(tokenizer, x, max_length), batched=True)\n",
        "\n",
        "#     dataset = dataset.remove_columns(['title', 'hyperpartisan', 'url', 'published_at', 'bias'])\n",
        "#     print(dataset)\n",
        "#     setattr(dataset, 'visualize_columns', visualize_columns)\n",
        "#     setattr(dataset, 'input_columns', ['input_ids', 'attention_mask'])\n",
        "#     setattr(dataset, 'target_columns', ['labels'])\n",
        "#     setattr(dataset, 'max_length', max_length)\n",
        "#     setattr(dataset, 'tokenizer', tokenizer)\n",
        "#     return dataset\n",
        "\n",
        "# def news_train_set():\n",
        "#     return get_news_dataset('train')\n",
        "\n",
        "# def news_test_set():\n",
        "#     return get_news_dataset('validation')"
      ],
      "metadata": {
        "id": "L_2jlxtWtxIq"
      },
      "id": "L_2jlxtWtxIq",
      "execution_count": null,
      "outputs": []
    },
    {
      "cell_type": "code",
      "execution_count": null,
      "id": "24ad54a3-db97-47e3-8cc7-417d4db2c99b",
      "metadata": {
        "colab": {
          "base_uri": "https://localhost:8080/",
          "height": 240,
          "referenced_widgets": [
            "b2040d202750417fa644d6631814d269",
            "dae6ce8cd5d4436db0c3e8c27c60a00e",
            "e110ea7c198d47b4b44a6118f35a5b07",
            "26b3343cc998426abb0712d30835346c",
            "335b3b995a7744df8c510f50f479905e",
            "35f8a4e22dd14b5f94d322bb5ff4ccac",
            "5ed3c9b69ecf4960a0572bb578ee4e7f",
            "b044ab37b19b4be68ce89f1ed81d893b",
            "ab2fa98977cf4adc88e05f485724aa92",
            "a8550ff1d92545d0b0bb8a1cf5461292",
            "eb1a1802f38f4724a096f2451d8ab780",
            "812a1cf87a47476092a86bf859bc4172",
            "cb28211c4aaa44c0b6aea548c26e4add",
            "514506d0d00d49ffa4a31770e8de09db",
            "c3e6401900ac4ddf803989d772a4c224",
            "6fcfc3b6159c4134b177dfc272424c9d",
            "41b05809f0f945adb8919759e6aec39d",
            "965a92c5303d4a6d9d05a60c1654469a",
            "3d189ab640354ade9cee584c696e4705",
            "44b23ed8b88944eba49652d7d274324a",
            "1bfc594690094ae49252340e0dabc837",
            "c1e00088f2b14d38b5675ffbc08126dd"
          ]
        },
        "id": "24ad54a3-db97-47e3-8cc7-417d4db2c99b",
        "outputId": "2675eff4-fa28-4cb2-90c4-2e49ba4c207a"
      },
      "outputs": [
        {
          "output_type": "stream",
          "name": "stderr",
          "text": [
            "Using custom data configuration danielhou13--cogs402dataset-144b958ac1a53abb\n",
            "Reusing dataset parquet (/root/.cache/huggingface/datasets/danielhou13___parquet/danielhou13--cogs402dataset-144b958ac1a53abb/0.0.0/7328ef7ee03eaf3f86ae40594d46a1cec86161704e02dd19f232d81eee72ade8)\n"
          ]
        },
        {
          "output_type": "display_data",
          "data": {
            "text/plain": [
              "  0%|          | 0/2 [00:00<?, ?it/s]"
            ],
            "application/vnd.jupyter.widget-view+json": {
              "version_major": 2,
              "version_minor": 0,
              "model_id": "b2040d202750417fa644d6631814d269"
            }
          },
          "metadata": {}
        },
        {
          "output_type": "stream",
          "name": "stderr",
          "text": [
            "Parameter 'function'=<function get_papers_dataset.<locals>.<lambda> at 0x7f53d796f0e0> of the transform datasets.arrow_dataset.Dataset._map_single couldn't be hashed properly, a random hash was used instead. Make sure your transforms and parameters are serializable with pickle or dill for the dataset fingerprinting and caching to work. If you reuse this transform, the caching mechanism will consider it to be different from the previous calls and recompute everything. This warning is only showed once. Subsequent hashing failures won't be showed.\n"
          ]
        },
        {
          "output_type": "display_data",
          "data": {
            "text/plain": [
              "  0%|          | 0/5 [00:00<?, ?ba/s]"
            ],
            "application/vnd.jupyter.widget-view+json": {
              "version_major": 2,
              "version_minor": 0,
              "model_id": "812a1cf87a47476092a86bf859bc4172"
            }
          },
          "metadata": {}
        },
        {
          "output_type": "stream",
          "name": "stdout",
          "text": [
            "['input_ids', 'attention_mask', 'labels']\n",
            "Dataset({\n",
            "    features: ['labels', 'idx', 'input_ids', 'attention_mask'],\n",
            "    num_rows: 4280\n",
            "})\n"
          ]
        }
      ],
      "source": [
        "cogs402_train = papers_train_set()\n",
        "model = longformer_finetuned_papers()\n",
        "columns = cogs402_train.input_columns + cogs402_train.target_columns\n",
        "print(columns)\n",
        "cogs402_train.set_format(type='torch', columns=columns+['idx'])\n",
        "cogs402_train=cogs402_train.remove_columns(['text'])\n",
        "print(cogs402_train)"
      ]
    },
    {
      "cell_type": "code",
      "execution_count": null,
      "id": "deaabfa2-0855-41fd-870c-7a8b91e32d44",
      "metadata": {
        "id": "deaabfa2-0855-41fd-870c-7a8b91e32d44",
        "colab": {
          "base_uri": "https://localhost:8080/"
        },
        "outputId": "a63871e6-4195-45fa-e159-e63f0b794b11"
      },
      "outputs": [
        {
          "output_type": "stream",
          "name": "stdout",
          "text": [
            "cuda:0\n"
          ]
        }
      ],
      "source": [
        "if torch.cuda.is_available():\n",
        "    model = model.cuda()\n",
        "\n",
        "print(model.device)"
      ]
    },
    {
      "cell_type": "markdown",
      "source": [
        "### T3-vis Functions"
      ],
      "metadata": {
        "id": "ciwSYaDi_sok"
      },
      "id": "ciwSYaDi_sok"
    },
    {
      "cell_type": "code",
      "execution_count": null,
      "id": "eb707291-bb19-4975-a3cd-8186d00baf32",
      "metadata": {
        "id": "eb707291-bb19-4975-a3cd-8186d00baf32"
      },
      "outputs": [],
      "source": [
        "from sklearn.manifold import TSNE\n",
        "from sklearn.metrics import pairwise_distances\n",
        "from tqdm import tqdm\n",
        "def output_hidden(model, dataloader, layers=None, max_entries=5000):\n",
        "    tsne_model = TSNE(n_components=2,\n",
        "                      verbose=0,\n",
        "                      perplexity=30,\n",
        "                      learning_rate='auto',\n",
        "                      n_iter=2000,\n",
        "                      init='random',\n",
        "                      metric='precomputed',\n",
        "                      random_state=0,\n",
        "                      square_distances=True)\n",
        "\n",
        "    model.eval()\n",
        "\n",
        "    num_layers = model.config.num_hidden_layers + 1\n",
        "\n",
        "    hidden_states = torch.zeros(len(dataloader.dataset), num_layers, 768)\n",
        "    tsne_vectors = np.zeros((max_entries, num_layers, 2))\n",
        "    labels = np.zeros(len(dataloader.dataset))\n",
        "\n",
        "    for step, inputs in enumerate(tqdm(dataloader)):\n",
        "        batch_size_ = inputs['input_ids'].__len__()\n",
        "\n",
        "        if torch.cuda.is_available():\n",
        "            for k, v in inputs.items():\n",
        "                if isinstance(v, torch.Tensor):\n",
        "                    inputs[k] = v.cuda()\n",
        "        inputs['output_hidden_states'] = True\n",
        "\n",
        "        idx = inputs['idx'].cpu().tolist()\n",
        "        del inputs['idx']\n",
        "        labels[idx] = inputs['labels'].cpu()\n",
        "\n",
        "        # The first token is used for classification\n",
        "        output = model(**inputs)\n",
        "        for i in range(len(output[2])):\n",
        "            hidden_states[idx, i] = output[2][i][:, 0, :].detach().cpu()\n",
        "\n",
        "    for i in range(num_layers):\n",
        "        hidden_states_ = hidden_states[:max_entries, i].numpy()\n",
        "        distance = pairwise_distances(hidden_states_, hidden_states_, metric='cosine', n_jobs=4)\n",
        "        tsne_vectors_ = tsne_model.fit_transform(distance).round(decimals=5)\n",
        "        tsne_vectors[:, i] = tsne_vectors_\n",
        "\n",
        "    return tsne_vectors, labels[:max_entries]"
      ]
    },
    {
      "cell_type": "markdown",
      "source": [
        "The functions operate on a dataloader so we convert our dataset into a dataloader format, using batch_size=1 to minimize our memory usage as longformer uses lots of memory."
      ],
      "metadata": {
        "id": "OrC0T_yT_v7W"
      },
      "id": "OrC0T_yT_v7W"
    },
    {
      "cell_type": "code",
      "execution_count": null,
      "id": "ced64aa2-5005-4b14-99eb-ad6c97476460",
      "metadata": {
        "id": "ced64aa2-5005-4b14-99eb-ad6c97476460"
      },
      "outputs": [],
      "source": [
        "dataloader = torch.utils.data.DataLoader(cogs402_train, batch_size=1)"
      ]
    },
    {
      "cell_type": "markdown",
      "source": [
        "Make sure you are not going over the number of examples in your dataset"
      ],
      "metadata": {
        "id": "yadGK2y7_8aM"
      },
      "id": "yadGK2y7_8aM"
    },
    {
      "cell_type": "code",
      "source": [
        "max_entries = len(cogs402_test)"
      ],
      "metadata": {
        "id": "MG5cPKEdCSTF"
      },
      "id": "MG5cPKEdCSTF",
      "execution_count": null,
      "outputs": []
    },
    {
      "cell_type": "markdown",
      "source": [
        "Running the functions and saving the results"
      ],
      "metadata": {
        "id": "ALlvzPzCARJP"
      },
      "id": "ALlvzPzCARJP"
    },
    {
      "cell_type": "code",
      "source": [
        "tsne_hidden, labels = output_hidden(model, dataloader, max_entries=max_entries)\n",
        "projection_data = {}\n",
        "n_examples = len(labels)\n",
        "projection_data['id'] = pd.Series(np.arange(n_examples))\n",
        "for layer_idx in range(tsne_hidden.shape[1]):\n",
        "    projection_data[f'projection_{layer_idx}_1'] = pd.Series(tsne_hidden[:, layer_idx, 0])\n",
        "    projection_data[f'projection_{layer_idx}_2'] = pd.Series(tsne_hidden[:, layer_idx, 1])\n",
        "\n",
        "projection_data['labels'] = pd.Series(labels)\n"
      ],
      "metadata": {
        "id": "wrZUuq_LCH5d",
        "colab": {
          "base_uri": "https://localhost:8080/"
        },
        "outputId": "d5825a0b-3c4b-4fdc-858f-e57c6c113ab2"
      },
      "id": "wrZUuq_LCH5d",
      "execution_count": null,
      "outputs": [
        {
          "output_type": "stream",
          "name": "stderr",
          "text": [
            "100%|██████████| 4280/4280 [09:53<00:00,  7.22it/s]\n"
          ]
        }
      ]
    },
    {
      "cell_type": "markdown",
      "source": [
        "Lastly, we save our new projection data. Remember to change the path to whatever suits your project's needs. The commented-out line of code saves the projection data in the current working directory."
      ],
      "metadata": {
        "id": "9fmRcGn-Ac_P"
      },
      "id": "9fmRcGn-Ac_P"
    },
    {
      "cell_type": "code",
      "source": [
        "torch.save(projection_data, \"/content/drive/MyDrive/cogs402longformer/t3-visapplication/resources/papers/pretrained/projection_data.pt\")\n",
        "# torch.save(projection_data, \"projection_data.pt\")"
      ],
      "metadata": {
        "id": "zILBwKP1pKl_"
      },
      "id": "zILBwKP1pKl_",
      "execution_count": null,
      "outputs": []
    }
  ],
  "metadata": {
    "kernelspec": {
      "display_name": "cogs402",
      "language": "python",
      "name": "cogs402"
    },
    "language_info": {
      "codemirror_mode": {
        "name": "ipython",
        "version": 3
      },
      "file_extension": ".py",
      "mimetype": "text/x-python",
      "name": "python",
      "nbconvert_exporter": "python",
      "pygments_lexer": "ipython3",
      "version": "3.9.9"
    },
    "colab": {
      "name": "T3-vis-projection.ipynb",
      "provenance": [],
      "collapsed_sections": [],
      "machine_shape": "hm",
      "include_colab_link": true
    },
    "accelerator": "GPU",
    "gpuClass": "standard",
    "widgets": {
      "application/vnd.jupyter.widget-state+json": {
        "b2040d202750417fa644d6631814d269": {
          "model_module": "@jupyter-widgets/controls",
          "model_name": "HBoxModel",
          "model_module_version": "1.5.0",
          "state": {
            "_dom_classes": [],
            "_model_module": "@jupyter-widgets/controls",
            "_model_module_version": "1.5.0",
            "_model_name": "HBoxModel",
            "_view_count": null,
            "_view_module": "@jupyter-widgets/controls",
            "_view_module_version": "1.5.0",
            "_view_name": "HBoxView",
            "box_style": "",
            "children": [
              "IPY_MODEL_dae6ce8cd5d4436db0c3e8c27c60a00e",
              "IPY_MODEL_e110ea7c198d47b4b44a6118f35a5b07",
              "IPY_MODEL_26b3343cc998426abb0712d30835346c"
            ],
            "layout": "IPY_MODEL_335b3b995a7744df8c510f50f479905e"
          }
        },
        "dae6ce8cd5d4436db0c3e8c27c60a00e": {
          "model_module": "@jupyter-widgets/controls",
          "model_name": "HTMLModel",
          "model_module_version": "1.5.0",
          "state": {
            "_dom_classes": [],
            "_model_module": "@jupyter-widgets/controls",
            "_model_module_version": "1.5.0",
            "_model_name": "HTMLModel",
            "_view_count": null,
            "_view_module": "@jupyter-widgets/controls",
            "_view_module_version": "1.5.0",
            "_view_name": "HTMLView",
            "description": "",
            "description_tooltip": null,
            "layout": "IPY_MODEL_35f8a4e22dd14b5f94d322bb5ff4ccac",
            "placeholder": "​",
            "style": "IPY_MODEL_5ed3c9b69ecf4960a0572bb578ee4e7f",
            "value": "100%"
          }
        },
        "e110ea7c198d47b4b44a6118f35a5b07": {
          "model_module": "@jupyter-widgets/controls",
          "model_name": "FloatProgressModel",
          "model_module_version": "1.5.0",
          "state": {
            "_dom_classes": [],
            "_model_module": "@jupyter-widgets/controls",
            "_model_module_version": "1.5.0",
            "_model_name": "FloatProgressModel",
            "_view_count": null,
            "_view_module": "@jupyter-widgets/controls",
            "_view_module_version": "1.5.0",
            "_view_name": "ProgressView",
            "bar_style": "success",
            "description": "",
            "description_tooltip": null,
            "layout": "IPY_MODEL_b044ab37b19b4be68ce89f1ed81d893b",
            "max": 2,
            "min": 0,
            "orientation": "horizontal",
            "style": "IPY_MODEL_ab2fa98977cf4adc88e05f485724aa92",
            "value": 2
          }
        },
        "26b3343cc998426abb0712d30835346c": {
          "model_module": "@jupyter-widgets/controls",
          "model_name": "HTMLModel",
          "model_module_version": "1.5.0",
          "state": {
            "_dom_classes": [],
            "_model_module": "@jupyter-widgets/controls",
            "_model_module_version": "1.5.0",
            "_model_name": "HTMLModel",
            "_view_count": null,
            "_view_module": "@jupyter-widgets/controls",
            "_view_module_version": "1.5.0",
            "_view_name": "HTMLView",
            "description": "",
            "description_tooltip": null,
            "layout": "IPY_MODEL_a8550ff1d92545d0b0bb8a1cf5461292",
            "placeholder": "​",
            "style": "IPY_MODEL_eb1a1802f38f4724a096f2451d8ab780",
            "value": " 2/2 [00:00&lt;00:00, 58.27it/s]"
          }
        },
        "335b3b995a7744df8c510f50f479905e": {
          "model_module": "@jupyter-widgets/base",
          "model_name": "LayoutModel",
          "model_module_version": "1.2.0",
          "state": {
            "_model_module": "@jupyter-widgets/base",
            "_model_module_version": "1.2.0",
            "_model_name": "LayoutModel",
            "_view_count": null,
            "_view_module": "@jupyter-widgets/base",
            "_view_module_version": "1.2.0",
            "_view_name": "LayoutView",
            "align_content": null,
            "align_items": null,
            "align_self": null,
            "border": null,
            "bottom": null,
            "display": null,
            "flex": null,
            "flex_flow": null,
            "grid_area": null,
            "grid_auto_columns": null,
            "grid_auto_flow": null,
            "grid_auto_rows": null,
            "grid_column": null,
            "grid_gap": null,
            "grid_row": null,
            "grid_template_areas": null,
            "grid_template_columns": null,
            "grid_template_rows": null,
            "height": null,
            "justify_content": null,
            "justify_items": null,
            "left": null,
            "margin": null,
            "max_height": null,
            "max_width": null,
            "min_height": null,
            "min_width": null,
            "object_fit": null,
            "object_position": null,
            "order": null,
            "overflow": null,
            "overflow_x": null,
            "overflow_y": null,
            "padding": null,
            "right": null,
            "top": null,
            "visibility": null,
            "width": null
          }
        },
        "35f8a4e22dd14b5f94d322bb5ff4ccac": {
          "model_module": "@jupyter-widgets/base",
          "model_name": "LayoutModel",
          "model_module_version": "1.2.0",
          "state": {
            "_model_module": "@jupyter-widgets/base",
            "_model_module_version": "1.2.0",
            "_model_name": "LayoutModel",
            "_view_count": null,
            "_view_module": "@jupyter-widgets/base",
            "_view_module_version": "1.2.0",
            "_view_name": "LayoutView",
            "align_content": null,
            "align_items": null,
            "align_self": null,
            "border": null,
            "bottom": null,
            "display": null,
            "flex": null,
            "flex_flow": null,
            "grid_area": null,
            "grid_auto_columns": null,
            "grid_auto_flow": null,
            "grid_auto_rows": null,
            "grid_column": null,
            "grid_gap": null,
            "grid_row": null,
            "grid_template_areas": null,
            "grid_template_columns": null,
            "grid_template_rows": null,
            "height": null,
            "justify_content": null,
            "justify_items": null,
            "left": null,
            "margin": null,
            "max_height": null,
            "max_width": null,
            "min_height": null,
            "min_width": null,
            "object_fit": null,
            "object_position": null,
            "order": null,
            "overflow": null,
            "overflow_x": null,
            "overflow_y": null,
            "padding": null,
            "right": null,
            "top": null,
            "visibility": null,
            "width": null
          }
        },
        "5ed3c9b69ecf4960a0572bb578ee4e7f": {
          "model_module": "@jupyter-widgets/controls",
          "model_name": "DescriptionStyleModel",
          "model_module_version": "1.5.0",
          "state": {
            "_model_module": "@jupyter-widgets/controls",
            "_model_module_version": "1.5.0",
            "_model_name": "DescriptionStyleModel",
            "_view_count": null,
            "_view_module": "@jupyter-widgets/base",
            "_view_module_version": "1.2.0",
            "_view_name": "StyleView",
            "description_width": ""
          }
        },
        "b044ab37b19b4be68ce89f1ed81d893b": {
          "model_module": "@jupyter-widgets/base",
          "model_name": "LayoutModel",
          "model_module_version": "1.2.0",
          "state": {
            "_model_module": "@jupyter-widgets/base",
            "_model_module_version": "1.2.0",
            "_model_name": "LayoutModel",
            "_view_count": null,
            "_view_module": "@jupyter-widgets/base",
            "_view_module_version": "1.2.0",
            "_view_name": "LayoutView",
            "align_content": null,
            "align_items": null,
            "align_self": null,
            "border": null,
            "bottom": null,
            "display": null,
            "flex": null,
            "flex_flow": null,
            "grid_area": null,
            "grid_auto_columns": null,
            "grid_auto_flow": null,
            "grid_auto_rows": null,
            "grid_column": null,
            "grid_gap": null,
            "grid_row": null,
            "grid_template_areas": null,
            "grid_template_columns": null,
            "grid_template_rows": null,
            "height": null,
            "justify_content": null,
            "justify_items": null,
            "left": null,
            "margin": null,
            "max_height": null,
            "max_width": null,
            "min_height": null,
            "min_width": null,
            "object_fit": null,
            "object_position": null,
            "order": null,
            "overflow": null,
            "overflow_x": null,
            "overflow_y": null,
            "padding": null,
            "right": null,
            "top": null,
            "visibility": null,
            "width": null
          }
        },
        "ab2fa98977cf4adc88e05f485724aa92": {
          "model_module": "@jupyter-widgets/controls",
          "model_name": "ProgressStyleModel",
          "model_module_version": "1.5.0",
          "state": {
            "_model_module": "@jupyter-widgets/controls",
            "_model_module_version": "1.5.0",
            "_model_name": "ProgressStyleModel",
            "_view_count": null,
            "_view_module": "@jupyter-widgets/base",
            "_view_module_version": "1.2.0",
            "_view_name": "StyleView",
            "bar_color": null,
            "description_width": ""
          }
        },
        "a8550ff1d92545d0b0bb8a1cf5461292": {
          "model_module": "@jupyter-widgets/base",
          "model_name": "LayoutModel",
          "model_module_version": "1.2.0",
          "state": {
            "_model_module": "@jupyter-widgets/base",
            "_model_module_version": "1.2.0",
            "_model_name": "LayoutModel",
            "_view_count": null,
            "_view_module": "@jupyter-widgets/base",
            "_view_module_version": "1.2.0",
            "_view_name": "LayoutView",
            "align_content": null,
            "align_items": null,
            "align_self": null,
            "border": null,
            "bottom": null,
            "display": null,
            "flex": null,
            "flex_flow": null,
            "grid_area": null,
            "grid_auto_columns": null,
            "grid_auto_flow": null,
            "grid_auto_rows": null,
            "grid_column": null,
            "grid_gap": null,
            "grid_row": null,
            "grid_template_areas": null,
            "grid_template_columns": null,
            "grid_template_rows": null,
            "height": null,
            "justify_content": null,
            "justify_items": null,
            "left": null,
            "margin": null,
            "max_height": null,
            "max_width": null,
            "min_height": null,
            "min_width": null,
            "object_fit": null,
            "object_position": null,
            "order": null,
            "overflow": null,
            "overflow_x": null,
            "overflow_y": null,
            "padding": null,
            "right": null,
            "top": null,
            "visibility": null,
            "width": null
          }
        },
        "eb1a1802f38f4724a096f2451d8ab780": {
          "model_module": "@jupyter-widgets/controls",
          "model_name": "DescriptionStyleModel",
          "model_module_version": "1.5.0",
          "state": {
            "_model_module": "@jupyter-widgets/controls",
            "_model_module_version": "1.5.0",
            "_model_name": "DescriptionStyleModel",
            "_view_count": null,
            "_view_module": "@jupyter-widgets/base",
            "_view_module_version": "1.2.0",
            "_view_name": "StyleView",
            "description_width": ""
          }
        },
        "812a1cf87a47476092a86bf859bc4172": {
          "model_module": "@jupyter-widgets/controls",
          "model_name": "HBoxModel",
          "model_module_version": "1.5.0",
          "state": {
            "_dom_classes": [],
            "_model_module": "@jupyter-widgets/controls",
            "_model_module_version": "1.5.0",
            "_model_name": "HBoxModel",
            "_view_count": null,
            "_view_module": "@jupyter-widgets/controls",
            "_view_module_version": "1.5.0",
            "_view_name": "HBoxView",
            "box_style": "",
            "children": [
              "IPY_MODEL_cb28211c4aaa44c0b6aea548c26e4add",
              "IPY_MODEL_514506d0d00d49ffa4a31770e8de09db",
              "IPY_MODEL_c3e6401900ac4ddf803989d772a4c224"
            ],
            "layout": "IPY_MODEL_6fcfc3b6159c4134b177dfc272424c9d"
          }
        },
        "cb28211c4aaa44c0b6aea548c26e4add": {
          "model_module": "@jupyter-widgets/controls",
          "model_name": "HTMLModel",
          "model_module_version": "1.5.0",
          "state": {
            "_dom_classes": [],
            "_model_module": "@jupyter-widgets/controls",
            "_model_module_version": "1.5.0",
            "_model_name": "HTMLModel",
            "_view_count": null,
            "_view_module": "@jupyter-widgets/controls",
            "_view_module_version": "1.5.0",
            "_view_name": "HTMLView",
            "description": "",
            "description_tooltip": null,
            "layout": "IPY_MODEL_41b05809f0f945adb8919759e6aec39d",
            "placeholder": "​",
            "style": "IPY_MODEL_965a92c5303d4a6d9d05a60c1654469a",
            "value": "100%"
          }
        },
        "514506d0d00d49ffa4a31770e8de09db": {
          "model_module": "@jupyter-widgets/controls",
          "model_name": "FloatProgressModel",
          "model_module_version": "1.5.0",
          "state": {
            "_dom_classes": [],
            "_model_module": "@jupyter-widgets/controls",
            "_model_module_version": "1.5.0",
            "_model_name": "FloatProgressModel",
            "_view_count": null,
            "_view_module": "@jupyter-widgets/controls",
            "_view_module_version": "1.5.0",
            "_view_name": "ProgressView",
            "bar_style": "success",
            "description": "",
            "description_tooltip": null,
            "layout": "IPY_MODEL_3d189ab640354ade9cee584c696e4705",
            "max": 5,
            "min": 0,
            "orientation": "horizontal",
            "style": "IPY_MODEL_44b23ed8b88944eba49652d7d274324a",
            "value": 5
          }
        },
        "c3e6401900ac4ddf803989d772a4c224": {
          "model_module": "@jupyter-widgets/controls",
          "model_name": "HTMLModel",
          "model_module_version": "1.5.0",
          "state": {
            "_dom_classes": [],
            "_model_module": "@jupyter-widgets/controls",
            "_model_module_version": "1.5.0",
            "_model_name": "HTMLModel",
            "_view_count": null,
            "_view_module": "@jupyter-widgets/controls",
            "_view_module_version": "1.5.0",
            "_view_name": "HTMLView",
            "description": "",
            "description_tooltip": null,
            "layout": "IPY_MODEL_1bfc594690094ae49252340e0dabc837",
            "placeholder": "​",
            "style": "IPY_MODEL_c1e00088f2b14d38b5675ffbc08126dd",
            "value": " 5/5 [01:16&lt;00:00, 12.94s/ba]"
          }
        },
        "6fcfc3b6159c4134b177dfc272424c9d": {
          "model_module": "@jupyter-widgets/base",
          "model_name": "LayoutModel",
          "model_module_version": "1.2.0",
          "state": {
            "_model_module": "@jupyter-widgets/base",
            "_model_module_version": "1.2.0",
            "_model_name": "LayoutModel",
            "_view_count": null,
            "_view_module": "@jupyter-widgets/base",
            "_view_module_version": "1.2.0",
            "_view_name": "LayoutView",
            "align_content": null,
            "align_items": null,
            "align_self": null,
            "border": null,
            "bottom": null,
            "display": null,
            "flex": null,
            "flex_flow": null,
            "grid_area": null,
            "grid_auto_columns": null,
            "grid_auto_flow": null,
            "grid_auto_rows": null,
            "grid_column": null,
            "grid_gap": null,
            "grid_row": null,
            "grid_template_areas": null,
            "grid_template_columns": null,
            "grid_template_rows": null,
            "height": null,
            "justify_content": null,
            "justify_items": null,
            "left": null,
            "margin": null,
            "max_height": null,
            "max_width": null,
            "min_height": null,
            "min_width": null,
            "object_fit": null,
            "object_position": null,
            "order": null,
            "overflow": null,
            "overflow_x": null,
            "overflow_y": null,
            "padding": null,
            "right": null,
            "top": null,
            "visibility": null,
            "width": null
          }
        },
        "41b05809f0f945adb8919759e6aec39d": {
          "model_module": "@jupyter-widgets/base",
          "model_name": "LayoutModel",
          "model_module_version": "1.2.0",
          "state": {
            "_model_module": "@jupyter-widgets/base",
            "_model_module_version": "1.2.0",
            "_model_name": "LayoutModel",
            "_view_count": null,
            "_view_module": "@jupyter-widgets/base",
            "_view_module_version": "1.2.0",
            "_view_name": "LayoutView",
            "align_content": null,
            "align_items": null,
            "align_self": null,
            "border": null,
            "bottom": null,
            "display": null,
            "flex": null,
            "flex_flow": null,
            "grid_area": null,
            "grid_auto_columns": null,
            "grid_auto_flow": null,
            "grid_auto_rows": null,
            "grid_column": null,
            "grid_gap": null,
            "grid_row": null,
            "grid_template_areas": null,
            "grid_template_columns": null,
            "grid_template_rows": null,
            "height": null,
            "justify_content": null,
            "justify_items": null,
            "left": null,
            "margin": null,
            "max_height": null,
            "max_width": null,
            "min_height": null,
            "min_width": null,
            "object_fit": null,
            "object_position": null,
            "order": null,
            "overflow": null,
            "overflow_x": null,
            "overflow_y": null,
            "padding": null,
            "right": null,
            "top": null,
            "visibility": null,
            "width": null
          }
        },
        "965a92c5303d4a6d9d05a60c1654469a": {
          "model_module": "@jupyter-widgets/controls",
          "model_name": "DescriptionStyleModel",
          "model_module_version": "1.5.0",
          "state": {
            "_model_module": "@jupyter-widgets/controls",
            "_model_module_version": "1.5.0",
            "_model_name": "DescriptionStyleModel",
            "_view_count": null,
            "_view_module": "@jupyter-widgets/base",
            "_view_module_version": "1.2.0",
            "_view_name": "StyleView",
            "description_width": ""
          }
        },
        "3d189ab640354ade9cee584c696e4705": {
          "model_module": "@jupyter-widgets/base",
          "model_name": "LayoutModel",
          "model_module_version": "1.2.0",
          "state": {
            "_model_module": "@jupyter-widgets/base",
            "_model_module_version": "1.2.0",
            "_model_name": "LayoutModel",
            "_view_count": null,
            "_view_module": "@jupyter-widgets/base",
            "_view_module_version": "1.2.0",
            "_view_name": "LayoutView",
            "align_content": null,
            "align_items": null,
            "align_self": null,
            "border": null,
            "bottom": null,
            "display": null,
            "flex": null,
            "flex_flow": null,
            "grid_area": null,
            "grid_auto_columns": null,
            "grid_auto_flow": null,
            "grid_auto_rows": null,
            "grid_column": null,
            "grid_gap": null,
            "grid_row": null,
            "grid_template_areas": null,
            "grid_template_columns": null,
            "grid_template_rows": null,
            "height": null,
            "justify_content": null,
            "justify_items": null,
            "left": null,
            "margin": null,
            "max_height": null,
            "max_width": null,
            "min_height": null,
            "min_width": null,
            "object_fit": null,
            "object_position": null,
            "order": null,
            "overflow": null,
            "overflow_x": null,
            "overflow_y": null,
            "padding": null,
            "right": null,
            "top": null,
            "visibility": null,
            "width": null
          }
        },
        "44b23ed8b88944eba49652d7d274324a": {
          "model_module": "@jupyter-widgets/controls",
          "model_name": "ProgressStyleModel",
          "model_module_version": "1.5.0",
          "state": {
            "_model_module": "@jupyter-widgets/controls",
            "_model_module_version": "1.5.0",
            "_model_name": "ProgressStyleModel",
            "_view_count": null,
            "_view_module": "@jupyter-widgets/base",
            "_view_module_version": "1.2.0",
            "_view_name": "StyleView",
            "bar_color": null,
            "description_width": ""
          }
        },
        "1bfc594690094ae49252340e0dabc837": {
          "model_module": "@jupyter-widgets/base",
          "model_name": "LayoutModel",
          "model_module_version": "1.2.0",
          "state": {
            "_model_module": "@jupyter-widgets/base",
            "_model_module_version": "1.2.0",
            "_model_name": "LayoutModel",
            "_view_count": null,
            "_view_module": "@jupyter-widgets/base",
            "_view_module_version": "1.2.0",
            "_view_name": "LayoutView",
            "align_content": null,
            "align_items": null,
            "align_self": null,
            "border": null,
            "bottom": null,
            "display": null,
            "flex": null,
            "flex_flow": null,
            "grid_area": null,
            "grid_auto_columns": null,
            "grid_auto_flow": null,
            "grid_auto_rows": null,
            "grid_column": null,
            "grid_gap": null,
            "grid_row": null,
            "grid_template_areas": null,
            "grid_template_columns": null,
            "grid_template_rows": null,
            "height": null,
            "justify_content": null,
            "justify_items": null,
            "left": null,
            "margin": null,
            "max_height": null,
            "max_width": null,
            "min_height": null,
            "min_width": null,
            "object_fit": null,
            "object_position": null,
            "order": null,
            "overflow": null,
            "overflow_x": null,
            "overflow_y": null,
            "padding": null,
            "right": null,
            "top": null,
            "visibility": null,
            "width": null
          }
        },
        "c1e00088f2b14d38b5675ffbc08126dd": {
          "model_module": "@jupyter-widgets/controls",
          "model_name": "DescriptionStyleModel",
          "model_module_version": "1.5.0",
          "state": {
            "_model_module": "@jupyter-widgets/controls",
            "_model_module_version": "1.5.0",
            "_model_name": "DescriptionStyleModel",
            "_view_count": null,
            "_view_module": "@jupyter-widgets/base",
            "_view_module_version": "1.2.0",
            "_view_name": "StyleView",
            "description_width": ""
          }
        }
      }
    }
  },
  "nbformat": 4,
  "nbformat_minor": 5
}