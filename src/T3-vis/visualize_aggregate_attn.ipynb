{
  "cells": [
    {
      "cell_type": "markdown",
      "metadata": {
        "id": "view-in-github",
        "colab_type": "text"
      },
      "source": [
        "<a href=\"https://colab.research.google.com/github/danielhou13/cogs402longformer/blob/main/src/T3-vis/visualize_aggregate_attn.ipynb\" target=\"_parent\"><img src=\"https://colab.research.google.com/assets/colab-badge.svg\" alt=\"Open In Colab\"/></a>"
      ]
    },
    {
      "cell_type": "code",
      "source": [
        "from google.colab import drive\n",
        "drive.mount('/content/drive')"
      ],
      "metadata": {
        "colab": {
          "base_uri": "https://localhost:8080/"
        },
        "id": "pSdNDCFzS6SR",
        "outputId": "50ffdfad-03a4-4b96-dfd6-932d5f8abd23"
      },
      "id": "pSdNDCFzS6SR",
      "execution_count": 1,
      "outputs": [
        {
          "output_type": "stream",
          "name": "stdout",
          "text": [
            "Drive already mounted at /content/drive; to attempt to forcibly remount, call drive.mount(\"/content/drive\", force_remount=True).\n"
          ]
        }
      ]
    },
    {
      "cell_type": "code",
      "execution_count": 2,
      "id": "d0c6ea87-bfae-4837-a6c8-80aa8158b9de",
      "metadata": {
        "id": "d0c6ea87-bfae-4837-a6c8-80aa8158b9de",
        "outputId": "c3809c46-682e-4187-9681-1a7da1dba814",
        "colab": {
          "base_uri": "https://localhost:8080/"
        }
      },
      "outputs": [
        {
          "output_type": "stream",
          "name": "stdout",
          "text": [
            "/content\n"
          ]
        }
      ],
      "source": [
        "import os\n",
        "print(os.getcwd())\n",
        "import numpy as np\n",
        "import pandas as pd\n",
        "import seaborn as sns\n",
        "import matplotlib.pyplot as plt\n",
        "\n",
        "import torch\n",
        "import torch.nn as nn"
      ]
    },
    {
      "cell_type": "code",
      "execution_count": 3,
      "id": "7f88515c-c912-4457-9071-8fcebe05aef9",
      "metadata": {
        "id": "7f88515c-c912-4457-9071-8fcebe05aef9"
      },
      "outputs": [],
      "source": [
        "device = torch.device(\"cuda:0\" if torch.cuda.is_available() else \"cpu\")"
      ]
    },
    {
      "cell_type": "markdown",
      "source": [
        "Import your aggregate_attn.pt file into google drive/local folder and load it using the following command"
      ],
      "metadata": {
        "id": "TTfnMVu-VR2v"
      },
      "id": "TTfnMVu-VR2v"
    },
    {
      "cell_type": "code",
      "execution_count": 4,
      "id": "835b5de0-8ecd-4715-9662-eb6e250e4d21",
      "metadata": {
        "id": "835b5de0-8ecd-4715-9662-eb6e250e4d21"
      },
      "outputs": [],
      "source": [
        "test = torch.load(\"/content/drive/MyDrive/cogs402longformer/t3-visapplication/resources/pretrained/aggregate_attn.pt\")"
      ]
    },
    {
      "cell_type": "code",
      "execution_count": 5,
      "id": "5a9a4475-8199-4679-9628-8f293d63bce8",
      "metadata": {
        "id": "5a9a4475-8199-4679-9628-8f293d63bce8",
        "outputId": "e7900500-6b2b-4377-9a49-53c7b10989a2",
        "colab": {
          "base_uri": "https://localhost:8080/"
        }
      },
      "outputs": [
        {
          "output_type": "stream",
          "name": "stdout",
          "text": [
            "144\n"
          ]
        }
      ],
      "source": [
        "print(len(test))"
      ]
    },
    {
      "cell_type": "code",
      "execution_count": 6,
      "id": "705ee705-11d3-4c28-935d-cd7e60940171",
      "metadata": {
        "id": "705ee705-11d3-4c28-935d-cd7e60940171",
        "outputId": "cae9411d-8449-44d6-c5b9-06124e4f993f",
        "colab": {
          "base_uri": "https://localhost:8080/"
        }
      },
      "outputs": [
        {
          "output_type": "stream",
          "name": "stdout",
          "text": [
            "16777216\n"
          ]
        }
      ],
      "source": [
        "print(len(test[1]['attn']))"
      ]
    },
    {
      "cell_type": "code",
      "source": [
        "# from matplotlib import pyplot as plt\n",
        "# fig, ax = plt.subplots()\n",
        "# fig.set_figheight(20)\n",
        "# fig.set_figwidth(20)\n",
        "# c = ax.imshow(test[1]['attn'].reshape((2048,2048,4), interpolation=\"nearest\")\n",
        "# plt.show()"
      ],
      "metadata": {
        "colab": {
          "base_uri": "https://localhost:8080/",
          "height": 130
        },
        "id": "nPiZO4m_X4NW",
        "outputId": "fc80ea48-4f1d-47c0-977f-6c84e8feabc1"
      },
      "id": "nPiZO4m_X4NW",
      "execution_count": 7,
      "outputs": [
        {
          "output_type": "error",
          "ename": "SyntaxError",
          "evalue": "ignored",
          "traceback": [
            "\u001b[0;36m  File \u001b[0;32m\"<ipython-input-7-99d6da1e0fc3>\"\u001b[0;36m, line \u001b[0;32m6\u001b[0m\n\u001b[0;31m    plt.show()\u001b[0m\n\u001b[0m      ^\u001b[0m\n\u001b[0;31mSyntaxError\u001b[0m\u001b[0;31m:\u001b[0m invalid syntax\n"
          ]
        }
      ]
    },
    {
      "cell_type": "code",
      "source": [
        "import math \n",
        "fig, axs = plt.subplots(12,12,figsize=(20,20))\n",
        "row_num=0\n",
        "for i in range(len(test)):\n",
        "    test2 = np.array(test[i]['attn']).reshape((2048,2048,4))\n",
        "    col_num = i%12\n",
        "    row_num = math.floor(i/12)\n",
        "    c= axs[row_num, col_num].imshow(test2, interpolation=\"nearest\")\n",
        "    axs[row_num, col_num].set(xlabel = str(col_num), ylabel = str(row_num))\n",
        "    axs[row_num, col_num].set_yticklabels([])\n",
        "    axs[row_num, col_num].set_xticklabels([])\n",
        "\n",
        "# Hide x labels and tick labels for top plots and y ticks for right plots.\n",
        "for ax in axs.flat:\n",
        "    ax.label_outer()\n",
        "\n",
        "plt.subplots_adjust(wspace=0, hspace=0)\n",
        "plt.show()"
      ],
      "metadata": {
        "id": "8o4XQAUdXZD0"
      },
      "id": "8o4XQAUdXZD0",
      "execution_count": null,
      "outputs": []
    }
  ],
  "metadata": {
    "kernelspec": {
      "display_name": "cogs402",
      "language": "python",
      "name": "cogs402"
    },
    "language_info": {
      "codemirror_mode": {
        "name": "ipython",
        "version": 3
      },
      "file_extension": ".py",
      "mimetype": "text/x-python",
      "name": "python",
      "nbconvert_exporter": "python",
      "pygments_lexer": "ipython3",
      "version": "3.9.9"
    },
    "colab": {
      "name": "visualize_aggregate_attn.ipynb",
      "provenance": [],
      "machine_shape": "hm",
      "include_colab_link": true
    },
    "accelerator": "GPU",
    "gpuClass": "standard"
  },
  "nbformat": 4,
  "nbformat_minor": 5
}