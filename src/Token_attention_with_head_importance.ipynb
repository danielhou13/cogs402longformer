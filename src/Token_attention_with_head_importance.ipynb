{
  "cells": [
    {
      "cell_type": "markdown",
      "metadata": {
        "id": "view-in-github",
        "colab_type": "text"
      },
      "source": [
        "<a href=\"https://colab.research.google.com/github/danielhou13/cogs402longformer/blob/main/src/Token_attention_with_head_importance.ipynb\" target=\"_parent\"><img src=\"https://colab.research.google.com/assets/colab-badge.svg\" alt=\"Open In Colab\"/></a>"
      ]
    },
    {
      "cell_type": "markdown",
      "source": [
        "A key feature of Transformer neural networks is the attention feature. This attention is generally a sequence length x sequence length matrix output for every layer, batch and head of an input. As such, for every layer, batch, head, we can find out information about each token, whether its about what tokens a particular token attends to, or the most attended to token for each matrix. This notebook takes an example from a dataset, and explores the attentions of each token in depth. Notably, we find out what tokens each token attends to the most and what tokens that get the most attention, across all layers and heads."
      ],
      "metadata": {
        "id": "m1Bc0bw-mNkB"
      },
      "id": "m1Bc0bw-mNkB"
    },
    {
      "cell_type": "code",
      "source": [
        "from google.colab import drive\n",
        "drive.mount('/content/drive')"
      ],
      "metadata": {
        "id": "kZTPlUo8Wp1T",
        "colab": {
          "base_uri": "https://localhost:8080/"
        },
        "outputId": "26b58684-ae09-4d41-c62e-9d7d23132cd8"
      },
      "id": "kZTPlUo8Wp1T",
      "execution_count": null,
      "outputs": [
        {
          "output_type": "stream",
          "name": "stdout",
          "text": [
            "Drive already mounted at /content/drive; to attempt to forcibly remount, call drive.mount(\"/content/drive\", force_remount=True).\n"
          ]
        }
      ]
    },
    {
      "cell_type": "code",
      "source": [
        "# import sys\n",
        "# sys.path.append('/content/drive/My Drive/{}'.format(\"cogs402longformer/\"))"
      ],
      "metadata": {
        "id": "AlcBiC0nWtJE"
      },
      "id": "AlcBiC0nWtJE",
      "execution_count": null,
      "outputs": []
    },
    {
      "cell_type": "markdown",
      "source": [
        "### Install and Import Dependencies"
      ],
      "metadata": {
        "id": "-nmZtunIuDIM"
      },
      "id": "-nmZtunIuDIM"
    },
    {
      "cell_type": "code",
      "source": [
        "pip install datasets --quiet"
      ],
      "metadata": {
        "id": "s_6vceLhTIBf"
      },
      "id": "s_6vceLhTIBf",
      "execution_count": null,
      "outputs": []
    },
    {
      "cell_type": "code",
      "source": [
        "pip install ipywidgets --quiet"
      ],
      "metadata": {
        "id": "g9mGhCoRTK_G"
      },
      "id": "g9mGhCoRTK_G",
      "execution_count": null,
      "outputs": []
    },
    {
      "cell_type": "code",
      "source": [
        "pip install transformers"
      ],
      "metadata": {
        "id": "M-qXH2JkTMdA",
        "colab": {
          "base_uri": "https://localhost:8080/"
        },
        "outputId": "ec4c4516-27f8-4a22-d2fe-929760acce10"
      },
      "id": "M-qXH2JkTMdA",
      "execution_count": null,
      "outputs": [
        {
          "output_type": "stream",
          "name": "stdout",
          "text": [
            "Looking in indexes: https://pypi.org/simple, https://us-python.pkg.dev/colab-wheels/public/simple/\n",
            "Requirement already satisfied: transformers in /usr/local/lib/python3.7/dist-packages (4.20.1)\n",
            "Requirement already satisfied: filelock in /usr/local/lib/python3.7/dist-packages (from transformers) (3.7.1)\n",
            "Requirement already satisfied: numpy>=1.17 in /usr/local/lib/python3.7/dist-packages (from transformers) (1.21.6)\n",
            "Requirement already satisfied: regex!=2019.12.17 in /usr/local/lib/python3.7/dist-packages (from transformers) (2022.6.2)\n",
            "Requirement already satisfied: importlib-metadata in /usr/local/lib/python3.7/dist-packages (from transformers) (4.12.0)\n",
            "Requirement already satisfied: tqdm>=4.27 in /usr/local/lib/python3.7/dist-packages (from transformers) (4.64.0)\n",
            "Requirement already satisfied: packaging>=20.0 in /usr/local/lib/python3.7/dist-packages (from transformers) (21.3)\n",
            "Requirement already satisfied: pyyaml>=5.1 in /usr/local/lib/python3.7/dist-packages (from transformers) (6.0)\n",
            "Requirement already satisfied: huggingface-hub<1.0,>=0.1.0 in /usr/local/lib/python3.7/dist-packages (from transformers) (0.8.1)\n",
            "Requirement already satisfied: tokenizers!=0.11.3,<0.13,>=0.11.1 in /usr/local/lib/python3.7/dist-packages (from transformers) (0.12.1)\n",
            "Requirement already satisfied: requests in /usr/local/lib/python3.7/dist-packages (from transformers) (2.23.0)\n",
            "Requirement already satisfied: typing-extensions>=3.7.4.3 in /usr/local/lib/python3.7/dist-packages (from huggingface-hub<1.0,>=0.1.0->transformers) (4.1.1)\n",
            "Requirement already satisfied: pyparsing!=3.0.5,>=2.0.2 in /usr/local/lib/python3.7/dist-packages (from packaging>=20.0->transformers) (3.0.9)\n",
            "Requirement already satisfied: zipp>=0.5 in /usr/local/lib/python3.7/dist-packages (from importlib-metadata->transformers) (3.8.1)\n",
            "Requirement already satisfied: certifi>=2017.4.17 in /usr/local/lib/python3.7/dist-packages (from requests->transformers) (2022.6.15)\n",
            "Requirement already satisfied: chardet<4,>=3.0.2 in /usr/local/lib/python3.7/dist-packages (from requests->transformers) (3.0.4)\n",
            "Requirement already satisfied: idna<3,>=2.5 in /usr/local/lib/python3.7/dist-packages (from requests->transformers) (2.10)\n",
            "Requirement already satisfied: urllib3!=1.25.0,!=1.25.1,<1.26,>=1.21.1 in /usr/local/lib/python3.7/dist-packages (from requests->transformers) (1.25.11)\n"
          ]
        }
      ]
    },
    {
      "cell_type": "code",
      "execution_count": null,
      "id": "9b774ad0-b725-4910-9050-423edf160ebd",
      "metadata": {
        "id": "9b774ad0-b725-4910-9050-423edf160ebd"
      },
      "outputs": [],
      "source": [
        "import os\n",
        "\n",
        "import numpy as np\n",
        "import pandas as pd\n",
        "import seaborn as sns\n",
        "import matplotlib.pyplot as plt\n",
        "\n",
        "import torch\n",
        "import torch.nn as nn"
      ]
    },
    {
      "cell_type": "markdown",
      "source": [
        "###Import Dataset and Model"
      ],
      "metadata": {
        "id": "hSSPoSRn6r9A"
      },
      "id": "hSSPoSRn6r9A"
    },
    {
      "cell_type": "markdown",
      "source": [
        "Import the Reserach Papers dataset"
      ],
      "metadata": {
        "id": "hfHRqrpw_VlN"
      },
      "id": "hfHRqrpw_VlN"
    },
    {
      "cell_type": "code",
      "execution_count": null,
      "id": "66cc97f5-7e3a-476c-9858-5643eeaa6675",
      "metadata": {
        "id": "66cc97f5-7e3a-476c-9858-5643eeaa6675"
      },
      "outputs": [],
      "source": [
        "from datasets import load_dataset\n",
        "from transformers import AutoModelForSequenceClassification, AutoTokenizer\n",
        "\n",
        "tokenizer = AutoTokenizer.from_pretrained('allenai/longformer-base-4096')\n",
        "\n",
        "def longformer_finetuned_papers():\n",
        "    model = AutoModelForSequenceClassification.from_pretrained('danielhou13/longformer-finetuned_papers_v2', num_labels = 2)\n",
        "    return model\n",
        "\n",
        "def preprocess_function(tokenizer, example, max_length):\n",
        "    example.update(tokenizer(example['text'], padding='max_length', max_length=max_length, truncation=True))\n",
        "    return example\n",
        "\n",
        "def get_papers_dataset(dataset_type):\n",
        "    max_length = 2048\n",
        "    dataset = load_dataset(\"danielhou13/cogs402dataset\")[dataset_type]\n",
        "\n",
        "    # tokenizer = AutoTokenizer.from_pretrained('bert-base-uncased')\n",
        "    dataset = dataset.map(lambda x: preprocess_function(tokenizer, x, max_length), batched=True)\n",
        "    setattr(dataset, 'input_columns', ['input_ids', 'attention_mask'])\n",
        "    setattr(dataset, 'target_columns', ['labels'])\n",
        "    setattr(dataset, 'max_length', max_length)\n",
        "    setattr(dataset, 'tokenizer', tokenizer)\n",
        "    return dataset\n",
        "\n",
        "def papers_test_set():\n",
        "    return get_papers_dataset('test')"
      ]
    },
    {
      "cell_type": "markdown",
      "source": [
        "Import the news dataset"
      ],
      "metadata": {
        "id": "Jq_wt-jn_Y6m"
      },
      "id": "Jq_wt-jn_Y6m"
    },
    {
      "cell_type": "code",
      "source": [
        "# def preprocess_function(tokenizer, example, max_length):\n",
        "#     example.update(tokenizer(example['text'], padding='max_length', max_length=max_length, truncation=True))\n",
        "#     return example\n",
        "\n",
        "# def longformer_finetuned_news():\n",
        "#     model = AutoModelForSequenceClassification.from_pretrained('danielhou13/longformer-finetuned-news-cogs402', num_labels = 2)\n",
        "#     return model\n",
        "\n",
        "# def get_news_dataset(dataset_type):\n",
        "#     max_length = 2048\n",
        "#     dataset = load_dataset(\"danielhou13/cogs402dataset2\")[dataset_type]\n",
        "\n",
        "#     tokenizer = AutoTokenizer.from_pretrained('allenai/longformer-base-4096')\n",
        "#     dataset = dataset.map(lambda x: preprocess_function(tokenizer, x, max_length), batched=True)\n",
        "\n",
        "#     labels = map(int, dataset['hyperpartisan'])\n",
        "#     print(type(dataset['hyperpartisan']))\n",
        "#     labels = list(labels)\n",
        "#     dataset = dataset.add_column(\"labels\", labels)\n",
        "\n",
        "#     dataset = dataset.remove_columns(['title', 'hyperpartisan', 'url', 'published_at', 'bias'])\n",
        "#     print(dataset)\n",
        "#     setattr(dataset, 'input_columns', ['input_ids', 'attention_mask'])\n",
        "#     setattr(dataset, 'target_columns', ['labels'])\n",
        "#     setattr(dataset, 'max_length', max_length)\n",
        "#     setattr(dataset, 'tokenizer', tokenizer)\n",
        "#     return dataset\n",
        "\n",
        "# def news_train_set():\n",
        "#     return get_news_dataset('train')\n",
        "\n",
        "# def news_test_set():\n",
        "#     return get_news_dataset('validation')"
      ],
      "metadata": {
        "id": "gEI0AFC5-0qA"
      },
      "id": "gEI0AFC5-0qA",
      "execution_count": null,
      "outputs": []
    },
    {
      "cell_type": "markdown",
      "source": [
        "Load papers model and dataset and preprocess it"
      ],
      "metadata": {
        "id": "srzj_2BeNGOK"
      },
      "id": "srzj_2BeNGOK"
    },
    {
      "cell_type": "code",
      "execution_count": null,
      "id": "24ad54a3-db97-47e3-8cc7-417d4db2c99b",
      "metadata": {
        "id": "24ad54a3-db97-47e3-8cc7-417d4db2c99b",
        "colab": {
          "base_uri": "https://localhost:8080/",
          "height": 133,
          "referenced_widgets": [
            "4666a0f94fcd4a98ab989098fdff4542",
            "cf6eafa16ad84150a5c18880de1934ef",
            "0df2abdad7084d29aa444ba8e5a84ff0",
            "a93d0ce8f20444b38506790ef43957ce",
            "8fe030eb42164cf3ac584aaca96e7c49",
            "00898ef26ebd48899d793852b0907e9f",
            "e16b772b81b949609d06439b56a6f241",
            "ab394c67feed4958ae42331240816087",
            "ad45a6cfeee64ec78788771b11741dab",
            "4027d40d76824ddcbe3fae8e2de0af75",
            "53bf32c575644ff4801291feebc51c6e",
            "2fa0cafab1904fd38fe1635ca7f84dc5",
            "5606eebae048433fb143b38f7a670533",
            "206bebd1373d4c20a5fc835ddb89ad14",
            "83605b6583dd4814925ca6c8d9a5b000",
            "2d9cb98c80d440b4a4c8b43f97a1e4d0",
            "ee5b6a8f94664d6c8bd7a81c84be66b2",
            "7f86383f4ba940e7b7d1619986672c85",
            "4dd9a43bc18b4abf8bc1cc45e3172cc2",
            "f7bcfbb5dc4c4313baaec89228ccf534",
            "6754160a250f42fcb0937a736b0fda8d",
            "e9486a2a2e1f43cc9156d22cd85f5a7a"
          ]
        },
        "outputId": "6d7747dc-b531-412b-cb53-1a1375d0e53f"
      },
      "outputs": [
        {
          "output_type": "stream",
          "name": "stderr",
          "text": [
            "Using custom data configuration danielhou13--cogs402dataset-144b958ac1a53abb\n",
            "Reusing dataset parquet (/root/.cache/huggingface/datasets/danielhou13___parquet/danielhou13--cogs402dataset-144b958ac1a53abb/0.0.0/7328ef7ee03eaf3f86ae40594d46a1cec86161704e02dd19f232d81eee72ade8)\n"
          ]
        },
        {
          "output_type": "display_data",
          "data": {
            "text/plain": [
              "  0%|          | 0/2 [00:00<?, ?it/s]"
            ],
            "application/vnd.jupyter.widget-view+json": {
              "version_major": 2,
              "version_minor": 0,
              "model_id": "4666a0f94fcd4a98ab989098fdff4542"
            }
          },
          "metadata": {}
        },
        {
          "output_type": "display_data",
          "data": {
            "text/plain": [
              "  0%|          | 0/2 [00:00<?, ?ba/s]"
            ],
            "application/vnd.jupyter.widget-view+json": {
              "version_major": 2,
              "version_minor": 0,
              "model_id": "2fa0cafab1904fd38fe1635ca7f84dc5"
            }
          },
          "metadata": {}
        },
        {
          "output_type": "stream",
          "name": "stdout",
          "text": [
            "['input_ids', 'attention_mask', 'labels']\n"
          ]
        }
      ],
      "source": [
        "cogs402_test = papers_test_set()\n",
        "model = longformer_finetuned_papers()\n",
        "columns = cogs402_test.input_columns + cogs402_test.target_columns\n",
        "print(columns)\n",
        "cogs402_test.set_format(type='torch', columns=columns)\n",
        "cogs402_test=cogs402_test.remove_columns(['text'])"
      ]
    },
    {
      "cell_type": "markdown",
      "source": [
        "Load news model and dataset and preprocess it"
      ],
      "metadata": {
        "id": "22BIYrX8NOVC"
      },
      "id": "22BIYrX8NOVC"
    },
    {
      "cell_type": "code",
      "source": [
        "# cogs402_test = news_test_set()\n",
        "# model = longformer_finetuned_news()\n",
        "# columns = cogs402_test.input_columns + cogs402_test.target_columns\n",
        "# print(columns)\n",
        "# cogs402_test.set_format(type='torch', columns=columns)"
      ],
      "metadata": {
        "id": "xh-YZZyo_eZx"
      },
      "id": "xh-YZZyo_eZx",
      "execution_count": null,
      "outputs": []
    },
    {
      "cell_type": "markdown",
      "source": [
        "### Get attention output for example"
      ],
      "metadata": {
        "id": "Sxd71xm3nWXj"
      },
      "id": "Sxd71xm3nWXj"
    },
    {
      "cell_type": "markdown",
      "source": [
        "Don't forget to allow your model to use your GPU for faster performance."
      ],
      "metadata": {
        "id": "QXqrucXRuJ3I"
      },
      "id": "QXqrucXRuJ3I"
    },
    {
      "cell_type": "code",
      "execution_count": null,
      "id": "deaabfa2-0855-41fd-870c-7a8b91e32d44",
      "metadata": {
        "id": "deaabfa2-0855-41fd-870c-7a8b91e32d44",
        "colab": {
          "base_uri": "https://localhost:8080/"
        },
        "outputId": "6304ae41-0d7d-44cf-d893-ef8b6658f0ee"
      },
      "outputs": [
        {
          "output_type": "stream",
          "name": "stdout",
          "text": [
            "cuda:0\n"
          ]
        }
      ],
      "source": [
        "if torch.cuda.is_available():\n",
        "    model = model.cuda()\n",
        "\n",
        "print(model.device)"
      ]
    },
    {
      "cell_type": "markdown",
      "source": [
        "You can select any example in your dataset, perferably one where you know it is interesting (like a false negative, a false positive or something that you found from a different part of your project)."
      ],
      "metadata": {
        "id": "89mQ9IyUuQkl"
      },
      "id": "89mQ9IyUuQkl"
    },
    {
      "cell_type": "code",
      "source": [
        "test_val = [976]\n",
        "print(test_val)\n",
        "testexam = cogs402_test[test_val]"
      ],
      "metadata": {
        "colab": {
          "base_uri": "https://localhost:8080/"
        },
        "id": "XnXxTGhFqYG5",
        "outputId": "c8ffadfa-7143-42b8-b088-6a249718a4ee"
      },
      "id": "XnXxTGhFqYG5",
      "execution_count": null,
      "outputs": [
        {
          "output_type": "stream",
          "name": "stdout",
          "text": [
            "[976]\n"
          ]
        }
      ]
    },
    {
      "cell_type": "markdown",
      "source": [
        "We stack the attention results into a tensor. The shape of the tensors are (layer, batch, head, seq_len, x + attention_window + 1) for the sliding attention and (layer, batch, head, seq_len, seq_len) for the global attention. "
      ],
      "metadata": {
        "id": "V2qcIQ6vud3Q"
      },
      "id": "V2qcIQ6vud3Q"
    },
    {
      "cell_type": "code",
      "execution_count": null,
      "id": "04c5bcaf-5fe3-4813-8444-5cfb2c63a92b",
      "metadata": {
        "id": "04c5bcaf-5fe3-4813-8444-5cfb2c63a92b",
        "colab": {
          "base_uri": "https://localhost:8080/"
        },
        "outputId": "936b646e-97a6-4c9f-e0d5-5f24200e53e9"
      },
      "outputs": [
        {
          "output_type": "stream",
          "name": "stdout",
          "text": [
            "output_attention.shape torch.Size([12, 1, 12, 2048, 514])\n",
            "gl_output_attention.shape torch.Size([12, 1, 12, 2048, 1])\n"
          ]
        }
      ],
      "source": [
        "output = model(testexam[\"input_ids\"].cuda(), attention_mask=testexam['attention_mask'].cuda(), labels=testexam['labels'].cuda(), output_attentions = True)\n",
        "batch_attn = output[-2]\n",
        "output_attentions = torch.stack(batch_attn).cpu()\n",
        "global_attention = output[-1]\n",
        "output_global_attentions = torch.stack(global_attention).cpu()\n",
        "print(\"output_attention.shape\", output_attentions.shape)\n",
        "print(\"gl_output_attention.shape\", output_global_attentions.shape)"
      ]
    },
    {
      "cell_type": "code",
      "source": [
        "print(testexam['labels'][0])\n",
        "print(output[1].argmax())"
      ],
      "metadata": {
        "id": "SO4yNy98t_UP",
        "colab": {
          "base_uri": "https://localhost:8080/"
        },
        "outputId": "03a7bf28-5952-493b-d059-7231b2dad004"
      },
      "id": "SO4yNy98t_UP",
      "execution_count": null,
      "outputs": [
        {
          "output_type": "stream",
          "name": "stdout",
          "text": [
            "tensor(1)\n",
            "tensor(1, device='cuda:0')\n"
          ]
        }
      ]
    },
    {
      "cell_type": "code",
      "execution_count": null,
      "id": "2467c3d1-fe58-4e6d-aa98-534a6df72fcc",
      "metadata": {
        "id": "2467c3d1-fe58-4e6d-aa98-534a6df72fcc"
      },
      "outputs": [],
      "source": [
        "# print(os.getcwd())\n",
        "# yes = torch.load(\"resources/longformer_test2/epoch_3/aggregate_attn.pt\")"
      ]
    },
    {
      "cell_type": "markdown",
      "source": [
        "### Convert sliding window attention to traditional format"
      ],
      "metadata": {
        "id": "soutFra9pAsZ"
      },
      "id": "soutFra9pAsZ"
    },
    {
      "cell_type": "markdown",
      "source": [
        "A unique property of the longformer model is that the matrix output for the attention is not a seq_len x seq_len output. Each token can only attend to the preceeding w/2 tokens and the succeeding w/2 tokens, dictated by whatever you choose the model's attention window w to be. Another name for this is called the sliding window attention. Therefore, we need to convert sliding attention matrix to correct seq_len x seq_len matrix to remain consistent with other types of Transformer Neural Networks.\n",
        "\n",
        "To do so, we run the following 4 functinos. Our attentions will change from an output attention tensor of shape (layer, batch, head, seq_len, x + attention_window + 1) and a global attention tensor of shape (layer, batch, head, seq_len, x) to a single tensor of shape (layer, batch, head, seq_len, seq_len). More information about the functions can be found here. More information about the functions can be found [here](https://colab.research.google.com/drive/1Kxx26NtIlUzioRCHpsR8IbSz_DpRFxEZ#scrollTo=liVhkxiH9Le0)."
      ],
      "metadata": {
        "id": "OevnNprR67LK"
      },
      "id": "OevnNprR67LK"
    },
    {
      "cell_type": "code",
      "execution_count": null,
      "id": "0882a3e5-1b0c-4319-92a3-92f5b516d854",
      "metadata": {
        "id": "0882a3e5-1b0c-4319-92a3-92f5b516d854"
      },
      "outputs": [],
      "source": [
        "def create_head_matrix(output_attentions, global_attentions):\n",
        "    new_attention_matrix = torch.zeros((output_attentions.shape[0], \n",
        "                                      output_attentions.shape[0]))\n",
        "    for i in range(output_attentions.shape[0]):\n",
        "        test_non_zeroes = torch.nonzero(output_attentions[i]).squeeze()\n",
        "        test2 = output_attentions[i][test_non_zeroes[1:]]\n",
        "        new_attention_matrix_indices = test_non_zeroes[1:]-257 + i\n",
        "        new_attention_matrix[i][new_attention_matrix_indices] = test2\n",
        "        new_attention_matrix[i][0] = output_attentions[i][0]\n",
        "        new_attention_matrix[0] = global_attentions.squeeze()[:output_attentions.shape[0]]\n",
        "    return new_attention_matrix\n",
        "\n",
        "\n",
        "def attentions_all_heads(output_attentions, global_attentions):\n",
        "    new_matrix = []\n",
        "    for i in range(output_attentions.shape[0]):\n",
        "        matrix = create_head_matrix(output_attentions[i], global_attentions[i])\n",
        "        new_matrix.append(matrix)\n",
        "    return torch.stack(new_matrix)\n",
        "\n",
        "def all_batches(output_attentions, global_attentions):\n",
        "    new_matrix = []\n",
        "    for i in range(output_attentions.shape[0]):\n",
        "        matrix = attentions_all_heads(output_attentions[i], global_attentions[i])\n",
        "        new_matrix.append(matrix)\n",
        "    return torch.stack(new_matrix)\n",
        "\n",
        "def all_layers(output_attentions, global_attentions):\n",
        "    new_matrix = []\n",
        "    for i in range(output_attentions.shape[0]):\n",
        "        matrix = all_batches(output_attentions[i], global_attentions[i])\n",
        "        new_matrix.append(matrix)\n",
        "    return torch.stack(new_matrix)"
      ]
    },
    {
      "cell_type": "code",
      "source": [
        "converted_mat = all_layers(output_attentions, output_global_attentions).detach().cpu().numpy()\n",
        "print(converted_mat.shape)"
      ],
      "metadata": {
        "id": "IpdfMEMAuvyR",
        "colab": {
          "base_uri": "https://localhost:8080/"
        },
        "outputId": "ff26d031-b471-4536-bae8-22f2982cb9e9"
      },
      "id": "IpdfMEMAuvyR",
      "execution_count": null,
      "outputs": [
        {
          "output_type": "stream",
          "name": "stdout",
          "text": [
            "(12, 1, 12, 2048, 2048)\n"
          ]
        }
      ]
    },
    {
      "cell_type": "markdown",
      "source": [
        "Not all heads have the same impact on the final output. Some heads may be more important than others so we scale each attention matrix by their respective head and layer. The notebook used to get head importance is [here](https://colab.research.google.com/drive/1O4QCi8ewBp7asegKqySRflTQZ9HeH8mQ?usp=sharing)."
      ],
      "metadata": {
        "id": "P-nS_AHa7Hv6"
      },
      "id": "P-nS_AHa7Hv6"
    },
    {
      "cell_type": "code",
      "source": [
        "head_importance = torch.load(\"/content/drive/MyDrive/cogs402longformer/t3-visapplication/resources/papers/pretrained/head_importance.pt\")\n",
        "# head_importance = torch.load(\"/content/drive/MyDrive/cogs402longformer/t3-visapplication/resources/news/head_importance.pt\")"
      ],
      "metadata": {
        "id": "UsAznmcDyBgR"
      },
      "id": "UsAznmcDyBgR",
      "execution_count": null,
      "outputs": []
    },
    {
      "cell_type": "code",
      "source": [
        "def scale_by_importance(attention_matrix, head_importance):\n",
        "  new_matrix = np.zeros_like(attention_matrix)\n",
        "  for i in range(attention_matrix.shape[0]):\n",
        "    head_importance_layer = head_importance[i]\n",
        "    for j in range(attention_matrix.shape[1]):\n",
        "      new_matrix[i,j] = attention_matrix[i,j] * np.expand_dims(head_importance_layer, axis=(1,2))\n",
        "  return new_matrix"
      ],
      "metadata": {
        "id": "_HFs_vLw0230"
      },
      "id": "_HFs_vLw0230",
      "execution_count": null,
      "outputs": []
    },
    {
      "cell_type": "code",
      "source": [
        "converted_mat_importance = scale_by_importance(converted_mat, head_importance)"
      ],
      "metadata": {
        "id": "XUcjPfxeHbqT"
      },
      "id": "XUcjPfxeHbqT",
      "execution_count": null,
      "outputs": []
    },
    {
      "cell_type": "markdown",
      "source": [
        "## Assess Attention Matrix"
      ],
      "metadata": {
        "id": "hYYuWzo2pEdl"
      },
      "id": "hYYuWzo2pEdl"
    },
    {
      "cell_type": "markdown",
      "source": [
        "#### Every token's top attended\n",
        "\n",
        "Lets suppose we want the topk attended tokens for each token in each head, batch and layer. In other words, we want to know which tokens each token attends TO the most. We first need to grab the list of all tokens in our example from our input_ids as we need to display what the actual tokens are."
      ],
      "metadata": {
        "id": "drU1Kb4UpPgV"
      },
      "id": "drU1Kb4UpPgV"
    },
    {
      "cell_type": "markdown",
      "source": [
        "The following three functions serve to get us our top k attented tokens for each token in our attention matrix. \n",
        "\n",
        "`find_top_attention_unsummed` takes the full attention matrix (layer, batch, head, seq_len, seq_len) obtains the top k values for each token for every head,batch, and layer. Along with the values, it also returns the positions of each of the values so we know what token each value returned corresponds to. In other words, for every layer, for every item in the batch, for every head, it tells us for each token, what the top k tokens it attends to are. The output of the function are two matrices of shape (layer, batch, head, seq_len, k).\n",
        "\n",
        "`get_tokens` takes in three inputs: a matrix of indices with shape (layer, batch, head, seq_len, k), the tensor of input_ids used for prediction, and an example number, and finds the associated token at each index stored in the input matrix. The example number serves only to select an example from the batch. If we do not pass in an example as an input, we will iterate over all of the batches. The output of the function is an array of shape (layer, batch, head, seq_len, k), where each item is a token from their respective example.\n",
        "\n",
        "`highest_attended_tokens` takes in 5 inputs. It takes in a matrix of indicies, matrix of values, matrix of tokens, all with shape (layer, batch, head, seq_len, k), the tensor of input_ids used for prediction, and an example number. The example number again serves only to pick an example from the batch and if not used, will iterate over all batches. We use these matrices to create a Pandas Dataframe, where each row of the dataframe contains the current token, the position of the current token, the attended token, the position of the attended token, the attended value, the rank of the attended token w.r.t the current token, the layer, the head and the batch. "
      ],
      "metadata": {
        "id": "BX9jj2qIv8vK"
      },
      "id": "BX9jj2qIv8vK"
    },
    {
      "cell_type": "code",
      "source": [
        "# get the top k and indexes and values for each row\n",
        "def find_top_attention_unsummed(scores_mat, k):\n",
        "  indices = scores_mat.argsort(axis=4)[:, :, :, :, :-(k+1):-1]\n",
        "  vals = np.take_along_axis(scores_mat, indices, axis=4)  \n",
        "  return indices, vals\n",
        "\n",
        "#find the tokens using the index matrix and the all_tokens list to create a \n",
        "#matrix of tokens \n",
        "def get_tokens(index_matrix, example_ids, example=None):\n",
        "  \n",
        "  # Make sure our example is not out of range.\n",
        "  assert example < index_matrix.shape[1]\n",
        "\n",
        "  highest_tokens = []\n",
        "  #layer\n",
        "  for i in range(index_matrix.shape[0]):\n",
        "    row_tokens = []\n",
        "    #batch\n",
        "    for j in range(index_matrix.shape[1]):\n",
        "      batch_tokens = []\n",
        "\n",
        "      if (example is not None) and (j != example):\n",
        "        continue\n",
        "\n",
        "      all_tokens = tokenizer.convert_ids_to_tokens(example_ids[j])\n",
        "\n",
        "      #head\n",
        "      for k in range(index_matrix.shape[2]):\n",
        "        head_tokens = []\n",
        "\n",
        "        #token\n",
        "        for x in range(index_matrix.shape[3]):\n",
        "          tokens = [all_tokens[idx] for idx in index_matrix[i,j,k,x]]\n",
        "          head_tokens.append(tokens)\n",
        "        batch_tokens.append(head_tokens)\n",
        "      row_tokens.append(batch_tokens)\n",
        "    highest_tokens.append(row_tokens)\n",
        "  return np.array(highest_tokens)\n",
        "\n",
        "#format into a dataframe\n",
        "def highest_attended_tokens(index, values, tokens, example_ids, example=None):\n",
        "    dataframe=[]\n",
        "    for i in range(index.shape[0]):\n",
        "      for j in range(index.shape[1]):\n",
        "\n",
        "        if (example is not None) and (j != example):\n",
        "          continue\n",
        "\n",
        "        all_tokens = tokenizer.convert_ids_to_tokens(example_ids[j])\n",
        "\n",
        "        for k in range(index.shape[2]):\n",
        "          for x in range(index.shape[3]):\n",
        "            for y in range(index.shape[4]):\n",
        "              d = {\"token\":all_tokens[x], 'self_position':x, \n",
        "                  \"attended_token\": tokens[i,j,k,x,y],\n",
        "                  'token_position':index[i,j,k,x,y], \n",
        "                  'attention_scores':values[i,j,k,x,y],\n",
        "                  'layer':(i+1), 'head':(k+1),\n",
        "                  'rank':(y+1),\n",
        "                  'batch':j}\n",
        "              dataframe.append(d)\n",
        "    df = pd.DataFrame(dataframe)\n",
        "    return df"
      ],
      "metadata": {
        "id": "cO9aWGYxCNzu"
      },
      "id": "cO9aWGYxCNzu",
      "execution_count": null,
      "outputs": []
    },
    {
      "cell_type": "code",
      "source": [
        "#combine the previous functions\n",
        "def highest_tokens(matrix, k, example_ids, example=None):\n",
        "  index, values = find_top_attention_unsummed(matrix, k)\n",
        "  highest_tokens = get_tokens(index, example_ids, example)\n",
        "  df = highest_attended_tokens(index, values, highest_tokens, example_ids, example)\n",
        "  return df"
      ],
      "metadata": {
        "id": "-TfHlPuAFALd"
      },
      "id": "-TfHlPuAFALd",
      "execution_count": null,
      "outputs": []
    },
    {
      "cell_type": "markdown",
      "source": [
        "Thus, for every token, we can get the top k tokens that this token attends to. Since it is a Dataframe, we can filter by batch, layer, head, rank, position, etc.,. The downsides are that its not very visually appealing despite being organized."
      ],
      "metadata": {
        "id": "vnhqif_VUqgU"
      },
      "id": "vnhqif_VUqgU"
    },
    {
      "cell_type": "code",
      "source": [
        "df2 = highest_tokens(converted_mat_importance, 10, testexam[\"input_ids\"], 0)\n",
        "df2"
      ],
      "metadata": {
        "id": "5Pl_PhUcFVOb",
        "colab": {
          "base_uri": "https://localhost:8080/",
          "height": 424
        },
        "outputId": "9009c6ab-0c06-4af2-a566-e5f4481687db"
      },
      "id": "5Pl_PhUcFVOb",
      "execution_count": null,
      "outputs": [
        {
          "output_type": "execute_result",
          "data": {
            "text/plain": [
              "        token  self_position attended_token  token_position  attention_scores  \\\n",
              "0         <s>              0            <s>               0          0.001840   \n",
              "1         <s>              0              -             512          0.000818   \n",
              "2         <s>              0             Ġa            1536          0.000718   \n",
              "3         <s>              0         Ġimage            1024          0.000706   \n",
              "4         <s>              0       Ġcaption            1309          0.000064   \n",
              "...       ...            ...            ...             ...               ...   \n",
              "2949115  </s>           2047              .            2006          0.000011   \n",
              "2949116  </s>           2047        Ġlearns            1993          0.000011   \n",
              "2949117  </s>           2047              .            1792          0.000011   \n",
              "2949118  </s>           2047              .            1909          0.000011   \n",
              "2949119  </s>           2047              .            1892          0.000011   \n",
              "\n",
              "         layer  head  rank  batch  \n",
              "0            1     1     1      0  \n",
              "1            1     1     2      0  \n",
              "2            1     1     3      0  \n",
              "3            1     1     4      0  \n",
              "4            1     1     5      0  \n",
              "...        ...   ...   ...    ...  \n",
              "2949115     12    12     6      0  \n",
              "2949116     12    12     7      0  \n",
              "2949117     12    12     8      0  \n",
              "2949118     12    12     9      0  \n",
              "2949119     12    12    10      0  \n",
              "\n",
              "[2949120 rows x 9 columns]"
            ],
            "text/html": [
              "\n",
              "  <div id=\"df-9a9d3a42-526e-4cef-a190-f6291b083dcf\">\n",
              "    <div class=\"colab-df-container\">\n",
              "      <div>\n",
              "<style scoped>\n",
              "    .dataframe tbody tr th:only-of-type {\n",
              "        vertical-align: middle;\n",
              "    }\n",
              "\n",
              "    .dataframe tbody tr th {\n",
              "        vertical-align: top;\n",
              "    }\n",
              "\n",
              "    .dataframe thead th {\n",
              "        text-align: right;\n",
              "    }\n",
              "</style>\n",
              "<table border=\"1\" class=\"dataframe\">\n",
              "  <thead>\n",
              "    <tr style=\"text-align: right;\">\n",
              "      <th></th>\n",
              "      <th>token</th>\n",
              "      <th>self_position</th>\n",
              "      <th>attended_token</th>\n",
              "      <th>token_position</th>\n",
              "      <th>attention_scores</th>\n",
              "      <th>layer</th>\n",
              "      <th>head</th>\n",
              "      <th>rank</th>\n",
              "      <th>batch</th>\n",
              "    </tr>\n",
              "  </thead>\n",
              "  <tbody>\n",
              "    <tr>\n",
              "      <th>0</th>\n",
              "      <td>&lt;s&gt;</td>\n",
              "      <td>0</td>\n",
              "      <td>&lt;s&gt;</td>\n",
              "      <td>0</td>\n",
              "      <td>0.001840</td>\n",
              "      <td>1</td>\n",
              "      <td>1</td>\n",
              "      <td>1</td>\n",
              "      <td>0</td>\n",
              "    </tr>\n",
              "    <tr>\n",
              "      <th>1</th>\n",
              "      <td>&lt;s&gt;</td>\n",
              "      <td>0</td>\n",
              "      <td>-</td>\n",
              "      <td>512</td>\n",
              "      <td>0.000818</td>\n",
              "      <td>1</td>\n",
              "      <td>1</td>\n",
              "      <td>2</td>\n",
              "      <td>0</td>\n",
              "    </tr>\n",
              "    <tr>\n",
              "      <th>2</th>\n",
              "      <td>&lt;s&gt;</td>\n",
              "      <td>0</td>\n",
              "      <td>Ġa</td>\n",
              "      <td>1536</td>\n",
              "      <td>0.000718</td>\n",
              "      <td>1</td>\n",
              "      <td>1</td>\n",
              "      <td>3</td>\n",
              "      <td>0</td>\n",
              "    </tr>\n",
              "    <tr>\n",
              "      <th>3</th>\n",
              "      <td>&lt;s&gt;</td>\n",
              "      <td>0</td>\n",
              "      <td>Ġimage</td>\n",
              "      <td>1024</td>\n",
              "      <td>0.000706</td>\n",
              "      <td>1</td>\n",
              "      <td>1</td>\n",
              "      <td>4</td>\n",
              "      <td>0</td>\n",
              "    </tr>\n",
              "    <tr>\n",
              "      <th>4</th>\n",
              "      <td>&lt;s&gt;</td>\n",
              "      <td>0</td>\n",
              "      <td>Ġcaption</td>\n",
              "      <td>1309</td>\n",
              "      <td>0.000064</td>\n",
              "      <td>1</td>\n",
              "      <td>1</td>\n",
              "      <td>5</td>\n",
              "      <td>0</td>\n",
              "    </tr>\n",
              "    <tr>\n",
              "      <th>...</th>\n",
              "      <td>...</td>\n",
              "      <td>...</td>\n",
              "      <td>...</td>\n",
              "      <td>...</td>\n",
              "      <td>...</td>\n",
              "      <td>...</td>\n",
              "      <td>...</td>\n",
              "      <td>...</td>\n",
              "      <td>...</td>\n",
              "    </tr>\n",
              "    <tr>\n",
              "      <th>2949115</th>\n",
              "      <td>&lt;/s&gt;</td>\n",
              "      <td>2047</td>\n",
              "      <td>.</td>\n",
              "      <td>2006</td>\n",
              "      <td>0.000011</td>\n",
              "      <td>12</td>\n",
              "      <td>12</td>\n",
              "      <td>6</td>\n",
              "      <td>0</td>\n",
              "    </tr>\n",
              "    <tr>\n",
              "      <th>2949116</th>\n",
              "      <td>&lt;/s&gt;</td>\n",
              "      <td>2047</td>\n",
              "      <td>Ġlearns</td>\n",
              "      <td>1993</td>\n",
              "      <td>0.000011</td>\n",
              "      <td>12</td>\n",
              "      <td>12</td>\n",
              "      <td>7</td>\n",
              "      <td>0</td>\n",
              "    </tr>\n",
              "    <tr>\n",
              "      <th>2949117</th>\n",
              "      <td>&lt;/s&gt;</td>\n",
              "      <td>2047</td>\n",
              "      <td>.</td>\n",
              "      <td>1792</td>\n",
              "      <td>0.000011</td>\n",
              "      <td>12</td>\n",
              "      <td>12</td>\n",
              "      <td>8</td>\n",
              "      <td>0</td>\n",
              "    </tr>\n",
              "    <tr>\n",
              "      <th>2949118</th>\n",
              "      <td>&lt;/s&gt;</td>\n",
              "      <td>2047</td>\n",
              "      <td>.</td>\n",
              "      <td>1909</td>\n",
              "      <td>0.000011</td>\n",
              "      <td>12</td>\n",
              "      <td>12</td>\n",
              "      <td>9</td>\n",
              "      <td>0</td>\n",
              "    </tr>\n",
              "    <tr>\n",
              "      <th>2949119</th>\n",
              "      <td>&lt;/s&gt;</td>\n",
              "      <td>2047</td>\n",
              "      <td>.</td>\n",
              "      <td>1892</td>\n",
              "      <td>0.000011</td>\n",
              "      <td>12</td>\n",
              "      <td>12</td>\n",
              "      <td>10</td>\n",
              "      <td>0</td>\n",
              "    </tr>\n",
              "  </tbody>\n",
              "</table>\n",
              "<p>2949120 rows × 9 columns</p>\n",
              "</div>\n",
              "      <button class=\"colab-df-convert\" onclick=\"convertToInteractive('df-9a9d3a42-526e-4cef-a190-f6291b083dcf')\"\n",
              "              title=\"Convert this dataframe to an interactive table.\"\n",
              "              style=\"display:none;\">\n",
              "        \n",
              "  <svg xmlns=\"http://www.w3.org/2000/svg\" height=\"24px\"viewBox=\"0 0 24 24\"\n",
              "       width=\"24px\">\n",
              "    <path d=\"M0 0h24v24H0V0z\" fill=\"none\"/>\n",
              "    <path d=\"M18.56 5.44l.94 2.06.94-2.06 2.06-.94-2.06-.94-.94-2.06-.94 2.06-2.06.94zm-11 1L8.5 8.5l.94-2.06 2.06-.94-2.06-.94L8.5 2.5l-.94 2.06-2.06.94zm10 10l.94 2.06.94-2.06 2.06-.94-2.06-.94-.94-2.06-.94 2.06-2.06.94z\"/><path d=\"M17.41 7.96l-1.37-1.37c-.4-.4-.92-.59-1.43-.59-.52 0-1.04.2-1.43.59L10.3 9.45l-7.72 7.72c-.78.78-.78 2.05 0 2.83L4 21.41c.39.39.9.59 1.41.59.51 0 1.02-.2 1.41-.59l7.78-7.78 2.81-2.81c.8-.78.8-2.07 0-2.86zM5.41 20L4 18.59l7.72-7.72 1.47 1.35L5.41 20z\"/>\n",
              "  </svg>\n",
              "      </button>\n",
              "      \n",
              "  <style>\n",
              "    .colab-df-container {\n",
              "      display:flex;\n",
              "      flex-wrap:wrap;\n",
              "      gap: 12px;\n",
              "    }\n",
              "\n",
              "    .colab-df-convert {\n",
              "      background-color: #E8F0FE;\n",
              "      border: none;\n",
              "      border-radius: 50%;\n",
              "      cursor: pointer;\n",
              "      display: none;\n",
              "      fill: #1967D2;\n",
              "      height: 32px;\n",
              "      padding: 0 0 0 0;\n",
              "      width: 32px;\n",
              "    }\n",
              "\n",
              "    .colab-df-convert:hover {\n",
              "      background-color: #E2EBFA;\n",
              "      box-shadow: 0px 1px 2px rgba(60, 64, 67, 0.3), 0px 1px 3px 1px rgba(60, 64, 67, 0.15);\n",
              "      fill: #174EA6;\n",
              "    }\n",
              "\n",
              "    [theme=dark] .colab-df-convert {\n",
              "      background-color: #3B4455;\n",
              "      fill: #D2E3FC;\n",
              "    }\n",
              "\n",
              "    [theme=dark] .colab-df-convert:hover {\n",
              "      background-color: #434B5C;\n",
              "      box-shadow: 0px 1px 3px 1px rgba(0, 0, 0, 0.15);\n",
              "      filter: drop-shadow(0px 1px 2px rgba(0, 0, 0, 0.3));\n",
              "      fill: #FFFFFF;\n",
              "    }\n",
              "  </style>\n",
              "\n",
              "      <script>\n",
              "        const buttonEl =\n",
              "          document.querySelector('#df-9a9d3a42-526e-4cef-a190-f6291b083dcf button.colab-df-convert');\n",
              "        buttonEl.style.display =\n",
              "          google.colab.kernel.accessAllowed ? 'block' : 'none';\n",
              "\n",
              "        async function convertToInteractive(key) {\n",
              "          const element = document.querySelector('#df-9a9d3a42-526e-4cef-a190-f6291b083dcf');\n",
              "          const dataTable =\n",
              "            await google.colab.kernel.invokeFunction('convertToInteractive',\n",
              "                                                     [key], {});\n",
              "          if (!dataTable) return;\n",
              "\n",
              "          const docLinkHtml = 'Like what you see? Visit the ' +\n",
              "            '<a target=\"_blank\" href=https://colab.research.google.com/notebooks/data_table.ipynb>data table notebook</a>'\n",
              "            + ' to learn more about interactive tables.';\n",
              "          element.innerHTML = '';\n",
              "          dataTable['output_type'] = 'display_data';\n",
              "          await google.colab.output.renderOutput(dataTable, element);\n",
              "          const docLink = document.createElement('div');\n",
              "          docLink.innerHTML = docLinkHtml;\n",
              "          element.appendChild(docLink);\n",
              "        }\n",
              "      </script>\n",
              "    </div>\n",
              "  </div>\n",
              "  "
            ]
          },
          "metadata": {},
          "execution_count": 75
        }
      ]
    },
    {
      "cell_type": "markdown",
      "source": [
        "#### Total attention for each word"
      ],
      "metadata": {
        "id": "SppU6voZpLiM"
      },
      "id": "SppU6voZpLiM"
    },
    {
      "cell_type": "markdown",
      "source": [
        "Get the sum of the attentions for all the tokens (column-wise). In other words, find out how much every word is attended to. We then normalize the values to a range of [0,1]."
      ],
      "metadata": {
        "id": "u0ViKJAn7Ap0"
      },
      "id": "u0ViKJAn7Ap0"
    },
    {
      "cell_type": "code",
      "source": [
        "attention_matrix_importance = converted_mat_importance.sum(axis=3)\n",
        "print(attention_matrix_importance.shape)"
      ],
      "metadata": {
        "id": "EhMNdupbxFrx",
        "colab": {
          "base_uri": "https://localhost:8080/"
        },
        "outputId": "de027aad-c3a9-4687-d2ab-e275d0d14b6e"
      },
      "id": "EhMNdupbxFrx",
      "execution_count": null,
      "outputs": [
        {
          "output_type": "stream",
          "name": "stdout",
          "text": [
            "(12, 1, 12, 2048)\n"
          ]
        }
      ]
    },
    {
      "cell_type": "code",
      "source": [
        "def normalize(data):\n",
        "    return (data - np.min(data)) / (np.max(data) - np.min(data))"
      ],
      "metadata": {
        "id": "namX3_nLAORx"
      },
      "id": "namX3_nLAORx",
      "execution_count": null,
      "outputs": []
    },
    {
      "cell_type": "code",
      "source": [
        "attention_matrix_importance = normalize(attention_matrix_importance)"
      ],
      "metadata": {
        "id": "ICgX3sa5AVh7"
      },
      "id": "ICgX3sa5AVh7",
      "execution_count": null,
      "outputs": []
    },
    {
      "cell_type": "markdown",
      "source": [
        "#### PDF view\n",
        "\n",
        "A dataframe is good for picking out information from the example, but it isn't the best being a easy to read visualization. Its easier to see how much each word is attended to in an example if we have the actual example, with the words highlighted based on the magnitude of attention."
      ],
      "metadata": {
        "id": "kqgAjuIwph32"
      },
      "id": "kqgAjuIwph32"
    },
    {
      "cell_type": "markdown",
      "source": [
        "\n",
        "\n",
        "We use https://github.com/jiesutd/Text-Attention-Heatmap-Visualization to show how much each token in the example is attended to, up to the max number of tokens we specified earlier.\n",
        "\n",
        "In short, these functions iterate over the list of attentions and tokens, cleans the tokens to remove special characters, and normalizes the data if you wish for it to.\n",
        "\n",
        "This notebook serves to explore one specific example in detail. If you wish to play around and/or convert multiple examples into PDFs, I recommend going to this [notebook](https://colab.research.google.com/drive/1Gyxj9rP2KnnCzit9zN3h3MeTTiQ13R7B?usp=sharing)"
      ],
      "metadata": {
        "id": "DjTu0_guLI1T"
      },
      "id": "DjTu0_guLI1T"
    },
    {
      "cell_type": "code",
      "source": [
        "## convert the text/attention list to latex code, which will further generates the text heatmap based on attention weights.\n",
        "import numpy as np\n",
        "\n",
        "latex_special_token = [\"!@#$%^&*(){}\"]\n",
        "\n",
        "def generate(text_list, attention_list, latex_file, color='red', rescale_value = True):\n",
        "\tassert(len(text_list) == len(attention_list))\n",
        "\tif rescale_value:\n",
        "\t\tattention_list = rescale(attention_list)\n",
        "\tword_num = len(text_list)\n",
        "\ttext_list = clean_word(text_list)\n",
        "\twith open(latex_file,'w') as f:\n",
        "\t\tf.write(r'''\\documentclass[varwidth]{standalone}\n",
        "\\special{papersize=210mm,297mm}\n",
        "\\usepackage{color}\n",
        "\\usepackage{tcolorbox}\n",
        "\\usepackage{CJK}\n",
        "\\usepackage{adjustbox}\n",
        "\\tcbset{width=0.9\\textwidth,boxrule=0pt,colback=red,arc=0pt,auto outer arc,left=0pt,right=0pt,boxsep=5pt}\n",
        "\\begin{document}\n",
        "\\begin{CJK*}{UTF8}{gbsn}'''+'\\n')\n",
        "\t\tstring = r'''{\\setlength{\\fboxsep}{0pt}\\colorbox{white!0}{\\parbox{0.9\\textwidth}{'''+\"\\n\"\n",
        "\t\tfor idx in range(word_num):\n",
        "\t\t\tstring += \"\\\\colorbox{%s!%s}{\"%(color, attention_list[idx])+\"\\\\strut \" + text_list[idx]+\"} \"\n",
        "\t\tstring += \"\\n}}}\"\n",
        "\t\tf.write(string+'\\n')\n",
        "\t\tf.write(r'''\\end{CJK*}\n",
        "\\end{document}''')\n",
        "\n",
        "def rescale(input_list):\n",
        "\tthe_array = np.asarray(input_list)\n",
        "\tthe_max = np.max(the_array)\n",
        "\tthe_min = np.min(the_array)\n",
        "\trescale = ((the_array - the_min)/(the_max-the_min))*100\n",
        "\treturn rescale.tolist()\n",
        "\n",
        "\n",
        "def clean_word(word_list):\n",
        "\tnew_word_list = []\n",
        "\tfor word in word_list:\n",
        "\t\tfor special_sensitive in [\"\\\\\", \"^\"]:\n",
        "\t\t\tif special_sensitive in word:\n",
        "\t\t\t\tword = word.replace(special_sensitive, '')\n",
        "\t\tfor latex_sensitive in [\"%\", \"&\", \"#\", \"_\",  \"{\", \"}\"]:\n",
        "\t\t\tif latex_sensitive in word:\n",
        "\t\t\t\tword = word.replace(latex_sensitive, '\\\\' +latex_sensitive)\n",
        "\t\tnew_word_list.append(word)\n",
        "\treturn new_word_list"
      ],
      "metadata": {
        "id": "FCsAm5i3jmKA"
      },
      "id": "FCsAm5i3jmKA",
      "execution_count": null,
      "outputs": []
    },
    {
      "cell_type": "code",
      "source": [
        "all_tokens2 = tokenizer.convert_ids_to_tokens(testexam[\"input_ids\"][0])"
      ],
      "metadata": {
        "id": "N-Wr_p4LsTv-"
      },
      "id": "N-Wr_p4LsTv-",
      "execution_count": null,
      "outputs": []
    },
    {
      "cell_type": "markdown",
      "source": [
        "Change \"papers\" in the following to news/whatever alternative dataset if you change the dataset used"
      ],
      "metadata": {
        "id": "f2EysmpsD0ms"
      },
      "id": "f2EysmpsD0ms"
    },
    {
      "cell_type": "code",
      "source": [
        "average_attention = attention_matrix_importance.squeeze().sum(axis=1)\n",
        "average_attention = average_attention.sum(axis=0)"
      ],
      "metadata": {
        "id": "goaO9arYjopz"
      },
      "id": "goaO9arYjopz",
      "execution_count": null,
      "outputs": []
    },
    {
      "cell_type": "code",
      "source": [
        "title_all = f\"papers_{test_val[0]}.tex\"\n",
        "generate(all_tokens2, (average_attention*100), title_all, 'red')"
      ],
      "metadata": {
        "id": "htPtu7kErWfN"
      },
      "id": "htPtu7kErWfN",
      "execution_count": null,
      "outputs": []
    },
    {
      "cell_type": "markdown",
      "source": [
        "Lets suppose you don't want to find out the attentions over all layers, but just one layer. You can do that by doing one less summation and instead picking out the layer you want immediately. Here we are picking out the last layer."
      ],
      "metadata": {
        "id": "TCKn9M3ILsEh"
      },
      "id": "TCKn9M3ILsEh"
    },
    {
      "cell_type": "code",
      "source": [
        "print(attention_matrix_importance[11].squeeze().shape)\n",
        "average_attention_final_layer = attention_matrix_importance[11].squeeze().sum(axis=0)"
      ],
      "metadata": {
        "id": "GaM018NVunZH",
        "colab": {
          "base_uri": "https://localhost:8080/"
        },
        "outputId": "39ef091c-890d-4b42-8d93-04044a696a12"
      },
      "id": "GaM018NVunZH",
      "execution_count": null,
      "outputs": [
        {
          "output_type": "stream",
          "name": "stdout",
          "text": [
            "(12, 2048)\n"
          ]
        }
      ]
    },
    {
      "cell_type": "code",
      "source": [
        "title_last_layer = f\"papers_{test_val[0]}_layer_12_only.tex\"\n",
        "generate(all_tokens2, (average_attention_final_layer*100), title_last_layer, 'red')"
      ],
      "metadata": {
        "id": "fSl21NvVyW-n"
      },
      "id": "fSl21NvVyW-n",
      "execution_count": null,
      "outputs": []
    },
    {
      "cell_type": "markdown",
      "source": [
        "### Highest attended tokens\n",
        "\n",
        "Here we are getting the top k attended words for specific example in a batch, over all heads and all layers. These functions are roughly the same as the functions in the section \"Every token's top attended\". Here we have modified the functions as we have one less axis to deal with and rather than getting every token's top attended token, we are finding out which tokens are the most attended TO."
      ],
      "metadata": {
        "id": "F6pfY5SAp2ni"
      },
      "id": "F6pfY5SAp2ni"
    },
    {
      "cell_type": "markdown",
      "source": [
        "`find_top_attention` takes the summed attention matrix (layer, batch, head, seq_len) obtains the top k values for every head, batch, and layer. Along with the values, it also returns the positions of each value so we know what token each value returned corresponds to. The output of the function are two arrays of shape (layer, batch, head, k)."
      ],
      "metadata": {
        "id": "VNQg3Ham5t8L"
      },
      "id": "VNQg3Ham5t8L"
    },
    {
      "cell_type": "code",
      "source": [
        "def find_top_attention(scores_mat, k):\n",
        "  indices = scores_mat.argsort(axis=3)[:, :, :, :-(k+1):-1]\n",
        "  vals = np.take_along_axis(scores_mat, indices, axis=3)\n",
        "  return indices, vals"
      ],
      "metadata": {
        "id": "h6nLRpgBltnk"
      },
      "id": "h6nLRpgBltnk",
      "execution_count": null,
      "outputs": []
    },
    {
      "cell_type": "markdown",
      "source": [
        "`get_tokens2` takes in three inputs: a matrix of indices with shape (layer, batch, head, k), the tensor of input_ids used for prediction, and an example number, and finds the associated token at each index stored in the input matrix. The example number serves only to select an example from the batch. If we do not pass in an example as an input, we will iterate over all of the batches. The output of the function is an array of shape (layer, batch, head, k), where each item is a token from the respective example."
      ],
      "metadata": {
        "id": "FD54nkWS6O_H"
      },
      "id": "FD54nkWS6O_H"
    },
    {
      "cell_type": "code",
      "source": [
        "def get_tokens2(index_matrix, example_ids, example=None):\n",
        "\n",
        "  # Make sure our example is not out of range.\n",
        "  assert example < index_matrix.shape[1]\n",
        "\n",
        "  highest_tokens = []\n",
        "  #layer\n",
        "  for i in range(index_matrix.shape[0]):\n",
        "    row_tokens = []\n",
        "    #batch\n",
        "    for j in range(index_matrix.shape[1]):\n",
        "      batch_tokens = []\n",
        "\n",
        "      if example is not None and j != example:\n",
        "        continue\n",
        "\n",
        "      all_tokens = tokenizer.convert_ids_to_tokens(example_ids[j])\n",
        "\n",
        "      #head\n",
        "      for k in range(index_matrix.shape[2]):\n",
        "        tokens = [all_tokens[idx] for idx in index_matrix[i,j,k]]\n",
        "        batch_tokens.append(tokens)\n",
        "      row_tokens.append(batch_tokens)\n",
        "    highest_tokens.append(row_tokens)\n",
        "  return np.array(highest_tokens)"
      ],
      "metadata": {
        "id": "NSv7L_PVvLdZ"
      },
      "id": "NSv7L_PVvLdZ",
      "execution_count": null,
      "outputs": []
    },
    {
      "cell_type": "markdown",
      "source": [
        "`highest_attended_dataframe` takes in 4 inputs. It takes in a matrix of indicies, matrix of values, matrix of tokens, all with shape (layer, batch, head, k), and an example number. The example number again serves only to pick an example from the batch and if not used, will iterate over all batches. We use these matrices to create a Pandas Dataframe, where each row of the dataframe contains the current token, the position of the current token, the value of the current token, and the rank of the token w.r.t. the current layer, head and batch. We also save the layer number, the head number and the batch in the dataframe. "
      ],
      "metadata": {
        "id": "rl2V1kNP6tlE"
      },
      "id": "rl2V1kNP6tlE"
    },
    {
      "cell_type": "code",
      "source": [
        "def highest_attended_dataframe(index, values, tokens, example=None):\n",
        "\n",
        "    dataframe=[]\n",
        "    #layer\n",
        "    for i in range(index.shape[0]):\n",
        "      #batch\n",
        "      for j in range(index.shape[1]):\n",
        "        if example is not None and j != example:\n",
        "          continue\n",
        "        #head\n",
        "        for k in range(index.shape[2]):\n",
        "          #token\n",
        "          for x in range(index.shape[3]):\n",
        "            d = {\"token\":tokens[i,j,k,x], 'position':index[i,j,k,x], \n",
        "                'attention_scores':values[i,j,k,x],\n",
        "                 'layer':(i+1), 'head':(k+1),\n",
        "                 'rank':(x+1),\n",
        "                 'batch':j}\n",
        "            dataframe.append(d)\n",
        "    df = pd.DataFrame(dataframe)\n",
        "    return df"
      ],
      "metadata": {
        "id": "YCWTK-E49C6e"
      },
      "id": "YCWTK-E49C6e",
      "execution_count": null,
      "outputs": []
    },
    {
      "cell_type": "code",
      "source": [
        "def highest_attentions_summed(matrix, k, example_ids, example=None):\n",
        "  index, values = find_top_attention(matrix, k)\n",
        "  highest_tokens = get_tokens2(index, example_ids, example)\n",
        "  df_highest = highest_attended_dataframe(index, values, highest_tokens, example)\n",
        "  return df_highest"
      ],
      "metadata": {
        "id": "u7XhkMteJGAo"
      },
      "id": "u7XhkMteJGAo",
      "execution_count": null,
      "outputs": []
    },
    {
      "cell_type": "markdown",
      "source": [
        "As such, the dataframe should contain rows equal to (num_layers * num_heads * k * num_examples_selected)."
      ],
      "metadata": {
        "id": "NY5brRaq74D6"
      },
      "id": "NY5brRaq74D6"
    },
    {
      "cell_type": "code",
      "source": [
        "df_highest = highest_attentions_summed(attention_matrix_importance, 10, testexam[\"input_ids\"],  0)\n",
        "df_highest"
      ],
      "metadata": {
        "id": "qdnmbBl2_m2p",
        "colab": {
          "base_uri": "https://localhost:8080/",
          "height": 424
        },
        "outputId": "03650e84-e724-49c7-c9fb-2412f63e9c99"
      },
      "id": "qdnmbBl2_m2p",
      "execution_count": null,
      "outputs": [
        {
          "output_type": "execute_result",
          "data": {
            "text/plain": [
              "       token  position  attention_scores  layer  head  rank  batch\n",
              "0        <s>         0          0.007997      1     1     1      0\n",
              "1          -       512          0.001910      1     1     2      0\n",
              "2         Ġa      1536          0.001769      1     1     3      0\n",
              "3     Ġimage      1024          0.001707      1     1     4      0\n",
              "4        ĠAt      1620          0.000963      1     1     5      0\n",
              "...      ...       ...               ...    ...   ...   ...    ...\n",
              "1435       .       598          0.000075     12    12     6      0\n",
              "1436       .       572          0.000066     12    12     7      0\n",
              "1437       .       557          0.000062     12    12     8      0\n",
              "1438       .       533          0.000056     12    12     9      0\n",
              "1439       .      1140          0.000054     12    12    10      0\n",
              "\n",
              "[1440 rows x 7 columns]"
            ],
            "text/html": [
              "\n",
              "  <div id=\"df-3a4896e3-d90a-4616-bc0b-52355841203f\">\n",
              "    <div class=\"colab-df-container\">\n",
              "      <div>\n",
              "<style scoped>\n",
              "    .dataframe tbody tr th:only-of-type {\n",
              "        vertical-align: middle;\n",
              "    }\n",
              "\n",
              "    .dataframe tbody tr th {\n",
              "        vertical-align: top;\n",
              "    }\n",
              "\n",
              "    .dataframe thead th {\n",
              "        text-align: right;\n",
              "    }\n",
              "</style>\n",
              "<table border=\"1\" class=\"dataframe\">\n",
              "  <thead>\n",
              "    <tr style=\"text-align: right;\">\n",
              "      <th></th>\n",
              "      <th>token</th>\n",
              "      <th>position</th>\n",
              "      <th>attention_scores</th>\n",
              "      <th>layer</th>\n",
              "      <th>head</th>\n",
              "      <th>rank</th>\n",
              "      <th>batch</th>\n",
              "    </tr>\n",
              "  </thead>\n",
              "  <tbody>\n",
              "    <tr>\n",
              "      <th>0</th>\n",
              "      <td>&lt;s&gt;</td>\n",
              "      <td>0</td>\n",
              "      <td>0.007997</td>\n",
              "      <td>1</td>\n",
              "      <td>1</td>\n",
              "      <td>1</td>\n",
              "      <td>0</td>\n",
              "    </tr>\n",
              "    <tr>\n",
              "      <th>1</th>\n",
              "      <td>-</td>\n",
              "      <td>512</td>\n",
              "      <td>0.001910</td>\n",
              "      <td>1</td>\n",
              "      <td>1</td>\n",
              "      <td>2</td>\n",
              "      <td>0</td>\n",
              "    </tr>\n",
              "    <tr>\n",
              "      <th>2</th>\n",
              "      <td>Ġa</td>\n",
              "      <td>1536</td>\n",
              "      <td>0.001769</td>\n",
              "      <td>1</td>\n",
              "      <td>1</td>\n",
              "      <td>3</td>\n",
              "      <td>0</td>\n",
              "    </tr>\n",
              "    <tr>\n",
              "      <th>3</th>\n",
              "      <td>Ġimage</td>\n",
              "      <td>1024</td>\n",
              "      <td>0.001707</td>\n",
              "      <td>1</td>\n",
              "      <td>1</td>\n",
              "      <td>4</td>\n",
              "      <td>0</td>\n",
              "    </tr>\n",
              "    <tr>\n",
              "      <th>4</th>\n",
              "      <td>ĠAt</td>\n",
              "      <td>1620</td>\n",
              "      <td>0.000963</td>\n",
              "      <td>1</td>\n",
              "      <td>1</td>\n",
              "      <td>5</td>\n",
              "      <td>0</td>\n",
              "    </tr>\n",
              "    <tr>\n",
              "      <th>...</th>\n",
              "      <td>...</td>\n",
              "      <td>...</td>\n",
              "      <td>...</td>\n",
              "      <td>...</td>\n",
              "      <td>...</td>\n",
              "      <td>...</td>\n",
              "      <td>...</td>\n",
              "    </tr>\n",
              "    <tr>\n",
              "      <th>1435</th>\n",
              "      <td>.</td>\n",
              "      <td>598</td>\n",
              "      <td>0.000075</td>\n",
              "      <td>12</td>\n",
              "      <td>12</td>\n",
              "      <td>6</td>\n",
              "      <td>0</td>\n",
              "    </tr>\n",
              "    <tr>\n",
              "      <th>1436</th>\n",
              "      <td>.</td>\n",
              "      <td>572</td>\n",
              "      <td>0.000066</td>\n",
              "      <td>12</td>\n",
              "      <td>12</td>\n",
              "      <td>7</td>\n",
              "      <td>0</td>\n",
              "    </tr>\n",
              "    <tr>\n",
              "      <th>1437</th>\n",
              "      <td>.</td>\n",
              "      <td>557</td>\n",
              "      <td>0.000062</td>\n",
              "      <td>12</td>\n",
              "      <td>12</td>\n",
              "      <td>8</td>\n",
              "      <td>0</td>\n",
              "    </tr>\n",
              "    <tr>\n",
              "      <th>1438</th>\n",
              "      <td>.</td>\n",
              "      <td>533</td>\n",
              "      <td>0.000056</td>\n",
              "      <td>12</td>\n",
              "      <td>12</td>\n",
              "      <td>9</td>\n",
              "      <td>0</td>\n",
              "    </tr>\n",
              "    <tr>\n",
              "      <th>1439</th>\n",
              "      <td>.</td>\n",
              "      <td>1140</td>\n",
              "      <td>0.000054</td>\n",
              "      <td>12</td>\n",
              "      <td>12</td>\n",
              "      <td>10</td>\n",
              "      <td>0</td>\n",
              "    </tr>\n",
              "  </tbody>\n",
              "</table>\n",
              "<p>1440 rows × 7 columns</p>\n",
              "</div>\n",
              "      <button class=\"colab-df-convert\" onclick=\"convertToInteractive('df-3a4896e3-d90a-4616-bc0b-52355841203f')\"\n",
              "              title=\"Convert this dataframe to an interactive table.\"\n",
              "              style=\"display:none;\">\n",
              "        \n",
              "  <svg xmlns=\"http://www.w3.org/2000/svg\" height=\"24px\"viewBox=\"0 0 24 24\"\n",
              "       width=\"24px\">\n",
              "    <path d=\"M0 0h24v24H0V0z\" fill=\"none\"/>\n",
              "    <path d=\"M18.56 5.44l.94 2.06.94-2.06 2.06-.94-2.06-.94-.94-2.06-.94 2.06-2.06.94zm-11 1L8.5 8.5l.94-2.06 2.06-.94-2.06-.94L8.5 2.5l-.94 2.06-2.06.94zm10 10l.94 2.06.94-2.06 2.06-.94-2.06-.94-.94-2.06-.94 2.06-2.06.94z\"/><path d=\"M17.41 7.96l-1.37-1.37c-.4-.4-.92-.59-1.43-.59-.52 0-1.04.2-1.43.59L10.3 9.45l-7.72 7.72c-.78.78-.78 2.05 0 2.83L4 21.41c.39.39.9.59 1.41.59.51 0 1.02-.2 1.41-.59l7.78-7.78 2.81-2.81c.8-.78.8-2.07 0-2.86zM5.41 20L4 18.59l7.72-7.72 1.47 1.35L5.41 20z\"/>\n",
              "  </svg>\n",
              "      </button>\n",
              "      \n",
              "  <style>\n",
              "    .colab-df-container {\n",
              "      display:flex;\n",
              "      flex-wrap:wrap;\n",
              "      gap: 12px;\n",
              "    }\n",
              "\n",
              "    .colab-df-convert {\n",
              "      background-color: #E8F0FE;\n",
              "      border: none;\n",
              "      border-radius: 50%;\n",
              "      cursor: pointer;\n",
              "      display: none;\n",
              "      fill: #1967D2;\n",
              "      height: 32px;\n",
              "      padding: 0 0 0 0;\n",
              "      width: 32px;\n",
              "    }\n",
              "\n",
              "    .colab-df-convert:hover {\n",
              "      background-color: #E2EBFA;\n",
              "      box-shadow: 0px 1px 2px rgba(60, 64, 67, 0.3), 0px 1px 3px 1px rgba(60, 64, 67, 0.15);\n",
              "      fill: #174EA6;\n",
              "    }\n",
              "\n",
              "    [theme=dark] .colab-df-convert {\n",
              "      background-color: #3B4455;\n",
              "      fill: #D2E3FC;\n",
              "    }\n",
              "\n",
              "    [theme=dark] .colab-df-convert:hover {\n",
              "      background-color: #434B5C;\n",
              "      box-shadow: 0px 1px 3px 1px rgba(0, 0, 0, 0.15);\n",
              "      filter: drop-shadow(0px 1px 2px rgba(0, 0, 0, 0.3));\n",
              "      fill: #FFFFFF;\n",
              "    }\n",
              "  </style>\n",
              "\n",
              "      <script>\n",
              "        const buttonEl =\n",
              "          document.querySelector('#df-3a4896e3-d90a-4616-bc0b-52355841203f button.colab-df-convert');\n",
              "        buttonEl.style.display =\n",
              "          google.colab.kernel.accessAllowed ? 'block' : 'none';\n",
              "\n",
              "        async function convertToInteractive(key) {\n",
              "          const element = document.querySelector('#df-3a4896e3-d90a-4616-bc0b-52355841203f');\n",
              "          const dataTable =\n",
              "            await google.colab.kernel.invokeFunction('convertToInteractive',\n",
              "                                                     [key], {});\n",
              "          if (!dataTable) return;\n",
              "\n",
              "          const docLinkHtml = 'Like what you see? Visit the ' +\n",
              "            '<a target=\"_blank\" href=https://colab.research.google.com/notebooks/data_table.ipynb>data table notebook</a>'\n",
              "            + ' to learn more about interactive tables.';\n",
              "          element.innerHTML = '';\n",
              "          dataTable['output_type'] = 'display_data';\n",
              "          await google.colab.output.renderOutput(dataTable, element);\n",
              "          const docLink = document.createElement('div');\n",
              "          docLink.innerHTML = docLinkHtml;\n",
              "          element.appendChild(docLink);\n",
              "        }\n",
              "      </script>\n",
              "    </div>\n",
              "  </div>\n",
              "  "
            ]
          },
          "metadata": {},
          "execution_count": 89
        }
      ]
    },
    {
      "cell_type": "markdown",
      "source": [
        "Using this, we could get visualizations such as seeing the trend of the topk token's attentions across layers or heads."
      ],
      "metadata": {
        "id": "wXzU3ayvG7vH"
      },
      "id": "wXzU3ayvG7vH"
    },
    {
      "cell_type": "code",
      "source": [
        "df_highest[df_highest[\"layer\"]==12]"
      ],
      "metadata": {
        "colab": {
          "base_uri": "https://localhost:8080/",
          "height": 424
        },
        "id": "fdz5ZJ_RIfSA",
        "outputId": "556e801f-46ed-486b-c3f7-f7d5c324db1a"
      },
      "id": "fdz5ZJ_RIfSA",
      "execution_count": null,
      "outputs": [
        {
          "output_type": "execute_result",
          "data": {
            "text/plain": [
              "     token  position  attention_scores  layer  head  rank  batch\n",
              "1320     .       979          0.000445     12     1     1      0\n",
              "1321     .       669          0.000438     12     1     2      0\n",
              "1322     .      1017          0.000433     12     1     3      0\n",
              "1323     .      1044          0.000431     12     1     4      0\n",
              "1324     .      1072          0.000406     12     1     5      0\n",
              "...    ...       ...               ...    ...   ...   ...    ...\n",
              "1435     .       598          0.000075     12    12     6      0\n",
              "1436     .       572          0.000066     12    12     7      0\n",
              "1437     .       557          0.000062     12    12     8      0\n",
              "1438     .       533          0.000056     12    12     9      0\n",
              "1439     .      1140          0.000054     12    12    10      0\n",
              "\n",
              "[120 rows x 7 columns]"
            ],
            "text/html": [
              "\n",
              "  <div id=\"df-71bffefc-e770-41de-9207-e5057f045ba0\">\n",
              "    <div class=\"colab-df-container\">\n",
              "      <div>\n",
              "<style scoped>\n",
              "    .dataframe tbody tr th:only-of-type {\n",
              "        vertical-align: middle;\n",
              "    }\n",
              "\n",
              "    .dataframe tbody tr th {\n",
              "        vertical-align: top;\n",
              "    }\n",
              "\n",
              "    .dataframe thead th {\n",
              "        text-align: right;\n",
              "    }\n",
              "</style>\n",
              "<table border=\"1\" class=\"dataframe\">\n",
              "  <thead>\n",
              "    <tr style=\"text-align: right;\">\n",
              "      <th></th>\n",
              "      <th>token</th>\n",
              "      <th>position</th>\n",
              "      <th>attention_scores</th>\n",
              "      <th>layer</th>\n",
              "      <th>head</th>\n",
              "      <th>rank</th>\n",
              "      <th>batch</th>\n",
              "    </tr>\n",
              "  </thead>\n",
              "  <tbody>\n",
              "    <tr>\n",
              "      <th>1320</th>\n",
              "      <td>.</td>\n",
              "      <td>979</td>\n",
              "      <td>0.000445</td>\n",
              "      <td>12</td>\n",
              "      <td>1</td>\n",
              "      <td>1</td>\n",
              "      <td>0</td>\n",
              "    </tr>\n",
              "    <tr>\n",
              "      <th>1321</th>\n",
              "      <td>.</td>\n",
              "      <td>669</td>\n",
              "      <td>0.000438</td>\n",
              "      <td>12</td>\n",
              "      <td>1</td>\n",
              "      <td>2</td>\n",
              "      <td>0</td>\n",
              "    </tr>\n",
              "    <tr>\n",
              "      <th>1322</th>\n",
              "      <td>.</td>\n",
              "      <td>1017</td>\n",
              "      <td>0.000433</td>\n",
              "      <td>12</td>\n",
              "      <td>1</td>\n",
              "      <td>3</td>\n",
              "      <td>0</td>\n",
              "    </tr>\n",
              "    <tr>\n",
              "      <th>1323</th>\n",
              "      <td>.</td>\n",
              "      <td>1044</td>\n",
              "      <td>0.000431</td>\n",
              "      <td>12</td>\n",
              "      <td>1</td>\n",
              "      <td>4</td>\n",
              "      <td>0</td>\n",
              "    </tr>\n",
              "    <tr>\n",
              "      <th>1324</th>\n",
              "      <td>.</td>\n",
              "      <td>1072</td>\n",
              "      <td>0.000406</td>\n",
              "      <td>12</td>\n",
              "      <td>1</td>\n",
              "      <td>5</td>\n",
              "      <td>0</td>\n",
              "    </tr>\n",
              "    <tr>\n",
              "      <th>...</th>\n",
              "      <td>...</td>\n",
              "      <td>...</td>\n",
              "      <td>...</td>\n",
              "      <td>...</td>\n",
              "      <td>...</td>\n",
              "      <td>...</td>\n",
              "      <td>...</td>\n",
              "    </tr>\n",
              "    <tr>\n",
              "      <th>1435</th>\n",
              "      <td>.</td>\n",
              "      <td>598</td>\n",
              "      <td>0.000075</td>\n",
              "      <td>12</td>\n",
              "      <td>12</td>\n",
              "      <td>6</td>\n",
              "      <td>0</td>\n",
              "    </tr>\n",
              "    <tr>\n",
              "      <th>1436</th>\n",
              "      <td>.</td>\n",
              "      <td>572</td>\n",
              "      <td>0.000066</td>\n",
              "      <td>12</td>\n",
              "      <td>12</td>\n",
              "      <td>7</td>\n",
              "      <td>0</td>\n",
              "    </tr>\n",
              "    <tr>\n",
              "      <th>1437</th>\n",
              "      <td>.</td>\n",
              "      <td>557</td>\n",
              "      <td>0.000062</td>\n",
              "      <td>12</td>\n",
              "      <td>12</td>\n",
              "      <td>8</td>\n",
              "      <td>0</td>\n",
              "    </tr>\n",
              "    <tr>\n",
              "      <th>1438</th>\n",
              "      <td>.</td>\n",
              "      <td>533</td>\n",
              "      <td>0.000056</td>\n",
              "      <td>12</td>\n",
              "      <td>12</td>\n",
              "      <td>9</td>\n",
              "      <td>0</td>\n",
              "    </tr>\n",
              "    <tr>\n",
              "      <th>1439</th>\n",
              "      <td>.</td>\n",
              "      <td>1140</td>\n",
              "      <td>0.000054</td>\n",
              "      <td>12</td>\n",
              "      <td>12</td>\n",
              "      <td>10</td>\n",
              "      <td>0</td>\n",
              "    </tr>\n",
              "  </tbody>\n",
              "</table>\n",
              "<p>120 rows × 7 columns</p>\n",
              "</div>\n",
              "      <button class=\"colab-df-convert\" onclick=\"convertToInteractive('df-71bffefc-e770-41de-9207-e5057f045ba0')\"\n",
              "              title=\"Convert this dataframe to an interactive table.\"\n",
              "              style=\"display:none;\">\n",
              "        \n",
              "  <svg xmlns=\"http://www.w3.org/2000/svg\" height=\"24px\"viewBox=\"0 0 24 24\"\n",
              "       width=\"24px\">\n",
              "    <path d=\"M0 0h24v24H0V0z\" fill=\"none\"/>\n",
              "    <path d=\"M18.56 5.44l.94 2.06.94-2.06 2.06-.94-2.06-.94-.94-2.06-.94 2.06-2.06.94zm-11 1L8.5 8.5l.94-2.06 2.06-.94-2.06-.94L8.5 2.5l-.94 2.06-2.06.94zm10 10l.94 2.06.94-2.06 2.06-.94-2.06-.94-.94-2.06-.94 2.06-2.06.94z\"/><path d=\"M17.41 7.96l-1.37-1.37c-.4-.4-.92-.59-1.43-.59-.52 0-1.04.2-1.43.59L10.3 9.45l-7.72 7.72c-.78.78-.78 2.05 0 2.83L4 21.41c.39.39.9.59 1.41.59.51 0 1.02-.2 1.41-.59l7.78-7.78 2.81-2.81c.8-.78.8-2.07 0-2.86zM5.41 20L4 18.59l7.72-7.72 1.47 1.35L5.41 20z\"/>\n",
              "  </svg>\n",
              "      </button>\n",
              "      \n",
              "  <style>\n",
              "    .colab-df-container {\n",
              "      display:flex;\n",
              "      flex-wrap:wrap;\n",
              "      gap: 12px;\n",
              "    }\n",
              "\n",
              "    .colab-df-convert {\n",
              "      background-color: #E8F0FE;\n",
              "      border: none;\n",
              "      border-radius: 50%;\n",
              "      cursor: pointer;\n",
              "      display: none;\n",
              "      fill: #1967D2;\n",
              "      height: 32px;\n",
              "      padding: 0 0 0 0;\n",
              "      width: 32px;\n",
              "    }\n",
              "\n",
              "    .colab-df-convert:hover {\n",
              "      background-color: #E2EBFA;\n",
              "      box-shadow: 0px 1px 2px rgba(60, 64, 67, 0.3), 0px 1px 3px 1px rgba(60, 64, 67, 0.15);\n",
              "      fill: #174EA6;\n",
              "    }\n",
              "\n",
              "    [theme=dark] .colab-df-convert {\n",
              "      background-color: #3B4455;\n",
              "      fill: #D2E3FC;\n",
              "    }\n",
              "\n",
              "    [theme=dark] .colab-df-convert:hover {\n",
              "      background-color: #434B5C;\n",
              "      box-shadow: 0px 1px 3px 1px rgba(0, 0, 0, 0.15);\n",
              "      filter: drop-shadow(0px 1px 2px rgba(0, 0, 0, 0.3));\n",
              "      fill: #FFFFFF;\n",
              "    }\n",
              "  </style>\n",
              "\n",
              "      <script>\n",
              "        const buttonEl =\n",
              "          document.querySelector('#df-71bffefc-e770-41de-9207-e5057f045ba0 button.colab-df-convert');\n",
              "        buttonEl.style.display =\n",
              "          google.colab.kernel.accessAllowed ? 'block' : 'none';\n",
              "\n",
              "        async function convertToInteractive(key) {\n",
              "          const element = document.querySelector('#df-71bffefc-e770-41de-9207-e5057f045ba0');\n",
              "          const dataTable =\n",
              "            await google.colab.kernel.invokeFunction('convertToInteractive',\n",
              "                                                     [key], {});\n",
              "          if (!dataTable) return;\n",
              "\n",
              "          const docLinkHtml = 'Like what you see? Visit the ' +\n",
              "            '<a target=\"_blank\" href=https://colab.research.google.com/notebooks/data_table.ipynb>data table notebook</a>'\n",
              "            + ' to learn more about interactive tables.';\n",
              "          element.innerHTML = '';\n",
              "          dataTable['output_type'] = 'display_data';\n",
              "          await google.colab.output.renderOutput(dataTable, element);\n",
              "          const docLink = document.createElement('div');\n",
              "          docLink.innerHTML = docLinkHtml;\n",
              "          element.appendChild(docLink);\n",
              "        }\n",
              "      </script>\n",
              "    </div>\n",
              "  </div>\n",
              "  "
            ]
          },
          "metadata": {},
          "execution_count": 90
        }
      ]
    },
    {
      "cell_type": "markdown",
      "source": [
        "We can visualize the results using Pandas and seaborn (extension of matplotlib) by creating the dataframe you wish to visualize and setting your x,y values with the appropriate column(s). We import ipywidgets so we have a degree of control over what visualizations we want to look at without having to constantly rerun the code. Primarily we want the select multiple widget as we have many heads and layers that we may possibly want to examine the trends for. \n",
        "\n",
        "**We are assuming that there is only one example in the batch.**"
      ],
      "metadata": {
        "id": "0q3jqu51cjQ7"
      },
      "id": "0q3jqu51cjQ7"
    },
    {
      "cell_type": "code",
      "source": [
        "head_values = range(1,13)\n",
        "layer_values = range(1,13)\n",
        "\n",
        "import ipywidgets as widgets\n",
        "\n",
        "ddhead = widgets.SelectMultiple(\n",
        "    options=head_values,\n",
        "    #rows=10,\n",
        "    description='heads',\n",
        "    disabled=False\n",
        ")\n",
        "ddlayer = widgets.SelectMultiple(\n",
        "    options=layer_values,\n",
        "    #rows=10,\n",
        "    description='layer',\n",
        "    disabled=False\n",
        ")\n"
      ],
      "metadata": {
        "id": "f1PxxP2JTV9i"
      },
      "id": "f1PxxP2JTV9i",
      "execution_count": null,
      "outputs": []
    },
    {
      "cell_type": "markdown",
      "source": [
        "Here we plot the trend of attentions for the topk tokens across any and all heads and any and all layers. We create a function that filters the dataframe based on the values you select and creates a lineplot to visualize the trend. You can select which head you want or what layer you want by clicking on the corresponding item in the list. The scale of the y-axis will adjust accordingly depending on your selection, but can be fixed if needed. Selecting multiple heads and layers may take a bit to process."
      ],
      "metadata": {
        "id": "odRXpEXmelaV"
      },
      "id": "odRXpEXmelaV"
    },
    {
      "cell_type": "code",
      "source": [
        "import seaborn as sns\n",
        "import matplotlib.pyplot as plt\n",
        "\n",
        "ui = widgets.HBox([ddhead,ddlayer])\n",
        "\n",
        "def drawplot(layer, head):\n",
        "  sns.set(rc = {'figure.figsize':(40,15)})\n",
        "\n",
        "  # if you want to keep the scale consistent for any config, uncomment this line\n",
        "  # plt.ylim(-0.01, 1.05)\n",
        "\n",
        "  sns.lineplot(x= 'rank', y = \"attention_scores\", data=df_highest[(df_highest['layer'].isin(layer)) & (df_highest['head'].isin(head))], hue='layer', style='head', palette='viridis', legend='full')\n",
        "\n",
        "out= widgets.interactive_output(drawplot, {'layer':ddlayer, 'head':ddhead})\n",
        "display(ui,out)"
      ],
      "metadata": {
        "colab": {
          "base_uri": "https://localhost:8080/",
          "height": 977,
          "referenced_widgets": [
            "62111d18ec704de3999dfbc306c3bb3f",
            "8cd2b8f9faa449519db40d230f73bae7",
            "7ab879759d9543899bb39f6f6703f92e",
            "0e4553a9cd9a4c1ba13c50b4779ec3a2",
            "719ccab9ea094f31adfd41a5b89ee74b",
            "163bb1731b6e41c3805d08b7cda994e4",
            "ca9ee47ee9d74552b37c07e064492360",
            "6bb5bcd06e164f9da162a7f40638c178",
            "3f3c55683c0c480ebbdd4ff4e99458a5",
            "a07e3af454ae4e2287976a65dfbc9e9f"
          ]
        },
        "id": "UUTKzi6LHHA2",
        "outputId": "72020a68-6ce0-4f71-840a-73213a89b289"
      },
      "id": "UUTKzi6LHHA2",
      "execution_count": null,
      "outputs": [
        {
          "output_type": "display_data",
          "data": {
            "text/plain": [
              "HBox(children=(SelectMultiple(description='heads', options=(1, 2, 3, 4, 5, 6, 7, 8, 9, 10, 11, 12), value=()),…"
            ],
            "application/vnd.jupyter.widget-view+json": {
              "version_major": 2,
              "version_minor": 0,
              "model_id": "62111d18ec704de3999dfbc306c3bb3f"
            }
          },
          "metadata": {}
        },
        {
          "output_type": "display_data",
          "data": {
            "text/plain": [
              "Output()"
            ],
            "application/vnd.jupyter.widget-view+json": {
              "version_major": 2,
              "version_minor": 0,
              "model_id": "3f3c55683c0c480ebbdd4ff4e99458a5"
            }
          },
          "metadata": {}
        }
      ]
    },
    {
      "cell_type": "markdown",
      "source": [
        "#### Selective Information\n",
        "\n",
        "We can get the attention of a token at a position for each layer and head as well as the rank of the token within that head. Take one example at a time as each example has different tokens. \n",
        "\n",
        "Pros: can isolate for layers and/or heads. Cons: not much context for the attention scores"
      ],
      "metadata": {
        "id": "rL1qTv1W8ugZ"
      },
      "id": "rL1qTv1W8ugZ"
    },
    {
      "cell_type": "markdown",
      "source": [
        "`position_attention` takes in 4 inputs. It takes in a matrix of shape (layer, batch, head, seq_len), the position you wish to look at, the tensor of input_ids used for prediction and an example number. The example number again serves only to pick an example from the batch and if not used, will iterate over all batches. We use these matrices to create a Pandas Dataframe, where each row of the dataframe contains a token, the position the token, the value of the current token, and the rank of the token w.r.t. the current layer, head and batch. We also save the layer number, the head number and the batch in the dataframe for each row. \n",
        "\n",
        "While this looks similar to the previous dataframe, this is restricted to what particular position you pass in as an argument and may show you tokens with a rank number higher than your threshold"
      ],
      "metadata": {
        "id": "OXRpi0V-81A7"
      },
      "id": "OXRpi0V-81A7"
    },
    {
      "cell_type": "code",
      "source": [
        "def position_attention(agg_matrix, position, example_ids, example=None):\n",
        "  dataframe = []\n",
        "  # Make sure our example is not out of range.\n",
        "  if example is not None:\n",
        "    assert example < agg_matrix.shape[1]\n",
        "\n",
        "  if example is not None:\n",
        "    new_mat = agg_matrix[:, example, :]\n",
        "    all_tokens = tokenizer.convert_ids_to_tokens(example_ids[example])\n",
        "    new_mat = new_mat.squeeze()\n",
        "    #layer\n",
        "    for i in range(new_mat.shape[0]):\n",
        "      #head\n",
        "      for j in range(new_mat.shape[1]):\n",
        "        temp = new_mat[i,j].argsort()[::-1]\n",
        "        temp = np.where(temp==position)[0].squeeze() + 1\n",
        "        d = {\"token\":all_tokens[position], 'position':position, \n",
        "            'attention_scores':new_mat[i,j,position], 'layer':(i+1), 'head':(j+1),\n",
        "            'rank':temp, 'batch':example}\n",
        "        dataframe.append(d)\n",
        "  else:\n",
        "    new_mat = agg_matrix\n",
        "    #layer\n",
        "    for i in range(new_mat.shape[0]):\n",
        "      #batch\n",
        "      for j in range(new_mat.shape[1]):\n",
        "        all_tokens = tokenizer.convert_ids_to_tokens(example_ids[j])\n",
        "        #head\n",
        "        for k in range(new_mat.shape[2]):\n",
        "          temp = new_mat[i,j,k].argsort()[::-1]\n",
        "          temp = np.where(temp==position)[0].squeeze() + 1\n",
        "          d = {\"token\":all_tokens[position], 'position':position, \n",
        "              'attention_scores':new_mat[i,j,k,position], 'layer':(i+1), 'head':(k+1),\n",
        "              'rank':temp, 'batch':j}\n",
        "          dataframe.append(d)\n",
        "  df = pd.DataFrame(dataframe)\n",
        "  return df"
      ],
      "metadata": {
        "id": "jrjjYyR-siot"
      },
      "id": "jrjjYyR-siot",
      "execution_count": null,
      "outputs": []
    },
    {
      "cell_type": "code",
      "source": [
        "position_df = position_attention(attention_matrix_importance, 0, testexam[\"input_ids\"], 0)\n",
        "position_df[position_df[\"head\"]==9]"
      ],
      "metadata": {
        "id": "YpSZKQ0nvt5T",
        "colab": {
          "base_uri": "https://localhost:8080/",
          "height": 426
        },
        "outputId": "c4b3292b-a8ed-4742-de70-c02b628fa71c"
      },
      "id": "YpSZKQ0nvt5T",
      "execution_count": null,
      "outputs": [
        {
          "output_type": "execute_result",
          "data": {
            "text/plain": [
              "    token  position  attention_scores  layer  head  rank  batch\n",
              "8     <s>         0          0.005812      1     9     1      0\n",
              "20    <s>         0          0.168136      2     9     1      0\n",
              "32    <s>         0          1.000000      3     9     1      0\n",
              "44    <s>         0          0.245377      4     9     1      0\n",
              "56    <s>         0          0.003641      5     9     1      0\n",
              "68    <s>         0          0.002444      6     9     1      0\n",
              "80    <s>         0          0.000698      7     9    40      0\n",
              "92    <s>         0          0.000163      8     9     1      0\n",
              "104   <s>         0          0.000002      9     9    49      0\n",
              "116   <s>         0          0.000002     10     9   176      0\n",
              "128   <s>         0          0.000010     11     9   359      0\n",
              "140   <s>         0          0.000345     12     9     2      0"
            ],
            "text/html": [
              "\n",
              "  <div id=\"df-4343ff01-a66c-4074-8774-e64c5124c968\">\n",
              "    <div class=\"colab-df-container\">\n",
              "      <div>\n",
              "<style scoped>\n",
              "    .dataframe tbody tr th:only-of-type {\n",
              "        vertical-align: middle;\n",
              "    }\n",
              "\n",
              "    .dataframe tbody tr th {\n",
              "        vertical-align: top;\n",
              "    }\n",
              "\n",
              "    .dataframe thead th {\n",
              "        text-align: right;\n",
              "    }\n",
              "</style>\n",
              "<table border=\"1\" class=\"dataframe\">\n",
              "  <thead>\n",
              "    <tr style=\"text-align: right;\">\n",
              "      <th></th>\n",
              "      <th>token</th>\n",
              "      <th>position</th>\n",
              "      <th>attention_scores</th>\n",
              "      <th>layer</th>\n",
              "      <th>head</th>\n",
              "      <th>rank</th>\n",
              "      <th>batch</th>\n",
              "    </tr>\n",
              "  </thead>\n",
              "  <tbody>\n",
              "    <tr>\n",
              "      <th>8</th>\n",
              "      <td>&lt;s&gt;</td>\n",
              "      <td>0</td>\n",
              "      <td>0.005812</td>\n",
              "      <td>1</td>\n",
              "      <td>9</td>\n",
              "      <td>1</td>\n",
              "      <td>0</td>\n",
              "    </tr>\n",
              "    <tr>\n",
              "      <th>20</th>\n",
              "      <td>&lt;s&gt;</td>\n",
              "      <td>0</td>\n",
              "      <td>0.168136</td>\n",
              "      <td>2</td>\n",
              "      <td>9</td>\n",
              "      <td>1</td>\n",
              "      <td>0</td>\n",
              "    </tr>\n",
              "    <tr>\n",
              "      <th>32</th>\n",
              "      <td>&lt;s&gt;</td>\n",
              "      <td>0</td>\n",
              "      <td>1.000000</td>\n",
              "      <td>3</td>\n",
              "      <td>9</td>\n",
              "      <td>1</td>\n",
              "      <td>0</td>\n",
              "    </tr>\n",
              "    <tr>\n",
              "      <th>44</th>\n",
              "      <td>&lt;s&gt;</td>\n",
              "      <td>0</td>\n",
              "      <td>0.245377</td>\n",
              "      <td>4</td>\n",
              "      <td>9</td>\n",
              "      <td>1</td>\n",
              "      <td>0</td>\n",
              "    </tr>\n",
              "    <tr>\n",
              "      <th>56</th>\n",
              "      <td>&lt;s&gt;</td>\n",
              "      <td>0</td>\n",
              "      <td>0.003641</td>\n",
              "      <td>5</td>\n",
              "      <td>9</td>\n",
              "      <td>1</td>\n",
              "      <td>0</td>\n",
              "    </tr>\n",
              "    <tr>\n",
              "      <th>68</th>\n",
              "      <td>&lt;s&gt;</td>\n",
              "      <td>0</td>\n",
              "      <td>0.002444</td>\n",
              "      <td>6</td>\n",
              "      <td>9</td>\n",
              "      <td>1</td>\n",
              "      <td>0</td>\n",
              "    </tr>\n",
              "    <tr>\n",
              "      <th>80</th>\n",
              "      <td>&lt;s&gt;</td>\n",
              "      <td>0</td>\n",
              "      <td>0.000698</td>\n",
              "      <td>7</td>\n",
              "      <td>9</td>\n",
              "      <td>40</td>\n",
              "      <td>0</td>\n",
              "    </tr>\n",
              "    <tr>\n",
              "      <th>92</th>\n",
              "      <td>&lt;s&gt;</td>\n",
              "      <td>0</td>\n",
              "      <td>0.000163</td>\n",
              "      <td>8</td>\n",
              "      <td>9</td>\n",
              "      <td>1</td>\n",
              "      <td>0</td>\n",
              "    </tr>\n",
              "    <tr>\n",
              "      <th>104</th>\n",
              "      <td>&lt;s&gt;</td>\n",
              "      <td>0</td>\n",
              "      <td>0.000002</td>\n",
              "      <td>9</td>\n",
              "      <td>9</td>\n",
              "      <td>49</td>\n",
              "      <td>0</td>\n",
              "    </tr>\n",
              "    <tr>\n",
              "      <th>116</th>\n",
              "      <td>&lt;s&gt;</td>\n",
              "      <td>0</td>\n",
              "      <td>0.000002</td>\n",
              "      <td>10</td>\n",
              "      <td>9</td>\n",
              "      <td>176</td>\n",
              "      <td>0</td>\n",
              "    </tr>\n",
              "    <tr>\n",
              "      <th>128</th>\n",
              "      <td>&lt;s&gt;</td>\n",
              "      <td>0</td>\n",
              "      <td>0.000010</td>\n",
              "      <td>11</td>\n",
              "      <td>9</td>\n",
              "      <td>359</td>\n",
              "      <td>0</td>\n",
              "    </tr>\n",
              "    <tr>\n",
              "      <th>140</th>\n",
              "      <td>&lt;s&gt;</td>\n",
              "      <td>0</td>\n",
              "      <td>0.000345</td>\n",
              "      <td>12</td>\n",
              "      <td>9</td>\n",
              "      <td>2</td>\n",
              "      <td>0</td>\n",
              "    </tr>\n",
              "  </tbody>\n",
              "</table>\n",
              "</div>\n",
              "      <button class=\"colab-df-convert\" onclick=\"convertToInteractive('df-4343ff01-a66c-4074-8774-e64c5124c968')\"\n",
              "              title=\"Convert this dataframe to an interactive table.\"\n",
              "              style=\"display:none;\">\n",
              "        \n",
              "  <svg xmlns=\"http://www.w3.org/2000/svg\" height=\"24px\"viewBox=\"0 0 24 24\"\n",
              "       width=\"24px\">\n",
              "    <path d=\"M0 0h24v24H0V0z\" fill=\"none\"/>\n",
              "    <path d=\"M18.56 5.44l.94 2.06.94-2.06 2.06-.94-2.06-.94-.94-2.06-.94 2.06-2.06.94zm-11 1L8.5 8.5l.94-2.06 2.06-.94-2.06-.94L8.5 2.5l-.94 2.06-2.06.94zm10 10l.94 2.06.94-2.06 2.06-.94-2.06-.94-.94-2.06-.94 2.06-2.06.94z\"/><path d=\"M17.41 7.96l-1.37-1.37c-.4-.4-.92-.59-1.43-.59-.52 0-1.04.2-1.43.59L10.3 9.45l-7.72 7.72c-.78.78-.78 2.05 0 2.83L4 21.41c.39.39.9.59 1.41.59.51 0 1.02-.2 1.41-.59l7.78-7.78 2.81-2.81c.8-.78.8-2.07 0-2.86zM5.41 20L4 18.59l7.72-7.72 1.47 1.35L5.41 20z\"/>\n",
              "  </svg>\n",
              "      </button>\n",
              "      \n",
              "  <style>\n",
              "    .colab-df-container {\n",
              "      display:flex;\n",
              "      flex-wrap:wrap;\n",
              "      gap: 12px;\n",
              "    }\n",
              "\n",
              "    .colab-df-convert {\n",
              "      background-color: #E8F0FE;\n",
              "      border: none;\n",
              "      border-radius: 50%;\n",
              "      cursor: pointer;\n",
              "      display: none;\n",
              "      fill: #1967D2;\n",
              "      height: 32px;\n",
              "      padding: 0 0 0 0;\n",
              "      width: 32px;\n",
              "    }\n",
              "\n",
              "    .colab-df-convert:hover {\n",
              "      background-color: #E2EBFA;\n",
              "      box-shadow: 0px 1px 2px rgba(60, 64, 67, 0.3), 0px 1px 3px 1px rgba(60, 64, 67, 0.15);\n",
              "      fill: #174EA6;\n",
              "    }\n",
              "\n",
              "    [theme=dark] .colab-df-convert {\n",
              "      background-color: #3B4455;\n",
              "      fill: #D2E3FC;\n",
              "    }\n",
              "\n",
              "    [theme=dark] .colab-df-convert:hover {\n",
              "      background-color: #434B5C;\n",
              "      box-shadow: 0px 1px 3px 1px rgba(0, 0, 0, 0.15);\n",
              "      filter: drop-shadow(0px 1px 2px rgba(0, 0, 0, 0.3));\n",
              "      fill: #FFFFFF;\n",
              "    }\n",
              "  </style>\n",
              "\n",
              "      <script>\n",
              "        const buttonEl =\n",
              "          document.querySelector('#df-4343ff01-a66c-4074-8774-e64c5124c968 button.colab-df-convert');\n",
              "        buttonEl.style.display =\n",
              "          google.colab.kernel.accessAllowed ? 'block' : 'none';\n",
              "\n",
              "        async function convertToInteractive(key) {\n",
              "          const element = document.querySelector('#df-4343ff01-a66c-4074-8774-e64c5124c968');\n",
              "          const dataTable =\n",
              "            await google.colab.kernel.invokeFunction('convertToInteractive',\n",
              "                                                     [key], {});\n",
              "          if (!dataTable) return;\n",
              "\n",
              "          const docLinkHtml = 'Like what you see? Visit the ' +\n",
              "            '<a target=\"_blank\" href=https://colab.research.google.com/notebooks/data_table.ipynb>data table notebook</a>'\n",
              "            + ' to learn more about interactive tables.';\n",
              "          element.innerHTML = '';\n",
              "          dataTable['output_type'] = 'display_data';\n",
              "          await google.colab.output.renderOutput(dataTable, element);\n",
              "          const docLink = document.createElement('div');\n",
              "          docLink.innerHTML = docLinkHtml;\n",
              "          element.appendChild(docLink);\n",
              "        }\n",
              "      </script>\n",
              "    </div>\n",
              "  </div>\n",
              "  "
            ]
          },
          "metadata": {},
          "execution_count": 94
        }
      ]
    },
    {
      "cell_type": "markdown",
      "source": [
        "Here we are visualizing the attention distribution for the token at position 0 over all layers. We create a function that filters the dataframe based on the values you select and creates a scatterplot. Whatever values you selected will be displayed in the visualization. You can select which head you wish to visualize, and if you want to pick more than one, you can crtl-click or shift click to select multiple. The scale of the y-axis will adjust accordingly depending on your selection, but can be fixed if needed. Selecting multiple heads may take a bit to process."
      ],
      "metadata": {
        "id": "Crz4zrvr-o-o"
      },
      "id": "Crz4zrvr-o-o"
    },
    {
      "cell_type": "code",
      "source": [
        "ui2 = widgets.HBox([ddhead])\n",
        "\n",
        "def drawplot2(head):\n",
        "  sns.set(rc = {'figure.figsize':(35,15)})\n",
        "\n",
        "  # if you want to keep the scale consistent for any config, uncomment this line\n",
        "  # plt.ylim(-0.01, 1.05)\n",
        "\n",
        "  sns.scatterplot(x= 'layer', y = \"attention_scores\", data=position_df[position_df['head'].isin(head)], hue=\"head\", style='head', s=75, palette='viridis', legend='full')\n",
        "\n",
        "out2= widgets.interactive_output(drawplot2, {'head':ddhead})\n",
        "display(ui2,out2)"
      ],
      "metadata": {
        "colab": {
          "base_uri": "https://localhost:8080/",
          "height": 977,
          "referenced_widgets": [
            "cf940b6192c04faf8b546f6c8de2e978",
            "8cd2b8f9faa449519db40d230f73bae7",
            "92c65bae2a0944ad8cbea80e50af2de4",
            "719ccab9ea094f31adfd41a5b89ee74b",
            "163bb1731b6e41c3805d08b7cda994e4",
            "1220a0bb6f404815b89e113081757a3f",
            "35de0be02f284d73b281ecd5b2eb600e"
          ]
        },
        "id": "arbMEHsqEexa",
        "outputId": "88f88976-b09b-4a8f-929a-3c0c1e534f58"
      },
      "id": "arbMEHsqEexa",
      "execution_count": null,
      "outputs": [
        {
          "output_type": "display_data",
          "data": {
            "text/plain": [
              "HBox(children=(SelectMultiple(description='heads', options=(1, 2, 3, 4, 5, 6, 7, 8, 9, 10, 11, 12), value=()),…"
            ],
            "application/vnd.jupyter.widget-view+json": {
              "version_major": 2,
              "version_minor": 0,
              "model_id": "cf940b6192c04faf8b546f6c8de2e978"
            }
          },
          "metadata": {}
        },
        {
          "output_type": "display_data",
          "data": {
            "text/plain": [
              "Output()"
            ],
            "application/vnd.jupyter.widget-view+json": {
              "version_major": 2,
              "version_minor": 0,
              "model_id": "1220a0bb6f404815b89e113081757a3f"
            }
          },
          "metadata": {}
        }
      ]
    },
    {
      "cell_type": "markdown",
      "source": [
        "#### The Complete Package\n",
        "\n",
        "If really needed, you can just have the full matrix of the position, ranks, attention scores, layers, and heads of each token per example. \n",
        "\n",
        "Pros: can search up whatever is needed. Has access to all the information and can be extracted for comparisons like the previous two dataframes.\n",
        "\n",
        "Cons: have to know what you want and manually look it up."
      ],
      "metadata": {
        "id": "XwrbWhoC8bbv"
      },
      "id": "XwrbWhoC8bbv"
    },
    {
      "cell_type": "markdown",
      "source": [
        "`full_matrix` takes in 3 inputs. It takes in a matrix of shape (layer, batch, head, seq_len, k), the tensor of input_ids used for prediction and an example number. The example number again serves only to pick an example from the batch and if not used, will iterate over all batches. We use these matrices to create a Pandas Dataframe, where each row of the dataframe contains a token, the position the token, the value of the current token, and the rank of the token w.r.t. the current layer, head and batch. We also save the layer number, the head number and the batch in the dataframe. "
      ],
      "metadata": {
        "id": "7L4hHC9M-1PL"
      },
      "id": "7L4hHC9M-1PL"
    },
    {
      "cell_type": "code",
      "source": [
        "def full_matrix(agg_matrix, example_ids, example=None):\n",
        "  dataframe=[]\n",
        "\n",
        "  if example is not None:\n",
        "    new_mat = agg_matrix[:, example]\n",
        "    new_mat = new_mat.squeeze()\n",
        "    print(new_mat.shape)\n",
        "    all_tokens = tokenizer.convert_ids_to_tokens(example_ids[example])\n",
        "\n",
        "    #layer\n",
        "    for i in range(new_mat.shape[0]):\n",
        "      #head\n",
        "      for j in range(new_mat.shape[1]):\n",
        "        temp = new_mat[i,j].argsort()[::-1]      \n",
        "        #token\n",
        "        for k in range(new_mat.shape[2]):\n",
        "          temp2 = np.where(temp==k)[0].squeeze() + 1\n",
        "          d = {\"token\":all_tokens[k], 'position':k, \n",
        "              'attention_scores':new_mat[i,j,k], 'layer':(i+1), 'head':(j+1),\n",
        "              'rank':temp2}\n",
        "          dataframe.append(d)\n",
        "  else:\n",
        "    new_mat = agg_matrix\n",
        "    print(new_mat.shape)\n",
        "    \n",
        "    #layer\n",
        "    for i in range(new_mat.shape[0]):\n",
        "      #batch\n",
        "      for j in range(new_mat.shape[1]):\n",
        "\n",
        "        all_tokens = tokenizer.convert_ids_to_tokens(example_ids[j])\n",
        "\n",
        "        #head\n",
        "        for k in range(new_mat.shape[2]):\n",
        "          temp = new_mat[i,j,k].argsort()[::-1]      \n",
        "          #token\n",
        "          for x in range(new_mat.shape[3]):\n",
        "            temp2 = np.where(temp==x)[0].squeeze() + 1\n",
        "            d = {\"token\":all_tokens[x], 'position':x, \n",
        "                'attention_scores':new_mat[i,j,k,x], 'layer':(i+1), 'head':(k+1),\n",
        "                'rank':temp2, 'batch':j}\n",
        "            dataframe.append(d)\n",
        "  df = pd.DataFrame(dataframe)\n",
        "  return df"
      ],
      "metadata": {
        "id": "n8WZcz_w7Chc"
      },
      "id": "n8WZcz_w7Chc",
      "execution_count": null,
      "outputs": []
    },
    {
      "cell_type": "code",
      "source": [
        "full_mat = full_matrix(attention_matrix_importance, testexam[\"input_ids\"])"
      ],
      "metadata": {
        "id": "mn8NifO00kND",
        "colab": {
          "base_uri": "https://localhost:8080/"
        },
        "outputId": "306d0e4b-4b24-430a-9915-383ec3a25e2c"
      },
      "id": "mn8NifO00kND",
      "execution_count": null,
      "outputs": [
        {
          "output_type": "stream",
          "name": "stdout",
          "text": [
            "(12, 1, 12, 2048)\n"
          ]
        }
      ]
    },
    {
      "cell_type": "code",
      "source": [
        "full_mat[full_mat['layer']==12]"
      ],
      "metadata": {
        "id": "-kn2bEWf8BN0",
        "colab": {
          "base_uri": "https://localhost:8080/",
          "height": 424
        },
        "outputId": "1603bebd-769a-4d04-ed6f-1494f0bce544"
      },
      "id": "-kn2bEWf8BN0",
      "execution_count": null,
      "outputs": [
        {
          "output_type": "execute_result",
          "data": {
            "text/plain": [
              "              token  position  attention_scores  layer  head  rank  batch\n",
              "270336          <s>         0          0.000010     12     1   326      0\n",
              "270337    Published         1          0.000021     12     1    79      0\n",
              "270338          Ġas         2          0.000006     12     1   631      0\n",
              "270339           Ġa         3          0.000003     12     1  1112      0\n",
              "270340  Ġconference         4          0.000003     12     1  1253      0\n",
              "...             ...       ...               ...    ...   ...   ...    ...\n",
              "294907    Ġgenerate      2043          0.000002     12    12   800      0\n",
              "294908        Ġreal      2044          0.000001     12    12  1252      0\n",
              "294909      Ġimages      2045          0.000002     12    12  1007      0\n",
              "294910            ,      2046          0.000003     12    12   699      0\n",
              "294911         </s>      2047          0.000001     12    12  1354      0\n",
              "\n",
              "[24576 rows x 7 columns]"
            ],
            "text/html": [
              "\n",
              "  <div id=\"df-28894cbb-17b1-45e0-9a67-e85f66eab1df\">\n",
              "    <div class=\"colab-df-container\">\n",
              "      <div>\n",
              "<style scoped>\n",
              "    .dataframe tbody tr th:only-of-type {\n",
              "        vertical-align: middle;\n",
              "    }\n",
              "\n",
              "    .dataframe tbody tr th {\n",
              "        vertical-align: top;\n",
              "    }\n",
              "\n",
              "    .dataframe thead th {\n",
              "        text-align: right;\n",
              "    }\n",
              "</style>\n",
              "<table border=\"1\" class=\"dataframe\">\n",
              "  <thead>\n",
              "    <tr style=\"text-align: right;\">\n",
              "      <th></th>\n",
              "      <th>token</th>\n",
              "      <th>position</th>\n",
              "      <th>attention_scores</th>\n",
              "      <th>layer</th>\n",
              "      <th>head</th>\n",
              "      <th>rank</th>\n",
              "      <th>batch</th>\n",
              "    </tr>\n",
              "  </thead>\n",
              "  <tbody>\n",
              "    <tr>\n",
              "      <th>270336</th>\n",
              "      <td>&lt;s&gt;</td>\n",
              "      <td>0</td>\n",
              "      <td>0.000010</td>\n",
              "      <td>12</td>\n",
              "      <td>1</td>\n",
              "      <td>326</td>\n",
              "      <td>0</td>\n",
              "    </tr>\n",
              "    <tr>\n",
              "      <th>270337</th>\n",
              "      <td>Published</td>\n",
              "      <td>1</td>\n",
              "      <td>0.000021</td>\n",
              "      <td>12</td>\n",
              "      <td>1</td>\n",
              "      <td>79</td>\n",
              "      <td>0</td>\n",
              "    </tr>\n",
              "    <tr>\n",
              "      <th>270338</th>\n",
              "      <td>Ġas</td>\n",
              "      <td>2</td>\n",
              "      <td>0.000006</td>\n",
              "      <td>12</td>\n",
              "      <td>1</td>\n",
              "      <td>631</td>\n",
              "      <td>0</td>\n",
              "    </tr>\n",
              "    <tr>\n",
              "      <th>270339</th>\n",
              "      <td>Ġa</td>\n",
              "      <td>3</td>\n",
              "      <td>0.000003</td>\n",
              "      <td>12</td>\n",
              "      <td>1</td>\n",
              "      <td>1112</td>\n",
              "      <td>0</td>\n",
              "    </tr>\n",
              "    <tr>\n",
              "      <th>270340</th>\n",
              "      <td>Ġconference</td>\n",
              "      <td>4</td>\n",
              "      <td>0.000003</td>\n",
              "      <td>12</td>\n",
              "      <td>1</td>\n",
              "      <td>1253</td>\n",
              "      <td>0</td>\n",
              "    </tr>\n",
              "    <tr>\n",
              "      <th>...</th>\n",
              "      <td>...</td>\n",
              "      <td>...</td>\n",
              "      <td>...</td>\n",
              "      <td>...</td>\n",
              "      <td>...</td>\n",
              "      <td>...</td>\n",
              "      <td>...</td>\n",
              "    </tr>\n",
              "    <tr>\n",
              "      <th>294907</th>\n",
              "      <td>Ġgenerate</td>\n",
              "      <td>2043</td>\n",
              "      <td>0.000002</td>\n",
              "      <td>12</td>\n",
              "      <td>12</td>\n",
              "      <td>800</td>\n",
              "      <td>0</td>\n",
              "    </tr>\n",
              "    <tr>\n",
              "      <th>294908</th>\n",
              "      <td>Ġreal</td>\n",
              "      <td>2044</td>\n",
              "      <td>0.000001</td>\n",
              "      <td>12</td>\n",
              "      <td>12</td>\n",
              "      <td>1252</td>\n",
              "      <td>0</td>\n",
              "    </tr>\n",
              "    <tr>\n",
              "      <th>294909</th>\n",
              "      <td>Ġimages</td>\n",
              "      <td>2045</td>\n",
              "      <td>0.000002</td>\n",
              "      <td>12</td>\n",
              "      <td>12</td>\n",
              "      <td>1007</td>\n",
              "      <td>0</td>\n",
              "    </tr>\n",
              "    <tr>\n",
              "      <th>294910</th>\n",
              "      <td>,</td>\n",
              "      <td>2046</td>\n",
              "      <td>0.000003</td>\n",
              "      <td>12</td>\n",
              "      <td>12</td>\n",
              "      <td>699</td>\n",
              "      <td>0</td>\n",
              "    </tr>\n",
              "    <tr>\n",
              "      <th>294911</th>\n",
              "      <td>&lt;/s&gt;</td>\n",
              "      <td>2047</td>\n",
              "      <td>0.000001</td>\n",
              "      <td>12</td>\n",
              "      <td>12</td>\n",
              "      <td>1354</td>\n",
              "      <td>0</td>\n",
              "    </tr>\n",
              "  </tbody>\n",
              "</table>\n",
              "<p>24576 rows × 7 columns</p>\n",
              "</div>\n",
              "      <button class=\"colab-df-convert\" onclick=\"convertToInteractive('df-28894cbb-17b1-45e0-9a67-e85f66eab1df')\"\n",
              "              title=\"Convert this dataframe to an interactive table.\"\n",
              "              style=\"display:none;\">\n",
              "        \n",
              "  <svg xmlns=\"http://www.w3.org/2000/svg\" height=\"24px\"viewBox=\"0 0 24 24\"\n",
              "       width=\"24px\">\n",
              "    <path d=\"M0 0h24v24H0V0z\" fill=\"none\"/>\n",
              "    <path d=\"M18.56 5.44l.94 2.06.94-2.06 2.06-.94-2.06-.94-.94-2.06-.94 2.06-2.06.94zm-11 1L8.5 8.5l.94-2.06 2.06-.94-2.06-.94L8.5 2.5l-.94 2.06-2.06.94zm10 10l.94 2.06.94-2.06 2.06-.94-2.06-.94-.94-2.06-.94 2.06-2.06.94z\"/><path d=\"M17.41 7.96l-1.37-1.37c-.4-.4-.92-.59-1.43-.59-.52 0-1.04.2-1.43.59L10.3 9.45l-7.72 7.72c-.78.78-.78 2.05 0 2.83L4 21.41c.39.39.9.59 1.41.59.51 0 1.02-.2 1.41-.59l7.78-7.78 2.81-2.81c.8-.78.8-2.07 0-2.86zM5.41 20L4 18.59l7.72-7.72 1.47 1.35L5.41 20z\"/>\n",
              "  </svg>\n",
              "      </button>\n",
              "      \n",
              "  <style>\n",
              "    .colab-df-container {\n",
              "      display:flex;\n",
              "      flex-wrap:wrap;\n",
              "      gap: 12px;\n",
              "    }\n",
              "\n",
              "    .colab-df-convert {\n",
              "      background-color: #E8F0FE;\n",
              "      border: none;\n",
              "      border-radius: 50%;\n",
              "      cursor: pointer;\n",
              "      display: none;\n",
              "      fill: #1967D2;\n",
              "      height: 32px;\n",
              "      padding: 0 0 0 0;\n",
              "      width: 32px;\n",
              "    }\n",
              "\n",
              "    .colab-df-convert:hover {\n",
              "      background-color: #E2EBFA;\n",
              "      box-shadow: 0px 1px 2px rgba(60, 64, 67, 0.3), 0px 1px 3px 1px rgba(60, 64, 67, 0.15);\n",
              "      fill: #174EA6;\n",
              "    }\n",
              "\n",
              "    [theme=dark] .colab-df-convert {\n",
              "      background-color: #3B4455;\n",
              "      fill: #D2E3FC;\n",
              "    }\n",
              "\n",
              "    [theme=dark] .colab-df-convert:hover {\n",
              "      background-color: #434B5C;\n",
              "      box-shadow: 0px 1px 3px 1px rgba(0, 0, 0, 0.15);\n",
              "      filter: drop-shadow(0px 1px 2px rgba(0, 0, 0, 0.3));\n",
              "      fill: #FFFFFF;\n",
              "    }\n",
              "  </style>\n",
              "\n",
              "      <script>\n",
              "        const buttonEl =\n",
              "          document.querySelector('#df-28894cbb-17b1-45e0-9a67-e85f66eab1df button.colab-df-convert');\n",
              "        buttonEl.style.display =\n",
              "          google.colab.kernel.accessAllowed ? 'block' : 'none';\n",
              "\n",
              "        async function convertToInteractive(key) {\n",
              "          const element = document.querySelector('#df-28894cbb-17b1-45e0-9a67-e85f66eab1df');\n",
              "          const dataTable =\n",
              "            await google.colab.kernel.invokeFunction('convertToInteractive',\n",
              "                                                     [key], {});\n",
              "          if (!dataTable) return;\n",
              "\n",
              "          const docLinkHtml = 'Like what you see? Visit the ' +\n",
              "            '<a target=\"_blank\" href=https://colab.research.google.com/notebooks/data_table.ipynb>data table notebook</a>'\n",
              "            + ' to learn more about interactive tables.';\n",
              "          element.innerHTML = '';\n",
              "          dataTable['output_type'] = 'display_data';\n",
              "          await google.colab.output.renderOutput(dataTable, element);\n",
              "          const docLink = document.createElement('div');\n",
              "          docLink.innerHTML = docLinkHtml;\n",
              "          element.appendChild(docLink);\n",
              "        }\n",
              "      </script>\n",
              "    </div>\n",
              "  </div>\n",
              "  "
            ]
          },
          "metadata": {},
          "execution_count": 98
        }
      ]
    },
    {
      "cell_type": "markdown",
      "source": [
        "For this example, we look at the attention distribution for all tokens over all heads and layers. We create a function that filters the dataframe based on the values you select and creates a scatterplot. Whatever values you selected will be displayed in the visualization. You can select which head you want or what layer you want by clicking on the corresponding item in the list. Furthermore, if you want to select multiple, you can by using ctrl click or shift click. The scale of the y-axis will adjust accordingly depending on your selection, but can be fixed if needed.Selecting multiple heads may take a bit of time to process."
      ],
      "metadata": {
        "id": "29Va4kVnhiyT"
      },
      "id": "29Va4kVnhiyT"
    },
    {
      "cell_type": "code",
      "source": [
        "ui = widgets.HBox([ddhead,ddlayer])\n",
        "\n",
        "def drawplotfull(layer, head):\n",
        "  sns.set(rc = {'figure.figsize':(40,20)})\n",
        "\n",
        "  # if you want to keep the scale consistent for any config, uncomment this line\n",
        "  # plt.ylim(-0.01, 1.05)\n",
        "\n",
        "  sns.scatterplot(x= 'position', y = \"attention_scores\", data=full_mat[(full_mat['layer'].isin(layer)) & (full_mat['head'].isin(head))], hue='layer', style='head', palette='viridis', markers=True, legend='full')\n",
        "\n",
        "out= widgets.interactive_output(drawplotfull, {'layer':ddlayer, 'head':ddhead})\n",
        "display(ui,out)\n"
      ],
      "metadata": {
        "colab": {
          "base_uri": "https://localhost:8080/",
          "height": 1000,
          "referenced_widgets": [
            "38144a3fb15b4f11aff15bb33d91c081",
            "8cd2b8f9faa449519db40d230f73bae7",
            "7ab879759d9543899bb39f6f6703f92e",
            "c00286472bb64b8d8b1a2300e73c8b43",
            "719ccab9ea094f31adfd41a5b89ee74b",
            "163bb1731b6e41c3805d08b7cda994e4",
            "ca9ee47ee9d74552b37c07e064492360",
            "6bb5bcd06e164f9da162a7f40638c178",
            "c21eea3fab5c4e0da09e54aefad8ca11",
            "585e229f093541d7851488117fcae6f9"
          ]
        },
        "id": "DigndFupQ2EH",
        "outputId": "dbbea337-e43c-44f3-d55a-7f44ce7a1f25"
      },
      "id": "DigndFupQ2EH",
      "execution_count": null,
      "outputs": [
        {
          "output_type": "display_data",
          "data": {
            "text/plain": [
              "HBox(children=(SelectMultiple(description='heads', options=(1, 2, 3, 4, 5, 6, 7, 8, 9, 10, 11, 12), value=()),…"
            ],
            "application/vnd.jupyter.widget-view+json": {
              "version_major": 2,
              "version_minor": 0,
              "model_id": "38144a3fb15b4f11aff15bb33d91c081"
            }
          },
          "metadata": {}
        },
        {
          "output_type": "display_data",
          "data": {
            "text/plain": [
              "Output()"
            ],
            "application/vnd.jupyter.widget-view+json": {
              "version_major": 2,
              "version_minor": 0,
              "model_id": "c21eea3fab5c4e0da09e54aefad8ca11"
            }
          },
          "metadata": {}
        }
      ]
    },
    {
      "cell_type": "markdown",
      "source": [
        "Here we show an example of how to get the top k attended tokens or filtered by position_ids like we did previously."
      ],
      "metadata": {
        "id": "cMgY-RhNGkis"
      },
      "id": "cMgY-RhNGkis"
    },
    {
      "cell_type": "code",
      "source": [
        "full_mat[(full_mat['rank']>=1) & (full_mat['rank'] <= 10)].sort_values(by = ['layer', 'head', 'rank'])"
      ],
      "metadata": {
        "colab": {
          "base_uri": "https://localhost:8080/",
          "height": 424
        },
        "id": "H2LPXz8VGcIT",
        "outputId": "de8f5017-9a8c-45ca-d494-de0a9daf5433"
      },
      "id": "H2LPXz8VGcIT",
      "execution_count": null,
      "outputs": [
        {
          "output_type": "execute_result",
          "data": {
            "text/plain": [
              "         token  position  attention_scores  layer  head  rank  batch\n",
              "0          <s>         0          0.007997      1     1     1      0\n",
              "512          -       512          0.001910      1     1     2      0\n",
              "1536        Ġa      1536          0.001769      1     1     3      0\n",
              "1024    Ġimage      1024          0.001707      1     1     4      0\n",
              "1620       ĠAt      1620          0.000963      1     1     5      0\n",
              "...        ...       ...               ...    ...   ...   ...    ...\n",
              "293462       .       598          0.000075     12    12     6      0\n",
              "293436       .       572          0.000066     12    12     7      0\n",
              "293421       .       557          0.000062     12    12     8      0\n",
              "293397       .       533          0.000056     12    12     9      0\n",
              "294004       .      1140          0.000054     12    12    10      0\n",
              "\n",
              "[1440 rows x 7 columns]"
            ],
            "text/html": [
              "\n",
              "  <div id=\"df-8f380726-cbc2-4638-90fa-a8ff7a1a590b\">\n",
              "    <div class=\"colab-df-container\">\n",
              "      <div>\n",
              "<style scoped>\n",
              "    .dataframe tbody tr th:only-of-type {\n",
              "        vertical-align: middle;\n",
              "    }\n",
              "\n",
              "    .dataframe tbody tr th {\n",
              "        vertical-align: top;\n",
              "    }\n",
              "\n",
              "    .dataframe thead th {\n",
              "        text-align: right;\n",
              "    }\n",
              "</style>\n",
              "<table border=\"1\" class=\"dataframe\">\n",
              "  <thead>\n",
              "    <tr style=\"text-align: right;\">\n",
              "      <th></th>\n",
              "      <th>token</th>\n",
              "      <th>position</th>\n",
              "      <th>attention_scores</th>\n",
              "      <th>layer</th>\n",
              "      <th>head</th>\n",
              "      <th>rank</th>\n",
              "      <th>batch</th>\n",
              "    </tr>\n",
              "  </thead>\n",
              "  <tbody>\n",
              "    <tr>\n",
              "      <th>0</th>\n",
              "      <td>&lt;s&gt;</td>\n",
              "      <td>0</td>\n",
              "      <td>0.007997</td>\n",
              "      <td>1</td>\n",
              "      <td>1</td>\n",
              "      <td>1</td>\n",
              "      <td>0</td>\n",
              "    </tr>\n",
              "    <tr>\n",
              "      <th>512</th>\n",
              "      <td>-</td>\n",
              "      <td>512</td>\n",
              "      <td>0.001910</td>\n",
              "      <td>1</td>\n",
              "      <td>1</td>\n",
              "      <td>2</td>\n",
              "      <td>0</td>\n",
              "    </tr>\n",
              "    <tr>\n",
              "      <th>1536</th>\n",
              "      <td>Ġa</td>\n",
              "      <td>1536</td>\n",
              "      <td>0.001769</td>\n",
              "      <td>1</td>\n",
              "      <td>1</td>\n",
              "      <td>3</td>\n",
              "      <td>0</td>\n",
              "    </tr>\n",
              "    <tr>\n",
              "      <th>1024</th>\n",
              "      <td>Ġimage</td>\n",
              "      <td>1024</td>\n",
              "      <td>0.001707</td>\n",
              "      <td>1</td>\n",
              "      <td>1</td>\n",
              "      <td>4</td>\n",
              "      <td>0</td>\n",
              "    </tr>\n",
              "    <tr>\n",
              "      <th>1620</th>\n",
              "      <td>ĠAt</td>\n",
              "      <td>1620</td>\n",
              "      <td>0.000963</td>\n",
              "      <td>1</td>\n",
              "      <td>1</td>\n",
              "      <td>5</td>\n",
              "      <td>0</td>\n",
              "    </tr>\n",
              "    <tr>\n",
              "      <th>...</th>\n",
              "      <td>...</td>\n",
              "      <td>...</td>\n",
              "      <td>...</td>\n",
              "      <td>...</td>\n",
              "      <td>...</td>\n",
              "      <td>...</td>\n",
              "      <td>...</td>\n",
              "    </tr>\n",
              "    <tr>\n",
              "      <th>293462</th>\n",
              "      <td>.</td>\n",
              "      <td>598</td>\n",
              "      <td>0.000075</td>\n",
              "      <td>12</td>\n",
              "      <td>12</td>\n",
              "      <td>6</td>\n",
              "      <td>0</td>\n",
              "    </tr>\n",
              "    <tr>\n",
              "      <th>293436</th>\n",
              "      <td>.</td>\n",
              "      <td>572</td>\n",
              "      <td>0.000066</td>\n",
              "      <td>12</td>\n",
              "      <td>12</td>\n",
              "      <td>7</td>\n",
              "      <td>0</td>\n",
              "    </tr>\n",
              "    <tr>\n",
              "      <th>293421</th>\n",
              "      <td>.</td>\n",
              "      <td>557</td>\n",
              "      <td>0.000062</td>\n",
              "      <td>12</td>\n",
              "      <td>12</td>\n",
              "      <td>8</td>\n",
              "      <td>0</td>\n",
              "    </tr>\n",
              "    <tr>\n",
              "      <th>293397</th>\n",
              "      <td>.</td>\n",
              "      <td>533</td>\n",
              "      <td>0.000056</td>\n",
              "      <td>12</td>\n",
              "      <td>12</td>\n",
              "      <td>9</td>\n",
              "      <td>0</td>\n",
              "    </tr>\n",
              "    <tr>\n",
              "      <th>294004</th>\n",
              "      <td>.</td>\n",
              "      <td>1140</td>\n",
              "      <td>0.000054</td>\n",
              "      <td>12</td>\n",
              "      <td>12</td>\n",
              "      <td>10</td>\n",
              "      <td>0</td>\n",
              "    </tr>\n",
              "  </tbody>\n",
              "</table>\n",
              "<p>1440 rows × 7 columns</p>\n",
              "</div>\n",
              "      <button class=\"colab-df-convert\" onclick=\"convertToInteractive('df-8f380726-cbc2-4638-90fa-a8ff7a1a590b')\"\n",
              "              title=\"Convert this dataframe to an interactive table.\"\n",
              "              style=\"display:none;\">\n",
              "        \n",
              "  <svg xmlns=\"http://www.w3.org/2000/svg\" height=\"24px\"viewBox=\"0 0 24 24\"\n",
              "       width=\"24px\">\n",
              "    <path d=\"M0 0h24v24H0V0z\" fill=\"none\"/>\n",
              "    <path d=\"M18.56 5.44l.94 2.06.94-2.06 2.06-.94-2.06-.94-.94-2.06-.94 2.06-2.06.94zm-11 1L8.5 8.5l.94-2.06 2.06-.94-2.06-.94L8.5 2.5l-.94 2.06-2.06.94zm10 10l.94 2.06.94-2.06 2.06-.94-2.06-.94-.94-2.06-.94 2.06-2.06.94z\"/><path d=\"M17.41 7.96l-1.37-1.37c-.4-.4-.92-.59-1.43-.59-.52 0-1.04.2-1.43.59L10.3 9.45l-7.72 7.72c-.78.78-.78 2.05 0 2.83L4 21.41c.39.39.9.59 1.41.59.51 0 1.02-.2 1.41-.59l7.78-7.78 2.81-2.81c.8-.78.8-2.07 0-2.86zM5.41 20L4 18.59l7.72-7.72 1.47 1.35L5.41 20z\"/>\n",
              "  </svg>\n",
              "      </button>\n",
              "      \n",
              "  <style>\n",
              "    .colab-df-container {\n",
              "      display:flex;\n",
              "      flex-wrap:wrap;\n",
              "      gap: 12px;\n",
              "    }\n",
              "\n",
              "    .colab-df-convert {\n",
              "      background-color: #E8F0FE;\n",
              "      border: none;\n",
              "      border-radius: 50%;\n",
              "      cursor: pointer;\n",
              "      display: none;\n",
              "      fill: #1967D2;\n",
              "      height: 32px;\n",
              "      padding: 0 0 0 0;\n",
              "      width: 32px;\n",
              "    }\n",
              "\n",
              "    .colab-df-convert:hover {\n",
              "      background-color: #E2EBFA;\n",
              "      box-shadow: 0px 1px 2px rgba(60, 64, 67, 0.3), 0px 1px 3px 1px rgba(60, 64, 67, 0.15);\n",
              "      fill: #174EA6;\n",
              "    }\n",
              "\n",
              "    [theme=dark] .colab-df-convert {\n",
              "      background-color: #3B4455;\n",
              "      fill: #D2E3FC;\n",
              "    }\n",
              "\n",
              "    [theme=dark] .colab-df-convert:hover {\n",
              "      background-color: #434B5C;\n",
              "      box-shadow: 0px 1px 3px 1px rgba(0, 0, 0, 0.15);\n",
              "      filter: drop-shadow(0px 1px 2px rgba(0, 0, 0, 0.3));\n",
              "      fill: #FFFFFF;\n",
              "    }\n",
              "  </style>\n",
              "\n",
              "      <script>\n",
              "        const buttonEl =\n",
              "          document.querySelector('#df-8f380726-cbc2-4638-90fa-a8ff7a1a590b button.colab-df-convert');\n",
              "        buttonEl.style.display =\n",
              "          google.colab.kernel.accessAllowed ? 'block' : 'none';\n",
              "\n",
              "        async function convertToInteractive(key) {\n",
              "          const element = document.querySelector('#df-8f380726-cbc2-4638-90fa-a8ff7a1a590b');\n",
              "          const dataTable =\n",
              "            await google.colab.kernel.invokeFunction('convertToInteractive',\n",
              "                                                     [key], {});\n",
              "          if (!dataTable) return;\n",
              "\n",
              "          const docLinkHtml = 'Like what you see? Visit the ' +\n",
              "            '<a target=\"_blank\" href=https://colab.research.google.com/notebooks/data_table.ipynb>data table notebook</a>'\n",
              "            + ' to learn more about interactive tables.';\n",
              "          element.innerHTML = '';\n",
              "          dataTable['output_type'] = 'display_data';\n",
              "          await google.colab.output.renderOutput(dataTable, element);\n",
              "          const docLink = document.createElement('div');\n",
              "          docLink.innerHTML = docLinkHtml;\n",
              "          element.appendChild(docLink);\n",
              "        }\n",
              "      </script>\n",
              "    </div>\n",
              "  </div>\n",
              "  "
            ]
          },
          "metadata": {},
          "execution_count": 100
        }
      ]
    },
    {
      "cell_type": "code",
      "source": [
        "full_mat[(full_mat['position']==0)]"
      ],
      "metadata": {
        "colab": {
          "base_uri": "https://localhost:8080/",
          "height": 424
        },
        "id": "5tMCyMgXGr07",
        "outputId": "8e4ac994-6aca-4dfd-8b59-ecdd5e58945e"
      },
      "id": "5tMCyMgXGr07",
      "execution_count": null,
      "outputs": [
        {
          "output_type": "execute_result",
          "data": {
            "text/plain": [
              "       token  position  attention_scores  layer  head  rank  batch\n",
              "0        <s>         0      7.997029e-03      1     1     1      0\n",
              "2048     <s>         0      9.500897e-03      1     2     1      0\n",
              "4096     <s>         0      6.828007e-03      1     3     1      0\n",
              "6144     <s>         0      6.612792e-03      1     4     1      0\n",
              "8192     <s>         0      1.622280e-02      1     5     1      0\n",
              "...      ...       ...               ...    ...   ...   ...    ...\n",
              "284672   <s>         0      6.666792e-07     12     8  1972      0\n",
              "286720   <s>         0      3.447724e-04     12     9     2      0\n",
              "288768   <s>         0      1.083288e-07     12    10  2043      0\n",
              "290816   <s>         0      9.348889e-06     12    11   539      0\n",
              "292864   <s>         0      6.529145e-06     12    12   152      0\n",
              "\n",
              "[144 rows x 7 columns]"
            ],
            "text/html": [
              "\n",
              "  <div id=\"df-de0e2100-604f-4d97-b266-f5dd0bdddaa0\">\n",
              "    <div class=\"colab-df-container\">\n",
              "      <div>\n",
              "<style scoped>\n",
              "    .dataframe tbody tr th:only-of-type {\n",
              "        vertical-align: middle;\n",
              "    }\n",
              "\n",
              "    .dataframe tbody tr th {\n",
              "        vertical-align: top;\n",
              "    }\n",
              "\n",
              "    .dataframe thead th {\n",
              "        text-align: right;\n",
              "    }\n",
              "</style>\n",
              "<table border=\"1\" class=\"dataframe\">\n",
              "  <thead>\n",
              "    <tr style=\"text-align: right;\">\n",
              "      <th></th>\n",
              "      <th>token</th>\n",
              "      <th>position</th>\n",
              "      <th>attention_scores</th>\n",
              "      <th>layer</th>\n",
              "      <th>head</th>\n",
              "      <th>rank</th>\n",
              "      <th>batch</th>\n",
              "    </tr>\n",
              "  </thead>\n",
              "  <tbody>\n",
              "    <tr>\n",
              "      <th>0</th>\n",
              "      <td>&lt;s&gt;</td>\n",
              "      <td>0</td>\n",
              "      <td>7.997029e-03</td>\n",
              "      <td>1</td>\n",
              "      <td>1</td>\n",
              "      <td>1</td>\n",
              "      <td>0</td>\n",
              "    </tr>\n",
              "    <tr>\n",
              "      <th>2048</th>\n",
              "      <td>&lt;s&gt;</td>\n",
              "      <td>0</td>\n",
              "      <td>9.500897e-03</td>\n",
              "      <td>1</td>\n",
              "      <td>2</td>\n",
              "      <td>1</td>\n",
              "      <td>0</td>\n",
              "    </tr>\n",
              "    <tr>\n",
              "      <th>4096</th>\n",
              "      <td>&lt;s&gt;</td>\n",
              "      <td>0</td>\n",
              "      <td>6.828007e-03</td>\n",
              "      <td>1</td>\n",
              "      <td>3</td>\n",
              "      <td>1</td>\n",
              "      <td>0</td>\n",
              "    </tr>\n",
              "    <tr>\n",
              "      <th>6144</th>\n",
              "      <td>&lt;s&gt;</td>\n",
              "      <td>0</td>\n",
              "      <td>6.612792e-03</td>\n",
              "      <td>1</td>\n",
              "      <td>4</td>\n",
              "      <td>1</td>\n",
              "      <td>0</td>\n",
              "    </tr>\n",
              "    <tr>\n",
              "      <th>8192</th>\n",
              "      <td>&lt;s&gt;</td>\n",
              "      <td>0</td>\n",
              "      <td>1.622280e-02</td>\n",
              "      <td>1</td>\n",
              "      <td>5</td>\n",
              "      <td>1</td>\n",
              "      <td>0</td>\n",
              "    </tr>\n",
              "    <tr>\n",
              "      <th>...</th>\n",
              "      <td>...</td>\n",
              "      <td>...</td>\n",
              "      <td>...</td>\n",
              "      <td>...</td>\n",
              "      <td>...</td>\n",
              "      <td>...</td>\n",
              "      <td>...</td>\n",
              "    </tr>\n",
              "    <tr>\n",
              "      <th>284672</th>\n",
              "      <td>&lt;s&gt;</td>\n",
              "      <td>0</td>\n",
              "      <td>6.666792e-07</td>\n",
              "      <td>12</td>\n",
              "      <td>8</td>\n",
              "      <td>1972</td>\n",
              "      <td>0</td>\n",
              "    </tr>\n",
              "    <tr>\n",
              "      <th>286720</th>\n",
              "      <td>&lt;s&gt;</td>\n",
              "      <td>0</td>\n",
              "      <td>3.447724e-04</td>\n",
              "      <td>12</td>\n",
              "      <td>9</td>\n",
              "      <td>2</td>\n",
              "      <td>0</td>\n",
              "    </tr>\n",
              "    <tr>\n",
              "      <th>288768</th>\n",
              "      <td>&lt;s&gt;</td>\n",
              "      <td>0</td>\n",
              "      <td>1.083288e-07</td>\n",
              "      <td>12</td>\n",
              "      <td>10</td>\n",
              "      <td>2043</td>\n",
              "      <td>0</td>\n",
              "    </tr>\n",
              "    <tr>\n",
              "      <th>290816</th>\n",
              "      <td>&lt;s&gt;</td>\n",
              "      <td>0</td>\n",
              "      <td>9.348889e-06</td>\n",
              "      <td>12</td>\n",
              "      <td>11</td>\n",
              "      <td>539</td>\n",
              "      <td>0</td>\n",
              "    </tr>\n",
              "    <tr>\n",
              "      <th>292864</th>\n",
              "      <td>&lt;s&gt;</td>\n",
              "      <td>0</td>\n",
              "      <td>6.529145e-06</td>\n",
              "      <td>12</td>\n",
              "      <td>12</td>\n",
              "      <td>152</td>\n",
              "      <td>0</td>\n",
              "    </tr>\n",
              "  </tbody>\n",
              "</table>\n",
              "<p>144 rows × 7 columns</p>\n",
              "</div>\n",
              "      <button class=\"colab-df-convert\" onclick=\"convertToInteractive('df-de0e2100-604f-4d97-b266-f5dd0bdddaa0')\"\n",
              "              title=\"Convert this dataframe to an interactive table.\"\n",
              "              style=\"display:none;\">\n",
              "        \n",
              "  <svg xmlns=\"http://www.w3.org/2000/svg\" height=\"24px\"viewBox=\"0 0 24 24\"\n",
              "       width=\"24px\">\n",
              "    <path d=\"M0 0h24v24H0V0z\" fill=\"none\"/>\n",
              "    <path d=\"M18.56 5.44l.94 2.06.94-2.06 2.06-.94-2.06-.94-.94-2.06-.94 2.06-2.06.94zm-11 1L8.5 8.5l.94-2.06 2.06-.94-2.06-.94L8.5 2.5l-.94 2.06-2.06.94zm10 10l.94 2.06.94-2.06 2.06-.94-2.06-.94-.94-2.06-.94 2.06-2.06.94z\"/><path d=\"M17.41 7.96l-1.37-1.37c-.4-.4-.92-.59-1.43-.59-.52 0-1.04.2-1.43.59L10.3 9.45l-7.72 7.72c-.78.78-.78 2.05 0 2.83L4 21.41c.39.39.9.59 1.41.59.51 0 1.02-.2 1.41-.59l7.78-7.78 2.81-2.81c.8-.78.8-2.07 0-2.86zM5.41 20L4 18.59l7.72-7.72 1.47 1.35L5.41 20z\"/>\n",
              "  </svg>\n",
              "      </button>\n",
              "      \n",
              "  <style>\n",
              "    .colab-df-container {\n",
              "      display:flex;\n",
              "      flex-wrap:wrap;\n",
              "      gap: 12px;\n",
              "    }\n",
              "\n",
              "    .colab-df-convert {\n",
              "      background-color: #E8F0FE;\n",
              "      border: none;\n",
              "      border-radius: 50%;\n",
              "      cursor: pointer;\n",
              "      display: none;\n",
              "      fill: #1967D2;\n",
              "      height: 32px;\n",
              "      padding: 0 0 0 0;\n",
              "      width: 32px;\n",
              "    }\n",
              "\n",
              "    .colab-df-convert:hover {\n",
              "      background-color: #E2EBFA;\n",
              "      box-shadow: 0px 1px 2px rgba(60, 64, 67, 0.3), 0px 1px 3px 1px rgba(60, 64, 67, 0.15);\n",
              "      fill: #174EA6;\n",
              "    }\n",
              "\n",
              "    [theme=dark] .colab-df-convert {\n",
              "      background-color: #3B4455;\n",
              "      fill: #D2E3FC;\n",
              "    }\n",
              "\n",
              "    [theme=dark] .colab-df-convert:hover {\n",
              "      background-color: #434B5C;\n",
              "      box-shadow: 0px 1px 3px 1px rgba(0, 0, 0, 0.15);\n",
              "      filter: drop-shadow(0px 1px 2px rgba(0, 0, 0, 0.3));\n",
              "      fill: #FFFFFF;\n",
              "    }\n",
              "  </style>\n",
              "\n",
              "      <script>\n",
              "        const buttonEl =\n",
              "          document.querySelector('#df-de0e2100-604f-4d97-b266-f5dd0bdddaa0 button.colab-df-convert');\n",
              "        buttonEl.style.display =\n",
              "          google.colab.kernel.accessAllowed ? 'block' : 'none';\n",
              "\n",
              "        async function convertToInteractive(key) {\n",
              "          const element = document.querySelector('#df-de0e2100-604f-4d97-b266-f5dd0bdddaa0');\n",
              "          const dataTable =\n",
              "            await google.colab.kernel.invokeFunction('convertToInteractive',\n",
              "                                                     [key], {});\n",
              "          if (!dataTable) return;\n",
              "\n",
              "          const docLinkHtml = 'Like what you see? Visit the ' +\n",
              "            '<a target=\"_blank\" href=https://colab.research.google.com/notebooks/data_table.ipynb>data table notebook</a>'\n",
              "            + ' to learn more about interactive tables.';\n",
              "          element.innerHTML = '';\n",
              "          dataTable['output_type'] = 'display_data';\n",
              "          await google.colab.output.renderOutput(dataTable, element);\n",
              "          const docLink = document.createElement('div');\n",
              "          docLink.innerHTML = docLinkHtml;\n",
              "          element.appendChild(docLink);\n",
              "        }\n",
              "      </script>\n",
              "    </div>\n",
              "  </div>\n",
              "  "
            ]
          },
          "metadata": {},
          "execution_count": 101
        }
      ]
    },
    {
      "cell_type": "markdown",
      "source": [
        "From here, we know how to get the visualizations for the dataframe. Slight modifications are needed to use the correct dataframe. Otherwise, you can modify the visualization to display whichever piece of information you want as there are other graphs this works on such as boxplots, histograms, piecharts, etc. "
      ],
      "metadata": {
        "id": "GL_T_4Q5GlyZ"
      },
      "id": "GL_T_4Q5GlyZ"
    }
  ],
  "metadata": {
    "kernelspec": {
      "display_name": "Python 3",
      "name": "python3"
    },
    "language_info": {
      "name": "python"
    },
    "colab": {
      "name": "Token_attention_with_head_importance.ipynb",
      "provenance": [],
      "collapsed_sections": [],
      "machine_shape": "hm",
      "include_colab_link": true
    },
    "accelerator": "GPU",
    "gpuClass": "standard",
    "widgets": {
      "application/vnd.jupyter.widget-state+json": {
        "4666a0f94fcd4a98ab989098fdff4542": {
          "model_module": "@jupyter-widgets/controls",
          "model_name": "HBoxModel",
          "model_module_version": "1.5.0",
          "state": {
            "_dom_classes": [],
            "_model_module": "@jupyter-widgets/controls",
            "_model_module_version": "1.5.0",
            "_model_name": "HBoxModel",
            "_view_count": null,
            "_view_module": "@jupyter-widgets/controls",
            "_view_module_version": "1.5.0",
            "_view_name": "HBoxView",
            "box_style": "",
            "children": [
              "IPY_MODEL_cf6eafa16ad84150a5c18880de1934ef",
              "IPY_MODEL_0df2abdad7084d29aa444ba8e5a84ff0",
              "IPY_MODEL_a93d0ce8f20444b38506790ef43957ce"
            ],
            "layout": "IPY_MODEL_8fe030eb42164cf3ac584aaca96e7c49"
          }
        },
        "cf6eafa16ad84150a5c18880de1934ef": {
          "model_module": "@jupyter-widgets/controls",
          "model_name": "HTMLModel",
          "model_module_version": "1.5.0",
          "state": {
            "_dom_classes": [],
            "_model_module": "@jupyter-widgets/controls",
            "_model_module_version": "1.5.0",
            "_model_name": "HTMLModel",
            "_view_count": null,
            "_view_module": "@jupyter-widgets/controls",
            "_view_module_version": "1.5.0",
            "_view_name": "HTMLView",
            "description": "",
            "description_tooltip": null,
            "layout": "IPY_MODEL_00898ef26ebd48899d793852b0907e9f",
            "placeholder": "​",
            "style": "IPY_MODEL_e16b772b81b949609d06439b56a6f241",
            "value": "100%"
          }
        },
        "0df2abdad7084d29aa444ba8e5a84ff0": {
          "model_module": "@jupyter-widgets/controls",
          "model_name": "FloatProgressModel",
          "model_module_version": "1.5.0",
          "state": {
            "_dom_classes": [],
            "_model_module": "@jupyter-widgets/controls",
            "_model_module_version": "1.5.0",
            "_model_name": "FloatProgressModel",
            "_view_count": null,
            "_view_module": "@jupyter-widgets/controls",
            "_view_module_version": "1.5.0",
            "_view_name": "ProgressView",
            "bar_style": "success",
            "description": "",
            "description_tooltip": null,
            "layout": "IPY_MODEL_ab394c67feed4958ae42331240816087",
            "max": 2,
            "min": 0,
            "orientation": "horizontal",
            "style": "IPY_MODEL_ad45a6cfeee64ec78788771b11741dab",
            "value": 2
          }
        },
        "a93d0ce8f20444b38506790ef43957ce": {
          "model_module": "@jupyter-widgets/controls",
          "model_name": "HTMLModel",
          "model_module_version": "1.5.0",
          "state": {
            "_dom_classes": [],
            "_model_module": "@jupyter-widgets/controls",
            "_model_module_version": "1.5.0",
            "_model_name": "HTMLModel",
            "_view_count": null,
            "_view_module": "@jupyter-widgets/controls",
            "_view_module_version": "1.5.0",
            "_view_name": "HTMLView",
            "description": "",
            "description_tooltip": null,
            "layout": "IPY_MODEL_4027d40d76824ddcbe3fae8e2de0af75",
            "placeholder": "​",
            "style": "IPY_MODEL_53bf32c575644ff4801291feebc51c6e",
            "value": " 2/2 [00:00&lt;00:00, 41.72it/s]"
          }
        },
        "8fe030eb42164cf3ac584aaca96e7c49": {
          "model_module": "@jupyter-widgets/base",
          "model_name": "LayoutModel",
          "model_module_version": "1.2.0",
          "state": {
            "_model_module": "@jupyter-widgets/base",
            "_model_module_version": "1.2.0",
            "_model_name": "LayoutModel",
            "_view_count": null,
            "_view_module": "@jupyter-widgets/base",
            "_view_module_version": "1.2.0",
            "_view_name": "LayoutView",
            "align_content": null,
            "align_items": null,
            "align_self": null,
            "border": null,
            "bottom": null,
            "display": null,
            "flex": null,
            "flex_flow": null,
            "grid_area": null,
            "grid_auto_columns": null,
            "grid_auto_flow": null,
            "grid_auto_rows": null,
            "grid_column": null,
            "grid_gap": null,
            "grid_row": null,
            "grid_template_areas": null,
            "grid_template_columns": null,
            "grid_template_rows": null,
            "height": null,
            "justify_content": null,
            "justify_items": null,
            "left": null,
            "margin": null,
            "max_height": null,
            "max_width": null,
            "min_height": null,
            "min_width": null,
            "object_fit": null,
            "object_position": null,
            "order": null,
            "overflow": null,
            "overflow_x": null,
            "overflow_y": null,
            "padding": null,
            "right": null,
            "top": null,
            "visibility": null,
            "width": null
          }
        },
        "00898ef26ebd48899d793852b0907e9f": {
          "model_module": "@jupyter-widgets/base",
          "model_name": "LayoutModel",
          "model_module_version": "1.2.0",
          "state": {
            "_model_module": "@jupyter-widgets/base",
            "_model_module_version": "1.2.0",
            "_model_name": "LayoutModel",
            "_view_count": null,
            "_view_module": "@jupyter-widgets/base",
            "_view_module_version": "1.2.0",
            "_view_name": "LayoutView",
            "align_content": null,
            "align_items": null,
            "align_self": null,
            "border": null,
            "bottom": null,
            "display": null,
            "flex": null,
            "flex_flow": null,
            "grid_area": null,
            "grid_auto_columns": null,
            "grid_auto_flow": null,
            "grid_auto_rows": null,
            "grid_column": null,
            "grid_gap": null,
            "grid_row": null,
            "grid_template_areas": null,
            "grid_template_columns": null,
            "grid_template_rows": null,
            "height": null,
            "justify_content": null,
            "justify_items": null,
            "left": null,
            "margin": null,
            "max_height": null,
            "max_width": null,
            "min_height": null,
            "min_width": null,
            "object_fit": null,
            "object_position": null,
            "order": null,
            "overflow": null,
            "overflow_x": null,
            "overflow_y": null,
            "padding": null,
            "right": null,
            "top": null,
            "visibility": null,
            "width": null
          }
        },
        "e16b772b81b949609d06439b56a6f241": {
          "model_module": "@jupyter-widgets/controls",
          "model_name": "DescriptionStyleModel",
          "model_module_version": "1.5.0",
          "state": {
            "_model_module": "@jupyter-widgets/controls",
            "_model_module_version": "1.5.0",
            "_model_name": "DescriptionStyleModel",
            "_view_count": null,
            "_view_module": "@jupyter-widgets/base",
            "_view_module_version": "1.2.0",
            "_view_name": "StyleView",
            "description_width": ""
          }
        },
        "ab394c67feed4958ae42331240816087": {
          "model_module": "@jupyter-widgets/base",
          "model_name": "LayoutModel",
          "model_module_version": "1.2.0",
          "state": {
            "_model_module": "@jupyter-widgets/base",
            "_model_module_version": "1.2.0",
            "_model_name": "LayoutModel",
            "_view_count": null,
            "_view_module": "@jupyter-widgets/base",
            "_view_module_version": "1.2.0",
            "_view_name": "LayoutView",
            "align_content": null,
            "align_items": null,
            "align_self": null,
            "border": null,
            "bottom": null,
            "display": null,
            "flex": null,
            "flex_flow": null,
            "grid_area": null,
            "grid_auto_columns": null,
            "grid_auto_flow": null,
            "grid_auto_rows": null,
            "grid_column": null,
            "grid_gap": null,
            "grid_row": null,
            "grid_template_areas": null,
            "grid_template_columns": null,
            "grid_template_rows": null,
            "height": null,
            "justify_content": null,
            "justify_items": null,
            "left": null,
            "margin": null,
            "max_height": null,
            "max_width": null,
            "min_height": null,
            "min_width": null,
            "object_fit": null,
            "object_position": null,
            "order": null,
            "overflow": null,
            "overflow_x": null,
            "overflow_y": null,
            "padding": null,
            "right": null,
            "top": null,
            "visibility": null,
            "width": null
          }
        },
        "ad45a6cfeee64ec78788771b11741dab": {
          "model_module": "@jupyter-widgets/controls",
          "model_name": "ProgressStyleModel",
          "model_module_version": "1.5.0",
          "state": {
            "_model_module": "@jupyter-widgets/controls",
            "_model_module_version": "1.5.0",
            "_model_name": "ProgressStyleModel",
            "_view_count": null,
            "_view_module": "@jupyter-widgets/base",
            "_view_module_version": "1.2.0",
            "_view_name": "StyleView",
            "bar_color": null,
            "description_width": ""
          }
        },
        "4027d40d76824ddcbe3fae8e2de0af75": {
          "model_module": "@jupyter-widgets/base",
          "model_name": "LayoutModel",
          "model_module_version": "1.2.0",
          "state": {
            "_model_module": "@jupyter-widgets/base",
            "_model_module_version": "1.2.0",
            "_model_name": "LayoutModel",
            "_view_count": null,
            "_view_module": "@jupyter-widgets/base",
            "_view_module_version": "1.2.0",
            "_view_name": "LayoutView",
            "align_content": null,
            "align_items": null,
            "align_self": null,
            "border": null,
            "bottom": null,
            "display": null,
            "flex": null,
            "flex_flow": null,
            "grid_area": null,
            "grid_auto_columns": null,
            "grid_auto_flow": null,
            "grid_auto_rows": null,
            "grid_column": null,
            "grid_gap": null,
            "grid_row": null,
            "grid_template_areas": null,
            "grid_template_columns": null,
            "grid_template_rows": null,
            "height": null,
            "justify_content": null,
            "justify_items": null,
            "left": null,
            "margin": null,
            "max_height": null,
            "max_width": null,
            "min_height": null,
            "min_width": null,
            "object_fit": null,
            "object_position": null,
            "order": null,
            "overflow": null,
            "overflow_x": null,
            "overflow_y": null,
            "padding": null,
            "right": null,
            "top": null,
            "visibility": null,
            "width": null
          }
        },
        "53bf32c575644ff4801291feebc51c6e": {
          "model_module": "@jupyter-widgets/controls",
          "model_name": "DescriptionStyleModel",
          "model_module_version": "1.5.0",
          "state": {
            "_model_module": "@jupyter-widgets/controls",
            "_model_module_version": "1.5.0",
            "_model_name": "DescriptionStyleModel",
            "_view_count": null,
            "_view_module": "@jupyter-widgets/base",
            "_view_module_version": "1.2.0",
            "_view_name": "StyleView",
            "description_width": ""
          }
        },
        "2fa0cafab1904fd38fe1635ca7f84dc5": {
          "model_module": "@jupyter-widgets/controls",
          "model_name": "HBoxModel",
          "model_module_version": "1.5.0",
          "state": {
            "_dom_classes": [],
            "_model_module": "@jupyter-widgets/controls",
            "_model_module_version": "1.5.0",
            "_model_name": "HBoxModel",
            "_view_count": null,
            "_view_module": "@jupyter-widgets/controls",
            "_view_module_version": "1.5.0",
            "_view_name": "HBoxView",
            "box_style": "",
            "children": [
              "IPY_MODEL_5606eebae048433fb143b38f7a670533",
              "IPY_MODEL_206bebd1373d4c20a5fc835ddb89ad14",
              "IPY_MODEL_83605b6583dd4814925ca6c8d9a5b000"
            ],
            "layout": "IPY_MODEL_2d9cb98c80d440b4a4c8b43f97a1e4d0"
          }
        },
        "5606eebae048433fb143b38f7a670533": {
          "model_module": "@jupyter-widgets/controls",
          "model_name": "HTMLModel",
          "model_module_version": "1.5.0",
          "state": {
            "_dom_classes": [],
            "_model_module": "@jupyter-widgets/controls",
            "_model_module_version": "1.5.0",
            "_model_name": "HTMLModel",
            "_view_count": null,
            "_view_module": "@jupyter-widgets/controls",
            "_view_module_version": "1.5.0",
            "_view_name": "HTMLView",
            "description": "",
            "description_tooltip": null,
            "layout": "IPY_MODEL_ee5b6a8f94664d6c8bd7a81c84be66b2",
            "placeholder": "​",
            "style": "IPY_MODEL_7f86383f4ba940e7b7d1619986672c85",
            "value": "100%"
          }
        },
        "206bebd1373d4c20a5fc835ddb89ad14": {
          "model_module": "@jupyter-widgets/controls",
          "model_name": "FloatProgressModel",
          "model_module_version": "1.5.0",
          "state": {
            "_dom_classes": [],
            "_model_module": "@jupyter-widgets/controls",
            "_model_module_version": "1.5.0",
            "_model_name": "FloatProgressModel",
            "_view_count": null,
            "_view_module": "@jupyter-widgets/controls",
            "_view_module_version": "1.5.0",
            "_view_name": "ProgressView",
            "bar_style": "success",
            "description": "",
            "description_tooltip": null,
            "layout": "IPY_MODEL_4dd9a43bc18b4abf8bc1cc45e3172cc2",
            "max": 2,
            "min": 0,
            "orientation": "horizontal",
            "style": "IPY_MODEL_f7bcfbb5dc4c4313baaec89228ccf534",
            "value": 2
          }
        },
        "83605b6583dd4814925ca6c8d9a5b000": {
          "model_module": "@jupyter-widgets/controls",
          "model_name": "HTMLModel",
          "model_module_version": "1.5.0",
          "state": {
            "_dom_classes": [],
            "_model_module": "@jupyter-widgets/controls",
            "_model_module_version": "1.5.0",
            "_model_name": "HTMLModel",
            "_view_count": null,
            "_view_module": "@jupyter-widgets/controls",
            "_view_module_version": "1.5.0",
            "_view_name": "HTMLView",
            "description": "",
            "description_tooltip": null,
            "layout": "IPY_MODEL_6754160a250f42fcb0937a736b0fda8d",
            "placeholder": "​",
            "style": "IPY_MODEL_e9486a2a2e1f43cc9156d22cd85f5a7a",
            "value": " 2/2 [00:31&lt;00:00, 13.14s/ba]"
          }
        },
        "2d9cb98c80d440b4a4c8b43f97a1e4d0": {
          "model_module": "@jupyter-widgets/base",
          "model_name": "LayoutModel",
          "model_module_version": "1.2.0",
          "state": {
            "_model_module": "@jupyter-widgets/base",
            "_model_module_version": "1.2.0",
            "_model_name": "LayoutModel",
            "_view_count": null,
            "_view_module": "@jupyter-widgets/base",
            "_view_module_version": "1.2.0",
            "_view_name": "LayoutView",
            "align_content": null,
            "align_items": null,
            "align_self": null,
            "border": null,
            "bottom": null,
            "display": null,
            "flex": null,
            "flex_flow": null,
            "grid_area": null,
            "grid_auto_columns": null,
            "grid_auto_flow": null,
            "grid_auto_rows": null,
            "grid_column": null,
            "grid_gap": null,
            "grid_row": null,
            "grid_template_areas": null,
            "grid_template_columns": null,
            "grid_template_rows": null,
            "height": null,
            "justify_content": null,
            "justify_items": null,
            "left": null,
            "margin": null,
            "max_height": null,
            "max_width": null,
            "min_height": null,
            "min_width": null,
            "object_fit": null,
            "object_position": null,
            "order": null,
            "overflow": null,
            "overflow_x": null,
            "overflow_y": null,
            "padding": null,
            "right": null,
            "top": null,
            "visibility": null,
            "width": null
          }
        },
        "ee5b6a8f94664d6c8bd7a81c84be66b2": {
          "model_module": "@jupyter-widgets/base",
          "model_name": "LayoutModel",
          "model_module_version": "1.2.0",
          "state": {
            "_model_module": "@jupyter-widgets/base",
            "_model_module_version": "1.2.0",
            "_model_name": "LayoutModel",
            "_view_count": null,
            "_view_module": "@jupyter-widgets/base",
            "_view_module_version": "1.2.0",
            "_view_name": "LayoutView",
            "align_content": null,
            "align_items": null,
            "align_self": null,
            "border": null,
            "bottom": null,
            "display": null,
            "flex": null,
            "flex_flow": null,
            "grid_area": null,
            "grid_auto_columns": null,
            "grid_auto_flow": null,
            "grid_auto_rows": null,
            "grid_column": null,
            "grid_gap": null,
            "grid_row": null,
            "grid_template_areas": null,
            "grid_template_columns": null,
            "grid_template_rows": null,
            "height": null,
            "justify_content": null,
            "justify_items": null,
            "left": null,
            "margin": null,
            "max_height": null,
            "max_width": null,
            "min_height": null,
            "min_width": null,
            "object_fit": null,
            "object_position": null,
            "order": null,
            "overflow": null,
            "overflow_x": null,
            "overflow_y": null,
            "padding": null,
            "right": null,
            "top": null,
            "visibility": null,
            "width": null
          }
        },
        "7f86383f4ba940e7b7d1619986672c85": {
          "model_module": "@jupyter-widgets/controls",
          "model_name": "DescriptionStyleModel",
          "model_module_version": "1.5.0",
          "state": {
            "_model_module": "@jupyter-widgets/controls",
            "_model_module_version": "1.5.0",
            "_model_name": "DescriptionStyleModel",
            "_view_count": null,
            "_view_module": "@jupyter-widgets/base",
            "_view_module_version": "1.2.0",
            "_view_name": "StyleView",
            "description_width": ""
          }
        },
        "4dd9a43bc18b4abf8bc1cc45e3172cc2": {
          "model_module": "@jupyter-widgets/base",
          "model_name": "LayoutModel",
          "model_module_version": "1.2.0",
          "state": {
            "_model_module": "@jupyter-widgets/base",
            "_model_module_version": "1.2.0",
            "_model_name": "LayoutModel",
            "_view_count": null,
            "_view_module": "@jupyter-widgets/base",
            "_view_module_version": "1.2.0",
            "_view_name": "LayoutView",
            "align_content": null,
            "align_items": null,
            "align_self": null,
            "border": null,
            "bottom": null,
            "display": null,
            "flex": null,
            "flex_flow": null,
            "grid_area": null,
            "grid_auto_columns": null,
            "grid_auto_flow": null,
            "grid_auto_rows": null,
            "grid_column": null,
            "grid_gap": null,
            "grid_row": null,
            "grid_template_areas": null,
            "grid_template_columns": null,
            "grid_template_rows": null,
            "height": null,
            "justify_content": null,
            "justify_items": null,
            "left": null,
            "margin": null,
            "max_height": null,
            "max_width": null,
            "min_height": null,
            "min_width": null,
            "object_fit": null,
            "object_position": null,
            "order": null,
            "overflow": null,
            "overflow_x": null,
            "overflow_y": null,
            "padding": null,
            "right": null,
            "top": null,
            "visibility": null,
            "width": null
          }
        },
        "f7bcfbb5dc4c4313baaec89228ccf534": {
          "model_module": "@jupyter-widgets/controls",
          "model_name": "ProgressStyleModel",
          "model_module_version": "1.5.0",
          "state": {
            "_model_module": "@jupyter-widgets/controls",
            "_model_module_version": "1.5.0",
            "_model_name": "ProgressStyleModel",
            "_view_count": null,
            "_view_module": "@jupyter-widgets/base",
            "_view_module_version": "1.2.0",
            "_view_name": "StyleView",
            "bar_color": null,
            "description_width": ""
          }
        },
        "6754160a250f42fcb0937a736b0fda8d": {
          "model_module": "@jupyter-widgets/base",
          "model_name": "LayoutModel",
          "model_module_version": "1.2.0",
          "state": {
            "_model_module": "@jupyter-widgets/base",
            "_model_module_version": "1.2.0",
            "_model_name": "LayoutModel",
            "_view_count": null,
            "_view_module": "@jupyter-widgets/base",
            "_view_module_version": "1.2.0",
            "_view_name": "LayoutView",
            "align_content": null,
            "align_items": null,
            "align_self": null,
            "border": null,
            "bottom": null,
            "display": null,
            "flex": null,
            "flex_flow": null,
            "grid_area": null,
            "grid_auto_columns": null,
            "grid_auto_flow": null,
            "grid_auto_rows": null,
            "grid_column": null,
            "grid_gap": null,
            "grid_row": null,
            "grid_template_areas": null,
            "grid_template_columns": null,
            "grid_template_rows": null,
            "height": null,
            "justify_content": null,
            "justify_items": null,
            "left": null,
            "margin": null,
            "max_height": null,
            "max_width": null,
            "min_height": null,
            "min_width": null,
            "object_fit": null,
            "object_position": null,
            "order": null,
            "overflow": null,
            "overflow_x": null,
            "overflow_y": null,
            "padding": null,
            "right": null,
            "top": null,
            "visibility": null,
            "width": null
          }
        },
        "e9486a2a2e1f43cc9156d22cd85f5a7a": {
          "model_module": "@jupyter-widgets/controls",
          "model_name": "DescriptionStyleModel",
          "model_module_version": "1.5.0",
          "state": {
            "_model_module": "@jupyter-widgets/controls",
            "_model_module_version": "1.5.0",
            "_model_name": "DescriptionStyleModel",
            "_view_count": null,
            "_view_module": "@jupyter-widgets/base",
            "_view_module_version": "1.2.0",
            "_view_name": "StyleView",
            "description_width": ""
          }
        },
        "62111d18ec704de3999dfbc306c3bb3f": {
          "model_module": "@jupyter-widgets/controls",
          "model_name": "HBoxModel",
          "model_module_version": "1.5.0",
          "state": {
            "_dom_classes": [],
            "_model_module": "@jupyter-widgets/controls",
            "_model_module_version": "1.5.0",
            "_model_name": "HBoxModel",
            "_view_count": null,
            "_view_module": "@jupyter-widgets/controls",
            "_view_module_version": "1.5.0",
            "_view_name": "HBoxView",
            "box_style": "",
            "children": [
              "IPY_MODEL_8cd2b8f9faa449519db40d230f73bae7",
              "IPY_MODEL_7ab879759d9543899bb39f6f6703f92e"
            ],
            "layout": "IPY_MODEL_0e4553a9cd9a4c1ba13c50b4779ec3a2"
          }
        },
        "8cd2b8f9faa449519db40d230f73bae7": {
          "model_module": "@jupyter-widgets/controls",
          "model_name": "SelectMultipleModel",
          "model_module_version": "1.5.0",
          "state": {
            "_dom_classes": [],
            "_model_module": "@jupyter-widgets/controls",
            "_model_module_version": "1.5.0",
            "_model_name": "SelectMultipleModel",
            "_options_labels": [
              "1",
              "2",
              "3",
              "4",
              "5",
              "6",
              "7",
              "8",
              "9",
              "10",
              "11",
              "12"
            ],
            "_view_count": null,
            "_view_module": "@jupyter-widgets/controls",
            "_view_module_version": "1.5.0",
            "_view_name": "SelectMultipleView",
            "description": "heads",
            "description_tooltip": null,
            "disabled": false,
            "index": [
              0,
              1,
              2,
              3,
              4,
              5,
              6,
              7,
              8,
              9,
              10,
              11
            ],
            "layout": "IPY_MODEL_719ccab9ea094f31adfd41a5b89ee74b",
            "rows": 5,
            "style": "IPY_MODEL_163bb1731b6e41c3805d08b7cda994e4"
          }
        },
        "7ab879759d9543899bb39f6f6703f92e": {
          "model_module": "@jupyter-widgets/controls",
          "model_name": "SelectMultipleModel",
          "model_module_version": "1.5.0",
          "state": {
            "_dom_classes": [],
            "_model_module": "@jupyter-widgets/controls",
            "_model_module_version": "1.5.0",
            "_model_name": "SelectMultipleModel",
            "_options_labels": [
              "1",
              "2",
              "3",
              "4",
              "5",
              "6",
              "7",
              "8",
              "9",
              "10",
              "11",
              "12"
            ],
            "_view_count": null,
            "_view_module": "@jupyter-widgets/controls",
            "_view_module_version": "1.5.0",
            "_view_name": "SelectMultipleView",
            "description": "layer",
            "description_tooltip": null,
            "disabled": false,
            "index": [
              0,
              1,
              2,
              3,
              4,
              5,
              6,
              7,
              8,
              9,
              10,
              11
            ],
            "layout": "IPY_MODEL_ca9ee47ee9d74552b37c07e064492360",
            "rows": 5,
            "style": "IPY_MODEL_6bb5bcd06e164f9da162a7f40638c178"
          }
        },
        "0e4553a9cd9a4c1ba13c50b4779ec3a2": {
          "model_module": "@jupyter-widgets/base",
          "model_name": "LayoutModel",
          "model_module_version": "1.2.0",
          "state": {
            "_model_module": "@jupyter-widgets/base",
            "_model_module_version": "1.2.0",
            "_model_name": "LayoutModel",
            "_view_count": null,
            "_view_module": "@jupyter-widgets/base",
            "_view_module_version": "1.2.0",
            "_view_name": "LayoutView",
            "align_content": null,
            "align_items": null,
            "align_self": null,
            "border": null,
            "bottom": null,
            "display": null,
            "flex": null,
            "flex_flow": null,
            "grid_area": null,
            "grid_auto_columns": null,
            "grid_auto_flow": null,
            "grid_auto_rows": null,
            "grid_column": null,
            "grid_gap": null,
            "grid_row": null,
            "grid_template_areas": null,
            "grid_template_columns": null,
            "grid_template_rows": null,
            "height": null,
            "justify_content": null,
            "justify_items": null,
            "left": null,
            "margin": null,
            "max_height": null,
            "max_width": null,
            "min_height": null,
            "min_width": null,
            "object_fit": null,
            "object_position": null,
            "order": null,
            "overflow": null,
            "overflow_x": null,
            "overflow_y": null,
            "padding": null,
            "right": null,
            "top": null,
            "visibility": null,
            "width": null
          }
        },
        "719ccab9ea094f31adfd41a5b89ee74b": {
          "model_module": "@jupyter-widgets/base",
          "model_name": "LayoutModel",
          "model_module_version": "1.2.0",
          "state": {
            "_model_module": "@jupyter-widgets/base",
            "_model_module_version": "1.2.0",
            "_model_name": "LayoutModel",
            "_view_count": null,
            "_view_module": "@jupyter-widgets/base",
            "_view_module_version": "1.2.0",
            "_view_name": "LayoutView",
            "align_content": null,
            "align_items": null,
            "align_self": null,
            "border": null,
            "bottom": null,
            "display": null,
            "flex": null,
            "flex_flow": null,
            "grid_area": null,
            "grid_auto_columns": null,
            "grid_auto_flow": null,
            "grid_auto_rows": null,
            "grid_column": null,
            "grid_gap": null,
            "grid_row": null,
            "grid_template_areas": null,
            "grid_template_columns": null,
            "grid_template_rows": null,
            "height": null,
            "justify_content": null,
            "justify_items": null,
            "left": null,
            "margin": null,
            "max_height": null,
            "max_width": null,
            "min_height": null,
            "min_width": null,
            "object_fit": null,
            "object_position": null,
            "order": null,
            "overflow": null,
            "overflow_x": null,
            "overflow_y": null,
            "padding": null,
            "right": null,
            "top": null,
            "visibility": null,
            "width": null
          }
        },
        "163bb1731b6e41c3805d08b7cda994e4": {
          "model_module": "@jupyter-widgets/controls",
          "model_name": "DescriptionStyleModel",
          "model_module_version": "1.5.0",
          "state": {
            "_model_module": "@jupyter-widgets/controls",
            "_model_module_version": "1.5.0",
            "_model_name": "DescriptionStyleModel",
            "_view_count": null,
            "_view_module": "@jupyter-widgets/base",
            "_view_module_version": "1.2.0",
            "_view_name": "StyleView",
            "description_width": ""
          }
        },
        "ca9ee47ee9d74552b37c07e064492360": {
          "model_module": "@jupyter-widgets/base",
          "model_name": "LayoutModel",
          "model_module_version": "1.2.0",
          "state": {
            "_model_module": "@jupyter-widgets/base",
            "_model_module_version": "1.2.0",
            "_model_name": "LayoutModel",
            "_view_count": null,
            "_view_module": "@jupyter-widgets/base",
            "_view_module_version": "1.2.0",
            "_view_name": "LayoutView",
            "align_content": null,
            "align_items": null,
            "align_self": null,
            "border": null,
            "bottom": null,
            "display": null,
            "flex": null,
            "flex_flow": null,
            "grid_area": null,
            "grid_auto_columns": null,
            "grid_auto_flow": null,
            "grid_auto_rows": null,
            "grid_column": null,
            "grid_gap": null,
            "grid_row": null,
            "grid_template_areas": null,
            "grid_template_columns": null,
            "grid_template_rows": null,
            "height": null,
            "justify_content": null,
            "justify_items": null,
            "left": null,
            "margin": null,
            "max_height": null,
            "max_width": null,
            "min_height": null,
            "min_width": null,
            "object_fit": null,
            "object_position": null,
            "order": null,
            "overflow": null,
            "overflow_x": null,
            "overflow_y": null,
            "padding": null,
            "right": null,
            "top": null,
            "visibility": null,
            "width": null
          }
        },
        "6bb5bcd06e164f9da162a7f40638c178": {
          "model_module": "@jupyter-widgets/controls",
          "model_name": "DescriptionStyleModel",
          "model_module_version": "1.5.0",
          "state": {
            "_model_module": "@jupyter-widgets/controls",
            "_model_module_version": "1.5.0",
            "_model_name": "DescriptionStyleModel",
            "_view_count": null,
            "_view_module": "@jupyter-widgets/base",
            "_view_module_version": "1.2.0",
            "_view_name": "StyleView",
            "description_width": ""
          }
        },
        "3f3c55683c0c480ebbdd4ff4e99458a5": {
          "model_module": "@jupyter-widgets/output",
          "model_name": "OutputModel",
          "model_module_version": "1.0.0",
          "state": {
            "_dom_classes": [],
            "_model_module": "@jupyter-widgets/output",
            "_model_module_version": "1.0.0",
            "_model_name": "OutputModel",
            "_view_count": null,
            "_view_module": "@jupyter-widgets/output",
            "_view_module_version": "1.0.0",
            "_view_name": "OutputView",
            "layout": "IPY_MODEL_a07e3af454ae4e2287976a65dfbc9e9f",
            "msg_id": "",
            "outputs": [
              {
                "output_type": "display_data",
                "data": {
                  "text/plain": "<Figure size 2880x1080 with 1 Axes>",
                  "image/png": "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\n"
                },
                "metadata": {}
              }
            ]
          }
        },
        "a07e3af454ae4e2287976a65dfbc9e9f": {
          "model_module": "@jupyter-widgets/base",
          "model_name": "LayoutModel",
          "model_module_version": "1.2.0",
          "state": {
            "_model_module": "@jupyter-widgets/base",
            "_model_module_version": "1.2.0",
            "_model_name": "LayoutModel",
            "_view_count": null,
            "_view_module": "@jupyter-widgets/base",
            "_view_module_version": "1.2.0",
            "_view_name": "LayoutView",
            "align_content": null,
            "align_items": null,
            "align_self": null,
            "border": null,
            "bottom": null,
            "display": null,
            "flex": null,
            "flex_flow": null,
            "grid_area": null,
            "grid_auto_columns": null,
            "grid_auto_flow": null,
            "grid_auto_rows": null,
            "grid_column": null,
            "grid_gap": null,
            "grid_row": null,
            "grid_template_areas": null,
            "grid_template_columns": null,
            "grid_template_rows": null,
            "height": null,
            "justify_content": null,
            "justify_items": null,
            "left": null,
            "margin": null,
            "max_height": null,
            "max_width": null,
            "min_height": null,
            "min_width": null,
            "object_fit": null,
            "object_position": null,
            "order": null,
            "overflow": null,
            "overflow_x": null,
            "overflow_y": null,
            "padding": null,
            "right": null,
            "top": null,
            "visibility": null,
            "width": null
          }
        },
        "cf940b6192c04faf8b546f6c8de2e978": {
          "model_module": "@jupyter-widgets/controls",
          "model_name": "HBoxModel",
          "model_module_version": "1.5.0",
          "state": {
            "_dom_classes": [],
            "_model_module": "@jupyter-widgets/controls",
            "_model_module_version": "1.5.0",
            "_model_name": "HBoxModel",
            "_view_count": null,
            "_view_module": "@jupyter-widgets/controls",
            "_view_module_version": "1.5.0",
            "_view_name": "HBoxView",
            "box_style": "",
            "children": [
              "IPY_MODEL_8cd2b8f9faa449519db40d230f73bae7"
            ],
            "layout": "IPY_MODEL_92c65bae2a0944ad8cbea80e50af2de4"
          }
        },
        "92c65bae2a0944ad8cbea80e50af2de4": {
          "model_module": "@jupyter-widgets/base",
          "model_name": "LayoutModel",
          "model_module_version": "1.2.0",
          "state": {
            "_model_module": "@jupyter-widgets/base",
            "_model_module_version": "1.2.0",
            "_model_name": "LayoutModel",
            "_view_count": null,
            "_view_module": "@jupyter-widgets/base",
            "_view_module_version": "1.2.0",
            "_view_name": "LayoutView",
            "align_content": null,
            "align_items": null,
            "align_self": null,
            "border": null,
            "bottom": null,
            "display": null,
            "flex": null,
            "flex_flow": null,
            "grid_area": null,
            "grid_auto_columns": null,
            "grid_auto_flow": null,
            "grid_auto_rows": null,
            "grid_column": null,
            "grid_gap": null,
            "grid_row": null,
            "grid_template_areas": null,
            "grid_template_columns": null,
            "grid_template_rows": null,
            "height": null,
            "justify_content": null,
            "justify_items": null,
            "left": null,
            "margin": null,
            "max_height": null,
            "max_width": null,
            "min_height": null,
            "min_width": null,
            "object_fit": null,
            "object_position": null,
            "order": null,
            "overflow": null,
            "overflow_x": null,
            "overflow_y": null,
            "padding": null,
            "right": null,
            "top": null,
            "visibility": null,
            "width": null
          }
        },
        "1220a0bb6f404815b89e113081757a3f": {
          "model_module": "@jupyter-widgets/output",
          "model_name": "OutputModel",
          "model_module_version": "1.0.0",
          "state": {
            "_dom_classes": [],
            "_model_module": "@jupyter-widgets/output",
            "_model_module_version": "1.0.0",
            "_model_name": "OutputModel",
            "_view_count": null,
            "_view_module": "@jupyter-widgets/output",
            "_view_module_version": "1.0.0",
            "_view_name": "OutputView",
            "layout": "IPY_MODEL_35de0be02f284d73b281ecd5b2eb600e",
            "msg_id": "",
            "outputs": [
              {
                "output_type": "display_data",
                "data": {
                  "text/plain": "<Figure size 2520x1080 with 1 Axes>",
                  "image/png": "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\n"
                },
                "metadata": {}
              }
            ]
          }
        },
        "35de0be02f284d73b281ecd5b2eb600e": {
          "model_module": "@jupyter-widgets/base",
          "model_name": "LayoutModel",
          "model_module_version": "1.2.0",
          "state": {
            "_model_module": "@jupyter-widgets/base",
            "_model_module_version": "1.2.0",
            "_model_name": "LayoutModel",
            "_view_count": null,
            "_view_module": "@jupyter-widgets/base",
            "_view_module_version": "1.2.0",
            "_view_name": "LayoutView",
            "align_content": null,
            "align_items": null,
            "align_self": null,
            "border": null,
            "bottom": null,
            "display": null,
            "flex": null,
            "flex_flow": null,
            "grid_area": null,
            "grid_auto_columns": null,
            "grid_auto_flow": null,
            "grid_auto_rows": null,
            "grid_column": null,
            "grid_gap": null,
            "grid_row": null,
            "grid_template_areas": null,
            "grid_template_columns": null,
            "grid_template_rows": null,
            "height": null,
            "justify_content": null,
            "justify_items": null,
            "left": null,
            "margin": null,
            "max_height": null,
            "max_width": null,
            "min_height": null,
            "min_width": null,
            "object_fit": null,
            "object_position": null,
            "order": null,
            "overflow": null,
            "overflow_x": null,
            "overflow_y": null,
            "padding": null,
            "right": null,
            "top": null,
            "visibility": null,
            "width": null
          }
        },
        "38144a3fb15b4f11aff15bb33d91c081": {
          "model_module": "@jupyter-widgets/controls",
          "model_name": "HBoxModel",
          "model_module_version": "1.5.0",
          "state": {
            "_dom_classes": [],
            "_model_module": "@jupyter-widgets/controls",
            "_model_module_version": "1.5.0",
            "_model_name": "HBoxModel",
            "_view_count": null,
            "_view_module": "@jupyter-widgets/controls",
            "_view_module_version": "1.5.0",
            "_view_name": "HBoxView",
            "box_style": "",
            "children": [
              "IPY_MODEL_8cd2b8f9faa449519db40d230f73bae7",
              "IPY_MODEL_7ab879759d9543899bb39f6f6703f92e"
            ],
            "layout": "IPY_MODEL_c00286472bb64b8d8b1a2300e73c8b43"
          }
        },
        "c00286472bb64b8d8b1a2300e73c8b43": {
          "model_module": "@jupyter-widgets/base",
          "model_name": "LayoutModel",
          "model_module_version": "1.2.0",
          "state": {
            "_model_module": "@jupyter-widgets/base",
            "_model_module_version": "1.2.0",
            "_model_name": "LayoutModel",
            "_view_count": null,
            "_view_module": "@jupyter-widgets/base",
            "_view_module_version": "1.2.0",
            "_view_name": "LayoutView",
            "align_content": null,
            "align_items": null,
            "align_self": null,
            "border": null,
            "bottom": null,
            "display": null,
            "flex": null,
            "flex_flow": null,
            "grid_area": null,
            "grid_auto_columns": null,
            "grid_auto_flow": null,
            "grid_auto_rows": null,
            "grid_column": null,
            "grid_gap": null,
            "grid_row": null,
            "grid_template_areas": null,
            "grid_template_columns": null,
            "grid_template_rows": null,
            "height": null,
            "justify_content": null,
            "justify_items": null,
            "left": null,
            "margin": null,
            "max_height": null,
            "max_width": null,
            "min_height": null,
            "min_width": null,
            "object_fit": null,
            "object_position": null,
            "order": null,
            "overflow": null,
            "overflow_x": null,
            "overflow_y": null,
            "padding": null,
            "right": null,
            "top": null,
            "visibility": null,
            "width": null
          }
        },
        "c21eea3fab5c4e0da09e54aefad8ca11": {
          "model_module": "@jupyter-widgets/output",
          "model_name": "OutputModel",
          "model_module_version": "1.0.0",
          "state": {
            "_dom_classes": [],
            "_model_module": "@jupyter-widgets/output",
            "_model_module_version": "1.0.0",
            "_model_name": "OutputModel",
            "_view_count": null,
            "_view_module": "@jupyter-widgets/output",
            "_view_module_version": "1.0.0",
            "_view_name": "OutputView",
            "layout": "IPY_MODEL_585e229f093541d7851488117fcae6f9",
            "msg_id": "",
            "outputs": [
              {
                "output_type": "display_data",
                "data": {
                  "text/plain": "<Figure size 2880x1440 with 1 Axes>",
                  "image/png": "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\n"
                },
                "metadata": {}
              }
            ]
          }
        },
        "585e229f093541d7851488117fcae6f9": {
          "model_module": "@jupyter-widgets/base",
          "model_name": "LayoutModel",
          "model_module_version": "1.2.0",
          "state": {
            "_model_module": "@jupyter-widgets/base",
            "_model_module_version": "1.2.0",
            "_model_name": "LayoutModel",
            "_view_count": null,
            "_view_module": "@jupyter-widgets/base",
            "_view_module_version": "1.2.0",
            "_view_name": "LayoutView",
            "align_content": null,
            "align_items": null,
            "align_self": null,
            "border": null,
            "bottom": null,
            "display": null,
            "flex": null,
            "flex_flow": null,
            "grid_area": null,
            "grid_auto_columns": null,
            "grid_auto_flow": null,
            "grid_auto_rows": null,
            "grid_column": null,
            "grid_gap": null,
            "grid_row": null,
            "grid_template_areas": null,
            "grid_template_columns": null,
            "grid_template_rows": null,
            "height": null,
            "justify_content": null,
            "justify_items": null,
            "left": null,
            "margin": null,
            "max_height": null,
            "max_width": null,
            "min_height": null,
            "min_width": null,
            "object_fit": null,
            "object_position": null,
            "order": null,
            "overflow": null,
            "overflow_x": null,
            "overflow_y": null,
            "padding": null,
            "right": null,
            "top": null,
            "visibility": null,
            "width": null
          }
        }
      }
    }
  },
  "nbformat": 4,
  "nbformat_minor": 5
}