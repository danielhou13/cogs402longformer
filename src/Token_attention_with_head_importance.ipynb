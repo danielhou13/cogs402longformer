{
  "cells": [
    {
      "cell_type": "markdown",
      "metadata": {
        "id": "view-in-github",
        "colab_type": "text"
      },
      "source": [
        "<a href=\"https://colab.research.google.com/github/danielhou13/cogs402longformer/blob/main/src/Token_attention_with_head_importance.ipynb\" target=\"_parent\"><img src=\"https://colab.research.google.com/assets/colab-badge.svg\" alt=\"Open In Colab\"/></a>"
      ]
    },
    {
      "cell_type": "markdown",
      "source": [
        "A key feature of Transformer neural networks is the attention feature. This attention is generally a sequence length x sequence length matrix output for every layer, batch and head of an input. As such, for every layer, batch, head, we can find out information about each token, whether its about what tokens a particular token attends to, or the most attended to token for each matrix. This notebook takes an example from a dataset, and explores the attentions of each token in depth. Notably, we find out what tokens each token attends to the most and what tokens that get the most attention, across all layers and heads."
      ],
      "metadata": {
        "id": "m1Bc0bw-mNkB"
      },
      "id": "m1Bc0bw-mNkB"
    },
    {
      "cell_type": "code",
      "source": [
        "from google.colab import drive\n",
        "drive.mount('/content/drive')"
      ],
      "metadata": {
        "id": "kZTPlUo8Wp1T",
        "colab": {
          "base_uri": "https://localhost:8080/"
        },
        "outputId": "9513f3c1-d8eb-4b34-d7ab-752c84b99212"
      },
      "id": "kZTPlUo8Wp1T",
      "execution_count": 99,
      "outputs": [
        {
          "output_type": "stream",
          "name": "stdout",
          "text": [
            "Drive already mounted at /content/drive; to attempt to forcibly remount, call drive.mount(\"/content/drive\", force_remount=True).\n"
          ]
        }
      ]
    },
    {
      "cell_type": "code",
      "source": [
        "# import sys\n",
        "# sys.path.append('/content/drive/My Drive/{}'.format(\"cogs402longformer/\"))"
      ],
      "metadata": {
        "id": "AlcBiC0nWtJE"
      },
      "id": "AlcBiC0nWtJE",
      "execution_count": 100,
      "outputs": []
    },
    {
      "cell_type": "markdown",
      "source": [
        "### Install and Import Dependencies"
      ],
      "metadata": {
        "id": "-nmZtunIuDIM"
      },
      "id": "-nmZtunIuDIM"
    },
    {
      "cell_type": "code",
      "source": [
        "pip install datasets --quiet"
      ],
      "metadata": {
        "id": "s_6vceLhTIBf"
      },
      "id": "s_6vceLhTIBf",
      "execution_count": 101,
      "outputs": []
    },
    {
      "cell_type": "code",
      "source": [
        "pip install ipywidgets --quiet"
      ],
      "metadata": {
        "id": "g9mGhCoRTK_G"
      },
      "id": "g9mGhCoRTK_G",
      "execution_count": 102,
      "outputs": []
    },
    {
      "cell_type": "code",
      "source": [
        "pip install transformers"
      ],
      "metadata": {
        "id": "M-qXH2JkTMdA",
        "colab": {
          "base_uri": "https://localhost:8080/"
        },
        "outputId": "aec62a92-b287-47ce-9553-b45d6e7a6a81"
      },
      "id": "M-qXH2JkTMdA",
      "execution_count": 103,
      "outputs": [
        {
          "output_type": "stream",
          "name": "stdout",
          "text": [
            "Looking in indexes: https://pypi.org/simple, https://us-python.pkg.dev/colab-wheels/public/simple/\n",
            "Requirement already satisfied: transformers in /usr/local/lib/python3.7/dist-packages (4.20.1)\n",
            "Requirement already satisfied: numpy>=1.17 in /usr/local/lib/python3.7/dist-packages (from transformers) (1.21.6)\n",
            "Requirement already satisfied: filelock in /usr/local/lib/python3.7/dist-packages (from transformers) (3.7.1)\n",
            "Requirement already satisfied: packaging>=20.0 in /usr/local/lib/python3.7/dist-packages (from transformers) (21.3)\n",
            "Requirement already satisfied: importlib-metadata in /usr/local/lib/python3.7/dist-packages (from transformers) (4.12.0)\n",
            "Requirement already satisfied: tokenizers!=0.11.3,<0.13,>=0.11.1 in /usr/local/lib/python3.7/dist-packages (from transformers) (0.12.1)\n",
            "Requirement already satisfied: regex!=2019.12.17 in /usr/local/lib/python3.7/dist-packages (from transformers) (2022.6.2)\n",
            "Requirement already satisfied: tqdm>=4.27 in /usr/local/lib/python3.7/dist-packages (from transformers) (4.64.0)\n",
            "Requirement already satisfied: huggingface-hub<1.0,>=0.1.0 in /usr/local/lib/python3.7/dist-packages (from transformers) (0.8.1)\n",
            "Requirement already satisfied: requests in /usr/local/lib/python3.7/dist-packages (from transformers) (2.23.0)\n",
            "Requirement already satisfied: pyyaml>=5.1 in /usr/local/lib/python3.7/dist-packages (from transformers) (6.0)\n",
            "Requirement already satisfied: typing-extensions>=3.7.4.3 in /usr/local/lib/python3.7/dist-packages (from huggingface-hub<1.0,>=0.1.0->transformers) (4.1.1)\n",
            "Requirement already satisfied: pyparsing!=3.0.5,>=2.0.2 in /usr/local/lib/python3.7/dist-packages (from packaging>=20.0->transformers) (3.0.9)\n",
            "Requirement already satisfied: zipp>=0.5 in /usr/local/lib/python3.7/dist-packages (from importlib-metadata->transformers) (3.8.1)\n",
            "Requirement already satisfied: chardet<4,>=3.0.2 in /usr/local/lib/python3.7/dist-packages (from requests->transformers) (3.0.4)\n",
            "Requirement already satisfied: idna<3,>=2.5 in /usr/local/lib/python3.7/dist-packages (from requests->transformers) (2.10)\n",
            "Requirement already satisfied: urllib3!=1.25.0,!=1.25.1,<1.26,>=1.21.1 in /usr/local/lib/python3.7/dist-packages (from requests->transformers) (1.25.11)\n",
            "Requirement already satisfied: certifi>=2017.4.17 in /usr/local/lib/python3.7/dist-packages (from requests->transformers) (2022.6.15)\n"
          ]
        }
      ]
    },
    {
      "cell_type": "code",
      "execution_count": 104,
      "id": "9b774ad0-b725-4910-9050-423edf160ebd",
      "metadata": {
        "id": "9b774ad0-b725-4910-9050-423edf160ebd"
      },
      "outputs": [],
      "source": [
        "import os\n",
        "\n",
        "import numpy as np\n",
        "import pandas as pd\n",
        "import seaborn as sns\n",
        "import matplotlib.pyplot as plt\n",
        "\n",
        "import torch\n",
        "import torch.nn as nn"
      ]
    },
    {
      "cell_type": "markdown",
      "source": [
        "###Import Dataset and Model"
      ],
      "metadata": {
        "id": "hSSPoSRn6r9A"
      },
      "id": "hSSPoSRn6r9A"
    },
    {
      "cell_type": "markdown",
      "source": [
        "Import the Reserach Papers dataset"
      ],
      "metadata": {
        "id": "hfHRqrpw_VlN"
      },
      "id": "hfHRqrpw_VlN"
    },
    {
      "cell_type": "code",
      "execution_count": 105,
      "id": "66cc97f5-7e3a-476c-9858-5643eeaa6675",
      "metadata": {
        "id": "66cc97f5-7e3a-476c-9858-5643eeaa6675"
      },
      "outputs": [],
      "source": [
        "from datasets import load_dataset\n",
        "from transformers import AutoModelForSequenceClassification, AutoTokenizer\n",
        "\n",
        "tokenizer = AutoTokenizer.from_pretrained('allenai/longformer-base-4096')\n",
        "\n",
        "def longformer_finetuned_papers():\n",
        "    model = AutoModelForSequenceClassification.from_pretrained('danielhou13/longformer-finetuned_papers_v2', num_labels = 2)\n",
        "    return model\n",
        "\n",
        "def preprocess_function(tokenizer, example, max_length):\n",
        "    example.update(tokenizer(example['text'], padding='max_length', max_length=max_length, truncation=True))\n",
        "    return example\n",
        "\n",
        "def get_papers_dataset(dataset_type):\n",
        "    max_length = 2048\n",
        "    dataset = load_dataset(\"danielhou13/cogs402dataset\")[dataset_type]\n",
        "\n",
        "    # tokenizer = AutoTokenizer.from_pretrained('bert-base-uncased')\n",
        "    dataset = dataset.map(lambda x: preprocess_function(tokenizer, x, max_length), batched=True)\n",
        "    setattr(dataset, 'input_columns', ['input_ids', 'attention_mask'])\n",
        "    setattr(dataset, 'target_columns', ['labels'])\n",
        "    setattr(dataset, 'max_length', max_length)\n",
        "    setattr(dataset, 'tokenizer', tokenizer)\n",
        "    return dataset\n",
        "\n",
        "def papers_test_set():\n",
        "    return get_papers_dataset('test')"
      ]
    },
    {
      "cell_type": "markdown",
      "source": [
        "Import the news dataset"
      ],
      "metadata": {
        "id": "Jq_wt-jn_Y6m"
      },
      "id": "Jq_wt-jn_Y6m"
    },
    {
      "cell_type": "code",
      "source": [
        "# def preprocess_function(tokenizer, example, max_length):\n",
        "#     example.update(tokenizer(example['text'], padding='max_length', max_length=max_length, truncation=True))\n",
        "#     return example\n",
        "\n",
        "# def longformer_finetuned_news():\n",
        "#     model = AutoModelForSequenceClassification.from_pretrained('danielhou13/longformer-finetuned-news-cogs402', num_labels = 2)\n",
        "#     return model\n",
        "\n",
        "# def get_news_dataset(dataset_type):\n",
        "#     max_length = 2048\n",
        "#     dataset = load_dataset(\"danielhou13/cogs402dataset2\")[dataset_type]\n",
        "\n",
        "#     tokenizer = AutoTokenizer.from_pretrained('allenai/longformer-base-4096')\n",
        "#     dataset = dataset.map(lambda x: preprocess_function(tokenizer, x, max_length), batched=True)\n",
        "\n",
        "#     labels = map(int, dataset['hyperpartisan'])\n",
        "#     print(type(dataset['hyperpartisan']))\n",
        "#     labels = list(labels)\n",
        "#     dataset = dataset.add_column(\"labels\", labels)\n",
        "\n",
        "#     dataset = dataset.remove_columns(['title', 'hyperpartisan', 'url', 'published_at', 'bias'])\n",
        "#     print(dataset)\n",
        "#     setattr(dataset, 'input_columns', ['input_ids', 'attention_mask'])\n",
        "#     setattr(dataset, 'target_columns', ['labels'])\n",
        "#     setattr(dataset, 'max_length', max_length)\n",
        "#     setattr(dataset, 'tokenizer', tokenizer)\n",
        "#     return dataset\n",
        "\n",
        "# def news_train_set():\n",
        "#     return get_news_dataset('train')\n",
        "\n",
        "# def news_test_set():\n",
        "#     return get_news_dataset('validation')"
      ],
      "metadata": {
        "id": "gEI0AFC5-0qA"
      },
      "id": "gEI0AFC5-0qA",
      "execution_count": 106,
      "outputs": []
    },
    {
      "cell_type": "markdown",
      "source": [
        "Load papers model and dataset and preprocess it"
      ],
      "metadata": {
        "id": "srzj_2BeNGOK"
      },
      "id": "srzj_2BeNGOK"
    },
    {
      "cell_type": "code",
      "execution_count": 107,
      "id": "24ad54a3-db97-47e3-8cc7-417d4db2c99b",
      "metadata": {
        "id": "24ad54a3-db97-47e3-8cc7-417d4db2c99b",
        "colab": {
          "base_uri": "https://localhost:8080/",
          "height": 133,
          "referenced_widgets": [
            "b69fd53cecc441dba2f67b9ee10bd56e",
            "62f119ac0a4742c899f15695999532c4",
            "7df3eb3afc674fdb8c4e23e17099f7e4",
            "71374b6c776049d0ba880ef766bdace2",
            "c52f9824ccd5412d8cfa917d1d7deefa",
            "ab71b23c36274d698efa13d15959c875",
            "912bbd1d092642939a5f0568f3f3c0ed",
            "c4a713e5262740af9aedfeecdc48dafb",
            "ceed78a2d4a041f9a9eecba7b8b070ed",
            "114c7b30c194441d9d9a774573495b7e",
            "b557381e432446a8b617a1f6ff1b5e0b",
            "99c98675cdb842e19bb293c66a5d090a",
            "50038fc3395b496495cc24906f8f1067",
            "c5e4daad6e3a414d90e4edf5778a63cb",
            "a5a84b3bbeba4f5c8597ade2bcec6171",
            "df76cf38c7ea4290af2f67603b464b4f",
            "595284a0318d477d860cbd470f2671a5",
            "8f3bcc6c4d1f46d2a5f309d4f5966dd1",
            "584dc428912346878acb794e74715326",
            "ee1c5716fff84d3e85ca771793f37081",
            "aa18b6dd4bb44b52a219a6ed20ac7246",
            "876f554729f144bf972f581728ebb8e7"
          ]
        },
        "outputId": "e0fbf01b-c3b4-4a20-a2bc-bfb387735034"
      },
      "outputs": [
        {
          "output_type": "stream",
          "name": "stderr",
          "text": [
            "WARNING:datasets.builder:Using custom data configuration danielhou13--cogs402dataset-144b958ac1a53abb\n",
            "WARNING:datasets.builder:Reusing dataset parquet (/root/.cache/huggingface/datasets/danielhou13___parquet/danielhou13--cogs402dataset-144b958ac1a53abb/0.0.0/7328ef7ee03eaf3f86ae40594d46a1cec86161704e02dd19f232d81eee72ade8)\n"
          ]
        },
        {
          "output_type": "display_data",
          "data": {
            "text/plain": [
              "  0%|          | 0/2 [00:00<?, ?it/s]"
            ],
            "application/vnd.jupyter.widget-view+json": {
              "version_major": 2,
              "version_minor": 0,
              "model_id": "b69fd53cecc441dba2f67b9ee10bd56e"
            }
          },
          "metadata": {}
        },
        {
          "output_type": "display_data",
          "data": {
            "text/plain": [
              "  0%|          | 0/2 [00:00<?, ?ba/s]"
            ],
            "application/vnd.jupyter.widget-view+json": {
              "version_major": 2,
              "version_minor": 0,
              "model_id": "99c98675cdb842e19bb293c66a5d090a"
            }
          },
          "metadata": {}
        },
        {
          "output_type": "stream",
          "name": "stdout",
          "text": [
            "['input_ids', 'attention_mask', 'labels']\n"
          ]
        }
      ],
      "source": [
        "cogs402_test = papers_test_set()\n",
        "model = longformer_finetuned_papers()\n",
        "columns = cogs402_test.input_columns + cogs402_test.target_columns\n",
        "print(columns)\n",
        "cogs402_test.set_format(type='torch', columns=columns)\n",
        "cogs402_test=cogs402_test.remove_columns(['text'])"
      ]
    },
    {
      "cell_type": "markdown",
      "source": [
        "Load news model and dataset and preprocess it"
      ],
      "metadata": {
        "id": "22BIYrX8NOVC"
      },
      "id": "22BIYrX8NOVC"
    },
    {
      "cell_type": "code",
      "source": [
        "# cogs402_test = news_test_set()\n",
        "# model = longformer_finetuned_news()\n",
        "# columns = cogs402_test.input_columns + cogs402_test.target_columns\n",
        "# print(columns)\n",
        "# cogs402_test.set_format(type='torch', columns=columns)"
      ],
      "metadata": {
        "id": "xh-YZZyo_eZx"
      },
      "id": "xh-YZZyo_eZx",
      "execution_count": 108,
      "outputs": []
    },
    {
      "cell_type": "markdown",
      "source": [
        "### Get attention output for example"
      ],
      "metadata": {
        "id": "Sxd71xm3nWXj"
      },
      "id": "Sxd71xm3nWXj"
    },
    {
      "cell_type": "markdown",
      "source": [
        "Don't forget to allow your model to use your GPU for faster performance."
      ],
      "metadata": {
        "id": "QXqrucXRuJ3I"
      },
      "id": "QXqrucXRuJ3I"
    },
    {
      "cell_type": "code",
      "execution_count": 109,
      "id": "deaabfa2-0855-41fd-870c-7a8b91e32d44",
      "metadata": {
        "id": "deaabfa2-0855-41fd-870c-7a8b91e32d44",
        "colab": {
          "base_uri": "https://localhost:8080/"
        },
        "outputId": "aeae3adb-2d11-47fa-ea03-405d5254547f"
      },
      "outputs": [
        {
          "output_type": "stream",
          "name": "stdout",
          "text": [
            "cuda:0\n"
          ]
        }
      ],
      "source": [
        "if torch.cuda.is_available():\n",
        "    model = model.cuda()\n",
        "\n",
        "print(model.device)"
      ]
    },
    {
      "cell_type": "markdown",
      "source": [
        "You can select any example in your dataset, perferably one where you know it is interesting (like a false negative, a false positive or something that you found from a different part of your project)."
      ],
      "metadata": {
        "id": "89mQ9IyUuQkl"
      },
      "id": "89mQ9IyUuQkl"
    },
    {
      "cell_type": "code",
      "source": [
        "test_val = [976]\n",
        "print(test_val)\n",
        "testexam = cogs402_test[test_val]"
      ],
      "metadata": {
        "colab": {
          "base_uri": "https://localhost:8080/"
        },
        "id": "XnXxTGhFqYG5",
        "outputId": "86f53c59-b6bd-4d1c-d6f4-8dd8f6fd44bc"
      },
      "id": "XnXxTGhFqYG5",
      "execution_count": 110,
      "outputs": [
        {
          "output_type": "stream",
          "name": "stdout",
          "text": [
            "[976]\n"
          ]
        }
      ]
    },
    {
      "cell_type": "markdown",
      "source": [
        "We stack the attention results into a tensor. The shape of the tensors are (layer, batch, head, seq_len, x + attention_window + 1) for the sliding attention and (layer, batch, head, seq_len, seq_len) for the global attention. "
      ],
      "metadata": {
        "id": "V2qcIQ6vud3Q"
      },
      "id": "V2qcIQ6vud3Q"
    },
    {
      "cell_type": "code",
      "execution_count": 111,
      "id": "04c5bcaf-5fe3-4813-8444-5cfb2c63a92b",
      "metadata": {
        "id": "04c5bcaf-5fe3-4813-8444-5cfb2c63a92b",
        "colab": {
          "base_uri": "https://localhost:8080/"
        },
        "outputId": "126b0786-e448-4e96-fca6-1fdf3dd6b381"
      },
      "outputs": [
        {
          "output_type": "stream",
          "name": "stdout",
          "text": [
            "output_attention.shape torch.Size([12, 1, 12, 2048, 514])\n",
            "gl_output_attention.shape torch.Size([12, 1, 12, 2048, 1])\n"
          ]
        }
      ],
      "source": [
        "output = model(testexam[\"input_ids\"].cuda(), attention_mask=testexam['attention_mask'].cuda(), labels=testexam['labels'].cuda(), output_attentions = True)\n",
        "batch_attn = output[-2]\n",
        "output_attentions = torch.stack(batch_attn).cpu()\n",
        "global_attention = output[-1]\n",
        "output_global_attentions = torch.stack(global_attention).cpu()\n",
        "print(\"output_attention.shape\", output_attentions.shape)\n",
        "print(\"gl_output_attention.shape\", output_global_attentions.shape)"
      ]
    },
    {
      "cell_type": "code",
      "source": [
        "print(testexam['labels'][0])\n",
        "print(output[1].argmax())"
      ],
      "metadata": {
        "id": "SO4yNy98t_UP",
        "colab": {
          "base_uri": "https://localhost:8080/"
        },
        "outputId": "dfcd991d-89ec-427b-e384-9db59dd8ea7f"
      },
      "id": "SO4yNy98t_UP",
      "execution_count": 112,
      "outputs": [
        {
          "output_type": "stream",
          "name": "stdout",
          "text": [
            "tensor(1)\n",
            "tensor(1, device='cuda:0')\n"
          ]
        }
      ]
    },
    {
      "cell_type": "code",
      "execution_count": 113,
      "id": "2467c3d1-fe58-4e6d-aa98-534a6df72fcc",
      "metadata": {
        "id": "2467c3d1-fe58-4e6d-aa98-534a6df72fcc"
      },
      "outputs": [],
      "source": [
        "# print(os.getcwd())\n",
        "# yes = torch.load(\"resources/longformer_test2/epoch_3/aggregate_attn.pt\")"
      ]
    },
    {
      "cell_type": "markdown",
      "source": [
        "### Convert sliding window attention to traditional format"
      ],
      "metadata": {
        "id": "soutFra9pAsZ"
      },
      "id": "soutFra9pAsZ"
    },
    {
      "cell_type": "markdown",
      "source": [
        "A unique property of the longformer model is that the matrix output for the attention is not a seq_len x seq_len output. Each token can only attend to the preceeding w/2 tokens and the succeeding w/2 tokens, dictated by whatever you choose the model's attention window w to be. Another name for this is called the sliding window attention. Therefore, we need to convert sliding attention matrix to correct seq_len x seq_len matrix to remain consistent with other types of Transformer Neural Networks.\n",
        "\n",
        "To do so, we run the following 4 functinos. Our attentions will change from a tensor of shape (layer, batch, head, seq_len, x + attention_window + 1) to a tensor of shape (layer, batch, head, seq_len, seq_len). More information about the functions can be found [here](https://colab.research.google.com/drive/1Kxx26NtIlUzioRCHpsR8IbSz_DpRFxEZ)."
      ],
      "metadata": {
        "id": "OevnNprR67LK"
      },
      "id": "OevnNprR67LK"
    },
    {
      "cell_type": "code",
      "execution_count": 114,
      "id": "0882a3e5-1b0c-4319-92a3-92f5b516d854",
      "metadata": {
        "id": "0882a3e5-1b0c-4319-92a3-92f5b516d854"
      },
      "outputs": [],
      "source": [
        "def create_head_matrix(output_attentions, global_attentions):\n",
        "    new_attention_matrix = torch.zeros((output_attentions.shape[0], \n",
        "                                      output_attentions.shape[0]))\n",
        "    for i in range(output_attentions.shape[0]):\n",
        "        test_non_zeroes = torch.nonzero(output_attentions[i]).squeeze()\n",
        "        test2 = output_attentions[i][test_non_zeroes[1:]]\n",
        "        new_attention_matrix_indices = test_non_zeroes[1:]-257 + i\n",
        "        new_attention_matrix[i][new_attention_matrix_indices] = test2\n",
        "        new_attention_matrix[i][0] = output_attentions[i][0]\n",
        "        new_attention_matrix[0] = global_attentions.squeeze()[:output_attentions.shape[0]]\n",
        "    return new_attention_matrix\n",
        "\n",
        "\n",
        "def attentions_all_heads(output_attentions, global_attentions):\n",
        "    new_matrix = []\n",
        "    for i in range(output_attentions.shape[0]):\n",
        "        matrix = create_head_matrix(output_attentions[i], global_attentions[i])\n",
        "        new_matrix.append(matrix)\n",
        "    return torch.stack(new_matrix)\n",
        "\n",
        "def all_batches(output_attentions, global_attentions):\n",
        "    new_matrix = []\n",
        "    for i in range(output_attentions.shape[0]):\n",
        "        matrix = attentions_all_heads(output_attentions[i], global_attentions[i])\n",
        "        new_matrix.append(matrix)\n",
        "    return torch.stack(new_matrix)\n",
        "\n",
        "def all_layers(output_attentions, global_attentions):\n",
        "    new_matrix = []\n",
        "    for i in range(output_attentions.shape[0]):\n",
        "        matrix = all_batches(output_attentions[i], global_attentions[i])\n",
        "        new_matrix.append(matrix)\n",
        "    return torch.stack(new_matrix)"
      ]
    },
    {
      "cell_type": "code",
      "source": [
        "converted_mat = all_layers(output_attentions, output_global_attentions).detach().cpu().numpy()\n",
        "print(converted_mat.shape)"
      ],
      "metadata": {
        "id": "IpdfMEMAuvyR",
        "colab": {
          "base_uri": "https://localhost:8080/"
        },
        "outputId": "0b2d555d-ff0f-45ac-ab97-99c043baab57"
      },
      "id": "IpdfMEMAuvyR",
      "execution_count": 115,
      "outputs": [
        {
          "output_type": "stream",
          "name": "stdout",
          "text": [
            "(12, 1, 12, 2048, 2048)\n"
          ]
        }
      ]
    },
    {
      "cell_type": "code",
      "source": [
        "print(testexam['input_ids'])"
      ],
      "metadata": {
        "id": "SIwlL_rUIlO3",
        "colab": {
          "base_uri": "https://localhost:8080/"
        },
        "outputId": "e4f6d704-3797-4f64-8735-290c7a007763"
      },
      "id": "SIwlL_rUIlO3",
      "execution_count": 116,
      "outputs": [
        {
          "output_type": "stream",
          "name": "stdout",
          "text": [
            "tensor([[    0, 29642,    25,  ...,  3156,     6,     2]])\n"
          ]
        }
      ]
    },
    {
      "cell_type": "markdown",
      "source": [
        "Not all heads have the same impact on the final output. Some heads may be more important than others so we scale each attention matrix by their respective head and layer. The notebook used to get head importance is [here](https://colab.research.google.com/drive/1O4QCi8ewBp7asegKqySRflTQZ9HeH8mQ?usp=sharing)."
      ],
      "metadata": {
        "id": "P-nS_AHa7Hv6"
      },
      "id": "P-nS_AHa7Hv6"
    },
    {
      "cell_type": "code",
      "source": [
        "head_importance = torch.load(\"/content/drive/MyDrive/cogs402longformer/t3-visapplication/resources/papers/pretrained/head_importance.pt\")\n",
        "# head_importance = torch.load(\"/content/drive/MyDrive/cogs402longformer/t3-visapplication/resources/news/head_importance.pt\")"
      ],
      "metadata": {
        "id": "UsAznmcDyBgR"
      },
      "id": "UsAznmcDyBgR",
      "execution_count": 117,
      "outputs": []
    },
    {
      "cell_type": "code",
      "source": [
        "def scale_by_importance(attention_matrix, head_importance):\n",
        "  new_matrix = np.zeros_like(attention_matrix)\n",
        "  for i in range(attention_matrix.shape[0]):\n",
        "    head_importance_layer = head_importance[i]\n",
        "    for j in range(attention_matrix.shape[1]):\n",
        "      new_matrix[i,j] = attention_matrix[i,j] * np.expand_dims(head_importance_layer, axis=(1,2))\n",
        "  return new_matrix"
      ],
      "metadata": {
        "id": "_HFs_vLw0230"
      },
      "id": "_HFs_vLw0230",
      "execution_count": 118,
      "outputs": []
    },
    {
      "cell_type": "code",
      "source": [
        "converted_mat_importance = scale_by_importance(converted_mat, head_importance)"
      ],
      "metadata": {
        "id": "XUcjPfxeHbqT"
      },
      "id": "XUcjPfxeHbqT",
      "execution_count": 119,
      "outputs": []
    },
    {
      "cell_type": "markdown",
      "source": [
        "## Assess Attention Matrix"
      ],
      "metadata": {
        "id": "hYYuWzo2pEdl"
      },
      "id": "hYYuWzo2pEdl"
    },
    {
      "cell_type": "markdown",
      "source": [
        "#### Every token's top attended\n",
        "\n",
        "Lets suppose we want the topk attended tokens for each token in each head, batch and layer. In other words, we want to know which tokens each token attends TO the most. We first need to grab the list of all tokens in our example from our input_ids as we need to display what the actual tokens are."
      ],
      "metadata": {
        "id": "drU1Kb4UpPgV"
      },
      "id": "drU1Kb4UpPgV"
    },
    {
      "cell_type": "markdown",
      "source": [
        "The following three functions serve to get us our top k attented tokens for each token in our attention matrix. \n",
        "\n",
        "`find_top_attention_unsummed` takes the full attention matrix (layer, batch, head, seq_len, seq_len) obtains the top k values for each token for every head,batch, and layer. Along with the values, it also returns the positions of each of the values so we know what token each value returned corresponds to. In other words, for every layer, for every item in the batch, for every head, it tells us for each token, what the top k tokens it attends to are. The output of the function are two matrices of shape (layer, batch, head, seq_len, k).\n",
        "\n",
        "`get_tokens` takes in three inputs: a matrix of indices with shape (layer, batch, head, seq_len, k), the tensor of input_ids used for prediction, and an example number, and finds the associated token at each index stored in the input matrix. The example number serves only to select an example from the batch. If we do not pass in an example as an input, we will iterate over all of the batches. The output of the function is an array of shape (layer, batch, head, seq_len, k), where each item is a token from their respective example.\n",
        "\n",
        "`highest_attended_tokens` takes in 5 inputs. It takes in a matrix of indicies, matrix of values, matrix of tokens, all with shape (layer, batch, head, seq_len, k), the tensor of input_ids used for prediction, and an example number. The example number again serves only to pick an example from the batch and if not used, will iterate over all batches. We use these matrices to create a Pandas Dataframe, where each row of the dataframe contains the current token, the position of the current token, the attended token, the position of the attended token, the attended value, the rank of the attended token w.r.t the current token, the layer, the head and the batch. "
      ],
      "metadata": {
        "id": "BX9jj2qIv8vK"
      },
      "id": "BX9jj2qIv8vK"
    },
    {
      "cell_type": "code",
      "source": [
        "# get the top k and indexes and values for each row\n",
        "def find_top_attention_unsummed(scores_mat, k):\n",
        "  indices = scores_mat.argsort(axis=4)[:, :, :, :, :-(k+1):-1]\n",
        "  vals = np.take_along_axis(scores_mat, indices, axis=4)  \n",
        "  return indices, vals\n",
        "\n",
        "#find the tokens using the index matrix and the all_tokens list to create a \n",
        "#matrix of tokens \n",
        "def get_tokens(index_matrix, example_ids, example=None):\n",
        "  \n",
        "  # Make sure our example is not out of range.\n",
        "  assert example < index_matrix.shape[1]\n",
        "\n",
        "  highest_tokens = []\n",
        "  #layer\n",
        "  for i in range(index_matrix.shape[0]):\n",
        "    row_tokens = []\n",
        "    #batch\n",
        "    for j in range(index_matrix.shape[1]):\n",
        "      batch_tokens = []\n",
        "\n",
        "      if (example is not None) and (j != example):\n",
        "        continue\n",
        "\n",
        "      all_tokens = tokenizer.convert_ids_to_tokens(example_ids[j])\n",
        "\n",
        "      #head\n",
        "      for k in range(index_matrix.shape[2]):\n",
        "        head_tokens = []\n",
        "\n",
        "        #token\n",
        "        for x in range(index_matrix.shape[3]):\n",
        "          tokens = [all_tokens[idx] for idx in index_matrix[i,j,k,x]]\n",
        "          head_tokens.append(tokens)\n",
        "        batch_tokens.append(head_tokens)\n",
        "      row_tokens.append(batch_tokens)\n",
        "    highest_tokens.append(row_tokens)\n",
        "  return np.array(highest_tokens)\n",
        "\n",
        "#format into a dataframe\n",
        "def highest_attended_tokens(index, values, tokens, example_ids, example=None):\n",
        "    dataframe=[]\n",
        "    for i in range(index.shape[0]):\n",
        "      for j in range(index.shape[1]):\n",
        "\n",
        "        if (example is not None) and (j != example):\n",
        "          continue\n",
        "\n",
        "        all_tokens = tokenizer.convert_ids_to_tokens(example_ids[j])\n",
        "\n",
        "        for k in range(index.shape[2]):\n",
        "          for x in range(index.shape[3]):\n",
        "            for y in range(index.shape[4]):\n",
        "              d = {\"token\":all_tokens[x], 'self_position':x, \n",
        "                  \"attended_token\": tokens[i,j,k,x,y],\n",
        "                  'token_position':index[i,j,k,x,y], \n",
        "                  'attention_scores':values[i,j,k,x,y],\n",
        "                  'layer':(i+1), 'head':(k+1),\n",
        "                  'rank':(y+1),\n",
        "                  'batch':j}\n",
        "              dataframe.append(d)\n",
        "    df = pd.DataFrame(dataframe)\n",
        "    return df"
      ],
      "metadata": {
        "id": "cO9aWGYxCNzu"
      },
      "id": "cO9aWGYxCNzu",
      "execution_count": 120,
      "outputs": []
    },
    {
      "cell_type": "code",
      "source": [
        "#combine the previous functions\n",
        "def highest_tokens(matrix, k, example_ids, example=None):\n",
        "  index, values = find_top_attention_unsummed(matrix, k)\n",
        "  highest_tokens = get_tokens(index, example_ids, example)\n",
        "  df = highest_attended_tokens(index, values, highest_tokens, example_ids, example)\n",
        "  return df"
      ],
      "metadata": {
        "id": "-TfHlPuAFALd"
      },
      "id": "-TfHlPuAFALd",
      "execution_count": 121,
      "outputs": []
    },
    {
      "cell_type": "markdown",
      "source": [
        "Thus, for every token, we can get the top k tokens that this token attends to. Since it is a Dataframe, we can filter by batch, layer, head, rank, position, etc.,. The downsides are that its not very visually appealing despite being organized."
      ],
      "metadata": {
        "id": "vnhqif_VUqgU"
      },
      "id": "vnhqif_VUqgU"
    },
    {
      "cell_type": "code",
      "source": [
        "df2 = highest_tokens(converted_mat_importance, 10, testexam[\"input_ids\"], 0)\n",
        "df2"
      ],
      "metadata": {
        "id": "5Pl_PhUcFVOb",
        "colab": {
          "base_uri": "https://localhost:8080/",
          "height": 424
        },
        "outputId": "b6d45b03-8ecd-4e84-8a63-e36a8ee9c291"
      },
      "id": "5Pl_PhUcFVOb",
      "execution_count": 122,
      "outputs": [
        {
          "output_type": "execute_result",
          "data": {
            "text/plain": [
              "        token  self_position attended_token  token_position  attention_scores  \\\n",
              "0         <s>              0            <s>               0          0.001840   \n",
              "1         <s>              0              -             512          0.000818   \n",
              "2         <s>              0             Ġa            1536          0.000718   \n",
              "3         <s>              0         Ġimage            1024          0.000706   \n",
              "4         <s>              0       Ġcaption            1309          0.000064   \n",
              "...       ...            ...            ...             ...               ...   \n",
              "2949115  </s>           2047              .            2006          0.000011   \n",
              "2949116  </s>           2047        Ġlearns            1993          0.000011   \n",
              "2949117  </s>           2047              .            1792          0.000011   \n",
              "2949118  </s>           2047              .            1909          0.000011   \n",
              "2949119  </s>           2047              .            1892          0.000011   \n",
              "\n",
              "         layer  head  rank  batch  \n",
              "0            1     1     1      0  \n",
              "1            1     1     2      0  \n",
              "2            1     1     3      0  \n",
              "3            1     1     4      0  \n",
              "4            1     1     5      0  \n",
              "...        ...   ...   ...    ...  \n",
              "2949115     12    12     6      0  \n",
              "2949116     12    12     7      0  \n",
              "2949117     12    12     8      0  \n",
              "2949118     12    12     9      0  \n",
              "2949119     12    12    10      0  \n",
              "\n",
              "[2949120 rows x 9 columns]"
            ],
            "text/html": [
              "\n",
              "  <div id=\"df-2583b06b-36bc-4d72-b996-6a450af0236d\">\n",
              "    <div class=\"colab-df-container\">\n",
              "      <div>\n",
              "<style scoped>\n",
              "    .dataframe tbody tr th:only-of-type {\n",
              "        vertical-align: middle;\n",
              "    }\n",
              "\n",
              "    .dataframe tbody tr th {\n",
              "        vertical-align: top;\n",
              "    }\n",
              "\n",
              "    .dataframe thead th {\n",
              "        text-align: right;\n",
              "    }\n",
              "</style>\n",
              "<table border=\"1\" class=\"dataframe\">\n",
              "  <thead>\n",
              "    <tr style=\"text-align: right;\">\n",
              "      <th></th>\n",
              "      <th>token</th>\n",
              "      <th>self_position</th>\n",
              "      <th>attended_token</th>\n",
              "      <th>token_position</th>\n",
              "      <th>attention_scores</th>\n",
              "      <th>layer</th>\n",
              "      <th>head</th>\n",
              "      <th>rank</th>\n",
              "      <th>batch</th>\n",
              "    </tr>\n",
              "  </thead>\n",
              "  <tbody>\n",
              "    <tr>\n",
              "      <th>0</th>\n",
              "      <td>&lt;s&gt;</td>\n",
              "      <td>0</td>\n",
              "      <td>&lt;s&gt;</td>\n",
              "      <td>0</td>\n",
              "      <td>0.001840</td>\n",
              "      <td>1</td>\n",
              "      <td>1</td>\n",
              "      <td>1</td>\n",
              "      <td>0</td>\n",
              "    </tr>\n",
              "    <tr>\n",
              "      <th>1</th>\n",
              "      <td>&lt;s&gt;</td>\n",
              "      <td>0</td>\n",
              "      <td>-</td>\n",
              "      <td>512</td>\n",
              "      <td>0.000818</td>\n",
              "      <td>1</td>\n",
              "      <td>1</td>\n",
              "      <td>2</td>\n",
              "      <td>0</td>\n",
              "    </tr>\n",
              "    <tr>\n",
              "      <th>2</th>\n",
              "      <td>&lt;s&gt;</td>\n",
              "      <td>0</td>\n",
              "      <td>Ġa</td>\n",
              "      <td>1536</td>\n",
              "      <td>0.000718</td>\n",
              "      <td>1</td>\n",
              "      <td>1</td>\n",
              "      <td>3</td>\n",
              "      <td>0</td>\n",
              "    </tr>\n",
              "    <tr>\n",
              "      <th>3</th>\n",
              "      <td>&lt;s&gt;</td>\n",
              "      <td>0</td>\n",
              "      <td>Ġimage</td>\n",
              "      <td>1024</td>\n",
              "      <td>0.000706</td>\n",
              "      <td>1</td>\n",
              "      <td>1</td>\n",
              "      <td>4</td>\n",
              "      <td>0</td>\n",
              "    </tr>\n",
              "    <tr>\n",
              "      <th>4</th>\n",
              "      <td>&lt;s&gt;</td>\n",
              "      <td>0</td>\n",
              "      <td>Ġcaption</td>\n",
              "      <td>1309</td>\n",
              "      <td>0.000064</td>\n",
              "      <td>1</td>\n",
              "      <td>1</td>\n",
              "      <td>5</td>\n",
              "      <td>0</td>\n",
              "    </tr>\n",
              "    <tr>\n",
              "      <th>...</th>\n",
              "      <td>...</td>\n",
              "      <td>...</td>\n",
              "      <td>...</td>\n",
              "      <td>...</td>\n",
              "      <td>...</td>\n",
              "      <td>...</td>\n",
              "      <td>...</td>\n",
              "      <td>...</td>\n",
              "      <td>...</td>\n",
              "    </tr>\n",
              "    <tr>\n",
              "      <th>2949115</th>\n",
              "      <td>&lt;/s&gt;</td>\n",
              "      <td>2047</td>\n",
              "      <td>.</td>\n",
              "      <td>2006</td>\n",
              "      <td>0.000011</td>\n",
              "      <td>12</td>\n",
              "      <td>12</td>\n",
              "      <td>6</td>\n",
              "      <td>0</td>\n",
              "    </tr>\n",
              "    <tr>\n",
              "      <th>2949116</th>\n",
              "      <td>&lt;/s&gt;</td>\n",
              "      <td>2047</td>\n",
              "      <td>Ġlearns</td>\n",
              "      <td>1993</td>\n",
              "      <td>0.000011</td>\n",
              "      <td>12</td>\n",
              "      <td>12</td>\n",
              "      <td>7</td>\n",
              "      <td>0</td>\n",
              "    </tr>\n",
              "    <tr>\n",
              "      <th>2949117</th>\n",
              "      <td>&lt;/s&gt;</td>\n",
              "      <td>2047</td>\n",
              "      <td>.</td>\n",
              "      <td>1792</td>\n",
              "      <td>0.000011</td>\n",
              "      <td>12</td>\n",
              "      <td>12</td>\n",
              "      <td>8</td>\n",
              "      <td>0</td>\n",
              "    </tr>\n",
              "    <tr>\n",
              "      <th>2949118</th>\n",
              "      <td>&lt;/s&gt;</td>\n",
              "      <td>2047</td>\n",
              "      <td>.</td>\n",
              "      <td>1909</td>\n",
              "      <td>0.000011</td>\n",
              "      <td>12</td>\n",
              "      <td>12</td>\n",
              "      <td>9</td>\n",
              "      <td>0</td>\n",
              "    </tr>\n",
              "    <tr>\n",
              "      <th>2949119</th>\n",
              "      <td>&lt;/s&gt;</td>\n",
              "      <td>2047</td>\n",
              "      <td>.</td>\n",
              "      <td>1892</td>\n",
              "      <td>0.000011</td>\n",
              "      <td>12</td>\n",
              "      <td>12</td>\n",
              "      <td>10</td>\n",
              "      <td>0</td>\n",
              "    </tr>\n",
              "  </tbody>\n",
              "</table>\n",
              "<p>2949120 rows × 9 columns</p>\n",
              "</div>\n",
              "      <button class=\"colab-df-convert\" onclick=\"convertToInteractive('df-2583b06b-36bc-4d72-b996-6a450af0236d')\"\n",
              "              title=\"Convert this dataframe to an interactive table.\"\n",
              "              style=\"display:none;\">\n",
              "        \n",
              "  <svg xmlns=\"http://www.w3.org/2000/svg\" height=\"24px\"viewBox=\"0 0 24 24\"\n",
              "       width=\"24px\">\n",
              "    <path d=\"M0 0h24v24H0V0z\" fill=\"none\"/>\n",
              "    <path d=\"M18.56 5.44l.94 2.06.94-2.06 2.06-.94-2.06-.94-.94-2.06-.94 2.06-2.06.94zm-11 1L8.5 8.5l.94-2.06 2.06-.94-2.06-.94L8.5 2.5l-.94 2.06-2.06.94zm10 10l.94 2.06.94-2.06 2.06-.94-2.06-.94-.94-2.06-.94 2.06-2.06.94z\"/><path d=\"M17.41 7.96l-1.37-1.37c-.4-.4-.92-.59-1.43-.59-.52 0-1.04.2-1.43.59L10.3 9.45l-7.72 7.72c-.78.78-.78 2.05 0 2.83L4 21.41c.39.39.9.59 1.41.59.51 0 1.02-.2 1.41-.59l7.78-7.78 2.81-2.81c.8-.78.8-2.07 0-2.86zM5.41 20L4 18.59l7.72-7.72 1.47 1.35L5.41 20z\"/>\n",
              "  </svg>\n",
              "      </button>\n",
              "      \n",
              "  <style>\n",
              "    .colab-df-container {\n",
              "      display:flex;\n",
              "      flex-wrap:wrap;\n",
              "      gap: 12px;\n",
              "    }\n",
              "\n",
              "    .colab-df-convert {\n",
              "      background-color: #E8F0FE;\n",
              "      border: none;\n",
              "      border-radius: 50%;\n",
              "      cursor: pointer;\n",
              "      display: none;\n",
              "      fill: #1967D2;\n",
              "      height: 32px;\n",
              "      padding: 0 0 0 0;\n",
              "      width: 32px;\n",
              "    }\n",
              "\n",
              "    .colab-df-convert:hover {\n",
              "      background-color: #E2EBFA;\n",
              "      box-shadow: 0px 1px 2px rgba(60, 64, 67, 0.3), 0px 1px 3px 1px rgba(60, 64, 67, 0.15);\n",
              "      fill: #174EA6;\n",
              "    }\n",
              "\n",
              "    [theme=dark] .colab-df-convert {\n",
              "      background-color: #3B4455;\n",
              "      fill: #D2E3FC;\n",
              "    }\n",
              "\n",
              "    [theme=dark] .colab-df-convert:hover {\n",
              "      background-color: #434B5C;\n",
              "      box-shadow: 0px 1px 3px 1px rgba(0, 0, 0, 0.15);\n",
              "      filter: drop-shadow(0px 1px 2px rgba(0, 0, 0, 0.3));\n",
              "      fill: #FFFFFF;\n",
              "    }\n",
              "  </style>\n",
              "\n",
              "      <script>\n",
              "        const buttonEl =\n",
              "          document.querySelector('#df-2583b06b-36bc-4d72-b996-6a450af0236d button.colab-df-convert');\n",
              "        buttonEl.style.display =\n",
              "          google.colab.kernel.accessAllowed ? 'block' : 'none';\n",
              "\n",
              "        async function convertToInteractive(key) {\n",
              "          const element = document.querySelector('#df-2583b06b-36bc-4d72-b996-6a450af0236d');\n",
              "          const dataTable =\n",
              "            await google.colab.kernel.invokeFunction('convertToInteractive',\n",
              "                                                     [key], {});\n",
              "          if (!dataTable) return;\n",
              "\n",
              "          const docLinkHtml = 'Like what you see? Visit the ' +\n",
              "            '<a target=\"_blank\" href=https://colab.research.google.com/notebooks/data_table.ipynb>data table notebook</a>'\n",
              "            + ' to learn more about interactive tables.';\n",
              "          element.innerHTML = '';\n",
              "          dataTable['output_type'] = 'display_data';\n",
              "          await google.colab.output.renderOutput(dataTable, element);\n",
              "          const docLink = document.createElement('div');\n",
              "          docLink.innerHTML = docLinkHtml;\n",
              "          element.appendChild(docLink);\n",
              "        }\n",
              "      </script>\n",
              "    </div>\n",
              "  </div>\n",
              "  "
            ]
          },
          "metadata": {},
          "execution_count": 122
        }
      ]
    },
    {
      "cell_type": "markdown",
      "source": [
        "#### Total attention for each word"
      ],
      "metadata": {
        "id": "SppU6voZpLiM"
      },
      "id": "SppU6voZpLiM"
    },
    {
      "cell_type": "markdown",
      "source": [
        "Get the sum of the attentions for all the tokens (column-wise). In other words, find out how much every word is attended to. We then normalize the values."
      ],
      "metadata": {
        "id": "u0ViKJAn7Ap0"
      },
      "id": "u0ViKJAn7Ap0"
    },
    {
      "cell_type": "code",
      "source": [
        "attention_matrix_importance = converted_mat_importance.sum(axis=3)\n",
        "print(attention_matrix_importance.shape)"
      ],
      "metadata": {
        "id": "EhMNdupbxFrx",
        "colab": {
          "base_uri": "https://localhost:8080/"
        },
        "outputId": "4d323bdc-ef27-4bfd-bdb8-1b707ec77715"
      },
      "id": "EhMNdupbxFrx",
      "execution_count": 123,
      "outputs": [
        {
          "output_type": "stream",
          "name": "stdout",
          "text": [
            "(12, 1, 12, 2048)\n"
          ]
        }
      ]
    },
    {
      "cell_type": "code",
      "source": [
        "def normalize(data):\n",
        "    return (data - np.min(data)) / (np.max(data) - np.min(data))"
      ],
      "metadata": {
        "id": "namX3_nLAORx"
      },
      "id": "namX3_nLAORx",
      "execution_count": 124,
      "outputs": []
    },
    {
      "cell_type": "code",
      "source": [
        "attention_matrix_importance = normalize(attention_matrix_importance)"
      ],
      "metadata": {
        "id": "ICgX3sa5AVh7"
      },
      "id": "ICgX3sa5AVh7",
      "execution_count": 125,
      "outputs": []
    },
    {
      "cell_type": "markdown",
      "source": [
        "#### PDF view\n",
        "\n",
        "A dataframe is good for picking out information from the example, but it isn't the best being a easy to read visualization. Its easier to see how much each word is attended to in an example if we have the actual example, with the words highlighted based on the magnitude of attention."
      ],
      "metadata": {
        "id": "kqgAjuIwph32"
      },
      "id": "kqgAjuIwph32"
    },
    {
      "cell_type": "markdown",
      "source": [
        "\n",
        "\n",
        "We use https://github.com/jiesutd/Text-Attention-Heatmap-Visualization to show how much each token in the example is attended to, up to the max number of tokens we specified earlier.\n",
        "\n",
        "In short, these functions iterate over the list of attentions and tokens, cleans the tokens to remove special characters, and normalizes the data if you wish for it to.\n",
        "\n",
        "This notebook serves to explore one specific example in detail. If you wish to play around and/or convert multiple examples into PDFs, I recommend going to this [notebook](https://colab.research.google.com/drive/1Gyxj9rP2KnnCzit9zN3h3MeTTiQ13R7B?usp=sharing)"
      ],
      "metadata": {
        "id": "DjTu0_guLI1T"
      },
      "id": "DjTu0_guLI1T"
    },
    {
      "cell_type": "code",
      "source": [
        "## convert the text/attention list to latex code, which will further generates the text heatmap based on attention weights.\n",
        "import numpy as np\n",
        "\n",
        "latex_special_token = [\"!@#$%^&*(){}\"]\n",
        "\n",
        "def generate(text_list, attention_list, latex_file, color='red', rescale_value = True):\n",
        "\tassert(len(text_list) == len(attention_list))\n",
        "\tif rescale_value:\n",
        "\t\tattention_list = rescale(attention_list)\n",
        "\tword_num = len(text_list)\n",
        "\ttext_list = clean_word(text_list)\n",
        "\twith open(latex_file,'w') as f:\n",
        "\t\tf.write(r'''\\documentclass[varwidth]{standalone}\n",
        "\\special{papersize=210mm,297mm}\n",
        "\\usepackage{color}\n",
        "\\usepackage{tcolorbox}\n",
        "\\usepackage{CJK}\n",
        "\\usepackage{adjustbox}\n",
        "\\tcbset{width=0.9\\textwidth,boxrule=0pt,colback=red,arc=0pt,auto outer arc,left=0pt,right=0pt,boxsep=5pt}\n",
        "\\begin{document}\n",
        "\\begin{CJK*}{UTF8}{gbsn}'''+'\\n')\n",
        "\t\tstring = r'''{\\setlength{\\fboxsep}{0pt}\\colorbox{white!0}{\\parbox{0.9\\textwidth}{'''+\"\\n\"\n",
        "\t\tfor idx in range(word_num):\n",
        "\t\t\tstring += \"\\\\colorbox{%s!%s}{\"%(color, attention_list[idx])+\"\\\\strut \" + text_list[idx]+\"} \"\n",
        "\t\tstring += \"\\n}}}\"\n",
        "\t\tf.write(string+'\\n')\n",
        "\t\tf.write(r'''\\end{CJK*}\n",
        "\\end{document}''')\n",
        "\n",
        "def rescale(input_list):\n",
        "\tthe_array = np.asarray(input_list)\n",
        "\tthe_max = np.max(the_array)\n",
        "\tthe_min = np.min(the_array)\n",
        "\trescale = ((the_array - the_min)/(the_max-the_min))*100\n",
        "\treturn rescale.tolist()\n",
        "\n",
        "\n",
        "def clean_word(word_list):\n",
        "\tnew_word_list = []\n",
        "\tfor word in word_list:\n",
        "\t\tfor special_sensitive in [\"\\\\\", \"^\"]:\n",
        "\t\t\tif special_sensitive in word:\n",
        "\t\t\t\tword = word.replace(special_sensitive, '')\n",
        "\t\tfor latex_sensitive in [\"%\", \"&\", \"#\", \"_\",  \"{\", \"}\"]:\n",
        "\t\t\tif latex_sensitive in word:\n",
        "\t\t\t\tword = word.replace(latex_sensitive, '\\\\' +latex_sensitive)\n",
        "\t\tnew_word_list.append(word)\n",
        "\treturn new_word_list"
      ],
      "metadata": {
        "id": "FCsAm5i3jmKA"
      },
      "id": "FCsAm5i3jmKA",
      "execution_count": 126,
      "outputs": []
    },
    {
      "cell_type": "code",
      "source": [
        "all_tokens2 = tokenizer.convert_ids_to_tokens(testexam[\"input_ids\"][0])"
      ],
      "metadata": {
        "id": "N-Wr_p4LsTv-"
      },
      "id": "N-Wr_p4LsTv-",
      "execution_count": 127,
      "outputs": []
    },
    {
      "cell_type": "markdown",
      "source": [
        "Change \"papers\" in the following to news/whatever alternative dataset if you change the dataset used"
      ],
      "metadata": {
        "id": "f2EysmpsD0ms"
      },
      "id": "f2EysmpsD0ms"
    },
    {
      "cell_type": "code",
      "source": [
        "print(all_tokens2)\n",
        "average_attention = attention_matrix_importance.squeeze().sum(axis=1)\n",
        "average_attention = average_attention.sum(axis=0)"
      ],
      "metadata": {
        "id": "goaO9arYjopz",
        "colab": {
          "base_uri": "https://localhost:8080/"
        },
        "outputId": "b943936d-5cf9-4d18-8b16-f4b2d9f176ea"
      },
      "id": "goaO9arYjopz",
      "execution_count": 128,
      "outputs": [
        {
          "output_type": "stream",
          "name": "stdout",
          "text": [
            "['<s>', 'Published', 'Ġas', 'Ġa', 'Ġconference', 'Ġpaper', 'Ġin', 'ĠInternational', 'ĠConference', 'Ġof', 'ĠComputer', 'ĠVision', 'Ġ(', 'IC', 'CV', ')', 'Ġ2017', 'Ġ', 'ĠSpeaking', 'Ġthe', 'ĠSame', 'ĠLanguage', ':', 'ĠMatch', 'ing', 'ĠMachine', 'Ġto', 'ĠHuman', 'ĠCapt', 'ions', 'Ġby', 'ĠAd', 'vers', 'arial', 'ĠTraining', 'ĠRak', 'sh', 'ith', 'ĠShe', 'tty', '1', 'Ġ', 'ĠMarcus', 'ĠRoh', 'r', 'bach', '2', ',', '3', 'Ġ', 'Ġar', 'X', 'iv', ':', '17', '03', '.', '10', '476', 'v', '2', 'Ġ[', 'cs', '.', 'CV', ']', 'Ġ6', 'ĠNov', 'Ġ2017', 'Ġ', 'ĠMario', 'ĠFritz', '1', 'Ġ1', 'Ġ', 'ĠLisa', 'ĠAnne', 'ĠHendricks', '2', 'Ġ', 'ĠBer', 'nt', 'ĠS', 'chie', 'le', '1', 'Ġ', 'ĠMax', 'ĠPlan', 'ck', 'ĠInstitute', 'Ġfor', 'ĠIn', 'format', 'ics', ',', 'ĠSa', 'ar', 'land', 'ĠIn', 'format', 'ics', 'ĠCampus', ',', 'ĠSa', 'arb', 'ru', 'Ì', 'Ī', 'ck', 'en', ',', 'ĠGermany', 'Ġ2', 'Ġ3', 'ĠUC', 'ĠBerkeley', 'ĠE', 'EC', 'S', ',', 'ĠCA', ',', 'ĠUnited', 'ĠStates', 'ĠFacebook', 'ĠAI', 'ĠResearch', 'Ġ', 'ĠAbstract', 'ĠWhile', 'Ġstrong', 'Ġprogress', 'Ġhas', 'Ġbeen', 'Ġmade', 'Ġin', 'Ġimage', 'Ġcaption', 'ing', 'Ġrecently', ',', 'Ġmachine', 'Ġand', 'Ġhuman', 'Ġcapt', 'ions', 'Ġare', 'Ġstill', 'Ġquite', 'Ġdistinct', '.', 'ĠThis', 'Ġis', 'Ġprimarily', 'Ġdue', 'Ġto', 'Ġthe', 'Ġdeficiencies', 'Ġin', 'Ġthe', 'Ġgenerated', 'Ġword', 'Ġdistribution', ',', 'Ġvocabulary', 'Ġsize', ',', 'Ġand', 'Ġstrong', 'Ġbias', 'Ġin', 'Ġthe', 'Ġgenerators', 'Ġtowards', 'Ġfrequent', 'Ġcapt', 'ions', '.', 'ĠFurthermore', ',', 'Ġhumans', 'ĠâĢĵ', 'Ġrightfully', 'Ġso', 'ĠâĢĵ', 'Ġgenerate', 'Ġmultiple', ',', 'Ġdiverse', 'Ġcapt', 'ions', ',', 'Ġdue', 'Ġto', 'Ġthe', 'Ġinherent', 'Ġambiguity', 'Ġin', 'Ġthe', 'Ġcaption', 'ing', 'Ġtask', 'Ġwhich', 'Ġis', 'Ġnot', 'Ġexplicitly', 'Ġconsidered', 'Ġin', 'Ġtoday', 'âĢ', 'Ļ', 's', 'Ġsystems', '.', 'ĠTo', 'Ġaddress', 'Ġthese', 'Ġchallenges', ',', 'Ġwe', 'Ġchange', 'Ġthe', 'Ġtraining', 'Ġobjective', 'Ġof', 'Ġthe', 'Ġcaption', 'Ġgenerator', 'Ġfrom', 'Ġreprodu', 'cing', 'Ġground', 'truth', 'Ġcapt', 'ions', 'Ġto', 'Ġgenerating', 'Ġa', 'Ġset', 'Ġof', 'Ġcapt', 'ions', 'Ġthat', 'Ġis', 'Ġindistinguishable', 'Ġfrom', 'Ġhuman', 'Ġwritten', 'Ġcapt', 'ions', '.', 'ĠInstead', 'Ġof', 'Ġhand', 'craft', 'ing', 'Ġsuch', 'Ġa', 'Ġlearning', 'Ġtarget', ',', 'Ġwe', 'Ġemploy', 'Ġadvers', 'arial', 'Ġtraining', 'Ġin', 'Ġcombination', 'Ġwith', 'Ġan', 'Ġapproximate', 'ĠG', 'umb', 'el', 'Ġsam', 'pler', 'Ġto', 'Ġimplicitly', 'Ġmatch', 'Ġthe', 'Ġgenerated', 'Ġdistribution', 'Ġto', 'Ġthe', 'Ġhuman', 'Ġone', '.', 'ĠWhile', 'Ġour', 'Ġmethod', 'Ġachieves', 'Ġcomparable', 'Ġperformance', 'Ġto', 'Ġthe', 'Ġstate', '-', 'of', '-', 'the', '-', 'art', 'Ġin', 'Ġterms', 'Ġof', 'Ġthe', 'Ġcorrectness', 'Ġof', 'Ġthe', 'Ġcapt', 'ions', ',', 'Ġwe', 'Ġgenerate', 'Ġa', 'Ġset', 'Ġof', 'Ġdiverse', 'Ġcapt', 'ions', 'Ġthat', 'Ġare', 'Ġsignificantly', 'Ġless', 'Ġbiased', 'Ġand', 'Ġbetter', 'Ġmatch', 'Ġthe', 'Ġglobal', 'Ġun', 'i', '-,', 'Ġbi', '-', 'Ġand', 'Ġtri', '-', 'gram', 'Ġdistributions', 'Ġof', 'Ġthe', 'Ġhuman', 'Ġcapt', 'ions', '.', 'Ġ', 'ĠO', 'urs', ':', 'Ġa', 'Ġperson', 'Ġon', 'Ġsk', 'is', 'Ġjumping', 'Ġover', 'Ġa', 'Ġramp', 'Ġ', 'ĠO', 'urs', ':', 'Ġa', 'Ġsk', 'ier', 'Ġis', 'Ġmaking', 'Ġa', 'Ġturn', 'Ġon', 'Ġa', 'Ġcourse', 'Ġ', 'ĠO', 'urs', ':', 'Ġa', 'Ġcross', 'Ġcountry', 'Ġsk', 'ier', 'Ġmakes', 'Ġhis', 'Ġway', 'Ġthrough', 'Ġthe', 'Ġsnow', 'Ġ', 'ĠO', 'urs', ':', 'Ġa', 'Ġsk', 'ier', 'Ġis', 'Ġheaded', 'Ġdown', 'Ġa', 'Ġsteep', 'Ġslope', 'Ġ', 'ĠBas', 'eline', ':', 'Ġa', 'Ġman', 'Ġriding', 'Ġsk', 'is', 'Ġdown', 'Ġa', 'Ġsnow', 'Ġcovered', 'Ġslope', 'Ġ', 'ĠFigure', 'Ġ1', ':', 'ĠFour', 'Ġimages', 'Ġfrom', 'Ġthe', 'Ġtest', 'Ġset', ',', 'Ġall', 'Ġrelated', 'Ġto', 'Ġskiing', ',', 'Ġshown', 'Ġwith', 'Ġcapt', 'ions', 'Ġfrom', 'Ġour', 'Ġadvers', 'arial', 'Ġmodel', 'Ġand', 'Ġa', 'Ġbaseline', '.', 'ĠBas', 'eline', 'Ġmodel', 'Ġdescribes', 'Ġall', 'Ġfour', 'Ġimages', 'Ġwith', 'Ġone', 'Ġgeneric', 'Ġcaption', ',', 'Ġwhereas', 'Ġour', 'Ġmodel', 'Ġproduces', 'Ġdiverse', 'Ġand', 'Ġmore', 'Ġimage', 'Ġspecific', 'Ġcapt', 'ions', '.', 'ĠAs', 'Ġwe', 'Ġanalyze', 'Ġin', 'Ġthis', 'Ġpaper', ',', 'Ġthis', 'Ġis', 'Ġlikely', 'Ġdue', 'Ġto', 'Ġartifacts', 'Ġand', 'Ġdeficiencies', 'Ġin', 'Ġthe', 'Ġstatistics', 'Ġof', 'Ġthe', 'Ġgenerated', 'Ġcapt', 'ions', ',', 'Ġwhich', 'Ġis', 'Ġmore', 'Ġapparent', 'Ġwhen', 'Ġobserving', 'Ġmultiple', 'Ġsamples', '.', 'ĠSpecifically', ',', 'Ġwe', 'Ġobserve', 'Ġthat', 'Ġstate', '-', 'of', '-', 'the', '-', 'art', 'Ġsystems', 'Ġfrequently', 'ĠâĢ', 'ľ', 'reve', 'al', 'Ġthemselves', 'âĢ', 'Ŀ', 'Ġby', 'Ġgenerating', 'Ġa', 'Ġdifferent', 'Ġword', 'Ġdistribution', 'Ġand', 'Ġusing', 'Ġsmaller', 'Ġvocabulary', '.', 'ĠFurther', 'Ġscrutiny', 'Ġreveals', 'Ġthat', 'Ġgeneral', 'ization', 'Ġfrom', 'Ġthe', 'Ġtraining', 'Ġset', 'Ġis', 'Ġstill', 'Ġchallenging', 'Ġand', 'Ġgeneration', 'Ġis', 'Ġbiased', 'Ġto', 'Ġfrequent', 'Ġfragments', 'Ġand', 'Ġcapt', 'ions', '.', 'ĠAlso', ',', 'Ġtoday', 'âĢ', 'Ļ', 's', 'Ġsystems', 'Ġare', 'Ġevaluated', 'Ġto', 'Ġproduce', 'Ġa', 'Ġsingle', 'Ġcaption', '.', 'ĠYet', ',', 'Ġmultiple', 'Ġpotentially', 'Ġdistinct', 'Ġcapt', 'ions', 'Ġare', 'Ġtypically', 'Ġcorrect', 'Ġfor', 'Ġa', 'Ġsingle', 'Ġimage', 'ĠâĢĵ', 'Ġa', 'Ġproperty', 'Ġthat', 'Ġis', 'Ġreflected', 'Ġin', 'Ġhuman', 'Ġground', '-', 'truth', '.', 'ĠThis', 'Ġdiversity', 'Ġis', 'Ġnot', 'Ġequally', 'Ġreproduced', 'Ġby', 'Ġstate', '-', 'of', '-', 'the', '-', 'art', 'Ġcaption', 'Ġgenerators', 'Ġ[', '40', ',', 'Ġ23', '].', 'ĠTherefore', ',', 'Ġour', 'Ġgoal', 'Ġis', 'Ġto', 'Ġmake', 'Ġimage', 'Ġcapt', 'ions', 'Ġless', 'Ġdistinguish', 'able', 'Ġfrom', 'Ġhuman', 'Ġones', 'ĠâĢĵ', 'Ġsimilar', 'Ġin', 'Ġthe', 'Ġspirit', 'Ġto', 'Ġa', 'ĠTuring', 'Ġ', 'Ġ1', '.', 'ĠIntroduction', 'ĠImage', 'Ġcaption', 'ing', 'Ġsystems', 'Ġhave', 'Ġa', 'Ġvariety', 'Ġof', 'Ġapplications', 'Ġranging', 'Ġfrom', 'Ġmedia', 'Ġretrieval', 'Ġand', 'Ġtagging', 'Ġto', 'Ġassistance', 'Ġfor', 'Ġthe', 'Ġvisually', 'Ġimpaired', '.', 'ĠIn', 'Ġparticular', ',', 'Ġmodels', 'Ġwhich', 'Ġcombine', 'Ġstate', '-', 'of', '-', 'the', '-', 'art', 'Ġimage', 'Ġrepresentations', 'Ġbased', 'Ġon', 'Ġdeep', 'Ġconv', 'olution', 'al', 'Ġnetworks', 'Ġand', 'Ġdeep', 'Ġrecurrent', 'Ġlanguage', 'Ġmodels', 'Ġhave', 'Ġled', 'Ġto', 'Ġever', 'Ġincreasing', 'Ġperformance', 'Ġon', 'Ġevaluation', 'Ġmetrics', 'Ġsuch', 'Ġas', 'ĠC', 'ID', 'Er', 'Ġ[', '39', ']', 'Ġand', 'ĠMET', 'E', 'OR', 'Ġ[', '8', ']', 'Ġas', 'Ġcan', 'Ġbe', 'Ġseen', 'Ġe', '.', 'g', '.', 'Ġon', 'Ġthe', 'ĠC', 'OC', 'O', 'Ġimage', 'ĠCaption', 'Ġchallenge', 'Ġleader', 'board', 'Ġ[', '6', '].', 'ĠDespite', 'Ġthese', 'Ġadvances', ',', 'Ġit', 'Ġis', 'Ġoften', 'Ġeasy', 'Ġfor', 'Ġhumans', 'Ġto', 'Ġdifferentiate', 'Ġbetween', 'Ġmachine', 'Ġand', 'Ġhuman', 'Ġcapt', 'ions', 'ĠâĢĵ', 'Ġparticularly', 'Ġwhen', 'Ġobserving', 'Ġmultiple', 'Ġcapt', 'ions', 'Ġfor', 'Ġa', 'Ġsingle', 'Ġimage', '.', 'Ġ1', 'Ġ', 'Ġ', 'Č', '2', '.', 'ĠRelated', 'ĠWork', 'Ġ', 'Ġa', 'Ġbus', 'Ġthat', 'Ġhas', 'Ġpulled', 'Ġinto', 'Ġthe', 'Ġside', 'Ġof', 'Ġthe', 'Ġstreet', 'Ġa', 'Ġbus', 'Ġis', 'Ġparked', 'Ġat', 'Ġthe', 'Ġside', 'Ġof', 'Ġthe', 'Ġroad', 'Ġa', 'Ġwhite', 'Ġbus', 'Ġis', 'Ġparked', 'Ġnear', 'Ġa', 'Ġcurb', 'Ġwith', 'Ġpeople', 'Ġwalking', 'Ġby', 'Ġ', 'Ġa', 'Ġgroup', 'Ġof', 'Ġpeople', 'Ġstanding', 'Ġoutside', 'Ġin', 'Ġa', 'Ġold', 'Ġmuseum', 'Ġan', 'Ġairplane', 'Ġshow', 'Ġwhere', 'Ġpeople', 'Ġstand', 'Ġaround', 'Ġa', 'Ġline', 'Ġof', 'Ġplanes', 'Ġparked', 'Ġat', 'Ġan', 'Ġairport', 'Ġshow', 'Ġ', 'ĠBase', 'ĠâĢ¢', 'Ġa', 'Ġbus', 'Ġis', 'Ġparked', 'Ġon', 'Ġthe', 'Ġside', 'Ġof', 'Ġline', 'Ġthe', 'Ġroad', 'ĠâĢ¢', 'Ġa', 'Ġbus', 'Ġthat', 'Ġis', 'Ġparked', 'Ġin', 'Ġthe', 'Ġstreet', 'Ġa', 'Ġbus', 'Ġis', 'Ġparked', 'Ġin', 'Ġthe', 'Ġstreet', 'Ġnext', 'Ġto', 'Ġa', 'Ġbus', 'Ġ', 'Ġa', 'Ġgroup', 'Ġof', 'Ġpeople', 'Ġstanding', 'Ġaround', 'Ġa', 'Ġplane', 'Ġa', 'Ġgroup', 'Ġof', 'Ġpeople', 'Ġstanding', 'Ġaround', 'Ġa', 'Ġplane', 'Ġa', 'Ġgroup', 'Ġof', 'Ġpeople', 'Ġstanding', 'Ġaround', 'Ġa', 'Ġplane', 'Ġ', 'ĠO', 'urs', 'Ġ', 'ĠFigure', 'Ġ2', ':', 'ĠTwo', 'Ġexamples', 'Ġcomparing', 'Ġmultiple', 'Ġcapt', 'ions', 'Ġgenerated', 'Ġby', 'Ġour', 'Ġadvers', 'arial', 'Ġmodel', 'Ġand', 'Ġthe', 'Ġbaseline', '.', 'ĠBi', '-', 'gram', 's', 'Ġwhich', 'Ġare', 'Ġtop', '-', '20', 'Ġfrequent', 'Ġbi', '-', 'gram', 's', 'Ġin', 'Ġthe', 'Ġtraining', 'Ġset', 'Ġare', 'Ġmarked', 'Ġin', 'Ġred', 'Ġ(', 'e', '.', 'g', '.,', 'ĠâĢ', 'ľ', 'a', 'Ġgroup', 'âĢ', 'Ŀ', 'Ġand', 'ĠâĢ', 'ľ', 'group', 'Ġof', 'âĢ', 'Ŀ', ').', 'ĠCapt', 'ions', 'Ġwhich', 'Ġare', 'Ġrepl', 'icas', 'Ġfrom', 'Ġtraining', 'Ġset', 'Ġare', 'Ġmarked', 'Ġwith', 'ĠâĢ¢', 'Ġ.', 'ĠTest', '.', 'ĠWe', 'Ġalso', 'Ġembrace', 'Ġthe', 'Ġambiguity', 'Ġof', 'Ġthe', 'Ġtask', 'Ġand', 'Ġextend', 'Ġour', 'Ġinvestigation', 'Ġto', 'Ġpredicting', 'Ġsets', 'Ġof', 'Ġcapt', 'ions', 'Ġfor', 'Ġa', 'Ġsingle', 'Ġimage', 'Ġand', 'Ġevaluating', 'Ġtheir', 'Ġquality', ',', 'Ġparticularly', 'Ġin', 'Ġterms', 'Ġof', 'Ġthe', 'Ġdiversity', 'Ġin', 'Ġthe', 'Ġgenerated', 'Ġset', '.', 'ĠIn', 'Ġcontrast', ',', 'Ġpopular', 'Ġapproaches', 'Ġto', 'Ġimage', 'Ġcaption', 'ing', 'Ġare', 'Ġtrained', 'Ġwith', 'Ġan', 'Ġobjective', 'Ġto', 'Ġreproduce', 'Ġthe', 'Ġcapt', 'ions', 'Ġas', 'Ġprovided', 'Ġby', 'Ġthe', 'Ġground', '-', 'truth', '.', 'ĠInstead', 'Ġof', 'Ġrelying', 'Ġon', 'Ġhand', 'craft', 'ing', 'Ġloss', '-', 'fun', 'ctions', 'Ġto', 'Ġachieve', 'Ġour', 'Ġgoal', ',', 'Ġwe', 'Ġpropose', 'Ġan', 'Ġadvers', 'arial', 'Ġtraining', 'Ġmechanism', 'Ġfor', 'Ġimage', 'Ġcaption', 'ing', '.', 'ĠFor', 'Ġthis', 'Ġwe', 'Ġbuild', 'Ġon', 'ĠGener', 'ative', 'ĠAd', 'vers', 'arial', 'ĠNetworks', 'Ġ(', 'GAN', 's', ')', 'Ġ[', '14', '],', 'Ġwhich', 'Ġhave', 'Ġbeen', 'Ġsuccessfully', 'Ġused', 'Ġto', 'Ġgenerate', 'Ġmainly', 'Ġcontinuous', 'Ġdata', 'Ġdistributions', 'Ġsuch', 'Ġas', 'Ġimages', 'Ġ[', '9', ',', 'Ġ30', '],', 'Ġalthough', 'Ġexceptions', 'Ġexist', 'Ġ[', '27', '].', 'ĠIn', 'Ġcontrast', 'Ġto', 'Ġimages', ',', 'Ġcapt', 'ions', 'Ġare', 'Ġdiscrete', ',', 'Ġwhich', 'Ġposes', 'Ġa', 'Ġchallenge', 'Ġwhen', 'Ġtrying', 'Ġto', 'Ġback', 'prop', 'agate', 'Ġthrough', 'Ġthe', 'Ġgeneration', 'Ġstep', '.', 'ĠTo', 'Ġovercome', 'Ġthis', 'Ġobstacle', ',', 'Ġwe', 'Ġuse', 'Ġa', 'ĠG', 'umb', 'el', 'Ġsam', 'pler', 'Ġ[', '20', ',', 'Ġ28', ']', 'Ġthat', 'Ġallows', 'Ġfor', 'Ġend', '-', 'to', '-', 'end', 'Ġtraining', '.', 'ĠWe', 'Ġaddress', 'Ġthe', 'Ġproblem', 'Ġof', 'Ġcaption', 'Ġset', 'Ġgeneration', 'Ġfor', 'Ġimages', 'Ġand', 'Ġdiscuss', 'Ġmetrics', 'Ġto', 'Ġmeasure', 'Ġthe', 'Ġcaption', 'Ġdiversity', 'Ġand', 'Ġcompare', 'Ġit', 'Ġto', 'Ġhuman', 'Ġground', '-', 'truth', '.', 'ĠWe', 'Ġcontribute', 'Ġa', 'Ġnovel', 'Ġsolution', 'Ġto', 'Ġthis', 'Ġproblem', 'Ġusing', 'Ġan', 'Ġadvers', 'arial', 'Ġformulation', '.', 'ĠThe', 'Ġevaluation', 'Ġof', 'Ġour', 'Ġmodel', 'Ġshows', 'Ġthat', 'Ġaccuracy', 'Ġof', 'Ġgenerated', 'Ġcapt', 'ions', 'Ġis', 'Ġon', 'Ġpar', 'Ġto', 'Ġthe', 'Ġstate', '-', 'of', '-', 'the', '-', 'art', ',', 'Ġbut', 'Ġwe', 'Ġgreatly', 'Ġincrease', 'Ġthe', 'Ġdiversity', 'Ġof', 'Ġthe', 'Ġcaption', 'Ġsets', 'Ġand', 'Ġbetter', 'Ġmatch', 'Ġthe', 'Ġground', '-', 'truth', 'Ġstatistics', 'Ġin', 'Ġseveral', 'Ġmeasures', '.', 'ĠQual', 'itatively', ',', 'Ġour', 'Ġmodel', 'Ġproduces', 'Ġmore', 'Ġdiverse', 'Ġcapt', 'ions', 'Ġacross', 'Ġimages', 'Ġcontaining', 'Ġsimilar', 'Ġcontent', 'Ġ(', 'Figure', 'Ġ1', ')', 'Ġand', 'Ġwhen', 'Ġsampling', 'Ġmultiple', 'Ġcapt', 'ions', 'Ġfor', 'Ġan', 'Ġimage', 'Ġ(', 'see', 'Ġsupplementary', ')', '1', 'Ġ.', 'Ġ1', 'Ġhttps', '://', 'goo', '.', 'gl', '/', '3', 'y', 'R', 'V', 'n', 'q', 'Ġ', 'ĠImage', 'ĠDescription', '.', 'ĠEarly', 'Ġcaption', 'ing', 'Ġmodels', 'Ġrely', 'Ġon', 'Ġfirst', 'Ġrecognizing', 'Ġvisual', 'Ġelements', ',', 'Ġsuch', 'Ġas', 'Ġobjects', ',', 'Ġattributes', ',', 'Ġand', 'Ġactivities', ',', 'Ġand', 'Ġthen', 'Ġgenerating', 'Ġa', 'Ġsentence', 'Ġusing', 'Ġlanguage', 'Ġmodels', 'Ġsuch', 'Ġas', 'Ġa', 'Ġtemplate', 'Ġmodel', 'Ġ[', '13', '],', 'Ġn', '-', 'gram', 'Ġmodel', 'Ġ[', '22', '],', 'Ġor', 'Ġstatistical', 'Ġmachine', 'Ġtranslation', 'Ġ[', '34', '].', 'ĠAdv', 'ances', 'Ġin', 'Ġdeep', 'Ġlearning', 'Ġhave', 'Ġled', 'Ġto', 'Ġend', '-', 'to', '-', 'end', 'Ġtrain', 'able', 'Ġmodels', 'Ġthat', 'Ġcombine', 'Ġdeep', 'Ġconv', 'olution', 'al', 'Ġnetworks', 'Ġto', 'Ġextract', 'Ġvisual', 'Ġfeatures', 'Ġand', 'Ġrecurrent', 'Ġnetworks', 'Ġto', 'Ġgenerate', 'Ġsentences', 'Ġ[', '11', ',', 'Ġ41', ',', 'Ġ21', '].', 'ĠThough', 'Ġmodern', 'Ġdescription', 'Ġmodels', 'Ġare', 'Ġcapable', 'Ġof', 'Ġproducing', 'Ġcoherent', 'Ġsentences', 'Ġwhich', 'Ġaccurately', 'Ġdescribe', 'Ġan', 'Ġimage', ',', 'Ġthey', 'Ġtend', 'Ġto', 'Ġproduce', 'Ġgeneric', 'Ġsentences', 'Ġwhich', 'Ġare', 'Ġreplicated', 'Ġfrom', 'Ġthe', 'Ġtrain', 'Ġset', 'Ġ[', '10', '].', 'ĠFurthermore', ',', 'Ġan', 'Ġimage', 'Ġcan', 'Ġcorrespond', 'Ġto', 'Ġmany', 'Ġvalid', 'Ġdescriptions', '.', 'ĠHowever', ',', 'Ġat', 'Ġtest', 'Ġtime', ',', 'Ġsentences', 'Ġgenerated', 'Ġwith', 'Ġmethods', 'Ġsuch', 'Ġas', 'Ġbeam', 'Ġsearch', 'Ġare', 'Ġgenerally', 'Ġvery', 'Ġsimilar', '.', 'Ġ[', '40', ',', 'Ġ23', ']', 'Ġfocus', 'Ġon', 'Ġincreasing', 'Ġsentence', 'Ġdiversity', 'Ġby', 'Ġintegrating', 'Ġa', 'Ġdiversity', 'Ġpromoting', 'Ġhe', 'uristic', 'Ġinto', 'Ġbeam', 'Ġsearch', '.', 'Ġ[', '42', ']', 'Ġattempts', 'Ġto', 'Ġincrease', 'Ġthe', 'Ġdiversity', 'Ġin', 'Ġcaption', 'Ġgeneration', 'Ġby', 'Ġtraining', 'Ġan', 'Ġensemble', 'Ġof', 'Ġcaption', 'Ġgenerators', 'Ġeach', 'Ġspecializing', 'Ġin', 'Ġdifferent', 'Ġportions', 'Ġof', 'Ġthe', 'Ġtraining', 'Ġset', '.', 'ĠIn', 'Ġcontrast', ',', 'Ġwe', 'Ġfocus', 'Ġon', 'Ġimproving', 'Ġdiversity', 'Ġof', 'Ġgenerated', 'Ġcapt', 'ions', 'Ġusing', 'Ġa', 'Ġsingle', 'Ġmodel', '.', 'ĠOur', 'Ġmethod', 'Ġachieves', 'Ġthis', 'Ġby', 'Ġlearning', 'Ġa', 'Ġcorresponding', 'Ġmodel', 'Ġusing', 'Ġa', 'Ġdifferent', 'Ġtraining', 'Ġloss', 'Ġas', 'Ġopposed', 'Ġto', 'Ġafter', 'Ġtraining', 'Ġhas', 'Ġcompleted', '.', 'ĠWe', 'Ġnote', 'Ġthat', 'Ġgenerating', 'Ġdiverse', 'Ġsentences', 'Ġis', 'Ġalso', 'Ġa', 'Ġchallenge', 'Ġin', 'Ġvisual', 'Ġquestion', 'Ġgeneration', ',', 'Ġsee', 'Ġconcurrent', 'Ġwork', 'Ġ[', '19', '],', 'Ġand', 'Ġin', 'Ġlanguage', '-', 'only', 'Ġdialogue', 'Ġgeneration', 'Ġstudied', 'Ġin', 'Ġthe', 'Ġlinguistic', 'Ġcommunity', ',', 'Ġsee', 'Ġe', '.', 'g', '.', 'Ġ[', '23', ',', 'Ġ24', '].', 'ĠWhen', 'Ġtraining', 'Ġrecurrent', 'Ġdescription', 'Ġmodels', ',', 'Ġthe', 'Ġmost', 'Ġcommon', 'Ġmethod', 'Ġis', 'Ġto', 'Ġpredict', 'Ġa', 'Ġword', 'Ġw', 't', 'Ġconditioned', 'Ġon', 'Ġan', 'Ġimage', 'Ġand', 'Ġall', 'Ġprevious', 'Ġground', 'Ġtruth', 'Ġwords', '.', 'ĠAt', 'Ġtest', 'Ġtime', ',', 'Ġeach', 'Ġword', 'Ġis', 'Ġpredicted', 'Ġconditioned', 'Ġon', 'Ġan', 'Ġimage', 'Ġand', 'Ġpreviously', 'Ġpredicted', 'Ġwords', '.', 'ĠConsequently', ',', 'Ġat', 'Ġtest', 'Ġtime', 'Ġpredicted', 'Ġwords', 'Ġmay', 'Ġbe', 'Ġconditioned', 'Ġon', 'Ġwords', 'Ġthat', 'Ġwere', 'Ġincorrectly', 'Ġpredicted', 'Ġby', 'Ġthe', 'Ġmodel', '.', 'ĠBy', 'Ġonly', 'Ġtraining', 'Ġon', 'Ġground', 'Ġtruth', 'Ġwords', ',', 'Ġthe', 'Ġmodel', 'Ġsuffers', 'Ġfrom', 'Ġexposure', 'Ġbias', 'Ġ[', '31', ']', 'Ġand', 'Ġcannot', 'Ġeffectively', 'Ġlearn', 'Ġto', 'Ġrecover', 'Ġwhen', 'Ġit', 'Ġpredicts', 'Ġan', 'Ġincorrect', 'Ġword', 'Ġduring', 'Ġtraining', '.', 'ĠTo', 'Ġavoid', 'Ġthis', ',', 'Ġ[', '4', ']', 'Ġproposes', 'Ġa', 'Ġscheduled', 'Ġsampling', 'Ġtraining', 'Ġscheme', 'Ġwhich', 'Ġbegins', 'Ġby', 'Ġtraining', 'Ġwith', 'Ġground', 'Ġtruth', 'Ġwords', ',', 'Ġbut', 'Ġthen', 'Ġslowly', 'Ġconditions', 'Ġgenerated', 'Ġwords', 'Ġon', 'Ġwords', 'Ġpreviously', 'Ġproduced', 'Ġby', 'Ġthe', 'Ġmodel', '.', 'ĠHowever', ',', 'Ġ[', '17', ']', 'Ġshows', 'Ġthat', 'Ġthe', 'Ġscheduled', 'Ġsampling', 'Ġalgorithm', 'Ġis', 'Ġinconsistent', 'Ġand', 'Ġthe', 'Ġoptimal', 'Ġsolution', 'Ġunder', 'Ġthis', 'Ġobjective', 'Ġdoes', 'Ġnot', 'Ġconverge', 'Ġto', 'Ġthe', 'Ġtrue', 'Ġdata', 'Ġdistribution', '.', 'ĠTaking', 'Ġa', 'Ġdifferent', 'Ġdirection', ',', 'Ġ[', '31', ']', 'Ġproposes', 'Ġto', 'Ġaddress', 'Ġthe', 'Ġexposure', 'Ġbias', 'Ġby', 'Ġgradually', 'Ġmixing', 'Ġa', 'Ġsequence', 'Ġlevel', 'Ġloss', 'Ġ(', 'BLE', 'U', 'Ġscore', ')', 'Ġusing', 'ĠRE', 'IN', 'FOR', 'CE', 'Ġrule', 'Ġwith', 'Ġthe', 'Ġstandard', 'Ġmaximum', 'Ġlikelihood', 'Ġtraining', '.', 'ĠSeveral', 'Ġother', 'Ġworks', 'Ġhave', 'Ġfollowed', 'Ġthis', 'Ġup', 'Ġwith', 'Ġusing', 'Ġreinforcement', 'Ġlearning', 'Ġbased', 'Ġapproaches', 'Ġto', 'Ġdirectly', 'Ġoptimize', 'Ġthe', 'Ġevaluation', 'Ġmetrics', 'Ġlike', 'ĠB', 'LE', 'U', ',', 'ĠMET', 'E', 'OR', 'Ġand', 'ĠC', 'IDER', 'Ġ[', '33', ',', 'Ġ25', '].', 'ĠHowever', ',', 'Ġoptimizing', 'Ġthe', 'Ġevaluation', 'Ġmetrics', 'Ġdoes', 'Ġnot', 'Ġdirectly', 'Ġaddress', 'Ġthe', 'Ġdiversity', 'Ġof', 'Ġthe', 'Ġ', 'Ġ', 'Č', 'generated', 'Ġcapt', 'ions', '.', 'ĠSince', 'Ġall', 'Ġcurrent', 'Ġevaluation', 'Ġmetrics', 'Ġuse', 'Ġn', '-', 'gram', 'Ġmatching', 'Ġto', 'Ġscore', 'Ġthe', 'Ġcapt', 'ions', ',', 'Ġcapt', 'ions', 'Ġusing', 'Ġmore', 'Ġfrequent', 'Ġn', '-', 'gram', 's', 'Ġare', 'Ġlikely', 'Ġto', 'Ġachieve', 'Ġbetter', 'Ġscores', 'Ġthan', 'Ġones', 'Ġusing', 'Ġrare', 'r', 'Ġand', 'Ġmore', 'Ġdiverse', 'Ġn', '-', 'gram', 's', '.', 'ĠIn', 'Ġthis', 'Ġwork', ',', 'Ġwe', 'Ġformulate', 'Ġour', 'Ġcaption', 'Ġgenerator', 'Ġas', 'Ġa', 'Ġgener', 'ative', 'Ġadvers', 'arial', 'Ġnetwork', '.', 'ĠWe', 'Ġdesign', 'Ġa', 'Ġdiscrim', 'inator', 'Ġthat', 'Ġexplicitly', 'Ġencourages', 'Ġgenerated', 'Ġcapt', 'ions', 'Ġto', 'Ġbe', 'Ġdiverse', 'Ġand', 'Ġindistinguishable', 'Ġfrom', 'Ġhuman', 'Ġcapt', 'ions', '.', 'ĠThe', 'Ġgenerator', 'Ġis', 'Ġtrained', 'Ġwith', 'Ġan', 'Ġadvers', 'arial', 'Ġloss', 'Ġwith', 'Ġthis', 'Ġdiscrim', 'inator', '.', 'ĠConsequently', ',', 'Ġour', 'Ġmodel', 'Ġgenerates', 'Ġcapt', 'ions', 'Ġthat', 'Ġbetter', 'Ġreflect', 'Ġthe', 'Ġway', 'Ġhumans', 'Ġdescribe', 'Ġimages', 'Ġwhile', 'Ġmaintaining', 'Ġsimilar', 'Ġcorrectness', 'Ġas', 'Ġdetermined', 'Ġby', 'Ġa', 'Ġhuman', 'Ġevaluation', '.', 'ĠGener', 'ative', 'ĠAd', 'vers', 'arial', 'ĠNetworks', '.', 'ĠThe', 'ĠGener', 'ative', 'ĠAd', 'vers', 'arial', 'ĠNetworks', 'Ġ(', 'GAN', 's', ')', 'Ġ[', '14', ']', 'Ġframework', 'Ġlearns', 'Ġgener', 'ative', 'Ġmodels', 'Ġwithout', 'Ġexplicitly', 'Ġdefining', 'Ġa', 'Ġloss', 'Ġfrom', 'Ġa', 'Ġtarget', 'Ġdistribution', '.', 'ĠInstead', ',', 'ĠG', 'AN', 's', 'Ġlearn', 'Ġa', 'Ġgenerator', 'Ġusing', 'Ġa', 'Ġloss', 'Ġfrom', 'Ġa', 'Ġdiscrim', 'inator', 'Ġwhich', 'Ġtries', 'Ġto', 'Ġdifferentiate', 'Ġreal', 'Ġand', 'Ġgenerated', 'Ġsamples', ',', 'Ġwhere', 'Ġthe', 'Ġgenerated', 'Ġsamples', 'Ġcome', 'Ġfrom', 'Ġthe', 'Ġgenerator', '.', 'ĠWhen', 'Ġtraining', 'Ġto', 'Ġgenerate', 'Ġreal', 'Ġimages', ',', '</s>']\n"
          ]
        }
      ]
    },
    {
      "cell_type": "code",
      "source": [
        "title_all = f\"papers_{test_val[0]}.tex\"\n",
        "generate(all_tokens2, (average_attention*100), title_all, 'red')"
      ],
      "metadata": {
        "id": "htPtu7kErWfN"
      },
      "id": "htPtu7kErWfN",
      "execution_count": 129,
      "outputs": []
    },
    {
      "cell_type": "markdown",
      "source": [
        "Lets suppose you don't want to find out the attentions over all layers, but just one layer. You can do that by doing one less summation and instead picking out the layer you want immediately. Here we are picking out the last layer."
      ],
      "metadata": {
        "id": "TCKn9M3ILsEh"
      },
      "id": "TCKn9M3ILsEh"
    },
    {
      "cell_type": "code",
      "source": [
        "print(attention_matrix_importance[11].squeeze().shape)\n",
        "average_attention_final_layer = attention_matrix_importance[11].squeeze().sum(axis=0)"
      ],
      "metadata": {
        "id": "GaM018NVunZH",
        "colab": {
          "base_uri": "https://localhost:8080/"
        },
        "outputId": "7a0888ee-f8fc-46c4-d9a5-b440110fedda"
      },
      "id": "GaM018NVunZH",
      "execution_count": 130,
      "outputs": [
        {
          "output_type": "stream",
          "name": "stdout",
          "text": [
            "(12, 2048)\n"
          ]
        }
      ]
    },
    {
      "cell_type": "code",
      "source": [
        "title_last_layer = f\"papers_{test_val[0]}_layer_12_only.tex\"\n",
        "generate(all_tokens2, (average_attention_final_layer*100), title_last_layer, 'red')"
      ],
      "metadata": {
        "id": "fSl21NvVyW-n"
      },
      "id": "fSl21NvVyW-n",
      "execution_count": 131,
      "outputs": []
    },
    {
      "cell_type": "markdown",
      "source": [
        "### Highest attended tokens\n",
        "\n",
        "Here we are getting the top k attended words for specific example in a batch, over all heads and all layers. These functions are roughly the same as the functions in the section \"Every token's top attended\". Here we have modified the functions as we have one less axis to deal with and rather than getting every token's top attended token, we are finding out which tokens are the most attended TO."
      ],
      "metadata": {
        "id": "F6pfY5SAp2ni"
      },
      "id": "F6pfY5SAp2ni"
    },
    {
      "cell_type": "markdown",
      "source": [
        "`find_top_attention` takes the summed attention matrix (layer, batch, head, seq_len) obtains the top k values for every head, batch, and layer. Along with the values, it also returns the positions of each value so we know what token each value returned corresponds to. The output of the function are two arrays of shape (layer, batch, head, k)."
      ],
      "metadata": {
        "id": "VNQg3Ham5t8L"
      },
      "id": "VNQg3Ham5t8L"
    },
    {
      "cell_type": "code",
      "source": [
        "def find_top_attention(scores_mat, k):\n",
        "  indices = scores_mat.argsort(axis=3)[:, :, :, :-(k+1):-1]\n",
        "  vals = np.take_along_axis(scores_mat, indices, axis=3)\n",
        "  return indices, vals"
      ],
      "metadata": {
        "id": "h6nLRpgBltnk"
      },
      "id": "h6nLRpgBltnk",
      "execution_count": 132,
      "outputs": []
    },
    {
      "cell_type": "markdown",
      "source": [
        "`get_tokens2` takes in three inputs: a matrix of indices with shape (layer, batch, head, k), the tensor of input_ids used for prediction, and an example number, and finds the associated token at each index stored in the input matrix. The example number serves only to select an example from the batch. If we do not pass in an example as an input, we will iterate over all of the batches. The output of the function is an array of shape (layer, batch, head, k), where each item is a token from the respective example."
      ],
      "metadata": {
        "id": "FD54nkWS6O_H"
      },
      "id": "FD54nkWS6O_H"
    },
    {
      "cell_type": "code",
      "source": [
        "def get_tokens2(index_matrix, example_ids, example=None):\n",
        "\n",
        "  # Make sure our example is not out of range.\n",
        "  assert example < index_matrix.shape[1]\n",
        "\n",
        "  highest_tokens = []\n",
        "  #layer\n",
        "  for i in range(index_matrix.shape[0]):\n",
        "    row_tokens = []\n",
        "    #batch\n",
        "    for j in range(index_matrix.shape[1]):\n",
        "      batch_tokens = []\n",
        "\n",
        "      if example is not None and j != example:\n",
        "        continue\n",
        "\n",
        "      all_tokens = tokenizer.convert_ids_to_tokens(example_ids[j])\n",
        "\n",
        "      #head\n",
        "      for k in range(index_matrix.shape[2]):\n",
        "        tokens = [all_tokens[idx] for idx in index_matrix[i,j,k]]\n",
        "        batch_tokens.append(tokens)\n",
        "      row_tokens.append(batch_tokens)\n",
        "    highest_tokens.append(row_tokens)\n",
        "  return np.array(highest_tokens)"
      ],
      "metadata": {
        "id": "NSv7L_PVvLdZ"
      },
      "id": "NSv7L_PVvLdZ",
      "execution_count": 133,
      "outputs": []
    },
    {
      "cell_type": "markdown",
      "source": [
        "`highest_attended_dataframe` takes in 4 inputs. It takes in a matrix of indicies, matrix of values, matrix of tokens, all with shape (layer, batch, head, k), and an example number. The example number again serves only to pick an example from the batch and if not used, will iterate over all batches. We use these matrices to create a Pandas Dataframe, where each row of the dataframe contains the current token, the position of the current token, the value of the current token, and the rank of the token w.r.t. the current layer, head and batch. We also save the layer number, the head number and the batch in the dataframe. "
      ],
      "metadata": {
        "id": "rl2V1kNP6tlE"
      },
      "id": "rl2V1kNP6tlE"
    },
    {
      "cell_type": "code",
      "source": [
        "def highest_attended_dataframe(index, values, tokens, example=None):\n",
        "\n",
        "    dataframe=[]\n",
        "    #layer\n",
        "    for i in range(index.shape[0]):\n",
        "      #batch\n",
        "      for j in range(index.shape[1]):\n",
        "        if example is not None and j != example:\n",
        "          continue\n",
        "        #head\n",
        "        for k in range(index.shape[2]):\n",
        "          #token\n",
        "          for x in range(index.shape[3]):\n",
        "            d = {\"token\":tokens[i,j,k,x], 'position':index[i,j,k,x], \n",
        "                'attention_scores':values[i,j,k,x],\n",
        "                 'layer':(i+1), 'head':(k+1),\n",
        "                 'rank':(x+1),\n",
        "                 'batch':j}\n",
        "            dataframe.append(d)\n",
        "    df = pd.DataFrame(dataframe)\n",
        "    return df"
      ],
      "metadata": {
        "id": "YCWTK-E49C6e"
      },
      "id": "YCWTK-E49C6e",
      "execution_count": 134,
      "outputs": []
    },
    {
      "cell_type": "code",
      "source": [
        "def highest_attentions_summed(matrix, k, example_ids, example=None):\n",
        "  index, values = find_top_attention(matrix, k)\n",
        "  highest_tokens = get_tokens2(index, example_ids, example)\n",
        "  df_highest = highest_attended_dataframe(index, values, highest_tokens, example)\n",
        "  return df_highest"
      ],
      "metadata": {
        "id": "u7XhkMteJGAo"
      },
      "id": "u7XhkMteJGAo",
      "execution_count": 135,
      "outputs": []
    },
    {
      "cell_type": "markdown",
      "source": [
        "As such, the dataframe should contain rows equal to (num_layers * num_heads * k * num_examples_selected)."
      ],
      "metadata": {
        "id": "NY5brRaq74D6"
      },
      "id": "NY5brRaq74D6"
    },
    {
      "cell_type": "code",
      "source": [
        "df_highest = highest_attentions_summed(attention_matrix_importance, 10, testexam[\"input_ids\"],  0)\n",
        "df_highest"
      ],
      "metadata": {
        "id": "qdnmbBl2_m2p",
        "colab": {
          "base_uri": "https://localhost:8080/",
          "height": 424
        },
        "outputId": "781bc64b-e861-430a-c77c-d40fabaf9498"
      },
      "id": "qdnmbBl2_m2p",
      "execution_count": 136,
      "outputs": [
        {
          "output_type": "execute_result",
          "data": {
            "text/plain": [
              "       token  position  attention_scores  layer  head  rank  batch\n",
              "0        <s>         0          0.007997      1     1     1      0\n",
              "1          -       512          0.001910      1     1     2      0\n",
              "2         Ġa      1536          0.001769      1     1     3      0\n",
              "3     Ġimage      1024          0.001707      1     1     4      0\n",
              "4        ĠAt      1620          0.000963      1     1     5      0\n",
              "...      ...       ...               ...    ...   ...   ...    ...\n",
              "1435       .       598          0.000075     12    12     6      0\n",
              "1436       .       572          0.000066     12    12     7      0\n",
              "1437       .       557          0.000062     12    12     8      0\n",
              "1438       .       533          0.000056     12    12     9      0\n",
              "1439       .      1140          0.000054     12    12    10      0\n",
              "\n",
              "[1440 rows x 7 columns]"
            ],
            "text/html": [
              "\n",
              "  <div id=\"df-16cd024e-c678-4185-819a-14493ae47d11\">\n",
              "    <div class=\"colab-df-container\">\n",
              "      <div>\n",
              "<style scoped>\n",
              "    .dataframe tbody tr th:only-of-type {\n",
              "        vertical-align: middle;\n",
              "    }\n",
              "\n",
              "    .dataframe tbody tr th {\n",
              "        vertical-align: top;\n",
              "    }\n",
              "\n",
              "    .dataframe thead th {\n",
              "        text-align: right;\n",
              "    }\n",
              "</style>\n",
              "<table border=\"1\" class=\"dataframe\">\n",
              "  <thead>\n",
              "    <tr style=\"text-align: right;\">\n",
              "      <th></th>\n",
              "      <th>token</th>\n",
              "      <th>position</th>\n",
              "      <th>attention_scores</th>\n",
              "      <th>layer</th>\n",
              "      <th>head</th>\n",
              "      <th>rank</th>\n",
              "      <th>batch</th>\n",
              "    </tr>\n",
              "  </thead>\n",
              "  <tbody>\n",
              "    <tr>\n",
              "      <th>0</th>\n",
              "      <td>&lt;s&gt;</td>\n",
              "      <td>0</td>\n",
              "      <td>0.007997</td>\n",
              "      <td>1</td>\n",
              "      <td>1</td>\n",
              "      <td>1</td>\n",
              "      <td>0</td>\n",
              "    </tr>\n",
              "    <tr>\n",
              "      <th>1</th>\n",
              "      <td>-</td>\n",
              "      <td>512</td>\n",
              "      <td>0.001910</td>\n",
              "      <td>1</td>\n",
              "      <td>1</td>\n",
              "      <td>2</td>\n",
              "      <td>0</td>\n",
              "    </tr>\n",
              "    <tr>\n",
              "      <th>2</th>\n",
              "      <td>Ġa</td>\n",
              "      <td>1536</td>\n",
              "      <td>0.001769</td>\n",
              "      <td>1</td>\n",
              "      <td>1</td>\n",
              "      <td>3</td>\n",
              "      <td>0</td>\n",
              "    </tr>\n",
              "    <tr>\n",
              "      <th>3</th>\n",
              "      <td>Ġimage</td>\n",
              "      <td>1024</td>\n",
              "      <td>0.001707</td>\n",
              "      <td>1</td>\n",
              "      <td>1</td>\n",
              "      <td>4</td>\n",
              "      <td>0</td>\n",
              "    </tr>\n",
              "    <tr>\n",
              "      <th>4</th>\n",
              "      <td>ĠAt</td>\n",
              "      <td>1620</td>\n",
              "      <td>0.000963</td>\n",
              "      <td>1</td>\n",
              "      <td>1</td>\n",
              "      <td>5</td>\n",
              "      <td>0</td>\n",
              "    </tr>\n",
              "    <tr>\n",
              "      <th>...</th>\n",
              "      <td>...</td>\n",
              "      <td>...</td>\n",
              "      <td>...</td>\n",
              "      <td>...</td>\n",
              "      <td>...</td>\n",
              "      <td>...</td>\n",
              "      <td>...</td>\n",
              "    </tr>\n",
              "    <tr>\n",
              "      <th>1435</th>\n",
              "      <td>.</td>\n",
              "      <td>598</td>\n",
              "      <td>0.000075</td>\n",
              "      <td>12</td>\n",
              "      <td>12</td>\n",
              "      <td>6</td>\n",
              "      <td>0</td>\n",
              "    </tr>\n",
              "    <tr>\n",
              "      <th>1436</th>\n",
              "      <td>.</td>\n",
              "      <td>572</td>\n",
              "      <td>0.000066</td>\n",
              "      <td>12</td>\n",
              "      <td>12</td>\n",
              "      <td>7</td>\n",
              "      <td>0</td>\n",
              "    </tr>\n",
              "    <tr>\n",
              "      <th>1437</th>\n",
              "      <td>.</td>\n",
              "      <td>557</td>\n",
              "      <td>0.000062</td>\n",
              "      <td>12</td>\n",
              "      <td>12</td>\n",
              "      <td>8</td>\n",
              "      <td>0</td>\n",
              "    </tr>\n",
              "    <tr>\n",
              "      <th>1438</th>\n",
              "      <td>.</td>\n",
              "      <td>533</td>\n",
              "      <td>0.000056</td>\n",
              "      <td>12</td>\n",
              "      <td>12</td>\n",
              "      <td>9</td>\n",
              "      <td>0</td>\n",
              "    </tr>\n",
              "    <tr>\n",
              "      <th>1439</th>\n",
              "      <td>.</td>\n",
              "      <td>1140</td>\n",
              "      <td>0.000054</td>\n",
              "      <td>12</td>\n",
              "      <td>12</td>\n",
              "      <td>10</td>\n",
              "      <td>0</td>\n",
              "    </tr>\n",
              "  </tbody>\n",
              "</table>\n",
              "<p>1440 rows × 7 columns</p>\n",
              "</div>\n",
              "      <button class=\"colab-df-convert\" onclick=\"convertToInteractive('df-16cd024e-c678-4185-819a-14493ae47d11')\"\n",
              "              title=\"Convert this dataframe to an interactive table.\"\n",
              "              style=\"display:none;\">\n",
              "        \n",
              "  <svg xmlns=\"http://www.w3.org/2000/svg\" height=\"24px\"viewBox=\"0 0 24 24\"\n",
              "       width=\"24px\">\n",
              "    <path d=\"M0 0h24v24H0V0z\" fill=\"none\"/>\n",
              "    <path d=\"M18.56 5.44l.94 2.06.94-2.06 2.06-.94-2.06-.94-.94-2.06-.94 2.06-2.06.94zm-11 1L8.5 8.5l.94-2.06 2.06-.94-2.06-.94L8.5 2.5l-.94 2.06-2.06.94zm10 10l.94 2.06.94-2.06 2.06-.94-2.06-.94-.94-2.06-.94 2.06-2.06.94z\"/><path d=\"M17.41 7.96l-1.37-1.37c-.4-.4-.92-.59-1.43-.59-.52 0-1.04.2-1.43.59L10.3 9.45l-7.72 7.72c-.78.78-.78 2.05 0 2.83L4 21.41c.39.39.9.59 1.41.59.51 0 1.02-.2 1.41-.59l7.78-7.78 2.81-2.81c.8-.78.8-2.07 0-2.86zM5.41 20L4 18.59l7.72-7.72 1.47 1.35L5.41 20z\"/>\n",
              "  </svg>\n",
              "      </button>\n",
              "      \n",
              "  <style>\n",
              "    .colab-df-container {\n",
              "      display:flex;\n",
              "      flex-wrap:wrap;\n",
              "      gap: 12px;\n",
              "    }\n",
              "\n",
              "    .colab-df-convert {\n",
              "      background-color: #E8F0FE;\n",
              "      border: none;\n",
              "      border-radius: 50%;\n",
              "      cursor: pointer;\n",
              "      display: none;\n",
              "      fill: #1967D2;\n",
              "      height: 32px;\n",
              "      padding: 0 0 0 0;\n",
              "      width: 32px;\n",
              "    }\n",
              "\n",
              "    .colab-df-convert:hover {\n",
              "      background-color: #E2EBFA;\n",
              "      box-shadow: 0px 1px 2px rgba(60, 64, 67, 0.3), 0px 1px 3px 1px rgba(60, 64, 67, 0.15);\n",
              "      fill: #174EA6;\n",
              "    }\n",
              "\n",
              "    [theme=dark] .colab-df-convert {\n",
              "      background-color: #3B4455;\n",
              "      fill: #D2E3FC;\n",
              "    }\n",
              "\n",
              "    [theme=dark] .colab-df-convert:hover {\n",
              "      background-color: #434B5C;\n",
              "      box-shadow: 0px 1px 3px 1px rgba(0, 0, 0, 0.15);\n",
              "      filter: drop-shadow(0px 1px 2px rgba(0, 0, 0, 0.3));\n",
              "      fill: #FFFFFF;\n",
              "    }\n",
              "  </style>\n",
              "\n",
              "      <script>\n",
              "        const buttonEl =\n",
              "          document.querySelector('#df-16cd024e-c678-4185-819a-14493ae47d11 button.colab-df-convert');\n",
              "        buttonEl.style.display =\n",
              "          google.colab.kernel.accessAllowed ? 'block' : 'none';\n",
              "\n",
              "        async function convertToInteractive(key) {\n",
              "          const element = document.querySelector('#df-16cd024e-c678-4185-819a-14493ae47d11');\n",
              "          const dataTable =\n",
              "            await google.colab.kernel.invokeFunction('convertToInteractive',\n",
              "                                                     [key], {});\n",
              "          if (!dataTable) return;\n",
              "\n",
              "          const docLinkHtml = 'Like what you see? Visit the ' +\n",
              "            '<a target=\"_blank\" href=https://colab.research.google.com/notebooks/data_table.ipynb>data table notebook</a>'\n",
              "            + ' to learn more about interactive tables.';\n",
              "          element.innerHTML = '';\n",
              "          dataTable['output_type'] = 'display_data';\n",
              "          await google.colab.output.renderOutput(dataTable, element);\n",
              "          const docLink = document.createElement('div');\n",
              "          docLink.innerHTML = docLinkHtml;\n",
              "          element.appendChild(docLink);\n",
              "        }\n",
              "      </script>\n",
              "    </div>\n",
              "  </div>\n",
              "  "
            ]
          },
          "metadata": {},
          "execution_count": 136
        }
      ]
    },
    {
      "cell_type": "markdown",
      "source": [
        "Using this, we could get visualizations such as seeing the trend of the topk token's attentions across layers or heads."
      ],
      "metadata": {
        "id": "wXzU3ayvG7vH"
      },
      "id": "wXzU3ayvG7vH"
    },
    {
      "cell_type": "code",
      "source": [
        "df_highest[df_highest[\"layer\"]==12]"
      ],
      "metadata": {
        "colab": {
          "base_uri": "https://localhost:8080/",
          "height": 424
        },
        "id": "fdz5ZJ_RIfSA",
        "outputId": "6cfe2560-c7e3-4fa0-baa6-b7efdb89599f"
      },
      "id": "fdz5ZJ_RIfSA",
      "execution_count": 137,
      "outputs": [
        {
          "output_type": "execute_result",
          "data": {
            "text/plain": [
              "     token  position  attention_scores  layer  head  rank  batch\n",
              "1320     .       979          0.000445     12     1     1      0\n",
              "1321     .       669          0.000438     12     1     2      0\n",
              "1322     .      1017          0.000433     12     1     3      0\n",
              "1323     .      1044          0.000431     12     1     4      0\n",
              "1324     .      1072          0.000406     12     1     5      0\n",
              "...    ...       ...               ...    ...   ...   ...    ...\n",
              "1435     .       598          0.000075     12    12     6      0\n",
              "1436     .       572          0.000066     12    12     7      0\n",
              "1437     .       557          0.000062     12    12     8      0\n",
              "1438     .       533          0.000056     12    12     9      0\n",
              "1439     .      1140          0.000054     12    12    10      0\n",
              "\n",
              "[120 rows x 7 columns]"
            ],
            "text/html": [
              "\n",
              "  <div id=\"df-9d4e0101-7012-4fee-8a38-fd473cce987e\">\n",
              "    <div class=\"colab-df-container\">\n",
              "      <div>\n",
              "<style scoped>\n",
              "    .dataframe tbody tr th:only-of-type {\n",
              "        vertical-align: middle;\n",
              "    }\n",
              "\n",
              "    .dataframe tbody tr th {\n",
              "        vertical-align: top;\n",
              "    }\n",
              "\n",
              "    .dataframe thead th {\n",
              "        text-align: right;\n",
              "    }\n",
              "</style>\n",
              "<table border=\"1\" class=\"dataframe\">\n",
              "  <thead>\n",
              "    <tr style=\"text-align: right;\">\n",
              "      <th></th>\n",
              "      <th>token</th>\n",
              "      <th>position</th>\n",
              "      <th>attention_scores</th>\n",
              "      <th>layer</th>\n",
              "      <th>head</th>\n",
              "      <th>rank</th>\n",
              "      <th>batch</th>\n",
              "    </tr>\n",
              "  </thead>\n",
              "  <tbody>\n",
              "    <tr>\n",
              "      <th>1320</th>\n",
              "      <td>.</td>\n",
              "      <td>979</td>\n",
              "      <td>0.000445</td>\n",
              "      <td>12</td>\n",
              "      <td>1</td>\n",
              "      <td>1</td>\n",
              "      <td>0</td>\n",
              "    </tr>\n",
              "    <tr>\n",
              "      <th>1321</th>\n",
              "      <td>.</td>\n",
              "      <td>669</td>\n",
              "      <td>0.000438</td>\n",
              "      <td>12</td>\n",
              "      <td>1</td>\n",
              "      <td>2</td>\n",
              "      <td>0</td>\n",
              "    </tr>\n",
              "    <tr>\n",
              "      <th>1322</th>\n",
              "      <td>.</td>\n",
              "      <td>1017</td>\n",
              "      <td>0.000433</td>\n",
              "      <td>12</td>\n",
              "      <td>1</td>\n",
              "      <td>3</td>\n",
              "      <td>0</td>\n",
              "    </tr>\n",
              "    <tr>\n",
              "      <th>1323</th>\n",
              "      <td>.</td>\n",
              "      <td>1044</td>\n",
              "      <td>0.000431</td>\n",
              "      <td>12</td>\n",
              "      <td>1</td>\n",
              "      <td>4</td>\n",
              "      <td>0</td>\n",
              "    </tr>\n",
              "    <tr>\n",
              "      <th>1324</th>\n",
              "      <td>.</td>\n",
              "      <td>1072</td>\n",
              "      <td>0.000406</td>\n",
              "      <td>12</td>\n",
              "      <td>1</td>\n",
              "      <td>5</td>\n",
              "      <td>0</td>\n",
              "    </tr>\n",
              "    <tr>\n",
              "      <th>...</th>\n",
              "      <td>...</td>\n",
              "      <td>...</td>\n",
              "      <td>...</td>\n",
              "      <td>...</td>\n",
              "      <td>...</td>\n",
              "      <td>...</td>\n",
              "      <td>...</td>\n",
              "    </tr>\n",
              "    <tr>\n",
              "      <th>1435</th>\n",
              "      <td>.</td>\n",
              "      <td>598</td>\n",
              "      <td>0.000075</td>\n",
              "      <td>12</td>\n",
              "      <td>12</td>\n",
              "      <td>6</td>\n",
              "      <td>0</td>\n",
              "    </tr>\n",
              "    <tr>\n",
              "      <th>1436</th>\n",
              "      <td>.</td>\n",
              "      <td>572</td>\n",
              "      <td>0.000066</td>\n",
              "      <td>12</td>\n",
              "      <td>12</td>\n",
              "      <td>7</td>\n",
              "      <td>0</td>\n",
              "    </tr>\n",
              "    <tr>\n",
              "      <th>1437</th>\n",
              "      <td>.</td>\n",
              "      <td>557</td>\n",
              "      <td>0.000062</td>\n",
              "      <td>12</td>\n",
              "      <td>12</td>\n",
              "      <td>8</td>\n",
              "      <td>0</td>\n",
              "    </tr>\n",
              "    <tr>\n",
              "      <th>1438</th>\n",
              "      <td>.</td>\n",
              "      <td>533</td>\n",
              "      <td>0.000056</td>\n",
              "      <td>12</td>\n",
              "      <td>12</td>\n",
              "      <td>9</td>\n",
              "      <td>0</td>\n",
              "    </tr>\n",
              "    <tr>\n",
              "      <th>1439</th>\n",
              "      <td>.</td>\n",
              "      <td>1140</td>\n",
              "      <td>0.000054</td>\n",
              "      <td>12</td>\n",
              "      <td>12</td>\n",
              "      <td>10</td>\n",
              "      <td>0</td>\n",
              "    </tr>\n",
              "  </tbody>\n",
              "</table>\n",
              "<p>120 rows × 7 columns</p>\n",
              "</div>\n",
              "      <button class=\"colab-df-convert\" onclick=\"convertToInteractive('df-9d4e0101-7012-4fee-8a38-fd473cce987e')\"\n",
              "              title=\"Convert this dataframe to an interactive table.\"\n",
              "              style=\"display:none;\">\n",
              "        \n",
              "  <svg xmlns=\"http://www.w3.org/2000/svg\" height=\"24px\"viewBox=\"0 0 24 24\"\n",
              "       width=\"24px\">\n",
              "    <path d=\"M0 0h24v24H0V0z\" fill=\"none\"/>\n",
              "    <path d=\"M18.56 5.44l.94 2.06.94-2.06 2.06-.94-2.06-.94-.94-2.06-.94 2.06-2.06.94zm-11 1L8.5 8.5l.94-2.06 2.06-.94-2.06-.94L8.5 2.5l-.94 2.06-2.06.94zm10 10l.94 2.06.94-2.06 2.06-.94-2.06-.94-.94-2.06-.94 2.06-2.06.94z\"/><path d=\"M17.41 7.96l-1.37-1.37c-.4-.4-.92-.59-1.43-.59-.52 0-1.04.2-1.43.59L10.3 9.45l-7.72 7.72c-.78.78-.78 2.05 0 2.83L4 21.41c.39.39.9.59 1.41.59.51 0 1.02-.2 1.41-.59l7.78-7.78 2.81-2.81c.8-.78.8-2.07 0-2.86zM5.41 20L4 18.59l7.72-7.72 1.47 1.35L5.41 20z\"/>\n",
              "  </svg>\n",
              "      </button>\n",
              "      \n",
              "  <style>\n",
              "    .colab-df-container {\n",
              "      display:flex;\n",
              "      flex-wrap:wrap;\n",
              "      gap: 12px;\n",
              "    }\n",
              "\n",
              "    .colab-df-convert {\n",
              "      background-color: #E8F0FE;\n",
              "      border: none;\n",
              "      border-radius: 50%;\n",
              "      cursor: pointer;\n",
              "      display: none;\n",
              "      fill: #1967D2;\n",
              "      height: 32px;\n",
              "      padding: 0 0 0 0;\n",
              "      width: 32px;\n",
              "    }\n",
              "\n",
              "    .colab-df-convert:hover {\n",
              "      background-color: #E2EBFA;\n",
              "      box-shadow: 0px 1px 2px rgba(60, 64, 67, 0.3), 0px 1px 3px 1px rgba(60, 64, 67, 0.15);\n",
              "      fill: #174EA6;\n",
              "    }\n",
              "\n",
              "    [theme=dark] .colab-df-convert {\n",
              "      background-color: #3B4455;\n",
              "      fill: #D2E3FC;\n",
              "    }\n",
              "\n",
              "    [theme=dark] .colab-df-convert:hover {\n",
              "      background-color: #434B5C;\n",
              "      box-shadow: 0px 1px 3px 1px rgba(0, 0, 0, 0.15);\n",
              "      filter: drop-shadow(0px 1px 2px rgba(0, 0, 0, 0.3));\n",
              "      fill: #FFFFFF;\n",
              "    }\n",
              "  </style>\n",
              "\n",
              "      <script>\n",
              "        const buttonEl =\n",
              "          document.querySelector('#df-9d4e0101-7012-4fee-8a38-fd473cce987e button.colab-df-convert');\n",
              "        buttonEl.style.display =\n",
              "          google.colab.kernel.accessAllowed ? 'block' : 'none';\n",
              "\n",
              "        async function convertToInteractive(key) {\n",
              "          const element = document.querySelector('#df-9d4e0101-7012-4fee-8a38-fd473cce987e');\n",
              "          const dataTable =\n",
              "            await google.colab.kernel.invokeFunction('convertToInteractive',\n",
              "                                                     [key], {});\n",
              "          if (!dataTable) return;\n",
              "\n",
              "          const docLinkHtml = 'Like what you see? Visit the ' +\n",
              "            '<a target=\"_blank\" href=https://colab.research.google.com/notebooks/data_table.ipynb>data table notebook</a>'\n",
              "            + ' to learn more about interactive tables.';\n",
              "          element.innerHTML = '';\n",
              "          dataTable['output_type'] = 'display_data';\n",
              "          await google.colab.output.renderOutput(dataTable, element);\n",
              "          const docLink = document.createElement('div');\n",
              "          docLink.innerHTML = docLinkHtml;\n",
              "          element.appendChild(docLink);\n",
              "        }\n",
              "      </script>\n",
              "    </div>\n",
              "  </div>\n",
              "  "
            ]
          },
          "metadata": {},
          "execution_count": 137
        }
      ]
    },
    {
      "cell_type": "markdown",
      "source": [
        "We can visualize the results using Pandas and seaborn (extension of matplotlib) by creating the dataframe you wish to visualize and setting your x,y values with the appropriate column(s). We import ipywidgets so we have a degree of control over what visualizations we want to look at without having to constantly rerun the code. Primarily we want the select multiple widget as we have many heads and layers that we may possibly want to examine the trends for. \n",
        "\n",
        "**We are assuming that there is only one example in the batch.**"
      ],
      "metadata": {
        "id": "0q3jqu51cjQ7"
      },
      "id": "0q3jqu51cjQ7"
    },
    {
      "cell_type": "code",
      "source": [
        "head_values = range(1,13)\n",
        "layer_values = range(1,13)\n",
        "\n",
        "import ipywidgets as widgets\n",
        "\n",
        "ddhead = widgets.SelectMultiple(\n",
        "    options=head_values,\n",
        "    #rows=10,\n",
        "    description='heads',\n",
        "    disabled=False\n",
        ")\n",
        "ddlayer = widgets.SelectMultiple(\n",
        "    options=layer_values,\n",
        "    #rows=10,\n",
        "    description='layer',\n",
        "    disabled=False\n",
        ")\n"
      ],
      "metadata": {
        "id": "f1PxxP2JTV9i"
      },
      "id": "f1PxxP2JTV9i",
      "execution_count": 138,
      "outputs": []
    },
    {
      "cell_type": "markdown",
      "source": [
        "Here we plot the trend of attentions for the topk tokens across any and all heads and any and all layers. We create a function that filters the dataframe based on the values you select and creates a lineplot to visualize the trend. You can select which head you want or what layer you want by clicking on the corresponding item in the list. The scale of the y-axis will adjust accordingly depending on your selection, but can be fixed if needed. Selecting multiple heads and layers may take a bit to process."
      ],
      "metadata": {
        "id": "odRXpEXmelaV"
      },
      "id": "odRXpEXmelaV"
    },
    {
      "cell_type": "code",
      "source": [
        "import seaborn as sns\n",
        "import matplotlib.pyplot as plt\n",
        "\n",
        "ui = widgets.HBox([ddhead,ddlayer])\n",
        "\n",
        "def drawplot(layer, head):\n",
        "  sns.set(rc = {'figure.figsize':(40,15)})\n",
        "\n",
        "  # if you want to keep the scale consistent for any config, uncomment this line\n",
        "  # plt.ylim(-0.01, 1.05)\n",
        "  \n",
        "  sns.lineplot(x= 'rank', y = \"attention_scores\", data=df_highest[(df_highest['layer'].isin(layer)) & (df_highest['head'].isin(head))], hue='layer', style='head', palette='viridis', legend='full')\n",
        "\n",
        "out= widgets.interactive_output(drawplot, {'layer':ddlayer, 'head':ddhead})\n",
        "display(ui,out)"
      ],
      "metadata": {
        "colab": {
          "base_uri": "https://localhost:8080/",
          "height": 977,
          "referenced_widgets": [
            "6120f813552d48af9e8d5d5af369ea1c",
            "e7e308eae9254a7b94edcb2747b64b91",
            "9a7fd970326a4cafac3242914b3aff5e",
            "db4f775aa3724b9aa1c4d8172513641e",
            "df9dbf999685494fa25402de684bbb6f",
            "2cf0d7ceb0e94ff4b287ca7d04581276",
            "765bac116f28408c954d0bc61334d7af",
            "15492bcfa96a40df86457ece37a6e779",
            "0c335aa497dc4477818c2bdfa08ab95f",
            "5c555d306b1c45659a33f5e014e266e4"
          ]
        },
        "id": "UUTKzi6LHHA2",
        "outputId": "a3acd211-344c-40ab-b7e8-8595152959e9"
      },
      "id": "UUTKzi6LHHA2",
      "execution_count": 163,
      "outputs": [
        {
          "output_type": "display_data",
          "data": {
            "text/plain": [
              "HBox(children=(SelectMultiple(description='heads', index=(0, 1, 2, 3, 4, 5, 6, 7, 8, 9, 10, 11), options=(1, 2…"
            ],
            "application/vnd.jupyter.widget-view+json": {
              "version_major": 2,
              "version_minor": 0,
              "model_id": "6120f813552d48af9e8d5d5af369ea1c"
            }
          },
          "metadata": {}
        },
        {
          "output_type": "display_data",
          "data": {
            "text/plain": [
              "Output()"
            ],
            "application/vnd.jupyter.widget-view+json": {
              "version_major": 2,
              "version_minor": 0,
              "model_id": "0c335aa497dc4477818c2bdfa08ab95f"
            }
          },
          "metadata": {}
        }
      ]
    },
    {
      "cell_type": "markdown",
      "source": [
        "#### Selective Information\n",
        "\n",
        "We can get the attention of a token at a position for each layer and head as well as the rank of the token within that head. Take one example at a time as each example has different tokens. \n",
        "\n",
        "Pros: can isolate for layers and/or heads. Cons: not much context for the attention scores"
      ],
      "metadata": {
        "id": "rL1qTv1W8ugZ"
      },
      "id": "rL1qTv1W8ugZ"
    },
    {
      "cell_type": "markdown",
      "source": [
        "`position_attention` takes in 4 inputs. It takes in a matrix of shape (layer, batch, head, seq_len), the position you wish to look at, the tensor of input_ids used for prediction and an example number. The example number again serves only to pick an example from the batch and if not used, will iterate over all batches. We use these matrices to create a Pandas Dataframe, where each row of the dataframe contains a token, the position the token, the value of the current token, and the rank of the token w.r.t. the current layer, head and batch. We also save the layer number, the head number and the batch in the dataframe for each row. \n",
        "\n",
        "While this looks similar to the previous dataframe, this is restricted to what particular position you pass in as an argument and may show you tokens with a rank number higher than your threshold"
      ],
      "metadata": {
        "id": "OXRpi0V-81A7"
      },
      "id": "OXRpi0V-81A7"
    },
    {
      "cell_type": "code",
      "source": [
        "def position_attention(agg_matrix, position, example_ids, example=None):\n",
        "  dataframe = []\n",
        "  # Make sure our example is not out of range.\n",
        "  if example is not None:\n",
        "    assert example < agg_matrix.shape[1]\n",
        "\n",
        "  if example is not None:\n",
        "    new_mat = agg_matrix[:, example, :]\n",
        "    all_tokens = tokenizer.convert_ids_to_tokens(example_ids[example])\n",
        "    new_mat = new_mat.squeeze()\n",
        "    #layer\n",
        "    for i in range(new_mat.shape[0]):\n",
        "      #head\n",
        "      for j in range(new_mat.shape[1]):\n",
        "        temp = new_mat[i,j].argsort()[::-1]\n",
        "        temp = np.where(temp==position)[0].squeeze() + 1\n",
        "        d = {\"token\":all_tokens[position], 'position':position, \n",
        "            'attention_scores':new_mat[i,j,position], 'layer':(i+1), 'head':(j+1),\n",
        "            'rank':temp, 'batch':example}\n",
        "        dataframe.append(d)\n",
        "  else:\n",
        "    new_mat = agg_matrix\n",
        "    #layer\n",
        "    for i in range(new_mat.shape[0]):\n",
        "      #batch\n",
        "      for j in range(new_mat.shape[1]):\n",
        "        all_tokens = tokenizer.convert_ids_to_tokens(example_ids[j])\n",
        "        #head\n",
        "        for k in range(new_mat.shape[2]):\n",
        "          temp = new_mat[i,j,k].argsort()[::-1]\n",
        "          temp = np.where(temp==position)[0].squeeze() + 1\n",
        "          d = {\"token\":all_tokens[position], 'position':position, \n",
        "              'attention_scores':new_mat[i,j,k,position], 'layer':(i+1), 'head':(k+1),\n",
        "              'rank':temp, 'batch':j}\n",
        "          dataframe.append(d)\n",
        "  df = pd.DataFrame(dataframe)\n",
        "  return df"
      ],
      "metadata": {
        "id": "jrjjYyR-siot"
      },
      "id": "jrjjYyR-siot",
      "execution_count": 140,
      "outputs": []
    },
    {
      "cell_type": "code",
      "source": [
        "position_df = position_attention(attention_matrix_importance, 0, testexam[\"input_ids\"], 0)\n",
        "position_df[position_df[\"head\"]==9]"
      ],
      "metadata": {
        "id": "YpSZKQ0nvt5T",
        "colab": {
          "base_uri": "https://localhost:8080/",
          "height": 426
        },
        "outputId": "1843d843-2542-45d8-d435-98ad8061632b"
      },
      "id": "YpSZKQ0nvt5T",
      "execution_count": 141,
      "outputs": [
        {
          "output_type": "execute_result",
          "data": {
            "text/plain": [
              "    token  position  attention_scores  layer  head  rank  batch\n",
              "8     <s>         0          0.005812      1     9     1      0\n",
              "20    <s>         0          0.168136      2     9     1      0\n",
              "32    <s>         0          1.000000      3     9     1      0\n",
              "44    <s>         0          0.245377      4     9     1      0\n",
              "56    <s>         0          0.003641      5     9     1      0\n",
              "68    <s>         0          0.002444      6     9     1      0\n",
              "80    <s>         0          0.000698      7     9    40      0\n",
              "92    <s>         0          0.000163      8     9     1      0\n",
              "104   <s>         0          0.000002      9     9    49      0\n",
              "116   <s>         0          0.000002     10     9   176      0\n",
              "128   <s>         0          0.000010     11     9   359      0\n",
              "140   <s>         0          0.000345     12     9     2      0"
            ],
            "text/html": [
              "\n",
              "  <div id=\"df-353535f6-039d-4975-a5f4-27af597ed38b\">\n",
              "    <div class=\"colab-df-container\">\n",
              "      <div>\n",
              "<style scoped>\n",
              "    .dataframe tbody tr th:only-of-type {\n",
              "        vertical-align: middle;\n",
              "    }\n",
              "\n",
              "    .dataframe tbody tr th {\n",
              "        vertical-align: top;\n",
              "    }\n",
              "\n",
              "    .dataframe thead th {\n",
              "        text-align: right;\n",
              "    }\n",
              "</style>\n",
              "<table border=\"1\" class=\"dataframe\">\n",
              "  <thead>\n",
              "    <tr style=\"text-align: right;\">\n",
              "      <th></th>\n",
              "      <th>token</th>\n",
              "      <th>position</th>\n",
              "      <th>attention_scores</th>\n",
              "      <th>layer</th>\n",
              "      <th>head</th>\n",
              "      <th>rank</th>\n",
              "      <th>batch</th>\n",
              "    </tr>\n",
              "  </thead>\n",
              "  <tbody>\n",
              "    <tr>\n",
              "      <th>8</th>\n",
              "      <td>&lt;s&gt;</td>\n",
              "      <td>0</td>\n",
              "      <td>0.005812</td>\n",
              "      <td>1</td>\n",
              "      <td>9</td>\n",
              "      <td>1</td>\n",
              "      <td>0</td>\n",
              "    </tr>\n",
              "    <tr>\n",
              "      <th>20</th>\n",
              "      <td>&lt;s&gt;</td>\n",
              "      <td>0</td>\n",
              "      <td>0.168136</td>\n",
              "      <td>2</td>\n",
              "      <td>9</td>\n",
              "      <td>1</td>\n",
              "      <td>0</td>\n",
              "    </tr>\n",
              "    <tr>\n",
              "      <th>32</th>\n",
              "      <td>&lt;s&gt;</td>\n",
              "      <td>0</td>\n",
              "      <td>1.000000</td>\n",
              "      <td>3</td>\n",
              "      <td>9</td>\n",
              "      <td>1</td>\n",
              "      <td>0</td>\n",
              "    </tr>\n",
              "    <tr>\n",
              "      <th>44</th>\n",
              "      <td>&lt;s&gt;</td>\n",
              "      <td>0</td>\n",
              "      <td>0.245377</td>\n",
              "      <td>4</td>\n",
              "      <td>9</td>\n",
              "      <td>1</td>\n",
              "      <td>0</td>\n",
              "    </tr>\n",
              "    <tr>\n",
              "      <th>56</th>\n",
              "      <td>&lt;s&gt;</td>\n",
              "      <td>0</td>\n",
              "      <td>0.003641</td>\n",
              "      <td>5</td>\n",
              "      <td>9</td>\n",
              "      <td>1</td>\n",
              "      <td>0</td>\n",
              "    </tr>\n",
              "    <tr>\n",
              "      <th>68</th>\n",
              "      <td>&lt;s&gt;</td>\n",
              "      <td>0</td>\n",
              "      <td>0.002444</td>\n",
              "      <td>6</td>\n",
              "      <td>9</td>\n",
              "      <td>1</td>\n",
              "      <td>0</td>\n",
              "    </tr>\n",
              "    <tr>\n",
              "      <th>80</th>\n",
              "      <td>&lt;s&gt;</td>\n",
              "      <td>0</td>\n",
              "      <td>0.000698</td>\n",
              "      <td>7</td>\n",
              "      <td>9</td>\n",
              "      <td>40</td>\n",
              "      <td>0</td>\n",
              "    </tr>\n",
              "    <tr>\n",
              "      <th>92</th>\n",
              "      <td>&lt;s&gt;</td>\n",
              "      <td>0</td>\n",
              "      <td>0.000163</td>\n",
              "      <td>8</td>\n",
              "      <td>9</td>\n",
              "      <td>1</td>\n",
              "      <td>0</td>\n",
              "    </tr>\n",
              "    <tr>\n",
              "      <th>104</th>\n",
              "      <td>&lt;s&gt;</td>\n",
              "      <td>0</td>\n",
              "      <td>0.000002</td>\n",
              "      <td>9</td>\n",
              "      <td>9</td>\n",
              "      <td>49</td>\n",
              "      <td>0</td>\n",
              "    </tr>\n",
              "    <tr>\n",
              "      <th>116</th>\n",
              "      <td>&lt;s&gt;</td>\n",
              "      <td>0</td>\n",
              "      <td>0.000002</td>\n",
              "      <td>10</td>\n",
              "      <td>9</td>\n",
              "      <td>176</td>\n",
              "      <td>0</td>\n",
              "    </tr>\n",
              "    <tr>\n",
              "      <th>128</th>\n",
              "      <td>&lt;s&gt;</td>\n",
              "      <td>0</td>\n",
              "      <td>0.000010</td>\n",
              "      <td>11</td>\n",
              "      <td>9</td>\n",
              "      <td>359</td>\n",
              "      <td>0</td>\n",
              "    </tr>\n",
              "    <tr>\n",
              "      <th>140</th>\n",
              "      <td>&lt;s&gt;</td>\n",
              "      <td>0</td>\n",
              "      <td>0.000345</td>\n",
              "      <td>12</td>\n",
              "      <td>9</td>\n",
              "      <td>2</td>\n",
              "      <td>0</td>\n",
              "    </tr>\n",
              "  </tbody>\n",
              "</table>\n",
              "</div>\n",
              "      <button class=\"colab-df-convert\" onclick=\"convertToInteractive('df-353535f6-039d-4975-a5f4-27af597ed38b')\"\n",
              "              title=\"Convert this dataframe to an interactive table.\"\n",
              "              style=\"display:none;\">\n",
              "        \n",
              "  <svg xmlns=\"http://www.w3.org/2000/svg\" height=\"24px\"viewBox=\"0 0 24 24\"\n",
              "       width=\"24px\">\n",
              "    <path d=\"M0 0h24v24H0V0z\" fill=\"none\"/>\n",
              "    <path d=\"M18.56 5.44l.94 2.06.94-2.06 2.06-.94-2.06-.94-.94-2.06-.94 2.06-2.06.94zm-11 1L8.5 8.5l.94-2.06 2.06-.94-2.06-.94L8.5 2.5l-.94 2.06-2.06.94zm10 10l.94 2.06.94-2.06 2.06-.94-2.06-.94-.94-2.06-.94 2.06-2.06.94z\"/><path d=\"M17.41 7.96l-1.37-1.37c-.4-.4-.92-.59-1.43-.59-.52 0-1.04.2-1.43.59L10.3 9.45l-7.72 7.72c-.78.78-.78 2.05 0 2.83L4 21.41c.39.39.9.59 1.41.59.51 0 1.02-.2 1.41-.59l7.78-7.78 2.81-2.81c.8-.78.8-2.07 0-2.86zM5.41 20L4 18.59l7.72-7.72 1.47 1.35L5.41 20z\"/>\n",
              "  </svg>\n",
              "      </button>\n",
              "      \n",
              "  <style>\n",
              "    .colab-df-container {\n",
              "      display:flex;\n",
              "      flex-wrap:wrap;\n",
              "      gap: 12px;\n",
              "    }\n",
              "\n",
              "    .colab-df-convert {\n",
              "      background-color: #E8F0FE;\n",
              "      border: none;\n",
              "      border-radius: 50%;\n",
              "      cursor: pointer;\n",
              "      display: none;\n",
              "      fill: #1967D2;\n",
              "      height: 32px;\n",
              "      padding: 0 0 0 0;\n",
              "      width: 32px;\n",
              "    }\n",
              "\n",
              "    .colab-df-convert:hover {\n",
              "      background-color: #E2EBFA;\n",
              "      box-shadow: 0px 1px 2px rgba(60, 64, 67, 0.3), 0px 1px 3px 1px rgba(60, 64, 67, 0.15);\n",
              "      fill: #174EA6;\n",
              "    }\n",
              "\n",
              "    [theme=dark] .colab-df-convert {\n",
              "      background-color: #3B4455;\n",
              "      fill: #D2E3FC;\n",
              "    }\n",
              "\n",
              "    [theme=dark] .colab-df-convert:hover {\n",
              "      background-color: #434B5C;\n",
              "      box-shadow: 0px 1px 3px 1px rgba(0, 0, 0, 0.15);\n",
              "      filter: drop-shadow(0px 1px 2px rgba(0, 0, 0, 0.3));\n",
              "      fill: #FFFFFF;\n",
              "    }\n",
              "  </style>\n",
              "\n",
              "      <script>\n",
              "        const buttonEl =\n",
              "          document.querySelector('#df-353535f6-039d-4975-a5f4-27af597ed38b button.colab-df-convert');\n",
              "        buttonEl.style.display =\n",
              "          google.colab.kernel.accessAllowed ? 'block' : 'none';\n",
              "\n",
              "        async function convertToInteractive(key) {\n",
              "          const element = document.querySelector('#df-353535f6-039d-4975-a5f4-27af597ed38b');\n",
              "          const dataTable =\n",
              "            await google.colab.kernel.invokeFunction('convertToInteractive',\n",
              "                                                     [key], {});\n",
              "          if (!dataTable) return;\n",
              "\n",
              "          const docLinkHtml = 'Like what you see? Visit the ' +\n",
              "            '<a target=\"_blank\" href=https://colab.research.google.com/notebooks/data_table.ipynb>data table notebook</a>'\n",
              "            + ' to learn more about interactive tables.';\n",
              "          element.innerHTML = '';\n",
              "          dataTable['output_type'] = 'display_data';\n",
              "          await google.colab.output.renderOutput(dataTable, element);\n",
              "          const docLink = document.createElement('div');\n",
              "          docLink.innerHTML = docLinkHtml;\n",
              "          element.appendChild(docLink);\n",
              "        }\n",
              "      </script>\n",
              "    </div>\n",
              "  </div>\n",
              "  "
            ]
          },
          "metadata": {},
          "execution_count": 141
        }
      ]
    },
    {
      "cell_type": "markdown",
      "source": [
        "Here we are visualizing the attention distribution for the token at position 0 over all layers. We create a function that filters the dataframe based on the values you select and creates a scatterplot. Whatever values you selected will be displayed in the visualization. You can select which head you wish to visualize, and if you want to pick more than one, you can crtl-click or shift click to select multiple. The scale of the y-axis will adjust accordingly depending on your selection, but can be fixed if needed. Selecting multiple heads may take a bit to process."
      ],
      "metadata": {
        "id": "Crz4zrvr-o-o"
      },
      "id": "Crz4zrvr-o-o"
    },
    {
      "cell_type": "code",
      "source": [
        "ui2 = widgets.HBox([ddhead])\n",
        "\n",
        "def drawplot(head):\n",
        "  sns.set(rc = {'figure.figsize':(35,15)})\n",
        "\n",
        "  # if you want to keep the scale consistent for any config, uncomment this line\n",
        "  # plt.ylim(-0.01, 1.05)\n",
        "  \n",
        "  sns.scatterplot(x= 'layer', y = \"attention_scores\", data=position_df[position_df['head'].isin(head)], hue=\"head\", style='head', s=75, palette='viridis', legend='full')\n",
        "\n",
        "out2= widgets.interactive_output(drawplot, {'head':ddhead})\n",
        "display(ui2,out2)"
      ],
      "metadata": {
        "colab": {
          "base_uri": "https://localhost:8080/",
          "height": 977,
          "referenced_widgets": [
            "79a50962044c40ec9e7a7bdf78859584",
            "e7e308eae9254a7b94edcb2747b64b91",
            "b43dd6a76061448099a6cd715a642ab1",
            "df9dbf999685494fa25402de684bbb6f",
            "2cf0d7ceb0e94ff4b287ca7d04581276",
            "76f1fa7f7b164ae9b612151d0eddaacd",
            "d833e5a8f54d496b86ecbd1bca332921"
          ]
        },
        "id": "arbMEHsqEexa",
        "outputId": "23dc2c5e-acae-47a0-9dd5-66703ab8c5f4"
      },
      "id": "arbMEHsqEexa",
      "execution_count": 176,
      "outputs": [
        {
          "output_type": "display_data",
          "data": {
            "text/plain": [
              "HBox(children=(SelectMultiple(description='heads', index=(0, 1, 2, 3, 4, 5, 6, 7, 8, 9, 10, 11), options=(1, 2…"
            ],
            "application/vnd.jupyter.widget-view+json": {
              "version_major": 2,
              "version_minor": 0,
              "model_id": "79a50962044c40ec9e7a7bdf78859584"
            }
          },
          "metadata": {}
        },
        {
          "output_type": "display_data",
          "data": {
            "text/plain": [
              "Output()"
            ],
            "application/vnd.jupyter.widget-view+json": {
              "version_major": 2,
              "version_minor": 0,
              "model_id": "76f1fa7f7b164ae9b612151d0eddaacd"
            }
          },
          "metadata": {}
        }
      ]
    },
    {
      "cell_type": "markdown",
      "source": [
        "#### The Complete Package\n",
        "\n",
        "If really needed, you can just have the full matrix of the position, ranks, attention scores, layers, and heads of each token per example. \n",
        "\n",
        "Pros: can search up whatever is needed. Has access to all the information and can be extracted for comparisons like the previous two dataframes.\n",
        "\n",
        "Cons: have to know what you want and manually look it up."
      ],
      "metadata": {
        "id": "XwrbWhoC8bbv"
      },
      "id": "XwrbWhoC8bbv"
    },
    {
      "cell_type": "markdown",
      "source": [
        "`full_matrix` takes in 3 inputs. It takes in a matrix of shape (layer, batch, head, seq_len, k), the tensor of input_ids used for prediction and an example number. The example number again serves only to pick an example from the batch and if not used, will iterate over all batches. We use these matrices to create a Pandas Dataframe, where each row of the dataframe contains a token, the position the token, the value of the current token, and the rank of the token w.r.t. the current layer, head and batch. We also save the layer number, the head number and the batch in the dataframe. "
      ],
      "metadata": {
        "id": "7L4hHC9M-1PL"
      },
      "id": "7L4hHC9M-1PL"
    },
    {
      "cell_type": "code",
      "source": [
        "def full_matrix(agg_matrix, example_ids, example=None):\n",
        "  dataframe=[]\n",
        "\n",
        "  if example is not None:\n",
        "    new_mat = agg_matrix[:, example]\n",
        "    new_mat = new_mat.squeeze()\n",
        "    print(new_mat.shape)\n",
        "    all_tokens = tokenizer.convert_ids_to_tokens(example_ids[example])\n",
        "\n",
        "    #layer\n",
        "    for i in range(new_mat.shape[0]):\n",
        "      #head\n",
        "      for j in range(new_mat.shape[1]):\n",
        "        temp = new_mat[i,j].argsort()[::-1]      \n",
        "        #token\n",
        "        for k in range(new_mat.shape[2]):\n",
        "          temp2 = np.where(temp==k)[0].squeeze() + 1\n",
        "          d = {\"token\":all_tokens[k], 'position':k, \n",
        "              'attention_scores':new_mat[i,j,k], 'layer':(i+1), 'head':(j+1),\n",
        "              'rank':temp2}\n",
        "          dataframe.append(d)\n",
        "  else:\n",
        "    new_mat = agg_matrix\n",
        "    print(new_mat.shape)\n",
        "    \n",
        "    #layer\n",
        "    for i in range(new_mat.shape[0]):\n",
        "      #batch\n",
        "      for j in range(new_mat.shape[1]):\n",
        "\n",
        "        all_tokens = tokenizer.convert_ids_to_tokens(example_ids[j])\n",
        "\n",
        "        #head\n",
        "        for k in range(new_mat.shape[2]):\n",
        "          temp = new_mat[i,j,k].argsort()[::-1]      \n",
        "          #token\n",
        "          for x in range(new_mat.shape[3]):\n",
        "            temp2 = np.where(temp==x)[0].squeeze() + 1\n",
        "            d = {\"token\":all_tokens[x], 'position':x, \n",
        "                'attention_scores':new_mat[i,j,k,x], 'layer':(i+1), 'head':(k+1),\n",
        "                'rank':temp2, 'batch':j}\n",
        "            dataframe.append(d)\n",
        "  df = pd.DataFrame(dataframe)\n",
        "  return df"
      ],
      "metadata": {
        "id": "n8WZcz_w7Chc"
      },
      "id": "n8WZcz_w7Chc",
      "execution_count": 143,
      "outputs": []
    },
    {
      "cell_type": "code",
      "source": [
        "full_mat = full_matrix(attention_matrix_importance, testexam[\"input_ids\"])"
      ],
      "metadata": {
        "id": "mn8NifO00kND",
        "colab": {
          "base_uri": "https://localhost:8080/"
        },
        "outputId": "a43e56bd-d4e0-438c-b7dd-48b04f99078b"
      },
      "id": "mn8NifO00kND",
      "execution_count": 144,
      "outputs": [
        {
          "output_type": "stream",
          "name": "stdout",
          "text": [
            "(12, 1, 12, 2048)\n"
          ]
        }
      ]
    },
    {
      "cell_type": "code",
      "source": [
        "full_mat[full_mat['layer']==12]"
      ],
      "metadata": {
        "id": "-kn2bEWf8BN0",
        "colab": {
          "base_uri": "https://localhost:8080/",
          "height": 424
        },
        "outputId": "197e460e-2351-488b-fd97-2d2dc4cf3877"
      },
      "id": "-kn2bEWf8BN0",
      "execution_count": 145,
      "outputs": [
        {
          "output_type": "execute_result",
          "data": {
            "text/plain": [
              "              token  position  attention_scores  layer  head  rank  batch\n",
              "270336          <s>         0          0.000010     12     1   326      0\n",
              "270337    Published         1          0.000021     12     1    79      0\n",
              "270338          Ġas         2          0.000006     12     1   631      0\n",
              "270339           Ġa         3          0.000003     12     1  1112      0\n",
              "270340  Ġconference         4          0.000003     12     1  1253      0\n",
              "...             ...       ...               ...    ...   ...   ...    ...\n",
              "294907    Ġgenerate      2043          0.000002     12    12   800      0\n",
              "294908        Ġreal      2044          0.000001     12    12  1252      0\n",
              "294909      Ġimages      2045          0.000002     12    12  1007      0\n",
              "294910            ,      2046          0.000003     12    12   699      0\n",
              "294911         </s>      2047          0.000001     12    12  1354      0\n",
              "\n",
              "[24576 rows x 7 columns]"
            ],
            "text/html": [
              "\n",
              "  <div id=\"df-3fa0f90f-298a-431f-92f3-a05d3bcb48aa\">\n",
              "    <div class=\"colab-df-container\">\n",
              "      <div>\n",
              "<style scoped>\n",
              "    .dataframe tbody tr th:only-of-type {\n",
              "        vertical-align: middle;\n",
              "    }\n",
              "\n",
              "    .dataframe tbody tr th {\n",
              "        vertical-align: top;\n",
              "    }\n",
              "\n",
              "    .dataframe thead th {\n",
              "        text-align: right;\n",
              "    }\n",
              "</style>\n",
              "<table border=\"1\" class=\"dataframe\">\n",
              "  <thead>\n",
              "    <tr style=\"text-align: right;\">\n",
              "      <th></th>\n",
              "      <th>token</th>\n",
              "      <th>position</th>\n",
              "      <th>attention_scores</th>\n",
              "      <th>layer</th>\n",
              "      <th>head</th>\n",
              "      <th>rank</th>\n",
              "      <th>batch</th>\n",
              "    </tr>\n",
              "  </thead>\n",
              "  <tbody>\n",
              "    <tr>\n",
              "      <th>270336</th>\n",
              "      <td>&lt;s&gt;</td>\n",
              "      <td>0</td>\n",
              "      <td>0.000010</td>\n",
              "      <td>12</td>\n",
              "      <td>1</td>\n",
              "      <td>326</td>\n",
              "      <td>0</td>\n",
              "    </tr>\n",
              "    <tr>\n",
              "      <th>270337</th>\n",
              "      <td>Published</td>\n",
              "      <td>1</td>\n",
              "      <td>0.000021</td>\n",
              "      <td>12</td>\n",
              "      <td>1</td>\n",
              "      <td>79</td>\n",
              "      <td>0</td>\n",
              "    </tr>\n",
              "    <tr>\n",
              "      <th>270338</th>\n",
              "      <td>Ġas</td>\n",
              "      <td>2</td>\n",
              "      <td>0.000006</td>\n",
              "      <td>12</td>\n",
              "      <td>1</td>\n",
              "      <td>631</td>\n",
              "      <td>0</td>\n",
              "    </tr>\n",
              "    <tr>\n",
              "      <th>270339</th>\n",
              "      <td>Ġa</td>\n",
              "      <td>3</td>\n",
              "      <td>0.000003</td>\n",
              "      <td>12</td>\n",
              "      <td>1</td>\n",
              "      <td>1112</td>\n",
              "      <td>0</td>\n",
              "    </tr>\n",
              "    <tr>\n",
              "      <th>270340</th>\n",
              "      <td>Ġconference</td>\n",
              "      <td>4</td>\n",
              "      <td>0.000003</td>\n",
              "      <td>12</td>\n",
              "      <td>1</td>\n",
              "      <td>1253</td>\n",
              "      <td>0</td>\n",
              "    </tr>\n",
              "    <tr>\n",
              "      <th>...</th>\n",
              "      <td>...</td>\n",
              "      <td>...</td>\n",
              "      <td>...</td>\n",
              "      <td>...</td>\n",
              "      <td>...</td>\n",
              "      <td>...</td>\n",
              "      <td>...</td>\n",
              "    </tr>\n",
              "    <tr>\n",
              "      <th>294907</th>\n",
              "      <td>Ġgenerate</td>\n",
              "      <td>2043</td>\n",
              "      <td>0.000002</td>\n",
              "      <td>12</td>\n",
              "      <td>12</td>\n",
              "      <td>800</td>\n",
              "      <td>0</td>\n",
              "    </tr>\n",
              "    <tr>\n",
              "      <th>294908</th>\n",
              "      <td>Ġreal</td>\n",
              "      <td>2044</td>\n",
              "      <td>0.000001</td>\n",
              "      <td>12</td>\n",
              "      <td>12</td>\n",
              "      <td>1252</td>\n",
              "      <td>0</td>\n",
              "    </tr>\n",
              "    <tr>\n",
              "      <th>294909</th>\n",
              "      <td>Ġimages</td>\n",
              "      <td>2045</td>\n",
              "      <td>0.000002</td>\n",
              "      <td>12</td>\n",
              "      <td>12</td>\n",
              "      <td>1007</td>\n",
              "      <td>0</td>\n",
              "    </tr>\n",
              "    <tr>\n",
              "      <th>294910</th>\n",
              "      <td>,</td>\n",
              "      <td>2046</td>\n",
              "      <td>0.000003</td>\n",
              "      <td>12</td>\n",
              "      <td>12</td>\n",
              "      <td>699</td>\n",
              "      <td>0</td>\n",
              "    </tr>\n",
              "    <tr>\n",
              "      <th>294911</th>\n",
              "      <td>&lt;/s&gt;</td>\n",
              "      <td>2047</td>\n",
              "      <td>0.000001</td>\n",
              "      <td>12</td>\n",
              "      <td>12</td>\n",
              "      <td>1354</td>\n",
              "      <td>0</td>\n",
              "    </tr>\n",
              "  </tbody>\n",
              "</table>\n",
              "<p>24576 rows × 7 columns</p>\n",
              "</div>\n",
              "      <button class=\"colab-df-convert\" onclick=\"convertToInteractive('df-3fa0f90f-298a-431f-92f3-a05d3bcb48aa')\"\n",
              "              title=\"Convert this dataframe to an interactive table.\"\n",
              "              style=\"display:none;\">\n",
              "        \n",
              "  <svg xmlns=\"http://www.w3.org/2000/svg\" height=\"24px\"viewBox=\"0 0 24 24\"\n",
              "       width=\"24px\">\n",
              "    <path d=\"M0 0h24v24H0V0z\" fill=\"none\"/>\n",
              "    <path d=\"M18.56 5.44l.94 2.06.94-2.06 2.06-.94-2.06-.94-.94-2.06-.94 2.06-2.06.94zm-11 1L8.5 8.5l.94-2.06 2.06-.94-2.06-.94L8.5 2.5l-.94 2.06-2.06.94zm10 10l.94 2.06.94-2.06 2.06-.94-2.06-.94-.94-2.06-.94 2.06-2.06.94z\"/><path d=\"M17.41 7.96l-1.37-1.37c-.4-.4-.92-.59-1.43-.59-.52 0-1.04.2-1.43.59L10.3 9.45l-7.72 7.72c-.78.78-.78 2.05 0 2.83L4 21.41c.39.39.9.59 1.41.59.51 0 1.02-.2 1.41-.59l7.78-7.78 2.81-2.81c.8-.78.8-2.07 0-2.86zM5.41 20L4 18.59l7.72-7.72 1.47 1.35L5.41 20z\"/>\n",
              "  </svg>\n",
              "      </button>\n",
              "      \n",
              "  <style>\n",
              "    .colab-df-container {\n",
              "      display:flex;\n",
              "      flex-wrap:wrap;\n",
              "      gap: 12px;\n",
              "    }\n",
              "\n",
              "    .colab-df-convert {\n",
              "      background-color: #E8F0FE;\n",
              "      border: none;\n",
              "      border-radius: 50%;\n",
              "      cursor: pointer;\n",
              "      display: none;\n",
              "      fill: #1967D2;\n",
              "      height: 32px;\n",
              "      padding: 0 0 0 0;\n",
              "      width: 32px;\n",
              "    }\n",
              "\n",
              "    .colab-df-convert:hover {\n",
              "      background-color: #E2EBFA;\n",
              "      box-shadow: 0px 1px 2px rgba(60, 64, 67, 0.3), 0px 1px 3px 1px rgba(60, 64, 67, 0.15);\n",
              "      fill: #174EA6;\n",
              "    }\n",
              "\n",
              "    [theme=dark] .colab-df-convert {\n",
              "      background-color: #3B4455;\n",
              "      fill: #D2E3FC;\n",
              "    }\n",
              "\n",
              "    [theme=dark] .colab-df-convert:hover {\n",
              "      background-color: #434B5C;\n",
              "      box-shadow: 0px 1px 3px 1px rgba(0, 0, 0, 0.15);\n",
              "      filter: drop-shadow(0px 1px 2px rgba(0, 0, 0, 0.3));\n",
              "      fill: #FFFFFF;\n",
              "    }\n",
              "  </style>\n",
              "\n",
              "      <script>\n",
              "        const buttonEl =\n",
              "          document.querySelector('#df-3fa0f90f-298a-431f-92f3-a05d3bcb48aa button.colab-df-convert');\n",
              "        buttonEl.style.display =\n",
              "          google.colab.kernel.accessAllowed ? 'block' : 'none';\n",
              "\n",
              "        async function convertToInteractive(key) {\n",
              "          const element = document.querySelector('#df-3fa0f90f-298a-431f-92f3-a05d3bcb48aa');\n",
              "          const dataTable =\n",
              "            await google.colab.kernel.invokeFunction('convertToInteractive',\n",
              "                                                     [key], {});\n",
              "          if (!dataTable) return;\n",
              "\n",
              "          const docLinkHtml = 'Like what you see? Visit the ' +\n",
              "            '<a target=\"_blank\" href=https://colab.research.google.com/notebooks/data_table.ipynb>data table notebook</a>'\n",
              "            + ' to learn more about interactive tables.';\n",
              "          element.innerHTML = '';\n",
              "          dataTable['output_type'] = 'display_data';\n",
              "          await google.colab.output.renderOutput(dataTable, element);\n",
              "          const docLink = document.createElement('div');\n",
              "          docLink.innerHTML = docLinkHtml;\n",
              "          element.appendChild(docLink);\n",
              "        }\n",
              "      </script>\n",
              "    </div>\n",
              "  </div>\n",
              "  "
            ]
          },
          "metadata": {},
          "execution_count": 145
        }
      ]
    },
    {
      "cell_type": "markdown",
      "source": [
        "For this example, we look at the attention distribution for all tokens over all heads and layers. We create a function that filters the dataframe based on the values you select and creates a scatterplot. Whatever values you selected will be displayed in the visualization. You can select which head you want or what layer you want by clicking on the corresponding item in the list. Furthermore, if you want to select multiple, you can by using ctrl click or shift click. The scale of the y-axis will adjust accordingly depending on your selection, but can be fixed if needed.Selecting multiple heads may take a bit of time to process."
      ],
      "metadata": {
        "id": "29Va4kVnhiyT"
      },
      "id": "29Va4kVnhiyT"
    },
    {
      "cell_type": "code",
      "source": [
        "ui = widgets.HBox([ddhead,ddlayer])\n",
        "\n",
        "def drawplotfull(layer, head):\n",
        "  sns.set(rc = {'figure.figsize':(44,25)})\n",
        "\n",
        "  # if you want to keep the scale consistent for any config, uncomment this line\n",
        "  # plt.ylim(-0.01, 1.05)\n",
        "\n",
        "  sns.scatterplot(x= 'position', y = \"attention_scores\", data=full_mat[(full_mat['layer'].isin(layer)) & (full_mat['head'].isin(head))], hue='layer', style='head', s = 50, palette='viridis', markers=True, legend='full')\n",
        "\n",
        "out= widgets.interactive_output(drawplotfull, {'layer':ddlayer, 'head':ddhead})\n",
        "display(ui,out)\n"
      ],
      "metadata": {
        "colab": {
          "base_uri": "https://localhost:8080/",
          "height": 1000,
          "referenced_widgets": [
            "414e12ff2d454417a52ee9e4254e772b",
            "e7e308eae9254a7b94edcb2747b64b91",
            "9a7fd970326a4cafac3242914b3aff5e",
            "ff93db4e19064affbd6714c2b29a787b",
            "df9dbf999685494fa25402de684bbb6f",
            "2cf0d7ceb0e94ff4b287ca7d04581276",
            "765bac116f28408c954d0bc61334d7af",
            "15492bcfa96a40df86457ece37a6e779",
            "79b5fd2c13d0459ca60d7dfd4acd8777",
            "42389868b40a46008f8c0859c272722f"
          ]
        },
        "id": "DigndFupQ2EH",
        "outputId": "09708521-956e-4ddd-8e38-76a8b8cbbc24"
      },
      "id": "DigndFupQ2EH",
      "execution_count": 178,
      "outputs": [
        {
          "output_type": "display_data",
          "data": {
            "text/plain": [
              "HBox(children=(SelectMultiple(description='heads', index=(0, 1, 2, 3, 4, 5, 6, 7, 8, 9, 10, 11), options=(1, 2…"
            ],
            "application/vnd.jupyter.widget-view+json": {
              "version_major": 2,
              "version_minor": 0,
              "model_id": "414e12ff2d454417a52ee9e4254e772b"
            }
          },
          "metadata": {}
        },
        {
          "output_type": "display_data",
          "data": {
            "text/plain": [
              "Output()"
            ],
            "application/vnd.jupyter.widget-view+json": {
              "version_major": 2,
              "version_minor": 0,
              "model_id": "79b5fd2c13d0459ca60d7dfd4acd8777"
            }
          },
          "metadata": {}
        }
      ]
    },
    {
      "cell_type": "markdown",
      "source": [
        "Here we show an example of how to get the top k attended tokens or filtered by position_ids like we did previously."
      ],
      "metadata": {
        "id": "cMgY-RhNGkis"
      },
      "id": "cMgY-RhNGkis"
    },
    {
      "cell_type": "code",
      "source": [
        "full_mat[(full_mat['rank']>=1) & (full_mat['rank'] <= 10)].sort_values(by = ['layer', 'head', 'rank'])"
      ],
      "metadata": {
        "colab": {
          "base_uri": "https://localhost:8080/",
          "height": 424
        },
        "id": "H2LPXz8VGcIT",
        "outputId": "2ecc864c-326c-4b2e-9e82-982c476e91bd"
      },
      "id": "H2LPXz8VGcIT",
      "execution_count": 147,
      "outputs": [
        {
          "output_type": "execute_result",
          "data": {
            "text/plain": [
              "         token  position  attention_scores  layer  head  rank  batch\n",
              "0          <s>         0          0.007997      1     1     1      0\n",
              "512          -       512          0.001910      1     1     2      0\n",
              "1536        Ġa      1536          0.001769      1     1     3      0\n",
              "1024    Ġimage      1024          0.001707      1     1     4      0\n",
              "1620       ĠAt      1620          0.000963      1     1     5      0\n",
              "...        ...       ...               ...    ...   ...   ...    ...\n",
              "293462       .       598          0.000075     12    12     6      0\n",
              "293436       .       572          0.000066     12    12     7      0\n",
              "293421       .       557          0.000062     12    12     8      0\n",
              "293397       .       533          0.000056     12    12     9      0\n",
              "294004       .      1140          0.000054     12    12    10      0\n",
              "\n",
              "[1440 rows x 7 columns]"
            ],
            "text/html": [
              "\n",
              "  <div id=\"df-8fd6e6b0-40ae-4d3e-8da8-e1db9f13391e\">\n",
              "    <div class=\"colab-df-container\">\n",
              "      <div>\n",
              "<style scoped>\n",
              "    .dataframe tbody tr th:only-of-type {\n",
              "        vertical-align: middle;\n",
              "    }\n",
              "\n",
              "    .dataframe tbody tr th {\n",
              "        vertical-align: top;\n",
              "    }\n",
              "\n",
              "    .dataframe thead th {\n",
              "        text-align: right;\n",
              "    }\n",
              "</style>\n",
              "<table border=\"1\" class=\"dataframe\">\n",
              "  <thead>\n",
              "    <tr style=\"text-align: right;\">\n",
              "      <th></th>\n",
              "      <th>token</th>\n",
              "      <th>position</th>\n",
              "      <th>attention_scores</th>\n",
              "      <th>layer</th>\n",
              "      <th>head</th>\n",
              "      <th>rank</th>\n",
              "      <th>batch</th>\n",
              "    </tr>\n",
              "  </thead>\n",
              "  <tbody>\n",
              "    <tr>\n",
              "      <th>0</th>\n",
              "      <td>&lt;s&gt;</td>\n",
              "      <td>0</td>\n",
              "      <td>0.007997</td>\n",
              "      <td>1</td>\n",
              "      <td>1</td>\n",
              "      <td>1</td>\n",
              "      <td>0</td>\n",
              "    </tr>\n",
              "    <tr>\n",
              "      <th>512</th>\n",
              "      <td>-</td>\n",
              "      <td>512</td>\n",
              "      <td>0.001910</td>\n",
              "      <td>1</td>\n",
              "      <td>1</td>\n",
              "      <td>2</td>\n",
              "      <td>0</td>\n",
              "    </tr>\n",
              "    <tr>\n",
              "      <th>1536</th>\n",
              "      <td>Ġa</td>\n",
              "      <td>1536</td>\n",
              "      <td>0.001769</td>\n",
              "      <td>1</td>\n",
              "      <td>1</td>\n",
              "      <td>3</td>\n",
              "      <td>0</td>\n",
              "    </tr>\n",
              "    <tr>\n",
              "      <th>1024</th>\n",
              "      <td>Ġimage</td>\n",
              "      <td>1024</td>\n",
              "      <td>0.001707</td>\n",
              "      <td>1</td>\n",
              "      <td>1</td>\n",
              "      <td>4</td>\n",
              "      <td>0</td>\n",
              "    </tr>\n",
              "    <tr>\n",
              "      <th>1620</th>\n",
              "      <td>ĠAt</td>\n",
              "      <td>1620</td>\n",
              "      <td>0.000963</td>\n",
              "      <td>1</td>\n",
              "      <td>1</td>\n",
              "      <td>5</td>\n",
              "      <td>0</td>\n",
              "    </tr>\n",
              "    <tr>\n",
              "      <th>...</th>\n",
              "      <td>...</td>\n",
              "      <td>...</td>\n",
              "      <td>...</td>\n",
              "      <td>...</td>\n",
              "      <td>...</td>\n",
              "      <td>...</td>\n",
              "      <td>...</td>\n",
              "    </tr>\n",
              "    <tr>\n",
              "      <th>293462</th>\n",
              "      <td>.</td>\n",
              "      <td>598</td>\n",
              "      <td>0.000075</td>\n",
              "      <td>12</td>\n",
              "      <td>12</td>\n",
              "      <td>6</td>\n",
              "      <td>0</td>\n",
              "    </tr>\n",
              "    <tr>\n",
              "      <th>293436</th>\n",
              "      <td>.</td>\n",
              "      <td>572</td>\n",
              "      <td>0.000066</td>\n",
              "      <td>12</td>\n",
              "      <td>12</td>\n",
              "      <td>7</td>\n",
              "      <td>0</td>\n",
              "    </tr>\n",
              "    <tr>\n",
              "      <th>293421</th>\n",
              "      <td>.</td>\n",
              "      <td>557</td>\n",
              "      <td>0.000062</td>\n",
              "      <td>12</td>\n",
              "      <td>12</td>\n",
              "      <td>8</td>\n",
              "      <td>0</td>\n",
              "    </tr>\n",
              "    <tr>\n",
              "      <th>293397</th>\n",
              "      <td>.</td>\n",
              "      <td>533</td>\n",
              "      <td>0.000056</td>\n",
              "      <td>12</td>\n",
              "      <td>12</td>\n",
              "      <td>9</td>\n",
              "      <td>0</td>\n",
              "    </tr>\n",
              "    <tr>\n",
              "      <th>294004</th>\n",
              "      <td>.</td>\n",
              "      <td>1140</td>\n",
              "      <td>0.000054</td>\n",
              "      <td>12</td>\n",
              "      <td>12</td>\n",
              "      <td>10</td>\n",
              "      <td>0</td>\n",
              "    </tr>\n",
              "  </tbody>\n",
              "</table>\n",
              "<p>1440 rows × 7 columns</p>\n",
              "</div>\n",
              "      <button class=\"colab-df-convert\" onclick=\"convertToInteractive('df-8fd6e6b0-40ae-4d3e-8da8-e1db9f13391e')\"\n",
              "              title=\"Convert this dataframe to an interactive table.\"\n",
              "              style=\"display:none;\">\n",
              "        \n",
              "  <svg xmlns=\"http://www.w3.org/2000/svg\" height=\"24px\"viewBox=\"0 0 24 24\"\n",
              "       width=\"24px\">\n",
              "    <path d=\"M0 0h24v24H0V0z\" fill=\"none\"/>\n",
              "    <path d=\"M18.56 5.44l.94 2.06.94-2.06 2.06-.94-2.06-.94-.94-2.06-.94 2.06-2.06.94zm-11 1L8.5 8.5l.94-2.06 2.06-.94-2.06-.94L8.5 2.5l-.94 2.06-2.06.94zm10 10l.94 2.06.94-2.06 2.06-.94-2.06-.94-.94-2.06-.94 2.06-2.06.94z\"/><path d=\"M17.41 7.96l-1.37-1.37c-.4-.4-.92-.59-1.43-.59-.52 0-1.04.2-1.43.59L10.3 9.45l-7.72 7.72c-.78.78-.78 2.05 0 2.83L4 21.41c.39.39.9.59 1.41.59.51 0 1.02-.2 1.41-.59l7.78-7.78 2.81-2.81c.8-.78.8-2.07 0-2.86zM5.41 20L4 18.59l7.72-7.72 1.47 1.35L5.41 20z\"/>\n",
              "  </svg>\n",
              "      </button>\n",
              "      \n",
              "  <style>\n",
              "    .colab-df-container {\n",
              "      display:flex;\n",
              "      flex-wrap:wrap;\n",
              "      gap: 12px;\n",
              "    }\n",
              "\n",
              "    .colab-df-convert {\n",
              "      background-color: #E8F0FE;\n",
              "      border: none;\n",
              "      border-radius: 50%;\n",
              "      cursor: pointer;\n",
              "      display: none;\n",
              "      fill: #1967D2;\n",
              "      height: 32px;\n",
              "      padding: 0 0 0 0;\n",
              "      width: 32px;\n",
              "    }\n",
              "\n",
              "    .colab-df-convert:hover {\n",
              "      background-color: #E2EBFA;\n",
              "      box-shadow: 0px 1px 2px rgba(60, 64, 67, 0.3), 0px 1px 3px 1px rgba(60, 64, 67, 0.15);\n",
              "      fill: #174EA6;\n",
              "    }\n",
              "\n",
              "    [theme=dark] .colab-df-convert {\n",
              "      background-color: #3B4455;\n",
              "      fill: #D2E3FC;\n",
              "    }\n",
              "\n",
              "    [theme=dark] .colab-df-convert:hover {\n",
              "      background-color: #434B5C;\n",
              "      box-shadow: 0px 1px 3px 1px rgba(0, 0, 0, 0.15);\n",
              "      filter: drop-shadow(0px 1px 2px rgba(0, 0, 0, 0.3));\n",
              "      fill: #FFFFFF;\n",
              "    }\n",
              "  </style>\n",
              "\n",
              "      <script>\n",
              "        const buttonEl =\n",
              "          document.querySelector('#df-8fd6e6b0-40ae-4d3e-8da8-e1db9f13391e button.colab-df-convert');\n",
              "        buttonEl.style.display =\n",
              "          google.colab.kernel.accessAllowed ? 'block' : 'none';\n",
              "\n",
              "        async function convertToInteractive(key) {\n",
              "          const element = document.querySelector('#df-8fd6e6b0-40ae-4d3e-8da8-e1db9f13391e');\n",
              "          const dataTable =\n",
              "            await google.colab.kernel.invokeFunction('convertToInteractive',\n",
              "                                                     [key], {});\n",
              "          if (!dataTable) return;\n",
              "\n",
              "          const docLinkHtml = 'Like what you see? Visit the ' +\n",
              "            '<a target=\"_blank\" href=https://colab.research.google.com/notebooks/data_table.ipynb>data table notebook</a>'\n",
              "            + ' to learn more about interactive tables.';\n",
              "          element.innerHTML = '';\n",
              "          dataTable['output_type'] = 'display_data';\n",
              "          await google.colab.output.renderOutput(dataTable, element);\n",
              "          const docLink = document.createElement('div');\n",
              "          docLink.innerHTML = docLinkHtml;\n",
              "          element.appendChild(docLink);\n",
              "        }\n",
              "      </script>\n",
              "    </div>\n",
              "  </div>\n",
              "  "
            ]
          },
          "metadata": {},
          "execution_count": 147
        }
      ]
    },
    {
      "cell_type": "code",
      "source": [
        "full_mat[(full_mat['position']==0)]"
      ],
      "metadata": {
        "colab": {
          "base_uri": "https://localhost:8080/",
          "height": 424
        },
        "id": "5tMCyMgXGr07",
        "outputId": "6fe8c2fb-1dec-4e9c-e65f-77f055ed91b0"
      },
      "id": "5tMCyMgXGr07",
      "execution_count": 148,
      "outputs": [
        {
          "output_type": "execute_result",
          "data": {
            "text/plain": [
              "       token  position  attention_scores  layer  head  rank  batch\n",
              "0        <s>         0      7.997029e-03      1     1     1      0\n",
              "2048     <s>         0      9.500897e-03      1     2     1      0\n",
              "4096     <s>         0      6.828007e-03      1     3     1      0\n",
              "6144     <s>         0      6.612792e-03      1     4     1      0\n",
              "8192     <s>         0      1.622280e-02      1     5     1      0\n",
              "...      ...       ...               ...    ...   ...   ...    ...\n",
              "284672   <s>         0      6.666792e-07     12     8  1972      0\n",
              "286720   <s>         0      3.447724e-04     12     9     2      0\n",
              "288768   <s>         0      1.083288e-07     12    10  2043      0\n",
              "290816   <s>         0      9.348889e-06     12    11   539      0\n",
              "292864   <s>         0      6.529145e-06     12    12   152      0\n",
              "\n",
              "[144 rows x 7 columns]"
            ],
            "text/html": [
              "\n",
              "  <div id=\"df-17c9aae4-35ff-4516-b9db-cfe2626abae2\">\n",
              "    <div class=\"colab-df-container\">\n",
              "      <div>\n",
              "<style scoped>\n",
              "    .dataframe tbody tr th:only-of-type {\n",
              "        vertical-align: middle;\n",
              "    }\n",
              "\n",
              "    .dataframe tbody tr th {\n",
              "        vertical-align: top;\n",
              "    }\n",
              "\n",
              "    .dataframe thead th {\n",
              "        text-align: right;\n",
              "    }\n",
              "</style>\n",
              "<table border=\"1\" class=\"dataframe\">\n",
              "  <thead>\n",
              "    <tr style=\"text-align: right;\">\n",
              "      <th></th>\n",
              "      <th>token</th>\n",
              "      <th>position</th>\n",
              "      <th>attention_scores</th>\n",
              "      <th>layer</th>\n",
              "      <th>head</th>\n",
              "      <th>rank</th>\n",
              "      <th>batch</th>\n",
              "    </tr>\n",
              "  </thead>\n",
              "  <tbody>\n",
              "    <tr>\n",
              "      <th>0</th>\n",
              "      <td>&lt;s&gt;</td>\n",
              "      <td>0</td>\n",
              "      <td>7.997029e-03</td>\n",
              "      <td>1</td>\n",
              "      <td>1</td>\n",
              "      <td>1</td>\n",
              "      <td>0</td>\n",
              "    </tr>\n",
              "    <tr>\n",
              "      <th>2048</th>\n",
              "      <td>&lt;s&gt;</td>\n",
              "      <td>0</td>\n",
              "      <td>9.500897e-03</td>\n",
              "      <td>1</td>\n",
              "      <td>2</td>\n",
              "      <td>1</td>\n",
              "      <td>0</td>\n",
              "    </tr>\n",
              "    <tr>\n",
              "      <th>4096</th>\n",
              "      <td>&lt;s&gt;</td>\n",
              "      <td>0</td>\n",
              "      <td>6.828007e-03</td>\n",
              "      <td>1</td>\n",
              "      <td>3</td>\n",
              "      <td>1</td>\n",
              "      <td>0</td>\n",
              "    </tr>\n",
              "    <tr>\n",
              "      <th>6144</th>\n",
              "      <td>&lt;s&gt;</td>\n",
              "      <td>0</td>\n",
              "      <td>6.612792e-03</td>\n",
              "      <td>1</td>\n",
              "      <td>4</td>\n",
              "      <td>1</td>\n",
              "      <td>0</td>\n",
              "    </tr>\n",
              "    <tr>\n",
              "      <th>8192</th>\n",
              "      <td>&lt;s&gt;</td>\n",
              "      <td>0</td>\n",
              "      <td>1.622280e-02</td>\n",
              "      <td>1</td>\n",
              "      <td>5</td>\n",
              "      <td>1</td>\n",
              "      <td>0</td>\n",
              "    </tr>\n",
              "    <tr>\n",
              "      <th>...</th>\n",
              "      <td>...</td>\n",
              "      <td>...</td>\n",
              "      <td>...</td>\n",
              "      <td>...</td>\n",
              "      <td>...</td>\n",
              "      <td>...</td>\n",
              "      <td>...</td>\n",
              "    </tr>\n",
              "    <tr>\n",
              "      <th>284672</th>\n",
              "      <td>&lt;s&gt;</td>\n",
              "      <td>0</td>\n",
              "      <td>6.666792e-07</td>\n",
              "      <td>12</td>\n",
              "      <td>8</td>\n",
              "      <td>1972</td>\n",
              "      <td>0</td>\n",
              "    </tr>\n",
              "    <tr>\n",
              "      <th>286720</th>\n",
              "      <td>&lt;s&gt;</td>\n",
              "      <td>0</td>\n",
              "      <td>3.447724e-04</td>\n",
              "      <td>12</td>\n",
              "      <td>9</td>\n",
              "      <td>2</td>\n",
              "      <td>0</td>\n",
              "    </tr>\n",
              "    <tr>\n",
              "      <th>288768</th>\n",
              "      <td>&lt;s&gt;</td>\n",
              "      <td>0</td>\n",
              "      <td>1.083288e-07</td>\n",
              "      <td>12</td>\n",
              "      <td>10</td>\n",
              "      <td>2043</td>\n",
              "      <td>0</td>\n",
              "    </tr>\n",
              "    <tr>\n",
              "      <th>290816</th>\n",
              "      <td>&lt;s&gt;</td>\n",
              "      <td>0</td>\n",
              "      <td>9.348889e-06</td>\n",
              "      <td>12</td>\n",
              "      <td>11</td>\n",
              "      <td>539</td>\n",
              "      <td>0</td>\n",
              "    </tr>\n",
              "    <tr>\n",
              "      <th>292864</th>\n",
              "      <td>&lt;s&gt;</td>\n",
              "      <td>0</td>\n",
              "      <td>6.529145e-06</td>\n",
              "      <td>12</td>\n",
              "      <td>12</td>\n",
              "      <td>152</td>\n",
              "      <td>0</td>\n",
              "    </tr>\n",
              "  </tbody>\n",
              "</table>\n",
              "<p>144 rows × 7 columns</p>\n",
              "</div>\n",
              "      <button class=\"colab-df-convert\" onclick=\"convertToInteractive('df-17c9aae4-35ff-4516-b9db-cfe2626abae2')\"\n",
              "              title=\"Convert this dataframe to an interactive table.\"\n",
              "              style=\"display:none;\">\n",
              "        \n",
              "  <svg xmlns=\"http://www.w3.org/2000/svg\" height=\"24px\"viewBox=\"0 0 24 24\"\n",
              "       width=\"24px\">\n",
              "    <path d=\"M0 0h24v24H0V0z\" fill=\"none\"/>\n",
              "    <path d=\"M18.56 5.44l.94 2.06.94-2.06 2.06-.94-2.06-.94-.94-2.06-.94 2.06-2.06.94zm-11 1L8.5 8.5l.94-2.06 2.06-.94-2.06-.94L8.5 2.5l-.94 2.06-2.06.94zm10 10l.94 2.06.94-2.06 2.06-.94-2.06-.94-.94-2.06-.94 2.06-2.06.94z\"/><path d=\"M17.41 7.96l-1.37-1.37c-.4-.4-.92-.59-1.43-.59-.52 0-1.04.2-1.43.59L10.3 9.45l-7.72 7.72c-.78.78-.78 2.05 0 2.83L4 21.41c.39.39.9.59 1.41.59.51 0 1.02-.2 1.41-.59l7.78-7.78 2.81-2.81c.8-.78.8-2.07 0-2.86zM5.41 20L4 18.59l7.72-7.72 1.47 1.35L5.41 20z\"/>\n",
              "  </svg>\n",
              "      </button>\n",
              "      \n",
              "  <style>\n",
              "    .colab-df-container {\n",
              "      display:flex;\n",
              "      flex-wrap:wrap;\n",
              "      gap: 12px;\n",
              "    }\n",
              "\n",
              "    .colab-df-convert {\n",
              "      background-color: #E8F0FE;\n",
              "      border: none;\n",
              "      border-radius: 50%;\n",
              "      cursor: pointer;\n",
              "      display: none;\n",
              "      fill: #1967D2;\n",
              "      height: 32px;\n",
              "      padding: 0 0 0 0;\n",
              "      width: 32px;\n",
              "    }\n",
              "\n",
              "    .colab-df-convert:hover {\n",
              "      background-color: #E2EBFA;\n",
              "      box-shadow: 0px 1px 2px rgba(60, 64, 67, 0.3), 0px 1px 3px 1px rgba(60, 64, 67, 0.15);\n",
              "      fill: #174EA6;\n",
              "    }\n",
              "\n",
              "    [theme=dark] .colab-df-convert {\n",
              "      background-color: #3B4455;\n",
              "      fill: #D2E3FC;\n",
              "    }\n",
              "\n",
              "    [theme=dark] .colab-df-convert:hover {\n",
              "      background-color: #434B5C;\n",
              "      box-shadow: 0px 1px 3px 1px rgba(0, 0, 0, 0.15);\n",
              "      filter: drop-shadow(0px 1px 2px rgba(0, 0, 0, 0.3));\n",
              "      fill: #FFFFFF;\n",
              "    }\n",
              "  </style>\n",
              "\n",
              "      <script>\n",
              "        const buttonEl =\n",
              "          document.querySelector('#df-17c9aae4-35ff-4516-b9db-cfe2626abae2 button.colab-df-convert');\n",
              "        buttonEl.style.display =\n",
              "          google.colab.kernel.accessAllowed ? 'block' : 'none';\n",
              "\n",
              "        async function convertToInteractive(key) {\n",
              "          const element = document.querySelector('#df-17c9aae4-35ff-4516-b9db-cfe2626abae2');\n",
              "          const dataTable =\n",
              "            await google.colab.kernel.invokeFunction('convertToInteractive',\n",
              "                                                     [key], {});\n",
              "          if (!dataTable) return;\n",
              "\n",
              "          const docLinkHtml = 'Like what you see? Visit the ' +\n",
              "            '<a target=\"_blank\" href=https://colab.research.google.com/notebooks/data_table.ipynb>data table notebook</a>'\n",
              "            + ' to learn more about interactive tables.';\n",
              "          element.innerHTML = '';\n",
              "          dataTable['output_type'] = 'display_data';\n",
              "          await google.colab.output.renderOutput(dataTable, element);\n",
              "          const docLink = document.createElement('div');\n",
              "          docLink.innerHTML = docLinkHtml;\n",
              "          element.appendChild(docLink);\n",
              "        }\n",
              "      </script>\n",
              "    </div>\n",
              "  </div>\n",
              "  "
            ]
          },
          "metadata": {},
          "execution_count": 148
        }
      ]
    },
    {
      "cell_type": "markdown",
      "source": [
        "From here, we know how to get the visualizations for the dataframe. Slight modifications are needed to use the correct dataframe. Otherwise, you can modify the visualization to display whichever piece of information you want as there are other graphs this works on such as boxplots, histograms, piecharts, etc. "
      ],
      "metadata": {
        "id": "GL_T_4Q5GlyZ"
      },
      "id": "GL_T_4Q5GlyZ"
    }
  ],
  "metadata": {
    "kernelspec": {
      "display_name": "Python 3",
      "name": "python3"
    },
    "language_info": {
      "name": "python"
    },
    "colab": {
      "name": "Token_attention_with_head_importance.ipynb",
      "provenance": [],
      "collapsed_sections": [],
      "machine_shape": "hm",
      "include_colab_link": true
    },
    "accelerator": "GPU",
    "gpuClass": "standard",
    "widgets": {
      "application/vnd.jupyter.widget-state+json": {
        "b69fd53cecc441dba2f67b9ee10bd56e": {
          "model_module": "@jupyter-widgets/controls",
          "model_name": "HBoxModel",
          "model_module_version": "1.5.0",
          "state": {
            "_dom_classes": [],
            "_model_module": "@jupyter-widgets/controls",
            "_model_module_version": "1.5.0",
            "_model_name": "HBoxModel",
            "_view_count": null,
            "_view_module": "@jupyter-widgets/controls",
            "_view_module_version": "1.5.0",
            "_view_name": "HBoxView",
            "box_style": "",
            "children": [
              "IPY_MODEL_62f119ac0a4742c899f15695999532c4",
              "IPY_MODEL_7df3eb3afc674fdb8c4e23e17099f7e4",
              "IPY_MODEL_71374b6c776049d0ba880ef766bdace2"
            ],
            "layout": "IPY_MODEL_c52f9824ccd5412d8cfa917d1d7deefa"
          }
        },
        "62f119ac0a4742c899f15695999532c4": {
          "model_module": "@jupyter-widgets/controls",
          "model_name": "HTMLModel",
          "model_module_version": "1.5.0",
          "state": {
            "_dom_classes": [],
            "_model_module": "@jupyter-widgets/controls",
            "_model_module_version": "1.5.0",
            "_model_name": "HTMLModel",
            "_view_count": null,
            "_view_module": "@jupyter-widgets/controls",
            "_view_module_version": "1.5.0",
            "_view_name": "HTMLView",
            "description": "",
            "description_tooltip": null,
            "layout": "IPY_MODEL_ab71b23c36274d698efa13d15959c875",
            "placeholder": "​",
            "style": "IPY_MODEL_912bbd1d092642939a5f0568f3f3c0ed",
            "value": "100%"
          }
        },
        "7df3eb3afc674fdb8c4e23e17099f7e4": {
          "model_module": "@jupyter-widgets/controls",
          "model_name": "FloatProgressModel",
          "model_module_version": "1.5.0",
          "state": {
            "_dom_classes": [],
            "_model_module": "@jupyter-widgets/controls",
            "_model_module_version": "1.5.0",
            "_model_name": "FloatProgressModel",
            "_view_count": null,
            "_view_module": "@jupyter-widgets/controls",
            "_view_module_version": "1.5.0",
            "_view_name": "ProgressView",
            "bar_style": "success",
            "description": "",
            "description_tooltip": null,
            "layout": "IPY_MODEL_c4a713e5262740af9aedfeecdc48dafb",
            "max": 2,
            "min": 0,
            "orientation": "horizontal",
            "style": "IPY_MODEL_ceed78a2d4a041f9a9eecba7b8b070ed",
            "value": 2
          }
        },
        "71374b6c776049d0ba880ef766bdace2": {
          "model_module": "@jupyter-widgets/controls",
          "model_name": "HTMLModel",
          "model_module_version": "1.5.0",
          "state": {
            "_dom_classes": [],
            "_model_module": "@jupyter-widgets/controls",
            "_model_module_version": "1.5.0",
            "_model_name": "HTMLModel",
            "_view_count": null,
            "_view_module": "@jupyter-widgets/controls",
            "_view_module_version": "1.5.0",
            "_view_name": "HTMLView",
            "description": "",
            "description_tooltip": null,
            "layout": "IPY_MODEL_114c7b30c194441d9d9a774573495b7e",
            "placeholder": "​",
            "style": "IPY_MODEL_b557381e432446a8b617a1f6ff1b5e0b",
            "value": " 2/2 [00:00&lt;00:00, 25.24it/s]"
          }
        },
        "c52f9824ccd5412d8cfa917d1d7deefa": {
          "model_module": "@jupyter-widgets/base",
          "model_name": "LayoutModel",
          "model_module_version": "1.2.0",
          "state": {
            "_model_module": "@jupyter-widgets/base",
            "_model_module_version": "1.2.0",
            "_model_name": "LayoutModel",
            "_view_count": null,
            "_view_module": "@jupyter-widgets/base",
            "_view_module_version": "1.2.0",
            "_view_name": "LayoutView",
            "align_content": null,
            "align_items": null,
            "align_self": null,
            "border": null,
            "bottom": null,
            "display": null,
            "flex": null,
            "flex_flow": null,
            "grid_area": null,
            "grid_auto_columns": null,
            "grid_auto_flow": null,
            "grid_auto_rows": null,
            "grid_column": null,
            "grid_gap": null,
            "grid_row": null,
            "grid_template_areas": null,
            "grid_template_columns": null,
            "grid_template_rows": null,
            "height": null,
            "justify_content": null,
            "justify_items": null,
            "left": null,
            "margin": null,
            "max_height": null,
            "max_width": null,
            "min_height": null,
            "min_width": null,
            "object_fit": null,
            "object_position": null,
            "order": null,
            "overflow": null,
            "overflow_x": null,
            "overflow_y": null,
            "padding": null,
            "right": null,
            "top": null,
            "visibility": null,
            "width": null
          }
        },
        "ab71b23c36274d698efa13d15959c875": {
          "model_module": "@jupyter-widgets/base",
          "model_name": "LayoutModel",
          "model_module_version": "1.2.0",
          "state": {
            "_model_module": "@jupyter-widgets/base",
            "_model_module_version": "1.2.0",
            "_model_name": "LayoutModel",
            "_view_count": null,
            "_view_module": "@jupyter-widgets/base",
            "_view_module_version": "1.2.0",
            "_view_name": "LayoutView",
            "align_content": null,
            "align_items": null,
            "align_self": null,
            "border": null,
            "bottom": null,
            "display": null,
            "flex": null,
            "flex_flow": null,
            "grid_area": null,
            "grid_auto_columns": null,
            "grid_auto_flow": null,
            "grid_auto_rows": null,
            "grid_column": null,
            "grid_gap": null,
            "grid_row": null,
            "grid_template_areas": null,
            "grid_template_columns": null,
            "grid_template_rows": null,
            "height": null,
            "justify_content": null,
            "justify_items": null,
            "left": null,
            "margin": null,
            "max_height": null,
            "max_width": null,
            "min_height": null,
            "min_width": null,
            "object_fit": null,
            "object_position": null,
            "order": null,
            "overflow": null,
            "overflow_x": null,
            "overflow_y": null,
            "padding": null,
            "right": null,
            "top": null,
            "visibility": null,
            "width": null
          }
        },
        "912bbd1d092642939a5f0568f3f3c0ed": {
          "model_module": "@jupyter-widgets/controls",
          "model_name": "DescriptionStyleModel",
          "model_module_version": "1.5.0",
          "state": {
            "_model_module": "@jupyter-widgets/controls",
            "_model_module_version": "1.5.0",
            "_model_name": "DescriptionStyleModel",
            "_view_count": null,
            "_view_module": "@jupyter-widgets/base",
            "_view_module_version": "1.2.0",
            "_view_name": "StyleView",
            "description_width": ""
          }
        },
        "c4a713e5262740af9aedfeecdc48dafb": {
          "model_module": "@jupyter-widgets/base",
          "model_name": "LayoutModel",
          "model_module_version": "1.2.0",
          "state": {
            "_model_module": "@jupyter-widgets/base",
            "_model_module_version": "1.2.0",
            "_model_name": "LayoutModel",
            "_view_count": null,
            "_view_module": "@jupyter-widgets/base",
            "_view_module_version": "1.2.0",
            "_view_name": "LayoutView",
            "align_content": null,
            "align_items": null,
            "align_self": null,
            "border": null,
            "bottom": null,
            "display": null,
            "flex": null,
            "flex_flow": null,
            "grid_area": null,
            "grid_auto_columns": null,
            "grid_auto_flow": null,
            "grid_auto_rows": null,
            "grid_column": null,
            "grid_gap": null,
            "grid_row": null,
            "grid_template_areas": null,
            "grid_template_columns": null,
            "grid_template_rows": null,
            "height": null,
            "justify_content": null,
            "justify_items": null,
            "left": null,
            "margin": null,
            "max_height": null,
            "max_width": null,
            "min_height": null,
            "min_width": null,
            "object_fit": null,
            "object_position": null,
            "order": null,
            "overflow": null,
            "overflow_x": null,
            "overflow_y": null,
            "padding": null,
            "right": null,
            "top": null,
            "visibility": null,
            "width": null
          }
        },
        "ceed78a2d4a041f9a9eecba7b8b070ed": {
          "model_module": "@jupyter-widgets/controls",
          "model_name": "ProgressStyleModel",
          "model_module_version": "1.5.0",
          "state": {
            "_model_module": "@jupyter-widgets/controls",
            "_model_module_version": "1.5.0",
            "_model_name": "ProgressStyleModel",
            "_view_count": null,
            "_view_module": "@jupyter-widgets/base",
            "_view_module_version": "1.2.0",
            "_view_name": "StyleView",
            "bar_color": null,
            "description_width": ""
          }
        },
        "114c7b30c194441d9d9a774573495b7e": {
          "model_module": "@jupyter-widgets/base",
          "model_name": "LayoutModel",
          "model_module_version": "1.2.0",
          "state": {
            "_model_module": "@jupyter-widgets/base",
            "_model_module_version": "1.2.0",
            "_model_name": "LayoutModel",
            "_view_count": null,
            "_view_module": "@jupyter-widgets/base",
            "_view_module_version": "1.2.0",
            "_view_name": "LayoutView",
            "align_content": null,
            "align_items": null,
            "align_self": null,
            "border": null,
            "bottom": null,
            "display": null,
            "flex": null,
            "flex_flow": null,
            "grid_area": null,
            "grid_auto_columns": null,
            "grid_auto_flow": null,
            "grid_auto_rows": null,
            "grid_column": null,
            "grid_gap": null,
            "grid_row": null,
            "grid_template_areas": null,
            "grid_template_columns": null,
            "grid_template_rows": null,
            "height": null,
            "justify_content": null,
            "justify_items": null,
            "left": null,
            "margin": null,
            "max_height": null,
            "max_width": null,
            "min_height": null,
            "min_width": null,
            "object_fit": null,
            "object_position": null,
            "order": null,
            "overflow": null,
            "overflow_x": null,
            "overflow_y": null,
            "padding": null,
            "right": null,
            "top": null,
            "visibility": null,
            "width": null
          }
        },
        "b557381e432446a8b617a1f6ff1b5e0b": {
          "model_module": "@jupyter-widgets/controls",
          "model_name": "DescriptionStyleModel",
          "model_module_version": "1.5.0",
          "state": {
            "_model_module": "@jupyter-widgets/controls",
            "_model_module_version": "1.5.0",
            "_model_name": "DescriptionStyleModel",
            "_view_count": null,
            "_view_module": "@jupyter-widgets/base",
            "_view_module_version": "1.2.0",
            "_view_name": "StyleView",
            "description_width": ""
          }
        },
        "99c98675cdb842e19bb293c66a5d090a": {
          "model_module": "@jupyter-widgets/controls",
          "model_name": "HBoxModel",
          "model_module_version": "1.5.0",
          "state": {
            "_dom_classes": [],
            "_model_module": "@jupyter-widgets/controls",
            "_model_module_version": "1.5.0",
            "_model_name": "HBoxModel",
            "_view_count": null,
            "_view_module": "@jupyter-widgets/controls",
            "_view_module_version": "1.5.0",
            "_view_name": "HBoxView",
            "box_style": "",
            "children": [
              "IPY_MODEL_50038fc3395b496495cc24906f8f1067",
              "IPY_MODEL_c5e4daad6e3a414d90e4edf5778a63cb",
              "IPY_MODEL_a5a84b3bbeba4f5c8597ade2bcec6171"
            ],
            "layout": "IPY_MODEL_df76cf38c7ea4290af2f67603b464b4f"
          }
        },
        "50038fc3395b496495cc24906f8f1067": {
          "model_module": "@jupyter-widgets/controls",
          "model_name": "HTMLModel",
          "model_module_version": "1.5.0",
          "state": {
            "_dom_classes": [],
            "_model_module": "@jupyter-widgets/controls",
            "_model_module_version": "1.5.0",
            "_model_name": "HTMLModel",
            "_view_count": null,
            "_view_module": "@jupyter-widgets/controls",
            "_view_module_version": "1.5.0",
            "_view_name": "HTMLView",
            "description": "",
            "description_tooltip": null,
            "layout": "IPY_MODEL_595284a0318d477d860cbd470f2671a5",
            "placeholder": "​",
            "style": "IPY_MODEL_8f3bcc6c4d1f46d2a5f309d4f5966dd1",
            "value": "100%"
          }
        },
        "c5e4daad6e3a414d90e4edf5778a63cb": {
          "model_module": "@jupyter-widgets/controls",
          "model_name": "FloatProgressModel",
          "model_module_version": "1.5.0",
          "state": {
            "_dom_classes": [],
            "_model_module": "@jupyter-widgets/controls",
            "_model_module_version": "1.5.0",
            "_model_name": "FloatProgressModel",
            "_view_count": null,
            "_view_module": "@jupyter-widgets/controls",
            "_view_module_version": "1.5.0",
            "_view_name": "ProgressView",
            "bar_style": "success",
            "description": "",
            "description_tooltip": null,
            "layout": "IPY_MODEL_584dc428912346878acb794e74715326",
            "max": 2,
            "min": 0,
            "orientation": "horizontal",
            "style": "IPY_MODEL_ee1c5716fff84d3e85ca771793f37081",
            "value": 2
          }
        },
        "a5a84b3bbeba4f5c8597ade2bcec6171": {
          "model_module": "@jupyter-widgets/controls",
          "model_name": "HTMLModel",
          "model_module_version": "1.5.0",
          "state": {
            "_dom_classes": [],
            "_model_module": "@jupyter-widgets/controls",
            "_model_module_version": "1.5.0",
            "_model_name": "HTMLModel",
            "_view_count": null,
            "_view_module": "@jupyter-widgets/controls",
            "_view_module_version": "1.5.0",
            "_view_name": "HTMLView",
            "description": "",
            "description_tooltip": null,
            "layout": "IPY_MODEL_aa18b6dd4bb44b52a219a6ed20ac7246",
            "placeholder": "​",
            "style": "IPY_MODEL_876f554729f144bf972f581728ebb8e7",
            "value": " 2/2 [00:34&lt;00:00, 14.43s/ba]"
          }
        },
        "df76cf38c7ea4290af2f67603b464b4f": {
          "model_module": "@jupyter-widgets/base",
          "model_name": "LayoutModel",
          "model_module_version": "1.2.0",
          "state": {
            "_model_module": "@jupyter-widgets/base",
            "_model_module_version": "1.2.0",
            "_model_name": "LayoutModel",
            "_view_count": null,
            "_view_module": "@jupyter-widgets/base",
            "_view_module_version": "1.2.0",
            "_view_name": "LayoutView",
            "align_content": null,
            "align_items": null,
            "align_self": null,
            "border": null,
            "bottom": null,
            "display": null,
            "flex": null,
            "flex_flow": null,
            "grid_area": null,
            "grid_auto_columns": null,
            "grid_auto_flow": null,
            "grid_auto_rows": null,
            "grid_column": null,
            "grid_gap": null,
            "grid_row": null,
            "grid_template_areas": null,
            "grid_template_columns": null,
            "grid_template_rows": null,
            "height": null,
            "justify_content": null,
            "justify_items": null,
            "left": null,
            "margin": null,
            "max_height": null,
            "max_width": null,
            "min_height": null,
            "min_width": null,
            "object_fit": null,
            "object_position": null,
            "order": null,
            "overflow": null,
            "overflow_x": null,
            "overflow_y": null,
            "padding": null,
            "right": null,
            "top": null,
            "visibility": null,
            "width": null
          }
        },
        "595284a0318d477d860cbd470f2671a5": {
          "model_module": "@jupyter-widgets/base",
          "model_name": "LayoutModel",
          "model_module_version": "1.2.0",
          "state": {
            "_model_module": "@jupyter-widgets/base",
            "_model_module_version": "1.2.0",
            "_model_name": "LayoutModel",
            "_view_count": null,
            "_view_module": "@jupyter-widgets/base",
            "_view_module_version": "1.2.0",
            "_view_name": "LayoutView",
            "align_content": null,
            "align_items": null,
            "align_self": null,
            "border": null,
            "bottom": null,
            "display": null,
            "flex": null,
            "flex_flow": null,
            "grid_area": null,
            "grid_auto_columns": null,
            "grid_auto_flow": null,
            "grid_auto_rows": null,
            "grid_column": null,
            "grid_gap": null,
            "grid_row": null,
            "grid_template_areas": null,
            "grid_template_columns": null,
            "grid_template_rows": null,
            "height": null,
            "justify_content": null,
            "justify_items": null,
            "left": null,
            "margin": null,
            "max_height": null,
            "max_width": null,
            "min_height": null,
            "min_width": null,
            "object_fit": null,
            "object_position": null,
            "order": null,
            "overflow": null,
            "overflow_x": null,
            "overflow_y": null,
            "padding": null,
            "right": null,
            "top": null,
            "visibility": null,
            "width": null
          }
        },
        "8f3bcc6c4d1f46d2a5f309d4f5966dd1": {
          "model_module": "@jupyter-widgets/controls",
          "model_name": "DescriptionStyleModel",
          "model_module_version": "1.5.0",
          "state": {
            "_model_module": "@jupyter-widgets/controls",
            "_model_module_version": "1.5.0",
            "_model_name": "DescriptionStyleModel",
            "_view_count": null,
            "_view_module": "@jupyter-widgets/base",
            "_view_module_version": "1.2.0",
            "_view_name": "StyleView",
            "description_width": ""
          }
        },
        "584dc428912346878acb794e74715326": {
          "model_module": "@jupyter-widgets/base",
          "model_name": "LayoutModel",
          "model_module_version": "1.2.0",
          "state": {
            "_model_module": "@jupyter-widgets/base",
            "_model_module_version": "1.2.0",
            "_model_name": "LayoutModel",
            "_view_count": null,
            "_view_module": "@jupyter-widgets/base",
            "_view_module_version": "1.2.0",
            "_view_name": "LayoutView",
            "align_content": null,
            "align_items": null,
            "align_self": null,
            "border": null,
            "bottom": null,
            "display": null,
            "flex": null,
            "flex_flow": null,
            "grid_area": null,
            "grid_auto_columns": null,
            "grid_auto_flow": null,
            "grid_auto_rows": null,
            "grid_column": null,
            "grid_gap": null,
            "grid_row": null,
            "grid_template_areas": null,
            "grid_template_columns": null,
            "grid_template_rows": null,
            "height": null,
            "justify_content": null,
            "justify_items": null,
            "left": null,
            "margin": null,
            "max_height": null,
            "max_width": null,
            "min_height": null,
            "min_width": null,
            "object_fit": null,
            "object_position": null,
            "order": null,
            "overflow": null,
            "overflow_x": null,
            "overflow_y": null,
            "padding": null,
            "right": null,
            "top": null,
            "visibility": null,
            "width": null
          }
        },
        "ee1c5716fff84d3e85ca771793f37081": {
          "model_module": "@jupyter-widgets/controls",
          "model_name": "ProgressStyleModel",
          "model_module_version": "1.5.0",
          "state": {
            "_model_module": "@jupyter-widgets/controls",
            "_model_module_version": "1.5.0",
            "_model_name": "ProgressStyleModel",
            "_view_count": null,
            "_view_module": "@jupyter-widgets/base",
            "_view_module_version": "1.2.0",
            "_view_name": "StyleView",
            "bar_color": null,
            "description_width": ""
          }
        },
        "aa18b6dd4bb44b52a219a6ed20ac7246": {
          "model_module": "@jupyter-widgets/base",
          "model_name": "LayoutModel",
          "model_module_version": "1.2.0",
          "state": {
            "_model_module": "@jupyter-widgets/base",
            "_model_module_version": "1.2.0",
            "_model_name": "LayoutModel",
            "_view_count": null,
            "_view_module": "@jupyter-widgets/base",
            "_view_module_version": "1.2.0",
            "_view_name": "LayoutView",
            "align_content": null,
            "align_items": null,
            "align_self": null,
            "border": null,
            "bottom": null,
            "display": null,
            "flex": null,
            "flex_flow": null,
            "grid_area": null,
            "grid_auto_columns": null,
            "grid_auto_flow": null,
            "grid_auto_rows": null,
            "grid_column": null,
            "grid_gap": null,
            "grid_row": null,
            "grid_template_areas": null,
            "grid_template_columns": null,
            "grid_template_rows": null,
            "height": null,
            "justify_content": null,
            "justify_items": null,
            "left": null,
            "margin": null,
            "max_height": null,
            "max_width": null,
            "min_height": null,
            "min_width": null,
            "object_fit": null,
            "object_position": null,
            "order": null,
            "overflow": null,
            "overflow_x": null,
            "overflow_y": null,
            "padding": null,
            "right": null,
            "top": null,
            "visibility": null,
            "width": null
          }
        },
        "876f554729f144bf972f581728ebb8e7": {
          "model_module": "@jupyter-widgets/controls",
          "model_name": "DescriptionStyleModel",
          "model_module_version": "1.5.0",
          "state": {
            "_model_module": "@jupyter-widgets/controls",
            "_model_module_version": "1.5.0",
            "_model_name": "DescriptionStyleModel",
            "_view_count": null,
            "_view_module": "@jupyter-widgets/base",
            "_view_module_version": "1.2.0",
            "_view_name": "StyleView",
            "description_width": ""
          }
        },
        "6120f813552d48af9e8d5d5af369ea1c": {
          "model_module": "@jupyter-widgets/controls",
          "model_name": "HBoxModel",
          "model_module_version": "1.5.0",
          "state": {
            "_dom_classes": [],
            "_model_module": "@jupyter-widgets/controls",
            "_model_module_version": "1.5.0",
            "_model_name": "HBoxModel",
            "_view_count": null,
            "_view_module": "@jupyter-widgets/controls",
            "_view_module_version": "1.5.0",
            "_view_name": "HBoxView",
            "box_style": "",
            "children": [
              "IPY_MODEL_e7e308eae9254a7b94edcb2747b64b91",
              "IPY_MODEL_9a7fd970326a4cafac3242914b3aff5e"
            ],
            "layout": "IPY_MODEL_db4f775aa3724b9aa1c4d8172513641e"
          }
        },
        "e7e308eae9254a7b94edcb2747b64b91": {
          "model_module": "@jupyter-widgets/controls",
          "model_name": "SelectMultipleModel",
          "model_module_version": "1.5.0",
          "state": {
            "_dom_classes": [],
            "_model_module": "@jupyter-widgets/controls",
            "_model_module_version": "1.5.0",
            "_model_name": "SelectMultipleModel",
            "_options_labels": [
              "1",
              "2",
              "3",
              "4",
              "5",
              "6",
              "7",
              "8",
              "9",
              "10",
              "11",
              "12"
            ],
            "_view_count": null,
            "_view_module": "@jupyter-widgets/controls",
            "_view_module_version": "1.5.0",
            "_view_name": "SelectMultipleView",
            "description": "heads",
            "description_tooltip": null,
            "disabled": false,
            "index": [
              0,
              1,
              2,
              3,
              4,
              5,
              6,
              7,
              8,
              9,
              10,
              11
            ],
            "layout": "IPY_MODEL_df9dbf999685494fa25402de684bbb6f",
            "rows": 5,
            "style": "IPY_MODEL_2cf0d7ceb0e94ff4b287ca7d04581276"
          }
        },
        "9a7fd970326a4cafac3242914b3aff5e": {
          "model_module": "@jupyter-widgets/controls",
          "model_name": "SelectMultipleModel",
          "model_module_version": "1.5.0",
          "state": {
            "_dom_classes": [],
            "_model_module": "@jupyter-widgets/controls",
            "_model_module_version": "1.5.0",
            "_model_name": "SelectMultipleModel",
            "_options_labels": [
              "1",
              "2",
              "3",
              "4",
              "5",
              "6",
              "7",
              "8",
              "9",
              "10",
              "11",
              "12"
            ],
            "_view_count": null,
            "_view_module": "@jupyter-widgets/controls",
            "_view_module_version": "1.5.0",
            "_view_name": "SelectMultipleView",
            "description": "layer",
            "description_tooltip": null,
            "disabled": false,
            "index": [
              0,
              1,
              2,
              3,
              4,
              5,
              6,
              7,
              8,
              9,
              10,
              11
            ],
            "layout": "IPY_MODEL_765bac116f28408c954d0bc61334d7af",
            "rows": 5,
            "style": "IPY_MODEL_15492bcfa96a40df86457ece37a6e779"
          }
        },
        "db4f775aa3724b9aa1c4d8172513641e": {
          "model_module": "@jupyter-widgets/base",
          "model_name": "LayoutModel",
          "model_module_version": "1.2.0",
          "state": {
            "_model_module": "@jupyter-widgets/base",
            "_model_module_version": "1.2.0",
            "_model_name": "LayoutModel",
            "_view_count": null,
            "_view_module": "@jupyter-widgets/base",
            "_view_module_version": "1.2.0",
            "_view_name": "LayoutView",
            "align_content": null,
            "align_items": null,
            "align_self": null,
            "border": null,
            "bottom": null,
            "display": null,
            "flex": null,
            "flex_flow": null,
            "grid_area": null,
            "grid_auto_columns": null,
            "grid_auto_flow": null,
            "grid_auto_rows": null,
            "grid_column": null,
            "grid_gap": null,
            "grid_row": null,
            "grid_template_areas": null,
            "grid_template_columns": null,
            "grid_template_rows": null,
            "height": null,
            "justify_content": null,
            "justify_items": null,
            "left": null,
            "margin": null,
            "max_height": null,
            "max_width": null,
            "min_height": null,
            "min_width": null,
            "object_fit": null,
            "object_position": null,
            "order": null,
            "overflow": null,
            "overflow_x": null,
            "overflow_y": null,
            "padding": null,
            "right": null,
            "top": null,
            "visibility": null,
            "width": null
          }
        },
        "df9dbf999685494fa25402de684bbb6f": {
          "model_module": "@jupyter-widgets/base",
          "model_name": "LayoutModel",
          "model_module_version": "1.2.0",
          "state": {
            "_model_module": "@jupyter-widgets/base",
            "_model_module_version": "1.2.0",
            "_model_name": "LayoutModel",
            "_view_count": null,
            "_view_module": "@jupyter-widgets/base",
            "_view_module_version": "1.2.0",
            "_view_name": "LayoutView",
            "align_content": null,
            "align_items": null,
            "align_self": null,
            "border": null,
            "bottom": null,
            "display": null,
            "flex": null,
            "flex_flow": null,
            "grid_area": null,
            "grid_auto_columns": null,
            "grid_auto_flow": null,
            "grid_auto_rows": null,
            "grid_column": null,
            "grid_gap": null,
            "grid_row": null,
            "grid_template_areas": null,
            "grid_template_columns": null,
            "grid_template_rows": null,
            "height": null,
            "justify_content": null,
            "justify_items": null,
            "left": null,
            "margin": null,
            "max_height": null,
            "max_width": null,
            "min_height": null,
            "min_width": null,
            "object_fit": null,
            "object_position": null,
            "order": null,
            "overflow": null,
            "overflow_x": null,
            "overflow_y": null,
            "padding": null,
            "right": null,
            "top": null,
            "visibility": null,
            "width": null
          }
        },
        "2cf0d7ceb0e94ff4b287ca7d04581276": {
          "model_module": "@jupyter-widgets/controls",
          "model_name": "DescriptionStyleModel",
          "model_module_version": "1.5.0",
          "state": {
            "_model_module": "@jupyter-widgets/controls",
            "_model_module_version": "1.5.0",
            "_model_name": "DescriptionStyleModel",
            "_view_count": null,
            "_view_module": "@jupyter-widgets/base",
            "_view_module_version": "1.2.0",
            "_view_name": "StyleView",
            "description_width": ""
          }
        },
        "765bac116f28408c954d0bc61334d7af": {
          "model_module": "@jupyter-widgets/base",
          "model_name": "LayoutModel",
          "model_module_version": "1.2.0",
          "state": {
            "_model_module": "@jupyter-widgets/base",
            "_model_module_version": "1.2.0",
            "_model_name": "LayoutModel",
            "_view_count": null,
            "_view_module": "@jupyter-widgets/base",
            "_view_module_version": "1.2.0",
            "_view_name": "LayoutView",
            "align_content": null,
            "align_items": null,
            "align_self": null,
            "border": null,
            "bottom": null,
            "display": null,
            "flex": null,
            "flex_flow": null,
            "grid_area": null,
            "grid_auto_columns": null,
            "grid_auto_flow": null,
            "grid_auto_rows": null,
            "grid_column": null,
            "grid_gap": null,
            "grid_row": null,
            "grid_template_areas": null,
            "grid_template_columns": null,
            "grid_template_rows": null,
            "height": null,
            "justify_content": null,
            "justify_items": null,
            "left": null,
            "margin": null,
            "max_height": null,
            "max_width": null,
            "min_height": null,
            "min_width": null,
            "object_fit": null,
            "object_position": null,
            "order": null,
            "overflow": null,
            "overflow_x": null,
            "overflow_y": null,
            "padding": null,
            "right": null,
            "top": null,
            "visibility": null,
            "width": null
          }
        },
        "15492bcfa96a40df86457ece37a6e779": {
          "model_module": "@jupyter-widgets/controls",
          "model_name": "DescriptionStyleModel",
          "model_module_version": "1.5.0",
          "state": {
            "_model_module": "@jupyter-widgets/controls",
            "_model_module_version": "1.5.0",
            "_model_name": "DescriptionStyleModel",
            "_view_count": null,
            "_view_module": "@jupyter-widgets/base",
            "_view_module_version": "1.2.0",
            "_view_name": "StyleView",
            "description_width": ""
          }
        },
        "0c335aa497dc4477818c2bdfa08ab95f": {
          "model_module": "@jupyter-widgets/output",
          "model_name": "OutputModel",
          "model_module_version": "1.0.0",
          "state": {
            "_dom_classes": [],
            "_model_module": "@jupyter-widgets/output",
            "_model_module_version": "1.0.0",
            "_model_name": "OutputModel",
            "_view_count": null,
            "_view_module": "@jupyter-widgets/output",
            "_view_module_version": "1.0.0",
            "_view_name": "OutputView",
            "layout": "IPY_MODEL_5c555d306b1c45659a33f5e014e266e4",
            "msg_id": "",
            "outputs": [
              {
                "output_type": "display_data",
                "data": {
                  "text/plain": "<Figure size 2880x1080 with 1 Axes>",
                  "image/png": "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\n"
                },
                "metadata": {}
              }
            ]
          }
        },
        "5c555d306b1c45659a33f5e014e266e4": {
          "model_module": "@jupyter-widgets/base",
          "model_name": "LayoutModel",
          "model_module_version": "1.2.0",
          "state": {
            "_model_module": "@jupyter-widgets/base",
            "_model_module_version": "1.2.0",
            "_model_name": "LayoutModel",
            "_view_count": null,
            "_view_module": "@jupyter-widgets/base",
            "_view_module_version": "1.2.0",
            "_view_name": "LayoutView",
            "align_content": null,
            "align_items": null,
            "align_self": null,
            "border": null,
            "bottom": null,
            "display": null,
            "flex": null,
            "flex_flow": null,
            "grid_area": null,
            "grid_auto_columns": null,
            "grid_auto_flow": null,
            "grid_auto_rows": null,
            "grid_column": null,
            "grid_gap": null,
            "grid_row": null,
            "grid_template_areas": null,
            "grid_template_columns": null,
            "grid_template_rows": null,
            "height": null,
            "justify_content": null,
            "justify_items": null,
            "left": null,
            "margin": null,
            "max_height": null,
            "max_width": null,
            "min_height": null,
            "min_width": null,
            "object_fit": null,
            "object_position": null,
            "order": null,
            "overflow": null,
            "overflow_x": null,
            "overflow_y": null,
            "padding": null,
            "right": null,
            "top": null,
            "visibility": null,
            "width": null
          }
        },
        "79a50962044c40ec9e7a7bdf78859584": {
          "model_module": "@jupyter-widgets/controls",
          "model_name": "HBoxModel",
          "model_module_version": "1.5.0",
          "state": {
            "_dom_classes": [],
            "_model_module": "@jupyter-widgets/controls",
            "_model_module_version": "1.5.0",
            "_model_name": "HBoxModel",
            "_view_count": null,
            "_view_module": "@jupyter-widgets/controls",
            "_view_module_version": "1.5.0",
            "_view_name": "HBoxView",
            "box_style": "",
            "children": [
              "IPY_MODEL_e7e308eae9254a7b94edcb2747b64b91"
            ],
            "layout": "IPY_MODEL_b43dd6a76061448099a6cd715a642ab1"
          }
        },
        "b43dd6a76061448099a6cd715a642ab1": {
          "model_module": "@jupyter-widgets/base",
          "model_name": "LayoutModel",
          "model_module_version": "1.2.0",
          "state": {
            "_model_module": "@jupyter-widgets/base",
            "_model_module_version": "1.2.0",
            "_model_name": "LayoutModel",
            "_view_count": null,
            "_view_module": "@jupyter-widgets/base",
            "_view_module_version": "1.2.0",
            "_view_name": "LayoutView",
            "align_content": null,
            "align_items": null,
            "align_self": null,
            "border": null,
            "bottom": null,
            "display": null,
            "flex": null,
            "flex_flow": null,
            "grid_area": null,
            "grid_auto_columns": null,
            "grid_auto_flow": null,
            "grid_auto_rows": null,
            "grid_column": null,
            "grid_gap": null,
            "grid_row": null,
            "grid_template_areas": null,
            "grid_template_columns": null,
            "grid_template_rows": null,
            "height": null,
            "justify_content": null,
            "justify_items": null,
            "left": null,
            "margin": null,
            "max_height": null,
            "max_width": null,
            "min_height": null,
            "min_width": null,
            "object_fit": null,
            "object_position": null,
            "order": null,
            "overflow": null,
            "overflow_x": null,
            "overflow_y": null,
            "padding": null,
            "right": null,
            "top": null,
            "visibility": null,
            "width": null
          }
        },
        "76f1fa7f7b164ae9b612151d0eddaacd": {
          "model_module": "@jupyter-widgets/output",
          "model_name": "OutputModel",
          "model_module_version": "1.0.0",
          "state": {
            "_dom_classes": [],
            "_model_module": "@jupyter-widgets/output",
            "_model_module_version": "1.0.0",
            "_model_name": "OutputModel",
            "_view_count": null,
            "_view_module": "@jupyter-widgets/output",
            "_view_module_version": "1.0.0",
            "_view_name": "OutputView",
            "layout": "IPY_MODEL_d833e5a8f54d496b86ecbd1bca332921",
            "msg_id": "",
            "outputs": [
              {
                "output_type": "display_data",
                "data": {
                  "text/plain": "<Figure size 2520x1080 with 1 Axes>",
                  "image/png": "iVBORw0KGgoAAAANSUhEUgAAB9sAAANiCAYAAADBlanjAAAABHNCSVQICAgIfAhkiAAAAAlwSFlzAAALEgAACxIB0t1+/AAAADh0RVh0U29mdHdhcmUAbWF0cGxvdGxpYiB2ZXJzaW9uMy4yLjIsIGh0dHA6Ly9tYXRwbG90bGliLm9yZy+WH4yJAAAgAElEQVR4nOzde5hdZXk34N+ePZkkkEwOkyGZJJxBRRBQ6YfUYC0gYEkAgQSKeEJRkUppJZWz5aARAUGJgEBFIIog4CFIgFL4KHhApdYiKIgEEJJJJhNCzpnD3t8ffkkNMJhl9p4heN/XxcWsNWs/z7NzwZs/ftf7rlK1Wq0GAAAAAAAAANhgDQM9AAAAAAAAAABsaoTtAAAAAAAAAFCQsB0AAAAAAAAAChK2AwAAAAAAAEBBwnYAAAAAAAAAKEjYDgAAAAAAAAAFCdsBAAAAAAAAoKDGgR6g1p5/fkUqlepAjwHUSUvLsHR2Lh/oMQAGlLUQwFoIkFgLAayDANbCemtoKGXUqM37/P1rLmyvVKrCdniN8/84gLUQILEWAiTWQgDrIIC1cCA5Rh4AAAAAAAAAChK2AwAAAAAAAEBBr7lj5AEAAAAAAACon2q1muef70hX1+okm/4x9uVyY4YNG5mhQ/t+P/vLEbYDAAAAAAAAsMGWL38hpVIpY8dOTKm0aR+mXq1W093dlSVLOpKkUOC+aX9zAAAAAAAAAPrVqlXLM3z4yE0+aE+SUqmUpqbBGTmyNcuXLyn02U3/2wMAAAAAAADQbyqV3pTLr61D1AcNakpvb0+hzwjbAQAAAAAAACikVCoN9Ag19ed8H2E7AAAAAAAAAHV1xBFT8rOfPVjXHvPnz8ukSXukp6fYDvU/l7AdAAAAAAAAAAoStgMAAAAAAABAQa+tt9YDAAAAAAAA8Kr0298+npkzL057+/zsuedf5/TT/zWDBw/OD394f6666vK0t8/LNttsl5NPPjU77LBjkuT667+e2bO/k+effz5jx47Nccd9In/zN3+bJOnt7c3ll1+aOXNmZ7PNhuWoo97br99H2A4AAAAAAABA3d1777/noosuTVNTU44//sOZM2d23vjGXTJjxjk5//yL84Y37JS77pqTU07553zzm7ekqakpEyZMzGWXXZ3Ro1ty771359xzz8zOO383Y8aMyezZ38mPfnR/vva1b2To0KE5/fR/6dfv4xh5AAAAAAAAAOruiCOOypgxrWluHpG3v33v/Pa3j+f73/9ODjnksOy88y4pl8t597snZ9CgQXnkkYeTJPvss1/GjGlNQ0ND9t13/0ycuFV+/etfJUnuuefuTJv29xk7dlyam0fkfe/7UL9+HzvbAQAAAAAAAKi70aNb1v08ePCQLFq0KEuXvpA5c27LLbfcuO533d3dWbSoI0kyZ85tufHGb6a9fV6SZNWqVXnhhSVJkkWLOrLFFuPWfW7cuP/9uT8I2wEAAAAAAAAYEFtsMTbvf/+x+cAHPvyS37W3z88XvvDZXHLJ5dlllzelXC7ngx88OtXqH37f0jImCxe2r3t+wYL2l9SoJ8fIAwAAAAAAADAgDj74Pfne927NI4/8KtVqNatWrcqPfvRAVq5ckVWrVqVUKmXUqJFJkh/84PuZO/d36z67zz7vys0335iFCxdk6dKlmTXr2n6d3c52AAAAAAAAAAbEG97wxvzLv5yeiy/+Qp599pkMHjw4b3rT7tl99zdn2223y5FHvjcf+9ixaWgo5cADD8qb3rTbus9OmXJofv/7p/PBDx6dzTffPEcddUweeuhn/TZ7qVpdu8n+taGzc3kqldfUVwL+SGvr8HR0LBvoMQAGlLUQwFoIkFgLAayDAAO3Fra3P51x47bu97719uLv1dBQSkvLsD6fd4w8AAAAAAAAABQkbAcAAAAAAACAgoTtAAAAAAAAAFCQsB0AAAAAAAAAChK2AwAAAAAAAEBBwnYAAAAAAAAAKEjYDgAAAAAAAAAFCdsBAAAAAAAAoCBhOwAAAAAAAACbrJkzL8nUqQdn0qQ98uSTT/RbX2E7AAAAAAAAAHX1wC0/zolvnZ6jxx2bE986PQ/c8uOa1d5773dm5swrM25cW81qbojGfu0GAAAAAAAAwF+UB275ca7+1LXpWtWVJFn0bGeu/tS1SZJJh++10fV32233ja7x57CzHQBeQcPmlfRutqbPf6qbd6dc9tcpAAAAAAD05abP3bouaF+ra1VXbvrcrQM0UW30y872888/P3feeWeee+65zJ49O6973ete8kxvb2/OO++83H///SmVSvnoRz+aqVOn9sd4ANCn3kpvPvfbr+S5VQte8rtSSrlk1zNT6h00AJMBAAAAAMCmYdFznS97v7OP+5uKftmKt+++++Yb3/hGJkyY0Oczs2fPzjPPPJO77rorN954Yy699NI8++yz/TEeAPSpsaspH9z6iJf93d5j9siQytB+nggAAAAAADYtYya0vOz9lj7ubyr6JWzfY4890tb2yi+jv/322zN16tQ0NDRk9OjR2W+//XLHHXf0x3gA0Kfe3momNrVlwtCx690vpZTDx7871TWOkAcAAAAAgFcy7bTD0jS0ab17TUObMu20wwZootp41SQE8+fPz/jx49ddt7W1pb29fQAnAoA/eLnd7Xa1AwAAAADAhpl0+F75yEUfyJiJLSmVkjETW/KRiz6QSYfvVZP6l1xyQd7znr9LR8fCnHTSCTnmmGk1qfun9Ms72/tTS8uwgR4BqLPW1uEDPQJ/gUpdW2bC0LF5btWClFLK1C0PypihIwZ6LP6CWQsBrIUAibUQwDoIMDBr4cKFDWlsLLav+51Hvj3vPPLtdZnn5JM/nZNP/vRG12loaCj05/mqCdvb2toyb9687LrrrkleutN9Q3V2Lk+lUq31eMCrRGvr8HR0LBvoMfgLVC435INbH5HP/uYr2XvMHmnqHpyO5f5bZGBYCwGshQCJtRDAOggwcGthpVJJT0+l3/vWW6VSWe/Ps6Gh9IqbvV81x8gfeOCB+fa3v51KpZLFixfn7rvvzgEHHDDQYwFAkv99d/vEoeO8qx0AAAAAAOifsP28887LO97xjrS3t+dDH/pQDjrooCTJcccdl4cffjhJcsghh2TixInZf//9M23atJxwwgnZcsst+2M8ANggjV1NOeuNn/SudgAAAAAAIKVqtfqaOnPdMfLw2uZoKAZa4+BSetb4e4aBZS0EsBYCJNZCAOsgwMCthe3tT2fcuK37vW+9vfh7bTLHyAPApkDQDgAAAAAAJMJ2AAAAAAAAACiscaAHAAAAAAAAAIA/1wsvLMm5556V5557NoMGDcrEiVtl+vTTMmrUqLr2tbMdAAAAAAAAgE1WqVTK0Ue/PzfccGuuu+7GTJgwMVdccWnd+wrbAQAAAAAAAKibnu7eXPCPs3LBP87K6pVd637u6e6tSf3m5hF5y1v2WHe98867pL29vSa1X4lj5AEAAAAAAACom4tPviGP/eLpJMk/Tvliev9/yH7xyTdk+peOqWmvSqWS73znlkya9I6a1n05wnYAAAAAAAAA6q5rTU+ypidJ0jS4PlH1xRdfkM02G5rDD59Wl/p/zDHyAAAAAAAAANTNJ2dMS3lQeb175UHlnPj52gbiM2dekmeffSZnnz0jDQ31j8KF7QAAAAAAAADUzaWn3rTu6Pi1ert78+VTbqpZj69+9St57LFfZ8aMi9LU1FSzuq/EMfIAAAAAAAAA1F3T4MaUB5VfErxvrCef/F2uv/6abLnlVvn4x49NkrS1jc+MGRfWtM+LCdsBAAAAAAAAqJt/uvDvc/HJNyT5w5Hyl55607r7tbDddtvngQd+XpNaRQjbAQAAAAAAAKibxkHlTP/SMeuu//jnTZl3tgMAAAAAAABAQcJ2AAAAAAAAAChI2A4AAAAAAAAABQnbAQAAAAAAAKAgYTsAAAAAAAAAFCRsBwAAAAAAAICCGgd6AAAAAAAAAADYGKee+qnMmzcvDQ2lDB26Wf7pn6Znxx1fX9eewnYAAAAAAAAANmmnn352hg0bliS5//7/mxkzzsnXvvaNuvYUtgMAAAAAAABQVx865oqsXt297nrIkEG5ZtbHa1Z/bdCeJMuXL0+pVP83qgvbAQAAAAAAAKirPw7aX+66Fj7/+XPz05/+JEly4YVfrnn9F6t/nA8AAAAAAAAAdXbKKWfm1lt/kI9+9BO57LIv1b2fsB0AAAAAAACA14wDDzwo//VfD+WFF5bUtY+wHQAAAAAAAIC6GjJk0Cteb4yVK1dmwYL2ddcPPPCfaW5uTnPziJr1eDne2Q4AAAAAAABAXV0z6+N1q7169aqceeYpWb16VRoaymlubs7551+cUqlUt56JsB0AAAAAAACATdjo0S258sqv93tfx8gDAAAAAAAAQEHCdgAAAAAAAAAoSNgOAAAAAAAAAAUJ2wEAAAAAAACgIGE7AAAAAAAAABQkbAcAAAAAAACAgoTtAAAAAAAAALwmfO1rV2bSpD3y5JNP1L2XsB0AAAAAAACATd5jj/0mjzzyq4wb19Yv/YTtAAAAAAAAANTdkdOvycEnXpkjp19T89pdXV354hfPz8knn1Lz2n0RtgMAAAAAAABQd6vWdK/371q6+uorsv/+705b2/ia1+5LY791AgAAAAAAAOAvzpHTr8mqNd0pN5TSW6mm3FDKwSdemaGDB+XGCz600fV/9av/yWOP/TrHH//JGky74exsBwAAAAAAAKBu1u5k761U1/t3rXa4/+IX/5WnnpqbqVMPzhFHTElHx8L88z9/Mj/96U9qUr8vdrYDAAAAAAAAUDdDBw96yc723ko1QwcPqkn9973vg3nf+z647vqII6bkC1+4ONttt0NN6vdF2A4AAAAAAABA3aw9Kv7gE69M8oed7d//8kcHcqSaELYDAAAAAAAAUHdrd7jXakd7X26+eXZd668lbAcAAAAAAACg7tbucH+taBjoAQAAAAAAAABgUyNsBwAAAAAAAICChO0AAAAAAAAAUJCwHQAAAAAAAAAKErYDAAAAAAAAQEHCdgAAAAAAAAAoqHGgBwAAAAAAAACAjXHEEVPS1NSUpqbBSZLjj/9k9txzr7r2FLYDAAAAAAAAUHe/eGpezv3uPTnz0H3y5m3G17z+eeedn+2226HmdfviGHkAAAAAAAAA6uoXT83L6TfdlRdWrs7pN92VXzw1b6BH2mjCdgAAAAAAAADqZm3QvqanJ0mypqenLoH72WefmQ984KhceOHns2zZsprWfjnCdgAAAAAAAADq5tzv3rMuaF9rTU9Pzv3uPTXr8ZWvXJVrr70hV111XZJqLr74CzWr3RdhOwAAAAAAAAB1c+ah+2RwY+N69wY3NubMQ/epWY+xY8clSZqamvKe90zNww//sma1+yJsBwAAAAAAAKBu3rzN+Hx22v7rAvfBjY357LT98+Ztxtek/qpVq7J8+fIkSbVazd1335kddnhdTWq/ksY//QgAAAAAAAAA/PnWBu7nfveenHnoPjUL2pNk8eLOnHHGv6RSqaS3t5Jtttk2n/rUKTWr3xdhOwAAAAAAAAB19+ZtxufWk46ped0JEybmmmu+WfO6f4pj5AEAAAAAAACgIGE7AAAAAAAAABQkbAcAAAAAAACAgoTtAAAAAAAAAFCQsB0AAAAAAAAAChK2AwAAAAAAAEBBjQM9AAAAAAAAAABsjDVr1uTSS7+Yn//8p2lqasrOO++aT3/69Lr2FLYDAAAAAAAAsEm7/PIvp6mpKTfccGtKpVIWL+6se0/HyAMAAAAAAABQdwuXr8gR37oxC5evqGndlStX5o47fpCPfOT4lEqlJMno0S017fFyhO0AAAAAAAAA1N3MBx/MguXLM/PBB2ta97nnnk1z84hcc81V+fCH35d/+IeP5pe//O+a9ng5wnYAAAAAAAAA6mbh8hU56z/uyf1PP51KtZr7n346Z/3HPTXb4V6pVDJv3nPZccfX59/+7focf/yJOf306VmxYnlN6vdF2A4AAAAAAABA3Xzittty79y56ertTZJ09fbm3rlz84nbbqtJ/bFjx6VcLudd7zogSbLzzrtk5MiR+f3vn6lJ/b4I2wEAAAAAAACom8smT87fbrttmsrlJElTuZy/3XbbXDZ5ck3qjxw5Mm95yx752c/+cDz9M888neefX5wJE7asSf2+NNa1OgAAAAAAAAB/0bYYtnnO2XefnPUf9+TeuXPzjq23ztn77lPTHieffGpmzDgnM2denMbGxpxxxjkZPnx4TXu8mLAdAAAAAAAAgLr7hz33zKMdHTlhzz1rXnvChImZOfPKmtd9JcJ2AAAAAAAAAOpui2Gb5+ajjhzoMWrGO9sBAAAAAAAAoCBhOwAAAAAAAAAUJGwHAAAAAAAAgIKE7QAAAAAAAABQkLAdAAAAAAAAAAoStgMAAAAAAABAQY0DPQAAAAAAAAAA/Lnmz5+XU089ed318uXLsmLFisyZc09d+wrbAQAAAAAAAKi7RatX5MP3fy//tvehGTNks5rVbWsbn69//Zvrrr/0pYvS29tTs/p9cYw8AAAAAAAAAHV39WMPZd7Kpbn6sYfq1qO7uzv//u9zctBBh9Stx1rCdgAAAAAAAADqatHqFZn9zGOpJpn9zG+yaPXKuvR54IH7MmbMFnn9699Ql/p/TNgOAAAAAAAAQF1d/dhDqVSrSZJKtVq33e0/+MH3c9BBB9el9osJ2wEAAAAAAACom7W72rurlSRJd7VSl93tHR0L89///V/Zf/8Da1q3L8J2AAAAAAAAAOrmj3e1r1WP3e1z5tyWvfaalBEjRta0bl+E7QAAAAAAAADUzX3tT6/b1b5Wd7WS+9qfqmmf22+/rd+OkE+Sxn7rBAAAAAAAAMBfnDkHvK9f+nzrW7f2S5+17GwHAAAAAAAAgIKE7QAAAAAAAABQkLAdAAAAAAAAAAoStgMAAAAAAABAQcJ2AAAAAAAAAChI2A4AAAAAAAAABTUO9AAAAAAAAAAAsDF++MP7c/XVl6daTarVao499rj8zd/sU9eewnYAAAAAAAAANlnVajXnnntWLrvsqmy33Q554onf5vjjP5y9935nGhrqd9i7Y+QBAAAAAAAAqKvVvd2veL2xGhoasnz58iTJ8uXL0tIypq5Be2JnOwAAAAAAAAB1tLq3O+9+8MsZO7g5uzVPzC+XPpsFa5Zmzp4nZkh50EbXL5VKOeecGTn11E9lyJChWblyZS644Es1mPyVCdsBAAAAAAAAqJsh5UEZO7g57WuWpr3j0SRJ2+ARNQnak6SnpyfXX//1zJhxUXbddff8z//8d84665TMmvXtbLbZZjXp8XIcIw8AAAAAAABAXe3WPPFF1xNqVvuJJx5PZ2dHdt119yTJrrvunqFDh+bpp+fWrMfLEbYDAAAAAAAAUFe/XPrsi66fq1nt1tYtsnDhwjzzzFNJkqeempvFixdnwoSJr/zBjeQYeQAAAAAAAADqZnVvdxasWZq2wSOyW/OE/HLpc2lf80JW93bX5Cj5lpYxOfnkU3LGGZ9OqfSH/eannnpWmptHbHTtVyJsBwAAAAAAAKBuhpQHZc6eJ64XrNcqaF9r//3fnf33f3fN6m0Ix8gDAAAAAAAAUFcvDtZrGbQPFGE7AAAAAAAAABQkbAcAAAAAAACAgoTtAAAAAAAAAFCQsB0AAAAAAAAAChK2AwAAAAAAAEBBwnYAAAAAAAAAKKhxoAcAAAAAAAAAgI3xox89kKuvvjw9PT1pbh6R0077TMaPn1DXnsJ2AAAAAAAAAOrmlCc/myW9S19yf2S5OZ/f7vSNrr906dJ89rOfyeWXfy1bbbV17rzz9lx44efzxS9eutG1X4lj5AEAAAAAAACom103f2PKKa93r5xydhv2xprUf+6532fUqJZstdXWSZK99np7fvrTH2fJkiU1qd8XYTsAAAAAAAAAdXNQy75pKJXWu9dQasjfjd6vJvW33HLrLF7cmV//+pEkyV13zUmSLFjQXpP6fXGMPAAAAAAAAAB1M6KxOXsN3yM/XPqz9KY35ZTz181vzYjG4TWpP2zYsJx99ufy5S9/MV1dXXnb2/46w4YNT7lc/tMf3gjCdgAAAAAAAADq6qCWffPjZT9Pb7W2u9rX+qu/2jN/9Vd7JkkWL+7MDTdcnwkTJta0x4s5Rh4AAAAAAACAulq7u72UUk13ta/V2bkoSVKpVPLVr34lhxxyeIYOHVrTHi9mZzsAAAAAAAAAdXdQy755dOXjNd/VniRXXXV5Hn74l+nu7s7/+T9vy8c//g817/FiwnYAAAAAAAAA6m5EY3PO2/bTdal9yiln1qXuK3GMPAAAAAAAAAAUJGwHAAAAAAAAgIKE7QAAAAAAAABQkLAdAAAAAAAAAAoStgMAAAAAAABAQcJ2AAAAAAAAAChI2A4AAAAAAADAJmvmzEsyderBmTRpjzz55BPr7j/zzNP52Mc+lKOOOiwf+9iH8vvfP1PTvsJ2AAAAAAAAADZZe+/9zsyceWXGjWtb7/6FF87IYYdNzbe+dWsOO2xqLrjgczXtK2wHAAAAAAAAoK46un+XJ1f/JEny5OqfpKP7dzWrvdtuu2fs2HHr3Xv++cV5/PHfZL/9DkiS7LffAXn88d/k+eefr1nfxppVAgAAAAAAAICX0d79mzy44ro8tHJ8Xuidl7dt/v60Dtq+bv0WLFiQMWO2SLlcTpKUy+WMGdOahQsXZNSoUTXpYWc7AAAAAAAAAHWzqrI0nT1zU05TXuidl3KasqhnblZVlg70aBvFznYAAAAAAAAA6mb282dmaaV93XVvuvLEmvuzsPu3mdbypbr0HDt2bBYtWpje3t6Uy+X09vZm0aKObLHF2Jr1sLMdAAAAAAAAgLqZMurc7DB475TTlCRpTFN2GLx3pow6t249R40anR12eF3uvvvOJMndd9+ZHXd8fc2OkE+E7QAAAAAAAADU0dCG5rQ0bpvedGVEeXx60pUxjdtmaENzTepfcskFec97/i4dHQtz0kkn5JhjpiVJpk8/LTfffGOOOuqw3HzzjZk+/dSa9FurVK1WqzWtOMA6O5enUnlNfSXgj7S2Dk9Hx7KBHgNgQFkLAayFAIm1EMA6CDBwa2F7+9MZN27rQp/p6P5dlvV2ZLshb8uTq3+S4eXWtA7avk4T/nle/L0aGkppaRnW5/Pe2Q4AAAAAAABAXbUO2n5duL7dkLcN8DS14Rh5AAAAAAAAAChI2A4AAAAAAAAABQnbAQAAAAAAAKAgYTsAAAAAAAAAFNTYX43mzp2bU045JUuWLMnIkSNz/vnnZ5tttlnvmc7Ozpx66qmZP39+enp6sueee+aMM85IY2O/jQkAAAAAAAAAf1K/7Wz/zGc+k6OPPjp33nlnjj766Jx11lkveeaKK67I9ttvn9mzZ+f73/9+Hnnkkdx11139NSIAAAAAAAAAbJB+Cds7Ozvz6KOPZvLkyUmSyZMn59FHH83ixYvXe65UKmXFihWpVCrp6upKd3d3xo4d2x8jAgAAAAAAALAJmjnzkkydenAmTdojTz75xJ+8Xyv9cj77/PnzM3bs2JTL5SRJuVzOFltskfnz52f06NHrnvvEJz6RT37yk5k0aVJWrVqV9773vXnrW99aqFdLy7Cazg68+rS2Dh/oEQAGnLUQwFoIkFgLAayDAAOzFi5c2JDGxmL7ulf0PJTFXbesux7ddHg2byyWBfflne/82/z93x+dj33swymX/3e2vu73paGhodCf56vqZeh33HFHXv/61+faa6/NihUrctxxx+WOO+7IgQceuME1OjuXp1Kp1nFKYCC1tg5PR8eygR4DYEBZCwGshQCJtRDAOggwcGthpVJJT09lw5+vrsrTK/8plbyw7t7y7gey/WZz0lAautHz7LLLbut+7u3939n6ut/nnJXKen+eDQ2lV9zs3S/HyLe1tWXBggXp7e1NkvT29mbhwoVpa2tb77lZs2bl4IMPTkNDQ4YPH5599tknDz74YH+MCAAAAAAAAEAdLOq6OtWsWe9eJWuyqOvfBmii2uiXsL2lpSU77bRTbrvttiTJbbfdlp122mm9I+STZOLEifnP//zPJElXV1d+/OMfZ8cdd+yPEQEAAAAAAACogyU93041q9e7V83qLOm5aYAmqo1+CduT5F//9V8za9asHHDAAZk1a1bOPvvsJMlxxx2Xhx9+OEly2mmn5aGHHsqUKVNy6KGHZptttsm0adP6a0QAAAAAAAAAamxk49SUMmS9e6UMycjGTTsL7rd3tm+//fb59re//ZL7V1111bqft9pqq1xzzTX9NRIAAAAAAAAAdTam6SNZ0nPLervbGzI4Y5o+PIBTbbx+C9sBAAAAAAAA+MvTUBqaiUMuypLuW9fdGznosDSUhtak/iWXXJD77rs3ixd35qSTTkhz84jMmnVTn/drpVStVqs1q/Yq0Nm5PJXKa+orAX+ktXV4OjqWDfQYAAPKWghgLQRIrIUA1kGAgVsL29ufzrhxW/d733p78fdqaCilpWVYn8/32zvbAQAAAAAAAOC1QtgOAAAAAAAAAAUJ2wEAAAAAAACgIGE7AAAAAAAAABQkbAcAAAAAAACAgoTtAAAAAAAAAFBQ40APAAAAAAAAAAB/rpkzL8l9992T+fPn5brrvpXtttshL7ywJOeee1aee+7ZDBo0KBMnbpXp00/LqFGjatbXznYAAAAAAAAANll77/3OzJx5ZcaNa1t3r1Qq5eij358bbrg11113YyZMmJgrrri0pn2F7QAAAAAAAADUXanakZG9h6RU7ahp3d122z1jx45b715z84i85S17rLveeedd0t7eXtO+wnYAAAAAAAAA6qpUXZbNKl9JQ57LZpXLUqou67felUol3/nOLZk06R01reud7QAAAAAAAADUzfDef86g3J9qhqSUappydwZXbkt39s6y8hfr3v/iiy/IZpsNzeGHT6tpXTvbAQAAAAAAAKiblQ3HpZqhKWVlkqSUlalmaFY2HFf33jNnXpJnn30mZ589Iw0NtY3Hhe0AAAAAAAAA1E1vaaesyaFJSv//Tilrcmh6SzvVte9Xv/qVPPbYrzNjxg/1AGwAACAASURBVEVpamqqeX3HyAMAAAAAAABQV+U8lqSUruyRQXko5Txes9qXXHJB7rvv3ixe3JmTTjohzc0jcs45M3L99ddkyy23ysc/fmySpK1tfGbMuLBmfYXtAAAAAAAAANTVqoYTsiKtqZTa0lCdn4Ysqlntk06anpNOmv6S+w888POa9Xg5wnYAAAAAAAAA6qqntOu6nyultlTSNoDT1IZ3tgMAAAAAAABAQcJ2AAAAAAAAAChI2A4AAAAAAABAIdVqdaBHqKlqtZKkVOgzwnYAAAAAAAAANlhjY1NWrFj6mgjcq9Vqenq6s2TJojQ1DSn02cY6zQQAAAAAAADAa9CoUa15/vmOLF++ZKBHqYmGhnKGDh2WYcNGFPqcsB0AAAAAAACADVYuN2bMmLaBHmPAOUYeAAAAAAAAAAoStgMAAAAAAABAQcJ2AAAAAAAAAChI2A4AAAAAAAAABQnbAQAAAAAAAKAgYTsAAAAAAAAAFCRsBwAAAAAAAICChO0AAAAAAAAAUJCwHQAAAAAAAAAKErYDAAAAAAAAQEHCdgAAAAAAAAAoSNgOAAAAAAAAAAUJ2wEAAAAAAACgIGE7AAAAAAAAABQkbAcAAAAAAACAgoTtAAAAAAAAAFCQsB0AAAAAAAAAChK2AwAAAAAAAEBBwnYAAAAAAAAAKEjYDgAAAAAAAAAFCdsBAAAAAAAAoCBhOwAAAAAAAAAUJGwHAAAAAAAAgIKE7QAAAAAAAABQkLAdAAAAAAAAAAoStgMAAAAAAABAQcJ2AAAAAAAAAChI2A4AAAAAAAAABQnbAQAAAAAAAKAgYTsAAAAAAAAAFCRsBwAAAAAAAICChO0AAAAAAAAAUJCwHQAAAAAAAAAKErYDAAAAAAAAQEHCdgAAAAAAAAAoSNgOAAAAAAAAAAUJ2wEAAAAAAACgIGE7AAAAAAAAABQkbAcAAAAAAACAgoTtAAAAAAAAAFCQsB0AAAAAAAAAChK2AwAAAAAAAEBBwnYAAAAAAAAAKEjYDgAAAAAAAAAFCdsBAAAAAAAAoCBhOwAAAAAAAAAUJGwHAAAAAAAAgIKE7QAAAAAAAABQkLAdAAAAAAAAAAoStgMAAAAAAABAQcJ2AAAAAAAAAChI2A4AAAAAAAAABQnbAQAAAAAAAKAgYTsAAAAAAAAAFCRsBwAAAAAAAICChO0AAAAAAAAAUJCwHQAAAAAAAAAKErYDAAAAAAAAQEHCdgAAAAAAAAAoSNgOAAAAAAAAAAUJ2wEAAAAAAACgIGE7AAAAAAAAABQkbAcAAAAAAACAgoTtAAAAAAAAAFCQsB0AAAAAAAAAChK2AwAAAAAAAEBBwnYAAAAAAAAAKEjYDgAAAAAAAAAFCdsBAAAAAAAAoCBhOwAAAAAAAAAUJGwHAAAAAAAAgIKE7QAAAAAAAABQkLAdAAAAAAAAAAoStgMAAAAAAABAQcJ2AAAAAAAAAChI2A4AAAAAAAAABQnbAQAAAAAAAKAgYTsAAAAAAAAAFCRsBwAAAAAAAICChO0AAAAAAAAAUJCwHQAAAAAAAAAKErYDAAAAAAAAQEHCdgAAAAAAAAAoSNgOAAAAAAAAAAUJ2wEAAAAAAACgIGE7AAAAAAAAABQkbAcAAAAAAACAgoTtAAAAAAAAAFCQsB0AAAAAAAAAChK2AwAAAAAAAEBBwnYAAAAAAAAAKEjYDgAAAAAAAAAFCdsBAAAAAAAAoCBhOwAAAAAAAAAUJGwHAAAAAAAAgIKE7QAAAAAAAABQkLAdAAAAAAAAAAoStgMAAAAAAABAQcJ2AAAAAAAAAChI2A4AAAAAAAAABQnbAQAAAAAAAKAgYTsAAAAAAAAAFCRsBwAAAAAAAICChO0AAAAAAAAAUJCwHQAAAAAAAAAKErYDAAAAAAAAQEHCdgAAAAAAAAAoSNgOAAAAAAAAAAUJ2wEAAAAAAACgIGE7AAAAAAAAABQkbAcAAAAAAACAgoTtAAAAAAAAAFCQsB0AAAAAAAAAChK2AwAAAAAAAEBBwnYAAAAAAAAAKKjfwva5c+fmyCOPzAEHHJAjjzwyTz311Ms+d/vtt2fKlCmZPHlypkyZkkWLFvXXiAAAAAAAAACwQRr7q9FnPvOZHH300TnkkEPyve99L2eddVauu+669Z55+OGHM3PmzFx77bVpbW3NsmXL0tTU1F8jAgAAAAAAAMAG6Zed7Z2dnXn00UczefLkJMnkyZPz6KOPZvHixes99/Wvfz3HHntsWltbkyTDhw/P4MGD+2NEAAAAAAAAANhg/bKzff78+Rk7dmzK5XKSpFwuZ4sttsj8+fMzevTodc/97ne/y8SJE/Pe9743K1euzLve9a4cf/zxKZVKG9yrpWVYzecHXl1aW4cP9AgAA85aCGAtBEishQDWQQBr4UDqt2PkN0Rvb28ee+yxXHPNNenq6spHPvKRjB8/PoceeugG1+jsXJ5KpVrHKYGB1No6PB0dywZ6DIABZS0EsBYCJNZCAOsggLWw3hoaSq+42btfjpFva2vLggUL0tvbm+QPofrChQvT1ta23nPjx4/P/2Pv7qPtqgszjz/7nHNvbrgJCbnk5QZ5EeKQyAgCvs4MC1DTAOIKtKAtaktVGO1EppkukaLyphOB1plCR0XHigq6bBUHZgWkdgSnE6dANWmhAqnUAIpJCAkJeeO+nTN/MLk2vGbP3HPPvtzPZy1W7/2dE3hcq2sv1vqy9z7llFPS3d2dadOm5a1vfWvuvffe8ZgIAAAAAAAAAPtsXGJ7X19fFi1alJUrVyZJVq5cmUWLFu31CPnkmXe5r1q1Kq1WK0NDQ7nrrruycOHC8ZgIAAAAAAAAAPtsXGJ7klx22WW58cYbs2TJktx44425/PLLkyTnnXde7rvvviTJ29/+9vT19eW0007LGWeckQULFuSss84ar4kAAAAAAAAAsE+KVqv1snrBuXe2w8ubd48AuBYCJK6FAIlrIYDrIIBrYbtV4p3tAAAAAAAAAPByIrYDAAAAAAAAQEliOwAAAAAAAACUJLYDAAAAAAAAQEliOwAAAAAAAACUJLYDAAAAAAAAQEliOwAAAAAAAACUJLYDAAAAAAAAQEliOwAAAAAAAACUJLYDAAAAAAAAQEliOwAAAAAAAACUJLYDAAAAAAAAQEliOwAAAAAAAACUJLYDAAAAAAAAQEliOwAAAAAAAACUJLYDAAAAAAAAQEliOwAAAAAAAACUJLYDAAAAAAAAQEliOwAAAAAAAACUJLYDAAAAAAAAQEliOwAAAAAAAACUJLYDAAAAAAAAQEmlYvv111+fBx54IEnyd3/3dznppJPylre8JWvWrGnLOAAAAAAAAACoolKx/Stf+Upe8YpXJEk+85nP5Nxzz82HPvShrFixoi3jAAAAAAAAAKCKSsX27du3Z/r06dmxY0fWrl2b9773vTn77LOzbt26du0DAAAAAAAAgMpplPlyf39/Vq9enYceeiive93rUq/Xs2PHjtTr9XbtAwAAAAAAAIDKKRXbL7zwwlxwwQXp7u7OtddemyS5884785rXvKYt4wAAAAAAAACgikrF9hNPPDGrVq3a6+yUU07JKaecMqajAAAAAAAAAKDKSsX2JPmnf/qn3H777dm8eXMuueSSPProoxkaGsrChQvbsQ8AAAAAAAAAKqdW5svf/e538+53vzsbN27MzTffnCTZtWtXrrzyyraMAwAAAAAAAIAqKnVn+7XXXpuvfOUrWbhwYb773e8mSRYuXJgHH3ywLeMAAAAAAAAAoIpK3dm+ZcuWHHnkkUmSoihG/++enwEAAAAAAABgMigV24866qjccsste53deuutOfroo8d0FAAAAAAAAABUWanHyH/sYx/L+9///nz729/Orl278v73vz/r1q3Ll7/85XbtAwAAAAAAAIDK2efY3mq10t3dnZUrV+av//qvc9JJJ6W/vz8nnXRSent727kRAAAAAAAAACpln2N7URR5xzvekdWrV+e0005r5yYAAAAAAAAAqLRS72xftGhR1q1b164tAAAAAAAAADAhlHpn+xve8Iacd955OfPMMzNv3rwURTH62VlnnTXm4wAAAAAAAACgikrF9tWrV+eggw7KPffcs9d5URRiOwAAAAAAAACTRqnYfsMNN7RrBwAAAAAAAABMGKVie5Js27Ytd955ZzZu3Ji5c+fm5JNPzowZM9qxDQAAAAAAAAAqqVbmy2vWrMnixYvzzW9+M2vXrs03v/nNLF68OGvWrGnXPgAAAAAAAAConFJ3tq9YsSKXXnpp3v72t4+e3XbbbfnUpz6Vm266aczHAQAAAAAAAEAVlbqz/eGHH86pp56619mSJUvy6KOPjukoAAAAAAAAAKiyUrH90EMPza233rrX2e23356DDz54TEcBAAAAAAAAQJWVeoz8xRdfnA9+8IO54YYbMn/+/Dz22GN55JFHct1117VrHwAAAAAAAABUTqnYftxxx+Wv/uqv8oMf/CCPP/54Tj755Jx44omZOXNmu/YBAAAAAAAAQOWUiu0bN25MT09Pli5dOnq2bdu2bNy4MXPnzh3zcQAAAAAAAABQRaXe2f57v/d72bBhw15nGzZsyLJly8Z0FAAAAAAAAABUWanY/vDDD+fII4/c6+zII4/Mz372szEdBQAAAAAAAABVViq2z5o1K4888sheZ4888oh3tgMAAAAAAAAwqZSK7b/xG7+RD3/4w7nzzjvz0EMP5Y477sgFF1yQs88+u137AAAAAAAAAKByGmW+fP7556fRaOSqq67Khg0bMm/evJx99tn53d/93XbtAwAAAAAAAIDKKRXba7VaPvCBD+QDH/hAu/YAAAAAAAAAQOWVeoz8XXfdlZ///OdJkk2bNuWjH/1o/vAP/zCbNm1qyzgAAAAAAAAAqKJSsf3yyy9PvV5Pklx55ZUZHh5OURT5xCc+0ZZxAAAAAAAAAFBFpR4jv3HjxsyfPz/Dw8NZtWpV7rjjjnR1deWEE05o1z4AAAAAAAAAqJxSsX3atGl54okn8tOf/jRHHHFEent7Mzg4mOHh4XbtAwAAAAAAAIDKKRXb3/Oe9+Sss87K0NBQLr744iTJ6tWrc/jhh7dlHAAAAAAAAABUUanYfv7552fx4sWp1+s55JBDkiRz587Npz71qdHvbNiwIfPmzRvblQAAAAAAAABQIaVie5K88pWvfNHfTzvttKxevfr/bxUAAAAAAAAAVFhtrP+GrVZrrP+WAAAAAAAAAFApYx7bi6IY678lAAAAAAAAAFTKmMd2AAAAAAAAAHi5E9sBAAAAAAAAoCTvbAcAAAAAAACAkhr/r3+w2Wzu9Xut9ky3v+222/7/FgEAAAAAAABAxZWK7T/5yU9yxRVXZO3atRkYGEjyzJ3sRVHkgQceSJL09/eP/UoAAAAAAAAAqJBSsf2iiy7KySefnBUrVqSnp6ddmwAAAAAAAACg0krF9sceeyzLly9PURTt2gMAAAAAAAAAlVcr8+XFixdn1apV7doCAAAAAAAAABNCqTvbBwYGsmzZshx//PE58MAD9/rs6quvHtNhAAAAAAAAAFBVpWL7ggULsmDBgnZtAQAAAAAAAIAJoVRsX7ZsWbt2AAAAAAAAAMCEUSq2J8ndd9+dm2++OY8//njmzJmTpUuX5k1velM7tgEAAAAAAABAJdXKfPlb3/pWfv/3fz+zZ8/O4sWLM2fOnPzBH/xB/uIv/qJd+wAAAAAAAACgckrd2f6lL30p119/fRYuXDh6duqpp+aCCy7IO9/5zjEfBwAAAAAAAABVVOrO9q1bt+aII47Y6+zwww/Ptm3bxnQUAAAAAAAAAFRZqdh+3HHH5corr8zu3buTJLt27crVV1+dY489ti3jAAAAAAAAAKCKSj1G/vLLL8/y5cvzute9LjNmzMi2bdty7LHH5jOf+Uy79gEAAAAAAABA5ZSK7XPmzMnXv/71rF+/Pps2bcqcOXMyb968dm0DAAAAAAAAgEp6ydjearVSFEWSpNlsJknmzp2buXPn7nVWq5V6Ij0AAAAAAAAATFgvGduPP/74rF69Okny6le/ejS877Enxj/wwAPtWQgAAAAAAAAAFfOSsf3WW28d/fn73/9+W8cAAAAAAAAAwETwks9+7+/vH/359ttvz0EHHfScv773ve+1dSQAAAAAAAAAVEmpF61/9rOffd7zz3/+82MyBgAAAAAAAAAmgpd8jHyS/M3f/E2SpNls5q677kqr1Rr97Be/+EV6e3vbsw4AAAAAAAAAKmifYvvHPvaxJMnAwEAuvvji0fOiKDJ79ux8/OMfb886AAAAAAAAAKigfYrtd9xxR5LkwgsvzNVXX93WQQAAAAAAAABQdfsU2/f456G92Wzu9VmtVur17wAAAAAAAAAwYZWK7T/5yU9yxRVXZO3atRkYGEiStFqtFEWRBx54oC0DAQAAAAAAAKBqSsX2iy66KCeffHJWrFiRnp6edm0CAAAAAAAAgEorFdsfe+yxLF++PEVRtGsPAAAAAAAAAFReqRetL168OKtWrWrXFgAAAAAAAACYEErd2T4wMJBly5bl+OOPz4EHHrjXZ1dfffWYDgMAAAAAAACAqioV2xcsWJAFCxa0awsAAAAAAAAATAilYvuyZcvatQMAAAAAAAAAJoxSsT1JfvjDH+bWW2/Nli1bct111+W+++7Ljh078uY3v7kd+wAAAAAAAACgcmplvnzDDTfksssuy2GHHZa//du/TZL09PTkmmuuacs4AAAAAAAAAKiiUrH9q1/9aq6//vqcf/75qdWe+aOHH3541q1b15ZxAAAAAAAAAFBFpWL7zp0709/fnyQpiiJJMjw8nK6urrFfBgAAAAAAAAAVVSq2v/71r88Xv/jFvc6+9rWv5Y1vfOOYjgIAAAAAAACAKmuU+fLHP/7xfPCDH8y3vvWt7Ny5M0uWLElvb2++8IUvtGsfAAAAAAAAAFROqdg+Z86c3HTTTbnvvvvy2GOPpb+/P0cfffTo+9sBAAAAAAAAYDIoVck/9KEPpSiKHH300Tn11FPz2te+NrVaLcuWLWvXPgAAAAAAAAConFKx/e67737e83vuuWdMxgAAAAAAAADARLBPj5G/5pprkiRDQ0OjP+/x85//PPPnzx/7ZQAAAAAAAABQUfsU2zds2JAkabVaoz/v0d/fnw9/+MNjvwwAAAAAAAAAKmqfYvunP/3pJMmxxx6bd77znW0dBAAAAAAAAABVV+qd7X/8x3/8vOdvfvObx2QMAAAAAAAAAEwEpWL70NDQ8541m80xGwQAAAAAAAAAVbdPj5E/55xzUhRFBgcH8+53v3uvzzZs2JDXvva1bRkHAAAAAAAAAFW0T7H97LPPTqvVyn333Zezzjpr9LwoivT19eVNb3pT2wYCAAAAAAAAQNXsU2w/88wzkyTHHHNMZsyYkXvvvTdPPvlkWq1WNm7cmFtuuWWvCA8AAAAAAAAAL2f7FNv3WLduXT7ykY/k0EMPzUMPPZQFCxbkpz/9aY477jixHQAAAAAAAIBJo1Rs/5M/+ZOsWLEip556al7/+tfn5ptvzk033ZSHHnqoXfsAAAAAAAAAoHJqZb78y1/+MqeeeupeZ2eeeWZuvvnmMR0FAAAAAAAAAFVWKrb39fXliSeeSJIcdNBBWbNmTR599NE0m822jAMAAAAAAACAKioV288+++z8+Mc/TpKce+65+e3f/u0sXbo0v/Vbv9WWcQAAAAAAAABQRaXe2X7++eeP/nzGGWfkDW94Q3bv3p0jjjhizIcBAAAAAAAAQFWViu3PNn/+/LHaAQAAAAAAAAATRqnHyAMAAAAAAAAAYjsAAAAAAAAAlCa2AwAAAAAAAEBJYjsAAAAAAAAAlCS2AwAAAAAAAEBJYjsAAAAAAAAAlCS2AwAAAAAAAEBJYjsAAAAAAAAAlCS2AwAAAAAAAEBJYjsAAAAAAAAAlCS2AwAAAAAAAEBJYjsAAAAAAAAAlCS2AwAAAAAAAEBJYjsAAAAAAAAAlCS2AwAAAAAAAEBJYjsAAAAAAAAAlCS2AwAAAAAAAEBJYjsA7KOiSNJVpFYvOj0FAAAAAADosHGL7evWrcu73vWuLFmyJO9617vy8MMPv+B3f/azn+WYY47JVVddNV7zAOBFFUUyWDRz4Q23ZcP2HYI7AAAAAABMcuMW2y+99NKcc845+cu//Mucc845ueSSS573eyMjI7n00kvztre9bbymAcCL2hPal39lZX78s8fyvs99W3AHAAAAAIBJblxi++bNm3P//ffn9NNPT5Kcfvrpuf/++7Nly5bnfPeLX/xiTjrppBx22GHjMQ0AXtQ/D+0P/OLxJMnuwSHBHQAAAAAAJrlxie3r16/P3LlzU6/XkyT1ej1z5szJ+vXr9/regw8+mFWrVuXcc88dj1kA8JKajWKv0L7HnuC+5emnU6+P24NiAAAAAACAimh0esAeQ0ND+cQnPpFPf/rTo1H+/0Vf37QxXAVU0ezZ0zs9gUlk+66BnPnGo54T25Pk6MPm5YBpUzNr/94OLGOycy0EcC0ESFwLAVwHAVwLO2lcYnt/f382btyYkZGR1Ov1jIyM5PHHH09/f//odzZt2pRHH300559/fpLkqaeeSqvVyo4dO/LJT35yn/9ZmzfvSLPZGvP/DUA1zJ49PZs2be/0DCaZkxcdntavJ5/+zp2jZ2981cG54l2/ltZA0/9PMu5cCwFcCwES10IA10EA18J2q9WKF73Ze1xie19fXxYtWpSVK1dm6dKlWblyZRYtWpRZs2aNfmf+/Pm5++67R3//0z/90+zatSsf/ehHx2MiALygWrPIW159eJJngvsbX3VwrvjNX0tjxPvaAQAAAABgshq3x8hfdtllueiii/K5z30u+++/f6666qokyXnnnZcLLrggr3nNa8ZrCgCUtie4z505LYsOmiO0AwAAAADAJFe0Wq2X1TPXPUYeXt48DoVOa3TVMjzU7PQMJjnXQgDXQoDEtRDAdRDAtbDdXuox8rVx3AIAE57QDgAAAAAAJGI7AAAAAAAAAJQmtgMAAAAAAABASWI7AAAAAAAAAJQktgMAAAAAAABASWI7AAAAAAAAAJQktgMAAAAAAABASWI7AAAAAAAAAJQktgMAAAAAAABASWI7AAAAAAAAAJQktgMAAAAAAABASWI7AAAAAAAAAJQktgMAAAAAAABASWI7AAAAAAAAAJQktgMAAAAAAABASWI7AAAAAAAAAJQktgMAAAAAAABASWI7AAAAAAAAAJQktgMAAAAAAABASWI7AAAAAAAAAJQktgMAAAAAAABASWI7AAAAAAAAAJQktgMAAAAAAABASWI7AAAAAAAAAJQktgMAAAAAAABASWI7AAAAAAAAAJQktgMAAAAAAABASWI7AAAAAAAAAJQktgMAAAAAAABASWI7AAAAAAAAAJQktgMAAAAAAABASWI7AAAAAAAAAJQktgMAAAAAAABASWI7AAAAAAAAAJQktgMATCBF0ekFAAAAAAAkSaPTAwAA2He9++1Oa+TpJD2dngIAAAAAMKm5sx0AYIIoiiLdtQ3J0L2p1/1rHAAAAABAJ7mzHQCgwoqiyJTuZhr1XenqqiXbr0yruTEzZn4jQ0PNDI9MzcBgI81mq9NTAQAAAAAmFbEdAKDCiiLp3W8oeeojyfY1SQafOd98crobr0r3zC9kaGi/NONl7gAAAAAA48nzRwEAKqzZbGXrUz1pTbsiqU3/Z5800pq+Itu275fhEaEdAAAAAGC8ie0AABU3MtLM7oGZSWPhrw7r/Rka6cvwsNAOAAAAANAJYjsAwATQ1diVNDenNf3KFDM/n2Q49dpQp2cBAAAAAExa3tkOADAB1OtTMzL9uuzYtX8OOGBahvLq1BvTOj0LAAAAAGDSEtsBACaAbdu702x2JWn939+npVYrRn8HAAAAAGB8eYw8AMAE0Gw+N6o/3xkAAAAAAONDbAcAAAAAAACAksR2AAAAAAAAAChJbAcAAAAAAACAksR2AAAAAAAAAChJbAcAAAAAAACAksR2AAAAAAAAAChJbAcAAAAAAACAksR2AAAAAAAAAChJbAcAAAAAAACAksR2AAAAAAAAAChJbAcAmECaRSuP/HJLtj89kGbR6vQcAAAAAIBJS2wHAJhAdu4ezG/+wfV594Vfzc7dg52eAwAAAAAwaYntAAAAAAAAAFBSo9MDAAB4cc2iNXoX++atO0fPN2/dmcxMeqd2p9YqOjUPAAAAAGBSEtsBACpu5+7BvPvCrz7n/IIV306SfP3q38n0ninjPQsAAAAAYFLzGHkAAAAAAAAAKMmd7QAAFdc7tTtfv/p3kjzz6Pg9d7Rfe/FZ6ZvZm96p3UmrkwsBAAAAACYfsR0AoOJqreJXj4mf+avzvpm9z5wL7QAAAAAA485j5AEAAAAAAACgJHe2AwBMIL1Tu/PNz/xuRkaaHh8PAAAAANBB7mwHAJhAaq0ih86flek9U1JrFZ2eAwAAAAAwaYntAAAAAAAAAFCS2A4AAAAAAAAAJYntAAAAAAAAAFCS2A4AMIF0ddWTJIXXtQMAAAAAdFSj0wMAAHhpzcGh7Hjiqfzw5nsyMjSSN73jdZl10KzUpnR3ehoAAAAAwKQktgMAVFxzYDBfv+Jb+e6Xvj969o0V38nrTnltln/hgyl6BHcAAAAAgPHmMfIAABVWr9ey9q6f7hXa9/jR7X+X79/4P1Ove6Y8AAAAAMB4E9sBACpsaOfT+fOr/tsLfv6dP7k1A9t3j+MiAAAAAAASsR0AoNKaI8088diWF/x866an0hppjuMiAAAAAAASsR0AoNIaUxpZcOwrX/Dzg4+cn1qjPo6LAAAAAABIxHYAgEorurrynkvOfsHPf+eTv5kp06eO4yIAAAAAABKxHQCg0lqtVvoOOTB/+PV/n/3232/05lhyfgAAIABJREFUvLunO+dd/d4sevORGR72GHkAAAAAgPHW6PQAAABeXNFo5Ji3HZPr1vxRnty4Na1mKwfMm5nuaT1pFf7bSQAAAACAThDbAQAmgGaSxrSpmT1tambPnp5Nm7an1elRAAAAAACTmFuhAAAAAAAAAKAksR0AAAAAAAAAShLbAQAAAAAAAKAksR0AAAAAAAAAShLbAQAAAAAAAKAksR0AAAAAAAAAShLbAQAAAAAAAKAksR0AAAAAAAAAShLbAQAAAAAAAKAksR0AAAAAAAAAShLbAQAAAAAAAKAksR0AAAAAAAAAShLbAQAAAAAAAKAksR0AAAAAAAAAShLbAQAAAAAAAKAksR0AAAAAAAAAShLbAQAAAAAAAKAksR0AAAAAAAAAShLbAQAAAAAAAKAksR0AAAAAAAAAShLbAQAAAAAAAKAksR0AAAAAAAAAShLbAQAAAAAAAKAksR0AAAAAAAAASmp0egAAAC+sXq+lXn/ufx/Z3f2rf41rNpsZHm6O5ywAAAAAgElPbAcAqLBWfST3D/1jfvTkvb86fPxXP75q2mE5btoxKYbr4z8OAAAAAGASE9sBACqsOVjkkP3m5z/945+lmefevX7K3JNSG2iklVYH1gEAAAAATF7e2Q4AUHFThnty0uw3Puf81fu/KjOL/dNqCe0AAAAAAONNbAcAqLjWYC1nzP+11J71r26/fcivpxjo6tAqAAAAAIDJTWwHAJgAnn13u7vaAQAAAAA6S2wHAJgAnn13u7vaAQAAAAA6q9HpAQAA7Js9d7dvHHjCXe0AAAAAAB0mtgMATBB77m4faA2keLorrYjtAAAAAACd4jHyAAATyJThnsye0ueudgAAAACADhPbAQAmkNZgLdO7ejs9AwAAAABg0hPbAQAAAAAAAKAksR0AAAAAAAAAShLbAQAAAAAAAKAksR0AAAAAAAAAShLbAQAAAAAAAKAksR0AAAAAAAAAShLbAQAAAAAAAKAksR0AAAAAAAAAShLbgQmjViuyY2Cw0zMAAAAAAABAbAcmjoFiJA9veTL1uksXAAAAAAAAnaVYARNCvV7k3o0b8+HvrMzuDHd6DgAAAAAAAJOc2A5UX6PItuZgPvm9H+SxbU/l1gfXZqjeTK1WdHoZAAAAAAAAk5TYDlRWvV7LYKOZb/z9vTn9z27Mpp07kyR//IMf5t/e9N/z893bM1xvdXglAAAAAAAAk5HYDlRWs9lKkSL/cv7c9O03dfS8SHLUvDk5YGpPGnF3OwAAAAAAAONPbAcqq9VqpWu4yLEHzsufv/ddOeLAWUmS//Lr78jyf/2vsl+zkYx0eCQAAAAAAACTktgOVN7ISDPdI7VcseSt+Zfz5uSoOXNSE9kBAAAAAADoILEdmBCazVZeMX3//OmvvyNTWi5dAAAAAAAAdJZiBUwYXc0ic6b3ptlsdXoKAAAAAAAAk5zYDkwYrVbSVa93egYAAAAAAACI7QAAAAAAAABQltgOAAAAAAAAACWJ7QAAAAAAAABQktgOAAAAAAAAACWJ7QAAAAAAAABQUmO8/kHr1q3LRRddlK1bt2bmzJm56qqrcthhh+31nc9+9rO57bbbUqvV0tXVleXLl+eEE04Yr4kAAAAAAAAAsE/GLbZfeumlOeecc7J06dLccsstueSSS/K1r31tr+8cffTRed/73pepU6fmwQcfzHve856sWrUqPT094zUTAAAAAAAAAF7SuDxGfvPmzbn//vtz+umnJ0lOP/303H///dmyZcte3zvhhBMyderUJMmRRx6ZVquVrVu3jsdEAAAAAAAAANhn4xLb169fn7lz56ZerydJ6vV65syZk/Xr17/gn7n55ptzyCGHZN68eeMxEQAAAAAAAAD22bg9Rr6Me+65J9dcc02+/OUvl/6zfX3T2rAIqJLZs6d3egKT0NDI1jRbA6O/F6mluzG7g4uY7FwLAVwLARLXQgDXQQDXwk4al9je39+fjRs3ZmRkJPV6PSMjI3n88cfT39//nO+uWbMmH/nIR/K5z30uhx9+eOl/1ubNO9JstsZiNlBBs2dPz6ZN2zs9g0mmq3skT7X+PL/cfv3oWU/j4CyYeW127/AfeTH+XAsBXAsBEtdCANdBANfCdqvVihe92XtcHiPf19eXRYsWZeXKlUmSlStXZtGiRZk1a9Ze37v33nuzfPnyXHvttTnqqKPGYxoAvKSuKVvz6NZrMjTyxOhf2wfWZMfQPWlU8hkxAAAAAABAu41LbE+Syy67LDfeeGOWLFmSG2+8MZdffnmS5Lzzzst9992XJLn88svz9NNP55JLLsnSpUuzdOnSrF27drwmAsBzTJk6kEe2/VFaGXzOZ+u2XpHu/Z7qwCoAAAAAAKDTilar9bJ65rrHyMPLm8ehMN56ZzyVH//yxBf8fMGsq9MzsiTDw81xXMVk51oI4FoIkLgWArgOArgWtlslHiMPABPV8OCU9E095Xk/a9RmZv/uNwrtAAAAAAAwCYntAPAiBnZPyaEzP5Ii3c/57PADLsng7v07sAoAAAAAAOg0sR0AXsLQ0zNz6Mzl6a7PGf1r/ynHpbfx+gwPd3odAAAAAADQCY1ODwCAqhsarGXG1KWZ2XfaPzutZWDX9CStTs0CAAAAAAA6SGwHgH0wsHtqkqnPOhXaAQAAAABgsvIYeQAAAAAAAAAoSWwHAAAAAAAAgJLEdgAAAAAAAAAoSWwHAAAAAAAAgJLEdgAAAAAAAAAoSWwHAAAAAAAAgJLEdgAAAAAAAAAoSWwHAAAAAAAAgJIanR4A8GKK4qXPWq3x2QIAAAAAAAB7iO1AZXV11TPcM5BHdj42evbzJ4s0i2fqeqPWyCv3OzgDTzU7NREAAAAAAIBJSmwHKmtoaCTDXcP5o3/8YoZaw8/5fOn8xXlF7aAOLAMAAAAAAGCy8852oNK6h3vy9v63POe8q2hk8ex/k+ZgB0YBAAAAAAAw6YntQKU1B5O3zf7X6Sr2fhDHaf0np3u4p0OrAAAAAAAAmOzEdqDynn13u7vaAQAAAAAA6DSxHai8Z9/d7q52AAAAAAAAOk1sByaEPXe3u6sdAAAAAACAKmi89FcAOqvRaKV7yrac0X9MFs95VabVdqbVO5Knd/Z2ehoAAAAAAACTlNgOVF73ftvy9xtOz0hr5+jZwftfkAO6fyeDgx7QAQAAAAAAwPhTqYBK6+4Zyi+3f2mv0J4kv3jq82lMebJDqwAAAAAAAJjsxHagsoqiSK3riWzY8Y3nfNbKUB7edlWmTB3owDIAAAAAAAAmO7EdqKxGo8iTT9+ZpPW8n299+n+l0TU4vqMAAAAAAAAgYjtQYUNDzfT1nJ5Gbebzfn7IjP+Qwd3TxnkVAAAAAAAAiO1AxQ3smpHDD7j0OedT6v2Z1XNKhoaKDqwCAAAAAABgsmt0egDAixkZaaV36uszu/ftGRrZOnr+iv1/LwO7ZiRpdm4cAAAAAAAAk5bYDlTe0zunZX7PZUktqXfVMjwwkuZgPSMjQjsAAAAAAACd4THyQOW1Wq0MPN3I1qEiNz64NsPD3RkecvkCAAAAAACgc9QqYEIoGkW+80/35z+v/t/ZWQx3eg4AAAAAAACTnNgOTAi7iuFcd9892T08lJse+klqjaLTkwAAAAAAAJjExHag8vbc1b57eChJ8oV/+Ft3twMAAAAAANBRYjtQeXvuat/D3e0AAAAAAAB0mtgOVNqz72rfw93tAAAAAAAAdJLYDlTas+9q38Pd7QAAAAAAAHRSo9MDAF5IV1c9u2sjWfGvFo+e1WpFms1WkqSn0UgxpZYMj3RqIgAAAAAAAJOU2A5U1tDQSHprjZzYd+joWV/ftGzevGP099buZiemAQAAAAAAMMmJ7UCl7bmL/aXOAAAAAAAAYDx5ZzsAAAAAAAAAlCS2AwAAAAAAAEBJYjsAAAAAAAAAlCS2AwAAAAAAAEBJYjsAAAAAAAAAlCS2AwAAAAAAAEBJYjsAAAAAAAAAlCS2A5VWFMnUGV0ZmDKcRtczl6xmdzNDU0eSKR0eBwAAAAAAwKTV6PQAgBfTaiVPPL0z7/ubr+at/Qvzqq1zctsv/iH/Yv85+eAhJ2YkzU5PBAAAAAAAYBIS24HK627VM6N7ar6x7p7Rs3935ElpDgvtAAAAAAAAdIbHyAOVt1+685qZ8/c6O7B7WlqtDg0CAAAAAABg0hPbgcrbmYHc/cTDe539YveTqdWKzgwCAAAAAABg0vMYeaDyhotmDuk9IMuOPCmHTJuV7/3ygfxo8yN59Sv6k8FOrwMAAAAAAGAyEtuBSiuKpLcxJf/xqDPSGKln1qzeHFKblV21wQy3mqnF3e0AAAAAAACMP7EdqLRWK8nOVooUGUkzSTI81Ey3yxcAAAAAAAAd5J3t7LORRitF3V3EAAAAAAAAAGI7+6Rer+XBJzZnZ2u401MAAAAAAAAAOk5sZ5/sznA+cfv/yJ/d/aO0PL0bAAAAAAAAmOTEdl5UvV5koN7Mf737R9m4fUf+4u//IT9evz5D9VZqNY+UBwAAAAAAACYn9yjzgoruIg9u2ZIL/k97dx5lV1WnffzZ59x5qKpUpSqpzIyBQMIUCK0oGpCgHUgQMIoKqIAgk63IoAIR7W4CYmMLyqAtg4D9ykxAQAFtQISAIIQYApUQQuZUpaY7n3P2+0ekJC8EqLdz70nqfj9rZS1q72vqV1nHfeue5/z2vmu+eoslSVJgrc6++35NbB2uX3z2KEU8R74XhFwpAAAAAAAAAAAAANQWne3YIuNJExobddnMGRqZzQyMHzhujH545OGyFUvQDgAAAAAAAAAAAKAuEbZji4LAKuo72nv4SN3w2aMVcRzt3taqy484XC1uQo4fdoUAAAAAAAAAAAAAEA62kcf78v1ADZGYTth/Hx22686KeEaBtWGXBQAAAAAAAAAAAAChIWzHB2I9qxP330fWswp8gnYAAAAAAAAAAAAA9Y2wHR9YpGIUcEQ7AAAAAAAAAAAAAHBmOz64IKCjHQAAAAAAAAAAAAAkwnYA2xHXdWSDnrDLAAAAAAAAAAAAAAjbAWw/MqleyXtVrsvSBQAAAAAAAAAAgHCRWAHY5rmuUTwekRsslO35lrLpnCIRR8aEXRkAAAAAAAAAAADqVSTsAgBgS4wxammOKSg+IlVekOm7W7Ib5eTOV0P0wzKZw1QsNyqXJ3UHAAAAAAAAAABAbdHZDmCbZa1VT29BctpkCrdKdqMkyZSfkCrPyvNjBO0AAAAAAAAAAAAIBWE7gG1apeKoUJkomz71baNGarhYPX2p0OoCAAAAAAAAAABAfSNsB7DNC6xk/OWSM0o2dqgkyQb9IVcFAAAAoJ4YIyUboyrFPUWijiIRR0HMqpz0pUTY1QEAAAAAwsCZ7QC2aW7CUzSekx8cqTXup7S88JqmNJ6otJORmy5IxbR8Pwi7TAAAAABDnLVSZzGnLz11o6aPnKiJDSP121ULNT7drDMnfFy+bNglAgAAAABqjLAdwDbLdR1F49LKwuv6S/fD6sg9K0n6c+cD+sSIL2tUcooi8aiUZykDAAAAUH0x62p4IqPbXl8wMHbKzh9R4IVYFAAAAAAgNGwjD2Cb5fuB8r2uUqU9tX/zMQPjDdFWjYpMU64rrY1dvgJDBwkAAACA6ksppilNYzYba0s0yFo+kwAAAABAPSJsB7BNyxXKOnXuf2tdd6c+lD1JRzf/hxqibXr+leX63Dk36PPn3qhcoRx2mQAAAADqQL/K+vOGpZuNvZ7bIMcxIVUEAAAAAAgTey8D2Oa1Nme0+/Cp+uEvHtUzLz6iC8+ao0RjNOyyAAAAANQZ3wnUlsjqpJ0P0vh0sx5Zs1jPdi3XlLGjJZ4BBgAAAIC6Y+wQ2+uss7NfQTCkfiSgrgXGKl8syzGO1nX16ax/u12SdO3Fn1UmHZckpZMxOZZOEgD1o7U1q/Xr+8IuAwBCxVqIWjNGMikjrxIo6rvy/UCRqKO8KSsiV06ZzySoPdZCAPWOdRAAWAurzXGMWloyW5ynsx3ANs2xRpn4plC9pSk9MJ5Jx5VNbBoXz9cAAAAAqDJrJZuzcmTkK5AkeZVAMW6tAAAAAEDd4sx2AAAAAAAAAAAAAAAGicevAWw30smYfn3Fl+T7gdLJGB3tAAAAAAAAAAAACA2d7QC2edbzJc+XY43Gj2pWQyKuhOvKcTgTEQAAAAAAAAAAAOEgbAewTbOer3tueFw/+c7tsp6vSsXTqqXrdMY//0j9Xf0E7gAAAAAAAAAAAAgFYTuAbVY06uqNJWt05/V/1II/LNZPvv0bvfDEq/ruCddpw5oe/dsZN8thK3kAAAAAAAAAAACEgLAdwDarUvE1buJIfea06ZKkZ//4ii76yi9UKftqGp7Rd64+XpbOdgAAAAAAAAAAAISAsB3ANs24rmZ96SPa9yO7bjb+bzd/VdmWjHw/CKkyAADqkzFSJBkJuwwAAAAAAAAgdITtALZpRtLKjvV66emlm43/ct79qhQq4RQFAEAd8xyrJ5cvV+BylgsAAAAAAADqG2E7gG2W6zpa/2aXvnPCdaqUPTUNz+jgmXtLkhb8YbGu+u7tEp3tAADUjOMYrSvk9M17fqvuSkmG01wAAAAAAABQxwjbAWyzgsBqWGtWY3YYrqbhGc279TSd8YOj9ZlTN53h/vFZ+4q7/AAA1Igr9dqKvvPA72QlXfTgI8oZX06E92IAAAAAAADUJ2OtHVL7P3Z29isIhtSPBNQ1Y4y8YlmVkqf0sLSam9Nat6ZbfV05NbRkJYcb/ADqT2trVuvX94VdBuqEMZJJuLr5uRd0/VMLVAn+satMPOLq7I9+SEftOUlBwQ+xStQj1kIAYC0EANZBAGAtrDbHMWppyWx5voa1AMCgWWsVSUSVakrJ//uW8cZ11dzeRNAOoC45jpHnE2qidqyVgkqgWXvspsMm7jwwbiQdscdu+sQuO8lWONYFAAAAAAAA9ScSdgEA8H6s3RS6v53ncVMfQP1xHKOuUlErV/RpVENW1mc3H9SIZ5VRVN/++MEaO6xR1/xpgc4/5KOaOXGiVLGy7CwFAAAAAACAOkRnO4DtRuBYbejNyaGjHUAdeito//LVv9FXfvobrejukXFZD1FjFavP7DVZO7YM0yd22VmqELIDAAAAAACgfhG2A9guBI7V3c8t0pwrblGvVyZwB1BX3h609+SLKlV8nXLNHQTuCEVSrn5zwueUkht2KQAAAAAAAECoCNsBbPPeCtqv/u1TWt+b00k/vZ3AHUDd+H+D9rcQuCMsgWflFTz5HGMAAAAAAACAOkfYDmCb9vag/S0E7gDqSSCrJavWbxa0v6VU8fXMayvkBUEIlaGeeR7XHAAAAAAAAEDYDmCbFY26em1d12ZB+1vW9+b0jRvmS1HCdgBDXCBNnTBal3z2sHdMffUT0zR7v0lyLWshAAAAAAAAANQaYTuAbVal4munEc367EF7vWMum4zr0i98UvLYwhbA0OdYo3/aaexmgftXPzFNx0zbU05A0A4AAAAAAAAAYYiEXQAAvBfXN/ryx6dKkn79xF8lbQra/+v0YzU8mVTAebGoMSfhyJasrOXaQ229PXBftbFXR++/B0E7AAAAAAAAAISIsB3ANu/tgfv9zy0maEdo3IijZblutScyilbYHAa191bgHk9GVcl7YZcDAAAAAAAAAHWNpADAduGtwP0353yBoB2hyZmKTv793VpbzMkYOooRDscaNaWTYZcBAAAAAAAAAHWPsB3AdsP1jUY1NxC0IxRuxNETq5ers5jXvy74g8oRP+ySAAAAAAAAAABAiAjbAQD4AHKmosufe0KStGDtSrrbAQAAAAAAAACoc4TtAAC8j7d3tb+F7nYAAAAAAAAAAOobYTsAAO/j7V3tb6G7HQAAAAAAAACA+kbYDgDAe3i3rva30N0OAAAAAAAAAED9ioRdAAAA27Ki6+u3y5doz5a2d8wVvIoK1lfMuLLWhlAdANRWJOLI84Itfg0AAAAAAADUE8J2AADegxsY/fu0w7Y4byQZI5G1AxjqrOdr/ZpuNY9skpWkwGrdG51qHtEguW7Y5QEAAAAAAAA1xzbyAAC8B6cixTxni3+inqMgIGkHMLRZz9d1379H//Lpn2jZyysVcYwWPbtU//Lpn+iWKx+WfI7UAAAAAAAAQP2hsx0AAADAFhkj+V6gJS+uUOAHmnvyf+njR+6jR+/+i6y1WrhgmWxgZWhuBwAAAAAAQJ2hsx0AAADAFlkrRVMx/fuvvqpPHDtVgR/okbuekyR98nPT9P0bTpIbj4ZcJQAAAAAAAFB7dLYDADAIruvI94OwywCAmgoCq2Q2oVMvmalpn9pJv7zkEZ3ybzO02+QJ8gpR+RynAQAAAAAAgDpE2A4AwAdkjNTUKPX1SeVK2NWg3tjAKp8vSZKKhfLAQx+pVFzGMWGWhnoQBHrpmWUatnOgV0ffqq//8nN6qnS94q+fovK6hCZMGrVpkQQAAAAAAADqCGE7AAAfUDJRkvouVzp5lsqVhrDLQZ3J50s66cTr3zH+8xtOVjqTCKEi1AtjjIykBX9YqKP2nqrVPa/ovvJcSVLTsAbddt0TOnXyp+VZK0uDOwAAAAAAAOoIZ7YDAPAeohEpnSyoMdunRGSVVLxLpjxfTQ39yqT6lYizpTyAoc4q0xLXx85r0l29F2w2c0fPuZp58VglG12CdgAAAAAAANQdOtsBAHgPkUhJiehyqfs0yfZKkkzuCrm5/5SbOl6R+JdVLNFVjOpzXUfTDtxps7E3lneGVA3qibVSrtfXjskD1DCqVXes/N7A3NGjL1LWaVeu1w+xQgAAAAAAACAchO0AALyHQjEuaUclM9+W6Tt/YNzGDpIfO1E9vQTtqI2m4UV94euLJf0j1IyXj5XYXAE14PuBlE+qKd2uuJPSlKYZemHjA0q7LfJzCUm0tQMAAAAAAKD+ELYDAPA+CsWYEg37yLxtLIgdrvUboopGrYxjtvi/BbaGaCxQZ/EubSjdvNl4U7RPo5LnK6CpGDWSiKR0wvj/VMRr0F6Nn1TEiaoSdlEAAAAAAABASDizHQCA9xAYq/5iSTbolo1Nl990l4qRU+V4C9WXL6i3WFJg6OhEdUUT3Xqz96fvGO+u3KdIYr2M4YEP1IgXl81lVS5amVyTHC8ZdkUAAAAAAABAaAjbAQB4D7lCWY+/2CHr7qyX152tG57La3nuWOXcL8vEyzrhgpuVK5TDLhNDWCxR1hs9V8rq3a+zpd0XKZ7sr3FVqFel3KYz3CXJWqtSPtx6AAAAAAAAgDARtgMA8D4CJ9DPlz6nN1IV7Ta+ReuiRV2x5DkVnagCS1c7qivwomqMT9vifEN8fwV+vIYVAQAAAAAAAAAkzmwHsB0wRpIfqJwralVvTibiKtGQkucFYZeGOpBOxvTJA/fUbze8pPOev3NgfGLDCJ24w4d062UnKJWMSWTuqBLPM2rIHKxEZLyK3vLN5iJOo0amj1e+j1/pUFvG/KPDHQAAAAAAAKhXdLYD2KY5jlG5N6/rvnGDvrzb2TphlzN17vS5evH3L8qWK2GXhzqQSMX0wJIl2iHRttn4gc076fbnF6mtrUFRxw2pOtSLUj6rnZv//R3jOzRdqHKhIYSKUNdcKZaJyjgm7EoAAAAAAACAUNEGBWCbVukr6LxPXKI1y9YNjK1Ztk4/mPMjnfPL03XAEVPl+bTWoXqCkq8ZO+2oRaU1m42/WezS+VM/qUJ/SZZNFlBlQWAVDcZrrxH3S7JyXUe+H8gETSqWwq4O9cQ60vpCXq9s2KBJ2VYNj6VkA96HAQAAAAAAUJ/obAewzYpEHL30+N82C9rf7ufn3qxib77GVaHelPoL+t21v9cDb76kcelmHT12X+3TPFZPb1imV//aoUJnX9glok74fkq+P1yl/tFKx3aVVxmhSsBZ7agd60ivrN2grnJB5zz+W3WVClrW1UWHOwAAAAAAAOoWne34wBzXSHZTdx1QC9b39cf/8+QW57vX9yrfW1BDOlnDqlBvCr0F7XX4ZE3fpU39Xf3645ur9MUd95ebcDUi3aD7r3pQh510mCoVP+xSMcQ5crXaX6wRmV3UX6loVfCiRjlTwi4LdcI60qLV67Rw5Vo9G6xSWyqj/+54SSP7Ujpk0s7asaWZDnfUVCJekbVccwhXLCpxshUAAAAA1Dc62/GBGEdavrFH+cCTQ/cSasQ4jhLpxHu+xo1wVjaqzEhdy/t0+gHztO6v6zVn8p6yXWV9b9b1uu6iu7XL1F1lDOsiqs9aqau0Ures+KZuWX6eOvqfkav3XiOBrcEYI0WMLrrtYe21a7uW9W3UH445Xk+tXaGD99pJ37hhvpyYI5ZC1IIb9+VGpVSiVwrWyY17ikT4WIvaSyXKymbKrH0AAAAAUOe4K4H3ZRxpWVe3vnPrQzrzF/cQuKNm/EA64rQZW5zfYfI4JbN0taO6mtqadNOVv9O5Vx+r3937rJ64+3n99KJ79PUfzdZfnnxN6eZM2CViiDPGyE2WVYqt02u5Z9TndaqrvFJriq+q310hN1XkfRlVZa2VPKurTp2tX7zynC46YC9Fc5fo3P0m67+XvqRrv/Zp+WVfNBmjFqxTlpPYIOV+LFt+Vn6slzUQoUjEumV7L1AqUQq7FAAAAABAiNy5c+fODbuIralQKHOjbyt6K2g/9dq7dMXJ/ywZ6Sf3P6kZ+05UzHH5t0bVpbNJda7s1PJFb242nkjFdfGd31LDiCauQ1SXDbTvP+2s5HCjCdMdqZDUx7+wq7KtMe00YbzG7NCqwPDsGqrHjVpF4oH+0jVfHblnFGjTkQUlP69KUNGE7GQZ6yjwuQ5RPfGoq6ZsoNFpqz0aOpUq/Ydam2ZqRGaYdm0dLieIcdQQqioelxozfUo4a+VUHlekcKNUeU6x6C5KxIySyaTKlShby6OXy/NIAAAfv0lEQVRqjJGymYJSibyS8V6Z3OUy5cfkJvZTIhlXIuZLxpHns/MWaiudjiufL4ddBgCEhnUQAFgLq80Yo1QqtuV5O8TuRnR29nOjbyt5e9C+306jtOfUUdp3+Ch985r5Gt6Q0jWnfFopJ8K/N6ouKJbV8fwy3XnlfPV19WufQyZr5qmHKTksIy4/1IJrAxWdXv33hm+qOT5aa4sdOnrYpcp6I+Qm46yDqC5rteT517X4xeWacEyPnincKkmalPm49McDJN/RP82YLMOxGqiihoaiot6DUu46KVgnyUoykjNSNvMvqjgfUl8fu82gehzHqLGhT6b3mzKVZzebs+nT5MW+oN5ejtZAdWUzBUXL18gUfrX5hEnLNv1Kvfmx8jx2WkBttbZmtX59X9hlAEBoWAcBgLWw2hzHqKVlyzvcRmpYC7YzvpHuWbBIFd/X5w/dV2c8NV8Hjhirz3x0im565Dl1rO3U5FEjwi4TdcBJxLTbQbvp3P13UjziyDeOfCuCdtRENObId3Na2blY5aCoVYVXJEkv9z2iaW2z5chVUCbkRPU4rqMRY1r0x/l/1YSor6Oa5ipiknol/3u9ubJT0w6eIifiiiUR1WKM1F1JSPajanSfUyx44O8zVqXowVpf2UsJNyXDVYgqiiQC9QeulL5ADT0nSXajJCmIfVRrzD9puJtSNCpVKkHIlWIo6+tPKps+TdGgX6Z098C4bfqVenPj5PkhFgcAAAAACAVhO7bI8aUzZvyT9hw7Ql1BQXu1tqsQeJqx367aZ2y79hjVpsDnpipqw/etTCSiRp7QQo050bLW96zTYv9hBfIGxt+wCzR84wRNavuQojamSoW7q6iOILAaNrJRX77gk0o1O7rzpaWKOJ4+tfsXlD+hrGSkQURLqCbHMVr94kq99MeXNevsz0uVBwbmbGKOHvzek/r45z+iYe0tbOGNqinnjRwbV7ahUbI5yWmTbL8ceWoKdlC+18rnswlqoOxlFI2Mkd5+VLtJE7QDAAAAQJ3icE9skfUDvfTYK/rn/Ru167C7dMG+r+iCfV9RLPIrTWqPqGd1rxyHLfIADG3lfle9r8U1zfuqkm7DwPhh6XO1/P6kyj0uQTuqzok68jKubn56sSaObNPY4U269k+L5CeSsnHei1Fdxhh1PL9MfsVTwi6RjR8uv+lG2dhHFdcb6l6zUSv/tlKGSxFV5LqOXn9xuRxjZRsukT/sJgXNd0rxj6nUt0GFjf1hl4g64TpFGdsvO+xG2eGPKUidJqkQdlkAAAAAgJDQ2Y4tMqlA+31ylF7v/ra6i09uNpdt2UkN4z4iJ7AKyiEVCAA1YI3R+IntcjJ5jVy/kw4feZZe7vmDkilXh3x6Kudko+qiCVd5v6IVxW5VhhfkxAPFrDR8rKuFfSs1MdmulnhKXomHPlAdvh9o0oG7aMROCdl4oNXl1Vq5/hsamz1OI6P76EvzJinX6SjgfBdUUbm/oJYJTSqrV0t6blVf6VxJRm3pmRrf+hFtWOZrmLEylqc+UF3GBColPq9fvXGpYm5SYxI762Pp0XIcwzqImgqMVa5QVn5VRYlYRA7rHwAAABAKY4fYXo+dnf18wN1KIgmrgvmLOjac9M45p0GTRtypIN8qz2PzWtROK9vIIySpxkDlSkVePi437qshk1LPxjLvOag6Y61efXGFWvcdrlmP/2yzuf9z0Cl68w8rtM+Hd5Nx2bAI1ROLlLXR3qrV/b+UF/QOjEecYRqTPVNZe6QqPg8foXq8fEHZEXm9sOZTstr8ad9UdBe5/ZcpmxyphmQipApRDyJxX0E0r2e67tALPb+VJEVNQkeN/o6GRcZKxbR8n8/HqI2+YkmfP/dGSdItl52gbCIeckUAEA7uFQIAa2G1OY5RS0tmy/M1rAXbmajTp5Xdl7zrnBf0qjP3GzmGtnYA9aHY58rLb7qB5ZdcgnbUjDVGO+05RkHe187ZtoHxdCSuuO9q3w9NJGhHVRljFEn36s3eqzcL2iXJCzbqjd7LFM/2sY08qio93OiNnh++I2iXpHzlVY0YtVQNmVgIlaFeuK6jSMJqae5ZLen/08B4xRb1dNftqignJ156j78B2PpO/9z+aswmwy4DAAAAqGtsI48tCkxc6egkFb03JEnGxGTtP25uZWJ7KwhiknhyH8DQ9/8G6wTtqCXjOoqnE1pd6BkYy3tlOQlXpuxqaO1ThG2PVWDLsnr3owqs9eUHHtchqsqJeCp4HVucz1cWa0TyYypwdDuqxPcD+T0R7Rqdrp3H76HX889JkqImqR1S01TKpVWhqx1V9tbW8ZKUK5T16eltSsX3UGd3Tmra9Jp0MsaW8gAAAEAN0QaFLSr1uBqd+YaMNnWITG79sdozR0uSMrHJWrioUd09hTBLBACgPkSM1hR6ZGU1feRu+uSoPdUQTWjhxlUKomEXh6HOWimotKot89l3nR/VcIpyfVkFhrQd1VMqNGj8sO+/61zEadCIzOdUzPPxFtUTjbqKNljZeJeWbzxfXv5aeflrVchdqf7yU8rHepVo4BpEdfluRc8tXSpFerXLOE+Jwuma9bEWjRktvbJqpZ7rWKpy5d0fjgO2BseVFA/kxK3cpFU0JcVTm/7bSVgpHsjQ2oUqc+KbrjU3uenaK5b75SY2/fdb1ydQTU7079daIpCTDGRSgUzSykkEMvFg0xynrKGKIhFHNlVRkCorSJdl02VtLPYM/HeQKsukeBC4lvgkiC2KJKLK5bIa0/g1pWO7K2m7NTozW5KrsdlL9MP/ek786gIAQPX5UavR6WH6/p6fVoPXLJtP6YLdj9Aew0apKI/tu1F1nRsDDY9/Sa7Z/HyqqNOstDNLs8+8caDTDqgG61lFnbFqTBz6jrlRjefLKzXJci8BVVaulNRZfER9pedV9JYP/OnYOFeu061K2Qu7RAxxjUmrmQcO07hhr8st/lTyV0i931ZL/GkdurfRkR/eWQGLIarJkZaUXtWa4DXJXa54dI2SsS75TodK7mo91vOkbIQHPlBlsUC/WnOHorFuBe5qxdycgshqRWPdunn17VKMdRDVFbiBHul+XAVnlXzndTXGNioZXSsTXanl3mK9Vl4q43CjBtXj+4FyQV6/Xnm34k6XjNaqIRqoErwuY7r1o46fK7C8H9eSsbY2Gz4uW7ZM559/vrq7u9XU1KR58+ZpwoQJm73G93394Ac/0OOPPy5jjE455RQde+yxg/o+nZ39bO27lRiz6Vy6ZKZPUePJbPyibPwTClLHq1hJqqfbUTTqsj0Zqs4GVvn8pvMPXdeR//ftGVOpOL+4ABj6IkZPdb6h+5YuViXY/KaBa4wOHDVOR4ydKLfCeojq6SuW9Kv7/qwzvjRaGwoLB8bbkvtp7pUv6+kX39Atl52gbCIeYpUYyhxr9eSDL+qjc0Zpdd8dA+OuiWlk9hitX+qoua1BHtt4o0qMkZKZbv117Uz5NveO+fbsCWp1T1W5kgihOtSLSNSoIb1epvukTUH7AFdB43+ooKnK5+JyuC2GKjFG8hMl+Vqkld1zNaX5LBl/mV7Nv6x0/CDFYzMU6U9Jhv4uVI+J+Opx39DGvnO1e/O3ley/WPnMxXql6zI1Zi9VYzBOqtBWjCqyVsVEnwL7qPqKj2nX5F6y0Yl6YcMlGtf8H3LNznLyMY5aQ9U4jpFnSlJivTrWH6d9RvxEscKtWqUdlfPWqCF1uuK5ZgV052w1jmPU0pLZ4nzNwvbjjz9eRx99tGbNmqV77rlHd9xxh2666abNXnP33Xfrvvvu0/XXX6/u7m7Nnj1bt956q8aMGfOBvw9h+9YTj1tlU32yvXMlb4kUrJZkpMhuUnSKlDlfG7st/96oulx/USedeP07xn9+w8lKZ7iZBWBoM655x15E6Uxcuf7SP14TSIHP+zGqJzBWfbmSoqlAt6y/QyuLa7VjapxmN35Ka97o14iRTcqm4zyEiapxHKNAvkqJin7z5j3qLHdLkqYO20vTmvZT0G0Vi3OuBqonmYiqs3Kj3ui9fAuvcLXPyEeV68+yFqJqYrG81lau0vjsTEU3fnFg3EudphXlTo3InKKg3KpSiV0WUB2xiKNUqlPlYLlcYxTr+1cpWKtK4xXyrFE8soP6extVCQg6UR3GSNlUUU5kvXx/jZzSA4oU75WfOEp+fIZcd6Qq5eHKFZJhl4ohzDW+so29KnqvKWbiivacJeuMUTl7gXxbVMzdWfn8MFUqPAiM6nAco1SiT9ZdLslTtHCX3NJ9qjT8SBWTUjwyXvm+RpV9GiK2lvcL22vymGFnZ6cWLVqkmTNnSpJmzpypRYsWqaura7PXPfDAAzr22GPlOI6am5t16KGH6sEHH6xFiXgXnueo6EcVJGb8PWiXJCv5q2RTn1eu6KlGz2oAAFC3rG9lK5v/SUaim31N0I5qc6xRJJC+c8btOrz1Y1pTXK8PpQ5U56qCLj73N4oEIlxCVQWBVTFidcbvH9SkzGT9ra9Dr/a/rjHxHfSdxx9REOP6Q3UFga/m9AwZE3vX+db0kVrT6XGkBqoqlvK1tv82BUF+04C7g6SojMrKecvUW35CsRghJ6rIepJTViL3n4p1f1nyOyTbr2j3V5Xsu1jW9itKxokqMsbIRjxZb6liPWcqUrxXkuQW71Ks50xZf7mcmK+AXw1RRbGkZFRQuu9CRbu/JNk+Gf9vincfr2TuajnGl+HtGFUUi7mKxn3Fincr0f1luaX7JEnR3m8o1XOmTLBWsbSvwHC/sFYitfgmq1ev1ogRI+S6m1YY13XV1tam1atXq7m5ebPXjRo1auDr9vZ2rVmzZlDf672eLMDglPy88r6vfu2oFtMo2R5JUhA/VEtyazUh067mVEoO7xyosuIWbli5rqPW1myNqwGAbQPrH2otEnH075d/Vk7MakbbR7XslT5N27VNv7z5q8pkExo2LB12iRjC/CDQr195Uc+vX61SebLaE63aLbOrbl+8RI+sXKZzppY1tnVY2GViiFvbU9KYhjO1oueKzcYdk9Co7BlausLVsDSfUVA9ffmSRmSOU8RtUqXxx+r3+5WKjFY8eFMNMavGxEeUiMWUSLz7QyHA/1Z/oUvLe2/ViPTpSucul7xXN02YRpUbLlXHxh9rfNP31NraHm6hGNL6Ssv1Zt992jH7XUX7Lh4Yr2QvUkfv7RrbNEFekNTotqYQq8RQliut0itdP9JOjZcr1nO69Pcjhqy7o4rps7S69ya1xr+m1taWkCvFUBUEgdblnlEscqCysY1yy48NzFUa5mlZzy0a13SBiuWoxo9qfo+/CVtLTcL2WmIb+a3LmKyaG0uSfBVTpyviv6GIv0w7piapb6OjnPJhl4g64G/h7E3fD7R+fV+NqwGA8LW2Zln/EIpEMib50ok7HK1VyV4l41E51sjzeE9GdZmko8ktI3TrjM+onK/o+LHHqDU+XIuKG3XQAeOVjsa0sScnr8xWjagOxzFyTVTZxD8rEfmNKn7nwFxL+kwVvUY1xCtKxCKsh6geP6Ixw76q7tLjWtb9U5X8VTKKaXR2joYlD1O+O6u84fpD9bgmopGZE9WZv1Vpp1XSW2F7VHlvhUZlz1Ln+pgKca5DVI8bGy6ZpKz5+8O+JiPZflmTkTFNeuTJjZqySyvvx6gax2Y0quEU5b1lipn4QNhuIuO0Lv8HZZ3PqnOjVbnANYjqcF1HqcQ0vdn/r8okJklvC9t9k1Y6NlWXXPW0Tjn2YNbCreT9tpGvSdje3t6utWvXyvd9ua4r3/e1bt06tbe3v+N1q1at0pQpUyS9s9MdtWetlXGa1dd4gyq2SRW3Wy2xlNzAD7s0AAAAhMGXejeWlI7FJJ5xRY3YQqB2k1GjX9TpZ92gb849XE89+4J+N3+hJOnqa0+Ulx5yz5JjGxIEVpWY1YVPPKsv7j5Pe7YNV3elR4EX15Or1qg9tU4HNI3e4oPCwNaQSMa0qr+gZDSQjKN4ZIwkqbf8N7VkTlZegRoiUXke1yGqxDjKl7JqSx0mm39DlcafSSahSP4WpaI7qRSMVCIR5XdEVI0xkg3SGtf0LUW8p/9+PnGDorZbEXka2/QNZXZPKhaNcB2iaoxj5AWjlI34su5EVbJfkrH9ihbvUVv6cOW8VmWSLtcgqsYYqVhs0LjGsxQp3iYv810F0YmKFG6Xaxw1Jg/TqZ9JKMl7cs0YW6NDt7/4xS/qmGOO0axZs3TPPffo9ttv180337zZa+68807df//9uv7669Xd3a3Zs2frlltu0dixYz/w96GzfetLZAIFpiIvl5BxAyUzjvxiRIVCJezSUCdsYJXPlyRtemrrrRtYqVRcxuEQJgD1h852APWK3wsRFscxWhPk9M3HfytJmjFhR31ut8k65eH5Kge+xmWbdPEBH1es7IRcKYayStzqpsXP64u776CeUr9a00n1lz1lonE9vLxT+7eNUbNNqka3+lCHHMdoeaVHe7ZEVfZe04biX2VtWU3xPdWQmKqHXl+tac1jFfDAB6qoFAu0odyt3Rv79WbfvaoEnYq6wzUmM0sLNyY1It6keIVjT1E9lajVn9e/odk7TVBv4U/aUHxGrkmqLfUhxSI7609r+rVHulXW4/0Y1ZOPVtQQLyrt9mhV/+9U9lerKbGvhqcP14Ovr9R+LaPlvPvpvPj/8H6d7TUL2zs6OnT++eert7dXDQ0NmjdvnnbccUedfPLJOuusszR58mT5vq9LLrlETz75pCTp5JNP1pw5cwb1fQjbtz7XNfL9f/ybOo6RtVZ8dkMYCJgAgLUQACTWQtSW6zoqGE9vfRA2ruQ6rvKliqKuI2OliHHleCEXiiEtiEqe/E0dSsYoFjMyclUolGWMkYyUspHN7uEAW5MTM+pXRWXPU9yNyI04chRobVde2UxCgawaIwmZEtcgqsMYo2gmopV9PRqWSMoLfDUlE3qzs1cN6aR6SgWNzjaq0l/h3jWqxo0YyTGKOkaVIFDeK6unp6hRwxtlAikwkvUsORWqJhp1VY4G6srn1JhIyrdWMdfRuu5+NWaS6q+UNTKVlZfjw8nWss2E7bVC2A4MbdxUBQDWQgCQWAsBQGItRLgCY5UrbGqbSydjciy7zKC2AmNVLHvy/YBrEKFgHcS2gLWw+raJM9sBAAAAAAAAAEOHY42yifimL+h9QggcazR+VPOmh464BhEC1kFsC1gLw8dhYgAAAAAAAAAAAAAADBJhOwAAAAAAAAAAAAAAg0TYDgAAAAAAAAAAAADAIBG2AwAAAAAAAAAAAAAwSITtAAAAAAAAAAAAAAAMEmE7AAAAAAAAAAAAAACDRNgOAAAAAAAAAAAAAMAgEbYDAAAAAAAAAAAAADBIhO0AAAAAAAAAAAAAAAwSYTsAAAAAAAAAAAAAAINE2A4AAAAAAAAAAAAAwCARtgMAAAAAAAAAAAAAMEiE7QAAAAAAAAAAAAAADBJhOwAAAAAAAAAAAAAAg0TYDgAAAAAAAAAAAADAIBG2AwAAAAAAAAAAAAAwSITtAAAAAAAAAAAAAAAMEmE7AAAAAAAAAAAAAACDRNgOAAAAAAAAAAAAAMAgEbYDAAAAAAAAAAAAADBIhO0AAAAAAAAAAAAAAAwSYTsAAAAAAAAAAAAAAINE2A4AAAAAAAAAAAAAwCARtgMAAAAAAAAAAAAAMEiE7QAAAAAAAAAAAAAADBJhOwAAAAAAAAAAAAAAg0TYDgAAAAAAAAAAAADAIBG2AwAAAAAAAAAAAAAwSITtAAAAAAAAAAAAAAAMUiTsArY2xzFhlwCgyvj/OQCwFgKAxFoIABJrIQCwDgIAa2E1vd+/rbHW2hrVAgAAAAAAAAAAAADAkMA28gAAAAAAAAAAAAAADBJhOwAAAAAAAAAAAAAAg0TYDgAAAAAAAAAAAADAIBG2AwAAAAAAAAAAAAAwSITtAAAAAAAAAAAAAAAMEmE7AAAAAAAAAAAAAACDRNgOAAAAAAAAAAAAAMAgEbYDAAAAAAAAAAAAADBIhO0AAAAAAAAAAAAAAAwSYTuA7cLGjRt18skna8aMGTriiCN0xhlnqKurK+yyACAUV111lSZOnKglS5aEXQoA1FypVNLFF1+sww47TEcccYQuvPDCsEsCgJp77LHHNHv2bM2aNUtHHnmkHn744bBLAoCqmzdvnqZPn/6Oz8PLli3TnDlzNGPGDM2ZM0evv/56eEUCQJW921pIfhIuwnYA2wVjjE466SQ99NBDuu+++zR27Fj98Ic/DLssAKi5l19+WS+88IJGjx4ddikAEIrLL79c8Xh84PfCs88+O+ySAKCmrLU699xzddlll+mee+7RZZddpvPOO09BEIRdGgBU1SGHHKJbbrnlHZ+HL774Yh133HF66KGHdNxxx+miiy4KqUIAqL53WwvJT8JF2A5gu9DU1KRp06YNfL333ntr1apVIVYEALVXLpd1ySWXaO7cuWGXAgChyOVyuvvuu3X22WfLGCNJGj58eMhVAUDtOY6jvr4+SVJfX5/a2trkONzmAzC0TZ06Ve3t7ZuNdXZ2atGiRZo5c6YkaebMmVq0aBEdnQCGrHdbC8lPwhUJuwAAGKwgCHTbbbdp+vTpYZcCADX14x//WEceeaTGjBkTdikAEIoVK1aoqalJV111lZ5++mml02mdffbZmjp1atilAUDNGGN05ZVX6mtf+5pSqZRyuZyuu+66sMsCgFCsXr1aI0aMkOu6kiTXddXW1qbVq1erubk55OoAoPbIT2qPR14BbHe+//3vK5VK6Qtf+ELYpQBAzTz//PNauHChjjvuuLBLAYDQ+L6vFStWaNKkSbrzzjt1zjnn6Mwzz1R/f3/YpQFAzXiep2uvvVY//elP9dhjj+lnP/uZvv71ryuXy4VdGgAAAEJGflJ7hO0Ativz5s3T8uXLdeWVV7JFHoC6smDBAnV0dOiQQw7R9OnTtWbNGn3lK1/RE088EXZpAFAz7e3tikQiA9uE7rXXXho2bJiWLVsWcmUAUDt/+9vftG7dOu23336SpP3220/JZFIdHR0hVwYAtdfe3q61a9fK931Jmx7OXLdu3Tu2WAaAekB+Eg7+pQFsN370ox9p4cKFuvrqqxWLxcIuBwBq6pRTTtETTzyhRx99VI8++qhGjhypX/ziFzrooIPCLg0Aaqa5uVnTpk3Tk08+KUlatmyZOjs7NX78+JArA4DaGTlypNasWaOlS5dKkjo6OtTZ2alx48aFXBkA1F5LS4t23313zZ8/X5I0f/587b777mwhD6DukJ+Ex1hrbdhFAMD7efXVVzVz5kxNmDBBiURCkjRmzBhdffXVIVcGAOGYPn26rrnmGu26665hlwIANbVixQp9+9vfVnd3tyKRiL7+9a/r4IMPDrssAKipe++9V9dff72MMZKks846S4ceemjIVQFAdf3gBz/Qww8/rA0bNmjYsGFqamrS/fffr46ODp1//vnq7e1VQ0OD5s2bpx133DHscgGgKt5tLbzyyivJT0JE2A4AAAAAAAAAAAAAwCCxjTwAAAAAAAAAAAAAAINE2A4AAAAAAAAAAAAAwCARtgMAAAAAAAAAAAAAMEiE7QAAAAAAAAAAAAAADBJhOwAAAAAAAAAAAAAAg0TYDgAAAADAdmz69On605/+FHYZAAAAAADUHcJ2AAAAAAAAAAAAAAAGibAdAAAAAAB8YJ7nhV0CAAAAAADbBMJ2AAAAAACGgBdffFFz5szR1KlTddBBB+mSSy5RuVyWJH3ve9/TpZdeutnrTz31VN1www2SpLVr1+rMM8/UgQceqOnTp+umm24aeN1PfvITnXXWWTrnnHO077776q677qrZzwQAAAAAwLaMsB0AAAAAgCHAcRxdcMEF+vOf/6xf//rXeuqpp3TrrbdKko466ijNnz9fQRBIkrq6uvTUU09p5syZCoJAp512miZOnKj/+Z//0Y033qgbb7xRjz/++MDf/cgjj+jwww/Xs88+qyOOOCKUnw8AAAAAgG0NYTsAAAAAAEPAnnvuqb333luRSERjxozRnDlztGDBAknSlClTlM1m9dRTT0mSHnjgAR1wwAEaPny4XnrpJXV1demMM85QLBbT2LFj9ZnPfEYPPPDAwN+9995769BDD5XjOEokEqH8fAAAAAAAbGsiYRcAAAAAAAD+95YtW6ZLL71UCxcuVKFQkO/72mOPPQbmjzrqKN1777368Ic/rHvvvVfHH3+8JGnlypVat26dpk6dOvBa3/c3+3rkyJG1+0EAAAAAANhOELYDAAAAADAEzJ07V5MmTdIVV1yhTCajG264QQ899NDA/JFHHqmZM2dq8eLF6ujo0KGHHipJam9v15gxY/Twww9v8e82xlS9fgAAAAAAtjdsIw8AAAAAwBCQy+WUTqeVTqfV0dGh2267bbP5kSNHavLkyfrWt76lww47bGA7+ClTpiidTuu6665TsViU7/tasmSJXnzxxTB+DAAAAAAAthuE7QAAAAAADAHnnXee5s+fr3333VcXXnihPvWpT73jNbNnz9aSJUs0a9asgTHXdXXNNddo8eLFOuSQQ3TggQfqu9/9rvr7+2tZPgAAAAAA2x1jrbVhFwEAAAAAAKpvwYIF+ta3vqXHHnuMreEBAAAAAPhforMdAAAAAIA6UKlUdNNNN+mYY44haAcAAAAAYCsgbAcAAAAAYIjr6OjQ/vvvr/Xr1+vEE08MuxwAAAAAAIYEtpEHAAAAAAAAAAAAAGCQ6GwHAAAAAAAAAAAAAGCQCNsBAAAAAAAAAAAAABgkwnYAAAAAAAAAAAAAAAaJsB0AAAAAAAAAAAAAgEEibAcAAAAAAAAAAAAAYJAI2wEAAAAAAAAAAAAAGKT/C6TJNCrLDnhNAAAAAElFTkSuQmCC\n"
                },
                "metadata": {}
              }
            ]
          }
        },
        "d833e5a8f54d496b86ecbd1bca332921": {
          "model_module": "@jupyter-widgets/base",
          "model_name": "LayoutModel",
          "model_module_version": "1.2.0",
          "state": {
            "_model_module": "@jupyter-widgets/base",
            "_model_module_version": "1.2.0",
            "_model_name": "LayoutModel",
            "_view_count": null,
            "_view_module": "@jupyter-widgets/base",
            "_view_module_version": "1.2.0",
            "_view_name": "LayoutView",
            "align_content": null,
            "align_items": null,
            "align_self": null,
            "border": null,
            "bottom": null,
            "display": null,
            "flex": null,
            "flex_flow": null,
            "grid_area": null,
            "grid_auto_columns": null,
            "grid_auto_flow": null,
            "grid_auto_rows": null,
            "grid_column": null,
            "grid_gap": null,
            "grid_row": null,
            "grid_template_areas": null,
            "grid_template_columns": null,
            "grid_template_rows": null,
            "height": null,
            "justify_content": null,
            "justify_items": null,
            "left": null,
            "margin": null,
            "max_height": null,
            "max_width": null,
            "min_height": null,
            "min_width": null,
            "object_fit": null,
            "object_position": null,
            "order": null,
            "overflow": null,
            "overflow_x": null,
            "overflow_y": null,
            "padding": null,
            "right": null,
            "top": null,
            "visibility": null,
            "width": null
          }
        },
        "414e12ff2d454417a52ee9e4254e772b": {
          "model_module": "@jupyter-widgets/controls",
          "model_name": "HBoxModel",
          "model_module_version": "1.5.0",
          "state": {
            "_dom_classes": [],
            "_model_module": "@jupyter-widgets/controls",
            "_model_module_version": "1.5.0",
            "_model_name": "HBoxModel",
            "_view_count": null,
            "_view_module": "@jupyter-widgets/controls",
            "_view_module_version": "1.5.0",
            "_view_name": "HBoxView",
            "box_style": "",
            "children": [
              "IPY_MODEL_e7e308eae9254a7b94edcb2747b64b91",
              "IPY_MODEL_9a7fd970326a4cafac3242914b3aff5e"
            ],
            "layout": "IPY_MODEL_ff93db4e19064affbd6714c2b29a787b"
          }
        },
        "ff93db4e19064affbd6714c2b29a787b": {
          "model_module": "@jupyter-widgets/base",
          "model_name": "LayoutModel",
          "model_module_version": "1.2.0",
          "state": {
            "_model_module": "@jupyter-widgets/base",
            "_model_module_version": "1.2.0",
            "_model_name": "LayoutModel",
            "_view_count": null,
            "_view_module": "@jupyter-widgets/base",
            "_view_module_version": "1.2.0",
            "_view_name": "LayoutView",
            "align_content": null,
            "align_items": null,
            "align_self": null,
            "border": null,
            "bottom": null,
            "display": null,
            "flex": null,
            "flex_flow": null,
            "grid_area": null,
            "grid_auto_columns": null,
            "grid_auto_flow": null,
            "grid_auto_rows": null,
            "grid_column": null,
            "grid_gap": null,
            "grid_row": null,
            "grid_template_areas": null,
            "grid_template_columns": null,
            "grid_template_rows": null,
            "height": null,
            "justify_content": null,
            "justify_items": null,
            "left": null,
            "margin": null,
            "max_height": null,
            "max_width": null,
            "min_height": null,
            "min_width": null,
            "object_fit": null,
            "object_position": null,
            "order": null,
            "overflow": null,
            "overflow_x": null,
            "overflow_y": null,
            "padding": null,
            "right": null,
            "top": null,
            "visibility": null,
            "width": null
          }
        },
        "79b5fd2c13d0459ca60d7dfd4acd8777": {
          "model_module": "@jupyter-widgets/output",
          "model_name": "OutputModel",
          "model_module_version": "1.0.0",
          "state": {
            "_dom_classes": [],
            "_model_module": "@jupyter-widgets/output",
            "_model_module_version": "1.0.0",
            "_model_name": "OutputModel",
            "_view_count": null,
            "_view_module": "@jupyter-widgets/output",
            "_view_module_version": "1.0.0",
            "_view_name": "OutputView",
            "layout": "IPY_MODEL_42389868b40a46008f8c0859c272722f",
            "msg_id": "",
            "outputs": [
              {
                "output_type": "display_data",
                "data": {
                  "text/plain": "<Figure size 3168x1800 with 1 Axes>",
                  "image/png": "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\n"
                },
                "metadata": {}
              }
            ]
          }
        },
        "42389868b40a46008f8c0859c272722f": {
          "model_module": "@jupyter-widgets/base",
          "model_name": "LayoutModel",
          "model_module_version": "1.2.0",
          "state": {
            "_model_module": "@jupyter-widgets/base",
            "_model_module_version": "1.2.0",
            "_model_name": "LayoutModel",
            "_view_count": null,
            "_view_module": "@jupyter-widgets/base",
            "_view_module_version": "1.2.0",
            "_view_name": "LayoutView",
            "align_content": null,
            "align_items": null,
            "align_self": null,
            "border": null,
            "bottom": null,
            "display": null,
            "flex": null,
            "flex_flow": null,
            "grid_area": null,
            "grid_auto_columns": null,
            "grid_auto_flow": null,
            "grid_auto_rows": null,
            "grid_column": null,
            "grid_gap": null,
            "grid_row": null,
            "grid_template_areas": null,
            "grid_template_columns": null,
            "grid_template_rows": null,
            "height": null,
            "justify_content": null,
            "justify_items": null,
            "left": null,
            "margin": null,
            "max_height": null,
            "max_width": null,
            "min_height": null,
            "min_width": null,
            "object_fit": null,
            "object_position": null,
            "order": null,
            "overflow": null,
            "overflow_x": null,
            "overflow_y": null,
            "padding": null,
            "right": null,
            "top": null,
            "visibility": null,
            "width": null
          }
        }
      }
    }
  },
  "nbformat": 4,
  "nbformat_minor": 5
}