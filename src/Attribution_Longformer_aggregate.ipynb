{
  "cells": [
    {
      "cell_type": "markdown",
      "metadata": {
        "id": "view-in-github",
        "colab_type": "text"
      },
      "source": [
        "<a href=\"https://colab.research.google.com/github/danielhou13/cogs402longformer/blob/main/src/CaptumLongformerSequenceClassificationaggregate.ipynb\" target=\"_parent\"><img src=\"https://colab.research.google.com/assets/colab-badge.svg\" alt=\"Open In Colab\"/></a>"
      ]
    },
    {
      "cell_type": "markdown",
      "source": [
        "This notebook performs [Integrated Gradients](https://arxiv.org/abs/1703.01365) over the entire dataset and aggregates all of the attributions with respect to the positive class. We aggregate using either the complete longformer embeddings, or the word and position embeddings. The notebook outputs a csv file containg tokens and the sum of the attributions over the entire dataset and is used in the [longformer embedding](https://colab.research.google.com/drive/15Zquqi72N2NNusEUXRN53bCKE7qj8KAh?usp=sharing) and [word+positon+token_type embeddings](https://colab.research.google.com/drive/1pptTYAJGp7tl0BhVQoTD5RGyQMEVF766) notebooks"
      ],
      "metadata": {
        "id": "kEJ0R0uy0l47"
      }
    },
    {
      "cell_type": "code",
      "source": [
        "from google.colab import drive\n",
        "drive.mount('/content/drive')"
      ],
      "metadata": {
        "id": "b_HI-3J_1Gfg",
        "colab": {
          "base_uri": "https://localhost:8080/"
        },
        "outputId": "7bc0f2f9-5c60-46ac-f8a4-392aa402e683"
      },
      "execution_count": null,
      "outputs": [
        {
          "output_type": "stream",
          "name": "stdout",
          "text": [
            "Drive already mounted at /content/drive; to attempt to forcibly remount, call drive.mount(\"/content/drive\", force_remount=True).\n"
          ]
        }
      ]
    },
    {
      "cell_type": "markdown",
      "source": [
        "## Import dependencies"
      ],
      "metadata": {
        "id": "HkZ5bD2_z-0C"
      }
    },
    {
      "cell_type": "code",
      "source": [
        "import sys\n",
        "sys.path.append('/content/drive/My Drive/{}'.format(\"cogs402longformer/\"))"
      ],
      "metadata": {
        "id": "Jck92aCS1c3S"
      },
      "execution_count": null,
      "outputs": []
    },
    {
      "cell_type": "code",
      "source": [
        "pip install transformers --quiet"
      ],
      "metadata": {
        "id": "zMjzQIFJ2P_T"
      },
      "execution_count": null,
      "outputs": []
    },
    {
      "cell_type": "code",
      "source": [
        "pip install captum --quiet"
      ],
      "metadata": {
        "id": "Uno0qwr12UTd"
      },
      "execution_count": null,
      "outputs": []
    },
    {
      "cell_type": "code",
      "source": [
        "pip install datasets --quiet"
      ],
      "metadata": {
        "id": "OaOSPMJE3ONc"
      },
      "execution_count": null,
      "outputs": []
    },
    {
      "cell_type": "code",
      "source": [
        "import os\n",
        "os.environ['CUDA_LAUNCH_BLOCKING'] = \"1\""
      ],
      "metadata": {
        "id": "hRSNYTrRIPkr"
      },
      "execution_count": null,
      "outputs": []
    },
    {
      "cell_type": "code",
      "execution_count": null,
      "metadata": {
        "id": "wrRRZJ6-0_Il"
      },
      "outputs": [],
      "source": [
        "from captum.attr import visualization as viz\n",
        "from captum.attr import IntegratedGradients, LayerConductance, LayerIntegratedGradients\n",
        "from captum.attr import configure_interpretable_embedding_layer, remove_interpretable_embedding_layer\n",
        "\n",
        "import torch\n",
        "import pandas as pd"
      ]
    },
    {
      "cell_type": "markdown",
      "source": [
        "## Import model"
      ],
      "metadata": {
        "id": "USHRv2j70Fb4"
      }
    },
    {
      "cell_type": "code",
      "execution_count": null,
      "metadata": {
        "id": "b5V31lsc0_Il"
      },
      "outputs": [],
      "source": [
        "device = torch.device(\"cuda:0\" if torch.cuda.is_available() else \"cpu\")"
      ]
    },
    {
      "cell_type": "code",
      "execution_count": null,
      "metadata": {
        "id": "9nzBfB-v0_Im"
      },
      "outputs": [],
      "source": [
        "from transformers import LongformerForSequenceClassification, LongformerTokenizer, LongformerConfig\n",
        "# replace <PATH-TO-SAVED-MODEL> with the real path of the saved model\n",
        "model_path = 'danielhou13/longformer-finetuned_papers_v2'\n",
        "# model_path = 'danielhou13/longformer-finetuned-news-cogs402'\n",
        "\n",
        "# load model\n",
        "model = LongformerForSequenceClassification.from_pretrained(model_path, num_labels = 2)\n",
        "model.to(device)\n",
        "model.eval()\n",
        "model.zero_grad()\n",
        "\n",
        "# load tokenizer\n",
        "tokenizer = LongformerTokenizer.from_pretrained(\"allenai/longformer-base-4096\")\n"
      ]
    },
    {
      "cell_type": "markdown",
      "source": [
        "## Import Dataset"
      ],
      "metadata": {
        "id": "BdY6GsO00RG_"
      }
    },
    {
      "cell_type": "markdown",
      "source": [
        "Here we import the papers dataset"
      ],
      "metadata": {
        "id": "e_gGIPpwkmbH"
      }
    },
    {
      "cell_type": "code",
      "execution_count": null,
      "metadata": {
        "id": "w6aQM9nM0_Ip",
        "colab": {
          "base_uri": "https://localhost:8080/",
          "height": 85,
          "referenced_widgets": [
            "dd6db9953c6c4b26a7398ce5fadcef6d",
            "db18742e07024ff381cf013e62cad3ca",
            "1dbffd0300454afbad29d08b732f7218",
            "4e01c3d7ef1d4522856dc5d3a1830570",
            "7c61d0e83320475a8f38593261f47738",
            "aae10d409da54cc98d29eee2c491ecda",
            "567e740fa21f41879cf27949d11d1cb6",
            "5f379c2480f74747b31b49d915f4afa3",
            "a5db7a3526f64121954e628a5db43fd8",
            "8ba20774b01a4fb4945d8b8c06cb14cc",
            "d1c223e532644973865cf5dce6fbf8c1"
          ]
        },
        "outputId": "9659e839-df3f-4b0f-94a9-4a9a0993f572"
      },
      "outputs": [
        {
          "output_type": "stream",
          "name": "stderr",
          "text": [
            "Using custom data configuration danielhou13--cogs402dataset-144b958ac1a53abb\n",
            "Reusing dataset parquet (/root/.cache/huggingface/datasets/danielhou13___parquet/danielhou13--cogs402dataset-144b958ac1a53abb/0.0.0/7328ef7ee03eaf3f86ae40594d46a1cec86161704e02dd19f232d81eee72ade8)\n"
          ]
        },
        {
          "output_type": "display_data",
          "data": {
            "text/plain": [
              "  0%|          | 0/2 [00:00<?, ?it/s]"
            ],
            "application/vnd.jupyter.widget-view+json": {
              "version_major": 2,
              "version_minor": 0,
              "model_id": "dd6db9953c6c4b26a7398ce5fadcef6d"
            }
          },
          "metadata": {}
        }
      ],
      "source": [
        "from datasets import load_dataset\n",
        "import numpy as np\n",
        "cogs402_ds = load_dataset(\"danielhou13/cogs402dataset\")[\"test\"]"
      ]
    },
    {
      "cell_type": "markdown",
      "source": [
        "Here we import the news dataset"
      ],
      "metadata": {
        "id": "oLMmOW7Lm40A"
      }
    },
    {
      "cell_type": "code",
      "source": [
        "# cogs402_ds = load_dataset(\"danielhou13/cogs402dataset2\")[\"validation\"]"
      ],
      "metadata": {
        "id": "58zzpZYRWRDj"
      },
      "execution_count": null,
      "outputs": []
    },
    {
      "cell_type": "markdown",
      "source": [
        "## Getting the Attributions"
      ],
      "metadata": {
        "id": "-IMLrVRDP3CP"
      }
    },
    {
      "cell_type": "markdown",
      "source": [
        "For our Integrated Gradients, we need to create a custom forward pass of our model. Specifically we want the softmaxed logits which represent the probability of predicting that class."
      ],
      "metadata": {
        "id": "uX2TF2ayP6X_"
      }
    },
    {
      "cell_type": "code",
      "execution_count": null,
      "metadata": {
        "id": "y5-heo2y0_Im"
      },
      "outputs": [],
      "source": [
        "def predict(inputs, position_ids=None, token_type_ids=None, attention_mask=None):\n",
        "    output = model(inputs,\n",
        "                   position_ids=position_ids,\n",
        "                   token_type_ids=token_type_ids,\n",
        "                   attention_mask=attention_mask)\n",
        "    return output.logits"
      ]
    },
    {
      "cell_type": "code",
      "execution_count": null,
      "metadata": {
        "id": "axwpHq-y0_Io"
      },
      "outputs": [],
      "source": [
        "#set 1 if we are dealing with a positive class, and 0 if dealing with negative class\n",
        "def custom_forward(inputs, position_ids=None, token_type_ids=None, attention_mask=None):\n",
        "    preds = predict(inputs,\n",
        "                   position_ids=position_ids,\n",
        "                   token_type_ids=token_type_ids,\n",
        "                   attention_mask=attention_mask)\n",
        "    return torch.softmax(preds, dim = 1)"
      ]
    },
    {
      "cell_type": "markdown",
      "source": [
        "Create functions that give us the input ids, position ids and token_type_ids for the text we want to examine. It also creates a baseline for use in our integrated gradients.\n",
        "\n",
        "**Note: The function used to create the token type ids is the exact same as the longformer implementation when no token type ids. It is not necessary to create token_type_ids unless you are doing Integrated Gradients using multi-embedding as we need the baselines.**"
      ],
      "metadata": {
        "id": "bqbvfvXv0VTp"
      }
    },
    {
      "cell_type": "code",
      "execution_count": null,
      "metadata": {
        "id": "vAAjmDRl0_In"
      },
      "outputs": [],
      "source": [
        "ref_token_id = tokenizer.pad_token_id # A token used for generating token reference\n",
        "sep_token_id = tokenizer.sep_token_id # A token used as a separator between question and text and it is also added to the end of the text.\n",
        "cls_token_id = tokenizer.cls_token_id # A token used for prepending to the concatenated question-text word sequence"
      ]
    },
    {
      "cell_type": "code",
      "execution_count": null,
      "metadata": {
        "id": "UgBSBpz-0_In"
      },
      "outputs": [],
      "source": [
        "max_length = 2046\n",
        "def construct_input_ref_pair(text, ref_token_id, sep_token_id, cls_token_id):\n",
        "\n",
        "    text_ids = tokenizer.encode(text, truncation = True, add_special_tokens=False, max_length = max_length)\n",
        "    # construct input token ids\n",
        "    input_ids = [cls_token_id] + text_ids + [sep_token_id]\n",
        "    # construct reference token ids \n",
        "    ref_input_ids = [cls_token_id] + [ref_token_id] * len(text_ids) + [sep_token_id]\n",
        "\n",
        "    return torch.tensor([input_ids], device=device), torch.tensor([ref_input_ids], device=device), len(text_ids)\n",
        "\n",
        "def construct_input_ref_pos_id_pair(input_ids):\n",
        "    seq_length = input_ids.size(1)\n",
        "\n",
        "    #taken from the longformer implementation\n",
        "    mask = input_ids.ne(ref_token_id).int()\n",
        "    incremental_indices = torch.cumsum(mask, dim=1).type_as(mask) * mask\n",
        "    position_ids = incremental_indices.long().squeeze() + ref_token_id\n",
        "\n",
        "    # we could potentially also use random permutation with `torch.randperm(seq_length, device=device)`\n",
        "    ref_position_ids = torch.zeros(seq_length, dtype=torch.long, device=device)\n",
        "\n",
        "    position_ids = position_ids.unsqueeze(0).expand_as(input_ids)\n",
        "    ref_position_ids = ref_position_ids.unsqueeze(0).expand_as(input_ids)\n",
        "    return position_ids, ref_position_ids\n",
        "\n",
        "def construct_input_ref_token_type_pair(input_ids):\n",
        "    seq_len = input_ids.size(1)\n",
        "\n",
        "    # same as the tensor the model creates when you do not pass in token_type_ids as input.\n",
        "    token_type_ids = torch.zeros(seq_len, dtype=torch.long, device=device).unsqueeze(0).expand_as(input_ids)\n",
        "    \n",
        "    ref_token_type_ids = torch.zeros_like(token_type_ids, device=device)\n",
        "\n",
        "    return token_type_ids, ref_token_type_ids\n",
        "    \n",
        "def construct_attention_mask(input_ids):\n",
        "    return torch.ones_like(input_ids)"
      ]
    },
    {
      "cell_type": "markdown",
      "source": [
        "Perform Layer Integrated Gradients using the longformer's complete embeddings. This can easily be adjusted to use longformer word embeddings, position and token_type embeddings, which we will call multi-embedding."
      ],
      "metadata": {
        "id": "bQaYaSDf0buh"
      }
    },
    {
      "cell_type": "code",
      "execution_count": null,
      "metadata": {
        "id": "4uDuDrip0_Ip",
        "colab": {
          "base_uri": "https://localhost:8080/"
        },
        "outputId": "d1e84c77-a89c-4c64-d8f1-9bd063f9859f"
      },
      "outputs": [
        {
          "output_type": "stream",
          "name": "stderr",
          "text": [
            "/usr/local/lib/python3.7/dist-packages/captum/attr/_core/layer/layer_integrated_gradients.py:103: UserWarning: Multiple layers provided. Please ensure that each layer is**not** solely solely dependent on the outputs ofanother layer. Please refer to the documentation for moredetail.\n",
            "  \"Multiple layers provided. Please ensure that each layer is\"\n"
          ]
        }
      ],
      "source": [
        "lig = LayerIntegratedGradients(custom_forward, model.longformer.embeddings)\n",
        "lig2 = LayerIntegratedGradients(custom_forward, \\\n",
        "                                [model.longformer.embeddings.word_embeddings, \\\n",
        "                                 model.longformer.embeddings.position_embeddings,\\\n",
        "                                 model.longformer.embeddings.token_type_embeddings])"
      ]
    },
    {
      "cell_type": "markdown",
      "source": [
        "Helper function to sum the attributions and normalize into an array of length (seq_len)."
      ],
      "metadata": {
        "id": "TYWjb7C2QTvJ"
      }
    },
    {
      "cell_type": "code",
      "execution_count": null,
      "metadata": {
        "id": "lIeE9P7b0_Ir"
      },
      "outputs": [],
      "source": [
        "def summarize_attributions(attributions):\n",
        "    attributions = attributions.sum(dim=-1).squeeze(0)\n",
        "    attributions = attributions / torch.linalg.norm(attributions)\n",
        "    return attributions"
      ]
    },
    {
      "cell_type": "markdown",
      "source": [
        "We iterate over the entire dataset, getting the input_ids, the baseline input_ids, the position_ids and the attention mask. We then perform integrated gradients, summing the attributions, and finally creating a dataframe to store the attributions and respective tokens. After we create the dataframe, get the aggregate attributions for each token in the example and save it in a list of dataframes."
      ],
      "metadata": {
        "id": "bqYiK1U9IOeP"
      }
    },
    {
      "cell_type": "code",
      "source": [
        "# from tqdm import tqdm\n",
        "# aggregate_attrib = []\n",
        "# aggregation_function = {'attribution': 'sum'}\n",
        "\n",
        "# for i in tqdm(range(len(cogs402_ds))):\n",
        "\n",
        "#   #get input ids, position ids and attention mask for integrated gradients\n",
        "#   text = cogs402_ds[i]['text']\n",
        "#   input_ids, ref_input_ids, sep_id = construct_input_ref_pair(text, ref_token_id, sep_token_id, cls_token_id)\n",
        "#   position_ids, ref_position_ids = construct_input_ref_pos_id_pair(input_ids)\n",
        "#   attention_mask = construct_attention_mask(input_ids)\n",
        "\n",
        "#   indices = input_ids[0].detach().tolist()\n",
        "#   all_tokens = tokenizer.convert_ids_to_tokens(indices)\n",
        "\n",
        "#   # perform integrated gradients\n",
        "#   # second additional argument is None because we don't need token_type_ids here\n",
        "#   # allows us to use the same custom forward for complete embedding and multi-embedding\n",
        "#   attributions = lig.attribute(inputs=input_ids,\n",
        "#                                     baselines=ref_input_ids,\n",
        "#                                     additional_forward_args=(position_ids, None, attention_mask),\n",
        "#                                     target=1,\n",
        "#                                     n_steps=25,\n",
        "#                                     internal_batch_size = 2)\n",
        "  \n",
        "#   #get the attributions\n",
        "#   attributions_sum = summarize_attributions(attributions)\n",
        "  \n",
        "#   #convert into dataframe\n",
        "#   d = {\"tokens\":all_tokens, \"attribution\":attributions_sum[:len(all_tokens)].cpu()}  \n",
        "#   df_attrib = pd.DataFrame(d)\n",
        "\n",
        "#   #aggregate the duplicate tokens\n",
        "#   df_attrib = df_attrib.groupby(df_attrib['tokens']).aggregate(aggregation_function)\n",
        "\n",
        "#   #add to list of dataframes\n",
        "#   aggregate_attrib.append(df_attrib)"
      ],
      "metadata": {
        "id": "CjL5YobvYmNr"
      },
      "execution_count": null,
      "outputs": []
    },
    {
      "cell_type": "markdown",
      "source": [
        "Here we have the implementation for the multi-embedding version. The only difference is that we have two attributions that we want to find the aggregate for, the position and word embeddings. \n",
        "\n",
        "**Note: despite passing in the token_type_ids and the baseline as inputs, we will not be able to get attributions for it as the input and the baseline are the same. It returns a tensor of nan values.**\n",
        "\n",
        "We create dataframes for both the word and position attributions to store the attributions and their respective token. We then aggregate the attributions based on the token for both dataframes. Finally we appendthe position and word dataframes in their own separate list of dataframes."
      ],
      "metadata": {
        "id": "DDFBPe2C4Vtk"
      }
    },
    {
      "cell_type": "code",
      "source": [
        "from tqdm import tqdm\n",
        "aggregate_attrib = []\n",
        "aggregate_pos = []\n",
        "\n",
        "aggregation_function = {'attribution': 'sum'}\n",
        "\n",
        "for i in tqdm(range(len(cogs402_ds)), position = 0, leave = True):\n",
        "  \n",
        "  #get input_ids, position_ids, and the attention masks for the integrated gradients\n",
        "  text = cogs402_ds[i]['text']\n",
        "\n",
        "  input_ids, ref_input_ids, sep_id = construct_input_ref_pair(text, ref_token_id, sep_token_id, cls_token_id)\n",
        "  token_type_ids, ref_token_type_ids = construct_input_ref_token_type_pair(input_ids)\n",
        "  position_ids, ref_position_ids = construct_input_ref_pos_id_pair(input_ids)\n",
        "  attention_mask = construct_attention_mask(input_ids)\n",
        "\n",
        "  indices = input_ids[0].detach().tolist()\n",
        "  all_tokens = tokenizer.convert_ids_to_tokens(indices)\n",
        "\n",
        "  # compute integrated gradients\n",
        "  attributions2 = lig2.attribute(inputs=(input_ids, position_ids, token_type_ids),\n",
        "                               baselines=(ref_input_ids, ref_position_ids, ref_token_type_ids),\n",
        "                               target=1,\n",
        "                               additional_forward_args=attention_mask,\n",
        "                               n_steps=20,\n",
        "                               internal_batch_size = 2)\n",
        "  \n",
        "  # get the attributions for the words and position ids\n",
        "  attributions_word = summarize_attributions(attributions2[0])\n",
        "  attributions_position = summarize_attributions(attributions2[1])\n",
        "\n",
        "  # convert them both into dataframes \n",
        "  d = {\"tokens\":all_tokens, \"attribution\":attributions_word[:len(all_tokens)].cpu()}  \n",
        "  d2 = {\"tokens\":all_tokens, \"attribution\":attributions_position[:len(all_tokens)].cpu()}  \n",
        "  \n",
        "  df_attrib = pd.DataFrame(d)\n",
        "  df_attrib2 = pd.DataFrame(d2)\n",
        "\n",
        "  #aggregate the attributions for duplicate tokens\n",
        "  df_attrib = df_attrib.groupby(df_attrib['tokens']).aggregate(aggregation_function)\n",
        "  df_attrib2 = df_attrib2.groupby(df_attrib2['tokens']).aggregate(aggregation_function)\n",
        "\n",
        "  aggregate_attrib.append(df_attrib)\n",
        "  aggregate_pos.append(df_attrib2)"
      ],
      "metadata": {
        "colab": {
          "base_uri": "https://localhost:8080/"
        },
        "id": "EMuSIP5D4UIC",
        "outputId": "2da07bcf-9263-482b-a918-06cd2a7501d8"
      },
      "execution_count": null,
      "outputs": [
        {
          "output_type": "stream",
          "name": "stderr",
          "text": [
            "100%|██████████| 1070/1070 [3:19:15<00:00, 11.17s/it]\n"
          ]
        }
      ]
    },
    {
      "cell_type": "markdown",
      "source": [
        "To get the aggregate attributions for every token over the entire dataset, we concatenate the list of dataframes we stored, sum up the attributions of duplicate tokens and divide by the number of items in each list."
      ],
      "metadata": {
        "id": "_g6kqbTXCS-C"
      }
    },
    {
      "cell_type": "code",
      "source": [
        "def combinedataframe(listframes, aggregation_func):\n",
        "  df_attrib = pd.concat(listframes)\n",
        "  df_attrib = df_attrib.reset_index(level=0)\n",
        "  df_attrib = df_attrib.groupby(df_attrib['tokens']).aggregate(aggregation_func)\n",
        "  df_attrib['attribution'] = df_attrib['attribution'].div(len(listframes))\n",
        "  highest_attrib_tokens_all = df_attrib.sort_values(by=['attribution'], ascending=False)\n",
        "  return highest_attrib_tokens_all"
      ],
      "metadata": {
        "id": "JgulY85m4dOU"
      },
      "execution_count": null,
      "outputs": []
    },
    {
      "cell_type": "code",
      "source": [
        "df_attrib = combinedataframe(aggregate_attrib, aggregation_function)\n",
        "df_attrib_pos = combinedataframe(aggregate_pos, aggregation_function)"
      ],
      "metadata": {
        "id": "AH_T49HMF6Cn"
      },
      "execution_count": null,
      "outputs": []
    },
    {
      "cell_type": "markdown",
      "source": [
        "Here we are only showing the top 15 highest attributions, in other words, the tokens that have the most influence in the model predicting positive. If you are running integrated gradients using the longformer embeddings, this will be attributions for those embeddings. If you are running Integrated Gradients using word, position, and token_type embeddings, these will be the word embeddings."
      ],
      "metadata": {
        "id": "kxj_mmUxlx0c"
      }
    },
    {
      "cell_type": "code",
      "source": [
        "df_attrib[:15]"
      ],
      "metadata": {
        "colab": {
          "base_uri": "https://localhost:8080/",
          "height": 551
        },
        "id": "1bXA7aeS5AWx",
        "outputId": "6283ee69-2428-4888-b5a7-12046cb8fcff"
      },
      "execution_count": null,
      "outputs": [
        {
          "output_type": "execute_result",
          "data": {
            "text/plain": [
              "           attribution\n",
              "tokens                \n",
              ".             0.706923\n",
              "Ġof           0.631198\n",
              "-             0.269057\n",
              "Ġ(            0.258001\n",
              "Ġin           0.239166\n",
              ",             0.216959\n",
              "Ġand          0.198603\n",
              "Ġa            0.157613\n",
              "Ġlearning     0.123875\n",
              "Ġ             0.123460\n",
              "Ġ[            0.116078\n",
              "Ġon           0.112158\n",
              ")             0.102695\n",
              "Ġfor          0.084278\n",
              "Ġwith         0.080162"
            ],
            "text/html": [
              "\n",
              "  <div id=\"df-eab7760a-ad23-4473-8c4e-13040d00253d\">\n",
              "    <div class=\"colab-df-container\">\n",
              "      <div>\n",
              "<style scoped>\n",
              "    .dataframe tbody tr th:only-of-type {\n",
              "        vertical-align: middle;\n",
              "    }\n",
              "\n",
              "    .dataframe tbody tr th {\n",
              "        vertical-align: top;\n",
              "    }\n",
              "\n",
              "    .dataframe thead th {\n",
              "        text-align: right;\n",
              "    }\n",
              "</style>\n",
              "<table border=\"1\" class=\"dataframe\">\n",
              "  <thead>\n",
              "    <tr style=\"text-align: right;\">\n",
              "      <th></th>\n",
              "      <th>attribution</th>\n",
              "    </tr>\n",
              "    <tr>\n",
              "      <th>tokens</th>\n",
              "      <th></th>\n",
              "    </tr>\n",
              "  </thead>\n",
              "  <tbody>\n",
              "    <tr>\n",
              "      <th>.</th>\n",
              "      <td>0.706923</td>\n",
              "    </tr>\n",
              "    <tr>\n",
              "      <th>Ġof</th>\n",
              "      <td>0.631198</td>\n",
              "    </tr>\n",
              "    <tr>\n",
              "      <th>-</th>\n",
              "      <td>0.269057</td>\n",
              "    </tr>\n",
              "    <tr>\n",
              "      <th>Ġ(</th>\n",
              "      <td>0.258001</td>\n",
              "    </tr>\n",
              "    <tr>\n",
              "      <th>Ġin</th>\n",
              "      <td>0.239166</td>\n",
              "    </tr>\n",
              "    <tr>\n",
              "      <th>,</th>\n",
              "      <td>0.216959</td>\n",
              "    </tr>\n",
              "    <tr>\n",
              "      <th>Ġand</th>\n",
              "      <td>0.198603</td>\n",
              "    </tr>\n",
              "    <tr>\n",
              "      <th>Ġa</th>\n",
              "      <td>0.157613</td>\n",
              "    </tr>\n",
              "    <tr>\n",
              "      <th>Ġlearning</th>\n",
              "      <td>0.123875</td>\n",
              "    </tr>\n",
              "    <tr>\n",
              "      <th>Ġ</th>\n",
              "      <td>0.123460</td>\n",
              "    </tr>\n",
              "    <tr>\n",
              "      <th>Ġ[</th>\n",
              "      <td>0.116078</td>\n",
              "    </tr>\n",
              "    <tr>\n",
              "      <th>Ġon</th>\n",
              "      <td>0.112158</td>\n",
              "    </tr>\n",
              "    <tr>\n",
              "      <th>)</th>\n",
              "      <td>0.102695</td>\n",
              "    </tr>\n",
              "    <tr>\n",
              "      <th>Ġfor</th>\n",
              "      <td>0.084278</td>\n",
              "    </tr>\n",
              "    <tr>\n",
              "      <th>Ġwith</th>\n",
              "      <td>0.080162</td>\n",
              "    </tr>\n",
              "  </tbody>\n",
              "</table>\n",
              "</div>\n",
              "      <button class=\"colab-df-convert\" onclick=\"convertToInteractive('df-eab7760a-ad23-4473-8c4e-13040d00253d')\"\n",
              "              title=\"Convert this dataframe to an interactive table.\"\n",
              "              style=\"display:none;\">\n",
              "        \n",
              "  <svg xmlns=\"http://www.w3.org/2000/svg\" height=\"24px\"viewBox=\"0 0 24 24\"\n",
              "       width=\"24px\">\n",
              "    <path d=\"M0 0h24v24H0V0z\" fill=\"none\"/>\n",
              "    <path d=\"M18.56 5.44l.94 2.06.94-2.06 2.06-.94-2.06-.94-.94-2.06-.94 2.06-2.06.94zm-11 1L8.5 8.5l.94-2.06 2.06-.94-2.06-.94L8.5 2.5l-.94 2.06-2.06.94zm10 10l.94 2.06.94-2.06 2.06-.94-2.06-.94-.94-2.06-.94 2.06-2.06.94z\"/><path d=\"M17.41 7.96l-1.37-1.37c-.4-.4-.92-.59-1.43-.59-.52 0-1.04.2-1.43.59L10.3 9.45l-7.72 7.72c-.78.78-.78 2.05 0 2.83L4 21.41c.39.39.9.59 1.41.59.51 0 1.02-.2 1.41-.59l7.78-7.78 2.81-2.81c.8-.78.8-2.07 0-2.86zM5.41 20L4 18.59l7.72-7.72 1.47 1.35L5.41 20z\"/>\n",
              "  </svg>\n",
              "      </button>\n",
              "      \n",
              "  <style>\n",
              "    .colab-df-container {\n",
              "      display:flex;\n",
              "      flex-wrap:wrap;\n",
              "      gap: 12px;\n",
              "    }\n",
              "\n",
              "    .colab-df-convert {\n",
              "      background-color: #E8F0FE;\n",
              "      border: none;\n",
              "      border-radius: 50%;\n",
              "      cursor: pointer;\n",
              "      display: none;\n",
              "      fill: #1967D2;\n",
              "      height: 32px;\n",
              "      padding: 0 0 0 0;\n",
              "      width: 32px;\n",
              "    }\n",
              "\n",
              "    .colab-df-convert:hover {\n",
              "      background-color: #E2EBFA;\n",
              "      box-shadow: 0px 1px 2px rgba(60, 64, 67, 0.3), 0px 1px 3px 1px rgba(60, 64, 67, 0.15);\n",
              "      fill: #174EA6;\n",
              "    }\n",
              "\n",
              "    [theme=dark] .colab-df-convert {\n",
              "      background-color: #3B4455;\n",
              "      fill: #D2E3FC;\n",
              "    }\n",
              "\n",
              "    [theme=dark] .colab-df-convert:hover {\n",
              "      background-color: #434B5C;\n",
              "      box-shadow: 0px 1px 3px 1px rgba(0, 0, 0, 0.15);\n",
              "      filter: drop-shadow(0px 1px 2px rgba(0, 0, 0, 0.3));\n",
              "      fill: #FFFFFF;\n",
              "    }\n",
              "  </style>\n",
              "\n",
              "      <script>\n",
              "        const buttonEl =\n",
              "          document.querySelector('#df-eab7760a-ad23-4473-8c4e-13040d00253d button.colab-df-convert');\n",
              "        buttonEl.style.display =\n",
              "          google.colab.kernel.accessAllowed ? 'block' : 'none';\n",
              "\n",
              "        async function convertToInteractive(key) {\n",
              "          const element = document.querySelector('#df-eab7760a-ad23-4473-8c4e-13040d00253d');\n",
              "          const dataTable =\n",
              "            await google.colab.kernel.invokeFunction('convertToInteractive',\n",
              "                                                     [key], {});\n",
              "          if (!dataTable) return;\n",
              "\n",
              "          const docLinkHtml = 'Like what you see? Visit the ' +\n",
              "            '<a target=\"_blank\" href=https://colab.research.google.com/notebooks/data_table.ipynb>data table notebook</a>'\n",
              "            + ' to learn more about interactive tables.';\n",
              "          element.innerHTML = '';\n",
              "          dataTable['output_type'] = 'display_data';\n",
              "          await google.colab.output.renderOutput(dataTable, element);\n",
              "          const docLink = document.createElement('div');\n",
              "          docLink.innerHTML = docLinkHtml;\n",
              "          element.appendChild(docLink);\n",
              "        }\n",
              "      </script>\n",
              "    </div>\n",
              "  </div>\n",
              "  "
            ]
          },
          "metadata": {},
          "execution_count": 22
        }
      ]
    },
    {
      "cell_type": "markdown",
      "source": [
        "Here we are showing the 15 highest attributions for the position embeddings. Note that running integrated gradients using the longformer embeddings rather than the word, position and token_type embeddings will not have this output."
      ],
      "metadata": {
        "id": "EpF2ZfDBRssb"
      }
    },
    {
      "cell_type": "code",
      "source": [
        "df_attrib_pos[:15]"
      ],
      "metadata": {
        "id": "UgvpXJBMb84H",
        "colab": {
          "base_uri": "https://localhost:8080/",
          "height": 551
        },
        "outputId": "74adc788-b85e-4b5b-9a32-12ff9e887b4a"
      },
      "execution_count": null,
      "outputs": [
        {
          "output_type": "execute_result",
          "data": {
            "text/plain": [
              "            attribution\n",
              "tokens                 \n",
              "<s>            0.581123\n",
              ".              0.349917\n",
              "-              0.102612\n",
              ",              0.077168\n",
              "Ġ(             0.050490\n",
              "Ġof            0.049221\n",
              "Ġthe           0.035754\n",
              ")              0.034229\n",
              ":              0.029639\n",
              "].             0.025223\n",
              "Ġ.             0.024754\n",
              "1              0.020642\n",
              "Ġ[             0.019859\n",
              "Ġlanguages     0.019771\n",
              ").             0.019756"
            ],
            "text/html": [
              "\n",
              "  <div id=\"df-9dc3166d-d362-4883-9fbb-71cf3b954e0a\">\n",
              "    <div class=\"colab-df-container\">\n",
              "      <div>\n",
              "<style scoped>\n",
              "    .dataframe tbody tr th:only-of-type {\n",
              "        vertical-align: middle;\n",
              "    }\n",
              "\n",
              "    .dataframe tbody tr th {\n",
              "        vertical-align: top;\n",
              "    }\n",
              "\n",
              "    .dataframe thead th {\n",
              "        text-align: right;\n",
              "    }\n",
              "</style>\n",
              "<table border=\"1\" class=\"dataframe\">\n",
              "  <thead>\n",
              "    <tr style=\"text-align: right;\">\n",
              "      <th></th>\n",
              "      <th>attribution</th>\n",
              "    </tr>\n",
              "    <tr>\n",
              "      <th>tokens</th>\n",
              "      <th></th>\n",
              "    </tr>\n",
              "  </thead>\n",
              "  <tbody>\n",
              "    <tr>\n",
              "      <th>&lt;s&gt;</th>\n",
              "      <td>0.581123</td>\n",
              "    </tr>\n",
              "    <tr>\n",
              "      <th>.</th>\n",
              "      <td>0.349917</td>\n",
              "    </tr>\n",
              "    <tr>\n",
              "      <th>-</th>\n",
              "      <td>0.102612</td>\n",
              "    </tr>\n",
              "    <tr>\n",
              "      <th>,</th>\n",
              "      <td>0.077168</td>\n",
              "    </tr>\n",
              "    <tr>\n",
              "      <th>Ġ(</th>\n",
              "      <td>0.050490</td>\n",
              "    </tr>\n",
              "    <tr>\n",
              "      <th>Ġof</th>\n",
              "      <td>0.049221</td>\n",
              "    </tr>\n",
              "    <tr>\n",
              "      <th>Ġthe</th>\n",
              "      <td>0.035754</td>\n",
              "    </tr>\n",
              "    <tr>\n",
              "      <th>)</th>\n",
              "      <td>0.034229</td>\n",
              "    </tr>\n",
              "    <tr>\n",
              "      <th>:</th>\n",
              "      <td>0.029639</td>\n",
              "    </tr>\n",
              "    <tr>\n",
              "      <th>].</th>\n",
              "      <td>0.025223</td>\n",
              "    </tr>\n",
              "    <tr>\n",
              "      <th>Ġ.</th>\n",
              "      <td>0.024754</td>\n",
              "    </tr>\n",
              "    <tr>\n",
              "      <th>1</th>\n",
              "      <td>0.020642</td>\n",
              "    </tr>\n",
              "    <tr>\n",
              "      <th>Ġ[</th>\n",
              "      <td>0.019859</td>\n",
              "    </tr>\n",
              "    <tr>\n",
              "      <th>Ġlanguages</th>\n",
              "      <td>0.019771</td>\n",
              "    </tr>\n",
              "    <tr>\n",
              "      <th>).</th>\n",
              "      <td>0.019756</td>\n",
              "    </tr>\n",
              "  </tbody>\n",
              "</table>\n",
              "</div>\n",
              "      <button class=\"colab-df-convert\" onclick=\"convertToInteractive('df-9dc3166d-d362-4883-9fbb-71cf3b954e0a')\"\n",
              "              title=\"Convert this dataframe to an interactive table.\"\n",
              "              style=\"display:none;\">\n",
              "        \n",
              "  <svg xmlns=\"http://www.w3.org/2000/svg\" height=\"24px\"viewBox=\"0 0 24 24\"\n",
              "       width=\"24px\">\n",
              "    <path d=\"M0 0h24v24H0V0z\" fill=\"none\"/>\n",
              "    <path d=\"M18.56 5.44l.94 2.06.94-2.06 2.06-.94-2.06-.94-.94-2.06-.94 2.06-2.06.94zm-11 1L8.5 8.5l.94-2.06 2.06-.94-2.06-.94L8.5 2.5l-.94 2.06-2.06.94zm10 10l.94 2.06.94-2.06 2.06-.94-2.06-.94-.94-2.06-.94 2.06-2.06.94z\"/><path d=\"M17.41 7.96l-1.37-1.37c-.4-.4-.92-.59-1.43-.59-.52 0-1.04.2-1.43.59L10.3 9.45l-7.72 7.72c-.78.78-.78 2.05 0 2.83L4 21.41c.39.39.9.59 1.41.59.51 0 1.02-.2 1.41-.59l7.78-7.78 2.81-2.81c.8-.78.8-2.07 0-2.86zM5.41 20L4 18.59l7.72-7.72 1.47 1.35L5.41 20z\"/>\n",
              "  </svg>\n",
              "      </button>\n",
              "      \n",
              "  <style>\n",
              "    .colab-df-container {\n",
              "      display:flex;\n",
              "      flex-wrap:wrap;\n",
              "      gap: 12px;\n",
              "    }\n",
              "\n",
              "    .colab-df-convert {\n",
              "      background-color: #E8F0FE;\n",
              "      border: none;\n",
              "      border-radius: 50%;\n",
              "      cursor: pointer;\n",
              "      display: none;\n",
              "      fill: #1967D2;\n",
              "      height: 32px;\n",
              "      padding: 0 0 0 0;\n",
              "      width: 32px;\n",
              "    }\n",
              "\n",
              "    .colab-df-convert:hover {\n",
              "      background-color: #E2EBFA;\n",
              "      box-shadow: 0px 1px 2px rgba(60, 64, 67, 0.3), 0px 1px 3px 1px rgba(60, 64, 67, 0.15);\n",
              "      fill: #174EA6;\n",
              "    }\n",
              "\n",
              "    [theme=dark] .colab-df-convert {\n",
              "      background-color: #3B4455;\n",
              "      fill: #D2E3FC;\n",
              "    }\n",
              "\n",
              "    [theme=dark] .colab-df-convert:hover {\n",
              "      background-color: #434B5C;\n",
              "      box-shadow: 0px 1px 3px 1px rgba(0, 0, 0, 0.15);\n",
              "      filter: drop-shadow(0px 1px 2px rgba(0, 0, 0, 0.3));\n",
              "      fill: #FFFFFF;\n",
              "    }\n",
              "  </style>\n",
              "\n",
              "      <script>\n",
              "        const buttonEl =\n",
              "          document.querySelector('#df-9dc3166d-d362-4883-9fbb-71cf3b954e0a button.colab-df-convert');\n",
              "        buttonEl.style.display =\n",
              "          google.colab.kernel.accessAllowed ? 'block' : 'none';\n",
              "\n",
              "        async function convertToInteractive(key) {\n",
              "          const element = document.querySelector('#df-9dc3166d-d362-4883-9fbb-71cf3b954e0a');\n",
              "          const dataTable =\n",
              "            await google.colab.kernel.invokeFunction('convertToInteractive',\n",
              "                                                     [key], {});\n",
              "          if (!dataTable) return;\n",
              "\n",
              "          const docLinkHtml = 'Like what you see? Visit the ' +\n",
              "            '<a target=\"_blank\" href=https://colab.research.google.com/notebooks/data_table.ipynb>data table notebook</a>'\n",
              "            + ' to learn more about interactive tables.';\n",
              "          element.innerHTML = '';\n",
              "          dataTable['output_type'] = 'display_data';\n",
              "          await google.colab.output.renderOutput(dataTable, element);\n",
              "          const docLink = document.createElement('div');\n",
              "          docLink.innerHTML = docLinkHtml;\n",
              "          element.appendChild(docLink);\n",
              "        }\n",
              "      </script>\n",
              "    </div>\n",
              "  </div>\n",
              "  "
            ]
          },
          "metadata": {},
          "execution_count": 23
        }
      ]
    },
    {
      "cell_type": "markdown",
      "source": [
        "Here we are only showing the top 15 lowest attributions, in other words, the tokens that have the most influence in the model predicting negative. If you are running integrated gradients using the longformer embeddings, this will be attributions for those embeddings. If you are running Integrated Gradients using word, position and token_type embeddings, these will be the word embeddings."
      ],
      "metadata": {
        "id": "94_GDXHsl0vs"
      }
    },
    {
      "cell_type": "code",
      "source": [
        "df_attrib[:-14:-1]"
      ],
      "metadata": {
        "id": "T7mHIG0NuG0X",
        "colab": {
          "base_uri": "https://localhost:8080/",
          "height": 488
        },
        "outputId": "6c3bfbcc-568e-419b-b5fb-8018e3ce2047"
      },
      "execution_count": null,
      "outputs": [
        {
          "output_type": "execute_result",
          "data": {
            "text/plain": [
              "              attribution\n",
              "tokens                   \n",
              "Ġto             -0.507627\n",
              "Ġprogramming    -0.174771\n",
              "Ġcode           -0.079943\n",
              "Ġthe            -0.074223\n",
              "Ġ.              -0.064281\n",
              "ĠThe            -0.057424\n",
              "Ġlanguages      -0.056944\n",
              "Ġlanguage       -0.052695\n",
              "ĠJava           -0.051785\n",
              "Ġcompiler       -0.047355\n",
              "Ġwhich          -0.038117\n",
              "Ġprogram        -0.038052\n",
              "Ġused           -0.034892"
            ],
            "text/html": [
              "\n",
              "  <div id=\"df-6aa683c9-ae3b-47d6-a175-6622b79abd3f\">\n",
              "    <div class=\"colab-df-container\">\n",
              "      <div>\n",
              "<style scoped>\n",
              "    .dataframe tbody tr th:only-of-type {\n",
              "        vertical-align: middle;\n",
              "    }\n",
              "\n",
              "    .dataframe tbody tr th {\n",
              "        vertical-align: top;\n",
              "    }\n",
              "\n",
              "    .dataframe thead th {\n",
              "        text-align: right;\n",
              "    }\n",
              "</style>\n",
              "<table border=\"1\" class=\"dataframe\">\n",
              "  <thead>\n",
              "    <tr style=\"text-align: right;\">\n",
              "      <th></th>\n",
              "      <th>attribution</th>\n",
              "    </tr>\n",
              "    <tr>\n",
              "      <th>tokens</th>\n",
              "      <th></th>\n",
              "    </tr>\n",
              "  </thead>\n",
              "  <tbody>\n",
              "    <tr>\n",
              "      <th>Ġto</th>\n",
              "      <td>-0.507627</td>\n",
              "    </tr>\n",
              "    <tr>\n",
              "      <th>Ġprogramming</th>\n",
              "      <td>-0.174771</td>\n",
              "    </tr>\n",
              "    <tr>\n",
              "      <th>Ġcode</th>\n",
              "      <td>-0.079943</td>\n",
              "    </tr>\n",
              "    <tr>\n",
              "      <th>Ġthe</th>\n",
              "      <td>-0.074223</td>\n",
              "    </tr>\n",
              "    <tr>\n",
              "      <th>Ġ.</th>\n",
              "      <td>-0.064281</td>\n",
              "    </tr>\n",
              "    <tr>\n",
              "      <th>ĠThe</th>\n",
              "      <td>-0.057424</td>\n",
              "    </tr>\n",
              "    <tr>\n",
              "      <th>Ġlanguages</th>\n",
              "      <td>-0.056944</td>\n",
              "    </tr>\n",
              "    <tr>\n",
              "      <th>Ġlanguage</th>\n",
              "      <td>-0.052695</td>\n",
              "    </tr>\n",
              "    <tr>\n",
              "      <th>ĠJava</th>\n",
              "      <td>-0.051785</td>\n",
              "    </tr>\n",
              "    <tr>\n",
              "      <th>Ġcompiler</th>\n",
              "      <td>-0.047355</td>\n",
              "    </tr>\n",
              "    <tr>\n",
              "      <th>Ġwhich</th>\n",
              "      <td>-0.038117</td>\n",
              "    </tr>\n",
              "    <tr>\n",
              "      <th>Ġprogram</th>\n",
              "      <td>-0.038052</td>\n",
              "    </tr>\n",
              "    <tr>\n",
              "      <th>Ġused</th>\n",
              "      <td>-0.034892</td>\n",
              "    </tr>\n",
              "  </tbody>\n",
              "</table>\n",
              "</div>\n",
              "      <button class=\"colab-df-convert\" onclick=\"convertToInteractive('df-6aa683c9-ae3b-47d6-a175-6622b79abd3f')\"\n",
              "              title=\"Convert this dataframe to an interactive table.\"\n",
              "              style=\"display:none;\">\n",
              "        \n",
              "  <svg xmlns=\"http://www.w3.org/2000/svg\" height=\"24px\"viewBox=\"0 0 24 24\"\n",
              "       width=\"24px\">\n",
              "    <path d=\"M0 0h24v24H0V0z\" fill=\"none\"/>\n",
              "    <path d=\"M18.56 5.44l.94 2.06.94-2.06 2.06-.94-2.06-.94-.94-2.06-.94 2.06-2.06.94zm-11 1L8.5 8.5l.94-2.06 2.06-.94-2.06-.94L8.5 2.5l-.94 2.06-2.06.94zm10 10l.94 2.06.94-2.06 2.06-.94-2.06-.94-.94-2.06-.94 2.06-2.06.94z\"/><path d=\"M17.41 7.96l-1.37-1.37c-.4-.4-.92-.59-1.43-.59-.52 0-1.04.2-1.43.59L10.3 9.45l-7.72 7.72c-.78.78-.78 2.05 0 2.83L4 21.41c.39.39.9.59 1.41.59.51 0 1.02-.2 1.41-.59l7.78-7.78 2.81-2.81c.8-.78.8-2.07 0-2.86zM5.41 20L4 18.59l7.72-7.72 1.47 1.35L5.41 20z\"/>\n",
              "  </svg>\n",
              "      </button>\n",
              "      \n",
              "  <style>\n",
              "    .colab-df-container {\n",
              "      display:flex;\n",
              "      flex-wrap:wrap;\n",
              "      gap: 12px;\n",
              "    }\n",
              "\n",
              "    .colab-df-convert {\n",
              "      background-color: #E8F0FE;\n",
              "      border: none;\n",
              "      border-radius: 50%;\n",
              "      cursor: pointer;\n",
              "      display: none;\n",
              "      fill: #1967D2;\n",
              "      height: 32px;\n",
              "      padding: 0 0 0 0;\n",
              "      width: 32px;\n",
              "    }\n",
              "\n",
              "    .colab-df-convert:hover {\n",
              "      background-color: #E2EBFA;\n",
              "      box-shadow: 0px 1px 2px rgba(60, 64, 67, 0.3), 0px 1px 3px 1px rgba(60, 64, 67, 0.15);\n",
              "      fill: #174EA6;\n",
              "    }\n",
              "\n",
              "    [theme=dark] .colab-df-convert {\n",
              "      background-color: #3B4455;\n",
              "      fill: #D2E3FC;\n",
              "    }\n",
              "\n",
              "    [theme=dark] .colab-df-convert:hover {\n",
              "      background-color: #434B5C;\n",
              "      box-shadow: 0px 1px 3px 1px rgba(0, 0, 0, 0.15);\n",
              "      filter: drop-shadow(0px 1px 2px rgba(0, 0, 0, 0.3));\n",
              "      fill: #FFFFFF;\n",
              "    }\n",
              "  </style>\n",
              "\n",
              "      <script>\n",
              "        const buttonEl =\n",
              "          document.querySelector('#df-6aa683c9-ae3b-47d6-a175-6622b79abd3f button.colab-df-convert');\n",
              "        buttonEl.style.display =\n",
              "          google.colab.kernel.accessAllowed ? 'block' : 'none';\n",
              "\n",
              "        async function convertToInteractive(key) {\n",
              "          const element = document.querySelector('#df-6aa683c9-ae3b-47d6-a175-6622b79abd3f');\n",
              "          const dataTable =\n",
              "            await google.colab.kernel.invokeFunction('convertToInteractive',\n",
              "                                                     [key], {});\n",
              "          if (!dataTable) return;\n",
              "\n",
              "          const docLinkHtml = 'Like what you see? Visit the ' +\n",
              "            '<a target=\"_blank\" href=https://colab.research.google.com/notebooks/data_table.ipynb>data table notebook</a>'\n",
              "            + ' to learn more about interactive tables.';\n",
              "          element.innerHTML = '';\n",
              "          dataTable['output_type'] = 'display_data';\n",
              "          await google.colab.output.renderOutput(dataTable, element);\n",
              "          const docLink = document.createElement('div');\n",
              "          docLink.innerHTML = docLinkHtml;\n",
              "          element.appendChild(docLink);\n",
              "        }\n",
              "      </script>\n",
              "    </div>\n",
              "  </div>\n",
              "  "
            ]
          },
          "metadata": {},
          "execution_count": 24
        }
      ]
    },
    {
      "cell_type": "markdown",
      "source": [
        "Here we are showing the 15 lowest attributions for the position embeddings. Note that running integrated gradients using the longformer embeddings rather than the word, position and token_type embeddings will not have this output."
      ],
      "metadata": {
        "id": "tKusjNjBStgY"
      }
    },
    {
      "cell_type": "code",
      "source": [
        "df_attrib_pos[:-14:-1]"
      ],
      "metadata": {
        "id": "bzhn7k4zcDHg",
        "colab": {
          "base_uri": "https://localhost:8080/",
          "height": 488
        },
        "outputId": "b2c30808-e451-4320-923d-61f03f4cf524"
      },
      "execution_count": null,
      "outputs": [
        {
          "output_type": "execute_result",
          "data": {
            "text/plain": [
              "         attribution\n",
              "tokens              \n",
              "Ġto        -0.066836\n",
              "Ġa         -0.062148\n",
              "Ġ          -0.036262\n",
              "Ġfor       -0.016519\n",
              "Ġwe        -0.015904\n",
              "Ġit        -0.015617\n",
              "ĠThe       -0.012718\n",
              "ĠIn        -0.011133\n",
              "Ġan        -0.011044\n",
              "ĠWe        -0.011023\n",
              "Ġsystem    -0.009753\n",
              "Ġis        -0.009037\n",
              "Ġusing     -0.008988"
            ],
            "text/html": [
              "\n",
              "  <div id=\"df-39c55fe6-25ad-41a3-bea2-3c8ada7968bb\">\n",
              "    <div class=\"colab-df-container\">\n",
              "      <div>\n",
              "<style scoped>\n",
              "    .dataframe tbody tr th:only-of-type {\n",
              "        vertical-align: middle;\n",
              "    }\n",
              "\n",
              "    .dataframe tbody tr th {\n",
              "        vertical-align: top;\n",
              "    }\n",
              "\n",
              "    .dataframe thead th {\n",
              "        text-align: right;\n",
              "    }\n",
              "</style>\n",
              "<table border=\"1\" class=\"dataframe\">\n",
              "  <thead>\n",
              "    <tr style=\"text-align: right;\">\n",
              "      <th></th>\n",
              "      <th>attribution</th>\n",
              "    </tr>\n",
              "    <tr>\n",
              "      <th>tokens</th>\n",
              "      <th></th>\n",
              "    </tr>\n",
              "  </thead>\n",
              "  <tbody>\n",
              "    <tr>\n",
              "      <th>Ġto</th>\n",
              "      <td>-0.066836</td>\n",
              "    </tr>\n",
              "    <tr>\n",
              "      <th>Ġa</th>\n",
              "      <td>-0.062148</td>\n",
              "    </tr>\n",
              "    <tr>\n",
              "      <th>Ġ</th>\n",
              "      <td>-0.036262</td>\n",
              "    </tr>\n",
              "    <tr>\n",
              "      <th>Ġfor</th>\n",
              "      <td>-0.016519</td>\n",
              "    </tr>\n",
              "    <tr>\n",
              "      <th>Ġwe</th>\n",
              "      <td>-0.015904</td>\n",
              "    </tr>\n",
              "    <tr>\n",
              "      <th>Ġit</th>\n",
              "      <td>-0.015617</td>\n",
              "    </tr>\n",
              "    <tr>\n",
              "      <th>ĠThe</th>\n",
              "      <td>-0.012718</td>\n",
              "    </tr>\n",
              "    <tr>\n",
              "      <th>ĠIn</th>\n",
              "      <td>-0.011133</td>\n",
              "    </tr>\n",
              "    <tr>\n",
              "      <th>Ġan</th>\n",
              "      <td>-0.011044</td>\n",
              "    </tr>\n",
              "    <tr>\n",
              "      <th>ĠWe</th>\n",
              "      <td>-0.011023</td>\n",
              "    </tr>\n",
              "    <tr>\n",
              "      <th>Ġsystem</th>\n",
              "      <td>-0.009753</td>\n",
              "    </tr>\n",
              "    <tr>\n",
              "      <th>Ġis</th>\n",
              "      <td>-0.009037</td>\n",
              "    </tr>\n",
              "    <tr>\n",
              "      <th>Ġusing</th>\n",
              "      <td>-0.008988</td>\n",
              "    </tr>\n",
              "  </tbody>\n",
              "</table>\n",
              "</div>\n",
              "      <button class=\"colab-df-convert\" onclick=\"convertToInteractive('df-39c55fe6-25ad-41a3-bea2-3c8ada7968bb')\"\n",
              "              title=\"Convert this dataframe to an interactive table.\"\n",
              "              style=\"display:none;\">\n",
              "        \n",
              "  <svg xmlns=\"http://www.w3.org/2000/svg\" height=\"24px\"viewBox=\"0 0 24 24\"\n",
              "       width=\"24px\">\n",
              "    <path d=\"M0 0h24v24H0V0z\" fill=\"none\"/>\n",
              "    <path d=\"M18.56 5.44l.94 2.06.94-2.06 2.06-.94-2.06-.94-.94-2.06-.94 2.06-2.06.94zm-11 1L8.5 8.5l.94-2.06 2.06-.94-2.06-.94L8.5 2.5l-.94 2.06-2.06.94zm10 10l.94 2.06.94-2.06 2.06-.94-2.06-.94-.94-2.06-.94 2.06-2.06.94z\"/><path d=\"M17.41 7.96l-1.37-1.37c-.4-.4-.92-.59-1.43-.59-.52 0-1.04.2-1.43.59L10.3 9.45l-7.72 7.72c-.78.78-.78 2.05 0 2.83L4 21.41c.39.39.9.59 1.41.59.51 0 1.02-.2 1.41-.59l7.78-7.78 2.81-2.81c.8-.78.8-2.07 0-2.86zM5.41 20L4 18.59l7.72-7.72 1.47 1.35L5.41 20z\"/>\n",
              "  </svg>\n",
              "      </button>\n",
              "      \n",
              "  <style>\n",
              "    .colab-df-container {\n",
              "      display:flex;\n",
              "      flex-wrap:wrap;\n",
              "      gap: 12px;\n",
              "    }\n",
              "\n",
              "    .colab-df-convert {\n",
              "      background-color: #E8F0FE;\n",
              "      border: none;\n",
              "      border-radius: 50%;\n",
              "      cursor: pointer;\n",
              "      display: none;\n",
              "      fill: #1967D2;\n",
              "      height: 32px;\n",
              "      padding: 0 0 0 0;\n",
              "      width: 32px;\n",
              "    }\n",
              "\n",
              "    .colab-df-convert:hover {\n",
              "      background-color: #E2EBFA;\n",
              "      box-shadow: 0px 1px 2px rgba(60, 64, 67, 0.3), 0px 1px 3px 1px rgba(60, 64, 67, 0.15);\n",
              "      fill: #174EA6;\n",
              "    }\n",
              "\n",
              "    [theme=dark] .colab-df-convert {\n",
              "      background-color: #3B4455;\n",
              "      fill: #D2E3FC;\n",
              "    }\n",
              "\n",
              "    [theme=dark] .colab-df-convert:hover {\n",
              "      background-color: #434B5C;\n",
              "      box-shadow: 0px 1px 3px 1px rgba(0, 0, 0, 0.15);\n",
              "      filter: drop-shadow(0px 1px 2px rgba(0, 0, 0, 0.3));\n",
              "      fill: #FFFFFF;\n",
              "    }\n",
              "  </style>\n",
              "\n",
              "      <script>\n",
              "        const buttonEl =\n",
              "          document.querySelector('#df-39c55fe6-25ad-41a3-bea2-3c8ada7968bb button.colab-df-convert');\n",
              "        buttonEl.style.display =\n",
              "          google.colab.kernel.accessAllowed ? 'block' : 'none';\n",
              "\n",
              "        async function convertToInteractive(key) {\n",
              "          const element = document.querySelector('#df-39c55fe6-25ad-41a3-bea2-3c8ada7968bb');\n",
              "          const dataTable =\n",
              "            await google.colab.kernel.invokeFunction('convertToInteractive',\n",
              "                                                     [key], {});\n",
              "          if (!dataTable) return;\n",
              "\n",
              "          const docLinkHtml = 'Like what you see? Visit the ' +\n",
              "            '<a target=\"_blank\" href=https://colab.research.google.com/notebooks/data_table.ipynb>data table notebook</a>'\n",
              "            + ' to learn more about interactive tables.';\n",
              "          element.innerHTML = '';\n",
              "          dataTable['output_type'] = 'display_data';\n",
              "          await google.colab.output.renderOutput(dataTable, element);\n",
              "          const docLink = document.createElement('div');\n",
              "          docLink.innerHTML = docLinkHtml;\n",
              "          element.appendChild(docLink);\n",
              "        }\n",
              "      </script>\n",
              "    </div>\n",
              "  </div>\n",
              "  "
            ]
          },
          "metadata": {},
          "execution_count": 25
        }
      ]
    },
    {
      "cell_type": "markdown",
      "source": [
        "Save the pandas dataframe into a csv to access it in the future without having to run through the entire dataset. Change the path and file name to one fitting your project."
      ],
      "metadata": {
        "id": "RgPYHilmlsGh"
      }
    },
    {
      "cell_type": "code",
      "source": [
        "# # longformer embeddings\n",
        "# df_attrib.to_csv('/content/drive/MyDrive/cogs402longformer/results/papers/papers_attributions/longformer_emb_papers.csv')\n",
        "# df_attrib.to_csv('/content/drive/MyDrive/cogs402longformer/results/news/news_attributions/longformer_emb_news.csv')\n",
        "\n",
        "# Word + position embeddings for the papers dataset\n",
        "df_attrib.to_csv('/content/drive/MyDrive/cogs402longformer/results/papers/papers_attributions/word_emb_papers.csv')\n",
        "df_attrib_pos.to_csv('/content/drive/MyDrive/cogs402longformer/results/papers/papers_attributions/pos_emb_papers.csv')\n",
        "\n",
        "# # # Word + position embeddings for the news dataset\n",
        "# df_attrib.to_csv('/content/drive/MyDrive/cogs402longformer/results/news/news_attributions/word_emb_news.csv')\n",
        "# df_attrib_pos.to_csv('/content/drive/MyDrive/cogs402longformer/results/news/news_attributions/pos_emb_news.csv')"
      ],
      "metadata": {
        "id": "6WTv-OJrGKvF"
      },
      "execution_count": null,
      "outputs": []
    }
  ],
  "metadata": {
    "file_extension": ".py",
    "kernelspec": {
      "display_name": "Python 3",
      "name": "python3"
    },
    "language_info": {
      "name": "python"
    },
    "mimetype": "text/x-python",
    "name": "python",
    "npconvert_exporter": "python",
    "pygments_lexer": "ipython3",
    "version": 3,
    "colab": {
      "name": "CaptumLongformerSequenceClassificationaggregate.ipynb",
      "provenance": [],
      "collapsed_sections": [],
      "machine_shape": "hm",
      "include_colab_link": true
    },
    "accelerator": "GPU",
    "widgets": {
      "application/vnd.jupyter.widget-state+json": {
        "dd6db9953c6c4b26a7398ce5fadcef6d": {
          "model_module": "@jupyter-widgets/controls",
          "model_name": "HBoxModel",
          "model_module_version": "1.5.0",
          "state": {
            "_dom_classes": [],
            "_model_module": "@jupyter-widgets/controls",
            "_model_module_version": "1.5.0",
            "_model_name": "HBoxModel",
            "_view_count": null,
            "_view_module": "@jupyter-widgets/controls",
            "_view_module_version": "1.5.0",
            "_view_name": "HBoxView",
            "box_style": "",
            "children": [
              "IPY_MODEL_db18742e07024ff381cf013e62cad3ca",
              "IPY_MODEL_1dbffd0300454afbad29d08b732f7218",
              "IPY_MODEL_4e01c3d7ef1d4522856dc5d3a1830570"
            ],
            "layout": "IPY_MODEL_7c61d0e83320475a8f38593261f47738"
          }
        },
        "db18742e07024ff381cf013e62cad3ca": {
          "model_module": "@jupyter-widgets/controls",
          "model_name": "HTMLModel",
          "model_module_version": "1.5.0",
          "state": {
            "_dom_classes": [],
            "_model_module": "@jupyter-widgets/controls",
            "_model_module_version": "1.5.0",
            "_model_name": "HTMLModel",
            "_view_count": null,
            "_view_module": "@jupyter-widgets/controls",
            "_view_module_version": "1.5.0",
            "_view_name": "HTMLView",
            "description": "",
            "description_tooltip": null,
            "layout": "IPY_MODEL_aae10d409da54cc98d29eee2c491ecda",
            "placeholder": "​",
            "style": "IPY_MODEL_567e740fa21f41879cf27949d11d1cb6",
            "value": "100%"
          }
        },
        "1dbffd0300454afbad29d08b732f7218": {
          "model_module": "@jupyter-widgets/controls",
          "model_name": "FloatProgressModel",
          "model_module_version": "1.5.0",
          "state": {
            "_dom_classes": [],
            "_model_module": "@jupyter-widgets/controls",
            "_model_module_version": "1.5.0",
            "_model_name": "FloatProgressModel",
            "_view_count": null,
            "_view_module": "@jupyter-widgets/controls",
            "_view_module_version": "1.5.0",
            "_view_name": "ProgressView",
            "bar_style": "success",
            "description": "",
            "description_tooltip": null,
            "layout": "IPY_MODEL_5f379c2480f74747b31b49d915f4afa3",
            "max": 2,
            "min": 0,
            "orientation": "horizontal",
            "style": "IPY_MODEL_a5db7a3526f64121954e628a5db43fd8",
            "value": 2
          }
        },
        "4e01c3d7ef1d4522856dc5d3a1830570": {
          "model_module": "@jupyter-widgets/controls",
          "model_name": "HTMLModel",
          "model_module_version": "1.5.0",
          "state": {
            "_dom_classes": [],
            "_model_module": "@jupyter-widgets/controls",
            "_model_module_version": "1.5.0",
            "_model_name": "HTMLModel",
            "_view_count": null,
            "_view_module": "@jupyter-widgets/controls",
            "_view_module_version": "1.5.0",
            "_view_name": "HTMLView",
            "description": "",
            "description_tooltip": null,
            "layout": "IPY_MODEL_8ba20774b01a4fb4945d8b8c06cb14cc",
            "placeholder": "​",
            "style": "IPY_MODEL_d1c223e532644973865cf5dce6fbf8c1",
            "value": " 2/2 [00:00&lt;00:00, 32.96it/s]"
          }
        },
        "7c61d0e83320475a8f38593261f47738": {
          "model_module": "@jupyter-widgets/base",
          "model_name": "LayoutModel",
          "model_module_version": "1.2.0",
          "state": {
            "_model_module": "@jupyter-widgets/base",
            "_model_module_version": "1.2.0",
            "_model_name": "LayoutModel",
            "_view_count": null,
            "_view_module": "@jupyter-widgets/base",
            "_view_module_version": "1.2.0",
            "_view_name": "LayoutView",
            "align_content": null,
            "align_items": null,
            "align_self": null,
            "border": null,
            "bottom": null,
            "display": null,
            "flex": null,
            "flex_flow": null,
            "grid_area": null,
            "grid_auto_columns": null,
            "grid_auto_flow": null,
            "grid_auto_rows": null,
            "grid_column": null,
            "grid_gap": null,
            "grid_row": null,
            "grid_template_areas": null,
            "grid_template_columns": null,
            "grid_template_rows": null,
            "height": null,
            "justify_content": null,
            "justify_items": null,
            "left": null,
            "margin": null,
            "max_height": null,
            "max_width": null,
            "min_height": null,
            "min_width": null,
            "object_fit": null,
            "object_position": null,
            "order": null,
            "overflow": null,
            "overflow_x": null,
            "overflow_y": null,
            "padding": null,
            "right": null,
            "top": null,
            "visibility": null,
            "width": null
          }
        },
        "aae10d409da54cc98d29eee2c491ecda": {
          "model_module": "@jupyter-widgets/base",
          "model_name": "LayoutModel",
          "model_module_version": "1.2.0",
          "state": {
            "_model_module": "@jupyter-widgets/base",
            "_model_module_version": "1.2.0",
            "_model_name": "LayoutModel",
            "_view_count": null,
            "_view_module": "@jupyter-widgets/base",
            "_view_module_version": "1.2.0",
            "_view_name": "LayoutView",
            "align_content": null,
            "align_items": null,
            "align_self": null,
            "border": null,
            "bottom": null,
            "display": null,
            "flex": null,
            "flex_flow": null,
            "grid_area": null,
            "grid_auto_columns": null,
            "grid_auto_flow": null,
            "grid_auto_rows": null,
            "grid_column": null,
            "grid_gap": null,
            "grid_row": null,
            "grid_template_areas": null,
            "grid_template_columns": null,
            "grid_template_rows": null,
            "height": null,
            "justify_content": null,
            "justify_items": null,
            "left": null,
            "margin": null,
            "max_height": null,
            "max_width": null,
            "min_height": null,
            "min_width": null,
            "object_fit": null,
            "object_position": null,
            "order": null,
            "overflow": null,
            "overflow_x": null,
            "overflow_y": null,
            "padding": null,
            "right": null,
            "top": null,
            "visibility": null,
            "width": null
          }
        },
        "567e740fa21f41879cf27949d11d1cb6": {
          "model_module": "@jupyter-widgets/controls",
          "model_name": "DescriptionStyleModel",
          "model_module_version": "1.5.0",
          "state": {
            "_model_module": "@jupyter-widgets/controls",
            "_model_module_version": "1.5.0",
            "_model_name": "DescriptionStyleModel",
            "_view_count": null,
            "_view_module": "@jupyter-widgets/base",
            "_view_module_version": "1.2.0",
            "_view_name": "StyleView",
            "description_width": ""
          }
        },
        "5f379c2480f74747b31b49d915f4afa3": {
          "model_module": "@jupyter-widgets/base",
          "model_name": "LayoutModel",
          "model_module_version": "1.2.0",
          "state": {
            "_model_module": "@jupyter-widgets/base",
            "_model_module_version": "1.2.0",
            "_model_name": "LayoutModel",
            "_view_count": null,
            "_view_module": "@jupyter-widgets/base",
            "_view_module_version": "1.2.0",
            "_view_name": "LayoutView",
            "align_content": null,
            "align_items": null,
            "align_self": null,
            "border": null,
            "bottom": null,
            "display": null,
            "flex": null,
            "flex_flow": null,
            "grid_area": null,
            "grid_auto_columns": null,
            "grid_auto_flow": null,
            "grid_auto_rows": null,
            "grid_column": null,
            "grid_gap": null,
            "grid_row": null,
            "grid_template_areas": null,
            "grid_template_columns": null,
            "grid_template_rows": null,
            "height": null,
            "justify_content": null,
            "justify_items": null,
            "left": null,
            "margin": null,
            "max_height": null,
            "max_width": null,
            "min_height": null,
            "min_width": null,
            "object_fit": null,
            "object_position": null,
            "order": null,
            "overflow": null,
            "overflow_x": null,
            "overflow_y": null,
            "padding": null,
            "right": null,
            "top": null,
            "visibility": null,
            "width": null
          }
        },
        "a5db7a3526f64121954e628a5db43fd8": {
          "model_module": "@jupyter-widgets/controls",
          "model_name": "ProgressStyleModel",
          "model_module_version": "1.5.0",
          "state": {
            "_model_module": "@jupyter-widgets/controls",
            "_model_module_version": "1.5.0",
            "_model_name": "ProgressStyleModel",
            "_view_count": null,
            "_view_module": "@jupyter-widgets/base",
            "_view_module_version": "1.2.0",
            "_view_name": "StyleView",
            "bar_color": null,
            "description_width": ""
          }
        },
        "8ba20774b01a4fb4945d8b8c06cb14cc": {
          "model_module": "@jupyter-widgets/base",
          "model_name": "LayoutModel",
          "model_module_version": "1.2.0",
          "state": {
            "_model_module": "@jupyter-widgets/base",
            "_model_module_version": "1.2.0",
            "_model_name": "LayoutModel",
            "_view_count": null,
            "_view_module": "@jupyter-widgets/base",
            "_view_module_version": "1.2.0",
            "_view_name": "LayoutView",
            "align_content": null,
            "align_items": null,
            "align_self": null,
            "border": null,
            "bottom": null,
            "display": null,
            "flex": null,
            "flex_flow": null,
            "grid_area": null,
            "grid_auto_columns": null,
            "grid_auto_flow": null,
            "grid_auto_rows": null,
            "grid_column": null,
            "grid_gap": null,
            "grid_row": null,
            "grid_template_areas": null,
            "grid_template_columns": null,
            "grid_template_rows": null,
            "height": null,
            "justify_content": null,
            "justify_items": null,
            "left": null,
            "margin": null,
            "max_height": null,
            "max_width": null,
            "min_height": null,
            "min_width": null,
            "object_fit": null,
            "object_position": null,
            "order": null,
            "overflow": null,
            "overflow_x": null,
            "overflow_y": null,
            "padding": null,
            "right": null,
            "top": null,
            "visibility": null,
            "width": null
          }
        },
        "d1c223e532644973865cf5dce6fbf8c1": {
          "model_module": "@jupyter-widgets/controls",
          "model_name": "DescriptionStyleModel",
          "model_module_version": "1.5.0",
          "state": {
            "_model_module": "@jupyter-widgets/controls",
            "_model_module_version": "1.5.0",
            "_model_name": "DescriptionStyleModel",
            "_view_count": null,
            "_view_module": "@jupyter-widgets/base",
            "_view_module_version": "1.2.0",
            "_view_name": "StyleView",
            "description_width": ""
          }
        }
      }
    }
  },
  "nbformat": 4,
  "nbformat_minor": 0
}
