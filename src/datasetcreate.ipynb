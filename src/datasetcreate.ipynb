{
 "cells": [
  {
   "cell_type": "code",
   "execution_count": 1,
   "id": "b4709b57-068e-4133-96cf-79b4990d3f80",
   "metadata": {},
   "outputs": [
    {
     "name": "stdout",
     "output_type": "stream",
     "text": [
      "C:\\Users\\danie\\Documents\\COGS402\\Cogs402Longformer\n"
     ]
    }
   ],
   "source": [
    "import pandas as pd\n",
    "import os\n",
    "\n",
    "print(os.getcwd())\n",
    "path = \"data/raw/cs.AI\"\n",
    "path2 = \"data/raw/cs.PL\""
   ]
  },
  {
   "cell_type": "code",
   "execution_count": null,
   "id": "eef525b6-cb22-40eb-bf62-799c151bac70",
   "metadata": {},
   "outputs": [],
   "source": []
  },
  {
   "cell_type": "code",
   "execution_count": 2,
   "id": "1c4b43c3-f9dd-4761-94f1-c9f5b02ff1da",
   "metadata": {},
   "outputs": [],
   "source": [
    "dataframes = []\n",
    "\n",
    "#takes in a folder path and the correct label we want\n",
    "def add_file_to_df(file_path, label):\n",
    "    with open(file_path, 'r', encoding='utf8') as f:\n",
    "        contents = f.read()\n",
    "        contents = contents.replace('\\r', ' ').replace('\\n', ' ')\n",
    "        d = {\"text\":[contents], \"labels\":label}\n",
    "        df = pd.DataFrame(d)\n",
    "        dataframes.append(df)\n",
    "        \n",
    "\n",
    "# iterate through all files for the AI documents\n",
    "for file in os.listdir(path):\n",
    "    # Check whether file is in text format or not\n",
    "    if file.endswith(\".txt\"):\n",
    "        file_path = f\"{path}/{file}\"\n",
    "  \n",
    "        # call add file \n",
    "        add_file_to_df(file_path, label=1)\n",
    "\n",
    "df = pd.concat(dataframes, ignore_index=True)"
   ]
  },
  {
   "cell_type": "code",
   "execution_count": 3,
   "id": "45448836-3dbb-40c7-b210-bd0499151174",
   "metadata": {},
   "outputs": [
    {
     "data": {
      "text/html": [
       "<div>\n",
       "<style scoped>\n",
       "    .dataframe tbody tr th:only-of-type {\n",
       "        vertical-align: middle;\n",
       "    }\n",
       "\n",
       "    .dataframe tbody tr th {\n",
       "        vertical-align: top;\n",
       "    }\n",
       "\n",
       "    .dataframe thead th {\n",
       "        text-align: right;\n",
       "    }\n",
       "</style>\n",
       "<table border=\"1\" class=\"dataframe\">\n",
       "  <thead>\n",
       "    <tr style=\"text-align: right;\">\n",
       "      <th></th>\n",
       "      <th>text</th>\n",
       "      <th>labels</th>\n",
       "    </tr>\n",
       "  </thead>\n",
       "  <tbody>\n",
       "    <tr>\n",
       "      <th>0</th>\n",
       "      <td>Toward an architecture for quantum programming...</td>\n",
       "      <td>1</td>\n",
       "    </tr>\n",
       "    <tr>\n",
       "      <th>1</th>\n",
       "      <td>Under consideration for publication in Theory ...</td>\n",
       "      <td>1</td>\n",
       "    </tr>\n",
       "    <tr>\n",
       "      <th>2</th>\n",
       "      <td>Under consideration for publication in Theory ...</td>\n",
       "      <td>1</td>\n",
       "    </tr>\n",
       "    <tr>\n",
       "      <th>3</th>\n",
       "      <td>A Framework for Datatype Transformation Jan Ko...</td>\n",
       "      <td>1</td>\n",
       "    </tr>\n",
       "    <tr>\n",
       "      <th>4</th>\n",
       "      <td>A Continuation Semantics of Interrogatives Tha...</td>\n",
       "      <td>1</td>\n",
       "    </tr>\n",
       "  </tbody>\n",
       "</table>\n",
       "</div>"
      ],
      "text/plain": [
       "                                                text  labels\n",
       "0  Toward an architecture for quantum programming...       1\n",
       "1  Under consideration for publication in Theory ...       1\n",
       "2  Under consideration for publication in Theory ...       1\n",
       "3  A Framework for Datatype Transformation Jan Ko...       1\n",
       "4  A Continuation Semantics of Interrogatives Tha...       1"
      ]
     },
     "execution_count": 3,
     "metadata": {},
     "output_type": "execute_result"
    }
   ],
   "source": [
    "df.head()"
   ]
  },
  {
   "cell_type": "code",
   "execution_count": 4,
   "id": "f98961ba-9751-484c-9eb7-e5014a890927",
   "metadata": {},
   "outputs": [],
   "source": [
    "# iterate through all file for the PL \n",
    "for file in os.listdir(path2):\n",
    "    # Check whether file is in text format or not\n",
    "    if file.endswith(\".txt\"):\n",
    "        file_path = f\"{path2}/{file}\"\n",
    "  \n",
    "        # call read text file function\n",
    "        add_file_to_df(file_path, label=0)\n"
   ]
  },
  {
   "cell_type": "code",
   "execution_count": 5,
   "id": "bcb4127a-e523-45dc-a62b-62c1a56e261d",
   "metadata": {},
   "outputs": [
    {
     "data": {
      "text/html": [
       "<div>\n",
       "<style scoped>\n",
       "    .dataframe tbody tr th:only-of-type {\n",
       "        vertical-align: middle;\n",
       "    }\n",
       "\n",
       "    .dataframe tbody tr th {\n",
       "        vertical-align: top;\n",
       "    }\n",
       "\n",
       "    .dataframe thead th {\n",
       "        text-align: right;\n",
       "    }\n",
       "</style>\n",
       "<table border=\"1\" class=\"dataframe\">\n",
       "  <thead>\n",
       "    <tr style=\"text-align: right;\">\n",
       "      <th></th>\n",
       "      <th>text</th>\n",
       "      <th>labels</th>\n",
       "    </tr>\n",
       "  </thead>\n",
       "  <tbody>\n",
       "    <tr>\n",
       "      <th>0</th>\n",
       "      <td>Toward an architecture for quantum programming...</td>\n",
       "      <td>1</td>\n",
       "    </tr>\n",
       "    <tr>\n",
       "      <th>1</th>\n",
       "      <td>Under consideration for publication in Theory ...</td>\n",
       "      <td>1</td>\n",
       "    </tr>\n",
       "    <tr>\n",
       "      <th>2</th>\n",
       "      <td>Under consideration for publication in Theory ...</td>\n",
       "      <td>1</td>\n",
       "    </tr>\n",
       "    <tr>\n",
       "      <th>3</th>\n",
       "      <td>A Framework for Datatype Transformation Jan Ko...</td>\n",
       "      <td>1</td>\n",
       "    </tr>\n",
       "    <tr>\n",
       "      <th>4</th>\n",
       "      <td>A Continuation Semantics of Interrogatives Tha...</td>\n",
       "      <td>1</td>\n",
       "    </tr>\n",
       "    <tr>\n",
       "      <th>...</th>\n",
       "      <td>...</td>\n",
       "      <td>...</td>\n",
       "    </tr>\n",
       "    <tr>\n",
       "      <th>5889</th>\n",
       "      <td>The Alma Project, or How First-Order Logic Can...</td>\n",
       "      <td>0</td>\n",
       "    </tr>\n",
       "    <tr>\n",
       "      <th>5890</th>\n",
       "      <td>After Compilers and Operating Systems : The Th...</td>\n",
       "      <td>0</td>\n",
       "    </tr>\n",
       "    <tr>\n",
       "      <th>5891</th>\n",
       "      <td>The Rough Guide to Constraint Propagation Krzy...</td>\n",
       "      <td>0</td>\n",
       "    </tr>\n",
       "    <tr>\n",
       "      <th>5892</th>\n",
       "      <td>Automatic Generation of Constraint Propagation...</td>\n",
       "      <td>0</td>\n",
       "    </tr>\n",
       "    <tr>\n",
       "      <th>5893</th>\n",
       "      <td>arXiv:cs/9911001v2 [cs.PL] 26 Nov 1999  Semant...</td>\n",
       "      <td>0</td>\n",
       "    </tr>\n",
       "  </tbody>\n",
       "</table>\n",
       "<p>5894 rows × 2 columns</p>\n",
       "</div>"
      ],
      "text/plain": [
       "                                                   text  labels\n",
       "0     Toward an architecture for quantum programming...       1\n",
       "1     Under consideration for publication in Theory ...       1\n",
       "2     Under consideration for publication in Theory ...       1\n",
       "3     A Framework for Datatype Transformation Jan Ko...       1\n",
       "4     A Continuation Semantics of Interrogatives Tha...       1\n",
       "...                                                 ...     ...\n",
       "5889  The Alma Project, or How First-Order Logic Can...       0\n",
       "5890  After Compilers and Operating Systems : The Th...       0\n",
       "5891  The Rough Guide to Constraint Propagation Krzy...       0\n",
       "5892  Automatic Generation of Constraint Propagation...       0\n",
       "5893  arXiv:cs/9911001v2 [cs.PL] 26 Nov 1999  Semant...       0\n",
       "\n",
       "[5894 rows x 2 columns]"
      ]
     },
     "execution_count": 5,
     "metadata": {},
     "output_type": "execute_result"
    }
   ],
   "source": [
    "df = pd.concat(dataframes, ignore_index=True)\n",
    "df"
   ]
  },
  {
   "cell_type": "code",
   "execution_count": 6,
   "id": "c015e8c1-909c-454f-9be6-dca085b32e4e",
   "metadata": {},
   "outputs": [],
   "source": [
    "df.to_csv(\"data/longdoc.csv\", index=False)"
   ]
  },
  {
   "cell_type": "code",
   "execution_count": null,
   "id": "dac74f26-289a-4675-94fb-be2e4b423a80",
   "metadata": {},
   "outputs": [],
   "source": []
  },
  {
   "cell_type": "code",
   "execution_count": null,
   "id": "fd0d2de4-4176-4095-a3b9-ffcec1dfa390",
   "metadata": {},
   "outputs": [],
   "source": []
  }
 ],
 "metadata": {
  "kernelspec": {
   "display_name": "cogs402",
   "language": "python",
   "name": "cogs402"
  },
  "language_info": {
   "codemirror_mode": {
    "name": "ipython",
    "version": 3
   },
   "file_extension": ".py",
   "mimetype": "text/x-python",
   "name": "python",
   "nbconvert_exporter": "python",
   "pygments_lexer": "ipython3",
   "version": "3.9.9"
  }
 },
 "nbformat": 4,
 "nbformat_minor": 5
}
