{
 "cells": [
  {
   "cell_type": "markdown",
   "id": "630b0bde-db0a-44e6-ab03-ac4ea6b10a87",
   "metadata": {},
   "source": [
    "In this notebook, we take two folders of .txt files representing the two classes of data in our binary classification, and concatenates them into one .csv file in order to fine-tune our model. The conditions for adding the .txt file into our .csv file is that they must not be in both folders. "
   ]
  },
  {
   "cell_type": "markdown",
   "id": "513905c9-a106-4c7c-a410-592fa17e4de1",
   "metadata": {},
   "source": [
    "Here, we import the the required packages and get the path to the two folders of data."
   ]
  },
  {
   "cell_type": "code",
   "execution_count": 1,
   "id": "3541dd80-e19f-43cd-b4c2-ce0152c31baf",
   "metadata": {},
   "outputs": [
    {
     "name": "stdout",
     "output_type": "stream",
     "text": [
      "C:\\Users\\danie\\Documents\\COGS402\\cogs402longformer\n"
     ]
    }
   ],
   "source": [
    "#import and move to correct directories\n",
    "import pandas as pd\n",
    "import os\n",
    "\n",
    "path_parent = os.path.dirname(os.getcwd())\n",
    "os.chdir(path_parent)\n",
    "print(os.getcwd())\n",
    "path = \"data/raw/cs.AI\"\n",
    "path2 = \"data/raw/cs.PL\""
   ]
  },
  {
   "cell_type": "markdown",
   "id": "add1bc9a-f70f-419f-a64d-964694f386f8",
   "metadata": {},
   "source": [
    "Using a global dataframes list, we iterate through all files of one folder first, check if they end with a .txt extension, and if we do not see the same named file in the other folder, we add it to our list of examples. Each item is a dictionary containing the text and label that we will convert into a Pandas dataframe after. The function we use to add to the dataframe takes in a filepath (for example, the ones we made above) and a label as input, and creates the dictionary we need for the dataframe and appends the item into the list."
   ]
  },
  {
   "cell_type": "code",
   "execution_count": 2,
   "id": "1c4b43c3-f9dd-4761-94f1-c9f5b02ff1da",
   "metadata": {},
   "outputs": [],
   "source": [
    "dataframes = []\n",
    "\n",
    "#takes in a folder path and the correct label we want\n",
    "def add_file_to_df(file_path, label):\n",
    "    with open(file_path, 'r', encoding='utf8') as f:\n",
    "        contents = f.read()\n",
    "        contents = contents.replace('\\r', ' ').replace('\\n', ' ')\n",
    "        d = {\"text\":contents, \"labels\":label}\n",
    "        dataframes.append(d)\n",
    "        \n",
    "\n",
    "# iterate through all files for the AI documents\n",
    "for file in os.listdir(path):\n",
    "    # Check whether file is in text format or not\n",
    "    if file.endswith(\".txt\"):\n",
    "        # if the file is also in the other class, dont add\n",
    "        if file not in os.listdir(path2):\n",
    "            file_path = f\"{path}/{file}\"\n",
    "\n",
    "            # call add file \n",
    "            add_file_to_df(file_path, label=1)"
   ]
  },
  {
   "cell_type": "markdown",
   "id": "df44e7c6-2ea8-4d75-be8a-7987899215e0",
   "metadata": {},
   "source": [
    "Now we go through the other folder of data, and do the same, but this time we change the label to 0 as these are all programming languages (PL) related data."
   ]
  },
  {
   "cell_type": "code",
   "execution_count": 3,
   "id": "f98961ba-9751-484c-9eb7-e5014a890927",
   "metadata": {},
   "outputs": [],
   "source": [
    "# iterate through all file for the PL \n",
    "for file in os.listdir(path2):\n",
    "    # Check whether file is in text format or not\n",
    "    if file.endswith(\".txt\"):\n",
    "        if file not in os.listdir(path):\n",
    "            # if the file is also in the other class, dont add\n",
    "            file_path = f\"{path2}/{file}\"\n",
    "\n",
    "            # call read text file function\n",
    "            add_file_to_df(file_path, label=0)\n"
   ]
  },
  {
   "cell_type": "markdown",
   "id": "d28cb6d6-bfdb-4813-8893-fd040bbecf03",
   "metadata": {},
   "source": [
    "Finally, we convert the list of dictionaries containing our text and labels, and convert it into our required dataframe."
   ]
  },
  {
   "cell_type": "code",
   "execution_count": 4,
   "id": "0e97a0ce-2360-4132-81a9-17910c5a617b",
   "metadata": {},
   "outputs": [
    {
     "data": {
      "text/html": [
       "<div>\n",
       "<style scoped>\n",
       "    .dataframe tbody tr th:only-of-type {\n",
       "        vertical-align: middle;\n",
       "    }\n",
       "\n",
       "    .dataframe tbody tr th {\n",
       "        vertical-align: top;\n",
       "    }\n",
       "\n",
       "    .dataframe thead th {\n",
       "        text-align: right;\n",
       "    }\n",
       "</style>\n",
       "<table border=\"1\" class=\"dataframe\">\n",
       "  <thead>\n",
       "    <tr style=\"text-align: right;\">\n",
       "      <th></th>\n",
       "      <th>text</th>\n",
       "      <th>labels</th>\n",
       "    </tr>\n",
       "  </thead>\n",
       "  <tbody>\n",
       "    <tr>\n",
       "      <th>0</th>\n",
       "      <td>arXiv:cs/0405102v1 [cs.PL] 27 May 2004  Under ...</td>\n",
       "      <td>1</td>\n",
       "    </tr>\n",
       "    <tr>\n",
       "      <th>1</th>\n",
       "      <td>Adaptive Submodularity: Theory and Application...</td>\n",
       "      <td>1</td>\n",
       "    </tr>\n",
       "    <tr>\n",
       "      <th>2</th>\n",
       "      <td>Anthropic decision theory for self-locating be...</td>\n",
       "      <td>1</td>\n",
       "    </tr>\n",
       "    <tr>\n",
       "      <th>3</th>\n",
       "      <td>Analysis of a Natural Gradient Algorithm on Mo...</td>\n",
       "      <td>1</td>\n",
       "    </tr>\n",
       "    <tr>\n",
       "      <th>4</th>\n",
       "      <td>A Simplified Description of Fuzzy TOPSIS Balwi...</td>\n",
       "      <td>1</td>\n",
       "    </tr>\n",
       "    <tr>\n",
       "      <th>...</th>\n",
       "      <td>...</td>\n",
       "      <td>...</td>\n",
       "    </tr>\n",
       "    <tr>\n",
       "      <th>5345</th>\n",
       "      <td>The Alma Project, or How First-Order Logic Can...</td>\n",
       "      <td>0</td>\n",
       "    </tr>\n",
       "    <tr>\n",
       "      <th>5346</th>\n",
       "      <td>After Compilers and Operating Systems : The Th...</td>\n",
       "      <td>0</td>\n",
       "    </tr>\n",
       "    <tr>\n",
       "      <th>5347</th>\n",
       "      <td>The Rough Guide to Constraint Propagation Krzy...</td>\n",
       "      <td>0</td>\n",
       "    </tr>\n",
       "    <tr>\n",
       "      <th>5348</th>\n",
       "      <td>Automatic Generation of Constraint Propagation...</td>\n",
       "      <td>0</td>\n",
       "    </tr>\n",
       "    <tr>\n",
       "      <th>5349</th>\n",
       "      <td>arXiv:cs/9911001v2 [cs.PL] 26 Nov 1999  Semant...</td>\n",
       "      <td>0</td>\n",
       "    </tr>\n",
       "  </tbody>\n",
       "</table>\n",
       "<p>5350 rows × 2 columns</p>\n",
       "</div>"
      ],
      "text/plain": [
       "                                                   text  labels\n",
       "0     arXiv:cs/0405102v1 [cs.PL] 27 May 2004  Under ...       1\n",
       "1     Adaptive Submodularity: Theory and Application...       1\n",
       "2     Anthropic decision theory for self-locating be...       1\n",
       "3     Analysis of a Natural Gradient Algorithm on Mo...       1\n",
       "4     A Simplified Description of Fuzzy TOPSIS Balwi...       1\n",
       "...                                                 ...     ...\n",
       "5345  The Alma Project, or How First-Order Logic Can...       0\n",
       "5346  After Compilers and Operating Systems : The Th...       0\n",
       "5347  The Rough Guide to Constraint Propagation Krzy...       0\n",
       "5348  Automatic Generation of Constraint Propagation...       0\n",
       "5349  arXiv:cs/9911001v2 [cs.PL] 26 Nov 1999  Semant...       0\n",
       "\n",
       "[5350 rows x 2 columns]"
      ]
     },
     "execution_count": 4,
     "metadata": {},
     "output_type": "execute_result"
    }
   ],
   "source": [
    "df = pd.DataFrame(dataframes)\n",
    "df"
   ]
  },
  {
   "cell_type": "markdown",
   "id": "afdf240d-502d-4d5a-bd45-26452ac6c550",
   "metadata": {},
   "source": [
    "Lets check how many instances of each class are in our final dataset before we partition the data."
   ]
  },
  {
   "cell_type": "code",
   "execution_count": 6,
   "id": "60ff7316-a8ed-4eb0-b9d8-c83c632697c7",
   "metadata": {},
   "outputs": [
    {
     "data": {
      "text/plain": [
       "1    2722\n",
       "0    2628\n",
       "Name: labels, dtype: int64"
      ]
     },
     "execution_count": 6,
     "metadata": {},
     "output_type": "execute_result"
    }
   ],
   "source": [
    "df['labels'].value_counts()"
   ]
  },
  {
   "cell_type": "markdown",
   "id": "fa6854b1-4eab-4a6a-b558-680dd246e02c",
   "metadata": {},
   "source": [
    "We save this dataframe into the parent folder of our two data folders. Feel free to change the path to something more suited to your project"
   ]
  },
  {
   "cell_type": "code",
   "execution_count": 10,
   "id": "c015e8c1-909c-454f-9be6-dca085b32e4e",
   "metadata": {},
   "outputs": [],
   "source": [
    "df.to_csv(\"data/longdoc.csv\", index=False)"
   ]
  },
  {
   "cell_type": "code",
   "execution_count": 11,
   "id": "dac74f26-289a-4675-94fb-be2e4b423a80",
   "metadata": {},
   "outputs": [],
   "source": [
    "import datasets\n",
    "from sklearn.model_selection import train_test_split"
   ]
  },
  {
   "cell_type": "markdown",
   "id": "7312afd8-4839-46fa-a48c-03c522d42784",
   "metadata": {},
   "source": [
    "Just as a sanity check, load our new .csv file and see if it works"
   ]
  },
  {
   "cell_type": "code",
   "execution_count": 12,
   "id": "fd0d2de4-4176-4095-a3b9-ffcec1dfa390",
   "metadata": {},
   "outputs": [
    {
     "data": {
      "text/html": [
       "<div>\n",
       "<style scoped>\n",
       "    .dataframe tbody tr th:only-of-type {\n",
       "        vertical-align: middle;\n",
       "    }\n",
       "\n",
       "    .dataframe tbody tr th {\n",
       "        vertical-align: top;\n",
       "    }\n",
       "\n",
       "    .dataframe thead th {\n",
       "        text-align: right;\n",
       "    }\n",
       "</style>\n",
       "<table border=\"1\" class=\"dataframe\">\n",
       "  <thead>\n",
       "    <tr style=\"text-align: right;\">\n",
       "      <th></th>\n",
       "      <th>text</th>\n",
       "      <th>labels</th>\n",
       "    </tr>\n",
       "  </thead>\n",
       "  <tbody>\n",
       "    <tr>\n",
       "      <th>0</th>\n",
       "      <td>arXiv:cs/0405102v1 [cs.PL] 27 May 2004  Under ...</td>\n",
       "      <td>1</td>\n",
       "    </tr>\n",
       "    <tr>\n",
       "      <th>1</th>\n",
       "      <td>Adaptive Submodularity: Theory and Application...</td>\n",
       "      <td>1</td>\n",
       "    </tr>\n",
       "    <tr>\n",
       "      <th>2</th>\n",
       "      <td>Anthropic decision theory for self-locating be...</td>\n",
       "      <td>1</td>\n",
       "    </tr>\n",
       "    <tr>\n",
       "      <th>3</th>\n",
       "      <td>Analysis of a Natural Gradient Algorithm on Mo...</td>\n",
       "      <td>1</td>\n",
       "    </tr>\n",
       "    <tr>\n",
       "      <th>4</th>\n",
       "      <td>A Simplified Description of Fuzzy TOPSIS Balwi...</td>\n",
       "      <td>1</td>\n",
       "    </tr>\n",
       "    <tr>\n",
       "      <th>...</th>\n",
       "      <td>...</td>\n",
       "      <td>...</td>\n",
       "    </tr>\n",
       "    <tr>\n",
       "      <th>5345</th>\n",
       "      <td>The Alma Project, or How First-Order Logic Can...</td>\n",
       "      <td>0</td>\n",
       "    </tr>\n",
       "    <tr>\n",
       "      <th>5346</th>\n",
       "      <td>After Compilers and Operating Systems : The Th...</td>\n",
       "      <td>0</td>\n",
       "    </tr>\n",
       "    <tr>\n",
       "      <th>5347</th>\n",
       "      <td>The Rough Guide to Constraint Propagation Krzy...</td>\n",
       "      <td>0</td>\n",
       "    </tr>\n",
       "    <tr>\n",
       "      <th>5348</th>\n",
       "      <td>Automatic Generation of Constraint Propagation...</td>\n",
       "      <td>0</td>\n",
       "    </tr>\n",
       "    <tr>\n",
       "      <th>5349</th>\n",
       "      <td>arXiv:cs/9911001v2 [cs.PL] 26 Nov 1999  Semant...</td>\n",
       "      <td>0</td>\n",
       "    </tr>\n",
       "  </tbody>\n",
       "</table>\n",
       "<p>5350 rows × 2 columns</p>\n",
       "</div>"
      ],
      "text/plain": [
       "                                                   text  labels\n",
       "0     arXiv:cs/0405102v1 [cs.PL] 27 May 2004  Under ...       1\n",
       "1     Adaptive Submodularity: Theory and Application...       1\n",
       "2     Anthropic decision theory for self-locating be...       1\n",
       "3     Analysis of a Natural Gradient Algorithm on Mo...       1\n",
       "4     A Simplified Description of Fuzzy TOPSIS Balwi...       1\n",
       "...                                                 ...     ...\n",
       "5345  The Alma Project, or How First-Order Logic Can...       0\n",
       "5346  After Compilers and Operating Systems : The Th...       0\n",
       "5347  The Rough Guide to Constraint Propagation Krzy...       0\n",
       "5348  Automatic Generation of Constraint Propagation...       0\n",
       "5349  arXiv:cs/9911001v2 [cs.PL] 26 Nov 1999  Semant...       0\n",
       "\n",
       "[5350 rows x 2 columns]"
      ]
     },
     "execution_count": 12,
     "metadata": {},
     "output_type": "execute_result"
    }
   ],
   "source": [
    "dataset2 = pd.read_csv(\"data/longdoc.csv\")\n",
    "dataset2"
   ]
  },
  {
   "cell_type": "markdown",
   "id": "5a12dff5-e450-4b6e-8539-0211b304fb02",
   "metadata": {},
   "source": [
    "See if it can be partitioned into a train and test set for fine-tuning."
   ]
  },
  {
   "cell_type": "code",
   "execution_count": 13,
   "id": "634542a5-491f-4c86-b127-d2e0a1f7bf39",
   "metadata": {},
   "outputs": [
    {
     "name": "stdout",
     "output_type": "stream",
     "text": [
      "(4280, 2)\n",
      "(1070, 2)\n"
     ]
    }
   ],
   "source": [
    "df_train, df_test = train_test_split(dataset2, test_size = 0.2, shuffle=True, random_state=42)\n",
    "print(df_train.shape)\n",
    "print(df_test.shape)"
   ]
  },
  {
   "cell_type": "code",
   "execution_count": null,
   "id": "3ed6ba4a-1b82-46c9-aeaf-9460ec9169eb",
   "metadata": {},
   "outputs": [],
   "source": []
  }
 ],
 "metadata": {
  "kernelspec": {
   "display_name": "cogs402",
   "language": "python",
   "name": "cogs402"
  },
  "language_info": {
   "codemirror_mode": {
    "name": "ipython",
    "version": 3
   },
   "file_extension": ".py",
   "mimetype": "text/x-python",
   "name": "python",
   "nbconvert_exporter": "python",
   "pygments_lexer": "ipython3",
   "version": "3.9.9"
  }
 },
 "nbformat": 4,
 "nbformat_minor": 5
}
