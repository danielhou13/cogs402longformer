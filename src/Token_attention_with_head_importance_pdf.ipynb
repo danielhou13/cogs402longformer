{
  "cells": [
    {
      "cell_type": "markdown",
      "metadata": {
        "id": "view-in-github",
        "colab_type": "text"
      },
      "source": [
        "<a href=\"https://colab.research.google.com/github/danielhou13/cogs402longformer/blob/main/src/Token_attention_with_head_importance_pdf.ipynb\" target=\"_parent\"><img src=\"https://colab.research.google.com/assets/colab-badge.svg\" alt=\"Open In Colab\"/></a>"
      ]
    },
    {
      "cell_type": "code",
      "source": [
        "from google.colab import drive\n",
        "drive.mount('/content/drive')"
      ],
      "metadata": {
        "colab": {
          "base_uri": "https://localhost:8080/"
        },
        "id": "kZTPlUo8Wp1T",
        "outputId": "e423b06f-ede1-494f-eaae-5768bb54660f"
      },
      "id": "kZTPlUo8Wp1T",
      "execution_count": 1,
      "outputs": [
        {
          "output_type": "stream",
          "name": "stdout",
          "text": [
            "Drive already mounted at /content/drive; to attempt to forcibly remount, call drive.mount(\"/content/drive\", force_remount=True).\n"
          ]
        }
      ]
    },
    {
      "cell_type": "code",
      "source": [
        "# import sys\n",
        "# sys.path.append('/content/drive/My Drive/{}'.format(\"cogs402longformer/\"))"
      ],
      "metadata": {
        "id": "AlcBiC0nWtJE"
      },
      "id": "AlcBiC0nWtJE",
      "execution_count": 2,
      "outputs": []
    },
    {
      "cell_type": "code",
      "source": [
        "pip install datasets --quiet"
      ],
      "metadata": {
        "id": "s_6vceLhTIBf"
      },
      "id": "s_6vceLhTIBf",
      "execution_count": 3,
      "outputs": []
    },
    {
      "cell_type": "code",
      "source": [
        "pip install transformers"
      ],
      "metadata": {
        "colab": {
          "base_uri": "https://localhost:8080/"
        },
        "id": "M-qXH2JkTMdA",
        "outputId": "af85de2d-5577-4fc6-c5e9-6d251634c88d"
      },
      "id": "M-qXH2JkTMdA",
      "execution_count": 4,
      "outputs": [
        {
          "output_type": "stream",
          "name": "stdout",
          "text": [
            "Looking in indexes: https://pypi.org/simple, https://us-python.pkg.dev/colab-wheels/public/simple/\n",
            "Requirement already satisfied: transformers in /usr/local/lib/python3.7/dist-packages (4.20.1)\n",
            "Requirement already satisfied: tokenizers!=0.11.3,<0.13,>=0.11.1 in /usr/local/lib/python3.7/dist-packages (from transformers) (0.12.1)\n",
            "Requirement already satisfied: regex!=2019.12.17 in /usr/local/lib/python3.7/dist-packages (from transformers) (2022.6.2)\n",
            "Requirement already satisfied: pyyaml>=5.1 in /usr/local/lib/python3.7/dist-packages (from transformers) (6.0)\n",
            "Requirement already satisfied: requests in /usr/local/lib/python3.7/dist-packages (from transformers) (2.23.0)\n",
            "Requirement already satisfied: filelock in /usr/local/lib/python3.7/dist-packages (from transformers) (3.7.1)\n",
            "Requirement already satisfied: tqdm>=4.27 in /usr/local/lib/python3.7/dist-packages (from transformers) (4.64.0)\n",
            "Requirement already satisfied: importlib-metadata in /usr/local/lib/python3.7/dist-packages (from transformers) (4.11.4)\n",
            "Requirement already satisfied: packaging>=20.0 in /usr/local/lib/python3.7/dist-packages (from transformers) (21.3)\n",
            "Requirement already satisfied: numpy>=1.17 in /usr/local/lib/python3.7/dist-packages (from transformers) (1.21.6)\n",
            "Requirement already satisfied: huggingface-hub<1.0,>=0.1.0 in /usr/local/lib/python3.7/dist-packages (from transformers) (0.8.1)\n",
            "Requirement already satisfied: typing-extensions>=3.7.4.3 in /usr/local/lib/python3.7/dist-packages (from huggingface-hub<1.0,>=0.1.0->transformers) (4.1.1)\n",
            "Requirement already satisfied: pyparsing!=3.0.5,>=2.0.2 in /usr/local/lib/python3.7/dist-packages (from packaging>=20.0->transformers) (3.0.9)\n",
            "Requirement already satisfied: zipp>=0.5 in /usr/local/lib/python3.7/dist-packages (from importlib-metadata->transformers) (3.8.0)\n",
            "Requirement already satisfied: idna<3,>=2.5 in /usr/local/lib/python3.7/dist-packages (from requests->transformers) (2.10)\n",
            "Requirement already satisfied: certifi>=2017.4.17 in /usr/local/lib/python3.7/dist-packages (from requests->transformers) (2022.6.15)\n",
            "Requirement already satisfied: urllib3!=1.25.0,!=1.25.1,<1.26,>=1.21.1 in /usr/local/lib/python3.7/dist-packages (from requests->transformers) (1.25.11)\n",
            "Requirement already satisfied: chardet<4,>=3.0.2 in /usr/local/lib/python3.7/dist-packages (from requests->transformers) (3.0.4)\n"
          ]
        }
      ]
    },
    {
      "cell_type": "markdown",
      "source": [
        "Import Dataset and Model"
      ],
      "metadata": {
        "id": "hSSPoSRn6r9A"
      },
      "id": "hSSPoSRn6r9A"
    },
    {
      "cell_type": "code",
      "execution_count": 5,
      "id": "9b774ad0-b725-4910-9050-423edf160ebd",
      "metadata": {
        "id": "9b774ad0-b725-4910-9050-423edf160ebd"
      },
      "outputs": [],
      "source": [
        "import os\n",
        "\n",
        "import numpy as np\n",
        "import pandas as pd\n",
        "import seaborn as sns\n",
        "import matplotlib.pyplot as plt\n",
        "\n",
        "import torch\n",
        "import torch.nn as nn"
      ]
    },
    {
      "cell_type": "markdown",
      "source": [
        "Import the Reserach Papers dataset"
      ],
      "metadata": {
        "id": "hfHRqrpw_VlN"
      },
      "id": "hfHRqrpw_VlN"
    },
    {
      "cell_type": "code",
      "execution_count": 6,
      "id": "66cc97f5-7e3a-476c-9858-5643eeaa6675",
      "metadata": {
        "id": "66cc97f5-7e3a-476c-9858-5643eeaa6675"
      },
      "outputs": [],
      "source": [
        "from datasets import load_dataset\n",
        "from transformers import AutoModelForSequenceClassification, AutoTokenizer\n",
        "\n",
        "tokenizer = AutoTokenizer.from_pretrained('allenai/longformer-base-4096')\n",
        "\n",
        "def longformer_finetuned_papers():\n",
        "    model = AutoModelForSequenceClassification.from_pretrained('danielhou13/longformer-finetuned_papers_v2', num_labels = 2)\n",
        "    return model\n",
        "\n",
        "def preprocess_function(tokenizer, example, max_length):\n",
        "    example.update(tokenizer(example['text'], padding='max_length', max_length=max_length, truncation=True))\n",
        "    return example\n",
        "\n",
        "def get_papers_dataset(dataset_type):\n",
        "    max_length = 2048\n",
        "    dataset = load_dataset(\"danielhou13/cogs402dataset\")[dataset_type]\n",
        "\n",
        "    # tokenizer = AutoTokenizer.from_pretrained('bert-base-uncased')\n",
        "    dataset = dataset.map(lambda x: preprocess_function(tokenizer, x, max_length), batched=True)\n",
        "    setattr(dataset, 'input_columns', ['input_ids', 'attention_mask'])\n",
        "    setattr(dataset, 'target_columns', ['labels'])\n",
        "    setattr(dataset, 'max_length', max_length)\n",
        "    setattr(dataset, 'tokenizer', tokenizer)\n",
        "    return dataset\n",
        "\n",
        "def papers_test_set():\n",
        "    return get_papers_dataset('test')"
      ]
    },
    {
      "cell_type": "markdown",
      "source": [
        "Import the news dataset"
      ],
      "metadata": {
        "id": "Jq_wt-jn_Y6m"
      },
      "id": "Jq_wt-jn_Y6m"
    },
    {
      "cell_type": "code",
      "source": [
        "# def preprocess_function(tokenizer, example, max_length):\n",
        "#     example.update(tokenizer(example['text'], padding='max_length', max_length=max_length, truncation=True))\n",
        "#     return example\n",
        "\n",
        "# def longformer_finetuned_news():\n",
        "#     model = AutoModelForSequenceClassification.from_pretrained('danielhou13/longformer-finetuned-news-cogs402', num_labels = 2)\n",
        "#     return model\n",
        "\n",
        "# def get_news_dataset(dataset_type):\n",
        "#     max_length = 2048\n",
        "#     dataset = load_dataset(\"danielhou13/cogs402dataset2\")[dataset_type]\n",
        "\n",
        "#     tokenizer = AutoTokenizer.from_pretrained('allenai/longformer-base-4096')\n",
        "#     dataset = dataset.map(lambda x: preprocess_function(tokenizer, x, max_length), batched=True)\n",
        "\n",
        "#     labels = map(int, dataset['hyperpartisan'])\n",
        "#     print(type(dataset['hyperpartisan']))\n",
        "#     labels = list(labels)\n",
        "#     dataset = dataset.add_column(\"labels\", labels)\n",
        "\n",
        "#     dataset = dataset.remove_columns(['title', 'hyperpartisan', 'url', 'published_at', 'bias'])\n",
        "#     print(dataset)\n",
        "#     setattr(dataset, 'input_columns', ['input_ids', 'attention_mask'])\n",
        "#     setattr(dataset, 'target_columns', ['labels'])\n",
        "#     setattr(dataset, 'max_length', max_length)\n",
        "#     setattr(dataset, 'tokenizer', tokenizer)\n",
        "#     return dataset\n",
        "\n",
        "# def news_train_set():\n",
        "#     return get_news_dataset('train')\n",
        "\n",
        "# def news_test_set():\n",
        "#     return get_news_dataset('validation')"
      ],
      "metadata": {
        "id": "gEI0AFC5-0qA"
      },
      "id": "gEI0AFC5-0qA",
      "execution_count": 7,
      "outputs": []
    },
    {
      "cell_type": "markdown",
      "source": [
        "Load papers model and dataset and preprocess it"
      ],
      "metadata": {
        "id": "srzj_2BeNGOK"
      },
      "id": "srzj_2BeNGOK"
    },
    {
      "cell_type": "code",
      "execution_count": 8,
      "id": "24ad54a3-db97-47e3-8cc7-417d4db2c99b",
      "metadata": {
        "id": "24ad54a3-db97-47e3-8cc7-417d4db2c99b",
        "colab": {
          "base_uri": "https://localhost:8080/",
          "height": 170,
          "referenced_widgets": [
            "f6003584820e4f23bb53379a69a05c3f",
            "8e2e599f9a954831bec860e43d17eef3",
            "a60b035f72b04b889f4d8c2219d23f09",
            "7e9e55c94ed84b8b834a40414bf9e7de",
            "4fc5176a08b64c249b9746ac6efe8276",
            "a21a8060da684d96a593a38d0a35aa23",
            "de4da2efe9dc46ab8a63f47afb267d50",
            "a21dfce0c8964eae859e54f045d678e8",
            "a1e9d91940e94831aaeda869d2ab39cd",
            "4b1aaf169ea0465abd3a11e7545e21be",
            "a51d134baf7747cda9d5ebc39a9632fe",
            "90c33a5fd2d54989b8c417b72816e4ef",
            "db003b48a3264f85b386978fb6af4b80",
            "99d37ff9e0b242aa9ff3123455fe309d",
            "6c9ee0a4ff6d4b4e92a9ff6f42ca5da8",
            "2bcaa2c50a0f4b44a636610f2bc22166",
            "a041b784e9b64c3f965a3e9b1eadd84a",
            "b12c3033deb343ed81e60566eff6a66e",
            "8fa5f3c4c70f4c40873bab0689c969ba",
            "1e88043a80064f099d3667738d5c0862",
            "164b5eb7284649318c5a8ade162596f2",
            "5f27da73a23a4cfcaa43047ad7427754"
          ]
        },
        "outputId": "a5a75e29-81af-48fe-bc45-09e55c6c6f8a"
      },
      "outputs": [
        {
          "output_type": "stream",
          "name": "stderr",
          "text": [
            "Using custom data configuration danielhou13--cogs402dataset-144b958ac1a53abb\n",
            "Reusing dataset parquet (/root/.cache/huggingface/datasets/danielhou13___parquet/danielhou13--cogs402dataset-144b958ac1a53abb/0.0.0/7328ef7ee03eaf3f86ae40594d46a1cec86161704e02dd19f232d81eee72ade8)\n"
          ]
        },
        {
          "output_type": "display_data",
          "data": {
            "text/plain": [
              "  0%|          | 0/2 [00:00<?, ?it/s]"
            ],
            "application/vnd.jupyter.widget-view+json": {
              "version_major": 2,
              "version_minor": 0,
              "model_id": "f6003584820e4f23bb53379a69a05c3f"
            }
          },
          "metadata": {}
        },
        {
          "output_type": "stream",
          "name": "stderr",
          "text": [
            "Parameter 'function'=<function get_papers_dataset.<locals>.<lambda> at 0x7f5b24516320> of the transform datasets.arrow_dataset.Dataset._map_single couldn't be hashed properly, a random hash was used instead. Make sure your transforms and parameters are serializable with pickle or dill for the dataset fingerprinting and caching to work. If you reuse this transform, the caching mechanism will consider it to be different from the previous calls and recompute everything. This warning is only showed once. Subsequent hashing failures won't be showed.\n"
          ]
        },
        {
          "output_type": "display_data",
          "data": {
            "text/plain": [
              "  0%|          | 0/2 [00:00<?, ?ba/s]"
            ],
            "application/vnd.jupyter.widget-view+json": {
              "version_major": 2,
              "version_minor": 0,
              "model_id": "90c33a5fd2d54989b8c417b72816e4ef"
            }
          },
          "metadata": {}
        },
        {
          "output_type": "stream",
          "name": "stdout",
          "text": [
            "['input_ids', 'attention_mask', 'labels']\n"
          ]
        }
      ],
      "source": [
        "cogs402_test = papers_test_set()\n",
        "model = longformer_finetuned_papers()\n",
        "columns = cogs402_test.input_columns + cogs402_test.target_columns\n",
        "print(columns)\n",
        "cogs402_test.set_format(type='torch', columns=columns)\n",
        "cogs402_test=cogs402_test.remove_columns(['text'])"
      ]
    },
    {
      "cell_type": "markdown",
      "source": [
        "Load news model and dataset and preprocess it"
      ],
      "metadata": {
        "id": "22BIYrX8NOVC"
      },
      "id": "22BIYrX8NOVC"
    },
    {
      "cell_type": "code",
      "source": [
        "# cogs402_test = news_test_set()\n",
        "# model = longformer_finetuned_news()\n",
        "# columns = cogs402_test.input_columns + cogs402_test.target_columns\n",
        "# print(columns)\n",
        "# cogs402_test.set_format(type='torch', columns=columns)"
      ],
      "metadata": {
        "id": "xh-YZZyo_eZx"
      },
      "id": "xh-YZZyo_eZx",
      "execution_count": 9,
      "outputs": []
    },
    {
      "cell_type": "code",
      "execution_count": 10,
      "id": "deaabfa2-0855-41fd-870c-7a8b91e32d44",
      "metadata": {
        "id": "deaabfa2-0855-41fd-870c-7a8b91e32d44",
        "colab": {
          "base_uri": "https://localhost:8080/"
        },
        "outputId": "9c946a4c-f20f-4984-ccfa-8391d0c10787"
      },
      "outputs": [
        {
          "output_type": "stream",
          "name": "stdout",
          "text": [
            "cuda:0\n"
          ]
        }
      ],
      "source": [
        "if torch.cuda.is_available():\n",
        "    model = model.cuda()\n",
        "\n",
        "print(model.device)"
      ]
    },
    {
      "cell_type": "markdown",
      "source": [
        "Predict using the model on the selected dataset"
      ],
      "metadata": {
        "id": "IXjbkX-PAGay"
      },
      "id": "IXjbkX-PAGay"
    },
    {
      "cell_type": "code",
      "source": [
        "from transformers import Trainer, TrainingArguments\n",
        "\n",
        "batch_size = 1\n",
        "gradient_acc = 4\n",
        "model_name = f\"longformer-finetuned_papers\"\n",
        "training_args = TrainingArguments(output_dir=f\"models/{model_name}\",\n",
        "                                  num_train_epochs = 2,\n",
        "                                  learning_rate=2e-5,\n",
        "                                  per_device_train_batch_size=batch_size,\n",
        "                                  per_device_eval_batch_size=batch_size,\n",
        "                                  weight_decay=0.01,\n",
        "                                  evaluation_strategy=\"epoch\",\n",
        "                                  disable_tqdm=False,\n",
        "                                  push_to_hub=False,\n",
        "                                  log_level=\"error\",\n",
        "                                  fp16=True,\n",
        "                                  gradient_accumulation_steps=gradient_acc,\n",
        "                                  gradient_checkpointing=True,\n",
        "                                  save_strategy = \"epoch\")"
      ],
      "metadata": {
        "id": "7PUTFonI_XLM"
      },
      "id": "7PUTFonI_XLM",
      "execution_count": 11,
      "outputs": []
    },
    {
      "cell_type": "markdown",
      "source": [
        "F1 and accuracy are good general metrics for model performance. Recall and precision can be used if we require low false negatives or false positives."
      ],
      "metadata": {
        "id": "NSxE_HDPAKaT"
      },
      "id": "NSxE_HDPAKaT"
    },
    {
      "cell_type": "code",
      "source": [
        "from sklearn.metrics import accuracy_score, f1_score\n",
        "\n",
        "def compute_metrics(pred):\n",
        "    labels = pred.label_ids\n",
        "    preds = pred.predictions.argmax(-1)\n",
        "    f1 = f1_score(labels, preds, average=\"weighted\")\n",
        "    acc = accuracy_score(labels, preds)\n",
        "    return {\"accuracy\": acc, \"f1\": f1}"
      ],
      "metadata": {
        "id": "65V97tOz_e37"
      },
      "id": "65V97tOz_e37",
      "execution_count": 12,
      "outputs": []
    },
    {
      "cell_type": "code",
      "source": [
        "from transformers import DataCollatorWithPadding\n",
        "data_collator = DataCollatorWithPadding(tokenizer=tokenizer)\n",
        "\n",
        "trainer = Trainer(\n",
        "    model=model,\n",
        "    args=training_args,\n",
        "    compute_metrics=compute_metrics,\n",
        "    tokenizer=tokenizer,\n",
        "    data_collator = data_collator\n",
        ")"
      ],
      "metadata": {
        "id": "TpkwUmWN_lu1"
      },
      "id": "TpkwUmWN_lu1",
      "execution_count": 13,
      "outputs": []
    },
    {
      "cell_type": "code",
      "source": [
        "preds_output = trainer.predict(cogs402_test)"
      ],
      "metadata": {
        "id": "4W9kCODH_wfT",
        "colab": {
          "base_uri": "https://localhost:8080/",
          "height": 37
        },
        "outputId": "0f7ca5db-3783-4edf-bda2-b60890d15951"
      },
      "id": "4W9kCODH_wfT",
      "execution_count": 14,
      "outputs": [
        {
          "output_type": "display_data",
          "data": {
            "text/plain": [
              "<IPython.core.display.HTML object>"
            ],
            "text/html": [
              "\n",
              "    <div>\n",
              "      \n",
              "      <progress value='1070' max='1070' style='width:300px; height:20px; vertical-align: middle;'></progress>\n",
              "      [1070/1070 02:28]\n",
              "    </div>\n",
              "    "
            ]
          },
          "metadata": {}
        }
      ]
    },
    {
      "cell_type": "markdown",
      "source": [
        "We want to find the false negatives, and false positives"
      ],
      "metadata": {
        "id": "wjeyImJmApjd"
      },
      "id": "wjeyImJmApjd"
    },
    {
      "cell_type": "code",
      "source": [
        "y_preds = np.argmax(preds_output.predictions, axis=1)\n",
        "y_true = np.array(cogs402_test[\"labels\"])"
      ],
      "metadata": {
        "id": "IyRQ0z-QAzAU"
      },
      "id": "IyRQ0z-QAzAU",
      "execution_count": 15,
      "outputs": []
    },
    {
      "cell_type": "code",
      "source": [
        "diff = y_true-y_preds\n",
        "correct = np.where(diff == 0)[0]\n",
        "\n",
        "pos = np.where((y_true-y_preds == 0) & (y_true==1))[0]\n",
        "neg = np.where((y_true-y_preds == 0) & (y_true==0))[0]\n",
        "\n",
        "false_pos = np.where(diff == -1)[0]\n",
        "false_neg = np.where(diff == 1)[0]\n",
        "\n",
        "print('Correctly classified: ', correct)\n",
        "\n",
        "print('cor pos: ', pos)\n",
        "print('cor neg: ', neg)\n",
        "\n",
        "print('False positives: ', false_pos)\n",
        "print('False negatives: ', false_neg)"
      ],
      "metadata": {
        "id": "ZoIa9_KIA2rt",
        "colab": {
          "base_uri": "https://localhost:8080/"
        },
        "outputId": "74bd5bbe-bc49-45c2-c2cc-5016a447e43d"
      },
      "id": "ZoIa9_KIA2rt",
      "execution_count": 16,
      "outputs": [
        {
          "output_type": "stream",
          "name": "stdout",
          "text": [
            "Correctly classified:  [   0    1    2 ... 1067 1068 1069]\n",
            "cor pos:  [   0    3    5    7    9   10   12   13   14   16   18   20   26   28\n",
            "   30   32   33   39   40   41   42   43   45   49   53   58   60   62\n",
            "   64   65   68   69   72   75   76   80   81   82   86   87   90   92\n",
            "   93   95   97   98  101  105  107  108  112  113  114  116  118  119\n",
            "  120  122  124  125  126  129  131  132  135  136  141  143  145  146\n",
            "  151  153  154  155  158  160  162  163  164  165  166  167  170  172\n",
            "  174  176  177  178  180  181  182  183  185  187  188  189  192  193\n",
            "  194  195  198  199  201  202  203  204  205  208  212  215  217  218\n",
            "  219  220  224  225  229  230  233  236  238  240  241  244  247  255\n",
            "  256  257  260  261  265  266  267  268  270  273  276  277  278  280\n",
            "  281  283  284  286  287  289  290  291  292  293  296  297  299  300\n",
            "  303  305  307  308  309  312  313  314  315  316  317  318  319  321\n",
            "  327  328  330  333  334  340  342  343  344  346  347  352  353  355\n",
            "  356  360  361  364  365  367  370  372  373  374  380  381  388  389\n",
            "  390  391  396  399  402  403  404  407  411  414  415  416  417  418\n",
            "  419  420  421  422  423  424  425  429  430  431  435  438  439  440\n",
            "  441  442  444  447  448  449  451  452  455  456  458  460  461  464\n",
            "  467  470  471  472  476  479  485  486  488  489  490  491  492  493\n",
            "  495  498  500  502  505  507  511  512  515  516  518  519  522  524\n",
            "  529  530  531  532  533  535  537  539  540  541  542  545  546  548\n",
            "  549  553  554  558  559  560  562  565  567  568  571  577  581  583\n",
            "  584  586  587  588  591  594  595  596  597  598  600  602  604  607\n",
            "  608  613  615  620  622  623  624  625  626  628  629  630  631  633\n",
            "  635  636  638  639  640  642  646  649  655  656  659  660  662  663\n",
            "  666  667  669  671  673  674  675  678  679  680  683  692  693  696\n",
            "  698  699  703  704  706  708  711  715  716  717  718  720  723  724\n",
            "  725  726  727  730  732  735  736  737  738  739  740  746  747  748\n",
            "  749  753  755  759  760  763  764  765  766  767  768  770  772  773\n",
            "  776  779  780  781  782  783  786  787  789  790  791  792  794  795\n",
            "  796  799  801  803  804  809  810  812  814  815  816  817  819  821\n",
            "  822  824  825  827  828  829  830  835  836  839  847  850  853  856\n",
            "  858  859  861  862  867  871  874  875  876  879  883  884  885  886\n",
            "  888  895  897  898  899  900  907  908  912  914  915  917  918  920\n",
            "  922  924  926  930  931  933  936  938  939  940  941  942  943  946\n",
            "  947  948  949  951  952  953  955  956  959  961  963  965  966  968\n",
            "  969  970  972  976  978  979  980  981  984  985  986  987  989  991\n",
            "  996  997  999 1001 1002 1003 1004 1005 1008 1009 1010 1011 1014 1015\n",
            " 1016 1017 1019 1021 1025 1026 1027 1028 1035 1036 1038 1039 1043 1044\n",
            " 1045 1046 1048 1049 1053 1055 1057 1059 1061 1069]\n",
            "cor neg:  [   1    2    4    6    8   11   15   17   19   21   22   24   25   27\n",
            "   29   31   35   36   37   38   44   46   47   48   50   52   54   55\n",
            "   56   57   59   61   66   67   70   73   74   77   78   79   83   84\n",
            "   85   88   89   91   94   96   99  100  102  103  104  106  109  110\n",
            "  111  115  117  121  123  127  128  130  133  134  137  138  139  140\n",
            "  142  144  147  149  150  152  156  157  159  161  168  169  171  173\n",
            "  175  179  184  186  190  191  196  197  200  206  207  209  210  211\n",
            "  213  214  216  221  222  223  226  227  228  231  232  234  235  237\n",
            "  239  242  243  245  246  248  249  250  251  252  253  254  258  259\n",
            "  262  263  264  269  271  272  274  275  282  285  288  294  295  298\n",
            "  301  302  304  306  310  311  320  322  323  324  325  326  329  331\n",
            "  332  335  336  337  338  339  341  345  348  349  350  351  354  357\n",
            "  358  359  362  363  366  368  369  371  375  376  377  378  379  382\n",
            "  383  384  385  386  387  392  393  394  395  397  398  400  401  405\n",
            "  406  408  409  410  412  413  426  427  428  432  433  434  436  437\n",
            "  443  445  446  450  454  457  459  462  463  466  468  469  473  474\n",
            "  475  477  478  480  481  482  483  484  487  494  496  497  499  501\n",
            "  503  504  506  508  509  510  513  514  517  520  521  523  525  526\n",
            "  527  528  534  536  538  543  544  547  550  551  552  555  556  557\n",
            "  561  563  566  569  570  572  573  574  575  576  578  579  580  582\n",
            "  585  589  590  592  593  599  601  603  605  606  609  610  611  612\n",
            "  614  616  617  618  619  621  627  632  634  637  641  643  644  645\n",
            "  647  648  650  651  652  653  654  657  658  661  664  665  668  670\n",
            "  672  676  677  681  682  684  685  686  687  688  689  691  694  695\n",
            "  697  700  701  702  705  707  709  710  712  713  714  719  721  722\n",
            "  729  731  733  734  741  742  743  744  745  750  751  752  754  756\n",
            "  757  758  761  769  771  774  775  777  778  784  785  788  793  797\n",
            "  798  800  805  806  807  808  811  818  820  823  826  831  832  833\n",
            "  837  838  840  841  842  843  844  845  846  848  849  851  852  854\n",
            "  855  857  860  863  864  865  866  868  869  870  872  873  877  878\n",
            "  880  881  882  887  889  890  892  893  894  896  901  902  904  906\n",
            "  909  910  911  913  916  919  921  923  925  927  928  932  934  935\n",
            "  937  944  945  950  954  957  958  960  962  964  967  971  973  974\n",
            "  975  977  982  983  988  990  992  993  994  995  998 1000 1006 1007\n",
            " 1012 1013 1018 1020 1022 1023 1024 1029 1030 1031 1032 1033 1034 1037\n",
            " 1040 1041 1042 1047 1050 1051 1054 1056 1058 1060 1062 1063 1064 1065\n",
            " 1066 1067 1068]\n",
            "False positives:  [  23   34   51   63   71  148  279  453  690  728  762  802  813  834\n",
            "  903  905  929 1052]\n",
            "False negatives:  [465 564 891]\n"
          ]
        }
      ]
    },
    {
      "cell_type": "markdown",
      "source": [
        "Take example for evaluation based on randomness"
      ],
      "metadata": {
        "id": "d4DdhW2T6wHE"
      },
      "id": "d4DdhW2T6wHE"
    },
    {
      "cell_type": "code",
      "execution_count": 17,
      "id": "a35e74a3-bd67-4ee2-8e5b-2da01503f27b",
      "metadata": {
        "id": "a35e74a3-bd67-4ee2-8e5b-2da01503f27b"
      },
      "outputs": [],
      "source": [
        "rand_pos = np.random.choice(pos, size=1)\n",
        "rand_neg = np.random.choice(neg, size=1)\n",
        "rand_fp = np.random.choice(false_pos, size=1)\n",
        "rand_fn = np.random.choice(false_neg, size=1)"
      ]
    },
    {
      "cell_type": "code",
      "source": [
        "# print(tokenizer.convert_ids_to_tokens(cogs402_test[\"input_ids\"][rand_neg[0]]))"
      ],
      "metadata": {
        "id": "f2TDMpA1nqk_"
      },
      "id": "f2TDMpA1nqk_",
      "execution_count": 18,
      "outputs": []
    },
    {
      "cell_type": "markdown",
      "source": [
        "Take example for evaluation based on prediction probability"
      ],
      "metadata": {
        "id": "kyVEhUfidwRV"
      },
      "id": "kyVEhUfidwRV"
    },
    {
      "cell_type": "code",
      "source": [
        "highest_pos = [np.argmax(preds_output.predictions[:,1])]\n",
        "highest_neg = [np.argmax(preds_output.predictions[:,0])]\n",
        "print(highest_pos)\n",
        "print(highest_neg)"
      ],
      "metadata": {
        "id": "6WWpe52Cd3wk",
        "colab": {
          "base_uri": "https://localhost:8080/"
        },
        "outputId": "db7c1489-5b40-4706-eba2-c7f07e0f7f50"
      },
      "id": "6WWpe52Cd3wk",
      "execution_count": 19,
      "outputs": [
        {
          "output_type": "stream",
          "name": "stdout",
          "text": [
            "[976]\n",
            "[605]\n"
          ]
        }
      ]
    },
    {
      "cell_type": "code",
      "source": [
        "test_val = rand_pos\n",
        "print(test_val)\n",
        "testexam = cogs402_test[test_val]"
      ],
      "metadata": {
        "id": "FrX3LUUxeORB",
        "colab": {
          "base_uri": "https://localhost:8080/"
        },
        "outputId": "3cd1d779-885d-4868-ce68-7482d2a00d28"
      },
      "id": "FrX3LUUxeORB",
      "execution_count": 58,
      "outputs": [
        {
          "output_type": "stream",
          "name": "stdout",
          "text": [
            "[201]\n"
          ]
        }
      ]
    },
    {
      "cell_type": "code",
      "execution_count": 59,
      "id": "04c5bcaf-5fe3-4813-8444-5cfb2c63a92b",
      "metadata": {
        "id": "04c5bcaf-5fe3-4813-8444-5cfb2c63a92b",
        "colab": {
          "base_uri": "https://localhost:8080/"
        },
        "outputId": "a6cbed30-f353-48ae-c9ab-53ae7fd4283e"
      },
      "outputs": [
        {
          "output_type": "stream",
          "name": "stdout",
          "text": [
            "output_attention.shape torch.Size([12, 1, 12, 2048, 514])\n",
            "gl_output_attention.shape torch.Size([12, 1, 12, 2048, 1])\n"
          ]
        }
      ],
      "source": [
        "output = model(testexam[\"input_ids\"].cuda(), attention_mask=testexam['attention_mask'].cuda(), labels=testexam['labels'].cuda(), output_attentions = True)\n",
        "batch_attn = output[-2]\n",
        "output_attentions = torch.stack(batch_attn).cpu()\n",
        "global_attention = output[-1]\n",
        "output_global_attentions = torch.stack(global_attention).cpu()\n",
        "print(\"output_attention.shape\", output_attentions.shape)\n",
        "print(\"gl_output_attention.shape\", output_global_attentions.shape)"
      ]
    },
    {
      "cell_type": "code",
      "source": [
        "print(testexam['labels'][0])\n",
        "print(output[1].argmax())"
      ],
      "metadata": {
        "id": "SO4yNy98t_UP",
        "colab": {
          "base_uri": "https://localhost:8080/"
        },
        "outputId": "de258527-d92a-4f61-ef28-d00ec233fc5b"
      },
      "id": "SO4yNy98t_UP",
      "execution_count": 60,
      "outputs": [
        {
          "output_type": "stream",
          "name": "stdout",
          "text": [
            "tensor(1)\n",
            "tensor(1, device='cuda:0')\n"
          ]
        }
      ]
    },
    {
      "cell_type": "code",
      "execution_count": 61,
      "id": "2467c3d1-fe58-4e6d-aa98-534a6df72fcc",
      "metadata": {
        "id": "2467c3d1-fe58-4e6d-aa98-534a6df72fcc"
      },
      "outputs": [],
      "source": [
        "# print(os.getcwd())\n",
        "# yes = torch.load(\"resources/longformer_test2/epoch_3/aggregate_attn.pt\")"
      ]
    },
    {
      "cell_type": "markdown",
      "source": [
        "Convert sliding attention matrix to correct seq_len x seq_len matrix"
      ],
      "metadata": {
        "id": "OevnNprR67LK"
      },
      "id": "OevnNprR67LK"
    },
    {
      "cell_type": "code",
      "execution_count": 62,
      "id": "0882a3e5-1b0c-4319-92a3-92f5b516d854",
      "metadata": {
        "id": "0882a3e5-1b0c-4319-92a3-92f5b516d854"
      },
      "outputs": [],
      "source": [
        "def create_head_matrix(output_attentions, global_attentions):\n",
        "    new_attention_matrix = torch.zeros((output_attentions.shape[0], \n",
        "                                      output_attentions.shape[0]))\n",
        "    for i in range(output_attentions.shape[0]):\n",
        "        test_non_zeroes = torch.nonzero(output_attentions[i]).squeeze()\n",
        "        test2 = output_attentions[i][test_non_zeroes[1:]]\n",
        "        new_attention_matrix_indices = test_non_zeroes[1:]-257 + i\n",
        "        new_attention_matrix[i][new_attention_matrix_indices] = test2\n",
        "        new_attention_matrix[i][0] = output_attentions[i][0]\n",
        "        new_attention_matrix[0] = global_attentions.squeeze()[:output_attentions.shape[0]]\n",
        "    return new_attention_matrix\n",
        "\n",
        "\n",
        "def attentions_all_heads(output_attentions, global_attentions):\n",
        "    new_matrix = []\n",
        "    for i in range(output_attentions.shape[0]):\n",
        "        matrix = create_head_matrix(output_attentions[i], global_attentions[i])\n",
        "        new_matrix.append(matrix)\n",
        "    return torch.stack(new_matrix)\n",
        "\n",
        "def all_batches(output_attentions, global_attentions):\n",
        "    new_matrix = []\n",
        "    for i in range(output_attentions.shape[0]):\n",
        "        matrix = attentions_all_heads(output_attentions[i], global_attentions[i])\n",
        "        new_matrix.append(matrix)\n",
        "    return torch.stack(new_matrix)\n",
        "\n",
        "def all_layers(output_attentions, global_attentions):\n",
        "    new_matrix = []\n",
        "    for i in range(output_attentions.shape[0]):\n",
        "        matrix = all_batches(output_attentions[i], global_attentions[i])\n",
        "        new_matrix.append(matrix)\n",
        "    return torch.stack(new_matrix)"
      ]
    },
    {
      "cell_type": "code",
      "source": [
        "converted_mat = all_layers(output_attentions, output_global_attentions).detach().cpu().numpy()\n",
        "print(converted_mat.shape)"
      ],
      "metadata": {
        "id": "IpdfMEMAuvyR",
        "colab": {
          "base_uri": "https://localhost:8080/"
        },
        "outputId": "e0bef990-2759-427a-a685-0eb6a2fda8d5"
      },
      "id": "IpdfMEMAuvyR",
      "execution_count": 63,
      "outputs": [
        {
          "output_type": "stream",
          "name": "stdout",
          "text": [
            "(12, 1, 12, 2048, 2048)\n"
          ]
        }
      ]
    },
    {
      "cell_type": "code",
      "source": [
        "print(testexam['input_ids'])"
      ],
      "metadata": {
        "id": "SIwlL_rUIlO3",
        "colab": {
          "base_uri": "https://localhost:8080/"
        },
        "outputId": "7f237833-cee2-471f-b7d3-de2c7cc099da"
      },
      "id": "SIwlL_rUIlO3",
      "execution_count": 64,
      "outputs": [
        {
          "output_type": "stream",
          "name": "stdout",
          "text": [
            "tensor([[   0, 1121, 3658,  ...,    4, 1437,    2]])\n"
          ]
        }
      ]
    },
    {
      "cell_type": "code",
      "source": [
        "all_tokens = tokenizer.convert_ids_to_tokens(testexam[\"input_ids\"][0])"
      ],
      "metadata": {
        "id": "N-Wr_p4LsTv-"
      },
      "id": "N-Wr_p4LsTv-",
      "execution_count": 65,
      "outputs": []
    },
    {
      "cell_type": "markdown",
      "source": [
        "Load head importance model and scale the attentions by head importance"
      ],
      "metadata": {
        "id": "P-nS_AHa7Hv6"
      },
      "id": "P-nS_AHa7Hv6"
    },
    {
      "cell_type": "code",
      "source": [
        "head_importance = torch.load(\"/content/drive/MyDrive/cogs402longformer/t3-visapplication/resources/papers/pretrained/head_importance.pt\")\n",
        "# head_importance = torch.load(\"/content/drive/MyDrive/cogs402longformer/t3-visapplication/resources/news/head_importance.pt\")"
      ],
      "metadata": {
        "id": "UsAznmcDyBgR"
      },
      "id": "UsAznmcDyBgR",
      "execution_count": 66,
      "outputs": []
    },
    {
      "cell_type": "code",
      "source": [
        "def scale_by_importance(attention_matrix, head_importance):\n",
        "  new_matrix = np.zeros_like(attention_matrix)\n",
        "  for i in range(attention_matrix.shape[0]):\n",
        "    head_importance_layer = head_importance[i]\n",
        "    for j in range(attention_matrix.shape[1]):\n",
        "      new_matrix[i,j] = attention_matrix[i,j] * np.expand_dims(head_importance_layer, axis=(1,2))\n",
        "  return new_matrix"
      ],
      "metadata": {
        "id": "_HFs_vLw0230"
      },
      "id": "_HFs_vLw0230",
      "execution_count": 67,
      "outputs": []
    },
    {
      "cell_type": "code",
      "source": [
        "converted_mat_importance = scale_by_importance(converted_mat, head_importance)"
      ],
      "metadata": {
        "id": "XUcjPfxeHbqT"
      },
      "id": "XUcjPfxeHbqT",
      "execution_count": 68,
      "outputs": []
    },
    {
      "cell_type": "markdown",
      "source": [
        "Get the sum of the attentions for all the tokens (column-wise). In other words, find out how much every word is attended to"
      ],
      "metadata": {
        "id": "u0ViKJAn7Ap0"
      },
      "id": "u0ViKJAn7Ap0"
    },
    {
      "cell_type": "code",
      "source": [
        "attention_matrix_importance = converted_mat_importance.sum(axis=3)\n",
        "print(attention_matrix_importance.shape)"
      ],
      "metadata": {
        "id": "EhMNdupbxFrx",
        "colab": {
          "base_uri": "https://localhost:8080/"
        },
        "outputId": "26682e90-3aa2-450e-8080-6301f33c2638"
      },
      "id": "EhMNdupbxFrx",
      "execution_count": 69,
      "outputs": [
        {
          "output_type": "stream",
          "name": "stdout",
          "text": [
            "(12, 1, 12, 2048)\n"
          ]
        }
      ]
    },
    {
      "cell_type": "markdown",
      "source": [
        "A dataframe is good for picking out information from the example, but it isn't the best being a easy to read visualization. Its easier to see how much each word is attended to in an example if we have the actual example, with the words highlighted based on the magnitude of attention.\n",
        "\n",
        "We use https://github.com/jiesutd/Text-Attention-Heatmap-Visualization to show how much each token in the example is attended to, up to the max number of tokens we specified earlier."
      ],
      "metadata": {
        "id": "DjTu0_guLI1T"
      },
      "id": "DjTu0_guLI1T"
    },
    {
      "cell_type": "markdown",
      "source": [
        "Get top k attended words for each head, for each example in batch, for each layer"
      ],
      "metadata": {
        "id": "cc0pgucS7OIp"
      },
      "id": "cc0pgucS7OIp"
    },
    {
      "cell_type": "code",
      "source": [
        "## convert the text/attention list to latex code, which will further generates the text heatmap based on attention weights.\n",
        "import numpy as np\n",
        "\n",
        "latex_special_token = [\"!@#$%^&*(){}\"]\n",
        "\n",
        "def generate(text_list, attention_list, latex_file, color='red', rescale_value = False):\n",
        "\tassert(len(text_list) == len(attention_list))\n",
        "\tif rescale_value:\n",
        "\t\tattention_list = rescale(attention_list)\n",
        "\tword_num = len(text_list)\n",
        "\ttext_list = clean_word(text_list)\n",
        "\twith open(latex_file,'w') as f:\n",
        "\t\tf.write(r'''\\documentclass[varwidth]{standalone}\n",
        "\\special{papersize=210mm,297mm}\n",
        "\\usepackage{color}\n",
        "\\usepackage{tcolorbox}\n",
        "\\usepackage{CJK}\n",
        "\\usepackage{adjustbox}\n",
        "\\tcbset{width=0.9\\textwidth,boxrule=0pt,colback=red,arc=0pt,auto outer arc,left=0pt,right=0pt,boxsep=5pt}\n",
        "\\begin{document}\n",
        "\\begin{CJK*}{UTF8}{gbsn}'''+'\\n')\n",
        "\t\tstring = r'''{\\setlength{\\fboxsep}{0pt}\\colorbox{white!0}{\\parbox{0.9\\textwidth}{'''+\"\\n\"\n",
        "\t\tfor idx in range(word_num):\n",
        "\t\t\tstring += \"\\\\colorbox{%s!%s}{\"%(color, attention_list[idx])+\"\\\\strut \" + text_list[idx]+\"} \"\n",
        "\t\tstring += \"\\n}}}\"\n",
        "\t\tf.write(string+'\\n')\n",
        "\t\tf.write(r'''\\end{CJK*}\n",
        "\\end{document}''')\n",
        "\n",
        "def rescale(input_list):\n",
        "\tthe_array = np.asarray(input_list)\n",
        "\tthe_max = np.max(the_array)\n",
        "\tthe_min = np.min(the_array)\n",
        "\trescale = (the_array - the_min)/(the_max-the_min)*100\n",
        "\treturn rescale.tolist()\n",
        "\n",
        "\n",
        "def clean_word(word_list):\n",
        "\tnew_word_list = []\n",
        "\tfor word in word_list:\n",
        "\t\tfor latex_sensitive in [\"\\\\\", \"%\", \"&\", \"^\", \"#\", \"_\",  \"{\", \"}\"]:\n",
        "\t\t\tif latex_sensitive in word:\n",
        "\t\t\t\tword = word.replace(latex_sensitive, '\\\\'+latex_sensitive)\n",
        "\t\tnew_word_list.append(word)\n",
        "\treturn new_word_list"
      ],
      "metadata": {
        "id": "FCsAm5i3jmKA"
      },
      "id": "FCsAm5i3jmKA",
      "execution_count": 70,
      "outputs": []
    },
    {
      "cell_type": "code",
      "source": [
        "def normalize(data):\n",
        "    return (data - np.min(data)) / (np.max(data) - np.min(data))"
      ],
      "metadata": {
        "id": "FV8g7ChBrJPs"
      },
      "id": "FV8g7ChBrJPs",
      "execution_count": 71,
      "outputs": []
    },
    {
      "cell_type": "code",
      "source": [
        "def find_top_attention(scores_mat, k):\n",
        "  indices = scores_mat.argsort(axis=3)[:, :, :, :-(k+1):-1]\n",
        "  vals = np.take_along_axis(scores_mat, indices, axis=3)\n",
        "  return indices, vals"
      ],
      "metadata": {
        "id": "h6nLRpgBltnk"
      },
      "id": "h6nLRpgBltnk",
      "execution_count": 72,
      "outputs": []
    },
    {
      "cell_type": "code",
      "source": [
        "print(all_tokens)\n",
        "average_attention = attention_matrix_importance.squeeze().sum(axis=1)\n",
        "average_attention = average_attention.sum(axis=0)\n",
        "average_attention = normalize(average_attention)"
      ],
      "metadata": {
        "id": "goaO9arYjopz",
        "colab": {
          "base_uri": "https://localhost:8080/"
        },
        "outputId": "35fc7b5e-0c8b-4234-b8ad-49ec4c47a655"
      },
      "id": "goaO9arYjopz",
      "execution_count": 73,
      "outputs": [
        {
          "output_type": "stream",
          "name": "stdout",
          "text": [
            "['<s>', 'In', 'ĠNetwork', 'Ġand', 'ĠDist', 'ributed', 'ĠSystems', 'ĠSecurity', 'ĠSym', 'posium', 'Ġ(', 'N', 'DS', 'S', ')', 'Ġ2018', ',', 'ĠSan', 'ĠDiego', ',', 'ĠFebruary', 'Ġ2018', 'Ġ', 'ĠKits', 'une', ':', 'ĠAn', 'ĠEn', 'semble', 'Ġof', 'ĠAut', 'oen', 'cod', 'ers', 'Ġfor', 'ĠOnline', 'ĠNetwork', 'ĠInt', 'r', 'usion', 'ĠDetection', 'ĠY', 'is', 'ro', 'el', 'ĠMir', 'sky', ',', 'ĠTom', 'er', 'ĠDo', 'its', 'h', 'man', ',', 'ĠYu', 'val', 'ĠEl', 'ovic', 'i', 'Ġand', 'ĠAs', 'af', 'ĠSh', 'ab', 't', 'ai', 'Ġ', 'Ġar', 'X', 'iv', ':', '18', '02', '.', '09', '089', 'v', '1', 'Ġ[', 'cs', '.', 'CR', ']', 'Ġ25', 'ĠFeb', 'Ġ2018', 'Ġ', 'ĠBen', '-', 'G', 'urion', 'ĠUniversity', 'Ġof', 'Ġthe', 'ĠNe', 'ge', 'v', 'Ġ{', 'y', 'is', 'ro', 'el', ',', 'Ġto', 'mer', 'doi', '}', '@', 'post', '.', 'b', 'gu', '.', 'ac', '.', 'il', ',', 'Ġ{', 'el', 'ovic', 'i', ',', 'Ġsh', 'ab', 'ta', 'ia', '}', '@', 'b', 'gu', '.', 'ac', '.', 'il', 'ĠAbstract', 'âĢĶ', 'Ne', 'ural', 'Ġnetworks', 'Ġhave', 'Ġbecome', 'Ġan', 'Ġincreasingly', 'Ġpopular', 'Ġsolution', 'Ġfor', 'Ġnetwork', 'Ġintrusion', 'Ġdetection', 'Ġsystems', 'Ġ(', 'N', 'IDS', ').', 'ĠTheir', 'Ġcapability', 'Ġof', 'Ġlearning', 'Ġcomplex', 'Ġpatterns', 'Ġand', 'Ġbehaviors', 'Ġmake', 'Ġthem', 'Ġa', 'Ġsuitable', 'Ġsolution', 'Ġfor', 'Ġdifferent', 'iating', 'Ġbetween', 'Ġnormal', 'Ġtraffic', 'Ġand', 'Ġnetwork', 'Ġattacks', '.', 'ĠHowever', ',', 'Ġa', 'Ġdrawback', 'Ġof', 'Ġneural', 'Ġnetworks', 'Ġis', 'Ġthe', 'Ġamount', 'Ġof', 'Ġresources', 'Ġneeded', 'Ġto', 'Ġtrain', 'Ġthem', '.', 'ĠMany', 'Ġnetwork', 'Ġgate', 'ways', 'Ġand', 'Ġrouters', 'Ġdevices', ',', 'Ġwhich', 'Ġcould', 'Ġpotentially', 'Ġhost', 'Ġan', 'ĠN', 'IDS', ',', 'Ġsimply', 'Ġdo', 'Ġnot', 'Ġhave', 'Ġthe', 'Ġmemory', 'Ġor', 'Ġprocessing', 'Ġpower', 'Ġto', 'Ġtrain', 'Ġand', 'Ġsometimes', 'Ġeven', 'Ġexecute', 'Ġsuch', 'Ġmodels', '.', 'ĠMore', 'Ġimportantly', ',', 'Ġthe', 'Ġexisting', 'Ġneural', 'Ġnetwork', 'Ġsolutions', 'Ġare', 'Ġtrained', 'Ġin', 'Ġa', 'Ġsupervised', 'Ġmanner', '.', 'ĠMeaning', 'Ġthat', 'Ġan', 'Ġexpert', 'Ġmust', 'Ġlabel', 'Ġthe', 'Ġnetwork', 'Ġtraffic', 'Ġand', 'Ġupdate', 'Ġthe', 'Ġmodel', 'Ġmanually', 'Ġfrom', 'Ġtime', 'Ġto', 'Ġtime', '.', 'ĠIn', 'Ġthis', 'Ġpaper', ',', 'Ġwe', 'Ġpresent', 'ĠKits', 'une', ':', 'Ġa', 'Ġplug', 'Ġand', 'Ġplay', 'ĠN', 'IDS', 'Ġwhich', 'Ġcan', 'Ġlearn', 'Ġto', 'Ġdetect', 'Ġattacks', 'Ġon', 'Ġthe', 'Ġlocal', 'Ġnetwork', ',', 'Ġwithout', 'Ġsupervision', ',', 'Ġand', 'Ġin', 'Ġan', 'Ġefficient', 'Ġonline', 'Ġmanner', '.', 'ĠKits', 'une', 'âĢ', 'Ļ', 's', 'Ġcore', 'Ġalgorithm', 'Ġ(', 'Kit', 'NET', ')', 'Ġuses', 'Ġan', 'Ġensemble', 'Ġof', 'Ġneural', 'Ġnetworks', 'Ġcalled', 'Ġaut', 'oen', 'cod', 'ers', 'Ġto', 'Ġcollectively', 'Ġdifferentiate', 'Ġbetween', 'Ġnormal', 'Ġand', 'Ġabnormal', 'Ġtraffic', 'Ġpatterns', '.', 'ĠKit', 'NET', 'Ġis', 'Ġsupported', 'Ġby', 'Ġa', 'Ġfeature', 'Ġextraction', 'Ġframework', 'Ġwhich', 'Ġefficiently', 'Ġtracks', 'Ġthe', 'Ġpatterns', 'Ġof', 'Ġevery', 'Ġnetwork', 'Ġchannel', '.', 'ĠOur', 'Ġevaluations', 'Ġshow', 'Ġthat', 'ĠKits', 'une', 'Ġcan', 'Ġdetect', 'Ġvarious', 'Ġattacks', 'Ġwith', 'Ġa', 'Ġperformance', 'Ġcomparable', 'Ġto', 'Ġoffline', 'Ġanomaly', 'Ġdetectors', ',', 'Ġeven', 'Ġon', 'Ġa', 'ĠRaspberry', 'ĠPI', '.', 'ĠThis', 'Ġdemonstrates', 'Ġthat', 'ĠKits', 'une', 'Ġcan', 'Ġbe', 'Ġa', 'Ġpractical', 'Ġand', 'Ġeconomic', 'ĠN', 'IDS', '.', 'ĠKey', 'words', 'âĢĶ', 'An', 'omaly', 'Ġdetection', ',', 'Ġnetwork', 'Ġintrusion', 'Ġdetection', ',', 'Ġonline', 'Ġalgorithms', ',', 'Ġaut', 'oen', 'cod', 'ers', ',', 'Ġensemble', 'Ġlearning', '.', 'Ġ', 'ĠI', '.', 'Ġ', 'ĠI', 'ĠN', 'TR', 'ODUCT', 'ION', 'Ġ', 'ĠThe', 'Ġnumber', 'Ġof', 'Ġattacks', 'Ġon', 'Ġcomputer', 'Ġnetworks', 'Ġhas', 'Ġbeen', 'Ġincreasing', 'Ġover', 'Ġthe', 'Ġyears', 'Ġ[', '1', '].', 'ĠA', 'Ġcommon', 'Ġsecurity', 'Ġsystem', 'Ġused', 'Ġto', 'Ġsecure', 'Ġnetworks', 'Ġis', 'Ġa', 'Ġnetwork', 'Ġintrusion', 'Ġdetection', 'Ġsystem', 'Ġ(', 'N', 'IDS', ').', 'ĠAn', 'ĠN', 'IDS', 'Ġis', 'Ġa', 'Ġdevice', 'Ġor', 'Ġsoftware', 'Ġwhich', 'Ġmonitors', 'Ġall', 'Ġtraffic', 'Ġpassing', 'Ġa', 'Ġstrategic', 'Ġpoint', 'Ġfor', 'Ġmalicious', 'Ġactivities', '.', 'ĠWhen', 'Ġsuch', 'Ġan', 'Ġactivity', 'Ġis', 'Ġdetected', ',', 'Ġan', 'Ġalert', 'Ġis', 'Ġgenerated', ',', 'Ġand', 'Ġsent', 'Ġto', 'Ġthe', 'Ġadministrator', '.', 'ĠConvention', 'ally', 'Ġan', 'ĠN', 'IDS', 'Ġis', 'Ġdeployed', 'Ġat', 'Ġa', 'Ġsingle', 'Ġpoint', ',', 'Ġfor', 'Ġexample', ',', 'Ġat', 'Ġthe', 'ĠInternet', 'Ġgateway', '.', 'ĠThis', 'Ġpoint', 'Ġdeployment', 'Ġstrategy', 'Ġcan', 'Ġdetect', 'Ġmalicious', 'Ġtraffic', 'Ġentering', 'Ġand', 'Ġleaving', 'Ġthe', 'Ġnetwork', ',', 'Ġbut', 'Ġnot', 'Ġmalicious', 'Ġtraffic', 'Ġtravers', 'ing', 'Ġthe', 'Ġnetwork', 'Ġitself', '.', 'ĠTo', 'Ġresolve', 'Ġthis', 'Ġissue', ',', 'Ġa', 'Ġdistributed', 'Ġdeployment', 'Ġstrategy', 'Ġcan', 'Ġbe', 'Ġused', ',', 'Ġwhere', 'Ġa', 'Ġnumber', 'Ġof', 'ĠN', 'IDS', 's', 'Ġare', 'Ġbe', 'Ġconnected', 'Ġto', 'Ġa', 'Ġset', 'Ġof', 'Ġstrategic', 'Ġrouters', 'Ġand', 'Ġgate', 'ways', 'Ġwithin', 'Ġthe', 'Ġnetwork', '.', 'ĠPer', 'mission', 'Ġto', 'Ġfreely', 'Ġreproduce', 'Ġall', 'Ġor', 'Ġpart', 'Ġof', 'Ġthis', 'Ġpaper', 'Ġfor', 'Ġnon', 'commercial', 'Ġpurposes', 'Ġis', 'Ġgranted', 'Ġprovided', 'Ġthat', 'Ġcopies', 'Ġbear', 'Ġthis', 'Ġnotice', 'Ġand', 'Ġthe', 'Ġfull', 'Ġcitation', 'Ġon', 'Ġthe', 'Ġfirst', 'Ġpage', '.', 'ĠReprodu', 'ction', 'Ġfor', 'Ġcommercial', 'Ġpurposes', 'Ġis', 'Ġstrictly', 'Ġprohibited', 'Ġwithout', 'Ġthe', 'Ġprior', 'Ġwritten', 'Ġconsent', 'Ġof', 'Ġthe', 'ĠInternet', 'ĠSociety', ',', 'Ġthe', 'Ġfirst', '-', 'named', 'Ġauthor', 'Ġ(', 'for', 'Ġreproduction', 'Ġof', 'Ġan', 'Ġentire', 'Ġpaper', 'Ġonly', '),', 'Ġand', 'Ġthe', 'Ġauthor', 'âĢ', 'Ļ', 's', 'Ġemployer', 'Ġif', 'Ġthe', 'Ġpaper', 'Ġwas', 'Ġprepared', 'Ġwithin', 'Ġthe', 'Ġscope', 'Ġof', 'Ġemployment', '.', 'ĠN', 'DS', 'S', 'ĠâĢ', 'Ļ', '18', ',', 'Ġ18', '-', '21', 'ĠFebruary', 'Ġ2018', ',', 'ĠSan', 'ĠDiego', ',', 'ĠCA', ',', 'ĠUSA', 'ĠCopyright', 'Ġ2018', 'ĠInternet', 'ĠSociety', ',', 'ĠISBN', 'Ġ1', '-', '189', '15', '62', '-', '49', '-', '5', 'Ġhttp', '://', 'dx', '.', 'doi', '.', 'org', '/', '10', '.', '147', '22', '/', 'nd', 'ss', '.', '2018', '.', '23', '204', 'Ġ', 'ĠOver', 'Ġthe', 'Ġlast', 'Ġdecade', 'Ġmany', 'Ġmachine', 'Ġlearning', 'Ġtechniques', 'Ġhave', 'Ġbeen', 'Ġproposed', 'Ġto', 'Ġimprove', 'Ġdetection', 'Ġperformance', 'Ġ[', '2', '],', 'Ġ[', '3', '],', 'Ġ[', '4', '].', 'ĠOne', 'Ġpopular', 'Ġapproach', 'Ġis', 'Ġto', 'Ġuse', 'Ġan', 'Ġartificial', 'Ġneural', 'Ġnetwork', 'Ġ(', 'ANN', ')', 'Ġto', 'Ġperform', 'Ġthe', 'Ġnetwork', 'Ġtraffic', 'Ġinspection', '.', 'ĠThe', 'Ġbenefit', 'Ġof', 'Ġusing', 'Ġan', 'ĠANN', 'Ġis', 'Ġthat', 'ĠANN', 's', 'Ġare', 'Ġgood', 'Ġat', 'Ġlearning', 'Ġcomplex', 'Ġnon', '-', 'linear', 'Ġconcepts', 'Ġin', 'Ġthe', 'Ġinput', 'Ġdata', '.', 'ĠThis', 'Ġgives', 'ĠANN', 's', 'Ġa', 'Ġgreat', 'Ġadvantage', 'Ġin', 'Ġdetection', 'Ġperformance', 'Ġwith', 'Ġrespect', 'Ġto', 'Ġother', 'Ġmachine', 'Ġlearning', 'Ġalgorithms', 'Ġ[', '5', '],', 'Ġ[', '2', '].', 'ĠThe', 'Ġprevalent', 'Ġapproach', 'Ġto', 'Ġusing', 'Ġan', 'ĠANN', 'Ġas', 'Ġan', 'ĠN', 'IDS', 'Ġis', 'Ġto', 'Ġtrain', 'Ġit', 'Ġto', 'Ġclassify', 'Ġnetwork', 'Ġtraffic', 'Ġas', 'Ġbeing', 'Ġeither', 'Ġnormal', 'Ġor', 'Ġsome', 'Ġclass', 'Ġof', 'Ġattack', 'Ġ[', '6', '],', 'Ġ[', '7', '],', 'Ġ[', '8', '].', 'ĠThe', 'Ġfollowing', 'Ġshows', 'Ġthe', 'Ġtypical', 'Ġapproach', 'Ġto', 'Ġusing', 'Ġan', 'ĠANN', '-', 'based', 'Ġclass', 'ifier', 'Ġin', 'Ġa', 'Ġpoint', 'Ġdeployment', 'Ġstrategy', ':', 'Ġ1', ')', 'ĠHave', 'Ġan', 'Ġexpert', 'Ġcollect', 'Ġa', 'Ġdataset', 'Ġcontaining', 'Ġboth', 'Ġnormal', 'Ġtraffic', 'Ġand', 'Ġnetwork', 'Ġattacks', '.', 'Ġ2', ')', 'ĠTrain', 'Ġthe', 'ĠANN', 'Ġto', 'Ġclassify', 'Ġthe', 'Ġdifference', 'Ġbetween', 'Ġnormal', 'Ġand', 'Ġattack', 'Ġtraffic', ',', 'Ġusing', 'Ġa', 'Ġstrong', 'ĠCPU', 'Ġor', 'ĠGPU', '.', 'Ġ3', ')', 'ĠTransfer', 'Ġa', 'Ġcopy', 'Ġof', 'Ġthe', 'Ġtrained', 'Ġmodel', 'Ġto', 'Ġthe', 'Ġnetwork', '/', 'organ', 'ization', 'âĢ', 'Ļ', 's', 'ĠN', 'IDS', '.', 'Ġ4', ')', 'ĠHave', 'Ġthe', 'ĠN', 'IDS', 'Ġexecute', 'Ġthe', 'Ġtrained', 'Ġmodel', 'Ġon', 'Ġthe', 'Ġobserved', 'Ġnetwork', 'Ġtraffic', '.', 'ĠIn', 'Ġgeneral', ',', 'Ġa', 'Ġdistributed', 'Ġdeployment', 'Ġstrategy', 'Ġis', 'Ġonly', 'Ġpractical', 'Ġif', 'Ġthe', 'Ġnumber', 'Ġof', 'ĠN', 'IDS', 's', 'Ġcan', 'Ġeconomically', 'Ġscale', 'Ġaccording', 'Ġto', 'Ġthe', 'Ġsize', 'Ġof', 'Ġthe', 'Ġnetwork', '.', 'ĠOne', 'Ġapproach', 'Ġto', 'Ġachieve', 'Ġthis', 'Ġgoal', 'Ġis', 'Ġto', 'Ġembed', 'Ġthe', 'ĠN', 'IDS', 's', 'Ġdirectly', 'Ġinto', 'Ġinexpensive', 'Ġrouters', 'Ġ(', 'i', '.', 'e', '.,', 'Ġwith', 'Ġsimple', 'Ġhardware', ').', 'ĠWe', 'Ġargue', 'Ġthat', 'Ġit', 'Ġis', 'Ġimpractical', 'Ġto', 'Ġuse', 'ĠANN', '-', 'based', 'Ġclass', 'ifiers', 'Ġwith', 'Ġthis', 'Ġapproach', 'Ġfor', 'Ġseveral', 'Ġreasons', ':', 'ĠOffline', 'ĠProcessing', '.', 'ĠIn', 'Ġorder', 'Ġto', 'Ġtrain', 'Ġa', 'Ġsupervised', 'Ġmodel', ',', 'Ġall', 'Ġlabeled', 'Ġinstances', 'Ġmust', 'Ġbe', 'Ġavailable', 'Ġlocally', '.', 'ĠThis', 'Ġis', 'Ġinf', 'eas', 'ible', 'Ġon', 'Ġa', 'Ġsimple', 'Ġnetwork', 'Ġgateway', 'Ġsince', 'Ġa', 'Ġsingle', 'Ġhour', 'Ġof', 'Ġtraffic', 'Ġmay', 'Ġcontain', 'Ġmillions', 'Ġof', 'Ġpackets', '.', 'ĠSome', 'Ġworks', 'Ġpropose', 'Ġoff', 'loading', 'Ġthe', 'Ġdata', 'Ġto', 'Ġa', 'Ġremote', 'Ġserver', 'Ġfor', 'Ġmodel', 'Ġtraining', 'Ġ[', '9', ']', 'Ġ[', '3', '].', 'ĠHowever', ',', 'Ġthis', 'Ġsolution', 'Ġmay', 'Ġincur', 'Ġsignificant', 'Ġnetwork', 'Ġoverhead', ',', 'Ġand', 'Ġdoes', 'Ġnot', 'Ġscale', '.', 'ĠSuper', 'vised', 'ĠLearning', '.', 'ĠThe', 'Ġlabeling', 'Ġprocess', 'Ġtakes', 'Ġtime', 'Ġand', 'Ġis', 'Ġexpensive', '.', 'ĠMore', 'Ġimportantly', ',', 'Ġwhat', 'Ġis', 'Ġconsidered', 'Ġto', 'Ġbe', 'Ġnormal', 'Ġdepends', 'Ġon', 'Ġthe', 'Ġlocal', 'Ġtraffic', 'Ġobserved', 'Ġby', 'Ġthe', 'ĠN', 'IDS', '.', 'ĠFurthermore', ',', 'Ġin', 'Ġattacks', 'Ġchange', 'Ġovertime', 'Ġand', 'Ġwhile', 'Ġnew', 'Ġones', 'Ġare', 'Ġconstantly', 'Ġbeing', 'Ġdiscovered', 'Ġ[', '10', '],', 'Ġso', 'Ġcontinuous', 'Ġmaintain', 'able', 'Ġof', 'Ġa', 'Ġmalicious', 'Ġattack', 'Ġtraffic', 'Ġrepository', 'Ġmay', 'Ġbe', 'Ġimpractical', '.', 'ĠFinally', ',', 'Ġclassification', 'Ġis', 'Ġa', 'Ġclosed', '-', 'world', 'Ġapproach', 'Ġto', 'Ġidentifying', 'Ġconcepts', '.', 'ĠIn', 'Ġother', 'Ġwords', ',', 'Ġa', 'Ġclass', 'ifier', 'Ġis', 'Ġtrained', 'Ġto', 'Ġidentify', 'Ġthe', 'Ġclasses', 'Ġprovided', 'Ġin', 'Ġthe', 'Ġtraining', 'Ġset', '.', 'ĠHowever', ',', 'Ġit', 'Ġis', 'Ġunreasonable', 'Ġto', 'Ġassume', 'Ġthat', 'Ġall', 'Ġpossible', 'Ġclasses', 'Ġof', 'Ġmalicious', 'Ġtraffic', 'Ġcan', 'Ġbe', 'Ġcollected', 'Ġand', 'Ġplaced', 'Ġin', 'Ġthe', 'Ġtraining', 'Ġdata', '.', 'ĠHigh', 'ĠComplex', 'ity', '.', 'ĠThe', 'Ġcomputational', 'Ġcomplexity', 'Ġof', 'Ġan', 'ĠANN', 'Ġ', 'Ġ', 'Č', 'Output', 'ĠLayer', 'Ġ', 'ĠEn', 'semble', 'ĠLayer', 'ĠMap', 'Ġ', 'Ġscore', 'Ġ', 'ĠRM', 'SE', 'Ġ', 'ĠâĢ¦', 'Ġ', 'ĠRM', 'SE', 'ĠRM', 'SE', 'ĠRM', 'SE', 'ĠRM', 'SE', 'Ġ', 'ĠRM', 'SE', 'ĠRM', 'SE', 'ĠRM', 'SE', 'Ġ', 'ĠThe', 'Ġreason', 'Ġwe', 'Ġuse', 'Ġaut', 'oen', 'cod', 'ers', 'Ġis', 'Ġbecause', 'Ġ(', '1', ')', 'Ġthey', 'Ġcan', 'Ġtrained', 'Ġin', 'Ġan', 'Ġun', 'super', 'vised', 'Ġmanner', ',', 'Ġand', 'Ġ(', '2', ')', 'Ġthey', 'Ġcan', 'Ġbe', 'Ġused', 'Ġfor', 'Ġanomaly', 'Ġdetection', 'Ġin', 'Ġthe', 'Ġevent', 'Ġof', 'Ġa', 'Ġpoor', 'Ġreconstruction', '.', 'ĠThe', 'Ġreason', 'Ġwe', 'Ġpropose', 'Ġusing', 'Ġan', 'Ġensemble', 'Ġof', 'Ġsmall', 'Ġaut', 'oen', 'cod', 'ers', ',', 'Ġis', 'Ġbecause', 'Ġthey', 'Ġare', 'Ġmore', 'Ġefficient', 'Ġand', 'Ġcan', 'Ġbe', 'Ġless', 'Ġno', 'is', 'ier', 'Ġthan', 'Ġa', 'Ġsingle', 'Ġaut', 'oen', 'c', 'oder', 'Ġover', 'Ġthe', 'Ġsame', 'Ġfeature', 'Ġspace', '.', 'ĠFrom', 'Ġour', 'Ġexperiments', ',', 'Ġwe', 'Ġfound', 'Ġthat', 'ĠKits', 'une', 'Ġcan', 'Ġincrease', 'Ġthe', 'Ġpacket', 'Ġprocessing', 'Ġrate', 'Ġby', 'Ġa', 'Ġfactor', 'Ġof', 'Ġfive', ',', 'Ġand', 'Ġprovide', 'Ġa', 'Ġdetection', 'Ġperformance', 'Ġwhich', 'Ġrivals', 'Ġother', 'Ġan', 'Ġoffline', 'Ġ(', 'batch', ')', 'Ġanomaly', 'Ġdetectors', '.', 'ĠIn', 'Ġsummary', ',', 'Ġthe', 'Ġcontributions', 'Ġof', 'Ġthis', 'Ġpaper', 'Ġas', 'Ġfollows', ':', 'ĠâĢ¢', 'ĠA', 'Ġnovel', 'Ġaut', 'oen', 'c', 'oder', '-', 'based', 'ĠN', 'IDS', 'Ġfor', 'Ġsimple', 'Ġnetwork', 'Ġdevices', 'Ġ(', 'K', 'its', 'une', '),', 'Ġwhich', 'Ġis', 'Ġlightweight', 'Ġand', 'Ġplug', '-', 'and', '-', 'play', '.', 'ĠTo', 'Ġthe', 'Ġbest', 'Ġof', 'Ġour', 'Ġknowledge', ',', 'Ġwe', 'Ġare', 'Ġthe', 'Ġfirst', 'Ġto', 'Ġpropose', 'Ġthe', 'Ġuse', 'Ġof', 'Ġaut', 'oen', 'cod', 'ers', 'Ġwith', 'Ġor', 'Ġwithout', 'Ġen', 'semb', 'les', 'Ġfor', 'Ġonline', 'Ġanomaly', 'Ġdetection', 'Ġin', 'Ġcomputer', 'Ġnetworks', '.', 'ĠWe', 'Ġalso', 'Ġpresent', 'Ġthe', 'Ġcore', 'Ġalgorithm', 'Ġ(', 'Kit', 'NET', ')', 'Ġas', 'Ġa', 'Ġgeneric', 'Ġonline', 'Ġun', 'super', 'vised', 'Ġanomaly', 'Ġdetection', 'Ġalgorithm', ',', 'Ġand', 'Ġprovide', 'Ġthe', 'Ġsource', 'Ġcode', 'Ġfor', 'Ġdownload', '.', '1', 'ĠâĢ¢', 'ĠA', 'Ġfeature', 'Ġextraction', 'Ġframework', 'Ġfor', 'Ġdynamically', 'Ġmaintaining', 'Ġand', 'Ġextracting', 'Ġimplicit', 'Ġcontextual', 'Ġfeatures', 'Ġfrom', 'Ġnetwork', 'Ġtraffic', '.', 'ĠThe', 'Ġframework', 'Ġhas', 'Ġa', 'Ġsmall', 'Ġmemory', 'Ġfootprint', 'Ġsince', 'Ġthe', 'Ġstatistics', 'Ġare', 'Ġupdated', 'Ġincrement', 'ally', 'Ġover', 'Ġd', 'amped', 'Ġwindows', '.', 'ĠâĢ¢', 'ĠAn', 'Ġonline', 'Ġtechnique', 'Ġfor', 'Ġautomatically', 'Ġconstructing', 'Ġthe', 'Ġensemble', 'Ġof', 'Ġaut', 'oen', 'cod', 'ers', 'Ġ(', 'i', '.', 'e', '.,', 'Ġmapping', 'Ġfeatures', 'Ġto', 'ĠANN', 'Ġinputs', ')', 'Ġin', 'Ġan', 'Ġun', 'super', 'vised', 'Ġmanner', '.', 'ĠThe', 'Ġmethod', 'Ġinvolves', 'Ġthe', 'Ġincremental', 'Ġhierarch', 'al', 'Ġclust', 'ering', 'Ġof', 'Ġthe', 'Ġfeature', '-', 'space', 'Ġ(', 'trans', 'pose', 'Ġof', 'Ġthe', 'Ġunb', 'ounded', 'Ġdataset', '),', 'Ġand', 'Ġbound', 'ing', 'Ġof', 'Ġcluster', 'Ġsizes', '.', 'ĠâĢ¢', 'ĠExperimental', 'Ġresults', 'Ġon', 'Ġan', 'Ġoperational', 'ĠIP', 'Ġcamera', 'Ġvideo', 'Ġsurveillance', 'Ġnetwork', ',', 'ĠIoT', 'Ġnetwork', ',', 'Ġand', 'Ġa', 'Ġwide', 'Ġvariety', 'Ġof', 'Ġattacks', '.', 'ĠWe', 'Ġalso', 'Ġdemonstrate', 'Ġthe', 'Ġalgorithm', 'âĢ', 'Ļ', 's', 'Ġefficiency', ',', 'Ġand', 'Ġability', 'Ġto', 'Ġrun', 'Ġon', 'Ġa', 'Ġsimple', 'Ġrouter', ',', 'Ġby', 'Ġperforming', 'Ġbenchmarks', 'Ġon', 'Ġa', 'ĠRaspberry', 'ĠPI', '.', 'Ġ', 'ĠFig', '.', 'Ġ1', ':', 'ĠAn', 'Ġillustration', 'Ġof', 'ĠKits', 'une', 'âĢ', 'Ļ', 's', 'Ġanomaly', 'Ġdetection', 'Ġalgorithm', 'ĠKit', 'NET', '.', 'Ġgrows', 'Ġexponentially', 'Ġwith', 'Ġnumber', 'Ġof', 'Ġneurons', 'Ġ[', '11', '].', 'ĠThis', 'Ġmeans', 'Ġthat', 'Ġan', 'ĠANN', 'Ġwhich', 'Ġis', 'Ġdeployed', 'Ġon', 'Ġa', 'Ġsimple', 'Ġnetwork', 'Ġgateway', ',', 'Ġis', 'Ġrestricted', 'Ġin', 'Ġterms', 'Ġof', 'Ġits', 'Ġarchitecture', 'Ġand', 'Ġnumber', 'Ġof', 'Ġinput', 'Ġfeatures', 'Ġwhich', 'Ġit', 'Ġcan', 'Ġuse', '.', 'ĠThis', 'Ġis', 'Ġespecially', 'Ġproblematic', 'Ġon', 'Ġgate', 'ways', 'Ġwhich', 'Ġhandle', 'Ġhigh', 'Ġvelocity', 'Ġtraffic', '.', 'ĠIn', 'Ġlight', 'Ġof', 'Ġthe', 'Ġchallenges', 'Ġlisted', 'Ġabove', ',', 'Ġwe', 'Ġsuggest', 'Ġthat', 'Ġthe', 'Ġdevelopment', 'Ġof', 'Ġan', 'ĠANN', '-', 'based', 'Ġnetwork', 'Ġintrusion', 'Ġdetector', ',', 'Ġwhich', 'Ġis', 'Ġto', 'Ġbe', 'Ġdeployed', 'Ġand', 'Ġtrained', 'Ġon', 'Ġrouters', 'Ġin', 'Ġa', 'Ġdistributed', 'Ġmanner', ',', 'Ġshould', 'Ġadhere', 'Ġto', 'Ġthe', 'Ġfollowing', 'Ġrestrictions', ':', 'ĠOnline', 'ĠProcessing', '.', 'ĠAfter', 'Ġthe', 'Ġtraining', 'Ġor', 'Ġexecuting', 'Ġthe', 'Ġmodel', 'Ġwith', 'Ġan', 'Ġinstance', ',', 'Ġthe', 'Ġinstance', 'Ġis', 'Ġimmediately', 'Ġdiscarded', '.', 'ĠIn', 'Ġpractice', ',', 'Ġa', 'Ġsmall', 'Ġnumber', 'Ġof', 'Ġinstances', 'Ġcan', 'Ġbe', 'Ġstored', 'Ġat', 'Ġany', 'Ġgiven', 'Ġtime', ',', 'Ġas', 'Ġdone', 'Ġin', 'Ġstream', 'Ġclust', 'ering', 'Ġ[', '12', '].', 'ĠUn', 'super', 'vised', 'ĠLearning', '.', 'ĠLab', 'els', ',', 'Ġwhich', 'Ġindicate', 'Ġexplicitly', 'Ġwhether', 'Ġa', 'Ġpacket', 'Ġis', 'Ġmalicious', 'Ġor', 'Ġbenign', ',', 'Ġare', 'Ġnot', 'Ġused', 'Ġin', 'Ġthe', 'Ġtraining', 'Ġprocess', '.', 'ĠOther', 'Ġmeta', 'Ġinformation', 'Ġcan', 'Ġbe', 'Ġused', 'Ġso', 'Ġlong', 'Ġas', 'Ġacquiring', 'Ġthe', 'Ġinformation', 'Ġdoes', 'Ġnot', 'Ġdelay', 'Ġthe', 'Ġprocess', '.', 'ĠLow', 'ĠComplex', 'ity', '.', 'ĠThe', 'Ġpacket', 'Ġprocessing', 'Ġrate', 'Ġmust', 'Ġexceed', 'Ġthe', 'Ġexpected', 'Ġmaximum', 'Ġpacket', 'Ġarrival', 'Ġrate', '.', 'ĠIn', 'Ġother', 'Ġwords', ',', 'Ġwe', 'Ġmust', 'Ġensure', 'Ġthat', 'Ġthere', 'Ġis', 'Ġno', 'Ġqueue', 'Ġof', 'Ġpackets', 'Ġawaiting', 'Ġto', 'Ġbe', 'Ġprocessed', 'Ġby', 'Ġthe', 'Ġmodel', '.', 'Ġ', 'ĠThe', 'Ġrest', 'Ġof', 'Ġthe', 'Ġpaper', 'Ġis', 'Ġorganized', 'Ġas', 'Ġfollows', ':', 'ĠSection', 'ĠII', 'Ġdiscusses', 'Ġrelated', 'Ġwork', 'Ġin', 'Ġthe', 'Ġdomain', 'Ġof', 'Ġonline', 'Ġanomaly', 'Ġdetection', '.', 'ĠSection', 'ĠIII', 'Ġprovide', 'Ġa', 'Ġbackground', 'Ġon', 'Ġaut', 'oen', 'cod', 'ers', 'Ġand', 'Ġhow', 'Ġthey', 'Ġwork', '.', 'ĠSection', 'ĠIV', 'Ġpresents', 'ĠKits', 'une', 'âĢ', 'Ļ', 's', 'Ġframework', 'Ġand', 'Ġit', 'âĢ', 'Ļ', 's', 'Ġentire', 'Ġmachine', 'Ġlearning', 'Ġpipeline', '.', 'ĠSection', 'ĠV', 'Ġpresents', 'Ġexperimental', 'Ġresults', 'Ġin', 'Ġterms', 'Ġof', 'Ġdetection', 'Ġperformance', 'Ġand', 'Ġrun', '-', 'time', 'Ġperformance', '.', 'ĠFinally', ',', 'Ġin', 'Ġsection', 'ĠVII', 'Ġwe', 'Ġpresent', 'Ġour', 'Ġconclusion', '.', 'Ġ', 'ĠIn', 'Ġthis', 'Ġpaper', ',', 'Ġwe', 'Ġpresent', 'ĠKits', 'une', ':', 'Ġa', 'Ġnovel', 'ĠANN', '-', 'based', 'ĠN', 'IDS', 'Ġwhich', 'Ġis', 'Ġonline', ',', 'Ġun', 'super', 'vised', ',', 'Ġand', 'Ġefficient', '.', 'ĠA', 'ĠKits', 'une', ',', 'Ġin', 'ĠJapanese', 'Ġfolklore', ',', 'Ġis', 'Ġa', 'Ġmythical', 'Ġfox', '-', 'like', 'Ġcreature', 'Ġthat', 'Ġhas', 'Ġa', 'Ġnumber', 'Ġof', 'Ġtails', ',', 'Ġcan', 'Ġmimic', 'Ġdifferent', 'Ġforms', ',', 'Ġand', 'Ġwhose', 'Ġstrength', 'Ġincreases', 'Ġwith', 'Ġexperience', '.', 'ĠSimilarly', ',', 'ĠKits', 'une', 'Ġhas', 'Ġan', 'Ġensemble', 'Ġof', 'Ġsmall', 'Ġneural', 'Ġnetworks', 'Ġ(', 'aut', 'oen', 'cod', 'ers', '),', 'Ġwhich', 'Ġare', 'Ġtrained', 'Ġto', 'Ġmimic', 'Ġ(', 're', 'construct', ')', 'Ġnetwork', 'Ġtraffic', 'Ġpatterns', ',', 'Ġand', 'Ġwhose', 'Ġperformance', 'Ġincrement', 'ally', 'Ġimproves', 'Ġovertime', '.', 'Ġ', '</s>']\n"
          ]
        }
      ]
    },
    {
      "cell_type": "code",
      "source": [
        "title_all = f\"papers_{test_val[0]}.tex\"\n",
        "generate(all_tokens, (average_attention*100), title_all, 'red')"
      ],
      "metadata": {
        "id": "htPtu7kErWfN"
      },
      "id": "htPtu7kErWfN",
      "execution_count": 74,
      "outputs": []
    },
    {
      "cell_type": "markdown",
      "source": [
        "Adding up all the heads isn't probably the best way of finding out the important tokens of the example because the last layer is what drives the prediction. This part focuses on only the last layer's attention for visualization."
      ],
      "metadata": {
        "id": "TCKn9M3ILsEh"
      },
      "id": "TCKn9M3ILsEh"
    },
    {
      "cell_type": "code",
      "source": [
        "print(attention_matrix_importance[11].squeeze().shape)\n",
        "average_attention_final_layer = attention_matrix_importance[11].squeeze().sum(axis=0)\n",
        "average_attention_final_layer = normalize(average_attention_final_layer)"
      ],
      "metadata": {
        "id": "GaM018NVunZH",
        "colab": {
          "base_uri": "https://localhost:8080/"
        },
        "outputId": "5d282611-40f9-4093-be53-eb2ec2641e3a"
      },
      "id": "GaM018NVunZH",
      "execution_count": 75,
      "outputs": [
        {
          "output_type": "stream",
          "name": "stdout",
          "text": [
            "(12, 2048)\n"
          ]
        }
      ]
    },
    {
      "cell_type": "code",
      "source": [
        "title_last_layer = f\"papers_{test_val[0]}_layer_12_only.tex\"\n",
        "generate(all_tokens, (average_attention_final_layer*100), title_last_layer, 'red')"
      ],
      "metadata": {
        "id": "fSl21NvVyW-n"
      },
      "id": "fSl21NvVyW-n",
      "execution_count": 76,
      "outputs": []
    }
  ],
  "metadata": {
    "kernelspec": {
      "display_name": "Python 3",
      "name": "python3"
    },
    "language_info": {
      "name": "python"
    },
    "colab": {
      "name": "Token_attention_with_head_importance_pdf.ipynb",
      "provenance": [],
      "collapsed_sections": [],
      "machine_shape": "hm",
      "include_colab_link": true
    },
    "accelerator": "GPU",
    "gpuClass": "standard",
    "widgets": {
      "application/vnd.jupyter.widget-state+json": {
        "f6003584820e4f23bb53379a69a05c3f": {
          "model_module": "@jupyter-widgets/controls",
          "model_name": "HBoxModel",
          "model_module_version": "1.5.0",
          "state": {
            "_dom_classes": [],
            "_model_module": "@jupyter-widgets/controls",
            "_model_module_version": "1.5.0",
            "_model_name": "HBoxModel",
            "_view_count": null,
            "_view_module": "@jupyter-widgets/controls",
            "_view_module_version": "1.5.0",
            "_view_name": "HBoxView",
            "box_style": "",
            "children": [
              "IPY_MODEL_8e2e599f9a954831bec860e43d17eef3",
              "IPY_MODEL_a60b035f72b04b889f4d8c2219d23f09",
              "IPY_MODEL_7e9e55c94ed84b8b834a40414bf9e7de"
            ],
            "layout": "IPY_MODEL_4fc5176a08b64c249b9746ac6efe8276"
          }
        },
        "8e2e599f9a954831bec860e43d17eef3": {
          "model_module": "@jupyter-widgets/controls",
          "model_name": "HTMLModel",
          "model_module_version": "1.5.0",
          "state": {
            "_dom_classes": [],
            "_model_module": "@jupyter-widgets/controls",
            "_model_module_version": "1.5.0",
            "_model_name": "HTMLModel",
            "_view_count": null,
            "_view_module": "@jupyter-widgets/controls",
            "_view_module_version": "1.5.0",
            "_view_name": "HTMLView",
            "description": "",
            "description_tooltip": null,
            "layout": "IPY_MODEL_a21a8060da684d96a593a38d0a35aa23",
            "placeholder": "​",
            "style": "IPY_MODEL_de4da2efe9dc46ab8a63f47afb267d50",
            "value": "100%"
          }
        },
        "a60b035f72b04b889f4d8c2219d23f09": {
          "model_module": "@jupyter-widgets/controls",
          "model_name": "FloatProgressModel",
          "model_module_version": "1.5.0",
          "state": {
            "_dom_classes": [],
            "_model_module": "@jupyter-widgets/controls",
            "_model_module_version": "1.5.0",
            "_model_name": "FloatProgressModel",
            "_view_count": null,
            "_view_module": "@jupyter-widgets/controls",
            "_view_module_version": "1.5.0",
            "_view_name": "ProgressView",
            "bar_style": "success",
            "description": "",
            "description_tooltip": null,
            "layout": "IPY_MODEL_a21dfce0c8964eae859e54f045d678e8",
            "max": 2,
            "min": 0,
            "orientation": "horizontal",
            "style": "IPY_MODEL_a1e9d91940e94831aaeda869d2ab39cd",
            "value": 2
          }
        },
        "7e9e55c94ed84b8b834a40414bf9e7de": {
          "model_module": "@jupyter-widgets/controls",
          "model_name": "HTMLModel",
          "model_module_version": "1.5.0",
          "state": {
            "_dom_classes": [],
            "_model_module": "@jupyter-widgets/controls",
            "_model_module_version": "1.5.0",
            "_model_name": "HTMLModel",
            "_view_count": null,
            "_view_module": "@jupyter-widgets/controls",
            "_view_module_version": "1.5.0",
            "_view_name": "HTMLView",
            "description": "",
            "description_tooltip": null,
            "layout": "IPY_MODEL_4b1aaf169ea0465abd3a11e7545e21be",
            "placeholder": "​",
            "style": "IPY_MODEL_a51d134baf7747cda9d5ebc39a9632fe",
            "value": " 2/2 [00:00&lt;00:00, 44.42it/s]"
          }
        },
        "4fc5176a08b64c249b9746ac6efe8276": {
          "model_module": "@jupyter-widgets/base",
          "model_name": "LayoutModel",
          "model_module_version": "1.2.0",
          "state": {
            "_model_module": "@jupyter-widgets/base",
            "_model_module_version": "1.2.0",
            "_model_name": "LayoutModel",
            "_view_count": null,
            "_view_module": "@jupyter-widgets/base",
            "_view_module_version": "1.2.0",
            "_view_name": "LayoutView",
            "align_content": null,
            "align_items": null,
            "align_self": null,
            "border": null,
            "bottom": null,
            "display": null,
            "flex": null,
            "flex_flow": null,
            "grid_area": null,
            "grid_auto_columns": null,
            "grid_auto_flow": null,
            "grid_auto_rows": null,
            "grid_column": null,
            "grid_gap": null,
            "grid_row": null,
            "grid_template_areas": null,
            "grid_template_columns": null,
            "grid_template_rows": null,
            "height": null,
            "justify_content": null,
            "justify_items": null,
            "left": null,
            "margin": null,
            "max_height": null,
            "max_width": null,
            "min_height": null,
            "min_width": null,
            "object_fit": null,
            "object_position": null,
            "order": null,
            "overflow": null,
            "overflow_x": null,
            "overflow_y": null,
            "padding": null,
            "right": null,
            "top": null,
            "visibility": null,
            "width": null
          }
        },
        "a21a8060da684d96a593a38d0a35aa23": {
          "model_module": "@jupyter-widgets/base",
          "model_name": "LayoutModel",
          "model_module_version": "1.2.0",
          "state": {
            "_model_module": "@jupyter-widgets/base",
            "_model_module_version": "1.2.0",
            "_model_name": "LayoutModel",
            "_view_count": null,
            "_view_module": "@jupyter-widgets/base",
            "_view_module_version": "1.2.0",
            "_view_name": "LayoutView",
            "align_content": null,
            "align_items": null,
            "align_self": null,
            "border": null,
            "bottom": null,
            "display": null,
            "flex": null,
            "flex_flow": null,
            "grid_area": null,
            "grid_auto_columns": null,
            "grid_auto_flow": null,
            "grid_auto_rows": null,
            "grid_column": null,
            "grid_gap": null,
            "grid_row": null,
            "grid_template_areas": null,
            "grid_template_columns": null,
            "grid_template_rows": null,
            "height": null,
            "justify_content": null,
            "justify_items": null,
            "left": null,
            "margin": null,
            "max_height": null,
            "max_width": null,
            "min_height": null,
            "min_width": null,
            "object_fit": null,
            "object_position": null,
            "order": null,
            "overflow": null,
            "overflow_x": null,
            "overflow_y": null,
            "padding": null,
            "right": null,
            "top": null,
            "visibility": null,
            "width": null
          }
        },
        "de4da2efe9dc46ab8a63f47afb267d50": {
          "model_module": "@jupyter-widgets/controls",
          "model_name": "DescriptionStyleModel",
          "model_module_version": "1.5.0",
          "state": {
            "_model_module": "@jupyter-widgets/controls",
            "_model_module_version": "1.5.0",
            "_model_name": "DescriptionStyleModel",
            "_view_count": null,
            "_view_module": "@jupyter-widgets/base",
            "_view_module_version": "1.2.0",
            "_view_name": "StyleView",
            "description_width": ""
          }
        },
        "a21dfce0c8964eae859e54f045d678e8": {
          "model_module": "@jupyter-widgets/base",
          "model_name": "LayoutModel",
          "model_module_version": "1.2.0",
          "state": {
            "_model_module": "@jupyter-widgets/base",
            "_model_module_version": "1.2.0",
            "_model_name": "LayoutModel",
            "_view_count": null,
            "_view_module": "@jupyter-widgets/base",
            "_view_module_version": "1.2.0",
            "_view_name": "LayoutView",
            "align_content": null,
            "align_items": null,
            "align_self": null,
            "border": null,
            "bottom": null,
            "display": null,
            "flex": null,
            "flex_flow": null,
            "grid_area": null,
            "grid_auto_columns": null,
            "grid_auto_flow": null,
            "grid_auto_rows": null,
            "grid_column": null,
            "grid_gap": null,
            "grid_row": null,
            "grid_template_areas": null,
            "grid_template_columns": null,
            "grid_template_rows": null,
            "height": null,
            "justify_content": null,
            "justify_items": null,
            "left": null,
            "margin": null,
            "max_height": null,
            "max_width": null,
            "min_height": null,
            "min_width": null,
            "object_fit": null,
            "object_position": null,
            "order": null,
            "overflow": null,
            "overflow_x": null,
            "overflow_y": null,
            "padding": null,
            "right": null,
            "top": null,
            "visibility": null,
            "width": null
          }
        },
        "a1e9d91940e94831aaeda869d2ab39cd": {
          "model_module": "@jupyter-widgets/controls",
          "model_name": "ProgressStyleModel",
          "model_module_version": "1.5.0",
          "state": {
            "_model_module": "@jupyter-widgets/controls",
            "_model_module_version": "1.5.0",
            "_model_name": "ProgressStyleModel",
            "_view_count": null,
            "_view_module": "@jupyter-widgets/base",
            "_view_module_version": "1.2.0",
            "_view_name": "StyleView",
            "bar_color": null,
            "description_width": ""
          }
        },
        "4b1aaf169ea0465abd3a11e7545e21be": {
          "model_module": "@jupyter-widgets/base",
          "model_name": "LayoutModel",
          "model_module_version": "1.2.0",
          "state": {
            "_model_module": "@jupyter-widgets/base",
            "_model_module_version": "1.2.0",
            "_model_name": "LayoutModel",
            "_view_count": null,
            "_view_module": "@jupyter-widgets/base",
            "_view_module_version": "1.2.0",
            "_view_name": "LayoutView",
            "align_content": null,
            "align_items": null,
            "align_self": null,
            "border": null,
            "bottom": null,
            "display": null,
            "flex": null,
            "flex_flow": null,
            "grid_area": null,
            "grid_auto_columns": null,
            "grid_auto_flow": null,
            "grid_auto_rows": null,
            "grid_column": null,
            "grid_gap": null,
            "grid_row": null,
            "grid_template_areas": null,
            "grid_template_columns": null,
            "grid_template_rows": null,
            "height": null,
            "justify_content": null,
            "justify_items": null,
            "left": null,
            "margin": null,
            "max_height": null,
            "max_width": null,
            "min_height": null,
            "min_width": null,
            "object_fit": null,
            "object_position": null,
            "order": null,
            "overflow": null,
            "overflow_x": null,
            "overflow_y": null,
            "padding": null,
            "right": null,
            "top": null,
            "visibility": null,
            "width": null
          }
        },
        "a51d134baf7747cda9d5ebc39a9632fe": {
          "model_module": "@jupyter-widgets/controls",
          "model_name": "DescriptionStyleModel",
          "model_module_version": "1.5.0",
          "state": {
            "_model_module": "@jupyter-widgets/controls",
            "_model_module_version": "1.5.0",
            "_model_name": "DescriptionStyleModel",
            "_view_count": null,
            "_view_module": "@jupyter-widgets/base",
            "_view_module_version": "1.2.0",
            "_view_name": "StyleView",
            "description_width": ""
          }
        },
        "90c33a5fd2d54989b8c417b72816e4ef": {
          "model_module": "@jupyter-widgets/controls",
          "model_name": "HBoxModel",
          "model_module_version": "1.5.0",
          "state": {
            "_dom_classes": [],
            "_model_module": "@jupyter-widgets/controls",
            "_model_module_version": "1.5.0",
            "_model_name": "HBoxModel",
            "_view_count": null,
            "_view_module": "@jupyter-widgets/controls",
            "_view_module_version": "1.5.0",
            "_view_name": "HBoxView",
            "box_style": "",
            "children": [
              "IPY_MODEL_db003b48a3264f85b386978fb6af4b80",
              "IPY_MODEL_99d37ff9e0b242aa9ff3123455fe309d",
              "IPY_MODEL_6c9ee0a4ff6d4b4e92a9ff6f42ca5da8"
            ],
            "layout": "IPY_MODEL_2bcaa2c50a0f4b44a636610f2bc22166"
          }
        },
        "db003b48a3264f85b386978fb6af4b80": {
          "model_module": "@jupyter-widgets/controls",
          "model_name": "HTMLModel",
          "model_module_version": "1.5.0",
          "state": {
            "_dom_classes": [],
            "_model_module": "@jupyter-widgets/controls",
            "_model_module_version": "1.5.0",
            "_model_name": "HTMLModel",
            "_view_count": null,
            "_view_module": "@jupyter-widgets/controls",
            "_view_module_version": "1.5.0",
            "_view_name": "HTMLView",
            "description": "",
            "description_tooltip": null,
            "layout": "IPY_MODEL_a041b784e9b64c3f965a3e9b1eadd84a",
            "placeholder": "​",
            "style": "IPY_MODEL_b12c3033deb343ed81e60566eff6a66e",
            "value": "100%"
          }
        },
        "99d37ff9e0b242aa9ff3123455fe309d": {
          "model_module": "@jupyter-widgets/controls",
          "model_name": "FloatProgressModel",
          "model_module_version": "1.5.0",
          "state": {
            "_dom_classes": [],
            "_model_module": "@jupyter-widgets/controls",
            "_model_module_version": "1.5.0",
            "_model_name": "FloatProgressModel",
            "_view_count": null,
            "_view_module": "@jupyter-widgets/controls",
            "_view_module_version": "1.5.0",
            "_view_name": "ProgressView",
            "bar_style": "success",
            "description": "",
            "description_tooltip": null,
            "layout": "IPY_MODEL_8fa5f3c4c70f4c40873bab0689c969ba",
            "max": 2,
            "min": 0,
            "orientation": "horizontal",
            "style": "IPY_MODEL_1e88043a80064f099d3667738d5c0862",
            "value": 2
          }
        },
        "6c9ee0a4ff6d4b4e92a9ff6f42ca5da8": {
          "model_module": "@jupyter-widgets/controls",
          "model_name": "HTMLModel",
          "model_module_version": "1.5.0",
          "state": {
            "_dom_classes": [],
            "_model_module": "@jupyter-widgets/controls",
            "_model_module_version": "1.5.0",
            "_model_name": "HTMLModel",
            "_view_count": null,
            "_view_module": "@jupyter-widgets/controls",
            "_view_module_version": "1.5.0",
            "_view_name": "HTMLView",
            "description": "",
            "description_tooltip": null,
            "layout": "IPY_MODEL_164b5eb7284649318c5a8ade162596f2",
            "placeholder": "​",
            "style": "IPY_MODEL_5f27da73a23a4cfcaa43047ad7427754",
            "value": " 2/2 [00:21&lt;00:00,  9.09s/ba]"
          }
        },
        "2bcaa2c50a0f4b44a636610f2bc22166": {
          "model_module": "@jupyter-widgets/base",
          "model_name": "LayoutModel",
          "model_module_version": "1.2.0",
          "state": {
            "_model_module": "@jupyter-widgets/base",
            "_model_module_version": "1.2.0",
            "_model_name": "LayoutModel",
            "_view_count": null,
            "_view_module": "@jupyter-widgets/base",
            "_view_module_version": "1.2.0",
            "_view_name": "LayoutView",
            "align_content": null,
            "align_items": null,
            "align_self": null,
            "border": null,
            "bottom": null,
            "display": null,
            "flex": null,
            "flex_flow": null,
            "grid_area": null,
            "grid_auto_columns": null,
            "grid_auto_flow": null,
            "grid_auto_rows": null,
            "grid_column": null,
            "grid_gap": null,
            "grid_row": null,
            "grid_template_areas": null,
            "grid_template_columns": null,
            "grid_template_rows": null,
            "height": null,
            "justify_content": null,
            "justify_items": null,
            "left": null,
            "margin": null,
            "max_height": null,
            "max_width": null,
            "min_height": null,
            "min_width": null,
            "object_fit": null,
            "object_position": null,
            "order": null,
            "overflow": null,
            "overflow_x": null,
            "overflow_y": null,
            "padding": null,
            "right": null,
            "top": null,
            "visibility": null,
            "width": null
          }
        },
        "a041b784e9b64c3f965a3e9b1eadd84a": {
          "model_module": "@jupyter-widgets/base",
          "model_name": "LayoutModel",
          "model_module_version": "1.2.0",
          "state": {
            "_model_module": "@jupyter-widgets/base",
            "_model_module_version": "1.2.0",
            "_model_name": "LayoutModel",
            "_view_count": null,
            "_view_module": "@jupyter-widgets/base",
            "_view_module_version": "1.2.0",
            "_view_name": "LayoutView",
            "align_content": null,
            "align_items": null,
            "align_self": null,
            "border": null,
            "bottom": null,
            "display": null,
            "flex": null,
            "flex_flow": null,
            "grid_area": null,
            "grid_auto_columns": null,
            "grid_auto_flow": null,
            "grid_auto_rows": null,
            "grid_column": null,
            "grid_gap": null,
            "grid_row": null,
            "grid_template_areas": null,
            "grid_template_columns": null,
            "grid_template_rows": null,
            "height": null,
            "justify_content": null,
            "justify_items": null,
            "left": null,
            "margin": null,
            "max_height": null,
            "max_width": null,
            "min_height": null,
            "min_width": null,
            "object_fit": null,
            "object_position": null,
            "order": null,
            "overflow": null,
            "overflow_x": null,
            "overflow_y": null,
            "padding": null,
            "right": null,
            "top": null,
            "visibility": null,
            "width": null
          }
        },
        "b12c3033deb343ed81e60566eff6a66e": {
          "model_module": "@jupyter-widgets/controls",
          "model_name": "DescriptionStyleModel",
          "model_module_version": "1.5.0",
          "state": {
            "_model_module": "@jupyter-widgets/controls",
            "_model_module_version": "1.5.0",
            "_model_name": "DescriptionStyleModel",
            "_view_count": null,
            "_view_module": "@jupyter-widgets/base",
            "_view_module_version": "1.2.0",
            "_view_name": "StyleView",
            "description_width": ""
          }
        },
        "8fa5f3c4c70f4c40873bab0689c969ba": {
          "model_module": "@jupyter-widgets/base",
          "model_name": "LayoutModel",
          "model_module_version": "1.2.0",
          "state": {
            "_model_module": "@jupyter-widgets/base",
            "_model_module_version": "1.2.0",
            "_model_name": "LayoutModel",
            "_view_count": null,
            "_view_module": "@jupyter-widgets/base",
            "_view_module_version": "1.2.0",
            "_view_name": "LayoutView",
            "align_content": null,
            "align_items": null,
            "align_self": null,
            "border": null,
            "bottom": null,
            "display": null,
            "flex": null,
            "flex_flow": null,
            "grid_area": null,
            "grid_auto_columns": null,
            "grid_auto_flow": null,
            "grid_auto_rows": null,
            "grid_column": null,
            "grid_gap": null,
            "grid_row": null,
            "grid_template_areas": null,
            "grid_template_columns": null,
            "grid_template_rows": null,
            "height": null,
            "justify_content": null,
            "justify_items": null,
            "left": null,
            "margin": null,
            "max_height": null,
            "max_width": null,
            "min_height": null,
            "min_width": null,
            "object_fit": null,
            "object_position": null,
            "order": null,
            "overflow": null,
            "overflow_x": null,
            "overflow_y": null,
            "padding": null,
            "right": null,
            "top": null,
            "visibility": null,
            "width": null
          }
        },
        "1e88043a80064f099d3667738d5c0862": {
          "model_module": "@jupyter-widgets/controls",
          "model_name": "ProgressStyleModel",
          "model_module_version": "1.5.0",
          "state": {
            "_model_module": "@jupyter-widgets/controls",
            "_model_module_version": "1.5.0",
            "_model_name": "ProgressStyleModel",
            "_view_count": null,
            "_view_module": "@jupyter-widgets/base",
            "_view_module_version": "1.2.0",
            "_view_name": "StyleView",
            "bar_color": null,
            "description_width": ""
          }
        },
        "164b5eb7284649318c5a8ade162596f2": {
          "model_module": "@jupyter-widgets/base",
          "model_name": "LayoutModel",
          "model_module_version": "1.2.0",
          "state": {
            "_model_module": "@jupyter-widgets/base",
            "_model_module_version": "1.2.0",
            "_model_name": "LayoutModel",
            "_view_count": null,
            "_view_module": "@jupyter-widgets/base",
            "_view_module_version": "1.2.0",
            "_view_name": "LayoutView",
            "align_content": null,
            "align_items": null,
            "align_self": null,
            "border": null,
            "bottom": null,
            "display": null,
            "flex": null,
            "flex_flow": null,
            "grid_area": null,
            "grid_auto_columns": null,
            "grid_auto_flow": null,
            "grid_auto_rows": null,
            "grid_column": null,
            "grid_gap": null,
            "grid_row": null,
            "grid_template_areas": null,
            "grid_template_columns": null,
            "grid_template_rows": null,
            "height": null,
            "justify_content": null,
            "justify_items": null,
            "left": null,
            "margin": null,
            "max_height": null,
            "max_width": null,
            "min_height": null,
            "min_width": null,
            "object_fit": null,
            "object_position": null,
            "order": null,
            "overflow": null,
            "overflow_x": null,
            "overflow_y": null,
            "padding": null,
            "right": null,
            "top": null,
            "visibility": null,
            "width": null
          }
        },
        "5f27da73a23a4cfcaa43047ad7427754": {
          "model_module": "@jupyter-widgets/controls",
          "model_name": "DescriptionStyleModel",
          "model_module_version": "1.5.0",
          "state": {
            "_model_module": "@jupyter-widgets/controls",
            "_model_module_version": "1.5.0",
            "_model_name": "DescriptionStyleModel",
            "_view_count": null,
            "_view_module": "@jupyter-widgets/base",
            "_view_module_version": "1.2.0",
            "_view_name": "StyleView",
            "description_width": ""
          }
        }
      }
    }
  },
  "nbformat": 4,
  "nbformat_minor": 5
}