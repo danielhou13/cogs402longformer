{
  "cells": [
    {
      "cell_type": "markdown",
      "metadata": {
        "id": "view-in-github",
        "colab_type": "text"
      },
      "source": [
        "<a href=\"https://colab.research.google.com/github/danielhou13/cogs402longformer/blob/main/src/Token_attention_with_head_importance_pdf.ipynb\" target=\"_parent\"><img src=\"https://colab.research.google.com/assets/colab-badge.svg\" alt=\"Open In Colab\"/></a>"
      ]
    },
    {
      "cell_type": "markdown",
      "source": [
        "This notebook is primarily the same as the section on converting to a PDF in [Token_attention_with_head_importance](https://colab.research.google.com/drive/1iVojJQp0CZS484tMZqIizosXPLxgKvRX?usp=sharing); however, this notebook solely focuses on converting the attentions into a PDF visualization. This notebook predicts over the dataset and finds interesting examples one may want to visualize the attentions of such as false negatives, false postiives, and very confident predictions. It of course, will output a PDF of the text with the attentions of the token layered on top of the token."
      ],
      "metadata": {
        "id": "t8OGqf7Pl7-h"
      },
      "id": "t8OGqf7Pl7-h"
    },
    {
      "cell_type": "code",
      "source": [
        "from google.colab import drive\n",
        "drive.mount('/content/drive')"
      ],
      "metadata": {
        "id": "kZTPlUo8Wp1T",
        "colab": {
          "base_uri": "https://localhost:8080/"
        },
        "outputId": "06b1b5ad-914f-44b4-c065-3790b3279f78"
      },
      "id": "kZTPlUo8Wp1T",
      "execution_count": null,
      "outputs": [
        {
          "output_type": "stream",
          "name": "stdout",
          "text": [
            "Mounted at /content/drive\n"
          ]
        }
      ]
    },
    {
      "cell_type": "markdown",
      "source": [
        "### Install and Import Dependencies"
      ],
      "metadata": {
        "id": "XFt7t0wAERQV"
      },
      "id": "XFt7t0wAERQV"
    },
    {
      "cell_type": "code",
      "source": [
        "# import sys\n",
        "# sys.path.append('/content/drive/My Drive/{}'.format(\"cogs402longformer/\"))"
      ],
      "metadata": {
        "id": "AlcBiC0nWtJE"
      },
      "id": "AlcBiC0nWtJE",
      "execution_count": null,
      "outputs": []
    },
    {
      "cell_type": "code",
      "source": [
        "pip install datasets --quiet"
      ],
      "metadata": {
        "id": "s_6vceLhTIBf",
        "colab": {
          "base_uri": "https://localhost:8080/"
        },
        "outputId": "c750ed38-3e8e-47ae-f6fe-8c451a9058a5"
      },
      "id": "s_6vceLhTIBf",
      "execution_count": null,
      "outputs": [
        {
          "output_type": "stream",
          "name": "stdout",
          "text": [
            "\u001b[K     |████████████████████████████████| 365 kB 8.0 MB/s \n",
            "\u001b[K     |████████████████████████████████| 212 kB 78.2 MB/s \n",
            "\u001b[K     |████████████████████████████████| 101 kB 12.7 MB/s \n",
            "\u001b[K     |████████████████████████████████| 141 kB 73.4 MB/s \n",
            "\u001b[K     |████████████████████████████████| 115 kB 78.8 MB/s \n",
            "\u001b[K     |████████████████████████████████| 596 kB 26.4 MB/s \n",
            "\u001b[K     |████████████████████████████████| 127 kB 85.7 MB/s \n",
            "\u001b[?25h"
          ]
        }
      ]
    },
    {
      "cell_type": "code",
      "source": [
        "pip install transformers"
      ],
      "metadata": {
        "id": "M-qXH2JkTMdA",
        "colab": {
          "base_uri": "https://localhost:8080/"
        },
        "outputId": "5e8f1f0d-c831-49ad-b8cf-d1363af9441c"
      },
      "id": "M-qXH2JkTMdA",
      "execution_count": null,
      "outputs": [
        {
          "output_type": "stream",
          "name": "stdout",
          "text": [
            "Looking in indexes: https://pypi.org/simple, https://us-python.pkg.dev/colab-wheels/public/simple/\n",
            "Collecting transformers\n",
            "  Downloading transformers-4.21.1-py3-none-any.whl (4.7 MB)\n",
            "\u001b[K     |████████████████████████████████| 4.7 MB 6.8 MB/s \n",
            "\u001b[?25hRequirement already satisfied: requests in /usr/local/lib/python3.7/dist-packages (from transformers) (2.23.0)\n",
            "Requirement already satisfied: packaging>=20.0 in /usr/local/lib/python3.7/dist-packages (from transformers) (21.3)\n",
            "Requirement already satisfied: filelock in /usr/local/lib/python3.7/dist-packages (from transformers) (3.7.1)\n",
            "Collecting tokenizers!=0.11.3,<0.13,>=0.11.1\n",
            "  Downloading tokenizers-0.12.1-cp37-cp37m-manylinux_2_12_x86_64.manylinux2010_x86_64.whl (6.6 MB)\n",
            "\u001b[K     |████████████████████████████████| 6.6 MB 54.9 MB/s \n",
            "\u001b[?25hRequirement already satisfied: importlib-metadata in /usr/local/lib/python3.7/dist-packages (from transformers) (4.12.0)\n",
            "Requirement already satisfied: tqdm>=4.27 in /usr/local/lib/python3.7/dist-packages (from transformers) (4.64.0)\n",
            "Requirement already satisfied: pyyaml>=5.1 in /usr/local/lib/python3.7/dist-packages (from transformers) (6.0)\n",
            "Requirement already satisfied: numpy>=1.17 in /usr/local/lib/python3.7/dist-packages (from transformers) (1.21.6)\n",
            "Requirement already satisfied: huggingface-hub<1.0,>=0.1.0 in /usr/local/lib/python3.7/dist-packages (from transformers) (0.8.1)\n",
            "Requirement already satisfied: regex!=2019.12.17 in /usr/local/lib/python3.7/dist-packages (from transformers) (2022.6.2)\n",
            "Requirement already satisfied: typing-extensions>=3.7.4.3 in /usr/local/lib/python3.7/dist-packages (from huggingface-hub<1.0,>=0.1.0->transformers) (4.1.1)\n",
            "Requirement already satisfied: pyparsing!=3.0.5,>=2.0.2 in /usr/local/lib/python3.7/dist-packages (from packaging>=20.0->transformers) (3.0.9)\n",
            "Requirement already satisfied: zipp>=0.5 in /usr/local/lib/python3.7/dist-packages (from importlib-metadata->transformers) (3.8.1)\n",
            "Requirement already satisfied: idna<3,>=2.5 in /usr/local/lib/python3.7/dist-packages (from requests->transformers) (2.10)\n",
            "Requirement already satisfied: certifi>=2017.4.17 in /usr/local/lib/python3.7/dist-packages (from requests->transformers) (2022.6.15)\n",
            "Requirement already satisfied: urllib3!=1.25.0,!=1.25.1,<1.26,>=1.21.1 in /usr/local/lib/python3.7/dist-packages (from requests->transformers) (1.25.11)\n",
            "Requirement already satisfied: chardet<4,>=3.0.2 in /usr/local/lib/python3.7/dist-packages (from requests->transformers) (3.0.4)\n",
            "Installing collected packages: tokenizers, transformers\n",
            "Successfully installed tokenizers-0.12.1 transformers-4.21.1\n"
          ]
        }
      ]
    },
    {
      "cell_type": "code",
      "source": [
        "pip install nltk --quiet"
      ],
      "metadata": {
        "id": "1SnsLs_VyXzW"
      },
      "id": "1SnsLs_VyXzW",
      "execution_count": null,
      "outputs": []
    },
    {
      "cell_type": "markdown",
      "source": [
        "##Import Dataset and Model\n",
        "\n",
        "Remember to change the path to your model, tokenizer, and dataset according to your project. Furthermore, your max_length should be changed accordingly."
      ],
      "metadata": {
        "id": "hSSPoSRn6r9A"
      },
      "id": "hSSPoSRn6r9A"
    },
    {
      "cell_type": "code",
      "execution_count": null,
      "id": "9b774ad0-b725-4910-9050-423edf160ebd",
      "metadata": {
        "id": "9b774ad0-b725-4910-9050-423edf160ebd"
      },
      "outputs": [],
      "source": [
        "import os\n",
        "\n",
        "import numpy as np\n",
        "import pandas as pd\n",
        "\n",
        "import torch\n",
        "import torch.nn as nn"
      ]
    },
    {
      "cell_type": "markdown",
      "source": [
        "Import the Reserach Papers dataset"
      ],
      "metadata": {
        "id": "hfHRqrpw_VlN"
      },
      "id": "hfHRqrpw_VlN"
    },
    {
      "cell_type": "code",
      "execution_count": null,
      "id": "66cc97f5-7e3a-476c-9858-5643eeaa6675",
      "metadata": {
        "id": "66cc97f5-7e3a-476c-9858-5643eeaa6675",
        "colab": {
          "base_uri": "https://localhost:8080/",
          "height": 145,
          "referenced_widgets": [
            "c3d18789f8184972ba3e7ad79dde97d3",
            "44a36d2dfa9e4dd187bedcb2db59e122",
            "38d4ee9bd7d5401caf3a7d04f0ce49ae",
            "809bcd938ae04d1daacb298de158ce4c",
            "86a9e194b8394515833dd337e1d7f1b8",
            "ec397cfcf24f4760bcb7431b3c3bbc83",
            "a960ecd7d03046f38d76a9935eed0506",
            "63f19c86c0a9459ba1d6d4ddcdf8df9a",
            "e39397c749804a08b81d7bddcf2ea69d",
            "b99b4982963a414b8666a924e5bd580b",
            "499e5e2c273145769da5d09a77c2b6a9",
            "3cc699d7da2045d09c29d4e2404d287c",
            "e5e1e3ced7014e7891e7c967dcff4148",
            "b6498aadf8404d149003fe7ea070d0f8",
            "c02c2a91064d453f91a551337487c578",
            "19e5543ce3f041309cfdbf3e06b1f7f9",
            "869af571bd7a4d4e8c402ae21403cd26",
            "a3f09676bc544342aa7877b709f4a2ef",
            "3f462a99e92a492bb6101e8530eaecf5",
            "a884227183b14891af6916f8bcf3efe5",
            "9aa0c1b8c5c54a67be37f376879c12bb",
            "bcc055d04896460da7ed28b19367ff1e",
            "8702e13f3fcd40c0a46d973c3e5f258e",
            "8f46fcad2cf743d9b88380c8e68a2d59",
            "4d6614341ddc435e94ab2d1cf4cbde0a",
            "3ef77064262349d082ddf49475db02f0",
            "8411750b5d5e4f5faec73b1d53d9f2c8",
            "21a3070b30da4eb1a29ac3f471ecfe30",
            "9943f0a0182e479aac50feebb17ac9f1",
            "cf285b3a8c1b401abc628af691b4ed33",
            "91a3ead00d4341569ff6809418d78faf",
            "c4f0ff23480446189af827d1a8a6ce7f",
            "f28c939310014c24aa0a2933cf0ece81",
            "124ae6a604c24622866fc846b6169acf",
            "c3ebbcb477d54da9aaddc353e578a7c1",
            "66e29635c9ef444e88af257f094d15d1",
            "b5f360b000864202b14d8f133a9fb426",
            "4a47367051cc4729825ca1747dcb3596",
            "40baca0a1a0d4f998a3a3c1c0b1aae75",
            "5fee0a96dc0f48efaaefbd7fc5a85c9f",
            "92c3cf4f75614f96844cf83fd7e088ca",
            "58f1c7048f4c4c89b6c7dd3f65bcfa78",
            "2c0f21ef079b4259a51e1d9137a10455",
            "09bde911e7334d4c832e6a4a80c5e906"
          ]
        },
        "outputId": "873062c4-17d5-4ad6-f81d-b48fdaf7d5d5"
      },
      "outputs": [
        {
          "output_type": "display_data",
          "data": {
            "text/plain": [
              "Downloading config.json:   0%|          | 0.00/694 [00:00<?, ?B/s]"
            ],
            "application/vnd.jupyter.widget-view+json": {
              "version_major": 2,
              "version_minor": 0,
              "model_id": "c3d18789f8184972ba3e7ad79dde97d3"
            }
          },
          "metadata": {}
        },
        {
          "output_type": "display_data",
          "data": {
            "text/plain": [
              "Downloading vocab.json:   0%|          | 0.00/878k [00:00<?, ?B/s]"
            ],
            "application/vnd.jupyter.widget-view+json": {
              "version_major": 2,
              "version_minor": 0,
              "model_id": "3cc699d7da2045d09c29d4e2404d287c"
            }
          },
          "metadata": {}
        },
        {
          "output_type": "display_data",
          "data": {
            "text/plain": [
              "Downloading merges.txt:   0%|          | 0.00/446k [00:00<?, ?B/s]"
            ],
            "application/vnd.jupyter.widget-view+json": {
              "version_major": 2,
              "version_minor": 0,
              "model_id": "8702e13f3fcd40c0a46d973c3e5f258e"
            }
          },
          "metadata": {}
        },
        {
          "output_type": "display_data",
          "data": {
            "text/plain": [
              "Downloading tokenizer.json:   0%|          | 0.00/1.29M [00:00<?, ?B/s]"
            ],
            "application/vnd.jupyter.widget-view+json": {
              "version_major": 2,
              "version_minor": 0,
              "model_id": "124ae6a604c24622866fc846b6169acf"
            }
          },
          "metadata": {}
        }
      ],
      "source": [
        "from datasets import load_dataset\n",
        "from transformers import AutoModelForSequenceClassification, AutoTokenizer\n",
        "\n",
        "tokenizer = AutoTokenizer.from_pretrained('allenai/longformer-base-4096')\n",
        "model_path = 'danielhou13/longformer-finetuned_papers_v2'\n",
        "model_path2 = 'danielhou13/longformer-finetuned-news-cogs402'\n",
        "model_path3 = 'allenai/longformer-base-4096'\n",
        "\n",
        "def longformer_finetuned_papers(model):\n",
        "    model = AutoModelForSequenceClassification.from_pretrained(model, num_labels = 2)\n",
        "    return model\n",
        "\n",
        "def preprocess_function(tokenizer, example, max_length):\n",
        "    example.update(tokenizer(example['text'], padding='max_length', max_length=max_length, truncation=True))\n",
        "    return example\n",
        "\n",
        "def get_papers_dataset(dataset_type):\n",
        "    max_length = 2048\n",
        "    dataset = load_dataset(\"danielhou13/cogs402dataset\")[dataset_type]\n",
        "\n",
        "    # tokenizer = AutoTokenizer.from_pretrained('bert-base-uncased')\n",
        "    dataset = dataset.map(lambda x: preprocess_function(tokenizer, x, max_length), batched=True)\n",
        "    setattr(dataset, 'input_columns', ['input_ids', 'attention_mask'])\n",
        "    setattr(dataset, 'target_columns', ['labels'])\n",
        "    setattr(dataset, 'max_length', max_length)\n",
        "    setattr(dataset, 'tokenizer', tokenizer)\n",
        "    return dataset\n",
        "\n",
        "def papers_validation_set():\n",
        "    return get_papers_dataset('validation')"
      ]
    },
    {
      "cell_type": "markdown",
      "source": [
        "Import the news dataset"
      ],
      "metadata": {
        "id": "Jq_wt-jn_Y6m"
      },
      "id": "Jq_wt-jn_Y6m"
    },
    {
      "cell_type": "code",
      "source": [
        "def preprocess_function(tokenizer, example, max_length):\n",
        "    example.update(tokenizer(example['text'], max_length=max_length, truncation=True))\n",
        "    return example\n",
        "\n",
        "def longformer_finetuned_news(model):\n",
        "    model = AutoModelForSequenceClassification.from_pretrained(model, num_labels = 2)\n",
        "    return model\n",
        "\n",
        "def get_news_dataset(dataset_type):\n",
        "    max_length = 2048\n",
        "    dataset = load_dataset(\"danielhou13/cogs402dataset2\")[dataset_type]\n",
        "\n",
        "    tokenizer = AutoTokenizer.from_pretrained('allenai/longformer-base-4096')\n",
        "    dataset = dataset.map(lambda x: preprocess_function(tokenizer, x, max_length), batched=True)\n",
        "\n",
        "    labels = map(int, dataset['hyperpartisan'])\n",
        "    print(type(dataset['hyperpartisan']))\n",
        "    labels = list(labels)\n",
        "    dataset = dataset.add_column(\"labels\", labels)\n",
        "\n",
        "    dataset = dataset.remove_columns(['title', 'hyperpartisan', 'url', 'published_at', 'bias'])\n",
        "    print(dataset)\n",
        "    setattr(dataset, 'input_columns', ['input_ids', 'attention_mask'])\n",
        "    setattr(dataset, 'target_columns', ['labels'])\n",
        "    setattr(dataset, 'max_length', max_length)\n",
        "    setattr(dataset, 'tokenizer', tokenizer)\n",
        "    return dataset\n",
        "\n",
        "def news_train_set():\n",
        "    return get_news_dataset('train')\n",
        "\n",
        "def news_test_set():\n",
        "    return get_news_dataset('validation')"
      ],
      "metadata": {
        "id": "gEI0AFC5-0qA"
      },
      "id": "gEI0AFC5-0qA",
      "execution_count": null,
      "outputs": []
    },
    {
      "cell_type": "markdown",
      "source": [
        "Load papers model and dataset and preprocess it"
      ],
      "metadata": {
        "id": "srzj_2BeNGOK"
      },
      "id": "srzj_2BeNGOK"
    },
    {
      "cell_type": "code",
      "execution_count": null,
      "id": "24ad54a3-db97-47e3-8cc7-417d4db2c99b",
      "metadata": {
        "id": "24ad54a3-db97-47e3-8cc7-417d4db2c99b",
        "colab": {
          "base_uri": "https://localhost:8080/",
          "height": 446,
          "referenced_widgets": [
            "2b1dd71ad3fc4ee998aaad5ea055e5d4",
            "0cd2adc2c91c4a8a94ace4ff8b97ed52",
            "072c7f46ead342c28c157a272d2e1a45",
            "464d7f5fb0e74748b4d0a5cb3a42008b",
            "71538f3c58dd48018ff389ae34cbfea2",
            "f7ab85e59c7d47d1aa57e6cf82a3b0b0",
            "b9010c3cd04c40738ff53c54431362f3",
            "feecfc53efaa442caa123586c0b49944",
            "bd7a000e7e7f4946b0557d40b7d0b05c",
            "bf5039ea8b2e404892ca2f7460339952",
            "db195776190542488e20e9223ef53ad6",
            "362ba9bf5adf465b8acdeefb9ebb46a4",
            "452ce627308b41a0bfd9ceb3d975a458",
            "ba6b11554f094ca09265276d84bae16b",
            "0b92d2f9ef0a40a99eb124bb3c0193df",
            "6a123a22809a42a0bdeb98f28f6777f5",
            "c624ff971f80499ea1d48a5330d33c1d",
            "c7f38626a0ed4c86b462d8ed73191c83",
            "2d58cd36ff3743b982dd82ca399a7d00",
            "9b6e447551c54b6ea86b599f96714ade",
            "f18d407623fb47cf813fcda1754e3dc7",
            "66b6225c4afe46a2b442b658b778c874",
            "5a4cf7e136e74766a7fe033aaf07c553",
            "5aeb4756916343ffa623eb4608ea9630",
            "c5253ff6be264c6587314db37082eae2",
            "cd1e83073a8045ebb6f42a7755f13491",
            "e54d3246f9a749298a749ccf7bad7784",
            "9cc33e8864604521a4e2bd855ff92c1e",
            "1d4be422861e446998b6b319f5f59604",
            "eefb79719c344d01aeace5ff8e5aab50",
            "4bc52c1b77f8489fa3e7bbe493f79880",
            "4e30e109f7874abc9d41d360a20aea43",
            "b57c5e28d3c447f292ef49b871288ced",
            "176bc180c81c4392884d5eee54f4ac5a",
            "996829fbdae341b398dff9b9bf45ad65",
            "40f1327c07cb4af481448cf21e3caafc",
            "cdd1a31885c147a696a3f441ecf42f15",
            "bb99dece447e44b1b14e23efcbe9e5e1",
            "8834cabecc6645c6af23c501fca63edd",
            "1631a4d763244361842724018420249d",
            "55874bce6733489286fd11ebbaa2c743",
            "40c0068dfb5d44568232461afa6f1d06",
            "ce244c6441fa4b8093f94eacc9ea2490",
            "e852ac364e574f1aae43abc9223c2447",
            "6786d993429d4ff785bdec2461f27c65",
            "7b25670580934c2a90556fd199dbf116",
            "1f7eec9fb90d4a608c0eca65721b5d0a",
            "5b469e9f40e44d9fb7935c616a7768e8",
            "79d2ea3010e94112b4cc2bed58344c0f",
            "0dd90f844c024162b85512dcae90e835",
            "982987b773f3457c8ce14330f79c84a0",
            "1e51f07f26104f929021cdec1ecbe115",
            "ccce103419d446c1a8935361482a828c",
            "6433976f2749496b9f0a8c2599217fa2",
            "8505c05006874778a29ebd495e0a1d3f",
            "105c0731bb364f94851b1fb8172b3739",
            "ba5a66f0488248369774eae63c671075",
            "283f71ddbd3b4477a7fa00bbd38ada9d",
            "b1e322398799494bbc956b221bed9f0d",
            "ff4bb33f9cb145a6835ef43025e33226",
            "d5033e7480ce4fc3a26433587f0dadc1",
            "c2eafcbfe2fb4f66b88e14ad38b233eb",
            "555ccb3bcd9647be8ad1b5e9e607905b",
            "2e1b18220a9f458198039ebaaa55c8fe",
            "6c8b1ac17e50446e8b1c1e33654ee314",
            "c9daa9cf9dec46c2a128775704378610",
            "71f5c988bf934e4193d84d52cf5f5947",
            "10bc68691eb44996b1c6c4eb9fa975b0",
            "a627d85684fe4f24848516e83ad09d5c",
            "baa9f1f00e64414382e61f385fbc0b39",
            "c0e6ea3f6d484419963f70e91bcc65d0",
            "a86bf347184f4d6bb6e938f3b3f3e543",
            "903574ce9f66436287d0bb1e2213627c",
            "e4daacf5da574e7aa56ebc4c326b6765",
            "d234032ae80248d18da407b1df780b49",
            "607fa159083147dda59a7b70fac589fe",
            "ae13e65705f84caa91f060305a49a8d5",
            "5bb5c35123fc456e8aa593f97825c942",
            "8cfb3c9330d14138bbbc33d4791f6fd9",
            "58f87ea341524cd6a01380ee7162d196",
            "4072d4f65c284ff09e59f8ee4502f776",
            "646e4573dc374fcba217d0ed841a4667",
            "e6d07d22adf04fa2b122d74f8b59e48e",
            "d33888d5e7c74c8588accfcbd4c1f7d1",
            "dbd344d6105f4d558e09e9540b9ff2ba",
            "9c5d26ed9ee1481e82f0c792fff50565",
            "0bf741badabf4ec9b2fca98294250d22",
            "ac5bf501501a42e68f947aa200b8826e",
            "6a3afd60daf642ed968de301179eb6a5",
            "e97199bf8ac84e588f1f30ad8a9246fc",
            "fc501d0b5d5c48f79719f024cf4865ee",
            "fea403d2bf0547ffb0e56ea42f3993f8",
            "d6e31d47021947b0bfd3d79a07320584",
            "acf966c2a02c4439b7f31672fbc79e17",
            "5c32584338c5408babcbd57120d23943",
            "3029cca72b684d419c168edc2cc41332",
            "fa45b798bdc44286bc79d174f12ec42e",
            "6980f686bc9e45578144d32e0aac9436",
            "79c9c8cb2b4249919b1c2bf40ff63fe9",
            "80b3b17199b545fd95ee9d4fc8fe8e0c",
            "4ab7309d513643f28ff2a81f220671f1",
            "03ea4337306f48f7bbde43e6ef86a30f",
            "61ba1c655e434e61978c8df79ac2c88c",
            "338e5cd7be774b799c5bbefac908eb91",
            "2c40862e9fa949f6bd3ea076a8ce5096",
            "0f311e228ad64deab4244f7d3ebcea2d",
            "da80b7f4b7c64f5f91732f2e4b65ad87",
            "3df72077f2e34f6a945343892a3e9d2d",
            "b67f39ddb1fe47e9b9edad0f31bb383c",
            "d03dcbc364b94f0e821a1747235b2ee5",
            "c07fb9be8ea44dbb98d8b3eba28bf0d5",
            "c627f021e463499cac1c0b8428d11168",
            "3e31c8af5a0f4f08bdca183dcac11ad9",
            "78ae00e48f8b4af3841e3e3a14b8b876",
            "f99ca426177748dbbc9943a140374fa9",
            "6be3ff0b35384101a163e09828aab4da",
            "3f711214dcee4784a4789d40bffce36f",
            "b75ef199ebb841f8b36938147f373b75",
            "d909cab53ed3445e872afbe46e83fd20",
            "cf420f9c3a8d4985b628e8d3673f8664",
            "f43d93728619456e8acb9f67ba63b792"
          ]
        },
        "outputId": "da1e3016-b293-4bfa-f638-b989fdb4d9ea"
      },
      "outputs": [
        {
          "output_type": "display_data",
          "data": {
            "text/plain": [
              "Downloading:   0%|          | 0.00/739 [00:00<?, ?B/s]"
            ],
            "application/vnd.jupyter.widget-view+json": {
              "version_major": 2,
              "version_minor": 0,
              "model_id": "2b1dd71ad3fc4ee998aaad5ea055e5d4"
            }
          },
          "metadata": {}
        },
        {
          "output_type": "stream",
          "name": "stderr",
          "text": [
            "Using custom data configuration danielhou13--cogs402dataset-144b958ac1a53abb\n"
          ]
        },
        {
          "output_type": "stream",
          "name": "stdout",
          "text": [
            "Downloading and preparing dataset None/None (download: 157.87 MiB, generated: 311.56 MiB, post-processed: Unknown size, total: 469.43 MiB) to /root/.cache/huggingface/datasets/danielhou13___parquet/danielhou13--cogs402dataset-144b958ac1a53abb/0.0.0/2a3b91fbd88a2c90d1dbbb32b460cf621d31bd5b05b934492fdef7d8d6f236ec...\n"
          ]
        },
        {
          "output_type": "display_data",
          "data": {
            "text/plain": [
              "Downloading data files:   0%|          | 0/2 [00:00<?, ?it/s]"
            ],
            "application/vnd.jupyter.widget-view+json": {
              "version_major": 2,
              "version_minor": 0,
              "model_id": "362ba9bf5adf465b8acdeefb9ebb46a4"
            }
          },
          "metadata": {}
        },
        {
          "output_type": "display_data",
          "data": {
            "text/plain": [
              "Downloading data:   0%|          | 0.00/33.6M [00:00<?, ?B/s]"
            ],
            "application/vnd.jupyter.widget-view+json": {
              "version_major": 2,
              "version_minor": 0,
              "model_id": "5a4cf7e136e74766a7fe033aaf07c553"
            }
          },
          "metadata": {}
        },
        {
          "output_type": "display_data",
          "data": {
            "text/plain": [
              "Downloading data:   0%|          | 0.00/132M [00:00<?, ?B/s]"
            ],
            "application/vnd.jupyter.widget-view+json": {
              "version_major": 2,
              "version_minor": 0,
              "model_id": "176bc180c81c4392884d5eee54f4ac5a"
            }
          },
          "metadata": {}
        },
        {
          "output_type": "display_data",
          "data": {
            "text/plain": [
              "Extracting data files:   0%|          | 0/2 [00:00<?, ?it/s]"
            ],
            "application/vnd.jupyter.widget-view+json": {
              "version_major": 2,
              "version_minor": 0,
              "model_id": "6786d993429d4ff785bdec2461f27c65"
            }
          },
          "metadata": {}
        },
        {
          "output_type": "display_data",
          "data": {
            "text/plain": [
              "0 tables [00:00, ? tables/s]"
            ],
            "application/vnd.jupyter.widget-view+json": {
              "version_major": 2,
              "version_minor": 0,
              "model_id": "105c0731bb364f94851b1fb8172b3739"
            }
          },
          "metadata": {}
        },
        {
          "output_type": "display_data",
          "data": {
            "text/plain": [
              "0 tables [00:00, ? tables/s]"
            ],
            "application/vnd.jupyter.widget-view+json": {
              "version_major": 2,
              "version_minor": 0,
              "model_id": "71f5c988bf934e4193d84d52cf5f5947"
            }
          },
          "metadata": {}
        },
        {
          "output_type": "stream",
          "name": "stdout",
          "text": [
            "Dataset parquet downloaded and prepared to /root/.cache/huggingface/datasets/danielhou13___parquet/danielhou13--cogs402dataset-144b958ac1a53abb/0.0.0/2a3b91fbd88a2c90d1dbbb32b460cf621d31bd5b05b934492fdef7d8d6f236ec. Subsequent calls will reuse this data.\n"
          ]
        },
        {
          "output_type": "display_data",
          "data": {
            "text/plain": [
              "  0%|          | 0/2 [00:00<?, ?it/s]"
            ],
            "application/vnd.jupyter.widget-view+json": {
              "version_major": 2,
              "version_minor": 0,
              "model_id": "5bb5c35123fc456e8aa593f97825c942"
            }
          },
          "metadata": {}
        },
        {
          "output_type": "display_data",
          "data": {
            "text/plain": [
              "  0%|          | 0/2 [00:00<?, ?ba/s]"
            ],
            "application/vnd.jupyter.widget-view+json": {
              "version_major": 2,
              "version_minor": 0,
              "model_id": "6a3afd60daf642ed968de301179eb6a5"
            }
          },
          "metadata": {}
        },
        {
          "output_type": "display_data",
          "data": {
            "text/plain": [
              "Downloading config.json:   0%|          | 0.00/0.99k [00:00<?, ?B/s]"
            ],
            "application/vnd.jupyter.widget-view+json": {
              "version_major": 2,
              "version_minor": 0,
              "model_id": "80b3b17199b545fd95ee9d4fc8fe8e0c"
            }
          },
          "metadata": {}
        },
        {
          "output_type": "display_data",
          "data": {
            "text/plain": [
              "Downloading pytorch_model.bin:   0%|          | 0.00/567M [00:00<?, ?B/s]"
            ],
            "application/vnd.jupyter.widget-view+json": {
              "version_major": 2,
              "version_minor": 0,
              "model_id": "c07fb9be8ea44dbb98d8b3eba28bf0d5"
            }
          },
          "metadata": {}
        },
        {
          "output_type": "stream",
          "name": "stderr",
          "text": [
            "Some weights of the model checkpoint at danielhou13/longformer-finetuned_papers_v2 were not used when initializing LongformerForSequenceClassification: ['longformer.embeddings.position_ids']\n",
            "- This IS expected if you are initializing LongformerForSequenceClassification from the checkpoint of a model trained on another task or with another architecture (e.g. initializing a BertForSequenceClassification model from a BertForPreTraining model).\n",
            "- This IS NOT expected if you are initializing LongformerForSequenceClassification from the checkpoint of a model that you expect to be exactly identical (initializing a BertForSequenceClassification model from a BertForSequenceClassification model).\n"
          ]
        },
        {
          "output_type": "stream",
          "name": "stdout",
          "text": [
            "['input_ids', 'attention_mask', 'labels']\n"
          ]
        }
      ],
      "source": [
        "cogs402_test = papers_validation_set()\n",
        "model = longformer_finetuned_papers(model_path)\n",
        "columns = cogs402_test.input_columns + cogs402_test.target_columns\n",
        "print(columns)\n",
        "cogs402_test.set_format(type='torch', columns=columns)\n",
        "cogs402_test=cogs402_test.remove_columns(['text'])"
      ]
    },
    {
      "cell_type": "markdown",
      "source": [
        "Load news model and dataset and preprocess it"
      ],
      "metadata": {
        "id": "22BIYrX8NOVC"
      },
      "id": "22BIYrX8NOVC"
    },
    {
      "cell_type": "code",
      "source": [
        "# cogs402_test = news_test_set()\n",
        "# model = longformer_finetuned_news(model_path2)\n",
        "# columns = cogs402_test.input_columns + cogs402_test.target_columns\n",
        "# print(columns)\n",
        "# cogs402_test.set_format(type='torch', columns=columns)\n",
        "# cogs402_test=cogs402_test.remove_columns(['text'])"
      ],
      "metadata": {
        "id": "xh-YZZyo_eZx"
      },
      "id": "xh-YZZyo_eZx",
      "execution_count": null,
      "outputs": []
    },
    {
      "cell_type": "code",
      "execution_count": null,
      "id": "deaabfa2-0855-41fd-870c-7a8b91e32d44",
      "metadata": {
        "id": "deaabfa2-0855-41fd-870c-7a8b91e32d44",
        "colab": {
          "base_uri": "https://localhost:8080/"
        },
        "outputId": "898bc17a-4927-4caf-c087-d14860eee1f6"
      },
      "outputs": [
        {
          "output_type": "stream",
          "name": "stdout",
          "text": [
            "cuda:0\n"
          ]
        }
      ],
      "source": [
        "if torch.cuda.is_available():\n",
        "    model = model.cuda()\n",
        "\n",
        "print(model.device)"
      ]
    },
    {
      "cell_type": "markdown",
      "source": [
        "## Predict over the dataset"
      ],
      "metadata": {
        "id": "lUXRli8TIIwm"
      },
      "id": "lUXRli8TIIwm"
    },
    {
      "cell_type": "markdown",
      "source": [
        "Predict using the model on the selected dataset using the [Huggingface trainer](https://huggingface.co/docs/transformers/main_classes/trainer) API."
      ],
      "metadata": {
        "id": "IXjbkX-PAGay"
      },
      "id": "IXjbkX-PAGay"
    },
    {
      "cell_type": "code",
      "source": [
        "from transformers import Trainer, TrainingArguments\n",
        "\n",
        "batch_size = 1\n",
        "gradient_acc = 4\n",
        "model_name = f\"longformer-finetuned_papers\"\n",
        "training_args = TrainingArguments(output_dir=f\"models/{model_name}\",\n",
        "                                  num_train_epochs = 2,\n",
        "                                  learning_rate=2e-5,\n",
        "                                  per_device_train_batch_size=batch_size,\n",
        "                                  per_device_eval_batch_size=batch_size,\n",
        "                                  weight_decay=0.01,\n",
        "                                  evaluation_strategy=\"epoch\",\n",
        "                                  disable_tqdm=False,\n",
        "                                  push_to_hub=False,\n",
        "                                  log_level=\"error\",\n",
        "                                  fp16=True,\n",
        "                                  gradient_accumulation_steps=gradient_acc,\n",
        "                                  gradient_checkpointing=True,\n",
        "                                  save_strategy = \"epoch\")"
      ],
      "metadata": {
        "id": "7PUTFonI_XLM"
      },
      "id": "7PUTFonI_XLM",
      "execution_count": null,
      "outputs": []
    },
    {
      "cell_type": "markdown",
      "source": [
        "F1 and accuracy are good general metrics for model performance. Recall and precision can be used if desired."
      ],
      "metadata": {
        "id": "NSxE_HDPAKaT"
      },
      "id": "NSxE_HDPAKaT"
    },
    {
      "cell_type": "code",
      "source": [
        "from sklearn.metrics import accuracy_score, f1_score\n",
        "\n",
        "def compute_metrics(pred):\n",
        "    labels = pred.label_ids\n",
        "    preds = pred.predictions.argmax(-1)\n",
        "    f1 = f1_score(labels, preds, average=\"weighted\")\n",
        "    acc = accuracy_score(labels, preds)\n",
        "    return {\"accuracy\": acc, \"f1\": f1}"
      ],
      "metadata": {
        "id": "65V97tOz_e37"
      },
      "id": "65V97tOz_e37",
      "execution_count": null,
      "outputs": []
    },
    {
      "cell_type": "markdown",
      "source": [
        "Place the finishing touches on our trainer, passing in the arguments, model, metrics, and datacollator (which doesn't really matter here as we pass in one item at a time)."
      ],
      "metadata": {
        "id": "SmeWbe1hEpjD"
      },
      "id": "SmeWbe1hEpjD"
    },
    {
      "cell_type": "code",
      "source": [
        "from transformers import DataCollatorWithPadding\n",
        "data_collator = DataCollatorWithPadding(tokenizer=tokenizer)\n",
        "\n",
        "trainer = Trainer(\n",
        "    model=model,\n",
        "    args=training_args,\n",
        "    compute_metrics=compute_metrics,\n",
        "    tokenizer=tokenizer,\n",
        "    data_collator = data_collator\n",
        ")"
      ],
      "metadata": {
        "id": "TpkwUmWN_lu1"
      },
      "id": "TpkwUmWN_lu1",
      "execution_count": null,
      "outputs": []
    },
    {
      "cell_type": "markdown",
      "source": [
        "Here we predict over the entire validation set."
      ],
      "metadata": {
        "id": "J_rg0KRlE2PU"
      },
      "id": "J_rg0KRlE2PU"
    },
    {
      "cell_type": "code",
      "source": [
        "preds_output = trainer.predict(cogs402_test)"
      ],
      "metadata": {
        "id": "4W9kCODH_wfT",
        "colab": {
          "base_uri": "https://localhost:8080/",
          "height": 17
        },
        "outputId": "de2e0acd-6fcc-429a-e1fb-250650ed2d20"
      },
      "id": "4W9kCODH_wfT",
      "execution_count": null,
      "outputs": [
        {
          "output_type": "display_data",
          "data": {
            "text/plain": [
              "<IPython.core.display.HTML object>"
            ],
            "text/html": [
              ""
            ]
          },
          "metadata": {}
        }
      ]
    },
    {
      "cell_type": "markdown",
      "source": [
        "## Picking Examples"
      ],
      "metadata": {
        "id": "wj5dQazdIbxH"
      },
      "id": "wj5dQazdIbxH"
    },
    {
      "cell_type": "markdown",
      "source": [
        "False negatives and false postives are usually very interesting examples to analyze so to get the list of all false negatives and positives, we get our model's predictions and the list of true labels."
      ],
      "metadata": {
        "id": "wjeyImJmApjd"
      },
      "id": "wjeyImJmApjd"
    },
    {
      "cell_type": "code",
      "source": [
        "y_preds = np.argmax(preds_output.predictions, axis=1)\n",
        "y_true = np.array(cogs402_test[\"labels\"])"
      ],
      "metadata": {
        "id": "IyRQ0z-QAzAU"
      },
      "id": "IyRQ0z-QAzAU",
      "execution_count": null,
      "outputs": []
    },
    {
      "cell_type": "markdown",
      "source": [
        "We can get the list of false negatives and false positives by subtracting the list of labels. \n",
        "\n",
        "\n",
        "If, after subtracting, the list is 0, then we have a correct prediction as the two labels are the same. We can then filter by the value of the labels to get the positive and negative class. \n",
        "\n",
        "\n",
        "If, after subtracting the false label from the true label, we have a negative, then we know that the actual label is 0 while the predicted label is 1 (as 0-1 is -1). Therefore, we get a false positive in that case. \n",
        "\n",
        "\n",
        "On the other hand, if after subtracting the false label from the true label, we get a positive, then we know that the actual label is 1 while the predicted label is 0 (as 1-0 is 1). Therefore, we have a false negative."
      ],
      "metadata": {
        "id": "T9iF_01WFrZL"
      },
      "id": "T9iF_01WFrZL"
    },
    {
      "cell_type": "code",
      "source": [
        "diff = y_true-y_preds\n",
        "correct = np.where(diff == 0)[0]\n",
        "\n",
        "pos = np.where((y_true-y_preds == 0) & (y_true==1))[0]\n",
        "neg = np.where((y_true-y_preds == 0) & (y_true==0))[0]\n",
        "\n",
        "false_pos = np.where(diff == -1)[0]\n",
        "false_neg = np.where(diff == 1)[0]\n",
        "\n",
        "print('Correctly classified: ', correct)\n",
        "\n",
        "print('cor pos: ', pos)\n",
        "print('cor neg: ', neg)\n",
        "\n",
        "print('False positives: ', false_pos)\n",
        "print('False negatives: ', false_neg)"
      ],
      "metadata": {
        "id": "ZoIa9_KIA2rt",
        "colab": {
          "base_uri": "https://localhost:8080/"
        },
        "outputId": "e7a2f852-227a-4911-d872-159cd99a6e18"
      },
      "id": "ZoIa9_KIA2rt",
      "execution_count": null,
      "outputs": [
        {
          "output_type": "stream",
          "name": "stdout",
          "text": [
            "Correctly classified:  [   0    1    2 ... 1067 1068 1069]\n",
            "cor pos:  [   0    3    5    7    9   10   12   13   14   16   18   20   26   28\n",
            "   30   32   33   39   40   41   42   43   45   49   53   58   60   62\n",
            "   64   65   68   69   72   75   76   80   81   82   86   87   90   92\n",
            "   93   95   97   98  101  105  107  108  112  113  114  116  118  119\n",
            "  120  122  124  125  126  129  131  132  135  136  141  143  145  146\n",
            "  151  153  154  155  158  160  162  163  164  165  166  167  170  172\n",
            "  174  176  177  178  180  181  182  183  185  187  188  189  192  193\n",
            "  194  195  198  199  201  202  203  204  205  208  212  215  217  218\n",
            "  219  220  224  225  229  230  233  236  238  240  241  244  247  255\n",
            "  256  257  260  261  265  266  267  268  270  273  276  277  278  280\n",
            "  281  283  284  286  287  289  290  291  292  293  296  297  299  300\n",
            "  303  305  307  308  309  312  313  314  315  316  317  318  319  321\n",
            "  327  328  330  333  334  340  342  343  344  346  347  352  353  355\n",
            "  356  360  361  364  365  367  370  372  373  374  380  381  388  389\n",
            "  390  391  396  399  402  403  404  407  411  414  415  416  417  418\n",
            "  419  420  421  422  423  424  425  429  430  431  435  438  439  440\n",
            "  441  442  444  447  448  449  451  452  455  456  458  460  461  464\n",
            "  467  470  471  472  476  479  485  486  488  489  490  491  492  493\n",
            "  495  498  500  502  505  507  511  512  515  516  518  519  522  524\n",
            "  529  530  531  532  533  535  537  539  540  541  542  545  546  548\n",
            "  549  553  554  558  559  560  562  565  567  568  571  577  581  583\n",
            "  584  586  587  588  591  594  595  596  597  598  600  602  604  607\n",
            "  608  613  615  620  622  623  624  625  626  628  629  630  631  633\n",
            "  635  636  638  639  640  642  646  649  655  656  659  660  662  663\n",
            "  666  667  669  671  673  674  675  678  679  680  683  692  693  696\n",
            "  698  699  703  704  706  708  711  715  716  717  718  720  723  724\n",
            "  725  726  727  730  732  735  736  737  738  739  740  746  747  748\n",
            "  749  753  755  759  760  763  764  765  766  767  768  770  772  773\n",
            "  776  779  780  781  782  783  786  787  789  790  791  792  794  795\n",
            "  796  799  801  803  804  809  810  812  814  815  816  817  819  821\n",
            "  822  824  825  827  828  829  830  835  836  839  847  850  853  856\n",
            "  858  859  861  862  867  871  874  875  876  879  883  884  885  886\n",
            "  888  895  897  898  899  900  907  908  912  914  915  917  918  920\n",
            "  922  924  926  930  931  933  936  938  939  940  941  942  943  946\n",
            "  947  948  949  951  952  953  955  956  959  961  963  965  966  968\n",
            "  969  970  972  976  978  979  980  981  984  985  986  987  989  991\n",
            "  996  997  999 1001 1002 1003 1004 1005 1008 1009 1010 1011 1014 1015\n",
            " 1016 1017 1019 1021 1025 1026 1027 1028 1035 1036 1038 1039 1043 1044\n",
            " 1045 1046 1048 1049 1053 1055 1057 1059 1061 1069]\n",
            "cor neg:  [   1    2    4    6    8   11   15   17   19   21   22   24   25   27\n",
            "   29   31   35   36   37   38   44   46   47   48   50   52   54   55\n",
            "   56   57   59   61   66   67   70   73   74   77   78   79   83   84\n",
            "   85   88   89   91   94   96   99  100  102  103  104  106  109  110\n",
            "  111  115  117  121  123  127  128  130  133  134  137  138  139  140\n",
            "  142  144  147  149  150  152  156  157  159  161  168  169  171  173\n",
            "  175  179  184  186  190  191  196  197  200  206  207  209  210  211\n",
            "  213  214  216  221  222  223  226  227  228  231  232  234  235  237\n",
            "  239  242  243  245  246  248  249  250  251  252  253  254  258  259\n",
            "  262  263  264  269  271  272  274  275  282  285  288  294  295  298\n",
            "  301  302  304  306  310  311  320  322  323  324  325  326  329  331\n",
            "  332  335  336  337  338  339  341  345  348  349  350  351  354  357\n",
            "  358  359  362  363  366  368  369  371  375  376  377  378  379  382\n",
            "  383  384  385  386  387  392  393  394  395  397  398  400  401  405\n",
            "  406  408  409  410  412  413  426  427  428  432  433  434  436  437\n",
            "  443  445  446  450  454  457  459  462  463  466  468  469  473  474\n",
            "  475  477  478  480  481  482  483  484  487  494  496  497  499  501\n",
            "  503  504  506  508  509  510  513  514  517  520  521  523  525  526\n",
            "  527  528  534  536  538  543  544  547  550  551  552  555  556  557\n",
            "  561  563  566  569  570  572  573  574  575  576  578  579  580  582\n",
            "  585  589  590  592  593  599  601  603  605  606  609  610  611  612\n",
            "  614  616  617  618  619  621  627  632  634  637  641  643  644  645\n",
            "  647  648  650  651  652  653  654  657  658  661  664  665  668  670\n",
            "  672  676  677  681  682  684  685  686  687  688  689  691  694  695\n",
            "  697  700  701  702  705  707  709  710  712  713  714  719  721  722\n",
            "  729  731  733  734  741  742  743  744  745  750  751  752  754  756\n",
            "  757  758  761  769  771  774  775  777  778  784  785  788  793  797\n",
            "  798  800  805  806  807  808  811  818  820  823  826  831  832  833\n",
            "  837  838  840  841  842  843  844  845  846  848  849  851  852  854\n",
            "  855  857  860  863  864  865  866  868  869  870  872  873  877  878\n",
            "  880  881  882  887  889  890  892  893  894  896  901  902  904  906\n",
            "  909  910  911  913  916  919  921  923  925  927  928  932  934  935\n",
            "  937  944  945  950  954  957  958  960  962  964  967  971  973  974\n",
            "  975  977  982  983  988  990  992  993  994  995  998 1000 1006 1007\n",
            " 1012 1013 1018 1020 1022 1023 1024 1029 1030 1031 1032 1033 1034 1037\n",
            " 1040 1041 1042 1047 1050 1051 1054 1056 1058 1060 1062 1063 1064 1065\n",
            " 1066 1067 1068]\n",
            "False positives:  [  23   34   51   63   71  148  279  453  690  728  762  802  813  834\n",
            "  903  905  929 1052]\n",
            "False negatives:  [465 564 891]\n"
          ]
        }
      ]
    },
    {
      "cell_type": "markdown",
      "source": [
        "Take example for evaluation based on random pick"
      ],
      "metadata": {
        "id": "d4DdhW2T6wHE"
      },
      "id": "d4DdhW2T6wHE"
    },
    {
      "cell_type": "code",
      "execution_count": null,
      "id": "a35e74a3-bd67-4ee2-8e5b-2da01503f27b",
      "metadata": {
        "id": "a35e74a3-bd67-4ee2-8e5b-2da01503f27b"
      },
      "outputs": [],
      "source": [
        "rand_pos = np.random.choice(pos, size=1)\n",
        "rand_neg = np.random.choice(neg, size=1)\n",
        "rand_fp = np.random.choice(false_pos, size=1)\n",
        "rand_fn = np.random.choice(false_neg, size=1)"
      ]
    },
    {
      "cell_type": "code",
      "source": [
        "# print(tokenizer.convert_ids_to_tokens(cogs402_test[\"input_ids\"][rand_neg[0]]))"
      ],
      "metadata": {
        "id": "f2TDMpA1nqk_"
      },
      "id": "f2TDMpA1nqk_",
      "execution_count": null,
      "outputs": []
    },
    {
      "cell_type": "markdown",
      "source": [
        "Some other interesting examples include the examples that are the most confidently predicted to be positive or negative. (i.e. the examples with the highest predicted probability)"
      ],
      "metadata": {
        "id": "kyVEhUfidwRV"
      },
      "id": "kyVEhUfidwRV"
    },
    {
      "cell_type": "code",
      "source": [
        "highest_pos = [np.argmax(preds_output.predictions[:,1])]\n",
        "highest_neg = [np.argmax(preds_output.predictions[:,0])]\n",
        "\n",
        "# for news dataset\n",
        "# highest_neg = [np.argmax(np.delete(preds_output.predictions, 1933, 0)[:,0])]\n",
        "\n",
        "print(highest_pos)\n",
        "print(highest_neg)"
      ],
      "metadata": {
        "id": "6WWpe52Cd3wk",
        "colab": {
          "base_uri": "https://localhost:8080/"
        },
        "outputId": "1aee61c8-e118-45b5-bf15-7bd88d49ab49"
      },
      "id": "6WWpe52Cd3wk",
      "execution_count": null,
      "outputs": [
        {
          "output_type": "stream",
          "name": "stdout",
          "text": [
            "[976]\n",
            "[605]\n"
          ]
        }
      ]
    },
    {
      "cell_type": "markdown",
      "source": [
        "## Getting the attention"
      ],
      "metadata": {
        "id": "RIeTsarXI7I9"
      },
      "id": "RIeTsarXI7I9"
    },
    {
      "cell_type": "markdown",
      "source": [
        "Now that we have the example we want to visualize the attentions for, we pass it into the model again in order to obtain the attention output. We stack the attentions to get an output attention tensor of shape: (layer, batch, head, seq_len, x + attention_window + 1) and a global attention tensor of shape (layer, batch, head, seq_len, x) where x is the number of global attention tokens."
      ],
      "metadata": {
        "id": "xctV7QJdJEDe"
      },
      "id": "xctV7QJdJEDe"
    },
    {
      "cell_type": "code",
      "source": [
        "test_val = [976]\n",
        "print(test_val)\n",
        "testexam = cogs402_test[test_val]"
      ],
      "metadata": {
        "id": "FrX3LUUxeORB",
        "colab": {
          "base_uri": "https://localhost:8080/"
        },
        "outputId": "3f71acea-1bf2-4ae6-bb0d-1e36583e7f07"
      },
      "id": "FrX3LUUxeORB",
      "execution_count": null,
      "outputs": [
        {
          "output_type": "stream",
          "name": "stdout",
          "text": [
            "[976]\n"
          ]
        }
      ]
    },
    {
      "cell_type": "code",
      "execution_count": null,
      "id": "04c5bcaf-5fe3-4813-8444-5cfb2c63a92b",
      "metadata": {
        "id": "04c5bcaf-5fe3-4813-8444-5cfb2c63a92b",
        "colab": {
          "base_uri": "https://localhost:8080/"
        },
        "outputId": "9b2cc59c-52b7-4c5a-da15-c0c7f7d36884"
      },
      "outputs": [
        {
          "output_type": "stream",
          "name": "stdout",
          "text": [
            "output_attention.shape torch.Size([12, 1, 12, 2048, 514])\n",
            "gl_output_attention.shape torch.Size([12, 1, 12, 2048, 1])\n"
          ]
        }
      ],
      "source": [
        "output = model(testexam[\"input_ids\"].cuda(), attention_mask=testexam['attention_mask'].cuda(), labels=testexam['labels'].cuda(), output_attentions = True)\n",
        "batch_attn = output[-2]\n",
        "output_attentions = torch.stack(batch_attn).cpu()\n",
        "global_attention = output[-1]\n",
        "output_global_attentions = torch.stack(global_attention).cpu()\n",
        "print(\"output_attention.shape\", output_attentions.shape)\n",
        "print(\"gl_output_attention.shape\", output_global_attentions.shape)"
      ]
    },
    {
      "cell_type": "code",
      "source": [
        "print(testexam['labels'][0])\n",
        "print(output[1].argmax())"
      ],
      "metadata": {
        "id": "SO4yNy98t_UP",
        "colab": {
          "base_uri": "https://localhost:8080/"
        },
        "outputId": "b66a1da9-ffe3-41a4-b4bb-8cfc6ccc2392"
      },
      "id": "SO4yNy98t_UP",
      "execution_count": null,
      "outputs": [
        {
          "output_type": "stream",
          "name": "stdout",
          "text": [
            "tensor(1)\n",
            "tensor(1, device='cuda:0')\n"
          ]
        }
      ]
    },
    {
      "cell_type": "code",
      "execution_count": null,
      "id": "2467c3d1-fe58-4e6d-aa98-534a6df72fcc",
      "metadata": {
        "id": "2467c3d1-fe58-4e6d-aa98-534a6df72fcc"
      },
      "outputs": [],
      "source": [
        "# print(os.getcwd())\n",
        "# yes = torch.load(\"resources/longformer_test2/epoch_3/aggregate_attn.pt\")"
      ]
    },
    {
      "cell_type": "markdown",
      "source": [
        "A unique property of the longformer model is that the matrix output for the attention is not a seq_len x seq_len output. Each token can only attend to the preceeding w/2 tokens and the succeeding w/2 tokens, dictated by whatever you choose the model's attention window w to be. Another name for this is called the sliding window attention. Therefore, we need to convert sliding attention matrix to correct seq_len x seq_len matrix to remain consistent with other types of Transformer Neural Networks.\n",
        "\n",
        "To do so, we run the following 4 functions. Our attentions will change from an output attention tensor of shape (layer, batch, head, seq_len, x + attention_window + 1) and a global attention tensor of shape (layer, batch, head, seq_len, x) to a single numpy array of shape (layer, batch, head, seq_len, seq_len). More information about the functions can be found here. More information about the functions can be found [here](https://colab.research.google.com/drive/1Kxx26NtIlUzioRCHpsR8IbSz_DpRFxEZ#scrollTo=liVhkxiH9Le0)."
      ],
      "metadata": {
        "id": "OevnNprR67LK"
      },
      "id": "OevnNprR67LK"
    },
    {
      "cell_type": "code",
      "execution_count": null,
      "id": "0882a3e5-1b0c-4319-92a3-92f5b516d854",
      "metadata": {
        "id": "0882a3e5-1b0c-4319-92a3-92f5b516d854"
      },
      "outputs": [],
      "source": [
        "def create_head_matrix(output_attentions, global_attentions):\n",
        "    new_attention_matrix = torch.zeros((output_attentions.shape[0], \n",
        "                                      output_attentions.shape[0]))\n",
        "    for i in range(output_attentions.shape[0]):\n",
        "        test_non_zeroes = torch.nonzero(output_attentions[i]).squeeze()\n",
        "        test2 = output_attentions[i][test_non_zeroes[1:]]\n",
        "        new_attention_matrix_indices = test_non_zeroes[1:]-257 + i\n",
        "        new_attention_matrix[i][new_attention_matrix_indices] = test2\n",
        "        new_attention_matrix[i][0] = output_attentions[i][0]\n",
        "        new_attention_matrix[0] = global_attentions.squeeze()[:output_attentions.shape[0]]\n",
        "    return new_attention_matrix.detach().cpu().numpy()\n",
        "\n",
        "\n",
        "def attentions_all_heads(output_attentions, global_attentions):\n",
        "    new_matrix = []\n",
        "    for i in range(output_attentions.shape[0]):\n",
        "        matrix = create_head_matrix(output_attentions[i], global_attentions[i])\n",
        "        new_matrix.append(matrix)\n",
        "    return np.stack(new_matrix)\n",
        "\n",
        "\n",
        "def all_batches(output_attentions, global_attentions):\n",
        "    new_matrix = []\n",
        "    for i in range(output_attentions.shape[0]):\n",
        "        matrix = attentions_all_heads(output_attentions[i], global_attentions[i])\n",
        "        new_matrix.append(matrix)\n",
        "    return np.stack(new_matrix)\n",
        "\n",
        "def all_layers(output_attentions, global_attentions):\n",
        "    new_matrix = []\n",
        "    for i in range(output_attentions.shape[0]):\n",
        "        matrix = all_batches(output_attentions[i], global_attentions[i])\n",
        "        new_matrix.append(matrix)\n",
        "    return np.stack(new_matrix)"
      ]
    },
    {
      "cell_type": "code",
      "source": [
        "converted_mat = all_layers(output_attentions, output_global_attentions)\n",
        "print(converted_mat.shape)"
      ],
      "metadata": {
        "id": "IpdfMEMAuvyR",
        "colab": {
          "base_uri": "https://localhost:8080/"
        },
        "outputId": "782929e8-9b99-4d0f-9a1a-d1abcf075030"
      },
      "id": "IpdfMEMAuvyR",
      "execution_count": null,
      "outputs": [
        {
          "output_type": "stream",
          "name": "stdout",
          "text": [
            "(12, 1, 12, 2048, 2048)\n"
          ]
        }
      ]
    },
    {
      "cell_type": "code",
      "source": [
        "print(testexam['input_ids'])"
      ],
      "metadata": {
        "id": "SIwlL_rUIlO3",
        "colab": {
          "base_uri": "https://localhost:8080/"
        },
        "outputId": "1592584d-99e9-4923-e028-798fc7493132"
      },
      "id": "SIwlL_rUIlO3",
      "execution_count": null,
      "outputs": [
        {
          "output_type": "stream",
          "name": "stdout",
          "text": [
            "tensor([[    0, 29642,    25,  ...,  3156,     6,     2]])\n"
          ]
        }
      ]
    },
    {
      "cell_type": "markdown",
      "source": [
        "## Formatting the attentions"
      ],
      "metadata": {
        "id": "OA32VVs6KF-M"
      },
      "id": "OA32VVs6KF-M"
    },
    {
      "cell_type": "markdown",
      "source": [
        "Our end goal is to overlay the attentions onto the tokens and produce a PDF of the results, so we need to grab the original tokens from the text. We cant grab the original text as it is one large string, but using the tokenizer function, we can change our input ids back to a list of tokens."
      ],
      "metadata": {
        "id": "Sl4xm-JGKKvt"
      },
      "id": "Sl4xm-JGKKvt"
    },
    {
      "cell_type": "code",
      "source": [
        "all_tokens = tokenizer.convert_ids_to_tokens(testexam[\"input_ids\"][0])"
      ],
      "metadata": {
        "id": "N-Wr_p4LsTv-"
      },
      "id": "N-Wr_p4LsTv-",
      "execution_count": null,
      "outputs": []
    },
    {
      "cell_type": "code",
      "source": [
        "print(all_tokens)"
      ],
      "metadata": {
        "id": "q8Lb62qWFvwV",
        "colab": {
          "base_uri": "https://localhost:8080/"
        },
        "outputId": "5d73c954-5947-4803-eb2b-e65af95c841f"
      },
      "id": "q8Lb62qWFvwV",
      "execution_count": null,
      "outputs": [
        {
          "output_type": "stream",
          "name": "stdout",
          "text": [
            "['<s>', 'Published', 'Ġas', 'Ġa', 'Ġconference', 'Ġpaper', 'Ġin', 'ĠInternational', 'ĠConference', 'Ġof', 'ĠComputer', 'ĠVision', 'Ġ(', 'IC', 'CV', ')', 'Ġ2017', 'Ġ', 'ĠSpeaking', 'Ġthe', 'ĠSame', 'ĠLanguage', ':', 'ĠMatch', 'ing', 'ĠMachine', 'Ġto', 'ĠHuman', 'ĠCapt', 'ions', 'Ġby', 'ĠAd', 'vers', 'arial', 'ĠTraining', 'ĠRak', 'sh', 'ith', 'ĠShe', 'tty', '1', 'Ġ', 'ĠMarcus', 'ĠRoh', 'r', 'bach', '2', ',', '3', 'Ġ', 'Ġar', 'X', 'iv', ':', '17', '03', '.', '10', '476', 'v', '2', 'Ġ[', 'cs', '.', 'CV', ']', 'Ġ6', 'ĠNov', 'Ġ2017', 'Ġ', 'ĠMario', 'ĠFritz', '1', 'Ġ1', 'Ġ', 'ĠLisa', 'ĠAnne', 'ĠHendricks', '2', 'Ġ', 'ĠBer', 'nt', 'ĠS', 'chie', 'le', '1', 'Ġ', 'ĠMax', 'ĠPlan', 'ck', 'ĠInstitute', 'Ġfor', 'ĠIn', 'format', 'ics', ',', 'ĠSa', 'ar', 'land', 'ĠIn', 'format', 'ics', 'ĠCampus', ',', 'ĠSa', 'arb', 'ru', 'Ì', 'Ī', 'ck', 'en', ',', 'ĠGermany', 'Ġ2', 'Ġ3', 'ĠUC', 'ĠBerkeley', 'ĠE', 'EC', 'S', ',', 'ĠCA', ',', 'ĠUnited', 'ĠStates', 'ĠFacebook', 'ĠAI', 'ĠResearch', 'Ġ', 'ĠAbstract', 'ĠWhile', 'Ġstrong', 'Ġprogress', 'Ġhas', 'Ġbeen', 'Ġmade', 'Ġin', 'Ġimage', 'Ġcaption', 'ing', 'Ġrecently', ',', 'Ġmachine', 'Ġand', 'Ġhuman', 'Ġcapt', 'ions', 'Ġare', 'Ġstill', 'Ġquite', 'Ġdistinct', '.', 'ĠThis', 'Ġis', 'Ġprimarily', 'Ġdue', 'Ġto', 'Ġthe', 'Ġdeficiencies', 'Ġin', 'Ġthe', 'Ġgenerated', 'Ġword', 'Ġdistribution', ',', 'Ġvocabulary', 'Ġsize', ',', 'Ġand', 'Ġstrong', 'Ġbias', 'Ġin', 'Ġthe', 'Ġgenerators', 'Ġtowards', 'Ġfrequent', 'Ġcapt', 'ions', '.', 'ĠFurthermore', ',', 'Ġhumans', 'ĠâĢĵ', 'Ġrightfully', 'Ġso', 'ĠâĢĵ', 'Ġgenerate', 'Ġmultiple', ',', 'Ġdiverse', 'Ġcapt', 'ions', ',', 'Ġdue', 'Ġto', 'Ġthe', 'Ġinherent', 'Ġambiguity', 'Ġin', 'Ġthe', 'Ġcaption', 'ing', 'Ġtask', 'Ġwhich', 'Ġis', 'Ġnot', 'Ġexplicitly', 'Ġconsidered', 'Ġin', 'Ġtoday', 'âĢ', 'Ļ', 's', 'Ġsystems', '.', 'ĠTo', 'Ġaddress', 'Ġthese', 'Ġchallenges', ',', 'Ġwe', 'Ġchange', 'Ġthe', 'Ġtraining', 'Ġobjective', 'Ġof', 'Ġthe', 'Ġcaption', 'Ġgenerator', 'Ġfrom', 'Ġreprodu', 'cing', 'Ġground', 'truth', 'Ġcapt', 'ions', 'Ġto', 'Ġgenerating', 'Ġa', 'Ġset', 'Ġof', 'Ġcapt', 'ions', 'Ġthat', 'Ġis', 'Ġindistinguishable', 'Ġfrom', 'Ġhuman', 'Ġwritten', 'Ġcapt', 'ions', '.', 'ĠInstead', 'Ġof', 'Ġhand', 'craft', 'ing', 'Ġsuch', 'Ġa', 'Ġlearning', 'Ġtarget', ',', 'Ġwe', 'Ġemploy', 'Ġadvers', 'arial', 'Ġtraining', 'Ġin', 'Ġcombination', 'Ġwith', 'Ġan', 'Ġapproximate', 'ĠG', 'umb', 'el', 'Ġsam', 'pler', 'Ġto', 'Ġimplicitly', 'Ġmatch', 'Ġthe', 'Ġgenerated', 'Ġdistribution', 'Ġto', 'Ġthe', 'Ġhuman', 'Ġone', '.', 'ĠWhile', 'Ġour', 'Ġmethod', 'Ġachieves', 'Ġcomparable', 'Ġperformance', 'Ġto', 'Ġthe', 'Ġstate', '-', 'of', '-', 'the', '-', 'art', 'Ġin', 'Ġterms', 'Ġof', 'Ġthe', 'Ġcorrectness', 'Ġof', 'Ġthe', 'Ġcapt', 'ions', ',', 'Ġwe', 'Ġgenerate', 'Ġa', 'Ġset', 'Ġof', 'Ġdiverse', 'Ġcapt', 'ions', 'Ġthat', 'Ġare', 'Ġsignificantly', 'Ġless', 'Ġbiased', 'Ġand', 'Ġbetter', 'Ġmatch', 'Ġthe', 'Ġglobal', 'Ġun', 'i', '-,', 'Ġbi', '-', 'Ġand', 'Ġtri', '-', 'gram', 'Ġdistributions', 'Ġof', 'Ġthe', 'Ġhuman', 'Ġcapt', 'ions', '.', 'Ġ', 'ĠO', 'urs', ':', 'Ġa', 'Ġperson', 'Ġon', 'Ġsk', 'is', 'Ġjumping', 'Ġover', 'Ġa', 'Ġramp', 'Ġ', 'ĠO', 'urs', ':', 'Ġa', 'Ġsk', 'ier', 'Ġis', 'Ġmaking', 'Ġa', 'Ġturn', 'Ġon', 'Ġa', 'Ġcourse', 'Ġ', 'ĠO', 'urs', ':', 'Ġa', 'Ġcross', 'Ġcountry', 'Ġsk', 'ier', 'Ġmakes', 'Ġhis', 'Ġway', 'Ġthrough', 'Ġthe', 'Ġsnow', 'Ġ', 'ĠO', 'urs', ':', 'Ġa', 'Ġsk', 'ier', 'Ġis', 'Ġheaded', 'Ġdown', 'Ġa', 'Ġsteep', 'Ġslope', 'Ġ', 'ĠBas', 'eline', ':', 'Ġa', 'Ġman', 'Ġriding', 'Ġsk', 'is', 'Ġdown', 'Ġa', 'Ġsnow', 'Ġcovered', 'Ġslope', 'Ġ', 'ĠFigure', 'Ġ1', ':', 'ĠFour', 'Ġimages', 'Ġfrom', 'Ġthe', 'Ġtest', 'Ġset', ',', 'Ġall', 'Ġrelated', 'Ġto', 'Ġskiing', ',', 'Ġshown', 'Ġwith', 'Ġcapt', 'ions', 'Ġfrom', 'Ġour', 'Ġadvers', 'arial', 'Ġmodel', 'Ġand', 'Ġa', 'Ġbaseline', '.', 'ĠBas', 'eline', 'Ġmodel', 'Ġdescribes', 'Ġall', 'Ġfour', 'Ġimages', 'Ġwith', 'Ġone', 'Ġgeneric', 'Ġcaption', ',', 'Ġwhereas', 'Ġour', 'Ġmodel', 'Ġproduces', 'Ġdiverse', 'Ġand', 'Ġmore', 'Ġimage', 'Ġspecific', 'Ġcapt', 'ions', '.', 'ĠAs', 'Ġwe', 'Ġanalyze', 'Ġin', 'Ġthis', 'Ġpaper', ',', 'Ġthis', 'Ġis', 'Ġlikely', 'Ġdue', 'Ġto', 'Ġartifacts', 'Ġand', 'Ġdeficiencies', 'Ġin', 'Ġthe', 'Ġstatistics', 'Ġof', 'Ġthe', 'Ġgenerated', 'Ġcapt', 'ions', ',', 'Ġwhich', 'Ġis', 'Ġmore', 'Ġapparent', 'Ġwhen', 'Ġobserving', 'Ġmultiple', 'Ġsamples', '.', 'ĠSpecifically', ',', 'Ġwe', 'Ġobserve', 'Ġthat', 'Ġstate', '-', 'of', '-', 'the', '-', 'art', 'Ġsystems', 'Ġfrequently', 'ĠâĢ', 'ľ', 'reve', 'al', 'Ġthemselves', 'âĢ', 'Ŀ', 'Ġby', 'Ġgenerating', 'Ġa', 'Ġdifferent', 'Ġword', 'Ġdistribution', 'Ġand', 'Ġusing', 'Ġsmaller', 'Ġvocabulary', '.', 'ĠFurther', 'Ġscrutiny', 'Ġreveals', 'Ġthat', 'Ġgeneral', 'ization', 'Ġfrom', 'Ġthe', 'Ġtraining', 'Ġset', 'Ġis', 'Ġstill', 'Ġchallenging', 'Ġand', 'Ġgeneration', 'Ġis', 'Ġbiased', 'Ġto', 'Ġfrequent', 'Ġfragments', 'Ġand', 'Ġcapt', 'ions', '.', 'ĠAlso', ',', 'Ġtoday', 'âĢ', 'Ļ', 's', 'Ġsystems', 'Ġare', 'Ġevaluated', 'Ġto', 'Ġproduce', 'Ġa', 'Ġsingle', 'Ġcaption', '.', 'ĠYet', ',', 'Ġmultiple', 'Ġpotentially', 'Ġdistinct', 'Ġcapt', 'ions', 'Ġare', 'Ġtypically', 'Ġcorrect', 'Ġfor', 'Ġa', 'Ġsingle', 'Ġimage', 'ĠâĢĵ', 'Ġa', 'Ġproperty', 'Ġthat', 'Ġis', 'Ġreflected', 'Ġin', 'Ġhuman', 'Ġground', '-', 'truth', '.', 'ĠThis', 'Ġdiversity', 'Ġis', 'Ġnot', 'Ġequally', 'Ġreproduced', 'Ġby', 'Ġstate', '-', 'of', '-', 'the', '-', 'art', 'Ġcaption', 'Ġgenerators', 'Ġ[', '40', ',', 'Ġ23', '].', 'ĠTherefore', ',', 'Ġour', 'Ġgoal', 'Ġis', 'Ġto', 'Ġmake', 'Ġimage', 'Ġcapt', 'ions', 'Ġless', 'Ġdistinguish', 'able', 'Ġfrom', 'Ġhuman', 'Ġones', 'ĠâĢĵ', 'Ġsimilar', 'Ġin', 'Ġthe', 'Ġspirit', 'Ġto', 'Ġa', 'ĠTuring', 'Ġ', 'Ġ1', '.', 'ĠIntroduction', 'ĠImage', 'Ġcaption', 'ing', 'Ġsystems', 'Ġhave', 'Ġa', 'Ġvariety', 'Ġof', 'Ġapplications', 'Ġranging', 'Ġfrom', 'Ġmedia', 'Ġretrieval', 'Ġand', 'Ġtagging', 'Ġto', 'Ġassistance', 'Ġfor', 'Ġthe', 'Ġvisually', 'Ġimpaired', '.', 'ĠIn', 'Ġparticular', ',', 'Ġmodels', 'Ġwhich', 'Ġcombine', 'Ġstate', '-', 'of', '-', 'the', '-', 'art', 'Ġimage', 'Ġrepresentations', 'Ġbased', 'Ġon', 'Ġdeep', 'Ġconv', 'olution', 'al', 'Ġnetworks', 'Ġand', 'Ġdeep', 'Ġrecurrent', 'Ġlanguage', 'Ġmodels', 'Ġhave', 'Ġled', 'Ġto', 'Ġever', 'Ġincreasing', 'Ġperformance', 'Ġon', 'Ġevaluation', 'Ġmetrics', 'Ġsuch', 'Ġas', 'ĠC', 'ID', 'Er', 'Ġ[', '39', ']', 'Ġand', 'ĠMET', 'E', 'OR', 'Ġ[', '8', ']', 'Ġas', 'Ġcan', 'Ġbe', 'Ġseen', 'Ġe', '.', 'g', '.', 'Ġon', 'Ġthe', 'ĠC', 'OC', 'O', 'Ġimage', 'ĠCaption', 'Ġchallenge', 'Ġleader', 'board', 'Ġ[', '6', '].', 'ĠDespite', 'Ġthese', 'Ġadvances', ',', 'Ġit', 'Ġis', 'Ġoften', 'Ġeasy', 'Ġfor', 'Ġhumans', 'Ġto', 'Ġdifferentiate', 'Ġbetween', 'Ġmachine', 'Ġand', 'Ġhuman', 'Ġcapt', 'ions', 'ĠâĢĵ', 'Ġparticularly', 'Ġwhen', 'Ġobserving', 'Ġmultiple', 'Ġcapt', 'ions', 'Ġfor', 'Ġa', 'Ġsingle', 'Ġimage', '.', 'Ġ1', 'Ġ', 'Ġ', 'Č', '2', '.', 'ĠRelated', 'ĠWork', 'Ġ', 'Ġa', 'Ġbus', 'Ġthat', 'Ġhas', 'Ġpulled', 'Ġinto', 'Ġthe', 'Ġside', 'Ġof', 'Ġthe', 'Ġstreet', 'Ġa', 'Ġbus', 'Ġis', 'Ġparked', 'Ġat', 'Ġthe', 'Ġside', 'Ġof', 'Ġthe', 'Ġroad', 'Ġa', 'Ġwhite', 'Ġbus', 'Ġis', 'Ġparked', 'Ġnear', 'Ġa', 'Ġcurb', 'Ġwith', 'Ġpeople', 'Ġwalking', 'Ġby', 'Ġ', 'Ġa', 'Ġgroup', 'Ġof', 'Ġpeople', 'Ġstanding', 'Ġoutside', 'Ġin', 'Ġa', 'Ġold', 'Ġmuseum', 'Ġan', 'Ġairplane', 'Ġshow', 'Ġwhere', 'Ġpeople', 'Ġstand', 'Ġaround', 'Ġa', 'Ġline', 'Ġof', 'Ġplanes', 'Ġparked', 'Ġat', 'Ġan', 'Ġairport', 'Ġshow', 'Ġ', 'ĠBase', 'ĠâĢ¢', 'Ġa', 'Ġbus', 'Ġis', 'Ġparked', 'Ġon', 'Ġthe', 'Ġside', 'Ġof', 'Ġline', 'Ġthe', 'Ġroad', 'ĠâĢ¢', 'Ġa', 'Ġbus', 'Ġthat', 'Ġis', 'Ġparked', 'Ġin', 'Ġthe', 'Ġstreet', 'Ġa', 'Ġbus', 'Ġis', 'Ġparked', 'Ġin', 'Ġthe', 'Ġstreet', 'Ġnext', 'Ġto', 'Ġa', 'Ġbus', 'Ġ', 'Ġa', 'Ġgroup', 'Ġof', 'Ġpeople', 'Ġstanding', 'Ġaround', 'Ġa', 'Ġplane', 'Ġa', 'Ġgroup', 'Ġof', 'Ġpeople', 'Ġstanding', 'Ġaround', 'Ġa', 'Ġplane', 'Ġa', 'Ġgroup', 'Ġof', 'Ġpeople', 'Ġstanding', 'Ġaround', 'Ġa', 'Ġplane', 'Ġ', 'ĠO', 'urs', 'Ġ', 'ĠFigure', 'Ġ2', ':', 'ĠTwo', 'Ġexamples', 'Ġcomparing', 'Ġmultiple', 'Ġcapt', 'ions', 'Ġgenerated', 'Ġby', 'Ġour', 'Ġadvers', 'arial', 'Ġmodel', 'Ġand', 'Ġthe', 'Ġbaseline', '.', 'ĠBi', '-', 'gram', 's', 'Ġwhich', 'Ġare', 'Ġtop', '-', '20', 'Ġfrequent', 'Ġbi', '-', 'gram', 's', 'Ġin', 'Ġthe', 'Ġtraining', 'Ġset', 'Ġare', 'Ġmarked', 'Ġin', 'Ġred', 'Ġ(', 'e', '.', 'g', '.,', 'ĠâĢ', 'ľ', 'a', 'Ġgroup', 'âĢ', 'Ŀ', 'Ġand', 'ĠâĢ', 'ľ', 'group', 'Ġof', 'âĢ', 'Ŀ', ').', 'ĠCapt', 'ions', 'Ġwhich', 'Ġare', 'Ġrepl', 'icas', 'Ġfrom', 'Ġtraining', 'Ġset', 'Ġare', 'Ġmarked', 'Ġwith', 'ĠâĢ¢', 'Ġ.', 'ĠTest', '.', 'ĠWe', 'Ġalso', 'Ġembrace', 'Ġthe', 'Ġambiguity', 'Ġof', 'Ġthe', 'Ġtask', 'Ġand', 'Ġextend', 'Ġour', 'Ġinvestigation', 'Ġto', 'Ġpredicting', 'Ġsets', 'Ġof', 'Ġcapt', 'ions', 'Ġfor', 'Ġa', 'Ġsingle', 'Ġimage', 'Ġand', 'Ġevaluating', 'Ġtheir', 'Ġquality', ',', 'Ġparticularly', 'Ġin', 'Ġterms', 'Ġof', 'Ġthe', 'Ġdiversity', 'Ġin', 'Ġthe', 'Ġgenerated', 'Ġset', '.', 'ĠIn', 'Ġcontrast', ',', 'Ġpopular', 'Ġapproaches', 'Ġto', 'Ġimage', 'Ġcaption', 'ing', 'Ġare', 'Ġtrained', 'Ġwith', 'Ġan', 'Ġobjective', 'Ġto', 'Ġreproduce', 'Ġthe', 'Ġcapt', 'ions', 'Ġas', 'Ġprovided', 'Ġby', 'Ġthe', 'Ġground', '-', 'truth', '.', 'ĠInstead', 'Ġof', 'Ġrelying', 'Ġon', 'Ġhand', 'craft', 'ing', 'Ġloss', '-', 'fun', 'ctions', 'Ġto', 'Ġachieve', 'Ġour', 'Ġgoal', ',', 'Ġwe', 'Ġpropose', 'Ġan', 'Ġadvers', 'arial', 'Ġtraining', 'Ġmechanism', 'Ġfor', 'Ġimage', 'Ġcaption', 'ing', '.', 'ĠFor', 'Ġthis', 'Ġwe', 'Ġbuild', 'Ġon', 'ĠGener', 'ative', 'ĠAd', 'vers', 'arial', 'ĠNetworks', 'Ġ(', 'GAN', 's', ')', 'Ġ[', '14', '],', 'Ġwhich', 'Ġhave', 'Ġbeen', 'Ġsuccessfully', 'Ġused', 'Ġto', 'Ġgenerate', 'Ġmainly', 'Ġcontinuous', 'Ġdata', 'Ġdistributions', 'Ġsuch', 'Ġas', 'Ġimages', 'Ġ[', '9', ',', 'Ġ30', '],', 'Ġalthough', 'Ġexceptions', 'Ġexist', 'Ġ[', '27', '].', 'ĠIn', 'Ġcontrast', 'Ġto', 'Ġimages', ',', 'Ġcapt', 'ions', 'Ġare', 'Ġdiscrete', ',', 'Ġwhich', 'Ġposes', 'Ġa', 'Ġchallenge', 'Ġwhen', 'Ġtrying', 'Ġto', 'Ġback', 'prop', 'agate', 'Ġthrough', 'Ġthe', 'Ġgeneration', 'Ġstep', '.', 'ĠTo', 'Ġovercome', 'Ġthis', 'Ġobstacle', ',', 'Ġwe', 'Ġuse', 'Ġa', 'ĠG', 'umb', 'el', 'Ġsam', 'pler', 'Ġ[', '20', ',', 'Ġ28', ']', 'Ġthat', 'Ġallows', 'Ġfor', 'Ġend', '-', 'to', '-', 'end', 'Ġtraining', '.', 'ĠWe', 'Ġaddress', 'Ġthe', 'Ġproblem', 'Ġof', 'Ġcaption', 'Ġset', 'Ġgeneration', 'Ġfor', 'Ġimages', 'Ġand', 'Ġdiscuss', 'Ġmetrics', 'Ġto', 'Ġmeasure', 'Ġthe', 'Ġcaption', 'Ġdiversity', 'Ġand', 'Ġcompare', 'Ġit', 'Ġto', 'Ġhuman', 'Ġground', '-', 'truth', '.', 'ĠWe', 'Ġcontribute', 'Ġa', 'Ġnovel', 'Ġsolution', 'Ġto', 'Ġthis', 'Ġproblem', 'Ġusing', 'Ġan', 'Ġadvers', 'arial', 'Ġformulation', '.', 'ĠThe', 'Ġevaluation', 'Ġof', 'Ġour', 'Ġmodel', 'Ġshows', 'Ġthat', 'Ġaccuracy', 'Ġof', 'Ġgenerated', 'Ġcapt', 'ions', 'Ġis', 'Ġon', 'Ġpar', 'Ġto', 'Ġthe', 'Ġstate', '-', 'of', '-', 'the', '-', 'art', ',', 'Ġbut', 'Ġwe', 'Ġgreatly', 'Ġincrease', 'Ġthe', 'Ġdiversity', 'Ġof', 'Ġthe', 'Ġcaption', 'Ġsets', 'Ġand', 'Ġbetter', 'Ġmatch', 'Ġthe', 'Ġground', '-', 'truth', 'Ġstatistics', 'Ġin', 'Ġseveral', 'Ġmeasures', '.', 'ĠQual', 'itatively', ',', 'Ġour', 'Ġmodel', 'Ġproduces', 'Ġmore', 'Ġdiverse', 'Ġcapt', 'ions', 'Ġacross', 'Ġimages', 'Ġcontaining', 'Ġsimilar', 'Ġcontent', 'Ġ(', 'Figure', 'Ġ1', ')', 'Ġand', 'Ġwhen', 'Ġsampling', 'Ġmultiple', 'Ġcapt', 'ions', 'Ġfor', 'Ġan', 'Ġimage', 'Ġ(', 'see', 'Ġsupplementary', ')', '1', 'Ġ.', 'Ġ1', 'Ġhttps', '://', 'goo', '.', 'gl', '/', '3', 'y', 'R', 'V', 'n', 'q', 'Ġ', 'ĠImage', 'ĠDescription', '.', 'ĠEarly', 'Ġcaption', 'ing', 'Ġmodels', 'Ġrely', 'Ġon', 'Ġfirst', 'Ġrecognizing', 'Ġvisual', 'Ġelements', ',', 'Ġsuch', 'Ġas', 'Ġobjects', ',', 'Ġattributes', ',', 'Ġand', 'Ġactivities', ',', 'Ġand', 'Ġthen', 'Ġgenerating', 'Ġa', 'Ġsentence', 'Ġusing', 'Ġlanguage', 'Ġmodels', 'Ġsuch', 'Ġas', 'Ġa', 'Ġtemplate', 'Ġmodel', 'Ġ[', '13', '],', 'Ġn', '-', 'gram', 'Ġmodel', 'Ġ[', '22', '],', 'Ġor', 'Ġstatistical', 'Ġmachine', 'Ġtranslation', 'Ġ[', '34', '].', 'ĠAdv', 'ances', 'Ġin', 'Ġdeep', 'Ġlearning', 'Ġhave', 'Ġled', 'Ġto', 'Ġend', '-', 'to', '-', 'end', 'Ġtrain', 'able', 'Ġmodels', 'Ġthat', 'Ġcombine', 'Ġdeep', 'Ġconv', 'olution', 'al', 'Ġnetworks', 'Ġto', 'Ġextract', 'Ġvisual', 'Ġfeatures', 'Ġand', 'Ġrecurrent', 'Ġnetworks', 'Ġto', 'Ġgenerate', 'Ġsentences', 'Ġ[', '11', ',', 'Ġ41', ',', 'Ġ21', '].', 'ĠThough', 'Ġmodern', 'Ġdescription', 'Ġmodels', 'Ġare', 'Ġcapable', 'Ġof', 'Ġproducing', 'Ġcoherent', 'Ġsentences', 'Ġwhich', 'Ġaccurately', 'Ġdescribe', 'Ġan', 'Ġimage', ',', 'Ġthey', 'Ġtend', 'Ġto', 'Ġproduce', 'Ġgeneric', 'Ġsentences', 'Ġwhich', 'Ġare', 'Ġreplicated', 'Ġfrom', 'Ġthe', 'Ġtrain', 'Ġset', 'Ġ[', '10', '].', 'ĠFurthermore', ',', 'Ġan', 'Ġimage', 'Ġcan', 'Ġcorrespond', 'Ġto', 'Ġmany', 'Ġvalid', 'Ġdescriptions', '.', 'ĠHowever', ',', 'Ġat', 'Ġtest', 'Ġtime', ',', 'Ġsentences', 'Ġgenerated', 'Ġwith', 'Ġmethods', 'Ġsuch', 'Ġas', 'Ġbeam', 'Ġsearch', 'Ġare', 'Ġgenerally', 'Ġvery', 'Ġsimilar', '.', 'Ġ[', '40', ',', 'Ġ23', ']', 'Ġfocus', 'Ġon', 'Ġincreasing', 'Ġsentence', 'Ġdiversity', 'Ġby', 'Ġintegrating', 'Ġa', 'Ġdiversity', 'Ġpromoting', 'Ġhe', 'uristic', 'Ġinto', 'Ġbeam', 'Ġsearch', '.', 'Ġ[', '42', ']', 'Ġattempts', 'Ġto', 'Ġincrease', 'Ġthe', 'Ġdiversity', 'Ġin', 'Ġcaption', 'Ġgeneration', 'Ġby', 'Ġtraining', 'Ġan', 'Ġensemble', 'Ġof', 'Ġcaption', 'Ġgenerators', 'Ġeach', 'Ġspecializing', 'Ġin', 'Ġdifferent', 'Ġportions', 'Ġof', 'Ġthe', 'Ġtraining', 'Ġset', '.', 'ĠIn', 'Ġcontrast', ',', 'Ġwe', 'Ġfocus', 'Ġon', 'Ġimproving', 'Ġdiversity', 'Ġof', 'Ġgenerated', 'Ġcapt', 'ions', 'Ġusing', 'Ġa', 'Ġsingle', 'Ġmodel', '.', 'ĠOur', 'Ġmethod', 'Ġachieves', 'Ġthis', 'Ġby', 'Ġlearning', 'Ġa', 'Ġcorresponding', 'Ġmodel', 'Ġusing', 'Ġa', 'Ġdifferent', 'Ġtraining', 'Ġloss', 'Ġas', 'Ġopposed', 'Ġto', 'Ġafter', 'Ġtraining', 'Ġhas', 'Ġcompleted', '.', 'ĠWe', 'Ġnote', 'Ġthat', 'Ġgenerating', 'Ġdiverse', 'Ġsentences', 'Ġis', 'Ġalso', 'Ġa', 'Ġchallenge', 'Ġin', 'Ġvisual', 'Ġquestion', 'Ġgeneration', ',', 'Ġsee', 'Ġconcurrent', 'Ġwork', 'Ġ[', '19', '],', 'Ġand', 'Ġin', 'Ġlanguage', '-', 'only', 'Ġdialogue', 'Ġgeneration', 'Ġstudied', 'Ġin', 'Ġthe', 'Ġlinguistic', 'Ġcommunity', ',', 'Ġsee', 'Ġe', '.', 'g', '.', 'Ġ[', '23', ',', 'Ġ24', '].', 'ĠWhen', 'Ġtraining', 'Ġrecurrent', 'Ġdescription', 'Ġmodels', ',', 'Ġthe', 'Ġmost', 'Ġcommon', 'Ġmethod', 'Ġis', 'Ġto', 'Ġpredict', 'Ġa', 'Ġword', 'Ġw', 't', 'Ġconditioned', 'Ġon', 'Ġan', 'Ġimage', 'Ġand', 'Ġall', 'Ġprevious', 'Ġground', 'Ġtruth', 'Ġwords', '.', 'ĠAt', 'Ġtest', 'Ġtime', ',', 'Ġeach', 'Ġword', 'Ġis', 'Ġpredicted', 'Ġconditioned', 'Ġon', 'Ġan', 'Ġimage', 'Ġand', 'Ġpreviously', 'Ġpredicted', 'Ġwords', '.', 'ĠConsequently', ',', 'Ġat', 'Ġtest', 'Ġtime', 'Ġpredicted', 'Ġwords', 'Ġmay', 'Ġbe', 'Ġconditioned', 'Ġon', 'Ġwords', 'Ġthat', 'Ġwere', 'Ġincorrectly', 'Ġpredicted', 'Ġby', 'Ġthe', 'Ġmodel', '.', 'ĠBy', 'Ġonly', 'Ġtraining', 'Ġon', 'Ġground', 'Ġtruth', 'Ġwords', ',', 'Ġthe', 'Ġmodel', 'Ġsuffers', 'Ġfrom', 'Ġexposure', 'Ġbias', 'Ġ[', '31', ']', 'Ġand', 'Ġcannot', 'Ġeffectively', 'Ġlearn', 'Ġto', 'Ġrecover', 'Ġwhen', 'Ġit', 'Ġpredicts', 'Ġan', 'Ġincorrect', 'Ġword', 'Ġduring', 'Ġtraining', '.', 'ĠTo', 'Ġavoid', 'Ġthis', ',', 'Ġ[', '4', ']', 'Ġproposes', 'Ġa', 'Ġscheduled', 'Ġsampling', 'Ġtraining', 'Ġscheme', 'Ġwhich', 'Ġbegins', 'Ġby', 'Ġtraining', 'Ġwith', 'Ġground', 'Ġtruth', 'Ġwords', ',', 'Ġbut', 'Ġthen', 'Ġslowly', 'Ġconditions', 'Ġgenerated', 'Ġwords', 'Ġon', 'Ġwords', 'Ġpreviously', 'Ġproduced', 'Ġby', 'Ġthe', 'Ġmodel', '.', 'ĠHowever', ',', 'Ġ[', '17', ']', 'Ġshows', 'Ġthat', 'Ġthe', 'Ġscheduled', 'Ġsampling', 'Ġalgorithm', 'Ġis', 'Ġinconsistent', 'Ġand', 'Ġthe', 'Ġoptimal', 'Ġsolution', 'Ġunder', 'Ġthis', 'Ġobjective', 'Ġdoes', 'Ġnot', 'Ġconverge', 'Ġto', 'Ġthe', 'Ġtrue', 'Ġdata', 'Ġdistribution', '.', 'ĠTaking', 'Ġa', 'Ġdifferent', 'Ġdirection', ',', 'Ġ[', '31', ']', 'Ġproposes', 'Ġto', 'Ġaddress', 'Ġthe', 'Ġexposure', 'Ġbias', 'Ġby', 'Ġgradually', 'Ġmixing', 'Ġa', 'Ġsequence', 'Ġlevel', 'Ġloss', 'Ġ(', 'BLE', 'U', 'Ġscore', ')', 'Ġusing', 'ĠRE', 'IN', 'FOR', 'CE', 'Ġrule', 'Ġwith', 'Ġthe', 'Ġstandard', 'Ġmaximum', 'Ġlikelihood', 'Ġtraining', '.', 'ĠSeveral', 'Ġother', 'Ġworks', 'Ġhave', 'Ġfollowed', 'Ġthis', 'Ġup', 'Ġwith', 'Ġusing', 'Ġreinforcement', 'Ġlearning', 'Ġbased', 'Ġapproaches', 'Ġto', 'Ġdirectly', 'Ġoptimize', 'Ġthe', 'Ġevaluation', 'Ġmetrics', 'Ġlike', 'ĠB', 'LE', 'U', ',', 'ĠMET', 'E', 'OR', 'Ġand', 'ĠC', 'IDER', 'Ġ[', '33', ',', 'Ġ25', '].', 'ĠHowever', ',', 'Ġoptimizing', 'Ġthe', 'Ġevaluation', 'Ġmetrics', 'Ġdoes', 'Ġnot', 'Ġdirectly', 'Ġaddress', 'Ġthe', 'Ġdiversity', 'Ġof', 'Ġthe', 'Ġ', 'Ġ', 'Č', 'generated', 'Ġcapt', 'ions', '.', 'ĠSince', 'Ġall', 'Ġcurrent', 'Ġevaluation', 'Ġmetrics', 'Ġuse', 'Ġn', '-', 'gram', 'Ġmatching', 'Ġto', 'Ġscore', 'Ġthe', 'Ġcapt', 'ions', ',', 'Ġcapt', 'ions', 'Ġusing', 'Ġmore', 'Ġfrequent', 'Ġn', '-', 'gram', 's', 'Ġare', 'Ġlikely', 'Ġto', 'Ġachieve', 'Ġbetter', 'Ġscores', 'Ġthan', 'Ġones', 'Ġusing', 'Ġrare', 'r', 'Ġand', 'Ġmore', 'Ġdiverse', 'Ġn', '-', 'gram', 's', '.', 'ĠIn', 'Ġthis', 'Ġwork', ',', 'Ġwe', 'Ġformulate', 'Ġour', 'Ġcaption', 'Ġgenerator', 'Ġas', 'Ġa', 'Ġgener', 'ative', 'Ġadvers', 'arial', 'Ġnetwork', '.', 'ĠWe', 'Ġdesign', 'Ġa', 'Ġdiscrim', 'inator', 'Ġthat', 'Ġexplicitly', 'Ġencourages', 'Ġgenerated', 'Ġcapt', 'ions', 'Ġto', 'Ġbe', 'Ġdiverse', 'Ġand', 'Ġindistinguishable', 'Ġfrom', 'Ġhuman', 'Ġcapt', 'ions', '.', 'ĠThe', 'Ġgenerator', 'Ġis', 'Ġtrained', 'Ġwith', 'Ġan', 'Ġadvers', 'arial', 'Ġloss', 'Ġwith', 'Ġthis', 'Ġdiscrim', 'inator', '.', 'ĠConsequently', ',', 'Ġour', 'Ġmodel', 'Ġgenerates', 'Ġcapt', 'ions', 'Ġthat', 'Ġbetter', 'Ġreflect', 'Ġthe', 'Ġway', 'Ġhumans', 'Ġdescribe', 'Ġimages', 'Ġwhile', 'Ġmaintaining', 'Ġsimilar', 'Ġcorrectness', 'Ġas', 'Ġdetermined', 'Ġby', 'Ġa', 'Ġhuman', 'Ġevaluation', '.', 'ĠGener', 'ative', 'ĠAd', 'vers', 'arial', 'ĠNetworks', '.', 'ĠThe', 'ĠGener', 'ative', 'ĠAd', 'vers', 'arial', 'ĠNetworks', 'Ġ(', 'GAN', 's', ')', 'Ġ[', '14', ']', 'Ġframework', 'Ġlearns', 'Ġgener', 'ative', 'Ġmodels', 'Ġwithout', 'Ġexplicitly', 'Ġdefining', 'Ġa', 'Ġloss', 'Ġfrom', 'Ġa', 'Ġtarget', 'Ġdistribution', '.', 'ĠInstead', ',', 'ĠG', 'AN', 's', 'Ġlearn', 'Ġa', 'Ġgenerator', 'Ġusing', 'Ġa', 'Ġloss', 'Ġfrom', 'Ġa', 'Ġdiscrim', 'inator', 'Ġwhich', 'Ġtries', 'Ġto', 'Ġdifferentiate', 'Ġreal', 'Ġand', 'Ġgenerated', 'Ġsamples', ',', 'Ġwhere', 'Ġthe', 'Ġgenerated', 'Ġsamples', 'Ġcome', 'Ġfrom', 'Ġthe', 'Ġgenerator', '.', 'ĠWhen', 'Ġtraining', 'Ġto', 'Ġgenerate', 'Ġreal', 'Ġimages', ',', '</s>']\n"
          ]
        }
      ]
    },
    {
      "cell_type": "markdown",
      "source": [
        "Some heads may be more important than others so we scale each attention matrix by their respective head and layer. The notebook used to get head importance is [here](https://colab.research.google.com/drive/1O4QCi8ewBp7asegKqySRflTQZ9HeH8mQ?usp=sharing)."
      ],
      "metadata": {
        "id": "P-nS_AHa7Hv6"
      },
      "id": "P-nS_AHa7Hv6"
    },
    {
      "cell_type": "code",
      "source": [
        "# head_importance = torch.load(\"/content/drive/MyDrive/cogs402longformer/t3-visapplication/resources/papers/pretrained/head_importance.pt\")\n",
        "head_importance = torch.load(\"/content/drive/MyDrive/cogs402longformer/t3-visapplication/resources/news/head_importance.pt\")"
      ],
      "metadata": {
        "id": "UsAznmcDyBgR"
      },
      "id": "UsAznmcDyBgR",
      "execution_count": null,
      "outputs": []
    },
    {
      "cell_type": "code",
      "source": [
        "def scale_by_importance(attention_matrix, head_importance):\n",
        "  new_matrix = np.zeros_like(attention_matrix)\n",
        "  for i in range(attention_matrix.shape[0]):\n",
        "    head_importance_layer = head_importance[i]\n",
        "    for j in range(attention_matrix.shape[1]):\n",
        "      new_matrix[i,j] = attention_matrix[i,j] * np.expand_dims(head_importance_layer, axis=(1,2))\n",
        "  return new_matrix"
      ],
      "metadata": {
        "id": "_HFs_vLw0230"
      },
      "id": "_HFs_vLw0230",
      "execution_count": null,
      "outputs": []
    },
    {
      "cell_type": "code",
      "source": [
        "converted_mat_importance = scale_by_importance(converted_mat, head_importance)"
      ],
      "metadata": {
        "id": "XUcjPfxeHbqT"
      },
      "id": "XUcjPfxeHbqT",
      "execution_count": null,
      "outputs": []
    },
    {
      "cell_type": "markdown",
      "source": [
        "Get the sum of the attentions for all the tokens (column-wise). In other words, find out how much every word is attended to"
      ],
      "metadata": {
        "id": "u0ViKJAn7Ap0"
      },
      "id": "u0ViKJAn7Ap0"
    },
    {
      "cell_type": "code",
      "source": [
        "attention_matrix_importance = converted_mat_importance.sum(axis=3)\n",
        "print(attention_matrix_importance.shape)"
      ],
      "metadata": {
        "id": "EhMNdupbxFrx",
        "colab": {
          "base_uri": "https://localhost:8080/"
        },
        "outputId": "b7d3640a-ae52-4c79-ec34-46d5ba89da31"
      },
      "id": "EhMNdupbxFrx",
      "execution_count": null,
      "outputs": [
        {
          "output_type": "stream",
          "name": "stdout",
          "text": [
            "(12, 1, 12, 2048)\n"
          ]
        }
      ]
    },
    {
      "cell_type": "markdown",
      "source": [
        "## Visualizing the Attention"
      ],
      "metadata": {
        "id": "BvnR9GJi13oP"
      },
      "id": "BvnR9GJi13oP"
    },
    {
      "cell_type": "markdown",
      "source": [
        "A dataframe is good for picking out information from the example, but it isn't the best being a easy to read visualization. Its easier to see how much each word is attended to in an example if we have the actual example, with the words highlighted based on the magnitude of attention.\n",
        "\n",
        "We use https://github.com/jiesutd/Text-Attention-Heatmap-Visualization to show how much each token in the example is attended to, up to the max number of tokens we specified earlier.\n",
        "\n",
        "In short, these functions iterate over the list of attentions and tokens, cleans the tokens to remove special characters, and normalizes the data if you wish for it to."
      ],
      "metadata": {
        "id": "DjTu0_guLI1T"
      },
      "id": "DjTu0_guLI1T"
    },
    {
      "cell_type": "code",
      "source": [
        "## convert the text/attention list to latex code, which will further generates the text heatmap based on attention weights.\n",
        "import numpy as np\n",
        "\n",
        "latex_special_token = [\"!@#$%^&*(){}\"]\n",
        "\n",
        "def generate(text_list, attention_list, latex_file, color='red', rescale_value = True):\n",
        "\tassert(len(text_list) == len(attention_list))\n",
        "\tif rescale_value:\n",
        "\t\tattention_list = rescale(attention_list)\n",
        "\tword_num = len(text_list)\n",
        "\ttext_list = clean_word(text_list)\n",
        "\twith open(latex_file,'w') as f:\n",
        "\t\tf.write(r'''\\documentclass[varwidth]{standalone}\n",
        "\\special{papersize=210mm,297mm}\n",
        "\\usepackage{color}\n",
        "\\usepackage{tcolorbox}\n",
        "\\usepackage{CJK}\n",
        "\\usepackage{adjustbox}\n",
        "\\tcbset{width=0.9\\textwidth,boxrule=0pt,colback=red,arc=0pt,auto outer arc,left=0pt,right=0pt,boxsep=5pt}\n",
        "\\begin{document}\n",
        "\\begin{CJK*}{UTF8}{gbsn}'''+'\\n')\n",
        "\t\tstring = r'''{\\setlength{\\fboxsep}{0pt}\\colorbox{white!0}{\\parbox{0.9\\textwidth}{'''+\"\\n\"\n",
        "\t\tfor idx in range(word_num):\n",
        "\t\t\tstring += \"\\\\colorbox{%s!%s}{\"%(color, attention_list[idx])+\"\\\\strut \" + text_list[idx]+\"} \"\n",
        "\t\tstring += \"\\n}}}\"\n",
        "\t\tf.write(string+'\\n')\n",
        "\t\tf.write(r'''\\end{CJK*}\n",
        "\\end{document}''')\n",
        "\n",
        "def rescale(input_list):\n",
        "\tthe_array = np.asarray(input_list)\n",
        "\tthe_max = np.max(the_array)\n",
        "\tthe_min = np.min(the_array)\n",
        "\trescale = ((the_array - the_min)/(the_max-the_min))*100\n",
        "\treturn rescale.tolist()\n",
        "\n",
        "\n",
        "def clean_word(word_list):\n",
        "\tnew_word_list = []\n",
        "\tfor word in word_list:\n",
        "\t\tfor special_sensitive in [\"\\\\\", \"^\"]:\n",
        "\t\t\tif special_sensitive in word:\n",
        "\t\t\t\tword = word.replace(special_sensitive, '')\n",
        "\t\tfor latex_sensitive in [\"%\", \"&\", \"#\", \"_\",  \"{\", \"}\"]:\n",
        "\t\t\tif latex_sensitive in word:\n",
        "\t\t\t\tword = word.replace(latex_sensitive, '\\\\' +latex_sensitive)\n",
        "\t\tnew_word_list.append(word)\n",
        "\treturn new_word_list"
      ],
      "metadata": {
        "id": "FCsAm5i3jmKA"
      },
      "id": "FCsAm5i3jmKA",
      "execution_count": null,
      "outputs": []
    },
    {
      "cell_type": "markdown",
      "source": [
        "Here, we sum get the attentions over all layers and heads."
      ],
      "metadata": {
        "id": "chtfdhR_LmE2"
      },
      "id": "chtfdhR_LmE2"
    },
    {
      "cell_type": "code",
      "source": [
        "average_attention = attention_matrix_importance.squeeze().sum(axis=1)\n",
        "average_attention = average_attention.sum(axis=0)\n",
        "print(average_attention)"
      ],
      "metadata": {
        "id": "goaO9arYjopz",
        "colab": {
          "base_uri": "https://localhost:8080/"
        },
        "outputId": "24c7de8b-cad8-47f2-8816-082625fb5b00"
      },
      "id": "goaO9arYjopz",
      "execution_count": null,
      "outputs": [
        {
          "output_type": "stream",
          "name": "stdout",
          "text": [
            "[604.9671      6.2070427   2.2286723 ...   2.5912647   2.3770938\n",
            "   3.018391 ]\n"
          ]
        }
      ]
    },
    {
      "cell_type": "markdown",
      "source": [
        "We call the main function above. It takes in a list of tokens, a list of attentions, a title, and a colour. Please change \"papers\" to whatever your project requires."
      ],
      "metadata": {
        "id": "Hzic3AuULynV"
      },
      "id": "Hzic3AuULynV"
    },
    {
      "cell_type": "code",
      "source": [
        "title_all = f\"papers_{test_val[0]}.tex\"\n",
        "generate(all_tokens, average_attention, title_all, 'red')"
      ],
      "metadata": {
        "id": "htPtu7kErWfN"
      },
      "id": "htPtu7kErWfN",
      "execution_count": null,
      "outputs": []
    },
    {
      "cell_type": "markdown",
      "source": [
        "Lets suppose you don't want to find out the attentions over all layers, but just one layer. You can do that by doing one less summation and instead picking out the layer you want immediately. Here we are picking out the last layer."
      ],
      "metadata": {
        "id": "TCKn9M3ILsEh"
      },
      "id": "TCKn9M3ILsEh"
    },
    {
      "cell_type": "code",
      "source": [
        "print(attention_matrix_importance[11].squeeze().shape)\n",
        "average_attention_final_layer = attention_matrix_importance[11].squeeze().sum(axis=0)\n",
        "print(average_attention_final_layer)\n",
        "\n",
        "# mean_12 = np.median(average_attention_final_layer)\n",
        "# average_attention_final_layer[average_attention_final_layer < mean_12] = 0\n",
        "# print(average_attention_final_layer)"
      ],
      "metadata": {
        "id": "GaM018NVunZH",
        "colab": {
          "base_uri": "https://localhost:8080/"
        },
        "outputId": "4dca1b40-ce65-4d32-8b72-91d58d381f6a"
      },
      "id": "GaM018NVunZH",
      "execution_count": null,
      "outputs": [
        {
          "output_type": "stream",
          "name": "stdout",
          "text": [
            "(12, 2048)\n",
            "[0.30879778 0.10836545 0.05027822 ... 0.09086546 0.03899628 0.03265005]\n"
          ]
        }
      ]
    },
    {
      "cell_type": "markdown",
      "source": [
        "We call the main function above. Please change \"papers\" to whatever your project requires."
      ],
      "metadata": {
        "id": "Cq8g9U_RML8Y"
      },
      "id": "Cq8g9U_RML8Y"
    },
    {
      "cell_type": "code",
      "source": [
        "title_last_layer = f\"papers_{test_val[0]}_layer_12_only.tex\"\n",
        "generate(all_tokens, average_attention_final_layer, title_last_layer, 'red')"
      ],
      "metadata": {
        "id": "fSl21NvVyW-n"
      },
      "id": "fSl21NvVyW-n",
      "execution_count": null,
      "outputs": []
    },
    {
      "cell_type": "markdown",
      "source": [
        "Of course, you can experiment with which layers, or heads you want to visualize the attentions for based on what you desire from your own project."
      ],
      "metadata": {
        "id": "46NQc1FGMTf6"
      },
      "id": "46NQc1FGMTf6"
    },
    {
      "cell_type": "markdown",
      "source": [
        "## Masked Attention\n",
        "\n",
        "Lets suppose we want to look at the attention heatmap without the stopwords and punctuations"
      ],
      "metadata": {
        "id": "8x5OJe-NVZ4x"
      },
      "id": "8x5OJe-NVZ4x"
    },
    {
      "cell_type": "markdown",
      "source": [
        "We import a list of stopwords from nltk and tokenize them so they are in the same style as our input tokens. We create a set using the stopwords."
      ],
      "metadata": {
        "id": "CZo1iiYfVj0y"
      },
      "id": "CZo1iiYfVj0y"
    },
    {
      "cell_type": "code",
      "source": [
        "import nltk\n",
        "from transformers import AutoTokenizer\n",
        "nltk.download('stopwords')\n",
        "tokenizer2 = AutoTokenizer.from_pretrained('allenai/longformer-base-4096', add_prefix_space=True)"
      ],
      "metadata": {
        "id": "hiFZX4ShyRkv",
        "colab": {
          "base_uri": "https://localhost:8080/"
        },
        "outputId": "9ac677ca-33cb-48fe-c680-f98cccd38698"
      },
      "id": "hiFZX4ShyRkv",
      "execution_count": null,
      "outputs": [
        {
          "output_type": "stream",
          "name": "stderr",
          "text": [
            "[nltk_data] Downloading package stopwords to /root/nltk_data...\n",
            "[nltk_data]   Unzipping corpora/stopwords.zip.\n"
          ]
        }
      ]
    },
    {
      "cell_type": "code",
      "source": [
        "from nltk.corpus import stopwords\n",
        "all_stopwords = stopwords.words('english')\n",
        "all_stopwords.append(\" \")\n",
        "stopwords = set(tokenizer2.tokenize(all_stopwords, is_split_into_words =True))\n",
        "stopwords.update(all_stopwords)\n",
        "print(stopwords)"
      ],
      "metadata": {
        "id": "YSp0bf1ZyTn8",
        "colab": {
          "base_uri": "https://localhost:8080/"
        },
        "outputId": "3a46310c-fd1b-4293-f6a7-452566898b5b"
      },
      "id": "YSp0bf1ZyTn8",
      "execution_count": null,
      "outputs": [
        {
          "output_type": "stream",
          "name": "stdout",
          "text": [
            "{'Ġneed', 'Ġtheirs', 'am', 'Ġbut', 'did', 'his', 'me', 've', 'Ġto', 'Ġwill', 'during', \"it's\", \"don't\", 'Ġany', 'Ġherself', 'Ġonly', 'd', 'Ġll', 'of', 'hers', 'while', 'Ġain', \"you've\", 'Ġfurther', 'Ġfew', 'Ġours', 'Ġshouldn', 'yourself', 'against', \"haven't\", 'Ġdoesn', 'Ġve', 'off', 'Ġafter', 'doing', 'Ġsame', 'any', 'again', 'Ġaren', 'ain', 'Ġif', 'Ġwon', 'all', 'once', 'Ġour', 'or', 'Ġsuch', 'Ġoff', 'needn', \"'re\", 'Ġwere', 'Ġhave', \"that'll\", 'here', \"hadn't\", 'over', 'Ġwe', 'Ġthis', 'mustn', 'haven', 'about', 'by', 'i', 'Ġother', \"won't\", 'll', 'didn', 'Ġits', 'Ġd', 'Ġhadn', 'shan', 'Ġhaving', 'Ġthey', 'Ġthat', 'Ġmore', 'which', \"doesn't\", 'Ġyou', 'between', \"aren't\", 'more', 'wasn', 'Ġwhat', 'Ġthrough', 'Ġt', 'Ġthose', 'Ġboth', 'ma', 'Ġhasn', 'whom', 'a', 'Ġthan', 'an', 'Ġwhich', 'so', 'Ġabove', 'your', 'each', 'Ġbefore', 'Ġo', 'there', 'Ġhis', 'Ġcouldn', 'Ġi', 'Ġor', 'do', 'Ġre', 'Ġthem', 'this', 'doesn', 'Ġwhom', 'are', \"needn't\", 'him', 'Ġinto', \"mightn't\", 'Ġare', 'y', \"hasn't\", 'only', 'Ġweren', 's', 'Ġbeing', \"'ll\", 'below', 'Ġmight', \"'s\", 'won', 'Ġsome', 'under', 'how', 'until', 'wouldn', 'Ġfor', 'themselves', 'if', 'they', 'Ġdidn', \"'ve\", 'on', 'Ġshould', 'why', 'Ġthe', 'both', 'Ġourselves', 'Ġdoes', 'Ġ', 'Ġdoing', 'we', 'with', 'Ġmyself', 'Ġhim', 'Ġup', 'the', 'into', 'Ġwhere', 'Ġan', 'Ġwhy', 'theirs', 'Ġhaven', 'through', 'out', 'my', 'Ġeach', 'up', 'Ġhers', \"wouldn't\", 'were', 'shouldn', 'itself', 'Ġwasn', \"shouldn't\", 'Ġall', 'what', 'Ġbe', 'should', \"you'd\", 'Ġhere', \"wasn't\", 'n', 'few', 'ours', 'Ġonce', 'after', 'who', 'hasn', 'Ġdown', \"'t\", 'Ġcan', 'myself', 'Ġwhen', 'Ġbelow', 'as', 'very', 'Ġwhile', 'them', 'Ġma', 't', 'Ġmust', 'at', 'Ġhad', 'was', 'Ġso', 'he', 'Ġbetween', 'Ġunder', 'our', 'before', 'now', 'Ġown', 'ourselves', 'yourselves', 'Ġher', \"you'll\", 'Ġout', 'Ġover', 'same', 'been', 'Ġmost', 'when', 'Ġsh', 'own', 'because', 'Ġs', 'isn', 'couldn', 'Ġagain', 'm', 'other', 'Ġabout', 'Ġwho', 'Ġmy', 'weren', 'Ġand', 'their', 'had', 'some', 'Ġhe', 'Ġduring', \"mustn't\", 'but', 'don', \"she's\", 'Ġtheir', 'have', 'Ġdid', 'no', 'where', \"couldn't\", 'than', 'she', 'Ġthen', 'such', 'Ġby', 'just', 'Ġam', 'having', 'Ġof', 'further', 'mightn', 'Ġuntil', 'Ġyours', \"isn't\", 'Ġat', 'be', 'Ġvery', 'Ġwith', \"should've\", 'yours', 'and', \"didn't\", 'Ġno', \"weren't\", \"shan't\", 'Ġtoo', 'Ġnor', 'most', 'Ġas', 'Ġdon', 'has', 'Ġisn', 'it', 'o', 'nor', 'those', 'is', 'does', 'aren', \"'d\", 'Ġitself', 'Ġbecause', 'Ġhas', 'Ġwas', 'Ġyour', 'then', 'Ġit', 'its', 'Ġdo', 'Ġbeen', 'for', 'Ġthemselves', 'Ġon', 'Ġin', 'Ġhow', 'Ġshe', ' ', 'not', 'to', 'Ġy', 'Ġjust', 'these', 'Ġis', 'that', 'Ġnot', 'Ġa', 'Ġthere', 'you', 'Ġyourself', 'can', 'will', 'Ġm', 'Ġagainst', 'too', 'down', 'Ġhimself', 'Ġthese', 'in', 'hadn', 'Ġfrom', 're', 'her', 'Ġwouldn', 'Ġyourselves', 'himself', 'from', 'Ġnow', 'above', 'herself', \"you're\", 'Ġme', 'being'}\n"
          ]
        }
      ]
    },
    {
      "cell_type": "markdown",
      "source": [
        "We apply the mask over the summed attention by creating a mask where all words that are in our set of stopwords or non-alpha are set to 0. "
      ],
      "metadata": {
        "id": "wEfwtSKcVtjw"
      },
      "id": "wEfwtSKcVtjw"
    },
    {
      "cell_type": "code",
      "source": [
        "alpha_neumeric_nums = [idx for idx, element in enumerate(all_tokens) if element.isalpha() if element not in stopwords]\n",
        "mask = np.ones(average_attention_final_layer.shape,dtype=bool) \n",
        "mask[alpha_neumeric_nums] = False\n",
        "\n",
        "average_attention_final_layer[mask] = 0\n",
        "average_attention[mask] = 0"
      ],
      "metadata": {
        "id": "Kq7809nZyrc1"
      },
      "id": "Kq7809nZyrc1",
      "execution_count": null,
      "outputs": []
    },
    {
      "cell_type": "markdown",
      "source": [
        "Remake the heatmap using our masked attention."
      ],
      "metadata": {
        "id": "4pG_hAgpWJCw"
      },
      "id": "4pG_hAgpWJCw"
    },
    {
      "cell_type": "code",
      "source": [
        "title_all = f\"papers_{test_val[0]}_all_masked.tex\"\n",
        "generate(all_tokens, average_attention, title_all, 'red')"
      ],
      "metadata": {
        "id": "QO8GQ0TWWIe-"
      },
      "id": "QO8GQ0TWWIe-",
      "execution_count": null,
      "outputs": []
    },
    {
      "cell_type": "code",
      "source": [
        "title_all = f\"papers_{test_val[0]}_12_masked.tex\"\n",
        "generate(all_tokens, average_attention_final_layer, title_all, 'red')"
      ],
      "metadata": {
        "id": "96qlyzW9QQQM"
      },
      "id": "96qlyzW9QQQM",
      "execution_count": null,
      "outputs": []
    }
  ],
  "metadata": {
    "kernelspec": {
      "display_name": "Python 3",
      "name": "python3"
    },
    "language_info": {
      "name": "python"
    },
    "colab": {
      "name": "Token_attention_with_head_importance_pdf.ipynb",
      "provenance": [],
      "collapsed_sections": [],
      "machine_shape": "hm",
      "include_colab_link": true
    },
    "accelerator": "GPU",
    "gpuClass": "standard",
    "widgets": {
      "application/vnd.jupyter.widget-state+json": {
        "c3d18789f8184972ba3e7ad79dde97d3": {
          "model_module": "@jupyter-widgets/controls",
          "model_name": "HBoxModel",
          "model_module_version": "1.5.0",
          "state": {
            "_dom_classes": [],
            "_model_module": "@jupyter-widgets/controls",
            "_model_module_version": "1.5.0",
            "_model_name": "HBoxModel",
            "_view_count": null,
            "_view_module": "@jupyter-widgets/controls",
            "_view_module_version": "1.5.0",
            "_view_name": "HBoxView",
            "box_style": "",
            "children": [
              "IPY_MODEL_44a36d2dfa9e4dd187bedcb2db59e122",
              "IPY_MODEL_38d4ee9bd7d5401caf3a7d04f0ce49ae",
              "IPY_MODEL_809bcd938ae04d1daacb298de158ce4c"
            ],
            "layout": "IPY_MODEL_86a9e194b8394515833dd337e1d7f1b8"
          }
        },
        "44a36d2dfa9e4dd187bedcb2db59e122": {
          "model_module": "@jupyter-widgets/controls",
          "model_name": "HTMLModel",
          "model_module_version": "1.5.0",
          "state": {
            "_dom_classes": [],
            "_model_module": "@jupyter-widgets/controls",
            "_model_module_version": "1.5.0",
            "_model_name": "HTMLModel",
            "_view_count": null,
            "_view_module": "@jupyter-widgets/controls",
            "_view_module_version": "1.5.0",
            "_view_name": "HTMLView",
            "description": "",
            "description_tooltip": null,
            "layout": "IPY_MODEL_ec397cfcf24f4760bcb7431b3c3bbc83",
            "placeholder": "​",
            "style": "IPY_MODEL_a960ecd7d03046f38d76a9935eed0506",
            "value": "Downloading config.json: 100%"
          }
        },
        "38d4ee9bd7d5401caf3a7d04f0ce49ae": {
          "model_module": "@jupyter-widgets/controls",
          "model_name": "FloatProgressModel",
          "model_module_version": "1.5.0",
          "state": {
            "_dom_classes": [],
            "_model_module": "@jupyter-widgets/controls",
            "_model_module_version": "1.5.0",
            "_model_name": "FloatProgressModel",
            "_view_count": null,
            "_view_module": "@jupyter-widgets/controls",
            "_view_module_version": "1.5.0",
            "_view_name": "ProgressView",
            "bar_style": "success",
            "description": "",
            "description_tooltip": null,
            "layout": "IPY_MODEL_63f19c86c0a9459ba1d6d4ddcdf8df9a",
            "max": 694,
            "min": 0,
            "orientation": "horizontal",
            "style": "IPY_MODEL_e39397c749804a08b81d7bddcf2ea69d",
            "value": 694
          }
        },
        "809bcd938ae04d1daacb298de158ce4c": {
          "model_module": "@jupyter-widgets/controls",
          "model_name": "HTMLModel",
          "model_module_version": "1.5.0",
          "state": {
            "_dom_classes": [],
            "_model_module": "@jupyter-widgets/controls",
            "_model_module_version": "1.5.0",
            "_model_name": "HTMLModel",
            "_view_count": null,
            "_view_module": "@jupyter-widgets/controls",
            "_view_module_version": "1.5.0",
            "_view_name": "HTMLView",
            "description": "",
            "description_tooltip": null,
            "layout": "IPY_MODEL_b99b4982963a414b8666a924e5bd580b",
            "placeholder": "​",
            "style": "IPY_MODEL_499e5e2c273145769da5d09a77c2b6a9",
            "value": " 694/694 [00:00&lt;00:00, 20.1kB/s]"
          }
        },
        "86a9e194b8394515833dd337e1d7f1b8": {
          "model_module": "@jupyter-widgets/base",
          "model_name": "LayoutModel",
          "model_module_version": "1.2.0",
          "state": {
            "_model_module": "@jupyter-widgets/base",
            "_model_module_version": "1.2.0",
            "_model_name": "LayoutModel",
            "_view_count": null,
            "_view_module": "@jupyter-widgets/base",
            "_view_module_version": "1.2.0",
            "_view_name": "LayoutView",
            "align_content": null,
            "align_items": null,
            "align_self": null,
            "border": null,
            "bottom": null,
            "display": null,
            "flex": null,
            "flex_flow": null,
            "grid_area": null,
            "grid_auto_columns": null,
            "grid_auto_flow": null,
            "grid_auto_rows": null,
            "grid_column": null,
            "grid_gap": null,
            "grid_row": null,
            "grid_template_areas": null,
            "grid_template_columns": null,
            "grid_template_rows": null,
            "height": null,
            "justify_content": null,
            "justify_items": null,
            "left": null,
            "margin": null,
            "max_height": null,
            "max_width": null,
            "min_height": null,
            "min_width": null,
            "object_fit": null,
            "object_position": null,
            "order": null,
            "overflow": null,
            "overflow_x": null,
            "overflow_y": null,
            "padding": null,
            "right": null,
            "top": null,
            "visibility": null,
            "width": null
          }
        },
        "ec397cfcf24f4760bcb7431b3c3bbc83": {
          "model_module": "@jupyter-widgets/base",
          "model_name": "LayoutModel",
          "model_module_version": "1.2.0",
          "state": {
            "_model_module": "@jupyter-widgets/base",
            "_model_module_version": "1.2.0",
            "_model_name": "LayoutModel",
            "_view_count": null,
            "_view_module": "@jupyter-widgets/base",
            "_view_module_version": "1.2.0",
            "_view_name": "LayoutView",
            "align_content": null,
            "align_items": null,
            "align_self": null,
            "border": null,
            "bottom": null,
            "display": null,
            "flex": null,
            "flex_flow": null,
            "grid_area": null,
            "grid_auto_columns": null,
            "grid_auto_flow": null,
            "grid_auto_rows": null,
            "grid_column": null,
            "grid_gap": null,
            "grid_row": null,
            "grid_template_areas": null,
            "grid_template_columns": null,
            "grid_template_rows": null,
            "height": null,
            "justify_content": null,
            "justify_items": null,
            "left": null,
            "margin": null,
            "max_height": null,
            "max_width": null,
            "min_height": null,
            "min_width": null,
            "object_fit": null,
            "object_position": null,
            "order": null,
            "overflow": null,
            "overflow_x": null,
            "overflow_y": null,
            "padding": null,
            "right": null,
            "top": null,
            "visibility": null,
            "width": null
          }
        },
        "a960ecd7d03046f38d76a9935eed0506": {
          "model_module": "@jupyter-widgets/controls",
          "model_name": "DescriptionStyleModel",
          "model_module_version": "1.5.0",
          "state": {
            "_model_module": "@jupyter-widgets/controls",
            "_model_module_version": "1.5.0",
            "_model_name": "DescriptionStyleModel",
            "_view_count": null,
            "_view_module": "@jupyter-widgets/base",
            "_view_module_version": "1.2.0",
            "_view_name": "StyleView",
            "description_width": ""
          }
        },
        "63f19c86c0a9459ba1d6d4ddcdf8df9a": {
          "model_module": "@jupyter-widgets/base",
          "model_name": "LayoutModel",
          "model_module_version": "1.2.0",
          "state": {
            "_model_module": "@jupyter-widgets/base",
            "_model_module_version": "1.2.0",
            "_model_name": "LayoutModel",
            "_view_count": null,
            "_view_module": "@jupyter-widgets/base",
            "_view_module_version": "1.2.0",
            "_view_name": "LayoutView",
            "align_content": null,
            "align_items": null,
            "align_self": null,
            "border": null,
            "bottom": null,
            "display": null,
            "flex": null,
            "flex_flow": null,
            "grid_area": null,
            "grid_auto_columns": null,
            "grid_auto_flow": null,
            "grid_auto_rows": null,
            "grid_column": null,
            "grid_gap": null,
            "grid_row": null,
            "grid_template_areas": null,
            "grid_template_columns": null,
            "grid_template_rows": null,
            "height": null,
            "justify_content": null,
            "justify_items": null,
            "left": null,
            "margin": null,
            "max_height": null,
            "max_width": null,
            "min_height": null,
            "min_width": null,
            "object_fit": null,
            "object_position": null,
            "order": null,
            "overflow": null,
            "overflow_x": null,
            "overflow_y": null,
            "padding": null,
            "right": null,
            "top": null,
            "visibility": null,
            "width": null
          }
        },
        "e39397c749804a08b81d7bddcf2ea69d": {
          "model_module": "@jupyter-widgets/controls",
          "model_name": "ProgressStyleModel",
          "model_module_version": "1.5.0",
          "state": {
            "_model_module": "@jupyter-widgets/controls",
            "_model_module_version": "1.5.0",
            "_model_name": "ProgressStyleModel",
            "_view_count": null,
            "_view_module": "@jupyter-widgets/base",
            "_view_module_version": "1.2.0",
            "_view_name": "StyleView",
            "bar_color": null,
            "description_width": ""
          }
        },
        "b99b4982963a414b8666a924e5bd580b": {
          "model_module": "@jupyter-widgets/base",
          "model_name": "LayoutModel",
          "model_module_version": "1.2.0",
          "state": {
            "_model_module": "@jupyter-widgets/base",
            "_model_module_version": "1.2.0",
            "_model_name": "LayoutModel",
            "_view_count": null,
            "_view_module": "@jupyter-widgets/base",
            "_view_module_version": "1.2.0",
            "_view_name": "LayoutView",
            "align_content": null,
            "align_items": null,
            "align_self": null,
            "border": null,
            "bottom": null,
            "display": null,
            "flex": null,
            "flex_flow": null,
            "grid_area": null,
            "grid_auto_columns": null,
            "grid_auto_flow": null,
            "grid_auto_rows": null,
            "grid_column": null,
            "grid_gap": null,
            "grid_row": null,
            "grid_template_areas": null,
            "grid_template_columns": null,
            "grid_template_rows": null,
            "height": null,
            "justify_content": null,
            "justify_items": null,
            "left": null,
            "margin": null,
            "max_height": null,
            "max_width": null,
            "min_height": null,
            "min_width": null,
            "object_fit": null,
            "object_position": null,
            "order": null,
            "overflow": null,
            "overflow_x": null,
            "overflow_y": null,
            "padding": null,
            "right": null,
            "top": null,
            "visibility": null,
            "width": null
          }
        },
        "499e5e2c273145769da5d09a77c2b6a9": {
          "model_module": "@jupyter-widgets/controls",
          "model_name": "DescriptionStyleModel",
          "model_module_version": "1.5.0",
          "state": {
            "_model_module": "@jupyter-widgets/controls",
            "_model_module_version": "1.5.0",
            "_model_name": "DescriptionStyleModel",
            "_view_count": null,
            "_view_module": "@jupyter-widgets/base",
            "_view_module_version": "1.2.0",
            "_view_name": "StyleView",
            "description_width": ""
          }
        },
        "3cc699d7da2045d09c29d4e2404d287c": {
          "model_module": "@jupyter-widgets/controls",
          "model_name": "HBoxModel",
          "model_module_version": "1.5.0",
          "state": {
            "_dom_classes": [],
            "_model_module": "@jupyter-widgets/controls",
            "_model_module_version": "1.5.0",
            "_model_name": "HBoxModel",
            "_view_count": null,
            "_view_module": "@jupyter-widgets/controls",
            "_view_module_version": "1.5.0",
            "_view_name": "HBoxView",
            "box_style": "",
            "children": [
              "IPY_MODEL_e5e1e3ced7014e7891e7c967dcff4148",
              "IPY_MODEL_b6498aadf8404d149003fe7ea070d0f8",
              "IPY_MODEL_c02c2a91064d453f91a551337487c578"
            ],
            "layout": "IPY_MODEL_19e5543ce3f041309cfdbf3e06b1f7f9"
          }
        },
        "e5e1e3ced7014e7891e7c967dcff4148": {
          "model_module": "@jupyter-widgets/controls",
          "model_name": "HTMLModel",
          "model_module_version": "1.5.0",
          "state": {
            "_dom_classes": [],
            "_model_module": "@jupyter-widgets/controls",
            "_model_module_version": "1.5.0",
            "_model_name": "HTMLModel",
            "_view_count": null,
            "_view_module": "@jupyter-widgets/controls",
            "_view_module_version": "1.5.0",
            "_view_name": "HTMLView",
            "description": "",
            "description_tooltip": null,
            "layout": "IPY_MODEL_869af571bd7a4d4e8c402ae21403cd26",
            "placeholder": "​",
            "style": "IPY_MODEL_a3f09676bc544342aa7877b709f4a2ef",
            "value": "Downloading vocab.json: 100%"
          }
        },
        "b6498aadf8404d149003fe7ea070d0f8": {
          "model_module": "@jupyter-widgets/controls",
          "model_name": "FloatProgressModel",
          "model_module_version": "1.5.0",
          "state": {
            "_dom_classes": [],
            "_model_module": "@jupyter-widgets/controls",
            "_model_module_version": "1.5.0",
            "_model_name": "FloatProgressModel",
            "_view_count": null,
            "_view_module": "@jupyter-widgets/controls",
            "_view_module_version": "1.5.0",
            "_view_name": "ProgressView",
            "bar_style": "success",
            "description": "",
            "description_tooltip": null,
            "layout": "IPY_MODEL_3f462a99e92a492bb6101e8530eaecf5",
            "max": 898823,
            "min": 0,
            "orientation": "horizontal",
            "style": "IPY_MODEL_a884227183b14891af6916f8bcf3efe5",
            "value": 898823
          }
        },
        "c02c2a91064d453f91a551337487c578": {
          "model_module": "@jupyter-widgets/controls",
          "model_name": "HTMLModel",
          "model_module_version": "1.5.0",
          "state": {
            "_dom_classes": [],
            "_model_module": "@jupyter-widgets/controls",
            "_model_module_version": "1.5.0",
            "_model_name": "HTMLModel",
            "_view_count": null,
            "_view_module": "@jupyter-widgets/controls",
            "_view_module_version": "1.5.0",
            "_view_name": "HTMLView",
            "description": "",
            "description_tooltip": null,
            "layout": "IPY_MODEL_9aa0c1b8c5c54a67be37f376879c12bb",
            "placeholder": "​",
            "style": "IPY_MODEL_bcc055d04896460da7ed28b19367ff1e",
            "value": " 878k/878k [00:00&lt;00:00, 2.98MB/s]"
          }
        },
        "19e5543ce3f041309cfdbf3e06b1f7f9": {
          "model_module": "@jupyter-widgets/base",
          "model_name": "LayoutModel",
          "model_module_version": "1.2.0",
          "state": {
            "_model_module": "@jupyter-widgets/base",
            "_model_module_version": "1.2.0",
            "_model_name": "LayoutModel",
            "_view_count": null,
            "_view_module": "@jupyter-widgets/base",
            "_view_module_version": "1.2.0",
            "_view_name": "LayoutView",
            "align_content": null,
            "align_items": null,
            "align_self": null,
            "border": null,
            "bottom": null,
            "display": null,
            "flex": null,
            "flex_flow": null,
            "grid_area": null,
            "grid_auto_columns": null,
            "grid_auto_flow": null,
            "grid_auto_rows": null,
            "grid_column": null,
            "grid_gap": null,
            "grid_row": null,
            "grid_template_areas": null,
            "grid_template_columns": null,
            "grid_template_rows": null,
            "height": null,
            "justify_content": null,
            "justify_items": null,
            "left": null,
            "margin": null,
            "max_height": null,
            "max_width": null,
            "min_height": null,
            "min_width": null,
            "object_fit": null,
            "object_position": null,
            "order": null,
            "overflow": null,
            "overflow_x": null,
            "overflow_y": null,
            "padding": null,
            "right": null,
            "top": null,
            "visibility": null,
            "width": null
          }
        },
        "869af571bd7a4d4e8c402ae21403cd26": {
          "model_module": "@jupyter-widgets/base",
          "model_name": "LayoutModel",
          "model_module_version": "1.2.0",
          "state": {
            "_model_module": "@jupyter-widgets/base",
            "_model_module_version": "1.2.0",
            "_model_name": "LayoutModel",
            "_view_count": null,
            "_view_module": "@jupyter-widgets/base",
            "_view_module_version": "1.2.0",
            "_view_name": "LayoutView",
            "align_content": null,
            "align_items": null,
            "align_self": null,
            "border": null,
            "bottom": null,
            "display": null,
            "flex": null,
            "flex_flow": null,
            "grid_area": null,
            "grid_auto_columns": null,
            "grid_auto_flow": null,
            "grid_auto_rows": null,
            "grid_column": null,
            "grid_gap": null,
            "grid_row": null,
            "grid_template_areas": null,
            "grid_template_columns": null,
            "grid_template_rows": null,
            "height": null,
            "justify_content": null,
            "justify_items": null,
            "left": null,
            "margin": null,
            "max_height": null,
            "max_width": null,
            "min_height": null,
            "min_width": null,
            "object_fit": null,
            "object_position": null,
            "order": null,
            "overflow": null,
            "overflow_x": null,
            "overflow_y": null,
            "padding": null,
            "right": null,
            "top": null,
            "visibility": null,
            "width": null
          }
        },
        "a3f09676bc544342aa7877b709f4a2ef": {
          "model_module": "@jupyter-widgets/controls",
          "model_name": "DescriptionStyleModel",
          "model_module_version": "1.5.0",
          "state": {
            "_model_module": "@jupyter-widgets/controls",
            "_model_module_version": "1.5.0",
            "_model_name": "DescriptionStyleModel",
            "_view_count": null,
            "_view_module": "@jupyter-widgets/base",
            "_view_module_version": "1.2.0",
            "_view_name": "StyleView",
            "description_width": ""
          }
        },
        "3f462a99e92a492bb6101e8530eaecf5": {
          "model_module": "@jupyter-widgets/base",
          "model_name": "LayoutModel",
          "model_module_version": "1.2.0",
          "state": {
            "_model_module": "@jupyter-widgets/base",
            "_model_module_version": "1.2.0",
            "_model_name": "LayoutModel",
            "_view_count": null,
            "_view_module": "@jupyter-widgets/base",
            "_view_module_version": "1.2.0",
            "_view_name": "LayoutView",
            "align_content": null,
            "align_items": null,
            "align_self": null,
            "border": null,
            "bottom": null,
            "display": null,
            "flex": null,
            "flex_flow": null,
            "grid_area": null,
            "grid_auto_columns": null,
            "grid_auto_flow": null,
            "grid_auto_rows": null,
            "grid_column": null,
            "grid_gap": null,
            "grid_row": null,
            "grid_template_areas": null,
            "grid_template_columns": null,
            "grid_template_rows": null,
            "height": null,
            "justify_content": null,
            "justify_items": null,
            "left": null,
            "margin": null,
            "max_height": null,
            "max_width": null,
            "min_height": null,
            "min_width": null,
            "object_fit": null,
            "object_position": null,
            "order": null,
            "overflow": null,
            "overflow_x": null,
            "overflow_y": null,
            "padding": null,
            "right": null,
            "top": null,
            "visibility": null,
            "width": null
          }
        },
        "a884227183b14891af6916f8bcf3efe5": {
          "model_module": "@jupyter-widgets/controls",
          "model_name": "ProgressStyleModel",
          "model_module_version": "1.5.0",
          "state": {
            "_model_module": "@jupyter-widgets/controls",
            "_model_module_version": "1.5.0",
            "_model_name": "ProgressStyleModel",
            "_view_count": null,
            "_view_module": "@jupyter-widgets/base",
            "_view_module_version": "1.2.0",
            "_view_name": "StyleView",
            "bar_color": null,
            "description_width": ""
          }
        },
        "9aa0c1b8c5c54a67be37f376879c12bb": {
          "model_module": "@jupyter-widgets/base",
          "model_name": "LayoutModel",
          "model_module_version": "1.2.0",
          "state": {
            "_model_module": "@jupyter-widgets/base",
            "_model_module_version": "1.2.0",
            "_model_name": "LayoutModel",
            "_view_count": null,
            "_view_module": "@jupyter-widgets/base",
            "_view_module_version": "1.2.0",
            "_view_name": "LayoutView",
            "align_content": null,
            "align_items": null,
            "align_self": null,
            "border": null,
            "bottom": null,
            "display": null,
            "flex": null,
            "flex_flow": null,
            "grid_area": null,
            "grid_auto_columns": null,
            "grid_auto_flow": null,
            "grid_auto_rows": null,
            "grid_column": null,
            "grid_gap": null,
            "grid_row": null,
            "grid_template_areas": null,
            "grid_template_columns": null,
            "grid_template_rows": null,
            "height": null,
            "justify_content": null,
            "justify_items": null,
            "left": null,
            "margin": null,
            "max_height": null,
            "max_width": null,
            "min_height": null,
            "min_width": null,
            "object_fit": null,
            "object_position": null,
            "order": null,
            "overflow": null,
            "overflow_x": null,
            "overflow_y": null,
            "padding": null,
            "right": null,
            "top": null,
            "visibility": null,
            "width": null
          }
        },
        "bcc055d04896460da7ed28b19367ff1e": {
          "model_module": "@jupyter-widgets/controls",
          "model_name": "DescriptionStyleModel",
          "model_module_version": "1.5.0",
          "state": {
            "_model_module": "@jupyter-widgets/controls",
            "_model_module_version": "1.5.0",
            "_model_name": "DescriptionStyleModel",
            "_view_count": null,
            "_view_module": "@jupyter-widgets/base",
            "_view_module_version": "1.2.0",
            "_view_name": "StyleView",
            "description_width": ""
          }
        },
        "8702e13f3fcd40c0a46d973c3e5f258e": {
          "model_module": "@jupyter-widgets/controls",
          "model_name": "HBoxModel",
          "model_module_version": "1.5.0",
          "state": {
            "_dom_classes": [],
            "_model_module": "@jupyter-widgets/controls",
            "_model_module_version": "1.5.0",
            "_model_name": "HBoxModel",
            "_view_count": null,
            "_view_module": "@jupyter-widgets/controls",
            "_view_module_version": "1.5.0",
            "_view_name": "HBoxView",
            "box_style": "",
            "children": [
              "IPY_MODEL_8f46fcad2cf743d9b88380c8e68a2d59",
              "IPY_MODEL_4d6614341ddc435e94ab2d1cf4cbde0a",
              "IPY_MODEL_3ef77064262349d082ddf49475db02f0"
            ],
            "layout": "IPY_MODEL_8411750b5d5e4f5faec73b1d53d9f2c8"
          }
        },
        "8f46fcad2cf743d9b88380c8e68a2d59": {
          "model_module": "@jupyter-widgets/controls",
          "model_name": "HTMLModel",
          "model_module_version": "1.5.0",
          "state": {
            "_dom_classes": [],
            "_model_module": "@jupyter-widgets/controls",
            "_model_module_version": "1.5.0",
            "_model_name": "HTMLModel",
            "_view_count": null,
            "_view_module": "@jupyter-widgets/controls",
            "_view_module_version": "1.5.0",
            "_view_name": "HTMLView",
            "description": "",
            "description_tooltip": null,
            "layout": "IPY_MODEL_21a3070b30da4eb1a29ac3f471ecfe30",
            "placeholder": "​",
            "style": "IPY_MODEL_9943f0a0182e479aac50feebb17ac9f1",
            "value": "Downloading merges.txt: 100%"
          }
        },
        "4d6614341ddc435e94ab2d1cf4cbde0a": {
          "model_module": "@jupyter-widgets/controls",
          "model_name": "FloatProgressModel",
          "model_module_version": "1.5.0",
          "state": {
            "_dom_classes": [],
            "_model_module": "@jupyter-widgets/controls",
            "_model_module_version": "1.5.0",
            "_model_name": "FloatProgressModel",
            "_view_count": null,
            "_view_module": "@jupyter-widgets/controls",
            "_view_module_version": "1.5.0",
            "_view_name": "ProgressView",
            "bar_style": "success",
            "description": "",
            "description_tooltip": null,
            "layout": "IPY_MODEL_cf285b3a8c1b401abc628af691b4ed33",
            "max": 456318,
            "min": 0,
            "orientation": "horizontal",
            "style": "IPY_MODEL_91a3ead00d4341569ff6809418d78faf",
            "value": 456318
          }
        },
        "3ef77064262349d082ddf49475db02f0": {
          "model_module": "@jupyter-widgets/controls",
          "model_name": "HTMLModel",
          "model_module_version": "1.5.0",
          "state": {
            "_dom_classes": [],
            "_model_module": "@jupyter-widgets/controls",
            "_model_module_version": "1.5.0",
            "_model_name": "HTMLModel",
            "_view_count": null,
            "_view_module": "@jupyter-widgets/controls",
            "_view_module_version": "1.5.0",
            "_view_name": "HTMLView",
            "description": "",
            "description_tooltip": null,
            "layout": "IPY_MODEL_c4f0ff23480446189af827d1a8a6ce7f",
            "placeholder": "​",
            "style": "IPY_MODEL_f28c939310014c24aa0a2933cf0ece81",
            "value": " 446k/446k [00:00&lt;00:00, 937kB/s]"
          }
        },
        "8411750b5d5e4f5faec73b1d53d9f2c8": {
          "model_module": "@jupyter-widgets/base",
          "model_name": "LayoutModel",
          "model_module_version": "1.2.0",
          "state": {
            "_model_module": "@jupyter-widgets/base",
            "_model_module_version": "1.2.0",
            "_model_name": "LayoutModel",
            "_view_count": null,
            "_view_module": "@jupyter-widgets/base",
            "_view_module_version": "1.2.0",
            "_view_name": "LayoutView",
            "align_content": null,
            "align_items": null,
            "align_self": null,
            "border": null,
            "bottom": null,
            "display": null,
            "flex": null,
            "flex_flow": null,
            "grid_area": null,
            "grid_auto_columns": null,
            "grid_auto_flow": null,
            "grid_auto_rows": null,
            "grid_column": null,
            "grid_gap": null,
            "grid_row": null,
            "grid_template_areas": null,
            "grid_template_columns": null,
            "grid_template_rows": null,
            "height": null,
            "justify_content": null,
            "justify_items": null,
            "left": null,
            "margin": null,
            "max_height": null,
            "max_width": null,
            "min_height": null,
            "min_width": null,
            "object_fit": null,
            "object_position": null,
            "order": null,
            "overflow": null,
            "overflow_x": null,
            "overflow_y": null,
            "padding": null,
            "right": null,
            "top": null,
            "visibility": null,
            "width": null
          }
        },
        "21a3070b30da4eb1a29ac3f471ecfe30": {
          "model_module": "@jupyter-widgets/base",
          "model_name": "LayoutModel",
          "model_module_version": "1.2.0",
          "state": {
            "_model_module": "@jupyter-widgets/base",
            "_model_module_version": "1.2.0",
            "_model_name": "LayoutModel",
            "_view_count": null,
            "_view_module": "@jupyter-widgets/base",
            "_view_module_version": "1.2.0",
            "_view_name": "LayoutView",
            "align_content": null,
            "align_items": null,
            "align_self": null,
            "border": null,
            "bottom": null,
            "display": null,
            "flex": null,
            "flex_flow": null,
            "grid_area": null,
            "grid_auto_columns": null,
            "grid_auto_flow": null,
            "grid_auto_rows": null,
            "grid_column": null,
            "grid_gap": null,
            "grid_row": null,
            "grid_template_areas": null,
            "grid_template_columns": null,
            "grid_template_rows": null,
            "height": null,
            "justify_content": null,
            "justify_items": null,
            "left": null,
            "margin": null,
            "max_height": null,
            "max_width": null,
            "min_height": null,
            "min_width": null,
            "object_fit": null,
            "object_position": null,
            "order": null,
            "overflow": null,
            "overflow_x": null,
            "overflow_y": null,
            "padding": null,
            "right": null,
            "top": null,
            "visibility": null,
            "width": null
          }
        },
        "9943f0a0182e479aac50feebb17ac9f1": {
          "model_module": "@jupyter-widgets/controls",
          "model_name": "DescriptionStyleModel",
          "model_module_version": "1.5.0",
          "state": {
            "_model_module": "@jupyter-widgets/controls",
            "_model_module_version": "1.5.0",
            "_model_name": "DescriptionStyleModel",
            "_view_count": null,
            "_view_module": "@jupyter-widgets/base",
            "_view_module_version": "1.2.0",
            "_view_name": "StyleView",
            "description_width": ""
          }
        },
        "cf285b3a8c1b401abc628af691b4ed33": {
          "model_module": "@jupyter-widgets/base",
          "model_name": "LayoutModel",
          "model_module_version": "1.2.0",
          "state": {
            "_model_module": "@jupyter-widgets/base",
            "_model_module_version": "1.2.0",
            "_model_name": "LayoutModel",
            "_view_count": null,
            "_view_module": "@jupyter-widgets/base",
            "_view_module_version": "1.2.0",
            "_view_name": "LayoutView",
            "align_content": null,
            "align_items": null,
            "align_self": null,
            "border": null,
            "bottom": null,
            "display": null,
            "flex": null,
            "flex_flow": null,
            "grid_area": null,
            "grid_auto_columns": null,
            "grid_auto_flow": null,
            "grid_auto_rows": null,
            "grid_column": null,
            "grid_gap": null,
            "grid_row": null,
            "grid_template_areas": null,
            "grid_template_columns": null,
            "grid_template_rows": null,
            "height": null,
            "justify_content": null,
            "justify_items": null,
            "left": null,
            "margin": null,
            "max_height": null,
            "max_width": null,
            "min_height": null,
            "min_width": null,
            "object_fit": null,
            "object_position": null,
            "order": null,
            "overflow": null,
            "overflow_x": null,
            "overflow_y": null,
            "padding": null,
            "right": null,
            "top": null,
            "visibility": null,
            "width": null
          }
        },
        "91a3ead00d4341569ff6809418d78faf": {
          "model_module": "@jupyter-widgets/controls",
          "model_name": "ProgressStyleModel",
          "model_module_version": "1.5.0",
          "state": {
            "_model_module": "@jupyter-widgets/controls",
            "_model_module_version": "1.5.0",
            "_model_name": "ProgressStyleModel",
            "_view_count": null,
            "_view_module": "@jupyter-widgets/base",
            "_view_module_version": "1.2.0",
            "_view_name": "StyleView",
            "bar_color": null,
            "description_width": ""
          }
        },
        "c4f0ff23480446189af827d1a8a6ce7f": {
          "model_module": "@jupyter-widgets/base",
          "model_name": "LayoutModel",
          "model_module_version": "1.2.0",
          "state": {
            "_model_module": "@jupyter-widgets/base",
            "_model_module_version": "1.2.0",
            "_model_name": "LayoutModel",
            "_view_count": null,
            "_view_module": "@jupyter-widgets/base",
            "_view_module_version": "1.2.0",
            "_view_name": "LayoutView",
            "align_content": null,
            "align_items": null,
            "align_self": null,
            "border": null,
            "bottom": null,
            "display": null,
            "flex": null,
            "flex_flow": null,
            "grid_area": null,
            "grid_auto_columns": null,
            "grid_auto_flow": null,
            "grid_auto_rows": null,
            "grid_column": null,
            "grid_gap": null,
            "grid_row": null,
            "grid_template_areas": null,
            "grid_template_columns": null,
            "grid_template_rows": null,
            "height": null,
            "justify_content": null,
            "justify_items": null,
            "left": null,
            "margin": null,
            "max_height": null,
            "max_width": null,
            "min_height": null,
            "min_width": null,
            "object_fit": null,
            "object_position": null,
            "order": null,
            "overflow": null,
            "overflow_x": null,
            "overflow_y": null,
            "padding": null,
            "right": null,
            "top": null,
            "visibility": null,
            "width": null
          }
        },
        "f28c939310014c24aa0a2933cf0ece81": {
          "model_module": "@jupyter-widgets/controls",
          "model_name": "DescriptionStyleModel",
          "model_module_version": "1.5.0",
          "state": {
            "_model_module": "@jupyter-widgets/controls",
            "_model_module_version": "1.5.0",
            "_model_name": "DescriptionStyleModel",
            "_view_count": null,
            "_view_module": "@jupyter-widgets/base",
            "_view_module_version": "1.2.0",
            "_view_name": "StyleView",
            "description_width": ""
          }
        },
        "124ae6a604c24622866fc846b6169acf": {
          "model_module": "@jupyter-widgets/controls",
          "model_name": "HBoxModel",
          "model_module_version": "1.5.0",
          "state": {
            "_dom_classes": [],
            "_model_module": "@jupyter-widgets/controls",
            "_model_module_version": "1.5.0",
            "_model_name": "HBoxModel",
            "_view_count": null,
            "_view_module": "@jupyter-widgets/controls",
            "_view_module_version": "1.5.0",
            "_view_name": "HBoxView",
            "box_style": "",
            "children": [
              "IPY_MODEL_c3ebbcb477d54da9aaddc353e578a7c1",
              "IPY_MODEL_66e29635c9ef444e88af257f094d15d1",
              "IPY_MODEL_b5f360b000864202b14d8f133a9fb426"
            ],
            "layout": "IPY_MODEL_4a47367051cc4729825ca1747dcb3596"
          }
        },
        "c3ebbcb477d54da9aaddc353e578a7c1": {
          "model_module": "@jupyter-widgets/controls",
          "model_name": "HTMLModel",
          "model_module_version": "1.5.0",
          "state": {
            "_dom_classes": [],
            "_model_module": "@jupyter-widgets/controls",
            "_model_module_version": "1.5.0",
            "_model_name": "HTMLModel",
            "_view_count": null,
            "_view_module": "@jupyter-widgets/controls",
            "_view_module_version": "1.5.0",
            "_view_name": "HTMLView",
            "description": "",
            "description_tooltip": null,
            "layout": "IPY_MODEL_40baca0a1a0d4f998a3a3c1c0b1aae75",
            "placeholder": "​",
            "style": "IPY_MODEL_5fee0a96dc0f48efaaefbd7fc5a85c9f",
            "value": "Downloading tokenizer.json: 100%"
          }
        },
        "66e29635c9ef444e88af257f094d15d1": {
          "model_module": "@jupyter-widgets/controls",
          "model_name": "FloatProgressModel",
          "model_module_version": "1.5.0",
          "state": {
            "_dom_classes": [],
            "_model_module": "@jupyter-widgets/controls",
            "_model_module_version": "1.5.0",
            "_model_name": "FloatProgressModel",
            "_view_count": null,
            "_view_module": "@jupyter-widgets/controls",
            "_view_module_version": "1.5.0",
            "_view_name": "ProgressView",
            "bar_style": "success",
            "description": "",
            "description_tooltip": null,
            "layout": "IPY_MODEL_92c3cf4f75614f96844cf83fd7e088ca",
            "max": 1355863,
            "min": 0,
            "orientation": "horizontal",
            "style": "IPY_MODEL_58f1c7048f4c4c89b6c7dd3f65bcfa78",
            "value": 1355863
          }
        },
        "b5f360b000864202b14d8f133a9fb426": {
          "model_module": "@jupyter-widgets/controls",
          "model_name": "HTMLModel",
          "model_module_version": "1.5.0",
          "state": {
            "_dom_classes": [],
            "_model_module": "@jupyter-widgets/controls",
            "_model_module_version": "1.5.0",
            "_model_name": "HTMLModel",
            "_view_count": null,
            "_view_module": "@jupyter-widgets/controls",
            "_view_module_version": "1.5.0",
            "_view_name": "HTMLView",
            "description": "",
            "description_tooltip": null,
            "layout": "IPY_MODEL_2c0f21ef079b4259a51e1d9137a10455",
            "placeholder": "​",
            "style": "IPY_MODEL_09bde911e7334d4c832e6a4a80c5e906",
            "value": " 1.29M/1.29M [00:00&lt;00:00, 1.79MB/s]"
          }
        },
        "4a47367051cc4729825ca1747dcb3596": {
          "model_module": "@jupyter-widgets/base",
          "model_name": "LayoutModel",
          "model_module_version": "1.2.0",
          "state": {
            "_model_module": "@jupyter-widgets/base",
            "_model_module_version": "1.2.0",
            "_model_name": "LayoutModel",
            "_view_count": null,
            "_view_module": "@jupyter-widgets/base",
            "_view_module_version": "1.2.0",
            "_view_name": "LayoutView",
            "align_content": null,
            "align_items": null,
            "align_self": null,
            "border": null,
            "bottom": null,
            "display": null,
            "flex": null,
            "flex_flow": null,
            "grid_area": null,
            "grid_auto_columns": null,
            "grid_auto_flow": null,
            "grid_auto_rows": null,
            "grid_column": null,
            "grid_gap": null,
            "grid_row": null,
            "grid_template_areas": null,
            "grid_template_columns": null,
            "grid_template_rows": null,
            "height": null,
            "justify_content": null,
            "justify_items": null,
            "left": null,
            "margin": null,
            "max_height": null,
            "max_width": null,
            "min_height": null,
            "min_width": null,
            "object_fit": null,
            "object_position": null,
            "order": null,
            "overflow": null,
            "overflow_x": null,
            "overflow_y": null,
            "padding": null,
            "right": null,
            "top": null,
            "visibility": null,
            "width": null
          }
        },
        "40baca0a1a0d4f998a3a3c1c0b1aae75": {
          "model_module": "@jupyter-widgets/base",
          "model_name": "LayoutModel",
          "model_module_version": "1.2.0",
          "state": {
            "_model_module": "@jupyter-widgets/base",
            "_model_module_version": "1.2.0",
            "_model_name": "LayoutModel",
            "_view_count": null,
            "_view_module": "@jupyter-widgets/base",
            "_view_module_version": "1.2.0",
            "_view_name": "LayoutView",
            "align_content": null,
            "align_items": null,
            "align_self": null,
            "border": null,
            "bottom": null,
            "display": null,
            "flex": null,
            "flex_flow": null,
            "grid_area": null,
            "grid_auto_columns": null,
            "grid_auto_flow": null,
            "grid_auto_rows": null,
            "grid_column": null,
            "grid_gap": null,
            "grid_row": null,
            "grid_template_areas": null,
            "grid_template_columns": null,
            "grid_template_rows": null,
            "height": null,
            "justify_content": null,
            "justify_items": null,
            "left": null,
            "margin": null,
            "max_height": null,
            "max_width": null,
            "min_height": null,
            "min_width": null,
            "object_fit": null,
            "object_position": null,
            "order": null,
            "overflow": null,
            "overflow_x": null,
            "overflow_y": null,
            "padding": null,
            "right": null,
            "top": null,
            "visibility": null,
            "width": null
          }
        },
        "5fee0a96dc0f48efaaefbd7fc5a85c9f": {
          "model_module": "@jupyter-widgets/controls",
          "model_name": "DescriptionStyleModel",
          "model_module_version": "1.5.0",
          "state": {
            "_model_module": "@jupyter-widgets/controls",
            "_model_module_version": "1.5.0",
            "_model_name": "DescriptionStyleModel",
            "_view_count": null,
            "_view_module": "@jupyter-widgets/base",
            "_view_module_version": "1.2.0",
            "_view_name": "StyleView",
            "description_width": ""
          }
        },
        "92c3cf4f75614f96844cf83fd7e088ca": {
          "model_module": "@jupyter-widgets/base",
          "model_name": "LayoutModel",
          "model_module_version": "1.2.0",
          "state": {
            "_model_module": "@jupyter-widgets/base",
            "_model_module_version": "1.2.0",
            "_model_name": "LayoutModel",
            "_view_count": null,
            "_view_module": "@jupyter-widgets/base",
            "_view_module_version": "1.2.0",
            "_view_name": "LayoutView",
            "align_content": null,
            "align_items": null,
            "align_self": null,
            "border": null,
            "bottom": null,
            "display": null,
            "flex": null,
            "flex_flow": null,
            "grid_area": null,
            "grid_auto_columns": null,
            "grid_auto_flow": null,
            "grid_auto_rows": null,
            "grid_column": null,
            "grid_gap": null,
            "grid_row": null,
            "grid_template_areas": null,
            "grid_template_columns": null,
            "grid_template_rows": null,
            "height": null,
            "justify_content": null,
            "justify_items": null,
            "left": null,
            "margin": null,
            "max_height": null,
            "max_width": null,
            "min_height": null,
            "min_width": null,
            "object_fit": null,
            "object_position": null,
            "order": null,
            "overflow": null,
            "overflow_x": null,
            "overflow_y": null,
            "padding": null,
            "right": null,
            "top": null,
            "visibility": null,
            "width": null
          }
        },
        "58f1c7048f4c4c89b6c7dd3f65bcfa78": {
          "model_module": "@jupyter-widgets/controls",
          "model_name": "ProgressStyleModel",
          "model_module_version": "1.5.0",
          "state": {
            "_model_module": "@jupyter-widgets/controls",
            "_model_module_version": "1.5.0",
            "_model_name": "ProgressStyleModel",
            "_view_count": null,
            "_view_module": "@jupyter-widgets/base",
            "_view_module_version": "1.2.0",
            "_view_name": "StyleView",
            "bar_color": null,
            "description_width": ""
          }
        },
        "2c0f21ef079b4259a51e1d9137a10455": {
          "model_module": "@jupyter-widgets/base",
          "model_name": "LayoutModel",
          "model_module_version": "1.2.0",
          "state": {
            "_model_module": "@jupyter-widgets/base",
            "_model_module_version": "1.2.0",
            "_model_name": "LayoutModel",
            "_view_count": null,
            "_view_module": "@jupyter-widgets/base",
            "_view_module_version": "1.2.0",
            "_view_name": "LayoutView",
            "align_content": null,
            "align_items": null,
            "align_self": null,
            "border": null,
            "bottom": null,
            "display": null,
            "flex": null,
            "flex_flow": null,
            "grid_area": null,
            "grid_auto_columns": null,
            "grid_auto_flow": null,
            "grid_auto_rows": null,
            "grid_column": null,
            "grid_gap": null,
            "grid_row": null,
            "grid_template_areas": null,
            "grid_template_columns": null,
            "grid_template_rows": null,
            "height": null,
            "justify_content": null,
            "justify_items": null,
            "left": null,
            "margin": null,
            "max_height": null,
            "max_width": null,
            "min_height": null,
            "min_width": null,
            "object_fit": null,
            "object_position": null,
            "order": null,
            "overflow": null,
            "overflow_x": null,
            "overflow_y": null,
            "padding": null,
            "right": null,
            "top": null,
            "visibility": null,
            "width": null
          }
        },
        "09bde911e7334d4c832e6a4a80c5e906": {
          "model_module": "@jupyter-widgets/controls",
          "model_name": "DescriptionStyleModel",
          "model_module_version": "1.5.0",
          "state": {
            "_model_module": "@jupyter-widgets/controls",
            "_model_module_version": "1.5.0",
            "_model_name": "DescriptionStyleModel",
            "_view_count": null,
            "_view_module": "@jupyter-widgets/base",
            "_view_module_version": "1.2.0",
            "_view_name": "StyleView",
            "description_width": ""
          }
        },
        "2b1dd71ad3fc4ee998aaad5ea055e5d4": {
          "model_module": "@jupyter-widgets/controls",
          "model_name": "HBoxModel",
          "model_module_version": "1.5.0",
          "state": {
            "_dom_classes": [],
            "_model_module": "@jupyter-widgets/controls",
            "_model_module_version": "1.5.0",
            "_model_name": "HBoxModel",
            "_view_count": null,
            "_view_module": "@jupyter-widgets/controls",
            "_view_module_version": "1.5.0",
            "_view_name": "HBoxView",
            "box_style": "",
            "children": [
              "IPY_MODEL_0cd2adc2c91c4a8a94ace4ff8b97ed52",
              "IPY_MODEL_072c7f46ead342c28c157a272d2e1a45",
              "IPY_MODEL_464d7f5fb0e74748b4d0a5cb3a42008b"
            ],
            "layout": "IPY_MODEL_71538f3c58dd48018ff389ae34cbfea2"
          }
        },
        "0cd2adc2c91c4a8a94ace4ff8b97ed52": {
          "model_module": "@jupyter-widgets/controls",
          "model_name": "HTMLModel",
          "model_module_version": "1.5.0",
          "state": {
            "_dom_classes": [],
            "_model_module": "@jupyter-widgets/controls",
            "_model_module_version": "1.5.0",
            "_model_name": "HTMLModel",
            "_view_count": null,
            "_view_module": "@jupyter-widgets/controls",
            "_view_module_version": "1.5.0",
            "_view_name": "HTMLView",
            "description": "",
            "description_tooltip": null,
            "layout": "IPY_MODEL_f7ab85e59c7d47d1aa57e6cf82a3b0b0",
            "placeholder": "​",
            "style": "IPY_MODEL_b9010c3cd04c40738ff53c54431362f3",
            "value": "Downloading: 100%"
          }
        },
        "072c7f46ead342c28c157a272d2e1a45": {
          "model_module": "@jupyter-widgets/controls",
          "model_name": "FloatProgressModel",
          "model_module_version": "1.5.0",
          "state": {
            "_dom_classes": [],
            "_model_module": "@jupyter-widgets/controls",
            "_model_module_version": "1.5.0",
            "_model_name": "FloatProgressModel",
            "_view_count": null,
            "_view_module": "@jupyter-widgets/controls",
            "_view_module_version": "1.5.0",
            "_view_name": "ProgressView",
            "bar_style": "success",
            "description": "",
            "description_tooltip": null,
            "layout": "IPY_MODEL_feecfc53efaa442caa123586c0b49944",
            "max": 739,
            "min": 0,
            "orientation": "horizontal",
            "style": "IPY_MODEL_bd7a000e7e7f4946b0557d40b7d0b05c",
            "value": 739
          }
        },
        "464d7f5fb0e74748b4d0a5cb3a42008b": {
          "model_module": "@jupyter-widgets/controls",
          "model_name": "HTMLModel",
          "model_module_version": "1.5.0",
          "state": {
            "_dom_classes": [],
            "_model_module": "@jupyter-widgets/controls",
            "_model_module_version": "1.5.0",
            "_model_name": "HTMLModel",
            "_view_count": null,
            "_view_module": "@jupyter-widgets/controls",
            "_view_module_version": "1.5.0",
            "_view_name": "HTMLView",
            "description": "",
            "description_tooltip": null,
            "layout": "IPY_MODEL_bf5039ea8b2e404892ca2f7460339952",
            "placeholder": "​",
            "style": "IPY_MODEL_db195776190542488e20e9223ef53ad6",
            "value": " 739/739 [00:00&lt;00:00, 31.5kB/s]"
          }
        },
        "71538f3c58dd48018ff389ae34cbfea2": {
          "model_module": "@jupyter-widgets/base",
          "model_name": "LayoutModel",
          "model_module_version": "1.2.0",
          "state": {
            "_model_module": "@jupyter-widgets/base",
            "_model_module_version": "1.2.0",
            "_model_name": "LayoutModel",
            "_view_count": null,
            "_view_module": "@jupyter-widgets/base",
            "_view_module_version": "1.2.0",
            "_view_name": "LayoutView",
            "align_content": null,
            "align_items": null,
            "align_self": null,
            "border": null,
            "bottom": null,
            "display": null,
            "flex": null,
            "flex_flow": null,
            "grid_area": null,
            "grid_auto_columns": null,
            "grid_auto_flow": null,
            "grid_auto_rows": null,
            "grid_column": null,
            "grid_gap": null,
            "grid_row": null,
            "grid_template_areas": null,
            "grid_template_columns": null,
            "grid_template_rows": null,
            "height": null,
            "justify_content": null,
            "justify_items": null,
            "left": null,
            "margin": null,
            "max_height": null,
            "max_width": null,
            "min_height": null,
            "min_width": null,
            "object_fit": null,
            "object_position": null,
            "order": null,
            "overflow": null,
            "overflow_x": null,
            "overflow_y": null,
            "padding": null,
            "right": null,
            "top": null,
            "visibility": null,
            "width": null
          }
        },
        "f7ab85e59c7d47d1aa57e6cf82a3b0b0": {
          "model_module": "@jupyter-widgets/base",
          "model_name": "LayoutModel",
          "model_module_version": "1.2.0",
          "state": {
            "_model_module": "@jupyter-widgets/base",
            "_model_module_version": "1.2.0",
            "_model_name": "LayoutModel",
            "_view_count": null,
            "_view_module": "@jupyter-widgets/base",
            "_view_module_version": "1.2.0",
            "_view_name": "LayoutView",
            "align_content": null,
            "align_items": null,
            "align_self": null,
            "border": null,
            "bottom": null,
            "display": null,
            "flex": null,
            "flex_flow": null,
            "grid_area": null,
            "grid_auto_columns": null,
            "grid_auto_flow": null,
            "grid_auto_rows": null,
            "grid_column": null,
            "grid_gap": null,
            "grid_row": null,
            "grid_template_areas": null,
            "grid_template_columns": null,
            "grid_template_rows": null,
            "height": null,
            "justify_content": null,
            "justify_items": null,
            "left": null,
            "margin": null,
            "max_height": null,
            "max_width": null,
            "min_height": null,
            "min_width": null,
            "object_fit": null,
            "object_position": null,
            "order": null,
            "overflow": null,
            "overflow_x": null,
            "overflow_y": null,
            "padding": null,
            "right": null,
            "top": null,
            "visibility": null,
            "width": null
          }
        },
        "b9010c3cd04c40738ff53c54431362f3": {
          "model_module": "@jupyter-widgets/controls",
          "model_name": "DescriptionStyleModel",
          "model_module_version": "1.5.0",
          "state": {
            "_model_module": "@jupyter-widgets/controls",
            "_model_module_version": "1.5.0",
            "_model_name": "DescriptionStyleModel",
            "_view_count": null,
            "_view_module": "@jupyter-widgets/base",
            "_view_module_version": "1.2.0",
            "_view_name": "StyleView",
            "description_width": ""
          }
        },
        "feecfc53efaa442caa123586c0b49944": {
          "model_module": "@jupyter-widgets/base",
          "model_name": "LayoutModel",
          "model_module_version": "1.2.0",
          "state": {
            "_model_module": "@jupyter-widgets/base",
            "_model_module_version": "1.2.0",
            "_model_name": "LayoutModel",
            "_view_count": null,
            "_view_module": "@jupyter-widgets/base",
            "_view_module_version": "1.2.0",
            "_view_name": "LayoutView",
            "align_content": null,
            "align_items": null,
            "align_self": null,
            "border": null,
            "bottom": null,
            "display": null,
            "flex": null,
            "flex_flow": null,
            "grid_area": null,
            "grid_auto_columns": null,
            "grid_auto_flow": null,
            "grid_auto_rows": null,
            "grid_column": null,
            "grid_gap": null,
            "grid_row": null,
            "grid_template_areas": null,
            "grid_template_columns": null,
            "grid_template_rows": null,
            "height": null,
            "justify_content": null,
            "justify_items": null,
            "left": null,
            "margin": null,
            "max_height": null,
            "max_width": null,
            "min_height": null,
            "min_width": null,
            "object_fit": null,
            "object_position": null,
            "order": null,
            "overflow": null,
            "overflow_x": null,
            "overflow_y": null,
            "padding": null,
            "right": null,
            "top": null,
            "visibility": null,
            "width": null
          }
        },
        "bd7a000e7e7f4946b0557d40b7d0b05c": {
          "model_module": "@jupyter-widgets/controls",
          "model_name": "ProgressStyleModel",
          "model_module_version": "1.5.0",
          "state": {
            "_model_module": "@jupyter-widgets/controls",
            "_model_module_version": "1.5.0",
            "_model_name": "ProgressStyleModel",
            "_view_count": null,
            "_view_module": "@jupyter-widgets/base",
            "_view_module_version": "1.2.0",
            "_view_name": "StyleView",
            "bar_color": null,
            "description_width": ""
          }
        },
        "bf5039ea8b2e404892ca2f7460339952": {
          "model_module": "@jupyter-widgets/base",
          "model_name": "LayoutModel",
          "model_module_version": "1.2.0",
          "state": {
            "_model_module": "@jupyter-widgets/base",
            "_model_module_version": "1.2.0",
            "_model_name": "LayoutModel",
            "_view_count": null,
            "_view_module": "@jupyter-widgets/base",
            "_view_module_version": "1.2.0",
            "_view_name": "LayoutView",
            "align_content": null,
            "align_items": null,
            "align_self": null,
            "border": null,
            "bottom": null,
            "display": null,
            "flex": null,
            "flex_flow": null,
            "grid_area": null,
            "grid_auto_columns": null,
            "grid_auto_flow": null,
            "grid_auto_rows": null,
            "grid_column": null,
            "grid_gap": null,
            "grid_row": null,
            "grid_template_areas": null,
            "grid_template_columns": null,
            "grid_template_rows": null,
            "height": null,
            "justify_content": null,
            "justify_items": null,
            "left": null,
            "margin": null,
            "max_height": null,
            "max_width": null,
            "min_height": null,
            "min_width": null,
            "object_fit": null,
            "object_position": null,
            "order": null,
            "overflow": null,
            "overflow_x": null,
            "overflow_y": null,
            "padding": null,
            "right": null,
            "top": null,
            "visibility": null,
            "width": null
          }
        },
        "db195776190542488e20e9223ef53ad6": {
          "model_module": "@jupyter-widgets/controls",
          "model_name": "DescriptionStyleModel",
          "model_module_version": "1.5.0",
          "state": {
            "_model_module": "@jupyter-widgets/controls",
            "_model_module_version": "1.5.0",
            "_model_name": "DescriptionStyleModel",
            "_view_count": null,
            "_view_module": "@jupyter-widgets/base",
            "_view_module_version": "1.2.0",
            "_view_name": "StyleView",
            "description_width": ""
          }
        },
        "362ba9bf5adf465b8acdeefb9ebb46a4": {
          "model_module": "@jupyter-widgets/controls",
          "model_name": "HBoxModel",
          "model_module_version": "1.5.0",
          "state": {
            "_dom_classes": [],
            "_model_module": "@jupyter-widgets/controls",
            "_model_module_version": "1.5.0",
            "_model_name": "HBoxModel",
            "_view_count": null,
            "_view_module": "@jupyter-widgets/controls",
            "_view_module_version": "1.5.0",
            "_view_name": "HBoxView",
            "box_style": "",
            "children": [
              "IPY_MODEL_452ce627308b41a0bfd9ceb3d975a458",
              "IPY_MODEL_ba6b11554f094ca09265276d84bae16b",
              "IPY_MODEL_0b92d2f9ef0a40a99eb124bb3c0193df"
            ],
            "layout": "IPY_MODEL_6a123a22809a42a0bdeb98f28f6777f5"
          }
        },
        "452ce627308b41a0bfd9ceb3d975a458": {
          "model_module": "@jupyter-widgets/controls",
          "model_name": "HTMLModel",
          "model_module_version": "1.5.0",
          "state": {
            "_dom_classes": [],
            "_model_module": "@jupyter-widgets/controls",
            "_model_module_version": "1.5.0",
            "_model_name": "HTMLModel",
            "_view_count": null,
            "_view_module": "@jupyter-widgets/controls",
            "_view_module_version": "1.5.0",
            "_view_name": "HTMLView",
            "description": "",
            "description_tooltip": null,
            "layout": "IPY_MODEL_c624ff971f80499ea1d48a5330d33c1d",
            "placeholder": "​",
            "style": "IPY_MODEL_c7f38626a0ed4c86b462d8ed73191c83",
            "value": "Downloading data files: 100%"
          }
        },
        "ba6b11554f094ca09265276d84bae16b": {
          "model_module": "@jupyter-widgets/controls",
          "model_name": "FloatProgressModel",
          "model_module_version": "1.5.0",
          "state": {
            "_dom_classes": [],
            "_model_module": "@jupyter-widgets/controls",
            "_model_module_version": "1.5.0",
            "_model_name": "FloatProgressModel",
            "_view_count": null,
            "_view_module": "@jupyter-widgets/controls",
            "_view_module_version": "1.5.0",
            "_view_name": "ProgressView",
            "bar_style": "success",
            "description": "",
            "description_tooltip": null,
            "layout": "IPY_MODEL_2d58cd36ff3743b982dd82ca399a7d00",
            "max": 2,
            "min": 0,
            "orientation": "horizontal",
            "style": "IPY_MODEL_9b6e447551c54b6ea86b599f96714ade",
            "value": 2
          }
        },
        "0b92d2f9ef0a40a99eb124bb3c0193df": {
          "model_module": "@jupyter-widgets/controls",
          "model_name": "HTMLModel",
          "model_module_version": "1.5.0",
          "state": {
            "_dom_classes": [],
            "_model_module": "@jupyter-widgets/controls",
            "_model_module_version": "1.5.0",
            "_model_name": "HTMLModel",
            "_view_count": null,
            "_view_module": "@jupyter-widgets/controls",
            "_view_module_version": "1.5.0",
            "_view_name": "HTMLView",
            "description": "",
            "description_tooltip": null,
            "layout": "IPY_MODEL_f18d407623fb47cf813fcda1754e3dc7",
            "placeholder": "​",
            "style": "IPY_MODEL_66b6225c4afe46a2b442b658b778c874",
            "value": " 2/2 [00:04&lt;00:00,  2.52s/it]"
          }
        },
        "6a123a22809a42a0bdeb98f28f6777f5": {
          "model_module": "@jupyter-widgets/base",
          "model_name": "LayoutModel",
          "model_module_version": "1.2.0",
          "state": {
            "_model_module": "@jupyter-widgets/base",
            "_model_module_version": "1.2.0",
            "_model_name": "LayoutModel",
            "_view_count": null,
            "_view_module": "@jupyter-widgets/base",
            "_view_module_version": "1.2.0",
            "_view_name": "LayoutView",
            "align_content": null,
            "align_items": null,
            "align_self": null,
            "border": null,
            "bottom": null,
            "display": null,
            "flex": null,
            "flex_flow": null,
            "grid_area": null,
            "grid_auto_columns": null,
            "grid_auto_flow": null,
            "grid_auto_rows": null,
            "grid_column": null,
            "grid_gap": null,
            "grid_row": null,
            "grid_template_areas": null,
            "grid_template_columns": null,
            "grid_template_rows": null,
            "height": null,
            "justify_content": null,
            "justify_items": null,
            "left": null,
            "margin": null,
            "max_height": null,
            "max_width": null,
            "min_height": null,
            "min_width": null,
            "object_fit": null,
            "object_position": null,
            "order": null,
            "overflow": null,
            "overflow_x": null,
            "overflow_y": null,
            "padding": null,
            "right": null,
            "top": null,
            "visibility": null,
            "width": null
          }
        },
        "c624ff971f80499ea1d48a5330d33c1d": {
          "model_module": "@jupyter-widgets/base",
          "model_name": "LayoutModel",
          "model_module_version": "1.2.0",
          "state": {
            "_model_module": "@jupyter-widgets/base",
            "_model_module_version": "1.2.0",
            "_model_name": "LayoutModel",
            "_view_count": null,
            "_view_module": "@jupyter-widgets/base",
            "_view_module_version": "1.2.0",
            "_view_name": "LayoutView",
            "align_content": null,
            "align_items": null,
            "align_self": null,
            "border": null,
            "bottom": null,
            "display": null,
            "flex": null,
            "flex_flow": null,
            "grid_area": null,
            "grid_auto_columns": null,
            "grid_auto_flow": null,
            "grid_auto_rows": null,
            "grid_column": null,
            "grid_gap": null,
            "grid_row": null,
            "grid_template_areas": null,
            "grid_template_columns": null,
            "grid_template_rows": null,
            "height": null,
            "justify_content": null,
            "justify_items": null,
            "left": null,
            "margin": null,
            "max_height": null,
            "max_width": null,
            "min_height": null,
            "min_width": null,
            "object_fit": null,
            "object_position": null,
            "order": null,
            "overflow": null,
            "overflow_x": null,
            "overflow_y": null,
            "padding": null,
            "right": null,
            "top": null,
            "visibility": null,
            "width": null
          }
        },
        "c7f38626a0ed4c86b462d8ed73191c83": {
          "model_module": "@jupyter-widgets/controls",
          "model_name": "DescriptionStyleModel",
          "model_module_version": "1.5.0",
          "state": {
            "_model_module": "@jupyter-widgets/controls",
            "_model_module_version": "1.5.0",
            "_model_name": "DescriptionStyleModel",
            "_view_count": null,
            "_view_module": "@jupyter-widgets/base",
            "_view_module_version": "1.2.0",
            "_view_name": "StyleView",
            "description_width": ""
          }
        },
        "2d58cd36ff3743b982dd82ca399a7d00": {
          "model_module": "@jupyter-widgets/base",
          "model_name": "LayoutModel",
          "model_module_version": "1.2.0",
          "state": {
            "_model_module": "@jupyter-widgets/base",
            "_model_module_version": "1.2.0",
            "_model_name": "LayoutModel",
            "_view_count": null,
            "_view_module": "@jupyter-widgets/base",
            "_view_module_version": "1.2.0",
            "_view_name": "LayoutView",
            "align_content": null,
            "align_items": null,
            "align_self": null,
            "border": null,
            "bottom": null,
            "display": null,
            "flex": null,
            "flex_flow": null,
            "grid_area": null,
            "grid_auto_columns": null,
            "grid_auto_flow": null,
            "grid_auto_rows": null,
            "grid_column": null,
            "grid_gap": null,
            "grid_row": null,
            "grid_template_areas": null,
            "grid_template_columns": null,
            "grid_template_rows": null,
            "height": null,
            "justify_content": null,
            "justify_items": null,
            "left": null,
            "margin": null,
            "max_height": null,
            "max_width": null,
            "min_height": null,
            "min_width": null,
            "object_fit": null,
            "object_position": null,
            "order": null,
            "overflow": null,
            "overflow_x": null,
            "overflow_y": null,
            "padding": null,
            "right": null,
            "top": null,
            "visibility": null,
            "width": null
          }
        },
        "9b6e447551c54b6ea86b599f96714ade": {
          "model_module": "@jupyter-widgets/controls",
          "model_name": "ProgressStyleModel",
          "model_module_version": "1.5.0",
          "state": {
            "_model_module": "@jupyter-widgets/controls",
            "_model_module_version": "1.5.0",
            "_model_name": "ProgressStyleModel",
            "_view_count": null,
            "_view_module": "@jupyter-widgets/base",
            "_view_module_version": "1.2.0",
            "_view_name": "StyleView",
            "bar_color": null,
            "description_width": ""
          }
        },
        "f18d407623fb47cf813fcda1754e3dc7": {
          "model_module": "@jupyter-widgets/base",
          "model_name": "LayoutModel",
          "model_module_version": "1.2.0",
          "state": {
            "_model_module": "@jupyter-widgets/base",
            "_model_module_version": "1.2.0",
            "_model_name": "LayoutModel",
            "_view_count": null,
            "_view_module": "@jupyter-widgets/base",
            "_view_module_version": "1.2.0",
            "_view_name": "LayoutView",
            "align_content": null,
            "align_items": null,
            "align_self": null,
            "border": null,
            "bottom": null,
            "display": null,
            "flex": null,
            "flex_flow": null,
            "grid_area": null,
            "grid_auto_columns": null,
            "grid_auto_flow": null,
            "grid_auto_rows": null,
            "grid_column": null,
            "grid_gap": null,
            "grid_row": null,
            "grid_template_areas": null,
            "grid_template_columns": null,
            "grid_template_rows": null,
            "height": null,
            "justify_content": null,
            "justify_items": null,
            "left": null,
            "margin": null,
            "max_height": null,
            "max_width": null,
            "min_height": null,
            "min_width": null,
            "object_fit": null,
            "object_position": null,
            "order": null,
            "overflow": null,
            "overflow_x": null,
            "overflow_y": null,
            "padding": null,
            "right": null,
            "top": null,
            "visibility": null,
            "width": null
          }
        },
        "66b6225c4afe46a2b442b658b778c874": {
          "model_module": "@jupyter-widgets/controls",
          "model_name": "DescriptionStyleModel",
          "model_module_version": "1.5.0",
          "state": {
            "_model_module": "@jupyter-widgets/controls",
            "_model_module_version": "1.5.0",
            "_model_name": "DescriptionStyleModel",
            "_view_count": null,
            "_view_module": "@jupyter-widgets/base",
            "_view_module_version": "1.2.0",
            "_view_name": "StyleView",
            "description_width": ""
          }
        },
        "5a4cf7e136e74766a7fe033aaf07c553": {
          "model_module": "@jupyter-widgets/controls",
          "model_name": "HBoxModel",
          "model_module_version": "1.5.0",
          "state": {
            "_dom_classes": [],
            "_model_module": "@jupyter-widgets/controls",
            "_model_module_version": "1.5.0",
            "_model_name": "HBoxModel",
            "_view_count": null,
            "_view_module": "@jupyter-widgets/controls",
            "_view_module_version": "1.5.0",
            "_view_name": "HBoxView",
            "box_style": "",
            "children": [
              "IPY_MODEL_5aeb4756916343ffa623eb4608ea9630",
              "IPY_MODEL_c5253ff6be264c6587314db37082eae2",
              "IPY_MODEL_cd1e83073a8045ebb6f42a7755f13491"
            ],
            "layout": "IPY_MODEL_e54d3246f9a749298a749ccf7bad7784"
          }
        },
        "5aeb4756916343ffa623eb4608ea9630": {
          "model_module": "@jupyter-widgets/controls",
          "model_name": "HTMLModel",
          "model_module_version": "1.5.0",
          "state": {
            "_dom_classes": [],
            "_model_module": "@jupyter-widgets/controls",
            "_model_module_version": "1.5.0",
            "_model_name": "HTMLModel",
            "_view_count": null,
            "_view_module": "@jupyter-widgets/controls",
            "_view_module_version": "1.5.0",
            "_view_name": "HTMLView",
            "description": "",
            "description_tooltip": null,
            "layout": "IPY_MODEL_9cc33e8864604521a4e2bd855ff92c1e",
            "placeholder": "​",
            "style": "IPY_MODEL_1d4be422861e446998b6b319f5f59604",
            "value": "Downloading data: 100%"
          }
        },
        "c5253ff6be264c6587314db37082eae2": {
          "model_module": "@jupyter-widgets/controls",
          "model_name": "FloatProgressModel",
          "model_module_version": "1.5.0",
          "state": {
            "_dom_classes": [],
            "_model_module": "@jupyter-widgets/controls",
            "_model_module_version": "1.5.0",
            "_model_name": "FloatProgressModel",
            "_view_count": null,
            "_view_module": "@jupyter-widgets/controls",
            "_view_module_version": "1.5.0",
            "_view_name": "ProgressView",
            "bar_style": "success",
            "description": "",
            "description_tooltip": null,
            "layout": "IPY_MODEL_eefb79719c344d01aeace5ff8e5aab50",
            "max": 33611302,
            "min": 0,
            "orientation": "horizontal",
            "style": "IPY_MODEL_4bc52c1b77f8489fa3e7bbe493f79880",
            "value": 33611302
          }
        },
        "cd1e83073a8045ebb6f42a7755f13491": {
          "model_module": "@jupyter-widgets/controls",
          "model_name": "HTMLModel",
          "model_module_version": "1.5.0",
          "state": {
            "_dom_classes": [],
            "_model_module": "@jupyter-widgets/controls",
            "_model_module_version": "1.5.0",
            "_model_name": "HTMLModel",
            "_view_count": null,
            "_view_module": "@jupyter-widgets/controls",
            "_view_module_version": "1.5.0",
            "_view_name": "HTMLView",
            "description": "",
            "description_tooltip": null,
            "layout": "IPY_MODEL_4e30e109f7874abc9d41d360a20aea43",
            "placeholder": "​",
            "style": "IPY_MODEL_b57c5e28d3c447f292ef49b871288ced",
            "value": " 33.6M/33.6M [00:00&lt;00:00, 58.2MB/s]"
          }
        },
        "e54d3246f9a749298a749ccf7bad7784": {
          "model_module": "@jupyter-widgets/base",
          "model_name": "LayoutModel",
          "model_module_version": "1.2.0",
          "state": {
            "_model_module": "@jupyter-widgets/base",
            "_model_module_version": "1.2.0",
            "_model_name": "LayoutModel",
            "_view_count": null,
            "_view_module": "@jupyter-widgets/base",
            "_view_module_version": "1.2.0",
            "_view_name": "LayoutView",
            "align_content": null,
            "align_items": null,
            "align_self": null,
            "border": null,
            "bottom": null,
            "display": null,
            "flex": null,
            "flex_flow": null,
            "grid_area": null,
            "grid_auto_columns": null,
            "grid_auto_flow": null,
            "grid_auto_rows": null,
            "grid_column": null,
            "grid_gap": null,
            "grid_row": null,
            "grid_template_areas": null,
            "grid_template_columns": null,
            "grid_template_rows": null,
            "height": null,
            "justify_content": null,
            "justify_items": null,
            "left": null,
            "margin": null,
            "max_height": null,
            "max_width": null,
            "min_height": null,
            "min_width": null,
            "object_fit": null,
            "object_position": null,
            "order": null,
            "overflow": null,
            "overflow_x": null,
            "overflow_y": null,
            "padding": null,
            "right": null,
            "top": null,
            "visibility": null,
            "width": null
          }
        },
        "9cc33e8864604521a4e2bd855ff92c1e": {
          "model_module": "@jupyter-widgets/base",
          "model_name": "LayoutModel",
          "model_module_version": "1.2.0",
          "state": {
            "_model_module": "@jupyter-widgets/base",
            "_model_module_version": "1.2.0",
            "_model_name": "LayoutModel",
            "_view_count": null,
            "_view_module": "@jupyter-widgets/base",
            "_view_module_version": "1.2.0",
            "_view_name": "LayoutView",
            "align_content": null,
            "align_items": null,
            "align_self": null,
            "border": null,
            "bottom": null,
            "display": null,
            "flex": null,
            "flex_flow": null,
            "grid_area": null,
            "grid_auto_columns": null,
            "grid_auto_flow": null,
            "grid_auto_rows": null,
            "grid_column": null,
            "grid_gap": null,
            "grid_row": null,
            "grid_template_areas": null,
            "grid_template_columns": null,
            "grid_template_rows": null,
            "height": null,
            "justify_content": null,
            "justify_items": null,
            "left": null,
            "margin": null,
            "max_height": null,
            "max_width": null,
            "min_height": null,
            "min_width": null,
            "object_fit": null,
            "object_position": null,
            "order": null,
            "overflow": null,
            "overflow_x": null,
            "overflow_y": null,
            "padding": null,
            "right": null,
            "top": null,
            "visibility": null,
            "width": null
          }
        },
        "1d4be422861e446998b6b319f5f59604": {
          "model_module": "@jupyter-widgets/controls",
          "model_name": "DescriptionStyleModel",
          "model_module_version": "1.5.0",
          "state": {
            "_model_module": "@jupyter-widgets/controls",
            "_model_module_version": "1.5.0",
            "_model_name": "DescriptionStyleModel",
            "_view_count": null,
            "_view_module": "@jupyter-widgets/base",
            "_view_module_version": "1.2.0",
            "_view_name": "StyleView",
            "description_width": ""
          }
        },
        "eefb79719c344d01aeace5ff8e5aab50": {
          "model_module": "@jupyter-widgets/base",
          "model_name": "LayoutModel",
          "model_module_version": "1.2.0",
          "state": {
            "_model_module": "@jupyter-widgets/base",
            "_model_module_version": "1.2.0",
            "_model_name": "LayoutModel",
            "_view_count": null,
            "_view_module": "@jupyter-widgets/base",
            "_view_module_version": "1.2.0",
            "_view_name": "LayoutView",
            "align_content": null,
            "align_items": null,
            "align_self": null,
            "border": null,
            "bottom": null,
            "display": null,
            "flex": null,
            "flex_flow": null,
            "grid_area": null,
            "grid_auto_columns": null,
            "grid_auto_flow": null,
            "grid_auto_rows": null,
            "grid_column": null,
            "grid_gap": null,
            "grid_row": null,
            "grid_template_areas": null,
            "grid_template_columns": null,
            "grid_template_rows": null,
            "height": null,
            "justify_content": null,
            "justify_items": null,
            "left": null,
            "margin": null,
            "max_height": null,
            "max_width": null,
            "min_height": null,
            "min_width": null,
            "object_fit": null,
            "object_position": null,
            "order": null,
            "overflow": null,
            "overflow_x": null,
            "overflow_y": null,
            "padding": null,
            "right": null,
            "top": null,
            "visibility": null,
            "width": null
          }
        },
        "4bc52c1b77f8489fa3e7bbe493f79880": {
          "model_module": "@jupyter-widgets/controls",
          "model_name": "ProgressStyleModel",
          "model_module_version": "1.5.0",
          "state": {
            "_model_module": "@jupyter-widgets/controls",
            "_model_module_version": "1.5.0",
            "_model_name": "ProgressStyleModel",
            "_view_count": null,
            "_view_module": "@jupyter-widgets/base",
            "_view_module_version": "1.2.0",
            "_view_name": "StyleView",
            "bar_color": null,
            "description_width": ""
          }
        },
        "4e30e109f7874abc9d41d360a20aea43": {
          "model_module": "@jupyter-widgets/base",
          "model_name": "LayoutModel",
          "model_module_version": "1.2.0",
          "state": {
            "_model_module": "@jupyter-widgets/base",
            "_model_module_version": "1.2.0",
            "_model_name": "LayoutModel",
            "_view_count": null,
            "_view_module": "@jupyter-widgets/base",
            "_view_module_version": "1.2.0",
            "_view_name": "LayoutView",
            "align_content": null,
            "align_items": null,
            "align_self": null,
            "border": null,
            "bottom": null,
            "display": null,
            "flex": null,
            "flex_flow": null,
            "grid_area": null,
            "grid_auto_columns": null,
            "grid_auto_flow": null,
            "grid_auto_rows": null,
            "grid_column": null,
            "grid_gap": null,
            "grid_row": null,
            "grid_template_areas": null,
            "grid_template_columns": null,
            "grid_template_rows": null,
            "height": null,
            "justify_content": null,
            "justify_items": null,
            "left": null,
            "margin": null,
            "max_height": null,
            "max_width": null,
            "min_height": null,
            "min_width": null,
            "object_fit": null,
            "object_position": null,
            "order": null,
            "overflow": null,
            "overflow_x": null,
            "overflow_y": null,
            "padding": null,
            "right": null,
            "top": null,
            "visibility": null,
            "width": null
          }
        },
        "b57c5e28d3c447f292ef49b871288ced": {
          "model_module": "@jupyter-widgets/controls",
          "model_name": "DescriptionStyleModel",
          "model_module_version": "1.5.0",
          "state": {
            "_model_module": "@jupyter-widgets/controls",
            "_model_module_version": "1.5.0",
            "_model_name": "DescriptionStyleModel",
            "_view_count": null,
            "_view_module": "@jupyter-widgets/base",
            "_view_module_version": "1.2.0",
            "_view_name": "StyleView",
            "description_width": ""
          }
        },
        "176bc180c81c4392884d5eee54f4ac5a": {
          "model_module": "@jupyter-widgets/controls",
          "model_name": "HBoxModel",
          "model_module_version": "1.5.0",
          "state": {
            "_dom_classes": [],
            "_model_module": "@jupyter-widgets/controls",
            "_model_module_version": "1.5.0",
            "_model_name": "HBoxModel",
            "_view_count": null,
            "_view_module": "@jupyter-widgets/controls",
            "_view_module_version": "1.5.0",
            "_view_name": "HBoxView",
            "box_style": "",
            "children": [
              "IPY_MODEL_996829fbdae341b398dff9b9bf45ad65",
              "IPY_MODEL_40f1327c07cb4af481448cf21e3caafc",
              "IPY_MODEL_cdd1a31885c147a696a3f441ecf42f15"
            ],
            "layout": "IPY_MODEL_bb99dece447e44b1b14e23efcbe9e5e1"
          }
        },
        "996829fbdae341b398dff9b9bf45ad65": {
          "model_module": "@jupyter-widgets/controls",
          "model_name": "HTMLModel",
          "model_module_version": "1.5.0",
          "state": {
            "_dom_classes": [],
            "_model_module": "@jupyter-widgets/controls",
            "_model_module_version": "1.5.0",
            "_model_name": "HTMLModel",
            "_view_count": null,
            "_view_module": "@jupyter-widgets/controls",
            "_view_module_version": "1.5.0",
            "_view_name": "HTMLView",
            "description": "",
            "description_tooltip": null,
            "layout": "IPY_MODEL_8834cabecc6645c6af23c501fca63edd",
            "placeholder": "​",
            "style": "IPY_MODEL_1631a4d763244361842724018420249d",
            "value": "Downloading data: 100%"
          }
        },
        "40f1327c07cb4af481448cf21e3caafc": {
          "model_module": "@jupyter-widgets/controls",
          "model_name": "FloatProgressModel",
          "model_module_version": "1.5.0",
          "state": {
            "_dom_classes": [],
            "_model_module": "@jupyter-widgets/controls",
            "_model_module_version": "1.5.0",
            "_model_name": "FloatProgressModel",
            "_view_count": null,
            "_view_module": "@jupyter-widgets/controls",
            "_view_module_version": "1.5.0",
            "_view_name": "ProgressView",
            "bar_style": "success",
            "description": "",
            "description_tooltip": null,
            "layout": "IPY_MODEL_55874bce6733489286fd11ebbaa2c743",
            "max": 131932617,
            "min": 0,
            "orientation": "horizontal",
            "style": "IPY_MODEL_40c0068dfb5d44568232461afa6f1d06",
            "value": 131932617
          }
        },
        "cdd1a31885c147a696a3f441ecf42f15": {
          "model_module": "@jupyter-widgets/controls",
          "model_name": "HTMLModel",
          "model_module_version": "1.5.0",
          "state": {
            "_dom_classes": [],
            "_model_module": "@jupyter-widgets/controls",
            "_model_module_version": "1.5.0",
            "_model_name": "HTMLModel",
            "_view_count": null,
            "_view_module": "@jupyter-widgets/controls",
            "_view_module_version": "1.5.0",
            "_view_name": "HTMLView",
            "description": "",
            "description_tooltip": null,
            "layout": "IPY_MODEL_ce244c6441fa4b8093f94eacc9ea2490",
            "placeholder": "​",
            "style": "IPY_MODEL_e852ac364e574f1aae43abc9223c2447",
            "value": " 132M/132M [00:02&lt;00:00, 63.9MB/s]"
          }
        },
        "bb99dece447e44b1b14e23efcbe9e5e1": {
          "model_module": "@jupyter-widgets/base",
          "model_name": "LayoutModel",
          "model_module_version": "1.2.0",
          "state": {
            "_model_module": "@jupyter-widgets/base",
            "_model_module_version": "1.2.0",
            "_model_name": "LayoutModel",
            "_view_count": null,
            "_view_module": "@jupyter-widgets/base",
            "_view_module_version": "1.2.0",
            "_view_name": "LayoutView",
            "align_content": null,
            "align_items": null,
            "align_self": null,
            "border": null,
            "bottom": null,
            "display": null,
            "flex": null,
            "flex_flow": null,
            "grid_area": null,
            "grid_auto_columns": null,
            "grid_auto_flow": null,
            "grid_auto_rows": null,
            "grid_column": null,
            "grid_gap": null,
            "grid_row": null,
            "grid_template_areas": null,
            "grid_template_columns": null,
            "grid_template_rows": null,
            "height": null,
            "justify_content": null,
            "justify_items": null,
            "left": null,
            "margin": null,
            "max_height": null,
            "max_width": null,
            "min_height": null,
            "min_width": null,
            "object_fit": null,
            "object_position": null,
            "order": null,
            "overflow": null,
            "overflow_x": null,
            "overflow_y": null,
            "padding": null,
            "right": null,
            "top": null,
            "visibility": null,
            "width": null
          }
        },
        "8834cabecc6645c6af23c501fca63edd": {
          "model_module": "@jupyter-widgets/base",
          "model_name": "LayoutModel",
          "model_module_version": "1.2.0",
          "state": {
            "_model_module": "@jupyter-widgets/base",
            "_model_module_version": "1.2.0",
            "_model_name": "LayoutModel",
            "_view_count": null,
            "_view_module": "@jupyter-widgets/base",
            "_view_module_version": "1.2.0",
            "_view_name": "LayoutView",
            "align_content": null,
            "align_items": null,
            "align_self": null,
            "border": null,
            "bottom": null,
            "display": null,
            "flex": null,
            "flex_flow": null,
            "grid_area": null,
            "grid_auto_columns": null,
            "grid_auto_flow": null,
            "grid_auto_rows": null,
            "grid_column": null,
            "grid_gap": null,
            "grid_row": null,
            "grid_template_areas": null,
            "grid_template_columns": null,
            "grid_template_rows": null,
            "height": null,
            "justify_content": null,
            "justify_items": null,
            "left": null,
            "margin": null,
            "max_height": null,
            "max_width": null,
            "min_height": null,
            "min_width": null,
            "object_fit": null,
            "object_position": null,
            "order": null,
            "overflow": null,
            "overflow_x": null,
            "overflow_y": null,
            "padding": null,
            "right": null,
            "top": null,
            "visibility": null,
            "width": null
          }
        },
        "1631a4d763244361842724018420249d": {
          "model_module": "@jupyter-widgets/controls",
          "model_name": "DescriptionStyleModel",
          "model_module_version": "1.5.0",
          "state": {
            "_model_module": "@jupyter-widgets/controls",
            "_model_module_version": "1.5.0",
            "_model_name": "DescriptionStyleModel",
            "_view_count": null,
            "_view_module": "@jupyter-widgets/base",
            "_view_module_version": "1.2.0",
            "_view_name": "StyleView",
            "description_width": ""
          }
        },
        "55874bce6733489286fd11ebbaa2c743": {
          "model_module": "@jupyter-widgets/base",
          "model_name": "LayoutModel",
          "model_module_version": "1.2.0",
          "state": {
            "_model_module": "@jupyter-widgets/base",
            "_model_module_version": "1.2.0",
            "_model_name": "LayoutModel",
            "_view_count": null,
            "_view_module": "@jupyter-widgets/base",
            "_view_module_version": "1.2.0",
            "_view_name": "LayoutView",
            "align_content": null,
            "align_items": null,
            "align_self": null,
            "border": null,
            "bottom": null,
            "display": null,
            "flex": null,
            "flex_flow": null,
            "grid_area": null,
            "grid_auto_columns": null,
            "grid_auto_flow": null,
            "grid_auto_rows": null,
            "grid_column": null,
            "grid_gap": null,
            "grid_row": null,
            "grid_template_areas": null,
            "grid_template_columns": null,
            "grid_template_rows": null,
            "height": null,
            "justify_content": null,
            "justify_items": null,
            "left": null,
            "margin": null,
            "max_height": null,
            "max_width": null,
            "min_height": null,
            "min_width": null,
            "object_fit": null,
            "object_position": null,
            "order": null,
            "overflow": null,
            "overflow_x": null,
            "overflow_y": null,
            "padding": null,
            "right": null,
            "top": null,
            "visibility": null,
            "width": null
          }
        },
        "40c0068dfb5d44568232461afa6f1d06": {
          "model_module": "@jupyter-widgets/controls",
          "model_name": "ProgressStyleModel",
          "model_module_version": "1.5.0",
          "state": {
            "_model_module": "@jupyter-widgets/controls",
            "_model_module_version": "1.5.0",
            "_model_name": "ProgressStyleModel",
            "_view_count": null,
            "_view_module": "@jupyter-widgets/base",
            "_view_module_version": "1.2.0",
            "_view_name": "StyleView",
            "bar_color": null,
            "description_width": ""
          }
        },
        "ce244c6441fa4b8093f94eacc9ea2490": {
          "model_module": "@jupyter-widgets/base",
          "model_name": "LayoutModel",
          "model_module_version": "1.2.0",
          "state": {
            "_model_module": "@jupyter-widgets/base",
            "_model_module_version": "1.2.0",
            "_model_name": "LayoutModel",
            "_view_count": null,
            "_view_module": "@jupyter-widgets/base",
            "_view_module_version": "1.2.0",
            "_view_name": "LayoutView",
            "align_content": null,
            "align_items": null,
            "align_self": null,
            "border": null,
            "bottom": null,
            "display": null,
            "flex": null,
            "flex_flow": null,
            "grid_area": null,
            "grid_auto_columns": null,
            "grid_auto_flow": null,
            "grid_auto_rows": null,
            "grid_column": null,
            "grid_gap": null,
            "grid_row": null,
            "grid_template_areas": null,
            "grid_template_columns": null,
            "grid_template_rows": null,
            "height": null,
            "justify_content": null,
            "justify_items": null,
            "left": null,
            "margin": null,
            "max_height": null,
            "max_width": null,
            "min_height": null,
            "min_width": null,
            "object_fit": null,
            "object_position": null,
            "order": null,
            "overflow": null,
            "overflow_x": null,
            "overflow_y": null,
            "padding": null,
            "right": null,
            "top": null,
            "visibility": null,
            "width": null
          }
        },
        "e852ac364e574f1aae43abc9223c2447": {
          "model_module": "@jupyter-widgets/controls",
          "model_name": "DescriptionStyleModel",
          "model_module_version": "1.5.0",
          "state": {
            "_model_module": "@jupyter-widgets/controls",
            "_model_module_version": "1.5.0",
            "_model_name": "DescriptionStyleModel",
            "_view_count": null,
            "_view_module": "@jupyter-widgets/base",
            "_view_module_version": "1.2.0",
            "_view_name": "StyleView",
            "description_width": ""
          }
        },
        "6786d993429d4ff785bdec2461f27c65": {
          "model_module": "@jupyter-widgets/controls",
          "model_name": "HBoxModel",
          "model_module_version": "1.5.0",
          "state": {
            "_dom_classes": [],
            "_model_module": "@jupyter-widgets/controls",
            "_model_module_version": "1.5.0",
            "_model_name": "HBoxModel",
            "_view_count": null,
            "_view_module": "@jupyter-widgets/controls",
            "_view_module_version": "1.5.0",
            "_view_name": "HBoxView",
            "box_style": "",
            "children": [
              "IPY_MODEL_7b25670580934c2a90556fd199dbf116",
              "IPY_MODEL_1f7eec9fb90d4a608c0eca65721b5d0a",
              "IPY_MODEL_5b469e9f40e44d9fb7935c616a7768e8"
            ],
            "layout": "IPY_MODEL_79d2ea3010e94112b4cc2bed58344c0f"
          }
        },
        "7b25670580934c2a90556fd199dbf116": {
          "model_module": "@jupyter-widgets/controls",
          "model_name": "HTMLModel",
          "model_module_version": "1.5.0",
          "state": {
            "_dom_classes": [],
            "_model_module": "@jupyter-widgets/controls",
            "_model_module_version": "1.5.0",
            "_model_name": "HTMLModel",
            "_view_count": null,
            "_view_module": "@jupyter-widgets/controls",
            "_view_module_version": "1.5.0",
            "_view_name": "HTMLView",
            "description": "",
            "description_tooltip": null,
            "layout": "IPY_MODEL_0dd90f844c024162b85512dcae90e835",
            "placeholder": "​",
            "style": "IPY_MODEL_982987b773f3457c8ce14330f79c84a0",
            "value": "Extracting data files: 100%"
          }
        },
        "1f7eec9fb90d4a608c0eca65721b5d0a": {
          "model_module": "@jupyter-widgets/controls",
          "model_name": "FloatProgressModel",
          "model_module_version": "1.5.0",
          "state": {
            "_dom_classes": [],
            "_model_module": "@jupyter-widgets/controls",
            "_model_module_version": "1.5.0",
            "_model_name": "FloatProgressModel",
            "_view_count": null,
            "_view_module": "@jupyter-widgets/controls",
            "_view_module_version": "1.5.0",
            "_view_name": "ProgressView",
            "bar_style": "success",
            "description": "",
            "description_tooltip": null,
            "layout": "IPY_MODEL_1e51f07f26104f929021cdec1ecbe115",
            "max": 2,
            "min": 0,
            "orientation": "horizontal",
            "style": "IPY_MODEL_ccce103419d446c1a8935361482a828c",
            "value": 2
          }
        },
        "5b469e9f40e44d9fb7935c616a7768e8": {
          "model_module": "@jupyter-widgets/controls",
          "model_name": "HTMLModel",
          "model_module_version": "1.5.0",
          "state": {
            "_dom_classes": [],
            "_model_module": "@jupyter-widgets/controls",
            "_model_module_version": "1.5.0",
            "_model_name": "HTMLModel",
            "_view_count": null,
            "_view_module": "@jupyter-widgets/controls",
            "_view_module_version": "1.5.0",
            "_view_name": "HTMLView",
            "description": "",
            "description_tooltip": null,
            "layout": "IPY_MODEL_6433976f2749496b9f0a8c2599217fa2",
            "placeholder": "​",
            "style": "IPY_MODEL_8505c05006874778a29ebd495e0a1d3f",
            "value": " 2/2 [00:00&lt;00:00, 82.74it/s]"
          }
        },
        "79d2ea3010e94112b4cc2bed58344c0f": {
          "model_module": "@jupyter-widgets/base",
          "model_name": "LayoutModel",
          "model_module_version": "1.2.0",
          "state": {
            "_model_module": "@jupyter-widgets/base",
            "_model_module_version": "1.2.0",
            "_model_name": "LayoutModel",
            "_view_count": null,
            "_view_module": "@jupyter-widgets/base",
            "_view_module_version": "1.2.0",
            "_view_name": "LayoutView",
            "align_content": null,
            "align_items": null,
            "align_self": null,
            "border": null,
            "bottom": null,
            "display": null,
            "flex": null,
            "flex_flow": null,
            "grid_area": null,
            "grid_auto_columns": null,
            "grid_auto_flow": null,
            "grid_auto_rows": null,
            "grid_column": null,
            "grid_gap": null,
            "grid_row": null,
            "grid_template_areas": null,
            "grid_template_columns": null,
            "grid_template_rows": null,
            "height": null,
            "justify_content": null,
            "justify_items": null,
            "left": null,
            "margin": null,
            "max_height": null,
            "max_width": null,
            "min_height": null,
            "min_width": null,
            "object_fit": null,
            "object_position": null,
            "order": null,
            "overflow": null,
            "overflow_x": null,
            "overflow_y": null,
            "padding": null,
            "right": null,
            "top": null,
            "visibility": null,
            "width": null
          }
        },
        "0dd90f844c024162b85512dcae90e835": {
          "model_module": "@jupyter-widgets/base",
          "model_name": "LayoutModel",
          "model_module_version": "1.2.0",
          "state": {
            "_model_module": "@jupyter-widgets/base",
            "_model_module_version": "1.2.0",
            "_model_name": "LayoutModel",
            "_view_count": null,
            "_view_module": "@jupyter-widgets/base",
            "_view_module_version": "1.2.0",
            "_view_name": "LayoutView",
            "align_content": null,
            "align_items": null,
            "align_self": null,
            "border": null,
            "bottom": null,
            "display": null,
            "flex": null,
            "flex_flow": null,
            "grid_area": null,
            "grid_auto_columns": null,
            "grid_auto_flow": null,
            "grid_auto_rows": null,
            "grid_column": null,
            "grid_gap": null,
            "grid_row": null,
            "grid_template_areas": null,
            "grid_template_columns": null,
            "grid_template_rows": null,
            "height": null,
            "justify_content": null,
            "justify_items": null,
            "left": null,
            "margin": null,
            "max_height": null,
            "max_width": null,
            "min_height": null,
            "min_width": null,
            "object_fit": null,
            "object_position": null,
            "order": null,
            "overflow": null,
            "overflow_x": null,
            "overflow_y": null,
            "padding": null,
            "right": null,
            "top": null,
            "visibility": null,
            "width": null
          }
        },
        "982987b773f3457c8ce14330f79c84a0": {
          "model_module": "@jupyter-widgets/controls",
          "model_name": "DescriptionStyleModel",
          "model_module_version": "1.5.0",
          "state": {
            "_model_module": "@jupyter-widgets/controls",
            "_model_module_version": "1.5.0",
            "_model_name": "DescriptionStyleModel",
            "_view_count": null,
            "_view_module": "@jupyter-widgets/base",
            "_view_module_version": "1.2.0",
            "_view_name": "StyleView",
            "description_width": ""
          }
        },
        "1e51f07f26104f929021cdec1ecbe115": {
          "model_module": "@jupyter-widgets/base",
          "model_name": "LayoutModel",
          "model_module_version": "1.2.0",
          "state": {
            "_model_module": "@jupyter-widgets/base",
            "_model_module_version": "1.2.0",
            "_model_name": "LayoutModel",
            "_view_count": null,
            "_view_module": "@jupyter-widgets/base",
            "_view_module_version": "1.2.0",
            "_view_name": "LayoutView",
            "align_content": null,
            "align_items": null,
            "align_self": null,
            "border": null,
            "bottom": null,
            "display": null,
            "flex": null,
            "flex_flow": null,
            "grid_area": null,
            "grid_auto_columns": null,
            "grid_auto_flow": null,
            "grid_auto_rows": null,
            "grid_column": null,
            "grid_gap": null,
            "grid_row": null,
            "grid_template_areas": null,
            "grid_template_columns": null,
            "grid_template_rows": null,
            "height": null,
            "justify_content": null,
            "justify_items": null,
            "left": null,
            "margin": null,
            "max_height": null,
            "max_width": null,
            "min_height": null,
            "min_width": null,
            "object_fit": null,
            "object_position": null,
            "order": null,
            "overflow": null,
            "overflow_x": null,
            "overflow_y": null,
            "padding": null,
            "right": null,
            "top": null,
            "visibility": null,
            "width": null
          }
        },
        "ccce103419d446c1a8935361482a828c": {
          "model_module": "@jupyter-widgets/controls",
          "model_name": "ProgressStyleModel",
          "model_module_version": "1.5.0",
          "state": {
            "_model_module": "@jupyter-widgets/controls",
            "_model_module_version": "1.5.0",
            "_model_name": "ProgressStyleModel",
            "_view_count": null,
            "_view_module": "@jupyter-widgets/base",
            "_view_module_version": "1.2.0",
            "_view_name": "StyleView",
            "bar_color": null,
            "description_width": ""
          }
        },
        "6433976f2749496b9f0a8c2599217fa2": {
          "model_module": "@jupyter-widgets/base",
          "model_name": "LayoutModel",
          "model_module_version": "1.2.0",
          "state": {
            "_model_module": "@jupyter-widgets/base",
            "_model_module_version": "1.2.0",
            "_model_name": "LayoutModel",
            "_view_count": null,
            "_view_module": "@jupyter-widgets/base",
            "_view_module_version": "1.2.0",
            "_view_name": "LayoutView",
            "align_content": null,
            "align_items": null,
            "align_self": null,
            "border": null,
            "bottom": null,
            "display": null,
            "flex": null,
            "flex_flow": null,
            "grid_area": null,
            "grid_auto_columns": null,
            "grid_auto_flow": null,
            "grid_auto_rows": null,
            "grid_column": null,
            "grid_gap": null,
            "grid_row": null,
            "grid_template_areas": null,
            "grid_template_columns": null,
            "grid_template_rows": null,
            "height": null,
            "justify_content": null,
            "justify_items": null,
            "left": null,
            "margin": null,
            "max_height": null,
            "max_width": null,
            "min_height": null,
            "min_width": null,
            "object_fit": null,
            "object_position": null,
            "order": null,
            "overflow": null,
            "overflow_x": null,
            "overflow_y": null,
            "padding": null,
            "right": null,
            "top": null,
            "visibility": null,
            "width": null
          }
        },
        "8505c05006874778a29ebd495e0a1d3f": {
          "model_module": "@jupyter-widgets/controls",
          "model_name": "DescriptionStyleModel",
          "model_module_version": "1.5.0",
          "state": {
            "_model_module": "@jupyter-widgets/controls",
            "_model_module_version": "1.5.0",
            "_model_name": "DescriptionStyleModel",
            "_view_count": null,
            "_view_module": "@jupyter-widgets/base",
            "_view_module_version": "1.2.0",
            "_view_name": "StyleView",
            "description_width": ""
          }
        },
        "105c0731bb364f94851b1fb8172b3739": {
          "model_module": "@jupyter-widgets/controls",
          "model_name": "HBoxModel",
          "model_module_version": "1.5.0",
          "state": {
            "_dom_classes": [],
            "_model_module": "@jupyter-widgets/controls",
            "_model_module_version": "1.5.0",
            "_model_name": "HBoxModel",
            "_view_count": null,
            "_view_module": "@jupyter-widgets/controls",
            "_view_module_version": "1.5.0",
            "_view_name": "HBoxView",
            "box_style": "",
            "children": [
              "IPY_MODEL_ba5a66f0488248369774eae63c671075",
              "IPY_MODEL_283f71ddbd3b4477a7fa00bbd38ada9d",
              "IPY_MODEL_b1e322398799494bbc956b221bed9f0d"
            ],
            "layout": "IPY_MODEL_ff4bb33f9cb145a6835ef43025e33226"
          }
        },
        "ba5a66f0488248369774eae63c671075": {
          "model_module": "@jupyter-widgets/controls",
          "model_name": "HTMLModel",
          "model_module_version": "1.5.0",
          "state": {
            "_dom_classes": [],
            "_model_module": "@jupyter-widgets/controls",
            "_model_module_version": "1.5.0",
            "_model_name": "HTMLModel",
            "_view_count": null,
            "_view_module": "@jupyter-widgets/controls",
            "_view_module_version": "1.5.0",
            "_view_name": "HTMLView",
            "description": "",
            "description_tooltip": null,
            "layout": "IPY_MODEL_d5033e7480ce4fc3a26433587f0dadc1",
            "placeholder": "​",
            "style": "IPY_MODEL_c2eafcbfe2fb4f66b88e14ad38b233eb",
            "value": ""
          }
        },
        "283f71ddbd3b4477a7fa00bbd38ada9d": {
          "model_module": "@jupyter-widgets/controls",
          "model_name": "FloatProgressModel",
          "model_module_version": "1.5.0",
          "state": {
            "_dom_classes": [],
            "_model_module": "@jupyter-widgets/controls",
            "_model_module_version": "1.5.0",
            "_model_name": "FloatProgressModel",
            "_view_count": null,
            "_view_module": "@jupyter-widgets/controls",
            "_view_module_version": "1.5.0",
            "_view_name": "ProgressView",
            "bar_style": "info",
            "description": "",
            "description_tooltip": null,
            "layout": "IPY_MODEL_555ccb3bcd9647be8ad1b5e9e607905b",
            "max": 1,
            "min": 0,
            "orientation": "horizontal",
            "style": "IPY_MODEL_2e1b18220a9f458198039ebaaa55c8fe",
            "value": 1
          }
        },
        "b1e322398799494bbc956b221bed9f0d": {
          "model_module": "@jupyter-widgets/controls",
          "model_name": "HTMLModel",
          "model_module_version": "1.5.0",
          "state": {
            "_dom_classes": [],
            "_model_module": "@jupyter-widgets/controls",
            "_model_module_version": "1.5.0",
            "_model_name": "HTMLModel",
            "_view_count": null,
            "_view_module": "@jupyter-widgets/controls",
            "_view_module_version": "1.5.0",
            "_view_name": "HTMLView",
            "description": "",
            "description_tooltip": null,
            "layout": "IPY_MODEL_6c8b1ac17e50446e8b1c1e33654ee314",
            "placeholder": "​",
            "style": "IPY_MODEL_c9daa9cf9dec46c2a128775704378610",
            "value": " 1/? [00:00&lt;00:00,  3.33 tables/s]"
          }
        },
        "ff4bb33f9cb145a6835ef43025e33226": {
          "model_module": "@jupyter-widgets/base",
          "model_name": "LayoutModel",
          "model_module_version": "1.2.0",
          "state": {
            "_model_module": "@jupyter-widgets/base",
            "_model_module_version": "1.2.0",
            "_model_name": "LayoutModel",
            "_view_count": null,
            "_view_module": "@jupyter-widgets/base",
            "_view_module_version": "1.2.0",
            "_view_name": "LayoutView",
            "align_content": null,
            "align_items": null,
            "align_self": null,
            "border": null,
            "bottom": null,
            "display": null,
            "flex": null,
            "flex_flow": null,
            "grid_area": null,
            "grid_auto_columns": null,
            "grid_auto_flow": null,
            "grid_auto_rows": null,
            "grid_column": null,
            "grid_gap": null,
            "grid_row": null,
            "grid_template_areas": null,
            "grid_template_columns": null,
            "grid_template_rows": null,
            "height": null,
            "justify_content": null,
            "justify_items": null,
            "left": null,
            "margin": null,
            "max_height": null,
            "max_width": null,
            "min_height": null,
            "min_width": null,
            "object_fit": null,
            "object_position": null,
            "order": null,
            "overflow": null,
            "overflow_x": null,
            "overflow_y": null,
            "padding": null,
            "right": null,
            "top": null,
            "visibility": null,
            "width": null
          }
        },
        "d5033e7480ce4fc3a26433587f0dadc1": {
          "model_module": "@jupyter-widgets/base",
          "model_name": "LayoutModel",
          "model_module_version": "1.2.0",
          "state": {
            "_model_module": "@jupyter-widgets/base",
            "_model_module_version": "1.2.0",
            "_model_name": "LayoutModel",
            "_view_count": null,
            "_view_module": "@jupyter-widgets/base",
            "_view_module_version": "1.2.0",
            "_view_name": "LayoutView",
            "align_content": null,
            "align_items": null,
            "align_self": null,
            "border": null,
            "bottom": null,
            "display": null,
            "flex": null,
            "flex_flow": null,
            "grid_area": null,
            "grid_auto_columns": null,
            "grid_auto_flow": null,
            "grid_auto_rows": null,
            "grid_column": null,
            "grid_gap": null,
            "grid_row": null,
            "grid_template_areas": null,
            "grid_template_columns": null,
            "grid_template_rows": null,
            "height": null,
            "justify_content": null,
            "justify_items": null,
            "left": null,
            "margin": null,
            "max_height": null,
            "max_width": null,
            "min_height": null,
            "min_width": null,
            "object_fit": null,
            "object_position": null,
            "order": null,
            "overflow": null,
            "overflow_x": null,
            "overflow_y": null,
            "padding": null,
            "right": null,
            "top": null,
            "visibility": null,
            "width": null
          }
        },
        "c2eafcbfe2fb4f66b88e14ad38b233eb": {
          "model_module": "@jupyter-widgets/controls",
          "model_name": "DescriptionStyleModel",
          "model_module_version": "1.5.0",
          "state": {
            "_model_module": "@jupyter-widgets/controls",
            "_model_module_version": "1.5.0",
            "_model_name": "DescriptionStyleModel",
            "_view_count": null,
            "_view_module": "@jupyter-widgets/base",
            "_view_module_version": "1.2.0",
            "_view_name": "StyleView",
            "description_width": ""
          }
        },
        "555ccb3bcd9647be8ad1b5e9e607905b": {
          "model_module": "@jupyter-widgets/base",
          "model_name": "LayoutModel",
          "model_module_version": "1.2.0",
          "state": {
            "_model_module": "@jupyter-widgets/base",
            "_model_module_version": "1.2.0",
            "_model_name": "LayoutModel",
            "_view_count": null,
            "_view_module": "@jupyter-widgets/base",
            "_view_module_version": "1.2.0",
            "_view_name": "LayoutView",
            "align_content": null,
            "align_items": null,
            "align_self": null,
            "border": null,
            "bottom": null,
            "display": null,
            "flex": null,
            "flex_flow": null,
            "grid_area": null,
            "grid_auto_columns": null,
            "grid_auto_flow": null,
            "grid_auto_rows": null,
            "grid_column": null,
            "grid_gap": null,
            "grid_row": null,
            "grid_template_areas": null,
            "grid_template_columns": null,
            "grid_template_rows": null,
            "height": null,
            "justify_content": null,
            "justify_items": null,
            "left": null,
            "margin": null,
            "max_height": null,
            "max_width": null,
            "min_height": null,
            "min_width": null,
            "object_fit": null,
            "object_position": null,
            "order": null,
            "overflow": null,
            "overflow_x": null,
            "overflow_y": null,
            "padding": null,
            "right": null,
            "top": null,
            "visibility": null,
            "width": "20px"
          }
        },
        "2e1b18220a9f458198039ebaaa55c8fe": {
          "model_module": "@jupyter-widgets/controls",
          "model_name": "ProgressStyleModel",
          "model_module_version": "1.5.0",
          "state": {
            "_model_module": "@jupyter-widgets/controls",
            "_model_module_version": "1.5.0",
            "_model_name": "ProgressStyleModel",
            "_view_count": null,
            "_view_module": "@jupyter-widgets/base",
            "_view_module_version": "1.2.0",
            "_view_name": "StyleView",
            "bar_color": null,
            "description_width": ""
          }
        },
        "6c8b1ac17e50446e8b1c1e33654ee314": {
          "model_module": "@jupyter-widgets/base",
          "model_name": "LayoutModel",
          "model_module_version": "1.2.0",
          "state": {
            "_model_module": "@jupyter-widgets/base",
            "_model_module_version": "1.2.0",
            "_model_name": "LayoutModel",
            "_view_count": null,
            "_view_module": "@jupyter-widgets/base",
            "_view_module_version": "1.2.0",
            "_view_name": "LayoutView",
            "align_content": null,
            "align_items": null,
            "align_self": null,
            "border": null,
            "bottom": null,
            "display": null,
            "flex": null,
            "flex_flow": null,
            "grid_area": null,
            "grid_auto_columns": null,
            "grid_auto_flow": null,
            "grid_auto_rows": null,
            "grid_column": null,
            "grid_gap": null,
            "grid_row": null,
            "grid_template_areas": null,
            "grid_template_columns": null,
            "grid_template_rows": null,
            "height": null,
            "justify_content": null,
            "justify_items": null,
            "left": null,
            "margin": null,
            "max_height": null,
            "max_width": null,
            "min_height": null,
            "min_width": null,
            "object_fit": null,
            "object_position": null,
            "order": null,
            "overflow": null,
            "overflow_x": null,
            "overflow_y": null,
            "padding": null,
            "right": null,
            "top": null,
            "visibility": null,
            "width": null
          }
        },
        "c9daa9cf9dec46c2a128775704378610": {
          "model_module": "@jupyter-widgets/controls",
          "model_name": "DescriptionStyleModel",
          "model_module_version": "1.5.0",
          "state": {
            "_model_module": "@jupyter-widgets/controls",
            "_model_module_version": "1.5.0",
            "_model_name": "DescriptionStyleModel",
            "_view_count": null,
            "_view_module": "@jupyter-widgets/base",
            "_view_module_version": "1.2.0",
            "_view_name": "StyleView",
            "description_width": ""
          }
        },
        "71f5c988bf934e4193d84d52cf5f5947": {
          "model_module": "@jupyter-widgets/controls",
          "model_name": "HBoxModel",
          "model_module_version": "1.5.0",
          "state": {
            "_dom_classes": [],
            "_model_module": "@jupyter-widgets/controls",
            "_model_module_version": "1.5.0",
            "_model_name": "HBoxModel",
            "_view_count": null,
            "_view_module": "@jupyter-widgets/controls",
            "_view_module_version": "1.5.0",
            "_view_name": "HBoxView",
            "box_style": "",
            "children": [
              "IPY_MODEL_10bc68691eb44996b1c6c4eb9fa975b0",
              "IPY_MODEL_a627d85684fe4f24848516e83ad09d5c",
              "IPY_MODEL_baa9f1f00e64414382e61f385fbc0b39"
            ],
            "layout": "IPY_MODEL_c0e6ea3f6d484419963f70e91bcc65d0"
          }
        },
        "10bc68691eb44996b1c6c4eb9fa975b0": {
          "model_module": "@jupyter-widgets/controls",
          "model_name": "HTMLModel",
          "model_module_version": "1.5.0",
          "state": {
            "_dom_classes": [],
            "_model_module": "@jupyter-widgets/controls",
            "_model_module_version": "1.5.0",
            "_model_name": "HTMLModel",
            "_view_count": null,
            "_view_module": "@jupyter-widgets/controls",
            "_view_module_version": "1.5.0",
            "_view_name": "HTMLView",
            "description": "",
            "description_tooltip": null,
            "layout": "IPY_MODEL_a86bf347184f4d6bb6e938f3b3f3e543",
            "placeholder": "​",
            "style": "IPY_MODEL_903574ce9f66436287d0bb1e2213627c",
            "value": ""
          }
        },
        "a627d85684fe4f24848516e83ad09d5c": {
          "model_module": "@jupyter-widgets/controls",
          "model_name": "FloatProgressModel",
          "model_module_version": "1.5.0",
          "state": {
            "_dom_classes": [],
            "_model_module": "@jupyter-widgets/controls",
            "_model_module_version": "1.5.0",
            "_model_name": "FloatProgressModel",
            "_view_count": null,
            "_view_module": "@jupyter-widgets/controls",
            "_view_module_version": "1.5.0",
            "_view_name": "ProgressView",
            "bar_style": "info",
            "description": "",
            "description_tooltip": null,
            "layout": "IPY_MODEL_e4daacf5da574e7aa56ebc4c326b6765",
            "max": 1,
            "min": 0,
            "orientation": "horizontal",
            "style": "IPY_MODEL_d234032ae80248d18da407b1df780b49",
            "value": 1
          }
        },
        "baa9f1f00e64414382e61f385fbc0b39": {
          "model_module": "@jupyter-widgets/controls",
          "model_name": "HTMLModel",
          "model_module_version": "1.5.0",
          "state": {
            "_dom_classes": [],
            "_model_module": "@jupyter-widgets/controls",
            "_model_module_version": "1.5.0",
            "_model_name": "HTMLModel",
            "_view_count": null,
            "_view_module": "@jupyter-widgets/controls",
            "_view_module_version": "1.5.0",
            "_view_name": "HTMLView",
            "description": "",
            "description_tooltip": null,
            "layout": "IPY_MODEL_607fa159083147dda59a7b70fac589fe",
            "placeholder": "​",
            "style": "IPY_MODEL_ae13e65705f84caa91f060305a49a8d5",
            "value": " 1/? [00:01&lt;00:00,  1.22s/ tables]"
          }
        },
        "c0e6ea3f6d484419963f70e91bcc65d0": {
          "model_module": "@jupyter-widgets/base",
          "model_name": "LayoutModel",
          "model_module_version": "1.2.0",
          "state": {
            "_model_module": "@jupyter-widgets/base",
            "_model_module_version": "1.2.0",
            "_model_name": "LayoutModel",
            "_view_count": null,
            "_view_module": "@jupyter-widgets/base",
            "_view_module_version": "1.2.0",
            "_view_name": "LayoutView",
            "align_content": null,
            "align_items": null,
            "align_self": null,
            "border": null,
            "bottom": null,
            "display": null,
            "flex": null,
            "flex_flow": null,
            "grid_area": null,
            "grid_auto_columns": null,
            "grid_auto_flow": null,
            "grid_auto_rows": null,
            "grid_column": null,
            "grid_gap": null,
            "grid_row": null,
            "grid_template_areas": null,
            "grid_template_columns": null,
            "grid_template_rows": null,
            "height": null,
            "justify_content": null,
            "justify_items": null,
            "left": null,
            "margin": null,
            "max_height": null,
            "max_width": null,
            "min_height": null,
            "min_width": null,
            "object_fit": null,
            "object_position": null,
            "order": null,
            "overflow": null,
            "overflow_x": null,
            "overflow_y": null,
            "padding": null,
            "right": null,
            "top": null,
            "visibility": null,
            "width": null
          }
        },
        "a86bf347184f4d6bb6e938f3b3f3e543": {
          "model_module": "@jupyter-widgets/base",
          "model_name": "LayoutModel",
          "model_module_version": "1.2.0",
          "state": {
            "_model_module": "@jupyter-widgets/base",
            "_model_module_version": "1.2.0",
            "_model_name": "LayoutModel",
            "_view_count": null,
            "_view_module": "@jupyter-widgets/base",
            "_view_module_version": "1.2.0",
            "_view_name": "LayoutView",
            "align_content": null,
            "align_items": null,
            "align_self": null,
            "border": null,
            "bottom": null,
            "display": null,
            "flex": null,
            "flex_flow": null,
            "grid_area": null,
            "grid_auto_columns": null,
            "grid_auto_flow": null,
            "grid_auto_rows": null,
            "grid_column": null,
            "grid_gap": null,
            "grid_row": null,
            "grid_template_areas": null,
            "grid_template_columns": null,
            "grid_template_rows": null,
            "height": null,
            "justify_content": null,
            "justify_items": null,
            "left": null,
            "margin": null,
            "max_height": null,
            "max_width": null,
            "min_height": null,
            "min_width": null,
            "object_fit": null,
            "object_position": null,
            "order": null,
            "overflow": null,
            "overflow_x": null,
            "overflow_y": null,
            "padding": null,
            "right": null,
            "top": null,
            "visibility": null,
            "width": null
          }
        },
        "903574ce9f66436287d0bb1e2213627c": {
          "model_module": "@jupyter-widgets/controls",
          "model_name": "DescriptionStyleModel",
          "model_module_version": "1.5.0",
          "state": {
            "_model_module": "@jupyter-widgets/controls",
            "_model_module_version": "1.5.0",
            "_model_name": "DescriptionStyleModel",
            "_view_count": null,
            "_view_module": "@jupyter-widgets/base",
            "_view_module_version": "1.2.0",
            "_view_name": "StyleView",
            "description_width": ""
          }
        },
        "e4daacf5da574e7aa56ebc4c326b6765": {
          "model_module": "@jupyter-widgets/base",
          "model_name": "LayoutModel",
          "model_module_version": "1.2.0",
          "state": {
            "_model_module": "@jupyter-widgets/base",
            "_model_module_version": "1.2.0",
            "_model_name": "LayoutModel",
            "_view_count": null,
            "_view_module": "@jupyter-widgets/base",
            "_view_module_version": "1.2.0",
            "_view_name": "LayoutView",
            "align_content": null,
            "align_items": null,
            "align_self": null,
            "border": null,
            "bottom": null,
            "display": null,
            "flex": null,
            "flex_flow": null,
            "grid_area": null,
            "grid_auto_columns": null,
            "grid_auto_flow": null,
            "grid_auto_rows": null,
            "grid_column": null,
            "grid_gap": null,
            "grid_row": null,
            "grid_template_areas": null,
            "grid_template_columns": null,
            "grid_template_rows": null,
            "height": null,
            "justify_content": null,
            "justify_items": null,
            "left": null,
            "margin": null,
            "max_height": null,
            "max_width": null,
            "min_height": null,
            "min_width": null,
            "object_fit": null,
            "object_position": null,
            "order": null,
            "overflow": null,
            "overflow_x": null,
            "overflow_y": null,
            "padding": null,
            "right": null,
            "top": null,
            "visibility": null,
            "width": "20px"
          }
        },
        "d234032ae80248d18da407b1df780b49": {
          "model_module": "@jupyter-widgets/controls",
          "model_name": "ProgressStyleModel",
          "model_module_version": "1.5.0",
          "state": {
            "_model_module": "@jupyter-widgets/controls",
            "_model_module_version": "1.5.0",
            "_model_name": "ProgressStyleModel",
            "_view_count": null,
            "_view_module": "@jupyter-widgets/base",
            "_view_module_version": "1.2.0",
            "_view_name": "StyleView",
            "bar_color": null,
            "description_width": ""
          }
        },
        "607fa159083147dda59a7b70fac589fe": {
          "model_module": "@jupyter-widgets/base",
          "model_name": "LayoutModel",
          "model_module_version": "1.2.0",
          "state": {
            "_model_module": "@jupyter-widgets/base",
            "_model_module_version": "1.2.0",
            "_model_name": "LayoutModel",
            "_view_count": null,
            "_view_module": "@jupyter-widgets/base",
            "_view_module_version": "1.2.0",
            "_view_name": "LayoutView",
            "align_content": null,
            "align_items": null,
            "align_self": null,
            "border": null,
            "bottom": null,
            "display": null,
            "flex": null,
            "flex_flow": null,
            "grid_area": null,
            "grid_auto_columns": null,
            "grid_auto_flow": null,
            "grid_auto_rows": null,
            "grid_column": null,
            "grid_gap": null,
            "grid_row": null,
            "grid_template_areas": null,
            "grid_template_columns": null,
            "grid_template_rows": null,
            "height": null,
            "justify_content": null,
            "justify_items": null,
            "left": null,
            "margin": null,
            "max_height": null,
            "max_width": null,
            "min_height": null,
            "min_width": null,
            "object_fit": null,
            "object_position": null,
            "order": null,
            "overflow": null,
            "overflow_x": null,
            "overflow_y": null,
            "padding": null,
            "right": null,
            "top": null,
            "visibility": null,
            "width": null
          }
        },
        "ae13e65705f84caa91f060305a49a8d5": {
          "model_module": "@jupyter-widgets/controls",
          "model_name": "DescriptionStyleModel",
          "model_module_version": "1.5.0",
          "state": {
            "_model_module": "@jupyter-widgets/controls",
            "_model_module_version": "1.5.0",
            "_model_name": "DescriptionStyleModel",
            "_view_count": null,
            "_view_module": "@jupyter-widgets/base",
            "_view_module_version": "1.2.0",
            "_view_name": "StyleView",
            "description_width": ""
          }
        },
        "5bb5c35123fc456e8aa593f97825c942": {
          "model_module": "@jupyter-widgets/controls",
          "model_name": "HBoxModel",
          "model_module_version": "1.5.0",
          "state": {
            "_dom_classes": [],
            "_model_module": "@jupyter-widgets/controls",
            "_model_module_version": "1.5.0",
            "_model_name": "HBoxModel",
            "_view_count": null,
            "_view_module": "@jupyter-widgets/controls",
            "_view_module_version": "1.5.0",
            "_view_name": "HBoxView",
            "box_style": "",
            "children": [
              "IPY_MODEL_8cfb3c9330d14138bbbc33d4791f6fd9",
              "IPY_MODEL_58f87ea341524cd6a01380ee7162d196",
              "IPY_MODEL_4072d4f65c284ff09e59f8ee4502f776"
            ],
            "layout": "IPY_MODEL_646e4573dc374fcba217d0ed841a4667"
          }
        },
        "8cfb3c9330d14138bbbc33d4791f6fd9": {
          "model_module": "@jupyter-widgets/controls",
          "model_name": "HTMLModel",
          "model_module_version": "1.5.0",
          "state": {
            "_dom_classes": [],
            "_model_module": "@jupyter-widgets/controls",
            "_model_module_version": "1.5.0",
            "_model_name": "HTMLModel",
            "_view_count": null,
            "_view_module": "@jupyter-widgets/controls",
            "_view_module_version": "1.5.0",
            "_view_name": "HTMLView",
            "description": "",
            "description_tooltip": null,
            "layout": "IPY_MODEL_e6d07d22adf04fa2b122d74f8b59e48e",
            "placeholder": "​",
            "style": "IPY_MODEL_d33888d5e7c74c8588accfcbd4c1f7d1",
            "value": "100%"
          }
        },
        "58f87ea341524cd6a01380ee7162d196": {
          "model_module": "@jupyter-widgets/controls",
          "model_name": "FloatProgressModel",
          "model_module_version": "1.5.0",
          "state": {
            "_dom_classes": [],
            "_model_module": "@jupyter-widgets/controls",
            "_model_module_version": "1.5.0",
            "_model_name": "FloatProgressModel",
            "_view_count": null,
            "_view_module": "@jupyter-widgets/controls",
            "_view_module_version": "1.5.0",
            "_view_name": "ProgressView",
            "bar_style": "success",
            "description": "",
            "description_tooltip": null,
            "layout": "IPY_MODEL_dbd344d6105f4d558e09e9540b9ff2ba",
            "max": 2,
            "min": 0,
            "orientation": "horizontal",
            "style": "IPY_MODEL_9c5d26ed9ee1481e82f0c792fff50565",
            "value": 2
          }
        },
        "4072d4f65c284ff09e59f8ee4502f776": {
          "model_module": "@jupyter-widgets/controls",
          "model_name": "HTMLModel",
          "model_module_version": "1.5.0",
          "state": {
            "_dom_classes": [],
            "_model_module": "@jupyter-widgets/controls",
            "_model_module_version": "1.5.0",
            "_model_name": "HTMLModel",
            "_view_count": null,
            "_view_module": "@jupyter-widgets/controls",
            "_view_module_version": "1.5.0",
            "_view_name": "HTMLView",
            "description": "",
            "description_tooltip": null,
            "layout": "IPY_MODEL_0bf741badabf4ec9b2fca98294250d22",
            "placeholder": "​",
            "style": "IPY_MODEL_ac5bf501501a42e68f947aa200b8826e",
            "value": " 2/2 [00:00&lt;00:00, 37.57it/s]"
          }
        },
        "646e4573dc374fcba217d0ed841a4667": {
          "model_module": "@jupyter-widgets/base",
          "model_name": "LayoutModel",
          "model_module_version": "1.2.0",
          "state": {
            "_model_module": "@jupyter-widgets/base",
            "_model_module_version": "1.2.0",
            "_model_name": "LayoutModel",
            "_view_count": null,
            "_view_module": "@jupyter-widgets/base",
            "_view_module_version": "1.2.0",
            "_view_name": "LayoutView",
            "align_content": null,
            "align_items": null,
            "align_self": null,
            "border": null,
            "bottom": null,
            "display": null,
            "flex": null,
            "flex_flow": null,
            "grid_area": null,
            "grid_auto_columns": null,
            "grid_auto_flow": null,
            "grid_auto_rows": null,
            "grid_column": null,
            "grid_gap": null,
            "grid_row": null,
            "grid_template_areas": null,
            "grid_template_columns": null,
            "grid_template_rows": null,
            "height": null,
            "justify_content": null,
            "justify_items": null,
            "left": null,
            "margin": null,
            "max_height": null,
            "max_width": null,
            "min_height": null,
            "min_width": null,
            "object_fit": null,
            "object_position": null,
            "order": null,
            "overflow": null,
            "overflow_x": null,
            "overflow_y": null,
            "padding": null,
            "right": null,
            "top": null,
            "visibility": null,
            "width": null
          }
        },
        "e6d07d22adf04fa2b122d74f8b59e48e": {
          "model_module": "@jupyter-widgets/base",
          "model_name": "LayoutModel",
          "model_module_version": "1.2.0",
          "state": {
            "_model_module": "@jupyter-widgets/base",
            "_model_module_version": "1.2.0",
            "_model_name": "LayoutModel",
            "_view_count": null,
            "_view_module": "@jupyter-widgets/base",
            "_view_module_version": "1.2.0",
            "_view_name": "LayoutView",
            "align_content": null,
            "align_items": null,
            "align_self": null,
            "border": null,
            "bottom": null,
            "display": null,
            "flex": null,
            "flex_flow": null,
            "grid_area": null,
            "grid_auto_columns": null,
            "grid_auto_flow": null,
            "grid_auto_rows": null,
            "grid_column": null,
            "grid_gap": null,
            "grid_row": null,
            "grid_template_areas": null,
            "grid_template_columns": null,
            "grid_template_rows": null,
            "height": null,
            "justify_content": null,
            "justify_items": null,
            "left": null,
            "margin": null,
            "max_height": null,
            "max_width": null,
            "min_height": null,
            "min_width": null,
            "object_fit": null,
            "object_position": null,
            "order": null,
            "overflow": null,
            "overflow_x": null,
            "overflow_y": null,
            "padding": null,
            "right": null,
            "top": null,
            "visibility": null,
            "width": null
          }
        },
        "d33888d5e7c74c8588accfcbd4c1f7d1": {
          "model_module": "@jupyter-widgets/controls",
          "model_name": "DescriptionStyleModel",
          "model_module_version": "1.5.0",
          "state": {
            "_model_module": "@jupyter-widgets/controls",
            "_model_module_version": "1.5.0",
            "_model_name": "DescriptionStyleModel",
            "_view_count": null,
            "_view_module": "@jupyter-widgets/base",
            "_view_module_version": "1.2.0",
            "_view_name": "StyleView",
            "description_width": ""
          }
        },
        "dbd344d6105f4d558e09e9540b9ff2ba": {
          "model_module": "@jupyter-widgets/base",
          "model_name": "LayoutModel",
          "model_module_version": "1.2.0",
          "state": {
            "_model_module": "@jupyter-widgets/base",
            "_model_module_version": "1.2.0",
            "_model_name": "LayoutModel",
            "_view_count": null,
            "_view_module": "@jupyter-widgets/base",
            "_view_module_version": "1.2.0",
            "_view_name": "LayoutView",
            "align_content": null,
            "align_items": null,
            "align_self": null,
            "border": null,
            "bottom": null,
            "display": null,
            "flex": null,
            "flex_flow": null,
            "grid_area": null,
            "grid_auto_columns": null,
            "grid_auto_flow": null,
            "grid_auto_rows": null,
            "grid_column": null,
            "grid_gap": null,
            "grid_row": null,
            "grid_template_areas": null,
            "grid_template_columns": null,
            "grid_template_rows": null,
            "height": null,
            "justify_content": null,
            "justify_items": null,
            "left": null,
            "margin": null,
            "max_height": null,
            "max_width": null,
            "min_height": null,
            "min_width": null,
            "object_fit": null,
            "object_position": null,
            "order": null,
            "overflow": null,
            "overflow_x": null,
            "overflow_y": null,
            "padding": null,
            "right": null,
            "top": null,
            "visibility": null,
            "width": null
          }
        },
        "9c5d26ed9ee1481e82f0c792fff50565": {
          "model_module": "@jupyter-widgets/controls",
          "model_name": "ProgressStyleModel",
          "model_module_version": "1.5.0",
          "state": {
            "_model_module": "@jupyter-widgets/controls",
            "_model_module_version": "1.5.0",
            "_model_name": "ProgressStyleModel",
            "_view_count": null,
            "_view_module": "@jupyter-widgets/base",
            "_view_module_version": "1.2.0",
            "_view_name": "StyleView",
            "bar_color": null,
            "description_width": ""
          }
        },
        "0bf741badabf4ec9b2fca98294250d22": {
          "model_module": "@jupyter-widgets/base",
          "model_name": "LayoutModel",
          "model_module_version": "1.2.0",
          "state": {
            "_model_module": "@jupyter-widgets/base",
            "_model_module_version": "1.2.0",
            "_model_name": "LayoutModel",
            "_view_count": null,
            "_view_module": "@jupyter-widgets/base",
            "_view_module_version": "1.2.0",
            "_view_name": "LayoutView",
            "align_content": null,
            "align_items": null,
            "align_self": null,
            "border": null,
            "bottom": null,
            "display": null,
            "flex": null,
            "flex_flow": null,
            "grid_area": null,
            "grid_auto_columns": null,
            "grid_auto_flow": null,
            "grid_auto_rows": null,
            "grid_column": null,
            "grid_gap": null,
            "grid_row": null,
            "grid_template_areas": null,
            "grid_template_columns": null,
            "grid_template_rows": null,
            "height": null,
            "justify_content": null,
            "justify_items": null,
            "left": null,
            "margin": null,
            "max_height": null,
            "max_width": null,
            "min_height": null,
            "min_width": null,
            "object_fit": null,
            "object_position": null,
            "order": null,
            "overflow": null,
            "overflow_x": null,
            "overflow_y": null,
            "padding": null,
            "right": null,
            "top": null,
            "visibility": null,
            "width": null
          }
        },
        "ac5bf501501a42e68f947aa200b8826e": {
          "model_module": "@jupyter-widgets/controls",
          "model_name": "DescriptionStyleModel",
          "model_module_version": "1.5.0",
          "state": {
            "_model_module": "@jupyter-widgets/controls",
            "_model_module_version": "1.5.0",
            "_model_name": "DescriptionStyleModel",
            "_view_count": null,
            "_view_module": "@jupyter-widgets/base",
            "_view_module_version": "1.2.0",
            "_view_name": "StyleView",
            "description_width": ""
          }
        },
        "6a3afd60daf642ed968de301179eb6a5": {
          "model_module": "@jupyter-widgets/controls",
          "model_name": "HBoxModel",
          "model_module_version": "1.5.0",
          "state": {
            "_dom_classes": [],
            "_model_module": "@jupyter-widgets/controls",
            "_model_module_version": "1.5.0",
            "_model_name": "HBoxModel",
            "_view_count": null,
            "_view_module": "@jupyter-widgets/controls",
            "_view_module_version": "1.5.0",
            "_view_name": "HBoxView",
            "box_style": "",
            "children": [
              "IPY_MODEL_e97199bf8ac84e588f1f30ad8a9246fc",
              "IPY_MODEL_fc501d0b5d5c48f79719f024cf4865ee",
              "IPY_MODEL_fea403d2bf0547ffb0e56ea42f3993f8"
            ],
            "layout": "IPY_MODEL_d6e31d47021947b0bfd3d79a07320584"
          }
        },
        "e97199bf8ac84e588f1f30ad8a9246fc": {
          "model_module": "@jupyter-widgets/controls",
          "model_name": "HTMLModel",
          "model_module_version": "1.5.0",
          "state": {
            "_dom_classes": [],
            "_model_module": "@jupyter-widgets/controls",
            "_model_module_version": "1.5.0",
            "_model_name": "HTMLModel",
            "_view_count": null,
            "_view_module": "@jupyter-widgets/controls",
            "_view_module_version": "1.5.0",
            "_view_name": "HTMLView",
            "description": "",
            "description_tooltip": null,
            "layout": "IPY_MODEL_acf966c2a02c4439b7f31672fbc79e17",
            "placeholder": "​",
            "style": "IPY_MODEL_5c32584338c5408babcbd57120d23943",
            "value": "100%"
          }
        },
        "fc501d0b5d5c48f79719f024cf4865ee": {
          "model_module": "@jupyter-widgets/controls",
          "model_name": "FloatProgressModel",
          "model_module_version": "1.5.0",
          "state": {
            "_dom_classes": [],
            "_model_module": "@jupyter-widgets/controls",
            "_model_module_version": "1.5.0",
            "_model_name": "FloatProgressModel",
            "_view_count": null,
            "_view_module": "@jupyter-widgets/controls",
            "_view_module_version": "1.5.0",
            "_view_name": "ProgressView",
            "bar_style": "success",
            "description": "",
            "description_tooltip": null,
            "layout": "IPY_MODEL_3029cca72b684d419c168edc2cc41332",
            "max": 2,
            "min": 0,
            "orientation": "horizontal",
            "style": "IPY_MODEL_fa45b798bdc44286bc79d174f12ec42e",
            "value": 2
          }
        },
        "fea403d2bf0547ffb0e56ea42f3993f8": {
          "model_module": "@jupyter-widgets/controls",
          "model_name": "HTMLModel",
          "model_module_version": "1.5.0",
          "state": {
            "_dom_classes": [],
            "_model_module": "@jupyter-widgets/controls",
            "_model_module_version": "1.5.0",
            "_model_name": "HTMLModel",
            "_view_count": null,
            "_view_module": "@jupyter-widgets/controls",
            "_view_module_version": "1.5.0",
            "_view_name": "HTMLView",
            "description": "",
            "description_tooltip": null,
            "layout": "IPY_MODEL_6980f686bc9e45578144d32e0aac9436",
            "placeholder": "​",
            "style": "IPY_MODEL_79c9c8cb2b4249919b1c2bf40ff63fe9",
            "value": " 2/2 [00:18&lt;00:00,  7.82s/ba]"
          }
        },
        "d6e31d47021947b0bfd3d79a07320584": {
          "model_module": "@jupyter-widgets/base",
          "model_name": "LayoutModel",
          "model_module_version": "1.2.0",
          "state": {
            "_model_module": "@jupyter-widgets/base",
            "_model_module_version": "1.2.0",
            "_model_name": "LayoutModel",
            "_view_count": null,
            "_view_module": "@jupyter-widgets/base",
            "_view_module_version": "1.2.0",
            "_view_name": "LayoutView",
            "align_content": null,
            "align_items": null,
            "align_self": null,
            "border": null,
            "bottom": null,
            "display": null,
            "flex": null,
            "flex_flow": null,
            "grid_area": null,
            "grid_auto_columns": null,
            "grid_auto_flow": null,
            "grid_auto_rows": null,
            "grid_column": null,
            "grid_gap": null,
            "grid_row": null,
            "grid_template_areas": null,
            "grid_template_columns": null,
            "grid_template_rows": null,
            "height": null,
            "justify_content": null,
            "justify_items": null,
            "left": null,
            "margin": null,
            "max_height": null,
            "max_width": null,
            "min_height": null,
            "min_width": null,
            "object_fit": null,
            "object_position": null,
            "order": null,
            "overflow": null,
            "overflow_x": null,
            "overflow_y": null,
            "padding": null,
            "right": null,
            "top": null,
            "visibility": null,
            "width": null
          }
        },
        "acf966c2a02c4439b7f31672fbc79e17": {
          "model_module": "@jupyter-widgets/base",
          "model_name": "LayoutModel",
          "model_module_version": "1.2.0",
          "state": {
            "_model_module": "@jupyter-widgets/base",
            "_model_module_version": "1.2.0",
            "_model_name": "LayoutModel",
            "_view_count": null,
            "_view_module": "@jupyter-widgets/base",
            "_view_module_version": "1.2.0",
            "_view_name": "LayoutView",
            "align_content": null,
            "align_items": null,
            "align_self": null,
            "border": null,
            "bottom": null,
            "display": null,
            "flex": null,
            "flex_flow": null,
            "grid_area": null,
            "grid_auto_columns": null,
            "grid_auto_flow": null,
            "grid_auto_rows": null,
            "grid_column": null,
            "grid_gap": null,
            "grid_row": null,
            "grid_template_areas": null,
            "grid_template_columns": null,
            "grid_template_rows": null,
            "height": null,
            "justify_content": null,
            "justify_items": null,
            "left": null,
            "margin": null,
            "max_height": null,
            "max_width": null,
            "min_height": null,
            "min_width": null,
            "object_fit": null,
            "object_position": null,
            "order": null,
            "overflow": null,
            "overflow_x": null,
            "overflow_y": null,
            "padding": null,
            "right": null,
            "top": null,
            "visibility": null,
            "width": null
          }
        },
        "5c32584338c5408babcbd57120d23943": {
          "model_module": "@jupyter-widgets/controls",
          "model_name": "DescriptionStyleModel",
          "model_module_version": "1.5.0",
          "state": {
            "_model_module": "@jupyter-widgets/controls",
            "_model_module_version": "1.5.0",
            "_model_name": "DescriptionStyleModel",
            "_view_count": null,
            "_view_module": "@jupyter-widgets/base",
            "_view_module_version": "1.2.0",
            "_view_name": "StyleView",
            "description_width": ""
          }
        },
        "3029cca72b684d419c168edc2cc41332": {
          "model_module": "@jupyter-widgets/base",
          "model_name": "LayoutModel",
          "model_module_version": "1.2.0",
          "state": {
            "_model_module": "@jupyter-widgets/base",
            "_model_module_version": "1.2.0",
            "_model_name": "LayoutModel",
            "_view_count": null,
            "_view_module": "@jupyter-widgets/base",
            "_view_module_version": "1.2.0",
            "_view_name": "LayoutView",
            "align_content": null,
            "align_items": null,
            "align_self": null,
            "border": null,
            "bottom": null,
            "display": null,
            "flex": null,
            "flex_flow": null,
            "grid_area": null,
            "grid_auto_columns": null,
            "grid_auto_flow": null,
            "grid_auto_rows": null,
            "grid_column": null,
            "grid_gap": null,
            "grid_row": null,
            "grid_template_areas": null,
            "grid_template_columns": null,
            "grid_template_rows": null,
            "height": null,
            "justify_content": null,
            "justify_items": null,
            "left": null,
            "margin": null,
            "max_height": null,
            "max_width": null,
            "min_height": null,
            "min_width": null,
            "object_fit": null,
            "object_position": null,
            "order": null,
            "overflow": null,
            "overflow_x": null,
            "overflow_y": null,
            "padding": null,
            "right": null,
            "top": null,
            "visibility": null,
            "width": null
          }
        },
        "fa45b798bdc44286bc79d174f12ec42e": {
          "model_module": "@jupyter-widgets/controls",
          "model_name": "ProgressStyleModel",
          "model_module_version": "1.5.0",
          "state": {
            "_model_module": "@jupyter-widgets/controls",
            "_model_module_version": "1.5.0",
            "_model_name": "ProgressStyleModel",
            "_view_count": null,
            "_view_module": "@jupyter-widgets/base",
            "_view_module_version": "1.2.0",
            "_view_name": "StyleView",
            "bar_color": null,
            "description_width": ""
          }
        },
        "6980f686bc9e45578144d32e0aac9436": {
          "model_module": "@jupyter-widgets/base",
          "model_name": "LayoutModel",
          "model_module_version": "1.2.0",
          "state": {
            "_model_module": "@jupyter-widgets/base",
            "_model_module_version": "1.2.0",
            "_model_name": "LayoutModel",
            "_view_count": null,
            "_view_module": "@jupyter-widgets/base",
            "_view_module_version": "1.2.0",
            "_view_name": "LayoutView",
            "align_content": null,
            "align_items": null,
            "align_self": null,
            "border": null,
            "bottom": null,
            "display": null,
            "flex": null,
            "flex_flow": null,
            "grid_area": null,
            "grid_auto_columns": null,
            "grid_auto_flow": null,
            "grid_auto_rows": null,
            "grid_column": null,
            "grid_gap": null,
            "grid_row": null,
            "grid_template_areas": null,
            "grid_template_columns": null,
            "grid_template_rows": null,
            "height": null,
            "justify_content": null,
            "justify_items": null,
            "left": null,
            "margin": null,
            "max_height": null,
            "max_width": null,
            "min_height": null,
            "min_width": null,
            "object_fit": null,
            "object_position": null,
            "order": null,
            "overflow": null,
            "overflow_x": null,
            "overflow_y": null,
            "padding": null,
            "right": null,
            "top": null,
            "visibility": null,
            "width": null
          }
        },
        "79c9c8cb2b4249919b1c2bf40ff63fe9": {
          "model_module": "@jupyter-widgets/controls",
          "model_name": "DescriptionStyleModel",
          "model_module_version": "1.5.0",
          "state": {
            "_model_module": "@jupyter-widgets/controls",
            "_model_module_version": "1.5.0",
            "_model_name": "DescriptionStyleModel",
            "_view_count": null,
            "_view_module": "@jupyter-widgets/base",
            "_view_module_version": "1.2.0",
            "_view_name": "StyleView",
            "description_width": ""
          }
        },
        "80b3b17199b545fd95ee9d4fc8fe8e0c": {
          "model_module": "@jupyter-widgets/controls",
          "model_name": "HBoxModel",
          "model_module_version": "1.5.0",
          "state": {
            "_dom_classes": [],
            "_model_module": "@jupyter-widgets/controls",
            "_model_module_version": "1.5.0",
            "_model_name": "HBoxModel",
            "_view_count": null,
            "_view_module": "@jupyter-widgets/controls",
            "_view_module_version": "1.5.0",
            "_view_name": "HBoxView",
            "box_style": "",
            "children": [
              "IPY_MODEL_4ab7309d513643f28ff2a81f220671f1",
              "IPY_MODEL_03ea4337306f48f7bbde43e6ef86a30f",
              "IPY_MODEL_61ba1c655e434e61978c8df79ac2c88c"
            ],
            "layout": "IPY_MODEL_338e5cd7be774b799c5bbefac908eb91"
          }
        },
        "4ab7309d513643f28ff2a81f220671f1": {
          "model_module": "@jupyter-widgets/controls",
          "model_name": "HTMLModel",
          "model_module_version": "1.5.0",
          "state": {
            "_dom_classes": [],
            "_model_module": "@jupyter-widgets/controls",
            "_model_module_version": "1.5.0",
            "_model_name": "HTMLModel",
            "_view_count": null,
            "_view_module": "@jupyter-widgets/controls",
            "_view_module_version": "1.5.0",
            "_view_name": "HTMLView",
            "description": "",
            "description_tooltip": null,
            "layout": "IPY_MODEL_2c40862e9fa949f6bd3ea076a8ce5096",
            "placeholder": "​",
            "style": "IPY_MODEL_0f311e228ad64deab4244f7d3ebcea2d",
            "value": "Downloading config.json: 100%"
          }
        },
        "03ea4337306f48f7bbde43e6ef86a30f": {
          "model_module": "@jupyter-widgets/controls",
          "model_name": "FloatProgressModel",
          "model_module_version": "1.5.0",
          "state": {
            "_dom_classes": [],
            "_model_module": "@jupyter-widgets/controls",
            "_model_module_version": "1.5.0",
            "_model_name": "FloatProgressModel",
            "_view_count": null,
            "_view_module": "@jupyter-widgets/controls",
            "_view_module_version": "1.5.0",
            "_view_name": "ProgressView",
            "bar_style": "success",
            "description": "",
            "description_tooltip": null,
            "layout": "IPY_MODEL_da80b7f4b7c64f5f91732f2e4b65ad87",
            "max": 1018,
            "min": 0,
            "orientation": "horizontal",
            "style": "IPY_MODEL_3df72077f2e34f6a945343892a3e9d2d",
            "value": 1018
          }
        },
        "61ba1c655e434e61978c8df79ac2c88c": {
          "model_module": "@jupyter-widgets/controls",
          "model_name": "HTMLModel",
          "model_module_version": "1.5.0",
          "state": {
            "_dom_classes": [],
            "_model_module": "@jupyter-widgets/controls",
            "_model_module_version": "1.5.0",
            "_model_name": "HTMLModel",
            "_view_count": null,
            "_view_module": "@jupyter-widgets/controls",
            "_view_module_version": "1.5.0",
            "_view_name": "HTMLView",
            "description": "",
            "description_tooltip": null,
            "layout": "IPY_MODEL_b67f39ddb1fe47e9b9edad0f31bb383c",
            "placeholder": "​",
            "style": "IPY_MODEL_d03dcbc364b94f0e821a1747235b2ee5",
            "value": " 0.99k/0.99k [00:00&lt;00:00, 38.8kB/s]"
          }
        },
        "338e5cd7be774b799c5bbefac908eb91": {
          "model_module": "@jupyter-widgets/base",
          "model_name": "LayoutModel",
          "model_module_version": "1.2.0",
          "state": {
            "_model_module": "@jupyter-widgets/base",
            "_model_module_version": "1.2.0",
            "_model_name": "LayoutModel",
            "_view_count": null,
            "_view_module": "@jupyter-widgets/base",
            "_view_module_version": "1.2.0",
            "_view_name": "LayoutView",
            "align_content": null,
            "align_items": null,
            "align_self": null,
            "border": null,
            "bottom": null,
            "display": null,
            "flex": null,
            "flex_flow": null,
            "grid_area": null,
            "grid_auto_columns": null,
            "grid_auto_flow": null,
            "grid_auto_rows": null,
            "grid_column": null,
            "grid_gap": null,
            "grid_row": null,
            "grid_template_areas": null,
            "grid_template_columns": null,
            "grid_template_rows": null,
            "height": null,
            "justify_content": null,
            "justify_items": null,
            "left": null,
            "margin": null,
            "max_height": null,
            "max_width": null,
            "min_height": null,
            "min_width": null,
            "object_fit": null,
            "object_position": null,
            "order": null,
            "overflow": null,
            "overflow_x": null,
            "overflow_y": null,
            "padding": null,
            "right": null,
            "top": null,
            "visibility": null,
            "width": null
          }
        },
        "2c40862e9fa949f6bd3ea076a8ce5096": {
          "model_module": "@jupyter-widgets/base",
          "model_name": "LayoutModel",
          "model_module_version": "1.2.0",
          "state": {
            "_model_module": "@jupyter-widgets/base",
            "_model_module_version": "1.2.0",
            "_model_name": "LayoutModel",
            "_view_count": null,
            "_view_module": "@jupyter-widgets/base",
            "_view_module_version": "1.2.0",
            "_view_name": "LayoutView",
            "align_content": null,
            "align_items": null,
            "align_self": null,
            "border": null,
            "bottom": null,
            "display": null,
            "flex": null,
            "flex_flow": null,
            "grid_area": null,
            "grid_auto_columns": null,
            "grid_auto_flow": null,
            "grid_auto_rows": null,
            "grid_column": null,
            "grid_gap": null,
            "grid_row": null,
            "grid_template_areas": null,
            "grid_template_columns": null,
            "grid_template_rows": null,
            "height": null,
            "justify_content": null,
            "justify_items": null,
            "left": null,
            "margin": null,
            "max_height": null,
            "max_width": null,
            "min_height": null,
            "min_width": null,
            "object_fit": null,
            "object_position": null,
            "order": null,
            "overflow": null,
            "overflow_x": null,
            "overflow_y": null,
            "padding": null,
            "right": null,
            "top": null,
            "visibility": null,
            "width": null
          }
        },
        "0f311e228ad64deab4244f7d3ebcea2d": {
          "model_module": "@jupyter-widgets/controls",
          "model_name": "DescriptionStyleModel",
          "model_module_version": "1.5.0",
          "state": {
            "_model_module": "@jupyter-widgets/controls",
            "_model_module_version": "1.5.0",
            "_model_name": "DescriptionStyleModel",
            "_view_count": null,
            "_view_module": "@jupyter-widgets/base",
            "_view_module_version": "1.2.0",
            "_view_name": "StyleView",
            "description_width": ""
          }
        },
        "da80b7f4b7c64f5f91732f2e4b65ad87": {
          "model_module": "@jupyter-widgets/base",
          "model_name": "LayoutModel",
          "model_module_version": "1.2.0",
          "state": {
            "_model_module": "@jupyter-widgets/base",
            "_model_module_version": "1.2.0",
            "_model_name": "LayoutModel",
            "_view_count": null,
            "_view_module": "@jupyter-widgets/base",
            "_view_module_version": "1.2.0",
            "_view_name": "LayoutView",
            "align_content": null,
            "align_items": null,
            "align_self": null,
            "border": null,
            "bottom": null,
            "display": null,
            "flex": null,
            "flex_flow": null,
            "grid_area": null,
            "grid_auto_columns": null,
            "grid_auto_flow": null,
            "grid_auto_rows": null,
            "grid_column": null,
            "grid_gap": null,
            "grid_row": null,
            "grid_template_areas": null,
            "grid_template_columns": null,
            "grid_template_rows": null,
            "height": null,
            "justify_content": null,
            "justify_items": null,
            "left": null,
            "margin": null,
            "max_height": null,
            "max_width": null,
            "min_height": null,
            "min_width": null,
            "object_fit": null,
            "object_position": null,
            "order": null,
            "overflow": null,
            "overflow_x": null,
            "overflow_y": null,
            "padding": null,
            "right": null,
            "top": null,
            "visibility": null,
            "width": null
          }
        },
        "3df72077f2e34f6a945343892a3e9d2d": {
          "model_module": "@jupyter-widgets/controls",
          "model_name": "ProgressStyleModel",
          "model_module_version": "1.5.0",
          "state": {
            "_model_module": "@jupyter-widgets/controls",
            "_model_module_version": "1.5.0",
            "_model_name": "ProgressStyleModel",
            "_view_count": null,
            "_view_module": "@jupyter-widgets/base",
            "_view_module_version": "1.2.0",
            "_view_name": "StyleView",
            "bar_color": null,
            "description_width": ""
          }
        },
        "b67f39ddb1fe47e9b9edad0f31bb383c": {
          "model_module": "@jupyter-widgets/base",
          "model_name": "LayoutModel",
          "model_module_version": "1.2.0",
          "state": {
            "_model_module": "@jupyter-widgets/base",
            "_model_module_version": "1.2.0",
            "_model_name": "LayoutModel",
            "_view_count": null,
            "_view_module": "@jupyter-widgets/base",
            "_view_module_version": "1.2.0",
            "_view_name": "LayoutView",
            "align_content": null,
            "align_items": null,
            "align_self": null,
            "border": null,
            "bottom": null,
            "display": null,
            "flex": null,
            "flex_flow": null,
            "grid_area": null,
            "grid_auto_columns": null,
            "grid_auto_flow": null,
            "grid_auto_rows": null,
            "grid_column": null,
            "grid_gap": null,
            "grid_row": null,
            "grid_template_areas": null,
            "grid_template_columns": null,
            "grid_template_rows": null,
            "height": null,
            "justify_content": null,
            "justify_items": null,
            "left": null,
            "margin": null,
            "max_height": null,
            "max_width": null,
            "min_height": null,
            "min_width": null,
            "object_fit": null,
            "object_position": null,
            "order": null,
            "overflow": null,
            "overflow_x": null,
            "overflow_y": null,
            "padding": null,
            "right": null,
            "top": null,
            "visibility": null,
            "width": null
          }
        },
        "d03dcbc364b94f0e821a1747235b2ee5": {
          "model_module": "@jupyter-widgets/controls",
          "model_name": "DescriptionStyleModel",
          "model_module_version": "1.5.0",
          "state": {
            "_model_module": "@jupyter-widgets/controls",
            "_model_module_version": "1.5.0",
            "_model_name": "DescriptionStyleModel",
            "_view_count": null,
            "_view_module": "@jupyter-widgets/base",
            "_view_module_version": "1.2.0",
            "_view_name": "StyleView",
            "description_width": ""
          }
        },
        "c07fb9be8ea44dbb98d8b3eba28bf0d5": {
          "model_module": "@jupyter-widgets/controls",
          "model_name": "HBoxModel",
          "model_module_version": "1.5.0",
          "state": {
            "_dom_classes": [],
            "_model_module": "@jupyter-widgets/controls",
            "_model_module_version": "1.5.0",
            "_model_name": "HBoxModel",
            "_view_count": null,
            "_view_module": "@jupyter-widgets/controls",
            "_view_module_version": "1.5.0",
            "_view_name": "HBoxView",
            "box_style": "",
            "children": [
              "IPY_MODEL_c627f021e463499cac1c0b8428d11168",
              "IPY_MODEL_3e31c8af5a0f4f08bdca183dcac11ad9",
              "IPY_MODEL_78ae00e48f8b4af3841e3e3a14b8b876"
            ],
            "layout": "IPY_MODEL_f99ca426177748dbbc9943a140374fa9"
          }
        },
        "c627f021e463499cac1c0b8428d11168": {
          "model_module": "@jupyter-widgets/controls",
          "model_name": "HTMLModel",
          "model_module_version": "1.5.0",
          "state": {
            "_dom_classes": [],
            "_model_module": "@jupyter-widgets/controls",
            "_model_module_version": "1.5.0",
            "_model_name": "HTMLModel",
            "_view_count": null,
            "_view_module": "@jupyter-widgets/controls",
            "_view_module_version": "1.5.0",
            "_view_name": "HTMLView",
            "description": "",
            "description_tooltip": null,
            "layout": "IPY_MODEL_6be3ff0b35384101a163e09828aab4da",
            "placeholder": "​",
            "style": "IPY_MODEL_3f711214dcee4784a4789d40bffce36f",
            "value": "Downloading pytorch_model.bin: 100%"
          }
        },
        "3e31c8af5a0f4f08bdca183dcac11ad9": {
          "model_module": "@jupyter-widgets/controls",
          "model_name": "FloatProgressModel",
          "model_module_version": "1.5.0",
          "state": {
            "_dom_classes": [],
            "_model_module": "@jupyter-widgets/controls",
            "_model_module_version": "1.5.0",
            "_model_name": "FloatProgressModel",
            "_view_count": null,
            "_view_module": "@jupyter-widgets/controls",
            "_view_module_version": "1.5.0",
            "_view_name": "ProgressView",
            "bar_style": "success",
            "description": "",
            "description_tooltip": null,
            "layout": "IPY_MODEL_b75ef199ebb841f8b36938147f373b75",
            "max": 594786525,
            "min": 0,
            "orientation": "horizontal",
            "style": "IPY_MODEL_d909cab53ed3445e872afbe46e83fd20",
            "value": 594786525
          }
        },
        "78ae00e48f8b4af3841e3e3a14b8b876": {
          "model_module": "@jupyter-widgets/controls",
          "model_name": "HTMLModel",
          "model_module_version": "1.5.0",
          "state": {
            "_dom_classes": [],
            "_model_module": "@jupyter-widgets/controls",
            "_model_module_version": "1.5.0",
            "_model_name": "HTMLModel",
            "_view_count": null,
            "_view_module": "@jupyter-widgets/controls",
            "_view_module_version": "1.5.0",
            "_view_name": "HTMLView",
            "description": "",
            "description_tooltip": null,
            "layout": "IPY_MODEL_cf420f9c3a8d4985b628e8d3673f8664",
            "placeholder": "​",
            "style": "IPY_MODEL_f43d93728619456e8acb9f67ba63b792",
            "value": " 567M/567M [00:10&lt;00:00, 63.0MB/s]"
          }
        },
        "f99ca426177748dbbc9943a140374fa9": {
          "model_module": "@jupyter-widgets/base",
          "model_name": "LayoutModel",
          "model_module_version": "1.2.0",
          "state": {
            "_model_module": "@jupyter-widgets/base",
            "_model_module_version": "1.2.0",
            "_model_name": "LayoutModel",
            "_view_count": null,
            "_view_module": "@jupyter-widgets/base",
            "_view_module_version": "1.2.0",
            "_view_name": "LayoutView",
            "align_content": null,
            "align_items": null,
            "align_self": null,
            "border": null,
            "bottom": null,
            "display": null,
            "flex": null,
            "flex_flow": null,
            "grid_area": null,
            "grid_auto_columns": null,
            "grid_auto_flow": null,
            "grid_auto_rows": null,
            "grid_column": null,
            "grid_gap": null,
            "grid_row": null,
            "grid_template_areas": null,
            "grid_template_columns": null,
            "grid_template_rows": null,
            "height": null,
            "justify_content": null,
            "justify_items": null,
            "left": null,
            "margin": null,
            "max_height": null,
            "max_width": null,
            "min_height": null,
            "min_width": null,
            "object_fit": null,
            "object_position": null,
            "order": null,
            "overflow": null,
            "overflow_x": null,
            "overflow_y": null,
            "padding": null,
            "right": null,
            "top": null,
            "visibility": null,
            "width": null
          }
        },
        "6be3ff0b35384101a163e09828aab4da": {
          "model_module": "@jupyter-widgets/base",
          "model_name": "LayoutModel",
          "model_module_version": "1.2.0",
          "state": {
            "_model_module": "@jupyter-widgets/base",
            "_model_module_version": "1.2.0",
            "_model_name": "LayoutModel",
            "_view_count": null,
            "_view_module": "@jupyter-widgets/base",
            "_view_module_version": "1.2.0",
            "_view_name": "LayoutView",
            "align_content": null,
            "align_items": null,
            "align_self": null,
            "border": null,
            "bottom": null,
            "display": null,
            "flex": null,
            "flex_flow": null,
            "grid_area": null,
            "grid_auto_columns": null,
            "grid_auto_flow": null,
            "grid_auto_rows": null,
            "grid_column": null,
            "grid_gap": null,
            "grid_row": null,
            "grid_template_areas": null,
            "grid_template_columns": null,
            "grid_template_rows": null,
            "height": null,
            "justify_content": null,
            "justify_items": null,
            "left": null,
            "margin": null,
            "max_height": null,
            "max_width": null,
            "min_height": null,
            "min_width": null,
            "object_fit": null,
            "object_position": null,
            "order": null,
            "overflow": null,
            "overflow_x": null,
            "overflow_y": null,
            "padding": null,
            "right": null,
            "top": null,
            "visibility": null,
            "width": null
          }
        },
        "3f711214dcee4784a4789d40bffce36f": {
          "model_module": "@jupyter-widgets/controls",
          "model_name": "DescriptionStyleModel",
          "model_module_version": "1.5.0",
          "state": {
            "_model_module": "@jupyter-widgets/controls",
            "_model_module_version": "1.5.0",
            "_model_name": "DescriptionStyleModel",
            "_view_count": null,
            "_view_module": "@jupyter-widgets/base",
            "_view_module_version": "1.2.0",
            "_view_name": "StyleView",
            "description_width": ""
          }
        },
        "b75ef199ebb841f8b36938147f373b75": {
          "model_module": "@jupyter-widgets/base",
          "model_name": "LayoutModel",
          "model_module_version": "1.2.0",
          "state": {
            "_model_module": "@jupyter-widgets/base",
            "_model_module_version": "1.2.0",
            "_model_name": "LayoutModel",
            "_view_count": null,
            "_view_module": "@jupyter-widgets/base",
            "_view_module_version": "1.2.0",
            "_view_name": "LayoutView",
            "align_content": null,
            "align_items": null,
            "align_self": null,
            "border": null,
            "bottom": null,
            "display": null,
            "flex": null,
            "flex_flow": null,
            "grid_area": null,
            "grid_auto_columns": null,
            "grid_auto_flow": null,
            "grid_auto_rows": null,
            "grid_column": null,
            "grid_gap": null,
            "grid_row": null,
            "grid_template_areas": null,
            "grid_template_columns": null,
            "grid_template_rows": null,
            "height": null,
            "justify_content": null,
            "justify_items": null,
            "left": null,
            "margin": null,
            "max_height": null,
            "max_width": null,
            "min_height": null,
            "min_width": null,
            "object_fit": null,
            "object_position": null,
            "order": null,
            "overflow": null,
            "overflow_x": null,
            "overflow_y": null,
            "padding": null,
            "right": null,
            "top": null,
            "visibility": null,
            "width": null
          }
        },
        "d909cab53ed3445e872afbe46e83fd20": {
          "model_module": "@jupyter-widgets/controls",
          "model_name": "ProgressStyleModel",
          "model_module_version": "1.5.0",
          "state": {
            "_model_module": "@jupyter-widgets/controls",
            "_model_module_version": "1.5.0",
            "_model_name": "ProgressStyleModel",
            "_view_count": null,
            "_view_module": "@jupyter-widgets/base",
            "_view_module_version": "1.2.0",
            "_view_name": "StyleView",
            "bar_color": null,
            "description_width": ""
          }
        },
        "cf420f9c3a8d4985b628e8d3673f8664": {
          "model_module": "@jupyter-widgets/base",
          "model_name": "LayoutModel",
          "model_module_version": "1.2.0",
          "state": {
            "_model_module": "@jupyter-widgets/base",
            "_model_module_version": "1.2.0",
            "_model_name": "LayoutModel",
            "_view_count": null,
            "_view_module": "@jupyter-widgets/base",
            "_view_module_version": "1.2.0",
            "_view_name": "LayoutView",
            "align_content": null,
            "align_items": null,
            "align_self": null,
            "border": null,
            "bottom": null,
            "display": null,
            "flex": null,
            "flex_flow": null,
            "grid_area": null,
            "grid_auto_columns": null,
            "grid_auto_flow": null,
            "grid_auto_rows": null,
            "grid_column": null,
            "grid_gap": null,
            "grid_row": null,
            "grid_template_areas": null,
            "grid_template_columns": null,
            "grid_template_rows": null,
            "height": null,
            "justify_content": null,
            "justify_items": null,
            "left": null,
            "margin": null,
            "max_height": null,
            "max_width": null,
            "min_height": null,
            "min_width": null,
            "object_fit": null,
            "object_position": null,
            "order": null,
            "overflow": null,
            "overflow_x": null,
            "overflow_y": null,
            "padding": null,
            "right": null,
            "top": null,
            "visibility": null,
            "width": null
          }
        },
        "f43d93728619456e8acb9f67ba63b792": {
          "model_module": "@jupyter-widgets/controls",
          "model_name": "DescriptionStyleModel",
          "model_module_version": "1.5.0",
          "state": {
            "_model_module": "@jupyter-widgets/controls",
            "_model_module_version": "1.5.0",
            "_model_name": "DescriptionStyleModel",
            "_view_count": null,
            "_view_module": "@jupyter-widgets/base",
            "_view_module_version": "1.2.0",
            "_view_name": "StyleView",
            "description_width": ""
          }
        }
      }
    }
  },
  "nbformat": 4,
  "nbformat_minor": 5
}