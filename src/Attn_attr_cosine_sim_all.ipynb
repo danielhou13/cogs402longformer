{
  "cells": [
    {
      "cell_type": "markdown",
      "metadata": {
        "id": "view-in-github",
        "colab_type": "text"
      },
      "source": [
        "<a href=\"https://colab.research.google.com/github/danielhou13/cogs402longformer/blob/main/src/Attn_attr_cosine_sim_all.ipynb\" target=\"_parent\"><img src=\"https://colab.research.google.com/assets/colab-badge.svg\" alt=\"Open In Colab\"/></a>"
      ]
    },
    {
      "cell_type": "markdown",
      "source": [
        "This notebook explores the relation between the model's attributions and attentions for a given example. Historically, we found that attentions are not a feasible method of explanation whereas attributions are, but attributions are also not part of a model's traditional outputs. Therefore it may be interesting to see if we can find anything with attentions by comparing them to a feasible and plausible method of explanation. We also apply masking to various scenarios to examine their effects on similarity. \n",
        "\n",
        "This notebook is very similar to this [notebook](https://colab.research.google.com/drive/14a1tOimrRbLlXd0rbtY-UTcizR5GDd4F) and serves to present a priminary findings of what examples are interesting by iterating through the entire dataset using much few steps when computing [Integrated Gradients](https://arxiv.org/abs/1703.01365). The output of this notebook is a .csv file containing the similarities of different attention layers."
      ],
      "metadata": {
        "id": "mlqrlFd9SzDV"
      }
    },
    {
      "cell_type": "code",
      "source": [
        "from google.colab import drive\n",
        "drive.mount('/content/drive')"
      ],
      "metadata": {
        "id": "4G07aiA37RC9",
        "colab": {
          "base_uri": "https://localhost:8080/"
        },
        "outputId": "48df7e28-33cb-4229-ae09-e257e4bba741"
      },
      "execution_count": null,
      "outputs": [
        {
          "output_type": "stream",
          "name": "stdout",
          "text": [
            "Mounted at /content/drive\n"
          ]
        }
      ]
    },
    {
      "cell_type": "markdown",
      "source": [
        "## Import dependencies"
      ],
      "metadata": {
        "id": "HkZ5bD2_z-0C"
      }
    },
    {
      "cell_type": "code",
      "source": [
        "pip install transformers --quiet"
      ],
      "metadata": {
        "id": "zMjzQIFJ2P_T",
        "colab": {
          "base_uri": "https://localhost:8080/"
        },
        "outputId": "388ce439-0a11-44f7-fccf-32b21b097571"
      },
      "execution_count": null,
      "outputs": [
        {
          "output_type": "stream",
          "name": "stdout",
          "text": [
            "\u001b[K     |████████████████████████████████| 4.4 MB 14.4 MB/s \n",
            "\u001b[K     |████████████████████████████████| 6.6 MB 35.2 MB/s \n",
            "\u001b[K     |████████████████████████████████| 596 kB 84.3 MB/s \n",
            "\u001b[K     |████████████████████████████████| 101 kB 13.3 MB/s \n",
            "\u001b[?25h"
          ]
        }
      ]
    },
    {
      "cell_type": "code",
      "source": [
        "pip install captum --quiet"
      ],
      "metadata": {
        "id": "Uno0qwr12UTd",
        "colab": {
          "base_uri": "https://localhost:8080/"
        },
        "outputId": "3cb00062-3e85-4d32-a061-4f7ff167e7af"
      },
      "execution_count": null,
      "outputs": [
        {
          "output_type": "stream",
          "name": "stdout",
          "text": [
            "\u001b[?25l\r\u001b[K     |▎                               | 10 kB 29.0 MB/s eta 0:00:01\r\u001b[K     |▌                               | 20 kB 36.7 MB/s eta 0:00:01\r\u001b[K     |▊                               | 30 kB 26.8 MB/s eta 0:00:01\r\u001b[K     |█                               | 40 kB 14.9 MB/s eta 0:00:01\r\u001b[K     |█▏                              | 51 kB 12.9 MB/s eta 0:00:01\r\u001b[K     |█▍                              | 61 kB 14.9 MB/s eta 0:00:01\r\u001b[K     |█▋                              | 71 kB 14.9 MB/s eta 0:00:01\r\u001b[K     |█▉                              | 81 kB 12.7 MB/s eta 0:00:01\r\u001b[K     |██                              | 92 kB 14.1 MB/s eta 0:00:01\r\u001b[K     |██▎                             | 102 kB 14.4 MB/s eta 0:00:01\r\u001b[K     |██▌                             | 112 kB 14.4 MB/s eta 0:00:01\r\u001b[K     |██▊                             | 122 kB 14.4 MB/s eta 0:00:01\r\u001b[K     |███                             | 133 kB 14.4 MB/s eta 0:00:01\r\u001b[K     |███▏                            | 143 kB 14.4 MB/s eta 0:00:01\r\u001b[K     |███▌                            | 153 kB 14.4 MB/s eta 0:00:01\r\u001b[K     |███▊                            | 163 kB 14.4 MB/s eta 0:00:01\r\u001b[K     |████                            | 174 kB 14.4 MB/s eta 0:00:01\r\u001b[K     |████▏                           | 184 kB 14.4 MB/s eta 0:00:01\r\u001b[K     |████▍                           | 194 kB 14.4 MB/s eta 0:00:01\r\u001b[K     |████▋                           | 204 kB 14.4 MB/s eta 0:00:01\r\u001b[K     |████▉                           | 215 kB 14.4 MB/s eta 0:00:01\r\u001b[K     |█████                           | 225 kB 14.4 MB/s eta 0:00:01\r\u001b[K     |█████▎                          | 235 kB 14.4 MB/s eta 0:00:01\r\u001b[K     |█████▌                          | 245 kB 14.4 MB/s eta 0:00:01\r\u001b[K     |█████▊                          | 256 kB 14.4 MB/s eta 0:00:01\r\u001b[K     |██████                          | 266 kB 14.4 MB/s eta 0:00:01\r\u001b[K     |██████▏                         | 276 kB 14.4 MB/s eta 0:00:01\r\u001b[K     |██████▍                         | 286 kB 14.4 MB/s eta 0:00:01\r\u001b[K     |██████▋                         | 296 kB 14.4 MB/s eta 0:00:01\r\u001b[K     |███████                         | 307 kB 14.4 MB/s eta 0:00:01\r\u001b[K     |███████▏                        | 317 kB 14.4 MB/s eta 0:00:01\r\u001b[K     |███████▍                        | 327 kB 14.4 MB/s eta 0:00:01\r\u001b[K     |███████▋                        | 337 kB 14.4 MB/s eta 0:00:01\r\u001b[K     |███████▉                        | 348 kB 14.4 MB/s eta 0:00:01\r\u001b[K     |████████                        | 358 kB 14.4 MB/s eta 0:00:01\r\u001b[K     |████████▎                       | 368 kB 14.4 MB/s eta 0:00:01\r\u001b[K     |████████▌                       | 378 kB 14.4 MB/s eta 0:00:01\r\u001b[K     |████████▊                       | 389 kB 14.4 MB/s eta 0:00:01\r\u001b[K     |█████████                       | 399 kB 14.4 MB/s eta 0:00:01\r\u001b[K     |█████████▏                      | 409 kB 14.4 MB/s eta 0:00:01\r\u001b[K     |█████████▍                      | 419 kB 14.4 MB/s eta 0:00:01\r\u001b[K     |█████████▋                      | 430 kB 14.4 MB/s eta 0:00:01\r\u001b[K     |█████████▉                      | 440 kB 14.4 MB/s eta 0:00:01\r\u001b[K     |██████████▏                     | 450 kB 14.4 MB/s eta 0:00:01\r\u001b[K     |██████████▍                     | 460 kB 14.4 MB/s eta 0:00:01\r\u001b[K     |██████████▋                     | 471 kB 14.4 MB/s eta 0:00:01\r\u001b[K     |██████████▉                     | 481 kB 14.4 MB/s eta 0:00:01\r\u001b[K     |███████████                     | 491 kB 14.4 MB/s eta 0:00:01\r\u001b[K     |███████████▎                    | 501 kB 14.4 MB/s eta 0:00:01\r\u001b[K     |███████████▌                    | 512 kB 14.4 MB/s eta 0:00:01\r\u001b[K     |███████████▊                    | 522 kB 14.4 MB/s eta 0:00:01\r\u001b[K     |████████████                    | 532 kB 14.4 MB/s eta 0:00:01\r\u001b[K     |████████████▏                   | 542 kB 14.4 MB/s eta 0:00:01\r\u001b[K     |████████████▍                   | 552 kB 14.4 MB/s eta 0:00:01\r\u001b[K     |████████████▋                   | 563 kB 14.4 MB/s eta 0:00:01\r\u001b[K     |████████████▉                   | 573 kB 14.4 MB/s eta 0:00:01\r\u001b[K     |█████████████                   | 583 kB 14.4 MB/s eta 0:00:01\r\u001b[K     |█████████████▎                  | 593 kB 14.4 MB/s eta 0:00:01\r\u001b[K     |█████████████▋                  | 604 kB 14.4 MB/s eta 0:00:01\r\u001b[K     |█████████████▉                  | 614 kB 14.4 MB/s eta 0:00:01\r\u001b[K     |██████████████                  | 624 kB 14.4 MB/s eta 0:00:01\r\u001b[K     |██████████████▎                 | 634 kB 14.4 MB/s eta 0:00:01\r\u001b[K     |██████████████▌                 | 645 kB 14.4 MB/s eta 0:00:01\r\u001b[K     |██████████████▊                 | 655 kB 14.4 MB/s eta 0:00:01\r\u001b[K     |███████████████                 | 665 kB 14.4 MB/s eta 0:00:01\r\u001b[K     |███████████████▏                | 675 kB 14.4 MB/s eta 0:00:01\r\u001b[K     |███████████████▍                | 686 kB 14.4 MB/s eta 0:00:01\r\u001b[K     |███████████████▋                | 696 kB 14.4 MB/s eta 0:00:01\r\u001b[K     |███████████████▉                | 706 kB 14.4 MB/s eta 0:00:01\r\u001b[K     |████████████████                | 716 kB 14.4 MB/s eta 0:00:01\r\u001b[K     |████████████████▎               | 727 kB 14.4 MB/s eta 0:00:01\r\u001b[K     |████████████████▌               | 737 kB 14.4 MB/s eta 0:00:01\r\u001b[K     |████████████████▊               | 747 kB 14.4 MB/s eta 0:00:01\r\u001b[K     |█████████████████               | 757 kB 14.4 MB/s eta 0:00:01\r\u001b[K     |█████████████████▎              | 768 kB 14.4 MB/s eta 0:00:01\r\u001b[K     |█████████████████▌              | 778 kB 14.4 MB/s eta 0:00:01\r\u001b[K     |█████████████████▊              | 788 kB 14.4 MB/s eta 0:00:01\r\u001b[K     |██████████████████              | 798 kB 14.4 MB/s eta 0:00:01\r\u001b[K     |██████████████████▏             | 808 kB 14.4 MB/s eta 0:00:01\r\u001b[K     |██████████████████▍             | 819 kB 14.4 MB/s eta 0:00:01\r\u001b[K     |██████████████████▋             | 829 kB 14.4 MB/s eta 0:00:01\r\u001b[K     |██████████████████▉             | 839 kB 14.4 MB/s eta 0:00:01\r\u001b[K     |███████████████████             | 849 kB 14.4 MB/s eta 0:00:01\r\u001b[K     |███████████████████▎            | 860 kB 14.4 MB/s eta 0:00:01\r\u001b[K     |███████████████████▌            | 870 kB 14.4 MB/s eta 0:00:01\r\u001b[K     |███████████████████▊            | 880 kB 14.4 MB/s eta 0:00:01\r\u001b[K     |████████████████████            | 890 kB 14.4 MB/s eta 0:00:01\r\u001b[K     |████████████████████▎           | 901 kB 14.4 MB/s eta 0:00:01\r\u001b[K     |████████████████████▌           | 911 kB 14.4 MB/s eta 0:00:01\r\u001b[K     |████████████████████▊           | 921 kB 14.4 MB/s eta 0:00:01\r\u001b[K     |█████████████████████           | 931 kB 14.4 MB/s eta 0:00:01\r\u001b[K     |█████████████████████▏          | 942 kB 14.4 MB/s eta 0:00:01\r\u001b[K     |█████████████████████▍          | 952 kB 14.4 MB/s eta 0:00:01\r\u001b[K     |█████████████████████▋          | 962 kB 14.4 MB/s eta 0:00:01\r\u001b[K     |█████████████████████▉          | 972 kB 14.4 MB/s eta 0:00:01\r\u001b[K     |██████████████████████          | 983 kB 14.4 MB/s eta 0:00:01\r\u001b[K     |██████████████████████▎         | 993 kB 14.4 MB/s eta 0:00:01\r\u001b[K     |██████████████████████▌         | 1.0 MB 14.4 MB/s eta 0:00:01\r\u001b[K     |██████████████████████▊         | 1.0 MB 14.4 MB/s eta 0:00:01\r\u001b[K     |███████████████████████         | 1.0 MB 14.4 MB/s eta 0:00:01\r\u001b[K     |███████████████████████▏        | 1.0 MB 14.4 MB/s eta 0:00:01\r\u001b[K     |███████████████████████▍        | 1.0 MB 14.4 MB/s eta 0:00:01\r\u001b[K     |███████████████████████▊        | 1.1 MB 14.4 MB/s eta 0:00:01\r\u001b[K     |████████████████████████        | 1.1 MB 14.4 MB/s eta 0:00:01\r\u001b[K     |████████████████████████▏       | 1.1 MB 14.4 MB/s eta 0:00:01\r\u001b[K     |████████████████████████▍       | 1.1 MB 14.4 MB/s eta 0:00:01\r\u001b[K     |████████████████████████▋       | 1.1 MB 14.4 MB/s eta 0:00:01\r\u001b[K     |████████████████████████▉       | 1.1 MB 14.4 MB/s eta 0:00:01\r\u001b[K     |█████████████████████████       | 1.1 MB 14.4 MB/s eta 0:00:01\r\u001b[K     |█████████████████████████▎      | 1.1 MB 14.4 MB/s eta 0:00:01\r\u001b[K     |█████████████████████████▌      | 1.1 MB 14.4 MB/s eta 0:00:01\r\u001b[K     |█████████████████████████▊      | 1.1 MB 14.4 MB/s eta 0:00:01\r\u001b[K     |██████████████████████████      | 1.2 MB 14.4 MB/s eta 0:00:01\r\u001b[K     |██████████████████████████▏     | 1.2 MB 14.4 MB/s eta 0:00:01\r\u001b[K     |██████████████████████████▍     | 1.2 MB 14.4 MB/s eta 0:00:01\r\u001b[K     |██████████████████████████▋     | 1.2 MB 14.4 MB/s eta 0:00:01\r\u001b[K     |███████████████████████████     | 1.2 MB 14.4 MB/s eta 0:00:01\r\u001b[K     |███████████████████████████▏    | 1.2 MB 14.4 MB/s eta 0:00:01\r\u001b[K     |███████████████████████████▍    | 1.2 MB 14.4 MB/s eta 0:00:01\r\u001b[K     |███████████████████████████▋    | 1.2 MB 14.4 MB/s eta 0:00:01\r\u001b[K     |███████████████████████████▉    | 1.2 MB 14.4 MB/s eta 0:00:01\r\u001b[K     |████████████████████████████    | 1.2 MB 14.4 MB/s eta 0:00:01\r\u001b[K     |████████████████████████████▎   | 1.3 MB 14.4 MB/s eta 0:00:01\r\u001b[K     |████████████████████████████▌   | 1.3 MB 14.4 MB/s eta 0:00:01\r\u001b[K     |████████████████████████████▊   | 1.3 MB 14.4 MB/s eta 0:00:01\r\u001b[K     |█████████████████████████████   | 1.3 MB 14.4 MB/s eta 0:00:01\r\u001b[K     |█████████████████████████████▏  | 1.3 MB 14.4 MB/s eta 0:00:01\r\u001b[K     |█████████████████████████████▍  | 1.3 MB 14.4 MB/s eta 0:00:01\r\u001b[K     |█████████████████████████████▋  | 1.3 MB 14.4 MB/s eta 0:00:01\r\u001b[K     |█████████████████████████████▉  | 1.3 MB 14.4 MB/s eta 0:00:01\r\u001b[K     |██████████████████████████████  | 1.3 MB 14.4 MB/s eta 0:00:01\r\u001b[K     |██████████████████████████████▍ | 1.4 MB 14.4 MB/s eta 0:00:01\r\u001b[K     |██████████████████████████████▋ | 1.4 MB 14.4 MB/s eta 0:00:01\r\u001b[K     |██████████████████████████████▉ | 1.4 MB 14.4 MB/s eta 0:00:01\r\u001b[K     |███████████████████████████████ | 1.4 MB 14.4 MB/s eta 0:00:01\r\u001b[K     |███████████████████████████████▎| 1.4 MB 14.4 MB/s eta 0:00:01\r\u001b[K     |███████████████████████████████▌| 1.4 MB 14.4 MB/s eta 0:00:01\r\u001b[K     |███████████████████████████████▊| 1.4 MB 14.4 MB/s eta 0:00:01\r\u001b[K     |████████████████████████████████| 1.4 MB 14.4 MB/s eta 0:00:01\r\u001b[K     |████████████████████████████████| 1.4 MB 14.4 MB/s \n",
            "\u001b[?25h"
          ]
        }
      ]
    },
    {
      "cell_type": "code",
      "source": [
        "pip install datasets --quiet"
      ],
      "metadata": {
        "id": "OaOSPMJE3ONc",
        "colab": {
          "base_uri": "https://localhost:8080/"
        },
        "outputId": "243b60a7-aaea-470d-a922-694d0dae9843"
      },
      "execution_count": null,
      "outputs": [
        {
          "output_type": "stream",
          "name": "stdout",
          "text": [
            "\u001b[K     |████████████████████████████████| 362 kB 14.6 MB/s \n",
            "\u001b[K     |████████████████████████████████| 140 kB 76.0 MB/s \n",
            "\u001b[K     |████████████████████████████████| 212 kB 86.0 MB/s \n",
            "\u001b[K     |████████████████████████████████| 1.1 MB 56.1 MB/s \n",
            "\u001b[K     |████████████████████████████████| 127 kB 71.3 MB/s \n",
            "\u001b[K     |████████████████████████████████| 94 kB 3.1 MB/s \n",
            "\u001b[K     |████████████████████████████████| 271 kB 67.6 MB/s \n",
            "\u001b[K     |████████████████████████████████| 144 kB 75.5 MB/s \n",
            "\u001b[31mERROR: pip's dependency resolver does not currently take into account all the packages that are installed. This behaviour is the source of the following dependency conflicts.\n",
            "datascience 0.10.6 requires folium==0.2.1, but you have folium 0.8.3 which is incompatible.\u001b[0m\n",
            "\u001b[?25h"
          ]
        }
      ]
    },
    {
      "cell_type": "code",
      "source": [
        "pip install rbo"
      ],
      "metadata": {
        "colab": {
          "base_uri": "https://localhost:8080/"
        },
        "id": "yTTL5d_d9KDH",
        "outputId": "1f957736-8f8c-4c50-de93-e29e4f0c1423"
      },
      "execution_count": null,
      "outputs": [
        {
          "output_type": "stream",
          "name": "stdout",
          "text": [
            "Looking in indexes: https://pypi.org/simple, https://us-python.pkg.dev/colab-wheels/public/simple/\n",
            "Collecting rbo\n",
            "  Downloading rbo-0.1.2-py3-none-any.whl (7.5 kB)\n",
            "Requirement already satisfied: numpy<2.0,>=1.18 in /usr/local/lib/python3.7/dist-packages (from rbo) (1.21.6)\n",
            "Installing collected packages: rbo\n",
            "Successfully installed rbo-0.1.2\n"
          ]
        }
      ]
    },
    {
      "cell_type": "code",
      "source": [
        "import os\n",
        "os.environ['CUDA_LAUNCH_BLOCKING'] = \"1\""
      ],
      "metadata": {
        "id": "hRSNYTrRIPkr"
      },
      "execution_count": null,
      "outputs": []
    },
    {
      "cell_type": "code",
      "execution_count": null,
      "metadata": {
        "id": "wrRRZJ6-0_Il"
      },
      "outputs": [],
      "source": [
        "from captum.attr import visualization as viz\n",
        "from captum.attr import IntegratedGradients, LayerConductance, LayerIntegratedGradients\n",
        "from captum.attr import configure_interpretable_embedding_layer, remove_interpretable_embedding_layer\n",
        "\n",
        "import torch\n",
        "import pandas as pd"
      ]
    },
    {
      "cell_type": "code",
      "execution_count": null,
      "metadata": {
        "id": "b5V31lsc0_Il"
      },
      "outputs": [],
      "source": [
        "device = torch.device(\"cuda:0\" if torch.cuda.is_available() else \"cpu\")"
      ]
    },
    {
      "cell_type": "markdown",
      "source": [
        "## Import model"
      ],
      "metadata": {
        "id": "USHRv2j70Fb4"
      }
    },
    {
      "cell_type": "code",
      "execution_count": null,
      "metadata": {
        "id": "9nzBfB-v0_Im",
        "colab": {
          "base_uri": "https://localhost:8080/",
          "height": 177,
          "referenced_widgets": [
            "8e5c14224e7d4ee3a472140056e438b6",
            "6e28a2aa1acf4bba844bd74f2fbb7a33",
            "a6eee980f911432c99ad90114f0a78e2",
            "545c28253faa4389bd8f077f86ce79b4",
            "821c0b030469463fa9a25f1b7029d367",
            "f9a3e0346a0d4ba4b67728ddda55326e",
            "86d2a8a9f8224d708bb22b22139dbf40",
            "2d8da9d41ba043ca9818fe4f79ab366f",
            "64dca91cc80448d2983870ebc44d6993",
            "039bc6903443451b97439d6abc3841de",
            "3127045660b845c2b1dba0306fbef95e",
            "895743c79c284efc986704bcf9768a3e",
            "d7b95957117641aea95aa77a81801ca0",
            "9e2dca8b910f4a03a770745a5355830a",
            "233df1daadfa43c7b52524b1ea39b2bb",
            "336028dd46bd47acb264e5e87ce9d80b",
            "ce735f0cc3c34d458b4cbba0e5ec9759",
            "917e23fd058a43ee83364b1b11bec742",
            "814af9f410194fddbb08e287d58b4e79",
            "588aea77d7cb46028d62717186a1f1ef",
            "89cc9fe27a2b4bd9b8b451c757f1a9f9",
            "dd09cd01b7c0414eafa92112ec9776a7",
            "cb3146cdd96847f09b67037437bda994",
            "e25d181d6bc74ae7a76965fa8191537e",
            "a69b0166553c47bc80ce5928dd5ff366",
            "7051a79f5a2d43029f80c9dc9404d4b4",
            "e42b592bafda488880d0eef2e75a1fbd",
            "40ee1231be844a49845089f27025f2d6",
            "b862302b46444405890c9fcae2b676be",
            "2bb710e3b36b4d1a802746fb37ba9276",
            "e5a7f9b424924a998c9475c79096bd23",
            "c249c6801c5a425783bf0bcc64253a65",
            "a9003038143b420db576fe1d694971a0",
            "1b8efac7ea8544d0985c3fd483086cd2",
            "4cea7034d7374cd1b2c223679889e63e",
            "5f7a25dd89c74268b0ff6048a018e8a1",
            "fd30e4c0ec5d4173bb99cd511a53b181",
            "0444d9cf28ff48dcbf5ef6981679d30a",
            "7db2e391a3b644feabbd66ea48ce0ec7",
            "93cb00c841b24acd8f595f32bec4fa40",
            "65299acdb9f348f49b91db215e369fdf",
            "419d0f7f1fdc4b439bb72a52c7d67827",
            "5517814cd9f94a7ca4575b454881665f",
            "b6e96373c5a14bc1b6c5efa299d85a73",
            "6c6b649f96444550b1603407afbeebcb",
            "d219241e26504978a67e75a9c4a08968",
            "34a03149844a4972a892a4fda748e6b6",
            "af4ad86efc8344cebcd9da7dc27d825b",
            "3a02d825d8a54734aef05dafb0546f50",
            "2b65c6d2f53d4e0791b61a27df1354a7",
            "eb87d15267874265b9214f4237136dfa",
            "c02c138bdddf42e3b356f0b4c8eccec7",
            "7e070cefa6ac47878bcfd8329d34bd9c",
            "904427012a7a4f95ad04ab1f63c469eb",
            "1141bfef40a8458a92a5d273e73ff40c"
          ]
        },
        "outputId": "89f440dd-2df1-4e4f-c17d-03aadd9eb389"
      },
      "outputs": [
        {
          "output_type": "display_data",
          "data": {
            "text/plain": [
              "Downloading:   0%|          | 0.00/0.99k [00:00<?, ?B/s]"
            ],
            "application/vnd.jupyter.widget-view+json": {
              "version_major": 2,
              "version_minor": 0,
              "model_id": "8e5c14224e7d4ee3a472140056e438b6"
            }
          },
          "metadata": {}
        },
        {
          "output_type": "display_data",
          "data": {
            "text/plain": [
              "Downloading:   0%|          | 0.00/567M [00:00<?, ?B/s]"
            ],
            "application/vnd.jupyter.widget-view+json": {
              "version_major": 2,
              "version_minor": 0,
              "model_id": "895743c79c284efc986704bcf9768a3e"
            }
          },
          "metadata": {}
        },
        {
          "output_type": "display_data",
          "data": {
            "text/plain": [
              "Downloading:   0%|          | 0.00/878k [00:00<?, ?B/s]"
            ],
            "application/vnd.jupyter.widget-view+json": {
              "version_major": 2,
              "version_minor": 0,
              "model_id": "cb3146cdd96847f09b67037437bda994"
            }
          },
          "metadata": {}
        },
        {
          "output_type": "display_data",
          "data": {
            "text/plain": [
              "Downloading:   0%|          | 0.00/446k [00:00<?, ?B/s]"
            ],
            "application/vnd.jupyter.widget-view+json": {
              "version_major": 2,
              "version_minor": 0,
              "model_id": "1b8efac7ea8544d0985c3fd483086cd2"
            }
          },
          "metadata": {}
        },
        {
          "output_type": "display_data",
          "data": {
            "text/plain": [
              "Downloading:   0%|          | 0.00/694 [00:00<?, ?B/s]"
            ],
            "application/vnd.jupyter.widget-view+json": {
              "version_major": 2,
              "version_minor": 0,
              "model_id": "6c6b649f96444550b1603407afbeebcb"
            }
          },
          "metadata": {}
        }
      ],
      "source": [
        "from transformers import LongformerForSequenceClassification, LongformerTokenizer, LongformerConfig\n",
        "# replace <PATH-TO-SAVED-MODEL> with the real path of the saved model\n",
        "model_path = 'danielhou13/longformer-finetuned_papers_v2'\n",
        "#model_path = 'danielhou13/longformer-finetuned-news-cogs402'\n",
        "\n",
        "# load model\n",
        "model = LongformerForSequenceClassification.from_pretrained(model_path, num_labels = 2)\n",
        "model.to(device)\n",
        "model.eval()\n",
        "model.zero_grad()\n",
        "\n",
        "# load tokenizer\n",
        "tokenizer = LongformerTokenizer.from_pretrained(\"allenai/longformer-base-4096\")"
      ]
    },
    {
      "cell_type": "code",
      "execution_count": null,
      "metadata": {
        "id": "vAAjmDRl0_In"
      },
      "outputs": [],
      "source": [
        "ref_token_id = tokenizer.pad_token_id # A token used for generating token reference\n",
        "sep_token_id = tokenizer.sep_token_id # A token used as a separator between question and text and it is also added to the end of the text.\n",
        "cls_token_id = tokenizer.cls_token_id # A token used for prepending to the concatenated question-text word sequence"
      ]
    },
    {
      "cell_type": "markdown",
      "source": [
        "## Import dataset"
      ],
      "metadata": {
        "id": "BdY6GsO00RG_"
      }
    },
    {
      "cell_type": "markdown",
      "source": [
        "Here we import the papers dataset"
      ],
      "metadata": {
        "id": "e_gGIPpwkmbH"
      }
    },
    {
      "cell_type": "code",
      "execution_count": null,
      "metadata": {
        "id": "w6aQM9nM0_Ip",
        "colab": {
          "base_uri": "https://localhost:8080/",
          "height": 261,
          "referenced_widgets": [
            "7968b51f29664665bc462b01d20b932e",
            "d44579a240274ce4ad2f614e9c45418c",
            "3175343e8f944d2da167c5dafa2eecef",
            "a5d3f08a652f4b12a4b7b6c67560bcaa",
            "fddf7b3df85b42679750693a80298e02",
            "f2683db5bb1049248e7523c897faffd9",
            "b8cebf3d9d924110bf2d4fd45dddd5d0",
            "fdb1624fe70d44e684a486d57b4f320b",
            "5a5e834076284868a5c50879e2725ae6",
            "5714d2648f614719b0d43b95dcc9ef7a",
            "a042e9f6c6874080943563ec6f00f871",
            "f09a81e9429e4e009702d8440424dd0b",
            "ebffe92451d24361b73c03908ec7b0db",
            "b4b29b0aea6144f299e140c4545da895",
            "bdaf8a7e6cf94d7a8619875851d47cd6",
            "46a1c1f8dd0d45078d5a7a424a7b6440",
            "f66ff051bd964cc6be2d9d14316561f9",
            "c141c1a477124ed98172a1d974529889",
            "cfc58f7f209a47c48ee2a966246b1082",
            "8dcde37ebe9d4965a26b75f88b622b9f",
            "e2e61b60852246fa86e649aa37e262b6",
            "121583795b734ea68eeb1566be3359ee",
            "c4f07e019c394916a0d786d86859dad6",
            "1ff34353be52415d94693dbabaec92d6",
            "f991f5fef17c4cc7873e76d70ef0e69b",
            "21f9b3733a574ebd880682c31140c125",
            "4a4bb61dccf046ecbec38023edbc97d4",
            "e76e4f875403454e966af40ea50fb91c",
            "e374e4e7ede148a295207e124a1225a3",
            "04cbf7b358b948c8aaf12c53a26383bd",
            "de57a8c7f1d143ad9634b0cad3f2bca3",
            "3c204746abab424eb0109baa74b27476",
            "8b933bc8130d4843a9b90f2af0c10f7e",
            "a9eb5997a97b46cba4984271546814cb",
            "f945bf5db9e74143a7af9abe689a91dd",
            "0f1f58a8dcf046f7ab330f32f34ce6a0",
            "bf3efd4623354150901942d8b917c508",
            "c30de051e45e44dcb26c561f5bdbe05b",
            "8b49677120984a169874fbbdcccbab36",
            "4d03535bc4554bd08998eed10b5e7832",
            "7cfd5da9841b495cabb188a2562de368",
            "93ed65cc98654469a1330ac51cb40396",
            "d2952941ce334bccabcf236ba94d2ca5",
            "972b0f58678443bca18b1874d3f1d76c",
            "1d9ad10c5a8b4669b5a6cc3eb58a7de5",
            "d88732de47e9479798cd369d4e287d7d",
            "44796bcf9cfc4c2188ce354113033739",
            "10a176d72e1241b9a3c8a316baebc34f",
            "0aaa9faa194f48358a9697f5c4afb5db",
            "d398f7a8c880442b947a5c160927196a",
            "262dd6fb10304be98cfc143f12824a4f",
            "79ec4131c5e24b2985fd4dc099cc35df",
            "49a461dbdf314f8b8f06ae3ae75e3796",
            "c72c24ae971349cebc42f2690edcda6d",
            "df36a2ce916546378ab7f89a429bd236",
            "9d9c063a8275447a9dbe31480203e1de",
            "77ad9629bafe47d0bba3ca4f17b4bcef",
            "d5c6981aecf048818b907d4dd8529c23",
            "28e3d4b9ae6d4c72b15bbbe858031a9e",
            "1b9f87c7b1de4380be8129f2beec80cb",
            "9611d57d8cdf40f096d25bd67277fe85",
            "f30240f9bb8f4411a28078cf3b0d65ae",
            "ced4b3fff324410a9de0123778552e7f",
            "9da2f4ffb1ef4675aa64d2d5cc469d8d",
            "8ceb12fbf221425794753f1139e28191",
            "d5c806cc327b43d69ce9e84c0e021a4b",
            "e0b12d271d684496ac64ca9f4c052ef9",
            "bb27fb81f02c4e1c8a4b4d0645a5baa8",
            "d75d5635069b4e7881c7139b8b03fb0b",
            "d91ebba819ad4e1693770000c88d9750",
            "dc089ce269b444478630d6aebe740b08",
            "13b2608e97424325954709e335e8cb7a",
            "290afd19e6f145e9965ac3ad3bc6a53c",
            "96996473835e4a819950a2e9df22740f",
            "1acbf20edf174484807a9a85c9bb2d1b",
            "61afb2287fa14a9f94fd87e49d44580e",
            "e22e9140ad5b438183f92298df7fc003",
            "d600939a4ee04fbb9c393b731d499dc3",
            "acf9f2d1509241d6bce6067471f72225",
            "43f4f079dde44d41bc4f6a2009d9b034",
            "36f1ffd81c1a494a87d5e53f0a0e7f4b",
            "32a818a6f58a427486ea71275bdebe4b",
            "1d4c4ad9c0a644369314d6290743778c",
            "f13c80e4d744428ab7581476b3849892",
            "f9e5c83dbf224a07933adae17105c44b",
            "8b8b32258d4944e8af1566dc87646451",
            "53d4a19eaf114a35ad40370bb2f49e03",
            "b33f9da453d5454fbba45c8f1c191d2e"
          ]
        },
        "outputId": "0bd5b1fd-1cc6-44cb-acc2-8ee66da52409"
      },
      "outputs": [
        {
          "output_type": "display_data",
          "data": {
            "text/plain": [
              "Downloading:   0%|          | 0.00/739 [00:00<?, ?B/s]"
            ],
            "application/vnd.jupyter.widget-view+json": {
              "version_major": 2,
              "version_minor": 0,
              "model_id": "7968b51f29664665bc462b01d20b932e"
            }
          },
          "metadata": {}
        },
        {
          "output_type": "stream",
          "name": "stderr",
          "text": [
            "Using custom data configuration danielhou13--cogs402dataset-144b958ac1a53abb\n"
          ]
        },
        {
          "output_type": "stream",
          "name": "stdout",
          "text": [
            "Downloading and preparing dataset None/None (download: 157.87 MiB, generated: 311.56 MiB, post-processed: Unknown size, total: 469.43 MiB) to /root/.cache/huggingface/datasets/danielhou13___parquet/danielhou13--cogs402dataset-144b958ac1a53abb/0.0.0/7328ef7ee03eaf3f86ae40594d46a1cec86161704e02dd19f232d81eee72ade8...\n"
          ]
        },
        {
          "output_type": "display_data",
          "data": {
            "text/plain": [
              "Downloading data files:   0%|          | 0/2 [00:00<?, ?it/s]"
            ],
            "application/vnd.jupyter.widget-view+json": {
              "version_major": 2,
              "version_minor": 0,
              "model_id": "f09a81e9429e4e009702d8440424dd0b"
            }
          },
          "metadata": {}
        },
        {
          "output_type": "display_data",
          "data": {
            "text/plain": [
              "Downloading data:   0%|          | 0.00/132M [00:00<?, ?B/s]"
            ],
            "application/vnd.jupyter.widget-view+json": {
              "version_major": 2,
              "version_minor": 0,
              "model_id": "c4f07e019c394916a0d786d86859dad6"
            }
          },
          "metadata": {}
        },
        {
          "output_type": "display_data",
          "data": {
            "text/plain": [
              "Downloading data:   0%|          | 0.00/33.6M [00:00<?, ?B/s]"
            ],
            "application/vnd.jupyter.widget-view+json": {
              "version_major": 2,
              "version_minor": 0,
              "model_id": "a9eb5997a97b46cba4984271546814cb"
            }
          },
          "metadata": {}
        },
        {
          "output_type": "display_data",
          "data": {
            "text/plain": [
              "Extracting data files:   0%|          | 0/2 [00:00<?, ?it/s]"
            ],
            "application/vnd.jupyter.widget-view+json": {
              "version_major": 2,
              "version_minor": 0,
              "model_id": "1d9ad10c5a8b4669b5a6cc3eb58a7de5"
            }
          },
          "metadata": {}
        },
        {
          "output_type": "display_data",
          "data": {
            "text/plain": [
              "0 tables [00:00, ? tables/s]"
            ],
            "application/vnd.jupyter.widget-view+json": {
              "version_major": 2,
              "version_minor": 0,
              "model_id": "9d9c063a8275447a9dbe31480203e1de"
            }
          },
          "metadata": {}
        },
        {
          "output_type": "display_data",
          "data": {
            "text/plain": [
              "0 tables [00:00, ? tables/s]"
            ],
            "application/vnd.jupyter.widget-view+json": {
              "version_major": 2,
              "version_minor": 0,
              "model_id": "e0b12d271d684496ac64ca9f4c052ef9"
            }
          },
          "metadata": {}
        },
        {
          "output_type": "stream",
          "name": "stdout",
          "text": [
            "Dataset parquet downloaded and prepared to /root/.cache/huggingface/datasets/danielhou13___parquet/danielhou13--cogs402dataset-144b958ac1a53abb/0.0.0/7328ef7ee03eaf3f86ae40594d46a1cec86161704e02dd19f232d81eee72ade8. Subsequent calls will reuse this data.\n"
          ]
        },
        {
          "output_type": "display_data",
          "data": {
            "text/plain": [
              "  0%|          | 0/2 [00:00<?, ?it/s]"
            ],
            "application/vnd.jupyter.widget-view+json": {
              "version_major": 2,
              "version_minor": 0,
              "model_id": "d600939a4ee04fbb9c393b731d499dc3"
            }
          },
          "metadata": {}
        }
      ],
      "source": [
        "from datasets import load_dataset\n",
        "import numpy as np\n",
        "cogs402_ds = load_dataset(\"danielhou13/cogs402dataset\")[\"test\"]"
      ]
    },
    {
      "cell_type": "markdown",
      "source": [
        "Here we import the news dataset"
      ],
      "metadata": {
        "id": "bHUUw096r-EL"
      }
    },
    {
      "cell_type": "code",
      "source": [
        "# cogs402_ds2 = load_dataset('hyperpartisan_news_detection', 'bypublisher')['validation']\n",
        "# val_size = 5000\n",
        "# val_indices = np.random.randint(0, len(cogs402_ds2), val_size)\n",
        "# val_ds = cogs402_ds2.select(val_indices)\n",
        "# labels2 = map(int, val_ds['hyperpartisan'])\n",
        "# labels2 = list(labels2)\n",
        "# val_ds = val_ds.add_column(\"labels\", labels2)"
      ],
      "metadata": {
        "id": "58zzpZYRWRDj"
      },
      "execution_count": null,
      "outputs": []
    },
    {
      "cell_type": "markdown",
      "source": [
        "## Get Attributions"
      ],
      "metadata": {
        "id": "sqGG8ke1Zd1N"
      }
    },
    {
      "cell_type": "markdown",
      "source": [
        "We need to create a custom forward function for use in our [Integrated Gradients](https://arxiv.org/abs/1703.01365) functions. Specifially the output we want from the forward pass of the model is the softmaxed logits, which indicate the probabilities of predicting each class for the given example."
      ],
      "metadata": {
        "id": "1QIudhnqA7pQ"
      }
    },
    {
      "cell_type": "code",
      "execution_count": null,
      "metadata": {
        "id": "y5-heo2y0_Im"
      },
      "outputs": [],
      "source": [
        "def predict(inputs, position_ids=None, attention_mask=None):\n",
        "    output = model(inputs,\n",
        "                   position_ids=position_ids,\n",
        "                   attention_mask=attention_mask)\n",
        "    return output.logits"
      ]
    },
    {
      "cell_type": "code",
      "execution_count": null,
      "metadata": {
        "id": "axwpHq-y0_Io"
      },
      "outputs": [],
      "source": [
        "#set 1 if we are dealing with a positive class, and 0 if dealing with negative class\n",
        "def custom_forward(inputs, position_ids=None, attention_mask=None):\n",
        "    preds = predict(inputs,\n",
        "                   position_ids=position_ids,\n",
        "                   attention_mask=attention_mask\n",
        "                   )\n",
        "    return torch.softmax(preds, dim = 1)"
      ]
    },
    {
      "cell_type": "markdown",
      "source": [
        "To get the attributions, we perform Integrated Gradients using the model's embeddings and pass in our custom forward function."
      ],
      "metadata": {
        "id": "bQaYaSDf0buh"
      }
    },
    {
      "cell_type": "code",
      "execution_count": null,
      "metadata": {
        "id": "4uDuDrip0_Ip"
      },
      "outputs": [],
      "source": [
        "lig = LayerIntegratedGradients(custom_forward, model.longformer.embeddings)"
      ]
    },
    {
      "cell_type": "markdown",
      "source": [
        "Create functions that give us the input ids and the position ids for the text we want to examine. Furthermore, it also returns the baselines we want for integrated gradients. In this case, every token in our baseline, is a padding token."
      ],
      "metadata": {
        "id": "bqbvfvXv0VTp"
      }
    },
    {
      "cell_type": "code",
      "execution_count": null,
      "metadata": {
        "id": "UgBSBpz-0_In"
      },
      "outputs": [],
      "source": [
        "max_length = 2046\n",
        "def construct_input_ref_pair(text, ref_token_id, sep_token_id, cls_token_id):\n",
        "\n",
        "    text_ids = tokenizer.encode(text, truncation = True, add_special_tokens=False, max_length = max_length)\n",
        "    # construct input token ids\n",
        "    input_ids = [cls_token_id] + text_ids + [sep_token_id]\n",
        "    # construct reference token ids \n",
        "    ref_input_ids = [cls_token_id] + [ref_token_id] * len(text_ids) + [sep_token_id]\n",
        "\n",
        "    return torch.tensor([input_ids], device=device), torch.tensor([ref_input_ids], device=device), len(text_ids)\n",
        "\n",
        "def construct_input_ref_pos_id_pair(input_ids):\n",
        "    seq_length = input_ids.size(1)\n",
        "\n",
        "    #taken from the longformer implementation\n",
        "    mask = input_ids.ne(ref_token_id).int()\n",
        "    incremental_indices = torch.cumsum(mask, dim=1).type_as(mask) * mask\n",
        "    position_ids = incremental_indices.long().squeeze() + ref_token_id\n",
        "\n",
        "    # we could potentially also use random permutation with `torch.randperm(seq_length, device=device)`\n",
        "    ref_position_ids = torch.zeros(seq_length, dtype=torch.long, device=device)\n",
        "\n",
        "    position_ids = position_ids.unsqueeze(0).expand_as(input_ids)\n",
        "    ref_position_ids = ref_position_ids.unsqueeze(0).expand_as(input_ids)\n",
        "    return position_ids, ref_position_ids\n",
        "    \n",
        "def construct_attention_mask(input_ids):\n",
        "    return torch.ones_like(input_ids)"
      ]
    },
    {
      "cell_type": "markdown",
      "source": [
        "The attributions returned has very high dimensionality and we just want a single number for every token in our example, so we sum over the last dimension and squeeze the result to get an array of shape (seq_len). You may notice that we are not normalizing the attributions here. It's okay because we will normalize it later."
      ],
      "metadata": {
        "id": "PRXe-mIcBGFo"
      }
    },
    {
      "cell_type": "code",
      "execution_count": null,
      "metadata": {
        "id": "lIeE9P7b0_Ir"
      },
      "outputs": [],
      "source": [
        "def summarize_attributions(attributions):\n",
        "    attributions = attributions.sum(dim=-1).squeeze(0)\n",
        "    return attributions"
      ]
    },
    {
      "cell_type": "markdown",
      "source": [
        "For use in later functions, we want to store the attributions we find in a dictionary where the key is the example number."
      ],
      "metadata": {
        "id": "8-wA6Nd4BIeb"
      }
    },
    {
      "cell_type": "code",
      "source": [
        "all_attributions = {}"
      ],
      "metadata": {
        "id": "wf1SNgF73l1K"
      },
      "execution_count": null,
      "outputs": []
    },
    {
      "cell_type": "markdown",
      "source": [
        "On the other hand, if you have a dictionary of attributions already saved, you can import it as follows. Replace the path with a path to your own dictionary."
      ],
      "metadata": {
        "id": "aall1F3lCpaf"
      }
    },
    {
      "cell_type": "code",
      "source": [
        "all_attributions = torch.load('/content/drive/MyDrive/cogs402longformer/results/papers/papers_attributions/example_attrib_dict_all.pt')"
      ],
      "metadata": {
        "id": "g4nc7qSvUedJ"
      },
      "execution_count": null,
      "outputs": []
    },
    {
      "cell_type": "markdown",
      "source": [
        "In this block of code, we iterate over the entire dataset, obtain the input_ids, position_ids, attention_mask and the baseline for integrated gradients, perform integrated gradients, and store the result in the dictionary. If you have already loaded your attributions, you can skip this step. Increase the number of steps if you desire, but it may take a very long time to run. At the end of an iteration, we also save the dictionary.\n",
        "\n",
        "Note: the attributions will be with respect to the positive class, meaning positive attributions have more influence in the model predicting positive and negative attributions will be more influential in predicting negative."
      ],
      "metadata": {
        "id": "Ap4wQhI7CqJ2"
      }
    },
    {
      "cell_type": "code",
      "source": [
        "from tqdm import tqdm\n",
        "\n",
        "# for i in tqdm(range(len(cogs402_ds))):\n",
        "#   if str(i) not in all_attributions:\n",
        "#     #get input ids, position ids and attention mask for integrated gradients\n",
        "#     text = cogs402_ds['text'][i]\n",
        "#     label = cogs402_ds['labels'][i]\n",
        "\n",
        "#     input_ids, ref_input_ids, sep_id = construct_input_ref_pair(text, ref_token_id, sep_token_id, cls_token_id)\n",
        "#     position_ids, ref_position_ids = construct_input_ref_pos_id_pair(input_ids)\n",
        "#     attention_mask = construct_attention_mask(input_ids)\n",
        "\n",
        "#     attributions = lig.attribute(inputs=input_ids,\n",
        "#                                       baselines=ref_input_ids,\n",
        "#                                       additional_forward_args=(position_ids, attention_mask),\n",
        "#                                       target=1,\n",
        "#                                       n_steps=50,\n",
        "#                                       internal_batch_size = 2)\n",
        "\n",
        "#     attributions_sum = summarize_attributions(attributions)\n",
        "\n",
        "#     all_attributions[str(i)] = attributions_sum.detach().cpu().numpy()\n",
        "\n",
        "#     torch.save(all_attributions, '/content/drive/MyDrive/cogs402longformer/results/papers/papers_attributions/example_attrib_dict_all.pt')"
      ],
      "metadata": {
        "id": "ItEOhzhNTdxF"
      },
      "execution_count": null,
      "outputs": []
    },
    {
      "cell_type": "markdown",
      "source": [
        "## Get Attentions"
      ],
      "metadata": {
        "id": "fxugVBIAZksG"
      }
    },
    {
      "cell_type": "markdown",
      "source": [
        "We then get the attentions and global attentions so we can compare with the attributions."
      ],
      "metadata": {
        "id": "BGDWlUa3GvNS"
      }
    },
    {
      "cell_type": "markdown",
      "source": [
        "A unique property of the longformer model is that the matrix output for the attention is not a seq_len x seq_len output. Each token can only attend to the preceeding w/2 tokens and the succeeding w/2 tokens, dictated by whatever you choose the model's attention window w to be. Another name for this is called the sliding window attention. Therefore, we need to convert sliding attention matrix to correct seq_len x seq_len matrix to remain consistent with other types of Transformer Neural Networks.\n",
        "\n",
        "To do so, we run the following 3 functions. Our attentions will change from a output attention tensor of shape (layer, head, seq_len, x + attention_window + 1) and a global attention tensor of shape (layer, head, seq_len, x) to a single tensor of shape (layer, batch, head, seq_len, seq_len). More information about the functions can be found [here](https://colab.research.google.com/drive/1Kxx26NtIlUzioRCHpsR8IbSz_DpRFxEZ#scrollTo=t_XCoyTsQKAU)."
      ],
      "metadata": {
        "id": "dISC7-FaG2Lh"
      }
    },
    {
      "cell_type": "code",
      "source": [
        "def create_head_matrix(output_attentions, global_attentions):\n",
        "    new_attention_matrix = torch.zeros((output_attentions.shape[0], \n",
        "                                      output_attentions.shape[0]))\n",
        "    for i in range(output_attentions.shape[0]):\n",
        "        test_non_zeroes = torch.nonzero(output_attentions[i]).squeeze()\n",
        "        test2 = output_attentions[i][test_non_zeroes[1:]]\n",
        "        new_attention_matrix_indices = test_non_zeroes[1:]-257 + i\n",
        "        new_attention_matrix[i][new_attention_matrix_indices] = test2\n",
        "        new_attention_matrix[i][0] = output_attentions[i][0]\n",
        "        new_attention_matrix[0] = global_attentions.squeeze()[:output_attentions.shape[0]]\n",
        "    return new_attention_matrix\n",
        "\n",
        "\n",
        "def attentions_all_heads(output_attentions, global_attentions):\n",
        "    new_matrix = []\n",
        "    for i in range(output_attentions.shape[0]):\n",
        "        matrix = create_head_matrix(output_attentions[i], global_attentions[i])\n",
        "        new_matrix.append(matrix)\n",
        "    return torch.stack(new_matrix)\n",
        "\n",
        "def all_layers(output_attentions, global_attentions):\n",
        "    new_matrix = []\n",
        "    for i in range(output_attentions.shape[0]):\n",
        "        matrix = attentions_all_heads(output_attentions[i], global_attentions[i])\n",
        "        new_matrix.append(matrix)\n",
        "    return torch.stack(new_matrix)"
      ],
      "metadata": {
        "id": "AFyZpNST1JRr"
      },
      "execution_count": null,
      "outputs": []
    },
    {
      "cell_type": "markdown",
      "source": [
        "Some heads may be more important than others so we scale each attention matrix by their respective head and layer. The notebook used to get head importance is [here](https://colab.research.google.com/drive/1O4QCi8ewBp7asegKqySRflTQZ9HeH8mQ?usp=sharing). However, its possible that you might not want to scale the attentions, in which case you can ignore this section."
      ],
      "metadata": {
        "id": "WJynBkquG9cv"
      }
    },
    {
      "cell_type": "code",
      "source": [
        "def scale_by_importance(attention_matrix, head_importance):\n",
        "  new_matrix = np.zeros_like(attention_matrix)\n",
        "  for i in range(attention_matrix.shape[0]):\n",
        "    head_importance_layer = head_importance[i]\n",
        "    new_matrix[i] = attention_matrix[i] * np.expand_dims(head_importance_layer, axis=(1))\n",
        "  return new_matrix"
      ],
      "metadata": {
        "id": "nDuqZlIZ1NSr"
      },
      "execution_count": null,
      "outputs": []
    },
    {
      "cell_type": "code",
      "source": [
        "head_importance = torch.load(\"/content/drive/MyDrive/cogs402longformer/t3-visapplication/resources/papers/pretrained/head_importance.pt\")\n",
        "# head_importance = torch.load(\"/content/drive/MyDrive/cogs402longformer/t3-visapplication/resources/news/head_importance.pt\")"
      ],
      "metadata": {
        "id": "Bt_2TsKb1ML5"
      },
      "execution_count": null,
      "outputs": []
    },
    {
      "cell_type": "markdown",
      "source": [
        "The following block of code creates a new dictionary of attention matrices. Each key corresponds to their respective example in the dataset (range 0 - dataset length) and stores a layer x head x seq_len matrix of attentions for each key"
      ],
      "metadata": {
        "id": "fCZJ4gIKO8ys"
      }
    },
    {
      "cell_type": "code",
      "source": [
        "all_attentions = {}"
      ],
      "metadata": {
        "id": "F8QC9aqjtiZ6"
      },
      "execution_count": null,
      "outputs": []
    },
    {
      "cell_type": "markdown",
      "source": [
        "On the other hand, if you have a dictionary of attentions already saved, you can import it as follows. Replace the path with a path to your own dictionary."
      ],
      "metadata": {
        "id": "m-20QqqlPNs2"
      }
    },
    {
      "cell_type": "code",
      "source": [
        "all_attentions = torch.load('/content/drive/MyDrive/cogs402longformer/results/papers/full_attention_matrices/papers_atten_summed_dict.pt')"
      ],
      "metadata": {
        "id": "JeKFfGfueDPZ"
      },
      "execution_count": null,
      "outputs": []
    },
    {
      "cell_type": "markdown",
      "source": [
        "In this block of code, we iterate over the entire dataset, obtain the input_ids, position_ids, attention_mask, pass the inputs into the model, obtain the output, convert the attention matrix and store the result in the dictionary. If you have already loaded your attentions, you can skip this step. Increase the number of steps if you desire, but it may take a very long time to run. At the end of every 10 iterations, we also save the dictionary. We do every 10 as saving dictionaries of attentions takes a bit of time."
      ],
      "metadata": {
        "id": "F4_6027PElWG"
      }
    },
    {
      "cell_type": "code",
      "source": [
        "from tqdm import tqdm\n",
        "\n",
        "# for i in tqdm(range(len(cogs402_ds))):\n",
        "#   if str(i) not in all_attentions:\n",
        "#     #get input ids, position ids and attention mask for integrated gradients\n",
        "#     text = cogs402_ds['text'][i]\n",
        "#     label = cogs402_ds['labels'][i]\n",
        "\n",
        "#     input_ids, ref_input_ids, sep_id = construct_input_ref_pair(text, ref_token_id, sep_token_id, cls_token_id)\n",
        "#     position_ids, ref_position_ids = construct_input_ref_pos_id_pair(input_ids)\n",
        "#     attention_mask = construct_attention_mask(input_ids)\n",
        "\n",
        "#     output = model(input_ids.cuda(), attention_mask=attention_mask.cuda(), labels=torch.tensor(label).cuda(), output_attentions = True)\n",
        "\n",
        "#     batch_attn = output[-2]\n",
        "\n",
        "#     # We are working with one item at a time, so we squeeze the tensor to remove the batch axis in both tensors\n",
        "#     # shape: (layer, head, seq_len, x+attention_window+1)\n",
        "#     output_attentions = torch.stack(batch_attn).cpu().squeeze()\n",
        "#     global_attention = output[-1]\n",
        "\n",
        "#     # shape: (layer, head, seq_len, x)\n",
        "#     output_global_attentions = torch.stack(global_attention).cpu().squeeze()\n",
        "\n",
        "#     converted_mat = all_layers(output_attentions, output_global_attentions).detach().cpu().numpy()\n",
        "    \n",
        "#     attention_matrix_summed = converted_mat.sum(axis=2)\n",
        "#     all_attentions[str(i)] = attention_matrix_summed\n",
        "\n",
        "#     if i%10 == 9:\n",
        "#       torch.save(all_attentions, '/content/drive/MyDrive/cogs402longformer/results/papers/full_attention_matrices/papers_atten_summed_dict.pt')"
      ],
      "metadata": {
        "id": "mx69KUz20KmC",
        "colab": {
          "base_uri": "https://localhost:8080/"
        },
        "outputId": "cefdbb00-28ab-4e9e-bdeb-c2babcb67150"
      },
      "execution_count": null,
      "outputs": [
        {
          "output_type": "stream",
          "name": "stderr",
          "text": [
            "100%|██████████| 1070/1070 [5:41:10<00:00, 19.13s/it]\n"
          ]
        }
      ]
    },
    {
      "cell_type": "markdown",
      "source": [
        "### Scaling the Attention"
      ],
      "metadata": {
        "id": "7PEQxg77LLvw"
      }
    },
    {
      "cell_type": "markdown",
      "source": [
        "We will then scale the summed attention by head importance. If you do not wish to scale the attentions, there is a section later in the notebook that does not perform scaling. However, we will do so here."
      ],
      "metadata": {
        "id": "UZAi6NYZK-n0"
      }
    },
    {
      "cell_type": "markdown",
      "source": [
        "The following are two dictionaries of attention weights for each token (how much each token is attended to), weighted by head importance, for layer 12 and over all layers. The number of keys in the dictionary is 1070 (number of items in the validation set) and each key contains an array of shape (seq_len)."
      ],
      "metadata": {
        "id": "DyGjnOpaM8dZ"
      }
    },
    {
      "cell_type": "code",
      "source": [
        "all_attentions_final = torch.load('/content/drive/MyDrive/cogs402longformer/results/papers/full_attention_matrices/example_atten_dict_12.pt')\n",
        "all_attentions_all = torch.load('/content/drive/MyDrive/cogs402longformer/results/papers/full_attention_matrices/example_atten_dict_all.pt')"
      ],
      "metadata": {
        "id": "eJuGcLQpS-Ky"
      },
      "execution_count": null,
      "outputs": []
    },
    {
      "cell_type": "markdown",
      "source": [
        "Another example of importing dictionaries of attentions. These two dictionaries store the summed attentions for the layers 1-6 and 7-12 respectively. "
      ],
      "metadata": {
        "id": "TUGT5wEXrs4c"
      }
    },
    {
      "cell_type": "code",
      "source": [
        "all_attentions_lower = torch.load('/content/drive/MyDrive/cogs402longformer/results/papers/full_attention_matrices/example_atten_dict_lower.pt')\n",
        "all_attentions_upper = torch.load('/content/drive/MyDrive/cogs402longformer/results/papers/full_attention_matrices/example_atten_dict_upper.pt')"
      ],
      "metadata": {
        "id": "tckSMU4yqBhU"
      },
      "execution_count": null,
      "outputs": []
    },
    {
      "cell_type": "markdown",
      "source": [
        "This block of code iterates through the entire dataset, scales the attention matrix for each example by head importance (optional), and sums up the attention. For this notebook, we sum the attention over 6 layers and the last 6 layers separately.\n",
        "\n",
        "In this case, when taking a specific layer, you pick the layer you want (replace 11 with whatever layer you wish) and then we sum over all of the heads.\n",
        "\n",
        "When taking a range of layers, you either want to specify a range (e.g. attention_matrix_summed[0:6]) or leave as it is to sum over all layers. Then we sum up the layers and the heads.\n",
        "\n",
        "Lastly, we save the dictionary of summed attentions for easy access on repeat runs or other notebooks.\n",
        "\n",
        "The two dictionaries of attentions are currently labeled _lower and _upper for the use case, but should be changed to fit the task at hand."
      ],
      "metadata": {
        "id": "YDqk5Y1rr7eU"
      }
    },
    {
      "cell_type": "code",
      "source": [
        "# all_attentions_lower = {}\n",
        "# all_attentions_upper = {}\n",
        "# for i in tqdm(range(len(cogs402_ds))):\n",
        "#   if str(i) not in all_attentions_lower and str(i) not in all_attentions_upper:\n",
        "\n",
        "#     att_mat = all_attentions[str(i)]\n",
        "\n",
        "#     att_mat = scale_by_importance(att_mat, head_importance)\n",
        "\n",
        "#     # how to pick a range of layers\n",
        "#     att_mat_low = att_mat[0:6]\n",
        "#     att_mat_up = att_mat[6:]\n",
        "\n",
        "#     # Sum the attentions for the last layer and over all layers\n",
        "#     attention_lower_layer = att_mat_low.sum(axis=1)\n",
        "#     attention_lower_layer = attention_lower_layer.sum(axis=0)\n",
        "#     all_attentions_lower[str(i)] = attention_lower_layer\n",
        "\n",
        "#     attention_upper_layer = att_mat_up.sum(axis=1)\n",
        "#     attention_upper_layer = attention_upper_layer.sum(axis=0)\n",
        "#     all_attentions_upper[str(i)] = attention_upper_layer\n",
        "\n",
        "#     #template for single layer\n",
        "#     # attention_single_layer = att_mat[layer].sum(axis=0)\n",
        "#     # all_attentions_layer[str(i)] = attention_single_layer\n",
        "    \n",
        "#     torch.save(all_attentions_lower, '/content/drive/MyDrive/cogs402longformer/results/papers/full_attention_matrices/example_atten_dict_lower.pt')\n",
        "#     torch.save(all_attentions_upper, '/content/drive/MyDrive/cogs402longformer/results/papers/full_attention_matrices/example_atten_dict_upper.pt')"
      ],
      "metadata": {
        "id": "ZWeFQNW8MmJL",
        "colab": {
          "base_uri": "https://localhost:8080/"
        },
        "outputId": "4cba9605-3ae1-4465-f921-6b3f7e0acbe5"
      },
      "execution_count": null,
      "outputs": [
        {
          "output_type": "stream",
          "name": "stderr",
          "text": [
            "100%|██████████| 1070/1070 [00:01<00:00, 918.35it/s]\n"
          ]
        }
      ]
    },
    {
      "cell_type": "markdown",
      "source": [
        "## Finding the Similarities "
      ],
      "metadata": {
        "id": "Vp9Vj8sqZoj3"
      }
    },
    {
      "cell_type": "markdown",
      "source": [
        "By using the attention and attribution dictionaries we created, we can now do a series of comparisons for each example in our dataset."
      ],
      "metadata": {
        "id": "P9NCgV58Fyy6"
      }
    },
    {
      "cell_type": "markdown",
      "source": [
        "Short helper function to normalize the attentions and attributions. "
      ],
      "metadata": {
        "id": "6cwcV4jXNWe-"
      }
    },
    {
      "cell_type": "code",
      "source": [
        "def normalize(data):\n",
        "    return (data - np.min(data)) / (np. max(data) - np.min(data))"
      ],
      "metadata": {
        "id": "ukncMseTj1-K"
      },
      "execution_count": null,
      "outputs": []
    },
    {
      "cell_type": "markdown",
      "source": [
        "The following block of code iterates through the entire dataset, grabs the appropriate attributions and attentions from their respective dictionaries, and computes the cosine similarities, [Kendalltau](https://www.jstor.org/stable/2332226), and [Rank-biased Overlap (RBO)](https://dl.acm.org/doi/10.1145/1852102.1852106). Note that the array of attributions will be absolute valued for all cases other than the raw similarities. We absolute value the attributions because negative attributions would not necessarily mean that they have the lowest attention, rather they might have really high attention as they are more likely to help the model predict the negative class, and might be something the attentions picked up by the model. The output is a dataframe containing the computed similarities.\n",
        "\n",
        "For the cosine similarites, we are comparing the raw un-normalized attributions and attentions, the normalized arrays, arrays with values below the median masked, arrays with values below the mean masked, and the ranks of the tokens\n",
        "\n",
        "More information about the similarities can be found [here](https://colab.research.google.com/drive/14a1tOimrRbLlXd0rbtY-UTcizR5GDd4F#scrollTo=gB7w8fsMHFT2)"
      ],
      "metadata": {
        "id": "bw08J8acuEY4"
      }
    },
    {
      "cell_type": "code",
      "source": [
        "from numpy.linalg import norm\n",
        "import scipy.stats as stats\n",
        "import rbo\n",
        "from tqdm import tqdm"
      ],
      "metadata": {
        "id": "t4ppKBXJC3AB"
      },
      "execution_count": null,
      "outputs": []
    },
    {
      "cell_type": "code",
      "source": [
        "def get_sim_dataframe(cogs402_ds, all_attentions, all_attributions):\n",
        "\n",
        "  dataframe = []\n",
        "\n",
        "  for i in tqdm(range(len(cogs402_ds))):\n",
        "    exam_attrib = all_attributions[str(i)]\n",
        "    attention_final_layer = all_attentions[str(i)]\n",
        "    \n",
        "    exam_attrib = exam_attrib[:len(all_attentions[str(i)])]\n",
        "\n",
        "    #raw sims\n",
        "    cosine_raw = np.dot(exam_attrib, attention_final_layer) / (norm(exam_attrib)*norm(attention_final_layer))\n",
        "\n",
        "    attention_final_layer2 = normalize(attention_final_layer)\n",
        "\n",
        "    exam_attrib2 = np.abs(exam_attrib)\n",
        "    exam_attrib2 = normalize(exam_attrib2)\n",
        "    \n",
        "    #normalized sims\n",
        "    cosine = np.dot(exam_attrib2, attention_final_layer2) / (norm(exam_attrib2)*norm(attention_final_layer2))\n",
        "\n",
        "    exam_attrib3 = exam_attrib2\n",
        "    median_exam = np.percentile(exam_attrib3, 50)\n",
        "    exam_attrib3[exam_attrib3 < median_exam] = 0\n",
        "\n",
        "    attention_final_layer3 = np.copy(attention_final_layer2)\n",
        "    median_12 = np.percentile(attention_final_layer3, 50)\n",
        "    attention_final_layer3[attention_final_layer3 < median_12] = 0\n",
        "\n",
        "\n",
        "    #sim for attributions and attentions above the median\n",
        "    cosine_med = np.dot(exam_attrib3, attention_final_layer3) / (norm(exam_attrib3)*norm(attention_final_layer3))\n",
        "\n",
        "    exam_attrib4 = exam_attrib2\n",
        "    mean_exam = np.mean(exam_attrib4)\n",
        "    exam_attrib4[exam_attrib4 < mean_exam] = 0\n",
        "\n",
        "    attention_final_layer4 = np.copy(attention_final_layer2)\n",
        "    mean_12 = np.mean(attention_final_layer4)\n",
        "    attention_final_layer4[attention_final_layer4 < mean_12] = 0\n",
        "\n",
        "    #sim for attributions and attentions above the mean\n",
        "    cosine_mean = np.dot(exam_attrib4, attention_final_layer4) / (norm(exam_attrib4)*norm(attention_final_layer4))\n",
        "\n",
        "    exam_attrib_rank = exam_attrib2\n",
        "    order_attrib = exam_attrib_rank.argsort()\n",
        "    ranks_attrib = order_attrib.argsort()\n",
        "\n",
        "    attention_final_layer_rank = np.copy(attention_final_layer2)\n",
        "    order = attention_final_layer_rank.argsort()\n",
        "    ranks = order.argsort()\n",
        "\n",
        "    #sim using the ranks of the tokens\n",
        "    cosine_rank = np.dot(ranks_attrib, ranks) / (norm(ranks_attrib)*norm(ranks))\n",
        "\n",
        "    # other similarity metrics like RBO and Kendalltau\n",
        "    tau, p_value = stats.kendalltau(ranks_attrib, ranks)\n",
        "\n",
        "    rbo_sim = rbo.RankingSimilarity(order_attrib, order).rbo()\n",
        "\n",
        "    d = {'example': i, 'similarity normalized': cosine, 'similarity raw': cosine_raw, 'sim_norm w/ median threshold':cosine_med, 'sim_norm w/ mean threshold':cosine_mean, \"sim w/ ranks\":cosine_rank,\n",
        "        \"kendalltau\": tau, \"rbo\":rbo_sim}\n",
        "    dataframe.append(d)\n",
        "\n",
        "  return pd.DataFrame(dataframe)"
      ],
      "metadata": {
        "id": "dmKF8EBP2Nqz"
      },
      "execution_count": null,
      "outputs": []
    },
    {
      "cell_type": "markdown",
      "source": [
        "Apply the above function for our two cases, upper layers, and lower layers."
      ],
      "metadata": {
        "id": "Kpy-tAPEHfiQ"
      }
    },
    {
      "cell_type": "code",
      "source": [
        "df = get_sim_dataframe(cogs402_ds, all_attentions_lower, all_attributions)"
      ],
      "metadata": {
        "id": "gQIFZTQzlAEI",
        "colab": {
          "base_uri": "https://localhost:8080/"
        },
        "outputId": "a3987a28-688c-4319-b4d6-e8afecb660f1"
      },
      "execution_count": null,
      "outputs": [
        {
          "output_type": "stream",
          "name": "stderr",
          "text": [
            "100%|██████████| 1070/1070 [00:06<00:00, 165.62it/s]\n"
          ]
        }
      ]
    },
    {
      "cell_type": "code",
      "source": [
        "df2 = get_sim_dataframe(cogs402_ds, all_attentions_upper, all_attributions)"
      ],
      "metadata": {
        "id": "gtCEZaQFOgwh",
        "colab": {
          "base_uri": "https://localhost:8080/"
        },
        "outputId": "e9287ad1-8de7-4888-ca5b-14a3c36aae05"
      },
      "execution_count": null,
      "outputs": [
        {
          "output_type": "stream",
          "name": "stderr",
          "text": [
            "100%|██████████| 1070/1070 [00:06<00:00, 165.00it/s]\n"
          ]
        }
      ]
    },
    {
      "cell_type": "code",
      "source": [
        "df"
      ],
      "metadata": {
        "id": "Yn97-oeTC_qt",
        "colab": {
          "base_uri": "https://localhost:8080/",
          "height": 424
        },
        "outputId": "a5a7265f-17a5-40f0-b1cd-1d70c2e08a40"
      },
      "execution_count": null,
      "outputs": [
        {
          "output_type": "execute_result",
          "data": {
            "text/plain": [
              "      example  similarity normalized  similarity raw  \\\n",
              "0           0               0.064070        0.065861   \n",
              "1           1               0.152306       -0.119099   \n",
              "2           2               0.131756       -0.094488   \n",
              "3           3               0.077515        0.024718   \n",
              "4           4               0.105733       -0.056236   \n",
              "...       ...                    ...             ...   \n",
              "1065     1065               0.101507       -0.047509   \n",
              "1066     1066               0.068279       -0.034879   \n",
              "1067     1067               0.072144       -0.059020   \n",
              "1068     1068               0.145699       -0.063591   \n",
              "1069     1069               0.147236        0.124596   \n",
              "\n",
              "      sim_norm w/ median threshold  sim_norm w/ mean threshold  sim w/ ranks  \\\n",
              "0                         0.061317                    0.056974      0.800405   \n",
              "1                         0.137977                    0.124517      0.780435   \n",
              "2                         0.126695                    0.119913      0.791401   \n",
              "3                         0.075838                    0.070142      0.815851   \n",
              "4                         0.092669                    0.083308      0.783123   \n",
              "...                            ...                         ...           ...   \n",
              "1065                      0.096999                    0.087088      0.809723   \n",
              "1066                      0.065837                    0.056889      0.809293   \n",
              "1067                      0.066513                    0.058760      0.749865   \n",
              "1068                      0.131381                    0.118285      0.773150   \n",
              "1069                      0.135925                    0.121967      0.803859   \n",
              "\n",
              "      kendalltau       rbo  \n",
              "0       0.134887  0.537671  \n",
              "1       0.081245  0.518665  \n",
              "2       0.112002  0.535146  \n",
              "3       0.178733  0.558502  \n",
              "4       0.089465  0.526993  \n",
              "...          ...       ...  \n",
              "1065    0.161180  0.548429  \n",
              "1066    0.157797  0.546112  \n",
              "1067   -0.006709  0.488519  \n",
              "1068    0.062702  0.510337  \n",
              "1069    0.146249  0.548053  \n",
              "\n",
              "[1070 rows x 8 columns]"
            ],
            "text/html": [
              "\n",
              "  <div id=\"df-3f58ab23-bc73-46d2-88db-f77b3d89280e\">\n",
              "    <div class=\"colab-df-container\">\n",
              "      <div>\n",
              "<style scoped>\n",
              "    .dataframe tbody tr th:only-of-type {\n",
              "        vertical-align: middle;\n",
              "    }\n",
              "\n",
              "    .dataframe tbody tr th {\n",
              "        vertical-align: top;\n",
              "    }\n",
              "\n",
              "    .dataframe thead th {\n",
              "        text-align: right;\n",
              "    }\n",
              "</style>\n",
              "<table border=\"1\" class=\"dataframe\">\n",
              "  <thead>\n",
              "    <tr style=\"text-align: right;\">\n",
              "      <th></th>\n",
              "      <th>example</th>\n",
              "      <th>similarity normalized</th>\n",
              "      <th>similarity raw</th>\n",
              "      <th>sim_norm w/ median threshold</th>\n",
              "      <th>sim_norm w/ mean threshold</th>\n",
              "      <th>sim w/ ranks</th>\n",
              "      <th>kendalltau</th>\n",
              "      <th>rbo</th>\n",
              "    </tr>\n",
              "  </thead>\n",
              "  <tbody>\n",
              "    <tr>\n",
              "      <th>0</th>\n",
              "      <td>0</td>\n",
              "      <td>0.064070</td>\n",
              "      <td>0.065861</td>\n",
              "      <td>0.061317</td>\n",
              "      <td>0.056974</td>\n",
              "      <td>0.800405</td>\n",
              "      <td>0.134887</td>\n",
              "      <td>0.537671</td>\n",
              "    </tr>\n",
              "    <tr>\n",
              "      <th>1</th>\n",
              "      <td>1</td>\n",
              "      <td>0.152306</td>\n",
              "      <td>-0.119099</td>\n",
              "      <td>0.137977</td>\n",
              "      <td>0.124517</td>\n",
              "      <td>0.780435</td>\n",
              "      <td>0.081245</td>\n",
              "      <td>0.518665</td>\n",
              "    </tr>\n",
              "    <tr>\n",
              "      <th>2</th>\n",
              "      <td>2</td>\n",
              "      <td>0.131756</td>\n",
              "      <td>-0.094488</td>\n",
              "      <td>0.126695</td>\n",
              "      <td>0.119913</td>\n",
              "      <td>0.791401</td>\n",
              "      <td>0.112002</td>\n",
              "      <td>0.535146</td>\n",
              "    </tr>\n",
              "    <tr>\n",
              "      <th>3</th>\n",
              "      <td>3</td>\n",
              "      <td>0.077515</td>\n",
              "      <td>0.024718</td>\n",
              "      <td>0.075838</td>\n",
              "      <td>0.070142</td>\n",
              "      <td>0.815851</td>\n",
              "      <td>0.178733</td>\n",
              "      <td>0.558502</td>\n",
              "    </tr>\n",
              "    <tr>\n",
              "      <th>4</th>\n",
              "      <td>4</td>\n",
              "      <td>0.105733</td>\n",
              "      <td>-0.056236</td>\n",
              "      <td>0.092669</td>\n",
              "      <td>0.083308</td>\n",
              "      <td>0.783123</td>\n",
              "      <td>0.089465</td>\n",
              "      <td>0.526993</td>\n",
              "    </tr>\n",
              "    <tr>\n",
              "      <th>...</th>\n",
              "      <td>...</td>\n",
              "      <td>...</td>\n",
              "      <td>...</td>\n",
              "      <td>...</td>\n",
              "      <td>...</td>\n",
              "      <td>...</td>\n",
              "      <td>...</td>\n",
              "      <td>...</td>\n",
              "    </tr>\n",
              "    <tr>\n",
              "      <th>1065</th>\n",
              "      <td>1065</td>\n",
              "      <td>0.101507</td>\n",
              "      <td>-0.047509</td>\n",
              "      <td>0.096999</td>\n",
              "      <td>0.087088</td>\n",
              "      <td>0.809723</td>\n",
              "      <td>0.161180</td>\n",
              "      <td>0.548429</td>\n",
              "    </tr>\n",
              "    <tr>\n",
              "      <th>1066</th>\n",
              "      <td>1066</td>\n",
              "      <td>0.068279</td>\n",
              "      <td>-0.034879</td>\n",
              "      <td>0.065837</td>\n",
              "      <td>0.056889</td>\n",
              "      <td>0.809293</td>\n",
              "      <td>0.157797</td>\n",
              "      <td>0.546112</td>\n",
              "    </tr>\n",
              "    <tr>\n",
              "      <th>1067</th>\n",
              "      <td>1067</td>\n",
              "      <td>0.072144</td>\n",
              "      <td>-0.059020</td>\n",
              "      <td>0.066513</td>\n",
              "      <td>0.058760</td>\n",
              "      <td>0.749865</td>\n",
              "      <td>-0.006709</td>\n",
              "      <td>0.488519</td>\n",
              "    </tr>\n",
              "    <tr>\n",
              "      <th>1068</th>\n",
              "      <td>1068</td>\n",
              "      <td>0.145699</td>\n",
              "      <td>-0.063591</td>\n",
              "      <td>0.131381</td>\n",
              "      <td>0.118285</td>\n",
              "      <td>0.773150</td>\n",
              "      <td>0.062702</td>\n",
              "      <td>0.510337</td>\n",
              "    </tr>\n",
              "    <tr>\n",
              "      <th>1069</th>\n",
              "      <td>1069</td>\n",
              "      <td>0.147236</td>\n",
              "      <td>0.124596</td>\n",
              "      <td>0.135925</td>\n",
              "      <td>0.121967</td>\n",
              "      <td>0.803859</td>\n",
              "      <td>0.146249</td>\n",
              "      <td>0.548053</td>\n",
              "    </tr>\n",
              "  </tbody>\n",
              "</table>\n",
              "<p>1070 rows × 8 columns</p>\n",
              "</div>\n",
              "      <button class=\"colab-df-convert\" onclick=\"convertToInteractive('df-3f58ab23-bc73-46d2-88db-f77b3d89280e')\"\n",
              "              title=\"Convert this dataframe to an interactive table.\"\n",
              "              style=\"display:none;\">\n",
              "        \n",
              "  <svg xmlns=\"http://www.w3.org/2000/svg\" height=\"24px\"viewBox=\"0 0 24 24\"\n",
              "       width=\"24px\">\n",
              "    <path d=\"M0 0h24v24H0V0z\" fill=\"none\"/>\n",
              "    <path d=\"M18.56 5.44l.94 2.06.94-2.06 2.06-.94-2.06-.94-.94-2.06-.94 2.06-2.06.94zm-11 1L8.5 8.5l.94-2.06 2.06-.94-2.06-.94L8.5 2.5l-.94 2.06-2.06.94zm10 10l.94 2.06.94-2.06 2.06-.94-2.06-.94-.94-2.06-.94 2.06-2.06.94z\"/><path d=\"M17.41 7.96l-1.37-1.37c-.4-.4-.92-.59-1.43-.59-.52 0-1.04.2-1.43.59L10.3 9.45l-7.72 7.72c-.78.78-.78 2.05 0 2.83L4 21.41c.39.39.9.59 1.41.59.51 0 1.02-.2 1.41-.59l7.78-7.78 2.81-2.81c.8-.78.8-2.07 0-2.86zM5.41 20L4 18.59l7.72-7.72 1.47 1.35L5.41 20z\"/>\n",
              "  </svg>\n",
              "      </button>\n",
              "      \n",
              "  <style>\n",
              "    .colab-df-container {\n",
              "      display:flex;\n",
              "      flex-wrap:wrap;\n",
              "      gap: 12px;\n",
              "    }\n",
              "\n",
              "    .colab-df-convert {\n",
              "      background-color: #E8F0FE;\n",
              "      border: none;\n",
              "      border-radius: 50%;\n",
              "      cursor: pointer;\n",
              "      display: none;\n",
              "      fill: #1967D2;\n",
              "      height: 32px;\n",
              "      padding: 0 0 0 0;\n",
              "      width: 32px;\n",
              "    }\n",
              "\n",
              "    .colab-df-convert:hover {\n",
              "      background-color: #E2EBFA;\n",
              "      box-shadow: 0px 1px 2px rgba(60, 64, 67, 0.3), 0px 1px 3px 1px rgba(60, 64, 67, 0.15);\n",
              "      fill: #174EA6;\n",
              "    }\n",
              "\n",
              "    [theme=dark] .colab-df-convert {\n",
              "      background-color: #3B4455;\n",
              "      fill: #D2E3FC;\n",
              "    }\n",
              "\n",
              "    [theme=dark] .colab-df-convert:hover {\n",
              "      background-color: #434B5C;\n",
              "      box-shadow: 0px 1px 3px 1px rgba(0, 0, 0, 0.15);\n",
              "      filter: drop-shadow(0px 1px 2px rgba(0, 0, 0, 0.3));\n",
              "      fill: #FFFFFF;\n",
              "    }\n",
              "  </style>\n",
              "\n",
              "      <script>\n",
              "        const buttonEl =\n",
              "          document.querySelector('#df-3f58ab23-bc73-46d2-88db-f77b3d89280e button.colab-df-convert');\n",
              "        buttonEl.style.display =\n",
              "          google.colab.kernel.accessAllowed ? 'block' : 'none';\n",
              "\n",
              "        async function convertToInteractive(key) {\n",
              "          const element = document.querySelector('#df-3f58ab23-bc73-46d2-88db-f77b3d89280e');\n",
              "          const dataTable =\n",
              "            await google.colab.kernel.invokeFunction('convertToInteractive',\n",
              "                                                     [key], {});\n",
              "          if (!dataTable) return;\n",
              "\n",
              "          const docLinkHtml = 'Like what you see? Visit the ' +\n",
              "            '<a target=\"_blank\" href=https://colab.research.google.com/notebooks/data_table.ipynb>data table notebook</a>'\n",
              "            + ' to learn more about interactive tables.';\n",
              "          element.innerHTML = '';\n",
              "          dataTable['output_type'] = 'display_data';\n",
              "          await google.colab.output.renderOutput(dataTable, element);\n",
              "          const docLink = document.createElement('div');\n",
              "          docLink.innerHTML = docLinkHtml;\n",
              "          element.appendChild(docLink);\n",
              "        }\n",
              "      </script>\n",
              "    </div>\n",
              "  </div>\n",
              "  "
            ]
          },
          "metadata": {},
          "execution_count": 169
        }
      ]
    },
    {
      "cell_type": "markdown",
      "source": [
        "Since we have converted our similarities into a dataframe, we can easily find things like the mean and the max of the similarities, which we can use to pick out an example if needed."
      ],
      "metadata": {
        "id": "rBcXyOuGHlJN"
      }
    },
    {
      "cell_type": "code",
      "source": [
        "df.max()"
      ],
      "metadata": {
        "id": "SY9blyjLDeUt",
        "colab": {
          "base_uri": "https://localhost:8080/"
        },
        "outputId": "9130402a-f8f7-4af4-a57a-8341cf0e5d8b"
      },
      "execution_count": null,
      "outputs": [
        {
          "output_type": "execute_result",
          "data": {
            "text/plain": [
              "example                         1069.000000\n",
              "similarity normalized              0.269900\n",
              "similarity raw                     0.179861\n",
              "sim_norm w/ median threshold       0.251988\n",
              "sim_norm w/ mean threshold         0.234777\n",
              "sim w/ ranks                       0.847096\n",
              "kendalltau                         0.269942\n",
              "rbo                                0.603059\n",
              "dtype: float64"
            ]
          },
          "metadata": {},
          "execution_count": 170
        }
      ]
    },
    {
      "cell_type": "code",
      "source": [
        "df.min()"
      ],
      "metadata": {
        "id": "U8Egh8vVEL3w",
        "colab": {
          "base_uri": "https://localhost:8080/"
        },
        "outputId": "8dcd6858-d4bc-4be3-a172-cfe211afd1a9"
      },
      "execution_count": null,
      "outputs": [
        {
          "output_type": "execute_result",
          "data": {
            "text/plain": [
              "example                         0.000000\n",
              "similarity normalized           0.023468\n",
              "similarity raw                 -0.252796\n",
              "sim_norm w/ median threshold    0.022915\n",
              "sim_norm w/ mean threshold      0.017543\n",
              "sim w/ ranks                    0.730048\n",
              "kendalltau                     -0.054253\n",
              "rbo                             0.475426\n",
              "dtype: float64"
            ]
          },
          "metadata": {},
          "execution_count": 171
        }
      ]
    },
    {
      "cell_type": "code",
      "source": [
        "df2.max()"
      ],
      "metadata": {
        "id": "VIDkyg0RDqTZ",
        "colab": {
          "base_uri": "https://localhost:8080/"
        },
        "outputId": "ecdc5606-751b-4b0b-eb7a-cded7167f8b8"
      },
      "execution_count": null,
      "outputs": [
        {
          "output_type": "execute_result",
          "data": {
            "text/plain": [
              "example                         1069.000000\n",
              "similarity normalized              0.547884\n",
              "similarity raw                     0.429935\n",
              "sim_norm w/ median threshold       0.541587\n",
              "sim_norm w/ mean threshold         0.528510\n",
              "sim w/ ranks                       0.850276\n",
              "kendalltau                         0.273140\n",
              "rbo                                0.595922\n",
              "dtype: float64"
            ]
          },
          "metadata": {},
          "execution_count": 172
        }
      ]
    },
    {
      "cell_type": "code",
      "source": [
        "df.mean()"
      ],
      "metadata": {
        "id": "2HPzjI4i4Oz0",
        "colab": {
          "base_uri": "https://localhost:8080/"
        },
        "outputId": "eb49ca02-5caa-49bf-9c3a-d19e01fb90b5"
      },
      "execution_count": null,
      "outputs": [
        {
          "output_type": "execute_result",
          "data": {
            "text/plain": [
              "example                         534.500000\n",
              "similarity normalized             0.102693\n",
              "similarity raw                    0.013105\n",
              "sim_norm w/ median threshold      0.095857\n",
              "sim_norm w/ mean threshold        0.085518\n",
              "sim w/ ranks                      0.798156\n",
              "kendalltau                        0.130196\n",
              "rbo                               0.541461\n",
              "dtype: float64"
            ]
          },
          "metadata": {},
          "execution_count": 173
        }
      ]
    },
    {
      "cell_type": "markdown",
      "source": [
        "### Storing our Results"
      ],
      "metadata": {
        "id": "LduQ8w_yIaW5"
      }
    },
    {
      "cell_type": "markdown",
      "source": [
        "Given that this is meant to be preliminary findings about the comparison of attributions and attentions, you likely want to run through this multiple times with multiple configurations to see which configuration gives the most interesting results. As such, we want to store the results found above in a manner that we can easily access but also easy to view. Below we demonstrate how we stored the results of the means in a .csv file that we export."
      ],
      "metadata": {
        "id": "XQrU4q-SI-Q-"
      }
    },
    {
      "cell_type": "markdown",
      "source": [
        "We convert our results into a dictionary so we can later create a dataframe and store this information. Notably, we want the attention this example operates on in the form of text (e.g. attrib_vs_layer_12), which means **you will have to change the text depending on your context**, the mean cosine similarities, the mean cosine similarities for the ranks, the kendall tau coefficient, the RBO, as well as whether they are scaled, and/or alphanumeric tokens only."
      ],
      "metadata": {
        "id": "ZKZKg9mcY6XV"
      }
    },
    {
      "cell_type": "code",
      "source": [
        "result_dataframe = []\n",
        "d = {'example': \"attrib_vs_lower_attn\", 'mean_cosine_sim': df.mean()[\"similarity normalized\"].round(6), \"mean_cosine_sim_ranks\":df.mean()[\"sim w/ ranks\"].round(6),\n",
        "        \"mean_kendall_tau\": df.mean()[\"kendalltau\"].round(6), \"mean_RBO\":df.mean()[\"rbo\"].round(6), \"scaled\":True, \"alnum_only\":False}\n",
        "result_dataframe.append(d)\n"
      ],
      "metadata": {
        "id": "8I3H3SR2Nj5w"
      },
      "execution_count": null,
      "outputs": []
    },
    {
      "cell_type": "code",
      "source": [
        "df2.mean()"
      ],
      "metadata": {
        "colab": {
          "base_uri": "https://localhost:8080/"
        },
        "id": "kdhfJcyEYxpZ",
        "outputId": "23cc40c4-6976-4427-b890-e38bafd8e09b"
      },
      "execution_count": null,
      "outputs": [
        {
          "output_type": "execute_result",
          "data": {
            "text/plain": [
              "example                         534.500000\n",
              "similarity normalized             0.304992\n",
              "similarity raw                    0.052892\n",
              "sim_norm w/ median threshold      0.298370\n",
              "sim_norm w/ mean threshold        0.282326\n",
              "sim w/ ranks                      0.800178\n",
              "kendalltau                        0.135647\n",
              "rbo                               0.540826\n",
              "dtype: float64"
            ]
          },
          "metadata": {},
          "execution_count": 178
        }
      ]
    },
    {
      "cell_type": "markdown",
      "source": [
        "We do the same, changing the example text to ...upper_attn rather than lower attention because df2 stores the values comparing attribution against upper attention layers."
      ],
      "metadata": {
        "id": "WSMXkDj2ZyV5"
      }
    },
    {
      "cell_type": "code",
      "source": [
        "d2 = {'example': \"attrib_vs_upper_attn\", 'mean_cosine_sim': df2.mean()[\"similarity normalized\"].round(6), \"mean_cosine_sim_ranks\":df2.mean()[\"sim w/ ranks\"].round(6),\n",
        "        \"mean_kendall_tau\": df2.mean()[\"kendalltau\"].round(6), \"mean_RBO\":df2.mean()[\"rbo\"].round(6), \"scaled\":True, \"alnum_only\":False}\n",
        "result_dataframe.append(d2)"
      ],
      "metadata": {
        "id": "OVHDWIwgO9Se"
      },
      "execution_count": null,
      "outputs": []
    },
    {
      "cell_type": "markdown",
      "source": [
        "### Alphanumeric Tokens only"
      ],
      "metadata": {
        "id": "o0z0xod8JnLi"
      }
    },
    {
      "cell_type": "markdown",
      "source": [
        "The following block of code iterates through the entire dataset in the same manner as the above version, grabs the appropriate attributions and attentions from their respective dictionaries, and computes the cosine similarities, kendall tau coefficients, and the RBO. The output is a dataframe containing the computed similarities. The difference is that this block of code masks the values of tokens that are non-alphanumeric (e.g. \".,][?\") before calculating similarities.\n",
        "\n",
        "More information about the similarities can be found [here](https://colab.research.google.com/drive/14a1tOimrRbLlXd0rbtY-UTcizR5GDd4F#scrollTo=gB7w8fsMHFT2)"
      ],
      "metadata": {
        "id": "HYT4iQynt6-m"
      }
    },
    {
      "cell_type": "code",
      "source": [
        "def get_sim_dataframe_alpha(cogs402_ds, all_attentions, all_attributions):\n",
        "\n",
        "  dataframe = []\n",
        "\n",
        "  for i in tqdm(range(len(cogs402_ds))):\n",
        "    exam_attrib = all_attributions[str(i)]\n",
        "    attention_final_layer = all_attentions[str(i)]\n",
        "    \n",
        "    exam_attrib = exam_attrib[:len(all_attentions[str(i)])]\n",
        "\n",
        "    #input_ids\n",
        "    text = cogs402_ds['text'][i]\n",
        "    input_ids, _, sep_id = construct_input_ref_pair(text, ref_token_id, sep_token_id, cls_token_id)\n",
        "    indices = input_ids[0].detach().tolist()\n",
        "    all_tokens_curr = tokenizer.convert_ids_to_tokens(indices)\n",
        "\n",
        "    exam_tokens = all_tokens_curr\n",
        "    alpha_numeric_nums = [idx for idx, element in enumerate(exam_tokens) if element.isalnum()]\n",
        "    mask = np.ones(attention_final_layer.shape,dtype=bool) \n",
        "    mask[alpha_numeric_nums] = False\n",
        "\n",
        "    #raw attributions\n",
        "    cosine_raw = np.dot(exam_attrib, attention_final_layer) / (norm(exam_attrib)*norm(attention_final_layer))\n",
        "\n",
        "    #normalized attributions\n",
        "    attention_final_layer2 = normalize(attention_final_layer)\n",
        "\n",
        "    exam_attrib2 = np.abs(exam_attrib)\n",
        "    exam_attrib2 = normalize(exam_attrib2)\n",
        "    \n",
        "    attention_final_layer2[mask] = 0\n",
        "    exam_attrib2[mask] = 0\n",
        "\n",
        "    cosine = np.dot(exam_attrib2, attention_final_layer2) / (norm(exam_attrib2)*norm(attention_final_layer2))\n",
        "\n",
        "    #sim for attributions and attentions above the median\n",
        "    exam_attrib3 = exam_attrib2\n",
        "    median_exam = np.percentile(exam_attrib3, 50)\n",
        "    exam_attrib3[exam_attrib3 < median_exam] = 0\n",
        "\n",
        "    attention_final_layer3 = attention_final_layer2\n",
        "    median_12 = np.percentile(attention_final_layer3, 50)\n",
        "    attention_final_layer3[attention_final_layer3 < median_12] = 0\n",
        "\n",
        "    cosine_med = np.dot(exam_attrib3, attention_final_layer3) / (norm(exam_attrib3)*norm(attention_final_layer3))\n",
        "\n",
        "    #sim for attributions and attentions above the mean\n",
        "    exam_attrib4 = exam_attrib2\n",
        "    mean_exam = np.mean(exam_attrib4)\n",
        "    exam_attrib4[exam_attrib4 < mean_exam] = 0\n",
        "\n",
        "    attention_final_layer4 = attention_final_layer2\n",
        "    mean_12 = np.mean(attention_final_layer4)\n",
        "    attention_final_layer4[attention_final_layer4 < mean_12] = 0\n",
        "    \n",
        "    cosine_mean = np.dot(exam_attrib4, attention_final_layer4) / (norm(exam_attrib4)*norm(attention_final_layer4))\n",
        "\n",
        "    #sim using the ranks of the tokens\n",
        "    exam_attrib_rank = exam_attrib2\n",
        "    order_attrib = exam_attrib_rank.argsort()\n",
        "    ranks_attrib = order_attrib.argsort()\n",
        "\n",
        "    attention_final_layer_rank = attention_final_layer2\n",
        "    order = attention_final_layer_rank.argsort()\n",
        "    ranks = order.argsort()\n",
        "\n",
        "    \n",
        "    cosine_rank = np.dot(ranks_attrib, ranks) / (norm(ranks_attrib)*norm(ranks))\n",
        "\n",
        "    tau, p_value = stats.kendalltau(ranks_attrib, ranks)\n",
        "\n",
        "    rbo_sim = rbo.RankingSimilarity(order_attrib, order).rbo()\n",
        "\n",
        "    d = {'example': i, 'similarity normalized': cosine, 'similarity raw': cosine_raw, 'sim_norm w/ median threshold':cosine_med, 'sim_norm w/ mean threshold':cosine_mean, \"sim w/ ranks\":cosine_rank,\n",
        "        \"kendalltau\": tau, \"rbo\":rbo_sim}\n",
        "    dataframe.append(d)\n",
        "\n",
        "  return pd.DataFrame(dataframe)"
      ],
      "metadata": {
        "id": "sXoj61dc6sQ0"
      },
      "execution_count": null,
      "outputs": []
    },
    {
      "cell_type": "markdown",
      "source": [
        "Apply the above function for our two cases, upper layers, and lower layers."
      ],
      "metadata": {
        "id": "52VIfl7DJuMi"
      }
    },
    {
      "cell_type": "code",
      "source": [
        "df_alpha = get_sim_dataframe_alpha(cogs402_ds, all_attentions_lower, all_attributions)"
      ],
      "metadata": {
        "id": "AC49DcgfH-6L",
        "colab": {
          "base_uri": "https://localhost:8080/"
        },
        "outputId": "2e0bfd75-e01a-4476-c161-ef8e0cded5db"
      },
      "execution_count": null,
      "outputs": [
        {
          "output_type": "stream",
          "name": "stderr",
          "text": [
            "100%|██████████| 1070/1070 [03:11<00:00,  5.60it/s]\n"
          ]
        }
      ]
    },
    {
      "cell_type": "code",
      "source": [
        "df_alpha2 = get_sim_dataframe_alpha(cogs402_ds, all_attentions_upper, all_attributions)"
      ],
      "metadata": {
        "colab": {
          "base_uri": "https://localhost:8080/"
        },
        "id": "Q0WW-X0dofyb",
        "outputId": "44349a79-47bf-41f3-bc4c-e99d7ad11395"
      },
      "execution_count": null,
      "outputs": [
        {
          "output_type": "stream",
          "name": "stderr",
          "text": [
            "100%|██████████| 1070/1070 [03:09<00:00,  5.66it/s]\n"
          ]
        }
      ]
    },
    {
      "cell_type": "code",
      "source": [
        "df_alpha.mean()"
      ],
      "metadata": {
        "id": "2lNm1B5FJIbn",
        "colab": {
          "base_uri": "https://localhost:8080/"
        },
        "outputId": "1bf5b48c-b83b-4cce-c58a-b217250cda80"
      },
      "execution_count": null,
      "outputs": [
        {
          "output_type": "execute_result",
          "data": {
            "text/plain": [
              "example                         534.500000\n",
              "similarity normalized             0.257957\n",
              "similarity raw                    0.013105\n",
              "sim_norm w/ median threshold      0.244203\n",
              "sim_norm w/ mean threshold        0.230292\n",
              "sim w/ ranks                      0.828603\n",
              "kendalltau                        0.245163\n",
              "rbo                               0.646449\n",
              "dtype: float64"
            ]
          },
          "metadata": {},
          "execution_count": 220
        }
      ]
    },
    {
      "cell_type": "markdown",
      "source": [
        "Similar to the previous time we saved our results to a dictionary, but this time we change alnum_only to True because df_alpha masks all the non-alphanumeric tokens."
      ],
      "metadata": {
        "id": "QG_6e4jUaZqI"
      }
    },
    {
      "cell_type": "code",
      "source": [
        "d_alpha = {'example': \"attrib_vs_lower_attn\", 'mean_cosine_sim': df_alpha.mean()[\"similarity normalized\"].round(6), \"mean_cosine_sim_ranks\":df_alpha.mean()[\"sim w/ ranks\"].round(6),\n",
        "        \"mean_kendall_tau\": df_alpha.mean()[\"kendalltau\"].round(6), \"mean_RBO\":df_alpha.mean()[\"rbo\"].round(6), \"scaled\":True, \"alnum_only\":True}\n",
        "result_dataframe.append(d_alpha)"
      ],
      "metadata": {
        "id": "DYVy_3HlPTek"
      },
      "execution_count": null,
      "outputs": []
    },
    {
      "cell_type": "code",
      "source": [
        "df_alpha2.mean()"
      ],
      "metadata": {
        "colab": {
          "base_uri": "https://localhost:8080/"
        },
        "id": "u4akOqvPZdoa",
        "outputId": "eec2ed89-d790-439c-b6bd-7bd1da821338"
      },
      "execution_count": null,
      "outputs": [
        {
          "output_type": "execute_result",
          "data": {
            "text/plain": [
              "example                         534.500000\n",
              "similarity normalized             0.412499\n",
              "similarity raw                    0.052892\n",
              "sim_norm w/ median threshold      0.400657\n",
              "sim_norm w/ mean threshold        0.381751\n",
              "sim w/ ranks                      0.859177\n",
              "kendalltau                        0.356239\n",
              "rbo                               0.715535\n",
              "dtype: float64"
            ]
          },
          "metadata": {},
          "execution_count": 222
        }
      ]
    },
    {
      "cell_type": "markdown",
      "source": [
        "The same principle for d_alpha is applied here for the upper layers."
      ],
      "metadata": {
        "id": "RjUz53bqajFb"
      }
    },
    {
      "cell_type": "code",
      "source": [
        "d_alpha2 = {'example': \"attrib_vs_upper_attn\", 'mean_cosine_sim': df_alpha2.mean()[\"similarity normalized\"].round(6), \"mean_cosine_sim_ranks\":df_alpha2.mean()[\"sim w/ ranks\"].round(6),\n",
        "        \"mean_kendall_tau\": df_alpha2.mean()[\"kendalltau\"].round(6), \"mean_RBO\":df_alpha2.mean()[\"rbo\"].round(6), \"scaled\":True, \"alnum_only\":True}\n",
        "result_dataframe.append(d_alpha2)"
      ],
      "metadata": {
        "id": "XBikudz4Pd3o"
      },
      "execution_count": null,
      "outputs": []
    },
    {
      "cell_type": "markdown",
      "source": [
        "## Unscaled Versions"
      ],
      "metadata": {
        "id": "in_N4CznKzZF"
      }
    },
    {
      "cell_type": "markdown",
      "source": [
        "These two dictionaries store the unscaled summed attentions for layer 12 and all layers respectively. You can change the name and the path to suit your project."
      ],
      "metadata": {
        "id": "fMrIo9ophBUt"
      }
    },
    {
      "cell_type": "code",
      "source": [
        "all_attentions_unscale_12 = torch.load('/content/drive/MyDrive/cogs402longformer/results/papers/full_attention_matrices/example_atten_dict_12_unscale.pt')\n",
        "all_attentions_unscale_all = torch.load('/content/drive/MyDrive/cogs402longformer/results/papers/full_attention_matrices/example_atten_dict_all_unscale.pt')"
      ],
      "metadata": {
        "id": "uruAVE0XhNOk"
      },
      "execution_count": null,
      "outputs": []
    },
    {
      "cell_type": "markdown",
      "source": [
        "These two dictionaries store the unscaled summed attentions for the layers 1-6 and 7-12 respectively. You can change the name and the path to suit your project"
      ],
      "metadata": {
        "id": "Wrri3dZoajIh"
      }
    },
    {
      "cell_type": "code",
      "source": [
        "all_attentions_unscale_lower = torch.load('/content/drive/MyDrive/cogs402longformer/results/papers/full_attention_matrices/example_atten_dict_lower_unscale.pt')\n",
        "all_attentions_unscale_upper = torch.load('/content/drive/MyDrive/cogs402longformer/results/papers/full_attention_matrices/example_atten_dict_upper_unscale.pt')"
      ],
      "metadata": {
        "id": "4lAQkA7wk27O"
      },
      "execution_count": null,
      "outputs": []
    },
    {
      "cell_type": "markdown",
      "source": [
        "The following block of code sums the attention in the same manner as the above [version](https://colab.research.google.com/drive/1-FZYN7yBm2jVsZds8Q4lydasdxJRe9zk#scrollTo=ZWeFQNW8MmJL&line=1&uniqifier=1), producing arrays of attention with shape (seq_len) and storing it in a dictionary.\n",
        "\n",
        "Feel free to skip this block of code if you have already imported your attentions."
      ],
      "metadata": {
        "id": "HO3nWkS1u71q"
      }
    },
    {
      "cell_type": "code",
      "source": [
        "# all_attentions_unscale_lower = {}\n",
        "# all_attentions_unscale_upper = {}\n",
        "# for i in tqdm(range(len(cogs402_ds))):\n",
        "#   if str(i) not in all_attentions_unscale_lower and str(i) not in all_attentions_unscale_upper:\n",
        "\n",
        "#     att_mat = all_attentions[str(i)]\n",
        "\n",
        "#     att_mat_low = att_mat[0:6]\n",
        "#     att_mat_up = att_mat[6:]\n",
        "\n",
        "#     # Sum the attentions for the last layer and over all layers\n",
        "#     attention_lower_layer = att_mat_low.sum(axis=1)\n",
        "#     attention_lower_layer = attention_lower_layer.sum(axis=0)\n",
        "#     all_attentions_unscale_lower[str(i)] = attention_lower_layer\n",
        "\n",
        "#     attention_upper_layer = att_mat_up.sum(axis=1)\n",
        "#     attention_upper_layer = attention_upper_layer.sum(axis=0)\n",
        "#     all_attentions_unscale_upper[str(i)] = attention_upper_layer\n",
        "\n",
        "#     #template for single layer\n",
        "#     # attention_single_layer = att_mat[layer].sum(axis=0)\n",
        "#     # all_attentions_layer[str(i)] = attention_single_layer\n",
        "    \n",
        "#     torch.save(all_attentions_unscale_lower, '/content/drive/MyDrive/cogs402longformer/results/papers/papers_attributions/full_attention_matrices/example_atten_dict_lower_unscale.pt')\n",
        "#     torch.save(all_attentions_unscale_upper, '/content/drive/MyDrive/cogs402longformer/results/papers/papers_attributions/full_attention_matrices/example_atten_dict_upper_unscale.pt')"
      ],
      "metadata": {
        "colab": {
          "base_uri": "https://localhost:8080/"
        },
        "id": "nMpNSHvMZpy0",
        "outputId": "82e1edc9-eb97-4797-c57f-ddd064649ace"
      },
      "execution_count": null,
      "outputs": [
        {
          "output_type": "stream",
          "name": "stderr",
          "text": [
            "100%|██████████| 1070/1070 [00:00<00:00, 5617.69it/s]\n"
          ]
        }
      ]
    },
    {
      "cell_type": "markdown",
      "source": [
        "We use the same functions we create previously [above](https://colab.research.google.com/drive/1-FZYN7yBm2jVsZds8Q4lydasdxJRe9zk#scrollTo=dmKF8EBP2Nqz&line=11&uniqifier=1) to get dataframes which we can use to get the mean or the max."
      ],
      "metadata": {
        "id": "Ntic7Vv4MTHY"
      }
    },
    {
      "cell_type": "code",
      "source": [
        "df_unscale = get_sim_dataframe(cogs402_ds, all_attentions_unscale_lower, all_attributions)\n",
        "df_unscale2 = get_sim_dataframe(cogs402_ds, all_attentions_unscale_upper, all_attributions)"
      ],
      "metadata": {
        "colab": {
          "base_uri": "https://localhost:8080/"
        },
        "id": "Zzxb8qDXkt-S",
        "outputId": "91074efe-c609-4da7-db6b-ceb026db6d6b"
      },
      "execution_count": null,
      "outputs": [
        {
          "output_type": "stream",
          "name": "stderr",
          "text": [
            "100%|██████████| 1070/1070 [00:07<00:00, 147.62it/s]\n",
            "100%|██████████| 1070/1070 [00:06<00:00, 156.66it/s]\n"
          ]
        }
      ]
    },
    {
      "cell_type": "code",
      "source": [
        "df_unscale.mean()"
      ],
      "metadata": {
        "colab": {
          "base_uri": "https://localhost:8080/"
        },
        "id": "5R6CNQz5npSQ",
        "outputId": "78b8e0b2-117f-4b7d-cd6f-8ed9f5c5d663"
      },
      "execution_count": null,
      "outputs": [
        {
          "output_type": "execute_result",
          "data": {
            "text/plain": [
              "example                         534.500000\n",
              "similarity normalized             0.074468\n",
              "similarity raw                    0.004064\n",
              "sim_norm w/ median threshold      0.069518\n",
              "sim_norm w/ mean threshold        0.059405\n",
              "sim w/ ranks                      0.785569\n",
              "kendalltau                        0.095789\n",
              "rbo                               0.528623\n",
              "dtype: float64"
            ]
          },
          "metadata": {},
          "execution_count": 190
        }
      ]
    },
    {
      "cell_type": "markdown",
      "source": [
        "We set the value of scaled to False and alnum to False given that we did not scale the attentions when getting the similarities in df_unscale nor did we mask the non-alphanumeric tokens."
      ],
      "metadata": {
        "id": "64cIeyEzapTs"
      }
    },
    {
      "cell_type": "code",
      "source": [
        "d_unscale = {'example': \"attrib_vs_lower_attn\", 'mean_cosine_sim': df_unscale.mean()[\"similarity normalized\"].round(6), \"mean_cosine_sim_ranks\":df_unscale.mean()[\"sim w/ ranks\"].round(6),\n",
        "        \"mean_kendall_tau\": df_unscale.mean()[\"kendalltau\"].round(6), \"mean_RBO\":df_unscale.mean()[\"rbo\"].round(6), \"scaled\":False, \"alnum_only\":False}\n",
        "result_dataframe.append(d_unscale)"
      ],
      "metadata": {
        "id": "SeiwUePGPjnL"
      },
      "execution_count": null,
      "outputs": []
    },
    {
      "cell_type": "markdown",
      "source": [
        "The same principle for d_unscale is applied here, but for the other example (in our case the upper layers)."
      ],
      "metadata": {
        "id": "KM9CvxinbLXU"
      }
    },
    {
      "cell_type": "code",
      "source": [
        "df_unscale2.mean()"
      ],
      "metadata": {
        "colab": {
          "base_uri": "https://localhost:8080/"
        },
        "id": "yJKEhyEonuNI",
        "outputId": "fb5919dd-4abf-4dcc-fdb3-6243e94be481"
      },
      "execution_count": null,
      "outputs": [
        {
          "output_type": "execute_result",
          "data": {
            "text/plain": [
              "example                         534.500000\n",
              "similarity normalized             0.233382\n",
              "similarity raw                    0.033118\n",
              "sim_norm w/ median threshold      0.228284\n",
              "sim_norm w/ mean threshold        0.213243\n",
              "sim w/ ranks                      0.801003\n",
              "kendalltau                        0.137813\n",
              "rbo                               0.541053\n",
              "dtype: float64"
            ]
          },
          "metadata": {},
          "execution_count": 192
        }
      ]
    },
    {
      "cell_type": "code",
      "source": [
        "d_unscale2 = {'example': \"attrib_vs_upper_attn\", 'mean_cosine_sim': df_unscale2.mean()[\"similarity normalized\"].round(6), \"mean_cosine_sim_ranks\":df_unscale2.mean()[\"sim w/ ranks\"].round(6),\n",
        "        \"mean_kendall_tau\": df_unscale2.mean()[\"kendalltau\"].round(6), \"mean_RBO\":df_unscale2.mean()[\"rbo\"].round(6), \"scaled\":False, \"alnum_only\":False}\n",
        "result_dataframe.append(d_unscale2)"
      ],
      "metadata": {
        "id": "GeHomiB0PrFd"
      },
      "execution_count": null,
      "outputs": []
    },
    {
      "cell_type": "markdown",
      "source": [
        "### Alphanumeric Tokens only"
      ],
      "metadata": {
        "id": "o67UKUOvMrxs"
      }
    },
    {
      "cell_type": "markdown",
      "source": [
        "We use the function we created earlier [above] in order to get the dataframe with our similarities using alphanumeric inputs only."
      ],
      "metadata": {
        "id": "zL8GKBCEMxU9"
      }
    },
    {
      "cell_type": "code",
      "source": [
        "df_unscale_alpha = get_sim_dataframe_alpha(cogs402_ds, all_attentions_unscale_lower, all_attributions)"
      ],
      "metadata": {
        "colab": {
          "base_uri": "https://localhost:8080/"
        },
        "id": "9kTlwzd1sve4",
        "outputId": "d74dc787-d723-4f76-a434-0af5b2c2520b"
      },
      "execution_count": null,
      "outputs": [
        {
          "output_type": "stream",
          "name": "stderr",
          "text": [
            "100%|██████████| 1070/1070 [03:11<00:00,  5.58it/s]\n"
          ]
        }
      ]
    },
    {
      "cell_type": "code",
      "source": [
        "df_unscale_alpha2 = get_sim_dataframe_alpha(cogs402_ds, all_attentions_unscale_upper, all_attributions)"
      ],
      "metadata": {
        "colab": {
          "base_uri": "https://localhost:8080/"
        },
        "id": "VCqPMGqgs4Cg",
        "outputId": "f85128fb-6e3f-4f76-b629-347ba04e0dfa"
      },
      "execution_count": null,
      "outputs": [
        {
          "output_type": "stream",
          "name": "stderr",
          "text": [
            "100%|██████████| 1070/1070 [03:10<00:00,  5.61it/s]\n"
          ]
        }
      ]
    },
    {
      "cell_type": "code",
      "source": [
        "df_unscale_alpha.mean()"
      ],
      "metadata": {
        "colab": {
          "base_uri": "https://localhost:8080/"
        },
        "id": "aAXTz9nkt0xu",
        "outputId": "8c200796-7af9-4ac4-ddfd-7ab524c5d35d"
      },
      "execution_count": null,
      "outputs": [
        {
          "output_type": "execute_result",
          "data": {
            "text/plain": [
              "example                         534.500000\n",
              "similarity normalized             0.123476\n",
              "similarity raw                    0.004064\n",
              "sim_norm w/ median threshold      0.111930\n",
              "sim_norm w/ mean threshold        0.105211\n",
              "sim w/ ranks                      0.806076\n",
              "kendalltau                        0.166703\n",
              "rbo                               0.593192\n",
              "dtype: float64"
            ]
          },
          "metadata": {},
          "execution_count": 197
        }
      ]
    },
    {
      "cell_type": "markdown",
      "source": [
        "Here we are both leaving the attentions unscaled and masking all the non_alphanumeric tokens, so we appropriately set scaled to False and \"alnum_only\" to True."
      ],
      "metadata": {
        "id": "2ge0lExJbQag"
      }
    },
    {
      "cell_type": "code",
      "source": [
        "d_unscale_alpha = {'example': \"attrib_vs_lower_attn\", 'mean_cosine_sim': df_unscale_alpha.mean()[\"similarity normalized\"].round(6), \"mean_cosine_sim_ranks\":df_unscale_alpha.mean()[\"sim w/ ranks\"].round(6),\n",
        "        \"mean_kendall_tau\": df_unscale_alpha.mean()[\"kendalltau\"].round(6), \"mean_RBO\":df_unscale_alpha.mean()[\"rbo\"].round(6), \"scaled\":False, \"alnum_only\":True}\n",
        "result_dataframe.append(d_unscale_alpha)"
      ],
      "metadata": {
        "id": "rJwffxvuQKtc"
      },
      "execution_count": null,
      "outputs": []
    },
    {
      "cell_type": "markdown",
      "source": [
        "The same principle for d_unscale is applied here, but for the other example (in our case the upper layers)."
      ],
      "metadata": {
        "id": "dhTLMBuNM-uz"
      }
    },
    {
      "cell_type": "code",
      "source": [
        "df_unscale_alpha2.mean()"
      ],
      "metadata": {
        "colab": {
          "base_uri": "https://localhost:8080/"
        },
        "id": "KYP_JvItt3eL",
        "outputId": "e02ec177-1697-42ff-b593-733d7ad41078"
      },
      "execution_count": null,
      "outputs": [
        {
          "output_type": "execute_result",
          "data": {
            "text/plain": [
              "example                         534.500000\n",
              "similarity normalized             0.421118\n",
              "similarity raw                    0.033118\n",
              "sim_norm w/ median threshold      0.400061\n",
              "sim_norm w/ mean threshold        0.380234\n",
              "sim w/ ranks                      0.822304\n",
              "kendalltau                        0.217510\n",
              "rbo                               0.617760\n",
              "dtype: float64"
            ]
          },
          "metadata": {},
          "execution_count": 199
        }
      ]
    },
    {
      "cell_type": "code",
      "source": [
        "d_unscale_alpha2 = {'example': \"attrib_vs_upper_attn\", 'mean_cosine_sim': df_unscale_alpha2.mean()[\"similarity normalized\"].round(6), \n",
        "                    \"mean_cosine_sim_ranks\":df_unscale_alpha2.mean()[\"sim w/ ranks\"].round(6),\n",
        "                    \"mean_kendall_tau\": df_unscale_alpha2.mean()[\"kendalltau\"].round(6), \n",
        "                    \"mean_RBO\":df_unscale_alpha2.mean()[\"rbo\"].round(6), \"scaled\":False, \"alnum_only\":True}\n",
        "result_dataframe.append(d_unscale_alpha2)"
      ],
      "metadata": {
        "id": "2hN3281WPyO8"
      },
      "execution_count": null,
      "outputs": []
    },
    {
      "cell_type": "markdown",
      "source": [
        "## Saving the End Results"
      ],
      "metadata": {
        "id": "SMvfB3aRZtl_"
      }
    },
    {
      "cell_type": "markdown",
      "source": [
        "Finally, we can combine our results into a single dataframe to store our data and be able to easily access our results. We sort our examples by name and whether or not they are scaled to keep it as organized as possible."
      ],
      "metadata": {
        "id": "QPQE-Sf4Qu2C"
      }
    },
    {
      "cell_type": "code",
      "source": [
        "df_new = pd.DataFrame(result_dataframe)\n",
        "df_new = df_new.sort_values(['example', 'scaled'],\n",
        "              ascending = [True, True])\n",
        "df_new"
      ],
      "metadata": {
        "colab": {
          "base_uri": "https://localhost:8080/",
          "height": 300
        },
        "id": "1WCxYo_uJ94H",
        "outputId": "0726c4f9-2e33-4452-e3af-61993ee92ce9"
      },
      "execution_count": null,
      "outputs": [
        {
          "output_type": "execute_result",
          "data": {
            "text/plain": [
              "                example  mean_cosine_sim  mean_cosine_sim_ranks  \\\n",
              "4  attrib_vs_lower_attn         0.074468               0.785569   \n",
              "6  attrib_vs_lower_attn         0.123476               0.806076   \n",
              "0  attrib_vs_lower_attn         0.102693               0.798156   \n",
              "2  attrib_vs_lower_attn         0.257957               0.828603   \n",
              "5  attrib_vs_upper_attn         0.233382               0.801003   \n",
              "7  attrib_vs_upper_attn         0.421118               0.822304   \n",
              "1  attrib_vs_upper_attn         0.304992               0.800178   \n",
              "3  attrib_vs_upper_attn         0.412499               0.859177   \n",
              "\n",
              "   mean_kendall_tau  mean_RBO  scaled  alnum_only  \n",
              "4          0.095789  0.528623   False       False  \n",
              "6          0.166703  0.593192   False        True  \n",
              "0          0.130196  0.541461    True       False  \n",
              "2          0.245163  0.646449    True        True  \n",
              "5          0.137813  0.541053   False       False  \n",
              "7          0.217510  0.617760   False        True  \n",
              "1          0.135647  0.540826    True       False  \n",
              "3          0.356239  0.715535    True        True  "
            ],
            "text/html": [
              "\n",
              "  <div id=\"df-36834749-27a3-4330-bbcb-efcecb01077c\">\n",
              "    <div class=\"colab-df-container\">\n",
              "      <div>\n",
              "<style scoped>\n",
              "    .dataframe tbody tr th:only-of-type {\n",
              "        vertical-align: middle;\n",
              "    }\n",
              "\n",
              "    .dataframe tbody tr th {\n",
              "        vertical-align: top;\n",
              "    }\n",
              "\n",
              "    .dataframe thead th {\n",
              "        text-align: right;\n",
              "    }\n",
              "</style>\n",
              "<table border=\"1\" class=\"dataframe\">\n",
              "  <thead>\n",
              "    <tr style=\"text-align: right;\">\n",
              "      <th></th>\n",
              "      <th>example</th>\n",
              "      <th>mean_cosine_sim</th>\n",
              "      <th>mean_cosine_sim_ranks</th>\n",
              "      <th>mean_kendall_tau</th>\n",
              "      <th>mean_RBO</th>\n",
              "      <th>scaled</th>\n",
              "      <th>alnum_only</th>\n",
              "    </tr>\n",
              "  </thead>\n",
              "  <tbody>\n",
              "    <tr>\n",
              "      <th>4</th>\n",
              "      <td>attrib_vs_lower_attn</td>\n",
              "      <td>0.074468</td>\n",
              "      <td>0.785569</td>\n",
              "      <td>0.095789</td>\n",
              "      <td>0.528623</td>\n",
              "      <td>False</td>\n",
              "      <td>False</td>\n",
              "    </tr>\n",
              "    <tr>\n",
              "      <th>6</th>\n",
              "      <td>attrib_vs_lower_attn</td>\n",
              "      <td>0.123476</td>\n",
              "      <td>0.806076</td>\n",
              "      <td>0.166703</td>\n",
              "      <td>0.593192</td>\n",
              "      <td>False</td>\n",
              "      <td>True</td>\n",
              "    </tr>\n",
              "    <tr>\n",
              "      <th>0</th>\n",
              "      <td>attrib_vs_lower_attn</td>\n",
              "      <td>0.102693</td>\n",
              "      <td>0.798156</td>\n",
              "      <td>0.130196</td>\n",
              "      <td>0.541461</td>\n",
              "      <td>True</td>\n",
              "      <td>False</td>\n",
              "    </tr>\n",
              "    <tr>\n",
              "      <th>2</th>\n",
              "      <td>attrib_vs_lower_attn</td>\n",
              "      <td>0.257957</td>\n",
              "      <td>0.828603</td>\n",
              "      <td>0.245163</td>\n",
              "      <td>0.646449</td>\n",
              "      <td>True</td>\n",
              "      <td>True</td>\n",
              "    </tr>\n",
              "    <tr>\n",
              "      <th>5</th>\n",
              "      <td>attrib_vs_upper_attn</td>\n",
              "      <td>0.233382</td>\n",
              "      <td>0.801003</td>\n",
              "      <td>0.137813</td>\n",
              "      <td>0.541053</td>\n",
              "      <td>False</td>\n",
              "      <td>False</td>\n",
              "    </tr>\n",
              "    <tr>\n",
              "      <th>7</th>\n",
              "      <td>attrib_vs_upper_attn</td>\n",
              "      <td>0.421118</td>\n",
              "      <td>0.822304</td>\n",
              "      <td>0.217510</td>\n",
              "      <td>0.617760</td>\n",
              "      <td>False</td>\n",
              "      <td>True</td>\n",
              "    </tr>\n",
              "    <tr>\n",
              "      <th>1</th>\n",
              "      <td>attrib_vs_upper_attn</td>\n",
              "      <td>0.304992</td>\n",
              "      <td>0.800178</td>\n",
              "      <td>0.135647</td>\n",
              "      <td>0.540826</td>\n",
              "      <td>True</td>\n",
              "      <td>False</td>\n",
              "    </tr>\n",
              "    <tr>\n",
              "      <th>3</th>\n",
              "      <td>attrib_vs_upper_attn</td>\n",
              "      <td>0.412499</td>\n",
              "      <td>0.859177</td>\n",
              "      <td>0.356239</td>\n",
              "      <td>0.715535</td>\n",
              "      <td>True</td>\n",
              "      <td>True</td>\n",
              "    </tr>\n",
              "  </tbody>\n",
              "</table>\n",
              "</div>\n",
              "      <button class=\"colab-df-convert\" onclick=\"convertToInteractive('df-36834749-27a3-4330-bbcb-efcecb01077c')\"\n",
              "              title=\"Convert this dataframe to an interactive table.\"\n",
              "              style=\"display:none;\">\n",
              "        \n",
              "  <svg xmlns=\"http://www.w3.org/2000/svg\" height=\"24px\"viewBox=\"0 0 24 24\"\n",
              "       width=\"24px\">\n",
              "    <path d=\"M0 0h24v24H0V0z\" fill=\"none\"/>\n",
              "    <path d=\"M18.56 5.44l.94 2.06.94-2.06 2.06-.94-2.06-.94-.94-2.06-.94 2.06-2.06.94zm-11 1L8.5 8.5l.94-2.06 2.06-.94-2.06-.94L8.5 2.5l-.94 2.06-2.06.94zm10 10l.94 2.06.94-2.06 2.06-.94-2.06-.94-.94-2.06-.94 2.06-2.06.94z\"/><path d=\"M17.41 7.96l-1.37-1.37c-.4-.4-.92-.59-1.43-.59-.52 0-1.04.2-1.43.59L10.3 9.45l-7.72 7.72c-.78.78-.78 2.05 0 2.83L4 21.41c.39.39.9.59 1.41.59.51 0 1.02-.2 1.41-.59l7.78-7.78 2.81-2.81c.8-.78.8-2.07 0-2.86zM5.41 20L4 18.59l7.72-7.72 1.47 1.35L5.41 20z\"/>\n",
              "  </svg>\n",
              "      </button>\n",
              "      \n",
              "  <style>\n",
              "    .colab-df-container {\n",
              "      display:flex;\n",
              "      flex-wrap:wrap;\n",
              "      gap: 12px;\n",
              "    }\n",
              "\n",
              "    .colab-df-convert {\n",
              "      background-color: #E8F0FE;\n",
              "      border: none;\n",
              "      border-radius: 50%;\n",
              "      cursor: pointer;\n",
              "      display: none;\n",
              "      fill: #1967D2;\n",
              "      height: 32px;\n",
              "      padding: 0 0 0 0;\n",
              "      width: 32px;\n",
              "    }\n",
              "\n",
              "    .colab-df-convert:hover {\n",
              "      background-color: #E2EBFA;\n",
              "      box-shadow: 0px 1px 2px rgba(60, 64, 67, 0.3), 0px 1px 3px 1px rgba(60, 64, 67, 0.15);\n",
              "      fill: #174EA6;\n",
              "    }\n",
              "\n",
              "    [theme=dark] .colab-df-convert {\n",
              "      background-color: #3B4455;\n",
              "      fill: #D2E3FC;\n",
              "    }\n",
              "\n",
              "    [theme=dark] .colab-df-convert:hover {\n",
              "      background-color: #434B5C;\n",
              "      box-shadow: 0px 1px 3px 1px rgba(0, 0, 0, 0.15);\n",
              "      filter: drop-shadow(0px 1px 2px rgba(0, 0, 0, 0.3));\n",
              "      fill: #FFFFFF;\n",
              "    }\n",
              "  </style>\n",
              "\n",
              "      <script>\n",
              "        const buttonEl =\n",
              "          document.querySelector('#df-36834749-27a3-4330-bbcb-efcecb01077c button.colab-df-convert');\n",
              "        buttonEl.style.display =\n",
              "          google.colab.kernel.accessAllowed ? 'block' : 'none';\n",
              "\n",
              "        async function convertToInteractive(key) {\n",
              "          const element = document.querySelector('#df-36834749-27a3-4330-bbcb-efcecb01077c');\n",
              "          const dataTable =\n",
              "            await google.colab.kernel.invokeFunction('convertToInteractive',\n",
              "                                                     [key], {});\n",
              "          if (!dataTable) return;\n",
              "\n",
              "          const docLinkHtml = 'Like what you see? Visit the ' +\n",
              "            '<a target=\"_blank\" href=https://colab.research.google.com/notebooks/data_table.ipynb>data table notebook</a>'\n",
              "            + ' to learn more about interactive tables.';\n",
              "          element.innerHTML = '';\n",
              "          dataTable['output_type'] = 'display_data';\n",
              "          await google.colab.output.renderOutput(dataTable, element);\n",
              "          const docLink = document.createElement('div');\n",
              "          docLink.innerHTML = docLinkHtml;\n",
              "          element.appendChild(docLink);\n",
              "        }\n",
              "      </script>\n",
              "    </div>\n",
              "  </div>\n",
              "  "
            ]
          },
          "metadata": {},
          "execution_count": 231
        }
      ]
    },
    {
      "cell_type": "markdown",
      "source": [
        "If you have a previous version of this dataframe, we can load the csv using pandas and add our new results onto the dataframe by using panda's concatenate function."
      ],
      "metadata": {
        "id": "-EU7Lo80SCNh"
      }
    },
    {
      "cell_type": "code",
      "source": [
        "df_previous = pd.read_csv(\"/content/drive/MyDrive/cogs402longformer/results/papers/attrib_attn_sim/attrib_attn_sim_means.csv\")"
      ],
      "metadata": {
        "id": "DbVFk3Z4Q41Z"
      },
      "execution_count": null,
      "outputs": []
    },
    {
      "cell_type": "code",
      "source": [
        "df_previous"
      ],
      "metadata": {
        "colab": {
          "base_uri": "https://localhost:8080/",
          "height": 551
        },
        "id": "z9Tpp6Evcdwy",
        "outputId": "1fadff52-4f91-4dbc-b12d-a8cda87cfe98"
      },
      "execution_count": null,
      "outputs": [
        {
          "output_type": "execute_result",
          "data": {
            "text/plain": [
              "                     example  mean_cosine_sim  mean_cosine_sim_ranks  \\\n",
              "0   attrib_vs_all_layer_attn         0.170112               0.798563   \n",
              "1   attrib_vs_all_layer_attn         0.194801               0.817593   \n",
              "2   attrib_vs_all_layer_attn         0.120074               0.799616   \n",
              "3   attrib_vs_all_layer_attn         0.275004               0.831287   \n",
              "4     attrib_vs_layer12_attn         0.258871               0.807827   \n",
              "5     attrib_vs_layer12_attn         0.409346               0.834781   \n",
              "6     attrib_vs_layer12_attn         0.227269               0.811874   \n",
              "7     attrib_vs_layer12_attn         0.399018               0.856377   \n",
              "8       attrib_vs_lower_attn         0.074468               0.785569   \n",
              "9       attrib_vs_lower_attn         0.123476               0.806076   \n",
              "10      attrib_vs_lower_attn         0.102693               0.798156   \n",
              "11      attrib_vs_lower_attn         0.257957               0.828604   \n",
              "12      attrib_vs_upper_attn         0.233382               0.801003   \n",
              "13      attrib_vs_upper_attn         0.421118               0.822304   \n",
              "14      attrib_vs_upper_attn         0.304992               0.800179   \n",
              "15      attrib_vs_upper_attn         0.412499               0.859177   \n",
              "\n",
              "    mean_kendall_tau  mean_RBO  scaled  alnum_only  \n",
              "0           0.131172  0.539700   False       False  \n",
              "1           0.201592  0.607878   False        True  \n",
              "2           0.134198  0.542645    True       False  \n",
              "3           0.254399  0.651910    True        True  \n",
              "4           0.157007  0.552798   False       False  \n",
              "5           0.262536  0.649316   False        True  \n",
              "6           0.168294  0.557020    True       False  \n",
              "7           0.343450  0.703445    True        True  \n",
              "8           0.095789  0.528623   False       False  \n",
              "9           0.166703  0.593192   False        True  \n",
              "10          0.130196  0.541461    True       False  \n",
              "11          0.245163  0.646449    True        True  \n",
              "12          0.137813  0.541053   False       False  \n",
              "13          0.217510  0.617760   False        True  \n",
              "14          0.135647  0.540826    True       False  \n",
              "15          0.356239  0.715535    True        True  "
            ],
            "text/html": [
              "\n",
              "  <div id=\"df-562883b4-75ce-4115-b250-fafa7a73c771\">\n",
              "    <div class=\"colab-df-container\">\n",
              "      <div>\n",
              "<style scoped>\n",
              "    .dataframe tbody tr th:only-of-type {\n",
              "        vertical-align: middle;\n",
              "    }\n",
              "\n",
              "    .dataframe tbody tr th {\n",
              "        vertical-align: top;\n",
              "    }\n",
              "\n",
              "    .dataframe thead th {\n",
              "        text-align: right;\n",
              "    }\n",
              "</style>\n",
              "<table border=\"1\" class=\"dataframe\">\n",
              "  <thead>\n",
              "    <tr style=\"text-align: right;\">\n",
              "      <th></th>\n",
              "      <th>example</th>\n",
              "      <th>mean_cosine_sim</th>\n",
              "      <th>mean_cosine_sim_ranks</th>\n",
              "      <th>mean_kendall_tau</th>\n",
              "      <th>mean_RBO</th>\n",
              "      <th>scaled</th>\n",
              "      <th>alnum_only</th>\n",
              "    </tr>\n",
              "  </thead>\n",
              "  <tbody>\n",
              "    <tr>\n",
              "      <th>0</th>\n",
              "      <td>attrib_vs_all_layer_attn</td>\n",
              "      <td>0.170112</td>\n",
              "      <td>0.798563</td>\n",
              "      <td>0.131172</td>\n",
              "      <td>0.539700</td>\n",
              "      <td>False</td>\n",
              "      <td>False</td>\n",
              "    </tr>\n",
              "    <tr>\n",
              "      <th>1</th>\n",
              "      <td>attrib_vs_all_layer_attn</td>\n",
              "      <td>0.194801</td>\n",
              "      <td>0.817593</td>\n",
              "      <td>0.201592</td>\n",
              "      <td>0.607878</td>\n",
              "      <td>False</td>\n",
              "      <td>True</td>\n",
              "    </tr>\n",
              "    <tr>\n",
              "      <th>2</th>\n",
              "      <td>attrib_vs_all_layer_attn</td>\n",
              "      <td>0.120074</td>\n",
              "      <td>0.799616</td>\n",
              "      <td>0.134198</td>\n",
              "      <td>0.542645</td>\n",
              "      <td>True</td>\n",
              "      <td>False</td>\n",
              "    </tr>\n",
              "    <tr>\n",
              "      <th>3</th>\n",
              "      <td>attrib_vs_all_layer_attn</td>\n",
              "      <td>0.275004</td>\n",
              "      <td>0.831287</td>\n",
              "      <td>0.254399</td>\n",
              "      <td>0.651910</td>\n",
              "      <td>True</td>\n",
              "      <td>True</td>\n",
              "    </tr>\n",
              "    <tr>\n",
              "      <th>4</th>\n",
              "      <td>attrib_vs_layer12_attn</td>\n",
              "      <td>0.258871</td>\n",
              "      <td>0.807827</td>\n",
              "      <td>0.157007</td>\n",
              "      <td>0.552798</td>\n",
              "      <td>False</td>\n",
              "      <td>False</td>\n",
              "    </tr>\n",
              "    <tr>\n",
              "      <th>5</th>\n",
              "      <td>attrib_vs_layer12_attn</td>\n",
              "      <td>0.409346</td>\n",
              "      <td>0.834781</td>\n",
              "      <td>0.262536</td>\n",
              "      <td>0.649316</td>\n",
              "      <td>False</td>\n",
              "      <td>True</td>\n",
              "    </tr>\n",
              "    <tr>\n",
              "      <th>6</th>\n",
              "      <td>attrib_vs_layer12_attn</td>\n",
              "      <td>0.227269</td>\n",
              "      <td>0.811874</td>\n",
              "      <td>0.168294</td>\n",
              "      <td>0.557020</td>\n",
              "      <td>True</td>\n",
              "      <td>False</td>\n",
              "    </tr>\n",
              "    <tr>\n",
              "      <th>7</th>\n",
              "      <td>attrib_vs_layer12_attn</td>\n",
              "      <td>0.399018</td>\n",
              "      <td>0.856377</td>\n",
              "      <td>0.343450</td>\n",
              "      <td>0.703445</td>\n",
              "      <td>True</td>\n",
              "      <td>True</td>\n",
              "    </tr>\n",
              "    <tr>\n",
              "      <th>8</th>\n",
              "      <td>attrib_vs_lower_attn</td>\n",
              "      <td>0.074468</td>\n",
              "      <td>0.785569</td>\n",
              "      <td>0.095789</td>\n",
              "      <td>0.528623</td>\n",
              "      <td>False</td>\n",
              "      <td>False</td>\n",
              "    </tr>\n",
              "    <tr>\n",
              "      <th>9</th>\n",
              "      <td>attrib_vs_lower_attn</td>\n",
              "      <td>0.123476</td>\n",
              "      <td>0.806076</td>\n",
              "      <td>0.166703</td>\n",
              "      <td>0.593192</td>\n",
              "      <td>False</td>\n",
              "      <td>True</td>\n",
              "    </tr>\n",
              "    <tr>\n",
              "      <th>10</th>\n",
              "      <td>attrib_vs_lower_attn</td>\n",
              "      <td>0.102693</td>\n",
              "      <td>0.798156</td>\n",
              "      <td>0.130196</td>\n",
              "      <td>0.541461</td>\n",
              "      <td>True</td>\n",
              "      <td>False</td>\n",
              "    </tr>\n",
              "    <tr>\n",
              "      <th>11</th>\n",
              "      <td>attrib_vs_lower_attn</td>\n",
              "      <td>0.257957</td>\n",
              "      <td>0.828604</td>\n",
              "      <td>0.245163</td>\n",
              "      <td>0.646449</td>\n",
              "      <td>True</td>\n",
              "      <td>True</td>\n",
              "    </tr>\n",
              "    <tr>\n",
              "      <th>12</th>\n",
              "      <td>attrib_vs_upper_attn</td>\n",
              "      <td>0.233382</td>\n",
              "      <td>0.801003</td>\n",
              "      <td>0.137813</td>\n",
              "      <td>0.541053</td>\n",
              "      <td>False</td>\n",
              "      <td>False</td>\n",
              "    </tr>\n",
              "    <tr>\n",
              "      <th>13</th>\n",
              "      <td>attrib_vs_upper_attn</td>\n",
              "      <td>0.421118</td>\n",
              "      <td>0.822304</td>\n",
              "      <td>0.217510</td>\n",
              "      <td>0.617760</td>\n",
              "      <td>False</td>\n",
              "      <td>True</td>\n",
              "    </tr>\n",
              "    <tr>\n",
              "      <th>14</th>\n",
              "      <td>attrib_vs_upper_attn</td>\n",
              "      <td>0.304992</td>\n",
              "      <td>0.800179</td>\n",
              "      <td>0.135647</td>\n",
              "      <td>0.540826</td>\n",
              "      <td>True</td>\n",
              "      <td>False</td>\n",
              "    </tr>\n",
              "    <tr>\n",
              "      <th>15</th>\n",
              "      <td>attrib_vs_upper_attn</td>\n",
              "      <td>0.412499</td>\n",
              "      <td>0.859177</td>\n",
              "      <td>0.356239</td>\n",
              "      <td>0.715535</td>\n",
              "      <td>True</td>\n",
              "      <td>True</td>\n",
              "    </tr>\n",
              "  </tbody>\n",
              "</table>\n",
              "</div>\n",
              "      <button class=\"colab-df-convert\" onclick=\"convertToInteractive('df-562883b4-75ce-4115-b250-fafa7a73c771')\"\n",
              "              title=\"Convert this dataframe to an interactive table.\"\n",
              "              style=\"display:none;\">\n",
              "        \n",
              "  <svg xmlns=\"http://www.w3.org/2000/svg\" height=\"24px\"viewBox=\"0 0 24 24\"\n",
              "       width=\"24px\">\n",
              "    <path d=\"M0 0h24v24H0V0z\" fill=\"none\"/>\n",
              "    <path d=\"M18.56 5.44l.94 2.06.94-2.06 2.06-.94-2.06-.94-.94-2.06-.94 2.06-2.06.94zm-11 1L8.5 8.5l.94-2.06 2.06-.94-2.06-.94L8.5 2.5l-.94 2.06-2.06.94zm10 10l.94 2.06.94-2.06 2.06-.94-2.06-.94-.94-2.06-.94 2.06-2.06.94z\"/><path d=\"M17.41 7.96l-1.37-1.37c-.4-.4-.92-.59-1.43-.59-.52 0-1.04.2-1.43.59L10.3 9.45l-7.72 7.72c-.78.78-.78 2.05 0 2.83L4 21.41c.39.39.9.59 1.41.59.51 0 1.02-.2 1.41-.59l7.78-7.78 2.81-2.81c.8-.78.8-2.07 0-2.86zM5.41 20L4 18.59l7.72-7.72 1.47 1.35L5.41 20z\"/>\n",
              "  </svg>\n",
              "      </button>\n",
              "      \n",
              "  <style>\n",
              "    .colab-df-container {\n",
              "      display:flex;\n",
              "      flex-wrap:wrap;\n",
              "      gap: 12px;\n",
              "    }\n",
              "\n",
              "    .colab-df-convert {\n",
              "      background-color: #E8F0FE;\n",
              "      border: none;\n",
              "      border-radius: 50%;\n",
              "      cursor: pointer;\n",
              "      display: none;\n",
              "      fill: #1967D2;\n",
              "      height: 32px;\n",
              "      padding: 0 0 0 0;\n",
              "      width: 32px;\n",
              "    }\n",
              "\n",
              "    .colab-df-convert:hover {\n",
              "      background-color: #E2EBFA;\n",
              "      box-shadow: 0px 1px 2px rgba(60, 64, 67, 0.3), 0px 1px 3px 1px rgba(60, 64, 67, 0.15);\n",
              "      fill: #174EA6;\n",
              "    }\n",
              "\n",
              "    [theme=dark] .colab-df-convert {\n",
              "      background-color: #3B4455;\n",
              "      fill: #D2E3FC;\n",
              "    }\n",
              "\n",
              "    [theme=dark] .colab-df-convert:hover {\n",
              "      background-color: #434B5C;\n",
              "      box-shadow: 0px 1px 3px 1px rgba(0, 0, 0, 0.15);\n",
              "      filter: drop-shadow(0px 1px 2px rgba(0, 0, 0, 0.3));\n",
              "      fill: #FFFFFF;\n",
              "    }\n",
              "  </style>\n",
              "\n",
              "      <script>\n",
              "        const buttonEl =\n",
              "          document.querySelector('#df-562883b4-75ce-4115-b250-fafa7a73c771 button.colab-df-convert');\n",
              "        buttonEl.style.display =\n",
              "          google.colab.kernel.accessAllowed ? 'block' : 'none';\n",
              "\n",
              "        async function convertToInteractive(key) {\n",
              "          const element = document.querySelector('#df-562883b4-75ce-4115-b250-fafa7a73c771');\n",
              "          const dataTable =\n",
              "            await google.colab.kernel.invokeFunction('convertToInteractive',\n",
              "                                                     [key], {});\n",
              "          if (!dataTable) return;\n",
              "\n",
              "          const docLinkHtml = 'Like what you see? Visit the ' +\n",
              "            '<a target=\"_blank\" href=https://colab.research.google.com/notebooks/data_table.ipynb>data table notebook</a>'\n",
              "            + ' to learn more about interactive tables.';\n",
              "          element.innerHTML = '';\n",
              "          dataTable['output_type'] = 'display_data';\n",
              "          await google.colab.output.renderOutput(dataTable, element);\n",
              "          const docLink = document.createElement('div');\n",
              "          docLink.innerHTML = docLinkHtml;\n",
              "          element.appendChild(docLink);\n",
              "        }\n",
              "      </script>\n",
              "    </div>\n",
              "  </div>\n",
              "  "
            ]
          },
          "metadata": {},
          "execution_count": 233
        }
      ]
    },
    {
      "cell_type": "code",
      "source": [
        "df_previous.loc[(df_previous[\"alnum_only\"] == True)]"
      ],
      "metadata": {
        "colab": {
          "base_uri": "https://localhost:8080/",
          "height": 300
        },
        "id": "-eVM1aZoFLYI",
        "outputId": "e3cc34ce-440e-42c4-efbb-4c7b062750a0"
      },
      "execution_count": null,
      "outputs": [
        {
          "output_type": "execute_result",
          "data": {
            "text/plain": [
              "                     example  mean_cosine_sim  mean_cosine_sim_ranks  \\\n",
              "1   attrib_vs_all_layer_attn         0.194801               0.817593   \n",
              "3   attrib_vs_all_layer_attn         0.275004               0.831287   \n",
              "5     attrib_vs_layer12_attn         0.409346               0.834781   \n",
              "7     attrib_vs_layer12_attn         0.399018               0.856377   \n",
              "9       attrib_vs_lower_attn         0.123476               0.806076   \n",
              "11      attrib_vs_lower_attn         0.257957               0.828604   \n",
              "13      attrib_vs_upper_attn         0.421118               0.822304   \n",
              "15      attrib_vs_upper_attn         0.412499               0.859177   \n",
              "\n",
              "    mean_kendall_tau  mean_RBO  scaled  alnum_only  \n",
              "1           0.201592  0.607878   False        True  \n",
              "3           0.254399  0.651910    True        True  \n",
              "5           0.262536  0.649316   False        True  \n",
              "7           0.343450  0.703445    True        True  \n",
              "9           0.166703  0.593192   False        True  \n",
              "11          0.245163  0.646449    True        True  \n",
              "13          0.217510  0.617760   False        True  \n",
              "15          0.356239  0.715535    True        True  "
            ],
            "text/html": [
              "\n",
              "  <div id=\"df-49718b81-ba2a-4e53-88fd-c262f766b770\">\n",
              "    <div class=\"colab-df-container\">\n",
              "      <div>\n",
              "<style scoped>\n",
              "    .dataframe tbody tr th:only-of-type {\n",
              "        vertical-align: middle;\n",
              "    }\n",
              "\n",
              "    .dataframe tbody tr th {\n",
              "        vertical-align: top;\n",
              "    }\n",
              "\n",
              "    .dataframe thead th {\n",
              "        text-align: right;\n",
              "    }\n",
              "</style>\n",
              "<table border=\"1\" class=\"dataframe\">\n",
              "  <thead>\n",
              "    <tr style=\"text-align: right;\">\n",
              "      <th></th>\n",
              "      <th>example</th>\n",
              "      <th>mean_cosine_sim</th>\n",
              "      <th>mean_cosine_sim_ranks</th>\n",
              "      <th>mean_kendall_tau</th>\n",
              "      <th>mean_RBO</th>\n",
              "      <th>scaled</th>\n",
              "      <th>alnum_only</th>\n",
              "    </tr>\n",
              "  </thead>\n",
              "  <tbody>\n",
              "    <tr>\n",
              "      <th>1</th>\n",
              "      <td>attrib_vs_all_layer_attn</td>\n",
              "      <td>0.194801</td>\n",
              "      <td>0.817593</td>\n",
              "      <td>0.201592</td>\n",
              "      <td>0.607878</td>\n",
              "      <td>False</td>\n",
              "      <td>True</td>\n",
              "    </tr>\n",
              "    <tr>\n",
              "      <th>3</th>\n",
              "      <td>attrib_vs_all_layer_attn</td>\n",
              "      <td>0.275004</td>\n",
              "      <td>0.831287</td>\n",
              "      <td>0.254399</td>\n",
              "      <td>0.651910</td>\n",
              "      <td>True</td>\n",
              "      <td>True</td>\n",
              "    </tr>\n",
              "    <tr>\n",
              "      <th>5</th>\n",
              "      <td>attrib_vs_layer12_attn</td>\n",
              "      <td>0.409346</td>\n",
              "      <td>0.834781</td>\n",
              "      <td>0.262536</td>\n",
              "      <td>0.649316</td>\n",
              "      <td>False</td>\n",
              "      <td>True</td>\n",
              "    </tr>\n",
              "    <tr>\n",
              "      <th>7</th>\n",
              "      <td>attrib_vs_layer12_attn</td>\n",
              "      <td>0.399018</td>\n",
              "      <td>0.856377</td>\n",
              "      <td>0.343450</td>\n",
              "      <td>0.703445</td>\n",
              "      <td>True</td>\n",
              "      <td>True</td>\n",
              "    </tr>\n",
              "    <tr>\n",
              "      <th>9</th>\n",
              "      <td>attrib_vs_lower_attn</td>\n",
              "      <td>0.123476</td>\n",
              "      <td>0.806076</td>\n",
              "      <td>0.166703</td>\n",
              "      <td>0.593192</td>\n",
              "      <td>False</td>\n",
              "      <td>True</td>\n",
              "    </tr>\n",
              "    <tr>\n",
              "      <th>11</th>\n",
              "      <td>attrib_vs_lower_attn</td>\n",
              "      <td>0.257957</td>\n",
              "      <td>0.828604</td>\n",
              "      <td>0.245163</td>\n",
              "      <td>0.646449</td>\n",
              "      <td>True</td>\n",
              "      <td>True</td>\n",
              "    </tr>\n",
              "    <tr>\n",
              "      <th>13</th>\n",
              "      <td>attrib_vs_upper_attn</td>\n",
              "      <td>0.421118</td>\n",
              "      <td>0.822304</td>\n",
              "      <td>0.217510</td>\n",
              "      <td>0.617760</td>\n",
              "      <td>False</td>\n",
              "      <td>True</td>\n",
              "    </tr>\n",
              "    <tr>\n",
              "      <th>15</th>\n",
              "      <td>attrib_vs_upper_attn</td>\n",
              "      <td>0.412499</td>\n",
              "      <td>0.859177</td>\n",
              "      <td>0.356239</td>\n",
              "      <td>0.715535</td>\n",
              "      <td>True</td>\n",
              "      <td>True</td>\n",
              "    </tr>\n",
              "  </tbody>\n",
              "</table>\n",
              "</div>\n",
              "      <button class=\"colab-df-convert\" onclick=\"convertToInteractive('df-49718b81-ba2a-4e53-88fd-c262f766b770')\"\n",
              "              title=\"Convert this dataframe to an interactive table.\"\n",
              "              style=\"display:none;\">\n",
              "        \n",
              "  <svg xmlns=\"http://www.w3.org/2000/svg\" height=\"24px\"viewBox=\"0 0 24 24\"\n",
              "       width=\"24px\">\n",
              "    <path d=\"M0 0h24v24H0V0z\" fill=\"none\"/>\n",
              "    <path d=\"M18.56 5.44l.94 2.06.94-2.06 2.06-.94-2.06-.94-.94-2.06-.94 2.06-2.06.94zm-11 1L8.5 8.5l.94-2.06 2.06-.94-2.06-.94L8.5 2.5l-.94 2.06-2.06.94zm10 10l.94 2.06.94-2.06 2.06-.94-2.06-.94-.94-2.06-.94 2.06-2.06.94z\"/><path d=\"M17.41 7.96l-1.37-1.37c-.4-.4-.92-.59-1.43-.59-.52 0-1.04.2-1.43.59L10.3 9.45l-7.72 7.72c-.78.78-.78 2.05 0 2.83L4 21.41c.39.39.9.59 1.41.59.51 0 1.02-.2 1.41-.59l7.78-7.78 2.81-2.81c.8-.78.8-2.07 0-2.86zM5.41 20L4 18.59l7.72-7.72 1.47 1.35L5.41 20z\"/>\n",
              "  </svg>\n",
              "      </button>\n",
              "      \n",
              "  <style>\n",
              "    .colab-df-container {\n",
              "      display:flex;\n",
              "      flex-wrap:wrap;\n",
              "      gap: 12px;\n",
              "    }\n",
              "\n",
              "    .colab-df-convert {\n",
              "      background-color: #E8F0FE;\n",
              "      border: none;\n",
              "      border-radius: 50%;\n",
              "      cursor: pointer;\n",
              "      display: none;\n",
              "      fill: #1967D2;\n",
              "      height: 32px;\n",
              "      padding: 0 0 0 0;\n",
              "      width: 32px;\n",
              "    }\n",
              "\n",
              "    .colab-df-convert:hover {\n",
              "      background-color: #E2EBFA;\n",
              "      box-shadow: 0px 1px 2px rgba(60, 64, 67, 0.3), 0px 1px 3px 1px rgba(60, 64, 67, 0.15);\n",
              "      fill: #174EA6;\n",
              "    }\n",
              "\n",
              "    [theme=dark] .colab-df-convert {\n",
              "      background-color: #3B4455;\n",
              "      fill: #D2E3FC;\n",
              "    }\n",
              "\n",
              "    [theme=dark] .colab-df-convert:hover {\n",
              "      background-color: #434B5C;\n",
              "      box-shadow: 0px 1px 3px 1px rgba(0, 0, 0, 0.15);\n",
              "      filter: drop-shadow(0px 1px 2px rgba(0, 0, 0, 0.3));\n",
              "      fill: #FFFFFF;\n",
              "    }\n",
              "  </style>\n",
              "\n",
              "      <script>\n",
              "        const buttonEl =\n",
              "          document.querySelector('#df-49718b81-ba2a-4e53-88fd-c262f766b770 button.colab-df-convert');\n",
              "        buttonEl.style.display =\n",
              "          google.colab.kernel.accessAllowed ? 'block' : 'none';\n",
              "\n",
              "        async function convertToInteractive(key) {\n",
              "          const element = document.querySelector('#df-49718b81-ba2a-4e53-88fd-c262f766b770');\n",
              "          const dataTable =\n",
              "            await google.colab.kernel.invokeFunction('convertToInteractive',\n",
              "                                                     [key], {});\n",
              "          if (!dataTable) return;\n",
              "\n",
              "          const docLinkHtml = 'Like what you see? Visit the ' +\n",
              "            '<a target=\"_blank\" href=https://colab.research.google.com/notebooks/data_table.ipynb>data table notebook</a>'\n",
              "            + ' to learn more about interactive tables.';\n",
              "          element.innerHTML = '';\n",
              "          dataTable['output_type'] = 'display_data';\n",
              "          await google.colab.output.renderOutput(dataTable, element);\n",
              "          const docLink = document.createElement('div');\n",
              "          docLink.innerHTML = docLinkHtml;\n",
              "          element.appendChild(docLink);\n",
              "        }\n",
              "      </script>\n",
              "    </div>\n",
              "  </div>\n",
              "  "
            ]
          },
          "metadata": {},
          "execution_count": 234
        }
      ]
    },
    {
      "cell_type": "code",
      "source": [
        "df_previous.loc[(df_previous[\"alnum_only\"] == False)]"
      ],
      "metadata": {
        "colab": {
          "base_uri": "https://localhost:8080/",
          "height": 300
        },
        "id": "zI1A0DQLH7e1",
        "outputId": "817dc3c5-bded-414b-e29f-15086888b58a"
      },
      "execution_count": null,
      "outputs": [
        {
          "output_type": "execute_result",
          "data": {
            "text/plain": [
              "                     example  mean_cosine_sim  mean_cosine_sim_ranks  \\\n",
              "0   attrib_vs_all_layer_attn         0.170112               0.798563   \n",
              "2   attrib_vs_all_layer_attn         0.120074               0.799616   \n",
              "4     attrib_vs_layer12_attn         0.258871               0.807827   \n",
              "6     attrib_vs_layer12_attn         0.227269               0.811874   \n",
              "8       attrib_vs_lower_attn         0.074468               0.785569   \n",
              "10      attrib_vs_lower_attn         0.102693               0.798156   \n",
              "12      attrib_vs_upper_attn         0.233382               0.801003   \n",
              "14      attrib_vs_upper_attn         0.304992               0.800179   \n",
              "\n",
              "    mean_kendall_tau  mean_RBO  scaled  alnum_only  \n",
              "0           0.131172  0.539700   False       False  \n",
              "2           0.134198  0.542645    True       False  \n",
              "4           0.157007  0.552798   False       False  \n",
              "6           0.168294  0.557020    True       False  \n",
              "8           0.095789  0.528623   False       False  \n",
              "10          0.130196  0.541461    True       False  \n",
              "12          0.137813  0.541053   False       False  \n",
              "14          0.135647  0.540826    True       False  "
            ],
            "text/html": [
              "\n",
              "  <div id=\"df-ce517a78-c7e3-4943-93dd-187130dfff0c\">\n",
              "    <div class=\"colab-df-container\">\n",
              "      <div>\n",
              "<style scoped>\n",
              "    .dataframe tbody tr th:only-of-type {\n",
              "        vertical-align: middle;\n",
              "    }\n",
              "\n",
              "    .dataframe tbody tr th {\n",
              "        vertical-align: top;\n",
              "    }\n",
              "\n",
              "    .dataframe thead th {\n",
              "        text-align: right;\n",
              "    }\n",
              "</style>\n",
              "<table border=\"1\" class=\"dataframe\">\n",
              "  <thead>\n",
              "    <tr style=\"text-align: right;\">\n",
              "      <th></th>\n",
              "      <th>example</th>\n",
              "      <th>mean_cosine_sim</th>\n",
              "      <th>mean_cosine_sim_ranks</th>\n",
              "      <th>mean_kendall_tau</th>\n",
              "      <th>mean_RBO</th>\n",
              "      <th>scaled</th>\n",
              "      <th>alnum_only</th>\n",
              "    </tr>\n",
              "  </thead>\n",
              "  <tbody>\n",
              "    <tr>\n",
              "      <th>0</th>\n",
              "      <td>attrib_vs_all_layer_attn</td>\n",
              "      <td>0.170112</td>\n",
              "      <td>0.798563</td>\n",
              "      <td>0.131172</td>\n",
              "      <td>0.539700</td>\n",
              "      <td>False</td>\n",
              "      <td>False</td>\n",
              "    </tr>\n",
              "    <tr>\n",
              "      <th>2</th>\n",
              "      <td>attrib_vs_all_layer_attn</td>\n",
              "      <td>0.120074</td>\n",
              "      <td>0.799616</td>\n",
              "      <td>0.134198</td>\n",
              "      <td>0.542645</td>\n",
              "      <td>True</td>\n",
              "      <td>False</td>\n",
              "    </tr>\n",
              "    <tr>\n",
              "      <th>4</th>\n",
              "      <td>attrib_vs_layer12_attn</td>\n",
              "      <td>0.258871</td>\n",
              "      <td>0.807827</td>\n",
              "      <td>0.157007</td>\n",
              "      <td>0.552798</td>\n",
              "      <td>False</td>\n",
              "      <td>False</td>\n",
              "    </tr>\n",
              "    <tr>\n",
              "      <th>6</th>\n",
              "      <td>attrib_vs_layer12_attn</td>\n",
              "      <td>0.227269</td>\n",
              "      <td>0.811874</td>\n",
              "      <td>0.168294</td>\n",
              "      <td>0.557020</td>\n",
              "      <td>True</td>\n",
              "      <td>False</td>\n",
              "    </tr>\n",
              "    <tr>\n",
              "      <th>8</th>\n",
              "      <td>attrib_vs_lower_attn</td>\n",
              "      <td>0.074468</td>\n",
              "      <td>0.785569</td>\n",
              "      <td>0.095789</td>\n",
              "      <td>0.528623</td>\n",
              "      <td>False</td>\n",
              "      <td>False</td>\n",
              "    </tr>\n",
              "    <tr>\n",
              "      <th>10</th>\n",
              "      <td>attrib_vs_lower_attn</td>\n",
              "      <td>0.102693</td>\n",
              "      <td>0.798156</td>\n",
              "      <td>0.130196</td>\n",
              "      <td>0.541461</td>\n",
              "      <td>True</td>\n",
              "      <td>False</td>\n",
              "    </tr>\n",
              "    <tr>\n",
              "      <th>12</th>\n",
              "      <td>attrib_vs_upper_attn</td>\n",
              "      <td>0.233382</td>\n",
              "      <td>0.801003</td>\n",
              "      <td>0.137813</td>\n",
              "      <td>0.541053</td>\n",
              "      <td>False</td>\n",
              "      <td>False</td>\n",
              "    </tr>\n",
              "    <tr>\n",
              "      <th>14</th>\n",
              "      <td>attrib_vs_upper_attn</td>\n",
              "      <td>0.304992</td>\n",
              "      <td>0.800179</td>\n",
              "      <td>0.135647</td>\n",
              "      <td>0.540826</td>\n",
              "      <td>True</td>\n",
              "      <td>False</td>\n",
              "    </tr>\n",
              "  </tbody>\n",
              "</table>\n",
              "</div>\n",
              "      <button class=\"colab-df-convert\" onclick=\"convertToInteractive('df-ce517a78-c7e3-4943-93dd-187130dfff0c')\"\n",
              "              title=\"Convert this dataframe to an interactive table.\"\n",
              "              style=\"display:none;\">\n",
              "        \n",
              "  <svg xmlns=\"http://www.w3.org/2000/svg\" height=\"24px\"viewBox=\"0 0 24 24\"\n",
              "       width=\"24px\">\n",
              "    <path d=\"M0 0h24v24H0V0z\" fill=\"none\"/>\n",
              "    <path d=\"M18.56 5.44l.94 2.06.94-2.06 2.06-.94-2.06-.94-.94-2.06-.94 2.06-2.06.94zm-11 1L8.5 8.5l.94-2.06 2.06-.94-2.06-.94L8.5 2.5l-.94 2.06-2.06.94zm10 10l.94 2.06.94-2.06 2.06-.94-2.06-.94-.94-2.06-.94 2.06-2.06.94z\"/><path d=\"M17.41 7.96l-1.37-1.37c-.4-.4-.92-.59-1.43-.59-.52 0-1.04.2-1.43.59L10.3 9.45l-7.72 7.72c-.78.78-.78 2.05 0 2.83L4 21.41c.39.39.9.59 1.41.59.51 0 1.02-.2 1.41-.59l7.78-7.78 2.81-2.81c.8-.78.8-2.07 0-2.86zM5.41 20L4 18.59l7.72-7.72 1.47 1.35L5.41 20z\"/>\n",
              "  </svg>\n",
              "      </button>\n",
              "      \n",
              "  <style>\n",
              "    .colab-df-container {\n",
              "      display:flex;\n",
              "      flex-wrap:wrap;\n",
              "      gap: 12px;\n",
              "    }\n",
              "\n",
              "    .colab-df-convert {\n",
              "      background-color: #E8F0FE;\n",
              "      border: none;\n",
              "      border-radius: 50%;\n",
              "      cursor: pointer;\n",
              "      display: none;\n",
              "      fill: #1967D2;\n",
              "      height: 32px;\n",
              "      padding: 0 0 0 0;\n",
              "      width: 32px;\n",
              "    }\n",
              "\n",
              "    .colab-df-convert:hover {\n",
              "      background-color: #E2EBFA;\n",
              "      box-shadow: 0px 1px 2px rgba(60, 64, 67, 0.3), 0px 1px 3px 1px rgba(60, 64, 67, 0.15);\n",
              "      fill: #174EA6;\n",
              "    }\n",
              "\n",
              "    [theme=dark] .colab-df-convert {\n",
              "      background-color: #3B4455;\n",
              "      fill: #D2E3FC;\n",
              "    }\n",
              "\n",
              "    [theme=dark] .colab-df-convert:hover {\n",
              "      background-color: #434B5C;\n",
              "      box-shadow: 0px 1px 3px 1px rgba(0, 0, 0, 0.15);\n",
              "      filter: drop-shadow(0px 1px 2px rgba(0, 0, 0, 0.3));\n",
              "      fill: #FFFFFF;\n",
              "    }\n",
              "  </style>\n",
              "\n",
              "      <script>\n",
              "        const buttonEl =\n",
              "          document.querySelector('#df-ce517a78-c7e3-4943-93dd-187130dfff0c button.colab-df-convert');\n",
              "        buttonEl.style.display =\n",
              "          google.colab.kernel.accessAllowed ? 'block' : 'none';\n",
              "\n",
              "        async function convertToInteractive(key) {\n",
              "          const element = document.querySelector('#df-ce517a78-c7e3-4943-93dd-187130dfff0c');\n",
              "          const dataTable =\n",
              "            await google.colab.kernel.invokeFunction('convertToInteractive',\n",
              "                                                     [key], {});\n",
              "          if (!dataTable) return;\n",
              "\n",
              "          const docLinkHtml = 'Like what you see? Visit the ' +\n",
              "            '<a target=\"_blank\" href=https://colab.research.google.com/notebooks/data_table.ipynb>data table notebook</a>'\n",
              "            + ' to learn more about interactive tables.';\n",
              "          element.innerHTML = '';\n",
              "          dataTable['output_type'] = 'display_data';\n",
              "          await google.colab.output.renderOutput(dataTable, element);\n",
              "          const docLink = document.createElement('div');\n",
              "          docLink.innerHTML = docLinkHtml;\n",
              "          element.appendChild(docLink);\n",
              "        }\n",
              "      </script>\n",
              "    </div>\n",
              "  </div>\n",
              "  "
            ]
          },
          "metadata": {},
          "execution_count": 235
        }
      ]
    },
    {
      "cell_type": "markdown",
      "source": [
        "When we concatenate our two dataframes, we want to make sure we don't have any duplicate rows. We consider it a duplicate if two rows have the same example, have the same value for scaled, and the same value for alnum_only. If we find a do find duplicate rows based on the above conditions, the last occuring instance of the row, which is the instance that was obtained earlier in the notebook (and not the instance that was read from file), is kept in the dataframe."
      ],
      "metadata": {
        "id": "vvy8NkJYVeta"
      }
    },
    {
      "cell_type": "code",
      "source": [
        "df_final = pd.concat([df_previous, df_new], ignore_index=True)"
      ],
      "metadata": {
        "id": "tFTC8GOsSdOj"
      },
      "execution_count": null,
      "outputs": []
    },
    {
      "cell_type": "code",
      "source": [
        "df_final = df_final.drop_duplicates(['example', 'scaled', 'alnum_only'], keep='last').sort_values(['example', 'scaled'],\n",
        "              ascending = [True, True])"
      ],
      "metadata": {
        "id": "GXKKUdO3WID4"
      },
      "execution_count": null,
      "outputs": []
    },
    {
      "cell_type": "code",
      "source": [
        "df_final"
      ],
      "metadata": {
        "colab": {
          "base_uri": "https://localhost:8080/",
          "height": 551
        },
        "id": "LKt9BbUsUD-g",
        "outputId": "b185a79a-5311-447f-adaa-f0cdcc66db27"
      },
      "execution_count": null,
      "outputs": [
        {
          "output_type": "execute_result",
          "data": {
            "text/plain": [
              "                     example  mean_cosine_sim  mean_cosine_sim_ranks  \\\n",
              "0   attrib_vs_all_layer_attn         0.170112               0.798563   \n",
              "1   attrib_vs_all_layer_attn         0.194801               0.817593   \n",
              "2   attrib_vs_all_layer_attn         0.120074               0.799616   \n",
              "3   attrib_vs_all_layer_attn         0.275004               0.831287   \n",
              "4     attrib_vs_layer12_attn         0.258871               0.807827   \n",
              "5     attrib_vs_layer12_attn         0.409346               0.834781   \n",
              "6     attrib_vs_layer12_attn         0.227269               0.811874   \n",
              "7     attrib_vs_layer12_attn         0.399018               0.856377   \n",
              "16      attrib_vs_lower_attn         0.074468               0.785569   \n",
              "17      attrib_vs_lower_attn         0.123476               0.806076   \n",
              "18      attrib_vs_lower_attn         0.102693               0.798156   \n",
              "19      attrib_vs_lower_attn         0.257957               0.828603   \n",
              "20      attrib_vs_upper_attn         0.233382               0.801003   \n",
              "21      attrib_vs_upper_attn         0.421118               0.822304   \n",
              "22      attrib_vs_upper_attn         0.304992               0.800178   \n",
              "23      attrib_vs_upper_attn         0.412499               0.859177   \n",
              "\n",
              "    mean_kendall_tau  mean_RBO  scaled  alnum_only  \n",
              "0           0.131172  0.539700   False       False  \n",
              "1           0.201592  0.607878   False        True  \n",
              "2           0.134198  0.542645    True       False  \n",
              "3           0.254399  0.651910    True        True  \n",
              "4           0.157007  0.552798   False       False  \n",
              "5           0.262536  0.649316   False        True  \n",
              "6           0.168294  0.557020    True       False  \n",
              "7           0.343450  0.703445    True        True  \n",
              "16          0.095789  0.528623   False       False  \n",
              "17          0.166703  0.593192   False        True  \n",
              "18          0.130196  0.541461    True       False  \n",
              "19          0.245163  0.646449    True        True  \n",
              "20          0.137813  0.541053   False       False  \n",
              "21          0.217510  0.617760   False        True  \n",
              "22          0.135647  0.540826    True       False  \n",
              "23          0.356239  0.715535    True        True  "
            ],
            "text/html": [
              "\n",
              "  <div id=\"df-ee736b1d-bc4d-4d3f-b68b-6b9770fb9713\">\n",
              "    <div class=\"colab-df-container\">\n",
              "      <div>\n",
              "<style scoped>\n",
              "    .dataframe tbody tr th:only-of-type {\n",
              "        vertical-align: middle;\n",
              "    }\n",
              "\n",
              "    .dataframe tbody tr th {\n",
              "        vertical-align: top;\n",
              "    }\n",
              "\n",
              "    .dataframe thead th {\n",
              "        text-align: right;\n",
              "    }\n",
              "</style>\n",
              "<table border=\"1\" class=\"dataframe\">\n",
              "  <thead>\n",
              "    <tr style=\"text-align: right;\">\n",
              "      <th></th>\n",
              "      <th>example</th>\n",
              "      <th>mean_cosine_sim</th>\n",
              "      <th>mean_cosine_sim_ranks</th>\n",
              "      <th>mean_kendall_tau</th>\n",
              "      <th>mean_RBO</th>\n",
              "      <th>scaled</th>\n",
              "      <th>alnum_only</th>\n",
              "    </tr>\n",
              "  </thead>\n",
              "  <tbody>\n",
              "    <tr>\n",
              "      <th>0</th>\n",
              "      <td>attrib_vs_all_layer_attn</td>\n",
              "      <td>0.170112</td>\n",
              "      <td>0.798563</td>\n",
              "      <td>0.131172</td>\n",
              "      <td>0.539700</td>\n",
              "      <td>False</td>\n",
              "      <td>False</td>\n",
              "    </tr>\n",
              "    <tr>\n",
              "      <th>1</th>\n",
              "      <td>attrib_vs_all_layer_attn</td>\n",
              "      <td>0.194801</td>\n",
              "      <td>0.817593</td>\n",
              "      <td>0.201592</td>\n",
              "      <td>0.607878</td>\n",
              "      <td>False</td>\n",
              "      <td>True</td>\n",
              "    </tr>\n",
              "    <tr>\n",
              "      <th>2</th>\n",
              "      <td>attrib_vs_all_layer_attn</td>\n",
              "      <td>0.120074</td>\n",
              "      <td>0.799616</td>\n",
              "      <td>0.134198</td>\n",
              "      <td>0.542645</td>\n",
              "      <td>True</td>\n",
              "      <td>False</td>\n",
              "    </tr>\n",
              "    <tr>\n",
              "      <th>3</th>\n",
              "      <td>attrib_vs_all_layer_attn</td>\n",
              "      <td>0.275004</td>\n",
              "      <td>0.831287</td>\n",
              "      <td>0.254399</td>\n",
              "      <td>0.651910</td>\n",
              "      <td>True</td>\n",
              "      <td>True</td>\n",
              "    </tr>\n",
              "    <tr>\n",
              "      <th>4</th>\n",
              "      <td>attrib_vs_layer12_attn</td>\n",
              "      <td>0.258871</td>\n",
              "      <td>0.807827</td>\n",
              "      <td>0.157007</td>\n",
              "      <td>0.552798</td>\n",
              "      <td>False</td>\n",
              "      <td>False</td>\n",
              "    </tr>\n",
              "    <tr>\n",
              "      <th>5</th>\n",
              "      <td>attrib_vs_layer12_attn</td>\n",
              "      <td>0.409346</td>\n",
              "      <td>0.834781</td>\n",
              "      <td>0.262536</td>\n",
              "      <td>0.649316</td>\n",
              "      <td>False</td>\n",
              "      <td>True</td>\n",
              "    </tr>\n",
              "    <tr>\n",
              "      <th>6</th>\n",
              "      <td>attrib_vs_layer12_attn</td>\n",
              "      <td>0.227269</td>\n",
              "      <td>0.811874</td>\n",
              "      <td>0.168294</td>\n",
              "      <td>0.557020</td>\n",
              "      <td>True</td>\n",
              "      <td>False</td>\n",
              "    </tr>\n",
              "    <tr>\n",
              "      <th>7</th>\n",
              "      <td>attrib_vs_layer12_attn</td>\n",
              "      <td>0.399018</td>\n",
              "      <td>0.856377</td>\n",
              "      <td>0.343450</td>\n",
              "      <td>0.703445</td>\n",
              "      <td>True</td>\n",
              "      <td>True</td>\n",
              "    </tr>\n",
              "    <tr>\n",
              "      <th>16</th>\n",
              "      <td>attrib_vs_lower_attn</td>\n",
              "      <td>0.074468</td>\n",
              "      <td>0.785569</td>\n",
              "      <td>0.095789</td>\n",
              "      <td>0.528623</td>\n",
              "      <td>False</td>\n",
              "      <td>False</td>\n",
              "    </tr>\n",
              "    <tr>\n",
              "      <th>17</th>\n",
              "      <td>attrib_vs_lower_attn</td>\n",
              "      <td>0.123476</td>\n",
              "      <td>0.806076</td>\n",
              "      <td>0.166703</td>\n",
              "      <td>0.593192</td>\n",
              "      <td>False</td>\n",
              "      <td>True</td>\n",
              "    </tr>\n",
              "    <tr>\n",
              "      <th>18</th>\n",
              "      <td>attrib_vs_lower_attn</td>\n",
              "      <td>0.102693</td>\n",
              "      <td>0.798156</td>\n",
              "      <td>0.130196</td>\n",
              "      <td>0.541461</td>\n",
              "      <td>True</td>\n",
              "      <td>False</td>\n",
              "    </tr>\n",
              "    <tr>\n",
              "      <th>19</th>\n",
              "      <td>attrib_vs_lower_attn</td>\n",
              "      <td>0.257957</td>\n",
              "      <td>0.828603</td>\n",
              "      <td>0.245163</td>\n",
              "      <td>0.646449</td>\n",
              "      <td>True</td>\n",
              "      <td>True</td>\n",
              "    </tr>\n",
              "    <tr>\n",
              "      <th>20</th>\n",
              "      <td>attrib_vs_upper_attn</td>\n",
              "      <td>0.233382</td>\n",
              "      <td>0.801003</td>\n",
              "      <td>0.137813</td>\n",
              "      <td>0.541053</td>\n",
              "      <td>False</td>\n",
              "      <td>False</td>\n",
              "    </tr>\n",
              "    <tr>\n",
              "      <th>21</th>\n",
              "      <td>attrib_vs_upper_attn</td>\n",
              "      <td>0.421118</td>\n",
              "      <td>0.822304</td>\n",
              "      <td>0.217510</td>\n",
              "      <td>0.617760</td>\n",
              "      <td>False</td>\n",
              "      <td>True</td>\n",
              "    </tr>\n",
              "    <tr>\n",
              "      <th>22</th>\n",
              "      <td>attrib_vs_upper_attn</td>\n",
              "      <td>0.304992</td>\n",
              "      <td>0.800178</td>\n",
              "      <td>0.135647</td>\n",
              "      <td>0.540826</td>\n",
              "      <td>True</td>\n",
              "      <td>False</td>\n",
              "    </tr>\n",
              "    <tr>\n",
              "      <th>23</th>\n",
              "      <td>attrib_vs_upper_attn</td>\n",
              "      <td>0.412499</td>\n",
              "      <td>0.859177</td>\n",
              "      <td>0.356239</td>\n",
              "      <td>0.715535</td>\n",
              "      <td>True</td>\n",
              "      <td>True</td>\n",
              "    </tr>\n",
              "  </tbody>\n",
              "</table>\n",
              "</div>\n",
              "      <button class=\"colab-df-convert\" onclick=\"convertToInteractive('df-ee736b1d-bc4d-4d3f-b68b-6b9770fb9713')\"\n",
              "              title=\"Convert this dataframe to an interactive table.\"\n",
              "              style=\"display:none;\">\n",
              "        \n",
              "  <svg xmlns=\"http://www.w3.org/2000/svg\" height=\"24px\"viewBox=\"0 0 24 24\"\n",
              "       width=\"24px\">\n",
              "    <path d=\"M0 0h24v24H0V0z\" fill=\"none\"/>\n",
              "    <path d=\"M18.56 5.44l.94 2.06.94-2.06 2.06-.94-2.06-.94-.94-2.06-.94 2.06-2.06.94zm-11 1L8.5 8.5l.94-2.06 2.06-.94-2.06-.94L8.5 2.5l-.94 2.06-2.06.94zm10 10l.94 2.06.94-2.06 2.06-.94-2.06-.94-.94-2.06-.94 2.06-2.06.94z\"/><path d=\"M17.41 7.96l-1.37-1.37c-.4-.4-.92-.59-1.43-.59-.52 0-1.04.2-1.43.59L10.3 9.45l-7.72 7.72c-.78.78-.78 2.05 0 2.83L4 21.41c.39.39.9.59 1.41.59.51 0 1.02-.2 1.41-.59l7.78-7.78 2.81-2.81c.8-.78.8-2.07 0-2.86zM5.41 20L4 18.59l7.72-7.72 1.47 1.35L5.41 20z\"/>\n",
              "  </svg>\n",
              "      </button>\n",
              "      \n",
              "  <style>\n",
              "    .colab-df-container {\n",
              "      display:flex;\n",
              "      flex-wrap:wrap;\n",
              "      gap: 12px;\n",
              "    }\n",
              "\n",
              "    .colab-df-convert {\n",
              "      background-color: #E8F0FE;\n",
              "      border: none;\n",
              "      border-radius: 50%;\n",
              "      cursor: pointer;\n",
              "      display: none;\n",
              "      fill: #1967D2;\n",
              "      height: 32px;\n",
              "      padding: 0 0 0 0;\n",
              "      width: 32px;\n",
              "    }\n",
              "\n",
              "    .colab-df-convert:hover {\n",
              "      background-color: #E2EBFA;\n",
              "      box-shadow: 0px 1px 2px rgba(60, 64, 67, 0.3), 0px 1px 3px 1px rgba(60, 64, 67, 0.15);\n",
              "      fill: #174EA6;\n",
              "    }\n",
              "\n",
              "    [theme=dark] .colab-df-convert {\n",
              "      background-color: #3B4455;\n",
              "      fill: #D2E3FC;\n",
              "    }\n",
              "\n",
              "    [theme=dark] .colab-df-convert:hover {\n",
              "      background-color: #434B5C;\n",
              "      box-shadow: 0px 1px 3px 1px rgba(0, 0, 0, 0.15);\n",
              "      filter: drop-shadow(0px 1px 2px rgba(0, 0, 0, 0.3));\n",
              "      fill: #FFFFFF;\n",
              "    }\n",
              "  </style>\n",
              "\n",
              "      <script>\n",
              "        const buttonEl =\n",
              "          document.querySelector('#df-ee736b1d-bc4d-4d3f-b68b-6b9770fb9713 button.colab-df-convert');\n",
              "        buttonEl.style.display =\n",
              "          google.colab.kernel.accessAllowed ? 'block' : 'none';\n",
              "\n",
              "        async function convertToInteractive(key) {\n",
              "          const element = document.querySelector('#df-ee736b1d-bc4d-4d3f-b68b-6b9770fb9713');\n",
              "          const dataTable =\n",
              "            await google.colab.kernel.invokeFunction('convertToInteractive',\n",
              "                                                     [key], {});\n",
              "          if (!dataTable) return;\n",
              "\n",
              "          const docLinkHtml = 'Like what you see? Visit the ' +\n",
              "            '<a target=\"_blank\" href=https://colab.research.google.com/notebooks/data_table.ipynb>data table notebook</a>'\n",
              "            + ' to learn more about interactive tables.';\n",
              "          element.innerHTML = '';\n",
              "          dataTable['output_type'] = 'display_data';\n",
              "          await google.colab.output.renderOutput(dataTable, element);\n",
              "          const docLink = document.createElement('div');\n",
              "          docLink.innerHTML = docLinkHtml;\n",
              "          element.appendChild(docLink);\n",
              "        }\n",
              "      </script>\n",
              "    </div>\n",
              "  </div>\n",
              "  "
            ]
          },
          "metadata": {},
          "execution_count": 238
        }
      ]
    },
    {
      "cell_type": "markdown",
      "source": [
        "Finally, we save this dataframe we made so we can either add on to this dataframe in future explorations, or take these results for other uses."
      ],
      "metadata": {
        "id": "QVtUSf1QSMwh"
      }
    },
    {
      "cell_type": "code",
      "source": [
        "df_final.to_csv(\"/content/drive/MyDrive/cogs402longformer/results/papers/attrib_attn_sim/attrib_attn_sim_means.csv\", index=False)"
      ],
      "metadata": {
        "id": "AeDbwwDMRAnS"
      },
      "execution_count": null,
      "outputs": []
    }
  ],
  "metadata": {
    "file_extension": ".py",
    "kernelspec": {
      "display_name": "Python 3",
      "name": "python3"
    },
    "language_info": {
      "name": "python"
    },
    "mimetype": "text/x-python",
    "name": "python",
    "npconvert_exporter": "python",
    "pygments_lexer": "ipython3",
    "version": 3,
    "colab": {
      "name": "Attn_attr_cosine_sim_all.ipynb",
      "provenance": [],
      "collapsed_sections": [],
      "machine_shape": "hm",
      "include_colab_link": true
    },
    "accelerator": "GPU",
    "widgets": {
      "application/vnd.jupyter.widget-state+json": {
        "8e5c14224e7d4ee3a472140056e438b6": {
          "model_module": "@jupyter-widgets/controls",
          "model_name": "HBoxModel",
          "model_module_version": "1.5.0",
          "state": {
            "_dom_classes": [],
            "_model_module": "@jupyter-widgets/controls",
            "_model_module_version": "1.5.0",
            "_model_name": "HBoxModel",
            "_view_count": null,
            "_view_module": "@jupyter-widgets/controls",
            "_view_module_version": "1.5.0",
            "_view_name": "HBoxView",
            "box_style": "",
            "children": [
              "IPY_MODEL_6e28a2aa1acf4bba844bd74f2fbb7a33",
              "IPY_MODEL_a6eee980f911432c99ad90114f0a78e2",
              "IPY_MODEL_545c28253faa4389bd8f077f86ce79b4"
            ],
            "layout": "IPY_MODEL_821c0b030469463fa9a25f1b7029d367"
          }
        },
        "6e28a2aa1acf4bba844bd74f2fbb7a33": {
          "model_module": "@jupyter-widgets/controls",
          "model_name": "HTMLModel",
          "model_module_version": "1.5.0",
          "state": {
            "_dom_classes": [],
            "_model_module": "@jupyter-widgets/controls",
            "_model_module_version": "1.5.0",
            "_model_name": "HTMLModel",
            "_view_count": null,
            "_view_module": "@jupyter-widgets/controls",
            "_view_module_version": "1.5.0",
            "_view_name": "HTMLView",
            "description": "",
            "description_tooltip": null,
            "layout": "IPY_MODEL_f9a3e0346a0d4ba4b67728ddda55326e",
            "placeholder": "​",
            "style": "IPY_MODEL_86d2a8a9f8224d708bb22b22139dbf40",
            "value": "Downloading: 100%"
          }
        },
        "a6eee980f911432c99ad90114f0a78e2": {
          "model_module": "@jupyter-widgets/controls",
          "model_name": "FloatProgressModel",
          "model_module_version": "1.5.0",
          "state": {
            "_dom_classes": [],
            "_model_module": "@jupyter-widgets/controls",
            "_model_module_version": "1.5.0",
            "_model_name": "FloatProgressModel",
            "_view_count": null,
            "_view_module": "@jupyter-widgets/controls",
            "_view_module_version": "1.5.0",
            "_view_name": "ProgressView",
            "bar_style": "success",
            "description": "",
            "description_tooltip": null,
            "layout": "IPY_MODEL_2d8da9d41ba043ca9818fe4f79ab366f",
            "max": 1018,
            "min": 0,
            "orientation": "horizontal",
            "style": "IPY_MODEL_64dca91cc80448d2983870ebc44d6993",
            "value": 1018
          }
        },
        "545c28253faa4389bd8f077f86ce79b4": {
          "model_module": "@jupyter-widgets/controls",
          "model_name": "HTMLModel",
          "model_module_version": "1.5.0",
          "state": {
            "_dom_classes": [],
            "_model_module": "@jupyter-widgets/controls",
            "_model_module_version": "1.5.0",
            "_model_name": "HTMLModel",
            "_view_count": null,
            "_view_module": "@jupyter-widgets/controls",
            "_view_module_version": "1.5.0",
            "_view_name": "HTMLView",
            "description": "",
            "description_tooltip": null,
            "layout": "IPY_MODEL_039bc6903443451b97439d6abc3841de",
            "placeholder": "​",
            "style": "IPY_MODEL_3127045660b845c2b1dba0306fbef95e",
            "value": " 0.99k/0.99k [00:00&lt;00:00, 28.1kB/s]"
          }
        },
        "821c0b030469463fa9a25f1b7029d367": {
          "model_module": "@jupyter-widgets/base",
          "model_name": "LayoutModel",
          "model_module_version": "1.2.0",
          "state": {
            "_model_module": "@jupyter-widgets/base",
            "_model_module_version": "1.2.0",
            "_model_name": "LayoutModel",
            "_view_count": null,
            "_view_module": "@jupyter-widgets/base",
            "_view_module_version": "1.2.0",
            "_view_name": "LayoutView",
            "align_content": null,
            "align_items": null,
            "align_self": null,
            "border": null,
            "bottom": null,
            "display": null,
            "flex": null,
            "flex_flow": null,
            "grid_area": null,
            "grid_auto_columns": null,
            "grid_auto_flow": null,
            "grid_auto_rows": null,
            "grid_column": null,
            "grid_gap": null,
            "grid_row": null,
            "grid_template_areas": null,
            "grid_template_columns": null,
            "grid_template_rows": null,
            "height": null,
            "justify_content": null,
            "justify_items": null,
            "left": null,
            "margin": null,
            "max_height": null,
            "max_width": null,
            "min_height": null,
            "min_width": null,
            "object_fit": null,
            "object_position": null,
            "order": null,
            "overflow": null,
            "overflow_x": null,
            "overflow_y": null,
            "padding": null,
            "right": null,
            "top": null,
            "visibility": null,
            "width": null
          }
        },
        "f9a3e0346a0d4ba4b67728ddda55326e": {
          "model_module": "@jupyter-widgets/base",
          "model_name": "LayoutModel",
          "model_module_version": "1.2.0",
          "state": {
            "_model_module": "@jupyter-widgets/base",
            "_model_module_version": "1.2.0",
            "_model_name": "LayoutModel",
            "_view_count": null,
            "_view_module": "@jupyter-widgets/base",
            "_view_module_version": "1.2.0",
            "_view_name": "LayoutView",
            "align_content": null,
            "align_items": null,
            "align_self": null,
            "border": null,
            "bottom": null,
            "display": null,
            "flex": null,
            "flex_flow": null,
            "grid_area": null,
            "grid_auto_columns": null,
            "grid_auto_flow": null,
            "grid_auto_rows": null,
            "grid_column": null,
            "grid_gap": null,
            "grid_row": null,
            "grid_template_areas": null,
            "grid_template_columns": null,
            "grid_template_rows": null,
            "height": null,
            "justify_content": null,
            "justify_items": null,
            "left": null,
            "margin": null,
            "max_height": null,
            "max_width": null,
            "min_height": null,
            "min_width": null,
            "object_fit": null,
            "object_position": null,
            "order": null,
            "overflow": null,
            "overflow_x": null,
            "overflow_y": null,
            "padding": null,
            "right": null,
            "top": null,
            "visibility": null,
            "width": null
          }
        },
        "86d2a8a9f8224d708bb22b22139dbf40": {
          "model_module": "@jupyter-widgets/controls",
          "model_name": "DescriptionStyleModel",
          "model_module_version": "1.5.0",
          "state": {
            "_model_module": "@jupyter-widgets/controls",
            "_model_module_version": "1.5.0",
            "_model_name": "DescriptionStyleModel",
            "_view_count": null,
            "_view_module": "@jupyter-widgets/base",
            "_view_module_version": "1.2.0",
            "_view_name": "StyleView",
            "description_width": ""
          }
        },
        "2d8da9d41ba043ca9818fe4f79ab366f": {
          "model_module": "@jupyter-widgets/base",
          "model_name": "LayoutModel",
          "model_module_version": "1.2.0",
          "state": {
            "_model_module": "@jupyter-widgets/base",
            "_model_module_version": "1.2.0",
            "_model_name": "LayoutModel",
            "_view_count": null,
            "_view_module": "@jupyter-widgets/base",
            "_view_module_version": "1.2.0",
            "_view_name": "LayoutView",
            "align_content": null,
            "align_items": null,
            "align_self": null,
            "border": null,
            "bottom": null,
            "display": null,
            "flex": null,
            "flex_flow": null,
            "grid_area": null,
            "grid_auto_columns": null,
            "grid_auto_flow": null,
            "grid_auto_rows": null,
            "grid_column": null,
            "grid_gap": null,
            "grid_row": null,
            "grid_template_areas": null,
            "grid_template_columns": null,
            "grid_template_rows": null,
            "height": null,
            "justify_content": null,
            "justify_items": null,
            "left": null,
            "margin": null,
            "max_height": null,
            "max_width": null,
            "min_height": null,
            "min_width": null,
            "object_fit": null,
            "object_position": null,
            "order": null,
            "overflow": null,
            "overflow_x": null,
            "overflow_y": null,
            "padding": null,
            "right": null,
            "top": null,
            "visibility": null,
            "width": null
          }
        },
        "64dca91cc80448d2983870ebc44d6993": {
          "model_module": "@jupyter-widgets/controls",
          "model_name": "ProgressStyleModel",
          "model_module_version": "1.5.0",
          "state": {
            "_model_module": "@jupyter-widgets/controls",
            "_model_module_version": "1.5.0",
            "_model_name": "ProgressStyleModel",
            "_view_count": null,
            "_view_module": "@jupyter-widgets/base",
            "_view_module_version": "1.2.0",
            "_view_name": "StyleView",
            "bar_color": null,
            "description_width": ""
          }
        },
        "039bc6903443451b97439d6abc3841de": {
          "model_module": "@jupyter-widgets/base",
          "model_name": "LayoutModel",
          "model_module_version": "1.2.0",
          "state": {
            "_model_module": "@jupyter-widgets/base",
            "_model_module_version": "1.2.0",
            "_model_name": "LayoutModel",
            "_view_count": null,
            "_view_module": "@jupyter-widgets/base",
            "_view_module_version": "1.2.0",
            "_view_name": "LayoutView",
            "align_content": null,
            "align_items": null,
            "align_self": null,
            "border": null,
            "bottom": null,
            "display": null,
            "flex": null,
            "flex_flow": null,
            "grid_area": null,
            "grid_auto_columns": null,
            "grid_auto_flow": null,
            "grid_auto_rows": null,
            "grid_column": null,
            "grid_gap": null,
            "grid_row": null,
            "grid_template_areas": null,
            "grid_template_columns": null,
            "grid_template_rows": null,
            "height": null,
            "justify_content": null,
            "justify_items": null,
            "left": null,
            "margin": null,
            "max_height": null,
            "max_width": null,
            "min_height": null,
            "min_width": null,
            "object_fit": null,
            "object_position": null,
            "order": null,
            "overflow": null,
            "overflow_x": null,
            "overflow_y": null,
            "padding": null,
            "right": null,
            "top": null,
            "visibility": null,
            "width": null
          }
        },
        "3127045660b845c2b1dba0306fbef95e": {
          "model_module": "@jupyter-widgets/controls",
          "model_name": "DescriptionStyleModel",
          "model_module_version": "1.5.0",
          "state": {
            "_model_module": "@jupyter-widgets/controls",
            "_model_module_version": "1.5.0",
            "_model_name": "DescriptionStyleModel",
            "_view_count": null,
            "_view_module": "@jupyter-widgets/base",
            "_view_module_version": "1.2.0",
            "_view_name": "StyleView",
            "description_width": ""
          }
        },
        "895743c79c284efc986704bcf9768a3e": {
          "model_module": "@jupyter-widgets/controls",
          "model_name": "HBoxModel",
          "model_module_version": "1.5.0",
          "state": {
            "_dom_classes": [],
            "_model_module": "@jupyter-widgets/controls",
            "_model_module_version": "1.5.0",
            "_model_name": "HBoxModel",
            "_view_count": null,
            "_view_module": "@jupyter-widgets/controls",
            "_view_module_version": "1.5.0",
            "_view_name": "HBoxView",
            "box_style": "",
            "children": [
              "IPY_MODEL_d7b95957117641aea95aa77a81801ca0",
              "IPY_MODEL_9e2dca8b910f4a03a770745a5355830a",
              "IPY_MODEL_233df1daadfa43c7b52524b1ea39b2bb"
            ],
            "layout": "IPY_MODEL_336028dd46bd47acb264e5e87ce9d80b"
          }
        },
        "d7b95957117641aea95aa77a81801ca0": {
          "model_module": "@jupyter-widgets/controls",
          "model_name": "HTMLModel",
          "model_module_version": "1.5.0",
          "state": {
            "_dom_classes": [],
            "_model_module": "@jupyter-widgets/controls",
            "_model_module_version": "1.5.0",
            "_model_name": "HTMLModel",
            "_view_count": null,
            "_view_module": "@jupyter-widgets/controls",
            "_view_module_version": "1.5.0",
            "_view_name": "HTMLView",
            "description": "",
            "description_tooltip": null,
            "layout": "IPY_MODEL_ce735f0cc3c34d458b4cbba0e5ec9759",
            "placeholder": "​",
            "style": "IPY_MODEL_917e23fd058a43ee83364b1b11bec742",
            "value": "Downloading: 100%"
          }
        },
        "9e2dca8b910f4a03a770745a5355830a": {
          "model_module": "@jupyter-widgets/controls",
          "model_name": "FloatProgressModel",
          "model_module_version": "1.5.0",
          "state": {
            "_dom_classes": [],
            "_model_module": "@jupyter-widgets/controls",
            "_model_module_version": "1.5.0",
            "_model_name": "FloatProgressModel",
            "_view_count": null,
            "_view_module": "@jupyter-widgets/controls",
            "_view_module_version": "1.5.0",
            "_view_name": "ProgressView",
            "bar_style": "success",
            "description": "",
            "description_tooltip": null,
            "layout": "IPY_MODEL_814af9f410194fddbb08e287d58b4e79",
            "max": 594786525,
            "min": 0,
            "orientation": "horizontal",
            "style": "IPY_MODEL_588aea77d7cb46028d62717186a1f1ef",
            "value": 594786525
          }
        },
        "233df1daadfa43c7b52524b1ea39b2bb": {
          "model_module": "@jupyter-widgets/controls",
          "model_name": "HTMLModel",
          "model_module_version": "1.5.0",
          "state": {
            "_dom_classes": [],
            "_model_module": "@jupyter-widgets/controls",
            "_model_module_version": "1.5.0",
            "_model_name": "HTMLModel",
            "_view_count": null,
            "_view_module": "@jupyter-widgets/controls",
            "_view_module_version": "1.5.0",
            "_view_name": "HTMLView",
            "description": "",
            "description_tooltip": null,
            "layout": "IPY_MODEL_89cc9fe27a2b4bd9b8b451c757f1a9f9",
            "placeholder": "​",
            "style": "IPY_MODEL_dd09cd01b7c0414eafa92112ec9776a7",
            "value": " 567M/567M [00:09&lt;00:00, 65.2MB/s]"
          }
        },
        "336028dd46bd47acb264e5e87ce9d80b": {
          "model_module": "@jupyter-widgets/base",
          "model_name": "LayoutModel",
          "model_module_version": "1.2.0",
          "state": {
            "_model_module": "@jupyter-widgets/base",
            "_model_module_version": "1.2.0",
            "_model_name": "LayoutModel",
            "_view_count": null,
            "_view_module": "@jupyter-widgets/base",
            "_view_module_version": "1.2.0",
            "_view_name": "LayoutView",
            "align_content": null,
            "align_items": null,
            "align_self": null,
            "border": null,
            "bottom": null,
            "display": null,
            "flex": null,
            "flex_flow": null,
            "grid_area": null,
            "grid_auto_columns": null,
            "grid_auto_flow": null,
            "grid_auto_rows": null,
            "grid_column": null,
            "grid_gap": null,
            "grid_row": null,
            "grid_template_areas": null,
            "grid_template_columns": null,
            "grid_template_rows": null,
            "height": null,
            "justify_content": null,
            "justify_items": null,
            "left": null,
            "margin": null,
            "max_height": null,
            "max_width": null,
            "min_height": null,
            "min_width": null,
            "object_fit": null,
            "object_position": null,
            "order": null,
            "overflow": null,
            "overflow_x": null,
            "overflow_y": null,
            "padding": null,
            "right": null,
            "top": null,
            "visibility": null,
            "width": null
          }
        },
        "ce735f0cc3c34d458b4cbba0e5ec9759": {
          "model_module": "@jupyter-widgets/base",
          "model_name": "LayoutModel",
          "model_module_version": "1.2.0",
          "state": {
            "_model_module": "@jupyter-widgets/base",
            "_model_module_version": "1.2.0",
            "_model_name": "LayoutModel",
            "_view_count": null,
            "_view_module": "@jupyter-widgets/base",
            "_view_module_version": "1.2.0",
            "_view_name": "LayoutView",
            "align_content": null,
            "align_items": null,
            "align_self": null,
            "border": null,
            "bottom": null,
            "display": null,
            "flex": null,
            "flex_flow": null,
            "grid_area": null,
            "grid_auto_columns": null,
            "grid_auto_flow": null,
            "grid_auto_rows": null,
            "grid_column": null,
            "grid_gap": null,
            "grid_row": null,
            "grid_template_areas": null,
            "grid_template_columns": null,
            "grid_template_rows": null,
            "height": null,
            "justify_content": null,
            "justify_items": null,
            "left": null,
            "margin": null,
            "max_height": null,
            "max_width": null,
            "min_height": null,
            "min_width": null,
            "object_fit": null,
            "object_position": null,
            "order": null,
            "overflow": null,
            "overflow_x": null,
            "overflow_y": null,
            "padding": null,
            "right": null,
            "top": null,
            "visibility": null,
            "width": null
          }
        },
        "917e23fd058a43ee83364b1b11bec742": {
          "model_module": "@jupyter-widgets/controls",
          "model_name": "DescriptionStyleModel",
          "model_module_version": "1.5.0",
          "state": {
            "_model_module": "@jupyter-widgets/controls",
            "_model_module_version": "1.5.0",
            "_model_name": "DescriptionStyleModel",
            "_view_count": null,
            "_view_module": "@jupyter-widgets/base",
            "_view_module_version": "1.2.0",
            "_view_name": "StyleView",
            "description_width": ""
          }
        },
        "814af9f410194fddbb08e287d58b4e79": {
          "model_module": "@jupyter-widgets/base",
          "model_name": "LayoutModel",
          "model_module_version": "1.2.0",
          "state": {
            "_model_module": "@jupyter-widgets/base",
            "_model_module_version": "1.2.0",
            "_model_name": "LayoutModel",
            "_view_count": null,
            "_view_module": "@jupyter-widgets/base",
            "_view_module_version": "1.2.0",
            "_view_name": "LayoutView",
            "align_content": null,
            "align_items": null,
            "align_self": null,
            "border": null,
            "bottom": null,
            "display": null,
            "flex": null,
            "flex_flow": null,
            "grid_area": null,
            "grid_auto_columns": null,
            "grid_auto_flow": null,
            "grid_auto_rows": null,
            "grid_column": null,
            "grid_gap": null,
            "grid_row": null,
            "grid_template_areas": null,
            "grid_template_columns": null,
            "grid_template_rows": null,
            "height": null,
            "justify_content": null,
            "justify_items": null,
            "left": null,
            "margin": null,
            "max_height": null,
            "max_width": null,
            "min_height": null,
            "min_width": null,
            "object_fit": null,
            "object_position": null,
            "order": null,
            "overflow": null,
            "overflow_x": null,
            "overflow_y": null,
            "padding": null,
            "right": null,
            "top": null,
            "visibility": null,
            "width": null
          }
        },
        "588aea77d7cb46028d62717186a1f1ef": {
          "model_module": "@jupyter-widgets/controls",
          "model_name": "ProgressStyleModel",
          "model_module_version": "1.5.0",
          "state": {
            "_model_module": "@jupyter-widgets/controls",
            "_model_module_version": "1.5.0",
            "_model_name": "ProgressStyleModel",
            "_view_count": null,
            "_view_module": "@jupyter-widgets/base",
            "_view_module_version": "1.2.0",
            "_view_name": "StyleView",
            "bar_color": null,
            "description_width": ""
          }
        },
        "89cc9fe27a2b4bd9b8b451c757f1a9f9": {
          "model_module": "@jupyter-widgets/base",
          "model_name": "LayoutModel",
          "model_module_version": "1.2.0",
          "state": {
            "_model_module": "@jupyter-widgets/base",
            "_model_module_version": "1.2.0",
            "_model_name": "LayoutModel",
            "_view_count": null,
            "_view_module": "@jupyter-widgets/base",
            "_view_module_version": "1.2.0",
            "_view_name": "LayoutView",
            "align_content": null,
            "align_items": null,
            "align_self": null,
            "border": null,
            "bottom": null,
            "display": null,
            "flex": null,
            "flex_flow": null,
            "grid_area": null,
            "grid_auto_columns": null,
            "grid_auto_flow": null,
            "grid_auto_rows": null,
            "grid_column": null,
            "grid_gap": null,
            "grid_row": null,
            "grid_template_areas": null,
            "grid_template_columns": null,
            "grid_template_rows": null,
            "height": null,
            "justify_content": null,
            "justify_items": null,
            "left": null,
            "margin": null,
            "max_height": null,
            "max_width": null,
            "min_height": null,
            "min_width": null,
            "object_fit": null,
            "object_position": null,
            "order": null,
            "overflow": null,
            "overflow_x": null,
            "overflow_y": null,
            "padding": null,
            "right": null,
            "top": null,
            "visibility": null,
            "width": null
          }
        },
        "dd09cd01b7c0414eafa92112ec9776a7": {
          "model_module": "@jupyter-widgets/controls",
          "model_name": "DescriptionStyleModel",
          "model_module_version": "1.5.0",
          "state": {
            "_model_module": "@jupyter-widgets/controls",
            "_model_module_version": "1.5.0",
            "_model_name": "DescriptionStyleModel",
            "_view_count": null,
            "_view_module": "@jupyter-widgets/base",
            "_view_module_version": "1.2.0",
            "_view_name": "StyleView",
            "description_width": ""
          }
        },
        "cb3146cdd96847f09b67037437bda994": {
          "model_module": "@jupyter-widgets/controls",
          "model_name": "HBoxModel",
          "model_module_version": "1.5.0",
          "state": {
            "_dom_classes": [],
            "_model_module": "@jupyter-widgets/controls",
            "_model_module_version": "1.5.0",
            "_model_name": "HBoxModel",
            "_view_count": null,
            "_view_module": "@jupyter-widgets/controls",
            "_view_module_version": "1.5.0",
            "_view_name": "HBoxView",
            "box_style": "",
            "children": [
              "IPY_MODEL_e25d181d6bc74ae7a76965fa8191537e",
              "IPY_MODEL_a69b0166553c47bc80ce5928dd5ff366",
              "IPY_MODEL_7051a79f5a2d43029f80c9dc9404d4b4"
            ],
            "layout": "IPY_MODEL_e42b592bafda488880d0eef2e75a1fbd"
          }
        },
        "e25d181d6bc74ae7a76965fa8191537e": {
          "model_module": "@jupyter-widgets/controls",
          "model_name": "HTMLModel",
          "model_module_version": "1.5.0",
          "state": {
            "_dom_classes": [],
            "_model_module": "@jupyter-widgets/controls",
            "_model_module_version": "1.5.0",
            "_model_name": "HTMLModel",
            "_view_count": null,
            "_view_module": "@jupyter-widgets/controls",
            "_view_module_version": "1.5.0",
            "_view_name": "HTMLView",
            "description": "",
            "description_tooltip": null,
            "layout": "IPY_MODEL_40ee1231be844a49845089f27025f2d6",
            "placeholder": "​",
            "style": "IPY_MODEL_b862302b46444405890c9fcae2b676be",
            "value": "Downloading: 100%"
          }
        },
        "a69b0166553c47bc80ce5928dd5ff366": {
          "model_module": "@jupyter-widgets/controls",
          "model_name": "FloatProgressModel",
          "model_module_version": "1.5.0",
          "state": {
            "_dom_classes": [],
            "_model_module": "@jupyter-widgets/controls",
            "_model_module_version": "1.5.0",
            "_model_name": "FloatProgressModel",
            "_view_count": null,
            "_view_module": "@jupyter-widgets/controls",
            "_view_module_version": "1.5.0",
            "_view_name": "ProgressView",
            "bar_style": "success",
            "description": "",
            "description_tooltip": null,
            "layout": "IPY_MODEL_2bb710e3b36b4d1a802746fb37ba9276",
            "max": 898823,
            "min": 0,
            "orientation": "horizontal",
            "style": "IPY_MODEL_e5a7f9b424924a998c9475c79096bd23",
            "value": 898823
          }
        },
        "7051a79f5a2d43029f80c9dc9404d4b4": {
          "model_module": "@jupyter-widgets/controls",
          "model_name": "HTMLModel",
          "model_module_version": "1.5.0",
          "state": {
            "_dom_classes": [],
            "_model_module": "@jupyter-widgets/controls",
            "_model_module_version": "1.5.0",
            "_model_name": "HTMLModel",
            "_view_count": null,
            "_view_module": "@jupyter-widgets/controls",
            "_view_module_version": "1.5.0",
            "_view_name": "HTMLView",
            "description": "",
            "description_tooltip": null,
            "layout": "IPY_MODEL_c249c6801c5a425783bf0bcc64253a65",
            "placeholder": "​",
            "style": "IPY_MODEL_a9003038143b420db576fe1d694971a0",
            "value": " 878k/878k [00:00&lt;00:00, 697kB/s]"
          }
        },
        "e42b592bafda488880d0eef2e75a1fbd": {
          "model_module": "@jupyter-widgets/base",
          "model_name": "LayoutModel",
          "model_module_version": "1.2.0",
          "state": {
            "_model_module": "@jupyter-widgets/base",
            "_model_module_version": "1.2.0",
            "_model_name": "LayoutModel",
            "_view_count": null,
            "_view_module": "@jupyter-widgets/base",
            "_view_module_version": "1.2.0",
            "_view_name": "LayoutView",
            "align_content": null,
            "align_items": null,
            "align_self": null,
            "border": null,
            "bottom": null,
            "display": null,
            "flex": null,
            "flex_flow": null,
            "grid_area": null,
            "grid_auto_columns": null,
            "grid_auto_flow": null,
            "grid_auto_rows": null,
            "grid_column": null,
            "grid_gap": null,
            "grid_row": null,
            "grid_template_areas": null,
            "grid_template_columns": null,
            "grid_template_rows": null,
            "height": null,
            "justify_content": null,
            "justify_items": null,
            "left": null,
            "margin": null,
            "max_height": null,
            "max_width": null,
            "min_height": null,
            "min_width": null,
            "object_fit": null,
            "object_position": null,
            "order": null,
            "overflow": null,
            "overflow_x": null,
            "overflow_y": null,
            "padding": null,
            "right": null,
            "top": null,
            "visibility": null,
            "width": null
          }
        },
        "40ee1231be844a49845089f27025f2d6": {
          "model_module": "@jupyter-widgets/base",
          "model_name": "LayoutModel",
          "model_module_version": "1.2.0",
          "state": {
            "_model_module": "@jupyter-widgets/base",
            "_model_module_version": "1.2.0",
            "_model_name": "LayoutModel",
            "_view_count": null,
            "_view_module": "@jupyter-widgets/base",
            "_view_module_version": "1.2.0",
            "_view_name": "LayoutView",
            "align_content": null,
            "align_items": null,
            "align_self": null,
            "border": null,
            "bottom": null,
            "display": null,
            "flex": null,
            "flex_flow": null,
            "grid_area": null,
            "grid_auto_columns": null,
            "grid_auto_flow": null,
            "grid_auto_rows": null,
            "grid_column": null,
            "grid_gap": null,
            "grid_row": null,
            "grid_template_areas": null,
            "grid_template_columns": null,
            "grid_template_rows": null,
            "height": null,
            "justify_content": null,
            "justify_items": null,
            "left": null,
            "margin": null,
            "max_height": null,
            "max_width": null,
            "min_height": null,
            "min_width": null,
            "object_fit": null,
            "object_position": null,
            "order": null,
            "overflow": null,
            "overflow_x": null,
            "overflow_y": null,
            "padding": null,
            "right": null,
            "top": null,
            "visibility": null,
            "width": null
          }
        },
        "b862302b46444405890c9fcae2b676be": {
          "model_module": "@jupyter-widgets/controls",
          "model_name": "DescriptionStyleModel",
          "model_module_version": "1.5.0",
          "state": {
            "_model_module": "@jupyter-widgets/controls",
            "_model_module_version": "1.5.0",
            "_model_name": "DescriptionStyleModel",
            "_view_count": null,
            "_view_module": "@jupyter-widgets/base",
            "_view_module_version": "1.2.0",
            "_view_name": "StyleView",
            "description_width": ""
          }
        },
        "2bb710e3b36b4d1a802746fb37ba9276": {
          "model_module": "@jupyter-widgets/base",
          "model_name": "LayoutModel",
          "model_module_version": "1.2.0",
          "state": {
            "_model_module": "@jupyter-widgets/base",
            "_model_module_version": "1.2.0",
            "_model_name": "LayoutModel",
            "_view_count": null,
            "_view_module": "@jupyter-widgets/base",
            "_view_module_version": "1.2.0",
            "_view_name": "LayoutView",
            "align_content": null,
            "align_items": null,
            "align_self": null,
            "border": null,
            "bottom": null,
            "display": null,
            "flex": null,
            "flex_flow": null,
            "grid_area": null,
            "grid_auto_columns": null,
            "grid_auto_flow": null,
            "grid_auto_rows": null,
            "grid_column": null,
            "grid_gap": null,
            "grid_row": null,
            "grid_template_areas": null,
            "grid_template_columns": null,
            "grid_template_rows": null,
            "height": null,
            "justify_content": null,
            "justify_items": null,
            "left": null,
            "margin": null,
            "max_height": null,
            "max_width": null,
            "min_height": null,
            "min_width": null,
            "object_fit": null,
            "object_position": null,
            "order": null,
            "overflow": null,
            "overflow_x": null,
            "overflow_y": null,
            "padding": null,
            "right": null,
            "top": null,
            "visibility": null,
            "width": null
          }
        },
        "e5a7f9b424924a998c9475c79096bd23": {
          "model_module": "@jupyter-widgets/controls",
          "model_name": "ProgressStyleModel",
          "model_module_version": "1.5.0",
          "state": {
            "_model_module": "@jupyter-widgets/controls",
            "_model_module_version": "1.5.0",
            "_model_name": "ProgressStyleModel",
            "_view_count": null,
            "_view_module": "@jupyter-widgets/base",
            "_view_module_version": "1.2.0",
            "_view_name": "StyleView",
            "bar_color": null,
            "description_width": ""
          }
        },
        "c249c6801c5a425783bf0bcc64253a65": {
          "model_module": "@jupyter-widgets/base",
          "model_name": "LayoutModel",
          "model_module_version": "1.2.0",
          "state": {
            "_model_module": "@jupyter-widgets/base",
            "_model_module_version": "1.2.0",
            "_model_name": "LayoutModel",
            "_view_count": null,
            "_view_module": "@jupyter-widgets/base",
            "_view_module_version": "1.2.0",
            "_view_name": "LayoutView",
            "align_content": null,
            "align_items": null,
            "align_self": null,
            "border": null,
            "bottom": null,
            "display": null,
            "flex": null,
            "flex_flow": null,
            "grid_area": null,
            "grid_auto_columns": null,
            "grid_auto_flow": null,
            "grid_auto_rows": null,
            "grid_column": null,
            "grid_gap": null,
            "grid_row": null,
            "grid_template_areas": null,
            "grid_template_columns": null,
            "grid_template_rows": null,
            "height": null,
            "justify_content": null,
            "justify_items": null,
            "left": null,
            "margin": null,
            "max_height": null,
            "max_width": null,
            "min_height": null,
            "min_width": null,
            "object_fit": null,
            "object_position": null,
            "order": null,
            "overflow": null,
            "overflow_x": null,
            "overflow_y": null,
            "padding": null,
            "right": null,
            "top": null,
            "visibility": null,
            "width": null
          }
        },
        "a9003038143b420db576fe1d694971a0": {
          "model_module": "@jupyter-widgets/controls",
          "model_name": "DescriptionStyleModel",
          "model_module_version": "1.5.0",
          "state": {
            "_model_module": "@jupyter-widgets/controls",
            "_model_module_version": "1.5.0",
            "_model_name": "DescriptionStyleModel",
            "_view_count": null,
            "_view_module": "@jupyter-widgets/base",
            "_view_module_version": "1.2.0",
            "_view_name": "StyleView",
            "description_width": ""
          }
        },
        "1b8efac7ea8544d0985c3fd483086cd2": {
          "model_module": "@jupyter-widgets/controls",
          "model_name": "HBoxModel",
          "model_module_version": "1.5.0",
          "state": {
            "_dom_classes": [],
            "_model_module": "@jupyter-widgets/controls",
            "_model_module_version": "1.5.0",
            "_model_name": "HBoxModel",
            "_view_count": null,
            "_view_module": "@jupyter-widgets/controls",
            "_view_module_version": "1.5.0",
            "_view_name": "HBoxView",
            "box_style": "",
            "children": [
              "IPY_MODEL_4cea7034d7374cd1b2c223679889e63e",
              "IPY_MODEL_5f7a25dd89c74268b0ff6048a018e8a1",
              "IPY_MODEL_fd30e4c0ec5d4173bb99cd511a53b181"
            ],
            "layout": "IPY_MODEL_0444d9cf28ff48dcbf5ef6981679d30a"
          }
        },
        "4cea7034d7374cd1b2c223679889e63e": {
          "model_module": "@jupyter-widgets/controls",
          "model_name": "HTMLModel",
          "model_module_version": "1.5.0",
          "state": {
            "_dom_classes": [],
            "_model_module": "@jupyter-widgets/controls",
            "_model_module_version": "1.5.0",
            "_model_name": "HTMLModel",
            "_view_count": null,
            "_view_module": "@jupyter-widgets/controls",
            "_view_module_version": "1.5.0",
            "_view_name": "HTMLView",
            "description": "",
            "description_tooltip": null,
            "layout": "IPY_MODEL_7db2e391a3b644feabbd66ea48ce0ec7",
            "placeholder": "​",
            "style": "IPY_MODEL_93cb00c841b24acd8f595f32bec4fa40",
            "value": "Downloading: 100%"
          }
        },
        "5f7a25dd89c74268b0ff6048a018e8a1": {
          "model_module": "@jupyter-widgets/controls",
          "model_name": "FloatProgressModel",
          "model_module_version": "1.5.0",
          "state": {
            "_dom_classes": [],
            "_model_module": "@jupyter-widgets/controls",
            "_model_module_version": "1.5.0",
            "_model_name": "FloatProgressModel",
            "_view_count": null,
            "_view_module": "@jupyter-widgets/controls",
            "_view_module_version": "1.5.0",
            "_view_name": "ProgressView",
            "bar_style": "success",
            "description": "",
            "description_tooltip": null,
            "layout": "IPY_MODEL_65299acdb9f348f49b91db215e369fdf",
            "max": 456318,
            "min": 0,
            "orientation": "horizontal",
            "style": "IPY_MODEL_419d0f7f1fdc4b439bb72a52c7d67827",
            "value": 456318
          }
        },
        "fd30e4c0ec5d4173bb99cd511a53b181": {
          "model_module": "@jupyter-widgets/controls",
          "model_name": "HTMLModel",
          "model_module_version": "1.5.0",
          "state": {
            "_dom_classes": [],
            "_model_module": "@jupyter-widgets/controls",
            "_model_module_version": "1.5.0",
            "_model_name": "HTMLModel",
            "_view_count": null,
            "_view_module": "@jupyter-widgets/controls",
            "_view_module_version": "1.5.0",
            "_view_name": "HTMLView",
            "description": "",
            "description_tooltip": null,
            "layout": "IPY_MODEL_5517814cd9f94a7ca4575b454881665f",
            "placeholder": "​",
            "style": "IPY_MODEL_b6e96373c5a14bc1b6c5efa299d85a73",
            "value": " 446k/446k [00:00&lt;00:00, 657kB/s]"
          }
        },
        "0444d9cf28ff48dcbf5ef6981679d30a": {
          "model_module": "@jupyter-widgets/base",
          "model_name": "LayoutModel",
          "model_module_version": "1.2.0",
          "state": {
            "_model_module": "@jupyter-widgets/base",
            "_model_module_version": "1.2.0",
            "_model_name": "LayoutModel",
            "_view_count": null,
            "_view_module": "@jupyter-widgets/base",
            "_view_module_version": "1.2.0",
            "_view_name": "LayoutView",
            "align_content": null,
            "align_items": null,
            "align_self": null,
            "border": null,
            "bottom": null,
            "display": null,
            "flex": null,
            "flex_flow": null,
            "grid_area": null,
            "grid_auto_columns": null,
            "grid_auto_flow": null,
            "grid_auto_rows": null,
            "grid_column": null,
            "grid_gap": null,
            "grid_row": null,
            "grid_template_areas": null,
            "grid_template_columns": null,
            "grid_template_rows": null,
            "height": null,
            "justify_content": null,
            "justify_items": null,
            "left": null,
            "margin": null,
            "max_height": null,
            "max_width": null,
            "min_height": null,
            "min_width": null,
            "object_fit": null,
            "object_position": null,
            "order": null,
            "overflow": null,
            "overflow_x": null,
            "overflow_y": null,
            "padding": null,
            "right": null,
            "top": null,
            "visibility": null,
            "width": null
          }
        },
        "7db2e391a3b644feabbd66ea48ce0ec7": {
          "model_module": "@jupyter-widgets/base",
          "model_name": "LayoutModel",
          "model_module_version": "1.2.0",
          "state": {
            "_model_module": "@jupyter-widgets/base",
            "_model_module_version": "1.2.0",
            "_model_name": "LayoutModel",
            "_view_count": null,
            "_view_module": "@jupyter-widgets/base",
            "_view_module_version": "1.2.0",
            "_view_name": "LayoutView",
            "align_content": null,
            "align_items": null,
            "align_self": null,
            "border": null,
            "bottom": null,
            "display": null,
            "flex": null,
            "flex_flow": null,
            "grid_area": null,
            "grid_auto_columns": null,
            "grid_auto_flow": null,
            "grid_auto_rows": null,
            "grid_column": null,
            "grid_gap": null,
            "grid_row": null,
            "grid_template_areas": null,
            "grid_template_columns": null,
            "grid_template_rows": null,
            "height": null,
            "justify_content": null,
            "justify_items": null,
            "left": null,
            "margin": null,
            "max_height": null,
            "max_width": null,
            "min_height": null,
            "min_width": null,
            "object_fit": null,
            "object_position": null,
            "order": null,
            "overflow": null,
            "overflow_x": null,
            "overflow_y": null,
            "padding": null,
            "right": null,
            "top": null,
            "visibility": null,
            "width": null
          }
        },
        "93cb00c841b24acd8f595f32bec4fa40": {
          "model_module": "@jupyter-widgets/controls",
          "model_name": "DescriptionStyleModel",
          "model_module_version": "1.5.0",
          "state": {
            "_model_module": "@jupyter-widgets/controls",
            "_model_module_version": "1.5.0",
            "_model_name": "DescriptionStyleModel",
            "_view_count": null,
            "_view_module": "@jupyter-widgets/base",
            "_view_module_version": "1.2.0",
            "_view_name": "StyleView",
            "description_width": ""
          }
        },
        "65299acdb9f348f49b91db215e369fdf": {
          "model_module": "@jupyter-widgets/base",
          "model_name": "LayoutModel",
          "model_module_version": "1.2.0",
          "state": {
            "_model_module": "@jupyter-widgets/base",
            "_model_module_version": "1.2.0",
            "_model_name": "LayoutModel",
            "_view_count": null,
            "_view_module": "@jupyter-widgets/base",
            "_view_module_version": "1.2.0",
            "_view_name": "LayoutView",
            "align_content": null,
            "align_items": null,
            "align_self": null,
            "border": null,
            "bottom": null,
            "display": null,
            "flex": null,
            "flex_flow": null,
            "grid_area": null,
            "grid_auto_columns": null,
            "grid_auto_flow": null,
            "grid_auto_rows": null,
            "grid_column": null,
            "grid_gap": null,
            "grid_row": null,
            "grid_template_areas": null,
            "grid_template_columns": null,
            "grid_template_rows": null,
            "height": null,
            "justify_content": null,
            "justify_items": null,
            "left": null,
            "margin": null,
            "max_height": null,
            "max_width": null,
            "min_height": null,
            "min_width": null,
            "object_fit": null,
            "object_position": null,
            "order": null,
            "overflow": null,
            "overflow_x": null,
            "overflow_y": null,
            "padding": null,
            "right": null,
            "top": null,
            "visibility": null,
            "width": null
          }
        },
        "419d0f7f1fdc4b439bb72a52c7d67827": {
          "model_module": "@jupyter-widgets/controls",
          "model_name": "ProgressStyleModel",
          "model_module_version": "1.5.0",
          "state": {
            "_model_module": "@jupyter-widgets/controls",
            "_model_module_version": "1.5.0",
            "_model_name": "ProgressStyleModel",
            "_view_count": null,
            "_view_module": "@jupyter-widgets/base",
            "_view_module_version": "1.2.0",
            "_view_name": "StyleView",
            "bar_color": null,
            "description_width": ""
          }
        },
        "5517814cd9f94a7ca4575b454881665f": {
          "model_module": "@jupyter-widgets/base",
          "model_name": "LayoutModel",
          "model_module_version": "1.2.0",
          "state": {
            "_model_module": "@jupyter-widgets/base",
            "_model_module_version": "1.2.0",
            "_model_name": "LayoutModel",
            "_view_count": null,
            "_view_module": "@jupyter-widgets/base",
            "_view_module_version": "1.2.0",
            "_view_name": "LayoutView",
            "align_content": null,
            "align_items": null,
            "align_self": null,
            "border": null,
            "bottom": null,
            "display": null,
            "flex": null,
            "flex_flow": null,
            "grid_area": null,
            "grid_auto_columns": null,
            "grid_auto_flow": null,
            "grid_auto_rows": null,
            "grid_column": null,
            "grid_gap": null,
            "grid_row": null,
            "grid_template_areas": null,
            "grid_template_columns": null,
            "grid_template_rows": null,
            "height": null,
            "justify_content": null,
            "justify_items": null,
            "left": null,
            "margin": null,
            "max_height": null,
            "max_width": null,
            "min_height": null,
            "min_width": null,
            "object_fit": null,
            "object_position": null,
            "order": null,
            "overflow": null,
            "overflow_x": null,
            "overflow_y": null,
            "padding": null,
            "right": null,
            "top": null,
            "visibility": null,
            "width": null
          }
        },
        "b6e96373c5a14bc1b6c5efa299d85a73": {
          "model_module": "@jupyter-widgets/controls",
          "model_name": "DescriptionStyleModel",
          "model_module_version": "1.5.0",
          "state": {
            "_model_module": "@jupyter-widgets/controls",
            "_model_module_version": "1.5.0",
            "_model_name": "DescriptionStyleModel",
            "_view_count": null,
            "_view_module": "@jupyter-widgets/base",
            "_view_module_version": "1.2.0",
            "_view_name": "StyleView",
            "description_width": ""
          }
        },
        "6c6b649f96444550b1603407afbeebcb": {
          "model_module": "@jupyter-widgets/controls",
          "model_name": "HBoxModel",
          "model_module_version": "1.5.0",
          "state": {
            "_dom_classes": [],
            "_model_module": "@jupyter-widgets/controls",
            "_model_module_version": "1.5.0",
            "_model_name": "HBoxModel",
            "_view_count": null,
            "_view_module": "@jupyter-widgets/controls",
            "_view_module_version": "1.5.0",
            "_view_name": "HBoxView",
            "box_style": "",
            "children": [
              "IPY_MODEL_d219241e26504978a67e75a9c4a08968",
              "IPY_MODEL_34a03149844a4972a892a4fda748e6b6",
              "IPY_MODEL_af4ad86efc8344cebcd9da7dc27d825b"
            ],
            "layout": "IPY_MODEL_3a02d825d8a54734aef05dafb0546f50"
          }
        },
        "d219241e26504978a67e75a9c4a08968": {
          "model_module": "@jupyter-widgets/controls",
          "model_name": "HTMLModel",
          "model_module_version": "1.5.0",
          "state": {
            "_dom_classes": [],
            "_model_module": "@jupyter-widgets/controls",
            "_model_module_version": "1.5.0",
            "_model_name": "HTMLModel",
            "_view_count": null,
            "_view_module": "@jupyter-widgets/controls",
            "_view_module_version": "1.5.0",
            "_view_name": "HTMLView",
            "description": "",
            "description_tooltip": null,
            "layout": "IPY_MODEL_2b65c6d2f53d4e0791b61a27df1354a7",
            "placeholder": "​",
            "style": "IPY_MODEL_eb87d15267874265b9214f4237136dfa",
            "value": "Downloading: 100%"
          }
        },
        "34a03149844a4972a892a4fda748e6b6": {
          "model_module": "@jupyter-widgets/controls",
          "model_name": "FloatProgressModel",
          "model_module_version": "1.5.0",
          "state": {
            "_dom_classes": [],
            "_model_module": "@jupyter-widgets/controls",
            "_model_module_version": "1.5.0",
            "_model_name": "FloatProgressModel",
            "_view_count": null,
            "_view_module": "@jupyter-widgets/controls",
            "_view_module_version": "1.5.0",
            "_view_name": "ProgressView",
            "bar_style": "success",
            "description": "",
            "description_tooltip": null,
            "layout": "IPY_MODEL_c02c138bdddf42e3b356f0b4c8eccec7",
            "max": 694,
            "min": 0,
            "orientation": "horizontal",
            "style": "IPY_MODEL_7e070cefa6ac47878bcfd8329d34bd9c",
            "value": 694
          }
        },
        "af4ad86efc8344cebcd9da7dc27d825b": {
          "model_module": "@jupyter-widgets/controls",
          "model_name": "HTMLModel",
          "model_module_version": "1.5.0",
          "state": {
            "_dom_classes": [],
            "_model_module": "@jupyter-widgets/controls",
            "_model_module_version": "1.5.0",
            "_model_name": "HTMLModel",
            "_view_count": null,
            "_view_module": "@jupyter-widgets/controls",
            "_view_module_version": "1.5.0",
            "_view_name": "HTMLView",
            "description": "",
            "description_tooltip": null,
            "layout": "IPY_MODEL_904427012a7a4f95ad04ab1f63c469eb",
            "placeholder": "​",
            "style": "IPY_MODEL_1141bfef40a8458a92a5d273e73ff40c",
            "value": " 694/694 [00:00&lt;00:00, 22.7kB/s]"
          }
        },
        "3a02d825d8a54734aef05dafb0546f50": {
          "model_module": "@jupyter-widgets/base",
          "model_name": "LayoutModel",
          "model_module_version": "1.2.0",
          "state": {
            "_model_module": "@jupyter-widgets/base",
            "_model_module_version": "1.2.0",
            "_model_name": "LayoutModel",
            "_view_count": null,
            "_view_module": "@jupyter-widgets/base",
            "_view_module_version": "1.2.0",
            "_view_name": "LayoutView",
            "align_content": null,
            "align_items": null,
            "align_self": null,
            "border": null,
            "bottom": null,
            "display": null,
            "flex": null,
            "flex_flow": null,
            "grid_area": null,
            "grid_auto_columns": null,
            "grid_auto_flow": null,
            "grid_auto_rows": null,
            "grid_column": null,
            "grid_gap": null,
            "grid_row": null,
            "grid_template_areas": null,
            "grid_template_columns": null,
            "grid_template_rows": null,
            "height": null,
            "justify_content": null,
            "justify_items": null,
            "left": null,
            "margin": null,
            "max_height": null,
            "max_width": null,
            "min_height": null,
            "min_width": null,
            "object_fit": null,
            "object_position": null,
            "order": null,
            "overflow": null,
            "overflow_x": null,
            "overflow_y": null,
            "padding": null,
            "right": null,
            "top": null,
            "visibility": null,
            "width": null
          }
        },
        "2b65c6d2f53d4e0791b61a27df1354a7": {
          "model_module": "@jupyter-widgets/base",
          "model_name": "LayoutModel",
          "model_module_version": "1.2.0",
          "state": {
            "_model_module": "@jupyter-widgets/base",
            "_model_module_version": "1.2.0",
            "_model_name": "LayoutModel",
            "_view_count": null,
            "_view_module": "@jupyter-widgets/base",
            "_view_module_version": "1.2.0",
            "_view_name": "LayoutView",
            "align_content": null,
            "align_items": null,
            "align_self": null,
            "border": null,
            "bottom": null,
            "display": null,
            "flex": null,
            "flex_flow": null,
            "grid_area": null,
            "grid_auto_columns": null,
            "grid_auto_flow": null,
            "grid_auto_rows": null,
            "grid_column": null,
            "grid_gap": null,
            "grid_row": null,
            "grid_template_areas": null,
            "grid_template_columns": null,
            "grid_template_rows": null,
            "height": null,
            "justify_content": null,
            "justify_items": null,
            "left": null,
            "margin": null,
            "max_height": null,
            "max_width": null,
            "min_height": null,
            "min_width": null,
            "object_fit": null,
            "object_position": null,
            "order": null,
            "overflow": null,
            "overflow_x": null,
            "overflow_y": null,
            "padding": null,
            "right": null,
            "top": null,
            "visibility": null,
            "width": null
          }
        },
        "eb87d15267874265b9214f4237136dfa": {
          "model_module": "@jupyter-widgets/controls",
          "model_name": "DescriptionStyleModel",
          "model_module_version": "1.5.0",
          "state": {
            "_model_module": "@jupyter-widgets/controls",
            "_model_module_version": "1.5.0",
            "_model_name": "DescriptionStyleModel",
            "_view_count": null,
            "_view_module": "@jupyter-widgets/base",
            "_view_module_version": "1.2.0",
            "_view_name": "StyleView",
            "description_width": ""
          }
        },
        "c02c138bdddf42e3b356f0b4c8eccec7": {
          "model_module": "@jupyter-widgets/base",
          "model_name": "LayoutModel",
          "model_module_version": "1.2.0",
          "state": {
            "_model_module": "@jupyter-widgets/base",
            "_model_module_version": "1.2.0",
            "_model_name": "LayoutModel",
            "_view_count": null,
            "_view_module": "@jupyter-widgets/base",
            "_view_module_version": "1.2.0",
            "_view_name": "LayoutView",
            "align_content": null,
            "align_items": null,
            "align_self": null,
            "border": null,
            "bottom": null,
            "display": null,
            "flex": null,
            "flex_flow": null,
            "grid_area": null,
            "grid_auto_columns": null,
            "grid_auto_flow": null,
            "grid_auto_rows": null,
            "grid_column": null,
            "grid_gap": null,
            "grid_row": null,
            "grid_template_areas": null,
            "grid_template_columns": null,
            "grid_template_rows": null,
            "height": null,
            "justify_content": null,
            "justify_items": null,
            "left": null,
            "margin": null,
            "max_height": null,
            "max_width": null,
            "min_height": null,
            "min_width": null,
            "object_fit": null,
            "object_position": null,
            "order": null,
            "overflow": null,
            "overflow_x": null,
            "overflow_y": null,
            "padding": null,
            "right": null,
            "top": null,
            "visibility": null,
            "width": null
          }
        },
        "7e070cefa6ac47878bcfd8329d34bd9c": {
          "model_module": "@jupyter-widgets/controls",
          "model_name": "ProgressStyleModel",
          "model_module_version": "1.5.0",
          "state": {
            "_model_module": "@jupyter-widgets/controls",
            "_model_module_version": "1.5.0",
            "_model_name": "ProgressStyleModel",
            "_view_count": null,
            "_view_module": "@jupyter-widgets/base",
            "_view_module_version": "1.2.0",
            "_view_name": "StyleView",
            "bar_color": null,
            "description_width": ""
          }
        },
        "904427012a7a4f95ad04ab1f63c469eb": {
          "model_module": "@jupyter-widgets/base",
          "model_name": "LayoutModel",
          "model_module_version": "1.2.0",
          "state": {
            "_model_module": "@jupyter-widgets/base",
            "_model_module_version": "1.2.0",
            "_model_name": "LayoutModel",
            "_view_count": null,
            "_view_module": "@jupyter-widgets/base",
            "_view_module_version": "1.2.0",
            "_view_name": "LayoutView",
            "align_content": null,
            "align_items": null,
            "align_self": null,
            "border": null,
            "bottom": null,
            "display": null,
            "flex": null,
            "flex_flow": null,
            "grid_area": null,
            "grid_auto_columns": null,
            "grid_auto_flow": null,
            "grid_auto_rows": null,
            "grid_column": null,
            "grid_gap": null,
            "grid_row": null,
            "grid_template_areas": null,
            "grid_template_columns": null,
            "grid_template_rows": null,
            "height": null,
            "justify_content": null,
            "justify_items": null,
            "left": null,
            "margin": null,
            "max_height": null,
            "max_width": null,
            "min_height": null,
            "min_width": null,
            "object_fit": null,
            "object_position": null,
            "order": null,
            "overflow": null,
            "overflow_x": null,
            "overflow_y": null,
            "padding": null,
            "right": null,
            "top": null,
            "visibility": null,
            "width": null
          }
        },
        "1141bfef40a8458a92a5d273e73ff40c": {
          "model_module": "@jupyter-widgets/controls",
          "model_name": "DescriptionStyleModel",
          "model_module_version": "1.5.0",
          "state": {
            "_model_module": "@jupyter-widgets/controls",
            "_model_module_version": "1.5.0",
            "_model_name": "DescriptionStyleModel",
            "_view_count": null,
            "_view_module": "@jupyter-widgets/base",
            "_view_module_version": "1.2.0",
            "_view_name": "StyleView",
            "description_width": ""
          }
        },
        "7968b51f29664665bc462b01d20b932e": {
          "model_module": "@jupyter-widgets/controls",
          "model_name": "HBoxModel",
          "model_module_version": "1.5.0",
          "state": {
            "_dom_classes": [],
            "_model_module": "@jupyter-widgets/controls",
            "_model_module_version": "1.5.0",
            "_model_name": "HBoxModel",
            "_view_count": null,
            "_view_module": "@jupyter-widgets/controls",
            "_view_module_version": "1.5.0",
            "_view_name": "HBoxView",
            "box_style": "",
            "children": [
              "IPY_MODEL_d44579a240274ce4ad2f614e9c45418c",
              "IPY_MODEL_3175343e8f944d2da167c5dafa2eecef",
              "IPY_MODEL_a5d3f08a652f4b12a4b7b6c67560bcaa"
            ],
            "layout": "IPY_MODEL_fddf7b3df85b42679750693a80298e02"
          }
        },
        "d44579a240274ce4ad2f614e9c45418c": {
          "model_module": "@jupyter-widgets/controls",
          "model_name": "HTMLModel",
          "model_module_version": "1.5.0",
          "state": {
            "_dom_classes": [],
            "_model_module": "@jupyter-widgets/controls",
            "_model_module_version": "1.5.0",
            "_model_name": "HTMLModel",
            "_view_count": null,
            "_view_module": "@jupyter-widgets/controls",
            "_view_module_version": "1.5.0",
            "_view_name": "HTMLView",
            "description": "",
            "description_tooltip": null,
            "layout": "IPY_MODEL_f2683db5bb1049248e7523c897faffd9",
            "placeholder": "​",
            "style": "IPY_MODEL_b8cebf3d9d924110bf2d4fd45dddd5d0",
            "value": "Downloading: 100%"
          }
        },
        "3175343e8f944d2da167c5dafa2eecef": {
          "model_module": "@jupyter-widgets/controls",
          "model_name": "FloatProgressModel",
          "model_module_version": "1.5.0",
          "state": {
            "_dom_classes": [],
            "_model_module": "@jupyter-widgets/controls",
            "_model_module_version": "1.5.0",
            "_model_name": "FloatProgressModel",
            "_view_count": null,
            "_view_module": "@jupyter-widgets/controls",
            "_view_module_version": "1.5.0",
            "_view_name": "ProgressView",
            "bar_style": "success",
            "description": "",
            "description_tooltip": null,
            "layout": "IPY_MODEL_fdb1624fe70d44e684a486d57b4f320b",
            "max": 739,
            "min": 0,
            "orientation": "horizontal",
            "style": "IPY_MODEL_5a5e834076284868a5c50879e2725ae6",
            "value": 739
          }
        },
        "a5d3f08a652f4b12a4b7b6c67560bcaa": {
          "model_module": "@jupyter-widgets/controls",
          "model_name": "HTMLModel",
          "model_module_version": "1.5.0",
          "state": {
            "_dom_classes": [],
            "_model_module": "@jupyter-widgets/controls",
            "_model_module_version": "1.5.0",
            "_model_name": "HTMLModel",
            "_view_count": null,
            "_view_module": "@jupyter-widgets/controls",
            "_view_module_version": "1.5.0",
            "_view_name": "HTMLView",
            "description": "",
            "description_tooltip": null,
            "layout": "IPY_MODEL_5714d2648f614719b0d43b95dcc9ef7a",
            "placeholder": "​",
            "style": "IPY_MODEL_a042e9f6c6874080943563ec6f00f871",
            "value": " 739/739 [00:00&lt;00:00, 25.8kB/s]"
          }
        },
        "fddf7b3df85b42679750693a80298e02": {
          "model_module": "@jupyter-widgets/base",
          "model_name": "LayoutModel",
          "model_module_version": "1.2.0",
          "state": {
            "_model_module": "@jupyter-widgets/base",
            "_model_module_version": "1.2.0",
            "_model_name": "LayoutModel",
            "_view_count": null,
            "_view_module": "@jupyter-widgets/base",
            "_view_module_version": "1.2.0",
            "_view_name": "LayoutView",
            "align_content": null,
            "align_items": null,
            "align_self": null,
            "border": null,
            "bottom": null,
            "display": null,
            "flex": null,
            "flex_flow": null,
            "grid_area": null,
            "grid_auto_columns": null,
            "grid_auto_flow": null,
            "grid_auto_rows": null,
            "grid_column": null,
            "grid_gap": null,
            "grid_row": null,
            "grid_template_areas": null,
            "grid_template_columns": null,
            "grid_template_rows": null,
            "height": null,
            "justify_content": null,
            "justify_items": null,
            "left": null,
            "margin": null,
            "max_height": null,
            "max_width": null,
            "min_height": null,
            "min_width": null,
            "object_fit": null,
            "object_position": null,
            "order": null,
            "overflow": null,
            "overflow_x": null,
            "overflow_y": null,
            "padding": null,
            "right": null,
            "top": null,
            "visibility": null,
            "width": null
          }
        },
        "f2683db5bb1049248e7523c897faffd9": {
          "model_module": "@jupyter-widgets/base",
          "model_name": "LayoutModel",
          "model_module_version": "1.2.0",
          "state": {
            "_model_module": "@jupyter-widgets/base",
            "_model_module_version": "1.2.0",
            "_model_name": "LayoutModel",
            "_view_count": null,
            "_view_module": "@jupyter-widgets/base",
            "_view_module_version": "1.2.0",
            "_view_name": "LayoutView",
            "align_content": null,
            "align_items": null,
            "align_self": null,
            "border": null,
            "bottom": null,
            "display": null,
            "flex": null,
            "flex_flow": null,
            "grid_area": null,
            "grid_auto_columns": null,
            "grid_auto_flow": null,
            "grid_auto_rows": null,
            "grid_column": null,
            "grid_gap": null,
            "grid_row": null,
            "grid_template_areas": null,
            "grid_template_columns": null,
            "grid_template_rows": null,
            "height": null,
            "justify_content": null,
            "justify_items": null,
            "left": null,
            "margin": null,
            "max_height": null,
            "max_width": null,
            "min_height": null,
            "min_width": null,
            "object_fit": null,
            "object_position": null,
            "order": null,
            "overflow": null,
            "overflow_x": null,
            "overflow_y": null,
            "padding": null,
            "right": null,
            "top": null,
            "visibility": null,
            "width": null
          }
        },
        "b8cebf3d9d924110bf2d4fd45dddd5d0": {
          "model_module": "@jupyter-widgets/controls",
          "model_name": "DescriptionStyleModel",
          "model_module_version": "1.5.0",
          "state": {
            "_model_module": "@jupyter-widgets/controls",
            "_model_module_version": "1.5.0",
            "_model_name": "DescriptionStyleModel",
            "_view_count": null,
            "_view_module": "@jupyter-widgets/base",
            "_view_module_version": "1.2.0",
            "_view_name": "StyleView",
            "description_width": ""
          }
        },
        "fdb1624fe70d44e684a486d57b4f320b": {
          "model_module": "@jupyter-widgets/base",
          "model_name": "LayoutModel",
          "model_module_version": "1.2.0",
          "state": {
            "_model_module": "@jupyter-widgets/base",
            "_model_module_version": "1.2.0",
            "_model_name": "LayoutModel",
            "_view_count": null,
            "_view_module": "@jupyter-widgets/base",
            "_view_module_version": "1.2.0",
            "_view_name": "LayoutView",
            "align_content": null,
            "align_items": null,
            "align_self": null,
            "border": null,
            "bottom": null,
            "display": null,
            "flex": null,
            "flex_flow": null,
            "grid_area": null,
            "grid_auto_columns": null,
            "grid_auto_flow": null,
            "grid_auto_rows": null,
            "grid_column": null,
            "grid_gap": null,
            "grid_row": null,
            "grid_template_areas": null,
            "grid_template_columns": null,
            "grid_template_rows": null,
            "height": null,
            "justify_content": null,
            "justify_items": null,
            "left": null,
            "margin": null,
            "max_height": null,
            "max_width": null,
            "min_height": null,
            "min_width": null,
            "object_fit": null,
            "object_position": null,
            "order": null,
            "overflow": null,
            "overflow_x": null,
            "overflow_y": null,
            "padding": null,
            "right": null,
            "top": null,
            "visibility": null,
            "width": null
          }
        },
        "5a5e834076284868a5c50879e2725ae6": {
          "model_module": "@jupyter-widgets/controls",
          "model_name": "ProgressStyleModel",
          "model_module_version": "1.5.0",
          "state": {
            "_model_module": "@jupyter-widgets/controls",
            "_model_module_version": "1.5.0",
            "_model_name": "ProgressStyleModel",
            "_view_count": null,
            "_view_module": "@jupyter-widgets/base",
            "_view_module_version": "1.2.0",
            "_view_name": "StyleView",
            "bar_color": null,
            "description_width": ""
          }
        },
        "5714d2648f614719b0d43b95dcc9ef7a": {
          "model_module": "@jupyter-widgets/base",
          "model_name": "LayoutModel",
          "model_module_version": "1.2.0",
          "state": {
            "_model_module": "@jupyter-widgets/base",
            "_model_module_version": "1.2.0",
            "_model_name": "LayoutModel",
            "_view_count": null,
            "_view_module": "@jupyter-widgets/base",
            "_view_module_version": "1.2.0",
            "_view_name": "LayoutView",
            "align_content": null,
            "align_items": null,
            "align_self": null,
            "border": null,
            "bottom": null,
            "display": null,
            "flex": null,
            "flex_flow": null,
            "grid_area": null,
            "grid_auto_columns": null,
            "grid_auto_flow": null,
            "grid_auto_rows": null,
            "grid_column": null,
            "grid_gap": null,
            "grid_row": null,
            "grid_template_areas": null,
            "grid_template_columns": null,
            "grid_template_rows": null,
            "height": null,
            "justify_content": null,
            "justify_items": null,
            "left": null,
            "margin": null,
            "max_height": null,
            "max_width": null,
            "min_height": null,
            "min_width": null,
            "object_fit": null,
            "object_position": null,
            "order": null,
            "overflow": null,
            "overflow_x": null,
            "overflow_y": null,
            "padding": null,
            "right": null,
            "top": null,
            "visibility": null,
            "width": null
          }
        },
        "a042e9f6c6874080943563ec6f00f871": {
          "model_module": "@jupyter-widgets/controls",
          "model_name": "DescriptionStyleModel",
          "model_module_version": "1.5.0",
          "state": {
            "_model_module": "@jupyter-widgets/controls",
            "_model_module_version": "1.5.0",
            "_model_name": "DescriptionStyleModel",
            "_view_count": null,
            "_view_module": "@jupyter-widgets/base",
            "_view_module_version": "1.2.0",
            "_view_name": "StyleView",
            "description_width": ""
          }
        },
        "f09a81e9429e4e009702d8440424dd0b": {
          "model_module": "@jupyter-widgets/controls",
          "model_name": "HBoxModel",
          "model_module_version": "1.5.0",
          "state": {
            "_dom_classes": [],
            "_model_module": "@jupyter-widgets/controls",
            "_model_module_version": "1.5.0",
            "_model_name": "HBoxModel",
            "_view_count": null,
            "_view_module": "@jupyter-widgets/controls",
            "_view_module_version": "1.5.0",
            "_view_name": "HBoxView",
            "box_style": "",
            "children": [
              "IPY_MODEL_ebffe92451d24361b73c03908ec7b0db",
              "IPY_MODEL_b4b29b0aea6144f299e140c4545da895",
              "IPY_MODEL_bdaf8a7e6cf94d7a8619875851d47cd6"
            ],
            "layout": "IPY_MODEL_46a1c1f8dd0d45078d5a7a424a7b6440"
          }
        },
        "ebffe92451d24361b73c03908ec7b0db": {
          "model_module": "@jupyter-widgets/controls",
          "model_name": "HTMLModel",
          "model_module_version": "1.5.0",
          "state": {
            "_dom_classes": [],
            "_model_module": "@jupyter-widgets/controls",
            "_model_module_version": "1.5.0",
            "_model_name": "HTMLModel",
            "_view_count": null,
            "_view_module": "@jupyter-widgets/controls",
            "_view_module_version": "1.5.0",
            "_view_name": "HTMLView",
            "description": "",
            "description_tooltip": null,
            "layout": "IPY_MODEL_f66ff051bd964cc6be2d9d14316561f9",
            "placeholder": "​",
            "style": "IPY_MODEL_c141c1a477124ed98172a1d974529889",
            "value": "Downloading data files: 100%"
          }
        },
        "b4b29b0aea6144f299e140c4545da895": {
          "model_module": "@jupyter-widgets/controls",
          "model_name": "FloatProgressModel",
          "model_module_version": "1.5.0",
          "state": {
            "_dom_classes": [],
            "_model_module": "@jupyter-widgets/controls",
            "_model_module_version": "1.5.0",
            "_model_name": "FloatProgressModel",
            "_view_count": null,
            "_view_module": "@jupyter-widgets/controls",
            "_view_module_version": "1.5.0",
            "_view_name": "ProgressView",
            "bar_style": "success",
            "description": "",
            "description_tooltip": null,
            "layout": "IPY_MODEL_cfc58f7f209a47c48ee2a966246b1082",
            "max": 2,
            "min": 0,
            "orientation": "horizontal",
            "style": "IPY_MODEL_8dcde37ebe9d4965a26b75f88b622b9f",
            "value": 2
          }
        },
        "bdaf8a7e6cf94d7a8619875851d47cd6": {
          "model_module": "@jupyter-widgets/controls",
          "model_name": "HTMLModel",
          "model_module_version": "1.5.0",
          "state": {
            "_dom_classes": [],
            "_model_module": "@jupyter-widgets/controls",
            "_model_module_version": "1.5.0",
            "_model_name": "HTMLModel",
            "_view_count": null,
            "_view_module": "@jupyter-widgets/controls",
            "_view_module_version": "1.5.0",
            "_view_name": "HTMLView",
            "description": "",
            "description_tooltip": null,
            "layout": "IPY_MODEL_e2e61b60852246fa86e649aa37e262b6",
            "placeholder": "​",
            "style": "IPY_MODEL_121583795b734ea68eeb1566be3359ee",
            "value": " 2/2 [00:04&lt;00:00,  2.37s/it]"
          }
        },
        "46a1c1f8dd0d45078d5a7a424a7b6440": {
          "model_module": "@jupyter-widgets/base",
          "model_name": "LayoutModel",
          "model_module_version": "1.2.0",
          "state": {
            "_model_module": "@jupyter-widgets/base",
            "_model_module_version": "1.2.0",
            "_model_name": "LayoutModel",
            "_view_count": null,
            "_view_module": "@jupyter-widgets/base",
            "_view_module_version": "1.2.0",
            "_view_name": "LayoutView",
            "align_content": null,
            "align_items": null,
            "align_self": null,
            "border": null,
            "bottom": null,
            "display": null,
            "flex": null,
            "flex_flow": null,
            "grid_area": null,
            "grid_auto_columns": null,
            "grid_auto_flow": null,
            "grid_auto_rows": null,
            "grid_column": null,
            "grid_gap": null,
            "grid_row": null,
            "grid_template_areas": null,
            "grid_template_columns": null,
            "grid_template_rows": null,
            "height": null,
            "justify_content": null,
            "justify_items": null,
            "left": null,
            "margin": null,
            "max_height": null,
            "max_width": null,
            "min_height": null,
            "min_width": null,
            "object_fit": null,
            "object_position": null,
            "order": null,
            "overflow": null,
            "overflow_x": null,
            "overflow_y": null,
            "padding": null,
            "right": null,
            "top": null,
            "visibility": null,
            "width": null
          }
        },
        "f66ff051bd964cc6be2d9d14316561f9": {
          "model_module": "@jupyter-widgets/base",
          "model_name": "LayoutModel",
          "model_module_version": "1.2.0",
          "state": {
            "_model_module": "@jupyter-widgets/base",
            "_model_module_version": "1.2.0",
            "_model_name": "LayoutModel",
            "_view_count": null,
            "_view_module": "@jupyter-widgets/base",
            "_view_module_version": "1.2.0",
            "_view_name": "LayoutView",
            "align_content": null,
            "align_items": null,
            "align_self": null,
            "border": null,
            "bottom": null,
            "display": null,
            "flex": null,
            "flex_flow": null,
            "grid_area": null,
            "grid_auto_columns": null,
            "grid_auto_flow": null,
            "grid_auto_rows": null,
            "grid_column": null,
            "grid_gap": null,
            "grid_row": null,
            "grid_template_areas": null,
            "grid_template_columns": null,
            "grid_template_rows": null,
            "height": null,
            "justify_content": null,
            "justify_items": null,
            "left": null,
            "margin": null,
            "max_height": null,
            "max_width": null,
            "min_height": null,
            "min_width": null,
            "object_fit": null,
            "object_position": null,
            "order": null,
            "overflow": null,
            "overflow_x": null,
            "overflow_y": null,
            "padding": null,
            "right": null,
            "top": null,
            "visibility": null,
            "width": null
          }
        },
        "c141c1a477124ed98172a1d974529889": {
          "model_module": "@jupyter-widgets/controls",
          "model_name": "DescriptionStyleModel",
          "model_module_version": "1.5.0",
          "state": {
            "_model_module": "@jupyter-widgets/controls",
            "_model_module_version": "1.5.0",
            "_model_name": "DescriptionStyleModel",
            "_view_count": null,
            "_view_module": "@jupyter-widgets/base",
            "_view_module_version": "1.2.0",
            "_view_name": "StyleView",
            "description_width": ""
          }
        },
        "cfc58f7f209a47c48ee2a966246b1082": {
          "model_module": "@jupyter-widgets/base",
          "model_name": "LayoutModel",
          "model_module_version": "1.2.0",
          "state": {
            "_model_module": "@jupyter-widgets/base",
            "_model_module_version": "1.2.0",
            "_model_name": "LayoutModel",
            "_view_count": null,
            "_view_module": "@jupyter-widgets/base",
            "_view_module_version": "1.2.0",
            "_view_name": "LayoutView",
            "align_content": null,
            "align_items": null,
            "align_self": null,
            "border": null,
            "bottom": null,
            "display": null,
            "flex": null,
            "flex_flow": null,
            "grid_area": null,
            "grid_auto_columns": null,
            "grid_auto_flow": null,
            "grid_auto_rows": null,
            "grid_column": null,
            "grid_gap": null,
            "grid_row": null,
            "grid_template_areas": null,
            "grid_template_columns": null,
            "grid_template_rows": null,
            "height": null,
            "justify_content": null,
            "justify_items": null,
            "left": null,
            "margin": null,
            "max_height": null,
            "max_width": null,
            "min_height": null,
            "min_width": null,
            "object_fit": null,
            "object_position": null,
            "order": null,
            "overflow": null,
            "overflow_x": null,
            "overflow_y": null,
            "padding": null,
            "right": null,
            "top": null,
            "visibility": null,
            "width": null
          }
        },
        "8dcde37ebe9d4965a26b75f88b622b9f": {
          "model_module": "@jupyter-widgets/controls",
          "model_name": "ProgressStyleModel",
          "model_module_version": "1.5.0",
          "state": {
            "_model_module": "@jupyter-widgets/controls",
            "_model_module_version": "1.5.0",
            "_model_name": "ProgressStyleModel",
            "_view_count": null,
            "_view_module": "@jupyter-widgets/base",
            "_view_module_version": "1.2.0",
            "_view_name": "StyleView",
            "bar_color": null,
            "description_width": ""
          }
        },
        "e2e61b60852246fa86e649aa37e262b6": {
          "model_module": "@jupyter-widgets/base",
          "model_name": "LayoutModel",
          "model_module_version": "1.2.0",
          "state": {
            "_model_module": "@jupyter-widgets/base",
            "_model_module_version": "1.2.0",
            "_model_name": "LayoutModel",
            "_view_count": null,
            "_view_module": "@jupyter-widgets/base",
            "_view_module_version": "1.2.0",
            "_view_name": "LayoutView",
            "align_content": null,
            "align_items": null,
            "align_self": null,
            "border": null,
            "bottom": null,
            "display": null,
            "flex": null,
            "flex_flow": null,
            "grid_area": null,
            "grid_auto_columns": null,
            "grid_auto_flow": null,
            "grid_auto_rows": null,
            "grid_column": null,
            "grid_gap": null,
            "grid_row": null,
            "grid_template_areas": null,
            "grid_template_columns": null,
            "grid_template_rows": null,
            "height": null,
            "justify_content": null,
            "justify_items": null,
            "left": null,
            "margin": null,
            "max_height": null,
            "max_width": null,
            "min_height": null,
            "min_width": null,
            "object_fit": null,
            "object_position": null,
            "order": null,
            "overflow": null,
            "overflow_x": null,
            "overflow_y": null,
            "padding": null,
            "right": null,
            "top": null,
            "visibility": null,
            "width": null
          }
        },
        "121583795b734ea68eeb1566be3359ee": {
          "model_module": "@jupyter-widgets/controls",
          "model_name": "DescriptionStyleModel",
          "model_module_version": "1.5.0",
          "state": {
            "_model_module": "@jupyter-widgets/controls",
            "_model_module_version": "1.5.0",
            "_model_name": "DescriptionStyleModel",
            "_view_count": null,
            "_view_module": "@jupyter-widgets/base",
            "_view_module_version": "1.2.0",
            "_view_name": "StyleView",
            "description_width": ""
          }
        },
        "c4f07e019c394916a0d786d86859dad6": {
          "model_module": "@jupyter-widgets/controls",
          "model_name": "HBoxModel",
          "model_module_version": "1.5.0",
          "state": {
            "_dom_classes": [],
            "_model_module": "@jupyter-widgets/controls",
            "_model_module_version": "1.5.0",
            "_model_name": "HBoxModel",
            "_view_count": null,
            "_view_module": "@jupyter-widgets/controls",
            "_view_module_version": "1.5.0",
            "_view_name": "HBoxView",
            "box_style": "",
            "children": [
              "IPY_MODEL_1ff34353be52415d94693dbabaec92d6",
              "IPY_MODEL_f991f5fef17c4cc7873e76d70ef0e69b",
              "IPY_MODEL_21f9b3733a574ebd880682c31140c125"
            ],
            "layout": "IPY_MODEL_4a4bb61dccf046ecbec38023edbc97d4"
          }
        },
        "1ff34353be52415d94693dbabaec92d6": {
          "model_module": "@jupyter-widgets/controls",
          "model_name": "HTMLModel",
          "model_module_version": "1.5.0",
          "state": {
            "_dom_classes": [],
            "_model_module": "@jupyter-widgets/controls",
            "_model_module_version": "1.5.0",
            "_model_name": "HTMLModel",
            "_view_count": null,
            "_view_module": "@jupyter-widgets/controls",
            "_view_module_version": "1.5.0",
            "_view_name": "HTMLView",
            "description": "",
            "description_tooltip": null,
            "layout": "IPY_MODEL_e76e4f875403454e966af40ea50fb91c",
            "placeholder": "​",
            "style": "IPY_MODEL_e374e4e7ede148a295207e124a1225a3",
            "value": "Downloading data: 100%"
          }
        },
        "f991f5fef17c4cc7873e76d70ef0e69b": {
          "model_module": "@jupyter-widgets/controls",
          "model_name": "FloatProgressModel",
          "model_module_version": "1.5.0",
          "state": {
            "_dom_classes": [],
            "_model_module": "@jupyter-widgets/controls",
            "_model_module_version": "1.5.0",
            "_model_name": "FloatProgressModel",
            "_view_count": null,
            "_view_module": "@jupyter-widgets/controls",
            "_view_module_version": "1.5.0",
            "_view_name": "ProgressView",
            "bar_style": "success",
            "description": "",
            "description_tooltip": null,
            "layout": "IPY_MODEL_04cbf7b358b948c8aaf12c53a26383bd",
            "max": 131932617,
            "min": 0,
            "orientation": "horizontal",
            "style": "IPY_MODEL_de57a8c7f1d143ad9634b0cad3f2bca3",
            "value": 131932617
          }
        },
        "21f9b3733a574ebd880682c31140c125": {
          "model_module": "@jupyter-widgets/controls",
          "model_name": "HTMLModel",
          "model_module_version": "1.5.0",
          "state": {
            "_dom_classes": [],
            "_model_module": "@jupyter-widgets/controls",
            "_model_module_version": "1.5.0",
            "_model_name": "HTMLModel",
            "_view_count": null,
            "_view_module": "@jupyter-widgets/controls",
            "_view_module_version": "1.5.0",
            "_view_name": "HTMLView",
            "description": "",
            "description_tooltip": null,
            "layout": "IPY_MODEL_3c204746abab424eb0109baa74b27476",
            "placeholder": "​",
            "style": "IPY_MODEL_8b933bc8130d4843a9b90f2af0c10f7e",
            "value": " 132M/132M [00:02&lt;00:00, 66.4MB/s]"
          }
        },
        "4a4bb61dccf046ecbec38023edbc97d4": {
          "model_module": "@jupyter-widgets/base",
          "model_name": "LayoutModel",
          "model_module_version": "1.2.0",
          "state": {
            "_model_module": "@jupyter-widgets/base",
            "_model_module_version": "1.2.0",
            "_model_name": "LayoutModel",
            "_view_count": null,
            "_view_module": "@jupyter-widgets/base",
            "_view_module_version": "1.2.0",
            "_view_name": "LayoutView",
            "align_content": null,
            "align_items": null,
            "align_self": null,
            "border": null,
            "bottom": null,
            "display": null,
            "flex": null,
            "flex_flow": null,
            "grid_area": null,
            "grid_auto_columns": null,
            "grid_auto_flow": null,
            "grid_auto_rows": null,
            "grid_column": null,
            "grid_gap": null,
            "grid_row": null,
            "grid_template_areas": null,
            "grid_template_columns": null,
            "grid_template_rows": null,
            "height": null,
            "justify_content": null,
            "justify_items": null,
            "left": null,
            "margin": null,
            "max_height": null,
            "max_width": null,
            "min_height": null,
            "min_width": null,
            "object_fit": null,
            "object_position": null,
            "order": null,
            "overflow": null,
            "overflow_x": null,
            "overflow_y": null,
            "padding": null,
            "right": null,
            "top": null,
            "visibility": null,
            "width": null
          }
        },
        "e76e4f875403454e966af40ea50fb91c": {
          "model_module": "@jupyter-widgets/base",
          "model_name": "LayoutModel",
          "model_module_version": "1.2.0",
          "state": {
            "_model_module": "@jupyter-widgets/base",
            "_model_module_version": "1.2.0",
            "_model_name": "LayoutModel",
            "_view_count": null,
            "_view_module": "@jupyter-widgets/base",
            "_view_module_version": "1.2.0",
            "_view_name": "LayoutView",
            "align_content": null,
            "align_items": null,
            "align_self": null,
            "border": null,
            "bottom": null,
            "display": null,
            "flex": null,
            "flex_flow": null,
            "grid_area": null,
            "grid_auto_columns": null,
            "grid_auto_flow": null,
            "grid_auto_rows": null,
            "grid_column": null,
            "grid_gap": null,
            "grid_row": null,
            "grid_template_areas": null,
            "grid_template_columns": null,
            "grid_template_rows": null,
            "height": null,
            "justify_content": null,
            "justify_items": null,
            "left": null,
            "margin": null,
            "max_height": null,
            "max_width": null,
            "min_height": null,
            "min_width": null,
            "object_fit": null,
            "object_position": null,
            "order": null,
            "overflow": null,
            "overflow_x": null,
            "overflow_y": null,
            "padding": null,
            "right": null,
            "top": null,
            "visibility": null,
            "width": null
          }
        },
        "e374e4e7ede148a295207e124a1225a3": {
          "model_module": "@jupyter-widgets/controls",
          "model_name": "DescriptionStyleModel",
          "model_module_version": "1.5.0",
          "state": {
            "_model_module": "@jupyter-widgets/controls",
            "_model_module_version": "1.5.0",
            "_model_name": "DescriptionStyleModel",
            "_view_count": null,
            "_view_module": "@jupyter-widgets/base",
            "_view_module_version": "1.2.0",
            "_view_name": "StyleView",
            "description_width": ""
          }
        },
        "04cbf7b358b948c8aaf12c53a26383bd": {
          "model_module": "@jupyter-widgets/base",
          "model_name": "LayoutModel",
          "model_module_version": "1.2.0",
          "state": {
            "_model_module": "@jupyter-widgets/base",
            "_model_module_version": "1.2.0",
            "_model_name": "LayoutModel",
            "_view_count": null,
            "_view_module": "@jupyter-widgets/base",
            "_view_module_version": "1.2.0",
            "_view_name": "LayoutView",
            "align_content": null,
            "align_items": null,
            "align_self": null,
            "border": null,
            "bottom": null,
            "display": null,
            "flex": null,
            "flex_flow": null,
            "grid_area": null,
            "grid_auto_columns": null,
            "grid_auto_flow": null,
            "grid_auto_rows": null,
            "grid_column": null,
            "grid_gap": null,
            "grid_row": null,
            "grid_template_areas": null,
            "grid_template_columns": null,
            "grid_template_rows": null,
            "height": null,
            "justify_content": null,
            "justify_items": null,
            "left": null,
            "margin": null,
            "max_height": null,
            "max_width": null,
            "min_height": null,
            "min_width": null,
            "object_fit": null,
            "object_position": null,
            "order": null,
            "overflow": null,
            "overflow_x": null,
            "overflow_y": null,
            "padding": null,
            "right": null,
            "top": null,
            "visibility": null,
            "width": null
          }
        },
        "de57a8c7f1d143ad9634b0cad3f2bca3": {
          "model_module": "@jupyter-widgets/controls",
          "model_name": "ProgressStyleModel",
          "model_module_version": "1.5.0",
          "state": {
            "_model_module": "@jupyter-widgets/controls",
            "_model_module_version": "1.5.0",
            "_model_name": "ProgressStyleModel",
            "_view_count": null,
            "_view_module": "@jupyter-widgets/base",
            "_view_module_version": "1.2.0",
            "_view_name": "StyleView",
            "bar_color": null,
            "description_width": ""
          }
        },
        "3c204746abab424eb0109baa74b27476": {
          "model_module": "@jupyter-widgets/base",
          "model_name": "LayoutModel",
          "model_module_version": "1.2.0",
          "state": {
            "_model_module": "@jupyter-widgets/base",
            "_model_module_version": "1.2.0",
            "_model_name": "LayoutModel",
            "_view_count": null,
            "_view_module": "@jupyter-widgets/base",
            "_view_module_version": "1.2.0",
            "_view_name": "LayoutView",
            "align_content": null,
            "align_items": null,
            "align_self": null,
            "border": null,
            "bottom": null,
            "display": null,
            "flex": null,
            "flex_flow": null,
            "grid_area": null,
            "grid_auto_columns": null,
            "grid_auto_flow": null,
            "grid_auto_rows": null,
            "grid_column": null,
            "grid_gap": null,
            "grid_row": null,
            "grid_template_areas": null,
            "grid_template_columns": null,
            "grid_template_rows": null,
            "height": null,
            "justify_content": null,
            "justify_items": null,
            "left": null,
            "margin": null,
            "max_height": null,
            "max_width": null,
            "min_height": null,
            "min_width": null,
            "object_fit": null,
            "object_position": null,
            "order": null,
            "overflow": null,
            "overflow_x": null,
            "overflow_y": null,
            "padding": null,
            "right": null,
            "top": null,
            "visibility": null,
            "width": null
          }
        },
        "8b933bc8130d4843a9b90f2af0c10f7e": {
          "model_module": "@jupyter-widgets/controls",
          "model_name": "DescriptionStyleModel",
          "model_module_version": "1.5.0",
          "state": {
            "_model_module": "@jupyter-widgets/controls",
            "_model_module_version": "1.5.0",
            "_model_name": "DescriptionStyleModel",
            "_view_count": null,
            "_view_module": "@jupyter-widgets/base",
            "_view_module_version": "1.2.0",
            "_view_name": "StyleView",
            "description_width": ""
          }
        },
        "a9eb5997a97b46cba4984271546814cb": {
          "model_module": "@jupyter-widgets/controls",
          "model_name": "HBoxModel",
          "model_module_version": "1.5.0",
          "state": {
            "_dom_classes": [],
            "_model_module": "@jupyter-widgets/controls",
            "_model_module_version": "1.5.0",
            "_model_name": "HBoxModel",
            "_view_count": null,
            "_view_module": "@jupyter-widgets/controls",
            "_view_module_version": "1.5.0",
            "_view_name": "HBoxView",
            "box_style": "",
            "children": [
              "IPY_MODEL_f945bf5db9e74143a7af9abe689a91dd",
              "IPY_MODEL_0f1f58a8dcf046f7ab330f32f34ce6a0",
              "IPY_MODEL_bf3efd4623354150901942d8b917c508"
            ],
            "layout": "IPY_MODEL_c30de051e45e44dcb26c561f5bdbe05b"
          }
        },
        "f945bf5db9e74143a7af9abe689a91dd": {
          "model_module": "@jupyter-widgets/controls",
          "model_name": "HTMLModel",
          "model_module_version": "1.5.0",
          "state": {
            "_dom_classes": [],
            "_model_module": "@jupyter-widgets/controls",
            "_model_module_version": "1.5.0",
            "_model_name": "HTMLModel",
            "_view_count": null,
            "_view_module": "@jupyter-widgets/controls",
            "_view_module_version": "1.5.0",
            "_view_name": "HTMLView",
            "description": "",
            "description_tooltip": null,
            "layout": "IPY_MODEL_8b49677120984a169874fbbdcccbab36",
            "placeholder": "​",
            "style": "IPY_MODEL_4d03535bc4554bd08998eed10b5e7832",
            "value": "Downloading data: 100%"
          }
        },
        "0f1f58a8dcf046f7ab330f32f34ce6a0": {
          "model_module": "@jupyter-widgets/controls",
          "model_name": "FloatProgressModel",
          "model_module_version": "1.5.0",
          "state": {
            "_dom_classes": [],
            "_model_module": "@jupyter-widgets/controls",
            "_model_module_version": "1.5.0",
            "_model_name": "FloatProgressModel",
            "_view_count": null,
            "_view_module": "@jupyter-widgets/controls",
            "_view_module_version": "1.5.0",
            "_view_name": "ProgressView",
            "bar_style": "success",
            "description": "",
            "description_tooltip": null,
            "layout": "IPY_MODEL_7cfd5da9841b495cabb188a2562de368",
            "max": 33611302,
            "min": 0,
            "orientation": "horizontal",
            "style": "IPY_MODEL_93ed65cc98654469a1330ac51cb40396",
            "value": 33611302
          }
        },
        "bf3efd4623354150901942d8b917c508": {
          "model_module": "@jupyter-widgets/controls",
          "model_name": "HTMLModel",
          "model_module_version": "1.5.0",
          "state": {
            "_dom_classes": [],
            "_model_module": "@jupyter-widgets/controls",
            "_model_module_version": "1.5.0",
            "_model_name": "HTMLModel",
            "_view_count": null,
            "_view_module": "@jupyter-widgets/controls",
            "_view_module_version": "1.5.0",
            "_view_name": "HTMLView",
            "description": "",
            "description_tooltip": null,
            "layout": "IPY_MODEL_d2952941ce334bccabcf236ba94d2ca5",
            "placeholder": "​",
            "style": "IPY_MODEL_972b0f58678443bca18b1874d3f1d76c",
            "value": " 33.6M/33.6M [00:00&lt;00:00, 64.6MB/s]"
          }
        },
        "c30de051e45e44dcb26c561f5bdbe05b": {
          "model_module": "@jupyter-widgets/base",
          "model_name": "LayoutModel",
          "model_module_version": "1.2.0",
          "state": {
            "_model_module": "@jupyter-widgets/base",
            "_model_module_version": "1.2.0",
            "_model_name": "LayoutModel",
            "_view_count": null,
            "_view_module": "@jupyter-widgets/base",
            "_view_module_version": "1.2.0",
            "_view_name": "LayoutView",
            "align_content": null,
            "align_items": null,
            "align_self": null,
            "border": null,
            "bottom": null,
            "display": null,
            "flex": null,
            "flex_flow": null,
            "grid_area": null,
            "grid_auto_columns": null,
            "grid_auto_flow": null,
            "grid_auto_rows": null,
            "grid_column": null,
            "grid_gap": null,
            "grid_row": null,
            "grid_template_areas": null,
            "grid_template_columns": null,
            "grid_template_rows": null,
            "height": null,
            "justify_content": null,
            "justify_items": null,
            "left": null,
            "margin": null,
            "max_height": null,
            "max_width": null,
            "min_height": null,
            "min_width": null,
            "object_fit": null,
            "object_position": null,
            "order": null,
            "overflow": null,
            "overflow_x": null,
            "overflow_y": null,
            "padding": null,
            "right": null,
            "top": null,
            "visibility": null,
            "width": null
          }
        },
        "8b49677120984a169874fbbdcccbab36": {
          "model_module": "@jupyter-widgets/base",
          "model_name": "LayoutModel",
          "model_module_version": "1.2.0",
          "state": {
            "_model_module": "@jupyter-widgets/base",
            "_model_module_version": "1.2.0",
            "_model_name": "LayoutModel",
            "_view_count": null,
            "_view_module": "@jupyter-widgets/base",
            "_view_module_version": "1.2.0",
            "_view_name": "LayoutView",
            "align_content": null,
            "align_items": null,
            "align_self": null,
            "border": null,
            "bottom": null,
            "display": null,
            "flex": null,
            "flex_flow": null,
            "grid_area": null,
            "grid_auto_columns": null,
            "grid_auto_flow": null,
            "grid_auto_rows": null,
            "grid_column": null,
            "grid_gap": null,
            "grid_row": null,
            "grid_template_areas": null,
            "grid_template_columns": null,
            "grid_template_rows": null,
            "height": null,
            "justify_content": null,
            "justify_items": null,
            "left": null,
            "margin": null,
            "max_height": null,
            "max_width": null,
            "min_height": null,
            "min_width": null,
            "object_fit": null,
            "object_position": null,
            "order": null,
            "overflow": null,
            "overflow_x": null,
            "overflow_y": null,
            "padding": null,
            "right": null,
            "top": null,
            "visibility": null,
            "width": null
          }
        },
        "4d03535bc4554bd08998eed10b5e7832": {
          "model_module": "@jupyter-widgets/controls",
          "model_name": "DescriptionStyleModel",
          "model_module_version": "1.5.0",
          "state": {
            "_model_module": "@jupyter-widgets/controls",
            "_model_module_version": "1.5.0",
            "_model_name": "DescriptionStyleModel",
            "_view_count": null,
            "_view_module": "@jupyter-widgets/base",
            "_view_module_version": "1.2.0",
            "_view_name": "StyleView",
            "description_width": ""
          }
        },
        "7cfd5da9841b495cabb188a2562de368": {
          "model_module": "@jupyter-widgets/base",
          "model_name": "LayoutModel",
          "model_module_version": "1.2.0",
          "state": {
            "_model_module": "@jupyter-widgets/base",
            "_model_module_version": "1.2.0",
            "_model_name": "LayoutModel",
            "_view_count": null,
            "_view_module": "@jupyter-widgets/base",
            "_view_module_version": "1.2.0",
            "_view_name": "LayoutView",
            "align_content": null,
            "align_items": null,
            "align_self": null,
            "border": null,
            "bottom": null,
            "display": null,
            "flex": null,
            "flex_flow": null,
            "grid_area": null,
            "grid_auto_columns": null,
            "grid_auto_flow": null,
            "grid_auto_rows": null,
            "grid_column": null,
            "grid_gap": null,
            "grid_row": null,
            "grid_template_areas": null,
            "grid_template_columns": null,
            "grid_template_rows": null,
            "height": null,
            "justify_content": null,
            "justify_items": null,
            "left": null,
            "margin": null,
            "max_height": null,
            "max_width": null,
            "min_height": null,
            "min_width": null,
            "object_fit": null,
            "object_position": null,
            "order": null,
            "overflow": null,
            "overflow_x": null,
            "overflow_y": null,
            "padding": null,
            "right": null,
            "top": null,
            "visibility": null,
            "width": null
          }
        },
        "93ed65cc98654469a1330ac51cb40396": {
          "model_module": "@jupyter-widgets/controls",
          "model_name": "ProgressStyleModel",
          "model_module_version": "1.5.0",
          "state": {
            "_model_module": "@jupyter-widgets/controls",
            "_model_module_version": "1.5.0",
            "_model_name": "ProgressStyleModel",
            "_view_count": null,
            "_view_module": "@jupyter-widgets/base",
            "_view_module_version": "1.2.0",
            "_view_name": "StyleView",
            "bar_color": null,
            "description_width": ""
          }
        },
        "d2952941ce334bccabcf236ba94d2ca5": {
          "model_module": "@jupyter-widgets/base",
          "model_name": "LayoutModel",
          "model_module_version": "1.2.0",
          "state": {
            "_model_module": "@jupyter-widgets/base",
            "_model_module_version": "1.2.0",
            "_model_name": "LayoutModel",
            "_view_count": null,
            "_view_module": "@jupyter-widgets/base",
            "_view_module_version": "1.2.0",
            "_view_name": "LayoutView",
            "align_content": null,
            "align_items": null,
            "align_self": null,
            "border": null,
            "bottom": null,
            "display": null,
            "flex": null,
            "flex_flow": null,
            "grid_area": null,
            "grid_auto_columns": null,
            "grid_auto_flow": null,
            "grid_auto_rows": null,
            "grid_column": null,
            "grid_gap": null,
            "grid_row": null,
            "grid_template_areas": null,
            "grid_template_columns": null,
            "grid_template_rows": null,
            "height": null,
            "justify_content": null,
            "justify_items": null,
            "left": null,
            "margin": null,
            "max_height": null,
            "max_width": null,
            "min_height": null,
            "min_width": null,
            "object_fit": null,
            "object_position": null,
            "order": null,
            "overflow": null,
            "overflow_x": null,
            "overflow_y": null,
            "padding": null,
            "right": null,
            "top": null,
            "visibility": null,
            "width": null
          }
        },
        "972b0f58678443bca18b1874d3f1d76c": {
          "model_module": "@jupyter-widgets/controls",
          "model_name": "DescriptionStyleModel",
          "model_module_version": "1.5.0",
          "state": {
            "_model_module": "@jupyter-widgets/controls",
            "_model_module_version": "1.5.0",
            "_model_name": "DescriptionStyleModel",
            "_view_count": null,
            "_view_module": "@jupyter-widgets/base",
            "_view_module_version": "1.2.0",
            "_view_name": "StyleView",
            "description_width": ""
          }
        },
        "1d9ad10c5a8b4669b5a6cc3eb58a7de5": {
          "model_module": "@jupyter-widgets/controls",
          "model_name": "HBoxModel",
          "model_module_version": "1.5.0",
          "state": {
            "_dom_classes": [],
            "_model_module": "@jupyter-widgets/controls",
            "_model_module_version": "1.5.0",
            "_model_name": "HBoxModel",
            "_view_count": null,
            "_view_module": "@jupyter-widgets/controls",
            "_view_module_version": "1.5.0",
            "_view_name": "HBoxView",
            "box_style": "",
            "children": [
              "IPY_MODEL_d88732de47e9479798cd369d4e287d7d",
              "IPY_MODEL_44796bcf9cfc4c2188ce354113033739",
              "IPY_MODEL_10a176d72e1241b9a3c8a316baebc34f"
            ],
            "layout": "IPY_MODEL_0aaa9faa194f48358a9697f5c4afb5db"
          }
        },
        "d88732de47e9479798cd369d4e287d7d": {
          "model_module": "@jupyter-widgets/controls",
          "model_name": "HTMLModel",
          "model_module_version": "1.5.0",
          "state": {
            "_dom_classes": [],
            "_model_module": "@jupyter-widgets/controls",
            "_model_module_version": "1.5.0",
            "_model_name": "HTMLModel",
            "_view_count": null,
            "_view_module": "@jupyter-widgets/controls",
            "_view_module_version": "1.5.0",
            "_view_name": "HTMLView",
            "description": "",
            "description_tooltip": null,
            "layout": "IPY_MODEL_d398f7a8c880442b947a5c160927196a",
            "placeholder": "​",
            "style": "IPY_MODEL_262dd6fb10304be98cfc143f12824a4f",
            "value": "Extracting data files: 100%"
          }
        },
        "44796bcf9cfc4c2188ce354113033739": {
          "model_module": "@jupyter-widgets/controls",
          "model_name": "FloatProgressModel",
          "model_module_version": "1.5.0",
          "state": {
            "_dom_classes": [],
            "_model_module": "@jupyter-widgets/controls",
            "_model_module_version": "1.5.0",
            "_model_name": "FloatProgressModel",
            "_view_count": null,
            "_view_module": "@jupyter-widgets/controls",
            "_view_module_version": "1.5.0",
            "_view_name": "ProgressView",
            "bar_style": "success",
            "description": "",
            "description_tooltip": null,
            "layout": "IPY_MODEL_79ec4131c5e24b2985fd4dc099cc35df",
            "max": 2,
            "min": 0,
            "orientation": "horizontal",
            "style": "IPY_MODEL_49a461dbdf314f8b8f06ae3ae75e3796",
            "value": 2
          }
        },
        "10a176d72e1241b9a3c8a316baebc34f": {
          "model_module": "@jupyter-widgets/controls",
          "model_name": "HTMLModel",
          "model_module_version": "1.5.0",
          "state": {
            "_dom_classes": [],
            "_model_module": "@jupyter-widgets/controls",
            "_model_module_version": "1.5.0",
            "_model_name": "HTMLModel",
            "_view_count": null,
            "_view_module": "@jupyter-widgets/controls",
            "_view_module_version": "1.5.0",
            "_view_name": "HTMLView",
            "description": "",
            "description_tooltip": null,
            "layout": "IPY_MODEL_c72c24ae971349cebc42f2690edcda6d",
            "placeholder": "​",
            "style": "IPY_MODEL_df36a2ce916546378ab7f89a429bd236",
            "value": " 2/2 [00:00&lt;00:00, 63.50it/s]"
          }
        },
        "0aaa9faa194f48358a9697f5c4afb5db": {
          "model_module": "@jupyter-widgets/base",
          "model_name": "LayoutModel",
          "model_module_version": "1.2.0",
          "state": {
            "_model_module": "@jupyter-widgets/base",
            "_model_module_version": "1.2.0",
            "_model_name": "LayoutModel",
            "_view_count": null,
            "_view_module": "@jupyter-widgets/base",
            "_view_module_version": "1.2.0",
            "_view_name": "LayoutView",
            "align_content": null,
            "align_items": null,
            "align_self": null,
            "border": null,
            "bottom": null,
            "display": null,
            "flex": null,
            "flex_flow": null,
            "grid_area": null,
            "grid_auto_columns": null,
            "grid_auto_flow": null,
            "grid_auto_rows": null,
            "grid_column": null,
            "grid_gap": null,
            "grid_row": null,
            "grid_template_areas": null,
            "grid_template_columns": null,
            "grid_template_rows": null,
            "height": null,
            "justify_content": null,
            "justify_items": null,
            "left": null,
            "margin": null,
            "max_height": null,
            "max_width": null,
            "min_height": null,
            "min_width": null,
            "object_fit": null,
            "object_position": null,
            "order": null,
            "overflow": null,
            "overflow_x": null,
            "overflow_y": null,
            "padding": null,
            "right": null,
            "top": null,
            "visibility": null,
            "width": null
          }
        },
        "d398f7a8c880442b947a5c160927196a": {
          "model_module": "@jupyter-widgets/base",
          "model_name": "LayoutModel",
          "model_module_version": "1.2.0",
          "state": {
            "_model_module": "@jupyter-widgets/base",
            "_model_module_version": "1.2.0",
            "_model_name": "LayoutModel",
            "_view_count": null,
            "_view_module": "@jupyter-widgets/base",
            "_view_module_version": "1.2.0",
            "_view_name": "LayoutView",
            "align_content": null,
            "align_items": null,
            "align_self": null,
            "border": null,
            "bottom": null,
            "display": null,
            "flex": null,
            "flex_flow": null,
            "grid_area": null,
            "grid_auto_columns": null,
            "grid_auto_flow": null,
            "grid_auto_rows": null,
            "grid_column": null,
            "grid_gap": null,
            "grid_row": null,
            "grid_template_areas": null,
            "grid_template_columns": null,
            "grid_template_rows": null,
            "height": null,
            "justify_content": null,
            "justify_items": null,
            "left": null,
            "margin": null,
            "max_height": null,
            "max_width": null,
            "min_height": null,
            "min_width": null,
            "object_fit": null,
            "object_position": null,
            "order": null,
            "overflow": null,
            "overflow_x": null,
            "overflow_y": null,
            "padding": null,
            "right": null,
            "top": null,
            "visibility": null,
            "width": null
          }
        },
        "262dd6fb10304be98cfc143f12824a4f": {
          "model_module": "@jupyter-widgets/controls",
          "model_name": "DescriptionStyleModel",
          "model_module_version": "1.5.0",
          "state": {
            "_model_module": "@jupyter-widgets/controls",
            "_model_module_version": "1.5.0",
            "_model_name": "DescriptionStyleModel",
            "_view_count": null,
            "_view_module": "@jupyter-widgets/base",
            "_view_module_version": "1.2.0",
            "_view_name": "StyleView",
            "description_width": ""
          }
        },
        "79ec4131c5e24b2985fd4dc099cc35df": {
          "model_module": "@jupyter-widgets/base",
          "model_name": "LayoutModel",
          "model_module_version": "1.2.0",
          "state": {
            "_model_module": "@jupyter-widgets/base",
            "_model_module_version": "1.2.0",
            "_model_name": "LayoutModel",
            "_view_count": null,
            "_view_module": "@jupyter-widgets/base",
            "_view_module_version": "1.2.0",
            "_view_name": "LayoutView",
            "align_content": null,
            "align_items": null,
            "align_self": null,
            "border": null,
            "bottom": null,
            "display": null,
            "flex": null,
            "flex_flow": null,
            "grid_area": null,
            "grid_auto_columns": null,
            "grid_auto_flow": null,
            "grid_auto_rows": null,
            "grid_column": null,
            "grid_gap": null,
            "grid_row": null,
            "grid_template_areas": null,
            "grid_template_columns": null,
            "grid_template_rows": null,
            "height": null,
            "justify_content": null,
            "justify_items": null,
            "left": null,
            "margin": null,
            "max_height": null,
            "max_width": null,
            "min_height": null,
            "min_width": null,
            "object_fit": null,
            "object_position": null,
            "order": null,
            "overflow": null,
            "overflow_x": null,
            "overflow_y": null,
            "padding": null,
            "right": null,
            "top": null,
            "visibility": null,
            "width": null
          }
        },
        "49a461dbdf314f8b8f06ae3ae75e3796": {
          "model_module": "@jupyter-widgets/controls",
          "model_name": "ProgressStyleModel",
          "model_module_version": "1.5.0",
          "state": {
            "_model_module": "@jupyter-widgets/controls",
            "_model_module_version": "1.5.0",
            "_model_name": "ProgressStyleModel",
            "_view_count": null,
            "_view_module": "@jupyter-widgets/base",
            "_view_module_version": "1.2.0",
            "_view_name": "StyleView",
            "bar_color": null,
            "description_width": ""
          }
        },
        "c72c24ae971349cebc42f2690edcda6d": {
          "model_module": "@jupyter-widgets/base",
          "model_name": "LayoutModel",
          "model_module_version": "1.2.0",
          "state": {
            "_model_module": "@jupyter-widgets/base",
            "_model_module_version": "1.2.0",
            "_model_name": "LayoutModel",
            "_view_count": null,
            "_view_module": "@jupyter-widgets/base",
            "_view_module_version": "1.2.0",
            "_view_name": "LayoutView",
            "align_content": null,
            "align_items": null,
            "align_self": null,
            "border": null,
            "bottom": null,
            "display": null,
            "flex": null,
            "flex_flow": null,
            "grid_area": null,
            "grid_auto_columns": null,
            "grid_auto_flow": null,
            "grid_auto_rows": null,
            "grid_column": null,
            "grid_gap": null,
            "grid_row": null,
            "grid_template_areas": null,
            "grid_template_columns": null,
            "grid_template_rows": null,
            "height": null,
            "justify_content": null,
            "justify_items": null,
            "left": null,
            "margin": null,
            "max_height": null,
            "max_width": null,
            "min_height": null,
            "min_width": null,
            "object_fit": null,
            "object_position": null,
            "order": null,
            "overflow": null,
            "overflow_x": null,
            "overflow_y": null,
            "padding": null,
            "right": null,
            "top": null,
            "visibility": null,
            "width": null
          }
        },
        "df36a2ce916546378ab7f89a429bd236": {
          "model_module": "@jupyter-widgets/controls",
          "model_name": "DescriptionStyleModel",
          "model_module_version": "1.5.0",
          "state": {
            "_model_module": "@jupyter-widgets/controls",
            "_model_module_version": "1.5.0",
            "_model_name": "DescriptionStyleModel",
            "_view_count": null,
            "_view_module": "@jupyter-widgets/base",
            "_view_module_version": "1.2.0",
            "_view_name": "StyleView",
            "description_width": ""
          }
        },
        "9d9c063a8275447a9dbe31480203e1de": {
          "model_module": "@jupyter-widgets/controls",
          "model_name": "HBoxModel",
          "model_module_version": "1.5.0",
          "state": {
            "_dom_classes": [],
            "_model_module": "@jupyter-widgets/controls",
            "_model_module_version": "1.5.0",
            "_model_name": "HBoxModel",
            "_view_count": null,
            "_view_module": "@jupyter-widgets/controls",
            "_view_module_version": "1.5.0",
            "_view_name": "HBoxView",
            "box_style": "",
            "children": [
              "IPY_MODEL_77ad9629bafe47d0bba3ca4f17b4bcef",
              "IPY_MODEL_d5c6981aecf048818b907d4dd8529c23",
              "IPY_MODEL_28e3d4b9ae6d4c72b15bbbe858031a9e"
            ],
            "layout": "IPY_MODEL_1b9f87c7b1de4380be8129f2beec80cb"
          }
        },
        "77ad9629bafe47d0bba3ca4f17b4bcef": {
          "model_module": "@jupyter-widgets/controls",
          "model_name": "HTMLModel",
          "model_module_version": "1.5.0",
          "state": {
            "_dom_classes": [],
            "_model_module": "@jupyter-widgets/controls",
            "_model_module_version": "1.5.0",
            "_model_name": "HTMLModel",
            "_view_count": null,
            "_view_module": "@jupyter-widgets/controls",
            "_view_module_version": "1.5.0",
            "_view_name": "HTMLView",
            "description": "",
            "description_tooltip": null,
            "layout": "IPY_MODEL_9611d57d8cdf40f096d25bd67277fe85",
            "placeholder": "​",
            "style": "IPY_MODEL_f30240f9bb8f4411a28078cf3b0d65ae",
            "value": ""
          }
        },
        "d5c6981aecf048818b907d4dd8529c23": {
          "model_module": "@jupyter-widgets/controls",
          "model_name": "FloatProgressModel",
          "model_module_version": "1.5.0",
          "state": {
            "_dom_classes": [],
            "_model_module": "@jupyter-widgets/controls",
            "_model_module_version": "1.5.0",
            "_model_name": "FloatProgressModel",
            "_view_count": null,
            "_view_module": "@jupyter-widgets/controls",
            "_view_module_version": "1.5.0",
            "_view_name": "ProgressView",
            "bar_style": "info",
            "description": "",
            "description_tooltip": null,
            "layout": "IPY_MODEL_ced4b3fff324410a9de0123778552e7f",
            "max": 1,
            "min": 0,
            "orientation": "horizontal",
            "style": "IPY_MODEL_9da2f4ffb1ef4675aa64d2d5cc469d8d",
            "value": 1
          }
        },
        "28e3d4b9ae6d4c72b15bbbe858031a9e": {
          "model_module": "@jupyter-widgets/controls",
          "model_name": "HTMLModel",
          "model_module_version": "1.5.0",
          "state": {
            "_dom_classes": [],
            "_model_module": "@jupyter-widgets/controls",
            "_model_module_version": "1.5.0",
            "_model_name": "HTMLModel",
            "_view_count": null,
            "_view_module": "@jupyter-widgets/controls",
            "_view_module_version": "1.5.0",
            "_view_name": "HTMLView",
            "description": "",
            "description_tooltip": null,
            "layout": "IPY_MODEL_8ceb12fbf221425794753f1139e28191",
            "placeholder": "​",
            "style": "IPY_MODEL_d5c806cc327b43d69ce9e84c0e021a4b",
            "value": " 1/? [00:01&lt;00:00,  1.18s/ tables]"
          }
        },
        "1b9f87c7b1de4380be8129f2beec80cb": {
          "model_module": "@jupyter-widgets/base",
          "model_name": "LayoutModel",
          "model_module_version": "1.2.0",
          "state": {
            "_model_module": "@jupyter-widgets/base",
            "_model_module_version": "1.2.0",
            "_model_name": "LayoutModel",
            "_view_count": null,
            "_view_module": "@jupyter-widgets/base",
            "_view_module_version": "1.2.0",
            "_view_name": "LayoutView",
            "align_content": null,
            "align_items": null,
            "align_self": null,
            "border": null,
            "bottom": null,
            "display": null,
            "flex": null,
            "flex_flow": null,
            "grid_area": null,
            "grid_auto_columns": null,
            "grid_auto_flow": null,
            "grid_auto_rows": null,
            "grid_column": null,
            "grid_gap": null,
            "grid_row": null,
            "grid_template_areas": null,
            "grid_template_columns": null,
            "grid_template_rows": null,
            "height": null,
            "justify_content": null,
            "justify_items": null,
            "left": null,
            "margin": null,
            "max_height": null,
            "max_width": null,
            "min_height": null,
            "min_width": null,
            "object_fit": null,
            "object_position": null,
            "order": null,
            "overflow": null,
            "overflow_x": null,
            "overflow_y": null,
            "padding": null,
            "right": null,
            "top": null,
            "visibility": null,
            "width": null
          }
        },
        "9611d57d8cdf40f096d25bd67277fe85": {
          "model_module": "@jupyter-widgets/base",
          "model_name": "LayoutModel",
          "model_module_version": "1.2.0",
          "state": {
            "_model_module": "@jupyter-widgets/base",
            "_model_module_version": "1.2.0",
            "_model_name": "LayoutModel",
            "_view_count": null,
            "_view_module": "@jupyter-widgets/base",
            "_view_module_version": "1.2.0",
            "_view_name": "LayoutView",
            "align_content": null,
            "align_items": null,
            "align_self": null,
            "border": null,
            "bottom": null,
            "display": null,
            "flex": null,
            "flex_flow": null,
            "grid_area": null,
            "grid_auto_columns": null,
            "grid_auto_flow": null,
            "grid_auto_rows": null,
            "grid_column": null,
            "grid_gap": null,
            "grid_row": null,
            "grid_template_areas": null,
            "grid_template_columns": null,
            "grid_template_rows": null,
            "height": null,
            "justify_content": null,
            "justify_items": null,
            "left": null,
            "margin": null,
            "max_height": null,
            "max_width": null,
            "min_height": null,
            "min_width": null,
            "object_fit": null,
            "object_position": null,
            "order": null,
            "overflow": null,
            "overflow_x": null,
            "overflow_y": null,
            "padding": null,
            "right": null,
            "top": null,
            "visibility": null,
            "width": null
          }
        },
        "f30240f9bb8f4411a28078cf3b0d65ae": {
          "model_module": "@jupyter-widgets/controls",
          "model_name": "DescriptionStyleModel",
          "model_module_version": "1.5.0",
          "state": {
            "_model_module": "@jupyter-widgets/controls",
            "_model_module_version": "1.5.0",
            "_model_name": "DescriptionStyleModel",
            "_view_count": null,
            "_view_module": "@jupyter-widgets/base",
            "_view_module_version": "1.2.0",
            "_view_name": "StyleView",
            "description_width": ""
          }
        },
        "ced4b3fff324410a9de0123778552e7f": {
          "model_module": "@jupyter-widgets/base",
          "model_name": "LayoutModel",
          "model_module_version": "1.2.0",
          "state": {
            "_model_module": "@jupyter-widgets/base",
            "_model_module_version": "1.2.0",
            "_model_name": "LayoutModel",
            "_view_count": null,
            "_view_module": "@jupyter-widgets/base",
            "_view_module_version": "1.2.0",
            "_view_name": "LayoutView",
            "align_content": null,
            "align_items": null,
            "align_self": null,
            "border": null,
            "bottom": null,
            "display": null,
            "flex": null,
            "flex_flow": null,
            "grid_area": null,
            "grid_auto_columns": null,
            "grid_auto_flow": null,
            "grid_auto_rows": null,
            "grid_column": null,
            "grid_gap": null,
            "grid_row": null,
            "grid_template_areas": null,
            "grid_template_columns": null,
            "grid_template_rows": null,
            "height": null,
            "justify_content": null,
            "justify_items": null,
            "left": null,
            "margin": null,
            "max_height": null,
            "max_width": null,
            "min_height": null,
            "min_width": null,
            "object_fit": null,
            "object_position": null,
            "order": null,
            "overflow": null,
            "overflow_x": null,
            "overflow_y": null,
            "padding": null,
            "right": null,
            "top": null,
            "visibility": null,
            "width": "20px"
          }
        },
        "9da2f4ffb1ef4675aa64d2d5cc469d8d": {
          "model_module": "@jupyter-widgets/controls",
          "model_name": "ProgressStyleModel",
          "model_module_version": "1.5.0",
          "state": {
            "_model_module": "@jupyter-widgets/controls",
            "_model_module_version": "1.5.0",
            "_model_name": "ProgressStyleModel",
            "_view_count": null,
            "_view_module": "@jupyter-widgets/base",
            "_view_module_version": "1.2.0",
            "_view_name": "StyleView",
            "bar_color": null,
            "description_width": ""
          }
        },
        "8ceb12fbf221425794753f1139e28191": {
          "model_module": "@jupyter-widgets/base",
          "model_name": "LayoutModel",
          "model_module_version": "1.2.0",
          "state": {
            "_model_module": "@jupyter-widgets/base",
            "_model_module_version": "1.2.0",
            "_model_name": "LayoutModel",
            "_view_count": null,
            "_view_module": "@jupyter-widgets/base",
            "_view_module_version": "1.2.0",
            "_view_name": "LayoutView",
            "align_content": null,
            "align_items": null,
            "align_self": null,
            "border": null,
            "bottom": null,
            "display": null,
            "flex": null,
            "flex_flow": null,
            "grid_area": null,
            "grid_auto_columns": null,
            "grid_auto_flow": null,
            "grid_auto_rows": null,
            "grid_column": null,
            "grid_gap": null,
            "grid_row": null,
            "grid_template_areas": null,
            "grid_template_columns": null,
            "grid_template_rows": null,
            "height": null,
            "justify_content": null,
            "justify_items": null,
            "left": null,
            "margin": null,
            "max_height": null,
            "max_width": null,
            "min_height": null,
            "min_width": null,
            "object_fit": null,
            "object_position": null,
            "order": null,
            "overflow": null,
            "overflow_x": null,
            "overflow_y": null,
            "padding": null,
            "right": null,
            "top": null,
            "visibility": null,
            "width": null
          }
        },
        "d5c806cc327b43d69ce9e84c0e021a4b": {
          "model_module": "@jupyter-widgets/controls",
          "model_name": "DescriptionStyleModel",
          "model_module_version": "1.5.0",
          "state": {
            "_model_module": "@jupyter-widgets/controls",
            "_model_module_version": "1.5.0",
            "_model_name": "DescriptionStyleModel",
            "_view_count": null,
            "_view_module": "@jupyter-widgets/base",
            "_view_module_version": "1.2.0",
            "_view_name": "StyleView",
            "description_width": ""
          }
        },
        "e0b12d271d684496ac64ca9f4c052ef9": {
          "model_module": "@jupyter-widgets/controls",
          "model_name": "HBoxModel",
          "model_module_version": "1.5.0",
          "state": {
            "_dom_classes": [],
            "_model_module": "@jupyter-widgets/controls",
            "_model_module_version": "1.5.0",
            "_model_name": "HBoxModel",
            "_view_count": null,
            "_view_module": "@jupyter-widgets/controls",
            "_view_module_version": "1.5.0",
            "_view_name": "HBoxView",
            "box_style": "",
            "children": [
              "IPY_MODEL_bb27fb81f02c4e1c8a4b4d0645a5baa8",
              "IPY_MODEL_d75d5635069b4e7881c7139b8b03fb0b",
              "IPY_MODEL_d91ebba819ad4e1693770000c88d9750"
            ],
            "layout": "IPY_MODEL_dc089ce269b444478630d6aebe740b08"
          }
        },
        "bb27fb81f02c4e1c8a4b4d0645a5baa8": {
          "model_module": "@jupyter-widgets/controls",
          "model_name": "HTMLModel",
          "model_module_version": "1.5.0",
          "state": {
            "_dom_classes": [],
            "_model_module": "@jupyter-widgets/controls",
            "_model_module_version": "1.5.0",
            "_model_name": "HTMLModel",
            "_view_count": null,
            "_view_module": "@jupyter-widgets/controls",
            "_view_module_version": "1.5.0",
            "_view_name": "HTMLView",
            "description": "",
            "description_tooltip": null,
            "layout": "IPY_MODEL_13b2608e97424325954709e335e8cb7a",
            "placeholder": "​",
            "style": "IPY_MODEL_290afd19e6f145e9965ac3ad3bc6a53c",
            "value": ""
          }
        },
        "d75d5635069b4e7881c7139b8b03fb0b": {
          "model_module": "@jupyter-widgets/controls",
          "model_name": "FloatProgressModel",
          "model_module_version": "1.5.0",
          "state": {
            "_dom_classes": [],
            "_model_module": "@jupyter-widgets/controls",
            "_model_module_version": "1.5.0",
            "_model_name": "FloatProgressModel",
            "_view_count": null,
            "_view_module": "@jupyter-widgets/controls",
            "_view_module_version": "1.5.0",
            "_view_name": "ProgressView",
            "bar_style": "info",
            "description": "",
            "description_tooltip": null,
            "layout": "IPY_MODEL_96996473835e4a819950a2e9df22740f",
            "max": 1,
            "min": 0,
            "orientation": "horizontal",
            "style": "IPY_MODEL_1acbf20edf174484807a9a85c9bb2d1b",
            "value": 1
          }
        },
        "d91ebba819ad4e1693770000c88d9750": {
          "model_module": "@jupyter-widgets/controls",
          "model_name": "HTMLModel",
          "model_module_version": "1.5.0",
          "state": {
            "_dom_classes": [],
            "_model_module": "@jupyter-widgets/controls",
            "_model_module_version": "1.5.0",
            "_model_name": "HTMLModel",
            "_view_count": null,
            "_view_module": "@jupyter-widgets/controls",
            "_view_module_version": "1.5.0",
            "_view_name": "HTMLView",
            "description": "",
            "description_tooltip": null,
            "layout": "IPY_MODEL_61afb2287fa14a9f94fd87e49d44580e",
            "placeholder": "​",
            "style": "IPY_MODEL_e22e9140ad5b438183f92298df7fc003",
            "value": " 1/? [00:00&lt;00:00,  4.55 tables/s]"
          }
        },
        "dc089ce269b444478630d6aebe740b08": {
          "model_module": "@jupyter-widgets/base",
          "model_name": "LayoutModel",
          "model_module_version": "1.2.0",
          "state": {
            "_model_module": "@jupyter-widgets/base",
            "_model_module_version": "1.2.0",
            "_model_name": "LayoutModel",
            "_view_count": null,
            "_view_module": "@jupyter-widgets/base",
            "_view_module_version": "1.2.0",
            "_view_name": "LayoutView",
            "align_content": null,
            "align_items": null,
            "align_self": null,
            "border": null,
            "bottom": null,
            "display": null,
            "flex": null,
            "flex_flow": null,
            "grid_area": null,
            "grid_auto_columns": null,
            "grid_auto_flow": null,
            "grid_auto_rows": null,
            "grid_column": null,
            "grid_gap": null,
            "grid_row": null,
            "grid_template_areas": null,
            "grid_template_columns": null,
            "grid_template_rows": null,
            "height": null,
            "justify_content": null,
            "justify_items": null,
            "left": null,
            "margin": null,
            "max_height": null,
            "max_width": null,
            "min_height": null,
            "min_width": null,
            "object_fit": null,
            "object_position": null,
            "order": null,
            "overflow": null,
            "overflow_x": null,
            "overflow_y": null,
            "padding": null,
            "right": null,
            "top": null,
            "visibility": null,
            "width": null
          }
        },
        "13b2608e97424325954709e335e8cb7a": {
          "model_module": "@jupyter-widgets/base",
          "model_name": "LayoutModel",
          "model_module_version": "1.2.0",
          "state": {
            "_model_module": "@jupyter-widgets/base",
            "_model_module_version": "1.2.0",
            "_model_name": "LayoutModel",
            "_view_count": null,
            "_view_module": "@jupyter-widgets/base",
            "_view_module_version": "1.2.0",
            "_view_name": "LayoutView",
            "align_content": null,
            "align_items": null,
            "align_self": null,
            "border": null,
            "bottom": null,
            "display": null,
            "flex": null,
            "flex_flow": null,
            "grid_area": null,
            "grid_auto_columns": null,
            "grid_auto_flow": null,
            "grid_auto_rows": null,
            "grid_column": null,
            "grid_gap": null,
            "grid_row": null,
            "grid_template_areas": null,
            "grid_template_columns": null,
            "grid_template_rows": null,
            "height": null,
            "justify_content": null,
            "justify_items": null,
            "left": null,
            "margin": null,
            "max_height": null,
            "max_width": null,
            "min_height": null,
            "min_width": null,
            "object_fit": null,
            "object_position": null,
            "order": null,
            "overflow": null,
            "overflow_x": null,
            "overflow_y": null,
            "padding": null,
            "right": null,
            "top": null,
            "visibility": null,
            "width": null
          }
        },
        "290afd19e6f145e9965ac3ad3bc6a53c": {
          "model_module": "@jupyter-widgets/controls",
          "model_name": "DescriptionStyleModel",
          "model_module_version": "1.5.0",
          "state": {
            "_model_module": "@jupyter-widgets/controls",
            "_model_module_version": "1.5.0",
            "_model_name": "DescriptionStyleModel",
            "_view_count": null,
            "_view_module": "@jupyter-widgets/base",
            "_view_module_version": "1.2.0",
            "_view_name": "StyleView",
            "description_width": ""
          }
        },
        "96996473835e4a819950a2e9df22740f": {
          "model_module": "@jupyter-widgets/base",
          "model_name": "LayoutModel",
          "model_module_version": "1.2.0",
          "state": {
            "_model_module": "@jupyter-widgets/base",
            "_model_module_version": "1.2.0",
            "_model_name": "LayoutModel",
            "_view_count": null,
            "_view_module": "@jupyter-widgets/base",
            "_view_module_version": "1.2.0",
            "_view_name": "LayoutView",
            "align_content": null,
            "align_items": null,
            "align_self": null,
            "border": null,
            "bottom": null,
            "display": null,
            "flex": null,
            "flex_flow": null,
            "grid_area": null,
            "grid_auto_columns": null,
            "grid_auto_flow": null,
            "grid_auto_rows": null,
            "grid_column": null,
            "grid_gap": null,
            "grid_row": null,
            "grid_template_areas": null,
            "grid_template_columns": null,
            "grid_template_rows": null,
            "height": null,
            "justify_content": null,
            "justify_items": null,
            "left": null,
            "margin": null,
            "max_height": null,
            "max_width": null,
            "min_height": null,
            "min_width": null,
            "object_fit": null,
            "object_position": null,
            "order": null,
            "overflow": null,
            "overflow_x": null,
            "overflow_y": null,
            "padding": null,
            "right": null,
            "top": null,
            "visibility": null,
            "width": "20px"
          }
        },
        "1acbf20edf174484807a9a85c9bb2d1b": {
          "model_module": "@jupyter-widgets/controls",
          "model_name": "ProgressStyleModel",
          "model_module_version": "1.5.0",
          "state": {
            "_model_module": "@jupyter-widgets/controls",
            "_model_module_version": "1.5.0",
            "_model_name": "ProgressStyleModel",
            "_view_count": null,
            "_view_module": "@jupyter-widgets/base",
            "_view_module_version": "1.2.0",
            "_view_name": "StyleView",
            "bar_color": null,
            "description_width": ""
          }
        },
        "61afb2287fa14a9f94fd87e49d44580e": {
          "model_module": "@jupyter-widgets/base",
          "model_name": "LayoutModel",
          "model_module_version": "1.2.0",
          "state": {
            "_model_module": "@jupyter-widgets/base",
            "_model_module_version": "1.2.0",
            "_model_name": "LayoutModel",
            "_view_count": null,
            "_view_module": "@jupyter-widgets/base",
            "_view_module_version": "1.2.0",
            "_view_name": "LayoutView",
            "align_content": null,
            "align_items": null,
            "align_self": null,
            "border": null,
            "bottom": null,
            "display": null,
            "flex": null,
            "flex_flow": null,
            "grid_area": null,
            "grid_auto_columns": null,
            "grid_auto_flow": null,
            "grid_auto_rows": null,
            "grid_column": null,
            "grid_gap": null,
            "grid_row": null,
            "grid_template_areas": null,
            "grid_template_columns": null,
            "grid_template_rows": null,
            "height": null,
            "justify_content": null,
            "justify_items": null,
            "left": null,
            "margin": null,
            "max_height": null,
            "max_width": null,
            "min_height": null,
            "min_width": null,
            "object_fit": null,
            "object_position": null,
            "order": null,
            "overflow": null,
            "overflow_x": null,
            "overflow_y": null,
            "padding": null,
            "right": null,
            "top": null,
            "visibility": null,
            "width": null
          }
        },
        "e22e9140ad5b438183f92298df7fc003": {
          "model_module": "@jupyter-widgets/controls",
          "model_name": "DescriptionStyleModel",
          "model_module_version": "1.5.0",
          "state": {
            "_model_module": "@jupyter-widgets/controls",
            "_model_module_version": "1.5.0",
            "_model_name": "DescriptionStyleModel",
            "_view_count": null,
            "_view_module": "@jupyter-widgets/base",
            "_view_module_version": "1.2.0",
            "_view_name": "StyleView",
            "description_width": ""
          }
        },
        "d600939a4ee04fbb9c393b731d499dc3": {
          "model_module": "@jupyter-widgets/controls",
          "model_name": "HBoxModel",
          "model_module_version": "1.5.0",
          "state": {
            "_dom_classes": [],
            "_model_module": "@jupyter-widgets/controls",
            "_model_module_version": "1.5.0",
            "_model_name": "HBoxModel",
            "_view_count": null,
            "_view_module": "@jupyter-widgets/controls",
            "_view_module_version": "1.5.0",
            "_view_name": "HBoxView",
            "box_style": "",
            "children": [
              "IPY_MODEL_acf9f2d1509241d6bce6067471f72225",
              "IPY_MODEL_43f4f079dde44d41bc4f6a2009d9b034",
              "IPY_MODEL_36f1ffd81c1a494a87d5e53f0a0e7f4b"
            ],
            "layout": "IPY_MODEL_32a818a6f58a427486ea71275bdebe4b"
          }
        },
        "acf9f2d1509241d6bce6067471f72225": {
          "model_module": "@jupyter-widgets/controls",
          "model_name": "HTMLModel",
          "model_module_version": "1.5.0",
          "state": {
            "_dom_classes": [],
            "_model_module": "@jupyter-widgets/controls",
            "_model_module_version": "1.5.0",
            "_model_name": "HTMLModel",
            "_view_count": null,
            "_view_module": "@jupyter-widgets/controls",
            "_view_module_version": "1.5.0",
            "_view_name": "HTMLView",
            "description": "",
            "description_tooltip": null,
            "layout": "IPY_MODEL_1d4c4ad9c0a644369314d6290743778c",
            "placeholder": "​",
            "style": "IPY_MODEL_f13c80e4d744428ab7581476b3849892",
            "value": "100%"
          }
        },
        "43f4f079dde44d41bc4f6a2009d9b034": {
          "model_module": "@jupyter-widgets/controls",
          "model_name": "FloatProgressModel",
          "model_module_version": "1.5.0",
          "state": {
            "_dom_classes": [],
            "_model_module": "@jupyter-widgets/controls",
            "_model_module_version": "1.5.0",
            "_model_name": "FloatProgressModel",
            "_view_count": null,
            "_view_module": "@jupyter-widgets/controls",
            "_view_module_version": "1.5.0",
            "_view_name": "ProgressView",
            "bar_style": "success",
            "description": "",
            "description_tooltip": null,
            "layout": "IPY_MODEL_f9e5c83dbf224a07933adae17105c44b",
            "max": 2,
            "min": 0,
            "orientation": "horizontal",
            "style": "IPY_MODEL_8b8b32258d4944e8af1566dc87646451",
            "value": 2
          }
        },
        "36f1ffd81c1a494a87d5e53f0a0e7f4b": {
          "model_module": "@jupyter-widgets/controls",
          "model_name": "HTMLModel",
          "model_module_version": "1.5.0",
          "state": {
            "_dom_classes": [],
            "_model_module": "@jupyter-widgets/controls",
            "_model_module_version": "1.5.0",
            "_model_name": "HTMLModel",
            "_view_count": null,
            "_view_module": "@jupyter-widgets/controls",
            "_view_module_version": "1.5.0",
            "_view_name": "HTMLView",
            "description": "",
            "description_tooltip": null,
            "layout": "IPY_MODEL_53d4a19eaf114a35ad40370bb2f49e03",
            "placeholder": "​",
            "style": "IPY_MODEL_b33f9da453d5454fbba45c8f1c191d2e",
            "value": " 2/2 [00:00&lt;00:00, 59.57it/s]"
          }
        },
        "32a818a6f58a427486ea71275bdebe4b": {
          "model_module": "@jupyter-widgets/base",
          "model_name": "LayoutModel",
          "model_module_version": "1.2.0",
          "state": {
            "_model_module": "@jupyter-widgets/base",
            "_model_module_version": "1.2.0",
            "_model_name": "LayoutModel",
            "_view_count": null,
            "_view_module": "@jupyter-widgets/base",
            "_view_module_version": "1.2.0",
            "_view_name": "LayoutView",
            "align_content": null,
            "align_items": null,
            "align_self": null,
            "border": null,
            "bottom": null,
            "display": null,
            "flex": null,
            "flex_flow": null,
            "grid_area": null,
            "grid_auto_columns": null,
            "grid_auto_flow": null,
            "grid_auto_rows": null,
            "grid_column": null,
            "grid_gap": null,
            "grid_row": null,
            "grid_template_areas": null,
            "grid_template_columns": null,
            "grid_template_rows": null,
            "height": null,
            "justify_content": null,
            "justify_items": null,
            "left": null,
            "margin": null,
            "max_height": null,
            "max_width": null,
            "min_height": null,
            "min_width": null,
            "object_fit": null,
            "object_position": null,
            "order": null,
            "overflow": null,
            "overflow_x": null,
            "overflow_y": null,
            "padding": null,
            "right": null,
            "top": null,
            "visibility": null,
            "width": null
          }
        },
        "1d4c4ad9c0a644369314d6290743778c": {
          "model_module": "@jupyter-widgets/base",
          "model_name": "LayoutModel",
          "model_module_version": "1.2.0",
          "state": {
            "_model_module": "@jupyter-widgets/base",
            "_model_module_version": "1.2.0",
            "_model_name": "LayoutModel",
            "_view_count": null,
            "_view_module": "@jupyter-widgets/base",
            "_view_module_version": "1.2.0",
            "_view_name": "LayoutView",
            "align_content": null,
            "align_items": null,
            "align_self": null,
            "border": null,
            "bottom": null,
            "display": null,
            "flex": null,
            "flex_flow": null,
            "grid_area": null,
            "grid_auto_columns": null,
            "grid_auto_flow": null,
            "grid_auto_rows": null,
            "grid_column": null,
            "grid_gap": null,
            "grid_row": null,
            "grid_template_areas": null,
            "grid_template_columns": null,
            "grid_template_rows": null,
            "height": null,
            "justify_content": null,
            "justify_items": null,
            "left": null,
            "margin": null,
            "max_height": null,
            "max_width": null,
            "min_height": null,
            "min_width": null,
            "object_fit": null,
            "object_position": null,
            "order": null,
            "overflow": null,
            "overflow_x": null,
            "overflow_y": null,
            "padding": null,
            "right": null,
            "top": null,
            "visibility": null,
            "width": null
          }
        },
        "f13c80e4d744428ab7581476b3849892": {
          "model_module": "@jupyter-widgets/controls",
          "model_name": "DescriptionStyleModel",
          "model_module_version": "1.5.0",
          "state": {
            "_model_module": "@jupyter-widgets/controls",
            "_model_module_version": "1.5.0",
            "_model_name": "DescriptionStyleModel",
            "_view_count": null,
            "_view_module": "@jupyter-widgets/base",
            "_view_module_version": "1.2.0",
            "_view_name": "StyleView",
            "description_width": ""
          }
        },
        "f9e5c83dbf224a07933adae17105c44b": {
          "model_module": "@jupyter-widgets/base",
          "model_name": "LayoutModel",
          "model_module_version": "1.2.0",
          "state": {
            "_model_module": "@jupyter-widgets/base",
            "_model_module_version": "1.2.0",
            "_model_name": "LayoutModel",
            "_view_count": null,
            "_view_module": "@jupyter-widgets/base",
            "_view_module_version": "1.2.0",
            "_view_name": "LayoutView",
            "align_content": null,
            "align_items": null,
            "align_self": null,
            "border": null,
            "bottom": null,
            "display": null,
            "flex": null,
            "flex_flow": null,
            "grid_area": null,
            "grid_auto_columns": null,
            "grid_auto_flow": null,
            "grid_auto_rows": null,
            "grid_column": null,
            "grid_gap": null,
            "grid_row": null,
            "grid_template_areas": null,
            "grid_template_columns": null,
            "grid_template_rows": null,
            "height": null,
            "justify_content": null,
            "justify_items": null,
            "left": null,
            "margin": null,
            "max_height": null,
            "max_width": null,
            "min_height": null,
            "min_width": null,
            "object_fit": null,
            "object_position": null,
            "order": null,
            "overflow": null,
            "overflow_x": null,
            "overflow_y": null,
            "padding": null,
            "right": null,
            "top": null,
            "visibility": null,
            "width": null
          }
        },
        "8b8b32258d4944e8af1566dc87646451": {
          "model_module": "@jupyter-widgets/controls",
          "model_name": "ProgressStyleModel",
          "model_module_version": "1.5.0",
          "state": {
            "_model_module": "@jupyter-widgets/controls",
            "_model_module_version": "1.5.0",
            "_model_name": "ProgressStyleModel",
            "_view_count": null,
            "_view_module": "@jupyter-widgets/base",
            "_view_module_version": "1.2.0",
            "_view_name": "StyleView",
            "bar_color": null,
            "description_width": ""
          }
        },
        "53d4a19eaf114a35ad40370bb2f49e03": {
          "model_module": "@jupyter-widgets/base",
          "model_name": "LayoutModel",
          "model_module_version": "1.2.0",
          "state": {
            "_model_module": "@jupyter-widgets/base",
            "_model_module_version": "1.2.0",
            "_model_name": "LayoutModel",
            "_view_count": null,
            "_view_module": "@jupyter-widgets/base",
            "_view_module_version": "1.2.0",
            "_view_name": "LayoutView",
            "align_content": null,
            "align_items": null,
            "align_self": null,
            "border": null,
            "bottom": null,
            "display": null,
            "flex": null,
            "flex_flow": null,
            "grid_area": null,
            "grid_auto_columns": null,
            "grid_auto_flow": null,
            "grid_auto_rows": null,
            "grid_column": null,
            "grid_gap": null,
            "grid_row": null,
            "grid_template_areas": null,
            "grid_template_columns": null,
            "grid_template_rows": null,
            "height": null,
            "justify_content": null,
            "justify_items": null,
            "left": null,
            "margin": null,
            "max_height": null,
            "max_width": null,
            "min_height": null,
            "min_width": null,
            "object_fit": null,
            "object_position": null,
            "order": null,
            "overflow": null,
            "overflow_x": null,
            "overflow_y": null,
            "padding": null,
            "right": null,
            "top": null,
            "visibility": null,
            "width": null
          }
        },
        "b33f9da453d5454fbba45c8f1c191d2e": {
          "model_module": "@jupyter-widgets/controls",
          "model_name": "DescriptionStyleModel",
          "model_module_version": "1.5.0",
          "state": {
            "_model_module": "@jupyter-widgets/controls",
            "_model_module_version": "1.5.0",
            "_model_name": "DescriptionStyleModel",
            "_view_count": null,
            "_view_module": "@jupyter-widgets/base",
            "_view_module_version": "1.2.0",
            "_view_name": "StyleView",
            "description_width": ""
          }
        }
      }
    }
  },
  "nbformat": 4,
  "nbformat_minor": 0
}