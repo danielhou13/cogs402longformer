{
  "cells": [
    {
      "cell_type": "markdown",
      "metadata": {
        "id": "view-in-github",
        "colab_type": "text"
      },
      "source": [
        "<a href=\"https://colab.research.google.com/github/danielhou13/cogs402longformer/blob/main/src/Attn_attr_cosine_sim_all.ipynb\" target=\"_parent\"><img src=\"https://colab.research.google.com/assets/colab-badge.svg\" alt=\"Open In Colab\"/></a>"
      ]
    },
    {
      "cell_type": "markdown",
      "source": [
        "This notebook explores the relation between the model's attributions and attentions for a given example. Historically, we found that attentions are not a feasible method of explanation whereas attributions are, but attributions are also not part of a model's traditional outputs. Therefore it may be interesting to see if we can find anything with attentions by comparing them to a feasible and plausible method of explanation. We also apply masking to various scenarios to examine their effects on similarity. \n",
        "\n",
        "This notebook is very similar to this [notebook](https://colab.research.google.com/drive/14a1tOimrRbLlXd0rbtY-UTcizR5GDd4F) and serves to present a priminary findings of what examples are interesting by iterating through the entire dataset using much few steps when computing [Integrated Gradients](https://arxiv.org/abs/1703.01365). The output of this notebook is a .csv file containing the similarities of different attention layers."
      ],
      "metadata": {
        "id": "mlqrlFd9SzDV"
      }
    },
    {
      "cell_type": "code",
      "source": [
        "from google.colab import drive\n",
        "drive.mount('/content/drive')"
      ],
      "metadata": {
        "id": "4G07aiA37RC9",
        "colab": {
          "base_uri": "https://localhost:8080/"
        },
        "outputId": "4e0b2b71-316b-4cf4-9479-238a6e334231"
      },
      "execution_count": null,
      "outputs": [
        {
          "output_type": "stream",
          "name": "stdout",
          "text": [
            "Mounted at /content/drive\n"
          ]
        }
      ]
    },
    {
      "cell_type": "markdown",
      "source": [
        "## Import dependencies"
      ],
      "metadata": {
        "id": "HkZ5bD2_z-0C"
      }
    },
    {
      "cell_type": "code",
      "source": [
        "pip install transformers --quiet"
      ],
      "metadata": {
        "id": "zMjzQIFJ2P_T",
        "colab": {
          "base_uri": "https://localhost:8080/"
        },
        "outputId": "7b4a64b8-f491-4e6a-93f8-1f484594d380"
      },
      "execution_count": null,
      "outputs": [
        {
          "output_type": "stream",
          "name": "stdout",
          "text": [
            "\u001b[K     |████████████████████████████████| 4.7 MB 7.0 MB/s \n",
            "\u001b[K     |████████████████████████████████| 101 kB 13.1 MB/s \n",
            "\u001b[K     |████████████████████████████████| 596 kB 83.7 MB/s \n",
            "\u001b[K     |████████████████████████████████| 6.6 MB 72.1 MB/s \n",
            "\u001b[?25h"
          ]
        }
      ]
    },
    {
      "cell_type": "code",
      "source": [
        "pip install captum --quiet"
      ],
      "metadata": {
        "id": "Uno0qwr12UTd",
        "colab": {
          "base_uri": "https://localhost:8080/"
        },
        "outputId": "1e93fe51-0fb5-4dc1-b939-d4894d96f7d5"
      },
      "execution_count": null,
      "outputs": [
        {
          "output_type": "stream",
          "name": "stdout",
          "text": [
            "\u001b[?25l\r\u001b[K     |▎                               | 10 kB 31.1 MB/s eta 0:00:01\r\u001b[K     |▌                               | 20 kB 39.9 MB/s eta 0:00:01\r\u001b[K     |▊                               | 30 kB 15.5 MB/s eta 0:00:01\r\u001b[K     |█                               | 40 kB 6.9 MB/s eta 0:00:01\r\u001b[K     |█▏                              | 51 kB 7.1 MB/s eta 0:00:01\r\u001b[K     |█▍                              | 61 kB 8.4 MB/s eta 0:00:01\r\u001b[K     |█▋                              | 71 kB 9.1 MB/s eta 0:00:01\r\u001b[K     |█▉                              | 81 kB 8.6 MB/s eta 0:00:01\r\u001b[K     |██                              | 92 kB 9.6 MB/s eta 0:00:01\r\u001b[K     |██▎                             | 102 kB 7.9 MB/s eta 0:00:01\r\u001b[K     |██▌                             | 112 kB 7.9 MB/s eta 0:00:01\r\u001b[K     |██▊                             | 122 kB 7.9 MB/s eta 0:00:01\r\u001b[K     |███                             | 133 kB 7.9 MB/s eta 0:00:01\r\u001b[K     |███▏                            | 143 kB 7.9 MB/s eta 0:00:01\r\u001b[K     |███▌                            | 153 kB 7.9 MB/s eta 0:00:01\r\u001b[K     |███▊                            | 163 kB 7.9 MB/s eta 0:00:01\r\u001b[K     |████                            | 174 kB 7.9 MB/s eta 0:00:01\r\u001b[K     |████▏                           | 184 kB 7.9 MB/s eta 0:00:01\r\u001b[K     |████▍                           | 194 kB 7.9 MB/s eta 0:00:01\r\u001b[K     |████▋                           | 204 kB 7.9 MB/s eta 0:00:01\r\u001b[K     |████▉                           | 215 kB 7.9 MB/s eta 0:00:01\r\u001b[K     |█████                           | 225 kB 7.9 MB/s eta 0:00:01\r\u001b[K     |█████▎                          | 235 kB 7.9 MB/s eta 0:00:01\r\u001b[K     |█████▌                          | 245 kB 7.9 MB/s eta 0:00:01\r\u001b[K     |█████▊                          | 256 kB 7.9 MB/s eta 0:00:01\r\u001b[K     |██████                          | 266 kB 7.9 MB/s eta 0:00:01\r\u001b[K     |██████▏                         | 276 kB 7.9 MB/s eta 0:00:01\r\u001b[K     |██████▍                         | 286 kB 7.9 MB/s eta 0:00:01\r\u001b[K     |██████▋                         | 296 kB 7.9 MB/s eta 0:00:01\r\u001b[K     |███████                         | 307 kB 7.9 MB/s eta 0:00:01\r\u001b[K     |███████▏                        | 317 kB 7.9 MB/s eta 0:00:01\r\u001b[K     |███████▍                        | 327 kB 7.9 MB/s eta 0:00:01\r\u001b[K     |███████▋                        | 337 kB 7.9 MB/s eta 0:00:01\r\u001b[K     |███████▉                        | 348 kB 7.9 MB/s eta 0:00:01\r\u001b[K     |████████                        | 358 kB 7.9 MB/s eta 0:00:01\r\u001b[K     |████████▎                       | 368 kB 7.9 MB/s eta 0:00:01\r\u001b[K     |████████▌                       | 378 kB 7.9 MB/s eta 0:00:01\r\u001b[K     |████████▊                       | 389 kB 7.9 MB/s eta 0:00:01\r\u001b[K     |█████████                       | 399 kB 7.9 MB/s eta 0:00:01\r\u001b[K     |█████████▏                      | 409 kB 7.9 MB/s eta 0:00:01\r\u001b[K     |█████████▍                      | 419 kB 7.9 MB/s eta 0:00:01\r\u001b[K     |█████████▋                      | 430 kB 7.9 MB/s eta 0:00:01\r\u001b[K     |█████████▉                      | 440 kB 7.9 MB/s eta 0:00:01\r\u001b[K     |██████████▏                     | 450 kB 7.9 MB/s eta 0:00:01\r\u001b[K     |██████████▍                     | 460 kB 7.9 MB/s eta 0:00:01\r\u001b[K     |██████████▋                     | 471 kB 7.9 MB/s eta 0:00:01\r\u001b[K     |██████████▉                     | 481 kB 7.9 MB/s eta 0:00:01\r\u001b[K     |███████████                     | 491 kB 7.9 MB/s eta 0:00:01\r\u001b[K     |███████████▎                    | 501 kB 7.9 MB/s eta 0:00:01\r\u001b[K     |███████████▌                    | 512 kB 7.9 MB/s eta 0:00:01\r\u001b[K     |███████████▊                    | 522 kB 7.9 MB/s eta 0:00:01\r\u001b[K     |████████████                    | 532 kB 7.9 MB/s eta 0:00:01\r\u001b[K     |████████████▏                   | 542 kB 7.9 MB/s eta 0:00:01\r\u001b[K     |████████████▍                   | 552 kB 7.9 MB/s eta 0:00:01\r\u001b[K     |████████████▋                   | 563 kB 7.9 MB/s eta 0:00:01\r\u001b[K     |████████████▉                   | 573 kB 7.9 MB/s eta 0:00:01\r\u001b[K     |█████████████                   | 583 kB 7.9 MB/s eta 0:00:01\r\u001b[K     |█████████████▎                  | 593 kB 7.9 MB/s eta 0:00:01\r\u001b[K     |█████████████▋                  | 604 kB 7.9 MB/s eta 0:00:01\r\u001b[K     |█████████████▉                  | 614 kB 7.9 MB/s eta 0:00:01\r\u001b[K     |██████████████                  | 624 kB 7.9 MB/s eta 0:00:01\r\u001b[K     |██████████████▎                 | 634 kB 7.9 MB/s eta 0:00:01\r\u001b[K     |██████████████▌                 | 645 kB 7.9 MB/s eta 0:00:01\r\u001b[K     |██████████████▊                 | 655 kB 7.9 MB/s eta 0:00:01\r\u001b[K     |███████████████                 | 665 kB 7.9 MB/s eta 0:00:01\r\u001b[K     |███████████████▏                | 675 kB 7.9 MB/s eta 0:00:01\r\u001b[K     |███████████████▍                | 686 kB 7.9 MB/s eta 0:00:01\r\u001b[K     |███████████████▋                | 696 kB 7.9 MB/s eta 0:00:01\r\u001b[K     |███████████████▉                | 706 kB 7.9 MB/s eta 0:00:01\r\u001b[K     |████████████████                | 716 kB 7.9 MB/s eta 0:00:01\r\u001b[K     |████████████████▎               | 727 kB 7.9 MB/s eta 0:00:01\r\u001b[K     |████████████████▌               | 737 kB 7.9 MB/s eta 0:00:01\r\u001b[K     |████████████████▊               | 747 kB 7.9 MB/s eta 0:00:01\r\u001b[K     |█████████████████               | 757 kB 7.9 MB/s eta 0:00:01\r\u001b[K     |█████████████████▎              | 768 kB 7.9 MB/s eta 0:00:01\r\u001b[K     |█████████████████▌              | 778 kB 7.9 MB/s eta 0:00:01\r\u001b[K     |█████████████████▊              | 788 kB 7.9 MB/s eta 0:00:01\r\u001b[K     |██████████████████              | 798 kB 7.9 MB/s eta 0:00:01\r\u001b[K     |██████████████████▏             | 808 kB 7.9 MB/s eta 0:00:01\r\u001b[K     |██████████████████▍             | 819 kB 7.9 MB/s eta 0:00:01\r\u001b[K     |██████████████████▋             | 829 kB 7.9 MB/s eta 0:00:01\r\u001b[K     |██████████████████▉             | 839 kB 7.9 MB/s eta 0:00:01\r\u001b[K     |███████████████████             | 849 kB 7.9 MB/s eta 0:00:01\r\u001b[K     |███████████████████▎            | 860 kB 7.9 MB/s eta 0:00:01\r\u001b[K     |███████████████████▌            | 870 kB 7.9 MB/s eta 0:00:01\r\u001b[K     |███████████████████▊            | 880 kB 7.9 MB/s eta 0:00:01\r\u001b[K     |████████████████████            | 890 kB 7.9 MB/s eta 0:00:01\r\u001b[K     |████████████████████▎           | 901 kB 7.9 MB/s eta 0:00:01\r\u001b[K     |████████████████████▌           | 911 kB 7.9 MB/s eta 0:00:01\r\u001b[K     |████████████████████▊           | 921 kB 7.9 MB/s eta 0:00:01\r\u001b[K     |█████████████████████           | 931 kB 7.9 MB/s eta 0:00:01\r\u001b[K     |█████████████████████▏          | 942 kB 7.9 MB/s eta 0:00:01\r\u001b[K     |█████████████████████▍          | 952 kB 7.9 MB/s eta 0:00:01\r\u001b[K     |█████████████████████▋          | 962 kB 7.9 MB/s eta 0:00:01\r\u001b[K     |█████████████████████▉          | 972 kB 7.9 MB/s eta 0:00:01\r\u001b[K     |██████████████████████          | 983 kB 7.9 MB/s eta 0:00:01\r\u001b[K     |██████████████████████▎         | 993 kB 7.9 MB/s eta 0:00:01\r\u001b[K     |██████████████████████▌         | 1.0 MB 7.9 MB/s eta 0:00:01\r\u001b[K     |██████████████████████▊         | 1.0 MB 7.9 MB/s eta 0:00:01\r\u001b[K     |███████████████████████         | 1.0 MB 7.9 MB/s eta 0:00:01\r\u001b[K     |███████████████████████▏        | 1.0 MB 7.9 MB/s eta 0:00:01\r\u001b[K     |███████████████████████▍        | 1.0 MB 7.9 MB/s eta 0:00:01\r\u001b[K     |███████████████████████▊        | 1.1 MB 7.9 MB/s eta 0:00:01\r\u001b[K     |████████████████████████        | 1.1 MB 7.9 MB/s eta 0:00:01\r\u001b[K     |████████████████████████▏       | 1.1 MB 7.9 MB/s eta 0:00:01\r\u001b[K     |████████████████████████▍       | 1.1 MB 7.9 MB/s eta 0:00:01\r\u001b[K     |████████████████████████▋       | 1.1 MB 7.9 MB/s eta 0:00:01\r\u001b[K     |████████████████████████▉       | 1.1 MB 7.9 MB/s eta 0:00:01\r\u001b[K     |█████████████████████████       | 1.1 MB 7.9 MB/s eta 0:00:01\r\u001b[K     |█████████████████████████▎      | 1.1 MB 7.9 MB/s eta 0:00:01\r\u001b[K     |█████████████████████████▌      | 1.1 MB 7.9 MB/s eta 0:00:01\r\u001b[K     |█████████████████████████▊      | 1.1 MB 7.9 MB/s eta 0:00:01\r\u001b[K     |██████████████████████████      | 1.2 MB 7.9 MB/s eta 0:00:01\r\u001b[K     |██████████████████████████▏     | 1.2 MB 7.9 MB/s eta 0:00:01\r\u001b[K     |██████████████████████████▍     | 1.2 MB 7.9 MB/s eta 0:00:01\r\u001b[K     |██████████████████████████▋     | 1.2 MB 7.9 MB/s eta 0:00:01\r\u001b[K     |███████████████████████████     | 1.2 MB 7.9 MB/s eta 0:00:01\r\u001b[K     |███████████████████████████▏    | 1.2 MB 7.9 MB/s eta 0:00:01\r\u001b[K     |███████████████████████████▍    | 1.2 MB 7.9 MB/s eta 0:00:01\r\u001b[K     |███████████████████████████▋    | 1.2 MB 7.9 MB/s eta 0:00:01\r\u001b[K     |███████████████████████████▉    | 1.2 MB 7.9 MB/s eta 0:00:01\r\u001b[K     |████████████████████████████    | 1.2 MB 7.9 MB/s eta 0:00:01\r\u001b[K     |████████████████████████████▎   | 1.3 MB 7.9 MB/s eta 0:00:01\r\u001b[K     |████████████████████████████▌   | 1.3 MB 7.9 MB/s eta 0:00:01\r\u001b[K     |████████████████████████████▊   | 1.3 MB 7.9 MB/s eta 0:00:01\r\u001b[K     |█████████████████████████████   | 1.3 MB 7.9 MB/s eta 0:00:01\r\u001b[K     |█████████████████████████████▏  | 1.3 MB 7.9 MB/s eta 0:00:01\r\u001b[K     |█████████████████████████████▍  | 1.3 MB 7.9 MB/s eta 0:00:01\r\u001b[K     |█████████████████████████████▋  | 1.3 MB 7.9 MB/s eta 0:00:01\r\u001b[K     |█████████████████████████████▉  | 1.3 MB 7.9 MB/s eta 0:00:01\r\u001b[K     |██████████████████████████████  | 1.3 MB 7.9 MB/s eta 0:00:01\r\u001b[K     |██████████████████████████████▍ | 1.4 MB 7.9 MB/s eta 0:00:01\r\u001b[K     |██████████████████████████████▋ | 1.4 MB 7.9 MB/s eta 0:00:01\r\u001b[K     |██████████████████████████████▉ | 1.4 MB 7.9 MB/s eta 0:00:01\r\u001b[K     |███████████████████████████████ | 1.4 MB 7.9 MB/s eta 0:00:01\r\u001b[K     |███████████████████████████████▎| 1.4 MB 7.9 MB/s eta 0:00:01\r\u001b[K     |███████████████████████████████▌| 1.4 MB 7.9 MB/s eta 0:00:01\r\u001b[K     |███████████████████████████████▊| 1.4 MB 7.9 MB/s eta 0:00:01\r\u001b[K     |████████████████████████████████| 1.4 MB 7.9 MB/s eta 0:00:01\r\u001b[K     |████████████████████████████████| 1.4 MB 7.9 MB/s \n",
            "\u001b[?25h"
          ]
        }
      ]
    },
    {
      "cell_type": "code",
      "source": [
        "pip install datasets --quiet"
      ],
      "metadata": {
        "id": "OaOSPMJE3ONc",
        "colab": {
          "base_uri": "https://localhost:8080/"
        },
        "outputId": "cf448704-e64e-4b6b-f938-fbf57f83d541"
      },
      "execution_count": null,
      "outputs": [
        {
          "output_type": "stream",
          "name": "stdout",
          "text": [
            "\u001b[K     |████████████████████████████████| 365 kB 9.7 MB/s \n",
            "\u001b[K     |████████████████████████████████| 141 kB 91.5 MB/s \n",
            "\u001b[K     |████████████████████████████████| 212 kB 82.1 MB/s \n",
            "\u001b[K     |████████████████████████████████| 115 kB 46.2 MB/s \n",
            "\u001b[K     |████████████████████████████████| 127 kB 76.7 MB/s \n",
            "\u001b[?25h"
          ]
        }
      ]
    },
    {
      "cell_type": "code",
      "source": [
        "pip install rbo"
      ],
      "metadata": {
        "colab": {
          "base_uri": "https://localhost:8080/"
        },
        "id": "yTTL5d_d9KDH",
        "outputId": "bf7f3a03-5da2-49f8-b030-e7b47c3c2505"
      },
      "execution_count": null,
      "outputs": [
        {
          "output_type": "stream",
          "name": "stdout",
          "text": [
            "Looking in indexes: https://pypi.org/simple, https://us-python.pkg.dev/colab-wheels/public/simple/\n",
            "Collecting rbo\n",
            "  Downloading rbo-0.1.2-py3-none-any.whl (7.5 kB)\n",
            "Requirement already satisfied: numpy<2.0,>=1.18 in /usr/local/lib/python3.7/dist-packages (from rbo) (1.21.6)\n",
            "Installing collected packages: rbo\n",
            "Successfully installed rbo-0.1.2\n"
          ]
        }
      ]
    },
    {
      "cell_type": "code",
      "source": [
        "pip install nltk --quiet"
      ],
      "metadata": {
        "id": "R-37hpjo8BVc"
      },
      "execution_count": null,
      "outputs": []
    },
    {
      "cell_type": "code",
      "source": [
        "import os\n",
        "os.environ['CUDA_LAUNCH_BLOCKING'] = \"1\""
      ],
      "metadata": {
        "id": "hRSNYTrRIPkr"
      },
      "execution_count": null,
      "outputs": []
    },
    {
      "cell_type": "code",
      "execution_count": null,
      "metadata": {
        "id": "wrRRZJ6-0_Il"
      },
      "outputs": [],
      "source": [
        "from captum.attr import visualization as viz\n",
        "from captum.attr import IntegratedGradients, LayerConductance, LayerIntegratedGradients\n",
        "from captum.attr import configure_interpretable_embedding_layer, remove_interpretable_embedding_layer\n",
        "\n",
        "import torch\n",
        "import pandas as pd"
      ]
    },
    {
      "cell_type": "code",
      "execution_count": null,
      "metadata": {
        "id": "b5V31lsc0_Il"
      },
      "outputs": [],
      "source": [
        "device = torch.device(\"cuda:0\" if torch.cuda.is_available() else \"cpu\")"
      ]
    },
    {
      "cell_type": "markdown",
      "source": [
        "## Import model"
      ],
      "metadata": {
        "id": "USHRv2j70Fb4"
      }
    },
    {
      "cell_type": "code",
      "execution_count": null,
      "metadata": {
        "id": "9nzBfB-v0_Im",
        "colab": {
          "base_uri": "https://localhost:8080/",
          "height": 229,
          "referenced_widgets": [
            "a823054792a34ae79ff218e986248cee",
            "9905237c66b444c1b2d037b9419a7a3f",
            "887b05138cc940ae9bb60fe41c9de1ca",
            "de027883717943bbb4a80de8b6c17575",
            "e697084e6a7948179376c0662e170a58",
            "77343b0874e0409780a2bb950d56a045",
            "350a309750b04d78867a5885ee63bf64",
            "0f66f3ecd9f74466ade92a5abbe73bf8",
            "d5902ccbb1b94beca1e8178d2cc87297",
            "b5737e489c684ef19c6559573cbaffe4",
            "93b70e9ec0e64a08852557617f07e02b",
            "d6bae03ac46144849d1050c01e6a73dc",
            "ba0042e3786e4d60b9bc7a3e06f41dc1",
            "75ed7f7980b445f19ddc7ee8865d08bd",
            "384ec582ed364df6b4d62e6a5561b3bc",
            "84e3629ee69f4056bcc19550bfebbdc4",
            "e4af850df0ca464ba035ebf5080bd87e",
            "0550981dff64498588d5bf611f85b33a",
            "9215cde0fc6b4d0981c04750516a9697",
            "2b63d0e3595e4bb685508e8d13c45b46",
            "d5d00db7cf5848858484149c2a229b4c",
            "14d4f3939f95450dae303bd3bd8861cd",
            "73b820c62a4044d0a49489051fe011cc",
            "34f915cc0f5c4b95b717d0c4da307354",
            "f91954b483504e2089f6c0094f4cdda0",
            "6546113ef18d45d194cd35ed355cc1b9",
            "c977b2a6284f497090210213085917a6",
            "fb077dd9e5664852b16efd31566199ba",
            "ba30a0b7b60b490194704de6c3af291f",
            "a0c14dc3935e4975a8cf2b03bc4bfc8c",
            "18d694f27bc6435b90b0f7c381bb0720",
            "5a94cbe84b804d6faa4e286f401cd600",
            "42c2d571a73e4d96878af7d1a3415e74",
            "69004c2527ed4279870891ce51a35a9a",
            "0b5d8f8705194c4b92229ca5eb686047",
            "a10256edce214cbd8a0c429a189a89e9",
            "6256c9a93fe9444a9d0738005596e895",
            "7bec10638623478e878d4204ae20863d",
            "6ecab60589a14b3a95933e1e1f67ca6f",
            "3bf4c5561d94477ea0cd66a16831b4e6",
            "0856cae3cf50435e8a2e5b7d61f19910",
            "8cb0425bc8404ee0a526c511c3575f5a",
            "98ae73a3765946778063c4a80bac05ac",
            "f640b909faaf4c769e7a98e8a0866fa3",
            "82473db1448d44d1bc4181ad497f1b95",
            "ab69f2938dfb473792ef4b4b68366cc2",
            "73c282606be14973ba3c3ad030250528",
            "273f25eb3de6474e9ea166a61af39205",
            "03bacb6b971b4ad5baaa3d86890a5a14",
            "63c71665966448958a626e11abef512c",
            "ba861daf8e744abd9d37842d947cc9d1",
            "7ca573cf82694d1f896316656651c09c",
            "3615cfeaa7bd49f2b04d4ad70aca1bb9",
            "14840d8753bc4e839173ac088a5f4317",
            "b87fa81d22f74eb09fe9866c5c4a9775"
          ]
        },
        "outputId": "1df52f70-524c-4dd8-83ae-29eb5551e405"
      },
      "outputs": [
        {
          "output_type": "display_data",
          "data": {
            "text/plain": [
              "Downloading config.json:   0%|          | 0.00/0.99k [00:00<?, ?B/s]"
            ],
            "application/vnd.jupyter.widget-view+json": {
              "version_major": 2,
              "version_minor": 0,
              "model_id": "a823054792a34ae79ff218e986248cee"
            }
          },
          "metadata": {}
        },
        {
          "output_type": "display_data",
          "data": {
            "text/plain": [
              "Downloading pytorch_model.bin:   0%|          | 0.00/567M [00:00<?, ?B/s]"
            ],
            "application/vnd.jupyter.widget-view+json": {
              "version_major": 2,
              "version_minor": 0,
              "model_id": "d6bae03ac46144849d1050c01e6a73dc"
            }
          },
          "metadata": {}
        },
        {
          "output_type": "stream",
          "name": "stderr",
          "text": [
            "Some weights of the model checkpoint at danielhou13/longformer-finetuned_papers_v2 were not used when initializing LongformerForSequenceClassification: ['longformer.embeddings.position_ids']\n",
            "- This IS expected if you are initializing LongformerForSequenceClassification from the checkpoint of a model trained on another task or with another architecture (e.g. initializing a BertForSequenceClassification model from a BertForPreTraining model).\n",
            "- This IS NOT expected if you are initializing LongformerForSequenceClassification from the checkpoint of a model that you expect to be exactly identical (initializing a BertForSequenceClassification model from a BertForSequenceClassification model).\n"
          ]
        },
        {
          "output_type": "display_data",
          "data": {
            "text/plain": [
              "Downloading vocab.json:   0%|          | 0.00/878k [00:00<?, ?B/s]"
            ],
            "application/vnd.jupyter.widget-view+json": {
              "version_major": 2,
              "version_minor": 0,
              "model_id": "73b820c62a4044d0a49489051fe011cc"
            }
          },
          "metadata": {}
        },
        {
          "output_type": "display_data",
          "data": {
            "text/plain": [
              "Downloading merges.txt:   0%|          | 0.00/446k [00:00<?, ?B/s]"
            ],
            "application/vnd.jupyter.widget-view+json": {
              "version_major": 2,
              "version_minor": 0,
              "model_id": "69004c2527ed4279870891ce51a35a9a"
            }
          },
          "metadata": {}
        },
        {
          "output_type": "display_data",
          "data": {
            "text/plain": [
              "Downloading config.json:   0%|          | 0.00/694 [00:00<?, ?B/s]"
            ],
            "application/vnd.jupyter.widget-view+json": {
              "version_major": 2,
              "version_minor": 0,
              "model_id": "82473db1448d44d1bc4181ad497f1b95"
            }
          },
          "metadata": {}
        }
      ],
      "source": [
        "from transformers import LongformerForSequenceClassification, LongformerTokenizer, LongformerConfig\n",
        "# replace <PATH-TO-SAVED-MODEL> with the real path of the saved model\n",
        "model_path = 'danielhou13/longformer-finetuned_papers_v2'\n",
        "#model_path = 'danielhou13/longformer-finetuned-news-cogs402'\n",
        "\n",
        "# load model\n",
        "model = LongformerForSequenceClassification.from_pretrained(model_path, num_labels = 2)\n",
        "model.to(device)\n",
        "model.eval()\n",
        "model.zero_grad()\n",
        "\n",
        "# load tokenizer\n",
        "tokenizer = LongformerTokenizer.from_pretrained(\"allenai/longformer-base-4096\")"
      ]
    },
    {
      "cell_type": "code",
      "execution_count": null,
      "metadata": {
        "id": "vAAjmDRl0_In"
      },
      "outputs": [],
      "source": [
        "ref_token_id = tokenizer.pad_token_id # A token used for generating token reference\n",
        "sep_token_id = tokenizer.sep_token_id # A token used as a separator between question and text and it is also added to the end of the text.\n",
        "cls_token_id = tokenizer.cls_token_id # A token used for prepending to the concatenated question-text word sequence"
      ]
    },
    {
      "cell_type": "markdown",
      "source": [
        "## Import dataset"
      ],
      "metadata": {
        "id": "BdY6GsO00RG_"
      }
    },
    {
      "cell_type": "markdown",
      "source": [
        "Here we import the papers dataset"
      ],
      "metadata": {
        "id": "e_gGIPpwkmbH"
      }
    },
    {
      "cell_type": "code",
      "execution_count": null,
      "metadata": {
        "id": "w6aQM9nM0_Ip",
        "colab": {
          "base_uri": "https://localhost:8080/",
          "height": 261,
          "referenced_widgets": [
            "dc917a7487f7436382279951b49e74df",
            "24b35796033b41beb2a8267a5dcb2b0e",
            "29a5031e98e140ff8e648a91a7a3dfba",
            "efd6a235bf9548039507859c896411d4",
            "089ba7ebb6b94336a4439c98eb547202",
            "fbc7e0b93f914b3da5caddb0433adf14",
            "e7e21a3a3f254fda9218719c42e9b597",
            "8a37d4caf5394fb9b9df40eb3f401c32",
            "59ccaabaa98245f78cd8d94c027b1e37",
            "489478d429e14d6885c65e77c1d86175",
            "f0843b750dff4e64bc4ba95f5558bae4",
            "21378278588b4c3da606e9dbdb517c40",
            "5b881d58266c4e76ad37e011808f703b",
            "95c0033fad104ec8a5aaffe89fff65f1",
            "1b7689d6a97c4288aa7ee7d8b9e875c4",
            "260be9ac3ad84d34a07eaa959c2e6225",
            "42a8f696c9484f87b317979a63c6a312",
            "8afd691033744d83a6e9ae4424e4db23",
            "a822844b108f43ec809ac0fd61863539",
            "28496ca28c5d4b35a4b74a0ae703d3f1",
            "c0f382dc6cd54d718f85875914e7d8de",
            "2deb4e3d667e4bb680b8bf5e31673bd1",
            "f51f379bead948f483afd371ca121f29",
            "ae5c645e9e9b43ee954ff17290957dff",
            "ad05db28b3f74d829d39ae0edd04f6ab",
            "18583d77c8334f42a02f0c36b832bdaf",
            "a1708d96f3e74e139dd9b83ada38f02d",
            "5ac072160f7c45d38820c69e73bebb73",
            "180b39e7e3f448d0b2aadbdd4970596a",
            "4fbede29d4bc42ffad81980eb37ddae6",
            "f098fee647a44c51804fb7c060d48917",
            "cdd5eeefadcf487e8da047f637d4c08a",
            "092d338646d1487cbd55be7e5eee3065",
            "851fbc43400a47809116f7f7e9fe934a",
            "6e2f4bfe2fb1448ba842ba7ce33b7b40",
            "27522dbc950a4e168555b08e8c29619c",
            "34b2a7f58d824b2f8a04fff3ebd66bd3",
            "73a61d8e7c9443ffb1e921de18a3bc9d",
            "89893cf169a74d6683272eabf57523dc",
            "4db2362579f54a78815a29a9c25b5c86",
            "4370b7813187417fa258745cd86f49ea",
            "cba2d23ad57e4d3f914f8796599b618f",
            "59317a95b6494c1eb6854739855c256d",
            "07a5a61586f44fc9a707045fc8152472",
            "9dc5cef3f6e24a32b228e1363ff50d1d",
            "3df5c17471cc40cb9a469335ca2a6625",
            "058beca90fed436da65954b9aa627117",
            "78b5454bd9684fb9aed4b5a91d27b24b",
            "f66b06bc8b8349789fe1718b6c921a12",
            "33dea477846c405d83572f2ec35a833d",
            "2a3bdf51a0874a99b6958ff8084ce611",
            "117c3f6578d540829672df5c994eb38b",
            "42a91e348bb94c15be84f811e4c71d56",
            "1929133f88474facb0104d92e042fee3",
            "d7b8ab36651b483a9c043859576a4de8",
            "4ad96d6a33a647069e3c8242e2fe905d",
            "30fae5d24b8c427c9b98722269d7b882",
            "a1b5fe62e51742bbb851c78f60fb1304",
            "6a4a52d05e5647bc85ee01cdf52039aa",
            "ebf2eb5f75d04069937fa23682567abc",
            "4de7efd3419e4ea4bd341c629161cbec",
            "0c823cb9b2164786a669ac5dd38b9bc7",
            "a7aebc35a31b4da0828e1110e5f7db47",
            "903a43e293584930a771f3f0b9f3c26d",
            "d014bb0d31df47b3aaf7719f6d59ef9d",
            "fe791ce1cc8d483b9d2d0daccc8a0962",
            "7a836c594b814b87a8a551b7c75d890f",
            "74d28e6f514d4acf8f5ffe53b05c0985",
            "fa94413f41c34472a883fdc0e7fb8288",
            "c175357530bb4642b3c1c30a27d63580",
            "355f2876b69b48339f9f468bd3555ad6",
            "86dadf6466294507acf3b28d1620d6a5",
            "59c1a1a642f84ebea00f9f7d9bc7f92a",
            "c27e4228cf2047ed97be9c41cd0c6c8c",
            "c2775b4406194df18f02ffa60ec2234c",
            "368a26d40538446292aa3a3a64df68e0",
            "9f5d3fb6ba5240d984a36c345c13168c",
            "17dbf752a0c849c1b8e66ea9ca51eec3",
            "08ab1a42cfce48189990378b8ab8782c",
            "923554c7a5884664812d9776a4660a7d",
            "fbf0af3d05a9458f924f05ab2cdfd343",
            "51880b454bb94ddcb99495f5fc555813",
            "04e5ea1fa39c41d08afb7869c3d8f9c8",
            "34c2cf7fb9984ff189f971772d7a7ad4",
            "3cf9f84c43e04e3fb837c2fe9f5436b6",
            "26df4b86b0c14fe2b8d029228bf4b472",
            "919b3bda697649d7adfd79cc3cdd52f5",
            "c3baaaf2575443ebb1974541473f5de1"
          ]
        },
        "outputId": "8d0c3044-8aa8-4693-86d7-ff902aed5d5d"
      },
      "outputs": [
        {
          "output_type": "display_data",
          "data": {
            "text/plain": [
              "Downloading:   0%|          | 0.00/739 [00:00<?, ?B/s]"
            ],
            "application/vnd.jupyter.widget-view+json": {
              "version_major": 2,
              "version_minor": 0,
              "model_id": "dc917a7487f7436382279951b49e74df"
            }
          },
          "metadata": {}
        },
        {
          "output_type": "stream",
          "name": "stderr",
          "text": [
            "Using custom data configuration danielhou13--cogs402dataset-144b958ac1a53abb\n"
          ]
        },
        {
          "output_type": "stream",
          "name": "stdout",
          "text": [
            "Downloading and preparing dataset None/None (download: 157.87 MiB, generated: 311.56 MiB, post-processed: Unknown size, total: 469.43 MiB) to /root/.cache/huggingface/datasets/danielhou13___parquet/danielhou13--cogs402dataset-144b958ac1a53abb/0.0.0/2a3b91fbd88a2c90d1dbbb32b460cf621d31bd5b05b934492fdef7d8d6f236ec...\n"
          ]
        },
        {
          "output_type": "display_data",
          "data": {
            "text/plain": [
              "Downloading data files:   0%|          | 0/2 [00:00<?, ?it/s]"
            ],
            "application/vnd.jupyter.widget-view+json": {
              "version_major": 2,
              "version_minor": 0,
              "model_id": "21378278588b4c3da606e9dbdb517c40"
            }
          },
          "metadata": {}
        },
        {
          "output_type": "display_data",
          "data": {
            "text/plain": [
              "Downloading data:   0%|          | 0.00/33.6M [00:00<?, ?B/s]"
            ],
            "application/vnd.jupyter.widget-view+json": {
              "version_major": 2,
              "version_minor": 0,
              "model_id": "f51f379bead948f483afd371ca121f29"
            }
          },
          "metadata": {}
        },
        {
          "output_type": "display_data",
          "data": {
            "text/plain": [
              "Downloading data:   0%|          | 0.00/132M [00:00<?, ?B/s]"
            ],
            "application/vnd.jupyter.widget-view+json": {
              "version_major": 2,
              "version_minor": 0,
              "model_id": "851fbc43400a47809116f7f7e9fe934a"
            }
          },
          "metadata": {}
        },
        {
          "output_type": "display_data",
          "data": {
            "text/plain": [
              "Extracting data files:   0%|          | 0/2 [00:00<?, ?it/s]"
            ],
            "application/vnd.jupyter.widget-view+json": {
              "version_major": 2,
              "version_minor": 0,
              "model_id": "9dc5cef3f6e24a32b228e1363ff50d1d"
            }
          },
          "metadata": {}
        },
        {
          "output_type": "display_data",
          "data": {
            "text/plain": [
              "0 tables [00:00, ? tables/s]"
            ],
            "application/vnd.jupyter.widget-view+json": {
              "version_major": 2,
              "version_minor": 0,
              "model_id": "4ad96d6a33a647069e3c8242e2fe905d"
            }
          },
          "metadata": {}
        },
        {
          "output_type": "display_data",
          "data": {
            "text/plain": [
              "0 tables [00:00, ? tables/s]"
            ],
            "application/vnd.jupyter.widget-view+json": {
              "version_major": 2,
              "version_minor": 0,
              "model_id": "7a836c594b814b87a8a551b7c75d890f"
            }
          },
          "metadata": {}
        },
        {
          "output_type": "stream",
          "name": "stdout",
          "text": [
            "Dataset parquet downloaded and prepared to /root/.cache/huggingface/datasets/danielhou13___parquet/danielhou13--cogs402dataset-144b958ac1a53abb/0.0.0/2a3b91fbd88a2c90d1dbbb32b460cf621d31bd5b05b934492fdef7d8d6f236ec. Subsequent calls will reuse this data.\n"
          ]
        },
        {
          "output_type": "display_data",
          "data": {
            "text/plain": [
              "  0%|          | 0/2 [00:00<?, ?it/s]"
            ],
            "application/vnd.jupyter.widget-view+json": {
              "version_major": 2,
              "version_minor": 0,
              "model_id": "17dbf752a0c849c1b8e66ea9ca51eec3"
            }
          },
          "metadata": {}
        }
      ],
      "source": [
        "from datasets import load_dataset\n",
        "import numpy as np\n",
        "cogs402_ds = load_dataset(\"danielhou13/cogs402dataset\")[\"test\"]"
      ]
    },
    {
      "cell_type": "markdown",
      "source": [
        "Here we import the news dataset"
      ],
      "metadata": {
        "id": "bHUUw096r-EL"
      }
    },
    {
      "cell_type": "code",
      "source": [
        "# cogs402_ds2 = load_dataset('hyperpartisan_news_detection', 'bypublisher')['validation']\n",
        "# val_size = 5000\n",
        "# val_indices = np.random.randint(0, len(cogs402_ds2), val_size)\n",
        "# val_ds = cogs402_ds2.select(val_indices)\n",
        "# labels2 = map(int, val_ds['hyperpartisan'])\n",
        "# labels2 = list(labels2)\n",
        "# val_ds = val_ds.add_column(\"labels\", labels2)"
      ],
      "metadata": {
        "id": "58zzpZYRWRDj"
      },
      "execution_count": null,
      "outputs": []
    },
    {
      "cell_type": "markdown",
      "source": [
        "## Get Attributions"
      ],
      "metadata": {
        "id": "sqGG8ke1Zd1N"
      }
    },
    {
      "cell_type": "markdown",
      "source": [
        "We need to create a custom forward function for use in our [Integrated Gradients](https://arxiv.org/abs/1703.01365) functions. Specifially the output we want from the forward pass of the model is the softmaxed logits, which indicate the probabilities of predicting each class for the given example."
      ],
      "metadata": {
        "id": "1QIudhnqA7pQ"
      }
    },
    {
      "cell_type": "code",
      "execution_count": null,
      "metadata": {
        "id": "y5-heo2y0_Im"
      },
      "outputs": [],
      "source": [
        "def predict(inputs, position_ids=None, attention_mask=None):\n",
        "    output = model(inputs,\n",
        "                   position_ids=position_ids,\n",
        "                   attention_mask=attention_mask)\n",
        "    return output.logits"
      ]
    },
    {
      "cell_type": "code",
      "execution_count": null,
      "metadata": {
        "id": "axwpHq-y0_Io"
      },
      "outputs": [],
      "source": [
        "#set 1 if we are dealing with a positive class, and 0 if dealing with negative class\n",
        "def custom_forward(inputs, position_ids=None, attention_mask=None):\n",
        "    preds = predict(inputs,\n",
        "                   position_ids=position_ids,\n",
        "                   attention_mask=attention_mask\n",
        "                   )\n",
        "    return torch.softmax(preds, dim = 1)"
      ]
    },
    {
      "cell_type": "markdown",
      "source": [
        "To get the attributions, we perform Integrated Gradients using the model's embeddings and pass in our custom forward function."
      ],
      "metadata": {
        "id": "bQaYaSDf0buh"
      }
    },
    {
      "cell_type": "code",
      "execution_count": null,
      "metadata": {
        "id": "4uDuDrip0_Ip"
      },
      "outputs": [],
      "source": [
        "lig = LayerIntegratedGradients(custom_forward, model.longformer.embeddings)"
      ]
    },
    {
      "cell_type": "markdown",
      "source": [
        "Create functions that give us the input ids and the position ids for the text we want to examine. Furthermore, it also returns the baselines we want for integrated gradients. In this case, every token in our baseline, is a padding token."
      ],
      "metadata": {
        "id": "bqbvfvXv0VTp"
      }
    },
    {
      "cell_type": "code",
      "execution_count": null,
      "metadata": {
        "id": "UgBSBpz-0_In"
      },
      "outputs": [],
      "source": [
        "max_length = 2046\n",
        "def construct_input_ref_pair(text, ref_token_id, sep_token_id, cls_token_id):\n",
        "\n",
        "    text_ids = tokenizer.encode(text, truncation = True, add_special_tokens=False, max_length = max_length)\n",
        "    # construct input token ids\n",
        "    input_ids = [cls_token_id] + text_ids + [sep_token_id]\n",
        "    # construct reference token ids \n",
        "    ref_input_ids = [cls_token_id] + [ref_token_id] * len(text_ids) + [sep_token_id]\n",
        "\n",
        "    return torch.tensor([input_ids], device=device), torch.tensor([ref_input_ids], device=device), len(text_ids)\n",
        "\n",
        "def construct_input_ref_pos_id_pair(input_ids):\n",
        "    seq_length = input_ids.size(1)\n",
        "\n",
        "    #taken from the longformer implementation\n",
        "    mask = input_ids.ne(ref_token_id).int()\n",
        "    incremental_indices = torch.cumsum(mask, dim=1).type_as(mask) * mask\n",
        "    position_ids = incremental_indices.long().squeeze() + ref_token_id\n",
        "\n",
        "    # we could potentially also use random permutation with `torch.randperm(seq_length, device=device)`\n",
        "    ref_position_ids = torch.zeros(seq_length, dtype=torch.long, device=device)\n",
        "\n",
        "    position_ids = position_ids.unsqueeze(0).expand_as(input_ids)\n",
        "    ref_position_ids = ref_position_ids.unsqueeze(0).expand_as(input_ids)\n",
        "    return position_ids, ref_position_ids\n",
        "    \n",
        "def construct_attention_mask(input_ids):\n",
        "    return torch.ones_like(input_ids)"
      ]
    },
    {
      "cell_type": "markdown",
      "source": [
        "The attributions returned has very high dimensionality and we just want a single number for every token in our example, so we sum over the last dimension and squeeze the result to get an array of shape (seq_len). You may notice that we are not normalizing the attributions here. It's okay because we will normalize it later."
      ],
      "metadata": {
        "id": "PRXe-mIcBGFo"
      }
    },
    {
      "cell_type": "code",
      "execution_count": null,
      "metadata": {
        "id": "lIeE9P7b0_Ir"
      },
      "outputs": [],
      "source": [
        "def summarize_attributions(attributions):\n",
        "    attributions = attributions.sum(dim=-1).squeeze(0)\n",
        "    return attributions"
      ]
    },
    {
      "cell_type": "markdown",
      "source": [
        "For use in later functions, we want to store the attributions we find in a dictionary where the key is the example number."
      ],
      "metadata": {
        "id": "8-wA6Nd4BIeb"
      }
    },
    {
      "cell_type": "code",
      "source": [
        "all_attributions = {}"
      ],
      "metadata": {
        "id": "wf1SNgF73l1K"
      },
      "execution_count": null,
      "outputs": []
    },
    {
      "cell_type": "markdown",
      "source": [
        "On the other hand, if you have a dictionary of attributions already saved, you can import it as follows. Replace the path with a path to your own dictionary."
      ],
      "metadata": {
        "id": "aall1F3lCpaf"
      }
    },
    {
      "cell_type": "code",
      "source": [
        "all_attributions = torch.load('/content/drive/MyDrive/cogs402longformer/results/papers/papers_attributions/example_attrib_dict_all.pt')"
      ],
      "metadata": {
        "id": "g4nc7qSvUedJ"
      },
      "execution_count": null,
      "outputs": []
    },
    {
      "cell_type": "markdown",
      "source": [
        "In this block of code, we iterate over the entire dataset, obtain the input_ids, position_ids, attention_mask and the baseline for integrated gradients, perform integrated gradients, and store the result in the dictionary. If you have already loaded your attributions, you can skip this step. Increase the number of steps if you desire, but it may take a very long time to run. At the end of an iteration, we also save the dictionary.\n",
        "\n",
        "Note: the attributions will be with respect to the positive class, meaning positive attributions have more influence in the model predicting positive and negative attributions will be more influential in predicting negative."
      ],
      "metadata": {
        "id": "Ap4wQhI7CqJ2"
      }
    },
    {
      "cell_type": "code",
      "source": [
        "from tqdm import tqdm\n",
        "\n",
        "# for i in tqdm(range(len(cogs402_ds))):\n",
        "#   if str(i) not in all_attributions:\n",
        "#     #get input ids, position ids and attention mask for integrated gradients\n",
        "#     text = cogs402_ds['text'][i]\n",
        "#     label = cogs402_ds['labels'][i]\n",
        "\n",
        "#     input_ids, ref_input_ids, sep_id = construct_input_ref_pair(text, ref_token_id, sep_token_id, cls_token_id)\n",
        "#     position_ids, ref_position_ids = construct_input_ref_pos_id_pair(input_ids)\n",
        "#     attention_mask = construct_attention_mask(input_ids)\n",
        "\n",
        "#     attributions = lig.attribute(inputs=input_ids,\n",
        "#                                       baselines=ref_input_ids,\n",
        "#                                       additional_forward_args=(position_ids, attention_mask),\n",
        "#                                       target=1,\n",
        "#                                       n_steps=50,\n",
        "#                                       internal_batch_size = 2)\n",
        "\n",
        "#     attributions_sum = summarize_attributions(attributions)\n",
        "\n",
        "#     all_attributions[str(i)] = attributions_sum.detach().cpu().numpy()\n",
        "\n",
        "#     torch.save(all_attributions, '/content/drive/MyDrive/cogs402longformer/results/papers/papers_attributions/example_attrib_dict_all.pt')"
      ],
      "metadata": {
        "id": "ItEOhzhNTdxF"
      },
      "execution_count": null,
      "outputs": []
    },
    {
      "cell_type": "markdown",
      "source": [
        "## Get Attentions"
      ],
      "metadata": {
        "id": "fxugVBIAZksG"
      }
    },
    {
      "cell_type": "markdown",
      "source": [
        "We then get the attentions and global attentions so we can compare with the attributions."
      ],
      "metadata": {
        "id": "BGDWlUa3GvNS"
      }
    },
    {
      "cell_type": "markdown",
      "source": [
        "A unique property of the longformer model is that the matrix output for the attention is not a seq_len x seq_len output. Each token can only attend to the preceeding w/2 tokens and the succeeding w/2 tokens, dictated by whatever you choose the model's attention window w to be. Another name for this is called the sliding window attention. Therefore, we need to convert sliding attention matrix to correct seq_len x seq_len matrix to remain consistent with other types of Transformer Neural Networks.\n",
        "\n",
        "To do so, we run the following 3 functions. Our attentions will change from a output attention tensor of shape (layer, head, seq_len, x + attention_window + 1) and a global attention tensor of shape (layer, head, seq_len, x) to a single tensor of shape (layer, batch, head, seq_len, seq_len). More information about the functions can be found [here](https://colab.research.google.com/drive/1Kxx26NtIlUzioRCHpsR8IbSz_DpRFxEZ#scrollTo=t_XCoyTsQKAU)."
      ],
      "metadata": {
        "id": "dISC7-FaG2Lh"
      }
    },
    {
      "cell_type": "code",
      "source": [
        "def create_head_matrix(output_attentions, global_attentions):\n",
        "    new_attention_matrix = torch.zeros((output_attentions.shape[0], \n",
        "                                      output_attentions.shape[0]))\n",
        "    for i in range(output_attentions.shape[0]):\n",
        "        test_non_zeroes = torch.nonzero(output_attentions[i]).squeeze()\n",
        "        test2 = output_attentions[i][test_non_zeroes[1:]]\n",
        "        new_attention_matrix_indices = test_non_zeroes[1:]-257 + i\n",
        "        new_attention_matrix[i][new_attention_matrix_indices] = test2\n",
        "        new_attention_matrix[i][0] = output_attentions[i][0]\n",
        "        new_attention_matrix[0] = global_attentions.squeeze()[:output_attentions.shape[0]]\n",
        "    return new_attention_matrix\n",
        "\n",
        "\n",
        "def attentions_all_heads(output_attentions, global_attentions):\n",
        "    new_matrix = []\n",
        "    for i in range(output_attentions.shape[0]):\n",
        "        matrix = create_head_matrix(output_attentions[i], global_attentions[i])\n",
        "        new_matrix.append(matrix)\n",
        "    return torch.stack(new_matrix)\n",
        "\n",
        "def all_layers(output_attentions, global_attentions):\n",
        "    new_matrix = []\n",
        "    for i in range(output_attentions.shape[0]):\n",
        "        matrix = attentions_all_heads(output_attentions[i], global_attentions[i])\n",
        "        new_matrix.append(matrix)\n",
        "    return torch.stack(new_matrix)"
      ],
      "metadata": {
        "id": "AFyZpNST1JRr"
      },
      "execution_count": null,
      "outputs": []
    },
    {
      "cell_type": "markdown",
      "source": [
        "Some heads may be more important than others so we scale each attention matrix by their respective head and layer. The notebook used to get head importance is [here](https://colab.research.google.com/drive/1O4QCi8ewBp7asegKqySRflTQZ9HeH8mQ?usp=sharing). However, its possible that you might not want to scale the attentions, in which case you can ignore this section."
      ],
      "metadata": {
        "id": "WJynBkquG9cv"
      }
    },
    {
      "cell_type": "code",
      "source": [
        "def scale_by_importance(attention_matrix, head_importance):\n",
        "  new_matrix = np.zeros_like(attention_matrix)\n",
        "  for i in range(attention_matrix.shape[0]):\n",
        "    head_importance_layer = head_importance[i]\n",
        "    new_matrix[i] = attention_matrix[i] * np.expand_dims(head_importance_layer, axis=(1))\n",
        "  return new_matrix"
      ],
      "metadata": {
        "id": "nDuqZlIZ1NSr"
      },
      "execution_count": null,
      "outputs": []
    },
    {
      "cell_type": "code",
      "source": [
        "head_importance = torch.load(\"/content/drive/MyDrive/cogs402longformer/t3-visapplication/resources/papers/pretrained/head_importance.pt\")\n",
        "# head_importance = torch.load(\"/content/drive/MyDrive/cogs402longformer/t3-visapplication/resources/news/head_importance.pt\")"
      ],
      "metadata": {
        "id": "Bt_2TsKb1ML5"
      },
      "execution_count": null,
      "outputs": []
    },
    {
      "cell_type": "markdown",
      "source": [
        "The following block of code creates a new dictionary of attention matrices. Each key corresponds to their respective example in the dataset (range 0 - dataset length) and stores a layer x head x seq_len matrix of attentions for each key"
      ],
      "metadata": {
        "id": "fCZJ4gIKO8ys"
      }
    },
    {
      "cell_type": "code",
      "source": [
        "all_attentions = {}"
      ],
      "metadata": {
        "id": "F8QC9aqjtiZ6"
      },
      "execution_count": null,
      "outputs": []
    },
    {
      "cell_type": "markdown",
      "source": [
        "On the other hand, if you have a dictionary of attentions already saved, you can import it as follows. Replace the path with a path to your own dictionary."
      ],
      "metadata": {
        "id": "m-20QqqlPNs2"
      }
    },
    {
      "cell_type": "code",
      "source": [
        "all_attentions = torch.load('/content/drive/MyDrive/cogs402longformer/results/papers/full_attention_matrices/papers_atten_summed_dict.pt')"
      ],
      "metadata": {
        "id": "JeKFfGfueDPZ"
      },
      "execution_count": null,
      "outputs": []
    },
    {
      "cell_type": "markdown",
      "source": [
        "In this block of code, we iterate over the entire dataset, obtain the input_ids, position_ids, attention_mask, pass the inputs into the model, obtain the output, convert the attention matrix and store the result in the dictionary. If you have already loaded your attentions, you can skip this step. Increase the number of steps if you desire, but it may take a very long time to run. At the end of every 10 iterations, we also save the dictionary. We do every 10 as saving dictionaries of attentions takes a bit of time."
      ],
      "metadata": {
        "id": "F4_6027PElWG"
      }
    },
    {
      "cell_type": "code",
      "source": [
        "from tqdm import tqdm\n",
        "\n",
        "# for i in tqdm(range(len(cogs402_ds))):\n",
        "#   if str(i) not in all_attentions:\n",
        "#     #get input ids, position ids and attention mask for integrated gradients\n",
        "#     text = cogs402_ds['text'][i]\n",
        "#     label = cogs402_ds['labels'][i]\n",
        "\n",
        "#     input_ids, ref_input_ids, sep_id = construct_input_ref_pair(text, ref_token_id, sep_token_id, cls_token_id)\n",
        "#     position_ids, ref_position_ids = construct_input_ref_pos_id_pair(input_ids)\n",
        "#     attention_mask = construct_attention_mask(input_ids)\n",
        "\n",
        "#     output = model(input_ids.cuda(), attention_mask=attention_mask.cuda(), labels=torch.tensor(label).cuda(), output_attentions = True)\n",
        "\n",
        "#     batch_attn = output[-2]\n",
        "\n",
        "#     # We are working with one item at a time, so we squeeze the tensor to remove the batch axis in both tensors\n",
        "#     # shape: (layer, head, seq_len, x+attention_window+1)\n",
        "#     output_attentions = torch.stack(batch_attn).cpu().squeeze()\n",
        "#     global_attention = output[-1]\n",
        "\n",
        "#     # shape: (layer, head, seq_len, x)\n",
        "#     output_global_attentions = torch.stack(global_attention).cpu().squeeze()\n",
        "\n",
        "#     converted_mat = all_layers(output_attentions, output_global_attentions).detach().cpu().numpy()\n",
        "    \n",
        "#     attention_matrix_summed = converted_mat.sum(axis=2)\n",
        "#     all_attentions[str(i)] = attention_matrix_summed\n",
        "\n",
        "#     if i%10 == 9:\n",
        "#       torch.save(all_attentions, '/content/drive/MyDrive/cogs402longformer/results/papers/full_attention_matrices/papers_atten_summed_dict.pt')"
      ],
      "metadata": {
        "id": "mx69KUz20KmC"
      },
      "execution_count": null,
      "outputs": []
    },
    {
      "cell_type": "markdown",
      "source": [
        "### Scaling the Attention"
      ],
      "metadata": {
        "id": "7PEQxg77LLvw"
      }
    },
    {
      "cell_type": "markdown",
      "source": [
        "We will then scale the summed attention by head importance. If you do not wish to scale the attentions, there is a section later in the notebook that does not perform scaling. However, we will do so here."
      ],
      "metadata": {
        "id": "UZAi6NYZK-n0"
      }
    },
    {
      "cell_type": "markdown",
      "source": [
        "The following are two dictionaries of attention weights for each token (how much each token is attended to), weighted by head importance, for layer 12 and over all layers. The number of keys in the dictionary is 1070 (number of items in the validation set) and each key contains an array of shape (seq_len)."
      ],
      "metadata": {
        "id": "DyGjnOpaM8dZ"
      }
    },
    {
      "cell_type": "code",
      "source": [
        "all_attentions_final = torch.load('/content/drive/MyDrive/cogs402longformer/results/papers/full_attention_matrices/example_atten_dict_12.pt')\n",
        "all_attentions_all = torch.load('/content/drive/MyDrive/cogs402longformer/results/papers/full_attention_matrices/example_atten_dict_all.pt')"
      ],
      "metadata": {
        "id": "eJuGcLQpS-Ky"
      },
      "execution_count": null,
      "outputs": []
    },
    {
      "cell_type": "markdown",
      "source": [
        "Another example of importing dictionaries of attentions. These two dictionaries store the summed attentions for the layers 1-6 and 7-12 respectively. "
      ],
      "metadata": {
        "id": "TUGT5wEXrs4c"
      }
    },
    {
      "cell_type": "code",
      "source": [
        "all_attentions_lower = torch.load('/content/drive/MyDrive/cogs402longformer/results/papers/full_attention_matrices/example_atten_dict_lower.pt')\n",
        "all_attentions_upper = torch.load('/content/drive/MyDrive/cogs402longformer/results/papers/full_attention_matrices/example_atten_dict_upper.pt')"
      ],
      "metadata": {
        "id": "tckSMU4yqBhU"
      },
      "execution_count": null,
      "outputs": []
    },
    {
      "cell_type": "markdown",
      "source": [
        "This block of code iterates through the entire dataset, scales the attention matrix for each example by head importance (optional), and sums up the attention. For this notebook, we sum the attention over 6 layers and the last 6 layers separately.\n",
        "\n",
        "In this case, when taking a specific layer, you pick the layer you want (replace 11 with whatever layer you wish) and then we sum over all of the heads.\n",
        "\n",
        "When taking a range of layers, you either want to specify a range (e.g. attention_matrix_summed[0:6]) or leave as it is to sum over all layers. Then we sum up the layers and the heads.\n",
        "\n",
        "Lastly, we save the dictionary of summed attentions for easy access on repeat runs or other notebooks.\n",
        "\n",
        "The two dictionaries of attentions are currently labeled _lower and _upper for the use case, but should be changed to fit the task at hand."
      ],
      "metadata": {
        "id": "YDqk5Y1rr7eU"
      }
    },
    {
      "cell_type": "code",
      "source": [
        "# all_attentions_lower = {}\n",
        "# all_attentions_upper = {}\n",
        "# for i in tqdm(range(len(cogs402_ds))):\n",
        "#   if str(i) not in all_attentions_lower and str(i) not in all_attentions_upper:\n",
        "\n",
        "#     att_mat = all_attentions[str(i)]\n",
        "\n",
        "#     att_mat = scale_by_importance(att_mat, head_importance)\n",
        "\n",
        "#     # how to pick a range of layers\n",
        "#     att_mat_low = att_mat[0:6]\n",
        "#     att_mat_up = att_mat[6:]\n",
        "\n",
        "#     # Sum the attentions for the last layer and over all layers\n",
        "#     attention_lower_layer = att_mat_low.sum(axis=1)\n",
        "#     attention_lower_layer = attention_lower_layer.sum(axis=0)\n",
        "#     all_attentions_lower[str(i)] = attention_lower_layer\n",
        "\n",
        "#     attention_upper_layer = att_mat_up.sum(axis=1)\n",
        "#     attention_upper_layer = attention_upper_layer.sum(axis=0)\n",
        "#     all_attentions_upper[str(i)] = attention_upper_layer\n",
        "\n",
        "#     #template for single layer\n",
        "#     # attention_single_layer = att_mat[layer].sum(axis=0)\n",
        "#     # all_attentions_layer[str(i)] = attention_single_layer\n",
        "    \n",
        "#     torch.save(all_attentions_lower, '/content/drive/MyDrive/cogs402longformer/results/papers/full_attention_matrices/example_atten_dict_lower.pt')\n",
        "#     torch.save(all_attentions_upper, '/content/drive/MyDrive/cogs402longformer/results/papers/full_attention_matrices/example_atten_dict_upper.pt')"
      ],
      "metadata": {
        "id": "ZWeFQNW8MmJL"
      },
      "execution_count": null,
      "outputs": []
    },
    {
      "cell_type": "markdown",
      "source": [
        "## Finding the Similarities "
      ],
      "metadata": {
        "id": "Vp9Vj8sqZoj3"
      }
    },
    {
      "cell_type": "markdown",
      "source": [
        "By using the attention and attribution dictionaries we created, we can now do a series of comparisons for each example in our dataset."
      ],
      "metadata": {
        "id": "P9NCgV58Fyy6"
      }
    },
    {
      "cell_type": "markdown",
      "source": [
        "Short helper function to normalize the attentions and attributions. "
      ],
      "metadata": {
        "id": "6cwcV4jXNWe-"
      }
    },
    {
      "cell_type": "code",
      "source": [
        "def normalize(data):\n",
        "    return (data - np.min(data)) / (np. max(data) - np.min(data))"
      ],
      "metadata": {
        "id": "ukncMseTj1-K"
      },
      "execution_count": null,
      "outputs": []
    },
    {
      "cell_type": "markdown",
      "source": [
        "The following block of code iterates through the entire dataset, grabs the appropriate attributions and attentions from their respective dictionaries, and computes the cosine similarities, [Kendalltau](https://www.jstor.org/stable/2332226), and [Rank-biased Overlap (RBO)](https://dl.acm.org/doi/10.1145/1852102.1852106). Note that the array of attributions will be absolute valued for all cases other than the raw similarities. We absolute value the attributions because negative attributions would not necessarily mean that they have the lowest attention, rather they might have really high attention as they are more likely to help the model predict the negative class, and might be something the attentions picked up by the model. The output is a dataframe containing the computed similarities.\n",
        "\n",
        "For the cosine similarites, we are comparing the raw un-normalized attributions and attentions, the normalized arrays, arrays with values below the median masked, arrays with values below the mean masked, and the ranks of the tokens\n",
        "\n",
        "More information about the similarities can be found [here](https://colab.research.google.com/drive/14a1tOimrRbLlXd0rbtY-UTcizR5GDd4F#scrollTo=gB7w8fsMHFT2)"
      ],
      "metadata": {
        "id": "bw08J8acuEY4"
      }
    },
    {
      "cell_type": "code",
      "source": [
        "from numpy.linalg import norm\n",
        "import scipy.stats as stats\n",
        "import rbo\n",
        "from tqdm import tqdm"
      ],
      "metadata": {
        "id": "t4ppKBXJC3AB"
      },
      "execution_count": null,
      "outputs": []
    },
    {
      "cell_type": "code",
      "source": [
        "def get_sim_dataframe(cogs402_ds, all_attentions, all_attributions):\n",
        "\n",
        "  dataframe = []\n",
        "\n",
        "  for i in tqdm(range(len(cogs402_ds))):\n",
        "    exam_attrib = all_attributions[str(i)]\n",
        "    attention_final_layer = all_attentions[str(i)]\n",
        "    \n",
        "    exam_attrib = exam_attrib[:len(all_attentions[str(i)])]\n",
        "\n",
        "    #raw sims\n",
        "    cosine_raw = np.dot(exam_attrib, attention_final_layer) / (norm(exam_attrib)*norm(attention_final_layer))\n",
        "\n",
        "    attention_final_layer2 = normalize(attention_final_layer)\n",
        "\n",
        "    exam_attrib2 = np.abs(exam_attrib)\n",
        "    exam_attrib2 = normalize(exam_attrib2)\n",
        "    \n",
        "    #normalized sims\n",
        "    cosine = np.dot(exam_attrib2, attention_final_layer2) / (norm(exam_attrib2)*norm(attention_final_layer2))\n",
        "\n",
        "    exam_attrib3 = exam_attrib2\n",
        "    median_exam = np.percentile(exam_attrib3, 50)\n",
        "    exam_attrib3[exam_attrib3 < median_exam] = 0\n",
        "\n",
        "    attention_final_layer3 = np.copy(attention_final_layer2)\n",
        "    median_12 = np.percentile(attention_final_layer3, 50)\n",
        "    attention_final_layer3[attention_final_layer3 < median_12] = 0\n",
        "\n",
        "\n",
        "    #sim for attributions and attentions above the median\n",
        "    cosine_med = np.dot(exam_attrib3, attention_final_layer3) / (norm(exam_attrib3)*norm(attention_final_layer3))\n",
        "\n",
        "    exam_attrib4 = exam_attrib2\n",
        "    mean_exam = np.mean(exam_attrib4)\n",
        "    exam_attrib4[exam_attrib4 < mean_exam] = 0\n",
        "\n",
        "    attention_final_layer4 = np.copy(attention_final_layer2)\n",
        "    mean_12 = np.mean(attention_final_layer4)\n",
        "    attention_final_layer4[attention_final_layer4 < mean_12] = 0\n",
        "\n",
        "    #sim for attributions and attentions above the mean\n",
        "    cosine_mean = np.dot(exam_attrib4, attention_final_layer4) / (norm(exam_attrib4)*norm(attention_final_layer4))\n",
        "\n",
        "    exam_attrib_rank = exam_attrib2\n",
        "    order_attrib = exam_attrib_rank.argsort()[::-1]\n",
        "    ranks_attrib = order_attrib.argsort()\n",
        "\n",
        "    attention_final_layer_rank = np.copy(attention_final_layer2)\n",
        "    order = attention_final_layer_rank.argsort()[::-1]\n",
        "    ranks = order.argsort()\n",
        "\n",
        "    #sim using the ranks of the tokens\n",
        "    cosine_rank = np.dot(ranks_attrib, ranks) / (norm(ranks_attrib)*norm(ranks))\n",
        "\n",
        "    # other similarity metrics like RBO and Kendalltau\n",
        "    tau, p_value = stats.kendalltau(ranks_attrib, ranks)\n",
        "\n",
        "    rbo_sim = rbo.RankingSimilarity(order_attrib, order).rbo()\n",
        "\n",
        "    d = {'example': i, 'similarity normalized': cosine, 'similarity raw': cosine_raw, 'sim_norm w/ median threshold':cosine_med, 'sim_norm w/ mean threshold':cosine_mean, \"sim w/ ranks\":cosine_rank,\n",
        "        \"kendalltau\": tau, \"rbo\":rbo_sim}\n",
        "    dataframe.append(d)\n",
        "\n",
        "  return pd.DataFrame(dataframe)"
      ],
      "metadata": {
        "id": "dmKF8EBP2Nqz"
      },
      "execution_count": null,
      "outputs": []
    },
    {
      "cell_type": "markdown",
      "source": [
        "Apply the above function for our two cases, upper layers, and lower layers."
      ],
      "metadata": {
        "id": "Kpy-tAPEHfiQ"
      }
    },
    {
      "cell_type": "code",
      "source": [
        "df = get_sim_dataframe(cogs402_ds, all_attentions_final, all_attributions)"
      ],
      "metadata": {
        "id": "gQIFZTQzlAEI",
        "colab": {
          "base_uri": "https://localhost:8080/"
        },
        "outputId": "55436fd5-7ba9-4a33-a72c-e96861598128"
      },
      "execution_count": null,
      "outputs": [
        {
          "output_type": "stream",
          "name": "stderr",
          "text": [
            "100%|██████████| 1070/1070 [00:05<00:00, 184.94it/s]\n"
          ]
        }
      ]
    },
    {
      "cell_type": "code",
      "source": [
        "df2 = get_sim_dataframe(cogs402_ds, all_attentions_all, all_attributions)"
      ],
      "metadata": {
        "id": "gtCEZaQFOgwh",
        "colab": {
          "base_uri": "https://localhost:8080/"
        },
        "outputId": "d8048a6a-16e9-462a-ca2d-7f8815e1d083"
      },
      "execution_count": null,
      "outputs": [
        {
          "output_type": "stream",
          "name": "stderr",
          "text": [
            "100%|██████████| 1070/1070 [00:05<00:00, 187.78it/s]\n"
          ]
        }
      ]
    },
    {
      "cell_type": "code",
      "source": [
        "df"
      ],
      "metadata": {
        "id": "Yn97-oeTC_qt",
        "colab": {
          "base_uri": "https://localhost:8080/",
          "height": 424
        },
        "outputId": "c99188d1-482a-46a3-e995-c7b0cfc4de49"
      },
      "execution_count": null,
      "outputs": [
        {
          "output_type": "execute_result",
          "data": {
            "text/plain": [
              "      example  similarity normalized  similarity raw  \\\n",
              "0           0               0.086231        0.056545   \n",
              "1           1               0.303640       -0.159406   \n",
              "2           2               0.342358       -0.044282   \n",
              "3           3               0.359119       -0.026443   \n",
              "4           4               0.215446        0.018165   \n",
              "...       ...                    ...             ...   \n",
              "1065     1065               0.193410        0.053807   \n",
              "1066     1066               0.099270        0.013470   \n",
              "1067     1067               0.176846       -0.130924   \n",
              "1068     1068               0.350094        0.027682   \n",
              "1069     1069               0.288194        0.146703   \n",
              "\n",
              "      sim_norm w/ median threshold  sim_norm w/ mean threshold  sim w/ ranks  \\\n",
              "0                         0.085778                    0.080139      0.864749   \n",
              "1                         0.290472                    0.274760      0.783322   \n",
              "2                         0.339240                    0.330878      0.829717   \n",
              "3                         0.358427                    0.351210      0.837385   \n",
              "4                         0.208882                    0.199713      0.782369   \n",
              "...                            ...                         ...           ...   \n",
              "1065                      0.192517                    0.183546      0.871338   \n",
              "1066                      0.098644                    0.089944      0.839483   \n",
              "1067                      0.170863                    0.163549      0.780997   \n",
              "1068                      0.343700                    0.337958      0.798051   \n",
              "1069                      0.280853                    0.256735      0.794647   \n",
              "\n",
              "      kendalltau       rbo  \n",
              "0       0.315453  0.650821  \n",
              "1       0.090182  0.572393  \n",
              "2       0.219057  0.612220  \n",
              "3       0.235084  0.604599  \n",
              "4       0.086617  0.572470  \n",
              "...          ...       ...  \n",
              "1065    0.337125  0.669688  \n",
              "1066    0.242332  0.631098  \n",
              "1067    0.083116  0.567088  \n",
              "1068    0.130049  0.589500  \n",
              "1069    0.122361  0.578447  \n",
              "\n",
              "[1070 rows x 8 columns]"
            ],
            "text/html": [
              "\n",
              "  <div id=\"df-5e072164-4f4e-497f-8594-47a7ea363050\">\n",
              "    <div class=\"colab-df-container\">\n",
              "      <div>\n",
              "<style scoped>\n",
              "    .dataframe tbody tr th:only-of-type {\n",
              "        vertical-align: middle;\n",
              "    }\n",
              "\n",
              "    .dataframe tbody tr th {\n",
              "        vertical-align: top;\n",
              "    }\n",
              "\n",
              "    .dataframe thead th {\n",
              "        text-align: right;\n",
              "    }\n",
              "</style>\n",
              "<table border=\"1\" class=\"dataframe\">\n",
              "  <thead>\n",
              "    <tr style=\"text-align: right;\">\n",
              "      <th></th>\n",
              "      <th>example</th>\n",
              "      <th>similarity normalized</th>\n",
              "      <th>similarity raw</th>\n",
              "      <th>sim_norm w/ median threshold</th>\n",
              "      <th>sim_norm w/ mean threshold</th>\n",
              "      <th>sim w/ ranks</th>\n",
              "      <th>kendalltau</th>\n",
              "      <th>rbo</th>\n",
              "    </tr>\n",
              "  </thead>\n",
              "  <tbody>\n",
              "    <tr>\n",
              "      <th>0</th>\n",
              "      <td>0</td>\n",
              "      <td>0.086231</td>\n",
              "      <td>0.056545</td>\n",
              "      <td>0.085778</td>\n",
              "      <td>0.080139</td>\n",
              "      <td>0.864749</td>\n",
              "      <td>0.315453</td>\n",
              "      <td>0.650821</td>\n",
              "    </tr>\n",
              "    <tr>\n",
              "      <th>1</th>\n",
              "      <td>1</td>\n",
              "      <td>0.303640</td>\n",
              "      <td>-0.159406</td>\n",
              "      <td>0.290472</td>\n",
              "      <td>0.274760</td>\n",
              "      <td>0.783322</td>\n",
              "      <td>0.090182</td>\n",
              "      <td>0.572393</td>\n",
              "    </tr>\n",
              "    <tr>\n",
              "      <th>2</th>\n",
              "      <td>2</td>\n",
              "      <td>0.342358</td>\n",
              "      <td>-0.044282</td>\n",
              "      <td>0.339240</td>\n",
              "      <td>0.330878</td>\n",
              "      <td>0.829717</td>\n",
              "      <td>0.219057</td>\n",
              "      <td>0.612220</td>\n",
              "    </tr>\n",
              "    <tr>\n",
              "      <th>3</th>\n",
              "      <td>3</td>\n",
              "      <td>0.359119</td>\n",
              "      <td>-0.026443</td>\n",
              "      <td>0.358427</td>\n",
              "      <td>0.351210</td>\n",
              "      <td>0.837385</td>\n",
              "      <td>0.235084</td>\n",
              "      <td>0.604599</td>\n",
              "    </tr>\n",
              "    <tr>\n",
              "      <th>4</th>\n",
              "      <td>4</td>\n",
              "      <td>0.215446</td>\n",
              "      <td>0.018165</td>\n",
              "      <td>0.208882</td>\n",
              "      <td>0.199713</td>\n",
              "      <td>0.782369</td>\n",
              "      <td>0.086617</td>\n",
              "      <td>0.572470</td>\n",
              "    </tr>\n",
              "    <tr>\n",
              "      <th>...</th>\n",
              "      <td>...</td>\n",
              "      <td>...</td>\n",
              "      <td>...</td>\n",
              "      <td>...</td>\n",
              "      <td>...</td>\n",
              "      <td>...</td>\n",
              "      <td>...</td>\n",
              "      <td>...</td>\n",
              "    </tr>\n",
              "    <tr>\n",
              "      <th>1065</th>\n",
              "      <td>1065</td>\n",
              "      <td>0.193410</td>\n",
              "      <td>0.053807</td>\n",
              "      <td>0.192517</td>\n",
              "      <td>0.183546</td>\n",
              "      <td>0.871338</td>\n",
              "      <td>0.337125</td>\n",
              "      <td>0.669688</td>\n",
              "    </tr>\n",
              "    <tr>\n",
              "      <th>1066</th>\n",
              "      <td>1066</td>\n",
              "      <td>0.099270</td>\n",
              "      <td>0.013470</td>\n",
              "      <td>0.098644</td>\n",
              "      <td>0.089944</td>\n",
              "      <td>0.839483</td>\n",
              "      <td>0.242332</td>\n",
              "      <td>0.631098</td>\n",
              "    </tr>\n",
              "    <tr>\n",
              "      <th>1067</th>\n",
              "      <td>1067</td>\n",
              "      <td>0.176846</td>\n",
              "      <td>-0.130924</td>\n",
              "      <td>0.170863</td>\n",
              "      <td>0.163549</td>\n",
              "      <td>0.780997</td>\n",
              "      <td>0.083116</td>\n",
              "      <td>0.567088</td>\n",
              "    </tr>\n",
              "    <tr>\n",
              "      <th>1068</th>\n",
              "      <td>1068</td>\n",
              "      <td>0.350094</td>\n",
              "      <td>0.027682</td>\n",
              "      <td>0.343700</td>\n",
              "      <td>0.337958</td>\n",
              "      <td>0.798051</td>\n",
              "      <td>0.130049</td>\n",
              "      <td>0.589500</td>\n",
              "    </tr>\n",
              "    <tr>\n",
              "      <th>1069</th>\n",
              "      <td>1069</td>\n",
              "      <td>0.288194</td>\n",
              "      <td>0.146703</td>\n",
              "      <td>0.280853</td>\n",
              "      <td>0.256735</td>\n",
              "      <td>0.794647</td>\n",
              "      <td>0.122361</td>\n",
              "      <td>0.578447</td>\n",
              "    </tr>\n",
              "  </tbody>\n",
              "</table>\n",
              "<p>1070 rows × 8 columns</p>\n",
              "</div>\n",
              "      <button class=\"colab-df-convert\" onclick=\"convertToInteractive('df-5e072164-4f4e-497f-8594-47a7ea363050')\"\n",
              "              title=\"Convert this dataframe to an interactive table.\"\n",
              "              style=\"display:none;\">\n",
              "        \n",
              "  <svg xmlns=\"http://www.w3.org/2000/svg\" height=\"24px\"viewBox=\"0 0 24 24\"\n",
              "       width=\"24px\">\n",
              "    <path d=\"M0 0h24v24H0V0z\" fill=\"none\"/>\n",
              "    <path d=\"M18.56 5.44l.94 2.06.94-2.06 2.06-.94-2.06-.94-.94-2.06-.94 2.06-2.06.94zm-11 1L8.5 8.5l.94-2.06 2.06-.94-2.06-.94L8.5 2.5l-.94 2.06-2.06.94zm10 10l.94 2.06.94-2.06 2.06-.94-2.06-.94-.94-2.06-.94 2.06-2.06.94z\"/><path d=\"M17.41 7.96l-1.37-1.37c-.4-.4-.92-.59-1.43-.59-.52 0-1.04.2-1.43.59L10.3 9.45l-7.72 7.72c-.78.78-.78 2.05 0 2.83L4 21.41c.39.39.9.59 1.41.59.51 0 1.02-.2 1.41-.59l7.78-7.78 2.81-2.81c.8-.78.8-2.07 0-2.86zM5.41 20L4 18.59l7.72-7.72 1.47 1.35L5.41 20z\"/>\n",
              "  </svg>\n",
              "      </button>\n",
              "      \n",
              "  <style>\n",
              "    .colab-df-container {\n",
              "      display:flex;\n",
              "      flex-wrap:wrap;\n",
              "      gap: 12px;\n",
              "    }\n",
              "\n",
              "    .colab-df-convert {\n",
              "      background-color: #E8F0FE;\n",
              "      border: none;\n",
              "      border-radius: 50%;\n",
              "      cursor: pointer;\n",
              "      display: none;\n",
              "      fill: #1967D2;\n",
              "      height: 32px;\n",
              "      padding: 0 0 0 0;\n",
              "      width: 32px;\n",
              "    }\n",
              "\n",
              "    .colab-df-convert:hover {\n",
              "      background-color: #E2EBFA;\n",
              "      box-shadow: 0px 1px 2px rgba(60, 64, 67, 0.3), 0px 1px 3px 1px rgba(60, 64, 67, 0.15);\n",
              "      fill: #174EA6;\n",
              "    }\n",
              "\n",
              "    [theme=dark] .colab-df-convert {\n",
              "      background-color: #3B4455;\n",
              "      fill: #D2E3FC;\n",
              "    }\n",
              "\n",
              "    [theme=dark] .colab-df-convert:hover {\n",
              "      background-color: #434B5C;\n",
              "      box-shadow: 0px 1px 3px 1px rgba(0, 0, 0, 0.15);\n",
              "      filter: drop-shadow(0px 1px 2px rgba(0, 0, 0, 0.3));\n",
              "      fill: #FFFFFF;\n",
              "    }\n",
              "  </style>\n",
              "\n",
              "      <script>\n",
              "        const buttonEl =\n",
              "          document.querySelector('#df-5e072164-4f4e-497f-8594-47a7ea363050 button.colab-df-convert');\n",
              "        buttonEl.style.display =\n",
              "          google.colab.kernel.accessAllowed ? 'block' : 'none';\n",
              "\n",
              "        async function convertToInteractive(key) {\n",
              "          const element = document.querySelector('#df-5e072164-4f4e-497f-8594-47a7ea363050');\n",
              "          const dataTable =\n",
              "            await google.colab.kernel.invokeFunction('convertToInteractive',\n",
              "                                                     [key], {});\n",
              "          if (!dataTable) return;\n",
              "\n",
              "          const docLinkHtml = 'Like what you see? Visit the ' +\n",
              "            '<a target=\"_blank\" href=https://colab.research.google.com/notebooks/data_table.ipynb>data table notebook</a>'\n",
              "            + ' to learn more about interactive tables.';\n",
              "          element.innerHTML = '';\n",
              "          dataTable['output_type'] = 'display_data';\n",
              "          await google.colab.output.renderOutput(dataTable, element);\n",
              "          const docLink = document.createElement('div');\n",
              "          docLink.innerHTML = docLinkHtml;\n",
              "          element.appendChild(docLink);\n",
              "        }\n",
              "      </script>\n",
              "    </div>\n",
              "  </div>\n",
              "  "
            ]
          },
          "metadata": {},
          "execution_count": 35
        }
      ]
    },
    {
      "cell_type": "markdown",
      "source": [
        "Since we have converted our similarities into a dataframe, we can easily find things like the mean and the max of the similarities, which we can use to pick out an example if needed."
      ],
      "metadata": {
        "id": "rBcXyOuGHlJN"
      }
    },
    {
      "cell_type": "code",
      "source": [
        "df.max()"
      ],
      "metadata": {
        "id": "SY9blyjLDeUt",
        "colab": {
          "base_uri": "https://localhost:8080/"
        },
        "outputId": "cad96b0e-e932-40e9-ec00-255317095340"
      },
      "execution_count": null,
      "outputs": [
        {
          "output_type": "execute_result",
          "data": {
            "text/plain": [
              "example                         1069.000000\n",
              "similarity normalized              0.532130\n",
              "similarity raw                     0.378550\n",
              "sim_norm w/ median threshold       0.529216\n",
              "sim_norm w/ mean threshold         0.523816\n",
              "sim w/ ranks                       0.883396\n",
              "kendalltau                         0.378898\n",
              "rbo                                0.677276\n",
              "dtype: float64"
            ]
          },
          "metadata": {},
          "execution_count": 36
        }
      ]
    },
    {
      "cell_type": "code",
      "source": [
        "df.min()"
      ],
      "metadata": {
        "id": "U8Egh8vVEL3w",
        "colab": {
          "base_uri": "https://localhost:8080/"
        },
        "outputId": "a26a6408-e0c5-41c5-b2fe-8d320ce514a5"
      },
      "execution_count": null,
      "outputs": [
        {
          "output_type": "execute_result",
          "data": {
            "text/plain": [
              "example                         0.000000\n",
              "similarity normalized           0.021997\n",
              "similarity raw                 -0.337544\n",
              "sim_norm w/ median threshold    0.021838\n",
              "sim_norm w/ mean threshold      0.018403\n",
              "sim w/ ranks                    0.731231\n",
              "kendalltau                     -0.045004\n",
              "rbo                             0.482199\n",
              "dtype: float64"
            ]
          },
          "metadata": {},
          "execution_count": 37
        }
      ]
    },
    {
      "cell_type": "code",
      "source": [
        "df2.max()"
      ],
      "metadata": {
        "id": "VIDkyg0RDqTZ",
        "colab": {
          "base_uri": "https://localhost:8080/"
        },
        "outputId": "7e9d0a32-bc88-41ed-9525-39e55931edd0"
      },
      "execution_count": null,
      "outputs": [
        {
          "output_type": "execute_result",
          "data": {
            "text/plain": [
              "example                         1069.000000\n",
              "similarity normalized              0.287572\n",
              "similarity raw                     0.198161\n",
              "sim_norm w/ median threshold       0.269140\n",
              "sim_norm w/ mean threshold         0.250310\n",
              "sim w/ ranks                       0.830498\n",
              "kendalltau                         0.216272\n",
              "rbo                                0.624037\n",
              "dtype: float64"
            ]
          },
          "metadata": {},
          "execution_count": 38
        }
      ]
    },
    {
      "cell_type": "code",
      "source": [
        "df.mean()"
      ],
      "metadata": {
        "id": "2HPzjI4i4Oz0",
        "colab": {
          "base_uri": "https://localhost:8080/"
        },
        "outputId": "938123e9-7a7c-4533-d14c-5d104b8705c3"
      },
      "execution_count": null,
      "outputs": [
        {
          "output_type": "execute_result",
          "data": {
            "text/plain": [
              "example                         534.500000\n",
              "similarity normalized             0.227269\n",
              "similarity raw                    0.032436\n",
              "sim_norm w/ median threshold      0.223305\n",
              "sim_norm w/ mean threshold        0.210181\n",
              "sim w/ ranks                      0.804217\n",
              "kendalltau                        0.147128\n",
              "rbo                               0.587605\n",
              "dtype: float64"
            ]
          },
          "metadata": {},
          "execution_count": 39
        }
      ]
    },
    {
      "cell_type": "markdown",
      "source": [
        "### Storing our Results"
      ],
      "metadata": {
        "id": "LduQ8w_yIaW5"
      }
    },
    {
      "cell_type": "markdown",
      "source": [
        "Given that this is meant to be preliminary findings about the comparison of attributions and attentions, you likely want to run through this multiple times with multiple configurations to see which configuration gives the most interesting results. As such, we want to store the results found above in a manner that we can easily access but also easy to view. Below we demonstrate how we stored the results of the means in a .csv file that we export."
      ],
      "metadata": {
        "id": "XQrU4q-SI-Q-"
      }
    },
    {
      "cell_type": "markdown",
      "source": [
        "We convert our results into a dictionary so we can later create a dataframe and store this information. Notably, we want the attention this example operates on in the form of text (e.g. attrib_vs_layer_12), which means **you will have to change the text depending on your context**, the mean cosine similarities, the mean cosine similarities for the ranks, the kendall tau coefficient, the RBO, as well as whether they are scaled, and/or alphanumeric tokens only."
      ],
      "metadata": {
        "id": "ZKZKg9mcY6XV"
      }
    },
    {
      "cell_type": "code",
      "source": [
        "result_dataframe = []\n",
        "d = {'example': \"attrib_vs_layer12_attn\", 'mean_cosine_sim': df.mean()[\"similarity normalized\"].round(6), \"mean_cosine_sim_ranks\":df.mean()[\"sim w/ ranks\"].round(6),\n",
        "        \"mean_kendall_tau\": df.mean()[\"kendalltau\"].round(6), \"mean_RBO\":df.mean()[\"rbo\"].round(6), \"scaled\":True, \"alnum_only\":False}\n",
        "result_dataframe.append(d)\n"
      ],
      "metadata": {
        "id": "8I3H3SR2Nj5w"
      },
      "execution_count": null,
      "outputs": []
    },
    {
      "cell_type": "code",
      "source": [
        "df2.mean()"
      ],
      "metadata": {
        "colab": {
          "base_uri": "https://localhost:8080/"
        },
        "id": "kdhfJcyEYxpZ",
        "outputId": "16a10e5e-df0f-4b53-fcf2-4816c8333cf5"
      },
      "execution_count": null,
      "outputs": [
        {
          "output_type": "execute_result",
          "data": {
            "text/plain": [
              "example                         534.500000\n",
              "similarity normalized             0.120074\n",
              "similarity raw                    0.016374\n",
              "sim_norm w/ median threshold      0.113154\n",
              "sim_norm w/ mean threshold        0.102377\n",
              "sim w/ ranks                      0.784797\n",
              "kendalltau                        0.094067\n",
              "rbo                               0.568291\n",
              "dtype: float64"
            ]
          },
          "metadata": {},
          "execution_count": 41
        }
      ]
    },
    {
      "cell_type": "markdown",
      "source": [
        "We do the same, changing the example text to ...upper_attn rather than lower attention because df2 stores the values comparing attribution against upper attention layers."
      ],
      "metadata": {
        "id": "WSMXkDj2ZyV5"
      }
    },
    {
      "cell_type": "code",
      "source": [
        "d2 = {'example': \"attrib_vs_all_layer_attn\", 'mean_cosine_sim': df2.mean()[\"similarity normalized\"].round(6), \"mean_cosine_sim_ranks\":df2.mean()[\"sim w/ ranks\"].round(6),\n",
        "        \"mean_kendall_tau\": df2.mean()[\"kendalltau\"].round(6), \"mean_RBO\":df2.mean()[\"rbo\"].round(6), \"scaled\":True, \"alnum_only\":False}\n",
        "result_dataframe.append(d2)"
      ],
      "metadata": {
        "id": "OVHDWIwgO9Se"
      },
      "execution_count": null,
      "outputs": []
    },
    {
      "cell_type": "markdown",
      "source": [
        "### Alpha Tokens only"
      ],
      "metadata": {
        "id": "o0z0xod8JnLi"
      }
    },
    {
      "cell_type": "markdown",
      "source": [
        "We import a list of stopwords from nltk and tokenize them so they are in the same style as our input tokens. We create a set using the stopwords."
      ],
      "metadata": {
        "id": "EDy4GSF2VW2O"
      }
    },
    {
      "cell_type": "code",
      "source": [
        "import nltk\n",
        "from transformers import AutoTokenizer\n",
        "nltk.download('stopwords')\n",
        "tokenizer2 = AutoTokenizer.from_pretrained('allenai/longformer-base-4096', add_prefix_space=True)"
      ],
      "metadata": {
        "colab": {
          "base_uri": "https://localhost:8080/",
          "height": 84,
          "referenced_widgets": [
            "5d1649538d344bbdada84f90b48efe5c",
            "51bb4bbbb1f14d57b4c74b14b74c357a",
            "a15d8974fb7943d5891464f77f37dbb4",
            "aea72b634b6e4401847de18358043fbb",
            "28530e5c34c24a96bf1a6e82794218f1",
            "bf888ded567941a7a990371c742a00bb",
            "7c9e40dc77254f3d8f0a94828c57d2c7",
            "de43be8cc39e42428cd3496d178ead46",
            "6132afd2aa964e9f93f878afbe0e335d",
            "4f885499994f4cb6b3c8fb976eec345d",
            "ef453ce7a5584f5299b8625c67575beb"
          ]
        },
        "id": "f2M-qoTd8Hd9",
        "outputId": "518b860e-c535-4379-dfae-4bf8e1a1a973"
      },
      "execution_count": null,
      "outputs": [
        {
          "output_type": "stream",
          "name": "stderr",
          "text": [
            "[nltk_data] Downloading package stopwords to /root/nltk_data...\n",
            "[nltk_data]   Unzipping corpora/stopwords.zip.\n"
          ]
        },
        {
          "output_type": "display_data",
          "data": {
            "text/plain": [
              "Downloading tokenizer.json:   0%|          | 0.00/1.29M [00:00<?, ?B/s]"
            ],
            "application/vnd.jupyter.widget-view+json": {
              "version_major": 2,
              "version_minor": 0,
              "model_id": "5d1649538d344bbdada84f90b48efe5c"
            }
          },
          "metadata": {}
        }
      ]
    },
    {
      "cell_type": "code",
      "source": [
        "from nltk.corpus import stopwords\n",
        "all_stopwords = stopwords.words('english')\n",
        "all_stopwords.append(\" \")\n",
        "stopwords = set(tokenizer2.tokenize(all_stopwords, is_split_into_words =True))\n",
        "stopwords.update(all_stopwords)\n",
        "print(stopwords)"
      ],
      "metadata": {
        "colab": {
          "base_uri": "https://localhost:8080/"
        },
        "id": "dLzGLHIo8IZG",
        "outputId": "09ca39f0-df63-469e-c1cf-ab392ae6603b"
      },
      "execution_count": null,
      "outputs": [
        {
          "output_type": "stream",
          "name": "stdout",
          "text": [
            "{'himself', 'Ġits', 'Ġthat', 'Ġdo', 'o', 'had', 't', 'Ġitself', 'Ġweren', 'mightn', 'Ġas', 'Ġoff', 'Ġbelow', 'who', \"mustn't\", 'Ġyourselves', 'are', 'where', 'Ġonly', 'Ġthem', 'Ġto', 'hadn', 'which', 'and', 'shouldn', 'Ġour', 'Ġover', 'Ġdidn', \"it's\", 'his', 'while', 'Ġuntil', \"'t\", 'wasn', 'only', 'the', 'Ġunder', 'its', \"hasn't\", 'can', 'Ġbe', \"don't\", 'doesn', 'those', 'is', 'Ġtheir', 'Ġthis', 'myself', 'Ġthey', 'Ġbeen', 'Ġbefore', 'Ġwho', 'Ġout', 'Ġfor', 'ours', 'Ġwere', 'Ġso', 'Ġwhich', 'yours', 'both', 'Ġwill', 'ain', 'Ġdon', 'was', 'Ġit', 'Ġwasn', 'Ġbut', 'other', 'mustn', 'it', 'Ġmight', 'Ġyours', 'should', 'Ġthen', 'Ġown', \"you've\", 'Ġcan', 'there', 'Ġon', 'Ġourselves', 'when', 'Ġi', 'Ġshouldn', 'during', 'they', 'don', 'Ġduring', 'our', 'an', \"hadn't\", 've', 'Ġbecause', 'now', 'been', 'why', 'Ġhimself', 'Ġother', 'having', 'Ġdoing', 'Ġhave', 'Ġdown', 'here', \"didn't\", 'if', 'won', 'ma', 'Ġabove', 'y', 'm', 'my', 'themselves', 'or', 'am', 'Ġat', 'Ġwith', 'Ġmust', 'most', \"isn't\", 'Ġthose', 'Ġwon', 'Ġcouldn', 'Ġno', 'again', 'just', 'Ġeach', 'these', 'shan', \"needn't\", \"should've\", \"'ve\", 'isn', 'Ġyou', 'Ġhaven', 'me', 'Ġfrom', 'll', 'ourselves', 'Ġwhile', 'Ġme', 'Ġhe', 'Ġma', 'before', 'Ġain', \"weren't\", \"she's\", 'same', 'more', 'Ġand', 'to', 'Ġhaving', 'Ġagainst', \"doesn't\", 'Ġours', 'about', 'Ġaren', 'do', 'nor', 'yourselves', 'Ġfew', 'Ġthe', 'needn', 'Ġnot', 'Ġshe', \"haven't\", 'herself', 'Ġmost', 'down', 'between', ' ', 'her', 'yourself', 'Ġwhom', 'Ġmy', 'them', 'such', 'will', 'by', 'Ġhers', 'Ġyourself', 'Ġafter', 'itself', 'Ġneed', 'Ġwouldn', 'Ġjust', 'few', \"wasn't\", 'Ġnor', 'did', 'Ġsh', 'Ġwhere', 'Ġany', 'Ġbeing', 'be', 'with', 'Ġtheirs', 'than', 'Ġwas', 'being', 'Ġan', 'a', 'you', 'hasn', 'Ġd', 'not', 'Ġboth', 'Ġdoes', 'Ġagain', 'then', 'Ġsome', 'at', \"mightn't\", 'how', \"aren't\", 'Ġa', 'Ġby', 'Ġmore', 'for', 'he', 'your', 'Ġonce', 'Ġthere', 'through', 'Ġhim', \"'ll\", 're', 'Ġtoo', 'Ġfurther', 'd', 'Ġdoesn', 'but', \"'s\", 's', 'Ġdid', 'Ġhow', 'Ġnow', 'of', 'in', 'very', \"shouldn't\", 'Ġof', 'so', 'all', 'Ġwhat', 'Ġhad', 'Ġhis', 'Ġmyself', 'as', 'below', 'Ġ', 'n', 'because', 'Ġwhen', 'Ġre', 'Ġherself', 'Ġthrough', 'Ġabout', 'Ġo', 'Ġsuch', 'Ġis', 'wouldn', 'from', 'Ġthese', 'Ġy', 'Ġs', \"shan't\", 'theirs', 'up', 'we', 'Ġhas', 'off', 'i', 'has', 'once', \"you're\", 'against', 'Ġhasn', 'she', 'further', 'over', 'Ġup', 'Ġll', 'their', 'Ġwhy', 'didn', 'were', 'couldn', 'Ġin', \"that'll\", 'Ġam', 'Ġsame', 'haven', 'Ġbetween', \"'re\", \"wouldn't\", 'Ġvery', 'above', 'Ġare', 'Ġinto', 'Ġve', 'Ġher', \"'d\", \"you'd\", 'no', 'Ġt', 'whom', \"you'll\", 'Ġshould', 'Ġall', 'aren', 'own', \"won't\", 'does', 'Ġthan', 'weren', 'Ġisn', 'him', 'after', 'until', 'under', 'that', 'Ġor', 'Ġm', 'hers', 'Ġthemselves', 'Ġif', 'each', 'doing', 'some', 'too', 'Ġhadn', 'on', 'out', 'any', 'what', 'Ġhere', 'Ġyour', 'have', 'Ġwe', 'into', \"couldn't\", 'this'}\n"
          ]
        }
      ]
    },
    {
      "cell_type": "markdown",
      "source": [
        "The following block of code iterates through the entire dataset in the same manner as the above version, grabs the appropriate attributions and attentions from their respective dictionaries, and computes the cosine similarities, kendall tau coefficients, and the RBO. The output is a dataframe containing the computed similarities. The difference is that this block of code masks the values of tokens that are non-alpha (e.g. \".,][?1-9\") and in our set of stopwords before calculating similarities.\n",
        "\n",
        "More information about the similarities can be found [here](https://colab.research.google.com/drive/14a1tOimrRbLlXd0rbtY-UTcizR5GDd4F#scrollTo=gB7w8fsMHFT2)"
      ],
      "metadata": {
        "id": "HYT4iQynt6-m"
      }
    },
    {
      "cell_type": "code",
      "source": [
        "def get_sim_dataframe_alpha(cogs402_ds, all_attentions, all_attributions):\n",
        "\n",
        "  dataframe = []\n",
        "\n",
        "  for i in tqdm(range(len(cogs402_ds))):\n",
        "    exam_attrib = all_attributions[str(i)]\n",
        "    attention_final_layer = all_attentions[str(i)]\n",
        "    \n",
        "    exam_attrib = exam_attrib[:len(all_attentions[str(i)])]\n",
        "\n",
        "    #input_ids\n",
        "    text = cogs402_ds['text'][i]\n",
        "    input_ids, _, sep_id = construct_input_ref_pair(text, ref_token_id, sep_token_id, cls_token_id)\n",
        "    indices = input_ids[0].detach().tolist()\n",
        "    all_tokens_curr = tokenizer.convert_ids_to_tokens(indices)\n",
        "\n",
        "    exam_tokens = all_tokens_curr\n",
        "    alpha_numeric_nums = [idx for idx, element in enumerate(exam_tokens) if element.isalpha() if element not in stopwords]\n",
        "    mask = np.ones(attention_final_layer.shape,dtype=bool) \n",
        "    mask[alpha_numeric_nums] = False\n",
        "\n",
        "    #raw attributions\n",
        "    cosine_raw = np.dot(exam_attrib, attention_final_layer) / (norm(exam_attrib)*norm(attention_final_layer))\n",
        "\n",
        "    #normalized attributions\n",
        "    attention_final_layer2 = normalize(attention_final_layer)\n",
        "\n",
        "    exam_attrib2 = np.abs(exam_attrib)\n",
        "    exam_attrib2 = normalize(exam_attrib2)\n",
        "    \n",
        "    attention_final_layer2[mask] = 0\n",
        "    exam_attrib2[mask] = 0\n",
        "\n",
        "    cosine = np.dot(exam_attrib2, attention_final_layer2) / (norm(exam_attrib2)*norm(attention_final_layer2))\n",
        "\n",
        "    #sim for attributions and attentions above the median\n",
        "    exam_attrib3 = exam_attrib2\n",
        "    median_exam = np.percentile(exam_attrib3, 50)\n",
        "    exam_attrib3[exam_attrib3 < median_exam] = 0\n",
        "\n",
        "    attention_final_layer3 = attention_final_layer2\n",
        "    median_12 = np.percentile(attention_final_layer3, 50)\n",
        "    attention_final_layer3[attention_final_layer3 < median_12] = 0\n",
        "\n",
        "    cosine_med = np.dot(exam_attrib3, attention_final_layer3) / (norm(exam_attrib3)*norm(attention_final_layer3))\n",
        "\n",
        "    #sim for attributions and attentions above the mean\n",
        "    exam_attrib4 = exam_attrib2\n",
        "    mean_exam = np.mean(exam_attrib4)\n",
        "    exam_attrib4[exam_attrib4 < mean_exam] = 0\n",
        "\n",
        "    attention_final_layer4 = attention_final_layer2\n",
        "    mean_12 = np.mean(attention_final_layer4)\n",
        "    attention_final_layer4[attention_final_layer4 < mean_12] = 0\n",
        "    \n",
        "    cosine_mean = np.dot(exam_attrib4, attention_final_layer4) / (norm(exam_attrib4)*norm(attention_final_layer4))\n",
        "\n",
        "    #sim using the ranks of the tokens\n",
        "    exam_attrib_rank = exam_attrib2\n",
        "    order_attrib = exam_attrib_rank.argsort()[::-1]\n",
        "    ranks_attrib = order_attrib.argsort()\n",
        "\n",
        "    attention_final_layer_rank = attention_final_layer2\n",
        "    order = attention_final_layer_rank.argsort()[::-1]\n",
        "    ranks = order.argsort()\n",
        "\n",
        "    \n",
        "    cosine_rank = np.dot(ranks_attrib, ranks) / (norm(ranks_attrib)*norm(ranks))\n",
        "\n",
        "    tau, p_value = stats.kendalltau(ranks_attrib, ranks)\n",
        "\n",
        "    rbo_sim = rbo.RankingSimilarity(order_attrib, order).rbo()\n",
        "\n",
        "    d = {'example': i, 'similarity normalized': cosine, 'similarity raw': cosine_raw, 'sim_norm w/ median threshold':cosine_med, 'sim_norm w/ mean threshold':cosine_mean, \"sim w/ ranks\":cosine_rank,\n",
        "        \"kendalltau\": tau, \"rbo\":rbo_sim}\n",
        "    dataframe.append(d)\n",
        "\n",
        "  return pd.DataFrame(dataframe)"
      ],
      "metadata": {
        "id": "sXoj61dc6sQ0"
      },
      "execution_count": null,
      "outputs": []
    },
    {
      "cell_type": "markdown",
      "source": [
        "Apply the above function for our two cases, upper layers, and lower layers."
      ],
      "metadata": {
        "id": "52VIfl7DJuMi"
      }
    },
    {
      "cell_type": "code",
      "source": [
        "df_alpha = get_sim_dataframe_alpha(cogs402_ds, all_attentions_final, all_attributions)"
      ],
      "metadata": {
        "id": "AC49DcgfH-6L",
        "colab": {
          "base_uri": "https://localhost:8080/"
        },
        "outputId": "face6723-537f-4fca-c7ad-83da00ed6e00"
      },
      "execution_count": null,
      "outputs": [
        {
          "output_type": "stream",
          "name": "stderr",
          "text": [
            "100%|██████████| 1070/1070 [03:15<00:00,  5.47it/s]\n"
          ]
        }
      ]
    },
    {
      "cell_type": "code",
      "source": [
        "df_alpha2 = get_sim_dataframe_alpha(cogs402_ds, all_attentions_all, all_attributions)"
      ],
      "metadata": {
        "colab": {
          "base_uri": "https://localhost:8080/"
        },
        "id": "Q0WW-X0dofyb",
        "outputId": "1bd5cba1-b441-4677-b11f-9d052167e64f"
      },
      "execution_count": null,
      "outputs": [
        {
          "output_type": "stream",
          "name": "stderr",
          "text": [
            "100%|██████████| 1070/1070 [03:06<00:00,  5.75it/s]\n"
          ]
        }
      ]
    },
    {
      "cell_type": "code",
      "source": [
        "df_alpha.mean()"
      ],
      "metadata": {
        "id": "2lNm1B5FJIbn",
        "colab": {
          "base_uri": "https://localhost:8080/"
        },
        "outputId": "a7cf3775-ebd4-47c8-d7df-356e576100a3"
      },
      "execution_count": null,
      "outputs": [
        {
          "output_type": "execute_result",
          "data": {
            "text/plain": [
              "example                         534.500000\n",
              "similarity normalized             0.411660\n",
              "similarity raw                    0.032436\n",
              "sim_norm w/ median threshold      0.410518\n",
              "sim_norm w/ mean threshold        0.385370\n",
              "sim w/ ranks                      0.886604\n",
              "kendalltau                        0.460228\n",
              "rbo                               0.703506\n",
              "dtype: float64"
            ]
          },
          "metadata": {},
          "execution_count": 50
        }
      ]
    },
    {
      "cell_type": "markdown",
      "source": [
        "Similar to the previous time we saved our results to a dictionary, but this time we change alnum_only to True because df_alpha masks all the non-alphanumeric tokens."
      ],
      "metadata": {
        "id": "QG_6e4jUaZqI"
      }
    },
    {
      "cell_type": "code",
      "source": [
        "d_alpha = {'example': \"attrib_vs_layer12_attn\", 'mean_cosine_sim': df_alpha.mean()[\"similarity normalized\"].round(6), \"mean_cosine_sim_ranks\":df_alpha.mean()[\"sim w/ ranks\"].round(6),\n",
        "        \"mean_kendall_tau\": df_alpha.mean()[\"kendalltau\"].round(6), \"mean_RBO\":df_alpha.mean()[\"rbo\"].round(6), \"scaled\":True, \"alnum_only\":True}\n",
        "result_dataframe.append(d_alpha)"
      ],
      "metadata": {
        "id": "DYVy_3HlPTek"
      },
      "execution_count": null,
      "outputs": []
    },
    {
      "cell_type": "code",
      "source": [
        "df_alpha2.mean()"
      ],
      "metadata": {
        "colab": {
          "base_uri": "https://localhost:8080/"
        },
        "id": "u4akOqvPZdoa",
        "outputId": "e5a3acec-2586-435a-9f3b-1fbe97e4ab2d"
      },
      "execution_count": null,
      "outputs": [
        {
          "output_type": "execute_result",
          "data": {
            "text/plain": [
              "example                         534.500000\n",
              "similarity normalized             0.296249\n",
              "similarity raw                    0.016374\n",
              "sim_norm w/ median threshold      0.295268\n",
              "sim_norm w/ mean threshold        0.277793\n",
              "sim w/ ranks                      0.867774\n",
              "kendalltau                        0.386533\n",
              "rbo                               0.671197\n",
              "dtype: float64"
            ]
          },
          "metadata": {},
          "execution_count": 52
        }
      ]
    },
    {
      "cell_type": "markdown",
      "source": [
        "The same principle for d_alpha is applied here for the upper layers."
      ],
      "metadata": {
        "id": "RjUz53bqajFb"
      }
    },
    {
      "cell_type": "code",
      "source": [
        "d_alpha2 = {'example': \"attrib_vs_all_layer_attn\", 'mean_cosine_sim': df_alpha2.mean()[\"similarity normalized\"].round(6), \"mean_cosine_sim_ranks\":df_alpha2.mean()[\"sim w/ ranks\"].round(6),\n",
        "        \"mean_kendall_tau\": df_alpha2.mean()[\"kendalltau\"].round(6), \"mean_RBO\":df_alpha2.mean()[\"rbo\"].round(6), \"scaled\":True, \"alnum_only\":True}\n",
        "result_dataframe.append(d_alpha2)"
      ],
      "metadata": {
        "id": "XBikudz4Pd3o"
      },
      "execution_count": null,
      "outputs": []
    },
    {
      "cell_type": "markdown",
      "source": [
        "## Unscaled Versions"
      ],
      "metadata": {
        "id": "in_N4CznKzZF"
      }
    },
    {
      "cell_type": "markdown",
      "source": [
        "These two dictionaries store the unscaled summed attentions for layer 12 and all layers respectively. You can change the name and the path to suit your project."
      ],
      "metadata": {
        "id": "fMrIo9ophBUt"
      }
    },
    {
      "cell_type": "code",
      "source": [
        "all_attentions_unscale_12 = torch.load('/content/drive/MyDrive/cogs402longformer/results/papers/full_attention_matrices/example_atten_dict_12_unscale.pt')\n",
        "all_attentions_unscale_all = torch.load('/content/drive/MyDrive/cogs402longformer/results/papers/full_attention_matrices/example_atten_dict_all_unscale.pt')"
      ],
      "metadata": {
        "id": "uruAVE0XhNOk"
      },
      "execution_count": null,
      "outputs": []
    },
    {
      "cell_type": "markdown",
      "source": [
        "These two dictionaries store the unscaled summed attentions for the layers 1-6 and 7-12 respectively. You can change the name and the path to suit your project"
      ],
      "metadata": {
        "id": "Wrri3dZoajIh"
      }
    },
    {
      "cell_type": "code",
      "source": [
        "all_attentions_unscale_lower = torch.load('/content/drive/MyDrive/cogs402longformer/results/papers/full_attention_matrices/example_atten_dict_lower_unscale.pt')\n",
        "all_attentions_unscale_upper = torch.load('/content/drive/MyDrive/cogs402longformer/results/papers/full_attention_matrices/example_atten_dict_upper_unscale.pt')"
      ],
      "metadata": {
        "id": "4lAQkA7wk27O"
      },
      "execution_count": null,
      "outputs": []
    },
    {
      "cell_type": "markdown",
      "source": [
        "The following block of code sums the attention in the same manner as the above [version](https://colab.research.google.com/drive/1-FZYN7yBm2jVsZds8Q4lydasdxJRe9zk#scrollTo=ZWeFQNW8MmJL&line=1&uniqifier=1), producing arrays of attention with shape (seq_len) and storing it in a dictionary.\n",
        "\n",
        "Feel free to skip this block of code if you have already imported your attentions."
      ],
      "metadata": {
        "id": "HO3nWkS1u71q"
      }
    },
    {
      "cell_type": "code",
      "source": [
        "# all_attentions_unscale_lower = {}\n",
        "# all_attentions_unscale_upper = {}\n",
        "# for i in tqdm(range(len(cogs402_ds))):\n",
        "#   if str(i) not in all_attentions_unscale_lower and str(i) not in all_attentions_unscale_upper:\n",
        "\n",
        "#     att_mat = all_attentions[str(i)]\n",
        "\n",
        "#     att_mat_low = att_mat[0:6]\n",
        "#     att_mat_up = att_mat[6:]\n",
        "\n",
        "#     # Sum the attentions for the last layer and over all layers\n",
        "#     attention_lower_layer = att_mat_low.sum(axis=1)\n",
        "#     attention_lower_layer = attention_lower_layer.sum(axis=0)\n",
        "#     all_attentions_unscale_lower[str(i)] = attention_lower_layer\n",
        "\n",
        "#     attention_upper_layer = att_mat_up.sum(axis=1)\n",
        "#     attention_upper_layer = attention_upper_layer.sum(axis=0)\n",
        "#     all_attentions_unscale_upper[str(i)] = attention_upper_layer\n",
        "\n",
        "#     #template for single layer\n",
        "#     # attention_single_layer = att_mat[layer].sum(axis=0)\n",
        "#     # all_attentions_layer[str(i)] = attention_single_layer\n",
        "    \n",
        "#     torch.save(all_attentions_unscale_lower, '/content/drive/MyDrive/cogs402longformer/results/papers/papers_attributions/full_attention_matrices/example_atten_dict_lower_unscale.pt')\n",
        "#     torch.save(all_attentions_unscale_upper, '/content/drive/MyDrive/cogs402longformer/results/papers/papers_attributions/full_attention_matrices/example_atten_dict_upper_unscale.pt')"
      ],
      "metadata": {
        "id": "nMpNSHvMZpy0"
      },
      "execution_count": null,
      "outputs": []
    },
    {
      "cell_type": "markdown",
      "source": [
        "We use the same functions we create previously [above](https://colab.research.google.com/drive/1-FZYN7yBm2jVsZds8Q4lydasdxJRe9zk#scrollTo=dmKF8EBP2Nqz&line=11&uniqifier=1) to get dataframes which we can use to get the mean or the max."
      ],
      "metadata": {
        "id": "Ntic7Vv4MTHY"
      }
    },
    {
      "cell_type": "code",
      "source": [
        "df_unscale = get_sim_dataframe(cogs402_ds, all_attentions_unscale_12, all_attributions)\n",
        "df_unscale2 = get_sim_dataframe(cogs402_ds, all_attentions_unscale_all, all_attributions)"
      ],
      "metadata": {
        "colab": {
          "base_uri": "https://localhost:8080/"
        },
        "id": "Zzxb8qDXkt-S",
        "outputId": "f394acce-f998-405a-be10-931c2fb8d6ca"
      },
      "execution_count": null,
      "outputs": [
        {
          "output_type": "stream",
          "name": "stderr",
          "text": [
            "100%|██████████| 1070/1070 [00:05<00:00, 188.80it/s]\n",
            "100%|██████████| 1070/1070 [00:05<00:00, 189.70it/s]\n"
          ]
        }
      ]
    },
    {
      "cell_type": "code",
      "source": [
        "df_unscale.mean()"
      ],
      "metadata": {
        "colab": {
          "base_uri": "https://localhost:8080/"
        },
        "id": "5R6CNQz5npSQ",
        "outputId": "4a2772f2-627a-436b-da82-7481bdf14696"
      },
      "execution_count": null,
      "outputs": [
        {
          "output_type": "execute_result",
          "data": {
            "text/plain": [
              "example                         534.500000\n",
              "similarity normalized             0.258871\n",
              "similarity raw                    0.047194\n",
              "sim_norm w/ median threshold      0.249446\n",
              "sim_norm w/ mean threshold        0.232269\n",
              "sim w/ ranks                      0.800409\n",
              "kendalltau                        0.136687\n",
              "rbo                               0.583438\n",
              "dtype: float64"
            ]
          },
          "metadata": {},
          "execution_count": 57
        }
      ]
    },
    {
      "cell_type": "markdown",
      "source": [
        "We set the value of scaled to False and alnum to False given that we did not scale the attentions when getting the similarities in df_unscale nor did we mask the non-alphanumeric tokens."
      ],
      "metadata": {
        "id": "64cIeyEzapTs"
      }
    },
    {
      "cell_type": "code",
      "source": [
        "d_unscale = {'example': \"attrib_vs_layer12_attn\", 'mean_cosine_sim': df_unscale.mean()[\"similarity normalized\"].round(6), \"mean_cosine_sim_ranks\":df_unscale.mean()[\"sim w/ ranks\"].round(6),\n",
        "        \"mean_kendall_tau\": df_unscale.mean()[\"kendalltau\"].round(6), \"mean_RBO\":df_unscale.mean()[\"rbo\"].round(6), \"scaled\":False, \"alnum_only\":False}\n",
        "result_dataframe.append(d_unscale)"
      ],
      "metadata": {
        "id": "SeiwUePGPjnL"
      },
      "execution_count": null,
      "outputs": []
    },
    {
      "cell_type": "markdown",
      "source": [
        "The same principle for d_unscale is applied here, but for the other example (in our case the upper layers)."
      ],
      "metadata": {
        "id": "KM9CvxinbLXU"
      }
    },
    {
      "cell_type": "code",
      "source": [
        "df_unscale2.mean()"
      ],
      "metadata": {
        "colab": {
          "base_uri": "https://localhost:8080/"
        },
        "id": "yJKEhyEonuNI",
        "outputId": "3473e8d2-3deb-4f52-a7e4-10528d6d0fca"
      },
      "execution_count": null,
      "outputs": [
        {
          "output_type": "execute_result",
          "data": {
            "text/plain": [
              "example                         534.500000\n",
              "similarity normalized             0.170112\n",
              "similarity raw                    0.018976\n",
              "sim_norm w/ median threshold      0.164659\n",
              "sim_norm w/ mean threshold        0.150787\n",
              "sim w/ ranks                      0.785385\n",
              "kendalltau                        0.095471\n",
              "rbo                               0.569974\n",
              "dtype: float64"
            ]
          },
          "metadata": {},
          "execution_count": 59
        }
      ]
    },
    {
      "cell_type": "code",
      "source": [
        "d_unscale2 = {'example': \"attrib_vs_all_layer_attn\", 'mean_cosine_sim': df_unscale2.mean()[\"similarity normalized\"].round(6), \"mean_cosine_sim_ranks\":df_unscale2.mean()[\"sim w/ ranks\"].round(6),\n",
        "        \"mean_kendall_tau\": df_unscale2.mean()[\"kendalltau\"].round(6), \"mean_RBO\":df_unscale2.mean()[\"rbo\"].round(6), \"scaled\":False, \"alnum_only\":False}\n",
        "result_dataframe.append(d_unscale2)"
      ],
      "metadata": {
        "id": "GeHomiB0PrFd"
      },
      "execution_count": null,
      "outputs": []
    },
    {
      "cell_type": "markdown",
      "source": [
        "### Alphanumeric Tokens only"
      ],
      "metadata": {
        "id": "o67UKUOvMrxs"
      }
    },
    {
      "cell_type": "markdown",
      "source": [
        "We use the function we created earlier [above] in order to get the dataframe with our similarities using alphanumeric inputs only."
      ],
      "metadata": {
        "id": "zL8GKBCEMxU9"
      }
    },
    {
      "cell_type": "code",
      "source": [
        "df_unscale_alpha = get_sim_dataframe_alpha(cogs402_ds, all_attentions_unscale_12, all_attributions)"
      ],
      "metadata": {
        "colab": {
          "base_uri": "https://localhost:8080/"
        },
        "id": "9kTlwzd1sve4",
        "outputId": "e11c494f-9a6b-40f6-f570-823b1f1ef151"
      },
      "execution_count": null,
      "outputs": [
        {
          "output_type": "stream",
          "name": "stderr",
          "text": [
            "100%|██████████| 1070/1070 [03:06<00:00,  5.75it/s]\n"
          ]
        }
      ]
    },
    {
      "cell_type": "code",
      "source": [
        "df_unscale_alpha2 = get_sim_dataframe_alpha(cogs402_ds, all_attentions_unscale_all, all_attributions)"
      ],
      "metadata": {
        "colab": {
          "base_uri": "https://localhost:8080/"
        },
        "id": "VCqPMGqgs4Cg",
        "outputId": "4f752b31-7981-4f9a-f853-482ad3a7237c"
      },
      "execution_count": null,
      "outputs": [
        {
          "output_type": "stream",
          "name": "stderr",
          "text": [
            "100%|██████████| 1070/1070 [03:05<00:00,  5.76it/s]\n"
          ]
        }
      ]
    },
    {
      "cell_type": "code",
      "source": [
        "df_unscale_alpha.mean()"
      ],
      "metadata": {
        "colab": {
          "base_uri": "https://localhost:8080/"
        },
        "id": "aAXTz9nkt0xu",
        "outputId": "87e9c030-755f-4824-8b78-0027ff07366a"
      },
      "execution_count": null,
      "outputs": [
        {
          "output_type": "execute_result",
          "data": {
            "text/plain": [
              "example                         534.500000\n",
              "similarity normalized             0.426779\n",
              "similarity raw                    0.047194\n",
              "sim_norm w/ median threshold      0.424921\n",
              "sim_norm w/ mean threshold        0.396696\n",
              "sim w/ ranks                      0.871994\n",
              "kendalltau                        0.399045\n",
              "rbo                               0.679746\n",
              "dtype: float64"
            ]
          },
          "metadata": {},
          "execution_count": 63
        }
      ]
    },
    {
      "cell_type": "markdown",
      "source": [
        "Here we are both leaving the attentions unscaled and masking all the non_alphanumeric tokens, so we appropriately set scaled to False and \"alnum_only\" to True."
      ],
      "metadata": {
        "id": "2ge0lExJbQag"
      }
    },
    {
      "cell_type": "code",
      "source": [
        "d_unscale_alpha = {'example': \"attrib_vs_layer12_attn\", 'mean_cosine_sim': df_unscale_alpha.mean()[\"similarity normalized\"].round(6), \"mean_cosine_sim_ranks\":df_unscale_alpha.mean()[\"sim w/ ranks\"].round(6),\n",
        "        \"mean_kendall_tau\": df_unscale_alpha.mean()[\"kendalltau\"].round(6), \"mean_RBO\":df_unscale_alpha.mean()[\"rbo\"].round(6), \"scaled\":False, \"alnum_only\":True}\n",
        "result_dataframe.append(d_unscale_alpha)"
      ],
      "metadata": {
        "id": "rJwffxvuQKtc"
      },
      "execution_count": null,
      "outputs": []
    },
    {
      "cell_type": "markdown",
      "source": [
        "The same principle for d_unscale is applied here, but for the other example (in our case the upper layers)."
      ],
      "metadata": {
        "id": "dhTLMBuNM-uz"
      }
    },
    {
      "cell_type": "code",
      "source": [
        "df_unscale_alpha2.mean()"
      ],
      "metadata": {
        "colab": {
          "base_uri": "https://localhost:8080/"
        },
        "id": "KYP_JvItt3eL",
        "outputId": "ecd5ba9c-7c70-4240-dad3-217cb710ad0e"
      },
      "execution_count": null,
      "outputs": [
        {
          "output_type": "execute_result",
          "data": {
            "text/plain": [
              "example                         534.500000\n",
              "similarity normalized             0.213211\n",
              "similarity raw                    0.018976\n",
              "sim_norm w/ median threshold      0.211982\n",
              "sim_norm w/ mean threshold        0.197677\n",
              "sim w/ ranks                      0.859785\n",
              "kendalltau                        0.348101\n",
              "rbo                               0.660166\n",
              "dtype: float64"
            ]
          },
          "metadata": {},
          "execution_count": 65
        }
      ]
    },
    {
      "cell_type": "code",
      "source": [
        "d_unscale_alpha2 = {'example': \"attrib_vs_all_layer_attn\", 'mean_cosine_sim': df_unscale_alpha2.mean()[\"similarity normalized\"].round(6), \n",
        "                    \"mean_cosine_sim_ranks\":df_unscale_alpha2.mean()[\"sim w/ ranks\"].round(6),\n",
        "                    \"mean_kendall_tau\": df_unscale_alpha2.mean()[\"kendalltau\"].round(6), \n",
        "                    \"mean_RBO\":df_unscale_alpha2.mean()[\"rbo\"].round(6), \"scaled\":False, \"alnum_only\":True}\n",
        "result_dataframe.append(d_unscale_alpha2)"
      ],
      "metadata": {
        "id": "2hN3281WPyO8"
      },
      "execution_count": null,
      "outputs": []
    },
    {
      "cell_type": "markdown",
      "source": [
        "## Saving the End Results"
      ],
      "metadata": {
        "id": "SMvfB3aRZtl_"
      }
    },
    {
      "cell_type": "markdown",
      "source": [
        "Finally, we can combine our results into a single dataframe to store our data and be able to easily access our results. We sort our examples by name and whether or not they are scaled to keep it as organized as possible."
      ],
      "metadata": {
        "id": "QPQE-Sf4Qu2C"
      }
    },
    {
      "cell_type": "code",
      "source": [
        "df_new = pd.DataFrame(result_dataframe)\n",
        "df_new = df_new.sort_values(['example', 'scaled'],\n",
        "              ascending = [True, True])\n",
        "df_new"
      ],
      "metadata": {
        "colab": {
          "base_uri": "https://localhost:8080/",
          "height": 300
        },
        "id": "1WCxYo_uJ94H",
        "outputId": "26d132cd-77f9-431d-88ac-c7741541c3fe"
      },
      "execution_count": null,
      "outputs": [
        {
          "output_type": "execute_result",
          "data": {
            "text/plain": [
              "                    example  mean_cosine_sim  mean_cosine_sim_ranks  \\\n",
              "5  attrib_vs_all_layer_attn         0.170112               0.785385   \n",
              "7  attrib_vs_all_layer_attn         0.213211               0.859785   \n",
              "1  attrib_vs_all_layer_attn         0.120074               0.784797   \n",
              "3  attrib_vs_all_layer_attn         0.296249               0.867774   \n",
              "4    attrib_vs_layer12_attn         0.258871               0.800409   \n",
              "6    attrib_vs_layer12_attn         0.426779               0.871994   \n",
              "0    attrib_vs_layer12_attn         0.227269               0.804217   \n",
              "2    attrib_vs_layer12_attn         0.411660               0.886604   \n",
              "\n",
              "   mean_kendall_tau  mean_RBO  scaled  alnum_only  \n",
              "5          0.095471  0.569974   False       False  \n",
              "7          0.348101  0.660166   False        True  \n",
              "1          0.094067  0.568291    True       False  \n",
              "3          0.386533  0.671197    True        True  \n",
              "4          0.136687  0.583438   False       False  \n",
              "6          0.399045  0.679746   False        True  \n",
              "0          0.147128  0.587605    True       False  \n",
              "2          0.460228  0.703506    True        True  "
            ],
            "text/html": [
              "\n",
              "  <div id=\"df-2abbf721-e958-4e2b-b071-3295ad9e0aaf\">\n",
              "    <div class=\"colab-df-container\">\n",
              "      <div>\n",
              "<style scoped>\n",
              "    .dataframe tbody tr th:only-of-type {\n",
              "        vertical-align: middle;\n",
              "    }\n",
              "\n",
              "    .dataframe tbody tr th {\n",
              "        vertical-align: top;\n",
              "    }\n",
              "\n",
              "    .dataframe thead th {\n",
              "        text-align: right;\n",
              "    }\n",
              "</style>\n",
              "<table border=\"1\" class=\"dataframe\">\n",
              "  <thead>\n",
              "    <tr style=\"text-align: right;\">\n",
              "      <th></th>\n",
              "      <th>example</th>\n",
              "      <th>mean_cosine_sim</th>\n",
              "      <th>mean_cosine_sim_ranks</th>\n",
              "      <th>mean_kendall_tau</th>\n",
              "      <th>mean_RBO</th>\n",
              "      <th>scaled</th>\n",
              "      <th>alnum_only</th>\n",
              "    </tr>\n",
              "  </thead>\n",
              "  <tbody>\n",
              "    <tr>\n",
              "      <th>5</th>\n",
              "      <td>attrib_vs_all_layer_attn</td>\n",
              "      <td>0.170112</td>\n",
              "      <td>0.785385</td>\n",
              "      <td>0.095471</td>\n",
              "      <td>0.569974</td>\n",
              "      <td>False</td>\n",
              "      <td>False</td>\n",
              "    </tr>\n",
              "    <tr>\n",
              "      <th>7</th>\n",
              "      <td>attrib_vs_all_layer_attn</td>\n",
              "      <td>0.213211</td>\n",
              "      <td>0.859785</td>\n",
              "      <td>0.348101</td>\n",
              "      <td>0.660166</td>\n",
              "      <td>False</td>\n",
              "      <td>True</td>\n",
              "    </tr>\n",
              "    <tr>\n",
              "      <th>1</th>\n",
              "      <td>attrib_vs_all_layer_attn</td>\n",
              "      <td>0.120074</td>\n",
              "      <td>0.784797</td>\n",
              "      <td>0.094067</td>\n",
              "      <td>0.568291</td>\n",
              "      <td>True</td>\n",
              "      <td>False</td>\n",
              "    </tr>\n",
              "    <tr>\n",
              "      <th>3</th>\n",
              "      <td>attrib_vs_all_layer_attn</td>\n",
              "      <td>0.296249</td>\n",
              "      <td>0.867774</td>\n",
              "      <td>0.386533</td>\n",
              "      <td>0.671197</td>\n",
              "      <td>True</td>\n",
              "      <td>True</td>\n",
              "    </tr>\n",
              "    <tr>\n",
              "      <th>4</th>\n",
              "      <td>attrib_vs_layer12_attn</td>\n",
              "      <td>0.258871</td>\n",
              "      <td>0.800409</td>\n",
              "      <td>0.136687</td>\n",
              "      <td>0.583438</td>\n",
              "      <td>False</td>\n",
              "      <td>False</td>\n",
              "    </tr>\n",
              "    <tr>\n",
              "      <th>6</th>\n",
              "      <td>attrib_vs_layer12_attn</td>\n",
              "      <td>0.426779</td>\n",
              "      <td>0.871994</td>\n",
              "      <td>0.399045</td>\n",
              "      <td>0.679746</td>\n",
              "      <td>False</td>\n",
              "      <td>True</td>\n",
              "    </tr>\n",
              "    <tr>\n",
              "      <th>0</th>\n",
              "      <td>attrib_vs_layer12_attn</td>\n",
              "      <td>0.227269</td>\n",
              "      <td>0.804217</td>\n",
              "      <td>0.147128</td>\n",
              "      <td>0.587605</td>\n",
              "      <td>True</td>\n",
              "      <td>False</td>\n",
              "    </tr>\n",
              "    <tr>\n",
              "      <th>2</th>\n",
              "      <td>attrib_vs_layer12_attn</td>\n",
              "      <td>0.411660</td>\n",
              "      <td>0.886604</td>\n",
              "      <td>0.460228</td>\n",
              "      <td>0.703506</td>\n",
              "      <td>True</td>\n",
              "      <td>True</td>\n",
              "    </tr>\n",
              "  </tbody>\n",
              "</table>\n",
              "</div>\n",
              "      <button class=\"colab-df-convert\" onclick=\"convertToInteractive('df-2abbf721-e958-4e2b-b071-3295ad9e0aaf')\"\n",
              "              title=\"Convert this dataframe to an interactive table.\"\n",
              "              style=\"display:none;\">\n",
              "        \n",
              "  <svg xmlns=\"http://www.w3.org/2000/svg\" height=\"24px\"viewBox=\"0 0 24 24\"\n",
              "       width=\"24px\">\n",
              "    <path d=\"M0 0h24v24H0V0z\" fill=\"none\"/>\n",
              "    <path d=\"M18.56 5.44l.94 2.06.94-2.06 2.06-.94-2.06-.94-.94-2.06-.94 2.06-2.06.94zm-11 1L8.5 8.5l.94-2.06 2.06-.94-2.06-.94L8.5 2.5l-.94 2.06-2.06.94zm10 10l.94 2.06.94-2.06 2.06-.94-2.06-.94-.94-2.06-.94 2.06-2.06.94z\"/><path d=\"M17.41 7.96l-1.37-1.37c-.4-.4-.92-.59-1.43-.59-.52 0-1.04.2-1.43.59L10.3 9.45l-7.72 7.72c-.78.78-.78 2.05 0 2.83L4 21.41c.39.39.9.59 1.41.59.51 0 1.02-.2 1.41-.59l7.78-7.78 2.81-2.81c.8-.78.8-2.07 0-2.86zM5.41 20L4 18.59l7.72-7.72 1.47 1.35L5.41 20z\"/>\n",
              "  </svg>\n",
              "      </button>\n",
              "      \n",
              "  <style>\n",
              "    .colab-df-container {\n",
              "      display:flex;\n",
              "      flex-wrap:wrap;\n",
              "      gap: 12px;\n",
              "    }\n",
              "\n",
              "    .colab-df-convert {\n",
              "      background-color: #E8F0FE;\n",
              "      border: none;\n",
              "      border-radius: 50%;\n",
              "      cursor: pointer;\n",
              "      display: none;\n",
              "      fill: #1967D2;\n",
              "      height: 32px;\n",
              "      padding: 0 0 0 0;\n",
              "      width: 32px;\n",
              "    }\n",
              "\n",
              "    .colab-df-convert:hover {\n",
              "      background-color: #E2EBFA;\n",
              "      box-shadow: 0px 1px 2px rgba(60, 64, 67, 0.3), 0px 1px 3px 1px rgba(60, 64, 67, 0.15);\n",
              "      fill: #174EA6;\n",
              "    }\n",
              "\n",
              "    [theme=dark] .colab-df-convert {\n",
              "      background-color: #3B4455;\n",
              "      fill: #D2E3FC;\n",
              "    }\n",
              "\n",
              "    [theme=dark] .colab-df-convert:hover {\n",
              "      background-color: #434B5C;\n",
              "      box-shadow: 0px 1px 3px 1px rgba(0, 0, 0, 0.15);\n",
              "      filter: drop-shadow(0px 1px 2px rgba(0, 0, 0, 0.3));\n",
              "      fill: #FFFFFF;\n",
              "    }\n",
              "  </style>\n",
              "\n",
              "      <script>\n",
              "        const buttonEl =\n",
              "          document.querySelector('#df-2abbf721-e958-4e2b-b071-3295ad9e0aaf button.colab-df-convert');\n",
              "        buttonEl.style.display =\n",
              "          google.colab.kernel.accessAllowed ? 'block' : 'none';\n",
              "\n",
              "        async function convertToInteractive(key) {\n",
              "          const element = document.querySelector('#df-2abbf721-e958-4e2b-b071-3295ad9e0aaf');\n",
              "          const dataTable =\n",
              "            await google.colab.kernel.invokeFunction('convertToInteractive',\n",
              "                                                     [key], {});\n",
              "          if (!dataTable) return;\n",
              "\n",
              "          const docLinkHtml = 'Like what you see? Visit the ' +\n",
              "            '<a target=\"_blank\" href=https://colab.research.google.com/notebooks/data_table.ipynb>data table notebook</a>'\n",
              "            + ' to learn more about interactive tables.';\n",
              "          element.innerHTML = '';\n",
              "          dataTable['output_type'] = 'display_data';\n",
              "          await google.colab.output.renderOutput(dataTable, element);\n",
              "          const docLink = document.createElement('div');\n",
              "          docLink.innerHTML = docLinkHtml;\n",
              "          element.appendChild(docLink);\n",
              "        }\n",
              "      </script>\n",
              "    </div>\n",
              "  </div>\n",
              "  "
            ]
          },
          "metadata": {},
          "execution_count": 67
        }
      ]
    },
    {
      "cell_type": "markdown",
      "source": [
        "If you have a previous version of this dataframe, we can load the csv using pandas and add our new results onto the dataframe by using panda's concatenate function."
      ],
      "metadata": {
        "id": "-EU7Lo80SCNh"
      }
    },
    {
      "cell_type": "code",
      "source": [
        "df_previous = pd.read_csv(\"/content/drive/MyDrive/cogs402longformer/results/papers/attrib_attn_sim/attrib_attn_sim_means.csv\")"
      ],
      "metadata": {
        "id": "DbVFk3Z4Q41Z"
      },
      "execution_count": null,
      "outputs": []
    },
    {
      "cell_type": "code",
      "source": [
        "df_previous"
      ],
      "metadata": {
        "colab": {
          "base_uri": "https://localhost:8080/",
          "height": 551
        },
        "id": "z9Tpp6Evcdwy",
        "outputId": "edaf95ba-705e-42eb-eff9-076caa915624"
      },
      "execution_count": null,
      "outputs": [
        {
          "output_type": "execute_result",
          "data": {
            "text/plain": [
              "                     example  mean_cosine_sim  mean_cosine_sim_ranks  \\\n",
              "0   attrib_vs_all_layer_attn         0.170112               0.785385   \n",
              "1   attrib_vs_all_layer_attn         0.194801               0.817593   \n",
              "2   attrib_vs_all_layer_attn         0.120074               0.784797   \n",
              "3   attrib_vs_all_layer_attn         0.275004               0.831287   \n",
              "4     attrib_vs_layer12_attn         0.258871               0.800409   \n",
              "5     attrib_vs_layer12_attn         0.409346               0.834781   \n",
              "6     attrib_vs_layer12_attn         0.227269               0.804217   \n",
              "7     attrib_vs_layer12_attn         0.399018               0.856377   \n",
              "8       attrib_vs_lower_attn         0.074468               0.773814   \n",
              "9       attrib_vs_lower_attn         0.123476               0.806076   \n",
              "10      attrib_vs_lower_attn         0.102693               0.783805   \n",
              "11      attrib_vs_lower_attn         0.257957               0.828603   \n",
              "12      attrib_vs_upper_attn         0.233382               0.788988   \n",
              "13      attrib_vs_upper_attn         0.421118               0.822304   \n",
              "14      attrib_vs_upper_attn         0.304992               0.785140   \n",
              "15      attrib_vs_upper_attn         0.412499               0.859177   \n",
              "\n",
              "    mean_kendall_tau  mean_RBO  scaled  alnum_only  \n",
              "0           0.095471  0.569974   False       False  \n",
              "1           0.201592  0.602087   False        True  \n",
              "2           0.094067  0.568291    True       False  \n",
              "3           0.254399  0.617796    True        True  \n",
              "4           0.136687  0.583438   False       False  \n",
              "5           0.262536  0.623270   False        True  \n",
              "6           0.147128  0.587605    True       False  \n",
              "7           0.343450  0.652871    True        True  \n",
              "8           0.064130  0.548809   False       False  \n",
              "9           0.166703  0.577195   False        True  \n",
              "10          0.091368  0.566388    True       False  \n",
              "11          0.245163  0.612870    True        True  \n",
              "12          0.105241  0.576839   False       False  \n",
              "13          0.217510  0.610545   False        True  \n",
              "14          0.094838  0.571872    True       False  \n",
              "15          0.356239  0.660735    True        True  "
            ],
            "text/html": [
              "\n",
              "  <div id=\"df-3a4fcf49-b74a-46fe-9552-83b9bcc75d6a\">\n",
              "    <div class=\"colab-df-container\">\n",
              "      <div>\n",
              "<style scoped>\n",
              "    .dataframe tbody tr th:only-of-type {\n",
              "        vertical-align: middle;\n",
              "    }\n",
              "\n",
              "    .dataframe tbody tr th {\n",
              "        vertical-align: top;\n",
              "    }\n",
              "\n",
              "    .dataframe thead th {\n",
              "        text-align: right;\n",
              "    }\n",
              "</style>\n",
              "<table border=\"1\" class=\"dataframe\">\n",
              "  <thead>\n",
              "    <tr style=\"text-align: right;\">\n",
              "      <th></th>\n",
              "      <th>example</th>\n",
              "      <th>mean_cosine_sim</th>\n",
              "      <th>mean_cosine_sim_ranks</th>\n",
              "      <th>mean_kendall_tau</th>\n",
              "      <th>mean_RBO</th>\n",
              "      <th>scaled</th>\n",
              "      <th>alnum_only</th>\n",
              "    </tr>\n",
              "  </thead>\n",
              "  <tbody>\n",
              "    <tr>\n",
              "      <th>0</th>\n",
              "      <td>attrib_vs_all_layer_attn</td>\n",
              "      <td>0.170112</td>\n",
              "      <td>0.785385</td>\n",
              "      <td>0.095471</td>\n",
              "      <td>0.569974</td>\n",
              "      <td>False</td>\n",
              "      <td>False</td>\n",
              "    </tr>\n",
              "    <tr>\n",
              "      <th>1</th>\n",
              "      <td>attrib_vs_all_layer_attn</td>\n",
              "      <td>0.194801</td>\n",
              "      <td>0.817593</td>\n",
              "      <td>0.201592</td>\n",
              "      <td>0.602087</td>\n",
              "      <td>False</td>\n",
              "      <td>True</td>\n",
              "    </tr>\n",
              "    <tr>\n",
              "      <th>2</th>\n",
              "      <td>attrib_vs_all_layer_attn</td>\n",
              "      <td>0.120074</td>\n",
              "      <td>0.784797</td>\n",
              "      <td>0.094067</td>\n",
              "      <td>0.568291</td>\n",
              "      <td>True</td>\n",
              "      <td>False</td>\n",
              "    </tr>\n",
              "    <tr>\n",
              "      <th>3</th>\n",
              "      <td>attrib_vs_all_layer_attn</td>\n",
              "      <td>0.275004</td>\n",
              "      <td>0.831287</td>\n",
              "      <td>0.254399</td>\n",
              "      <td>0.617796</td>\n",
              "      <td>True</td>\n",
              "      <td>True</td>\n",
              "    </tr>\n",
              "    <tr>\n",
              "      <th>4</th>\n",
              "      <td>attrib_vs_layer12_attn</td>\n",
              "      <td>0.258871</td>\n",
              "      <td>0.800409</td>\n",
              "      <td>0.136687</td>\n",
              "      <td>0.583438</td>\n",
              "      <td>False</td>\n",
              "      <td>False</td>\n",
              "    </tr>\n",
              "    <tr>\n",
              "      <th>5</th>\n",
              "      <td>attrib_vs_layer12_attn</td>\n",
              "      <td>0.409346</td>\n",
              "      <td>0.834781</td>\n",
              "      <td>0.262536</td>\n",
              "      <td>0.623270</td>\n",
              "      <td>False</td>\n",
              "      <td>True</td>\n",
              "    </tr>\n",
              "    <tr>\n",
              "      <th>6</th>\n",
              "      <td>attrib_vs_layer12_attn</td>\n",
              "      <td>0.227269</td>\n",
              "      <td>0.804217</td>\n",
              "      <td>0.147128</td>\n",
              "      <td>0.587605</td>\n",
              "      <td>True</td>\n",
              "      <td>False</td>\n",
              "    </tr>\n",
              "    <tr>\n",
              "      <th>7</th>\n",
              "      <td>attrib_vs_layer12_attn</td>\n",
              "      <td>0.399018</td>\n",
              "      <td>0.856377</td>\n",
              "      <td>0.343450</td>\n",
              "      <td>0.652871</td>\n",
              "      <td>True</td>\n",
              "      <td>True</td>\n",
              "    </tr>\n",
              "    <tr>\n",
              "      <th>8</th>\n",
              "      <td>attrib_vs_lower_attn</td>\n",
              "      <td>0.074468</td>\n",
              "      <td>0.773814</td>\n",
              "      <td>0.064130</td>\n",
              "      <td>0.548809</td>\n",
              "      <td>False</td>\n",
              "      <td>False</td>\n",
              "    </tr>\n",
              "    <tr>\n",
              "      <th>9</th>\n",
              "      <td>attrib_vs_lower_attn</td>\n",
              "      <td>0.123476</td>\n",
              "      <td>0.806076</td>\n",
              "      <td>0.166703</td>\n",
              "      <td>0.577195</td>\n",
              "      <td>False</td>\n",
              "      <td>True</td>\n",
              "    </tr>\n",
              "    <tr>\n",
              "      <th>10</th>\n",
              "      <td>attrib_vs_lower_attn</td>\n",
              "      <td>0.102693</td>\n",
              "      <td>0.783805</td>\n",
              "      <td>0.091368</td>\n",
              "      <td>0.566388</td>\n",
              "      <td>True</td>\n",
              "      <td>False</td>\n",
              "    </tr>\n",
              "    <tr>\n",
              "      <th>11</th>\n",
              "      <td>attrib_vs_lower_attn</td>\n",
              "      <td>0.257957</td>\n",
              "      <td>0.828603</td>\n",
              "      <td>0.245163</td>\n",
              "      <td>0.612870</td>\n",
              "      <td>True</td>\n",
              "      <td>True</td>\n",
              "    </tr>\n",
              "    <tr>\n",
              "      <th>12</th>\n",
              "      <td>attrib_vs_upper_attn</td>\n",
              "      <td>0.233382</td>\n",
              "      <td>0.788988</td>\n",
              "      <td>0.105241</td>\n",
              "      <td>0.576839</td>\n",
              "      <td>False</td>\n",
              "      <td>False</td>\n",
              "    </tr>\n",
              "    <tr>\n",
              "      <th>13</th>\n",
              "      <td>attrib_vs_upper_attn</td>\n",
              "      <td>0.421118</td>\n",
              "      <td>0.822304</td>\n",
              "      <td>0.217510</td>\n",
              "      <td>0.610545</td>\n",
              "      <td>False</td>\n",
              "      <td>True</td>\n",
              "    </tr>\n",
              "    <tr>\n",
              "      <th>14</th>\n",
              "      <td>attrib_vs_upper_attn</td>\n",
              "      <td>0.304992</td>\n",
              "      <td>0.785140</td>\n",
              "      <td>0.094838</td>\n",
              "      <td>0.571872</td>\n",
              "      <td>True</td>\n",
              "      <td>False</td>\n",
              "    </tr>\n",
              "    <tr>\n",
              "      <th>15</th>\n",
              "      <td>attrib_vs_upper_attn</td>\n",
              "      <td>0.412499</td>\n",
              "      <td>0.859177</td>\n",
              "      <td>0.356239</td>\n",
              "      <td>0.660735</td>\n",
              "      <td>True</td>\n",
              "      <td>True</td>\n",
              "    </tr>\n",
              "  </tbody>\n",
              "</table>\n",
              "</div>\n",
              "      <button class=\"colab-df-convert\" onclick=\"convertToInteractive('df-3a4fcf49-b74a-46fe-9552-83b9bcc75d6a')\"\n",
              "              title=\"Convert this dataframe to an interactive table.\"\n",
              "              style=\"display:none;\">\n",
              "        \n",
              "  <svg xmlns=\"http://www.w3.org/2000/svg\" height=\"24px\"viewBox=\"0 0 24 24\"\n",
              "       width=\"24px\">\n",
              "    <path d=\"M0 0h24v24H0V0z\" fill=\"none\"/>\n",
              "    <path d=\"M18.56 5.44l.94 2.06.94-2.06 2.06-.94-2.06-.94-.94-2.06-.94 2.06-2.06.94zm-11 1L8.5 8.5l.94-2.06 2.06-.94-2.06-.94L8.5 2.5l-.94 2.06-2.06.94zm10 10l.94 2.06.94-2.06 2.06-.94-2.06-.94-.94-2.06-.94 2.06-2.06.94z\"/><path d=\"M17.41 7.96l-1.37-1.37c-.4-.4-.92-.59-1.43-.59-.52 0-1.04.2-1.43.59L10.3 9.45l-7.72 7.72c-.78.78-.78 2.05 0 2.83L4 21.41c.39.39.9.59 1.41.59.51 0 1.02-.2 1.41-.59l7.78-7.78 2.81-2.81c.8-.78.8-2.07 0-2.86zM5.41 20L4 18.59l7.72-7.72 1.47 1.35L5.41 20z\"/>\n",
              "  </svg>\n",
              "      </button>\n",
              "      \n",
              "  <style>\n",
              "    .colab-df-container {\n",
              "      display:flex;\n",
              "      flex-wrap:wrap;\n",
              "      gap: 12px;\n",
              "    }\n",
              "\n",
              "    .colab-df-convert {\n",
              "      background-color: #E8F0FE;\n",
              "      border: none;\n",
              "      border-radius: 50%;\n",
              "      cursor: pointer;\n",
              "      display: none;\n",
              "      fill: #1967D2;\n",
              "      height: 32px;\n",
              "      padding: 0 0 0 0;\n",
              "      width: 32px;\n",
              "    }\n",
              "\n",
              "    .colab-df-convert:hover {\n",
              "      background-color: #E2EBFA;\n",
              "      box-shadow: 0px 1px 2px rgba(60, 64, 67, 0.3), 0px 1px 3px 1px rgba(60, 64, 67, 0.15);\n",
              "      fill: #174EA6;\n",
              "    }\n",
              "\n",
              "    [theme=dark] .colab-df-convert {\n",
              "      background-color: #3B4455;\n",
              "      fill: #D2E3FC;\n",
              "    }\n",
              "\n",
              "    [theme=dark] .colab-df-convert:hover {\n",
              "      background-color: #434B5C;\n",
              "      box-shadow: 0px 1px 3px 1px rgba(0, 0, 0, 0.15);\n",
              "      filter: drop-shadow(0px 1px 2px rgba(0, 0, 0, 0.3));\n",
              "      fill: #FFFFFF;\n",
              "    }\n",
              "  </style>\n",
              "\n",
              "      <script>\n",
              "        const buttonEl =\n",
              "          document.querySelector('#df-3a4fcf49-b74a-46fe-9552-83b9bcc75d6a button.colab-df-convert');\n",
              "        buttonEl.style.display =\n",
              "          google.colab.kernel.accessAllowed ? 'block' : 'none';\n",
              "\n",
              "        async function convertToInteractive(key) {\n",
              "          const element = document.querySelector('#df-3a4fcf49-b74a-46fe-9552-83b9bcc75d6a');\n",
              "          const dataTable =\n",
              "            await google.colab.kernel.invokeFunction('convertToInteractive',\n",
              "                                                     [key], {});\n",
              "          if (!dataTable) return;\n",
              "\n",
              "          const docLinkHtml = 'Like what you see? Visit the ' +\n",
              "            '<a target=\"_blank\" href=https://colab.research.google.com/notebooks/data_table.ipynb>data table notebook</a>'\n",
              "            + ' to learn more about interactive tables.';\n",
              "          element.innerHTML = '';\n",
              "          dataTable['output_type'] = 'display_data';\n",
              "          await google.colab.output.renderOutput(dataTable, element);\n",
              "          const docLink = document.createElement('div');\n",
              "          docLink.innerHTML = docLinkHtml;\n",
              "          element.appendChild(docLink);\n",
              "        }\n",
              "      </script>\n",
              "    </div>\n",
              "  </div>\n",
              "  "
            ]
          },
          "metadata": {},
          "execution_count": 69
        }
      ]
    },
    {
      "cell_type": "code",
      "source": [
        "df_previous.loc[(df_previous[\"alnum_only\"] == True)]"
      ],
      "metadata": {
        "colab": {
          "base_uri": "https://localhost:8080/",
          "height": 300
        },
        "id": "-eVM1aZoFLYI",
        "outputId": "1bd65ff5-2443-4388-ba9b-42c2976d0a62"
      },
      "execution_count": null,
      "outputs": [
        {
          "output_type": "execute_result",
          "data": {
            "text/plain": [
              "                     example  mean_cosine_sim  mean_cosine_sim_ranks  \\\n",
              "1   attrib_vs_all_layer_attn         0.194801               0.817593   \n",
              "3   attrib_vs_all_layer_attn         0.275004               0.831287   \n",
              "5     attrib_vs_layer12_attn         0.409346               0.834781   \n",
              "7     attrib_vs_layer12_attn         0.399018               0.856377   \n",
              "9       attrib_vs_lower_attn         0.123476               0.806076   \n",
              "11      attrib_vs_lower_attn         0.257957               0.828603   \n",
              "13      attrib_vs_upper_attn         0.421118               0.822304   \n",
              "15      attrib_vs_upper_attn         0.412499               0.859177   \n",
              "\n",
              "    mean_kendall_tau  mean_RBO  scaled  alnum_only  \n",
              "1           0.201592  0.602087   False        True  \n",
              "3           0.254399  0.617796    True        True  \n",
              "5           0.262536  0.623270   False        True  \n",
              "7           0.343450  0.652871    True        True  \n",
              "9           0.166703  0.577195   False        True  \n",
              "11          0.245163  0.612870    True        True  \n",
              "13          0.217510  0.610545   False        True  \n",
              "15          0.356239  0.660735    True        True  "
            ],
            "text/html": [
              "\n",
              "  <div id=\"df-54b3e5cf-1ce7-41bf-9003-7e1efa42b859\">\n",
              "    <div class=\"colab-df-container\">\n",
              "      <div>\n",
              "<style scoped>\n",
              "    .dataframe tbody tr th:only-of-type {\n",
              "        vertical-align: middle;\n",
              "    }\n",
              "\n",
              "    .dataframe tbody tr th {\n",
              "        vertical-align: top;\n",
              "    }\n",
              "\n",
              "    .dataframe thead th {\n",
              "        text-align: right;\n",
              "    }\n",
              "</style>\n",
              "<table border=\"1\" class=\"dataframe\">\n",
              "  <thead>\n",
              "    <tr style=\"text-align: right;\">\n",
              "      <th></th>\n",
              "      <th>example</th>\n",
              "      <th>mean_cosine_sim</th>\n",
              "      <th>mean_cosine_sim_ranks</th>\n",
              "      <th>mean_kendall_tau</th>\n",
              "      <th>mean_RBO</th>\n",
              "      <th>scaled</th>\n",
              "      <th>alnum_only</th>\n",
              "    </tr>\n",
              "  </thead>\n",
              "  <tbody>\n",
              "    <tr>\n",
              "      <th>1</th>\n",
              "      <td>attrib_vs_all_layer_attn</td>\n",
              "      <td>0.194801</td>\n",
              "      <td>0.817593</td>\n",
              "      <td>0.201592</td>\n",
              "      <td>0.602087</td>\n",
              "      <td>False</td>\n",
              "      <td>True</td>\n",
              "    </tr>\n",
              "    <tr>\n",
              "      <th>3</th>\n",
              "      <td>attrib_vs_all_layer_attn</td>\n",
              "      <td>0.275004</td>\n",
              "      <td>0.831287</td>\n",
              "      <td>0.254399</td>\n",
              "      <td>0.617796</td>\n",
              "      <td>True</td>\n",
              "      <td>True</td>\n",
              "    </tr>\n",
              "    <tr>\n",
              "      <th>5</th>\n",
              "      <td>attrib_vs_layer12_attn</td>\n",
              "      <td>0.409346</td>\n",
              "      <td>0.834781</td>\n",
              "      <td>0.262536</td>\n",
              "      <td>0.623270</td>\n",
              "      <td>False</td>\n",
              "      <td>True</td>\n",
              "    </tr>\n",
              "    <tr>\n",
              "      <th>7</th>\n",
              "      <td>attrib_vs_layer12_attn</td>\n",
              "      <td>0.399018</td>\n",
              "      <td>0.856377</td>\n",
              "      <td>0.343450</td>\n",
              "      <td>0.652871</td>\n",
              "      <td>True</td>\n",
              "      <td>True</td>\n",
              "    </tr>\n",
              "    <tr>\n",
              "      <th>9</th>\n",
              "      <td>attrib_vs_lower_attn</td>\n",
              "      <td>0.123476</td>\n",
              "      <td>0.806076</td>\n",
              "      <td>0.166703</td>\n",
              "      <td>0.577195</td>\n",
              "      <td>False</td>\n",
              "      <td>True</td>\n",
              "    </tr>\n",
              "    <tr>\n",
              "      <th>11</th>\n",
              "      <td>attrib_vs_lower_attn</td>\n",
              "      <td>0.257957</td>\n",
              "      <td>0.828603</td>\n",
              "      <td>0.245163</td>\n",
              "      <td>0.612870</td>\n",
              "      <td>True</td>\n",
              "      <td>True</td>\n",
              "    </tr>\n",
              "    <tr>\n",
              "      <th>13</th>\n",
              "      <td>attrib_vs_upper_attn</td>\n",
              "      <td>0.421118</td>\n",
              "      <td>0.822304</td>\n",
              "      <td>0.217510</td>\n",
              "      <td>0.610545</td>\n",
              "      <td>False</td>\n",
              "      <td>True</td>\n",
              "    </tr>\n",
              "    <tr>\n",
              "      <th>15</th>\n",
              "      <td>attrib_vs_upper_attn</td>\n",
              "      <td>0.412499</td>\n",
              "      <td>0.859177</td>\n",
              "      <td>0.356239</td>\n",
              "      <td>0.660735</td>\n",
              "      <td>True</td>\n",
              "      <td>True</td>\n",
              "    </tr>\n",
              "  </tbody>\n",
              "</table>\n",
              "</div>\n",
              "      <button class=\"colab-df-convert\" onclick=\"convertToInteractive('df-54b3e5cf-1ce7-41bf-9003-7e1efa42b859')\"\n",
              "              title=\"Convert this dataframe to an interactive table.\"\n",
              "              style=\"display:none;\">\n",
              "        \n",
              "  <svg xmlns=\"http://www.w3.org/2000/svg\" height=\"24px\"viewBox=\"0 0 24 24\"\n",
              "       width=\"24px\">\n",
              "    <path d=\"M0 0h24v24H0V0z\" fill=\"none\"/>\n",
              "    <path d=\"M18.56 5.44l.94 2.06.94-2.06 2.06-.94-2.06-.94-.94-2.06-.94 2.06-2.06.94zm-11 1L8.5 8.5l.94-2.06 2.06-.94-2.06-.94L8.5 2.5l-.94 2.06-2.06.94zm10 10l.94 2.06.94-2.06 2.06-.94-2.06-.94-.94-2.06-.94 2.06-2.06.94z\"/><path d=\"M17.41 7.96l-1.37-1.37c-.4-.4-.92-.59-1.43-.59-.52 0-1.04.2-1.43.59L10.3 9.45l-7.72 7.72c-.78.78-.78 2.05 0 2.83L4 21.41c.39.39.9.59 1.41.59.51 0 1.02-.2 1.41-.59l7.78-7.78 2.81-2.81c.8-.78.8-2.07 0-2.86zM5.41 20L4 18.59l7.72-7.72 1.47 1.35L5.41 20z\"/>\n",
              "  </svg>\n",
              "      </button>\n",
              "      \n",
              "  <style>\n",
              "    .colab-df-container {\n",
              "      display:flex;\n",
              "      flex-wrap:wrap;\n",
              "      gap: 12px;\n",
              "    }\n",
              "\n",
              "    .colab-df-convert {\n",
              "      background-color: #E8F0FE;\n",
              "      border: none;\n",
              "      border-radius: 50%;\n",
              "      cursor: pointer;\n",
              "      display: none;\n",
              "      fill: #1967D2;\n",
              "      height: 32px;\n",
              "      padding: 0 0 0 0;\n",
              "      width: 32px;\n",
              "    }\n",
              "\n",
              "    .colab-df-convert:hover {\n",
              "      background-color: #E2EBFA;\n",
              "      box-shadow: 0px 1px 2px rgba(60, 64, 67, 0.3), 0px 1px 3px 1px rgba(60, 64, 67, 0.15);\n",
              "      fill: #174EA6;\n",
              "    }\n",
              "\n",
              "    [theme=dark] .colab-df-convert {\n",
              "      background-color: #3B4455;\n",
              "      fill: #D2E3FC;\n",
              "    }\n",
              "\n",
              "    [theme=dark] .colab-df-convert:hover {\n",
              "      background-color: #434B5C;\n",
              "      box-shadow: 0px 1px 3px 1px rgba(0, 0, 0, 0.15);\n",
              "      filter: drop-shadow(0px 1px 2px rgba(0, 0, 0, 0.3));\n",
              "      fill: #FFFFFF;\n",
              "    }\n",
              "  </style>\n",
              "\n",
              "      <script>\n",
              "        const buttonEl =\n",
              "          document.querySelector('#df-54b3e5cf-1ce7-41bf-9003-7e1efa42b859 button.colab-df-convert');\n",
              "        buttonEl.style.display =\n",
              "          google.colab.kernel.accessAllowed ? 'block' : 'none';\n",
              "\n",
              "        async function convertToInteractive(key) {\n",
              "          const element = document.querySelector('#df-54b3e5cf-1ce7-41bf-9003-7e1efa42b859');\n",
              "          const dataTable =\n",
              "            await google.colab.kernel.invokeFunction('convertToInteractive',\n",
              "                                                     [key], {});\n",
              "          if (!dataTable) return;\n",
              "\n",
              "          const docLinkHtml = 'Like what you see? Visit the ' +\n",
              "            '<a target=\"_blank\" href=https://colab.research.google.com/notebooks/data_table.ipynb>data table notebook</a>'\n",
              "            + ' to learn more about interactive tables.';\n",
              "          element.innerHTML = '';\n",
              "          dataTable['output_type'] = 'display_data';\n",
              "          await google.colab.output.renderOutput(dataTable, element);\n",
              "          const docLink = document.createElement('div');\n",
              "          docLink.innerHTML = docLinkHtml;\n",
              "          element.appendChild(docLink);\n",
              "        }\n",
              "      </script>\n",
              "    </div>\n",
              "  </div>\n",
              "  "
            ]
          },
          "metadata": {},
          "execution_count": 70
        }
      ]
    },
    {
      "cell_type": "code",
      "source": [
        "df_previous.loc[(df_previous[\"alnum_only\"] == False)]"
      ],
      "metadata": {
        "colab": {
          "base_uri": "https://localhost:8080/",
          "height": 300
        },
        "id": "zI1A0DQLH7e1",
        "outputId": "8c5f9547-2e6d-4694-e7e0-c138a523e247"
      },
      "execution_count": null,
      "outputs": [
        {
          "output_type": "execute_result",
          "data": {
            "text/plain": [
              "                     example  mean_cosine_sim  mean_cosine_sim_ranks  \\\n",
              "0   attrib_vs_all_layer_attn         0.170112               0.785385   \n",
              "2   attrib_vs_all_layer_attn         0.120074               0.784797   \n",
              "4     attrib_vs_layer12_attn         0.258871               0.800409   \n",
              "6     attrib_vs_layer12_attn         0.227269               0.804217   \n",
              "8       attrib_vs_lower_attn         0.074468               0.773814   \n",
              "10      attrib_vs_lower_attn         0.102693               0.783805   \n",
              "12      attrib_vs_upper_attn         0.233382               0.788988   \n",
              "14      attrib_vs_upper_attn         0.304992               0.785140   \n",
              "\n",
              "    mean_kendall_tau  mean_RBO  scaled  alnum_only  \n",
              "0           0.095471  0.569974   False       False  \n",
              "2           0.094067  0.568291    True       False  \n",
              "4           0.136687  0.583438   False       False  \n",
              "6           0.147128  0.587605    True       False  \n",
              "8           0.064130  0.548809   False       False  \n",
              "10          0.091368  0.566388    True       False  \n",
              "12          0.105241  0.576839   False       False  \n",
              "14          0.094838  0.571872    True       False  "
            ],
            "text/html": [
              "\n",
              "  <div id=\"df-96c2b76d-2cd9-4a9f-9ad2-6be984d9ed4f\">\n",
              "    <div class=\"colab-df-container\">\n",
              "      <div>\n",
              "<style scoped>\n",
              "    .dataframe tbody tr th:only-of-type {\n",
              "        vertical-align: middle;\n",
              "    }\n",
              "\n",
              "    .dataframe tbody tr th {\n",
              "        vertical-align: top;\n",
              "    }\n",
              "\n",
              "    .dataframe thead th {\n",
              "        text-align: right;\n",
              "    }\n",
              "</style>\n",
              "<table border=\"1\" class=\"dataframe\">\n",
              "  <thead>\n",
              "    <tr style=\"text-align: right;\">\n",
              "      <th></th>\n",
              "      <th>example</th>\n",
              "      <th>mean_cosine_sim</th>\n",
              "      <th>mean_cosine_sim_ranks</th>\n",
              "      <th>mean_kendall_tau</th>\n",
              "      <th>mean_RBO</th>\n",
              "      <th>scaled</th>\n",
              "      <th>alnum_only</th>\n",
              "    </tr>\n",
              "  </thead>\n",
              "  <tbody>\n",
              "    <tr>\n",
              "      <th>0</th>\n",
              "      <td>attrib_vs_all_layer_attn</td>\n",
              "      <td>0.170112</td>\n",
              "      <td>0.785385</td>\n",
              "      <td>0.095471</td>\n",
              "      <td>0.569974</td>\n",
              "      <td>False</td>\n",
              "      <td>False</td>\n",
              "    </tr>\n",
              "    <tr>\n",
              "      <th>2</th>\n",
              "      <td>attrib_vs_all_layer_attn</td>\n",
              "      <td>0.120074</td>\n",
              "      <td>0.784797</td>\n",
              "      <td>0.094067</td>\n",
              "      <td>0.568291</td>\n",
              "      <td>True</td>\n",
              "      <td>False</td>\n",
              "    </tr>\n",
              "    <tr>\n",
              "      <th>4</th>\n",
              "      <td>attrib_vs_layer12_attn</td>\n",
              "      <td>0.258871</td>\n",
              "      <td>0.800409</td>\n",
              "      <td>0.136687</td>\n",
              "      <td>0.583438</td>\n",
              "      <td>False</td>\n",
              "      <td>False</td>\n",
              "    </tr>\n",
              "    <tr>\n",
              "      <th>6</th>\n",
              "      <td>attrib_vs_layer12_attn</td>\n",
              "      <td>0.227269</td>\n",
              "      <td>0.804217</td>\n",
              "      <td>0.147128</td>\n",
              "      <td>0.587605</td>\n",
              "      <td>True</td>\n",
              "      <td>False</td>\n",
              "    </tr>\n",
              "    <tr>\n",
              "      <th>8</th>\n",
              "      <td>attrib_vs_lower_attn</td>\n",
              "      <td>0.074468</td>\n",
              "      <td>0.773814</td>\n",
              "      <td>0.064130</td>\n",
              "      <td>0.548809</td>\n",
              "      <td>False</td>\n",
              "      <td>False</td>\n",
              "    </tr>\n",
              "    <tr>\n",
              "      <th>10</th>\n",
              "      <td>attrib_vs_lower_attn</td>\n",
              "      <td>0.102693</td>\n",
              "      <td>0.783805</td>\n",
              "      <td>0.091368</td>\n",
              "      <td>0.566388</td>\n",
              "      <td>True</td>\n",
              "      <td>False</td>\n",
              "    </tr>\n",
              "    <tr>\n",
              "      <th>12</th>\n",
              "      <td>attrib_vs_upper_attn</td>\n",
              "      <td>0.233382</td>\n",
              "      <td>0.788988</td>\n",
              "      <td>0.105241</td>\n",
              "      <td>0.576839</td>\n",
              "      <td>False</td>\n",
              "      <td>False</td>\n",
              "    </tr>\n",
              "    <tr>\n",
              "      <th>14</th>\n",
              "      <td>attrib_vs_upper_attn</td>\n",
              "      <td>0.304992</td>\n",
              "      <td>0.785140</td>\n",
              "      <td>0.094838</td>\n",
              "      <td>0.571872</td>\n",
              "      <td>True</td>\n",
              "      <td>False</td>\n",
              "    </tr>\n",
              "  </tbody>\n",
              "</table>\n",
              "</div>\n",
              "      <button class=\"colab-df-convert\" onclick=\"convertToInteractive('df-96c2b76d-2cd9-4a9f-9ad2-6be984d9ed4f')\"\n",
              "              title=\"Convert this dataframe to an interactive table.\"\n",
              "              style=\"display:none;\">\n",
              "        \n",
              "  <svg xmlns=\"http://www.w3.org/2000/svg\" height=\"24px\"viewBox=\"0 0 24 24\"\n",
              "       width=\"24px\">\n",
              "    <path d=\"M0 0h24v24H0V0z\" fill=\"none\"/>\n",
              "    <path d=\"M18.56 5.44l.94 2.06.94-2.06 2.06-.94-2.06-.94-.94-2.06-.94 2.06-2.06.94zm-11 1L8.5 8.5l.94-2.06 2.06-.94-2.06-.94L8.5 2.5l-.94 2.06-2.06.94zm10 10l.94 2.06.94-2.06 2.06-.94-2.06-.94-.94-2.06-.94 2.06-2.06.94z\"/><path d=\"M17.41 7.96l-1.37-1.37c-.4-.4-.92-.59-1.43-.59-.52 0-1.04.2-1.43.59L10.3 9.45l-7.72 7.72c-.78.78-.78 2.05 0 2.83L4 21.41c.39.39.9.59 1.41.59.51 0 1.02-.2 1.41-.59l7.78-7.78 2.81-2.81c.8-.78.8-2.07 0-2.86zM5.41 20L4 18.59l7.72-7.72 1.47 1.35L5.41 20z\"/>\n",
              "  </svg>\n",
              "      </button>\n",
              "      \n",
              "  <style>\n",
              "    .colab-df-container {\n",
              "      display:flex;\n",
              "      flex-wrap:wrap;\n",
              "      gap: 12px;\n",
              "    }\n",
              "\n",
              "    .colab-df-convert {\n",
              "      background-color: #E8F0FE;\n",
              "      border: none;\n",
              "      border-radius: 50%;\n",
              "      cursor: pointer;\n",
              "      display: none;\n",
              "      fill: #1967D2;\n",
              "      height: 32px;\n",
              "      padding: 0 0 0 0;\n",
              "      width: 32px;\n",
              "    }\n",
              "\n",
              "    .colab-df-convert:hover {\n",
              "      background-color: #E2EBFA;\n",
              "      box-shadow: 0px 1px 2px rgba(60, 64, 67, 0.3), 0px 1px 3px 1px rgba(60, 64, 67, 0.15);\n",
              "      fill: #174EA6;\n",
              "    }\n",
              "\n",
              "    [theme=dark] .colab-df-convert {\n",
              "      background-color: #3B4455;\n",
              "      fill: #D2E3FC;\n",
              "    }\n",
              "\n",
              "    [theme=dark] .colab-df-convert:hover {\n",
              "      background-color: #434B5C;\n",
              "      box-shadow: 0px 1px 3px 1px rgba(0, 0, 0, 0.15);\n",
              "      filter: drop-shadow(0px 1px 2px rgba(0, 0, 0, 0.3));\n",
              "      fill: #FFFFFF;\n",
              "    }\n",
              "  </style>\n",
              "\n",
              "      <script>\n",
              "        const buttonEl =\n",
              "          document.querySelector('#df-96c2b76d-2cd9-4a9f-9ad2-6be984d9ed4f button.colab-df-convert');\n",
              "        buttonEl.style.display =\n",
              "          google.colab.kernel.accessAllowed ? 'block' : 'none';\n",
              "\n",
              "        async function convertToInteractive(key) {\n",
              "          const element = document.querySelector('#df-96c2b76d-2cd9-4a9f-9ad2-6be984d9ed4f');\n",
              "          const dataTable =\n",
              "            await google.colab.kernel.invokeFunction('convertToInteractive',\n",
              "                                                     [key], {});\n",
              "          if (!dataTable) return;\n",
              "\n",
              "          const docLinkHtml = 'Like what you see? Visit the ' +\n",
              "            '<a target=\"_blank\" href=https://colab.research.google.com/notebooks/data_table.ipynb>data table notebook</a>'\n",
              "            + ' to learn more about interactive tables.';\n",
              "          element.innerHTML = '';\n",
              "          dataTable['output_type'] = 'display_data';\n",
              "          await google.colab.output.renderOutput(dataTable, element);\n",
              "          const docLink = document.createElement('div');\n",
              "          docLink.innerHTML = docLinkHtml;\n",
              "          element.appendChild(docLink);\n",
              "        }\n",
              "      </script>\n",
              "    </div>\n",
              "  </div>\n",
              "  "
            ]
          },
          "metadata": {},
          "execution_count": 71
        }
      ]
    },
    {
      "cell_type": "markdown",
      "source": [
        "When we concatenate our two dataframes, we want to make sure we don't have any duplicate rows. We consider it a duplicate if two rows have the same example, have the same value for scaled, and the same value for alnum_only. If we find a do find duplicate rows based on the above conditions, the last occuring instance of the row, which is the instance that was obtained earlier in the notebook (and not the instance that was read from file), is kept in the dataframe."
      ],
      "metadata": {
        "id": "vvy8NkJYVeta"
      }
    },
    {
      "cell_type": "code",
      "source": [
        "df_final = pd.concat([df_previous, df_new], ignore_index=True)"
      ],
      "metadata": {
        "id": "tFTC8GOsSdOj"
      },
      "execution_count": null,
      "outputs": []
    },
    {
      "cell_type": "code",
      "source": [
        "df_final = df_final.drop_duplicates(['example', 'scaled', 'alnum_only'], keep='last').sort_values(['example', 'scaled'],\n",
        "              ascending = [True, True])"
      ],
      "metadata": {
        "id": "GXKKUdO3WID4"
      },
      "execution_count": null,
      "outputs": []
    },
    {
      "cell_type": "code",
      "source": [
        "df_final"
      ],
      "metadata": {
        "colab": {
          "base_uri": "https://localhost:8080/",
          "height": 551
        },
        "id": "LKt9BbUsUD-g",
        "outputId": "14e9b799-a8af-441b-bf4e-27b1a9576567"
      },
      "execution_count": null,
      "outputs": [
        {
          "output_type": "execute_result",
          "data": {
            "text/plain": [
              "                     example  mean_cosine_sim  mean_cosine_sim_ranks  \\\n",
              "16  attrib_vs_all_layer_attn         0.170112               0.785385   \n",
              "17  attrib_vs_all_layer_attn         0.213211               0.859785   \n",
              "18  attrib_vs_all_layer_attn         0.120074               0.784797   \n",
              "19  attrib_vs_all_layer_attn         0.296249               0.867774   \n",
              "20    attrib_vs_layer12_attn         0.258871               0.800409   \n",
              "21    attrib_vs_layer12_attn         0.426779               0.871994   \n",
              "22    attrib_vs_layer12_attn         0.227269               0.804217   \n",
              "23    attrib_vs_layer12_attn         0.411660               0.886604   \n",
              "8       attrib_vs_lower_attn         0.074468               0.773814   \n",
              "9       attrib_vs_lower_attn         0.123476               0.806076   \n",
              "10      attrib_vs_lower_attn         0.102693               0.783805   \n",
              "11      attrib_vs_lower_attn         0.257957               0.828603   \n",
              "12      attrib_vs_upper_attn         0.233382               0.788988   \n",
              "13      attrib_vs_upper_attn         0.421118               0.822304   \n",
              "14      attrib_vs_upper_attn         0.304992               0.785140   \n",
              "15      attrib_vs_upper_attn         0.412499               0.859177   \n",
              "\n",
              "    mean_kendall_tau  mean_RBO  scaled  alnum_only  \n",
              "16          0.095471  0.569974   False       False  \n",
              "17          0.348101  0.660166   False        True  \n",
              "18          0.094067  0.568291    True       False  \n",
              "19          0.386533  0.671197    True        True  \n",
              "20          0.136687  0.583438   False       False  \n",
              "21          0.399045  0.679746   False        True  \n",
              "22          0.147128  0.587605    True       False  \n",
              "23          0.460228  0.703506    True        True  \n",
              "8           0.064130  0.548809   False       False  \n",
              "9           0.166703  0.577195   False        True  \n",
              "10          0.091368  0.566388    True       False  \n",
              "11          0.245163  0.612870    True        True  \n",
              "12          0.105241  0.576839   False       False  \n",
              "13          0.217510  0.610545   False        True  \n",
              "14          0.094838  0.571872    True       False  \n",
              "15          0.356239  0.660735    True        True  "
            ],
            "text/html": [
              "\n",
              "  <div id=\"df-c69ee169-3c56-4c4c-90b3-d4ed40f8fcb8\">\n",
              "    <div class=\"colab-df-container\">\n",
              "      <div>\n",
              "<style scoped>\n",
              "    .dataframe tbody tr th:only-of-type {\n",
              "        vertical-align: middle;\n",
              "    }\n",
              "\n",
              "    .dataframe tbody tr th {\n",
              "        vertical-align: top;\n",
              "    }\n",
              "\n",
              "    .dataframe thead th {\n",
              "        text-align: right;\n",
              "    }\n",
              "</style>\n",
              "<table border=\"1\" class=\"dataframe\">\n",
              "  <thead>\n",
              "    <tr style=\"text-align: right;\">\n",
              "      <th></th>\n",
              "      <th>example</th>\n",
              "      <th>mean_cosine_sim</th>\n",
              "      <th>mean_cosine_sim_ranks</th>\n",
              "      <th>mean_kendall_tau</th>\n",
              "      <th>mean_RBO</th>\n",
              "      <th>scaled</th>\n",
              "      <th>alnum_only</th>\n",
              "    </tr>\n",
              "  </thead>\n",
              "  <tbody>\n",
              "    <tr>\n",
              "      <th>16</th>\n",
              "      <td>attrib_vs_all_layer_attn</td>\n",
              "      <td>0.170112</td>\n",
              "      <td>0.785385</td>\n",
              "      <td>0.095471</td>\n",
              "      <td>0.569974</td>\n",
              "      <td>False</td>\n",
              "      <td>False</td>\n",
              "    </tr>\n",
              "    <tr>\n",
              "      <th>17</th>\n",
              "      <td>attrib_vs_all_layer_attn</td>\n",
              "      <td>0.213211</td>\n",
              "      <td>0.859785</td>\n",
              "      <td>0.348101</td>\n",
              "      <td>0.660166</td>\n",
              "      <td>False</td>\n",
              "      <td>True</td>\n",
              "    </tr>\n",
              "    <tr>\n",
              "      <th>18</th>\n",
              "      <td>attrib_vs_all_layer_attn</td>\n",
              "      <td>0.120074</td>\n",
              "      <td>0.784797</td>\n",
              "      <td>0.094067</td>\n",
              "      <td>0.568291</td>\n",
              "      <td>True</td>\n",
              "      <td>False</td>\n",
              "    </tr>\n",
              "    <tr>\n",
              "      <th>19</th>\n",
              "      <td>attrib_vs_all_layer_attn</td>\n",
              "      <td>0.296249</td>\n",
              "      <td>0.867774</td>\n",
              "      <td>0.386533</td>\n",
              "      <td>0.671197</td>\n",
              "      <td>True</td>\n",
              "      <td>True</td>\n",
              "    </tr>\n",
              "    <tr>\n",
              "      <th>20</th>\n",
              "      <td>attrib_vs_layer12_attn</td>\n",
              "      <td>0.258871</td>\n",
              "      <td>0.800409</td>\n",
              "      <td>0.136687</td>\n",
              "      <td>0.583438</td>\n",
              "      <td>False</td>\n",
              "      <td>False</td>\n",
              "    </tr>\n",
              "    <tr>\n",
              "      <th>21</th>\n",
              "      <td>attrib_vs_layer12_attn</td>\n",
              "      <td>0.426779</td>\n",
              "      <td>0.871994</td>\n",
              "      <td>0.399045</td>\n",
              "      <td>0.679746</td>\n",
              "      <td>False</td>\n",
              "      <td>True</td>\n",
              "    </tr>\n",
              "    <tr>\n",
              "      <th>22</th>\n",
              "      <td>attrib_vs_layer12_attn</td>\n",
              "      <td>0.227269</td>\n",
              "      <td>0.804217</td>\n",
              "      <td>0.147128</td>\n",
              "      <td>0.587605</td>\n",
              "      <td>True</td>\n",
              "      <td>False</td>\n",
              "    </tr>\n",
              "    <tr>\n",
              "      <th>23</th>\n",
              "      <td>attrib_vs_layer12_attn</td>\n",
              "      <td>0.411660</td>\n",
              "      <td>0.886604</td>\n",
              "      <td>0.460228</td>\n",
              "      <td>0.703506</td>\n",
              "      <td>True</td>\n",
              "      <td>True</td>\n",
              "    </tr>\n",
              "    <tr>\n",
              "      <th>8</th>\n",
              "      <td>attrib_vs_lower_attn</td>\n",
              "      <td>0.074468</td>\n",
              "      <td>0.773814</td>\n",
              "      <td>0.064130</td>\n",
              "      <td>0.548809</td>\n",
              "      <td>False</td>\n",
              "      <td>False</td>\n",
              "    </tr>\n",
              "    <tr>\n",
              "      <th>9</th>\n",
              "      <td>attrib_vs_lower_attn</td>\n",
              "      <td>0.123476</td>\n",
              "      <td>0.806076</td>\n",
              "      <td>0.166703</td>\n",
              "      <td>0.577195</td>\n",
              "      <td>False</td>\n",
              "      <td>True</td>\n",
              "    </tr>\n",
              "    <tr>\n",
              "      <th>10</th>\n",
              "      <td>attrib_vs_lower_attn</td>\n",
              "      <td>0.102693</td>\n",
              "      <td>0.783805</td>\n",
              "      <td>0.091368</td>\n",
              "      <td>0.566388</td>\n",
              "      <td>True</td>\n",
              "      <td>False</td>\n",
              "    </tr>\n",
              "    <tr>\n",
              "      <th>11</th>\n",
              "      <td>attrib_vs_lower_attn</td>\n",
              "      <td>0.257957</td>\n",
              "      <td>0.828603</td>\n",
              "      <td>0.245163</td>\n",
              "      <td>0.612870</td>\n",
              "      <td>True</td>\n",
              "      <td>True</td>\n",
              "    </tr>\n",
              "    <tr>\n",
              "      <th>12</th>\n",
              "      <td>attrib_vs_upper_attn</td>\n",
              "      <td>0.233382</td>\n",
              "      <td>0.788988</td>\n",
              "      <td>0.105241</td>\n",
              "      <td>0.576839</td>\n",
              "      <td>False</td>\n",
              "      <td>False</td>\n",
              "    </tr>\n",
              "    <tr>\n",
              "      <th>13</th>\n",
              "      <td>attrib_vs_upper_attn</td>\n",
              "      <td>0.421118</td>\n",
              "      <td>0.822304</td>\n",
              "      <td>0.217510</td>\n",
              "      <td>0.610545</td>\n",
              "      <td>False</td>\n",
              "      <td>True</td>\n",
              "    </tr>\n",
              "    <tr>\n",
              "      <th>14</th>\n",
              "      <td>attrib_vs_upper_attn</td>\n",
              "      <td>0.304992</td>\n",
              "      <td>0.785140</td>\n",
              "      <td>0.094838</td>\n",
              "      <td>0.571872</td>\n",
              "      <td>True</td>\n",
              "      <td>False</td>\n",
              "    </tr>\n",
              "    <tr>\n",
              "      <th>15</th>\n",
              "      <td>attrib_vs_upper_attn</td>\n",
              "      <td>0.412499</td>\n",
              "      <td>0.859177</td>\n",
              "      <td>0.356239</td>\n",
              "      <td>0.660735</td>\n",
              "      <td>True</td>\n",
              "      <td>True</td>\n",
              "    </tr>\n",
              "  </tbody>\n",
              "</table>\n",
              "</div>\n",
              "      <button class=\"colab-df-convert\" onclick=\"convertToInteractive('df-c69ee169-3c56-4c4c-90b3-d4ed40f8fcb8')\"\n",
              "              title=\"Convert this dataframe to an interactive table.\"\n",
              "              style=\"display:none;\">\n",
              "        \n",
              "  <svg xmlns=\"http://www.w3.org/2000/svg\" height=\"24px\"viewBox=\"0 0 24 24\"\n",
              "       width=\"24px\">\n",
              "    <path d=\"M0 0h24v24H0V0z\" fill=\"none\"/>\n",
              "    <path d=\"M18.56 5.44l.94 2.06.94-2.06 2.06-.94-2.06-.94-.94-2.06-.94 2.06-2.06.94zm-11 1L8.5 8.5l.94-2.06 2.06-.94-2.06-.94L8.5 2.5l-.94 2.06-2.06.94zm10 10l.94 2.06.94-2.06 2.06-.94-2.06-.94-.94-2.06-.94 2.06-2.06.94z\"/><path d=\"M17.41 7.96l-1.37-1.37c-.4-.4-.92-.59-1.43-.59-.52 0-1.04.2-1.43.59L10.3 9.45l-7.72 7.72c-.78.78-.78 2.05 0 2.83L4 21.41c.39.39.9.59 1.41.59.51 0 1.02-.2 1.41-.59l7.78-7.78 2.81-2.81c.8-.78.8-2.07 0-2.86zM5.41 20L4 18.59l7.72-7.72 1.47 1.35L5.41 20z\"/>\n",
              "  </svg>\n",
              "      </button>\n",
              "      \n",
              "  <style>\n",
              "    .colab-df-container {\n",
              "      display:flex;\n",
              "      flex-wrap:wrap;\n",
              "      gap: 12px;\n",
              "    }\n",
              "\n",
              "    .colab-df-convert {\n",
              "      background-color: #E8F0FE;\n",
              "      border: none;\n",
              "      border-radius: 50%;\n",
              "      cursor: pointer;\n",
              "      display: none;\n",
              "      fill: #1967D2;\n",
              "      height: 32px;\n",
              "      padding: 0 0 0 0;\n",
              "      width: 32px;\n",
              "    }\n",
              "\n",
              "    .colab-df-convert:hover {\n",
              "      background-color: #E2EBFA;\n",
              "      box-shadow: 0px 1px 2px rgba(60, 64, 67, 0.3), 0px 1px 3px 1px rgba(60, 64, 67, 0.15);\n",
              "      fill: #174EA6;\n",
              "    }\n",
              "\n",
              "    [theme=dark] .colab-df-convert {\n",
              "      background-color: #3B4455;\n",
              "      fill: #D2E3FC;\n",
              "    }\n",
              "\n",
              "    [theme=dark] .colab-df-convert:hover {\n",
              "      background-color: #434B5C;\n",
              "      box-shadow: 0px 1px 3px 1px rgba(0, 0, 0, 0.15);\n",
              "      filter: drop-shadow(0px 1px 2px rgba(0, 0, 0, 0.3));\n",
              "      fill: #FFFFFF;\n",
              "    }\n",
              "  </style>\n",
              "\n",
              "      <script>\n",
              "        const buttonEl =\n",
              "          document.querySelector('#df-c69ee169-3c56-4c4c-90b3-d4ed40f8fcb8 button.colab-df-convert');\n",
              "        buttonEl.style.display =\n",
              "          google.colab.kernel.accessAllowed ? 'block' : 'none';\n",
              "\n",
              "        async function convertToInteractive(key) {\n",
              "          const element = document.querySelector('#df-c69ee169-3c56-4c4c-90b3-d4ed40f8fcb8');\n",
              "          const dataTable =\n",
              "            await google.colab.kernel.invokeFunction('convertToInteractive',\n",
              "                                                     [key], {});\n",
              "          if (!dataTable) return;\n",
              "\n",
              "          const docLinkHtml = 'Like what you see? Visit the ' +\n",
              "            '<a target=\"_blank\" href=https://colab.research.google.com/notebooks/data_table.ipynb>data table notebook</a>'\n",
              "            + ' to learn more about interactive tables.';\n",
              "          element.innerHTML = '';\n",
              "          dataTable['output_type'] = 'display_data';\n",
              "          await google.colab.output.renderOutput(dataTable, element);\n",
              "          const docLink = document.createElement('div');\n",
              "          docLink.innerHTML = docLinkHtml;\n",
              "          element.appendChild(docLink);\n",
              "        }\n",
              "      </script>\n",
              "    </div>\n",
              "  </div>\n",
              "  "
            ]
          },
          "metadata": {},
          "execution_count": 74
        }
      ]
    },
    {
      "cell_type": "markdown",
      "source": [
        "Finally, we save this dataframe we made so we can either add on to this dataframe in future explorations, or take these results for other uses."
      ],
      "metadata": {
        "id": "QVtUSf1QSMwh"
      }
    },
    {
      "cell_type": "code",
      "source": [
        "df_final.to_csv(\"/content/drive/MyDrive/cogs402longformer/results/papers/attrib_attn_sim/attrib_attn_sim_means.csv\", index=False)"
      ],
      "metadata": {
        "id": "AeDbwwDMRAnS"
      },
      "execution_count": null,
      "outputs": []
    }
  ],
  "metadata": {
    "file_extension": ".py",
    "kernelspec": {
      "display_name": "Python 3",
      "name": "python3"
    },
    "language_info": {
      "name": "python"
    },
    "mimetype": "text/x-python",
    "name": "python",
    "npconvert_exporter": "python",
    "pygments_lexer": "ipython3",
    "version": 3,
    "colab": {
      "name": "Attn_attr_cosine_sim_all.ipynb",
      "provenance": [],
      "collapsed_sections": [],
      "machine_shape": "hm",
      "include_colab_link": true
    },
    "accelerator": "GPU",
    "widgets": {
      "application/vnd.jupyter.widget-state+json": {
        "a823054792a34ae79ff218e986248cee": {
          "model_module": "@jupyter-widgets/controls",
          "model_name": "HBoxModel",
          "model_module_version": "1.5.0",
          "state": {
            "_dom_classes": [],
            "_model_module": "@jupyter-widgets/controls",
            "_model_module_version": "1.5.0",
            "_model_name": "HBoxModel",
            "_view_count": null,
            "_view_module": "@jupyter-widgets/controls",
            "_view_module_version": "1.5.0",
            "_view_name": "HBoxView",
            "box_style": "",
            "children": [
              "IPY_MODEL_9905237c66b444c1b2d037b9419a7a3f",
              "IPY_MODEL_887b05138cc940ae9bb60fe41c9de1ca",
              "IPY_MODEL_de027883717943bbb4a80de8b6c17575"
            ],
            "layout": "IPY_MODEL_e697084e6a7948179376c0662e170a58"
          }
        },
        "9905237c66b444c1b2d037b9419a7a3f": {
          "model_module": "@jupyter-widgets/controls",
          "model_name": "HTMLModel",
          "model_module_version": "1.5.0",
          "state": {
            "_dom_classes": [],
            "_model_module": "@jupyter-widgets/controls",
            "_model_module_version": "1.5.0",
            "_model_name": "HTMLModel",
            "_view_count": null,
            "_view_module": "@jupyter-widgets/controls",
            "_view_module_version": "1.5.0",
            "_view_name": "HTMLView",
            "description": "",
            "description_tooltip": null,
            "layout": "IPY_MODEL_77343b0874e0409780a2bb950d56a045",
            "placeholder": "​",
            "style": "IPY_MODEL_350a309750b04d78867a5885ee63bf64",
            "value": "Downloading config.json: 100%"
          }
        },
        "887b05138cc940ae9bb60fe41c9de1ca": {
          "model_module": "@jupyter-widgets/controls",
          "model_name": "FloatProgressModel",
          "model_module_version": "1.5.0",
          "state": {
            "_dom_classes": [],
            "_model_module": "@jupyter-widgets/controls",
            "_model_module_version": "1.5.0",
            "_model_name": "FloatProgressModel",
            "_view_count": null,
            "_view_module": "@jupyter-widgets/controls",
            "_view_module_version": "1.5.0",
            "_view_name": "ProgressView",
            "bar_style": "success",
            "description": "",
            "description_tooltip": null,
            "layout": "IPY_MODEL_0f66f3ecd9f74466ade92a5abbe73bf8",
            "max": 1018,
            "min": 0,
            "orientation": "horizontal",
            "style": "IPY_MODEL_d5902ccbb1b94beca1e8178d2cc87297",
            "value": 1018
          }
        },
        "de027883717943bbb4a80de8b6c17575": {
          "model_module": "@jupyter-widgets/controls",
          "model_name": "HTMLModel",
          "model_module_version": "1.5.0",
          "state": {
            "_dom_classes": [],
            "_model_module": "@jupyter-widgets/controls",
            "_model_module_version": "1.5.0",
            "_model_name": "HTMLModel",
            "_view_count": null,
            "_view_module": "@jupyter-widgets/controls",
            "_view_module_version": "1.5.0",
            "_view_name": "HTMLView",
            "description": "",
            "description_tooltip": null,
            "layout": "IPY_MODEL_b5737e489c684ef19c6559573cbaffe4",
            "placeholder": "​",
            "style": "IPY_MODEL_93b70e9ec0e64a08852557617f07e02b",
            "value": " 0.99k/0.99k [00:00&lt;00:00, 40.7kB/s]"
          }
        },
        "e697084e6a7948179376c0662e170a58": {
          "model_module": "@jupyter-widgets/base",
          "model_name": "LayoutModel",
          "model_module_version": "1.2.0",
          "state": {
            "_model_module": "@jupyter-widgets/base",
            "_model_module_version": "1.2.0",
            "_model_name": "LayoutModel",
            "_view_count": null,
            "_view_module": "@jupyter-widgets/base",
            "_view_module_version": "1.2.0",
            "_view_name": "LayoutView",
            "align_content": null,
            "align_items": null,
            "align_self": null,
            "border": null,
            "bottom": null,
            "display": null,
            "flex": null,
            "flex_flow": null,
            "grid_area": null,
            "grid_auto_columns": null,
            "grid_auto_flow": null,
            "grid_auto_rows": null,
            "grid_column": null,
            "grid_gap": null,
            "grid_row": null,
            "grid_template_areas": null,
            "grid_template_columns": null,
            "grid_template_rows": null,
            "height": null,
            "justify_content": null,
            "justify_items": null,
            "left": null,
            "margin": null,
            "max_height": null,
            "max_width": null,
            "min_height": null,
            "min_width": null,
            "object_fit": null,
            "object_position": null,
            "order": null,
            "overflow": null,
            "overflow_x": null,
            "overflow_y": null,
            "padding": null,
            "right": null,
            "top": null,
            "visibility": null,
            "width": null
          }
        },
        "77343b0874e0409780a2bb950d56a045": {
          "model_module": "@jupyter-widgets/base",
          "model_name": "LayoutModel",
          "model_module_version": "1.2.0",
          "state": {
            "_model_module": "@jupyter-widgets/base",
            "_model_module_version": "1.2.0",
            "_model_name": "LayoutModel",
            "_view_count": null,
            "_view_module": "@jupyter-widgets/base",
            "_view_module_version": "1.2.0",
            "_view_name": "LayoutView",
            "align_content": null,
            "align_items": null,
            "align_self": null,
            "border": null,
            "bottom": null,
            "display": null,
            "flex": null,
            "flex_flow": null,
            "grid_area": null,
            "grid_auto_columns": null,
            "grid_auto_flow": null,
            "grid_auto_rows": null,
            "grid_column": null,
            "grid_gap": null,
            "grid_row": null,
            "grid_template_areas": null,
            "grid_template_columns": null,
            "grid_template_rows": null,
            "height": null,
            "justify_content": null,
            "justify_items": null,
            "left": null,
            "margin": null,
            "max_height": null,
            "max_width": null,
            "min_height": null,
            "min_width": null,
            "object_fit": null,
            "object_position": null,
            "order": null,
            "overflow": null,
            "overflow_x": null,
            "overflow_y": null,
            "padding": null,
            "right": null,
            "top": null,
            "visibility": null,
            "width": null
          }
        },
        "350a309750b04d78867a5885ee63bf64": {
          "model_module": "@jupyter-widgets/controls",
          "model_name": "DescriptionStyleModel",
          "model_module_version": "1.5.0",
          "state": {
            "_model_module": "@jupyter-widgets/controls",
            "_model_module_version": "1.5.0",
            "_model_name": "DescriptionStyleModel",
            "_view_count": null,
            "_view_module": "@jupyter-widgets/base",
            "_view_module_version": "1.2.0",
            "_view_name": "StyleView",
            "description_width": ""
          }
        },
        "0f66f3ecd9f74466ade92a5abbe73bf8": {
          "model_module": "@jupyter-widgets/base",
          "model_name": "LayoutModel",
          "model_module_version": "1.2.0",
          "state": {
            "_model_module": "@jupyter-widgets/base",
            "_model_module_version": "1.2.0",
            "_model_name": "LayoutModel",
            "_view_count": null,
            "_view_module": "@jupyter-widgets/base",
            "_view_module_version": "1.2.0",
            "_view_name": "LayoutView",
            "align_content": null,
            "align_items": null,
            "align_self": null,
            "border": null,
            "bottom": null,
            "display": null,
            "flex": null,
            "flex_flow": null,
            "grid_area": null,
            "grid_auto_columns": null,
            "grid_auto_flow": null,
            "grid_auto_rows": null,
            "grid_column": null,
            "grid_gap": null,
            "grid_row": null,
            "grid_template_areas": null,
            "grid_template_columns": null,
            "grid_template_rows": null,
            "height": null,
            "justify_content": null,
            "justify_items": null,
            "left": null,
            "margin": null,
            "max_height": null,
            "max_width": null,
            "min_height": null,
            "min_width": null,
            "object_fit": null,
            "object_position": null,
            "order": null,
            "overflow": null,
            "overflow_x": null,
            "overflow_y": null,
            "padding": null,
            "right": null,
            "top": null,
            "visibility": null,
            "width": null
          }
        },
        "d5902ccbb1b94beca1e8178d2cc87297": {
          "model_module": "@jupyter-widgets/controls",
          "model_name": "ProgressStyleModel",
          "model_module_version": "1.5.0",
          "state": {
            "_model_module": "@jupyter-widgets/controls",
            "_model_module_version": "1.5.0",
            "_model_name": "ProgressStyleModel",
            "_view_count": null,
            "_view_module": "@jupyter-widgets/base",
            "_view_module_version": "1.2.0",
            "_view_name": "StyleView",
            "bar_color": null,
            "description_width": ""
          }
        },
        "b5737e489c684ef19c6559573cbaffe4": {
          "model_module": "@jupyter-widgets/base",
          "model_name": "LayoutModel",
          "model_module_version": "1.2.0",
          "state": {
            "_model_module": "@jupyter-widgets/base",
            "_model_module_version": "1.2.0",
            "_model_name": "LayoutModel",
            "_view_count": null,
            "_view_module": "@jupyter-widgets/base",
            "_view_module_version": "1.2.0",
            "_view_name": "LayoutView",
            "align_content": null,
            "align_items": null,
            "align_self": null,
            "border": null,
            "bottom": null,
            "display": null,
            "flex": null,
            "flex_flow": null,
            "grid_area": null,
            "grid_auto_columns": null,
            "grid_auto_flow": null,
            "grid_auto_rows": null,
            "grid_column": null,
            "grid_gap": null,
            "grid_row": null,
            "grid_template_areas": null,
            "grid_template_columns": null,
            "grid_template_rows": null,
            "height": null,
            "justify_content": null,
            "justify_items": null,
            "left": null,
            "margin": null,
            "max_height": null,
            "max_width": null,
            "min_height": null,
            "min_width": null,
            "object_fit": null,
            "object_position": null,
            "order": null,
            "overflow": null,
            "overflow_x": null,
            "overflow_y": null,
            "padding": null,
            "right": null,
            "top": null,
            "visibility": null,
            "width": null
          }
        },
        "93b70e9ec0e64a08852557617f07e02b": {
          "model_module": "@jupyter-widgets/controls",
          "model_name": "DescriptionStyleModel",
          "model_module_version": "1.5.0",
          "state": {
            "_model_module": "@jupyter-widgets/controls",
            "_model_module_version": "1.5.0",
            "_model_name": "DescriptionStyleModel",
            "_view_count": null,
            "_view_module": "@jupyter-widgets/base",
            "_view_module_version": "1.2.0",
            "_view_name": "StyleView",
            "description_width": ""
          }
        },
        "d6bae03ac46144849d1050c01e6a73dc": {
          "model_module": "@jupyter-widgets/controls",
          "model_name": "HBoxModel",
          "model_module_version": "1.5.0",
          "state": {
            "_dom_classes": [],
            "_model_module": "@jupyter-widgets/controls",
            "_model_module_version": "1.5.0",
            "_model_name": "HBoxModel",
            "_view_count": null,
            "_view_module": "@jupyter-widgets/controls",
            "_view_module_version": "1.5.0",
            "_view_name": "HBoxView",
            "box_style": "",
            "children": [
              "IPY_MODEL_ba0042e3786e4d60b9bc7a3e06f41dc1",
              "IPY_MODEL_75ed7f7980b445f19ddc7ee8865d08bd",
              "IPY_MODEL_384ec582ed364df6b4d62e6a5561b3bc"
            ],
            "layout": "IPY_MODEL_84e3629ee69f4056bcc19550bfebbdc4"
          }
        },
        "ba0042e3786e4d60b9bc7a3e06f41dc1": {
          "model_module": "@jupyter-widgets/controls",
          "model_name": "HTMLModel",
          "model_module_version": "1.5.0",
          "state": {
            "_dom_classes": [],
            "_model_module": "@jupyter-widgets/controls",
            "_model_module_version": "1.5.0",
            "_model_name": "HTMLModel",
            "_view_count": null,
            "_view_module": "@jupyter-widgets/controls",
            "_view_module_version": "1.5.0",
            "_view_name": "HTMLView",
            "description": "",
            "description_tooltip": null,
            "layout": "IPY_MODEL_e4af850df0ca464ba035ebf5080bd87e",
            "placeholder": "​",
            "style": "IPY_MODEL_0550981dff64498588d5bf611f85b33a",
            "value": "Downloading pytorch_model.bin: 100%"
          }
        },
        "75ed7f7980b445f19ddc7ee8865d08bd": {
          "model_module": "@jupyter-widgets/controls",
          "model_name": "FloatProgressModel",
          "model_module_version": "1.5.0",
          "state": {
            "_dom_classes": [],
            "_model_module": "@jupyter-widgets/controls",
            "_model_module_version": "1.5.0",
            "_model_name": "FloatProgressModel",
            "_view_count": null,
            "_view_module": "@jupyter-widgets/controls",
            "_view_module_version": "1.5.0",
            "_view_name": "ProgressView",
            "bar_style": "success",
            "description": "",
            "description_tooltip": null,
            "layout": "IPY_MODEL_9215cde0fc6b4d0981c04750516a9697",
            "max": 594786525,
            "min": 0,
            "orientation": "horizontal",
            "style": "IPY_MODEL_2b63d0e3595e4bb685508e8d13c45b46",
            "value": 594786525
          }
        },
        "384ec582ed364df6b4d62e6a5561b3bc": {
          "model_module": "@jupyter-widgets/controls",
          "model_name": "HTMLModel",
          "model_module_version": "1.5.0",
          "state": {
            "_dom_classes": [],
            "_model_module": "@jupyter-widgets/controls",
            "_model_module_version": "1.5.0",
            "_model_name": "HTMLModel",
            "_view_count": null,
            "_view_module": "@jupyter-widgets/controls",
            "_view_module_version": "1.5.0",
            "_view_name": "HTMLView",
            "description": "",
            "description_tooltip": null,
            "layout": "IPY_MODEL_d5d00db7cf5848858484149c2a229b4c",
            "placeholder": "​",
            "style": "IPY_MODEL_14d4f3939f95450dae303bd3bd8861cd",
            "value": " 567M/567M [00:12&lt;00:00, 51.2MB/s]"
          }
        },
        "84e3629ee69f4056bcc19550bfebbdc4": {
          "model_module": "@jupyter-widgets/base",
          "model_name": "LayoutModel",
          "model_module_version": "1.2.0",
          "state": {
            "_model_module": "@jupyter-widgets/base",
            "_model_module_version": "1.2.0",
            "_model_name": "LayoutModel",
            "_view_count": null,
            "_view_module": "@jupyter-widgets/base",
            "_view_module_version": "1.2.0",
            "_view_name": "LayoutView",
            "align_content": null,
            "align_items": null,
            "align_self": null,
            "border": null,
            "bottom": null,
            "display": null,
            "flex": null,
            "flex_flow": null,
            "grid_area": null,
            "grid_auto_columns": null,
            "grid_auto_flow": null,
            "grid_auto_rows": null,
            "grid_column": null,
            "grid_gap": null,
            "grid_row": null,
            "grid_template_areas": null,
            "grid_template_columns": null,
            "grid_template_rows": null,
            "height": null,
            "justify_content": null,
            "justify_items": null,
            "left": null,
            "margin": null,
            "max_height": null,
            "max_width": null,
            "min_height": null,
            "min_width": null,
            "object_fit": null,
            "object_position": null,
            "order": null,
            "overflow": null,
            "overflow_x": null,
            "overflow_y": null,
            "padding": null,
            "right": null,
            "top": null,
            "visibility": null,
            "width": null
          }
        },
        "e4af850df0ca464ba035ebf5080bd87e": {
          "model_module": "@jupyter-widgets/base",
          "model_name": "LayoutModel",
          "model_module_version": "1.2.0",
          "state": {
            "_model_module": "@jupyter-widgets/base",
            "_model_module_version": "1.2.0",
            "_model_name": "LayoutModel",
            "_view_count": null,
            "_view_module": "@jupyter-widgets/base",
            "_view_module_version": "1.2.0",
            "_view_name": "LayoutView",
            "align_content": null,
            "align_items": null,
            "align_self": null,
            "border": null,
            "bottom": null,
            "display": null,
            "flex": null,
            "flex_flow": null,
            "grid_area": null,
            "grid_auto_columns": null,
            "grid_auto_flow": null,
            "grid_auto_rows": null,
            "grid_column": null,
            "grid_gap": null,
            "grid_row": null,
            "grid_template_areas": null,
            "grid_template_columns": null,
            "grid_template_rows": null,
            "height": null,
            "justify_content": null,
            "justify_items": null,
            "left": null,
            "margin": null,
            "max_height": null,
            "max_width": null,
            "min_height": null,
            "min_width": null,
            "object_fit": null,
            "object_position": null,
            "order": null,
            "overflow": null,
            "overflow_x": null,
            "overflow_y": null,
            "padding": null,
            "right": null,
            "top": null,
            "visibility": null,
            "width": null
          }
        },
        "0550981dff64498588d5bf611f85b33a": {
          "model_module": "@jupyter-widgets/controls",
          "model_name": "DescriptionStyleModel",
          "model_module_version": "1.5.0",
          "state": {
            "_model_module": "@jupyter-widgets/controls",
            "_model_module_version": "1.5.0",
            "_model_name": "DescriptionStyleModel",
            "_view_count": null,
            "_view_module": "@jupyter-widgets/base",
            "_view_module_version": "1.2.0",
            "_view_name": "StyleView",
            "description_width": ""
          }
        },
        "9215cde0fc6b4d0981c04750516a9697": {
          "model_module": "@jupyter-widgets/base",
          "model_name": "LayoutModel",
          "model_module_version": "1.2.0",
          "state": {
            "_model_module": "@jupyter-widgets/base",
            "_model_module_version": "1.2.0",
            "_model_name": "LayoutModel",
            "_view_count": null,
            "_view_module": "@jupyter-widgets/base",
            "_view_module_version": "1.2.0",
            "_view_name": "LayoutView",
            "align_content": null,
            "align_items": null,
            "align_self": null,
            "border": null,
            "bottom": null,
            "display": null,
            "flex": null,
            "flex_flow": null,
            "grid_area": null,
            "grid_auto_columns": null,
            "grid_auto_flow": null,
            "grid_auto_rows": null,
            "grid_column": null,
            "grid_gap": null,
            "grid_row": null,
            "grid_template_areas": null,
            "grid_template_columns": null,
            "grid_template_rows": null,
            "height": null,
            "justify_content": null,
            "justify_items": null,
            "left": null,
            "margin": null,
            "max_height": null,
            "max_width": null,
            "min_height": null,
            "min_width": null,
            "object_fit": null,
            "object_position": null,
            "order": null,
            "overflow": null,
            "overflow_x": null,
            "overflow_y": null,
            "padding": null,
            "right": null,
            "top": null,
            "visibility": null,
            "width": null
          }
        },
        "2b63d0e3595e4bb685508e8d13c45b46": {
          "model_module": "@jupyter-widgets/controls",
          "model_name": "ProgressStyleModel",
          "model_module_version": "1.5.0",
          "state": {
            "_model_module": "@jupyter-widgets/controls",
            "_model_module_version": "1.5.0",
            "_model_name": "ProgressStyleModel",
            "_view_count": null,
            "_view_module": "@jupyter-widgets/base",
            "_view_module_version": "1.2.0",
            "_view_name": "StyleView",
            "bar_color": null,
            "description_width": ""
          }
        },
        "d5d00db7cf5848858484149c2a229b4c": {
          "model_module": "@jupyter-widgets/base",
          "model_name": "LayoutModel",
          "model_module_version": "1.2.0",
          "state": {
            "_model_module": "@jupyter-widgets/base",
            "_model_module_version": "1.2.0",
            "_model_name": "LayoutModel",
            "_view_count": null,
            "_view_module": "@jupyter-widgets/base",
            "_view_module_version": "1.2.0",
            "_view_name": "LayoutView",
            "align_content": null,
            "align_items": null,
            "align_self": null,
            "border": null,
            "bottom": null,
            "display": null,
            "flex": null,
            "flex_flow": null,
            "grid_area": null,
            "grid_auto_columns": null,
            "grid_auto_flow": null,
            "grid_auto_rows": null,
            "grid_column": null,
            "grid_gap": null,
            "grid_row": null,
            "grid_template_areas": null,
            "grid_template_columns": null,
            "grid_template_rows": null,
            "height": null,
            "justify_content": null,
            "justify_items": null,
            "left": null,
            "margin": null,
            "max_height": null,
            "max_width": null,
            "min_height": null,
            "min_width": null,
            "object_fit": null,
            "object_position": null,
            "order": null,
            "overflow": null,
            "overflow_x": null,
            "overflow_y": null,
            "padding": null,
            "right": null,
            "top": null,
            "visibility": null,
            "width": null
          }
        },
        "14d4f3939f95450dae303bd3bd8861cd": {
          "model_module": "@jupyter-widgets/controls",
          "model_name": "DescriptionStyleModel",
          "model_module_version": "1.5.0",
          "state": {
            "_model_module": "@jupyter-widgets/controls",
            "_model_module_version": "1.5.0",
            "_model_name": "DescriptionStyleModel",
            "_view_count": null,
            "_view_module": "@jupyter-widgets/base",
            "_view_module_version": "1.2.0",
            "_view_name": "StyleView",
            "description_width": ""
          }
        },
        "73b820c62a4044d0a49489051fe011cc": {
          "model_module": "@jupyter-widgets/controls",
          "model_name": "HBoxModel",
          "model_module_version": "1.5.0",
          "state": {
            "_dom_classes": [],
            "_model_module": "@jupyter-widgets/controls",
            "_model_module_version": "1.5.0",
            "_model_name": "HBoxModel",
            "_view_count": null,
            "_view_module": "@jupyter-widgets/controls",
            "_view_module_version": "1.5.0",
            "_view_name": "HBoxView",
            "box_style": "",
            "children": [
              "IPY_MODEL_34f915cc0f5c4b95b717d0c4da307354",
              "IPY_MODEL_f91954b483504e2089f6c0094f4cdda0",
              "IPY_MODEL_6546113ef18d45d194cd35ed355cc1b9"
            ],
            "layout": "IPY_MODEL_c977b2a6284f497090210213085917a6"
          }
        },
        "34f915cc0f5c4b95b717d0c4da307354": {
          "model_module": "@jupyter-widgets/controls",
          "model_name": "HTMLModel",
          "model_module_version": "1.5.0",
          "state": {
            "_dom_classes": [],
            "_model_module": "@jupyter-widgets/controls",
            "_model_module_version": "1.5.0",
            "_model_name": "HTMLModel",
            "_view_count": null,
            "_view_module": "@jupyter-widgets/controls",
            "_view_module_version": "1.5.0",
            "_view_name": "HTMLView",
            "description": "",
            "description_tooltip": null,
            "layout": "IPY_MODEL_fb077dd9e5664852b16efd31566199ba",
            "placeholder": "​",
            "style": "IPY_MODEL_ba30a0b7b60b490194704de6c3af291f",
            "value": "Downloading vocab.json: 100%"
          }
        },
        "f91954b483504e2089f6c0094f4cdda0": {
          "model_module": "@jupyter-widgets/controls",
          "model_name": "FloatProgressModel",
          "model_module_version": "1.5.0",
          "state": {
            "_dom_classes": [],
            "_model_module": "@jupyter-widgets/controls",
            "_model_module_version": "1.5.0",
            "_model_name": "FloatProgressModel",
            "_view_count": null,
            "_view_module": "@jupyter-widgets/controls",
            "_view_module_version": "1.5.0",
            "_view_name": "ProgressView",
            "bar_style": "success",
            "description": "",
            "description_tooltip": null,
            "layout": "IPY_MODEL_a0c14dc3935e4975a8cf2b03bc4bfc8c",
            "max": 898823,
            "min": 0,
            "orientation": "horizontal",
            "style": "IPY_MODEL_18d694f27bc6435b90b0f7c381bb0720",
            "value": 898823
          }
        },
        "6546113ef18d45d194cd35ed355cc1b9": {
          "model_module": "@jupyter-widgets/controls",
          "model_name": "HTMLModel",
          "model_module_version": "1.5.0",
          "state": {
            "_dom_classes": [],
            "_model_module": "@jupyter-widgets/controls",
            "_model_module_version": "1.5.0",
            "_model_name": "HTMLModel",
            "_view_count": null,
            "_view_module": "@jupyter-widgets/controls",
            "_view_module_version": "1.5.0",
            "_view_name": "HTMLView",
            "description": "",
            "description_tooltip": null,
            "layout": "IPY_MODEL_5a94cbe84b804d6faa4e286f401cd600",
            "placeholder": "​",
            "style": "IPY_MODEL_42c2d571a73e4d96878af7d1a3415e74",
            "value": " 878k/878k [00:00&lt;00:00, 2.45MB/s]"
          }
        },
        "c977b2a6284f497090210213085917a6": {
          "model_module": "@jupyter-widgets/base",
          "model_name": "LayoutModel",
          "model_module_version": "1.2.0",
          "state": {
            "_model_module": "@jupyter-widgets/base",
            "_model_module_version": "1.2.0",
            "_model_name": "LayoutModel",
            "_view_count": null,
            "_view_module": "@jupyter-widgets/base",
            "_view_module_version": "1.2.0",
            "_view_name": "LayoutView",
            "align_content": null,
            "align_items": null,
            "align_self": null,
            "border": null,
            "bottom": null,
            "display": null,
            "flex": null,
            "flex_flow": null,
            "grid_area": null,
            "grid_auto_columns": null,
            "grid_auto_flow": null,
            "grid_auto_rows": null,
            "grid_column": null,
            "grid_gap": null,
            "grid_row": null,
            "grid_template_areas": null,
            "grid_template_columns": null,
            "grid_template_rows": null,
            "height": null,
            "justify_content": null,
            "justify_items": null,
            "left": null,
            "margin": null,
            "max_height": null,
            "max_width": null,
            "min_height": null,
            "min_width": null,
            "object_fit": null,
            "object_position": null,
            "order": null,
            "overflow": null,
            "overflow_x": null,
            "overflow_y": null,
            "padding": null,
            "right": null,
            "top": null,
            "visibility": null,
            "width": null
          }
        },
        "fb077dd9e5664852b16efd31566199ba": {
          "model_module": "@jupyter-widgets/base",
          "model_name": "LayoutModel",
          "model_module_version": "1.2.0",
          "state": {
            "_model_module": "@jupyter-widgets/base",
            "_model_module_version": "1.2.0",
            "_model_name": "LayoutModel",
            "_view_count": null,
            "_view_module": "@jupyter-widgets/base",
            "_view_module_version": "1.2.0",
            "_view_name": "LayoutView",
            "align_content": null,
            "align_items": null,
            "align_self": null,
            "border": null,
            "bottom": null,
            "display": null,
            "flex": null,
            "flex_flow": null,
            "grid_area": null,
            "grid_auto_columns": null,
            "grid_auto_flow": null,
            "grid_auto_rows": null,
            "grid_column": null,
            "grid_gap": null,
            "grid_row": null,
            "grid_template_areas": null,
            "grid_template_columns": null,
            "grid_template_rows": null,
            "height": null,
            "justify_content": null,
            "justify_items": null,
            "left": null,
            "margin": null,
            "max_height": null,
            "max_width": null,
            "min_height": null,
            "min_width": null,
            "object_fit": null,
            "object_position": null,
            "order": null,
            "overflow": null,
            "overflow_x": null,
            "overflow_y": null,
            "padding": null,
            "right": null,
            "top": null,
            "visibility": null,
            "width": null
          }
        },
        "ba30a0b7b60b490194704de6c3af291f": {
          "model_module": "@jupyter-widgets/controls",
          "model_name": "DescriptionStyleModel",
          "model_module_version": "1.5.0",
          "state": {
            "_model_module": "@jupyter-widgets/controls",
            "_model_module_version": "1.5.0",
            "_model_name": "DescriptionStyleModel",
            "_view_count": null,
            "_view_module": "@jupyter-widgets/base",
            "_view_module_version": "1.2.0",
            "_view_name": "StyleView",
            "description_width": ""
          }
        },
        "a0c14dc3935e4975a8cf2b03bc4bfc8c": {
          "model_module": "@jupyter-widgets/base",
          "model_name": "LayoutModel",
          "model_module_version": "1.2.0",
          "state": {
            "_model_module": "@jupyter-widgets/base",
            "_model_module_version": "1.2.0",
            "_model_name": "LayoutModel",
            "_view_count": null,
            "_view_module": "@jupyter-widgets/base",
            "_view_module_version": "1.2.0",
            "_view_name": "LayoutView",
            "align_content": null,
            "align_items": null,
            "align_self": null,
            "border": null,
            "bottom": null,
            "display": null,
            "flex": null,
            "flex_flow": null,
            "grid_area": null,
            "grid_auto_columns": null,
            "grid_auto_flow": null,
            "grid_auto_rows": null,
            "grid_column": null,
            "grid_gap": null,
            "grid_row": null,
            "grid_template_areas": null,
            "grid_template_columns": null,
            "grid_template_rows": null,
            "height": null,
            "justify_content": null,
            "justify_items": null,
            "left": null,
            "margin": null,
            "max_height": null,
            "max_width": null,
            "min_height": null,
            "min_width": null,
            "object_fit": null,
            "object_position": null,
            "order": null,
            "overflow": null,
            "overflow_x": null,
            "overflow_y": null,
            "padding": null,
            "right": null,
            "top": null,
            "visibility": null,
            "width": null
          }
        },
        "18d694f27bc6435b90b0f7c381bb0720": {
          "model_module": "@jupyter-widgets/controls",
          "model_name": "ProgressStyleModel",
          "model_module_version": "1.5.0",
          "state": {
            "_model_module": "@jupyter-widgets/controls",
            "_model_module_version": "1.5.0",
            "_model_name": "ProgressStyleModel",
            "_view_count": null,
            "_view_module": "@jupyter-widgets/base",
            "_view_module_version": "1.2.0",
            "_view_name": "StyleView",
            "bar_color": null,
            "description_width": ""
          }
        },
        "5a94cbe84b804d6faa4e286f401cd600": {
          "model_module": "@jupyter-widgets/base",
          "model_name": "LayoutModel",
          "model_module_version": "1.2.0",
          "state": {
            "_model_module": "@jupyter-widgets/base",
            "_model_module_version": "1.2.0",
            "_model_name": "LayoutModel",
            "_view_count": null,
            "_view_module": "@jupyter-widgets/base",
            "_view_module_version": "1.2.0",
            "_view_name": "LayoutView",
            "align_content": null,
            "align_items": null,
            "align_self": null,
            "border": null,
            "bottom": null,
            "display": null,
            "flex": null,
            "flex_flow": null,
            "grid_area": null,
            "grid_auto_columns": null,
            "grid_auto_flow": null,
            "grid_auto_rows": null,
            "grid_column": null,
            "grid_gap": null,
            "grid_row": null,
            "grid_template_areas": null,
            "grid_template_columns": null,
            "grid_template_rows": null,
            "height": null,
            "justify_content": null,
            "justify_items": null,
            "left": null,
            "margin": null,
            "max_height": null,
            "max_width": null,
            "min_height": null,
            "min_width": null,
            "object_fit": null,
            "object_position": null,
            "order": null,
            "overflow": null,
            "overflow_x": null,
            "overflow_y": null,
            "padding": null,
            "right": null,
            "top": null,
            "visibility": null,
            "width": null
          }
        },
        "42c2d571a73e4d96878af7d1a3415e74": {
          "model_module": "@jupyter-widgets/controls",
          "model_name": "DescriptionStyleModel",
          "model_module_version": "1.5.0",
          "state": {
            "_model_module": "@jupyter-widgets/controls",
            "_model_module_version": "1.5.0",
            "_model_name": "DescriptionStyleModel",
            "_view_count": null,
            "_view_module": "@jupyter-widgets/base",
            "_view_module_version": "1.2.0",
            "_view_name": "StyleView",
            "description_width": ""
          }
        },
        "69004c2527ed4279870891ce51a35a9a": {
          "model_module": "@jupyter-widgets/controls",
          "model_name": "HBoxModel",
          "model_module_version": "1.5.0",
          "state": {
            "_dom_classes": [],
            "_model_module": "@jupyter-widgets/controls",
            "_model_module_version": "1.5.0",
            "_model_name": "HBoxModel",
            "_view_count": null,
            "_view_module": "@jupyter-widgets/controls",
            "_view_module_version": "1.5.0",
            "_view_name": "HBoxView",
            "box_style": "",
            "children": [
              "IPY_MODEL_0b5d8f8705194c4b92229ca5eb686047",
              "IPY_MODEL_a10256edce214cbd8a0c429a189a89e9",
              "IPY_MODEL_6256c9a93fe9444a9d0738005596e895"
            ],
            "layout": "IPY_MODEL_7bec10638623478e878d4204ae20863d"
          }
        },
        "0b5d8f8705194c4b92229ca5eb686047": {
          "model_module": "@jupyter-widgets/controls",
          "model_name": "HTMLModel",
          "model_module_version": "1.5.0",
          "state": {
            "_dom_classes": [],
            "_model_module": "@jupyter-widgets/controls",
            "_model_module_version": "1.5.0",
            "_model_name": "HTMLModel",
            "_view_count": null,
            "_view_module": "@jupyter-widgets/controls",
            "_view_module_version": "1.5.0",
            "_view_name": "HTMLView",
            "description": "",
            "description_tooltip": null,
            "layout": "IPY_MODEL_6ecab60589a14b3a95933e1e1f67ca6f",
            "placeholder": "​",
            "style": "IPY_MODEL_3bf4c5561d94477ea0cd66a16831b4e6",
            "value": "Downloading merges.txt: 100%"
          }
        },
        "a10256edce214cbd8a0c429a189a89e9": {
          "model_module": "@jupyter-widgets/controls",
          "model_name": "FloatProgressModel",
          "model_module_version": "1.5.0",
          "state": {
            "_dom_classes": [],
            "_model_module": "@jupyter-widgets/controls",
            "_model_module_version": "1.5.0",
            "_model_name": "FloatProgressModel",
            "_view_count": null,
            "_view_module": "@jupyter-widgets/controls",
            "_view_module_version": "1.5.0",
            "_view_name": "ProgressView",
            "bar_style": "success",
            "description": "",
            "description_tooltip": null,
            "layout": "IPY_MODEL_0856cae3cf50435e8a2e5b7d61f19910",
            "max": 456318,
            "min": 0,
            "orientation": "horizontal",
            "style": "IPY_MODEL_8cb0425bc8404ee0a526c511c3575f5a",
            "value": 456318
          }
        },
        "6256c9a93fe9444a9d0738005596e895": {
          "model_module": "@jupyter-widgets/controls",
          "model_name": "HTMLModel",
          "model_module_version": "1.5.0",
          "state": {
            "_dom_classes": [],
            "_model_module": "@jupyter-widgets/controls",
            "_model_module_version": "1.5.0",
            "_model_name": "HTMLModel",
            "_view_count": null,
            "_view_module": "@jupyter-widgets/controls",
            "_view_module_version": "1.5.0",
            "_view_name": "HTMLView",
            "description": "",
            "description_tooltip": null,
            "layout": "IPY_MODEL_98ae73a3765946778063c4a80bac05ac",
            "placeholder": "​",
            "style": "IPY_MODEL_f640b909faaf4c769e7a98e8a0866fa3",
            "value": " 446k/446k [00:00&lt;00:00, 1.47MB/s]"
          }
        },
        "7bec10638623478e878d4204ae20863d": {
          "model_module": "@jupyter-widgets/base",
          "model_name": "LayoutModel",
          "model_module_version": "1.2.0",
          "state": {
            "_model_module": "@jupyter-widgets/base",
            "_model_module_version": "1.2.0",
            "_model_name": "LayoutModel",
            "_view_count": null,
            "_view_module": "@jupyter-widgets/base",
            "_view_module_version": "1.2.0",
            "_view_name": "LayoutView",
            "align_content": null,
            "align_items": null,
            "align_self": null,
            "border": null,
            "bottom": null,
            "display": null,
            "flex": null,
            "flex_flow": null,
            "grid_area": null,
            "grid_auto_columns": null,
            "grid_auto_flow": null,
            "grid_auto_rows": null,
            "grid_column": null,
            "grid_gap": null,
            "grid_row": null,
            "grid_template_areas": null,
            "grid_template_columns": null,
            "grid_template_rows": null,
            "height": null,
            "justify_content": null,
            "justify_items": null,
            "left": null,
            "margin": null,
            "max_height": null,
            "max_width": null,
            "min_height": null,
            "min_width": null,
            "object_fit": null,
            "object_position": null,
            "order": null,
            "overflow": null,
            "overflow_x": null,
            "overflow_y": null,
            "padding": null,
            "right": null,
            "top": null,
            "visibility": null,
            "width": null
          }
        },
        "6ecab60589a14b3a95933e1e1f67ca6f": {
          "model_module": "@jupyter-widgets/base",
          "model_name": "LayoutModel",
          "model_module_version": "1.2.0",
          "state": {
            "_model_module": "@jupyter-widgets/base",
            "_model_module_version": "1.2.0",
            "_model_name": "LayoutModel",
            "_view_count": null,
            "_view_module": "@jupyter-widgets/base",
            "_view_module_version": "1.2.0",
            "_view_name": "LayoutView",
            "align_content": null,
            "align_items": null,
            "align_self": null,
            "border": null,
            "bottom": null,
            "display": null,
            "flex": null,
            "flex_flow": null,
            "grid_area": null,
            "grid_auto_columns": null,
            "grid_auto_flow": null,
            "grid_auto_rows": null,
            "grid_column": null,
            "grid_gap": null,
            "grid_row": null,
            "grid_template_areas": null,
            "grid_template_columns": null,
            "grid_template_rows": null,
            "height": null,
            "justify_content": null,
            "justify_items": null,
            "left": null,
            "margin": null,
            "max_height": null,
            "max_width": null,
            "min_height": null,
            "min_width": null,
            "object_fit": null,
            "object_position": null,
            "order": null,
            "overflow": null,
            "overflow_x": null,
            "overflow_y": null,
            "padding": null,
            "right": null,
            "top": null,
            "visibility": null,
            "width": null
          }
        },
        "3bf4c5561d94477ea0cd66a16831b4e6": {
          "model_module": "@jupyter-widgets/controls",
          "model_name": "DescriptionStyleModel",
          "model_module_version": "1.5.0",
          "state": {
            "_model_module": "@jupyter-widgets/controls",
            "_model_module_version": "1.5.0",
            "_model_name": "DescriptionStyleModel",
            "_view_count": null,
            "_view_module": "@jupyter-widgets/base",
            "_view_module_version": "1.2.0",
            "_view_name": "StyleView",
            "description_width": ""
          }
        },
        "0856cae3cf50435e8a2e5b7d61f19910": {
          "model_module": "@jupyter-widgets/base",
          "model_name": "LayoutModel",
          "model_module_version": "1.2.0",
          "state": {
            "_model_module": "@jupyter-widgets/base",
            "_model_module_version": "1.2.0",
            "_model_name": "LayoutModel",
            "_view_count": null,
            "_view_module": "@jupyter-widgets/base",
            "_view_module_version": "1.2.0",
            "_view_name": "LayoutView",
            "align_content": null,
            "align_items": null,
            "align_self": null,
            "border": null,
            "bottom": null,
            "display": null,
            "flex": null,
            "flex_flow": null,
            "grid_area": null,
            "grid_auto_columns": null,
            "grid_auto_flow": null,
            "grid_auto_rows": null,
            "grid_column": null,
            "grid_gap": null,
            "grid_row": null,
            "grid_template_areas": null,
            "grid_template_columns": null,
            "grid_template_rows": null,
            "height": null,
            "justify_content": null,
            "justify_items": null,
            "left": null,
            "margin": null,
            "max_height": null,
            "max_width": null,
            "min_height": null,
            "min_width": null,
            "object_fit": null,
            "object_position": null,
            "order": null,
            "overflow": null,
            "overflow_x": null,
            "overflow_y": null,
            "padding": null,
            "right": null,
            "top": null,
            "visibility": null,
            "width": null
          }
        },
        "8cb0425bc8404ee0a526c511c3575f5a": {
          "model_module": "@jupyter-widgets/controls",
          "model_name": "ProgressStyleModel",
          "model_module_version": "1.5.0",
          "state": {
            "_model_module": "@jupyter-widgets/controls",
            "_model_module_version": "1.5.0",
            "_model_name": "ProgressStyleModel",
            "_view_count": null,
            "_view_module": "@jupyter-widgets/base",
            "_view_module_version": "1.2.0",
            "_view_name": "StyleView",
            "bar_color": null,
            "description_width": ""
          }
        },
        "98ae73a3765946778063c4a80bac05ac": {
          "model_module": "@jupyter-widgets/base",
          "model_name": "LayoutModel",
          "model_module_version": "1.2.0",
          "state": {
            "_model_module": "@jupyter-widgets/base",
            "_model_module_version": "1.2.0",
            "_model_name": "LayoutModel",
            "_view_count": null,
            "_view_module": "@jupyter-widgets/base",
            "_view_module_version": "1.2.0",
            "_view_name": "LayoutView",
            "align_content": null,
            "align_items": null,
            "align_self": null,
            "border": null,
            "bottom": null,
            "display": null,
            "flex": null,
            "flex_flow": null,
            "grid_area": null,
            "grid_auto_columns": null,
            "grid_auto_flow": null,
            "grid_auto_rows": null,
            "grid_column": null,
            "grid_gap": null,
            "grid_row": null,
            "grid_template_areas": null,
            "grid_template_columns": null,
            "grid_template_rows": null,
            "height": null,
            "justify_content": null,
            "justify_items": null,
            "left": null,
            "margin": null,
            "max_height": null,
            "max_width": null,
            "min_height": null,
            "min_width": null,
            "object_fit": null,
            "object_position": null,
            "order": null,
            "overflow": null,
            "overflow_x": null,
            "overflow_y": null,
            "padding": null,
            "right": null,
            "top": null,
            "visibility": null,
            "width": null
          }
        },
        "f640b909faaf4c769e7a98e8a0866fa3": {
          "model_module": "@jupyter-widgets/controls",
          "model_name": "DescriptionStyleModel",
          "model_module_version": "1.5.0",
          "state": {
            "_model_module": "@jupyter-widgets/controls",
            "_model_module_version": "1.5.0",
            "_model_name": "DescriptionStyleModel",
            "_view_count": null,
            "_view_module": "@jupyter-widgets/base",
            "_view_module_version": "1.2.0",
            "_view_name": "StyleView",
            "description_width": ""
          }
        },
        "82473db1448d44d1bc4181ad497f1b95": {
          "model_module": "@jupyter-widgets/controls",
          "model_name": "HBoxModel",
          "model_module_version": "1.5.0",
          "state": {
            "_dom_classes": [],
            "_model_module": "@jupyter-widgets/controls",
            "_model_module_version": "1.5.0",
            "_model_name": "HBoxModel",
            "_view_count": null,
            "_view_module": "@jupyter-widgets/controls",
            "_view_module_version": "1.5.0",
            "_view_name": "HBoxView",
            "box_style": "",
            "children": [
              "IPY_MODEL_ab69f2938dfb473792ef4b4b68366cc2",
              "IPY_MODEL_73c282606be14973ba3c3ad030250528",
              "IPY_MODEL_273f25eb3de6474e9ea166a61af39205"
            ],
            "layout": "IPY_MODEL_03bacb6b971b4ad5baaa3d86890a5a14"
          }
        },
        "ab69f2938dfb473792ef4b4b68366cc2": {
          "model_module": "@jupyter-widgets/controls",
          "model_name": "HTMLModel",
          "model_module_version": "1.5.0",
          "state": {
            "_dom_classes": [],
            "_model_module": "@jupyter-widgets/controls",
            "_model_module_version": "1.5.0",
            "_model_name": "HTMLModel",
            "_view_count": null,
            "_view_module": "@jupyter-widgets/controls",
            "_view_module_version": "1.5.0",
            "_view_name": "HTMLView",
            "description": "",
            "description_tooltip": null,
            "layout": "IPY_MODEL_63c71665966448958a626e11abef512c",
            "placeholder": "​",
            "style": "IPY_MODEL_ba861daf8e744abd9d37842d947cc9d1",
            "value": "Downloading config.json: 100%"
          }
        },
        "73c282606be14973ba3c3ad030250528": {
          "model_module": "@jupyter-widgets/controls",
          "model_name": "FloatProgressModel",
          "model_module_version": "1.5.0",
          "state": {
            "_dom_classes": [],
            "_model_module": "@jupyter-widgets/controls",
            "_model_module_version": "1.5.0",
            "_model_name": "FloatProgressModel",
            "_view_count": null,
            "_view_module": "@jupyter-widgets/controls",
            "_view_module_version": "1.5.0",
            "_view_name": "ProgressView",
            "bar_style": "success",
            "description": "",
            "description_tooltip": null,
            "layout": "IPY_MODEL_7ca573cf82694d1f896316656651c09c",
            "max": 694,
            "min": 0,
            "orientation": "horizontal",
            "style": "IPY_MODEL_3615cfeaa7bd49f2b04d4ad70aca1bb9",
            "value": 694
          }
        },
        "273f25eb3de6474e9ea166a61af39205": {
          "model_module": "@jupyter-widgets/controls",
          "model_name": "HTMLModel",
          "model_module_version": "1.5.0",
          "state": {
            "_dom_classes": [],
            "_model_module": "@jupyter-widgets/controls",
            "_model_module_version": "1.5.0",
            "_model_name": "HTMLModel",
            "_view_count": null,
            "_view_module": "@jupyter-widgets/controls",
            "_view_module_version": "1.5.0",
            "_view_name": "HTMLView",
            "description": "",
            "description_tooltip": null,
            "layout": "IPY_MODEL_14840d8753bc4e839173ac088a5f4317",
            "placeholder": "​",
            "style": "IPY_MODEL_b87fa81d22f74eb09fe9866c5c4a9775",
            "value": " 694/694 [00:00&lt;00:00, 23.2kB/s]"
          }
        },
        "03bacb6b971b4ad5baaa3d86890a5a14": {
          "model_module": "@jupyter-widgets/base",
          "model_name": "LayoutModel",
          "model_module_version": "1.2.0",
          "state": {
            "_model_module": "@jupyter-widgets/base",
            "_model_module_version": "1.2.0",
            "_model_name": "LayoutModel",
            "_view_count": null,
            "_view_module": "@jupyter-widgets/base",
            "_view_module_version": "1.2.0",
            "_view_name": "LayoutView",
            "align_content": null,
            "align_items": null,
            "align_self": null,
            "border": null,
            "bottom": null,
            "display": null,
            "flex": null,
            "flex_flow": null,
            "grid_area": null,
            "grid_auto_columns": null,
            "grid_auto_flow": null,
            "grid_auto_rows": null,
            "grid_column": null,
            "grid_gap": null,
            "grid_row": null,
            "grid_template_areas": null,
            "grid_template_columns": null,
            "grid_template_rows": null,
            "height": null,
            "justify_content": null,
            "justify_items": null,
            "left": null,
            "margin": null,
            "max_height": null,
            "max_width": null,
            "min_height": null,
            "min_width": null,
            "object_fit": null,
            "object_position": null,
            "order": null,
            "overflow": null,
            "overflow_x": null,
            "overflow_y": null,
            "padding": null,
            "right": null,
            "top": null,
            "visibility": null,
            "width": null
          }
        },
        "63c71665966448958a626e11abef512c": {
          "model_module": "@jupyter-widgets/base",
          "model_name": "LayoutModel",
          "model_module_version": "1.2.0",
          "state": {
            "_model_module": "@jupyter-widgets/base",
            "_model_module_version": "1.2.0",
            "_model_name": "LayoutModel",
            "_view_count": null,
            "_view_module": "@jupyter-widgets/base",
            "_view_module_version": "1.2.0",
            "_view_name": "LayoutView",
            "align_content": null,
            "align_items": null,
            "align_self": null,
            "border": null,
            "bottom": null,
            "display": null,
            "flex": null,
            "flex_flow": null,
            "grid_area": null,
            "grid_auto_columns": null,
            "grid_auto_flow": null,
            "grid_auto_rows": null,
            "grid_column": null,
            "grid_gap": null,
            "grid_row": null,
            "grid_template_areas": null,
            "grid_template_columns": null,
            "grid_template_rows": null,
            "height": null,
            "justify_content": null,
            "justify_items": null,
            "left": null,
            "margin": null,
            "max_height": null,
            "max_width": null,
            "min_height": null,
            "min_width": null,
            "object_fit": null,
            "object_position": null,
            "order": null,
            "overflow": null,
            "overflow_x": null,
            "overflow_y": null,
            "padding": null,
            "right": null,
            "top": null,
            "visibility": null,
            "width": null
          }
        },
        "ba861daf8e744abd9d37842d947cc9d1": {
          "model_module": "@jupyter-widgets/controls",
          "model_name": "DescriptionStyleModel",
          "model_module_version": "1.5.0",
          "state": {
            "_model_module": "@jupyter-widgets/controls",
            "_model_module_version": "1.5.0",
            "_model_name": "DescriptionStyleModel",
            "_view_count": null,
            "_view_module": "@jupyter-widgets/base",
            "_view_module_version": "1.2.0",
            "_view_name": "StyleView",
            "description_width": ""
          }
        },
        "7ca573cf82694d1f896316656651c09c": {
          "model_module": "@jupyter-widgets/base",
          "model_name": "LayoutModel",
          "model_module_version": "1.2.0",
          "state": {
            "_model_module": "@jupyter-widgets/base",
            "_model_module_version": "1.2.0",
            "_model_name": "LayoutModel",
            "_view_count": null,
            "_view_module": "@jupyter-widgets/base",
            "_view_module_version": "1.2.0",
            "_view_name": "LayoutView",
            "align_content": null,
            "align_items": null,
            "align_self": null,
            "border": null,
            "bottom": null,
            "display": null,
            "flex": null,
            "flex_flow": null,
            "grid_area": null,
            "grid_auto_columns": null,
            "grid_auto_flow": null,
            "grid_auto_rows": null,
            "grid_column": null,
            "grid_gap": null,
            "grid_row": null,
            "grid_template_areas": null,
            "grid_template_columns": null,
            "grid_template_rows": null,
            "height": null,
            "justify_content": null,
            "justify_items": null,
            "left": null,
            "margin": null,
            "max_height": null,
            "max_width": null,
            "min_height": null,
            "min_width": null,
            "object_fit": null,
            "object_position": null,
            "order": null,
            "overflow": null,
            "overflow_x": null,
            "overflow_y": null,
            "padding": null,
            "right": null,
            "top": null,
            "visibility": null,
            "width": null
          }
        },
        "3615cfeaa7bd49f2b04d4ad70aca1bb9": {
          "model_module": "@jupyter-widgets/controls",
          "model_name": "ProgressStyleModel",
          "model_module_version": "1.5.0",
          "state": {
            "_model_module": "@jupyter-widgets/controls",
            "_model_module_version": "1.5.0",
            "_model_name": "ProgressStyleModel",
            "_view_count": null,
            "_view_module": "@jupyter-widgets/base",
            "_view_module_version": "1.2.0",
            "_view_name": "StyleView",
            "bar_color": null,
            "description_width": ""
          }
        },
        "14840d8753bc4e839173ac088a5f4317": {
          "model_module": "@jupyter-widgets/base",
          "model_name": "LayoutModel",
          "model_module_version": "1.2.0",
          "state": {
            "_model_module": "@jupyter-widgets/base",
            "_model_module_version": "1.2.0",
            "_model_name": "LayoutModel",
            "_view_count": null,
            "_view_module": "@jupyter-widgets/base",
            "_view_module_version": "1.2.0",
            "_view_name": "LayoutView",
            "align_content": null,
            "align_items": null,
            "align_self": null,
            "border": null,
            "bottom": null,
            "display": null,
            "flex": null,
            "flex_flow": null,
            "grid_area": null,
            "grid_auto_columns": null,
            "grid_auto_flow": null,
            "grid_auto_rows": null,
            "grid_column": null,
            "grid_gap": null,
            "grid_row": null,
            "grid_template_areas": null,
            "grid_template_columns": null,
            "grid_template_rows": null,
            "height": null,
            "justify_content": null,
            "justify_items": null,
            "left": null,
            "margin": null,
            "max_height": null,
            "max_width": null,
            "min_height": null,
            "min_width": null,
            "object_fit": null,
            "object_position": null,
            "order": null,
            "overflow": null,
            "overflow_x": null,
            "overflow_y": null,
            "padding": null,
            "right": null,
            "top": null,
            "visibility": null,
            "width": null
          }
        },
        "b87fa81d22f74eb09fe9866c5c4a9775": {
          "model_module": "@jupyter-widgets/controls",
          "model_name": "DescriptionStyleModel",
          "model_module_version": "1.5.0",
          "state": {
            "_model_module": "@jupyter-widgets/controls",
            "_model_module_version": "1.5.0",
            "_model_name": "DescriptionStyleModel",
            "_view_count": null,
            "_view_module": "@jupyter-widgets/base",
            "_view_module_version": "1.2.0",
            "_view_name": "StyleView",
            "description_width": ""
          }
        },
        "dc917a7487f7436382279951b49e74df": {
          "model_module": "@jupyter-widgets/controls",
          "model_name": "HBoxModel",
          "model_module_version": "1.5.0",
          "state": {
            "_dom_classes": [],
            "_model_module": "@jupyter-widgets/controls",
            "_model_module_version": "1.5.0",
            "_model_name": "HBoxModel",
            "_view_count": null,
            "_view_module": "@jupyter-widgets/controls",
            "_view_module_version": "1.5.0",
            "_view_name": "HBoxView",
            "box_style": "",
            "children": [
              "IPY_MODEL_24b35796033b41beb2a8267a5dcb2b0e",
              "IPY_MODEL_29a5031e98e140ff8e648a91a7a3dfba",
              "IPY_MODEL_efd6a235bf9548039507859c896411d4"
            ],
            "layout": "IPY_MODEL_089ba7ebb6b94336a4439c98eb547202"
          }
        },
        "24b35796033b41beb2a8267a5dcb2b0e": {
          "model_module": "@jupyter-widgets/controls",
          "model_name": "HTMLModel",
          "model_module_version": "1.5.0",
          "state": {
            "_dom_classes": [],
            "_model_module": "@jupyter-widgets/controls",
            "_model_module_version": "1.5.0",
            "_model_name": "HTMLModel",
            "_view_count": null,
            "_view_module": "@jupyter-widgets/controls",
            "_view_module_version": "1.5.0",
            "_view_name": "HTMLView",
            "description": "",
            "description_tooltip": null,
            "layout": "IPY_MODEL_fbc7e0b93f914b3da5caddb0433adf14",
            "placeholder": "​",
            "style": "IPY_MODEL_e7e21a3a3f254fda9218719c42e9b597",
            "value": "Downloading: 100%"
          }
        },
        "29a5031e98e140ff8e648a91a7a3dfba": {
          "model_module": "@jupyter-widgets/controls",
          "model_name": "FloatProgressModel",
          "model_module_version": "1.5.0",
          "state": {
            "_dom_classes": [],
            "_model_module": "@jupyter-widgets/controls",
            "_model_module_version": "1.5.0",
            "_model_name": "FloatProgressModel",
            "_view_count": null,
            "_view_module": "@jupyter-widgets/controls",
            "_view_module_version": "1.5.0",
            "_view_name": "ProgressView",
            "bar_style": "success",
            "description": "",
            "description_tooltip": null,
            "layout": "IPY_MODEL_8a37d4caf5394fb9b9df40eb3f401c32",
            "max": 739,
            "min": 0,
            "orientation": "horizontal",
            "style": "IPY_MODEL_59ccaabaa98245f78cd8d94c027b1e37",
            "value": 739
          }
        },
        "efd6a235bf9548039507859c896411d4": {
          "model_module": "@jupyter-widgets/controls",
          "model_name": "HTMLModel",
          "model_module_version": "1.5.0",
          "state": {
            "_dom_classes": [],
            "_model_module": "@jupyter-widgets/controls",
            "_model_module_version": "1.5.0",
            "_model_name": "HTMLModel",
            "_view_count": null,
            "_view_module": "@jupyter-widgets/controls",
            "_view_module_version": "1.5.0",
            "_view_name": "HTMLView",
            "description": "",
            "description_tooltip": null,
            "layout": "IPY_MODEL_489478d429e14d6885c65e77c1d86175",
            "placeholder": "​",
            "style": "IPY_MODEL_f0843b750dff4e64bc4ba95f5558bae4",
            "value": " 739/739 [00:00&lt;00:00, 29.4kB/s]"
          }
        },
        "089ba7ebb6b94336a4439c98eb547202": {
          "model_module": "@jupyter-widgets/base",
          "model_name": "LayoutModel",
          "model_module_version": "1.2.0",
          "state": {
            "_model_module": "@jupyter-widgets/base",
            "_model_module_version": "1.2.0",
            "_model_name": "LayoutModel",
            "_view_count": null,
            "_view_module": "@jupyter-widgets/base",
            "_view_module_version": "1.2.0",
            "_view_name": "LayoutView",
            "align_content": null,
            "align_items": null,
            "align_self": null,
            "border": null,
            "bottom": null,
            "display": null,
            "flex": null,
            "flex_flow": null,
            "grid_area": null,
            "grid_auto_columns": null,
            "grid_auto_flow": null,
            "grid_auto_rows": null,
            "grid_column": null,
            "grid_gap": null,
            "grid_row": null,
            "grid_template_areas": null,
            "grid_template_columns": null,
            "grid_template_rows": null,
            "height": null,
            "justify_content": null,
            "justify_items": null,
            "left": null,
            "margin": null,
            "max_height": null,
            "max_width": null,
            "min_height": null,
            "min_width": null,
            "object_fit": null,
            "object_position": null,
            "order": null,
            "overflow": null,
            "overflow_x": null,
            "overflow_y": null,
            "padding": null,
            "right": null,
            "top": null,
            "visibility": null,
            "width": null
          }
        },
        "fbc7e0b93f914b3da5caddb0433adf14": {
          "model_module": "@jupyter-widgets/base",
          "model_name": "LayoutModel",
          "model_module_version": "1.2.0",
          "state": {
            "_model_module": "@jupyter-widgets/base",
            "_model_module_version": "1.2.0",
            "_model_name": "LayoutModel",
            "_view_count": null,
            "_view_module": "@jupyter-widgets/base",
            "_view_module_version": "1.2.0",
            "_view_name": "LayoutView",
            "align_content": null,
            "align_items": null,
            "align_self": null,
            "border": null,
            "bottom": null,
            "display": null,
            "flex": null,
            "flex_flow": null,
            "grid_area": null,
            "grid_auto_columns": null,
            "grid_auto_flow": null,
            "grid_auto_rows": null,
            "grid_column": null,
            "grid_gap": null,
            "grid_row": null,
            "grid_template_areas": null,
            "grid_template_columns": null,
            "grid_template_rows": null,
            "height": null,
            "justify_content": null,
            "justify_items": null,
            "left": null,
            "margin": null,
            "max_height": null,
            "max_width": null,
            "min_height": null,
            "min_width": null,
            "object_fit": null,
            "object_position": null,
            "order": null,
            "overflow": null,
            "overflow_x": null,
            "overflow_y": null,
            "padding": null,
            "right": null,
            "top": null,
            "visibility": null,
            "width": null
          }
        },
        "e7e21a3a3f254fda9218719c42e9b597": {
          "model_module": "@jupyter-widgets/controls",
          "model_name": "DescriptionStyleModel",
          "model_module_version": "1.5.0",
          "state": {
            "_model_module": "@jupyter-widgets/controls",
            "_model_module_version": "1.5.0",
            "_model_name": "DescriptionStyleModel",
            "_view_count": null,
            "_view_module": "@jupyter-widgets/base",
            "_view_module_version": "1.2.0",
            "_view_name": "StyleView",
            "description_width": ""
          }
        },
        "8a37d4caf5394fb9b9df40eb3f401c32": {
          "model_module": "@jupyter-widgets/base",
          "model_name": "LayoutModel",
          "model_module_version": "1.2.0",
          "state": {
            "_model_module": "@jupyter-widgets/base",
            "_model_module_version": "1.2.0",
            "_model_name": "LayoutModel",
            "_view_count": null,
            "_view_module": "@jupyter-widgets/base",
            "_view_module_version": "1.2.0",
            "_view_name": "LayoutView",
            "align_content": null,
            "align_items": null,
            "align_self": null,
            "border": null,
            "bottom": null,
            "display": null,
            "flex": null,
            "flex_flow": null,
            "grid_area": null,
            "grid_auto_columns": null,
            "grid_auto_flow": null,
            "grid_auto_rows": null,
            "grid_column": null,
            "grid_gap": null,
            "grid_row": null,
            "grid_template_areas": null,
            "grid_template_columns": null,
            "grid_template_rows": null,
            "height": null,
            "justify_content": null,
            "justify_items": null,
            "left": null,
            "margin": null,
            "max_height": null,
            "max_width": null,
            "min_height": null,
            "min_width": null,
            "object_fit": null,
            "object_position": null,
            "order": null,
            "overflow": null,
            "overflow_x": null,
            "overflow_y": null,
            "padding": null,
            "right": null,
            "top": null,
            "visibility": null,
            "width": null
          }
        },
        "59ccaabaa98245f78cd8d94c027b1e37": {
          "model_module": "@jupyter-widgets/controls",
          "model_name": "ProgressStyleModel",
          "model_module_version": "1.5.0",
          "state": {
            "_model_module": "@jupyter-widgets/controls",
            "_model_module_version": "1.5.0",
            "_model_name": "ProgressStyleModel",
            "_view_count": null,
            "_view_module": "@jupyter-widgets/base",
            "_view_module_version": "1.2.0",
            "_view_name": "StyleView",
            "bar_color": null,
            "description_width": ""
          }
        },
        "489478d429e14d6885c65e77c1d86175": {
          "model_module": "@jupyter-widgets/base",
          "model_name": "LayoutModel",
          "model_module_version": "1.2.0",
          "state": {
            "_model_module": "@jupyter-widgets/base",
            "_model_module_version": "1.2.0",
            "_model_name": "LayoutModel",
            "_view_count": null,
            "_view_module": "@jupyter-widgets/base",
            "_view_module_version": "1.2.0",
            "_view_name": "LayoutView",
            "align_content": null,
            "align_items": null,
            "align_self": null,
            "border": null,
            "bottom": null,
            "display": null,
            "flex": null,
            "flex_flow": null,
            "grid_area": null,
            "grid_auto_columns": null,
            "grid_auto_flow": null,
            "grid_auto_rows": null,
            "grid_column": null,
            "grid_gap": null,
            "grid_row": null,
            "grid_template_areas": null,
            "grid_template_columns": null,
            "grid_template_rows": null,
            "height": null,
            "justify_content": null,
            "justify_items": null,
            "left": null,
            "margin": null,
            "max_height": null,
            "max_width": null,
            "min_height": null,
            "min_width": null,
            "object_fit": null,
            "object_position": null,
            "order": null,
            "overflow": null,
            "overflow_x": null,
            "overflow_y": null,
            "padding": null,
            "right": null,
            "top": null,
            "visibility": null,
            "width": null
          }
        },
        "f0843b750dff4e64bc4ba95f5558bae4": {
          "model_module": "@jupyter-widgets/controls",
          "model_name": "DescriptionStyleModel",
          "model_module_version": "1.5.0",
          "state": {
            "_model_module": "@jupyter-widgets/controls",
            "_model_module_version": "1.5.0",
            "_model_name": "DescriptionStyleModel",
            "_view_count": null,
            "_view_module": "@jupyter-widgets/base",
            "_view_module_version": "1.2.0",
            "_view_name": "StyleView",
            "description_width": ""
          }
        },
        "21378278588b4c3da606e9dbdb517c40": {
          "model_module": "@jupyter-widgets/controls",
          "model_name": "HBoxModel",
          "model_module_version": "1.5.0",
          "state": {
            "_dom_classes": [],
            "_model_module": "@jupyter-widgets/controls",
            "_model_module_version": "1.5.0",
            "_model_name": "HBoxModel",
            "_view_count": null,
            "_view_module": "@jupyter-widgets/controls",
            "_view_module_version": "1.5.0",
            "_view_name": "HBoxView",
            "box_style": "",
            "children": [
              "IPY_MODEL_5b881d58266c4e76ad37e011808f703b",
              "IPY_MODEL_95c0033fad104ec8a5aaffe89fff65f1",
              "IPY_MODEL_1b7689d6a97c4288aa7ee7d8b9e875c4"
            ],
            "layout": "IPY_MODEL_260be9ac3ad84d34a07eaa959c2e6225"
          }
        },
        "5b881d58266c4e76ad37e011808f703b": {
          "model_module": "@jupyter-widgets/controls",
          "model_name": "HTMLModel",
          "model_module_version": "1.5.0",
          "state": {
            "_dom_classes": [],
            "_model_module": "@jupyter-widgets/controls",
            "_model_module_version": "1.5.0",
            "_model_name": "HTMLModel",
            "_view_count": null,
            "_view_module": "@jupyter-widgets/controls",
            "_view_module_version": "1.5.0",
            "_view_name": "HTMLView",
            "description": "",
            "description_tooltip": null,
            "layout": "IPY_MODEL_42a8f696c9484f87b317979a63c6a312",
            "placeholder": "​",
            "style": "IPY_MODEL_8afd691033744d83a6e9ae4424e4db23",
            "value": "Downloading data files: 100%"
          }
        },
        "95c0033fad104ec8a5aaffe89fff65f1": {
          "model_module": "@jupyter-widgets/controls",
          "model_name": "FloatProgressModel",
          "model_module_version": "1.5.0",
          "state": {
            "_dom_classes": [],
            "_model_module": "@jupyter-widgets/controls",
            "_model_module_version": "1.5.0",
            "_model_name": "FloatProgressModel",
            "_view_count": null,
            "_view_module": "@jupyter-widgets/controls",
            "_view_module_version": "1.5.0",
            "_view_name": "ProgressView",
            "bar_style": "success",
            "description": "",
            "description_tooltip": null,
            "layout": "IPY_MODEL_a822844b108f43ec809ac0fd61863539",
            "max": 2,
            "min": 0,
            "orientation": "horizontal",
            "style": "IPY_MODEL_28496ca28c5d4b35a4b74a0ae703d3f1",
            "value": 2
          }
        },
        "1b7689d6a97c4288aa7ee7d8b9e875c4": {
          "model_module": "@jupyter-widgets/controls",
          "model_name": "HTMLModel",
          "model_module_version": "1.5.0",
          "state": {
            "_dom_classes": [],
            "_model_module": "@jupyter-widgets/controls",
            "_model_module_version": "1.5.0",
            "_model_name": "HTMLModel",
            "_view_count": null,
            "_view_module": "@jupyter-widgets/controls",
            "_view_module_version": "1.5.0",
            "_view_name": "HTMLView",
            "description": "",
            "description_tooltip": null,
            "layout": "IPY_MODEL_c0f382dc6cd54d718f85875914e7d8de",
            "placeholder": "​",
            "style": "IPY_MODEL_2deb4e3d667e4bb680b8bf5e31673bd1",
            "value": " 2/2 [00:05&lt;00:00,  2.89s/it]"
          }
        },
        "260be9ac3ad84d34a07eaa959c2e6225": {
          "model_module": "@jupyter-widgets/base",
          "model_name": "LayoutModel",
          "model_module_version": "1.2.0",
          "state": {
            "_model_module": "@jupyter-widgets/base",
            "_model_module_version": "1.2.0",
            "_model_name": "LayoutModel",
            "_view_count": null,
            "_view_module": "@jupyter-widgets/base",
            "_view_module_version": "1.2.0",
            "_view_name": "LayoutView",
            "align_content": null,
            "align_items": null,
            "align_self": null,
            "border": null,
            "bottom": null,
            "display": null,
            "flex": null,
            "flex_flow": null,
            "grid_area": null,
            "grid_auto_columns": null,
            "grid_auto_flow": null,
            "grid_auto_rows": null,
            "grid_column": null,
            "grid_gap": null,
            "grid_row": null,
            "grid_template_areas": null,
            "grid_template_columns": null,
            "grid_template_rows": null,
            "height": null,
            "justify_content": null,
            "justify_items": null,
            "left": null,
            "margin": null,
            "max_height": null,
            "max_width": null,
            "min_height": null,
            "min_width": null,
            "object_fit": null,
            "object_position": null,
            "order": null,
            "overflow": null,
            "overflow_x": null,
            "overflow_y": null,
            "padding": null,
            "right": null,
            "top": null,
            "visibility": null,
            "width": null
          }
        },
        "42a8f696c9484f87b317979a63c6a312": {
          "model_module": "@jupyter-widgets/base",
          "model_name": "LayoutModel",
          "model_module_version": "1.2.0",
          "state": {
            "_model_module": "@jupyter-widgets/base",
            "_model_module_version": "1.2.0",
            "_model_name": "LayoutModel",
            "_view_count": null,
            "_view_module": "@jupyter-widgets/base",
            "_view_module_version": "1.2.0",
            "_view_name": "LayoutView",
            "align_content": null,
            "align_items": null,
            "align_self": null,
            "border": null,
            "bottom": null,
            "display": null,
            "flex": null,
            "flex_flow": null,
            "grid_area": null,
            "grid_auto_columns": null,
            "grid_auto_flow": null,
            "grid_auto_rows": null,
            "grid_column": null,
            "grid_gap": null,
            "grid_row": null,
            "grid_template_areas": null,
            "grid_template_columns": null,
            "grid_template_rows": null,
            "height": null,
            "justify_content": null,
            "justify_items": null,
            "left": null,
            "margin": null,
            "max_height": null,
            "max_width": null,
            "min_height": null,
            "min_width": null,
            "object_fit": null,
            "object_position": null,
            "order": null,
            "overflow": null,
            "overflow_x": null,
            "overflow_y": null,
            "padding": null,
            "right": null,
            "top": null,
            "visibility": null,
            "width": null
          }
        },
        "8afd691033744d83a6e9ae4424e4db23": {
          "model_module": "@jupyter-widgets/controls",
          "model_name": "DescriptionStyleModel",
          "model_module_version": "1.5.0",
          "state": {
            "_model_module": "@jupyter-widgets/controls",
            "_model_module_version": "1.5.0",
            "_model_name": "DescriptionStyleModel",
            "_view_count": null,
            "_view_module": "@jupyter-widgets/base",
            "_view_module_version": "1.2.0",
            "_view_name": "StyleView",
            "description_width": ""
          }
        },
        "a822844b108f43ec809ac0fd61863539": {
          "model_module": "@jupyter-widgets/base",
          "model_name": "LayoutModel",
          "model_module_version": "1.2.0",
          "state": {
            "_model_module": "@jupyter-widgets/base",
            "_model_module_version": "1.2.0",
            "_model_name": "LayoutModel",
            "_view_count": null,
            "_view_module": "@jupyter-widgets/base",
            "_view_module_version": "1.2.0",
            "_view_name": "LayoutView",
            "align_content": null,
            "align_items": null,
            "align_self": null,
            "border": null,
            "bottom": null,
            "display": null,
            "flex": null,
            "flex_flow": null,
            "grid_area": null,
            "grid_auto_columns": null,
            "grid_auto_flow": null,
            "grid_auto_rows": null,
            "grid_column": null,
            "grid_gap": null,
            "grid_row": null,
            "grid_template_areas": null,
            "grid_template_columns": null,
            "grid_template_rows": null,
            "height": null,
            "justify_content": null,
            "justify_items": null,
            "left": null,
            "margin": null,
            "max_height": null,
            "max_width": null,
            "min_height": null,
            "min_width": null,
            "object_fit": null,
            "object_position": null,
            "order": null,
            "overflow": null,
            "overflow_x": null,
            "overflow_y": null,
            "padding": null,
            "right": null,
            "top": null,
            "visibility": null,
            "width": null
          }
        },
        "28496ca28c5d4b35a4b74a0ae703d3f1": {
          "model_module": "@jupyter-widgets/controls",
          "model_name": "ProgressStyleModel",
          "model_module_version": "1.5.0",
          "state": {
            "_model_module": "@jupyter-widgets/controls",
            "_model_module_version": "1.5.0",
            "_model_name": "ProgressStyleModel",
            "_view_count": null,
            "_view_module": "@jupyter-widgets/base",
            "_view_module_version": "1.2.0",
            "_view_name": "StyleView",
            "bar_color": null,
            "description_width": ""
          }
        },
        "c0f382dc6cd54d718f85875914e7d8de": {
          "model_module": "@jupyter-widgets/base",
          "model_name": "LayoutModel",
          "model_module_version": "1.2.0",
          "state": {
            "_model_module": "@jupyter-widgets/base",
            "_model_module_version": "1.2.0",
            "_model_name": "LayoutModel",
            "_view_count": null,
            "_view_module": "@jupyter-widgets/base",
            "_view_module_version": "1.2.0",
            "_view_name": "LayoutView",
            "align_content": null,
            "align_items": null,
            "align_self": null,
            "border": null,
            "bottom": null,
            "display": null,
            "flex": null,
            "flex_flow": null,
            "grid_area": null,
            "grid_auto_columns": null,
            "grid_auto_flow": null,
            "grid_auto_rows": null,
            "grid_column": null,
            "grid_gap": null,
            "grid_row": null,
            "grid_template_areas": null,
            "grid_template_columns": null,
            "grid_template_rows": null,
            "height": null,
            "justify_content": null,
            "justify_items": null,
            "left": null,
            "margin": null,
            "max_height": null,
            "max_width": null,
            "min_height": null,
            "min_width": null,
            "object_fit": null,
            "object_position": null,
            "order": null,
            "overflow": null,
            "overflow_x": null,
            "overflow_y": null,
            "padding": null,
            "right": null,
            "top": null,
            "visibility": null,
            "width": null
          }
        },
        "2deb4e3d667e4bb680b8bf5e31673bd1": {
          "model_module": "@jupyter-widgets/controls",
          "model_name": "DescriptionStyleModel",
          "model_module_version": "1.5.0",
          "state": {
            "_model_module": "@jupyter-widgets/controls",
            "_model_module_version": "1.5.0",
            "_model_name": "DescriptionStyleModel",
            "_view_count": null,
            "_view_module": "@jupyter-widgets/base",
            "_view_module_version": "1.2.0",
            "_view_name": "StyleView",
            "description_width": ""
          }
        },
        "f51f379bead948f483afd371ca121f29": {
          "model_module": "@jupyter-widgets/controls",
          "model_name": "HBoxModel",
          "model_module_version": "1.5.0",
          "state": {
            "_dom_classes": [],
            "_model_module": "@jupyter-widgets/controls",
            "_model_module_version": "1.5.0",
            "_model_name": "HBoxModel",
            "_view_count": null,
            "_view_module": "@jupyter-widgets/controls",
            "_view_module_version": "1.5.0",
            "_view_name": "HBoxView",
            "box_style": "",
            "children": [
              "IPY_MODEL_ae5c645e9e9b43ee954ff17290957dff",
              "IPY_MODEL_ad05db28b3f74d829d39ae0edd04f6ab",
              "IPY_MODEL_18583d77c8334f42a02f0c36b832bdaf"
            ],
            "layout": "IPY_MODEL_a1708d96f3e74e139dd9b83ada38f02d"
          }
        },
        "ae5c645e9e9b43ee954ff17290957dff": {
          "model_module": "@jupyter-widgets/controls",
          "model_name": "HTMLModel",
          "model_module_version": "1.5.0",
          "state": {
            "_dom_classes": [],
            "_model_module": "@jupyter-widgets/controls",
            "_model_module_version": "1.5.0",
            "_model_name": "HTMLModel",
            "_view_count": null,
            "_view_module": "@jupyter-widgets/controls",
            "_view_module_version": "1.5.0",
            "_view_name": "HTMLView",
            "description": "",
            "description_tooltip": null,
            "layout": "IPY_MODEL_5ac072160f7c45d38820c69e73bebb73",
            "placeholder": "​",
            "style": "IPY_MODEL_180b39e7e3f448d0b2aadbdd4970596a",
            "value": "Downloading data: 100%"
          }
        },
        "ad05db28b3f74d829d39ae0edd04f6ab": {
          "model_module": "@jupyter-widgets/controls",
          "model_name": "FloatProgressModel",
          "model_module_version": "1.5.0",
          "state": {
            "_dom_classes": [],
            "_model_module": "@jupyter-widgets/controls",
            "_model_module_version": "1.5.0",
            "_model_name": "FloatProgressModel",
            "_view_count": null,
            "_view_module": "@jupyter-widgets/controls",
            "_view_module_version": "1.5.0",
            "_view_name": "ProgressView",
            "bar_style": "success",
            "description": "",
            "description_tooltip": null,
            "layout": "IPY_MODEL_4fbede29d4bc42ffad81980eb37ddae6",
            "max": 33611302,
            "min": 0,
            "orientation": "horizontal",
            "style": "IPY_MODEL_f098fee647a44c51804fb7c060d48917",
            "value": 33611302
          }
        },
        "18583d77c8334f42a02f0c36b832bdaf": {
          "model_module": "@jupyter-widgets/controls",
          "model_name": "HTMLModel",
          "model_module_version": "1.5.0",
          "state": {
            "_dom_classes": [],
            "_model_module": "@jupyter-widgets/controls",
            "_model_module_version": "1.5.0",
            "_model_name": "HTMLModel",
            "_view_count": null,
            "_view_module": "@jupyter-widgets/controls",
            "_view_module_version": "1.5.0",
            "_view_name": "HTMLView",
            "description": "",
            "description_tooltip": null,
            "layout": "IPY_MODEL_cdd5eeefadcf487e8da047f637d4c08a",
            "placeholder": "​",
            "style": "IPY_MODEL_092d338646d1487cbd55be7e5eee3065",
            "value": " 33.6M/33.6M [00:00&lt;00:00, 62.1MB/s]"
          }
        },
        "a1708d96f3e74e139dd9b83ada38f02d": {
          "model_module": "@jupyter-widgets/base",
          "model_name": "LayoutModel",
          "model_module_version": "1.2.0",
          "state": {
            "_model_module": "@jupyter-widgets/base",
            "_model_module_version": "1.2.0",
            "_model_name": "LayoutModel",
            "_view_count": null,
            "_view_module": "@jupyter-widgets/base",
            "_view_module_version": "1.2.0",
            "_view_name": "LayoutView",
            "align_content": null,
            "align_items": null,
            "align_self": null,
            "border": null,
            "bottom": null,
            "display": null,
            "flex": null,
            "flex_flow": null,
            "grid_area": null,
            "grid_auto_columns": null,
            "grid_auto_flow": null,
            "grid_auto_rows": null,
            "grid_column": null,
            "grid_gap": null,
            "grid_row": null,
            "grid_template_areas": null,
            "grid_template_columns": null,
            "grid_template_rows": null,
            "height": null,
            "justify_content": null,
            "justify_items": null,
            "left": null,
            "margin": null,
            "max_height": null,
            "max_width": null,
            "min_height": null,
            "min_width": null,
            "object_fit": null,
            "object_position": null,
            "order": null,
            "overflow": null,
            "overflow_x": null,
            "overflow_y": null,
            "padding": null,
            "right": null,
            "top": null,
            "visibility": null,
            "width": null
          }
        },
        "5ac072160f7c45d38820c69e73bebb73": {
          "model_module": "@jupyter-widgets/base",
          "model_name": "LayoutModel",
          "model_module_version": "1.2.0",
          "state": {
            "_model_module": "@jupyter-widgets/base",
            "_model_module_version": "1.2.0",
            "_model_name": "LayoutModel",
            "_view_count": null,
            "_view_module": "@jupyter-widgets/base",
            "_view_module_version": "1.2.0",
            "_view_name": "LayoutView",
            "align_content": null,
            "align_items": null,
            "align_self": null,
            "border": null,
            "bottom": null,
            "display": null,
            "flex": null,
            "flex_flow": null,
            "grid_area": null,
            "grid_auto_columns": null,
            "grid_auto_flow": null,
            "grid_auto_rows": null,
            "grid_column": null,
            "grid_gap": null,
            "grid_row": null,
            "grid_template_areas": null,
            "grid_template_columns": null,
            "grid_template_rows": null,
            "height": null,
            "justify_content": null,
            "justify_items": null,
            "left": null,
            "margin": null,
            "max_height": null,
            "max_width": null,
            "min_height": null,
            "min_width": null,
            "object_fit": null,
            "object_position": null,
            "order": null,
            "overflow": null,
            "overflow_x": null,
            "overflow_y": null,
            "padding": null,
            "right": null,
            "top": null,
            "visibility": null,
            "width": null
          }
        },
        "180b39e7e3f448d0b2aadbdd4970596a": {
          "model_module": "@jupyter-widgets/controls",
          "model_name": "DescriptionStyleModel",
          "model_module_version": "1.5.0",
          "state": {
            "_model_module": "@jupyter-widgets/controls",
            "_model_module_version": "1.5.0",
            "_model_name": "DescriptionStyleModel",
            "_view_count": null,
            "_view_module": "@jupyter-widgets/base",
            "_view_module_version": "1.2.0",
            "_view_name": "StyleView",
            "description_width": ""
          }
        },
        "4fbede29d4bc42ffad81980eb37ddae6": {
          "model_module": "@jupyter-widgets/base",
          "model_name": "LayoutModel",
          "model_module_version": "1.2.0",
          "state": {
            "_model_module": "@jupyter-widgets/base",
            "_model_module_version": "1.2.0",
            "_model_name": "LayoutModel",
            "_view_count": null,
            "_view_module": "@jupyter-widgets/base",
            "_view_module_version": "1.2.0",
            "_view_name": "LayoutView",
            "align_content": null,
            "align_items": null,
            "align_self": null,
            "border": null,
            "bottom": null,
            "display": null,
            "flex": null,
            "flex_flow": null,
            "grid_area": null,
            "grid_auto_columns": null,
            "grid_auto_flow": null,
            "grid_auto_rows": null,
            "grid_column": null,
            "grid_gap": null,
            "grid_row": null,
            "grid_template_areas": null,
            "grid_template_columns": null,
            "grid_template_rows": null,
            "height": null,
            "justify_content": null,
            "justify_items": null,
            "left": null,
            "margin": null,
            "max_height": null,
            "max_width": null,
            "min_height": null,
            "min_width": null,
            "object_fit": null,
            "object_position": null,
            "order": null,
            "overflow": null,
            "overflow_x": null,
            "overflow_y": null,
            "padding": null,
            "right": null,
            "top": null,
            "visibility": null,
            "width": null
          }
        },
        "f098fee647a44c51804fb7c060d48917": {
          "model_module": "@jupyter-widgets/controls",
          "model_name": "ProgressStyleModel",
          "model_module_version": "1.5.0",
          "state": {
            "_model_module": "@jupyter-widgets/controls",
            "_model_module_version": "1.5.0",
            "_model_name": "ProgressStyleModel",
            "_view_count": null,
            "_view_module": "@jupyter-widgets/base",
            "_view_module_version": "1.2.0",
            "_view_name": "StyleView",
            "bar_color": null,
            "description_width": ""
          }
        },
        "cdd5eeefadcf487e8da047f637d4c08a": {
          "model_module": "@jupyter-widgets/base",
          "model_name": "LayoutModel",
          "model_module_version": "1.2.0",
          "state": {
            "_model_module": "@jupyter-widgets/base",
            "_model_module_version": "1.2.0",
            "_model_name": "LayoutModel",
            "_view_count": null,
            "_view_module": "@jupyter-widgets/base",
            "_view_module_version": "1.2.0",
            "_view_name": "LayoutView",
            "align_content": null,
            "align_items": null,
            "align_self": null,
            "border": null,
            "bottom": null,
            "display": null,
            "flex": null,
            "flex_flow": null,
            "grid_area": null,
            "grid_auto_columns": null,
            "grid_auto_flow": null,
            "grid_auto_rows": null,
            "grid_column": null,
            "grid_gap": null,
            "grid_row": null,
            "grid_template_areas": null,
            "grid_template_columns": null,
            "grid_template_rows": null,
            "height": null,
            "justify_content": null,
            "justify_items": null,
            "left": null,
            "margin": null,
            "max_height": null,
            "max_width": null,
            "min_height": null,
            "min_width": null,
            "object_fit": null,
            "object_position": null,
            "order": null,
            "overflow": null,
            "overflow_x": null,
            "overflow_y": null,
            "padding": null,
            "right": null,
            "top": null,
            "visibility": null,
            "width": null
          }
        },
        "092d338646d1487cbd55be7e5eee3065": {
          "model_module": "@jupyter-widgets/controls",
          "model_name": "DescriptionStyleModel",
          "model_module_version": "1.5.0",
          "state": {
            "_model_module": "@jupyter-widgets/controls",
            "_model_module_version": "1.5.0",
            "_model_name": "DescriptionStyleModel",
            "_view_count": null,
            "_view_module": "@jupyter-widgets/base",
            "_view_module_version": "1.2.0",
            "_view_name": "StyleView",
            "description_width": ""
          }
        },
        "851fbc43400a47809116f7f7e9fe934a": {
          "model_module": "@jupyter-widgets/controls",
          "model_name": "HBoxModel",
          "model_module_version": "1.5.0",
          "state": {
            "_dom_classes": [],
            "_model_module": "@jupyter-widgets/controls",
            "_model_module_version": "1.5.0",
            "_model_name": "HBoxModel",
            "_view_count": null,
            "_view_module": "@jupyter-widgets/controls",
            "_view_module_version": "1.5.0",
            "_view_name": "HBoxView",
            "box_style": "",
            "children": [
              "IPY_MODEL_6e2f4bfe2fb1448ba842ba7ce33b7b40",
              "IPY_MODEL_27522dbc950a4e168555b08e8c29619c",
              "IPY_MODEL_34b2a7f58d824b2f8a04fff3ebd66bd3"
            ],
            "layout": "IPY_MODEL_73a61d8e7c9443ffb1e921de18a3bc9d"
          }
        },
        "6e2f4bfe2fb1448ba842ba7ce33b7b40": {
          "model_module": "@jupyter-widgets/controls",
          "model_name": "HTMLModel",
          "model_module_version": "1.5.0",
          "state": {
            "_dom_classes": [],
            "_model_module": "@jupyter-widgets/controls",
            "_model_module_version": "1.5.0",
            "_model_name": "HTMLModel",
            "_view_count": null,
            "_view_module": "@jupyter-widgets/controls",
            "_view_module_version": "1.5.0",
            "_view_name": "HTMLView",
            "description": "",
            "description_tooltip": null,
            "layout": "IPY_MODEL_89893cf169a74d6683272eabf57523dc",
            "placeholder": "​",
            "style": "IPY_MODEL_4db2362579f54a78815a29a9c25b5c86",
            "value": "Downloading data: 100%"
          }
        },
        "27522dbc950a4e168555b08e8c29619c": {
          "model_module": "@jupyter-widgets/controls",
          "model_name": "FloatProgressModel",
          "model_module_version": "1.5.0",
          "state": {
            "_dom_classes": [],
            "_model_module": "@jupyter-widgets/controls",
            "_model_module_version": "1.5.0",
            "_model_name": "FloatProgressModel",
            "_view_count": null,
            "_view_module": "@jupyter-widgets/controls",
            "_view_module_version": "1.5.0",
            "_view_name": "ProgressView",
            "bar_style": "success",
            "description": "",
            "description_tooltip": null,
            "layout": "IPY_MODEL_4370b7813187417fa258745cd86f49ea",
            "max": 131932617,
            "min": 0,
            "orientation": "horizontal",
            "style": "IPY_MODEL_cba2d23ad57e4d3f914f8796599b618f",
            "value": 131932617
          }
        },
        "34b2a7f58d824b2f8a04fff3ebd66bd3": {
          "model_module": "@jupyter-widgets/controls",
          "model_name": "HTMLModel",
          "model_module_version": "1.5.0",
          "state": {
            "_dom_classes": [],
            "_model_module": "@jupyter-widgets/controls",
            "_model_module_version": "1.5.0",
            "_model_name": "HTMLModel",
            "_view_count": null,
            "_view_module": "@jupyter-widgets/controls",
            "_view_module_version": "1.5.0",
            "_view_name": "HTMLView",
            "description": "",
            "description_tooltip": null,
            "layout": "IPY_MODEL_59317a95b6494c1eb6854739855c256d",
            "placeholder": "​",
            "style": "IPY_MODEL_07a5a61586f44fc9a707045fc8152472",
            "value": " 132M/132M [00:03&lt;00:00, 35.9MB/s]"
          }
        },
        "73a61d8e7c9443ffb1e921de18a3bc9d": {
          "model_module": "@jupyter-widgets/base",
          "model_name": "LayoutModel",
          "model_module_version": "1.2.0",
          "state": {
            "_model_module": "@jupyter-widgets/base",
            "_model_module_version": "1.2.0",
            "_model_name": "LayoutModel",
            "_view_count": null,
            "_view_module": "@jupyter-widgets/base",
            "_view_module_version": "1.2.0",
            "_view_name": "LayoutView",
            "align_content": null,
            "align_items": null,
            "align_self": null,
            "border": null,
            "bottom": null,
            "display": null,
            "flex": null,
            "flex_flow": null,
            "grid_area": null,
            "grid_auto_columns": null,
            "grid_auto_flow": null,
            "grid_auto_rows": null,
            "grid_column": null,
            "grid_gap": null,
            "grid_row": null,
            "grid_template_areas": null,
            "grid_template_columns": null,
            "grid_template_rows": null,
            "height": null,
            "justify_content": null,
            "justify_items": null,
            "left": null,
            "margin": null,
            "max_height": null,
            "max_width": null,
            "min_height": null,
            "min_width": null,
            "object_fit": null,
            "object_position": null,
            "order": null,
            "overflow": null,
            "overflow_x": null,
            "overflow_y": null,
            "padding": null,
            "right": null,
            "top": null,
            "visibility": null,
            "width": null
          }
        },
        "89893cf169a74d6683272eabf57523dc": {
          "model_module": "@jupyter-widgets/base",
          "model_name": "LayoutModel",
          "model_module_version": "1.2.0",
          "state": {
            "_model_module": "@jupyter-widgets/base",
            "_model_module_version": "1.2.0",
            "_model_name": "LayoutModel",
            "_view_count": null,
            "_view_module": "@jupyter-widgets/base",
            "_view_module_version": "1.2.0",
            "_view_name": "LayoutView",
            "align_content": null,
            "align_items": null,
            "align_self": null,
            "border": null,
            "bottom": null,
            "display": null,
            "flex": null,
            "flex_flow": null,
            "grid_area": null,
            "grid_auto_columns": null,
            "grid_auto_flow": null,
            "grid_auto_rows": null,
            "grid_column": null,
            "grid_gap": null,
            "grid_row": null,
            "grid_template_areas": null,
            "grid_template_columns": null,
            "grid_template_rows": null,
            "height": null,
            "justify_content": null,
            "justify_items": null,
            "left": null,
            "margin": null,
            "max_height": null,
            "max_width": null,
            "min_height": null,
            "min_width": null,
            "object_fit": null,
            "object_position": null,
            "order": null,
            "overflow": null,
            "overflow_x": null,
            "overflow_y": null,
            "padding": null,
            "right": null,
            "top": null,
            "visibility": null,
            "width": null
          }
        },
        "4db2362579f54a78815a29a9c25b5c86": {
          "model_module": "@jupyter-widgets/controls",
          "model_name": "DescriptionStyleModel",
          "model_module_version": "1.5.0",
          "state": {
            "_model_module": "@jupyter-widgets/controls",
            "_model_module_version": "1.5.0",
            "_model_name": "DescriptionStyleModel",
            "_view_count": null,
            "_view_module": "@jupyter-widgets/base",
            "_view_module_version": "1.2.0",
            "_view_name": "StyleView",
            "description_width": ""
          }
        },
        "4370b7813187417fa258745cd86f49ea": {
          "model_module": "@jupyter-widgets/base",
          "model_name": "LayoutModel",
          "model_module_version": "1.2.0",
          "state": {
            "_model_module": "@jupyter-widgets/base",
            "_model_module_version": "1.2.0",
            "_model_name": "LayoutModel",
            "_view_count": null,
            "_view_module": "@jupyter-widgets/base",
            "_view_module_version": "1.2.0",
            "_view_name": "LayoutView",
            "align_content": null,
            "align_items": null,
            "align_self": null,
            "border": null,
            "bottom": null,
            "display": null,
            "flex": null,
            "flex_flow": null,
            "grid_area": null,
            "grid_auto_columns": null,
            "grid_auto_flow": null,
            "grid_auto_rows": null,
            "grid_column": null,
            "grid_gap": null,
            "grid_row": null,
            "grid_template_areas": null,
            "grid_template_columns": null,
            "grid_template_rows": null,
            "height": null,
            "justify_content": null,
            "justify_items": null,
            "left": null,
            "margin": null,
            "max_height": null,
            "max_width": null,
            "min_height": null,
            "min_width": null,
            "object_fit": null,
            "object_position": null,
            "order": null,
            "overflow": null,
            "overflow_x": null,
            "overflow_y": null,
            "padding": null,
            "right": null,
            "top": null,
            "visibility": null,
            "width": null
          }
        },
        "cba2d23ad57e4d3f914f8796599b618f": {
          "model_module": "@jupyter-widgets/controls",
          "model_name": "ProgressStyleModel",
          "model_module_version": "1.5.0",
          "state": {
            "_model_module": "@jupyter-widgets/controls",
            "_model_module_version": "1.5.0",
            "_model_name": "ProgressStyleModel",
            "_view_count": null,
            "_view_module": "@jupyter-widgets/base",
            "_view_module_version": "1.2.0",
            "_view_name": "StyleView",
            "bar_color": null,
            "description_width": ""
          }
        },
        "59317a95b6494c1eb6854739855c256d": {
          "model_module": "@jupyter-widgets/base",
          "model_name": "LayoutModel",
          "model_module_version": "1.2.0",
          "state": {
            "_model_module": "@jupyter-widgets/base",
            "_model_module_version": "1.2.0",
            "_model_name": "LayoutModel",
            "_view_count": null,
            "_view_module": "@jupyter-widgets/base",
            "_view_module_version": "1.2.0",
            "_view_name": "LayoutView",
            "align_content": null,
            "align_items": null,
            "align_self": null,
            "border": null,
            "bottom": null,
            "display": null,
            "flex": null,
            "flex_flow": null,
            "grid_area": null,
            "grid_auto_columns": null,
            "grid_auto_flow": null,
            "grid_auto_rows": null,
            "grid_column": null,
            "grid_gap": null,
            "grid_row": null,
            "grid_template_areas": null,
            "grid_template_columns": null,
            "grid_template_rows": null,
            "height": null,
            "justify_content": null,
            "justify_items": null,
            "left": null,
            "margin": null,
            "max_height": null,
            "max_width": null,
            "min_height": null,
            "min_width": null,
            "object_fit": null,
            "object_position": null,
            "order": null,
            "overflow": null,
            "overflow_x": null,
            "overflow_y": null,
            "padding": null,
            "right": null,
            "top": null,
            "visibility": null,
            "width": null
          }
        },
        "07a5a61586f44fc9a707045fc8152472": {
          "model_module": "@jupyter-widgets/controls",
          "model_name": "DescriptionStyleModel",
          "model_module_version": "1.5.0",
          "state": {
            "_model_module": "@jupyter-widgets/controls",
            "_model_module_version": "1.5.0",
            "_model_name": "DescriptionStyleModel",
            "_view_count": null,
            "_view_module": "@jupyter-widgets/base",
            "_view_module_version": "1.2.0",
            "_view_name": "StyleView",
            "description_width": ""
          }
        },
        "9dc5cef3f6e24a32b228e1363ff50d1d": {
          "model_module": "@jupyter-widgets/controls",
          "model_name": "HBoxModel",
          "model_module_version": "1.5.0",
          "state": {
            "_dom_classes": [],
            "_model_module": "@jupyter-widgets/controls",
            "_model_module_version": "1.5.0",
            "_model_name": "HBoxModel",
            "_view_count": null,
            "_view_module": "@jupyter-widgets/controls",
            "_view_module_version": "1.5.0",
            "_view_name": "HBoxView",
            "box_style": "",
            "children": [
              "IPY_MODEL_3df5c17471cc40cb9a469335ca2a6625",
              "IPY_MODEL_058beca90fed436da65954b9aa627117",
              "IPY_MODEL_78b5454bd9684fb9aed4b5a91d27b24b"
            ],
            "layout": "IPY_MODEL_f66b06bc8b8349789fe1718b6c921a12"
          }
        },
        "3df5c17471cc40cb9a469335ca2a6625": {
          "model_module": "@jupyter-widgets/controls",
          "model_name": "HTMLModel",
          "model_module_version": "1.5.0",
          "state": {
            "_dom_classes": [],
            "_model_module": "@jupyter-widgets/controls",
            "_model_module_version": "1.5.0",
            "_model_name": "HTMLModel",
            "_view_count": null,
            "_view_module": "@jupyter-widgets/controls",
            "_view_module_version": "1.5.0",
            "_view_name": "HTMLView",
            "description": "",
            "description_tooltip": null,
            "layout": "IPY_MODEL_33dea477846c405d83572f2ec35a833d",
            "placeholder": "​",
            "style": "IPY_MODEL_2a3bdf51a0874a99b6958ff8084ce611",
            "value": "Extracting data files: 100%"
          }
        },
        "058beca90fed436da65954b9aa627117": {
          "model_module": "@jupyter-widgets/controls",
          "model_name": "FloatProgressModel",
          "model_module_version": "1.5.0",
          "state": {
            "_dom_classes": [],
            "_model_module": "@jupyter-widgets/controls",
            "_model_module_version": "1.5.0",
            "_model_name": "FloatProgressModel",
            "_view_count": null,
            "_view_module": "@jupyter-widgets/controls",
            "_view_module_version": "1.5.0",
            "_view_name": "ProgressView",
            "bar_style": "success",
            "description": "",
            "description_tooltip": null,
            "layout": "IPY_MODEL_117c3f6578d540829672df5c994eb38b",
            "max": 2,
            "min": 0,
            "orientation": "horizontal",
            "style": "IPY_MODEL_42a91e348bb94c15be84f811e4c71d56",
            "value": 2
          }
        },
        "78b5454bd9684fb9aed4b5a91d27b24b": {
          "model_module": "@jupyter-widgets/controls",
          "model_name": "HTMLModel",
          "model_module_version": "1.5.0",
          "state": {
            "_dom_classes": [],
            "_model_module": "@jupyter-widgets/controls",
            "_model_module_version": "1.5.0",
            "_model_name": "HTMLModel",
            "_view_count": null,
            "_view_module": "@jupyter-widgets/controls",
            "_view_module_version": "1.5.0",
            "_view_name": "HTMLView",
            "description": "",
            "description_tooltip": null,
            "layout": "IPY_MODEL_1929133f88474facb0104d92e042fee3",
            "placeholder": "​",
            "style": "IPY_MODEL_d7b8ab36651b483a9c043859576a4de8",
            "value": " 2/2 [00:00&lt;00:00, 60.46it/s]"
          }
        },
        "f66b06bc8b8349789fe1718b6c921a12": {
          "model_module": "@jupyter-widgets/base",
          "model_name": "LayoutModel",
          "model_module_version": "1.2.0",
          "state": {
            "_model_module": "@jupyter-widgets/base",
            "_model_module_version": "1.2.0",
            "_model_name": "LayoutModel",
            "_view_count": null,
            "_view_module": "@jupyter-widgets/base",
            "_view_module_version": "1.2.0",
            "_view_name": "LayoutView",
            "align_content": null,
            "align_items": null,
            "align_self": null,
            "border": null,
            "bottom": null,
            "display": null,
            "flex": null,
            "flex_flow": null,
            "grid_area": null,
            "grid_auto_columns": null,
            "grid_auto_flow": null,
            "grid_auto_rows": null,
            "grid_column": null,
            "grid_gap": null,
            "grid_row": null,
            "grid_template_areas": null,
            "grid_template_columns": null,
            "grid_template_rows": null,
            "height": null,
            "justify_content": null,
            "justify_items": null,
            "left": null,
            "margin": null,
            "max_height": null,
            "max_width": null,
            "min_height": null,
            "min_width": null,
            "object_fit": null,
            "object_position": null,
            "order": null,
            "overflow": null,
            "overflow_x": null,
            "overflow_y": null,
            "padding": null,
            "right": null,
            "top": null,
            "visibility": null,
            "width": null
          }
        },
        "33dea477846c405d83572f2ec35a833d": {
          "model_module": "@jupyter-widgets/base",
          "model_name": "LayoutModel",
          "model_module_version": "1.2.0",
          "state": {
            "_model_module": "@jupyter-widgets/base",
            "_model_module_version": "1.2.0",
            "_model_name": "LayoutModel",
            "_view_count": null,
            "_view_module": "@jupyter-widgets/base",
            "_view_module_version": "1.2.0",
            "_view_name": "LayoutView",
            "align_content": null,
            "align_items": null,
            "align_self": null,
            "border": null,
            "bottom": null,
            "display": null,
            "flex": null,
            "flex_flow": null,
            "grid_area": null,
            "grid_auto_columns": null,
            "grid_auto_flow": null,
            "grid_auto_rows": null,
            "grid_column": null,
            "grid_gap": null,
            "grid_row": null,
            "grid_template_areas": null,
            "grid_template_columns": null,
            "grid_template_rows": null,
            "height": null,
            "justify_content": null,
            "justify_items": null,
            "left": null,
            "margin": null,
            "max_height": null,
            "max_width": null,
            "min_height": null,
            "min_width": null,
            "object_fit": null,
            "object_position": null,
            "order": null,
            "overflow": null,
            "overflow_x": null,
            "overflow_y": null,
            "padding": null,
            "right": null,
            "top": null,
            "visibility": null,
            "width": null
          }
        },
        "2a3bdf51a0874a99b6958ff8084ce611": {
          "model_module": "@jupyter-widgets/controls",
          "model_name": "DescriptionStyleModel",
          "model_module_version": "1.5.0",
          "state": {
            "_model_module": "@jupyter-widgets/controls",
            "_model_module_version": "1.5.0",
            "_model_name": "DescriptionStyleModel",
            "_view_count": null,
            "_view_module": "@jupyter-widgets/base",
            "_view_module_version": "1.2.0",
            "_view_name": "StyleView",
            "description_width": ""
          }
        },
        "117c3f6578d540829672df5c994eb38b": {
          "model_module": "@jupyter-widgets/base",
          "model_name": "LayoutModel",
          "model_module_version": "1.2.0",
          "state": {
            "_model_module": "@jupyter-widgets/base",
            "_model_module_version": "1.2.0",
            "_model_name": "LayoutModel",
            "_view_count": null,
            "_view_module": "@jupyter-widgets/base",
            "_view_module_version": "1.2.0",
            "_view_name": "LayoutView",
            "align_content": null,
            "align_items": null,
            "align_self": null,
            "border": null,
            "bottom": null,
            "display": null,
            "flex": null,
            "flex_flow": null,
            "grid_area": null,
            "grid_auto_columns": null,
            "grid_auto_flow": null,
            "grid_auto_rows": null,
            "grid_column": null,
            "grid_gap": null,
            "grid_row": null,
            "grid_template_areas": null,
            "grid_template_columns": null,
            "grid_template_rows": null,
            "height": null,
            "justify_content": null,
            "justify_items": null,
            "left": null,
            "margin": null,
            "max_height": null,
            "max_width": null,
            "min_height": null,
            "min_width": null,
            "object_fit": null,
            "object_position": null,
            "order": null,
            "overflow": null,
            "overflow_x": null,
            "overflow_y": null,
            "padding": null,
            "right": null,
            "top": null,
            "visibility": null,
            "width": null
          }
        },
        "42a91e348bb94c15be84f811e4c71d56": {
          "model_module": "@jupyter-widgets/controls",
          "model_name": "ProgressStyleModel",
          "model_module_version": "1.5.0",
          "state": {
            "_model_module": "@jupyter-widgets/controls",
            "_model_module_version": "1.5.0",
            "_model_name": "ProgressStyleModel",
            "_view_count": null,
            "_view_module": "@jupyter-widgets/base",
            "_view_module_version": "1.2.0",
            "_view_name": "StyleView",
            "bar_color": null,
            "description_width": ""
          }
        },
        "1929133f88474facb0104d92e042fee3": {
          "model_module": "@jupyter-widgets/base",
          "model_name": "LayoutModel",
          "model_module_version": "1.2.0",
          "state": {
            "_model_module": "@jupyter-widgets/base",
            "_model_module_version": "1.2.0",
            "_model_name": "LayoutModel",
            "_view_count": null,
            "_view_module": "@jupyter-widgets/base",
            "_view_module_version": "1.2.0",
            "_view_name": "LayoutView",
            "align_content": null,
            "align_items": null,
            "align_self": null,
            "border": null,
            "bottom": null,
            "display": null,
            "flex": null,
            "flex_flow": null,
            "grid_area": null,
            "grid_auto_columns": null,
            "grid_auto_flow": null,
            "grid_auto_rows": null,
            "grid_column": null,
            "grid_gap": null,
            "grid_row": null,
            "grid_template_areas": null,
            "grid_template_columns": null,
            "grid_template_rows": null,
            "height": null,
            "justify_content": null,
            "justify_items": null,
            "left": null,
            "margin": null,
            "max_height": null,
            "max_width": null,
            "min_height": null,
            "min_width": null,
            "object_fit": null,
            "object_position": null,
            "order": null,
            "overflow": null,
            "overflow_x": null,
            "overflow_y": null,
            "padding": null,
            "right": null,
            "top": null,
            "visibility": null,
            "width": null
          }
        },
        "d7b8ab36651b483a9c043859576a4de8": {
          "model_module": "@jupyter-widgets/controls",
          "model_name": "DescriptionStyleModel",
          "model_module_version": "1.5.0",
          "state": {
            "_model_module": "@jupyter-widgets/controls",
            "_model_module_version": "1.5.0",
            "_model_name": "DescriptionStyleModel",
            "_view_count": null,
            "_view_module": "@jupyter-widgets/base",
            "_view_module_version": "1.2.0",
            "_view_name": "StyleView",
            "description_width": ""
          }
        },
        "4ad96d6a33a647069e3c8242e2fe905d": {
          "model_module": "@jupyter-widgets/controls",
          "model_name": "HBoxModel",
          "model_module_version": "1.5.0",
          "state": {
            "_dom_classes": [],
            "_model_module": "@jupyter-widgets/controls",
            "_model_module_version": "1.5.0",
            "_model_name": "HBoxModel",
            "_view_count": null,
            "_view_module": "@jupyter-widgets/controls",
            "_view_module_version": "1.5.0",
            "_view_name": "HBoxView",
            "box_style": "",
            "children": [
              "IPY_MODEL_30fae5d24b8c427c9b98722269d7b882",
              "IPY_MODEL_a1b5fe62e51742bbb851c78f60fb1304",
              "IPY_MODEL_6a4a52d05e5647bc85ee01cdf52039aa"
            ],
            "layout": "IPY_MODEL_ebf2eb5f75d04069937fa23682567abc"
          }
        },
        "30fae5d24b8c427c9b98722269d7b882": {
          "model_module": "@jupyter-widgets/controls",
          "model_name": "HTMLModel",
          "model_module_version": "1.5.0",
          "state": {
            "_dom_classes": [],
            "_model_module": "@jupyter-widgets/controls",
            "_model_module_version": "1.5.0",
            "_model_name": "HTMLModel",
            "_view_count": null,
            "_view_module": "@jupyter-widgets/controls",
            "_view_module_version": "1.5.0",
            "_view_name": "HTMLView",
            "description": "",
            "description_tooltip": null,
            "layout": "IPY_MODEL_4de7efd3419e4ea4bd341c629161cbec",
            "placeholder": "​",
            "style": "IPY_MODEL_0c823cb9b2164786a669ac5dd38b9bc7",
            "value": ""
          }
        },
        "a1b5fe62e51742bbb851c78f60fb1304": {
          "model_module": "@jupyter-widgets/controls",
          "model_name": "FloatProgressModel",
          "model_module_version": "1.5.0",
          "state": {
            "_dom_classes": [],
            "_model_module": "@jupyter-widgets/controls",
            "_model_module_version": "1.5.0",
            "_model_name": "FloatProgressModel",
            "_view_count": null,
            "_view_module": "@jupyter-widgets/controls",
            "_view_module_version": "1.5.0",
            "_view_name": "ProgressView",
            "bar_style": "info",
            "description": "",
            "description_tooltip": null,
            "layout": "IPY_MODEL_a7aebc35a31b4da0828e1110e5f7db47",
            "max": 1,
            "min": 0,
            "orientation": "horizontal",
            "style": "IPY_MODEL_903a43e293584930a771f3f0b9f3c26d",
            "value": 1
          }
        },
        "6a4a52d05e5647bc85ee01cdf52039aa": {
          "model_module": "@jupyter-widgets/controls",
          "model_name": "HTMLModel",
          "model_module_version": "1.5.0",
          "state": {
            "_dom_classes": [],
            "_model_module": "@jupyter-widgets/controls",
            "_model_module_version": "1.5.0",
            "_model_name": "HTMLModel",
            "_view_count": null,
            "_view_module": "@jupyter-widgets/controls",
            "_view_module_version": "1.5.0",
            "_view_name": "HTMLView",
            "description": "",
            "description_tooltip": null,
            "layout": "IPY_MODEL_d014bb0d31df47b3aaf7719f6d59ef9d",
            "placeholder": "​",
            "style": "IPY_MODEL_fe791ce1cc8d483b9d2d0daccc8a0962",
            "value": " 1/? [00:00&lt;00:00,  3.57 tables/s]"
          }
        },
        "ebf2eb5f75d04069937fa23682567abc": {
          "model_module": "@jupyter-widgets/base",
          "model_name": "LayoutModel",
          "model_module_version": "1.2.0",
          "state": {
            "_model_module": "@jupyter-widgets/base",
            "_model_module_version": "1.2.0",
            "_model_name": "LayoutModel",
            "_view_count": null,
            "_view_module": "@jupyter-widgets/base",
            "_view_module_version": "1.2.0",
            "_view_name": "LayoutView",
            "align_content": null,
            "align_items": null,
            "align_self": null,
            "border": null,
            "bottom": null,
            "display": null,
            "flex": null,
            "flex_flow": null,
            "grid_area": null,
            "grid_auto_columns": null,
            "grid_auto_flow": null,
            "grid_auto_rows": null,
            "grid_column": null,
            "grid_gap": null,
            "grid_row": null,
            "grid_template_areas": null,
            "grid_template_columns": null,
            "grid_template_rows": null,
            "height": null,
            "justify_content": null,
            "justify_items": null,
            "left": null,
            "margin": null,
            "max_height": null,
            "max_width": null,
            "min_height": null,
            "min_width": null,
            "object_fit": null,
            "object_position": null,
            "order": null,
            "overflow": null,
            "overflow_x": null,
            "overflow_y": null,
            "padding": null,
            "right": null,
            "top": null,
            "visibility": null,
            "width": null
          }
        },
        "4de7efd3419e4ea4bd341c629161cbec": {
          "model_module": "@jupyter-widgets/base",
          "model_name": "LayoutModel",
          "model_module_version": "1.2.0",
          "state": {
            "_model_module": "@jupyter-widgets/base",
            "_model_module_version": "1.2.0",
            "_model_name": "LayoutModel",
            "_view_count": null,
            "_view_module": "@jupyter-widgets/base",
            "_view_module_version": "1.2.0",
            "_view_name": "LayoutView",
            "align_content": null,
            "align_items": null,
            "align_self": null,
            "border": null,
            "bottom": null,
            "display": null,
            "flex": null,
            "flex_flow": null,
            "grid_area": null,
            "grid_auto_columns": null,
            "grid_auto_flow": null,
            "grid_auto_rows": null,
            "grid_column": null,
            "grid_gap": null,
            "grid_row": null,
            "grid_template_areas": null,
            "grid_template_columns": null,
            "grid_template_rows": null,
            "height": null,
            "justify_content": null,
            "justify_items": null,
            "left": null,
            "margin": null,
            "max_height": null,
            "max_width": null,
            "min_height": null,
            "min_width": null,
            "object_fit": null,
            "object_position": null,
            "order": null,
            "overflow": null,
            "overflow_x": null,
            "overflow_y": null,
            "padding": null,
            "right": null,
            "top": null,
            "visibility": null,
            "width": null
          }
        },
        "0c823cb9b2164786a669ac5dd38b9bc7": {
          "model_module": "@jupyter-widgets/controls",
          "model_name": "DescriptionStyleModel",
          "model_module_version": "1.5.0",
          "state": {
            "_model_module": "@jupyter-widgets/controls",
            "_model_module_version": "1.5.0",
            "_model_name": "DescriptionStyleModel",
            "_view_count": null,
            "_view_module": "@jupyter-widgets/base",
            "_view_module_version": "1.2.0",
            "_view_name": "StyleView",
            "description_width": ""
          }
        },
        "a7aebc35a31b4da0828e1110e5f7db47": {
          "model_module": "@jupyter-widgets/base",
          "model_name": "LayoutModel",
          "model_module_version": "1.2.0",
          "state": {
            "_model_module": "@jupyter-widgets/base",
            "_model_module_version": "1.2.0",
            "_model_name": "LayoutModel",
            "_view_count": null,
            "_view_module": "@jupyter-widgets/base",
            "_view_module_version": "1.2.0",
            "_view_name": "LayoutView",
            "align_content": null,
            "align_items": null,
            "align_self": null,
            "border": null,
            "bottom": null,
            "display": null,
            "flex": null,
            "flex_flow": null,
            "grid_area": null,
            "grid_auto_columns": null,
            "grid_auto_flow": null,
            "grid_auto_rows": null,
            "grid_column": null,
            "grid_gap": null,
            "grid_row": null,
            "grid_template_areas": null,
            "grid_template_columns": null,
            "grid_template_rows": null,
            "height": null,
            "justify_content": null,
            "justify_items": null,
            "left": null,
            "margin": null,
            "max_height": null,
            "max_width": null,
            "min_height": null,
            "min_width": null,
            "object_fit": null,
            "object_position": null,
            "order": null,
            "overflow": null,
            "overflow_x": null,
            "overflow_y": null,
            "padding": null,
            "right": null,
            "top": null,
            "visibility": null,
            "width": "20px"
          }
        },
        "903a43e293584930a771f3f0b9f3c26d": {
          "model_module": "@jupyter-widgets/controls",
          "model_name": "ProgressStyleModel",
          "model_module_version": "1.5.0",
          "state": {
            "_model_module": "@jupyter-widgets/controls",
            "_model_module_version": "1.5.0",
            "_model_name": "ProgressStyleModel",
            "_view_count": null,
            "_view_module": "@jupyter-widgets/base",
            "_view_module_version": "1.2.0",
            "_view_name": "StyleView",
            "bar_color": null,
            "description_width": ""
          }
        },
        "d014bb0d31df47b3aaf7719f6d59ef9d": {
          "model_module": "@jupyter-widgets/base",
          "model_name": "LayoutModel",
          "model_module_version": "1.2.0",
          "state": {
            "_model_module": "@jupyter-widgets/base",
            "_model_module_version": "1.2.0",
            "_model_name": "LayoutModel",
            "_view_count": null,
            "_view_module": "@jupyter-widgets/base",
            "_view_module_version": "1.2.0",
            "_view_name": "LayoutView",
            "align_content": null,
            "align_items": null,
            "align_self": null,
            "border": null,
            "bottom": null,
            "display": null,
            "flex": null,
            "flex_flow": null,
            "grid_area": null,
            "grid_auto_columns": null,
            "grid_auto_flow": null,
            "grid_auto_rows": null,
            "grid_column": null,
            "grid_gap": null,
            "grid_row": null,
            "grid_template_areas": null,
            "grid_template_columns": null,
            "grid_template_rows": null,
            "height": null,
            "justify_content": null,
            "justify_items": null,
            "left": null,
            "margin": null,
            "max_height": null,
            "max_width": null,
            "min_height": null,
            "min_width": null,
            "object_fit": null,
            "object_position": null,
            "order": null,
            "overflow": null,
            "overflow_x": null,
            "overflow_y": null,
            "padding": null,
            "right": null,
            "top": null,
            "visibility": null,
            "width": null
          }
        },
        "fe791ce1cc8d483b9d2d0daccc8a0962": {
          "model_module": "@jupyter-widgets/controls",
          "model_name": "DescriptionStyleModel",
          "model_module_version": "1.5.0",
          "state": {
            "_model_module": "@jupyter-widgets/controls",
            "_model_module_version": "1.5.0",
            "_model_name": "DescriptionStyleModel",
            "_view_count": null,
            "_view_module": "@jupyter-widgets/base",
            "_view_module_version": "1.2.0",
            "_view_name": "StyleView",
            "description_width": ""
          }
        },
        "7a836c594b814b87a8a551b7c75d890f": {
          "model_module": "@jupyter-widgets/controls",
          "model_name": "HBoxModel",
          "model_module_version": "1.5.0",
          "state": {
            "_dom_classes": [],
            "_model_module": "@jupyter-widgets/controls",
            "_model_module_version": "1.5.0",
            "_model_name": "HBoxModel",
            "_view_count": null,
            "_view_module": "@jupyter-widgets/controls",
            "_view_module_version": "1.5.0",
            "_view_name": "HBoxView",
            "box_style": "",
            "children": [
              "IPY_MODEL_74d28e6f514d4acf8f5ffe53b05c0985",
              "IPY_MODEL_fa94413f41c34472a883fdc0e7fb8288",
              "IPY_MODEL_c175357530bb4642b3c1c30a27d63580"
            ],
            "layout": "IPY_MODEL_355f2876b69b48339f9f468bd3555ad6"
          }
        },
        "74d28e6f514d4acf8f5ffe53b05c0985": {
          "model_module": "@jupyter-widgets/controls",
          "model_name": "HTMLModel",
          "model_module_version": "1.5.0",
          "state": {
            "_dom_classes": [],
            "_model_module": "@jupyter-widgets/controls",
            "_model_module_version": "1.5.0",
            "_model_name": "HTMLModel",
            "_view_count": null,
            "_view_module": "@jupyter-widgets/controls",
            "_view_module_version": "1.5.0",
            "_view_name": "HTMLView",
            "description": "",
            "description_tooltip": null,
            "layout": "IPY_MODEL_86dadf6466294507acf3b28d1620d6a5",
            "placeholder": "​",
            "style": "IPY_MODEL_59c1a1a642f84ebea00f9f7d9bc7f92a",
            "value": ""
          }
        },
        "fa94413f41c34472a883fdc0e7fb8288": {
          "model_module": "@jupyter-widgets/controls",
          "model_name": "FloatProgressModel",
          "model_module_version": "1.5.0",
          "state": {
            "_dom_classes": [],
            "_model_module": "@jupyter-widgets/controls",
            "_model_module_version": "1.5.0",
            "_model_name": "FloatProgressModel",
            "_view_count": null,
            "_view_module": "@jupyter-widgets/controls",
            "_view_module_version": "1.5.0",
            "_view_name": "ProgressView",
            "bar_style": "info",
            "description": "",
            "description_tooltip": null,
            "layout": "IPY_MODEL_c27e4228cf2047ed97be9c41cd0c6c8c",
            "max": 1,
            "min": 0,
            "orientation": "horizontal",
            "style": "IPY_MODEL_c2775b4406194df18f02ffa60ec2234c",
            "value": 1
          }
        },
        "c175357530bb4642b3c1c30a27d63580": {
          "model_module": "@jupyter-widgets/controls",
          "model_name": "HTMLModel",
          "model_module_version": "1.5.0",
          "state": {
            "_dom_classes": [],
            "_model_module": "@jupyter-widgets/controls",
            "_model_module_version": "1.5.0",
            "_model_name": "HTMLModel",
            "_view_count": null,
            "_view_module": "@jupyter-widgets/controls",
            "_view_module_version": "1.5.0",
            "_view_name": "HTMLView",
            "description": "",
            "description_tooltip": null,
            "layout": "IPY_MODEL_368a26d40538446292aa3a3a64df68e0",
            "placeholder": "​",
            "style": "IPY_MODEL_9f5d3fb6ba5240d984a36c345c13168c",
            "value": " 1/? [00:01&lt;00:00,  1.12s/ tables]"
          }
        },
        "355f2876b69b48339f9f468bd3555ad6": {
          "model_module": "@jupyter-widgets/base",
          "model_name": "LayoutModel",
          "model_module_version": "1.2.0",
          "state": {
            "_model_module": "@jupyter-widgets/base",
            "_model_module_version": "1.2.0",
            "_model_name": "LayoutModel",
            "_view_count": null,
            "_view_module": "@jupyter-widgets/base",
            "_view_module_version": "1.2.0",
            "_view_name": "LayoutView",
            "align_content": null,
            "align_items": null,
            "align_self": null,
            "border": null,
            "bottom": null,
            "display": null,
            "flex": null,
            "flex_flow": null,
            "grid_area": null,
            "grid_auto_columns": null,
            "grid_auto_flow": null,
            "grid_auto_rows": null,
            "grid_column": null,
            "grid_gap": null,
            "grid_row": null,
            "grid_template_areas": null,
            "grid_template_columns": null,
            "grid_template_rows": null,
            "height": null,
            "justify_content": null,
            "justify_items": null,
            "left": null,
            "margin": null,
            "max_height": null,
            "max_width": null,
            "min_height": null,
            "min_width": null,
            "object_fit": null,
            "object_position": null,
            "order": null,
            "overflow": null,
            "overflow_x": null,
            "overflow_y": null,
            "padding": null,
            "right": null,
            "top": null,
            "visibility": null,
            "width": null
          }
        },
        "86dadf6466294507acf3b28d1620d6a5": {
          "model_module": "@jupyter-widgets/base",
          "model_name": "LayoutModel",
          "model_module_version": "1.2.0",
          "state": {
            "_model_module": "@jupyter-widgets/base",
            "_model_module_version": "1.2.0",
            "_model_name": "LayoutModel",
            "_view_count": null,
            "_view_module": "@jupyter-widgets/base",
            "_view_module_version": "1.2.0",
            "_view_name": "LayoutView",
            "align_content": null,
            "align_items": null,
            "align_self": null,
            "border": null,
            "bottom": null,
            "display": null,
            "flex": null,
            "flex_flow": null,
            "grid_area": null,
            "grid_auto_columns": null,
            "grid_auto_flow": null,
            "grid_auto_rows": null,
            "grid_column": null,
            "grid_gap": null,
            "grid_row": null,
            "grid_template_areas": null,
            "grid_template_columns": null,
            "grid_template_rows": null,
            "height": null,
            "justify_content": null,
            "justify_items": null,
            "left": null,
            "margin": null,
            "max_height": null,
            "max_width": null,
            "min_height": null,
            "min_width": null,
            "object_fit": null,
            "object_position": null,
            "order": null,
            "overflow": null,
            "overflow_x": null,
            "overflow_y": null,
            "padding": null,
            "right": null,
            "top": null,
            "visibility": null,
            "width": null
          }
        },
        "59c1a1a642f84ebea00f9f7d9bc7f92a": {
          "model_module": "@jupyter-widgets/controls",
          "model_name": "DescriptionStyleModel",
          "model_module_version": "1.5.0",
          "state": {
            "_model_module": "@jupyter-widgets/controls",
            "_model_module_version": "1.5.0",
            "_model_name": "DescriptionStyleModel",
            "_view_count": null,
            "_view_module": "@jupyter-widgets/base",
            "_view_module_version": "1.2.0",
            "_view_name": "StyleView",
            "description_width": ""
          }
        },
        "c27e4228cf2047ed97be9c41cd0c6c8c": {
          "model_module": "@jupyter-widgets/base",
          "model_name": "LayoutModel",
          "model_module_version": "1.2.0",
          "state": {
            "_model_module": "@jupyter-widgets/base",
            "_model_module_version": "1.2.0",
            "_model_name": "LayoutModel",
            "_view_count": null,
            "_view_module": "@jupyter-widgets/base",
            "_view_module_version": "1.2.0",
            "_view_name": "LayoutView",
            "align_content": null,
            "align_items": null,
            "align_self": null,
            "border": null,
            "bottom": null,
            "display": null,
            "flex": null,
            "flex_flow": null,
            "grid_area": null,
            "grid_auto_columns": null,
            "grid_auto_flow": null,
            "grid_auto_rows": null,
            "grid_column": null,
            "grid_gap": null,
            "grid_row": null,
            "grid_template_areas": null,
            "grid_template_columns": null,
            "grid_template_rows": null,
            "height": null,
            "justify_content": null,
            "justify_items": null,
            "left": null,
            "margin": null,
            "max_height": null,
            "max_width": null,
            "min_height": null,
            "min_width": null,
            "object_fit": null,
            "object_position": null,
            "order": null,
            "overflow": null,
            "overflow_x": null,
            "overflow_y": null,
            "padding": null,
            "right": null,
            "top": null,
            "visibility": null,
            "width": "20px"
          }
        },
        "c2775b4406194df18f02ffa60ec2234c": {
          "model_module": "@jupyter-widgets/controls",
          "model_name": "ProgressStyleModel",
          "model_module_version": "1.5.0",
          "state": {
            "_model_module": "@jupyter-widgets/controls",
            "_model_module_version": "1.5.0",
            "_model_name": "ProgressStyleModel",
            "_view_count": null,
            "_view_module": "@jupyter-widgets/base",
            "_view_module_version": "1.2.0",
            "_view_name": "StyleView",
            "bar_color": null,
            "description_width": ""
          }
        },
        "368a26d40538446292aa3a3a64df68e0": {
          "model_module": "@jupyter-widgets/base",
          "model_name": "LayoutModel",
          "model_module_version": "1.2.0",
          "state": {
            "_model_module": "@jupyter-widgets/base",
            "_model_module_version": "1.2.0",
            "_model_name": "LayoutModel",
            "_view_count": null,
            "_view_module": "@jupyter-widgets/base",
            "_view_module_version": "1.2.0",
            "_view_name": "LayoutView",
            "align_content": null,
            "align_items": null,
            "align_self": null,
            "border": null,
            "bottom": null,
            "display": null,
            "flex": null,
            "flex_flow": null,
            "grid_area": null,
            "grid_auto_columns": null,
            "grid_auto_flow": null,
            "grid_auto_rows": null,
            "grid_column": null,
            "grid_gap": null,
            "grid_row": null,
            "grid_template_areas": null,
            "grid_template_columns": null,
            "grid_template_rows": null,
            "height": null,
            "justify_content": null,
            "justify_items": null,
            "left": null,
            "margin": null,
            "max_height": null,
            "max_width": null,
            "min_height": null,
            "min_width": null,
            "object_fit": null,
            "object_position": null,
            "order": null,
            "overflow": null,
            "overflow_x": null,
            "overflow_y": null,
            "padding": null,
            "right": null,
            "top": null,
            "visibility": null,
            "width": null
          }
        },
        "9f5d3fb6ba5240d984a36c345c13168c": {
          "model_module": "@jupyter-widgets/controls",
          "model_name": "DescriptionStyleModel",
          "model_module_version": "1.5.0",
          "state": {
            "_model_module": "@jupyter-widgets/controls",
            "_model_module_version": "1.5.0",
            "_model_name": "DescriptionStyleModel",
            "_view_count": null,
            "_view_module": "@jupyter-widgets/base",
            "_view_module_version": "1.2.0",
            "_view_name": "StyleView",
            "description_width": ""
          }
        },
        "17dbf752a0c849c1b8e66ea9ca51eec3": {
          "model_module": "@jupyter-widgets/controls",
          "model_name": "HBoxModel",
          "model_module_version": "1.5.0",
          "state": {
            "_dom_classes": [],
            "_model_module": "@jupyter-widgets/controls",
            "_model_module_version": "1.5.0",
            "_model_name": "HBoxModel",
            "_view_count": null,
            "_view_module": "@jupyter-widgets/controls",
            "_view_module_version": "1.5.0",
            "_view_name": "HBoxView",
            "box_style": "",
            "children": [
              "IPY_MODEL_08ab1a42cfce48189990378b8ab8782c",
              "IPY_MODEL_923554c7a5884664812d9776a4660a7d",
              "IPY_MODEL_fbf0af3d05a9458f924f05ab2cdfd343"
            ],
            "layout": "IPY_MODEL_51880b454bb94ddcb99495f5fc555813"
          }
        },
        "08ab1a42cfce48189990378b8ab8782c": {
          "model_module": "@jupyter-widgets/controls",
          "model_name": "HTMLModel",
          "model_module_version": "1.5.0",
          "state": {
            "_dom_classes": [],
            "_model_module": "@jupyter-widgets/controls",
            "_model_module_version": "1.5.0",
            "_model_name": "HTMLModel",
            "_view_count": null,
            "_view_module": "@jupyter-widgets/controls",
            "_view_module_version": "1.5.0",
            "_view_name": "HTMLView",
            "description": "",
            "description_tooltip": null,
            "layout": "IPY_MODEL_04e5ea1fa39c41d08afb7869c3d8f9c8",
            "placeholder": "​",
            "style": "IPY_MODEL_34c2cf7fb9984ff189f971772d7a7ad4",
            "value": "100%"
          }
        },
        "923554c7a5884664812d9776a4660a7d": {
          "model_module": "@jupyter-widgets/controls",
          "model_name": "FloatProgressModel",
          "model_module_version": "1.5.0",
          "state": {
            "_dom_classes": [],
            "_model_module": "@jupyter-widgets/controls",
            "_model_module_version": "1.5.0",
            "_model_name": "FloatProgressModel",
            "_view_count": null,
            "_view_module": "@jupyter-widgets/controls",
            "_view_module_version": "1.5.0",
            "_view_name": "ProgressView",
            "bar_style": "success",
            "description": "",
            "description_tooltip": null,
            "layout": "IPY_MODEL_3cf9f84c43e04e3fb837c2fe9f5436b6",
            "max": 2,
            "min": 0,
            "orientation": "horizontal",
            "style": "IPY_MODEL_26df4b86b0c14fe2b8d029228bf4b472",
            "value": 2
          }
        },
        "fbf0af3d05a9458f924f05ab2cdfd343": {
          "model_module": "@jupyter-widgets/controls",
          "model_name": "HTMLModel",
          "model_module_version": "1.5.0",
          "state": {
            "_dom_classes": [],
            "_model_module": "@jupyter-widgets/controls",
            "_model_module_version": "1.5.0",
            "_model_name": "HTMLModel",
            "_view_count": null,
            "_view_module": "@jupyter-widgets/controls",
            "_view_module_version": "1.5.0",
            "_view_name": "HTMLView",
            "description": "",
            "description_tooltip": null,
            "layout": "IPY_MODEL_919b3bda697649d7adfd79cc3cdd52f5",
            "placeholder": "​",
            "style": "IPY_MODEL_c3baaaf2575443ebb1974541473f5de1",
            "value": " 2/2 [00:00&lt;00:00, 43.15it/s]"
          }
        },
        "51880b454bb94ddcb99495f5fc555813": {
          "model_module": "@jupyter-widgets/base",
          "model_name": "LayoutModel",
          "model_module_version": "1.2.0",
          "state": {
            "_model_module": "@jupyter-widgets/base",
            "_model_module_version": "1.2.0",
            "_model_name": "LayoutModel",
            "_view_count": null,
            "_view_module": "@jupyter-widgets/base",
            "_view_module_version": "1.2.0",
            "_view_name": "LayoutView",
            "align_content": null,
            "align_items": null,
            "align_self": null,
            "border": null,
            "bottom": null,
            "display": null,
            "flex": null,
            "flex_flow": null,
            "grid_area": null,
            "grid_auto_columns": null,
            "grid_auto_flow": null,
            "grid_auto_rows": null,
            "grid_column": null,
            "grid_gap": null,
            "grid_row": null,
            "grid_template_areas": null,
            "grid_template_columns": null,
            "grid_template_rows": null,
            "height": null,
            "justify_content": null,
            "justify_items": null,
            "left": null,
            "margin": null,
            "max_height": null,
            "max_width": null,
            "min_height": null,
            "min_width": null,
            "object_fit": null,
            "object_position": null,
            "order": null,
            "overflow": null,
            "overflow_x": null,
            "overflow_y": null,
            "padding": null,
            "right": null,
            "top": null,
            "visibility": null,
            "width": null
          }
        },
        "04e5ea1fa39c41d08afb7869c3d8f9c8": {
          "model_module": "@jupyter-widgets/base",
          "model_name": "LayoutModel",
          "model_module_version": "1.2.0",
          "state": {
            "_model_module": "@jupyter-widgets/base",
            "_model_module_version": "1.2.0",
            "_model_name": "LayoutModel",
            "_view_count": null,
            "_view_module": "@jupyter-widgets/base",
            "_view_module_version": "1.2.0",
            "_view_name": "LayoutView",
            "align_content": null,
            "align_items": null,
            "align_self": null,
            "border": null,
            "bottom": null,
            "display": null,
            "flex": null,
            "flex_flow": null,
            "grid_area": null,
            "grid_auto_columns": null,
            "grid_auto_flow": null,
            "grid_auto_rows": null,
            "grid_column": null,
            "grid_gap": null,
            "grid_row": null,
            "grid_template_areas": null,
            "grid_template_columns": null,
            "grid_template_rows": null,
            "height": null,
            "justify_content": null,
            "justify_items": null,
            "left": null,
            "margin": null,
            "max_height": null,
            "max_width": null,
            "min_height": null,
            "min_width": null,
            "object_fit": null,
            "object_position": null,
            "order": null,
            "overflow": null,
            "overflow_x": null,
            "overflow_y": null,
            "padding": null,
            "right": null,
            "top": null,
            "visibility": null,
            "width": null
          }
        },
        "34c2cf7fb9984ff189f971772d7a7ad4": {
          "model_module": "@jupyter-widgets/controls",
          "model_name": "DescriptionStyleModel",
          "model_module_version": "1.5.0",
          "state": {
            "_model_module": "@jupyter-widgets/controls",
            "_model_module_version": "1.5.0",
            "_model_name": "DescriptionStyleModel",
            "_view_count": null,
            "_view_module": "@jupyter-widgets/base",
            "_view_module_version": "1.2.0",
            "_view_name": "StyleView",
            "description_width": ""
          }
        },
        "3cf9f84c43e04e3fb837c2fe9f5436b6": {
          "model_module": "@jupyter-widgets/base",
          "model_name": "LayoutModel",
          "model_module_version": "1.2.0",
          "state": {
            "_model_module": "@jupyter-widgets/base",
            "_model_module_version": "1.2.0",
            "_model_name": "LayoutModel",
            "_view_count": null,
            "_view_module": "@jupyter-widgets/base",
            "_view_module_version": "1.2.0",
            "_view_name": "LayoutView",
            "align_content": null,
            "align_items": null,
            "align_self": null,
            "border": null,
            "bottom": null,
            "display": null,
            "flex": null,
            "flex_flow": null,
            "grid_area": null,
            "grid_auto_columns": null,
            "grid_auto_flow": null,
            "grid_auto_rows": null,
            "grid_column": null,
            "grid_gap": null,
            "grid_row": null,
            "grid_template_areas": null,
            "grid_template_columns": null,
            "grid_template_rows": null,
            "height": null,
            "justify_content": null,
            "justify_items": null,
            "left": null,
            "margin": null,
            "max_height": null,
            "max_width": null,
            "min_height": null,
            "min_width": null,
            "object_fit": null,
            "object_position": null,
            "order": null,
            "overflow": null,
            "overflow_x": null,
            "overflow_y": null,
            "padding": null,
            "right": null,
            "top": null,
            "visibility": null,
            "width": null
          }
        },
        "26df4b86b0c14fe2b8d029228bf4b472": {
          "model_module": "@jupyter-widgets/controls",
          "model_name": "ProgressStyleModel",
          "model_module_version": "1.5.0",
          "state": {
            "_model_module": "@jupyter-widgets/controls",
            "_model_module_version": "1.5.0",
            "_model_name": "ProgressStyleModel",
            "_view_count": null,
            "_view_module": "@jupyter-widgets/base",
            "_view_module_version": "1.2.0",
            "_view_name": "StyleView",
            "bar_color": null,
            "description_width": ""
          }
        },
        "919b3bda697649d7adfd79cc3cdd52f5": {
          "model_module": "@jupyter-widgets/base",
          "model_name": "LayoutModel",
          "model_module_version": "1.2.0",
          "state": {
            "_model_module": "@jupyter-widgets/base",
            "_model_module_version": "1.2.0",
            "_model_name": "LayoutModel",
            "_view_count": null,
            "_view_module": "@jupyter-widgets/base",
            "_view_module_version": "1.2.0",
            "_view_name": "LayoutView",
            "align_content": null,
            "align_items": null,
            "align_self": null,
            "border": null,
            "bottom": null,
            "display": null,
            "flex": null,
            "flex_flow": null,
            "grid_area": null,
            "grid_auto_columns": null,
            "grid_auto_flow": null,
            "grid_auto_rows": null,
            "grid_column": null,
            "grid_gap": null,
            "grid_row": null,
            "grid_template_areas": null,
            "grid_template_columns": null,
            "grid_template_rows": null,
            "height": null,
            "justify_content": null,
            "justify_items": null,
            "left": null,
            "margin": null,
            "max_height": null,
            "max_width": null,
            "min_height": null,
            "min_width": null,
            "object_fit": null,
            "object_position": null,
            "order": null,
            "overflow": null,
            "overflow_x": null,
            "overflow_y": null,
            "padding": null,
            "right": null,
            "top": null,
            "visibility": null,
            "width": null
          }
        },
        "c3baaaf2575443ebb1974541473f5de1": {
          "model_module": "@jupyter-widgets/controls",
          "model_name": "DescriptionStyleModel",
          "model_module_version": "1.5.0",
          "state": {
            "_model_module": "@jupyter-widgets/controls",
            "_model_module_version": "1.5.0",
            "_model_name": "DescriptionStyleModel",
            "_view_count": null,
            "_view_module": "@jupyter-widgets/base",
            "_view_module_version": "1.2.0",
            "_view_name": "StyleView",
            "description_width": ""
          }
        },
        "5d1649538d344bbdada84f90b48efe5c": {
          "model_module": "@jupyter-widgets/controls",
          "model_name": "HBoxModel",
          "model_module_version": "1.5.0",
          "state": {
            "_dom_classes": [],
            "_model_module": "@jupyter-widgets/controls",
            "_model_module_version": "1.5.0",
            "_model_name": "HBoxModel",
            "_view_count": null,
            "_view_module": "@jupyter-widgets/controls",
            "_view_module_version": "1.5.0",
            "_view_name": "HBoxView",
            "box_style": "",
            "children": [
              "IPY_MODEL_51bb4bbbb1f14d57b4c74b14b74c357a",
              "IPY_MODEL_a15d8974fb7943d5891464f77f37dbb4",
              "IPY_MODEL_aea72b634b6e4401847de18358043fbb"
            ],
            "layout": "IPY_MODEL_28530e5c34c24a96bf1a6e82794218f1"
          }
        },
        "51bb4bbbb1f14d57b4c74b14b74c357a": {
          "model_module": "@jupyter-widgets/controls",
          "model_name": "HTMLModel",
          "model_module_version": "1.5.0",
          "state": {
            "_dom_classes": [],
            "_model_module": "@jupyter-widgets/controls",
            "_model_module_version": "1.5.0",
            "_model_name": "HTMLModel",
            "_view_count": null,
            "_view_module": "@jupyter-widgets/controls",
            "_view_module_version": "1.5.0",
            "_view_name": "HTMLView",
            "description": "",
            "description_tooltip": null,
            "layout": "IPY_MODEL_bf888ded567941a7a990371c742a00bb",
            "placeholder": "​",
            "style": "IPY_MODEL_7c9e40dc77254f3d8f0a94828c57d2c7",
            "value": "Downloading tokenizer.json: 100%"
          }
        },
        "a15d8974fb7943d5891464f77f37dbb4": {
          "model_module": "@jupyter-widgets/controls",
          "model_name": "FloatProgressModel",
          "model_module_version": "1.5.0",
          "state": {
            "_dom_classes": [],
            "_model_module": "@jupyter-widgets/controls",
            "_model_module_version": "1.5.0",
            "_model_name": "FloatProgressModel",
            "_view_count": null,
            "_view_module": "@jupyter-widgets/controls",
            "_view_module_version": "1.5.0",
            "_view_name": "ProgressView",
            "bar_style": "success",
            "description": "",
            "description_tooltip": null,
            "layout": "IPY_MODEL_de43be8cc39e42428cd3496d178ead46",
            "max": 1355863,
            "min": 0,
            "orientation": "horizontal",
            "style": "IPY_MODEL_6132afd2aa964e9f93f878afbe0e335d",
            "value": 1355863
          }
        },
        "aea72b634b6e4401847de18358043fbb": {
          "model_module": "@jupyter-widgets/controls",
          "model_name": "HTMLModel",
          "model_module_version": "1.5.0",
          "state": {
            "_dom_classes": [],
            "_model_module": "@jupyter-widgets/controls",
            "_model_module_version": "1.5.0",
            "_model_name": "HTMLModel",
            "_view_count": null,
            "_view_module": "@jupyter-widgets/controls",
            "_view_module_version": "1.5.0",
            "_view_name": "HTMLView",
            "description": "",
            "description_tooltip": null,
            "layout": "IPY_MODEL_4f885499994f4cb6b3c8fb976eec345d",
            "placeholder": "​",
            "style": "IPY_MODEL_ef453ce7a5584f5299b8625c67575beb",
            "value": " 1.29M/1.29M [00:00&lt;00:00, 1.96MB/s]"
          }
        },
        "28530e5c34c24a96bf1a6e82794218f1": {
          "model_module": "@jupyter-widgets/base",
          "model_name": "LayoutModel",
          "model_module_version": "1.2.0",
          "state": {
            "_model_module": "@jupyter-widgets/base",
            "_model_module_version": "1.2.0",
            "_model_name": "LayoutModel",
            "_view_count": null,
            "_view_module": "@jupyter-widgets/base",
            "_view_module_version": "1.2.0",
            "_view_name": "LayoutView",
            "align_content": null,
            "align_items": null,
            "align_self": null,
            "border": null,
            "bottom": null,
            "display": null,
            "flex": null,
            "flex_flow": null,
            "grid_area": null,
            "grid_auto_columns": null,
            "grid_auto_flow": null,
            "grid_auto_rows": null,
            "grid_column": null,
            "grid_gap": null,
            "grid_row": null,
            "grid_template_areas": null,
            "grid_template_columns": null,
            "grid_template_rows": null,
            "height": null,
            "justify_content": null,
            "justify_items": null,
            "left": null,
            "margin": null,
            "max_height": null,
            "max_width": null,
            "min_height": null,
            "min_width": null,
            "object_fit": null,
            "object_position": null,
            "order": null,
            "overflow": null,
            "overflow_x": null,
            "overflow_y": null,
            "padding": null,
            "right": null,
            "top": null,
            "visibility": null,
            "width": null
          }
        },
        "bf888ded567941a7a990371c742a00bb": {
          "model_module": "@jupyter-widgets/base",
          "model_name": "LayoutModel",
          "model_module_version": "1.2.0",
          "state": {
            "_model_module": "@jupyter-widgets/base",
            "_model_module_version": "1.2.0",
            "_model_name": "LayoutModel",
            "_view_count": null,
            "_view_module": "@jupyter-widgets/base",
            "_view_module_version": "1.2.0",
            "_view_name": "LayoutView",
            "align_content": null,
            "align_items": null,
            "align_self": null,
            "border": null,
            "bottom": null,
            "display": null,
            "flex": null,
            "flex_flow": null,
            "grid_area": null,
            "grid_auto_columns": null,
            "grid_auto_flow": null,
            "grid_auto_rows": null,
            "grid_column": null,
            "grid_gap": null,
            "grid_row": null,
            "grid_template_areas": null,
            "grid_template_columns": null,
            "grid_template_rows": null,
            "height": null,
            "justify_content": null,
            "justify_items": null,
            "left": null,
            "margin": null,
            "max_height": null,
            "max_width": null,
            "min_height": null,
            "min_width": null,
            "object_fit": null,
            "object_position": null,
            "order": null,
            "overflow": null,
            "overflow_x": null,
            "overflow_y": null,
            "padding": null,
            "right": null,
            "top": null,
            "visibility": null,
            "width": null
          }
        },
        "7c9e40dc77254f3d8f0a94828c57d2c7": {
          "model_module": "@jupyter-widgets/controls",
          "model_name": "DescriptionStyleModel",
          "model_module_version": "1.5.0",
          "state": {
            "_model_module": "@jupyter-widgets/controls",
            "_model_module_version": "1.5.0",
            "_model_name": "DescriptionStyleModel",
            "_view_count": null,
            "_view_module": "@jupyter-widgets/base",
            "_view_module_version": "1.2.0",
            "_view_name": "StyleView",
            "description_width": ""
          }
        },
        "de43be8cc39e42428cd3496d178ead46": {
          "model_module": "@jupyter-widgets/base",
          "model_name": "LayoutModel",
          "model_module_version": "1.2.0",
          "state": {
            "_model_module": "@jupyter-widgets/base",
            "_model_module_version": "1.2.0",
            "_model_name": "LayoutModel",
            "_view_count": null,
            "_view_module": "@jupyter-widgets/base",
            "_view_module_version": "1.2.0",
            "_view_name": "LayoutView",
            "align_content": null,
            "align_items": null,
            "align_self": null,
            "border": null,
            "bottom": null,
            "display": null,
            "flex": null,
            "flex_flow": null,
            "grid_area": null,
            "grid_auto_columns": null,
            "grid_auto_flow": null,
            "grid_auto_rows": null,
            "grid_column": null,
            "grid_gap": null,
            "grid_row": null,
            "grid_template_areas": null,
            "grid_template_columns": null,
            "grid_template_rows": null,
            "height": null,
            "justify_content": null,
            "justify_items": null,
            "left": null,
            "margin": null,
            "max_height": null,
            "max_width": null,
            "min_height": null,
            "min_width": null,
            "object_fit": null,
            "object_position": null,
            "order": null,
            "overflow": null,
            "overflow_x": null,
            "overflow_y": null,
            "padding": null,
            "right": null,
            "top": null,
            "visibility": null,
            "width": null
          }
        },
        "6132afd2aa964e9f93f878afbe0e335d": {
          "model_module": "@jupyter-widgets/controls",
          "model_name": "ProgressStyleModel",
          "model_module_version": "1.5.0",
          "state": {
            "_model_module": "@jupyter-widgets/controls",
            "_model_module_version": "1.5.0",
            "_model_name": "ProgressStyleModel",
            "_view_count": null,
            "_view_module": "@jupyter-widgets/base",
            "_view_module_version": "1.2.0",
            "_view_name": "StyleView",
            "bar_color": null,
            "description_width": ""
          }
        },
        "4f885499994f4cb6b3c8fb976eec345d": {
          "model_module": "@jupyter-widgets/base",
          "model_name": "LayoutModel",
          "model_module_version": "1.2.0",
          "state": {
            "_model_module": "@jupyter-widgets/base",
            "_model_module_version": "1.2.0",
            "_model_name": "LayoutModel",
            "_view_count": null,
            "_view_module": "@jupyter-widgets/base",
            "_view_module_version": "1.2.0",
            "_view_name": "LayoutView",
            "align_content": null,
            "align_items": null,
            "align_self": null,
            "border": null,
            "bottom": null,
            "display": null,
            "flex": null,
            "flex_flow": null,
            "grid_area": null,
            "grid_auto_columns": null,
            "grid_auto_flow": null,
            "grid_auto_rows": null,
            "grid_column": null,
            "grid_gap": null,
            "grid_row": null,
            "grid_template_areas": null,
            "grid_template_columns": null,
            "grid_template_rows": null,
            "height": null,
            "justify_content": null,
            "justify_items": null,
            "left": null,
            "margin": null,
            "max_height": null,
            "max_width": null,
            "min_height": null,
            "min_width": null,
            "object_fit": null,
            "object_position": null,
            "order": null,
            "overflow": null,
            "overflow_x": null,
            "overflow_y": null,
            "padding": null,
            "right": null,
            "top": null,
            "visibility": null,
            "width": null
          }
        },
        "ef453ce7a5584f5299b8625c67575beb": {
          "model_module": "@jupyter-widgets/controls",
          "model_name": "DescriptionStyleModel",
          "model_module_version": "1.5.0",
          "state": {
            "_model_module": "@jupyter-widgets/controls",
            "_model_module_version": "1.5.0",
            "_model_name": "DescriptionStyleModel",
            "_view_count": null,
            "_view_module": "@jupyter-widgets/base",
            "_view_module_version": "1.2.0",
            "_view_name": "StyleView",
            "description_width": ""
          }
        }
      }
    }
  },
  "nbformat": 4,
  "nbformat_minor": 0
}