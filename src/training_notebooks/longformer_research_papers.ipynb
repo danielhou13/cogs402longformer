{
 "cells": [
  {
   "cell_type": "code",
   "execution_count": 2,
   "id": "08bba816-6364-4b40-ba29-a22a8bb9e964",
   "metadata": {},
   "outputs": [
    {
     "name": "stdout",
     "output_type": "stream",
     "text": [
      "C:\\Users\\danie\\Documents\\COGS402\\cogs402longformer\\src\n",
      "C:\\Users\\danie\\Documents\\COGS402\\cogs402longformer\n"
     ]
    }
   ],
   "source": [
    "import os\n",
    "print(os.getcwd())\n",
    "path_parent = os.path.dirname(os.getcwd())\n",
    "os.chdir(path_parent)\n",
    "print(os.getcwd())\n",
    "\n",
    "path_parent = os.path.dirname(os.getcwd())\n",
    "os.chdir(path_parent)\n",
    "print(os.getcwd())"
   ]
  },
  {
   "cell_type": "markdown",
   "id": "0bd42335-c93f-4627-9d9f-500e811119c7",
   "metadata": {},
   "source": [
    "This notebook contains the training pipeline for the research papers custom dataset. Specifically, this notebook serves to train the [BERT](https://huggingface.co/bert-base-cased) model as a baseline to compare against the longformer model we train. To train on our custom dataset, we import the bert-base-cased tokenizer and the base model from the [Huggingface Hub] (https://huggingface.co/bert-base-cased) in order to fine-tune the model for our needs. The dataset used is a .csv file stored in the cogs402longformer/data folder, and this notebook includes steps for importing the model into the huggingface hub for easy use in other notebooks/projects. After fine-tuning the model, we will evaluate the model's performance and push the model into huggingface for use in other notebooks/projects."
   ]
  },
  {
   "cell_type": "markdown",
   "id": "9a4c14be-f567-49a0-94de-02fea10d568a",
   "metadata": {},
   "source": [
    "## Import model, tokenizer, and datasets"
   ]
  },
  {
   "cell_type": "markdown",
   "id": "b9fc435f-6101-43d7-9b9e-42f4e3d4720c",
   "metadata": {},
   "source": [
    "This block of code imports the base model and tokenizer that we will use to fine-tune our model. We also include code demonstrating how to import a model from your own hub (in this case danielhou13) and how to import from a checkpoint stored in your local directory."
   ]
  },
  {
   "cell_type": "code",
   "execution_count": 3,
   "id": "2d269558-f433-4c28-8ac2-6ede43cb338a",
   "metadata": {},
   "outputs": [
    {
     "name": "stderr",
     "output_type": "stream",
     "text": [
      "Some weights of the model checkpoint at bert-base-cased were not used when initializing BertForSequenceClassification: ['cls.seq_relationship.bias', 'cls.predictions.decoder.weight', 'cls.seq_relationship.weight', 'cls.predictions.transform.dense.bias', 'cls.predictions.bias', 'cls.predictions.transform.LayerNorm.weight', 'cls.predictions.transform.dense.weight', 'cls.predictions.transform.LayerNorm.bias']\n",
      "- This IS expected if you are initializing BertForSequenceClassification from the checkpoint of a model trained on another task or with another architecture (e.g. initializing a BertForSequenceClassification model from a BertForPreTraining model).\n",
      "- This IS NOT expected if you are initializing BertForSequenceClassification from the checkpoint of a model that you expect to be exactly identical (initializing a BertForSequenceClassification model from a BertForSequenceClassification model).\n",
      "Some weights of BertForSequenceClassification were not initialized from the model checkpoint at bert-base-cased and are newly initialized: ['classifier.bias', 'classifier.weight']\n",
      "You should probably TRAIN this model on a down-stream task to be able to use it for predictions and inference.\n"
     ]
    }
   ],
   "source": [
    "#import huggingface models\n",
    "from transformers import BertForSequenceClassification, LongformerTokenizer\n",
    "\n",
    "tokenizer = LongformerTokenizer.from_pretrained(\"allenai/longformer-base-4096\")\n",
    "\n",
    "#base model for training \n",
    "model = LongformerForSequenceClassification.from_pretrained(\"allenai/longformer-base-4096\",num_labels=2)\n",
    "\n",
    "# # #importing local checkpoint\n",
    "# model2 = LongformerForSequenceClassification.from_pretrained(\"models/longformer-finetuned_papers/checkpoint-2356\",num_labels=2)\n",
    "\n",
    "# #import same version from hub\n",
    "# # replace danielhou13 with your own huggingface username\n",
    "# model3 = LongformerForSequenceClassification.from_pretrained(\"danielhou13/longformer-finetuned_papers\",num_labels=2)\n"
   ]
  },
  {
   "cell_type": "markdown",
   "id": "58c21f34-2019-4fd6-b0b4-1c6eb8af0886",
   "metadata": {},
   "source": [
    "We can import a dataset like so, but if you are creating your own dataset and have not pushed it to huggingface, ignore this next block of code."
   ]
  },
  {
   "cell_type": "code",
   "execution_count": 4,
   "id": "9ab1418b-1793-4244-af4c-1d847080d2ae",
   "metadata": {},
   "outputs": [
    {
     "name": "stderr",
     "output_type": "stream",
     "text": [
      "Using custom data configuration danielhou13--cogs402dataset-3b57e27666917d08\n",
      "Reusing dataset parquet (C:\\Users\\danie\\.cache\\huggingface\\datasets\\parquet\\danielhou13--cogs402dataset-3b57e27666917d08\\0.0.0\\0b6d5799bb726b24ad7fc7be720c170d8e497f575d02d47537de9a5bac074901)\n"
     ]
    },
    {
     "data": {
      "application/vnd.jupyter.widget-view+json": {
       "model_id": "270a23aa333c47ccb7fd8bb27de41a0e",
       "version_major": 2,
       "version_minor": 0
      },
      "text/plain": [
       "  0%|          | 0/2 [00:00<?, ?it/s]"
      ]
     },
     "metadata": {},
     "output_type": "display_data"
    },
    {
     "name": "stdout",
     "output_type": "stream",
     "text": [
      "DatasetDict({\n",
      "    train: Dataset({\n",
      "        features: ['text', 'labels'],\n",
      "        num_rows: 4280\n",
      "    })\n",
      "    test: Dataset({\n",
      "        features: ['text', 'labels'],\n",
      "        num_rows: 1070\n",
      "    })\n",
      "})\n"
     ]
    }
   ],
   "source": [
    "# ignore next 3 blocks if importing from hub\n",
    "from datasets import load_dataset\n",
    "cogs402_ds = load_dataset(\"danielhou13/cogs402dataset\")\n",
    "print(cogs402_ds)"
   ]
  },
  {
   "cell_type": "markdown",
   "id": "c374e282-651e-4547-8266-e3f206b554b6",
   "metadata": {},
   "source": [
    "To convert a .csv file into a huggingface dataset, you can use pandas to first load in your csv file. Then using a huggingface dataset function, we can easily convert the .csv file into a dataset using the `from_pandas` function. Furthermore, we can partition the data using the `train_test_split` function."
   ]
  },
  {
   "cell_type": "code",
   "execution_count": 4,
   "id": "9ce08ccf-9c30-4c5c-8f75-eac961a8d739",
   "metadata": {},
   "outputs": [],
   "source": [
    "# import pandas as pd\n",
    "# ds = pd.read_csv(\"data/longdoc.csv\")\n",
    "\n",
    "# #convert to huggingface dataset and split into validation\n",
    "# import datasets\n",
    "# dataset = datasets.Dataset.from_pandas(ds)\n",
    "# cogs402_ds = dataset.train_test_split(test_size=0.20)\n",
    "# print(cogs402_ds)"
   ]
  },
  {
   "cell_type": "markdown",
   "id": "aeef4a5b-6581-4cb3-82de-f983cf7d652b",
   "metadata": {},
   "source": [
    "The following two blocks of code connects to your personal huggingface account and saves your newly created dataset onto a repository. From here, we can easily access this dataset by importing the dataset (example above) rather than having to convert from a .csv file to a huggingface dataset. \n",
    "\n",
    "More information about authentication tokens can be found on [here](https://huggingface.co/course/chapter4/3?fw=pt#using-the-pushtohub-api) on the huggingface website, which gives a brief summary of how to properly connect to your huggingface account."
   ]
  },
  {
   "cell_type": "code",
   "execution_count": 5,
   "id": "1172eee5-5449-4f78-a553-b114da37b459",
   "metadata": {},
   "outputs": [],
   "source": [
    "# # upload this dataset to huggingface\n",
    "# from huggingface_hub import notebook_login\n",
    "\n",
    "# notebook_login()"
   ]
  },
  {
   "cell_type": "code",
   "execution_count": 6,
   "id": "74b23c8d-9230-4ad2-9bbf-b4f434721752",
   "metadata": {},
   "outputs": [],
   "source": [
    "# cogs402_ds.push_to_hub(\"danielhou13/cogs402dataset\")"
   ]
  },
  {
   "cell_type": "markdown",
   "id": "e14ece2b-9aab-427c-84f2-764102ba147e",
   "metadata": {},
   "source": [
    "Lastly, we make sure to split the data into their respective sets."
   ]
  },
  {
   "cell_type": "code",
   "execution_count": 5,
   "id": "ae258077-e0df-4704-b3ca-89bac8f9280a",
   "metadata": {},
   "outputs": [
    {
     "name": "stdout",
     "output_type": "stream",
     "text": [
      "Dataset({\n",
      "    features: ['text', 'labels'],\n",
      "    num_rows: 1070\n",
      "})\n"
     ]
    }
   ],
   "source": [
    "#seperate the two datasets\n",
    "train_ds = cogs402_ds[\"train\"]\n",
    "eval_ds = cogs402_ds[\"test\"]\n",
    "print(eval_ds)"
   ]
  },
  {
   "cell_type": "markdown",
   "id": "5596f2d9-41f9-4e1a-baae-198c4e29cade",
   "metadata": {},
   "source": [
    "## Exploratory Data Analysis"
   ]
  },
  {
   "cell_type": "markdown",
   "id": "1a49a575-e947-455b-be60-04ce88ecc249",
   "metadata": {},
   "source": [
    "We want to make sure that the number of classes are roughly the same for the training set, otherwise we would have a class imbalance. We first want to convert the dataset into pandas, which will allow us to easily perform our exploratory data analysis."
   ]
  },
  {
   "cell_type": "code",
   "execution_count": 6,
   "id": "f2276e34-395e-496c-8cf8-5f3cc0147363",
   "metadata": {},
   "outputs": [],
   "source": [
    "import pandas as pd\n",
    "import matplotlib.pyplot as plt\n",
    "cogs402_ds.set_format(type=\"pandas\")\n",
    "df = cogs402_ds[\"train\"][:]"
   ]
  },
  {
   "cell_type": "markdown",
   "id": "1c55b80c-ac50-498e-ba50-9984b52008af",
   "metadata": {},
   "source": [
    "We can see that the distribution of classes is not a perfect 50/50, as we see the positive class (AI papers) have slightly more examples than the negative (PL papers)."
   ]
  },
  {
   "cell_type": "code",
   "execution_count": 7,
   "id": "a376c790-66b4-4f9e-b9ba-0aa0ab04c1cb",
   "metadata": {},
   "outputs": [
    {
     "data": {
      "image/png": "[encoded data removed]",
      "text/plain": [
       "<Figure size 432x288 with 1 Axes>"
      ]
     },
     "metadata": {
      "needs_background": "light"
     },
     "output_type": "display_data"
    }
   ],
   "source": [
    "df[\"labels\"].value_counts(ascending=True).plot.barh()\n",
    "plt.title(\"Frequency of Classes\")\n",
    "plt.show()"
   ]
  },
  {
   "cell_type": "markdown",
   "id": "92103b3c-6741-48b7-8c41-dfe974d74df7",
   "metadata": {},
   "source": [
    "Yet, the distribution is still about equal so there isn't a big class imbalance."
   ]
  },
  {
   "cell_type": "code",
   "execution_count": 8,
   "id": "ebd97e97-2f74-4ad4-92a1-6f970317a018",
   "metadata": {},
   "outputs": [
    {
     "data": {
      "text/plain": [
       "0    2103\n",
       "1    2177\n",
       "Name: labels, dtype: int64"
      ]
     },
     "execution_count": 8,
     "metadata": {},
     "output_type": "execute_result"
    }
   ],
   "source": [
    "df[\"labels\"].value_counts(ascending=True)"
   ]
  },
  {
   "cell_type": "code",
   "execution_count": 9,
   "id": "17f9f148-b9cb-45a7-9f92-247d1ce7cbfb",
   "metadata": {},
   "outputs": [],
   "source": [
    "df[\"Words Per Tweet\"] = df[\"text\"].str.split().apply(len)"
   ]
  },
  {
   "cell_type": "markdown",
   "id": "5e88ecb9-8218-4a04-abd4-98701ca77eee",
   "metadata": {},
   "source": [
    "We also see that the number of words per example in the dataset can be upwards of over 25,000. That is way too many words for the Longformer (max 4098 tokens); therefore, we know that absolutely have to truncate our dataset when training. "
   ]
  },
  {
   "cell_type": "code",
   "execution_count": 10,
   "id": "bd818846-93c7-4dfe-9316-442d90fabac3",
   "metadata": {},
   "outputs": [
    {
     "data": {
      "image/png": "[encoded data removed]",
      "text/plain": [
       "<Figure size 432x288 with 1 Axes>"
      ]
     },
     "metadata": {
      "needs_background": "light"
     },
     "output_type": "display_data"
    }
   ],
   "source": [
    "df.boxplot(\"Words Per Tweet\", by=\"labels\", grid=False,\n",
    "          showfliers=False, color=\"black\")\n",
    "plt.suptitle(\"\")\n",
    "plt.xlabel(\"\")\n",
    "plt.show()"
   ]
  },
  {
   "cell_type": "markdown",
   "id": "db88668d-7857-4ef1-8aeb-b86301023379",
   "metadata": {},
   "source": [
    "Now that we are done with our exploratory data analysis, we want to convert the dataset from pandas back to the huggingface dataset format."
   ]
  },
  {
   "cell_type": "code",
   "execution_count": 11,
   "id": "d0b96502-41cc-4f67-a4c3-d10ceec8758e",
   "metadata": {},
   "outputs": [],
   "source": [
    "cogs402_ds.reset_format()"
   ]
  },
  {
   "cell_type": "markdown",
   "id": "69d5ce22-50a4-494d-a5ab-a90de0402090",
   "metadata": {},
   "source": [
    "## Preprocessing"
   ]
  },
  {
   "cell_type": "markdown",
   "id": "a818aa8e-5332-44c2-be50-a8fc8e576486",
   "metadata": {},
   "source": [
    "Since the target column is already labeled \"labels\", we just have to tokenize the text in the dataset. We set truncation to true as we know that many, if not all, examples in our dataset will be over the max amount of tokens our longformer can handle"
   ]
  },
  {
   "cell_type": "code",
   "execution_count": 12,
   "id": "2e0ba762-6c42-48de-bb43-fcbed56449a3",
   "metadata": {},
   "outputs": [],
   "source": [
    "#trainer API auto uses dynamic padding... supposedly\n",
    "def tokenize(examples):\n",
    "    return tokenizer(examples[\"text\"], truncation=True)"
   ]
  },
  {
   "cell_type": "code",
   "execution_count": null,
   "id": "d9b78e6c-12f5-4c58-bfd6-94a820e6ce6b",
   "metadata": {},
   "outputs": [
    {
     "data": {
      "application/vnd.jupyter.widget-view+json": {
       "model_id": "7a8ea688e5df4590a38ba5e12cbc06ab",
       "version_major": 2,
       "version_minor": 0
      },
      "text/plain": [
       "0ex [00:00, ?ex/s]"
      ]
     },
     "metadata": {},
     "output_type": "display_data"
    }
   ],
   "source": [
    "#tokenize the data\n",
    "train_dataset = train_ds.map(tokenize, load_from_cache_file=False)\n",
    "val_dataset = eval_ds.map(tokenize, load_from_cache_file=False)"
   ]
  },
  {
   "cell_type": "markdown",
   "id": "44cac47e-d42d-4732-a5ff-c0e512c623b2",
   "metadata": {},
   "source": [
    "Finally we convert the columns into a pytorch compatible format and remove the text column since the model operates using input ids rather than raw text."
   ]
  },
  {
   "cell_type": "code",
   "execution_count": null,
   "id": "96ede4fd-0500-455a-8a70-28500c80216d",
   "metadata": {},
   "outputs": [],
   "source": [
    "#convert required columns and remove unrequired ones\n",
    "train_dataset.set_format(\"torch\", columns=['input_ids', 'attention_mask', \"labels\"])\n",
    "val_dataset.set_format(\"torch\", columns=['input_ids', 'attention_mask', \"labels\"])\n",
    "\n",
    "train_dataset = train_dataset.remove_columns(['text'])\n",
    "val_dataset = val_dataset.remove_columns(['text'])"
   ]
  },
  {
   "cell_type": "code",
   "execution_count": null,
   "id": "32c110ce-27fe-41aa-adad-78cb3dda5502",
   "metadata": {},
   "outputs": [],
   "source": [
    "print(val_dataset)"
   ]
  },
  {
   "cell_type": "markdown",
   "id": "d7f7f555-032e-4d38-aa38-2af98701c4af",
   "metadata": {},
   "source": [
    "## Training"
   ]
  },
  {
   "cell_type": "markdown",
   "id": "806b4626-d47f-4664-9251-7ebfae9cab89",
   "metadata": {},
   "source": [
    "We train 2 epochs and use gradient accumulation, gradient checkpointing and mixed precision in order to lower the memory requirements of the training. These methods, simply put, help your model reduce the amount of memory required to train the model. Given that each example may have up to 4098 tokens, the training uses a lot of memory, so we try to minimize the amount needed. This may have an impact on our training speed, so adjust the parameters based on your GPU."
   ]
  },
  {
   "cell_type": "code",
   "execution_count": null,
   "id": "5dc200b8-0157-4095-99ad-1d0b2298c478",
   "metadata": {},
   "outputs": [],
   "source": [
    "#create a local models folder for checkpoint storage\n",
    "if not os.path.exists(\"models\"):\n",
    "    os.mkdir(\"models\")"
   ]
  },
  {
   "cell_type": "markdown",
   "id": "de57360a-f827-4221-a2a6-bf642caa2247",
   "metadata": {},
   "source": [
    "Here we set the parameters for our training. Most of these are default parameters, shown for demonstration purposes. We train for 2 epochs and after every epoch, we do a quick checkup on the performance. We set mixed precision (fp16), gradient accumulation and gradient checkpointing to true for memory saving purposes."
   ]
  },
  {
   "cell_type": "code",
   "execution_count": null,
   "id": "6a749d43-e2d1-4de8-bbc9-50a5a687c18f",
   "metadata": {},
   "outputs": [],
   "source": [
    "from transformers import Trainer, TrainingArguments\n",
    "\n",
    "batch_size = 1\n",
    "gradient_acc = 4\n",
    "logging_steps = (len(train_dataset) // batch_size) //gradient_acc\n",
    "model_name = f\"longformer-finetuned_longformer_v2\"\n",
    "training_args = TrainingArguments(output_dir=f\"models/{model_name}\",\n",
    "                                  num_train_epochs = 2,\n",
    "                                  learning_rate=2e-5,\n",
    "                                  per_device_train_batch_size=batch_size,\n",
    "                                  per_device_eval_batch_size=batch_size,\n",
    "                                  weight_decay=0.01,\n",
    "                                  evaluation_strategy=\"epoch\",\n",
    "                                  disable_tqdm=False,\n",
    "                                  push_to_hub=False,\n",
    "                                  logging_steps=logging_steps,\n",
    "                                  log_level=\"error\",\n",
    "                                  fp16=True,\n",
    "                                  gradient_accumulation_steps=gradient_acc,\n",
    "                                  gradient_checkpointing=True,\n",
    "                                  save_strategy = \"epoch\")"
   ]
  },
  {
   "cell_type": "markdown",
   "id": "8a864d47-085a-4e5f-97c0-81c53d64d15f",
   "metadata": {},
   "source": [
    "When passing in more than one example, you need to make sure both examples are the same length, so we pad to the longest example."
   ]
  },
  {
   "cell_type": "code",
   "execution_count": null,
   "id": "2f6544d7-bffa-4feb-9899-cbecc48f1a6b",
   "metadata": {},
   "outputs": [],
   "source": [
    "from transformers import DataCollatorWithPadding\n",
    "data_collator = DataCollatorWithPadding(tokenizer=tokenizer)"
   ]
  },
  {
   "cell_type": "markdown",
   "id": "788b7972-34cc-4745-86ea-0b664d616c06",
   "metadata": {},
   "source": [
    "Make sure you're using connecting to your GPU if you have one"
   ]
  },
  {
   "cell_type": "code",
   "execution_count": null,
   "id": "78211402-425a-4ef1-91a2-1d2c0c4989b1",
   "metadata": {},
   "outputs": [],
   "source": [
    "import torch\n",
    "\n",
    "device = torch.device(\"cuda\") if torch.cuda.is_available() else torch.device(\"cpu\")\n",
    "model.to(device)\n",
    "device"
   ]
  },
  {
   "cell_type": "markdown",
   "id": "945bf95f-1043-4c2d-b187-80a93bcfdf84",
   "metadata": {},
   "source": [
    "We use f1-score and accuracy as fairly general metrics."
   ]
  },
  {
   "cell_type": "code",
   "execution_count": 21,
   "id": "fb9f6cb1-220b-407f-b9fa-43672b117209",
   "metadata": {},
   "outputs": [],
   "source": [
    "from sklearn.metrics import accuracy_score, f1_score\n",
    "\n",
    "def compute_metrics(pred):\n",
    "    labels = pred.label_ids\n",
    "    preds = pred.predictions.argmax(-1)\n",
    "    f1 = f1_score(labels, preds, average=\"weighted\")\n",
    "    acc = accuracy_score(labels, preds)\n",
    "    return {\"accuracy\": acc, \"f1\": f1}"
   ]
  },
  {
   "cell_type": "markdown",
   "id": "b2b32de8-71f6-4db0-a4c9-dfa0ccb06536",
   "metadata": {},
   "source": [
    "The training arguments are to define the hyperparameters of your fine-tuning but here we are passing in the parameters we want to train."
   ]
  },
  {
   "cell_type": "code",
   "execution_count": 22,
   "id": "154504ce-d89d-4c03-9978-403b3d7a8a72",
   "metadata": {},
   "outputs": [],
   "source": [
    "trainer = Trainer(\n",
    "    model=model,\n",
    "    args=training_args,\n",
    "    train_dataset=train_dataset,\n",
    "    eval_dataset=val_dataset,\n",
    "    compute_metrics=compute_metrics,\n",
    "    tokenizer=tokenizer,\n",
    "    data_collator = data_collator\n",
    ")"
   ]
  },
  {
   "cell_type": "markdown",
   "id": "78ac61cd-d06e-46e2-aad3-742c2a071643",
   "metadata": {},
   "source": [
    "Here we do the actual training."
   ]
  },
  {
   "cell_type": "code",
   "execution_count": 23,
   "id": "ebed74ca-a33a-43f3-b429-764d17260c9c",
   "metadata": {},
   "outputs": [
    {
     "name": "stderr",
     "output_type": "stream",
     "text": [
      "C:\\Users\\danie\\miniconda3\\lib\\site-packages\\transformers\\optimization.py:306: FutureWarning: This implementation of AdamW is deprecated and will be removed in a future version. Use thePyTorch implementation torch.optim.AdamW instead, or set `no_deprecation_warning=True` to disable this warning\n",
      "  warnings.warn(\n"
     ]
    },
    {
     "data": {
      "text/html": [
       "\n",
       "    <div>\n",
       "      \n",
       "      <progress value='2140' max='2140' style='width:300px; height:20px; vertical-align: middle;'></progress>\n",
       "      [2140/2140 1:50:38, Epoch 2/2]\n",
       "    </div>\n",
       "    <table border=\"1\" class=\"dataframe\">\n",
       "  <thead>\n",
       " <tr style=\"text-align: left;\">\n",
       "      <th>Epoch</th>\n",
       "      <th>Training Loss</th>\n",
       "      <th>Validation Loss</th>\n",
       "      <th>Accuracy</th>\n",
       "      <th>F1</th>\n",
       "    </tr>\n",
       "  </thead>\n",
       "  <tbody>\n",
       "    <tr>\n",
       "      <td>1</td>\n",
       "      <td>0.225700</td>\n",
       "      <td>0.052971</td>\n",
       "      <td>0.987850</td>\n",
       "      <td>0.987850</td>\n",
       "    </tr>\n",
       "    <tr>\n",
       "      <td>2</td>\n",
       "      <td>0.078200</td>\n",
       "      <td>0.083045</td>\n",
       "      <td>0.980374</td>\n",
       "      <td>0.980365</td>\n",
       "    </tr>\n",
       "  </tbody>\n",
       "</table><p>"
      ],
      "text/plain": [
       "<IPython.core.display.HTML object>"
      ]
     },
     "metadata": {},
     "output_type": "display_data"
    },
    {
     "data": {
      "text/plain": [
       "TrainOutput(global_step=2140, training_loss=0.15196231592481382, metrics={'train_runtime': 6644.5117, 'train_samples_per_second': 1.288, 'train_steps_per_second': 0.322, 'total_flos': 2.222887588841839e+16, 'train_loss': 0.15196231592481382, 'epoch': 2.0})"
      ]
     },
     "execution_count": 23,
     "metadata": {},
     "output_type": "execute_result"
    }
   ],
   "source": [
    "trainer.train()"
   ]
  },
  {
   "cell_type": "code",
   "execution_count": 24,
   "id": "57e2e2f2-646c-4166-ba49-5158a96811a4",
   "metadata": {},
   "outputs": [
    {
     "data": {
      "text/html": [
       "\n",
       "    <div>\n",
       "      \n",
       "      <progress value='1070' max='1070' style='width:300px; height:20px; vertical-align: middle;'></progress>\n",
       "      [1070/1070 02:48]\n",
       "    </div>\n",
       "    "
      ],
      "text/plain": [
       "<IPython.core.display.HTML object>"
      ]
     },
     "metadata": {},
     "output_type": "display_data"
    }
   ],
   "source": [
    "preds_output = trainer.predict(val_dataset)"
   ]
  },
  {
   "cell_type": "markdown",
   "id": "39fcce3d-2b32-4321-a3c3-290f41fa34e0",
   "metadata": {},
   "source": [
    "## Results"
   ]
  },
  {
   "cell_type": "markdown",
   "id": "bb2fa57d-2038-4f12-9407-5880e4fc0042",
   "metadata": {},
   "source": [
    "Overall the model does very well at predicting whether an example is a Programming Language (P.L.) related paper or Artificial Intelligence (A.I.) related paper. Our accuracy and f1 score is 0.98, which is very high."
   ]
  },
  {
   "cell_type": "code",
   "execution_count": 25,
   "id": "19b548e1-058b-47f9-ac6b-bbb0b39ce827",
   "metadata": {},
   "outputs": [
    {
     "data": {
      "text/plain": [
       "{'test_loss': 0.08304508030414581,\n",
       " 'test_accuracy': 0.9803738317757009,\n",
       " 'test_f1': 0.9803648224519701,\n",
       " 'test_runtime': 169.1959,\n",
       " 'test_samples_per_second': 6.324,\n",
       " 'test_steps_per_second': 6.324}"
      ]
     },
     "execution_count": 25,
     "metadata": {},
     "output_type": "execute_result"
    }
   ],
   "source": [
    "preds_output.metrics"
   ]
  },
  {
   "cell_type": "code",
   "execution_count": 26,
   "id": "4f6b0148-92e1-48ec-938d-26c269ee1301",
   "metadata": {},
   "outputs": [],
   "source": [
    "import numpy as np\n",
    "y_preds = np.argmax(preds_output.predictions, axis=1)\n",
    "y_true = np.array(val_dataset[\"labels\"])"
   ]
  },
  {
   "cell_type": "markdown",
   "id": "6576d2a5-7130-4143-a2e2-43095f018fff",
   "metadata": {},
   "source": [
    "The classification report tells us how the model does in terms of recall, precision, f1-score and accuracy for both classes. We can see that precision is higher for PL papers while recall is higher for AI papers"
   ]
  },
  {
   "cell_type": "code",
   "execution_count": 27,
   "id": "33b770a6-2a13-4878-b3bf-33b4eaf71159",
   "metadata": {},
   "outputs": [
    {
     "name": "stdout",
     "output_type": "stream",
     "text": [
      "              precision    recall  f1-score   support\n",
      "\n",
      "          PL       0.99      0.97      0.98       525\n",
      "          AI       0.97      0.99      0.98       545\n",
      "\n",
      "    accuracy                           0.98      1070\n",
      "   macro avg       0.98      0.98      0.98      1070\n",
      "weighted avg       0.98      0.98      0.98      1070\n",
      "\n"
     ]
    }
   ],
   "source": [
    "from sklearn.metrics import classification_report\n",
    "print(\n",
    "    classification_report(\n",
    "        y_true, y_preds, target_names=[\"PL\", \"AI\"]\n",
    "    )\n",
    ")"
   ]
  },
  {
   "cell_type": "markdown",
   "id": "51eeb66c-a7b8-4c55-97f1-2e30793335fc",
   "metadata": {},
   "source": [
    "By looking at the confusion matrix, we can see how many examples were properly predicted, and how many were false positives (predicted AI instead of PL) or false negatives (predicted PL instead of AI). We use sklearn's confusion matrix function."
   ]
  },
  {
   "cell_type": "code",
   "execution_count": 28,
   "id": "9ceb13bd-a16c-4c95-a28a-c957b1129478",
   "metadata": {},
   "outputs": [
    {
     "data": {
      "image/png": "[encoded data removed]",
      "text/plain": [
       "<Figure size 432x432 with 1 Axes>"
      ]
     },
     "metadata": {
      "needs_background": "light"
     },
     "output_type": "display_data"
    },
    {
     "name": "stdout",
     "output_type": "stream",
     "text": [
      "(1070,)\n",
      "(1070,)\n"
     ]
    }
   ],
   "source": [
    "from sklearn.metrics import ConfusionMatrixDisplay, confusion_matrix\n",
    "import matplotlib.pyplot as plt\n",
    "\n",
    "def plot_confusion_matrix(y_preds, y_true, labels):\n",
    "    cm = confusion_matrix(y_true, y_preds)\n",
    "    fig, ax = plt.subplots(figsize=(6, 6))\n",
    "    disp = ConfusionMatrixDisplay(confusion_matrix=cm, display_labels=[\"PL\", \"AI\"])\n",
    "    disp.plot(cmap=\"Blues\", values_format=\".2f\", ax=ax, colorbar=False)\n",
    "    plt.title(\"Normalized confusion matrix\")\n",
    "    plt.show()\n",
    "\n",
    "plot_confusion_matrix(y_preds, y_true, labels=[0,1])\n",
    "print(y_true.shape)\n",
    "print(y_preds.shape)"
   ]
  },
  {
   "cell_type": "markdown",
   "id": "4149220f-0dd4-4705-83b7-8b557fd710b3",
   "metadata": {},
   "source": [
    "There are more instance of wrongly predicting AI compared to wrongly predicting PL."
   ]
  },
  {
   "cell_type": "markdown",
   "id": "7e28f799-2376-4dd1-9a85-c5a0dcf82562",
   "metadata": {},
   "source": [
    "## Publish to Hub"
   ]
  },
  {
   "cell_type": "markdown",
   "id": "7b89d825-1837-45d9-8d49-736a01e6ed58",
   "metadata": {},
   "source": [
    "Now that we are done fine-tuning the model and are satisfied with the chosen hyperparameters, we can upload this model to huggingface so we can easily access it in other notebooks/projects. Using the `push_to_hub` function, we pass in our username/name-we-want to create a new repository for your model. If you are wanting to save over a previous model, you can pass in that original repository's name like so: username/original-project. \n",
    "\n",
    "More information about authentication tokens can be found on [here](https://huggingface.co/course/chapter4/3?fw=pt#using-the-pushtohub-api) on the huggingface website, which gives a brief summary of how to properly connect to your huggingface account."
   ]
  },
  {
   "cell_type": "code",
   "execution_count": 30,
   "id": "0e428563-d097-4dab-aa4c-0a3f38d46e01",
   "metadata": {},
   "outputs": [
    {
     "data": {
      "application/vnd.jupyter.widget-view+json": {
       "model_id": "1fccc6b9d0f045df85ae3f33333b1a11",
       "version_major": 2,
       "version_minor": 0
      },
      "text/plain": [
       "VBox(children=(HTML(value='<center>\\n<img src=https://huggingface.co/front/assets/huggingface_logo-noborder.sv…"
      ]
     },
     "metadata": {},
     "output_type": "display_data"
    },
    {
     "name": "stderr",
     "output_type": "stream",
     "text": [
      "C:\\Users\\danie\\miniconda3\\lib\\site-packages\\huggingface_hub\\hf_api.py:1001: FutureWarning: `create_repo` now takes `token` as an optional positional argument. Be sure to adapt your code!\n",
      "  warnings.warn(\n",
      "Cloning https://huggingface.co/danielhou13/longformer-finetuned_papers_v2 into local empty directory.\n"
     ]
    },
    {
     "data": {
      "application/vnd.jupyter.widget-view+json": {
       "model_id": "d43648ea3c3d4bf89515accb178007f5",
       "version_major": 2,
       "version_minor": 0
      },
      "text/plain": [
       "Upload file pytorch_model.bin:   0%|          | 32.0k/567M [00:00<?, ?B/s]"
      ]
     },
     "metadata": {},
     "output_type": "display_data"
    },
    {
     "name": "stderr",
     "output_type": "stream",
     "text": [
      "To https://huggingface.co/danielhou13/longformer-finetuned_papers_v2\n",
      "   f47a66b..4ee6b71  main -> main\n",
      "\n"
     ]
    },
    {
     "data": {
      "text/plain": [
       "'https://huggingface.co/danielhou13/longformer-finetuned_papers_v2/commit/4ee6b71b784563504145329e17dbf615a18e69d6'"
      ]
     },
     "execution_count": 30,
     "metadata": {},
     "output_type": "execute_result"
    }
   ],
   "source": [
    "# upload model to huggingface for storage\n",
    "# replace danielhou13 with personal user\n",
    "from huggingface_hub import notebook_login\n",
    "notebook_login()\n",
    "model.push_to_hub(\"danielhou13/longformer-finetuned_papers_v2\")"
   ]
  },
  {
   "cell_type": "markdown",
   "id": "3d0653c2-cc5e-4994-bb10-7dd66bd20f3d",
   "metadata": {},
   "source": [
    "Now you can easily access both the model and the dataset used to fine-tune the model for any other tasks you wish using the import functions described in the import section."
   ]
  }
 ],
 "metadata": {
  "kernelspec": {
   "display_name": "cogs402",
   "language": "python",
   "name": "cogs402"
  },
  "language_info": {
   "codemirror_mode": {
    "name": "ipython",
    "version": 3
   },
   "file_extension": ".py",
   "mimetype": "text/x-python",
   "name": "python",
   "nbconvert_exporter": "python",
   "pygments_lexer": "ipython3",
   "version": "3.9.9"
  }
 },
 "nbformat": 4,
 "nbformat_minor": 5
}
