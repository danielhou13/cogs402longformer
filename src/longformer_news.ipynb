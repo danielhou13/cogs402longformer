{
 "cells": [
  {
   "cell_type": "code",
   "execution_count": 1,
   "id": "7a456068-f88e-4e51-ad48-a8ba2feb7987",
   "metadata": {
    "colab": {
     "base_uri": "https://localhost:8080/"
    },
    "executionInfo": {
     "elapsed": 4543,
     "status": "ok",
     "timestamp": 1653283563122,
     "user": {
      "displayName": "daniel hou",
      "userId": "13623878136116974888"
     },
     "user_tz": 420
    },
    "id": "7a456068-f88e-4e51-ad48-a8ba2feb7987",
    "outputId": "d88be7e3-7964-4032-8646-d56e8a410f89"
   },
   "outputs": [
    {
     "name": "stdout",
     "output_type": "stream",
     "text": [
      "Requirement already satisfied: datasets in c:\\users\\danie\\miniconda3\\lib\\site-packages (1.18.3)\n",
      "Requirement already satisfied: huggingface-hub<1.0.0,>=0.1.0 in c:\\users\\danie\\miniconda3\\lib\\site-packages (from datasets) (0.4.0)\n",
      "Requirement already satisfied: requests>=2.19.0 in c:\\users\\danie\\miniconda3\\lib\\site-packages (from datasets) (2.27.1)\n",
      "Requirement already satisfied: multiprocess in c:\\users\\danie\\miniconda3\\lib\\site-packages (from datasets) (0.70.12.2)\n",
      "Requirement already satisfied: aiohttp in c:\\users\\danie\\miniconda3\\lib\\site-packages (from datasets) (3.8.1)\n",
      "Requirement already satisfied: numpy>=1.17 in c:\\users\\danie\\miniconda3\\lib\\site-packages (from datasets) (1.22.3)\n",
      "Requirement already satisfied: fsspec[http]>=2021.05.0 in c:\\users\\danie\\miniconda3\\lib\\site-packages (from datasets) (2022.1.0)\n",
      "Requirement already satisfied: xxhash in c:\\users\\danie\\miniconda3\\lib\\site-packages (from datasets) (2.0.2)\n",
      "Requirement already satisfied: packaging in c:\\users\\danie\\miniconda3\\lib\\site-packages (from datasets) (21.3)\n",
      "Requirement already satisfied: pyarrow!=4.0.0,>=3.0.0 in c:\\users\\danie\\miniconda3\\lib\\site-packages (from datasets) (7.0.0)\n",
      "Requirement already satisfied: pandas in c:\\users\\danie\\miniconda3\\lib\\site-packages (from datasets) (1.4.2)\n",
      "Requirement already satisfied: dill in c:\\users\\danie\\miniconda3\\lib\\site-packages (from datasets) (0.3.4)\n",
      "Requirement already satisfied: tqdm>=4.62.1 in c:\\users\\danie\\miniconda3\\lib\\site-packages (from datasets) (4.62.3)\n",
      "Requirement already satisfied: typing-extensions>=3.7.4.3 in c:\\users\\danie\\miniconda3\\lib\\site-packages (from huggingface-hub<1.0.0,>=0.1.0->datasets) (4.0.1)\n",
      "Requirement already satisfied: filelock in c:\\users\\danie\\miniconda3\\lib\\site-packages (from huggingface-hub<1.0.0,>=0.1.0->datasets) (3.4.2)\n",
      "Requirement already satisfied: pyyaml in c:\\users\\danie\\miniconda3\\lib\\site-packages (from huggingface-hub<1.0.0,>=0.1.0->datasets) (6.0)\n",
      "Requirement already satisfied: pyparsing!=3.0.5,>=2.0.2 in c:\\users\\danie\\miniconda3\\lib\\site-packages (from packaging->datasets) (3.0.6)\n",
      "Requirement already satisfied: idna<4,>=2.5 in c:\\users\\danie\\miniconda3\\lib\\site-packages (from requests>=2.19.0->datasets) (3.3)\n",
      "Requirement already satisfied: urllib3<1.27,>=1.21.1 in c:\\users\\danie\\miniconda3\\lib\\site-packages (from requests>=2.19.0->datasets) (1.26.8)\n",
      "Requirement already satisfied: certifi>=2017.4.17 in c:\\users\\danie\\miniconda3\\lib\\site-packages (from requests>=2.19.0->datasets) (2021.10.8)\n",
      "Requirement already satisfied: charset-normalizer~=2.0.0 in c:\\users\\danie\\miniconda3\\lib\\site-packages (from requests>=2.19.0->datasets) (2.0.10)\n",
      "Requirement already satisfied: colorama in c:\\users\\danie\\miniconda3\\lib\\site-packages (from tqdm>=4.62.1->datasets) (0.4.4)\n",
      "Requirement already satisfied: multidict<7.0,>=4.5 in c:\\users\\danie\\miniconda3\\lib\\site-packages (from aiohttp->datasets) (6.0.2)\n",
      "Requirement already satisfied: attrs>=17.3.0 in c:\\users\\danie\\miniconda3\\lib\\site-packages (from aiohttp->datasets) (21.4.0)\n",
      "Requirement already satisfied: frozenlist>=1.1.1 in c:\\users\\danie\\miniconda3\\lib\\site-packages (from aiohttp->datasets) (1.3.0)\n",
      "Requirement already satisfied: aiosignal>=1.1.2 in c:\\users\\danie\\miniconda3\\lib\\site-packages (from aiohttp->datasets) (1.2.0)\n",
      "Requirement already satisfied: yarl<2.0,>=1.0 in c:\\users\\danie\\miniconda3\\lib\\site-packages (from aiohttp->datasets) (1.7.2)\n",
      "Requirement already satisfied: async-timeout<5.0,>=4.0.0a3 in c:\\users\\danie\\miniconda3\\lib\\site-packages (from aiohttp->datasets) (4.0.2)\n",
      "Requirement already satisfied: python-dateutil>=2.8.1 in c:\\users\\danie\\miniconda3\\lib\\site-packages (from pandas->datasets) (2.8.2)\n",
      "Requirement already satisfied: pytz>=2020.1 in c:\\users\\danie\\miniconda3\\lib\\site-packages (from pandas->datasets) (2021.3)\n",
      "Requirement already satisfied: six>=1.5 in c:\\users\\danie\\miniconda3\\lib\\site-packages (from python-dateutil>=2.8.1->pandas->datasets) (1.16.0)\n"
     ]
    }
   ],
   "source": [
    "!pip install datasets"
   ]
  },
  {
   "cell_type": "code",
   "execution_count": 2,
   "id": "cWUtqSmOFtuc",
   "metadata": {
    "colab": {
     "base_uri": "https://localhost:8080/"
    },
    "executionInfo": {
     "elapsed": 4645,
     "status": "ok",
     "timestamp": 1653283567764,
     "user": {
      "displayName": "daniel hou",
      "userId": "13623878136116974888"
     },
     "user_tz": 420
    },
    "id": "cWUtqSmOFtuc",
    "outputId": "5cb21468-1cd6-4b57-84b5-ddfdee872982"
   },
   "outputs": [
    {
     "name": "stdout",
     "output_type": "stream",
     "text": [
      "Requirement already satisfied: transformers in c:\\users\\danie\\miniconda3\\lib\\site-packages (4.16.2)\n",
      "Requirement already satisfied: pyyaml>=5.1 in c:\\users\\danie\\miniconda3\\lib\\site-packages (from transformers) (6.0)\n",
      "Requirement already satisfied: filelock in c:\\users\\danie\\miniconda3\\lib\\site-packages (from transformers) (3.4.2)\n",
      "Requirement already satisfied: numpy>=1.17 in c:\\users\\danie\\miniconda3\\lib\\site-packages (from transformers) (1.22.3)\n",
      "Requirement already satisfied: regex!=2019.12.17 in c:\\users\\danie\\miniconda3\\lib\\site-packages (from transformers) (2022.1.18)\n",
      "Requirement already satisfied: packaging>=20.0 in c:\\users\\danie\\miniconda3\\lib\\site-packages (from transformers) (21.3)\n",
      "Requirement already satisfied: requests in c:\\users\\danie\\miniconda3\\lib\\site-packages (from transformers) (2.27.1)\n",
      "Requirement already satisfied: huggingface-hub<1.0,>=0.1.0 in c:\\users\\danie\\miniconda3\\lib\\site-packages (from transformers) (0.4.0)\n",
      "Requirement already satisfied: tokenizers!=0.11.3,>=0.10.1 in c:\\users\\danie\\miniconda3\\lib\\site-packages (from transformers) (0.11.4)\n",
      "Requirement already satisfied: tqdm>=4.27 in c:\\users\\danie\\miniconda3\\lib\\site-packages (from transformers) (4.62.3)\n",
      "Requirement already satisfied: sacremoses in c:\\users\\danie\\miniconda3\\lib\\site-packages (from transformers) (0.0.47)\n",
      "Requirement already satisfied: typing-extensions>=3.7.4.3 in c:\\users\\danie\\miniconda3\\lib\\site-packages (from huggingface-hub<1.0,>=0.1.0->transformers) (4.0.1)\n",
      "Requirement already satisfied: pyparsing!=3.0.5,>=2.0.2 in c:\\users\\danie\\miniconda3\\lib\\site-packages (from packaging>=20.0->transformers) (3.0.6)\n",
      "Requirement already satisfied: colorama in c:\\users\\danie\\miniconda3\\lib\\site-packages (from tqdm>=4.27->transformers) (0.4.4)\n",
      "Requirement already satisfied: certifi>=2017.4.17 in c:\\users\\danie\\miniconda3\\lib\\site-packages (from requests->transformers) (2021.10.8)\n",
      "Requirement already satisfied: urllib3<1.27,>=1.21.1 in c:\\users\\danie\\miniconda3\\lib\\site-packages (from requests->transformers) (1.26.8)\n",
      "Requirement already satisfied: idna<4,>=2.5 in c:\\users\\danie\\miniconda3\\lib\\site-packages (from requests->transformers) (3.3)\n",
      "Requirement already satisfied: charset-normalizer~=2.0.0 in c:\\users\\danie\\miniconda3\\lib\\site-packages (from requests->transformers) (2.0.10)\n",
      "Requirement already satisfied: joblib in c:\\users\\danie\\miniconda3\\lib\\site-packages (from sacremoses->transformers) (1.1.0)\n",
      "Requirement already satisfied: click in c:\\users\\danie\\miniconda3\\lib\\site-packages (from sacremoses->transformers) (7.1.2)\n",
      "Requirement already satisfied: six in c:\\users\\danie\\miniconda3\\lib\\site-packages (from sacremoses->transformers) (1.16.0)\n"
     ]
    }
   ],
   "source": [
    "!pip install transformers"
   ]
  },
  {
   "cell_type": "code",
   "execution_count": 1,
   "id": "c41db6f1-d472-498d-9b17-6435b0798e8d",
   "metadata": {},
   "outputs": [
    {
     "name": "stdout",
     "output_type": "stream",
     "text": [
      "C:\\Users\\danie\\Documents\\COGS402\\cogs402longformer\\src\n",
      "C:\\Users\\danie\\Documents\\COGS402\\cogs402longformer\n"
     ]
    }
   ],
   "source": [
    "import os\n",
    "print(os.getcwd())\n",
    "path_parent = os.path.dirname(os.getcwd())\n",
    "os.chdir(path_parent)\n",
    "print(os.getcwd())"
   ]
  },
  {
   "cell_type": "markdown",
   "id": "492056c0-d1cd-47fd-b37c-15dc54b753c8",
   "metadata": {},
   "source": [
    "## Import model, tokenizer, and dataset"
   ]
  },
  {
   "cell_type": "code",
   "execution_count": 2,
   "id": "2dec1f76-3e57-4c25-a883-555e604c3a6d",
   "metadata": {
    "colab": {
     "base_uri": "https://localhost:8080/",
     "height": 66,
     "referenced_widgets": [
      "1aba16346b424b23b86c927b56995a20",
      "1d6ae00dbc6f420f922621e2d261ef54",
      "0c488957be394244b990e12a62022af9",
      "56317b56c7fc4cdeb55db09df3f0f824",
      "3294ccd3cef744b880c37747189e63f5",
      "c8c49529aa5e46eeb001e1b1360c6bdd",
      "b1ae47c28ab04a01920129d252445008",
      "69b180753fd5499e865a943fc4c95746",
      "8f5a2830d7974d12a24d670e6e1ebe0a",
      "a36d598b566443deb09bf22e5711f3e1",
      "b5497fdadca74bdab1d5fe4949d68377"
     ]
    },
    "executionInfo": {
     "elapsed": 205,
     "status": "ok",
     "timestamp": 1653283579406,
     "user": {
      "displayName": "daniel hou",
      "userId": "13623878136116974888"
     },
     "user_tz": 420
    },
    "id": "2dec1f76-3e57-4c25-a883-555e604c3a6d",
    "outputId": "de54cecf-e0f5-40b8-efcf-43ac32c0b20c"
   },
   "outputs": [
    {
     "name": "stderr",
     "output_type": "stream",
     "text": [
      "Using custom data configuration danielhou13--cogs402dataset2-5e8e10311524cdf9\n",
      "Reusing dataset parquet (C:\\Users\\danie\\.cache\\huggingface\\datasets\\parquet\\danielhou13--cogs402dataset2-5e8e10311524cdf9\\0.0.0\\0b6d5799bb726b24ad7fc7be720c170d8e497f575d02d47537de9a5bac074901)\n"
     ]
    },
    {
     "data": {
      "application/vnd.jupyter.widget-view+json": {
       "model_id": "097af35fd5ae4b37b0de976a5600fed2",
       "version_major": 2,
       "version_minor": 0
      },
      "text/plain": [
       "  0%|          | 0/2 [00:00<?, ?it/s]"
      ]
     },
     "metadata": {},
     "output_type": "display_data"
    }
   ],
   "source": [
    "import datasets \n",
    "#load dataset\n",
    "dataset = datasets.load_dataset('hyperpartisan_news_detection', 'bypublisher')\n",
    "\n",
    "# dataset = datasets.load_dataset(\"danielhou13/cogs402dataset2\")"
   ]
  },
  {
   "cell_type": "code",
   "execution_count": 3,
   "id": "514de433-9063-48aa-8bba-71f43bfc6b85",
   "metadata": {
    "colab": {
     "base_uri": "https://localhost:8080/"
    },
    "executionInfo": {
     "elapsed": 3258,
     "status": "ok",
     "timestamp": 1653283582660,
     "user": {
      "displayName": "daniel hou",
      "userId": "13623878136116974888"
     },
     "user_tz": 420
    },
    "id": "514de433-9063-48aa-8bba-71f43bfc6b85",
    "outputId": "402fd17c-1704-46e8-8bcf-00e0393cff6e"
   },
   "outputs": [
    {
     "name": "stderr",
     "output_type": "stream",
     "text": [
      "Some weights of the model checkpoint at allenai/longformer-base-4096 were not used when initializing LongformerForSequenceClassification: ['lm_head.decoder.weight', 'lm_head.dense.weight', 'lm_head.layer_norm.weight', 'lm_head.layer_norm.bias', 'lm_head.bias', 'lm_head.dense.bias']\n",
      "- This IS expected if you are initializing LongformerForSequenceClassification from the checkpoint of a model trained on another task or with another architecture (e.g. initializing a BertForSequenceClassification model from a BertForPreTraining model).\n",
      "- This IS NOT expected if you are initializing LongformerForSequenceClassification from the checkpoint of a model that you expect to be exactly identical (initializing a BertForSequenceClassification model from a BertForSequenceClassification model).\n",
      "Some weights of LongformerForSequenceClassification were not initialized from the model checkpoint at allenai/longformer-base-4096 and are newly initialized: ['classifier.out_proj.weight', 'classifier.dense.weight', 'classifier.dense.bias', 'classifier.out_proj.bias']\n",
      "You should probably TRAIN this model on a down-stream task to be able to use it for predictions and inference.\n"
     ]
    }
   ],
   "source": [
    "#import huggingface models\n",
    "from transformers import LongformerForSequenceClassification, LongformerTokenizer\n",
    "\n",
    "tokenizer = LongformerTokenizer.from_pretrained(\"allenai/longformer-base-4096\")\n",
    "\n",
    "#base model for training \n",
    "model = LongformerForSequenceClassification.from_pretrained(\"allenai/longformer-base-4096\",num_labels=2)\n",
    "\n",
    "# #importing local checkpoint\n",
    "# model2 = LongformerForSequenceClassification.from_pretrained(\"models/longformer-finetuned/checkpoint-10000\",num_labels=2)\n",
    "\n",
    "#import same version from hub\n",
    "model3 = LongformerForSequenceClassification.from_pretrained(\"danielhou13/longformer-finetuned-news-cogs402\",num_labels=2)"
   ]
  },
  {
   "cell_type": "code",
   "execution_count": 4,
   "id": "79f64399-9b82-4199-94d0-b40e8b0993b3",
   "metadata": {
    "colab": {
     "base_uri": "https://localhost:8080/"
    },
    "executionInfo": {
     "elapsed": 11,
     "status": "ok",
     "timestamp": 1653283582661,
     "user": {
      "displayName": "daniel hou",
      "userId": "13623878136116974888"
     },
     "user_tz": 420
    },
    "id": "79f64399-9b82-4199-94d0-b40e8b0993b3",
    "outputId": "0e9af7cb-c3fa-4c32-8b78-e49e11c6290b"
   },
   "outputs": [
    {
     "name": "stdout",
     "output_type": "stream",
     "text": [
      "DatasetDict({\n",
      "    train: Dataset({\n",
      "        features: ['text', 'title', 'hyperpartisan', 'url', 'published_at', 'bias'],\n",
      "        num_rows: 20000\n",
      "    })\n",
      "    validation: Dataset({\n",
      "        features: ['text', 'title', 'hyperpartisan', 'url', 'published_at', 'bias'],\n",
      "        num_rows: 2500\n",
      "    })\n",
      "})\n"
     ]
    }
   ],
   "source": [
    "print(dataset)"
   ]
  },
  {
   "cell_type": "markdown",
   "id": "a186f604-6eaf-48e6-bb98-f7c82ad7add8",
   "metadata": {},
   "source": [
    "We then separate the two datasets"
   ]
  },
  {
   "cell_type": "code",
   "execution_count": 6,
   "id": "kdbDjaYSDipV",
   "metadata": {
    "executionInfo": {
     "elapsed": 8,
     "status": "ok",
     "timestamp": 1653283582661,
     "user": {
      "displayName": "daniel hou",
      "userId": "13623878136116974888"
     },
     "user_tz": 420
    },
    "id": "kdbDjaYSDipV"
   },
   "outputs": [],
   "source": [
    "train_ds = dataset[\"train\"]\n",
    "eval_ds = dataset[\"validation\"]"
   ]
  },
  {
   "cell_type": "markdown",
   "id": "4ea23b7c-f624-4480-9477-c8e3ffc9063b",
   "metadata": {},
   "source": [
    "The Dataset is huge, so we take a subset of the data for both splits. Alternatively, if you have a split of the data stored on disk that you want to use for training, you can avoid using the following block of code."
   ]
  },
  {
   "cell_type": "code",
   "execution_count": 5,
   "id": "a45492b2-92f6-4a7a-ac50-d1f0be2341cd",
   "metadata": {},
   "outputs": [],
   "source": [
    "## Take subset of data\n",
    "train_size = 20000\n",
    "val_size = 2500\n",
    "import numpy as np\n",
    "\n",
    "train_indices = np.random.randint(0, len(train_ds), train_size)\n",
    "val_indices = np.random.randint(0, len(eval_ds), val_size)\n",
    "train_ds = train_ds.select(train_indices)\n",
    "eval_ds = eval_ds.select(val_indices)"
   ]
  },
  {
   "cell_type": "code",
   "execution_count": 6,
   "id": "2dfe7e14-39bf-4ac4-a809-1ac3925900c4",
   "metadata": {},
   "outputs": [],
   "source": [
    "# train_ds.save_to_disk(\"data/train_news\")"
   ]
  },
  {
   "cell_type": "markdown",
   "id": "10893954-c6a6-4222-8b57-ddaaad672d38",
   "metadata": {},
   "source": [
    "We can import a training set or a validation set if you want to keep your data consistent by running the following command. Simply replace \"data/train_news\" with a path to your own data."
   ]
  },
  {
   "cell_type": "code",
   "execution_count": 9,
   "id": "5de69a14-fc37-4a9b-91d1-328567dd96a5",
   "metadata": {},
   "outputs": [
    {
     "name": "stdout",
     "output_type": "stream",
     "text": [
      "Dataset({\n",
      "    features: ['text', 'title', 'hyperpartisan', 'url', 'published_at', 'bias'],\n",
      "    num_rows: 20000\n",
      "})\n"
     ]
    }
   ],
   "source": [
    "# train_ds = datasets.load_from_disk(\"data/train_news\")\n",
    "# print(train_ds)"
   ]
  },
  {
   "cell_type": "markdown",
   "id": "35297eb1-9c0b-4d9d-95dd-a27f7b2abb18",
   "metadata": {},
   "source": [
    "Store the subset of data as a new dataset for reproducability"
   ]
  },
  {
   "cell_type": "code",
   "execution_count": null,
   "id": "ecae2a54-6056-428d-b437-6c34a612aec2",
   "metadata": {},
   "outputs": [],
   "source": [
    "# dataset[\"train\"] = train_ds\n",
    "# dataset[\"validation\"] = val_ds\n",
    "# print(dataset)"
   ]
  },
  {
   "cell_type": "code",
   "execution_count": 15,
   "id": "dd3672f4-8a4d-49b6-95cc-7a9148f3212a",
   "metadata": {},
   "outputs": [
    {
     "data": {
      "application/vnd.jupyter.widget-view+json": {
       "model_id": "a9dcd2296ad94b6ca6e4a98fe10fe836",
       "version_major": 2,
       "version_minor": 0
      },
      "text/plain": [
       "VBox(children=(HTML(value='<center>\\n<img src=https://huggingface.co/front/assets/huggingface_logo-noborder.sv…"
      ]
     },
     "metadata": {},
     "output_type": "display_data"
    }
   ],
   "source": [
    "# upload this dataset to huggingface\n",
    "# from huggingface_hub import notebook_login\n",
    "\n",
    "# notebook_login()"
   ]
  },
  {
   "cell_type": "code",
   "execution_count": 37,
   "id": "31b1ae28-9d0b-4f6f-b023-b3e28833f696",
   "metadata": {},
   "outputs": [
    {
     "name": "stderr",
     "output_type": "stream",
     "text": [
      "Pushing split train to the Hub.\n",
      "The repository already exists: the `private` keyword argument will be ignored.\n"
     ]
    },
    {
     "data": {
      "application/vnd.jupyter.widget-view+json": {
       "model_id": "272147976ba14019a7906703f217adf7",
       "version_major": 2,
       "version_minor": 0
      },
      "text/plain": [
       "Pushing dataset shards to the dataset hub:   0%|          | 0/1 [00:00<?, ?it/s]"
      ]
     },
     "metadata": {},
     "output_type": "display_data"
    },
    {
     "name": "stderr",
     "output_type": "stream",
     "text": [
      "Pushing split validation to the Hub.\n",
      "The repository already exists: the `private` keyword argument will be ignored.\n"
     ]
    },
    {
     "data": {
      "application/vnd.jupyter.widget-view+json": {
       "model_id": "52ff4ea1a5f34e93b81ff53e7ea68fc9",
       "version_major": 2,
       "version_minor": 0
      },
      "text/plain": [
       "Pushing dataset shards to the dataset hub:   0%|          | 0/1 [00:00<?, ?it/s]"
      ]
     },
     "metadata": {},
     "output_type": "display_data"
    }
   ],
   "source": [
    "# dataset.push_to_hub(\"danielhou13/cogs402dataset2\")"
   ]
  },
  {
   "cell_type": "markdown",
   "id": "255754f4-cc20-4489-99f7-f2f884c706a9",
   "metadata": {},
   "source": [
    "## Exploratory Data Analysis"
   ]
  },
  {
   "cell_type": "code",
   "execution_count": 12,
   "id": "db1a35c1-d603-4624-bd29-7ebaa05ace9f",
   "metadata": {},
   "outputs": [
    {
     "data": {
      "text/html": [
       "<div>\n",
       "<style scoped>\n",
       "    .dataframe tbody tr th:only-of-type {\n",
       "        vertical-align: middle;\n",
       "    }\n",
       "\n",
       "    .dataframe tbody tr th {\n",
       "        vertical-align: top;\n",
       "    }\n",
       "\n",
       "    .dataframe thead th {\n",
       "        text-align: right;\n",
       "    }\n",
       "</style>\n",
       "<table border=\"1\" class=\"dataframe\">\n",
       "  <thead>\n",
       "    <tr style=\"text-align: right;\">\n",
       "      <th></th>\n",
       "      <th>text</th>\n",
       "      <th>title</th>\n",
       "      <th>hyperpartisan</th>\n",
       "      <th>url</th>\n",
       "      <th>published_at</th>\n",
       "      <th>bias</th>\n",
       "      <th>Words Per article</th>\n",
       "    </tr>\n",
       "  </thead>\n",
       "  <tbody>\n",
       "    <tr>\n",
       "      <th>0</th>\n",
       "      <td>&lt;p&gt;US Treasury Secretary Timothy F. Geithner t...</td>\n",
       "      <td>Geithner defends his role in LIBOR-rigging sca...</td>\n",
       "      <td>False</td>\n",
       "      <td>https://pri.org/stories/2012-07-25/geithner-de...</td>\n",
       "      <td>2012-07-25</td>\n",
       "      <td>3</td>\n",
       "      <td>306</td>\n",
       "    </tr>\n",
       "    <tr>\n",
       "      <th>1</th>\n",
       "      <td>&lt;p&gt;.......... .......... .......... .............</td>\n",
       "      <td>George Beall, who led prosecution of Vice Pres...</td>\n",
       "      <td>False</td>\n",
       "      <td>https://abqjournal.com/930680/george-beall-who...</td>\n",
       "      <td></td>\n",
       "      <td>2</td>\n",
       "      <td>779</td>\n",
       "    </tr>\n",
       "    <tr>\n",
       "      <th>2</th>\n",
       "      <td>&lt;p&gt;Queen Elizabeth II is known to often times ...</td>\n",
       "      <td>The Queen Mother Is Almost Shot In Her Own Bac...</td>\n",
       "      <td>True</td>\n",
       "      <td>http://offthemainpage.com/2017/01/05/the-queen...</td>\n",
       "      <td>2017-01-05</td>\n",
       "      <td>4</td>\n",
       "      <td>180</td>\n",
       "    </tr>\n",
       "    <tr>\n",
       "      <th>3</th>\n",
       "      <td>&lt;p&gt;.......... .......... .......... .............</td>\n",
       "      <td>Rollover accident kills driver</td>\n",
       "      <td>False</td>\n",
       "      <td>https://abqjournal.com/535068/rollover-acciden...</td>\n",
       "      <td></td>\n",
       "      <td>2</td>\n",
       "      <td>139</td>\n",
       "    </tr>\n",
       "    <tr>\n",
       "      <th>4</th>\n",
       "      <td>&lt;p&gt;For the first time in American history, the...</td>\n",
       "      <td>HS Graduation Rate Hits Historic High. Obama C...</td>\n",
       "      <td>True</td>\n",
       "      <td>https://dailywire.com/news/10026/hs-graduation...</td>\n",
       "      <td>2016-10-18</td>\n",
       "      <td>0</td>\n",
       "      <td>373</td>\n",
       "    </tr>\n",
       "  </tbody>\n",
       "</table>\n",
       "</div>"
      ],
      "text/plain": [
       "                                                text  \\\n",
       "0  <p>US Treasury Secretary Timothy F. Geithner t...   \n",
       "1  <p>.......... .......... .......... .............   \n",
       "2  <p>Queen Elizabeth II is known to often times ...   \n",
       "3  <p>.......... .......... .......... .............   \n",
       "4  <p>For the first time in American history, the...   \n",
       "\n",
       "                                               title  hyperpartisan  \\\n",
       "0  Geithner defends his role in LIBOR-rigging sca...          False   \n",
       "1  George Beall, who led prosecution of Vice Pres...          False   \n",
       "2  The Queen Mother Is Almost Shot In Her Own Bac...           True   \n",
       "3                     Rollover accident kills driver          False   \n",
       "4  HS Graduation Rate Hits Historic High. Obama C...           True   \n",
       "\n",
       "                                                 url published_at  bias  \\\n",
       "0  https://pri.org/stories/2012-07-25/geithner-de...   2012-07-25     3   \n",
       "1  https://abqjournal.com/930680/george-beall-who...                  2   \n",
       "2  http://offthemainpage.com/2017/01/05/the-queen...   2017-01-05     4   \n",
       "3  https://abqjournal.com/535068/rollover-acciden...                  2   \n",
       "4  https://dailywire.com/news/10026/hs-graduation...   2016-10-18     0   \n",
       "\n",
       "   Words Per article  \n",
       "0                306  \n",
       "1                779  \n",
       "2                180  \n",
       "3                139  \n",
       "4                373  "
      ]
     },
     "execution_count": 12,
     "metadata": {},
     "output_type": "execute_result"
    }
   ],
   "source": [
    "import pandas as pd\n",
    "\n",
    "train_ds.set_format(type=\"pandas\")\n",
    "df = train_ds[:]\n",
    "df[\"Words Per article\"] = df[\"text\"].str.split().apply(len)\n",
    "df.head()"
   ]
  },
  {
   "cell_type": "markdown",
   "id": "51fca24c-f8f5-4034-8ea3-3efc6cb8baf3",
   "metadata": {},
   "source": [
    "We can see that by randomly selecting 20,000 examples from the training set, we still have a balanced dataset to train on"
   ]
  },
  {
   "cell_type": "code",
   "execution_count": 13,
   "id": "4c70028e-b244-4e05-b8b2-14df5ca8440e",
   "metadata": {},
   "outputs": [
    {
     "data": {
      "text/plain": [
       "False     9904\n",
       "True     10096\n",
       "Name: hyperpartisan, dtype: int64"
      ]
     },
     "execution_count": 13,
     "metadata": {},
     "output_type": "execute_result"
    }
   ],
   "source": [
    "df[\"hyperpartisan\"].value_counts(ascending=True)"
   ]
  },
  {
   "cell_type": "code",
   "execution_count": 14,
   "id": "405d8b58-d7ef-4b06-915b-8d381a35d708",
   "metadata": {},
   "outputs": [
    {
     "data": {
      "image/png": "[encoded data removed]",
      "text/plain": [
       "<Figure size 432x288 with 1 Axes>"
      ]
     },
     "metadata": {
      "needs_background": "light"
     },
     "output_type": "display_data"
    }
   ],
   "source": [
    "import matplotlib.pyplot as plt\n",
    "\n",
    "df[\"hyperpartisan\"].value_counts(ascending=True).plot.barh()\n",
    "plt.title(\"Frequency of Classes\")\n",
    "plt.show()"
   ]
  },
  {
   "cell_type": "markdown",
   "id": "e1c295b7-afd8-4c3a-8562-b8151037a3fa",
   "metadata": {},
   "source": [
    "Lets find out the min, max and average number of words per article. The number of tokens would be higher but it gives us an estimate of the max number of tokens we want our tokenizer to operate on."
   ]
  },
  {
   "cell_type": "code",
   "execution_count": 15,
   "id": "8e387407-d161-4cc5-b15d-392fe4eda179",
   "metadata": {},
   "outputs": [
    {
     "data": {
      "image/png": "[encoded data removed]",
      "text/plain": [
       "<Figure size 432x288 with 1 Axes>"
      ]
     },
     "metadata": {
      "needs_background": "light"
     },
     "output_type": "display_data"
    }
   ],
   "source": [
    "df.boxplot(\"Words Per article\", by=\"hyperpartisan\", grid=False,\n",
    "          showfliers=False, color=\"black\")\n",
    "plt.suptitle(\"\")\n",
    "plt.xlabel(\"\")\n",
    "plt.show()"
   ]
  },
  {
   "cell_type": "code",
   "execution_count": 16,
   "id": "f9b8b356-1db5-463e-8778-fe660be75dae",
   "metadata": {},
   "outputs": [],
   "source": [
    "train_ds.reset_format()"
   ]
  },
  {
   "cell_type": "markdown",
   "id": "fd56087c-2b25-4413-ba1b-4ef2f8a8d7c1",
   "metadata": {},
   "source": [
    "## Preprocessing"
   ]
  },
  {
   "cell_type": "markdown",
   "id": "dade41e2-7120-4ccd-9603-b57479ba6a9d",
   "metadata": {},
   "source": [
    "We need to convert the dataset into a pytorch compatible format so we need to change the target column's name into \"labels\""
   ]
  },
  {
   "cell_type": "code",
   "execution_count": 18,
   "id": "lfWqvXLuLLKE",
   "metadata": {
    "executionInfo": {
     "elapsed": 1039,
     "status": "ok",
     "timestamp": 1653283583694,
     "user": {
      "displayName": "daniel hou",
      "userId": "13623878136116974888"
     },
     "user_tz": 420
    },
    "id": "lfWqvXLuLLKE"
   },
   "outputs": [],
   "source": [
    "#convert hyperpartisan to correct format (from true/false to 1/0)\n",
    "labels = map(int, train_ds['hyperpartisan'])\n",
    "labels = list(labels)\n",
    "\n",
    "labels2 = map(int, eval_ds['hyperpartisan'])\n",
    "labels2 = list(labels2)"
   ]
  },
  {
   "cell_type": "code",
   "execution_count": 19,
   "id": "qZAGovsIVo9b",
   "metadata": {
    "executionInfo": {
     "elapsed": 3842,
     "status": "ok",
     "timestamp": 1653283587535,
     "user": {
      "displayName": "daniel hou",
      "userId": "13623878136116974888"
     },
     "user_tz": 420
    },
    "id": "qZAGovsIVo9b"
   },
   "outputs": [],
   "source": [
    "#add the columns to the dataset\n",
    "train_ds = train_ds.add_column(\"labels\", labels)\n",
    "eval_ds = eval_ds.add_column(\"labels\", labels2)"
   ]
  },
  {
   "cell_type": "markdown",
   "id": "3a690f73-a643-42ff-8dae-cd5293aaed39",
   "metadata": {},
   "source": [
    "We then tokenize the text in the dataset "
   ]
  },
  {
   "cell_type": "code",
   "execution_count": 20,
   "id": "dcb8abc5-a7e1-4f11-8b83-ba9249ba9794",
   "metadata": {
    "executionInfo": {
     "elapsed": 3,
     "status": "ok",
     "timestamp": 1653283588643,
     "user": {
      "displayName": "daniel hou",
      "userId": "13623878136116974888"
     },
     "user_tz": 420
    },
    "id": "dcb8abc5-a7e1-4f11-8b83-ba9249ba9794"
   },
   "outputs": [],
   "source": [
    "#trainer API auto uses dynamic padding... supposedly\n",
    "def tokenize(examples):\n",
    "    return tokenizer(examples[\"text\"], truncation=True)"
   ]
  },
  {
   "cell_type": "code",
   "execution_count": 21,
   "id": "vyRbrI87KuiV",
   "metadata": {
    "colab": {
     "base_uri": "https://localhost:8080/",
     "height": 81,
     "referenced_widgets": [
      "3e58d5edee374d76a67f6da1891ee83b",
      "427db208bdb34478a32f2fd3f1de1f78",
      "f07ad5392a4e4250955215b854c12c79",
      "93c7b17a3f1647a3bf1899e33109e1c0",
      "ee8f8678579a404fa82323ac7545c737",
      "02b8ea9bbe7a4713bea149cf5c478115",
      "e438d8414b2345118ccf5453daa749fd",
      "979b81ccf89447549b26a312be2c507c",
      "1b25852aa90d4f3cb572547c9ba23666",
      "d39d88046b404b069c93b37c3eb2a944",
      "c857fafee3a14ad5b8d1add5646f15a7",
      "c5848d2552704bb48e30362fa5428581",
      "ac9c901b3607417191756f8d7834e69c",
      "5c65010d36c241979900e550c4a2d48c",
      "6184521cee264c9c97f6c7c3e0fcde8b",
      "1913aca80b844d2ba90f501cf76071c9",
      "08fe9bdde6ba4a81ad745f3deb64c880",
      "334aac414fb14d1484c8962bd0265607",
      "2acf07db7c204826a8364f0f2ea96900",
      "450d163c6994441d8f99d0b878406a41",
      "3da15b95275d4f569970abbc18ebf78e",
      "1ef2353d8ead4a678dfece93c12af839"
     ]
    },
    "executionInfo": {
     "elapsed": 96829,
     "status": "ok",
     "timestamp": 1653283685469,
     "user": {
      "displayName": "daniel hou",
      "userId": "13623878136116974888"
     },
     "user_tz": 420
    },
    "id": "vyRbrI87KuiV",
    "outputId": "765801bf-537b-4ee9-cb2c-5c48ac1b60d2"
   },
   "outputs": [
    {
     "data": {
      "application/vnd.jupyter.widget-view+json": {
       "model_id": "d61e861bff9740c98c29913b2c606780",
       "version_major": 2,
       "version_minor": 0
      },
      "text/plain": [
       "0ex [00:00, ?ex/s]"
      ]
     },
     "metadata": {},
     "output_type": "display_data"
    },
    {
     "data": {
      "application/vnd.jupyter.widget-view+json": {
       "model_id": "9f0c4dcd929c4561be8cc1644ac3d3c7",
       "version_major": 2,
       "version_minor": 0
      },
      "text/plain": [
       "0ex [00:00, ?ex/s]"
      ]
     },
     "metadata": {},
     "output_type": "display_data"
    }
   ],
   "source": [
    "#tokenize the data\n",
    "train_dataset = train_ds.map(tokenize, load_from_cache_file=False)\n",
    "val_dataset = eval_ds.map(tokenize, load_from_cache_file=False)\n"
   ]
  },
  {
   "cell_type": "markdown",
   "id": "a8075a2d-7235-4311-8ad6-03718b7a1616",
   "metadata": {},
   "source": [
    "Finally we change the columns we want into pytorch tensors and remove the unnecessary columns"
   ]
  },
  {
   "cell_type": "code",
   "execution_count": 22,
   "id": "fGKeubqFSXqG",
   "metadata": {
    "colab": {
     "base_uri": "https://localhost:8080/"
    },
    "executionInfo": {
     "elapsed": 7,
     "status": "ok",
     "timestamp": 1653283685470,
     "user": {
      "displayName": "daniel hou",
      "userId": "13623878136116974888"
     },
     "user_tz": 420
    },
    "id": "fGKeubqFSXqG",
    "outputId": "985b69be-3c25-4333-c16a-473817c0435c"
   },
   "outputs": [
    {
     "name": "stdout",
     "output_type": "stream",
     "text": [
      "Dataset({\n",
      "    features: ['labels', 'input_ids', 'attention_mask'],\n",
      "    num_rows: 20000\n",
      "})\n"
     ]
    }
   ],
   "source": [
    "#remove unnessesary columns and convert needed ones to torch format\n",
    "train_dataset.set_format(\"torch\", columns=['input_ids', 'attention_mask', \"labels\"])\n",
    "val_dataset.set_format(\"torch\", columns=['input_ids', 'attention_mask', \"labels\"])\n",
    "\n",
    "train_dataset = train_dataset.remove_columns(['text', 'title', 'hyperpartisan', 'url', 'published_at', 'bias'])\n",
    "val_dataset = val_dataset.remove_columns(['text', 'title', 'hyperpartisan', 'url', 'published_at', 'bias'])\n",
    "print(train_dataset)\n"
   ]
  },
  {
   "cell_type": "markdown",
   "id": "234715be-42ff-418d-b25e-b7588cbcbd41",
   "metadata": {},
   "source": [
    "## Training"
   ]
  },
  {
   "cell_type": "markdown",
   "id": "7499c2d1-0ce8-4bc5-8206-1d88b226e41f",
   "metadata": {},
   "source": [
    "We train the 20,000 examples for 2 epochs and use gradient accumulation, gradient checkpointing and mixed precision in order to lower the memory requirements of the training."
   ]
  },
  {
   "cell_type": "code",
   "execution_count": 23,
   "id": "TgmueZ-JUx7f",
   "metadata": {
    "executionInfo": {
     "elapsed": 304,
     "status": "ok",
     "timestamp": 1653283685769,
     "user": {
      "displayName": "daniel hou",
      "userId": "13623878136116974888"
     },
     "user_tz": 420
    },
    "id": "TgmueZ-JUx7f"
   },
   "outputs": [],
   "source": [
    "from transformers import DataCollatorWithPadding\n",
    "data_collator = DataCollatorWithPadding(tokenizer=tokenizer)"
   ]
  },
  {
   "cell_type": "code",
   "execution_count": 24,
   "id": "USczxA0T6dYE",
   "metadata": {
    "colab": {
     "base_uri": "https://localhost:8080/"
    },
    "executionInfo": {
     "elapsed": 6447,
     "status": "ok",
     "timestamp": 1653283692214,
     "user": {
      "displayName": "daniel hou",
      "userId": "13623878136116974888"
     },
     "user_tz": 420
    },
    "id": "USczxA0T6dYE",
    "outputId": "9d2ec59e-83e3-46e4-971a-8eed52db8e28"
   },
   "outputs": [
    {
     "data": {
      "text/plain": [
       "device(type='cuda')"
      ]
     },
     "execution_count": 24,
     "metadata": {},
     "output_type": "execute_result"
    }
   ],
   "source": [
    "import torch\n",
    "\n",
    "device = torch.device(\"cuda\") if torch.cuda.is_available() else torch.device(\"cpu\")\n",
    "model3.to(device)\n",
    "device"
   ]
  },
  {
   "cell_type": "code",
   "execution_count": 25,
   "id": "da367dfa-4ad4-461b-91f8-6e1554c92108",
   "metadata": {},
   "outputs": [],
   "source": [
    "#create checkpointing folder if doesn't exist\n",
    "if not os.path.exists(\"models\"):\n",
    "    os.mkdir(\"models\")"
   ]
  },
  {
   "cell_type": "code",
   "execution_count": 26,
   "id": "CQ346ehMaQIL",
   "metadata": {
    "colab": {
     "base_uri": "https://localhost:8080/",
     "height": 373
    },
    "executionInfo": {
     "elapsed": 440,
     "status": "error",
     "timestamp": 1653284223625,
     "user": {
      "displayName": "daniel hou",
      "userId": "13623878136116974888"
     },
     "user_tz": 420
    },
    "id": "CQ346ehMaQIL",
    "outputId": "cb8d69da-b4c1-4294-a5a1-bba3dff2594f"
   },
   "outputs": [],
   "source": [
    "from transformers import Trainer, TrainingArguments\n",
    "\n",
    "batch_size = 1\n",
    "gradient_acc = 4\n",
    "logging_steps = (len(train_dataset) // batch_size) // gradient_acc\n",
    "model_name = f\"longformer-finetuned\"\n",
    "training_args = TrainingArguments(output_dir=f\"models/{model_name}\",\n",
    "                                  num_train_epochs = 2,\n",
    "                                  learning_rate=2e-5,\n",
    "                                  per_device_train_batch_size=batch_size,\n",
    "                                  per_device_eval_batch_size=batch_size,\n",
    "                                  weight_decay=0.01,\n",
    "                                  evaluation_strategy=\"epoch\",\n",
    "                                  disable_tqdm=False,\n",
    "                                  push_to_hub=False,\n",
    "                                  logging_steps=logging_steps,\n",
    "                                  log_level=\"error\",\n",
    "                                  fp16=True,\n",
    "                                  gradient_accumulation_steps=gradient_acc,\n",
    "                                  gradient_checkpointing=True,\n",
    "                                  save_strategy = \"epoch\")"
   ]
  },
  {
   "cell_type": "code",
   "execution_count": 27,
   "id": "149d63d2-f635-4bc3-bb0f-7615b94e4dd9",
   "metadata": {},
   "outputs": [
    {
     "name": "stdout",
     "output_type": "stream",
     "text": [
      "5000\n"
     ]
    }
   ],
   "source": [
    "print(logging_steps)"
   ]
  },
  {
   "cell_type": "markdown",
   "id": "81e325b3-0428-476b-85a9-9d7a7bebc220",
   "metadata": {},
   "source": [
    "We use f1-score and accuracy as fairly general metrics."
   ]
  },
  {
   "cell_type": "code",
   "execution_count": 28,
   "id": "MIIbzZktBwwJ",
   "metadata": {
    "executionInfo": {
     "elapsed": 217,
     "status": "ok",
     "timestamp": 1653284091485,
     "user": {
      "displayName": "daniel hou",
      "userId": "13623878136116974888"
     },
     "user_tz": 420
    },
    "id": "MIIbzZktBwwJ"
   },
   "outputs": [],
   "source": [
    "#create the metrics we want to find out, can import othe things like precision, recall if needed\n",
    "from sklearn.metrics import accuracy_score, f1_score\n",
    "\n",
    "def compute_metrics(pred):\n",
    "    labels = pred.label_ids\n",
    "    preds = pred.predictions.argmax(-1)\n",
    "    f1 = f1_score(labels, preds, average=\"weighted\")\n",
    "    acc = accuracy_score(labels, preds)\n",
    "    return {\"accuracy\": acc, \"f1\": f1}"
   ]
  },
  {
   "cell_type": "code",
   "execution_count": 29,
   "id": "wLnc-P7WBWls",
   "metadata": {
    "executionInfo": {
     "elapsed": 207,
     "status": "ok",
     "timestamp": 1653284092773,
     "user": {
      "displayName": "daniel hou",
      "userId": "13623878136116974888"
     },
     "user_tz": 420
    },
    "id": "wLnc-P7WBWls"
   },
   "outputs": [],
   "source": [
    "trainer = Trainer(\n",
    "    model=model3,\n",
    "    args=training_args,\n",
    "    train_dataset=train_dataset,\n",
    "    eval_dataset=val_dataset,\n",
    "    compute_metrics=compute_metrics,\n",
    "    tokenizer=tokenizer,\n",
    "    data_collator = data_collator\n",
    ")\n"
   ]
  },
  {
   "cell_type": "code",
   "execution_count": 26,
   "id": "We_n8i9XaS8H",
   "metadata": {
    "colab": {
     "base_uri": "https://localhost:8080/",
     "height": 424
    },
    "executionInfo": {
     "elapsed": 141993,
     "status": "error",
     "timestamp": 1653284040645,
     "user": {
      "displayName": "daniel hou",
      "userId": "13623878136116974888"
     },
     "user_tz": 420
    },
    "id": "We_n8i9XaS8H",
    "outputId": "0e857d1b-4712-4a76-e845-732ae973af57"
   },
   "outputs": [
    {
     "name": "stderr",
     "output_type": "stream",
     "text": [
      "C:\\Users\\danie\\miniconda3\\lib\\site-packages\\transformers\\optimization.py:306: FutureWarning: This implementation of AdamW is deprecated and will be removed in a future version. Use thePyTorch implementation torch.optim.AdamW instead, or set `no_deprecation_warning=True` to disable this warning\n",
      "  warnings.warn(\n"
     ]
    },
    {
     "data": {
      "text/html": [
       "\n",
       "    <div>\n",
       "      \n",
       "      <progress value='10000' max='10000' style='width:300px; height:20px; vertical-align: middle;'></progress>\n",
       "      [10000/10000 4:26:30, Epoch 2/2]\n",
       "    </div>\n",
       "    <table border=\"1\" class=\"dataframe\">\n",
       "  <thead>\n",
       " <tr style=\"text-align: left;\">\n",
       "      <th>Epoch</th>\n",
       "      <th>Training Loss</th>\n",
       "      <th>Validation Loss</th>\n",
       "      <th>Accuracy</th>\n",
       "      <th>F1</th>\n",
       "    </tr>\n",
       "  </thead>\n",
       "  <tbody>\n",
       "    <tr>\n",
       "      <td>1</td>\n",
       "      <td>0.304400</td>\n",
       "      <td>0.203822</td>\n",
       "      <td>0.954200</td>\n",
       "      <td>0.954171</td>\n",
       "    </tr>\n",
       "    <tr>\n",
       "      <td>2</td>\n",
       "      <td>0.144900</td>\n",
       "      <td>0.178321</td>\n",
       "      <td>0.966400</td>\n",
       "      <td>0.966400</td>\n",
       "    </tr>\n",
       "  </tbody>\n",
       "</table><p>"
      ],
      "text/plain": [
       "<IPython.core.display.HTML object>"
      ]
     },
     "metadata": {},
     "output_type": "display_data"
    },
    {
     "data": {
      "text/plain": [
       "TrainOutput(global_step=10000, training_loss=0.224652294921875, metrics={'train_runtime': 15993.7761, 'train_samples_per_second': 2.501, 'train_steps_per_second': 0.625, 'total_flos': 2.9076480813790464e+16, 'train_loss': 0.224652294921875, 'epoch': 2.0})"
      ]
     },
     "execution_count": 26,
     "metadata": {},
     "output_type": "execute_result"
    }
   ],
   "source": [
    "trainer.train()"
   ]
  },
  {
   "cell_type": "code",
   "execution_count": 30,
   "id": "2185ec51-5333-46c5-a184-603e1a9ac3c3",
   "metadata": {},
   "outputs": [
    {
     "data": {
      "text/html": [
       "\n",
       "    <div>\n",
       "      \n",
       "      <progress value='2500' max='2500' style='width:300px; height:20px; vertical-align: middle;'></progress>\n",
       "      [2500/2500 03:46]\n",
       "    </div>\n",
       "    "
      ],
      "text/plain": [
       "<IPython.core.display.HTML object>"
      ]
     },
     "metadata": {},
     "output_type": "display_data"
    }
   ],
   "source": [
    "preds_output = trainer.predict(val_dataset)"
   ]
  },
  {
   "cell_type": "markdown",
   "id": "42a8ac38-94f6-4498-96a9-de93ae248069",
   "metadata": {},
   "source": [
    "## Results"
   ]
  },
  {
   "cell_type": "code",
   "execution_count": 31,
   "id": "a6772e5b-1710-428e-88d3-4280f9e87433",
   "metadata": {},
   "outputs": [
    {
     "data": {
      "text/plain": [
       "{'test_loss': 0.19348768889904022,\n",
       " 'test_accuracy': 0.966,\n",
       " 'test_f1': 0.9659996788611385,\n",
       " 'test_runtime': 228.9692,\n",
       " 'test_samples_per_second': 10.918,\n",
       " 'test_steps_per_second': 10.918}"
      ]
     },
     "execution_count": 31,
     "metadata": {},
     "output_type": "execute_result"
    }
   ],
   "source": [
    "preds_output.metrics"
   ]
  },
  {
   "cell_type": "code",
   "execution_count": 32,
   "id": "0380ede8-68cf-4c1d-8232-ac4eb32f9749",
   "metadata": {},
   "outputs": [],
   "source": [
    "import numpy as np\n",
    "y_preds = np.argmax(preds_output.predictions, axis=1)\n",
    "y_true = np.array(val_dataset[\"labels\"])"
   ]
  },
  {
   "cell_type": "code",
   "execution_count": 33,
   "id": "b4aceec9-8352-4028-a870-a20cec7c9453",
   "metadata": {},
   "outputs": [
    {
     "name": "stdout",
     "output_type": "stream",
     "text": [
      "              precision    recall  f1-score   support\n",
      "\n",
      "       false       0.97      0.97      0.97      1279\n",
      "        true       0.97      0.96      0.97      1221\n",
      "\n",
      "    accuracy                           0.97      2500\n",
      "   macro avg       0.97      0.97      0.97      2500\n",
      "weighted avg       0.97      0.97      0.97      2500\n",
      "\n"
     ]
    }
   ],
   "source": [
    "from sklearn.metrics import classification_report\n",
    "print(\n",
    "    classification_report(\n",
    "        y_true, y_preds, target_names=[\"false\", \"true\"]\n",
    "    )\n",
    ")"
   ]
  },
  {
   "cell_type": "code",
   "execution_count": 34,
   "id": "890c609d-12fb-40be-9935-d4153fb49af7",
   "metadata": {},
   "outputs": [],
   "source": [
    "from sklearn.metrics import ConfusionMatrixDisplay, confusion_matrix\n",
    "import matplotlib.pyplot as plt\n",
    "\n",
    "def plot_confusion_matrix(y_preds, y_true, labels):\n",
    "    cm = confusion_matrix(y_true, y_preds)\n",
    "    fig, ax = plt.subplots(figsize=(6, 6))\n",
    "    disp = ConfusionMatrixDisplay(confusion_matrix=cm, display_labels=labels)\n",
    "    disp.plot(cmap=\"Blues\", values_format=\".2f\", ax=ax, colorbar=False)\n",
    "    plt.title(\"Normalized confusion matrix\")\n",
    "    plt.show()\n",
    "\n"
   ]
  },
  {
   "cell_type": "code",
   "execution_count": 35,
   "id": "94a809b3-a695-40bc-91ae-6a138dcecd83",
   "metadata": {},
   "outputs": [
    {
     "data": {
      "image/png": "[encoded data removed]",
      "text/plain": [
       "<Figure size 432x432 with 1 Axes>"
      ]
     },
     "metadata": {
      "needs_background": "light"
     },
     "output_type": "display_data"
    },
    {
     "name": "stdout",
     "output_type": "stream",
     "text": [
      "(2500,)\n",
      "(2500,)\n"
     ]
    }
   ],
   "source": [
    "plot_confusion_matrix(y_preds, y_true, labels=[\"false\", \"true\"])\n",
    "print(y_true.shape)\n",
    "print(y_preds.shape)"
   ]
  },
  {
   "cell_type": "markdown",
   "id": "de8d66e5-6b74-4c55-8e06-61c244d297d7",
   "metadata": {},
   "source": [
    "Trying on a larger evaluation set size (15000 vs 5000)"
   ]
  },
  {
   "cell_type": "code",
   "execution_count": 36,
   "id": "56addc1a-4769-4f00-87da-25dd25bd3f93",
   "metadata": {},
   "outputs": [],
   "source": [
    "## Take subset of data\n",
    "val_size2 = 15000\n",
    "val_indices2 = np.random.randint(0, len(eval_ds), val_size2)\n",
    "val_ds2 = eval_ds.select(val_indices2)"
   ]
  },
  {
   "cell_type": "code",
   "execution_count": 37,
   "id": "b25f0dd7-c839-4d8a-8418-90db21abd3ea",
   "metadata": {},
   "outputs": [],
   "source": [
    "labels3 = map(int, val_ds2['hyperpartisan'])\n",
    "labels3 = list(labels3)"
   ]
  },
  {
   "cell_type": "code",
   "execution_count": 38,
   "id": "2606276f-68df-4675-a8f7-522915ccd3ef",
   "metadata": {},
   "outputs": [
    {
     "data": {
      "application/vnd.jupyter.widget-view+json": {
       "model_id": "f86dfc02c00749a398e52a6379f97c59",
       "version_major": 2,
       "version_minor": 0
      },
      "text/plain": [
       "Flattening the indices:   0%|          | 0/15 [00:00<?, ?ba/s]"
      ]
     },
     "metadata": {},
     "output_type": "display_data"
    }
   ],
   "source": [
    "val_ds2 = val_ds2.add_column(\"labels\", labels3)"
   ]
  },
  {
   "cell_type": "code",
   "execution_count": 39,
   "id": "50121225-e42e-4ac4-9df6-12971466527c",
   "metadata": {},
   "outputs": [
    {
     "data": {
      "application/vnd.jupyter.widget-view+json": {
       "model_id": "2b378076493548a89f7a9dce3e15f57f",
       "version_major": 2,
       "version_minor": 0
      },
      "text/plain": [
       "0ex [00:00, ?ex/s]"
      ]
     },
     "metadata": {},
     "output_type": "display_data"
    }
   ],
   "source": [
    "val_dataset2 = val_ds2.map(tokenize, load_from_cache_file=False)"
   ]
  },
  {
   "cell_type": "code",
   "execution_count": 40,
   "id": "947b0bc9-74ae-4f0f-8f8c-c836e662084f",
   "metadata": {},
   "outputs": [],
   "source": [
    "#remove unnessesary columns and convert needed ones to torch format\n",
    "val_dataset2.set_format(\"torch\", columns=['input_ids', 'attention_mask', \"labels\"])\n",
    "val_dataset2 = val_dataset2.remove_columns(['text', 'title', 'hyperpartisan', 'url', 'published_at', 'bias'])"
   ]
  },
  {
   "cell_type": "code",
   "execution_count": 41,
   "id": "157e458e-0b43-4266-9f60-19ff8bd80d8d",
   "metadata": {},
   "outputs": [
    {
     "data": {
      "text/html": [
       "\n",
       "    <div>\n",
       "      \n",
       "      <progress value='15000' max='15000' style='width:300px; height:20px; vertical-align: middle;'></progress>\n",
       "      [15000/15000 26:36]\n",
       "    </div>\n",
       "    "
      ],
      "text/plain": [
       "<IPython.core.display.HTML object>"
      ]
     },
     "metadata": {},
     "output_type": "display_data"
    }
   ],
   "source": [
    "preds_output2 = trainer.predict(val_dataset2)"
   ]
  },
  {
   "cell_type": "code",
   "execution_count": 42,
   "id": "75b398ba-b059-4441-9425-1327e95a0ba7",
   "metadata": {},
   "outputs": [],
   "source": [
    "y_preds2 = np.argmax(preds_output2.predictions, axis=1)\n",
    "y_true2 = np.array(val_dataset2[\"labels\"])"
   ]
  },
  {
   "cell_type": "code",
   "execution_count": 44,
   "id": "4371f5e7-1245-4052-9a6e-3c3d3d2a3e66",
   "metadata": {},
   "outputs": [
    {
     "name": "stdout",
     "output_type": "stream",
     "text": [
      "              precision    recall  f1-score   support\n",
      "\n",
      "       false       0.97      0.96      0.97      7506\n",
      "        true       0.96      0.97      0.97      7494\n",
      "\n",
      "    accuracy                           0.97     15000\n",
      "   macro avg       0.97      0.97      0.97     15000\n",
      "weighted avg       0.97      0.97      0.97     15000\n",
      "\n"
     ]
    }
   ],
   "source": [
    "from sklearn.metrics import classification_report\n",
    "print(\n",
    "    classification_report(\n",
    "        y_true2, y_preds2, target_names=[\"false\", \"true\"]\n",
    "    )\n",
    ")"
   ]
  },
  {
   "cell_type": "code",
   "execution_count": 49,
   "id": "a6b31a23-9408-4d6b-b17a-94daf072a905",
   "metadata": {},
   "outputs": [
    {
     "data": {
      "image/png": "[encoded data removed]",
      "text/plain": [
       "<Figure size 432x432 with 1 Axes>"
      ]
     },
     "metadata": {
      "needs_background": "light"
     },
     "output_type": "display_data"
    },
    {
     "name": "stdout",
     "output_type": "stream",
     "text": [
      "(15000,)\n",
      "(15000,)\n"
     ]
    }
   ],
   "source": [
    "plot_confusion_matrix(y_preds2, y_true2, labels=[\"false\", \"true\"])\n",
    "print(y_true2.shape)\n",
    "print(y_preds2.shape)"
   ]
  },
  {
   "cell_type": "markdown",
   "id": "ef9b4628-9e09-4fac-8307-950ab4c43099",
   "metadata": {},
   "source": [
    "## Upload to huggingface"
   ]
  },
  {
   "cell_type": "code",
   "execution_count": 40,
   "id": "1968dfbc-d07b-49a6-ab61-20596e295701",
   "metadata": {},
   "outputs": [
    {
     "data": {
      "application/vnd.jupyter.widget-view+json": {
       "model_id": "425783a84e0146499b06295f7e54999b",
       "version_major": 2,
       "version_minor": 0
      },
      "text/plain": [
       "VBox(children=(HTML(value='<center>\\n<img src=https://huggingface.co/front/assets/huggingface_logo-noborder.sv…"
      ]
     },
     "metadata": {},
     "output_type": "display_data"
    }
   ],
   "source": [
    "from huggingface_hub import notebook_login\n",
    "\n",
    "notebook_login()"
   ]
  },
  {
   "cell_type": "code",
   "execution_count": 42,
   "id": "5fc9d679-861f-4977-a629-da0562581a97",
   "metadata": {},
   "outputs": [
    {
     "name": "stderr",
     "output_type": "stream",
     "text": [
      "C:\\Users\\danie\\miniconda3\\lib\\site-packages\\huggingface_hub\\hf_api.py:1001: FutureWarning: `create_repo` now takes `token` as an optional positional argument. Be sure to adapt your code!\n",
      "  warnings.warn(\n",
      "Cloning https://huggingface.co/danielhou13/longformer-finetuned-news-cogs402 into local empty directory.\n"
     ]
    },
    {
     "data": {
      "application/vnd.jupyter.widget-view+json": {
       "model_id": "241a2891741244149e8ff625d767f08d",
       "version_major": 2,
       "version_minor": 0
      },
      "text/plain": [
       "Download file pytorch_model.bin:   0%|          | 2.83k/567M [00:00<?, ?B/s]"
      ]
     },
     "metadata": {},
     "output_type": "display_data"
    },
    {
     "data": {
      "application/vnd.jupyter.widget-view+json": {
       "model_id": "bb5c16c645b142d2b4744bf42861269a",
       "version_major": 2,
       "version_minor": 0
      },
      "text/plain": [
       "Clean file pytorch_model.bin:   0%|          | 1.00k/567M [00:00<?, ?B/s]"
      ]
     },
     "metadata": {},
     "output_type": "display_data"
    },
    {
     "data": {
      "application/vnd.jupyter.widget-view+json": {
       "model_id": "57917e09e65f465a868891b6a380ad80",
       "version_major": 2,
       "version_minor": 0
      },
      "text/plain": [
       "Upload file pytorch_model.bin:   0%|          | 32.0k/567M [00:00<?, ?B/s]"
      ]
     },
     "metadata": {},
     "output_type": "display_data"
    },
    {
     "name": "stderr",
     "output_type": "stream",
     "text": [
      "remote: Enforcing permissions...        \n",
      "remote: Allowed refs: all        \n",
      "To https://huggingface.co/danielhou13/longformer-finetuned-news-cogs402\n",
      "   d4645d3..46dc639  main -> main\n",
      "\n"
     ]
    },
    {
     "data": {
      "text/plain": [
       "'https://huggingface.co/danielhou13/longformer-finetuned-news-cogs402/commit/46dc639baa796e9ad30abbfb37135e125582aad6'"
      ]
     },
     "execution_count": 42,
     "metadata": {},
     "output_type": "execute_result"
    }
   ],
   "source": [
    "# upload model to huggingface for storage\n",
    "# replace danielhou13 with personal user\n",
    "model.push_to_hub(\"danielhou13/longformer-finetuned-news-cogs402\")"
   ]
  },
  {
   "cell_type": "code",
   "execution_count": null,
   "id": "6defca35-0160-47d0-8ee3-ad8773c5fabb",
   "metadata": {},
   "outputs": [],
   "source": []
  }
 ],
 "metadata": {
  "accelerator": "GPU",
  "colab": {
   "collapsed_sections": [],
   "name": "longformerpractice.ipynb",
   "provenance": []
  },
  "kernelspec": {
   "display_name": "cogs402",
   "language": "python",
   "name": "cogs402"
  },
  "language_info": {
   "codemirror_mode": {
    "name": "ipython",
    "version": 3
   },
   "file_extension": ".py",
   "mimetype": "text/x-python",
   "name": "python",
   "nbconvert_exporter": "python",
   "pygments_lexer": "ipython3",
   "version": "3.9.9"
  },
  "widgets": {
   "application/vnd.jupyter.widget-state+json": {
    "02b8ea9bbe7a4713bea149cf5c478115": {
     "model_module": "@jupyter-widgets/base",
     "model_module_version": "1.2.0",
     "model_name": "LayoutModel",
     "state": {
      "_model_module": "@jupyter-widgets/base",
      "_model_module_version": "1.2.0",
      "_model_name": "LayoutModel",
      "_view_count": null,
      "_view_module": "@jupyter-widgets/base",
      "_view_module_version": "1.2.0",
      "_view_name": "LayoutView",
      "align_content": null,
      "align_items": null,
      "align_self": null,
      "border": null,
      "bottom": null,
      "display": null,
      "flex": null,
      "flex_flow": null,
      "grid_area": null,
      "grid_auto_columns": null,
      "grid_auto_flow": null,
      "grid_auto_rows": null,
      "grid_column": null,
      "grid_gap": null,
      "grid_row": null,
      "grid_template_areas": null,
      "grid_template_columns": null,
      "grid_template_rows": null,
      "height": null,
      "justify_content": null,
      "justify_items": null,
      "left": null,
      "margin": null,
      "max_height": null,
      "max_width": null,
      "min_height": null,
      "min_width": null,
      "object_fit": null,
      "object_position": null,
      "order": null,
      "overflow": null,
      "overflow_x": null,
      "overflow_y": null,
      "padding": null,
      "right": null,
      "top": null,
      "visibility": null,
      "width": null
     }
    },
    "08fe9bdde6ba4a81ad745f3deb64c880": {
     "model_module": "@jupyter-widgets/base",
     "model_module_version": "1.2.0",
     "model_name": "LayoutModel",
     "state": {
      "_model_module": "@jupyter-widgets/base",
      "_model_module_version": "1.2.0",
      "_model_name": "LayoutModel",
      "_view_count": null,
      "_view_module": "@jupyter-widgets/base",
      "_view_module_version": "1.2.0",
      "_view_name": "LayoutView",
      "align_content": null,
      "align_items": null,
      "align_self": null,
      "border": null,
      "bottom": null,
      "display": null,
      "flex": null,
      "flex_flow": null,
      "grid_area": null,
      "grid_auto_columns": null,
      "grid_auto_flow": null,
      "grid_auto_rows": null,
      "grid_column": null,
      "grid_gap": null,
      "grid_row": null,
      "grid_template_areas": null,
      "grid_template_columns": null,
      "grid_template_rows": null,
      "height": null,
      "justify_content": null,
      "justify_items": null,
      "left": null,
      "margin": null,
      "max_height": null,
      "max_width": null,
      "min_height": null,
      "min_width": null,
      "object_fit": null,
      "object_position": null,
      "order": null,
      "overflow": null,
      "overflow_x": null,
      "overflow_y": null,
      "padding": null,
      "right": null,
      "top": null,
      "visibility": null,
      "width": null
     }
    },
    "0c488957be394244b990e12a62022af9": {
     "model_module": "@jupyter-widgets/controls",
     "model_module_version": "1.5.0",
     "model_name": "FloatProgressModel",
     "state": {
      "_dom_classes": [],
      "_model_module": "@jupyter-widgets/controls",
      "_model_module_version": "1.5.0",
      "_model_name": "FloatProgressModel",
      "_view_count": null,
      "_view_module": "@jupyter-widgets/controls",
      "_view_module_version": "1.5.0",
      "_view_name": "ProgressView",
      "bar_style": "success",
      "description": "",
      "description_tooltip": null,
      "layout": "IPY_MODEL_69b180753fd5499e865a943fc4c95746",
      "max": 2,
      "min": 0,
      "orientation": "horizontal",
      "style": "IPY_MODEL_8f5a2830d7974d12a24d670e6e1ebe0a",
      "value": 2
     }
    },
    "1913aca80b844d2ba90f501cf76071c9": {
     "model_module": "@jupyter-widgets/base",
     "model_module_version": "1.2.0",
     "model_name": "LayoutModel",
     "state": {
      "_model_module": "@jupyter-widgets/base",
      "_model_module_version": "1.2.0",
      "_model_name": "LayoutModel",
      "_view_count": null,
      "_view_module": "@jupyter-widgets/base",
      "_view_module_version": "1.2.0",
      "_view_name": "LayoutView",
      "align_content": null,
      "align_items": null,
      "align_self": null,
      "border": null,
      "bottom": null,
      "display": null,
      "flex": null,
      "flex_flow": null,
      "grid_area": null,
      "grid_auto_columns": null,
      "grid_auto_flow": null,
      "grid_auto_rows": null,
      "grid_column": null,
      "grid_gap": null,
      "grid_row": null,
      "grid_template_areas": null,
      "grid_template_columns": null,
      "grid_template_rows": null,
      "height": null,
      "justify_content": null,
      "justify_items": null,
      "left": null,
      "margin": null,
      "max_height": null,
      "max_width": null,
      "min_height": null,
      "min_width": null,
      "object_fit": null,
      "object_position": null,
      "order": null,
      "overflow": null,
      "overflow_x": null,
      "overflow_y": null,
      "padding": null,
      "right": null,
      "top": null,
      "visibility": null,
      "width": null
     }
    },
    "1aba16346b424b23b86c927b56995a20": {
     "model_module": "@jupyter-widgets/controls",
     "model_module_version": "1.5.0",
     "model_name": "HBoxModel",
     "state": {
      "_dom_classes": [],
      "_model_module": "@jupyter-widgets/controls",
      "_model_module_version": "1.5.0",
      "_model_name": "HBoxModel",
      "_view_count": null,
      "_view_module": "@jupyter-widgets/controls",
      "_view_module_version": "1.5.0",
      "_view_name": "HBoxView",
      "box_style": "",
      "children": [
       "IPY_MODEL_1d6ae00dbc6f420f922621e2d261ef54",
       "IPY_MODEL_0c488957be394244b990e12a62022af9",
       "IPY_MODEL_56317b56c7fc4cdeb55db09df3f0f824"
      ],
      "layout": "IPY_MODEL_3294ccd3cef744b880c37747189e63f5"
     }
    },
    "1b25852aa90d4f3cb572547c9ba23666": {
     "model_module": "@jupyter-widgets/controls",
     "model_module_version": "1.5.0",
     "model_name": "ProgressStyleModel",
     "state": {
      "_model_module": "@jupyter-widgets/controls",
      "_model_module_version": "1.5.0",
      "_model_name": "ProgressStyleModel",
      "_view_count": null,
      "_view_module": "@jupyter-widgets/base",
      "_view_module_version": "1.2.0",
      "_view_name": "StyleView",
      "bar_color": null,
      "description_width": ""
     }
    },
    "1d6ae00dbc6f420f922621e2d261ef54": {
     "model_module": "@jupyter-widgets/controls",
     "model_module_version": "1.5.0",
     "model_name": "HTMLModel",
     "state": {
      "_dom_classes": [],
      "_model_module": "@jupyter-widgets/controls",
      "_model_module_version": "1.5.0",
      "_model_name": "HTMLModel",
      "_view_count": null,
      "_view_module": "@jupyter-widgets/controls",
      "_view_module_version": "1.5.0",
      "_view_name": "HTMLView",
      "description": "",
      "description_tooltip": null,
      "layout": "IPY_MODEL_c8c49529aa5e46eeb001e1b1360c6bdd",
      "placeholder": "​",
      "style": "IPY_MODEL_b1ae47c28ab04a01920129d252445008",
      "value": "100%"
     }
    },
    "1ef2353d8ead4a678dfece93c12af839": {
     "model_module": "@jupyter-widgets/controls",
     "model_module_version": "1.5.0",
     "model_name": "DescriptionStyleModel",
     "state": {
      "_model_module": "@jupyter-widgets/controls",
      "_model_module_version": "1.5.0",
      "_model_name": "DescriptionStyleModel",
      "_view_count": null,
      "_view_module": "@jupyter-widgets/base",
      "_view_module_version": "1.2.0",
      "_view_name": "StyleView",
      "description_width": ""
     }
    },
    "2acf07db7c204826a8364f0f2ea96900": {
     "model_module": "@jupyter-widgets/base",
     "model_module_version": "1.2.0",
     "model_name": "LayoutModel",
     "state": {
      "_model_module": "@jupyter-widgets/base",
      "_model_module_version": "1.2.0",
      "_model_name": "LayoutModel",
      "_view_count": null,
      "_view_module": "@jupyter-widgets/base",
      "_view_module_version": "1.2.0",
      "_view_name": "LayoutView",
      "align_content": null,
      "align_items": null,
      "align_self": null,
      "border": null,
      "bottom": null,
      "display": null,
      "flex": null,
      "flex_flow": null,
      "grid_area": null,
      "grid_auto_columns": null,
      "grid_auto_flow": null,
      "grid_auto_rows": null,
      "grid_column": null,
      "grid_gap": null,
      "grid_row": null,
      "grid_template_areas": null,
      "grid_template_columns": null,
      "grid_template_rows": null,
      "height": null,
      "justify_content": null,
      "justify_items": null,
      "left": null,
      "margin": null,
      "max_height": null,
      "max_width": null,
      "min_height": null,
      "min_width": null,
      "object_fit": null,
      "object_position": null,
      "order": null,
      "overflow": null,
      "overflow_x": null,
      "overflow_y": null,
      "padding": null,
      "right": null,
      "top": null,
      "visibility": null,
      "width": null
     }
    },
    "3294ccd3cef744b880c37747189e63f5": {
     "model_module": "@jupyter-widgets/base",
     "model_module_version": "1.2.0",
     "model_name": "LayoutModel",
     "state": {
      "_model_module": "@jupyter-widgets/base",
      "_model_module_version": "1.2.0",
      "_model_name": "LayoutModel",
      "_view_count": null,
      "_view_module": "@jupyter-widgets/base",
      "_view_module_version": "1.2.0",
      "_view_name": "LayoutView",
      "align_content": null,
      "align_items": null,
      "align_self": null,
      "border": null,
      "bottom": null,
      "display": null,
      "flex": null,
      "flex_flow": null,
      "grid_area": null,
      "grid_auto_columns": null,
      "grid_auto_flow": null,
      "grid_auto_rows": null,
      "grid_column": null,
      "grid_gap": null,
      "grid_row": null,
      "grid_template_areas": null,
      "grid_template_columns": null,
      "grid_template_rows": null,
      "height": null,
      "justify_content": null,
      "justify_items": null,
      "left": null,
      "margin": null,
      "max_height": null,
      "max_width": null,
      "min_height": null,
      "min_width": null,
      "object_fit": null,
      "object_position": null,
      "order": null,
      "overflow": null,
      "overflow_x": null,
      "overflow_y": null,
      "padding": null,
      "right": null,
      "top": null,
      "visibility": null,
      "width": null
     }
    },
    "334aac414fb14d1484c8962bd0265607": {
     "model_module": "@jupyter-widgets/controls",
     "model_module_version": "1.5.0",
     "model_name": "DescriptionStyleModel",
     "state": {
      "_model_module": "@jupyter-widgets/controls",
      "_model_module_version": "1.5.0",
      "_model_name": "DescriptionStyleModel",
      "_view_count": null,
      "_view_module": "@jupyter-widgets/base",
      "_view_module_version": "1.2.0",
      "_view_name": "StyleView",
      "description_width": ""
     }
    },
    "3da15b95275d4f569970abbc18ebf78e": {
     "model_module": "@jupyter-widgets/base",
     "model_module_version": "1.2.0",
     "model_name": "LayoutModel",
     "state": {
      "_model_module": "@jupyter-widgets/base",
      "_model_module_version": "1.2.0",
      "_model_name": "LayoutModel",
      "_view_count": null,
      "_view_module": "@jupyter-widgets/base",
      "_view_module_version": "1.2.0",
      "_view_name": "LayoutView",
      "align_content": null,
      "align_items": null,
      "align_self": null,
      "border": null,
      "bottom": null,
      "display": null,
      "flex": null,
      "flex_flow": null,
      "grid_area": null,
      "grid_auto_columns": null,
      "grid_auto_flow": null,
      "grid_auto_rows": null,
      "grid_column": null,
      "grid_gap": null,
      "grid_row": null,
      "grid_template_areas": null,
      "grid_template_columns": null,
      "grid_template_rows": null,
      "height": null,
      "justify_content": null,
      "justify_items": null,
      "left": null,
      "margin": null,
      "max_height": null,
      "max_width": null,
      "min_height": null,
      "min_width": null,
      "object_fit": null,
      "object_position": null,
      "order": null,
      "overflow": null,
      "overflow_x": null,
      "overflow_y": null,
      "padding": null,
      "right": null,
      "top": null,
      "visibility": null,
      "width": null
     }
    },
    "3e58d5edee374d76a67f6da1891ee83b": {
     "model_module": "@jupyter-widgets/controls",
     "model_module_version": "1.5.0",
     "model_name": "HBoxModel",
     "state": {
      "_dom_classes": [],
      "_model_module": "@jupyter-widgets/controls",
      "_model_module_version": "1.5.0",
      "_model_name": "HBoxModel",
      "_view_count": null,
      "_view_module": "@jupyter-widgets/controls",
      "_view_module_version": "1.5.0",
      "_view_name": "HBoxView",
      "box_style": "",
      "children": [
       "IPY_MODEL_427db208bdb34478a32f2fd3f1de1f78",
       "IPY_MODEL_f07ad5392a4e4250955215b854c12c79",
       "IPY_MODEL_93c7b17a3f1647a3bf1899e33109e1c0"
      ],
      "layout": "IPY_MODEL_ee8f8678579a404fa82323ac7545c737"
     }
    },
    "427db208bdb34478a32f2fd3f1de1f78": {
     "model_module": "@jupyter-widgets/controls",
     "model_module_version": "1.5.0",
     "model_name": "HTMLModel",
     "state": {
      "_dom_classes": [],
      "_model_module": "@jupyter-widgets/controls",
      "_model_module_version": "1.5.0",
      "_model_name": "HTMLModel",
      "_view_count": null,
      "_view_module": "@jupyter-widgets/controls",
      "_view_module_version": "1.5.0",
      "_view_name": "HTMLView",
      "description": "",
      "description_tooltip": null,
      "layout": "IPY_MODEL_02b8ea9bbe7a4713bea149cf5c478115",
      "placeholder": "​",
      "style": "IPY_MODEL_e438d8414b2345118ccf5453daa749fd",
      "value": "100%"
     }
    },
    "450d163c6994441d8f99d0b878406a41": {
     "model_module": "@jupyter-widgets/controls",
     "model_module_version": "1.5.0",
     "model_name": "ProgressStyleModel",
     "state": {
      "_model_module": "@jupyter-widgets/controls",
      "_model_module_version": "1.5.0",
      "_model_name": "ProgressStyleModel",
      "_view_count": null,
      "_view_module": "@jupyter-widgets/base",
      "_view_module_version": "1.2.0",
      "_view_name": "StyleView",
      "bar_color": null,
      "description_width": ""
     }
    },
    "56317b56c7fc4cdeb55db09df3f0f824": {
     "model_module": "@jupyter-widgets/controls",
     "model_module_version": "1.5.0",
     "model_name": "HTMLModel",
     "state": {
      "_dom_classes": [],
      "_model_module": "@jupyter-widgets/controls",
      "_model_module_version": "1.5.0",
      "_model_name": "HTMLModel",
      "_view_count": null,
      "_view_module": "@jupyter-widgets/controls",
      "_view_module_version": "1.5.0",
      "_view_name": "HTMLView",
      "description": "",
      "description_tooltip": null,
      "layout": "IPY_MODEL_a36d598b566443deb09bf22e5711f3e1",
      "placeholder": "​",
      "style": "IPY_MODEL_b5497fdadca74bdab1d5fe4949d68377",
      "value": " 2/2 [00:00&lt;00:00, 45.84it/s]"
     }
    },
    "5c65010d36c241979900e550c4a2d48c": {
     "model_module": "@jupyter-widgets/controls",
     "model_module_version": "1.5.0",
     "model_name": "FloatProgressModel",
     "state": {
      "_dom_classes": [],
      "_model_module": "@jupyter-widgets/controls",
      "_model_module_version": "1.5.0",
      "_model_name": "FloatProgressModel",
      "_view_count": null,
      "_view_module": "@jupyter-widgets/controls",
      "_view_module_version": "1.5.0",
      "_view_name": "ProgressView",
      "bar_style": "success",
      "description": "",
      "description_tooltip": null,
      "layout": "IPY_MODEL_2acf07db7c204826a8364f0f2ea96900",
      "max": 1000,
      "min": 0,
      "orientation": "horizontal",
      "style": "IPY_MODEL_450d163c6994441d8f99d0b878406a41",
      "value": 1000
     }
    },
    "6184521cee264c9c97f6c7c3e0fcde8b": {
     "model_module": "@jupyter-widgets/controls",
     "model_module_version": "1.5.0",
     "model_name": "HTMLModel",
     "state": {
      "_dom_classes": [],
      "_model_module": "@jupyter-widgets/controls",
      "_model_module_version": "1.5.0",
      "_model_name": "HTMLModel",
      "_view_count": null,
      "_view_module": "@jupyter-widgets/controls",
      "_view_module_version": "1.5.0",
      "_view_name": "HTMLView",
      "description": "",
      "description_tooltip": null,
      "layout": "IPY_MODEL_3da15b95275d4f569970abbc18ebf78e",
      "placeholder": "​",
      "style": "IPY_MODEL_1ef2353d8ead4a678dfece93c12af839",
      "value": " 1000/1000 [00:09&lt;00:00, 114.69ex/s]"
     }
    },
    "69b180753fd5499e865a943fc4c95746": {
     "model_module": "@jupyter-widgets/base",
     "model_module_version": "1.2.0",
     "model_name": "LayoutModel",
     "state": {
      "_model_module": "@jupyter-widgets/base",
      "_model_module_version": "1.2.0",
      "_model_name": "LayoutModel",
      "_view_count": null,
      "_view_module": "@jupyter-widgets/base",
      "_view_module_version": "1.2.0",
      "_view_name": "LayoutView",
      "align_content": null,
      "align_items": null,
      "align_self": null,
      "border": null,
      "bottom": null,
      "display": null,
      "flex": null,
      "flex_flow": null,
      "grid_area": null,
      "grid_auto_columns": null,
      "grid_auto_flow": null,
      "grid_auto_rows": null,
      "grid_column": null,
      "grid_gap": null,
      "grid_row": null,
      "grid_template_areas": null,
      "grid_template_columns": null,
      "grid_template_rows": null,
      "height": null,
      "justify_content": null,
      "justify_items": null,
      "left": null,
      "margin": null,
      "max_height": null,
      "max_width": null,
      "min_height": null,
      "min_width": null,
      "object_fit": null,
      "object_position": null,
      "order": null,
      "overflow": null,
      "overflow_x": null,
      "overflow_y": null,
      "padding": null,
      "right": null,
      "top": null,
      "visibility": null,
      "width": null
     }
    },
    "8f5a2830d7974d12a24d670e6e1ebe0a": {
     "model_module": "@jupyter-widgets/controls",
     "model_module_version": "1.5.0",
     "model_name": "ProgressStyleModel",
     "state": {
      "_model_module": "@jupyter-widgets/controls",
      "_model_module_version": "1.5.0",
      "_model_name": "ProgressStyleModel",
      "_view_count": null,
      "_view_module": "@jupyter-widgets/base",
      "_view_module_version": "1.2.0",
      "_view_name": "StyleView",
      "bar_color": null,
      "description_width": ""
     }
    },
    "93c7b17a3f1647a3bf1899e33109e1c0": {
     "model_module": "@jupyter-widgets/controls",
     "model_module_version": "1.5.0",
     "model_name": "HTMLModel",
     "state": {
      "_dom_classes": [],
      "_model_module": "@jupyter-widgets/controls",
      "_model_module_version": "1.5.0",
      "_model_name": "HTMLModel",
      "_view_count": null,
      "_view_module": "@jupyter-widgets/controls",
      "_view_module_version": "1.5.0",
      "_view_name": "HTMLView",
      "description": "",
      "description_tooltip": null,
      "layout": "IPY_MODEL_d39d88046b404b069c93b37c3eb2a944",
      "placeholder": "​",
      "style": "IPY_MODEL_c857fafee3a14ad5b8d1add5646f15a7",
      "value": " 10000/10000 [01:23&lt;00:00, 90.09ex/s]"
     }
    },
    "979b81ccf89447549b26a312be2c507c": {
     "model_module": "@jupyter-widgets/base",
     "model_module_version": "1.2.0",
     "model_name": "LayoutModel",
     "state": {
      "_model_module": "@jupyter-widgets/base",
      "_model_module_version": "1.2.0",
      "_model_name": "LayoutModel",
      "_view_count": null,
      "_view_module": "@jupyter-widgets/base",
      "_view_module_version": "1.2.0",
      "_view_name": "LayoutView",
      "align_content": null,
      "align_items": null,
      "align_self": null,
      "border": null,
      "bottom": null,
      "display": null,
      "flex": null,
      "flex_flow": null,
      "grid_area": null,
      "grid_auto_columns": null,
      "grid_auto_flow": null,
      "grid_auto_rows": null,
      "grid_column": null,
      "grid_gap": null,
      "grid_row": null,
      "grid_template_areas": null,
      "grid_template_columns": null,
      "grid_template_rows": null,
      "height": null,
      "justify_content": null,
      "justify_items": null,
      "left": null,
      "margin": null,
      "max_height": null,
      "max_width": null,
      "min_height": null,
      "min_width": null,
      "object_fit": null,
      "object_position": null,
      "order": null,
      "overflow": null,
      "overflow_x": null,
      "overflow_y": null,
      "padding": null,
      "right": null,
      "top": null,
      "visibility": null,
      "width": null
     }
    },
    "a36d598b566443deb09bf22e5711f3e1": {
     "model_module": "@jupyter-widgets/base",
     "model_module_version": "1.2.0",
     "model_name": "LayoutModel",
     "state": {
      "_model_module": "@jupyter-widgets/base",
      "_model_module_version": "1.2.0",
      "_model_name": "LayoutModel",
      "_view_count": null,
      "_view_module": "@jupyter-widgets/base",
      "_view_module_version": "1.2.0",
      "_view_name": "LayoutView",
      "align_content": null,
      "align_items": null,
      "align_self": null,
      "border": null,
      "bottom": null,
      "display": null,
      "flex": null,
      "flex_flow": null,
      "grid_area": null,
      "grid_auto_columns": null,
      "grid_auto_flow": null,
      "grid_auto_rows": null,
      "grid_column": null,
      "grid_gap": null,
      "grid_row": null,
      "grid_template_areas": null,
      "grid_template_columns": null,
      "grid_template_rows": null,
      "height": null,
      "justify_content": null,
      "justify_items": null,
      "left": null,
      "margin": null,
      "max_height": null,
      "max_width": null,
      "min_height": null,
      "min_width": null,
      "object_fit": null,
      "object_position": null,
      "order": null,
      "overflow": null,
      "overflow_x": null,
      "overflow_y": null,
      "padding": null,
      "right": null,
      "top": null,
      "visibility": null,
      "width": null
     }
    },
    "ac9c901b3607417191756f8d7834e69c": {
     "model_module": "@jupyter-widgets/controls",
     "model_module_version": "1.5.0",
     "model_name": "HTMLModel",
     "state": {
      "_dom_classes": [],
      "_model_module": "@jupyter-widgets/controls",
      "_model_module_version": "1.5.0",
      "_model_name": "HTMLModel",
      "_view_count": null,
      "_view_module": "@jupyter-widgets/controls",
      "_view_module_version": "1.5.0",
      "_view_name": "HTMLView",
      "description": "",
      "description_tooltip": null,
      "layout": "IPY_MODEL_08fe9bdde6ba4a81ad745f3deb64c880",
      "placeholder": "​",
      "style": "IPY_MODEL_334aac414fb14d1484c8962bd0265607",
      "value": "100%"
     }
    },
    "b1ae47c28ab04a01920129d252445008": {
     "model_module": "@jupyter-widgets/controls",
     "model_module_version": "1.5.0",
     "model_name": "DescriptionStyleModel",
     "state": {
      "_model_module": "@jupyter-widgets/controls",
      "_model_module_version": "1.5.0",
      "_model_name": "DescriptionStyleModel",
      "_view_count": null,
      "_view_module": "@jupyter-widgets/base",
      "_view_module_version": "1.2.0",
      "_view_name": "StyleView",
      "description_width": ""
     }
    },
    "b5497fdadca74bdab1d5fe4949d68377": {
     "model_module": "@jupyter-widgets/controls",
     "model_module_version": "1.5.0",
     "model_name": "DescriptionStyleModel",
     "state": {
      "_model_module": "@jupyter-widgets/controls",
      "_model_module_version": "1.5.0",
      "_model_name": "DescriptionStyleModel",
      "_view_count": null,
      "_view_module": "@jupyter-widgets/base",
      "_view_module_version": "1.2.0",
      "_view_name": "StyleView",
      "description_width": ""
     }
    },
    "c5848d2552704bb48e30362fa5428581": {
     "model_module": "@jupyter-widgets/controls",
     "model_module_version": "1.5.0",
     "model_name": "HBoxModel",
     "state": {
      "_dom_classes": [],
      "_model_module": "@jupyter-widgets/controls",
      "_model_module_version": "1.5.0",
      "_model_name": "HBoxModel",
      "_view_count": null,
      "_view_module": "@jupyter-widgets/controls",
      "_view_module_version": "1.5.0",
      "_view_name": "HBoxView",
      "box_style": "",
      "children": [
       "IPY_MODEL_ac9c901b3607417191756f8d7834e69c",
       "IPY_MODEL_5c65010d36c241979900e550c4a2d48c",
       "IPY_MODEL_6184521cee264c9c97f6c7c3e0fcde8b"
      ],
      "layout": "IPY_MODEL_1913aca80b844d2ba90f501cf76071c9"
     }
    },
    "c857fafee3a14ad5b8d1add5646f15a7": {
     "model_module": "@jupyter-widgets/controls",
     "model_module_version": "1.5.0",
     "model_name": "DescriptionStyleModel",
     "state": {
      "_model_module": "@jupyter-widgets/controls",
      "_model_module_version": "1.5.0",
      "_model_name": "DescriptionStyleModel",
      "_view_count": null,
      "_view_module": "@jupyter-widgets/base",
      "_view_module_version": "1.2.0",
      "_view_name": "StyleView",
      "description_width": ""
     }
    },
    "c8c49529aa5e46eeb001e1b1360c6bdd": {
     "model_module": "@jupyter-widgets/base",
     "model_module_version": "1.2.0",
     "model_name": "LayoutModel",
     "state": {
      "_model_module": "@jupyter-widgets/base",
      "_model_module_version": "1.2.0",
      "_model_name": "LayoutModel",
      "_view_count": null,
      "_view_module": "@jupyter-widgets/base",
      "_view_module_version": "1.2.0",
      "_view_name": "LayoutView",
      "align_content": null,
      "align_items": null,
      "align_self": null,
      "border": null,
      "bottom": null,
      "display": null,
      "flex": null,
      "flex_flow": null,
      "grid_area": null,
      "grid_auto_columns": null,
      "grid_auto_flow": null,
      "grid_auto_rows": null,
      "grid_column": null,
      "grid_gap": null,
      "grid_row": null,
      "grid_template_areas": null,
      "grid_template_columns": null,
      "grid_template_rows": null,
      "height": null,
      "justify_content": null,
      "justify_items": null,
      "left": null,
      "margin": null,
      "max_height": null,
      "max_width": null,
      "min_height": null,
      "min_width": null,
      "object_fit": null,
      "object_position": null,
      "order": null,
      "overflow": null,
      "overflow_x": null,
      "overflow_y": null,
      "padding": null,
      "right": null,
      "top": null,
      "visibility": null,
      "width": null
     }
    },
    "d39d88046b404b069c93b37c3eb2a944": {
     "model_module": "@jupyter-widgets/base",
     "model_module_version": "1.2.0",
     "model_name": "LayoutModel",
     "state": {
      "_model_module": "@jupyter-widgets/base",
      "_model_module_version": "1.2.0",
      "_model_name": "LayoutModel",
      "_view_count": null,
      "_view_module": "@jupyter-widgets/base",
      "_view_module_version": "1.2.0",
      "_view_name": "LayoutView",
      "align_content": null,
      "align_items": null,
      "align_self": null,
      "border": null,
      "bottom": null,
      "display": null,
      "flex": null,
      "flex_flow": null,
      "grid_area": null,
      "grid_auto_columns": null,
      "grid_auto_flow": null,
      "grid_auto_rows": null,
      "grid_column": null,
      "grid_gap": null,
      "grid_row": null,
      "grid_template_areas": null,
      "grid_template_columns": null,
      "grid_template_rows": null,
      "height": null,
      "justify_content": null,
      "justify_items": null,
      "left": null,
      "margin": null,
      "max_height": null,
      "max_width": null,
      "min_height": null,
      "min_width": null,
      "object_fit": null,
      "object_position": null,
      "order": null,
      "overflow": null,
      "overflow_x": null,
      "overflow_y": null,
      "padding": null,
      "right": null,
      "top": null,
      "visibility": null,
      "width": null
     }
    },
    "e438d8414b2345118ccf5453daa749fd": {
     "model_module": "@jupyter-widgets/controls",
     "model_module_version": "1.5.0",
     "model_name": "DescriptionStyleModel",
     "state": {
      "_model_module": "@jupyter-widgets/controls",
      "_model_module_version": "1.5.0",
      "_model_name": "DescriptionStyleModel",
      "_view_count": null,
      "_view_module": "@jupyter-widgets/base",
      "_view_module_version": "1.2.0",
      "_view_name": "StyleView",
      "description_width": ""
     }
    },
    "ee8f8678579a404fa82323ac7545c737": {
     "model_module": "@jupyter-widgets/base",
     "model_module_version": "1.2.0",
     "model_name": "LayoutModel",
     "state": {
      "_model_module": "@jupyter-widgets/base",
      "_model_module_version": "1.2.0",
      "_model_name": "LayoutModel",
      "_view_count": null,
      "_view_module": "@jupyter-widgets/base",
      "_view_module_version": "1.2.0",
      "_view_name": "LayoutView",
      "align_content": null,
      "align_items": null,
      "align_self": null,
      "border": null,
      "bottom": null,
      "display": null,
      "flex": null,
      "flex_flow": null,
      "grid_area": null,
      "grid_auto_columns": null,
      "grid_auto_flow": null,
      "grid_auto_rows": null,
      "grid_column": null,
      "grid_gap": null,
      "grid_row": null,
      "grid_template_areas": null,
      "grid_template_columns": null,
      "grid_template_rows": null,
      "height": null,
      "justify_content": null,
      "justify_items": null,
      "left": null,
      "margin": null,
      "max_height": null,
      "max_width": null,
      "min_height": null,
      "min_width": null,
      "object_fit": null,
      "object_position": null,
      "order": null,
      "overflow": null,
      "overflow_x": null,
      "overflow_y": null,
      "padding": null,
      "right": null,
      "top": null,
      "visibility": null,
      "width": null
     }
    },
    "f07ad5392a4e4250955215b854c12c79": {
     "model_module": "@jupyter-widgets/controls",
     "model_module_version": "1.5.0",
     "model_name": "FloatProgressModel",
     "state": {
      "_dom_classes": [],
      "_model_module": "@jupyter-widgets/controls",
      "_model_module_version": "1.5.0",
      "_model_name": "FloatProgressModel",
      "_view_count": null,
      "_view_module": "@jupyter-widgets/controls",
      "_view_module_version": "1.5.0",
      "_view_name": "ProgressView",
      "bar_style": "success",
      "description": "",
      "description_tooltip": null,
      "layout": "IPY_MODEL_979b81ccf89447549b26a312be2c507c",
      "max": 10000,
      "min": 0,
      "orientation": "horizontal",
      "style": "IPY_MODEL_1b25852aa90d4f3cb572547c9ba23666",
      "value": 10000
     }
    }
   }
  }
 },
 "nbformat": 4,
 "nbformat_minor": 5
}
