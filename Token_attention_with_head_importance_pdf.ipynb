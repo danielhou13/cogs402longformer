{
  "cells": [
    {
      "cell_type": "markdown",
      "metadata": {
        "id": "view-in-github",
        "colab_type": "text"
      },
      "source": [
        "<a href=\"https://colab.research.google.com/github/danielhou13/cogs402longformer/blob/main/Token_attention_with_head_importance_pdf.ipynb\" target=\"_parent\"><img src=\"https://colab.research.google.com/assets/colab-badge.svg\" alt=\"Open In Colab\"/></a>"
      ]
    },
    {
      "cell_type": "markdown",
      "source": [
        "This notebook is primarily the same as the section on converting to a PDF in [Token_attention_with_head_importance](https://colab.research.google.com/drive/1iVojJQp0CZS484tMZqIizosXPLxgKvRX?usp=sharing); however, this notebook solely focuses on converting the attentions into a PDF visualization. This notebook predicts over the dataset and finds interesting examples one may want to visualize the attentions of such as false negatives, false postiives, and very confident predictions. It of course, will output a PDF of the text with the attentions of the token layered on top of the token."
      ],
      "metadata": {
        "id": "t8OGqf7Pl7-h"
      },
      "id": "t8OGqf7Pl7-h"
    },
    {
      "cell_type": "code",
      "source": [
        "from google.colab import drive\n",
        "drive.mount('/content/drive')"
      ],
      "metadata": {
        "colab": {
          "base_uri": "https://localhost:8080/"
        },
        "id": "kZTPlUo8Wp1T",
        "outputId": "b950a23e-1552-43a5-f1eb-c91d65230088"
      },
      "id": "kZTPlUo8Wp1T",
      "execution_count": 1,
      "outputs": [
        {
          "output_type": "stream",
          "name": "stdout",
          "text": [
            "Mounted at /content/drive\n"
          ]
        }
      ]
    },
    {
      "cell_type": "markdown",
      "source": [
        "### Install and Import Dependencies"
      ],
      "metadata": {
        "id": "XFt7t0wAERQV"
      },
      "id": "XFt7t0wAERQV"
    },
    {
      "cell_type": "code",
      "source": [
        "# import sys\n",
        "# sys.path.append('/content/drive/My Drive/{}'.format(\"cogs402longformer/\"))"
      ],
      "metadata": {
        "id": "AlcBiC0nWtJE"
      },
      "id": "AlcBiC0nWtJE",
      "execution_count": 2,
      "outputs": []
    },
    {
      "cell_type": "code",
      "source": [
        "pip install datasets --quiet"
      ],
      "metadata": {
        "id": "s_6vceLhTIBf",
        "colab": {
          "base_uri": "https://localhost:8080/"
        },
        "outputId": "954c4da1-66e5-4593-9d4e-d771082e6f93"
      },
      "id": "s_6vceLhTIBf",
      "execution_count": 3,
      "outputs": [
        {
          "output_type": "stream",
          "name": "stdout",
          "text": [
            "\u001b[K     |████████████████████████████████| 365 kB 9.8 MB/s \n",
            "\u001b[K     |████████████████████████████████| 101 kB 14.0 MB/s \n",
            "\u001b[K     |████████████████████████████████| 212 kB 80.3 MB/s \n",
            "\u001b[K     |████████████████████████████████| 115 kB 77.3 MB/s \n",
            "\u001b[K     |████████████████████████████████| 141 kB 74.7 MB/s \n",
            "\u001b[K     |████████████████████████████████| 596 kB 87.4 MB/s \n",
            "\u001b[K     |████████████████████████████████| 127 kB 73.9 MB/s \n",
            "\u001b[?25h"
          ]
        }
      ]
    },
    {
      "cell_type": "code",
      "source": [
        "pip install transformers"
      ],
      "metadata": {
        "colab": {
          "base_uri": "https://localhost:8080/"
        },
        "id": "M-qXH2JkTMdA",
        "outputId": "0a76c369-84c8-462f-ed1f-de8175004c08"
      },
      "id": "M-qXH2JkTMdA",
      "execution_count": 4,
      "outputs": [
        {
          "output_type": "stream",
          "name": "stdout",
          "text": [
            "Looking in indexes: https://pypi.org/simple, https://us-python.pkg.dev/colab-wheels/public/simple/\n",
            "Collecting transformers\n",
            "  Downloading transformers-4.21.0-py3-none-any.whl (4.7 MB)\n",
            "\u001b[K     |████████████████████████████████| 4.7 MB 6.6 MB/s \n",
            "\u001b[?25hRequirement already satisfied: huggingface-hub<1.0,>=0.1.0 in /usr/local/lib/python3.7/dist-packages (from transformers) (0.8.1)\n",
            "Requirement already satisfied: numpy>=1.17 in /usr/local/lib/python3.7/dist-packages (from transformers) (1.21.6)\n",
            "Requirement already satisfied: packaging>=20.0 in /usr/local/lib/python3.7/dist-packages (from transformers) (21.3)\n",
            "Requirement already satisfied: tqdm>=4.27 in /usr/local/lib/python3.7/dist-packages (from transformers) (4.64.0)\n",
            "Requirement already satisfied: importlib-metadata in /usr/local/lib/python3.7/dist-packages (from transformers) (4.12.0)\n",
            "Requirement already satisfied: pyyaml>=5.1 in /usr/local/lib/python3.7/dist-packages (from transformers) (6.0)\n",
            "Collecting tokenizers!=0.11.3,<0.13,>=0.11.1\n",
            "  Downloading tokenizers-0.12.1-cp37-cp37m-manylinux_2_12_x86_64.manylinux2010_x86_64.whl (6.6 MB)\n",
            "\u001b[K     |████████████████████████████████| 6.6 MB 77.7 MB/s \n",
            "\u001b[?25hRequirement already satisfied: filelock in /usr/local/lib/python3.7/dist-packages (from transformers) (3.7.1)\n",
            "Requirement already satisfied: requests in /usr/local/lib/python3.7/dist-packages (from transformers) (2.23.0)\n",
            "Requirement already satisfied: regex!=2019.12.17 in /usr/local/lib/python3.7/dist-packages (from transformers) (2022.6.2)\n",
            "Requirement already satisfied: typing-extensions>=3.7.4.3 in /usr/local/lib/python3.7/dist-packages (from huggingface-hub<1.0,>=0.1.0->transformers) (4.1.1)\n",
            "Requirement already satisfied: pyparsing!=3.0.5,>=2.0.2 in /usr/local/lib/python3.7/dist-packages (from packaging>=20.0->transformers) (3.0.9)\n",
            "Requirement already satisfied: zipp>=0.5 in /usr/local/lib/python3.7/dist-packages (from importlib-metadata->transformers) (3.8.1)\n",
            "Requirement already satisfied: chardet<4,>=3.0.2 in /usr/local/lib/python3.7/dist-packages (from requests->transformers) (3.0.4)\n",
            "Requirement already satisfied: idna<3,>=2.5 in /usr/local/lib/python3.7/dist-packages (from requests->transformers) (2.10)\n",
            "Requirement already satisfied: urllib3!=1.25.0,!=1.25.1,<1.26,>=1.21.1 in /usr/local/lib/python3.7/dist-packages (from requests->transformers) (1.25.11)\n",
            "Requirement already satisfied: certifi>=2017.4.17 in /usr/local/lib/python3.7/dist-packages (from requests->transformers) (2022.6.15)\n",
            "Installing collected packages: tokenizers, transformers\n",
            "Successfully installed tokenizers-0.12.1 transformers-4.21.0\n"
          ]
        }
      ]
    },
    {
      "cell_type": "code",
      "source": [
        "pip install nltk --quiet"
      ],
      "metadata": {
        "id": "1SnsLs_VyXzW"
      },
      "id": "1SnsLs_VyXzW",
      "execution_count": 5,
      "outputs": []
    },
    {
      "cell_type": "markdown",
      "source": [
        "##Import Dataset and Model\n",
        "\n",
        "Remember to change the path to your model, tokenizer, and dataset according to your project. Furthermore, your max_length should be changed accordingly."
      ],
      "metadata": {
        "id": "hSSPoSRn6r9A"
      },
      "id": "hSSPoSRn6r9A"
    },
    {
      "cell_type": "code",
      "execution_count": 6,
      "id": "9b774ad0-b725-4910-9050-423edf160ebd",
      "metadata": {
        "id": "9b774ad0-b725-4910-9050-423edf160ebd"
      },
      "outputs": [],
      "source": [
        "import os\n",
        "\n",
        "import numpy as np\n",
        "import pandas as pd\n",
        "\n",
        "import torch\n",
        "import torch.nn as nn"
      ]
    },
    {
      "cell_type": "markdown",
      "source": [
        "Import the Reserach Papers dataset"
      ],
      "metadata": {
        "id": "hfHRqrpw_VlN"
      },
      "id": "hfHRqrpw_VlN"
    },
    {
      "cell_type": "code",
      "execution_count": 7,
      "id": "66cc97f5-7e3a-476c-9858-5643eeaa6675",
      "metadata": {
        "id": "66cc97f5-7e3a-476c-9858-5643eeaa6675",
        "colab": {
          "base_uri": "https://localhost:8080/",
          "height": 145,
          "referenced_widgets": [
            "e2fb071728f04efa94437bcd7a0b05a2",
            "edd60f81f1004d88aecae8465d91f540",
            "5f5fce960c294b888407bb70e1a8c2e2",
            "dd9febd4cafe4a91a771906c849c836c",
            "965d499fe2e44302a773ffe3bba3ffaf",
            "2e41917a46d64e5697f1d88b4ee9f5e7",
            "7aab807cfe544f25aee36dccf8060654",
            "6f02f82b06864c4a8e2d68a49339d1ce",
            "441b4b2497c84d189c8e8e33ec488d7f",
            "46b21d8fb9124b96ab6b57b2ed90888e",
            "500faf224be046c0937fb0cd2e9ceba4",
            "e44e88a2aa9947cca17c54a8b899d0ae",
            "980db1001a534fae8575f5879596ed2f",
            "624172e467bc4a3080da9f1ca859b707",
            "c002dc35b56b4a6f88a02ae633afd04c",
            "c61b6e501863486d8ea1c566d0322677",
            "ec4881b911874a35a57dacb1bd989b5a",
            "4a091101880d4df5b5f268ca8d21e8b4",
            "c121727535f6453ba5b29468bc12a587",
            "b87a6f46c5604c32a6cbe44de2dc50a9",
            "e4f648c0c65c4b658ffac0d75559e8a7",
            "f3692dfae7084d78b516a0dbdd1f4a65",
            "7b9194090416441e9e5accf65b46a330",
            "89079ea7fc1b4bffb9d7094b0a5f2ee3",
            "d00f5ec10b234ec6a3ecda39d689f86c",
            "6252b73edf1741bdbef2d3debb5a7881",
            "6c6f447ecb9c4c6ca60773b0abb74134",
            "bee31cd23ddf44cb9f67c2c775bca62f",
            "03018a0fcd094a42bb4846000a843e5b",
            "298d08634812462ba327c2edd0b0861a",
            "40798b86ae5b474c933084f5978fd8cc",
            "15e18a12489a49c8b070b4807e75505c",
            "ebefd796b7704a9fb813f6a9dc1a710b",
            "ce1372a44acc4841be16496289171023",
            "73bac1d5ced142d8b7f15a54d0e64276",
            "e0b23e20773f4964918b52c75ddd9ed9",
            "1ea0f8f27225494b8e361f9122cb8f20",
            "be73c46f44c8487d872f0fac6718aac1",
            "135b3c1ca73c4f7db2b9a6aab759ed67",
            "96ae9ca701de476a8abc24acc3e4fcba",
            "6673ac9878f941de9361ee7b21a7d8e2",
            "4e76931bfab346b792866f8c5ec4b1b5",
            "c7ed853b8d414500a7c0ecc332a00a39",
            "8e7b4aa65f00423db2f0e361ce828359"
          ]
        },
        "outputId": "6a97f62b-fd22-4d94-8987-71812ba13c57"
      },
      "outputs": [
        {
          "output_type": "display_data",
          "data": {
            "text/plain": [
              "Downloading config.json:   0%|          | 0.00/694 [00:00<?, ?B/s]"
            ],
            "application/vnd.jupyter.widget-view+json": {
              "version_major": 2,
              "version_minor": 0,
              "model_id": "e2fb071728f04efa94437bcd7a0b05a2"
            }
          },
          "metadata": {}
        },
        {
          "output_type": "display_data",
          "data": {
            "text/plain": [
              "Downloading vocab.json:   0%|          | 0.00/878k [00:00<?, ?B/s]"
            ],
            "application/vnd.jupyter.widget-view+json": {
              "version_major": 2,
              "version_minor": 0,
              "model_id": "e44e88a2aa9947cca17c54a8b899d0ae"
            }
          },
          "metadata": {}
        },
        {
          "output_type": "display_data",
          "data": {
            "text/plain": [
              "Downloading merges.txt:   0%|          | 0.00/446k [00:00<?, ?B/s]"
            ],
            "application/vnd.jupyter.widget-view+json": {
              "version_major": 2,
              "version_minor": 0,
              "model_id": "7b9194090416441e9e5accf65b46a330"
            }
          },
          "metadata": {}
        },
        {
          "output_type": "display_data",
          "data": {
            "text/plain": [
              "Downloading tokenizer.json:   0%|          | 0.00/1.29M [00:00<?, ?B/s]"
            ],
            "application/vnd.jupyter.widget-view+json": {
              "version_major": 2,
              "version_minor": 0,
              "model_id": "ce1372a44acc4841be16496289171023"
            }
          },
          "metadata": {}
        }
      ],
      "source": [
        "from datasets import load_dataset\n",
        "from transformers import AutoModelForSequenceClassification, AutoTokenizer\n",
        "\n",
        "tokenizer = AutoTokenizer.from_pretrained('allenai/longformer-base-4096')\n",
        "model_path = 'danielhou13/longformer-finetuned_papers_v2'\n",
        "model_path2 = 'danielhou13/longformer-finetuned-news-cogs402'\n",
        "model_path3 = 'allenai/longformer-base-4096'\n",
        "\n",
        "def longformer_finetuned_papers(model):\n",
        "    model = AutoModelForSequenceClassification.from_pretrained(model, num_labels = 2)\n",
        "    return model\n",
        "\n",
        "def preprocess_function(tokenizer, example, max_length):\n",
        "    example.update(tokenizer(example['text'], padding='max_length', max_length=max_length, truncation=True))\n",
        "    return example\n",
        "\n",
        "def get_papers_dataset(dataset_type):\n",
        "    max_length = 2048\n",
        "    dataset = load_dataset(\"danielhou13/cogs402dataset\")[dataset_type]\n",
        "\n",
        "    # tokenizer = AutoTokenizer.from_pretrained('bert-base-uncased')\n",
        "    dataset = dataset.map(lambda x: preprocess_function(tokenizer, x, max_length), batched=True)\n",
        "    setattr(dataset, 'input_columns', ['input_ids', 'attention_mask'])\n",
        "    setattr(dataset, 'target_columns', ['labels'])\n",
        "    setattr(dataset, 'max_length', max_length)\n",
        "    setattr(dataset, 'tokenizer', tokenizer)\n",
        "    return dataset\n",
        "\n",
        "def papers_test_set():\n",
        "    return get_papers_dataset('test')"
      ]
    },
    {
      "cell_type": "markdown",
      "source": [
        "Import the news dataset"
      ],
      "metadata": {
        "id": "Jq_wt-jn_Y6m"
      },
      "id": "Jq_wt-jn_Y6m"
    },
    {
      "cell_type": "code",
      "source": [
        "def preprocess_function(tokenizer, example, max_length):\n",
        "    example.update(tokenizer(example['text'], max_length=max_length, truncation=True))\n",
        "    return example\n",
        "\n",
        "def longformer_finetuned_news(model):\n",
        "    model = AutoModelForSequenceClassification.from_pretrained(model, num_labels = 2)\n",
        "    return model\n",
        "\n",
        "def get_news_dataset(dataset_type):\n",
        "    max_length = 2048\n",
        "    dataset = load_dataset(\"danielhou13/cogs402dataset2\")[dataset_type]\n",
        "\n",
        "    tokenizer = AutoTokenizer.from_pretrained('allenai/longformer-base-4096')\n",
        "    dataset = dataset.map(lambda x: preprocess_function(tokenizer, x, max_length), batched=True)\n",
        "\n",
        "    labels = map(int, dataset['hyperpartisan'])\n",
        "    print(type(dataset['hyperpartisan']))\n",
        "    labels = list(labels)\n",
        "    dataset = dataset.add_column(\"labels\", labels)\n",
        "\n",
        "    dataset = dataset.remove_columns(['title', 'hyperpartisan', 'url', 'published_at', 'bias'])\n",
        "    print(dataset)\n",
        "    setattr(dataset, 'input_columns', ['input_ids', 'attention_mask'])\n",
        "    setattr(dataset, 'target_columns', ['labels'])\n",
        "    setattr(dataset, 'max_length', max_length)\n",
        "    setattr(dataset, 'tokenizer', tokenizer)\n",
        "    return dataset\n",
        "\n",
        "def news_train_set():\n",
        "    return get_news_dataset('train')\n",
        "\n",
        "def news_test_set():\n",
        "    return get_news_dataset('validation')"
      ],
      "metadata": {
        "id": "gEI0AFC5-0qA"
      },
      "id": "gEI0AFC5-0qA",
      "execution_count": 8,
      "outputs": []
    },
    {
      "cell_type": "markdown",
      "source": [
        "Load papers model and dataset and preprocess it"
      ],
      "metadata": {
        "id": "srzj_2BeNGOK"
      },
      "id": "srzj_2BeNGOK"
    },
    {
      "cell_type": "code",
      "execution_count": 9,
      "id": "24ad54a3-db97-47e3-8cc7-417d4db2c99b",
      "metadata": {
        "id": "24ad54a3-db97-47e3-8cc7-417d4db2c99b",
        "colab": {
          "base_uri": "https://localhost:8080/",
          "height": 447,
          "referenced_widgets": [
            "116a7fb3e32542429cc076ec5c6abef8",
            "22528ee5aacd41d8a1571a9197b9b7b6",
            "671e3a1bd4114c4a9a2b42f401124442",
            "615dc9989685452c95e3db2ca64c90e5",
            "1f29d18cfefc474c8097d552bf8ffd45",
            "088cb441252b4f01984cb7187ea76105",
            "fc115feed10d441e96421ed81c6c889b",
            "97db59a843514bf5b86391b3aae22de0",
            "9c3ad667cf4944c7b1d3ea3a0dde8904",
            "657e67f22ede466895e48216c6a97b97",
            "4bcdce3c2d5545309ff000a61918802b",
            "ebd3ff81d52b4060b6c966e4002760f7",
            "734231bb77b04da7b78581b42140cf70",
            "16c015d1601f457fa6ccf745e0a091ee",
            "c65ea3a3c6b74b1baef333b9a73d2972",
            "beae6c604d7945458987feaf7aa3e417",
            "bf3a7a512e0241d7b1ad9e525dc6f837",
            "5621b2ea7c454293b922dd5b1d337d74",
            "c1f10ba0c8cc49869d3bd0a4b2530fe7",
            "9152a61a655f47ae8596d6be5d44f3d9",
            "94819a68a2ad40f0827e66695a033a63",
            "d22af14b09f14ae59671a814fc360241",
            "e99a5b484e1c44a981ce833dabf72285",
            "6dfb03ed3a0e47fdbc78d5b9fe73c4da",
            "8202ac14b3db415283c4699f8352dcac",
            "27113b53b08f492b91043018fb2ca2a7",
            "f403ccce0624451ba0dc95d932d78f6d",
            "a85c388444c148eaa608cacfbfd1fd72",
            "cefa5ae26cf642c6841cffd281bd02fa",
            "07cc74987f7d49b5bbe372522ee8f904",
            "9315acbdfc554017996b15d0045951f1",
            "4b756f263e6d42a7ae76c9866589f42a",
            "1c1e8b234b5f44f39085b3139e78cfd2",
            "d0bd956b22f2451b8bd2d3a114a956c2",
            "ff01da4b84734f07aa8d9b1c3a76bbc6",
            "c2b922de9a3c4631bb117610ba152d8b",
            "c11cacda4d6c4c2d9e61b446832139c0",
            "f76d4174996a4ee8bcd5bd39a6862dcb",
            "1a3baf7a65ef4b7aad990c7049ab35dd",
            "48e61b864f4b457391f080b22375f551",
            "d303cb9730024a0aa0643a72b95a53dd",
            "39949d472ec74a89b1da0625e6f1440b",
            "5ccfd5e6c16c4eb9ae85de5141577e96",
            "07d25db10b9a4705a6e8f59285c5d6db",
            "4935d4a95aee4ef8b18a3f26ec37c89e",
            "7ef09891141b4d23a2f1183bdda26471",
            "35104ed5b7e549c89286f298817d08d2",
            "4ae23a4fe2c344ba80cb3475f286c6b6",
            "4261bf44a2054a8282d022a2fd6e0440",
            "178d62462a8f46aa870df3101e966c31",
            "eaa4392ec09841aba2364dcd2ea04c03",
            "c948fd824f82492c89e64b0fe6ccc6bb",
            "00efbe436371471bb80a5cc9b76dea09",
            "80781d01419a49de9b25032c39d8cb2f",
            "3e43cbd5d5f548a4923f2dbe14039a96",
            "2462a9769f57464f80b8c1575f5cc754",
            "4b4f37838b894e7cb9f4aea21d1e4b3a",
            "29cfb13e2d664b2089632d13962979d5",
            "5420a150d7794a789db27af99444f7f7",
            "0655607be0d946bb9229650bb6be732a",
            "0ed4ec7bf67f4846bc1fe694f45f4326",
            "c130610d396347b9a0eabfb37f95431a",
            "9d17ab2fd88e4f1ba0823d44717c488a",
            "87a08bd3614f4dd6a3a70d423d03eb21",
            "b9459f4beb9841ddaba6fc2cd85ace18",
            "e1ccc760a5b340329203b3f090007b0e",
            "88e5ecd21d534a268ee14a29a6af4144",
            "44113d710a7245b298b7879abb42d5b0",
            "8a4ba89fba284fa086637b6cb455e815",
            "195afe711a444ef3a0143d749b96279f",
            "8d2558d372c34372b81c8f426d631c62",
            "9ffecea0abc54453b4d1d6e88d14087b",
            "c680d2f5f90d4a5cbbab33fcb303ccad",
            "4adeb51e48bb4d1593f7d7c98c033750",
            "dd16692bd38d4080996454f9134d37df",
            "4d96b901760f4880a08d3a9193dd7194",
            "4c98af6191b54826994f2e7b0565a56e",
            "5b3b02c5344a4b9b993870bb73fd7875",
            "5f0ed4ace5764f1f84cece6777858f31",
            "c1c2f3eaf5a943f3af6df6a54d7b6036",
            "632c150da5534e598bae24cea2b9e7c3",
            "941d347393964d299a0cf719ed1db83f",
            "fb368a9876e6499498f6da113e9d4400",
            "ce7b32cd3dfe40e18aff7330f44ec2b5",
            "837ceea428644045800ca0063d3bd4a7",
            "7b6517b8893f4ed58d4680bfc8a5f71a",
            "22c588c17c324676b7e47d80410ebac8",
            "3525d1df96d746209ebd88d3ef84074c",
            "d9d6e9c4ad49401f8ba565e5c85d85e2",
            "cfa7fcdc8fba4cd68c604a0c8aff6f5e",
            "ba0a3257dbd74e5b9c787e1a884cdbea",
            "5a55eaed8da9423792045f28799ae048",
            "0554db10521e46bb90dc0313b0e6e0e8",
            "e34b8f7289cc40afa51505d6849a140c",
            "e259ace46a9c45349d375738004d3b6c",
            "d1b939e297824082b1afa9cdab5ec9be",
            "a875a1b383ce42b3a9561635bf231786",
            "6017975dbbc942dcbd7165423688187e",
            "f81a8ce1b85a4bdf8965f0bc3a30a4b0",
            "c33273730e184a979bb45d29ea82e849",
            "c5dd13db548b45b7ba3f25c603fc6838",
            "b3e4371728ba4bb7a7d6fb4503924e5a",
            "c571afd17f5b47329610c381f233effb",
            "222aeaa95023424bb6bdb7ce11084a02",
            "cab5279c9a4b4f5e83c0aa40557becc5",
            "31162530a7e24126a94b0182808d896a",
            "453de939f6e64309b2a2a19b0a6d0045",
            "6612354917514e1383d4b9c6502c0522",
            "fd15642f12c343c7a300493a0fbcee52",
            "0ba646f62c2e4c87b0999965577d379c",
            "de694444cd5741d08d65387e8fe05717",
            "f72347ddf47e47a3a30b76c0fb7ec14e",
            "42f7e0d4dbed435385dc8931b3a4f753",
            "9a8de0919bd244df932ff32d1bd37601",
            "6f20a79756ed4003b0b3d71c9f367f12",
            "4e462e6c90a24463b13df77d26eeba61",
            "6c2af88a271e4939a2ce89e7eaef5029",
            "49cfb728d22b492cb8dbe3e63dcfc609",
            "833e5a23c9364d44967a055697f91127",
            "a71f0cdd78dc46b4be4b850289e8c3e2",
            "8ddcb96ce3fa46da9b9027a6a1d95dab"
          ]
        },
        "outputId": "c6a3aea3-23c6-4e4f-e405-f7b4371ad44d"
      },
      "outputs": [
        {
          "output_type": "display_data",
          "data": {
            "text/plain": [
              "Downloading:   0%|          | 0.00/739 [00:00<?, ?B/s]"
            ],
            "application/vnd.jupyter.widget-view+json": {
              "version_major": 2,
              "version_minor": 0,
              "model_id": "116a7fb3e32542429cc076ec5c6abef8"
            }
          },
          "metadata": {}
        },
        {
          "output_type": "stream",
          "name": "stderr",
          "text": [
            "Using custom data configuration danielhou13--cogs402dataset-144b958ac1a53abb\n"
          ]
        },
        {
          "output_type": "stream",
          "name": "stdout",
          "text": [
            "Downloading and preparing dataset None/None (download: 157.87 MiB, generated: 311.56 MiB, post-processed: Unknown size, total: 469.43 MiB) to /root/.cache/huggingface/datasets/danielhou13___parquet/danielhou13--cogs402dataset-144b958ac1a53abb/0.0.0/2a3b91fbd88a2c90d1dbbb32b460cf621d31bd5b05b934492fdef7d8d6f236ec...\n"
          ]
        },
        {
          "output_type": "display_data",
          "data": {
            "text/plain": [
              "Downloading data files:   0%|          | 0/2 [00:00<?, ?it/s]"
            ],
            "application/vnd.jupyter.widget-view+json": {
              "version_major": 2,
              "version_minor": 0,
              "model_id": "ebd3ff81d52b4060b6c966e4002760f7"
            }
          },
          "metadata": {}
        },
        {
          "output_type": "display_data",
          "data": {
            "text/plain": [
              "Downloading data:   0%|          | 0.00/33.6M [00:00<?, ?B/s]"
            ],
            "application/vnd.jupyter.widget-view+json": {
              "version_major": 2,
              "version_minor": 0,
              "model_id": "e99a5b484e1c44a981ce833dabf72285"
            }
          },
          "metadata": {}
        },
        {
          "output_type": "display_data",
          "data": {
            "text/plain": [
              "Downloading data:   0%|          | 0.00/132M [00:00<?, ?B/s]"
            ],
            "application/vnd.jupyter.widget-view+json": {
              "version_major": 2,
              "version_minor": 0,
              "model_id": "d0bd956b22f2451b8bd2d3a114a956c2"
            }
          },
          "metadata": {}
        },
        {
          "output_type": "display_data",
          "data": {
            "text/plain": [
              "Extracting data files:   0%|          | 0/2 [00:00<?, ?it/s]"
            ],
            "application/vnd.jupyter.widget-view+json": {
              "version_major": 2,
              "version_minor": 0,
              "model_id": "4935d4a95aee4ef8b18a3f26ec37c89e"
            }
          },
          "metadata": {}
        },
        {
          "output_type": "display_data",
          "data": {
            "text/plain": [
              "0 tables [00:00, ? tables/s]"
            ],
            "application/vnd.jupyter.widget-view+json": {
              "version_major": 2,
              "version_minor": 0,
              "model_id": "2462a9769f57464f80b8c1575f5cc754"
            }
          },
          "metadata": {}
        },
        {
          "output_type": "display_data",
          "data": {
            "text/plain": [
              "0 tables [00:00, ? tables/s]"
            ],
            "application/vnd.jupyter.widget-view+json": {
              "version_major": 2,
              "version_minor": 0,
              "model_id": "88e5ecd21d534a268ee14a29a6af4144"
            }
          },
          "metadata": {}
        },
        {
          "output_type": "stream",
          "name": "stdout",
          "text": [
            "Dataset parquet downloaded and prepared to /root/.cache/huggingface/datasets/danielhou13___parquet/danielhou13--cogs402dataset-144b958ac1a53abb/0.0.0/2a3b91fbd88a2c90d1dbbb32b460cf621d31bd5b05b934492fdef7d8d6f236ec. Subsequent calls will reuse this data.\n"
          ]
        },
        {
          "output_type": "display_data",
          "data": {
            "text/plain": [
              "  0%|          | 0/2 [00:00<?, ?it/s]"
            ],
            "application/vnd.jupyter.widget-view+json": {
              "version_major": 2,
              "version_minor": 0,
              "model_id": "5b3b02c5344a4b9b993870bb73fd7875"
            }
          },
          "metadata": {}
        },
        {
          "output_type": "display_data",
          "data": {
            "text/plain": [
              "  0%|          | 0/2 [00:00<?, ?ba/s]"
            ],
            "application/vnd.jupyter.widget-view+json": {
              "version_major": 2,
              "version_minor": 0,
              "model_id": "d9d6e9c4ad49401f8ba565e5c85d85e2"
            }
          },
          "metadata": {}
        },
        {
          "output_type": "display_data",
          "data": {
            "text/plain": [
              "Downloading config.json:   0%|          | 0.00/0.99k [00:00<?, ?B/s]"
            ],
            "application/vnd.jupyter.widget-view+json": {
              "version_major": 2,
              "version_minor": 0,
              "model_id": "c33273730e184a979bb45d29ea82e849"
            }
          },
          "metadata": {}
        },
        {
          "output_type": "display_data",
          "data": {
            "text/plain": [
              "Downloading pytorch_model.bin:   0%|          | 0.00/567M [00:00<?, ?B/s]"
            ],
            "application/vnd.jupyter.widget-view+json": {
              "version_major": 2,
              "version_minor": 0,
              "model_id": "de694444cd5741d08d65387e8fe05717"
            }
          },
          "metadata": {}
        },
        {
          "output_type": "stream",
          "name": "stderr",
          "text": [
            "Some weights of the model checkpoint at danielhou13/longformer-finetuned_papers_v2 were not used when initializing LongformerForSequenceClassification: ['longformer.embeddings.position_ids']\n",
            "- This IS expected if you are initializing LongformerForSequenceClassification from the checkpoint of a model trained on another task or with another architecture (e.g. initializing a BertForSequenceClassification model from a BertForPreTraining model).\n",
            "- This IS NOT expected if you are initializing LongformerForSequenceClassification from the checkpoint of a model that you expect to be exactly identical (initializing a BertForSequenceClassification model from a BertForSequenceClassification model).\n"
          ]
        },
        {
          "output_type": "stream",
          "name": "stdout",
          "text": [
            "['input_ids', 'attention_mask', 'labels']\n"
          ]
        }
      ],
      "source": [
        "cogs402_test = papers_test_set()\n",
        "model = longformer_finetuned_papers(model_path)\n",
        "columns = cogs402_test.input_columns + cogs402_test.target_columns\n",
        "print(columns)\n",
        "cogs402_test.set_format(type='torch', columns=columns)\n",
        "cogs402_test=cogs402_test.remove_columns(['text'])"
      ]
    },
    {
      "cell_type": "markdown",
      "source": [
        "Load news model and dataset and preprocess it"
      ],
      "metadata": {
        "id": "22BIYrX8NOVC"
      },
      "id": "22BIYrX8NOVC"
    },
    {
      "cell_type": "code",
      "source": [
        "# cogs402_test = news_test_set()\n",
        "# model = longformer_finetuned_news(model_path2)\n",
        "# columns = cogs402_test.input_columns + cogs402_test.target_columns\n",
        "# print(columns)\n",
        "# cogs402_test.set_format(type='torch', columns=columns)\n",
        "# cogs402_test=cogs402_test.remove_columns(['text'])"
      ],
      "metadata": {
        "id": "xh-YZZyo_eZx"
      },
      "id": "xh-YZZyo_eZx",
      "execution_count": 10,
      "outputs": []
    },
    {
      "cell_type": "code",
      "execution_count": 11,
      "id": "deaabfa2-0855-41fd-870c-7a8b91e32d44",
      "metadata": {
        "id": "deaabfa2-0855-41fd-870c-7a8b91e32d44",
        "colab": {
          "base_uri": "https://localhost:8080/"
        },
        "outputId": "3ee1070d-29c8-4acc-912e-e06a4aaa469f"
      },
      "outputs": [
        {
          "output_type": "stream",
          "name": "stdout",
          "text": [
            "cuda:0\n"
          ]
        }
      ],
      "source": [
        "if torch.cuda.is_available():\n",
        "    model = model.cuda()\n",
        "\n",
        "print(model.device)"
      ]
    },
    {
      "cell_type": "markdown",
      "source": [
        "## Predict over the dataset"
      ],
      "metadata": {
        "id": "lUXRli8TIIwm"
      },
      "id": "lUXRli8TIIwm"
    },
    {
      "cell_type": "markdown",
      "source": [
        "Predict using the model on the selected dataset using the [Huggingface trainer](https://huggingface.co/docs/transformers/main_classes/trainer) API."
      ],
      "metadata": {
        "id": "IXjbkX-PAGay"
      },
      "id": "IXjbkX-PAGay"
    },
    {
      "cell_type": "code",
      "source": [
        "from transformers import Trainer, TrainingArguments\n",
        "\n",
        "batch_size = 1\n",
        "gradient_acc = 4\n",
        "model_name = f\"longformer-finetuned_papers\"\n",
        "training_args = TrainingArguments(output_dir=f\"models/{model_name}\",\n",
        "                                  num_train_epochs = 2,\n",
        "                                  learning_rate=2e-5,\n",
        "                                  per_device_train_batch_size=batch_size,\n",
        "                                  per_device_eval_batch_size=batch_size,\n",
        "                                  weight_decay=0.01,\n",
        "                                  evaluation_strategy=\"epoch\",\n",
        "                                  disable_tqdm=False,\n",
        "                                  push_to_hub=False,\n",
        "                                  log_level=\"error\",\n",
        "                                  fp16=True,\n",
        "                                  gradient_accumulation_steps=gradient_acc,\n",
        "                                  gradient_checkpointing=True,\n",
        "                                  save_strategy = \"epoch\")"
      ],
      "metadata": {
        "id": "7PUTFonI_XLM"
      },
      "id": "7PUTFonI_XLM",
      "execution_count": 12,
      "outputs": []
    },
    {
      "cell_type": "markdown",
      "source": [
        "F1 and accuracy are good general metrics for model performance. Recall and precision can be used if desired."
      ],
      "metadata": {
        "id": "NSxE_HDPAKaT"
      },
      "id": "NSxE_HDPAKaT"
    },
    {
      "cell_type": "code",
      "source": [
        "from sklearn.metrics import accuracy_score, f1_score\n",
        "\n",
        "def compute_metrics(pred):\n",
        "    labels = pred.label_ids\n",
        "    preds = pred.predictions.argmax(-1)\n",
        "    f1 = f1_score(labels, preds, average=\"weighted\")\n",
        "    acc = accuracy_score(labels, preds)\n",
        "    return {\"accuracy\": acc, \"f1\": f1}"
      ],
      "metadata": {
        "id": "65V97tOz_e37"
      },
      "id": "65V97tOz_e37",
      "execution_count": 13,
      "outputs": []
    },
    {
      "cell_type": "markdown",
      "source": [
        "Place the finishing touches on our trainer, passing in the arguments, model, metrics, and datacollator (which doesn't really matter here as we pass in one item at a time)."
      ],
      "metadata": {
        "id": "SmeWbe1hEpjD"
      },
      "id": "SmeWbe1hEpjD"
    },
    {
      "cell_type": "code",
      "source": [
        "from transformers import DataCollatorWithPadding\n",
        "data_collator = DataCollatorWithPadding(tokenizer=tokenizer)\n",
        "\n",
        "trainer = Trainer(\n",
        "    model=model,\n",
        "    args=training_args,\n",
        "    compute_metrics=compute_metrics,\n",
        "    tokenizer=tokenizer,\n",
        "    data_collator = data_collator\n",
        ")"
      ],
      "metadata": {
        "id": "TpkwUmWN_lu1"
      },
      "id": "TpkwUmWN_lu1",
      "execution_count": 14,
      "outputs": []
    },
    {
      "cell_type": "markdown",
      "source": [
        "Here we predict over the entire validation set."
      ],
      "metadata": {
        "id": "J_rg0KRlE2PU"
      },
      "id": "J_rg0KRlE2PU"
    },
    {
      "cell_type": "code",
      "source": [
        "preds_output = trainer.predict(cogs402_test)"
      ],
      "metadata": {
        "id": "4W9kCODH_wfT",
        "colab": {
          "base_uri": "https://localhost:8080/",
          "height": 17
        },
        "outputId": "bdaa2721-196c-401c-b9ea-e8feaca44416"
      },
      "id": "4W9kCODH_wfT",
      "execution_count": 15,
      "outputs": [
        {
          "output_type": "display_data",
          "data": {
            "text/plain": [
              "<IPython.core.display.HTML object>"
            ],
            "text/html": [
              ""
            ]
          },
          "metadata": {}
        }
      ]
    },
    {
      "cell_type": "markdown",
      "source": [
        "## Picking Examples"
      ],
      "metadata": {
        "id": "wj5dQazdIbxH"
      },
      "id": "wj5dQazdIbxH"
    },
    {
      "cell_type": "markdown",
      "source": [
        "False negatives and false postives are usually very interesting examples to analyze so to get the list of all false negatives and positives, we get our model's predictions and the list of true labels."
      ],
      "metadata": {
        "id": "wjeyImJmApjd"
      },
      "id": "wjeyImJmApjd"
    },
    {
      "cell_type": "code",
      "source": [
        "y_preds = np.argmax(preds_output.predictions, axis=1)\n",
        "y_true = np.array(cogs402_test[\"labels\"])"
      ],
      "metadata": {
        "id": "IyRQ0z-QAzAU"
      },
      "id": "IyRQ0z-QAzAU",
      "execution_count": 16,
      "outputs": []
    },
    {
      "cell_type": "markdown",
      "source": [
        "We can get the list of false negatives and false positives by subtracting the list of labels. \n",
        "\n",
        "\n",
        "If, after subtracting, the list is 0, then we have a correct prediction as the two labels are the same. We can then filter by the value of the labels to get the positive and negative class. \n",
        "\n",
        "\n",
        "If, after subtracting the false label from the true label, we have a negative, then we know that the actual label is 0 while the predicted label is 1 (as 0-1 is -1). Therefore, we get a false positive in that case. \n",
        "\n",
        "\n",
        "On the other hand, if after subtracting the false label from the true label, we get a positive, then we know that the actual label is 1 while the predicted label is 0 (as 1-0 is 1). Therefore, we have a false negative."
      ],
      "metadata": {
        "id": "T9iF_01WFrZL"
      },
      "id": "T9iF_01WFrZL"
    },
    {
      "cell_type": "code",
      "source": [
        "diff = y_true-y_preds\n",
        "correct = np.where(diff == 0)[0]\n",
        "\n",
        "pos = np.where((y_true-y_preds == 0) & (y_true==1))[0]\n",
        "neg = np.where((y_true-y_preds == 0) & (y_true==0))[0]\n",
        "\n",
        "false_pos = np.where(diff == -1)[0]\n",
        "false_neg = np.where(diff == 1)[0]\n",
        "\n",
        "print('Correctly classified: ', correct)\n",
        "\n",
        "print('cor pos: ', pos)\n",
        "print('cor neg: ', neg)\n",
        "\n",
        "print('False positives: ', false_pos)\n",
        "print('False negatives: ', false_neg)"
      ],
      "metadata": {
        "id": "ZoIa9_KIA2rt",
        "colab": {
          "base_uri": "https://localhost:8080/"
        },
        "outputId": "8e5ea8f1-1bd3-49e7-ba65-4a4bea8b726f"
      },
      "id": "ZoIa9_KIA2rt",
      "execution_count": 17,
      "outputs": [
        {
          "output_type": "stream",
          "name": "stdout",
          "text": [
            "Correctly classified:  [   0    1    2 ... 1067 1068 1069]\n",
            "cor pos:  [   0    3    5    7    9   10   12   13   14   16   18   20   26   28\n",
            "   30   32   33   39   40   41   42   43   45   49   53   58   60   62\n",
            "   64   65   68   69   72   75   76   80   81   82   86   87   90   92\n",
            "   93   95   97   98  101  105  107  108  112  113  114  116  118  119\n",
            "  120  122  124  125  126  129  131  132  135  136  141  143  145  146\n",
            "  151  153  154  155  158  160  162  163  164  165  166  167  170  172\n",
            "  174  176  177  178  180  181  182  183  185  187  188  189  192  193\n",
            "  194  195  198  199  201  202  203  204  205  208  212  215  217  218\n",
            "  219  220  224  225  229  230  233  236  238  240  241  244  247  255\n",
            "  256  257  260  261  265  266  267  268  270  273  276  277  278  280\n",
            "  281  283  284  286  287  289  290  291  292  293  296  297  299  300\n",
            "  303  305  307  308  309  312  313  314  315  316  317  318  319  321\n",
            "  327  328  330  333  334  340  342  343  344  346  347  352  353  355\n",
            "  356  360  361  364  365  367  370  372  373  374  380  381  388  389\n",
            "  390  391  396  399  402  403  404  407  411  414  415  416  417  418\n",
            "  419  420  421  422  423  424  425  429  430  431  435  438  439  440\n",
            "  441  442  444  447  448  449  451  452  455  456  458  460  461  464\n",
            "  467  470  471  472  476  479  485  486  488  489  490  491  492  493\n",
            "  495  498  500  502  505  507  511  512  515  516  518  519  522  524\n",
            "  529  530  531  532  533  535  537  539  540  541  542  545  546  548\n",
            "  549  553  554  558  559  560  562  565  567  568  571  577  581  583\n",
            "  584  586  587  588  591  594  595  596  597  598  600  602  604  607\n",
            "  608  613  615  620  622  623  624  625  626  628  629  630  631  633\n",
            "  635  636  638  639  640  642  646  649  655  656  659  660  662  663\n",
            "  666  667  669  671  673  674  675  678  679  680  683  692  693  696\n",
            "  698  699  703  704  706  708  711  715  716  717  718  720  723  724\n",
            "  725  726  727  730  732  735  736  737  738  739  740  746  747  748\n",
            "  749  753  755  759  760  763  764  765  766  767  768  770  772  773\n",
            "  776  779  780  781  782  783  786  787  789  790  791  792  794  795\n",
            "  796  799  801  803  804  809  810  812  814  815  816  817  819  821\n",
            "  822  824  825  827  828  829  830  835  836  839  847  850  853  856\n",
            "  858  859  861  862  867  871  874  875  876  879  883  884  885  886\n",
            "  888  895  897  898  899  900  907  908  912  914  915  917  918  920\n",
            "  922  924  926  930  931  933  936  938  939  940  941  942  943  946\n",
            "  947  948  949  951  952  953  955  956  959  961  963  965  966  968\n",
            "  969  970  972  976  978  979  980  981  984  985  986  987  989  991\n",
            "  996  997  999 1001 1002 1003 1004 1005 1008 1009 1010 1011 1014 1015\n",
            " 1016 1017 1019 1021 1025 1026 1027 1028 1035 1036 1038 1039 1043 1044\n",
            " 1045 1046 1048 1049 1053 1055 1057 1059 1061 1069]\n",
            "cor neg:  [   1    2    4    6    8   11   15   17   19   21   22   24   25   27\n",
            "   29   31   35   36   37   38   44   46   47   48   50   52   54   55\n",
            "   56   57   59   61   66   67   70   73   74   77   78   79   83   84\n",
            "   85   88   89   91   94   96   99  100  102  103  104  106  109  110\n",
            "  111  115  117  121  123  127  128  130  133  134  137  138  139  140\n",
            "  142  144  147  149  150  152  156  157  159  161  168  169  171  173\n",
            "  175  179  184  186  190  191  196  197  200  206  207  209  210  211\n",
            "  213  214  216  221  222  223  226  227  228  231  232  234  235  237\n",
            "  239  242  243  245  246  248  249  250  251  252  253  254  258  259\n",
            "  262  263  264  269  271  272  274  275  282  285  288  294  295  298\n",
            "  301  302  304  306  310  311  320  322  323  324  325  326  329  331\n",
            "  332  335  336  337  338  339  341  345  348  349  350  351  354  357\n",
            "  358  359  362  363  366  368  369  371  375  376  377  378  379  382\n",
            "  383  384  385  386  387  392  393  394  395  397  398  400  401  405\n",
            "  406  408  409  410  412  413  426  427  428  432  433  434  436  437\n",
            "  443  445  446  450  454  457  459  462  463  466  468  469  473  474\n",
            "  475  477  478  480  481  482  483  484  487  494  496  497  499  501\n",
            "  503  504  506  508  509  510  513  514  517  520  521  523  525  526\n",
            "  527  528  534  536  538  543  544  547  550  551  552  555  556  557\n",
            "  561  563  566  569  570  572  573  574  575  576  578  579  580  582\n",
            "  585  589  590  592  593  599  601  603  605  606  609  610  611  612\n",
            "  614  616  617  618  619  621  627  632  634  637  641  643  644  645\n",
            "  647  648  650  651  652  653  654  657  658  661  664  665  668  670\n",
            "  672  676  677  681  682  684  685  686  687  688  689  691  694  695\n",
            "  697  700  701  702  705  707  709  710  712  713  714  719  721  722\n",
            "  729  731  733  734  741  742  743  744  745  750  751  752  754  756\n",
            "  757  758  761  769  771  774  775  777  778  784  785  788  793  797\n",
            "  798  800  805  806  807  808  811  818  820  823  826  831  832  833\n",
            "  837  838  840  841  842  843  844  845  846  848  849  851  852  854\n",
            "  855  857  860  863  864  865  866  868  869  870  872  873  877  878\n",
            "  880  881  882  887  889  890  892  893  894  896  901  902  904  906\n",
            "  909  910  911  913  916  919  921  923  925  927  928  932  934  935\n",
            "  937  944  945  950  954  957  958  960  962  964  967  971  973  974\n",
            "  975  977  982  983  988  990  992  993  994  995  998 1000 1006 1007\n",
            " 1012 1013 1018 1020 1022 1023 1024 1029 1030 1031 1032 1033 1034 1037\n",
            " 1040 1041 1042 1047 1050 1051 1054 1056 1058 1060 1062 1063 1064 1065\n",
            " 1066 1067 1068]\n",
            "False positives:  [  23   34   51   63   71  148  279  453  690  728  762  802  813  834\n",
            "  903  905  929 1052]\n",
            "False negatives:  [465 564 891]\n"
          ]
        }
      ]
    },
    {
      "cell_type": "markdown",
      "source": [
        "Take example for evaluation based on random pick"
      ],
      "metadata": {
        "id": "d4DdhW2T6wHE"
      },
      "id": "d4DdhW2T6wHE"
    },
    {
      "cell_type": "code",
      "execution_count": 18,
      "id": "a35e74a3-bd67-4ee2-8e5b-2da01503f27b",
      "metadata": {
        "id": "a35e74a3-bd67-4ee2-8e5b-2da01503f27b"
      },
      "outputs": [],
      "source": [
        "rand_pos = np.random.choice(pos, size=1)\n",
        "rand_neg = np.random.choice(neg, size=1)\n",
        "rand_fp = np.random.choice(false_pos, size=1)\n",
        "rand_fn = np.random.choice(false_neg, size=1)"
      ]
    },
    {
      "cell_type": "code",
      "source": [
        "# print(tokenizer.convert_ids_to_tokens(cogs402_test[\"input_ids\"][rand_neg[0]]))"
      ],
      "metadata": {
        "id": "f2TDMpA1nqk_"
      },
      "id": "f2TDMpA1nqk_",
      "execution_count": 19,
      "outputs": []
    },
    {
      "cell_type": "markdown",
      "source": [
        "Some other interesting examples include the examples that are the most confidently predicted to be positive or negative. (i.e. the examples with the highest predicted probability)"
      ],
      "metadata": {
        "id": "kyVEhUfidwRV"
      },
      "id": "kyVEhUfidwRV"
    },
    {
      "cell_type": "code",
      "source": [
        "highest_pos = [np.argmax(preds_output.predictions[:,1])]\n",
        "highest_neg = [np.argmax(preds_output.predictions[:,0])]\n",
        "\n",
        "# for news dataset\n",
        "# highest_neg = [np.argmax(np.delete(preds_output.predictions, 1933, 0)[:,0])]\n",
        "\n",
        "print(highest_pos)\n",
        "print(highest_neg)"
      ],
      "metadata": {
        "id": "6WWpe52Cd3wk",
        "colab": {
          "base_uri": "https://localhost:8080/"
        },
        "outputId": "85bd9651-25ce-46d7-a09e-7d77484ef8a6"
      },
      "id": "6WWpe52Cd3wk",
      "execution_count": 20,
      "outputs": [
        {
          "output_type": "stream",
          "name": "stdout",
          "text": [
            "[976]\n",
            "[605]\n"
          ]
        }
      ]
    },
    {
      "cell_type": "markdown",
      "source": [
        "## Getting the attention"
      ],
      "metadata": {
        "id": "RIeTsarXI7I9"
      },
      "id": "RIeTsarXI7I9"
    },
    {
      "cell_type": "markdown",
      "source": [
        "Now that we have the example we want to visualize the attentions for, we pass it into the model again in order to obtain the attention output. We stack the attentions to get an output attention tensor of shape: (layer, batch, head, seq_len, x + attention_window + 1) and a global attention tensor of shape (layer, batch, head, seq_len, x) where x is the number of global attention tokens."
      ],
      "metadata": {
        "id": "xctV7QJdJEDe"
      },
      "id": "xctV7QJdJEDe"
    },
    {
      "cell_type": "code",
      "source": [
        "test_val = [976]\n",
        "print(test_val)\n",
        "testexam = cogs402_test[test_val]"
      ],
      "metadata": {
        "id": "FrX3LUUxeORB",
        "colab": {
          "base_uri": "https://localhost:8080/"
        },
        "outputId": "5a98fea0-f70c-4058-98ed-17e369832b9b"
      },
      "id": "FrX3LUUxeORB",
      "execution_count": 21,
      "outputs": [
        {
          "output_type": "stream",
          "name": "stdout",
          "text": [
            "[976]\n"
          ]
        }
      ]
    },
    {
      "cell_type": "code",
      "execution_count": 22,
      "id": "04c5bcaf-5fe3-4813-8444-5cfb2c63a92b",
      "metadata": {
        "id": "04c5bcaf-5fe3-4813-8444-5cfb2c63a92b",
        "colab": {
          "base_uri": "https://localhost:8080/"
        },
        "outputId": "897fcd0b-e481-4a02-95a4-6b162d06cb2f"
      },
      "outputs": [
        {
          "output_type": "stream",
          "name": "stdout",
          "text": [
            "output_attention.shape torch.Size([12, 1, 12, 2048, 514])\n",
            "gl_output_attention.shape torch.Size([12, 1, 12, 2048, 1])\n"
          ]
        }
      ],
      "source": [
        "output = model(testexam[\"input_ids\"].cuda(), attention_mask=testexam['attention_mask'].cuda(), labels=testexam['labels'].cuda(), output_attentions = True)\n",
        "batch_attn = output[-2]\n",
        "output_attentions = torch.stack(batch_attn).cpu()\n",
        "global_attention = output[-1]\n",
        "output_global_attentions = torch.stack(global_attention).cpu()\n",
        "print(\"output_attention.shape\", output_attentions.shape)\n",
        "print(\"gl_output_attention.shape\", output_global_attentions.shape)"
      ]
    },
    {
      "cell_type": "code",
      "source": [
        "print(testexam['labels'][0])\n",
        "print(output[1].argmax())"
      ],
      "metadata": {
        "id": "SO4yNy98t_UP",
        "colab": {
          "base_uri": "https://localhost:8080/"
        },
        "outputId": "e5ca878f-d9a3-4e40-9135-40213d2f25d3"
      },
      "id": "SO4yNy98t_UP",
      "execution_count": 23,
      "outputs": [
        {
          "output_type": "stream",
          "name": "stdout",
          "text": [
            "tensor(1)\n",
            "tensor(1, device='cuda:0')\n"
          ]
        }
      ]
    },
    {
      "cell_type": "code",
      "execution_count": 24,
      "id": "2467c3d1-fe58-4e6d-aa98-534a6df72fcc",
      "metadata": {
        "id": "2467c3d1-fe58-4e6d-aa98-534a6df72fcc"
      },
      "outputs": [],
      "source": [
        "# print(os.getcwd())\n",
        "# yes = torch.load(\"resources/longformer_test2/epoch_3/aggregate_attn.pt\")"
      ]
    },
    {
      "cell_type": "markdown",
      "source": [
        "A unique property of the longformer model is that the matrix output for the attention is not a seq_len x seq_len output. Each token can only attend to the preceeding w/2 tokens and the succeeding w/2 tokens, dictated by whatever you choose the model's attention window w to be. Another name for this is called the sliding window attention. Therefore, we need to convert sliding attention matrix to correct seq_len x seq_len matrix to remain consistent with other types of Transformer Neural Networks.\n",
        "\n",
        "To do so, we run the following 4 functions. Our attentions will change from an output attention tensor of shape (layer, batch, head, seq_len, x + attention_window + 1) and a global attention tensor of shape (layer, batch, head, seq_len, x) to a single numpy array of shape (layer, batch, head, seq_len, seq_len). More information about the functions can be found here. More information about the functions can be found [here](https://colab.research.google.com/drive/1Kxx26NtIlUzioRCHpsR8IbSz_DpRFxEZ#scrollTo=liVhkxiH9Le0)."
      ],
      "metadata": {
        "id": "OevnNprR67LK"
      },
      "id": "OevnNprR67LK"
    },
    {
      "cell_type": "code",
      "execution_count": 25,
      "id": "0882a3e5-1b0c-4319-92a3-92f5b516d854",
      "metadata": {
        "id": "0882a3e5-1b0c-4319-92a3-92f5b516d854"
      },
      "outputs": [],
      "source": [
        "def create_head_matrix(output_attentions, global_attentions):\n",
        "    new_attention_matrix = torch.zeros((output_attentions.shape[0], \n",
        "                                      output_attentions.shape[0]))\n",
        "    for i in range(output_attentions.shape[0]):\n",
        "        test_non_zeroes = torch.nonzero(output_attentions[i]).squeeze()\n",
        "        test2 = output_attentions[i][test_non_zeroes[1:]]\n",
        "        new_attention_matrix_indices = test_non_zeroes[1:]-257 + i\n",
        "        new_attention_matrix[i][new_attention_matrix_indices] = test2\n",
        "        new_attention_matrix[i][0] = output_attentions[i][0]\n",
        "        new_attention_matrix[0] = global_attentions.squeeze()[:output_attentions.shape[0]]\n",
        "    return new_attention_matrix.detach().cpu().numpy()\n",
        "\n",
        "\n",
        "def attentions_all_heads(output_attentions, global_attentions):\n",
        "    new_matrix = []\n",
        "    for i in range(output_attentions.shape[0]):\n",
        "        matrix = create_head_matrix(output_attentions[i], global_attentions[i])\n",
        "        new_matrix.append(matrix)\n",
        "    return np.stack(new_matrix)\n",
        "\n",
        "\n",
        "def all_batches(output_attentions, global_attentions):\n",
        "    new_matrix = []\n",
        "    for i in range(output_attentions.shape[0]):\n",
        "        matrix = attentions_all_heads(output_attentions[i], global_attentions[i])\n",
        "        new_matrix.append(matrix)\n",
        "    return np.stack(new_matrix)\n",
        "\n",
        "def all_layers(output_attentions, global_attentions):\n",
        "    new_matrix = []\n",
        "    for i in range(output_attentions.shape[0]):\n",
        "        matrix = all_batches(output_attentions[i], global_attentions[i])\n",
        "        new_matrix.append(matrix)\n",
        "    return np.stack(new_matrix)"
      ]
    },
    {
      "cell_type": "code",
      "source": [
        "converted_mat = all_layers(output_attentions, output_global_attentions)\n",
        "print(converted_mat.shape)"
      ],
      "metadata": {
        "id": "IpdfMEMAuvyR",
        "colab": {
          "base_uri": "https://localhost:8080/"
        },
        "outputId": "5eabc16d-0cd0-4340-9b44-85449117f2e8"
      },
      "id": "IpdfMEMAuvyR",
      "execution_count": 27,
      "outputs": [
        {
          "output_type": "stream",
          "name": "stdout",
          "text": [
            "(12, 1, 12, 2048, 2048)\n"
          ]
        }
      ]
    },
    {
      "cell_type": "code",
      "source": [
        "print(testexam['input_ids'])"
      ],
      "metadata": {
        "id": "SIwlL_rUIlO3",
        "colab": {
          "base_uri": "https://localhost:8080/"
        },
        "outputId": "6761c766-aa41-4d4e-c31e-8cbe425193d3"
      },
      "id": "SIwlL_rUIlO3",
      "execution_count": 28,
      "outputs": [
        {
          "output_type": "stream",
          "name": "stdout",
          "text": [
            "tensor([[    0, 29642,    25,  ...,  3156,     6,     2]])\n"
          ]
        }
      ]
    },
    {
      "cell_type": "markdown",
      "source": [
        "## Formatting the attentions"
      ],
      "metadata": {
        "id": "OA32VVs6KF-M"
      },
      "id": "OA32VVs6KF-M"
    },
    {
      "cell_type": "markdown",
      "source": [
        "Our end goal is to overlay the attentions onto the tokens and produce a PDF of the results, so we need to grab the original tokens from the text. We cant grab the original text as it is one large string, but using the tokenizer function, we can change our input ids back to a list of tokens."
      ],
      "metadata": {
        "id": "Sl4xm-JGKKvt"
      },
      "id": "Sl4xm-JGKKvt"
    },
    {
      "cell_type": "code",
      "source": [
        "all_tokens = tokenizer.convert_ids_to_tokens(testexam[\"input_ids\"][0])"
      ],
      "metadata": {
        "id": "N-Wr_p4LsTv-"
      },
      "id": "N-Wr_p4LsTv-",
      "execution_count": 29,
      "outputs": []
    },
    {
      "cell_type": "code",
      "source": [
        "print(all_tokens)"
      ],
      "metadata": {
        "colab": {
          "base_uri": "https://localhost:8080/"
        },
        "id": "q8Lb62qWFvwV",
        "outputId": "e734c81d-73e8-4c99-c6c4-ffc2227d85ca"
      },
      "id": "q8Lb62qWFvwV",
      "execution_count": 30,
      "outputs": [
        {
          "output_type": "stream",
          "name": "stdout",
          "text": [
            "['<s>', 'Published', 'Ġas', 'Ġa', 'Ġconference', 'Ġpaper', 'Ġin', 'ĠInternational', 'ĠConference', 'Ġof', 'ĠComputer', 'ĠVision', 'Ġ(', 'IC', 'CV', ')', 'Ġ2017', 'Ġ', 'ĠSpeaking', 'Ġthe', 'ĠSame', 'ĠLanguage', ':', 'ĠMatch', 'ing', 'ĠMachine', 'Ġto', 'ĠHuman', 'ĠCapt', 'ions', 'Ġby', 'ĠAd', 'vers', 'arial', 'ĠTraining', 'ĠRak', 'sh', 'ith', 'ĠShe', 'tty', '1', 'Ġ', 'ĠMarcus', 'ĠRoh', 'r', 'bach', '2', ',', '3', 'Ġ', 'Ġar', 'X', 'iv', ':', '17', '03', '.', '10', '476', 'v', '2', 'Ġ[', 'cs', '.', 'CV', ']', 'Ġ6', 'ĠNov', 'Ġ2017', 'Ġ', 'ĠMario', 'ĠFritz', '1', 'Ġ1', 'Ġ', 'ĠLisa', 'ĠAnne', 'ĠHendricks', '2', 'Ġ', 'ĠBer', 'nt', 'ĠS', 'chie', 'le', '1', 'Ġ', 'ĠMax', 'ĠPlan', 'ck', 'ĠInstitute', 'Ġfor', 'ĠIn', 'format', 'ics', ',', 'ĠSa', 'ar', 'land', 'ĠIn', 'format', 'ics', 'ĠCampus', ',', 'ĠSa', 'arb', 'ru', 'Ì', 'Ī', 'ck', 'en', ',', 'ĠGermany', 'Ġ2', 'Ġ3', 'ĠUC', 'ĠBerkeley', 'ĠE', 'EC', 'S', ',', 'ĠCA', ',', 'ĠUnited', 'ĠStates', 'ĠFacebook', 'ĠAI', 'ĠResearch', 'Ġ', 'ĠAbstract', 'ĠWhile', 'Ġstrong', 'Ġprogress', 'Ġhas', 'Ġbeen', 'Ġmade', 'Ġin', 'Ġimage', 'Ġcaption', 'ing', 'Ġrecently', ',', 'Ġmachine', 'Ġand', 'Ġhuman', 'Ġcapt', 'ions', 'Ġare', 'Ġstill', 'Ġquite', 'Ġdistinct', '.', 'ĠThis', 'Ġis', 'Ġprimarily', 'Ġdue', 'Ġto', 'Ġthe', 'Ġdeficiencies', 'Ġin', 'Ġthe', 'Ġgenerated', 'Ġword', 'Ġdistribution', ',', 'Ġvocabulary', 'Ġsize', ',', 'Ġand', 'Ġstrong', 'Ġbias', 'Ġin', 'Ġthe', 'Ġgenerators', 'Ġtowards', 'Ġfrequent', 'Ġcapt', 'ions', '.', 'ĠFurthermore', ',', 'Ġhumans', 'ĠâĢĵ', 'Ġrightfully', 'Ġso', 'ĠâĢĵ', 'Ġgenerate', 'Ġmultiple', ',', 'Ġdiverse', 'Ġcapt', 'ions', ',', 'Ġdue', 'Ġto', 'Ġthe', 'Ġinherent', 'Ġambiguity', 'Ġin', 'Ġthe', 'Ġcaption', 'ing', 'Ġtask', 'Ġwhich', 'Ġis', 'Ġnot', 'Ġexplicitly', 'Ġconsidered', 'Ġin', 'Ġtoday', 'âĢ', 'Ļ', 's', 'Ġsystems', '.', 'ĠTo', 'Ġaddress', 'Ġthese', 'Ġchallenges', ',', 'Ġwe', 'Ġchange', 'Ġthe', 'Ġtraining', 'Ġobjective', 'Ġof', 'Ġthe', 'Ġcaption', 'Ġgenerator', 'Ġfrom', 'Ġreprodu', 'cing', 'Ġground', 'truth', 'Ġcapt', 'ions', 'Ġto', 'Ġgenerating', 'Ġa', 'Ġset', 'Ġof', 'Ġcapt', 'ions', 'Ġthat', 'Ġis', 'Ġindistinguishable', 'Ġfrom', 'Ġhuman', 'Ġwritten', 'Ġcapt', 'ions', '.', 'ĠInstead', 'Ġof', 'Ġhand', 'craft', 'ing', 'Ġsuch', 'Ġa', 'Ġlearning', 'Ġtarget', ',', 'Ġwe', 'Ġemploy', 'Ġadvers', 'arial', 'Ġtraining', 'Ġin', 'Ġcombination', 'Ġwith', 'Ġan', 'Ġapproximate', 'ĠG', 'umb', 'el', 'Ġsam', 'pler', 'Ġto', 'Ġimplicitly', 'Ġmatch', 'Ġthe', 'Ġgenerated', 'Ġdistribution', 'Ġto', 'Ġthe', 'Ġhuman', 'Ġone', '.', 'ĠWhile', 'Ġour', 'Ġmethod', 'Ġachieves', 'Ġcomparable', 'Ġperformance', 'Ġto', 'Ġthe', 'Ġstate', '-', 'of', '-', 'the', '-', 'art', 'Ġin', 'Ġterms', 'Ġof', 'Ġthe', 'Ġcorrectness', 'Ġof', 'Ġthe', 'Ġcapt', 'ions', ',', 'Ġwe', 'Ġgenerate', 'Ġa', 'Ġset', 'Ġof', 'Ġdiverse', 'Ġcapt', 'ions', 'Ġthat', 'Ġare', 'Ġsignificantly', 'Ġless', 'Ġbiased', 'Ġand', 'Ġbetter', 'Ġmatch', 'Ġthe', 'Ġglobal', 'Ġun', 'i', '-,', 'Ġbi', '-', 'Ġand', 'Ġtri', '-', 'gram', 'Ġdistributions', 'Ġof', 'Ġthe', 'Ġhuman', 'Ġcapt', 'ions', '.', 'Ġ', 'ĠO', 'urs', ':', 'Ġa', 'Ġperson', 'Ġon', 'Ġsk', 'is', 'Ġjumping', 'Ġover', 'Ġa', 'Ġramp', 'Ġ', 'ĠO', 'urs', ':', 'Ġa', 'Ġsk', 'ier', 'Ġis', 'Ġmaking', 'Ġa', 'Ġturn', 'Ġon', 'Ġa', 'Ġcourse', 'Ġ', 'ĠO', 'urs', ':', 'Ġa', 'Ġcross', 'Ġcountry', 'Ġsk', 'ier', 'Ġmakes', 'Ġhis', 'Ġway', 'Ġthrough', 'Ġthe', 'Ġsnow', 'Ġ', 'ĠO', 'urs', ':', 'Ġa', 'Ġsk', 'ier', 'Ġis', 'Ġheaded', 'Ġdown', 'Ġa', 'Ġsteep', 'Ġslope', 'Ġ', 'ĠBas', 'eline', ':', 'Ġa', 'Ġman', 'Ġriding', 'Ġsk', 'is', 'Ġdown', 'Ġa', 'Ġsnow', 'Ġcovered', 'Ġslope', 'Ġ', 'ĠFigure', 'Ġ1', ':', 'ĠFour', 'Ġimages', 'Ġfrom', 'Ġthe', 'Ġtest', 'Ġset', ',', 'Ġall', 'Ġrelated', 'Ġto', 'Ġskiing', ',', 'Ġshown', 'Ġwith', 'Ġcapt', 'ions', 'Ġfrom', 'Ġour', 'Ġadvers', 'arial', 'Ġmodel', 'Ġand', 'Ġa', 'Ġbaseline', '.', 'ĠBas', 'eline', 'Ġmodel', 'Ġdescribes', 'Ġall', 'Ġfour', 'Ġimages', 'Ġwith', 'Ġone', 'Ġgeneric', 'Ġcaption', ',', 'Ġwhereas', 'Ġour', 'Ġmodel', 'Ġproduces', 'Ġdiverse', 'Ġand', 'Ġmore', 'Ġimage', 'Ġspecific', 'Ġcapt', 'ions', '.', 'ĠAs', 'Ġwe', 'Ġanalyze', 'Ġin', 'Ġthis', 'Ġpaper', ',', 'Ġthis', 'Ġis', 'Ġlikely', 'Ġdue', 'Ġto', 'Ġartifacts', 'Ġand', 'Ġdeficiencies', 'Ġin', 'Ġthe', 'Ġstatistics', 'Ġof', 'Ġthe', 'Ġgenerated', 'Ġcapt', 'ions', ',', 'Ġwhich', 'Ġis', 'Ġmore', 'Ġapparent', 'Ġwhen', 'Ġobserving', 'Ġmultiple', 'Ġsamples', '.', 'ĠSpecifically', ',', 'Ġwe', 'Ġobserve', 'Ġthat', 'Ġstate', '-', 'of', '-', 'the', '-', 'art', 'Ġsystems', 'Ġfrequently', 'ĠâĢ', 'ľ', 'reve', 'al', 'Ġthemselves', 'âĢ', 'Ŀ', 'Ġby', 'Ġgenerating', 'Ġa', 'Ġdifferent', 'Ġword', 'Ġdistribution', 'Ġand', 'Ġusing', 'Ġsmaller', 'Ġvocabulary', '.', 'ĠFurther', 'Ġscrutiny', 'Ġreveals', 'Ġthat', 'Ġgeneral', 'ization', 'Ġfrom', 'Ġthe', 'Ġtraining', 'Ġset', 'Ġis', 'Ġstill', 'Ġchallenging', 'Ġand', 'Ġgeneration', 'Ġis', 'Ġbiased', 'Ġto', 'Ġfrequent', 'Ġfragments', 'Ġand', 'Ġcapt', 'ions', '.', 'ĠAlso', ',', 'Ġtoday', 'âĢ', 'Ļ', 's', 'Ġsystems', 'Ġare', 'Ġevaluated', 'Ġto', 'Ġproduce', 'Ġa', 'Ġsingle', 'Ġcaption', '.', 'ĠYet', ',', 'Ġmultiple', 'Ġpotentially', 'Ġdistinct', 'Ġcapt', 'ions', 'Ġare', 'Ġtypically', 'Ġcorrect', 'Ġfor', 'Ġa', 'Ġsingle', 'Ġimage', 'ĠâĢĵ', 'Ġa', 'Ġproperty', 'Ġthat', 'Ġis', 'Ġreflected', 'Ġin', 'Ġhuman', 'Ġground', '-', 'truth', '.', 'ĠThis', 'Ġdiversity', 'Ġis', 'Ġnot', 'Ġequally', 'Ġreproduced', 'Ġby', 'Ġstate', '-', 'of', '-', 'the', '-', 'art', 'Ġcaption', 'Ġgenerators', 'Ġ[', '40', ',', 'Ġ23', '].', 'ĠTherefore', ',', 'Ġour', 'Ġgoal', 'Ġis', 'Ġto', 'Ġmake', 'Ġimage', 'Ġcapt', 'ions', 'Ġless', 'Ġdistinguish', 'able', 'Ġfrom', 'Ġhuman', 'Ġones', 'ĠâĢĵ', 'Ġsimilar', 'Ġin', 'Ġthe', 'Ġspirit', 'Ġto', 'Ġa', 'ĠTuring', 'Ġ', 'Ġ1', '.', 'ĠIntroduction', 'ĠImage', 'Ġcaption', 'ing', 'Ġsystems', 'Ġhave', 'Ġa', 'Ġvariety', 'Ġof', 'Ġapplications', 'Ġranging', 'Ġfrom', 'Ġmedia', 'Ġretrieval', 'Ġand', 'Ġtagging', 'Ġto', 'Ġassistance', 'Ġfor', 'Ġthe', 'Ġvisually', 'Ġimpaired', '.', 'ĠIn', 'Ġparticular', ',', 'Ġmodels', 'Ġwhich', 'Ġcombine', 'Ġstate', '-', 'of', '-', 'the', '-', 'art', 'Ġimage', 'Ġrepresentations', 'Ġbased', 'Ġon', 'Ġdeep', 'Ġconv', 'olution', 'al', 'Ġnetworks', 'Ġand', 'Ġdeep', 'Ġrecurrent', 'Ġlanguage', 'Ġmodels', 'Ġhave', 'Ġled', 'Ġto', 'Ġever', 'Ġincreasing', 'Ġperformance', 'Ġon', 'Ġevaluation', 'Ġmetrics', 'Ġsuch', 'Ġas', 'ĠC', 'ID', 'Er', 'Ġ[', '39', ']', 'Ġand', 'ĠMET', 'E', 'OR', 'Ġ[', '8', ']', 'Ġas', 'Ġcan', 'Ġbe', 'Ġseen', 'Ġe', '.', 'g', '.', 'Ġon', 'Ġthe', 'ĠC', 'OC', 'O', 'Ġimage', 'ĠCaption', 'Ġchallenge', 'Ġleader', 'board', 'Ġ[', '6', '].', 'ĠDespite', 'Ġthese', 'Ġadvances', ',', 'Ġit', 'Ġis', 'Ġoften', 'Ġeasy', 'Ġfor', 'Ġhumans', 'Ġto', 'Ġdifferentiate', 'Ġbetween', 'Ġmachine', 'Ġand', 'Ġhuman', 'Ġcapt', 'ions', 'ĠâĢĵ', 'Ġparticularly', 'Ġwhen', 'Ġobserving', 'Ġmultiple', 'Ġcapt', 'ions', 'Ġfor', 'Ġa', 'Ġsingle', 'Ġimage', '.', 'Ġ1', 'Ġ', 'Ġ', 'Č', '2', '.', 'ĠRelated', 'ĠWork', 'Ġ', 'Ġa', 'Ġbus', 'Ġthat', 'Ġhas', 'Ġpulled', 'Ġinto', 'Ġthe', 'Ġside', 'Ġof', 'Ġthe', 'Ġstreet', 'Ġa', 'Ġbus', 'Ġis', 'Ġparked', 'Ġat', 'Ġthe', 'Ġside', 'Ġof', 'Ġthe', 'Ġroad', 'Ġa', 'Ġwhite', 'Ġbus', 'Ġis', 'Ġparked', 'Ġnear', 'Ġa', 'Ġcurb', 'Ġwith', 'Ġpeople', 'Ġwalking', 'Ġby', 'Ġ', 'Ġa', 'Ġgroup', 'Ġof', 'Ġpeople', 'Ġstanding', 'Ġoutside', 'Ġin', 'Ġa', 'Ġold', 'Ġmuseum', 'Ġan', 'Ġairplane', 'Ġshow', 'Ġwhere', 'Ġpeople', 'Ġstand', 'Ġaround', 'Ġa', 'Ġline', 'Ġof', 'Ġplanes', 'Ġparked', 'Ġat', 'Ġan', 'Ġairport', 'Ġshow', 'Ġ', 'ĠBase', 'ĠâĢ¢', 'Ġa', 'Ġbus', 'Ġis', 'Ġparked', 'Ġon', 'Ġthe', 'Ġside', 'Ġof', 'Ġline', 'Ġthe', 'Ġroad', 'ĠâĢ¢', 'Ġa', 'Ġbus', 'Ġthat', 'Ġis', 'Ġparked', 'Ġin', 'Ġthe', 'Ġstreet', 'Ġa', 'Ġbus', 'Ġis', 'Ġparked', 'Ġin', 'Ġthe', 'Ġstreet', 'Ġnext', 'Ġto', 'Ġa', 'Ġbus', 'Ġ', 'Ġa', 'Ġgroup', 'Ġof', 'Ġpeople', 'Ġstanding', 'Ġaround', 'Ġa', 'Ġplane', 'Ġa', 'Ġgroup', 'Ġof', 'Ġpeople', 'Ġstanding', 'Ġaround', 'Ġa', 'Ġplane', 'Ġa', 'Ġgroup', 'Ġof', 'Ġpeople', 'Ġstanding', 'Ġaround', 'Ġa', 'Ġplane', 'Ġ', 'ĠO', 'urs', 'Ġ', 'ĠFigure', 'Ġ2', ':', 'ĠTwo', 'Ġexamples', 'Ġcomparing', 'Ġmultiple', 'Ġcapt', 'ions', 'Ġgenerated', 'Ġby', 'Ġour', 'Ġadvers', 'arial', 'Ġmodel', 'Ġand', 'Ġthe', 'Ġbaseline', '.', 'ĠBi', '-', 'gram', 's', 'Ġwhich', 'Ġare', 'Ġtop', '-', '20', 'Ġfrequent', 'Ġbi', '-', 'gram', 's', 'Ġin', 'Ġthe', 'Ġtraining', 'Ġset', 'Ġare', 'Ġmarked', 'Ġin', 'Ġred', 'Ġ(', 'e', '.', 'g', '.,', 'ĠâĢ', 'ľ', 'a', 'Ġgroup', 'âĢ', 'Ŀ', 'Ġand', 'ĠâĢ', 'ľ', 'group', 'Ġof', 'âĢ', 'Ŀ', ').', 'ĠCapt', 'ions', 'Ġwhich', 'Ġare', 'Ġrepl', 'icas', 'Ġfrom', 'Ġtraining', 'Ġset', 'Ġare', 'Ġmarked', 'Ġwith', 'ĠâĢ¢', 'Ġ.', 'ĠTest', '.', 'ĠWe', 'Ġalso', 'Ġembrace', 'Ġthe', 'Ġambiguity', 'Ġof', 'Ġthe', 'Ġtask', 'Ġand', 'Ġextend', 'Ġour', 'Ġinvestigation', 'Ġto', 'Ġpredicting', 'Ġsets', 'Ġof', 'Ġcapt', 'ions', 'Ġfor', 'Ġa', 'Ġsingle', 'Ġimage', 'Ġand', 'Ġevaluating', 'Ġtheir', 'Ġquality', ',', 'Ġparticularly', 'Ġin', 'Ġterms', 'Ġof', 'Ġthe', 'Ġdiversity', 'Ġin', 'Ġthe', 'Ġgenerated', 'Ġset', '.', 'ĠIn', 'Ġcontrast', ',', 'Ġpopular', 'Ġapproaches', 'Ġto', 'Ġimage', 'Ġcaption', 'ing', 'Ġare', 'Ġtrained', 'Ġwith', 'Ġan', 'Ġobjective', 'Ġto', 'Ġreproduce', 'Ġthe', 'Ġcapt', 'ions', 'Ġas', 'Ġprovided', 'Ġby', 'Ġthe', 'Ġground', '-', 'truth', '.', 'ĠInstead', 'Ġof', 'Ġrelying', 'Ġon', 'Ġhand', 'craft', 'ing', 'Ġloss', '-', 'fun', 'ctions', 'Ġto', 'Ġachieve', 'Ġour', 'Ġgoal', ',', 'Ġwe', 'Ġpropose', 'Ġan', 'Ġadvers', 'arial', 'Ġtraining', 'Ġmechanism', 'Ġfor', 'Ġimage', 'Ġcaption', 'ing', '.', 'ĠFor', 'Ġthis', 'Ġwe', 'Ġbuild', 'Ġon', 'ĠGener', 'ative', 'ĠAd', 'vers', 'arial', 'ĠNetworks', 'Ġ(', 'GAN', 's', ')', 'Ġ[', '14', '],', 'Ġwhich', 'Ġhave', 'Ġbeen', 'Ġsuccessfully', 'Ġused', 'Ġto', 'Ġgenerate', 'Ġmainly', 'Ġcontinuous', 'Ġdata', 'Ġdistributions', 'Ġsuch', 'Ġas', 'Ġimages', 'Ġ[', '9', ',', 'Ġ30', '],', 'Ġalthough', 'Ġexceptions', 'Ġexist', 'Ġ[', '27', '].', 'ĠIn', 'Ġcontrast', 'Ġto', 'Ġimages', ',', 'Ġcapt', 'ions', 'Ġare', 'Ġdiscrete', ',', 'Ġwhich', 'Ġposes', 'Ġa', 'Ġchallenge', 'Ġwhen', 'Ġtrying', 'Ġto', 'Ġback', 'prop', 'agate', 'Ġthrough', 'Ġthe', 'Ġgeneration', 'Ġstep', '.', 'ĠTo', 'Ġovercome', 'Ġthis', 'Ġobstacle', ',', 'Ġwe', 'Ġuse', 'Ġa', 'ĠG', 'umb', 'el', 'Ġsam', 'pler', 'Ġ[', '20', ',', 'Ġ28', ']', 'Ġthat', 'Ġallows', 'Ġfor', 'Ġend', '-', 'to', '-', 'end', 'Ġtraining', '.', 'ĠWe', 'Ġaddress', 'Ġthe', 'Ġproblem', 'Ġof', 'Ġcaption', 'Ġset', 'Ġgeneration', 'Ġfor', 'Ġimages', 'Ġand', 'Ġdiscuss', 'Ġmetrics', 'Ġto', 'Ġmeasure', 'Ġthe', 'Ġcaption', 'Ġdiversity', 'Ġand', 'Ġcompare', 'Ġit', 'Ġto', 'Ġhuman', 'Ġground', '-', 'truth', '.', 'ĠWe', 'Ġcontribute', 'Ġa', 'Ġnovel', 'Ġsolution', 'Ġto', 'Ġthis', 'Ġproblem', 'Ġusing', 'Ġan', 'Ġadvers', 'arial', 'Ġformulation', '.', 'ĠThe', 'Ġevaluation', 'Ġof', 'Ġour', 'Ġmodel', 'Ġshows', 'Ġthat', 'Ġaccuracy', 'Ġof', 'Ġgenerated', 'Ġcapt', 'ions', 'Ġis', 'Ġon', 'Ġpar', 'Ġto', 'Ġthe', 'Ġstate', '-', 'of', '-', 'the', '-', 'art', ',', 'Ġbut', 'Ġwe', 'Ġgreatly', 'Ġincrease', 'Ġthe', 'Ġdiversity', 'Ġof', 'Ġthe', 'Ġcaption', 'Ġsets', 'Ġand', 'Ġbetter', 'Ġmatch', 'Ġthe', 'Ġground', '-', 'truth', 'Ġstatistics', 'Ġin', 'Ġseveral', 'Ġmeasures', '.', 'ĠQual', 'itatively', ',', 'Ġour', 'Ġmodel', 'Ġproduces', 'Ġmore', 'Ġdiverse', 'Ġcapt', 'ions', 'Ġacross', 'Ġimages', 'Ġcontaining', 'Ġsimilar', 'Ġcontent', 'Ġ(', 'Figure', 'Ġ1', ')', 'Ġand', 'Ġwhen', 'Ġsampling', 'Ġmultiple', 'Ġcapt', 'ions', 'Ġfor', 'Ġan', 'Ġimage', 'Ġ(', 'see', 'Ġsupplementary', ')', '1', 'Ġ.', 'Ġ1', 'Ġhttps', '://', 'goo', '.', 'gl', '/', '3', 'y', 'R', 'V', 'n', 'q', 'Ġ', 'ĠImage', 'ĠDescription', '.', 'ĠEarly', 'Ġcaption', 'ing', 'Ġmodels', 'Ġrely', 'Ġon', 'Ġfirst', 'Ġrecognizing', 'Ġvisual', 'Ġelements', ',', 'Ġsuch', 'Ġas', 'Ġobjects', ',', 'Ġattributes', ',', 'Ġand', 'Ġactivities', ',', 'Ġand', 'Ġthen', 'Ġgenerating', 'Ġa', 'Ġsentence', 'Ġusing', 'Ġlanguage', 'Ġmodels', 'Ġsuch', 'Ġas', 'Ġa', 'Ġtemplate', 'Ġmodel', 'Ġ[', '13', '],', 'Ġn', '-', 'gram', 'Ġmodel', 'Ġ[', '22', '],', 'Ġor', 'Ġstatistical', 'Ġmachine', 'Ġtranslation', 'Ġ[', '34', '].', 'ĠAdv', 'ances', 'Ġin', 'Ġdeep', 'Ġlearning', 'Ġhave', 'Ġled', 'Ġto', 'Ġend', '-', 'to', '-', 'end', 'Ġtrain', 'able', 'Ġmodels', 'Ġthat', 'Ġcombine', 'Ġdeep', 'Ġconv', 'olution', 'al', 'Ġnetworks', 'Ġto', 'Ġextract', 'Ġvisual', 'Ġfeatures', 'Ġand', 'Ġrecurrent', 'Ġnetworks', 'Ġto', 'Ġgenerate', 'Ġsentences', 'Ġ[', '11', ',', 'Ġ41', ',', 'Ġ21', '].', 'ĠThough', 'Ġmodern', 'Ġdescription', 'Ġmodels', 'Ġare', 'Ġcapable', 'Ġof', 'Ġproducing', 'Ġcoherent', 'Ġsentences', 'Ġwhich', 'Ġaccurately', 'Ġdescribe', 'Ġan', 'Ġimage', ',', 'Ġthey', 'Ġtend', 'Ġto', 'Ġproduce', 'Ġgeneric', 'Ġsentences', 'Ġwhich', 'Ġare', 'Ġreplicated', 'Ġfrom', 'Ġthe', 'Ġtrain', 'Ġset', 'Ġ[', '10', '].', 'ĠFurthermore', ',', 'Ġan', 'Ġimage', 'Ġcan', 'Ġcorrespond', 'Ġto', 'Ġmany', 'Ġvalid', 'Ġdescriptions', '.', 'ĠHowever', ',', 'Ġat', 'Ġtest', 'Ġtime', ',', 'Ġsentences', 'Ġgenerated', 'Ġwith', 'Ġmethods', 'Ġsuch', 'Ġas', 'Ġbeam', 'Ġsearch', 'Ġare', 'Ġgenerally', 'Ġvery', 'Ġsimilar', '.', 'Ġ[', '40', ',', 'Ġ23', ']', 'Ġfocus', 'Ġon', 'Ġincreasing', 'Ġsentence', 'Ġdiversity', 'Ġby', 'Ġintegrating', 'Ġa', 'Ġdiversity', 'Ġpromoting', 'Ġhe', 'uristic', 'Ġinto', 'Ġbeam', 'Ġsearch', '.', 'Ġ[', '42', ']', 'Ġattempts', 'Ġto', 'Ġincrease', 'Ġthe', 'Ġdiversity', 'Ġin', 'Ġcaption', 'Ġgeneration', 'Ġby', 'Ġtraining', 'Ġan', 'Ġensemble', 'Ġof', 'Ġcaption', 'Ġgenerators', 'Ġeach', 'Ġspecializing', 'Ġin', 'Ġdifferent', 'Ġportions', 'Ġof', 'Ġthe', 'Ġtraining', 'Ġset', '.', 'ĠIn', 'Ġcontrast', ',', 'Ġwe', 'Ġfocus', 'Ġon', 'Ġimproving', 'Ġdiversity', 'Ġof', 'Ġgenerated', 'Ġcapt', 'ions', 'Ġusing', 'Ġa', 'Ġsingle', 'Ġmodel', '.', 'ĠOur', 'Ġmethod', 'Ġachieves', 'Ġthis', 'Ġby', 'Ġlearning', 'Ġa', 'Ġcorresponding', 'Ġmodel', 'Ġusing', 'Ġa', 'Ġdifferent', 'Ġtraining', 'Ġloss', 'Ġas', 'Ġopposed', 'Ġto', 'Ġafter', 'Ġtraining', 'Ġhas', 'Ġcompleted', '.', 'ĠWe', 'Ġnote', 'Ġthat', 'Ġgenerating', 'Ġdiverse', 'Ġsentences', 'Ġis', 'Ġalso', 'Ġa', 'Ġchallenge', 'Ġin', 'Ġvisual', 'Ġquestion', 'Ġgeneration', ',', 'Ġsee', 'Ġconcurrent', 'Ġwork', 'Ġ[', '19', '],', 'Ġand', 'Ġin', 'Ġlanguage', '-', 'only', 'Ġdialogue', 'Ġgeneration', 'Ġstudied', 'Ġin', 'Ġthe', 'Ġlinguistic', 'Ġcommunity', ',', 'Ġsee', 'Ġe', '.', 'g', '.', 'Ġ[', '23', ',', 'Ġ24', '].', 'ĠWhen', 'Ġtraining', 'Ġrecurrent', 'Ġdescription', 'Ġmodels', ',', 'Ġthe', 'Ġmost', 'Ġcommon', 'Ġmethod', 'Ġis', 'Ġto', 'Ġpredict', 'Ġa', 'Ġword', 'Ġw', 't', 'Ġconditioned', 'Ġon', 'Ġan', 'Ġimage', 'Ġand', 'Ġall', 'Ġprevious', 'Ġground', 'Ġtruth', 'Ġwords', '.', 'ĠAt', 'Ġtest', 'Ġtime', ',', 'Ġeach', 'Ġword', 'Ġis', 'Ġpredicted', 'Ġconditioned', 'Ġon', 'Ġan', 'Ġimage', 'Ġand', 'Ġpreviously', 'Ġpredicted', 'Ġwords', '.', 'ĠConsequently', ',', 'Ġat', 'Ġtest', 'Ġtime', 'Ġpredicted', 'Ġwords', 'Ġmay', 'Ġbe', 'Ġconditioned', 'Ġon', 'Ġwords', 'Ġthat', 'Ġwere', 'Ġincorrectly', 'Ġpredicted', 'Ġby', 'Ġthe', 'Ġmodel', '.', 'ĠBy', 'Ġonly', 'Ġtraining', 'Ġon', 'Ġground', 'Ġtruth', 'Ġwords', ',', 'Ġthe', 'Ġmodel', 'Ġsuffers', 'Ġfrom', 'Ġexposure', 'Ġbias', 'Ġ[', '31', ']', 'Ġand', 'Ġcannot', 'Ġeffectively', 'Ġlearn', 'Ġto', 'Ġrecover', 'Ġwhen', 'Ġit', 'Ġpredicts', 'Ġan', 'Ġincorrect', 'Ġword', 'Ġduring', 'Ġtraining', '.', 'ĠTo', 'Ġavoid', 'Ġthis', ',', 'Ġ[', '4', ']', 'Ġproposes', 'Ġa', 'Ġscheduled', 'Ġsampling', 'Ġtraining', 'Ġscheme', 'Ġwhich', 'Ġbegins', 'Ġby', 'Ġtraining', 'Ġwith', 'Ġground', 'Ġtruth', 'Ġwords', ',', 'Ġbut', 'Ġthen', 'Ġslowly', 'Ġconditions', 'Ġgenerated', 'Ġwords', 'Ġon', 'Ġwords', 'Ġpreviously', 'Ġproduced', 'Ġby', 'Ġthe', 'Ġmodel', '.', 'ĠHowever', ',', 'Ġ[', '17', ']', 'Ġshows', 'Ġthat', 'Ġthe', 'Ġscheduled', 'Ġsampling', 'Ġalgorithm', 'Ġis', 'Ġinconsistent', 'Ġand', 'Ġthe', 'Ġoptimal', 'Ġsolution', 'Ġunder', 'Ġthis', 'Ġobjective', 'Ġdoes', 'Ġnot', 'Ġconverge', 'Ġto', 'Ġthe', 'Ġtrue', 'Ġdata', 'Ġdistribution', '.', 'ĠTaking', 'Ġa', 'Ġdifferent', 'Ġdirection', ',', 'Ġ[', '31', ']', 'Ġproposes', 'Ġto', 'Ġaddress', 'Ġthe', 'Ġexposure', 'Ġbias', 'Ġby', 'Ġgradually', 'Ġmixing', 'Ġa', 'Ġsequence', 'Ġlevel', 'Ġloss', 'Ġ(', 'BLE', 'U', 'Ġscore', ')', 'Ġusing', 'ĠRE', 'IN', 'FOR', 'CE', 'Ġrule', 'Ġwith', 'Ġthe', 'Ġstandard', 'Ġmaximum', 'Ġlikelihood', 'Ġtraining', '.', 'ĠSeveral', 'Ġother', 'Ġworks', 'Ġhave', 'Ġfollowed', 'Ġthis', 'Ġup', 'Ġwith', 'Ġusing', 'Ġreinforcement', 'Ġlearning', 'Ġbased', 'Ġapproaches', 'Ġto', 'Ġdirectly', 'Ġoptimize', 'Ġthe', 'Ġevaluation', 'Ġmetrics', 'Ġlike', 'ĠB', 'LE', 'U', ',', 'ĠMET', 'E', 'OR', 'Ġand', 'ĠC', 'IDER', 'Ġ[', '33', ',', 'Ġ25', '].', 'ĠHowever', ',', 'Ġoptimizing', 'Ġthe', 'Ġevaluation', 'Ġmetrics', 'Ġdoes', 'Ġnot', 'Ġdirectly', 'Ġaddress', 'Ġthe', 'Ġdiversity', 'Ġof', 'Ġthe', 'Ġ', 'Ġ', 'Č', 'generated', 'Ġcapt', 'ions', '.', 'ĠSince', 'Ġall', 'Ġcurrent', 'Ġevaluation', 'Ġmetrics', 'Ġuse', 'Ġn', '-', 'gram', 'Ġmatching', 'Ġto', 'Ġscore', 'Ġthe', 'Ġcapt', 'ions', ',', 'Ġcapt', 'ions', 'Ġusing', 'Ġmore', 'Ġfrequent', 'Ġn', '-', 'gram', 's', 'Ġare', 'Ġlikely', 'Ġto', 'Ġachieve', 'Ġbetter', 'Ġscores', 'Ġthan', 'Ġones', 'Ġusing', 'Ġrare', 'r', 'Ġand', 'Ġmore', 'Ġdiverse', 'Ġn', '-', 'gram', 's', '.', 'ĠIn', 'Ġthis', 'Ġwork', ',', 'Ġwe', 'Ġformulate', 'Ġour', 'Ġcaption', 'Ġgenerator', 'Ġas', 'Ġa', 'Ġgener', 'ative', 'Ġadvers', 'arial', 'Ġnetwork', '.', 'ĠWe', 'Ġdesign', 'Ġa', 'Ġdiscrim', 'inator', 'Ġthat', 'Ġexplicitly', 'Ġencourages', 'Ġgenerated', 'Ġcapt', 'ions', 'Ġto', 'Ġbe', 'Ġdiverse', 'Ġand', 'Ġindistinguishable', 'Ġfrom', 'Ġhuman', 'Ġcapt', 'ions', '.', 'ĠThe', 'Ġgenerator', 'Ġis', 'Ġtrained', 'Ġwith', 'Ġan', 'Ġadvers', 'arial', 'Ġloss', 'Ġwith', 'Ġthis', 'Ġdiscrim', 'inator', '.', 'ĠConsequently', ',', 'Ġour', 'Ġmodel', 'Ġgenerates', 'Ġcapt', 'ions', 'Ġthat', 'Ġbetter', 'Ġreflect', 'Ġthe', 'Ġway', 'Ġhumans', 'Ġdescribe', 'Ġimages', 'Ġwhile', 'Ġmaintaining', 'Ġsimilar', 'Ġcorrectness', 'Ġas', 'Ġdetermined', 'Ġby', 'Ġa', 'Ġhuman', 'Ġevaluation', '.', 'ĠGener', 'ative', 'ĠAd', 'vers', 'arial', 'ĠNetworks', '.', 'ĠThe', 'ĠGener', 'ative', 'ĠAd', 'vers', 'arial', 'ĠNetworks', 'Ġ(', 'GAN', 's', ')', 'Ġ[', '14', ']', 'Ġframework', 'Ġlearns', 'Ġgener', 'ative', 'Ġmodels', 'Ġwithout', 'Ġexplicitly', 'Ġdefining', 'Ġa', 'Ġloss', 'Ġfrom', 'Ġa', 'Ġtarget', 'Ġdistribution', '.', 'ĠInstead', ',', 'ĠG', 'AN', 's', 'Ġlearn', 'Ġa', 'Ġgenerator', 'Ġusing', 'Ġa', 'Ġloss', 'Ġfrom', 'Ġa', 'Ġdiscrim', 'inator', 'Ġwhich', 'Ġtries', 'Ġto', 'Ġdifferentiate', 'Ġreal', 'Ġand', 'Ġgenerated', 'Ġsamples', ',', 'Ġwhere', 'Ġthe', 'Ġgenerated', 'Ġsamples', 'Ġcome', 'Ġfrom', 'Ġthe', 'Ġgenerator', '.', 'ĠWhen', 'Ġtraining', 'Ġto', 'Ġgenerate', 'Ġreal', 'Ġimages', ',', '</s>']\n"
          ]
        }
      ]
    },
    {
      "cell_type": "markdown",
      "source": [
        "Some heads may be more important than others so we scale each attention matrix by their respective head and layer. The notebook used to get head importance is [here](https://colab.research.google.com/drive/1O4QCi8ewBp7asegKqySRflTQZ9HeH8mQ?usp=sharing)."
      ],
      "metadata": {
        "id": "P-nS_AHa7Hv6"
      },
      "id": "P-nS_AHa7Hv6"
    },
    {
      "cell_type": "code",
      "source": [
        "# head_importance = torch.load(\"/content/drive/MyDrive/cogs402longformer/t3-visapplication/resources/papers/pretrained/head_importance.pt\")\n",
        "head_importance = torch.load(\"/content/drive/MyDrive/cogs402longformer/t3-visapplication/resources/news/head_importance.pt\")"
      ],
      "metadata": {
        "id": "UsAznmcDyBgR"
      },
      "id": "UsAznmcDyBgR",
      "execution_count": 31,
      "outputs": []
    },
    {
      "cell_type": "code",
      "source": [
        "def scale_by_importance(attention_matrix, head_importance):\n",
        "  new_matrix = np.zeros_like(attention_matrix)\n",
        "  for i in range(attention_matrix.shape[0]):\n",
        "    head_importance_layer = head_importance[i]\n",
        "    for j in range(attention_matrix.shape[1]):\n",
        "      new_matrix[i,j] = attention_matrix[i,j] * np.expand_dims(head_importance_layer, axis=(1,2))\n",
        "  return new_matrix"
      ],
      "metadata": {
        "id": "_HFs_vLw0230"
      },
      "id": "_HFs_vLw0230",
      "execution_count": 32,
      "outputs": []
    },
    {
      "cell_type": "code",
      "source": [
        "converted_mat_importance = scale_by_importance(converted_mat, head_importance)"
      ],
      "metadata": {
        "id": "XUcjPfxeHbqT"
      },
      "id": "XUcjPfxeHbqT",
      "execution_count": 33,
      "outputs": []
    },
    {
      "cell_type": "markdown",
      "source": [
        "Get the sum of the attentions for all the tokens (column-wise). In other words, find out how much every word is attended to"
      ],
      "metadata": {
        "id": "u0ViKJAn7Ap0"
      },
      "id": "u0ViKJAn7Ap0"
    },
    {
      "cell_type": "code",
      "source": [
        "attention_matrix_importance = converted_mat_importance.sum(axis=3)\n",
        "print(attention_matrix_importance.shape)"
      ],
      "metadata": {
        "id": "EhMNdupbxFrx",
        "colab": {
          "base_uri": "https://localhost:8080/"
        },
        "outputId": "3f4554ac-09dc-495b-ed01-91663fc60aae"
      },
      "id": "EhMNdupbxFrx",
      "execution_count": 34,
      "outputs": [
        {
          "output_type": "stream",
          "name": "stdout",
          "text": [
            "(12, 1, 12, 2048)\n"
          ]
        }
      ]
    },
    {
      "cell_type": "markdown",
      "source": [
        "## Visualizing the Attention"
      ],
      "metadata": {
        "id": "BvnR9GJi13oP"
      },
      "id": "BvnR9GJi13oP"
    },
    {
      "cell_type": "markdown",
      "source": [
        "A dataframe is good for picking out information from the example, but it isn't the best being a easy to read visualization. Its easier to see how much each word is attended to in an example if we have the actual example, with the words highlighted based on the magnitude of attention.\n",
        "\n",
        "We use https://github.com/jiesutd/Text-Attention-Heatmap-Visualization to show how much each token in the example is attended to, up to the max number of tokens we specified earlier.\n",
        "\n",
        "In short, these functions iterate over the list of attentions and tokens, cleans the tokens to remove special characters, and normalizes the data if you wish for it to."
      ],
      "metadata": {
        "id": "DjTu0_guLI1T"
      },
      "id": "DjTu0_guLI1T"
    },
    {
      "cell_type": "code",
      "source": [
        "## convert the text/attention list to latex code, which will further generates the text heatmap based on attention weights.\n",
        "import numpy as np\n",
        "\n",
        "latex_special_token = [\"!@#$%^&*(){}\"]\n",
        "\n",
        "def generate(text_list, attention_list, latex_file, color='red', rescale_value = True):\n",
        "\tassert(len(text_list) == len(attention_list))\n",
        "\tif rescale_value:\n",
        "\t\tattention_list = rescale(attention_list)\n",
        "\tword_num = len(text_list)\n",
        "\ttext_list = clean_word(text_list)\n",
        "\twith open(latex_file,'w') as f:\n",
        "\t\tf.write(r'''\\documentclass[varwidth]{standalone}\n",
        "\\special{papersize=210mm,297mm}\n",
        "\\usepackage{color}\n",
        "\\usepackage{tcolorbox}\n",
        "\\usepackage{CJK}\n",
        "\\usepackage{adjustbox}\n",
        "\\tcbset{width=0.9\\textwidth,boxrule=0pt,colback=red,arc=0pt,auto outer arc,left=0pt,right=0pt,boxsep=5pt}\n",
        "\\begin{document}\n",
        "\\begin{CJK*}{UTF8}{gbsn}'''+'\\n')\n",
        "\t\tstring = r'''{\\setlength{\\fboxsep}{0pt}\\colorbox{white!0}{\\parbox{0.9\\textwidth}{'''+\"\\n\"\n",
        "\t\tfor idx in range(word_num):\n",
        "\t\t\tstring += \"\\\\colorbox{%s!%s}{\"%(color, attention_list[idx])+\"\\\\strut \" + text_list[idx]+\"} \"\n",
        "\t\tstring += \"\\n}}}\"\n",
        "\t\tf.write(string+'\\n')\n",
        "\t\tf.write(r'''\\end{CJK*}\n",
        "\\end{document}''')\n",
        "\n",
        "def rescale(input_list):\n",
        "\tthe_array = np.asarray(input_list)\n",
        "\tthe_max = np.max(the_array)\n",
        "\tthe_min = np.min(the_array)\n",
        "\trescale = ((the_array - the_min)/(the_max-the_min))*100\n",
        "\treturn rescale.tolist()\n",
        "\n",
        "\n",
        "def clean_word(word_list):\n",
        "\tnew_word_list = []\n",
        "\tfor word in word_list:\n",
        "\t\tfor special_sensitive in [\"\\\\\", \"^\"]:\n",
        "\t\t\tif special_sensitive in word:\n",
        "\t\t\t\tword = word.replace(special_sensitive, '')\n",
        "\t\tfor latex_sensitive in [\"%\", \"&\", \"#\", \"_\",  \"{\", \"}\"]:\n",
        "\t\t\tif latex_sensitive in word:\n",
        "\t\t\t\tword = word.replace(latex_sensitive, '\\\\' +latex_sensitive)\n",
        "\t\tnew_word_list.append(word)\n",
        "\treturn new_word_list"
      ],
      "metadata": {
        "id": "FCsAm5i3jmKA"
      },
      "id": "FCsAm5i3jmKA",
      "execution_count": 35,
      "outputs": []
    },
    {
      "cell_type": "markdown",
      "source": [
        "Here, we sum get the attentions over all layers and heads."
      ],
      "metadata": {
        "id": "chtfdhR_LmE2"
      },
      "id": "chtfdhR_LmE2"
    },
    {
      "cell_type": "code",
      "source": [
        "average_attention = attention_matrix_importance.squeeze().sum(axis=1)\n",
        "average_attention = average_attention.sum(axis=0)\n",
        "print(average_attention)"
      ],
      "metadata": {
        "id": "goaO9arYjopz",
        "colab": {
          "base_uri": "https://localhost:8080/"
        },
        "outputId": "672114c1-54c8-442f-c765-09d7c00c7337"
      },
      "id": "goaO9arYjopz",
      "execution_count": 36,
      "outputs": [
        {
          "output_type": "stream",
          "name": "stdout",
          "text": [
            "[604.9671      6.2070427   2.2286723 ...   2.5912647   2.3770938\n",
            "   3.018391 ]\n"
          ]
        }
      ]
    },
    {
      "cell_type": "markdown",
      "source": [
        "We call the main function above. It takes in a list of tokens, a list of attentions, a title, and a colour. Please change \"papers\" to whatever your project requires."
      ],
      "metadata": {
        "id": "Hzic3AuULynV"
      },
      "id": "Hzic3AuULynV"
    },
    {
      "cell_type": "code",
      "source": [
        "title_all = f\"papers_{test_val[0]}.tex\"\n",
        "generate(all_tokens, average_attention, title_all, 'red')"
      ],
      "metadata": {
        "id": "htPtu7kErWfN"
      },
      "id": "htPtu7kErWfN",
      "execution_count": 37,
      "outputs": []
    },
    {
      "cell_type": "markdown",
      "source": [
        "Lets suppose you don't want to find out the attentions over all layers, but just one layer. You can do that by doing one less summation and instead picking out the layer you want immediately. Here we are picking out the last layer."
      ],
      "metadata": {
        "id": "TCKn9M3ILsEh"
      },
      "id": "TCKn9M3ILsEh"
    },
    {
      "cell_type": "code",
      "source": [
        "print(attention_matrix_importance[11].squeeze().shape)\n",
        "average_attention_final_layer = attention_matrix_importance[11].squeeze().sum(axis=0)\n",
        "print(average_attention_final_layer)\n",
        "\n",
        "# mean_12 = np.median(average_attention_final_layer)\n",
        "# average_attention_final_layer[average_attention_final_layer < mean_12] = 0\n",
        "# print(average_attention_final_layer)"
      ],
      "metadata": {
        "id": "GaM018NVunZH",
        "colab": {
          "base_uri": "https://localhost:8080/"
        },
        "outputId": "492c952d-5d03-4141-8440-9ec5746c4f95"
      },
      "id": "GaM018NVunZH",
      "execution_count": 38,
      "outputs": [
        {
          "output_type": "stream",
          "name": "stdout",
          "text": [
            "(12, 2048)\n",
            "[0.30879778 0.10836545 0.05027822 ... 0.09086546 0.03899628 0.03265005]\n"
          ]
        }
      ]
    },
    {
      "cell_type": "markdown",
      "source": [
        "We call the main function above. Please change \"papers\" to whatever your project requires."
      ],
      "metadata": {
        "id": "Cq8g9U_RML8Y"
      },
      "id": "Cq8g9U_RML8Y"
    },
    {
      "cell_type": "code",
      "source": [
        "title_last_layer = f\"papers_{test_val[0]}_layer_12_only.tex\"\n",
        "generate(all_tokens, average_attention_final_layer, title_last_layer, 'red')"
      ],
      "metadata": {
        "id": "fSl21NvVyW-n"
      },
      "id": "fSl21NvVyW-n",
      "execution_count": 43,
      "outputs": []
    },
    {
      "cell_type": "markdown",
      "source": [
        "Of course, you can experiment with which layers, or heads you want to visualize the attentions for based on what you desire from your own project."
      ],
      "metadata": {
        "id": "46NQc1FGMTf6"
      },
      "id": "46NQc1FGMTf6"
    },
    {
      "cell_type": "markdown",
      "source": [
        "## Masked Attention\n",
        "\n",
        "Lets suppose we want to look at the attention heatmap without the stopwords and punctuations"
      ],
      "metadata": {
        "id": "8x5OJe-NVZ4x"
      },
      "id": "8x5OJe-NVZ4x"
    },
    {
      "cell_type": "markdown",
      "source": [
        "We get the list of stopwords from nltk and tokenize them so they match with our list of \"tokenized\" tokens. "
      ],
      "metadata": {
        "id": "CZo1iiYfVj0y"
      },
      "id": "CZo1iiYfVj0y"
    },
    {
      "cell_type": "code",
      "source": [
        "import nltk\n",
        "from transformers import AutoTokenizer\n",
        "nltk.download('stopwords')\n",
        "tokenizer2 = AutoTokenizer.from_pretrained('allenai/longformer-base-4096', add_prefix_space=True)"
      ],
      "metadata": {
        "colab": {
          "base_uri": "https://localhost:8080/"
        },
        "id": "hiFZX4ShyRkv",
        "outputId": "5759dbd7-7e6b-4c6a-acd5-18b42732a5b5"
      },
      "id": "hiFZX4ShyRkv",
      "execution_count": 40,
      "outputs": [
        {
          "output_type": "stream",
          "name": "stderr",
          "text": [
            "[nltk_data] Downloading package stopwords to /root/nltk_data...\n",
            "[nltk_data]   Unzipping corpora/stopwords.zip.\n"
          ]
        }
      ]
    },
    {
      "cell_type": "code",
      "source": [
        "from nltk.corpus import stopwords\n",
        "all_stopwords = stopwords.words('english')\n",
        "all_stopwords.append(\" \")\n",
        "stopwords = set(tokenizer2.tokenize(all_stopwords, is_split_into_words =True))\n",
        "stopwords.update(all_stopwords)\n",
        "print(stopwords)"
      ],
      "metadata": {
        "colab": {
          "base_uri": "https://localhost:8080/"
        },
        "id": "YSp0bf1ZyTn8",
        "outputId": "3f0a9a5f-ecf2-4365-833d-d1e5f02b32c3"
      },
      "id": "YSp0bf1ZyTn8",
      "execution_count": 41,
      "outputs": [
        {
          "output_type": "stream",
          "name": "stdout",
          "text": [
            "{'Ġthe', \"'ve\", 'Ġthemselves', 'Ġi', 's', 'just', 'its', 'to', 'Ġthrough', 'Ġdoes', 'Ġbelow', 'Ġshe', 'such', 'so', 'the', 'Ġbut', 'weren', 'through', 'if', \"weren't\", 'where', 'Ġfurther', 'Ġcouldn', 'Ġher', 'am', 'had', 'Ġwas', 'Ġof', \"you'd\", 'been', 'by', 'Ġinto', \"she's\", 'Ġin', 'Ġafter', 'now', 'down', 'for', 'Ġisn', 'Ġits', \"isn't\", 'Ġagainst', 'Ġshould', 'Ġdid', 'very', \"haven't\", 'Ġmight', 'his', 'Ġthey', 'Ġan', 'we', 'as', 'and', 'further', 'in', 'Ġwhy', \"needn't\", 'Ġhas', \"you're\", 've', \"shan't\", 'you', 'then', 'about', 'until', 'there', 'ours', \"'re\", 'Ġthen', \"wouldn't\", 'Ġas', 'below', 'same', 'Ġso', 'Ġonce', 'needn', 'that', 'having', 'Ġam', \"hasn't\", \"'ll\", 'most', 'than', 'Ġour', 'Ġre', 'Ġis', 'himself', 'Ġhad', 'Ġboth', 'Ġll', 'aren', 'Ġthose', 'only', 'Ġbecause', 'Ġabove', 'Ġthem', 'Ġaren', 'be', 'are', 'Ġyourself', 'Ġor', 'Ġhaving', 'from', 'which', 'd', 'Ġhim', 'Ġother', 'Ġfrom', 'Ġhere', 'few', 'Ġjust', 'Ġeach', 'Ġwhat', 'it', 'Ġfew', \"shouldn't\", 'Ġve', 'were', 'Ġwere', 'have', 'ma', 'Ġitself', 'Ġshouldn', 'Ġthat', 'mightn', 'a', 'Ġyourselves', 'those', 'doing', 'off', 'Ġmy', 'them', 'own', 'Ġo', 'do', 'under', 'Ġwon', 'me', 'haven', 'both', \"mightn't\", 'will', \"aren't\", 'nor', 'Ġare', \"it's\", 'over', 'is', 'Ġyours', 'out', \"didn't\", 'Ġhadn', 'i', \"should've\", 'or', 'Ġwhen', 'Ġdoesn', 'm', 'Ġmust', 'Ġthan', 'all', 'Ġourselves', 'theirs', 'Ġup', 'Ġthis', 'being', 'itself', 'Ġout', 'Ġwouldn', 'Ġno', 'Ġsame', 'Ġhaven', 'above', 'Ġme', 'against', 'an', 'Ġyour', 'here', 'him', 'more', 'Ġma', 'Ġall', \"mustn't\", 'between', 'Ġweren', 'didn', 'Ġif', 'hers', 'their', 'does', 'Ġtheirs', 'too', 'Ġbefore', \"you've\", 'no', 'Ġyou', 'once', 'after', 'Ġtheir', 'Ġon', 'this', 'was', 'Ġd', 'Ġvery', 'Ġat', 'Ġany', 'Ġhow', 'ourselves', 'again', 'Ġdown', 'll', 'Ġoff', 'she', 'don', 'into', 'Ġby', 'can', 'Ġwe', 'some', 'yourselves', 'Ġherself', 'Ġfor', 'Ġwhile', 'Ġdon', 'Ġhe', \"couldn't\", 'Ġsh', 'our', 'Ġmyself', 'he', 'themselves', 'Ġm', 'Ġhasn', 'o', 'won', 'before', 'Ġwith', 'Ġuntil', 'Ġsome', 'Ġt', 'Ġduring', 'myself', 'Ġwill', 'Ġdo', 'Ġdoing', 'how', \"you'll\", 'Ġtoo', \"'s\", 'up', \"wasn't\", 'ain', 'Ġhave', 'Ġunder', 'Ġagain', 'Ġto', \"that'll\", 'Ġy', 'while', \"'t\", 'Ġs', 'Ġthese', 'during', 'they', 'did', 'Ġcan', ' ', 'Ġover', 'at', 'other', 'Ġown', 'Ġwasn', 'herself', 'Ġnot', 'these', 'my', 'Ġnow', 'Ġthere', 'any', \"hadn't\", 'because', 'when', 'Ġand', 'Ġwho', \"doesn't\", 'with', 'Ġbetween', 'what', \"'d\", 'should', 'Ġnor', 'Ġbe', 'shan', \"don't\", 'Ġit', 'couldn', 'Ġmost', 'Ġbeing', 'Ġneed', 'her', 'who', 'yours', 're', 'why', 'Ġain', 'Ġa', 'mustn', 'Ġ', 'has', 'yourself', 'shouldn', 'doesn', 'isn', 'Ġwhere', 'Ġhis', 'your', 'on', 'Ġwhich', 'Ġhers', 'of', 'whom', 'n', 'wouldn', 'each', 'Ġours', 'Ġsuch', 'Ġdidn', 'Ġonly', 'Ġbeen', 'Ġmore', \"won't\", 'but', 'hadn', 'Ġabout', 'hasn', 't', 'Ġwhom', 'wasn', 'Ġhimself', 'y', 'not'}\n"
          ]
        }
      ]
    },
    {
      "cell_type": "markdown",
      "source": [
        "We apply the mask over the summed attention by creating a mask where all words that are a stopword or non-alpha are set to 0. "
      ],
      "metadata": {
        "id": "wEfwtSKcVtjw"
      },
      "id": "wEfwtSKcVtjw"
    },
    {
      "cell_type": "code",
      "source": [
        "alpha_neumeric_nums = [idx for idx, element in enumerate(all_tokens) if element.isalpha() if element not in stopwords]\n",
        "mask = np.ones(average_attention_final_layer.shape,dtype=bool) \n",
        "mask[alpha_neumeric_nums] = False\n",
        "\n",
        "average_attention_final_layer[mask] = 0"
      ],
      "metadata": {
        "id": "Kq7809nZyrc1"
      },
      "id": "Kq7809nZyrc1",
      "execution_count": 42,
      "outputs": []
    },
    {
      "cell_type": "markdown",
      "source": [
        "Remake the heatmap using our masked attention."
      ],
      "metadata": {
        "id": "4pG_hAgpWJCw"
      },
      "id": "4pG_hAgpWJCw"
    },
    {
      "cell_type": "code",
      "source": [
        "title_all = f\"papers_{test_val[0]}_masked.tex\"\n",
        "generate(all_tokens, average_attention, title_all, 'red')"
      ],
      "metadata": {
        "id": "QO8GQ0TWWIe-"
      },
      "id": "QO8GQ0TWWIe-",
      "execution_count": null,
      "outputs": []
    }
  ],
  "metadata": {
    "kernelspec": {
      "display_name": "Python 3",
      "name": "python3"
    },
    "language_info": {
      "name": "python"
    },
    "colab": {
      "name": "Token_attention_with_head_importance_pdf.ipynb",
      "provenance": [],
      "collapsed_sections": [],
      "machine_shape": "hm",
      "toc_visible": true,
      "include_colab_link": true
    },
    "accelerator": "GPU",
    "gpuClass": "standard",
    "widgets": {
      "application/vnd.jupyter.widget-state+json": {
        "e2fb071728f04efa94437bcd7a0b05a2": {
          "model_module": "@jupyter-widgets/controls",
          "model_name": "HBoxModel",
          "model_module_version": "1.5.0",
          "state": {
            "_dom_classes": [],
            "_model_module": "@jupyter-widgets/controls",
            "_model_module_version": "1.5.0",
            "_model_name": "HBoxModel",
            "_view_count": null,
            "_view_module": "@jupyter-widgets/controls",
            "_view_module_version": "1.5.0",
            "_view_name": "HBoxView",
            "box_style": "",
            "children": [
              "IPY_MODEL_edd60f81f1004d88aecae8465d91f540",
              "IPY_MODEL_5f5fce960c294b888407bb70e1a8c2e2",
              "IPY_MODEL_dd9febd4cafe4a91a771906c849c836c"
            ],
            "layout": "IPY_MODEL_965d499fe2e44302a773ffe3bba3ffaf"
          }
        },
        "edd60f81f1004d88aecae8465d91f540": {
          "model_module": "@jupyter-widgets/controls",
          "model_name": "HTMLModel",
          "model_module_version": "1.5.0",
          "state": {
            "_dom_classes": [],
            "_model_module": "@jupyter-widgets/controls",
            "_model_module_version": "1.5.0",
            "_model_name": "HTMLModel",
            "_view_count": null,
            "_view_module": "@jupyter-widgets/controls",
            "_view_module_version": "1.5.0",
            "_view_name": "HTMLView",
            "description": "",
            "description_tooltip": null,
            "layout": "IPY_MODEL_2e41917a46d64e5697f1d88b4ee9f5e7",
            "placeholder": "​",
            "style": "IPY_MODEL_7aab807cfe544f25aee36dccf8060654",
            "value": "Downloading config.json: 100%"
          }
        },
        "5f5fce960c294b888407bb70e1a8c2e2": {
          "model_module": "@jupyter-widgets/controls",
          "model_name": "FloatProgressModel",
          "model_module_version": "1.5.0",
          "state": {
            "_dom_classes": [],
            "_model_module": "@jupyter-widgets/controls",
            "_model_module_version": "1.5.0",
            "_model_name": "FloatProgressModel",
            "_view_count": null,
            "_view_module": "@jupyter-widgets/controls",
            "_view_module_version": "1.5.0",
            "_view_name": "ProgressView",
            "bar_style": "success",
            "description": "",
            "description_tooltip": null,
            "layout": "IPY_MODEL_6f02f82b06864c4a8e2d68a49339d1ce",
            "max": 694,
            "min": 0,
            "orientation": "horizontal",
            "style": "IPY_MODEL_441b4b2497c84d189c8e8e33ec488d7f",
            "value": 694
          }
        },
        "dd9febd4cafe4a91a771906c849c836c": {
          "model_module": "@jupyter-widgets/controls",
          "model_name": "HTMLModel",
          "model_module_version": "1.5.0",
          "state": {
            "_dom_classes": [],
            "_model_module": "@jupyter-widgets/controls",
            "_model_module_version": "1.5.0",
            "_model_name": "HTMLModel",
            "_view_count": null,
            "_view_module": "@jupyter-widgets/controls",
            "_view_module_version": "1.5.0",
            "_view_name": "HTMLView",
            "description": "",
            "description_tooltip": null,
            "layout": "IPY_MODEL_46b21d8fb9124b96ab6b57b2ed90888e",
            "placeholder": "​",
            "style": "IPY_MODEL_500faf224be046c0937fb0cd2e9ceba4",
            "value": " 694/694 [00:00&lt;00:00, 22.6kB/s]"
          }
        },
        "965d499fe2e44302a773ffe3bba3ffaf": {
          "model_module": "@jupyter-widgets/base",
          "model_name": "LayoutModel",
          "model_module_version": "1.2.0",
          "state": {
            "_model_module": "@jupyter-widgets/base",
            "_model_module_version": "1.2.0",
            "_model_name": "LayoutModel",
            "_view_count": null,
            "_view_module": "@jupyter-widgets/base",
            "_view_module_version": "1.2.0",
            "_view_name": "LayoutView",
            "align_content": null,
            "align_items": null,
            "align_self": null,
            "border": null,
            "bottom": null,
            "display": null,
            "flex": null,
            "flex_flow": null,
            "grid_area": null,
            "grid_auto_columns": null,
            "grid_auto_flow": null,
            "grid_auto_rows": null,
            "grid_column": null,
            "grid_gap": null,
            "grid_row": null,
            "grid_template_areas": null,
            "grid_template_columns": null,
            "grid_template_rows": null,
            "height": null,
            "justify_content": null,
            "justify_items": null,
            "left": null,
            "margin": null,
            "max_height": null,
            "max_width": null,
            "min_height": null,
            "min_width": null,
            "object_fit": null,
            "object_position": null,
            "order": null,
            "overflow": null,
            "overflow_x": null,
            "overflow_y": null,
            "padding": null,
            "right": null,
            "top": null,
            "visibility": null,
            "width": null
          }
        },
        "2e41917a46d64e5697f1d88b4ee9f5e7": {
          "model_module": "@jupyter-widgets/base",
          "model_name": "LayoutModel",
          "model_module_version": "1.2.0",
          "state": {
            "_model_module": "@jupyter-widgets/base",
            "_model_module_version": "1.2.0",
            "_model_name": "LayoutModel",
            "_view_count": null,
            "_view_module": "@jupyter-widgets/base",
            "_view_module_version": "1.2.0",
            "_view_name": "LayoutView",
            "align_content": null,
            "align_items": null,
            "align_self": null,
            "border": null,
            "bottom": null,
            "display": null,
            "flex": null,
            "flex_flow": null,
            "grid_area": null,
            "grid_auto_columns": null,
            "grid_auto_flow": null,
            "grid_auto_rows": null,
            "grid_column": null,
            "grid_gap": null,
            "grid_row": null,
            "grid_template_areas": null,
            "grid_template_columns": null,
            "grid_template_rows": null,
            "height": null,
            "justify_content": null,
            "justify_items": null,
            "left": null,
            "margin": null,
            "max_height": null,
            "max_width": null,
            "min_height": null,
            "min_width": null,
            "object_fit": null,
            "object_position": null,
            "order": null,
            "overflow": null,
            "overflow_x": null,
            "overflow_y": null,
            "padding": null,
            "right": null,
            "top": null,
            "visibility": null,
            "width": null
          }
        },
        "7aab807cfe544f25aee36dccf8060654": {
          "model_module": "@jupyter-widgets/controls",
          "model_name": "DescriptionStyleModel",
          "model_module_version": "1.5.0",
          "state": {
            "_model_module": "@jupyter-widgets/controls",
            "_model_module_version": "1.5.0",
            "_model_name": "DescriptionStyleModel",
            "_view_count": null,
            "_view_module": "@jupyter-widgets/base",
            "_view_module_version": "1.2.0",
            "_view_name": "StyleView",
            "description_width": ""
          }
        },
        "6f02f82b06864c4a8e2d68a49339d1ce": {
          "model_module": "@jupyter-widgets/base",
          "model_name": "LayoutModel",
          "model_module_version": "1.2.0",
          "state": {
            "_model_module": "@jupyter-widgets/base",
            "_model_module_version": "1.2.0",
            "_model_name": "LayoutModel",
            "_view_count": null,
            "_view_module": "@jupyter-widgets/base",
            "_view_module_version": "1.2.0",
            "_view_name": "LayoutView",
            "align_content": null,
            "align_items": null,
            "align_self": null,
            "border": null,
            "bottom": null,
            "display": null,
            "flex": null,
            "flex_flow": null,
            "grid_area": null,
            "grid_auto_columns": null,
            "grid_auto_flow": null,
            "grid_auto_rows": null,
            "grid_column": null,
            "grid_gap": null,
            "grid_row": null,
            "grid_template_areas": null,
            "grid_template_columns": null,
            "grid_template_rows": null,
            "height": null,
            "justify_content": null,
            "justify_items": null,
            "left": null,
            "margin": null,
            "max_height": null,
            "max_width": null,
            "min_height": null,
            "min_width": null,
            "object_fit": null,
            "object_position": null,
            "order": null,
            "overflow": null,
            "overflow_x": null,
            "overflow_y": null,
            "padding": null,
            "right": null,
            "top": null,
            "visibility": null,
            "width": null
          }
        },
        "441b4b2497c84d189c8e8e33ec488d7f": {
          "model_module": "@jupyter-widgets/controls",
          "model_name": "ProgressStyleModel",
          "model_module_version": "1.5.0",
          "state": {
            "_model_module": "@jupyter-widgets/controls",
            "_model_module_version": "1.5.0",
            "_model_name": "ProgressStyleModel",
            "_view_count": null,
            "_view_module": "@jupyter-widgets/base",
            "_view_module_version": "1.2.0",
            "_view_name": "StyleView",
            "bar_color": null,
            "description_width": ""
          }
        },
        "46b21d8fb9124b96ab6b57b2ed90888e": {
          "model_module": "@jupyter-widgets/base",
          "model_name": "LayoutModel",
          "model_module_version": "1.2.0",
          "state": {
            "_model_module": "@jupyter-widgets/base",
            "_model_module_version": "1.2.0",
            "_model_name": "LayoutModel",
            "_view_count": null,
            "_view_module": "@jupyter-widgets/base",
            "_view_module_version": "1.2.0",
            "_view_name": "LayoutView",
            "align_content": null,
            "align_items": null,
            "align_self": null,
            "border": null,
            "bottom": null,
            "display": null,
            "flex": null,
            "flex_flow": null,
            "grid_area": null,
            "grid_auto_columns": null,
            "grid_auto_flow": null,
            "grid_auto_rows": null,
            "grid_column": null,
            "grid_gap": null,
            "grid_row": null,
            "grid_template_areas": null,
            "grid_template_columns": null,
            "grid_template_rows": null,
            "height": null,
            "justify_content": null,
            "justify_items": null,
            "left": null,
            "margin": null,
            "max_height": null,
            "max_width": null,
            "min_height": null,
            "min_width": null,
            "object_fit": null,
            "object_position": null,
            "order": null,
            "overflow": null,
            "overflow_x": null,
            "overflow_y": null,
            "padding": null,
            "right": null,
            "top": null,
            "visibility": null,
            "width": null
          }
        },
        "500faf224be046c0937fb0cd2e9ceba4": {
          "model_module": "@jupyter-widgets/controls",
          "model_name": "DescriptionStyleModel",
          "model_module_version": "1.5.0",
          "state": {
            "_model_module": "@jupyter-widgets/controls",
            "_model_module_version": "1.5.0",
            "_model_name": "DescriptionStyleModel",
            "_view_count": null,
            "_view_module": "@jupyter-widgets/base",
            "_view_module_version": "1.2.0",
            "_view_name": "StyleView",
            "description_width": ""
          }
        },
        "e44e88a2aa9947cca17c54a8b899d0ae": {
          "model_module": "@jupyter-widgets/controls",
          "model_name": "HBoxModel",
          "model_module_version": "1.5.0",
          "state": {
            "_dom_classes": [],
            "_model_module": "@jupyter-widgets/controls",
            "_model_module_version": "1.5.0",
            "_model_name": "HBoxModel",
            "_view_count": null,
            "_view_module": "@jupyter-widgets/controls",
            "_view_module_version": "1.5.0",
            "_view_name": "HBoxView",
            "box_style": "",
            "children": [
              "IPY_MODEL_980db1001a534fae8575f5879596ed2f",
              "IPY_MODEL_624172e467bc4a3080da9f1ca859b707",
              "IPY_MODEL_c002dc35b56b4a6f88a02ae633afd04c"
            ],
            "layout": "IPY_MODEL_c61b6e501863486d8ea1c566d0322677"
          }
        },
        "980db1001a534fae8575f5879596ed2f": {
          "model_module": "@jupyter-widgets/controls",
          "model_name": "HTMLModel",
          "model_module_version": "1.5.0",
          "state": {
            "_dom_classes": [],
            "_model_module": "@jupyter-widgets/controls",
            "_model_module_version": "1.5.0",
            "_model_name": "HTMLModel",
            "_view_count": null,
            "_view_module": "@jupyter-widgets/controls",
            "_view_module_version": "1.5.0",
            "_view_name": "HTMLView",
            "description": "",
            "description_tooltip": null,
            "layout": "IPY_MODEL_ec4881b911874a35a57dacb1bd989b5a",
            "placeholder": "​",
            "style": "IPY_MODEL_4a091101880d4df5b5f268ca8d21e8b4",
            "value": "Downloading vocab.json: 100%"
          }
        },
        "624172e467bc4a3080da9f1ca859b707": {
          "model_module": "@jupyter-widgets/controls",
          "model_name": "FloatProgressModel",
          "model_module_version": "1.5.0",
          "state": {
            "_dom_classes": [],
            "_model_module": "@jupyter-widgets/controls",
            "_model_module_version": "1.5.0",
            "_model_name": "FloatProgressModel",
            "_view_count": null,
            "_view_module": "@jupyter-widgets/controls",
            "_view_module_version": "1.5.0",
            "_view_name": "ProgressView",
            "bar_style": "success",
            "description": "",
            "description_tooltip": null,
            "layout": "IPY_MODEL_c121727535f6453ba5b29468bc12a587",
            "max": 898823,
            "min": 0,
            "orientation": "horizontal",
            "style": "IPY_MODEL_b87a6f46c5604c32a6cbe44de2dc50a9",
            "value": 898823
          }
        },
        "c002dc35b56b4a6f88a02ae633afd04c": {
          "model_module": "@jupyter-widgets/controls",
          "model_name": "HTMLModel",
          "model_module_version": "1.5.0",
          "state": {
            "_dom_classes": [],
            "_model_module": "@jupyter-widgets/controls",
            "_model_module_version": "1.5.0",
            "_model_name": "HTMLModel",
            "_view_count": null,
            "_view_module": "@jupyter-widgets/controls",
            "_view_module_version": "1.5.0",
            "_view_name": "HTMLView",
            "description": "",
            "description_tooltip": null,
            "layout": "IPY_MODEL_e4f648c0c65c4b658ffac0d75559e8a7",
            "placeholder": "​",
            "style": "IPY_MODEL_f3692dfae7084d78b516a0dbdd1f4a65",
            "value": " 878k/878k [00:00&lt;00:00, 938kB/s]"
          }
        },
        "c61b6e501863486d8ea1c566d0322677": {
          "model_module": "@jupyter-widgets/base",
          "model_name": "LayoutModel",
          "model_module_version": "1.2.0",
          "state": {
            "_model_module": "@jupyter-widgets/base",
            "_model_module_version": "1.2.0",
            "_model_name": "LayoutModel",
            "_view_count": null,
            "_view_module": "@jupyter-widgets/base",
            "_view_module_version": "1.2.0",
            "_view_name": "LayoutView",
            "align_content": null,
            "align_items": null,
            "align_self": null,
            "border": null,
            "bottom": null,
            "display": null,
            "flex": null,
            "flex_flow": null,
            "grid_area": null,
            "grid_auto_columns": null,
            "grid_auto_flow": null,
            "grid_auto_rows": null,
            "grid_column": null,
            "grid_gap": null,
            "grid_row": null,
            "grid_template_areas": null,
            "grid_template_columns": null,
            "grid_template_rows": null,
            "height": null,
            "justify_content": null,
            "justify_items": null,
            "left": null,
            "margin": null,
            "max_height": null,
            "max_width": null,
            "min_height": null,
            "min_width": null,
            "object_fit": null,
            "object_position": null,
            "order": null,
            "overflow": null,
            "overflow_x": null,
            "overflow_y": null,
            "padding": null,
            "right": null,
            "top": null,
            "visibility": null,
            "width": null
          }
        },
        "ec4881b911874a35a57dacb1bd989b5a": {
          "model_module": "@jupyter-widgets/base",
          "model_name": "LayoutModel",
          "model_module_version": "1.2.0",
          "state": {
            "_model_module": "@jupyter-widgets/base",
            "_model_module_version": "1.2.0",
            "_model_name": "LayoutModel",
            "_view_count": null,
            "_view_module": "@jupyter-widgets/base",
            "_view_module_version": "1.2.0",
            "_view_name": "LayoutView",
            "align_content": null,
            "align_items": null,
            "align_self": null,
            "border": null,
            "bottom": null,
            "display": null,
            "flex": null,
            "flex_flow": null,
            "grid_area": null,
            "grid_auto_columns": null,
            "grid_auto_flow": null,
            "grid_auto_rows": null,
            "grid_column": null,
            "grid_gap": null,
            "grid_row": null,
            "grid_template_areas": null,
            "grid_template_columns": null,
            "grid_template_rows": null,
            "height": null,
            "justify_content": null,
            "justify_items": null,
            "left": null,
            "margin": null,
            "max_height": null,
            "max_width": null,
            "min_height": null,
            "min_width": null,
            "object_fit": null,
            "object_position": null,
            "order": null,
            "overflow": null,
            "overflow_x": null,
            "overflow_y": null,
            "padding": null,
            "right": null,
            "top": null,
            "visibility": null,
            "width": null
          }
        },
        "4a091101880d4df5b5f268ca8d21e8b4": {
          "model_module": "@jupyter-widgets/controls",
          "model_name": "DescriptionStyleModel",
          "model_module_version": "1.5.0",
          "state": {
            "_model_module": "@jupyter-widgets/controls",
            "_model_module_version": "1.5.0",
            "_model_name": "DescriptionStyleModel",
            "_view_count": null,
            "_view_module": "@jupyter-widgets/base",
            "_view_module_version": "1.2.0",
            "_view_name": "StyleView",
            "description_width": ""
          }
        },
        "c121727535f6453ba5b29468bc12a587": {
          "model_module": "@jupyter-widgets/base",
          "model_name": "LayoutModel",
          "model_module_version": "1.2.0",
          "state": {
            "_model_module": "@jupyter-widgets/base",
            "_model_module_version": "1.2.0",
            "_model_name": "LayoutModel",
            "_view_count": null,
            "_view_module": "@jupyter-widgets/base",
            "_view_module_version": "1.2.0",
            "_view_name": "LayoutView",
            "align_content": null,
            "align_items": null,
            "align_self": null,
            "border": null,
            "bottom": null,
            "display": null,
            "flex": null,
            "flex_flow": null,
            "grid_area": null,
            "grid_auto_columns": null,
            "grid_auto_flow": null,
            "grid_auto_rows": null,
            "grid_column": null,
            "grid_gap": null,
            "grid_row": null,
            "grid_template_areas": null,
            "grid_template_columns": null,
            "grid_template_rows": null,
            "height": null,
            "justify_content": null,
            "justify_items": null,
            "left": null,
            "margin": null,
            "max_height": null,
            "max_width": null,
            "min_height": null,
            "min_width": null,
            "object_fit": null,
            "object_position": null,
            "order": null,
            "overflow": null,
            "overflow_x": null,
            "overflow_y": null,
            "padding": null,
            "right": null,
            "top": null,
            "visibility": null,
            "width": null
          }
        },
        "b87a6f46c5604c32a6cbe44de2dc50a9": {
          "model_module": "@jupyter-widgets/controls",
          "model_name": "ProgressStyleModel",
          "model_module_version": "1.5.0",
          "state": {
            "_model_module": "@jupyter-widgets/controls",
            "_model_module_version": "1.5.0",
            "_model_name": "ProgressStyleModel",
            "_view_count": null,
            "_view_module": "@jupyter-widgets/base",
            "_view_module_version": "1.2.0",
            "_view_name": "StyleView",
            "bar_color": null,
            "description_width": ""
          }
        },
        "e4f648c0c65c4b658ffac0d75559e8a7": {
          "model_module": "@jupyter-widgets/base",
          "model_name": "LayoutModel",
          "model_module_version": "1.2.0",
          "state": {
            "_model_module": "@jupyter-widgets/base",
            "_model_module_version": "1.2.0",
            "_model_name": "LayoutModel",
            "_view_count": null,
            "_view_module": "@jupyter-widgets/base",
            "_view_module_version": "1.2.0",
            "_view_name": "LayoutView",
            "align_content": null,
            "align_items": null,
            "align_self": null,
            "border": null,
            "bottom": null,
            "display": null,
            "flex": null,
            "flex_flow": null,
            "grid_area": null,
            "grid_auto_columns": null,
            "grid_auto_flow": null,
            "grid_auto_rows": null,
            "grid_column": null,
            "grid_gap": null,
            "grid_row": null,
            "grid_template_areas": null,
            "grid_template_columns": null,
            "grid_template_rows": null,
            "height": null,
            "justify_content": null,
            "justify_items": null,
            "left": null,
            "margin": null,
            "max_height": null,
            "max_width": null,
            "min_height": null,
            "min_width": null,
            "object_fit": null,
            "object_position": null,
            "order": null,
            "overflow": null,
            "overflow_x": null,
            "overflow_y": null,
            "padding": null,
            "right": null,
            "top": null,
            "visibility": null,
            "width": null
          }
        },
        "f3692dfae7084d78b516a0dbdd1f4a65": {
          "model_module": "@jupyter-widgets/controls",
          "model_name": "DescriptionStyleModel",
          "model_module_version": "1.5.0",
          "state": {
            "_model_module": "@jupyter-widgets/controls",
            "_model_module_version": "1.5.0",
            "_model_name": "DescriptionStyleModel",
            "_view_count": null,
            "_view_module": "@jupyter-widgets/base",
            "_view_module_version": "1.2.0",
            "_view_name": "StyleView",
            "description_width": ""
          }
        },
        "7b9194090416441e9e5accf65b46a330": {
          "model_module": "@jupyter-widgets/controls",
          "model_name": "HBoxModel",
          "model_module_version": "1.5.0",
          "state": {
            "_dom_classes": [],
            "_model_module": "@jupyter-widgets/controls",
            "_model_module_version": "1.5.0",
            "_model_name": "HBoxModel",
            "_view_count": null,
            "_view_module": "@jupyter-widgets/controls",
            "_view_module_version": "1.5.0",
            "_view_name": "HBoxView",
            "box_style": "",
            "children": [
              "IPY_MODEL_89079ea7fc1b4bffb9d7094b0a5f2ee3",
              "IPY_MODEL_d00f5ec10b234ec6a3ecda39d689f86c",
              "IPY_MODEL_6252b73edf1741bdbef2d3debb5a7881"
            ],
            "layout": "IPY_MODEL_6c6f447ecb9c4c6ca60773b0abb74134"
          }
        },
        "89079ea7fc1b4bffb9d7094b0a5f2ee3": {
          "model_module": "@jupyter-widgets/controls",
          "model_name": "HTMLModel",
          "model_module_version": "1.5.0",
          "state": {
            "_dom_classes": [],
            "_model_module": "@jupyter-widgets/controls",
            "_model_module_version": "1.5.0",
            "_model_name": "HTMLModel",
            "_view_count": null,
            "_view_module": "@jupyter-widgets/controls",
            "_view_module_version": "1.5.0",
            "_view_name": "HTMLView",
            "description": "",
            "description_tooltip": null,
            "layout": "IPY_MODEL_bee31cd23ddf44cb9f67c2c775bca62f",
            "placeholder": "​",
            "style": "IPY_MODEL_03018a0fcd094a42bb4846000a843e5b",
            "value": "Downloading merges.txt: 100%"
          }
        },
        "d00f5ec10b234ec6a3ecda39d689f86c": {
          "model_module": "@jupyter-widgets/controls",
          "model_name": "FloatProgressModel",
          "model_module_version": "1.5.0",
          "state": {
            "_dom_classes": [],
            "_model_module": "@jupyter-widgets/controls",
            "_model_module_version": "1.5.0",
            "_model_name": "FloatProgressModel",
            "_view_count": null,
            "_view_module": "@jupyter-widgets/controls",
            "_view_module_version": "1.5.0",
            "_view_name": "ProgressView",
            "bar_style": "success",
            "description": "",
            "description_tooltip": null,
            "layout": "IPY_MODEL_298d08634812462ba327c2edd0b0861a",
            "max": 456318,
            "min": 0,
            "orientation": "horizontal",
            "style": "IPY_MODEL_40798b86ae5b474c933084f5978fd8cc",
            "value": 456318
          }
        },
        "6252b73edf1741bdbef2d3debb5a7881": {
          "model_module": "@jupyter-widgets/controls",
          "model_name": "HTMLModel",
          "model_module_version": "1.5.0",
          "state": {
            "_dom_classes": [],
            "_model_module": "@jupyter-widgets/controls",
            "_model_module_version": "1.5.0",
            "_model_name": "HTMLModel",
            "_view_count": null,
            "_view_module": "@jupyter-widgets/controls",
            "_view_module_version": "1.5.0",
            "_view_name": "HTMLView",
            "description": "",
            "description_tooltip": null,
            "layout": "IPY_MODEL_15e18a12489a49c8b070b4807e75505c",
            "placeholder": "​",
            "style": "IPY_MODEL_ebefd796b7704a9fb813f6a9dc1a710b",
            "value": " 446k/446k [00:00&lt;00:00, 738kB/s]"
          }
        },
        "6c6f447ecb9c4c6ca60773b0abb74134": {
          "model_module": "@jupyter-widgets/base",
          "model_name": "LayoutModel",
          "model_module_version": "1.2.0",
          "state": {
            "_model_module": "@jupyter-widgets/base",
            "_model_module_version": "1.2.0",
            "_model_name": "LayoutModel",
            "_view_count": null,
            "_view_module": "@jupyter-widgets/base",
            "_view_module_version": "1.2.0",
            "_view_name": "LayoutView",
            "align_content": null,
            "align_items": null,
            "align_self": null,
            "border": null,
            "bottom": null,
            "display": null,
            "flex": null,
            "flex_flow": null,
            "grid_area": null,
            "grid_auto_columns": null,
            "grid_auto_flow": null,
            "grid_auto_rows": null,
            "grid_column": null,
            "grid_gap": null,
            "grid_row": null,
            "grid_template_areas": null,
            "grid_template_columns": null,
            "grid_template_rows": null,
            "height": null,
            "justify_content": null,
            "justify_items": null,
            "left": null,
            "margin": null,
            "max_height": null,
            "max_width": null,
            "min_height": null,
            "min_width": null,
            "object_fit": null,
            "object_position": null,
            "order": null,
            "overflow": null,
            "overflow_x": null,
            "overflow_y": null,
            "padding": null,
            "right": null,
            "top": null,
            "visibility": null,
            "width": null
          }
        },
        "bee31cd23ddf44cb9f67c2c775bca62f": {
          "model_module": "@jupyter-widgets/base",
          "model_name": "LayoutModel",
          "model_module_version": "1.2.0",
          "state": {
            "_model_module": "@jupyter-widgets/base",
            "_model_module_version": "1.2.0",
            "_model_name": "LayoutModel",
            "_view_count": null,
            "_view_module": "@jupyter-widgets/base",
            "_view_module_version": "1.2.0",
            "_view_name": "LayoutView",
            "align_content": null,
            "align_items": null,
            "align_self": null,
            "border": null,
            "bottom": null,
            "display": null,
            "flex": null,
            "flex_flow": null,
            "grid_area": null,
            "grid_auto_columns": null,
            "grid_auto_flow": null,
            "grid_auto_rows": null,
            "grid_column": null,
            "grid_gap": null,
            "grid_row": null,
            "grid_template_areas": null,
            "grid_template_columns": null,
            "grid_template_rows": null,
            "height": null,
            "justify_content": null,
            "justify_items": null,
            "left": null,
            "margin": null,
            "max_height": null,
            "max_width": null,
            "min_height": null,
            "min_width": null,
            "object_fit": null,
            "object_position": null,
            "order": null,
            "overflow": null,
            "overflow_x": null,
            "overflow_y": null,
            "padding": null,
            "right": null,
            "top": null,
            "visibility": null,
            "width": null
          }
        },
        "03018a0fcd094a42bb4846000a843e5b": {
          "model_module": "@jupyter-widgets/controls",
          "model_name": "DescriptionStyleModel",
          "model_module_version": "1.5.0",
          "state": {
            "_model_module": "@jupyter-widgets/controls",
            "_model_module_version": "1.5.0",
            "_model_name": "DescriptionStyleModel",
            "_view_count": null,
            "_view_module": "@jupyter-widgets/base",
            "_view_module_version": "1.2.0",
            "_view_name": "StyleView",
            "description_width": ""
          }
        },
        "298d08634812462ba327c2edd0b0861a": {
          "model_module": "@jupyter-widgets/base",
          "model_name": "LayoutModel",
          "model_module_version": "1.2.0",
          "state": {
            "_model_module": "@jupyter-widgets/base",
            "_model_module_version": "1.2.0",
            "_model_name": "LayoutModel",
            "_view_count": null,
            "_view_module": "@jupyter-widgets/base",
            "_view_module_version": "1.2.0",
            "_view_name": "LayoutView",
            "align_content": null,
            "align_items": null,
            "align_self": null,
            "border": null,
            "bottom": null,
            "display": null,
            "flex": null,
            "flex_flow": null,
            "grid_area": null,
            "grid_auto_columns": null,
            "grid_auto_flow": null,
            "grid_auto_rows": null,
            "grid_column": null,
            "grid_gap": null,
            "grid_row": null,
            "grid_template_areas": null,
            "grid_template_columns": null,
            "grid_template_rows": null,
            "height": null,
            "justify_content": null,
            "justify_items": null,
            "left": null,
            "margin": null,
            "max_height": null,
            "max_width": null,
            "min_height": null,
            "min_width": null,
            "object_fit": null,
            "object_position": null,
            "order": null,
            "overflow": null,
            "overflow_x": null,
            "overflow_y": null,
            "padding": null,
            "right": null,
            "top": null,
            "visibility": null,
            "width": null
          }
        },
        "40798b86ae5b474c933084f5978fd8cc": {
          "model_module": "@jupyter-widgets/controls",
          "model_name": "ProgressStyleModel",
          "model_module_version": "1.5.0",
          "state": {
            "_model_module": "@jupyter-widgets/controls",
            "_model_module_version": "1.5.0",
            "_model_name": "ProgressStyleModel",
            "_view_count": null,
            "_view_module": "@jupyter-widgets/base",
            "_view_module_version": "1.2.0",
            "_view_name": "StyleView",
            "bar_color": null,
            "description_width": ""
          }
        },
        "15e18a12489a49c8b070b4807e75505c": {
          "model_module": "@jupyter-widgets/base",
          "model_name": "LayoutModel",
          "model_module_version": "1.2.0",
          "state": {
            "_model_module": "@jupyter-widgets/base",
            "_model_module_version": "1.2.0",
            "_model_name": "LayoutModel",
            "_view_count": null,
            "_view_module": "@jupyter-widgets/base",
            "_view_module_version": "1.2.0",
            "_view_name": "LayoutView",
            "align_content": null,
            "align_items": null,
            "align_self": null,
            "border": null,
            "bottom": null,
            "display": null,
            "flex": null,
            "flex_flow": null,
            "grid_area": null,
            "grid_auto_columns": null,
            "grid_auto_flow": null,
            "grid_auto_rows": null,
            "grid_column": null,
            "grid_gap": null,
            "grid_row": null,
            "grid_template_areas": null,
            "grid_template_columns": null,
            "grid_template_rows": null,
            "height": null,
            "justify_content": null,
            "justify_items": null,
            "left": null,
            "margin": null,
            "max_height": null,
            "max_width": null,
            "min_height": null,
            "min_width": null,
            "object_fit": null,
            "object_position": null,
            "order": null,
            "overflow": null,
            "overflow_x": null,
            "overflow_y": null,
            "padding": null,
            "right": null,
            "top": null,
            "visibility": null,
            "width": null
          }
        },
        "ebefd796b7704a9fb813f6a9dc1a710b": {
          "model_module": "@jupyter-widgets/controls",
          "model_name": "DescriptionStyleModel",
          "model_module_version": "1.5.0",
          "state": {
            "_model_module": "@jupyter-widgets/controls",
            "_model_module_version": "1.5.0",
            "_model_name": "DescriptionStyleModel",
            "_view_count": null,
            "_view_module": "@jupyter-widgets/base",
            "_view_module_version": "1.2.0",
            "_view_name": "StyleView",
            "description_width": ""
          }
        },
        "ce1372a44acc4841be16496289171023": {
          "model_module": "@jupyter-widgets/controls",
          "model_name": "HBoxModel",
          "model_module_version": "1.5.0",
          "state": {
            "_dom_classes": [],
            "_model_module": "@jupyter-widgets/controls",
            "_model_module_version": "1.5.0",
            "_model_name": "HBoxModel",
            "_view_count": null,
            "_view_module": "@jupyter-widgets/controls",
            "_view_module_version": "1.5.0",
            "_view_name": "HBoxView",
            "box_style": "",
            "children": [
              "IPY_MODEL_73bac1d5ced142d8b7f15a54d0e64276",
              "IPY_MODEL_e0b23e20773f4964918b52c75ddd9ed9",
              "IPY_MODEL_1ea0f8f27225494b8e361f9122cb8f20"
            ],
            "layout": "IPY_MODEL_be73c46f44c8487d872f0fac6718aac1"
          }
        },
        "73bac1d5ced142d8b7f15a54d0e64276": {
          "model_module": "@jupyter-widgets/controls",
          "model_name": "HTMLModel",
          "model_module_version": "1.5.0",
          "state": {
            "_dom_classes": [],
            "_model_module": "@jupyter-widgets/controls",
            "_model_module_version": "1.5.0",
            "_model_name": "HTMLModel",
            "_view_count": null,
            "_view_module": "@jupyter-widgets/controls",
            "_view_module_version": "1.5.0",
            "_view_name": "HTMLView",
            "description": "",
            "description_tooltip": null,
            "layout": "IPY_MODEL_135b3c1ca73c4f7db2b9a6aab759ed67",
            "placeholder": "​",
            "style": "IPY_MODEL_96ae9ca701de476a8abc24acc3e4fcba",
            "value": "Downloading tokenizer.json: 100%"
          }
        },
        "e0b23e20773f4964918b52c75ddd9ed9": {
          "model_module": "@jupyter-widgets/controls",
          "model_name": "FloatProgressModel",
          "model_module_version": "1.5.0",
          "state": {
            "_dom_classes": [],
            "_model_module": "@jupyter-widgets/controls",
            "_model_module_version": "1.5.0",
            "_model_name": "FloatProgressModel",
            "_view_count": null,
            "_view_module": "@jupyter-widgets/controls",
            "_view_module_version": "1.5.0",
            "_view_name": "ProgressView",
            "bar_style": "success",
            "description": "",
            "description_tooltip": null,
            "layout": "IPY_MODEL_6673ac9878f941de9361ee7b21a7d8e2",
            "max": 1355863,
            "min": 0,
            "orientation": "horizontal",
            "style": "IPY_MODEL_4e76931bfab346b792866f8c5ec4b1b5",
            "value": 1355863
          }
        },
        "1ea0f8f27225494b8e361f9122cb8f20": {
          "model_module": "@jupyter-widgets/controls",
          "model_name": "HTMLModel",
          "model_module_version": "1.5.0",
          "state": {
            "_dom_classes": [],
            "_model_module": "@jupyter-widgets/controls",
            "_model_module_version": "1.5.0",
            "_model_name": "HTMLModel",
            "_view_count": null,
            "_view_module": "@jupyter-widgets/controls",
            "_view_module_version": "1.5.0",
            "_view_name": "HTMLView",
            "description": "",
            "description_tooltip": null,
            "layout": "IPY_MODEL_c7ed853b8d414500a7c0ecc332a00a39",
            "placeholder": "​",
            "style": "IPY_MODEL_8e7b4aa65f00423db2f0e361ce828359",
            "value": " 1.29M/1.29M [00:00&lt;00:00, 1.58MB/s]"
          }
        },
        "be73c46f44c8487d872f0fac6718aac1": {
          "model_module": "@jupyter-widgets/base",
          "model_name": "LayoutModel",
          "model_module_version": "1.2.0",
          "state": {
            "_model_module": "@jupyter-widgets/base",
            "_model_module_version": "1.2.0",
            "_model_name": "LayoutModel",
            "_view_count": null,
            "_view_module": "@jupyter-widgets/base",
            "_view_module_version": "1.2.0",
            "_view_name": "LayoutView",
            "align_content": null,
            "align_items": null,
            "align_self": null,
            "border": null,
            "bottom": null,
            "display": null,
            "flex": null,
            "flex_flow": null,
            "grid_area": null,
            "grid_auto_columns": null,
            "grid_auto_flow": null,
            "grid_auto_rows": null,
            "grid_column": null,
            "grid_gap": null,
            "grid_row": null,
            "grid_template_areas": null,
            "grid_template_columns": null,
            "grid_template_rows": null,
            "height": null,
            "justify_content": null,
            "justify_items": null,
            "left": null,
            "margin": null,
            "max_height": null,
            "max_width": null,
            "min_height": null,
            "min_width": null,
            "object_fit": null,
            "object_position": null,
            "order": null,
            "overflow": null,
            "overflow_x": null,
            "overflow_y": null,
            "padding": null,
            "right": null,
            "top": null,
            "visibility": null,
            "width": null
          }
        },
        "135b3c1ca73c4f7db2b9a6aab759ed67": {
          "model_module": "@jupyter-widgets/base",
          "model_name": "LayoutModel",
          "model_module_version": "1.2.0",
          "state": {
            "_model_module": "@jupyter-widgets/base",
            "_model_module_version": "1.2.0",
            "_model_name": "LayoutModel",
            "_view_count": null,
            "_view_module": "@jupyter-widgets/base",
            "_view_module_version": "1.2.0",
            "_view_name": "LayoutView",
            "align_content": null,
            "align_items": null,
            "align_self": null,
            "border": null,
            "bottom": null,
            "display": null,
            "flex": null,
            "flex_flow": null,
            "grid_area": null,
            "grid_auto_columns": null,
            "grid_auto_flow": null,
            "grid_auto_rows": null,
            "grid_column": null,
            "grid_gap": null,
            "grid_row": null,
            "grid_template_areas": null,
            "grid_template_columns": null,
            "grid_template_rows": null,
            "height": null,
            "justify_content": null,
            "justify_items": null,
            "left": null,
            "margin": null,
            "max_height": null,
            "max_width": null,
            "min_height": null,
            "min_width": null,
            "object_fit": null,
            "object_position": null,
            "order": null,
            "overflow": null,
            "overflow_x": null,
            "overflow_y": null,
            "padding": null,
            "right": null,
            "top": null,
            "visibility": null,
            "width": null
          }
        },
        "96ae9ca701de476a8abc24acc3e4fcba": {
          "model_module": "@jupyter-widgets/controls",
          "model_name": "DescriptionStyleModel",
          "model_module_version": "1.5.0",
          "state": {
            "_model_module": "@jupyter-widgets/controls",
            "_model_module_version": "1.5.0",
            "_model_name": "DescriptionStyleModel",
            "_view_count": null,
            "_view_module": "@jupyter-widgets/base",
            "_view_module_version": "1.2.0",
            "_view_name": "StyleView",
            "description_width": ""
          }
        },
        "6673ac9878f941de9361ee7b21a7d8e2": {
          "model_module": "@jupyter-widgets/base",
          "model_name": "LayoutModel",
          "model_module_version": "1.2.0",
          "state": {
            "_model_module": "@jupyter-widgets/base",
            "_model_module_version": "1.2.0",
            "_model_name": "LayoutModel",
            "_view_count": null,
            "_view_module": "@jupyter-widgets/base",
            "_view_module_version": "1.2.0",
            "_view_name": "LayoutView",
            "align_content": null,
            "align_items": null,
            "align_self": null,
            "border": null,
            "bottom": null,
            "display": null,
            "flex": null,
            "flex_flow": null,
            "grid_area": null,
            "grid_auto_columns": null,
            "grid_auto_flow": null,
            "grid_auto_rows": null,
            "grid_column": null,
            "grid_gap": null,
            "grid_row": null,
            "grid_template_areas": null,
            "grid_template_columns": null,
            "grid_template_rows": null,
            "height": null,
            "justify_content": null,
            "justify_items": null,
            "left": null,
            "margin": null,
            "max_height": null,
            "max_width": null,
            "min_height": null,
            "min_width": null,
            "object_fit": null,
            "object_position": null,
            "order": null,
            "overflow": null,
            "overflow_x": null,
            "overflow_y": null,
            "padding": null,
            "right": null,
            "top": null,
            "visibility": null,
            "width": null
          }
        },
        "4e76931bfab346b792866f8c5ec4b1b5": {
          "model_module": "@jupyter-widgets/controls",
          "model_name": "ProgressStyleModel",
          "model_module_version": "1.5.0",
          "state": {
            "_model_module": "@jupyter-widgets/controls",
            "_model_module_version": "1.5.0",
            "_model_name": "ProgressStyleModel",
            "_view_count": null,
            "_view_module": "@jupyter-widgets/base",
            "_view_module_version": "1.2.0",
            "_view_name": "StyleView",
            "bar_color": null,
            "description_width": ""
          }
        },
        "c7ed853b8d414500a7c0ecc332a00a39": {
          "model_module": "@jupyter-widgets/base",
          "model_name": "LayoutModel",
          "model_module_version": "1.2.0",
          "state": {
            "_model_module": "@jupyter-widgets/base",
            "_model_module_version": "1.2.0",
            "_model_name": "LayoutModel",
            "_view_count": null,
            "_view_module": "@jupyter-widgets/base",
            "_view_module_version": "1.2.0",
            "_view_name": "LayoutView",
            "align_content": null,
            "align_items": null,
            "align_self": null,
            "border": null,
            "bottom": null,
            "display": null,
            "flex": null,
            "flex_flow": null,
            "grid_area": null,
            "grid_auto_columns": null,
            "grid_auto_flow": null,
            "grid_auto_rows": null,
            "grid_column": null,
            "grid_gap": null,
            "grid_row": null,
            "grid_template_areas": null,
            "grid_template_columns": null,
            "grid_template_rows": null,
            "height": null,
            "justify_content": null,
            "justify_items": null,
            "left": null,
            "margin": null,
            "max_height": null,
            "max_width": null,
            "min_height": null,
            "min_width": null,
            "object_fit": null,
            "object_position": null,
            "order": null,
            "overflow": null,
            "overflow_x": null,
            "overflow_y": null,
            "padding": null,
            "right": null,
            "top": null,
            "visibility": null,
            "width": null
          }
        },
        "8e7b4aa65f00423db2f0e361ce828359": {
          "model_module": "@jupyter-widgets/controls",
          "model_name": "DescriptionStyleModel",
          "model_module_version": "1.5.0",
          "state": {
            "_model_module": "@jupyter-widgets/controls",
            "_model_module_version": "1.5.0",
            "_model_name": "DescriptionStyleModel",
            "_view_count": null,
            "_view_module": "@jupyter-widgets/base",
            "_view_module_version": "1.2.0",
            "_view_name": "StyleView",
            "description_width": ""
          }
        },
        "116a7fb3e32542429cc076ec5c6abef8": {
          "model_module": "@jupyter-widgets/controls",
          "model_name": "HBoxModel",
          "model_module_version": "1.5.0",
          "state": {
            "_dom_classes": [],
            "_model_module": "@jupyter-widgets/controls",
            "_model_module_version": "1.5.0",
            "_model_name": "HBoxModel",
            "_view_count": null,
            "_view_module": "@jupyter-widgets/controls",
            "_view_module_version": "1.5.0",
            "_view_name": "HBoxView",
            "box_style": "",
            "children": [
              "IPY_MODEL_22528ee5aacd41d8a1571a9197b9b7b6",
              "IPY_MODEL_671e3a1bd4114c4a9a2b42f401124442",
              "IPY_MODEL_615dc9989685452c95e3db2ca64c90e5"
            ],
            "layout": "IPY_MODEL_1f29d18cfefc474c8097d552bf8ffd45"
          }
        },
        "22528ee5aacd41d8a1571a9197b9b7b6": {
          "model_module": "@jupyter-widgets/controls",
          "model_name": "HTMLModel",
          "model_module_version": "1.5.0",
          "state": {
            "_dom_classes": [],
            "_model_module": "@jupyter-widgets/controls",
            "_model_module_version": "1.5.0",
            "_model_name": "HTMLModel",
            "_view_count": null,
            "_view_module": "@jupyter-widgets/controls",
            "_view_module_version": "1.5.0",
            "_view_name": "HTMLView",
            "description": "",
            "description_tooltip": null,
            "layout": "IPY_MODEL_088cb441252b4f01984cb7187ea76105",
            "placeholder": "​",
            "style": "IPY_MODEL_fc115feed10d441e96421ed81c6c889b",
            "value": "Downloading: 100%"
          }
        },
        "671e3a1bd4114c4a9a2b42f401124442": {
          "model_module": "@jupyter-widgets/controls",
          "model_name": "FloatProgressModel",
          "model_module_version": "1.5.0",
          "state": {
            "_dom_classes": [],
            "_model_module": "@jupyter-widgets/controls",
            "_model_module_version": "1.5.0",
            "_model_name": "FloatProgressModel",
            "_view_count": null,
            "_view_module": "@jupyter-widgets/controls",
            "_view_module_version": "1.5.0",
            "_view_name": "ProgressView",
            "bar_style": "success",
            "description": "",
            "description_tooltip": null,
            "layout": "IPY_MODEL_97db59a843514bf5b86391b3aae22de0",
            "max": 739,
            "min": 0,
            "orientation": "horizontal",
            "style": "IPY_MODEL_9c3ad667cf4944c7b1d3ea3a0dde8904",
            "value": 739
          }
        },
        "615dc9989685452c95e3db2ca64c90e5": {
          "model_module": "@jupyter-widgets/controls",
          "model_name": "HTMLModel",
          "model_module_version": "1.5.0",
          "state": {
            "_dom_classes": [],
            "_model_module": "@jupyter-widgets/controls",
            "_model_module_version": "1.5.0",
            "_model_name": "HTMLModel",
            "_view_count": null,
            "_view_module": "@jupyter-widgets/controls",
            "_view_module_version": "1.5.0",
            "_view_name": "HTMLView",
            "description": "",
            "description_tooltip": null,
            "layout": "IPY_MODEL_657e67f22ede466895e48216c6a97b97",
            "placeholder": "​",
            "style": "IPY_MODEL_4bcdce3c2d5545309ff000a61918802b",
            "value": " 739/739 [00:00&lt;00:00, 20.1kB/s]"
          }
        },
        "1f29d18cfefc474c8097d552bf8ffd45": {
          "model_module": "@jupyter-widgets/base",
          "model_name": "LayoutModel",
          "model_module_version": "1.2.0",
          "state": {
            "_model_module": "@jupyter-widgets/base",
            "_model_module_version": "1.2.0",
            "_model_name": "LayoutModel",
            "_view_count": null,
            "_view_module": "@jupyter-widgets/base",
            "_view_module_version": "1.2.0",
            "_view_name": "LayoutView",
            "align_content": null,
            "align_items": null,
            "align_self": null,
            "border": null,
            "bottom": null,
            "display": null,
            "flex": null,
            "flex_flow": null,
            "grid_area": null,
            "grid_auto_columns": null,
            "grid_auto_flow": null,
            "grid_auto_rows": null,
            "grid_column": null,
            "grid_gap": null,
            "grid_row": null,
            "grid_template_areas": null,
            "grid_template_columns": null,
            "grid_template_rows": null,
            "height": null,
            "justify_content": null,
            "justify_items": null,
            "left": null,
            "margin": null,
            "max_height": null,
            "max_width": null,
            "min_height": null,
            "min_width": null,
            "object_fit": null,
            "object_position": null,
            "order": null,
            "overflow": null,
            "overflow_x": null,
            "overflow_y": null,
            "padding": null,
            "right": null,
            "top": null,
            "visibility": null,
            "width": null
          }
        },
        "088cb441252b4f01984cb7187ea76105": {
          "model_module": "@jupyter-widgets/base",
          "model_name": "LayoutModel",
          "model_module_version": "1.2.0",
          "state": {
            "_model_module": "@jupyter-widgets/base",
            "_model_module_version": "1.2.0",
            "_model_name": "LayoutModel",
            "_view_count": null,
            "_view_module": "@jupyter-widgets/base",
            "_view_module_version": "1.2.0",
            "_view_name": "LayoutView",
            "align_content": null,
            "align_items": null,
            "align_self": null,
            "border": null,
            "bottom": null,
            "display": null,
            "flex": null,
            "flex_flow": null,
            "grid_area": null,
            "grid_auto_columns": null,
            "grid_auto_flow": null,
            "grid_auto_rows": null,
            "grid_column": null,
            "grid_gap": null,
            "grid_row": null,
            "grid_template_areas": null,
            "grid_template_columns": null,
            "grid_template_rows": null,
            "height": null,
            "justify_content": null,
            "justify_items": null,
            "left": null,
            "margin": null,
            "max_height": null,
            "max_width": null,
            "min_height": null,
            "min_width": null,
            "object_fit": null,
            "object_position": null,
            "order": null,
            "overflow": null,
            "overflow_x": null,
            "overflow_y": null,
            "padding": null,
            "right": null,
            "top": null,
            "visibility": null,
            "width": null
          }
        },
        "fc115feed10d441e96421ed81c6c889b": {
          "model_module": "@jupyter-widgets/controls",
          "model_name": "DescriptionStyleModel",
          "model_module_version": "1.5.0",
          "state": {
            "_model_module": "@jupyter-widgets/controls",
            "_model_module_version": "1.5.0",
            "_model_name": "DescriptionStyleModel",
            "_view_count": null,
            "_view_module": "@jupyter-widgets/base",
            "_view_module_version": "1.2.0",
            "_view_name": "StyleView",
            "description_width": ""
          }
        },
        "97db59a843514bf5b86391b3aae22de0": {
          "model_module": "@jupyter-widgets/base",
          "model_name": "LayoutModel",
          "model_module_version": "1.2.0",
          "state": {
            "_model_module": "@jupyter-widgets/base",
            "_model_module_version": "1.2.0",
            "_model_name": "LayoutModel",
            "_view_count": null,
            "_view_module": "@jupyter-widgets/base",
            "_view_module_version": "1.2.0",
            "_view_name": "LayoutView",
            "align_content": null,
            "align_items": null,
            "align_self": null,
            "border": null,
            "bottom": null,
            "display": null,
            "flex": null,
            "flex_flow": null,
            "grid_area": null,
            "grid_auto_columns": null,
            "grid_auto_flow": null,
            "grid_auto_rows": null,
            "grid_column": null,
            "grid_gap": null,
            "grid_row": null,
            "grid_template_areas": null,
            "grid_template_columns": null,
            "grid_template_rows": null,
            "height": null,
            "justify_content": null,
            "justify_items": null,
            "left": null,
            "margin": null,
            "max_height": null,
            "max_width": null,
            "min_height": null,
            "min_width": null,
            "object_fit": null,
            "object_position": null,
            "order": null,
            "overflow": null,
            "overflow_x": null,
            "overflow_y": null,
            "padding": null,
            "right": null,
            "top": null,
            "visibility": null,
            "width": null
          }
        },
        "9c3ad667cf4944c7b1d3ea3a0dde8904": {
          "model_module": "@jupyter-widgets/controls",
          "model_name": "ProgressStyleModel",
          "model_module_version": "1.5.0",
          "state": {
            "_model_module": "@jupyter-widgets/controls",
            "_model_module_version": "1.5.0",
            "_model_name": "ProgressStyleModel",
            "_view_count": null,
            "_view_module": "@jupyter-widgets/base",
            "_view_module_version": "1.2.0",
            "_view_name": "StyleView",
            "bar_color": null,
            "description_width": ""
          }
        },
        "657e67f22ede466895e48216c6a97b97": {
          "model_module": "@jupyter-widgets/base",
          "model_name": "LayoutModel",
          "model_module_version": "1.2.0",
          "state": {
            "_model_module": "@jupyter-widgets/base",
            "_model_module_version": "1.2.0",
            "_model_name": "LayoutModel",
            "_view_count": null,
            "_view_module": "@jupyter-widgets/base",
            "_view_module_version": "1.2.0",
            "_view_name": "LayoutView",
            "align_content": null,
            "align_items": null,
            "align_self": null,
            "border": null,
            "bottom": null,
            "display": null,
            "flex": null,
            "flex_flow": null,
            "grid_area": null,
            "grid_auto_columns": null,
            "grid_auto_flow": null,
            "grid_auto_rows": null,
            "grid_column": null,
            "grid_gap": null,
            "grid_row": null,
            "grid_template_areas": null,
            "grid_template_columns": null,
            "grid_template_rows": null,
            "height": null,
            "justify_content": null,
            "justify_items": null,
            "left": null,
            "margin": null,
            "max_height": null,
            "max_width": null,
            "min_height": null,
            "min_width": null,
            "object_fit": null,
            "object_position": null,
            "order": null,
            "overflow": null,
            "overflow_x": null,
            "overflow_y": null,
            "padding": null,
            "right": null,
            "top": null,
            "visibility": null,
            "width": null
          }
        },
        "4bcdce3c2d5545309ff000a61918802b": {
          "model_module": "@jupyter-widgets/controls",
          "model_name": "DescriptionStyleModel",
          "model_module_version": "1.5.0",
          "state": {
            "_model_module": "@jupyter-widgets/controls",
            "_model_module_version": "1.5.0",
            "_model_name": "DescriptionStyleModel",
            "_view_count": null,
            "_view_module": "@jupyter-widgets/base",
            "_view_module_version": "1.2.0",
            "_view_name": "StyleView",
            "description_width": ""
          }
        },
        "ebd3ff81d52b4060b6c966e4002760f7": {
          "model_module": "@jupyter-widgets/controls",
          "model_name": "HBoxModel",
          "model_module_version": "1.5.0",
          "state": {
            "_dom_classes": [],
            "_model_module": "@jupyter-widgets/controls",
            "_model_module_version": "1.5.0",
            "_model_name": "HBoxModel",
            "_view_count": null,
            "_view_module": "@jupyter-widgets/controls",
            "_view_module_version": "1.5.0",
            "_view_name": "HBoxView",
            "box_style": "",
            "children": [
              "IPY_MODEL_734231bb77b04da7b78581b42140cf70",
              "IPY_MODEL_16c015d1601f457fa6ccf745e0a091ee",
              "IPY_MODEL_c65ea3a3c6b74b1baef333b9a73d2972"
            ],
            "layout": "IPY_MODEL_beae6c604d7945458987feaf7aa3e417"
          }
        },
        "734231bb77b04da7b78581b42140cf70": {
          "model_module": "@jupyter-widgets/controls",
          "model_name": "HTMLModel",
          "model_module_version": "1.5.0",
          "state": {
            "_dom_classes": [],
            "_model_module": "@jupyter-widgets/controls",
            "_model_module_version": "1.5.0",
            "_model_name": "HTMLModel",
            "_view_count": null,
            "_view_module": "@jupyter-widgets/controls",
            "_view_module_version": "1.5.0",
            "_view_name": "HTMLView",
            "description": "",
            "description_tooltip": null,
            "layout": "IPY_MODEL_bf3a7a512e0241d7b1ad9e525dc6f837",
            "placeholder": "​",
            "style": "IPY_MODEL_5621b2ea7c454293b922dd5b1d337d74",
            "value": "Downloading data files: 100%"
          }
        },
        "16c015d1601f457fa6ccf745e0a091ee": {
          "model_module": "@jupyter-widgets/controls",
          "model_name": "FloatProgressModel",
          "model_module_version": "1.5.0",
          "state": {
            "_dom_classes": [],
            "_model_module": "@jupyter-widgets/controls",
            "_model_module_version": "1.5.0",
            "_model_name": "FloatProgressModel",
            "_view_count": null,
            "_view_module": "@jupyter-widgets/controls",
            "_view_module_version": "1.5.0",
            "_view_name": "ProgressView",
            "bar_style": "success",
            "description": "",
            "description_tooltip": null,
            "layout": "IPY_MODEL_c1f10ba0c8cc49869d3bd0a4b2530fe7",
            "max": 2,
            "min": 0,
            "orientation": "horizontal",
            "style": "IPY_MODEL_9152a61a655f47ae8596d6be5d44f3d9",
            "value": 2
          }
        },
        "c65ea3a3c6b74b1baef333b9a73d2972": {
          "model_module": "@jupyter-widgets/controls",
          "model_name": "HTMLModel",
          "model_module_version": "1.5.0",
          "state": {
            "_dom_classes": [],
            "_model_module": "@jupyter-widgets/controls",
            "_model_module_version": "1.5.0",
            "_model_name": "HTMLModel",
            "_view_count": null,
            "_view_module": "@jupyter-widgets/controls",
            "_view_module_version": "1.5.0",
            "_view_name": "HTMLView",
            "description": "",
            "description_tooltip": null,
            "layout": "IPY_MODEL_94819a68a2ad40f0827e66695a033a63",
            "placeholder": "​",
            "style": "IPY_MODEL_d22af14b09f14ae59671a814fc360241",
            "value": " 2/2 [00:04&lt;00:00,  2.25s/it]"
          }
        },
        "beae6c604d7945458987feaf7aa3e417": {
          "model_module": "@jupyter-widgets/base",
          "model_name": "LayoutModel",
          "model_module_version": "1.2.0",
          "state": {
            "_model_module": "@jupyter-widgets/base",
            "_model_module_version": "1.2.0",
            "_model_name": "LayoutModel",
            "_view_count": null,
            "_view_module": "@jupyter-widgets/base",
            "_view_module_version": "1.2.0",
            "_view_name": "LayoutView",
            "align_content": null,
            "align_items": null,
            "align_self": null,
            "border": null,
            "bottom": null,
            "display": null,
            "flex": null,
            "flex_flow": null,
            "grid_area": null,
            "grid_auto_columns": null,
            "grid_auto_flow": null,
            "grid_auto_rows": null,
            "grid_column": null,
            "grid_gap": null,
            "grid_row": null,
            "grid_template_areas": null,
            "grid_template_columns": null,
            "grid_template_rows": null,
            "height": null,
            "justify_content": null,
            "justify_items": null,
            "left": null,
            "margin": null,
            "max_height": null,
            "max_width": null,
            "min_height": null,
            "min_width": null,
            "object_fit": null,
            "object_position": null,
            "order": null,
            "overflow": null,
            "overflow_x": null,
            "overflow_y": null,
            "padding": null,
            "right": null,
            "top": null,
            "visibility": null,
            "width": null
          }
        },
        "bf3a7a512e0241d7b1ad9e525dc6f837": {
          "model_module": "@jupyter-widgets/base",
          "model_name": "LayoutModel",
          "model_module_version": "1.2.0",
          "state": {
            "_model_module": "@jupyter-widgets/base",
            "_model_module_version": "1.2.0",
            "_model_name": "LayoutModel",
            "_view_count": null,
            "_view_module": "@jupyter-widgets/base",
            "_view_module_version": "1.2.0",
            "_view_name": "LayoutView",
            "align_content": null,
            "align_items": null,
            "align_self": null,
            "border": null,
            "bottom": null,
            "display": null,
            "flex": null,
            "flex_flow": null,
            "grid_area": null,
            "grid_auto_columns": null,
            "grid_auto_flow": null,
            "grid_auto_rows": null,
            "grid_column": null,
            "grid_gap": null,
            "grid_row": null,
            "grid_template_areas": null,
            "grid_template_columns": null,
            "grid_template_rows": null,
            "height": null,
            "justify_content": null,
            "justify_items": null,
            "left": null,
            "margin": null,
            "max_height": null,
            "max_width": null,
            "min_height": null,
            "min_width": null,
            "object_fit": null,
            "object_position": null,
            "order": null,
            "overflow": null,
            "overflow_x": null,
            "overflow_y": null,
            "padding": null,
            "right": null,
            "top": null,
            "visibility": null,
            "width": null
          }
        },
        "5621b2ea7c454293b922dd5b1d337d74": {
          "model_module": "@jupyter-widgets/controls",
          "model_name": "DescriptionStyleModel",
          "model_module_version": "1.5.0",
          "state": {
            "_model_module": "@jupyter-widgets/controls",
            "_model_module_version": "1.5.0",
            "_model_name": "DescriptionStyleModel",
            "_view_count": null,
            "_view_module": "@jupyter-widgets/base",
            "_view_module_version": "1.2.0",
            "_view_name": "StyleView",
            "description_width": ""
          }
        },
        "c1f10ba0c8cc49869d3bd0a4b2530fe7": {
          "model_module": "@jupyter-widgets/base",
          "model_name": "LayoutModel",
          "model_module_version": "1.2.0",
          "state": {
            "_model_module": "@jupyter-widgets/base",
            "_model_module_version": "1.2.0",
            "_model_name": "LayoutModel",
            "_view_count": null,
            "_view_module": "@jupyter-widgets/base",
            "_view_module_version": "1.2.0",
            "_view_name": "LayoutView",
            "align_content": null,
            "align_items": null,
            "align_self": null,
            "border": null,
            "bottom": null,
            "display": null,
            "flex": null,
            "flex_flow": null,
            "grid_area": null,
            "grid_auto_columns": null,
            "grid_auto_flow": null,
            "grid_auto_rows": null,
            "grid_column": null,
            "grid_gap": null,
            "grid_row": null,
            "grid_template_areas": null,
            "grid_template_columns": null,
            "grid_template_rows": null,
            "height": null,
            "justify_content": null,
            "justify_items": null,
            "left": null,
            "margin": null,
            "max_height": null,
            "max_width": null,
            "min_height": null,
            "min_width": null,
            "object_fit": null,
            "object_position": null,
            "order": null,
            "overflow": null,
            "overflow_x": null,
            "overflow_y": null,
            "padding": null,
            "right": null,
            "top": null,
            "visibility": null,
            "width": null
          }
        },
        "9152a61a655f47ae8596d6be5d44f3d9": {
          "model_module": "@jupyter-widgets/controls",
          "model_name": "ProgressStyleModel",
          "model_module_version": "1.5.0",
          "state": {
            "_model_module": "@jupyter-widgets/controls",
            "_model_module_version": "1.5.0",
            "_model_name": "ProgressStyleModel",
            "_view_count": null,
            "_view_module": "@jupyter-widgets/base",
            "_view_module_version": "1.2.0",
            "_view_name": "StyleView",
            "bar_color": null,
            "description_width": ""
          }
        },
        "94819a68a2ad40f0827e66695a033a63": {
          "model_module": "@jupyter-widgets/base",
          "model_name": "LayoutModel",
          "model_module_version": "1.2.0",
          "state": {
            "_model_module": "@jupyter-widgets/base",
            "_model_module_version": "1.2.0",
            "_model_name": "LayoutModel",
            "_view_count": null,
            "_view_module": "@jupyter-widgets/base",
            "_view_module_version": "1.2.0",
            "_view_name": "LayoutView",
            "align_content": null,
            "align_items": null,
            "align_self": null,
            "border": null,
            "bottom": null,
            "display": null,
            "flex": null,
            "flex_flow": null,
            "grid_area": null,
            "grid_auto_columns": null,
            "grid_auto_flow": null,
            "grid_auto_rows": null,
            "grid_column": null,
            "grid_gap": null,
            "grid_row": null,
            "grid_template_areas": null,
            "grid_template_columns": null,
            "grid_template_rows": null,
            "height": null,
            "justify_content": null,
            "justify_items": null,
            "left": null,
            "margin": null,
            "max_height": null,
            "max_width": null,
            "min_height": null,
            "min_width": null,
            "object_fit": null,
            "object_position": null,
            "order": null,
            "overflow": null,
            "overflow_x": null,
            "overflow_y": null,
            "padding": null,
            "right": null,
            "top": null,
            "visibility": null,
            "width": null
          }
        },
        "d22af14b09f14ae59671a814fc360241": {
          "model_module": "@jupyter-widgets/controls",
          "model_name": "DescriptionStyleModel",
          "model_module_version": "1.5.0",
          "state": {
            "_model_module": "@jupyter-widgets/controls",
            "_model_module_version": "1.5.0",
            "_model_name": "DescriptionStyleModel",
            "_view_count": null,
            "_view_module": "@jupyter-widgets/base",
            "_view_module_version": "1.2.0",
            "_view_name": "StyleView",
            "description_width": ""
          }
        },
        "e99a5b484e1c44a981ce833dabf72285": {
          "model_module": "@jupyter-widgets/controls",
          "model_name": "HBoxModel",
          "model_module_version": "1.5.0",
          "state": {
            "_dom_classes": [],
            "_model_module": "@jupyter-widgets/controls",
            "_model_module_version": "1.5.0",
            "_model_name": "HBoxModel",
            "_view_count": null,
            "_view_module": "@jupyter-widgets/controls",
            "_view_module_version": "1.5.0",
            "_view_name": "HBoxView",
            "box_style": "",
            "children": [
              "IPY_MODEL_6dfb03ed3a0e47fdbc78d5b9fe73c4da",
              "IPY_MODEL_8202ac14b3db415283c4699f8352dcac",
              "IPY_MODEL_27113b53b08f492b91043018fb2ca2a7"
            ],
            "layout": "IPY_MODEL_f403ccce0624451ba0dc95d932d78f6d"
          }
        },
        "6dfb03ed3a0e47fdbc78d5b9fe73c4da": {
          "model_module": "@jupyter-widgets/controls",
          "model_name": "HTMLModel",
          "model_module_version": "1.5.0",
          "state": {
            "_dom_classes": [],
            "_model_module": "@jupyter-widgets/controls",
            "_model_module_version": "1.5.0",
            "_model_name": "HTMLModel",
            "_view_count": null,
            "_view_module": "@jupyter-widgets/controls",
            "_view_module_version": "1.5.0",
            "_view_name": "HTMLView",
            "description": "",
            "description_tooltip": null,
            "layout": "IPY_MODEL_a85c388444c148eaa608cacfbfd1fd72",
            "placeholder": "​",
            "style": "IPY_MODEL_cefa5ae26cf642c6841cffd281bd02fa",
            "value": "Downloading data: 100%"
          }
        },
        "8202ac14b3db415283c4699f8352dcac": {
          "model_module": "@jupyter-widgets/controls",
          "model_name": "FloatProgressModel",
          "model_module_version": "1.5.0",
          "state": {
            "_dom_classes": [],
            "_model_module": "@jupyter-widgets/controls",
            "_model_module_version": "1.5.0",
            "_model_name": "FloatProgressModel",
            "_view_count": null,
            "_view_module": "@jupyter-widgets/controls",
            "_view_module_version": "1.5.0",
            "_view_name": "ProgressView",
            "bar_style": "success",
            "description": "",
            "description_tooltip": null,
            "layout": "IPY_MODEL_07cc74987f7d49b5bbe372522ee8f904",
            "max": 33611302,
            "min": 0,
            "orientation": "horizontal",
            "style": "IPY_MODEL_9315acbdfc554017996b15d0045951f1",
            "value": 33611302
          }
        },
        "27113b53b08f492b91043018fb2ca2a7": {
          "model_module": "@jupyter-widgets/controls",
          "model_name": "HTMLModel",
          "model_module_version": "1.5.0",
          "state": {
            "_dom_classes": [],
            "_model_module": "@jupyter-widgets/controls",
            "_model_module_version": "1.5.0",
            "_model_name": "HTMLModel",
            "_view_count": null,
            "_view_module": "@jupyter-widgets/controls",
            "_view_module_version": "1.5.0",
            "_view_name": "HTMLView",
            "description": "",
            "description_tooltip": null,
            "layout": "IPY_MODEL_4b756f263e6d42a7ae76c9866589f42a",
            "placeholder": "​",
            "style": "IPY_MODEL_1c1e8b234b5f44f39085b3139e78cfd2",
            "value": " 33.6M/33.6M [00:00&lt;00:00, 61.5MB/s]"
          }
        },
        "f403ccce0624451ba0dc95d932d78f6d": {
          "model_module": "@jupyter-widgets/base",
          "model_name": "LayoutModel",
          "model_module_version": "1.2.0",
          "state": {
            "_model_module": "@jupyter-widgets/base",
            "_model_module_version": "1.2.0",
            "_model_name": "LayoutModel",
            "_view_count": null,
            "_view_module": "@jupyter-widgets/base",
            "_view_module_version": "1.2.0",
            "_view_name": "LayoutView",
            "align_content": null,
            "align_items": null,
            "align_self": null,
            "border": null,
            "bottom": null,
            "display": null,
            "flex": null,
            "flex_flow": null,
            "grid_area": null,
            "grid_auto_columns": null,
            "grid_auto_flow": null,
            "grid_auto_rows": null,
            "grid_column": null,
            "grid_gap": null,
            "grid_row": null,
            "grid_template_areas": null,
            "grid_template_columns": null,
            "grid_template_rows": null,
            "height": null,
            "justify_content": null,
            "justify_items": null,
            "left": null,
            "margin": null,
            "max_height": null,
            "max_width": null,
            "min_height": null,
            "min_width": null,
            "object_fit": null,
            "object_position": null,
            "order": null,
            "overflow": null,
            "overflow_x": null,
            "overflow_y": null,
            "padding": null,
            "right": null,
            "top": null,
            "visibility": null,
            "width": null
          }
        },
        "a85c388444c148eaa608cacfbfd1fd72": {
          "model_module": "@jupyter-widgets/base",
          "model_name": "LayoutModel",
          "model_module_version": "1.2.0",
          "state": {
            "_model_module": "@jupyter-widgets/base",
            "_model_module_version": "1.2.0",
            "_model_name": "LayoutModel",
            "_view_count": null,
            "_view_module": "@jupyter-widgets/base",
            "_view_module_version": "1.2.0",
            "_view_name": "LayoutView",
            "align_content": null,
            "align_items": null,
            "align_self": null,
            "border": null,
            "bottom": null,
            "display": null,
            "flex": null,
            "flex_flow": null,
            "grid_area": null,
            "grid_auto_columns": null,
            "grid_auto_flow": null,
            "grid_auto_rows": null,
            "grid_column": null,
            "grid_gap": null,
            "grid_row": null,
            "grid_template_areas": null,
            "grid_template_columns": null,
            "grid_template_rows": null,
            "height": null,
            "justify_content": null,
            "justify_items": null,
            "left": null,
            "margin": null,
            "max_height": null,
            "max_width": null,
            "min_height": null,
            "min_width": null,
            "object_fit": null,
            "object_position": null,
            "order": null,
            "overflow": null,
            "overflow_x": null,
            "overflow_y": null,
            "padding": null,
            "right": null,
            "top": null,
            "visibility": null,
            "width": null
          }
        },
        "cefa5ae26cf642c6841cffd281bd02fa": {
          "model_module": "@jupyter-widgets/controls",
          "model_name": "DescriptionStyleModel",
          "model_module_version": "1.5.0",
          "state": {
            "_model_module": "@jupyter-widgets/controls",
            "_model_module_version": "1.5.0",
            "_model_name": "DescriptionStyleModel",
            "_view_count": null,
            "_view_module": "@jupyter-widgets/base",
            "_view_module_version": "1.2.0",
            "_view_name": "StyleView",
            "description_width": ""
          }
        },
        "07cc74987f7d49b5bbe372522ee8f904": {
          "model_module": "@jupyter-widgets/base",
          "model_name": "LayoutModel",
          "model_module_version": "1.2.0",
          "state": {
            "_model_module": "@jupyter-widgets/base",
            "_model_module_version": "1.2.0",
            "_model_name": "LayoutModel",
            "_view_count": null,
            "_view_module": "@jupyter-widgets/base",
            "_view_module_version": "1.2.0",
            "_view_name": "LayoutView",
            "align_content": null,
            "align_items": null,
            "align_self": null,
            "border": null,
            "bottom": null,
            "display": null,
            "flex": null,
            "flex_flow": null,
            "grid_area": null,
            "grid_auto_columns": null,
            "grid_auto_flow": null,
            "grid_auto_rows": null,
            "grid_column": null,
            "grid_gap": null,
            "grid_row": null,
            "grid_template_areas": null,
            "grid_template_columns": null,
            "grid_template_rows": null,
            "height": null,
            "justify_content": null,
            "justify_items": null,
            "left": null,
            "margin": null,
            "max_height": null,
            "max_width": null,
            "min_height": null,
            "min_width": null,
            "object_fit": null,
            "object_position": null,
            "order": null,
            "overflow": null,
            "overflow_x": null,
            "overflow_y": null,
            "padding": null,
            "right": null,
            "top": null,
            "visibility": null,
            "width": null
          }
        },
        "9315acbdfc554017996b15d0045951f1": {
          "model_module": "@jupyter-widgets/controls",
          "model_name": "ProgressStyleModel",
          "model_module_version": "1.5.0",
          "state": {
            "_model_module": "@jupyter-widgets/controls",
            "_model_module_version": "1.5.0",
            "_model_name": "ProgressStyleModel",
            "_view_count": null,
            "_view_module": "@jupyter-widgets/base",
            "_view_module_version": "1.2.0",
            "_view_name": "StyleView",
            "bar_color": null,
            "description_width": ""
          }
        },
        "4b756f263e6d42a7ae76c9866589f42a": {
          "model_module": "@jupyter-widgets/base",
          "model_name": "LayoutModel",
          "model_module_version": "1.2.0",
          "state": {
            "_model_module": "@jupyter-widgets/base",
            "_model_module_version": "1.2.0",
            "_model_name": "LayoutModel",
            "_view_count": null,
            "_view_module": "@jupyter-widgets/base",
            "_view_module_version": "1.2.0",
            "_view_name": "LayoutView",
            "align_content": null,
            "align_items": null,
            "align_self": null,
            "border": null,
            "bottom": null,
            "display": null,
            "flex": null,
            "flex_flow": null,
            "grid_area": null,
            "grid_auto_columns": null,
            "grid_auto_flow": null,
            "grid_auto_rows": null,
            "grid_column": null,
            "grid_gap": null,
            "grid_row": null,
            "grid_template_areas": null,
            "grid_template_columns": null,
            "grid_template_rows": null,
            "height": null,
            "justify_content": null,
            "justify_items": null,
            "left": null,
            "margin": null,
            "max_height": null,
            "max_width": null,
            "min_height": null,
            "min_width": null,
            "object_fit": null,
            "object_position": null,
            "order": null,
            "overflow": null,
            "overflow_x": null,
            "overflow_y": null,
            "padding": null,
            "right": null,
            "top": null,
            "visibility": null,
            "width": null
          }
        },
        "1c1e8b234b5f44f39085b3139e78cfd2": {
          "model_module": "@jupyter-widgets/controls",
          "model_name": "DescriptionStyleModel",
          "model_module_version": "1.5.0",
          "state": {
            "_model_module": "@jupyter-widgets/controls",
            "_model_module_version": "1.5.0",
            "_model_name": "DescriptionStyleModel",
            "_view_count": null,
            "_view_module": "@jupyter-widgets/base",
            "_view_module_version": "1.2.0",
            "_view_name": "StyleView",
            "description_width": ""
          }
        },
        "d0bd956b22f2451b8bd2d3a114a956c2": {
          "model_module": "@jupyter-widgets/controls",
          "model_name": "HBoxModel",
          "model_module_version": "1.5.0",
          "state": {
            "_dom_classes": [],
            "_model_module": "@jupyter-widgets/controls",
            "_model_module_version": "1.5.0",
            "_model_name": "HBoxModel",
            "_view_count": null,
            "_view_module": "@jupyter-widgets/controls",
            "_view_module_version": "1.5.0",
            "_view_name": "HBoxView",
            "box_style": "",
            "children": [
              "IPY_MODEL_ff01da4b84734f07aa8d9b1c3a76bbc6",
              "IPY_MODEL_c2b922de9a3c4631bb117610ba152d8b",
              "IPY_MODEL_c11cacda4d6c4c2d9e61b446832139c0"
            ],
            "layout": "IPY_MODEL_f76d4174996a4ee8bcd5bd39a6862dcb"
          }
        },
        "ff01da4b84734f07aa8d9b1c3a76bbc6": {
          "model_module": "@jupyter-widgets/controls",
          "model_name": "HTMLModel",
          "model_module_version": "1.5.0",
          "state": {
            "_dom_classes": [],
            "_model_module": "@jupyter-widgets/controls",
            "_model_module_version": "1.5.0",
            "_model_name": "HTMLModel",
            "_view_count": null,
            "_view_module": "@jupyter-widgets/controls",
            "_view_module_version": "1.5.0",
            "_view_name": "HTMLView",
            "description": "",
            "description_tooltip": null,
            "layout": "IPY_MODEL_1a3baf7a65ef4b7aad990c7049ab35dd",
            "placeholder": "​",
            "style": "IPY_MODEL_48e61b864f4b457391f080b22375f551",
            "value": "Downloading data: 100%"
          }
        },
        "c2b922de9a3c4631bb117610ba152d8b": {
          "model_module": "@jupyter-widgets/controls",
          "model_name": "FloatProgressModel",
          "model_module_version": "1.5.0",
          "state": {
            "_dom_classes": [],
            "_model_module": "@jupyter-widgets/controls",
            "_model_module_version": "1.5.0",
            "_model_name": "FloatProgressModel",
            "_view_count": null,
            "_view_module": "@jupyter-widgets/controls",
            "_view_module_version": "1.5.0",
            "_view_name": "ProgressView",
            "bar_style": "success",
            "description": "",
            "description_tooltip": null,
            "layout": "IPY_MODEL_d303cb9730024a0aa0643a72b95a53dd",
            "max": 131932617,
            "min": 0,
            "orientation": "horizontal",
            "style": "IPY_MODEL_39949d472ec74a89b1da0625e6f1440b",
            "value": 131932617
          }
        },
        "c11cacda4d6c4c2d9e61b446832139c0": {
          "model_module": "@jupyter-widgets/controls",
          "model_name": "HTMLModel",
          "model_module_version": "1.5.0",
          "state": {
            "_dom_classes": [],
            "_model_module": "@jupyter-widgets/controls",
            "_model_module_version": "1.5.0",
            "_model_name": "HTMLModel",
            "_view_count": null,
            "_view_module": "@jupyter-widgets/controls",
            "_view_module_version": "1.5.0",
            "_view_name": "HTMLView",
            "description": "",
            "description_tooltip": null,
            "layout": "IPY_MODEL_5ccfd5e6c16c4eb9ae85de5141577e96",
            "placeholder": "​",
            "style": "IPY_MODEL_07d25db10b9a4705a6e8f59285c5d6db",
            "value": " 132M/132M [00:02&lt;00:00, 65.1MB/s]"
          }
        },
        "f76d4174996a4ee8bcd5bd39a6862dcb": {
          "model_module": "@jupyter-widgets/base",
          "model_name": "LayoutModel",
          "model_module_version": "1.2.0",
          "state": {
            "_model_module": "@jupyter-widgets/base",
            "_model_module_version": "1.2.0",
            "_model_name": "LayoutModel",
            "_view_count": null,
            "_view_module": "@jupyter-widgets/base",
            "_view_module_version": "1.2.0",
            "_view_name": "LayoutView",
            "align_content": null,
            "align_items": null,
            "align_self": null,
            "border": null,
            "bottom": null,
            "display": null,
            "flex": null,
            "flex_flow": null,
            "grid_area": null,
            "grid_auto_columns": null,
            "grid_auto_flow": null,
            "grid_auto_rows": null,
            "grid_column": null,
            "grid_gap": null,
            "grid_row": null,
            "grid_template_areas": null,
            "grid_template_columns": null,
            "grid_template_rows": null,
            "height": null,
            "justify_content": null,
            "justify_items": null,
            "left": null,
            "margin": null,
            "max_height": null,
            "max_width": null,
            "min_height": null,
            "min_width": null,
            "object_fit": null,
            "object_position": null,
            "order": null,
            "overflow": null,
            "overflow_x": null,
            "overflow_y": null,
            "padding": null,
            "right": null,
            "top": null,
            "visibility": null,
            "width": null
          }
        },
        "1a3baf7a65ef4b7aad990c7049ab35dd": {
          "model_module": "@jupyter-widgets/base",
          "model_name": "LayoutModel",
          "model_module_version": "1.2.0",
          "state": {
            "_model_module": "@jupyter-widgets/base",
            "_model_module_version": "1.2.0",
            "_model_name": "LayoutModel",
            "_view_count": null,
            "_view_module": "@jupyter-widgets/base",
            "_view_module_version": "1.2.0",
            "_view_name": "LayoutView",
            "align_content": null,
            "align_items": null,
            "align_self": null,
            "border": null,
            "bottom": null,
            "display": null,
            "flex": null,
            "flex_flow": null,
            "grid_area": null,
            "grid_auto_columns": null,
            "grid_auto_flow": null,
            "grid_auto_rows": null,
            "grid_column": null,
            "grid_gap": null,
            "grid_row": null,
            "grid_template_areas": null,
            "grid_template_columns": null,
            "grid_template_rows": null,
            "height": null,
            "justify_content": null,
            "justify_items": null,
            "left": null,
            "margin": null,
            "max_height": null,
            "max_width": null,
            "min_height": null,
            "min_width": null,
            "object_fit": null,
            "object_position": null,
            "order": null,
            "overflow": null,
            "overflow_x": null,
            "overflow_y": null,
            "padding": null,
            "right": null,
            "top": null,
            "visibility": null,
            "width": null
          }
        },
        "48e61b864f4b457391f080b22375f551": {
          "model_module": "@jupyter-widgets/controls",
          "model_name": "DescriptionStyleModel",
          "model_module_version": "1.5.0",
          "state": {
            "_model_module": "@jupyter-widgets/controls",
            "_model_module_version": "1.5.0",
            "_model_name": "DescriptionStyleModel",
            "_view_count": null,
            "_view_module": "@jupyter-widgets/base",
            "_view_module_version": "1.2.0",
            "_view_name": "StyleView",
            "description_width": ""
          }
        },
        "d303cb9730024a0aa0643a72b95a53dd": {
          "model_module": "@jupyter-widgets/base",
          "model_name": "LayoutModel",
          "model_module_version": "1.2.0",
          "state": {
            "_model_module": "@jupyter-widgets/base",
            "_model_module_version": "1.2.0",
            "_model_name": "LayoutModel",
            "_view_count": null,
            "_view_module": "@jupyter-widgets/base",
            "_view_module_version": "1.2.0",
            "_view_name": "LayoutView",
            "align_content": null,
            "align_items": null,
            "align_self": null,
            "border": null,
            "bottom": null,
            "display": null,
            "flex": null,
            "flex_flow": null,
            "grid_area": null,
            "grid_auto_columns": null,
            "grid_auto_flow": null,
            "grid_auto_rows": null,
            "grid_column": null,
            "grid_gap": null,
            "grid_row": null,
            "grid_template_areas": null,
            "grid_template_columns": null,
            "grid_template_rows": null,
            "height": null,
            "justify_content": null,
            "justify_items": null,
            "left": null,
            "margin": null,
            "max_height": null,
            "max_width": null,
            "min_height": null,
            "min_width": null,
            "object_fit": null,
            "object_position": null,
            "order": null,
            "overflow": null,
            "overflow_x": null,
            "overflow_y": null,
            "padding": null,
            "right": null,
            "top": null,
            "visibility": null,
            "width": null
          }
        },
        "39949d472ec74a89b1da0625e6f1440b": {
          "model_module": "@jupyter-widgets/controls",
          "model_name": "ProgressStyleModel",
          "model_module_version": "1.5.0",
          "state": {
            "_model_module": "@jupyter-widgets/controls",
            "_model_module_version": "1.5.0",
            "_model_name": "ProgressStyleModel",
            "_view_count": null,
            "_view_module": "@jupyter-widgets/base",
            "_view_module_version": "1.2.0",
            "_view_name": "StyleView",
            "bar_color": null,
            "description_width": ""
          }
        },
        "5ccfd5e6c16c4eb9ae85de5141577e96": {
          "model_module": "@jupyter-widgets/base",
          "model_name": "LayoutModel",
          "model_module_version": "1.2.0",
          "state": {
            "_model_module": "@jupyter-widgets/base",
            "_model_module_version": "1.2.0",
            "_model_name": "LayoutModel",
            "_view_count": null,
            "_view_module": "@jupyter-widgets/base",
            "_view_module_version": "1.2.0",
            "_view_name": "LayoutView",
            "align_content": null,
            "align_items": null,
            "align_self": null,
            "border": null,
            "bottom": null,
            "display": null,
            "flex": null,
            "flex_flow": null,
            "grid_area": null,
            "grid_auto_columns": null,
            "grid_auto_flow": null,
            "grid_auto_rows": null,
            "grid_column": null,
            "grid_gap": null,
            "grid_row": null,
            "grid_template_areas": null,
            "grid_template_columns": null,
            "grid_template_rows": null,
            "height": null,
            "justify_content": null,
            "justify_items": null,
            "left": null,
            "margin": null,
            "max_height": null,
            "max_width": null,
            "min_height": null,
            "min_width": null,
            "object_fit": null,
            "object_position": null,
            "order": null,
            "overflow": null,
            "overflow_x": null,
            "overflow_y": null,
            "padding": null,
            "right": null,
            "top": null,
            "visibility": null,
            "width": null
          }
        },
        "07d25db10b9a4705a6e8f59285c5d6db": {
          "model_module": "@jupyter-widgets/controls",
          "model_name": "DescriptionStyleModel",
          "model_module_version": "1.5.0",
          "state": {
            "_model_module": "@jupyter-widgets/controls",
            "_model_module_version": "1.5.0",
            "_model_name": "DescriptionStyleModel",
            "_view_count": null,
            "_view_module": "@jupyter-widgets/base",
            "_view_module_version": "1.2.0",
            "_view_name": "StyleView",
            "description_width": ""
          }
        },
        "4935d4a95aee4ef8b18a3f26ec37c89e": {
          "model_module": "@jupyter-widgets/controls",
          "model_name": "HBoxModel",
          "model_module_version": "1.5.0",
          "state": {
            "_dom_classes": [],
            "_model_module": "@jupyter-widgets/controls",
            "_model_module_version": "1.5.0",
            "_model_name": "HBoxModel",
            "_view_count": null,
            "_view_module": "@jupyter-widgets/controls",
            "_view_module_version": "1.5.0",
            "_view_name": "HBoxView",
            "box_style": "",
            "children": [
              "IPY_MODEL_7ef09891141b4d23a2f1183bdda26471",
              "IPY_MODEL_35104ed5b7e549c89286f298817d08d2",
              "IPY_MODEL_4ae23a4fe2c344ba80cb3475f286c6b6"
            ],
            "layout": "IPY_MODEL_4261bf44a2054a8282d022a2fd6e0440"
          }
        },
        "7ef09891141b4d23a2f1183bdda26471": {
          "model_module": "@jupyter-widgets/controls",
          "model_name": "HTMLModel",
          "model_module_version": "1.5.0",
          "state": {
            "_dom_classes": [],
            "_model_module": "@jupyter-widgets/controls",
            "_model_module_version": "1.5.0",
            "_model_name": "HTMLModel",
            "_view_count": null,
            "_view_module": "@jupyter-widgets/controls",
            "_view_module_version": "1.5.0",
            "_view_name": "HTMLView",
            "description": "",
            "description_tooltip": null,
            "layout": "IPY_MODEL_178d62462a8f46aa870df3101e966c31",
            "placeholder": "​",
            "style": "IPY_MODEL_eaa4392ec09841aba2364dcd2ea04c03",
            "value": "Extracting data files: 100%"
          }
        },
        "35104ed5b7e549c89286f298817d08d2": {
          "model_module": "@jupyter-widgets/controls",
          "model_name": "FloatProgressModel",
          "model_module_version": "1.5.0",
          "state": {
            "_dom_classes": [],
            "_model_module": "@jupyter-widgets/controls",
            "_model_module_version": "1.5.0",
            "_model_name": "FloatProgressModel",
            "_view_count": null,
            "_view_module": "@jupyter-widgets/controls",
            "_view_module_version": "1.5.0",
            "_view_name": "ProgressView",
            "bar_style": "success",
            "description": "",
            "description_tooltip": null,
            "layout": "IPY_MODEL_c948fd824f82492c89e64b0fe6ccc6bb",
            "max": 2,
            "min": 0,
            "orientation": "horizontal",
            "style": "IPY_MODEL_00efbe436371471bb80a5cc9b76dea09",
            "value": 2
          }
        },
        "4ae23a4fe2c344ba80cb3475f286c6b6": {
          "model_module": "@jupyter-widgets/controls",
          "model_name": "HTMLModel",
          "model_module_version": "1.5.0",
          "state": {
            "_dom_classes": [],
            "_model_module": "@jupyter-widgets/controls",
            "_model_module_version": "1.5.0",
            "_model_name": "HTMLModel",
            "_view_count": null,
            "_view_module": "@jupyter-widgets/controls",
            "_view_module_version": "1.5.0",
            "_view_name": "HTMLView",
            "description": "",
            "description_tooltip": null,
            "layout": "IPY_MODEL_80781d01419a49de9b25032c39d8cb2f",
            "placeholder": "​",
            "style": "IPY_MODEL_3e43cbd5d5f548a4923f2dbe14039a96",
            "value": " 2/2 [00:00&lt;00:00, 65.92it/s]"
          }
        },
        "4261bf44a2054a8282d022a2fd6e0440": {
          "model_module": "@jupyter-widgets/base",
          "model_name": "LayoutModel",
          "model_module_version": "1.2.0",
          "state": {
            "_model_module": "@jupyter-widgets/base",
            "_model_module_version": "1.2.0",
            "_model_name": "LayoutModel",
            "_view_count": null,
            "_view_module": "@jupyter-widgets/base",
            "_view_module_version": "1.2.0",
            "_view_name": "LayoutView",
            "align_content": null,
            "align_items": null,
            "align_self": null,
            "border": null,
            "bottom": null,
            "display": null,
            "flex": null,
            "flex_flow": null,
            "grid_area": null,
            "grid_auto_columns": null,
            "grid_auto_flow": null,
            "grid_auto_rows": null,
            "grid_column": null,
            "grid_gap": null,
            "grid_row": null,
            "grid_template_areas": null,
            "grid_template_columns": null,
            "grid_template_rows": null,
            "height": null,
            "justify_content": null,
            "justify_items": null,
            "left": null,
            "margin": null,
            "max_height": null,
            "max_width": null,
            "min_height": null,
            "min_width": null,
            "object_fit": null,
            "object_position": null,
            "order": null,
            "overflow": null,
            "overflow_x": null,
            "overflow_y": null,
            "padding": null,
            "right": null,
            "top": null,
            "visibility": null,
            "width": null
          }
        },
        "178d62462a8f46aa870df3101e966c31": {
          "model_module": "@jupyter-widgets/base",
          "model_name": "LayoutModel",
          "model_module_version": "1.2.0",
          "state": {
            "_model_module": "@jupyter-widgets/base",
            "_model_module_version": "1.2.0",
            "_model_name": "LayoutModel",
            "_view_count": null,
            "_view_module": "@jupyter-widgets/base",
            "_view_module_version": "1.2.0",
            "_view_name": "LayoutView",
            "align_content": null,
            "align_items": null,
            "align_self": null,
            "border": null,
            "bottom": null,
            "display": null,
            "flex": null,
            "flex_flow": null,
            "grid_area": null,
            "grid_auto_columns": null,
            "grid_auto_flow": null,
            "grid_auto_rows": null,
            "grid_column": null,
            "grid_gap": null,
            "grid_row": null,
            "grid_template_areas": null,
            "grid_template_columns": null,
            "grid_template_rows": null,
            "height": null,
            "justify_content": null,
            "justify_items": null,
            "left": null,
            "margin": null,
            "max_height": null,
            "max_width": null,
            "min_height": null,
            "min_width": null,
            "object_fit": null,
            "object_position": null,
            "order": null,
            "overflow": null,
            "overflow_x": null,
            "overflow_y": null,
            "padding": null,
            "right": null,
            "top": null,
            "visibility": null,
            "width": null
          }
        },
        "eaa4392ec09841aba2364dcd2ea04c03": {
          "model_module": "@jupyter-widgets/controls",
          "model_name": "DescriptionStyleModel",
          "model_module_version": "1.5.0",
          "state": {
            "_model_module": "@jupyter-widgets/controls",
            "_model_module_version": "1.5.0",
            "_model_name": "DescriptionStyleModel",
            "_view_count": null,
            "_view_module": "@jupyter-widgets/base",
            "_view_module_version": "1.2.0",
            "_view_name": "StyleView",
            "description_width": ""
          }
        },
        "c948fd824f82492c89e64b0fe6ccc6bb": {
          "model_module": "@jupyter-widgets/base",
          "model_name": "LayoutModel",
          "model_module_version": "1.2.0",
          "state": {
            "_model_module": "@jupyter-widgets/base",
            "_model_module_version": "1.2.0",
            "_model_name": "LayoutModel",
            "_view_count": null,
            "_view_module": "@jupyter-widgets/base",
            "_view_module_version": "1.2.0",
            "_view_name": "LayoutView",
            "align_content": null,
            "align_items": null,
            "align_self": null,
            "border": null,
            "bottom": null,
            "display": null,
            "flex": null,
            "flex_flow": null,
            "grid_area": null,
            "grid_auto_columns": null,
            "grid_auto_flow": null,
            "grid_auto_rows": null,
            "grid_column": null,
            "grid_gap": null,
            "grid_row": null,
            "grid_template_areas": null,
            "grid_template_columns": null,
            "grid_template_rows": null,
            "height": null,
            "justify_content": null,
            "justify_items": null,
            "left": null,
            "margin": null,
            "max_height": null,
            "max_width": null,
            "min_height": null,
            "min_width": null,
            "object_fit": null,
            "object_position": null,
            "order": null,
            "overflow": null,
            "overflow_x": null,
            "overflow_y": null,
            "padding": null,
            "right": null,
            "top": null,
            "visibility": null,
            "width": null
          }
        },
        "00efbe436371471bb80a5cc9b76dea09": {
          "model_module": "@jupyter-widgets/controls",
          "model_name": "ProgressStyleModel",
          "model_module_version": "1.5.0",
          "state": {
            "_model_module": "@jupyter-widgets/controls",
            "_model_module_version": "1.5.0",
            "_model_name": "ProgressStyleModel",
            "_view_count": null,
            "_view_module": "@jupyter-widgets/base",
            "_view_module_version": "1.2.0",
            "_view_name": "StyleView",
            "bar_color": null,
            "description_width": ""
          }
        },
        "80781d01419a49de9b25032c39d8cb2f": {
          "model_module": "@jupyter-widgets/base",
          "model_name": "LayoutModel",
          "model_module_version": "1.2.0",
          "state": {
            "_model_module": "@jupyter-widgets/base",
            "_model_module_version": "1.2.0",
            "_model_name": "LayoutModel",
            "_view_count": null,
            "_view_module": "@jupyter-widgets/base",
            "_view_module_version": "1.2.0",
            "_view_name": "LayoutView",
            "align_content": null,
            "align_items": null,
            "align_self": null,
            "border": null,
            "bottom": null,
            "display": null,
            "flex": null,
            "flex_flow": null,
            "grid_area": null,
            "grid_auto_columns": null,
            "grid_auto_flow": null,
            "grid_auto_rows": null,
            "grid_column": null,
            "grid_gap": null,
            "grid_row": null,
            "grid_template_areas": null,
            "grid_template_columns": null,
            "grid_template_rows": null,
            "height": null,
            "justify_content": null,
            "justify_items": null,
            "left": null,
            "margin": null,
            "max_height": null,
            "max_width": null,
            "min_height": null,
            "min_width": null,
            "object_fit": null,
            "object_position": null,
            "order": null,
            "overflow": null,
            "overflow_x": null,
            "overflow_y": null,
            "padding": null,
            "right": null,
            "top": null,
            "visibility": null,
            "width": null
          }
        },
        "3e43cbd5d5f548a4923f2dbe14039a96": {
          "model_module": "@jupyter-widgets/controls",
          "model_name": "DescriptionStyleModel",
          "model_module_version": "1.5.0",
          "state": {
            "_model_module": "@jupyter-widgets/controls",
            "_model_module_version": "1.5.0",
            "_model_name": "DescriptionStyleModel",
            "_view_count": null,
            "_view_module": "@jupyter-widgets/base",
            "_view_module_version": "1.2.0",
            "_view_name": "StyleView",
            "description_width": ""
          }
        },
        "2462a9769f57464f80b8c1575f5cc754": {
          "model_module": "@jupyter-widgets/controls",
          "model_name": "HBoxModel",
          "model_module_version": "1.5.0",
          "state": {
            "_dom_classes": [],
            "_model_module": "@jupyter-widgets/controls",
            "_model_module_version": "1.5.0",
            "_model_name": "HBoxModel",
            "_view_count": null,
            "_view_module": "@jupyter-widgets/controls",
            "_view_module_version": "1.5.0",
            "_view_name": "HBoxView",
            "box_style": "",
            "children": [
              "IPY_MODEL_4b4f37838b894e7cb9f4aea21d1e4b3a",
              "IPY_MODEL_29cfb13e2d664b2089632d13962979d5",
              "IPY_MODEL_5420a150d7794a789db27af99444f7f7"
            ],
            "layout": "IPY_MODEL_0655607be0d946bb9229650bb6be732a"
          }
        },
        "4b4f37838b894e7cb9f4aea21d1e4b3a": {
          "model_module": "@jupyter-widgets/controls",
          "model_name": "HTMLModel",
          "model_module_version": "1.5.0",
          "state": {
            "_dom_classes": [],
            "_model_module": "@jupyter-widgets/controls",
            "_model_module_version": "1.5.0",
            "_model_name": "HTMLModel",
            "_view_count": null,
            "_view_module": "@jupyter-widgets/controls",
            "_view_module_version": "1.5.0",
            "_view_name": "HTMLView",
            "description": "",
            "description_tooltip": null,
            "layout": "IPY_MODEL_0ed4ec7bf67f4846bc1fe694f45f4326",
            "placeholder": "​",
            "style": "IPY_MODEL_c130610d396347b9a0eabfb37f95431a",
            "value": ""
          }
        },
        "29cfb13e2d664b2089632d13962979d5": {
          "model_module": "@jupyter-widgets/controls",
          "model_name": "FloatProgressModel",
          "model_module_version": "1.5.0",
          "state": {
            "_dom_classes": [],
            "_model_module": "@jupyter-widgets/controls",
            "_model_module_version": "1.5.0",
            "_model_name": "FloatProgressModel",
            "_view_count": null,
            "_view_module": "@jupyter-widgets/controls",
            "_view_module_version": "1.5.0",
            "_view_name": "ProgressView",
            "bar_style": "info",
            "description": "",
            "description_tooltip": null,
            "layout": "IPY_MODEL_9d17ab2fd88e4f1ba0823d44717c488a",
            "max": 1,
            "min": 0,
            "orientation": "horizontal",
            "style": "IPY_MODEL_87a08bd3614f4dd6a3a70d423d03eb21",
            "value": 1
          }
        },
        "5420a150d7794a789db27af99444f7f7": {
          "model_module": "@jupyter-widgets/controls",
          "model_name": "HTMLModel",
          "model_module_version": "1.5.0",
          "state": {
            "_dom_classes": [],
            "_model_module": "@jupyter-widgets/controls",
            "_model_module_version": "1.5.0",
            "_model_name": "HTMLModel",
            "_view_count": null,
            "_view_module": "@jupyter-widgets/controls",
            "_view_module_version": "1.5.0",
            "_view_name": "HTMLView",
            "description": "",
            "description_tooltip": null,
            "layout": "IPY_MODEL_b9459f4beb9841ddaba6fc2cd85ace18",
            "placeholder": "​",
            "style": "IPY_MODEL_e1ccc760a5b340329203b3f090007b0e",
            "value": " 1/? [00:00&lt;00:00,  3.52 tables/s]"
          }
        },
        "0655607be0d946bb9229650bb6be732a": {
          "model_module": "@jupyter-widgets/base",
          "model_name": "LayoutModel",
          "model_module_version": "1.2.0",
          "state": {
            "_model_module": "@jupyter-widgets/base",
            "_model_module_version": "1.2.0",
            "_model_name": "LayoutModel",
            "_view_count": null,
            "_view_module": "@jupyter-widgets/base",
            "_view_module_version": "1.2.0",
            "_view_name": "LayoutView",
            "align_content": null,
            "align_items": null,
            "align_self": null,
            "border": null,
            "bottom": null,
            "display": null,
            "flex": null,
            "flex_flow": null,
            "grid_area": null,
            "grid_auto_columns": null,
            "grid_auto_flow": null,
            "grid_auto_rows": null,
            "grid_column": null,
            "grid_gap": null,
            "grid_row": null,
            "grid_template_areas": null,
            "grid_template_columns": null,
            "grid_template_rows": null,
            "height": null,
            "justify_content": null,
            "justify_items": null,
            "left": null,
            "margin": null,
            "max_height": null,
            "max_width": null,
            "min_height": null,
            "min_width": null,
            "object_fit": null,
            "object_position": null,
            "order": null,
            "overflow": null,
            "overflow_x": null,
            "overflow_y": null,
            "padding": null,
            "right": null,
            "top": null,
            "visibility": null,
            "width": null
          }
        },
        "0ed4ec7bf67f4846bc1fe694f45f4326": {
          "model_module": "@jupyter-widgets/base",
          "model_name": "LayoutModel",
          "model_module_version": "1.2.0",
          "state": {
            "_model_module": "@jupyter-widgets/base",
            "_model_module_version": "1.2.0",
            "_model_name": "LayoutModel",
            "_view_count": null,
            "_view_module": "@jupyter-widgets/base",
            "_view_module_version": "1.2.0",
            "_view_name": "LayoutView",
            "align_content": null,
            "align_items": null,
            "align_self": null,
            "border": null,
            "bottom": null,
            "display": null,
            "flex": null,
            "flex_flow": null,
            "grid_area": null,
            "grid_auto_columns": null,
            "grid_auto_flow": null,
            "grid_auto_rows": null,
            "grid_column": null,
            "grid_gap": null,
            "grid_row": null,
            "grid_template_areas": null,
            "grid_template_columns": null,
            "grid_template_rows": null,
            "height": null,
            "justify_content": null,
            "justify_items": null,
            "left": null,
            "margin": null,
            "max_height": null,
            "max_width": null,
            "min_height": null,
            "min_width": null,
            "object_fit": null,
            "object_position": null,
            "order": null,
            "overflow": null,
            "overflow_x": null,
            "overflow_y": null,
            "padding": null,
            "right": null,
            "top": null,
            "visibility": null,
            "width": null
          }
        },
        "c130610d396347b9a0eabfb37f95431a": {
          "model_module": "@jupyter-widgets/controls",
          "model_name": "DescriptionStyleModel",
          "model_module_version": "1.5.0",
          "state": {
            "_model_module": "@jupyter-widgets/controls",
            "_model_module_version": "1.5.0",
            "_model_name": "DescriptionStyleModel",
            "_view_count": null,
            "_view_module": "@jupyter-widgets/base",
            "_view_module_version": "1.2.0",
            "_view_name": "StyleView",
            "description_width": ""
          }
        },
        "9d17ab2fd88e4f1ba0823d44717c488a": {
          "model_module": "@jupyter-widgets/base",
          "model_name": "LayoutModel",
          "model_module_version": "1.2.0",
          "state": {
            "_model_module": "@jupyter-widgets/base",
            "_model_module_version": "1.2.0",
            "_model_name": "LayoutModel",
            "_view_count": null,
            "_view_module": "@jupyter-widgets/base",
            "_view_module_version": "1.2.0",
            "_view_name": "LayoutView",
            "align_content": null,
            "align_items": null,
            "align_self": null,
            "border": null,
            "bottom": null,
            "display": null,
            "flex": null,
            "flex_flow": null,
            "grid_area": null,
            "grid_auto_columns": null,
            "grid_auto_flow": null,
            "grid_auto_rows": null,
            "grid_column": null,
            "grid_gap": null,
            "grid_row": null,
            "grid_template_areas": null,
            "grid_template_columns": null,
            "grid_template_rows": null,
            "height": null,
            "justify_content": null,
            "justify_items": null,
            "left": null,
            "margin": null,
            "max_height": null,
            "max_width": null,
            "min_height": null,
            "min_width": null,
            "object_fit": null,
            "object_position": null,
            "order": null,
            "overflow": null,
            "overflow_x": null,
            "overflow_y": null,
            "padding": null,
            "right": null,
            "top": null,
            "visibility": null,
            "width": "20px"
          }
        },
        "87a08bd3614f4dd6a3a70d423d03eb21": {
          "model_module": "@jupyter-widgets/controls",
          "model_name": "ProgressStyleModel",
          "model_module_version": "1.5.0",
          "state": {
            "_model_module": "@jupyter-widgets/controls",
            "_model_module_version": "1.5.0",
            "_model_name": "ProgressStyleModel",
            "_view_count": null,
            "_view_module": "@jupyter-widgets/base",
            "_view_module_version": "1.2.0",
            "_view_name": "StyleView",
            "bar_color": null,
            "description_width": ""
          }
        },
        "b9459f4beb9841ddaba6fc2cd85ace18": {
          "model_module": "@jupyter-widgets/base",
          "model_name": "LayoutModel",
          "model_module_version": "1.2.0",
          "state": {
            "_model_module": "@jupyter-widgets/base",
            "_model_module_version": "1.2.0",
            "_model_name": "LayoutModel",
            "_view_count": null,
            "_view_module": "@jupyter-widgets/base",
            "_view_module_version": "1.2.0",
            "_view_name": "LayoutView",
            "align_content": null,
            "align_items": null,
            "align_self": null,
            "border": null,
            "bottom": null,
            "display": null,
            "flex": null,
            "flex_flow": null,
            "grid_area": null,
            "grid_auto_columns": null,
            "grid_auto_flow": null,
            "grid_auto_rows": null,
            "grid_column": null,
            "grid_gap": null,
            "grid_row": null,
            "grid_template_areas": null,
            "grid_template_columns": null,
            "grid_template_rows": null,
            "height": null,
            "justify_content": null,
            "justify_items": null,
            "left": null,
            "margin": null,
            "max_height": null,
            "max_width": null,
            "min_height": null,
            "min_width": null,
            "object_fit": null,
            "object_position": null,
            "order": null,
            "overflow": null,
            "overflow_x": null,
            "overflow_y": null,
            "padding": null,
            "right": null,
            "top": null,
            "visibility": null,
            "width": null
          }
        },
        "e1ccc760a5b340329203b3f090007b0e": {
          "model_module": "@jupyter-widgets/controls",
          "model_name": "DescriptionStyleModel",
          "model_module_version": "1.5.0",
          "state": {
            "_model_module": "@jupyter-widgets/controls",
            "_model_module_version": "1.5.0",
            "_model_name": "DescriptionStyleModel",
            "_view_count": null,
            "_view_module": "@jupyter-widgets/base",
            "_view_module_version": "1.2.0",
            "_view_name": "StyleView",
            "description_width": ""
          }
        },
        "88e5ecd21d534a268ee14a29a6af4144": {
          "model_module": "@jupyter-widgets/controls",
          "model_name": "HBoxModel",
          "model_module_version": "1.5.0",
          "state": {
            "_dom_classes": [],
            "_model_module": "@jupyter-widgets/controls",
            "_model_module_version": "1.5.0",
            "_model_name": "HBoxModel",
            "_view_count": null,
            "_view_module": "@jupyter-widgets/controls",
            "_view_module_version": "1.5.0",
            "_view_name": "HBoxView",
            "box_style": "",
            "children": [
              "IPY_MODEL_44113d710a7245b298b7879abb42d5b0",
              "IPY_MODEL_8a4ba89fba284fa086637b6cb455e815",
              "IPY_MODEL_195afe711a444ef3a0143d749b96279f"
            ],
            "layout": "IPY_MODEL_8d2558d372c34372b81c8f426d631c62"
          }
        },
        "44113d710a7245b298b7879abb42d5b0": {
          "model_module": "@jupyter-widgets/controls",
          "model_name": "HTMLModel",
          "model_module_version": "1.5.0",
          "state": {
            "_dom_classes": [],
            "_model_module": "@jupyter-widgets/controls",
            "_model_module_version": "1.5.0",
            "_model_name": "HTMLModel",
            "_view_count": null,
            "_view_module": "@jupyter-widgets/controls",
            "_view_module_version": "1.5.0",
            "_view_name": "HTMLView",
            "description": "",
            "description_tooltip": null,
            "layout": "IPY_MODEL_9ffecea0abc54453b4d1d6e88d14087b",
            "placeholder": "​",
            "style": "IPY_MODEL_c680d2f5f90d4a5cbbab33fcb303ccad",
            "value": ""
          }
        },
        "8a4ba89fba284fa086637b6cb455e815": {
          "model_module": "@jupyter-widgets/controls",
          "model_name": "FloatProgressModel",
          "model_module_version": "1.5.0",
          "state": {
            "_dom_classes": [],
            "_model_module": "@jupyter-widgets/controls",
            "_model_module_version": "1.5.0",
            "_model_name": "FloatProgressModel",
            "_view_count": null,
            "_view_module": "@jupyter-widgets/controls",
            "_view_module_version": "1.5.0",
            "_view_name": "ProgressView",
            "bar_style": "info",
            "description": "",
            "description_tooltip": null,
            "layout": "IPY_MODEL_4adeb51e48bb4d1593f7d7c98c033750",
            "max": 1,
            "min": 0,
            "orientation": "horizontal",
            "style": "IPY_MODEL_dd16692bd38d4080996454f9134d37df",
            "value": 1
          }
        },
        "195afe711a444ef3a0143d749b96279f": {
          "model_module": "@jupyter-widgets/controls",
          "model_name": "HTMLModel",
          "model_module_version": "1.5.0",
          "state": {
            "_dom_classes": [],
            "_model_module": "@jupyter-widgets/controls",
            "_model_module_version": "1.5.0",
            "_model_name": "HTMLModel",
            "_view_count": null,
            "_view_module": "@jupyter-widgets/controls",
            "_view_module_version": "1.5.0",
            "_view_name": "HTMLView",
            "description": "",
            "description_tooltip": null,
            "layout": "IPY_MODEL_4d96b901760f4880a08d3a9193dd7194",
            "placeholder": "​",
            "style": "IPY_MODEL_4c98af6191b54826994f2e7b0565a56e",
            "value": " 1/? [00:01&lt;00:00,  1.12s/ tables]"
          }
        },
        "8d2558d372c34372b81c8f426d631c62": {
          "model_module": "@jupyter-widgets/base",
          "model_name": "LayoutModel",
          "model_module_version": "1.2.0",
          "state": {
            "_model_module": "@jupyter-widgets/base",
            "_model_module_version": "1.2.0",
            "_model_name": "LayoutModel",
            "_view_count": null,
            "_view_module": "@jupyter-widgets/base",
            "_view_module_version": "1.2.0",
            "_view_name": "LayoutView",
            "align_content": null,
            "align_items": null,
            "align_self": null,
            "border": null,
            "bottom": null,
            "display": null,
            "flex": null,
            "flex_flow": null,
            "grid_area": null,
            "grid_auto_columns": null,
            "grid_auto_flow": null,
            "grid_auto_rows": null,
            "grid_column": null,
            "grid_gap": null,
            "grid_row": null,
            "grid_template_areas": null,
            "grid_template_columns": null,
            "grid_template_rows": null,
            "height": null,
            "justify_content": null,
            "justify_items": null,
            "left": null,
            "margin": null,
            "max_height": null,
            "max_width": null,
            "min_height": null,
            "min_width": null,
            "object_fit": null,
            "object_position": null,
            "order": null,
            "overflow": null,
            "overflow_x": null,
            "overflow_y": null,
            "padding": null,
            "right": null,
            "top": null,
            "visibility": null,
            "width": null
          }
        },
        "9ffecea0abc54453b4d1d6e88d14087b": {
          "model_module": "@jupyter-widgets/base",
          "model_name": "LayoutModel",
          "model_module_version": "1.2.0",
          "state": {
            "_model_module": "@jupyter-widgets/base",
            "_model_module_version": "1.2.0",
            "_model_name": "LayoutModel",
            "_view_count": null,
            "_view_module": "@jupyter-widgets/base",
            "_view_module_version": "1.2.0",
            "_view_name": "LayoutView",
            "align_content": null,
            "align_items": null,
            "align_self": null,
            "border": null,
            "bottom": null,
            "display": null,
            "flex": null,
            "flex_flow": null,
            "grid_area": null,
            "grid_auto_columns": null,
            "grid_auto_flow": null,
            "grid_auto_rows": null,
            "grid_column": null,
            "grid_gap": null,
            "grid_row": null,
            "grid_template_areas": null,
            "grid_template_columns": null,
            "grid_template_rows": null,
            "height": null,
            "justify_content": null,
            "justify_items": null,
            "left": null,
            "margin": null,
            "max_height": null,
            "max_width": null,
            "min_height": null,
            "min_width": null,
            "object_fit": null,
            "object_position": null,
            "order": null,
            "overflow": null,
            "overflow_x": null,
            "overflow_y": null,
            "padding": null,
            "right": null,
            "top": null,
            "visibility": null,
            "width": null
          }
        },
        "c680d2f5f90d4a5cbbab33fcb303ccad": {
          "model_module": "@jupyter-widgets/controls",
          "model_name": "DescriptionStyleModel",
          "model_module_version": "1.5.0",
          "state": {
            "_model_module": "@jupyter-widgets/controls",
            "_model_module_version": "1.5.0",
            "_model_name": "DescriptionStyleModel",
            "_view_count": null,
            "_view_module": "@jupyter-widgets/base",
            "_view_module_version": "1.2.0",
            "_view_name": "StyleView",
            "description_width": ""
          }
        },
        "4adeb51e48bb4d1593f7d7c98c033750": {
          "model_module": "@jupyter-widgets/base",
          "model_name": "LayoutModel",
          "model_module_version": "1.2.0",
          "state": {
            "_model_module": "@jupyter-widgets/base",
            "_model_module_version": "1.2.0",
            "_model_name": "LayoutModel",
            "_view_count": null,
            "_view_module": "@jupyter-widgets/base",
            "_view_module_version": "1.2.0",
            "_view_name": "LayoutView",
            "align_content": null,
            "align_items": null,
            "align_self": null,
            "border": null,
            "bottom": null,
            "display": null,
            "flex": null,
            "flex_flow": null,
            "grid_area": null,
            "grid_auto_columns": null,
            "grid_auto_flow": null,
            "grid_auto_rows": null,
            "grid_column": null,
            "grid_gap": null,
            "grid_row": null,
            "grid_template_areas": null,
            "grid_template_columns": null,
            "grid_template_rows": null,
            "height": null,
            "justify_content": null,
            "justify_items": null,
            "left": null,
            "margin": null,
            "max_height": null,
            "max_width": null,
            "min_height": null,
            "min_width": null,
            "object_fit": null,
            "object_position": null,
            "order": null,
            "overflow": null,
            "overflow_x": null,
            "overflow_y": null,
            "padding": null,
            "right": null,
            "top": null,
            "visibility": null,
            "width": "20px"
          }
        },
        "dd16692bd38d4080996454f9134d37df": {
          "model_module": "@jupyter-widgets/controls",
          "model_name": "ProgressStyleModel",
          "model_module_version": "1.5.0",
          "state": {
            "_model_module": "@jupyter-widgets/controls",
            "_model_module_version": "1.5.0",
            "_model_name": "ProgressStyleModel",
            "_view_count": null,
            "_view_module": "@jupyter-widgets/base",
            "_view_module_version": "1.2.0",
            "_view_name": "StyleView",
            "bar_color": null,
            "description_width": ""
          }
        },
        "4d96b901760f4880a08d3a9193dd7194": {
          "model_module": "@jupyter-widgets/base",
          "model_name": "LayoutModel",
          "model_module_version": "1.2.0",
          "state": {
            "_model_module": "@jupyter-widgets/base",
            "_model_module_version": "1.2.0",
            "_model_name": "LayoutModel",
            "_view_count": null,
            "_view_module": "@jupyter-widgets/base",
            "_view_module_version": "1.2.0",
            "_view_name": "LayoutView",
            "align_content": null,
            "align_items": null,
            "align_self": null,
            "border": null,
            "bottom": null,
            "display": null,
            "flex": null,
            "flex_flow": null,
            "grid_area": null,
            "grid_auto_columns": null,
            "grid_auto_flow": null,
            "grid_auto_rows": null,
            "grid_column": null,
            "grid_gap": null,
            "grid_row": null,
            "grid_template_areas": null,
            "grid_template_columns": null,
            "grid_template_rows": null,
            "height": null,
            "justify_content": null,
            "justify_items": null,
            "left": null,
            "margin": null,
            "max_height": null,
            "max_width": null,
            "min_height": null,
            "min_width": null,
            "object_fit": null,
            "object_position": null,
            "order": null,
            "overflow": null,
            "overflow_x": null,
            "overflow_y": null,
            "padding": null,
            "right": null,
            "top": null,
            "visibility": null,
            "width": null
          }
        },
        "4c98af6191b54826994f2e7b0565a56e": {
          "model_module": "@jupyter-widgets/controls",
          "model_name": "DescriptionStyleModel",
          "model_module_version": "1.5.0",
          "state": {
            "_model_module": "@jupyter-widgets/controls",
            "_model_module_version": "1.5.0",
            "_model_name": "DescriptionStyleModel",
            "_view_count": null,
            "_view_module": "@jupyter-widgets/base",
            "_view_module_version": "1.2.0",
            "_view_name": "StyleView",
            "description_width": ""
          }
        },
        "5b3b02c5344a4b9b993870bb73fd7875": {
          "model_module": "@jupyter-widgets/controls",
          "model_name": "HBoxModel",
          "model_module_version": "1.5.0",
          "state": {
            "_dom_classes": [],
            "_model_module": "@jupyter-widgets/controls",
            "_model_module_version": "1.5.0",
            "_model_name": "HBoxModel",
            "_view_count": null,
            "_view_module": "@jupyter-widgets/controls",
            "_view_module_version": "1.5.0",
            "_view_name": "HBoxView",
            "box_style": "",
            "children": [
              "IPY_MODEL_5f0ed4ace5764f1f84cece6777858f31",
              "IPY_MODEL_c1c2f3eaf5a943f3af6df6a54d7b6036",
              "IPY_MODEL_632c150da5534e598bae24cea2b9e7c3"
            ],
            "layout": "IPY_MODEL_941d347393964d299a0cf719ed1db83f"
          }
        },
        "5f0ed4ace5764f1f84cece6777858f31": {
          "model_module": "@jupyter-widgets/controls",
          "model_name": "HTMLModel",
          "model_module_version": "1.5.0",
          "state": {
            "_dom_classes": [],
            "_model_module": "@jupyter-widgets/controls",
            "_model_module_version": "1.5.0",
            "_model_name": "HTMLModel",
            "_view_count": null,
            "_view_module": "@jupyter-widgets/controls",
            "_view_module_version": "1.5.0",
            "_view_name": "HTMLView",
            "description": "",
            "description_tooltip": null,
            "layout": "IPY_MODEL_fb368a9876e6499498f6da113e9d4400",
            "placeholder": "​",
            "style": "IPY_MODEL_ce7b32cd3dfe40e18aff7330f44ec2b5",
            "value": "100%"
          }
        },
        "c1c2f3eaf5a943f3af6df6a54d7b6036": {
          "model_module": "@jupyter-widgets/controls",
          "model_name": "FloatProgressModel",
          "model_module_version": "1.5.0",
          "state": {
            "_dom_classes": [],
            "_model_module": "@jupyter-widgets/controls",
            "_model_module_version": "1.5.0",
            "_model_name": "FloatProgressModel",
            "_view_count": null,
            "_view_module": "@jupyter-widgets/controls",
            "_view_module_version": "1.5.0",
            "_view_name": "ProgressView",
            "bar_style": "success",
            "description": "",
            "description_tooltip": null,
            "layout": "IPY_MODEL_837ceea428644045800ca0063d3bd4a7",
            "max": 2,
            "min": 0,
            "orientation": "horizontal",
            "style": "IPY_MODEL_7b6517b8893f4ed58d4680bfc8a5f71a",
            "value": 2
          }
        },
        "632c150da5534e598bae24cea2b9e7c3": {
          "model_module": "@jupyter-widgets/controls",
          "model_name": "HTMLModel",
          "model_module_version": "1.5.0",
          "state": {
            "_dom_classes": [],
            "_model_module": "@jupyter-widgets/controls",
            "_model_module_version": "1.5.0",
            "_model_name": "HTMLModel",
            "_view_count": null,
            "_view_module": "@jupyter-widgets/controls",
            "_view_module_version": "1.5.0",
            "_view_name": "HTMLView",
            "description": "",
            "description_tooltip": null,
            "layout": "IPY_MODEL_22c588c17c324676b7e47d80410ebac8",
            "placeholder": "​",
            "style": "IPY_MODEL_3525d1df96d746209ebd88d3ef84074c",
            "value": " 2/2 [00:00&lt;00:00, 46.43it/s]"
          }
        },
        "941d347393964d299a0cf719ed1db83f": {
          "model_module": "@jupyter-widgets/base",
          "model_name": "LayoutModel",
          "model_module_version": "1.2.0",
          "state": {
            "_model_module": "@jupyter-widgets/base",
            "_model_module_version": "1.2.0",
            "_model_name": "LayoutModel",
            "_view_count": null,
            "_view_module": "@jupyter-widgets/base",
            "_view_module_version": "1.2.0",
            "_view_name": "LayoutView",
            "align_content": null,
            "align_items": null,
            "align_self": null,
            "border": null,
            "bottom": null,
            "display": null,
            "flex": null,
            "flex_flow": null,
            "grid_area": null,
            "grid_auto_columns": null,
            "grid_auto_flow": null,
            "grid_auto_rows": null,
            "grid_column": null,
            "grid_gap": null,
            "grid_row": null,
            "grid_template_areas": null,
            "grid_template_columns": null,
            "grid_template_rows": null,
            "height": null,
            "justify_content": null,
            "justify_items": null,
            "left": null,
            "margin": null,
            "max_height": null,
            "max_width": null,
            "min_height": null,
            "min_width": null,
            "object_fit": null,
            "object_position": null,
            "order": null,
            "overflow": null,
            "overflow_x": null,
            "overflow_y": null,
            "padding": null,
            "right": null,
            "top": null,
            "visibility": null,
            "width": null
          }
        },
        "fb368a9876e6499498f6da113e9d4400": {
          "model_module": "@jupyter-widgets/base",
          "model_name": "LayoutModel",
          "model_module_version": "1.2.0",
          "state": {
            "_model_module": "@jupyter-widgets/base",
            "_model_module_version": "1.2.0",
            "_model_name": "LayoutModel",
            "_view_count": null,
            "_view_module": "@jupyter-widgets/base",
            "_view_module_version": "1.2.0",
            "_view_name": "LayoutView",
            "align_content": null,
            "align_items": null,
            "align_self": null,
            "border": null,
            "bottom": null,
            "display": null,
            "flex": null,
            "flex_flow": null,
            "grid_area": null,
            "grid_auto_columns": null,
            "grid_auto_flow": null,
            "grid_auto_rows": null,
            "grid_column": null,
            "grid_gap": null,
            "grid_row": null,
            "grid_template_areas": null,
            "grid_template_columns": null,
            "grid_template_rows": null,
            "height": null,
            "justify_content": null,
            "justify_items": null,
            "left": null,
            "margin": null,
            "max_height": null,
            "max_width": null,
            "min_height": null,
            "min_width": null,
            "object_fit": null,
            "object_position": null,
            "order": null,
            "overflow": null,
            "overflow_x": null,
            "overflow_y": null,
            "padding": null,
            "right": null,
            "top": null,
            "visibility": null,
            "width": null
          }
        },
        "ce7b32cd3dfe40e18aff7330f44ec2b5": {
          "model_module": "@jupyter-widgets/controls",
          "model_name": "DescriptionStyleModel",
          "model_module_version": "1.5.0",
          "state": {
            "_model_module": "@jupyter-widgets/controls",
            "_model_module_version": "1.5.0",
            "_model_name": "DescriptionStyleModel",
            "_view_count": null,
            "_view_module": "@jupyter-widgets/base",
            "_view_module_version": "1.2.0",
            "_view_name": "StyleView",
            "description_width": ""
          }
        },
        "837ceea428644045800ca0063d3bd4a7": {
          "model_module": "@jupyter-widgets/base",
          "model_name": "LayoutModel",
          "model_module_version": "1.2.0",
          "state": {
            "_model_module": "@jupyter-widgets/base",
            "_model_module_version": "1.2.0",
            "_model_name": "LayoutModel",
            "_view_count": null,
            "_view_module": "@jupyter-widgets/base",
            "_view_module_version": "1.2.0",
            "_view_name": "LayoutView",
            "align_content": null,
            "align_items": null,
            "align_self": null,
            "border": null,
            "bottom": null,
            "display": null,
            "flex": null,
            "flex_flow": null,
            "grid_area": null,
            "grid_auto_columns": null,
            "grid_auto_flow": null,
            "grid_auto_rows": null,
            "grid_column": null,
            "grid_gap": null,
            "grid_row": null,
            "grid_template_areas": null,
            "grid_template_columns": null,
            "grid_template_rows": null,
            "height": null,
            "justify_content": null,
            "justify_items": null,
            "left": null,
            "margin": null,
            "max_height": null,
            "max_width": null,
            "min_height": null,
            "min_width": null,
            "object_fit": null,
            "object_position": null,
            "order": null,
            "overflow": null,
            "overflow_x": null,
            "overflow_y": null,
            "padding": null,
            "right": null,
            "top": null,
            "visibility": null,
            "width": null
          }
        },
        "7b6517b8893f4ed58d4680bfc8a5f71a": {
          "model_module": "@jupyter-widgets/controls",
          "model_name": "ProgressStyleModel",
          "model_module_version": "1.5.0",
          "state": {
            "_model_module": "@jupyter-widgets/controls",
            "_model_module_version": "1.5.0",
            "_model_name": "ProgressStyleModel",
            "_view_count": null,
            "_view_module": "@jupyter-widgets/base",
            "_view_module_version": "1.2.0",
            "_view_name": "StyleView",
            "bar_color": null,
            "description_width": ""
          }
        },
        "22c588c17c324676b7e47d80410ebac8": {
          "model_module": "@jupyter-widgets/base",
          "model_name": "LayoutModel",
          "model_module_version": "1.2.0",
          "state": {
            "_model_module": "@jupyter-widgets/base",
            "_model_module_version": "1.2.0",
            "_model_name": "LayoutModel",
            "_view_count": null,
            "_view_module": "@jupyter-widgets/base",
            "_view_module_version": "1.2.0",
            "_view_name": "LayoutView",
            "align_content": null,
            "align_items": null,
            "align_self": null,
            "border": null,
            "bottom": null,
            "display": null,
            "flex": null,
            "flex_flow": null,
            "grid_area": null,
            "grid_auto_columns": null,
            "grid_auto_flow": null,
            "grid_auto_rows": null,
            "grid_column": null,
            "grid_gap": null,
            "grid_row": null,
            "grid_template_areas": null,
            "grid_template_columns": null,
            "grid_template_rows": null,
            "height": null,
            "justify_content": null,
            "justify_items": null,
            "left": null,
            "margin": null,
            "max_height": null,
            "max_width": null,
            "min_height": null,
            "min_width": null,
            "object_fit": null,
            "object_position": null,
            "order": null,
            "overflow": null,
            "overflow_x": null,
            "overflow_y": null,
            "padding": null,
            "right": null,
            "top": null,
            "visibility": null,
            "width": null
          }
        },
        "3525d1df96d746209ebd88d3ef84074c": {
          "model_module": "@jupyter-widgets/controls",
          "model_name": "DescriptionStyleModel",
          "model_module_version": "1.5.0",
          "state": {
            "_model_module": "@jupyter-widgets/controls",
            "_model_module_version": "1.5.0",
            "_model_name": "DescriptionStyleModel",
            "_view_count": null,
            "_view_module": "@jupyter-widgets/base",
            "_view_module_version": "1.2.0",
            "_view_name": "StyleView",
            "description_width": ""
          }
        },
        "d9d6e9c4ad49401f8ba565e5c85d85e2": {
          "model_module": "@jupyter-widgets/controls",
          "model_name": "HBoxModel",
          "model_module_version": "1.5.0",
          "state": {
            "_dom_classes": [],
            "_model_module": "@jupyter-widgets/controls",
            "_model_module_version": "1.5.0",
            "_model_name": "HBoxModel",
            "_view_count": null,
            "_view_module": "@jupyter-widgets/controls",
            "_view_module_version": "1.5.0",
            "_view_name": "HBoxView",
            "box_style": "",
            "children": [
              "IPY_MODEL_cfa7fcdc8fba4cd68c604a0c8aff6f5e",
              "IPY_MODEL_ba0a3257dbd74e5b9c787e1a884cdbea",
              "IPY_MODEL_5a55eaed8da9423792045f28799ae048"
            ],
            "layout": "IPY_MODEL_0554db10521e46bb90dc0313b0e6e0e8"
          }
        },
        "cfa7fcdc8fba4cd68c604a0c8aff6f5e": {
          "model_module": "@jupyter-widgets/controls",
          "model_name": "HTMLModel",
          "model_module_version": "1.5.0",
          "state": {
            "_dom_classes": [],
            "_model_module": "@jupyter-widgets/controls",
            "_model_module_version": "1.5.0",
            "_model_name": "HTMLModel",
            "_view_count": null,
            "_view_module": "@jupyter-widgets/controls",
            "_view_module_version": "1.5.0",
            "_view_name": "HTMLView",
            "description": "",
            "description_tooltip": null,
            "layout": "IPY_MODEL_e34b8f7289cc40afa51505d6849a140c",
            "placeholder": "​",
            "style": "IPY_MODEL_e259ace46a9c45349d375738004d3b6c",
            "value": "100%"
          }
        },
        "ba0a3257dbd74e5b9c787e1a884cdbea": {
          "model_module": "@jupyter-widgets/controls",
          "model_name": "FloatProgressModel",
          "model_module_version": "1.5.0",
          "state": {
            "_dom_classes": [],
            "_model_module": "@jupyter-widgets/controls",
            "_model_module_version": "1.5.0",
            "_model_name": "FloatProgressModel",
            "_view_count": null,
            "_view_module": "@jupyter-widgets/controls",
            "_view_module_version": "1.5.0",
            "_view_name": "ProgressView",
            "bar_style": "success",
            "description": "",
            "description_tooltip": null,
            "layout": "IPY_MODEL_d1b939e297824082b1afa9cdab5ec9be",
            "max": 2,
            "min": 0,
            "orientation": "horizontal",
            "style": "IPY_MODEL_a875a1b383ce42b3a9561635bf231786",
            "value": 2
          }
        },
        "5a55eaed8da9423792045f28799ae048": {
          "model_module": "@jupyter-widgets/controls",
          "model_name": "HTMLModel",
          "model_module_version": "1.5.0",
          "state": {
            "_dom_classes": [],
            "_model_module": "@jupyter-widgets/controls",
            "_model_module_version": "1.5.0",
            "_model_name": "HTMLModel",
            "_view_count": null,
            "_view_module": "@jupyter-widgets/controls",
            "_view_module_version": "1.5.0",
            "_view_name": "HTMLView",
            "description": "",
            "description_tooltip": null,
            "layout": "IPY_MODEL_6017975dbbc942dcbd7165423688187e",
            "placeholder": "​",
            "style": "IPY_MODEL_f81a8ce1b85a4bdf8965f0bc3a30a4b0",
            "value": " 2/2 [00:18&lt;00:00,  7.72s/ba]"
          }
        },
        "0554db10521e46bb90dc0313b0e6e0e8": {
          "model_module": "@jupyter-widgets/base",
          "model_name": "LayoutModel",
          "model_module_version": "1.2.0",
          "state": {
            "_model_module": "@jupyter-widgets/base",
            "_model_module_version": "1.2.0",
            "_model_name": "LayoutModel",
            "_view_count": null,
            "_view_module": "@jupyter-widgets/base",
            "_view_module_version": "1.2.0",
            "_view_name": "LayoutView",
            "align_content": null,
            "align_items": null,
            "align_self": null,
            "border": null,
            "bottom": null,
            "display": null,
            "flex": null,
            "flex_flow": null,
            "grid_area": null,
            "grid_auto_columns": null,
            "grid_auto_flow": null,
            "grid_auto_rows": null,
            "grid_column": null,
            "grid_gap": null,
            "grid_row": null,
            "grid_template_areas": null,
            "grid_template_columns": null,
            "grid_template_rows": null,
            "height": null,
            "justify_content": null,
            "justify_items": null,
            "left": null,
            "margin": null,
            "max_height": null,
            "max_width": null,
            "min_height": null,
            "min_width": null,
            "object_fit": null,
            "object_position": null,
            "order": null,
            "overflow": null,
            "overflow_x": null,
            "overflow_y": null,
            "padding": null,
            "right": null,
            "top": null,
            "visibility": null,
            "width": null
          }
        },
        "e34b8f7289cc40afa51505d6849a140c": {
          "model_module": "@jupyter-widgets/base",
          "model_name": "LayoutModel",
          "model_module_version": "1.2.0",
          "state": {
            "_model_module": "@jupyter-widgets/base",
            "_model_module_version": "1.2.0",
            "_model_name": "LayoutModel",
            "_view_count": null,
            "_view_module": "@jupyter-widgets/base",
            "_view_module_version": "1.2.0",
            "_view_name": "LayoutView",
            "align_content": null,
            "align_items": null,
            "align_self": null,
            "border": null,
            "bottom": null,
            "display": null,
            "flex": null,
            "flex_flow": null,
            "grid_area": null,
            "grid_auto_columns": null,
            "grid_auto_flow": null,
            "grid_auto_rows": null,
            "grid_column": null,
            "grid_gap": null,
            "grid_row": null,
            "grid_template_areas": null,
            "grid_template_columns": null,
            "grid_template_rows": null,
            "height": null,
            "justify_content": null,
            "justify_items": null,
            "left": null,
            "margin": null,
            "max_height": null,
            "max_width": null,
            "min_height": null,
            "min_width": null,
            "object_fit": null,
            "object_position": null,
            "order": null,
            "overflow": null,
            "overflow_x": null,
            "overflow_y": null,
            "padding": null,
            "right": null,
            "top": null,
            "visibility": null,
            "width": null
          }
        },
        "e259ace46a9c45349d375738004d3b6c": {
          "model_module": "@jupyter-widgets/controls",
          "model_name": "DescriptionStyleModel",
          "model_module_version": "1.5.0",
          "state": {
            "_model_module": "@jupyter-widgets/controls",
            "_model_module_version": "1.5.0",
            "_model_name": "DescriptionStyleModel",
            "_view_count": null,
            "_view_module": "@jupyter-widgets/base",
            "_view_module_version": "1.2.0",
            "_view_name": "StyleView",
            "description_width": ""
          }
        },
        "d1b939e297824082b1afa9cdab5ec9be": {
          "model_module": "@jupyter-widgets/base",
          "model_name": "LayoutModel",
          "model_module_version": "1.2.0",
          "state": {
            "_model_module": "@jupyter-widgets/base",
            "_model_module_version": "1.2.0",
            "_model_name": "LayoutModel",
            "_view_count": null,
            "_view_module": "@jupyter-widgets/base",
            "_view_module_version": "1.2.0",
            "_view_name": "LayoutView",
            "align_content": null,
            "align_items": null,
            "align_self": null,
            "border": null,
            "bottom": null,
            "display": null,
            "flex": null,
            "flex_flow": null,
            "grid_area": null,
            "grid_auto_columns": null,
            "grid_auto_flow": null,
            "grid_auto_rows": null,
            "grid_column": null,
            "grid_gap": null,
            "grid_row": null,
            "grid_template_areas": null,
            "grid_template_columns": null,
            "grid_template_rows": null,
            "height": null,
            "justify_content": null,
            "justify_items": null,
            "left": null,
            "margin": null,
            "max_height": null,
            "max_width": null,
            "min_height": null,
            "min_width": null,
            "object_fit": null,
            "object_position": null,
            "order": null,
            "overflow": null,
            "overflow_x": null,
            "overflow_y": null,
            "padding": null,
            "right": null,
            "top": null,
            "visibility": null,
            "width": null
          }
        },
        "a875a1b383ce42b3a9561635bf231786": {
          "model_module": "@jupyter-widgets/controls",
          "model_name": "ProgressStyleModel",
          "model_module_version": "1.5.0",
          "state": {
            "_model_module": "@jupyter-widgets/controls",
            "_model_module_version": "1.5.0",
            "_model_name": "ProgressStyleModel",
            "_view_count": null,
            "_view_module": "@jupyter-widgets/base",
            "_view_module_version": "1.2.0",
            "_view_name": "StyleView",
            "bar_color": null,
            "description_width": ""
          }
        },
        "6017975dbbc942dcbd7165423688187e": {
          "model_module": "@jupyter-widgets/base",
          "model_name": "LayoutModel",
          "model_module_version": "1.2.0",
          "state": {
            "_model_module": "@jupyter-widgets/base",
            "_model_module_version": "1.2.0",
            "_model_name": "LayoutModel",
            "_view_count": null,
            "_view_module": "@jupyter-widgets/base",
            "_view_module_version": "1.2.0",
            "_view_name": "LayoutView",
            "align_content": null,
            "align_items": null,
            "align_self": null,
            "border": null,
            "bottom": null,
            "display": null,
            "flex": null,
            "flex_flow": null,
            "grid_area": null,
            "grid_auto_columns": null,
            "grid_auto_flow": null,
            "grid_auto_rows": null,
            "grid_column": null,
            "grid_gap": null,
            "grid_row": null,
            "grid_template_areas": null,
            "grid_template_columns": null,
            "grid_template_rows": null,
            "height": null,
            "justify_content": null,
            "justify_items": null,
            "left": null,
            "margin": null,
            "max_height": null,
            "max_width": null,
            "min_height": null,
            "min_width": null,
            "object_fit": null,
            "object_position": null,
            "order": null,
            "overflow": null,
            "overflow_x": null,
            "overflow_y": null,
            "padding": null,
            "right": null,
            "top": null,
            "visibility": null,
            "width": null
          }
        },
        "f81a8ce1b85a4bdf8965f0bc3a30a4b0": {
          "model_module": "@jupyter-widgets/controls",
          "model_name": "DescriptionStyleModel",
          "model_module_version": "1.5.0",
          "state": {
            "_model_module": "@jupyter-widgets/controls",
            "_model_module_version": "1.5.0",
            "_model_name": "DescriptionStyleModel",
            "_view_count": null,
            "_view_module": "@jupyter-widgets/base",
            "_view_module_version": "1.2.0",
            "_view_name": "StyleView",
            "description_width": ""
          }
        },
        "c33273730e184a979bb45d29ea82e849": {
          "model_module": "@jupyter-widgets/controls",
          "model_name": "HBoxModel",
          "model_module_version": "1.5.0",
          "state": {
            "_dom_classes": [],
            "_model_module": "@jupyter-widgets/controls",
            "_model_module_version": "1.5.0",
            "_model_name": "HBoxModel",
            "_view_count": null,
            "_view_module": "@jupyter-widgets/controls",
            "_view_module_version": "1.5.0",
            "_view_name": "HBoxView",
            "box_style": "",
            "children": [
              "IPY_MODEL_c5dd13db548b45b7ba3f25c603fc6838",
              "IPY_MODEL_b3e4371728ba4bb7a7d6fb4503924e5a",
              "IPY_MODEL_c571afd17f5b47329610c381f233effb"
            ],
            "layout": "IPY_MODEL_222aeaa95023424bb6bdb7ce11084a02"
          }
        },
        "c5dd13db548b45b7ba3f25c603fc6838": {
          "model_module": "@jupyter-widgets/controls",
          "model_name": "HTMLModel",
          "model_module_version": "1.5.0",
          "state": {
            "_dom_classes": [],
            "_model_module": "@jupyter-widgets/controls",
            "_model_module_version": "1.5.0",
            "_model_name": "HTMLModel",
            "_view_count": null,
            "_view_module": "@jupyter-widgets/controls",
            "_view_module_version": "1.5.0",
            "_view_name": "HTMLView",
            "description": "",
            "description_tooltip": null,
            "layout": "IPY_MODEL_cab5279c9a4b4f5e83c0aa40557becc5",
            "placeholder": "​",
            "style": "IPY_MODEL_31162530a7e24126a94b0182808d896a",
            "value": "Downloading config.json: 100%"
          }
        },
        "b3e4371728ba4bb7a7d6fb4503924e5a": {
          "model_module": "@jupyter-widgets/controls",
          "model_name": "FloatProgressModel",
          "model_module_version": "1.5.0",
          "state": {
            "_dom_classes": [],
            "_model_module": "@jupyter-widgets/controls",
            "_model_module_version": "1.5.0",
            "_model_name": "FloatProgressModel",
            "_view_count": null,
            "_view_module": "@jupyter-widgets/controls",
            "_view_module_version": "1.5.0",
            "_view_name": "ProgressView",
            "bar_style": "success",
            "description": "",
            "description_tooltip": null,
            "layout": "IPY_MODEL_453de939f6e64309b2a2a19b0a6d0045",
            "max": 1018,
            "min": 0,
            "orientation": "horizontal",
            "style": "IPY_MODEL_6612354917514e1383d4b9c6502c0522",
            "value": 1018
          }
        },
        "c571afd17f5b47329610c381f233effb": {
          "model_module": "@jupyter-widgets/controls",
          "model_name": "HTMLModel",
          "model_module_version": "1.5.0",
          "state": {
            "_dom_classes": [],
            "_model_module": "@jupyter-widgets/controls",
            "_model_module_version": "1.5.0",
            "_model_name": "HTMLModel",
            "_view_count": null,
            "_view_module": "@jupyter-widgets/controls",
            "_view_module_version": "1.5.0",
            "_view_name": "HTMLView",
            "description": "",
            "description_tooltip": null,
            "layout": "IPY_MODEL_fd15642f12c343c7a300493a0fbcee52",
            "placeholder": "​",
            "style": "IPY_MODEL_0ba646f62c2e4c87b0999965577d379c",
            "value": " 0.99k/0.99k [00:00&lt;00:00, 40.9kB/s]"
          }
        },
        "222aeaa95023424bb6bdb7ce11084a02": {
          "model_module": "@jupyter-widgets/base",
          "model_name": "LayoutModel",
          "model_module_version": "1.2.0",
          "state": {
            "_model_module": "@jupyter-widgets/base",
            "_model_module_version": "1.2.0",
            "_model_name": "LayoutModel",
            "_view_count": null,
            "_view_module": "@jupyter-widgets/base",
            "_view_module_version": "1.2.0",
            "_view_name": "LayoutView",
            "align_content": null,
            "align_items": null,
            "align_self": null,
            "border": null,
            "bottom": null,
            "display": null,
            "flex": null,
            "flex_flow": null,
            "grid_area": null,
            "grid_auto_columns": null,
            "grid_auto_flow": null,
            "grid_auto_rows": null,
            "grid_column": null,
            "grid_gap": null,
            "grid_row": null,
            "grid_template_areas": null,
            "grid_template_columns": null,
            "grid_template_rows": null,
            "height": null,
            "justify_content": null,
            "justify_items": null,
            "left": null,
            "margin": null,
            "max_height": null,
            "max_width": null,
            "min_height": null,
            "min_width": null,
            "object_fit": null,
            "object_position": null,
            "order": null,
            "overflow": null,
            "overflow_x": null,
            "overflow_y": null,
            "padding": null,
            "right": null,
            "top": null,
            "visibility": null,
            "width": null
          }
        },
        "cab5279c9a4b4f5e83c0aa40557becc5": {
          "model_module": "@jupyter-widgets/base",
          "model_name": "LayoutModel",
          "model_module_version": "1.2.0",
          "state": {
            "_model_module": "@jupyter-widgets/base",
            "_model_module_version": "1.2.0",
            "_model_name": "LayoutModel",
            "_view_count": null,
            "_view_module": "@jupyter-widgets/base",
            "_view_module_version": "1.2.0",
            "_view_name": "LayoutView",
            "align_content": null,
            "align_items": null,
            "align_self": null,
            "border": null,
            "bottom": null,
            "display": null,
            "flex": null,
            "flex_flow": null,
            "grid_area": null,
            "grid_auto_columns": null,
            "grid_auto_flow": null,
            "grid_auto_rows": null,
            "grid_column": null,
            "grid_gap": null,
            "grid_row": null,
            "grid_template_areas": null,
            "grid_template_columns": null,
            "grid_template_rows": null,
            "height": null,
            "justify_content": null,
            "justify_items": null,
            "left": null,
            "margin": null,
            "max_height": null,
            "max_width": null,
            "min_height": null,
            "min_width": null,
            "object_fit": null,
            "object_position": null,
            "order": null,
            "overflow": null,
            "overflow_x": null,
            "overflow_y": null,
            "padding": null,
            "right": null,
            "top": null,
            "visibility": null,
            "width": null
          }
        },
        "31162530a7e24126a94b0182808d896a": {
          "model_module": "@jupyter-widgets/controls",
          "model_name": "DescriptionStyleModel",
          "model_module_version": "1.5.0",
          "state": {
            "_model_module": "@jupyter-widgets/controls",
            "_model_module_version": "1.5.0",
            "_model_name": "DescriptionStyleModel",
            "_view_count": null,
            "_view_module": "@jupyter-widgets/base",
            "_view_module_version": "1.2.0",
            "_view_name": "StyleView",
            "description_width": ""
          }
        },
        "453de939f6e64309b2a2a19b0a6d0045": {
          "model_module": "@jupyter-widgets/base",
          "model_name": "LayoutModel",
          "model_module_version": "1.2.0",
          "state": {
            "_model_module": "@jupyter-widgets/base",
            "_model_module_version": "1.2.0",
            "_model_name": "LayoutModel",
            "_view_count": null,
            "_view_module": "@jupyter-widgets/base",
            "_view_module_version": "1.2.0",
            "_view_name": "LayoutView",
            "align_content": null,
            "align_items": null,
            "align_self": null,
            "border": null,
            "bottom": null,
            "display": null,
            "flex": null,
            "flex_flow": null,
            "grid_area": null,
            "grid_auto_columns": null,
            "grid_auto_flow": null,
            "grid_auto_rows": null,
            "grid_column": null,
            "grid_gap": null,
            "grid_row": null,
            "grid_template_areas": null,
            "grid_template_columns": null,
            "grid_template_rows": null,
            "height": null,
            "justify_content": null,
            "justify_items": null,
            "left": null,
            "margin": null,
            "max_height": null,
            "max_width": null,
            "min_height": null,
            "min_width": null,
            "object_fit": null,
            "object_position": null,
            "order": null,
            "overflow": null,
            "overflow_x": null,
            "overflow_y": null,
            "padding": null,
            "right": null,
            "top": null,
            "visibility": null,
            "width": null
          }
        },
        "6612354917514e1383d4b9c6502c0522": {
          "model_module": "@jupyter-widgets/controls",
          "model_name": "ProgressStyleModel",
          "model_module_version": "1.5.0",
          "state": {
            "_model_module": "@jupyter-widgets/controls",
            "_model_module_version": "1.5.0",
            "_model_name": "ProgressStyleModel",
            "_view_count": null,
            "_view_module": "@jupyter-widgets/base",
            "_view_module_version": "1.2.0",
            "_view_name": "StyleView",
            "bar_color": null,
            "description_width": ""
          }
        },
        "fd15642f12c343c7a300493a0fbcee52": {
          "model_module": "@jupyter-widgets/base",
          "model_name": "LayoutModel",
          "model_module_version": "1.2.0",
          "state": {
            "_model_module": "@jupyter-widgets/base",
            "_model_module_version": "1.2.0",
            "_model_name": "LayoutModel",
            "_view_count": null,
            "_view_module": "@jupyter-widgets/base",
            "_view_module_version": "1.2.0",
            "_view_name": "LayoutView",
            "align_content": null,
            "align_items": null,
            "align_self": null,
            "border": null,
            "bottom": null,
            "display": null,
            "flex": null,
            "flex_flow": null,
            "grid_area": null,
            "grid_auto_columns": null,
            "grid_auto_flow": null,
            "grid_auto_rows": null,
            "grid_column": null,
            "grid_gap": null,
            "grid_row": null,
            "grid_template_areas": null,
            "grid_template_columns": null,
            "grid_template_rows": null,
            "height": null,
            "justify_content": null,
            "justify_items": null,
            "left": null,
            "margin": null,
            "max_height": null,
            "max_width": null,
            "min_height": null,
            "min_width": null,
            "object_fit": null,
            "object_position": null,
            "order": null,
            "overflow": null,
            "overflow_x": null,
            "overflow_y": null,
            "padding": null,
            "right": null,
            "top": null,
            "visibility": null,
            "width": null
          }
        },
        "0ba646f62c2e4c87b0999965577d379c": {
          "model_module": "@jupyter-widgets/controls",
          "model_name": "DescriptionStyleModel",
          "model_module_version": "1.5.0",
          "state": {
            "_model_module": "@jupyter-widgets/controls",
            "_model_module_version": "1.5.0",
            "_model_name": "DescriptionStyleModel",
            "_view_count": null,
            "_view_module": "@jupyter-widgets/base",
            "_view_module_version": "1.2.0",
            "_view_name": "StyleView",
            "description_width": ""
          }
        },
        "de694444cd5741d08d65387e8fe05717": {
          "model_module": "@jupyter-widgets/controls",
          "model_name": "HBoxModel",
          "model_module_version": "1.5.0",
          "state": {
            "_dom_classes": [],
            "_model_module": "@jupyter-widgets/controls",
            "_model_module_version": "1.5.0",
            "_model_name": "HBoxModel",
            "_view_count": null,
            "_view_module": "@jupyter-widgets/controls",
            "_view_module_version": "1.5.0",
            "_view_name": "HBoxView",
            "box_style": "",
            "children": [
              "IPY_MODEL_f72347ddf47e47a3a30b76c0fb7ec14e",
              "IPY_MODEL_42f7e0d4dbed435385dc8931b3a4f753",
              "IPY_MODEL_9a8de0919bd244df932ff32d1bd37601"
            ],
            "layout": "IPY_MODEL_6f20a79756ed4003b0b3d71c9f367f12"
          }
        },
        "f72347ddf47e47a3a30b76c0fb7ec14e": {
          "model_module": "@jupyter-widgets/controls",
          "model_name": "HTMLModel",
          "model_module_version": "1.5.0",
          "state": {
            "_dom_classes": [],
            "_model_module": "@jupyter-widgets/controls",
            "_model_module_version": "1.5.0",
            "_model_name": "HTMLModel",
            "_view_count": null,
            "_view_module": "@jupyter-widgets/controls",
            "_view_module_version": "1.5.0",
            "_view_name": "HTMLView",
            "description": "",
            "description_tooltip": null,
            "layout": "IPY_MODEL_4e462e6c90a24463b13df77d26eeba61",
            "placeholder": "​",
            "style": "IPY_MODEL_6c2af88a271e4939a2ce89e7eaef5029",
            "value": "Downloading pytorch_model.bin: 100%"
          }
        },
        "42f7e0d4dbed435385dc8931b3a4f753": {
          "model_module": "@jupyter-widgets/controls",
          "model_name": "FloatProgressModel",
          "model_module_version": "1.5.0",
          "state": {
            "_dom_classes": [],
            "_model_module": "@jupyter-widgets/controls",
            "_model_module_version": "1.5.0",
            "_model_name": "FloatProgressModel",
            "_view_count": null,
            "_view_module": "@jupyter-widgets/controls",
            "_view_module_version": "1.5.0",
            "_view_name": "ProgressView",
            "bar_style": "success",
            "description": "",
            "description_tooltip": null,
            "layout": "IPY_MODEL_49cfb728d22b492cb8dbe3e63dcfc609",
            "max": 594786525,
            "min": 0,
            "orientation": "horizontal",
            "style": "IPY_MODEL_833e5a23c9364d44967a055697f91127",
            "value": 594786525
          }
        },
        "9a8de0919bd244df932ff32d1bd37601": {
          "model_module": "@jupyter-widgets/controls",
          "model_name": "HTMLModel",
          "model_module_version": "1.5.0",
          "state": {
            "_dom_classes": [],
            "_model_module": "@jupyter-widgets/controls",
            "_model_module_version": "1.5.0",
            "_model_name": "HTMLModel",
            "_view_count": null,
            "_view_module": "@jupyter-widgets/controls",
            "_view_module_version": "1.5.0",
            "_view_name": "HTMLView",
            "description": "",
            "description_tooltip": null,
            "layout": "IPY_MODEL_a71f0cdd78dc46b4be4b850289e8c3e2",
            "placeholder": "​",
            "style": "IPY_MODEL_8ddcb96ce3fa46da9b9027a6a1d95dab",
            "value": " 567M/567M [00:09&lt;00:00, 63.5MB/s]"
          }
        },
        "6f20a79756ed4003b0b3d71c9f367f12": {
          "model_module": "@jupyter-widgets/base",
          "model_name": "LayoutModel",
          "model_module_version": "1.2.0",
          "state": {
            "_model_module": "@jupyter-widgets/base",
            "_model_module_version": "1.2.0",
            "_model_name": "LayoutModel",
            "_view_count": null,
            "_view_module": "@jupyter-widgets/base",
            "_view_module_version": "1.2.0",
            "_view_name": "LayoutView",
            "align_content": null,
            "align_items": null,
            "align_self": null,
            "border": null,
            "bottom": null,
            "display": null,
            "flex": null,
            "flex_flow": null,
            "grid_area": null,
            "grid_auto_columns": null,
            "grid_auto_flow": null,
            "grid_auto_rows": null,
            "grid_column": null,
            "grid_gap": null,
            "grid_row": null,
            "grid_template_areas": null,
            "grid_template_columns": null,
            "grid_template_rows": null,
            "height": null,
            "justify_content": null,
            "justify_items": null,
            "left": null,
            "margin": null,
            "max_height": null,
            "max_width": null,
            "min_height": null,
            "min_width": null,
            "object_fit": null,
            "object_position": null,
            "order": null,
            "overflow": null,
            "overflow_x": null,
            "overflow_y": null,
            "padding": null,
            "right": null,
            "top": null,
            "visibility": null,
            "width": null
          }
        },
        "4e462e6c90a24463b13df77d26eeba61": {
          "model_module": "@jupyter-widgets/base",
          "model_name": "LayoutModel",
          "model_module_version": "1.2.0",
          "state": {
            "_model_module": "@jupyter-widgets/base",
            "_model_module_version": "1.2.0",
            "_model_name": "LayoutModel",
            "_view_count": null,
            "_view_module": "@jupyter-widgets/base",
            "_view_module_version": "1.2.0",
            "_view_name": "LayoutView",
            "align_content": null,
            "align_items": null,
            "align_self": null,
            "border": null,
            "bottom": null,
            "display": null,
            "flex": null,
            "flex_flow": null,
            "grid_area": null,
            "grid_auto_columns": null,
            "grid_auto_flow": null,
            "grid_auto_rows": null,
            "grid_column": null,
            "grid_gap": null,
            "grid_row": null,
            "grid_template_areas": null,
            "grid_template_columns": null,
            "grid_template_rows": null,
            "height": null,
            "justify_content": null,
            "justify_items": null,
            "left": null,
            "margin": null,
            "max_height": null,
            "max_width": null,
            "min_height": null,
            "min_width": null,
            "object_fit": null,
            "object_position": null,
            "order": null,
            "overflow": null,
            "overflow_x": null,
            "overflow_y": null,
            "padding": null,
            "right": null,
            "top": null,
            "visibility": null,
            "width": null
          }
        },
        "6c2af88a271e4939a2ce89e7eaef5029": {
          "model_module": "@jupyter-widgets/controls",
          "model_name": "DescriptionStyleModel",
          "model_module_version": "1.5.0",
          "state": {
            "_model_module": "@jupyter-widgets/controls",
            "_model_module_version": "1.5.0",
            "_model_name": "DescriptionStyleModel",
            "_view_count": null,
            "_view_module": "@jupyter-widgets/base",
            "_view_module_version": "1.2.0",
            "_view_name": "StyleView",
            "description_width": ""
          }
        },
        "49cfb728d22b492cb8dbe3e63dcfc609": {
          "model_module": "@jupyter-widgets/base",
          "model_name": "LayoutModel",
          "model_module_version": "1.2.0",
          "state": {
            "_model_module": "@jupyter-widgets/base",
            "_model_module_version": "1.2.0",
            "_model_name": "LayoutModel",
            "_view_count": null,
            "_view_module": "@jupyter-widgets/base",
            "_view_module_version": "1.2.0",
            "_view_name": "LayoutView",
            "align_content": null,
            "align_items": null,
            "align_self": null,
            "border": null,
            "bottom": null,
            "display": null,
            "flex": null,
            "flex_flow": null,
            "grid_area": null,
            "grid_auto_columns": null,
            "grid_auto_flow": null,
            "grid_auto_rows": null,
            "grid_column": null,
            "grid_gap": null,
            "grid_row": null,
            "grid_template_areas": null,
            "grid_template_columns": null,
            "grid_template_rows": null,
            "height": null,
            "justify_content": null,
            "justify_items": null,
            "left": null,
            "margin": null,
            "max_height": null,
            "max_width": null,
            "min_height": null,
            "min_width": null,
            "object_fit": null,
            "object_position": null,
            "order": null,
            "overflow": null,
            "overflow_x": null,
            "overflow_y": null,
            "padding": null,
            "right": null,
            "top": null,
            "visibility": null,
            "width": null
          }
        },
        "833e5a23c9364d44967a055697f91127": {
          "model_module": "@jupyter-widgets/controls",
          "model_name": "ProgressStyleModel",
          "model_module_version": "1.5.0",
          "state": {
            "_model_module": "@jupyter-widgets/controls",
            "_model_module_version": "1.5.0",
            "_model_name": "ProgressStyleModel",
            "_view_count": null,
            "_view_module": "@jupyter-widgets/base",
            "_view_module_version": "1.2.0",
            "_view_name": "StyleView",
            "bar_color": null,
            "description_width": ""
          }
        },
        "a71f0cdd78dc46b4be4b850289e8c3e2": {
          "model_module": "@jupyter-widgets/base",
          "model_name": "LayoutModel",
          "model_module_version": "1.2.0",
          "state": {
            "_model_module": "@jupyter-widgets/base",
            "_model_module_version": "1.2.0",
            "_model_name": "LayoutModel",
            "_view_count": null,
            "_view_module": "@jupyter-widgets/base",
            "_view_module_version": "1.2.0",
            "_view_name": "LayoutView",
            "align_content": null,
            "align_items": null,
            "align_self": null,
            "border": null,
            "bottom": null,
            "display": null,
            "flex": null,
            "flex_flow": null,
            "grid_area": null,
            "grid_auto_columns": null,
            "grid_auto_flow": null,
            "grid_auto_rows": null,
            "grid_column": null,
            "grid_gap": null,
            "grid_row": null,
            "grid_template_areas": null,
            "grid_template_columns": null,
            "grid_template_rows": null,
            "height": null,
            "justify_content": null,
            "justify_items": null,
            "left": null,
            "margin": null,
            "max_height": null,
            "max_width": null,
            "min_height": null,
            "min_width": null,
            "object_fit": null,
            "object_position": null,
            "order": null,
            "overflow": null,
            "overflow_x": null,
            "overflow_y": null,
            "padding": null,
            "right": null,
            "top": null,
            "visibility": null,
            "width": null
          }
        },
        "8ddcb96ce3fa46da9b9027a6a1d95dab": {
          "model_module": "@jupyter-widgets/controls",
          "model_name": "DescriptionStyleModel",
          "model_module_version": "1.5.0",
          "state": {
            "_model_module": "@jupyter-widgets/controls",
            "_model_module_version": "1.5.0",
            "_model_name": "DescriptionStyleModel",
            "_view_count": null,
            "_view_module": "@jupyter-widgets/base",
            "_view_module_version": "1.2.0",
            "_view_name": "StyleView",
            "description_width": ""
          }
        }
      }
    }
  },
  "nbformat": 4,
  "nbformat_minor": 5
}